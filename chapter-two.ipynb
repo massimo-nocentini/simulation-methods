{
 "cells": [
  {
   "cell_type": "code",
   "execution_count": 1,
   "metadata": {
    "collapsed": true
   },
   "outputs": [],
   "source": [
    "from contextlib import contextmanager\n",
    "\n",
    "from sympy import *\n",
    "from sympy.abc import n, i, N, x, lamda, phi, z, m, j, r\n",
    "\n",
    "init_printing()"
   ]
  },
  {
   "cell_type": "code",
   "execution_count": 2,
   "metadata": {
    "collapsed": true
   },
   "outputs": [],
   "source": [
    "@contextmanager\n",
    "def lift_to_indexed(*syms):\n",
    "    yield map(IndexedBase, map(latex, syms))\n",
    "    \n",
    "@contextmanager\n",
    "def lift_to_Lambda(eq, return_eq=False):\n",
    "    yield Lambda(eq.lhs.args, eq if return_eq else eq.rhs)"
   ]
  },
  {
   "cell_type": "code",
   "execution_count": 3,
   "metadata": {
    "collapsed": true
   },
   "outputs": [],
   "source": [
    "phi_abstract_coefficient = IndexedBase(r'\\phi')\n",
    "\n",
    "def Phi_poly_ctor(deg, z=Symbol('z'), i=Symbol('i'), j=Symbol('j')):\n",
    "    k = symbols('k')\n",
    "    Phi = Function(r'\\Phi')\n",
    "    terms = Sum(phi_abstract_coefficient[i, j, deg-k] * z**k, (k, 0, deg)).doit()\n",
    "    return Eq(Phi(z, i, j), terms)\n"
   ]
  },
  {
   "cell_type": "code",
   "execution_count": 4,
   "metadata": {
    "collapsed": true
   },
   "outputs": [],
   "source": [
    "m = 2 # degree of \\Xi minimal polynomial"
   ]
  },
  {
   "cell_type": "code",
   "execution_count": 5,
   "metadata": {
    "collapsed": false
   },
   "outputs": [
    {
     "data": {
      "image/png": "[encoded data removed]",
      "text/latex": [
       "$$\\Phi{\\left (z,i,j \\right )} = z \\phi_{i,j,0} + \\phi_{i,j,1}$$"
      ],
      "text/plain": [
       "\\Phi(z, i, j) = z⋅\\phi[i, j, 0] + \\phi[i, j, 1]"
      ]
     },
     "execution_count": 5,
     "metadata": {},
     "output_type": "execute_result"
    }
   ],
   "source": [
    "Phi_poly = Phi_poly_ctor(deg=m-1)\n",
    "Phi_poly"
   ]
  },
  {
   "cell_type": "code",
   "execution_count": 6,
   "metadata": {
    "collapsed": false
   },
   "outputs": [
    {
     "data": {
      "image/png": "[encoded data removed]",
      "text/latex": [
       "$$\\left ( \\left( \\left ( z, \\quad i, \\quad j\\right ) \\mapsto z \\phi_{i,j,0} + \\phi_{i,j,1} \\right), \\quad z \\phi_{3,j,0} + \\phi_{3,j,1}\\right )$$"
      ],
      "text/plain": [
       "((z, i, j) ↦ z⋅\\phi[i, j, 0] + \\phi[i, j, 1], z⋅\\phi[3, j, 0] + \\phi[3, j, 1])"
      ]
     },
     "execution_count": 6,
     "metadata": {},
     "output_type": "execute_result"
    }
   ],
   "source": [
    "with lift_to_Lambda(Phi_poly) as Phi_fn:\n",
    "    pass\n",
    "\n",
    "Phi_fn, Phi_fn(z, 3, j)"
   ]
  },
  {
   "cell_type": "code",
   "execution_count": 7,
   "metadata": {
    "collapsed": false
   },
   "outputs": [
    {
     "data": {
      "image/png": "[encoded data removed]",
      "text/latex": [
       "$$\\left[\\begin{matrix}3 & 1\\\\1 & 3\\end{matrix}\\right]$$"
      ],
      "text/plain": [
       "⎡3  1⎤\n",
       "⎢    ⎥\n",
       "⎣1  3⎦"
      ]
     },
     "execution_count": 7,
     "metadata": {},
     "output_type": "execute_result"
    }
   ],
   "source": [
    "m = Matrix([\n",
    "        [3, 1],\n",
    "        [1, 3]\n",
    "    ])\n",
    "m"
   ]
  },
  {
   "cell_type": "code",
   "execution_count": 8,
   "metadata": {
    "collapsed": false
   },
   "outputs": [
    {
     "data": {
      "image/png": "[encoded data removed]",
      "text/latex": [
       "$$\\left \\{ 2 : 1, \\quad 4 : 1\\right \\}$$"
      ],
      "text/plain": [
       "{2: 1, 4: 1}"
      ]
     },
     "execution_count": 8,
     "metadata": {},
     "output_type": "execute_result"
    }
   ],
   "source": [
    "m.eigenvals()"
   ]
  },
  {
   "cell_type": "code",
   "execution_count": 9,
   "metadata": {
    "collapsed": true
   },
   "outputs": [],
   "source": [
    "lamda_indexed = IndexedBase(r'\\lambda')\n",
    "mul_indexed = IndexedBase(r'm')\n",
    "\n",
    "def eigen_data(matrix):\n",
    "    eigenvals = {}\n",
    "    multiplicities = {}\n",
    "    data = {}\n",
    "    for i, (eigen_value, multiplicity) in enumerate(matrix.eigenvals().items(), start=1):\n",
    "        eigenvals[lamda_indexed[i]] = eigen_value\n",
    "        multiplicities[mul_indexed[i]] = multiplicity\n",
    "        data[i] = lamda_indexed[i], mul_indexed[i]\n",
    "    return data, eigenvals, multiplicities"
   ]
  },
  {
   "cell_type": "code",
   "execution_count": 10,
   "metadata": {
    "collapsed": false
   },
   "outputs": [
    {
     "data": {
      "image/png": "[encoded data removed]",
      "text/latex": [
       "$$\\left ( \\left \\{ 1 : \\left ( \\lambda_{1}, \\quad m_{1}\\right ), \\quad 2 : \\left ( \\lambda_{2}, \\quad m_{2}\\right )\\right \\}, \\quad \\left \\{ \\lambda_{1} : 2, \\quad \\lambda_{2} : 4\\right \\}, \\quad \\left \\{ m_{1} : 1, \\quad m_{2} : 1\\right \\}\\right )$$"
      ],
      "text/plain": [
       "({1: (\\lambda[1], m[1]), 2: (\\lambda[2], m[2])}, {\\lambda[1]: 2, \\lambda[2]: 4\n",
       "}, {m[1]: 1, m[2]: 1})"
      ]
     },
     "execution_count": 10,
     "metadata": {},
     "output_type": "execute_result"
    }
   ],
   "source": [
    "data, eigenvals, multiplicities = eigendata = eigen_data(m)\n",
    "eigendata"
   ]
  },
  {
   "cell_type": "code",
   "execution_count": 11,
   "metadata": {
    "collapsed": false
   },
   "outputs": [],
   "source": [
    "def Phi_poly_define(Phi_poly, eigendata):\n",
    "    \n",
    "    data, eigenvals, multiplicities = eigendata\n",
    "    z, *rest = Phi_poly.lhs.args\n",
    "    \n",
    "    def maker(i, j, verbose_return=False):\n",
    "        Phi_def, delta = Function(r'\\Phi_{{ {}, {} }}'.format(i, j)), Function(r'\\delta')\n",
    "\n",
    "        with lift_to_Lambda(Phi_poly) as Phi: \n",
    "            Phi_poly_ij = Phi(z, i, j)\n",
    "\n",
    "        eqs = set()\n",
    "        for l, (lamda_l, m_l) in data.items():\n",
    "            derivatives = [(r, Eq(delta(z), Phi_poly_ij.diff(z, r-1))) for r in range(1, multiplicities[m_l]+1)]\n",
    "            for r, der in derivatives:\n",
    "                with lift_to_Lambda(der) as der_fn:\n",
    "                    eqs.add(Eq(der_fn(lamda_l), KroneckerDelta(l, i)*KroneckerDelta(r, j)))\n",
    "\n",
    "        respect_to = [phi_abstract_coefficient[i,j,k] for k in range(poly(Phi_poly_ij, z).degree()+1)]\n",
    "        sols = solve(eqs, respect_to)\n",
    "\n",
    "        lhs = Phi_def(z)\n",
    "        rhs = Phi_poly_ij.subs(sols, simultaneous=True).collect(z)\n",
    "        baked_poly = Eq(lhs, rhs)\n",
    "        return (baked_poly, Eq(lhs, Phi_poly_ij), derivatives, eqs, sols) if verbose_return else baked_poly\n",
    "    \n",
    "    return maker\n",
    "        "
   ]
  },
  {
   "cell_type": "code",
   "execution_count": 12,
   "metadata": {
    "collapsed": false
   },
   "outputs": [
    {
     "data": {
      "image/png": "[encoded data removed]",
      "text/latex": [
       "$$\\Phi_{ 1, 1 }{\\left (z \\right )} = \\frac{z}{\\lambda_{1} - \\lambda_{2}} - \\frac{\\lambda_{2}}{\\lambda_{1} - \\lambda_{2}}$$"
      ],
      "text/plain": [
       "                              z                     \\lambda[2]      \n",
       "\\Phi_{ 1, 1 }(z) = ─────────────────────── - ───────────────────────\n",
       "                   \\lambda[1] - \\lambda[2]   \\lambda[1] - \\lambda[2]"
      ]
     },
     "execution_count": 12,
     "metadata": {},
     "output_type": "execute_result"
    }
   ],
   "source": [
    "make = Phi_poly_define(Phi_poly, eigendata)\n",
    "make(i=1, j=1,)"
   ]
  },
  {
   "cell_type": "code",
   "execution_count": 13,
   "metadata": {
    "collapsed": false
   },
   "outputs": [
    {
     "data": {
      "image/png": "[encoded data removed]",
      "text/latex": [
       "$$\\Phi_{ 1, 1 }{\\left (z \\right )} = - \\frac{z}{2} + 2$$"
      ],
      "text/plain": [
       "                     z    \n",
       "\\Phi_{ 1, 1 }(z) = - ─ + 2\n",
       "                     2    "
      ]
     },
     "execution_count": 13,
     "metadata": {},
     "output_type": "execute_result"
    }
   ],
   "source": [
    "_.subs(eigenvals)"
   ]
  },
  {
   "cell_type": "code",
   "execution_count": 14,
   "metadata": {
    "collapsed": false
   },
   "outputs": [
    {
     "data": {
      "image/png": "[encoded data removed]",
      "text/latex": [
       "$$\\Phi_{ 2, 1 }{\\left (z \\right )} = - \\frac{z}{\\lambda_{1} - \\lambda_{2}} + \\frac{\\lambda_{1}}{\\lambda_{1} - \\lambda_{2}}$$"
      ],
      "text/plain": [
       "                                z                     \\lambda[1]      \n",
       "\\Phi_{ 2, 1 }(z) = - ─────────────────────── + ───────────────────────\n",
       "                     \\lambda[1] - \\lambda[2]   \\lambda[1] - \\lambda[2]"
      ]
     },
     "execution_count": 14,
     "metadata": {},
     "output_type": "execute_result"
    }
   ],
   "source": [
    "make = Phi_poly_define(Phi_poly, eigendata)\n",
    "make(i=2, j=1,)"
   ]
  },
  {
   "cell_type": "code",
   "execution_count": 20,
   "metadata": {
    "collapsed": false
   },
   "outputs": [
    {
     "data": {
      "image/png": "[encoded data removed]",
      "text/latex": [
       "$$\\Phi_{ 2, 1 }{\\left (z \\right )} = \\frac{z}{2} - 1$$"
      ],
      "text/plain": [
       "                   z    \n",
       "\\Phi_{ 2, 1 }(z) = ─ - 1\n",
       "                   2    "
      ]
     },
     "execution_count": 20,
     "metadata": {},
     "output_type": "execute_result"
    }
   ],
   "source": [
    "_.subs(eigenvals)"
   ]
  },
  {
   "cell_type": "code",
   "execution_count": 26,
   "metadata": {
    "collapsed": false
   },
   "outputs": [],
   "source": [
    "def component_polynomials(Phi_poly, eigendata):\n",
    "    \n",
    "    make = Phi_poly_define(Phi_poly, eigendata)\n",
    "    data, eigenvals, multiplicities = eigendata\n",
    "    polynomials = {(i, j): make(i, j) \n",
    "                   for i, (lamda, mul) in data.items()\n",
    "                   for j in range(1, multiplicities[mul]+1)}\n",
    "\n",
    "    return polynomials"
   ]
  },
  {
   "cell_type": "code",
   "execution_count": 27,
   "metadata": {
    "collapsed": false
   },
   "outputs": [
    {
     "data": {
      "image/png": "[encoded data removed]",
      "text/latex": [
       "$$\\left \\{ \\left ( 1, \\quad 1\\right ) : \\Phi_{ 1, 1 }{\\left (z \\right )} = \\frac{z}{\\lambda_{1} - \\lambda_{2}} - \\frac{\\lambda_{2}}{\\lambda_{1} - \\lambda_{2}}, \\quad \\left ( 2, \\quad 1\\right ) : \\Phi_{ 2, 1 }{\\left (z \\right )} = - \\frac{z}{\\lambda_{1} - \\lambda_{2}} + \\frac{\\lambda_{1}}{\\lambda_{1} - \\lambda_{2}}\\right \\}$$"
      ],
      "text/plain": [
       "⎧                                      z                     \\lambda[2]       \n",
       "⎨(1, 1): \\Phi_{ 1, 1 }(z) = ─────────────────────── - ───────────────────────,\n",
       "⎩                           \\lambda[1] - \\lambda[2]   \\lambda[1] - \\lambda[2] \n",
       "\n",
       "                                         z                     \\lambda[1]     \n",
       " (2, 1): \\Phi_{ 2, 1 }(z) = - ─────────────────────── + ──────────────────────\n",
       "                              \\lambda[1] - \\lambda[2]   \\lambda[1] - \\lambda[2\n",
       "\n",
       " ⎫\n",
       "─⎬\n",
       "]⎭"
      ]
     },
     "execution_count": 27,
     "metadata": {},
     "output_type": "execute_result"
    }
   ],
   "source": [
    "Phi_polynomials = component_polynomials(Phi_poly, eigendata)\n",
    "Phi_polynomials"
   ]
  },
  {
   "cell_type": "code",
   "execution_count": 51,
   "metadata": {
    "collapsed": true
   },
   "outputs": [],
   "source": [
    "def g_poly(f_eq, eigendata, Phi_polys, matrix_form=False):\n",
    "    \n",
    "    data, eigenvals, multiplicities = eigendata\n",
    "    delta, g = Function(r'\\delta'), Function('g')\n",
    "    Z = IndexedBase('Z')\n",
    "    z, *rest = f_eq.lhs.args\n",
    "    \n",
    "    g_poly = Integer(0)\n",
    "    \n",
    "    for i, (lamda, mul) in data.items():\n",
    "        for j in range(1, multiplicities[mul]+1):\n",
    "            with lift_to_Lambda(f_eq) as f_fn:\n",
    "                der = Eq(delta(z), f_fn(z).diff(z, j-1))\n",
    "                with lift_to_Lambda(der) as der_fn, lift_to_Lambda(Phi_polys[i, j]) as Phi:\n",
    "                    derivative_term = der_fn(lamda)\n",
    "                    Phi_term = Z[i,j] if matrix_form else Phi(z)\n",
    "                    g_poly += derivative_term*Phi_term\n",
    "    \n",
    "    return Eq(g(z), g_poly.expand().collect(z))"
   ]
  },
  {
   "cell_type": "code",
   "execution_count": 45,
   "metadata": {
    "collapsed": false
   },
   "outputs": [
    {
     "data": {
      "image/png": "[encoded data removed]",
      "text/latex": [
       "$$f{\\left (z \\right )} = h{\\left (z \\right )}$$"
      ],
      "text/plain": [
       "f(z) = h(z)"
      ]
     },
     "execution_count": 45,
     "metadata": {},
     "output_type": "execute_result"
    }
   ],
   "source": [
    "f, h = Function('f'), Function('h')\n",
    "function_eq = Eq(f(z), h(z))\n",
    "function_eq"
   ]
  },
  {
   "cell_type": "code",
   "execution_count": 83,
   "metadata": {
    "collapsed": false
   },
   "outputs": [
    {
     "data": {
      "image/png": "[encoded data removed]",
      "text/latex": [
       "$$g{\\left (z \\right )} = z \\left(\\frac{h{\\left (\\lambda_{1} \\right )}}{\\lambda_{1} - \\lambda_{2}} - \\frac{h{\\left (\\lambda_{2} \\right )}}{\\lambda_{1} - \\lambda_{2}}\\right) - \\frac{h{\\left (\\lambda_{1} \\right )} \\lambda_{2}}{\\lambda_{1} - \\lambda_{2}} + \\frac{h{\\left (\\lambda_{2} \\right )} \\lambda_{1}}{\\lambda_{1} - \\lambda_{2}}$$"
      ],
      "text/plain": [
       "         ⎛     h(\\lambda[1])             h(\\lambda[2])     ⎞   h(\\lambda[1])⋅\\\n",
       "g(z) = z⋅⎜─────────────────────── - ───────────────────────⎟ - ───────────────\n",
       "         ⎝\\lambda[1] - \\lambda[2]   \\lambda[1] - \\lambda[2]⎠   \\lambda[1] - \\l\n",
       "\n",
       "lambda[2]   h(\\lambda[2])⋅\\lambda[1]\n",
       "───────── + ────────────────────────\n",
       "ambda[2]    \\lambda[1] - \\lambda[2] "
      ]
     },
     "execution_count": 83,
     "metadata": {},
     "output_type": "execute_result"
    }
   ],
   "source": [
    "g = g_poly(function_eq, eigendata, Phi_polynomials)\n",
    "g"
   ]
  },
  {
   "cell_type": "code",
   "execution_count": 66,
   "metadata": {
    "collapsed": false
   },
   "outputs": [
    {
     "data": {
      "image/png": "[encoded data removed]",
      "text/latex": [
       "$$z \\left(- \\frac{1}{2} h{\\left (2 \\right )} + \\frac{1}{2} h{\\left (4 \\right )}\\right) + 2 h{\\left (2 \\right )} - h{\\left (4 \\right )}$$"
      ],
      "text/plain": [
       "  ⎛  h(2)   h(4)⎞                \n",
       "z⋅⎜- ──── + ────⎟ + 2⋅h(2) - h(4)\n",
       "  ⎝   2      2  ⎠                "
      ]
     },
     "execution_count": 66,
     "metadata": {},
     "output_type": "execute_result"
    }
   ],
   "source": [
    "t = _.subs(eigenvals)\n",
    "t"
   ]
  },
  {
   "cell_type": "code",
   "execution_count": 89,
   "metadata": {
    "collapsed": false
   },
   "outputs": [
    {
     "data": {
      "image/png": "[encoded data removed]",
      "text/latex": [
       "$$\\operatorname{Poly}{\\left( z \\left(\\frac{h{\\left (\\lambda_{1} \\right )}}{\\lambda_{1} - \\lambda_{2}} - \\frac{h{\\left (\\lambda_{2} \\right )}}{\\lambda_{1} - \\lambda_{2}}\\right) - \\frac{h{\\left (\\lambda_{1} \\right )} \\lambda_{2}}{\\lambda_{1} - \\lambda_{2}} + \\frac{h{\\left (\\lambda_{2} \\right )} \\lambda_{1}}{\\lambda_{1} - \\lambda_{2}}, z, domain=EX \\right)}$$"
      ],
      "text/plain": [
       "Poly((h(\\lambda[1])/(\\lambda[1] - \\lambda[2]) - h(\\lambda[2])/(\\lambda[1] - \\l\n",
       "ambda[2]))*z - h(\\lambda[1])*\\lambda[2]/(\\lambda[1] - \\lambda[2]) + h(\\lambda[\n",
       "2])*\\lambda[1]/(\\lambda[1] - \\lambda[2]), z, domain='EX')"
      ]
     },
     "execution_count": 89,
     "metadata": {},
     "output_type": "execute_result"
    }
   ],
   "source": [
    "(poly_from_expr(g.rhs, z))[0]"
   ]
  },
  {
   "cell_type": "code",
   "execution_count": 93,
   "metadata": {
    "collapsed": false
   },
   "outputs": [],
   "source": [
    "@contextmanager\n",
    "def lift_to_matrix_function(f_def):\n",
    "    \n",
    "    def lift(matrix, post=lambda c: c.simplify()):\n",
    "       \n",
    "        z, *rest = f_def.lhs.args\n",
    "        gpp, *_ = poly_from_expr(f_def.rhs, z)\n",
    "\n",
    "        I = eye(matrix.rows)\n",
    "        Z = f_def.rhs.coeff(z, gpp.degree())*I\n",
    "\n",
    "        for d in range(gpp.degree()-1, -1, -1): Z = Z*matrix + f_def.rhs.coeff(z, d)*I\n",
    "\n",
    "        return Z.applyfunc(post) if callable(post) else Z\n",
    "\n",
    "    yield lift"
   ]
  },
  {
   "cell_type": "code",
   "execution_count": 94,
   "metadata": {
    "collapsed": false
   },
   "outputs": [
    {
     "data": {
      "image/png": "[encoded data removed]",
      "text/latex": [
       "$$\\left[\\begin{matrix}\\frac{1}{\\lambda_{1} - \\lambda_{2}} \\left(- h{\\left (\\lambda_{1} \\right )} \\lambda_{2} + 3 h{\\left (\\lambda_{1} \\right )} + h{\\left (\\lambda_{2} \\right )} \\lambda_{1} - 3 h{\\left (\\lambda_{2} \\right )}\\right) & \\frac{1}{\\lambda_{1} - \\lambda_{2}} \\left(h{\\left (\\lambda_{1} \\right )} - h{\\left (\\lambda_{2} \\right )}\\right)\\\\\\frac{1}{\\lambda_{1} - \\lambda_{2}} \\left(h{\\left (\\lambda_{1} \\right )} - h{\\left (\\lambda_{2} \\right )}\\right) & \\frac{1}{\\lambda_{1} - \\lambda_{2}} \\left(- h{\\left (\\lambda_{1} \\right )} \\lambda_{2} + 3 h{\\left (\\lambda_{1} \\right )} + h{\\left (\\lambda_{2} \\right )} \\lambda_{1} - 3 h{\\left (\\lambda_{2} \\right )}\\right)\\end{matrix}\\right]$$"
      ],
      "text/plain": [
       "⎡-h(\\lambda[1])⋅\\lambda[2] + 3⋅h(\\lambda[1]) + h(\\lambda[2])⋅\\lambda[1] - 3⋅h(\n",
       "⎢─────────────────────────────────────────────────────────────────────────────\n",
       "⎢                                \\lambda[1] - \\lambda[2]                      \n",
       "⎢                                                                             \n",
       "⎢                             h(\\lambda[1]) - h(\\lambda[2])                   \n",
       "⎢                             ─────────────────────────────                   \n",
       "⎣                                \\lambda[1] - \\lambda[2]                      \n",
       "\n",
       "\\lambda[2])                               h(\\lambda[1]) - h(\\lambda[2])       \n",
       "───────────                               ─────────────────────────────       \n",
       "                                             \\lambda[1] - \\lambda[2]          \n",
       "                                                                              \n",
       "             -h(\\lambda[1])⋅\\lambda[2] + 3⋅h(\\lambda[1]) + h(\\lambda[2])⋅\\lamb\n",
       "             ─────────────────────────────────────────────────────────────────\n",
       "                                             \\lambda[1] - \\lambda[2]          \n",
       "\n",
       "                       ⎤\n",
       "                       ⎥\n",
       "                       ⎥\n",
       "                       ⎥\n",
       "da[1] - 3⋅h(\\lambda[2])⎥\n",
       "───────────────────────⎥\n",
       "                       ⎦"
      ]
     },
     "execution_count": 94,
     "metadata": {},
     "output_type": "execute_result"
    }
   ],
   "source": [
    "with lift_to_matrix_function(g) as g_fn:\n",
    "    res = g_fn(m)\n",
    "\n",
    "res"
   ]
  },
  {
   "cell_type": "code",
   "execution_count": 95,
   "metadata": {
    "collapsed": false
   },
   "outputs": [
    {
     "data": {
      "image/png": "[encoded data removed]",
      "text/latex": [
       "$$\\left[\\begin{matrix}\\frac{1}{2} h{\\left (2 \\right )} + \\frac{1}{2} h{\\left (4 \\right )} & - \\frac{1}{2} h{\\left (2 \\right )} + \\frac{1}{2} h{\\left (4 \\right )}\\\\- \\frac{1}{2} h{\\left (2 \\right )} + \\frac{1}{2} h{\\left (4 \\right )} & \\frac{1}{2} h{\\left (2 \\right )} + \\frac{1}{2} h{\\left (4 \\right )}\\end{matrix}\\right]$$"
      ],
      "text/plain": [
       "⎡ h(2)   h(4)     h(2)   h(4)⎤\n",
       "⎢ ──── + ────   - ──── + ────⎥\n",
       "⎢  2      2        2      2  ⎥\n",
       "⎢                            ⎥\n",
       "⎢  h(2)   h(4)   h(2)   h(4) ⎥\n",
       "⎢- ──── + ────   ──── + ──── ⎥\n",
       "⎣   2      2      2      2   ⎦"
      ]
     },
     "execution_count": 95,
     "metadata": {},
     "output_type": "execute_result"
    }
   ],
   "source": [
    "res.subs(eigenvals)"
   ]
  },
  {
   "cell_type": "code",
   "execution_count": 96,
   "metadata": {
    "collapsed": false,
    "scrolled": false
   },
   "outputs": [],
   "source": [
    "def component_matrices(matrix, Phi_polys):\n",
    "\n",
    "    Z_matrices = {}\n",
    "    \n",
    "    for (i, j), cp in Phi_polys.items():\n",
    "        with lift_to_matrix_function(cp) as cp_fn:\n",
    "            Z_matrices[i, j] = cp_fn(matrix)\n",
    "    \n",
    "    return Z_matrices"
   ]
  },
  {
   "cell_type": "code",
   "execution_count": 100,
   "metadata": {
    "collapsed": false
   },
   "outputs": [
    {
     "data": {
      "image/png": "[encoded data removed]",
      "text/latex": [
       "$$\\left \\{ \\left ( 1, \\quad 1\\right ) : \\left[\\begin{matrix}\\frac{- \\lambda_{2} + 3}{\\lambda_{1} - \\lambda_{2}} & \\frac{1}{\\lambda_{1} - \\lambda_{2}}\\\\\\frac{1}{\\lambda_{1} - \\lambda_{2}} & \\frac{- \\lambda_{2} + 3}{\\lambda_{1} - \\lambda_{2}}\\end{matrix}\\right], \\quad \\left ( 2, \\quad 1\\right ) : \\left[\\begin{matrix}\\frac{\\lambda_{1} - 3}{\\lambda_{1} - \\lambda_{2}} & - \\frac{1}{\\lambda_{1} - \\lambda_{2}}\\\\- \\frac{1}{\\lambda_{1} - \\lambda_{2}} & \\frac{\\lambda_{1} - 3}{\\lambda_{1} - \\lambda_{2}}\\end{matrix}\\right]\\right \\}$$"
      ],
      "text/plain": [
       "⎧        ⎡    -\\lambda[2] + 3                 1           ⎤          ⎡     \\la\n",
       "⎪(1, 1): ⎢───────────────────────  ───────────────────────⎥, (2, 1): ⎢────────\n",
       "⎪        ⎢\\lambda[1] - \\lambda[2]  \\lambda[1] - \\lambda[2]⎥          ⎢\\lambda[\n",
       "⎨        ⎢                                                ⎥          ⎢        \n",
       "⎪        ⎢           1                 -\\lambda[2] + 3    ⎥          ⎢        \n",
       "⎪        ⎢───────────────────────  ───────────────────────⎥          ⎢────────\n",
       "⎩        ⎣\\lambda[1] - \\lambda[2]  \\lambda[1] - \\lambda[2]⎦          ⎣\\lambda[\n",
       "\n",
       "mbda[1] - 3                -1           ⎤⎫\n",
       "───────────────  ───────────────────────⎥⎪\n",
       "1] - \\lambda[2]  \\lambda[1] - \\lambda[2]⎥⎪\n",
       "                                        ⎥⎬\n",
       "  -1                  \\lambda[1] - 3    ⎥⎪\n",
       "───────────────  ───────────────────────⎥⎪\n",
       "1] - \\lambda[2]  \\lambda[1] - \\lambda[2]⎦⎭"
      ]
     },
     "execution_count": 100,
     "metadata": {},
     "output_type": "execute_result"
    }
   ],
   "source": [
    "cmatrices = component_matrices(m, Phi_polynomials)\n",
    "cmatrices"
   ]
  },
  {
   "cell_type": "code",
   "execution_count": 98,
   "metadata": {
    "collapsed": false,
    "scrolled": false
   },
   "outputs": [
    {
     "data": {
      "image/png": "[encoded data removed]",
      "text/latex": [
       "$$\\left [ \\left[\\begin{matrix}\\frac{- \\lambda_{2} + 3}{\\lambda_{1} - \\lambda_{2}} & \\frac{1}{\\lambda_{1} - \\lambda_{2}}\\\\\\frac{1}{\\lambda_{1} - \\lambda_{2}} & \\frac{- \\lambda_{2} + 3}{\\lambda_{1} - \\lambda_{2}}\\end{matrix}\\right], \\quad \\left[\\begin{matrix}\\frac{\\lambda_{1} - 3}{\\lambda_{1} - \\lambda_{2}} & - \\frac{1}{\\lambda_{1} - \\lambda_{2}}\\\\- \\frac{1}{\\lambda_{1} - \\lambda_{2}} & \\frac{\\lambda_{1} - 3}{\\lambda_{1} - \\lambda_{2}}\\end{matrix}\\right]\\right ]$$"
      ],
      "text/plain": [
       "⎡⎡    -\\lambda[2] + 3                 1           ⎤  ⎡     \\lambda[1] - 3     \n",
       "⎢⎢───────────────────────  ───────────────────────⎥, ⎢─────────────────────── \n",
       "⎢⎢\\lambda[1] - \\lambda[2]  \\lambda[1] - \\lambda[2]⎥  ⎢\\lambda[1] - \\lambda[2] \n",
       "⎢⎢                                                ⎥  ⎢                        \n",
       "⎢⎢           1                 -\\lambda[2] + 3    ⎥  ⎢          -1            \n",
       "⎢⎢───────────────────────  ───────────────────────⎥  ⎢─────────────────────── \n",
       "⎣⎣\\lambda[1] - \\lambda[2]  \\lambda[1] - \\lambda[2]⎦  ⎣\\lambda[1] - \\lambda[2] \n",
       "\n",
       "           -1           ⎤⎤\n",
       " ───────────────────────⎥⎥\n",
       " \\lambda[1] - \\lambda[2]⎥⎥\n",
       "                        ⎥⎥\n",
       "      \\lambda[1] - 3    ⎥⎥\n",
       " ───────────────────────⎥⎥\n",
       " \\lambda[1] - \\lambda[2]⎦⎦"
      ]
     },
     "execution_count": 98,
     "metadata": {},
     "output_type": "execute_result"
    }
   ],
   "source": [
    "Zi1 = list(cm.as_immutable() for (i, j), cm in cmatrices.items() if j == 1)\n",
    "Zi1"
   ]
  },
  {
   "cell_type": "code",
   "execution_count": 99,
   "metadata": {
    "collapsed": false
   },
   "outputs": [
    {
     "data": {
      "image/png": "[encoded data removed]",
      "text/latex": [
       "$$\\left[\\begin{matrix}\\frac{\\lambda_{1} - 3}{\\lambda_{1} - \\lambda_{2}} + \\frac{- \\lambda_{2} + 3}{\\lambda_{1} - \\lambda_{2}} & 0\\\\0 & \\frac{\\lambda_{1} - 3}{\\lambda_{1} - \\lambda_{2}} + \\frac{- \\lambda_{2} + 3}{\\lambda_{1} - \\lambda_{2}}\\end{matrix}\\right]$$"
      ],
      "text/plain": [
       "⎡     \\lambda[1] - 3           -\\lambda[2] + 3                                \n",
       "⎢─────────────────────── + ───────────────────────                          0 \n",
       "⎢\\lambda[1] - \\lambda[2]   \\lambda[1] - \\lambda[2]                            \n",
       "⎢                                                                             \n",
       "⎢                                                        \\lambda[1] - 3       \n",
       "⎢                        0                          ─────────────────────── + \n",
       "⎣                                                   \\lambda[1] - \\lambda[2]   \n",
       "\n",
       "                       ⎤\n",
       "                       ⎥\n",
       "                       ⎥\n",
       "                       ⎥\n",
       "    -\\lambda[2] + 3    ⎥\n",
       "───────────────────────⎥\n",
       "\\lambda[1] - \\lambda[2]⎦"
      ]
     },
     "execution_count": 99,
     "metadata": {},
     "output_type": "execute_result"
    }
   ],
   "source": [
    "s = zeros(m.rows)\n",
    "for Z in Zi1:\n",
    "    s += Z\n",
    "s, s.subs(eigenvals)"
   ]
  },
  {
   "cell_type": "markdown",
   "metadata": {},
   "source": [
    "### `const`"
   ]
  },
  {
   "cell_type": "code",
   "execution_count": 101,
   "metadata": {
    "collapsed": false
   },
   "outputs": [
    {
     "data": {
      "image/png": "[encoded data removed]",
      "text/latex": [
       "$$f{\\left (z \\right )} = r$$"
      ],
      "text/plain": [
       "f(z) = r"
      ]
     },
     "execution_count": 101,
     "metadata": {},
     "output_type": "execute_result"
    }
   ],
   "source": [
    "fn = Eq(f(z), r)\n",
    "fn"
   ]
  },
  {
   "cell_type": "code",
   "execution_count": 102,
   "metadata": {
    "collapsed": false
   },
   "outputs": [
    {
     "data": {
      "image/png": "[encoded data removed]",
      "text/latex": [
       "$$g{\\left (z \\right )} = \\frac{r \\lambda_{1}}{\\lambda_{1} - \\lambda_{2}} - \\frac{r \\lambda_{2}}{\\lambda_{1} - \\lambda_{2}}$$"
      ],
      "text/plain": [
       "             r⋅\\lambda[1]              r⋅\\lambda[2]     \n",
       "g(z) = ─────────────────────── - ───────────────────────\n",
       "       \\lambda[1] - \\lambda[2]   \\lambda[1] - \\lambda[2]"
      ]
     },
     "execution_count": 102,
     "metadata": {},
     "output_type": "execute_result"
    }
   ],
   "source": [
    "g = g_poly(fn, eigendata, Phi_polynomials)\n",
    "g"
   ]
  },
  {
   "cell_type": "code",
   "execution_count": 103,
   "metadata": {
    "collapsed": false
   },
   "outputs": [
    {
     "data": {
      "image/png": "[encoded data removed]",
      "text/latex": [
       "$$g{\\left (z \\right )} = r$$"
      ],
      "text/plain": [
       "g(z) = r"
      ]
     },
     "execution_count": 103,
     "metadata": {},
     "output_type": "execute_result"
    }
   ],
   "source": [
    "g = g.subs(eigenvals)\n",
    "g"
   ]
  },
  {
   "cell_type": "code",
   "execution_count": 105,
   "metadata": {
    "collapsed": false
   },
   "outputs": [
    {
     "data": {
      "image/png": "[encoded data removed]",
      "text/latex": [
       "$$\\left[\\begin{matrix}r & 0\\\\0 & r\\end{matrix}\\right]$$"
      ],
      "text/plain": [
       "⎡r  0⎤\n",
       "⎢    ⎥\n",
       "⎣0  r⎦"
      ]
     },
     "execution_count": 105,
     "metadata": {},
     "output_type": "execute_result"
    }
   ],
   "source": [
    "with lift_to_matrix_function(g) as g_const:\n",
    "    m_const = g_const(m)\n",
    "m_const"
   ]
  },
  {
   "cell_type": "markdown",
   "metadata": {},
   "source": [
    "### `identity`"
   ]
  },
  {
   "cell_type": "code",
   "execution_count": 106,
   "metadata": {
    "collapsed": false
   },
   "outputs": [
    {
     "data": {
      "image/png": "[encoded data removed]",
      "text/latex": [
       "$$f{\\left (z \\right )} = z$$"
      ],
      "text/plain": [
       "f(z) = z"
      ]
     },
     "execution_count": 106,
     "metadata": {},
     "output_type": "execute_result"
    }
   ],
   "source": [
    "fn = Eq(f(z), z)\n",
    "fn"
   ]
  },
  {
   "cell_type": "code",
   "execution_count": 107,
   "metadata": {
    "collapsed": false
   },
   "outputs": [
    {
     "data": {
      "image/png": "[encoded data removed]",
      "text/latex": [
       "$$g{\\left (z \\right )} = \\lambda_{1} Z_{1,1} + \\lambda_{2} Z_{2,1}$$"
      ],
      "text/plain": [
       "g(z) = \\lambda[1]⋅Z[1, 1] + \\lambda[2]⋅Z[2, 1]"
      ]
     },
     "execution_count": 107,
     "metadata": {},
     "output_type": "execute_result"
    }
   ],
   "source": [
    "g = g_poly(fn, eigendata, Phi_polynomials, matrix_form=True)\n",
    "g"
   ]
  },
  {
   "cell_type": "code",
   "execution_count": 108,
   "metadata": {
    "collapsed": false
   },
   "outputs": [
    {
     "data": {
      "image/png": "[encoded data removed]",
      "text/latex": [
       "$$g{\\left (z \\right )} = z \\left(\\frac{\\lambda_{1}}{\\lambda_{1} - \\lambda_{2}} - \\frac{\\lambda_{2}}{\\lambda_{1} - \\lambda_{2}}\\right)$$"
      ],
      "text/plain": [
       "         ⎛       \\lambda[1]                \\lambda[2]      ⎞\n",
       "g(z) = z⋅⎜─────────────────────── - ───────────────────────⎟\n",
       "         ⎝\\lambda[1] - \\lambda[2]   \\lambda[1] - \\lambda[2]⎠"
      ]
     },
     "execution_count": 108,
     "metadata": {},
     "output_type": "execute_result"
    }
   ],
   "source": [
    "g = g_poly(fn, eigendata, Phi_polynomials, matrix_form=False)\n",
    "g"
   ]
  },
  {
   "cell_type": "code",
   "execution_count": 109,
   "metadata": {
    "collapsed": false
   },
   "outputs": [
    {
     "data": {
      "image/png": "[encoded data removed]",
      "text/latex": [
       "$$\\left[\\begin{matrix}3 & 1\\\\1 & 3\\end{matrix}\\right]$$"
      ],
      "text/plain": [
       "⎡3  1⎤\n",
       "⎢    ⎥\n",
       "⎣1  3⎦"
      ]
     },
     "execution_count": 109,
     "metadata": {},
     "output_type": "execute_result"
    }
   ],
   "source": [
    "with lift_to_matrix_function(g) as g_sqrt:\n",
    "    m_sqrt = g_sqrt(m)\n",
    "m_sqrt"
   ]
  },
  {
   "cell_type": "code",
   "execution_count": 110,
   "metadata": {
    "collapsed": false
   },
   "outputs": [
    {
     "data": {
      "image/png": "[encoded data removed]",
      "text/latex": [
       "$$g{\\left (z \\right )} = z$$"
      ],
      "text/plain": [
       "g(z) = z"
      ]
     },
     "execution_count": 110,
     "metadata": {},
     "output_type": "execute_result"
    }
   ],
   "source": [
    "g = g.subs(eigenvals)\n",
    "g"
   ]
  },
  {
   "cell_type": "code",
   "execution_count": 111,
   "metadata": {
    "collapsed": false
   },
   "outputs": [
    {
     "data": {
      "image/png": "[encoded data removed]",
      "text/latex": [
       "$$\\left[\\begin{matrix}3 & 1\\\\1 & 3\\end{matrix}\\right]$$"
      ],
      "text/plain": [
       "⎡3  1⎤\n",
       "⎢    ⎥\n",
       "⎣1  3⎦"
      ]
     },
     "execution_count": 111,
     "metadata": {},
     "output_type": "execute_result"
    }
   ],
   "source": [
    "with lift_to_matrix_function(g) as g_sqrt:\n",
    "    m_sqrt = g_sqrt(m)\n",
    "m_sqrt"
   ]
  },
  {
   "cell_type": "markdown",
   "metadata": {},
   "source": [
    "### `sqrt`"
   ]
  },
  {
   "cell_type": "code",
   "execution_count": 112,
   "metadata": {
    "collapsed": false
   },
   "outputs": [
    {
     "data": {
      "image/png": "[encoded data removed]",
      "text/latex": [
       "$$f{\\left (z \\right )} = \\sqrt{z}$$"
      ],
      "text/plain": [
       "f(z) = √z"
      ]
     },
     "execution_count": 112,
     "metadata": {},
     "output_type": "execute_result"
    }
   ],
   "source": [
    "fn = Eq(f(z), sqrt(z))\n",
    "fn"
   ]
  },
  {
   "cell_type": "code",
   "execution_count": 113,
   "metadata": {
    "collapsed": false
   },
   "outputs": [
    {
     "data": {
      "image/png": "[encoded data removed]",
      "text/latex": [
       "$$g{\\left (z \\right )} = z \\left(\\frac{\\sqrt{\\lambda_{1}}}{\\lambda_{1} - \\lambda_{2}} - \\frac{\\sqrt{\\lambda_{2}}}{\\lambda_{1} - \\lambda_{2}}\\right) - \\frac{\\sqrt{\\lambda_{1}} \\lambda_{2}}{\\lambda_{1} - \\lambda_{2}} + \\frac{\\lambda_{1} \\sqrt{\\lambda_{2}}}{\\lambda_{1} - \\lambda_{2}}$$"
      ],
      "text/plain": [
       "         ⎛       ____________              ____________    ⎞     ____________ \n",
       "         ⎜     ╲╱ \\lambda[1]             ╲╱ \\lambda[2]     ⎟   ╲╱ \\lambda[1] ⋅\n",
       "g(z) = z⋅⎜─────────────────────── - ───────────────────────⎟ - ───────────────\n",
       "         ⎝\\lambda[1] - \\lambda[2]   \\lambda[1] - \\lambda[2]⎠    \\lambda[1] - \\\n",
       "\n",
       "                          ____________\n",
       "\\lambda[2]   \\lambda[1]⋅╲╱ \\lambda[2] \n",
       "────────── + ─────────────────────────\n",
       "lambda[2]     \\lambda[1] - \\lambda[2] "
      ]
     },
     "execution_count": 113,
     "metadata": {},
     "output_type": "execute_result"
    }
   ],
   "source": [
    "g = g_poly(fn, eigendata, Phi_polynomials)\n",
    "g"
   ]
  },
  {
   "cell_type": "code",
   "execution_count": 114,
   "metadata": {
    "collapsed": false
   },
   "outputs": [
    {
     "data": {
      "image/png": "[encoded data removed]",
      "text/latex": [
       "$$g{\\left (z \\right )} = z \\left(- \\frac{\\sqrt{2}}{2} + 1\\right) - 2 + 2 \\sqrt{2}$$"
      ],
      "text/plain": [
       "         ⎛  √2    ⎞           \n",
       "g(z) = z⋅⎜- ── + 1⎟ - 2 + 2⋅√2\n",
       "         ⎝  2     ⎠           "
      ]
     },
     "execution_count": 114,
     "metadata": {},
     "output_type": "execute_result"
    }
   ],
   "source": [
    "g = g.subs(eigenvals)\n",
    "g"
   ]
  },
  {
   "cell_type": "code",
   "execution_count": 115,
   "metadata": {
    "collapsed": false
   },
   "outputs": [
    {
     "data": {
      "image/png": "[encoded data removed]",
      "text/latex": [
       "$$\\left[\\begin{matrix}\\frac{\\sqrt{2}}{2} + 1 & - \\frac{\\sqrt{2}}{2} + 1\\\\- \\frac{\\sqrt{2}}{2} + 1 & \\frac{\\sqrt{2}}{2} + 1\\end{matrix}\\right]$$"
      ],
      "text/plain": [
       "⎡ √2         √2    ⎤\n",
       "⎢ ── + 1   - ── + 1⎥\n",
       "⎢ 2          2     ⎥\n",
       "⎢                  ⎥\n",
       "⎢  √2       √2     ⎥\n",
       "⎢- ── + 1   ── + 1 ⎥\n",
       "⎣  2        2      ⎦"
      ]
     },
     "execution_count": 115,
     "metadata": {},
     "output_type": "execute_result"
    }
   ],
   "source": [
    "with lift_to_matrix_function(g) as g_sqrt:\n",
    "    m_sqrt = g_sqrt(m)\n",
    "m_sqrt"
   ]
  },
  {
   "cell_type": "markdown",
   "metadata": {},
   "source": [
    "### `square`"
   ]
  },
  {
   "cell_type": "code",
   "execution_count": 116,
   "metadata": {
    "collapsed": false
   },
   "outputs": [
    {
     "data": {
      "image/png": "[encoded data removed]",
      "text/latex": [
       "$$f{\\left (z \\right )} = z^{2}$$"
      ],
      "text/plain": [
       "        2\n",
       "f(z) = z "
      ]
     },
     "execution_count": 116,
     "metadata": {},
     "output_type": "execute_result"
    }
   ],
   "source": [
    "fn = Eq(f(z), z**2)\n",
    "fn"
   ]
  },
  {
   "cell_type": "code",
   "execution_count": 117,
   "metadata": {
    "collapsed": false
   },
   "outputs": [
    {
     "data": {
      "image/png": "[encoded data removed]",
      "text/latex": [
       "$$g{\\left (z \\right )} = \\lambda_{1}^{2} Z_{1,1} + \\lambda_{2}^{2} Z_{2,1}$$"
      ],
      "text/plain": [
       "                 2                     2        \n",
       "g(z) = \\lambda[1] ⋅Z[1, 1] + \\lambda[2] ⋅Z[2, 1]"
      ]
     },
     "execution_count": 117,
     "metadata": {},
     "output_type": "execute_result"
    }
   ],
   "source": [
    "g = g_poly(fn, eigendata, Phi_polynomials, matrix_form=True)\n",
    "g"
   ]
  },
  {
   "cell_type": "code",
   "execution_count": 118,
   "metadata": {
    "collapsed": false
   },
   "outputs": [
    {
     "data": {
      "image/png": "[encoded data removed]",
      "text/latex": [
       "$$g{\\left (z \\right )} = z \\left(\\frac{\\lambda_{1}^{2}}{\\lambda_{1} - \\lambda_{2}} - \\frac{\\lambda_{2}^{2}}{\\lambda_{1} - \\lambda_{2}}\\right) - \\frac{\\lambda_{1}^{2} \\lambda_{2}}{\\lambda_{1} - \\lambda_{2}} + \\frac{\\lambda_{1} \\lambda_{2}^{2}}{\\lambda_{1} - \\lambda_{2}}$$"
      ],
      "text/plain": [
       "         ⎛                2                         2      ⎞              2   \n",
       "         ⎜      \\lambda[1]                \\lambda[2]       ⎟    \\lambda[1] ⋅\\l\n",
       "g(z) = z⋅⎜─────────────────────── - ───────────────────────⎟ - ───────────────\n",
       "         ⎝\\lambda[1] - \\lambda[2]   \\lambda[1] - \\lambda[2]⎠   \\lambda[1] - \\l\n",
       "\n",
       "                                 2\n",
       "ambda[2]    \\lambda[1]⋅\\lambda[2] \n",
       "──────── + ───────────────────────\n",
       "ambda[2]   \\lambda[1] - \\lambda[2]"
      ]
     },
     "execution_count": 118,
     "metadata": {},
     "output_type": "execute_result"
    }
   ],
   "source": [
    "g = g_poly(fn, eigendata, Phi_polynomials)\n",
    "g"
   ]
  },
  {
   "cell_type": "code",
   "execution_count": 119,
   "metadata": {
    "collapsed": false
   },
   "outputs": [
    {
     "data": {
      "image/png": "[encoded data removed]",
      "text/latex": [
       "$$g{\\left (z \\right )} = 6 z - 8$$"
      ],
      "text/plain": [
       "g(z) = 6⋅z - 8"
      ]
     },
     "execution_count": 119,
     "metadata": {},
     "output_type": "execute_result"
    }
   ],
   "source": [
    "g = g.subs(eigenvals)\n",
    "g"
   ]
  },
  {
   "cell_type": "code",
   "execution_count": 120,
   "metadata": {
    "collapsed": false
   },
   "outputs": [
    {
     "data": {
      "image/png": "[encoded data removed]",
      "text/latex": [
       "$$\\left[\\begin{matrix}10 & 6\\\\6 & 10\\end{matrix}\\right]$$"
      ],
      "text/plain": [
       "⎡10  6 ⎤\n",
       "⎢      ⎥\n",
       "⎣6   10⎦"
      ]
     },
     "execution_count": 120,
     "metadata": {},
     "output_type": "execute_result"
    }
   ],
   "source": [
    "with lift_to_matrix_function(g) as g_sqrt:\n",
    "    m_sqrt = g_sqrt(m)\n",
    "m_sqrt"
   ]
  },
  {
   "cell_type": "markdown",
   "metadata": {},
   "source": [
    "### `log`"
   ]
  },
  {
   "cell_type": "code",
   "execution_count": 121,
   "metadata": {
    "collapsed": false
   },
   "outputs": [
    {
     "data": {
      "image/png": "[encoded data removed]",
      "text/latex": [
       "$$f{\\left (z \\right )} = \\frac{\\log{\\left (z \\right )}}{\\log{\\left (2 \\right )}}$$"
      ],
      "text/plain": [
       "       log(z)\n",
       "f(z) = ──────\n",
       "       log(2)"
      ]
     },
     "execution_count": 121,
     "metadata": {},
     "output_type": "execute_result"
    }
   ],
   "source": [
    "fn = Eq(f(z), log(z, 2))\n",
    "fn"
   ]
  },
  {
   "cell_type": "code",
   "execution_count": 122,
   "metadata": {
    "collapsed": false
   },
   "outputs": [
    {
     "data": {
      "image/png": "[encoded data removed]",
      "text/latex": [
       "$$g{\\left (z \\right )} = z \\left(\\frac{\\log{\\left (\\lambda_{1} \\right )}}{\\log{\\left (2 \\right )} \\lambda_{1} - \\log{\\left (2 \\right )} \\lambda_{2}} - \\frac{\\log{\\left (\\lambda_{2} \\right )}}{\\log{\\left (2 \\right )} \\lambda_{1} - \\log{\\left (2 \\right )} \\lambda_{2}}\\right) - \\frac{\\log{\\left (\\lambda_{1} \\right )} \\lambda_{2}}{\\log{\\left (2 \\right )} \\lambda_{1} - \\log{\\left (2 \\right )} \\lambda_{2}} + \\frac{\\log{\\left (\\lambda_{2} \\right )} \\lambda_{1}}{\\log{\\left (2 \\right )} \\lambda_{1} - \\log{\\left (2 \\right )} \\lambda_{2}}$$"
      ],
      "text/plain": [
       "         ⎛           log(\\lambda[1])                         log(\\lambda[2])  \n",
       "g(z) = z⋅⎜───────────────────────────────────── - ────────────────────────────\n",
       "         ⎝log(2)⋅\\lambda[1] - log(2)⋅\\lambda[2]   log(2)⋅\\lambda[1] - log(2)⋅\\\n",
       "\n",
       "         ⎞         log(\\lambda[1])⋅\\lambda[2]              log(\\lambda[2])⋅\\la\n",
       "─────────⎟ - ───────────────────────────────────── + ─────────────────────────\n",
       "lambda[2]⎠   log(2)⋅\\lambda[1] - log(2)⋅\\lambda[2]   log(2)⋅\\lambda[1] - log(2\n",
       "\n",
       "mbda[1]     \n",
       "────────────\n",
       ")⋅\\lambda[2]"
      ]
     },
     "execution_count": 122,
     "metadata": {},
     "output_type": "execute_result"
    }
   ],
   "source": [
    "g = g_poly(fn, eigendata, Phi_polynomials)\n",
    "g"
   ]
  },
  {
   "cell_type": "code",
   "execution_count": 123,
   "metadata": {
    "collapsed": false
   },
   "outputs": [
    {
     "data": {
      "image/png": "[encoded data removed]",
      "text/latex": [
       "$$g{\\left (z \\right )} = z \\left(- \\frac{1}{2} + \\frac{\\log{\\left (4 \\right )}}{2 \\log{\\left (2 \\right )}}\\right) - \\frac{\\log{\\left (4 \\right )}}{\\log{\\left (2 \\right )}} + 2$$"
      ],
      "text/plain": [
       "         ⎛  1    log(4) ⎞   log(4)    \n",
       "g(z) = z⋅⎜- ─ + ────────⎟ - ────── + 2\n",
       "         ⎝  2   2⋅log(2)⎠   log(2)    "
      ]
     },
     "execution_count": 123,
     "metadata": {},
     "output_type": "execute_result"
    }
   ],
   "source": [
    "g = g.subs(eigenvals)\n",
    "g"
   ]
  },
  {
   "cell_type": "code",
   "execution_count": 124,
   "metadata": {
    "collapsed": false
   },
   "outputs": [
    {
     "data": {
      "image/png": "[encoded data removed]",
      "text/latex": [
       "$$\\left[\\begin{matrix}\\frac{3}{2} & \\frac{1}{2}\\\\\\frac{1}{2} & \\frac{3}{2}\\end{matrix}\\right]$$"
      ],
      "text/plain": [
       "⎡3/2  1/2⎤\n",
       "⎢        ⎥\n",
       "⎣1/2  3/2⎦"
      ]
     },
     "execution_count": 124,
     "metadata": {},
     "output_type": "execute_result"
    }
   ],
   "source": [
    "with lift_to_matrix_function(g) as g_log2:\n",
    "    m_log2 = g_log2(m)\n",
    "m_log2"
   ]
  },
  {
   "cell_type": "markdown",
   "metadata": {},
   "source": [
    "### `inverse`"
   ]
  },
  {
   "cell_type": "code",
   "execution_count": 125,
   "metadata": {
    "collapsed": false
   },
   "outputs": [
    {
     "data": {
      "image/png": "[encoded data removed]",
      "text/latex": [
       "$$f{\\left (z \\right )} = \\frac{1}{z}$$"
      ],
      "text/plain": [
       "       1\n",
       "f(z) = ─\n",
       "       z"
      ]
     },
     "execution_count": 125,
     "metadata": {},
     "output_type": "execute_result"
    }
   ],
   "source": [
    "fn = Eq(f(z), 1/z)\n",
    "fn"
   ]
  },
  {
   "cell_type": "code",
   "execution_count": 126,
   "metadata": {
    "collapsed": false
   },
   "outputs": [
    {
     "data": {
      "image/png": "[encoded data removed]",
      "text/latex": [
       "$$g{\\left (z \\right )} = z \\left(\\frac{1}{\\lambda_{1}^{2} - \\lambda_{1} \\lambda_{2}} - \\frac{1}{\\lambda_{1} \\lambda_{2} - \\lambda_{2}^{2}}\\right) - \\frac{\\lambda_{2}}{\\lambda_{1}^{2} - \\lambda_{1} \\lambda_{2}} + \\frac{\\lambda_{1}}{\\lambda_{1} \\lambda_{2} - \\lambda_{2}^{2}}$$"
      ],
      "text/plain": [
       "         ⎛                 1                                     1            \n",
       "g(z) = z⋅⎜─────────────────────────────────── - ──────────────────────────────\n",
       "         ⎜          2                                                         \n",
       "         ⎝\\lambda[1]  - \\lambda[1]⋅\\lambda[2]   \\lambda[1]⋅\\lambda[2] - \\lambd\n",
       "\n",
       "     ⎞                \\lambda[2]                            \\lambda[1]        \n",
       "─────⎟ - ─────────────────────────────────── + ───────────────────────────────\n",
       "    2⎟             2                                                          \n",
       "a[2] ⎠   \\lambda[1]  - \\lambda[1]⋅\\lambda[2]   \\lambda[1]⋅\\lambda[2] - \\lambda\n",
       "\n",
       "    \n",
       "────\n",
       "   2\n",
       "[2] "
      ]
     },
     "execution_count": 126,
     "metadata": {},
     "output_type": "execute_result"
    }
   ],
   "source": [
    "g = g_poly(fn, eigendata, Phi_polynomials)\n",
    "g"
   ]
  },
  {
   "cell_type": "code",
   "execution_count": 127,
   "metadata": {
    "collapsed": false
   },
   "outputs": [
    {
     "data": {
      "image/png": "[encoded data removed]",
      "text/latex": [
       "$$g{\\left (z \\right )} = - \\frac{z}{8} + \\frac{3}{4}$$"
      ],
      "text/plain": [
       "         z   3\n",
       "g(z) = - ─ + ─\n",
       "         8   4"
      ]
     },
     "execution_count": 127,
     "metadata": {},
     "output_type": "execute_result"
    }
   ],
   "source": [
    "g = g.subs(eigenvals)\n",
    "g"
   ]
  },
  {
   "cell_type": "code",
   "execution_count": 128,
   "metadata": {
    "collapsed": false
   },
   "outputs": [
    {
     "data": {
      "image/png": "[encoded data removed]",
      "text/latex": [
       "$$\\left[\\begin{matrix}\\frac{3}{8} & - \\frac{1}{8}\\\\- \\frac{1}{8} & \\frac{3}{8}\\end{matrix}\\right]$$"
      ],
      "text/plain": [
       "⎡3/8   -1/8⎤\n",
       "⎢          ⎥\n",
       "⎣-1/8  3/8 ⎦"
      ]
     },
     "execution_count": 128,
     "metadata": {},
     "output_type": "execute_result"
    }
   ],
   "source": [
    "with lift_to_matrix_function(g) as g_inverse:\n",
    "    m_inverse = g_inverse(m)\n",
    "m_inverse"
   ]
  },
  {
   "cell_type": "markdown",
   "metadata": {},
   "source": [
    "### `expt`"
   ]
  },
  {
   "cell_type": "code",
   "execution_count": 129,
   "metadata": {
    "collapsed": false
   },
   "outputs": [
    {
     "data": {
      "image/png": "[encoded data removed]",
      "text/latex": [
       "$$f{\\left (z \\right )} = e^{z}$$"
      ],
      "text/plain": [
       "        z\n",
       "f(z) = ℯ "
      ]
     },
     "execution_count": 129,
     "metadata": {},
     "output_type": "execute_result"
    }
   ],
   "source": [
    "fn = Eq(f(z), exp(z))\n",
    "fn"
   ]
  },
  {
   "cell_type": "code",
   "execution_count": 130,
   "metadata": {
    "collapsed": false
   },
   "outputs": [
    {
     "data": {
      "image/png": "[encoded data removed]",
      "text/latex": [
       "$$g{\\left (z \\right )} = z \\left(\\frac{e^{\\lambda_{1}}}{\\lambda_{1} - \\lambda_{2}} - \\frac{e^{\\lambda_{2}}}{\\lambda_{1} - \\lambda_{2}}\\right) - \\frac{e^{\\lambda_{1}} \\lambda_{2}}{\\lambda_{1} - \\lambda_{2}} + \\frac{e^{\\lambda_{2}} \\lambda_{1}}{\\lambda_{1} - \\lambda_{2}}$$"
      ],
      "text/plain": [
       "         ⎛       \\lambda[1]                \\lambda[2]      ⎞     \\lambda[1]   \n",
       "         ⎜      ℯ                         ℯ                ⎟    ℯ          ⋅\\l\n",
       "g(z) = z⋅⎜─────────────────────── - ───────────────────────⎟ - ───────────────\n",
       "         ⎝\\lambda[1] - \\lambda[2]   \\lambda[1] - \\lambda[2]⎠   \\lambda[1] - \\l\n",
       "\n",
       "             \\lambda[2]           \n",
       "ambda[2]    ℯ          ⋅\\lambda[1]\n",
       "──────── + ───────────────────────\n",
       "ambda[2]   \\lambda[1] - \\lambda[2]"
      ]
     },
     "execution_count": 130,
     "metadata": {},
     "output_type": "execute_result"
    }
   ],
   "source": [
    "g = g_poly(fn, eigendata, Phi_polynomials)\n",
    "g"
   ]
  },
  {
   "cell_type": "code",
   "execution_count": 131,
   "metadata": {
    "collapsed": false
   },
   "outputs": [
    {
     "data": {
      "image/png": "[encoded data removed]",
      "text/latex": [
       "$$g{\\left (z \\right )} = z \\left(- \\frac{e^{2}}{2} + \\frac{e^{4}}{2}\\right) - e^{4} + 2 e^{2}$$"
      ],
      "text/plain": [
       "         ⎛   2    4⎞            \n",
       "         ⎜  ℯ    ℯ ⎟    4      2\n",
       "g(z) = z⋅⎜- ── + ──⎟ - ℯ  + 2⋅ℯ \n",
       "         ⎝  2    2 ⎠            "
      ]
     },
     "execution_count": 131,
     "metadata": {},
     "output_type": "execute_result"
    }
   ],
   "source": [
    "g = g.subs(eigenvals)\n",
    "g"
   ]
  },
  {
   "cell_type": "code",
   "execution_count": 132,
   "metadata": {
    "collapsed": false
   },
   "outputs": [
    {
     "data": {
      "image/png": "[encoded data removed]",
      "text/latex": [
       "$$\\left[\\begin{matrix}\\frac{e^{2}}{2} \\left(1 + e^{2}\\right) & \\frac{e^{2}}{2} \\left(-1 + e^{2}\\right)\\\\\\frac{e^{2}}{2} \\left(-1 + e^{2}\\right) & \\frac{e^{2}}{2} \\left(1 + e^{2}\\right)\\end{matrix}\\right]$$"
      ],
      "text/plain": [
       "⎡⎛     2⎞  2   ⎛      2⎞  2⎤\n",
       "⎢⎝1 + ℯ ⎠⋅ℯ    ⎝-1 + ℯ ⎠⋅ℯ ⎥\n",
       "⎢───────────   ────────────⎥\n",
       "⎢     2             2      ⎥\n",
       "⎢                          ⎥\n",
       "⎢⎛      2⎞  2  ⎛     2⎞  2 ⎥\n",
       "⎢⎝-1 + ℯ ⎠⋅ℯ   ⎝1 + ℯ ⎠⋅ℯ  ⎥\n",
       "⎢────────────  ─────────── ⎥\n",
       "⎣     2             2      ⎦"
      ]
     },
     "execution_count": 132,
     "metadata": {},
     "output_type": "execute_result"
    }
   ],
   "source": [
    "with lift_to_matrix_function(g) as g_inverse:\n",
    "    m_inverse = g_inverse(m)\n",
    "m_inverse"
   ]
  },
  {
   "cell_type": "markdown",
   "metadata": {},
   "source": [
    "## a bigger matrix"
   ]
  },
  {
   "cell_type": "code",
   "execution_count": 186,
   "metadata": {
    "collapsed": false
   },
   "outputs": [
    {
     "data": {
      "image/png": "[encoded data removed]",
      "text/latex": [
       "$$\\left[\\begin{matrix}1 & 0 & 0\\\\1 & 1 & -1\\\\-2 & 0 & 3\\end{matrix}\\right]$$"
      ],
      "text/plain": [
       "⎡1   0  0 ⎤\n",
       "⎢         ⎥\n",
       "⎢1   1  -1⎥\n",
       "⎢         ⎥\n",
       "⎣-2  0  3 ⎦"
      ]
     },
     "execution_count": 186,
     "metadata": {},
     "output_type": "execute_result"
    }
   ],
   "source": [
    "m = Matrix([\n",
    "        [1, 0, 0],\n",
    "        [1, 1, -1],\n",
    "        [-2, 0, 3],\n",
    "    ])\n",
    "m"
   ]
  },
  {
   "cell_type": "code",
   "execution_count": 188,
   "metadata": {
    "collapsed": false
   },
   "outputs": [
    {
     "data": {
      "image/png": "[encoded data removed]",
      "text/latex": [
       "$$\\left ( \\left \\{ 1 : \\left ( \\lambda_{1}, \\quad m_{1}\\right ), \\quad 2 : \\left ( \\lambda_{2}, \\quad m_{2}\\right )\\right \\}, \\quad \\left \\{ \\lambda_{1} : 1, \\quad \\lambda_{2} : 3\\right \\}, \\quad \\left \\{ m_{1} : 2, \\quad m_{2} : 1\\right \\}\\right )$$"
      ],
      "text/plain": [
       "({1: (\\lambda[1], m[1]), 2: (\\lambda[2], m[2])}, {\\lambda[1]: 1, \\lambda[2]: 3\n",
       "}, {m[1]: 2, m[2]: 1})"
      ]
     },
     "execution_count": 188,
     "metadata": {},
     "output_type": "execute_result"
    }
   ],
   "source": [
    "data, eigenvals, multiplicities = eigendata = eigen_data(m)\n",
    "eigendata"
   ]
  },
  {
   "cell_type": "code",
   "execution_count": 197,
   "metadata": {
    "collapsed": true
   },
   "outputs": [],
   "source": [
    "m_bar = 3 # degree of \\Xi minimal polynomial"
   ]
  },
  {
   "cell_type": "code",
   "execution_count": 198,
   "metadata": {
    "collapsed": false
   },
   "outputs": [
    {
     "data": {
      "image/png": "[encoded data removed]",
      "text/latex": [
       "$$\\Phi{\\left (z,i,j \\right )} = z^{2} \\phi_{i,j,0} + z \\phi_{i,j,1} + \\phi_{i,j,2}$$"
      ],
      "text/plain": [
       "                 2                                                \n",
       "\\Phi(z, i, j) = z ⋅\\phi[i, j, 0] + z⋅\\phi[i, j, 1] + \\phi[i, j, 2]"
      ]
     },
     "execution_count": 198,
     "metadata": {},
     "output_type": "execute_result"
    }
   ],
   "source": [
    "Phi_poly = Phi_poly_ctor(deg=m_bar-1)\n",
    "Phi_poly"
   ]
  },
  {
   "cell_type": "code",
   "execution_count": 199,
   "metadata": {
    "collapsed": false
   },
   "outputs": [
    {
     "data": {
      "image/png": "[encoded data removed]",
      "text/latex": [
       "$$\\Phi_{ 1, 1 }{\\left (z \\right )} = - \\frac{z^{2}}{\\lambda_{1}^{2} - 2 \\lambda_{1} \\lambda_{2} + \\lambda_{2}^{2}} + \\frac{2 z \\lambda_{1}}{\\lambda_{1}^{2} - 2 \\lambda_{1} \\lambda_{2} + \\lambda_{2}^{2}} + \\frac{\\left(- 2 \\lambda_{1} + \\lambda_{2}\\right) \\lambda_{2}}{\\lambda_{1}^{2} - 2 \\lambda_{1} \\lambda_{2} + \\lambda_{2}^{2}}$$"
      ],
      "text/plain": [
       "                                               2                              \n",
       "                                              z                               \n",
       "\\Phi_{ 1, 1 }(z) = - ─────────────────────────────────────────────────── + ───\n",
       "                               2                                       2      \n",
       "                     \\lambda[1]  - 2⋅\\lambda[1]⋅\\lambda[2] + \\lambda[2]    \\la\n",
       "\n",
       "                                                                              \n",
       "                2⋅z⋅\\lambda[1]                           (-2⋅\\lambda[1] + \\lam\n",
       "──────────────────────────────────────────────── + ───────────────────────────\n",
       "       2                                       2             2                \n",
       "mbda[1]  - 2⋅\\lambda[1]⋅\\lambda[2] + \\lambda[2]    \\lambda[1]  - 2⋅\\lambda[1]⋅\n",
       "\n",
       "                        \n",
       "bda[2])⋅\\lambda[2]      \n",
       "────────────────────────\n",
       "                       2\n",
       "\\lambda[2] + \\lambda[2] "
      ]
     },
     "execution_count": 199,
     "metadata": {},
     "output_type": "execute_result"
    }
   ],
   "source": [
    "make = Phi_poly_define(Phi_poly, eigendata=eigendata)\n",
    "make(i=1, j=1,)"
   ]
  },
  {
   "cell_type": "code",
   "execution_count": 200,
   "metadata": {
    "collapsed": false
   },
   "outputs": [
    {
     "data": {
      "image/png": "[encoded data removed]",
      "text/latex": [
       "$$\\Phi_{ 1, 1 }{\\left (z \\right )} = - \\frac{z^{2}}{4} + \\frac{z}{2} + \\frac{3}{4}$$"
      ],
      "text/plain": [
       "                      2        \n",
       "                     z    z   3\n",
       "\\Phi_{ 1, 1 }(z) = - ── + ─ + ─\n",
       "                     4    2   4"
      ]
     },
     "execution_count": 200,
     "metadata": {},
     "output_type": "execute_result"
    }
   ],
   "source": [
    "_.subs(eigenvals)"
   ]
  },
  {
   "cell_type": "code",
   "execution_count": 201,
   "metadata": {
    "collapsed": false
   },
   "outputs": [
    {
     "data": {
      "image/png": "[encoded data removed]",
      "text/latex": [
       "$$\\left \\{ \\left ( 1, \\quad 1\\right ) : \\Phi_{ 1, 1 }{\\left (z \\right )} = - \\frac{z^{2}}{\\lambda_{1}^{2} - 2 \\lambda_{1} \\lambda_{2} + \\lambda_{2}^{2}} + \\frac{2 z \\lambda_{1}}{\\lambda_{1}^{2} - 2 \\lambda_{1} \\lambda_{2} + \\lambda_{2}^{2}} + \\frac{\\left(- 2 \\lambda_{1} + \\lambda_{2}\\right) \\lambda_{2}}{\\lambda_{1}^{2} - 2 \\lambda_{1} \\lambda_{2} + \\lambda_{2}^{2}}, \\quad \\left ( 1, \\quad 2\\right ) : \\Phi_{ 1, 2 }{\\left (z \\right )} = \\frac{z^{2}}{\\lambda_{1} - \\lambda_{2}} - \\frac{z \\left(\\lambda_{1} + \\lambda_{2}\\right)}{\\lambda_{1} - \\lambda_{2}} + \\frac{\\lambda_{1} \\lambda_{2}}{\\lambda_{1} - \\lambda_{2}}, \\quad \\left ( 2, \\quad 1\\right ) : \\Phi_{ 2, 1 }{\\left (z \\right )} = \\frac{z^{2}}{\\lambda_{1}^{2} - 2 \\lambda_{1} \\lambda_{2} + \\lambda_{2}^{2}} - \\frac{2 z \\lambda_{1}}{\\lambda_{1}^{2} - 2 \\lambda_{1} \\lambda_{2} + \\lambda_{2}^{2}} + \\frac{\\lambda_{1}^{2}}{\\lambda_{1}^{2} - 2 \\lambda_{1} \\lambda_{2} + \\lambda_{2}^{2}}\\right \\}$$"
      ],
      "text/plain": [
       "⎧                                                       2                     \n",
       "⎪                                                      z                      \n",
       "⎨(1, 1): \\Phi_{ 1, 1 }(z) = - ────────────────────────────────────────────────\n",
       "⎪                                       2                                     \n",
       "⎩                             \\lambda[1]  - 2⋅\\lambda[1]⋅\\lambda[2] + \\lambda[\n",
       "\n",
       "                                                                              \n",
       "                         2⋅z⋅\\lambda[1]                           (-2⋅\\lambda[\n",
       "─── + ─────────────────────────────────────────────────── + ──────────────────\n",
       "  2             2                                       2             2       \n",
       "2]    \\lambda[1]  - 2⋅\\lambda[1]⋅\\lambda[2] + \\lambda[2]    \\lambda[1]  - 2⋅\\l\n",
       "\n",
       "                                                                          2   \n",
       "1] + \\lambda[2])⋅\\lambda[2]                                              z    \n",
       "─────────────────────────────────, (1, 2): \\Phi_{ 1, 2 }(z) = ────────────────\n",
       "                                2                             \\lambda[1] - \\la\n",
       "ambda[1]⋅\\lambda[2] + \\lambda[2]                                              \n",
       "\n",
       "                                                                              \n",
       "          z⋅(\\lambda[1] + \\lambda[2])    \\lambda[1]⋅\\lambda[2]                \n",
       "─────── - ─────────────────────────── + ───────────────────────, (2, 1): \\Phi_\n",
       "mbda[2]     \\lambda[1] - \\lambda[2]     \\lambda[1] - \\lambda[2]               \n",
       "                                                                              \n",
       "\n",
       "                                        2                                     \n",
       "                                       z                                      \n",
       "{ 2, 1 }(z) = ─────────────────────────────────────────────────── - ──────────\n",
       "                        2                                       2             \n",
       "              \\lambda[1]  - 2⋅\\lambda[1]⋅\\lambda[2] + \\lambda[2]    \\lambda[1]\n",
       "\n",
       "                                                                          2   \n",
       "         2⋅z⋅\\lambda[1]                                         \\lambda[1]    \n",
       "───────────────────────────────────────── + ──────────────────────────────────\n",
       "2                                       2             2                       \n",
       "  - 2⋅\\lambda[1]⋅\\lambda[2] + \\lambda[2]    \\lambda[1]  - 2⋅\\lambda[1]⋅\\lambda\n",
       "\n",
       "                 ⎫\n",
       "                 ⎪\n",
       "─────────────────⎬\n",
       "                2⎪\n",
       "[2] + \\lambda[2] ⎭"
      ]
     },
     "execution_count": 201,
     "metadata": {},
     "output_type": "execute_result"
    }
   ],
   "source": [
    "Phi_polynomials = component_polynomials(Phi_poly, eigendata)\n",
    "Phi_polynomials"
   ]
  },
  {
   "cell_type": "code",
   "execution_count": 202,
   "metadata": {
    "collapsed": false
   },
   "outputs": [
    {
     "data": {
      "image/png": "[encoded data removed]",
      "text/latex": [
       "$$\\left \\{ \\left ( 1, \\quad 1\\right ) : \\left[\\begin{matrix}\\frac{- \\left(2 \\lambda_{1} - \\lambda_{2}\\right) \\lambda_{2} + 2 \\lambda_{1} - 1}{\\lambda_{1}^{2} - 2 \\lambda_{1} \\lambda_{2} + \\lambda_{2}^{2}} & 0 & 0\\\\\\frac{2 \\lambda_{1} - 4}{\\lambda_{1}^{2} - 2 \\lambda_{1} \\lambda_{2} + \\lambda_{2}^{2}} & \\frac{- \\left(2 \\lambda_{1} - \\lambda_{2}\\right) \\lambda_{2} + 2 \\lambda_{1} - 1}{\\lambda_{1}^{2} - 2 \\lambda_{1} \\lambda_{2} + \\lambda_{2}^{2}} & \\frac{- 2 \\lambda_{1} + 4}{\\lambda_{1}^{2} - 2 \\lambda_{1} \\lambda_{2} + \\lambda_{2}^{2}}\\\\\\frac{- 4 \\lambda_{1} + 8}{\\lambda_{1}^{2} - 2 \\lambda_{1} \\lambda_{2} + \\lambda_{2}^{2}} & 0 & \\frac{- \\left(2 \\lambda_{1} - \\lambda_{2}\\right) \\lambda_{2} + 6 \\lambda_{1} - 9}{\\lambda_{1}^{2} - 2 \\lambda_{1} \\lambda_{2} + \\lambda_{2}^{2}}\\end{matrix}\\right], \\quad \\left ( 1, \\quad 2\\right ) : \\left[\\begin{matrix}\\frac{1}{\\lambda_{1} - \\lambda_{2}} \\left(\\lambda_{1} \\lambda_{2} - \\lambda_{1} - \\lambda_{2} + 1\\right) & 0 & 0\\\\\\frac{- \\lambda_{1} - \\lambda_{2} + 4}{\\lambda_{1} - \\lambda_{2}} & \\frac{1}{\\lambda_{1} - \\lambda_{2}} \\left(\\lambda_{1} \\lambda_{2} - \\lambda_{1} - \\lambda_{2} + 1\\right) & \\frac{\\lambda_{1} + \\lambda_{2} - 4}{\\lambda_{1} - \\lambda_{2}}\\\\\\frac{1}{\\lambda_{1} - \\lambda_{2}} \\left(2 \\lambda_{1} + 2 \\lambda_{2} - 8\\right) & 0 & \\frac{1}{\\lambda_{1} - \\lambda_{2}} \\left(\\lambda_{1} \\lambda_{2} - 3 \\lambda_{1} - 3 \\lambda_{2} + 9\\right)\\end{matrix}\\right], \\quad \\left ( 2, \\quad 1\\right ) : \\left[\\begin{matrix}\\frac{\\lambda_{1}^{2} - 2 \\lambda_{1} + 1}{\\lambda_{1}^{2} - 2 \\lambda_{1} \\lambda_{2} + \\lambda_{2}^{2}} & 0 & 0\\\\\\frac{- 2 \\lambda_{1} + 4}{\\lambda_{1}^{2} - 2 \\lambda_{1} \\lambda_{2} + \\lambda_{2}^{2}} & \\frac{\\lambda_{1}^{2} - 2 \\lambda_{1} + 1}{\\lambda_{1}^{2} - 2 \\lambda_{1} \\lambda_{2} + \\lambda_{2}^{2}} & \\frac{2 \\lambda_{1} - 4}{\\lambda_{1}^{2} - 2 \\lambda_{1} \\lambda_{2} + \\lambda_{2}^{2}}\\\\\\frac{4 \\lambda_{1} - 8}{\\lambda_{1}^{2} - 2 \\lambda_{1} \\lambda_{2} + \\lambda_{2}^{2}} & 0 & \\frac{\\lambda_{1}^{2} - 6 \\lambda_{1} + 9}{\\lambda_{1}^{2} - 2 \\lambda_{1} \\lambda_{2} + \\lambda_{2}^{2}}\\end{matrix}\\right]\\right \\}$$"
      ],
      "text/plain": [
       "⎧                                                                             \n",
       "⎪        ⎡-(2⋅\\lambda[1] - \\lambda[2])⋅\\lambda[2] + 2⋅\\lambda[1] - 1          \n",
       "⎪(1, 1): ⎢──────────────────────────────────────────────────────────          \n",
       "⎪        ⎢             2                                       2              \n",
       "⎪        ⎢   \\lambda[1]  - 2⋅\\lambda[1]⋅\\lambda[2] + \\lambda[2]               \n",
       "⎪        ⎢                                                                    \n",
       "⎪        ⎢                    2⋅(\\lambda[1] - 2)                      -(2⋅\\lam\n",
       "⎪        ⎢   ───────────────────────────────────────────────────      ────────\n",
       "⎨        ⎢             2                                       2              \n",
       "⎪        ⎢   \\lambda[1]  - 2⋅\\lambda[1]⋅\\lambda[2] + \\lambda[2]          \\lamb\n",
       "⎪        ⎢                                                                    \n",
       "⎪        ⎢                   4⋅(-\\lambda[1] + 2)                              \n",
       "⎪        ⎢   ───────────────────────────────────────────────────              \n",
       "⎪        ⎢             2                                       2              \n",
       "⎪        ⎣   \\lambda[1]  - 2⋅\\lambda[1]⋅\\lambda[2] + \\lambda[2]               \n",
       "⎪                                                                             \n",
       "⎩                                                                             \n",
       "\n",
       "                                                                              \n",
       "                                                                              \n",
       "                    0                                                         \n",
       "                                                                              \n",
       "                                                                              \n",
       "                                                                              \n",
       "bda[1] - \\lambda[2])⋅\\lambda[2] + 2⋅\\lambda[1] - 1                     2⋅(-\\la\n",
       "──────────────────────────────────────────────────     ───────────────────────\n",
       "     2                                       2                   2            \n",
       "da[1]  - 2⋅\\lambda[1]⋅\\lambda[2] + \\lambda[2]          \\lambda[1]  - 2⋅\\lambda\n",
       "                                                                              \n",
       "                                                    -(2⋅\\lambda[1] - \\lambda[2\n",
       "                    0                               ──────────────────────────\n",
       "                                                                 2            \n",
       "                                                       \\lambda[1]  - 2⋅\\lambda\n",
       "                                                                              \n",
       "                                                                              \n",
       "\n",
       "                                                                              \n",
       "                                ⎤          ⎡\\lambda[1]⋅\\lambda[2] - \\lambda[1]\n",
       "  0                             ⎥, (1, 2): ⎢──────────────────────────────────\n",
       "                                ⎥          ⎢              \\lambda[1] - \\lambda\n",
       "                                ⎥          ⎢                                  \n",
       "                                ⎥          ⎢           -\\lambda[1] - \\lambda[2\n",
       "mbda[1] + 2)                    ⎥          ⎢           ───────────────────────\n",
       "────────────────────────────    ⎥          ⎢             \\lambda[1] - \\lambda[\n",
       "                           2    ⎥          ⎢                                  \n",
       "[1]⋅\\lambda[2] + \\lambda[2]     ⎥          ⎢          2⋅(\\lambda[1] + \\lambda[\n",
       "                                ⎥          ⎢          ────────────────────────\n",
       "])⋅\\lambda[2] + 6⋅\\lambda[1] - 9⎥          ⎣              \\lambda[1] - \\lambda\n",
       "────────────────────────────────⎥                                             \n",
       "                           2    ⎥                                             \n",
       "[1]⋅\\lambda[2] + \\lambda[2]     ⎦                                             \n",
       "                                                                              \n",
       "                                                                              \n",
       "\n",
       "                                                                              \n",
       " - \\lambda[2] + 1                                                             \n",
       "─────────────────                           0                                 \n",
       "[2]                                                                           \n",
       "                                                                              \n",
       "] + 4              \\lambda[1]⋅\\lambda[2] - \\lambda[1] - \\lambda[2] + 1        \n",
       "─────              ───────────────────────────────────────────────────        \n",
       "2]                               \\lambda[1] - \\lambda[2]                      \n",
       "                                                                              \n",
       "2] - 4)                                                                 \\lambd\n",
       "───────                                     0                           ──────\n",
       "[2]                                                                           \n",
       "                                                                              \n",
       "                                                                              \n",
       "                                                                              \n",
       "                                                                              \n",
       "                                                                              \n",
       "\n",
       "                                                            ⎡                 \n",
       "                                                 ⎤          ⎢           \\lambd\n",
       "                     0                           ⎥, (2, 1): ⎢─────────────────\n",
       "                                                 ⎥          ⎢          2      \n",
       "                                                 ⎥          ⎢\\lambda[1]  - 2⋅\\\n",
       "        \\lambda[1] + \\lambda[2] - 4              ⎥          ⎢                 \n",
       "        ───────────────────────────              ⎥          ⎢                 \n",
       "          \\lambda[1] - \\lambda[2]                ⎥          ⎢                2\n",
       "                                                 ⎥          ⎢─────────────────\n",
       "a[1]⋅\\lambda[2] - 3⋅\\lambda[1] - 3⋅\\lambda[2] + 9⎥          ⎢          2      \n",
       "─────────────────────────────────────────────────⎥          ⎢\\lambda[1]  - 2⋅\\\n",
       "          \\lambda[1] - \\lambda[2]                ⎦          ⎢                 \n",
       "                                                            ⎢                 \n",
       "                                                            ⎢                 \n",
       "                                                            ⎢─────────────────\n",
       "                                                            ⎢          2      \n",
       "                                                            ⎣\\lambda[1]  - 2⋅\\\n",
       "\n",
       "    2                                                                         \n",
       "a[1]  - 2⋅\\lambda[1] + 1                                                      \n",
       "──────────────────────────────────                           0                \n",
       "                                 2                                            \n",
       "lambda[1]⋅\\lambda[2] + \\lambda[2]                                             \n",
       "                                                                              \n",
       "                                                         2                    \n",
       "⋅(-\\lambda[1] + 2)                             \\lambda[1]  - 2⋅\\lambda[1] + 1 \n",
       "──────────────────────────────────  ──────────────────────────────────────────\n",
       "                                 2            2                               \n",
       "lambda[1]⋅\\lambda[2] + \\lambda[2]   \\lambda[1]  - 2⋅\\lambda[1]⋅\\lambda[2] + \\l\n",
       "                                                                              \n",
       "                                                                              \n",
       "4⋅(\\lambda[1] - 2)                                                            \n",
       "──────────────────────────────────                           0                \n",
       "                                 2                                            \n",
       "lambda[1]⋅\\lambda[2] + \\lambda[2]                                             \n",
       "\n",
       "                                                              ⎤⎫\n",
       "                                                              ⎥⎪\n",
       "                                    0                         ⎥⎪\n",
       "                                                              ⎥⎪\n",
       "                                                              ⎥⎪\n",
       "                                                              ⎥⎪\n",
       "                                                              ⎥⎪\n",
       "                            2⋅(\\lambda[1] - 2)                ⎥⎪\n",
       "─────────  ───────────────────────────────────────────────────⎥⎬\n",
       "        2            2                                       2⎥⎪\n",
       "ambda[2]   \\lambda[1]  - 2⋅\\lambda[1]⋅\\lambda[2] + \\lambda[2] ⎥⎪\n",
       "                                                              ⎥⎪\n",
       "                                2                             ⎥⎪\n",
       "                      \\lambda[1]  - 6⋅\\lambda[1] + 9          ⎥⎪\n",
       "           ───────────────────────────────────────────────────⎥⎪\n",
       "                     2                                       2⎥⎪\n",
       "           \\lambda[1]  - 2⋅\\lambda[1]⋅\\lambda[2] + \\lambda[2] ⎦⎭"
      ]
     },
     "execution_count": 202,
     "metadata": {},
     "output_type": "execute_result"
    }
   ],
   "source": [
    "cmatrices = component_matrices(m, Phi_polynomials)\n",
    "cmatrices"
   ]
  },
  {
   "cell_type": "code",
   "execution_count": 203,
   "metadata": {
    "collapsed": false,
    "scrolled": false
   },
   "outputs": [
    {
     "data": {
      "image/png": "[encoded data removed]",
      "text/latex": [
       "$$\\left ( \\left[\\begin{matrix}\\frac{- \\left(2 \\lambda_{1} - \\lambda_{2}\\right) \\lambda_{2} + 2 \\lambda_{1} - 1}{\\lambda_{1}^{2} - 2 \\lambda_{1} \\lambda_{2} + \\lambda_{2}^{2}} + \\frac{\\lambda_{1}^{2} - 2 \\lambda_{1} + 1}{\\lambda_{1}^{2} - 2 \\lambda_{1} \\lambda_{2} + \\lambda_{2}^{2}} & 0 & 0\\\\\\frac{- 2 \\lambda_{1} + 4}{\\lambda_{1}^{2} - 2 \\lambda_{1} \\lambda_{2} + \\lambda_{2}^{2}} + \\frac{2 \\lambda_{1} - 4}{\\lambda_{1}^{2} - 2 \\lambda_{1} \\lambda_{2} + \\lambda_{2}^{2}} & \\frac{- \\left(2 \\lambda_{1} - \\lambda_{2}\\right) \\lambda_{2} + 2 \\lambda_{1} - 1}{\\lambda_{1}^{2} - 2 \\lambda_{1} \\lambda_{2} + \\lambda_{2}^{2}} + \\frac{\\lambda_{1}^{2} - 2 \\lambda_{1} + 1}{\\lambda_{1}^{2} - 2 \\lambda_{1} \\lambda_{2} + \\lambda_{2}^{2}} & \\frac{- 2 \\lambda_{1} + 4}{\\lambda_{1}^{2} - 2 \\lambda_{1} \\lambda_{2} + \\lambda_{2}^{2}} + \\frac{2 \\lambda_{1} - 4}{\\lambda_{1}^{2} - 2 \\lambda_{1} \\lambda_{2} + \\lambda_{2}^{2}}\\\\\\frac{- 4 \\lambda_{1} + 8}{\\lambda_{1}^{2} - 2 \\lambda_{1} \\lambda_{2} + \\lambda_{2}^{2}} + \\frac{4 \\lambda_{1} - 8}{\\lambda_{1}^{2} - 2 \\lambda_{1} \\lambda_{2} + \\lambda_{2}^{2}} & 0 & \\frac{- \\left(2 \\lambda_{1} - \\lambda_{2}\\right) \\lambda_{2} + 6 \\lambda_{1} - 9}{\\lambda_{1}^{2} - 2 \\lambda_{1} \\lambda_{2} + \\lambda_{2}^{2}} + \\frac{\\lambda_{1}^{2} - 6 \\lambda_{1} + 9}{\\lambda_{1}^{2} - 2 \\lambda_{1} \\lambda_{2} + \\lambda_{2}^{2}}\\end{matrix}\\right], \\quad \\left[\\begin{matrix}1 & 0 & 0\\\\0 & 1 & 0\\\\0 & 0 & 1\\end{matrix}\\right], \\quad \\left[\\begin{matrix}1 & 0 & 0\\\\0 & 1 & 0\\\\0 & 0 & 1\\end{matrix}\\right]\\right )$$"
      ],
      "text/plain": [
       "⎛⎡                                                                            \n",
       "⎜⎢-(2⋅\\lambda[1] - \\lambda[2])⋅\\lambda[2] + 2⋅\\lambda[1] - 1              \\lam\n",
       "⎜⎢────────────────────────────────────────────────────────── + ───────────────\n",
       "⎜⎢             2                                       2                 2    \n",
       "⎜⎢   \\lambda[1]  - 2⋅\\lambda[1]⋅\\lambda[2] + \\lambda[2]        \\lambda[1]  - 2\n",
       "⎜⎢                                                                            \n",
       "⎜⎢                                                                            \n",
       "⎜⎢                   2⋅(-\\lambda[1] + 2)                                    2⋅\n",
       "⎜⎢   ─────────────────────────────────────────────────── + ───────────────────\n",
       "⎜⎢             2                                       2             2        \n",
       "⎜⎢   \\lambda[1]  - 2⋅\\lambda[1]⋅\\lambda[2] + \\lambda[2]    \\lambda[1]  - 2⋅\\la\n",
       "⎜⎢                                                                            \n",
       "⎜⎢                                                                            \n",
       "⎜⎢                   4⋅(-\\lambda[1] + 2)                                    4⋅\n",
       "⎜⎢   ─────────────────────────────────────────────────── + ───────────────────\n",
       "⎜⎢             2                                       2             2        \n",
       "⎝⎣   \\lambda[1]  - 2⋅\\lambda[1]⋅\\lambda[2] + \\lambda[2]    \\lambda[1]  - 2⋅\\la\n",
       "\n",
       "      2                                                                       \n",
       "bda[1]  - 2⋅\\lambda[1] + 1                                                    \n",
       "────────────────────────────────────                                          \n",
       "                                   2                                          \n",
       "⋅\\lambda[1]⋅\\lambda[2] + \\lambda[2]                                           \n",
       "                                                                              \n",
       "                                                                              \n",
       "(\\lambda[1] - 2)                      -(2⋅\\lambda[1] - \\lambda[2])⋅\\lambda[2] \n",
       "────────────────────────────────      ────────────────────────────────────────\n",
       "                               2                   2                          \n",
       "mbda[1]⋅\\lambda[2] + \\lambda[2]          \\lambda[1]  - 2⋅\\lambda[1]⋅\\lambda[2]\n",
       "                                                                              \n",
       "                                                                              \n",
       "(\\lambda[1] - 2)                                                              \n",
       "────────────────────────────────                                              \n",
       "                               2                                              \n",
       "mbda[1]⋅\\lambda[2] + \\lambda[2]                                               \n",
       "\n",
       "                                                                              \n",
       "                                                                              \n",
       "               0                                                              \n",
       "                                                                              \n",
       "                                                                              \n",
       "                                                                              \n",
       "                                          2                                   \n",
       "+ 2⋅\\lambda[1] - 1              \\lambda[1]  - 2⋅\\lambda[1] + 1                \n",
       "────────────────── + ───────────────────────────────────────────────────     ─\n",
       "             2                 2                                       2      \n",
       " + \\lambda[2]        \\lambda[1]  - 2⋅\\lambda[1]⋅\\lambda[2] + \\lambda[2]      \\\n",
       "                                                                              \n",
       "                                                                              \n",
       "                                                                          -(2⋅\n",
       "               0                                                          ────\n",
       "                                                                              \n",
       "                                                                             \\\n",
       "\n",
       "                                                                              \n",
       "                                                                              \n",
       "                                                   0                          \n",
       "                                                                              \n",
       "                                                                              \n",
       "                                                                              \n",
       "                                                                              \n",
       "               2⋅(-\\lambda[1] + 2)                                    2⋅(\\lamb\n",
       "────────────────────────────────────────────────── + ─────────────────────────\n",
       "         2                                       2             2              \n",
       "lambda[1]  - 2⋅\\lambda[1]⋅\\lambda[2] + \\lambda[2]    \\lambda[1]  - 2⋅\\lambda[1\n",
       "                                                                              \n",
       "                                                                              \n",
       "\\lambda[1] - \\lambda[2])⋅\\lambda[2] + 6⋅\\lambda[1] - 9              \\lambda[1]\n",
       "────────────────────────────────────────────────────── + ─────────────────────\n",
       "         2                                       2                 2          \n",
       "lambda[1]  - 2⋅\\lambda[1]⋅\\lambda[2] + \\lambda[2]        \\lambda[1]  - 2⋅\\lamb\n",
       "\n",
       "                              ⎤                      ⎞\n",
       "                              ⎥                      ⎟\n",
       "                              ⎥, ⎡1  0  0⎤, ⎡1  0  0⎤⎟\n",
       "                              ⎥  ⎢       ⎥  ⎢       ⎥⎟\n",
       "                              ⎥  ⎢0  1  0⎥  ⎢0  1  0⎥⎟\n",
       "                              ⎥  ⎢       ⎥  ⎢       ⎥⎟\n",
       "                              ⎥  ⎣0  0  1⎦  ⎣0  0  1⎦⎟\n",
       "da[1] - 2)                    ⎥                      ⎟\n",
       "──────────────────────────    ⎥                      ⎟\n",
       "                         2    ⎥                      ⎟\n",
       "]⋅\\lambda[2] + \\lambda[2]     ⎥                      ⎟\n",
       "                              ⎥                      ⎟\n",
       "2                             ⎥                      ⎟\n",
       "  - 6⋅\\lambda[1] + 9          ⎥                      ⎟\n",
       "──────────────────────────────⎥                      ⎟\n",
       "                             2⎥                      ⎟\n",
       "da[1]⋅\\lambda[2] + \\lambda[2] ⎦                      ⎠"
      ]
     },
     "execution_count": 203,
     "metadata": {},
     "output_type": "execute_result"
    }
   ],
   "source": [
    "Zi1 = list(cm.as_immutable() for (i, j), cm in cmatrices.items() if j == 1)\n",
    "\n",
    "s = zeros(m.rows)\n",
    "for Z in Zi1:\n",
    "    s += Z\n",
    "s, s.simplify(), s.subs(eigenvals)"
   ]
  },
  {
   "cell_type": "code",
   "execution_count": 204,
   "metadata": {
    "collapsed": false
   },
   "outputs": [
    {
     "data": {
      "image/png": "[encoded data removed]",
      "text/latex": [
       "$$f{\\left (z \\right )} = \\frac{1}{z}$$"
      ],
      "text/plain": [
       "       1\n",
       "f(z) = ─\n",
       "       z"
      ]
     },
     "execution_count": 204,
     "metadata": {},
     "output_type": "execute_result"
    }
   ],
   "source": [
    "f, h = Function('f'), Function('h')\n",
    "function_eq = Eq(f(z), 1/(z))\n",
    "function_eq"
   ]
  },
  {
   "cell_type": "code",
   "execution_count": 205,
   "metadata": {
    "collapsed": false
   },
   "outputs": [
    {
     "data": {
      "image/png": "[encoded data removed]",
      "text/latex": [
       "$$g{\\left (z \\right )} = z^{2} \\left(- \\frac{1}{\\lambda_{1}^{3} - 2 \\lambda_{1}^{2} \\lambda_{2} + \\lambda_{1} \\lambda_{2}^{2}} + \\frac{1}{\\lambda_{1}^{2} \\lambda_{2} - 2 \\lambda_{1} \\lambda_{2}^{2} + \\lambda_{2}^{3}} - \\frac{1}{\\lambda_{1}^{3} - \\lambda_{1}^{2} \\lambda_{2}}\\right) + z \\left(\\frac{2}{\\lambda_{1}^{2} - 2 \\lambda_{1} \\lambda_{2} + \\lambda_{2}^{2}} - \\frac{2 \\lambda_{1}}{\\lambda_{1}^{2} \\lambda_{2} - 2 \\lambda_{1} \\lambda_{2}^{2} + \\lambda_{2}^{3}} + \\frac{\\lambda_{2}}{\\lambda_{1}^{3} - \\lambda_{1}^{2} \\lambda_{2}} + \\frac{1}{\\lambda_{1}^{2} - \\lambda_{1} \\lambda_{2}}\\right) + \\frac{\\lambda_{2}^{2}}{\\lambda_{1}^{3} - 2 \\lambda_{1}^{2} \\lambda_{2} + \\lambda_{1} \\lambda_{2}^{2}} - \\frac{2 \\lambda_{2}}{\\lambda_{1}^{2} - 2 \\lambda_{1} \\lambda_{2} + \\lambda_{2}^{2}} + \\frac{\\lambda_{1}^{2}}{\\lambda_{1}^{2} \\lambda_{2} - 2 \\lambda_{1} \\lambda_{2}^{2} + \\lambda_{2}^{3}} - \\frac{\\lambda_{2}}{\\lambda_{1}^{2} - \\lambda_{1} \\lambda_{2}}$$"
      ],
      "text/plain": [
       "                                                                              \n",
       "        2 ⎛                                 1                                 \n",
       "g(z) = z ⋅⎜- ─────────────────────────────────────────────────────────────── +\n",
       "          ⎜            3               2                                   2  \n",
       "          ⎝  \\lambda[1]  - 2⋅\\lambda[1] ⋅\\lambda[2] + \\lambda[1]⋅\\lambda[2]   \n",
       "\n",
       "                                                                              \n",
       "                                1                                             \n",
       " ─────────────────────────────────────────────────────────────── - ───────────\n",
       "           2                                     2             3             3\n",
       " \\lambda[1] ⋅\\lambda[2] - 2⋅\\lambda[1]⋅\\lambda[2]  + \\lambda[2]    \\lambda[1] \n",
       "\n",
       "                                                                              \n",
       "      1                  ⎞     ⎛                         2                    \n",
       "─────────────────────────⎟ + z⋅⎜──────────────────────────────────────────────\n",
       "             2           ⎟     ⎜          2                                   \n",
       " - \\lambda[1] ⋅\\lambda[2]⎠     ⎝\\lambda[1]  - 2⋅\\lambda[1]⋅\\lambda[2] + \\lambd\n",
       "\n",
       "                                                                              \n",
       "                                  2⋅\\lambda[1]                                \n",
       "───── - ─────────────────────────────────────────────────────────────── + ────\n",
       "    2             2                                     2             3       \n",
       "a[2]    \\lambda[1] ⋅\\lambda[2] - 2⋅\\lambda[1]⋅\\lambda[2]  + \\lambda[2]    \\lam\n",
       "\n",
       "                                                                              \n",
       "         \\lambda[2]                                 1                 ⎞       \n",
       "──────────────────────────────── + ───────────────────────────────────⎟ + ────\n",
       "      3             2                        2                        ⎟       \n",
       "bda[1]  - \\lambda[1] ⋅\\lambda[2]   \\lambda[1]  - \\lambda[1]⋅\\lambda[2]⎠   \\lam\n",
       "\n",
       "                                2                                             \n",
       "                      \\lambda[2]                                              \n",
       "─────────────────────────────────────────────────────────── - ────────────────\n",
       "      3               2                                   2             2     \n",
       "bda[1]  - 2⋅\\lambda[1] ⋅\\lambda[2] + \\lambda[1]⋅\\lambda[2]    \\lambda[1]  - 2⋅\n",
       "\n",
       "                                                                          2   \n",
       "    2⋅\\lambda[2]                                                \\lambda[1]    \n",
       "─────────────────────────────────── + ────────────────────────────────────────\n",
       "                                  2             2                             \n",
       "\\lambda[1]⋅\\lambda[2] + \\lambda[2]    \\lambda[1] ⋅\\lambda[2] - 2⋅\\lambda[1]⋅\\l\n",
       "\n",
       "                                                             \n",
       "                                       \\lambda[2]            \n",
       "─────────────────────── - ───────────────────────────────────\n",
       "        2             3             2                        \n",
       "ambda[2]  + \\lambda[2]    \\lambda[1]  - \\lambda[1]⋅\\lambda[2]"
      ]
     },
     "execution_count": 205,
     "metadata": {},
     "output_type": "execute_result"
    }
   ],
   "source": [
    "g = g_poly(function_eq, eigendata, Phi_polynomials)\n",
    "g"
   ]
  },
  {
   "cell_type": "code",
   "execution_count": 206,
   "metadata": {
    "collapsed": false
   },
   "outputs": [
    {
     "data": {
      "image/png": "[encoded data removed]",
      "text/latex": [
       "$$g{\\left (z \\right )} = \\frac{z^{2}}{3} - \\frac{5 z}{3} + \\frac{7}{3}$$"
      ],
      "text/plain": [
       "        2          \n",
       "       z    5⋅z   7\n",
       "g(z) = ── - ─── + ─\n",
       "       3     3    3"
      ]
     },
     "execution_count": 206,
     "metadata": {},
     "output_type": "execute_result"
    }
   ],
   "source": [
    "g = g.subs(eigenvals)\n",
    "g"
   ]
  },
  {
   "cell_type": "code",
   "execution_count": 207,
   "metadata": {
    "collapsed": false
   },
   "outputs": [
    {
     "data": {
      "image/png": "[encoded data removed]",
      "text/latex": [
       "$$\\left[\\begin{matrix}1 & 0 & 0\\\\- \\frac{1}{3} & 1 & \\frac{1}{3}\\\\\\frac{2}{3} & 0 & \\frac{1}{3}\\end{matrix}\\right]$$"
      ],
      "text/plain": [
       "⎡ 1    0   0 ⎤\n",
       "⎢            ⎥\n",
       "⎢-1/3  1  1/3⎥\n",
       "⎢            ⎥\n",
       "⎣2/3   0  1/3⎦"
      ]
     },
     "execution_count": 207,
     "metadata": {},
     "output_type": "execute_result"
    }
   ],
   "source": [
    "with lift_to_matrix_function(g) as g_inverse:\n",
    "    m_inverse = g_inverse(m)\n",
    "m_inverse"
   ]
  },
  {
   "cell_type": "code",
   "execution_count": 209,
   "metadata": {
    "collapsed": false
   },
   "outputs": [
    {
     "data": {
      "image/png": "[encoded data removed]",
      "text/latex": [
       "$$\\left[\\begin{matrix}1 & 0 & 0\\\\0 & 1 & 0\\\\0 & 0 & 1\\end{matrix}\\right]$$"
      ],
      "text/plain": [
       "⎡1  0  0⎤\n",
       "⎢       ⎥\n",
       "⎢0  1  0⎥\n",
       "⎢       ⎥\n",
       "⎣0  0  1⎦"
      ]
     },
     "execution_count": 209,
     "metadata": {},
     "output_type": "execute_result"
    }
   ],
   "source": [
    "m_inverse*m"
   ]
  },
  {
   "cell_type": "markdown",
   "metadata": {},
   "source": [
    "---"
   ]
  },
  {
   "cell_type": "code",
   "execution_count": 119,
   "metadata": {
    "collapsed": true
   },
   "outputs": [],
   "source": [
    "p = Function('p')\n",
    "y, c, z = IndexedBase('y'),IndexedBase('c'), IndexedBase('z')"
   ]
  },
  {
   "cell_type": "code",
   "execution_count": 120,
   "metadata": {
    "collapsed": false
   },
   "outputs": [
    {
     "data": {
      "image/png": "[encoded data removed]",
      "text/latex": [
       "$$p{\\left (z \\right )} = z^{2} - z - 1$$"
      ],
      "text/plain": [
       "        2        \n",
       "p(z) = z  - z - 1"
      ]
     },
     "execution_count": 120,
     "metadata": {},
     "output_type": "execute_result"
    }
   ],
   "source": [
    "fibonacci_poly = Eq(p(z), z**2 -z -1)\n",
    "fibonacci_poly"
   ]
  },
  {
   "cell_type": "code",
   "execution_count": 121,
   "metadata": {
    "collapsed": false
   },
   "outputs": [
    {
     "data": {
      "image/png": "[encoded data removed]",
      "text/latex": [
       "$$\\left \\{ z_{1} : \\frac{1}{2} \\left(1 + \\sqrt{5}\\right), \\quad z_{2} : - \\frac{1}{2} \\left(-1 + \\sqrt{5}\\right)\\right \\}$$"
      ],
      "text/plain": [
       "⎧      1 + √5        -(-1 + √5) ⎫\n",
       "⎨z[1]: ──────, z[2]: ───────────⎬\n",
       "⎩        2                2     ⎭"
      ]
     },
     "execution_count": 121,
     "metadata": {},
     "output_type": "execute_result"
    }
   ],
   "source": [
    "zs = solve(fibonacci_poly.rhs, [z])\n",
    "zs ={z[i]:v for i, v in enumerate(map(factor, sorted(zs, reverse=True)), start=1)}\n",
    "zs"
   ]
  },
  {
   "cell_type": "code",
   "execution_count": 122,
   "metadata": {
    "collapsed": false
   },
   "outputs": [
    {
     "data": {
      "image/png": "[encoded data removed]",
      "text/latex": [
       "$$y_{n} = c_{1} z_{1}^{n} + c_{2} z_{2}^{n}$$"
      ],
      "text/plain": [
       "                n            n\n",
       "y[n] = c[1]⋅z[1]  + c[2]⋅z[2] "
      ]
     },
     "execution_count": 122,
     "metadata": {},
     "output_type": "execute_result"
    }
   ],
   "source": [
    "solution = Eq(y[n], c[1]*z[1]**n + c[2]*z[2]**n)\n",
    "solution"
   ]
  },
  {
   "cell_type": "code",
   "execution_count": 129,
   "metadata": {
    "collapsed": false
   },
   "outputs": [
    {
     "data": {
      "image/png": "[encoded data removed]",
      "text/latex": [
       "$$\\left [ 0 = c_{1} + c_{2}, \\quad 1 = c_{1} z_{1} + c_{2} z_{2}\\right ]$$"
      ],
      "text/plain": [
       "[0 = c[1] + c[2], 1 = c[1]⋅z[1] + c[2]⋅z[2]]"
      ]
     },
     "execution_count": 129,
     "metadata": {},
     "output_type": "execute_result"
    }
   ],
   "source": [
    "initial_conditions = {0:0, 1:1}\n",
    "system = [solution.subs({n:k}).subs({y[k]:v}) for k, v in initial_conditions.items()]\n",
    "system"
   ]
  },
  {
   "cell_type": "code",
   "execution_count": 130,
   "metadata": {
    "collapsed": false
   },
   "outputs": [
    {
     "data": {
      "image/png": "[encoded data removed]",
      "text/latex": [
       "$$\\left \\{ c_{1} : \\frac{1}{z_{1} - z_{2}}, \\quad c_{2} : - \\frac{1}{z_{1} - z_{2}}\\right \\}$$"
      ],
      "text/plain": [
       "⎧           1                 -1     ⎫\n",
       "⎨c[1]: ───────────, c[2]: ───────────⎬\n",
       "⎩      z[1] - z[2]        z[1] - z[2]⎭"
      ]
     },
     "execution_count": 130,
     "metadata": {},
     "output_type": "execute_result"
    }
   ],
   "source": [
    "instantiated_sols = solve(system, [c[1],c[2]])\n",
    "instantiated_sols"
   ]
  },
  {
   "cell_type": "code",
   "execution_count": 131,
   "metadata": {
    "collapsed": false
   },
   "outputs": [
    {
     "data": {
      "image/png": "[encoded data removed]",
      "text/latex": [
       "$$\\left \\{ c_{1} : \\frac{\\sqrt{5}}{5}, \\quad c_{2} : - \\frac{\\sqrt{5}}{5}\\right \\}$$"
      ],
      "text/plain": [
       "⎧      √5        -√5 ⎫\n",
       "⎨c[1]: ──, c[2]: ────⎬\n",
       "⎩      5          5  ⎭"
      ]
     },
     "execution_count": 131,
     "metadata": {},
     "output_type": "execute_result"
    }
   ],
   "source": [
    "coeffs = {k: v.subs({z[1]:z1, z[2]:z2}).factor() for k,v in instantiated_sols.items()}\n",
    "coeffs"
   ]
  },
  {
   "cell_type": "code",
   "execution_count": 132,
   "metadata": {
    "collapsed": false
   },
   "outputs": [
    {
     "data": {
      "image/png": "[encoded data removed]",
      "text/latex": [
       "$$y_{n} = \\frac{\\sqrt{5}}{5} \\left(\\frac{1}{2} \\left(1 + \\sqrt{5}\\right)\\right)^{n} - \\frac{\\sqrt{5}}{5} \\left(- \\frac{1}{2} \\left(-1 + \\sqrt{5}\\right)\\right)^{n}$$"
      ],
      "text/plain": [
       "                  n                   n\n",
       "          ⎛1 + √5⎞       ⎛-(-1 + √5) ⎞ \n",
       "       √5⋅⎜──────⎟    √5⋅⎜───────────⎟ \n",
       "          ⎝  2   ⎠       ⎝     2     ⎠ \n",
       "y[n] = ──────────── - ─────────────────\n",
       "            5                 5        "
      ]
     },
     "execution_count": 132,
     "metadata": {},
     "output_type": "execute_result"
    }
   ],
   "source": [
    "complete_sol = solution.subs(coeffs).subs(zs)\n",
    "complete_sol"
   ]
  },
  {
   "cell_type": "code",
   "execution_count": 133,
   "metadata": {
    "collapsed": false
   },
   "outputs": [
    {
     "data": {
      "image/png": "[encoded data removed]",
      "text/latex": [
       "$$\\left [ y_{0} = 0, \\quad y_{1} = 1, \\quad y_{2} = 1, \\quad y_{3} = 2, \\quad y_{4} = 3, \\quad y_{5} = 5, \\quad y_{6} = 8, \\quad y_{7} = 13, \\quad y_{8} = 21, \\quad y_{9} = 34, \\quad y_{10} = 55, \\quad y_{11} = 89, \\quad y_{12} = 144, \\quad y_{13} = 233, \\quad y_{14} = 377\\right ]$$"
      ],
      "text/plain": [
       "[y[0] = 0, y[1] = 1, y[2] = 1, y[3] = 2, y[4] = 3, y[5] = 5, y[6] = 8, y[7] = \n",
       "13, y[8] = 21, y[9] = 34, y[10] = 55, y[11] = 89, y[12] = 144, y[13] = 233, y[\n",
       "14] = 377]"
      ]
     },
     "execution_count": 133,
     "metadata": {},
     "output_type": "execute_result"
    }
   ],
   "source": [
    "[complete_sol.subs(n,i).factor() for i in range(15)]"
   ]
  },
  {
   "cell_type": "code",
   "execution_count": null,
   "metadata": {
    "collapsed": true
   },
   "outputs": [],
   "source": []
  }
 ],
 "metadata": {
  "kernelspec": {
   "display_name": "Python 3",
   "language": "python",
   "name": "python3"
  },
  "language_info": {
   "codemirror_mode": {
    "name": "ipython",
    "version": 3
   },
   "file_extension": ".py",
   "mimetype": "text/x-python",
   "name": "python",
   "nbconvert_exporter": "python",
   "pygments_lexer": "ipython3",
   "version": "3.5.2"
  }
 },
 "nbformat": 4,
 "nbformat_minor": 1
}
