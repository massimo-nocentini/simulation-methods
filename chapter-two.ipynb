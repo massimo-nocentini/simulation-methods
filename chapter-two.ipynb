{
 "cells": [
  {
   "cell_type": "code",
   "execution_count": 1,
   "metadata": {
    "collapsed": true
   },
   "outputs": [],
   "source": [
    "from contextlib import contextmanager\n",
    "\n",
    "from sympy import *\n",
    "from sympy.abc import n, i, N, x, lamda, phi, z, m, j, r\n",
    "\n",
    "init_printing()"
   ]
  },
  {
   "cell_type": "code",
   "execution_count": 2,
   "metadata": {
    "collapsed": true
   },
   "outputs": [],
   "source": [
    "@contextmanager\n",
    "def lift_to_indexed(*syms):\n",
    "    yield map(IndexedBase, map(latex, syms))\n",
    "    \n",
    "@contextmanager\n",
    "def lift_to_Lambda(eq, return_eq=False):\n",
    "    yield Lambda(eq.lhs.args, eq if return_eq else eq.rhs)"
   ]
  },
  {
   "cell_type": "code",
   "execution_count": 3,
   "metadata": {
    "collapsed": true
   },
   "outputs": [],
   "source": [
    "phi_abstract_coefficient = IndexedBase(r'\\phi')\n",
    "\n",
    "def Phi_poly_ctor(deg, z=Symbol('z'), i=Symbol('i'), j=Symbol('j')):\n",
    "    k = symbols('k')\n",
    "    Phi = Function(r'\\Phi')\n",
    "    terms = Sum(phi_abstract_coefficient[i, j, deg-k] * z**k, (k, 0, deg)).doit()\n",
    "    return Eq(Phi(z, i, j), terms)\n"
   ]
  },
  {
   "cell_type": "code",
   "execution_count": 4,
   "metadata": {
    "collapsed": true
   },
   "outputs": [],
   "source": [
    "m = 2 # degree of \\Xi minimal polynomial"
   ]
  },
  {
   "cell_type": "code",
   "execution_count": 5,
   "metadata": {
    "collapsed": false
   },
   "outputs": [
    {
     "data": {
      "image/png": "[encoded data removed]",
      "text/latex": [
       "$$\\Phi{\\left (z,i,j \\right )} = z \\phi_{i,j,0} + \\phi_{i,j,1}$$"
      ],
      "text/plain": [
       "\\Phi(z, i, j) = z⋅\\phi[i, j, 0] + \\phi[i, j, 1]"
      ]
     },
     "execution_count": 5,
     "metadata": {},
     "output_type": "execute_result"
    }
   ],
   "source": [
    "Phi_poly = Phi_poly_ctor(deg=m-1)\n",
    "Phi_poly"
   ]
  },
  {
   "cell_type": "code",
   "execution_count": 6,
   "metadata": {
    "collapsed": false
   },
   "outputs": [
    {
     "data": {
      "image/png": "[encoded data removed]",
      "text/latex": [
       "$$\\left ( \\left( \\left ( z, \\quad i, \\quad j\\right ) \\mapsto z \\phi_{i,j,0} + \\phi_{i,j,1} \\right), \\quad z \\phi_{3,j,0} + \\phi_{3,j,1}\\right )$$"
      ],
      "text/plain": [
       "((z, i, j) ↦ z⋅\\phi[i, j, 0] + \\phi[i, j, 1], z⋅\\phi[3, j, 0] + \\phi[3, j, 1])"
      ]
     },
     "execution_count": 6,
     "metadata": {},
     "output_type": "execute_result"
    }
   ],
   "source": [
    "with lift_to_Lambda(Phi_poly) as Phi_fn:\n",
    "    pass\n",
    "\n",
    "Phi_fn, Phi_fn(z, 3, j)"
   ]
  },
  {
   "cell_type": "code",
   "execution_count": 7,
   "metadata": {
    "collapsed": false
   },
   "outputs": [
    {
     "data": {
      "image/png": "[encoded data removed]",
      "text/latex": [
       "$$\\left[\\begin{matrix}3 & 1\\\\1 & 3\\end{matrix}\\right]$$"
      ],
      "text/plain": [
       "⎡3  1⎤\n",
       "⎢    ⎥\n",
       "⎣1  3⎦"
      ]
     },
     "execution_count": 7,
     "metadata": {},
     "output_type": "execute_result"
    }
   ],
   "source": [
    "m = Matrix([\n",
    "        [3, 1],\n",
    "        [1, 3]\n",
    "    ])\n",
    "m"
   ]
  },
  {
   "cell_type": "code",
   "execution_count": 8,
   "metadata": {
    "collapsed": false
   },
   "outputs": [
    {
     "data": {
      "image/png": "[encoded data removed]",
      "text/latex": [
       "$$\\left \\{ 2 : 1, \\quad 4 : 1\\right \\}$$"
      ],
      "text/plain": [
       "{2: 1, 4: 1}"
      ]
     },
     "execution_count": 8,
     "metadata": {},
     "output_type": "execute_result"
    }
   ],
   "source": [
    "m.eigenvals()"
   ]
  },
  {
   "cell_type": "code",
   "execution_count": 9,
   "metadata": {
    "collapsed": true
   },
   "outputs": [],
   "source": [
    "lamda_indexed = IndexedBase(r'\\lambda')\n",
    "mul_indexed = IndexedBase(r'm')\n",
    "\n",
    "def eigen_data(matrix):\n",
    "    eigenvals = {}\n",
    "    multiplicities = {}\n",
    "    data = {}\n",
    "    for i, (eigen_value, multiplicity) in enumerate(matrix.eigenvals().items(), start=1):\n",
    "        eigenvals[lamda_indexed[i]] = eigen_value\n",
    "        multiplicities[mul_indexed[i]] = multiplicity\n",
    "        data[i] = lamda_indexed[i], mul_indexed[i]\n",
    "    return data, eigenvals, multiplicities"
   ]
  },
  {
   "cell_type": "code",
   "execution_count": 46,
   "metadata": {
    "collapsed": false
   },
   "outputs": [
    {
     "data": {
      "image/png": "[encoded data removed]",
      "text/latex": [
       "$$\\left ( \\left \\{ 1 : \\left ( \\lambda_{1}, \\quad m_{1}\\right ), \\quad 2 : \\left ( \\lambda_{2}, \\quad m_{2}\\right )\\right \\}, \\quad \\left \\{ \\lambda_{1} : 2, \\quad \\lambda_{2} : 4\\right \\}, \\quad \\left \\{ m_{1} : 1, \\quad m_{2} : 1\\right \\}\\right )$$"
      ],
      "text/plain": [
       "({1: (\\lambda[1], m[1]), 2: (\\lambda[2], m[2])}, {\\lambda[1]: 2, \\lambda[2]: 4\n",
       "}, {m[1]: 1, m[2]: 1})"
      ]
     },
     "execution_count": 46,
     "metadata": {},
     "output_type": "execute_result"
    }
   ],
   "source": [
    "data, eigenvals, multiplicities = eigendata = eigen_data(m)\n",
    "eigendata"
   ]
  },
  {
   "cell_type": "code",
   "execution_count": 47,
   "metadata": {
    "collapsed": false
   },
   "outputs": [],
   "source": [
    "def Phi_poly_define(Phi_poly, i, j, eigendata, z=Symbol('z')):\n",
    "    \n",
    "    data, eigenvals, multiplicities = eigendata\n",
    "    \n",
    "    lhs = Function(r'\\Phi_{{ {}, {} }}'.format(i, j))(z)\n",
    "    \n",
    "    with lift_to_Lambda(Phi_poly) as Phi:\n",
    "        \n",
    "        p = Eq(lhs, Phi(z, i, j))\n",
    "        lamda_i, m_i = data[i]\n",
    "        delta = Function(r'\\delta')\n",
    "        derivatives = [(r, Eq(delta(z), p.rhs.diff(z, r-1))) for r in range(1, multiplicities[m_i]+1)]\n",
    "        \n",
    "        res = []\n",
    "        for l, (lamda, mul) in data.items():\n",
    "            for r, der in derivatives:\n",
    "                with lift_to_Lambda(der) as der_fn:\n",
    "                    eq = Eq(der_fn(eigenvals[lamda]), KroneckerDelta(l, i)*KroneckerDelta(r, j))\n",
    "                    res.append(eq)\n",
    "        \n",
    "        sols = solve(res).pop()\n",
    "        \n",
    "        rhs = p.rhs.subs(sols, simultaneous=True).expand()\n",
    "        return Eq(lhs, rhs), p, derivatives, res, sols\n",
    "        "
   ]
  },
  {
   "cell_type": "code",
   "execution_count": 48,
   "metadata": {
    "collapsed": false
   },
   "outputs": [
    {
     "data": {
      "image/png": "[encoded data removed]",
      "text/latex": [
       "$$\\left ( \\Phi_{ 1, 1 }{\\left (z \\right )} = - \\frac{z}{2} + 2, \\quad \\Phi_{ 1, 1 }{\\left (z \\right )} = z \\phi_{1,1,0} + \\phi_{1,1,1}, \\quad \\left [ \\left ( 1, \\quad \\delta{\\left (z \\right )} = z \\phi_{1,1,0} + \\phi_{1,1,1}\\right )\\right ], \\quad \\left [ 2 \\phi_{1,1,0} + \\phi_{1,1,1} = 1, \\quad 4 \\phi_{1,1,0} + \\phi_{1,1,1} = 0\\right ], \\quad \\left \\{ \\phi_{1,1,0} : - \\frac{1}{2}, \\quad \\phi_{1,1,1} : 2\\right \\}\\right )$$"
      ],
      "text/plain": [
       "⎛                     z                                                       \n",
       "⎜\\Phi_{ 1, 1 }(z) = - ─ + 2, \\Phi_{ 1, 1 }(z) = z⋅\\phi[1, 1, 0] + \\phi[1, 1, 1\n",
       "⎝                     2                                                       \n",
       "\n",
       "                                                                              \n",
       "], [(1, \\delta(z) = z⋅\\phi[1, 1, 0] + \\phi[1, 1, 1])], [2⋅\\phi[1, 1, 0] + \\phi\n",
       "                                                                              \n",
       "\n",
       "                                                                              \n",
       "[1, 1, 1] = 1, 4⋅\\phi[1, 1, 0] + \\phi[1, 1, 1] = 0], {\\phi[1, 1, 0]: -1/2, \\ph\n",
       "                                                                              \n",
       "\n",
       "              ⎞\n",
       "i[1, 1, 1]: 2}⎟\n",
       "              ⎠"
      ]
     },
     "execution_count": 48,
     "metadata": {},
     "output_type": "execute_result"
    }
   ],
   "source": [
    "res = Phi_poly_define(Phi_poly, i=1, j=1, eigendata=eigendata)\n",
    "res"
   ]
  },
  {
   "cell_type": "code",
   "execution_count": 49,
   "metadata": {
    "collapsed": false
   },
   "outputs": [
    {
     "data": {
      "image/png": "[encoded data removed]",
      "text/latex": [
       "$$\\left ( \\Phi_{ 2, 1 }{\\left (z \\right )} = \\frac{z}{2} - 1, \\quad \\Phi_{ 2, 1 }{\\left (z \\right )} = z \\phi_{2,1,0} + \\phi_{2,1,1}, \\quad \\left [ \\left ( 1, \\quad \\delta{\\left (z \\right )} = z \\phi_{2,1,0} + \\phi_{2,1,1}\\right )\\right ], \\quad \\left [ 2 \\phi_{2,1,0} + \\phi_{2,1,1} = 0, \\quad 4 \\phi_{2,1,0} + \\phi_{2,1,1} = 1\\right ], \\quad \\left \\{ \\phi_{2,1,0} : \\frac{1}{2}, \\quad \\phi_{2,1,1} : -1\\right \\}\\right )$$"
      ],
      "text/plain": [
       "⎛                   z                                                         \n",
       "⎜\\Phi_{ 2, 1 }(z) = ─ - 1, \\Phi_{ 2, 1 }(z) = z⋅\\phi[2, 1, 0] + \\phi[2, 1, 1],\n",
       "⎝                   2                                                         \n",
       "\n",
       "                                                                              \n",
       " [(1, \\delta(z) = z⋅\\phi[2, 1, 0] + \\phi[2, 1, 1])], [2⋅\\phi[2, 1, 0] + \\phi[2\n",
       "                                                                              \n",
       "\n",
       "                                                                              \n",
       ", 1, 1] = 0, 4⋅\\phi[2, 1, 0] + \\phi[2, 1, 1] = 1], {\\phi[2, 1, 0]: 1/2, \\phi[2\n",
       "                                                                              \n",
       "\n",
       "            ⎞\n",
       ", 1, 1]: -1}⎟\n",
       "            ⎠"
      ]
     },
     "execution_count": 49,
     "metadata": {},
     "output_type": "execute_result"
    }
   ],
   "source": [
    "res = Phi_poly_define(Phi_poly, i=2, j=1, eigendata=eigendata)\n",
    "res"
   ]
  },
  {
   "cell_type": "code",
   "execution_count": 50,
   "metadata": {
    "collapsed": false
   },
   "outputs": [],
   "source": [
    "def component_polynomials(Phi_poly, eigendata):\n",
    "\n",
    "    polynomials = {}\n",
    "\n",
    "    data, eigenvals, multiplicities = eigendata\n",
    "    for i, (lamda, mul) in data.items():\n",
    "        multiplicity = multiplicities[mul]\n",
    "        for j in range(1, multiplicity+1):\n",
    "            component_poly, *rest = Phi_poly_define(Phi_poly, i, j, eigendata)\n",
    "            polynomials[i, j] = component_poly\n",
    "\n",
    "    return polynomials"
   ]
  },
  {
   "cell_type": "code",
   "execution_count": 51,
   "metadata": {
    "collapsed": false
   },
   "outputs": [
    {
     "data": {
      "image/png": "[encoded data removed]",
      "text/latex": [
       "$$\\left \\{ \\left ( 1, \\quad 1\\right ) : \\Phi_{ 1, 1 }{\\left (z \\right )} = - \\frac{z}{2} + 2, \\quad \\left ( 2, \\quad 1\\right ) : \\Phi_{ 2, 1 }{\\left (z \\right )} = \\frac{z}{2} - 1\\right \\}$$"
      ],
      "text/plain": [
       "⎧                             z                                 z    ⎫\n",
       "⎨(1, 1): \\Phi_{ 1, 1 }(z) = - ─ + 2, (2, 1): \\Phi_{ 2, 1 }(z) = ─ - 1⎬\n",
       "⎩                             2                                 2    ⎭"
      ]
     },
     "execution_count": 51,
     "metadata": {},
     "output_type": "execute_result"
    }
   ],
   "source": [
    "Phi_polynomials = component_polynomials(Phi_poly, eigendata)\n",
    "Phi_polynomials"
   ]
  },
  {
   "cell_type": "code",
   "execution_count": 167,
   "metadata": {
    "collapsed": true
   },
   "outputs": [],
   "source": [
    "def g_poly(f_eq, eigendata, Phi_polys, subs_eigenvals=False, matrix_form=False):\n",
    "    \n",
    "    data, eigenvals, multiplicities = eigendata\n",
    "    delta, g = Function(r'\\delta'), Function('g')\n",
    "    Z = IndexedBase('Z')\n",
    "    z, *rest = f_eq.lhs.args\n",
    "    \n",
    "    g_poly = Integer(0)\n",
    "    \n",
    "    for i, (lamda, mul) in data.items():\n",
    "        for j in range(1, multiplicities[mul]+1):\n",
    "            with lift_to_Lambda(f_eq) as f_fn:\n",
    "                der = Eq(delta(z), f_fn(z).diff(z, j-1))\n",
    "                with lift_to_Lambda(der) as der_fn, lift_to_Lambda(Phi_polys[i, j]) as Phi:\n",
    "                    derivative_term = der_fn(eigenvals[lamda] if subs_eigenvals else lamda)\n",
    "                    Phi_term = Z[i,j] if matrix_form else Phi(z)\n",
    "                    g_poly += derivative_term*Phi_term\n",
    "    \n",
    "    return Eq(g(z), poly(g_poly, z).args[0])"
   ]
  },
  {
   "cell_type": "code",
   "execution_count": 168,
   "metadata": {
    "collapsed": false
   },
   "outputs": [
    {
     "data": {
      "image/png": "[encoded data removed]",
      "text/latex": [
       "$$f{\\left (z \\right )} = h{\\left (z \\right )}$$"
      ],
      "text/plain": [
       "f(z) = h(z)"
      ]
     },
     "execution_count": 168,
     "metadata": {},
     "output_type": "execute_result"
    }
   ],
   "source": [
    "f, h = Function('f'), Function('h')\n",
    "function_eq = Eq(f(z), h(z))\n",
    "function_eq"
   ]
  },
  {
   "cell_type": "code",
   "execution_count": 169,
   "metadata": {
    "collapsed": false
   },
   "outputs": [
    {
     "data": {
      "image/png": "[encoded data removed]",
      "text/latex": [
       "$$g{\\left (z \\right )} = z \\left(- \\frac{1}{2} h{\\left (\\lambda_{1} \\right )} + \\frac{1}{2} h{\\left (\\lambda_{2} \\right )}\\right) + 2 h{\\left (\\lambda_{1} \\right )} - h{\\left (\\lambda_{2} \\right )}$$"
      ],
      "text/plain": [
       "         ⎛  h(\\lambda[1])   h(\\lambda[2])⎞                                  \n",
       "g(z) = z⋅⎜- ───────────── + ─────────────⎟ + 2⋅h(\\lambda[1]) - h(\\lambda[2])\n",
       "         ⎝        2               2      ⎠                                  "
      ]
     },
     "execution_count": 169,
     "metadata": {},
     "output_type": "execute_result"
    }
   ],
   "source": [
    "g = g_poly(function_eq, eigendata, Phi_polynomials, subs_eigenvals=False)\n",
    "g"
   ]
  },
  {
   "cell_type": "code",
   "execution_count": 170,
   "metadata": {
    "collapsed": false
   },
   "outputs": [
    {
     "data": {
      "image/png": "[encoded data removed]",
      "text/latex": [
       "$$g{\\left (z \\right )} = z \\left(- \\frac{1}{2} h{\\left (2 \\right )} + \\frac{1}{2} h{\\left (4 \\right )}\\right) + 2 h{\\left (2 \\right )} - h{\\left (4 \\right )}$$"
      ],
      "text/plain": [
       "         ⎛  h(2)   h(4)⎞                \n",
       "g(z) = z⋅⎜- ──── + ────⎟ + 2⋅h(2) - h(4)\n",
       "         ⎝   2      2  ⎠                "
      ]
     },
     "execution_count": 170,
     "metadata": {},
     "output_type": "execute_result"
    }
   ],
   "source": [
    "g = g_poly(function_eq, eigendata, Phi_polynomials, subs_eigenvals=True)\n",
    "g"
   ]
  },
  {
   "cell_type": "code",
   "execution_count": 171,
   "metadata": {
    "collapsed": false
   },
   "outputs": [],
   "source": [
    "@contextmanager\n",
    "def lift_to_matrix_function(eq):\n",
    "    \n",
    "    def lift(matrix, post=lambda c: c.simplify()):\n",
    "        z, *rest = eq.lhs.args\n",
    "        gpp = poly(eq.rhs, z)\n",
    "\n",
    "        I = eye(matrix.rows)\n",
    "        Z = eq.rhs.coeff(z, gpp.degree())*I\n",
    "\n",
    "        for d in range(gpp.degree()-1, -1, -1): Z = Z*matrix + eq.rhs.coeff(z, d)*I\n",
    "\n",
    "        return Z.applyfunc(post) if callable(post) else Z\n",
    "\n",
    "    yield lift"
   ]
  },
  {
   "cell_type": "code",
   "execution_count": 172,
   "metadata": {
    "collapsed": false
   },
   "outputs": [
    {
     "data": {
      "image/png": "[encoded data removed]",
      "text/latex": [
       "$$\\left[\\begin{matrix}\\frac{1}{2} h{\\left (2 \\right )} + \\frac{1}{2} h{\\left (4 \\right )} & - \\frac{1}{2} h{\\left (2 \\right )} + \\frac{1}{2} h{\\left (4 \\right )}\\\\- \\frac{1}{2} h{\\left (2 \\right )} + \\frac{1}{2} h{\\left (4 \\right )} & \\frac{1}{2} h{\\left (2 \\right )} + \\frac{1}{2} h{\\left (4 \\right )}\\end{matrix}\\right]$$"
      ],
      "text/plain": [
       "⎡ h(2)   h(4)     h(2)   h(4)⎤\n",
       "⎢ ──── + ────   - ──── + ────⎥\n",
       "⎢  2      2        2      2  ⎥\n",
       "⎢                            ⎥\n",
       "⎢  h(2)   h(4)   h(2)   h(4) ⎥\n",
       "⎢- ──── + ────   ──── + ──── ⎥\n",
       "⎣   2      2      2      2   ⎦"
      ]
     },
     "execution_count": 172,
     "metadata": {},
     "output_type": "execute_result"
    }
   ],
   "source": [
    "with lift_to_matrix_function(g) as g_fn:\n",
    "    res = g_fn(m)\n",
    "\n",
    "res"
   ]
  },
  {
   "cell_type": "code",
   "execution_count": 156,
   "metadata": {
    "collapsed": false,
    "scrolled": false
   },
   "outputs": [],
   "source": [
    "def component_matrices(matrix, Phi_polys):\n",
    "\n",
    "    Z_matrices = {}\n",
    "    \n",
    "    for (i, j), cp in Phi_polys.items():\n",
    "        with lift_to_matrix_function(cp) as cp_fn:\n",
    "            Z_matrices[i, j] = cp_fn(matrix)\n",
    "    \n",
    "    return Z_matrices"
   ]
  },
  {
   "cell_type": "code",
   "execution_count": 157,
   "metadata": {
    "collapsed": false
   },
   "outputs": [
    {
     "data": {
      "image/png": "[encoded data removed]",
      "text/latex": [
       "$$\\left \\{ \\left ( 1, \\quad 1\\right ) : \\left[\\begin{matrix}\\frac{1}{2} & - \\frac{1}{2}\\\\- \\frac{1}{2} & \\frac{1}{2}\\end{matrix}\\right], \\quad \\left ( 2, \\quad 1\\right ) : \\left[\\begin{matrix}\\frac{1}{2} & \\frac{1}{2}\\\\\\frac{1}{2} & \\frac{1}{2}\\end{matrix}\\right]\\right \\}$$"
      ],
      "text/plain": [
       "⎧(1, 1): ⎡1/2   -1/2⎤, (2, 1): ⎡1/2  1/2⎤⎫\n",
       "⎨        ⎢          ⎥          ⎢        ⎥⎬\n",
       "⎩        ⎣-1/2  1/2 ⎦          ⎣1/2  1/2⎦⎭"
      ]
     },
     "execution_count": 157,
     "metadata": {},
     "output_type": "execute_result"
    }
   ],
   "source": [
    "cmatrices = component_matrices(m, Phi_polynomials)\n",
    "cmatrices"
   ]
  },
  {
   "cell_type": "code",
   "execution_count": 158,
   "metadata": {
    "collapsed": false,
    "scrolled": false
   },
   "outputs": [
    {
     "data": {
      "image/png": "[encoded data removed]",
      "text/latex": [
       "$$\\left [ \\left[\\begin{matrix}\\frac{1}{2} & - \\frac{1}{2}\\\\- \\frac{1}{2} & \\frac{1}{2}\\end{matrix}\\right], \\quad \\left[\\begin{matrix}\\frac{1}{2} & \\frac{1}{2}\\\\\\frac{1}{2} & \\frac{1}{2}\\end{matrix}\\right]\\right ]$$"
      ],
      "text/plain": [
       "⎡⎡1/2   -1/2⎤, ⎡1/2  1/2⎤⎤\n",
       "⎢⎢          ⎥  ⎢        ⎥⎥\n",
       "⎣⎣-1/2  1/2 ⎦  ⎣1/2  1/2⎦⎦"
      ]
     },
     "execution_count": 158,
     "metadata": {},
     "output_type": "execute_result"
    }
   ],
   "source": [
    "Zi1 = list(cm.as_immutable() for (i, j), cm in cmatrices.items() if j == 1)\n",
    "Zi1"
   ]
  },
  {
   "cell_type": "code",
   "execution_count": 159,
   "metadata": {
    "collapsed": false
   },
   "outputs": [
    {
     "data": {
      "image/png": "[encoded data removed]",
      "text/latex": [
       "$$\\left[\\begin{matrix}1 & 0\\\\0 & 1\\end{matrix}\\right]$$"
      ],
      "text/plain": [
       "⎡1  0⎤\n",
       "⎢    ⎥\n",
       "⎣0  1⎦"
      ]
     },
     "execution_count": 159,
     "metadata": {},
     "output_type": "execute_result"
    }
   ],
   "source": [
    "s = zeros(m.rows)\n",
    "for Z in Zi1:\n",
    "    s += Z\n",
    "s"
   ]
  },
  {
   "cell_type": "markdown",
   "metadata": {},
   "source": [
    "### `const`"
   ]
  },
  {
   "cell_type": "code",
   "execution_count": 82,
   "metadata": {
    "collapsed": false
   },
   "outputs": [
    {
     "data": {
      "image/png": "[encoded data removed]",
      "text/latex": [
       "$$f{\\left (z \\right )} = r$$"
      ],
      "text/plain": [
       "f(z) = r"
      ]
     },
     "execution_count": 82,
     "metadata": {},
     "output_type": "execute_result"
    }
   ],
   "source": [
    "fn = Eq(f(z), r)\n",
    "fn"
   ]
  },
  {
   "cell_type": "code",
   "execution_count": 83,
   "metadata": {
    "collapsed": false
   },
   "outputs": [
    {
     "data": {
      "image/png": "[encoded data removed]",
      "text/latex": [
       "$$g{\\left (z \\right )} = r$$"
      ],
      "text/plain": [
       "g(z) = r"
      ]
     },
     "execution_count": 83,
     "metadata": {},
     "output_type": "execute_result"
    }
   ],
   "source": [
    "g = g_poly(fn, eigendata, Phi_polynomials)\n",
    "g"
   ]
  },
  {
   "cell_type": "code",
   "execution_count": 84,
   "metadata": {
    "collapsed": false
   },
   "outputs": [
    {
     "data": {
      "image/png": "[encoded data removed]",
      "text/latex": [
       "$$g{\\left (z \\right )} = r$$"
      ],
      "text/plain": [
       "g(z) = r"
      ]
     },
     "execution_count": 84,
     "metadata": {},
     "output_type": "execute_result"
    }
   ],
   "source": [
    "g = g.subs(eigenvals)\n",
    "g"
   ]
  },
  {
   "cell_type": "code",
   "execution_count": 85,
   "metadata": {
    "collapsed": false
   },
   "outputs": [
    {
     "data": {
      "image/png": "[encoded data removed]",
      "text/latex": [
       "$$\\left[\\begin{matrix}r & 0\\\\0 & r\\end{matrix}\\right]$$"
      ],
      "text/plain": [
       "⎡r  0⎤\n",
       "⎢    ⎥\n",
       "⎣0  r⎦"
      ]
     },
     "execution_count": 85,
     "metadata": {},
     "output_type": "execute_result"
    }
   ],
   "source": [
    "with lift_to_matrix_function(g) as g_sqrt:\n",
    "    m_sqrt = g_sqrt(m)\n",
    "m_sqrt"
   ]
  },
  {
   "cell_type": "markdown",
   "metadata": {},
   "source": [
    "### `identity`"
   ]
  },
  {
   "cell_type": "code",
   "execution_count": 173,
   "metadata": {
    "collapsed": false
   },
   "outputs": [
    {
     "data": {
      "image/png": "[encoded data removed]",
      "text/latex": [
       "$$f{\\left (z \\right )} = z$$"
      ],
      "text/plain": [
       "f(z) = z"
      ]
     },
     "execution_count": 173,
     "metadata": {},
     "output_type": "execute_result"
    }
   ],
   "source": [
    "fn = Eq(f(z), z)\n",
    "fn"
   ]
  },
  {
   "cell_type": "code",
   "execution_count": 178,
   "metadata": {
    "collapsed": false
   },
   "outputs": [
    {
     "data": {
      "image/png": "[encoded data removed]",
      "text/latex": [
       "$$g{\\left (z \\right )} = \\lambda_{1} Z_{1,1} + \\lambda_{2} Z_{2,1}$$"
      ],
      "text/plain": [
       "g(z) = \\lambda[1]⋅Z[1, 1] + \\lambda[2]⋅Z[2, 1]"
      ]
     },
     "execution_count": 178,
     "metadata": {},
     "output_type": "execute_result"
    }
   ],
   "source": [
    "g = g_poly(fn, eigendata, Phi_polynomials, matrix_form=True)\n",
    "g"
   ]
  },
  {
   "cell_type": "code",
   "execution_count": 179,
   "metadata": {
    "collapsed": false
   },
   "outputs": [
    {
     "data": {
      "image/png": "[encoded data removed]",
      "text/latex": [
       "$$g{\\left (z \\right )} = z \\left(- \\frac{\\lambda_{1}}{2} + \\frac{\\lambda_{2}}{2}\\right) + 2 \\lambda_{1} - \\lambda_{2}$$"
      ],
      "text/plain": [
       "         ⎛  \\lambda[1]   \\lambda[2]⎞                            \n",
       "g(z) = z⋅⎜- ────────── + ──────────⎟ + 2⋅\\lambda[1] - \\lambda[2]\n",
       "         ⎝      2            2     ⎠                            "
      ]
     },
     "execution_count": 179,
     "metadata": {},
     "output_type": "execute_result"
    }
   ],
   "source": [
    "g = g_poly(fn, eigendata, Phi_polynomials, matrix_form=False)\n",
    "g"
   ]
  },
  {
   "cell_type": "code",
   "execution_count": 180,
   "metadata": {
    "collapsed": false
   },
   "outputs": [
    {
     "data": {
      "image/png": "[encoded data removed]",
      "text/latex": [
       "$$\\left[\\begin{matrix}\\frac{\\lambda_{1}}{2} + \\frac{\\lambda_{2}}{2} & - \\frac{\\lambda_{1}}{2} + \\frac{\\lambda_{2}}{2}\\\\- \\frac{\\lambda_{1}}{2} + \\frac{\\lambda_{2}}{2} & \\frac{\\lambda_{1}}{2} + \\frac{\\lambda_{2}}{2}\\end{matrix}\\right]$$"
      ],
      "text/plain": [
       "⎡ \\lambda[1]   \\lambda[2]     \\lambda[1]   \\lambda[2]⎤\n",
       "⎢ ────────── + ──────────   - ────────── + ──────────⎥\n",
       "⎢     2            2              2            2     ⎥\n",
       "⎢                                                    ⎥\n",
       "⎢  \\lambda[1]   \\lambda[2]   \\lambda[1]   \\lambda[2] ⎥\n",
       "⎢- ────────── + ──────────   ────────── + ────────── ⎥\n",
       "⎣      2            2            2            2      ⎦"
      ]
     },
     "execution_count": 180,
     "metadata": {},
     "output_type": "execute_result"
    }
   ],
   "source": [
    "with lift_to_matrix_function(g) as g_sqrt:\n",
    "    m_sqrt = g_sqrt(m)\n",
    "m_sqrt"
   ]
  },
  {
   "cell_type": "code",
   "execution_count": 181,
   "metadata": {
    "collapsed": false
   },
   "outputs": [
    {
     "data": {
      "image/png": "[encoded data removed]",
      "text/latex": [
       "$$g{\\left (z \\right )} = z$$"
      ],
      "text/plain": [
       "g(z) = z"
      ]
     },
     "execution_count": 181,
     "metadata": {},
     "output_type": "execute_result"
    }
   ],
   "source": [
    "g = g.subs(eigenvals)\n",
    "g"
   ]
  },
  {
   "cell_type": "code",
   "execution_count": 182,
   "metadata": {
    "collapsed": false
   },
   "outputs": [
    {
     "data": {
      "image/png": "[encoded data removed]",
      "text/latex": [
       "$$\\left[\\begin{matrix}3 & 1\\\\1 & 3\\end{matrix}\\right]$$"
      ],
      "text/plain": [
       "⎡3  1⎤\n",
       "⎢    ⎥\n",
       "⎣1  3⎦"
      ]
     },
     "execution_count": 182,
     "metadata": {},
     "output_type": "execute_result"
    }
   ],
   "source": [
    "with lift_to_matrix_function(g) as g_sqrt:\n",
    "    m_sqrt = g_sqrt(m)\n",
    "m_sqrt"
   ]
  },
  {
   "cell_type": "markdown",
   "metadata": {},
   "source": [
    "### `sqrt`"
   ]
  },
  {
   "cell_type": "code",
   "execution_count": 106,
   "metadata": {
    "collapsed": false
   },
   "outputs": [
    {
     "data": {
      "image/png": "[encoded data removed]",
      "text/latex": [
       "$$f{\\left (z \\right )} = \\sqrt{z}$$"
      ],
      "text/plain": [
       "f(z) = √z"
      ]
     },
     "execution_count": 106,
     "metadata": {},
     "output_type": "execute_result"
    }
   ],
   "source": [
    "fn = Eq(f(z), sqrt(z))\n",
    "fn"
   ]
  },
  {
   "cell_type": "code",
   "execution_count": 107,
   "metadata": {
    "collapsed": false
   },
   "outputs": [
    {
     "data": {
      "image/png": "[encoded data removed]",
      "text/latex": [
       "$$g{\\left (z \\right )} = z \\left(- \\frac{\\sqrt{\\lambda_{1}}}{2} + \\frac{\\sqrt{\\lambda_{2}}}{2}\\right) + 2 \\sqrt{\\lambda_{1}} - \\sqrt{\\lambda_{2}}$$"
      ],
      "text/plain": [
       "         ⎛    ____________     ____________⎞                                  \n",
       "         ⎜  ╲╱ \\lambda[1]    ╲╱ \\lambda[2] ⎟       ____________     __________\n",
       "g(z) = z⋅⎜- ────────────── + ──────────────⎟ + 2⋅╲╱ \\lambda[1]  - ╲╱ \\lambda[2\n",
       "         ⎝        2                2       ⎠                                  \n",
       "\n",
       "  \n",
       "__\n",
       "] \n",
       "  "
      ]
     },
     "execution_count": 107,
     "metadata": {},
     "output_type": "execute_result"
    }
   ],
   "source": [
    "g = g_poly(fn, eigendata, Phi_polynomials)\n",
    "g"
   ]
  },
  {
   "cell_type": "code",
   "execution_count": 108,
   "metadata": {
    "collapsed": false
   },
   "outputs": [
    {
     "data": {
      "image/png": "[encoded data removed]",
      "text/latex": [
       "$$g{\\left (z \\right )} = z \\left(- \\frac{\\sqrt{2}}{2} + 1\\right) - 2 + 2 \\sqrt{2}$$"
      ],
      "text/plain": [
       "         ⎛  √2    ⎞           \n",
       "g(z) = z⋅⎜- ── + 1⎟ - 2 + 2⋅√2\n",
       "         ⎝  2     ⎠           "
      ]
     },
     "execution_count": 108,
     "metadata": {},
     "output_type": "execute_result"
    }
   ],
   "source": [
    "g = g.subs(eigenvals)\n",
    "g"
   ]
  },
  {
   "cell_type": "code",
   "execution_count": 109,
   "metadata": {
    "collapsed": false
   },
   "outputs": [
    {
     "data": {
      "image/png": "[encoded data removed]",
      "text/latex": [
       "$$\\left[\\begin{matrix}\\frac{\\sqrt{2}}{2} + 1 & - \\frac{\\sqrt{2}}{2} + 1\\\\- \\frac{\\sqrt{2}}{2} + 1 & \\frac{\\sqrt{2}}{2} + 1\\end{matrix}\\right]$$"
      ],
      "text/plain": [
       "⎡ √2         √2    ⎤\n",
       "⎢ ── + 1   - ── + 1⎥\n",
       "⎢ 2          2     ⎥\n",
       "⎢                  ⎥\n",
       "⎢  √2       √2     ⎥\n",
       "⎢- ── + 1   ── + 1 ⎥\n",
       "⎣  2        2      ⎦"
      ]
     },
     "execution_count": 109,
     "metadata": {},
     "output_type": "execute_result"
    }
   ],
   "source": [
    "with lift_to_matrix_function(g) as g_sqrt:\n",
    "    m_sqrt = g_sqrt(m)\n",
    "m_sqrt"
   ]
  },
  {
   "cell_type": "markdown",
   "metadata": {},
   "source": [
    "### `square`"
   ]
  },
  {
   "cell_type": "code",
   "execution_count": 183,
   "metadata": {
    "collapsed": false
   },
   "outputs": [
    {
     "data": {
      "image/png": "[encoded data removed]",
      "text/latex": [
       "$$f{\\left (z \\right )} = z^{2}$$"
      ],
      "text/plain": [
       "        2\n",
       "f(z) = z "
      ]
     },
     "execution_count": 183,
     "metadata": {},
     "output_type": "execute_result"
    }
   ],
   "source": [
    "fn = Eq(f(z), z**2)\n",
    "fn"
   ]
  },
  {
   "cell_type": "code",
   "execution_count": 184,
   "metadata": {
    "collapsed": false
   },
   "outputs": [
    {
     "data": {
      "image/png": "[encoded data removed]",
      "text/latex": [
       "$$g{\\left (z \\right )} = \\lambda_{1}^{2} Z_{1,1} + \\lambda_{2}^{2} Z_{2,1}$$"
      ],
      "text/plain": [
       "                 2                     2        \n",
       "g(z) = \\lambda[1] ⋅Z[1, 1] + \\lambda[2] ⋅Z[2, 1]"
      ]
     },
     "execution_count": 184,
     "metadata": {},
     "output_type": "execute_result"
    }
   ],
   "source": [
    "g = g_poly(fn, eigendata, Phi_polynomials, matrix_form=True)\n",
    "g"
   ]
  },
  {
   "cell_type": "code",
   "execution_count": 185,
   "metadata": {
    "collapsed": false
   },
   "outputs": [
    {
     "data": {
      "image/png": "[encoded data removed]",
      "text/latex": [
       "$$g{\\left (z \\right )} = z \\left(- \\frac{\\lambda_{1}^{2}}{2} + \\frac{\\lambda_{2}^{2}}{2}\\right) + 2 \\lambda_{1}^{2} - \\lambda_{2}^{2}$$"
      ],
      "text/plain": [
       "         ⎛            2             2⎞                              \n",
       "         ⎜  \\lambda[1]    \\lambda[2] ⎟               2             2\n",
       "g(z) = z⋅⎜- ─────────── + ───────────⎟ + 2⋅\\lambda[1]  - \\lambda[2] \n",
       "         ⎝       2             2     ⎠                              "
      ]
     },
     "execution_count": 185,
     "metadata": {},
     "output_type": "execute_result"
    }
   ],
   "source": [
    "g = g_poly(fn, eigendata, Phi_polynomials)\n",
    "g"
   ]
  },
  {
   "cell_type": "code",
   "execution_count": 138,
   "metadata": {
    "collapsed": false
   },
   "outputs": [
    {
     "data": {
      "image/png": "[encoded data removed]",
      "text/latex": [
       "$$g{\\left (z \\right )} = 6 z - 8$$"
      ],
      "text/plain": [
       "g(z) = 6⋅z - 8"
      ]
     },
     "execution_count": 138,
     "metadata": {},
     "output_type": "execute_result"
    }
   ],
   "source": [
    "g = g.subs(eigenvals)\n",
    "g"
   ]
  },
  {
   "cell_type": "code",
   "execution_count": 139,
   "metadata": {
    "collapsed": false
   },
   "outputs": [
    {
     "data": {
      "image/png": "[encoded data removed]",
      "text/latex": [
       "$$\\left[\\begin{matrix}10 & 6\\\\6 & 10\\end{matrix}\\right]$$"
      ],
      "text/plain": [
       "⎡10  6 ⎤\n",
       "⎢      ⎥\n",
       "⎣6   10⎦"
      ]
     },
     "execution_count": 139,
     "metadata": {},
     "output_type": "execute_result"
    }
   ],
   "source": [
    "with lift_to_matrix_function(g) as g_sqrt:\n",
    "    m_sqrt = g_sqrt(m)\n",
    "m_sqrt"
   ]
  },
  {
   "cell_type": "markdown",
   "metadata": {},
   "source": [
    "### `log`"
   ]
  },
  {
   "cell_type": "code",
   "execution_count": 110,
   "metadata": {
    "collapsed": false
   },
   "outputs": [
    {
     "data": {
      "image/png": "[encoded data removed]",
      "text/latex": [
       "$$f{\\left (z \\right )} = \\frac{\\log{\\left (z \\right )}}{\\log{\\left (2 \\right )}}$$"
      ],
      "text/plain": [
       "       log(z)\n",
       "f(z) = ──────\n",
       "       log(2)"
      ]
     },
     "execution_count": 110,
     "metadata": {},
     "output_type": "execute_result"
    }
   ],
   "source": [
    "fn = Eq(f(z), log(z, 2))\n",
    "fn"
   ]
  },
  {
   "cell_type": "code",
   "execution_count": 111,
   "metadata": {
    "collapsed": false
   },
   "outputs": [
    {
     "data": {
      "image/png": "[encoded data removed]",
      "text/latex": [
       "$$g{\\left (z \\right )} = - \\frac{z \\left(\\log{\\left (\\lambda_{1} \\right )} - \\log{\\left (\\lambda_{2} \\right )}\\right)}{2 \\log{\\left (2 \\right )}} + \\frac{1}{\\log{\\left (2 \\right )}} \\left(2 \\log{\\left (\\lambda_{1} \\right )} - \\log{\\left (\\lambda_{2} \\right )}\\right)$$"
      ],
      "text/plain": [
       "         z⋅(log(\\lambda[1]) - log(\\lambda[2]))   2⋅log(\\lambda[1]) - log(\\lamb\n",
       "g(z) = - ───────────────────────────────────── + ─────────────────────────────\n",
       "                        2⋅log(2)                                log(2)        \n",
       "\n",
       "da[2])\n",
       "──────\n",
       "      "
      ]
     },
     "execution_count": 111,
     "metadata": {},
     "output_type": "execute_result"
    }
   ],
   "source": [
    "g = g_poly(fn, eigendata, Phi_polynomials)\n",
    "g"
   ]
  },
  {
   "cell_type": "code",
   "execution_count": 112,
   "metadata": {
    "collapsed": false
   },
   "outputs": [
    {
     "data": {
      "image/png": "[encoded data removed]",
      "text/latex": [
       "$$g{\\left (z \\right )} = - \\frac{z}{2 \\log{\\left (2 \\right )}} \\left(- \\log{\\left (4 \\right )} + \\log{\\left (2 \\right )}\\right) + \\frac{1}{\\log{\\left (2 \\right )}} \\left(- \\log{\\left (4 \\right )} + 2 \\log{\\left (2 \\right )}\\right)$$"
      ],
      "text/plain": [
       "         z⋅(-log(4) + log(2))   -log(4) + 2⋅log(2)\n",
       "g(z) = - ──────────────────── + ──────────────────\n",
       "               2⋅log(2)               log(2)      "
      ]
     },
     "execution_count": 112,
     "metadata": {},
     "output_type": "execute_result"
    }
   ],
   "source": [
    "g = g.subs(eigenvals)\n",
    "g"
   ]
  },
  {
   "cell_type": "code",
   "execution_count": 113,
   "metadata": {
    "collapsed": false
   },
   "outputs": [
    {
     "data": {
      "image/png": "[encoded data removed]",
      "text/latex": [
       "$$\\left[\\begin{matrix}\\frac{3}{2} & \\frac{1}{2}\\\\\\frac{1}{2} & \\frac{3}{2}\\end{matrix}\\right]$$"
      ],
      "text/plain": [
       "⎡3/2  1/2⎤\n",
       "⎢        ⎥\n",
       "⎣1/2  3/2⎦"
      ]
     },
     "execution_count": 113,
     "metadata": {},
     "output_type": "execute_result"
    }
   ],
   "source": [
    "with lift_to_matrix_function(g) as g_log2:\n",
    "    m_log2 = g_log2(m)\n",
    "m_log2"
   ]
  },
  {
   "cell_type": "markdown",
   "metadata": {},
   "source": [
    "### `inverse`"
   ]
  },
  {
   "cell_type": "code",
   "execution_count": 114,
   "metadata": {
    "collapsed": false
   },
   "outputs": [
    {
     "data": {
      "image/png": "[encoded data removed]",
      "text/latex": [
       "$$f{\\left (z \\right )} = \\frac{1}{z}$$"
      ],
      "text/plain": [
       "       1\n",
       "f(z) = ─\n",
       "       z"
      ]
     },
     "execution_count": 114,
     "metadata": {},
     "output_type": "execute_result"
    }
   ],
   "source": [
    "fn = Eq(f(z), 1/z)\n",
    "fn"
   ]
  },
  {
   "cell_type": "code",
   "execution_count": 115,
   "metadata": {
    "collapsed": false
   },
   "outputs": [
    {
     "data": {
      "image/png": "[encoded data removed]",
      "text/latex": [
       "$$g{\\left (z \\right )} = \\frac{z \\left(\\lambda_{1} - \\lambda_{2}\\right)}{2 \\lambda_{1} \\lambda_{2}} + \\frac{1}{\\lambda_{1} \\lambda_{2}} \\left(- \\lambda_{1} + 2 \\lambda_{2}\\right)$$"
      ],
      "text/plain": [
       "       z⋅(\\lambda[1] - \\lambda[2])   -\\lambda[1] + 2⋅\\lambda[2]\n",
       "g(z) = ─────────────────────────── + ──────────────────────────\n",
       "         2⋅\\lambda[1]⋅\\lambda[2]       \\lambda[1]⋅\\lambda[2]   "
      ]
     },
     "execution_count": 115,
     "metadata": {},
     "output_type": "execute_result"
    }
   ],
   "source": [
    "g = g_poly(fn, eigendata, Phi_polynomials)\n",
    "g"
   ]
  },
  {
   "cell_type": "code",
   "execution_count": 116,
   "metadata": {
    "collapsed": false
   },
   "outputs": [
    {
     "data": {
      "image/png": "[encoded data removed]",
      "text/latex": [
       "$$g{\\left (z \\right )} = - \\frac{z}{8} + \\frac{3}{4}$$"
      ],
      "text/plain": [
       "         z   3\n",
       "g(z) = - ─ + ─\n",
       "         8   4"
      ]
     },
     "execution_count": 116,
     "metadata": {},
     "output_type": "execute_result"
    }
   ],
   "source": [
    "g = g.subs(eigenvals)\n",
    "g"
   ]
  },
  {
   "cell_type": "code",
   "execution_count": 117,
   "metadata": {
    "collapsed": false
   },
   "outputs": [
    {
     "data": {
      "image/png": "[encoded data removed]",
      "text/latex": [
       "$$\\left[\\begin{matrix}\\frac{3}{8} & - \\frac{1}{8}\\\\- \\frac{1}{8} & \\frac{3}{8}\\end{matrix}\\right]$$"
      ],
      "text/plain": [
       "⎡3/8   -1/8⎤\n",
       "⎢          ⎥\n",
       "⎣-1/8  3/8 ⎦"
      ]
     },
     "execution_count": 117,
     "metadata": {},
     "output_type": "execute_result"
    }
   ],
   "source": [
    "with lift_to_matrix_function(g) as g_inverse:\n",
    "    m_inverse = g_inverse(m)\n",
    "m_inverse"
   ]
  },
  {
   "cell_type": "markdown",
   "metadata": {},
   "source": [
    "### `expt`"
   ]
  },
  {
   "cell_type": "code",
   "execution_count": 118,
   "metadata": {
    "collapsed": false
   },
   "outputs": [
    {
     "data": {
      "image/png": "[encoded data removed]",
      "text/latex": [
       "$$f{\\left (z \\right )} = e^{z}$$"
      ],
      "text/plain": [
       "        z\n",
       "f(z) = ℯ "
      ]
     },
     "execution_count": 118,
     "metadata": {},
     "output_type": "execute_result"
    }
   ],
   "source": [
    "fn = Eq(f(z), exp(z))\n",
    "fn"
   ]
  },
  {
   "cell_type": "code",
   "execution_count": 119,
   "metadata": {
    "collapsed": false
   },
   "outputs": [
    {
     "data": {
      "image/png": "[encoded data removed]",
      "text/latex": [
       "$$g{\\left (z \\right )} = z \\left(- \\frac{e^{\\lambda_{1}}}{2} + \\frac{e^{\\lambda_{2}}}{2}\\right) + 2 e^{\\lambda_{1}} - e^{\\lambda_{2}}$$"
      ],
      "text/plain": [
       "         ⎛   \\lambda[1]    \\lambda[2]⎞                              \n",
       "         ⎜  ℯ             ℯ          ⎟      \\lambda[1]    \\lambda[2]\n",
       "g(z) = z⋅⎜- ─────────── + ───────────⎟ + 2⋅ℯ           - ℯ          \n",
       "         ⎝       2             2     ⎠                              "
      ]
     },
     "execution_count": 119,
     "metadata": {},
     "output_type": "execute_result"
    }
   ],
   "source": [
    "g = g_poly(fn, eigendata, Phi_polynomials)\n",
    "g"
   ]
  },
  {
   "cell_type": "code",
   "execution_count": 120,
   "metadata": {
    "collapsed": false
   },
   "outputs": [
    {
     "data": {
      "image/png": "[encoded data removed]",
      "text/latex": [
       "$$g{\\left (z \\right )} = z \\left(- \\frac{e^{2}}{2} + \\frac{e^{4}}{2}\\right) - e^{4} + 2 e^{2}$$"
      ],
      "text/plain": [
       "         ⎛   2    4⎞            \n",
       "         ⎜  ℯ    ℯ ⎟    4      2\n",
       "g(z) = z⋅⎜- ── + ──⎟ - ℯ  + 2⋅ℯ \n",
       "         ⎝  2    2 ⎠            "
      ]
     },
     "execution_count": 120,
     "metadata": {},
     "output_type": "execute_result"
    }
   ],
   "source": [
    "g = g.subs(eigenvals)\n",
    "g"
   ]
  },
  {
   "cell_type": "code",
   "execution_count": 121,
   "metadata": {
    "collapsed": false
   },
   "outputs": [
    {
     "data": {
      "image/png": "[encoded data removed]",
      "text/latex": [
       "$$\\left[\\begin{matrix}\\frac{e^{2}}{2} \\left(1 + e^{2}\\right) & \\frac{e^{2}}{2} \\left(-1 + e^{2}\\right)\\\\\\frac{e^{2}}{2} \\left(-1 + e^{2}\\right) & \\frac{e^{2}}{2} \\left(1 + e^{2}\\right)\\end{matrix}\\right]$$"
      ],
      "text/plain": [
       "⎡⎛     2⎞  2   ⎛      2⎞  2⎤\n",
       "⎢⎝1 + ℯ ⎠⋅ℯ    ⎝-1 + ℯ ⎠⋅ℯ ⎥\n",
       "⎢───────────   ────────────⎥\n",
       "⎢     2             2      ⎥\n",
       "⎢                          ⎥\n",
       "⎢⎛      2⎞  2  ⎛     2⎞  2 ⎥\n",
       "⎢⎝-1 + ℯ ⎠⋅ℯ   ⎝1 + ℯ ⎠⋅ℯ  ⎥\n",
       "⎢────────────  ─────────── ⎥\n",
       "⎣     2             2      ⎦"
      ]
     },
     "execution_count": 121,
     "metadata": {},
     "output_type": "execute_result"
    }
   ],
   "source": [
    "with lift_to_matrix_function(g) as g_inverse:\n",
    "    m_inverse = g_inverse(m)\n",
    "m_inverse"
   ]
  },
  {
   "cell_type": "markdown",
   "metadata": {},
   "source": [
    "---"
   ]
  },
  {
   "cell_type": "code",
   "execution_count": 119,
   "metadata": {
    "collapsed": true
   },
   "outputs": [],
   "source": [
    "p = Function('p')\n",
    "y, c, z = IndexedBase('y'),IndexedBase('c'), IndexedBase('z')"
   ]
  },
  {
   "cell_type": "code",
   "execution_count": 120,
   "metadata": {
    "collapsed": false
   },
   "outputs": [
    {
     "data": {
      "image/png": "[encoded data removed]",
      "text/latex": [
       "$$p{\\left (z \\right )} = z^{2} - z - 1$$"
      ],
      "text/plain": [
       "        2        \n",
       "p(z) = z  - z - 1"
      ]
     },
     "execution_count": 120,
     "metadata": {},
     "output_type": "execute_result"
    }
   ],
   "source": [
    "fibonacci_poly = Eq(p(z), z**2 -z -1)\n",
    "fibonacci_poly"
   ]
  },
  {
   "cell_type": "code",
   "execution_count": 121,
   "metadata": {
    "collapsed": false
   },
   "outputs": [
    {
     "data": {
      "image/png": "[encoded data removed]",
      "text/latex": [
       "$$\\left \\{ z_{1} : \\frac{1}{2} \\left(1 + \\sqrt{5}\\right), \\quad z_{2} : - \\frac{1}{2} \\left(-1 + \\sqrt{5}\\right)\\right \\}$$"
      ],
      "text/plain": [
       "⎧      1 + √5        -(-1 + √5) ⎫\n",
       "⎨z[1]: ──────, z[2]: ───────────⎬\n",
       "⎩        2                2     ⎭"
      ]
     },
     "execution_count": 121,
     "metadata": {},
     "output_type": "execute_result"
    }
   ],
   "source": [
    "zs = solve(fibonacci_poly.rhs, [z])\n",
    "zs ={z[i]:v for i, v in enumerate(map(factor, sorted(zs, reverse=True)), start=1)}\n",
    "zs"
   ]
  },
  {
   "cell_type": "code",
   "execution_count": 122,
   "metadata": {
    "collapsed": false
   },
   "outputs": [
    {
     "data": {
      "image/png": "[encoded data removed]",
      "text/latex": [
       "$$y_{n} = c_{1} z_{1}^{n} + c_{2} z_{2}^{n}$$"
      ],
      "text/plain": [
       "                n            n\n",
       "y[n] = c[1]⋅z[1]  + c[2]⋅z[2] "
      ]
     },
     "execution_count": 122,
     "metadata": {},
     "output_type": "execute_result"
    }
   ],
   "source": [
    "solution = Eq(y[n], c[1]*z[1]**n + c[2]*z[2]**n)\n",
    "solution"
   ]
  },
  {
   "cell_type": "code",
   "execution_count": 129,
   "metadata": {
    "collapsed": false
   },
   "outputs": [
    {
     "data": {
      "image/png": "[encoded data removed]",
      "text/latex": [
       "$$\\left [ 0 = c_{1} + c_{2}, \\quad 1 = c_{1} z_{1} + c_{2} z_{2}\\right ]$$"
      ],
      "text/plain": [
       "[0 = c[1] + c[2], 1 = c[1]⋅z[1] + c[2]⋅z[2]]"
      ]
     },
     "execution_count": 129,
     "metadata": {},
     "output_type": "execute_result"
    }
   ],
   "source": [
    "initial_conditions = {0:0, 1:1}\n",
    "system = [solution.subs({n:k}).subs({y[k]:v}) for k, v in initial_conditions.items()]\n",
    "system"
   ]
  },
  {
   "cell_type": "code",
   "execution_count": 130,
   "metadata": {
    "collapsed": false
   },
   "outputs": [
    {
     "data": {
      "image/png": "[encoded data removed]",
      "text/latex": [
       "$$\\left \\{ c_{1} : \\frac{1}{z_{1} - z_{2}}, \\quad c_{2} : - \\frac{1}{z_{1} - z_{2}}\\right \\}$$"
      ],
      "text/plain": [
       "⎧           1                 -1     ⎫\n",
       "⎨c[1]: ───────────, c[2]: ───────────⎬\n",
       "⎩      z[1] - z[2]        z[1] - z[2]⎭"
      ]
     },
     "execution_count": 130,
     "metadata": {},
     "output_type": "execute_result"
    }
   ],
   "source": [
    "instantiated_sols = solve(system, [c[1],c[2]])\n",
    "instantiated_sols"
   ]
  },
  {
   "cell_type": "code",
   "execution_count": 131,
   "metadata": {
    "collapsed": false
   },
   "outputs": [
    {
     "data": {
      "image/png": "[encoded data removed]",
      "text/latex": [
       "$$\\left \\{ c_{1} : \\frac{\\sqrt{5}}{5}, \\quad c_{2} : - \\frac{\\sqrt{5}}{5}\\right \\}$$"
      ],
      "text/plain": [
       "⎧      √5        -√5 ⎫\n",
       "⎨c[1]: ──, c[2]: ────⎬\n",
       "⎩      5          5  ⎭"
      ]
     },
     "execution_count": 131,
     "metadata": {},
     "output_type": "execute_result"
    }
   ],
   "source": [
    "coeffs = {k: v.subs({z[1]:z1, z[2]:z2}).factor() for k,v in instantiated_sols.items()}\n",
    "coeffs"
   ]
  },
  {
   "cell_type": "code",
   "execution_count": 132,
   "metadata": {
    "collapsed": false
   },
   "outputs": [
    {
     "data": {
      "image/png": "[encoded data removed]",
      "text/latex": [
       "$$y_{n} = \\frac{\\sqrt{5}}{5} \\left(\\frac{1}{2} \\left(1 + \\sqrt{5}\\right)\\right)^{n} - \\frac{\\sqrt{5}}{5} \\left(- \\frac{1}{2} \\left(-1 + \\sqrt{5}\\right)\\right)^{n}$$"
      ],
      "text/plain": [
       "                  n                   n\n",
       "          ⎛1 + √5⎞       ⎛-(-1 + √5) ⎞ \n",
       "       √5⋅⎜──────⎟    √5⋅⎜───────────⎟ \n",
       "          ⎝  2   ⎠       ⎝     2     ⎠ \n",
       "y[n] = ──────────── - ─────────────────\n",
       "            5                 5        "
      ]
     },
     "execution_count": 132,
     "metadata": {},
     "output_type": "execute_result"
    }
   ],
   "source": [
    "complete_sol = solution.subs(coeffs).subs(zs)\n",
    "complete_sol"
   ]
  },
  {
   "cell_type": "code",
   "execution_count": 133,
   "metadata": {
    "collapsed": false
   },
   "outputs": [
    {
     "data": {
      "image/png": "[encoded data removed]",
      "text/latex": [
       "$$\\left [ y_{0} = 0, \\quad y_{1} = 1, \\quad y_{2} = 1, \\quad y_{3} = 2, \\quad y_{4} = 3, \\quad y_{5} = 5, \\quad y_{6} = 8, \\quad y_{7} = 13, \\quad y_{8} = 21, \\quad y_{9} = 34, \\quad y_{10} = 55, \\quad y_{11} = 89, \\quad y_{12} = 144, \\quad y_{13} = 233, \\quad y_{14} = 377\\right ]$$"
      ],
      "text/plain": [
       "[y[0] = 0, y[1] = 1, y[2] = 1, y[3] = 2, y[4] = 3, y[5] = 5, y[6] = 8, y[7] = \n",
       "13, y[8] = 21, y[9] = 34, y[10] = 55, y[11] = 89, y[12] = 144, y[13] = 233, y[\n",
       "14] = 377]"
      ]
     },
     "execution_count": 133,
     "metadata": {},
     "output_type": "execute_result"
    }
   ],
   "source": [
    "[complete_sol.subs(n,i).factor() for i in range(15)]"
   ]
  },
  {
   "cell_type": "code",
   "execution_count": null,
   "metadata": {
    "collapsed": true
   },
   "outputs": [],
   "source": []
  }
 ],
 "metadata": {
  "kernelspec": {
   "display_name": "Python 3",
   "language": "python",
   "name": "python3"
  },
  "language_info": {
   "codemirror_mode": {
    "name": "ipython",
    "version": 3
   },
   "file_extension": ".py",
   "mimetype": "text/x-python",
   "name": "python",
   "nbconvert_exporter": "python",
   "pygments_lexer": "ipython3",
   "version": "3.5.2"
  }
 },
 "nbformat": 4,
 "nbformat_minor": 1
}
