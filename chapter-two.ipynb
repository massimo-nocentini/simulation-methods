{
 "cells": [
  {
   "cell_type": "code",
   "execution_count": 1,
   "metadata": {
    "collapsed": true
   },
   "outputs": [],
   "source": [
    "from contextlib import contextmanager\n",
    "\n",
    "from sympy import *\n",
    "from sympy.abc import n, i, N, x, lamda, phi, z, m, j, r\n",
    "\n",
    "init_printing()"
   ]
  },
  {
   "cell_type": "code",
   "execution_count": 2,
   "metadata": {
    "collapsed": true
   },
   "outputs": [],
   "source": [
    "@contextmanager\n",
    "def lift_to_indexed(*syms):\n",
    "    yield map(IndexedBase, map(latex, syms))\n",
    "    \n",
    "@contextmanager\n",
    "def lift_to_Lambda(eq, return_eq=False):\n",
    "    yield Lambda(eq.lhs.args, eq if return_eq else eq.rhs)"
   ]
  },
  {
   "cell_type": "code",
   "execution_count": 3,
   "metadata": {
    "collapsed": true
   },
   "outputs": [],
   "source": [
    "phi_abstract_coefficient = IndexedBase(r'\\phi')\n",
    "\n",
    "def Phi_poly_ctor(deg, z=Symbol('z'), i=Symbol('i'), j=Symbol('j')):\n",
    "    k = symbols('k')\n",
    "    Phi = Function(r'\\Phi')\n",
    "    terms = Sum(phi_abstract_coefficient[i, j, deg-k] * z**k, (k, 0, deg)).doit()\n",
    "    return Eq(Phi(z, i, j), terms)\n"
   ]
  },
  {
   "cell_type": "code",
   "execution_count": 4,
   "metadata": {
    "collapsed": true
   },
   "outputs": [],
   "source": [
    "m = 2 # degree of \\Xi minimal polynomial"
   ]
  },
  {
   "cell_type": "code",
   "execution_count": 5,
   "metadata": {
    "collapsed": false
   },
   "outputs": [
    {
     "data": {
      "image/png": "[encoded data removed]",
      "text/latex": [
       "$$\\Phi{\\left (z,i,j \\right )} = z \\phi_{i,j,0} + \\phi_{i,j,1}$$"
      ],
      "text/plain": [
       "\\Phi(z, i, j) = z⋅\\phi[i, j, 0] + \\phi[i, j, 1]"
      ]
     },
     "execution_count": 5,
     "metadata": {},
     "output_type": "execute_result"
    }
   ],
   "source": [
    "Phi_poly = Phi_poly_ctor(deg=m-1)\n",
    "Phi_poly"
   ]
  },
  {
   "cell_type": "code",
   "execution_count": 6,
   "metadata": {
    "collapsed": false
   },
   "outputs": [
    {
     "data": {
      "image/png": "[encoded data removed]",
      "text/latex": [
       "$$\\left ( \\left( \\left ( z, \\quad i, \\quad j\\right ) \\mapsto z \\phi_{i,j,0} + \\phi_{i,j,1} \\right), \\quad z \\phi_{3,j,0} + \\phi_{3,j,1}\\right )$$"
      ],
      "text/plain": [
       "((z, i, j) ↦ z⋅\\phi[i, j, 0] + \\phi[i, j, 1], z⋅\\phi[3, j, 0] + \\phi[3, j, 1])"
      ]
     },
     "execution_count": 6,
     "metadata": {},
     "output_type": "execute_result"
    }
   ],
   "source": [
    "with lift_to_Lambda(Phi_poly) as Phi_fn:\n",
    "    pass\n",
    "\n",
    "Phi_fn, Phi_fn(z, 3, j)"
   ]
  },
  {
   "cell_type": "code",
   "execution_count": 7,
   "metadata": {
    "collapsed": false
   },
   "outputs": [
    {
     "data": {
      "image/png": "[encoded data removed]",
      "text/latex": [
       "$$\\left[\\begin{matrix}3 & 1\\\\1 & 3\\end{matrix}\\right]$$"
      ],
      "text/plain": [
       "⎡3  1⎤\n",
       "⎢    ⎥\n",
       "⎣1  3⎦"
      ]
     },
     "execution_count": 7,
     "metadata": {},
     "output_type": "execute_result"
    }
   ],
   "source": [
    "m = Matrix([\n",
    "        [3, 1],\n",
    "        [1, 3]\n",
    "    ])\n",
    "m"
   ]
  },
  {
   "cell_type": "code",
   "execution_count": 9,
   "metadata": {
    "collapsed": true
   },
   "outputs": [],
   "source": [
    "lamda_indexed = IndexedBase(r'\\lambda')\n",
    "mul_indexed = IndexedBase(r'm')\n",
    "\n",
    "def eigen_data(matrix):\n",
    "    eigenvals = {}\n",
    "    multiplicities = {}\n",
    "    data = {}\n",
    "    for i, (eigen_value, multiplicity) in enumerate(matrix.eigenvals().items(), start=1):\n",
    "        eigenvals[lamda_indexed[i]] = eigen_value\n",
    "        multiplicities[mul_indexed[i]] = multiplicity\n",
    "        data[i] = lamda_indexed[i], mul_indexed[i]\n",
    "    return data, eigenvals, multiplicities"
   ]
  },
  {
   "cell_type": "code",
   "execution_count": 10,
   "metadata": {
    "collapsed": false
   },
   "outputs": [
    {
     "data": {
      "image/png": "[encoded data removed]",
      "text/latex": [
       "$$\\left ( \\left \\{ 1 : \\left ( \\lambda_{1}, \\quad m_{1}\\right ), \\quad 2 : \\left ( \\lambda_{2}, \\quad m_{2}\\right )\\right \\}, \\quad \\left \\{ \\lambda_{1} : 2, \\quad \\lambda_{2} : 4\\right \\}, \\quad \\left \\{ m_{1} : 1, \\quad m_{2} : 1\\right \\}\\right )$$"
      ],
      "text/plain": [
       "({1: (\\lambda[1], m[1]), 2: (\\lambda[2], m[2])}, {\\lambda[1]: 2, \\lambda[2]: 4\n",
       "}, {m[1]: 1, m[2]: 1})"
      ]
     },
     "execution_count": 10,
     "metadata": {},
     "output_type": "execute_result"
    }
   ],
   "source": [
    "data, eigenvals, multiplicities = eigendata = eigen_data(m)\n",
    "eigendata"
   ]
  },
  {
   "cell_type": "code",
   "execution_count": 11,
   "metadata": {
    "collapsed": false
   },
   "outputs": [],
   "source": [
    "def Phi_poly_define(Phi_poly, eigendata):\n",
    "    \n",
    "    data, eigenvals, multiplicities = eigendata\n",
    "    z, *rest = Phi_poly.lhs.args\n",
    "    \n",
    "    def maker(i, j, verbose_return=False):\n",
    "        Phi_def, delta = Function(r'\\Phi_{{ {}, {} }}'.format(i, j)), Function(r'\\delta')\n",
    "\n",
    "        with lift_to_Lambda(Phi_poly) as Phi: \n",
    "            Phi_poly_ij = Phi(z, i, j)\n",
    "\n",
    "        eqs = set()\n",
    "        for l, (lamda_l, m_l) in data.items():\n",
    "            derivatives = [(r, Eq(delta(z), Phi_poly_ij.diff(z, r-1))) for r in range(1, multiplicities[m_l]+1)]\n",
    "            for r, der in derivatives:\n",
    "                with lift_to_Lambda(der) as der_fn:\n",
    "                    eqs.add(Eq(der_fn(lamda_l), KroneckerDelta(l, i)*KroneckerDelta(r, j)))\n",
    "\n",
    "        respect_to = [phi_abstract_coefficient[i,j,k] for k in range(poly(Phi_poly_ij, z).degree()+1)]\n",
    "        sols = solve(eqs, respect_to)\n",
    "\n",
    "        lhs = Phi_def(z)\n",
    "        rhs = Phi_poly_ij.subs(sols, simultaneous=True).collect(z)\n",
    "        baked_poly = Eq(lhs, rhs)\n",
    "        return (baked_poly, Eq(lhs, Phi_poly_ij), derivatives, eqs, sols) if verbose_return else baked_poly\n",
    "    \n",
    "    return maker\n",
    "        "
   ]
  },
  {
   "cell_type": "code",
   "execution_count": 12,
   "metadata": {
    "collapsed": false
   },
   "outputs": [
    {
     "data": {
      "image/png": "[encoded data removed]",
      "text/latex": [
       "$$\\Phi_{ 1, 1 }{\\left (z \\right )} = \\frac{z}{\\lambda_{1} - \\lambda_{2}} - \\frac{\\lambda_{2}}{\\lambda_{1} - \\lambda_{2}}$$"
      ],
      "text/plain": [
       "                              z                     \\lambda[2]      \n",
       "\\Phi_{ 1, 1 }(z) = ─────────────────────── - ───────────────────────\n",
       "                   \\lambda[1] - \\lambda[2]   \\lambda[1] - \\lambda[2]"
      ]
     },
     "execution_count": 12,
     "metadata": {},
     "output_type": "execute_result"
    }
   ],
   "source": [
    "make = Phi_poly_define(Phi_poly, eigendata)\n",
    "make(i=1, j=1,)"
   ]
  },
  {
   "cell_type": "code",
   "execution_count": 13,
   "metadata": {
    "collapsed": false
   },
   "outputs": [
    {
     "data": {
      "image/png": "[encoded data removed]",
      "text/latex": [
       "$$\\Phi_{ 1, 1 }{\\left (z \\right )} = - \\frac{z}{2} + 2$$"
      ],
      "text/plain": [
       "                     z    \n",
       "\\Phi_{ 1, 1 }(z) = - ─ + 2\n",
       "                     2    "
      ]
     },
     "execution_count": 13,
     "metadata": {},
     "output_type": "execute_result"
    }
   ],
   "source": [
    "_.subs(eigenvals)"
   ]
  },
  {
   "cell_type": "code",
   "execution_count": 14,
   "metadata": {
    "collapsed": false
   },
   "outputs": [
    {
     "data": {
      "image/png": "[encoded data removed]",
      "text/latex": [
       "$$\\Phi_{ 2, 1 }{\\left (z \\right )} = - \\frac{z}{\\lambda_{1} - \\lambda_{2}} + \\frac{\\lambda_{1}}{\\lambda_{1} - \\lambda_{2}}$$"
      ],
      "text/plain": [
       "                                z                     \\lambda[1]      \n",
       "\\Phi_{ 2, 1 }(z) = - ─────────────────────── + ───────────────────────\n",
       "                     \\lambda[1] - \\lambda[2]   \\lambda[1] - \\lambda[2]"
      ]
     },
     "execution_count": 14,
     "metadata": {},
     "output_type": "execute_result"
    }
   ],
   "source": [
    "make = Phi_poly_define(Phi_poly, eigendata)\n",
    "make(i=2, j=1,)"
   ]
  },
  {
   "cell_type": "code",
   "execution_count": 15,
   "metadata": {
    "collapsed": false
   },
   "outputs": [
    {
     "data": {
      "image/png": "[encoded data removed]",
      "text/latex": [
       "$$\\Phi_{ 2, 1 }{\\left (z \\right )} = \\frac{z}{2} - 1$$"
      ],
      "text/plain": [
       "                   z    \n",
       "\\Phi_{ 2, 1 }(z) = ─ - 1\n",
       "                   2    "
      ]
     },
     "execution_count": 15,
     "metadata": {},
     "output_type": "execute_result"
    }
   ],
   "source": [
    "_.subs(eigenvals)"
   ]
  },
  {
   "cell_type": "code",
   "execution_count": 16,
   "metadata": {
    "collapsed": false
   },
   "outputs": [],
   "source": [
    "def component_polynomials(Phi_poly, eigendata):\n",
    "    \n",
    "    make = Phi_poly_define(Phi_poly, eigendata)\n",
    "    data, eigenvals, multiplicities = eigendata\n",
    "    polynomials = {(i, j): make(i, j) \n",
    "                   for i, (lamda, mul) in data.items()\n",
    "                   for j in range(1, multiplicities[mul]+1)}\n",
    "\n",
    "    return polynomials"
   ]
  },
  {
   "cell_type": "code",
   "execution_count": 17,
   "metadata": {
    "collapsed": false
   },
   "outputs": [
    {
     "data": {
      "image/png": "[encoded data removed]",
      "text/latex": [
       "$$\\left \\{ \\left ( 1, \\quad 1\\right ) : \\Phi_{ 1, 1 }{\\left (z \\right )} = \\frac{z}{\\lambda_{1} - \\lambda_{2}} - \\frac{\\lambda_{2}}{\\lambda_{1} - \\lambda_{2}}, \\quad \\left ( 2, \\quad 1\\right ) : \\Phi_{ 2, 1 }{\\left (z \\right )} = - \\frac{z}{\\lambda_{1} - \\lambda_{2}} + \\frac{\\lambda_{1}}{\\lambda_{1} - \\lambda_{2}}\\right \\}$$"
      ],
      "text/plain": [
       "⎧                                      z                     \\lambda[2]       \n",
       "⎨(1, 1): \\Phi_{ 1, 1 }(z) = ─────────────────────── - ───────────────────────,\n",
       "⎩                           \\lambda[1] - \\lambda[2]   \\lambda[1] - \\lambda[2] \n",
       "\n",
       "                                         z                     \\lambda[1]     \n",
       " (2, 1): \\Phi_{ 2, 1 }(z) = - ─────────────────────── + ──────────────────────\n",
       "                              \\lambda[1] - \\lambda[2]   \\lambda[1] - \\lambda[2\n",
       "\n",
       " ⎫\n",
       "─⎬\n",
       "]⎭"
      ]
     },
     "execution_count": 17,
     "metadata": {},
     "output_type": "execute_result"
    }
   ],
   "source": [
    "Phi_polynomials = component_polynomials(Phi_poly, eigendata)\n",
    "Phi_polynomials"
   ]
  },
  {
   "cell_type": "code",
   "execution_count": 18,
   "metadata": {
    "collapsed": true
   },
   "outputs": [],
   "source": [
    "def g_poly(f_eq, eigendata, Phi_polys, matrix_form=False):\n",
    "    \n",
    "    data, eigenvals, multiplicities = eigendata\n",
    "    delta, g = Function(r'\\delta'), Function('g')\n",
    "    Z = IndexedBase('Z')\n",
    "    z, *rest = f_eq.lhs.args\n",
    "    \n",
    "    g_poly = Integer(0)\n",
    "    \n",
    "    for i, (lamda, mul) in data.items():\n",
    "        for j in range(1, multiplicities[mul]+1):\n",
    "            with lift_to_Lambda(f_eq) as f_fn,\\\n",
    "                 lift_to_Lambda(Eq(delta(z), f_fn(z).diff(z, j-1))) as der_fn,\\\n",
    "                 lift_to_Lambda(Phi_polys[i, j]) as Phi:\n",
    "                    derivative_term = der_fn(lamda)\n",
    "                    Phi_term = Z[i,j] if matrix_form else Phi(z)\n",
    "                    g_poly += derivative_term*Phi_term\n",
    "    \n",
    "    return Eq(g(z), g_poly.expand().collect(z))"
   ]
  },
  {
   "cell_type": "code",
   "execution_count": 19,
   "metadata": {
    "collapsed": false
   },
   "outputs": [
    {
     "data": {
      "image/png": "[encoded data removed]",
      "text/latex": [
       "$$f{\\left (z \\right )} = h{\\left (z \\right )}$$"
      ],
      "text/plain": [
       "f(z) = h(z)"
      ]
     },
     "execution_count": 19,
     "metadata": {},
     "output_type": "execute_result"
    }
   ],
   "source": [
    "f, h = Function('f'), Function('h')\n",
    "function_eq = Eq(f(z), h(z))\n",
    "function_eq"
   ]
  },
  {
   "cell_type": "code",
   "execution_count": 20,
   "metadata": {
    "collapsed": false
   },
   "outputs": [
    {
     "data": {
      "image/png": "[encoded data removed]",
      "text/latex": [
       "$$g{\\left (z \\right )} = z \\left(\\frac{h{\\left (\\lambda_{1} \\right )}}{\\lambda_{1} - \\lambda_{2}} - \\frac{h{\\left (\\lambda_{2} \\right )}}{\\lambda_{1} - \\lambda_{2}}\\right) - \\frac{h{\\left (\\lambda_{1} \\right )} \\lambda_{2}}{\\lambda_{1} - \\lambda_{2}} + \\frac{h{\\left (\\lambda_{2} \\right )} \\lambda_{1}}{\\lambda_{1} - \\lambda_{2}}$$"
      ],
      "text/plain": [
       "         ⎛     h(\\lambda[1])             h(\\lambda[2])     ⎞   h(\\lambda[1])⋅\\\n",
       "g(z) = z⋅⎜─────────────────────── - ───────────────────────⎟ - ───────────────\n",
       "         ⎝\\lambda[1] - \\lambda[2]   \\lambda[1] - \\lambda[2]⎠   \\lambda[1] - \\l\n",
       "\n",
       "lambda[2]   h(\\lambda[2])⋅\\lambda[1]\n",
       "───────── + ────────────────────────\n",
       "ambda[2]    \\lambda[1] - \\lambda[2] "
      ]
     },
     "execution_count": 20,
     "metadata": {},
     "output_type": "execute_result"
    }
   ],
   "source": [
    "g = g_poly(function_eq, eigendata, Phi_polynomials)\n",
    "g"
   ]
  },
  {
   "cell_type": "code",
   "execution_count": 21,
   "metadata": {
    "collapsed": false
   },
   "outputs": [
    {
     "data": {
      "image/png": "[encoded data removed]",
      "text/latex": [
       "$$g{\\left (z \\right )} = z \\left(- \\frac{1}{2} h{\\left (2 \\right )} + \\frac{1}{2} h{\\left (4 \\right )}\\right) + 2 h{\\left (2 \\right )} - h{\\left (4 \\right )}$$"
      ],
      "text/plain": [
       "         ⎛  h(2)   h(4)⎞                \n",
       "g(z) = z⋅⎜- ──── + ────⎟ + 2⋅h(2) - h(4)\n",
       "         ⎝   2      2  ⎠                "
      ]
     },
     "execution_count": 21,
     "metadata": {},
     "output_type": "execute_result"
    }
   ],
   "source": [
    "t = _.subs(eigenvals)\n",
    "t"
   ]
  },
  {
   "cell_type": "code",
   "execution_count": 22,
   "metadata": {
    "collapsed": false
   },
   "outputs": [],
   "source": [
    "@contextmanager\n",
    "def lift_to_matrix_function(f_def):\n",
    "    \n",
    "    def lift(matrix, post=lambda c: c.simplify()):\n",
    "       \n",
    "        z, *rest = f_def.lhs.args\n",
    "        gpp, *_ = poly_from_expr(f_def.rhs, z)\n",
    "\n",
    "        I = eye(matrix.rows)\n",
    "        Z = f_def.rhs.coeff(z, gpp.degree())*I\n",
    "\n",
    "        for d in range(gpp.degree()-1, -1, -1): Z = Z*matrix + f_def.rhs.coeff(z, d)*I\n",
    "\n",
    "        return Z.applyfunc(post) if callable(post) else Z\n",
    "\n",
    "    yield lift"
   ]
  },
  {
   "cell_type": "code",
   "execution_count": 23,
   "metadata": {
    "collapsed": false
   },
   "outputs": [
    {
     "data": {
      "image/png": "[encoded data removed]",
      "text/latex": [
       "$$\\left[\\begin{matrix}\\frac{1}{\\lambda_{1} - \\lambda_{2}} \\left(- h{\\left (\\lambda_{1} \\right )} \\lambda_{2} + 3 h{\\left (\\lambda_{1} \\right )} + h{\\left (\\lambda_{2} \\right )} \\lambda_{1} - 3 h{\\left (\\lambda_{2} \\right )}\\right) & \\frac{1}{\\lambda_{1} - \\lambda_{2}} \\left(h{\\left (\\lambda_{1} \\right )} - h{\\left (\\lambda_{2} \\right )}\\right)\\\\\\frac{1}{\\lambda_{1} - \\lambda_{2}} \\left(h{\\left (\\lambda_{1} \\right )} - h{\\left (\\lambda_{2} \\right )}\\right) & \\frac{1}{\\lambda_{1} - \\lambda_{2}} \\left(- h{\\left (\\lambda_{1} \\right )} \\lambda_{2} + 3 h{\\left (\\lambda_{1} \\right )} + h{\\left (\\lambda_{2} \\right )} \\lambda_{1} - 3 h{\\left (\\lambda_{2} \\right )}\\right)\\end{matrix}\\right]$$"
      ],
      "text/plain": [
       "⎡-h(\\lambda[1])⋅\\lambda[2] + 3⋅h(\\lambda[1]) + h(\\lambda[2])⋅\\lambda[1] - 3⋅h(\n",
       "⎢─────────────────────────────────────────────────────────────────────────────\n",
       "⎢                                \\lambda[1] - \\lambda[2]                      \n",
       "⎢                                                                             \n",
       "⎢                             h(\\lambda[1]) - h(\\lambda[2])                   \n",
       "⎢                             ─────────────────────────────                   \n",
       "⎣                                \\lambda[1] - \\lambda[2]                      \n",
       "\n",
       "\\lambda[2])                               h(\\lambda[1]) - h(\\lambda[2])       \n",
       "───────────                               ─────────────────────────────       \n",
       "                                             \\lambda[1] - \\lambda[2]          \n",
       "                                                                              \n",
       "             -h(\\lambda[1])⋅\\lambda[2] + 3⋅h(\\lambda[1]) + h(\\lambda[2])⋅\\lamb\n",
       "             ─────────────────────────────────────────────────────────────────\n",
       "                                             \\lambda[1] - \\lambda[2]          \n",
       "\n",
       "                       ⎤\n",
       "                       ⎥\n",
       "                       ⎥\n",
       "                       ⎥\n",
       "da[1] - 3⋅h(\\lambda[2])⎥\n",
       "───────────────────────⎥\n",
       "                       ⎦"
      ]
     },
     "execution_count": 23,
     "metadata": {},
     "output_type": "execute_result"
    }
   ],
   "source": [
    "with lift_to_matrix_function(g) as g_fn:\n",
    "    res = g_fn(m)\n",
    "\n",
    "res"
   ]
  },
  {
   "cell_type": "code",
   "execution_count": 24,
   "metadata": {
    "collapsed": false
   },
   "outputs": [
    {
     "data": {
      "image/png": "[encoded data removed]",
      "text/latex": [
       "$$\\left[\\begin{matrix}\\frac{1}{2} h{\\left (2 \\right )} + \\frac{1}{2} h{\\left (4 \\right )} & - \\frac{1}{2} h{\\left (2 \\right )} + \\frac{1}{2} h{\\left (4 \\right )}\\\\- \\frac{1}{2} h{\\left (2 \\right )} + \\frac{1}{2} h{\\left (4 \\right )} & \\frac{1}{2} h{\\left (2 \\right )} + \\frac{1}{2} h{\\left (4 \\right )}\\end{matrix}\\right]$$"
      ],
      "text/plain": [
       "⎡ h(2)   h(4)     h(2)   h(4)⎤\n",
       "⎢ ──── + ────   - ──── + ────⎥\n",
       "⎢  2      2        2      2  ⎥\n",
       "⎢                            ⎥\n",
       "⎢  h(2)   h(4)   h(2)   h(4) ⎥\n",
       "⎢- ──── + ────   ──── + ──── ⎥\n",
       "⎣   2      2      2      2   ⎦"
      ]
     },
     "execution_count": 24,
     "metadata": {},
     "output_type": "execute_result"
    }
   ],
   "source": [
    "res.subs(eigenvals)"
   ]
  },
  {
   "cell_type": "code",
   "execution_count": 25,
   "metadata": {
    "collapsed": false,
    "scrolled": false
   },
   "outputs": [],
   "source": [
    "def component_matrices(matrix, Phi_polys):\n",
    "\n",
    "    Z_matrices = {}\n",
    "    \n",
    "    for (i, j), cp in Phi_polys.items():\n",
    "        with lift_to_matrix_function(cp) as cp_fn:\n",
    "            Z_matrices[i, j] = cp_fn(matrix)\n",
    "    \n",
    "    return Z_matrices"
   ]
  },
  {
   "cell_type": "code",
   "execution_count": 26,
   "metadata": {
    "collapsed": false
   },
   "outputs": [
    {
     "data": {
      "image/png": "[encoded data removed]",
      "text/latex": [
       "$$\\left \\{ \\left ( 1, \\quad 1\\right ) : \\left[\\begin{matrix}\\frac{- \\lambda_{2} + 3}{\\lambda_{1} - \\lambda_{2}} & \\frac{1}{\\lambda_{1} - \\lambda_{2}}\\\\\\frac{1}{\\lambda_{1} - \\lambda_{2}} & \\frac{- \\lambda_{2} + 3}{\\lambda_{1} - \\lambda_{2}}\\end{matrix}\\right], \\quad \\left ( 2, \\quad 1\\right ) : \\left[\\begin{matrix}\\frac{\\lambda_{1} - 3}{\\lambda_{1} - \\lambda_{2}} & - \\frac{1}{\\lambda_{1} - \\lambda_{2}}\\\\- \\frac{1}{\\lambda_{1} - \\lambda_{2}} & \\frac{\\lambda_{1} - 3}{\\lambda_{1} - \\lambda_{2}}\\end{matrix}\\right]\\right \\}$$"
      ],
      "text/plain": [
       "⎧        ⎡    -\\lambda[2] + 3                 1           ⎤          ⎡     \\la\n",
       "⎪(1, 1): ⎢───────────────────────  ───────────────────────⎥, (2, 1): ⎢────────\n",
       "⎪        ⎢\\lambda[1] - \\lambda[2]  \\lambda[1] - \\lambda[2]⎥          ⎢\\lambda[\n",
       "⎨        ⎢                                                ⎥          ⎢        \n",
       "⎪        ⎢           1                 -\\lambda[2] + 3    ⎥          ⎢        \n",
       "⎪        ⎢───────────────────────  ───────────────────────⎥          ⎢────────\n",
       "⎩        ⎣\\lambda[1] - \\lambda[2]  \\lambda[1] - \\lambda[2]⎦          ⎣\\lambda[\n",
       "\n",
       "mbda[1] - 3                -1           ⎤⎫\n",
       "───────────────  ───────────────────────⎥⎪\n",
       "1] - \\lambda[2]  \\lambda[1] - \\lambda[2]⎥⎪\n",
       "                                        ⎥⎬\n",
       "  -1                  \\lambda[1] - 3    ⎥⎪\n",
       "───────────────  ───────────────────────⎥⎪\n",
       "1] - \\lambda[2]  \\lambda[1] - \\lambda[2]⎦⎭"
      ]
     },
     "execution_count": 26,
     "metadata": {},
     "output_type": "execute_result"
    }
   ],
   "source": [
    "cmatrices = component_matrices(m, Phi_polynomials)\n",
    "cmatrices"
   ]
  },
  {
   "cell_type": "code",
   "execution_count": 27,
   "metadata": {
    "collapsed": false,
    "scrolled": false
   },
   "outputs": [
    {
     "data": {
      "image/png": "[encoded data removed]",
      "text/latex": [
       "$$\\left [ \\left[\\begin{matrix}\\frac{- \\lambda_{2} + 3}{\\lambda_{1} - \\lambda_{2}} & \\frac{1}{\\lambda_{1} - \\lambda_{2}}\\\\\\frac{1}{\\lambda_{1} - \\lambda_{2}} & \\frac{- \\lambda_{2} + 3}{\\lambda_{1} - \\lambda_{2}}\\end{matrix}\\right], \\quad \\left[\\begin{matrix}\\frac{\\lambda_{1} - 3}{\\lambda_{1} - \\lambda_{2}} & - \\frac{1}{\\lambda_{1} - \\lambda_{2}}\\\\- \\frac{1}{\\lambda_{1} - \\lambda_{2}} & \\frac{\\lambda_{1} - 3}{\\lambda_{1} - \\lambda_{2}}\\end{matrix}\\right]\\right ]$$"
      ],
      "text/plain": [
       "⎡⎡    -\\lambda[2] + 3                 1           ⎤  ⎡     \\lambda[1] - 3     \n",
       "⎢⎢───────────────────────  ───────────────────────⎥, ⎢─────────────────────── \n",
       "⎢⎢\\lambda[1] - \\lambda[2]  \\lambda[1] - \\lambda[2]⎥  ⎢\\lambda[1] - \\lambda[2] \n",
       "⎢⎢                                                ⎥  ⎢                        \n",
       "⎢⎢           1                 -\\lambda[2] + 3    ⎥  ⎢          -1            \n",
       "⎢⎢───────────────────────  ───────────────────────⎥  ⎢─────────────────────── \n",
       "⎣⎣\\lambda[1] - \\lambda[2]  \\lambda[1] - \\lambda[2]⎦  ⎣\\lambda[1] - \\lambda[2] \n",
       "\n",
       "           -1           ⎤⎤\n",
       " ───────────────────────⎥⎥\n",
       " \\lambda[1] - \\lambda[2]⎥⎥\n",
       "                        ⎥⎥\n",
       "      \\lambda[1] - 3    ⎥⎥\n",
       " ───────────────────────⎥⎥\n",
       " \\lambda[1] - \\lambda[2]⎦⎦"
      ]
     },
     "execution_count": 27,
     "metadata": {},
     "output_type": "execute_result"
    }
   ],
   "source": [
    "Zi1 = list(cm.as_immutable() for (i, j), cm in cmatrices.items() if j == 1)\n",
    "Zi1"
   ]
  },
  {
   "cell_type": "code",
   "execution_count": 28,
   "metadata": {
    "collapsed": false
   },
   "outputs": [
    {
     "data": {
      "image/png": "[encoded data removed]",
      "text/latex": [
       "$$\\left ( \\left[\\begin{matrix}\\frac{\\lambda_{1} - 3}{\\lambda_{1} - \\lambda_{2}} + \\frac{- \\lambda_{2} + 3}{\\lambda_{1} - \\lambda_{2}} & 0\\\\0 & \\frac{\\lambda_{1} - 3}{\\lambda_{1} - \\lambda_{2}} + \\frac{- \\lambda_{2} + 3}{\\lambda_{1} - \\lambda_{2}}\\end{matrix}\\right], \\quad \\left[\\begin{matrix}1 & 0\\\\0 & 1\\end{matrix}\\right]\\right )$$"
      ],
      "text/plain": [
       "⎛⎡     \\lambda[1] - 3           -\\lambda[2] + 3                               \n",
       "⎜⎢─────────────────────── + ───────────────────────                          0\n",
       "⎜⎢\\lambda[1] - \\lambda[2]   \\lambda[1] - \\lambda[2]                           \n",
       "⎜⎢                                                                            \n",
       "⎜⎢                                                        \\lambda[1] - 3      \n",
       "⎜⎢                        0                          ─────────────────────── +\n",
       "⎝⎣                                                   \\lambda[1] - \\lambda[2]  \n",
       "\n",
       "                        ⎤        ⎞\n",
       "                        ⎥, ⎡1  0⎤⎟\n",
       "                        ⎥  ⎢    ⎥⎟\n",
       "                        ⎥  ⎣0  1⎦⎟\n",
       "     -\\lambda[2] + 3    ⎥        ⎟\n",
       " ───────────────────────⎥        ⎟\n",
       " \\lambda[1] - \\lambda[2]⎦        ⎠"
      ]
     },
     "execution_count": 28,
     "metadata": {},
     "output_type": "execute_result"
    }
   ],
   "source": [
    "s = zeros(m.rows)\n",
    "for Z in Zi1:\n",
    "    s += Z\n",
    "s, s.subs(eigenvals)"
   ]
  },
  {
   "cell_type": "markdown",
   "metadata": {},
   "source": [
    "### `const`"
   ]
  },
  {
   "cell_type": "code",
   "execution_count": 101,
   "metadata": {
    "collapsed": false
   },
   "outputs": [
    {
     "data": {
      "image/png": "[encoded data removed]",
      "text/latex": [
       "$$f{\\left (z \\right )} = r$$"
      ],
      "text/plain": [
       "f(z) = r"
      ]
     },
     "execution_count": 101,
     "metadata": {},
     "output_type": "execute_result"
    }
   ],
   "source": [
    "fn = Eq(f(z), r)\n",
    "fn"
   ]
  },
  {
   "cell_type": "code",
   "execution_count": 102,
   "metadata": {
    "collapsed": false
   },
   "outputs": [
    {
     "data": {
      "image/png": "[encoded data removed]",
      "text/latex": [
       "$$g{\\left (z \\right )} = \\frac{r \\lambda_{1}}{\\lambda_{1} - \\lambda_{2}} - \\frac{r \\lambda_{2}}{\\lambda_{1} - \\lambda_{2}}$$"
      ],
      "text/plain": [
       "             r⋅\\lambda[1]              r⋅\\lambda[2]     \n",
       "g(z) = ─────────────────────── - ───────────────────────\n",
       "       \\lambda[1] - \\lambda[2]   \\lambda[1] - \\lambda[2]"
      ]
     },
     "execution_count": 102,
     "metadata": {},
     "output_type": "execute_result"
    }
   ],
   "source": [
    "g = g_poly(fn, eigendata, Phi_polynomials)\n",
    "g"
   ]
  },
  {
   "cell_type": "code",
   "execution_count": 103,
   "metadata": {
    "collapsed": false
   },
   "outputs": [
    {
     "data": {
      "image/png": "[encoded data removed]",
      "text/latex": [
       "$$g{\\left (z \\right )} = r$$"
      ],
      "text/plain": [
       "g(z) = r"
      ]
     },
     "execution_count": 103,
     "metadata": {},
     "output_type": "execute_result"
    }
   ],
   "source": [
    "g = g.subs(eigenvals)\n",
    "g"
   ]
  },
  {
   "cell_type": "code",
   "execution_count": 105,
   "metadata": {
    "collapsed": false
   },
   "outputs": [
    {
     "data": {
      "image/png": "[encoded data removed]",
      "text/latex": [
       "$$\\left[\\begin{matrix}r & 0\\\\0 & r\\end{matrix}\\right]$$"
      ],
      "text/plain": [
       "⎡r  0⎤\n",
       "⎢    ⎥\n",
       "⎣0  r⎦"
      ]
     },
     "execution_count": 105,
     "metadata": {},
     "output_type": "execute_result"
    }
   ],
   "source": [
    "with lift_to_matrix_function(g) as g_const:\n",
    "    m_const = g_const(m)\n",
    "m_const"
   ]
  },
  {
   "cell_type": "markdown",
   "metadata": {},
   "source": [
    "### `identity`"
   ]
  },
  {
   "cell_type": "code",
   "execution_count": 42,
   "metadata": {
    "collapsed": false
   },
   "outputs": [
    {
     "data": {
      "image/png": "[encoded data removed]",
      "text/latex": [
       "$$f{\\left (z \\right )} = z$$"
      ],
      "text/plain": [
       "f(z) = z"
      ]
     },
     "execution_count": 42,
     "metadata": {},
     "output_type": "execute_result"
    }
   ],
   "source": [
    "fn = Eq(f(z), z)\n",
    "fn"
   ]
  },
  {
   "cell_type": "code",
   "execution_count": 43,
   "metadata": {
    "collapsed": false
   },
   "outputs": [
    {
     "data": {
      "image/png": "[encoded data removed]",
      "text/latex": [
       "$$g{\\left (z \\right )} = \\lambda_{1} Z_{1,1} + \\lambda_{2} Z_{2,1}$$"
      ],
      "text/plain": [
       "g(z) = \\lambda[1]⋅Z[1, 1] + \\lambda[2]⋅Z[2, 1]"
      ]
     },
     "execution_count": 43,
     "metadata": {},
     "output_type": "execute_result"
    }
   ],
   "source": [
    "g = g_poly(fn, eigendata, Phi_polynomials, matrix_form=True)\n",
    "g"
   ]
  },
  {
   "cell_type": "code",
   "execution_count": 44,
   "metadata": {
    "collapsed": false
   },
   "outputs": [
    {
     "data": {
      "image/png": "[encoded data removed]",
      "text/latex": [
       "$$g{\\left (z \\right )} = z \\left(\\frac{\\lambda_{1}}{\\lambda_{1} - \\lambda_{2}} - \\frac{\\lambda_{2}}{\\lambda_{1} - \\lambda_{2}}\\right)$$"
      ],
      "text/plain": [
       "         ⎛       \\lambda[1]                \\lambda[2]      ⎞\n",
       "g(z) = z⋅⎜─────────────────────── - ───────────────────────⎟\n",
       "         ⎝\\lambda[1] - \\lambda[2]   \\lambda[1] - \\lambda[2]⎠"
      ]
     },
     "execution_count": 44,
     "metadata": {},
     "output_type": "execute_result"
    }
   ],
   "source": [
    "g = g_poly(fn, eigendata, Phi_polynomials, matrix_form=False)\n",
    "g"
   ]
  },
  {
   "cell_type": "code",
   "execution_count": 45,
   "metadata": {
    "collapsed": false
   },
   "outputs": [
    {
     "data": {
      "image/png": "[encoded data removed]",
      "text/latex": [
       "$$\\left[\\begin{matrix}3 & 1\\\\1 & 3\\end{matrix}\\right]$$"
      ],
      "text/plain": [
       "⎡3  1⎤\n",
       "⎢    ⎥\n",
       "⎣1  3⎦"
      ]
     },
     "execution_count": 45,
     "metadata": {},
     "output_type": "execute_result"
    }
   ],
   "source": [
    "with lift_to_matrix_function(g) as g_identity:\n",
    "    m_identity = g_identity(m)\n",
    "m_identity"
   ]
  },
  {
   "cell_type": "code",
   "execution_count": 46,
   "metadata": {
    "collapsed": false
   },
   "outputs": [
    {
     "data": {
      "image/png": "[encoded data removed]",
      "text/latex": [
       "$$g{\\left (z \\right )} = z$$"
      ],
      "text/plain": [
       "g(z) = z"
      ]
     },
     "execution_count": 46,
     "metadata": {},
     "output_type": "execute_result"
    }
   ],
   "source": [
    "g = g.subs(eigenvals)\n",
    "g"
   ]
  },
  {
   "cell_type": "code",
   "execution_count": 47,
   "metadata": {
    "collapsed": false
   },
   "outputs": [
    {
     "data": {
      "image/png": "[encoded data removed]",
      "text/latex": [
       "$$\\left[\\begin{matrix}3 & 1\\\\1 & 3\\end{matrix}\\right]$$"
      ],
      "text/plain": [
       "⎡3  1⎤\n",
       "⎢    ⎥\n",
       "⎣1  3⎦"
      ]
     },
     "execution_count": 47,
     "metadata": {},
     "output_type": "execute_result"
    }
   ],
   "source": [
    "with lift_to_matrix_function(g) as g_sqrt:\n",
    "    m_sqrt = g_sqrt(m)\n",
    "m_sqrt"
   ]
  },
  {
   "cell_type": "markdown",
   "metadata": {},
   "source": [
    "### `sqrt`"
   ]
  },
  {
   "cell_type": "code",
   "execution_count": 92,
   "metadata": {
    "collapsed": false
   },
   "outputs": [
    {
     "data": {
      "image/png": "[encoded data removed]",
      "text/latex": [
       "$$f{\\left (z \\right )} = \\sqrt{z}$$"
      ],
      "text/plain": [
       "f(z) = √z"
      ]
     },
     "execution_count": 92,
     "metadata": {},
     "output_type": "execute_result"
    }
   ],
   "source": [
    "fn = Eq(f(z), sqrt(z))\n",
    "fn"
   ]
  },
  {
   "cell_type": "code",
   "execution_count": 93,
   "metadata": {
    "collapsed": false
   },
   "outputs": [
    {
     "data": {
      "image/png": "[encoded data removed]",
      "text/latex": [
       "$$g{\\left (z \\right )} = z \\left(\\frac{\\sqrt{\\lambda_{1}}}{\\lambda_{1} - \\lambda_{2}} - \\frac{\\sqrt{\\lambda_{2}}}{\\lambda_{1} - \\lambda_{2}}\\right) - \\frac{\\sqrt{\\lambda_{1}} \\lambda_{2}}{\\lambda_{1} - \\lambda_{2}} + \\frac{\\lambda_{1} \\sqrt{\\lambda_{2}}}{\\lambda_{1} - \\lambda_{2}}$$"
      ],
      "text/plain": [
       "         ⎛       ____________              ____________    ⎞     ____________ \n",
       "         ⎜     ╲╱ \\lambda[1]             ╲╱ \\lambda[2]     ⎟   ╲╱ \\lambda[1] ⋅\n",
       "g(z) = z⋅⎜─────────────────────── - ───────────────────────⎟ - ───────────────\n",
       "         ⎝\\lambda[1] - \\lambda[2]   \\lambda[1] - \\lambda[2]⎠    \\lambda[1] - \\\n",
       "\n",
       "                          ____________\n",
       "\\lambda[2]   \\lambda[1]⋅╲╱ \\lambda[2] \n",
       "────────── + ─────────────────────────\n",
       "lambda[2]     \\lambda[1] - \\lambda[2] "
      ]
     },
     "execution_count": 93,
     "metadata": {},
     "output_type": "execute_result"
    }
   ],
   "source": [
    "g = g_poly(fn, eigendata, Phi_polynomials)\n",
    "g"
   ]
  },
  {
   "cell_type": "code",
   "execution_count": 94,
   "metadata": {
    "collapsed": false
   },
   "outputs": [
    {
     "data": {
      "image/png": "[encoded data removed]",
      "text/latex": [
       "$$g{\\left (z \\right )} = z \\left(- \\frac{\\sqrt{2}}{2} + 1\\right) - 2 + 2 \\sqrt{2}$$"
      ],
      "text/plain": [
       "         ⎛  √2    ⎞           \n",
       "g(z) = z⋅⎜- ── + 1⎟ - 2 + 2⋅√2\n",
       "         ⎝  2     ⎠           "
      ]
     },
     "execution_count": 94,
     "metadata": {},
     "output_type": "execute_result"
    }
   ],
   "source": [
    "g = g.subs(eigenvals)\n",
    "g"
   ]
  },
  {
   "cell_type": "code",
   "execution_count": 95,
   "metadata": {
    "collapsed": false
   },
   "outputs": [
    {
     "data": {
      "image/png": "[encoded data removed]",
      "text/latex": [
       "$$\\left[\\begin{matrix}\\frac{\\sqrt{2}}{2} + 1 & - \\frac{\\sqrt{2}}{2} + 1\\\\- \\frac{\\sqrt{2}}{2} + 1 & \\frac{\\sqrt{2}}{2} + 1\\end{matrix}\\right]$$"
      ],
      "text/plain": [
       "⎡ √2         √2    ⎤\n",
       "⎢ ── + 1   - ── + 1⎥\n",
       "⎢ 2          2     ⎥\n",
       "⎢                  ⎥\n",
       "⎢  √2       √2     ⎥\n",
       "⎢- ── + 1   ── + 1 ⎥\n",
       "⎣  2        2      ⎦"
      ]
     },
     "execution_count": 95,
     "metadata": {},
     "output_type": "execute_result"
    }
   ],
   "source": [
    "with lift_to_matrix_function(g) as g_sqrt:\n",
    "    m_sqrt = g_sqrt(m)\n",
    "m_sqrt"
   ]
  },
  {
   "cell_type": "code",
   "execution_count": 98,
   "metadata": {
    "collapsed": false
   },
   "outputs": [
    {
     "data": {
      "image/png": "[encoded data removed]",
      "text/latex": [
       "$$\\left[\\begin{matrix}3 & 1\\\\1 & 3\\end{matrix}\\right]$$"
      ],
      "text/plain": [
       "⎡3  1⎤\n",
       "⎢    ⎥\n",
       "⎣1  3⎦"
      ]
     },
     "execution_count": 98,
     "metadata": {},
     "output_type": "execute_result"
    }
   ],
   "source": [
    "(m_sqrt**2).applyfunc(simplify)"
   ]
  },
  {
   "cell_type": "markdown",
   "metadata": {},
   "source": [
    "### `power`"
   ]
  },
  {
   "cell_type": "code",
   "execution_count": 54,
   "metadata": {
    "collapsed": false
   },
   "outputs": [
    {
     "data": {
      "image/png": "[encoded data removed]",
      "text/latex": [
       "$$f{\\left (z \\right )} = z^{r}$$"
      ],
      "text/plain": [
       "        r\n",
       "f(z) = z "
      ]
     },
     "execution_count": 54,
     "metadata": {},
     "output_type": "execute_result"
    }
   ],
   "source": [
    "fn = Eq(f(z), z**r)\n",
    "fn"
   ]
  },
  {
   "cell_type": "code",
   "execution_count": 55,
   "metadata": {
    "collapsed": false
   },
   "outputs": [
    {
     "data": {
      "image/png": "[encoded data removed]",
      "text/latex": [
       "$$g{\\left (z \\right )} = \\lambda_{1}^{r} Z_{1,1} + \\lambda_{2}^{r} Z_{2,1}$$"
      ],
      "text/plain": [
       "                 r                     r        \n",
       "g(z) = \\lambda[1] ⋅Z[1, 1] + \\lambda[2] ⋅Z[2, 1]"
      ]
     },
     "execution_count": 55,
     "metadata": {},
     "output_type": "execute_result"
    }
   ],
   "source": [
    "g = g_poly(fn, eigendata, Phi_polynomials, matrix_form=True)\n",
    "g"
   ]
  },
  {
   "cell_type": "code",
   "execution_count": 56,
   "metadata": {
    "collapsed": false
   },
   "outputs": [
    {
     "data": {
      "image/png": "[encoded data removed]",
      "text/latex": [
       "$$g{\\left (z \\right )} = \\lambda_{1}^{r} \\left[\\begin{matrix}1 & 0 & 0 & 0 & 0\\\\1 & 1 & 0 & 0 & 0\\\\1 & 2 & 1 & 0 & 0\\\\1 & 3 & 3 & 1 & 0\\\\1 & 4 & 6 & 4 & 1\\end{matrix}\\right] + \\lambda_{2}^{r} Z_{2,1}$$"
      ],
      "text/plain": [
       "                 r                             r        \n",
       "g(z) = \\lambda[1] ⋅⎡1  0  0  0  0⎤ + \\lambda[2] ⋅Z[2, 1]\n",
       "                   ⎢             ⎥                      \n",
       "                   ⎢1  1  0  0  0⎥                      \n",
       "                   ⎢             ⎥                      \n",
       "                   ⎢1  2  1  0  0⎥                      \n",
       "                   ⎢             ⎥                      \n",
       "                   ⎢1  3  3  1  0⎥                      \n",
       "                   ⎢             ⎥                      \n",
       "                   ⎣1  4  6  4  1⎦                      "
      ]
     },
     "execution_count": 56,
     "metadata": {},
     "output_type": "execute_result"
    }
   ],
   "source": [
    "Z = IndexedBase('Z')\n",
    "g.subs({Z[1,1]:Matrix(5,5, binomial)})"
   ]
  },
  {
   "cell_type": "code",
   "execution_count": 57,
   "metadata": {
    "collapsed": false
   },
   "outputs": [
    {
     "data": {
      "image/png": "[encoded data removed]",
      "text/latex": [
       "$$g{\\left (z \\right )} = z \\left(\\frac{\\lambda_{1}^{r}}{\\lambda_{1} - \\lambda_{2}} - \\frac{\\lambda_{2}^{r}}{\\lambda_{1} - \\lambda_{2}}\\right) + \\frac{\\lambda_{1} \\lambda_{2}^{r}}{\\lambda_{1} - \\lambda_{2}} - \\frac{\\lambda_{1}^{r} \\lambda_{2}}{\\lambda_{1} - \\lambda_{2}}$$"
      ],
      "text/plain": [
       "         ⎛                r                         r      ⎞                  \n",
       "         ⎜      \\lambda[1]                \\lambda[2]       ⎟    \\lambda[1]⋅\\la\n",
       "g(z) = z⋅⎜─────────────────────── - ───────────────────────⎟ + ───────────────\n",
       "         ⎝\\lambda[1] - \\lambda[2]   \\lambda[1] - \\lambda[2]⎠   \\lambda[1] - \\l\n",
       "\n",
       "       r              r           \n",
       "mbda[2]     \\lambda[1] ⋅\\lambda[2]\n",
       "──────── - ───────────────────────\n",
       "ambda[2]   \\lambda[1] - \\lambda[2]"
      ]
     },
     "execution_count": 57,
     "metadata": {},
     "output_type": "execute_result"
    }
   ],
   "source": [
    "g = g_poly(fn, eigendata, Phi_polynomials)\n",
    "g"
   ]
  },
  {
   "cell_type": "code",
   "execution_count": 58,
   "metadata": {
    "collapsed": false
   },
   "outputs": [
    {
     "data": {
      "image/png": "[encoded data removed]",
      "text/latex": [
       "$$g{\\left (z \\right )} = 2 \\cdot 2^{r} - 4^{r} + z \\left(- \\frac{2^{r}}{2} + \\frac{4^{r}}{2}\\right)$$"
      ],
      "text/plain": [
       "                     ⎛   r    r⎞\n",
       "          r    r     ⎜  2    4 ⎟\n",
       "g(z) = 2⋅2  - 4  + z⋅⎜- ── + ──⎟\n",
       "                     ⎝  2    2 ⎠"
      ]
     },
     "execution_count": 58,
     "metadata": {},
     "output_type": "execute_result"
    }
   ],
   "source": [
    "g = g.subs(eigenvals)\n",
    "g"
   ]
  },
  {
   "cell_type": "code",
   "execution_count": 66,
   "metadata": {
    "collapsed": false
   },
   "outputs": [
    {
     "data": {
      "image/png": "[encoded data removed]",
      "text/latex": [
       "$$\\left[\\begin{matrix}2^{r - 1} \\left(2^{r} + 1\\right) & 2^{r - 1} \\left(2^{r} - 1\\right)\\\\2^{r - 1} \\left(2^{r} - 1\\right) & 2^{r - 1} \\left(2^{r} + 1\\right)\\end{matrix}\\right]$$"
      ],
      "text/plain": [
       "⎡ r - 1 ⎛ r    ⎞   r - 1 ⎛ r    ⎞⎤\n",
       "⎢2     ⋅⎝2  + 1⎠  2     ⋅⎝2  - 1⎠⎥\n",
       "⎢                                ⎥\n",
       "⎢ r - 1 ⎛ r    ⎞   r - 1 ⎛ r    ⎞⎥\n",
       "⎣2     ⋅⎝2  - 1⎠  2     ⋅⎝2  + 1⎠⎦"
      ]
     },
     "execution_count": 66,
     "metadata": {},
     "output_type": "execute_result"
    }
   ],
   "source": [
    "with lift_to_matrix_function(g) as g_power:\n",
    "    m_power = g_power(m)\n",
    "m_power"
   ]
  },
  {
   "cell_type": "code",
   "execution_count": 67,
   "metadata": {
    "collapsed": false
   },
   "outputs": [
    {
     "data": {
      "image/png": "[encoded data removed]",
      "text/latex": [
       "$$\\left[\\begin{matrix}2^{r - 1} \\left(2^{r} + 1\\right) & 2^{r - 1} \\left(2^{r} - 1\\right)\\\\2^{r - 1} \\left(2^{r} - 1\\right) & 2^{r - 1} \\left(2^{r} + 1\\right)\\end{matrix}\\right]$$"
      ],
      "text/plain": [
       "⎡ r - 1 ⎛ r    ⎞   r - 1 ⎛ r    ⎞⎤\n",
       "⎢2     ⋅⎝2  + 1⎠  2     ⋅⎝2  - 1⎠⎥\n",
       "⎢                                ⎥\n",
       "⎢ r - 1 ⎛ r    ⎞   r - 1 ⎛ r    ⎞⎥\n",
       "⎣2     ⋅⎝2  - 1⎠  2     ⋅⎝2  + 1⎠⎦"
      ]
     },
     "execution_count": 67,
     "metadata": {},
     "output_type": "execute_result"
    }
   ],
   "source": [
    "(m**r).applyfunc(simplify)"
   ]
  },
  {
   "cell_type": "code",
   "execution_count": 64,
   "metadata": {
    "collapsed": false
   },
   "outputs": [
    {
     "name": "stdout",
     "output_type": "stream",
     "text": [
      "10 loops, best of 3: 58.3 ms per loop\n"
     ]
    }
   ],
   "source": [
    "%%timeit\n",
    "with lift_to_matrix_function(g) as g_power:\n",
    "    m_power = g_power(m)\n",
    "m_power"
   ]
  },
  {
   "cell_type": "code",
   "execution_count": 65,
   "metadata": {
    "collapsed": false
   },
   "outputs": [
    {
     "name": "stdout",
     "output_type": "stream",
     "text": [
      "10 loops, best of 3: 65 ms per loop\n"
     ]
    }
   ],
   "source": [
    "%%timeit\n",
    "(m**r).applyfunc(simplify)"
   ]
  },
  {
   "cell_type": "markdown",
   "metadata": {},
   "source": [
    "### `log`"
   ]
  },
  {
   "cell_type": "code",
   "execution_count": 73,
   "metadata": {
    "collapsed": false
   },
   "outputs": [
    {
     "data": {
      "image/png": "[encoded data removed]",
      "text/latex": [
       "$$f{\\left (z \\right )} = \\frac{\\log{\\left (z \\right )}}{\\log{\\left (2 \\right )}}$$"
      ],
      "text/plain": [
       "       log(z)\n",
       "f(z) = ──────\n",
       "       log(2)"
      ]
     },
     "execution_count": 73,
     "metadata": {},
     "output_type": "execute_result"
    }
   ],
   "source": [
    "fn = Eq(f(z), log(z, 2))\n",
    "fn"
   ]
  },
  {
   "cell_type": "code",
   "execution_count": 74,
   "metadata": {
    "collapsed": false
   },
   "outputs": [
    {
     "data": {
      "image/png": "[encoded data removed]",
      "text/latex": [
       "$$g{\\left (z \\right )} = z \\left(\\frac{\\log{\\left (\\lambda_{1} \\right )}}{\\log{\\left (2 \\right )} \\lambda_{1} - \\log{\\left (2 \\right )} \\lambda_{2}} - \\frac{\\log{\\left (\\lambda_{2} \\right )}}{\\log{\\left (2 \\right )} \\lambda_{1} - \\log{\\left (2 \\right )} \\lambda_{2}}\\right) - \\frac{\\log{\\left (\\lambda_{1} \\right )} \\lambda_{2}}{\\log{\\left (2 \\right )} \\lambda_{1} - \\log{\\left (2 \\right )} \\lambda_{2}} + \\frac{\\log{\\left (\\lambda_{2} \\right )} \\lambda_{1}}{\\log{\\left (2 \\right )} \\lambda_{1} - \\log{\\left (2 \\right )} \\lambda_{2}}$$"
      ],
      "text/plain": [
       "         ⎛           log(\\lambda[1])                         log(\\lambda[2])  \n",
       "g(z) = z⋅⎜───────────────────────────────────── - ────────────────────────────\n",
       "         ⎝log(2)⋅\\lambda[1] - log(2)⋅\\lambda[2]   log(2)⋅\\lambda[1] - log(2)⋅\\\n",
       "\n",
       "         ⎞         log(\\lambda[1])⋅\\lambda[2]              log(\\lambda[2])⋅\\la\n",
       "─────────⎟ - ───────────────────────────────────── + ─────────────────────────\n",
       "lambda[2]⎠   log(2)⋅\\lambda[1] - log(2)⋅\\lambda[2]   log(2)⋅\\lambda[1] - log(2\n",
       "\n",
       "mbda[1]     \n",
       "────────────\n",
       ")⋅\\lambda[2]"
      ]
     },
     "execution_count": 74,
     "metadata": {},
     "output_type": "execute_result"
    }
   ],
   "source": [
    "g = g_poly(fn, eigendata, Phi_polynomials)\n",
    "g"
   ]
  },
  {
   "cell_type": "code",
   "execution_count": 75,
   "metadata": {
    "collapsed": false
   },
   "outputs": [
    {
     "data": {
      "image/png": "[encoded data removed]",
      "text/latex": [
       "$$g{\\left (z \\right )} = z \\left(- \\frac{1}{2} + \\frac{\\log{\\left (4 \\right )}}{2 \\log{\\left (2 \\right )}}\\right) - \\frac{\\log{\\left (4 \\right )}}{\\log{\\left (2 \\right )}} + 2$$"
      ],
      "text/plain": [
       "         ⎛  1    log(4) ⎞   log(4)    \n",
       "g(z) = z⋅⎜- ─ + ────────⎟ - ────── + 2\n",
       "         ⎝  2   2⋅log(2)⎠   log(2)    "
      ]
     },
     "execution_count": 75,
     "metadata": {},
     "output_type": "execute_result"
    }
   ],
   "source": [
    "g = g.subs(eigenvals)\n",
    "g"
   ]
  },
  {
   "cell_type": "code",
   "execution_count": 76,
   "metadata": {
    "collapsed": false
   },
   "outputs": [
    {
     "data": {
      "image/png": "[encoded data removed]",
      "text/latex": [
       "$$\\left[\\begin{matrix}\\frac{3}{2} & \\frac{1}{2}\\\\\\frac{1}{2} & \\frac{3}{2}\\end{matrix}\\right]$$"
      ],
      "text/plain": [
       "⎡3/2  1/2⎤\n",
       "⎢        ⎥\n",
       "⎣1/2  3/2⎦"
      ]
     },
     "execution_count": 76,
     "metadata": {},
     "output_type": "execute_result"
    }
   ],
   "source": [
    "with lift_to_matrix_function(g) as g_log2:\n",
    "    m_log2 = g_log2(m)\n",
    "m_log2"
   ]
  },
  {
   "cell_type": "markdown",
   "metadata": {},
   "source": [
    "### `inverse`"
   ]
  },
  {
   "cell_type": "code",
   "execution_count": 77,
   "metadata": {
    "collapsed": false
   },
   "outputs": [
    {
     "data": {
      "image/png": "[encoded data removed]",
      "text/latex": [
       "$$f{\\left (z \\right )} = \\frac{1}{z}$$"
      ],
      "text/plain": [
       "       1\n",
       "f(z) = ─\n",
       "       z"
      ]
     },
     "execution_count": 77,
     "metadata": {},
     "output_type": "execute_result"
    }
   ],
   "source": [
    "fn = Eq(f(z), 1/z)\n",
    "fn"
   ]
  },
  {
   "cell_type": "code",
   "execution_count": 84,
   "metadata": {
    "collapsed": false
   },
   "outputs": [
    {
     "data": {
      "image/png": "[encoded data removed]",
      "text/latex": [
       "$$g{\\left (z \\right )} = z \\left(\\frac{1}{\\lambda_{1}^{2} - \\lambda_{1} \\lambda_{2}} - \\frac{1}{\\lambda_{1} \\lambda_{2} - \\lambda_{2}^{2}}\\right) - \\frac{\\lambda_{2}}{\\lambda_{1}^{2} - \\lambda_{1} \\lambda_{2}} + \\frac{\\lambda_{1}}{\\lambda_{1} \\lambda_{2} - \\lambda_{2}^{2}}$$"
      ],
      "text/plain": [
       "         ⎛                 1                                     1            \n",
       "g(z) = z⋅⎜─────────────────────────────────── - ──────────────────────────────\n",
       "         ⎜          2                                                         \n",
       "         ⎝\\lambda[1]  - \\lambda[1]⋅\\lambda[2]   \\lambda[1]⋅\\lambda[2] - \\lambd\n",
       "\n",
       "     ⎞                \\lambda[2]                            \\lambda[1]        \n",
       "─────⎟ - ─────────────────────────────────── + ───────────────────────────────\n",
       "    2⎟             2                                                          \n",
       "a[2] ⎠   \\lambda[1]  - \\lambda[1]⋅\\lambda[2]   \\lambda[1]⋅\\lambda[2] - \\lambda\n",
       "\n",
       "    \n",
       "────\n",
       "   2\n",
       "[2] "
      ]
     },
     "execution_count": 84,
     "metadata": {},
     "output_type": "execute_result"
    }
   ],
   "source": [
    "g = g_poly(fn, eigendata, Phi_polynomials)\n",
    "g"
   ]
  },
  {
   "cell_type": "code",
   "execution_count": 85,
   "metadata": {
    "collapsed": false
   },
   "outputs": [
    {
     "data": {
      "image/png": "[encoded data removed]",
      "text/latex": [
       "$$\\left ( \\left[\\begin{matrix}\\frac{1}{\\lambda_{1} \\lambda_{2}} \\left(\\lambda_{1} + \\lambda_{2} - 3\\right) & - \\frac{1}{\\lambda_{1} \\lambda_{2}}\\\\- \\frac{1}{\\lambda_{1} \\lambda_{2}} & \\frac{1}{\\lambda_{1} \\lambda_{2}} \\left(\\lambda_{1} + \\lambda_{2} - 3\\right)\\end{matrix}\\right], \\quad \\left[\\begin{matrix}\\frac{3}{8} & - \\frac{1}{8}\\\\- \\frac{1}{8} & \\frac{3}{8}\\end{matrix}\\right]\\right )$$"
      ],
      "text/plain": [
       "⎛⎡\\lambda[1] + \\lambda[2] - 3              -1             ⎤              ⎞\n",
       "⎜⎢───────────────────────────     ─────────────────────   ⎥, ⎡3/8   -1/8⎤⎟\n",
       "⎜⎢   \\lambda[1]⋅\\lambda[2]        \\lambda[1]⋅\\lambda[2]   ⎥  ⎢          ⎥⎟\n",
       "⎜⎢                                                        ⎥  ⎣-1/8  3/8 ⎦⎟\n",
       "⎜⎢            -1               \\lambda[1] + \\lambda[2] - 3⎥              ⎟\n",
       "⎜⎢   ─────────────────────     ───────────────────────────⎥              ⎟\n",
       "⎝⎣   \\lambda[1]⋅\\lambda[2]        \\lambda[1]⋅\\lambda[2]   ⎦              ⎠"
      ]
     },
     "execution_count": 85,
     "metadata": {},
     "output_type": "execute_result"
    }
   ],
   "source": [
    "with lift_to_matrix_function(g) as g_inverse:\n",
    "    m_inverse = g_inverse(m)\n",
    "\n",
    "m_inverse, m_inverse.subs(eigenvals)"
   ]
  },
  {
   "cell_type": "code",
   "execution_count": 86,
   "metadata": {
    "collapsed": false
   },
   "outputs": [
    {
     "data": {
      "image/png": "[encoded data removed]",
      "text/latex": [
       "$$g{\\left (z \\right )} = - \\frac{z}{8} + \\frac{3}{4}$$"
      ],
      "text/plain": [
       "         z   3\n",
       "g(z) = - ─ + ─\n",
       "         8   4"
      ]
     },
     "execution_count": 86,
     "metadata": {},
     "output_type": "execute_result"
    }
   ],
   "source": [
    "g = g.subs(eigenvals)\n",
    "g"
   ]
  },
  {
   "cell_type": "code",
   "execution_count": 87,
   "metadata": {
    "collapsed": false
   },
   "outputs": [
    {
     "data": {
      "image/png": "[encoded data removed]",
      "text/latex": [
       "$$\\left[\\begin{matrix}\\frac{3}{8} & - \\frac{1}{8}\\\\- \\frac{1}{8} & \\frac{3}{8}\\end{matrix}\\right]$$"
      ],
      "text/plain": [
       "⎡3/8   -1/8⎤\n",
       "⎢          ⎥\n",
       "⎣-1/8  3/8 ⎦"
      ]
     },
     "execution_count": 87,
     "metadata": {},
     "output_type": "execute_result"
    }
   ],
   "source": [
    "with lift_to_matrix_function(g) as g_inverse:\n",
    "    m_inverse = g_inverse(m)\n",
    "m_inverse"
   ]
  },
  {
   "cell_type": "markdown",
   "metadata": {},
   "source": [
    "### `expt`"
   ]
  },
  {
   "cell_type": "code",
   "execution_count": 88,
   "metadata": {
    "collapsed": false
   },
   "outputs": [
    {
     "data": {
      "image/png": "[encoded data removed]",
      "text/latex": [
       "$$f{\\left (z \\right )} = e^{z}$$"
      ],
      "text/plain": [
       "        z\n",
       "f(z) = ℯ "
      ]
     },
     "execution_count": 88,
     "metadata": {},
     "output_type": "execute_result"
    }
   ],
   "source": [
    "fn = Eq(f(z), exp(z))\n",
    "fn"
   ]
  },
  {
   "cell_type": "code",
   "execution_count": 89,
   "metadata": {
    "collapsed": false
   },
   "outputs": [
    {
     "data": {
      "image/png": "[encoded data removed]",
      "text/latex": [
       "$$g{\\left (z \\right )} = z \\left(\\frac{e^{\\lambda_{1}}}{\\lambda_{1} - \\lambda_{2}} - \\frac{e^{\\lambda_{2}}}{\\lambda_{1} - \\lambda_{2}}\\right) - \\frac{e^{\\lambda_{1}} \\lambda_{2}}{\\lambda_{1} - \\lambda_{2}} + \\frac{e^{\\lambda_{2}} \\lambda_{1}}{\\lambda_{1} - \\lambda_{2}}$$"
      ],
      "text/plain": [
       "         ⎛       \\lambda[1]                \\lambda[2]      ⎞     \\lambda[1]   \n",
       "         ⎜      ℯ                         ℯ                ⎟    ℯ          ⋅\\l\n",
       "g(z) = z⋅⎜─────────────────────── - ───────────────────────⎟ - ───────────────\n",
       "         ⎝\\lambda[1] - \\lambda[2]   \\lambda[1] - \\lambda[2]⎠   \\lambda[1] - \\l\n",
       "\n",
       "             \\lambda[2]           \n",
       "ambda[2]    ℯ          ⋅\\lambda[1]\n",
       "──────── + ───────────────────────\n",
       "ambda[2]   \\lambda[1] - \\lambda[2]"
      ]
     },
     "execution_count": 89,
     "metadata": {},
     "output_type": "execute_result"
    }
   ],
   "source": [
    "g = g_poly(fn, eigendata, Phi_polynomials)\n",
    "g"
   ]
  },
  {
   "cell_type": "code",
   "execution_count": 90,
   "metadata": {
    "collapsed": false
   },
   "outputs": [
    {
     "data": {
      "image/png": "[encoded data removed]",
      "text/latex": [
       "$$g{\\left (z \\right )} = z \\left(- \\frac{e^{2}}{2} + \\frac{e^{4}}{2}\\right) - e^{4} + 2 e^{2}$$"
      ],
      "text/plain": [
       "         ⎛   2    4⎞            \n",
       "         ⎜  ℯ    ℯ ⎟    4      2\n",
       "g(z) = z⋅⎜- ── + ──⎟ - ℯ  + 2⋅ℯ \n",
       "         ⎝  2    2 ⎠            "
      ]
     },
     "execution_count": 90,
     "metadata": {},
     "output_type": "execute_result"
    }
   ],
   "source": [
    "g = g.subs(eigenvals)\n",
    "g"
   ]
  },
  {
   "cell_type": "code",
   "execution_count": 91,
   "metadata": {
    "collapsed": false
   },
   "outputs": [
    {
     "data": {
      "image/png": "[encoded data removed]",
      "text/latex": [
       "$$\\left[\\begin{matrix}\\frac{e^{2}}{2} \\left(1 + e^{2}\\right) & \\frac{e^{2}}{2} \\left(-1 + e^{2}\\right)\\\\\\frac{e^{2}}{2} \\left(-1 + e^{2}\\right) & \\frac{e^{2}}{2} \\left(1 + e^{2}\\right)\\end{matrix}\\right]$$"
      ],
      "text/plain": [
       "⎡⎛     2⎞  2   ⎛      2⎞  2⎤\n",
       "⎢⎝1 + ℯ ⎠⋅ℯ    ⎝-1 + ℯ ⎠⋅ℯ ⎥\n",
       "⎢───────────   ────────────⎥\n",
       "⎢     2             2      ⎥\n",
       "⎢                          ⎥\n",
       "⎢⎛      2⎞  2  ⎛     2⎞  2 ⎥\n",
       "⎢⎝-1 + ℯ ⎠⋅ℯ   ⎝1 + ℯ ⎠⋅ℯ  ⎥\n",
       "⎢────────────  ─────────── ⎥\n",
       "⎣     2             2      ⎦"
      ]
     },
     "execution_count": 91,
     "metadata": {},
     "output_type": "execute_result"
    }
   ],
   "source": [
    "with lift_to_matrix_function(g) as g_expt:\n",
    "    m_expt = g_expt(m)\n",
    "m_expt"
   ]
  },
  {
   "cell_type": "markdown",
   "metadata": {},
   "source": [
    "## a bigger matrix"
   ]
  },
  {
   "cell_type": "code",
   "execution_count": 186,
   "metadata": {
    "collapsed": false
   },
   "outputs": [
    {
     "data": {
      "image/png": "[encoded data removed]",
      "text/latex": [
       "$$\\left[\\begin{matrix}1 & 0 & 0\\\\1 & 1 & -1\\\\-2 & 0 & 3\\end{matrix}\\right]$$"
      ],
      "text/plain": [
       "⎡1   0  0 ⎤\n",
       "⎢         ⎥\n",
       "⎢1   1  -1⎥\n",
       "⎢         ⎥\n",
       "⎣-2  0  3 ⎦"
      ]
     },
     "execution_count": 186,
     "metadata": {},
     "output_type": "execute_result"
    }
   ],
   "source": [
    "m = Matrix([\n",
    "        [1, 0, 0],\n",
    "        [1, 1, -1],\n",
    "        [-2, 0, 3],\n",
    "    ])\n",
    "m"
   ]
  },
  {
   "cell_type": "code",
   "execution_count": 188,
   "metadata": {
    "collapsed": false
   },
   "outputs": [
    {
     "data": {
      "image/png": "[encoded data removed]",
      "text/latex": [
       "$$\\left ( \\left \\{ 1 : \\left ( \\lambda_{1}, \\quad m_{1}\\right ), \\quad 2 : \\left ( \\lambda_{2}, \\quad m_{2}\\right )\\right \\}, \\quad \\left \\{ \\lambda_{1} : 1, \\quad \\lambda_{2} : 3\\right \\}, \\quad \\left \\{ m_{1} : 2, \\quad m_{2} : 1\\right \\}\\right )$$"
      ],
      "text/plain": [
       "({1: (\\lambda[1], m[1]), 2: (\\lambda[2], m[2])}, {\\lambda[1]: 1, \\lambda[2]: 3\n",
       "}, {m[1]: 2, m[2]: 1})"
      ]
     },
     "execution_count": 188,
     "metadata": {},
     "output_type": "execute_result"
    }
   ],
   "source": [
    "data, eigenvals, multiplicities = eigendata = eigen_data(m)\n",
    "eigendata"
   ]
  },
  {
   "cell_type": "code",
   "execution_count": 197,
   "metadata": {
    "collapsed": true
   },
   "outputs": [],
   "source": [
    "m_bar = 3 # degree of \\Xi minimal polynomial"
   ]
  },
  {
   "cell_type": "code",
   "execution_count": 198,
   "metadata": {
    "collapsed": false
   },
   "outputs": [
    {
     "data": {
      "image/png": "[encoded data removed]",
      "text/latex": [
       "$$\\Phi{\\left (z,i,j \\right )} = z^{2} \\phi_{i,j,0} + z \\phi_{i,j,1} + \\phi_{i,j,2}$$"
      ],
      "text/plain": [
       "                 2                                                \n",
       "\\Phi(z, i, j) = z ⋅\\phi[i, j, 0] + z⋅\\phi[i, j, 1] + \\phi[i, j, 2]"
      ]
     },
     "execution_count": 198,
     "metadata": {},
     "output_type": "execute_result"
    }
   ],
   "source": [
    "Phi_poly = Phi_poly_ctor(deg=m_bar-1)\n",
    "Phi_poly"
   ]
  },
  {
   "cell_type": "code",
   "execution_count": 199,
   "metadata": {
    "collapsed": false
   },
   "outputs": [
    {
     "data": {
      "image/png": "[encoded data removed]",
      "text/latex": [
       "$$\\Phi_{ 1, 1 }{\\left (z \\right )} = - \\frac{z^{2}}{\\lambda_{1}^{2} - 2 \\lambda_{1} \\lambda_{2} + \\lambda_{2}^{2}} + \\frac{2 z \\lambda_{1}}{\\lambda_{1}^{2} - 2 \\lambda_{1} \\lambda_{2} + \\lambda_{2}^{2}} + \\frac{\\left(- 2 \\lambda_{1} + \\lambda_{2}\\right) \\lambda_{2}}{\\lambda_{1}^{2} - 2 \\lambda_{1} \\lambda_{2} + \\lambda_{2}^{2}}$$"
      ],
      "text/plain": [
       "                                               2                              \n",
       "                                              z                               \n",
       "\\Phi_{ 1, 1 }(z) = - ─────────────────────────────────────────────────── + ───\n",
       "                               2                                       2      \n",
       "                     \\lambda[1]  - 2⋅\\lambda[1]⋅\\lambda[2] + \\lambda[2]    \\la\n",
       "\n",
       "                                                                              \n",
       "                2⋅z⋅\\lambda[1]                           (-2⋅\\lambda[1] + \\lam\n",
       "──────────────────────────────────────────────── + ───────────────────────────\n",
       "       2                                       2             2                \n",
       "mbda[1]  - 2⋅\\lambda[1]⋅\\lambda[2] + \\lambda[2]    \\lambda[1]  - 2⋅\\lambda[1]⋅\n",
       "\n",
       "                        \n",
       "bda[2])⋅\\lambda[2]      \n",
       "────────────────────────\n",
       "                       2\n",
       "\\lambda[2] + \\lambda[2] "
      ]
     },
     "execution_count": 199,
     "metadata": {},
     "output_type": "execute_result"
    }
   ],
   "source": [
    "make = Phi_poly_define(Phi_poly, eigendata=eigendata)\n",
    "make(i=1, j=1,)"
   ]
  },
  {
   "cell_type": "code",
   "execution_count": 200,
   "metadata": {
    "collapsed": false
   },
   "outputs": [
    {
     "data": {
      "image/png": "[encoded data removed]",
      "text/latex": [
       "$$\\Phi_{ 1, 1 }{\\left (z \\right )} = - \\frac{z^{2}}{4} + \\frac{z}{2} + \\frac{3}{4}$$"
      ],
      "text/plain": [
       "                      2        \n",
       "                     z    z   3\n",
       "\\Phi_{ 1, 1 }(z) = - ── + ─ + ─\n",
       "                     4    2   4"
      ]
     },
     "execution_count": 200,
     "metadata": {},
     "output_type": "execute_result"
    }
   ],
   "source": [
    "_.subs(eigenvals)"
   ]
  },
  {
   "cell_type": "code",
   "execution_count": 201,
   "metadata": {
    "collapsed": false
   },
   "outputs": [
    {
     "data": {
      "image/png": "[encoded data removed]",
      "text/latex": [
       "$$\\left \\{ \\left ( 1, \\quad 1\\right ) : \\Phi_{ 1, 1 }{\\left (z \\right )} = - \\frac{z^{2}}{\\lambda_{1}^{2} - 2 \\lambda_{1} \\lambda_{2} + \\lambda_{2}^{2}} + \\frac{2 z \\lambda_{1}}{\\lambda_{1}^{2} - 2 \\lambda_{1} \\lambda_{2} + \\lambda_{2}^{2}} + \\frac{\\left(- 2 \\lambda_{1} + \\lambda_{2}\\right) \\lambda_{2}}{\\lambda_{1}^{2} - 2 \\lambda_{1} \\lambda_{2} + \\lambda_{2}^{2}}, \\quad \\left ( 1, \\quad 2\\right ) : \\Phi_{ 1, 2 }{\\left (z \\right )} = \\frac{z^{2}}{\\lambda_{1} - \\lambda_{2}} - \\frac{z \\left(\\lambda_{1} + \\lambda_{2}\\right)}{\\lambda_{1} - \\lambda_{2}} + \\frac{\\lambda_{1} \\lambda_{2}}{\\lambda_{1} - \\lambda_{2}}, \\quad \\left ( 2, \\quad 1\\right ) : \\Phi_{ 2, 1 }{\\left (z \\right )} = \\frac{z^{2}}{\\lambda_{1}^{2} - 2 \\lambda_{1} \\lambda_{2} + \\lambda_{2}^{2}} - \\frac{2 z \\lambda_{1}}{\\lambda_{1}^{2} - 2 \\lambda_{1} \\lambda_{2} + \\lambda_{2}^{2}} + \\frac{\\lambda_{1}^{2}}{\\lambda_{1}^{2} - 2 \\lambda_{1} \\lambda_{2} + \\lambda_{2}^{2}}\\right \\}$$"
      ],
      "text/plain": [
       "⎧                                                       2                     \n",
       "⎪                                                      z                      \n",
       "⎨(1, 1): \\Phi_{ 1, 1 }(z) = - ────────────────────────────────────────────────\n",
       "⎪                                       2                                     \n",
       "⎩                             \\lambda[1]  - 2⋅\\lambda[1]⋅\\lambda[2] + \\lambda[\n",
       "\n",
       "                                                                              \n",
       "                         2⋅z⋅\\lambda[1]                           (-2⋅\\lambda[\n",
       "─── + ─────────────────────────────────────────────────── + ──────────────────\n",
       "  2             2                                       2             2       \n",
       "2]    \\lambda[1]  - 2⋅\\lambda[1]⋅\\lambda[2] + \\lambda[2]    \\lambda[1]  - 2⋅\\l\n",
       "\n",
       "                                                                          2   \n",
       "1] + \\lambda[2])⋅\\lambda[2]                                              z    \n",
       "─────────────────────────────────, (1, 2): \\Phi_{ 1, 2 }(z) = ────────────────\n",
       "                                2                             \\lambda[1] - \\la\n",
       "ambda[1]⋅\\lambda[2] + \\lambda[2]                                              \n",
       "\n",
       "                                                                              \n",
       "          z⋅(\\lambda[1] + \\lambda[2])    \\lambda[1]⋅\\lambda[2]                \n",
       "─────── - ─────────────────────────── + ───────────────────────, (2, 1): \\Phi_\n",
       "mbda[2]     \\lambda[1] - \\lambda[2]     \\lambda[1] - \\lambda[2]               \n",
       "                                                                              \n",
       "\n",
       "                                        2                                     \n",
       "                                       z                                      \n",
       "{ 2, 1 }(z) = ─────────────────────────────────────────────────── - ──────────\n",
       "                        2                                       2             \n",
       "              \\lambda[1]  - 2⋅\\lambda[1]⋅\\lambda[2] + \\lambda[2]    \\lambda[1]\n",
       "\n",
       "                                                                          2   \n",
       "         2⋅z⋅\\lambda[1]                                         \\lambda[1]    \n",
       "───────────────────────────────────────── + ──────────────────────────────────\n",
       "2                                       2             2                       \n",
       "  - 2⋅\\lambda[1]⋅\\lambda[2] + \\lambda[2]    \\lambda[1]  - 2⋅\\lambda[1]⋅\\lambda\n",
       "\n",
       "                 ⎫\n",
       "                 ⎪\n",
       "─────────────────⎬\n",
       "                2⎪\n",
       "[2] + \\lambda[2] ⎭"
      ]
     },
     "execution_count": 201,
     "metadata": {},
     "output_type": "execute_result"
    }
   ],
   "source": [
    "Phi_polynomials = component_polynomials(Phi_poly, eigendata)\n",
    "Phi_polynomials"
   ]
  },
  {
   "cell_type": "code",
   "execution_count": 202,
   "metadata": {
    "collapsed": false
   },
   "outputs": [
    {
     "data": {
      "image/png": "[encoded data removed]",
      "text/latex": [
       "$$\\left \\{ \\left ( 1, \\quad 1\\right ) : \\left[\\begin{matrix}\\frac{- \\left(2 \\lambda_{1} - \\lambda_{2}\\right) \\lambda_{2} + 2 \\lambda_{1} - 1}{\\lambda_{1}^{2} - 2 \\lambda_{1} \\lambda_{2} + \\lambda_{2}^{2}} & 0 & 0\\\\\\frac{2 \\lambda_{1} - 4}{\\lambda_{1}^{2} - 2 \\lambda_{1} \\lambda_{2} + \\lambda_{2}^{2}} & \\frac{- \\left(2 \\lambda_{1} - \\lambda_{2}\\right) \\lambda_{2} + 2 \\lambda_{1} - 1}{\\lambda_{1}^{2} - 2 \\lambda_{1} \\lambda_{2} + \\lambda_{2}^{2}} & \\frac{- 2 \\lambda_{1} + 4}{\\lambda_{1}^{2} - 2 \\lambda_{1} \\lambda_{2} + \\lambda_{2}^{2}}\\\\\\frac{- 4 \\lambda_{1} + 8}{\\lambda_{1}^{2} - 2 \\lambda_{1} \\lambda_{2} + \\lambda_{2}^{2}} & 0 & \\frac{- \\left(2 \\lambda_{1} - \\lambda_{2}\\right) \\lambda_{2} + 6 \\lambda_{1} - 9}{\\lambda_{1}^{2} - 2 \\lambda_{1} \\lambda_{2} + \\lambda_{2}^{2}}\\end{matrix}\\right], \\quad \\left ( 1, \\quad 2\\right ) : \\left[\\begin{matrix}\\frac{1}{\\lambda_{1} - \\lambda_{2}} \\left(\\lambda_{1} \\lambda_{2} - \\lambda_{1} - \\lambda_{2} + 1\\right) & 0 & 0\\\\\\frac{- \\lambda_{1} - \\lambda_{2} + 4}{\\lambda_{1} - \\lambda_{2}} & \\frac{1}{\\lambda_{1} - \\lambda_{2}} \\left(\\lambda_{1} \\lambda_{2} - \\lambda_{1} - \\lambda_{2} + 1\\right) & \\frac{\\lambda_{1} + \\lambda_{2} - 4}{\\lambda_{1} - \\lambda_{2}}\\\\\\frac{1}{\\lambda_{1} - \\lambda_{2}} \\left(2 \\lambda_{1} + 2 \\lambda_{2} - 8\\right) & 0 & \\frac{1}{\\lambda_{1} - \\lambda_{2}} \\left(\\lambda_{1} \\lambda_{2} - 3 \\lambda_{1} - 3 \\lambda_{2} + 9\\right)\\end{matrix}\\right], \\quad \\left ( 2, \\quad 1\\right ) : \\left[\\begin{matrix}\\frac{\\lambda_{1}^{2} - 2 \\lambda_{1} + 1}{\\lambda_{1}^{2} - 2 \\lambda_{1} \\lambda_{2} + \\lambda_{2}^{2}} & 0 & 0\\\\\\frac{- 2 \\lambda_{1} + 4}{\\lambda_{1}^{2} - 2 \\lambda_{1} \\lambda_{2} + \\lambda_{2}^{2}} & \\frac{\\lambda_{1}^{2} - 2 \\lambda_{1} + 1}{\\lambda_{1}^{2} - 2 \\lambda_{1} \\lambda_{2} + \\lambda_{2}^{2}} & \\frac{2 \\lambda_{1} - 4}{\\lambda_{1}^{2} - 2 \\lambda_{1} \\lambda_{2} + \\lambda_{2}^{2}}\\\\\\frac{4 \\lambda_{1} - 8}{\\lambda_{1}^{2} - 2 \\lambda_{1} \\lambda_{2} + \\lambda_{2}^{2}} & 0 & \\frac{\\lambda_{1}^{2} - 6 \\lambda_{1} + 9}{\\lambda_{1}^{2} - 2 \\lambda_{1} \\lambda_{2} + \\lambda_{2}^{2}}\\end{matrix}\\right]\\right \\}$$"
      ],
      "text/plain": [
       "⎧                                                                             \n",
       "⎪        ⎡-(2⋅\\lambda[1] - \\lambda[2])⋅\\lambda[2] + 2⋅\\lambda[1] - 1          \n",
       "⎪(1, 1): ⎢──────────────────────────────────────────────────────────          \n",
       "⎪        ⎢             2                                       2              \n",
       "⎪        ⎢   \\lambda[1]  - 2⋅\\lambda[1]⋅\\lambda[2] + \\lambda[2]               \n",
       "⎪        ⎢                                                                    \n",
       "⎪        ⎢                    2⋅(\\lambda[1] - 2)                      -(2⋅\\lam\n",
       "⎪        ⎢   ───────────────────────────────────────────────────      ────────\n",
       "⎨        ⎢             2                                       2              \n",
       "⎪        ⎢   \\lambda[1]  - 2⋅\\lambda[1]⋅\\lambda[2] + \\lambda[2]          \\lamb\n",
       "⎪        ⎢                                                                    \n",
       "⎪        ⎢                   4⋅(-\\lambda[1] + 2)                              \n",
       "⎪        ⎢   ───────────────────────────────────────────────────              \n",
       "⎪        ⎢             2                                       2              \n",
       "⎪        ⎣   \\lambda[1]  - 2⋅\\lambda[1]⋅\\lambda[2] + \\lambda[2]               \n",
       "⎪                                                                             \n",
       "⎩                                                                             \n",
       "\n",
       "                                                                              \n",
       "                                                                              \n",
       "                    0                                                         \n",
       "                                                                              \n",
       "                                                                              \n",
       "                                                                              \n",
       "bda[1] - \\lambda[2])⋅\\lambda[2] + 2⋅\\lambda[1] - 1                     2⋅(-\\la\n",
       "──────────────────────────────────────────────────     ───────────────────────\n",
       "     2                                       2                   2            \n",
       "da[1]  - 2⋅\\lambda[1]⋅\\lambda[2] + \\lambda[2]          \\lambda[1]  - 2⋅\\lambda\n",
       "                                                                              \n",
       "                                                    -(2⋅\\lambda[1] - \\lambda[2\n",
       "                    0                               ──────────────────────────\n",
       "                                                                 2            \n",
       "                                                       \\lambda[1]  - 2⋅\\lambda\n",
       "                                                                              \n",
       "                                                                              \n",
       "\n",
       "                                                                              \n",
       "                                ⎤          ⎡\\lambda[1]⋅\\lambda[2] - \\lambda[1]\n",
       "  0                             ⎥, (1, 2): ⎢──────────────────────────────────\n",
       "                                ⎥          ⎢              \\lambda[1] - \\lambda\n",
       "                                ⎥          ⎢                                  \n",
       "                                ⎥          ⎢           -\\lambda[1] - \\lambda[2\n",
       "mbda[1] + 2)                    ⎥          ⎢           ───────────────────────\n",
       "────────────────────────────    ⎥          ⎢             \\lambda[1] - \\lambda[\n",
       "                           2    ⎥          ⎢                                  \n",
       "[1]⋅\\lambda[2] + \\lambda[2]     ⎥          ⎢          2⋅(\\lambda[1] + \\lambda[\n",
       "                                ⎥          ⎢          ────────────────────────\n",
       "])⋅\\lambda[2] + 6⋅\\lambda[1] - 9⎥          ⎣              \\lambda[1] - \\lambda\n",
       "────────────────────────────────⎥                                             \n",
       "                           2    ⎥                                             \n",
       "[1]⋅\\lambda[2] + \\lambda[2]     ⎦                                             \n",
       "                                                                              \n",
       "                                                                              \n",
       "\n",
       "                                                                              \n",
       " - \\lambda[2] + 1                                                             \n",
       "─────────────────                           0                                 \n",
       "[2]                                                                           \n",
       "                                                                              \n",
       "] + 4              \\lambda[1]⋅\\lambda[2] - \\lambda[1] - \\lambda[2] + 1        \n",
       "─────              ───────────────────────────────────────────────────        \n",
       "2]                               \\lambda[1] - \\lambda[2]                      \n",
       "                                                                              \n",
       "2] - 4)                                                                 \\lambd\n",
       "───────                                     0                           ──────\n",
       "[2]                                                                           \n",
       "                                                                              \n",
       "                                                                              \n",
       "                                                                              \n",
       "                                                                              \n",
       "                                                                              \n",
       "\n",
       "                                                            ⎡                 \n",
       "                                                 ⎤          ⎢           \\lambd\n",
       "                     0                           ⎥, (2, 1): ⎢─────────────────\n",
       "                                                 ⎥          ⎢          2      \n",
       "                                                 ⎥          ⎢\\lambda[1]  - 2⋅\\\n",
       "        \\lambda[1] + \\lambda[2] - 4              ⎥          ⎢                 \n",
       "        ───────────────────────────              ⎥          ⎢                 \n",
       "          \\lambda[1] - \\lambda[2]                ⎥          ⎢                2\n",
       "                                                 ⎥          ⎢─────────────────\n",
       "a[1]⋅\\lambda[2] - 3⋅\\lambda[1] - 3⋅\\lambda[2] + 9⎥          ⎢          2      \n",
       "─────────────────────────────────────────────────⎥          ⎢\\lambda[1]  - 2⋅\\\n",
       "          \\lambda[1] - \\lambda[2]                ⎦          ⎢                 \n",
       "                                                            ⎢                 \n",
       "                                                            ⎢                 \n",
       "                                                            ⎢─────────────────\n",
       "                                                            ⎢          2      \n",
       "                                                            ⎣\\lambda[1]  - 2⋅\\\n",
       "\n",
       "    2                                                                         \n",
       "a[1]  - 2⋅\\lambda[1] + 1                                                      \n",
       "──────────────────────────────────                           0                \n",
       "                                 2                                            \n",
       "lambda[1]⋅\\lambda[2] + \\lambda[2]                                             \n",
       "                                                                              \n",
       "                                                         2                    \n",
       "⋅(-\\lambda[1] + 2)                             \\lambda[1]  - 2⋅\\lambda[1] + 1 \n",
       "──────────────────────────────────  ──────────────────────────────────────────\n",
       "                                 2            2                               \n",
       "lambda[1]⋅\\lambda[2] + \\lambda[2]   \\lambda[1]  - 2⋅\\lambda[1]⋅\\lambda[2] + \\l\n",
       "                                                                              \n",
       "                                                                              \n",
       "4⋅(\\lambda[1] - 2)                                                            \n",
       "──────────────────────────────────                           0                \n",
       "                                 2                                            \n",
       "lambda[1]⋅\\lambda[2] + \\lambda[2]                                             \n",
       "\n",
       "                                                              ⎤⎫\n",
       "                                                              ⎥⎪\n",
       "                                    0                         ⎥⎪\n",
       "                                                              ⎥⎪\n",
       "                                                              ⎥⎪\n",
       "                                                              ⎥⎪\n",
       "                                                              ⎥⎪\n",
       "                            2⋅(\\lambda[1] - 2)                ⎥⎪\n",
       "─────────  ───────────────────────────────────────────────────⎥⎬\n",
       "        2            2                                       2⎥⎪\n",
       "ambda[2]   \\lambda[1]  - 2⋅\\lambda[1]⋅\\lambda[2] + \\lambda[2] ⎥⎪\n",
       "                                                              ⎥⎪\n",
       "                                2                             ⎥⎪\n",
       "                      \\lambda[1]  - 6⋅\\lambda[1] + 9          ⎥⎪\n",
       "           ───────────────────────────────────────────────────⎥⎪\n",
       "                     2                                       2⎥⎪\n",
       "           \\lambda[1]  - 2⋅\\lambda[1]⋅\\lambda[2] + \\lambda[2] ⎦⎭"
      ]
     },
     "execution_count": 202,
     "metadata": {},
     "output_type": "execute_result"
    }
   ],
   "source": [
    "cmatrices = component_matrices(m, Phi_polynomials)\n",
    "cmatrices"
   ]
  },
  {
   "cell_type": "code",
   "execution_count": 203,
   "metadata": {
    "collapsed": false,
    "scrolled": false
   },
   "outputs": [
    {
     "data": {
      "image/png": "[encoded data removed]",
      "text/latex": [
       "$$\\left ( \\left[\\begin{matrix}\\frac{- \\left(2 \\lambda_{1} - \\lambda_{2}\\right) \\lambda_{2} + 2 \\lambda_{1} - 1}{\\lambda_{1}^{2} - 2 \\lambda_{1} \\lambda_{2} + \\lambda_{2}^{2}} + \\frac{\\lambda_{1}^{2} - 2 \\lambda_{1} + 1}{\\lambda_{1}^{2} - 2 \\lambda_{1} \\lambda_{2} + \\lambda_{2}^{2}} & 0 & 0\\\\\\frac{- 2 \\lambda_{1} + 4}{\\lambda_{1}^{2} - 2 \\lambda_{1} \\lambda_{2} + \\lambda_{2}^{2}} + \\frac{2 \\lambda_{1} - 4}{\\lambda_{1}^{2} - 2 \\lambda_{1} \\lambda_{2} + \\lambda_{2}^{2}} & \\frac{- \\left(2 \\lambda_{1} - \\lambda_{2}\\right) \\lambda_{2} + 2 \\lambda_{1} - 1}{\\lambda_{1}^{2} - 2 \\lambda_{1} \\lambda_{2} + \\lambda_{2}^{2}} + \\frac{\\lambda_{1}^{2} - 2 \\lambda_{1} + 1}{\\lambda_{1}^{2} - 2 \\lambda_{1} \\lambda_{2} + \\lambda_{2}^{2}} & \\frac{- 2 \\lambda_{1} + 4}{\\lambda_{1}^{2} - 2 \\lambda_{1} \\lambda_{2} + \\lambda_{2}^{2}} + \\frac{2 \\lambda_{1} - 4}{\\lambda_{1}^{2} - 2 \\lambda_{1} \\lambda_{2} + \\lambda_{2}^{2}}\\\\\\frac{- 4 \\lambda_{1} + 8}{\\lambda_{1}^{2} - 2 \\lambda_{1} \\lambda_{2} + \\lambda_{2}^{2}} + \\frac{4 \\lambda_{1} - 8}{\\lambda_{1}^{2} - 2 \\lambda_{1} \\lambda_{2} + \\lambda_{2}^{2}} & 0 & \\frac{- \\left(2 \\lambda_{1} - \\lambda_{2}\\right) \\lambda_{2} + 6 \\lambda_{1} - 9}{\\lambda_{1}^{2} - 2 \\lambda_{1} \\lambda_{2} + \\lambda_{2}^{2}} + \\frac{\\lambda_{1}^{2} - 6 \\lambda_{1} + 9}{\\lambda_{1}^{2} - 2 \\lambda_{1} \\lambda_{2} + \\lambda_{2}^{2}}\\end{matrix}\\right], \\quad \\left[\\begin{matrix}1 & 0 & 0\\\\0 & 1 & 0\\\\0 & 0 & 1\\end{matrix}\\right], \\quad \\left[\\begin{matrix}1 & 0 & 0\\\\0 & 1 & 0\\\\0 & 0 & 1\\end{matrix}\\right]\\right )$$"
      ],
      "text/plain": [
       "⎛⎡                                                                            \n",
       "⎜⎢-(2⋅\\lambda[1] - \\lambda[2])⋅\\lambda[2] + 2⋅\\lambda[1] - 1              \\lam\n",
       "⎜⎢────────────────────────────────────────────────────────── + ───────────────\n",
       "⎜⎢             2                                       2                 2    \n",
       "⎜⎢   \\lambda[1]  - 2⋅\\lambda[1]⋅\\lambda[2] + \\lambda[2]        \\lambda[1]  - 2\n",
       "⎜⎢                                                                            \n",
       "⎜⎢                                                                            \n",
       "⎜⎢                   2⋅(-\\lambda[1] + 2)                                    2⋅\n",
       "⎜⎢   ─────────────────────────────────────────────────── + ───────────────────\n",
       "⎜⎢             2                                       2             2        \n",
       "⎜⎢   \\lambda[1]  - 2⋅\\lambda[1]⋅\\lambda[2] + \\lambda[2]    \\lambda[1]  - 2⋅\\la\n",
       "⎜⎢                                                                            \n",
       "⎜⎢                                                                            \n",
       "⎜⎢                   4⋅(-\\lambda[1] + 2)                                    4⋅\n",
       "⎜⎢   ─────────────────────────────────────────────────── + ───────────────────\n",
       "⎜⎢             2                                       2             2        \n",
       "⎝⎣   \\lambda[1]  - 2⋅\\lambda[1]⋅\\lambda[2] + \\lambda[2]    \\lambda[1]  - 2⋅\\la\n",
       "\n",
       "      2                                                                       \n",
       "bda[1]  - 2⋅\\lambda[1] + 1                                                    \n",
       "────────────────────────────────────                                          \n",
       "                                   2                                          \n",
       "⋅\\lambda[1]⋅\\lambda[2] + \\lambda[2]                                           \n",
       "                                                                              \n",
       "                                                                              \n",
       "(\\lambda[1] - 2)                      -(2⋅\\lambda[1] - \\lambda[2])⋅\\lambda[2] \n",
       "────────────────────────────────      ────────────────────────────────────────\n",
       "                               2                   2                          \n",
       "mbda[1]⋅\\lambda[2] + \\lambda[2]          \\lambda[1]  - 2⋅\\lambda[1]⋅\\lambda[2]\n",
       "                                                                              \n",
       "                                                                              \n",
       "(\\lambda[1] - 2)                                                              \n",
       "────────────────────────────────                                              \n",
       "                               2                                              \n",
       "mbda[1]⋅\\lambda[2] + \\lambda[2]                                               \n",
       "\n",
       "                                                                              \n",
       "                                                                              \n",
       "               0                                                              \n",
       "                                                                              \n",
       "                                                                              \n",
       "                                                                              \n",
       "                                          2                                   \n",
       "+ 2⋅\\lambda[1] - 1              \\lambda[1]  - 2⋅\\lambda[1] + 1                \n",
       "────────────────── + ───────────────────────────────────────────────────     ─\n",
       "             2                 2                                       2      \n",
       " + \\lambda[2]        \\lambda[1]  - 2⋅\\lambda[1]⋅\\lambda[2] + \\lambda[2]      \\\n",
       "                                                                              \n",
       "                                                                              \n",
       "                                                                          -(2⋅\n",
       "               0                                                          ────\n",
       "                                                                              \n",
       "                                                                             \\\n",
       "\n",
       "                                                                              \n",
       "                                                                              \n",
       "                                                   0                          \n",
       "                                                                              \n",
       "                                                                              \n",
       "                                                                              \n",
       "                                                                              \n",
       "               2⋅(-\\lambda[1] + 2)                                    2⋅(\\lamb\n",
       "────────────────────────────────────────────────── + ─────────────────────────\n",
       "         2                                       2             2              \n",
       "lambda[1]  - 2⋅\\lambda[1]⋅\\lambda[2] + \\lambda[2]    \\lambda[1]  - 2⋅\\lambda[1\n",
       "                                                                              \n",
       "                                                                              \n",
       "\\lambda[1] - \\lambda[2])⋅\\lambda[2] + 6⋅\\lambda[1] - 9              \\lambda[1]\n",
       "────────────────────────────────────────────────────── + ─────────────────────\n",
       "         2                                       2                 2          \n",
       "lambda[1]  - 2⋅\\lambda[1]⋅\\lambda[2] + \\lambda[2]        \\lambda[1]  - 2⋅\\lamb\n",
       "\n",
       "                              ⎤                      ⎞\n",
       "                              ⎥                      ⎟\n",
       "                              ⎥, ⎡1  0  0⎤, ⎡1  0  0⎤⎟\n",
       "                              ⎥  ⎢       ⎥  ⎢       ⎥⎟\n",
       "                              ⎥  ⎢0  1  0⎥  ⎢0  1  0⎥⎟\n",
       "                              ⎥  ⎢       ⎥  ⎢       ⎥⎟\n",
       "                              ⎥  ⎣0  0  1⎦  ⎣0  0  1⎦⎟\n",
       "da[1] - 2)                    ⎥                      ⎟\n",
       "──────────────────────────    ⎥                      ⎟\n",
       "                         2    ⎥                      ⎟\n",
       "]⋅\\lambda[2] + \\lambda[2]     ⎥                      ⎟\n",
       "                              ⎥                      ⎟\n",
       "2                             ⎥                      ⎟\n",
       "  - 6⋅\\lambda[1] + 9          ⎥                      ⎟\n",
       "──────────────────────────────⎥                      ⎟\n",
       "                             2⎥                      ⎟\n",
       "da[1]⋅\\lambda[2] + \\lambda[2] ⎦                      ⎠"
      ]
     },
     "execution_count": 203,
     "metadata": {},
     "output_type": "execute_result"
    }
   ],
   "source": [
    "Zi1 = list(cm.as_immutable() for (i, j), cm in cmatrices.items() if j == 1)\n",
    "\n",
    "s = zeros(m.rows)\n",
    "for Z in Zi1:\n",
    "    s += Z\n",
    "s, s.simplify(), s.subs(eigenvals)"
   ]
  },
  {
   "cell_type": "code",
   "execution_count": 204,
   "metadata": {
    "collapsed": false
   },
   "outputs": [
    {
     "data": {
      "image/png": "[encoded data removed]",
      "text/latex": [
       "$$f{\\left (z \\right )} = \\frac{1}{z}$$"
      ],
      "text/plain": [
       "       1\n",
       "f(z) = ─\n",
       "       z"
      ]
     },
     "execution_count": 204,
     "metadata": {},
     "output_type": "execute_result"
    }
   ],
   "source": [
    "f, h = Function('f'), Function('h')\n",
    "function_eq = Eq(f(z), 1/(z))\n",
    "function_eq"
   ]
  },
  {
   "cell_type": "code",
   "execution_count": 205,
   "metadata": {
    "collapsed": false
   },
   "outputs": [
    {
     "data": {
      "image/png": "[encoded data removed]",
      "text/latex": [
       "$$g{\\left (z \\right )} = z^{2} \\left(- \\frac{1}{\\lambda_{1}^{3} - 2 \\lambda_{1}^{2} \\lambda_{2} + \\lambda_{1} \\lambda_{2}^{2}} + \\frac{1}{\\lambda_{1}^{2} \\lambda_{2} - 2 \\lambda_{1} \\lambda_{2}^{2} + \\lambda_{2}^{3}} - \\frac{1}{\\lambda_{1}^{3} - \\lambda_{1}^{2} \\lambda_{2}}\\right) + z \\left(\\frac{2}{\\lambda_{1}^{2} - 2 \\lambda_{1} \\lambda_{2} + \\lambda_{2}^{2}} - \\frac{2 \\lambda_{1}}{\\lambda_{1}^{2} \\lambda_{2} - 2 \\lambda_{1} \\lambda_{2}^{2} + \\lambda_{2}^{3}} + \\frac{\\lambda_{2}}{\\lambda_{1}^{3} - \\lambda_{1}^{2} \\lambda_{2}} + \\frac{1}{\\lambda_{1}^{2} - \\lambda_{1} \\lambda_{2}}\\right) + \\frac{\\lambda_{2}^{2}}{\\lambda_{1}^{3} - 2 \\lambda_{1}^{2} \\lambda_{2} + \\lambda_{1} \\lambda_{2}^{2}} - \\frac{2 \\lambda_{2}}{\\lambda_{1}^{2} - 2 \\lambda_{1} \\lambda_{2} + \\lambda_{2}^{2}} + \\frac{\\lambda_{1}^{2}}{\\lambda_{1}^{2} \\lambda_{2} - 2 \\lambda_{1} \\lambda_{2}^{2} + \\lambda_{2}^{3}} - \\frac{\\lambda_{2}}{\\lambda_{1}^{2} - \\lambda_{1} \\lambda_{2}}$$"
      ],
      "text/plain": [
       "                                                                              \n",
       "        2 ⎛                                 1                                 \n",
       "g(z) = z ⋅⎜- ─────────────────────────────────────────────────────────────── +\n",
       "          ⎜            3               2                                   2  \n",
       "          ⎝  \\lambda[1]  - 2⋅\\lambda[1] ⋅\\lambda[2] + \\lambda[1]⋅\\lambda[2]   \n",
       "\n",
       "                                                                              \n",
       "                                1                                             \n",
       " ─────────────────────────────────────────────────────────────── - ───────────\n",
       "           2                                     2             3             3\n",
       " \\lambda[1] ⋅\\lambda[2] - 2⋅\\lambda[1]⋅\\lambda[2]  + \\lambda[2]    \\lambda[1] \n",
       "\n",
       "                                                                              \n",
       "      1                  ⎞     ⎛                         2                    \n",
       "─────────────────────────⎟ + z⋅⎜──────────────────────────────────────────────\n",
       "             2           ⎟     ⎜          2                                   \n",
       " - \\lambda[1] ⋅\\lambda[2]⎠     ⎝\\lambda[1]  - 2⋅\\lambda[1]⋅\\lambda[2] + \\lambd\n",
       "\n",
       "                                                                              \n",
       "                                  2⋅\\lambda[1]                                \n",
       "───── - ─────────────────────────────────────────────────────────────── + ────\n",
       "    2             2                                     2             3       \n",
       "a[2]    \\lambda[1] ⋅\\lambda[2] - 2⋅\\lambda[1]⋅\\lambda[2]  + \\lambda[2]    \\lam\n",
       "\n",
       "                                                                              \n",
       "         \\lambda[2]                                 1                 ⎞       \n",
       "──────────────────────────────── + ───────────────────────────────────⎟ + ────\n",
       "      3             2                        2                        ⎟       \n",
       "bda[1]  - \\lambda[1] ⋅\\lambda[2]   \\lambda[1]  - \\lambda[1]⋅\\lambda[2]⎠   \\lam\n",
       "\n",
       "                                2                                             \n",
       "                      \\lambda[2]                                              \n",
       "─────────────────────────────────────────────────────────── - ────────────────\n",
       "      3               2                                   2             2     \n",
       "bda[1]  - 2⋅\\lambda[1] ⋅\\lambda[2] + \\lambda[1]⋅\\lambda[2]    \\lambda[1]  - 2⋅\n",
       "\n",
       "                                                                          2   \n",
       "    2⋅\\lambda[2]                                                \\lambda[1]    \n",
       "─────────────────────────────────── + ────────────────────────────────────────\n",
       "                                  2             2                             \n",
       "\\lambda[1]⋅\\lambda[2] + \\lambda[2]    \\lambda[1] ⋅\\lambda[2] - 2⋅\\lambda[1]⋅\\l\n",
       "\n",
       "                                                             \n",
       "                                       \\lambda[2]            \n",
       "─────────────────────── - ───────────────────────────────────\n",
       "        2             3             2                        \n",
       "ambda[2]  + \\lambda[2]    \\lambda[1]  - \\lambda[1]⋅\\lambda[2]"
      ]
     },
     "execution_count": 205,
     "metadata": {},
     "output_type": "execute_result"
    }
   ],
   "source": [
    "g = g_poly(function_eq, eigendata, Phi_polynomials)\n",
    "g"
   ]
  },
  {
   "cell_type": "code",
   "execution_count": 206,
   "metadata": {
    "collapsed": false
   },
   "outputs": [
    {
     "data": {
      "image/png": "[encoded data removed]",
      "text/latex": [
       "$$g{\\left (z \\right )} = \\frac{z^{2}}{3} - \\frac{5 z}{3} + \\frac{7}{3}$$"
      ],
      "text/plain": [
       "        2          \n",
       "       z    5⋅z   7\n",
       "g(z) = ── - ─── + ─\n",
       "       3     3    3"
      ]
     },
     "execution_count": 206,
     "metadata": {},
     "output_type": "execute_result"
    }
   ],
   "source": [
    "g = g.subs(eigenvals)\n",
    "g"
   ]
  },
  {
   "cell_type": "code",
   "execution_count": 207,
   "metadata": {
    "collapsed": false
   },
   "outputs": [
    {
     "data": {
      "image/png": "[encoded data removed]",
      "text/latex": [
       "$$\\left[\\begin{matrix}1 & 0 & 0\\\\- \\frac{1}{3} & 1 & \\frac{1}{3}\\\\\\frac{2}{3} & 0 & \\frac{1}{3}\\end{matrix}\\right]$$"
      ],
      "text/plain": [
       "⎡ 1    0   0 ⎤\n",
       "⎢            ⎥\n",
       "⎢-1/3  1  1/3⎥\n",
       "⎢            ⎥\n",
       "⎣2/3   0  1/3⎦"
      ]
     },
     "execution_count": 207,
     "metadata": {},
     "output_type": "execute_result"
    }
   ],
   "source": [
    "with lift_to_matrix_function(g) as g_inverse:\n",
    "    m_inverse = g_inverse(m)\n",
    "m_inverse"
   ]
  },
  {
   "cell_type": "code",
   "execution_count": 209,
   "metadata": {
    "collapsed": false
   },
   "outputs": [
    {
     "data": {
      "image/png": "[encoded data removed]",
      "text/latex": [
       "$$\\left[\\begin{matrix}1 & 0 & 0\\\\0 & 1 & 0\\\\0 & 0 & 1\\end{matrix}\\right]$$"
      ],
      "text/plain": [
       "⎡1  0  0⎤\n",
       "⎢       ⎥\n",
       "⎢0  1  0⎥\n",
       "⎢       ⎥\n",
       "⎣0  0  1⎦"
      ]
     },
     "execution_count": 209,
     "metadata": {},
     "output_type": "execute_result"
    }
   ],
   "source": [
    "m_inverse*m"
   ]
  },
  {
   "cell_type": "markdown",
   "metadata": {},
   "source": [
    "## an even bigger matrix"
   ]
  },
  {
   "cell_type": "code",
   "execution_count": 129,
   "metadata": {
    "collapsed": false
   },
   "outputs": [
    {
     "data": {
      "image/png": "[encoded data removed]",
      "text/latex": [
       "$$\\left[\\begin{matrix}1 & 0 & 0 & 0 & 0 & 0 & 0 & 0 & 0 & 0\\\\1 & 1 & 0 & 0 & 0 & 0 & 0 & 0 & 0 & 0\\\\1 & 2 & 1 & 0 & 0 & 0 & 0 & 0 & 0 & 0\\\\1 & 3 & 3 & 1 & 0 & 0 & 0 & 0 & 0 & 0\\\\1 & 4 & 6 & 4 & 1 & 0 & 0 & 0 & 0 & 0\\\\1 & 5 & 10 & 10 & 5 & 1 & 0 & 0 & 0 & 0\\\\1 & 6 & 15 & 20 & 15 & 6 & 1 & 0 & 0 & 0\\\\1 & 7 & 21 & 35 & 35 & 21 & 7 & 1 & 0 & 0\\\\1 & 8 & 28 & 56 & 70 & 56 & 28 & 8 & 1 & 0\\\\1 & 9 & 36 & 84 & 126 & 126 & 84 & 36 & 9 & 1\\end{matrix}\\right]$$"
      ],
      "text/plain": [
       "⎡1  0  0   0    0    0   0   0   0  0⎤\n",
       "⎢                                    ⎥\n",
       "⎢1  1  0   0    0    0   0   0   0  0⎥\n",
       "⎢                                    ⎥\n",
       "⎢1  2  1   0    0    0   0   0   0  0⎥\n",
       "⎢                                    ⎥\n",
       "⎢1  3  3   1    0    0   0   0   0  0⎥\n",
       "⎢                                    ⎥\n",
       "⎢1  4  6   4    1    0   0   0   0  0⎥\n",
       "⎢                                    ⎥\n",
       "⎢1  5  10  10   5    1   0   0   0  0⎥\n",
       "⎢                                    ⎥\n",
       "⎢1  6  15  20  15    6   1   0   0  0⎥\n",
       "⎢                                    ⎥\n",
       "⎢1  7  21  35  35   21   7   1   0  0⎥\n",
       "⎢                                    ⎥\n",
       "⎢1  8  28  56  70   56   28  8   1  0⎥\n",
       "⎢                                    ⎥\n",
       "⎣1  9  36  84  126  126  84  36  9  1⎦"
      ]
     },
     "execution_count": 129,
     "metadata": {},
     "output_type": "execute_result"
    }
   ],
   "source": [
    "m = Matrix(10,10,binomial)\n",
    "m"
   ]
  },
  {
   "cell_type": "code",
   "execution_count": 130,
   "metadata": {
    "collapsed": false
   },
   "outputs": [
    {
     "data": {
      "image/png": "[encoded data removed]",
      "text/latex": [
       "$$\\left ( \\left \\{ 1 : \\left ( \\lambda_{1}, \\quad m_{1}\\right )\\right \\}, \\quad \\left \\{ \\lambda_{1} : 1\\right \\}, \\quad \\left \\{ m_{1} : 10\\right \\}\\right )$$"
      ],
      "text/plain": [
       "({1: (\\lambda[1], m[1])}, {\\lambda[1]: 1}, {m[1]: 10})"
      ]
     },
     "execution_count": 130,
     "metadata": {},
     "output_type": "execute_result"
    }
   ],
   "source": [
    "data, eigenvals, multiplicities = eigendata = eigen_data(m)\n",
    "eigendata"
   ]
  },
  {
   "cell_type": "code",
   "execution_count": 131,
   "metadata": {
    "collapsed": true
   },
   "outputs": [],
   "source": [
    "m_bar = 10 # degree of \\Xi minimal polynomial"
   ]
  },
  {
   "cell_type": "code",
   "execution_count": 132,
   "metadata": {
    "collapsed": false
   },
   "outputs": [
    {
     "data": {
      "image/png": "[encoded data removed]",
      "text/latex": [
       "$$\\Phi{\\left (z,i,j \\right )} = z^{9} \\phi_{i,j,0} + z^{8} \\phi_{i,j,1} + z^{7} \\phi_{i,j,2} + z^{6} \\phi_{i,j,3} + z^{5} \\phi_{i,j,4} + z^{4} \\phi_{i,j,5} + z^{3} \\phi_{i,j,6} + z^{2} \\phi_{i,j,7} + z \\phi_{i,j,8} + \\phi_{i,j,9}$$"
      ],
      "text/plain": [
       "                 9                  8                  7                  6   \n",
       "\\Phi(z, i, j) = z ⋅\\phi[i, j, 0] + z ⋅\\phi[i, j, 1] + z ⋅\\phi[i, j, 2] + z ⋅\\p\n",
       "\n",
       "               5                  4                  3                  2     \n",
       "hi[i, j, 3] + z ⋅\\phi[i, j, 4] + z ⋅\\phi[i, j, 5] + z ⋅\\phi[i, j, 6] + z ⋅\\phi\n",
       "\n",
       "                                           \n",
       "[i, j, 7] + z⋅\\phi[i, j, 8] + \\phi[i, j, 9]"
      ]
     },
     "execution_count": 132,
     "metadata": {},
     "output_type": "execute_result"
    }
   ],
   "source": [
    "Phi_poly = Phi_poly_ctor(deg=m_bar-1)\n",
    "Phi_poly"
   ]
  },
  {
   "cell_type": "code",
   "execution_count": 133,
   "metadata": {
    "collapsed": false
   },
   "outputs": [
    {
     "data": {
      "image/png": "[encoded data removed]",
      "text/latex": [
       "$$\\left \\{ \\left ( 1, \\quad 1\\right ) : \\Phi_{ 1, 1 }{\\left (z \\right )} = 1, \\quad \\left ( 1, \\quad 2\\right ) : \\Phi_{ 1, 2 }{\\left (z \\right )} = z - \\lambda_{1}, \\quad \\left ( 1, \\quad 3\\right ) : \\Phi_{ 1, 3 }{\\left (z \\right )} = \\frac{z^{2}}{2} - z \\lambda_{1} + \\frac{\\lambda_{1}^{2}}{2}, \\quad \\left ( 1, \\quad 4\\right ) : \\Phi_{ 1, 4 }{\\left (z \\right )} = \\frac{z^{3}}{6} - \\frac{z^{2} \\lambda_{1}}{2} + \\frac{z \\lambda_{1}^{2}}{2} - \\frac{\\lambda_{1}^{3}}{6}, \\quad \\left ( 1, \\quad 5\\right ) : \\Phi_{ 1, 5 }{\\left (z \\right )} = \\frac{z^{4}}{24} - \\frac{z^{3} \\lambda_{1}}{6} + \\frac{z^{2} \\lambda_{1}^{2}}{4} - \\frac{z \\lambda_{1}^{3}}{6} + \\frac{\\lambda_{1}^{4}}{24}, \\quad \\left ( 1, \\quad 6\\right ) : \\Phi_{ 1, 6 }{\\left (z \\right )} = \\frac{z^{5}}{120} - \\frac{z^{4} \\lambda_{1}}{24} + \\frac{z^{3} \\lambda_{1}^{2}}{12} - \\frac{z^{2} \\lambda_{1}^{3}}{12} + \\frac{z \\lambda_{1}^{4}}{24} - \\frac{\\lambda_{1}^{5}}{120}, \\quad \\left ( 1, \\quad 7\\right ) : \\Phi_{ 1, 7 }{\\left (z \\right )} = \\frac{z^{6}}{720} - \\frac{z^{5} \\lambda_{1}}{120} + \\frac{z^{4} \\lambda_{1}^{2}}{48} - \\frac{z^{3} \\lambda_{1}^{3}}{36} + \\frac{z^{2} \\lambda_{1}^{4}}{48} - \\frac{z \\lambda_{1}^{5}}{120} + \\frac{\\lambda_{1}^{6}}{720}, \\quad \\left ( 1, \\quad 8\\right ) : \\Phi_{ 1, 8 }{\\left (z \\right )} = \\frac{z^{7}}{5040} - \\frac{z^{6} \\lambda_{1}}{720} + \\frac{z^{5} \\lambda_{1}^{2}}{240} - \\frac{z^{4} \\lambda_{1}^{3}}{144} + \\frac{z^{3} \\lambda_{1}^{4}}{144} - \\frac{z^{2} \\lambda_{1}^{5}}{240} + \\frac{z \\lambda_{1}^{6}}{720} - \\frac{\\lambda_{1}^{7}}{5040}, \\quad \\left ( 1, \\quad 9\\right ) : \\Phi_{ 1, 9 }{\\left (z \\right )} = \\frac{z^{8}}{40320} - \\frac{z^{7} \\lambda_{1}}{5040} + \\frac{z^{6} \\lambda_{1}^{2}}{1440} - \\frac{z^{5} \\lambda_{1}^{3}}{720} + \\frac{z^{4} \\lambda_{1}^{4}}{576} - \\frac{z^{3} \\lambda_{1}^{5}}{720} + \\frac{z^{2} \\lambda_{1}^{6}}{1440} - \\frac{z \\lambda_{1}^{7}}{5040} + \\frac{\\lambda_{1}^{8}}{40320}, \\quad \\left ( 1, \\quad 10\\right ) : \\Phi_{ 1, 10 }{\\left (z \\right )} = \\frac{z^{9}}{362880} - \\frac{z^{8} \\lambda_{1}}{40320} + \\frac{z^{7} \\lambda_{1}^{2}}{10080} - \\frac{z^{6} \\lambda_{1}^{3}}{4320} + \\frac{z^{5} \\lambda_{1}^{4}}{2880} - \\frac{z^{4} \\lambda_{1}^{5}}{2880} + \\frac{z^{3} \\lambda_{1}^{6}}{4320} - \\frac{z^{2} \\lambda_{1}^{7}}{10080} + \\frac{z \\lambda_{1}^{8}}{40320} - \\frac{\\lambda_{1}^{9}}{362880}\\right \\}$$"
      ],
      "text/plain": [
       "⎧                                                                             \n",
       "⎪                                                                             \n",
       "⎨(1, 1): \\Phi_{ 1, 1 }(z) = 1, (1, 2): \\Phi_{ 1, 2 }(z) = z - \\lambda[1], (1, \n",
       "⎪                                                                             \n",
       "⎩                                                                             \n",
       "\n",
       "                        2                            2                        \n",
       "                       z                   \\lambda[1]                         \n",
       "3): \\Phi_{ 1, 3 }(z) = ── - z⋅\\lambda[1] + ───────────, (1, 4): \\Phi_{ 1, 4 }(\n",
       "                       2                        2                             \n",
       "                                                                              \n",
       "\n",
       "      3    2                          2             3                         \n",
       "     z    z ⋅\\lambda[1]   z⋅\\lambda[1]    \\lambda[1]                          \n",
       "z) = ── - ───────────── + ───────────── - ───────────, (1, 5): \\Phi_{ 1, 5 }(z\n",
       "     6          2               2              6                              \n",
       "                                                                              \n",
       "\n",
       "     4    3               2           2               3             4         \n",
       "    z    z ⋅\\lambda[1]   z ⋅\\lambda[1]    z⋅\\lambda[1]    \\lambda[1]          \n",
       ") = ── - ───────────── + ────────────── - ───────────── + ───────────, (1, 6):\n",
       "    24         6               4                6              24             \n",
       "                                                                              \n",
       "\n",
       "                      5    4               3           2    2           3     \n",
       "                     z    z ⋅\\lambda[1]   z ⋅\\lambda[1]    z ⋅\\lambda[1]    z⋅\n",
       " \\Phi_{ 1, 6 }(z) = ─── - ───────────── + ────────────── - ────────────── + ──\n",
       "                    120         24              12               12           \n",
       "                                                                              \n",
       "\n",
       "          4             5                               6    5               4\n",
       "\\lambda[1]    \\lambda[1]                               z    z ⋅\\lambda[1]   z \n",
       "─────────── - ───────────, (1, 7): \\Phi_{ 1, 7 }(z) = ─── - ───────────── + ──\n",
       "    24            120                                 720        120          \n",
       "                                                                              \n",
       "\n",
       "           2    3           3    2           4               5             6  \n",
       "⋅\\lambda[1]    z ⋅\\lambda[1]    z ⋅\\lambda[1]    z⋅\\lambda[1]    \\lambda[1]   \n",
       "──────────── - ────────────── + ────────────── - ───────────── + ───────────, \n",
       "    48               36               48              120            720      \n",
       "                                                                              \n",
       "\n",
       "                             7     6               5           2    4         \n",
       "                            z     z ⋅\\lambda[1]   z ⋅\\lambda[1]    z ⋅\\lambda[\n",
       "(1, 8): \\Phi_{ 1, 8 }(z) = ──── - ───────────── + ────────────── - ───────────\n",
       "                           5040        720             240              144   \n",
       "                                                                              \n",
       "\n",
       "  3    3           4    2           5               6             7           \n",
       "1]    z ⋅\\lambda[1]    z ⋅\\lambda[1]    z⋅\\lambda[1]    \\lambda[1]            \n",
       "─── + ────────────── - ────────────── + ───────────── - ───────────, (1, 9): \\\n",
       "           144              240              720            5040              \n",
       "                                                                              \n",
       "\n",
       "                     8     7               6           2    5           3    4\n",
       "                    z     z ⋅\\lambda[1]   z ⋅\\lambda[1]    z ⋅\\lambda[1]    z \n",
       "Phi_{ 1, 9 }(z) = ───── - ───────────── + ────────────── - ────────────── + ──\n",
       "                  40320        5040            1440             720           \n",
       "                                                                              \n",
       "\n",
       "           4    3           5    2           6               7             8  \n",
       "⋅\\lambda[1]    z ⋅\\lambda[1]    z ⋅\\lambda[1]    z⋅\\lambda[1]    \\lambda[1]   \n",
       "──────────── - ────────────── + ────────────── - ───────────── + ───────────, \n",
       "   576              720              1440             5040          40320     \n",
       "                                                                              \n",
       "\n",
       "                                9      8               7           2    6     \n",
       "                               z      z ⋅\\lambda[1]   z ⋅\\lambda[1]    z ⋅\\lam\n",
       "(1, 10): \\Phi_{ 1, 10 }(z) = ────── - ───────────── + ────────────── - ───────\n",
       "                             362880       40320           10080             43\n",
       "                                                                              \n",
       "\n",
       "      3    5           4    4           5    3           6    2           7   \n",
       "bda[1]    z ⋅\\lambda[1]    z ⋅\\lambda[1]    z ⋅\\lambda[1]    z ⋅\\lambda[1]    \n",
       "─────── + ────────────── - ────────────── + ────────────── - ────────────── + \n",
       "20             2880             2880             4320            10080        \n",
       "                                                                              \n",
       "\n",
       "            8             9⎫\n",
       "z⋅\\lambda[1]    \\lambda[1] ⎪\n",
       "───────────── - ───────────⎬\n",
       "    40320          362880  ⎪\n",
       "                           ⎭"
      ]
     },
     "execution_count": 133,
     "metadata": {},
     "output_type": "execute_result"
    }
   ],
   "source": [
    "Phi_polynomials = component_polynomials(Phi_poly, eigendata)\n",
    "Phi_polynomials"
   ]
  },
  {
   "cell_type": "code",
   "execution_count": 163,
   "metadata": {
    "collapsed": false
   },
   "outputs": [
    {
     "data": {
      "image/png": "[encoded data removed]",
      "text/latex": [
       "$$\\left\\{\\Phi_{ 1, 1 }{\\left (z \\right )} = 1, \\Phi_{ 1, 10 }{\\left (z \\right )} = \\frac{z^{9}}{362880} - \\frac{z^{8}}{40320} + \\frac{z^{7}}{10080} - \\frac{z^{6}}{4320} + \\frac{z^{5}}{2880} - \\frac{z^{4}}{2880} + \\frac{z^{3}}{4320} - \\frac{z^{2}}{10080} + \\frac{z}{40320} - \\frac{1}{362880}, \\Phi_{ 1, 2 }{\\left (z \\right )} = z - 1, \\Phi_{ 1, 3 }{\\left (z \\right )} = \\frac{z^{2}}{2} - z + \\frac{1}{2}, \\Phi_{ 1, 4 }{\\left (z \\right )} = \\frac{z^{3}}{6} - \\frac{z^{2}}{2} + \\frac{z}{2} - \\frac{1}{6}, \\Phi_{ 1, 5 }{\\left (z \\right )} = \\frac{z^{4}}{24} - \\frac{z^{3}}{6} + \\frac{z^{2}}{4} - \\frac{z}{6} + \\frac{1}{24}, \\Phi_{ 1, 6 }{\\left (z \\right )} = \\frac{z^{5}}{120} - \\frac{z^{4}}{24} + \\frac{z^{3}}{12} - \\frac{z^{2}}{12} + \\frac{z}{24} - \\frac{1}{120}, \\Phi_{ 1, 7 }{\\left (z \\right )} = \\frac{z^{6}}{720} - \\frac{z^{5}}{120} + \\frac{z^{4}}{48} - \\frac{z^{3}}{36} + \\frac{z^{2}}{48} - \\frac{z}{120} + \\frac{1}{720}, \\Phi_{ 1, 8 }{\\left (z \\right )} = \\frac{z^{7}}{5040} - \\frac{z^{6}}{720} + \\frac{z^{5}}{240} - \\frac{z^{4}}{144} + \\frac{z^{3}}{144} - \\frac{z^{2}}{240} + \\frac{z}{720} - \\frac{1}{5040}, \\Phi_{ 1, 9 }{\\left (z \\right )} = \\frac{z^{8}}{40320} - \\frac{z^{7}}{5040} + \\frac{z^{6}}{1440} - \\frac{z^{5}}{720} + \\frac{z^{4}}{576} - \\frac{z^{3}}{720} + \\frac{z^{2}}{1440} - \\frac{z}{5040} + \\frac{1}{40320}\\right\\}$$"
      ],
      "text/plain": [
       "   ⎛⎡                                             9        8       7      6   \n",
       "   ⎜⎢                                            z        z       z      z    \n",
       "set⎜⎢\\Phi_{ 1, 1 }(z) = 1, \\Phi_{ 1, 10 }(z) = ────── - ───── + ───── - ──── +\n",
       "   ⎝⎣                                          362880   40320   10080   4320  \n",
       "\n",
       "   5      4      3       2                                                    \n",
       "  z      z      z       z       z       1                                     \n",
       " ──── - ──── + ──── - ───── + ───── - ──────, \\Phi_{ 1, 2 }(z) = z - 1, \\Phi_{\n",
       " 2880   2880   4320   10080   40320   362880                                  \n",
       "\n",
       "              2                              3    2                           \n",
       "             z        1                     z    z    z   1                   \n",
       " 1, 3 }(z) = ── - z + ─, \\Phi_{ 1, 4 }(z) = ── - ── + ─ - ─, \\Phi_{ 1, 5 }(z) \n",
       "             2        2                     6    2    2   6                   \n",
       "\n",
       "   4    3    2                                5    4    3    2                \n",
       "  z    z    z    z   1                       z    z    z    z    z     1      \n",
       "= ── - ── + ── - ─ + ──, \\Phi_{ 1, 6 }(z) = ─── - ── + ── - ── + ── - ───, \\Ph\n",
       "  24   6    4    6   24                     120   24   12   12   24   120     \n",
       "\n",
       "                  6     5    4    3    2                                   7  \n",
       "                 z     z    z    z    z     z     1                       z   \n",
       "i_{ 1, 7 }(z) = ─── - ─── + ── - ── + ── - ─── + ───, \\Phi_{ 1, 8 }(z) = ──── \n",
       "                720   120   48   36   48   120   720                     5040 \n",
       "\n",
       "    6     5     4     3     2                                     8      7    \n",
       "   z     z     z     z     z     z     1                         z      z     \n",
       "- ─── + ─── - ─── + ─── - ─── + ─── - ────, \\Phi_{ 1, 9 }(z) = ───── - ──── + \n",
       "  720   240   144   144   240   720   5040                     40320   5040   \n",
       "\n",
       "  6      5     4     3     2                ⎤⎞\n",
       " z      z     z     z     z      z       1  ⎥⎟\n",
       "──── - ─── + ─── - ─── + ──── - ──── + ─────⎥⎟\n",
       "1440   720   576   720   1440   5040   40320⎦⎠"
      ]
     },
     "execution_count": 163,
     "metadata": {},
     "output_type": "execute_result"
    }
   ],
   "source": [
    "{v.subs(eigenvals) for k,v in Phi_polynomials.items()}"
   ]
  },
  {
   "cell_type": "code",
   "execution_count": 134,
   "metadata": {
    "collapsed": false
   },
   "outputs": [
    {
     "data": {
      "image/png": "[encoded data removed]",
      "text/latex": [
       "$$\\left[\\begin{matrix}- \\frac{\\lambda_{1}^{3}}{6} + \\frac{\\lambda_{1}^{2}}{2} - \\frac{\\lambda_{1}}{2} + \\frac{1}{6} & 0 & 0 & 0 & 0 & 0 & 0 & 0 & 0 & 0\\\\\\frac{\\lambda_{1}^{2}}{2} - \\lambda_{1} + \\frac{1}{2} & - \\frac{\\lambda_{1}^{3}}{6} + \\frac{\\lambda_{1}^{2}}{2} - \\frac{\\lambda_{1}}{2} + \\frac{1}{6} & 0 & 0 & 0 & 0 & 0 & 0 & 0 & 0\\\\\\frac{\\lambda_{1}^{2}}{2} - 2 \\lambda_{1} + \\frac{3}{2} & \\lambda_{1}^{2} - 2 \\lambda_{1} + 1 & - \\frac{\\lambda_{1}^{3}}{6} + \\frac{\\lambda_{1}^{2}}{2} - \\frac{\\lambda_{1}}{2} + \\frac{1}{6} & 0 & 0 & 0 & 0 & 0 & 0 & 0\\\\\\frac{\\lambda_{1}^{2}}{2} - 4 \\lambda_{1} + \\frac{9}{2} & \\frac{3 \\lambda_{1}^{2}}{2} - 6 \\lambda_{1} + \\frac{9}{2} & \\frac{3 \\lambda_{1}^{2}}{2} - 3 \\lambda_{1} + \\frac{3}{2} & - \\frac{\\lambda_{1}^{3}}{6} + \\frac{\\lambda_{1}^{2}}{2} - \\frac{\\lambda_{1}}{2} + \\frac{1}{6} & 0 & 0 & 0 & 0 & 0 & 0\\\\\\frac{\\lambda_{1}^{2}}{2} - 8 \\lambda_{1} + \\frac{27}{2} & 2 \\lambda_{1}^{2} - 16 \\lambda_{1} + 18 & 3 \\lambda_{1}^{2} - 12 \\lambda_{1} + 9 & 2 \\lambda_{1}^{2} - 4 \\lambda_{1} + 2 & - \\frac{\\lambda_{1}^{3}}{6} + \\frac{\\lambda_{1}^{2}}{2} - \\frac{\\lambda_{1}}{2} + \\frac{1}{6} & 0 & 0 & 0 & 0 & 0\\\\\\frac{\\lambda_{1}^{2}}{2} - 16 \\lambda_{1} + \\frac{81}{2} & \\frac{5 \\lambda_{1}^{2}}{2} - 40 \\lambda_{1} + \\frac{135}{2} & 5 \\lambda_{1}^{2} - 40 \\lambda_{1} + 45 & 5 \\lambda_{1}^{2} - 20 \\lambda_{1} + 15 & \\frac{5 \\lambda_{1}^{2}}{2} - 5 \\lambda_{1} + \\frac{5}{2} & - \\frac{\\lambda_{1}^{3}}{6} + \\frac{\\lambda_{1}^{2}}{2} - \\frac{\\lambda_{1}}{2} + \\frac{1}{6} & 0 & 0 & 0 & 0\\\\\\frac{\\lambda_{1}^{2}}{2} - 32 \\lambda_{1} + \\frac{243}{2} & 3 \\lambda_{1}^{2} - 96 \\lambda_{1} + 243 & \\frac{15 \\lambda_{1}^{2}}{2} - 120 \\lambda_{1} + \\frac{405}{2} & 10 \\lambda_{1}^{2} - 80 \\lambda_{1} + 90 & \\frac{15 \\lambda_{1}^{2}}{2} - 30 \\lambda_{1} + \\frac{45}{2} & 3 \\lambda_{1}^{2} - 6 \\lambda_{1} + 3 & - \\frac{\\lambda_{1}^{3}}{6} + \\frac{\\lambda_{1}^{2}}{2} - \\frac{\\lambda_{1}}{2} + \\frac{1}{6} & 0 & 0 & 0\\\\\\frac{\\lambda_{1}^{2}}{2} - 64 \\lambda_{1} + \\frac{729}{2} & \\frac{7 \\lambda_{1}^{2}}{2} - 224 \\lambda_{1} + \\frac{1701}{2} & \\frac{21 \\lambda_{1}^{2}}{2} - 336 \\lambda_{1} + \\frac{1701}{2} & \\frac{35 \\lambda_{1}^{2}}{2} - 280 \\lambda_{1} + \\frac{945}{2} & \\frac{35 \\lambda_{1}^{2}}{2} - 140 \\lambda_{1} + \\frac{315}{2} & \\frac{21 \\lambda_{1}^{2}}{2} - 42 \\lambda_{1} + \\frac{63}{2} & \\frac{7 \\lambda_{1}^{2}}{2} - 7 \\lambda_{1} + \\frac{7}{2} & - \\frac{\\lambda_{1}^{3}}{6} + \\frac{\\lambda_{1}^{2}}{2} - \\frac{\\lambda_{1}}{2} + \\frac{1}{6} & 0 & 0\\\\\\frac{\\lambda_{1}^{2}}{2} - 128 \\lambda_{1} + \\frac{2187}{2} & 4 \\lambda_{1}^{2} - 512 \\lambda_{1} + 2916 & 14 \\lambda_{1}^{2} - 896 \\lambda_{1} + 3402 & 28 \\lambda_{1}^{2} - 896 \\lambda_{1} + 2268 & 35 \\lambda_{1}^{2} - 560 \\lambda_{1} + 945 & 28 \\lambda_{1}^{2} - 224 \\lambda_{1} + 252 & 14 \\lambda_{1}^{2} - 56 \\lambda_{1} + 42 & 4 \\lambda_{1}^{2} - 8 \\lambda_{1} + 4 & - \\frac{\\lambda_{1}^{3}}{6} + \\frac{\\lambda_{1}^{2}}{2} - \\frac{\\lambda_{1}}{2} + \\frac{1}{6} & 0\\\\\\frac{\\lambda_{1}^{2}}{2} - 256 \\lambda_{1} + \\frac{6561}{2} & \\frac{9 \\lambda_{1}^{2}}{2} - 1152 \\lambda_{1} + \\frac{19683}{2} & 18 \\lambda_{1}^{2} - 2304 \\lambda_{1} + 13122 & 42 \\lambda_{1}^{2} - 2688 \\lambda_{1} + 10206 & 63 \\lambda_{1}^{2} - 2016 \\lambda_{1} + 5103 & 63 \\lambda_{1}^{2} - 1008 \\lambda_{1} + 1701 & 42 \\lambda_{1}^{2} - 336 \\lambda_{1} + 378 & 18 \\lambda_{1}^{2} - 72 \\lambda_{1} + 54 & \\frac{9 \\lambda_{1}^{2}}{2} - 9 \\lambda_{1} + \\frac{9}{2} & - \\frac{\\lambda_{1}^{3}}{6} + \\frac{\\lambda_{1}^{2}}{2} - \\frac{\\lambda_{1}}{2} + \\frac{1}{6}\\end{matrix}\\right]$$"
      ],
      "text/plain": [
       "⎡            3             2                                                  \n",
       "⎢  \\lambda[1]    \\lambda[1]    \\lambda[1]   1                                 \n",
       "⎢- ─────────── + ─────────── - ────────── + ─                       0         \n",
       "⎢       6             2            2        6                                 \n",
       "⎢                                                                             \n",
       "⎢                  2                                       3             2    \n",
       "⎢        \\lambda[1]                 1            \\lambda[1]    \\lambda[1]    \\\n",
       "⎢        ─────────── - \\lambda[1] + ─          - ─────────── + ─────────── - ─\n",
       "⎢             2                     2                 6             2         \n",
       "⎢                                                                             \n",
       "⎢                 2                                                           \n",
       "⎢       \\lambda[1]                   3                          2             \n",
       "⎢       ─────────── - 2⋅\\lambda[1] + ─                \\lambda[1]  - 2⋅\\lambda[\n",
       "⎢            2                       2                                        \n",
       "⎢                                                                             \n",
       "⎢                 2                                              2            \n",
       "⎢       \\lambda[1]                   9               3⋅\\lambda[1]             \n",
       "⎢       ─────────── - 4⋅\\lambda[1] + ─               ───────────── - 6⋅\\lambda\n",
       "⎢            2                       2                     2                  \n",
       "⎢                                                                             \n",
       "⎢                2                                                            \n",
       "⎢      \\lambda[1]                   27                          2             \n",
       "⎢      ─────────── - 8⋅\\lambda[1] + ──              2⋅\\lambda[1]  - 16⋅\\lambda\n",
       "⎢           2                       2                                         \n",
       "⎢                                                                             \n",
       "⎢                2                                             2              \n",
       "⎢      \\lambda[1]                    81            5⋅\\lambda[1]               \n",
       "⎢      ─────────── - 16⋅\\lambda[1] + ──            ───────────── - 40⋅\\lambda[\n",
       "⎢           2                        2                   2                    \n",
       "⎢                                                                             \n",
       "⎢               2                                                             \n",
       "⎢     \\lambda[1]                    243                        2              \n",
       "⎢     ─────────── - 32⋅\\lambda[1] + ───            3⋅\\lambda[1]  - 96⋅\\lambda[\n",
       "⎢          2                         2                                        \n",
       "⎢                                                                             \n",
       "⎢               2                                             2               \n",
       "⎢     \\lambda[1]                    729           7⋅\\lambda[1]                \n",
       "⎢     ─────────── - 64⋅\\lambda[1] + ───           ───────────── - 224⋅\\lambda[\n",
       "⎢          2                         2                  2                     \n",
       "⎢                                                                             \n",
       "⎢              2                                                              \n",
       "⎢    \\lambda[1]                     2187                      2               \n",
       "⎢    ─────────── - 128⋅\\lambda[1] + ────          4⋅\\lambda[1]  - 512⋅\\lambda[\n",
       "⎢         2                          2                                        \n",
       "⎢                                                                             \n",
       "⎢              2                                             2                \n",
       "⎢    \\lambda[1]                     6561         9⋅\\lambda[1]                 \n",
       "⎢    ─────────── - 256⋅\\lambda[1] + ────         ───────────── - 1152⋅\\lambda[\n",
       "⎣         2                          2                 2                      \n",
       "\n",
       "                                                                              \n",
       "                                                                              \n",
       "                                    0                                         \n",
       "                                                                              \n",
       "                                                                              \n",
       "                                                                              \n",
       "lambda[1]   1                                                                 \n",
       "───────── + ─                       0                                         \n",
       "   2        6                                                                 \n",
       "                                                                              \n",
       "                           3             2                                    \n",
       "                 \\lambda[1]    \\lambda[1]    \\lambda[1]   1                   \n",
       "1] + 1         - ─────────── + ─────────── - ────────── + ─                   \n",
       "                      6             2            2        6                   \n",
       "                                                                              \n",
       "                                 2                                       3    \n",
       "      9              3⋅\\lambda[1]                   3          \\lambda[1]    \\\n",
       "[1] + ─              ───────────── - 3⋅\\lambda[1] + ─        - ─────────── + ─\n",
       "      2                    2                        2               6         \n",
       "                                                                              \n",
       "                                                                              \n",
       "                                2                                             \n",
       "[1] + 18            3⋅\\lambda[1]  - 12⋅\\lambda[1] + 9              2⋅\\lambda[1\n",
       "                                                                              \n",
       "                                                                              \n",
       "                                                                              \n",
       "     135                        2                                             \n",
       "1] + ───            5⋅\\lambda[1]  - 40⋅\\lambda[1] + 45            5⋅\\lambda[1]\n",
       "      2                                                                       \n",
       "                                                                              \n",
       "                               2                                              \n",
       "                  15⋅\\lambda[1]                     405                       \n",
       "1] + 243          ────────────── - 120⋅\\lambda[1] + ───          10⋅\\lambda[1]\n",
       "                        2                            2                        \n",
       "                                                                              \n",
       "                               2                                             2\n",
       "     1701         21⋅\\lambda[1]                     1701        35⋅\\lambda[1] \n",
       "1] + ────         ────────────── - 336⋅\\lambda[1] + ────        ──────────────\n",
       "      2                 2                            2                2       \n",
       "                                                                              \n",
       "                                                                              \n",
       "                               2                                             2\n",
       "1] + 2916         14⋅\\lambda[1]  - 896⋅\\lambda[1] + 3402        28⋅\\lambda[1] \n",
       "                                                                              \n",
       "                                                                              \n",
       "                                                                              \n",
       "     19683                    2                                             2 \n",
       "1] + ─────       18⋅\\lambda[1]  - 2304⋅\\lambda[1] + 13122      42⋅\\lambda[1]  \n",
       "       2                                                                      \n",
       "\n",
       "                                                                              \n",
       "                                                                              \n",
       "    0                                             0                           \n",
       "                                                                              \n",
       "                                                                              \n",
       "                                                                              \n",
       "                                                                              \n",
       "    0                                             0                           \n",
       "                                                                              \n",
       "                                                                              \n",
       "                                                                              \n",
       "                                                                              \n",
       "    0                                             0                           \n",
       "                                                                              \n",
       "                                                                              \n",
       "         2                                                                    \n",
       "lambda[1]    \\lambda[1]   1                                                   \n",
       "────────── - ────────── + ─                       0                           \n",
       "    2            2        6                                                   \n",
       "                                                                              \n",
       "                                         3             2                      \n",
       " 2                             \\lambda[1]    \\lambda[1]    \\lambda[1]   1     \n",
       "]  - 4⋅\\lambda[1] + 2        - ─────────── + ─────────── - ────────── + ─     \n",
       "                                    6             2            2        6     \n",
       "                                                                              \n",
       "                                               2                              \n",
       "2                                  5⋅\\lambda[1]                   5          \\\n",
       "  - 20⋅\\lambda[1] + 15             ───────────── - 5⋅\\lambda[1] + ─        - ─\n",
       "                                         2                        2           \n",
       "                                                                              \n",
       "                                              2                               \n",
       "2                                15⋅\\lambda[1]                    45          \n",
       "  - 80⋅\\lambda[1] + 90           ────────────── - 30⋅\\lambda[1] + ──          \n",
       "                                       2                          2           \n",
       "                                                                              \n",
       "                                             2                                \n",
       "                    945         35⋅\\lambda[1]                     315         \n",
       " - 280⋅\\lambda[1] + ───         ────────────── - 140⋅\\lambda[1] + ───         \n",
       "                     2                2                            2          \n",
       "                                                                              \n",
       "                                                                              \n",
       "                                             2                                \n",
       " - 896⋅\\lambda[1] + 2268        35⋅\\lambda[1]  - 560⋅\\lambda[1] + 945         \n",
       "                                                                              \n",
       "                                                                              \n",
       "                                                                              \n",
       "                                            2                                 \n",
       "- 2688⋅\\lambda[1] + 10206      63⋅\\lambda[1]  - 2016⋅\\lambda[1] + 5103       6\n",
       "                                                                              \n",
       "\n",
       "                                                                              \n",
       "                                                                              \n",
       "                  0                                             0             \n",
       "                                                                              \n",
       "                                                                              \n",
       "                                                                              \n",
       "                                                                              \n",
       "                  0                                             0             \n",
       "                                                                              \n",
       "                                                                              \n",
       "                                                                              \n",
       "                                                                              \n",
       "                  0                                             0             \n",
       "                                                                              \n",
       "                                                                              \n",
       "                                                                              \n",
       "                                                                              \n",
       "                  0                                             0             \n",
       "                                                                              \n",
       "                                                                              \n",
       "                                                                              \n",
       "                                                                              \n",
       "                  0                                             0             \n",
       "                                                                              \n",
       "                                                                              \n",
       "         3             2                                                      \n",
       "lambda[1]    \\lambda[1]    \\lambda[1]   1                                     \n",
       "────────── + ─────────── - ────────── + ─                       0             \n",
       "    6             2            2        6                                     \n",
       "                                                                              \n",
       "                                                       3             2        \n",
       "               2                             \\lambda[1]    \\lambda[1]    \\lamb\n",
       "   3⋅\\lambda[1]  - 6⋅\\lambda[1] + 3        - ─────────── + ─────────── - ─────\n",
       "                                                  6             2            2\n",
       "                                                                              \n",
       "              2                                              2                \n",
       " 21⋅\\lambda[1]                    63             7⋅\\lambda[1]                 \n",
       " ────────────── - 42⋅\\lambda[1] + ──             ───────────── - 7⋅\\lambda[1] \n",
       "       2                          2                    2                      \n",
       "                                                                              \n",
       "                                                                              \n",
       "             2                                              2                 \n",
       "28⋅\\lambda[1]  - 224⋅\\lambda[1] + 252          14⋅\\lambda[1]  - 56⋅\\lambda[1] \n",
       "                                                                              \n",
       "                                                                              \n",
       "                                                                              \n",
       "            2                                              2                  \n",
       "3⋅\\lambda[1]  - 1008⋅\\lambda[1] + 1701        42⋅\\lambda[1]  - 336⋅\\lambda[1] \n",
       "                                                                              \n",
       "\n",
       "                                                                              \n",
       "                                                                              \n",
       "                                0                                             \n",
       "                                                                              \n",
       "                                                                              \n",
       "                                                                              \n",
       "                                                                              \n",
       "                                0                                             \n",
       "                                                                              \n",
       "                                                                              \n",
       "                                                                              \n",
       "                                                                              \n",
       "                                0                                             \n",
       "                                                                              \n",
       "                                                                              \n",
       "                                                                              \n",
       "                                                                              \n",
       "                                0                                             \n",
       "                                                                              \n",
       "                                                                              \n",
       "                                                                              \n",
       "                                                                              \n",
       "                                0                                             \n",
       "                                                                              \n",
       "                                                                              \n",
       "                                                                              \n",
       "                                                                              \n",
       "                                0                                             \n",
       "                                                                              \n",
       "                                                                              \n",
       "                                                                              \n",
       "da[1]   1                                                                     \n",
       "───── + ─                       0                                             \n",
       "        6                                                                     \n",
       "                                                                              \n",
       "                       3             2                                        \n",
       "  7          \\lambda[1]    \\lambda[1]    \\lambda[1]   1                       \n",
       "+ ─        - ─────────── + ─────────── - ────────── + ─                       \n",
       "  2               6             2            2        6                       \n",
       "                                                                              \n",
       "                                                                     3        \n",
       "                             2                             \\lambda[1]    \\lamb\n",
       "+ 42             4⋅\\lambda[1]  - 8⋅\\lambda[1] + 4        - ─────────── + ─────\n",
       "                                                                6             \n",
       "                                                                              \n",
       "                                                                           2  \n",
       "                            2                                  9⋅\\lambda[1]   \n",
       "+ 378          18⋅\\lambda[1]  - 72⋅\\lambda[1] + 54             ───────────── -\n",
       "                                                                     2        \n",
       "\n",
       "                                                                     ⎤\n",
       "                                                                     ⎥\n",
       "0                                             0                      ⎥\n",
       "                                                                     ⎥\n",
       "                                                                     ⎥\n",
       "                                                                     ⎥\n",
       "                                                                     ⎥\n",
       "0                                             0                      ⎥\n",
       "                                                                     ⎥\n",
       "                                                                     ⎥\n",
       "                                                                     ⎥\n",
       "                                                                     ⎥\n",
       "0                                             0                      ⎥\n",
       "                                                                     ⎥\n",
       "                                                                     ⎥\n",
       "                                                                     ⎥\n",
       "                                                                     ⎥\n",
       "0                                             0                      ⎥\n",
       "                                                                     ⎥\n",
       "                                                                     ⎥\n",
       "                                                                     ⎥\n",
       "                                                                     ⎥\n",
       "0                                             0                      ⎥\n",
       "                                                                     ⎥\n",
       "                                                                     ⎥\n",
       "                                                                     ⎥\n",
       "                                                                     ⎥\n",
       "0                                             0                      ⎥\n",
       "                                                                     ⎥\n",
       "                                                                     ⎥\n",
       "                                                                     ⎥\n",
       "                                                                     ⎥\n",
       "0                                             0                      ⎥\n",
       "                                                                     ⎥\n",
       "                                                                     ⎥\n",
       "                                                                     ⎥\n",
       "                                                                     ⎥\n",
       "0                                             0                      ⎥\n",
       "                                                                     ⎥\n",
       "                                                                     ⎥\n",
       "     2                                                               ⎥\n",
       "da[1]    \\lambda[1]   1                                              ⎥\n",
       "────── - ────────── + ─                       0                      ⎥\n",
       "2            2        6                                              ⎥\n",
       "                                                                     ⎥\n",
       "                                     3             2                 ⎥\n",
       "                9          \\lambda[1]    \\lambda[1]    \\lambda[1]   1⎥\n",
       " 9⋅\\lambda[1] + ─        - ─────────── + ─────────── - ────────── + ─⎥\n",
       "                2               6             2            2        6⎦"
      ]
     },
     "execution_count": 134,
     "metadata": {},
     "output_type": "execute_result"
    }
   ],
   "source": [
    "cmatrices = component_matrices(m, Phi_polynomials)\n",
    "cmatrices[1,4]"
   ]
  },
  {
   "cell_type": "code",
   "execution_count": 154,
   "metadata": {
    "collapsed": false
   },
   "outputs": [
    {
     "data": {
      "image/png": "[encoded data removed]",
      "text/latex": [
       "$$\\left \\{ Z_{1,1} : \\left[\\begin{matrix}1 & 0 & 0 & 0 & 0 & 0 & 0 & 0 & 0 & 0\\\\0 & 1 & 0 & 0 & 0 & 0 & 0 & 0 & 0 & 0\\\\0 & 0 & 1 & 0 & 0 & 0 & 0 & 0 & 0 & 0\\\\0 & 0 & 0 & 1 & 0 & 0 & 0 & 0 & 0 & 0\\\\0 & 0 & 0 & 0 & 1 & 0 & 0 & 0 & 0 & 0\\\\0 & 0 & 0 & 0 & 0 & 1 & 0 & 0 & 0 & 0\\\\0 & 0 & 0 & 0 & 0 & 0 & 1 & 0 & 0 & 0\\\\0 & 0 & 0 & 0 & 0 & 0 & 0 & 1 & 0 & 0\\\\0 & 0 & 0 & 0 & 0 & 0 & 0 & 0 & 1 & 0\\\\0 & 0 & 0 & 0 & 0 & 0 & 0 & 0 & 0 & 1\\end{matrix}\\right], \\quad Z_{1,2} : \\left[\\begin{matrix}0 & 0 & 0 & 0 & 0 & 0 & 0 & 0 & 0 & 0\\\\1 & 0 & 0 & 0 & 0 & 0 & 0 & 0 & 0 & 0\\\\1 & 2 & 0 & 0 & 0 & 0 & 0 & 0 & 0 & 0\\\\1 & 3 & 3 & 0 & 0 & 0 & 0 & 0 & 0 & 0\\\\1 & 4 & 6 & 4 & 0 & 0 & 0 & 0 & 0 & 0\\\\1 & 5 & 10 & 10 & 5 & 0 & 0 & 0 & 0 & 0\\\\1 & 6 & 15 & 20 & 15 & 6 & 0 & 0 & 0 & 0\\\\1 & 7 & 21 & 35 & 35 & 21 & 7 & 0 & 0 & 0\\\\1 & 8 & 28 & 56 & 70 & 56 & 28 & 8 & 0 & 0\\\\1 & 9 & 36 & 84 & 126 & 126 & 84 & 36 & 9 & 0\\end{matrix}\\right], \\quad Z_{1,3} : \\left[\\begin{matrix}0 & 0 & 0 & 0 & 0 & 0 & 0 & 0 & 0 & 0\\\\0 & 0 & 0 & 0 & 0 & 0 & 0 & 0 & 0 & 0\\\\1 & 0 & 0 & 0 & 0 & 0 & 0 & 0 & 0 & 0\\\\3 & 3 & 0 & 0 & 0 & 0 & 0 & 0 & 0 & 0\\\\7 & 12 & 6 & 0 & 0 & 0 & 0 & 0 & 0 & 0\\\\15 & 35 & 30 & 10 & 0 & 0 & 0 & 0 & 0 & 0\\\\31 & 90 & 105 & 60 & 15 & 0 & 0 & 0 & 0 & 0\\\\63 & 217 & 315 & 245 & 105 & 21 & 0 & 0 & 0 & 0\\\\127 & 504 & 868 & 840 & 490 & 168 & 28 & 0 & 0 & 0\\\\255 & 1143 & 2268 & 2604 & 1890 & 882 & 252 & 36 & 0 & 0\\end{matrix}\\right], \\quad Z_{1,4} : \\left[\\begin{matrix}0 & 0 & 0 & 0 & 0 & 0 & 0 & 0 & 0 & 0\\\\0 & 0 & 0 & 0 & 0 & 0 & 0 & 0 & 0 & 0\\\\0 & 0 & 0 & 0 & 0 & 0 & 0 & 0 & 0 & 0\\\\1 & 0 & 0 & 0 & 0 & 0 & 0 & 0 & 0 & 0\\\\6 & 4 & 0 & 0 & 0 & 0 & 0 & 0 & 0 & 0\\\\25 & 30 & 10 & 0 & 0 & 0 & 0 & 0 & 0 & 0\\\\90 & 150 & 90 & 20 & 0 & 0 & 0 & 0 & 0 & 0\\\\301 & 630 & 525 & 210 & 35 & 0 & 0 & 0 & 0 & 0\\\\966 & 2408 & 2520 & 1400 & 420 & 56 & 0 & 0 & 0 & 0\\\\3025 & 8694 & 10836 & 7560 & 3150 & 756 & 84 & 0 & 0 & 0\\end{matrix}\\right], \\quad Z_{1,5} : \\left[\\begin{matrix}0 & 0 & 0 & 0 & 0 & 0 & 0 & 0 & 0 & 0\\\\0 & 0 & 0 & 0 & 0 & 0 & 0 & 0 & 0 & 0\\\\0 & 0 & 0 & 0 & 0 & 0 & 0 & 0 & 0 & 0\\\\0 & 0 & 0 & 0 & 0 & 0 & 0 & 0 & 0 & 0\\\\1 & 0 & 0 & 0 & 0 & 0 & 0 & 0 & 0 & 0\\\\10 & 5 & 0 & 0 & 0 & 0 & 0 & 0 & 0 & 0\\\\65 & 60 & 15 & 0 & 0 & 0 & 0 & 0 & 0 & 0\\\\350 & 455 & 210 & 35 & 0 & 0 & 0 & 0 & 0 & 0\\\\1701 & 2800 & 1820 & 560 & 70 & 0 & 0 & 0 & 0 & 0\\\\7770 & 15309 & 12600 & 5460 & 1260 & 126 & 0 & 0 & 0 & 0\\end{matrix}\\right], \\quad Z_{1,6} : \\left[\\begin{matrix}0 & 0 & 0 & 0 & 0 & 0 & 0 & 0 & 0 & 0\\\\0 & 0 & 0 & 0 & 0 & 0 & 0 & 0 & 0 & 0\\\\0 & 0 & 0 & 0 & 0 & 0 & 0 & 0 & 0 & 0\\\\0 & 0 & 0 & 0 & 0 & 0 & 0 & 0 & 0 & 0\\\\0 & 0 & 0 & 0 & 0 & 0 & 0 & 0 & 0 & 0\\\\1 & 0 & 0 & 0 & 0 & 0 & 0 & 0 & 0 & 0\\\\15 & 6 & 0 & 0 & 0 & 0 & 0 & 0 & 0 & 0\\\\140 & 105 & 21 & 0 & 0 & 0 & 0 & 0 & 0 & 0\\\\1050 & 1120 & 420 & 56 & 0 & 0 & 0 & 0 & 0 & 0\\\\6951 & 9450 & 5040 & 1260 & 126 & 0 & 0 & 0 & 0 & 0\\end{matrix}\\right], \\quad Z_{1,7} : \\left[\\begin{matrix}0 & 0 & 0 & 0 & 0 & 0 & 0 & 0 & 0 & 0\\\\0 & 0 & 0 & 0 & 0 & 0 & 0 & 0 & 0 & 0\\\\0 & 0 & 0 & 0 & 0 & 0 & 0 & 0 & 0 & 0\\\\0 & 0 & 0 & 0 & 0 & 0 & 0 & 0 & 0 & 0\\\\0 & 0 & 0 & 0 & 0 & 0 & 0 & 0 & 0 & 0\\\\0 & 0 & 0 & 0 & 0 & 0 & 0 & 0 & 0 & 0\\\\1 & 0 & 0 & 0 & 0 & 0 & 0 & 0 & 0 & 0\\\\21 & 7 & 0 & 0 & 0 & 0 & 0 & 0 & 0 & 0\\\\266 & 168 & 28 & 0 & 0 & 0 & 0 & 0 & 0 & 0\\\\2646 & 2394 & 756 & 84 & 0 & 0 & 0 & 0 & 0 & 0\\end{matrix}\\right], \\quad Z_{1,8} : \\left[\\begin{matrix}0 & 0 & 0 & 0 & 0 & 0 & 0 & 0 & 0 & 0\\\\0 & 0 & 0 & 0 & 0 & 0 & 0 & 0 & 0 & 0\\\\0 & 0 & 0 & 0 & 0 & 0 & 0 & 0 & 0 & 0\\\\0 & 0 & 0 & 0 & 0 & 0 & 0 & 0 & 0 & 0\\\\0 & 0 & 0 & 0 & 0 & 0 & 0 & 0 & 0 & 0\\\\0 & 0 & 0 & 0 & 0 & 0 & 0 & 0 & 0 & 0\\\\0 & 0 & 0 & 0 & 0 & 0 & 0 & 0 & 0 & 0\\\\1 & 0 & 0 & 0 & 0 & 0 & 0 & 0 & 0 & 0\\\\28 & 8 & 0 & 0 & 0 & 0 & 0 & 0 & 0 & 0\\\\462 & 252 & 36 & 0 & 0 & 0 & 0 & 0 & 0 & 0\\end{matrix}\\right], \\quad Z_{1,9} : \\left[\\begin{matrix}0 & 0 & 0 & 0 & 0 & 0 & 0 & 0 & 0 & 0\\\\0 & 0 & 0 & 0 & 0 & 0 & 0 & 0 & 0 & 0\\\\0 & 0 & 0 & 0 & 0 & 0 & 0 & 0 & 0 & 0\\\\0 & 0 & 0 & 0 & 0 & 0 & 0 & 0 & 0 & 0\\\\0 & 0 & 0 & 0 & 0 & 0 & 0 & 0 & 0 & 0\\\\0 & 0 & 0 & 0 & 0 & 0 & 0 & 0 & 0 & 0\\\\0 & 0 & 0 & 0 & 0 & 0 & 0 & 0 & 0 & 0\\\\0 & 0 & 0 & 0 & 0 & 0 & 0 & 0 & 0 & 0\\\\1 & 0 & 0 & 0 & 0 & 0 & 0 & 0 & 0 & 0\\\\36 & 9 & 0 & 0 & 0 & 0 & 0 & 0 & 0 & 0\\end{matrix}\\right], \\quad Z_{1,10} : \\left[\\begin{matrix}0 & 0 & 0 & 0 & 0 & 0 & 0 & 0 & 0 & 0\\\\0 & 0 & 0 & 0 & 0 & 0 & 0 & 0 & 0 & 0\\\\0 & 0 & 0 & 0 & 0 & 0 & 0 & 0 & 0 & 0\\\\0 & 0 & 0 & 0 & 0 & 0 & 0 & 0 & 0 & 0\\\\0 & 0 & 0 & 0 & 0 & 0 & 0 & 0 & 0 & 0\\\\0 & 0 & 0 & 0 & 0 & 0 & 0 & 0 & 0 & 0\\\\0 & 0 & 0 & 0 & 0 & 0 & 0 & 0 & 0 & 0\\\\0 & 0 & 0 & 0 & 0 & 0 & 0 & 0 & 0 & 0\\\\0 & 0 & 0 & 0 & 0 & 0 & 0 & 0 & 0 & 0\\\\1 & 0 & 0 & 0 & 0 & 0 & 0 & 0 & 0 & 0\\end{matrix}\\right]\\right \\}$$"
      ],
      "text/plain": [
       "⎧Z[1, 1]: ⎡1  0  0  0  0  0  0  0  0  0⎤, Z[1, 2]: ⎡0  0  0   0    0    0   0 \n",
       "⎪         ⎢                            ⎥           ⎢                          \n",
       "⎪         ⎢0  1  0  0  0  0  0  0  0  0⎥           ⎢1  0  0   0    0    0   0 \n",
       "⎪         ⎢                            ⎥           ⎢                          \n",
       "⎪         ⎢0  0  1  0  0  0  0  0  0  0⎥           ⎢1  2  0   0    0    0   0 \n",
       "⎪         ⎢                            ⎥           ⎢                          \n",
       "⎪         ⎢0  0  0  1  0  0  0  0  0  0⎥           ⎢1  3  3   0    0    0   0 \n",
       "⎪         ⎢                            ⎥           ⎢                          \n",
       "⎪         ⎢0  0  0  0  1  0  0  0  0  0⎥           ⎢1  4  6   4    0    0   0 \n",
       "⎨         ⎢                            ⎥           ⎢                          \n",
       "⎪         ⎢0  0  0  0  0  1  0  0  0  0⎥           ⎢1  5  10  10   5    0   0 \n",
       "⎪         ⎢                            ⎥           ⎢                          \n",
       "⎪         ⎢0  0  0  0  0  0  1  0  0  0⎥           ⎢1  6  15  20  15    6   0 \n",
       "⎪         ⎢                            ⎥           ⎢                          \n",
       "⎪         ⎢0  0  0  0  0  0  0  1  0  0⎥           ⎢1  7  21  35  35   21   7 \n",
       "⎪         ⎢                            ⎥           ⎢                          \n",
       "⎪         ⎢0  0  0  0  0  0  0  0  1  0⎥           ⎢1  8  28  56  70   56   28\n",
       "⎪         ⎢                            ⎥           ⎢                          \n",
       "⎩         ⎣0  0  0  0  0  0  0  0  0  1⎦           ⎣1  9  36  84  126  126  84\n",
       "\n",
       "  0   0  0⎤, Z[1, 3]: ⎡ 0    0     0     0     0     0    0   0   0  0⎤, Z[1, \n",
       "          ⎥           ⎢                                               ⎥       \n",
       "  0   0  0⎥           ⎢ 0    0     0     0     0     0    0   0   0  0⎥       \n",
       "          ⎥           ⎢                                               ⎥       \n",
       "  0   0  0⎥           ⎢ 1    0     0     0     0     0    0   0   0  0⎥       \n",
       "          ⎥           ⎢                                               ⎥       \n",
       "  0   0  0⎥           ⎢ 3    3     0     0     0     0    0   0   0  0⎥       \n",
       "          ⎥           ⎢                                               ⎥       \n",
       "  0   0  0⎥           ⎢ 7    12    6     0     0     0    0   0   0  0⎥       \n",
       "          ⎥           ⎢                                               ⎥       \n",
       "  0   0  0⎥           ⎢15    35    30    10    0     0    0   0   0  0⎥       \n",
       "          ⎥           ⎢                                               ⎥       \n",
       "  0   0  0⎥           ⎢31    90   105    60    15    0    0   0   0  0⎥       \n",
       "          ⎥           ⎢                                               ⎥       \n",
       "  0   0  0⎥           ⎢63   217   315   245   105   21    0   0   0  0⎥       \n",
       "          ⎥           ⎢                                               ⎥       \n",
       "  8   0  0⎥           ⎢127  504   868   840   490   168  28   0   0  0⎥       \n",
       "          ⎥           ⎢                                               ⎥       \n",
       "  36  9  0⎦           ⎣255  1143  2268  2604  1890  882  252  36  0  0⎦       \n",
       "\n",
       "4]: ⎡ 0     0      0     0     0     0   0   0  0  0⎤, Z[1, 5]: ⎡ 0      0    \n",
       "    ⎢                                               ⎥           ⎢             \n",
       "    ⎢ 0     0      0     0     0     0   0   0  0  0⎥           ⎢ 0      0    \n",
       "    ⎢                                               ⎥           ⎢             \n",
       "    ⎢ 0     0      0     0     0     0   0   0  0  0⎥           ⎢ 0      0    \n",
       "    ⎢                                               ⎥           ⎢             \n",
       "    ⎢ 1     0      0     0     0     0   0   0  0  0⎥           ⎢ 0      0    \n",
       "    ⎢                                               ⎥           ⎢             \n",
       "    ⎢ 6     4      0     0     0     0   0   0  0  0⎥           ⎢ 1      0    \n",
       "    ⎢                                               ⎥           ⎢             \n",
       "    ⎢ 25    30    10     0     0     0   0   0  0  0⎥           ⎢ 10     5    \n",
       "    ⎢                                               ⎥           ⎢             \n",
       "    ⎢ 90   150    90     20    0     0   0   0  0  0⎥           ⎢ 65    60    \n",
       "    ⎢                                               ⎥           ⎢             \n",
       "    ⎢301   630    525   210    35    0   0   0  0  0⎥           ⎢350    455   \n",
       "    ⎢                                               ⎥           ⎢             \n",
       "    ⎢966   2408  2520   1400  420   56   0   0  0  0⎥           ⎢1701  2800   \n",
       "    ⎢                                               ⎥           ⎢             \n",
       "    ⎣3025  8694  10836  7560  3150  756  84  0  0  0⎦           ⎣7770  15309  \n",
       "\n",
       "  0     0     0     0   0  0  0  0⎤, Z[1, 6]: ⎡ 0     0     0     0     0   0 \n",
       "                                  ⎥           ⎢                               \n",
       "  0     0     0     0   0  0  0  0⎥           ⎢ 0     0     0     0     0   0 \n",
       "                                  ⎥           ⎢                               \n",
       "  0     0     0     0   0  0  0  0⎥           ⎢ 0     0     0     0     0   0 \n",
       "                                  ⎥           ⎢                               \n",
       "  0     0     0     0   0  0  0  0⎥           ⎢ 0     0     0     0     0   0 \n",
       "                                  ⎥           ⎢                               \n",
       "  0     0     0     0   0  0  0  0⎥           ⎢ 0     0     0     0     0   0 \n",
       "                                  ⎥           ⎢                               \n",
       "  0     0     0     0   0  0  0  0⎥           ⎢ 1     0     0     0     0   0 \n",
       "                                  ⎥           ⎢                               \n",
       " 15     0     0     0   0  0  0  0⎥           ⎢ 15    6     0     0     0   0 \n",
       "                                  ⎥           ⎢                               \n",
       " 210    35    0     0   0  0  0  0⎥           ⎢140   105    21    0     0   0 \n",
       "                                  ⎥           ⎢                               \n",
       "1820   560    70    0   0  0  0  0⎥           ⎢1050  1120  420    56    0   0 \n",
       "                                  ⎥           ⎢                               \n",
       "12600  5460  1260  126  0  0  0  0⎦           ⎣6951  9450  5040  1260  126  0 \n",
       "\n",
       " 0  0  0  0⎤, Z[1, 7]: ⎡ 0     0     0   0   0  0  0  0  0  0⎤, Z[1, 8]: ⎡ 0  \n",
       "           ⎥           ⎢                                     ⎥           ⎢    \n",
       " 0  0  0  0⎥           ⎢ 0     0     0   0   0  0  0  0  0  0⎥           ⎢ 0  \n",
       "           ⎥           ⎢                                     ⎥           ⎢    \n",
       " 0  0  0  0⎥           ⎢ 0     0     0   0   0  0  0  0  0  0⎥           ⎢ 0  \n",
       "           ⎥           ⎢                                     ⎥           ⎢    \n",
       " 0  0  0  0⎥           ⎢ 0     0     0   0   0  0  0  0  0  0⎥           ⎢ 0  \n",
       "           ⎥           ⎢                                     ⎥           ⎢    \n",
       " 0  0  0  0⎥           ⎢ 0     0     0   0   0  0  0  0  0  0⎥           ⎢ 0  \n",
       "           ⎥           ⎢                                     ⎥           ⎢    \n",
       " 0  0  0  0⎥           ⎢ 0     0     0   0   0  0  0  0  0  0⎥           ⎢ 0  \n",
       "           ⎥           ⎢                                     ⎥           ⎢    \n",
       " 0  0  0  0⎥           ⎢ 1     0     0   0   0  0  0  0  0  0⎥           ⎢ 0  \n",
       "           ⎥           ⎢                                     ⎥           ⎢    \n",
       " 0  0  0  0⎥           ⎢ 21    7     0   0   0  0  0  0  0  0⎥           ⎢ 1  \n",
       "           ⎥           ⎢                                     ⎥           ⎢    \n",
       " 0  0  0  0⎥           ⎢266   168   28   0   0  0  0  0  0  0⎥           ⎢28  \n",
       "           ⎥           ⎢                                     ⎥           ⎢    \n",
       " 0  0  0  0⎦           ⎣2646  2394  756  84  0  0  0  0  0  0⎦           ⎣462 \n",
       "\n",
       "  0   0   0  0  0  0  0  0  0⎤, Z[1, 9]: ⎡0   0  0  0  0  0  0  0  0  0⎤, Z[1,\n",
       "                             ⎥           ⎢                             ⎥      \n",
       "  0   0   0  0  0  0  0  0  0⎥           ⎢0   0  0  0  0  0  0  0  0  0⎥      \n",
       "                             ⎥           ⎢                             ⎥      \n",
       "  0   0   0  0  0  0  0  0  0⎥           ⎢0   0  0  0  0  0  0  0  0  0⎥      \n",
       "                             ⎥           ⎢                             ⎥      \n",
       "  0   0   0  0  0  0  0  0  0⎥           ⎢0   0  0  0  0  0  0  0  0  0⎥      \n",
       "                             ⎥           ⎢                             ⎥      \n",
       "  0   0   0  0  0  0  0  0  0⎥           ⎢0   0  0  0  0  0  0  0  0  0⎥      \n",
       "                             ⎥           ⎢                             ⎥      \n",
       "  0   0   0  0  0  0  0  0  0⎥           ⎢0   0  0  0  0  0  0  0  0  0⎥      \n",
       "                             ⎥           ⎢                             ⎥      \n",
       "  0   0   0  0  0  0  0  0  0⎥           ⎢0   0  0  0  0  0  0  0  0  0⎥      \n",
       "                             ⎥           ⎢                             ⎥      \n",
       "  0   0   0  0  0  0  0  0  0⎥           ⎢0   0  0  0  0  0  0  0  0  0⎥      \n",
       "                             ⎥           ⎢                             ⎥      \n",
       "  8   0   0  0  0  0  0  0  0⎥           ⎢1   0  0  0  0  0  0  0  0  0⎥      \n",
       "                             ⎥           ⎢                             ⎥      \n",
       " 252  36  0  0  0  0  0  0  0⎦           ⎣36  9  0  0  0  0  0  0  0  0⎦      \n",
       "\n",
       " 10]: ⎡0  0  0  0  0  0  0  0  0  0⎤⎫\n",
       "      ⎢                            ⎥⎪\n",
       "      ⎢0  0  0  0  0  0  0  0  0  0⎥⎪\n",
       "      ⎢                            ⎥⎪\n",
       "      ⎢0  0  0  0  0  0  0  0  0  0⎥⎪\n",
       "      ⎢                            ⎥⎪\n",
       "      ⎢0  0  0  0  0  0  0  0  0  0⎥⎪\n",
       "      ⎢                            ⎥⎪\n",
       "      ⎢0  0  0  0  0  0  0  0  0  0⎥⎪\n",
       "      ⎢                            ⎥⎬\n",
       "      ⎢0  0  0  0  0  0  0  0  0  0⎥⎪\n",
       "      ⎢                            ⎥⎪\n",
       "      ⎢0  0  0  0  0  0  0  0  0  0⎥⎪\n",
       "      ⎢                            ⎥⎪\n",
       "      ⎢0  0  0  0  0  0  0  0  0  0⎥⎪\n",
       "      ⎢                            ⎥⎪\n",
       "      ⎢0  0  0  0  0  0  0  0  0  0⎥⎪\n",
       "      ⎢                            ⎥⎪\n",
       "      ⎣1  0  0  0  0  0  0  0  0  0⎦⎭"
      ]
     },
     "execution_count": 154,
     "metadata": {},
     "output_type": "execute_result"
    }
   ],
   "source": [
    "Z = IndexedBase('Z')\n",
    "{Z[k]:v.subs(eigenvals) for k,v in cmatrices.items()}"
   ]
  },
  {
   "cell_type": "code",
   "execution_count": 136,
   "metadata": {
    "collapsed": false,
    "scrolled": false
   },
   "outputs": [
    {
     "data": {
      "image/png": "[encoded data removed]",
      "text/latex": [
       "$$\\left ( \\left[\\begin{matrix}1 & 0 & 0 & 0 & 0 & 0 & 0 & 0 & 0 & 0\\\\0 & 1 & 0 & 0 & 0 & 0 & 0 & 0 & 0 & 0\\\\0 & 0 & 1 & 0 & 0 & 0 & 0 & 0 & 0 & 0\\\\0 & 0 & 0 & 1 & 0 & 0 & 0 & 0 & 0 & 0\\\\0 & 0 & 0 & 0 & 1 & 0 & 0 & 0 & 0 & 0\\\\0 & 0 & 0 & 0 & 0 & 1 & 0 & 0 & 0 & 0\\\\0 & 0 & 0 & 0 & 0 & 0 & 1 & 0 & 0 & 0\\\\0 & 0 & 0 & 0 & 0 & 0 & 0 & 1 & 0 & 0\\\\0 & 0 & 0 & 0 & 0 & 0 & 0 & 0 & 1 & 0\\\\0 & 0 & 0 & 0 & 0 & 0 & 0 & 0 & 0 & 1\\end{matrix}\\right], \\quad \\left[\\begin{matrix}1 & 0 & 0 & 0 & 0 & 0 & 0 & 0 & 0 & 0\\\\0 & 1 & 0 & 0 & 0 & 0 & 0 & 0 & 0 & 0\\\\0 & 0 & 1 & 0 & 0 & 0 & 0 & 0 & 0 & 0\\\\0 & 0 & 0 & 1 & 0 & 0 & 0 & 0 & 0 & 0\\\\0 & 0 & 0 & 0 & 1 & 0 & 0 & 0 & 0 & 0\\\\0 & 0 & 0 & 0 & 0 & 1 & 0 & 0 & 0 & 0\\\\0 & 0 & 0 & 0 & 0 & 0 & 1 & 0 & 0 & 0\\\\0 & 0 & 0 & 0 & 0 & 0 & 0 & 1 & 0 & 0\\\\0 & 0 & 0 & 0 & 0 & 0 & 0 & 0 & 1 & 0\\\\0 & 0 & 0 & 0 & 0 & 0 & 0 & 0 & 0 & 1\\end{matrix}\\right], \\quad \\left[\\begin{matrix}1 & 0 & 0 & 0 & 0 & 0 & 0 & 0 & 0 & 0\\\\0 & 1 & 0 & 0 & 0 & 0 & 0 & 0 & 0 & 0\\\\0 & 0 & 1 & 0 & 0 & 0 & 0 & 0 & 0 & 0\\\\0 & 0 & 0 & 1 & 0 & 0 & 0 & 0 & 0 & 0\\\\0 & 0 & 0 & 0 & 1 & 0 & 0 & 0 & 0 & 0\\\\0 & 0 & 0 & 0 & 0 & 1 & 0 & 0 & 0 & 0\\\\0 & 0 & 0 & 0 & 0 & 0 & 1 & 0 & 0 & 0\\\\0 & 0 & 0 & 0 & 0 & 0 & 0 & 1 & 0 & 0\\\\0 & 0 & 0 & 0 & 0 & 0 & 0 & 0 & 1 & 0\\\\0 & 0 & 0 & 0 & 0 & 0 & 0 & 0 & 0 & 1\\end{matrix}\\right]\\right )$$"
      ],
      "text/plain": [
       "⎛⎡1  0  0  0  0  0  0  0  0  0⎤, ⎡1  0  0  0  0  0  0  0  0  0⎤, ⎡1  0  0  0  \n",
       "⎜⎢                            ⎥  ⎢                            ⎥  ⎢            \n",
       "⎜⎢0  1  0  0  0  0  0  0  0  0⎥  ⎢0  1  0  0  0  0  0  0  0  0⎥  ⎢0  1  0  0  \n",
       "⎜⎢                            ⎥  ⎢                            ⎥  ⎢            \n",
       "⎜⎢0  0  1  0  0  0  0  0  0  0⎥  ⎢0  0  1  0  0  0  0  0  0  0⎥  ⎢0  0  1  0  \n",
       "⎜⎢                            ⎥  ⎢                            ⎥  ⎢            \n",
       "⎜⎢0  0  0  1  0  0  0  0  0  0⎥  ⎢0  0  0  1  0  0  0  0  0  0⎥  ⎢0  0  0  1  \n",
       "⎜⎢                            ⎥  ⎢                            ⎥  ⎢            \n",
       "⎜⎢0  0  0  0  1  0  0  0  0  0⎥  ⎢0  0  0  0  1  0  0  0  0  0⎥  ⎢0  0  0  0  \n",
       "⎜⎢                            ⎥  ⎢                            ⎥  ⎢            \n",
       "⎜⎢0  0  0  0  0  1  0  0  0  0⎥  ⎢0  0  0  0  0  1  0  0  0  0⎥  ⎢0  0  0  0  \n",
       "⎜⎢                            ⎥  ⎢                            ⎥  ⎢            \n",
       "⎜⎢0  0  0  0  0  0  1  0  0  0⎥  ⎢0  0  0  0  0  0  1  0  0  0⎥  ⎢0  0  0  0  \n",
       "⎜⎢                            ⎥  ⎢                            ⎥  ⎢            \n",
       "⎜⎢0  0  0  0  0  0  0  1  0  0⎥  ⎢0  0  0  0  0  0  0  1  0  0⎥  ⎢0  0  0  0  \n",
       "⎜⎢                            ⎥  ⎢                            ⎥  ⎢            \n",
       "⎜⎢0  0  0  0  0  0  0  0  1  0⎥  ⎢0  0  0  0  0  0  0  0  1  0⎥  ⎢0  0  0  0  \n",
       "⎜⎢                            ⎥  ⎢                            ⎥  ⎢            \n",
       "⎝⎣0  0  0  0  0  0  0  0  0  1⎦  ⎣0  0  0  0  0  0  0  0  0  1⎦  ⎣0  0  0  0  \n",
       "\n",
       "0  0  0  0  0  0⎤⎞\n",
       "                ⎥⎟\n",
       "0  0  0  0  0  0⎥⎟\n",
       "                ⎥⎟\n",
       "0  0  0  0  0  0⎥⎟\n",
       "                ⎥⎟\n",
       "0  0  0  0  0  0⎥⎟\n",
       "                ⎥⎟\n",
       "1  0  0  0  0  0⎥⎟\n",
       "                ⎥⎟\n",
       "0  1  0  0  0  0⎥⎟\n",
       "                ⎥⎟\n",
       "0  0  1  0  0  0⎥⎟\n",
       "                ⎥⎟\n",
       "0  0  0  1  0  0⎥⎟\n",
       "                ⎥⎟\n",
       "0  0  0  0  1  0⎥⎟\n",
       "                ⎥⎟\n",
       "0  0  0  0  0  1⎦⎠"
      ]
     },
     "execution_count": 136,
     "metadata": {},
     "output_type": "execute_result"
    }
   ],
   "source": [
    "Zi1 = list(cm.as_immutable() for (i, j), cm in cmatrices.items() if j == 1)\n",
    "\n",
    "s = zeros(m.rows)\n",
    "for Z in Zi1:\n",
    "    s += Z\n",
    "s, s.simplify(), s.subs(eigenvals)"
   ]
  },
  {
   "cell_type": "markdown",
   "metadata": {},
   "source": [
    "### `inverse`"
   ]
  },
  {
   "cell_type": "code",
   "execution_count": 137,
   "metadata": {
    "collapsed": false
   },
   "outputs": [
    {
     "data": {
      "image/png": "[encoded data removed]",
      "text/latex": [
       "$$f{\\left (z \\right )} = \\frac{1}{z}$$"
      ],
      "text/plain": [
       "       1\n",
       "f(z) = ─\n",
       "       z"
      ]
     },
     "execution_count": 137,
     "metadata": {},
     "output_type": "execute_result"
    }
   ],
   "source": [
    "f, h = Function('f'), Function('h')\n",
    "function_eq = Eq(f(z), 1/(z))\n",
    "function_eq"
   ]
  },
  {
   "cell_type": "code",
   "execution_count": 138,
   "metadata": {
    "collapsed": false
   },
   "outputs": [
    {
     "data": {
      "image/png": "[encoded data removed]",
      "text/latex": [
       "$$g{\\left (z \\right )} = - \\frac{z^{9}}{\\lambda_{1}^{10}} + \\frac{10 z^{8}}{\\lambda_{1}^{9}} - \\frac{45 z^{7}}{\\lambda_{1}^{8}} + \\frac{120 z^{6}}{\\lambda_{1}^{7}} - \\frac{210 z^{5}}{\\lambda_{1}^{6}} + \\frac{252 z^{4}}{\\lambda_{1}^{5}} - \\frac{210 z^{3}}{\\lambda_{1}^{4}} + \\frac{120 z^{2}}{\\lambda_{1}^{3}} - \\frac{45 z}{\\lambda_{1}^{2}} + \\frac{10}{\\lambda_{1}}$$"
      ],
      "text/plain": [
       "               9               8             7              6             5   \n",
       "              z            10⋅z          45⋅z          120⋅z         210⋅z    \n",
       "g(z) = - ──────────── + ─────────── - ─────────── + ─────────── - ─────────── \n",
       "                   10             9             8             7             6 \n",
       "         \\lambda[1]     \\lambda[1]    \\lambda[1]    \\lambda[1]    \\lambda[1]  \n",
       "\n",
       "          4             3             2                             \n",
       "     252⋅z         210⋅z         120⋅z          45⋅z          10    \n",
       "+ ─────────── - ─────────── + ─────────── - ─────────── + ──────────\n",
       "            5             4             3             2   \\lambda[1]\n",
       "  \\lambda[1]    \\lambda[1]    \\lambda[1]    \\lambda[1]              "
      ]
     },
     "execution_count": 138,
     "metadata": {},
     "output_type": "execute_result"
    }
   ],
   "source": [
    "g = g_poly(function_eq, eigendata, Phi_polynomials)\n",
    "g"
   ]
  },
  {
   "cell_type": "code",
   "execution_count": 139,
   "metadata": {
    "collapsed": false
   },
   "outputs": [
    {
     "data": {
      "image/png": "[encoded data removed]",
      "text/latex": [
       "$$g{\\left (z \\right )} = - z^{9} + 10 z^{8} - 45 z^{7} + 120 z^{6} - 210 z^{5} + 252 z^{4} - 210 z^{3} + 120 z^{2} - 45 z + 10$$"
      ],
      "text/plain": [
       "          9       8       7        6        5        4        3        2      \n",
       "g(z) = - z  + 10⋅z  - 45⋅z  + 120⋅z  - 210⋅z  + 252⋅z  - 210⋅z  + 120⋅z  - 45⋅\n",
       "\n",
       "      \n",
       "z + 10"
      ]
     },
     "execution_count": 139,
     "metadata": {},
     "output_type": "execute_result"
    }
   ],
   "source": [
    "g = g.subs(eigenvals)\n",
    "g"
   ]
  },
  {
   "cell_type": "code",
   "execution_count": 146,
   "metadata": {
    "collapsed": false
   },
   "outputs": [
    {
     "data": {
      "image/png": "[encoded data removed]",
      "text/latex": [
       "$$- z^{9} + 10 z^{8} - 45 z^{7} + 120 z^{6} - 210 z^{5} + 252 z^{4} - 210 z^{3} + 120 z^{2} - 45 z + 10$$"
      ],
      "text/plain": [
       "   9       8       7        6        5        4        3        2            \n",
       "- z  + 10⋅z  - 45⋅z  + 120⋅z  - 210⋅z  + 252⋅z  - 210⋅z  + 120⋅z  - 45⋅z + 10"
      ]
     },
     "execution_count": 146,
     "metadata": {},
     "output_type": "execute_result"
    }
   ],
   "source": [
    "sum(binomial(10, i)*(-z)**(i-1) for i in range(1, 11))"
   ]
  },
  {
   "cell_type": "code",
   "execution_count": 147,
   "metadata": {
    "collapsed": false
   },
   "outputs": [
    {
     "data": {
      "image/png": "[encoded data removed]",
      "text/latex": [
       "$$\\left[\\begin{matrix}1 & 0 & 0 & 0 & 0 & 0 & 0 & 0 & 0 & 0\\\\-1 & 1 & 0 & 0 & 0 & 0 & 0 & 0 & 0 & 0\\\\1 & -2 & 1 & 0 & 0 & 0 & 0 & 0 & 0 & 0\\\\-1 & 3 & -3 & 1 & 0 & 0 & 0 & 0 & 0 & 0\\\\1 & -4 & 6 & -4 & 1 & 0 & 0 & 0 & 0 & 0\\\\-1 & 5 & -10 & 10 & -5 & 1 & 0 & 0 & 0 & 0\\\\1 & -6 & 15 & -20 & 15 & -6 & 1 & 0 & 0 & 0\\\\-1 & 7 & -21 & 35 & -35 & 21 & -7 & 1 & 0 & 0\\\\1 & -8 & 28 & -56 & 70 & -56 & 28 & -8 & 1 & 0\\\\-1 & 9 & -36 & 84 & -126 & 126 & -84 & 36 & -9 & 1\\end{matrix}\\right]$$"
      ],
      "text/plain": [
       "⎡1   0    0    0    0     0    0   0   0   0⎤\n",
       "⎢                                           ⎥\n",
       "⎢-1  1    0    0    0     0    0   0   0   0⎥\n",
       "⎢                                           ⎥\n",
       "⎢1   -2   1    0    0     0    0   0   0   0⎥\n",
       "⎢                                           ⎥\n",
       "⎢-1  3   -3    1    0     0    0   0   0   0⎥\n",
       "⎢                                           ⎥\n",
       "⎢1   -4   6   -4    1     0    0   0   0   0⎥\n",
       "⎢                                           ⎥\n",
       "⎢-1  5   -10  10    -5    1    0   0   0   0⎥\n",
       "⎢                                           ⎥\n",
       "⎢1   -6  15   -20   15   -6    1   0   0   0⎥\n",
       "⎢                                           ⎥\n",
       "⎢-1  7   -21  35   -35   21   -7   1   0   0⎥\n",
       "⎢                                           ⎥\n",
       "⎢1   -8  28   -56   70   -56  28   -8  1   0⎥\n",
       "⎢                                           ⎥\n",
       "⎣-1  9   -36  84   -126  126  -84  36  -9  1⎦"
      ]
     },
     "execution_count": 147,
     "metadata": {},
     "output_type": "execute_result"
    }
   ],
   "source": [
    "with lift_to_matrix_function(g) as g_inverse:\n",
    "    m_inverse = g_inverse(m)\n",
    "m_inverse"
   ]
  },
  {
   "cell_type": "code",
   "execution_count": 148,
   "metadata": {
    "collapsed": false
   },
   "outputs": [
    {
     "data": {
      "image/png": "[encoded data removed]",
      "text/latex": [
       "$$\\left[\\begin{matrix}1 & 0 & 0 & 0 & 0 & 0 & 0 & 0 & 0 & 0\\\\0 & 1 & 0 & 0 & 0 & 0 & 0 & 0 & 0 & 0\\\\0 & 0 & 1 & 0 & 0 & 0 & 0 & 0 & 0 & 0\\\\0 & 0 & 0 & 1 & 0 & 0 & 0 & 0 & 0 & 0\\\\0 & 0 & 0 & 0 & 1 & 0 & 0 & 0 & 0 & 0\\\\0 & 0 & 0 & 0 & 0 & 1 & 0 & 0 & 0 & 0\\\\0 & 0 & 0 & 0 & 0 & 0 & 1 & 0 & 0 & 0\\\\0 & 0 & 0 & 0 & 0 & 0 & 0 & 1 & 0 & 0\\\\0 & 0 & 0 & 0 & 0 & 0 & 0 & 0 & 1 & 0\\\\0 & 0 & 0 & 0 & 0 & 0 & 0 & 0 & 0 & 1\\end{matrix}\\right]$$"
      ],
      "text/plain": [
       "⎡1  0  0  0  0  0  0  0  0  0⎤\n",
       "⎢                            ⎥\n",
       "⎢0  1  0  0  0  0  0  0  0  0⎥\n",
       "⎢                            ⎥\n",
       "⎢0  0  1  0  0  0  0  0  0  0⎥\n",
       "⎢                            ⎥\n",
       "⎢0  0  0  1  0  0  0  0  0  0⎥\n",
       "⎢                            ⎥\n",
       "⎢0  0  0  0  1  0  0  0  0  0⎥\n",
       "⎢                            ⎥\n",
       "⎢0  0  0  0  0  1  0  0  0  0⎥\n",
       "⎢                            ⎥\n",
       "⎢0  0  0  0  0  0  1  0  0  0⎥\n",
       "⎢                            ⎥\n",
       "⎢0  0  0  0  0  0  0  1  0  0⎥\n",
       "⎢                            ⎥\n",
       "⎢0  0  0  0  0  0  0  0  1  0⎥\n",
       "⎢                            ⎥\n",
       "⎣0  0  0  0  0  0  0  0  0  1⎦"
      ]
     },
     "execution_count": 148,
     "metadata": {},
     "output_type": "execute_result"
    }
   ],
   "source": [
    "m_inverse*m"
   ]
  },
  {
   "cell_type": "markdown",
   "metadata": {},
   "source": [
    "### `pooower`"
   ]
  },
  {
   "cell_type": "code",
   "execution_count": 155,
   "metadata": {
    "collapsed": false
   },
   "outputs": [
    {
     "data": {
      "image/png": "[encoded data removed]",
      "text/latex": [
       "$$f{\\left (z \\right )} = z^{r}$$"
      ],
      "text/plain": [
       "        r\n",
       "f(z) = z "
      ]
     },
     "execution_count": 155,
     "metadata": {},
     "output_type": "execute_result"
    }
   ],
   "source": [
    "f, h = Function('f'), Function('h')\n",
    "function_eq = Eq(f(z), z**r)\n",
    "function_eq"
   ]
  },
  {
   "cell_type": "code",
   "execution_count": 156,
   "metadata": {
    "collapsed": false
   },
   "outputs": [
    {
     "data": {
      "image/png": "[encoded data removed]",
      "text/latex": [
       "$$g{\\left (z \\right )} = - \\frac{r^{9} \\lambda_{1}^{r}}{362880} + \\frac{r^{8} \\lambda_{1}^{r}}{8064} - \\frac{29 r^{7}}{12096} \\lambda_{1}^{r} + \\frac{5 r^{6}}{192} \\lambda_{1}^{r} - \\frac{3013 r^{5}}{17280} \\lambda_{1}^{r} + \\frac{95 r^{4}}{128} \\lambda_{1}^{r} - \\frac{4523 r^{3}}{2268} \\lambda_{1}^{r} + \\frac{6515 r^{2}}{2016} \\lambda_{1}^{r} - \\frac{7129 r}{2520} \\lambda_{1}^{r} + z^{9} \\left(\\frac{r^{9} \\lambda_{1}^{r}}{362880 \\lambda_{1}^{9}} - \\frac{r^{8} \\lambda_{1}^{r}}{10080 \\lambda_{1}^{9}} + \\frac{13 r^{7} \\lambda_{1}^{r}}{8640 \\lambda_{1}^{9}} - \\frac{r^{6} \\lambda_{1}^{r}}{80 \\lambda_{1}^{9}} + \\frac{1069 r^{5} \\lambda_{1}^{r}}{17280 \\lambda_{1}^{9}} - \\frac{89 r^{4} \\lambda_{1}^{r}}{480 \\lambda_{1}^{9}} + \\frac{29531 r^{3} \\lambda_{1}^{r}}{90720 \\lambda_{1}^{9}} - \\frac{761 r^{2} \\lambda_{1}^{r}}{2520 \\lambda_{1}^{9}} + \\frac{r \\lambda_{1}^{r}}{9 \\lambda_{1}^{9}}\\right) + z^{8} \\left(- \\frac{r^{9} \\lambda_{1}^{r}}{40320 \\lambda_{1}^{8}} + \\frac{37 r^{8} \\lambda_{1}^{r}}{40320 \\lambda_{1}^{8}} - \\frac{41 r^{7} \\lambda_{1}^{r}}{2880 \\lambda_{1}^{8}} + \\frac{347 r^{6} \\lambda_{1}^{r}}{2880 \\lambda_{1}^{8}} - \\frac{3487 r^{5} \\lambda_{1}^{r}}{5760 \\lambda_{1}^{8}} + \\frac{10579 r^{4} \\lambda_{1}^{r}}{5760 \\lambda_{1}^{8}} - \\frac{1823 r^{3} \\lambda_{1}^{r}}{560 \\lambda_{1}^{8}} + \\frac{3407 r^{2} \\lambda_{1}^{r}}{1120 \\lambda_{1}^{8}} - \\frac{9 r \\lambda_{1}^{r}}{8 \\lambda_{1}^{8}}\\right) + z^{7} \\left(\\frac{r^{9} \\lambda_{1}^{r}}{10080 \\lambda_{1}^{7}} - \\frac{19 r^{8} \\lambda_{1}^{r}}{5040 \\lambda_{1}^{7}} + \\frac{151 r^{7} \\lambda_{1}^{r}}{2520 \\lambda_{1}^{7}} - \\frac{373 r^{6} \\lambda_{1}^{r}}{720 \\lambda_{1}^{7}} + \\frac{3817 r^{5} \\lambda_{1}^{r}}{1440 \\lambda_{1}^{7}} - \\frac{2939 r^{4} \\lambda_{1}^{r}}{360 \\lambda_{1}^{7}} + \\frac{4101 r^{3} \\lambda_{1}^{r}}{280 \\lambda_{1}^{7}} - \\frac{967 r^{2} \\lambda_{1}^{r}}{70 \\lambda_{1}^{7}} + \\frac{36 r \\lambda_{1}^{r}}{7 \\lambda_{1}^{7}}\\right) + z^{6} \\left(- \\frac{r^{9} \\lambda_{1}^{r}}{4320 \\lambda_{1}^{6}} + \\frac{13 r^{8} \\lambda_{1}^{r}}{1440 \\lambda_{1}^{6}} - \\frac{53 r^{7} \\lambda_{1}^{r}}{360 \\lambda_{1}^{6}} + \\frac{313 r^{6} \\lambda_{1}^{r}}{240 \\lambda_{1}^{6}} - \\frac{9823 r^{5} \\lambda_{1}^{r}}{1440 \\lambda_{1}^{6}} + \\frac{10279 r^{4} \\lambda_{1}^{r}}{480 \\lambda_{1}^{6}} - \\frac{84307 r^{3} \\lambda_{1}^{r}}{2160 \\lambda_{1}^{6}} + \\frac{6709 r^{2} \\lambda_{1}^{r}}{180 \\lambda_{1}^{6}} - \\frac{14 r}{\\lambda_{1}^{6}} \\lambda_{1}^{r}\\right) + z^{5} \\left(\\frac{r^{9} \\lambda_{1}^{r}}{2880 \\lambda_{1}^{5}} - \\frac{r^{8} \\lambda_{1}^{r}}{72 \\lambda_{1}^{5}} + \\frac{67 r^{7} \\lambda_{1}^{r}}{288 \\lambda_{1}^{5}} - \\frac{305 r^{6} \\lambda_{1}^{r}}{144 \\lambda_{1}^{5}} + \\frac{32773 r^{5} \\lambda_{1}^{r}}{2880 \\lambda_{1}^{5}} - \\frac{5273 r^{4} \\lambda_{1}^{r}}{144 \\lambda_{1}^{5}} + \\frac{1091 r^{3} \\lambda_{1}^{r}}{16 \\lambda_{1}^{5}} - \\frac{265 r^{2} \\lambda_{1}^{r}}{4 \\lambda_{1}^{5}} + \\frac{126 r \\lambda_{1}^{r}}{5 \\lambda_{1}^{5}}\\right) + z^{4} \\left(- \\frac{r^{9} \\lambda_{1}^{r}}{2880 \\lambda_{1}^{4}} + \\frac{41 r^{8} \\lambda_{1}^{r}}{2880 \\lambda_{1}^{4}} - \\frac{353 r^{7} \\lambda_{1}^{r}}{1440 \\lambda_{1}^{4}} + \\frac{3313 r^{6} \\lambda_{1}^{r}}{1440 \\lambda_{1}^{4}} - \\frac{36769 r^{5} \\lambda_{1}^{r}}{2880 \\lambda_{1}^{4}} + \\frac{122249 r^{4} \\lambda_{1}^{r}}{2880 \\lambda_{1}^{4}} - \\frac{6519 r^{3} \\lambda_{1}^{r}}{80 \\lambda_{1}^{4}} + \\frac{6499 r^{2} \\lambda_{1}^{r}}{80 \\lambda_{1}^{4}} - \\frac{63 r \\lambda_{1}^{r}}{2 \\lambda_{1}^{4}}\\right) + z^{3} \\left(\\frac{r^{9} \\lambda_{1}^{r}}{4320 \\lambda_{1}^{3}} - \\frac{7 r^{8} \\lambda_{1}^{r}}{720 \\lambda_{1}^{3}} + \\frac{31 r^{7} \\lambda_{1}^{r}}{180 \\lambda_{1}^{3}} - \\frac{401 r^{6} \\lambda_{1}^{r}}{240 \\lambda_{1}^{3}} + \\frac{13873 r^{5} \\lambda_{1}^{r}}{1440 \\lambda_{1}^{3}} - \\frac{4013 r^{4} \\lambda_{1}^{r}}{120 \\lambda_{1}^{3}} + \\frac{72569 r^{3} \\lambda_{1}^{r}}{1080 \\lambda_{1}^{3}} - \\frac{6289 r^{2} \\lambda_{1}^{r}}{90 \\lambda_{1}^{3}} + \\frac{28 r}{\\lambda_{1}^{3}} \\lambda_{1}^{r}\\right) + z^{2} \\left(- \\frac{r^{9} \\lambda_{1}^{r}}{10080 \\lambda_{1}^{2}} + \\frac{43 r^{8} \\lambda_{1}^{r}}{10080 \\lambda_{1}^{2}} - \\frac{7 r^{7} \\lambda_{1}^{r}}{90 \\lambda_{1}^{2}} + \\frac{563 r^{6} \\lambda_{1}^{r}}{720 \\lambda_{1}^{2}} - \\frac{6787 r^{5} \\lambda_{1}^{r}}{1440 \\lambda_{1}^{2}} + \\frac{24901 r^{4} \\lambda_{1}^{r}}{1440 \\lambda_{1}^{2}} - \\frac{20837 r^{3} \\lambda_{1}^{r}}{560 \\lambda_{1}^{2}} + \\frac{5869 r^{2} \\lambda_{1}^{r}}{140 \\lambda_{1}^{2}} - \\frac{18 r}{\\lambda_{1}^{2}} \\lambda_{1}^{r}\\right) + z \\left(\\frac{r^{9} \\lambda_{1}^{r}}{40320 \\lambda_{1}} - \\frac{11 r^{8} \\lambda_{1}^{r}}{10080 \\lambda_{1}} + \\frac{59 r^{7} \\lambda_{1}^{r}}{2880 \\lambda_{1}} - \\frac{77 r^{6} \\lambda_{1}^{r}}{360 \\lambda_{1}} + \\frac{7807 r^{5} \\lambda_{1}^{r}}{5760 \\lambda_{1}} - \\frac{7667 r^{4} \\lambda_{1}^{r}}{1440 \\lambda_{1}} + \\frac{14139 r^{3} \\lambda_{1}^{r}}{1120 \\lambda_{1}} - \\frac{4609 r^{2} \\lambda_{1}^{r}}{280 \\lambda_{1}} + \\frac{9 r}{\\lambda_{1}} \\lambda_{1}^{r}\\right) + \\lambda_{1}^{r}$$"
      ],
      "text/plain": [
       "          9           r    8           r       7           r      6           \n",
       "         r ⋅\\lambda[1]    r ⋅\\lambda[1]    29⋅r ⋅\\lambda[1]    5⋅r ⋅\\lambda[1]\n",
       "g(z) = - ────────────── + ────────────── - ───────────────── + ───────────────\n",
       "             362880            8064              12096               192      \n",
       "                                                                              \n",
       "\n",
       "r         5           r       4           r         3           r         2   \n",
       "    3013⋅r ⋅\\lambda[1]    95⋅r ⋅\\lambda[1]    4523⋅r ⋅\\lambda[1]    6515⋅r ⋅\\l\n",
       "─ - ─────────────────── + ───────────────── - ─────────────────── + ──────────\n",
       "           17280                 128                  2268                  20\n",
       "                                                                              \n",
       "\n",
       "        r                    r      ⎛   9           r        8           r    \n",
       "ambda[1]    7129⋅r⋅\\lambda[1]     9 ⎜  r ⋅\\lambda[1]        r ⋅\\lambda[1]     \n",
       "───────── - ────────────────── + z ⋅⎜────────────────── - ───────────────── + \n",
       "16                 2520             ⎜                 9                   9   \n",
       "                                    ⎝362880⋅\\lambda[1]    10080⋅\\lambda[1]    \n",
       "\n",
       "    7           r    6           r         5           r       4           r  \n",
       "13⋅r ⋅\\lambda[1]    r ⋅\\lambda[1]    1069⋅r ⋅\\lambda[1]    89⋅r ⋅\\lambda[1]   \n",
       "───────────────── - ────────────── + ─────────────────── - ───────────────── +\n",
       "                9                9                    9                   9   \n",
       " 8640⋅\\lambda[1]    80⋅\\lambda[1]     17280⋅\\lambda[1]      480⋅\\lambda[1]    \n",
       "\n",
       "        3           r        2           r               r⎞      ⎛     9      \n",
       " 29531⋅r ⋅\\lambda[1]    761⋅r ⋅\\lambda[1]    r⋅\\lambda[1] ⎟    8 ⎜    r ⋅\\lamb\n",
       " ──────────────────── - ────────────────── + ─────────────⎟ + z ⋅⎜- ──────────\n",
       "                  9                     9                9⎟      ⎜            \n",
       "  90720⋅\\lambda[1]       2520⋅\\lambda[1]     9⋅\\lambda[1] ⎠      ⎝  40320⋅\\lam\n",
       "\n",
       "     r        8           r       7           r        6           r         5\n",
       "da[1]     37⋅r ⋅\\lambda[1]    41⋅r ⋅\\lambda[1]    347⋅r ⋅\\lambda[1]    3487⋅r \n",
       "─────── + ───────────────── - ───────────────── + ────────────────── - ───────\n",
       "      8                   8                   8                   8           \n",
       "bda[1]    40320⋅\\lambda[1]     2880⋅\\lambda[1]     2880⋅\\lambda[1]       5760⋅\n",
       "\n",
       "           r          4           r         3           r         2           \n",
       "⋅\\lambda[1]    10579⋅r ⋅\\lambda[1]    1823⋅r ⋅\\lambda[1]    3407⋅r ⋅\\lambda[1]\n",
       "──────────── + ──────────────────── - ─────────────────── + ──────────────────\n",
       "          8                     8                     8                      8\n",
       "\\lambda[1]       5760⋅\\lambda[1]        560⋅\\lambda[1]        1120⋅\\lambda[1] \n",
       "\n",
       "r                 r⎞      ⎛   9           r        8           r        7     \n",
       "    9⋅r⋅\\lambda[1] ⎟    7 ⎜  r ⋅\\lambda[1]     19⋅r ⋅\\lambda[1]    151⋅r ⋅\\lam\n",
       "─ - ───────────────⎟ + z ⋅⎜───────────────── - ───────────────── + ───────────\n",
       "                 8 ⎟      ⎜                7                   7              \n",
       "     8⋅\\lambda[1]  ⎠      ⎝10080⋅\\lambda[1]     5040⋅\\lambda[1]     2520⋅\\lamb\n",
       "\n",
       "      r        6           r         5           r         4           r      \n",
       "bda[1]    373⋅r ⋅\\lambda[1]    3817⋅r ⋅\\lambda[1]    2939⋅r ⋅\\lambda[1]    410\n",
       "─────── - ────────────────── + ─────────────────── - ─────────────────── + ───\n",
       "     7                   7                      7                    7        \n",
       "da[1]      720⋅\\lambda[1]        1440⋅\\lambda[1]       360⋅\\lambda[1]        2\n",
       "\n",
       "   3           r        2           r                  r⎞      ⎛    9         \n",
       "1⋅r ⋅\\lambda[1]    967⋅r ⋅\\lambda[1]    36⋅r⋅\\lambda[1] ⎟    6 ⎜   r ⋅\\lambda[\n",
       "──────────────── - ────────────────── + ────────────────⎟ + z ⋅⎜- ────────────\n",
       "             7                    7                  7  ⎟      ⎜              \n",
       "80⋅\\lambda[1]        70⋅\\lambda[1]       7⋅\\lambda[1]   ⎠      ⎝  4320⋅\\lambda\n",
       "\n",
       "  r        8           r       7           r        6           r         5   \n",
       "1]     13⋅r ⋅\\lambda[1]    53⋅r ⋅\\lambda[1]    313⋅r ⋅\\lambda[1]    9823⋅r ⋅\\l\n",
       "──── + ───────────────── - ───────────────── + ────────────────── - ──────────\n",
       "   6                   6                  6                   6               \n",
       "[1]     1440⋅\\lambda[1]     360⋅\\lambda[1]      240⋅\\lambda[1]        1440⋅\\la\n",
       "\n",
       "        r          4           r          3           r         2           r \n",
       "ambda[1]    10279⋅r ⋅\\lambda[1]    84307⋅r ⋅\\lambda[1]    6709⋅r ⋅\\lambda[1]  \n",
       "───────── + ──────────────────── - ──────────────────── + ─────────────────── \n",
       "       6                    6                       6                     6   \n",
       "mbda[1]       480⋅\\lambda[1]         2160⋅\\lambda[1]        180⋅\\lambda[1]    \n",
       "\n",
       "                 r⎞      ⎛  9           r     8           r       7           \n",
       "  14⋅r⋅\\lambda[1] ⎟    5 ⎜ r ⋅\\lambda[1]     r ⋅\\lambda[1]    67⋅r ⋅\\lambda[1]\n",
       "- ────────────────⎟ + z ⋅⎜──────────────── - ────────────── + ────────────────\n",
       "              6   ⎟      ⎜               5                5                  5\n",
       "    \\lambda[1]    ⎠      ⎝2880⋅\\lambda[1]    72⋅\\lambda[1]     288⋅\\lambda[1] \n",
       "\n",
       "r        6           r          5           r         4           r         3 \n",
       "    305⋅r ⋅\\lambda[1]    32773⋅r ⋅\\lambda[1]    5273⋅r ⋅\\lambda[1]    1091⋅r ⋅\n",
       "─ - ────────────────── + ──────────────────── - ─────────────────── + ────────\n",
       "                   5                      5                     5             \n",
       "     144⋅\\lambda[1]        2880⋅\\lambda[1]        144⋅\\lambda[1]         16⋅\\l\n",
       "\n",
       "          r        2           r                   r⎞      ⎛    9           r \n",
       "\\lambda[1]    265⋅r ⋅\\lambda[1]    126⋅r⋅\\lambda[1] ⎟    4 ⎜   r ⋅\\lambda[1]  \n",
       "─────────── - ────────────────── + ─────────────────⎟ + z ⋅⎜- ────────────────\n",
       "        5                   5                    5  ⎟      ⎜                 4\n",
       "ambda[1]        4⋅\\lambda[1]         5⋅\\lambda[1]   ⎠      ⎝  2880⋅\\lambda[1] \n",
       "\n",
       "       8           r        7           r         6           r          5    \n",
       "   41⋅r ⋅\\lambda[1]    353⋅r ⋅\\lambda[1]    3313⋅r ⋅\\lambda[1]    36769⋅r ⋅\\la\n",
       " + ───────────────── - ────────────────── + ─────────────────── - ────────────\n",
       "                   4                   4                     4                \n",
       "    2880⋅\\lambda[1]     1440⋅\\lambda[1]       1440⋅\\lambda[1]       2880⋅\\lamb\n",
       "\n",
       "       r           4           r         3           r         2           r  \n",
       "mbda[1]    122249⋅r ⋅\\lambda[1]    6519⋅r ⋅\\lambda[1]    6499⋅r ⋅\\lambda[1]   \n",
       "──────── + ───────────────────── - ─────────────────── + ─────────────────── -\n",
       "     4                       4                     4                     4    \n",
       "da[1]         2880⋅\\lambda[1]         80⋅\\lambda[1]         80⋅\\lambda[1]     \n",
       "\n",
       "                r⎞      ⎛  9           r       8           r       7          \n",
       " 63⋅r⋅\\lambda[1] ⎟    3 ⎜ r ⋅\\lambda[1]     7⋅r ⋅\\lambda[1]    31⋅r ⋅\\lambda[1\n",
       " ────────────────⎟ + z ⋅⎜──────────────── - ──────────────── + ───────────────\n",
       "              4  ⎟      ⎜               3                 3                   \n",
       "  2⋅\\lambda[1]   ⎠      ⎝4320⋅\\lambda[1]    720⋅\\lambda[1]      180⋅\\lambda[1]\n",
       "\n",
       " r        6           r          5           r         4           r          \n",
       "]    401⋅r ⋅\\lambda[1]    13873⋅r ⋅\\lambda[1]    4013⋅r ⋅\\lambda[1]    72569⋅r\n",
       "── - ────────────────── + ──────────────────── - ─────────────────── + ───────\n",
       "3                   3                      3                     3            \n",
       "      240⋅\\lambda[1]        1440⋅\\lambda[1]        120⋅\\lambda[1]        1080⋅\n",
       "\n",
       "3           r         2           r                  r⎞      ⎛     9          \n",
       " ⋅\\lambda[1]    6289⋅r ⋅\\lambda[1]    28⋅r⋅\\lambda[1] ⎟    2 ⎜    r ⋅\\lambda[1\n",
       "───────────── - ─────────────────── + ────────────────⎟ + z ⋅⎜- ──────────────\n",
       "          3                     3                 3   ⎟      ⎜                \n",
       "\\lambda[1]         90⋅\\lambda[1]        \\lambda[1]    ⎠      ⎝  10080⋅\\lambda[\n",
       "\n",
       " r        8           r      7           r        6           r         5     \n",
       "]     43⋅r ⋅\\lambda[1]    7⋅r ⋅\\lambda[1]    563⋅r ⋅\\lambda[1]    6787⋅r ⋅\\lam\n",
       "─── + ───────────────── - ──────────────── + ────────────────── - ────────────\n",
       "  2                   2                 2                   2                 \n",
       "1]    10080⋅\\lambda[1]     90⋅\\lambda[1]      720⋅\\lambda[1]        1440⋅\\lamb\n",
       "\n",
       "      r          4           r          3           r         2           r   \n",
       "bda[1]    24901⋅r ⋅\\lambda[1]    20837⋅r ⋅\\lambda[1]    5869⋅r ⋅\\lambda[1]    \n",
       "─────── + ──────────────────── - ──────────────────── + ─────────────────── - \n",
       "     2                     2                     2                      2     \n",
       "da[1]       1440⋅\\lambda[1]        560⋅\\lambda[1]         140⋅\\lambda[1]      \n",
       "\n",
       "               r⎞     ⎛  9           r        8           r       7           \n",
       "18⋅r⋅\\lambda[1] ⎟     ⎜ r ⋅\\lambda[1]     11⋅r ⋅\\lambda[1]    59⋅r ⋅\\lambda[1]\n",
       "────────────────⎟ + z⋅⎜──────────────── - ───────────────── + ────────────────\n",
       "            2   ⎟     ⎝40320⋅\\lambda[1]    10080⋅\\lambda[1]    2880⋅\\lambda[1]\n",
       "  \\lambda[1]    ⎠                                                             \n",
       "\n",
       "r       6           r         5           r         4           r          3  \n",
       "    77⋅r ⋅\\lambda[1]    7807⋅r ⋅\\lambda[1]    7667⋅r ⋅\\lambda[1]    14139⋅r ⋅\\\n",
       "─ - ───────────────── + ─────────────────── - ─────────────────── + ──────────\n",
       "      360⋅\\lambda[1]      5760⋅\\lambda[1]       1440⋅\\lambda[1]       1120⋅\\la\n",
       "                                                                              \n",
       "\n",
       "         r         2           r                 r⎞              \n",
       "lambda[1]    4609⋅r ⋅\\lambda[1]    9⋅r⋅\\lambda[1] ⎟             r\n",
       "────────── - ─────────────────── + ───────────────⎟ + \\lambda[1] \n",
       "mbda[1]         280⋅\\lambda[1]        \\lambda[1]  ⎠              \n",
       "                                                                 "
      ]
     },
     "execution_count": 156,
     "metadata": {},
     "output_type": "execute_result"
    }
   ],
   "source": [
    "g = g_poly(function_eq, eigendata, Phi_polynomials)\n",
    "g"
   ]
  },
  {
   "cell_type": "code",
   "execution_count": 157,
   "metadata": {
    "collapsed": false
   },
   "outputs": [
    {
     "data": {
      "image/png": "[encoded data removed]",
      "text/latex": [
       "$$g{\\left (z \\right )} = - \\frac{r^{9}}{362880} + \\frac{r^{8}}{8064} - \\frac{29 r^{7}}{12096} + \\frac{5 r^{6}}{192} - \\frac{3013 r^{5}}{17280} + \\frac{95 r^{4}}{128} - \\frac{4523 r^{3}}{2268} + \\frac{6515 r^{2}}{2016} - \\frac{7129 r}{2520} + z^{9} \\left(\\frac{r^{9}}{362880} - \\frac{r^{8}}{10080} + \\frac{13 r^{7}}{8640} - \\frac{r^{6}}{80} + \\frac{1069 r^{5}}{17280} - \\frac{89 r^{4}}{480} + \\frac{29531 r^{3}}{90720} - \\frac{761 r^{2}}{2520} + \\frac{r}{9}\\right) + z^{8} \\left(- \\frac{r^{9}}{40320} + \\frac{37 r^{8}}{40320} - \\frac{41 r^{7}}{2880} + \\frac{347 r^{6}}{2880} - \\frac{3487 r^{5}}{5760} + \\frac{10579 r^{4}}{5760} - \\frac{1823 r^{3}}{560} + \\frac{3407 r^{2}}{1120} - \\frac{9 r}{8}\\right) + z^{7} \\left(\\frac{r^{9}}{10080} - \\frac{19 r^{8}}{5040} + \\frac{151 r^{7}}{2520} - \\frac{373 r^{6}}{720} + \\frac{3817 r^{5}}{1440} - \\frac{2939 r^{4}}{360} + \\frac{4101 r^{3}}{280} - \\frac{967 r^{2}}{70} + \\frac{36 r}{7}\\right) + z^{6} \\left(- \\frac{r^{9}}{4320} + \\frac{13 r^{8}}{1440} - \\frac{53 r^{7}}{360} + \\frac{313 r^{6}}{240} - \\frac{9823 r^{5}}{1440} + \\frac{10279 r^{4}}{480} - \\frac{84307 r^{3}}{2160} + \\frac{6709 r^{2}}{180} - 14 r\\right) + z^{5} \\left(\\frac{r^{9}}{2880} - \\frac{r^{8}}{72} + \\frac{67 r^{7}}{288} - \\frac{305 r^{6}}{144} + \\frac{32773 r^{5}}{2880} - \\frac{5273 r^{4}}{144} + \\frac{1091 r^{3}}{16} - \\frac{265 r^{2}}{4} + \\frac{126 r}{5}\\right) + z^{4} \\left(- \\frac{r^{9}}{2880} + \\frac{41 r^{8}}{2880} - \\frac{353 r^{7}}{1440} + \\frac{3313 r^{6}}{1440} - \\frac{36769 r^{5}}{2880} + \\frac{122249 r^{4}}{2880} - \\frac{6519 r^{3}}{80} + \\frac{6499 r^{2}}{80} - \\frac{63 r}{2}\\right) + z^{3} \\left(\\frac{r^{9}}{4320} - \\frac{7 r^{8}}{720} + \\frac{31 r^{7}}{180} - \\frac{401 r^{6}}{240} + \\frac{13873 r^{5}}{1440} - \\frac{4013 r^{4}}{120} + \\frac{72569 r^{3}}{1080} - \\frac{6289 r^{2}}{90} + 28 r\\right) + z^{2} \\left(- \\frac{r^{9}}{10080} + \\frac{43 r^{8}}{10080} - \\frac{7 r^{7}}{90} + \\frac{563 r^{6}}{720} - \\frac{6787 r^{5}}{1440} + \\frac{24901 r^{4}}{1440} - \\frac{20837 r^{3}}{560} + \\frac{5869 r^{2}}{140} - 18 r\\right) + z \\left(\\frac{r^{9}}{40320} - \\frac{11 r^{8}}{10080} + \\frac{59 r^{7}}{2880} - \\frac{77 r^{6}}{360} + \\frac{7807 r^{5}}{5760} - \\frac{7667 r^{4}}{1440} + \\frac{14139 r^{3}}{1120} - \\frac{4609 r^{2}}{280} + 9 r\\right) + 1$$"
      ],
      "text/plain": [
       "            9       8        7      6         5       4         3         2   \n",
       "           r       r     29⋅r    5⋅r    3013⋅r    95⋅r    4523⋅r    6515⋅r    \n",
       "g(z) = - ────── + ──── - ───── + ──── - ─────── + ───── - ─────── + ─────── - \n",
       "         362880   8064   12096   192     17280     128      2268      2016    \n",
       "\n",
       "            ⎛   9        8        7    6         5       4          3        2\n",
       "7129⋅r    9 ⎜  r        r     13⋅r    r    1069⋅r    89⋅r    29531⋅r    761⋅r \n",
       "────── + z ⋅⎜────── - ───── + ───── - ── + ─────── - ───── + ──────── - ──────\n",
       " 2520       ⎝362880   10080    8640   80    17280     480     90720      2520 \n",
       "\n",
       "    ⎞      ⎛     9        8       7        6         5          4         3   \n",
       "   r⎟    8 ⎜    r     37⋅r    41⋅r    347⋅r    3487⋅r    10579⋅r    1823⋅r    \n",
       " + ─⎟ + z ⋅⎜- ───── + ───── - ───── + ────── - ─────── + ──────── - ─────── + \n",
       "   9⎠      ⎝  40320   40320    2880    2880      5760      5760       560     \n",
       "\n",
       "      2      ⎞      ⎛   9        8        7        6         5         4      \n",
       "3407⋅r    9⋅r⎟    7 ⎜  r     19⋅r    151⋅r    373⋅r    3817⋅r    2939⋅r    410\n",
       "─────── - ───⎟ + z ⋅⎜───── - ───── + ────── - ────── + ─────── - ─────── + ───\n",
       "  1120     8 ⎠      ⎝10080    5040    2520     720       1440      360       2\n",
       "\n",
       "   3        2       ⎞      ⎛    9        8       7        6         5         \n",
       "1⋅r    967⋅r    36⋅r⎟    6 ⎜   r     13⋅r    53⋅r    313⋅r    9823⋅r    10279⋅\n",
       "──── - ────── + ────⎟ + z ⋅⎜- ──── + ───── - ───── + ────── - ─────── + ──────\n",
       "80       70      7  ⎠      ⎝  4320    1440    360     240       1440      480 \n",
       "\n",
       " 4          3         2       ⎞      ⎛  9     8       7        6          5   \n",
       "r    84307⋅r    6709⋅r        ⎟    5 ⎜ r     r    67⋅r    305⋅r    32773⋅r    \n",
       "── - ──────── + ─────── - 14⋅r⎟ + z ⋅⎜──── - ── + ───── - ────── + ──────── - \n",
       "       2160       180         ⎠      ⎝2880   72    288     144       2880     \n",
       "\n",
       "      4         3        2        ⎞      ⎛    9        8        7         6   \n",
       "5273⋅r    1091⋅r    265⋅r    126⋅r⎟    4 ⎜   r     41⋅r    353⋅r    3313⋅r    \n",
       "─────── + ─────── - ────── + ─────⎟ + z ⋅⎜- ──── + ───── - ────── + ─────── - \n",
       "  144        16       4        5  ⎠      ⎝  2880    2880    1440      1440    \n",
       "\n",
       "       5           4         3         2       ⎞      ⎛  9       8       7    \n",
       "36769⋅r    122249⋅r    6519⋅r    6499⋅r    63⋅r⎟    3 ⎜ r     7⋅r    31⋅r    4\n",
       "──────── + ───────── - ─────── + ─────── - ────⎟ + z ⋅⎜──── - ──── + ───── - ─\n",
       "  2880        2880        80        80      2  ⎠      ⎝4320   720     180     \n",
       "\n",
       "    6          5         4          3         2       ⎞      ⎛     9        8 \n",
       "01⋅r    13873⋅r    4013⋅r    72569⋅r    6289⋅r        ⎟    2 ⎜    r     43⋅r  \n",
       "───── + ──────── - ─────── + ──────── - ─────── + 28⋅r⎟ + z ⋅⎜- ───── + ───── \n",
       "240       1440       120       1080        90         ⎠      ⎝  10080   10080 \n",
       "\n",
       "     7        6         5          4          3         2       ⎞     ⎛   9   \n",
       "  7⋅r    563⋅r    6787⋅r    24901⋅r    20837⋅r    5869⋅r        ⎟     ⎜  r    \n",
       "- ──── + ────── - ─────── + ──────── - ──────── + ─────── - 18⋅r⎟ + z⋅⎜───── -\n",
       "   90     720       1440      1440       560        140         ⎠     ⎝40320  \n",
       "\n",
       "     8       7       6         5         4          3         2      ⎞    \n",
       " 11⋅r    59⋅r    77⋅r    7807⋅r    7667⋅r    14139⋅r    4609⋅r       ⎟    \n",
       " ───── + ───── - ───── + ─────── - ─────── + ──────── - ─────── + 9⋅r⎟ + 1\n",
       " 10080    2880    360      5760      1440      1120       280        ⎠    "
      ]
     },
     "execution_count": 157,
     "metadata": {},
     "output_type": "execute_result"
    }
   ],
   "source": [
    "g = g.subs(eigenvals)\n",
    "g"
   ]
  },
  {
   "cell_type": "code",
   "execution_count": 158,
   "metadata": {
    "collapsed": false
   },
   "outputs": [
    {
     "data": {
      "image/png": "[encoded data removed]",
      "text/latex": [
       "$$\\left[\\begin{matrix}1 & 0 & 0 & 0 & 0 & 0 & 0 & 0 & 0 & 0\\\\r & 1 & 0 & 0 & 0 & 0 & 0 & 0 & 0 & 0\\\\r^{2} & 2 r & 1 & 0 & 0 & 0 & 0 & 0 & 0 & 0\\\\r^{3} & 3 r^{2} & 3 r & 1 & 0 & 0 & 0 & 0 & 0 & 0\\\\r^{4} & 4 r^{3} & 6 r^{2} & 4 r & 1 & 0 & 0 & 0 & 0 & 0\\\\r^{5} & 5 r^{4} & 10 r^{3} & 10 r^{2} & 5 r & 1 & 0 & 0 & 0 & 0\\\\r^{6} & 6 r^{5} & 15 r^{4} & 20 r^{3} & 15 r^{2} & 6 r & 1 & 0 & 0 & 0\\\\r^{7} & 7 r^{6} & 21 r^{5} & 35 r^{4} & 35 r^{3} & 21 r^{2} & 7 r & 1 & 0 & 0\\\\r^{8} & 8 r^{7} & 28 r^{6} & 56 r^{5} & 70 r^{4} & 56 r^{3} & 28 r^{2} & 8 r & 1 & 0\\\\r^{9} & 9 r^{8} & 36 r^{7} & 84 r^{6} & 126 r^{5} & 126 r^{4} & 84 r^{3} & 36 r^{2} & 9 r & 1\\end{matrix}\\right]$$"
      ],
      "text/plain": [
       "⎡1    0      0      0      0       0       0      0     0   0⎤\n",
       "⎢                                                            ⎥\n",
       "⎢r    1      0      0      0       0       0      0     0   0⎥\n",
       "⎢                                                            ⎥\n",
       "⎢ 2                                                          ⎥\n",
       "⎢r   2⋅r     1      0      0       0       0      0     0   0⎥\n",
       "⎢                                                            ⎥\n",
       "⎢ 3     2                                                    ⎥\n",
       "⎢r   3⋅r    3⋅r     1      0       0       0      0     0   0⎥\n",
       "⎢                                                            ⎥\n",
       "⎢ 4     3     2                                              ⎥\n",
       "⎢r   4⋅r   6⋅r     4⋅r     1       0       0      0     0   0⎥\n",
       "⎢                                                            ⎥\n",
       "⎢ 5     4      3      2                                      ⎥\n",
       "⎢r   5⋅r   10⋅r   10⋅r    5⋅r      1       0      0     0   0⎥\n",
       "⎢                                                            ⎥\n",
       "⎢ 6     5      4      3      2                               ⎥\n",
       "⎢r   6⋅r   15⋅r   20⋅r   15⋅r     6⋅r      1      0     0   0⎥\n",
       "⎢                                                            ⎥\n",
       "⎢ 7     6      5      4      3       2                       ⎥\n",
       "⎢r   7⋅r   21⋅r   35⋅r   35⋅r    21⋅r     7⋅r     1     0   0⎥\n",
       "⎢                                                            ⎥\n",
       "⎢ 8     7      6      5      4       3       2               ⎥\n",
       "⎢r   8⋅r   28⋅r   56⋅r   70⋅r    56⋅r    28⋅r    8⋅r    1   0⎥\n",
       "⎢                                                            ⎥\n",
       "⎢ 9     8      7      6       5       4      3      2        ⎥\n",
       "⎣r   9⋅r   36⋅r   84⋅r   126⋅r   126⋅r   84⋅r   36⋅r   9⋅r  1⎦"
      ]
     },
     "execution_count": 158,
     "metadata": {},
     "output_type": "execute_result"
    }
   ],
   "source": [
    "with lift_to_matrix_function(g) as g_power:\n",
    "    m_power = g_power(m)\n",
    "m_power"
   ]
  },
  {
   "cell_type": "code",
   "execution_count": 159,
   "metadata": {
    "collapsed": false
   },
   "outputs": [
    {
     "data": {
      "image/png": "[encoded data removed]",
      "text/latex": [
       "$$\\left[\\begin{matrix}1 & 0 & 0 & 0 & 0 & 0 & 0 & 0 & 0 & 0\\\\r & 1 & 0 & 0 & 0 & 0 & 0 & 0 & 0 & 0\\\\r \\left(r - 1\\right) + r & 2 r & 1 & 0 & 0 & 0 & 0 & 0 & 0 & 0\\\\r \\left(r - 2\\right) \\left(r - 1\\right) + 3 r \\left(r - 1\\right) + r & 3 r \\left(r - 1\\right) + 3 r & 3 r & 1 & 0 & 0 & 0 & 0 & 0 & 0\\\\r \\left(r - 3\\right) \\left(r - 2\\right) \\left(r - 1\\right) + 6 r \\left(r - 2\\right) \\left(r - 1\\right) + 7 r \\left(r - 1\\right) + r & 4 r \\left(r - 2\\right) \\left(r - 1\\right) + 12 r \\left(r - 1\\right) + 4 r & 6 r \\left(r - 1\\right) + 6 r & 4 r & 1 & 0 & 0 & 0 & 0 & 0\\\\r \\left(r - 4\\right) \\left(r - 3\\right) \\left(r - 2\\right) \\left(r - 1\\right) + 10 r \\left(r - 3\\right) \\left(r - 2\\right) \\left(r - 1\\right) + 25 r \\left(r - 2\\right) \\left(r - 1\\right) + 15 r \\left(r - 1\\right) + r & 5 r \\left(r - 3\\right) \\left(r - 2\\right) \\left(r - 1\\right) + 30 r \\left(r - 2\\right) \\left(r - 1\\right) + 35 r \\left(r - 1\\right) + 5 r & 10 r \\left(r - 2\\right) \\left(r - 1\\right) + 30 r \\left(r - 1\\right) + 10 r & 10 r \\left(r - 1\\right) + 10 r & 5 r & 1 & 0 & 0 & 0 & 0\\\\r \\left(r - 5\\right) \\left(r - 4\\right) \\left(r - 3\\right) \\left(r - 2\\right) \\left(r - 1\\right) + 15 r \\left(r - 4\\right) \\left(r - 3\\right) \\left(r - 2\\right) \\left(r - 1\\right) + 65 r \\left(r - 3\\right) \\left(r - 2\\right) \\left(r - 1\\right) + 90 r \\left(r - 2\\right) \\left(r - 1\\right) + 31 r \\left(r - 1\\right) + r & 6 r \\left(r - 4\\right) \\left(r - 3\\right) \\left(r - 2\\right) \\left(r - 1\\right) + 60 r \\left(r - 3\\right) \\left(r - 2\\right) \\left(r - 1\\right) + 150 r \\left(r - 2\\right) \\left(r - 1\\right) + 90 r \\left(r - 1\\right) + 6 r & 15 r \\left(r - 3\\right) \\left(r - 2\\right) \\left(r - 1\\right) + 90 r \\left(r - 2\\right) \\left(r - 1\\right) + 105 r \\left(r - 1\\right) + 15 r & 20 r \\left(r - 2\\right) \\left(r - 1\\right) + 60 r \\left(r - 1\\right) + 20 r & 15 r \\left(r - 1\\right) + 15 r & 6 r & 1 & 0 & 0 & 0\\\\r \\left(r - 6\\right) \\left(r - 5\\right) \\left(r - 4\\right) \\left(r - 3\\right) \\left(r - 2\\right) \\left(r - 1\\right) + 21 r \\left(r - 5\\right) \\left(r - 4\\right) \\left(r - 3\\right) \\left(r - 2\\right) \\left(r - 1\\right) + 140 r \\left(r - 4\\right) \\left(r - 3\\right) \\left(r - 2\\right) \\left(r - 1\\right) + 350 r \\left(r - 3\\right) \\left(r - 2\\right) \\left(r - 1\\right) + 301 r \\left(r - 2\\right) \\left(r - 1\\right) + 63 r \\left(r - 1\\right) + r & 7 r \\left(r - 5\\right) \\left(r - 4\\right) \\left(r - 3\\right) \\left(r - 2\\right) \\left(r - 1\\right) + 105 r \\left(r - 4\\right) \\left(r - 3\\right) \\left(r - 2\\right) \\left(r - 1\\right) + 455 r \\left(r - 3\\right) \\left(r - 2\\right) \\left(r - 1\\right) + 630 r \\left(r - 2\\right) \\left(r - 1\\right) + 217 r \\left(r - 1\\right) + 7 r & 21 r \\left(r - 4\\right) \\left(r - 3\\right) \\left(r - 2\\right) \\left(r - 1\\right) + 210 r \\left(r - 3\\right) \\left(r - 2\\right) \\left(r - 1\\right) + 525 r \\left(r - 2\\right) \\left(r - 1\\right) + 315 r \\left(r - 1\\right) + 21 r & 35 r \\left(r - 3\\right) \\left(r - 2\\right) \\left(r - 1\\right) + 210 r \\left(r - 2\\right) \\left(r - 1\\right) + 245 r \\left(r - 1\\right) + 35 r & 35 r \\left(r - 2\\right) \\left(r - 1\\right) + 105 r \\left(r - 1\\right) + 35 r & 21 r \\left(r - 1\\right) + 21 r & 7 r & 1 & 0 & 0\\\\r \\left(r - 7\\right) \\left(r - 6\\right) \\left(r - 5\\right) \\left(r - 4\\right) \\left(r - 3\\right) \\left(r - 2\\right) \\left(r - 1\\right) + 28 r \\left(r - 6\\right) \\left(r - 5\\right) \\left(r - 4\\right) \\left(r - 3\\right) \\left(r - 2\\right) \\left(r - 1\\right) + 266 r \\left(r - 5\\right) \\left(r - 4\\right) \\left(r - 3\\right) \\left(r - 2\\right) \\left(r - 1\\right) + 1050 r \\left(r - 4\\right) \\left(r - 3\\right) \\left(r - 2\\right) \\left(r - 1\\right) + 1701 r \\left(r - 3\\right) \\left(r - 2\\right) \\left(r - 1\\right) + 966 r \\left(r - 2\\right) \\left(r - 1\\right) + 127 r \\left(r - 1\\right) + r & 8 r \\left(r - 6\\right) \\left(r - 5\\right) \\left(r - 4\\right) \\left(r - 3\\right) \\left(r - 2\\right) \\left(r - 1\\right) + 168 r \\left(r - 5\\right) \\left(r - 4\\right) \\left(r - 3\\right) \\left(r - 2\\right) \\left(r - 1\\right) + 1120 r \\left(r - 4\\right) \\left(r - 3\\right) \\left(r - 2\\right) \\left(r - 1\\right) + 2800 r \\left(r - 3\\right) \\left(r - 2\\right) \\left(r - 1\\right) + 2408 r \\left(r - 2\\right) \\left(r - 1\\right) + 504 r \\left(r - 1\\right) + 8 r & 28 r \\left(r - 5\\right) \\left(r - 4\\right) \\left(r - 3\\right) \\left(r - 2\\right) \\left(r - 1\\right) + 420 r \\left(r - 4\\right) \\left(r - 3\\right) \\left(r - 2\\right) \\left(r - 1\\right) + 1820 r \\left(r - 3\\right) \\left(r - 2\\right) \\left(r - 1\\right) + 2520 r \\left(r - 2\\right) \\left(r - 1\\right) + 868 r \\left(r - 1\\right) + 28 r & 56 r \\left(r - 4\\right) \\left(r - 3\\right) \\left(r - 2\\right) \\left(r - 1\\right) + 560 r \\left(r - 3\\right) \\left(r - 2\\right) \\left(r - 1\\right) + 1400 r \\left(r - 2\\right) \\left(r - 1\\right) + 840 r \\left(r - 1\\right) + 56 r & 70 r \\left(r - 3\\right) \\left(r - 2\\right) \\left(r - 1\\right) + 420 r \\left(r - 2\\right) \\left(r - 1\\right) + 490 r \\left(r - 1\\right) + 70 r & 56 r \\left(r - 2\\right) \\left(r - 1\\right) + 168 r \\left(r - 1\\right) + 56 r & 28 r \\left(r - 1\\right) + 28 r & 8 r & 1 & 0\\\\r \\left(r - 8\\right) \\left(r - 7\\right) \\left(r - 6\\right) \\left(r - 5\\right) \\left(r - 4\\right) \\left(r - 3\\right) \\left(r - 2\\right) \\left(r - 1\\right) + 36 r \\left(r - 7\\right) \\left(r - 6\\right) \\left(r - 5\\right) \\left(r - 4\\right) \\left(r - 3\\right) \\left(r - 2\\right) \\left(r - 1\\right) + 462 r \\left(r - 6\\right) \\left(r - 5\\right) \\left(r - 4\\right) \\left(r - 3\\right) \\left(r - 2\\right) \\left(r - 1\\right) + 2646 r \\left(r - 5\\right) \\left(r - 4\\right) \\left(r - 3\\right) \\left(r - 2\\right) \\left(r - 1\\right) + 6951 r \\left(r - 4\\right) \\left(r - 3\\right) \\left(r - 2\\right) \\left(r - 1\\right) + 7770 r \\left(r - 3\\right) \\left(r - 2\\right) \\left(r - 1\\right) + 3025 r \\left(r - 2\\right) \\left(r - 1\\right) + 255 r \\left(r - 1\\right) + r & 9 r \\left(r - 7\\right) \\left(r - 6\\right) \\left(r - 5\\right) \\left(r - 4\\right) \\left(r - 3\\right) \\left(r - 2\\right) \\left(r - 1\\right) + 252 r \\left(r - 6\\right) \\left(r - 5\\right) \\left(r - 4\\right) \\left(r - 3\\right) \\left(r - 2\\right) \\left(r - 1\\right) + 2394 r \\left(r - 5\\right) \\left(r - 4\\right) \\left(r - 3\\right) \\left(r - 2\\right) \\left(r - 1\\right) + 9450 r \\left(r - 4\\right) \\left(r - 3\\right) \\left(r - 2\\right) \\left(r - 1\\right) + 15309 r \\left(r - 3\\right) \\left(r - 2\\right) \\left(r - 1\\right) + 8694 r \\left(r - 2\\right) \\left(r - 1\\right) + 1143 r \\left(r - 1\\right) + 9 r & 36 r \\left(r - 6\\right) \\left(r - 5\\right) \\left(r - 4\\right) \\left(r - 3\\right) \\left(r - 2\\right) \\left(r - 1\\right) + 756 r \\left(r - 5\\right) \\left(r - 4\\right) \\left(r - 3\\right) \\left(r - 2\\right) \\left(r - 1\\right) + 5040 r \\left(r - 4\\right) \\left(r - 3\\right) \\left(r - 2\\right) \\left(r - 1\\right) + 12600 r \\left(r - 3\\right) \\left(r - 2\\right) \\left(r - 1\\right) + 10836 r \\left(r - 2\\right) \\left(r - 1\\right) + 2268 r \\left(r - 1\\right) + 36 r & 84 r \\left(r - 5\\right) \\left(r - 4\\right) \\left(r - 3\\right) \\left(r - 2\\right) \\left(r - 1\\right) + 1260 r \\left(r - 4\\right) \\left(r - 3\\right) \\left(r - 2\\right) \\left(r - 1\\right) + 5460 r \\left(r - 3\\right) \\left(r - 2\\right) \\left(r - 1\\right) + 7560 r \\left(r - 2\\right) \\left(r - 1\\right) + 2604 r \\left(r - 1\\right) + 84 r & 126 r \\left(r - 4\\right) \\left(r - 3\\right) \\left(r - 2\\right) \\left(r - 1\\right) + 1260 r \\left(r - 3\\right) \\left(r - 2\\right) \\left(r - 1\\right) + 3150 r \\left(r - 2\\right) \\left(r - 1\\right) + 1890 r \\left(r - 1\\right) + 126 r & 126 r \\left(r - 3\\right) \\left(r - 2\\right) \\left(r - 1\\right) + 756 r \\left(r - 2\\right) \\left(r - 1\\right) + 882 r \\left(r - 1\\right) + 126 r & 84 r \\left(r - 2\\right) \\left(r - 1\\right) + 252 r \\left(r - 1\\right) + 84 r & 36 r \\left(r - 1\\right) + 36 r & 9 r & 1\\end{matrix}\\right]$$"
      ],
      "text/plain": [
       "⎡                                                                             \n",
       "⎢                                                                             \n",
       "⎢                                                                             \n",
       "⎢                                                                             \n",
       "⎢                                                                             \n",
       "⎢                                                                             \n",
       "⎢                                                                             \n",
       "⎢                                                                             \n",
       "⎢                                                                             \n",
       "⎢                                                                             \n",
       "⎢                                                                             \n",
       "⎢                                                                             \n",
       "⎢                                                                             \n",
       "⎢                                                                             \n",
       "⎢                                                                      r⋅(r - \n",
       "⎢                                                                             \n",
       "⎢                                     r⋅(r - 7)⋅(r - 6)⋅(r - 5)⋅(r - 4)⋅(r - 3\n",
       "⎢                                                                             \n",
       "⎣r⋅(r - 8)⋅(r - 7)⋅(r - 6)⋅(r - 5)⋅(r - 4)⋅(r - 3)⋅(r - 2)⋅(r - 1) + 36⋅r⋅(r -\n",
       "\n",
       "                                                                              \n",
       "                                                                              \n",
       "                                                                              \n",
       "                                                                              \n",
       "                                                                              \n",
       "                                                                              \n",
       "                                                                              \n",
       "                                                                              \n",
       "                                                                  r⋅(r - 3)⋅(r\n",
       "                                                                              \n",
       "                                              r⋅(r - 4)⋅(r - 3)⋅(r - 2)⋅(r - 1\n",
       "                                                                              \n",
       "                      r⋅(r - 5)⋅(r - 4)⋅(r - 3)⋅(r - 2)⋅(r - 1) + 15⋅r⋅(r - 4)\n",
       "                                                                              \n",
       "6)⋅(r - 5)⋅(r - 4)⋅(r - 3)⋅(r - 2)⋅(r - 1) + 21⋅r⋅(r - 5)⋅(r - 4)⋅(r - 3)⋅(r -\n",
       "                                                                              \n",
       ")⋅(r - 2)⋅(r - 1) + 28⋅r⋅(r - 6)⋅(r - 5)⋅(r - 4)⋅(r - 3)⋅(r - 2)⋅(r - 1) + 266\n",
       "                                                                              \n",
       " 7)⋅(r - 6)⋅(r - 5)⋅(r - 4)⋅(r - 3)⋅(r - 2)⋅(r - 1) + 462⋅r⋅(r - 6)⋅(r - 5)⋅(r\n",
       "\n",
       "                    1                                                         \n",
       "                                                                              \n",
       "                    r                                                         \n",
       "                                                                              \n",
       "              r⋅(r - 1) + r                                                   \n",
       "                                                                              \n",
       "   r⋅(r - 2)⋅(r - 1) + 3⋅r⋅(r - 1) + r                                        \n",
       "                                                                              \n",
       " - 2)⋅(r - 1) + 6⋅r⋅(r - 2)⋅(r - 1) + 7⋅r⋅(r - 1) + r                         \n",
       "                                                                              \n",
       ") + 10⋅r⋅(r - 3)⋅(r - 2)⋅(r - 1) + 25⋅r⋅(r - 2)⋅(r - 1) + 15⋅r⋅(r - 1) + r    \n",
       "                                                                              \n",
       "⋅(r - 3)⋅(r - 2)⋅(r - 1) + 65⋅r⋅(r - 3)⋅(r - 2)⋅(r - 1) + 90⋅r⋅(r - 2)⋅(r - 1)\n",
       "                                                                              \n",
       " 2)⋅(r - 1) + 140⋅r⋅(r - 4)⋅(r - 3)⋅(r - 2)⋅(r - 1) + 350⋅r⋅(r - 3)⋅(r - 2)⋅(r\n",
       "                                                                              \n",
       "⋅r⋅(r - 5)⋅(r - 4)⋅(r - 3)⋅(r - 2)⋅(r - 1) + 1050⋅r⋅(r - 4)⋅(r - 3)⋅(r - 2)⋅(r\n",
       "                                                                              \n",
       " - 4)⋅(r - 3)⋅(r - 2)⋅(r - 1) + 2646⋅r⋅(r - 5)⋅(r - 4)⋅(r - 3)⋅(r - 2)⋅(r - 1)\n",
       "\n",
       "                                                                              \n",
       "                                                                              \n",
       "                                                                              \n",
       "                                                                              \n",
       "                                                                              \n",
       "                                                                              \n",
       "                                                                              \n",
       "                                                                              \n",
       "                                                                              \n",
       "                                                                              \n",
       "                                                                              \n",
       "                                                                              \n",
       " + 31⋅r⋅(r - 1) + r                                                           \n",
       "                                                                              \n",
       " - 1) + 301⋅r⋅(r - 2)⋅(r - 1) + 63⋅r⋅(r - 1) + r                              \n",
       "                                                                              \n",
       " - 1) + 1701⋅r⋅(r - 3)⋅(r - 2)⋅(r - 1) + 966⋅r⋅(r - 2)⋅(r - 1) + 127⋅r⋅(r - 1)\n",
       "                                                                              \n",
       " + 6951⋅r⋅(r - 4)⋅(r - 3)⋅(r - 2)⋅(r - 1) + 7770⋅r⋅(r - 3)⋅(r - 2)⋅(r - 1) + 3\n",
       "\n",
       "                                                                              \n",
       "                                                                              \n",
       "                                                                              \n",
       "                                                                              \n",
       "                                                                              \n",
       "                                                                              \n",
       "                                                                              \n",
       "                                                                              \n",
       "                                                                              \n",
       "                                                                              \n",
       "                                                                              \n",
       "                                                                              \n",
       "                                                                              \n",
       "                                                                              \n",
       "                                                                              \n",
       "                                                                              \n",
       " + r                                                                        8⋅\n",
       "                                                                              \n",
       "025⋅r⋅(r - 2)⋅(r - 1) + 255⋅r⋅(r - 1) + r  9⋅r⋅(r - 7)⋅(r - 6)⋅(r - 5)⋅(r - 4)\n",
       "\n",
       "                                                                              \n",
       "                                                                              \n",
       "                                                                              \n",
       "                                                                              \n",
       "                                                                              \n",
       "                                                                              \n",
       "                                                                              \n",
       "                                                                              \n",
       "                                                                              \n",
       "                                                                              \n",
       "                                                                         5⋅r⋅(\n",
       "                                                                              \n",
       "                                                     6⋅r⋅(r - 4)⋅(r - 3)⋅(r - \n",
       "                                                                              \n",
       "                            7⋅r⋅(r - 5)⋅(r - 4)⋅(r - 3)⋅(r - 2)⋅(r - 1) + 105⋅\n",
       "                                                                              \n",
       "r⋅(r - 6)⋅(r - 5)⋅(r - 4)⋅(r - 3)⋅(r - 2)⋅(r - 1) + 168⋅r⋅(r - 5)⋅(r - 4)⋅(r -\n",
       "                                                                              \n",
       "⋅(r - 3)⋅(r - 2)⋅(r - 1) + 252⋅r⋅(r - 6)⋅(r - 5)⋅(r - 4)⋅(r - 3)⋅(r - 2)⋅(r - \n",
       "\n",
       "                              0                                               \n",
       "                                                                              \n",
       "                              1                                               \n",
       "                                                                              \n",
       "                             2⋅r                                              \n",
       "                                                                              \n",
       "                      3⋅r⋅(r - 1) + 3⋅r                                       \n",
       "                                                                              \n",
       "          4⋅r⋅(r - 2)⋅(r - 1) + 12⋅r⋅(r - 1) + 4⋅r                            \n",
       "                                                                              \n",
       "r - 3)⋅(r - 2)⋅(r - 1) + 30⋅r⋅(r - 2)⋅(r - 1) + 35⋅r⋅(r - 1) + 5⋅r            \n",
       "                                                                              \n",
       "2)⋅(r - 1) + 60⋅r⋅(r - 3)⋅(r - 2)⋅(r - 1) + 150⋅r⋅(r - 2)⋅(r - 1) + 90⋅r⋅(r - \n",
       "                                                                              \n",
       "r⋅(r - 4)⋅(r - 3)⋅(r - 2)⋅(r - 1) + 455⋅r⋅(r - 3)⋅(r - 2)⋅(r - 1) + 630⋅r⋅(r -\n",
       "                                                                              \n",
       " 3)⋅(r - 2)⋅(r - 1) + 1120⋅r⋅(r - 4)⋅(r - 3)⋅(r - 2)⋅(r - 1) + 2800⋅r⋅(r - 3)⋅\n",
       "                                                                              \n",
       "1) + 2394⋅r⋅(r - 5)⋅(r - 4)⋅(r - 3)⋅(r - 2)⋅(r - 1) + 9450⋅r⋅(r - 4)⋅(r - 3)⋅(\n",
       "\n",
       "                                                                              \n",
       "                                                                              \n",
       "                                                                              \n",
       "                                                                              \n",
       "                                                                              \n",
       "                                                                              \n",
       "                                                                              \n",
       "                                                                              \n",
       "                                                                              \n",
       "                                                                              \n",
       "                                                                              \n",
       "                                                                              \n",
       "1) + 6⋅r                                                                      \n",
       "                                                                              \n",
       " 2)⋅(r - 1) + 217⋅r⋅(r - 1) + 7⋅r                                             \n",
       "                                                                              \n",
       "(r - 2)⋅(r - 1) + 2408⋅r⋅(r - 2)⋅(r - 1) + 504⋅r⋅(r - 1) + 8⋅r                \n",
       "                                                                              \n",
       "r - 2)⋅(r - 1) + 15309⋅r⋅(r - 3)⋅(r - 2)⋅(r - 1) + 8694⋅r⋅(r - 2)⋅(r - 1) + 11\n",
       "\n",
       "                                                                              \n",
       "                                                                              \n",
       "                                                                              \n",
       "                                                                              \n",
       "                                                                              \n",
       "                                                                              \n",
       "                                                                              \n",
       "                                                                              \n",
       "                                                                              \n",
       "                                                                              \n",
       "                                                                              \n",
       "                                                                              \n",
       "                                                                              \n",
       "                                                                              \n",
       "                                                                           21⋅\n",
       "                                                                              \n",
       "                                                  28⋅r⋅(r - 5)⋅(r - 4)⋅(r - 3)\n",
       "                                                                              \n",
       "43⋅r⋅(r - 1) + 9⋅r  36⋅r⋅(r - 6)⋅(r - 5)⋅(r - 4)⋅(r - 3)⋅(r - 2)⋅(r - 1) + 756\n",
       "\n",
       "                                                      0                       \n",
       "                                                                              \n",
       "                                                      0                       \n",
       "                                                                              \n",
       "                                                      1                       \n",
       "                                                                              \n",
       "                                                     3⋅r                      \n",
       "                                                                              \n",
       "                                              6⋅r⋅(r - 1) + 6⋅r               \n",
       "                                                                              \n",
       "                                 10⋅r⋅(r - 2)⋅(r - 1) + 30⋅r⋅(r - 1) + 10⋅r   \n",
       "                                                                              \n",
       "                 15⋅r⋅(r - 3)⋅(r - 2)⋅(r - 1) + 90⋅r⋅(r - 2)⋅(r - 1) + 105⋅r⋅(\n",
       "                                                                              \n",
       "r⋅(r - 4)⋅(r - 3)⋅(r - 2)⋅(r - 1) + 210⋅r⋅(r - 3)⋅(r - 2)⋅(r - 1) + 525⋅r⋅(r -\n",
       "                                                                              \n",
       "⋅(r - 2)⋅(r - 1) + 420⋅r⋅(r - 4)⋅(r - 3)⋅(r - 2)⋅(r - 1) + 1820⋅r⋅(r - 3)⋅(r -\n",
       "                                                                              \n",
       "⋅r⋅(r - 5)⋅(r - 4)⋅(r - 3)⋅(r - 2)⋅(r - 1) + 5040⋅r⋅(r - 4)⋅(r - 3)⋅(r - 2)⋅(r\n",
       "\n",
       "                                                                              \n",
       "                                                                              \n",
       "                                                                              \n",
       "                                                                              \n",
       "                                                                              \n",
       "                                                                              \n",
       "                                                                              \n",
       "                                                                              \n",
       "                                                                              \n",
       "                                                                              \n",
       "                                                                              \n",
       "                                                                              \n",
       "r - 1) + 15⋅r                                                                 \n",
       "                                                                              \n",
       " 2)⋅(r - 1) + 315⋅r⋅(r - 1) + 21⋅r                                            \n",
       "                                                                              \n",
       " 2)⋅(r - 1) + 2520⋅r⋅(r - 2)⋅(r - 1) + 868⋅r⋅(r - 1) + 28⋅r                   \n",
       "                                                                              \n",
       " - 1) + 12600⋅r⋅(r - 3)⋅(r - 2)⋅(r - 1) + 10836⋅r⋅(r - 2)⋅(r - 1) + 2268⋅r⋅(r \n",
       "\n",
       "                                                                              \n",
       "                                                                              \n",
       "                                                                              \n",
       "                                                                              \n",
       "                                                                              \n",
       "                                                                              \n",
       "                                                                              \n",
       "                                                                              \n",
       "                                                                              \n",
       "                                                                              \n",
       "                                                                              \n",
       "                                                                              \n",
       "                                                                           20⋅\n",
       "                                                                              \n",
       "                                                           35⋅r⋅(r - 3)⋅(r - 2\n",
       "                                                                              \n",
       "                                      56⋅r⋅(r - 4)⋅(r - 3)⋅(r - 2)⋅(r - 1) + 5\n",
       "                                                                              \n",
       "- 1) + 36⋅r  84⋅r⋅(r - 5)⋅(r - 4)⋅(r - 3)⋅(r - 2)⋅(r - 1) + 1260⋅r⋅(r - 4)⋅(r \n",
       "\n",
       "                  0                                                           \n",
       "                                                                              \n",
       "                  0                                                           \n",
       "                                                                              \n",
       "                  0                                                           \n",
       "                                                                              \n",
       "                  1                                                           \n",
       "                                                                              \n",
       "                 4⋅r                                                          \n",
       "                                                                              \n",
       "         10⋅r⋅(r - 1) + 10⋅r                                                  \n",
       "                                                                              \n",
       "r⋅(r - 2)⋅(r - 1) + 60⋅r⋅(r - 1) + 20⋅r                                       \n",
       "                                                                              \n",
       ")⋅(r - 1) + 210⋅r⋅(r - 2)⋅(r - 1) + 245⋅r⋅(r - 1) + 35⋅r                      \n",
       "                                                                              \n",
       "60⋅r⋅(r - 3)⋅(r - 2)⋅(r - 1) + 1400⋅r⋅(r - 2)⋅(r - 1) + 840⋅r⋅(r - 1) + 56⋅r  \n",
       "                                                                              \n",
       "- 3)⋅(r - 2)⋅(r - 1) + 5460⋅r⋅(r - 3)⋅(r - 2)⋅(r - 1) + 7560⋅r⋅(r - 2)⋅(r - 1)\n",
       "\n",
       "                                                                              \n",
       "                                                                              \n",
       "                                                                              \n",
       "                                                                              \n",
       "                                                                              \n",
       "                                                                              \n",
       "                                                                              \n",
       "                                                                              \n",
       "                                                                              \n",
       "                                                                              \n",
       "                                                                              \n",
       "                                                                              \n",
       "                                                                            15\n",
       "                                                                              \n",
       "                                                                35⋅r⋅(r - 2)⋅(\n",
       "                                                                              \n",
       "                                                70⋅r⋅(r - 3)⋅(r - 2)⋅(r - 1) +\n",
       "                                                                              \n",
       " + 2604⋅r⋅(r - 1) + 84⋅r  126⋅r⋅(r - 4)⋅(r - 3)⋅(r - 2)⋅(r - 1) + 1260⋅r⋅(r - \n",
       "\n",
       "       0                                                                      \n",
       "                                                                              \n",
       "       0                                                                      \n",
       "                                                                              \n",
       "       0                                                                      \n",
       "                                                                              \n",
       "       0                                                                      \n",
       "                                                                              \n",
       "       1                                                                      \n",
       "                                                                              \n",
       "      5⋅r                                                                     \n",
       "                                                                              \n",
       "⋅r⋅(r - 1) + 15⋅r                                                             \n",
       "                                                                              \n",
       "r - 1) + 105⋅r⋅(r - 1) + 35⋅r                                                 \n",
       "                                                                              \n",
       " 420⋅r⋅(r - 2)⋅(r - 1) + 490⋅r⋅(r - 1) + 70⋅r                                 \n",
       "                                                                              \n",
       "3)⋅(r - 2)⋅(r - 1) + 3150⋅r⋅(r - 2)⋅(r - 1) + 1890⋅r⋅(r - 1) + 126⋅r  126⋅r⋅(r\n",
       "\n",
       "                              0                                               \n",
       "                                                                              \n",
       "                              0                                               \n",
       "                                                                              \n",
       "                              0                                               \n",
       "                                                                              \n",
       "                              0                                               \n",
       "                                                                              \n",
       "                              0                                               \n",
       "                                                                              \n",
       "                              1                                               \n",
       "                                                                              \n",
       "                             6⋅r                                              \n",
       "                                                                              \n",
       "                     21⋅r⋅(r - 1) + 21⋅r                                      \n",
       "                                                                              \n",
       "         56⋅r⋅(r - 2)⋅(r - 1) + 168⋅r⋅(r - 1) + 56⋅r                          \n",
       "                                                                              \n",
       " - 3)⋅(r - 2)⋅(r - 1) + 756⋅r⋅(r - 2)⋅(r - 1) + 882⋅r⋅(r - 1) + 126⋅r  84⋅r⋅(r\n",
       "\n",
       "              0                                0            0   0⎤\n",
       "                                                                 ⎥\n",
       "              0                                0            0   0⎥\n",
       "                                                                 ⎥\n",
       "              0                                0            0   0⎥\n",
       "                                                                 ⎥\n",
       "              0                                0            0   0⎥\n",
       "                                                                 ⎥\n",
       "              0                                0            0   0⎥\n",
       "                                                                 ⎥\n",
       "              0                                0            0   0⎥\n",
       "                                                                 ⎥\n",
       "              1                                0            0   0⎥\n",
       "                                                                 ⎥\n",
       "             7⋅r                               1            0   0⎥\n",
       "                                                                 ⎥\n",
       "     28⋅r⋅(r - 1) + 28⋅r                      8⋅r           1   0⎥\n",
       "                                                                 ⎥\n",
       " - 2)⋅(r - 1) + 252⋅r⋅(r - 1) + 84⋅r  36⋅r⋅(r - 1) + 36⋅r  9⋅r  1⎦"
      ]
     },
     "execution_count": 159,
     "metadata": {},
     "output_type": "execute_result"
    }
   ],
   "source": [
    "m**r"
   ]
  },
  {
   "cell_type": "code",
   "execution_count": 162,
   "metadata": {
    "collapsed": false
   },
   "outputs": [
    {
     "data": {
      "image/png": "[encoded data removed]",
      "text/latex": [
       "$$\\left[\\begin{matrix}1 & 0 & 0 & 0 & 0 & 0 & 0 & 0 & 0 & 0\\\\r & 1 & 0 & 0 & 0 & 0 & 0 & 0 & 0 & 0\\\\r^{2} & 2 r & 1 & 0 & 0 & 0 & 0 & 0 & 0 & 0\\\\r^{3} & 3 r^{2} & 3 r & 1 & 0 & 0 & 0 & 0 & 0 & 0\\\\r^{4} & 4 r^{3} & 6 r^{2} & 4 r & 1 & 0 & 0 & 0 & 0 & 0\\\\r^{5} & 5 r^{4} & 10 r^{3} & 10 r^{2} & 5 r & 1 & 0 & 0 & 0 & 0\\\\r^{6} & 6 r^{5} & 15 r^{4} & 20 r^{3} & 15 r^{2} & 6 r & 1 & 0 & 0 & 0\\\\r^{7} & 7 r^{6} & 21 r^{5} & 35 r^{4} & 35 r^{3} & 21 r^{2} & 7 r & 1 & 0 & 0\\\\r^{8} & 8 r^{7} & 28 r^{6} & 56 r^{5} & 70 r^{4} & 56 r^{3} & 28 r^{2} & 8 r & 1 & 0\\\\r^{9} & 9 r^{8} & 36 r^{7} & 84 r^{6} & 126 r^{5} & 126 r^{4} & 84 r^{3} & 36 r^{2} & 9 r & 1\\end{matrix}\\right]$$"
      ],
      "text/plain": [
       "⎡1    0      0      0      0       0       0      0     0   0⎤\n",
       "⎢                                                            ⎥\n",
       "⎢r    1      0      0      0       0       0      0     0   0⎥\n",
       "⎢                                                            ⎥\n",
       "⎢ 2                                                          ⎥\n",
       "⎢r   2⋅r     1      0      0       0       0      0     0   0⎥\n",
       "⎢                                                            ⎥\n",
       "⎢ 3     2                                                    ⎥\n",
       "⎢r   3⋅r    3⋅r     1      0       0       0      0     0   0⎥\n",
       "⎢                                                            ⎥\n",
       "⎢ 4     3     2                                              ⎥\n",
       "⎢r   4⋅r   6⋅r     4⋅r     1       0       0      0     0   0⎥\n",
       "⎢                                                            ⎥\n",
       "⎢ 5     4      3      2                                      ⎥\n",
       "⎢r   5⋅r   10⋅r   10⋅r    5⋅r      1       0      0     0   0⎥\n",
       "⎢                                                            ⎥\n",
       "⎢ 6     5      4      3      2                               ⎥\n",
       "⎢r   6⋅r   15⋅r   20⋅r   15⋅r     6⋅r      1      0     0   0⎥\n",
       "⎢                                                            ⎥\n",
       "⎢ 7     6      5      4      3       2                       ⎥\n",
       "⎢r   7⋅r   21⋅r   35⋅r   35⋅r    21⋅r     7⋅r     1     0   0⎥\n",
       "⎢                                                            ⎥\n",
       "⎢ 8     7      6      5      4       3       2               ⎥\n",
       "⎢r   8⋅r   28⋅r   56⋅r   70⋅r    56⋅r    28⋅r    8⋅r    1   0⎥\n",
       "⎢                                                            ⎥\n",
       "⎢ 9     8      7      6       5       4      3      2        ⎥\n",
       "⎣r   9⋅r   36⋅r   84⋅r   126⋅r   126⋅r   84⋅r   36⋅r   9⋅r  1⎦"
      ]
     },
     "execution_count": 162,
     "metadata": {},
     "output_type": "execute_result"
    }
   ],
   "source": [
    "(m**r).applyfunc(simplify)"
   ]
  },
  {
   "cell_type": "markdown",
   "metadata": {},
   "source": [
    "---"
   ]
  },
  {
   "cell_type": "code",
   "execution_count": 119,
   "metadata": {
    "collapsed": true
   },
   "outputs": [],
   "source": [
    "p = Function('p')\n",
    "y, c, z = IndexedBase('y'),IndexedBase('c'), IndexedBase('z')"
   ]
  },
  {
   "cell_type": "code",
   "execution_count": 120,
   "metadata": {
    "collapsed": false
   },
   "outputs": [
    {
     "data": {
      "image/png": "[encoded data removed]",
      "text/latex": [
       "$$p{\\left (z \\right )} = z^{2} - z - 1$$"
      ],
      "text/plain": [
       "        2        \n",
       "p(z) = z  - z - 1"
      ]
     },
     "execution_count": 120,
     "metadata": {},
     "output_type": "execute_result"
    }
   ],
   "source": [
    "fibonacci_poly = Eq(p(z), z**2 -z -1)\n",
    "fibonacci_poly"
   ]
  },
  {
   "cell_type": "code",
   "execution_count": 121,
   "metadata": {
    "collapsed": false
   },
   "outputs": [
    {
     "data": {
      "image/png": "[encoded data removed]",
      "text/latex": [
       "$$\\left \\{ z_{1} : \\frac{1}{2} \\left(1 + \\sqrt{5}\\right), \\quad z_{2} : - \\frac{1}{2} \\left(-1 + \\sqrt{5}\\right)\\right \\}$$"
      ],
      "text/plain": [
       "⎧      1 + √5        -(-1 + √5) ⎫\n",
       "⎨z[1]: ──────, z[2]: ───────────⎬\n",
       "⎩        2                2     ⎭"
      ]
     },
     "execution_count": 121,
     "metadata": {},
     "output_type": "execute_result"
    }
   ],
   "source": [
    "zs = solve(fibonacci_poly.rhs, [z])\n",
    "zs ={z[i]:v for i, v in enumerate(map(factor, sorted(zs, reverse=True)), start=1)}\n",
    "zs"
   ]
  },
  {
   "cell_type": "code",
   "execution_count": 122,
   "metadata": {
    "collapsed": false
   },
   "outputs": [
    {
     "data": {
      "image/png": "[encoded data removed]",
      "text/latex": [
       "$$y_{n} = c_{1} z_{1}^{n} + c_{2} z_{2}^{n}$$"
      ],
      "text/plain": [
       "                n            n\n",
       "y[n] = c[1]⋅z[1]  + c[2]⋅z[2] "
      ]
     },
     "execution_count": 122,
     "metadata": {},
     "output_type": "execute_result"
    }
   ],
   "source": [
    "solution = Eq(y[n], c[1]*z[1]**n + c[2]*z[2]**n)\n",
    "solution"
   ]
  },
  {
   "cell_type": "code",
   "execution_count": 129,
   "metadata": {
    "collapsed": false
   },
   "outputs": [
    {
     "data": {
      "image/png": "[encoded data removed]",
      "text/latex": [
       "$$\\left [ 0 = c_{1} + c_{2}, \\quad 1 = c_{1} z_{1} + c_{2} z_{2}\\right ]$$"
      ],
      "text/plain": [
       "[0 = c[1] + c[2], 1 = c[1]⋅z[1] + c[2]⋅z[2]]"
      ]
     },
     "execution_count": 129,
     "metadata": {},
     "output_type": "execute_result"
    }
   ],
   "source": [
    "initial_conditions = {0:0, 1:1}\n",
    "system = [solution.subs({n:k}).subs({y[k]:v}) for k, v in initial_conditions.items()]\n",
    "system"
   ]
  },
  {
   "cell_type": "code",
   "execution_count": 130,
   "metadata": {
    "collapsed": false
   },
   "outputs": [
    {
     "data": {
      "image/png": "[encoded data removed]",
      "text/latex": [
       "$$\\left \\{ c_{1} : \\frac{1}{z_{1} - z_{2}}, \\quad c_{2} : - \\frac{1}{z_{1} - z_{2}}\\right \\}$$"
      ],
      "text/plain": [
       "⎧           1                 -1     ⎫\n",
       "⎨c[1]: ───────────, c[2]: ───────────⎬\n",
       "⎩      z[1] - z[2]        z[1] - z[2]⎭"
      ]
     },
     "execution_count": 130,
     "metadata": {},
     "output_type": "execute_result"
    }
   ],
   "source": [
    "instantiated_sols = solve(system, [c[1],c[2]])\n",
    "instantiated_sols"
   ]
  },
  {
   "cell_type": "code",
   "execution_count": 131,
   "metadata": {
    "collapsed": false
   },
   "outputs": [
    {
     "data": {
      "image/png": "[encoded data removed]",
      "text/latex": [
       "$$\\left \\{ c_{1} : \\frac{\\sqrt{5}}{5}, \\quad c_{2} : - \\frac{\\sqrt{5}}{5}\\right \\}$$"
      ],
      "text/plain": [
       "⎧      √5        -√5 ⎫\n",
       "⎨c[1]: ──, c[2]: ────⎬\n",
       "⎩      5          5  ⎭"
      ]
     },
     "execution_count": 131,
     "metadata": {},
     "output_type": "execute_result"
    }
   ],
   "source": [
    "coeffs = {k: v.subs({z[1]:z1, z[2]:z2}).factor() for k,v in instantiated_sols.items()}\n",
    "coeffs"
   ]
  },
  {
   "cell_type": "code",
   "execution_count": 132,
   "metadata": {
    "collapsed": false
   },
   "outputs": [
    {
     "data": {
      "image/png": "[encoded data removed]",
      "text/latex": [
       "$$y_{n} = \\frac{\\sqrt{5}}{5} \\left(\\frac{1}{2} \\left(1 + \\sqrt{5}\\right)\\right)^{n} - \\frac{\\sqrt{5}}{5} \\left(- \\frac{1}{2} \\left(-1 + \\sqrt{5}\\right)\\right)^{n}$$"
      ],
      "text/plain": [
       "                  n                   n\n",
       "          ⎛1 + √5⎞       ⎛-(-1 + √5) ⎞ \n",
       "       √5⋅⎜──────⎟    √5⋅⎜───────────⎟ \n",
       "          ⎝  2   ⎠       ⎝     2     ⎠ \n",
       "y[n] = ──────────── - ─────────────────\n",
       "            5                 5        "
      ]
     },
     "execution_count": 132,
     "metadata": {},
     "output_type": "execute_result"
    }
   ],
   "source": [
    "complete_sol = solution.subs(coeffs).subs(zs)\n",
    "complete_sol"
   ]
  },
  {
   "cell_type": "code",
   "execution_count": 133,
   "metadata": {
    "collapsed": false
   },
   "outputs": [
    {
     "data": {
      "image/png": "[encoded data removed]",
      "text/latex": [
       "$$\\left [ y_{0} = 0, \\quad y_{1} = 1, \\quad y_{2} = 1, \\quad y_{3} = 2, \\quad y_{4} = 3, \\quad y_{5} = 5, \\quad y_{6} = 8, \\quad y_{7} = 13, \\quad y_{8} = 21, \\quad y_{9} = 34, \\quad y_{10} = 55, \\quad y_{11} = 89, \\quad y_{12} = 144, \\quad y_{13} = 233, \\quad y_{14} = 377\\right ]$$"
      ],
      "text/plain": [
       "[y[0] = 0, y[1] = 1, y[2] = 1, y[3] = 2, y[4] = 3, y[5] = 5, y[6] = 8, y[7] = \n",
       "13, y[8] = 21, y[9] = 34, y[10] = 55, y[11] = 89, y[12] = 144, y[13] = 233, y[\n",
       "14] = 377]"
      ]
     },
     "execution_count": 133,
     "metadata": {},
     "output_type": "execute_result"
    }
   ],
   "source": [
    "[complete_sol.subs(n,i).factor() for i in range(15)]"
   ]
  },
  {
   "cell_type": "code",
   "execution_count": null,
   "metadata": {
    "collapsed": true
   },
   "outputs": [],
   "source": []
  }
 ],
 "metadata": {
  "kernelspec": {
   "display_name": "Python 3",
   "language": "python",
   "name": "python3"
  },
  "language_info": {
   "codemirror_mode": {
    "name": "ipython",
    "version": 3
   },
   "file_extension": ".py",
   "mimetype": "text/x-python",
   "name": "python",
   "nbconvert_exporter": "python",
   "pygments_lexer": "ipython3",
   "version": "3.5.2"
  }
 },
 "nbformat": 4,
 "nbformat_minor": 1
}
