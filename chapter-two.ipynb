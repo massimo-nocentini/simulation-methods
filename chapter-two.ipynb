{
 "cells": [
  {
   "cell_type": "code",
   "execution_count": 1,
   "metadata": {
    "collapsed": true
   },
   "outputs": [],
   "source": [
    "from contextlib import contextmanager\n",
    "\n",
    "from sympy import *\n",
    "from sympy.abc import n, i, N, x, lamda, phi, z, m, j, r\n",
    "\n",
    "init_printing()"
   ]
  },
  {
   "cell_type": "code",
   "execution_count": 2,
   "metadata": {
    "collapsed": false
   },
   "outputs": [
    {
     "data": {
      "image/png": "[encoded data removed]",
      "text/latex": [
       "$$- \\lambda^{3} + 5 \\lambda^{2} - 7 \\lambda + 3 = 0$$"
      ],
      "text/plain": [
       "         3            2                    \n",
       "- \\lambda  + 5⋅\\lambda  - 7⋅\\lambda + 3 = 0"
      ]
     },
     "execution_count": 2,
     "metadata": {},
     "output_type": "execute_result"
    }
   ],
   "source": [
    "lamda = symbols('\\lambda')#, real=True)\n",
    "eq = Eq(det(Matrix([[1-lamda, 0, 0],\n",
    "                    [-7, 1-lamda, -1],\n",
    "                    [4,0,3-lamda]])),0)\n",
    "eq"
   ]
  },
  {
   "cell_type": "code",
   "execution_count": 3,
   "metadata": {
    "collapsed": false
   },
   "outputs": [
    {
     "data": {
      "image/png": "[encoded data removed]",
      "text/latex": [
       "$$- \\left(\\lambda - 3\\right) \\left(\\lambda - 1\\right)^{2} = 0$$"
      ],
      "text/plain": [
       "                            2    \n",
       "-(\\lambda - 3)⋅(\\lambda - 1)  = 0"
      ]
     },
     "execution_count": 3,
     "metadata": {},
     "output_type": "execute_result"
    }
   ],
   "source": [
    "factor(eq)"
   ]
  },
  {
   "cell_type": "code",
   "execution_count": 4,
   "metadata": {
    "collapsed": false
   },
   "outputs": [
    {
     "data": {
      "image/png": "[encoded data removed]",
      "text/latex": [
       "$$\\left \\{ 1 : 2, \\quad 3 : 1\\right \\}$$"
      ],
      "text/plain": [
       "{1: 2, 3: 1}"
      ]
     },
     "execution_count": 4,
     "metadata": {},
     "output_type": "execute_result"
    }
   ],
   "source": [
    "roots(eq, lamda,)"
   ]
  },
  {
   "cell_type": "code",
   "execution_count": 39,
   "metadata": {
    "collapsed": true
   },
   "outputs": [],
   "source": [
    "@contextmanager\n",
    "def lift_to_indexed(*syms):\n",
    "    yield map(IndexedBase, map(latex, syms))\n",
    "    \n",
    "@contextmanager\n",
    "def lift_to_Lambda(eq, return_eq=False):\n",
    "    yield Lambda(eq.lhs.args, eq if return_eq else eq.rhs)"
   ]
  },
  {
   "cell_type": "code",
   "execution_count": 44,
   "metadata": {
    "collapsed": true
   },
   "outputs": [],
   "source": [
    "indexed_phi = IndexedBase(r'\\phi')\n",
    "\n",
    "def make_Phi_poly(z, deg, i, j, indexed=indexed_phi):\n",
    "    k = symbols('k')\n",
    "    terms = Sum(indexed[i, j, deg-k] * z**k, (k, 0, deg)).doit()\n",
    "    return Eq(Function(r'\\Phi')(z, i, j), terms)\n"
   ]
  },
  {
   "cell_type": "code",
   "execution_count": 55,
   "metadata": {
    "collapsed": true
   },
   "outputs": [],
   "source": [
    "m = 2 # degree of \\Xi minimal polynomial"
   ]
  },
  {
   "cell_type": "code",
   "execution_count": 59,
   "metadata": {
    "collapsed": false
   },
   "outputs": [
    {
     "data": {
      "image/png": "[encoded data removed]",
      "text/latex": [
       "$$\\Phi{\\left (z,i,j \\right )} = z \\phi_{i,j,0} + \\phi_{i,j,1}$$"
      ],
      "text/plain": [
       "\\Phi(z, i, j) = z⋅\\phi[i, j, 0] + \\phi[i, j, 1]"
      ]
     },
     "execution_count": 59,
     "metadata": {},
     "output_type": "execute_result"
    }
   ],
   "source": [
    "Phi_poly = make_Phi_poly(z, deg=m-1, i=symbols('i'), j=symbols('j'))\n",
    "Phi_poly"
   ]
  },
  {
   "cell_type": "code",
   "execution_count": 60,
   "metadata": {
    "collapsed": false
   },
   "outputs": [
    {
     "data": {
      "image/png": "[encoded data removed]",
      "text/latex": [
       "$$\\left( \\left ( z, \\quad i, \\quad j\\right ) \\mapsto z \\phi_{i,j,0} + \\phi_{i,j,1} \\right)$$"
      ],
      "text/plain": [
       "(z, i, j) ↦ z⋅\\phi[i, j, 0] + \\phi[i, j, 1]"
      ]
     },
     "execution_count": 60,
     "metadata": {},
     "output_type": "execute_result"
    }
   ],
   "source": [
    "with lift_to_Lambda(Phi_poly) as Phi:\n",
    "    pass\n",
    "Phi"
   ]
  },
  {
   "cell_type": "code",
   "execution_count": 61,
   "metadata": {
    "collapsed": false
   },
   "outputs": [
    {
     "data": {
      "image/png": "[encoded data removed]",
      "text/latex": [
       "$$z \\phi_{3,1,0} + \\phi_{3,1,1}$$"
      ],
      "text/plain": [
       "z⋅\\phi[3, 1, 0] + \\phi[3, 1, 1]"
      ]
     },
     "execution_count": 61,
     "metadata": {},
     "output_type": "execute_result"
    }
   ],
   "source": [
    "Phi(z, 3, j)"
   ]
  },
  {
   "cell_type": "code",
   "execution_count": 62,
   "metadata": {
    "collapsed": false
   },
   "outputs": [
    {
     "data": {
      "image/png": "[encoded data removed]",
      "text/latex": [
       "$$\\left[\\begin{matrix}3 & 1\\\\1 & 3\\end{matrix}\\right]$$"
      ],
      "text/plain": [
       "⎡3  1⎤\n",
       "⎢    ⎥\n",
       "⎣1  3⎦"
      ]
     },
     "execution_count": 62,
     "metadata": {},
     "output_type": "execute_result"
    }
   ],
   "source": [
    "m = Matrix([\n",
    "        [3, 1],\n",
    "        [1, 3]\n",
    "    ])\n",
    "m"
   ]
  },
  {
   "cell_type": "code",
   "execution_count": 64,
   "metadata": {
    "collapsed": false
   },
   "outputs": [
    {
     "data": {
      "image/png": "[encoded data removed]",
      "text/latex": [
       "$$\\left \\{ 2 : 1, \\quad 4 : 1\\right \\}$$"
      ],
      "text/plain": [
       "{2: 1, 4: 1}"
      ]
     },
     "execution_count": 64,
     "metadata": {},
     "output_type": "execute_result"
    }
   ],
   "source": [
    "m.eigenvals()"
   ]
  },
  {
   "cell_type": "code",
   "execution_count": 65,
   "metadata": {
    "collapsed": true
   },
   "outputs": [],
   "source": [
    "lamda_indexed = IndexedBase(r'\\lambda')\n",
    "mul_indexed = IndexedBase(r'm')\n",
    "\n",
    "def eigen_data(matrix):\n",
    "    eigenvals = {}\n",
    "    multiplicities = {}\n",
    "    data = {}\n",
    "    for i, (eigen_value, multiplicity) in enumerate(matrix.eigenvals().items(), start=1):\n",
    "        eigenvals[lamda_indexed[i]] = eigen_value\n",
    "        multiplicities[mul_indexed[i]] = multiplicity\n",
    "        data[i] = lamda_indexed[i], mul_indexed[i]\n",
    "    return data, eigenvals, multiplicities"
   ]
  },
  {
   "cell_type": "code",
   "execution_count": 67,
   "metadata": {
    "collapsed": false
   },
   "outputs": [
    {
     "data": {
      "image/png": "[encoded data removed]",
      "text/latex": [
       "$$\\left ( \\left \\{ 1 : \\left ( \\lambda_{1}, \\quad m_{1}\\right ), \\quad 2 : \\left ( \\lambda_{2}, \\quad m_{2}\\right )\\right \\}, \\quad \\left \\{ \\lambda_{1} : 2, \\quad \\lambda_{2} : 4\\right \\}, \\quad \\left \\{ m_{1} : 1, \\quad m_{2} : 1\\right \\}\\right )$$"
      ],
      "text/plain": [
       "({1: (\\lambda[1], m[1]), 2: (\\lambda[2], m[2])}, {\\lambda[1]: 2, \\lambda[2]: 4\n",
       "}, {m[1]: 1, m[2]: 1})"
      ]
     },
     "execution_count": 67,
     "metadata": {},
     "output_type": "execute_result"
    }
   ],
   "source": [
    "eigen_data(m)"
   ]
  },
  {
   "cell_type": "code",
   "execution_count": 94,
   "metadata": {
    "collapsed": false
   },
   "outputs": [],
   "source": [
    "def define_Phi_poly(Phi_poly, i, j, eigendata):\n",
    "    \n",
    "    data, eigenvals, multiplicities = eigendata\n",
    "    \n",
    "    lhs = Function(r'\\Phi_{{ {}, {} }}'.format(i, j))(z)\n",
    "    \n",
    "    with lift_to_Lambda(Phi_poly) as Phi:\n",
    "        p = Eq(lhs, Phi(z, i, j))\n",
    "        lamda_i, m_i = data[i]\n",
    "        derivatives = [(r, Eq(Function('\\delta')(z), p.rhs.diff(z, r-1))) for r in range(1, multiplicities[m_i]+1)]\n",
    "        res = []\n",
    "        for l, (lamda, mul) in data.items():\n",
    "            for r, der in derivatives:\n",
    "                with lift_to_Lambda(der) as der_fn:\n",
    "                    eq = Eq(der_fn(eigenvals[lamda]), KroneckerDelta(l, i)*KroneckerDelta(r, j))\n",
    "                    res.append(eq)\n",
    "                    \n",
    "        sols = solve(res).pop()\n",
    "        \n",
    "        rhs = p.rhs.subs(sols, simultaneous=True).expand()\n",
    "        return p, Eq(lhs, rhs) , derivatives, res, sols\n",
    "        "
   ]
  },
  {
   "cell_type": "code",
   "execution_count": 95,
   "metadata": {
    "collapsed": false
   },
   "outputs": [
    {
     "data": {
      "image/png": "[encoded data removed]",
      "text/latex": [
       "$$\\left ( \\Phi_{ 1, 1 }{\\left (z \\right )} = z \\phi_{1,1,0} + \\phi_{1,1,1}, \\quad \\Phi_{ 1, 1 }{\\left (z \\right )} = - \\frac{z}{2} + 2, \\quad \\left [ \\left ( 1, \\quad \\delta{\\left (z \\right )} = z \\phi_{1,1,0} + \\phi_{1,1,1}\\right )\\right ], \\quad \\left [ 2 \\phi_{1,1,0} + \\phi_{1,1,1} = 1, \\quad 4 \\phi_{1,1,0} + \\phi_{1,1,1} = 0\\right ], \\quad \\left \\{ \\phi_{1,1,0} : - \\frac{1}{2}, \\quad \\phi_{1,1,1} : 2\\right \\}\\right )$$"
      ],
      "text/plain": [
       "⎛                                                                         z   \n",
       "⎜\\Phi_{ 1, 1 }(z) = z⋅\\phi[1, 1, 0] + \\phi[1, 1, 1], \\Phi_{ 1, 1 }(z) = - ─ + \n",
       "⎝                                                                         2   \n",
       "\n",
       "                                                                              \n",
       "2, [(1, \\delta(z) = z⋅\\phi[1, 1, 0] + \\phi[1, 1, 1])], [2⋅\\phi[1, 1, 0] + \\phi\n",
       "                                                                              \n",
       "\n",
       "                                                                              \n",
       "[1, 1, 1] = 1, 4⋅\\phi[1, 1, 0] + \\phi[1, 1, 1] = 0], {\\phi[1, 1, 0]: -1/2, \\ph\n",
       "                                                                              \n",
       "\n",
       "              ⎞\n",
       "i[1, 1, 1]: 2}⎟\n",
       "              ⎠"
      ]
     },
     "execution_count": 95,
     "metadata": {},
     "output_type": "execute_result"
    }
   ],
   "source": [
    "res = define_Phi_poly(Phi_poly, 1,1,eigen_data(m))\n",
    "res"
   ]
  },
  {
   "cell_type": "code",
   "execution_count": 96,
   "metadata": {
    "collapsed": false
   },
   "outputs": [
    {
     "data": {
      "image/png": "[encoded data removed]",
      "text/latex": [
       "$$\\left ( \\Phi_{ 2, 1 }{\\left (z \\right )} = z \\phi_{2,1,0} + \\phi_{2,1,1}, \\quad \\Phi_{ 2, 1 }{\\left (z \\right )} = \\frac{z}{2} - 1, \\quad \\left [ \\left ( 1, \\quad \\delta{\\left (z \\right )} = z \\phi_{2,1,0} + \\phi_{2,1,1}\\right )\\right ], \\quad \\left [ 2 \\phi_{2,1,0} + \\phi_{2,1,1} = 0, \\quad 4 \\phi_{2,1,0} + \\phi_{2,1,1} = 1\\right ], \\quad \\left \\{ \\phi_{2,1,0} : \\frac{1}{2}, \\quad \\phi_{2,1,1} : -1\\right \\}\\right )$$"
      ],
      "text/plain": [
       "⎛                                                                       z     \n",
       "⎜\\Phi_{ 2, 1 }(z) = z⋅\\phi[2, 1, 0] + \\phi[2, 1, 1], \\Phi_{ 2, 1 }(z) = ─ - 1,\n",
       "⎝                                                                       2     \n",
       "\n",
       "                                                                              \n",
       " [(1, \\delta(z) = z⋅\\phi[2, 1, 0] + \\phi[2, 1, 1])], [2⋅\\phi[2, 1, 0] + \\phi[2\n",
       "                                                                              \n",
       "\n",
       "                                                                              \n",
       ", 1, 1] = 0, 4⋅\\phi[2, 1, 0] + \\phi[2, 1, 1] = 1], {\\phi[2, 1, 0]: 1/2, \\phi[2\n",
       "                                                                              \n",
       "\n",
       "            ⎞\n",
       ", 1, 1]: -1}⎟\n",
       "            ⎠"
      ]
     },
     "execution_count": 96,
     "metadata": {},
     "output_type": "execute_result"
    }
   ],
   "source": [
    "res = define_Phi_poly(Phi_poly, 2,1,eigen_data(m))\n",
    "res"
   ]
  },
  {
   "cell_type": "code",
   "execution_count": 114,
   "metadata": {
    "collapsed": false
   },
   "outputs": [
    {
     "data": {
      "image/png": "[encoded data removed]",
      "text/latex": [
       "$$\\left \\{ \\left ( 1, \\quad 1\\right ) : \\Phi_{ 1, 1 }{\\left (z \\right )} = - \\frac{z}{2} + 2, \\quad \\left ( 2, \\quad 1\\right ) : \\Phi_{ 2, 1 }{\\left (z \\right )} = \\frac{z}{2} - 1\\right \\}$$"
      ],
      "text/plain": [
       "⎧                             z                                 z    ⎫\n",
       "⎨(1, 1): \\Phi_{ 1, 1 }(z) = - ─ + 2, (2, 1): \\Phi_{ 2, 1 }(z) = ─ - 1⎬\n",
       "⎩                             2                                 2    ⎭"
      ]
     },
     "execution_count": 114,
     "metadata": {},
     "output_type": "execute_result"
    }
   ],
   "source": [
    "component_polynomials = {}\n",
    "\n",
    "data, eigenvals, multiplicities = eigendata = eigen_data(m)\n",
    "for i, (lamda, mul) in data.items():\n",
    "    multiplicity = multiplicities[mul]\n",
    "    for j in range(1, multiplicity+1):\n",
    "        component_poly = define_Phi_poly(Phi_poly, i, j, eigendata)\n",
    "        component_polynomials[i, j] = component_poly[1]\n",
    "\n",
    "component_polynomials"
   ]
  },
  {
   "cell_type": "code",
   "execution_count": 115,
   "metadata": {
    "collapsed": true
   },
   "outputs": [],
   "source": [
    "def g_poly(f_eq, eigendata, Phi_polys):\n",
    "    \n",
    "    data, eigenvals, multiplicities = eigendata\n",
    "    g = Integer(0)\n",
    "    \n",
    "    for i, (lamda, mul) in data.items():\n",
    "        for j in range(1, multiplicities[mul]+1):\n",
    "            with lift_to_Lambda(f_eq) as f_fn:\n",
    "                der = Eq(Function(r'\\delta')(z), f_fn(z).diff(z, j-1))\n",
    "                with lift_to_Lambda(der) as der_fn, lift_to_Lambda(Phi_polys[i, j]) as Phi:\n",
    "                    g += der_fn(lamda)*Phi(z)\n",
    "    \n",
    "    return Eq(Function('g')(z), g.expand())"
   ]
  },
  {
   "cell_type": "code",
   "execution_count": 122,
   "metadata": {
    "collapsed": false
   },
   "outputs": [
    {
     "data": {
      "image/png": "[encoded data removed]",
      "text/latex": [
       "$$g{\\left (z \\right )} = - \\frac{z}{2} h{\\left (\\lambda_{1} \\right )} + \\frac{z}{2} h{\\left (\\lambda_{2} \\right )} + 2 h{\\left (\\lambda_{1} \\right )} - h{\\left (\\lambda_{2} \\right )}$$"
      ],
      "text/plain": [
       "         z⋅h(\\lambda[1])   z⋅h(\\lambda[2])                                  \n",
       "g(z) = - ─────────────── + ─────────────── + 2⋅h(\\lambda[1]) - h(\\lambda[2])\n",
       "                2                 2                                         "
      ]
     },
     "execution_count": 122,
     "metadata": {},
     "output_type": "execute_result"
    }
   ],
   "source": [
    "g = g_poly(Eq(Function('f')(z), Function('h')(z)), eigendata, component_polynomials)\n",
    "g"
   ]
  },
  {
   "cell_type": "code",
   "execution_count": 135,
   "metadata": {
    "collapsed": false
   },
   "outputs": [
    {
     "data": {
      "image/png": "[encoded data removed]",
      "text/latex": [
       "$$g{\\left (z \\right )} = - \\frac{z}{2} h{\\left (2 \\right )} + \\frac{z}{2} h{\\left (4 \\right )} + 2 h{\\left (2 \\right )} - h{\\left (4 \\right )}$$"
      ],
      "text/plain": [
       "         z⋅h(2)   z⋅h(4)                \n",
       "g(z) = - ────── + ────── + 2⋅h(2) - h(4)\n",
       "           2        2                   "
      ]
     },
     "execution_count": 135,
     "metadata": {},
     "output_type": "execute_result"
    }
   ],
   "source": [
    "g = g.subs(eigenvals)\n",
    "g"
   ]
  },
  {
   "cell_type": "code",
   "execution_count": 136,
   "metadata": {
    "collapsed": false
   },
   "outputs": [
    {
     "data": {
      "image/png": "[encoded data removed]",
      "text/latex": [
       "$$\\left[\\begin{matrix}\\frac{1}{2} h{\\left (2 \\right )} + \\frac{1}{2} h{\\left (4 \\right )} & - \\frac{1}{2} h{\\left (2 \\right )} + \\frac{1}{2} h{\\left (4 \\right )}\\\\- \\frac{1}{2} h{\\left (2 \\right )} + \\frac{1}{2} h{\\left (4 \\right )} & \\frac{1}{2} h{\\left (2 \\right )} + \\frac{1}{2} h{\\left (4 \\right )}\\end{matrix}\\right]$$"
      ],
      "text/plain": [
       "⎡ h(2)   h(4)     h(2)   h(4)⎤\n",
       "⎢ ──── + ────   - ──── + ────⎥\n",
       "⎢  2      2        2      2  ⎥\n",
       "⎢                            ⎥\n",
       "⎢  h(2)   h(4)   h(2)   h(4) ⎥\n",
       "⎢- ──── + ────   ──── + ──── ⎥\n",
       "⎣   2      2      2      2   ⎦"
      ]
     },
     "execution_count": 136,
     "metadata": {},
     "output_type": "execute_result"
    }
   ],
   "source": [
    "gpp = poly(g.rhs, z)\n",
    "Z = zeros(m.rows)\n",
    "for d in range(gpp.degree()+1):\n",
    "    coeff = g.rhs.coeff(z, d)\n",
    "    Z += coeff*m**d\n",
    "Z"
   ]
  },
  {
   "cell_type": "code",
   "execution_count": 120,
   "metadata": {
    "collapsed": false,
    "scrolled": false
   },
   "outputs": [
    {
     "data": {
      "image/png": "[encoded data removed]",
      "text/latex": [
       "$$\\left [ Z_{1,1} = \\left[\\begin{matrix}\\frac{1}{2} & - \\frac{1}{2}\\\\- \\frac{1}{2} & \\frac{1}{2}\\end{matrix}\\right], \\quad Z_{2,1} = \\left[\\begin{matrix}\\frac{1}{2} & \\frac{1}{2}\\\\\\frac{1}{2} & \\frac{1}{2}\\end{matrix}\\right]\\right ]$$"
      ],
      "text/plain": [
       "⎡Z[1, 1] = ⎡1/2   -1/2⎤, Z[2, 1] = ⎡1/2  1/2⎤⎤\n",
       "⎢          ⎢          ⎥            ⎢        ⎥⎥\n",
       "⎣          ⎣-1/2  1/2 ⎦            ⎣1/2  1/2⎦⎦"
      ]
     },
     "execution_count": 120,
     "metadata": {},
     "output_type": "execute_result"
    }
   ],
   "source": [
    "lifted_matrix_polynomials = []\n",
    "indexed_Z = IndexedBase('Z')\n",
    "for (i, j), cp in component_polynomials.items():\n",
    "    cpp = poly(cp.rhs, z)\n",
    "    Z = zeros(m.rows)\n",
    "    for d in range(cpp.degree()+1):\n",
    "        coeff = cp.rhs.coeff(z, d)\n",
    "        Z += coeff*m**d\n",
    "    lifted_matrix_polynomials.append(Eq(indexed_Z[i,j], Z, evaluate=False))\n",
    "    \n",
    "lifted_matrix_polynomials"
   ]
  },
  {
   "cell_type": "code",
   "execution_count": 150,
   "metadata": {
    "collapsed": false
   },
   "outputs": [
    {
     "data": {
      "image/png": "[encoded data removed]",
      "text/latex": [
       "$$g{\\left (z \\right )} = - \\frac{z \\sqrt{\\lambda_{1}}}{2} + \\frac{z \\sqrt{\\lambda_{2}}}{2} + 2 \\sqrt{\\lambda_{1}} - \\sqrt{\\lambda_{2}}$$"
      ],
      "text/plain": [
       "             ____________       ____________                                  \n",
       "         z⋅╲╱ \\lambda[1]    z⋅╲╱ \\lambda[2]        ____________     __________\n",
       "g(z) = - ──────────────── + ──────────────── + 2⋅╲╱ \\lambda[1]  - ╲╱ \\lambda[2\n",
       "                2                  2                                          \n",
       "\n",
       "  \n",
       "__\n",
       "] \n",
       "  "
      ]
     },
     "execution_count": 150,
     "metadata": {},
     "output_type": "execute_result"
    }
   ],
   "source": [
    "g = g_poly(Eq(Function('f')(z), sqrt(z)), eigendata, component_polynomials)\n",
    "g"
   ]
  },
  {
   "cell_type": "code",
   "execution_count": 151,
   "metadata": {
    "collapsed": false
   },
   "outputs": [
    {
     "data": {
      "image/png": "[encoded data removed]",
      "text/latex": [
       "$$g{\\left (z \\right )} = - \\frac{\\sqrt{2} z}{2} + z - 2 + 2 \\sqrt{2}$$"
      ],
      "text/plain": [
       "         √2⋅z               \n",
       "g(z) = - ──── + z - 2 + 2⋅√2\n",
       "          2                 "
      ]
     },
     "execution_count": 151,
     "metadata": {},
     "output_type": "execute_result"
    }
   ],
   "source": [
    "g = g.subs(eigenvals)\n",
    "g"
   ]
  },
  {
   "cell_type": "code",
   "execution_count": 152,
   "metadata": {
    "collapsed": false
   },
   "outputs": [
    {
     "data": {
      "image/png": "[encoded data removed]",
      "text/latex": [
       "$$\\left[\\begin{matrix}\\frac{\\sqrt{2}}{2} + 1 & - \\frac{\\sqrt{2}}{2} + 1\\\\- \\frac{\\sqrt{2}}{2} + 1 & \\frac{\\sqrt{2}}{2} + 1\\end{matrix}\\right]$$"
      ],
      "text/plain": [
       "⎡ √2         √2    ⎤\n",
       "⎢ ── + 1   - ── + 1⎥\n",
       "⎢ 2          2     ⎥\n",
       "⎢                  ⎥\n",
       "⎢  √2       √2     ⎥\n",
       "⎢- ── + 1   ── + 1 ⎥\n",
       "⎣  2        2      ⎦"
      ]
     },
     "execution_count": 152,
     "metadata": {},
     "output_type": "execute_result"
    }
   ],
   "source": [
    "gpp = poly(g.rhs, z)\n",
    "Z = zeros(m.rows)\n",
    "for d in range(gpp.degree()+1):\n",
    "    coeff = g.rhs.coeff(z, d)\n",
    "    Z += coeff*m**d\n",
    "Z.applyfunc(lambda c: c.simplify())"
   ]
  },
  {
   "cell_type": "code",
   "execution_count": 142,
   "metadata": {
    "collapsed": false
   },
   "outputs": [
    {
     "data": {
      "image/png": "[encoded data removed]",
      "text/latex": [
       "$$g{\\left (z \\right )} = - \\frac{z \\log{\\left (\\lambda_{1} \\right )}}{2 \\log{\\left (2 \\right )}} + \\frac{z \\log{\\left (\\lambda_{2} \\right )}}{2 \\log{\\left (2 \\right )}} + \\frac{2 \\log{\\left (\\lambda_{1} \\right )}}{\\log{\\left (2 \\right )}} - \\frac{\\log{\\left (\\lambda_{2} \\right )}}{\\log{\\left (2 \\right )}}$$"
      ],
      "text/plain": [
       "         z⋅log(\\lambda[1])   z⋅log(\\lambda[2])   2⋅log(\\lambda[1])   log(\\lamb\n",
       "g(z) = - ───────────────── + ───────────────── + ───────────────── - ─────────\n",
       "              2⋅log(2)            2⋅log(2)             log(2)             log(\n",
       "\n",
       "da[2])\n",
       "──────\n",
       "2)    "
      ]
     },
     "execution_count": 142,
     "metadata": {},
     "output_type": "execute_result"
    }
   ],
   "source": [
    "g = g_poly(Eq(Function('f')(z), log(z, 2)), eigendata, component_polynomials)\n",
    "g"
   ]
  },
  {
   "cell_type": "code",
   "execution_count": 143,
   "metadata": {
    "collapsed": false
   },
   "outputs": [
    {
     "data": {
      "image/png": "[encoded data removed]",
      "text/latex": [
       "$$g{\\left (z \\right )} = - \\frac{z}{2} + \\frac{z \\log{\\left (4 \\right )}}{2 \\log{\\left (2 \\right )}} - \\frac{\\log{\\left (4 \\right )}}{\\log{\\left (2 \\right )}} + 2$$"
      ],
      "text/plain": [
       "         z   z⋅log(4)   log(4)    \n",
       "g(z) = - ─ + ──────── - ────── + 2\n",
       "         2   2⋅log(2)   log(2)    "
      ]
     },
     "execution_count": 143,
     "metadata": {},
     "output_type": "execute_result"
    }
   ],
   "source": [
    "g = g.subs(eigenvals)\n",
    "g"
   ]
  },
  {
   "cell_type": "code",
   "execution_count": 148,
   "metadata": {
    "collapsed": false
   },
   "outputs": [
    {
     "data": {
      "image/png": "[encoded data removed]",
      "text/latex": [
       "$$\\left[\\begin{matrix}\\frac{3}{2} & \\frac{1}{2}\\\\\\frac{1}{2} & \\frac{3}{2}\\end{matrix}\\right]$$"
      ],
      "text/plain": [
       "⎡3/2  1/2⎤\n",
       "⎢        ⎥\n",
       "⎣1/2  3/2⎦"
      ]
     },
     "execution_count": 148,
     "metadata": {},
     "output_type": "execute_result"
    }
   ],
   "source": [
    "gpp = poly(g.rhs, z)\n",
    "Z = zeros(m.rows)\n",
    "for d in range(gpp.degree()+1):\n",
    "    coeff = g.rhs.coeff(z, d)\n",
    "    Z += coeff*m**d\n",
    "Z.applyfunc(lambda c: c.simplify())"
   ]
  },
  {
   "cell_type": "code",
   "execution_count": 153,
   "metadata": {
    "collapsed": false
   },
   "outputs": [
    {
     "data": {
      "image/png": "[encoded data removed]",
      "text/latex": [
       "$$g{\\left (z \\right )} = \\frac{z}{2 \\lambda_{2}} - \\frac{z}{2 \\lambda_{1}} - \\frac{1}{\\lambda_{2}} + \\frac{2}{\\lambda_{1}}$$"
      ],
      "text/plain": [
       "            z              z             1            2     \n",
       "g(z) = ──────────── - ──────────── - ────────── + ──────────\n",
       "       2⋅\\lambda[2]   2⋅\\lambda[1]   \\lambda[2]   \\lambda[1]"
      ]
     },
     "execution_count": 153,
     "metadata": {},
     "output_type": "execute_result"
    }
   ],
   "source": [
    "g = g_poly(Eq(Function('f')(z), 1/z), eigendata, component_polynomials)\n",
    "g"
   ]
  },
  {
   "cell_type": "code",
   "execution_count": 154,
   "metadata": {
    "collapsed": false
   },
   "outputs": [
    {
     "data": {
      "image/png": "[encoded data removed]",
      "text/latex": [
       "$$g{\\left (z \\right )} = - \\frac{z}{8} + \\frac{3}{4}$$"
      ],
      "text/plain": [
       "         z   3\n",
       "g(z) = - ─ + ─\n",
       "         8   4"
      ]
     },
     "execution_count": 154,
     "metadata": {},
     "output_type": "execute_result"
    }
   ],
   "source": [
    "g = g.subs(eigenvals)\n",
    "g"
   ]
  },
  {
   "cell_type": "code",
   "execution_count": 155,
   "metadata": {
    "collapsed": false
   },
   "outputs": [
    {
     "data": {
      "image/png": "[encoded data removed]",
      "text/latex": [
       "$$\\left[\\begin{matrix}\\frac{3}{8} & - \\frac{1}{8}\\\\- \\frac{1}{8} & \\frac{3}{8}\\end{matrix}\\right]$$"
      ],
      "text/plain": [
       "⎡3/8   -1/8⎤\n",
       "⎢          ⎥\n",
       "⎣-1/8  3/8 ⎦"
      ]
     },
     "execution_count": 155,
     "metadata": {},
     "output_type": "execute_result"
    }
   ],
   "source": [
    "gpp = poly(g.rhs, z)\n",
    "Z = zeros(m.rows)\n",
    "for d in range(gpp.degree()+1):\n",
    "    coeff = g.rhs.coeff(z, d)\n",
    "    Z += coeff*m**d\n",
    "Z.applyfunc(lambda c: c.simplify())"
   ]
  },
  {
   "cell_type": "markdown",
   "metadata": {},
   "source": [
    "---"
   ]
  },
  {
   "cell_type": "code",
   "execution_count": 119,
   "metadata": {
    "collapsed": true
   },
   "outputs": [],
   "source": [
    "p = Function('p')\n",
    "y, c, z = IndexedBase('y'),IndexedBase('c'), IndexedBase('z')"
   ]
  },
  {
   "cell_type": "code",
   "execution_count": 120,
   "metadata": {
    "collapsed": false
   },
   "outputs": [
    {
     "data": {
      "image/png": "[encoded data removed]",
      "text/latex": [
       "$$p{\\left (z \\right )} = z^{2} - z - 1$$"
      ],
      "text/plain": [
       "        2        \n",
       "p(z) = z  - z - 1"
      ]
     },
     "execution_count": 120,
     "metadata": {},
     "output_type": "execute_result"
    }
   ],
   "source": [
    "fibonacci_poly = Eq(p(z), z**2 -z -1)\n",
    "fibonacci_poly"
   ]
  },
  {
   "cell_type": "code",
   "execution_count": 121,
   "metadata": {
    "collapsed": false
   },
   "outputs": [
    {
     "data": {
      "image/png": "[encoded data removed]",
      "text/latex": [
       "$$\\left \\{ z_{1} : \\frac{1}{2} \\left(1 + \\sqrt{5}\\right), \\quad z_{2} : - \\frac{1}{2} \\left(-1 + \\sqrt{5}\\right)\\right \\}$$"
      ],
      "text/plain": [
       "⎧      1 + √5        -(-1 + √5) ⎫\n",
       "⎨z[1]: ──────, z[2]: ───────────⎬\n",
       "⎩        2                2     ⎭"
      ]
     },
     "execution_count": 121,
     "metadata": {},
     "output_type": "execute_result"
    }
   ],
   "source": [
    "zs = solve(fibonacci_poly.rhs, [z])\n",
    "zs ={z[i]:v for i, v in enumerate(map(factor, sorted(zs, reverse=True)), start=1)}\n",
    "zs"
   ]
  },
  {
   "cell_type": "code",
   "execution_count": 122,
   "metadata": {
    "collapsed": false
   },
   "outputs": [
    {
     "data": {
      "image/png": "[encoded data removed]",
      "text/latex": [
       "$$y_{n} = c_{1} z_{1}^{n} + c_{2} z_{2}^{n}$$"
      ],
      "text/plain": [
       "                n            n\n",
       "y[n] = c[1]⋅z[1]  + c[2]⋅z[2] "
      ]
     },
     "execution_count": 122,
     "metadata": {},
     "output_type": "execute_result"
    }
   ],
   "source": [
    "solution = Eq(y[n], c[1]*z[1]**n + c[2]*z[2]**n)\n",
    "solution"
   ]
  },
  {
   "cell_type": "code",
   "execution_count": 129,
   "metadata": {
    "collapsed": false
   },
   "outputs": [
    {
     "data": {
      "image/png": "[encoded data removed]",
      "text/latex": [
       "$$\\left [ 0 = c_{1} + c_{2}, \\quad 1 = c_{1} z_{1} + c_{2} z_{2}\\right ]$$"
      ],
      "text/plain": [
       "[0 = c[1] + c[2], 1 = c[1]⋅z[1] + c[2]⋅z[2]]"
      ]
     },
     "execution_count": 129,
     "metadata": {},
     "output_type": "execute_result"
    }
   ],
   "source": [
    "initial_conditions = {0:0, 1:1}\n",
    "system = [solution.subs({n:k}).subs({y[k]:v}) for k, v in initial_conditions.items()]\n",
    "system"
   ]
  },
  {
   "cell_type": "code",
   "execution_count": 130,
   "metadata": {
    "collapsed": false
   },
   "outputs": [
    {
     "data": {
      "image/png": "[encoded data removed]",
      "text/latex": [
       "$$\\left \\{ c_{1} : \\frac{1}{z_{1} - z_{2}}, \\quad c_{2} : - \\frac{1}{z_{1} - z_{2}}\\right \\}$$"
      ],
      "text/plain": [
       "⎧           1                 -1     ⎫\n",
       "⎨c[1]: ───────────, c[2]: ───────────⎬\n",
       "⎩      z[1] - z[2]        z[1] - z[2]⎭"
      ]
     },
     "execution_count": 130,
     "metadata": {},
     "output_type": "execute_result"
    }
   ],
   "source": [
    "instantiated_sols = solve(system, [c[1],c[2]])\n",
    "instantiated_sols"
   ]
  },
  {
   "cell_type": "code",
   "execution_count": 131,
   "metadata": {
    "collapsed": false
   },
   "outputs": [
    {
     "data": {
      "image/png": "[encoded data removed]",
      "text/latex": [
       "$$\\left \\{ c_{1} : \\frac{\\sqrt{5}}{5}, \\quad c_{2} : - \\frac{\\sqrt{5}}{5}\\right \\}$$"
      ],
      "text/plain": [
       "⎧      √5        -√5 ⎫\n",
       "⎨c[1]: ──, c[2]: ────⎬\n",
       "⎩      5          5  ⎭"
      ]
     },
     "execution_count": 131,
     "metadata": {},
     "output_type": "execute_result"
    }
   ],
   "source": [
    "coeffs = {k: v.subs({z[1]:z1, z[2]:z2}).factor() for k,v in instantiated_sols.items()}\n",
    "coeffs"
   ]
  },
  {
   "cell_type": "code",
   "execution_count": 132,
   "metadata": {
    "collapsed": false
   },
   "outputs": [
    {
     "data": {
      "image/png": "[encoded data removed]",
      "text/latex": [
       "$$y_{n} = \\frac{\\sqrt{5}}{5} \\left(\\frac{1}{2} \\left(1 + \\sqrt{5}\\right)\\right)^{n} - \\frac{\\sqrt{5}}{5} \\left(- \\frac{1}{2} \\left(-1 + \\sqrt{5}\\right)\\right)^{n}$$"
      ],
      "text/plain": [
       "                  n                   n\n",
       "          ⎛1 + √5⎞       ⎛-(-1 + √5) ⎞ \n",
       "       √5⋅⎜──────⎟    √5⋅⎜───────────⎟ \n",
       "          ⎝  2   ⎠       ⎝     2     ⎠ \n",
       "y[n] = ──────────── - ─────────────────\n",
       "            5                 5        "
      ]
     },
     "execution_count": 132,
     "metadata": {},
     "output_type": "execute_result"
    }
   ],
   "source": [
    "complete_sol = solution.subs(coeffs).subs(zs)\n",
    "complete_sol"
   ]
  },
  {
   "cell_type": "code",
   "execution_count": 133,
   "metadata": {
    "collapsed": false
   },
   "outputs": [
    {
     "data": {
      "image/png": "[encoded data removed]",
      "text/latex": [
       "$$\\left [ y_{0} = 0, \\quad y_{1} = 1, \\quad y_{2} = 1, \\quad y_{3} = 2, \\quad y_{4} = 3, \\quad y_{5} = 5, \\quad y_{6} = 8, \\quad y_{7} = 13, \\quad y_{8} = 21, \\quad y_{9} = 34, \\quad y_{10} = 55, \\quad y_{11} = 89, \\quad y_{12} = 144, \\quad y_{13} = 233, \\quad y_{14} = 377\\right ]$$"
      ],
      "text/plain": [
       "[y[0] = 0, y[1] = 1, y[2] = 1, y[3] = 2, y[4] = 3, y[5] = 5, y[6] = 8, y[7] = \n",
       "13, y[8] = 21, y[9] = 34, y[10] = 55, y[11] = 89, y[12] = 144, y[13] = 233, y[\n",
       "14] = 377]"
      ]
     },
     "execution_count": 133,
     "metadata": {},
     "output_type": "execute_result"
    }
   ],
   "source": [
    "[complete_sol.subs(n,i).factor() for i in range(15)]"
   ]
  },
  {
   "cell_type": "code",
   "execution_count": null,
   "metadata": {
    "collapsed": true
   },
   "outputs": [],
   "source": []
  }
 ],
 "metadata": {
  "kernelspec": {
   "display_name": "Python 3",
   "language": "python",
   "name": "python3"
  },
  "language_info": {
   "codemirror_mode": {
    "name": "ipython",
    "version": 3
   },
   "file_extension": ".py",
   "mimetype": "text/x-python",
   "name": "python",
   "nbconvert_exporter": "python",
   "pygments_lexer": "ipython3",
   "version": "3.5.2"
  }
 },
 "nbformat": 4,
 "nbformat_minor": 1
}
