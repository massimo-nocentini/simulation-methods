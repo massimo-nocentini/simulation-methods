{
 "cells": [
  {
   "cell_type": "markdown",
   "metadata": {
    "deletable": true,
    "editable": true
   },
   "source": [
    "<p>\n",
    "<img src=\"http://www.cerm.unifi.it/chianti/images/logo%20unifi_positivo.jpg\" \n",
    "        alt=\"UniFI logo\" style=\"float: left; width: 20%; height: 20%;\">\n",
    "<div align=\"right\">\n",
    "Massimo Nocentini<br>\n",
    "<small>\n",
    "<br>October 22, 2016: Horner method, binomial anti-difference\n",
    "<br>October 9, 2016: computing sums, Stirling numbers, thms coding\n",
    "<br>October 7, 2016: operators and powers theory\n",
    "</small>\n",
    "</div>\n",
    "</p>\n",
    "<br>\n",
    "<div align=\"center\">\n",
    "<b>Abstract</b><br>\n",
    "In this document we collect notes and exercises for the first chapter of the course.\n",
    "</div>"
   ]
  },
  {
   "cell_type": "code",
   "execution_count": 1,
   "metadata": {
    "collapsed": true,
    "deletable": true,
    "editable": true
   },
   "outputs": [],
   "source": [
    "from sympy import *\n",
    "from sympy.abc import n, i, N, x, k, y\n",
    "\n",
    "init_printing()"
   ]
  },
  {
   "cell_type": "code",
   "execution_count": 2,
   "metadata": {
    "collapsed": true,
    "deletable": true,
    "editable": true
   },
   "outputs": [],
   "source": [
    "%run src/commons.py"
   ]
  },
  {
   "cell_type": "markdown",
   "metadata": {
    "deletable": true,
    "editable": true
   },
   "source": [
    "---"
   ]
  },
  {
   "cell_type": "code",
   "execution_count": 3,
   "metadata": {
    "collapsed": false,
    "deletable": true,
    "editable": true
   },
   "outputs": [],
   "source": [
    "delta, antidifference, I, E, f = symbols(r'\\Delta \\Delta^{-1} I E f', cls=Function) # combinators"
   ]
  },
  {
   "cell_type": "code",
   "execution_count": 4,
   "metadata": {
    "collapsed": false,
    "deletable": true,
    "editable": true
   },
   "outputs": [
    {
     "data": {
      "image/png": "[encoded data removed]",
      "text/latex": [
       "$$\\left ( I{\\left (x \\right )} = x, \\quad E{\\left (x \\right )} = x + 1\\right )$$"
      ],
      "text/plain": [
       "(I(x) = x, E(x) = x + 1)"
      ]
     },
     "execution_count": 4,
     "metadata": {},
     "output_type": "execute_result"
    }
   ],
   "source": [
    "I_eval_rule = define(I(x), x) # identity\n",
    "E_eval_rule = define(E(x),x+1) # forward shift\n",
    "\n",
    "I_eval_rule, E_eval_rule"
   ]
  },
  {
   "cell_type": "code",
   "execution_count": 5,
   "metadata": {
    "collapsed": false,
    "deletable": true,
    "editable": true
   },
   "outputs": [
    {
     "data": {
      "image/png": "[encoded data removed]",
      "text/latex": [
       "$$\\left ( \\Delta{\\left (f{\\left (x \\right )} \\right )} = - f{\\left (x \\right )} + f{\\left (x + 1 \\right )}, \\quad \\Delta^{k}{\\left (f{\\left (x \\right )} \\right )} = \\Delta{\\left (\\Delta^{k - 1}{\\left (f{\\left (x \\right )} \\right )} \\right )}\\right )$$"
      ],
      "text/plain": [
       "⎛                                       k               ⎛      k - 1      ⎞⎞\n",
       "⎝\\Delta(f(x)) = -f(x) + f(x + 1), \\Delta (f(x)) = \\Delta⎝\\Delta     (f(x))⎠⎠"
      ]
     },
     "execution_count": 5,
     "metadata": {},
     "output_type": "execute_result"
    }
   ],
   "source": [
    "delta_eval_rule = define(delta(f(x)), f(x+1)-f(x),) # forward difference def\n",
    "delta_pow_rule = define(delta(f(x))**k, delta(delta(f(x))**(k-1)),) # repeated applications of differentiation\n",
    "\n",
    "delta_eval_rule, delta_pow_rule"
   ]
  },
  {
   "cell_type": "code",
   "execution_count": 6,
   "metadata": {
    "collapsed": false,
    "deletable": true,
    "editable": true
   },
   "outputs": [
    {
     "data": {
      "image/png": "[encoded data removed]",
      "text/latex": [
       "$$\\Delta{\\left (x \\right )} = E{\\left (x \\right )} - I{\\left (x \\right )}$$"
      ],
      "text/plain": [
       "\\Delta(x) = E(x) - I(x)"
      ]
     },
     "execution_count": 6,
     "metadata": {},
     "output_type": "execute_result"
    }
   ],
   "source": [
    "delta_EI_conv = define(delta(x), E(x)-I(x)) # conversion via combinators\n",
    "\n",
    "delta_EI_conv"
   ]
  },
  {
   "cell_type": "code",
   "execution_count": 7,
   "metadata": {
    "collapsed": false,
    "deletable": true,
    "editable": true
   },
   "outputs": [],
   "source": [
    "def rewrite(eq, rule, **kwds):\n",
    "    return eq.replace(query=rule.lhs, value=rule.rhs, **kwds)"
   ]
  },
  {
   "cell_type": "code",
   "execution_count": 8,
   "metadata": {
    "collapsed": false,
    "deletable": true,
    "editable": true
   },
   "outputs": [
    {
     "data": {
      "image/png": "[encoded data removed]",
      "text/latex": [
       "$$\\Delta{\\left ({\\left(x\\right)}_{n} \\right )} = - {\\left(x\\right)}_{n} + {\\left(x + 1\\right)}_{n}$$"
      ],
      "text/plain": [
       "\\Delta(FallingFactorial(x, n)) = -FallingFactorial(x, n) + FallingFactorial(x \n",
       "+ 1, n)"
      ]
     },
     "execution_count": 8,
     "metadata": {},
     "output_type": "execute_result"
    }
   ],
   "source": [
    "s = Wild('s')\n",
    "rewrite(delta_eval_rule, define(f, Lambda([s], ff(s,n))))"
   ]
  },
  {
   "cell_type": "code",
   "execution_count": 9,
   "metadata": {
    "collapsed": false,
    "deletable": true,
    "editable": true
   },
   "outputs": [
    {
     "data": {
      "image/png": "[encoded data removed]",
      "text/latex": [
       "$$\\Delta^{k}{\\left (f{\\left (x \\right )} \\right )} = \\Delta{\\left (\\Delta^{k - 1}{\\left (f{\\left (x \\right )} \\right )} \\right )}$$"
      ],
      "text/plain": [
       "      k               ⎛      k - 1      ⎞\n",
       "\\Delta (f(x)) = \\Delta⎝\\Delta     (f(x))⎠"
      ]
     },
     "execution_count": 9,
     "metadata": {},
     "output_type": "execute_result"
    }
   ],
   "source": [
    "f_wild = WildFunction('f')\n",
    "D=define(delta(f_wild**k), delta(delta(f_wild**(k-1))))\n",
    "rewrite(delta_pow_rule, D)"
   ]
  },
  {
   "cell_type": "code",
   "execution_count": 10,
   "metadata": {
    "collapsed": false,
    "deletable": true,
    "editable": true
   },
   "outputs": [],
   "source": [
    "class ForwardDifference(Function):\n",
    "    \n",
    "    def _latex(self, *_):\n",
    "        if len(self.args) < 2:\n",
    "            func, args = self.args[0].func, self.args[0].args\n",
    "            v = args[0]\n",
    "        else:\n",
    "            func, args = self.args[0].func, self.args[0].args\n",
    "            v = self.args[1]\n",
    "            \n",
    "        D = Function(r'\\Delta_{{{}}}'.format(latex(v)))\n",
    "        expr = D(func(*args))\n",
    "        return latex(expr)\n",
    "    \n",
    "    def doit(self):\n",
    "        \n",
    "        if len(self.args) < 2:\n",
    "            func, args = self.args[0].func, self.args[0].args\n",
    "            v = args[0]\n",
    "        else:\n",
    "            func, args = self.args[0].func, self.args[0].args\n",
    "            v = self.args[1]\n",
    "            \n",
    "        return func(*map(lambda a: a.subs({v:v+1}, simulataneous=True),args)) - func(*args)\n",
    "                \n",
    "    def _e2val_power(self, k):\n",
    "        if k.is_Number:\n",
    "            return ForwardDifference(Pow(ForwardDifference(self.args), k-1, evaluate=False))\n",
    "        else:\n",
    "            return super()._eval_power(k)"
   ]
  },
  {
   "cell_type": "markdown",
   "metadata": {
    "deletable": true,
    "editable": true
   },
   "source": [
    "# know the difference\n",
    "Let $\\{y_{n}\\}_{n\\in\\mathbb{N}}$ be a sequence, where $y_{n}=f(n)$ for some function $f$. Assume that each coefficient $y_{n}$ *is not known*; on the contrary, assume that there exists a *known* sequence $\\{g_{n}\\}_{n\\in\\mathbb{N}}$ which satisfies:\n",
    "$$\n",
    "\\begin{equation}\n",
    "\\Delta y_{n} = y_{n+1}-y_{n}=g_{n}\n",
    "\\end{equation}\n",
    "$$\n",
    "By finite summation on both sides:\n",
    "$$\n",
    "\\sum_{n=n_{0}}^{N-1}{\\Delta y_{n}} = \\sum_{n=n_{0}}^{N-1}{g_{n}}\n",
    "$$\n",
    "many terms in the lhs disappear, so:\n",
    "$$\n",
    "y_{N}-y_{n_{0}} = \\sum_{n=n_{0}}^{N-1}{g_{n}}\n",
    "$$\n",
    "therefore, if the initial term $y_{n_{0}}$ is given, we can compute any term $y_{N}$ by:\n",
    "$$\n",
    "y_{N} = y_{n_{0}} + \\sum_{n=n_{0}}^{N-1}{g_{n}}\n",
    "$$\n",
    "since each term $g_{n}$ is known by hypothesis and the summation can be done."
   ]
  },
  {
   "cell_type": "markdown",
   "metadata": {
    "deletable": true,
    "editable": true
   },
   "source": [
    "## a little generalization\n",
    "\n",
    "Consider an additional known sequence $\\{p_{n}\\}_{n\\in\\mathbb{N}}$ and we're required to find a solution for  equation: $ y_{n+1} = p_{n}y_{n} + g_{n} $. So define an helper sequence $\\{P_{n}\\}_{n\\in\\mathbb{N}}$ such that $P_{n_{0}}=1$ and $P_{n}=p_{n-1}P_{n-1}$, therefore $P_{n}=\\prod_{k=n_{0}}^{n-1}{p_{k}}$ holds by induction. Now study the following:\n",
    "\n",
    "$$\n",
    "    \\frac{y_{n+1}}{P_{n+1}} = \\frac{p_{n}y_{n}}{P_{n+1}} + \\frac{g_{n}}{P_{n+1}} \n",
    "    = \\frac{y_{n}}{P_{n}} + \\frac{g_{n}}{P_{n+1}} \n",
    "$$\n",
    "\n",
    "calling $z_{n}=\\frac{y_{n}}{P_{n}}$ and $q_{n}=\\frac{g_{n}}{P_{n+1}}$, it yields: $z_{n+1} = z_{n}+q_{n}$, with initial condition $z_{n_{0}} = \\frac{y_{n_{0}}}{P_{n_{0}}} = y_{n_{0}}$. So we've a recurrence in a simpler form, whose solution is a sequence $\\{z_{n}\\}_{n\\in\\mathbb{N}}$ such that $z_{n} = z_{n_{0}} + \\sum_{i=n_{0}}^{n-1}{q_{i}}$. By backward substitution:\n",
    "\n",
    "$$\n",
    "\\begin{split}\n",
    "    \\frac{y_{n}}{P_{n}} &= y_{n_{0}} + \\sum_{i=n_{0}}^{n-1}{\\frac{g_{i}}{P_{i+1}}} \\\\\n",
    "    y_{n} &= P_{n}y_{n_{0}} + \\sum_{i=n_{0}}^{n-1}{\\frac{P_{n}g_{i}}{P_{i+1}}} \\\\\n",
    "    y_{n} &= \\left(\\prod_{k=n_{0}}^{n-1}{p_{k}}\\right)y_{n_{0}} + \n",
    "        \\sum_{i=n_{0}}^{n-1}{\\left(\\prod_{k=i+1}^{n-1}{p_{k}}\\right)g_{i}} \\\\\n",
    "\\end{split}\n",
    "$$\n",
    "\n",
    "which is the closed form for coefficients of solution sequence $\\{y_{n}\\}_{n\\in\\mathbb{N}}$."
   ]
  },
  {
   "cell_type": "markdown",
   "metadata": {
    "deletable": true,
    "editable": true
   },
   "source": [
    "### Horner method\n",
    "\n",
    "Let $p\\in\\prod_{n}$ be a polynomial over coefficients $\\{b_{n}\\in\\mathbb{C}\\}_{n\\in\\mathbb{N}}$, defined as $p(x)=\\sum_{i=0}^{n}{b_{i}x^{n-i}}$. Define the difference equation $y_{i} = xy_{i-1} + b_{i}$, for $i\\in\\{1,\\ldots,n\\}$, with initial condition $y_{0}=b_{0}$; therefore, $y_{n}=p(x)$ holds.\n",
    "\n",
    "In order to see this, recognize that we have a recurrence of the last form where $p_{i}=x$ and $g_{i}=b_{i+1}$ forall $i$ in the domain, therefore its solution has the generic coefficient $y_{n}$ which satisfies:\n",
    "\n",
    "$$\n",
    "    y_{n} = \\left(\\prod_{k=n_{0}}^{n-1}{x}\\right)b_{0} + \n",
    "        \\sum_{i=n_{0}}^{n-1}{\\left(\\prod_{k=i+1}^{n-1}{x}\\right)b_{i+1}}\n",
    "        = x^{n}b_{0} + \\sum_{i=0}^{n-1}{x^{n-1-(i+1)+1}b_{i+1}} =\n",
    "        = x^{n}b_{0} + \\sum_{i=1}^{n}{x^{n-i}b_{i}} = \\sum_{i=0}^{n}{x^{n-i}b_{i}} = p(x)\n",
    "$$\n",
    "\n",
    "as required."
   ]
  },
  {
   "cell_type": "markdown",
   "metadata": {
    "deletable": true,
    "editable": true
   },
   "source": [
    "# $\\Delta$ operator relations\n",
    "\n",
    "On the other hand, assume that no initial condition $y_{n_{0}}$ is given, we obtain $y_{n}$ on the lhs by application of the *anti-difference* operator $\\Delta^{-1}$ on the left in both members $\\Delta y_{n}=g_{n}$ so \n",
    "$y_{n} = \\Delta^{-1}g_{n}$. Use this identity as rewriting rule and apply it to the former equation, obtaining $\\Delta\\Delta^{-1}g_{n}=g_{n}$, therefore the relation $\\Delta\\Delta^{-1}=I$ on operators holds.\n",
    "\n",
    "Moreover, let $\\{w_{n}\\}_{n\\in\\mathbb{N}}$ be a constant sequence, so we can augment:\n",
    "$$\n",
    "y_{n} = \\Delta^{-1}g_{n} + w_{n} = \\Delta^{-1}\\Delta y_{n} + w_{n}\n",
    "$$\n",
    "because $\\Delta w_{n}=0$, therefore the relation $\\Delta^{-1}\\Delta = I - K$, where $K$ is the constant operator, holds."
   ]
  },
  {
   "cell_type": "markdown",
   "metadata": {
    "deletable": true,
    "editable": true
   },
   "source": [
    "# computing sums via $\\Delta^{-1}$\n",
    "\n",
    "Let $g_{n}=\\Delta y_{n}$ and assume to *not* have a closed formula in $n$ for coefficients $y_{n}$, but to *know* that $y_{n}=\\Delta^{-1}g_{n}$ holds. Apply summation on both members and manipulating on the rhs:\n",
    "$$\n",
    "\\sum_{n=n_{0}}^{N-1}{g_{n}} = \\sum_{n=n_{0}}^{N-1}{\\Delta y_{n}} \n",
    "= y_{N}-y_{n_{0}} =  y_{n} \\big|_{n_{0}}^{N} = \\Delta^{-1}g_{n} \\big|_{n_{0}}^{N} = \\Delta^{-1}g_{n} \\big|_{n=N} - \\Delta^{-1}g_{n} \\big|_{n=n_{0}}\n",
    "$$\n",
    "therefore, if we have an *unknown* sequence $\\{g_{n}\\}_{n\\in\\mathbb{N}}$, which has a closed-form of \n",
    "$\\Delta^{-1}g_{n}$ as a term which support *substitution* of symbol $n$, so the sum $\\sum_{n=n_{0}}^{N-1}{g_{n}}$ can be easily computed by a difference, as done in the fundamental theorem of calculus."
   ]
  },
  {
   "cell_type": "code",
   "execution_count": 79,
   "metadata": {
    "collapsed": false,
    "deletable": true,
    "editable": true
   },
   "outputs": [],
   "source": [
    "g = IndexedBase('g')\n",
    "n = IndexedBase('n')\n",
    "f = Function('f')\n",
    "\n",
    "anti_difference = Function('\\Delta^{-1}')\n",
    "\n",
    "def accept_replacing(thm_ctor):\n",
    "    \n",
    "    def replacing(subs=lambda *args: {}, **kwds):\n",
    "    \n",
    "        weq, variables = thm_ctor(**kwds)\n",
    "        mapping = subs(*variables) if callable(subs) else subs\n",
    "        for k,v in mapping.items():\n",
    "            weq = weq.replace(k, v, simultaneous=True)\n",
    "        \n",
    "        return weq, [mapping.get(v, v) for v in variables]\n",
    "        \n",
    "    return replacing\n",
    "        \n",
    "@accept_replacing\n",
    "def summation_antidifference_thm():\n",
    "\n",
    "    (n, sup), inf = symbols('n N'), IndexedBase('n')[0]\n",
    "    eq = Eq(Sum(g[n], (n, inf, sup-1)), \n",
    "            Subs(anti_difference(g[n]), n, sup) - \n",
    "            Subs(anti_difference(g[n]), n, inf))\n",
    "    \n",
    "    return eq, (g, n, inf, sup)\n",
    "\n",
    "@accept_replacing\n",
    "def antidifference_of_ff_thm():\n",
    "    (n, i), w = symbols('n i'), IndexedBase('w')\n",
    "    eq = Eq(anti_difference(ff(n, i)), ff(n, i+1)/(i+1)+w[n])\n",
    "    return eq, (x, n, w)\n",
    "\n",
    "@accept_replacing\n",
    "def antidifference_of_binomial_thm():\n",
    "    (n, k), w = symbols('n k'), IndexedBase('w')\n",
    "    eq = Eq(anti_difference(binomial(n, k)), binomial(n, k+1)+w[n])\n",
    "    return eq, (x, n, w)\n",
    "\n",
    "@accept_replacing\n",
    "def constant_sequence_thm():\n",
    "    variables = w, i, j = IndexedBase('w'), *symbols('i j')\n",
    "    eq = Eq(w[i], w[j])\n",
    "    return eq, (w, i, j)\n",
    "\n",
    "def doit(thm, lhs=True, rhs=True):\n",
    "    eq, *variables = thm\n",
    "    return Eq(eq.lhs.doit() if lhs else eq.lhs, eq.rhs.doit() if rhs else eq.rhs), variables\n",
    "\n",
    "def rewrite(thm, rule, include_rule_vars=False):\n",
    "\n",
    "    eq, *rest = thm\n",
    "    try:\n",
    "        rw, *others = rule # so, `rule` can be a thm too\n",
    "    except:\n",
    "        rw, *others = rule, []\n",
    "    \n",
    "    augmented = []\n",
    "    augmented.extend(*rest)\n",
    "    if include_rule_vars: augmented.extend(*others)\n",
    "    return eq.replace(rw.lhs, rw.rhs, simultaneous=True), augmented\n",
    "\n"
   ]
  },
  {
   "cell_type": "code",
   "execution_count": 5,
   "metadata": {
    "collapsed": false,
    "deletable": true,
    "editable": true
   },
   "outputs": [
    {
     "data": {
      "image/png": "[encoded data removed]",
      "text/latex": [
       "$$\\left ( \\sum_{n=n_{0}}^{N - 1} g_{n} = \\left. \\Delta^{-1}{\\left (g_{n} \\right )} \\right|_{\\substack{ n=N }} - \\left. \\Delta^{-1}{\\left (g_{n} \\right )} \\right|_{\\substack{ n=n_{0} }}, \\quad \\left [ g, \\quad n, \\quad n_{0}, \\quad N\\right ]\\right )$$"
      ],
      "text/plain": [
       "⎛ N - 1                                                                       \n",
       "⎜  ___                                                                        \n",
       "⎜  ╲                                                                          \n",
       "⎜   ╲     g[n]                                                                \n",
       "⎜   ╱          = (\\Delta__{-1}(g[n]))│    - (\\Delta__{-1}(g[n]))│      , [g, n\n",
       "⎜  ╱                                 │n=N                       │n=n[0]       \n",
       "⎜  ‾‾‾                                                                        \n",
       "⎝n = n[0]                                                                     \n",
       "\n",
       "          ⎞\n",
       "          ⎟\n",
       "          ⎟\n",
       "          ⎟\n",
       ", n[0], N]⎟\n",
       "          ⎟\n",
       "          ⎟\n",
       "          ⎠"
      ]
     },
     "execution_count": 5,
     "metadata": {},
     "output_type": "execute_result"
    }
   ],
   "source": [
    "thm = eq, (g, n, inf, sup) = summation_antidifference_thm()\n",
    "thm"
   ]
  },
  {
   "cell_type": "markdown",
   "metadata": {
    "deletable": true,
    "editable": true
   },
   "source": [
    "## $(x)_{i}$ application"
   ]
  },
  {
   "cell_type": "code",
   "execution_count": 6,
   "metadata": {
    "collapsed": false,
    "deletable": true,
    "editable": true
   },
   "outputs": [
    {
     "data": {
      "image/png": "[encoded data removed]",
      "text/latex": [
       "$$\\left ( g_{n} = {\\left(n\\right)}_{i}, \\quad \\left ( g, \\quad n, \\quad i\\right )\\right )$$"
      ],
      "text/plain": [
       "(g[n] = FallingFactorial(n, i), (g, n, i))"
      ]
     },
     "execution_count": 6,
     "metadata": {},
     "output_type": "execute_result"
    }
   ],
   "source": [
    "local_thm = Eq(g[n], ff(n,i)), (g, n, i)\n",
    "local_thm"
   ]
  },
  {
   "cell_type": "code",
   "execution_count": 7,
   "metadata": {
    "collapsed": false,
    "deletable": true,
    "editable": true
   },
   "outputs": [
    {
     "data": {
      "image/png": "[encoded data removed]",
      "text/latex": [
       "$$\\left ( \\sum_{n=n_{0}}^{N - 1} {\\left(n\\right)}_{i} = \\left. \\Delta^{-1}{\\left ({\\left(n\\right)}_{i} \\right )} \\right|_{\\substack{ n=N }} - \\left. \\Delta^{-1}{\\left ({\\left(n\\right)}_{i} \\right )} \\right|_{\\substack{ n=n_{0} }}, \\quad \\left [ g, \\quad n, \\quad n_{0}, \\quad N\\right ]\\right )$$"
      ],
      "text/plain": [
       "⎛ N - 1                                                                       \n",
       "⎜  ___                                                                        \n",
       "⎜  ╲                                                                          \n",
       "⎜   ╲     FallingFactorial(n, i)                                              \n",
       "⎜   ╱                            = (\\Delta__{-1}(FallingFactorial(n, i)))│    \n",
       "⎜  ╱                                                                     │n=N \n",
       "⎜  ‾‾‾                                                                        \n",
       "⎝n = n[0]                                                                     \n",
       "\n",
       "                                                                ⎞\n",
       "                                                                ⎟\n",
       "                                                                ⎟\n",
       "                                                                ⎟\n",
       "- (\\Delta__{-1}(FallingFactorial(n, i)))│      , [g, n, n[0], N]⎟\n",
       "                                        │n=n[0]                 ⎟\n",
       "                                                                ⎟\n",
       "                                                                ⎠"
      ]
     },
     "execution_count": 7,
     "metadata": {},
     "output_type": "execute_result"
    }
   ],
   "source": [
    "inst_thm = rewrite(thm, local_thm)\n",
    "inst_thm"
   ]
  },
  {
   "cell_type": "code",
   "execution_count": 8,
   "metadata": {
    "collapsed": false,
    "deletable": true,
    "editable": true
   },
   "outputs": [
    {
     "data": {
      "image/png": "[encoded data removed]",
      "text/latex": [
       "$$\\left ( \\Delta^{-1}{\\left ({\\left(n\\right)}_{i} \\right )} = w_{n} + \\frac{{\\left(n\\right)}_{\\left(i + 1\\right)}}{i + 1}, \\quad \\left [ x, \\quad n, \\quad w\\right ]\\right )$$"
      ],
      "text/plain": [
       "⎛                                              FallingFactorial(n, i + 1)     \n",
       "⎜\\Delta__{-1}(FallingFactorial(n, i)) = w[n] + ──────────────────────────, [x,\n",
       "⎝                                                        i + 1                \n",
       "\n",
       "      ⎞\n",
       " n, w]⎟\n",
       "      ⎠"
      ]
     },
     "execution_count": 8,
     "metadata": {},
     "output_type": "execute_result"
    }
   ],
   "source": [
    "ant_ff_thm = antidifference_of_ff_thm(subs={})\n",
    "ant_ff_thm"
   ]
  },
  {
   "cell_type": "code",
   "execution_count": 9,
   "metadata": {
    "collapsed": false,
    "deletable": true,
    "editable": true
   },
   "outputs": [
    {
     "data": {
      "image/png": "[encoded data removed]",
      "text/latex": [
       "$$\\left ( \\sum_{n=n_{0}}^{N - 1} {\\left(n\\right)}_{i} = \\left. w_{n} + \\frac{{\\left(n\\right)}_{\\left(i + 1\\right)}}{i + 1} \\right|_{\\substack{ n=N }} - \\left. w_{n} + \\frac{{\\left(n\\right)}_{\\left(i + 1\\right)}}{i + 1} \\right|_{\\substack{ n=n_{0} }}, \\quad \\left [ g, \\quad n, \\quad n_{0}, \\quad N\\right ]\\right )$$"
      ],
      "text/plain": [
       "⎛ N - 1                                                                       \n",
       "⎜  ___                                                                        \n",
       "⎜  ╲                                                                          \n",
       "⎜   ╲     FallingFactorial(n, i)   ⎛       FallingFactorial(n, i + 1)⎞│      ⎛\n",
       "⎜   ╱                            = ⎜w[n] + ──────────────────────────⎟│    - ⎜\n",
       "⎜  ╱                               ⎝                 i + 1           ⎠│n=N   ⎝\n",
       "⎜  ‾‾‾                                                                        \n",
       "⎝n = n[0]                                                                     \n",
       "\n",
       "                                                          ⎞\n",
       "                                                          ⎟\n",
       "                                                          ⎟\n",
       "       FallingFactorial(n, i + 1)⎞│                       ⎟\n",
       "w[n] + ──────────────────────────⎟│      , [g, n, n[0], N]⎟\n",
       "                 i + 1           ⎠│n=n[0]                 ⎟\n",
       "                                                          ⎟\n",
       "                                                          ⎠"
      ]
     },
     "execution_count": 9,
     "metadata": {},
     "output_type": "execute_result"
    }
   ],
   "source": [
    "ready_thm = eq, *_ = rewrite(inst_thm, ant_ff_thm)\n",
    "ready_thm"
   ]
  },
  {
   "cell_type": "code",
   "execution_count": 10,
   "metadata": {
    "collapsed": false,
    "deletable": true,
    "editable": true
   },
   "outputs": [
    {
     "data": {
      "image/png": "[encoded data removed]",
      "text/latex": [
       "$$\\left ( \\sum_{n=n_{0}}^{N - 1} {\\left(n\\right)}_{i} = w_{N} - w_{n_{0}} + \\frac{{\\left(N\\right)}_{\\left(i + 1\\right)}}{i + 1} - \\frac{{\\left(n_{0}\\right)}_{\\left(i + 1\\right)}}{i + 1}, \\quad \\left [ \\left [ g, \\quad n, \\quad n_{0}, \\quad N\\right ]\\right ]\\right )$$"
      ],
      "text/plain": [
       "⎛ N - 1                                                                       \n",
       "⎜  ___                                                                        \n",
       "⎜  ╲                                                                          \n",
       "⎜   ╲     FallingFactorial(n, i)                    FallingFactorial(N, i + 1)\n",
       "⎜   ╱                            = w[N] - w[n[0]] + ──────────────────────────\n",
       "⎜  ╱                                                          i + 1           \n",
       "⎜  ‾‾‾                                                                        \n",
       "⎝n = n[0]                                                                     \n",
       "\n",
       "                                                   ⎞\n",
       "                                                   ⎟\n",
       "                                                   ⎟\n",
       "   FallingFactorial(n[0], i + 1)                   ⎟\n",
       " - ─────────────────────────────, [[g, n, n[0], N]]⎟\n",
       "               i + 1                               ⎟\n",
       "                                                   ⎟\n",
       "                                                   ⎠"
      ]
     },
     "execution_count": 10,
     "metadata": {},
     "output_type": "execute_result"
    }
   ],
   "source": [
    "done_thm = doit(ready_thm, lhs=False)\n",
    "done_thm"
   ]
  },
  {
   "cell_type": "markdown",
   "metadata": {
    "deletable": true,
    "editable": true
   },
   "source": [
    "## ${{n}\\choose{k}}$ application"
   ]
  },
  {
   "cell_type": "code",
   "execution_count": 11,
   "metadata": {
    "collapsed": false,
    "deletable": true,
    "editable": true
   },
   "outputs": [
    {
     "data": {
      "image/png": "[encoded data removed]",
      "text/latex": [
       "$$\\left ( g_{n} = {\\binom{n}{k}}, \\quad \\left ( g, \\quad n, \\quad k\\right )\\right )$$"
      ],
      "text/plain": [
       "⎛       ⎛n⎞           ⎞\n",
       "⎜g[n] = ⎜ ⎟, (g, n, k)⎟\n",
       "⎝       ⎝k⎠           ⎠"
      ]
     },
     "execution_count": 11,
     "metadata": {},
     "output_type": "execute_result"
    }
   ],
   "source": [
    "local_thm = Eq(g[n], binomial(n,k)), (g, n, k)\n",
    "local_thm"
   ]
  },
  {
   "cell_type": "code",
   "execution_count": 12,
   "metadata": {
    "collapsed": false,
    "deletable": true,
    "editable": true
   },
   "outputs": [
    {
     "data": {
      "image/png": "[encoded data removed]",
      "text/latex": [
       "$$\\left ( \\sum_{n=n_{0}}^{N - 1} {\\binom{n}{k}} = \\left. \\Delta^{-1}{\\left ({\\binom{n}{k}} \\right )} \\right|_{\\substack{ n=N }} - \\left. \\Delta^{-1}{\\left ({\\binom{n}{k}} \\right )} \\right|_{\\substack{ n=n_{0} }}, \\quad \\left [ g, \\quad n, \\quad n_{0}, \\quad N\\right ]\\right )$$"
      ],
      "text/plain": [
       "⎛ N - 1                                                                       \n",
       "⎜  ____                                                                       \n",
       "⎜  ╲                                                                          \n",
       "⎜   ╲     ⎛n⎞                                                                 \n",
       "⎜    ╲    ⎜ ⎟   ⎛            ⎛⎛n⎞⎞⎞│      ⎛            ⎛⎛n⎞⎞⎞│                \n",
       "⎜    ╱    ⎝k⎠ = ⎜\\Delta__{-1}⎜⎜ ⎟⎟⎟│    - ⎜\\Delta__{-1}⎜⎜ ⎟⎟⎟│      , [g, n, n\n",
       "⎜   ╱           ⎝            ⎝⎝k⎠⎠⎠│n=N   ⎝            ⎝⎝k⎠⎠⎠│n=n[0]          \n",
       "⎜  ╱                                                                          \n",
       "⎜  ‾‾‾‾                                                                       \n",
       "⎝n = n[0]                                                                     \n",
       "\n",
       "       ⎞\n",
       "       ⎟\n",
       "       ⎟\n",
       "       ⎟\n",
       "       ⎟\n",
       "[0], N]⎟\n",
       "       ⎟\n",
       "       ⎟\n",
       "       ⎟\n",
       "       ⎠"
      ]
     },
     "execution_count": 12,
     "metadata": {},
     "output_type": "execute_result"
    }
   ],
   "source": [
    "inst_thm = rewrite(thm, local_thm)\n",
    "inst_thm"
   ]
  },
  {
   "cell_type": "code",
   "execution_count": 15,
   "metadata": {
    "collapsed": false,
    "deletable": true,
    "editable": true
   },
   "outputs": [
    {
     "data": {
      "image/png": "[encoded data removed]",
      "text/latex": [
       "$$\\left ( \\Delta^{-1}{\\left ({\\binom{n}{k}} \\right )} = {\\binom{n}{k + 1}} + w_{n}, \\quad \\left [ x, \\quad n, \\quad w\\right ]\\right )$$"
      ],
      "text/plain": [
       "⎛            ⎛⎛n⎞⎞   ⎛  n  ⎞                  ⎞\n",
       "⎜\\Delta__{-1}⎜⎜ ⎟⎟ = ⎜     ⎟ + w[n], [x, n, w]⎟\n",
       "⎝            ⎝⎝k⎠⎠   ⎝k + 1⎠                  ⎠"
      ]
     },
     "execution_count": 15,
     "metadata": {},
     "output_type": "execute_result"
    }
   ],
   "source": [
    "ant_binomial_thm = antidifference_of_binomial_thm(subs={})\n",
    "ant_binomial_thm"
   ]
  },
  {
   "cell_type": "markdown",
   "metadata": {
    "deletable": true,
    "editable": true
   },
   "source": [
    "Previous thm holds by the following argument.\n",
    "\n",
    "$$\n",
    "\\begin{split}\n",
    "    \\Delta{{x}\\choose{j}} = {{x+1}\\choose{j}} - {{x}\\choose{j}} &= \\frac{(x+1)_{j}}{(j)_{j}}-\\frac{(x)_{j}}{(j)_{j}}\\\\\n",
    "    &= \\frac{ (x+1)x\\cdots(x-j+2) -x\\cdots(x-j+2)(x-j+1) }{(j)_{j}}\\\\\n",
    "    &= \\frac{ x\\cdots(x-j+2)(x+1 -(x-j+1)) }{(j)_{j}}\\\\\n",
    "    &= \\frac{ x\\cdots(x-j+2) }{(j-1)!} =  \\frac{ (x)_{(j-1)} }{(j-1)_{(j-1)}} =  {{x}\\choose{j-1}}\\\\\n",
    "\\end{split}\n",
    "$$\n",
    "\n",
    "therefore, to find $\\Delta^{-1}{{x}\\choose{j}}$ we are required to provide a term $t_{x}$ such that application of $\\Delta$ to it yields ${{x}\\choose{j}}$. So choose $t_{x}={{x}\\choose{j+1}}$, according to above identity."
   ]
  },
  {
   "cell_type": "code",
   "execution_count": 16,
   "metadata": {
    "collapsed": false,
    "deletable": true,
    "editable": true
   },
   "outputs": [
    {
     "data": {
      "image/png": "[encoded data removed]",
      "text/latex": [
       "$$\\left ( \\sum_{n=n_{0}}^{N - 1} {\\binom{n}{k}} = \\left. {\\binom{n}{k + 1}} + w_{n} \\right|_{\\substack{ n=N }} - \\left. {\\binom{n}{k + 1}} + w_{n} \\right|_{\\substack{ n=n_{0} }}, \\quad \\left [ g, \\quad n, \\quad n_{0}, \\quad N\\right ]\\right )$$"
      ],
      "text/plain": [
       "⎛ N - 1                                                                       \n",
       "⎜  ____                                                                       \n",
       "⎜  ╲                                                                          \n",
       "⎜   ╲     ⎛n⎞                                                                 \n",
       "⎜    ╲    ⎜ ⎟   ⎛⎛  n  ⎞       ⎞│      ⎛⎛  n  ⎞       ⎞│                      \n",
       "⎜    ╱    ⎝k⎠ = ⎜⎜     ⎟ + w[n]⎟│    - ⎜⎜     ⎟ + w[n]⎟│      , [g, n, n[0], N\n",
       "⎜   ╱           ⎝⎝k + 1⎠       ⎠│n=N   ⎝⎝k + 1⎠       ⎠│n=n[0]                \n",
       "⎜  ╱                                                                          \n",
       "⎜  ‾‾‾‾                                                                       \n",
       "⎝n = n[0]                                                                     \n",
       "\n",
       " ⎞\n",
       " ⎟\n",
       " ⎟\n",
       " ⎟\n",
       " ⎟\n",
       "]⎟\n",
       " ⎟\n",
       " ⎟\n",
       " ⎟\n",
       " ⎠"
      ]
     },
     "execution_count": 16,
     "metadata": {},
     "output_type": "execute_result"
    }
   ],
   "source": [
    "ready_thm = eq, *_ = rewrite(inst_thm, ant_ff_thm)\n",
    "ready_thm"
   ]
  },
  {
   "cell_type": "code",
   "execution_count": 17,
   "metadata": {
    "collapsed": false,
    "deletable": true,
    "editable": true
   },
   "outputs": [
    {
     "data": {
      "image/png": "[encoded data removed]",
      "text/latex": [
       "$$\\left ( \\sum_{n=n_{0}}^{N - 1} {\\binom{n}{k}} = {\\binom{N}{k + 1}} - {\\binom{n_{0}}{k + 1}} + w_{N} - w_{n_{0}}, \\quad \\left [ \\left [ g, \\quad n, \\quad n_{0}, \\quad N\\right ]\\right ]\\right )$$"
      ],
      "text/plain": [
       "⎛ N - 1                                                              ⎞\n",
       "⎜  ____                                                              ⎟\n",
       "⎜  ╲                                                                 ⎟\n",
       "⎜   ╲     ⎛n⎞                                                        ⎟\n",
       "⎜    ╲    ⎜ ⎟   ⎛  N  ⎞   ⎛ n[0]⎞                                    ⎟\n",
       "⎜    ╱    ⎝k⎠ = ⎜     ⎟ - ⎜     ⎟ + w[N] - w[n[0]], [[g, n, n[0], N]]⎟\n",
       "⎜   ╱           ⎝k + 1⎠   ⎝k + 1⎠                                    ⎟\n",
       "⎜  ╱                                                                 ⎟\n",
       "⎜  ‾‾‾‾                                                              ⎟\n",
       "⎝n = n[0]                                                            ⎠"
      ]
     },
     "execution_count": 17,
     "metadata": {},
     "output_type": "execute_result"
    }
   ],
   "source": [
    "done_thm = doit(ready_thm, lhs=False)\n",
    "done_thm"
   ]
  },
  {
   "cell_type": "code",
   "execution_count": 32,
   "metadata": {
    "collapsed": false,
    "deletable": true,
    "editable": true
   },
   "outputs": [
    {
     "data": {
      "image/png": "[encoded data removed]",
      "text/latex": [
       "$$- {\\left(x\\right)}_{i} + {\\left(x + 1\\right)}_{i}$$"
      ],
      "text/plain": [
       "-FallingFactorial(x, i) + FallingFactorial(x + 1, i)"
      ]
     },
     "execution_count": 32,
     "metadata": {},
     "output_type": "execute_result"
    }
   ],
   "source": [
    "ff(x+1,i)-ff(x,i)"
   ]
  },
  {
   "cell_type": "markdown",
   "metadata": {
    "deletable": true,
    "editable": true
   },
   "source": [
    "# powers"
   ]
  },
  {
   "cell_type": "markdown",
   "metadata": {
    "deletable": true,
    "editable": true
   },
   "source": [
    "## in $\\mathbb{R}$\n",
    "\n",
    "In $\\mathbb{R}$ the $n$-th power of the symbol $x$ satisfies:\n",
    "$$\n",
    "\\begin{split}\n",
    "x^{0}&=1 \\\\\n",
    "x \\neq0 &\\rightarrow x^{-n}=\\frac{1}{x^{n}}\\\\\n",
    "\\frac{\\partial x^{n}}{\\partial{x}} &= n x^{n-1} \\\\\n",
    "\\frac{\\partial^{-1} x^{n}}{\\partial{x}} = \\int x^{n}\\partial x &= \\frac{x^{n+1}}{n+1}+c\n",
    "\\end{split}\n",
    "$$\n",
    "for some $c\\in\\mathbb{R}$. In $\\mathbb{N}$ its counterpart is the *falling factorial* function in the variable $x$ defined as: \n",
    "\n",
    "$$(x)_{n} = \\underbrace{x(x-1)(x-2)\\cdots(x-n+1)}_{n\\text{ terms}}$$"
   ]
  },
  {
   "cell_type": "markdown",
   "metadata": {
    "deletable": true,
    "editable": true
   },
   "source": [
    "## in $\\mathbb{N}$\n",
    "\n",
    "We apply operator $\\Delta$ to derive an identity about forward differences of $(x)_{n}$: \n",
    "$$\n",
    "\\begin{split}\n",
    "\\Delta (x)_{n} &= (x+1)_{n} - (x)_{n} \\\\\n",
    "&= (x+1)x(x-1)\\cdots(x-n+2) - x(x-1)\\cdots(x-n+2)(x-n+1) \\\\\n",
    "&= (x)_{(n-1)}(x+1 -(x-n+1)) \\\\\n",
    "&=n(x)_{(n-1)}\n",
    "\\end{split}\n",
    "$$\n",
    "Previous identity allows us to recover the *anti-difference* of $(x)_{n}$: it requires to find a sequence $\\{g_{n}\\}_{n\\in\\mathbb{N}}$ such that $\\Delta g_{n} = (x)_{n}$, namely $$g_{n}=\\frac{(x)_{(n+1)}}{n+1}+w_{n}=\\Delta^{-1}(x)_{n}$$ where $\\{w_{n}\\}_{n\\in\\mathbb{N}}$ is a constant sequence.\n",
    "\n",
    "Moreover, in order to provide corresponding identities for the left ones, we reason according to:\n",
    "$$\n",
    "(x)_{m+n} = \\underbrace{x(x-1)\\cdots(x-m+1)}_{(x)_{m}}\\underbrace{(x-m)(x-m-1)\\cdots(x-m-n+1)}_{(x-m)_{n}}\n",
    "$$\n",
    "substitution $m=0$ yields $(x)_{n}=(x)_{0}(x)_{n}$ therefore $(x)_{0}=1$. On the other hand, substitution $m=-n$ yields $(x)_{0}=(x)_{-n}(x+n)_{n}$. So:\n",
    "$$\n",
    "(x+n)_{n} \\neq 0 \\rightarrow (x)_{-n} = \\frac{1}{(x+n)_{n}} = \\frac{1}{(x+n)(x+n-1)\\cdots(x+1)}\n",
    "$$\n",
    "requiring $x\\not\\in\\{-1, -2, \\ldots, -n\\}$."
   ]
  },
  {
   "cell_type": "markdown",
   "metadata": {
    "deletable": true,
    "editable": true
   },
   "source": [
    "## properties\n",
    "\n",
    "- $(x)_{n}$ is monic polynomial of degree $n$ with roots $\\{0, 1, \\ldots, n-1\\}$\n",
    "- $\\Delta(x)_{n}\\in\\Pi_{n-1}$\n",
    "- $\\Delta^{-1}(x)_{n}\\in\\Pi_{n+1}$\n",
    "- $k < j \\rightarrow (k)_{j} = k(k-1)\\cdots(k-k)\\cdots(k-j+1)=0$\n",
    "- $(k)_{k} = k(k-1)\\cdots(k-(k-1)+1)(k-k+1)=k!$\n",
    "- $(k)_{k}=(k)_{(k-1)}$\n",
    "\n",
    "and, finally:\n",
    "\n",
    "$$\\frac{(k)_{j}}{(j)_{j}} = \\frac{k(k-1)\\cdots(k-j+1)}{j!}=\\frac{k!}{j!(k-j)!}={{k}\\choose{j}}$$"
   ]
  },
  {
   "cell_type": "markdown",
   "metadata": {
    "deletable": true,
    "editable": true
   },
   "source": [
    "## $\\mathbb{R} \\leftarrow \\mathbb{N}$, via Stirling numbers of the *second* type"
   ]
  },
  {
   "cell_type": "code",
   "execution_count": 3,
   "metadata": {
    "collapsed": true,
    "deletable": true,
    "editable": true
   },
   "outputs": [],
   "source": [
    "from sympy.functions.combinatorial.numbers import stirling"
   ]
  },
  {
   "cell_type": "markdown",
   "metadata": {
    "collapsed": true,
    "deletable": true,
    "editable": true
   },
   "source": [
    "The following identity links the two kinds of powers:\n",
    "$$\n",
    "x^{n} = \\sum_{i=1}^{n}{\\mathcal{S}_{n,i} (x)_{i}}\n",
    "$$\n",
    "where coefficients $\\mathcal{S}_{n,i}$ are Stirling's numbers of the second kind, defined according to the following recurrence relation $\\mathcal{S}_{n+1, i} = \\mathcal{S}_{n, i-1} + i\\mathcal{S}_{n, i}$, for $i\\in\\{2,\\ldots,n\\}$, with initial conditions $\\mathcal{S}_{n, 1} = \\mathcal{S}_{n, n} = 1$.\n",
    "\n",
    "In the following matrix we report the upper chunk of the infinite matrix generated by the recurrence relation; for the sake of clarity, according to Python indexing which is *zero*-based, we include the very first row and column, which yields $\\mathcal{S}_{0, 0}=1$ and $0$ everywhere else."
   ]
  },
  {
   "cell_type": "code",
   "execution_count": 4,
   "metadata": {
    "collapsed": false,
    "deletable": true,
    "editable": true
   },
   "outputs": [
    {
     "data": {
      "image/png": "[encoded data removed]",
      "text/latex": [
       "$$\\left[\\begin{array}{ccccccccccc}1 & 0 & 0 & 0 & 0 & 0 & 0 & 0 & 0 & 0 & 0\\\\0 & 1 & 0 & 0 & 0 & 0 & 0 & 0 & 0 & 0 & 0\\\\0 & 1 & 1 & 0 & 0 & 0 & 0 & 0 & 0 & 0 & 0\\\\0 & 1 & 3 & 1 & 0 & 0 & 0 & 0 & 0 & 0 & 0\\\\0 & 1 & 7 & 6 & 1 & 0 & 0 & 0 & 0 & 0 & 0\\\\0 & 1 & 15 & 25 & 10 & 1 & 0 & 0 & 0 & 0 & 0\\\\0 & 1 & 31 & 90 & 65 & 15 & 1 & 0 & 0 & 0 & 0\\\\0 & 1 & 63 & 301 & 350 & 140 & 21 & 1 & 0 & 0 & 0\\\\0 & 1 & 127 & 966 & 1701 & 1050 & 266 & 28 & 1 & 0 & 0\\\\0 & 1 & 255 & 3025 & 7770 & 6951 & 2646 & 462 & 36 & 1 & 0\\\\0 & 1 & 511 & 9330 & 34105 & 42525 & 22827 & 5880 & 750 & 45 & 1\\end{array}\\right]$$"
      ],
      "text/plain": [
       "⎡1  0   0    0      0      0      0     0     0   0   0⎤\n",
       "⎢                                                      ⎥\n",
       "⎢0  1   0    0      0      0      0     0     0   0   0⎥\n",
       "⎢                                                      ⎥\n",
       "⎢0  1   1    0      0      0      0     0     0   0   0⎥\n",
       "⎢                                                      ⎥\n",
       "⎢0  1   3    1      0      0      0     0     0   0   0⎥\n",
       "⎢                                                      ⎥\n",
       "⎢0  1   7    6      1      0      0     0     0   0   0⎥\n",
       "⎢                                                      ⎥\n",
       "⎢0  1  15    25    10      1      0     0     0   0   0⎥\n",
       "⎢                                                      ⎥\n",
       "⎢0  1  31    90    65     15      1     0     0   0   0⎥\n",
       "⎢                                                      ⎥\n",
       "⎢0  1  63   301    350    140    21     1     0   0   0⎥\n",
       "⎢                                                      ⎥\n",
       "⎢0  1  127  966   1701   1050    266    28    1   0   0⎥\n",
       "⎢                                                      ⎥\n",
       "⎢0  1  255  3025  7770   6951   2646   462   36   1   0⎥\n",
       "⎢                                                      ⎥\n",
       "⎣0  1  511  9330  34105  42525  22827  5880  750  45  1⎦"
      ]
     },
     "execution_count": 4,
     "metadata": {},
     "output_type": "execute_result"
    }
   ],
   "source": [
    "stirling_matrix_second_kink = Matrix(11,11,lambda i, j: stirling(i,j, kind=2, signed=False))\n",
    "stirling_matrix_second_kink"
   ]
  },
  {
   "cell_type": "code",
   "execution_count": 22,
   "metadata": {
    "collapsed": false,
    "deletable": true,
    "editable": true
   },
   "outputs": [
    {
     "data": {
      "image/png": "[encoded data removed]",
      "text/latex": [
       "$$\\left[\\begin{array}{ccccccccccc}1 & 0 & 0 & 0 & 0 & 0 & 0 & 0 & 0 & 0 & 0\\\\0 & 1 & 0 & 0 & 0 & 0 & 0 & 0 & 0 & 0 & 0\\\\0 & 1 & 1 & 0 & 0 & 0 & 0 & 0 & 0 & 0 & 0\\\\0 & 1 & 3 & 1 & 0 & 0 & 0 & 0 & 0 & 0 & 0\\\\0 & 1 & 7 & 6 & 1 & 0 & 0 & 0 & 0 & 0 & 0\\\\0 & 1 & 15 & 25 & 10 & 1 & 0 & 0 & 0 & 0 & 0\\\\0 & 1 & 31 & 90 & 65 & 15 & 1 & 0 & 0 & 0 & 0\\\\0 & 1 & 63 & 301 & 350 & 140 & 21 & 1 & 0 & 0 & 0\\\\0 & 1 & 127 & 966 & 1701 & 1050 & 266 & 28 & 1 & 0 & 0\\\\0 & 1 & 255 & 3025 & 7770 & 6951 & 2646 & 462 & 36 & 1 & 0\\\\0 & 1 & 511 & 9330 & 34105 & 42525 & 22827 & 5880 & 750 & 45 & 1\\end{array}\\right] \\left[\\begin{matrix}{\\left(x\\right)}_{0}\\\\{\\left(x\\right)}_{1}\\\\{\\left(x\\right)}_{2}\\\\{\\left(x\\right)}_{3}\\\\{\\left(x\\right)}_{4}\\\\{\\left(x\\right)}_{5}\\\\{\\left(x\\right)}_{6}\\\\{\\left(x\\right)}_{7}\\\\{\\left(x\\right)}_{8}\\\\{\\left(x\\right)}_{9}\\\\{\\left(x\\right)}_{10}\\end{matrix}\\right] = \\left[\\begin{matrix}1\\\\x\\\\x^{2}\\\\x^{3}\\\\x^{4}\\\\x^{5}\\\\x^{6}\\\\x^{7}\\\\x^{8}\\\\x^{9}\\\\x^{10}\\end{matrix}\\right]$$"
      ],
      "text/plain": [
       "                                                                              \n",
       "                                                                              \n",
       "                                                                              \n",
       "                                                                              \n",
       "                                                                              \n",
       "⎡1  0   0    0      0      0      0     0     0   0   0⎤ ⎡FallingFactorial(x, \n",
       "⎢                                                      ⎥ ⎢                    \n",
       "⎢0  1   0    0      0      0      0     0     0   0   0⎥ ⎢FallingFactorial(x, \n",
       "⎢                                                      ⎥ ⎢                    \n",
       "⎢0  1   1    0      0      0      0     0     0   0   0⎥ ⎢FallingFactorial(x, \n",
       "⎢                                                      ⎥ ⎢                    \n",
       "⎢0  1   3    1      0      0      0     0     0   0   0⎥ ⎢FallingFactorial(x, \n",
       "⎢                                                      ⎥ ⎢                    \n",
       "⎢0  1   7    6      1      0      0     0     0   0   0⎥ ⎢FallingFactorial(x, \n",
       "⎢                                                      ⎥ ⎢                    \n",
       "⎢0  1  15    25    10      1      0     0     0   0   0⎥⋅⎢FallingFactorial(x, \n",
       "⎢                                                      ⎥ ⎢                    \n",
       "⎢0  1  31    90    65     15      1     0     0   0   0⎥ ⎢FallingFactorial(x, \n",
       "⎢                                                      ⎥ ⎢                    \n",
       "⎢0  1  63   301    350    140    21     1     0   0   0⎥ ⎢FallingFactorial(x, \n",
       "⎢                                                      ⎥ ⎢                    \n",
       "⎢0  1  127  966   1701   1050    266    28    1   0   0⎥ ⎢FallingFactorial(x, \n",
       "⎢                                                      ⎥ ⎢                    \n",
       "⎢0  1  255  3025  7770   6951   2646   462   36   1   0⎥ ⎢FallingFactorial(x, \n",
       "⎢                                                      ⎥ ⎢                    \n",
       "⎣0  1  511  9330  34105  42525  22827  5880  750  45  1⎦ ⎣FallingFactorial(x, \n",
       "                                                                              \n",
       "                                                                              \n",
       "                                                                              \n",
       "                                                                              \n",
       "\n",
       "       ⎡ 1 ⎤\n",
       "       ⎢   ⎥\n",
       "       ⎢ x ⎥\n",
       "       ⎢   ⎥\n",
       "       ⎢ 2 ⎥\n",
       "0) ⎤   ⎢x  ⎥\n",
       "   ⎥   ⎢   ⎥\n",
       "1) ⎥   ⎢ 3 ⎥\n",
       "   ⎥   ⎢x  ⎥\n",
       "2) ⎥   ⎢   ⎥\n",
       "   ⎥   ⎢ 4 ⎥\n",
       "3) ⎥   ⎢x  ⎥\n",
       "   ⎥   ⎢   ⎥\n",
       "4) ⎥   ⎢ 5 ⎥\n",
       "   ⎥   ⎢x  ⎥\n",
       "5) ⎥ = ⎢   ⎥\n",
       "   ⎥   ⎢ 6 ⎥\n",
       "6) ⎥   ⎢x  ⎥\n",
       "   ⎥   ⎢   ⎥\n",
       "7) ⎥   ⎢ 7 ⎥\n",
       "   ⎥   ⎢x  ⎥\n",
       "8) ⎥   ⎢   ⎥\n",
       "   ⎥   ⎢ 8 ⎥\n",
       "9) ⎥   ⎢x  ⎥\n",
       "   ⎥   ⎢   ⎥\n",
       "10)⎦   ⎢ 9 ⎥\n",
       "       ⎢x  ⎥\n",
       "       ⎢   ⎥\n",
       "       ⎢ 10⎥\n",
       "       ⎣x  ⎦"
      ]
     },
     "execution_count": 22,
     "metadata": {},
     "output_type": "execute_result"
    }
   ],
   "source": [
    "m = Mul(stirling_matrix_second_kink, Matrix(11,1,lambda i, _: ff(x, i, evaluate=False)),evaluate=False)\n",
    "#.applyfunc(lambda i: i.as_poly(x).as_expr())\n",
    "Eq(m, Matrix(11,1,lambda i, _: x**i), evaluate=False)"
   ]
  },
  {
   "cell_type": "code",
   "execution_count": 23,
   "metadata": {
    "collapsed": false,
    "deletable": true,
    "editable": true
   },
   "outputs": [
    {
     "ename": "AttributeError",
     "evalue": "ImmutableDenseMatrix has no attribute as_base_exp.",
     "output_type": "error",
     "traceback": [
      "\u001b[0;31m---------------------------------------------------------------------------\u001b[0m",
      "\u001b[0;31mAttributeError\u001b[0m                            Traceback (most recent call last)",
      "\u001b[0;32m<ipython-input-23-81373520d84e>\u001b[0m in \u001b[0;36m<module>\u001b[0;34m()\u001b[0m\n\u001b[0;32m----> 1\u001b[0;31m \u001b[0m_\u001b[0m\u001b[0;34m.\u001b[0m\u001b[0mlhs\u001b[0m\u001b[0;34m.\u001b[0m\u001b[0mdoit\u001b[0m\u001b[0;34m(\u001b[0m\u001b[0;34m)\u001b[0m\u001b[0;34m\u001b[0m\u001b[0m\n\u001b[0m",
      "\u001b[0;32m/Library/Frameworks/Python.framework/Versions/3.6/lib/python3.6/site-packages/sympy/core/basic.py\u001b[0m in \u001b[0;36mdoit\u001b[0;34m(self, **hints)\u001b[0m\n\u001b[1;32m   1554\u001b[0m             terms = [term.doit(**hints) if isinstance(term, Basic) else term\n\u001b[1;32m   1555\u001b[0m                                          for term in self.args]\n\u001b[0;32m-> 1556\u001b[0;31m             \u001b[0;32mreturn\u001b[0m \u001b[0mself\u001b[0m\u001b[0;34m.\u001b[0m\u001b[0mfunc\u001b[0m\u001b[0;34m(\u001b[0m\u001b[0;34m*\u001b[0m\u001b[0mterms\u001b[0m\u001b[0;34m)\u001b[0m\u001b[0;34m\u001b[0m\u001b[0m\n\u001b[0m\u001b[1;32m   1557\u001b[0m         \u001b[0;32melse\u001b[0m\u001b[0;34m:\u001b[0m\u001b[0;34m\u001b[0m\u001b[0m\n\u001b[1;32m   1558\u001b[0m             \u001b[0;32mreturn\u001b[0m \u001b[0mself\u001b[0m\u001b[0;34m\u001b[0m\u001b[0m\n",
      "\u001b[0;32m/Library/Frameworks/Python.framework/Versions/3.6/lib/python3.6/site-packages/sympy/core/cache.py\u001b[0m in \u001b[0;36mwrapper\u001b[0;34m(*args, **kwargs)\u001b[0m\n\u001b[1;32m     91\u001b[0m             \u001b[0;32mdef\u001b[0m \u001b[0mwrapper\u001b[0m\u001b[0;34m(\u001b[0m\u001b[0;34m*\u001b[0m\u001b[0margs\u001b[0m\u001b[0;34m,\u001b[0m \u001b[0;34m**\u001b[0m\u001b[0mkwargs\u001b[0m\u001b[0;34m)\u001b[0m\u001b[0;34m:\u001b[0m\u001b[0;34m\u001b[0m\u001b[0m\n\u001b[1;32m     92\u001b[0m                 \u001b[0;32mtry\u001b[0m\u001b[0;34m:\u001b[0m\u001b[0;34m\u001b[0m\u001b[0m\n\u001b[0;32m---> 93\u001b[0;31m                     \u001b[0mretval\u001b[0m \u001b[0;34m=\u001b[0m \u001b[0mcfunc\u001b[0m\u001b[0;34m(\u001b[0m\u001b[0;34m*\u001b[0m\u001b[0margs\u001b[0m\u001b[0;34m,\u001b[0m \u001b[0;34m**\u001b[0m\u001b[0mkwargs\u001b[0m\u001b[0;34m)\u001b[0m\u001b[0;34m\u001b[0m\u001b[0m\n\u001b[0m\u001b[1;32m     94\u001b[0m                 \u001b[0;32mexcept\u001b[0m \u001b[0mTypeError\u001b[0m\u001b[0;34m:\u001b[0m\u001b[0;34m\u001b[0m\u001b[0m\n\u001b[1;32m     95\u001b[0m                     \u001b[0mretval\u001b[0m \u001b[0;34m=\u001b[0m \u001b[0mfunc\u001b[0m\u001b[0;34m(\u001b[0m\u001b[0;34m*\u001b[0m\u001b[0margs\u001b[0m\u001b[0;34m,\u001b[0m \u001b[0;34m**\u001b[0m\u001b[0mkwargs\u001b[0m\u001b[0;34m)\u001b[0m\u001b[0;34m\u001b[0m\u001b[0m\n",
      "\u001b[0;32m/Library/Frameworks/Python.framework/Versions/3.6/lib/python3.6/site-packages/sympy/core/operations.py\u001b[0m in \u001b[0;36m__new__\u001b[0;34m(cls, *args, **options)\u001b[0m\n\u001b[1;32m     39\u001b[0m             \u001b[0;32mreturn\u001b[0m \u001b[0margs\u001b[0m\u001b[0;34m[\u001b[0m\u001b[0;36m0\u001b[0m\u001b[0;34m]\u001b[0m\u001b[0;34m\u001b[0m\u001b[0m\n\u001b[1;32m     40\u001b[0m \u001b[0;34m\u001b[0m\u001b[0m\n\u001b[0;32m---> 41\u001b[0;31m         \u001b[0mc_part\u001b[0m\u001b[0;34m,\u001b[0m \u001b[0mnc_part\u001b[0m\u001b[0;34m,\u001b[0m \u001b[0morder_symbols\u001b[0m \u001b[0;34m=\u001b[0m \u001b[0mcls\u001b[0m\u001b[0;34m.\u001b[0m\u001b[0mflatten\u001b[0m\u001b[0;34m(\u001b[0m\u001b[0margs\u001b[0m\u001b[0;34m)\u001b[0m\u001b[0;34m\u001b[0m\u001b[0m\n\u001b[0m\u001b[1;32m     42\u001b[0m         \u001b[0mis_commutative\u001b[0m \u001b[0;34m=\u001b[0m \u001b[0;32mnot\u001b[0m \u001b[0mnc_part\u001b[0m\u001b[0;34m\u001b[0m\u001b[0m\n\u001b[1;32m     43\u001b[0m         \u001b[0mobj\u001b[0m \u001b[0;34m=\u001b[0m \u001b[0mcls\u001b[0m\u001b[0;34m.\u001b[0m\u001b[0m_from_args\u001b[0m\u001b[0;34m(\u001b[0m\u001b[0mc_part\u001b[0m \u001b[0;34m+\u001b[0m \u001b[0mnc_part\u001b[0m\u001b[0;34m,\u001b[0m \u001b[0mis_commutative\u001b[0m\u001b[0;34m)\u001b[0m\u001b[0;34m\u001b[0m\u001b[0m\n",
      "\u001b[0;32m/Library/Frameworks/Python.framework/Versions/3.6/lib/python3.6/site-packages/sympy/core/mul.py\u001b[0m in \u001b[0;36mflatten\u001b[0;34m(cls, seq)\u001b[0m\n\u001b[1;32m    340\u001b[0m                     \u001b[0;31m# try to combine last terms: a  * a   ->  a\u001b[0m\u001b[0;34m\u001b[0m\u001b[0;34m\u001b[0m\u001b[0m\n\u001b[1;32m    341\u001b[0m                     \u001b[0mo1\u001b[0m \u001b[0;34m=\u001b[0m \u001b[0mnc_part\u001b[0m\u001b[0;34m.\u001b[0m\u001b[0mpop\u001b[0m\u001b[0;34m(\u001b[0m\u001b[0;34m)\u001b[0m\u001b[0;34m\u001b[0m\u001b[0m\n\u001b[0;32m--> 342\u001b[0;31m                     \u001b[0mb1\u001b[0m\u001b[0;34m,\u001b[0m \u001b[0me1\u001b[0m \u001b[0;34m=\u001b[0m \u001b[0mo1\u001b[0m\u001b[0;34m.\u001b[0m\u001b[0mas_base_exp\u001b[0m\u001b[0;34m(\u001b[0m\u001b[0;34m)\u001b[0m\u001b[0;34m\u001b[0m\u001b[0m\n\u001b[0m\u001b[1;32m    343\u001b[0m                     \u001b[0mb2\u001b[0m\u001b[0;34m,\u001b[0m \u001b[0me2\u001b[0m \u001b[0;34m=\u001b[0m \u001b[0mo\u001b[0m\u001b[0;34m.\u001b[0m\u001b[0mas_base_exp\u001b[0m\u001b[0;34m(\u001b[0m\u001b[0;34m)\u001b[0m\u001b[0;34m\u001b[0m\u001b[0m\n\u001b[1;32m    344\u001b[0m                     \u001b[0mnew_exp\u001b[0m \u001b[0;34m=\u001b[0m \u001b[0me1\u001b[0m \u001b[0;34m+\u001b[0m \u001b[0me2\u001b[0m\u001b[0;34m\u001b[0m\u001b[0m\n",
      "\u001b[0;32m/Library/Frameworks/Python.framework/Versions/3.6/lib/python3.6/site-packages/sympy/matrices/matrices.py\u001b[0m in \u001b[0;36m__getattr__\u001b[0;34m(self, attr)\u001b[0m\n\u001b[1;32m   1841\u001b[0m         \u001b[0;32melse\u001b[0m\u001b[0;34m:\u001b[0m\u001b[0;34m\u001b[0m\u001b[0m\n\u001b[1;32m   1842\u001b[0m             raise AttributeError(\n\u001b[0;32m-> 1843\u001b[0;31m                 \"%s has no attribute %s.\" % (self.__class__.__name__, attr))\n\u001b[0m\u001b[1;32m   1844\u001b[0m \u001b[0;34m\u001b[0m\u001b[0m\n\u001b[1;32m   1845\u001b[0m     \u001b[0;32mdef\u001b[0m \u001b[0m__len__\u001b[0m\u001b[0;34m(\u001b[0m\u001b[0mself\u001b[0m\u001b[0;34m)\u001b[0m\u001b[0;34m:\u001b[0m\u001b[0;34m\u001b[0m\u001b[0m\n",
      "\u001b[0;31mAttributeError\u001b[0m: ImmutableDenseMatrix has no attribute as_base_exp."
     ]
    }
   ],
   "source": [
    "_.lhs.doit()"
   ]
  },
  {
   "cell_type": "markdown",
   "metadata": {
    "deletable": true,
    "editable": true
   },
   "source": [
    "__Proof.__ By induction on $n$.\n",
    "\n",
    "Base case $n=1$, so $x = \\mathcal{S}_{1,1}(x)_{1}=x$, which holds.\n",
    "\n",
    "Assume the theorem true for $n$ and show for $n+1$, so:\n",
    "$$\n",
    "\\begin{split}\n",
    "    x^{n+1} = x\\cdot x^{n} &= x\\sum_{i=1}^{n}{\\mathcal{S}_{n,i} (x)_{i}}\n",
    "    = \\sum_{i=1}^{n}{\\mathcal{S}_{n,i} (x-i+i) (x)_{i}}\n",
    "    = \\sum_{i=1}^{n}{\\mathcal{S}_{n,i}\\left(\\underbrace{(x-i) (x)_{i}}_{(x)_{(i+1)}} + i (x)_{i} \\right)}\\\\\n",
    "    &= \\sum_{i=2}^{n+1}{\\mathcal{S}_{n,i-1} (x)_{i}} + \\sum_{i=1}^{n}{i \\mathcal{S}_{n,i} (x)_{i}}\n",
    "    = \\underbrace{\\mathcal{S}_{n,1}}_{\\mathcal{S}_{n+1,1}} (x)_{1} + \n",
    "        \\sum_{i=2}^{n}{\\underbrace{\\left(\\mathcal{S}_{n,i-1}+i\\mathcal{S}_{n,i}\\right)}_{\\mathcal{S}_{n+1,i}} (x)_{i}} +\n",
    "        \\underbrace{\\mathcal{S}_{n,n}}_{\\mathcal{S}_{n+1,n+1}} (x)_{n+1}\n",
    "    = \\sum_{i=1}^{n+1}{\\mathcal{S}_{n+1,i} (x)_{i}}\n",
    "\\end{split}\n",
    "$$\n",
    "as required. $\\blacksquare$"
   ]
  },
  {
   "cell_type": "markdown",
   "metadata": {
    "deletable": true,
    "editable": true
   },
   "source": [
    "The just proved identity allows us to easily compute summations of the form $\\sum_{x=n_{0}}^{N-1}{x^{k}}$, for some $k\\in\\mathbb{N}$. One way to do this is to use the result seen some cells above, where it is required to know $\\Delta^{-1}x^{k}$:\n",
    "$$\n",
    "    \\sum_{x=n_{0}}^{N-1}{x^{k}} = \\Delta^{-1}x^{k} \\big|_{x=N} - \\Delta^{-1}x^{k} \\big|_{x=n_{0}}\n",
    "$$\n",
    "but such anti-difference is unknown. Therefore put the last identity in:\n",
    "$$\n",
    "\\sum_{x=n_{0}}^{N-1}{x^{k}} = \\sum_{x=n_{0}}^{N-1}{\\sum_{i=1}^{k}{\\mathcal{S}_{k,i} (x)_{i}}} =\n",
    "\\sum_{i=1}^{k}{\\mathcal{S}_{k,i}\\sum_{x=n_{0}}^{N-1}{ (x)_{i}}} = \\sum_{i=1}^{k}{\\mathcal{S}_{k,i}\\left(\\frac{{\\left(N\\right)}_{\\left(i + 1\\right)}}{i + 1} - \\frac{{\\left(n_{0}\\right)}_{\\left(i + 1\\right)}}{i + 1}\\right)}\n",
    "$$\n",
    "where we recognize $\\sum_{n=n_{0}}^{N - 1} {\\left(n\\right)}_{i} = w_{N} - w_{n_{0}} + \\frac{{\\left(N\\right)}_{\\left(i + 1\\right)}}{i + 1} - \\frac{{\\left(n_{0}\\right)}_{\\left(i + 1\\right)}}{i + 1}$ where $w_{N}-w_{n_{0}}=0$ since $\\{w_{n}\\}_{n\\in\\mathbb{n}}$ is a constant sequence."
   ]
  },
  {
   "cell_type": "markdown",
   "metadata": {
    "deletable": true,
    "editable": true
   },
   "source": [
    "### applications"
   ]
  },
  {
   "cell_type": "code",
   "execution_count": 138,
   "metadata": {
    "collapsed": false,
    "deletable": true,
    "editable": true
   },
   "outputs": [],
   "source": [
    "def power_summation_thm():\n",
    "    n, S, (N, x, k, i) = IndexedBase('n'), IndexedBase('\\mathcal{S}'), symbols('N x k i')\n",
    "    inf, sup = n[0], N-1\n",
    "    return (Eq(Sum(x**k, (x, inf, sup)), Sum(s[k,i]*((ff(sup+1, i+1)/(i+1))-(ff(inf, i+1)/(i+1))), (i, 1, k))),\n",
    "            [n, S, inf, sup, N, x, k, i])\n",
    "\n",
    "def expand_Sum(aSumExpr):\n",
    "    \n",
    "    generic_sum_coeff, (sum_index, starting_bound, ending_bound) = aSumExpr.args\n",
    "    \n",
    "    summands = [generic_sum_coeff.subs(sum_index, n) for n in range(starting_bound, ending_bound+1)]\n",
    "    result = Add(*summands, evaluate=False)\n",
    "        \n",
    "    return result\n",
    "\n",
    "def stirling_row(row, indexed=None, *args, **kwds):\n",
    "    return {indexed[row, i] if indexed else (row,i):stirling(row, i, *args, **kwds) for i in range(row+1)}\n",
    "\n",
    "def do_powers_summation(power, bottom=1, top=Symbol('n'), expand=True):\n",
    "    eq, (n, S, inf, sup, N, x, k, i) = power_summation_thm()\n",
    "    inst_eq = eq.subs({inf:bottom, k:power, N:top+1}, simultaneous=True)\n",
    "    rhs = expand_Sum(inst_eq.rhs)\n",
    "    rhs = rhs.subs(stirling_row(power, S)).factor() if expand else rhs\n",
    "    return Eq(inst_eq.lhs, rhs)\n",
    "    "
   ]
  },
  {
   "cell_type": "code",
   "execution_count": 139,
   "metadata": {
    "collapsed": false,
    "deletable": true,
    "editable": true
   },
   "outputs": [
    {
     "data": {
      "image/png": "[encoded data removed]",
      "text/latex": [
       "$$\\left ( \\sum_{x=n_{0}}^{N - 1} x^{k} = \\sum_{i=1}^{k} \\left(\\frac{{\\left(N\\right)}_{\\left(i + 1\\right)}}{i + 1} - \\frac{{\\left(n_{0}\\right)}_{\\left(i + 1\\right)}}{i + 1}\\right) \\mathcal{S}_{k,i}, \\quad \\left [ n, \\quad \\mathcal{S}, \\quad n_{0}, \\quad N - 1, \\quad N, \\quad x, \\quad k, \\quad i\\right ]\\right )$$"
      ],
      "text/plain": [
       "⎛                k                                                            \n",
       "⎜ N - 1         ____                                                          \n",
       "⎜  ___          ╲                                                             \n",
       "⎜  ╲             ╲   ⎛FallingFactorial(N, i + 1)   FallingFactorial(n[0], i + \n",
       "⎜   ╲      k      ╲  ⎜────────────────────────── - ───────────────────────────\n",
       "⎜   ╱     x  =    ╱  ⎝          i + 1                          i + 1          \n",
       "⎜  ╱             ╱                                                            \n",
       "⎜  ‾‾‾          ╱                                                             \n",
       "⎜x = n[0]       ‾‾‾‾                                                          \n",
       "⎝              i = 1                                                          \n",
       "\n",
       "                                                                ⎞\n",
       "                                                                ⎟\n",
       "                                                                ⎟\n",
       "1)⎞                                                             ⎟\n",
       "──⎟⋅\\mathcal{S}[k, i]                                           ⎟\n",
       "  ⎠                  , [n, \\mathcal{S}, n[0], N - 1, N, x, k, i]⎟\n",
       "                                                                ⎟\n",
       "                                                                ⎟\n",
       "                                                                ⎟\n",
       "                                                                ⎠"
      ]
     },
     "execution_count": 139,
     "metadata": {},
     "output_type": "execute_result"
    }
   ],
   "source": [
    "power_summation_thm()"
   ]
  },
  {
   "cell_type": "code",
   "execution_count": 140,
   "metadata": {
    "collapsed": false,
    "deletable": true,
    "editable": true
   },
   "outputs": [
    {
     "data": {
      "image/png": "[encoded data removed]",
      "text/latex": [
       "$$\\sum_{x=1}^{n} x = \\frac{n}{2} \\left(n + 1\\right)$$"
      ],
      "text/plain": [
       "  n                \n",
       " ___               \n",
       " ╲                 \n",
       "  ╲   x   n⋅(n + 1)\n",
       "  ╱     = ─────────\n",
       " ╱            2    \n",
       " ‾‾‾               \n",
       "x = 1              "
      ]
     },
     "execution_count": 140,
     "metadata": {},
     "output_type": "execute_result"
    }
   ],
   "source": [
    "do_powers_summation(power=1, bottom=1)"
   ]
  },
  {
   "cell_type": "code",
   "execution_count": 131,
   "metadata": {
    "collapsed": false,
    "deletable": true,
    "editable": true
   },
   "outputs": [
    {
     "data": {
      "image/png": "[encoded data removed]",
      "text/latex": [
       "$$\\sum_{x=1}^{n} x^{2} = \\frac{n}{6} \\left(n + 1\\right) \\left(2 n + 1\\right)$$"
      ],
      "text/plain": [
       "  n                           \n",
       " ___                          \n",
       " ╲                            \n",
       "  ╲    2   n⋅(n + 1)⋅(2⋅n + 1)\n",
       "  ╱   x  = ───────────────────\n",
       " ╱                  6         \n",
       " ‾‾‾                          \n",
       "x = 1                         "
      ]
     },
     "execution_count": 131,
     "metadata": {},
     "output_type": "execute_result"
    }
   ],
   "source": [
    "do_powers_summation(power=2, bottom=1)"
   ]
  },
  {
   "cell_type": "code",
   "execution_count": 132,
   "metadata": {
    "collapsed": false,
    "deletable": true,
    "editable": true
   },
   "outputs": [
    {
     "data": {
      "image/png": "[encoded data removed]",
      "text/latex": [
       "$$\\sum_{x=1}^{n} x^{3} = \\frac{n^{2}}{4} \\left(n + 1\\right)^{2}$$"
      ],
      "text/plain": [
       "  n                   \n",
       " ___                  \n",
       " ╲          2        2\n",
       "  ╲    3   n ⋅(n + 1) \n",
       "  ╱   x  = ───────────\n",
       " ╱              4     \n",
       " ‾‾‾                  \n",
       "x = 1                 "
      ]
     },
     "execution_count": 132,
     "metadata": {},
     "output_type": "execute_result"
    }
   ],
   "source": [
    "do_powers_summation(power=3, bottom=1)"
   ]
  },
  {
   "cell_type": "code",
   "execution_count": 133,
   "metadata": {
    "collapsed": false,
    "deletable": true,
    "editable": true
   },
   "outputs": [
    {
     "data": {
      "image/png": "[encoded data removed]",
      "text/latex": [
       "$$\\sum_{x=1}^{n} x^{3} = \\frac{n \\mathcal{S}_{3,3}}{4} \\left(n - 2\\right) \\left(n - 1\\right) \\left(n + 1\\right) + \\frac{n \\mathcal{S}_{3,2}}{3} \\left(n - 1\\right) \\left(n + 1\\right) + \\frac{n \\mathcal{S}_{3,1}}{2} \\left(n + 1\\right)$$"
      ],
      "text/plain": [
       "  n                                                                           \n",
       " ___                                                                          \n",
       " ╲                                                                            \n",
       "  ╲    3   n⋅(n - 2)⋅(n - 1)⋅(n + 1)⋅\\mathcal{S}[3, 3]   n⋅(n - 1)⋅(n + 1)⋅\\ma\n",
       "  ╱   x  = ─────────────────────────────────────────── + ─────────────────────\n",
       " ╱                              4                                         3   \n",
       " ‾‾‾                                                                          \n",
       "x = 1                                                                         \n",
       "\n",
       "                                            \n",
       "                                            \n",
       "                                            \n",
       "thcal{S}[3, 2]   n⋅(n + 1)⋅\\mathcal{S}[3, 1]\n",
       "────────────── + ───────────────────────────\n",
       "                              2             \n",
       "                                            \n",
       "                                            "
      ]
     },
     "execution_count": 133,
     "metadata": {},
     "output_type": "execute_result"
    }
   ],
   "source": [
    "do_powers_summation(power=3, bottom=1, expand=False)"
   ]
  },
  {
   "cell_type": "code",
   "execution_count": 134,
   "metadata": {
    "collapsed": false,
    "deletable": true,
    "editable": true
   },
   "outputs": [
    {
     "data": {
      "image/png": "[encoded data removed]",
      "text/latex": [
       "$$\\sum_{x=1}^{n} x^{10} = \\frac{n}{66} \\left(n + 1\\right) \\left(2 n + 1\\right) \\left(n^{2} + n - 1\\right) \\left(3 n^{6} + 9 n^{5} + 2 n^{4} - 11 n^{3} + 3 n^{2} + 10 n - 5\\right)$$"
      ],
      "text/plain": [
       "  n                                                                           \n",
       " ___                                                                          \n",
       " ╲                              ⎛ 2        ⎞ ⎛   6      5      4       3      \n",
       "  ╲    10   n⋅(n + 1)⋅(2⋅n + 1)⋅⎝n  + n - 1⎠⋅⎝3⋅n  + 9⋅n  + 2⋅n  - 11⋅n  + 3⋅n\n",
       "  ╱   x   = ──────────────────────────────────────────────────────────────────\n",
       " ╱                                                 66                         \n",
       " ‾‾‾                                                                          \n",
       "x = 1                                                                         \n",
       "\n",
       "             \n",
       "             \n",
       "2           ⎞\n",
       "  + 10⋅n - 5⎠\n",
       "─────────────\n",
       "             \n",
       "             \n",
       "             "
      ]
     },
     "execution_count": 134,
     "metadata": {},
     "output_type": "execute_result"
    }
   ],
   "source": [
    "ten_powers = do_powers_summation(power=10)\n",
    "ten_powers"
   ]
  },
  {
   "cell_type": "code",
   "execution_count": 135,
   "metadata": {
    "collapsed": false,
    "deletable": true,
    "editable": true
   },
   "outputs": [
    {
     "data": {
      "image/png": "[encoded data removed]",
      "text/latex": [
       "$$\\mathrm{True}$$"
      ],
      "text/plain": [
       "True"
      ]
     },
     "execution_count": 135,
     "metadata": {},
     "output_type": "execute_result"
    }
   ],
   "source": [
    "ten_powers.replace(Symbol('n'),20).doit()"
   ]
  },
  {
   "cell_type": "markdown",
   "metadata": {
    "collapsed": true,
    "deletable": true,
    "editable": true
   },
   "source": [
    "## $\\mathbb{R} \\rightarrow \\mathbb{N}$, via Stirling numbers of the *first* type\n",
    "\n",
    "It is possible to revert the previous argument and find a characterization for $(x)_{i}$ using powers $x^{i}$ as follows: \n",
    "$$\n",
    "\\sum_{i=1}^{n}{\\mathcal{s}_{n,i} x^{i}} = (x)_{n}\n",
    "$$\n",
    "where coefficients $\\mathcal{s}_{n,i}$ are Stirling's numbers of the first kind, tabulated in the following matrix:"
   ]
  },
  {
   "cell_type": "code",
   "execution_count": 38,
   "metadata": {
    "collapsed": false,
    "deletable": true,
    "editable": true
   },
   "outputs": [
    {
     "data": {
      "image/png": "[encoded data removed]",
      "text/latex": [
       "$$\\left[\\begin{array}{ccccccccccc}1 & 0 & 0 & 0 & 0 & 0 & 0 & 0 & 0 & 0 & 0\\\\0 & 1 & 0 & 0 & 0 & 0 & 0 & 0 & 0 & 0 & 0\\\\0 & -1 & 1 & 0 & 0 & 0 & 0 & 0 & 0 & 0 & 0\\\\0 & 2 & -3 & 1 & 0 & 0 & 0 & 0 & 0 & 0 & 0\\\\0 & -6 & 11 & -6 & 1 & 0 & 0 & 0 & 0 & 0 & 0\\\\0 & 24 & -50 & 35 & -10 & 1 & 0 & 0 & 0 & 0 & 0\\\\0 & -120 & 274 & -225 & 85 & -15 & 1 & 0 & 0 & 0 & 0\\\\0 & 720 & -1764 & 1624 & -735 & 175 & -21 & 1 & 0 & 0 & 0\\\\0 & -5040 & 13068 & -13132 & 6769 & -1960 & 322 & -28 & 1 & 0 & 0\\\\0 & 40320 & -109584 & 118124 & -67284 & 22449 & -4536 & 546 & -36 & 1 & 0\\\\0 & -362880 & 1026576 & -1172700 & 723680 & -269325 & 63273 & -9450 & 870 & -45 & 1\\end{array}\\right]$$"
      ],
      "text/plain": [
       "⎡1     0        0        0        0        0       0      0     0    0   0⎤\n",
       "⎢                                                                         ⎥\n",
       "⎢0     1        0        0        0        0       0      0     0    0   0⎥\n",
       "⎢                                                                         ⎥\n",
       "⎢0    -1        1        0        0        0       0      0     0    0   0⎥\n",
       "⎢                                                                         ⎥\n",
       "⎢0     2       -3        1        0        0       0      0     0    0   0⎥\n",
       "⎢                                                                         ⎥\n",
       "⎢0    -6       11        -6       1        0       0      0     0    0   0⎥\n",
       "⎢                                                                         ⎥\n",
       "⎢0    24       -50       35      -10       1       0      0     0    0   0⎥\n",
       "⎢                                                                         ⎥\n",
       "⎢0   -120      274      -225      85      -15      1      0     0    0   0⎥\n",
       "⎢                                                                         ⎥\n",
       "⎢0    720     -1764     1624     -735     175     -21     1     0    0   0⎥\n",
       "⎢                                                                         ⎥\n",
       "⎢0   -5040    13068    -13132    6769    -1960    322    -28    1    0   0⎥\n",
       "⎢                                                                         ⎥\n",
       "⎢0   40320   -109584   118124   -67284   22449   -4536   546   -36   1   0⎥\n",
       "⎢                                                                         ⎥\n",
       "⎣0  -362880  1026576  -1172700  723680  -269325  63273  -9450  870  -45  1⎦"
      ]
     },
     "execution_count": 38,
     "metadata": {},
     "output_type": "execute_result"
    }
   ],
   "source": [
    "stirling_matrix_first_kink = Matrix(11,11,lambda i, j: stirling(i,j, kind=1, signed=True))\n",
    "stirling_matrix_first_kink"
   ]
  },
  {
   "cell_type": "markdown",
   "metadata": {
    "deletable": true,
    "editable": true
   },
   "source": [
    "Stirling's matrices of numbers are inverses the one of the other, namely:"
   ]
  },
  {
   "cell_type": "code",
   "execution_count": 118,
   "metadata": {
    "collapsed": false,
    "deletable": true,
    "editable": true
   },
   "outputs": [
    {
     "data": {
      "image/png": "[encoded data removed]",
      "text/latex": [
       "$$\\left[\\begin{array}{ccccccccccc}1 & 0 & 0 & 0 & 0 & 0 & 0 & 0 & 0 & 0 & 0\\\\0 & 1 & 0 & 0 & 0 & 0 & 0 & 0 & 0 & 0 & 0\\\\0 & -1 & 1 & 0 & 0 & 0 & 0 & 0 & 0 & 0 & 0\\\\0 & 2 & -3 & 1 & 0 & 0 & 0 & 0 & 0 & 0 & 0\\\\0 & -6 & 11 & -6 & 1 & 0 & 0 & 0 & 0 & 0 & 0\\\\0 & 24 & -50 & 35 & -10 & 1 & 0 & 0 & 0 & 0 & 0\\\\0 & -120 & 274 & -225 & 85 & -15 & 1 & 0 & 0 & 0 & 0\\\\0 & 720 & -1764 & 1624 & -735 & 175 & -21 & 1 & 0 & 0 & 0\\\\0 & -5040 & 13068 & -13132 & 6769 & -1960 & 322 & -28 & 1 & 0 & 0\\\\0 & 40320 & -109584 & 118124 & -67284 & 22449 & -4536 & 546 & -36 & 1 & 0\\\\0 & -362880 & 1026576 & -1172700 & 723680 & -269325 & 63273 & -9450 & 870 & -45 & 1\\end{array}\\right]$$"
      ],
      "text/plain": [
       "⎡1     0        0        0        0        0       0      0     0    0   0⎤\n",
       "⎢                                                                         ⎥\n",
       "⎢0     1        0        0        0        0       0      0     0    0   0⎥\n",
       "⎢                                                                         ⎥\n",
       "⎢0    -1        1        0        0        0       0      0     0    0   0⎥\n",
       "⎢                                                                         ⎥\n",
       "⎢0     2       -3        1        0        0       0      0     0    0   0⎥\n",
       "⎢                                                                         ⎥\n",
       "⎢0    -6       11        -6       1        0       0      0     0    0   0⎥\n",
       "⎢                                                                         ⎥\n",
       "⎢0    24       -50       35      -10       1       0      0     0    0   0⎥\n",
       "⎢                                                                         ⎥\n",
       "⎢0   -120      274      -225      85      -15      1      0     0    0   0⎥\n",
       "⎢                                                                         ⎥\n",
       "⎢0    720     -1764     1624     -735     175     -21     1     0    0   0⎥\n",
       "⎢                                                                         ⎥\n",
       "⎢0   -5040    13068    -13132    6769    -1960    322    -28    1    0   0⎥\n",
       "⎢                                                                         ⎥\n",
       "⎢0   40320   -109584   118124   -67284   22449   -4536   546   -36   1   0⎥\n",
       "⎢                                                                         ⎥\n",
       "⎣0  -362880  1026576  -1172700  723680  -269325  63273  -9450  870  -45  1⎦"
      ]
     },
     "execution_count": 118,
     "metadata": {},
     "output_type": "execute_result"
    }
   ],
   "source": [
    "stirling_matrix_second_kink**(-1)"
   ]
  },
  {
   "cell_type": "markdown",
   "metadata": {
    "deletable": true,
    "editable": true
   },
   "source": [
    "therefore their product yields the identity matrix:"
   ]
  },
  {
   "cell_type": "code",
   "execution_count": 39,
   "metadata": {
    "collapsed": false,
    "deletable": true,
    "editable": true
   },
   "outputs": [
    {
     "data": {
      "image/png": "[encoded data removed]",
      "text/latex": [
       "$$\\left[\\begin{array}{ccccccccccc}1 & 0 & 0 & 0 & 0 & 0 & 0 & 0 & 0 & 0 & 0\\\\0 & 1 & 0 & 0 & 0 & 0 & 0 & 0 & 0 & 0 & 0\\\\0 & 0 & 1 & 0 & 0 & 0 & 0 & 0 & 0 & 0 & 0\\\\0 & 0 & 0 & 1 & 0 & 0 & 0 & 0 & 0 & 0 & 0\\\\0 & 0 & 0 & 0 & 1 & 0 & 0 & 0 & 0 & 0 & 0\\\\0 & 0 & 0 & 0 & 0 & 1 & 0 & 0 & 0 & 0 & 0\\\\0 & 0 & 0 & 0 & 0 & 0 & 1 & 0 & 0 & 0 & 0\\\\0 & 0 & 0 & 0 & 0 & 0 & 0 & 1 & 0 & 0 & 0\\\\0 & 0 & 0 & 0 & 0 & 0 & 0 & 0 & 1 & 0 & 0\\\\0 & 0 & 0 & 0 & 0 & 0 & 0 & 0 & 0 & 1 & 0\\\\0 & 0 & 0 & 0 & 0 & 0 & 0 & 0 & 0 & 0 & 1\\end{array}\\right]$$"
      ],
      "text/plain": [
       "⎡1  0  0  0  0  0  0  0  0  0  0⎤\n",
       "⎢                               ⎥\n",
       "⎢0  1  0  0  0  0  0  0  0  0  0⎥\n",
       "⎢                               ⎥\n",
       "⎢0  0  1  0  0  0  0  0  0  0  0⎥\n",
       "⎢                               ⎥\n",
       "⎢0  0  0  1  0  0  0  0  0  0  0⎥\n",
       "⎢                               ⎥\n",
       "⎢0  0  0  0  1  0  0  0  0  0  0⎥\n",
       "⎢                               ⎥\n",
       "⎢0  0  0  0  0  1  0  0  0  0  0⎥\n",
       "⎢                               ⎥\n",
       "⎢0  0  0  0  0  0  1  0  0  0  0⎥\n",
       "⎢                               ⎥\n",
       "⎢0  0  0  0  0  0  0  1  0  0  0⎥\n",
       "⎢                               ⎥\n",
       "⎢0  0  0  0  0  0  0  0  1  0  0⎥\n",
       "⎢                               ⎥\n",
       "⎢0  0  0  0  0  0  0  0  0  1  0⎥\n",
       "⎢                               ⎥\n",
       "⎣0  0  0  0  0  0  0  0  0  0  1⎦"
      ]
     },
     "execution_count": 39,
     "metadata": {},
     "output_type": "execute_result"
    }
   ],
   "source": [
    "stirling_matrix_second_kink*stirling_matrix_first_kink"
   ]
  },
  {
   "cell_type": "markdown",
   "metadata": {
    "deletable": true,
    "editable": true
   },
   "source": [
    "---\n",
    "<a rel=\"license\" href=\"http://creativecommons.org/licenses/by-nc-sa/4.0/\"><img alt=\"Creative Commons License\" style=\"border-width:0\" src=\"https://i.creativecommons.org/l/by-nc-sa/4.0/88x31.png\" /></a><br />This work is licensed under a <a rel=\"license\" href=\"http://creativecommons.org/licenses/by-nc-sa/4.0/\">Creative Commons Attribution-NonCommercial-ShareAlike 4.0 International License</a>."
   ]
  }
 ],
 "metadata": {
  "kernelspec": {
   "display_name": "Python 3",
   "language": "python",
   "name": "python3"
  },
  "language_info": {
   "codemirror_mode": {
    "name": "ipython",
    "version": 3
   },
   "file_extension": ".py",
   "mimetype": "text/x-python",
   "name": "python",
   "nbconvert_exporter": "python",
   "pygments_lexer": "ipython3",
   "version": "3.6.0"
  }
 },
 "nbformat": 4,
 "nbformat_minor": 1
}
