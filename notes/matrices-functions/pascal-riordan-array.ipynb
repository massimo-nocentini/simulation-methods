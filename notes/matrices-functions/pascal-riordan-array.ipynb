{
 "cells": [
  {
   "cell_type": "markdown",
   "metadata": {},
   "source": [
    "<p>\n",
    "<img src=\"http://www.cerm.unifi.it/chianti/images/logo%20unifi_positivo.jpg\" \n",
    "        alt=\"UniFI logo\" style=\"float: left; width: 20%; height: 20%;\">\n",
    "<div align=\"right\">\n",
    "Massimo Nocentini<br>\n",
    "<small>\n",
    "<br>November 9, 2016: splitting from \"big\" notebook\n",
    "</small>\n",
    "</div>\n",
    "</p>\n",
    "<br>\n",
    "<br>\n",
    "<div align=\"center\">\n",
    "<b>Abstract</b><br>\n",
    "Theory of matrix functions, with applications to Pascal array $\\mathcal{P}$.\n",
    "</div>"
   ]
  },
  {
   "cell_type": "code",
   "execution_count": 1,
   "metadata": {
    "collapsed": true
   },
   "outputs": [],
   "source": [
    "from sympy import *\n",
    "from sympy.abc import n, i, N, x, lamda, phi, z, j, r, k, a\n",
    "\n",
    "init_printing()"
   ]
  },
  {
   "cell_type": "code",
   "execution_count": 2,
   "metadata": {
    "collapsed": true
   },
   "outputs": [],
   "source": [
    "%run ../../src/matrix_functions.py"
   ]
  },
  {
   "cell_type": "markdown",
   "metadata": {},
   "source": [
    "# Pascal array $\\mathcal{P}$"
   ]
  },
  {
   "cell_type": "code",
   "execution_count": 3,
   "metadata": {
    "collapsed": true
   },
   "outputs": [],
   "source": [
    "m=8"
   ]
  },
  {
   "cell_type": "code",
   "execution_count": 6,
   "metadata": {
    "collapsed": false
   },
   "outputs": [
    {
     "data": {
      "image/png": "[encoded data removed]",
      "text/latex": [
       "$$\\left[\\begin{matrix}1 & 0 & 0 & 0 & 0 & 0 & 0 & 0\\\\1 & 1 & 0 & 0 & 0 & 0 & 0 & 0\\\\1 & 2 & 1 & 0 & 0 & 0 & 0 & 0\\\\1 & 3 & 3 & 1 & 0 & 0 & 0 & 0\\\\1 & 4 & 6 & 4 & 1 & 0 & 0 & 0\\\\1 & 5 & 10 & 10 & 5 & 1 & 0 & 0\\\\1 & 6 & 15 & 20 & 15 & 6 & 1 & 0\\\\1 & 7 & 21 & 35 & 35 & 21 & 7 & 1\\end{matrix}\\right]$$"
      ],
      "text/plain": [
       "⎡1  0  0   0   0   0   0  0⎤\n",
       "⎢                          ⎥\n",
       "⎢1  1  0   0   0   0   0  0⎥\n",
       "⎢                          ⎥\n",
       "⎢1  2  1   0   0   0   0  0⎥\n",
       "⎢                          ⎥\n",
       "⎢1  3  3   1   0   0   0  0⎥\n",
       "⎢                          ⎥\n",
       "⎢1  4  6   4   1   0   0  0⎥\n",
       "⎢                          ⎥\n",
       "⎢1  5  10  10  5   1   0  0⎥\n",
       "⎢                          ⎥\n",
       "⎢1  6  15  20  15  6   1  0⎥\n",
       "⎢                          ⎥\n",
       "⎣1  7  21  35  35  21  7  1⎦"
      ]
     },
     "execution_count": 6,
     "metadata": {},
     "output_type": "execute_result"
    }
   ],
   "source": [
    "#m = 5 # degree of \\Xi minimal polynomial\n",
    "P = Matrix(m,m,binomial)\n",
    "P"
   ]
  },
  {
   "cell_type": "code",
   "execution_count": 5,
   "metadata": {
    "collapsed": false
   },
   "outputs": [
    {
     "data": {
      "image/png": "[encoded data removed]",
      "text/latex": [
       "$$\\left[\\begin{matrix}1 & 0 & 0 & 0 & 0 & 0 & 0 & 0\\\\1 & 1 & 0 & 0 & 0 & 0 & 0 & 0\\\\1 & {\\binom{2}{1}} & 1 & 0 & 0 & 0 & 0 & 0\\\\1 & {\\binom{3}{1}} & {\\binom{3}{2}} & 1 & 0 & 0 & 0 & 0\\\\1 & {\\binom{4}{1}} & {\\binom{4}{2}} & {\\binom{4}{3}} & 1 & 0 & 0 & 0\\\\1 & {\\binom{5}{1}} & {\\binom{5}{2}} & {\\binom{5}{3}} & {\\binom{5}{4}} & 1 & 0 & 0\\\\1 & {\\binom{6}{1}} & {\\binom{6}{2}} & {\\binom{6}{3}} & {\\binom{6}{4}} & {\\binom{6}{5}} & 1 & 0\\\\1 & {\\binom{7}{1}} & {\\binom{7}{2}} & {\\binom{7}{3}} & {\\binom{7}{4}} & {\\binom{7}{5}} & {\\binom{7}{6}} & 1\\end{matrix}\\right]$$"
      ],
      "text/plain": [
       "⎡1   0    0    0    0    0    0   0⎤\n",
       "⎢                                  ⎥\n",
       "⎢1   1    0    0    0    0    0   0⎥\n",
       "⎢                                  ⎥\n",
       "⎢   ⎛2⎞                            ⎥\n",
       "⎢1  ⎜ ⎟   1    0    0    0    0   0⎥\n",
       "⎢   ⎝1⎠                            ⎥\n",
       "⎢                                  ⎥\n",
       "⎢   ⎛3⎞  ⎛3⎞                       ⎥\n",
       "⎢1  ⎜ ⎟  ⎜ ⎟   1    0    0    0   0⎥\n",
       "⎢   ⎝1⎠  ⎝2⎠                       ⎥\n",
       "⎢                                  ⎥\n",
       "⎢   ⎛4⎞  ⎛4⎞  ⎛4⎞                  ⎥\n",
       "⎢1  ⎜ ⎟  ⎜ ⎟  ⎜ ⎟   1    0    0   0⎥\n",
       "⎢   ⎝1⎠  ⎝2⎠  ⎝3⎠                  ⎥\n",
       "⎢                                  ⎥\n",
       "⎢   ⎛5⎞  ⎛5⎞  ⎛5⎞  ⎛5⎞             ⎥\n",
       "⎢1  ⎜ ⎟  ⎜ ⎟  ⎜ ⎟  ⎜ ⎟   1    0   0⎥\n",
       "⎢   ⎝1⎠  ⎝2⎠  ⎝3⎠  ⎝4⎠             ⎥\n",
       "⎢                                  ⎥\n",
       "⎢   ⎛6⎞  ⎛6⎞  ⎛6⎞  ⎛6⎞  ⎛6⎞        ⎥\n",
       "⎢1  ⎜ ⎟  ⎜ ⎟  ⎜ ⎟  ⎜ ⎟  ⎜ ⎟   1   0⎥\n",
       "⎢   ⎝1⎠  ⎝2⎠  ⎝3⎠  ⎝4⎠  ⎝5⎠        ⎥\n",
       "⎢                                  ⎥\n",
       "⎢   ⎛7⎞  ⎛7⎞  ⎛7⎞  ⎛7⎞  ⎛7⎞  ⎛7⎞   ⎥\n",
       "⎢1  ⎜ ⎟  ⎜ ⎟  ⎜ ⎟  ⎜ ⎟  ⎜ ⎟  ⎜ ⎟  1⎥\n",
       "⎣   ⎝1⎠  ⎝2⎠  ⎝3⎠  ⎝4⎠  ⎝5⎠  ⎝6⎠   ⎦"
      ]
     },
     "execution_count": 5,
     "metadata": {},
     "output_type": "execute_result"
    }
   ],
   "source": [
    "P = Matrix(m,m, lambda n,k: binomial(n, k, evaluate=k >= n or not k))\n",
    "P"
   ]
  },
  {
   "cell_type": "code",
   "execution_count": 7,
   "metadata": {
    "collapsed": false
   },
   "outputs": [
    {
     "data": {
      "image/png": "[encoded data removed]",
      "text/latex": [
       "$$\\left ( \\left \\{ 1 : \\left ( \\lambda_{1}, \\quad m_{1}\\right )\\right \\}, \\quad \\left \\{ \\lambda_{1} : 1\\right \\}, \\quad \\left \\{ m_{1} : 8\\right \\}\\right )$$"
      ],
      "text/plain": [
       "({1: (\\lambda[1], m[1])}, {\\lambda[1]: 1}, {m[1]: 8})"
      ]
     },
     "execution_count": 7,
     "metadata": {},
     "output_type": "execute_result"
    }
   ],
   "source": [
    "data, eigenvals, multiplicities = eigendata = eigen_data(P)\n",
    "eigendata"
   ]
  },
  {
   "cell_type": "code",
   "execution_count": 8,
   "metadata": {
    "collapsed": false
   },
   "outputs": [
    {
     "data": {
      "image/png": "[encoded data removed]",
      "text/latex": [
       "$$\\Phi{\\left (z,i,j \\right )} = z^{7} \\phi_{i,j,0} + z^{6} \\phi_{i,j,1} + z^{5} \\phi_{i,j,2} + z^{4} \\phi_{i,j,3} + z^{3} \\phi_{i,j,4} + z^{2} \\phi_{i,j,5} + z \\phi_{i,j,6} + \\phi_{i,j,7}$$"
      ],
      "text/plain": [
       "                 7                  6                  5                  4   \n",
       "\\Phi(z, i, j) = z ⋅\\phi[i, j, 0] + z ⋅\\phi[i, j, 1] + z ⋅\\phi[i, j, 2] + z ⋅\\p\n",
       "\n",
       "               3                  2                                           \n",
       "hi[i, j, 3] + z ⋅\\phi[i, j, 4] + z ⋅\\phi[i, j, 5] + z⋅\\phi[i, j, 6] + \\phi[i, \n",
       "\n",
       "     \n",
       "j, 7]"
      ]
     },
     "execution_count": 8,
     "metadata": {},
     "output_type": "execute_result"
    }
   ],
   "source": [
    "Phi_poly = Phi_poly_ctor(deg=m-1)\n",
    "Phi_poly"
   ]
  },
  {
   "cell_type": "code",
   "execution_count": 9,
   "metadata": {
    "collapsed": false
   },
   "outputs": [
    {
     "data": {
      "image/png": "[encoded data removed]",
      "text/latex": [
       "$$\\left \\{ \\left ( 1, \\quad 1\\right ) : \\Phi_{ 1, 1 }{\\left (z \\right )} = 1, \\quad \\left ( 1, \\quad 2\\right ) : \\Phi_{ 1, 2 }{\\left (z \\right )} = z - 1, \\quad \\left ( 1, \\quad 3\\right ) : \\Phi_{ 1, 3 }{\\left (z \\right )} = \\frac{z^{2}}{2} - z + \\frac{1}{2}, \\quad \\left ( 1, \\quad 4\\right ) : \\Phi_{ 1, 4 }{\\left (z \\right )} = \\frac{z^{3}}{6} - \\frac{z^{2}}{2} + \\frac{z}{2} - \\frac{1}{6}, \\quad \\left ( 1, \\quad 5\\right ) : \\Phi_{ 1, 5 }{\\left (z \\right )} = \\frac{z^{4}}{24} - \\frac{z^{3}}{6} + \\frac{z^{2}}{4} - \\frac{z}{6} + \\frac{1}{24}, \\quad \\left ( 1, \\quad 6\\right ) : \\Phi_{ 1, 6 }{\\left (z \\right )} = \\frac{z^{5}}{120} - \\frac{z^{4}}{24} + \\frac{z^{3}}{12} - \\frac{z^{2}}{12} + \\frac{z}{24} - \\frac{1}{120}, \\quad \\left ( 1, \\quad 7\\right ) : \\Phi_{ 1, 7 }{\\left (z \\right )} = \\frac{z^{6}}{720} - \\frac{z^{5}}{120} + \\frac{z^{4}}{48} - \\frac{z^{3}}{36} + \\frac{z^{2}}{48} - \\frac{z}{120} + \\frac{1}{720}, \\quad \\left ( 1, \\quad 8\\right ) : \\Phi_{ 1, 8 }{\\left (z \\right )} = \\frac{z^{7}}{5040} - \\frac{z^{6}}{720} + \\frac{z^{5}}{240} - \\frac{z^{4}}{144} + \\frac{z^{3}}{144} - \\frac{z^{2}}{240} + \\frac{z}{720} - \\frac{1}{5040}\\right \\}$$"
      ],
      "text/plain": [
       "⎧                                                                             \n",
       "⎪                                                                             \n",
       "⎨(1, 1): \\Phi_{ 1, 1 }(z) = 1, (1, 2): \\Phi_{ 1, 2 }(z) = z - 1, (1, 3): \\Phi_\n",
       "⎪                                                                             \n",
       "⎩                                                                             \n",
       "\n",
       "               2                                      3    2                  \n",
       "              z        1                             z    z    z   1          \n",
       "{ 1, 3 }(z) = ── - z + ─, (1, 4): \\Phi_{ 1, 4 }(z) = ── - ── + ─ - ─, (1, 5): \n",
       "              2        2                             6    2    2   6          \n",
       "                                                                              \n",
       "\n",
       "                    4    3    2                                        5    4 \n",
       "                   z    z    z    z   1                               z    z  \n",
       "\\Phi_{ 1, 5 }(z) = ── - ── + ── - ─ + ──, (1, 6): \\Phi_{ 1, 6 }(z) = ─── - ── \n",
       "                   24   6    4    6   24                             120   24 \n",
       "                                                                              \n",
       "\n",
       "   3    2                                          6     5    4    3    2     \n",
       "  z    z    z     1                               z     z    z    z    z     z\n",
       "+ ── - ── + ── - ───, (1, 7): \\Phi_{ 1, 7 }(z) = ─── - ─── + ── - ── + ── - ──\n",
       "  12   12   24   120                             720   120   48   36   48   12\n",
       "                                                                              \n",
       "\n",
       "                                      7      6     5     4     3     2        \n",
       "     1                               z      z     z     z     z     z     z   \n",
       "─ + ───, (1, 8): \\Phi_{ 1, 8 }(z) = ──── - ─── + ─── - ─── + ─── - ─── + ─── -\n",
       "0   720                             5040   720   240   144   144   240   720  \n",
       "                                                                              \n",
       "\n",
       "     ⎫\n",
       "  1  ⎪\n",
       " ────⎬\n",
       " 5040⎪\n",
       "     ⎭"
      ]
     },
     "execution_count": 9,
     "metadata": {},
     "output_type": "execute_result"
    }
   ],
   "source": [
    "Phi_polynomials = component_polynomials_riordan(m)\n",
    "Phi_polynomials"
   ]
  },
  {
   "cell_type": "code",
   "execution_count": 10,
   "metadata": {
    "collapsed": false,
    "scrolled": true
   },
   "outputs": [
    {
     "data": {
      "image/png": "[encoded data removed]",
      "text/latex": [
       "$$\\left \\{ Z_{1,1} : \\left[\\begin{matrix}1 & 0 & 0 & 0 & 0 & 0 & 0 & 0\\\\0 & 1 & 0 & 0 & 0 & 0 & 0 & 0\\\\0 & 0 & 1 & 0 & 0 & 0 & 0 & 0\\\\0 & 0 & 0 & 1 & 0 & 0 & 0 & 0\\\\0 & 0 & 0 & 0 & 1 & 0 & 0 & 0\\\\0 & 0 & 0 & 0 & 0 & 1 & 0 & 0\\\\0 & 0 & 0 & 0 & 0 & 0 & 1 & 0\\\\0 & 0 & 0 & 0 & 0 & 0 & 0 & 1\\end{matrix}\\right], \\quad Z_{1,2} : \\left[\\begin{matrix}0 & 0 & 0 & 0 & 0 & 0 & 0 & 0\\\\1 & 0 & 0 & 0 & 0 & 0 & 0 & 0\\\\1 & 2 & 0 & 0 & 0 & 0 & 0 & 0\\\\1 & 3 & 3 & 0 & 0 & 0 & 0 & 0\\\\1 & 4 & 6 & 4 & 0 & 0 & 0 & 0\\\\1 & 5 & 10 & 10 & 5 & 0 & 0 & 0\\\\1 & 6 & 15 & 20 & 15 & 6 & 0 & 0\\\\1 & 7 & 21 & 35 & 35 & 21 & 7 & 0\\end{matrix}\\right], \\quad Z_{1,3} : \\left[\\begin{matrix}0 & 0 & 0 & 0 & 0 & 0 & 0 & 0\\\\0 & 0 & 0 & 0 & 0 & 0 & 0 & 0\\\\1 & 0 & 0 & 0 & 0 & 0 & 0 & 0\\\\3 & 3 & 0 & 0 & 0 & 0 & 0 & 0\\\\7 & 12 & 6 & 0 & 0 & 0 & 0 & 0\\\\15 & 35 & 30 & 10 & 0 & 0 & 0 & 0\\\\31 & 90 & 105 & 60 & 15 & 0 & 0 & 0\\\\63 & 217 & 315 & 245 & 105 & 21 & 0 & 0\\end{matrix}\\right], \\quad Z_{1,4} : \\left[\\begin{matrix}0 & 0 & 0 & 0 & 0 & 0 & 0 & 0\\\\0 & 0 & 0 & 0 & 0 & 0 & 0 & 0\\\\0 & 0 & 0 & 0 & 0 & 0 & 0 & 0\\\\1 & 0 & 0 & 0 & 0 & 0 & 0 & 0\\\\6 & 4 & 0 & 0 & 0 & 0 & 0 & 0\\\\25 & 30 & 10 & 0 & 0 & 0 & 0 & 0\\\\90 & 150 & 90 & 20 & 0 & 0 & 0 & 0\\\\301 & 630 & 525 & 210 & 35 & 0 & 0 & 0\\end{matrix}\\right], \\quad Z_{1,5} : \\left[\\begin{matrix}0 & 0 & 0 & 0 & 0 & 0 & 0 & 0\\\\0 & 0 & 0 & 0 & 0 & 0 & 0 & 0\\\\0 & 0 & 0 & 0 & 0 & 0 & 0 & 0\\\\0 & 0 & 0 & 0 & 0 & 0 & 0 & 0\\\\1 & 0 & 0 & 0 & 0 & 0 & 0 & 0\\\\10 & 5 & 0 & 0 & 0 & 0 & 0 & 0\\\\65 & 60 & 15 & 0 & 0 & 0 & 0 & 0\\\\350 & 455 & 210 & 35 & 0 & 0 & 0 & 0\\end{matrix}\\right], \\quad Z_{1,6} : \\left[\\begin{matrix}0 & 0 & 0 & 0 & 0 & 0 & 0 & 0\\\\0 & 0 & 0 & 0 & 0 & 0 & 0 & 0\\\\0 & 0 & 0 & 0 & 0 & 0 & 0 & 0\\\\0 & 0 & 0 & 0 & 0 & 0 & 0 & 0\\\\0 & 0 & 0 & 0 & 0 & 0 & 0 & 0\\\\1 & 0 & 0 & 0 & 0 & 0 & 0 & 0\\\\15 & 6 & 0 & 0 & 0 & 0 & 0 & 0\\\\140 & 105 & 21 & 0 & 0 & 0 & 0 & 0\\end{matrix}\\right], \\quad Z_{1,7} : \\left[\\begin{matrix}0 & 0 & 0 & 0 & 0 & 0 & 0 & 0\\\\0 & 0 & 0 & 0 & 0 & 0 & 0 & 0\\\\0 & 0 & 0 & 0 & 0 & 0 & 0 & 0\\\\0 & 0 & 0 & 0 & 0 & 0 & 0 & 0\\\\0 & 0 & 0 & 0 & 0 & 0 & 0 & 0\\\\0 & 0 & 0 & 0 & 0 & 0 & 0 & 0\\\\1 & 0 & 0 & 0 & 0 & 0 & 0 & 0\\\\21 & 7 & 0 & 0 & 0 & 0 & 0 & 0\\end{matrix}\\right], \\quad Z_{1,8} : \\left[\\begin{matrix}0 & 0 & 0 & 0 & 0 & 0 & 0 & 0\\\\0 & 0 & 0 & 0 & 0 & 0 & 0 & 0\\\\0 & 0 & 0 & 0 & 0 & 0 & 0 & 0\\\\0 & 0 & 0 & 0 & 0 & 0 & 0 & 0\\\\0 & 0 & 0 & 0 & 0 & 0 & 0 & 0\\\\0 & 0 & 0 & 0 & 0 & 0 & 0 & 0\\\\0 & 0 & 0 & 0 & 0 & 0 & 0 & 0\\\\1 & 0 & 0 & 0 & 0 & 0 & 0 & 0\\end{matrix}\\right]\\right \\}$$"
      ],
      "text/plain": [
       "⎧Z[1, 1]: ⎡1  0  0  0  0  0  0  0⎤, Z[1, 2]: ⎡0  0  0   0   0   0   0  0⎤, Z[1\n",
       "⎪         ⎢                      ⎥           ⎢                          ⎥     \n",
       "⎪         ⎢0  1  0  0  0  0  0  0⎥           ⎢1  0  0   0   0   0   0  0⎥     \n",
       "⎪         ⎢                      ⎥           ⎢                          ⎥     \n",
       "⎪         ⎢0  0  1  0  0  0  0  0⎥           ⎢1  2  0   0   0   0   0  0⎥     \n",
       "⎪         ⎢                      ⎥           ⎢                          ⎥     \n",
       "⎪         ⎢0  0  0  1  0  0  0  0⎥           ⎢1  3  3   0   0   0   0  0⎥     \n",
       "⎨         ⎢                      ⎥           ⎢                          ⎥     \n",
       "⎪         ⎢0  0  0  0  1  0  0  0⎥           ⎢1  4  6   4   0   0   0  0⎥     \n",
       "⎪         ⎢                      ⎥           ⎢                          ⎥     \n",
       "⎪         ⎢0  0  0  0  0  1  0  0⎥           ⎢1  5  10  10  5   0   0  0⎥     \n",
       "⎪         ⎢                      ⎥           ⎢                          ⎥     \n",
       "⎪         ⎢0  0  0  0  0  0  1  0⎥           ⎢1  6  15  20  15  6   0  0⎥     \n",
       "⎪         ⎢                      ⎥           ⎢                          ⎥     \n",
       "⎩         ⎣0  0  0  0  0  0  0  1⎦           ⎣1  7  21  35  35  21  7  0⎦     \n",
       "\n",
       ", 3]: ⎡0    0    0    0    0   0   0  0⎤, Z[1, 4]: ⎡ 0    0    0    0   0   0 \n",
       "      ⎢                                ⎥           ⎢                          \n",
       "      ⎢0    0    0    0    0   0   0  0⎥           ⎢ 0    0    0    0   0   0 \n",
       "      ⎢                                ⎥           ⎢                          \n",
       "      ⎢1    0    0    0    0   0   0  0⎥           ⎢ 0    0    0    0   0   0 \n",
       "      ⎢                                ⎥           ⎢                          \n",
       "      ⎢3    3    0    0    0   0   0  0⎥           ⎢ 1    0    0    0   0   0 \n",
       "      ⎢                                ⎥           ⎢                          \n",
       "      ⎢7   12    6    0    0   0   0  0⎥           ⎢ 6    4    0    0   0   0 \n",
       "      ⎢                                ⎥           ⎢                          \n",
       "      ⎢15  35   30   10    0   0   0  0⎥           ⎢25   30   10    0   0   0 \n",
       "      ⎢                                ⎥           ⎢                          \n",
       "      ⎢31  90   105  60   15   0   0  0⎥           ⎢90   150  90   20   0   0 \n",
       "      ⎢                                ⎥           ⎢                          \n",
       "      ⎣63  217  315  245  105  21  0  0⎦           ⎣301  630  525  210  35  0 \n",
       "\n",
       " 0  0⎤, Z[1, 5]: ⎡ 0    0    0   0   0  0  0  0⎤, Z[1, 6]: ⎡ 0    0   0   0  0\n",
       "     ⎥           ⎢                             ⎥           ⎢                  \n",
       " 0  0⎥           ⎢ 0    0    0   0   0  0  0  0⎥           ⎢ 0    0   0   0  0\n",
       "     ⎥           ⎢                             ⎥           ⎢                  \n",
       " 0  0⎥           ⎢ 0    0    0   0   0  0  0  0⎥           ⎢ 0    0   0   0  0\n",
       "     ⎥           ⎢                             ⎥           ⎢                  \n",
       " 0  0⎥           ⎢ 0    0    0   0   0  0  0  0⎥           ⎢ 0    0   0   0  0\n",
       "     ⎥           ⎢                             ⎥           ⎢                  \n",
       " 0  0⎥           ⎢ 1    0    0   0   0  0  0  0⎥           ⎢ 0    0   0   0  0\n",
       "     ⎥           ⎢                             ⎥           ⎢                  \n",
       " 0  0⎥           ⎢10    5    0   0   0  0  0  0⎥           ⎢ 1    0   0   0  0\n",
       "     ⎥           ⎢                             ⎥           ⎢                  \n",
       " 0  0⎥           ⎢65   60   15   0   0  0  0  0⎥           ⎢15    6   0   0  0\n",
       "     ⎥           ⎢                             ⎥           ⎢                  \n",
       " 0  0⎦           ⎣350  455  210  35  0  0  0  0⎦           ⎣140  105  21  0  0\n",
       "\n",
       "  0  0  0⎤, Z[1, 7]: ⎡0   0  0  0  0  0  0  0⎤, Z[1, 8]: ⎡0  0  0  0  0  0  0 \n",
       "         ⎥           ⎢                       ⎥           ⎢                    \n",
       "  0  0  0⎥           ⎢0   0  0  0  0  0  0  0⎥           ⎢0  0  0  0  0  0  0 \n",
       "         ⎥           ⎢                       ⎥           ⎢                    \n",
       "  0  0  0⎥           ⎢0   0  0  0  0  0  0  0⎥           ⎢0  0  0  0  0  0  0 \n",
       "         ⎥           ⎢                       ⎥           ⎢                    \n",
       "  0  0  0⎥           ⎢0   0  0  0  0  0  0  0⎥           ⎢0  0  0  0  0  0  0 \n",
       "         ⎥           ⎢                       ⎥           ⎢                    \n",
       "  0  0  0⎥           ⎢0   0  0  0  0  0  0  0⎥           ⎢0  0  0  0  0  0  0 \n",
       "         ⎥           ⎢                       ⎥           ⎢                    \n",
       "  0  0  0⎥           ⎢0   0  0  0  0  0  0  0⎥           ⎢0  0  0  0  0  0  0 \n",
       "         ⎥           ⎢                       ⎥           ⎢                    \n",
       "  0  0  0⎥           ⎢1   0  0  0  0  0  0  0⎥           ⎢0  0  0  0  0  0  0 \n",
       "         ⎥           ⎢                       ⎥           ⎢                    \n",
       "  0  0  0⎦           ⎣21  7  0  0  0  0  0  0⎦           ⎣1  0  0  0  0  0  0 \n",
       "\n",
       " 0⎤⎫\n",
       "  ⎥⎪\n",
       " 0⎥⎪\n",
       "  ⎥⎪\n",
       " 0⎥⎪\n",
       "  ⎥⎪\n",
       " 0⎥⎪\n",
       "  ⎥⎬\n",
       " 0⎥⎪\n",
       "  ⎥⎪\n",
       " 0⎥⎪\n",
       "  ⎥⎪\n",
       " 0⎥⎪\n",
       "  ⎥⎪\n",
       " 0⎦⎭"
      ]
     },
     "execution_count": 10,
     "metadata": {},
     "output_type": "execute_result"
    }
   ],
   "source": [
    "Z = IndexedBase('Z')\n",
    "\n",
    "cmatrices = component_matrices(P, Phi_polynomials)\n",
    "{Z[k]:v for k,v in cmatrices.items()}"
   ]
  },
  {
   "cell_type": "markdown",
   "metadata": {},
   "source": [
    "## `inverse` function"
   ]
  },
  {
   "cell_type": "code",
   "execution_count": 11,
   "metadata": {
    "collapsed": false
   },
   "outputs": [
    {
     "data": {
      "image/png": "[encoded data removed]",
      "text/latex": [
       "$$f{\\left (z \\right )} = \\frac{1}{z}$$"
      ],
      "text/plain": [
       "       1\n",
       "f(z) = ─\n",
       "       z"
      ]
     },
     "execution_count": 11,
     "metadata": {},
     "output_type": "execute_result"
    }
   ],
   "source": [
    "f, h = Function('f'), Function('h')\n",
    "f_inverse = define(let=f(z), be=1/(z))\n",
    "f_inverse"
   ]
  },
  {
   "cell_type": "code",
   "execution_count": 12,
   "metadata": {
    "collapsed": false
   },
   "outputs": [
    {
     "data": {
      "image/png": "[encoded data removed]",
      "text/latex": [
       "$$g{\\left (z \\right )} = - \\frac{z^{7}}{\\lambda_{1}^{8}} + z^{6} \\left(\\frac{1}{\\lambda_{1}^{7}} + \\frac{7}{\\lambda_{1}^{8}}\\right) + z^{5} \\left(- \\frac{1}{\\lambda_{1}^{6}} - \\frac{6}{\\lambda_{1}^{7}} - \\frac{21}{\\lambda_{1}^{8}}\\right) + z^{4} \\left(\\frac{1}{\\lambda_{1}^{5}} + \\frac{5}{\\lambda_{1}^{6}} + \\frac{15}{\\lambda_{1}^{7}} + \\frac{35}{\\lambda_{1}^{8}}\\right) + z^{3} \\left(- \\frac{1}{\\lambda_{1}^{4}} - \\frac{4}{\\lambda_{1}^{5}} - \\frac{10}{\\lambda_{1}^{6}} - \\frac{20}{\\lambda_{1}^{7}} - \\frac{35}{\\lambda_{1}^{8}}\\right) + z^{2} \\left(\\frac{1}{\\lambda_{1}^{3}} + \\frac{3}{\\lambda_{1}^{4}} + \\frac{6}{\\lambda_{1}^{5}} + \\frac{10}{\\lambda_{1}^{6}} + \\frac{15}{\\lambda_{1}^{7}} + \\frac{21}{\\lambda_{1}^{8}}\\right) + z \\left(- \\frac{1}{\\lambda_{1}^{2}} - \\frac{2}{\\lambda_{1}^{3}} - \\frac{3}{\\lambda_{1}^{4}} - \\frac{4}{\\lambda_{1}^{5}} - \\frac{5}{\\lambda_{1}^{6}} - \\frac{6}{\\lambda_{1}^{7}} - \\frac{7}{\\lambda_{1}^{8}}\\right) + \\frac{1}{\\lambda_{1}} + \\frac{1}{\\lambda_{1}^{2}} + \\frac{1}{\\lambda_{1}^{3}} + \\frac{1}{\\lambda_{1}^{4}} + \\frac{1}{\\lambda_{1}^{5}} + \\frac{1}{\\lambda_{1}^{6}} + \\frac{1}{\\lambda_{1}^{7}} + \\frac{1}{\\lambda_{1}^{8}}$$"
      ],
      "text/plain": [
       "               7                                                              \n",
       "              z         6 ⎛     1             7     ⎞    5 ⎛       1          \n",
       "g(z) = - ─────────── + z ⋅⎜─────────── + ───────────⎟ + z ⋅⎜- ─────────── - ──\n",
       "                   8      ⎜          7             8⎟      ⎜            6     \n",
       "         \\lambda[1]       ⎝\\lambda[1]    \\lambda[1] ⎠      ⎝  \\lambda[1]    \\l\n",
       "\n",
       "                                                                              \n",
       "   6             21    ⎞    4 ⎛     1             5             15            \n",
       "───────── - ───────────⎟ + z ⋅⎜─────────── + ─────────── + ─────────── + ─────\n",
       "        7             8⎟      ⎜          5             6             7        \n",
       "ambda[1]    \\lambda[1] ⎠      ⎝\\lambda[1]    \\lambda[1]    \\lambda[1]    \\lamb\n",
       "\n",
       "                                                                              \n",
       "35    ⎞    3 ⎛       1             4             10            20            3\n",
       "──────⎟ + z ⋅⎜- ─────────── - ─────────── - ─────────── - ─────────── - ──────\n",
       "     8⎟      ⎜            4             5             6             7         \n",
       "da[1] ⎠      ⎝  \\lambda[1]    \\lambda[1]    \\lambda[1]    \\lambda[1]    \\lambd\n",
       "\n",
       "                                                                              \n",
       "5    ⎞    2 ⎛     1             3             6             10            15  \n",
       "─────⎟ + z ⋅⎜─────────── + ─────────── + ─────────── + ─────────── + ─────────\n",
       "    8⎟      ⎜          3             4             5             6            \n",
       "a[1] ⎠      ⎝\\lambda[1]    \\lambda[1]    \\lambda[1]    \\lambda[1]    \\lambda[1\n",
       "\n",
       "                                                                              \n",
       "          21    ⎞     ⎛       1             2             3             4     \n",
       "── + ───────────⎟ + z⋅⎜- ─────────── - ─────────── - ─────────── - ───────────\n",
       " 7             8⎟     ⎜            2             3             4             5\n",
       "]    \\lambda[1] ⎠     ⎝  \\lambda[1]    \\lambda[1]    \\lambda[1]    \\lambda[1] \n",
       "\n",
       "                                                                              \n",
       "        5             6             7     ⎞       1             1             \n",
       " - ─────────── - ─────────── - ───────────⎟ + ────────── + ─────────── + ─────\n",
       "             6             7             8⎟   \\lambda[1]             2        \n",
       "   \\lambda[1]    \\lambda[1]    \\lambda[1] ⎠                \\lambda[1]    \\lamb\n",
       "\n",
       "                                                                            \n",
       "1             1             1             1             1             1     \n",
       "────── + ─────────── + ─────────── + ─────────── + ─────────── + ───────────\n",
       "     3             4             5             6             7             8\n",
       "da[1]    \\lambda[1]    \\lambda[1]    \\lambda[1]    \\lambda[1]    \\lambda[1] "
      ]
     },
     "execution_count": 12,
     "metadata": {},
     "output_type": "execute_result"
    }
   ],
   "source": [
    "g_inverse = g_poly(f_inverse, eigendata, Phi_polynomials)\n",
    "g_inverse"
   ]
  },
  {
   "cell_type": "code",
   "execution_count": 13,
   "metadata": {
    "collapsed": false
   },
   "outputs": [
    {
     "data": {
      "image/png": "[encoded data removed]",
      "text/latex": [
       "$$g{\\left (z \\right )} = - z^{7} + 8 z^{6} - 28 z^{5} + 56 z^{4} - 70 z^{3} + 56 z^{2} - 28 z + 8$$"
      ],
      "text/plain": [
       "          7      6       5       4       3       2           \n",
       "g(z) = - z  + 8⋅z  - 28⋅z  + 56⋅z  - 70⋅z  + 56⋅z  - 28⋅z + 8"
      ]
     },
     "execution_count": 13,
     "metadata": {},
     "output_type": "execute_result"
    }
   ],
   "source": [
    "g_inverse = g_inverse.subs(eigenvals)\n",
    "g_inverse"
   ]
  },
  {
   "cell_type": "code",
   "execution_count": 14,
   "metadata": {
    "collapsed": false
   },
   "outputs": [
    {
     "data": {
      "image/png": "[encoded data removed]",
      "text/latex": [
       "$$\\left[\\begin{matrix}1 & 0 & 0 & 0 & 0 & 0 & 0 & 0\\\\-1 & 1 & 0 & 0 & 0 & 0 & 0 & 0\\\\1 & -2 & 1 & 0 & 0 & 0 & 0 & 0\\\\-1 & 3 & -3 & 1 & 0 & 0 & 0 & 0\\\\1 & -4 & 6 & -4 & 1 & 0 & 0 & 0\\\\-1 & 5 & -10 & 10 & -5 & 1 & 0 & 0\\\\1 & -6 & 15 & -20 & 15 & -6 & 1 & 0\\\\-1 & 7 & -21 & 35 & -35 & 21 & -7 & 1\\end{matrix}\\right]$$"
      ],
      "text/plain": [
       "⎡1   0    0    0    0   0   0   0⎤\n",
       "⎢                                ⎥\n",
       "⎢-1  1    0    0    0   0   0   0⎥\n",
       "⎢                                ⎥\n",
       "⎢1   -2   1    0    0   0   0   0⎥\n",
       "⎢                                ⎥\n",
       "⎢-1  3   -3    1    0   0   0   0⎥\n",
       "⎢                                ⎥\n",
       "⎢1   -4   6   -4    1   0   0   0⎥\n",
       "⎢                                ⎥\n",
       "⎢-1  5   -10  10   -5   1   0   0⎥\n",
       "⎢                                ⎥\n",
       "⎢1   -6  15   -20  15   -6  1   0⎥\n",
       "⎢                                ⎥\n",
       "⎣-1  7   -21  35   -35  21  -7  1⎦"
      ]
     },
     "execution_count": 14,
     "metadata": {},
     "output_type": "execute_result"
    }
   ],
   "source": [
    "with lift_to_matrix_function(g_inverse) as g_inverse:\n",
    "    P_inverse = g_inverse(P)\n",
    "P_inverse"
   ]
  },
  {
   "cell_type": "code",
   "execution_count": 15,
   "metadata": {
    "collapsed": false
   },
   "outputs": [
    {
     "data": {
      "image/png": "[encoded data removed]",
      "text/latex": [
       "$$\\left[\\begin{matrix}1 & 0 & 0 & 0 & 0 & 0 & 0 & 0\\\\1 & 1 & 0 & 0 & 0 & 0 & 0 & 0\\\\1 & 2 & 1 & 0 & 0 & 0 & 0 & 0\\\\1 & 3 & 3 & 1 & 0 & 0 & 0 & 0\\\\1 & 4 & 6 & 4 & 1 & 0 & 0 & 0\\\\1 & 5 & 10 & 10 & 5 & 1 & 0 & 0\\\\1 & 6 & 15 & 20 & 15 & 6 & 1 & 0\\\\1 & 7 & 21 & 35 & 35 & 21 & 7 & 1\\end{matrix}\\right]$$"
      ],
      "text/plain": [
       "⎡1  0  0   0   0   0   0  0⎤\n",
       "⎢                          ⎥\n",
       "⎢1  1  0   0   0   0   0  0⎥\n",
       "⎢                          ⎥\n",
       "⎢1  2  1   0   0   0   0  0⎥\n",
       "⎢                          ⎥\n",
       "⎢1  3  3   1   0   0   0  0⎥\n",
       "⎢                          ⎥\n",
       "⎢1  4  6   4   1   0   0  0⎥\n",
       "⎢                          ⎥\n",
       "⎢1  5  10  10  5   1   0  0⎥\n",
       "⎢                          ⎥\n",
       "⎢1  6  15  20  15  6   1  0⎥\n",
       "⎢                          ⎥\n",
       "⎣1  7  21  35  35  21  7  1⎦"
      ]
     },
     "execution_count": 15,
     "metadata": {},
     "output_type": "execute_result"
    }
   ],
   "source": [
    "g_inverse(P_inverse)"
   ]
  },
  {
   "cell_type": "code",
   "execution_count": 16,
   "metadata": {
    "collapsed": false
   },
   "outputs": [
    {
     "data": {
      "image/png": "[encoded data removed]",
      "text/latex": [
       "$$\\left[\\begin{matrix}1 & 0 & 0 & 0 & 0 & 0 & 0 & 0\\\\0 & 1 & 0 & 0 & 0 & 0 & 0 & 0\\\\0 & 0 & 1 & 0 & 0 & 0 & 0 & 0\\\\0 & 0 & 0 & 1 & 0 & 0 & 0 & 0\\\\0 & 0 & 0 & 0 & 1 & 0 & 0 & 0\\\\0 & 0 & 0 & 0 & 0 & 1 & 0 & 0\\\\0 & 0 & 0 & 0 & 0 & 0 & 1 & 0\\\\0 & 0 & 0 & 0 & 0 & 0 & 0 & 1\\end{matrix}\\right]$$"
      ],
      "text/plain": [
       "⎡1  0  0  0  0  0  0  0⎤\n",
       "⎢                      ⎥\n",
       "⎢0  1  0  0  0  0  0  0⎥\n",
       "⎢                      ⎥\n",
       "⎢0  0  1  0  0  0  0  0⎥\n",
       "⎢                      ⎥\n",
       "⎢0  0  0  1  0  0  0  0⎥\n",
       "⎢                      ⎥\n",
       "⎢0  0  0  0  1  0  0  0⎥\n",
       "⎢                      ⎥\n",
       "⎢0  0  0  0  0  1  0  0⎥\n",
       "⎢                      ⎥\n",
       "⎢0  0  0  0  0  0  1  0⎥\n",
       "⎢                      ⎥\n",
       "⎣0  0  0  0  0  0  0  1⎦"
      ]
     },
     "execution_count": 16,
     "metadata": {},
     "output_type": "execute_result"
    }
   ],
   "source": [
    "P_inverse * P"
   ]
  },
  {
   "cell_type": "code",
   "execution_count": 17,
   "metadata": {
    "collapsed": false
   },
   "outputs": [
    {
     "data": {
      "image/png": "[encoded data removed]",
      "text/latex": [
       "$$\\left[\\begin{matrix}1 & 0 & 0 & 0 & 0 & 0 & 0 & 0\\\\-1 & 1 & 0 & 0 & 0 & 0 & 0 & 0\\\\1 & -2 & 1 & 0 & 0 & 0 & 0 & 0\\\\-1 & 3 & -3 & 1 & 0 & 0 & 0 & 0\\\\1 & -4 & 6 & -4 & 1 & 0 & 0 & 0\\\\-1 & 5 & -10 & 10 & -5 & 1 & 0 & 0\\\\1 & -6 & 15 & -20 & 15 & -6 & 1 & 0\\\\-1 & 7 & -21 & 35 & -35 & 21 & -7 & 1\\end{matrix}\\right]$$"
      ],
      "text/plain": [
       "⎡1   0    0    0    0   0   0   0⎤\n",
       "⎢                                ⎥\n",
       "⎢-1  1    0    0    0   0   0   0⎥\n",
       "⎢                                ⎥\n",
       "⎢1   -2   1    0    0   0   0   0⎥\n",
       "⎢                                ⎥\n",
       "⎢-1  3   -3    1    0   0   0   0⎥\n",
       "⎢                                ⎥\n",
       "⎢1   -4   6   -4    1   0   0   0⎥\n",
       "⎢                                ⎥\n",
       "⎢-1  5   -10  10   -5   1   0   0⎥\n",
       "⎢                                ⎥\n",
       "⎢1   -6  15   -20  15   -6  1   0⎥\n",
       "⎢                                ⎥\n",
       "⎣-1  7   -21  35   -35  21  -7  1⎦"
      ]
     },
     "execution_count": 17,
     "metadata": {},
     "output_type": "execute_result"
    }
   ],
   "source": [
    "P**(-1)"
   ]
  },
  {
   "cell_type": "markdown",
   "metadata": {},
   "source": [
    "## `power` function"
   ]
  },
  {
   "cell_type": "code",
   "execution_count": 18,
   "metadata": {
    "collapsed": false
   },
   "outputs": [
    {
     "data": {
      "image/png": "[encoded data removed]",
      "text/latex": [
       "$$f{\\left (z \\right )} = z^{r}$$"
      ],
      "text/plain": [
       "        r\n",
       "f(z) = z "
      ]
     },
     "execution_count": 18,
     "metadata": {},
     "output_type": "execute_result"
    }
   ],
   "source": [
    "f = Function('f')\n",
    "f_power = define(let=f(z), be=z**r)\n",
    "f_power"
   ]
  },
  {
   "cell_type": "code",
   "execution_count": 19,
   "metadata": {
    "collapsed": false
   },
   "outputs": [],
   "source": [
    "g_power = g_poly(f_power, eigendata, Phi_polynomials)\n",
    "#g_power"
   ]
  },
  {
   "cell_type": "code",
   "execution_count": 20,
   "metadata": {
    "collapsed": false
   },
   "outputs": [
    {
     "data": {
      "image/png": "[encoded data removed]",
      "text/latex": [
       "$$g{\\left (z \\right )} = - \\frac{r^{7}}{5040} + \\frac{r^{6}}{180} - \\frac{23 r^{5}}{360} + \\frac{7 r^{4}}{18} - \\frac{967 r^{3}}{720} + \\frac{469 r^{2}}{180} - \\frac{363 r}{140} + z^{7} \\left(\\frac{r^{7}}{5040} - \\frac{r^{6}}{240} + \\frac{5 r^{5}}{144} - \\frac{7 r^{4}}{48} + \\frac{29 r^{3}}{90} - \\frac{7 r^{2}}{20} + \\frac{r}{7}\\right) + z^{6} \\left(- \\frac{r^{7}}{720} + \\frac{11 r^{6}}{360} - \\frac{19 r^{5}}{72} + \\frac{41 r^{4}}{36} - \\frac{1849 r^{3}}{720} + \\frac{1019 r^{2}}{360} - \\frac{7 r}{6}\\right) + z^{5} \\left(\\frac{r^{7}}{240} - \\frac{23 r^{6}}{240} + \\frac{69 r^{5}}{80} - \\frac{185 r^{4}}{48} + \\frac{134 r^{3}}{15} - \\frac{201 r^{2}}{20} + \\frac{21 r}{5}\\right) + z^{4} \\left(- \\frac{r^{7}}{144} + \\frac{r^{6}}{6} - \\frac{113 r^{5}}{72} + \\frac{22 r^{4}}{3} - \\frac{2545 r^{3}}{144} + \\frac{41 r^{2}}{2} - \\frac{35 r}{4}\\right) + z^{3} \\left(\\frac{r^{7}}{144} - \\frac{25 r^{6}}{144} + \\frac{247 r^{5}}{144} - \\frac{1219 r^{4}}{144} + \\frac{389 r^{3}}{18} - \\frac{949 r^{2}}{36} + \\frac{35 r}{3}\\right) + z^{2} \\left(- \\frac{r^{7}}{240} + \\frac{13 r^{6}}{120} - \\frac{9 r^{5}}{8} + \\frac{71 r^{4}}{12} - \\frac{3929 r^{3}}{240} + \\frac{879 r^{2}}{40} - \\frac{21 r}{2}\\right) + z \\left(\\frac{r^{7}}{720} - \\frac{3 r^{6}}{80} + \\frac{59 r^{5}}{144} - \\frac{37 r^{4}}{16} + \\frac{319 r^{3}}{45} - \\frac{223 r^{2}}{20} + 7 r\\right) + 1$$"
      ],
      "text/plain": [
       "           7      6       5      4        3        2              ⎛  7      6 \n",
       "          r      r    23⋅r    7⋅r    967⋅r    469⋅r    363⋅r    7 ⎜ r      r  \n",
       "g(z) = - ──── + ─── - ───── + ──── - ────── + ────── - ───── + z ⋅⎜──── - ─── \n",
       "         5040   180    360     18     720      180      140       ⎝5040   240 \n",
       "\n",
       "     5      4       3      2    ⎞      ⎛    7       6       5       4         \n",
       "  5⋅r    7⋅r    29⋅r    7⋅r    r⎟    6 ⎜   r    11⋅r    19⋅r    41⋅r    1849⋅r\n",
       "+ ──── - ──── + ───── - ──── + ─⎟ + z ⋅⎜- ─── + ───── - ───── + ───── - ──────\n",
       "  144     48      90     20    7⎠      ⎝  720    360      72      36      720 \n",
       "\n",
       "3         2      ⎞      ⎛  7       6       5        4        3        2       \n",
       "    1019⋅r    7⋅r⎟    5 ⎜ r    23⋅r    69⋅r    185⋅r    134⋅r    201⋅r    21⋅r\n",
       "─ + ─────── - ───⎟ + z ⋅⎜─── - ───── + ───── - ────── + ────── - ────── + ────\n",
       "      360      6 ⎠      ⎝240    240      80      48       15       20      5  \n",
       "\n",
       "⎞      ⎛    7    6        5       4         3       2       ⎞      ⎛  7       \n",
       "⎟    4 ⎜   r    r    113⋅r    22⋅r    2545⋅r    41⋅r    35⋅r⎟    3 ⎜ r    25⋅r\n",
       "⎟ + z ⋅⎜- ─── + ── - ────── + ───── - ─────── + ───── - ────⎟ + z ⋅⎜─── - ────\n",
       "⎠      ⎝  144   6      72       3       144       2      4  ⎠      ⎝144    144\n",
       "\n",
       "6        5         4        3        2       ⎞      ⎛    7       6      5     \n",
       "    247⋅r    1219⋅r    389⋅r    949⋅r    35⋅r⎟    2 ⎜   r    13⋅r    9⋅r    71\n",
       "─ + ────── - ─────── + ────── - ────── + ────⎟ + z ⋅⎜- ─── + ───── - ──── + ──\n",
       "     144       144       18       36      3  ⎠      ⎝  240    120     8       \n",
       "\n",
       "  4         3        2       ⎞     ⎛  7      6       5       4        3       \n",
       "⋅r    3929⋅r    879⋅r    21⋅r⎟     ⎜ r    3⋅r    59⋅r    37⋅r    319⋅r    223⋅\n",
       "─── - ─────── + ────── - ────⎟ + z⋅⎜─── - ──── + ───── - ───── + ────── - ────\n",
       "12      240       40      2  ⎠     ⎝720    80     144      16      45       20\n",
       "\n",
       " 2      ⎞    \n",
       "r       ⎟    \n",
       "── + 7⋅r⎟ + 1\n",
       "        ⎠    "
      ]
     },
     "execution_count": 20,
     "metadata": {},
     "output_type": "execute_result"
    }
   ],
   "source": [
    "g_power = g_power.subs(eigenvals)\n",
    "g_power"
   ]
  },
  {
   "cell_type": "code",
   "execution_count": 21,
   "metadata": {
    "collapsed": false
   },
   "outputs": [
    {
     "data": {
      "image/png": "[encoded data removed]",
      "text/latex": [
       "$$\\left[\\begin{matrix}1 & 0 & 0 & 0 & 0 & 0 & 0 & 0\\\\r & 1 & 0 & 0 & 0 & 0 & 0 & 0\\\\r^{2} & 2 r & 1 & 0 & 0 & 0 & 0 & 0\\\\r^{3} & 3 r^{2} & 3 r & 1 & 0 & 0 & 0 & 0\\\\r^{4} & 4 r^{3} & 6 r^{2} & 4 r & 1 & 0 & 0 & 0\\\\r^{5} & 5 r^{4} & 10 r^{3} & 10 r^{2} & 5 r & 1 & 0 & 0\\\\r^{6} & 6 r^{5} & 15 r^{4} & 20 r^{3} & 15 r^{2} & 6 r & 1 & 0\\\\r^{7} & 7 r^{6} & 21 r^{5} & 35 r^{4} & 35 r^{3} & 21 r^{2} & 7 r & 1\\end{matrix}\\right]$$"
      ],
      "text/plain": [
       "⎡1    0      0      0      0      0     0   0⎤\n",
       "⎢                                            ⎥\n",
       "⎢r    1      0      0      0      0     0   0⎥\n",
       "⎢                                            ⎥\n",
       "⎢ 2                                          ⎥\n",
       "⎢r   2⋅r     1      0      0      0     0   0⎥\n",
       "⎢                                            ⎥\n",
       "⎢ 3     2                                    ⎥\n",
       "⎢r   3⋅r    3⋅r     1      0      0     0   0⎥\n",
       "⎢                                            ⎥\n",
       "⎢ 4     3     2                              ⎥\n",
       "⎢r   4⋅r   6⋅r     4⋅r     1      0     0   0⎥\n",
       "⎢                                            ⎥\n",
       "⎢ 5     4      3      2                      ⎥\n",
       "⎢r   5⋅r   10⋅r   10⋅r    5⋅r     1     0   0⎥\n",
       "⎢                                            ⎥\n",
       "⎢ 6     5      4      3      2               ⎥\n",
       "⎢r   6⋅r   15⋅r   20⋅r   15⋅r    6⋅r    1   0⎥\n",
       "⎢                                            ⎥\n",
       "⎢ 7     6      5      4      3      2        ⎥\n",
       "⎣r   7⋅r   21⋅r   35⋅r   35⋅r   21⋅r   7⋅r  1⎦"
      ]
     },
     "execution_count": 21,
     "metadata": {},
     "output_type": "execute_result"
    }
   ],
   "source": [
    "with lift_to_matrix_function(g_power) as g_power:\n",
    "    m_power = g_power(P)\n",
    "m_power"
   ]
  },
  {
   "cell_type": "code",
   "execution_count": 24,
   "metadata": {
    "collapsed": false
   },
   "outputs": [
    {
     "data": {
      "image/png": "[encoded data removed]",
      "text/latex": [
       "$$\\left[\\begin{matrix}1 & 0 & 0 & 0 & 0 & 0 & 0 & 0\\\\\\frac{1}{2} & 1 & 0 & 0 & 0 & 0 & 0 & 0\\\\\\frac{1}{4} & 1 & 1 & 0 & 0 & 0 & 0 & 0\\\\\\frac{1}{8} & \\frac{3}{4} & \\frac{3}{2} & 1 & 0 & 0 & 0 & 0\\\\\\frac{1}{16} & \\frac{1}{2} & \\frac{3}{2} & 2 & 1 & 0 & 0 & 0\\\\\\frac{1}{32} & \\frac{5}{16} & \\frac{5}{4} & \\frac{5}{2} & \\frac{5}{2} & 1 & 0 & 0\\\\\\frac{1}{64} & \\frac{3}{16} & \\frac{15}{16} & \\frac{5}{2} & \\frac{15}{4} & 3 & 1 & 0\\\\\\frac{1}{128} & \\frac{7}{64} & \\frac{21}{32} & \\frac{35}{16} & \\frac{35}{8} & \\frac{21}{4} & \\frac{7}{2} & 1\\end{matrix}\\right]$$"
      ],
      "text/plain": [
       "⎡  1     0     0    0    0     0     0   0⎤\n",
       "⎢                                         ⎥\n",
       "⎢ 1/2    1     0    0    0     0     0   0⎥\n",
       "⎢                                         ⎥\n",
       "⎢ 1/4    1     1    0    0     0     0   0⎥\n",
       "⎢                                         ⎥\n",
       "⎢ 1/8   3/4   3/2   1    0     0     0   0⎥\n",
       "⎢                                         ⎥\n",
       "⎢1/16   1/2   3/2   2    1     0     0   0⎥\n",
       "⎢                                         ⎥\n",
       "⎢1/32   5/16  5/4  5/2  5/2    1     0   0⎥\n",
       "⎢                                         ⎥\n",
       "⎢             15                          ⎥\n",
       "⎢1/64   3/16  ──   5/2  15/4   3     1   0⎥\n",
       "⎢             16                          ⎥\n",
       "⎢                                         ⎥\n",
       "⎢             21   35                     ⎥\n",
       "⎢1/128  7/64  ──   ──   35/8  21/4  7/2  1⎥\n",
       "⎣             32   16                     ⎦"
      ]
     },
     "execution_count": 24,
     "metadata": {},
     "output_type": "execute_result"
    }
   ],
   "source": [
    "m_power.subs({r:S(1)/2})"
   ]
  },
  {
   "cell_type": "code",
   "execution_count": 25,
   "metadata": {
    "collapsed": false
   },
   "outputs": [
    {
     "data": {
      "image/png": "[encoded data removed]",
      "text/latex": [
       "$$\\left[\\begin{matrix}1 & 0 & 0 & 0 & 0 & 0 & 0 & 0\\\\r & 1 & 0 & 0 & 0 & 0 & 0 & 0\\\\r^{2} & 2 r & 1 & 0 & 0 & 0 & 0 & 0\\\\r^{3} & 3 r^{2} & 3 r & 1 & 0 & 0 & 0 & 0\\\\r^{4} & 4 r^{3} & 6 r^{2} & 4 r & 1 & 0 & 0 & 0\\\\r^{5} & 5 r^{4} & 10 r^{3} & 10 r^{2} & 5 r & 1 & 0 & 0\\\\r^{6} & 6 r^{5} & 15 r^{4} & 20 r^{3} & 15 r^{2} & 6 r & 1 & 0\\\\r^{7} & 7 r^{6} & 21 r^{5} & 35 r^{4} & 35 r^{3} & 21 r^{2} & 7 r & 1\\end{matrix}\\right]$$"
      ],
      "text/plain": [
       "⎡1    0      0      0      0      0     0   0⎤\n",
       "⎢                                            ⎥\n",
       "⎢r    1      0      0      0      0     0   0⎥\n",
       "⎢                                            ⎥\n",
       "⎢ 2                                          ⎥\n",
       "⎢r   2⋅r     1      0      0      0     0   0⎥\n",
       "⎢                                            ⎥\n",
       "⎢ 3     2                                    ⎥\n",
       "⎢r   3⋅r    3⋅r     1      0      0     0   0⎥\n",
       "⎢                                            ⎥\n",
       "⎢ 4     3     2                              ⎥\n",
       "⎢r   4⋅r   6⋅r     4⋅r     1      0     0   0⎥\n",
       "⎢                                            ⎥\n",
       "⎢ 5     4      3      2                      ⎥\n",
       "⎢r   5⋅r   10⋅r   10⋅r    5⋅r     1     0   0⎥\n",
       "⎢                                            ⎥\n",
       "⎢ 6     5      4      3      2               ⎥\n",
       "⎢r   6⋅r   15⋅r   20⋅r   15⋅r    6⋅r    1   0⎥\n",
       "⎢                                            ⎥\n",
       "⎢ 7     6      5      4      3      2        ⎥\n",
       "⎣r   7⋅r   21⋅r   35⋅r   35⋅r   21⋅r   7⋅r  1⎦"
      ]
     },
     "execution_count": 25,
     "metadata": {},
     "output_type": "execute_result"
    }
   ],
   "source": [
    "(P**r).applyfunc(simplify)"
   ]
  },
  {
   "cell_type": "markdown",
   "metadata": {},
   "source": [
    "## `sqrt` function"
   ]
  },
  {
   "cell_type": "code",
   "execution_count": 26,
   "metadata": {
    "collapsed": false
   },
   "outputs": [
    {
     "data": {
      "image/png": "[encoded data removed]",
      "text/latex": [
       "$$f{\\left (z \\right )} = \\sqrt{z}$$"
      ],
      "text/plain": [
       "f(z) = √z"
      ]
     },
     "execution_count": 26,
     "metadata": {},
     "output_type": "execute_result"
    }
   ],
   "source": [
    "f = Function('f')\n",
    "f_sqrt = define(let=f(z), be=sqrt(z))\n",
    "f_sqrt"
   ]
  },
  {
   "cell_type": "code",
   "execution_count": 27,
   "metadata": {
    "collapsed": false
   },
   "outputs": [
    {
     "data": {
      "image/png": "[encoded data removed]",
      "text/latex": [
       "$$g{\\left (z \\right )} = \\frac{33 z^{7}}{2048 \\lambda_{1}^{\\frac{13}{2}}} + z^{6} \\left(- \\frac{21}{1024 \\lambda_{1}^{\\frac{11}{2}}} - \\frac{231}{2048 \\lambda_{1}^{\\frac{13}{2}}}\\right) + z^{5} \\left(\\frac{7}{256 \\lambda_{1}^{\\frac{9}{2}}} + \\frac{63}{512 \\lambda_{1}^{\\frac{11}{2}}} + \\frac{693}{2048 \\lambda_{1}^{\\frac{13}{2}}}\\right) + z^{4} \\left(- \\frac{5}{128 \\lambda_{1}^{\\frac{7}{2}}} - \\frac{35}{256 \\lambda_{1}^{\\frac{9}{2}}} - \\frac{315}{1024 \\lambda_{1}^{\\frac{11}{2}}} - \\frac{1155}{2048 \\lambda_{1}^{\\frac{13}{2}}}\\right) + z^{3} \\left(\\frac{1}{16 \\lambda_{1}^{\\frac{5}{2}}} + \\frac{5}{32 \\lambda_{1}^{\\frac{7}{2}}} + \\frac{35}{128 \\lambda_{1}^{\\frac{9}{2}}} + \\frac{105}{256 \\lambda_{1}^{\\frac{11}{2}}} + \\frac{1155}{2048 \\lambda_{1}^{\\frac{13}{2}}}\\right) + z^{2} \\left(- \\frac{1}{8 \\lambda_{1}^{\\frac{3}{2}}} - \\frac{3}{16 \\lambda_{1}^{\\frac{5}{2}}} - \\frac{15}{64 \\lambda_{1}^{\\frac{7}{2}}} - \\frac{35}{128 \\lambda_{1}^{\\frac{9}{2}}} - \\frac{315}{1024 \\lambda_{1}^{\\frac{11}{2}}} - \\frac{693}{2048 \\lambda_{1}^{\\frac{13}{2}}}\\right) + z \\left(\\frac{1}{2 \\sqrt{\\lambda_{1}}} + \\frac{1}{4 \\lambda_{1}^{\\frac{3}{2}}} + \\frac{3}{16 \\lambda_{1}^{\\frac{5}{2}}} + \\frac{5}{32 \\lambda_{1}^{\\frac{7}{2}}} + \\frac{35}{256 \\lambda_{1}^{\\frac{9}{2}}} + \\frac{63}{512 \\lambda_{1}^{\\frac{11}{2}}} + \\frac{231}{2048 \\lambda_{1}^{\\frac{13}{2}}}\\right) + \\sqrt{\\lambda_{1}} - \\frac{1}{2 \\sqrt{\\lambda_{1}}} - \\frac{1}{8 \\lambda_{1}^{\\frac{3}{2}}} - \\frac{1}{16 \\lambda_{1}^{\\frac{5}{2}}} - \\frac{5}{128 \\lambda_{1}^{\\frac{7}{2}}} - \\frac{7}{256 \\lambda_{1}^{\\frac{9}{2}}} - \\frac{21}{1024 \\lambda_{1}^{\\frac{11}{2}}} - \\frac{33}{2048 \\lambda_{1}^{\\frac{13}{2}}}$$"
      ],
      "text/plain": [
       "                  7                                                           \n",
       "              33⋅z            6 ⎛           21                   231        ⎞ \n",
       "g(z) = ─────────────────── + z ⋅⎜- ─────────────────── - ───────────────────⎟ \n",
       "                      13/2      ⎜                 11/2                  13/2⎟ \n",
       "       2048⋅\\lambda[1]          ⎝  1024⋅\\lambda[1]       2048⋅\\lambda[1]    ⎠ \n",
       "\n",
       "                                                                              \n",
       "   5 ⎛        7                   63                   693        ⎞    4 ⎛    \n",
       "+ z ⋅⎜───────────────── + ────────────────── + ───────────────────⎟ + z ⋅⎜- ──\n",
       "     ⎜              9/2                 11/2                  13/2⎟      ⎜    \n",
       "     ⎝256⋅\\lambda[1]      512⋅\\lambda[1]       2048⋅\\lambda[1]    ⎠      ⎝  12\n",
       "\n",
       "                                                                              \n",
       "      5                   35                  315                   1155      \n",
       "─────────────── - ───────────────── - ─────────────────── - ──────────────────\n",
       "            7/2                 9/2                  11/2                  13/\n",
       "8⋅\\lambda[1]      256⋅\\lambda[1]      1024⋅\\lambda[1]       2048⋅\\lambda[1]   \n",
       "\n",
       "                                                                              \n",
       " ⎞    3 ⎛       1                  5                   35                 105 \n",
       "─⎟ + z ⋅⎜──────────────── + ──────────────── + ───────────────── + ───────────\n",
       "2⎟      ⎜             5/2                7/2                 9/2              \n",
       " ⎠      ⎝16⋅\\lambda[1]      32⋅\\lambda[1]      128⋅\\lambda[1]      256⋅\\lambda\n",
       "\n",
       "                                                                              \n",
       "                  1155       ⎞    2 ⎛         1                 3             \n",
       "─────── + ───────────────────⎟ + z ⋅⎜- ─────────────── - ──────────────── - ──\n",
       "   11/2                  13/2⎟      ⎜              3/2                5/2     \n",
       "[1]       2048⋅\\lambda[1]    ⎠      ⎝  8⋅\\lambda[1]      16⋅\\lambda[1]      64\n",
       "\n",
       "                                                                              \n",
       "     15                  35                  315                   693        \n",
       "────────────── - ───────────────── - ─────────────────── - ───────────────────\n",
       "           7/2                 9/2                  11/2                  13/2\n",
       "⋅\\lambda[1]      128⋅\\lambda[1]      1024⋅\\lambda[1]       2048⋅\\lambda[1]    \n",
       "\n",
       "                                                                              \n",
       "⎞     ⎛       1                  1                 3                  5       \n",
       "⎟ + z⋅⎜──────────────── + ─────────────── + ──────────────── + ───────────────\n",
       "⎟     ⎜    ____________               3/2                5/2                7/\n",
       "⎠     ⎝2⋅╲╱ \\lambda[1]    4⋅\\lambda[1]      16⋅\\lambda[1]      32⋅\\lambda[1]  \n",
       "\n",
       "                                                                              \n",
       "            35                  63                   231        ⎞     ________\n",
       "─ + ───────────────── + ────────────────── + ───────────────────⎟ + ╲╱ \\lambda\n",
       "2                 9/2                 11/2                  13/2⎟             \n",
       "    256⋅\\lambda[1]      512⋅\\lambda[1]       2048⋅\\lambda[1]    ⎠             \n",
       "\n",
       "                                                                              \n",
       "____          1                  1                 1                   5      \n",
       "[1]  - ──────────────── - ─────────────── - ──────────────── - ───────────────\n",
       "           ____________               3/2                5/2                 7\n",
       "       2⋅╲╱ \\lambda[1]    8⋅\\lambda[1]      16⋅\\lambda[1]      128⋅\\lambda[1] \n",
       "\n",
       "                                                                  \n",
       "             7                    21                    33        \n",
       "── - ───────────────── - ─────────────────── - ───────────────────\n",
       "/2                 9/2                  11/2                  13/2\n",
       "     256⋅\\lambda[1]      1024⋅\\lambda[1]       2048⋅\\lambda[1]    "
      ]
     },
     "execution_count": 27,
     "metadata": {},
     "output_type": "execute_result"
    }
   ],
   "source": [
    "g_sqrt = g_poly(f_sqrt, eigendata, Phi_polynomials)\n",
    "g_sqrt"
   ]
  },
  {
   "cell_type": "code",
   "execution_count": 28,
   "metadata": {
    "collapsed": false
   },
   "outputs": [
    {
     "data": {
      "image/png": "[encoded data removed]",
      "text/latex": [
       "$$g{\\left (z \\right )} = \\frac{33 z^{7}}{2048} - \\frac{273 z^{6}}{2048} + \\frac{1001 z^{5}}{2048} - \\frac{2145 z^{4}}{2048} + \\frac{3003 z^{3}}{2048} - \\frac{3003 z^{2}}{2048} + \\frac{3003 z}{2048} + \\frac{429}{2048}$$"
      ],
      "text/plain": [
       "           7        6         5         4         3         2                \n",
       "       33⋅z    273⋅z    1001⋅z    2145⋅z    3003⋅z    3003⋅z    3003⋅z   429 \n",
       "g(z) = ───── - ────── + ─────── - ─────── + ─────── - ─────── + ────── + ────\n",
       "        2048    2048      2048      2048      2048      2048     2048    2048"
      ]
     },
     "execution_count": 28,
     "metadata": {},
     "output_type": "execute_result"
    }
   ],
   "source": [
    "g_sqrt = g_sqrt.subs(eigenvals)\n",
    "g_sqrt"
   ]
  },
  {
   "cell_type": "code",
   "execution_count": 29,
   "metadata": {
    "collapsed": false
   },
   "outputs": [
    {
     "data": {
      "image/png": "[encoded data removed]",
      "text/latex": [
       "$$\\left[\\begin{matrix}1 & 0 & 0 & 0 & 0 & 0 & 0 & 0\\\\\\frac{1}{2} & 1 & 0 & 0 & 0 & 0 & 0 & 0\\\\\\frac{1}{4} & 1 & 1 & 0 & 0 & 0 & 0 & 0\\\\\\frac{1}{8} & \\frac{3}{4} & \\frac{3}{2} & 1 & 0 & 0 & 0 & 0\\\\\\frac{1}{16} & \\frac{1}{2} & \\frac{3}{2} & 2 & 1 & 0 & 0 & 0\\\\\\frac{1}{32} & \\frac{5}{16} & \\frac{5}{4} & \\frac{5}{2} & \\frac{5}{2} & 1 & 0 & 0\\\\\\frac{1}{64} & \\frac{3}{16} & \\frac{15}{16} & \\frac{5}{2} & \\frac{15}{4} & 3 & 1 & 0\\\\\\frac{1}{128} & \\frac{7}{64} & \\frac{21}{32} & \\frac{35}{16} & \\frac{35}{8} & \\frac{21}{4} & \\frac{7}{2} & 1\\end{matrix}\\right]$$"
      ],
      "text/plain": [
       "⎡  1     0     0    0    0     0     0   0⎤\n",
       "⎢                                         ⎥\n",
       "⎢ 1/2    1     0    0    0     0     0   0⎥\n",
       "⎢                                         ⎥\n",
       "⎢ 1/4    1     1    0    0     0     0   0⎥\n",
       "⎢                                         ⎥\n",
       "⎢ 1/8   3/4   3/2   1    0     0     0   0⎥\n",
       "⎢                                         ⎥\n",
       "⎢1/16   1/2   3/2   2    1     0     0   0⎥\n",
       "⎢                                         ⎥\n",
       "⎢1/32   5/16  5/4  5/2  5/2    1     0   0⎥\n",
       "⎢                                         ⎥\n",
       "⎢             15                          ⎥\n",
       "⎢1/64   3/16  ──   5/2  15/4   3     1   0⎥\n",
       "⎢             16                          ⎥\n",
       "⎢                                         ⎥\n",
       "⎢             21   35                     ⎥\n",
       "⎢1/128  7/64  ──   ──   35/8  21/4  7/2  1⎥\n",
       "⎣             32   16                     ⎦"
      ]
     },
     "execution_count": 29,
     "metadata": {},
     "output_type": "execute_result"
    }
   ],
   "source": [
    "with lift_to_matrix_function(g_sqrt) as g_sqrt:\n",
    "    m_sqrt = g_sqrt(P)\n",
    "m_sqrt"
   ]
  },
  {
   "cell_type": "code",
   "execution_count": 30,
   "metadata": {
    "collapsed": false
   },
   "outputs": [
    {
     "data": {
      "image/png": "[encoded data removed]",
      "text/latex": [
       "$$\\left[\\begin{matrix}1 & 0 & 0 & 0 & 0 & 0 & 0 & 0\\\\\\frac{1}{2} & 1 & 0 & 0 & 0 & 0 & 0 & 0\\\\\\frac{1}{4} & 1 & 1 & 0 & 0 & 0 & 0 & 0\\\\\\frac{1}{8} & \\frac{3}{4} & \\frac{3}{2} & 1 & 0 & 0 & 0 & 0\\\\\\frac{1}{16} & \\frac{1}{2} & \\frac{3}{2} & 2 & 1 & 0 & 0 & 0\\\\\\frac{1}{32} & \\frac{5}{16} & \\frac{5}{4} & \\frac{5}{2} & \\frac{5}{2} & 1 & 0 & 0\\\\\\frac{1}{64} & \\frac{3}{16} & \\frac{15}{16} & \\frac{5}{2} & \\frac{15}{4} & 3 & 1 & 0\\\\\\frac{1}{128} & \\frac{7}{64} & \\frac{21}{32} & \\frac{35}{16} & \\frac{35}{8} & \\frac{21}{4} & \\frac{7}{2} & 1\\end{matrix}\\right]$$"
      ],
      "text/plain": [
       "⎡  1     0     0    0    0     0     0   0⎤\n",
       "⎢                                         ⎥\n",
       "⎢ 1/2    1     0    0    0     0     0   0⎥\n",
       "⎢                                         ⎥\n",
       "⎢ 1/4    1     1    0    0     0     0   0⎥\n",
       "⎢                                         ⎥\n",
       "⎢ 1/8   3/4   3/2   1    0     0     0   0⎥\n",
       "⎢                                         ⎥\n",
       "⎢1/16   1/2   3/2   2    1     0     0   0⎥\n",
       "⎢                                         ⎥\n",
       "⎢1/32   5/16  5/4  5/2  5/2    1     0   0⎥\n",
       "⎢                                         ⎥\n",
       "⎢             15                          ⎥\n",
       "⎢1/64   3/16  ──   5/2  15/4   3     1   0⎥\n",
       "⎢             16                          ⎥\n",
       "⎢                                         ⎥\n",
       "⎢             21   35                     ⎥\n",
       "⎢1/128  7/64  ──   ──   35/8  21/4  7/2  1⎥\n",
       "⎣             32   16                     ⎦"
      ]
     },
     "execution_count": 30,
     "metadata": {},
     "output_type": "execute_result"
    }
   ],
   "source": [
    "P**(S(1)/2)"
   ]
  },
  {
   "cell_type": "markdown",
   "metadata": {},
   "source": [
    "---\n",
    "<a rel=\"license\" href=\"http://creativecommons.org/licenses/by-nc-sa/4.0/\"><img alt=\"Creative Commons License\" style=\"border-width:0\" src=\"https://i.creativecommons.org/l/by-nc-sa/4.0/88x31.png\" /></a><br />This work is licensed under a <a rel=\"license\" href=\"http://creativecommons.org/licenses/by-nc-sa/4.0/\">Creative Commons Attribution-NonCommercial-ShareAlike 4.0 International License</a>."
   ]
  }
 ],
 "metadata": {
  "kernelspec": {
   "display_name": "Python 3",
   "language": "python",
   "name": "python3"
  },
  "language_info": {
   "codemirror_mode": {
    "name": "ipython",
    "version": 3
   },
   "file_extension": ".py",
   "mimetype": "text/x-python",
   "name": "python",
   "nbconvert_exporter": "python",
   "pygments_lexer": "ipython3",
   "version": "3.5.2"
  }
 },
 "nbformat": 4,
 "nbformat_minor": 1
}
