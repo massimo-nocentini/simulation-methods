{
 "cells": [
  {
   "cell_type": "markdown",
   "metadata": {
    "deletable": true,
    "editable": true
   },
   "source": [
    "<p>\n",
    "<img src=\"http://www.cerm.unifi.it/chianti/images/logo%20unifi_positivo.jpg\" \n",
    "        alt=\"UniFI logo\" style=\"float: left; width: 20%; height: 20%;\">\n",
    "<div align=\"right\">\n",
    "Massimo Nocentini<br>\n",
    "<small>\n",
    "<br>March and April 2018: cleanup\n",
    "<br>November 2016: splitting from \"big\" notebook\n",
    "</small>\n",
    "</div>\n",
    "</p>\n",
    "<br>\n",
    "<br>\n",
    "<div align=\"center\">\n",
    "<b>Abstract</b><br>\n",
    "Theory of matrix functions, with applications to Pascal array $\\mathcal{P}$.\n",
    "</div>"
   ]
  },
  {
   "cell_type": "code",
   "execution_count": 1,
   "metadata": {
    "collapsed": true,
    "deletable": true,
    "editable": true
   },
   "outputs": [],
   "source": [
    "from sympy import *\n",
    "from sympy.abc import n, i, N, x, lamda, phi, z, j, r, k, a, alpha, beta\n",
    "\n",
    "init_printing()"
   ]
  },
  {
   "cell_type": "code",
   "execution_count": 2,
   "metadata": {
    "collapsed": true
   },
   "outputs": [],
   "source": [
    "import functions_catalog"
   ]
  },
  {
   "cell_type": "code",
   "execution_count": 3,
   "metadata": {
    "collapsed": false,
    "deletable": true,
    "editable": true
   },
   "outputs": [],
   "source": [
    "\n",
    "\n",
    "from matrix_functions import *\n",
    "from commons import *\n",
    "from sequences import *"
   ]
  },
  {
   "cell_type": "code",
   "execution_count": 30,
   "metadata": {
    "collapsed": false
   },
   "outputs": [],
   "source": [
    "%run ../../src/commons.py\n",
    "%run ../../src/matrix_functions.py\n",
    "%run ../../src/functions_catalog.py"
   ]
  },
  {
   "cell_type": "markdown",
   "metadata": {
    "deletable": true,
    "editable": true
   },
   "source": [
    "# Pascal array $\\mathcal{P}$"
   ]
  },
  {
   "cell_type": "code",
   "execution_count": 4,
   "metadata": {
    "collapsed": true,
    "deletable": true,
    "editable": true
   },
   "outputs": [],
   "source": [
    "m=8"
   ]
  },
  {
   "cell_type": "code",
   "execution_count": 5,
   "metadata": {
    "collapsed": false,
    "deletable": true,
    "editable": true
   },
   "outputs": [
    {
     "data": {
      "image/png": "[encoded data removed]",
      "text/latex": [
       "$$\\left[\\begin{matrix}1 & 0 & 0 & 0 & 0 & 0 & 0 & 0\\\\1 & 1 & 0 & 0 & 0 & 0 & 0 & 0\\\\1 & {\\binom{2}{1}} & 1 & 0 & 0 & 0 & 0 & 0\\\\1 & {\\binom{3}{1}} & {\\binom{3}{2}} & 1 & 0 & 0 & 0 & 0\\\\1 & {\\binom{4}{1}} & {\\binom{4}{2}} & {\\binom{4}{3}} & 1 & 0 & 0 & 0\\\\1 & {\\binom{5}{1}} & {\\binom{5}{2}} & {\\binom{5}{3}} & {\\binom{5}{4}} & 1 & 0 & 0\\\\1 & {\\binom{6}{1}} & {\\binom{6}{2}} & {\\binom{6}{3}} & {\\binom{6}{4}} & {\\binom{6}{5}} & 1 & 0\\\\1 & {\\binom{7}{1}} & {\\binom{7}{2}} & {\\binom{7}{3}} & {\\binom{7}{4}} & {\\binom{7}{5}} & {\\binom{7}{6}} & 1\\end{matrix}\\right]$$"
      ],
      "text/plain": [
       "⎡1   0    0    0    0    0    0   0⎤\n",
       "⎢                                  ⎥\n",
       "⎢1   1    0    0    0    0    0   0⎥\n",
       "⎢                                  ⎥\n",
       "⎢   ⎛2⎞                            ⎥\n",
       "⎢1  ⎜ ⎟   1    0    0    0    0   0⎥\n",
       "⎢   ⎝1⎠                            ⎥\n",
       "⎢                                  ⎥\n",
       "⎢   ⎛3⎞  ⎛3⎞                       ⎥\n",
       "⎢1  ⎜ ⎟  ⎜ ⎟   1    0    0    0   0⎥\n",
       "⎢   ⎝1⎠  ⎝2⎠                       ⎥\n",
       "⎢                                  ⎥\n",
       "⎢   ⎛4⎞  ⎛4⎞  ⎛4⎞                  ⎥\n",
       "⎢1  ⎜ ⎟  ⎜ ⎟  ⎜ ⎟   1    0    0   0⎥\n",
       "⎢   ⎝1⎠  ⎝2⎠  ⎝3⎠                  ⎥\n",
       "⎢                                  ⎥\n",
       "⎢   ⎛5⎞  ⎛5⎞  ⎛5⎞  ⎛5⎞             ⎥\n",
       "⎢1  ⎜ ⎟  ⎜ ⎟  ⎜ ⎟  ⎜ ⎟   1    0   0⎥\n",
       "⎢   ⎝1⎠  ⎝2⎠  ⎝3⎠  ⎝4⎠             ⎥\n",
       "⎢                                  ⎥\n",
       "⎢   ⎛6⎞  ⎛6⎞  ⎛6⎞  ⎛6⎞  ⎛6⎞        ⎥\n",
       "⎢1  ⎜ ⎟  ⎜ ⎟  ⎜ ⎟  ⎜ ⎟  ⎜ ⎟   1   0⎥\n",
       "⎢   ⎝1⎠  ⎝2⎠  ⎝3⎠  ⎝4⎠  ⎝5⎠        ⎥\n",
       "⎢                                  ⎥\n",
       "⎢   ⎛7⎞  ⎛7⎞  ⎛7⎞  ⎛7⎞  ⎛7⎞  ⎛7⎞   ⎥\n",
       "⎢1  ⎜ ⎟  ⎜ ⎟  ⎜ ⎟  ⎜ ⎟  ⎜ ⎟  ⎜ ⎟  1⎥\n",
       "⎣   ⎝1⎠  ⎝2⎠  ⎝3⎠  ⎝4⎠  ⎝5⎠  ⎝6⎠   ⎦"
      ]
     },
     "execution_count": 5,
     "metadata": {},
     "output_type": "execute_result"
    }
   ],
   "source": [
    "P_ = Matrix(m,m, lambda n,k: binomial(n, k, evaluate=k >= n or not k))\n",
    "P_ # not usable in the framework because not a definition in equality style"
   ]
  },
  {
   "cell_type": "code",
   "execution_count": 6,
   "metadata": {
    "collapsed": false,
    "deletable": true,
    "editable": true
   },
   "outputs": [
    {
     "data": {
      "image/png": "[encoded data removed]",
      "text/latex": [
       "$$\\mathcal{P}_{ 8 } = \\left[\\begin{matrix}1 & 0 & 0 & 0 & 0 & 0 & 0 & 0\\\\1 & 1 & 0 & 0 & 0 & 0 & 0 & 0\\\\1 & 2 & 1 & 0 & 0 & 0 & 0 & 0\\\\1 & 3 & 3 & 1 & 0 & 0 & 0 & 0\\\\1 & 4 & 6 & 4 & 1 & 0 & 0 & 0\\\\1 & 5 & 10 & 10 & 5 & 1 & 0 & 0\\\\1 & 6 & 15 & 20 & 15 & 6 & 1 & 0\\\\1 & 7 & 21 & 35 & 35 & 21 & 7 & 1\\end{matrix}\\right]$$"
      ],
      "text/plain": [
       "                    ⎡1  0  0   0   0   0   0  0⎤\n",
       "                    ⎢                          ⎥\n",
       "                    ⎢1  1  0   0   0   0   0  0⎥\n",
       "                    ⎢                          ⎥\n",
       "                    ⎢1  2  1   0   0   0   0  0⎥\n",
       "                    ⎢                          ⎥\n",
       "                    ⎢1  3  3   1   0   0   0  0⎥\n",
       "\\mathcal{P}_{ 8 } = ⎢                          ⎥\n",
       "                    ⎢1  4  6   4   1   0   0  0⎥\n",
       "                    ⎢                          ⎥\n",
       "                    ⎢1  5  10  10  5   1   0  0⎥\n",
       "                    ⎢                          ⎥\n",
       "                    ⎢1  6  15  20  15  6   1  0⎥\n",
       "                    ⎢                          ⎥\n",
       "                    ⎣1  7  21  35  35  21  7  1⎦"
      ]
     },
     "execution_count": 6,
     "metadata": {},
     "output_type": "execute_result"
    }
   ],
   "source": [
    "P = define(Symbol(r'\\mathcal{{P}}_{{ {} }}'.format(m)), Matrix(m,m,binomial))\n",
    "P"
   ]
  },
  {
   "cell_type": "code",
   "execution_count": 7,
   "metadata": {
    "collapsed": false,
    "deletable": true,
    "editable": true
   },
   "outputs": [
    {
     "data": {
      "image/png": "[encoded data removed]",
      "text/latex": [
       "$$\\sigma{\\left (\\mathcal{P}_{ 8 } \\right )} = \\left ( \\left \\{ 1 : \\left ( \\lambda_{1}, \\quad m_{1}\\right )\\right \\}, \\quad \\left \\{ \\lambda_{1} : 1\\right \\}, \\quad \\left \\{ m_{1} : 8\\right \\}\\right )$$"
      ],
      "text/plain": [
       "\\sigma(\\mathcal{P}_{ 8 }) = ({1: (\\lambda[1], m[1])}, {\\lambda[1]: 1}, {m[1]: \n",
       "8})"
      ]
     },
     "execution_count": 7,
     "metadata": {},
     "output_type": "execute_result"
    }
   ],
   "source": [
    "eigendata = spectrum(P)\n",
    "eigendata"
   ]
  },
  {
   "cell_type": "code",
   "execution_count": 8,
   "metadata": {
    "collapsed": false,
    "deletable": true,
    "editable": true
   },
   "outputs": [],
   "source": [
    "data, eigenvals, multiplicities = eigendata.rhs # unpacking to use `eigenvals` in `subs`"
   ]
  },
  {
   "cell_type": "code",
   "execution_count": 9,
   "metadata": {
    "collapsed": false,
    "deletable": true,
    "editable": true
   },
   "outputs": [
    {
     "data": {
      "image/png": "[encoded data removed]",
      "text/latex": [
       "$$\\left \\{ \\left ( 1, \\quad 1\\right ) : \\Phi_{ 1, 1 }{\\left (z \\right )} = 1, \\quad \\left ( 1, \\quad 2\\right ) : \\Phi_{ 1, 2 }{\\left (z \\right )} = z - 1, \\quad \\left ( 1, \\quad 3\\right ) : \\Phi_{ 1, 3 }{\\left (z \\right )} = \\frac{z^{2}}{2} - z + \\frac{1}{2}, \\quad \\left ( 1, \\quad 4\\right ) : \\Phi_{ 1, 4 }{\\left (z \\right )} = \\frac{z^{3}}{6} - \\frac{z^{2}}{2} + \\frac{z}{2} - \\frac{1}{6}, \\quad \\left ( 1, \\quad 5\\right ) : \\Phi_{ 1, 5 }{\\left (z \\right )} = \\frac{z^{4}}{24} - \\frac{z^{3}}{6} + \\frac{z^{2}}{4} - \\frac{z}{6} + \\frac{1}{24}, \\quad \\left ( 1, \\quad 6\\right ) : \\Phi_{ 1, 6 }{\\left (z \\right )} = \\frac{z^{5}}{120} - \\frac{z^{4}}{24} + \\frac{z^{3}}{12} - \\frac{z^{2}}{12} + \\frac{z}{24} - \\frac{1}{120}, \\quad \\left ( 1, \\quad 7\\right ) : \\Phi_{ 1, 7 }{\\left (z \\right )} = \\frac{z^{6}}{720} - \\frac{z^{5}}{120} + \\frac{z^{4}}{48} - \\frac{z^{3}}{36} + \\frac{z^{2}}{48} - \\frac{z}{120} + \\frac{1}{720}, \\quad \\left ( 1, \\quad 8\\right ) : \\Phi_{ 1, 8 }{\\left (z \\right )} = \\frac{z^{7}}{5040} - \\frac{z^{6}}{720} + \\frac{z^{5}}{240} - \\frac{z^{4}}{144} + \\frac{z^{3}}{144} - \\frac{z^{2}}{240} + \\frac{z}{720} - \\frac{1}{5040}\\right \\}$$"
      ],
      "text/plain": [
       "⎧                                                                             \n",
       "⎪                                                                             \n",
       "⎨(1, 1): \\Phi_{ 1, 1 }(z) = 1, (1, 2): \\Phi_{ 1, 2 }(z) = z - 1, (1, 3): \\Phi_\n",
       "⎪                                                                             \n",
       "⎩                                                                             \n",
       "\n",
       "               2                                      3    2                  \n",
       "              z        1                             z    z    z   1          \n",
       "{ 1, 3 }(z) = ── - z + ─, (1, 4): \\Phi_{ 1, 4 }(z) = ── - ── + ─ - ─, (1, 5): \n",
       "              2        2                             6    2    2   6          \n",
       "                                                                              \n",
       "\n",
       "                    4    3    2                                        5    4 \n",
       "                   z    z    z    z   1                               z    z  \n",
       "\\Phi_{ 1, 5 }(z) = ── - ── + ── - ─ + ──, (1, 6): \\Phi_{ 1, 6 }(z) = ─── - ── \n",
       "                   24   6    4    6   24                             120   24 \n",
       "                                                                              \n",
       "\n",
       "   3    2                                          6     5    4    3    2     \n",
       "  z    z    z     1                               z     z    z    z    z     z\n",
       "+ ── - ── + ── - ───, (1, 7): \\Phi_{ 1, 7 }(z) = ─── - ─── + ── - ── + ── - ──\n",
       "  12   12   24   120                             720   120   48   36   48   12\n",
       "                                                                              \n",
       "\n",
       "                                      7      6     5     4     3     2        \n",
       "     1                               z      z     z     z     z     z     z   \n",
       "─ + ───, (1, 8): \\Phi_{ 1, 8 }(z) = ──── - ─── + ─── - ─── + ─── - ─── + ─── -\n",
       "0   720                             5040   720   240   144   144   240   720  \n",
       "                                                                              \n",
       "\n",
       "     ⎫\n",
       "  1  ⎪\n",
       " ────⎬\n",
       " 5040⎪\n",
       "     ⎭"
      ]
     },
     "execution_count": 9,
     "metadata": {},
     "output_type": "execute_result"
    }
   ],
   "source": [
    "Phi_polynomials = component_polynomials(eigendata, early_eigenvals_subs=True)\n",
    "Phi_polynomials"
   ]
  },
  {
   "cell_type": "code",
   "execution_count": 10,
   "metadata": {
    "collapsed": false,
    "deletable": true,
    "editable": true,
    "scrolled": false
   },
   "outputs": [
    {
     "data": {
      "image/png": "[encoded data removed]",
      "text/latex": [
       "$$\\left [ Z^{\\left[ \\mathcal{P}_{ 8 } \\right]}_{1,1} = \\left[\\begin{matrix}1 & 0 & 0 & 0 & 0 & 0 & 0 & 0\\\\0 & 1 & 0 & 0 & 0 & 0 & 0 & 0\\\\0 & 0 & 1 & 0 & 0 & 0 & 0 & 0\\\\0 & 0 & 0 & 1 & 0 & 0 & 0 & 0\\\\0 & 0 & 0 & 0 & 1 & 0 & 0 & 0\\\\0 & 0 & 0 & 0 & 0 & 1 & 0 & 0\\\\0 & 0 & 0 & 0 & 0 & 0 & 1 & 0\\\\0 & 0 & 0 & 0 & 0 & 0 & 0 & 1\\end{matrix}\\right], \\quad Z^{\\left[ \\mathcal{P}_{ 8 } \\right]}_{1,2} = \\left[\\begin{matrix}0 & 0 & 0 & 0 & 0 & 0 & 0 & 0\\\\1 & 0 & 0 & 0 & 0 & 0 & 0 & 0\\\\1 & 2 & 0 & 0 & 0 & 0 & 0 & 0\\\\1 & 3 & 3 & 0 & 0 & 0 & 0 & 0\\\\1 & 4 & 6 & 4 & 0 & 0 & 0 & 0\\\\1 & 5 & 10 & 10 & 5 & 0 & 0 & 0\\\\1 & 6 & 15 & 20 & 15 & 6 & 0 & 0\\\\1 & 7 & 21 & 35 & 35 & 21 & 7 & 0\\end{matrix}\\right], \\quad Z^{\\left[ \\mathcal{P}_{ 8 } \\right]}_{1,3} = \\left[\\begin{matrix}0 & 0 & 0 & 0 & 0 & 0 & 0 & 0\\\\0 & 0 & 0 & 0 & 0 & 0 & 0 & 0\\\\1 & 0 & 0 & 0 & 0 & 0 & 0 & 0\\\\3 & 3 & 0 & 0 & 0 & 0 & 0 & 0\\\\7 & 12 & 6 & 0 & 0 & 0 & 0 & 0\\\\15 & 35 & 30 & 10 & 0 & 0 & 0 & 0\\\\31 & 90 & 105 & 60 & 15 & 0 & 0 & 0\\\\63 & 217 & 315 & 245 & 105 & 21 & 0 & 0\\end{matrix}\\right], \\quad Z^{\\left[ \\mathcal{P}_{ 8 } \\right]}_{1,4} = \\left[\\begin{matrix}0 & 0 & 0 & 0 & 0 & 0 & 0 & 0\\\\0 & 0 & 0 & 0 & 0 & 0 & 0 & 0\\\\0 & 0 & 0 & 0 & 0 & 0 & 0 & 0\\\\1 & 0 & 0 & 0 & 0 & 0 & 0 & 0\\\\6 & 4 & 0 & 0 & 0 & 0 & 0 & 0\\\\25 & 30 & 10 & 0 & 0 & 0 & 0 & 0\\\\90 & 150 & 90 & 20 & 0 & 0 & 0 & 0\\\\301 & 630 & 525 & 210 & 35 & 0 & 0 & 0\\end{matrix}\\right], \\quad Z^{\\left[ \\mathcal{P}_{ 8 } \\right]}_{1,5} = \\left[\\begin{matrix}0 & 0 & 0 & 0 & 0 & 0 & 0 & 0\\\\0 & 0 & 0 & 0 & 0 & 0 & 0 & 0\\\\0 & 0 & 0 & 0 & 0 & 0 & 0 & 0\\\\0 & 0 & 0 & 0 & 0 & 0 & 0 & 0\\\\1 & 0 & 0 & 0 & 0 & 0 & 0 & 0\\\\10 & 5 & 0 & 0 & 0 & 0 & 0 & 0\\\\65 & 60 & 15 & 0 & 0 & 0 & 0 & 0\\\\350 & 455 & 210 & 35 & 0 & 0 & 0 & 0\\end{matrix}\\right], \\quad Z^{\\left[ \\mathcal{P}_{ 8 } \\right]}_{1,6} = \\left[\\begin{matrix}0 & 0 & 0 & 0 & 0 & 0 & 0 & 0\\\\0 & 0 & 0 & 0 & 0 & 0 & 0 & 0\\\\0 & 0 & 0 & 0 & 0 & 0 & 0 & 0\\\\0 & 0 & 0 & 0 & 0 & 0 & 0 & 0\\\\0 & 0 & 0 & 0 & 0 & 0 & 0 & 0\\\\1 & 0 & 0 & 0 & 0 & 0 & 0 & 0\\\\15 & 6 & 0 & 0 & 0 & 0 & 0 & 0\\\\140 & 105 & 21 & 0 & 0 & 0 & 0 & 0\\end{matrix}\\right], \\quad Z^{\\left[ \\mathcal{P}_{ 8 } \\right]}_{1,7} = \\left[\\begin{matrix}0 & 0 & 0 & 0 & 0 & 0 & 0 & 0\\\\0 & 0 & 0 & 0 & 0 & 0 & 0 & 0\\\\0 & 0 & 0 & 0 & 0 & 0 & 0 & 0\\\\0 & 0 & 0 & 0 & 0 & 0 & 0 & 0\\\\0 & 0 & 0 & 0 & 0 & 0 & 0 & 0\\\\0 & 0 & 0 & 0 & 0 & 0 & 0 & 0\\\\1 & 0 & 0 & 0 & 0 & 0 & 0 & 0\\\\21 & 7 & 0 & 0 & 0 & 0 & 0 & 0\\end{matrix}\\right], \\quad Z^{\\left[ \\mathcal{P}_{ 8 } \\right]}_{1,8} = \\left[\\begin{matrix}0 & 0 & 0 & 0 & 0 & 0 & 0 & 0\\\\0 & 0 & 0 & 0 & 0 & 0 & 0 & 0\\\\0 & 0 & 0 & 0 & 0 & 0 & 0 & 0\\\\0 & 0 & 0 & 0 & 0 & 0 & 0 & 0\\\\0 & 0 & 0 & 0 & 0 & 0 & 0 & 0\\\\0 & 0 & 0 & 0 & 0 & 0 & 0 & 0\\\\0 & 0 & 0 & 0 & 0 & 0 & 0 & 0\\\\1 & 0 & 0 & 0 & 0 & 0 & 0 & 0\\end{matrix}\\right]\\right ]$$"
      ],
      "text/plain": [
       "⎡                                             ⎡1  0  0  0  0  0  0  0⎤        \n",
       "⎢                                             ⎢                      ⎥        \n",
       "⎢                                             ⎢0  1  0  0  0  0  0  0⎥        \n",
       "⎢                                             ⎢                      ⎥        \n",
       "⎢                                             ⎢0  0  1  0  0  0  0  0⎥        \n",
       "⎢                                             ⎢                      ⎥        \n",
       "⎢                                             ⎢0  0  0  1  0  0  0  0⎥        \n",
       "⎢Z^{\\left[ \\mathcal{P}_{ 8 } \\right]}[1, 1] = ⎢                      ⎥, Z^{\\le\n",
       "⎢                                             ⎢0  0  0  0  1  0  0  0⎥        \n",
       "⎢                                             ⎢                      ⎥        \n",
       "⎢                                             ⎢0  0  0  0  0  1  0  0⎥        \n",
       "⎢                                             ⎢                      ⎥        \n",
       "⎢                                             ⎢0  0  0  0  0  0  1  0⎥        \n",
       "⎢                                             ⎢                      ⎥        \n",
       "⎣                                             ⎣0  0  0  0  0  0  0  1⎦        \n",
       "\n",
       "                                       ⎡0  0  0   0   0   0   0  0⎤           \n",
       "                                       ⎢                          ⎥           \n",
       "                                       ⎢1  0  0   0   0   0   0  0⎥           \n",
       "                                       ⎢                          ⎥           \n",
       "                                       ⎢1  2  0   0   0   0   0  0⎥           \n",
       "                                       ⎢                          ⎥           \n",
       "                                       ⎢1  3  3   0   0   0   0  0⎥           \n",
       "ft[ \\mathcal{P}_{ 8 } \\right]}[1, 2] = ⎢                          ⎥, Z^{\\left[\n",
       "                                       ⎢1  4  6   4   0   0   0  0⎥           \n",
       "                                       ⎢                          ⎥           \n",
       "                                       ⎢1  5  10  10  5   0   0  0⎥           \n",
       "                                       ⎢                          ⎥           \n",
       "                                       ⎢1  6  15  20  15  6   0  0⎥           \n",
       "                                       ⎢                          ⎥           \n",
       "                                       ⎣1  7  21  35  35  21  7  0⎦           \n",
       "\n",
       "                                    ⎡0    0    0    0    0   0   0  0⎤        \n",
       "                                    ⎢                                ⎥        \n",
       "                                    ⎢0    0    0    0    0   0   0  0⎥        \n",
       "                                    ⎢                                ⎥        \n",
       "                                    ⎢1    0    0    0    0   0   0  0⎥        \n",
       "                                    ⎢                                ⎥        \n",
       "                                    ⎢3    3    0    0    0   0   0  0⎥        \n",
       " \\mathcal{P}_{ 8 } \\right]}[1, 3] = ⎢                                ⎥, Z^{\\le\n",
       "                                    ⎢7   12    6    0    0   0   0  0⎥        \n",
       "                                    ⎢                                ⎥        \n",
       "                                    ⎢15  35   30   10    0   0   0  0⎥        \n",
       "                                    ⎢                                ⎥        \n",
       "                                    ⎢31  90   105  60   15   0   0  0⎥        \n",
       "                                    ⎢                                ⎥        \n",
       "                                    ⎣63  217  315  245  105  21  0  0⎦        \n",
       "\n",
       "                                       ⎡ 0    0    0    0   0   0  0  0⎤      \n",
       "                                       ⎢                               ⎥      \n",
       "                                       ⎢ 0    0    0    0   0   0  0  0⎥      \n",
       "                                       ⎢                               ⎥      \n",
       "                                       ⎢ 0    0    0    0   0   0  0  0⎥      \n",
       "                                       ⎢                               ⎥      \n",
       "                                       ⎢ 1    0    0    0   0   0  0  0⎥      \n",
       "ft[ \\mathcal{P}_{ 8 } \\right]}[1, 4] = ⎢                               ⎥, Z^{\\\n",
       "                                       ⎢ 6    4    0    0   0   0  0  0⎥      \n",
       "                                       ⎢                               ⎥      \n",
       "                                       ⎢25   30   10    0   0   0  0  0⎥      \n",
       "                                       ⎢                               ⎥      \n",
       "                                       ⎢90   150  90   20   0   0  0  0⎥      \n",
       "                                       ⎢                               ⎥      \n",
       "                                       ⎣301  630  525  210  35  0  0  0⎦      \n",
       "\n",
       "                                         ⎡ 0    0    0   0   0  0  0  0⎤      \n",
       "                                         ⎢                             ⎥      \n",
       "                                         ⎢ 0    0    0   0   0  0  0  0⎥      \n",
       "                                         ⎢                             ⎥      \n",
       "                                         ⎢ 0    0    0   0   0  0  0  0⎥      \n",
       "                                         ⎢                             ⎥      \n",
       "                                         ⎢ 0    0    0   0   0  0  0  0⎥      \n",
       "left[ \\mathcal{P}_{ 8 } \\right]}[1, 5] = ⎢                             ⎥, Z^{\\\n",
       "                                         ⎢ 1    0    0   0   0  0  0  0⎥      \n",
       "                                         ⎢                             ⎥      \n",
       "                                         ⎢10    5    0   0   0  0  0  0⎥      \n",
       "                                         ⎢                             ⎥      \n",
       "                                         ⎢65   60   15   0   0  0  0  0⎥      \n",
       "                                         ⎢                             ⎥      \n",
       "                                         ⎣350  455  210  35  0  0  0  0⎦      \n",
       "\n",
       "                                         ⎡ 0    0   0   0  0  0  0  0⎤        \n",
       "                                         ⎢                           ⎥        \n",
       "                                         ⎢ 0    0   0   0  0  0  0  0⎥        \n",
       "                                         ⎢                           ⎥        \n",
       "                                         ⎢ 0    0   0   0  0  0  0  0⎥        \n",
       "                                         ⎢                           ⎥        \n",
       "                                         ⎢ 0    0   0   0  0  0  0  0⎥        \n",
       "left[ \\mathcal{P}_{ 8 } \\right]}[1, 6] = ⎢                           ⎥, Z^{\\le\n",
       "                                         ⎢ 0    0   0   0  0  0  0  0⎥        \n",
       "                                         ⎢                           ⎥        \n",
       "                                         ⎢ 1    0   0   0  0  0  0  0⎥        \n",
       "                                         ⎢                           ⎥        \n",
       "                                         ⎢15    6   0   0  0  0  0  0⎥        \n",
       "                                         ⎢                           ⎥        \n",
       "                                         ⎣140  105  21  0  0  0  0  0⎦        \n",
       "\n",
       "                                       ⎡0   0  0  0  0  0  0  0⎤              \n",
       "                                       ⎢                       ⎥              \n",
       "                                       ⎢0   0  0  0  0  0  0  0⎥              \n",
       "                                       ⎢                       ⎥              \n",
       "                                       ⎢0   0  0  0  0  0  0  0⎥              \n",
       "                                       ⎢                       ⎥              \n",
       "                                       ⎢0   0  0  0  0  0  0  0⎥              \n",
       "ft[ \\mathcal{P}_{ 8 } \\right]}[1, 7] = ⎢                       ⎥, Z^{\\left[ \\m\n",
       "                                       ⎢0   0  0  0  0  0  0  0⎥              \n",
       "                                       ⎢                       ⎥              \n",
       "                                       ⎢0   0  0  0  0  0  0  0⎥              \n",
       "                                       ⎢                       ⎥              \n",
       "                                       ⎢1   0  0  0  0  0  0  0⎥              \n",
       "                                       ⎢                       ⎥              \n",
       "                                       ⎣21  7  0  0  0  0  0  0⎦              \n",
       "\n",
       "                                 ⎡0  0  0  0  0  0  0  0⎤⎤\n",
       "                                 ⎢                      ⎥⎥\n",
       "                                 ⎢0  0  0  0  0  0  0  0⎥⎥\n",
       "                                 ⎢                      ⎥⎥\n",
       "                                 ⎢0  0  0  0  0  0  0  0⎥⎥\n",
       "                                 ⎢                      ⎥⎥\n",
       "                                 ⎢0  0  0  0  0  0  0  0⎥⎥\n",
       "athcal{P}_{ 8 } \\right]}[1, 8] = ⎢                      ⎥⎥\n",
       "                                 ⎢0  0  0  0  0  0  0  0⎥⎥\n",
       "                                 ⎢                      ⎥⎥\n",
       "                                 ⎢0  0  0  0  0  0  0  0⎥⎥\n",
       "                                 ⎢                      ⎥⎥\n",
       "                                 ⎢0  0  0  0  0  0  0  0⎥⎥\n",
       "                                 ⎢                      ⎥⎥\n",
       "                                 ⎣1  0  0  0  0  0  0  0⎦⎦"
      ]
     },
     "execution_count": 10,
     "metadata": {},
     "output_type": "execute_result"
    }
   ],
   "source": [
    "cmatrices = component_matrices(P, Phi_polynomials)\n",
    "list(cmatrices.values())"
   ]
  },
  {
   "cell_type": "markdown",
   "metadata": {
    "deletable": true,
    "editable": true
   },
   "source": [
    "## `power` function"
   ]
  },
  {
   "cell_type": "code",
   "execution_count": 11,
   "metadata": {
    "collapsed": false,
    "deletable": true,
    "editable": true
   },
   "outputs": [],
   "source": [
    "f_power, g_power = functions_catalog.power(eigendata, Phi_polynomials)"
   ]
  },
  {
   "cell_type": "code",
   "execution_count": 12,
   "metadata": {
    "collapsed": false,
    "deletable": true,
    "editable": true
   },
   "outputs": [
    {
     "data": {
      "image/png": "[encoded data removed]",
      "text/latex": [
       "$$\\operatorname{P_{ 8 }}{\\left (\\mathcal{P}_{ 8 } \\right )} = \\left[\\begin{matrix}1 & 0 & 0 & 0 & 0 & 0 & 0 & 0\\\\r & 1 & 0 & 0 & 0 & 0 & 0 & 0\\\\r^{2} & 2 r & 1 & 0 & 0 & 0 & 0 & 0\\\\r^{3} & 3 r^{2} & 3 r & 1 & 0 & 0 & 0 & 0\\\\r^{4} & 4 r^{3} & 6 r^{2} & 4 r & 1 & 0 & 0 & 0\\\\r^{5} & 5 r^{4} & 10 r^{3} & 10 r^{2} & 5 r & 1 & 0 & 0\\\\r^{6} & 6 r^{5} & 15 r^{4} & 20 r^{3} & 15 r^{2} & 6 r & 1 & 0\\\\r^{7} & 7 r^{6} & 21 r^{5} & 35 r^{4} & 35 r^{3} & 21 r^{2} & 7 r & 1\\end{matrix}\\right]$$"
      ],
      "text/plain": [
       "                             ⎡1    0      0      0      0      0     0   0⎤\n",
       "                             ⎢                                            ⎥\n",
       "                             ⎢r    1      0      0      0      0     0   0⎥\n",
       "                             ⎢                                            ⎥\n",
       "                             ⎢ 2                                          ⎥\n",
       "                             ⎢r   2⋅r     1      0      0      0     0   0⎥\n",
       "                             ⎢                                            ⎥\n",
       "                             ⎢ 3     2                                    ⎥\n",
       "                             ⎢r   3⋅r    3⋅r     1      0      0     0   0⎥\n",
       "                             ⎢                                            ⎥\n",
       "P_{ 8 }(\\mathcal{P}_{ 8 }) = ⎢ 4     3     2                              ⎥\n",
       "                             ⎢r   4⋅r   6⋅r     4⋅r     1      0     0   0⎥\n",
       "                             ⎢                                            ⎥\n",
       "                             ⎢ 5     4      3      2                      ⎥\n",
       "                             ⎢r   5⋅r   10⋅r   10⋅r    5⋅r     1     0   0⎥\n",
       "                             ⎢                                            ⎥\n",
       "                             ⎢ 6     5      4      3      2               ⎥\n",
       "                             ⎢r   6⋅r   15⋅r   20⋅r   15⋅r    6⋅r    1   0⎥\n",
       "                             ⎢                                            ⎥\n",
       "                             ⎢ 7     6      5      4      3      2        ⎥\n",
       "                             ⎣r   7⋅r   21⋅r   35⋅r   35⋅r   21⋅r   7⋅r  1⎦"
      ]
     },
     "execution_count": 12,
     "metadata": {},
     "output_type": "execute_result"
    }
   ],
   "source": [
    "P_power = g_power(P)\n",
    "P_power"
   ]
  },
  {
   "cell_type": "code",
   "execution_count": 13,
   "metadata": {
    "collapsed": false,
    "deletable": true,
    "editable": true
   },
   "outputs": [
    {
     "data": {
      "image/png": "[encoded data removed]",
      "text/latex": [
       "$$\\left[\\begin{matrix}r & 1 & 0 & 0 & 0 & 0 & 0\\\\0 & r & 1 & 0 & 0 & 0 & 0\\\\0 & 0 & r & 1 & 0 & 0 & 0\\\\0 & 0 & 0 & r & 1 & 0 & 0\\\\0 & 0 & 0 & 0 & r & 1 & 0\\\\0 & 0 & 0 & 0 & 0 & r & 1\\\\0 & 0 & 0 & 0 & 0 & 0 & r\\end{matrix}\\right]$$"
      ],
      "text/plain": [
       "⎡r  1  0  0  0  0  0⎤\n",
       "⎢                   ⎥\n",
       "⎢0  r  1  0  0  0  0⎥\n",
       "⎢                   ⎥\n",
       "⎢0  0  r  1  0  0  0⎥\n",
       "⎢                   ⎥\n",
       "⎢0  0  0  r  1  0  0⎥\n",
       "⎢                   ⎥\n",
       "⎢0  0  0  0  r  1  0⎥\n",
       "⎢                   ⎥\n",
       "⎢0  0  0  0  0  r  1⎥\n",
       "⎢                   ⎥\n",
       "⎣0  0  0  0  0  0  r⎦"
      ]
     },
     "execution_count": 13,
     "metadata": {},
     "output_type": "execute_result"
    }
   ],
   "source": [
    "production_matrix(P_power.rhs)"
   ]
  },
  {
   "cell_type": "code",
   "execution_count": 14,
   "metadata": {
    "collapsed": false,
    "deletable": true,
    "editable": true
   },
   "outputs": [],
   "source": [
    "assert P_power.rhs == (P.rhs**r).applyfunc(simplify)"
   ]
  },
  {
   "cell_type": "markdown",
   "metadata": {
    "deletable": true,
    "editable": true
   },
   "source": [
    "## `inverse` function"
   ]
  },
  {
   "cell_type": "code",
   "execution_count": 15,
   "metadata": {
    "collapsed": false,
    "deletable": true,
    "editable": true
   },
   "outputs": [],
   "source": [
    "f_inverse, g_inverse = functions_catalog.inverse(eigendata, Phi_polynomials)"
   ]
  },
  {
   "cell_type": "code",
   "execution_count": 16,
   "metadata": {
    "collapsed": false,
    "deletable": true,
    "editable": true
   },
   "outputs": [
    {
     "data": {
      "image/png": "[encoded data removed]",
      "text/latex": [
       "$$\\left ( \\operatorname{I_{ 8 }}{\\left (\\mathcal{P}_{ 8 } \\right )} = \\left[\\begin{matrix}1 & 0 & 0 & 0 & 0 & 0 & 0 & 0\\\\-1 & 1 & 0 & 0 & 0 & 0 & 0 & 0\\\\1 & -2 & 1 & 0 & 0 & 0 & 0 & 0\\\\-1 & 3 & -3 & 1 & 0 & 0 & 0 & 0\\\\1 & -4 & 6 & -4 & 1 & 0 & 0 & 0\\\\-1 & 5 & -10 & 10 & -5 & 1 & 0 & 0\\\\1 & -6 & 15 & -20 & 15 & -6 & 1 & 0\\\\-1 & 7 & -21 & 35 & -35 & 21 & -7 & 1\\end{matrix}\\right], \\quad \\operatorname{I_{ 8 }}{\\left (\\operatorname{I_{ 8 }}{\\left (\\mathcal{P}_{ 8 } \\right )} \\right )} = \\left[\\begin{matrix}1 & 0 & 0 & 0 & 0 & 0 & 0 & 0\\\\1 & 1 & 0 & 0 & 0 & 0 & 0 & 0\\\\1 & 2 & 1 & 0 & 0 & 0 & 0 & 0\\\\1 & 3 & 3 & 1 & 0 & 0 & 0 & 0\\\\1 & 4 & 6 & 4 & 1 & 0 & 0 & 0\\\\1 & 5 & 10 & 10 & 5 & 1 & 0 & 0\\\\1 & 6 & 15 & 20 & 15 & 6 & 1 & 0\\\\1 & 7 & 21 & 35 & 35 & 21 & 7 & 1\\end{matrix}\\right]\\right )$$"
      ],
      "text/plain": [
       "⎛                             ⎡1   0    0    0    0   0   0   0⎤              \n",
       "⎜                             ⎢                                ⎥              \n",
       "⎜                             ⎢-1  1    0    0    0   0   0   0⎥              \n",
       "⎜                             ⎢                                ⎥              \n",
       "⎜                             ⎢1   -2   1    0    0   0   0   0⎥              \n",
       "⎜                             ⎢                                ⎥              \n",
       "⎜                             ⎢-1  3   -3    1    0   0   0   0⎥              \n",
       "⎜I_{ 8 }(\\mathcal{P}_{ 8 }) = ⎢                                ⎥, I_{ 8 }(I_{ \n",
       "⎜                             ⎢1   -4   6   -4    1   0   0   0⎥              \n",
       "⎜                             ⎢                                ⎥              \n",
       "⎜                             ⎢-1  5   -10  10   -5   1   0   0⎥              \n",
       "⎜                             ⎢                                ⎥              \n",
       "⎜                             ⎢1   -6  15   -20  15   -6  1   0⎥              \n",
       "⎜                             ⎢                                ⎥              \n",
       "⎝                             ⎣-1  7   -21  35   -35  21  -7  1⎦              \n",
       "\n",
       "                          ⎡1  0  0   0   0   0   0  0⎤⎞\n",
       "                          ⎢                          ⎥⎟\n",
       "                          ⎢1  1  0   0   0   0   0  0⎥⎟\n",
       "                          ⎢                          ⎥⎟\n",
       "                          ⎢1  2  1   0   0   0   0  0⎥⎟\n",
       "                          ⎢                          ⎥⎟\n",
       "                          ⎢1  3  3   1   0   0   0  0⎥⎟\n",
       "8 }(\\mathcal{P}_{ 8 })) = ⎢                          ⎥⎟\n",
       "                          ⎢1  4  6   4   1   0   0  0⎥⎟\n",
       "                          ⎢                          ⎥⎟\n",
       "                          ⎢1  5  10  10  5   1   0  0⎥⎟\n",
       "                          ⎢                          ⎥⎟\n",
       "                          ⎢1  6  15  20  15  6   1  0⎥⎟\n",
       "                          ⎢                          ⎥⎟\n",
       "                          ⎣1  7  21  35  35  21  7  1⎦⎠"
      ]
     },
     "execution_count": 16,
     "metadata": {},
     "output_type": "execute_result"
    }
   ],
   "source": [
    "P_inverse = g_inverse(P)\n",
    "P_inverse, g_inverse(P_inverse)"
   ]
  },
  {
   "cell_type": "code",
   "execution_count": 17,
   "metadata": {
    "collapsed": false,
    "deletable": true,
    "editable": true
   },
   "outputs": [
    {
     "data": {
      "image/png": "[encoded data removed]",
      "text/latex": [
       "$$\\left[\\begin{matrix}-1 & 1 & 0 & 0 & 0 & 0 & 0\\\\0 & -1 & 1 & 0 & 0 & 0 & 0\\\\0 & 0 & -1 & 1 & 0 & 0 & 0\\\\0 & 0 & 0 & -1 & 1 & 0 & 0\\\\0 & 0 & 0 & 0 & -1 & 1 & 0\\\\0 & 0 & 0 & 0 & 0 & -1 & 1\\\\0 & 0 & 0 & 0 & 0 & 0 & -1\\end{matrix}\\right]$$"
      ],
      "text/plain": [
       "⎡-1  1   0   0   0   0   0 ⎤\n",
       "⎢                          ⎥\n",
       "⎢0   -1  1   0   0   0   0 ⎥\n",
       "⎢                          ⎥\n",
       "⎢0   0   -1  1   0   0   0 ⎥\n",
       "⎢                          ⎥\n",
       "⎢0   0   0   -1  1   0   0 ⎥\n",
       "⎢                          ⎥\n",
       "⎢0   0   0   0   -1  1   0 ⎥\n",
       "⎢                          ⎥\n",
       "⎢0   0   0   0   0   -1  1 ⎥\n",
       "⎢                          ⎥\n",
       "⎣0   0   0   0   0   0   -1⎦"
      ]
     },
     "execution_count": 17,
     "metadata": {},
     "output_type": "execute_result"
    }
   ],
   "source": [
    "production_matrix(P_inverse.rhs)"
   ]
  },
  {
   "cell_type": "code",
   "execution_count": 18,
   "metadata": {
    "collapsed": false,
    "deletable": true,
    "editable": true
   },
   "outputs": [],
   "source": [
    "assert (P_inverse.rhs * P.rhs) == Matrix(m, m, identity_matrix())\n",
    "assert P_inverse.rhs == P.rhs**(-1)\n",
    "assert P_inverse.rhs == P_power.rhs.subs({r:-1})"
   ]
  },
  {
   "cell_type": "markdown",
   "metadata": {
    "deletable": true,
    "editable": true
   },
   "source": [
    "## `sqrt` function"
   ]
  },
  {
   "cell_type": "code",
   "execution_count": 19,
   "metadata": {
    "collapsed": false,
    "deletable": true,
    "editable": true
   },
   "outputs": [],
   "source": [
    "f_sqrt, g_sqrt = functions_catalog.square_root(eigendata, Phi_polynomials)"
   ]
  },
  {
   "cell_type": "code",
   "execution_count": 20,
   "metadata": {
    "collapsed": false,
    "deletable": true,
    "editable": true
   },
   "outputs": [
    {
     "data": {
      "image/png": "[encoded data removed]",
      "text/latex": [
       "$$\\operatorname{R_{ 8 }}{\\left (\\mathcal{P}_{ 8 } \\right )} = \\left[\\begin{matrix}1 & 0 & 0 & 0 & 0 & 0 & 0 & 0\\\\\\frac{1}{2} & 1 & 0 & 0 & 0 & 0 & 0 & 0\\\\\\frac{1}{4} & 1 & 1 & 0 & 0 & 0 & 0 & 0\\\\\\frac{1}{8} & \\frac{3}{4} & \\frac{3}{2} & 1 & 0 & 0 & 0 & 0\\\\\\frac{1}{16} & \\frac{1}{2} & \\frac{3}{2} & 2 & 1 & 0 & 0 & 0\\\\\\frac{1}{32} & \\frac{5}{16} & \\frac{5}{4} & \\frac{5}{2} & \\frac{5}{2} & 1 & 0 & 0\\\\\\frac{1}{64} & \\frac{3}{16} & \\frac{15}{16} & \\frac{5}{2} & \\frac{15}{4} & 3 & 1 & 0\\\\\\frac{1}{128} & \\frac{7}{64} & \\frac{21}{32} & \\frac{35}{16} & \\frac{35}{8} & \\frac{21}{4} & \\frac{7}{2} & 1\\end{matrix}\\right]$$"
      ],
      "text/plain": [
       "                             ⎡  1     0     0    0    0     0     0   0⎤\n",
       "                             ⎢                                         ⎥\n",
       "                             ⎢ 1/2    1     0    0    0     0     0   0⎥\n",
       "                             ⎢                                         ⎥\n",
       "                             ⎢ 1/4    1     1    0    0     0     0   0⎥\n",
       "                             ⎢                                         ⎥\n",
       "                             ⎢ 1/8   3/4   3/2   1    0     0     0   0⎥\n",
       "                             ⎢                                         ⎥\n",
       "                             ⎢1/16   1/2   3/2   2    1     0     0   0⎥\n",
       "R_{ 8 }(\\mathcal{P}_{ 8 }) = ⎢                                         ⎥\n",
       "                             ⎢1/32   5/16  5/4  5/2  5/2    1     0   0⎥\n",
       "                             ⎢                                         ⎥\n",
       "                             ⎢             15                          ⎥\n",
       "                             ⎢1/64   3/16  ──   5/2  15/4   3     1   0⎥\n",
       "                             ⎢             16                          ⎥\n",
       "                             ⎢                                         ⎥\n",
       "                             ⎢             21   35                     ⎥\n",
       "                             ⎢1/128  7/64  ──   ──   35/8  21/4  7/2  1⎥\n",
       "                             ⎣             32   16                     ⎦"
      ]
     },
     "execution_count": 20,
     "metadata": {},
     "output_type": "execute_result"
    }
   ],
   "source": [
    "P_sqrt = g_sqrt(P)\n",
    "P_sqrt"
   ]
  },
  {
   "cell_type": "code",
   "execution_count": 21,
   "metadata": {
    "collapsed": false,
    "deletable": true,
    "editable": true
   },
   "outputs": [
    {
     "data": {
      "image/png": "[encoded data removed]",
      "text/latex": [
       "$$\\left[\\begin{matrix}\\frac{1}{2} & 1 & 0 & 0 & 0 & 0 & 0\\\\0 & \\frac{1}{2} & 1 & 0 & 0 & 0 & 0\\\\0 & 0 & \\frac{1}{2} & 1 & 0 & 0 & 0\\\\0 & 0 & 0 & \\frac{1}{2} & 1 & 0 & 0\\\\0 & 0 & 0 & 0 & \\frac{1}{2} & 1 & 0\\\\0 & 0 & 0 & 0 & 0 & \\frac{1}{2} & 1\\\\0 & 0 & 0 & 0 & 0 & 0 & \\frac{1}{2}\\end{matrix}\\right]$$"
      ],
      "text/plain": [
       "⎡1/2   1    0    0    0    0    0 ⎤\n",
       "⎢                                 ⎥\n",
       "⎢ 0   1/2   1    0    0    0    0 ⎥\n",
       "⎢                                 ⎥\n",
       "⎢ 0    0   1/2   1    0    0    0 ⎥\n",
       "⎢                                 ⎥\n",
       "⎢ 0    0    0   1/2   1    0    0 ⎥\n",
       "⎢                                 ⎥\n",
       "⎢ 0    0    0    0   1/2   1    0 ⎥\n",
       "⎢                                 ⎥\n",
       "⎢ 0    0    0    0    0   1/2   1 ⎥\n",
       "⎢                                 ⎥\n",
       "⎣ 0    0    0    0    0    0   1/2⎦"
      ]
     },
     "execution_count": 21,
     "metadata": {},
     "output_type": "execute_result"
    }
   ],
   "source": [
    "production_matrix(P_sqrt.rhs)"
   ]
  },
  {
   "cell_type": "code",
   "execution_count": 22,
   "metadata": {
    "collapsed": false,
    "deletable": true,
    "editable": true
   },
   "outputs": [],
   "source": [
    "assert P_sqrt.rhs == P.rhs**(S(1)/2)\n",
    "assert P_sqrt.rhs * P_sqrt.rhs == P.rhs\n",
    "assert P_sqrt.rhs == P_power.rhs.subs({r:S(1)/2})"
   ]
  },
  {
   "cell_type": "code",
   "execution_count": 23,
   "metadata": {
    "collapsed": false,
    "deletable": true,
    "editable": true
   },
   "outputs": [
    {
     "data": {
      "image/png": "[encoded data removed]",
      "text/latex": [
       "$$\\left[\\begin{matrix}1 & 0 & 0 & 0 & 0 & 0 & 0 & 0\\\\\\frac{1}{3} & 1 & 0 & 0 & 0 & 0 & 0 & 0\\\\\\frac{1}{9} & \\frac{2}{3} & 1 & 0 & 0 & 0 & 0 & 0\\\\\\frac{1}{27} & \\frac{1}{3} & 1 & 1 & 0 & 0 & 0 & 0\\\\\\frac{1}{81} & \\frac{4}{27} & \\frac{2}{3} & \\frac{4}{3} & 1 & 0 & 0 & 0\\\\\\frac{1}{243} & \\frac{5}{81} & \\frac{10}{27} & \\frac{10}{9} & \\frac{5}{3} & 1 & 0 & 0\\\\\\frac{1}{729} & \\frac{2}{81} & \\frac{5}{27} & \\frac{20}{27} & \\frac{5}{3} & 2 & 1 & 0\\\\\\frac{1}{2187} & \\frac{7}{729} & \\frac{7}{81} & \\frac{35}{81} & \\frac{35}{27} & \\frac{7}{3} & \\frac{7}{3} & 1\\end{matrix}\\right]$$"
      ],
      "text/plain": [
       "⎡  1       0     0     0     0    0    0   0⎤\n",
       "⎢                                           ⎥\n",
       "⎢ 1/3      1     0     0     0    0    0   0⎥\n",
       "⎢                                           ⎥\n",
       "⎢ 1/9     2/3    1     0     0    0    0   0⎥\n",
       "⎢                                           ⎥\n",
       "⎢ 1/27    1/3    1     1     0    0    0   0⎥\n",
       "⎢                                           ⎥\n",
       "⎢ 1/81   4/27   2/3   4/3    1    0    0   0⎥\n",
       "⎢                                           ⎥\n",
       "⎢                10                         ⎥\n",
       "⎢1/243   5/81    ──   10/9  5/3   1    0   0⎥\n",
       "⎢                27                         ⎥\n",
       "⎢                                           ⎥\n",
       "⎢                      20                   ⎥\n",
       "⎢1/729   2/81   5/27   ──   5/3   2    1   0⎥\n",
       "⎢                      27                   ⎥\n",
       "⎢                                           ⎥\n",
       "⎢                      35   35              ⎥\n",
       "⎢1/2187  7/729  7/81   ──   ──   7/3  7/3  1⎥\n",
       "⎣                      81   27              ⎦"
      ]
     },
     "execution_count": 23,
     "metadata": {},
     "output_type": "execute_result"
    }
   ],
   "source": [
    "P_power.rhs.subs({r:S(1)/3})"
   ]
  },
  {
   "cell_type": "code",
   "execution_count": 24,
   "metadata": {
    "collapsed": false,
    "deletable": true,
    "editable": true
   },
   "outputs": [
    {
     "data": {
      "image/png": "[encoded data removed]",
      "text/latex": [
       "$$\\left[\\begin{matrix}1 & 0 & 0 & 0 & 0 & 0 & 0 & 0\\\\2 & 1 & 0 & 0 & 0 & 0 & 0 & 0\\\\4 & 4 & 1 & 0 & 0 & 0 & 0 & 0\\\\8 & 12 & 6 & 1 & 0 & 0 & 0 & 0\\\\16 & 32 & 24 & 8 & 1 & 0 & 0 & 0\\\\32 & 80 & 80 & 40 & 10 & 1 & 0 & 0\\\\64 & 192 & 240 & 160 & 60 & 12 & 1 & 0\\\\128 & 448 & 672 & 560 & 280 & 84 & 14 & 1\\end{matrix}\\right]$$"
      ],
      "text/plain": [
       "⎡ 1    0    0    0    0   0   0   0⎤\n",
       "⎢                                  ⎥\n",
       "⎢ 2    1    0    0    0   0   0   0⎥\n",
       "⎢                                  ⎥\n",
       "⎢ 4    4    1    0    0   0   0   0⎥\n",
       "⎢                                  ⎥\n",
       "⎢ 8   12    6    1    0   0   0   0⎥\n",
       "⎢                                  ⎥\n",
       "⎢16   32   24    8    1   0   0   0⎥\n",
       "⎢                                  ⎥\n",
       "⎢32   80   80   40   10   1   0   0⎥\n",
       "⎢                                  ⎥\n",
       "⎢64   192  240  160  60   12  1   0⎥\n",
       "⎢                                  ⎥\n",
       "⎣128  448  672  560  280  84  14  1⎦"
      ]
     },
     "execution_count": 24,
     "metadata": {},
     "output_type": "execute_result"
    }
   ],
   "source": [
    "P_power.rhs.subs({r:2})"
   ]
  },
  {
   "cell_type": "code",
   "execution_count": 25,
   "metadata": {
    "collapsed": false,
    "deletable": true,
    "editable": true
   },
   "outputs": [
    {
     "data": {
      "text/plain": [
       "nature(is_ordinary=True, is_exponential=True)"
      ]
     },
     "execution_count": 25,
     "metadata": {},
     "output_type": "execute_result"
    }
   ],
   "source": [
    "inspect(_)"
   ]
  },
  {
   "cell_type": "markdown",
   "metadata": {
    "deletable": true,
    "editable": true
   },
   "source": [
    "## `expt` function"
   ]
  },
  {
   "cell_type": "code",
   "execution_count": 26,
   "metadata": {
    "collapsed": false,
    "deletable": true,
    "editable": true
   },
   "outputs": [],
   "source": [
    "f_exp, g_exp = functions_catalog.exp(eigendata, Phi_polynomials)"
   ]
  },
  {
   "cell_type": "code",
   "execution_count": 27,
   "metadata": {
    "collapsed": false,
    "deletable": true,
    "editable": true
   },
   "outputs": [
    {
     "data": {
      "image/png": "[encoded data removed]",
      "text/latex": [
       "$$\\operatorname{E_{ 8 }}{\\left (\\mathcal{P}_{ 8 } \\right )} = \\left[\\begin{matrix}e^{\\alpha} & 0 & 0 & 0 & 0 & 0 & 0 & 0\\\\\\alpha e^{\\alpha} & e^{\\alpha} & 0 & 0 & 0 & 0 & 0 & 0\\\\\\alpha \\left(\\alpha + 1\\right) e^{\\alpha} & 2 \\alpha e^{\\alpha} & e^{\\alpha} & 0 & 0 & 0 & 0 & 0\\\\\\alpha \\left(\\alpha^{2} + 3 \\alpha + 1\\right) e^{\\alpha} & 3 \\alpha \\left(\\alpha + 1\\right) e^{\\alpha} & 3 \\alpha e^{\\alpha} & e^{\\alpha} & 0 & 0 & 0 & 0\\\\\\alpha \\left(\\alpha^{3} + 6 \\alpha^{2} + 7 \\alpha + 1\\right) e^{\\alpha} & 4 \\alpha \\left(\\alpha^{2} + 3 \\alpha + 1\\right) e^{\\alpha} & 6 \\alpha \\left(\\alpha + 1\\right) e^{\\alpha} & 4 \\alpha e^{\\alpha} & e^{\\alpha} & 0 & 0 & 0\\\\\\alpha \\left(\\alpha^{4} + 10 \\alpha^{3} + 25 \\alpha^{2} + 15 \\alpha + 1\\right) e^{\\alpha} & 5 \\alpha \\left(\\alpha^{3} + 6 \\alpha^{2} + 7 \\alpha + 1\\right) e^{\\alpha} & 10 \\alpha \\left(\\alpha^{2} + 3 \\alpha + 1\\right) e^{\\alpha} & 10 \\alpha \\left(\\alpha + 1\\right) e^{\\alpha} & 5 \\alpha e^{\\alpha} & e^{\\alpha} & 0 & 0\\\\\\alpha \\left(\\alpha^{5} + 15 \\alpha^{4} + 65 \\alpha^{3} + 90 \\alpha^{2} + 31 \\alpha + 1\\right) e^{\\alpha} & 6 \\alpha \\left(\\alpha^{4} + 10 \\alpha^{3} + 25 \\alpha^{2} + 15 \\alpha + 1\\right) e^{\\alpha} & 15 \\alpha \\left(\\alpha^{3} + 6 \\alpha^{2} + 7 \\alpha + 1\\right) e^{\\alpha} & 20 \\alpha \\left(\\alpha^{2} + 3 \\alpha + 1\\right) e^{\\alpha} & 15 \\alpha \\left(\\alpha + 1\\right) e^{\\alpha} & 6 \\alpha e^{\\alpha} & e^{\\alpha} & 0\\\\\\alpha \\left(\\alpha^{6} + 21 \\alpha^{5} + 140 \\alpha^{4} + 350 \\alpha^{3} + 301 \\alpha^{2} + 63 \\alpha + 1\\right) e^{\\alpha} & 7 \\alpha \\left(\\alpha^{5} + 15 \\alpha^{4} + 65 \\alpha^{3} + 90 \\alpha^{2} + 31 \\alpha + 1\\right) e^{\\alpha} & 21 \\alpha \\left(\\alpha^{4} + 10 \\alpha^{3} + 25 \\alpha^{2} + 15 \\alpha + 1\\right) e^{\\alpha} & 35 \\alpha \\left(\\alpha^{3} + 6 \\alpha^{2} + 7 \\alpha + 1\\right) e^{\\alpha} & 35 \\alpha \\left(\\alpha^{2} + 3 \\alpha + 1\\right) e^{\\alpha} & 21 \\alpha \\left(\\alpha + 1\\right) e^{\\alpha} & 7 \\alpha e^{\\alpha} & e^{\\alpha}\\end{matrix}\\right]$$"
      ],
      "text/plain": [
       "                             ⎡                           α                    \n",
       "                             ⎢                          ℯ                     \n",
       "                             ⎢                                                \n",
       "                             ⎢                            α                   \n",
       "                             ⎢                         α⋅ℯ                    \n",
       "                             ⎢                                                \n",
       "                             ⎢                                α               \n",
       "                             ⎢                     α⋅(α + 1)⋅ℯ                \n",
       "                             ⎢                                                \n",
       "                             ⎢                    ⎛ 2          ⎞  α           \n",
       "                             ⎢                  α⋅⎝α  + 3⋅α + 1⎠⋅ℯ            \n",
       "E_{ 8 }(\\mathcal{P}_{ 8 }) = ⎢                                                \n",
       "                             ⎢                ⎛ 3      2          ⎞  α        \n",
       "                             ⎢              α⋅⎝α  + 6⋅α  + 7⋅α + 1⎠⋅ℯ         \n",
       "                             ⎢                                                \n",
       "                             ⎢           ⎛ 4       3       2           ⎞  α   \n",
       "                             ⎢         α⋅⎝α  + 10⋅α  + 25⋅α  + 15⋅α + 1⎠⋅ℯ    \n",
       "                             ⎢                                                \n",
       "                             ⎢       ⎛ 5       4       3       2           ⎞  \n",
       "                             ⎢     α⋅⎝α  + 15⋅α  + 65⋅α  + 90⋅α  + 31⋅α + 1⎠⋅ℯ\n",
       "                             ⎢                                                \n",
       "                             ⎢  ⎛ 6       5        4        3        2        \n",
       "                             ⎣α⋅⎝α  + 21⋅α  + 140⋅α  + 350⋅α  + 301⋅α  + 63⋅α \n",
       "\n",
       "                                                                              \n",
       "                               0                                            0 \n",
       "                                                                              \n",
       "                                α                                             \n",
       "                               ℯ                                            0 \n",
       "                                                                              \n",
       "                                  α                                         α \n",
       "                             2⋅α⋅ℯ                                         ℯ  \n",
       "                                                                              \n",
       "                                      α                                       \n",
       "                         3⋅α⋅(α + 1)⋅ℯ                                   3⋅α⋅ℯ\n",
       "                                                                              \n",
       "                         ⎛ 2          ⎞  α                                    \n",
       "                     4⋅α⋅⎝α  + 3⋅α + 1⎠⋅ℯ                            6⋅α⋅(α + \n",
       "                                                                              \n",
       "                      ⎛ 3      2          ⎞  α                        ⎛ 2     \n",
       "                  5⋅α⋅⎝α  + 6⋅α  + 7⋅α + 1⎠⋅ℯ                    10⋅α⋅⎝α  + 3⋅\n",
       "                                                                              \n",
       "α                ⎛ 4       3       2           ⎞  α                ⎛ 3      2 \n",
       "             6⋅α⋅⎝α  + 10⋅α  + 25⋅α  + 15⋅α + 1⎠⋅ℯ            15⋅α⋅⎝α  + 6⋅α  \n",
       "                                                                              \n",
       "   ⎞  α      ⎛ 5       4       3       2           ⎞  α       ⎛ 4       3     \n",
       "+ 1⎠⋅ℯ   7⋅α⋅⎝α  + 15⋅α  + 65⋅α  + 90⋅α  + 31⋅α + 1⎠⋅ℯ   21⋅α⋅⎝α  + 10⋅α  + 25\n",
       "\n",
       "                                                                              \n",
       "                                  0                          0                \n",
       "                                                                              \n",
       "                                                                              \n",
       "                                  0                          0                \n",
       "                                                                              \n",
       "                                                                              \n",
       "                                  0                          0                \n",
       "                                                                              \n",
       "α                                 α                                           \n",
       "                                 ℯ                           0                \n",
       "                                                                              \n",
       "    α                               α                         α               \n",
       "1)⋅ℯ                           4⋅α⋅ℯ                         ℯ                \n",
       "                                                                              \n",
       "     ⎞  α                                α                      α             \n",
       "α + 1⎠⋅ℯ                   10⋅α⋅(α + 1)⋅ℯ                  5⋅α⋅ℯ              \n",
       "                                                                              \n",
       "         ⎞  α               ⎛ 2          ⎞  α                       α         \n",
       "+ 7⋅α + 1⎠⋅ℯ           20⋅α⋅⎝α  + 3⋅α + 1⎠⋅ℯ          15⋅α⋅(α + 1)⋅ℯ          \n",
       "                                                                              \n",
       "  2           ⎞  α       ⎛ 3      2          ⎞  α       ⎛ 2          ⎞  α     \n",
       "⋅α  + 15⋅α + 1⎠⋅ℯ   35⋅α⋅⎝α  + 6⋅α  + 7⋅α + 1⎠⋅ℯ   35⋅α⋅⎝α  + 3⋅α + 1⎠⋅ℯ   21⋅\n",
       "\n",
       "                        ⎤\n",
       "    0           0     0 ⎥\n",
       "                        ⎥\n",
       "                        ⎥\n",
       "    0           0     0 ⎥\n",
       "                        ⎥\n",
       "                        ⎥\n",
       "    0           0     0 ⎥\n",
       "                        ⎥\n",
       "                        ⎥\n",
       "    0           0     0 ⎥\n",
       "                        ⎥\n",
       "                        ⎥\n",
       "    0           0     0 ⎥\n",
       "                        ⎥\n",
       "    α                   ⎥\n",
       "   ℯ            0     0 ⎥\n",
       "                        ⎥\n",
       "      α          α      ⎥\n",
       " 6⋅α⋅ℯ          ℯ     0 ⎥\n",
       "                        ⎥\n",
       "           α       α   α⎥\n",
       "α⋅(α + 1)⋅ℯ   7⋅α⋅ℯ   ℯ ⎦"
      ]
     },
     "execution_count": 27,
     "metadata": {},
     "output_type": "execute_result"
    }
   ],
   "source": [
    "P_exp = g_exp(P)\n",
    "P_exp"
   ]
  },
  {
   "cell_type": "code",
   "execution_count": 28,
   "metadata": {
    "collapsed": false,
    "deletable": true,
    "editable": true
   },
   "outputs": [
    {
     "data": {
      "text/plain": [
       "nature(is_ordinary=False, is_exponential=True)"
      ]
     },
     "execution_count": 28,
     "metadata": {},
     "output_type": "execute_result"
    }
   ],
   "source": [
    "inspect(P_exp.rhs)"
   ]
  },
  {
   "cell_type": "code",
   "execution_count": 29,
   "metadata": {
    "collapsed": false,
    "deletable": true,
    "editable": true
   },
   "outputs": [
    {
     "data": {
      "image/png": "[encoded data removed]",
      "text/latex": [
       "$$\\left[\\begin{matrix}1 & 1 & 0 & 0 & 0 & 0 & 0\\\\1 & 1 & 1 & 0 & 0 & 0 & 0\\\\1 & 2 & 1 & 1 & 0 & 0 & 0\\\\1 & 3 & 3 & 1 & 1 & 0 & 0\\\\1 & 4 & 6 & 4 & 1 & 1 & 0\\\\1 & 5 & 10 & 10 & 5 & 1 & 1\\\\1 & 6 & 15 & 20 & 15 & 6 & 1\\end{matrix}\\right]$$"
      ],
      "text/plain": [
       "⎡1  1  0   0   0   0  0⎤\n",
       "⎢                      ⎥\n",
       "⎢1  1  1   0   0   0  0⎥\n",
       "⎢                      ⎥\n",
       "⎢1  2  1   1   0   0  0⎥\n",
       "⎢                      ⎥\n",
       "⎢1  3  3   1   1   0  0⎥\n",
       "⎢                      ⎥\n",
       "⎢1  4  6   4   1   1  0⎥\n",
       "⎢                      ⎥\n",
       "⎢1  5  10  10  5   1  1⎥\n",
       "⎢                      ⎥\n",
       "⎣1  6  15  20  15  6  1⎦"
      ]
     },
     "execution_count": 29,
     "metadata": {},
     "output_type": "execute_result"
    }
   ],
   "source": [
    "production_matrix(P_exp.rhs.subs({alpha:1})) # faster than `production_matrix(P_exp.rhs).subs({alpha:1})`"
   ]
  },
  {
   "cell_type": "code",
   "execution_count": 30,
   "metadata": {
    "collapsed": false,
    "deletable": true,
    "editable": true
   },
   "outputs": [
    {
     "data": {
      "image/png": "[encoded data removed]",
      "text/latex": [
       "$$\\operatorname{E_{ 8 }}{\\left (\\mathcal{P}_{ 8 } \\right )} = e^{\\alpha} \\left[\\begin{matrix}1 & 0 & 0 & 0 & 0 & 0 & 0 & 0\\\\\\alpha & 1 & 0 & 0 & 0 & 0 & 0 & 0\\\\\\alpha^{2} + \\alpha & 2 \\alpha & 1 & 0 & 0 & 0 & 0 & 0\\\\\\alpha^{3} + 3 \\alpha^{2} + \\alpha & 3 \\alpha^{2} + 3 \\alpha & 3 \\alpha & 1 & 0 & 0 & 0 & 0\\\\\\alpha^{4} + 6 \\alpha^{3} + 7 \\alpha^{2} + \\alpha & 4 \\alpha^{3} + 12 \\alpha^{2} + 4 \\alpha & 6 \\alpha^{2} + 6 \\alpha & 4 \\alpha & 1 & 0 & 0 & 0\\\\\\alpha^{5} + 10 \\alpha^{4} + 25 \\alpha^{3} + 15 \\alpha^{2} + \\alpha & 5 \\alpha^{4} + 30 \\alpha^{3} + 35 \\alpha^{2} + 5 \\alpha & 10 \\alpha^{3} + 30 \\alpha^{2} + 10 \\alpha & 10 \\alpha^{2} + 10 \\alpha & 5 \\alpha & 1 & 0 & 0\\\\\\alpha^{6} + 15 \\alpha^{5} + 65 \\alpha^{4} + 90 \\alpha^{3} + 31 \\alpha^{2} + \\alpha & 6 \\alpha^{5} + 60 \\alpha^{4} + 150 \\alpha^{3} + 90 \\alpha^{2} + 6 \\alpha & 15 \\alpha^{4} + 90 \\alpha^{3} + 105 \\alpha^{2} + 15 \\alpha & 20 \\alpha^{3} + 60 \\alpha^{2} + 20 \\alpha & 15 \\alpha^{2} + 15 \\alpha & 6 \\alpha & 1 & 0\\\\\\alpha^{7} + 21 \\alpha^{6} + 140 \\alpha^{5} + 350 \\alpha^{4} + 301 \\alpha^{3} + 63 \\alpha^{2} + \\alpha & 7 \\alpha^{6} + 105 \\alpha^{5} + 455 \\alpha^{4} + 630 \\alpha^{3} + 217 \\alpha^{2} + 7 \\alpha & 21 \\alpha^{5} + 210 \\alpha^{4} + 525 \\alpha^{3} + 315 \\alpha^{2} + 21 \\alpha & 35 \\alpha^{4} + 210 \\alpha^{3} + 245 \\alpha^{2} + 35 \\alpha & 35 \\alpha^{3} + 105 \\alpha^{2} + 35 \\alpha & 21 \\alpha^{2} + 21 \\alpha & 7 \\alpha & 1\\end{matrix}\\right]$$"
      ],
      "text/plain": [
       "                                ⎡                        1                    \n",
       "                                ⎢                                             \n",
       "                                ⎢                        α                    \n",
       "                                ⎢                                             \n",
       "                                ⎢                      2                      \n",
       "                                ⎢                     α  + α                  \n",
       "                                ⎢                                             \n",
       "                                ⎢                   3      2                  \n",
       "                                ⎢                  α  + 3⋅α  + α              \n",
       "                              α ⎢                                             \n",
       "E_{ 8 }(\\mathcal{P}_{ 8 }) = ℯ ⋅⎢               4      3      2               \n",
       "                                ⎢              α  + 6⋅α  + 7⋅α  + α           \n",
       "                                ⎢                                             \n",
       "                                ⎢          5       4       3       2          \n",
       "                                ⎢         α  + 10⋅α  + 25⋅α  + 15⋅α  + α      \n",
       "                                ⎢                                             \n",
       "                                ⎢      6       5       4       3       2      \n",
       "                                ⎢     α  + 15⋅α  + 65⋅α  + 90⋅α  + 31⋅α  + α  \n",
       "                                ⎢                                             \n",
       "                                ⎢ 7       6        5        4        3       2\n",
       "                                ⎣α  + 21⋅α  + 140⋅α  + 350⋅α  + 301⋅α  + 63⋅α \n",
       "\n",
       "                            0                                            0    \n",
       "                                                                              \n",
       "                            1                                            0    \n",
       "                                                                              \n",
       "                                                                              \n",
       "                           2⋅α                                           1    \n",
       "                                                                              \n",
       "                           2                                                  \n",
       "                        3⋅α  + 3⋅α                                      3⋅α   \n",
       "                                                                              \n",
       "                       3       2                                       2      \n",
       "                    4⋅α  + 12⋅α  + 4⋅α                              6⋅α  + 6⋅α\n",
       "                                                                              \n",
       "                   4       3       2                               3       2  \n",
       "                5⋅α  + 30⋅α  + 35⋅α  + 5⋅α                     10⋅α  + 30⋅α  +\n",
       "                                                                              \n",
       "              5       4        3       2                       4       3      \n",
       "           6⋅α  + 60⋅α  + 150⋅α  + 90⋅α  + 6⋅α             15⋅α  + 90⋅α  + 105\n",
       "                                                                              \n",
       "         6        5        4        3        2            5        4        3 \n",
       " + α  7⋅α  + 105⋅α  + 455⋅α  + 630⋅α  + 217⋅α  + 7⋅α  21⋅α  + 210⋅α  + 525⋅α  \n",
       "\n",
       "                               0                           0                 0\n",
       "                                                                              \n",
       "                               0                           0                 0\n",
       "                                                                              \n",
       "                                                                              \n",
       "                               0                           0                 0\n",
       "                                                                              \n",
       "                                                                              \n",
       "                               1                           0                 0\n",
       "                                                                              \n",
       "                                                                              \n",
       "                              4⋅α                          1                 0\n",
       "                                                                              \n",
       "                              2                                               \n",
       " 10⋅α                     10⋅α  + 10⋅α                    5⋅α                1\n",
       "                                                                              \n",
       "  2                       3       2                      2                    \n",
       "⋅α  + 15⋅α            20⋅α  + 60⋅α  + 20⋅α           15⋅α  + 15⋅α           6⋅\n",
       "                                                                              \n",
       "       2             4        3        2             3        2             2 \n",
       "+ 315⋅α  + 21⋅α  35⋅α  + 210⋅α  + 245⋅α  + 35⋅α  35⋅α  + 105⋅α  + 35⋅α  21⋅α  \n",
       "\n",
       "         0   0⎤\n",
       "              ⎥\n",
       "         0   0⎥\n",
       "              ⎥\n",
       "              ⎥\n",
       "         0   0⎥\n",
       "              ⎥\n",
       "              ⎥\n",
       "         0   0⎥\n",
       "              ⎥\n",
       "              ⎥\n",
       "         0   0⎥\n",
       "              ⎥\n",
       "              ⎥\n",
       "         0   0⎥\n",
       "              ⎥\n",
       "              ⎥\n",
       "α        1   0⎥\n",
       "              ⎥\n",
       "              ⎥\n",
       "+ 21⋅α  7⋅α  1⎦"
      ]
     },
     "execution_count": 30,
     "metadata": {},
     "output_type": "execute_result"
    }
   ],
   "source": [
    "simp_P_expt = define(P_exp.lhs,\n",
    "                     Mul(exp(alpha), P_exp.rhs.applyfunc(lambda c: (c/exp(alpha)).expand()), evaluate=False))\n",
    "simp_P_expt"
   ]
  },
  {
   "cell_type": "code",
   "execution_count": 31,
   "metadata": {
    "collapsed": true,
    "deletable": true,
    "editable": true
   },
   "outputs": [],
   "source": [
    "from sympy.functions.combinatorial.numbers import stirling"
   ]
  },
  {
   "cell_type": "code",
   "execution_count": 32,
   "metadata": {
    "collapsed": false,
    "deletable": true,
    "editable": true
   },
   "outputs": [
    {
     "data": {
      "image/png": "[encoded data removed]",
      "text/latex": [
       "$$\\left ( S = \\left[\\begin{matrix}1 & 0 & 0 & 0 & 0 & 0 & 0 & 0\\\\0 & 1 & 0 & 0 & 0 & 0 & 0 & 0\\\\0 & 1 & 1 & 0 & 0 & 0 & 0 & 0\\\\0 & 1 & 3 & 1 & 0 & 0 & 0 & 0\\\\0 & 1 & 7 & 6 & 1 & 0 & 0 & 0\\\\0 & 1 & 15 & 25 & 10 & 1 & 0 & 0\\\\0 & 1 & 31 & 90 & 65 & 15 & 1 & 0\\\\0 & 1 & 63 & 301 & 350 & 140 & 21 & 1\\end{matrix}\\right], \\quad \\left[\\begin{matrix}0 & 1 & 0 & 0 & 0 & 0 & 0\\\\0 & 1 & 1 & 0 & 0 & 0 & 0\\\\0 & 0 & 2 & 1 & 0 & 0 & 0\\\\0 & 0 & 0 & 3 & 1 & 0 & 0\\\\0 & 0 & 0 & 0 & 4 & 1 & 0\\\\0 & 0 & 0 & 0 & 0 & 5 & 1\\\\0 & 0 & 0 & 0 & 0 & 0 & 6\\end{matrix}\\right], \\quad \\left[\\begin{matrix}0 & 1 & 0 & 0 & 0 & 0 & 0\\\\0 & 1 & 2 & 0 & 0 & 0 & 0\\\\0 & 0 & 2 & 3 & 0 & 0 & 0\\\\0 & 0 & 0 & 3 & 4 & 0 & 0\\\\0 & 0 & 0 & 0 & 4 & 5 & 0\\\\0 & 0 & 0 & 0 & 0 & 5 & 6\\\\0 & 0 & 0 & 0 & 0 & 0 & 6\\end{matrix}\\right]\\right )$$"
      ],
      "text/plain": [
       "⎛    ⎡1  0  0    0    0    0   0   0⎤                                         \n",
       "⎜    ⎢                              ⎥  ⎡0  1  0  0  0  0  0⎤  ⎡0  1  0  0  0  \n",
       "⎜    ⎢0  1  0    0    0    0   0   0⎥  ⎢                   ⎥  ⎢               \n",
       "⎜    ⎢                              ⎥  ⎢0  1  1  0  0  0  0⎥  ⎢0  1  2  0  0  \n",
       "⎜    ⎢0  1  1    0    0    0   0   0⎥  ⎢                   ⎥  ⎢               \n",
       "⎜    ⎢                              ⎥  ⎢0  0  2  1  0  0  0⎥  ⎢0  0  2  3  0  \n",
       "⎜    ⎢0  1  3    1    0    0   0   0⎥  ⎢                   ⎥  ⎢               \n",
       "⎜S = ⎢                              ⎥, ⎢0  0  0  3  1  0  0⎥, ⎢0  0  0  3  4  \n",
       "⎜    ⎢0  1  7    6    1    0   0   0⎥  ⎢                   ⎥  ⎢               \n",
       "⎜    ⎢                              ⎥  ⎢0  0  0  0  4  1  0⎥  ⎢0  0  0  0  4  \n",
       "⎜    ⎢0  1  15  25   10    1   0   0⎥  ⎢                   ⎥  ⎢               \n",
       "⎜    ⎢                              ⎥  ⎢0  0  0  0  0  5  1⎥  ⎢0  0  0  0  0  \n",
       "⎜    ⎢0  1  31  90   65   15   1   0⎥  ⎢                   ⎥  ⎢               \n",
       "⎜    ⎢                              ⎥  ⎣0  0  0  0  0  0  6⎦  ⎣0  0  0  0  0  \n",
       "⎝    ⎣0  1  63  301  350  140  21  1⎦                                         \n",
       "\n",
       "     ⎞\n",
       "0  0⎤⎟\n",
       "    ⎥⎟\n",
       "0  0⎥⎟\n",
       "    ⎥⎟\n",
       "0  0⎥⎟\n",
       "    ⎥⎟\n",
       "0  0⎥⎟\n",
       "    ⎥⎟\n",
       "5  0⎥⎟\n",
       "    ⎥⎟\n",
       "5  6⎥⎟\n",
       "    ⎥⎟\n",
       "0  6⎦⎟\n",
       "     ⎠"
      ]
     },
     "execution_count": 32,
     "metadata": {},
     "output_type": "execute_result"
    }
   ],
   "source": [
    "S = Matrix(m, m, lambda n,k: stirling(n,k, kind=2))\n",
    "define(Symbol('S'), S), production_matrix(S), production_matrix(S, exp=True)"
   ]
  },
  {
   "cell_type": "code",
   "execution_count": 33,
   "metadata": {
    "collapsed": false,
    "deletable": true,
    "editable": true
   },
   "outputs": [
    {
     "data": {
      "image/png": "[encoded data removed]",
      "text/latex": [
       "$$\\left ( \\left[\\begin{matrix}1 & 0 & 0 & 0 & 0 & 0 & 0 & 0\\\\1 & 1 & 0 & 0 & 0 & 0 & 0 & 0\\\\2 & 2 & 1 & 0 & 0 & 0 & 0 & 0\\\\5 & 6 & 3 & 1 & 0 & 0 & 0 & 0\\\\15 & 20 & 12 & 4 & 1 & 0 & 0 & 0\\\\52 & 75 & 50 & 20 & 5 & 1 & 0 & 0\\\\203 & 312 & 225 & 100 & 30 & 6 & 1 & 0\\\\877 & 1421 & 1092 & 525 & 175 & 42 & 7 & 1\\end{matrix}\\right], \\quad \\left[\\begin{matrix}1 & 0 & 0 & 0 & 0 & 0 & 0 & 0\\\\1 & 1 & 0 & 0 & 0 & 0 & 0 & 0\\\\0 & 2 & 1 & 0 & 0 & 0 & 0 & 0\\\\0 & 0 & 3 & 1 & 0 & 0 & 0 & 0\\\\0 & 0 & 0 & 4 & 1 & 0 & 0 & 0\\\\0 & 0 & 0 & 0 & 5 & 1 & 0 & 0\\\\0 & 0 & 0 & 0 & 0 & 6 & 1 & 0\\\\0 & 0 & 0 & 0 & 0 & 0 & 7 & 1\\end{matrix}\\right]\\right )$$"
      ],
      "text/plain": [
       "⎛⎡ 1    0     0     0    0   0   0  0⎤  ⎡1  0  0  0  0  0  0  0⎤⎞\n",
       "⎜⎢                                   ⎥  ⎢                      ⎥⎟\n",
       "⎜⎢ 1    1     0     0    0   0   0  0⎥  ⎢1  1  0  0  0  0  0  0⎥⎟\n",
       "⎜⎢                                   ⎥  ⎢                      ⎥⎟\n",
       "⎜⎢ 2    2     1     0    0   0   0  0⎥  ⎢0  2  1  0  0  0  0  0⎥⎟\n",
       "⎜⎢                                   ⎥  ⎢                      ⎥⎟\n",
       "⎜⎢ 5    6     3     1    0   0   0  0⎥  ⎢0  0  3  1  0  0  0  0⎥⎟\n",
       "⎜⎢                                   ⎥, ⎢                      ⎥⎟\n",
       "⎜⎢15    20    12    4    1   0   0  0⎥  ⎢0  0  0  4  1  0  0  0⎥⎟\n",
       "⎜⎢                                   ⎥  ⎢                      ⎥⎟\n",
       "⎜⎢52    75    50   20    5   1   0  0⎥  ⎢0  0  0  0  5  1  0  0⎥⎟\n",
       "⎜⎢                                   ⎥  ⎢                      ⎥⎟\n",
       "⎜⎢203  312   225   100  30   6   1  0⎥  ⎢0  0  0  0  0  6  1  0⎥⎟\n",
       "⎜⎢                                   ⎥  ⎢                      ⎥⎟\n",
       "⎝⎣877  1421  1092  525  175  42  7  1⎦  ⎣0  0  0  0  0  0  7  1⎦⎠"
      ]
     },
     "execution_count": 33,
     "metadata": {},
     "output_type": "execute_result"
    }
   ],
   "source": [
    "S*P.rhs*S**(-1), S**(-1)*P.rhs*S"
   ]
  },
  {
   "cell_type": "markdown",
   "metadata": {
    "deletable": true,
    "editable": true
   },
   "source": [
    "## `log` function"
   ]
  },
  {
   "cell_type": "code",
   "execution_count": 34,
   "metadata": {
    "collapsed": false,
    "deletable": true,
    "editable": true
   },
   "outputs": [],
   "source": [
    "f_log, g_log, = functions_catalog.log(eigendata, Phi_polynomials)"
   ]
  },
  {
   "cell_type": "code",
   "execution_count": 35,
   "metadata": {
    "collapsed": false,
    "deletable": true,
    "editable": true
   },
   "outputs": [
    {
     "data": {
      "image/png": "[encoded data removed]",
      "text/latex": [
       "$$\\operatorname{L_{ 8 }}{\\left (\\mathcal{P}_{ 8 } \\right )} = \\left[\\begin{matrix}0 & 0 & 0 & 0 & 0 & 0 & 0 & 0\\\\1 & 0 & 0 & 0 & 0 & 0 & 0 & 0\\\\0 & 2 & 0 & 0 & 0 & 0 & 0 & 0\\\\0 & 0 & 3 & 0 & 0 & 0 & 0 & 0\\\\0 & 0 & 0 & 4 & 0 & 0 & 0 & 0\\\\0 & 0 & 0 & 0 & 5 & 0 & 0 & 0\\\\0 & 0 & 0 & 0 & 0 & 6 & 0 & 0\\\\0 & 0 & 0 & 0 & 0 & 0 & 7 & 0\\end{matrix}\\right]$$"
      ],
      "text/plain": [
       "                             ⎡0  0  0  0  0  0  0  0⎤\n",
       "                             ⎢                      ⎥\n",
       "                             ⎢1  0  0  0  0  0  0  0⎥\n",
       "                             ⎢                      ⎥\n",
       "                             ⎢0  2  0  0  0  0  0  0⎥\n",
       "                             ⎢                      ⎥\n",
       "                             ⎢0  0  3  0  0  0  0  0⎥\n",
       "L_{ 8 }(\\mathcal{P}_{ 8 }) = ⎢                      ⎥\n",
       "                             ⎢0  0  0  4  0  0  0  0⎥\n",
       "                             ⎢                      ⎥\n",
       "                             ⎢0  0  0  0  5  0  0  0⎥\n",
       "                             ⎢                      ⎥\n",
       "                             ⎢0  0  0  0  0  6  0  0⎥\n",
       "                             ⎢                      ⎥\n",
       "                             ⎣0  0  0  0  0  0  7  0⎦"
      ]
     },
     "execution_count": 35,
     "metadata": {},
     "output_type": "execute_result"
    }
   ],
   "source": [
    "P_log = g_log(P)\n",
    "P_log"
   ]
  },
  {
   "cell_type": "code",
   "execution_count": 36,
   "metadata": {
    "collapsed": false,
    "deletable": true,
    "editable": true
   },
   "outputs": [
    {
     "data": {
      "text/plain": [
       "nature(is_ordinary=False, is_exponential=True)"
      ]
     },
     "execution_count": 36,
     "metadata": {},
     "output_type": "execute_result"
    }
   ],
   "source": [
    "inspect(P_log.rhs[1:,:-1])"
   ]
  },
  {
   "cell_type": "code",
   "execution_count": 37,
   "metadata": {
    "collapsed": false,
    "deletable": true,
    "editable": true
   },
   "outputs": [
    {
     "data": {
      "image/png": "[encoded data removed]",
      "text/latex": [
       "$$\\left[\\begin{matrix}0 & 2 & 0 & 0 & 0 & 0\\\\0 & 0 & \\frac{3}{2} & 0 & 0 & 0\\\\0 & 0 & 0 & \\frac{4}{3} & 0 & 0\\\\0 & 0 & 0 & 0 & \\frac{5}{4} & 0\\\\0 & 0 & 0 & 0 & 0 & \\frac{6}{5}\\\\0 & 0 & 0 & 0 & 0 & 0\\end{matrix}\\right]$$"
      ],
      "text/plain": [
       "⎡0  2   0    0    0    0 ⎤\n",
       "⎢                        ⎥\n",
       "⎢0  0  3/2   0    0    0 ⎥\n",
       "⎢                        ⎥\n",
       "⎢0  0   0   4/3   0    0 ⎥\n",
       "⎢                        ⎥\n",
       "⎢0  0   0    0   5/4   0 ⎥\n",
       "⎢                        ⎥\n",
       "⎢0  0   0    0    0   6/5⎥\n",
       "⎢                        ⎥\n",
       "⎣0  0   0    0    0    0 ⎦"
      ]
     },
     "execution_count": 37,
     "metadata": {},
     "output_type": "execute_result"
    }
   ],
   "source": [
    "production_matrix(P_log.rhs[1:,:-1])"
   ]
  },
  {
   "cell_type": "code",
   "execution_count": 38,
   "metadata": {
    "collapsed": false,
    "deletable": true,
    "editable": true
   },
   "outputs": [
    {
     "data": {
      "image/png": "[encoded data removed]",
      "text/latex": [
       "$$\\operatorname{E_{ 8 }}{\\left (\\mathcal{P}_{ 8 } \\right )} = \\left[\\begin{matrix}e & 0 & 0 & 0 & 0 & 0 & 0 & 0\\\\e & e & 0 & 0 & 0 & 0 & 0 & 0\\\\2 e & 2 e & e & 0 & 0 & 0 & 0 & 0\\\\5 e & 6 e & 3 e & e & 0 & 0 & 0 & 0\\\\15 e & 20 e & 12 e & 4 e & e & 0 & 0 & 0\\\\52 e & 75 e & 50 e & 20 e & 5 e & e & 0 & 0\\\\203 e & 312 e & 225 e & 100 e & 30 e & 6 e & e & 0\\\\877 e & 1421 e & 1092 e & 525 e & 175 e & 42 e & 7 e & e\\end{matrix}\\right]$$"
      ],
      "text/plain": [
       "                             ⎡  ℯ      0       0       0      0     0     0   \n",
       "                             ⎢                                                \n",
       "                             ⎢  ℯ      ℯ       0       0      0     0     0   \n",
       "                             ⎢                                                \n",
       "                             ⎢ 2⋅ℯ    2⋅ℯ      ℯ       0      0     0     0   \n",
       "                             ⎢                                                \n",
       "                             ⎢ 5⋅ℯ    6⋅ℯ     3⋅ℯ      ℯ      0     0     0   \n",
       "E_{ 8 }(\\mathcal{P}_{ 8 }) = ⎢                                                \n",
       "                             ⎢15⋅ℯ    20⋅ℯ    12⋅ℯ    4⋅ℯ     ℯ     0     0   \n",
       "                             ⎢                                                \n",
       "                             ⎢52⋅ℯ    75⋅ℯ    50⋅ℯ   20⋅ℯ    5⋅ℯ    ℯ     0   \n",
       "                             ⎢                                                \n",
       "                             ⎢203⋅ℯ  312⋅ℯ   225⋅ℯ   100⋅ℯ  30⋅ℯ   6⋅ℯ    ℯ   \n",
       "                             ⎢                                                \n",
       "                             ⎣877⋅ℯ  1421⋅ℯ  1092⋅ℯ  525⋅ℯ  175⋅ℯ  42⋅ℯ  7⋅ℯ  \n",
       "\n",
       "0⎤\n",
       " ⎥\n",
       "0⎥\n",
       " ⎥\n",
       "0⎥\n",
       " ⎥\n",
       "0⎥\n",
       " ⎥\n",
       "0⎥\n",
       " ⎥\n",
       "0⎥\n",
       " ⎥\n",
       "0⎥\n",
       " ⎥\n",
       "ℯ⎦"
      ]
     },
     "execution_count": 38,
     "metadata": {},
     "output_type": "execute_result"
    }
   ],
   "source": [
    "P_exp_dirty = define(P_exp.lhs, P_exp.rhs.subs({alpha:1}))\n",
    "P_exp_dirty"
   ]
  },
  {
   "cell_type": "code",
   "execution_count": 39,
   "metadata": {
    "collapsed": false,
    "deletable": true,
    "editable": true
   },
   "outputs": [
    {
     "data": {
      "image/png": "[encoded data removed]",
      "text/latex": [
       "$$\\sigma{\\left (\\operatorname{E_{ 8 }}{\\left (\\mathcal{P}_{ 8 } \\right )} \\right )} = \\left ( \\left \\{ 1 : \\left ( \\lambda_{1}, \\quad m_{1}\\right )\\right \\}, \\quad \\left \\{ \\lambda_{1} : e\\right \\}, \\quad \\left \\{ m_{1} : 8\\right \\}\\right )$$"
      ],
      "text/plain": [
       "\\sigma(E_{ 8 }(\\mathcal{P}_{ 8 })) = ({1: (\\lambda[1], m[1])}, {\\lambda[1]: ℯ}\n",
       ", {m[1]: 8})"
      ]
     },
     "execution_count": 39,
     "metadata": {},
     "output_type": "execute_result"
    }
   ],
   "source": [
    "P_exp_eigendata = spectrum(P_exp_dirty)\n",
    "P_exp_eigendata"
   ]
  },
  {
   "cell_type": "code",
   "execution_count": 40,
   "metadata": {
    "collapsed": false,
    "deletable": true,
    "editable": true
   },
   "outputs": [
    {
     "data": {
      "image/png": "[encoded data removed]",
      "text/latex": [
       "$$\\left \\{ \\left ( 1, \\quad 1\\right ) : \\Phi_{ 1, 1 }{\\left (z \\right )} = 1, \\quad \\left ( 1, \\quad 2\\right ) : \\Phi_{ 1, 2 }{\\left (z \\right )} = z - e, \\quad \\left ( 1, \\quad 3\\right ) : \\Phi_{ 1, 3 }{\\left (z \\right )} = \\frac{z^{2}}{2} - e z + \\frac{e^{2}}{2}, \\quad \\left ( 1, \\quad 4\\right ) : \\Phi_{ 1, 4 }{\\left (z \\right )} = \\frac{z^{3}}{6} - \\frac{e z^{2}}{2} + \\frac{z e^{2}}{2} - \\frac{e^{3}}{6}, \\quad \\left ( 1, \\quad 5\\right ) : \\Phi_{ 1, 5 }{\\left (z \\right )} = \\frac{z^{4}}{24} - \\frac{e z^{3}}{6} + \\frac{z^{2} e^{2}}{4} - \\frac{z e^{3}}{6} + \\frac{e^{4}}{24}, \\quad \\left ( 1, \\quad 6\\right ) : \\Phi_{ 1, 6 }{\\left (z \\right )} = \\frac{z^{5}}{120} - \\frac{e z^{4}}{24} + \\frac{z^{3} e^{2}}{12} - \\frac{z^{2} e^{3}}{12} + \\frac{z e^{4}}{24} - \\frac{e^{5}}{120}, \\quad \\left ( 1, \\quad 7\\right ) : \\Phi_{ 1, 7 }{\\left (z \\right )} = \\frac{z^{6}}{720} - \\frac{e z^{5}}{120} + \\frac{z^{4} e^{2}}{48} - \\frac{z^{3} e^{3}}{36} + \\frac{z^{2} e^{4}}{48} - \\frac{z e^{5}}{120} + \\frac{e^{6}}{720}, \\quad \\left ( 1, \\quad 8\\right ) : \\Phi_{ 1, 8 }{\\left (z \\right )} = \\frac{z^{7}}{5040} - \\frac{e z^{6}}{720} + \\frac{z^{5} e^{2}}{240} - \\frac{z^{4} e^{3}}{144} + \\frac{z^{3} e^{4}}{144} - \\frac{z^{2} e^{5}}{240} + \\frac{z e^{6}}{720} - \\frac{e^{7}}{5040}\\right \\}$$"
      ],
      "text/plain": [
       "⎧                                                                             \n",
       "⎪                                                                             \n",
       "⎨(1, 1): \\Phi_{ 1, 1 }(z) = 1, (1, 2): \\Phi_{ 1, 2 }(z) = z - ℯ, (1, 3): \\Phi_\n",
       "⎪                                                                             \n",
       "⎩                                                                             \n",
       "\n",
       "               2          2                              3      2      2    3 \n",
       "              z          ℯ                              z    ℯ⋅z    z⋅ℯ    ℯ  \n",
       "{ 1, 3 }(z) = ── - ℯ⋅z + ──, (1, 4): \\Phi_{ 1, 4 }(z) = ── - ──── + ──── - ──,\n",
       "              2          2                              6     2      2     6  \n",
       "                                                                              \n",
       "\n",
       "                             4      3    2  2      3    4                     \n",
       "                            z    ℯ⋅z    z ⋅ℯ    z⋅ℯ    ℯ                      \n",
       " (1, 5): \\Phi_{ 1, 5 }(z) = ── - ──── + ───── - ──── + ──, (1, 6): \\Phi_{ 1, 6\n",
       "                            24    6       4      6     24                     \n",
       "                                                                              \n",
       "\n",
       "          5      4    3  2    2  3      4     5                               \n",
       "         z    ℯ⋅z    z ⋅ℯ    z ⋅ℯ    z⋅ℯ     ℯ                               z\n",
       " }(z) = ─── - ──── + ───── - ───── + ──── - ───, (1, 7): \\Phi_{ 1, 7 }(z) = ──\n",
       "        120    24      12      12     24    120                             72\n",
       "                                                                              \n",
       "\n",
       "6      5    4  2    3  3    2  4      5     6                               7 \n",
       "    ℯ⋅z    z ⋅ℯ    z ⋅ℯ    z ⋅ℯ    z⋅ℯ     ℯ                               z  \n",
       "─ - ──── + ───── - ───── + ───── - ──── + ───, (1, 8): \\Phi_{ 1, 8 }(z) = ────\n",
       "0   120      48      36      48    120    720                             5040\n",
       "                                                                              \n",
       "\n",
       "      6    5  2    4  3    3  4    2  5      6     7 ⎫\n",
       "   ℯ⋅z    z ⋅ℯ    z ⋅ℯ    z ⋅ℯ    z ⋅ℯ    z⋅ℯ     ℯ  ⎪\n",
       " - ──── + ───── - ───── + ───── - ───── + ──── - ────⎬\n",
       "   720     240     144     144     240    720    5040⎪\n",
       "                                                     ⎭"
      ]
     },
     "execution_count": 40,
     "metadata": {},
     "output_type": "execute_result"
    }
   ],
   "source": [
    "P_exp_Phi_polynomials = component_polynomials(P_exp_eigendata, early_eigenvals_subs=True)\n",
    "P_exp_Phi_polynomials"
   ]
  },
  {
   "cell_type": "code",
   "execution_count": 42,
   "metadata": {
    "collapsed": false,
    "deletable": true,
    "editable": true
   },
   "outputs": [],
   "source": [
    "f_log_dirty, g_log_dirty, = functions_catalog.log(P_exp_eigendata, P_exp_Phi_polynomials)"
   ]
  },
  {
   "cell_type": "code",
   "execution_count": 50,
   "metadata": {
    "collapsed": false
   },
   "outputs": [
    {
     "data": {
      "image/png": "[encoded data removed]",
      "text/latex": [
       "$$\\operatorname{L_{ 8 }}{\\left (z \\right )} = \\frac{z^{7}}{7 e^{7}} - \\frac{7 z^{6}}{6 e^{6}} + \\frac{21 z^{5}}{5 e^{5}} - \\frac{35 z^{4}}{4 e^{4}} + \\frac{35 z^{3}}{3 e^{3}} - \\frac{21 z^{2}}{2 e^{2}} + \\frac{7 z}{e} - \\frac{223}{140}$$"
      ],
      "text/plain": [
       "              7  -7      6  -6       5  -5       4  -4       3  -3       2  -2\n",
       "             z ⋅ℯ     7⋅z ⋅ℯ     21⋅z ⋅ℯ     35⋅z ⋅ℯ     35⋅z ⋅ℯ     21⋅z ⋅ℯ  \n",
       "L_{ 8 }(z) = ────── - ──────── + ───────── - ───────── + ───────── - ─────────\n",
       "               7         6           5           4           3           2    \n",
       "\n",
       "                \n",
       "        -1   223\n",
       " + 7⋅z⋅ℯ   - ───\n",
       "             140"
      ]
     },
     "execution_count": 50,
     "metadata": {},
     "output_type": "execute_result"
    }
   ],
   "source": [
    "g_log_dirty"
   ]
  },
  {
   "cell_type": "code",
   "execution_count": 43,
   "metadata": {
    "collapsed": false,
    "deletable": true,
    "editable": true
   },
   "outputs": [
    {
     "data": {
      "image/png": "[encoded data removed]",
      "text/latex": [
       "$$\\operatorname{L_{ 8 }}{\\left (\\operatorname{E_{ 8 }}{\\left (\\mathcal{P}_{ 8 } \\right )} \\right )} = \\left[\\begin{matrix}1 & 0 & 0 & 0 & 0 & 0 & 0 & 0\\\\1 & 1 & 0 & 0 & 0 & 0 & 0 & 0\\\\1 & 2 & 1 & 0 & 0 & 0 & 0 & 0\\\\1 & 3 & 3 & 1 & 0 & 0 & 0 & 0\\\\1 & 4 & 6 & 4 & 1 & 0 & 0 & 0\\\\1 & 5 & 10 & 10 & 5 & 1 & 0 & 0\\\\1 & 6 & 15 & 20 & 15 & 6 & 1 & 0\\\\1 & 7 & 21 & 35 & 35 & 21 & 7 & 1\\end{matrix}\\right]$$"
      ],
      "text/plain": [
       "                                      ⎡1  0  0   0   0   0   0  0⎤\n",
       "                                      ⎢                          ⎥\n",
       "                                      ⎢1  1  0   0   0   0   0  0⎥\n",
       "                                      ⎢                          ⎥\n",
       "                                      ⎢1  2  1   0   0   0   0  0⎥\n",
       "                                      ⎢                          ⎥\n",
       "                                      ⎢1  3  3   1   0   0   0  0⎥\n",
       "L_{ 8 }(E_{ 8 }(\\mathcal{P}_{ 8 })) = ⎢                          ⎥\n",
       "                                      ⎢1  4  6   4   1   0   0  0⎥\n",
       "                                      ⎢                          ⎥\n",
       "                                      ⎢1  5  10  10  5   1   0  0⎥\n",
       "                                      ⎢                          ⎥\n",
       "                                      ⎢1  6  15  20  15  6   1  0⎥\n",
       "                                      ⎢                          ⎥\n",
       "                                      ⎣1  7  21  35  35  21  7  1⎦"
      ]
     },
     "execution_count": 43,
     "metadata": {},
     "output_type": "execute_result"
    }
   ],
   "source": [
    "g_log_dirty(P_exp_dirty)"
   ]
  },
  {
   "cell_type": "code",
   "execution_count": 44,
   "metadata": {
    "collapsed": false,
    "deletable": true,
    "editable": true
   },
   "outputs": [
    {
     "data": {
      "image/png": "[encoded data removed]",
      "text/latex": [
       "$$\\sigma{\\left (\\operatorname{L_{ 8 }}{\\left (\\mathcal{P}_{ 8 } \\right )} \\right )} = \\left ( \\left \\{ 1 : \\left ( \\lambda_{1}, \\quad m_{1}\\right )\\right \\}, \\quad \\left \\{ \\lambda_{1} : 0\\right \\}, \\quad \\left \\{ m_{1} : 8\\right \\}\\right )$$"
      ],
      "text/plain": [
       "\\sigma(L_{ 8 }(\\mathcal{P}_{ 8 })) = ({1: (\\lambda[1], m[1])}, {\\lambda[1]: 0}\n",
       ", {m[1]: 8})"
      ]
     },
     "execution_count": 44,
     "metadata": {},
     "output_type": "execute_result"
    }
   ],
   "source": [
    "P_log_eigendata = spectrum(P_log)\n",
    "P_log_eigendata"
   ]
  },
  {
   "cell_type": "code",
   "execution_count": 45,
   "metadata": {
    "collapsed": false,
    "deletable": true,
    "editable": true
   },
   "outputs": [
    {
     "data": {
      "image/png": "[encoded data removed]",
      "text/latex": [
       "$$\\left \\{ \\left ( 1, \\quad 1\\right ) : \\Phi_{ 1, 1 }{\\left (z \\right )} = 1, \\quad \\left ( 1, \\quad 2\\right ) : \\Phi_{ 1, 2 }{\\left (z \\right )} = z, \\quad \\left ( 1, \\quad 3\\right ) : \\Phi_{ 1, 3 }{\\left (z \\right )} = \\frac{z^{2}}{2}, \\quad \\left ( 1, \\quad 4\\right ) : \\Phi_{ 1, 4 }{\\left (z \\right )} = \\frac{z^{3}}{6}, \\quad \\left ( 1, \\quad 5\\right ) : \\Phi_{ 1, 5 }{\\left (z \\right )} = \\frac{z^{4}}{24}, \\quad \\left ( 1, \\quad 6\\right ) : \\Phi_{ 1, 6 }{\\left (z \\right )} = \\frac{z^{5}}{120}, \\quad \\left ( 1, \\quad 7\\right ) : \\Phi_{ 1, 7 }{\\left (z \\right )} = \\frac{z^{6}}{720}, \\quad \\left ( 1, \\quad 8\\right ) : \\Phi_{ 1, 8 }{\\left (z \\right )} = \\frac{z^{7}}{5040}\\right \\}$$"
      ],
      "text/plain": [
       "⎧                                                                             \n",
       "⎪                                                                             \n",
       "⎨(1, 1): \\Phi_{ 1, 1 }(z) = 1, (1, 2): \\Phi_{ 1, 2 }(z) = z, (1, 3): \\Phi_{ 1,\n",
       "⎪                                                                             \n",
       "⎩                                                                             \n",
       "\n",
       "           2                              3                              4    \n",
       "          z                              z                              z     \n",
       " 3 }(z) = ──, (1, 4): \\Phi_{ 1, 4 }(z) = ──, (1, 5): \\Phi_{ 1, 5 }(z) = ──, (1\n",
       "          2                              6                              24    \n",
       "                                                                              \n",
       "\n",
       "                           5                               6                  \n",
       "                          z                               z                   \n",
       ", 6): \\Phi_{ 1, 6 }(z) = ───, (1, 7): \\Phi_{ 1, 7 }(z) = ───, (1, 8): \\Phi_{ 1\n",
       "                         120                             720                  \n",
       "                                                                              \n",
       "\n",
       "             7 ⎫\n",
       "            z  ⎪\n",
       ", 8 }(z) = ────⎬\n",
       "           5040⎪\n",
       "               ⎭"
      ]
     },
     "execution_count": 45,
     "metadata": {},
     "output_type": "execute_result"
    }
   ],
   "source": [
    "P_log_Phi_polynomials = component_polynomials(P_log_eigendata, early_eigenvals_subs=True)\n",
    "P_log_Phi_polynomials"
   ]
  },
  {
   "cell_type": "code",
   "execution_count": 46,
   "metadata": {
    "collapsed": false,
    "deletable": true,
    "editable": true
   },
   "outputs": [],
   "source": [
    "f_exp_dirty, g_exp_dirty, = functions_catalog.exp(P_log_eigendata, P_log_Phi_polynomials)"
   ]
  },
  {
   "cell_type": "code",
   "execution_count": 47,
   "metadata": {
    "collapsed": false
   },
   "outputs": [
    {
     "data": {
      "image/png": "[encoded data removed]",
      "text/latex": [
       "$$\\operatorname{E_{ 8 }}{\\left (z \\right )} = \\frac{\\alpha^{7} z^{7}}{5040} + \\frac{\\alpha^{6} z^{6}}{720} + \\frac{\\alpha^{5} z^{5}}{120} + \\frac{\\alpha^{4} z^{4}}{24} + \\frac{\\alpha^{3} z^{3}}{6} + \\frac{\\alpha^{2} z^{2}}{2} + \\alpha z + 1$$"
      ],
      "text/plain": [
       "              7  7    6  6    5  5    4  4    3  3    2  2          \n",
       "             α ⋅z    α ⋅z    α ⋅z    α ⋅z    α ⋅z    α ⋅z           \n",
       "E_{ 8 }(z) = ───── + ───── + ───── + ───── + ───── + ───── + α⋅z + 1\n",
       "              5040    720     120      24      6       2            "
      ]
     },
     "execution_count": 47,
     "metadata": {},
     "output_type": "execute_result"
    }
   ],
   "source": [
    "g_exp_dirty"
   ]
  },
  {
   "cell_type": "code",
   "execution_count": 48,
   "metadata": {
    "collapsed": false,
    "deletable": true,
    "editable": true
   },
   "outputs": [
    {
     "data": {
      "image/png": "[encoded data removed]",
      "text/latex": [
       "$$\\operatorname{E_{ 8 }}{\\left (\\operatorname{L_{ 8 }}{\\left (\\mathcal{P}_{ 8 } \\right )} \\right )} = \\left[\\begin{matrix}1 & 0 & 0 & 0 & 0 & 0 & 0 & 0\\\\\\alpha & 1 & 0 & 0 & 0 & 0 & 0 & 0\\\\\\alpha^{2} & 2 \\alpha & 1 & 0 & 0 & 0 & 0 & 0\\\\\\alpha^{3} & 3 \\alpha^{2} & 3 \\alpha & 1 & 0 & 0 & 0 & 0\\\\\\alpha^{4} & 4 \\alpha^{3} & 6 \\alpha^{2} & 4 \\alpha & 1 & 0 & 0 & 0\\\\\\alpha^{5} & 5 \\alpha^{4} & 10 \\alpha^{3} & 10 \\alpha^{2} & 5 \\alpha & 1 & 0 & 0\\\\\\alpha^{6} & 6 \\alpha^{5} & 15 \\alpha^{4} & 20 \\alpha^{3} & 15 \\alpha^{2} & 6 \\alpha & 1 & 0\\\\\\alpha^{7} & 7 \\alpha^{6} & 21 \\alpha^{5} & 35 \\alpha^{4} & 35 \\alpha^{3} & 21 \\alpha^{2} & 7 \\alpha & 1\\end{matrix}\\right]$$"
      ],
      "text/plain": [
       "                                      ⎡1    0      0      0      0      0     \n",
       "                                      ⎢                                       \n",
       "                                      ⎢α    1      0      0      0      0     \n",
       "                                      ⎢                                       \n",
       "                                      ⎢ 2                                     \n",
       "                                      ⎢α   2⋅α     1      0      0      0     \n",
       "                                      ⎢                                       \n",
       "                                      ⎢ 3     2                               \n",
       "                                      ⎢α   3⋅α    3⋅α     1      0      0     \n",
       "                                      ⎢                                       \n",
       "E_{ 8 }(L_{ 8 }(\\mathcal{P}_{ 8 })) = ⎢ 4     3     2                         \n",
       "                                      ⎢α   4⋅α   6⋅α     4⋅α     1      0     \n",
       "                                      ⎢                                       \n",
       "                                      ⎢ 5     4      3      2                 \n",
       "                                      ⎢α   5⋅α   10⋅α   10⋅α    5⋅α     1     \n",
       "                                      ⎢                                       \n",
       "                                      ⎢ 6     5      4      3      2          \n",
       "                                      ⎢α   6⋅α   15⋅α   20⋅α   15⋅α    6⋅α    \n",
       "                                      ⎢                                       \n",
       "                                      ⎢ 7     6      5      4      3      2   \n",
       "                                      ⎣α   7⋅α   21⋅α   35⋅α   35⋅α   21⋅α   7\n",
       "\n",
       "0   0⎤\n",
       "     ⎥\n",
       "0   0⎥\n",
       "     ⎥\n",
       "     ⎥\n",
       "0   0⎥\n",
       "     ⎥\n",
       "     ⎥\n",
       "0   0⎥\n",
       "     ⎥\n",
       "     ⎥\n",
       "0   0⎥\n",
       "     ⎥\n",
       "     ⎥\n",
       "0   0⎥\n",
       "     ⎥\n",
       "     ⎥\n",
       "1   0⎥\n",
       "     ⎥\n",
       "     ⎥\n",
       "⋅α  1⎦"
      ]
     },
     "execution_count": 48,
     "metadata": {},
     "output_type": "execute_result"
    }
   ],
   "source": [
    "g_exp_dirty(P_log)"
   ]
  },
  {
   "cell_type": "code",
   "execution_count": 49,
   "metadata": {
    "collapsed": false,
    "deletable": true,
    "editable": true
   },
   "outputs": [
    {
     "data": {
      "image/png": "[encoded data removed]",
      "text/latex": [
       "$$\\left[\\begin{matrix}1 & 0 & 0 & 0 & 0 & 0 & 0 & 0\\\\1 & 1 & 0 & 0 & 0 & 0 & 0 & 0\\\\1 & 2 & 1 & 0 & 0 & 0 & 0 & 0\\\\1 & 3 & 3 & 1 & 0 & 0 & 0 & 0\\\\1 & 4 & 6 & 4 & 1 & 0 & 0 & 0\\\\1 & 5 & 10 & 10 & 5 & 1 & 0 & 0\\\\1 & 6 & 15 & 20 & 15 & 6 & 1 & 0\\\\1 & 7 & 21 & 35 & 35 & 21 & 7 & 1\\end{matrix}\\right]$$"
      ],
      "text/plain": [
       "⎡1  0  0   0   0   0   0  0⎤\n",
       "⎢                          ⎥\n",
       "⎢1  1  0   0   0   0   0  0⎥\n",
       "⎢                          ⎥\n",
       "⎢1  2  1   0   0   0   0  0⎥\n",
       "⎢                          ⎥\n",
       "⎢1  3  3   1   0   0   0  0⎥\n",
       "⎢                          ⎥\n",
       "⎢1  4  6   4   1   0   0  0⎥\n",
       "⎢                          ⎥\n",
       "⎢1  5  10  10  5   1   0  0⎥\n",
       "⎢                          ⎥\n",
       "⎢1  6  15  20  15  6   1  0⎥\n",
       "⎢                          ⎥\n",
       "⎣1  7  21  35  35  21  7  1⎦"
      ]
     },
     "execution_count": 49,
     "metadata": {},
     "output_type": "execute_result"
    }
   ],
   "source": [
    "_.rhs.subs({alpha:1})"
   ]
  },
  {
   "cell_type": "markdown",
   "metadata": {
    "deletable": true,
    "editable": true
   },
   "source": [
    "## `sin` function"
   ]
  },
  {
   "cell_type": "code",
   "execution_count": 9,
   "metadata": {
    "collapsed": false,
    "deletable": true,
    "editable": true
   },
   "outputs": [],
   "source": [
    "f_sin, g_sin, G_sin = functions_catalog.sin(eigendata, Phi_polynomials)"
   ]
  },
  {
   "cell_type": "code",
   "execution_count": 10,
   "metadata": {
    "collapsed": false,
    "deletable": true,
    "editable": true
   },
   "outputs": [
    {
     "data": {
      "image/png": "[encoded data removed]",
      "text/latex": [
       "$$\\operatorname{S_{ 8 }}{\\left (\\mathcal{P}_{ 8 } \\right )} = \\left[\\begin{matrix}\\sin{\\left (1 \\right )} & 0 & 0 & 0 & 0 & 0 & 0 & 0\\\\\\cos{\\left (1 \\right )} & \\sin{\\left (1 \\right )} & 0 & 0 & 0 & 0 & 0 & 0\\\\- \\sin{\\left (1 \\right )} + \\cos{\\left (1 \\right )} & 2 \\cos{\\left (1 \\right )} & \\sin{\\left (1 \\right )} & 0 & 0 & 0 & 0 & 0\\\\- 3 \\sin{\\left (1 \\right )} & 3 \\sqrt{2} \\cos{\\left (\\frac{\\pi}{4} + 1 \\right )} & 3 \\cos{\\left (1 \\right )} & \\sin{\\left (1 \\right )} & 0 & 0 & 0 & 0\\\\- 6 \\sin{\\left (1 \\right )} - 5 \\cos{\\left (1 \\right )} & - 12 \\sin{\\left (1 \\right )} & 6 \\sqrt{2} \\cos{\\left (\\frac{\\pi}{4} + 1 \\right )} & 4 \\cos{\\left (1 \\right )} & \\sin{\\left (1 \\right )} & 0 & 0 & 0\\\\- 23 \\cos{\\left (1 \\right )} - 5 \\sin{\\left (1 \\right )} & - 30 \\sin{\\left (1 \\right )} - 25 \\cos{\\left (1 \\right )} & - 30 \\sin{\\left (1 \\right )} & 10 \\sqrt{2} \\cos{\\left (\\frac{\\pi}{4} + 1 \\right )} & 5 \\cos{\\left (1 \\right )} & \\sin{\\left (1 \\right )} & 0 & 0\\\\- 74 \\cos{\\left (1 \\right )} + 33 \\sin{\\left (1 \\right )} & - 138 \\cos{\\left (1 \\right )} - 30 \\sin{\\left (1 \\right )} & - 90 \\sin{\\left (1 \\right )} - 75 \\cos{\\left (1 \\right )} & - 60 \\sin{\\left (1 \\right )} & 15 \\sqrt{2} \\cos{\\left (\\frac{\\pi}{4} + 1 \\right )} & 6 \\cos{\\left (1 \\right )} & \\sin{\\left (1 \\right )} & 0\\\\- 161 \\cos{\\left (1 \\right )} + 266 \\sin{\\left (1 \\right )} & - 518 \\cos{\\left (1 \\right )} + 231 \\sin{\\left (1 \\right )} & - 483 \\cos{\\left (1 \\right )} - 105 \\sin{\\left (1 \\right )} & - 210 \\sin{\\left (1 \\right )} - 175 \\cos{\\left (1 \\right )} & - 105 \\sin{\\left (1 \\right )} & 21 \\sqrt{2} \\cos{\\left (\\frac{\\pi}{4} + 1 \\right )} & 7 \\cos{\\left (1 \\right )} & \\sin{\\left (1 \\right )}\\end{matrix}\\right]$$"
      ],
      "text/plain": [
       "                             ⎡         sin(1)                      0          \n",
       "                             ⎢                                                \n",
       "                             ⎢         cos(1)                    sin(1)       \n",
       "                             ⎢                                                \n",
       "                             ⎢    -sin(1) + cos(1)              2⋅cos(1)      \n",
       "                             ⎢                                                \n",
       "                             ⎢                                      ⎛π    ⎞   \n",
       "                             ⎢       -3⋅sin(1)              3⋅√2⋅cos⎜─ + 1⎟   \n",
       "                             ⎢                                      ⎝4    ⎠   \n",
       "                             ⎢                                                \n",
       "                             ⎢                                                \n",
       "                             ⎢  -6⋅sin(1) - 5⋅cos(1)           -12⋅sin(1)     \n",
       "S_{ 8 }(\\mathcal{P}_{ 8 }) = ⎢                                                \n",
       "                             ⎢                                                \n",
       "                             ⎢                                                \n",
       "                             ⎢ -23⋅cos(1) - 5⋅sin(1)     -30⋅sin(1) - 25⋅cos(1\n",
       "                             ⎢                                                \n",
       "                             ⎢                                                \n",
       "                             ⎢                                                \n",
       "                             ⎢ -74⋅cos(1) + 33⋅sin(1)   -138⋅cos(1) - 30⋅sin(1\n",
       "                             ⎢                                                \n",
       "                             ⎢                                                \n",
       "                             ⎢                                                \n",
       "                             ⎢-161⋅cos(1) + 266⋅sin(1)  -518⋅cos(1) + 231⋅sin(\n",
       "                             ⎣                                                \n",
       "\n",
       "               0                         0                     0              \n",
       "                                                                              \n",
       "               0                         0                     0              \n",
       "                                                                              \n",
       "             sin(1)                      0                     0              \n",
       "                                                                              \n",
       "                                                                              \n",
       "            3⋅cos(1)                   sin(1)                  0              \n",
       "                                                                              \n",
       "                                                                              \n",
       "                ⎛π    ⎞                                                       \n",
       "        6⋅√2⋅cos⎜─ + 1⎟               4⋅cos(1)               sin(1)           \n",
       "                ⎝4    ⎠                                                       \n",
       "                                                                              \n",
       "                                           ⎛π    ⎞                            \n",
       ")          -30⋅sin(1)             10⋅√2⋅cos⎜─ + 1⎟          5⋅cos(1)          \n",
       "                                           ⎝4    ⎠                            \n",
       "                                                                              \n",
       "                                                                 ⎛π    ⎞      \n",
       ")    -90⋅sin(1) - 75⋅cos(1)          -60⋅sin(1)         15⋅√2⋅cos⎜─ + 1⎟      \n",
       "                                                                 ⎝4    ⎠      \n",
       "                                                                              \n",
       "                                                                              \n",
       "1)  -483⋅cos(1) - 105⋅sin(1)  -210⋅sin(1) - 175⋅cos(1)    -105⋅sin(1)     21⋅√\n",
       "                                                                              \n",
       "\n",
       "   0             0        0   ⎤\n",
       "                              ⎥\n",
       "   0             0        0   ⎥\n",
       "                              ⎥\n",
       "   0             0        0   ⎥\n",
       "                              ⎥\n",
       "                              ⎥\n",
       "   0             0        0   ⎥\n",
       "                              ⎥\n",
       "                              ⎥\n",
       "                              ⎥\n",
       "   0             0        0   ⎥\n",
       "                              ⎥\n",
       "                              ⎥\n",
       "                              ⎥\n",
       " sin(1)          0        0   ⎥\n",
       "                              ⎥\n",
       "                              ⎥\n",
       "                              ⎥\n",
       "6⋅cos(1)       sin(1)     0   ⎥\n",
       "                              ⎥\n",
       "                              ⎥\n",
       "     ⎛π    ⎞                  ⎥\n",
       "2⋅cos⎜─ + 1⎟  7⋅cos(1)  sin(1)⎥\n",
       "     ⎝4    ⎠                  ⎦"
      ]
     },
     "execution_count": 10,
     "metadata": {},
     "output_type": "execute_result"
    }
   ],
   "source": [
    "P_sin = G_sin(P)    \n",
    "P_sin"
   ]
  },
  {
   "cell_type": "code",
   "execution_count": null,
   "metadata": {
    "collapsed": false,
    "deletable": true,
    "editable": true
   },
   "outputs": [],
   "source": [
    "production_matrix(P_sin.rhs).applyfunc(simplify) # takes long to evaluate"
   ]
  },
  {
   "cell_type": "markdown",
   "metadata": {
    "deletable": true,
    "editable": true
   },
   "source": [
    "## `cos` function"
   ]
  },
  {
   "cell_type": "code",
   "execution_count": 11,
   "metadata": {
    "collapsed": false,
    "deletable": true,
    "editable": true
   },
   "outputs": [],
   "source": [
    "f_cos, g_cos, G_cos = functions_catalog.cos(eigendata, Phi_polynomials)"
   ]
  },
  {
   "cell_type": "code",
   "execution_count": 12,
   "metadata": {
    "collapsed": false,
    "deletable": true,
    "editable": true
   },
   "outputs": [
    {
     "data": {
      "image/png": "[encoded data removed]",
      "text/latex": [
       "$$\\operatorname{C_{ 8 }}{\\left (\\mathcal{P}_{ 8 } \\right )} = \\left[\\begin{matrix}\\cos{\\left (1 \\right )} & 0 & 0 & 0 & 0 & 0 & 0 & 0\\\\- \\sin{\\left (1 \\right )} & \\cos{\\left (1 \\right )} & 0 & 0 & 0 & 0 & 0 & 0\\\\- \\sin{\\left (1 \\right )} - \\cos{\\left (1 \\right )} & - 2 \\sin{\\left (1 \\right )} & \\cos{\\left (1 \\right )} & 0 & 0 & 0 & 0 & 0\\\\- 3 \\cos{\\left (1 \\right )} & - 3 \\sqrt{2} \\sin{\\left (\\frac{\\pi}{4} + 1 \\right )} & - 3 \\sin{\\left (1 \\right )} & \\cos{\\left (1 \\right )} & 0 & 0 & 0 & 0\\\\- 6 \\cos{\\left (1 \\right )} + 5 \\sin{\\left (1 \\right )} & - 12 \\cos{\\left (1 \\right )} & - 6 \\sqrt{2} \\sin{\\left (\\frac{\\pi}{4} + 1 \\right )} & - 4 \\sin{\\left (1 \\right )} & \\cos{\\left (1 \\right )} & 0 & 0 & 0\\\\- 5 \\cos{\\left (1 \\right )} + 23 \\sin{\\left (1 \\right )} & - 30 \\cos{\\left (1 \\right )} + 25 \\sin{\\left (1 \\right )} & - 30 \\cos{\\left (1 \\right )} & - 10 \\sqrt{2} \\sin{\\left (\\frac{\\pi}{4} + 1 \\right )} & - 5 \\sin{\\left (1 \\right )} & \\cos{\\left (1 \\right )} & 0 & 0\\\\33 \\cos{\\left (1 \\right )} + 74 \\sin{\\left (1 \\right )} & - 30 \\cos{\\left (1 \\right )} + 138 \\sin{\\left (1 \\right )} & - 90 \\cos{\\left (1 \\right )} + 75 \\sin{\\left (1 \\right )} & - 60 \\cos{\\left (1 \\right )} & - 15 \\sqrt{2} \\sin{\\left (\\frac{\\pi}{4} + 1 \\right )} & - 6 \\sin{\\left (1 \\right )} & \\cos{\\left (1 \\right )} & 0\\\\161 \\sin{\\left (1 \\right )} + 266 \\cos{\\left (1 \\right )} & 231 \\cos{\\left (1 \\right )} + 518 \\sin{\\left (1 \\right )} & - 105 \\cos{\\left (1 \\right )} + 483 \\sin{\\left (1 \\right )} & - 210 \\cos{\\left (1 \\right )} + 175 \\sin{\\left (1 \\right )} & - 105 \\cos{\\left (1 \\right )} & - 21 \\sqrt{2} \\sin{\\left (\\frac{\\pi}{4} + 1 \\right )} & - 7 \\sin{\\left (1 \\right )} & \\cos{\\left (1 \\right )}\\end{matrix}\\right]$$"
      ],
      "text/plain": [
       "                             ⎡        cos(1)                      0           \n",
       "                             ⎢                                                \n",
       "                             ⎢        -sin(1)                  cos(1)         \n",
       "                             ⎢                                                \n",
       "                             ⎢   -sin(1) - cos(1)             -2⋅sin(1)       \n",
       "                             ⎢                                                \n",
       "                             ⎢                                     ⎛π    ⎞    \n",
       "                             ⎢       -3⋅cos(1)            -3⋅√2⋅sin⎜─ + 1⎟    \n",
       "                             ⎢                                     ⎝4    ⎠    \n",
       "                             ⎢                                                \n",
       "                             ⎢                                                \n",
       "                             ⎢ -6⋅cos(1) + 5⋅sin(1)          -12⋅cos(1)       \n",
       "C_{ 8 }(\\mathcal{P}_{ 8 }) = ⎢                                                \n",
       "                             ⎢                                                \n",
       "                             ⎢                                                \n",
       "                             ⎢ -5⋅cos(1) + 23⋅sin(1)   -30⋅cos(1) + 25⋅sin(1) \n",
       "                             ⎢                                                \n",
       "                             ⎢                                                \n",
       "                             ⎢                                                \n",
       "                             ⎢ 33⋅cos(1) + 74⋅sin(1)   -30⋅cos(1) + 138⋅sin(1)\n",
       "                             ⎢                                                \n",
       "                             ⎢                                                \n",
       "                             ⎢                                                \n",
       "                             ⎢161⋅sin(1) + 266⋅cos(1)  231⋅cos(1) + 518⋅sin(1)\n",
       "                             ⎣                                                \n",
       "\n",
       "             0                         0                      0               \n",
       "                                                                              \n",
       "             0                         0                      0               \n",
       "                                                                              \n",
       "           cos(1)                      0                      0               \n",
       "                                                                              \n",
       "                                                                              \n",
       "         -3⋅sin(1)                   cos(1)                   0               \n",
       "                                                                              \n",
       "                                                                              \n",
       "               ⎛π    ⎞                                                        \n",
       "      -6⋅√2⋅sin⎜─ + 1⎟             -4⋅sin(1)               cos(1)             \n",
       "               ⎝4    ⎠                                                        \n",
       "                                                                              \n",
       "                                         ⎛π    ⎞                              \n",
       "         -30⋅cos(1)            -10⋅√2⋅sin⎜─ + 1⎟          -5⋅sin(1)           \n",
       "                                         ⎝4    ⎠                              \n",
       "                                                                              \n",
       "                                                                ⎛π    ⎞       \n",
       "   -90⋅cos(1) + 75⋅sin(1)          -60⋅cos(1)         -15⋅√2⋅sin⎜─ + 1⎟      -\n",
       "                                                                ⎝4    ⎠       \n",
       "                                                                              \n",
       "                                                                              \n",
       "  -105⋅cos(1) + 483⋅sin(1)  -210⋅cos(1) + 175⋅sin(1)     -105⋅cos(1)     -21⋅√\n",
       "                                                                              \n",
       "\n",
       "   0              0        0   ⎤\n",
       "                               ⎥\n",
       "   0              0        0   ⎥\n",
       "                               ⎥\n",
       "   0              0        0   ⎥\n",
       "                               ⎥\n",
       "                               ⎥\n",
       "   0              0        0   ⎥\n",
       "                               ⎥\n",
       "                               ⎥\n",
       "                               ⎥\n",
       "   0              0        0   ⎥\n",
       "                               ⎥\n",
       "                               ⎥\n",
       "                               ⎥\n",
       "cos(1)            0        0   ⎥\n",
       "                               ⎥\n",
       "                               ⎥\n",
       "                               ⎥\n",
       "6⋅sin(1)       cos(1)      0   ⎥\n",
       "                               ⎥\n",
       "                               ⎥\n",
       "     ⎛π    ⎞                   ⎥\n",
       "2⋅sin⎜─ + 1⎟  -7⋅sin(1)  cos(1)⎥\n",
       "     ⎝4    ⎠                   ⎦"
      ]
     },
     "execution_count": 12,
     "metadata": {},
     "output_type": "execute_result"
    }
   ],
   "source": [
    "P_cos = G_cos(P)    \n",
    "P_cos"
   ]
  },
  {
   "cell_type": "code",
   "execution_count": null,
   "metadata": {
    "collapsed": false,
    "deletable": true,
    "editable": true
   },
   "outputs": [],
   "source": [
    "production_matrix(P_sin).applyfunc(simplify) # takes long to evaluate"
   ]
  },
  {
   "cell_type": "code",
   "execution_count": 52,
   "metadata": {
    "collapsed": false,
    "deletable": true,
    "editable": true
   },
   "outputs": [],
   "source": [
    "assert (P_sin.rhs**2 + P_cos.rhs**2).applyfunc(trigsimp) == Matrix(m,m, identity_matrix()) # sin^2 + cos^2 = 1"
   ]
  },
  {
   "cell_type": "markdown",
   "metadata": {
    "deletable": true,
    "editable": true
   },
   "source": [
    "## `sin` function"
   ]
  },
  {
   "cell_type": "code",
   "execution_count": 29,
   "metadata": {
    "collapsed": false
   },
   "outputs": [
    {
     "data": {
      "image/png": "[encoded data removed]",
      "text/latex": [
       "$$2\\,\\mathcal{P} = \\left[\\begin{matrix}2 & 0 & 0 & 0 & 0 & 0 & 0 & 0\\\\2 & 2 & 0 & 0 & 0 & 0 & 0 & 0\\\\2 & 4 & 2 & 0 & 0 & 0 & 0 & 0\\\\2 & 6 & 6 & 2 & 0 & 0 & 0 & 0\\\\2 & 8 & 12 & 8 & 2 & 0 & 0 & 0\\\\2 & 10 & 20 & 20 & 10 & 2 & 0 & 0\\\\2 & 12 & 30 & 40 & 30 & 12 & 2 & 0\\\\2 & 14 & 42 & 70 & 70 & 42 & 14 & 2\\end{matrix}\\right]$$"
      ],
      "text/plain": [
       "                 ⎡2  0   0   0   0   0   0   0⎤\n",
       "                 ⎢                            ⎥\n",
       "                 ⎢2  2   0   0   0   0   0   0⎥\n",
       "                 ⎢                            ⎥\n",
       "                 ⎢2  4   2   0   0   0   0   0⎥\n",
       "                 ⎢                            ⎥\n",
       "                 ⎢2  6   6   2   0   0   0   0⎥\n",
       "2\\,\\mathcal{P} = ⎢                            ⎥\n",
       "                 ⎢2  8   12  8   2   0   0   0⎥\n",
       "                 ⎢                            ⎥\n",
       "                 ⎢2  10  20  20  10  2   0   0⎥\n",
       "                 ⎢                            ⎥\n",
       "                 ⎢2  12  30  40  30  12  2   0⎥\n",
       "                 ⎢                            ⎥\n",
       "                 ⎣2  14  42  70  70  42  14  2⎦"
      ]
     },
     "execution_count": 29,
     "metadata": {},
     "output_type": "execute_result"
    }
   ],
   "source": [
    "P2 = define(Symbol(r'2\\,\\mathcal{P}'), 2*P.rhs)\n",
    "P2"
   ]
  },
  {
   "cell_type": "code",
   "execution_count": 30,
   "metadata": {
    "collapsed": true
   },
   "outputs": [],
   "source": [
    "eigendata_P2 = spectrum(P2)\n",
    "Phi_polynomials_P2 = component_polynomials(eigendata_P2, early_eigenvals_subs=True)"
   ]
  },
  {
   "cell_type": "code",
   "execution_count": 36,
   "metadata": {
    "collapsed": false,
    "deletable": true,
    "editable": true
   },
   "outputs": [],
   "source": [
    "f_sin2, g_sin2, G_sin2 = functions_catalog.sin(eigendata_P2, Phi_polynomials_P2)"
   ]
  },
  {
   "cell_type": "code",
   "execution_count": 37,
   "metadata": {
    "collapsed": false
   },
   "outputs": [
    {
     "data": {
      "image/png": "[encoded data removed]",
      "text/latex": [
       "$$\\operatorname{S_{ 8 }}{\\left (z \\right )} = - \\frac{z^{7}}{5040} \\cos{\\left (2 \\right )} + z^{6} \\left(- \\frac{1}{720} \\sin{\\left (2 \\right )} + \\frac{1}{360} \\cos{\\left (2 \\right )}\\right) + z^{5} \\left(- \\frac{1}{120} \\cos{\\left (2 \\right )} + \\frac{1}{60} \\sin{\\left (2 \\right )}\\right) + z^{4} \\left(- \\frac{1}{24} \\sin{\\left (2 \\right )} - \\frac{1}{36} \\cos{\\left (2 \\right )}\\right) + z^{3} \\left(- \\frac{1}{9} \\sin{\\left (2 \\right )} + \\frac{1}{18} \\cos{\\left (2 \\right )}\\right) + z^{2} \\left(\\frac{7}{15} \\cos{\\left (2 \\right )} + \\frac{1}{6} \\sin{\\left (2 \\right )}\\right) + z \\left(- \\frac{19}{45} \\cos{\\left (2 \\right )} + \\frac{14}{15} \\sin{\\left (2 \\right )}\\right) - \\frac{19}{45} \\sin{\\left (2 \\right )} - \\frac{286}{315} \\cos{\\left (2 \\right )}$$"
      ],
      "text/plain": [
       "                7                                                             \n",
       "               z ⋅cos(2)    6 ⎛  sin(2)   cos(2)⎞    5 ⎛  cos(2)   sin(2)⎞    \n",
       "S_{ 8 }(z) = - ───────── + z ⋅⎜- ────── + ──────⎟ + z ⋅⎜- ────── + ──────⎟ + z\n",
       "                  5040        ⎝   720      360  ⎠      ⎝   120       60  ⎠    \n",
       "\n",
       "                                                                              \n",
       "4 ⎛  sin(2)   cos(2)⎞    3 ⎛  sin(2)   cos(2)⎞    2 ⎛7⋅cos(2)   sin(2)⎞     ⎛ \n",
       " ⋅⎜- ────── - ──────⎟ + z ⋅⎜- ────── + ──────⎟ + z ⋅⎜──────── + ──────⎟ + z⋅⎜-\n",
       "  ⎝    24       36  ⎠      ⎝    9        18  ⎠      ⎝   15        6   ⎠     ⎝ \n",
       "\n",
       "                                                \n",
       " 19⋅cos(2)   14⋅sin(2)⎞   19⋅sin(2)   286⋅cos(2)\n",
       " ───────── + ─────────⎟ - ───────── - ──────────\n",
       "     45          15   ⎠       45         315    "
      ]
     },
     "execution_count": 37,
     "metadata": {},
     "output_type": "execute_result"
    }
   ],
   "source": [
    "g_sin2"
   ]
  },
  {
   "cell_type": "code",
   "execution_count": 38,
   "metadata": {
    "collapsed": false,
    "deletable": true,
    "editable": true
   },
   "outputs": [
    {
     "data": {
      "image/png": "[encoded data removed]",
      "text/latex": [
       "$$\\operatorname{S_{ 8 }}{\\left (2\\,\\mathcal{P} \\right )} = \\left[\\begin{matrix}\\sin{\\left (2 \\right )} & 0 & 0 & 0 & 0 & 0 & 0 & 0\\\\2 \\cos{\\left (2 \\right )} & \\sin{\\left (2 \\right )} & 0 & 0 & 0 & 0 & 0 & 0\\\\- 4 \\sin{\\left (2 \\right )} + 2 \\cos{\\left (2 \\right )} & 4 \\cos{\\left (2 \\right )} & \\sin{\\left (2 \\right )} & 0 & 0 & 0 & 0 & 0\\\\- 12 \\sin{\\left (2 \\right )} - 6 \\cos{\\left (2 \\right )} & - 12 \\sin{\\left (2 \\right )} + 6 \\cos{\\left (2 \\right )} & 6 \\cos{\\left (2 \\right )} & \\sin{\\left (2 \\right )} & 0 & 0 & 0 & 0\\\\- 12 \\sin{\\left (2 \\right )} - 46 \\cos{\\left (2 \\right )} & - 48 \\sin{\\left (2 \\right )} - 24 \\cos{\\left (2 \\right )} & - 24 \\sin{\\left (2 \\right )} + 12 \\cos{\\left (2 \\right )} & 8 \\cos{\\left (2 \\right )} & \\sin{\\left (2 \\right )} & 0 & 0 & 0\\\\- 166 \\cos{\\left (2 \\right )} + 100 \\sin{\\left (2 \\right )} & - 60 \\sin{\\left (2 \\right )} - 230 \\cos{\\left (2 \\right )} & - 120 \\sin{\\left (2 \\right )} - 60 \\cos{\\left (2 \\right )} & - 40 \\sin{\\left (2 \\right )} + 20 \\cos{\\left (2 \\right )} & 10 \\cos{\\left (2 \\right )} & \\sin{\\left (2 \\right )} & 0 & 0\\\\- 238 \\cos{\\left (2 \\right )} + 852 \\sin{\\left (2 \\right )} & - 996 \\cos{\\left (2 \\right )} + 600 \\sin{\\left (2 \\right )} & - 180 \\sin{\\left (2 \\right )} - 690 \\cos{\\left (2 \\right )} & - 240 \\sin{\\left (2 \\right )} - 120 \\cos{\\left (2 \\right )} & - 60 \\sin{\\left (2 \\right )} + 30 \\cos{\\left (2 \\right )} & 12 \\cos{\\left (2 \\right )} & \\sin{\\left (2 \\right )} & 0\\\\1946 \\cos{\\left (2 \\right )} + 4004 \\sin{\\left (2 \\right )} & - 1666 \\cos{\\left (2 \\right )} + 5964 \\sin{\\left (2 \\right )} & - 3486 \\cos{\\left (2 \\right )} + 2100 \\sin{\\left (2 \\right )} & - 420 \\sin{\\left (2 \\right )} - 1610 \\cos{\\left (2 \\right )} & - 420 \\sin{\\left (2 \\right )} - 210 \\cos{\\left (2 \\right )} & - 84 \\sin{\\left (2 \\right )} + 42 \\cos{\\left (2 \\right )} & 14 \\cos{\\left (2 \\right )} & \\sin{\\left (2 \\right )}\\end{matrix}\\right]$$"
      ],
      "text/plain": [
       "                          ⎡         sin(2)                        0           \n",
       "                          ⎢                                                   \n",
       "                          ⎢        2⋅cos(2)                     sin(2)        \n",
       "                          ⎢                                                   \n",
       "                          ⎢  -4⋅sin(2) + 2⋅cos(2)              4⋅cos(2)       \n",
       "                          ⎢                                                   \n",
       "                          ⎢  -12⋅sin(2) - 6⋅cos(2)      -12⋅sin(2) + 6⋅cos(2) \n",
       "S_{ 8 }(2\\,\\mathcal{P}) = ⎢                                                   \n",
       "                          ⎢ -12⋅sin(2) - 46⋅cos(2)      -48⋅sin(2) - 24⋅cos(2)\n",
       "                          ⎢                                                   \n",
       "                          ⎢-166⋅cos(2) + 100⋅sin(2)    -60⋅sin(2) - 230⋅cos(2)\n",
       "                          ⎢                                                   \n",
       "                          ⎢-238⋅cos(2) + 852⋅sin(2)    -996⋅cos(2) + 600⋅sin(2\n",
       "                          ⎢                                                   \n",
       "                          ⎣1946⋅cos(2) + 4004⋅sin(2)  -1666⋅cos(2) + 5964⋅sin(\n",
       "\n",
       "                0                           0                         0       \n",
       "                                                                              \n",
       "                0                           0                         0       \n",
       "                                                                              \n",
       "              sin(2)                        0                         0       \n",
       "                                                                              \n",
       "             6⋅cos(2)                    sin(2)                       0       \n",
       "                                                                              \n",
       "      -24⋅sin(2) + 12⋅cos(2)            8⋅cos(2)                    sin(2)    \n",
       "                                                                              \n",
       "     -120⋅sin(2) - 60⋅cos(2)     -40⋅sin(2) + 20⋅cos(2)           10⋅cos(2)   \n",
       "                                                                              \n",
       ")    -180⋅sin(2) - 690⋅cos(2)   -240⋅sin(2) - 120⋅cos(2)    -60⋅sin(2) + 30⋅co\n",
       "                                                                              \n",
       "2)  -3486⋅cos(2) + 2100⋅sin(2)  -420⋅sin(2) - 1610⋅cos(2)  -420⋅sin(2) - 210⋅c\n",
       "\n",
       "                 0                 0        0   ⎤\n",
       "                                                ⎥\n",
       "                 0                 0        0   ⎥\n",
       "                                                ⎥\n",
       "                 0                 0        0   ⎥\n",
       "                                                ⎥\n",
       "                 0                 0        0   ⎥\n",
       "                                                ⎥\n",
       "                 0                 0        0   ⎥\n",
       "                                                ⎥\n",
       "               sin(2)              0        0   ⎥\n",
       "                                                ⎥\n",
       "s(2)         12⋅cos(2)          sin(2)      0   ⎥\n",
       "                                                ⎥\n",
       "os(2)  -84⋅sin(2) + 42⋅cos(2)  14⋅cos(2)  sin(2)⎦"
      ]
     },
     "execution_count": 38,
     "metadata": {},
     "output_type": "execute_result"
    }
   ],
   "source": [
    "P_sin2 = G_sin2(P2)    \n",
    "P_sin2"
   ]
  },
  {
   "cell_type": "code",
   "execution_count": 39,
   "metadata": {
    "collapsed": false
   },
   "outputs": [],
   "source": [
    "PP = P_sin2.rhs.applyfunc(lambda i: i.subs({alpha:1}))\n",
    "assert PP == (2*P_sin.rhs*P_cos.rhs).applyfunc(trigsimp)"
   ]
  },
  {
   "cell_type": "code",
   "execution_count": 18,
   "metadata": {
    "collapsed": false
   },
   "outputs": [
    {
     "data": {
      "image/png": "[encoded data removed]",
      "text/latex": [
       "$$\\left[\\begin{matrix}\\sin{\\left (2 \\right )} & 0 & 0 & 0 & 0 & 0 & 0 & 0\\\\2 \\cos{\\left (2 \\right )} & \\sin{\\left (2 \\right )} & 0 & 0 & 0 & 0 & 0 & 0\\\\- 4 \\sin{\\left (2 \\right )} + 2 \\cos{\\left (2 \\right )} & 4 \\cos{\\left (2 \\right )} & \\sin{\\left (2 \\right )} & 0 & 0 & 0 & 0 & 0\\\\- 12 \\sin{\\left (2 \\right )} - 6 \\cos{\\left (2 \\right )} & - 12 \\sin{\\left (2 \\right )} + 6 \\cos{\\left (2 \\right )} & 6 \\cos{\\left (2 \\right )} & \\sin{\\left (2 \\right )} & 0 & 0 & 0 & 0\\\\- 12 \\sin{\\left (2 \\right )} - 46 \\cos{\\left (2 \\right )} & - 48 \\sin{\\left (2 \\right )} - 24 \\cos{\\left (2 \\right )} & - 24 \\sin{\\left (2 \\right )} + 12 \\cos{\\left (2 \\right )} & 8 \\cos{\\left (2 \\right )} & \\sin{\\left (2 \\right )} & 0 & 0 & 0\\\\- 166 \\cos{\\left (2 \\right )} + 100 \\sin{\\left (2 \\right )} & - 60 \\sin{\\left (2 \\right )} - 230 \\cos{\\left (2 \\right )} & - 120 \\sin{\\left (2 \\right )} - 60 \\cos{\\left (2 \\right )} & - 40 \\sin{\\left (2 \\right )} + 20 \\cos{\\left (2 \\right )} & 10 \\cos{\\left (2 \\right )} & \\sin{\\left (2 \\right )} & 0 & 0\\\\- 238 \\cos{\\left (2 \\right )} + 852 \\sin{\\left (2 \\right )} & - 996 \\cos{\\left (2 \\right )} + 600 \\sin{\\left (2 \\right )} & - 180 \\sin{\\left (2 \\right )} - 690 \\cos{\\left (2 \\right )} & - 240 \\sin{\\left (2 \\right )} - 120 \\cos{\\left (2 \\right )} & - 60 \\sin{\\left (2 \\right )} + 30 \\cos{\\left (2 \\right )} & 12 \\cos{\\left (2 \\right )} & \\sin{\\left (2 \\right )} & 0\\\\1946 \\cos{\\left (2 \\right )} + 4004 \\sin{\\left (2 \\right )} & - 1666 \\cos{\\left (2 \\right )} + 5964 \\sin{\\left (2 \\right )} & - 3486 \\cos{\\left (2 \\right )} + 2100 \\sin{\\left (2 \\right )} & - 420 \\sin{\\left (2 \\right )} - 1610 \\cos{\\left (2 \\right )} & - 420 \\sin{\\left (2 \\right )} - 210 \\cos{\\left (2 \\right )} & - 84 \\sin{\\left (2 \\right )} + 42 \\cos{\\left (2 \\right )} & 14 \\cos{\\left (2 \\right )} & \\sin{\\left (2 \\right )}\\end{matrix}\\right]$$"
      ],
      "text/plain": [
       "⎡         sin(2)                        0                           0         \n",
       "⎢                                                                             \n",
       "⎢        2⋅cos(2)                     sin(2)                        0         \n",
       "⎢                                                                             \n",
       "⎢  -4⋅sin(2) + 2⋅cos(2)              4⋅cos(2)                     sin(2)      \n",
       "⎢                                                                             \n",
       "⎢  -12⋅sin(2) - 6⋅cos(2)      -12⋅sin(2) + 6⋅cos(2)              6⋅cos(2)     \n",
       "⎢                                                                             \n",
       "⎢ -12⋅sin(2) - 46⋅cos(2)      -48⋅sin(2) - 24⋅cos(2)      -24⋅sin(2) + 12⋅cos(\n",
       "⎢                                                                             \n",
       "⎢-166⋅cos(2) + 100⋅sin(2)    -60⋅sin(2) - 230⋅cos(2)     -120⋅sin(2) - 60⋅cos(\n",
       "⎢                                                                             \n",
       "⎢-238⋅cos(2) + 852⋅sin(2)    -996⋅cos(2) + 600⋅sin(2)    -180⋅sin(2) - 690⋅cos\n",
       "⎢                                                                             \n",
       "⎣1946⋅cos(2) + 4004⋅sin(2)  -1666⋅cos(2) + 5964⋅sin(2)  -3486⋅cos(2) + 2100⋅si\n",
       "\n",
       "                  0                         0                        0        \n",
       "                                                                              \n",
       "                  0                         0                        0        \n",
       "                                                                              \n",
       "                  0                         0                        0        \n",
       "                                                                              \n",
       "               sin(2)                       0                        0        \n",
       "                                                                              \n",
       "2)            8⋅cos(2)                    sin(2)                     0        \n",
       "                                                                              \n",
       "2)     -40⋅sin(2) + 20⋅cos(2)           10⋅cos(2)                  sin(2)     \n",
       "                                                                              \n",
       "(2)   -240⋅sin(2) - 120⋅cos(2)    -60⋅sin(2) + 30⋅cos(2)         12⋅cos(2)    \n",
       "                                                                              \n",
       "n(2)  -420⋅sin(2) - 1610⋅cos(2)  -420⋅sin(2) - 210⋅cos(2)  -84⋅sin(2) + 42⋅cos\n",
       "\n",
       "         0        0   ⎤\n",
       "                      ⎥\n",
       "         0        0   ⎥\n",
       "                      ⎥\n",
       "         0        0   ⎥\n",
       "                      ⎥\n",
       "         0        0   ⎥\n",
       "                      ⎥\n",
       "         0        0   ⎥\n",
       "                      ⎥\n",
       "         0        0   ⎥\n",
       "                      ⎥\n",
       "      sin(2)      0   ⎥\n",
       "                      ⎥\n",
       "(2)  14⋅cos(2)  sin(2)⎦"
      ]
     },
     "execution_count": 18,
     "metadata": {},
     "output_type": "execute_result"
    }
   ],
   "source": [
    "PP"
   ]
  },
  {
   "cell_type": "markdown",
   "metadata": {
    "deletable": true,
    "editable": true
   },
   "source": [
    "---\n",
    "<a rel=\"license\" href=\"http://creativecommons.org/licenses/by-nc-sa/4.0/\"><img alt=\"Creative Commons License\" style=\"border-width:0\" src=\"https://i.creativecommons.org/l/by-nc-sa/4.0/88x31.png\" /></a><br />This work is licensed under a <a rel=\"license\" href=\"http://creativecommons.org/licenses/by-nc-sa/4.0/\">Creative Commons Attribution-NonCommercial-ShareAlike 4.0 International License</a>."
   ]
  }
 ],
 "metadata": {
  "kernelspec": {
   "display_name": "Python 3",
   "language": "python",
   "name": "python3"
  },
  "language_info": {
   "codemirror_mode": {
    "name": "ipython",
    "version": 3
   },
   "file_extension": ".py",
   "mimetype": "text/x-python",
   "name": "python",
   "nbconvert_exporter": "python",
   "pygments_lexer": "ipython3",
   "version": "3.6.0"
  }
 },
 "nbformat": 4,
 "nbformat_minor": 1
}
