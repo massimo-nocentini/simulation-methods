{
 "cells": [
  {
   "cell_type": "markdown",
   "metadata": {
    "deletable": true,
    "editable": true
   },
   "source": [
    "<p>\n",
    "<img src=\"http://www.cerm.unifi.it/chianti/images/logo%20unifi_positivo.jpg\" \n",
    "        alt=\"UniFI logo\" style=\"float: left; width: 20%; height: 20%;\">\n",
    "<div align=\"right\">\n",
    "Massimo Nocentini<br>\n",
    "<small>\n",
    "<br>March and April 2018: cleanup\n",
    "<br>November 2016: splitting from \"big\" notebook\n",
    "</small>\n",
    "</div>\n",
    "</p>\n",
    "<br>\n",
    "<br>\n",
    "<div align=\"center\">\n",
    "<b>Abstract</b><br>\n",
    "Theory of matrix functions, with applications to Pascal array $\\mathcal{P}$.\n",
    "</div>"
   ]
  },
  {
   "cell_type": "code",
   "execution_count": 1,
   "metadata": {
    "collapsed": true,
    "deletable": true,
    "editable": true
   },
   "outputs": [],
   "source": [
    "from sympy import *\n",
    "from sympy.abc import n, i, N, x, lamda, phi, z, j, r, k, a, alpha, beta\n",
    "\n",
    "init_printing()"
   ]
  },
  {
   "cell_type": "code",
   "execution_count": 2,
   "metadata": {
    "collapsed": false,
    "deletable": true,
    "editable": true
   },
   "outputs": [],
   "source": [
    "import functions_catalog\n",
    "\n",
    "from matrix_functions import *\n",
    "from commons import *\n",
    "from sequences import *"
   ]
  },
  {
   "cell_type": "markdown",
   "metadata": {
    "deletable": true,
    "editable": true
   },
   "source": [
    "# Pascal array $\\mathcal{P}$"
   ]
  },
  {
   "cell_type": "code",
   "execution_count": 3,
   "metadata": {
    "collapsed": true,
    "deletable": true,
    "editable": true
   },
   "outputs": [],
   "source": [
    "m=8"
   ]
  },
  {
   "cell_type": "code",
   "execution_count": 4,
   "metadata": {
    "collapsed": false,
    "deletable": true,
    "editable": true
   },
   "outputs": [
    {
     "data": {
      "image/png": "[encoded data removed]",
      "text/latex": [
       "$$\\left[\\begin{matrix}1 & 0 & 0 & 0 & 0 & 0 & 0 & 0\\\\1 & 1 & 0 & 0 & 0 & 0 & 0 & 0\\\\1 & {\\binom{2}{1}} & 1 & 0 & 0 & 0 & 0 & 0\\\\1 & {\\binom{3}{1}} & {\\binom{3}{2}} & 1 & 0 & 0 & 0 & 0\\\\1 & {\\binom{4}{1}} & {\\binom{4}{2}} & {\\binom{4}{3}} & 1 & 0 & 0 & 0\\\\1 & {\\binom{5}{1}} & {\\binom{5}{2}} & {\\binom{5}{3}} & {\\binom{5}{4}} & 1 & 0 & 0\\\\1 & {\\binom{6}{1}} & {\\binom{6}{2}} & {\\binom{6}{3}} & {\\binom{6}{4}} & {\\binom{6}{5}} & 1 & 0\\\\1 & {\\binom{7}{1}} & {\\binom{7}{2}} & {\\binom{7}{3}} & {\\binom{7}{4}} & {\\binom{7}{5}} & {\\binom{7}{6}} & 1\\end{matrix}\\right]$$"
      ],
      "text/plain": [
       "⎡1   0    0    0    0    0    0   0⎤\n",
       "⎢                                  ⎥\n",
       "⎢1   1    0    0    0    0    0   0⎥\n",
       "⎢                                  ⎥\n",
       "⎢   ⎛2⎞                            ⎥\n",
       "⎢1  ⎜ ⎟   1    0    0    0    0   0⎥\n",
       "⎢   ⎝1⎠                            ⎥\n",
       "⎢                                  ⎥\n",
       "⎢   ⎛3⎞  ⎛3⎞                       ⎥\n",
       "⎢1  ⎜ ⎟  ⎜ ⎟   1    0    0    0   0⎥\n",
       "⎢   ⎝1⎠  ⎝2⎠                       ⎥\n",
       "⎢                                  ⎥\n",
       "⎢   ⎛4⎞  ⎛4⎞  ⎛4⎞                  ⎥\n",
       "⎢1  ⎜ ⎟  ⎜ ⎟  ⎜ ⎟   1    0    0   0⎥\n",
       "⎢   ⎝1⎠  ⎝2⎠  ⎝3⎠                  ⎥\n",
       "⎢                                  ⎥\n",
       "⎢   ⎛5⎞  ⎛5⎞  ⎛5⎞  ⎛5⎞             ⎥\n",
       "⎢1  ⎜ ⎟  ⎜ ⎟  ⎜ ⎟  ⎜ ⎟   1    0   0⎥\n",
       "⎢   ⎝1⎠  ⎝2⎠  ⎝3⎠  ⎝4⎠             ⎥\n",
       "⎢                                  ⎥\n",
       "⎢   ⎛6⎞  ⎛6⎞  ⎛6⎞  ⎛6⎞  ⎛6⎞        ⎥\n",
       "⎢1  ⎜ ⎟  ⎜ ⎟  ⎜ ⎟  ⎜ ⎟  ⎜ ⎟   1   0⎥\n",
       "⎢   ⎝1⎠  ⎝2⎠  ⎝3⎠  ⎝4⎠  ⎝5⎠        ⎥\n",
       "⎢                                  ⎥\n",
       "⎢   ⎛7⎞  ⎛7⎞  ⎛7⎞  ⎛7⎞  ⎛7⎞  ⎛7⎞   ⎥\n",
       "⎢1  ⎜ ⎟  ⎜ ⎟  ⎜ ⎟  ⎜ ⎟  ⎜ ⎟  ⎜ ⎟  1⎥\n",
       "⎣   ⎝1⎠  ⎝2⎠  ⎝3⎠  ⎝4⎠  ⎝5⎠  ⎝6⎠   ⎦"
      ]
     },
     "execution_count": 4,
     "metadata": {},
     "output_type": "execute_result"
    }
   ],
   "source": [
    "P_ = Matrix(m,m, lambda n,k: binomial(n, k, evaluate=k >= n or not k))\n",
    "P_ # not usable in the framework because not a definition in equality style"
   ]
  },
  {
   "cell_type": "code",
   "execution_count": 5,
   "metadata": {
    "collapsed": false,
    "deletable": true,
    "editable": true
   },
   "outputs": [
    {
     "data": {
      "image/png": "[encoded data removed]",
      "text/latex": [
       "$$\\mathcal{P}_{8} = \\left[\\begin{matrix}1 & 0 & 0 & 0 & 0 & 0 & 0 & 0\\\\1 & 1 & 0 & 0 & 0 & 0 & 0 & 0\\\\1 & 2 & 1 & 0 & 0 & 0 & 0 & 0\\\\1 & 3 & 3 & 1 & 0 & 0 & 0 & 0\\\\1 & 4 & 6 & 4 & 1 & 0 & 0 & 0\\\\1 & 5 & 10 & 10 & 5 & 1 & 0 & 0\\\\1 & 6 & 15 & 20 & 15 & 6 & 1 & 0\\\\1 & 7 & 21 & 35 & 35 & 21 & 7 & 1\\end{matrix}\\right]$$"
      ],
      "text/plain": [
       "                 ⎡1  0  0   0   0   0   0  0⎤\n",
       "                 ⎢                          ⎥\n",
       "                 ⎢1  1  0   0   0   0   0  0⎥\n",
       "                 ⎢                          ⎥\n",
       "                 ⎢1  2  1   0   0   0   0  0⎥\n",
       "                 ⎢                          ⎥\n",
       "                 ⎢1  3  3   1   0   0   0  0⎥\n",
       "\\mathcal{P}[8] = ⎢                          ⎥\n",
       "                 ⎢1  4  6   4   1   0   0  0⎥\n",
       "                 ⎢                          ⎥\n",
       "                 ⎢1  5  10  10  5   1   0  0⎥\n",
       "                 ⎢                          ⎥\n",
       "                 ⎢1  6  15  20  15  6   1  0⎥\n",
       "                 ⎢                          ⎥\n",
       "                 ⎣1  7  21  35  35  21  7  1⎦"
      ]
     },
     "execution_count": 5,
     "metadata": {},
     "output_type": "execute_result"
    }
   ],
   "source": [
    "P = define(mathcal_P[m], Matrix(m,m,binomial))\n",
    "P"
   ]
  },
  {
   "cell_type": "code",
   "execution_count": 6,
   "metadata": {
    "collapsed": false,
    "deletable": true,
    "editable": true
   },
   "outputs": [
    {
     "data": {
      "image/png": "[encoded data removed]",
      "text/latex": [
       "$$\\sigma{\\left (\\mathcal{P}_{8} \\right )} = \\left ( \\left \\{ 1 : \\left ( \\lambda_{1}, \\quad m_{1}\\right )\\right \\}, \\quad \\left \\{ \\lambda_{1} : 1\\right \\}, \\quad \\left \\{ m_{1} : 8\\right \\}\\right )$$"
      ],
      "text/plain": [
       "\\sigma(\\mathcal{P}[8]) = ({1: (\\lambda[1], m[1])}, {\\lambda[1]: 1}, {m[1]: 8})"
      ]
     },
     "execution_count": 6,
     "metadata": {},
     "output_type": "execute_result"
    }
   ],
   "source": [
    "eigendata = spectrum(P)\n",
    "eigendata"
   ]
  },
  {
   "cell_type": "code",
   "execution_count": 7,
   "metadata": {
    "collapsed": false,
    "deletable": true,
    "editable": true
   },
   "outputs": [],
   "source": [
    "data, eigenvals, multiplicities = eigendata.rhs # unpacking to use `eigenvals` in `subs`"
   ]
  },
  {
   "cell_type": "code",
   "execution_count": 8,
   "metadata": {
    "collapsed": false,
    "deletable": true,
    "editable": true
   },
   "outputs": [
    {
     "data": {
      "image/png": "[encoded data removed]",
      "text/latex": [
       "$$\\left \\{ \\left ( 1, \\quad 1\\right ) : \\Phi_{ 1, 1 }{\\left (z \\right )} = 1, \\quad \\left ( 1, \\quad 2\\right ) : \\Phi_{ 1, 2 }{\\left (z \\right )} = z - 1, \\quad \\left ( 1, \\quad 3\\right ) : \\Phi_{ 1, 3 }{\\left (z \\right )} = \\frac{z^{2}}{2} - z + \\frac{1}{2}, \\quad \\left ( 1, \\quad 4\\right ) : \\Phi_{ 1, 4 }{\\left (z \\right )} = \\frac{z^{3}}{6} - \\frac{z^{2}}{2} + \\frac{z}{2} - \\frac{1}{6}, \\quad \\left ( 1, \\quad 5\\right ) : \\Phi_{ 1, 5 }{\\left (z \\right )} = \\frac{z^{4}}{24} - \\frac{z^{3}}{6} + \\frac{z^{2}}{4} - \\frac{z}{6} + \\frac{1}{24}, \\quad \\left ( 1, \\quad 6\\right ) : \\Phi_{ 1, 6 }{\\left (z \\right )} = \\frac{z^{5}}{120} - \\frac{z^{4}}{24} + \\frac{z^{3}}{12} - \\frac{z^{2}}{12} + \\frac{z}{24} - \\frac{1}{120}, \\quad \\left ( 1, \\quad 7\\right ) : \\Phi_{ 1, 7 }{\\left (z \\right )} = \\frac{z^{6}}{720} - \\frac{z^{5}}{120} + \\frac{z^{4}}{48} - \\frac{z^{3}}{36} + \\frac{z^{2}}{48} - \\frac{z}{120} + \\frac{1}{720}, \\quad \\left ( 1, \\quad 8\\right ) : \\Phi_{ 1, 8 }{\\left (z \\right )} = \\frac{z^{7}}{5040} - \\frac{z^{6}}{720} + \\frac{z^{5}}{240} - \\frac{z^{4}}{144} + \\frac{z^{3}}{144} - \\frac{z^{2}}{240} + \\frac{z}{720} - \\frac{1}{5040}\\right \\}$$"
      ],
      "text/plain": [
       "⎧                                                                             \n",
       "⎪                                                                             \n",
       "⎨(1, 1): \\Phi_{ 1, 1 }(z) = 1, (1, 2): \\Phi_{ 1, 2 }(z) = z - 1, (1, 3): \\Phi_\n",
       "⎪                                                                             \n",
       "⎩                                                                             \n",
       "\n",
       "               2                                      3    2                  \n",
       "              z        1                             z    z    z   1          \n",
       "{ 1, 3 }(z) = ── - z + ─, (1, 4): \\Phi_{ 1, 4 }(z) = ── - ── + ─ - ─, (1, 5): \n",
       "              2        2                             6    2    2   6          \n",
       "                                                                              \n",
       "\n",
       "                    4    3    2                                        5    4 \n",
       "                   z    z    z    z   1                               z    z  \n",
       "\\Phi_{ 1, 5 }(z) = ── - ── + ── - ─ + ──, (1, 6): \\Phi_{ 1, 6 }(z) = ─── - ── \n",
       "                   24   6    4    6   24                             120   24 \n",
       "                                                                              \n",
       "\n",
       "   3    2                                          6     5    4    3    2     \n",
       "  z    z    z     1                               z     z    z    z    z     z\n",
       "+ ── - ── + ── - ───, (1, 7): \\Phi_{ 1, 7 }(z) = ─── - ─── + ── - ── + ── - ──\n",
       "  12   12   24   120                             720   120   48   36   48   12\n",
       "                                                                              \n",
       "\n",
       "                                      7      6     5     4     3     2        \n",
       "     1                               z      z     z     z     z     z     z   \n",
       "─ + ───, (1, 8): \\Phi_{ 1, 8 }(z) = ──── - ─── + ─── - ─── + ─── - ─── + ─── -\n",
       "0   720                             5040   720   240   144   144   240   720  \n",
       "                                                                              \n",
       "\n",
       "     ⎫\n",
       "  1  ⎪\n",
       " ────⎬\n",
       " 5040⎪\n",
       "     ⎭"
      ]
     },
     "execution_count": 8,
     "metadata": {},
     "output_type": "execute_result"
    }
   ],
   "source": [
    "Phi_polynomials = component_polynomials(eigendata, early_eigenvals_subs=True)\n",
    "Phi_polynomials"
   ]
  },
  {
   "cell_type": "code",
   "execution_count": 10,
   "metadata": {
    "collapsed": false,
    "deletable": true,
    "editable": true,
    "scrolled": false
   },
   "outputs": [
    {
     "data": {
      "image/png": "[encoded data removed]",
      "text/latex": [
       "$$\\left [ Z^{\\left[ \\mathcal{P}[8] \\right]}_{1,1} = \\left[\\begin{matrix}1 & 0 & 0 & 0 & 0 & 0 & 0 & 0\\\\0 & 1 & 0 & 0 & 0 & 0 & 0 & 0\\\\0 & 0 & 1 & 0 & 0 & 0 & 0 & 0\\\\0 & 0 & 0 & 1 & 0 & 0 & 0 & 0\\\\0 & 0 & 0 & 0 & 1 & 0 & 0 & 0\\\\0 & 0 & 0 & 0 & 0 & 1 & 0 & 0\\\\0 & 0 & 0 & 0 & 0 & 0 & 1 & 0\\\\0 & 0 & 0 & 0 & 0 & 0 & 0 & 1\\end{matrix}\\right], \\quad Z^{\\left[ \\mathcal{P}[8] \\right]}_{1,2} = \\left[\\begin{matrix}0 & 0 & 0 & 0 & 0 & 0 & 0 & 0\\\\1 & 0 & 0 & 0 & 0 & 0 & 0 & 0\\\\1 & 2 & 0 & 0 & 0 & 0 & 0 & 0\\\\1 & 3 & 3 & 0 & 0 & 0 & 0 & 0\\\\1 & 4 & 6 & 4 & 0 & 0 & 0 & 0\\\\1 & 5 & 10 & 10 & 5 & 0 & 0 & 0\\\\1 & 6 & 15 & 20 & 15 & 6 & 0 & 0\\\\1 & 7 & 21 & 35 & 35 & 21 & 7 & 0\\end{matrix}\\right], \\quad Z^{\\left[ \\mathcal{P}[8] \\right]}_{1,3} = \\left[\\begin{matrix}0 & 0 & 0 & 0 & 0 & 0 & 0 & 0\\\\0 & 0 & 0 & 0 & 0 & 0 & 0 & 0\\\\1 & 0 & 0 & 0 & 0 & 0 & 0 & 0\\\\3 & 3 & 0 & 0 & 0 & 0 & 0 & 0\\\\7 & 12 & 6 & 0 & 0 & 0 & 0 & 0\\\\15 & 35 & 30 & 10 & 0 & 0 & 0 & 0\\\\31 & 90 & 105 & 60 & 15 & 0 & 0 & 0\\\\63 & 217 & 315 & 245 & 105 & 21 & 0 & 0\\end{matrix}\\right], \\quad Z^{\\left[ \\mathcal{P}[8] \\right]}_{1,4} = \\left[\\begin{matrix}0 & 0 & 0 & 0 & 0 & 0 & 0 & 0\\\\0 & 0 & 0 & 0 & 0 & 0 & 0 & 0\\\\0 & 0 & 0 & 0 & 0 & 0 & 0 & 0\\\\1 & 0 & 0 & 0 & 0 & 0 & 0 & 0\\\\6 & 4 & 0 & 0 & 0 & 0 & 0 & 0\\\\25 & 30 & 10 & 0 & 0 & 0 & 0 & 0\\\\90 & 150 & 90 & 20 & 0 & 0 & 0 & 0\\\\301 & 630 & 525 & 210 & 35 & 0 & 0 & 0\\end{matrix}\\right], \\quad Z^{\\left[ \\mathcal{P}[8] \\right]}_{1,5} = \\left[\\begin{matrix}0 & 0 & 0 & 0 & 0 & 0 & 0 & 0\\\\0 & 0 & 0 & 0 & 0 & 0 & 0 & 0\\\\0 & 0 & 0 & 0 & 0 & 0 & 0 & 0\\\\0 & 0 & 0 & 0 & 0 & 0 & 0 & 0\\\\1 & 0 & 0 & 0 & 0 & 0 & 0 & 0\\\\10 & 5 & 0 & 0 & 0 & 0 & 0 & 0\\\\65 & 60 & 15 & 0 & 0 & 0 & 0 & 0\\\\350 & 455 & 210 & 35 & 0 & 0 & 0 & 0\\end{matrix}\\right], \\quad Z^{\\left[ \\mathcal{P}[8] \\right]}_{1,6} = \\left[\\begin{matrix}0 & 0 & 0 & 0 & 0 & 0 & 0 & 0\\\\0 & 0 & 0 & 0 & 0 & 0 & 0 & 0\\\\0 & 0 & 0 & 0 & 0 & 0 & 0 & 0\\\\0 & 0 & 0 & 0 & 0 & 0 & 0 & 0\\\\0 & 0 & 0 & 0 & 0 & 0 & 0 & 0\\\\1 & 0 & 0 & 0 & 0 & 0 & 0 & 0\\\\15 & 6 & 0 & 0 & 0 & 0 & 0 & 0\\\\140 & 105 & 21 & 0 & 0 & 0 & 0 & 0\\end{matrix}\\right], \\quad Z^{\\left[ \\mathcal{P}[8] \\right]}_{1,7} = \\left[\\begin{matrix}0 & 0 & 0 & 0 & 0 & 0 & 0 & 0\\\\0 & 0 & 0 & 0 & 0 & 0 & 0 & 0\\\\0 & 0 & 0 & 0 & 0 & 0 & 0 & 0\\\\0 & 0 & 0 & 0 & 0 & 0 & 0 & 0\\\\0 & 0 & 0 & 0 & 0 & 0 & 0 & 0\\\\0 & 0 & 0 & 0 & 0 & 0 & 0 & 0\\\\1 & 0 & 0 & 0 & 0 & 0 & 0 & 0\\\\21 & 7 & 0 & 0 & 0 & 0 & 0 & 0\\end{matrix}\\right], \\quad Z^{\\left[ \\mathcal{P}[8] \\right]}_{1,8} = \\left[\\begin{matrix}0 & 0 & 0 & 0 & 0 & 0 & 0 & 0\\\\0 & 0 & 0 & 0 & 0 & 0 & 0 & 0\\\\0 & 0 & 0 & 0 & 0 & 0 & 0 & 0\\\\0 & 0 & 0 & 0 & 0 & 0 & 0 & 0\\\\0 & 0 & 0 & 0 & 0 & 0 & 0 & 0\\\\0 & 0 & 0 & 0 & 0 & 0 & 0 & 0\\\\0 & 0 & 0 & 0 & 0 & 0 & 0 & 0\\\\1 & 0 & 0 & 0 & 0 & 0 & 0 & 0\\end{matrix}\\right]\\right ]$$"
      ],
      "text/plain": [
       "⎡                                          ⎡1  0  0  0  0  0  0  0⎤           \n",
       "⎢                                          ⎢                      ⎥           \n",
       "⎢                                          ⎢0  1  0  0  0  0  0  0⎥           \n",
       "⎢                                          ⎢                      ⎥           \n",
       "⎢                                          ⎢0  0  1  0  0  0  0  0⎥           \n",
       "⎢                                          ⎢                      ⎥           \n",
       "⎢                                          ⎢0  0  0  1  0  0  0  0⎥           \n",
       "⎢Z^{\\left[ \\mathcal{P}[8] \\right]}[1, 1] = ⎢                      ⎥, Z^{\\left[\n",
       "⎢                                          ⎢0  0  0  0  1  0  0  0⎥           \n",
       "⎢                                          ⎢                      ⎥           \n",
       "⎢                                          ⎢0  0  0  0  0  1  0  0⎥           \n",
       "⎢                                          ⎢                      ⎥           \n",
       "⎢                                          ⎢0  0  0  0  0  0  1  0⎥           \n",
       "⎢                                          ⎢                      ⎥           \n",
       "⎣                                          ⎣0  0  0  0  0  0  0  1⎦           \n",
       "\n",
       "                                 ⎡0  0  0   0   0   0   0  0⎤                 \n",
       "                                 ⎢                          ⎥                 \n",
       "                                 ⎢1  0  0   0   0   0   0  0⎥                 \n",
       "                                 ⎢                          ⎥                 \n",
       "                                 ⎢1  2  0   0   0   0   0  0⎥                 \n",
       "                                 ⎢                          ⎥                 \n",
       "                                 ⎢1  3  3   0   0   0   0  0⎥                 \n",
       " \\mathcal{P}[8] \\right]}[1, 2] = ⎢                          ⎥, Z^{\\left[ \\math\n",
       "                                 ⎢1  4  6   4   0   0   0  0⎥                 \n",
       "                                 ⎢                          ⎥                 \n",
       "                                 ⎢1  5  10  10  5   0   0  0⎥                 \n",
       "                                 ⎢                          ⎥                 \n",
       "                                 ⎢1  6  15  20  15  6   0  0⎥                 \n",
       "                                 ⎢                          ⎥                 \n",
       "                                 ⎣1  7  21  35  35  21  7  0⎦                 \n",
       "\n",
       "                           ⎡0    0    0    0    0   0   0  0⎤                 \n",
       "                           ⎢                                ⎥                 \n",
       "                           ⎢0    0    0    0    0   0   0  0⎥                 \n",
       "                           ⎢                                ⎥                 \n",
       "                           ⎢1    0    0    0    0   0   0  0⎥                 \n",
       "                           ⎢                                ⎥                 \n",
       "                           ⎢3    3    0    0    0   0   0  0⎥                 \n",
       "cal{P}[8] \\right]}[1, 3] = ⎢                                ⎥, Z^{\\left[ \\math\n",
       "                           ⎢7   12    6    0    0   0   0  0⎥                 \n",
       "                           ⎢                                ⎥                 \n",
       "                           ⎢15  35   30   10    0   0   0  0⎥                 \n",
       "                           ⎢                                ⎥                 \n",
       "                           ⎢31  90   105  60   15   0   0  0⎥                 \n",
       "                           ⎢                                ⎥                 \n",
       "                           ⎣63  217  315  245  105  21  0  0⎦                 \n",
       "\n",
       "                           ⎡ 0    0    0    0   0   0  0  0⎤                  \n",
       "                           ⎢                               ⎥                  \n",
       "                           ⎢ 0    0    0    0   0   0  0  0⎥                  \n",
       "                           ⎢                               ⎥                  \n",
       "                           ⎢ 0    0    0    0   0   0  0  0⎥                  \n",
       "                           ⎢                               ⎥                  \n",
       "                           ⎢ 1    0    0    0   0   0  0  0⎥                  \n",
       "cal{P}[8] \\right]}[1, 4] = ⎢                               ⎥, Z^{\\left[ \\mathc\n",
       "                           ⎢ 6    4    0    0   0   0  0  0⎥                  \n",
       "                           ⎢                               ⎥                  \n",
       "                           ⎢25   30   10    0   0   0  0  0⎥                  \n",
       "                           ⎢                               ⎥                  \n",
       "                           ⎢90   150  90   20   0   0  0  0⎥                  \n",
       "                           ⎢                               ⎥                  \n",
       "                           ⎣301  630  525  210  35  0  0  0⎦                  \n",
       "\n",
       "                          ⎡ 0    0    0   0   0  0  0  0⎤                     \n",
       "                          ⎢                             ⎥                     \n",
       "                          ⎢ 0    0    0   0   0  0  0  0⎥                     \n",
       "                          ⎢                             ⎥                     \n",
       "                          ⎢ 0    0    0   0   0  0  0  0⎥                     \n",
       "                          ⎢                             ⎥                     \n",
       "                          ⎢ 0    0    0   0   0  0  0  0⎥                     \n",
       "al{P}[8] \\right]}[1, 5] = ⎢                             ⎥, Z^{\\left[ \\mathcal{\n",
       "                          ⎢ 1    0    0   0   0  0  0  0⎥                     \n",
       "                          ⎢                             ⎥                     \n",
       "                          ⎢10    5    0   0   0  0  0  0⎥                     \n",
       "                          ⎢                             ⎥                     \n",
       "                          ⎢65   60   15   0   0  0  0  0⎥                     \n",
       "                          ⎢                             ⎥                     \n",
       "                          ⎣350  455  210  35  0  0  0  0⎦                     \n",
       "\n",
       "                       ⎡ 0    0   0   0  0  0  0  0⎤                          \n",
       "                       ⎢                           ⎥                          \n",
       "                       ⎢ 0    0   0   0  0  0  0  0⎥                          \n",
       "                       ⎢                           ⎥                          \n",
       "                       ⎢ 0    0   0   0  0  0  0  0⎥                          \n",
       "                       ⎢                           ⎥                          \n",
       "                       ⎢ 0    0   0   0  0  0  0  0⎥                          \n",
       "P}[8] \\right]}[1, 6] = ⎢                           ⎥, Z^{\\left[ \\mathcal{P}[8]\n",
       "                       ⎢ 0    0   0   0  0  0  0  0⎥                          \n",
       "                       ⎢                           ⎥                          \n",
       "                       ⎢ 1    0   0   0  0  0  0  0⎥                          \n",
       "                       ⎢                           ⎥                          \n",
       "                       ⎢15    6   0   0  0  0  0  0⎥                          \n",
       "                       ⎢                           ⎥                          \n",
       "                       ⎣140  105  21  0  0  0  0  0⎦                          \n",
       "\n",
       "                  ⎡0   0  0  0  0  0  0  0⎤                                   \n",
       "                  ⎢                       ⎥                                   \n",
       "                  ⎢0   0  0  0  0  0  0  0⎥                                   \n",
       "                  ⎢                       ⎥                                   \n",
       "                  ⎢0   0  0  0  0  0  0  0⎥                                   \n",
       "                  ⎢                       ⎥                                   \n",
       "                  ⎢0   0  0  0  0  0  0  0⎥                                   \n",
       " \\right]}[1, 7] = ⎢                       ⎥, Z^{\\left[ \\mathcal{P}[8] \\right]}\n",
       "                  ⎢0   0  0  0  0  0  0  0⎥                                   \n",
       "                  ⎢                       ⎥                                   \n",
       "                  ⎢0   0  0  0  0  0  0  0⎥                                   \n",
       "                  ⎢                       ⎥                                   \n",
       "                  ⎢1   0  0  0  0  0  0  0⎥                                   \n",
       "                  ⎢                       ⎥                                   \n",
       "                  ⎣21  7  0  0  0  0  0  0⎦                                   \n",
       "\n",
       "         ⎡0  0  0  0  0  0  0  0⎤⎤\n",
       "         ⎢                      ⎥⎥\n",
       "         ⎢0  0  0  0  0  0  0  0⎥⎥\n",
       "         ⎢                      ⎥⎥\n",
       "         ⎢0  0  0  0  0  0  0  0⎥⎥\n",
       "         ⎢                      ⎥⎥\n",
       "         ⎢0  0  0  0  0  0  0  0⎥⎥\n",
       "[1, 8] = ⎢                      ⎥⎥\n",
       "         ⎢0  0  0  0  0  0  0  0⎥⎥\n",
       "         ⎢                      ⎥⎥\n",
       "         ⎢0  0  0  0  0  0  0  0⎥⎥\n",
       "         ⎢                      ⎥⎥\n",
       "         ⎢0  0  0  0  0  0  0  0⎥⎥\n",
       "         ⎢                      ⎥⎥\n",
       "         ⎣1  0  0  0  0  0  0  0⎦⎦"
      ]
     },
     "execution_count": 10,
     "metadata": {},
     "output_type": "execute_result"
    }
   ],
   "source": [
    "cmatrices = component_matrices(P, Phi_polynomials)\n",
    "list(cmatrices.values())"
   ]
  },
  {
   "cell_type": "markdown",
   "metadata": {
    "deletable": true,
    "editable": true
   },
   "source": [
    "## `power` function"
   ]
  },
  {
   "cell_type": "code",
   "execution_count": 12,
   "metadata": {
    "collapsed": false,
    "deletable": true,
    "editable": true
   },
   "outputs": [],
   "source": [
    "f_power, g_power, G_power = functions_catalog.power(eigendata, Phi_polynomials)"
   ]
  },
  {
   "cell_type": "code",
   "execution_count": 13,
   "metadata": {
    "collapsed": false,
    "deletable": true,
    "editable": true
   },
   "outputs": [
    {
     "data": {
      "image/png": "[encoded data removed]",
      "text/latex": [
       "$$\\operatorname{P_{ 8 }}{\\left (\\mathcal{P}_{8} \\right )} = \\left[\\begin{matrix}1 & 0 & 0 & 0 & 0 & 0 & 0 & 0\\\\r & 1 & 0 & 0 & 0 & 0 & 0 & 0\\\\r^{2} & 2 r & 1 & 0 & 0 & 0 & 0 & 0\\\\r^{3} & 3 r^{2} & 3 r & 1 & 0 & 0 & 0 & 0\\\\r^{4} & 4 r^{3} & 6 r^{2} & 4 r & 1 & 0 & 0 & 0\\\\r^{5} & 5 r^{4} & 10 r^{3} & 10 r^{2} & 5 r & 1 & 0 & 0\\\\r^{6} & 6 r^{5} & 15 r^{4} & 20 r^{3} & 15 r^{2} & 6 r & 1 & 0\\\\r^{7} & 7 r^{6} & 21 r^{5} & 35 r^{4} & 35 r^{3} & 21 r^{2} & 7 r & 1\\end{matrix}\\right]$$"
      ],
      "text/plain": [
       "                          ⎡1    0      0      0      0      0     0   0⎤\n",
       "                          ⎢                                            ⎥\n",
       "                          ⎢r    1      0      0      0      0     0   0⎥\n",
       "                          ⎢                                            ⎥\n",
       "                          ⎢ 2                                          ⎥\n",
       "                          ⎢r   2⋅r     1      0      0      0     0   0⎥\n",
       "                          ⎢                                            ⎥\n",
       "                          ⎢ 3     2                                    ⎥\n",
       "                          ⎢r   3⋅r    3⋅r     1      0      0     0   0⎥\n",
       "                          ⎢                                            ⎥\n",
       "P_{ 8 }(\\mathcal{P}[8]) = ⎢ 4     3     2                              ⎥\n",
       "                          ⎢r   4⋅r   6⋅r     4⋅r     1      0     0   0⎥\n",
       "                          ⎢                                            ⎥\n",
       "                          ⎢ 5     4      3      2                      ⎥\n",
       "                          ⎢r   5⋅r   10⋅r   10⋅r    5⋅r     1     0   0⎥\n",
       "                          ⎢                                            ⎥\n",
       "                          ⎢ 6     5      4      3      2               ⎥\n",
       "                          ⎢r   6⋅r   15⋅r   20⋅r   15⋅r    6⋅r    1   0⎥\n",
       "                          ⎢                                            ⎥\n",
       "                          ⎢ 7     6      5      4      3      2        ⎥\n",
       "                          ⎣r   7⋅r   21⋅r   35⋅r   35⋅r   21⋅r   7⋅r  1⎦"
      ]
     },
     "execution_count": 13,
     "metadata": {},
     "output_type": "execute_result"
    }
   ],
   "source": [
    "P_power = G_power(P)\n",
    "P_power"
   ]
  },
  {
   "cell_type": "code",
   "execution_count": 14,
   "metadata": {
    "collapsed": false,
    "deletable": true,
    "editable": true
   },
   "outputs": [
    {
     "data": {
      "image/png": "[encoded data removed]",
      "text/latex": [
       "$$\\left[\\begin{matrix}r & 1 & 0 & 0 & 0 & 0 & 0\\\\0 & r & 1 & 0 & 0 & 0 & 0\\\\0 & 0 & r & 1 & 0 & 0 & 0\\\\0 & 0 & 0 & r & 1 & 0 & 0\\\\0 & 0 & 0 & 0 & r & 1 & 0\\\\0 & 0 & 0 & 0 & 0 & r & 1\\\\0 & 0 & 0 & 0 & 0 & 0 & r\\end{matrix}\\right]$$"
      ],
      "text/plain": [
       "⎡r  1  0  0  0  0  0⎤\n",
       "⎢                   ⎥\n",
       "⎢0  r  1  0  0  0  0⎥\n",
       "⎢                   ⎥\n",
       "⎢0  0  r  1  0  0  0⎥\n",
       "⎢                   ⎥\n",
       "⎢0  0  0  r  1  0  0⎥\n",
       "⎢                   ⎥\n",
       "⎢0  0  0  0  r  1  0⎥\n",
       "⎢                   ⎥\n",
       "⎢0  0  0  0  0  r  1⎥\n",
       "⎢                   ⎥\n",
       "⎣0  0  0  0  0  0  r⎦"
      ]
     },
     "execution_count": 14,
     "metadata": {},
     "output_type": "execute_result"
    }
   ],
   "source": [
    "production_matrix(P_power.rhs)"
   ]
  },
  {
   "cell_type": "code",
   "execution_count": 15,
   "metadata": {
    "collapsed": false,
    "deletable": true,
    "editable": true
   },
   "outputs": [],
   "source": [
    "assert P_power.rhs == (P.rhs**r).applyfunc(simplify)"
   ]
  },
  {
   "cell_type": "markdown",
   "metadata": {
    "deletable": true,
    "editable": true
   },
   "source": [
    "## `inverse` function"
   ]
  },
  {
   "cell_type": "code",
   "execution_count": 16,
   "metadata": {
    "collapsed": false,
    "deletable": true,
    "editable": true
   },
   "outputs": [],
   "source": [
    "f_inverse, g_inverse, G_inverse = functions_catalog.inverse(eigendata, Phi_polynomials)"
   ]
  },
  {
   "cell_type": "code",
   "execution_count": 17,
   "metadata": {
    "collapsed": false,
    "deletable": true,
    "editable": true
   },
   "outputs": [
    {
     "data": {
      "image/png": "[encoded data removed]",
      "text/latex": [
       "$$\\left ( \\operatorname{I_{ 8 }}{\\left (\\mathcal{P}_{8} \\right )} = \\left[\\begin{matrix}1 & 0 & 0 & 0 & 0 & 0 & 0 & 0\\\\-1 & 1 & 0 & 0 & 0 & 0 & 0 & 0\\\\1 & -2 & 1 & 0 & 0 & 0 & 0 & 0\\\\-1 & 3 & -3 & 1 & 0 & 0 & 0 & 0\\\\1 & -4 & 6 & -4 & 1 & 0 & 0 & 0\\\\-1 & 5 & -10 & 10 & -5 & 1 & 0 & 0\\\\1 & -6 & 15 & -20 & 15 & -6 & 1 & 0\\\\-1 & 7 & -21 & 35 & -35 & 21 & -7 & 1\\end{matrix}\\right], \\quad \\operatorname{I_{ 8 }}{\\left (\\operatorname{I_{ 8 }}{\\left (\\mathcal{P}_{8} \\right )} \\right )} = \\left[\\begin{matrix}1 & 0 & 0 & 0 & 0 & 0 & 0 & 0\\\\1 & 1 & 0 & 0 & 0 & 0 & 0 & 0\\\\1 & 2 & 1 & 0 & 0 & 0 & 0 & 0\\\\1 & 3 & 3 & 1 & 0 & 0 & 0 & 0\\\\1 & 4 & 6 & 4 & 1 & 0 & 0 & 0\\\\1 & 5 & 10 & 10 & 5 & 1 & 0 & 0\\\\1 & 6 & 15 & 20 & 15 & 6 & 1 & 0\\\\1 & 7 & 21 & 35 & 35 & 21 & 7 & 1\\end{matrix}\\right]\\right )$$"
      ],
      "text/plain": [
       "⎛                          ⎡1   0    0    0    0   0   0   0⎤                 \n",
       "⎜                          ⎢                                ⎥                 \n",
       "⎜                          ⎢-1  1    0    0    0   0   0   0⎥                 \n",
       "⎜                          ⎢                                ⎥                 \n",
       "⎜                          ⎢1   -2   1    0    0   0   0   0⎥                 \n",
       "⎜                          ⎢                                ⎥                 \n",
       "⎜                          ⎢-1  3   -3    1    0   0   0   0⎥                 \n",
       "⎜I_{ 8 }(\\mathcal{P}[8]) = ⎢                                ⎥, I_{ 8 }(I_{ 8 }\n",
       "⎜                          ⎢1   -4   6   -4    1   0   0   0⎥                 \n",
       "⎜                          ⎢                                ⎥                 \n",
       "⎜                          ⎢-1  5   -10  10   -5   1   0   0⎥                 \n",
       "⎜                          ⎢                                ⎥                 \n",
       "⎜                          ⎢1   -6  15   -20  15   -6  1   0⎥                 \n",
       "⎜                          ⎢                                ⎥                 \n",
       "⎝                          ⎣-1  7   -21  35   -35  21  -7  1⎦                 \n",
       "\n",
       "                    ⎡1  0  0   0   0   0   0  0⎤⎞\n",
       "                    ⎢                          ⎥⎟\n",
       "                    ⎢1  1  0   0   0   0   0  0⎥⎟\n",
       "                    ⎢                          ⎥⎟\n",
       "                    ⎢1  2  1   0   0   0   0  0⎥⎟\n",
       "                    ⎢                          ⎥⎟\n",
       "                    ⎢1  3  3   1   0   0   0  0⎥⎟\n",
       "(\\mathcal{P}[8])) = ⎢                          ⎥⎟\n",
       "                    ⎢1  4  6   4   1   0   0  0⎥⎟\n",
       "                    ⎢                          ⎥⎟\n",
       "                    ⎢1  5  10  10  5   1   0  0⎥⎟\n",
       "                    ⎢                          ⎥⎟\n",
       "                    ⎢1  6  15  20  15  6   1  0⎥⎟\n",
       "                    ⎢                          ⎥⎟\n",
       "                    ⎣1  7  21  35  35  21  7  1⎦⎠"
      ]
     },
     "execution_count": 17,
     "metadata": {},
     "output_type": "execute_result"
    }
   ],
   "source": [
    "P_inverse = G_inverse(P)\n",
    "P_inverse, G_inverse(P_inverse)"
   ]
  },
  {
   "cell_type": "code",
   "execution_count": 18,
   "metadata": {
    "collapsed": false,
    "deletable": true,
    "editable": true
   },
   "outputs": [
    {
     "data": {
      "image/png": "[encoded data removed]",
      "text/latex": [
       "$$\\left[\\begin{matrix}-1 & 1 & 0 & 0 & 0 & 0 & 0\\\\0 & -1 & 1 & 0 & 0 & 0 & 0\\\\0 & 0 & -1 & 1 & 0 & 0 & 0\\\\0 & 0 & 0 & -1 & 1 & 0 & 0\\\\0 & 0 & 0 & 0 & -1 & 1 & 0\\\\0 & 0 & 0 & 0 & 0 & -1 & 1\\\\0 & 0 & 0 & 0 & 0 & 0 & -1\\end{matrix}\\right]$$"
      ],
      "text/plain": [
       "⎡-1  1   0   0   0   0   0 ⎤\n",
       "⎢                          ⎥\n",
       "⎢0   -1  1   0   0   0   0 ⎥\n",
       "⎢                          ⎥\n",
       "⎢0   0   -1  1   0   0   0 ⎥\n",
       "⎢                          ⎥\n",
       "⎢0   0   0   -1  1   0   0 ⎥\n",
       "⎢                          ⎥\n",
       "⎢0   0   0   0   -1  1   0 ⎥\n",
       "⎢                          ⎥\n",
       "⎢0   0   0   0   0   -1  1 ⎥\n",
       "⎢                          ⎥\n",
       "⎣0   0   0   0   0   0   -1⎦"
      ]
     },
     "execution_count": 18,
     "metadata": {},
     "output_type": "execute_result"
    }
   ],
   "source": [
    "production_matrix(P_inverse.rhs)"
   ]
  },
  {
   "cell_type": "code",
   "execution_count": 19,
   "metadata": {
    "collapsed": false,
    "deletable": true,
    "editable": true
   },
   "outputs": [],
   "source": [
    "assert (P_inverse.rhs * P.rhs) == Matrix(m, m, identity_matrix())\n",
    "assert P_inverse.rhs == P.rhs**(-1)\n",
    "assert P_inverse.rhs == P_power.rhs.subs({r:-1})"
   ]
  },
  {
   "cell_type": "markdown",
   "metadata": {
    "deletable": true,
    "editable": true
   },
   "source": [
    "## `sqrt` function"
   ]
  },
  {
   "cell_type": "code",
   "execution_count": 20,
   "metadata": {
    "collapsed": false,
    "deletable": true,
    "editable": true
   },
   "outputs": [],
   "source": [
    "f_sqrt, g_sqrt, G_sqrt = functions_catalog.square_root(eigendata, Phi_polynomials)"
   ]
  },
  {
   "cell_type": "code",
   "execution_count": 21,
   "metadata": {
    "collapsed": false,
    "deletable": true,
    "editable": true
   },
   "outputs": [
    {
     "data": {
      "image/png": "[encoded data removed]",
      "text/latex": [
       "$$\\operatorname{R_{ 8 }}{\\left (\\mathcal{P}_{8} \\right )} = \\left[\\begin{matrix}1 & 0 & 0 & 0 & 0 & 0 & 0 & 0\\\\\\frac{1}{2} & 1 & 0 & 0 & 0 & 0 & 0 & 0\\\\\\frac{1}{4} & 1 & 1 & 0 & 0 & 0 & 0 & 0\\\\\\frac{1}{8} & \\frac{3}{4} & \\frac{3}{2} & 1 & 0 & 0 & 0 & 0\\\\\\frac{1}{16} & \\frac{1}{2} & \\frac{3}{2} & 2 & 1 & 0 & 0 & 0\\\\\\frac{1}{32} & \\frac{5}{16} & \\frac{5}{4} & \\frac{5}{2} & \\frac{5}{2} & 1 & 0 & 0\\\\\\frac{1}{64} & \\frac{3}{16} & \\frac{15}{16} & \\frac{5}{2} & \\frac{15}{4} & 3 & 1 & 0\\\\\\frac{1}{128} & \\frac{7}{64} & \\frac{21}{32} & \\frac{35}{16} & \\frac{35}{8} & \\frac{21}{4} & \\frac{7}{2} & 1\\end{matrix}\\right]$$"
      ],
      "text/plain": [
       "                          ⎡  1     0     0    0    0     0     0   0⎤\n",
       "                          ⎢                                         ⎥\n",
       "                          ⎢ 1/2    1     0    0    0     0     0   0⎥\n",
       "                          ⎢                                         ⎥\n",
       "                          ⎢ 1/4    1     1    0    0     0     0   0⎥\n",
       "                          ⎢                                         ⎥\n",
       "                          ⎢ 1/8   3/4   3/2   1    0     0     0   0⎥\n",
       "                          ⎢                                         ⎥\n",
       "                          ⎢1/16   1/2   3/2   2    1     0     0   0⎥\n",
       "R_{ 8 }(\\mathcal{P}[8]) = ⎢                                         ⎥\n",
       "                          ⎢1/32   5/16  5/4  5/2  5/2    1     0   0⎥\n",
       "                          ⎢                                         ⎥\n",
       "                          ⎢             15                          ⎥\n",
       "                          ⎢1/64   3/16  ──   5/2  15/4   3     1   0⎥\n",
       "                          ⎢             16                          ⎥\n",
       "                          ⎢                                         ⎥\n",
       "                          ⎢             21   35                     ⎥\n",
       "                          ⎢1/128  7/64  ──   ──   35/8  21/4  7/2  1⎥\n",
       "                          ⎣             32   16                     ⎦"
      ]
     },
     "execution_count": 21,
     "metadata": {},
     "output_type": "execute_result"
    }
   ],
   "source": [
    "P_sqrt = G_sqrt(P)\n",
    "P_sqrt"
   ]
  },
  {
   "cell_type": "code",
   "execution_count": 22,
   "metadata": {
    "collapsed": false,
    "deletable": true,
    "editable": true
   },
   "outputs": [
    {
     "data": {
      "image/png": "[encoded data removed]",
      "text/latex": [
       "$$\\left[\\begin{matrix}\\frac{1}{2} & 1 & 0 & 0 & 0 & 0 & 0\\\\0 & \\frac{1}{2} & 1 & 0 & 0 & 0 & 0\\\\0 & 0 & \\frac{1}{2} & 1 & 0 & 0 & 0\\\\0 & 0 & 0 & \\frac{1}{2} & 1 & 0 & 0\\\\0 & 0 & 0 & 0 & \\frac{1}{2} & 1 & 0\\\\0 & 0 & 0 & 0 & 0 & \\frac{1}{2} & 1\\\\0 & 0 & 0 & 0 & 0 & 0 & \\frac{1}{2}\\end{matrix}\\right]$$"
      ],
      "text/plain": [
       "⎡1/2   1    0    0    0    0    0 ⎤\n",
       "⎢                                 ⎥\n",
       "⎢ 0   1/2   1    0    0    0    0 ⎥\n",
       "⎢                                 ⎥\n",
       "⎢ 0    0   1/2   1    0    0    0 ⎥\n",
       "⎢                                 ⎥\n",
       "⎢ 0    0    0   1/2   1    0    0 ⎥\n",
       "⎢                                 ⎥\n",
       "⎢ 0    0    0    0   1/2   1    0 ⎥\n",
       "⎢                                 ⎥\n",
       "⎢ 0    0    0    0    0   1/2   1 ⎥\n",
       "⎢                                 ⎥\n",
       "⎣ 0    0    0    0    0    0   1/2⎦"
      ]
     },
     "execution_count": 22,
     "metadata": {},
     "output_type": "execute_result"
    }
   ],
   "source": [
    "production_matrix(P_sqrt.rhs)"
   ]
  },
  {
   "cell_type": "code",
   "execution_count": 23,
   "metadata": {
    "collapsed": false,
    "deletable": true,
    "editable": true
   },
   "outputs": [],
   "source": [
    "assert P_sqrt.rhs == P.rhs**(S(1)/2)\n",
    "assert P_sqrt.rhs == P_power.rhs.subs({r:S(1)/2})"
   ]
  },
  {
   "cell_type": "markdown",
   "metadata": {
    "deletable": true,
    "editable": true
   },
   "source": [
    "## `expt` function"
   ]
  },
  {
   "cell_type": "code",
   "execution_count": 24,
   "metadata": {
    "collapsed": false,
    "deletable": true,
    "editable": true
   },
   "outputs": [],
   "source": [
    "f_exp, g_exp, G_exp = functions_catalog.exp(eigendata, Phi_polynomials)"
   ]
  },
  {
   "cell_type": "code",
   "execution_count": 25,
   "metadata": {
    "collapsed": false,
    "deletable": true,
    "editable": true
   },
   "outputs": [
    {
     "data": {
      "image/png": "[encoded data removed]",
      "text/latex": [
       "$$\\operatorname{E_{ 8 }}{\\left (\\mathcal{P}_{8} \\right )} = \\left[\\begin{matrix}e^{\\alpha} & 0 & 0 & 0 & 0 & 0 & 0 & 0\\\\\\alpha e^{\\alpha} & e^{\\alpha} & 0 & 0 & 0 & 0 & 0 & 0\\\\\\alpha \\left(\\alpha + 1\\right) e^{\\alpha} & 2 \\alpha e^{\\alpha} & e^{\\alpha} & 0 & 0 & 0 & 0 & 0\\\\\\alpha \\left(\\alpha^{2} + 3 \\alpha + 1\\right) e^{\\alpha} & 3 \\alpha \\left(\\alpha + 1\\right) e^{\\alpha} & 3 \\alpha e^{\\alpha} & e^{\\alpha} & 0 & 0 & 0 & 0\\\\\\alpha \\left(\\alpha^{3} + 6 \\alpha^{2} + 7 \\alpha + 1\\right) e^{\\alpha} & 4 \\alpha \\left(\\alpha^{2} + 3 \\alpha + 1\\right) e^{\\alpha} & 6 \\alpha \\left(\\alpha + 1\\right) e^{\\alpha} & 4 \\alpha e^{\\alpha} & e^{\\alpha} & 0 & 0 & 0\\\\\\alpha \\left(\\alpha^{4} + 10 \\alpha^{3} + 25 \\alpha^{2} + 15 \\alpha + 1\\right) e^{\\alpha} & 5 \\alpha \\left(\\alpha^{3} + 6 \\alpha^{2} + 7 \\alpha + 1\\right) e^{\\alpha} & 10 \\alpha \\left(\\alpha^{2} + 3 \\alpha + 1\\right) e^{\\alpha} & 10 \\alpha \\left(\\alpha + 1\\right) e^{\\alpha} & 5 \\alpha e^{\\alpha} & e^{\\alpha} & 0 & 0\\\\\\alpha \\left(\\alpha^{5} + 15 \\alpha^{4} + 65 \\alpha^{3} + 90 \\alpha^{2} + 31 \\alpha + 1\\right) e^{\\alpha} & 6 \\alpha \\left(\\alpha^{4} + 10 \\alpha^{3} + 25 \\alpha^{2} + 15 \\alpha + 1\\right) e^{\\alpha} & 15 \\alpha \\left(\\alpha^{3} + 6 \\alpha^{2} + 7 \\alpha + 1\\right) e^{\\alpha} & 20 \\alpha \\left(\\alpha^{2} + 3 \\alpha + 1\\right) e^{\\alpha} & 15 \\alpha \\left(\\alpha + 1\\right) e^{\\alpha} & 6 \\alpha e^{\\alpha} & e^{\\alpha} & 0\\\\\\alpha \\left(\\alpha^{6} + 21 \\alpha^{5} + 140 \\alpha^{4} + 350 \\alpha^{3} + 301 \\alpha^{2} + 63 \\alpha + 1\\right) e^{\\alpha} & 7 \\alpha \\left(\\alpha^{5} + 15 \\alpha^{4} + 65 \\alpha^{3} + 90 \\alpha^{2} + 31 \\alpha + 1\\right) e^{\\alpha} & 21 \\alpha \\left(\\alpha^{4} + 10 \\alpha^{3} + 25 \\alpha^{2} + 15 \\alpha + 1\\right) e^{\\alpha} & 35 \\alpha \\left(\\alpha^{3} + 6 \\alpha^{2} + 7 \\alpha + 1\\right) e^{\\alpha} & 35 \\alpha \\left(\\alpha^{2} + 3 \\alpha + 1\\right) e^{\\alpha} & 21 \\alpha \\left(\\alpha + 1\\right) e^{\\alpha} & 7 \\alpha e^{\\alpha} & e^{\\alpha}\\end{matrix}\\right]$$"
      ],
      "text/plain": [
       "                          ⎡                           α                       \n",
       "                          ⎢                          ℯ                        \n",
       "                          ⎢                                                   \n",
       "                          ⎢                            α                      \n",
       "                          ⎢                         α⋅ℯ                       \n",
       "                          ⎢                                                   \n",
       "                          ⎢                                α                  \n",
       "                          ⎢                     α⋅(α + 1)⋅ℯ                   \n",
       "                          ⎢                                                   \n",
       "                          ⎢                    ⎛ 2          ⎞  α              \n",
       "                          ⎢                  α⋅⎝α  + 3⋅α + 1⎠⋅ℯ               \n",
       "E_{ 8 }(\\mathcal{P}[8]) = ⎢                                                   \n",
       "                          ⎢                ⎛ 3      2          ⎞  α           \n",
       "                          ⎢              α⋅⎝α  + 6⋅α  + 7⋅α + 1⎠⋅ℯ            \n",
       "                          ⎢                                                   \n",
       "                          ⎢           ⎛ 4       3       2           ⎞  α      \n",
       "                          ⎢         α⋅⎝α  + 10⋅α  + 25⋅α  + 15⋅α + 1⎠⋅ℯ       \n",
       "                          ⎢                                                   \n",
       "                          ⎢       ⎛ 5       4       3       2           ⎞  α  \n",
       "                          ⎢     α⋅⎝α  + 15⋅α  + 65⋅α  + 90⋅α  + 31⋅α + 1⎠⋅ℯ   \n",
       "                          ⎢                                                   \n",
       "                          ⎢  ⎛ 6       5        4        3        2           \n",
       "                          ⎣α⋅⎝α  + 21⋅α  + 140⋅α  + 350⋅α  + 301⋅α  + 63⋅α + 1\n",
       "\n",
       "                                                                              \n",
       "                            0                                            0    \n",
       "                                                                              \n",
       "                             α                                                \n",
       "                            ℯ                                            0    \n",
       "                                                                              \n",
       "                               α                                         α    \n",
       "                          2⋅α⋅ℯ                                         ℯ     \n",
       "                                                                              \n",
       "                                   α                                       α  \n",
       "                      3⋅α⋅(α + 1)⋅ℯ                                   3⋅α⋅ℯ   \n",
       "                                                                              \n",
       "                      ⎛ 2          ⎞  α                                       \n",
       "                  4⋅α⋅⎝α  + 3⋅α + 1⎠⋅ℯ                            6⋅α⋅(α + 1)⋅\n",
       "                                                                              \n",
       "                   ⎛ 3      2          ⎞  α                        ⎛ 2        \n",
       "               5⋅α⋅⎝α  + 6⋅α  + 7⋅α + 1⎠⋅ℯ                    10⋅α⋅⎝α  + 3⋅α +\n",
       "                                                                              \n",
       "              ⎛ 4       3       2           ⎞  α                ⎛ 3      2    \n",
       "          6⋅α⋅⎝α  + 10⋅α  + 25⋅α  + 15⋅α + 1⎠⋅ℯ            15⋅α⋅⎝α  + 6⋅α  + 7\n",
       "                                                                              \n",
       "⎞  α      ⎛ 5       4       3       2           ⎞  α       ⎛ 4       3       2\n",
       "⎠⋅ℯ   7⋅α⋅⎝α  + 15⋅α  + 65⋅α  + 90⋅α  + 31⋅α + 1⎠⋅ℯ   21⋅α⋅⎝α  + 10⋅α  + 25⋅α \n",
       "\n",
       "                                                                              \n",
       "                               0                          0                   \n",
       "                                                                              \n",
       "                                                                              \n",
       "                               0                          0                   \n",
       "                                                                              \n",
       "                                                                              \n",
       "                               0                          0                   \n",
       "                                                                              \n",
       "                               α                                              \n",
       "                              ℯ                           0                   \n",
       "                                                                              \n",
       " α                               α                         α                  \n",
       "ℯ                           4⋅α⋅ℯ                         ℯ                   \n",
       "                                                                              \n",
       "  ⎞  α                                α                      α                \n",
       " 1⎠⋅ℯ                   10⋅α⋅(α + 1)⋅ℯ                  5⋅α⋅ℯ                 \n",
       "                                                                              \n",
       "      ⎞  α               ⎛ 2          ⎞  α                       α            \n",
       "⋅α + 1⎠⋅ℯ           20⋅α⋅⎝α  + 3⋅α + 1⎠⋅ℯ          15⋅α⋅(α + 1)⋅ℯ           6⋅\n",
       "                                                                              \n",
       "           ⎞  α       ⎛ 3      2          ⎞  α       ⎛ 2          ⎞  α        \n",
       " + 15⋅α + 1⎠⋅ℯ   35⋅α⋅⎝α  + 6⋅α  + 7⋅α + 1⎠⋅ℯ   35⋅α⋅⎝α  + 3⋅α + 1⎠⋅ℯ   21⋅α⋅(\n",
       "\n",
       "                     ⎤\n",
       " 0           0     0 ⎥\n",
       "                     ⎥\n",
       "                     ⎥\n",
       " 0           0     0 ⎥\n",
       "                     ⎥\n",
       "                     ⎥\n",
       " 0           0     0 ⎥\n",
       "                     ⎥\n",
       "                     ⎥\n",
       " 0           0     0 ⎥\n",
       "                     ⎥\n",
       "                     ⎥\n",
       " 0           0     0 ⎥\n",
       "                     ⎥\n",
       " α                   ⎥\n",
       "ℯ            0     0 ⎥\n",
       "                     ⎥\n",
       "   α          α      ⎥\n",
       "α⋅ℯ          ℯ     0 ⎥\n",
       "                     ⎥\n",
       "        α       α   α⎥\n",
       "α + 1)⋅ℯ   7⋅α⋅ℯ   ℯ ⎦"
      ]
     },
     "execution_count": 25,
     "metadata": {},
     "output_type": "execute_result"
    }
   ],
   "source": [
    "P_exp = G_exp(P)\n",
    "P_exp"
   ]
  },
  {
   "cell_type": "code",
   "execution_count": 26,
   "metadata": {
    "collapsed": false,
    "deletable": true,
    "editable": true
   },
   "outputs": [
    {
     "data": {
      "text/plain": [
       "nature(is_ordinary=False, is_exponential=True)"
      ]
     },
     "execution_count": 26,
     "metadata": {},
     "output_type": "execute_result"
    }
   ],
   "source": [
    "inspect(P_exp.rhs)"
   ]
  },
  {
   "cell_type": "code",
   "execution_count": 28,
   "metadata": {
    "collapsed": false,
    "deletable": true,
    "editable": true
   },
   "outputs": [
    {
     "data": {
      "image/png": "[encoded data removed]",
      "text/latex": [
       "$$\\left[\\begin{matrix}1 & 1 & 0 & 0 & 0 & 0 & 0\\\\1 & 1 & 1 & 0 & 0 & 0 & 0\\\\1 & 2 & 1 & 1 & 0 & 0 & 0\\\\1 & 3 & 3 & 1 & 1 & 0 & 0\\\\1 & 4 & 6 & 4 & 1 & 1 & 0\\\\1 & 5 & 10 & 10 & 5 & 1 & 1\\\\1 & 6 & 15 & 20 & 15 & 6 & 1\\end{matrix}\\right]$$"
      ],
      "text/plain": [
       "⎡1  1  0   0   0   0  0⎤\n",
       "⎢                      ⎥\n",
       "⎢1  1  1   0   0   0  0⎥\n",
       "⎢                      ⎥\n",
       "⎢1  2  1   1   0   0  0⎥\n",
       "⎢                      ⎥\n",
       "⎢1  3  3   1   1   0  0⎥\n",
       "⎢                      ⎥\n",
       "⎢1  4  6   4   1   1  0⎥\n",
       "⎢                      ⎥\n",
       "⎢1  5  10  10  5   1  1⎥\n",
       "⎢                      ⎥\n",
       "⎣1  6  15  20  15  6  1⎦"
      ]
     },
     "execution_count": 28,
     "metadata": {},
     "output_type": "execute_result"
    }
   ],
   "source": [
    "production_matrix(P_exp.rhs.subs({alpha:1})) # faster than `production_matrix(P_exp.rhs).subs({alpha:1})`"
   ]
  },
  {
   "cell_type": "code",
   "execution_count": 30,
   "metadata": {
    "collapsed": false,
    "deletable": true,
    "editable": true
   },
   "outputs": [
    {
     "data": {
      "image/png": "[encoded data removed]",
      "text/latex": [
       "$$e^{\\alpha} \\left[\\begin{matrix}1 & 0 & 0 & 0 & 0 & 0 & 0 & 0\\\\\\alpha & 1 & 0 & 0 & 0 & 0 & 0 & 0\\\\\\alpha^{2} + \\alpha & 2 \\alpha & 1 & 0 & 0 & 0 & 0 & 0\\\\\\alpha^{3} + 3 \\alpha^{2} + \\alpha & 3 \\alpha^{2} + 3 \\alpha & 3 \\alpha & 1 & 0 & 0 & 0 & 0\\\\\\alpha^{4} + 6 \\alpha^{3} + 7 \\alpha^{2} + \\alpha & 4 \\alpha^{3} + 12 \\alpha^{2} + 4 \\alpha & 6 \\alpha^{2} + 6 \\alpha & 4 \\alpha & 1 & 0 & 0 & 0\\\\\\alpha^{5} + 10 \\alpha^{4} + 25 \\alpha^{3} + 15 \\alpha^{2} + \\alpha & 5 \\alpha^{4} + 30 \\alpha^{3} + 35 \\alpha^{2} + 5 \\alpha & 10 \\alpha^{3} + 30 \\alpha^{2} + 10 \\alpha & 10 \\alpha^{2} + 10 \\alpha & 5 \\alpha & 1 & 0 & 0\\\\\\alpha^{6} + 15 \\alpha^{5} + 65 \\alpha^{4} + 90 \\alpha^{3} + 31 \\alpha^{2} + \\alpha & 6 \\alpha^{5} + 60 \\alpha^{4} + 150 \\alpha^{3} + 90 \\alpha^{2} + 6 \\alpha & 15 \\alpha^{4} + 90 \\alpha^{3} + 105 \\alpha^{2} + 15 \\alpha & 20 \\alpha^{3} + 60 \\alpha^{2} + 20 \\alpha & 15 \\alpha^{2} + 15 \\alpha & 6 \\alpha & 1 & 0\\\\\\alpha^{7} + 21 \\alpha^{6} + 140 \\alpha^{5} + 350 \\alpha^{4} + 301 \\alpha^{3} + 63 \\alpha^{2} + \\alpha & 7 \\alpha^{6} + 105 \\alpha^{5} + 455 \\alpha^{4} + 630 \\alpha^{3} + 217 \\alpha^{2} + 7 \\alpha & 21 \\alpha^{5} + 210 \\alpha^{4} + 525 \\alpha^{3} + 315 \\alpha^{2} + 21 \\alpha & 35 \\alpha^{4} + 210 \\alpha^{3} + 245 \\alpha^{2} + 35 \\alpha & 35 \\alpha^{3} + 105 \\alpha^{2} + 35 \\alpha & 21 \\alpha^{2} + 21 \\alpha & 7 \\alpha & 1\\end{matrix}\\right]$$"
      ],
      "text/plain": [
       "   ⎡                        1                                                0\n",
       "   ⎢                                                                          \n",
       "   ⎢                        α                                                1\n",
       "   ⎢                                                                          \n",
       "   ⎢                      2                                                   \n",
       "   ⎢                     α  + α                                             2⋅\n",
       "   ⎢                                                                          \n",
       "   ⎢                   3      2                                             2 \n",
       "   ⎢                  α  + 3⋅α  + α                                      3⋅α  \n",
       " α ⎢                                                                          \n",
       "ℯ ⋅⎢               4      3      2                                      3     \n",
       "   ⎢              α  + 6⋅α  + 7⋅α  + α                               4⋅α  + 12\n",
       "   ⎢                                                                          \n",
       "   ⎢          5       4       3       2                             4       3 \n",
       "   ⎢         α  + 10⋅α  + 25⋅α  + 15⋅α  + α                      5⋅α  + 30⋅α  \n",
       "   ⎢                                                                          \n",
       "   ⎢      6       5       4       3       2                    5       4      \n",
       "   ⎢     α  + 15⋅α  + 65⋅α  + 90⋅α  + 31⋅α  + α             6⋅α  + 60⋅α  + 150\n",
       "   ⎢                                                                          \n",
       "   ⎢ 7       6        5        4        3       2         6        5        4 \n",
       "   ⎣α  + 21⋅α  + 140⋅α  + 350⋅α  + 301⋅α  + 63⋅α  + α  7⋅α  + 105⋅α  + 455⋅α  \n",
       "\n",
       "                                            0                                 \n",
       "                                                                              \n",
       "                                            0                                 \n",
       "                                                                              \n",
       "                                                                              \n",
       "α                                           1                                 \n",
       "                                                                              \n",
       "                                                                              \n",
       "+ 3⋅α                                      3⋅α                                \n",
       "                                                                              \n",
       "  2                                       2                                   \n",
       "⋅α  + 4⋅α                              6⋅α  + 6⋅α                             \n",
       "                                                                              \n",
       "      2                               3       2                               \n",
       "+ 35⋅α  + 5⋅α                     10⋅α  + 30⋅α  + 10⋅α                     10⋅\n",
       "                                                                              \n",
       "  3       2                       4       3        2                       3  \n",
       "⋅α  + 90⋅α  + 6⋅α             15⋅α  + 90⋅α  + 105⋅α  + 15⋅α            20⋅α  +\n",
       "                                                                              \n",
       "       3        2            5        4        3        2             4       \n",
       "+ 630⋅α  + 217⋅α  + 7⋅α  21⋅α  + 210⋅α  + 525⋅α  + 315⋅α  + 21⋅α  35⋅α  + 210⋅\n",
       "\n",
       "  0                           0                 0         0   0⎤\n",
       "                                                               ⎥\n",
       "  0                           0                 0         0   0⎥\n",
       "                                                               ⎥\n",
       "                                                               ⎥\n",
       "  0                           0                 0         0   0⎥\n",
       "                                                               ⎥\n",
       "                                                               ⎥\n",
       "  1                           0                 0         0   0⎥\n",
       "                                                               ⎥\n",
       "                                                               ⎥\n",
       " 4⋅α                          1                 0         0   0⎥\n",
       "                                                               ⎥\n",
       " 2                                                             ⎥\n",
       "α  + 10⋅α                    5⋅α                1         0   0⎥\n",
       "                                                               ⎥\n",
       "     2                      2                                  ⎥\n",
       " 60⋅α  + 20⋅α           15⋅α  + 15⋅α           6⋅α        1   0⎥\n",
       "                                                               ⎥\n",
       " 3        2             3        2             2               ⎥\n",
       "α  + 245⋅α  + 35⋅α  35⋅α  + 105⋅α  + 35⋅α  21⋅α  + 21⋅α  7⋅α  1⎦"
      ]
     },
     "execution_count": 30,
     "metadata": {},
     "output_type": "execute_result"
    }
   ],
   "source": [
    "simp_P_expt = Mul(exp(alpha), P_exp.rhs.applyfunc(lambda c: (c/exp(alpha)).expand()), evaluate=False)\n",
    "simp_P_expt"
   ]
  },
  {
   "cell_type": "code",
   "execution_count": 31,
   "metadata": {
    "collapsed": false,
    "deletable": true,
    "editable": true
   },
   "outputs": [
    {
     "data": {
      "image/png": "[encoded data removed]",
      "text/latex": [
       "$$e \\left[\\begin{matrix}1 & 0 & 0 & 0 & 0 & 0 & 0 & 0\\\\1 & 1 & 0 & 0 & 0 & 0 & 0 & 0\\\\2 & 2 & 1 & 0 & 0 & 0 & 0 & 0\\\\5 & 6 & 3 & 1 & 0 & 0 & 0 & 0\\\\15 & 20 & 12 & 4 & 1 & 0 & 0 & 0\\\\52 & 75 & 50 & 20 & 5 & 1 & 0 & 0\\\\203 & 312 & 225 & 100 & 30 & 6 & 1 & 0\\\\877 & 1421 & 1092 & 525 & 175 & 42 & 7 & 1\\end{matrix}\\right]$$"
      ],
      "text/plain": [
       "  ⎡ 1    0     0     0    0   0   0  0⎤\n",
       "  ⎢                                   ⎥\n",
       "  ⎢ 1    1     0     0    0   0   0  0⎥\n",
       "  ⎢                                   ⎥\n",
       "  ⎢ 2    2     1     0    0   0   0  0⎥\n",
       "  ⎢                                   ⎥\n",
       "  ⎢ 5    6     3     1    0   0   0  0⎥\n",
       "ℯ⋅⎢                                   ⎥\n",
       "  ⎢15    20    12    4    1   0   0  0⎥\n",
       "  ⎢                                   ⎥\n",
       "  ⎢52    75    50   20    5   1   0  0⎥\n",
       "  ⎢                                   ⎥\n",
       "  ⎢203  312   225   100  30   6   1  0⎥\n",
       "  ⎢                                   ⎥\n",
       "  ⎣877  1421  1092  525  175  42  7  1⎦"
      ]
     },
     "execution_count": 31,
     "metadata": {},
     "output_type": "execute_result"
    }
   ],
   "source": [
    "simp_P_expt.subs({alpha:1})"
   ]
  },
  {
   "cell_type": "code",
   "execution_count": 32,
   "metadata": {
    "collapsed": true,
    "deletable": true,
    "editable": true
   },
   "outputs": [],
   "source": [
    "from sympy.functions.combinatorial.numbers import stirling"
   ]
  },
  {
   "cell_type": "code",
   "execution_count": 35,
   "metadata": {
    "collapsed": false,
    "deletable": true,
    "editable": true
   },
   "outputs": [
    {
     "data": {
      "image/png": "[encoded data removed]",
      "text/latex": [
       "$$\\left ( S = \\left[\\begin{matrix}1 & 0 & 0 & 0 & 0 & 0 & 0 & 0\\\\0 & 1 & 0 & 0 & 0 & 0 & 0 & 0\\\\0 & 1 & 1 & 0 & 0 & 0 & 0 & 0\\\\0 & 1 & 3 & 1 & 0 & 0 & 0 & 0\\\\0 & 1 & 7 & 6 & 1 & 0 & 0 & 0\\\\0 & 1 & 15 & 25 & 10 & 1 & 0 & 0\\\\0 & 1 & 31 & 90 & 65 & 15 & 1 & 0\\\\0 & 1 & 63 & 301 & 350 & 140 & 21 & 1\\end{matrix}\\right], \\quad \\left[\\begin{matrix}0 & 1 & 0 & 0 & 0 & 0 & 0\\\\0 & 1 & 1 & 0 & 0 & 0 & 0\\\\0 & 0 & 2 & 1 & 0 & 0 & 0\\\\0 & 0 & 0 & 3 & 1 & 0 & 0\\\\0 & 0 & 0 & 0 & 4 & 1 & 0\\\\0 & 0 & 0 & 0 & 0 & 5 & 1\\\\0 & 0 & 0 & 0 & 0 & 0 & 6\\end{matrix}\\right], \\quad \\left[\\begin{matrix}0 & 1 & 0 & 0 & 0 & 0 & 0\\\\0 & 1 & 2 & 0 & 0 & 0 & 0\\\\0 & 0 & 2 & 3 & 0 & 0 & 0\\\\0 & 0 & 0 & 3 & 4 & 0 & 0\\\\0 & 0 & 0 & 0 & 4 & 5 & 0\\\\0 & 0 & 0 & 0 & 0 & 5 & 6\\\\0 & 0 & 0 & 0 & 0 & 0 & 6\\end{matrix}\\right]\\right )$$"
      ],
      "text/plain": [
       "⎛    ⎡1  0  0    0    0    0   0   0⎤                                         \n",
       "⎜    ⎢                              ⎥  ⎡0  1  0  0  0  0  0⎤  ⎡0  1  0  0  0  \n",
       "⎜    ⎢0  1  0    0    0    0   0   0⎥  ⎢                   ⎥  ⎢               \n",
       "⎜    ⎢                              ⎥  ⎢0  1  1  0  0  0  0⎥  ⎢0  1  2  0  0  \n",
       "⎜    ⎢0  1  1    0    0    0   0   0⎥  ⎢                   ⎥  ⎢               \n",
       "⎜    ⎢                              ⎥  ⎢0  0  2  1  0  0  0⎥  ⎢0  0  2  3  0  \n",
       "⎜    ⎢0  1  3    1    0    0   0   0⎥  ⎢                   ⎥  ⎢               \n",
       "⎜S = ⎢                              ⎥, ⎢0  0  0  3  1  0  0⎥, ⎢0  0  0  3  4  \n",
       "⎜    ⎢0  1  7    6    1    0   0   0⎥  ⎢                   ⎥  ⎢               \n",
       "⎜    ⎢                              ⎥  ⎢0  0  0  0  4  1  0⎥  ⎢0  0  0  0  4  \n",
       "⎜    ⎢0  1  15  25   10    1   0   0⎥  ⎢                   ⎥  ⎢               \n",
       "⎜    ⎢                              ⎥  ⎢0  0  0  0  0  5  1⎥  ⎢0  0  0  0  0  \n",
       "⎜    ⎢0  1  31  90   65   15   1   0⎥  ⎢                   ⎥  ⎢               \n",
       "⎜    ⎢                              ⎥  ⎣0  0  0  0  0  0  6⎦  ⎣0  0  0  0  0  \n",
       "⎝    ⎣0  1  63  301  350  140  21  1⎦                                         \n",
       "\n",
       "     ⎞\n",
       "0  0⎤⎟\n",
       "    ⎥⎟\n",
       "0  0⎥⎟\n",
       "    ⎥⎟\n",
       "0  0⎥⎟\n",
       "    ⎥⎟\n",
       "0  0⎥⎟\n",
       "    ⎥⎟\n",
       "5  0⎥⎟\n",
       "    ⎥⎟\n",
       "5  6⎥⎟\n",
       "    ⎥⎟\n",
       "0  6⎦⎟\n",
       "     ⎠"
      ]
     },
     "execution_count": 35,
     "metadata": {},
     "output_type": "execute_result"
    }
   ],
   "source": [
    "S = Matrix(m, m, lambda n,k: stirling(n,k, kind=2))\n",
    "define(Symbol('S'), S), production_matrix(S), production_matrix(S, exp=True)"
   ]
  },
  {
   "cell_type": "code",
   "execution_count": 36,
   "metadata": {
    "collapsed": false,
    "deletable": true,
    "editable": true
   },
   "outputs": [
    {
     "data": {
      "image/png": "[encoded data removed]",
      "text/latex": [
       "$$\\left ( \\left[\\begin{matrix}1 & 0 & 0 & 0 & 0 & 0 & 0 & 0\\\\1 & 1 & 0 & 0 & 0 & 0 & 0 & 0\\\\2 & 2 & 1 & 0 & 0 & 0 & 0 & 0\\\\5 & 6 & 3 & 1 & 0 & 0 & 0 & 0\\\\15 & 20 & 12 & 4 & 1 & 0 & 0 & 0\\\\52 & 75 & 50 & 20 & 5 & 1 & 0 & 0\\\\203 & 312 & 225 & 100 & 30 & 6 & 1 & 0\\\\877 & 1421 & 1092 & 525 & 175 & 42 & 7 & 1\\end{matrix}\\right], \\quad \\left[\\begin{matrix}1 & 0 & 0 & 0 & 0 & 0 & 0 & 0\\\\1 & 1 & 0 & 0 & 0 & 0 & 0 & 0\\\\0 & 2 & 1 & 0 & 0 & 0 & 0 & 0\\\\0 & 0 & 3 & 1 & 0 & 0 & 0 & 0\\\\0 & 0 & 0 & 4 & 1 & 0 & 0 & 0\\\\0 & 0 & 0 & 0 & 5 & 1 & 0 & 0\\\\0 & 0 & 0 & 0 & 0 & 6 & 1 & 0\\\\0 & 0 & 0 & 0 & 0 & 0 & 7 & 1\\end{matrix}\\right]\\right )$$"
      ],
      "text/plain": [
       "⎛⎡ 1    0     0     0    0   0   0  0⎤  ⎡1  0  0  0  0  0  0  0⎤⎞\n",
       "⎜⎢                                   ⎥  ⎢                      ⎥⎟\n",
       "⎜⎢ 1    1     0     0    0   0   0  0⎥  ⎢1  1  0  0  0  0  0  0⎥⎟\n",
       "⎜⎢                                   ⎥  ⎢                      ⎥⎟\n",
       "⎜⎢ 2    2     1     0    0   0   0  0⎥  ⎢0  2  1  0  0  0  0  0⎥⎟\n",
       "⎜⎢                                   ⎥  ⎢                      ⎥⎟\n",
       "⎜⎢ 5    6     3     1    0   0   0  0⎥  ⎢0  0  3  1  0  0  0  0⎥⎟\n",
       "⎜⎢                                   ⎥, ⎢                      ⎥⎟\n",
       "⎜⎢15    20    12    4    1   0   0  0⎥  ⎢0  0  0  4  1  0  0  0⎥⎟\n",
       "⎜⎢                                   ⎥  ⎢                      ⎥⎟\n",
       "⎜⎢52    75    50   20    5   1   0  0⎥  ⎢0  0  0  0  5  1  0  0⎥⎟\n",
       "⎜⎢                                   ⎥  ⎢                      ⎥⎟\n",
       "⎜⎢203  312   225   100  30   6   1  0⎥  ⎢0  0  0  0  0  6  1  0⎥⎟\n",
       "⎜⎢                                   ⎥  ⎢                      ⎥⎟\n",
       "⎝⎣877  1421  1092  525  175  42  7  1⎦  ⎣0  0  0  0  0  0  7  1⎦⎠"
      ]
     },
     "execution_count": 36,
     "metadata": {},
     "output_type": "execute_result"
    }
   ],
   "source": [
    "S*P.rhs*S**(-1), S**(-1)*P.rhs*S"
   ]
  },
  {
   "cell_type": "markdown",
   "metadata": {
    "deletable": true,
    "editable": true
   },
   "source": [
    "## `log` function"
   ]
  },
  {
   "cell_type": "code",
   "execution_count": 9,
   "metadata": {
    "collapsed": false,
    "deletable": true,
    "editable": true
   },
   "outputs": [],
   "source": [
    "f_log, g_log, G_log = functions_catalog.log(eigendata, Phi_polynomials)"
   ]
  },
  {
   "cell_type": "code",
   "execution_count": 10,
   "metadata": {
    "collapsed": false,
    "deletable": true,
    "editable": true
   },
   "outputs": [
    {
     "data": {
      "image/png": "[encoded data removed]",
      "text/latex": [
       "$$\\operatorname{L_{ 8 }}{\\left (\\mathcal{P}_{8} \\right )} = \\left[\\begin{matrix}0 & 0 & 0 & 0 & 0 & 0 & 0 & 0\\\\1 & 0 & 0 & 0 & 0 & 0 & 0 & 0\\\\0 & 2 & 0 & 0 & 0 & 0 & 0 & 0\\\\0 & 0 & 3 & 0 & 0 & 0 & 0 & 0\\\\0 & 0 & 0 & 4 & 0 & 0 & 0 & 0\\\\0 & 0 & 0 & 0 & 5 & 0 & 0 & 0\\\\0 & 0 & 0 & 0 & 0 & 6 & 0 & 0\\\\0 & 0 & 0 & 0 & 0 & 0 & 7 & 0\\end{matrix}\\right]$$"
      ],
      "text/plain": [
       "                          ⎡0  0  0  0  0  0  0  0⎤\n",
       "                          ⎢                      ⎥\n",
       "                          ⎢1  0  0  0  0  0  0  0⎥\n",
       "                          ⎢                      ⎥\n",
       "                          ⎢0  2  0  0  0  0  0  0⎥\n",
       "                          ⎢                      ⎥\n",
       "                          ⎢0  0  3  0  0  0  0  0⎥\n",
       "L_{ 8 }(\\mathcal{P}[8]) = ⎢                      ⎥\n",
       "                          ⎢0  0  0  4  0  0  0  0⎥\n",
       "                          ⎢                      ⎥\n",
       "                          ⎢0  0  0  0  5  0  0  0⎥\n",
       "                          ⎢                      ⎥\n",
       "                          ⎢0  0  0  0  0  6  0  0⎥\n",
       "                          ⎢                      ⎥\n",
       "                          ⎣0  0  0  0  0  0  7  0⎦"
      ]
     },
     "execution_count": 10,
     "metadata": {},
     "output_type": "execute_result"
    }
   ],
   "source": [
    "P_log = G_log(P)\n",
    "P_log"
   ]
  },
  {
   "cell_type": "code",
   "execution_count": 39,
   "metadata": {
    "collapsed": false,
    "deletable": true,
    "editable": true
   },
   "outputs": [
    {
     "data": {
      "text/plain": [
       "nature(is_ordinary=False, is_exponential=True)"
      ]
     },
     "execution_count": 39,
     "metadata": {},
     "output_type": "execute_result"
    }
   ],
   "source": [
    "inspect(P_log.rhs[1:,:-1])"
   ]
  },
  {
   "cell_type": "code",
   "execution_count": 40,
   "metadata": {
    "collapsed": false,
    "deletable": true,
    "editable": true
   },
   "outputs": [
    {
     "data": {
      "image/png": "[encoded data removed]",
      "text/latex": [
       "$$\\left[\\begin{matrix}0 & 2 & 0 & 0 & 0 & 0\\\\0 & 0 & \\frac{3}{2} & 0 & 0 & 0\\\\0 & 0 & 0 & \\frac{4}{3} & 0 & 0\\\\0 & 0 & 0 & 0 & \\frac{5}{4} & 0\\\\0 & 0 & 0 & 0 & 0 & \\frac{6}{5}\\\\0 & 0 & 0 & 0 & 0 & 0\\end{matrix}\\right]$$"
      ],
      "text/plain": [
       "⎡0  2   0    0    0    0 ⎤\n",
       "⎢                        ⎥\n",
       "⎢0  0  3/2   0    0    0 ⎥\n",
       "⎢                        ⎥\n",
       "⎢0  0   0   4/3   0    0 ⎥\n",
       "⎢                        ⎥\n",
       "⎢0  0   0    0   5/4   0 ⎥\n",
       "⎢                        ⎥\n",
       "⎢0  0   0    0    0   6/5⎥\n",
       "⎢                        ⎥\n",
       "⎣0  0   0    0    0    0 ⎦"
      ]
     },
     "execution_count": 40,
     "metadata": {},
     "output_type": "execute_result"
    }
   ],
   "source": [
    "production_matrix(P_log.rhs[1:,:-1])"
   ]
  },
  {
   "cell_type": "markdown",
   "metadata": {
    "deletable": true,
    "editable": true
   },
   "source": [
    "## `sin` function"
   ]
  },
  {
   "cell_type": "code",
   "execution_count": 41,
   "metadata": {
    "collapsed": false,
    "deletable": true,
    "editable": true
   },
   "outputs": [],
   "source": [
    "f_sin, g_sin, G_sin = functions_catalog.sin(eigendata, Phi_polynomials)"
   ]
  },
  {
   "cell_type": "code",
   "execution_count": 42,
   "metadata": {
    "collapsed": false,
    "deletable": true,
    "editable": true
   },
   "outputs": [
    {
     "data": {
      "image/png": "[encoded data removed]",
      "text/latex": [
       "$$\\operatorname{S_{ 8 }}{\\left (\\mathcal{P}_{8} \\right )} = \\left[\\begin{matrix}\\sin{\\left (1 \\right )} & 0 & 0 & 0 & 0 & 0 & 0 & 0\\\\\\cos{\\left (1 \\right )} & \\sin{\\left (1 \\right )} & 0 & 0 & 0 & 0 & 0 & 0\\\\- \\sin{\\left (1 \\right )} + \\cos{\\left (1 \\right )} & 2 \\cos{\\left (1 \\right )} & \\sin{\\left (1 \\right )} & 0 & 0 & 0 & 0 & 0\\\\- 3 \\sin{\\left (1 \\right )} & 3 \\sqrt{2} \\cos{\\left (\\frac{\\pi}{4} + 1 \\right )} & 3 \\cos{\\left (1 \\right )} & \\sin{\\left (1 \\right )} & 0 & 0 & 0 & 0\\\\- 6 \\sin{\\left (1 \\right )} - 5 \\cos{\\left (1 \\right )} & - 12 \\sin{\\left (1 \\right )} & 6 \\sqrt{2} \\cos{\\left (\\frac{\\pi}{4} + 1 \\right )} & 4 \\cos{\\left (1 \\right )} & \\sin{\\left (1 \\right )} & 0 & 0 & 0\\\\- 23 \\cos{\\left (1 \\right )} - 5 \\sin{\\left (1 \\right )} & - 30 \\sin{\\left (1 \\right )} - 25 \\cos{\\left (1 \\right )} & - 30 \\sin{\\left (1 \\right )} & 10 \\sqrt{2} \\cos{\\left (\\frac{\\pi}{4} + 1 \\right )} & 5 \\cos{\\left (1 \\right )} & \\sin{\\left (1 \\right )} & 0 & 0\\\\- 74 \\cos{\\left (1 \\right )} + 33 \\sin{\\left (1 \\right )} & - 138 \\cos{\\left (1 \\right )} - 30 \\sin{\\left (1 \\right )} & - 90 \\sin{\\left (1 \\right )} - 75 \\cos{\\left (1 \\right )} & - 60 \\sin{\\left (1 \\right )} & 15 \\sqrt{2} \\cos{\\left (\\frac{\\pi}{4} + 1 \\right )} & 6 \\cos{\\left (1 \\right )} & \\sin{\\left (1 \\right )} & 0\\\\- 161 \\cos{\\left (1 \\right )} + 266 \\sin{\\left (1 \\right )} & - 518 \\cos{\\left (1 \\right )} + 231 \\sin{\\left (1 \\right )} & - 483 \\cos{\\left (1 \\right )} - 105 \\sin{\\left (1 \\right )} & - 210 \\sin{\\left (1 \\right )} - 175 \\cos{\\left (1 \\right )} & - 105 \\sin{\\left (1 \\right )} & 21 \\sqrt{2} \\cos{\\left (\\frac{\\pi}{4} + 1 \\right )} & 7 \\cos{\\left (1 \\right )} & \\sin{\\left (1 \\right )}\\end{matrix}\\right]$$"
      ],
      "text/plain": [
       "                          ⎡         sin(1)                      0             \n",
       "                          ⎢                                                   \n",
       "                          ⎢         cos(1)                    sin(1)          \n",
       "                          ⎢                                                   \n",
       "                          ⎢    -sin(1) + cos(1)              2⋅cos(1)         \n",
       "                          ⎢                                                   \n",
       "                          ⎢                                      ⎛π    ⎞      \n",
       "                          ⎢       -3⋅sin(1)              3⋅√2⋅cos⎜─ + 1⎟      \n",
       "                          ⎢                                      ⎝4    ⎠      \n",
       "                          ⎢                                                   \n",
       "                          ⎢                                                   \n",
       "                          ⎢  -6⋅sin(1) - 5⋅cos(1)           -12⋅sin(1)        \n",
       "S_{ 8 }(\\mathcal{P}[8]) = ⎢                                                   \n",
       "                          ⎢                                                   \n",
       "                          ⎢                                                   \n",
       "                          ⎢ -23⋅cos(1) - 5⋅sin(1)     -30⋅sin(1) - 25⋅cos(1)  \n",
       "                          ⎢                                                   \n",
       "                          ⎢                                                   \n",
       "                          ⎢                                                   \n",
       "                          ⎢ -74⋅cos(1) + 33⋅sin(1)   -138⋅cos(1) - 30⋅sin(1)  \n",
       "                          ⎢                                                   \n",
       "                          ⎢                                                   \n",
       "                          ⎢                                                   \n",
       "                          ⎢-161⋅cos(1) + 266⋅sin(1)  -518⋅cos(1) + 231⋅sin(1) \n",
       "                          ⎣                                                   \n",
       "\n",
       "            0                         0                     0                 \n",
       "                                                                              \n",
       "            0                         0                     0                 \n",
       "                                                                              \n",
       "          sin(1)                      0                     0                 \n",
       "                                                                              \n",
       "                                                                              \n",
       "         3⋅cos(1)                   sin(1)                  0                 \n",
       "                                                                              \n",
       "                                                                              \n",
       "             ⎛π    ⎞                                                          \n",
       "     6⋅√2⋅cos⎜─ + 1⎟               4⋅cos(1)               sin(1)              \n",
       "             ⎝4    ⎠                                                          \n",
       "                                                                              \n",
       "                                        ⎛π    ⎞                               \n",
       "        -30⋅sin(1)             10⋅√2⋅cos⎜─ + 1⎟          5⋅cos(1)           si\n",
       "                                        ⎝4    ⎠                               \n",
       "                                                                              \n",
       "                                                              ⎛π    ⎞         \n",
       "  -90⋅sin(1) - 75⋅cos(1)          -60⋅sin(1)         15⋅√2⋅cos⎜─ + 1⎟      6⋅c\n",
       "                                                              ⎝4    ⎠         \n",
       "                                                                              \n",
       "                                                                              \n",
       " -483⋅cos(1) - 105⋅sin(1)  -210⋅sin(1) - 175⋅cos(1)    -105⋅sin(1)     21⋅√2⋅c\n",
       "                                                                              \n",
       "\n",
       "0             0        0   ⎤\n",
       "                           ⎥\n",
       "0             0        0   ⎥\n",
       "                           ⎥\n",
       "0             0        0   ⎥\n",
       "                           ⎥\n",
       "                           ⎥\n",
       "0             0        0   ⎥\n",
       "                           ⎥\n",
       "                           ⎥\n",
       "                           ⎥\n",
       "0             0        0   ⎥\n",
       "                           ⎥\n",
       "                           ⎥\n",
       "                           ⎥\n",
       "n(1)          0        0   ⎥\n",
       "                           ⎥\n",
       "                           ⎥\n",
       "                           ⎥\n",
       "os(1)       sin(1)     0   ⎥\n",
       "                           ⎥\n",
       "                           ⎥\n",
       "  ⎛π    ⎞                  ⎥\n",
       "os⎜─ + 1⎟  7⋅cos(1)  sin(1)⎥\n",
       "  ⎝4    ⎠                  ⎦"
      ]
     },
     "execution_count": 42,
     "metadata": {},
     "output_type": "execute_result"
    }
   ],
   "source": [
    "P_sin = G_sin(P)    \n",
    "P_sin"
   ]
  },
  {
   "cell_type": "code",
   "execution_count": null,
   "metadata": {
    "collapsed": false,
    "deletable": true,
    "editable": true
   },
   "outputs": [],
   "source": [
    "production_matrix(P_sin.rhs).applyfunc(simplify) # takes long to evaluate"
   ]
  },
  {
   "cell_type": "markdown",
   "metadata": {
    "deletable": true,
    "editable": true
   },
   "source": [
    "## `cos` function"
   ]
  },
  {
   "cell_type": "code",
   "execution_count": 43,
   "metadata": {
    "collapsed": false,
    "deletable": true,
    "editable": true
   },
   "outputs": [],
   "source": [
    "f_cos, g_cos, G_cos = functions_catalog.cos(eigendata, Phi_polynomials)"
   ]
  },
  {
   "cell_type": "code",
   "execution_count": 44,
   "metadata": {
    "collapsed": false,
    "deletable": true,
    "editable": true
   },
   "outputs": [
    {
     "data": {
      "image/png": "[encoded data removed]",
      "text/latex": [
       "$$\\operatorname{C_{ 8 }}{\\left (\\mathcal{P}_{8} \\right )} = \\left[\\begin{matrix}\\cos{\\left (1 \\right )} & 0 & 0 & 0 & 0 & 0 & 0 & 0\\\\- \\sin{\\left (1 \\right )} & \\cos{\\left (1 \\right )} & 0 & 0 & 0 & 0 & 0 & 0\\\\- \\sin{\\left (1 \\right )} - \\cos{\\left (1 \\right )} & - 2 \\sin{\\left (1 \\right )} & \\cos{\\left (1 \\right )} & 0 & 0 & 0 & 0 & 0\\\\- 3 \\cos{\\left (1 \\right )} & - 3 \\sqrt{2} \\sin{\\left (\\frac{\\pi}{4} + 1 \\right )} & - 3 \\sin{\\left (1 \\right )} & \\cos{\\left (1 \\right )} & 0 & 0 & 0 & 0\\\\- 6 \\cos{\\left (1 \\right )} + 5 \\sin{\\left (1 \\right )} & - 12 \\cos{\\left (1 \\right )} & - 6 \\sqrt{2} \\sin{\\left (\\frac{\\pi}{4} + 1 \\right )} & - 4 \\sin{\\left (1 \\right )} & \\cos{\\left (1 \\right )} & 0 & 0 & 0\\\\- 5 \\cos{\\left (1 \\right )} + 23 \\sin{\\left (1 \\right )} & - 30 \\cos{\\left (1 \\right )} + 25 \\sin{\\left (1 \\right )} & - 30 \\cos{\\left (1 \\right )} & - 10 \\sqrt{2} \\sin{\\left (\\frac{\\pi}{4} + 1 \\right )} & - 5 \\sin{\\left (1 \\right )} & \\cos{\\left (1 \\right )} & 0 & 0\\\\33 \\cos{\\left (1 \\right )} + 74 \\sin{\\left (1 \\right )} & - 30 \\cos{\\left (1 \\right )} + 138 \\sin{\\left (1 \\right )} & - 90 \\cos{\\left (1 \\right )} + 75 \\sin{\\left (1 \\right )} & - 60 \\cos{\\left (1 \\right )} & - 15 \\sqrt{2} \\sin{\\left (\\frac{\\pi}{4} + 1 \\right )} & - 6 \\sin{\\left (1 \\right )} & \\cos{\\left (1 \\right )} & 0\\\\161 \\sin{\\left (1 \\right )} + 266 \\cos{\\left (1 \\right )} & 231 \\cos{\\left (1 \\right )} + 518 \\sin{\\left (1 \\right )} & - 105 \\cos{\\left (1 \\right )} + 483 \\sin{\\left (1 \\right )} & - 210 \\cos{\\left (1 \\right )} + 175 \\sin{\\left (1 \\right )} & - 105 \\cos{\\left (1 \\right )} & - 21 \\sqrt{2} \\sin{\\left (\\frac{\\pi}{4} + 1 \\right )} & - 7 \\sin{\\left (1 \\right )} & \\cos{\\left (1 \\right )}\\end{matrix}\\right]$$"
      ],
      "text/plain": [
       "                          ⎡        cos(1)                      0              \n",
       "                          ⎢                                                   \n",
       "                          ⎢        -sin(1)                  cos(1)            \n",
       "                          ⎢                                                   \n",
       "                          ⎢   -sin(1) - cos(1)             -2⋅sin(1)          \n",
       "                          ⎢                                                   \n",
       "                          ⎢                                     ⎛π    ⎞       \n",
       "                          ⎢       -3⋅cos(1)            -3⋅√2⋅sin⎜─ + 1⎟       \n",
       "                          ⎢                                     ⎝4    ⎠       \n",
       "                          ⎢                                                   \n",
       "                          ⎢                                                   \n",
       "                          ⎢ -6⋅cos(1) + 5⋅sin(1)          -12⋅cos(1)          \n",
       "C_{ 8 }(\\mathcal{P}[8]) = ⎢                                                   \n",
       "                          ⎢                                                   \n",
       "                          ⎢                                                   \n",
       "                          ⎢ -5⋅cos(1) + 23⋅sin(1)   -30⋅cos(1) + 25⋅sin(1)    \n",
       "                          ⎢                                                   \n",
       "                          ⎢                                                   \n",
       "                          ⎢                                                   \n",
       "                          ⎢ 33⋅cos(1) + 74⋅sin(1)   -30⋅cos(1) + 138⋅sin(1)   \n",
       "                          ⎢                                                   \n",
       "                          ⎢                                                   \n",
       "                          ⎢                                                   \n",
       "                          ⎢161⋅sin(1) + 266⋅cos(1)  231⋅cos(1) + 518⋅sin(1)  -\n",
       "                          ⎣                                                   \n",
       "\n",
       "          0                         0                      0                  \n",
       "                                                                              \n",
       "          0                         0                      0                  \n",
       "                                                                              \n",
       "        cos(1)                      0                      0                  \n",
       "                                                                              \n",
       "                                                                              \n",
       "      -3⋅sin(1)                   cos(1)                   0                  \n",
       "                                                                              \n",
       "                                                                              \n",
       "            ⎛π    ⎞                                                           \n",
       "   -6⋅√2⋅sin⎜─ + 1⎟             -4⋅sin(1)               cos(1)                \n",
       "            ⎝4    ⎠                                                           \n",
       "                                                                              \n",
       "                                      ⎛π    ⎞                                 \n",
       "      -30⋅cos(1)            -10⋅√2⋅sin⎜─ + 1⎟          -5⋅sin(1)           cos\n",
       "                                      ⎝4    ⎠                                 \n",
       "                                                                              \n",
       "                                                             ⎛π    ⎞          \n",
       "-90⋅cos(1) + 75⋅sin(1)          -60⋅cos(1)         -15⋅√2⋅sin⎜─ + 1⎟      -6⋅s\n",
       "                                                             ⎝4    ⎠          \n",
       "                                                                              \n",
       "                                                                              \n",
       "105⋅cos(1) + 483⋅sin(1)  -210⋅cos(1) + 175⋅sin(1)     -105⋅cos(1)     -21⋅√2⋅s\n",
       "                                                                              \n",
       "\n",
       "0              0        0   ⎤\n",
       "                            ⎥\n",
       "0              0        0   ⎥\n",
       "                            ⎥\n",
       "0              0        0   ⎥\n",
       "                            ⎥\n",
       "                            ⎥\n",
       "0              0        0   ⎥\n",
       "                            ⎥\n",
       "                            ⎥\n",
       "                            ⎥\n",
       "0              0        0   ⎥\n",
       "                            ⎥\n",
       "                            ⎥\n",
       "                            ⎥\n",
       "(1)            0        0   ⎥\n",
       "                            ⎥\n",
       "                            ⎥\n",
       "                            ⎥\n",
       "in(1)       cos(1)      0   ⎥\n",
       "                            ⎥\n",
       "                            ⎥\n",
       "  ⎛π    ⎞                   ⎥\n",
       "in⎜─ + 1⎟  -7⋅sin(1)  cos(1)⎥\n",
       "  ⎝4    ⎠                   ⎦"
      ]
     },
     "execution_count": 44,
     "metadata": {},
     "output_type": "execute_result"
    }
   ],
   "source": [
    "P_cos = G_cos(P)    \n",
    "P_cos"
   ]
  },
  {
   "cell_type": "code",
   "execution_count": null,
   "metadata": {
    "collapsed": false,
    "deletable": true,
    "editable": true
   },
   "outputs": [],
   "source": [
    "production_matrix(P_sin).applyfunc(simplify) # takes long to evaluate"
   ]
  },
  {
   "cell_type": "code",
   "execution_count": 45,
   "metadata": {
    "collapsed": false,
    "deletable": true,
    "editable": true
   },
   "outputs": [],
   "source": [
    "assert (P_sin.rhs**2 + P_cos.rhs**2).applyfunc(trigsimp) == Matrix(m,m, identity_matrix()) # sin^2 + cos^2 = 1"
   ]
  },
  {
   "cell_type": "markdown",
   "metadata": {
    "deletable": true,
    "editable": true
   },
   "source": [
    "---\n",
    "<a rel=\"license\" href=\"http://creativecommons.org/licenses/by-nc-sa/4.0/\"><img alt=\"Creative Commons License\" style=\"border-width:0\" src=\"https://i.creativecommons.org/l/by-nc-sa/4.0/88x31.png\" /></a><br />This work is licensed under a <a rel=\"license\" href=\"http://creativecommons.org/licenses/by-nc-sa/4.0/\">Creative Commons Attribution-NonCommercial-ShareAlike 4.0 International License</a>."
   ]
  }
 ],
 "metadata": {
  "kernelspec": {
   "display_name": "Python 3",
   "language": "python",
   "name": "python3"
  },
  "language_info": {
   "codemirror_mode": {
    "name": "ipython",
    "version": 3
   },
   "file_extension": ".py",
   "mimetype": "text/x-python",
   "name": "python",
   "nbconvert_exporter": "python",
   "pygments_lexer": "ipython3",
   "version": "3.6.0"
  }
 },
 "nbformat": 4,
 "nbformat_minor": 1
}
