{
 "cells": [
  {
   "cell_type": "markdown",
   "metadata": {
    "deletable": true,
    "editable": true
   },
   "source": [
    "<p>\n",
    "<img src=\"http://www.cerm.unifi.it/chianti/images/logo%20unifi_positivo.jpg\" \n",
    "        alt=\"UniFI logo\" style=\"float: left; width: 20%; height: 20%;\">\n",
    "<div align=\"right\">\n",
    "Massimo Nocentini<br>\n",
    "<small>\n",
    "<br>November 18, 2016: `log` $g$ poly\n",
    "<br>November 16, 2016: `expt` $g$ poly and $H$ matrix\n",
    "<br>November 9, 2016: splitting from \"big\" notebook\n",
    "</small>\n",
    "</div>\n",
    "</p>\n",
    "<br>\n",
    "<br>\n",
    "<div align=\"center\">\n",
    "<b>Abstract</b><br>\n",
    "Theory of matrix functions, with applications to Pascal array $\\mathcal{P}$.\n",
    "</div>"
   ]
  },
  {
   "cell_type": "code",
   "execution_count": 1,
   "metadata": {
    "collapsed": true,
    "deletable": true,
    "editable": true
   },
   "outputs": [],
   "source": [
    "from sympy import *\n",
    "from sympy.abc import n, i, N, x, lamda, phi, z, j, r, k, a, alpha, beta\n",
    "\n",
    "init_printing()"
   ]
  },
  {
   "cell_type": "code",
   "execution_count": 16,
   "metadata": {
    "collapsed": true,
    "deletable": true,
    "editable": true
   },
   "outputs": [],
   "source": [
    "%run ../../src/matrix_functions.py"
   ]
  },
  {
   "cell_type": "code",
   "execution_count": 61,
   "metadata": {
    "collapsed": true,
    "deletable": true,
    "editable": true
   },
   "outputs": [],
   "source": [
    "%run ../../src/sequences.py"
   ]
  },
  {
   "cell_type": "markdown",
   "metadata": {
    "deletable": true,
    "editable": true
   },
   "source": [
    "# Pascal array $\\mathcal{P}$"
   ]
  },
  {
   "cell_type": "code",
   "execution_count": 3,
   "metadata": {
    "collapsed": true,
    "deletable": true,
    "editable": true
   },
   "outputs": [],
   "source": [
    "m=8"
   ]
  },
  {
   "cell_type": "code",
   "execution_count": 75,
   "metadata": {
    "collapsed": false,
    "deletable": true,
    "editable": true
   },
   "outputs": [
    {
     "data": {
      "image/png": "[encoded data removed]",
      "text/latex": [
       "$$\\left[\\begin{matrix}1 & 0 & 0 & 0 & 0 & 0 & 0 & 0\\\\1 & 1 & 0 & 0 & 0 & 0 & 0 & 0\\\\1 & 2 & 1 & 0 & 0 & 0 & 0 & 0\\\\1 & 3 & 3 & 1 & 0 & 0 & 0 & 0\\\\1 & 4 & 6 & 4 & 1 & 0 & 0 & 0\\\\1 & 5 & 10 & 10 & 5 & 1 & 0 & 0\\\\1 & 6 & 15 & 20 & 15 & 6 & 1 & 0\\\\1 & 7 & 21 & 35 & 35 & 21 & 7 & 1\\end{matrix}\\right]$$"
      ],
      "text/plain": [
       "⎡1  0  0   0   0   0   0  0⎤\n",
       "⎢                          ⎥\n",
       "⎢1  1  0   0   0   0   0  0⎥\n",
       "⎢                          ⎥\n",
       "⎢1  2  1   0   0   0   0  0⎥\n",
       "⎢                          ⎥\n",
       "⎢1  3  3   1   0   0   0  0⎥\n",
       "⎢                          ⎥\n",
       "⎢1  4  6   4   1   0   0  0⎥\n",
       "⎢                          ⎥\n",
       "⎢1  5  10  10  5   1   0  0⎥\n",
       "⎢                          ⎥\n",
       "⎢1  6  15  20  15  6   1  0⎥\n",
       "⎢                          ⎥\n",
       "⎣1  7  21  35  35  21  7  1⎦"
      ]
     },
     "execution_count": 75,
     "metadata": {},
     "output_type": "execute_result"
    }
   ],
   "source": [
    "P = Matrix(m,m,binomial)\n",
    "P"
   ]
  },
  {
   "cell_type": "code",
   "execution_count": 5,
   "metadata": {
    "collapsed": false,
    "deletable": true,
    "editable": true
   },
   "outputs": [
    {
     "data": {
      "image/png": "[encoded data removed]",
      "text/latex": [
       "$$\\left[\\begin{matrix}1 & 0 & 0 & 0 & 0 & 0 & 0 & 0\\\\1 & 1 & 0 & 0 & 0 & 0 & 0 & 0\\\\1 & {\\binom{2}{1}} & 1 & 0 & 0 & 0 & 0 & 0\\\\1 & {\\binom{3}{1}} & {\\binom{3}{2}} & 1 & 0 & 0 & 0 & 0\\\\1 & {\\binom{4}{1}} & {\\binom{4}{2}} & {\\binom{4}{3}} & 1 & 0 & 0 & 0\\\\1 & {\\binom{5}{1}} & {\\binom{5}{2}} & {\\binom{5}{3}} & {\\binom{5}{4}} & 1 & 0 & 0\\\\1 & {\\binom{6}{1}} & {\\binom{6}{2}} & {\\binom{6}{3}} & {\\binom{6}{4}} & {\\binom{6}{5}} & 1 & 0\\\\1 & {\\binom{7}{1}} & {\\binom{7}{2}} & {\\binom{7}{3}} & {\\binom{7}{4}} & {\\binom{7}{5}} & {\\binom{7}{6}} & 1\\end{matrix}\\right]$$"
      ],
      "text/plain": [
       "⎡1   0    0    0    0    0    0   0⎤\n",
       "⎢                                  ⎥\n",
       "⎢1   1    0    0    0    0    0   0⎥\n",
       "⎢                                  ⎥\n",
       "⎢   ⎛2⎞                            ⎥\n",
       "⎢1  ⎜ ⎟   1    0    0    0    0   0⎥\n",
       "⎢   ⎝1⎠                            ⎥\n",
       "⎢                                  ⎥\n",
       "⎢   ⎛3⎞  ⎛3⎞                       ⎥\n",
       "⎢1  ⎜ ⎟  ⎜ ⎟   1    0    0    0   0⎥\n",
       "⎢   ⎝1⎠  ⎝2⎠                       ⎥\n",
       "⎢                                  ⎥\n",
       "⎢   ⎛4⎞  ⎛4⎞  ⎛4⎞                  ⎥\n",
       "⎢1  ⎜ ⎟  ⎜ ⎟  ⎜ ⎟   1    0    0   0⎥\n",
       "⎢   ⎝1⎠  ⎝2⎠  ⎝3⎠                  ⎥\n",
       "⎢                                  ⎥\n",
       "⎢   ⎛5⎞  ⎛5⎞  ⎛5⎞  ⎛5⎞             ⎥\n",
       "⎢1  ⎜ ⎟  ⎜ ⎟  ⎜ ⎟  ⎜ ⎟   1    0   0⎥\n",
       "⎢   ⎝1⎠  ⎝2⎠  ⎝3⎠  ⎝4⎠             ⎥\n",
       "⎢                                  ⎥\n",
       "⎢   ⎛6⎞  ⎛6⎞  ⎛6⎞  ⎛6⎞  ⎛6⎞        ⎥\n",
       "⎢1  ⎜ ⎟  ⎜ ⎟  ⎜ ⎟  ⎜ ⎟  ⎜ ⎟   1   0⎥\n",
       "⎢   ⎝1⎠  ⎝2⎠  ⎝3⎠  ⎝4⎠  ⎝5⎠        ⎥\n",
       "⎢                                  ⎥\n",
       "⎢   ⎛7⎞  ⎛7⎞  ⎛7⎞  ⎛7⎞  ⎛7⎞  ⎛7⎞   ⎥\n",
       "⎢1  ⎜ ⎟  ⎜ ⎟  ⎜ ⎟  ⎜ ⎟  ⎜ ⎟  ⎜ ⎟  1⎥\n",
       "⎣   ⎝1⎠  ⎝2⎠  ⎝3⎠  ⎝4⎠  ⎝5⎠  ⎝6⎠   ⎦"
      ]
     },
     "execution_count": 5,
     "metadata": {},
     "output_type": "execute_result"
    }
   ],
   "source": [
    "P = Matrix(m,m, lambda n,k: binomial(n, k, evaluate=k >= n or not k))\n",
    "P"
   ]
  },
  {
   "cell_type": "code",
   "execution_count": 6,
   "metadata": {
    "collapsed": false,
    "deletable": true,
    "editable": true
   },
   "outputs": [
    {
     "data": {
      "image/png": "[encoded data removed]",
      "text/latex": [
       "$$\\left ( \\left \\{ 1 : \\left ( \\lambda_{1}, \\quad m_{1}\\right )\\right \\}, \\quad \\left \\{ \\lambda_{1} : 1\\right \\}, \\quad \\left \\{ m_{1} : 8\\right \\}\\right )$$"
      ],
      "text/plain": [
       "({1: (\\lambda[1], m[1])}, {\\lambda[1]: 1}, {m[1]: 8})"
      ]
     },
     "execution_count": 6,
     "metadata": {},
     "output_type": "execute_result"
    }
   ],
   "source": [
    "data, eigenvals, multiplicities = eigendata = eigen_data(P)\n",
    "eigendata"
   ]
  },
  {
   "cell_type": "code",
   "execution_count": 7,
   "metadata": {
    "collapsed": false,
    "deletable": true,
    "editable": true
   },
   "outputs": [
    {
     "data": {
      "image/png": "[encoded data removed]",
      "text/latex": [
       "$$\\Phi{\\left (z,i,j \\right )} = z^{7} \\phi_{i,j,0} + z^{6} \\phi_{i,j,1} + z^{5} \\phi_{i,j,2} + z^{4} \\phi_{i,j,3} + z^{3} \\phi_{i,j,4} + z^{2} \\phi_{i,j,5} + z \\phi_{i,j,6} + \\phi_{i,j,7}$$"
      ],
      "text/plain": [
       "                 7                  6                  5                  4   \n",
       "\\Phi(z, i, j) = z ⋅\\phi[i, j, 0] + z ⋅\\phi[i, j, 1] + z ⋅\\phi[i, j, 2] + z ⋅\\p\n",
       "\n",
       "               3                  2                                           \n",
       "hi[i, j, 3] + z ⋅\\phi[i, j, 4] + z ⋅\\phi[i, j, 5] + z⋅\\phi[i, j, 6] + \\phi[i, \n",
       "\n",
       "     \n",
       "j, 7]"
      ]
     },
     "execution_count": 7,
     "metadata": {},
     "output_type": "execute_result"
    }
   ],
   "source": [
    "Phi_poly = Phi_poly_ctor(deg=m-1)\n",
    "Phi_poly"
   ]
  },
  {
   "cell_type": "code",
   "execution_count": 8,
   "metadata": {
    "collapsed": false,
    "deletable": true,
    "editable": true
   },
   "outputs": [
    {
     "data": {
      "image/png": "[encoded data removed]",
      "text/latex": [
       "$$\\left \\{ \\left ( 1, \\quad 1\\right ) : \\Phi_{ 1, 1 }{\\left (z \\right )} = 1, \\quad \\left ( 1, \\quad 2\\right ) : \\Phi_{ 1, 2 }{\\left (z \\right )} = z - 1, \\quad \\left ( 1, \\quad 3\\right ) : \\Phi_{ 1, 3 }{\\left (z \\right )} = \\frac{z^{2}}{2} - z + \\frac{1}{2}, \\quad \\left ( 1, \\quad 4\\right ) : \\Phi_{ 1, 4 }{\\left (z \\right )} = \\frac{z^{3}}{6} - \\frac{z^{2}}{2} + \\frac{z}{2} - \\frac{1}{6}, \\quad \\left ( 1, \\quad 5\\right ) : \\Phi_{ 1, 5 }{\\left (z \\right )} = \\frac{z^{4}}{24} - \\frac{z^{3}}{6} + \\frac{z^{2}}{4} - \\frac{z}{6} + \\frac{1}{24}, \\quad \\left ( 1, \\quad 6\\right ) : \\Phi_{ 1, 6 }{\\left (z \\right )} = \\frac{z^{5}}{120} - \\frac{z^{4}}{24} + \\frac{z^{3}}{12} - \\frac{z^{2}}{12} + \\frac{z}{24} - \\frac{1}{120}, \\quad \\left ( 1, \\quad 7\\right ) : \\Phi_{ 1, 7 }{\\left (z \\right )} = \\frac{z^{6}}{720} - \\frac{z^{5}}{120} + \\frac{z^{4}}{48} - \\frac{z^{3}}{36} + \\frac{z^{2}}{48} - \\frac{z}{120} + \\frac{1}{720}, \\quad \\left ( 1, \\quad 8\\right ) : \\Phi_{ 1, 8 }{\\left (z \\right )} = \\frac{z^{7}}{5040} - \\frac{z^{6}}{720} + \\frac{z^{5}}{240} - \\frac{z^{4}}{144} + \\frac{z^{3}}{144} - \\frac{z^{2}}{240} + \\frac{z}{720} - \\frac{1}{5040}\\right \\}$$"
      ],
      "text/plain": [
       "⎧                                                                             \n",
       "⎪                                                                             \n",
       "⎨(1, 1): \\Phi_{ 1, 1 }(z) = 1, (1, 2): \\Phi_{ 1, 2 }(z) = z - 1, (1, 3): \\Phi_\n",
       "⎪                                                                             \n",
       "⎩                                                                             \n",
       "\n",
       "               2                                      3    2                  \n",
       "              z        1                             z    z    z   1          \n",
       "{ 1, 3 }(z) = ── - z + ─, (1, 4): \\Phi_{ 1, 4 }(z) = ── - ── + ─ - ─, (1, 5): \n",
       "              2        2                             6    2    2   6          \n",
       "                                                                              \n",
       "\n",
       "                    4    3    2                                        5    4 \n",
       "                   z    z    z    z   1                               z    z  \n",
       "\\Phi_{ 1, 5 }(z) = ── - ── + ── - ─ + ──, (1, 6): \\Phi_{ 1, 6 }(z) = ─── - ── \n",
       "                   24   6    4    6   24                             120   24 \n",
       "                                                                              \n",
       "\n",
       "   3    2                                          6     5    4    3    2     \n",
       "  z    z    z     1                               z     z    z    z    z     z\n",
       "+ ── - ── + ── - ───, (1, 7): \\Phi_{ 1, 7 }(z) = ─── - ─── + ── - ── + ── - ──\n",
       "  12   12   24   120                             720   120   48   36   48   12\n",
       "                                                                              \n",
       "\n",
       "                                      7      6     5     4     3     2        \n",
       "     1                               z      z     z     z     z     z     z   \n",
       "─ + ───, (1, 8): \\Phi_{ 1, 8 }(z) = ──── - ─── + ─── - ─── + ─── - ─── + ─── -\n",
       "0   720                             5040   720   240   144   144   240   720  \n",
       "                                                                              \n",
       "\n",
       "     ⎫\n",
       "  1  ⎪\n",
       " ────⎬\n",
       " 5040⎪\n",
       "     ⎭"
      ]
     },
     "execution_count": 8,
     "metadata": {},
     "output_type": "execute_result"
    }
   ],
   "source": [
    "Phi_polynomials = component_polynomials_riordan(m)\n",
    "Phi_polynomials"
   ]
  },
  {
   "cell_type": "code",
   "execution_count": 9,
   "metadata": {
    "collapsed": false,
    "deletable": true,
    "editable": true,
    "scrolled": true
   },
   "outputs": [
    {
     "data": {
      "image/png": "[encoded data removed]",
      "text/latex": [
       "$$\\left \\{ Z_{1,1} : \\left[\\begin{matrix}1 & 0 & 0 & 0 & 0 & 0 & 0 & 0\\\\0 & 1 & 0 & 0 & 0 & 0 & 0 & 0\\\\0 & 0 & 1 & 0 & 0 & 0 & 0 & 0\\\\0 & 0 & 0 & 1 & 0 & 0 & 0 & 0\\\\0 & 0 & 0 & 0 & 1 & 0 & 0 & 0\\\\0 & 0 & 0 & 0 & 0 & 1 & 0 & 0\\\\0 & 0 & 0 & 0 & 0 & 0 & 1 & 0\\\\0 & 0 & 0 & 0 & 0 & 0 & 0 & 1\\end{matrix}\\right], \\quad Z_{1,2} : \\left[\\begin{matrix}0 & 0 & 0 & 0 & 0 & 0 & 0 & 0\\\\1 & 0 & 0 & 0 & 0 & 0 & 0 & 0\\\\1 & 2 & 0 & 0 & 0 & 0 & 0 & 0\\\\1 & 3 & 3 & 0 & 0 & 0 & 0 & 0\\\\1 & 4 & 6 & 4 & 0 & 0 & 0 & 0\\\\1 & 5 & 10 & 10 & 5 & 0 & 0 & 0\\\\1 & 6 & 15 & 20 & 15 & 6 & 0 & 0\\\\1 & 7 & 21 & 35 & 35 & 21 & 7 & 0\\end{matrix}\\right], \\quad Z_{1,3} : \\left[\\begin{matrix}0 & 0 & 0 & 0 & 0 & 0 & 0 & 0\\\\0 & 0 & 0 & 0 & 0 & 0 & 0 & 0\\\\1 & 0 & 0 & 0 & 0 & 0 & 0 & 0\\\\3 & 3 & 0 & 0 & 0 & 0 & 0 & 0\\\\7 & 12 & 6 & 0 & 0 & 0 & 0 & 0\\\\15 & 35 & 30 & 10 & 0 & 0 & 0 & 0\\\\31 & 90 & 105 & 60 & 15 & 0 & 0 & 0\\\\63 & 217 & 315 & 245 & 105 & 21 & 0 & 0\\end{matrix}\\right], \\quad Z_{1,4} : \\left[\\begin{matrix}0 & 0 & 0 & 0 & 0 & 0 & 0 & 0\\\\0 & 0 & 0 & 0 & 0 & 0 & 0 & 0\\\\0 & 0 & 0 & 0 & 0 & 0 & 0 & 0\\\\1 & 0 & 0 & 0 & 0 & 0 & 0 & 0\\\\6 & 4 & 0 & 0 & 0 & 0 & 0 & 0\\\\25 & 30 & 10 & 0 & 0 & 0 & 0 & 0\\\\90 & 150 & 90 & 20 & 0 & 0 & 0 & 0\\\\301 & 630 & 525 & 210 & 35 & 0 & 0 & 0\\end{matrix}\\right], \\quad Z_{1,5} : \\left[\\begin{matrix}0 & 0 & 0 & 0 & 0 & 0 & 0 & 0\\\\0 & 0 & 0 & 0 & 0 & 0 & 0 & 0\\\\0 & 0 & 0 & 0 & 0 & 0 & 0 & 0\\\\0 & 0 & 0 & 0 & 0 & 0 & 0 & 0\\\\1 & 0 & 0 & 0 & 0 & 0 & 0 & 0\\\\10 & 5 & 0 & 0 & 0 & 0 & 0 & 0\\\\65 & 60 & 15 & 0 & 0 & 0 & 0 & 0\\\\350 & 455 & 210 & 35 & 0 & 0 & 0 & 0\\end{matrix}\\right], \\quad Z_{1,6} : \\left[\\begin{matrix}0 & 0 & 0 & 0 & 0 & 0 & 0 & 0\\\\0 & 0 & 0 & 0 & 0 & 0 & 0 & 0\\\\0 & 0 & 0 & 0 & 0 & 0 & 0 & 0\\\\0 & 0 & 0 & 0 & 0 & 0 & 0 & 0\\\\0 & 0 & 0 & 0 & 0 & 0 & 0 & 0\\\\1 & 0 & 0 & 0 & 0 & 0 & 0 & 0\\\\15 & 6 & 0 & 0 & 0 & 0 & 0 & 0\\\\140 & 105 & 21 & 0 & 0 & 0 & 0 & 0\\end{matrix}\\right], \\quad Z_{1,7} : \\left[\\begin{matrix}0 & 0 & 0 & 0 & 0 & 0 & 0 & 0\\\\0 & 0 & 0 & 0 & 0 & 0 & 0 & 0\\\\0 & 0 & 0 & 0 & 0 & 0 & 0 & 0\\\\0 & 0 & 0 & 0 & 0 & 0 & 0 & 0\\\\0 & 0 & 0 & 0 & 0 & 0 & 0 & 0\\\\0 & 0 & 0 & 0 & 0 & 0 & 0 & 0\\\\1 & 0 & 0 & 0 & 0 & 0 & 0 & 0\\\\21 & 7 & 0 & 0 & 0 & 0 & 0 & 0\\end{matrix}\\right], \\quad Z_{1,8} : \\left[\\begin{matrix}0 & 0 & 0 & 0 & 0 & 0 & 0 & 0\\\\0 & 0 & 0 & 0 & 0 & 0 & 0 & 0\\\\0 & 0 & 0 & 0 & 0 & 0 & 0 & 0\\\\0 & 0 & 0 & 0 & 0 & 0 & 0 & 0\\\\0 & 0 & 0 & 0 & 0 & 0 & 0 & 0\\\\0 & 0 & 0 & 0 & 0 & 0 & 0 & 0\\\\0 & 0 & 0 & 0 & 0 & 0 & 0 & 0\\\\1 & 0 & 0 & 0 & 0 & 0 & 0 & 0\\end{matrix}\\right]\\right \\}$$"
      ],
      "text/plain": [
       "⎧         ⎡1  0  0  0  0  0  0  0⎤           ⎡0  0  0   0   0   0   0  0⎤     \n",
       "⎪         ⎢                      ⎥           ⎢                          ⎥     \n",
       "⎪         ⎢0  1  0  0  0  0  0  0⎥           ⎢1  0  0   0   0   0   0  0⎥     \n",
       "⎪         ⎢                      ⎥           ⎢                          ⎥     \n",
       "⎪         ⎢0  0  1  0  0  0  0  0⎥           ⎢1  2  0   0   0   0   0  0⎥     \n",
       "⎪         ⎢                      ⎥           ⎢                          ⎥     \n",
       "⎪         ⎢0  0  0  1  0  0  0  0⎥           ⎢1  3  3   0   0   0   0  0⎥     \n",
       "⎨Z[1, 1]: ⎢                      ⎥, Z[1, 2]: ⎢                          ⎥, Z[1\n",
       "⎪         ⎢0  0  0  0  1  0  0  0⎥           ⎢1  4  6   4   0   0   0  0⎥     \n",
       "⎪         ⎢                      ⎥           ⎢                          ⎥     \n",
       "⎪         ⎢0  0  0  0  0  1  0  0⎥           ⎢1  5  10  10  5   0   0  0⎥     \n",
       "⎪         ⎢                      ⎥           ⎢                          ⎥     \n",
       "⎪         ⎢0  0  0  0  0  0  1  0⎥           ⎢1  6  15  20  15  6   0  0⎥     \n",
       "⎪         ⎢                      ⎥           ⎢                          ⎥     \n",
       "⎩         ⎣0  0  0  0  0  0  0  1⎦           ⎣1  7  21  35  35  21  7  0⎦     \n",
       "\n",
       "      ⎡0    0    0    0    0   0   0  0⎤           ⎡ 0    0    0    0   0   0 \n",
       "      ⎢                                ⎥           ⎢                          \n",
       "      ⎢0    0    0    0    0   0   0  0⎥           ⎢ 0    0    0    0   0   0 \n",
       "      ⎢                                ⎥           ⎢                          \n",
       "      ⎢1    0    0    0    0   0   0  0⎥           ⎢ 0    0    0    0   0   0 \n",
       "      ⎢                                ⎥           ⎢                          \n",
       "      ⎢3    3    0    0    0   0   0  0⎥           ⎢ 1    0    0    0   0   0 \n",
       ", 3]: ⎢                                ⎥, Z[1, 4]: ⎢                          \n",
       "      ⎢7   12    6    0    0   0   0  0⎥           ⎢ 6    4    0    0   0   0 \n",
       "      ⎢                                ⎥           ⎢                          \n",
       "      ⎢15  35   30   10    0   0   0  0⎥           ⎢25   30   10    0   0   0 \n",
       "      ⎢                                ⎥           ⎢                          \n",
       "      ⎢31  90   105  60   15   0   0  0⎥           ⎢90   150  90   20   0   0 \n",
       "      ⎢                                ⎥           ⎢                          \n",
       "      ⎣63  217  315  245  105  21  0  0⎦           ⎣301  630  525  210  35  0 \n",
       "\n",
       " 0  0⎤           ⎡ 0    0    0   0   0  0  0  0⎤           ⎡ 0    0   0   0  0\n",
       "     ⎥           ⎢                             ⎥           ⎢                  \n",
       " 0  0⎥           ⎢ 0    0    0   0   0  0  0  0⎥           ⎢ 0    0   0   0  0\n",
       "     ⎥           ⎢                             ⎥           ⎢                  \n",
       " 0  0⎥           ⎢ 0    0    0   0   0  0  0  0⎥           ⎢ 0    0   0   0  0\n",
       "     ⎥           ⎢                             ⎥           ⎢                  \n",
       " 0  0⎥           ⎢ 0    0    0   0   0  0  0  0⎥           ⎢ 0    0   0   0  0\n",
       "     ⎥, Z[1, 5]: ⎢                             ⎥, Z[1, 6]: ⎢                  \n",
       " 0  0⎥           ⎢ 1    0    0   0   0  0  0  0⎥           ⎢ 0    0   0   0  0\n",
       "     ⎥           ⎢                             ⎥           ⎢                  \n",
       " 0  0⎥           ⎢10    5    0   0   0  0  0  0⎥           ⎢ 1    0   0   0  0\n",
       "     ⎥           ⎢                             ⎥           ⎢                  \n",
       " 0  0⎥           ⎢65   60   15   0   0  0  0  0⎥           ⎢15    6   0   0  0\n",
       "     ⎥           ⎢                             ⎥           ⎢                  \n",
       " 0  0⎦           ⎣350  455  210  35  0  0  0  0⎦           ⎣140  105  21  0  0\n",
       "\n",
       "  0  0  0⎤           ⎡0   0  0  0  0  0  0  0⎤           ⎡0  0  0  0  0  0  0 \n",
       "         ⎥           ⎢                       ⎥           ⎢                    \n",
       "  0  0  0⎥           ⎢0   0  0  0  0  0  0  0⎥           ⎢0  0  0  0  0  0  0 \n",
       "         ⎥           ⎢                       ⎥           ⎢                    \n",
       "  0  0  0⎥           ⎢0   0  0  0  0  0  0  0⎥           ⎢0  0  0  0  0  0  0 \n",
       "         ⎥           ⎢                       ⎥           ⎢                    \n",
       "  0  0  0⎥           ⎢0   0  0  0  0  0  0  0⎥           ⎢0  0  0  0  0  0  0 \n",
       "         ⎥, Z[1, 7]: ⎢                       ⎥, Z[1, 8]: ⎢                    \n",
       "  0  0  0⎥           ⎢0   0  0  0  0  0  0  0⎥           ⎢0  0  0  0  0  0  0 \n",
       "         ⎥           ⎢                       ⎥           ⎢                    \n",
       "  0  0  0⎥           ⎢0   0  0  0  0  0  0  0⎥           ⎢0  0  0  0  0  0  0 \n",
       "         ⎥           ⎢                       ⎥           ⎢                    \n",
       "  0  0  0⎥           ⎢1   0  0  0  0  0  0  0⎥           ⎢0  0  0  0  0  0  0 \n",
       "         ⎥           ⎢                       ⎥           ⎢                    \n",
       "  0  0  0⎦           ⎣21  7  0  0  0  0  0  0⎦           ⎣1  0  0  0  0  0  0 \n",
       "\n",
       " 0⎤⎫\n",
       "  ⎥⎪\n",
       " 0⎥⎪\n",
       "  ⎥⎪\n",
       " 0⎥⎪\n",
       "  ⎥⎪\n",
       " 0⎥⎪\n",
       "  ⎥⎬\n",
       " 0⎥⎪\n",
       "  ⎥⎪\n",
       " 0⎥⎪\n",
       "  ⎥⎪\n",
       " 0⎥⎪\n",
       "  ⎥⎪\n",
       " 0⎦⎭"
      ]
     },
     "execution_count": 9,
     "metadata": {},
     "output_type": "execute_result"
    }
   ],
   "source": [
    "Z = IndexedBase('Z')\n",
    "\n",
    "cmatrices = component_matrices(P, Phi_polynomials)\n",
    "{Z[k]:v for k,v in cmatrices.items()}"
   ]
  },
  {
   "cell_type": "markdown",
   "metadata": {
    "deletable": true,
    "editable": true
   },
   "source": [
    "## `inverse` function"
   ]
  },
  {
   "cell_type": "code",
   "execution_count": 76,
   "metadata": {
    "collapsed": false,
    "deletable": true,
    "editable": true
   },
   "outputs": [
    {
     "data": {
      "image/png": "[encoded data removed]",
      "text/latex": [
       "$$f{\\left (z \\right )} = \\frac{1}{z}$$"
      ],
      "text/plain": [
       "       1\n",
       "f(z) = ─\n",
       "       z"
      ]
     },
     "execution_count": 76,
     "metadata": {},
     "output_type": "execute_result"
    }
   ],
   "source": [
    "f, h = Function('f'), Function('h')\n",
    "f_inverse = define(let=f(z), be=1/(z))\n",
    "f_inverse"
   ]
  },
  {
   "cell_type": "code",
   "execution_count": 77,
   "metadata": {
    "collapsed": false,
    "deletable": true,
    "editable": true
   },
   "outputs": [
    {
     "data": {
      "image/png": "[encoded data removed]",
      "text/latex": [
       "$$g{\\left (z \\right )} = - \\frac{z^{7}}{\\lambda_{1}^{8}} + z^{6} \\left(\\frac{1}{\\lambda_{1}^{7}} + \\frac{7}{\\lambda_{1}^{8}}\\right) + z^{5} \\left(- \\frac{1}{\\lambda_{1}^{6}} - \\frac{6}{\\lambda_{1}^{7}} - \\frac{21}{\\lambda_{1}^{8}}\\right) + z^{4} \\left(\\frac{1}{\\lambda_{1}^{5}} + \\frac{5}{\\lambda_{1}^{6}} + \\frac{15}{\\lambda_{1}^{7}} + \\frac{35}{\\lambda_{1}^{8}}\\right) + z^{3} \\left(- \\frac{1}{\\lambda_{1}^{4}} - \\frac{4}{\\lambda_{1}^{5}} - \\frac{10}{\\lambda_{1}^{6}} - \\frac{20}{\\lambda_{1}^{7}} - \\frac{35}{\\lambda_{1}^{8}}\\right) + z^{2} \\left(\\frac{1}{\\lambda_{1}^{3}} + \\frac{3}{\\lambda_{1}^{4}} + \\frac{6}{\\lambda_{1}^{5}} + \\frac{10}{\\lambda_{1}^{6}} + \\frac{15}{\\lambda_{1}^{7}} + \\frac{21}{\\lambda_{1}^{8}}\\right) + z \\left(- \\frac{1}{\\lambda_{1}^{2}} - \\frac{2}{\\lambda_{1}^{3}} - \\frac{3}{\\lambda_{1}^{4}} - \\frac{4}{\\lambda_{1}^{5}} - \\frac{5}{\\lambda_{1}^{6}} - \\frac{6}{\\lambda_{1}^{7}} - \\frac{7}{\\lambda_{1}^{8}}\\right) + \\frac{1}{\\lambda_{1}} + \\frac{1}{\\lambda_{1}^{2}} + \\frac{1}{\\lambda_{1}^{3}} + \\frac{1}{\\lambda_{1}^{4}} + \\frac{1}{\\lambda_{1}^{5}} + \\frac{1}{\\lambda_{1}^{6}} + \\frac{1}{\\lambda_{1}^{7}} + \\frac{1}{\\lambda_{1}^{8}}$$"
      ],
      "text/plain": [
       "               7                                                              \n",
       "              z         6 ⎛     1             7     ⎞    5 ⎛       1          \n",
       "g(z) = - ─────────── + z ⋅⎜─────────── + ───────────⎟ + z ⋅⎜- ─────────── - ──\n",
       "                   8      ⎜          7             8⎟      ⎜            6     \n",
       "         \\lambda[1]       ⎝\\lambda[1]    \\lambda[1] ⎠      ⎝  \\lambda[1]    \\l\n",
       "\n",
       "                                                                              \n",
       "   6             21    ⎞    4 ⎛     1             5             15            \n",
       "───────── - ───────────⎟ + z ⋅⎜─────────── + ─────────── + ─────────── + ─────\n",
       "        7             8⎟      ⎜          5             6             7        \n",
       "ambda[1]    \\lambda[1] ⎠      ⎝\\lambda[1]    \\lambda[1]    \\lambda[1]    \\lamb\n",
       "\n",
       "                                                                              \n",
       "35    ⎞    3 ⎛       1             4             10            20            3\n",
       "──────⎟ + z ⋅⎜- ─────────── - ─────────── - ─────────── - ─────────── - ──────\n",
       "     8⎟      ⎜            4             5             6             7         \n",
       "da[1] ⎠      ⎝  \\lambda[1]    \\lambda[1]    \\lambda[1]    \\lambda[1]    \\lambd\n",
       "\n",
       "                                                                              \n",
       "5    ⎞    2 ⎛     1             3             6             10            15  \n",
       "─────⎟ + z ⋅⎜─────────── + ─────────── + ─────────── + ─────────── + ─────────\n",
       "    8⎟      ⎜          3             4             5             6            \n",
       "a[1] ⎠      ⎝\\lambda[1]    \\lambda[1]    \\lambda[1]    \\lambda[1]    \\lambda[1\n",
       "\n",
       "                                                                              \n",
       "          21    ⎞     ⎛       1             2             3             4     \n",
       "── + ───────────⎟ + z⋅⎜- ─────────── - ─────────── - ─────────── - ───────────\n",
       " 7             8⎟     ⎜            2             3             4             5\n",
       "]    \\lambda[1] ⎠     ⎝  \\lambda[1]    \\lambda[1]    \\lambda[1]    \\lambda[1] \n",
       "\n",
       "                                                                              \n",
       "        5             6             7     ⎞       1             1             \n",
       " - ─────────── - ─────────── - ───────────⎟ + ────────── + ─────────── + ─────\n",
       "             6             7             8⎟   \\lambda[1]             2        \n",
       "   \\lambda[1]    \\lambda[1]    \\lambda[1] ⎠                \\lambda[1]    \\lamb\n",
       "\n",
       "                                                                            \n",
       "1             1             1             1             1             1     \n",
       "────── + ─────────── + ─────────── + ─────────── + ─────────── + ───────────\n",
       "     3             4             5             6             7             8\n",
       "da[1]    \\lambda[1]    \\lambda[1]    \\lambda[1]    \\lambda[1]    \\lambda[1] "
      ]
     },
     "execution_count": 77,
     "metadata": {},
     "output_type": "execute_result"
    }
   ],
   "source": [
    "g_inverse = g_poly(f_inverse, eigendata, Phi_polynomials)\n",
    "g_inverse"
   ]
  },
  {
   "cell_type": "code",
   "execution_count": 78,
   "metadata": {
    "collapsed": false,
    "deletable": true,
    "editable": true
   },
   "outputs": [
    {
     "data": {
      "image/png": "[encoded data removed]",
      "text/latex": [
       "$$g{\\left (z \\right )} = - z^{7} + 8 z^{6} - 28 z^{5} + 56 z^{4} - 70 z^{3} + 56 z^{2} - 28 z + 8$$"
      ],
      "text/plain": [
       "          7      6       5       4       3       2           \n",
       "g(z) = - z  + 8⋅z  - 28⋅z  + 56⋅z  - 70⋅z  + 56⋅z  - 28⋅z + 8"
      ]
     },
     "execution_count": 78,
     "metadata": {},
     "output_type": "execute_result"
    }
   ],
   "source": [
    "g_inverse = g_inverse.subs(eigenvals)\n",
    "g_inverse"
   ]
  },
  {
   "cell_type": "code",
   "execution_count": 79,
   "metadata": {
    "collapsed": false,
    "deletable": true,
    "editable": true
   },
   "outputs": [
    {
     "data": {
      "image/png": "[encoded data removed]",
      "text/latex": [
       "$$\\left[\\begin{matrix}1 & 0 & 0 & 0 & 0 & 0 & 0 & 0\\\\-1 & 1 & 0 & 0 & 0 & 0 & 0 & 0\\\\1 & -2 & 1 & 0 & 0 & 0 & 0 & 0\\\\-1 & 3 & -3 & 1 & 0 & 0 & 0 & 0\\\\1 & -4 & 6 & -4 & 1 & 0 & 0 & 0\\\\-1 & 5 & -10 & 10 & -5 & 1 & 0 & 0\\\\1 & -6 & 15 & -20 & 15 & -6 & 1 & 0\\\\-1 & 7 & -21 & 35 & -35 & 21 & -7 & 1\\end{matrix}\\right]$$"
      ],
      "text/plain": [
       "⎡1   0    0    0    0   0   0   0⎤\n",
       "⎢                                ⎥\n",
       "⎢-1  1    0    0    0   0   0   0⎥\n",
       "⎢                                ⎥\n",
       "⎢1   -2   1    0    0   0   0   0⎥\n",
       "⎢                                ⎥\n",
       "⎢-1  3   -3    1    0   0   0   0⎥\n",
       "⎢                                ⎥\n",
       "⎢1   -4   6   -4    1   0   0   0⎥\n",
       "⎢                                ⎥\n",
       "⎢-1  5   -10  10   -5   1   0   0⎥\n",
       "⎢                                ⎥\n",
       "⎢1   -6  15   -20  15   -6  1   0⎥\n",
       "⎢                                ⎥\n",
       "⎣-1  7   -21  35   -35  21  -7  1⎦"
      ]
     },
     "execution_count": 79,
     "metadata": {},
     "output_type": "execute_result"
    }
   ],
   "source": [
    "with lift_to_matrix_function(g_inverse) as g_inverse:\n",
    "    P_inverse = g_inverse(P)\n",
    "P_inverse"
   ]
  },
  {
   "cell_type": "code",
   "execution_count": 80,
   "metadata": {
    "collapsed": false,
    "deletable": true,
    "editable": true
   },
   "outputs": [
    {
     "data": {
      "image/png": "[encoded data removed]",
      "text/latex": [
       "$$\\left[\\begin{matrix}1 & -1 & 0 & 0 & 0 & 0 & 0 & 0\\\\1 & -1 & 0 & 0 & 0 & 0 & 0 & 0\\\\1 & -1 & 0 & 0 & 0 & 0 & 0 & 0\\\\1 & -1 & 0 & 0 & 0 & 0 & 0 & 0\\\\1 & -1 & 0 & 0 & 0 & 0 & 0 & 0\\\\1 & -1 & 0 & 0 & 0 & 0 & 0 & 0\\\\1 & -1 & 0 & 0 & 0 & 0 & 0 & 0\\end{matrix}\\right]$$"
      ],
      "text/plain": [
       "⎡1  -1  0  0  0  0  0  0⎤\n",
       "⎢                       ⎥\n",
       "⎢1  -1  0  0  0  0  0  0⎥\n",
       "⎢                       ⎥\n",
       "⎢1  -1  0  0  0  0  0  0⎥\n",
       "⎢                       ⎥\n",
       "⎢1  -1  0  0  0  0  0  0⎥\n",
       "⎢                       ⎥\n",
       "⎢1  -1  0  0  0  0  0  0⎥\n",
       "⎢                       ⎥\n",
       "⎢1  -1  0  0  0  0  0  0⎥\n",
       "⎢                       ⎥\n",
       "⎣1  -1  0  0  0  0  0  0⎦"
      ]
     },
     "execution_count": 80,
     "metadata": {},
     "output_type": "execute_result"
    }
   ],
   "source": [
    "Asequence(P_inverse)"
   ]
  },
  {
   "cell_type": "code",
   "execution_count": 81,
   "metadata": {
    "collapsed": false,
    "deletable": true,
    "editable": true
   },
   "outputs": [
    {
     "data": {
      "image/png": "[encoded data removed]",
      "text/latex": [
       "$$\\left[\\begin{matrix}-1 & 1 & 0 & 0 & 0 & 0 & 0\\\\0 & -1 & 1 & 0 & 0 & 0 & 0\\\\0 & 0 & -1 & 1 & 0 & 0 & 0\\\\0 & 0 & 0 & -1 & 1 & 0 & 0\\\\0 & 0 & 0 & 0 & -1 & 1 & 0\\\\0 & 0 & 0 & 0 & 0 & -1 & 1\\\\0 & 0 & 0 & 0 & 0 & 0 & -1\\end{matrix}\\right]$$"
      ],
      "text/plain": [
       "⎡-1  1   0   0   0   0   0 ⎤\n",
       "⎢                          ⎥\n",
       "⎢0   -1  1   0   0   0   0 ⎥\n",
       "⎢                          ⎥\n",
       "⎢0   0   -1  1   0   0   0 ⎥\n",
       "⎢                          ⎥\n",
       "⎢0   0   0   -1  1   0   0 ⎥\n",
       "⎢                          ⎥\n",
       "⎢0   0   0   0   -1  1   0 ⎥\n",
       "⎢                          ⎥\n",
       "⎢0   0   0   0   0   -1  1 ⎥\n",
       "⎢                          ⎥\n",
       "⎣0   0   0   0   0   0   -1⎦"
      ]
     },
     "execution_count": 81,
     "metadata": {},
     "output_type": "execute_result"
    }
   ],
   "source": [
    "production_matrix_ordinary(P_inverse)"
   ]
  },
  {
   "cell_type": "code",
   "execution_count": 16,
   "metadata": {
    "collapsed": false,
    "deletable": true,
    "editable": true
   },
   "outputs": [
    {
     "data": {
      "image/png": "[encoded data removed]",
      "text/latex": [
       "$$\\left[\\begin{matrix}1 & 0 & 0 & 0 & 0 & 0 & 0 & 0\\\\1 & 1 & 0 & 0 & 0 & 0 & 0 & 0\\\\1 & 2 & 1 & 0 & 0 & 0 & 0 & 0\\\\1 & 3 & 3 & 1 & 0 & 0 & 0 & 0\\\\1 & 4 & 6 & 4 & 1 & 0 & 0 & 0\\\\1 & 5 & 10 & 10 & 5 & 1 & 0 & 0\\\\1 & 6 & 15 & 20 & 15 & 6 & 1 & 0\\\\1 & 7 & 21 & 35 & 35 & 21 & 7 & 1\\end{matrix}\\right]$$"
      ],
      "text/plain": [
       "⎡1  0  0   0   0   0   0  0⎤\n",
       "⎢                          ⎥\n",
       "⎢1  1  0   0   0   0   0  0⎥\n",
       "⎢                          ⎥\n",
       "⎢1  2  1   0   0   0   0  0⎥\n",
       "⎢                          ⎥\n",
       "⎢1  3  3   1   0   0   0  0⎥\n",
       "⎢                          ⎥\n",
       "⎢1  4  6   4   1   0   0  0⎥\n",
       "⎢                          ⎥\n",
       "⎢1  5  10  10  5   1   0  0⎥\n",
       "⎢                          ⎥\n",
       "⎢1  6  15  20  15  6   1  0⎥\n",
       "⎢                          ⎥\n",
       "⎣1  7  21  35  35  21  7  1⎦"
      ]
     },
     "execution_count": 16,
     "metadata": {},
     "output_type": "execute_result"
    }
   ],
   "source": [
    "g_inverse(P_inverse)"
   ]
  },
  {
   "cell_type": "code",
   "execution_count": 16,
   "metadata": {
    "collapsed": false,
    "deletable": true,
    "editable": true
   },
   "outputs": [
    {
     "data": {
      "image/png": "[encoded data removed]",
      "text/latex": [
       "$$\\left[\\begin{matrix}1 & 0 & 0 & 0 & 0 & 0 & 0 & 0\\\\0 & 1 & 0 & 0 & 0 & 0 & 0 & 0\\\\0 & 0 & 1 & 0 & 0 & 0 & 0 & 0\\\\0 & 0 & 0 & 1 & 0 & 0 & 0 & 0\\\\0 & 0 & 0 & 0 & 1 & 0 & 0 & 0\\\\0 & 0 & 0 & 0 & 0 & 1 & 0 & 0\\\\0 & 0 & 0 & 0 & 0 & 0 & 1 & 0\\\\0 & 0 & 0 & 0 & 0 & 0 & 0 & 1\\end{matrix}\\right]$$"
      ],
      "text/plain": [
       "⎡1  0  0  0  0  0  0  0⎤\n",
       "⎢                      ⎥\n",
       "⎢0  1  0  0  0  0  0  0⎥\n",
       "⎢                      ⎥\n",
       "⎢0  0  1  0  0  0  0  0⎥\n",
       "⎢                      ⎥\n",
       "⎢0  0  0  1  0  0  0  0⎥\n",
       "⎢                      ⎥\n",
       "⎢0  0  0  0  1  0  0  0⎥\n",
       "⎢                      ⎥\n",
       "⎢0  0  0  0  0  1  0  0⎥\n",
       "⎢                      ⎥\n",
       "⎢0  0  0  0  0  0  1  0⎥\n",
       "⎢                      ⎥\n",
       "⎣0  0  0  0  0  0  0  1⎦"
      ]
     },
     "execution_count": 16,
     "metadata": {},
     "output_type": "execute_result"
    }
   ],
   "source": [
    "P_inverse * P"
   ]
  },
  {
   "cell_type": "code",
   "execution_count": 17,
   "metadata": {
    "collapsed": false,
    "deletable": true,
    "editable": true
   },
   "outputs": [
    {
     "data": {
      "image/png": "[encoded data removed]",
      "text/latex": [
       "$$\\left[\\begin{matrix}1 & 0 & 0 & 0 & 0 & 0 & 0 & 0\\\\-1 & 1 & 0 & 0 & 0 & 0 & 0 & 0\\\\1 & -2 & 1 & 0 & 0 & 0 & 0 & 0\\\\-1 & 3 & -3 & 1 & 0 & 0 & 0 & 0\\\\1 & -4 & 6 & -4 & 1 & 0 & 0 & 0\\\\-1 & 5 & -10 & 10 & -5 & 1 & 0 & 0\\\\1 & -6 & 15 & -20 & 15 & -6 & 1 & 0\\\\-1 & 7 & -21 & 35 & -35 & 21 & -7 & 1\\end{matrix}\\right]$$"
      ],
      "text/plain": [
       "⎡1   0    0    0    0   0   0   0⎤\n",
       "⎢                                ⎥\n",
       "⎢-1  1    0    0    0   0   0   0⎥\n",
       "⎢                                ⎥\n",
       "⎢1   -2   1    0    0   0   0   0⎥\n",
       "⎢                                ⎥\n",
       "⎢-1  3   -3    1    0   0   0   0⎥\n",
       "⎢                                ⎥\n",
       "⎢1   -4   6   -4    1   0   0   0⎥\n",
       "⎢                                ⎥\n",
       "⎢-1  5   -10  10   -5   1   0   0⎥\n",
       "⎢                                ⎥\n",
       "⎢1   -6  15   -20  15   -6  1   0⎥\n",
       "⎢                                ⎥\n",
       "⎣-1  7   -21  35   -35  21  -7  1⎦"
      ]
     },
     "execution_count": 17,
     "metadata": {},
     "output_type": "execute_result"
    }
   ],
   "source": [
    "P**(-1)"
   ]
  },
  {
   "cell_type": "markdown",
   "metadata": {
    "deletable": true,
    "editable": true
   },
   "source": [
    "## `power` function"
   ]
  },
  {
   "cell_type": "code",
   "execution_count": 82,
   "metadata": {
    "collapsed": false,
    "deletable": true,
    "editable": true
   },
   "outputs": [
    {
     "data": {
      "image/png": "[encoded data removed]",
      "text/latex": [
       "$$f{\\left (z \\right )} = z^{r}$$"
      ],
      "text/plain": [
       "        r\n",
       "f(z) = z "
      ]
     },
     "execution_count": 82,
     "metadata": {},
     "output_type": "execute_result"
    }
   ],
   "source": [
    "f = Function('f')\n",
    "f_power = define(let=f(z), be=z**r)\n",
    "f_power"
   ]
  },
  {
   "cell_type": "code",
   "execution_count": 83,
   "metadata": {
    "collapsed": false,
    "deletable": true,
    "editable": true
   },
   "outputs": [],
   "source": [
    "g_power = g_poly(f_power, eigendata, Phi_polynomials)\n",
    "#g_power"
   ]
  },
  {
   "cell_type": "code",
   "execution_count": 84,
   "metadata": {
    "collapsed": false,
    "deletable": true,
    "editable": true
   },
   "outputs": [
    {
     "data": {
      "image/png": "[encoded data removed]",
      "text/latex": [
       "$$g{\\left (z \\right )} = - \\frac{r^{7}}{5040} + \\frac{r^{6}}{180} - \\frac{23 r^{5}}{360} + \\frac{7 r^{4}}{18} - \\frac{967 r^{3}}{720} + \\frac{469 r^{2}}{180} - \\frac{363 r}{140} + z^{7} \\left(\\frac{r^{7}}{5040} - \\frac{r^{6}}{240} + \\frac{5 r^{5}}{144} - \\frac{7 r^{4}}{48} + \\frac{29 r^{3}}{90} - \\frac{7 r^{2}}{20} + \\frac{r}{7}\\right) + z^{6} \\left(- \\frac{r^{7}}{720} + \\frac{11 r^{6}}{360} - \\frac{19 r^{5}}{72} + \\frac{41 r^{4}}{36} - \\frac{1849 r^{3}}{720} + \\frac{1019 r^{2}}{360} - \\frac{7 r}{6}\\right) + z^{5} \\left(\\frac{r^{7}}{240} - \\frac{23 r^{6}}{240} + \\frac{69 r^{5}}{80} - \\frac{185 r^{4}}{48} + \\frac{134 r^{3}}{15} - \\frac{201 r^{2}}{20} + \\frac{21 r}{5}\\right) + z^{4} \\left(- \\frac{r^{7}}{144} + \\frac{r^{6}}{6} - \\frac{113 r^{5}}{72} + \\frac{22 r^{4}}{3} - \\frac{2545 r^{3}}{144} + \\frac{41 r^{2}}{2} - \\frac{35 r}{4}\\right) + z^{3} \\left(\\frac{r^{7}}{144} - \\frac{25 r^{6}}{144} + \\frac{247 r^{5}}{144} - \\frac{1219 r^{4}}{144} + \\frac{389 r^{3}}{18} - \\frac{949 r^{2}}{36} + \\frac{35 r}{3}\\right) + z^{2} \\left(- \\frac{r^{7}}{240} + \\frac{13 r^{6}}{120} - \\frac{9 r^{5}}{8} + \\frac{71 r^{4}}{12} - \\frac{3929 r^{3}}{240} + \\frac{879 r^{2}}{40} - \\frac{21 r}{2}\\right) + z \\left(\\frac{r^{7}}{720} - \\frac{3 r^{6}}{80} + \\frac{59 r^{5}}{144} - \\frac{37 r^{4}}{16} + \\frac{319 r^{3}}{45} - \\frac{223 r^{2}}{20} + 7 r\\right) + 1$$"
      ],
      "text/plain": [
       "           7      6       5      4        3        2              ⎛  7      6 \n",
       "          r      r    23⋅r    7⋅r    967⋅r    469⋅r    363⋅r    7 ⎜ r      r  \n",
       "g(z) = - ──── + ─── - ───── + ──── - ────── + ────── - ───── + z ⋅⎜──── - ─── \n",
       "         5040   180    360     18     720      180      140       ⎝5040   240 \n",
       "\n",
       "     5      4       3      2    ⎞      ⎛    7       6       5       4         \n",
       "  5⋅r    7⋅r    29⋅r    7⋅r    r⎟    6 ⎜   r    11⋅r    19⋅r    41⋅r    1849⋅r\n",
       "+ ──── - ──── + ───── - ──── + ─⎟ + z ⋅⎜- ─── + ───── - ───── + ───── - ──────\n",
       "  144     48      90     20    7⎠      ⎝  720    360      72      36      720 \n",
       "\n",
       "3         2      ⎞      ⎛  7       6       5        4        3        2       \n",
       "    1019⋅r    7⋅r⎟    5 ⎜ r    23⋅r    69⋅r    185⋅r    134⋅r    201⋅r    21⋅r\n",
       "─ + ─────── - ───⎟ + z ⋅⎜─── - ───── + ───── - ────── + ────── - ────── + ────\n",
       "      360      6 ⎠      ⎝240    240      80      48       15       20      5  \n",
       "\n",
       "⎞      ⎛    7    6        5       4         3       2       ⎞      ⎛  7       \n",
       "⎟    4 ⎜   r    r    113⋅r    22⋅r    2545⋅r    41⋅r    35⋅r⎟    3 ⎜ r    25⋅r\n",
       "⎟ + z ⋅⎜- ─── + ── - ────── + ───── - ─────── + ───── - ────⎟ + z ⋅⎜─── - ────\n",
       "⎠      ⎝  144   6      72       3       144       2      4  ⎠      ⎝144    144\n",
       "\n",
       "6        5         4        3        2       ⎞      ⎛    7       6      5     \n",
       "    247⋅r    1219⋅r    389⋅r    949⋅r    35⋅r⎟    2 ⎜   r    13⋅r    9⋅r    71\n",
       "─ + ────── - ─────── + ────── - ────── + ────⎟ + z ⋅⎜- ─── + ───── - ──── + ──\n",
       "     144       144       18       36      3  ⎠      ⎝  240    120     8       \n",
       "\n",
       "  4         3        2       ⎞     ⎛  7      6       5       4        3       \n",
       "⋅r    3929⋅r    879⋅r    21⋅r⎟     ⎜ r    3⋅r    59⋅r    37⋅r    319⋅r    223⋅\n",
       "─── - ─────── + ────── - ────⎟ + z⋅⎜─── - ──── + ───── - ───── + ────── - ────\n",
       "12      240       40      2  ⎠     ⎝720    80     144      16      45       20\n",
       "\n",
       " 2      ⎞    \n",
       "r       ⎟    \n",
       "── + 7⋅r⎟ + 1\n",
       "        ⎠    "
      ]
     },
     "execution_count": 84,
     "metadata": {},
     "output_type": "execute_result"
    }
   ],
   "source": [
    "g_power = g_power.subs(eigenvals)\n",
    "g_power"
   ]
  },
  {
   "cell_type": "code",
   "execution_count": 85,
   "metadata": {
    "collapsed": false,
    "deletable": true,
    "editable": true
   },
   "outputs": [
    {
     "data": {
      "image/png": "[encoded data removed]",
      "text/latex": [
       "$$\\left[\\begin{matrix}1 & 0 & 0 & 0 & 0 & 0 & 0 & 0\\\\r & 1 & 0 & 0 & 0 & 0 & 0 & 0\\\\r^{2} & 2 r & 1 & 0 & 0 & 0 & 0 & 0\\\\r^{3} & 3 r^{2} & 3 r & 1 & 0 & 0 & 0 & 0\\\\r^{4} & 4 r^{3} & 6 r^{2} & 4 r & 1 & 0 & 0 & 0\\\\r^{5} & 5 r^{4} & 10 r^{3} & 10 r^{2} & 5 r & 1 & 0 & 0\\\\r^{6} & 6 r^{5} & 15 r^{4} & 20 r^{3} & 15 r^{2} & 6 r & 1 & 0\\\\r^{7} & 7 r^{6} & 21 r^{5} & 35 r^{4} & 35 r^{3} & 21 r^{2} & 7 r & 1\\end{matrix}\\right]$$"
      ],
      "text/plain": [
       "⎡1    0      0      0      0      0     0   0⎤\n",
       "⎢                                            ⎥\n",
       "⎢r    1      0      0      0      0     0   0⎥\n",
       "⎢                                            ⎥\n",
       "⎢ 2                                          ⎥\n",
       "⎢r   2⋅r     1      0      0      0     0   0⎥\n",
       "⎢                                            ⎥\n",
       "⎢ 3     2                                    ⎥\n",
       "⎢r   3⋅r    3⋅r     1      0      0     0   0⎥\n",
       "⎢                                            ⎥\n",
       "⎢ 4     3     2                              ⎥\n",
       "⎢r   4⋅r   6⋅r     4⋅r     1      0     0   0⎥\n",
       "⎢                                            ⎥\n",
       "⎢ 5     4      3      2                      ⎥\n",
       "⎢r   5⋅r   10⋅r   10⋅r    5⋅r     1     0   0⎥\n",
       "⎢                                            ⎥\n",
       "⎢ 6     5      4      3      2               ⎥\n",
       "⎢r   6⋅r   15⋅r   20⋅r   15⋅r    6⋅r    1   0⎥\n",
       "⎢                                            ⎥\n",
       "⎢ 7     6      5      4      3      2        ⎥\n",
       "⎣r   7⋅r   21⋅r   35⋅r   35⋅r   21⋅r   7⋅r  1⎦"
      ]
     },
     "execution_count": 85,
     "metadata": {},
     "output_type": "execute_result"
    }
   ],
   "source": [
    "with lift_to_matrix_function(g_power) as g_power:\n",
    "    m_power = g_power(P)\n",
    "m_power"
   ]
  },
  {
   "cell_type": "code",
   "execution_count": 86,
   "metadata": {
    "collapsed": false,
    "deletable": true,
    "editable": true
   },
   "outputs": [
    {
     "data": {
      "image/png": "[encoded data removed]",
      "text/latex": [
       "$$\\left[\\begin{matrix}1 & r & 0 & 0 & 0 & 0 & 0 & 0\\\\1 & r & 0 & 0 & 0 & 0 & 0 & 0\\\\1 & r & 0 & 0 & 0 & 0 & 0 & 0\\\\1 & r & 0 & 0 & 0 & 0 & 0 & 0\\\\1 & r & 0 & 0 & 0 & 0 & 0 & 0\\\\1 & r & 0 & 0 & 0 & 0 & 0 & 0\\\\1 & r & 0 & 0 & 0 & 0 & 0 & 0\\end{matrix}\\right]$$"
      ],
      "text/plain": [
       "⎡1  r  0  0  0  0  0  0⎤\n",
       "⎢                      ⎥\n",
       "⎢1  r  0  0  0  0  0  0⎥\n",
       "⎢                      ⎥\n",
       "⎢1  r  0  0  0  0  0  0⎥\n",
       "⎢                      ⎥\n",
       "⎢1  r  0  0  0  0  0  0⎥\n",
       "⎢                      ⎥\n",
       "⎢1  r  0  0  0  0  0  0⎥\n",
       "⎢                      ⎥\n",
       "⎢1  r  0  0  0  0  0  0⎥\n",
       "⎢                      ⎥\n",
       "⎣1  r  0  0  0  0  0  0⎦"
      ]
     },
     "execution_count": 86,
     "metadata": {},
     "output_type": "execute_result"
    }
   ],
   "source": [
    "Asequence(m_power)"
   ]
  },
  {
   "cell_type": "code",
   "execution_count": 87,
   "metadata": {
    "collapsed": false
   },
   "outputs": [
    {
     "data": {
      "image/png": "[encoded data removed]",
      "text/latex": [
       "$$\\left[\\begin{matrix}r & 1 & 0 & 0 & 0 & 0 & 0\\\\0 & r & 1 & 0 & 0 & 0 & 0\\\\0 & 0 & r & 1 & 0 & 0 & 0\\\\0 & 0 & 0 & r & 1 & 0 & 0\\\\0 & 0 & 0 & 0 & r & 1 & 0\\\\0 & 0 & 0 & 0 & 0 & r & 1\\\\0 & 0 & 0 & 0 & 0 & 0 & r\\end{matrix}\\right]$$"
      ],
      "text/plain": [
       "⎡r  1  0  0  0  0  0⎤\n",
       "⎢                   ⎥\n",
       "⎢0  r  1  0  0  0  0⎥\n",
       "⎢                   ⎥\n",
       "⎢0  0  r  1  0  0  0⎥\n",
       "⎢                   ⎥\n",
       "⎢0  0  0  r  1  0  0⎥\n",
       "⎢                   ⎥\n",
       "⎢0  0  0  0  r  1  0⎥\n",
       "⎢                   ⎥\n",
       "⎢0  0  0  0  0  r  1⎥\n",
       "⎢                   ⎥\n",
       "⎣0  0  0  0  0  0  r⎦"
      ]
     },
     "execution_count": 87,
     "metadata": {},
     "output_type": "execute_result"
    }
   ],
   "source": [
    "production_matrix_ordinary(m_power)"
   ]
  },
  {
   "cell_type": "code",
   "execution_count": 24,
   "metadata": {
    "collapsed": false,
    "deletable": true,
    "editable": true
   },
   "outputs": [
    {
     "data": {
      "image/png": "[encoded data removed]",
      "text/latex": [
       "$$\\left[\\begin{matrix}1 & 0 & 0 & 0 & 0 & 0 & 0 & 0\\\\\\frac{1}{2} & 1 & 0 & 0 & 0 & 0 & 0 & 0\\\\\\frac{1}{4} & 1 & 1 & 0 & 0 & 0 & 0 & 0\\\\\\frac{1}{8} & \\frac{3}{4} & \\frac{3}{2} & 1 & 0 & 0 & 0 & 0\\\\\\frac{1}{16} & \\frac{1}{2} & \\frac{3}{2} & 2 & 1 & 0 & 0 & 0\\\\\\frac{1}{32} & \\frac{5}{16} & \\frac{5}{4} & \\frac{5}{2} & \\frac{5}{2} & 1 & 0 & 0\\\\\\frac{1}{64} & \\frac{3}{16} & \\frac{15}{16} & \\frac{5}{2} & \\frac{15}{4} & 3 & 1 & 0\\\\\\frac{1}{128} & \\frac{7}{64} & \\frac{21}{32} & \\frac{35}{16} & \\frac{35}{8} & \\frac{21}{4} & \\frac{7}{2} & 1\\end{matrix}\\right]$$"
      ],
      "text/plain": [
       "⎡  1     0     0    0    0     0     0   0⎤\n",
       "⎢                                         ⎥\n",
       "⎢ 1/2    1     0    0    0     0     0   0⎥\n",
       "⎢                                         ⎥\n",
       "⎢ 1/4    1     1    0    0     0     0   0⎥\n",
       "⎢                                         ⎥\n",
       "⎢ 1/8   3/4   3/2   1    0     0     0   0⎥\n",
       "⎢                                         ⎥\n",
       "⎢1/16   1/2   3/2   2    1     0     0   0⎥\n",
       "⎢                                         ⎥\n",
       "⎢1/32   5/16  5/4  5/2  5/2    1     0   0⎥\n",
       "⎢                                         ⎥\n",
       "⎢             15                          ⎥\n",
       "⎢1/64   3/16  ──   5/2  15/4   3     1   0⎥\n",
       "⎢             16                          ⎥\n",
       "⎢                                         ⎥\n",
       "⎢             21   35                     ⎥\n",
       "⎢1/128  7/64  ──   ──   35/8  21/4  7/2  1⎥\n",
       "⎣             32   16                     ⎦"
      ]
     },
     "execution_count": 24,
     "metadata": {},
     "output_type": "execute_result"
    }
   ],
   "source": [
    "m_power.subs({r:S(1)/2})"
   ]
  },
  {
   "cell_type": "code",
   "execution_count": 25,
   "metadata": {
    "collapsed": false,
    "deletable": true,
    "editable": true
   },
   "outputs": [
    {
     "data": {
      "image/png": "[encoded data removed]",
      "text/latex": [
       "$$\\left[\\begin{matrix}1 & 0 & 0 & 0 & 0 & 0 & 0 & 0\\\\r & 1 & 0 & 0 & 0 & 0 & 0 & 0\\\\r^{2} & 2 r & 1 & 0 & 0 & 0 & 0 & 0\\\\r^{3} & 3 r^{2} & 3 r & 1 & 0 & 0 & 0 & 0\\\\r^{4} & 4 r^{3} & 6 r^{2} & 4 r & 1 & 0 & 0 & 0\\\\r^{5} & 5 r^{4} & 10 r^{3} & 10 r^{2} & 5 r & 1 & 0 & 0\\\\r^{6} & 6 r^{5} & 15 r^{4} & 20 r^{3} & 15 r^{2} & 6 r & 1 & 0\\\\r^{7} & 7 r^{6} & 21 r^{5} & 35 r^{4} & 35 r^{3} & 21 r^{2} & 7 r & 1\\end{matrix}\\right]$$"
      ],
      "text/plain": [
       "⎡1    0      0      0      0      0     0   0⎤\n",
       "⎢                                            ⎥\n",
       "⎢r    1      0      0      0      0     0   0⎥\n",
       "⎢                                            ⎥\n",
       "⎢ 2                                          ⎥\n",
       "⎢r   2⋅r     1      0      0      0     0   0⎥\n",
       "⎢                                            ⎥\n",
       "⎢ 3     2                                    ⎥\n",
       "⎢r   3⋅r    3⋅r     1      0      0     0   0⎥\n",
       "⎢                                            ⎥\n",
       "⎢ 4     3     2                              ⎥\n",
       "⎢r   4⋅r   6⋅r     4⋅r     1      0     0   0⎥\n",
       "⎢                                            ⎥\n",
       "⎢ 5     4      3      2                      ⎥\n",
       "⎢r   5⋅r   10⋅r   10⋅r    5⋅r     1     0   0⎥\n",
       "⎢                                            ⎥\n",
       "⎢ 6     5      4      3      2               ⎥\n",
       "⎢r   6⋅r   15⋅r   20⋅r   15⋅r    6⋅r    1   0⎥\n",
       "⎢                                            ⎥\n",
       "⎢ 7     6      5      4      3      2        ⎥\n",
       "⎣r   7⋅r   21⋅r   35⋅r   35⋅r   21⋅r   7⋅r  1⎦"
      ]
     },
     "execution_count": 25,
     "metadata": {},
     "output_type": "execute_result"
    }
   ],
   "source": [
    "(P**r).applyfunc(simplify)"
   ]
  },
  {
   "cell_type": "markdown",
   "metadata": {
    "deletable": true,
    "editable": true
   },
   "source": [
    "## `sqrt` function"
   ]
  },
  {
   "cell_type": "code",
   "execution_count": 11,
   "metadata": {
    "collapsed": false,
    "deletable": true,
    "editable": true
   },
   "outputs": [
    {
     "data": {
      "image/png": "[encoded data removed]",
      "text/latex": [
       "$$f{\\left (z \\right )} = \\sqrt{z}$$"
      ],
      "text/plain": [
       "f(z) = √z"
      ]
     },
     "execution_count": 11,
     "metadata": {},
     "output_type": "execute_result"
    }
   ],
   "source": [
    "f = Function('f')\n",
    "f_sqrt = define(let=f(z), be=sqrt(z))\n",
    "f_sqrt"
   ]
  },
  {
   "cell_type": "code",
   "execution_count": 12,
   "metadata": {
    "collapsed": false,
    "deletable": true,
    "editable": true
   },
   "outputs": [
    {
     "data": {
      "image/png": "[encoded data removed]",
      "text/latex": [
       "$$g{\\left (z \\right )} = \\frac{33 z^{7}}{2048 \\lambda_{1}^{\\frac{13}{2}}} + z^{6} \\left(- \\frac{21}{1024 \\lambda_{1}^{\\frac{11}{2}}} - \\frac{231}{2048 \\lambda_{1}^{\\frac{13}{2}}}\\right) + z^{5} \\left(\\frac{7}{256 \\lambda_{1}^{\\frac{9}{2}}} + \\frac{63}{512 \\lambda_{1}^{\\frac{11}{2}}} + \\frac{693}{2048 \\lambda_{1}^{\\frac{13}{2}}}\\right) + z^{4} \\left(- \\frac{5}{128 \\lambda_{1}^{\\frac{7}{2}}} - \\frac{35}{256 \\lambda_{1}^{\\frac{9}{2}}} - \\frac{315}{1024 \\lambda_{1}^{\\frac{11}{2}}} - \\frac{1155}{2048 \\lambda_{1}^{\\frac{13}{2}}}\\right) + z^{3} \\left(\\frac{1}{16 \\lambda_{1}^{\\frac{5}{2}}} + \\frac{5}{32 \\lambda_{1}^{\\frac{7}{2}}} + \\frac{35}{128 \\lambda_{1}^{\\frac{9}{2}}} + \\frac{105}{256 \\lambda_{1}^{\\frac{11}{2}}} + \\frac{1155}{2048 \\lambda_{1}^{\\frac{13}{2}}}\\right) + z^{2} \\left(- \\frac{1}{8 \\lambda_{1}^{\\frac{3}{2}}} - \\frac{3}{16 \\lambda_{1}^{\\frac{5}{2}}} - \\frac{15}{64 \\lambda_{1}^{\\frac{7}{2}}} - \\frac{35}{128 \\lambda_{1}^{\\frac{9}{2}}} - \\frac{315}{1024 \\lambda_{1}^{\\frac{11}{2}}} - \\frac{693}{2048 \\lambda_{1}^{\\frac{13}{2}}}\\right) + z \\left(\\frac{1}{2 \\sqrt{\\lambda_{1}}} + \\frac{1}{4 \\lambda_{1}^{\\frac{3}{2}}} + \\frac{3}{16 \\lambda_{1}^{\\frac{5}{2}}} + \\frac{5}{32 \\lambda_{1}^{\\frac{7}{2}}} + \\frac{35}{256 \\lambda_{1}^{\\frac{9}{2}}} + \\frac{63}{512 \\lambda_{1}^{\\frac{11}{2}}} + \\frac{231}{2048 \\lambda_{1}^{\\frac{13}{2}}}\\right) + \\sqrt{\\lambda_{1}} - \\frac{1}{2 \\sqrt{\\lambda_{1}}} - \\frac{1}{8 \\lambda_{1}^{\\frac{3}{2}}} - \\frac{1}{16 \\lambda_{1}^{\\frac{5}{2}}} - \\frac{5}{128 \\lambda_{1}^{\\frac{7}{2}}} - \\frac{7}{256 \\lambda_{1}^{\\frac{9}{2}}} - \\frac{21}{1024 \\lambda_{1}^{\\frac{11}{2}}} - \\frac{33}{2048 \\lambda_{1}^{\\frac{13}{2}}}$$"
      ],
      "text/plain": [
       "                  7                                                           \n",
       "              33⋅z            6 ⎛           21                   231        ⎞ \n",
       "g(z) = ─────────────────── + z ⋅⎜- ─────────────────── - ───────────────────⎟ \n",
       "                      13/2      ⎜                 11/2                  13/2⎟ \n",
       "       2048⋅\\lambda[1]          ⎝  1024⋅\\lambda[1]       2048⋅\\lambda[1]    ⎠ \n",
       "\n",
       "                                                                              \n",
       "   5 ⎛        7                   63                   693        ⎞    4 ⎛    \n",
       "+ z ⋅⎜───────────────── + ────────────────── + ───────────────────⎟ + z ⋅⎜- ──\n",
       "     ⎜              9/2                 11/2                  13/2⎟      ⎜    \n",
       "     ⎝256⋅\\lambda[1]      512⋅\\lambda[1]       2048⋅\\lambda[1]    ⎠      ⎝  12\n",
       "\n",
       "                                                                              \n",
       "      5                   35                  315                   1155      \n",
       "─────────────── - ───────────────── - ─────────────────── - ──────────────────\n",
       "            7/2                 9/2                  11/2                  13/\n",
       "8⋅\\lambda[1]      256⋅\\lambda[1]      1024⋅\\lambda[1]       2048⋅\\lambda[1]   \n",
       "\n",
       "                                                                              \n",
       " ⎞    3 ⎛       1                  5                   35                 105 \n",
       "─⎟ + z ⋅⎜──────────────── + ──────────────── + ───────────────── + ───────────\n",
       "2⎟      ⎜             5/2                7/2                 9/2              \n",
       " ⎠      ⎝16⋅\\lambda[1]      32⋅\\lambda[1]      128⋅\\lambda[1]      256⋅\\lambda\n",
       "\n",
       "                                                                              \n",
       "                  1155       ⎞    2 ⎛         1                 3             \n",
       "─────── + ───────────────────⎟ + z ⋅⎜- ─────────────── - ──────────────── - ──\n",
       "   11/2                  13/2⎟      ⎜              3/2                5/2     \n",
       "[1]       2048⋅\\lambda[1]    ⎠      ⎝  8⋅\\lambda[1]      16⋅\\lambda[1]      64\n",
       "\n",
       "                                                                              \n",
       "     15                  35                  315                   693        \n",
       "────────────── - ───────────────── - ─────────────────── - ───────────────────\n",
       "           7/2                 9/2                  11/2                  13/2\n",
       "⋅\\lambda[1]      128⋅\\lambda[1]      1024⋅\\lambda[1]       2048⋅\\lambda[1]    \n",
       "\n",
       "                                                                              \n",
       "⎞     ⎛       1                  1                 3                  5       \n",
       "⎟ + z⋅⎜──────────────── + ─────────────── + ──────────────── + ───────────────\n",
       "⎟     ⎜    ____________               3/2                5/2                7/\n",
       "⎠     ⎝2⋅╲╱ \\lambda[1]    4⋅\\lambda[1]      16⋅\\lambda[1]      32⋅\\lambda[1]  \n",
       "\n",
       "                                                                              \n",
       "            35                  63                   231        ⎞     ________\n",
       "─ + ───────────────── + ────────────────── + ───────────────────⎟ + ╲╱ \\lambda\n",
       "2                 9/2                 11/2                  13/2⎟             \n",
       "    256⋅\\lambda[1]      512⋅\\lambda[1]       2048⋅\\lambda[1]    ⎠             \n",
       "\n",
       "                                                                              \n",
       "____          1                  1                 1                   5      \n",
       "[1]  - ──────────────── - ─────────────── - ──────────────── - ───────────────\n",
       "           ____________               3/2                5/2                 7\n",
       "       2⋅╲╱ \\lambda[1]    8⋅\\lambda[1]      16⋅\\lambda[1]      128⋅\\lambda[1] \n",
       "\n",
       "                                                                  \n",
       "             7                    21                    33        \n",
       "── - ───────────────── - ─────────────────── - ───────────────────\n",
       "/2                 9/2                  11/2                  13/2\n",
       "     256⋅\\lambda[1]      1024⋅\\lambda[1]       2048⋅\\lambda[1]    "
      ]
     },
     "execution_count": 12,
     "metadata": {},
     "output_type": "execute_result"
    }
   ],
   "source": [
    "g_sqrt = g_poly(f_sqrt, eigendata, Phi_polynomials)\n",
    "g_sqrt"
   ]
  },
  {
   "cell_type": "code",
   "execution_count": 13,
   "metadata": {
    "collapsed": false,
    "deletable": true,
    "editable": true
   },
   "outputs": [
    {
     "data": {
      "image/png": "[encoded data removed]",
      "text/latex": [
       "$$g{\\left (z \\right )} = \\frac{33 z^{7}}{2048} - \\frac{273 z^{6}}{2048} + \\frac{1001 z^{5}}{2048} - \\frac{2145 z^{4}}{2048} + \\frac{3003 z^{3}}{2048} - \\frac{3003 z^{2}}{2048} + \\frac{3003 z}{2048} + \\frac{429}{2048}$$"
      ],
      "text/plain": [
       "           7        6         5         4         3         2                \n",
       "       33⋅z    273⋅z    1001⋅z    2145⋅z    3003⋅z    3003⋅z    3003⋅z   429 \n",
       "g(z) = ───── - ────── + ─────── - ─────── + ─────── - ─────── + ────── + ────\n",
       "        2048    2048      2048      2048      2048      2048     2048    2048"
      ]
     },
     "execution_count": 13,
     "metadata": {},
     "output_type": "execute_result"
    }
   ],
   "source": [
    "g_sqrt = g_sqrt.subs(eigenvals)\n",
    "g_sqrt"
   ]
  },
  {
   "cell_type": "code",
   "execution_count": 14,
   "metadata": {
    "collapsed": false,
    "deletable": true,
    "editable": true
   },
   "outputs": [
    {
     "data": {
      "image/png": "[encoded data removed]",
      "text/latex": [
       "$$\\left[\\begin{matrix}1 & 0 & 0 & 0 & 0 & 0 & 0 & 0\\\\\\frac{1}{2} & 1 & 0 & 0 & 0 & 0 & 0 & 0\\\\\\frac{1}{4} & 1 & 1 & 0 & 0 & 0 & 0 & 0\\\\\\frac{1}{8} & \\frac{3}{4} & \\frac{3}{2} & 1 & 0 & 0 & 0 & 0\\\\\\frac{1}{16} & \\frac{1}{2} & \\frac{3}{2} & 2 & 1 & 0 & 0 & 0\\\\\\frac{1}{32} & \\frac{5}{16} & \\frac{5}{4} & \\frac{5}{2} & \\frac{5}{2} & 1 & 0 & 0\\\\\\frac{1}{64} & \\frac{3}{16} & \\frac{15}{16} & \\frac{5}{2} & \\frac{15}{4} & 3 & 1 & 0\\\\\\frac{1}{128} & \\frac{7}{64} & \\frac{21}{32} & \\frac{35}{16} & \\frac{35}{8} & \\frac{21}{4} & \\frac{7}{2} & 1\\end{matrix}\\right]$$"
      ],
      "text/plain": [
       "⎡  1     0     0    0    0     0     0   0⎤\n",
       "⎢                                         ⎥\n",
       "⎢ 1/2    1     0    0    0     0     0   0⎥\n",
       "⎢                                         ⎥\n",
       "⎢ 1/4    1     1    0    0     0     0   0⎥\n",
       "⎢                                         ⎥\n",
       "⎢ 1/8   3/4   3/2   1    0     0     0   0⎥\n",
       "⎢                                         ⎥\n",
       "⎢1/16   1/2   3/2   2    1     0     0   0⎥\n",
       "⎢                                         ⎥\n",
       "⎢1/32   5/16  5/4  5/2  5/2    1     0   0⎥\n",
       "⎢                                         ⎥\n",
       "⎢             15                          ⎥\n",
       "⎢1/64   3/16  ──   5/2  15/4   3     1   0⎥\n",
       "⎢             16                          ⎥\n",
       "⎢                                         ⎥\n",
       "⎢             21   35                     ⎥\n",
       "⎢1/128  7/64  ──   ──   35/8  21/4  7/2  1⎥\n",
       "⎣             32   16                     ⎦"
      ]
     },
     "execution_count": 14,
     "metadata": {},
     "output_type": "execute_result"
    }
   ],
   "source": [
    "with lift_to_matrix_function(g_sqrt) as g_sqrt:\n",
    "    m_sqrt = g_sqrt(P)\n",
    "m_sqrt"
   ]
  },
  {
   "cell_type": "code",
   "execution_count": 58,
   "metadata": {
    "collapsed": false,
    "deletable": true,
    "editable": true
   },
   "outputs": [
    {
     "data": {
      "image/png": "[encoded data removed]",
      "text/latex": [
       "$$\\left[\\begin{matrix}1 & \\frac{1}{2} & 0 & 0 & 0 & 0 & 0 & 0\\\\1 & \\frac{1}{2} & 0 & 0 & 0 & 0 & 0 & 0\\\\1 & \\frac{1}{2} & 0 & 0 & 0 & 0 & 0 & 0\\\\1 & \\frac{1}{2} & 0 & 0 & 0 & 0 & 0 & 0\\\\1 & \\frac{1}{2} & 0 & 0 & 0 & 0 & 0 & 0\\\\1 & \\frac{1}{2} & 0 & 0 & 0 & 0 & 0 & 0\\\\1 & \\frac{1}{2} & 0 & 0 & 0 & 0 & 0 & 0\\end{matrix}\\right]$$"
      ],
      "text/plain": [
       "⎡1  1/2  0  0  0  0  0  0⎤\n",
       "⎢                        ⎥\n",
       "⎢1  1/2  0  0  0  0  0  0⎥\n",
       "⎢                        ⎥\n",
       "⎢1  1/2  0  0  0  0  0  0⎥\n",
       "⎢                        ⎥\n",
       "⎢1  1/2  0  0  0  0  0  0⎥\n",
       "⎢                        ⎥\n",
       "⎢1  1/2  0  0  0  0  0  0⎥\n",
       "⎢                        ⎥\n",
       "⎢1  1/2  0  0  0  0  0  0⎥\n",
       "⎢                        ⎥\n",
       "⎣1  1/2  0  0  0  0  0  0⎦"
      ]
     },
     "execution_count": 58,
     "metadata": {},
     "output_type": "execute_result"
    }
   ],
   "source": [
    "Asequence(m_sqrt)"
   ]
  },
  {
   "cell_type": "code",
   "execution_count": 35,
   "metadata": {
    "collapsed": false,
    "deletable": true,
    "editable": true
   },
   "outputs": [
    {
     "data": {
      "image/png": "[encoded data removed]",
      "text/latex": [
       "$$\\left[\\begin{matrix}1 & 0 & 0 & 0 & 0 & 0 & 0 & 0\\\\1 & 1 & 0 & 0 & 0 & 0 & 0 & 0\\\\1 & 2 & 1 & 0 & 0 & 0 & 0 & 0\\\\1 & 3 & 3 & 1 & 0 & 0 & 0 & 0\\\\1 & 4 & 6 & 4 & 1 & 0 & 0 & 0\\\\1 & 5 & 10 & 10 & 5 & 1 & 0 & 0\\\\1 & 6 & 15 & 20 & 15 & 6 & 1 & 0\\\\1 & 7 & 21 & 35 & 35 & 21 & 7 & 1\\end{matrix}\\right]$$"
      ],
      "text/plain": [
       "⎡1  0  0   0   0   0   0  0⎤\n",
       "⎢                          ⎥\n",
       "⎢1  1  0   0   0   0   0  0⎥\n",
       "⎢                          ⎥\n",
       "⎢1  2  1   0   0   0   0  0⎥\n",
       "⎢                          ⎥\n",
       "⎢1  3  3   1   0   0   0  0⎥\n",
       "⎢                          ⎥\n",
       "⎢1  4  6   4   1   0   0  0⎥\n",
       "⎢                          ⎥\n",
       "⎢1  5  10  10  5   1   0  0⎥\n",
       "⎢                          ⎥\n",
       "⎢1  6  15  20  15  6   1  0⎥\n",
       "⎢                          ⎥\n",
       "⎣1  7  21  35  35  21  7  1⎦"
      ]
     },
     "execution_count": 35,
     "metadata": {},
     "output_type": "execute_result"
    }
   ],
   "source": [
    "Matrix(m, m, lambda i, j: m_sqrt[i,j]*(2**(i-j)))"
   ]
  },
  {
   "cell_type": "code",
   "execution_count": 36,
   "metadata": {
    "collapsed": false,
    "deletable": true,
    "editable": true
   },
   "outputs": [
    {
     "data": {
      "image/png": "[encoded data removed]",
      "text/latex": [
       "$$\\left[\\begin{matrix}1 & 0 & 0 & 0 & 0 & 0 & 0 & 0\\\\- \\frac{1}{2} & 1 & 0 & 0 & 0 & 0 & 0 & 0\\\\\\frac{1}{4} & -1 & 1 & 0 & 0 & 0 & 0 & 0\\\\- \\frac{1}{8} & \\frac{3}{4} & - \\frac{3}{2} & 1 & 0 & 0 & 0 & 0\\\\\\frac{1}{16} & - \\frac{1}{2} & \\frac{3}{2} & -2 & 1 & 0 & 0 & 0\\\\- \\frac{1}{32} & \\frac{5}{16} & - \\frac{5}{4} & \\frac{5}{2} & - \\frac{5}{2} & 1 & 0 & 0\\\\\\frac{1}{64} & - \\frac{3}{16} & \\frac{15}{16} & - \\frac{5}{2} & \\frac{15}{4} & -3 & 1 & 0\\\\- \\frac{1}{128} & \\frac{7}{64} & - \\frac{21}{32} & \\frac{35}{16} & - \\frac{35}{8} & \\frac{21}{4} & - \\frac{7}{2} & 1\\end{matrix}\\right]$$"
      ],
      "text/plain": [
       "⎡  1       0     0     0      0     0     0    0⎤\n",
       "⎢                                               ⎥\n",
       "⎢ -1/2     1     0     0      0     0     0    0⎥\n",
       "⎢                                               ⎥\n",
       "⎢ 1/4     -1     1     0      0     0     0    0⎥\n",
       "⎢                                               ⎥\n",
       "⎢ -1/8    3/4   -3/2   1      0     0     0    0⎥\n",
       "⎢                                               ⎥\n",
       "⎢ 1/16   -1/2   3/2    -2     1     0     0    0⎥\n",
       "⎢                                               ⎥\n",
       "⎢-1/32   5/16   -5/4  5/2   -5/2    1     0    0⎥\n",
       "⎢                                               ⎥\n",
       "⎢                15                             ⎥\n",
       "⎢ 1/64   -3/16   ──   -5/2  15/4    -3    1    0⎥\n",
       "⎢                16                             ⎥\n",
       "⎢                                               ⎥\n",
       "⎢               -21    35                       ⎥\n",
       "⎢-1/128  7/64   ────   ──   -35/8  21/4  -7/2  1⎥\n",
       "⎣                32    16                       ⎦"
      ]
     },
     "execution_count": 36,
     "metadata": {},
     "output_type": "execute_result"
    }
   ],
   "source": [
    "g_inverse(P)*m_sqrt"
   ]
  },
  {
   "cell_type": "code",
   "execution_count": 62,
   "metadata": {
    "collapsed": false,
    "deletable": true,
    "editable": true
   },
   "outputs": [
    {
     "data": {
      "image/png": "[encoded data removed]",
      "text/latex": [
       "$$\\left[\\begin{matrix}\\frac{1}{2} & 1 & 0 & 0 & 0 & 0 & 0\\\\0 & \\frac{1}{2} & 1 & 0 & 0 & 0 & 0\\\\0 & 0 & \\frac{1}{2} & 1 & 0 & 0 & 0\\\\0 & 0 & 0 & \\frac{1}{2} & 1 & 0 & 0\\\\0 & 0 & 0 & 0 & \\frac{1}{2} & 1 & 0\\\\0 & 0 & 0 & 0 & 0 & \\frac{1}{2} & 1\\\\0 & 0 & 0 & 0 & 0 & 0 & \\frac{1}{2}\\end{matrix}\\right]$$"
      ],
      "text/plain": [
       "⎡1/2   1    0    0    0    0    0 ⎤\n",
       "⎢                                 ⎥\n",
       "⎢ 0   1/2   1    0    0    0    0 ⎥\n",
       "⎢                                 ⎥\n",
       "⎢ 0    0   1/2   1    0    0    0 ⎥\n",
       "⎢                                 ⎥\n",
       "⎢ 0    0    0   1/2   1    0    0 ⎥\n",
       "⎢                                 ⎥\n",
       "⎢ 0    0    0    0   1/2   1    0 ⎥\n",
       "⎢                                 ⎥\n",
       "⎢ 0    0    0    0    0   1/2   1 ⎥\n",
       "⎢                                 ⎥\n",
       "⎣ 0    0    0    0    0    0   1/2⎦"
      ]
     },
     "execution_count": 62,
     "metadata": {},
     "output_type": "execute_result"
    }
   ],
   "source": [
    "production_matrix_ordinary(m_sqrt)"
   ]
  },
  {
   "cell_type": "code",
   "execution_count": 30,
   "metadata": {
    "collapsed": false,
    "deletable": true,
    "editable": true
   },
   "outputs": [
    {
     "data": {
      "image/png": "[encoded data removed]",
      "text/latex": [
       "$$\\left[\\begin{matrix}1 & 0 & 0 & 0 & 0 & 0 & 0 & 0\\\\\\frac{1}{2} & 1 & 0 & 0 & 0 & 0 & 0 & 0\\\\\\frac{1}{4} & 1 & 1 & 0 & 0 & 0 & 0 & 0\\\\\\frac{1}{8} & \\frac{3}{4} & \\frac{3}{2} & 1 & 0 & 0 & 0 & 0\\\\\\frac{1}{16} & \\frac{1}{2} & \\frac{3}{2} & 2 & 1 & 0 & 0 & 0\\\\\\frac{1}{32} & \\frac{5}{16} & \\frac{5}{4} & \\frac{5}{2} & \\frac{5}{2} & 1 & 0 & 0\\\\\\frac{1}{64} & \\frac{3}{16} & \\frac{15}{16} & \\frac{5}{2} & \\frac{15}{4} & 3 & 1 & 0\\\\\\frac{1}{128} & \\frac{7}{64} & \\frac{21}{32} & \\frac{35}{16} & \\frac{35}{8} & \\frac{21}{4} & \\frac{7}{2} & 1\\end{matrix}\\right]$$"
      ],
      "text/plain": [
       "⎡  1     0     0    0    0     0     0   0⎤\n",
       "⎢                                         ⎥\n",
       "⎢ 1/2    1     0    0    0     0     0   0⎥\n",
       "⎢                                         ⎥\n",
       "⎢ 1/4    1     1    0    0     0     0   0⎥\n",
       "⎢                                         ⎥\n",
       "⎢ 1/8   3/4   3/2   1    0     0     0   0⎥\n",
       "⎢                                         ⎥\n",
       "⎢1/16   1/2   3/2   2    1     0     0   0⎥\n",
       "⎢                                         ⎥\n",
       "⎢1/32   5/16  5/4  5/2  5/2    1     0   0⎥\n",
       "⎢                                         ⎥\n",
       "⎢             15                          ⎥\n",
       "⎢1/64   3/16  ──   5/2  15/4   3     1   0⎥\n",
       "⎢             16                          ⎥\n",
       "⎢                                         ⎥\n",
       "⎢             21   35                     ⎥\n",
       "⎢1/128  7/64  ──   ──   35/8  21/4  7/2  1⎥\n",
       "⎣             32   16                     ⎦"
      ]
     },
     "execution_count": 30,
     "metadata": {},
     "output_type": "execute_result"
    }
   ],
   "source": [
    "P**(S(1)/2)"
   ]
  },
  {
   "cell_type": "markdown",
   "metadata": {
    "deletable": true,
    "editable": true
   },
   "source": [
    "## `expt` function"
   ]
  },
  {
   "cell_type": "code",
   "execution_count": 22,
   "metadata": {
    "collapsed": false,
    "deletable": true,
    "editable": true
   },
   "outputs": [
    {
     "data": {
      "image/png": "[encoded data removed]",
      "text/latex": [
       "$$f{\\left (z \\right )} = e^{\\alpha z}$$"
      ],
      "text/plain": [
       "        α⋅z\n",
       "f(z) = ℯ   "
      ]
     },
     "execution_count": 22,
     "metadata": {},
     "output_type": "execute_result"
    }
   ],
   "source": [
    "f = Function('f')\n",
    "f_expt = define(let=f(z), be=exp(alpha*z))\n",
    "f_expt"
   ]
  },
  {
   "cell_type": "code",
   "execution_count": 23,
   "metadata": {
    "collapsed": false,
    "deletable": true,
    "editable": true
   },
   "outputs": [
    {
     "data": {
      "image/png": "[encoded data removed]",
      "text/latex": [
       "$$g{\\left (z \\right )} = \\frac{\\alpha^{7} z^{7}}{5040} e^{\\alpha \\lambda_{1}} - \\frac{\\alpha^{7}}{5040} e^{\\alpha \\lambda_{1}} + \\frac{\\alpha^{6}}{720} e^{\\alpha \\lambda_{1}} - \\frac{\\alpha^{5}}{120} e^{\\alpha \\lambda_{1}} + \\frac{\\alpha^{4}}{24} e^{\\alpha \\lambda_{1}} - \\frac{\\alpha^{3}}{6} e^{\\alpha \\lambda_{1}} + \\frac{\\alpha^{2}}{2} e^{\\alpha \\lambda_{1}} - \\alpha e^{\\alpha \\lambda_{1}} + z^{6} \\left(- \\frac{\\alpha^{7}}{720} e^{\\alpha \\lambda_{1}} + \\frac{\\alpha^{6}}{720} e^{\\alpha \\lambda_{1}}\\right) + z^{5} \\left(\\frac{\\alpha^{7}}{240} e^{\\alpha \\lambda_{1}} - \\frac{\\alpha^{6}}{120} e^{\\alpha \\lambda_{1}} + \\frac{\\alpha^{5}}{120} e^{\\alpha \\lambda_{1}}\\right) + z^{4} \\left(- \\frac{\\alpha^{7}}{144} e^{\\alpha \\lambda_{1}} + \\frac{\\alpha^{6}}{48} e^{\\alpha \\lambda_{1}} - \\frac{\\alpha^{5}}{24} e^{\\alpha \\lambda_{1}} + \\frac{\\alpha^{4}}{24} e^{\\alpha \\lambda_{1}}\\right) + z^{3} \\left(\\frac{\\alpha^{7}}{144} e^{\\alpha \\lambda_{1}} - \\frac{\\alpha^{6}}{36} e^{\\alpha \\lambda_{1}} + \\frac{\\alpha^{5}}{12} e^{\\alpha \\lambda_{1}} - \\frac{\\alpha^{4}}{6} e^{\\alpha \\lambda_{1}} + \\frac{\\alpha^{3}}{6} e^{\\alpha \\lambda_{1}}\\right) + z^{2} \\left(- \\frac{\\alpha^{7}}{240} e^{\\alpha \\lambda_{1}} + \\frac{\\alpha^{6}}{48} e^{\\alpha \\lambda_{1}} - \\frac{\\alpha^{5}}{12} e^{\\alpha \\lambda_{1}} + \\frac{\\alpha^{4}}{4} e^{\\alpha \\lambda_{1}} - \\frac{\\alpha^{3}}{2} e^{\\alpha \\lambda_{1}} + \\frac{\\alpha^{2}}{2} e^{\\alpha \\lambda_{1}}\\right) + z \\left(\\frac{\\alpha^{7}}{720} e^{\\alpha \\lambda_{1}} - \\frac{\\alpha^{6}}{120} e^{\\alpha \\lambda_{1}} + \\frac{\\alpha^{5}}{24} e^{\\alpha \\lambda_{1}} - \\frac{\\alpha^{4}}{6} e^{\\alpha \\lambda_{1}} + \\frac{\\alpha^{3}}{2} e^{\\alpha \\lambda_{1}} - \\alpha^{2} e^{\\alpha \\lambda_{1}} + \\alpha e^{\\alpha \\lambda_{1}}\\right) + e^{\\alpha \\lambda_{1}}$$"
      ],
      "text/plain": [
       "        7  7  α⋅\\lambda[1]    7  α⋅\\lambda[1]    6  α⋅\\lambda[1]    5  α⋅\\lamb\n",
       "       α ⋅z ⋅ℯ               α ⋅ℯ               α ⋅ℯ               α ⋅ℯ       \n",
       "g(z) = ─────────────────── - ──────────────── + ──────────────── - ───────────\n",
       "               5040                5040               720                120  \n",
       "\n",
       "da[1]    4  α⋅\\lambda[1]    3  α⋅\\lambda[1]    2  α⋅\\lambda[1]                \n",
       "        α ⋅ℯ               α ⋅ℯ               α ⋅ℯ                  α⋅\\lambda[\n",
       "───── + ──────────────── - ──────────────── + ──────────────── - α⋅ℯ          \n",
       "               24                 6                  2                        \n",
       "\n",
       "        ⎛   7  α⋅\\lambda[1]    6  α⋅\\lambda[1]⎞      ⎛ 7  α⋅\\lambda[1]    6  α\n",
       "1]    6 ⎜  α ⋅ℯ               α ⋅ℯ            ⎟    5 ⎜α ⋅ℯ               α ⋅ℯ \n",
       "   + z ⋅⎜- ──────────────── + ────────────────⎟ + z ⋅⎜──────────────── - ─────\n",
       "        ⎝        720                720       ⎠      ⎝      240               \n",
       "\n",
       "⋅\\lambda[1]    5  α⋅\\lambda[1]⎞      ⎛   7  α⋅\\lambda[1]    6  α⋅\\lambda[1]   \n",
       "              α ⋅ℯ            ⎟    4 ⎜  α ⋅ℯ               α ⋅ℯ               \n",
       "─────────── + ────────────────⎟ + z ⋅⎜- ──────────────── + ──────────────── - \n",
       " 120                120       ⎠      ⎝        144                 48          \n",
       "\n",
       " 5  α⋅\\lambda[1]    4  α⋅\\lambda[1]⎞      ⎛ 7  α⋅\\lambda[1]    6  α⋅\\lambda[1]\n",
       "α ⋅ℯ               α ⋅ℯ            ⎟    3 ⎜α ⋅ℯ               α ⋅ℯ            \n",
       "──────────────── + ────────────────⎟ + z ⋅⎜──────────────── - ────────────────\n",
       "       24                 24       ⎠      ⎝      144                 36       \n",
       "\n",
       "    5  α⋅\\lambda[1]    4  α⋅\\lambda[1]    3  α⋅\\lambda[1]⎞      ⎛   7  α⋅\\lamb\n",
       "   α ⋅ℯ               α ⋅ℯ               α ⋅ℯ            ⎟    2 ⎜  α ⋅ℯ       \n",
       " + ──────────────── - ──────────────── + ────────────────⎟ + z ⋅⎜- ───────────\n",
       "          12                 6                  6        ⎠      ⎝        240  \n",
       "\n",
       "da[1]    6  α⋅\\lambda[1]    5  α⋅\\lambda[1]    4  α⋅\\lambda[1]    3  α⋅\\lambda\n",
       "        α ⋅ℯ               α ⋅ℯ               α ⋅ℯ               α ⋅ℯ         \n",
       "───── + ──────────────── - ──────────────── + ──────────────── - ─────────────\n",
       "               48                 12                 4                  2     \n",
       "\n",
       "[1]    2  α⋅\\lambda[1]⎞     ⎛ 7  α⋅\\lambda[1]    6  α⋅\\lambda[1]    5  α⋅\\lamb\n",
       "      α ⋅ℯ            ⎟     ⎜α ⋅ℯ               α ⋅ℯ               α ⋅ℯ       \n",
       "─── + ────────────────⎟ + z⋅⎜──────────────── - ──────────────── + ───────────\n",
       "             2        ⎠     ⎝      720                120                 24  \n",
       "\n",
       "da[1]    4  α⋅\\lambda[1]    3  α⋅\\lambda[1]                                   \n",
       "        α ⋅ℯ               α ⋅ℯ                2  α⋅\\lambda[1]      α⋅\\lambda[\n",
       "───── - ──────────────── + ──────────────── - α ⋅ℯ             + α⋅ℯ          \n",
       "               6                  2                                           \n",
       "\n",
       "  ⎞                \n",
       "1]⎟    α⋅\\lambda[1]\n",
       "  ⎟ + ℯ            \n",
       "  ⎠                "
      ]
     },
     "execution_count": 23,
     "metadata": {},
     "output_type": "execute_result"
    }
   ],
   "source": [
    "g_expt = g_poly(f_expt, eigendata, Phi_polynomials)\n",
    "g_expt"
   ]
  },
  {
   "cell_type": "code",
   "execution_count": 24,
   "metadata": {
    "collapsed": false,
    "deletable": true,
    "editable": true
   },
   "outputs": [
    {
     "data": {
      "image/png": "[encoded data removed]",
      "text/latex": [
       "$$g{\\left (z \\right )} = \\frac{\\alpha^{7} z^{7}}{5040} e^{\\alpha} - \\frac{\\alpha^{7} e^{\\alpha}}{5040} + \\frac{\\alpha^{6} e^{\\alpha}}{720} - \\frac{\\alpha^{5} e^{\\alpha}}{120} + \\frac{\\alpha^{4} e^{\\alpha}}{24} - \\frac{\\alpha^{3} e^{\\alpha}}{6} + \\frac{\\alpha^{2} e^{\\alpha}}{2} - \\alpha e^{\\alpha} + z^{6} \\left(- \\frac{\\alpha^{7} e^{\\alpha}}{720} + \\frac{\\alpha^{6} e^{\\alpha}}{720}\\right) + z^{5} \\left(\\frac{\\alpha^{7} e^{\\alpha}}{240} - \\frac{\\alpha^{6} e^{\\alpha}}{120} + \\frac{\\alpha^{5} e^{\\alpha}}{120}\\right) + z^{4} \\left(- \\frac{\\alpha^{7} e^{\\alpha}}{144} + \\frac{\\alpha^{6} e^{\\alpha}}{48} - \\frac{\\alpha^{5} e^{\\alpha}}{24} + \\frac{\\alpha^{4} e^{\\alpha}}{24}\\right) + z^{3} \\left(\\frac{\\alpha^{7} e^{\\alpha}}{144} - \\frac{\\alpha^{6} e^{\\alpha}}{36} + \\frac{\\alpha^{5} e^{\\alpha}}{12} - \\frac{\\alpha^{4} e^{\\alpha}}{6} + \\frac{\\alpha^{3} e^{\\alpha}}{6}\\right) + z^{2} \\left(- \\frac{\\alpha^{7} e^{\\alpha}}{240} + \\frac{\\alpha^{6} e^{\\alpha}}{48} - \\frac{\\alpha^{5} e^{\\alpha}}{12} + \\frac{\\alpha^{4} e^{\\alpha}}{4} - \\frac{\\alpha^{3} e^{\\alpha}}{2} + \\frac{\\alpha^{2} e^{\\alpha}}{2}\\right) + z \\left(\\frac{\\alpha^{7} e^{\\alpha}}{720} - \\frac{\\alpha^{6} e^{\\alpha}}{120} + \\frac{\\alpha^{5} e^{\\alpha}}{24} - \\frac{\\alpha^{4} e^{\\alpha}}{6} + \\frac{\\alpha^{3} e^{\\alpha}}{2} - \\alpha^{2} e^{\\alpha} + \\alpha e^{\\alpha}\\right) + e^{\\alpha}$$"
      ],
      "text/plain": [
       "        7  7  α    7  α    6  α    5  α    4  α    3  α    2  α             ⎛ \n",
       "       α ⋅z ⋅ℯ    α ⋅ℯ    α ⋅ℯ    α ⋅ℯ    α ⋅ℯ    α ⋅ℯ    α ⋅ℯ       α    6 ⎜ \n",
       "g(z) = ──────── - ───── + ───── - ───── + ───── - ───── + ───── - α⋅ℯ  + z ⋅⎜-\n",
       "         5040      5040    720     120      24      6       2               ⎝ \n",
       "\n",
       "  7  α    6  α⎞      ⎛ 7  α    6  α    5  α⎞      ⎛   7  α    6  α    5  α    \n",
       " α ⋅ℯ    α ⋅ℯ ⎟    5 ⎜α ⋅ℯ    α ⋅ℯ    α ⋅ℯ ⎟    4 ⎜  α ⋅ℯ    α ⋅ℯ    α ⋅ℯ    α\n",
       " ───── + ─────⎟ + z ⋅⎜───── - ───── + ─────⎟ + z ⋅⎜- ───── + ───── - ───── + ─\n",
       "  720     720 ⎠      ⎝ 240     120     120 ⎠      ⎝   144      48      24     \n",
       "\n",
       "4  α⎞      ⎛ 7  α    6  α    5  α    4  α    3  α⎞      ⎛   7  α    6  α    5 \n",
       " ⋅ℯ ⎟    3 ⎜α ⋅ℯ    α ⋅ℯ    α ⋅ℯ    α ⋅ℯ    α ⋅ℯ ⎟    2 ⎜  α ⋅ℯ    α ⋅ℯ    α ⋅\n",
       "────⎟ + z ⋅⎜───── - ───── + ───── - ───── + ─────⎟ + z ⋅⎜- ───── + ───── - ───\n",
       " 24 ⎠      ⎝ 144      36      12      6       6  ⎠      ⎝   240      48      1\n",
       "\n",
       " α    4  α    3  α    2  α⎞     ⎛ 7  α    6  α    5  α    4  α    3  α        \n",
       "ℯ    α ⋅ℯ    α ⋅ℯ    α ⋅ℯ ⎟     ⎜α ⋅ℯ    α ⋅ℯ    α ⋅ℯ    α ⋅ℯ    α ⋅ℯ     2  α\n",
       "── + ───── - ───── + ─────⎟ + z⋅⎜───── - ───── + ───── - ───── + ───── - α ⋅ℯ \n",
       "2      4       2       2  ⎠     ⎝ 720     120      24      6       2          \n",
       "\n",
       "       ⎞     \n",
       "      α⎟    α\n",
       " + α⋅ℯ ⎟ + ℯ \n",
       "       ⎠     "
      ]
     },
     "execution_count": 24,
     "metadata": {},
     "output_type": "execute_result"
    }
   ],
   "source": [
    "g_expt = g_expt.subs(eigenvals)\n",
    "g_expt"
   ]
  },
  {
   "cell_type": "code",
   "execution_count": 25,
   "metadata": {
    "collapsed": false,
    "deletable": true,
    "editable": true
   },
   "outputs": [
    {
     "data": {
      "image/png": "[encoded data removed]",
      "text/latex": [
       "$$\\left[\\begin{matrix}e^{\\alpha} & 0 & 0 & 0 & 0 & 0 & 0 & 0\\\\\\alpha e^{\\alpha} & e^{\\alpha} & 0 & 0 & 0 & 0 & 0 & 0\\\\\\alpha \\left(\\alpha + 1\\right) e^{\\alpha} & 2 \\alpha e^{\\alpha} & e^{\\alpha} & 0 & 0 & 0 & 0 & 0\\\\\\alpha \\left(\\alpha^{2} + 3 \\alpha + 1\\right) e^{\\alpha} & 3 \\alpha \\left(\\alpha + 1\\right) e^{\\alpha} & 3 \\alpha e^{\\alpha} & e^{\\alpha} & 0 & 0 & 0 & 0\\\\\\alpha \\left(\\alpha^{3} + 6 \\alpha^{2} + 7 \\alpha + 1\\right) e^{\\alpha} & 4 \\alpha \\left(\\alpha^{2} + 3 \\alpha + 1\\right) e^{\\alpha} & 6 \\alpha \\left(\\alpha + 1\\right) e^{\\alpha} & 4 \\alpha e^{\\alpha} & e^{\\alpha} & 0 & 0 & 0\\\\\\alpha \\left(\\alpha^{4} + 10 \\alpha^{3} + 25 \\alpha^{2} + 15 \\alpha + 1\\right) e^{\\alpha} & 5 \\alpha \\left(\\alpha^{3} + 6 \\alpha^{2} + 7 \\alpha + 1\\right) e^{\\alpha} & 10 \\alpha \\left(\\alpha^{2} + 3 \\alpha + 1\\right) e^{\\alpha} & 10 \\alpha \\left(\\alpha + 1\\right) e^{\\alpha} & 5 \\alpha e^{\\alpha} & e^{\\alpha} & 0 & 0\\\\\\alpha \\left(\\alpha^{5} + 15 \\alpha^{4} + 65 \\alpha^{3} + 90 \\alpha^{2} + 31 \\alpha + 1\\right) e^{\\alpha} & 6 \\alpha \\left(\\alpha^{4} + 10 \\alpha^{3} + 25 \\alpha^{2} + 15 \\alpha + 1\\right) e^{\\alpha} & 15 \\alpha \\left(\\alpha^{3} + 6 \\alpha^{2} + 7 \\alpha + 1\\right) e^{\\alpha} & 20 \\alpha \\left(\\alpha^{2} + 3 \\alpha + 1\\right) e^{\\alpha} & 15 \\alpha \\left(\\alpha + 1\\right) e^{\\alpha} & 6 \\alpha e^{\\alpha} & e^{\\alpha} & 0\\\\\\alpha \\left(\\alpha^{6} + 21 \\alpha^{5} + 140 \\alpha^{4} + 350 \\alpha^{3} + 301 \\alpha^{2} + 63 \\alpha + 1\\right) e^{\\alpha} & 7 \\alpha \\left(\\alpha^{5} + 15 \\alpha^{4} + 65 \\alpha^{3} + 90 \\alpha^{2} + 31 \\alpha + 1\\right) e^{\\alpha} & 21 \\alpha \\left(\\alpha^{4} + 10 \\alpha^{3} + 25 \\alpha^{2} + 15 \\alpha + 1\\right) e^{\\alpha} & 35 \\alpha \\left(\\alpha^{3} + 6 \\alpha^{2} + 7 \\alpha + 1\\right) e^{\\alpha} & 35 \\alpha \\left(\\alpha^{2} + 3 \\alpha + 1\\right) e^{\\alpha} & 21 \\alpha \\left(\\alpha + 1\\right) e^{\\alpha} & 7 \\alpha e^{\\alpha} & e^{\\alpha}\\end{matrix}\\right]$$"
      ],
      "text/plain": [
       "⎡                           α                                                 \n",
       "⎢                          ℯ                                                  \n",
       "⎢                                                                             \n",
       "⎢                            α                                                \n",
       "⎢                         α⋅ℯ                                                 \n",
       "⎢                                                                             \n",
       "⎢                                α                                            \n",
       "⎢                     α⋅(α + 1)⋅ℯ                                             \n",
       "⎢                                                                             \n",
       "⎢                    ⎛ 2          ⎞  α                                        \n",
       "⎢                  α⋅⎝α  + 3⋅α + 1⎠⋅ℯ                                     3⋅α⋅\n",
       "⎢                                                                             \n",
       "⎢                ⎛ 3      2          ⎞  α                                 ⎛ 2 \n",
       "⎢              α⋅⎝α  + 6⋅α  + 7⋅α + 1⎠⋅ℯ                              4⋅α⋅⎝α  \n",
       "⎢                                                                             \n",
       "⎢           ⎛ 4       3       2           ⎞  α                         ⎛ 3    \n",
       "⎢         α⋅⎝α  + 10⋅α  + 25⋅α  + 15⋅α + 1⎠⋅ℯ                      5⋅α⋅⎝α  + 6\n",
       "⎢                                                                             \n",
       "⎢       ⎛ 5       4       3       2           ⎞  α                ⎛ 4       3 \n",
       "⎢     α⋅⎝α  + 15⋅α  + 65⋅α  + 90⋅α  + 31⋅α + 1⎠⋅ℯ             6⋅α⋅⎝α  + 10⋅α  \n",
       "⎢                                                                             \n",
       "⎢  ⎛ 6       5        4        3        2           ⎞  α      ⎛ 5       4     \n",
       "⎣α⋅⎝α  + 21⋅α  + 140⋅α  + 350⋅α  + 301⋅α  + 63⋅α + 1⎠⋅ℯ   7⋅α⋅⎝α  + 15⋅α  + 65\n",
       "\n",
       "                                                                              \n",
       "  0                                            0                              \n",
       "                                                                              \n",
       "   α                                                                          \n",
       "  ℯ                                            0                              \n",
       "                                                                              \n",
       "     α                                         α                              \n",
       "2⋅α⋅ℯ                                         ℯ                               \n",
       "                                                                              \n",
       "         α                                       α                            \n",
       "(α + 1)⋅ℯ                                   3⋅α⋅ℯ                             \n",
       "                                                                              \n",
       "         ⎞  α                                        α                        \n",
       "+ 3⋅α + 1⎠⋅ℯ                            6⋅α⋅(α + 1)⋅ℯ                         \n",
       "                                                                              \n",
       "  2          ⎞  α                        ⎛ 2          ⎞  α                    \n",
       "⋅α  + 7⋅α + 1⎠⋅ℯ                    10⋅α⋅⎝α  + 3⋅α + 1⎠⋅ℯ                   10\n",
       "                                                                              \n",
       "      2           ⎞  α                ⎛ 3      2          ⎞  α               ⎛\n",
       "+ 25⋅α  + 15⋅α + 1⎠⋅ℯ            15⋅α⋅⎝α  + 6⋅α  + 7⋅α + 1⎠⋅ℯ           20⋅α⋅⎝\n",
       "                                                                              \n",
       "  3       2           ⎞  α       ⎛ 4       3       2           ⎞  α       ⎛ 3 \n",
       "⋅α  + 90⋅α  + 31⋅α + 1⎠⋅ℯ   21⋅α⋅⎝α  + 10⋅α  + 25⋅α  + 15⋅α + 1⎠⋅ℯ   35⋅α⋅⎝α  \n",
       "\n",
       "                                                                         ⎤\n",
       "     0                          0                    0           0     0 ⎥\n",
       "                                                                         ⎥\n",
       "                                                                         ⎥\n",
       "     0                          0                    0           0     0 ⎥\n",
       "                                                                         ⎥\n",
       "                                                                         ⎥\n",
       "     0                          0                    0           0     0 ⎥\n",
       "                                                                         ⎥\n",
       "     α                                                                   ⎥\n",
       "    ℯ                           0                    0           0     0 ⎥\n",
       "                                                                         ⎥\n",
       "       α                         α                                       ⎥\n",
       "  4⋅α⋅ℯ                         ℯ                    0           0     0 ⎥\n",
       "                                                                         ⎥\n",
       "            α                      α                 α                   ⎥\n",
       "⋅α⋅(α + 1)⋅ℯ                  5⋅α⋅ℯ                 ℯ            0     0 ⎥\n",
       "                                                                         ⎥\n",
       " 2          ⎞  α                       α               α          α      ⎥\n",
       "α  + 3⋅α + 1⎠⋅ℯ          15⋅α⋅(α + 1)⋅ℯ           6⋅α⋅ℯ          ℯ     0 ⎥\n",
       "                                                                         ⎥\n",
       "     2          ⎞  α       ⎛ 2          ⎞  α                α       α   α⎥\n",
       "+ 6⋅α  + 7⋅α + 1⎠⋅ℯ   35⋅α⋅⎝α  + 3⋅α + 1⎠⋅ℯ   21⋅α⋅(α + 1)⋅ℯ   7⋅α⋅ℯ   ℯ ⎦"
      ]
     },
     "execution_count": 25,
     "metadata": {},
     "output_type": "execute_result"
    }
   ],
   "source": [
    "with lift_to_matrix_function(g_expt) as g_expt:\n",
    "    P_expt = g_expt(P)\n",
    "P_expt"
   ]
  },
  {
   "cell_type": "code",
   "execution_count": 73,
   "metadata": {
    "collapsed": false,
    "deletable": true,
    "editable": true
   },
   "outputs": [
    {
     "data": {
      "image/png": "[encoded data removed]",
      "text/latex": [
       "$$\\left[\\begin{matrix}1 & \\alpha & 0 & 0 & 0 & 0 & 0 & 0\\\\1 & \\alpha & \\alpha & - \\alpha^{2} & \\alpha^{3} & - \\alpha^{4} & \\alpha^{5} & - \\alpha^{6}\\\\1 & \\alpha & 2 \\alpha & - 2 \\alpha^{2} + \\alpha & 2 \\alpha^{3} - 4 \\alpha^{2} & - 2 \\alpha^{4} + 9 \\alpha^{3} - \\alpha^{2} & 2 \\alpha^{5} - 16 \\alpha^{4} + 6 \\alpha^{3} & - 2 \\alpha^{6} + 25 \\alpha^{5} - 20 \\alpha^{4} + \\alpha^{3}\\\\1 & \\alpha & 3 \\alpha & - 3 \\alpha^{2} + 3 \\alpha & 3 \\alpha^{3} - 12 \\alpha^{2} + \\alpha & - 3 \\alpha^{4} + 27 \\alpha^{3} - 15 \\alpha^{2} & 3 \\alpha^{5} - 48 \\alpha^{4} + 72 \\alpha^{3} - 6 \\alpha^{2} & - 3 \\alpha^{6} + 75 \\alpha^{5} - 220 \\alpha^{4} + 72 \\alpha^{3} - \\alpha^{2}\\\\1 & \\alpha & 4 \\alpha & - 4 \\alpha^{2} + 6 \\alpha & 4 \\alpha^{3} - 24 \\alpha^{2} + 4 \\alpha & - 4 \\alpha^{4} + 54 \\alpha^{3} - 54 \\alpha^{2} + \\alpha & 4 \\alpha^{5} - 96 \\alpha^{4} + 252 \\alpha^{3} - 56 \\alpha^{2} & - 4 \\alpha^{6} + 150 \\alpha^{5} - 760 \\alpha^{4} + 552 \\alpha^{3} - 28 \\alpha^{2}\\\\1 & \\alpha & 5 \\alpha & - 5 \\alpha^{2} + 10 \\alpha & 5 \\alpha^{3} - 40 \\alpha^{2} + 10 \\alpha & - 5 \\alpha^{4} + 90 \\alpha^{3} - 130 \\alpha^{2} + 5 \\alpha & 5 \\alpha^{5} - 160 \\alpha^{4} + 600 \\alpha^{3} - 220 \\alpha^{2} + \\alpha & - 5 \\alpha^{6} + 250 \\alpha^{5} - 1800 \\alpha^{4} + 2050 \\alpha^{3} - 210 \\alpha^{2}\\\\1 & \\alpha & 6 \\alpha & - 6 \\alpha^{2} + 15 \\alpha & 6 \\alpha^{3} - 60 \\alpha^{2} + 20 \\alpha & - 6 \\alpha^{4} + 135 \\alpha^{3} - 255 \\alpha^{2} + 15 \\alpha & 6 \\alpha^{5} - 240 \\alpha^{4} + 1170 \\alpha^{3} - 600 \\alpha^{2} + 6 \\alpha & - 6 \\alpha^{6} + 375 \\alpha^{5} - 3500 \\alpha^{4} + 5445 \\alpha^{3} - 860 \\alpha^{2} + \\alpha\\end{matrix}\\right]$$"
      ],
      "text/plain": [
       "⎡1  α   0         0                 0                          0              \n",
       "⎢                                                                             \n",
       "⎢                  2                3                           4             \n",
       "⎢1  α   α        -α                α                          -α              \n",
       "⎢                                                                             \n",
       "⎢                 2               3      2                 4      3    2      \n",
       "⎢1  α  2⋅α   - 2⋅α  + α        2⋅α  - 4⋅α             - 2⋅α  + 9⋅α  - α       \n",
       "⎢                                                                             \n",
       "⎢                2             3       2                 4       3       2    \n",
       "⎢1  α  3⋅α  - 3⋅α  + 3⋅α    3⋅α  - 12⋅α  + α        - 3⋅α  + 27⋅α  - 15⋅α     \n",
       "⎢                                                                             \n",
       "⎢                2            3       2                4       3       2      \n",
       "⎢1  α  4⋅α  - 4⋅α  + 6⋅α   4⋅α  - 24⋅α  + 4⋅α     - 4⋅α  + 54⋅α  - 54⋅α  + α  \n",
       "⎢                                                                             \n",
       "⎢                2            3       2               4       3        2      \n",
       "⎢1  α  5⋅α  - 5⋅α  + 10⋅α  5⋅α  - 40⋅α  + 10⋅α   - 5⋅α  + 90⋅α  - 130⋅α  + 5⋅α\n",
       "⎢                                                                             \n",
       "⎢                2            3       2              4        3        2      \n",
       "⎣1  α  6⋅α  - 6⋅α  + 15⋅α  6⋅α  - 60⋅α  + 20⋅α  - 6⋅α  + 135⋅α  - 255⋅α  + 15⋅\n",
       "\n",
       "                     0                                            0           \n",
       "                                                                              \n",
       "                      5                                            6          \n",
       "                     α                                           -α           \n",
       "                                                                              \n",
       "               5       4      3                           6       5       4   \n",
       "            2⋅α  - 16⋅α  + 6⋅α                       - 2⋅α  + 25⋅α  - 20⋅α  + \n",
       "                                                                              \n",
       "           5       4       3      2                   6       5        4      \n",
       "        3⋅α  - 48⋅α  + 72⋅α  - 6⋅α               - 3⋅α  + 75⋅α  - 220⋅α  + 72⋅\n",
       "                                                                              \n",
       "          5       4        3       2               6        5        4        \n",
       "       4⋅α  - 96⋅α  + 252⋅α  - 56⋅α           - 4⋅α  + 150⋅α  - 760⋅α  + 552⋅α\n",
       "                                                                              \n",
       "       5        4        3        2               6        5         4        \n",
       "    5⋅α  - 160⋅α  + 600⋅α  - 220⋅α  + α      - 5⋅α  + 250⋅α  - 1800⋅α  + 2050⋅\n",
       "                                                                              \n",
       "      5        4         3        2             6        5         4         3\n",
       "α  6⋅α  - 240⋅α  + 1170⋅α  - 600⋅α  + 6⋅α  - 6⋅α  + 375⋅α  - 3500⋅α  + 5445⋅α \n",
       "\n",
       "             ⎤\n",
       "             ⎥\n",
       "             ⎥\n",
       "             ⎥\n",
       "             ⎥\n",
       " 3           ⎥\n",
       "α            ⎥\n",
       "             ⎥\n",
       " 3    2      ⎥\n",
       "α  - α       ⎥\n",
       "             ⎥\n",
       "3       2    ⎥\n",
       "  - 28⋅α     ⎥\n",
       "             ⎥\n",
       " 3        2  ⎥\n",
       "α  - 210⋅α   ⎥\n",
       "             ⎥\n",
       "        2    ⎥\n",
       " - 860⋅α  + α⎦"
      ]
     },
     "execution_count": 73,
     "metadata": {},
     "output_type": "execute_result"
    }
   ],
   "source": [
    "Asequence(P_expt)"
   ]
  },
  {
   "cell_type": "code",
   "execution_count": 74,
   "metadata": {
    "collapsed": false
   },
   "outputs": [
    {
     "data": {
      "image/png": "[encoded data removed]",
      "text/latex": [
       "$$\\left[\\begin{matrix}1 & 1 & 0 & 0 & 0 & 0 & 0 & 0\\\\1 & 1 & 1 & -1 & 1 & -1 & 1 & -1\\\\1 & 1 & 2 & -1 & -2 & 6 & -8 & 4\\\\1 & 1 & 3 & 0 & -8 & 9 & 21 & -77\\\\1 & 1 & 4 & 2 & -16 & -3 & 104 & -90\\\\1 & 1 & 5 & 5 & -25 & -40 & 226 & 285\\\\1 & 1 & 6 & 9 & -34 & -111 & 342 & 1455\\end{matrix}\\right]$$"
      ],
      "text/plain": [
       "⎡1  1  0  0    0    0     0    0  ⎤\n",
       "⎢                                 ⎥\n",
       "⎢1  1  1  -1   1    -1    1    -1 ⎥\n",
       "⎢                                 ⎥\n",
       "⎢1  1  2  -1  -2    6    -8    4  ⎥\n",
       "⎢                                 ⎥\n",
       "⎢1  1  3  0   -8    9    21   -77 ⎥\n",
       "⎢                                 ⎥\n",
       "⎢1  1  4  2   -16   -3   104  -90 ⎥\n",
       "⎢                                 ⎥\n",
       "⎢1  1  5  5   -25  -40   226  285 ⎥\n",
       "⎢                                 ⎥\n",
       "⎣1  1  6  9   -34  -111  342  1455⎦"
      ]
     },
     "execution_count": 74,
     "metadata": {},
     "output_type": "execute_result"
    }
   ],
   "source": [
    "_.subs({alpha:1})"
   ]
  },
  {
   "cell_type": "code",
   "execution_count": 64,
   "metadata": {
    "collapsed": false
   },
   "outputs": [],
   "source": [
    "PM_expt = production_matrix_ordinary(P_expt)"
   ]
  },
  {
   "cell_type": "code",
   "execution_count": 72,
   "metadata": {
    "collapsed": false
   },
   "outputs": [
    {
     "data": {
      "image/png": "[encoded data removed]",
      "text/latex": [
       "$$\\left[\\begin{matrix}1 & 1 & 0 & 0 & 0 & 0 & 0\\\\1 & 1 & 1 & 0 & 0 & 0 & 0\\\\1 & 2 & 1 & 1 & 0 & 0 & 0\\\\1 & 3 & 3 & 1 & 1 & 0 & 0\\\\1 & 4 & 6 & 4 & 1 & 1 & 0\\\\1 & 5 & 10 & 10 & 5 & 1 & 1\\\\1 & 6 & 15 & 20 & 15 & 6 & 1\\end{matrix}\\right]$$"
      ],
      "text/plain": [
       "⎡1  1  0   0   0   0  0⎤\n",
       "⎢                      ⎥\n",
       "⎢1  1  1   0   0   0  0⎥\n",
       "⎢                      ⎥\n",
       "⎢1  2  1   1   0   0  0⎥\n",
       "⎢                      ⎥\n",
       "⎢1  3  3   1   1   0  0⎥\n",
       "⎢                      ⎥\n",
       "⎢1  4  6   4   1   1  0⎥\n",
       "⎢                      ⎥\n",
       "⎢1  5  10  10  5   1  1⎥\n",
       "⎢                      ⎥\n",
       "⎣1  6  15  20  15  6  1⎦"
      ]
     },
     "execution_count": 72,
     "metadata": {},
     "output_type": "execute_result"
    }
   ],
   "source": [
    "PM_expt.subs({alpha:1})"
   ]
  },
  {
   "cell_type": "code",
   "execution_count": 27,
   "metadata": {
    "collapsed": false,
    "deletable": true,
    "editable": true
   },
   "outputs": [
    {
     "data": {
      "image/png": "[encoded data removed]",
      "text/latex": [
       "$$e^{\\alpha} \\left[\\begin{matrix}1 & 0 & 0 & 0 & 0 & 0 & 0 & 0\\\\\\alpha & 1 & 0 & 0 & 0 & 0 & 0 & 0\\\\\\alpha^{2} + \\alpha & 2 \\alpha & 1 & 0 & 0 & 0 & 0 & 0\\\\\\alpha^{3} + 3 \\alpha^{2} + \\alpha & 3 \\alpha^{2} + 3 \\alpha & 3 \\alpha & 1 & 0 & 0 & 0 & 0\\\\\\alpha^{4} + 6 \\alpha^{3} + 7 \\alpha^{2} + \\alpha & 4 \\alpha^{3} + 12 \\alpha^{2} + 4 \\alpha & 6 \\alpha^{2} + 6 \\alpha & 4 \\alpha & 1 & 0 & 0 & 0\\\\\\alpha^{5} + 10 \\alpha^{4} + 25 \\alpha^{3} + 15 \\alpha^{2} + \\alpha & 5 \\alpha^{4} + 30 \\alpha^{3} + 35 \\alpha^{2} + 5 \\alpha & 10 \\alpha^{3} + 30 \\alpha^{2} + 10 \\alpha & 10 \\alpha^{2} + 10 \\alpha & 5 \\alpha & 1 & 0 & 0\\\\\\alpha^{6} + 15 \\alpha^{5} + 65 \\alpha^{4} + 90 \\alpha^{3} + 31 \\alpha^{2} + \\alpha & 6 \\alpha^{5} + 60 \\alpha^{4} + 150 \\alpha^{3} + 90 \\alpha^{2} + 6 \\alpha & 15 \\alpha^{4} + 90 \\alpha^{3} + 105 \\alpha^{2} + 15 \\alpha & 20 \\alpha^{3} + 60 \\alpha^{2} + 20 \\alpha & 15 \\alpha^{2} + 15 \\alpha & 6 \\alpha & 1 & 0\\\\\\alpha^{7} + 21 \\alpha^{6} + 140 \\alpha^{5} + 350 \\alpha^{4} + 301 \\alpha^{3} + 63 \\alpha^{2} + \\alpha & 7 \\alpha^{6} + 105 \\alpha^{5} + 455 \\alpha^{4} + 630 \\alpha^{3} + 217 \\alpha^{2} + 7 \\alpha & 21 \\alpha^{5} + 210 \\alpha^{4} + 525 \\alpha^{3} + 315 \\alpha^{2} + 21 \\alpha & 35 \\alpha^{4} + 210 \\alpha^{3} + 245 \\alpha^{2} + 35 \\alpha & 35 \\alpha^{3} + 105 \\alpha^{2} + 35 \\alpha & 21 \\alpha^{2} + 21 \\alpha & 7 \\alpha & 1\\end{matrix}\\right]$$"
      ],
      "text/plain": [
       "   ⎡                        1                                                0\n",
       "   ⎢                                                                          \n",
       "   ⎢                        α                                                1\n",
       "   ⎢                                                                          \n",
       "   ⎢                      2                                                   \n",
       "   ⎢                     α  + α                                             2⋅\n",
       "   ⎢                                                                          \n",
       "   ⎢                   3      2                                             2 \n",
       "   ⎢                  α  + 3⋅α  + α                                      3⋅α  \n",
       " α ⎢                                                                          \n",
       "ℯ ⋅⎢               4      3      2                                      3     \n",
       "   ⎢              α  + 6⋅α  + 7⋅α  + α                               4⋅α  + 12\n",
       "   ⎢                                                                          \n",
       "   ⎢          5       4       3       2                             4       3 \n",
       "   ⎢         α  + 10⋅α  + 25⋅α  + 15⋅α  + α                      5⋅α  + 30⋅α  \n",
       "   ⎢                                                                          \n",
       "   ⎢      6       5       4       3       2                    5       4      \n",
       "   ⎢     α  + 15⋅α  + 65⋅α  + 90⋅α  + 31⋅α  + α             6⋅α  + 60⋅α  + 150\n",
       "   ⎢                                                                          \n",
       "   ⎢ 7       6        5        4        3       2         6        5        4 \n",
       "   ⎣α  + 21⋅α  + 140⋅α  + 350⋅α  + 301⋅α  + 63⋅α  + α  7⋅α  + 105⋅α  + 455⋅α  \n",
       "\n",
       "                                            0                                 \n",
       "                                                                              \n",
       "                                            0                                 \n",
       "                                                                              \n",
       "                                                                              \n",
       "α                                           1                                 \n",
       "                                                                              \n",
       "                                                                              \n",
       "+ 3⋅α                                      3⋅α                                \n",
       "                                                                              \n",
       "  2                                       2                                   \n",
       "⋅α  + 4⋅α                              6⋅α  + 6⋅α                             \n",
       "                                                                              \n",
       "      2                               3       2                               \n",
       "+ 35⋅α  + 5⋅α                     10⋅α  + 30⋅α  + 10⋅α                     10⋅\n",
       "                                                                              \n",
       "  3       2                       4       3        2                       3  \n",
       "⋅α  + 90⋅α  + 6⋅α             15⋅α  + 90⋅α  + 105⋅α  + 15⋅α            20⋅α  +\n",
       "                                                                              \n",
       "       3        2            5        4        3        2             4       \n",
       "+ 630⋅α  + 217⋅α  + 7⋅α  21⋅α  + 210⋅α  + 525⋅α  + 315⋅α  + 21⋅α  35⋅α  + 210⋅\n",
       "\n",
       "  0                           0                 0         0   0⎤\n",
       "                                                               ⎥\n",
       "  0                           0                 0         0   0⎥\n",
       "                                                               ⎥\n",
       "                                                               ⎥\n",
       "  0                           0                 0         0   0⎥\n",
       "                                                               ⎥\n",
       "                                                               ⎥\n",
       "  1                           0                 0         0   0⎥\n",
       "                                                               ⎥\n",
       "                                                               ⎥\n",
       " 4⋅α                          1                 0         0   0⎥\n",
       "                                                               ⎥\n",
       " 2                                                             ⎥\n",
       "α  + 10⋅α                    5⋅α                1         0   0⎥\n",
       "                                                               ⎥\n",
       "     2                      2                                  ⎥\n",
       " 60⋅α  + 20⋅α           15⋅α  + 15⋅α           6⋅α        1   0⎥\n",
       "                                                               ⎥\n",
       " 3        2             3        2             2               ⎥\n",
       "α  + 245⋅α  + 35⋅α  35⋅α  + 105⋅α  + 35⋅α  21⋅α  + 21⋅α  7⋅α  1⎦"
      ]
     },
     "execution_count": 27,
     "metadata": {},
     "output_type": "execute_result"
    }
   ],
   "source": [
    "simp_P_expt = Mul(exp(alpha), P_expt.applyfunc(lambda c: (c/exp(alpha)).expand()), evaluate=False)\n",
    "simp_P_expt"
   ]
  },
  {
   "cell_type": "code",
   "execution_count": 18,
   "metadata": {
    "collapsed": false,
    "deletable": true,
    "editable": true
   },
   "outputs": [
    {
     "data": {
      "image/png": "[encoded data removed]",
      "text/latex": [
       "$$e \\left[\\begin{matrix}1 & 0 & 0 & 0 & 0 & 0 & 0 & 0\\\\1 & 1 & 0 & 0 & 0 & 0 & 0 & 0\\\\2 & 2 & 1 & 0 & 0 & 0 & 0 & 0\\\\5 & 6 & 3 & 1 & 0 & 0 & 0 & 0\\\\15 & 20 & 12 & 4 & 1 & 0 & 0 & 0\\\\52 & 75 & 50 & 20 & 5 & 1 & 0 & 0\\\\203 & 312 & 225 & 100 & 30 & 6 & 1 & 0\\\\877 & 1421 & 1092 & 525 & 175 & 42 & 7 & 1\\end{matrix}\\right]$$"
      ],
      "text/plain": [
       "ℯ⋅⎡ 1    0     0     0    0   0   0  0⎤\n",
       "  ⎢                                   ⎥\n",
       "  ⎢ 1    1     0     0    0   0   0  0⎥\n",
       "  ⎢                                   ⎥\n",
       "  ⎢ 2    2     1     0    0   0   0  0⎥\n",
       "  ⎢                                   ⎥\n",
       "  ⎢ 5    6     3     1    0   0   0  0⎥\n",
       "  ⎢                                   ⎥\n",
       "  ⎢15    20    12    4    1   0   0  0⎥\n",
       "  ⎢                                   ⎥\n",
       "  ⎢52    75    50   20    5   1   0  0⎥\n",
       "  ⎢                                   ⎥\n",
       "  ⎢203  312   225   100  30   6   1  0⎥\n",
       "  ⎢                                   ⎥\n",
       "  ⎣877  1421  1092  525  175  42  7  1⎦"
      ]
     },
     "execution_count": 18,
     "metadata": {},
     "output_type": "execute_result"
    }
   ],
   "source": [
    "simp_P_expt.subs({alpha:1})"
   ]
  },
  {
   "cell_type": "code",
   "execution_count": 88,
   "metadata": {
    "collapsed": true,
    "deletable": true,
    "editable": true
   },
   "outputs": [],
   "source": [
    "from sympy.functions.combinatorial.numbers import stirling"
   ]
  },
  {
   "cell_type": "code",
   "execution_count": 89,
   "metadata": {
    "collapsed": false,
    "deletable": true,
    "editable": true
   },
   "outputs": [
    {
     "data": {
      "image/png": "[encoded data removed]",
      "text/latex": [
       "$$S = \\left[\\begin{matrix}1 & 0 & 0 & 0 & 0 & 0 & 0 & 0\\\\0 & 1 & 0 & 0 & 0 & 0 & 0 & 0\\\\0 & 1 & 1 & 0 & 0 & 0 & 0 & 0\\\\0 & 1 & 3 & 1 & 0 & 0 & 0 & 0\\\\0 & 1 & 7 & 6 & 1 & 0 & 0 & 0\\\\0 & 1 & 15 & 25 & 10 & 1 & 0 & 0\\\\0 & 1 & 31 & 90 & 65 & 15 & 1 & 0\\\\0 & 1 & 63 & 301 & 350 & 140 & 21 & 1\\end{matrix}\\right]$$"
      ],
      "text/plain": [
       "    ⎡1  0  0    0    0    0   0   0⎤\n",
       "    ⎢                              ⎥\n",
       "    ⎢0  1  0    0    0    0   0   0⎥\n",
       "    ⎢                              ⎥\n",
       "    ⎢0  1  1    0    0    0   0   0⎥\n",
       "    ⎢                              ⎥\n",
       "    ⎢0  1  3    1    0    0   0   0⎥\n",
       "S = ⎢                              ⎥\n",
       "    ⎢0  1  7    6    1    0   0   0⎥\n",
       "    ⎢                              ⎥\n",
       "    ⎢0  1  15  25   10    1   0   0⎥\n",
       "    ⎢                              ⎥\n",
       "    ⎢0  1  31  90   65   15   1   0⎥\n",
       "    ⎢                              ⎥\n",
       "    ⎣0  1  63  301  350  140  21  1⎦"
      ]
     },
     "execution_count": 89,
     "metadata": {},
     "output_type": "execute_result"
    }
   ],
   "source": [
    "S = Matrix(m, m, lambda n,k: stirling(n,k, kind=2))\n",
    "Eq(Symbol('S'), S, evaluate=False)"
   ]
  },
  {
   "cell_type": "code",
   "execution_count": 91,
   "metadata": {
    "collapsed": false,
    "deletable": true,
    "editable": true
   },
   "outputs": [
    {
     "data": {
      "image/png": "[encoded data removed]",
      "text/latex": [
       "$$\\left[\\begin{matrix}0 & 1 & 0 & 0 & 0 & 0 & 0\\\\0 & 1 & 1 & 0 & 0 & 0 & 0\\\\0 & 0 & 2 & 1 & 0 & 0 & 0\\\\0 & 0 & 0 & 3 & 1 & 0 & 0\\\\0 & 0 & 0 & 0 & 4 & 1 & 0\\\\0 & 0 & 0 & 0 & 0 & 5 & 1\\\\0 & 0 & 0 & 0 & 0 & 0 & 6\\end{matrix}\\right]$$"
      ],
      "text/plain": [
       "⎡0  1  0  0  0  0  0⎤\n",
       "⎢                   ⎥\n",
       "⎢0  1  1  0  0  0  0⎥\n",
       "⎢                   ⎥\n",
       "⎢0  0  2  1  0  0  0⎥\n",
       "⎢                   ⎥\n",
       "⎢0  0  0  3  1  0  0⎥\n",
       "⎢                   ⎥\n",
       "⎢0  0  0  0  4  1  0⎥\n",
       "⎢                   ⎥\n",
       "⎢0  0  0  0  0  5  1⎥\n",
       "⎢                   ⎥\n",
       "⎣0  0  0  0  0  0  6⎦"
      ]
     },
     "execution_count": 91,
     "metadata": {},
     "output_type": "execute_result"
    }
   ],
   "source": [
    "production_matrix_ordinary(S)"
   ]
  },
  {
   "cell_type": "code",
   "execution_count": 90,
   "metadata": {
    "collapsed": false,
    "deletable": true,
    "editable": true
   },
   "outputs": [
    {
     "data": {
      "image/png": "[encoded data removed]",
      "text/latex": [
       "$$\\left[\\begin{matrix}1 & 0 & 0 & 0 & 0 & 0 & 0 & 0\\\\1 & 1 & 0 & 0 & 0 & 0 & 0 & 0\\\\2 & 2 & 1 & 0 & 0 & 0 & 0 & 0\\\\5 & 6 & 3 & 1 & 0 & 0 & 0 & 0\\\\15 & 20 & 12 & 4 & 1 & 0 & 0 & 0\\\\52 & 75 & 50 & 20 & 5 & 1 & 0 & 0\\\\203 & 312 & 225 & 100 & 30 & 6 & 1 & 0\\\\877 & 1421 & 1092 & 525 & 175 & 42 & 7 & 1\\end{matrix}\\right]$$"
      ],
      "text/plain": [
       "⎡ 1    0     0     0    0   0   0  0⎤\n",
       "⎢                                   ⎥\n",
       "⎢ 1    1     0     0    0   0   0  0⎥\n",
       "⎢                                   ⎥\n",
       "⎢ 2    2     1     0    0   0   0  0⎥\n",
       "⎢                                   ⎥\n",
       "⎢ 5    6     3     1    0   0   0  0⎥\n",
       "⎢                                   ⎥\n",
       "⎢15    20    12    4    1   0   0  0⎥\n",
       "⎢                                   ⎥\n",
       "⎢52    75    50   20    5   1   0  0⎥\n",
       "⎢                                   ⎥\n",
       "⎢203  312   225   100  30   6   1  0⎥\n",
       "⎢                                   ⎥\n",
       "⎣877  1421  1092  525  175  42  7  1⎦"
      ]
     },
     "execution_count": 90,
     "metadata": {},
     "output_type": "execute_result"
    }
   ],
   "source": [
    "S*P*S**(-1)"
   ]
  },
  {
   "cell_type": "code",
   "execution_count": 22,
   "metadata": {
    "collapsed": false,
    "deletable": true,
    "editable": true
   },
   "outputs": [
    {
     "data": {
      "image/png": "[encoded data removed]",
      "text/latex": [
       "$$\\left[\\begin{matrix}1 & 0 & 0 & 0 & 0 & 0 & 0 & 0\\\\1 & 1 & 0 & 0 & 0 & 0 & 0 & 0\\\\0 & 2 & 1 & 0 & 0 & 0 & 0 & 0\\\\0 & 0 & 3 & 1 & 0 & 0 & 0 & 0\\\\0 & 0 & 0 & 4 & 1 & 0 & 0 & 0\\\\0 & 0 & 0 & 0 & 5 & 1 & 0 & 0\\\\0 & 0 & 0 & 0 & 0 & 6 & 1 & 0\\\\0 & 0 & 0 & 0 & 0 & 0 & 7 & 1\\end{matrix}\\right]$$"
      ],
      "text/plain": [
       "⎡1  0  0  0  0  0  0  0⎤\n",
       "⎢                      ⎥\n",
       "⎢1  1  0  0  0  0  0  0⎥\n",
       "⎢                      ⎥\n",
       "⎢0  2  1  0  0  0  0  0⎥\n",
       "⎢                      ⎥\n",
       "⎢0  0  3  1  0  0  0  0⎥\n",
       "⎢                      ⎥\n",
       "⎢0  0  0  4  1  0  0  0⎥\n",
       "⎢                      ⎥\n",
       "⎢0  0  0  0  5  1  0  0⎥\n",
       "⎢                      ⎥\n",
       "⎢0  0  0  0  0  6  1  0⎥\n",
       "⎢                      ⎥\n",
       "⎣0  0  0  0  0  0  7  1⎦"
      ]
     },
     "execution_count": 22,
     "metadata": {},
     "output_type": "execute_result"
    }
   ],
   "source": [
    "S**(-1)*P*S"
   ]
  },
  {
   "cell_type": "markdown",
   "metadata": {
    "deletable": true,
    "editable": true
   },
   "source": [
    "### Exercise 5.6"
   ]
  },
  {
   "cell_type": "code",
   "execution_count": 8,
   "metadata": {
    "collapsed": false,
    "deletable": true,
    "editable": true
   },
   "outputs": [],
   "source": [
    "d = IndexedBase('d')\n",
    "h = IndexedBase('h')"
   ]
  },
  {
   "cell_type": "code",
   "execution_count": 9,
   "metadata": {
    "collapsed": false,
    "deletable": true,
    "editable": true
   },
   "outputs": [
    {
     "data": {
      "image/png": "[encoded data removed]",
      "text/latex": [
       "$$\\left[\\begin{matrix}0 & 0 & 0 & 0 & 0 & 0 & 0 & 0\\\\h_{1} & 0 & 0 & 0 & 0 & 0 & 0 & 0\\\\0 & h_{2} & 0 & 0 & 0 & 0 & 0 & 0\\\\0 & 0 & h_{3} & 0 & 0 & 0 & 0 & 0\\\\0 & 0 & 0 & h_{4} & 0 & 0 & 0 & 0\\\\0 & 0 & 0 & 0 & h_{5} & 0 & 0 & 0\\\\0 & 0 & 0 & 0 & 0 & h_{6} & 0 & 0\\\\0 & 0 & 0 & 0 & 0 & 0 & h_{7} & 0\\end{matrix}\\right]$$"
      ],
      "text/plain": [
       "⎡ 0     0     0     0     0     0     0    0⎤\n",
       "⎢                                           ⎥\n",
       "⎢h[1]   0     0     0     0     0     0    0⎥\n",
       "⎢                                           ⎥\n",
       "⎢ 0    h[2]   0     0     0     0     0    0⎥\n",
       "⎢                                           ⎥\n",
       "⎢ 0     0    h[3]   0     0     0     0    0⎥\n",
       "⎢                                           ⎥\n",
       "⎢ 0     0     0    h[4]   0     0     0    0⎥\n",
       "⎢                                           ⎥\n",
       "⎢ 0     0     0     0    h[5]   0     0    0⎥\n",
       "⎢                                           ⎥\n",
       "⎢ 0     0     0     0     0    h[6]   0    0⎥\n",
       "⎢                                           ⎥\n",
       "⎣ 0     0     0     0     0     0    h[7]  0⎦"
      ]
     },
     "execution_count": 9,
     "metadata": {},
     "output_type": "execute_result"
    }
   ],
   "source": [
    "H = Matrix(m, m, lambda n, k: h[n] if n==k+1 else 0 if n == k-1 else 0)\n",
    "H"
   ]
  },
  {
   "cell_type": "code",
   "execution_count": 23,
   "metadata": {
    "collapsed": false,
    "deletable": true,
    "editable": true
   },
   "outputs": [
    {
     "data": {
      "image/png": "[encoded data removed]",
      "text/latex": [
       "$$\\left[\\begin{matrix}0^{n} & 0 & 0 & 0 & 0 & 0 & 0 & 0\\\\0^{n - 1} n h_{1} & 0^{n} & 0 & 0 & 0 & 0 & 0 & 0\\\\\\frac{n h_{1}}{2} 0^{n - 2} \\left(n - 1\\right) h_{2} & 0^{n - 1} n h_{2} & 0^{n} & 0 & 0 & 0 & 0 & 0\\\\\\frac{n h_{1}}{6} 0^{n - 3} \\left(n - 2\\right) \\left(n - 1\\right) h_{2} h_{3} & \\frac{n h_{2}}{2} 0^{n - 2} \\left(n - 1\\right) h_{3} & 0^{n - 1} n h_{3} & 0^{n} & 0 & 0 & 0 & 0\\\\\\frac{n h_{1}}{24} 0^{n - 4} \\left(n - 3\\right) \\left(n - 2\\right) \\left(n - 1\\right) h_{2} h_{3} h_{4} & \\frac{n h_{2}}{6} 0^{n - 3} \\left(n - 2\\right) \\left(n - 1\\right) h_{3} h_{4} & \\frac{n h_{3}}{2} 0^{n - 2} \\left(n - 1\\right) h_{4} & 0^{n - 1} n h_{4} & 0^{n} & 0 & 0 & 0\\\\\\frac{n h_{1}}{120} 0^{n - 5} \\left(n - 4\\right) \\left(n - 3\\right) \\left(n - 2\\right) \\left(n - 1\\right) h_{2} h_{3} h_{4} h_{5} & \\frac{n h_{2}}{24} 0^{n - 4} \\left(n - 3\\right) \\left(n - 2\\right) \\left(n - 1\\right) h_{3} h_{4} h_{5} & \\frac{n h_{3}}{6} 0^{n - 3} \\left(n - 2\\right) \\left(n - 1\\right) h_{4} h_{5} & \\frac{n h_{4}}{2} 0^{n - 2} \\left(n - 1\\right) h_{5} & 0^{n - 1} n h_{5} & 0^{n} & 0 & 0\\\\\\frac{n h_{1}}{720} 0^{n - 6} \\left(n - 5\\right) \\left(n - 4\\right) \\left(n - 3\\right) \\left(n - 2\\right) \\left(n - 1\\right) h_{2} h_{3} h_{4} h_{5} h_{6} & \\frac{n h_{2}}{120} 0^{n - 5} \\left(n - 4\\right) \\left(n - 3\\right) \\left(n - 2\\right) \\left(n - 1\\right) h_{3} h_{4} h_{5} h_{6} & \\frac{n h_{3}}{24} 0^{n - 4} \\left(n - 3\\right) \\left(n - 2\\right) \\left(n - 1\\right) h_{4} h_{5} h_{6} & \\frac{n h_{4}}{6} 0^{n - 3} \\left(n - 2\\right) \\left(n - 1\\right) h_{5} h_{6} & \\frac{n h_{5}}{2} 0^{n - 2} \\left(n - 1\\right) h_{6} & 0^{n - 1} n h_{6} & 0^{n} & 0\\\\\\frac{n h_{1}}{5040} 0^{n - 7} \\left(n - 6\\right) \\left(n - 5\\right) \\left(n - 4\\right) \\left(n - 3\\right) \\left(n - 2\\right) \\left(n - 1\\right) h_{2} h_{3} h_{4} h_{5} h_{6} h_{7} & \\frac{n h_{2}}{720} 0^{n - 6} \\left(n - 5\\right) \\left(n - 4\\right) \\left(n - 3\\right) \\left(n - 2\\right) \\left(n - 1\\right) h_{3} h_{4} h_{5} h_{6} h_{7} & \\frac{n h_{3}}{120} 0^{n - 5} \\left(n - 4\\right) \\left(n - 3\\right) \\left(n - 2\\right) \\left(n - 1\\right) h_{4} h_{5} h_{6} h_{7} & \\frac{n h_{4}}{24} 0^{n - 4} \\left(n - 3\\right) \\left(n - 2\\right) \\left(n - 1\\right) h_{5} h_{6} h_{7} & \\frac{n h_{5}}{6} 0^{n - 3} \\left(n - 2\\right) \\left(n - 1\\right) h_{6} h_{7} & \\frac{n h_{6}}{2} 0^{n - 2} \\left(n - 1\\right) h_{7} & 0^{n - 1} n h_{7} & 0^{n}\\end{matrix}\\right]$$"
      ],
      "text/plain": [
       "⎡                                             n                               \n",
       "⎢                                            0                                \n",
       "⎢                                                                             \n",
       "⎢                                        n - 1                                \n",
       "⎢                                       0     ⋅n⋅h[1]                         \n",
       "⎢                                                                             \n",
       "⎢                                 n - 2                                       \n",
       "⎢                                0     ⋅n⋅(n - 1)⋅h[1]⋅h[2]                   \n",
       "⎢                                ──────────────────────────                   \n",
       "⎢                                            2                                \n",
       "⎢                                                                             \n",
       "⎢                           n - 3                                             \n",
       "⎢                          0     ⋅n⋅(n - 2)⋅(n - 1)⋅h[1]⋅h[2]⋅h[3]            \n",
       "⎢                          ───────────────────────────────────────            \n",
       "⎢                                             6                               \n",
       "⎢                                                                             \n",
       "⎢                    n - 4                                                    \n",
       "⎢                   0     ⋅n⋅(n - 3)⋅(n - 2)⋅(n - 1)⋅h[1]⋅h[2]⋅h[3]⋅h[4]      \n",
       "⎢                   ────────────────────────────────────────────────────      \n",
       "⎢                                            24                               \n",
       "⎢                                                                             \n",
       "⎢              n - 5                                                          \n",
       "⎢             0     ⋅n⋅(n - 4)⋅(n - 3)⋅(n - 2)⋅(n - 1)⋅h[1]⋅h[2]⋅h[3]⋅h[4]⋅h[5\n",
       "⎢             ────────────────────────────────────────────────────────────────\n",
       "⎢                                            120                              \n",
       "⎢                                                                             \n",
       "⎢       n - 6                                                                 \n",
       "⎢      0     ⋅n⋅(n - 5)⋅(n - 4)⋅(n - 3)⋅(n - 2)⋅(n - 1)⋅h[1]⋅h[2]⋅h[3]⋅h[4]⋅h[\n",
       "⎢      ───────────────────────────────────────────────────────────────────────\n",
       "⎢                                           720                               \n",
       "⎢                                                                             \n",
       "⎢ n - 7                                                                       \n",
       "⎢0     ⋅n⋅(n - 6)⋅(n - 5)⋅(n - 4)⋅(n - 3)⋅(n - 2)⋅(n - 1)⋅h[1]⋅h[2]⋅h[3]⋅h[4]⋅\n",
       "⎢─────────────────────────────────────────────────────────────────────────────\n",
       "⎣                                            5040                             \n",
       "\n",
       "                                                                              \n",
       "                                                      0                       \n",
       "                                                                              \n",
       "                                                       n                      \n",
       "                                                      0                       \n",
       "                                                                              \n",
       "                                                                              \n",
       "                                                 n - 1                        \n",
       "                                                0     ⋅n⋅h[2]                 \n",
       "                                                                              \n",
       "                                                                              \n",
       "                                           n - 2                              \n",
       "                                          0     ⋅n⋅(n - 1)⋅h[2]⋅h[3]          \n",
       "                                          ──────────────────────────          \n",
       "                                                      2                       \n",
       "                                                                              \n",
       "                                    n - 3                                     \n",
       "                                   0     ⋅n⋅(n - 2)⋅(n - 1)⋅h[2]⋅h[3]⋅h[4]    \n",
       "                                   ───────────────────────────────────────    \n",
       "                                                      6                       \n",
       "                                                                              \n",
       "                              n - 4                                           \n",
       "]                            0     ⋅n⋅(n - 3)⋅(n - 2)⋅(n - 1)⋅h[2]⋅h[3]⋅h[4]⋅h\n",
       "─                            ─────────────────────────────────────────────────\n",
       "                                                      24                      \n",
       "                                                                              \n",
       "                       n - 5                                                  \n",
       "5]⋅h[6]               0     ⋅n⋅(n - 4)⋅(n - 3)⋅(n - 2)⋅(n - 1)⋅h[2]⋅h[3]⋅h[4]⋅\n",
       "───────               ────────────────────────────────────────────────────────\n",
       "                                                     120                      \n",
       "                                                                              \n",
       "                 n - 6                                                        \n",
       "h[5]⋅h[6]⋅h[7]  0     ⋅n⋅(n - 5)⋅(n - 4)⋅(n - 3)⋅(n - 2)⋅(n - 1)⋅h[2]⋅h[3]⋅h[4\n",
       "──────────────  ──────────────────────────────────────────────────────────────\n",
       "                                                     720                      \n",
       "\n",
       "                                                                              \n",
       "                                                  0                           \n",
       "                                                                              \n",
       "                                                                              \n",
       "                                                  0                           \n",
       "                                                                              \n",
       "                                                                              \n",
       "                                                  n                           \n",
       "                                                 0                            \n",
       "                                                                              \n",
       "                                                                              \n",
       "                                                                              \n",
       "                                             n - 1                            \n",
       "                                            0     ⋅n⋅h[3]                     \n",
       "                                                                              \n",
       "                                                                              \n",
       "                                      n - 2                                   \n",
       "                                     0     ⋅n⋅(n - 1)⋅h[3]⋅h[4]               \n",
       "                                     ──────────────────────────               \n",
       "                                                 2                            \n",
       "                                                                              \n",
       "                                n - 3                                         \n",
       "[5]                            0     ⋅n⋅(n - 2)⋅(n - 1)⋅h[3]⋅h[4]⋅h[5]        \n",
       "───                            ───────────────────────────────────────        \n",
       "                                                  6                           \n",
       "                                                                              \n",
       "                         n - 4                                                \n",
       "h[5]⋅h[6]               0     ⋅n⋅(n - 3)⋅(n - 2)⋅(n - 1)⋅h[3]⋅h[4]⋅h[5]⋅h[6]  \n",
       "─────────               ────────────────────────────────────────────────────  \n",
       "                                                 24                           \n",
       "                                                                              \n",
       "                   n - 5                                                      \n",
       "]⋅h[5]⋅h[6]⋅h[7]  0     ⋅n⋅(n - 4)⋅(n - 3)⋅(n - 2)⋅(n - 1)⋅h[3]⋅h[4]⋅h[5]⋅h[6]\n",
       "────────────────  ────────────────────────────────────────────────────────────\n",
       "                                                 120                          \n",
       "\n",
       "                                                                              \n",
       "                                0                                             \n",
       "                                                                              \n",
       "                                                                              \n",
       "                                0                                             \n",
       "                                                                              \n",
       "                                                                              \n",
       "                                                                              \n",
       "                                0                                             \n",
       "                                                                              \n",
       "                                                                              \n",
       "                                                                              \n",
       "                                 n                                            \n",
       "                                0                                             \n",
       "                                                                              \n",
       "                                                                              \n",
       "                                                                              \n",
       "                           n - 1                                              \n",
       "                          0     ⋅n⋅h[4]                                       \n",
       "                                                                              \n",
       "                                                                              \n",
       "                     n - 2                                                    \n",
       "                    0     ⋅n⋅(n - 1)⋅h[4]⋅h[5]                             n -\n",
       "                    ──────────────────────────                            0   \n",
       "                                2                                             \n",
       "                                                                              \n",
       "              n - 3                                                 n - 2     \n",
       "             0     ⋅n⋅(n - 2)⋅(n - 1)⋅h[4]⋅h[5]⋅h[6]               0     ⋅n⋅(n\n",
       "             ───────────────────────────────────────               ───────────\n",
       "                                6                                             \n",
       "                                                                              \n",
       "        n - 4                                                 n - 3           \n",
       "⋅h[7]  0     ⋅n⋅(n - 3)⋅(n - 2)⋅(n - 1)⋅h[4]⋅h[5]⋅h[6]⋅h[7]  0     ⋅n⋅(n - 2)⋅\n",
       "─────  ────────────────────────────────────────────────────  ─────────────────\n",
       "                                24                                            \n",
       "\n",
       "                                                                     ⎤\n",
       "  0                                 0                     0        0 ⎥\n",
       "                                                                     ⎥\n",
       "                                                                     ⎥\n",
       "  0                                 0                     0        0 ⎥\n",
       "                                                                     ⎥\n",
       "                                                                     ⎥\n",
       "                                                                     ⎥\n",
       "  0                                 0                     0        0 ⎥\n",
       "                                                                     ⎥\n",
       "                                                                     ⎥\n",
       "                                                                     ⎥\n",
       "                                                                     ⎥\n",
       "  0                                 0                     0        0 ⎥\n",
       "                                                                     ⎥\n",
       "                                                                     ⎥\n",
       "                                                                     ⎥\n",
       "  n                                                                  ⎥\n",
       " 0                                  0                     0        0 ⎥\n",
       "                                                                     ⎥\n",
       "                                                                     ⎥\n",
       "                                                                     ⎥\n",
       " 1                                   n                               ⎥\n",
       "  ⋅n⋅h[5]                           0                     0        0 ⎥\n",
       "                                                                     ⎥\n",
       "                                                                     ⎥\n",
       "                                                                     ⎥\n",
       " - 1)⋅h[5]⋅h[6]                n - 1                      n          ⎥\n",
       "───────────────               0     ⋅n⋅h[6]              0         0 ⎥\n",
       " 2                                                                   ⎥\n",
       "                                                                     ⎥\n",
       "                         n - 2                                       ⎥\n",
       "(n - 1)⋅h[5]⋅h[6]⋅h[7]  0     ⋅n⋅(n - 1)⋅h[6]⋅h[7]   n - 1          n⎥\n",
       "──────────────────────  ──────────────────────────  0     ⋅n⋅h[7]  0 ⎥\n",
       "  6                                 2                                ⎦"
      ]
     },
     "execution_count": 23,
     "metadata": {},
     "output_type": "execute_result"
    }
   ],
   "source": [
    "H**n"
   ]
  },
  {
   "cell_type": "code",
   "execution_count": 25,
   "metadata": {
    "collapsed": false,
    "deletable": true,
    "editable": true
   },
   "outputs": [
    {
     "data": {
      "image/png": "[encoded data removed]",
      "text/latex": [
       "$$\\left[\\begin{matrix}0\\\\0\\\\0\\\\1\\\\0\\\\0\\\\0\\\\0\\end{matrix}\\right]$$"
      ],
      "text/plain": [
       "⎡0⎤\n",
       "⎢ ⎥\n",
       "⎢0⎥\n",
       "⎢ ⎥\n",
       "⎢0⎥\n",
       "⎢ ⎥\n",
       "⎢1⎥\n",
       "⎢ ⎥\n",
       "⎢0⎥\n",
       "⎢ ⎥\n",
       "⎢0⎥\n",
       "⎢ ⎥\n",
       "⎢0⎥\n",
       "⎢ ⎥\n",
       "⎣0⎦"
      ]
     },
     "execution_count": 25,
     "metadata": {},
     "output_type": "execute_result"
    }
   ],
   "source": [
    "unit = Matrix(m, 1, unit_vector(3, offset=0))\n",
    "unit"
   ]
  },
  {
   "cell_type": "code",
   "execution_count": 22,
   "metadata": {
    "collapsed": false,
    "deletable": true,
    "editable": true
   },
   "outputs": [
    {
     "data": {
      "image/png": "[encoded data removed]",
      "text/latex": [
       "$$\\left[\\begin{matrix}0\\\\0\\\\0\\\\0\\\\0\\\\0\\\\0\\\\h_{4} h_{5} h_{6} h_{7}\\end{matrix}\\right]$$"
      ],
      "text/plain": [
       "⎡         0         ⎤\n",
       "⎢                   ⎥\n",
       "⎢         0         ⎥\n",
       "⎢                   ⎥\n",
       "⎢         0         ⎥\n",
       "⎢                   ⎥\n",
       "⎢         0         ⎥\n",
       "⎢                   ⎥\n",
       "⎢         0         ⎥\n",
       "⎢                   ⎥\n",
       "⎢         0         ⎥\n",
       "⎢                   ⎥\n",
       "⎢         0         ⎥\n",
       "⎢                   ⎥\n",
       "⎣h[4]⋅h[5]⋅h[6]⋅h[7]⎦"
      ]
     },
     "execution_count": 22,
     "metadata": {},
     "output_type": "execute_result"
    }
   ],
   "source": [
    "H**4*unit"
   ]
  },
  {
   "cell_type": "code",
   "execution_count": 58,
   "metadata": {
    "collapsed": false,
    "deletable": true,
    "editable": true
   },
   "outputs": [
    {
     "data": {
      "image/png": "[encoded data removed]",
      "text/latex": [
       "$$f{\\left (z \\right )} = e^{z \\left(\\alpha + \\beta\\right)}$$"
      ],
      "text/plain": [
       "        z⋅(\\alpha + \\beta)\n",
       "f(z) = ℯ                  "
      ]
     },
     "execution_count": 58,
     "metadata": {},
     "output_type": "execute_result"
    }
   ],
   "source": [
    "f = Function('f')\n",
    "alpha, beta, gamma = symbols(r'\\alpha \\beta \\gamma')\n",
    "f_expt = define(let=f(z), be=exp((alpha+beta)*z))\n",
    "f_expt"
   ]
  },
  {
   "cell_type": "code",
   "execution_count": 59,
   "metadata": {
    "collapsed": false,
    "deletable": true,
    "editable": true
   },
   "outputs": [
    {
     "data": {
      "image/png": "[encoded data removed]",
      "text/latex": [
       "$$\\left ( \\left \\{ 1 : \\left ( \\lambda_{1}, \\quad m_{1}\\right )\\right \\}, \\quad \\left \\{ \\lambda_{1} : 0\\right \\}, \\quad \\left \\{ m_{1} : 8\\right \\}\\right )$$"
      ],
      "text/plain": [
       "({1: (\\lambda[1], m[1])}, {\\lambda[1]: 0}, {m[1]: 8})"
      ]
     },
     "execution_count": 59,
     "metadata": {},
     "output_type": "execute_result"
    }
   ],
   "source": [
    "data, eigenvals, multiplicities = eigendata = eigen_data(H)\n",
    "eigendata"
   ]
  },
  {
   "cell_type": "code",
   "execution_count": 60,
   "metadata": {
    "collapsed": false,
    "deletable": true,
    "editable": true
   },
   "outputs": [
    {
     "data": {
      "image/png": "[encoded data removed]",
      "text/latex": [
       "$$\\left \\{ \\left ( 1, \\quad 1\\right ) : \\Phi_{ 1, 1 }{\\left (z \\right )} = 1, \\quad \\left ( 1, \\quad 2\\right ) : \\Phi_{ 1, 2 }{\\left (z \\right )} = z - \\lambda_{1}, \\quad \\left ( 1, \\quad 3\\right ) : \\Phi_{ 1, 3 }{\\left (z \\right )} = \\frac{z^{2}}{2} - z \\lambda_{1} + \\frac{\\lambda_{1}^{2}}{2}, \\quad \\left ( 1, \\quad 4\\right ) : \\Phi_{ 1, 4 }{\\left (z \\right )} = \\frac{z^{3}}{6} - \\frac{z^{2} \\lambda_{1}}{2} + \\frac{z \\lambda_{1}^{2}}{2} - \\frac{\\lambda_{1}^{3}}{6}, \\quad \\left ( 1, \\quad 5\\right ) : \\Phi_{ 1, 5 }{\\left (z \\right )} = \\frac{z^{4}}{24} - \\frac{z^{3} \\lambda_{1}}{6} + \\frac{z^{2} \\lambda_{1}^{2}}{4} - \\frac{z \\lambda_{1}^{3}}{6} + \\frac{\\lambda_{1}^{4}}{24}, \\quad \\left ( 1, \\quad 6\\right ) : \\Phi_{ 1, 6 }{\\left (z \\right )} = \\frac{z^{5}}{120} - \\frac{z^{4} \\lambda_{1}}{24} + \\frac{z^{3} \\lambda_{1}^{2}}{12} - \\frac{z^{2} \\lambda_{1}^{3}}{12} + \\frac{z \\lambda_{1}^{4}}{24} - \\frac{\\lambda_{1}^{5}}{120}, \\quad \\left ( 1, \\quad 7\\right ) : \\Phi_{ 1, 7 }{\\left (z \\right )} = \\frac{z^{6}}{720} - \\frac{z^{5} \\lambda_{1}}{120} + \\frac{z^{4} \\lambda_{1}^{2}}{48} - \\frac{z^{3} \\lambda_{1}^{3}}{36} + \\frac{z^{2} \\lambda_{1}^{4}}{48} - \\frac{z \\lambda_{1}^{5}}{120} + \\frac{\\lambda_{1}^{6}}{720}, \\quad \\left ( 1, \\quad 8\\right ) : \\Phi_{ 1, 8 }{\\left (z \\right )} = \\frac{z^{7}}{5040} - \\frac{z^{6} \\lambda_{1}}{720} + \\frac{z^{5} \\lambda_{1}^{2}}{240} - \\frac{z^{4} \\lambda_{1}^{3}}{144} + \\frac{z^{3} \\lambda_{1}^{4}}{144} - \\frac{z^{2} \\lambda_{1}^{5}}{240} + \\frac{z \\lambda_{1}^{6}}{720} - \\frac{\\lambda_{1}^{7}}{5040}\\right \\}$$"
      ],
      "text/plain": [
       "⎧                                                                             \n",
       "⎪                                                                             \n",
       "⎨(1, 1): \\Phi_{ 1, 1 }(z) = 1, (1, 2): \\Phi_{ 1, 2 }(z) = z - \\lambda[1], (1, \n",
       "⎪                                                                             \n",
       "⎩                                                                             \n",
       "\n",
       "                        2                            2                        \n",
       "                       z                   \\lambda[1]                         \n",
       "3): \\Phi_{ 1, 3 }(z) = ── - z⋅\\lambda[1] + ───────────, (1, 4): \\Phi_{ 1, 4 }(\n",
       "                       2                        2                             \n",
       "                                                                              \n",
       "\n",
       "      3    2                          2             3                         \n",
       "     z    z ⋅\\lambda[1]   z⋅\\lambda[1]    \\lambda[1]                          \n",
       "z) = ── - ───────────── + ───────────── - ───────────, (1, 5): \\Phi_{ 1, 5 }(z\n",
       "     6          2               2              6                              \n",
       "                                                                              \n",
       "\n",
       "     4    3               2           2               3             4         \n",
       "    z    z ⋅\\lambda[1]   z ⋅\\lambda[1]    z⋅\\lambda[1]    \\lambda[1]          \n",
       ") = ── - ───────────── + ────────────── - ───────────── + ───────────, (1, 6):\n",
       "    24         6               4                6              24             \n",
       "                                                                              \n",
       "\n",
       "                      5    4               3           2    2           3     \n",
       "                     z    z ⋅\\lambda[1]   z ⋅\\lambda[1]    z ⋅\\lambda[1]    z⋅\n",
       " \\Phi_{ 1, 6 }(z) = ─── - ───────────── + ────────────── - ────────────── + ──\n",
       "                    120         24              12               12           \n",
       "                                                                              \n",
       "\n",
       "          4             5                               6    5               4\n",
       "\\lambda[1]    \\lambda[1]                               z    z ⋅\\lambda[1]   z \n",
       "─────────── - ───────────, (1, 7): \\Phi_{ 1, 7 }(z) = ─── - ───────────── + ──\n",
       "    24            120                                 720        120          \n",
       "                                                                              \n",
       "\n",
       "           2    3           3    2           4               5             6  \n",
       "⋅\\lambda[1]    z ⋅\\lambda[1]    z ⋅\\lambda[1]    z⋅\\lambda[1]    \\lambda[1]   \n",
       "──────────── - ────────────── + ────────────── - ───────────── + ───────────, \n",
       "    48               36               48              120            720      \n",
       "                                                                              \n",
       "\n",
       "                             7     6               5           2    4         \n",
       "                            z     z ⋅\\lambda[1]   z ⋅\\lambda[1]    z ⋅\\lambda[\n",
       "(1, 8): \\Phi_{ 1, 8 }(z) = ──── - ───────────── + ────────────── - ───────────\n",
       "                           5040        720             240              144   \n",
       "                                                                              \n",
       "\n",
       "  3    3           4    2           5               6             7⎫\n",
       "1]    z ⋅\\lambda[1]    z ⋅\\lambda[1]    z⋅\\lambda[1]    \\lambda[1] ⎪\n",
       "─── + ────────────── - ────────────── + ───────────── - ───────────⎬\n",
       "           144              240              720            5040   ⎪\n",
       "                                                                   ⎭"
      ]
     },
     "execution_count": 60,
     "metadata": {},
     "output_type": "execute_result"
    }
   ],
   "source": [
    "Phi_polynomials = component_polynomials(Phi_poly, eigendata)\n",
    "Phi_polynomials"
   ]
  },
  {
   "cell_type": "code",
   "execution_count": 61,
   "metadata": {
    "collapsed": false,
    "deletable": true,
    "editable": true
   },
   "outputs": [
    {
     "data": {
      "image/png": "[encoded data removed]",
      "text/latex": [
       "$$\\left\\{\\Phi_{ 1, 1 }{\\left (z \\right )} = 1, \\Phi_{ 1, 2 }{\\left (z \\right )} = z, \\Phi_{ 1, 3 }{\\left (z \\right )} = \\frac{z^{2}}{2}, \\Phi_{ 1, 4 }{\\left (z \\right )} = \\frac{z^{3}}{6}, \\Phi_{ 1, 5 }{\\left (z \\right )} = \\frac{z^{4}}{24}, \\Phi_{ 1, 6 }{\\left (z \\right )} = \\frac{z^{5}}{120}, \\Phi_{ 1, 7 }{\\left (z \\right )} = \\frac{z^{6}}{720}, \\Phi_{ 1, 8 }{\\left (z \\right )} = \\frac{z^{7}}{5040}\\right\\}$$"
      ],
      "text/plain": [
       "   ⎛⎡                                                                2        \n",
       "   ⎜⎢                                                               z         \n",
       "set⎜⎢\\Phi_{ 1, 1 }(z) = 1, \\Phi_{ 1, 2 }(z) = z, \\Phi_{ 1, 3 }(z) = ──, \\Phi_{\n",
       "   ⎝⎣                                                               2         \n",
       "\n",
       "              3                      4                       5                \n",
       "             z                      z                       z                 \n",
       " 1, 4 }(z) = ──, \\Phi_{ 1, 5 }(z) = ──, \\Phi_{ 1, 6 }(z) = ───, \\Phi_{ 1, 7 }(\n",
       "             6                      24                     120                \n",
       "\n",
       "       6                       7 ⎤⎞\n",
       "      z                       z  ⎥⎟\n",
       "z) = ───, \\Phi_{ 1, 8 }(z) = ────⎥⎟\n",
       "     720                     5040⎦⎠"
      ]
     },
     "execution_count": 61,
     "metadata": {},
     "output_type": "execute_result"
    }
   ],
   "source": [
    "{poly_def.subs(eigenvals) for (i,j), poly_def in Phi_polynomials.items()}"
   ]
  },
  {
   "cell_type": "code",
   "execution_count": 62,
   "metadata": {
    "collapsed": false,
    "deletable": true,
    "editable": true
   },
   "outputs": [],
   "source": [
    "g_expt = g_poly(f_expt, eigendata, Phi_polynomials)\n",
    "#g_expt"
   ]
  },
  {
   "cell_type": "code",
   "execution_count": 63,
   "metadata": {
    "collapsed": false,
    "deletable": true,
    "editable": true
   },
   "outputs": [
    {
     "data": {
      "image/png": "[encoded data removed]",
      "text/latex": [
       "$$g{\\left (z \\right )} = z^{7} \\left(\\frac{\\alpha^{7}}{5040} + \\frac{\\alpha^{6} \\beta}{720} + \\frac{\\alpha^{5} \\beta^{2}}{240} + \\frac{\\alpha^{4} \\beta^{3}}{144} + \\frac{\\alpha^{3} \\beta^{4}}{144} + \\frac{\\alpha^{2} \\beta^{5}}{240} + \\frac{\\alpha \\beta^{6}}{720} + \\frac{\\beta^{7}}{5040}\\right) + z^{6} \\left(\\frac{\\alpha^{6}}{720} + \\frac{\\alpha^{5} \\beta}{120} + \\frac{\\alpha^{4} \\beta^{2}}{48} + \\frac{\\alpha^{3} \\beta^{3}}{36} + \\frac{\\alpha^{2} \\beta^{4}}{48} + \\frac{\\alpha \\beta^{5}}{120} + \\frac{\\beta^{6}}{720}\\right) + z^{5} \\left(\\frac{\\alpha^{5}}{120} + \\frac{\\alpha^{4} \\beta}{24} + \\frac{\\alpha^{3} \\beta^{2}}{12} + \\frac{\\alpha^{2} \\beta^{3}}{12} + \\frac{\\alpha \\beta^{4}}{24} + \\frac{\\beta^{5}}{120}\\right) + z^{4} \\left(\\frac{\\alpha^{4}}{24} + \\frac{\\alpha^{3} \\beta}{6} + \\frac{\\alpha^{2} \\beta^{2}}{4} + \\frac{\\alpha \\beta^{3}}{6} + \\frac{\\beta^{4}}{24}\\right) + z^{3} \\left(\\frac{\\alpha^{3}}{6} + \\frac{\\alpha^{2} \\beta}{2} + \\frac{\\alpha \\beta^{2}}{2} + \\frac{\\beta^{3}}{6}\\right) + z^{2} \\left(\\frac{\\alpha^{2}}{2} + \\alpha \\beta + \\frac{\\beta^{2}}{2}\\right) + z \\left(\\alpha + \\beta\\right) + 1$$"
      ],
      "text/plain": [
       "          ⎛      7         6               5      2         4      3         3\n",
       "        7 ⎜\\alpha    \\alpha ⋅\\beta   \\alpha ⋅\\beta    \\alpha ⋅\\beta    \\alpha \n",
       "g(z) = z ⋅⎜─────── + ───────────── + ────────────── + ────────────── + ───────\n",
       "          ⎝  5040         720             240              144              14\n",
       "\n",
       "      4         2      5               6        7⎞      ⎛      6         5    \n",
       "⋅\\beta    \\alpha ⋅\\beta    \\alpha⋅\\beta    \\beta ⎟    6 ⎜\\alpha    \\alpha ⋅\\be\n",
       "─────── + ────────────── + ───────────── + ──────⎟ + z ⋅⎜─────── + ───────────\n",
       "4              240              720         5040 ⎠      ⎝  720          120   \n",
       "\n",
       "           4      2         3      3         2      4               5        6\n",
       "ta   \\alpha ⋅\\beta    \\alpha ⋅\\beta    \\alpha ⋅\\beta    \\alpha⋅\\beta    \\beta \n",
       "── + ────────────── + ────────────── + ────────────── + ───────────── + ──────\n",
       "           48               36               48              120         720  \n",
       "\n",
       "⎞      ⎛      5         4               3      2         2      3             \n",
       "⎟    5 ⎜\\alpha    \\alpha ⋅\\beta   \\alpha ⋅\\beta    \\alpha ⋅\\beta    \\alpha⋅\\be\n",
       "⎟ + z ⋅⎜─────── + ───────────── + ────────────── + ────────────── + ──────────\n",
       "⎠      ⎝  120           24              12               12               24  \n",
       "\n",
       "  4        5⎞      ⎛      4         3               2      2               3  \n",
       "ta    \\beta ⎟    4 ⎜\\alpha    \\alpha ⋅\\beta   \\alpha ⋅\\beta    \\alpha⋅\\beta   \n",
       "─── + ──────⎟ + z ⋅⎜─────── + ───────────── + ────────────── + ───────────── +\n",
       "       120  ⎠      ⎝   24           6               4                6        \n",
       "\n",
       "      4⎞      ⎛      3         2                     2        3⎞      ⎛      2\n",
       " \\beta ⎟    3 ⎜\\alpha    \\alpha ⋅\\beta   \\alpha⋅\\beta    \\beta ⎟    2 ⎜\\alpha \n",
       " ──────⎟ + z ⋅⎜─────── + ───────────── + ───────────── + ──────⎟ + z ⋅⎜───────\n",
       "   24  ⎠      ⎝   6            2               2           6   ⎠      ⎝   2   \n",
       "\n",
       "                       2⎞                         \n",
       "                  \\beta ⎟                         \n",
       " + \\alpha⋅\\beta + ──────⎟ + z⋅(\\alpha + \\beta) + 1\n",
       "                    2   ⎠                         "
      ]
     },
     "execution_count": 63,
     "metadata": {},
     "output_type": "execute_result"
    }
   ],
   "source": [
    "g_expt = g_expt.subs(eigenvals)\n",
    "g_expt"
   ]
  },
  {
   "cell_type": "code",
   "execution_count": 64,
   "metadata": {
    "collapsed": false,
    "deletable": true,
    "editable": true
   },
   "outputs": [
    {
     "data": {
      "image/png": "[encoded data removed]",
      "text/latex": [
       "$$g{\\left (z \\right )} = \\frac{\\alpha^{7} z^{7}}{5040} + \\frac{\\alpha^{6} z^{6}}{720} + \\frac{\\alpha^{5} z^{5}}{120} + \\frac{\\alpha^{4} z^{4}}{24} + \\frac{\\alpha^{3} z^{3}}{6} + \\frac{\\alpha^{2} z^{2}}{2} + \\alpha z + 1$$"
      ],
      "text/plain": [
       "             7  7         6  6         5  5         4  4         3  3         \n",
       "       \\alpha ⋅z    \\alpha ⋅z    \\alpha ⋅z    \\alpha ⋅z    \\alpha ⋅z    \\alpha\n",
       "g(z) = ────────── + ────────── + ────────── + ────────── + ────────── + ──────\n",
       "          5040         720          120           24           6            2 \n",
       "\n",
       "2  2               \n",
       " ⋅z                \n",
       "──── + \\alpha⋅z + 1\n",
       "                   "
      ]
     },
     "execution_count": 64,
     "metadata": {},
     "output_type": "execute_result"
    }
   ],
   "source": [
    "g_expt.subs({beta:0})"
   ]
  },
  {
   "cell_type": "code",
   "execution_count": 65,
   "metadata": {
    "collapsed": false,
    "deletable": true,
    "editable": true
   },
   "outputs": [
    {
     "data": {
      "image/png": "[encoded data removed]",
      "text/latex": [
       "$$\\left[\\begin{matrix}1 & 0 & 0 & 0 & 0 & 0 & 0 & 0\\\\\\left(\\alpha + \\beta\\right) h_{1} & 1 & 0 & 0 & 0 & 0 & 0 & 0\\\\\\frac{h_{1} h_{2}}{2} \\left(\\alpha^{2} + 2 \\alpha \\beta + \\beta^{2}\\right) & \\left(\\alpha + \\beta\\right) h_{2} & 1 & 0 & 0 & 0 & 0 & 0\\\\\\frac{h_{1} h_{2}}{6} \\left(\\alpha^{3} + 3 \\alpha^{2} \\beta + 3 \\alpha \\beta^{2} + \\beta^{3}\\right) h_{3} & \\frac{h_{2} h_{3}}{2} \\left(\\alpha^{2} + 2 \\alpha \\beta + \\beta^{2}\\right) & \\left(\\alpha + \\beta\\right) h_{3} & 1 & 0 & 0 & 0 & 0\\\\\\frac{h_{1} h_{2}}{24} \\left(\\alpha^{4} + 4 \\alpha^{3} \\beta + 6 \\alpha^{2} \\beta^{2} + 4 \\alpha \\beta^{3} + \\beta^{4}\\right) h_{3} h_{4} & \\frac{h_{2} h_{3}}{6} \\left(\\alpha^{3} + 3 \\alpha^{2} \\beta + 3 \\alpha \\beta^{2} + \\beta^{3}\\right) h_{4} & \\frac{h_{3} h_{4}}{2} \\left(\\alpha^{2} + 2 \\alpha \\beta + \\beta^{2}\\right) & \\left(\\alpha + \\beta\\right) h_{4} & 1 & 0 & 0 & 0\\\\\\frac{h_{1} h_{2}}{120} \\left(\\alpha^{5} + 5 \\alpha^{4} \\beta + 10 \\alpha^{3} \\beta^{2} + 10 \\alpha^{2} \\beta^{3} + 5 \\alpha \\beta^{4} + \\beta^{5}\\right) h_{3} h_{4} h_{5} & \\frac{h_{2} h_{3}}{24} \\left(\\alpha^{4} + 4 \\alpha^{3} \\beta + 6 \\alpha^{2} \\beta^{2} + 4 \\alpha \\beta^{3} + \\beta^{4}\\right) h_{4} h_{5} & \\frac{h_{3} h_{4}}{6} \\left(\\alpha^{3} + 3 \\alpha^{2} \\beta + 3 \\alpha \\beta^{2} + \\beta^{3}\\right) h_{5} & \\frac{h_{4} h_{5}}{2} \\left(\\alpha^{2} + 2 \\alpha \\beta + \\beta^{2}\\right) & \\left(\\alpha + \\beta\\right) h_{5} & 1 & 0 & 0\\\\\\frac{h_{1} h_{2}}{720} \\left(\\alpha^{6} + 6 \\alpha^{5} \\beta + 15 \\alpha^{4} \\beta^{2} + 20 \\alpha^{3} \\beta^{3} + 15 \\alpha^{2} \\beta^{4} + 6 \\alpha \\beta^{5} + \\beta^{6}\\right) h_{3} h_{4} h_{5} h_{6} & \\frac{h_{2} h_{3}}{120} \\left(\\alpha^{5} + 5 \\alpha^{4} \\beta + 10 \\alpha^{3} \\beta^{2} + 10 \\alpha^{2} \\beta^{3} + 5 \\alpha \\beta^{4} + \\beta^{5}\\right) h_{4} h_{5} h_{6} & \\frac{h_{3} h_{4}}{24} \\left(\\alpha^{4} + 4 \\alpha^{3} \\beta + 6 \\alpha^{2} \\beta^{2} + 4 \\alpha \\beta^{3} + \\beta^{4}\\right) h_{5} h_{6} & \\frac{h_{4} h_{5}}{6} \\left(\\alpha^{3} + 3 \\alpha^{2} \\beta + 3 \\alpha \\beta^{2} + \\beta^{3}\\right) h_{6} & \\frac{h_{5} h_{6}}{2} \\left(\\alpha^{2} + 2 \\alpha \\beta + \\beta^{2}\\right) & \\left(\\alpha + \\beta\\right) h_{6} & 1 & 0\\\\\\frac{h_{1} h_{2}}{5040} \\left(\\alpha^{7} + 7 \\alpha^{6} \\beta + 21 \\alpha^{5} \\beta^{2} + 35 \\alpha^{4} \\beta^{3} + 35 \\alpha^{3} \\beta^{4} + 21 \\alpha^{2} \\beta^{5} + 7 \\alpha \\beta^{6} + \\beta^{7}\\right) h_{3} h_{4} h_{5} h_{6} h_{7} & \\frac{h_{2} h_{3}}{720} \\left(\\alpha^{6} + 6 \\alpha^{5} \\beta + 15 \\alpha^{4} \\beta^{2} + 20 \\alpha^{3} \\beta^{3} + 15 \\alpha^{2} \\beta^{4} + 6 \\alpha \\beta^{5} + \\beta^{6}\\right) h_{4} h_{5} h_{6} h_{7} & \\frac{h_{3} h_{4}}{120} \\left(\\alpha^{5} + 5 \\alpha^{4} \\beta + 10 \\alpha^{3} \\beta^{2} + 10 \\alpha^{2} \\beta^{3} + 5 \\alpha \\beta^{4} + \\beta^{5}\\right) h_{5} h_{6} h_{7} & \\frac{h_{4} h_{5}}{24} \\left(\\alpha^{4} + 4 \\alpha^{3} \\beta + 6 \\alpha^{2} \\beta^{2} + 4 \\alpha \\beta^{3} + \\beta^{4}\\right) h_{6} h_{7} & \\frac{h_{5} h_{6}}{6} \\left(\\alpha^{3} + 3 \\alpha^{2} \\beta + 3 \\alpha \\beta^{2} + \\beta^{3}\\right) h_{7} & \\frac{h_{6} h_{7}}{2} \\left(\\alpha^{2} + 2 \\alpha \\beta + \\beta^{2}\\right) & \\left(\\alpha + \\beta\\right) h_{7} & 1\\end{matrix}\\right]$$"
      ],
      "text/plain": [
       "⎡                                                                             \n",
       "⎢                                                                             \n",
       "⎢                                                                          (\\a\n",
       "⎢                                                                             \n",
       "⎢                                                              ⎛      2       \n",
       "⎢                                                              ⎝\\alpha  + 2⋅\\a\n",
       "⎢                                                              ───────────────\n",
       "⎢                                                                             \n",
       "⎢                                                                             \n",
       "⎢                                                  ⎛      3           2       \n",
       "⎢                                                  ⎝\\alpha  + 3⋅\\alpha ⋅\\beta \n",
       "⎢                                                  ───────────────────────────\n",
       "⎢                                                                             \n",
       "⎢                                                                             \n",
       "⎢                                      ⎛      4           3                 2 \n",
       "⎢                                      ⎝\\alpha  + 4⋅\\alpha ⋅\\beta + 6⋅\\alpha ⋅\n",
       "⎢                                      ───────────────────────────────────────\n",
       "⎢                                                                             \n",
       "⎢                                                                             \n",
       "⎢                         ⎛      5           4                  3      2      \n",
       "⎢                         ⎝\\alpha  + 5⋅\\alpha ⋅\\beta + 10⋅\\alpha ⋅\\beta  + 10⋅\n",
       "⎢                         ────────────────────────────────────────────────────\n",
       "⎢                                                                             \n",
       "⎢                                                                             \n",
       "⎢            ⎛      6           5                  4      2            3      \n",
       "⎢            ⎝\\alpha  + 6⋅\\alpha ⋅\\beta + 15⋅\\alpha ⋅\\beta  + 20⋅\\alpha ⋅\\beta\n",
       "⎢            ─────────────────────────────────────────────────────────────────\n",
       "⎢                                                                             \n",
       "⎢                                                                             \n",
       "⎢⎛      7           6                  5      2            4      3           \n",
       "⎢⎝\\alpha  + 7⋅\\alpha ⋅\\beta + 21⋅\\alpha ⋅\\beta  + 35⋅\\alpha ⋅\\beta  + 35⋅\\alph\n",
       "⎢─────────────────────────────────────────────────────────────────────────────\n",
       "⎣                                                                             \n",
       "\n",
       "       1                                                                      \n",
       "                                                                              \n",
       "lpha + \\beta)⋅h[1]                                                            \n",
       "                                                                              \n",
       "                  2⎞                                                          \n",
       "lpha⋅\\beta + \\beta ⎠⋅h[1]⋅h[2]                                                \n",
       "──────────────────────────────                                                \n",
       "       2                                                                      \n",
       "                                                                              \n",
       "                2        3⎞                                                   \n",
       "+ 3⋅\\alpha⋅\\beta  + \\beta ⎠⋅h[1]⋅h[2]⋅h[3]                                    \n",
       "──────────────────────────────────────────                                    \n",
       "       6                                                                      \n",
       "                                                                              \n",
       "     2                 3        4⎞                                            \n",
       "\\beta  + 4⋅\\alpha⋅\\beta  + \\beta ⎠⋅h[1]⋅h[2]⋅h[3]⋅h[4]                        \n",
       "──────────────────────────────────────────────────────                        \n",
       "       24                                                                     \n",
       "                                                                              \n",
       "      2      3                 4        5⎞                                    \n",
       "\\alpha ⋅\\beta  + 5⋅\\alpha⋅\\beta  + \\beta ⎠⋅h[1]⋅h[2]⋅h[3]⋅h[4]⋅h[5]           \n",
       "───────────────────────────────────────────────────────────────────           \n",
       "      120                                                                     \n",
       "                                                                              \n",
       "3            2      4                 5        6⎞                             \n",
       "  + 15⋅\\alpha ⋅\\beta  + 6⋅\\alpha⋅\\beta  + \\beta ⎠⋅h[1]⋅h[2]⋅h[3]⋅h[4]⋅h[5]⋅h[6\n",
       "──────────────────────────────────────────────────────────────────────────────\n",
       "     720                                                                      \n",
       "                                                                              \n",
       " 3      4            2      5                 6        7⎞                     \n",
       "a ⋅\\beta  + 21⋅\\alpha ⋅\\beta  + 7⋅\\alpha⋅\\beta  + \\beta ⎠⋅h[1]⋅h[2]⋅h[3]⋅h[4]⋅\n",
       "──────────────────────────────────────────────────────────────────────────────\n",
       "      5040                                                                    \n",
       "\n",
       "                                                                              \n",
       "                                                                              \n",
       "                                                                              \n",
       "                                                                              \n",
       "                                                                              \n",
       "                                                                              \n",
       "                                                                             (\n",
       "                                                                              \n",
       "                                                                              \n",
       "                                                                 ⎛      2     \n",
       "                                                                 ⎝\\alpha  + 2⋅\n",
       "                                                                 ─────────────\n",
       "                                                                              \n",
       "                                                                              \n",
       "                                                     ⎛      3           2     \n",
       "                                                     ⎝\\alpha  + 3⋅\\alpha ⋅\\bet\n",
       "                                                     ─────────────────────────\n",
       "                                                                              \n",
       "                                                                              \n",
       "                                         ⎛      4           3                 \n",
       "                                         ⎝\\alpha  + 4⋅\\alpha ⋅\\beta + 6⋅\\alpha\n",
       "                                         ─────────────────────────────────────\n",
       "                                                                              \n",
       "                                                                              \n",
       "                            ⎛      5           4                  3      2    \n",
       "]                           ⎝\\alpha  + 5⋅\\alpha ⋅\\beta + 10⋅\\alpha ⋅\\beta  + 1\n",
       "─                           ──────────────────────────────────────────────────\n",
       "                                                                              \n",
       "                                                                              \n",
       "                ⎛      6           5                  4      2            3   \n",
       "h[5]⋅h[6]⋅h[7]  ⎝\\alpha  + 6⋅\\alpha ⋅\\beta + 15⋅\\alpha ⋅\\beta  + 20⋅\\alpha ⋅\\b\n",
       "──────────────  ──────────────────────────────────────────────────────────────\n",
       "                                                                              \n",
       "\n",
       "         0                                                                    \n",
       "                                                                              \n",
       "         1                                                                    \n",
       "                                                                              \n",
       "                                                                              \n",
       "                                                                              \n",
       "\\alpha + \\beta)⋅h[2]                                                          \n",
       "                                                                              \n",
       "                                                                              \n",
       "                    2⎞                                                        \n",
       "\\alpha⋅\\beta + \\beta ⎠⋅h[2]⋅h[3]                                              \n",
       "────────────────────────────────                                              \n",
       "         2                                                                    \n",
       "                                                                              \n",
       "                  2        3⎞                                                 \n",
       "a + 3⋅\\alpha⋅\\beta  + \\beta ⎠⋅h[2]⋅h[3]⋅h[4]                                  \n",
       "────────────────────────────────────────────                                  \n",
       "         6                                                                    \n",
       "                                                                              \n",
       "2      2                 3        4⎞                                          \n",
       " ⋅\\beta  + 4⋅\\alpha⋅\\beta  + \\beta ⎠⋅h[2]⋅h[3]⋅h[4]⋅h[5]                      \n",
       "────────────────────────────────────────────────────────                      \n",
       "         24                                                                   \n",
       "                                                                              \n",
       "        2      3                 4        5⎞                                  \n",
       "0⋅\\alpha ⋅\\beta  + 5⋅\\alpha⋅\\beta  + \\beta ⎠⋅h[2]⋅h[3]⋅h[4]⋅h[5]⋅h[6]         \n",
       "─────────────────────────────────────────────────────────────────────         \n",
       "        120                                                                   \n",
       "                                                                              \n",
       "   3            2      4                 5        6⎞                          \n",
       "eta  + 15⋅\\alpha ⋅\\beta  + 6⋅\\alpha⋅\\beta  + \\beta ⎠⋅h[2]⋅h[3]⋅h[4]⋅h[5]⋅h[6]⋅\n",
       "──────────────────────────────────────────────────────────────────────────────\n",
       "        720                                                                   \n",
       "\n",
       "                                                                 0            \n",
       "                                                                              \n",
       "                                                                 0            \n",
       "                                                                              \n",
       "                                                                              \n",
       "                                                                              \n",
       "                                                                 1            \n",
       "                                                                              \n",
       "                                                                              \n",
       "                                                                              \n",
       "                                                                              \n",
       "                                                       (\\alpha + \\beta)⋅h[3]  \n",
       "                                                                              \n",
       "                                                                              \n",
       "                                           ⎛      2                         2⎞\n",
       "                                           ⎝\\alpha  + 2⋅\\alpha⋅\\beta + \\beta ⎠\n",
       "                                           ───────────────────────────────────\n",
       "                                                                 2            \n",
       "                                                                              \n",
       "                               ⎛      3           2                       2   \n",
       "                               ⎝\\alpha  + 3⋅\\alpha ⋅\\beta + 3⋅\\alpha⋅\\beta  + \n",
       "                               ───────────────────────────────────────────────\n",
       "                                                                 6            \n",
       "                                                                              \n",
       "                   ⎛      4           3                 2      2              \n",
       "                   ⎝\\alpha  + 4⋅\\alpha ⋅\\beta + 6⋅\\alpha ⋅\\beta  + 4⋅\\alpha⋅\\b\n",
       "                   ───────────────────────────────────────────────────────────\n",
       "                                                                 24           \n",
       "                                                                              \n",
       "      ⎛      5           4                  3      2            2      3      \n",
       "h[7]  ⎝\\alpha  + 5⋅\\alpha ⋅\\beta + 10⋅\\alpha ⋅\\beta  + 10⋅\\alpha ⋅\\beta  + 5⋅\\\n",
       "────  ────────────────────────────────────────────────────────────────────────\n",
       "                                                                120           \n",
       "\n",
       "                                                                              \n",
       "                                                                              \n",
       "                                                                              \n",
       "                                                                              \n",
       "                                                                              \n",
       "                                                                              \n",
       "                                                                              \n",
       "                                                                              \n",
       "                                                                              \n",
       "                                                                              \n",
       "                                                                              \n",
       "                                                                              \n",
       "                                                                              \n",
       "                                                                              \n",
       "                                                                              \n",
       "⋅h[3]⋅h[4]                                                                    \n",
       "──────────                                                                    \n",
       "                                                                              \n",
       "                                                                              \n",
       "     3⎞                                                                  ⎛    \n",
       "\\beta ⎠⋅h[3]⋅h[4]⋅h[5]                                                   ⎝\\alp\n",
       "──────────────────────                                                   ─────\n",
       "                                                                              \n",
       "                                                                              \n",
       "   3        4⎞                                               ⎛      3         \n",
       "eta  + \\beta ⎠⋅h[3]⋅h[4]⋅h[5]⋅h[6]                           ⎝\\alpha  + 3⋅\\alp\n",
       "──────────────────────────────────                           ─────────────────\n",
       "                                                                              \n",
       "                                                                              \n",
       "           4        5⎞                           ⎛      4           3         \n",
       "alpha⋅\\beta  + \\beta ⎠⋅h[3]⋅h[4]⋅h[5]⋅h[6]⋅h[7]  ⎝\\alpha  + 4⋅\\alpha ⋅\\beta + \n",
       "───────────────────────────────────────────────  ─────────────────────────────\n",
       "                                                                              \n",
       "\n",
       "                 0                                                            \n",
       "                                                                              \n",
       "                 0                                                            \n",
       "                                                                              \n",
       "                                                                              \n",
       "                                                                              \n",
       "                 0                                                            \n",
       "                                                                              \n",
       "                                                                              \n",
       "                                                                              \n",
       "                                                                              \n",
       "                 1                                                            \n",
       "                                                                              \n",
       "                                                                              \n",
       "                                                                              \n",
       "                                                                              \n",
       "       (\\alpha + \\beta)⋅h[4]                                                  \n",
       "                                                                              \n",
       "                                                                              \n",
       "  2                         2⎞                                                \n",
       "ha  + 2⋅\\alpha⋅\\beta + \\beta ⎠⋅h[4]⋅h[5]                                      \n",
       "────────────────────────────────────────                                      \n",
       "                 2                                                            \n",
       "                                                                              \n",
       "  2                       2        3⎞                                         \n",
       "ha ⋅\\beta + 3⋅\\alpha⋅\\beta  + \\beta ⎠⋅h[4]⋅h[5]⋅h[6]                          \n",
       "────────────────────────────────────────────────────                          \n",
       "                 6                                                            \n",
       "                                                                              \n",
       "        2      2                 3        4⎞                      ⎛      3    \n",
       "6⋅\\alpha ⋅\\beta  + 4⋅\\alpha⋅\\beta  + \\beta ⎠⋅h[4]⋅h[5]⋅h[6]⋅h[7]  ⎝\\alpha  + 3\n",
       "────────────────────────────────────────────────────────────────  ────────────\n",
       "                 24                                                           \n",
       "\n",
       "                      0                                                       \n",
       "                                                                              \n",
       "                      0                                                       \n",
       "                                                                              \n",
       "                                                                              \n",
       "                                                                              \n",
       "                      0                                                       \n",
       "                                                                              \n",
       "                                                                              \n",
       "                                                                              \n",
       "                                                                              \n",
       "                      0                                                       \n",
       "                                                                              \n",
       "                                                                              \n",
       "                                                                              \n",
       "                                                                              \n",
       "                      1                                                       \n",
       "                                                                              \n",
       "                                                                              \n",
       "                                                                              \n",
       "                                                                              \n",
       "            (\\alpha + \\beta)⋅h[5]                                             \n",
       "                                                                              \n",
       "                                                                              \n",
       "⎛      2                         2⎞                                           \n",
       "⎝\\alpha  + 2⋅\\alpha⋅\\beta + \\beta ⎠⋅h[5]⋅h[6]                                 \n",
       "─────────────────────────────────────────────                          (\\alpha\n",
       "                      2                                                       \n",
       "                                                                              \n",
       "       2                       2        3⎞                 ⎛      2           \n",
       "⋅\\alpha ⋅\\beta + 3⋅\\alpha⋅\\beta  + \\beta ⎠⋅h[5]⋅h[6]⋅h[7]  ⎝\\alpha  + 2⋅\\alpha\n",
       "─────────────────────────────────────────────────────────  ───────────────────\n",
       "                      6                                                       \n",
       "\n",
       "   0                                  0            0⎤\n",
       "                                                    ⎥\n",
       "   0                                  0            0⎥\n",
       "                                                    ⎥\n",
       "                                                    ⎥\n",
       "                                                    ⎥\n",
       "   0                                  0            0⎥\n",
       "                                                    ⎥\n",
       "                                                    ⎥\n",
       "                                                    ⎥\n",
       "                                                    ⎥\n",
       "   0                                  0            0⎥\n",
       "                                                    ⎥\n",
       "                                                    ⎥\n",
       "                                                    ⎥\n",
       "                                                    ⎥\n",
       "   0                                  0            0⎥\n",
       "                                                    ⎥\n",
       "                                                    ⎥\n",
       "                                                    ⎥\n",
       "                                                    ⎥\n",
       "   1                                  0            0⎥\n",
       "                                                    ⎥\n",
       "                                                    ⎥\n",
       "                                                    ⎥\n",
       "                                                    ⎥\n",
       " + \\beta)⋅h[6]                        1            0⎥\n",
       "                                                    ⎥\n",
       "                                                    ⎥\n",
       "              2⎞                                    ⎥\n",
       "⋅\\beta + \\beta ⎠⋅h[6]⋅h[7]                          ⎥\n",
       "──────────────────────────  (\\alpha + \\beta)⋅h[7]  1⎥\n",
       "   2                                                ⎦"
      ]
     },
     "execution_count": 65,
     "metadata": {},
     "output_type": "execute_result"
    }
   ],
   "source": [
    "with lift_to_matrix_function(g_expt) as g_expt:\n",
    "    H_expt = g_expt(H)\n",
    "H_expt"
   ]
  },
  {
   "cell_type": "code",
   "execution_count": 66,
   "metadata": {
    "collapsed": false,
    "deletable": true,
    "editable": true
   },
   "outputs": [
    {
     "data": {
      "image/png": "[encoded data removed]",
      "text/latex": [
       "$$\\left \\{ h_{1} : \\frac{1}{\\alpha + \\beta}, \\quad h_{2} : \\frac{2}{\\alpha + \\beta}, \\quad h_{3} : \\frac{3}{\\alpha + \\beta}, \\quad h_{4} : \\frac{4}{\\alpha + \\beta}, \\quad h_{5} : \\frac{5}{\\alpha + \\beta}, \\quad h_{6} : \\frac{6}{\\alpha + \\beta}, \\quad h_{7} : \\frac{7}{\\alpha + \\beta}\\right \\}$$"
      ],
      "text/plain": [
       "⎧            1                     2                     3                    \n",
       "⎨h[1]: ──────────────, h[2]: ──────────────, h[3]: ──────────────, h[4]: ─────\n",
       "⎩      \\alpha + \\beta        \\alpha + \\beta        \\alpha + \\beta        \\alph\n",
       "\n",
       " 4                     5                     6                     7       ⎫\n",
       "─────────, h[5]: ──────────────, h[6]: ──────────────, h[7]: ──────────────⎬\n",
       "a + \\beta        \\alpha + \\beta        \\alpha + \\beta        \\alpha + \\beta⎭"
      ]
     },
     "execution_count": 66,
     "metadata": {},
     "output_type": "execute_result"
    }
   ],
   "source": [
    "constraints = [Eq(H_expt[n,k],P[n,k]) for n in range(m) for k in range(n)]\n",
    "sol, *rest = solve(constraints,  [h[i] for i in range(1,m)], dict=True)\n",
    "sol"
   ]
  },
  {
   "cell_type": "code",
   "execution_count": 68,
   "metadata": {
    "collapsed": false,
    "deletable": true,
    "editable": true
   },
   "outputs": [
    {
     "data": {
      "image/png": "[encoded data removed]",
      "text/latex": [
       "$$\\left[\\begin{matrix}1 & 0 & 0 & 0 & 0 & 0 & 0 & 0\\\\1 & 1 & 0 & 0 & 0 & 0 & 0 & 0\\\\1 & 2 & 1 & 0 & 0 & 0 & 0 & 0\\\\1 & 3 & 3 & 1 & 0 & 0 & 0 & 0\\\\1 & 4 & 6 & 4 & 1 & 0 & 0 & 0\\\\1 & 5 & 10 & 10 & 5 & 1 & 0 & 0\\\\1 & 6 & 15 & 20 & 15 & 6 & 1 & 0\\\\1 & 7 & 21 & 35 & 35 & 21 & 7 & 1\\end{matrix}\\right]$$"
      ],
      "text/plain": [
       "⎡1  0  0   0   0   0   0  0⎤\n",
       "⎢                          ⎥\n",
       "⎢1  1  0   0   0   0   0  0⎥\n",
       "⎢                          ⎥\n",
       "⎢1  2  1   0   0   0   0  0⎥\n",
       "⎢                          ⎥\n",
       "⎢1  3  3   1   0   0   0  0⎥\n",
       "⎢                          ⎥\n",
       "⎢1  4  6   4   1   0   0  0⎥\n",
       "⎢                          ⎥\n",
       "⎢1  5  10  10  5   1   0  0⎥\n",
       "⎢                          ⎥\n",
       "⎢1  6  15  20  15  6   1  0⎥\n",
       "⎢                          ⎥\n",
       "⎣1  7  21  35  35  21  7  1⎦"
      ]
     },
     "execution_count": 68,
     "metadata": {},
     "output_type": "execute_result"
    }
   ],
   "source": [
    "H_expt.subs(sol).applyfunc(simplify)"
   ]
  },
  {
   "cell_type": "code",
   "execution_count": 24,
   "metadata": {
    "collapsed": false,
    "deletable": true,
    "editable": true
   },
   "outputs": [
    {
     "data": {
      "image/png": "[encoded data removed]",
      "text/latex": [
       "$$\\left \\{ 0 : 1, \\quad 1 : 1, \\quad 2 : 2, \\quad 3 : 6, \\quad 4 : 24, \\quad 5 : 120, \\quad 6 : 720, \\quad 7 : 5040, \\quad 8 : 40320, \\quad 9 : 362880, \\quad 10 : 3628800\\right \\}$$"
      ],
      "text/plain": [
       "{0: 1, 1: 1, 2: 2, 3: 6, 4: 24, 5: 120, 6: 720, 7: 5040, 8: 40320, 9: 362880, \n",
       "10: 3628800}"
      ]
     },
     "execution_count": 24,
     "metadata": {},
     "output_type": "execute_result"
    }
   ],
   "source": [
    "{i:factorial(i, ) for i in range(11)}"
   ]
  },
  {
   "cell_type": "markdown",
   "metadata": {
    "deletable": true,
    "editable": true
   },
   "source": [
    "## `log` function"
   ]
  },
  {
   "cell_type": "code",
   "execution_count": 46,
   "metadata": {
    "collapsed": false,
    "deletable": true,
    "editable": true
   },
   "outputs": [
    {
     "data": {
      "image/png": "[encoded data removed]",
      "text/latex": [
       "$$f{\\left (z \\right )} = \\log{\\left (z \\right )}$$"
      ],
      "text/plain": [
       "f(z) = log(z)"
      ]
     },
     "execution_count": 46,
     "metadata": {},
     "output_type": "execute_result"
    }
   ],
   "source": [
    "f = Function('f')\n",
    "f_log = define(let=f(z), be=log(z))\n",
    "f_log"
   ]
  },
  {
   "cell_type": "code",
   "execution_count": 47,
   "metadata": {
    "collapsed": false,
    "deletable": true,
    "editable": true
   },
   "outputs": [
    {
     "data": {
      "image/png": "[encoded data removed]",
      "text/latex": [
       "$$g{\\left (z \\right )} = \\frac{z^{7}}{7 \\lambda_{1}^{7}} + z^{6} \\left(- \\frac{1}{6 \\lambda_{1}^{6}} - \\frac{1}{\\lambda_{1}^{7}}\\right) + z^{5} \\left(\\frac{1}{5 \\lambda_{1}^{5}} + \\frac{1}{\\lambda_{1}^{6}} + \\frac{3}{\\lambda_{1}^{7}}\\right) + z^{4} \\left(- \\frac{1}{4 \\lambda_{1}^{4}} - \\frac{1}{\\lambda_{1}^{5}} - \\frac{5}{2 \\lambda_{1}^{6}} - \\frac{5}{\\lambda_{1}^{7}}\\right) + z^{3} \\left(\\frac{1}{3 \\lambda_{1}^{3}} + \\frac{1}{\\lambda_{1}^{4}} + \\frac{2}{\\lambda_{1}^{5}} + \\frac{10}{3 \\lambda_{1}^{6}} + \\frac{5}{\\lambda_{1}^{7}}\\right) + z^{2} \\left(- \\frac{1}{2 \\lambda_{1}^{2}} - \\frac{1}{\\lambda_{1}^{3}} - \\frac{3}{2 \\lambda_{1}^{4}} - \\frac{2}{\\lambda_{1}^{5}} - \\frac{5}{2 \\lambda_{1}^{6}} - \\frac{3}{\\lambda_{1}^{7}}\\right) + z \\left(\\frac{1}{\\lambda_{1}} + \\frac{1}{\\lambda_{1}^{2}} + \\frac{1}{\\lambda_{1}^{3}} + \\frac{1}{\\lambda_{1}^{4}} + \\frac{1}{\\lambda_{1}^{5}} + \\frac{1}{\\lambda_{1}^{6}} + \\frac{1}{\\lambda_{1}^{7}}\\right) + \\log{\\left (\\lambda_{1} \\right )} - \\frac{1}{\\lambda_{1}} - \\frac{1}{2 \\lambda_{1}^{2}} - \\frac{1}{3 \\lambda_{1}^{3}} - \\frac{1}{4 \\lambda_{1}^{4}} - \\frac{1}{5 \\lambda_{1}^{5}} - \\frac{1}{6 \\lambda_{1}^{6}} - \\frac{1}{7 \\lambda_{1}^{7}}$$"
      ],
      "text/plain": [
       "              7                                                               \n",
       "             z          6 ⎛        1              1     ⎞    5 ⎛      1       \n",
       "g(z) = ───────────── + z ⋅⎜- ───────────── - ───────────⎟ + z ⋅⎜───────────── \n",
       "                   7      ⎜              6             7⎟      ⎜            5 \n",
       "       7⋅\\lambda[1]       ⎝  6⋅\\lambda[1]    \\lambda[1] ⎠      ⎝5⋅\\lambda[1]  \n",
       "\n",
       "                                                                              \n",
       "       1             3     ⎞    4 ⎛        1              1              5    \n",
       "+ ─────────── + ───────────⎟ + z ⋅⎜- ───────────── - ─────────── - ───────────\n",
       "            6             7⎟      ⎜              4             5              \n",
       "  \\lambda[1]    \\lambda[1] ⎠      ⎝  4⋅\\lambda[1]    \\lambda[1]    2⋅\\lambda[1\n",
       "\n",
       "                                                                              \n",
       "          5     ⎞    3 ⎛      1              1             2              10  \n",
       "── - ───────────⎟ + z ⋅⎜───────────── + ─────────── + ─────────── + ──────────\n",
       " 6             7⎟      ⎜            3             4             5             \n",
       "]    \\lambda[1] ⎠      ⎝3⋅\\lambda[1]    \\lambda[1]    \\lambda[1]    3⋅\\lambda[\n",
       "\n",
       "                                                                              \n",
       "           5     ⎞    2 ⎛        1              1              3              \n",
       "─── + ───────────⎟ + z ⋅⎜- ───────────── - ─────────── - ───────────── - ─────\n",
       "  6             7⎟      ⎜              2             3               4        \n",
       "1]    \\lambda[1] ⎠      ⎝  2⋅\\lambda[1]    \\lambda[1]    2⋅\\lambda[1]    \\lamb\n",
       "\n",
       "                                                                              \n",
       "2              5              3     ⎞     ⎛    1             1             1  \n",
       "────── - ───────────── - ───────────⎟ + z⋅⎜────────── + ─────────── + ────────\n",
       "     5               6             7⎟     ⎜\\lambda[1]             2           \n",
       "da[1]    2⋅\\lambda[1]    \\lambda[1] ⎠     ⎝             \\lambda[1]    \\lambda[\n",
       "\n",
       "                                                                              \n",
       "           1             1             1             1     ⎞                  \n",
       "─── + ─────────── + ─────────── + ─────────── + ───────────⎟ + log(\\lambda[1])\n",
       "  3             4             5             6             7⎟                  \n",
       "1]    \\lambda[1]    \\lambda[1]    \\lambda[1]    \\lambda[1] ⎠                  \n",
       "\n",
       "                                                                              \n",
       "       1              1               1               1               1       \n",
       " - ────────── - ───────────── - ───────────── - ───────────── - ───────────── \n",
       "   \\lambda[1]               2               3               4               5 \n",
       "                2⋅\\lambda[1]    3⋅\\lambda[1]    4⋅\\lambda[1]    5⋅\\lambda[1]  \n",
       "\n",
       "                               \n",
       "        1               1      \n",
       "- ───────────── - ─────────────\n",
       "              6               7\n",
       "  6⋅\\lambda[1]    7⋅\\lambda[1] "
      ]
     },
     "execution_count": 47,
     "metadata": {},
     "output_type": "execute_result"
    }
   ],
   "source": [
    "g_log = g_poly(f_log, eigendata, Phi_polynomials)\n",
    "g_log"
   ]
  },
  {
   "cell_type": "code",
   "execution_count": 48,
   "metadata": {
    "collapsed": false,
    "deletable": true,
    "editable": true
   },
   "outputs": [
    {
     "data": {
      "image/png": "[encoded data removed]",
      "text/latex": [
       "$$g{\\left (z \\right )} = \\frac{z^{7}}{7} - \\frac{7 z^{6}}{6} + \\frac{21 z^{5}}{5} - \\frac{35 z^{4}}{4} + \\frac{35 z^{3}}{3} - \\frac{21 z^{2}}{2} + 7 z - \\frac{363}{140}$$"
      ],
      "text/plain": [
       "        7      6       5       4       3       2            \n",
       "       z    7⋅z    21⋅z    35⋅z    35⋅z    21⋅z          363\n",
       "g(z) = ── - ──── + ───── - ───── + ───── - ───── + 7⋅z - ───\n",
       "       7     6       5       4       3       2           140"
      ]
     },
     "execution_count": 48,
     "metadata": {},
     "output_type": "execute_result"
    }
   ],
   "source": [
    "g_log = g_log.subs(eigenvals)\n",
    "g_log"
   ]
  },
  {
   "cell_type": "code",
   "execution_count": 49,
   "metadata": {
    "collapsed": false,
    "deletable": true,
    "editable": true
   },
   "outputs": [
    {
     "data": {
      "image/png": "[encoded data removed]",
      "text/latex": [
       "$$\\left[\\begin{matrix}0 & 0 & 0 & 0 & 0 & 0 & 0 & 0\\\\1 & 0 & 0 & 0 & 0 & 0 & 0 & 0\\\\0 & 2 & 0 & 0 & 0 & 0 & 0 & 0\\\\0 & 0 & 3 & 0 & 0 & 0 & 0 & 0\\\\0 & 0 & 0 & 4 & 0 & 0 & 0 & 0\\\\0 & 0 & 0 & 0 & 5 & 0 & 0 & 0\\\\0 & 0 & 0 & 0 & 0 & 6 & 0 & 0\\\\0 & 0 & 0 & 0 & 0 & 0 & 7 & 0\\end{matrix}\\right]$$"
      ],
      "text/plain": [
       "⎡0  0  0  0  0  0  0  0⎤\n",
       "⎢                      ⎥\n",
       "⎢1  0  0  0  0  0  0  0⎥\n",
       "⎢                      ⎥\n",
       "⎢0  2  0  0  0  0  0  0⎥\n",
       "⎢                      ⎥\n",
       "⎢0  0  3  0  0  0  0  0⎥\n",
       "⎢                      ⎥\n",
       "⎢0  0  0  4  0  0  0  0⎥\n",
       "⎢                      ⎥\n",
       "⎢0  0  0  0  5  0  0  0⎥\n",
       "⎢                      ⎥\n",
       "⎢0  0  0  0  0  6  0  0⎥\n",
       "⎢                      ⎥\n",
       "⎣0  0  0  0  0  0  7  0⎦"
      ]
     },
     "execution_count": 49,
     "metadata": {},
     "output_type": "execute_result"
    }
   ],
   "source": [
    "with lift_to_matrix_function(g_log) as g_log:\n",
    "    P_log = g_log(P)\n",
    "P_log"
   ]
  },
  {
   "cell_type": "code",
   "execution_count": 51,
   "metadata": {
    "collapsed": false
   },
   "outputs": [
    {
     "data": {
      "image/png": "[encoded data removed]",
      "text/latex": [
       "$$\\left[\\begin{matrix}2 & 0 & 0 & 0 & 0 & 0 & 0 & 0\\\\\\frac{3}{2} & 0 & 0 & 0 & 0 & 0 & 0 & 0\\\\\\frac{4}{3} & 0 & 0 & 0 & 0 & 0 & 0 & 0\\\\\\frac{5}{4} & 0 & 0 & 0 & 0 & 0 & 0 & 0\\\\\\frac{6}{5} & 0 & 0 & 0 & 0 & 0 & 0 & 0\\\\\\frac{7}{6} & 0 & 0 & 0 & 0 & 0 & 0 & 0\\end{matrix}\\right]$$"
      ],
      "text/plain": [
       "⎡ 2   0  0  0  0  0  0  0⎤\n",
       "⎢                        ⎥\n",
       "⎢3/2  0  0  0  0  0  0  0⎥\n",
       "⎢                        ⎥\n",
       "⎢4/3  0  0  0  0  0  0  0⎥\n",
       "⎢                        ⎥\n",
       "⎢5/4  0  0  0  0  0  0  0⎥\n",
       "⎢                        ⎥\n",
       "⎢6/5  0  0  0  0  0  0  0⎥\n",
       "⎢                        ⎥\n",
       "⎣7/6  0  0  0  0  0  0  0⎦"
      ]
     },
     "execution_count": 51,
     "metadata": {},
     "output_type": "execute_result"
    }
   ],
   "source": [
    "Asequence(P_log[1:,:])"
   ]
  },
  {
   "cell_type": "markdown",
   "metadata": {
    "deletable": true,
    "editable": true
   },
   "source": [
    "---\n",
    "<a rel=\"license\" href=\"http://creativecommons.org/licenses/by-nc-sa/4.0/\"><img alt=\"Creative Commons License\" style=\"border-width:0\" src=\"https://i.creativecommons.org/l/by-nc-sa/4.0/88x31.png\" /></a><br />This work is licensed under a <a rel=\"license\" href=\"http://creativecommons.org/licenses/by-nc-sa/4.0/\">Creative Commons Attribution-NonCommercial-ShareAlike 4.0 International License</a>."
   ]
  }
 ],
 "metadata": {
  "kernelspec": {
   "display_name": "Python 3",
   "language": "python",
   "name": "python3"
  },
  "language_info": {
   "codemirror_mode": {
    "name": "ipython",
    "version": 3
   },
   "file_extension": ".py",
   "mimetype": "text/x-python",
   "name": "python",
   "nbconvert_exporter": "python",
   "pygments_lexer": "ipython3",
   "version": "3.6.0"
  }
 },
 "nbformat": 4,
 "nbformat_minor": 1
}
