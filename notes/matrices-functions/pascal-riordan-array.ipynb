{
 "cells": [
  {
   "cell_type": "markdown",
   "metadata": {
    "deletable": true,
    "editable": true
   },
   "source": [
    "<p>\n",
    "<img src=\"http://www.cerm.unifi.it/chianti/images/logo%20unifi_positivo.jpg\" \n",
    "        alt=\"UniFI logo\" style=\"float: left; width: 20%; height: 20%;\">\n",
    "<div align=\"right\">\n",
    "Massimo Nocentini<br>\n",
    "<small>\n",
    "<br>November 18, 2016: `log` $g$ poly\n",
    "<br>November 16, 2016: `expt` $g$ poly and $H$ matrix\n",
    "<br>November 9, 2016: splitting from \"big\" notebook\n",
    "</small>\n",
    "</div>\n",
    "</p>\n",
    "<br>\n",
    "<br>\n",
    "<div align=\"center\">\n",
    "<b>Abstract</b><br>\n",
    "Theory of matrix functions, with applications to Pascal array $\\mathcal{P}$.\n",
    "</div>"
   ]
  },
  {
   "cell_type": "code",
   "execution_count": 91,
   "metadata": {
    "collapsed": true,
    "deletable": true,
    "editable": true
   },
   "outputs": [],
   "source": [
    "from sympy import *\n",
    "from sympy.abc import n, i, N, x, lamda, phi, z, j, r, k, a, alpha, beta\n",
    "\n",
    "init_printing()"
   ]
  },
  {
   "cell_type": "code",
   "execution_count": 92,
   "metadata": {
    "collapsed": false,
    "deletable": true,
    "editable": true
   },
   "outputs": [],
   "source": [
    "%run ../../src/matrix_functions.py\n",
    "%run ../../src/commons.py\n",
    "%run ../../src/sequences.py"
   ]
  },
  {
   "cell_type": "markdown",
   "metadata": {
    "deletable": true,
    "editable": true
   },
   "source": [
    "# Pascal array $\\mathcal{P}$"
   ]
  },
  {
   "cell_type": "code",
   "execution_count": 3,
   "metadata": {
    "collapsed": true,
    "deletable": true,
    "editable": true
   },
   "outputs": [],
   "source": [
    "m=8"
   ]
  },
  {
   "cell_type": "code",
   "execution_count": 4,
   "metadata": {
    "collapsed": false,
    "deletable": true,
    "editable": true
   },
   "outputs": [
    {
     "data": {
      "image/png": "[encoded data removed]",
      "text/latex": [
       "$$\\left[\\begin{matrix}1 & 0 & 0 & 0 & 0 & 0 & 0 & 0\\\\1 & 1 & 0 & 0 & 0 & 0 & 0 & 0\\\\1 & {\\binom{2}{1}} & 1 & 0 & 0 & 0 & 0 & 0\\\\1 & {\\binom{3}{1}} & {\\binom{3}{2}} & 1 & 0 & 0 & 0 & 0\\\\1 & {\\binom{4}{1}} & {\\binom{4}{2}} & {\\binom{4}{3}} & 1 & 0 & 0 & 0\\\\1 & {\\binom{5}{1}} & {\\binom{5}{2}} & {\\binom{5}{3}} & {\\binom{5}{4}} & 1 & 0 & 0\\\\1 & {\\binom{6}{1}} & {\\binom{6}{2}} & {\\binom{6}{3}} & {\\binom{6}{4}} & {\\binom{6}{5}} & 1 & 0\\\\1 & {\\binom{7}{1}} & {\\binom{7}{2}} & {\\binom{7}{3}} & {\\binom{7}{4}} & {\\binom{7}{5}} & {\\binom{7}{6}} & 1\\end{matrix}\\right]$$"
      ],
      "text/plain": [
       "⎡1   0    0    0    0    0    0   0⎤\n",
       "⎢                                  ⎥\n",
       "⎢1   1    0    0    0    0    0   0⎥\n",
       "⎢                                  ⎥\n",
       "⎢   ⎛2⎞                            ⎥\n",
       "⎢1  ⎜ ⎟   1    0    0    0    0   0⎥\n",
       "⎢   ⎝1⎠                            ⎥\n",
       "⎢                                  ⎥\n",
       "⎢   ⎛3⎞  ⎛3⎞                       ⎥\n",
       "⎢1  ⎜ ⎟  ⎜ ⎟   1    0    0    0   0⎥\n",
       "⎢   ⎝1⎠  ⎝2⎠                       ⎥\n",
       "⎢                                  ⎥\n",
       "⎢   ⎛4⎞  ⎛4⎞  ⎛4⎞                  ⎥\n",
       "⎢1  ⎜ ⎟  ⎜ ⎟  ⎜ ⎟   1    0    0   0⎥\n",
       "⎢   ⎝1⎠  ⎝2⎠  ⎝3⎠                  ⎥\n",
       "⎢                                  ⎥\n",
       "⎢   ⎛5⎞  ⎛5⎞  ⎛5⎞  ⎛5⎞             ⎥\n",
       "⎢1  ⎜ ⎟  ⎜ ⎟  ⎜ ⎟  ⎜ ⎟   1    0   0⎥\n",
       "⎢   ⎝1⎠  ⎝2⎠  ⎝3⎠  ⎝4⎠             ⎥\n",
       "⎢                                  ⎥\n",
       "⎢   ⎛6⎞  ⎛6⎞  ⎛6⎞  ⎛6⎞  ⎛6⎞        ⎥\n",
       "⎢1  ⎜ ⎟  ⎜ ⎟  ⎜ ⎟  ⎜ ⎟  ⎜ ⎟   1   0⎥\n",
       "⎢   ⎝1⎠  ⎝2⎠  ⎝3⎠  ⎝4⎠  ⎝5⎠        ⎥\n",
       "⎢                                  ⎥\n",
       "⎢   ⎛7⎞  ⎛7⎞  ⎛7⎞  ⎛7⎞  ⎛7⎞  ⎛7⎞   ⎥\n",
       "⎢1  ⎜ ⎟  ⎜ ⎟  ⎜ ⎟  ⎜ ⎟  ⎜ ⎟  ⎜ ⎟  1⎥\n",
       "⎣   ⎝1⎠  ⎝2⎠  ⎝3⎠  ⎝4⎠  ⎝5⎠  ⎝6⎠   ⎦"
      ]
     },
     "execution_count": 4,
     "metadata": {},
     "output_type": "execute_result"
    }
   ],
   "source": [
    "P_ = Matrix(m,m, lambda n,k: binomial(n, k, evaluate=k >= n or not k))\n",
    "P_"
   ]
  },
  {
   "cell_type": "code",
   "execution_count": 5,
   "metadata": {
    "collapsed": false,
    "deletable": true,
    "editable": true
   },
   "outputs": [
    {
     "data": {
      "image/png": "[encoded data removed]",
      "text/latex": [
       "$$\\mathcal{P}_{ 8 } = \\left[\\begin{matrix}1 & 0 & 0 & 0 & 0 & 0 & 0 & 0\\\\1 & 1 & 0 & 0 & 0 & 0 & 0 & 0\\\\1 & 2 & 1 & 0 & 0 & 0 & 0 & 0\\\\1 & 3 & 3 & 1 & 0 & 0 & 0 & 0\\\\1 & 4 & 6 & 4 & 1 & 0 & 0 & 0\\\\1 & 5 & 10 & 10 & 5 & 1 & 0 & 0\\\\1 & 6 & 15 & 20 & 15 & 6 & 1 & 0\\\\1 & 7 & 21 & 35 & 35 & 21 & 7 & 1\\end{matrix}\\right]$$"
      ],
      "text/plain": [
       "                    ⎡1  0  0   0   0   0   0  0⎤\n",
       "                    ⎢                          ⎥\n",
       "                    ⎢1  1  0   0   0   0   0  0⎥\n",
       "                    ⎢                          ⎥\n",
       "                    ⎢1  2  1   0   0   0   0  0⎥\n",
       "                    ⎢                          ⎥\n",
       "                    ⎢1  3  3   1   0   0   0  0⎥\n",
       "\\mathcal{P}_{ 8 } = ⎢                          ⎥\n",
       "                    ⎢1  4  6   4   1   0   0  0⎥\n",
       "                    ⎢                          ⎥\n",
       "                    ⎢1  5  10  10  5   1   0  0⎥\n",
       "                    ⎢                          ⎥\n",
       "                    ⎢1  6  15  20  15  6   1  0⎥\n",
       "                    ⎢                          ⎥\n",
       "                    ⎣1  7  21  35  35  21  7  1⎦"
      ]
     },
     "execution_count": 5,
     "metadata": {},
     "output_type": "execute_result"
    }
   ],
   "source": [
    "P =  Eq(Symbol(r'\\mathcal{{P}}_{{ {} }}'.format(m)), Matrix(m,m,binomial), evaluate=False)\n",
    "P"
   ]
  },
  {
   "cell_type": "code",
   "execution_count": 6,
   "metadata": {
    "collapsed": false,
    "deletable": true,
    "editable": true
   },
   "outputs": [
    {
     "data": {
      "image/png": "[encoded data removed]",
      "text/latex": [
       "$$\\sigma{\\left (\\mathcal{P}_{ 8 } \\right )} = \\left ( \\left \\{ 1 : \\left ( \\lambda_{1}, \\quad m_{1}\\right )\\right \\}, \\quad \\left \\{ \\lambda_{1} : 1\\right \\}, \\quad \\left \\{ m_{1} : 8\\right \\}\\right )$$"
      ],
      "text/plain": [
       "\\sigma(\\mathcal{P}_{ 8 }) = ({1: (\\lambda[1], m[1])}, {\\lambda[1]: 1}, {m[1]: \n",
       "8})"
      ]
     },
     "execution_count": 6,
     "metadata": {},
     "output_type": "execute_result"
    }
   ],
   "source": [
    "eigendata = spectrum(P)\n",
    "eigendata"
   ]
  },
  {
   "cell_type": "code",
   "execution_count": 7,
   "metadata": {
    "collapsed": false
   },
   "outputs": [],
   "source": [
    "data, eigenvals, multiplicities = eigendata.rhs"
   ]
  },
  {
   "cell_type": "code",
   "execution_count": 8,
   "metadata": {
    "collapsed": false,
    "deletable": true,
    "editable": true
   },
   "outputs": [
    {
     "data": {
      "image/png": "[encoded data removed]",
      "text/latex": [
       "$$\\Phi{\\left (z,i,j \\right )} = z^{7} \\phi_{i,j,0} + z^{6} \\phi_{i,j,1} + z^{5} \\phi_{i,j,2} + z^{4} \\phi_{i,j,3} + z^{3} \\phi_{i,j,4} + z^{2} \\phi_{i,j,5} + z \\phi_{i,j,6} + \\phi_{i,j,7}$$"
      ],
      "text/plain": [
       "                 7                  6                  5                  4   \n",
       "\\Phi(z, i, j) = z ⋅\\phi[i, j, 0] + z ⋅\\phi[i, j, 1] + z ⋅\\phi[i, j, 2] + z ⋅\\p\n",
       "\n",
       "               3                  2                                           \n",
       "hi[i, j, 3] + z ⋅\\phi[i, j, 4] + z ⋅\\phi[i, j, 5] + z⋅\\phi[i, j, 6] + \\phi[i, \n",
       "\n",
       "     \n",
       "j, 7]"
      ]
     },
     "execution_count": 8,
     "metadata": {},
     "output_type": "execute_result"
    }
   ],
   "source": [
    "Phi_poly = Phi_poly_ctor(deg=m-1)\n",
    "Phi_poly"
   ]
  },
  {
   "cell_type": "code",
   "execution_count": 9,
   "metadata": {
    "collapsed": false,
    "deletable": true,
    "editable": true
   },
   "outputs": [
    {
     "data": {
      "image/png": "[encoded data removed]",
      "text/latex": [
       "$$\\left \\{ \\left ( 1, \\quad 1\\right ) : \\Phi_{ 1, 1 }{\\left (z \\right )} = 1, \\quad \\left ( 1, \\quad 2\\right ) : \\Phi_{ 1, 2 }{\\left (z \\right )} = z - 1, \\quad \\left ( 1, \\quad 3\\right ) : \\Phi_{ 1, 3 }{\\left (z \\right )} = \\frac{z^{2}}{2} - z + \\frac{1}{2}, \\quad \\left ( 1, \\quad 4\\right ) : \\Phi_{ 1, 4 }{\\left (z \\right )} = \\frac{z^{3}}{6} - \\frac{z^{2}}{2} + \\frac{z}{2} - \\frac{1}{6}, \\quad \\left ( 1, \\quad 5\\right ) : \\Phi_{ 1, 5 }{\\left (z \\right )} = \\frac{z^{4}}{24} - \\frac{z^{3}}{6} + \\frac{z^{2}}{4} - \\frac{z}{6} + \\frac{1}{24}, \\quad \\left ( 1, \\quad 6\\right ) : \\Phi_{ 1, 6 }{\\left (z \\right )} = \\frac{z^{5}}{120} - \\frac{z^{4}}{24} + \\frac{z^{3}}{12} - \\frac{z^{2}}{12} + \\frac{z}{24} - \\frac{1}{120}, \\quad \\left ( 1, \\quad 7\\right ) : \\Phi_{ 1, 7 }{\\left (z \\right )} = \\frac{z^{6}}{720} - \\frac{z^{5}}{120} + \\frac{z^{4}}{48} - \\frac{z^{3}}{36} + \\frac{z^{2}}{48} - \\frac{z}{120} + \\frac{1}{720}, \\quad \\left ( 1, \\quad 8\\right ) : \\Phi_{ 1, 8 }{\\left (z \\right )} = \\frac{z^{7}}{5040} - \\frac{z^{6}}{720} + \\frac{z^{5}}{240} - \\frac{z^{4}}{144} + \\frac{z^{3}}{144} - \\frac{z^{2}}{240} + \\frac{z}{720} - \\frac{1}{5040}\\right \\}$$"
      ],
      "text/plain": [
       "⎧                                                                             \n",
       "⎪                                                                             \n",
       "⎨(1, 1): \\Phi_{ 1, 1 }(z) = 1, (1, 2): \\Phi_{ 1, 2 }(z) = z - 1, (1, 3): \\Phi_\n",
       "⎪                                                                             \n",
       "⎩                                                                             \n",
       "\n",
       "               2                                      3    2                  \n",
       "              z        1                             z    z    z   1          \n",
       "{ 1, 3 }(z) = ── - z + ─, (1, 4): \\Phi_{ 1, 4 }(z) = ── - ── + ─ - ─, (1, 5): \n",
       "              2        2                             6    2    2   6          \n",
       "                                                                              \n",
       "\n",
       "                    4    3    2                                        5    4 \n",
       "                   z    z    z    z   1                               z    z  \n",
       "\\Phi_{ 1, 5 }(z) = ── - ── + ── - ─ + ──, (1, 6): \\Phi_{ 1, 6 }(z) = ─── - ── \n",
       "                   24   6    4    6   24                             120   24 \n",
       "                                                                              \n",
       "\n",
       "   3    2                                          6     5    4    3    2     \n",
       "  z    z    z     1                               z     z    z    z    z     z\n",
       "+ ── - ── + ── - ───, (1, 7): \\Phi_{ 1, 7 }(z) = ─── - ─── + ── - ── + ── - ──\n",
       "  12   12   24   120                             720   120   48   36   48   12\n",
       "                                                                              \n",
       "\n",
       "                                      7      6     5     4     3     2        \n",
       "     1                               z      z     z     z     z     z     z   \n",
       "─ + ───, (1, 8): \\Phi_{ 1, 8 }(z) = ──── - ─── + ─── - ─── + ─── - ─── + ─── -\n",
       "0   720                             5040   720   240   144   144   240   720  \n",
       "                                                                              \n",
       "\n",
       "     ⎫\n",
       "  1  ⎪\n",
       " ────⎬\n",
       " 5040⎪\n",
       "     ⎭"
      ]
     },
     "execution_count": 9,
     "metadata": {},
     "output_type": "execute_result"
    }
   ],
   "source": [
    "Phi_polynomials = component_polynomials(eigendata, early_eigenvals_subs=True)\n",
    "Phi_polynomials"
   ]
  },
  {
   "cell_type": "code",
   "execution_count": 17,
   "metadata": {
    "collapsed": false,
    "deletable": true,
    "editable": true,
    "scrolled": true
   },
   "outputs": [],
   "source": [
    "cmatrices = component_matrices(P, Phi_polynomials)\n",
    "#list(cmatrices.values())"
   ]
  },
  {
   "cell_type": "code",
   "execution_count": 11,
   "metadata": {
    "collapsed": false,
    "deletable": true,
    "editable": true
   },
   "outputs": [
    {
     "data": {
      "image/png": "[encoded data removed]",
      "text/latex": [
       "$$\\left ( a_{n + 1} = n + a_{n} + 1, \\quad b{\\left (n + 1 \\right )} = n + b{\\left (n \\right )} + 1\\right )$$"
      ],
      "text/plain": [
       "(a[n + 1] = n + a[n] + 1, b(n + 1) = n + b(n) + 1)"
      ]
     },
     "execution_count": 11,
     "metadata": {},
     "output_type": "execute_result"
    }
   ],
   "source": [
    "a = IndexedBase('a')\n",
    "aeq = Eq(a[n], n+a[n-1])\n",
    "b = Function('b')\n",
    "beq = Eq(b(n), n+b(n-1))\n",
    "\n",
    "with lift_to_Lambda(aeq, return_eq=True) as aEQ, lift_to_Lambda(beq, return_eq=True) as bEQ:\n",
    "    arec = aEQ(n+1)\n",
    "    brec = bEQ(n+1)\n",
    "    \n",
    "arec, brec"
   ]
  },
  {
   "cell_type": "markdown",
   "metadata": {
    "editable": true
   },
   "source": [
    "## `power` function"
   ]
  },
  {
   "cell_type": "code",
   "execution_count": 93,
   "metadata": {
    "collapsed": false,
    "editable": true
   },
   "outputs": [
    {
     "data": {
      "image/png": "[encoded data removed]",
      "text/latex": [
       "$$P{\\left (z \\right )} = z^{r}$$"
      ],
      "text/plain": [
       "        r\n",
       "P(z) = z "
      ]
     },
     "execution_count": 93,
     "metadata": {},
     "output_type": "execute_result"
    }
   ],
   "source": [
    "f = Function('P')\n",
    "f_power = define(let=f(z), be=z**r)\n",
    "f_power"
   ]
  },
  {
   "cell_type": "code",
   "execution_count": 94,
   "metadata": {
    "collapsed": false,
    "editable": true
   },
   "outputs": [],
   "source": [
    "g_power = Hermite_interpolation_polynomial(f_power, eigendata, Phi_polynomials)\n",
    "#g_power.simplify() # too verbose and complex to display"
   ]
  },
  {
   "cell_type": "code",
   "execution_count": 95,
   "metadata": {
    "collapsed": false,
    "editable": true
   },
   "outputs": [
    {
     "data": {
      "image/png": "[encoded data removed]",
      "text/latex": [
       "$$\\operatorname{P_{ 8 }}{\\left (z \\right )} = - \\frac{r^{7}}{5040} + \\frac{r^{6}}{180} - \\frac{23 r^{5}}{360} + \\frac{7 r^{4}}{18} - \\frac{967 r^{3}}{720} + \\frac{469 r^{2}}{180} - \\frac{363 r}{140} + z^{7} \\left(\\frac{r^{7}}{5040} - \\frac{r^{6}}{240} + \\frac{5 r^{5}}{144} - \\frac{7 r^{4}}{48} + \\frac{29 r^{3}}{90} - \\frac{7 r^{2}}{20} + \\frac{r}{7}\\right) + z^{6} \\left(- \\frac{r^{7}}{720} + \\frac{11 r^{6}}{360} - \\frac{19 r^{5}}{72} + \\frac{41 r^{4}}{36} - \\frac{1849 r^{3}}{720} + \\frac{1019 r^{2}}{360} - \\frac{7 r}{6}\\right) + z^{5} \\left(\\frac{r^{7}}{240} - \\frac{23 r^{6}}{240} + \\frac{69 r^{5}}{80} - \\frac{185 r^{4}}{48} + \\frac{134 r^{3}}{15} - \\frac{201 r^{2}}{20} + \\frac{21 r}{5}\\right) + z^{4} \\left(- \\frac{r^{7}}{144} + \\frac{r^{6}}{6} - \\frac{113 r^{5}}{72} + \\frac{22 r^{4}}{3} - \\frac{2545 r^{3}}{144} + \\frac{41 r^{2}}{2} - \\frac{35 r}{4}\\right) + z^{3} \\left(\\frac{r^{7}}{144} - \\frac{25 r^{6}}{144} + \\frac{247 r^{5}}{144} - \\frac{1219 r^{4}}{144} + \\frac{389 r^{3}}{18} - \\frac{949 r^{2}}{36} + \\frac{35 r}{3}\\right) + z^{2} \\left(- \\frac{r^{7}}{240} + \\frac{13 r^{6}}{120} - \\frac{9 r^{5}}{8} + \\frac{71 r^{4}}{12} - \\frac{3929 r^{3}}{240} + \\frac{879 r^{2}}{40} - \\frac{21 r}{2}\\right) + z \\left(\\frac{r^{7}}{720} - \\frac{3 r^{6}}{80} + \\frac{59 r^{5}}{144} - \\frac{37 r^{4}}{16} + \\frac{319 r^{3}}{45} - \\frac{223 r^{2}}{20} + 7 r\\right) + 1$$"
      ],
      "text/plain": [
       "                 7      6       5      4        3        2              ⎛  7  \n",
       "                r      r    23⋅r    7⋅r    967⋅r    469⋅r    363⋅r    7 ⎜ r   \n",
       "P_{ 8 }(z) = - ──── + ─── - ───── + ──── - ────── + ────── - ───── + z ⋅⎜──── \n",
       "               5040   180    360     18     720      180      140       ⎝5040 \n",
       "\n",
       "    6      5      4       3      2    ⎞      ⎛    7       6       5       4   \n",
       "   r    5⋅r    7⋅r    29⋅r    7⋅r    r⎟    6 ⎜   r    11⋅r    19⋅r    41⋅r    \n",
       "- ─── + ──── - ──── + ───── - ──── + ─⎟ + z ⋅⎜- ─── + ───── - ───── + ───── - \n",
       "  240   144     48      90     20    7⎠      ⎝  720    360      72      36    \n",
       "\n",
       "      3         2      ⎞      ⎛  7       6       5        4        3        2 \n",
       "1849⋅r    1019⋅r    7⋅r⎟    5 ⎜ r    23⋅r    69⋅r    185⋅r    134⋅r    201⋅r  \n",
       "─────── + ─────── - ───⎟ + z ⋅⎜─── - ───── + ───── - ────── + ────── - ────── \n",
       "  720       360      6 ⎠      ⎝240    240      80      48       15       20   \n",
       "\n",
       "      ⎞      ⎛    7    6        5       4         3       2       ⎞      ⎛  7 \n",
       "  21⋅r⎟    4 ⎜   r    r    113⋅r    22⋅r    2545⋅r    41⋅r    35⋅r⎟    3 ⎜ r  \n",
       "+ ────⎟ + z ⋅⎜- ─── + ── - ────── + ───── - ─────── + ───── - ────⎟ + z ⋅⎜─── \n",
       "   5  ⎠      ⎝  144   6      72       3       144       2      4  ⎠      ⎝144 \n",
       "\n",
       "      6        5         4        3        2       ⎞      ⎛    7       6      \n",
       "  25⋅r    247⋅r    1219⋅r    389⋅r    949⋅r    35⋅r⎟    2 ⎜   r    13⋅r    9⋅r\n",
       "- ───── + ────── - ─────── + ────── - ────── + ────⎟ + z ⋅⎜- ─── + ───── - ───\n",
       "   144     144       144       18       36      3  ⎠      ⎝  240    120     8 \n",
       "\n",
       "5       4         3        2       ⎞     ⎛  7      6       5       4        3 \n",
       "    71⋅r    3929⋅r    879⋅r    21⋅r⎟     ⎜ r    3⋅r    59⋅r    37⋅r    319⋅r  \n",
       "─ + ───── - ─────── + ────── - ────⎟ + z⋅⎜─── - ──── + ───── - ───── + ────── \n",
       "      12      240       40      2  ⎠     ⎝720    80     144      16      45   \n",
       "\n",
       "       2      ⎞    \n",
       "  223⋅r       ⎟    \n",
       "- ────── + 7⋅r⎟ + 1\n",
       "    20        ⎠    "
      ]
     },
     "execution_count": 95,
     "metadata": {},
     "output_type": "execute_result"
    }
   ],
   "source": [
    "g_power = g_power.subs(eigenvals)\n",
    "g_power"
   ]
  },
  {
   "cell_type": "code",
   "execution_count": 96,
   "metadata": {
    "collapsed": false,
    "editable": true
   },
   "outputs": [
    {
     "data": {
      "image/png": "[encoded data removed]",
      "text/latex": [
       "$$\\operatorname{P_{ 8 }}{\\left (\\mathcal{P}_{ 8 } \\right )} = \\left[\\begin{matrix}1 & 0 & 0 & 0 & 0 & 0 & 0 & 0\\\\r & 1 & 0 & 0 & 0 & 0 & 0 & 0\\\\r^{2} & 2 r & 1 & 0 & 0 & 0 & 0 & 0\\\\r^{3} & 3 r^{2} & 3 r & 1 & 0 & 0 & 0 & 0\\\\r^{4} & 4 r^{3} & 6 r^{2} & 4 r & 1 & 0 & 0 & 0\\\\r^{5} & 5 r^{4} & 10 r^{3} & 10 r^{2} & 5 r & 1 & 0 & 0\\\\r^{6} & 6 r^{5} & 15 r^{4} & 20 r^{3} & 15 r^{2} & 6 r & 1 & 0\\\\r^{7} & 7 r^{6} & 21 r^{5} & 35 r^{4} & 35 r^{3} & 21 r^{2} & 7 r & 1\\end{matrix}\\right]$$"
      ],
      "text/plain": [
       "                             ⎡1    0      0      0      0      0     0   0⎤\n",
       "                             ⎢                                            ⎥\n",
       "                             ⎢r    1      0      0      0      0     0   0⎥\n",
       "                             ⎢                                            ⎥\n",
       "                             ⎢ 2                                          ⎥\n",
       "                             ⎢r   2⋅r     1      0      0      0     0   0⎥\n",
       "                             ⎢                                            ⎥\n",
       "                             ⎢ 3     2                                    ⎥\n",
       "                             ⎢r   3⋅r    3⋅r     1      0      0     0   0⎥\n",
       "                             ⎢                                            ⎥\n",
       "P_{ 8 }(\\mathcal{P}_{ 8 }) = ⎢ 4     3     2                              ⎥\n",
       "                             ⎢r   4⋅r   6⋅r     4⋅r     1      0     0   0⎥\n",
       "                             ⎢                                            ⎥\n",
       "                             ⎢ 5     4      3      2                      ⎥\n",
       "                             ⎢r   5⋅r   10⋅r   10⋅r    5⋅r     1     0   0⎥\n",
       "                             ⎢                                            ⎥\n",
       "                             ⎢ 6     5      4      3      2               ⎥\n",
       "                             ⎢r   6⋅r   15⋅r   20⋅r   15⋅r    6⋅r    1   0⎥\n",
       "                             ⎢                                            ⎥\n",
       "                             ⎢ 7     6      5      4      3      2        ⎥\n",
       "                             ⎣r   7⋅r   21⋅r   35⋅r   35⋅r   21⋅r   7⋅r  1⎦"
      ]
     },
     "execution_count": 96,
     "metadata": {},
     "output_type": "execute_result"
    }
   ],
   "source": [
    "with lift_to_matrix_function(g_power) as G_power:\n",
    "    m_power = G_power(P)\n",
    "m_power"
   ]
  },
  {
   "cell_type": "code",
   "execution_count": 97,
   "metadata": {
    "collapsed": false,
    "editable": true
   },
   "outputs": [
    {
     "data": {
      "image/png": "[encoded data removed]",
      "text/latex": [
       "$$\\left[\\begin{matrix}r & 1 & 0 & 0 & 0 & 0 & 0\\\\0 & r & 1 & 0 & 0 & 0 & 0\\\\0 & 0 & r & 1 & 0 & 0 & 0\\\\0 & 0 & 0 & r & 1 & 0 & 0\\\\0 & 0 & 0 & 0 & r & 1 & 0\\\\0 & 0 & 0 & 0 & 0 & r & 1\\\\0 & 0 & 0 & 0 & 0 & 0 & r\\end{matrix}\\right]$$"
      ],
      "text/plain": [
       "⎡r  1  0  0  0  0  0⎤\n",
       "⎢                   ⎥\n",
       "⎢0  r  1  0  0  0  0⎥\n",
       "⎢                   ⎥\n",
       "⎢0  0  r  1  0  0  0⎥\n",
       "⎢                   ⎥\n",
       "⎢0  0  0  r  1  0  0⎥\n",
       "⎢                   ⎥\n",
       "⎢0  0  0  0  r  1  0⎥\n",
       "⎢                   ⎥\n",
       "⎢0  0  0  0  0  r  1⎥\n",
       "⎢                   ⎥\n",
       "⎣0  0  0  0  0  0  r⎦"
      ]
     },
     "execution_count": 97,
     "metadata": {},
     "output_type": "execute_result"
    }
   ],
   "source": [
    "production_matrix(m_power.rhs)"
   ]
  },
  {
   "cell_type": "code",
   "execution_count": 98,
   "metadata": {
    "collapsed": false,
    "editable": true
   },
   "outputs": [],
   "source": [
    "assert m_power.rhs == (P.rhs**r).applyfunc(simplify)"
   ]
  },
  {
   "cell_type": "markdown",
   "metadata": {
    "deletable": true,
    "editable": true
   },
   "source": [
    "## `inverse` function"
   ]
  },
  {
   "cell_type": "code",
   "execution_count": 31,
   "metadata": {
    "collapsed": false,
    "deletable": true,
    "editable": true
   },
   "outputs": [
    {
     "data": {
      "image/png": "[encoded data removed]",
      "text/latex": [
       "$$I{\\left (z \\right )} = \\frac{1}{z}$$"
      ],
      "text/plain": [
       "       1\n",
       "I(z) = ─\n",
       "       z"
      ]
     },
     "execution_count": 31,
     "metadata": {},
     "output_type": "execute_result"
    }
   ],
   "source": [
    "f, h = Function('I'), Function('h')\n",
    "f_inverse = define(let=f(z), be=1/(z))\n",
    "f_inverse"
   ]
  },
  {
   "cell_type": "code",
   "execution_count": 49,
   "metadata": {
    "collapsed": false,
    "deletable": true,
    "editable": true
   },
   "outputs": [
    {
     "data": {
      "image/png": "[encoded data removed]",
      "text/latex": [
       "$$\\operatorname{I_{ 8 }}{\\left (z \\right )} = - \\frac{z^{7}}{\\lambda_{1}^{8}} + z^{6} \\left(\\frac{1}{\\lambda_{1}^{7}} + \\frac{7}{\\lambda_{1}^{8}}\\right) + z^{5} \\left(- \\frac{1}{\\lambda_{1}^{6}} - \\frac{6}{\\lambda_{1}^{7}} - \\frac{21}{\\lambda_{1}^{8}}\\right) + z^{4} \\left(\\frac{1}{\\lambda_{1}^{5}} + \\frac{5}{\\lambda_{1}^{6}} + \\frac{15}{\\lambda_{1}^{7}} + \\frac{35}{\\lambda_{1}^{8}}\\right) + z^{3} \\left(- \\frac{1}{\\lambda_{1}^{4}} - \\frac{4}{\\lambda_{1}^{5}} - \\frac{10}{\\lambda_{1}^{6}} - \\frac{20}{\\lambda_{1}^{7}} - \\frac{35}{\\lambda_{1}^{8}}\\right) + z^{2} \\left(\\frac{1}{\\lambda_{1}^{3}} + \\frac{3}{\\lambda_{1}^{4}} + \\frac{6}{\\lambda_{1}^{5}} + \\frac{10}{\\lambda_{1}^{6}} + \\frac{15}{\\lambda_{1}^{7}} + \\frac{21}{\\lambda_{1}^{8}}\\right) + z \\left(- \\frac{1}{\\lambda_{1}^{2}} - \\frac{2}{\\lambda_{1}^{3}} - \\frac{3}{\\lambda_{1}^{4}} - \\frac{4}{\\lambda_{1}^{5}} - \\frac{5}{\\lambda_{1}^{6}} - \\frac{6}{\\lambda_{1}^{7}} - \\frac{7}{\\lambda_{1}^{8}}\\right) + \\frac{1}{\\lambda_{1}} + \\frac{1}{\\lambda_{1}^{2}} + \\frac{1}{\\lambda_{1}^{3}} + \\frac{1}{\\lambda_{1}^{4}} + \\frac{1}{\\lambda_{1}^{5}} + \\frac{1}{\\lambda_{1}^{6}} + \\frac{1}{\\lambda_{1}^{7}} + \\frac{1}{\\lambda_{1}^{8}}$$"
      ],
      "text/plain": [
       "                     7                                                        \n",
       "                    z         6 ⎛     1             7     ⎞    5 ⎛       1    \n",
       "I_{ 8 }(z) = - ─────────── + z ⋅⎜─────────── + ───────────⎟ + z ⋅⎜- ──────────\n",
       "                         8      ⎜          7             8⎟      ⎜            \n",
       "               \\lambda[1]       ⎝\\lambda[1]    \\lambda[1] ⎠      ⎝  \\lambda[1]\n",
       "\n",
       "                                                                              \n",
       "         6             21    ⎞    4 ⎛     1             5             15      \n",
       "─ - ─────────── - ───────────⎟ + z ⋅⎜─────────── + ─────────── + ─────────── +\n",
       "6             7             8⎟      ⎜          5             6             7  \n",
       "    \\lambda[1]    \\lambda[1] ⎠      ⎝\\lambda[1]    \\lambda[1]    \\lambda[1]   \n",
       "\n",
       "                                                                              \n",
       "      35    ⎞    3 ⎛       1             4             10            20       \n",
       " ───────────⎟ + z ⋅⎜- ─────────── - ─────────── - ─────────── - ─────────── - \n",
       "           8⎟      ⎜            4             5             6             7   \n",
       " \\lambda[1] ⎠      ⎝  \\lambda[1]    \\lambda[1]    \\lambda[1]    \\lambda[1]    \n",
       "\n",
       "                                                                              \n",
       "     35    ⎞    2 ⎛     1             3             6             10          \n",
       "───────────⎟ + z ⋅⎜─────────── + ─────────── + ─────────── + ─────────── + ───\n",
       "          8⎟      ⎜          3             4             5             6      \n",
       "\\lambda[1] ⎠      ⎝\\lambda[1]    \\lambda[1]    \\lambda[1]    \\lambda[1]    \\la\n",
       "\n",
       "                                                                              \n",
       "  15            21    ⎞     ⎛       1             2             3             \n",
       "──────── + ───────────⎟ + z⋅⎜- ─────────── - ─────────── - ─────────── - ─────\n",
       "       7             8⎟     ⎜            2             3             4        \n",
       "mbda[1]    \\lambda[1] ⎠     ⎝  \\lambda[1]    \\lambda[1]    \\lambda[1]    \\lamb\n",
       "\n",
       "                                                                              \n",
       "4             5             6             7     ⎞       1             1       \n",
       "────── - ─────────── - ─────────── - ───────────⎟ + ────────── + ─────────── +\n",
       "     5             6             7             8⎟   \\lambda[1]             2  \n",
       "da[1]    \\lambda[1]    \\lambda[1]    \\lambda[1] ⎠                \\lambda[1]   \n",
       "\n",
       "                                                                              \n",
       "      1             1             1             1             1             1 \n",
       " ─────────── + ─────────── + ─────────── + ─────────── + ─────────── + ───────\n",
       "           3             4             5             6             7          \n",
       " \\lambda[1]    \\lambda[1]    \\lambda[1]    \\lambda[1]    \\lambda[1]    \\lambda\n",
       "\n",
       "    \n",
       "    \n",
       "────\n",
       "   8\n",
       "[1] "
      ]
     },
     "execution_count": 49,
     "metadata": {},
     "output_type": "execute_result"
    }
   ],
   "source": [
    "g_inverse = Hermite_interpolation_polynomial(f_inverse, eigendata, Phi_polynomials)\n",
    "g_inverse"
   ]
  },
  {
   "cell_type": "code",
   "execution_count": 50,
   "metadata": {
    "collapsed": false,
    "deletable": true,
    "editable": true
   },
   "outputs": [
    {
     "data": {
      "image/png": "[encoded data removed]",
      "text/latex": [
       "$$\\operatorname{I_{ 8 }}{\\left (z \\right )} = - z^{7} + 8 z^{6} - 28 z^{5} + 56 z^{4} - 70 z^{3} + 56 z^{2} - 28 z + 8$$"
      ],
      "text/plain": [
       "                7      6       5       4       3       2           \n",
       "I_{ 8 }(z) = - z  + 8⋅z  - 28⋅z  + 56⋅z  - 70⋅z  + 56⋅z  - 28⋅z + 8"
      ]
     },
     "execution_count": 50,
     "metadata": {},
     "output_type": "execute_result"
    }
   ],
   "source": [
    "g_inverse = g_inverse.subs(eigenvals)\n",
    "g_inverse"
   ]
  },
  {
   "cell_type": "code",
   "execution_count": 51,
   "metadata": {
    "collapsed": false,
    "deletable": true,
    "editable": true
   },
   "outputs": [
    {
     "data": {
      "image/png": "[encoded data removed]",
      "text/latex": [
       "$$\\operatorname{I_{ 8 }}{\\left (\\mathcal{P}_{ 8 } \\right )} = \\left[\\begin{matrix}1 & 0 & 0 & 0 & 0 & 0 & 0 & 0\\\\-1 & 1 & 0 & 0 & 0 & 0 & 0 & 0\\\\1 & -2 & 1 & 0 & 0 & 0 & 0 & 0\\\\-1 & 3 & -3 & 1 & 0 & 0 & 0 & 0\\\\1 & -4 & 6 & -4 & 1 & 0 & 0 & 0\\\\-1 & 5 & -10 & 10 & -5 & 1 & 0 & 0\\\\1 & -6 & 15 & -20 & 15 & -6 & 1 & 0\\\\-1 & 7 & -21 & 35 & -35 & 21 & -7 & 1\\end{matrix}\\right]$$"
      ],
      "text/plain": [
       "                             ⎡1   0    0    0    0   0   0   0⎤\n",
       "                             ⎢                                ⎥\n",
       "                             ⎢-1  1    0    0    0   0   0   0⎥\n",
       "                             ⎢                                ⎥\n",
       "                             ⎢1   -2   1    0    0   0   0   0⎥\n",
       "                             ⎢                                ⎥\n",
       "                             ⎢-1  3   -3    1    0   0   0   0⎥\n",
       "I_{ 8 }(\\mathcal{P}_{ 8 }) = ⎢                                ⎥\n",
       "                             ⎢1   -4   6   -4    1   0   0   0⎥\n",
       "                             ⎢                                ⎥\n",
       "                             ⎢-1  5   -10  10   -5   1   0   0⎥\n",
       "                             ⎢                                ⎥\n",
       "                             ⎢1   -6  15   -20  15   -6  1   0⎥\n",
       "                             ⎢                                ⎥\n",
       "                             ⎣-1  7   -21  35   -35  21  -7  1⎦"
      ]
     },
     "execution_count": 51,
     "metadata": {},
     "output_type": "execute_result"
    }
   ],
   "source": [
    "with lift_to_matrix_function(g_inverse) as G_inverse:\n",
    "    P_inverse = G_inverse(P)\n",
    "P_inverse"
   ]
  },
  {
   "cell_type": "code",
   "execution_count": 52,
   "metadata": {
    "collapsed": false,
    "deletable": true,
    "editable": true
   },
   "outputs": [
    {
     "data": {
      "image/png": "[encoded data removed]",
      "text/latex": [
       "$$\\left[\\begin{matrix}-1 & 1 & 0 & 0 & 0 & 0 & 0\\\\0 & -1 & 1 & 0 & 0 & 0 & 0\\\\0 & 0 & -1 & 1 & 0 & 0 & 0\\\\0 & 0 & 0 & -1 & 1 & 0 & 0\\\\0 & 0 & 0 & 0 & -1 & 1 & 0\\\\0 & 0 & 0 & 0 & 0 & -1 & 1\\\\0 & 0 & 0 & 0 & 0 & 0 & -1\\end{matrix}\\right]$$"
      ],
      "text/plain": [
       "⎡-1  1   0   0   0   0   0 ⎤\n",
       "⎢                          ⎥\n",
       "⎢0   -1  1   0   0   0   0 ⎥\n",
       "⎢                          ⎥\n",
       "⎢0   0   -1  1   0   0   0 ⎥\n",
       "⎢                          ⎥\n",
       "⎢0   0   0   -1  1   0   0 ⎥\n",
       "⎢                          ⎥\n",
       "⎢0   0   0   0   -1  1   0 ⎥\n",
       "⎢                          ⎥\n",
       "⎢0   0   0   0   0   -1  1 ⎥\n",
       "⎢                          ⎥\n",
       "⎣0   0   0   0   0   0   -1⎦"
      ]
     },
     "execution_count": 52,
     "metadata": {},
     "output_type": "execute_result"
    }
   ],
   "source": [
    "production_matrix(P_inverse.rhs)"
   ]
  },
  {
   "cell_type": "code",
   "execution_count": 53,
   "metadata": {
    "collapsed": false,
    "deletable": true,
    "editable": true
   },
   "outputs": [
    {
     "data": {
      "image/png": "[encoded data removed]",
      "text/latex": [
       "$$\\operatorname{I_{ 8 }}{\\left (\\operatorname{I_{ 8 }}{\\left (\\mathcal{P}_{ 8 } \\right )} \\right )} = \\left[\\begin{matrix}1 & 0 & 0 & 0 & 0 & 0 & 0 & 0\\\\1 & 1 & 0 & 0 & 0 & 0 & 0 & 0\\\\1 & 2 & 1 & 0 & 0 & 0 & 0 & 0\\\\1 & 3 & 3 & 1 & 0 & 0 & 0 & 0\\\\1 & 4 & 6 & 4 & 1 & 0 & 0 & 0\\\\1 & 5 & 10 & 10 & 5 & 1 & 0 & 0\\\\1 & 6 & 15 & 20 & 15 & 6 & 1 & 0\\\\1 & 7 & 21 & 35 & 35 & 21 & 7 & 1\\end{matrix}\\right]$$"
      ],
      "text/plain": [
       "                                      ⎡1  0  0   0   0   0   0  0⎤\n",
       "                                      ⎢                          ⎥\n",
       "                                      ⎢1  1  0   0   0   0   0  0⎥\n",
       "                                      ⎢                          ⎥\n",
       "                                      ⎢1  2  1   0   0   0   0  0⎥\n",
       "                                      ⎢                          ⎥\n",
       "                                      ⎢1  3  3   1   0   0   0  0⎥\n",
       "I_{ 8 }(I_{ 8 }(\\mathcal{P}_{ 8 })) = ⎢                          ⎥\n",
       "                                      ⎢1  4  6   4   1   0   0  0⎥\n",
       "                                      ⎢                          ⎥\n",
       "                                      ⎢1  5  10  10  5   1   0  0⎥\n",
       "                                      ⎢                          ⎥\n",
       "                                      ⎢1  6  15  20  15  6   1  0⎥\n",
       "                                      ⎢                          ⎥\n",
       "                                      ⎣1  7  21  35  35  21  7  1⎦"
      ]
     },
     "execution_count": 53,
     "metadata": {},
     "output_type": "execute_result"
    }
   ],
   "source": [
    "G_inverse(P_inverse)"
   ]
  },
  {
   "cell_type": "code",
   "execution_count": 70,
   "metadata": {
    "collapsed": false,
    "deletable": true,
    "editable": true
   },
   "outputs": [],
   "source": [
    "assert (P_inverse.rhs * P.rhs) == Matrix(m, m, identity_matrix())\n",
    "assert P_inverse.rhs == P.rhs**(-1)\n",
    "assert P_inverse.rhs == m_power.rhs.subs({r:-1})"
   ]
  },
  {
   "cell_type": "markdown",
   "metadata": {
    "deletable": true,
    "editable": true
   },
   "source": [
    "## `sqrt` function"
   ]
  },
  {
   "cell_type": "code",
   "execution_count": 99,
   "metadata": {
    "collapsed": false,
    "deletable": true,
    "editable": true
   },
   "outputs": [
    {
     "data": {
      "image/png": "[encoded data removed]",
      "text/latex": [
       "$$R{\\left (z \\right )} = \\sqrt{z}$$"
      ],
      "text/plain": [
       "R(z) = √z"
      ]
     },
     "execution_count": 99,
     "metadata": {},
     "output_type": "execute_result"
    }
   ],
   "source": [
    "f = Function('R')\n",
    "f_sqrt = define(let=f(z), be=sqrt(z))\n",
    "f_sqrt"
   ]
  },
  {
   "cell_type": "code",
   "execution_count": 100,
   "metadata": {
    "collapsed": false,
    "deletable": true,
    "editable": true
   },
   "outputs": [
    {
     "data": {
      "image/png": "[encoded data removed]",
      "text/latex": [
       "$$\\operatorname{R_{ 8 }}{\\left (z \\right )} = \\frac{33 z^{7}}{2048 \\lambda_{1}^{\\frac{13}{2}}} + z^{6} \\left(- \\frac{21}{1024 \\lambda_{1}^{\\frac{11}{2}}} - \\frac{231}{2048 \\lambda_{1}^{\\frac{13}{2}}}\\right) + z^{5} \\left(\\frac{7}{256 \\lambda_{1}^{\\frac{9}{2}}} + \\frac{63}{512 \\lambda_{1}^{\\frac{11}{2}}} + \\frac{693}{2048 \\lambda_{1}^{\\frac{13}{2}}}\\right) + z^{4} \\left(- \\frac{5}{128 \\lambda_{1}^{\\frac{7}{2}}} - \\frac{35}{256 \\lambda_{1}^{\\frac{9}{2}}} - \\frac{315}{1024 \\lambda_{1}^{\\frac{11}{2}}} - \\frac{1155}{2048 \\lambda_{1}^{\\frac{13}{2}}}\\right) + z^{3} \\left(\\frac{1}{16 \\lambda_{1}^{\\frac{5}{2}}} + \\frac{5}{32 \\lambda_{1}^{\\frac{7}{2}}} + \\frac{35}{128 \\lambda_{1}^{\\frac{9}{2}}} + \\frac{105}{256 \\lambda_{1}^{\\frac{11}{2}}} + \\frac{1155}{2048 \\lambda_{1}^{\\frac{13}{2}}}\\right) + z^{2} \\left(- \\frac{1}{8 \\lambda_{1}^{\\frac{3}{2}}} - \\frac{3}{16 \\lambda_{1}^{\\frac{5}{2}}} - \\frac{15}{64 \\lambda_{1}^{\\frac{7}{2}}} - \\frac{35}{128 \\lambda_{1}^{\\frac{9}{2}}} - \\frac{315}{1024 \\lambda_{1}^{\\frac{11}{2}}} - \\frac{693}{2048 \\lambda_{1}^{\\frac{13}{2}}}\\right) + z \\left(\\frac{1}{2 \\sqrt{\\lambda_{1}}} + \\frac{1}{4 \\lambda_{1}^{\\frac{3}{2}}} + \\frac{3}{16 \\lambda_{1}^{\\frac{5}{2}}} + \\frac{5}{32 \\lambda_{1}^{\\frac{7}{2}}} + \\frac{35}{256 \\lambda_{1}^{\\frac{9}{2}}} + \\frac{63}{512 \\lambda_{1}^{\\frac{11}{2}}} + \\frac{231}{2048 \\lambda_{1}^{\\frac{13}{2}}}\\right) + \\sqrt{\\lambda_{1}} - \\frac{1}{2 \\sqrt{\\lambda_{1}}} - \\frac{1}{8 \\lambda_{1}^{\\frac{3}{2}}} - \\frac{1}{16 \\lambda_{1}^{\\frac{5}{2}}} - \\frac{5}{128 \\lambda_{1}^{\\frac{7}{2}}} - \\frac{7}{256 \\lambda_{1}^{\\frac{9}{2}}} - \\frac{21}{1024 \\lambda_{1}^{\\frac{11}{2}}} - \\frac{33}{2048 \\lambda_{1}^{\\frac{13}{2}}}$$"
      ],
      "text/plain": [
       "                        7                                                     \n",
       "                    33⋅z            6 ⎛           21                   231    \n",
       "R_{ 8 }(z) = ─────────────────── + z ⋅⎜- ─────────────────── - ───────────────\n",
       "                            13/2      ⎜                 11/2                  \n",
       "             2048⋅\\lambda[1]          ⎝  1024⋅\\lambda[1]       2048⋅\\lambda[1]\n",
       "\n",
       "                                                                              \n",
       "    ⎞    5 ⎛        7                   63                   693        ⎞    4\n",
       "────⎟ + z ⋅⎜───────────────── + ────────────────── + ───────────────────⎟ + z \n",
       "13/2⎟      ⎜              9/2                 11/2                  13/2⎟     \n",
       "    ⎠      ⎝256⋅\\lambda[1]      512⋅\\lambda[1]       2048⋅\\lambda[1]    ⎠     \n",
       "\n",
       "                                                                              \n",
       " ⎛          5                   35                  315                   1155\n",
       "⋅⎜- ───────────────── - ───────────────── - ─────────────────── - ────────────\n",
       " ⎜                7/2                 9/2                  11/2               \n",
       " ⎝  128⋅\\lambda[1]      256⋅\\lambda[1]      1024⋅\\lambda[1]       2048⋅\\lambda\n",
       "\n",
       "                                                                              \n",
       "       ⎞    3 ⎛       1                  5                   35               \n",
       "───────⎟ + z ⋅⎜──────────────── + ──────────────── + ───────────────── + ─────\n",
       "   13/2⎟      ⎜             5/2                7/2                 9/2        \n",
       "[1]    ⎠      ⎝16⋅\\lambda[1]      32⋅\\lambda[1]      128⋅\\lambda[1]      256⋅\\\n",
       "\n",
       "                                                                              \n",
       "  105                   1155       ⎞    2 ⎛         1                 3       \n",
       "───────────── + ───────────────────⎟ + z ⋅⎜- ─────────────── - ───────────────\n",
       "         11/2                  13/2⎟      ⎜              3/2                5/\n",
       "lambda[1]       2048⋅\\lambda[1]    ⎠      ⎝  8⋅\\lambda[1]      16⋅\\lambda[1]  \n",
       "\n",
       "                                                                              \n",
       "           15                  35                  315                   693  \n",
       "─ - ──────────────── - ───────────────── - ─────────────────── - ─────────────\n",
       "2                7/2                 9/2                  11/2                \n",
       "    64⋅\\lambda[1]      128⋅\\lambda[1]      1024⋅\\lambda[1]       2048⋅\\lambda[\n",
       "\n",
       "                                                                              \n",
       "      ⎞     ⎛       1                  1                 3                  5 \n",
       "──────⎟ + z⋅⎜──────────────── + ─────────────── + ──────────────── + ─────────\n",
       "  13/2⎟     ⎜    ____________               3/2                5/2            \n",
       "1]    ⎠     ⎝2⋅╲╱ \\lambda[1]    4⋅\\lambda[1]      16⋅\\lambda[1]      32⋅\\lambd\n",
       "\n",
       "                                                                              \n",
       "                  35                  63                   231        ⎞     __\n",
       "─────── + ───────────────── + ────────────────── + ───────────────────⎟ + ╲╱ \\\n",
       "    7/2                 9/2                 11/2                  13/2⎟       \n",
       "a[1]      256⋅\\lambda[1]      512⋅\\lambda[1]       2048⋅\\lambda[1]    ⎠       \n",
       "\n",
       "                                                                              \n",
       "__________          1                  1                 1                   5\n",
       "lambda[1]  - ──────────────── - ─────────────── - ──────────────── - ─────────\n",
       "                 ____________               3/2                5/2            \n",
       "             2⋅╲╱ \\lambda[1]    8⋅\\lambda[1]      16⋅\\lambda[1]      128⋅\\lamb\n",
       "\n",
       "                                                                        \n",
       "                   7                    21                    33        \n",
       "──────── - ───────────────── - ─────────────────── - ───────────────────\n",
       "     7/2                 9/2                  11/2                  13/2\n",
       "da[1]      256⋅\\lambda[1]      1024⋅\\lambda[1]       2048⋅\\lambda[1]    "
      ]
     },
     "execution_count": 100,
     "metadata": {},
     "output_type": "execute_result"
    }
   ],
   "source": [
    "g_sqrt = Hermite_interpolation_polynomial(f_sqrt, eigendata, Phi_polynomials)\n",
    "g_sqrt"
   ]
  },
  {
   "cell_type": "code",
   "execution_count": 101,
   "metadata": {
    "collapsed": false,
    "deletable": true,
    "editable": true
   },
   "outputs": [
    {
     "data": {
      "image/png": "[encoded data removed]",
      "text/latex": [
       "$$\\operatorname{R_{ 8 }}{\\left (z \\right )} = \\frac{33 z^{7}}{2048} - \\frac{273 z^{6}}{2048} + \\frac{1001 z^{5}}{2048} - \\frac{2145 z^{4}}{2048} + \\frac{3003 z^{3}}{2048} - \\frac{3003 z^{2}}{2048} + \\frac{3003 z}{2048} + \\frac{429}{2048}$$"
      ],
      "text/plain": [
       "                 7        6         5         4         3         2           \n",
       "             33⋅z    273⋅z    1001⋅z    2145⋅z    3003⋅z    3003⋅z    3003⋅z  \n",
       "R_{ 8 }(z) = ───── - ────── + ─────── - ─────── + ─────── - ─────── + ────── +\n",
       "              2048    2048      2048      2048      2048      2048     2048   \n",
       "\n",
       "     \n",
       " 429 \n",
       " ────\n",
       " 2048"
      ]
     },
     "execution_count": 101,
     "metadata": {},
     "output_type": "execute_result"
    }
   ],
   "source": [
    "g_sqrt = g_sqrt.subs(eigenvals)\n",
    "g_sqrt"
   ]
  },
  {
   "cell_type": "code",
   "execution_count": 102,
   "metadata": {
    "collapsed": false,
    "deletable": true,
    "editable": true
   },
   "outputs": [
    {
     "data": {
      "image/png": "[encoded data removed]",
      "text/latex": [
       "$$\\operatorname{R_{ 8 }}{\\left (\\mathcal{P}_{ 8 } \\right )} = \\left[\\begin{matrix}1 & 0 & 0 & 0 & 0 & 0 & 0 & 0\\\\\\frac{1}{2} & 1 & 0 & 0 & 0 & 0 & 0 & 0\\\\\\frac{1}{4} & 1 & 1 & 0 & 0 & 0 & 0 & 0\\\\\\frac{1}{8} & \\frac{3}{4} & \\frac{3}{2} & 1 & 0 & 0 & 0 & 0\\\\\\frac{1}{16} & \\frac{1}{2} & \\frac{3}{2} & 2 & 1 & 0 & 0 & 0\\\\\\frac{1}{32} & \\frac{5}{16} & \\frac{5}{4} & \\frac{5}{2} & \\frac{5}{2} & 1 & 0 & 0\\\\\\frac{1}{64} & \\frac{3}{16} & \\frac{15}{16} & \\frac{5}{2} & \\frac{15}{4} & 3 & 1 & 0\\\\\\frac{1}{128} & \\frac{7}{64} & \\frac{21}{32} & \\frac{35}{16} & \\frac{35}{8} & \\frac{21}{4} & \\frac{7}{2} & 1\\end{matrix}\\right]$$"
      ],
      "text/plain": [
       "                             ⎡  1     0     0    0    0     0     0   0⎤\n",
       "                             ⎢                                         ⎥\n",
       "                             ⎢ 1/2    1     0    0    0     0     0   0⎥\n",
       "                             ⎢                                         ⎥\n",
       "                             ⎢ 1/4    1     1    0    0     0     0   0⎥\n",
       "                             ⎢                                         ⎥\n",
       "                             ⎢ 1/8   3/4   3/2   1    0     0     0   0⎥\n",
       "                             ⎢                                         ⎥\n",
       "                             ⎢1/16   1/2   3/2   2    1     0     0   0⎥\n",
       "R_{ 8 }(\\mathcal{P}_{ 8 }) = ⎢                                         ⎥\n",
       "                             ⎢1/32   5/16  5/4  5/2  5/2    1     0   0⎥\n",
       "                             ⎢                                         ⎥\n",
       "                             ⎢             15                          ⎥\n",
       "                             ⎢1/64   3/16  ──   5/2  15/4   3     1   0⎥\n",
       "                             ⎢             16                          ⎥\n",
       "                             ⎢                                         ⎥\n",
       "                             ⎢             21   35                     ⎥\n",
       "                             ⎢1/128  7/64  ──   ──   35/8  21/4  7/2  1⎥\n",
       "                             ⎣             32   16                     ⎦"
      ]
     },
     "execution_count": 102,
     "metadata": {},
     "output_type": "execute_result"
    }
   ],
   "source": [
    "with lift_to_matrix_function(g_sqrt) as G_sqrt:\n",
    "    m_sqrt = G_sqrt(P)\n",
    "m_sqrt"
   ]
  },
  {
   "cell_type": "code",
   "execution_count": 103,
   "metadata": {
    "collapsed": false,
    "deletable": true,
    "editable": true
   },
   "outputs": [
    {
     "data": {
      "image/png": "[encoded data removed]",
      "text/latex": [
       "$$\\left[\\begin{matrix}\\frac{1}{2} & 1 & 0 & 0 & 0 & 0 & 0\\\\0 & \\frac{1}{2} & 1 & 0 & 0 & 0 & 0\\\\0 & 0 & \\frac{1}{2} & 1 & 0 & 0 & 0\\\\0 & 0 & 0 & \\frac{1}{2} & 1 & 0 & 0\\\\0 & 0 & 0 & 0 & \\frac{1}{2} & 1 & 0\\\\0 & 0 & 0 & 0 & 0 & \\frac{1}{2} & 1\\\\0 & 0 & 0 & 0 & 0 & 0 & \\frac{1}{2}\\end{matrix}\\right]$$"
      ],
      "text/plain": [
       "⎡1/2   1    0    0    0    0    0 ⎤\n",
       "⎢                                 ⎥\n",
       "⎢ 0   1/2   1    0    0    0    0 ⎥\n",
       "⎢                                 ⎥\n",
       "⎢ 0    0   1/2   1    0    0    0 ⎥\n",
       "⎢                                 ⎥\n",
       "⎢ 0    0    0   1/2   1    0    0 ⎥\n",
       "⎢                                 ⎥\n",
       "⎢ 0    0    0    0   1/2   1    0 ⎥\n",
       "⎢                                 ⎥\n",
       "⎢ 0    0    0    0    0   1/2   1 ⎥\n",
       "⎢                                 ⎥\n",
       "⎣ 0    0    0    0    0    0   1/2⎦"
      ]
     },
     "execution_count": 103,
     "metadata": {},
     "output_type": "execute_result"
    }
   ],
   "source": [
    "production_matrix(m_sqrt.rhs)"
   ]
  },
  {
   "cell_type": "code",
   "execution_count": 104,
   "metadata": {
    "collapsed": false,
    "deletable": true,
    "editable": true
   },
   "outputs": [],
   "source": [
    "assert m_sqrt.rhs == P.rhs**(S(1)/2)\n",
    "assert m_sqrt.rhs == m_power.rhs.subs({r:S(1)/2})"
   ]
  },
  {
   "cell_type": "markdown",
   "metadata": {
    "deletable": true,
    "editable": true
   },
   "source": [
    "## `expt` function"
   ]
  },
  {
   "cell_type": "code",
   "execution_count": 105,
   "metadata": {
    "collapsed": false,
    "deletable": true,
    "editable": true
   },
   "outputs": [
    {
     "data": {
      "image/png": "[encoded data removed]",
      "text/latex": [
       "$$E{\\left (z \\right )} = e^{\\alpha z}$$"
      ],
      "text/plain": [
       "        α⋅z\n",
       "E(z) = ℯ   "
      ]
     },
     "execution_count": 105,
     "metadata": {},
     "output_type": "execute_result"
    }
   ],
   "source": [
    "f = Function('E')\n",
    "f_expt = define(let=f(z), be=exp(alpha*z))\n",
    "f_expt"
   ]
  },
  {
   "cell_type": "code",
   "execution_count": 106,
   "metadata": {
    "collapsed": false,
    "deletable": true,
    "editable": true
   },
   "outputs": [
    {
     "data": {
      "image/png": "[encoded data removed]",
      "text/latex": [
       "$$\\operatorname{E_{ 8 }}{\\left (z \\right )} = \\frac{\\alpha^{7} z^{7}}{5040} e^{\\alpha \\lambda_{1}} - \\frac{\\alpha^{7}}{5040} e^{\\alpha \\lambda_{1}} + \\frac{\\alpha^{6}}{720} e^{\\alpha \\lambda_{1}} - \\frac{\\alpha^{5}}{120} e^{\\alpha \\lambda_{1}} + \\frac{\\alpha^{4}}{24} e^{\\alpha \\lambda_{1}} - \\frac{\\alpha^{3}}{6} e^{\\alpha \\lambda_{1}} + \\frac{\\alpha^{2}}{2} e^{\\alpha \\lambda_{1}} - \\alpha e^{\\alpha \\lambda_{1}} + z^{6} \\left(- \\frac{\\alpha^{7}}{720} e^{\\alpha \\lambda_{1}} + \\frac{\\alpha^{6}}{720} e^{\\alpha \\lambda_{1}}\\right) + z^{5} \\left(\\frac{\\alpha^{7}}{240} e^{\\alpha \\lambda_{1}} - \\frac{\\alpha^{6}}{120} e^{\\alpha \\lambda_{1}} + \\frac{\\alpha^{5}}{120} e^{\\alpha \\lambda_{1}}\\right) + z^{4} \\left(- \\frac{\\alpha^{7}}{144} e^{\\alpha \\lambda_{1}} + \\frac{\\alpha^{6}}{48} e^{\\alpha \\lambda_{1}} - \\frac{\\alpha^{5}}{24} e^{\\alpha \\lambda_{1}} + \\frac{\\alpha^{4}}{24} e^{\\alpha \\lambda_{1}}\\right) + z^{3} \\left(\\frac{\\alpha^{7}}{144} e^{\\alpha \\lambda_{1}} - \\frac{\\alpha^{6}}{36} e^{\\alpha \\lambda_{1}} + \\frac{\\alpha^{5}}{12} e^{\\alpha \\lambda_{1}} - \\frac{\\alpha^{4}}{6} e^{\\alpha \\lambda_{1}} + \\frac{\\alpha^{3}}{6} e^{\\alpha \\lambda_{1}}\\right) + z^{2} \\left(- \\frac{\\alpha^{7}}{240} e^{\\alpha \\lambda_{1}} + \\frac{\\alpha^{6}}{48} e^{\\alpha \\lambda_{1}} - \\frac{\\alpha^{5}}{12} e^{\\alpha \\lambda_{1}} + \\frac{\\alpha^{4}}{4} e^{\\alpha \\lambda_{1}} - \\frac{\\alpha^{3}}{2} e^{\\alpha \\lambda_{1}} + \\frac{\\alpha^{2}}{2} e^{\\alpha \\lambda_{1}}\\right) + z \\left(\\frac{\\alpha^{7}}{720} e^{\\alpha \\lambda_{1}} - \\frac{\\alpha^{6}}{120} e^{\\alpha \\lambda_{1}} + \\frac{\\alpha^{5}}{24} e^{\\alpha \\lambda_{1}} - \\frac{\\alpha^{4}}{6} e^{\\alpha \\lambda_{1}} + \\frac{\\alpha^{3}}{2} e^{\\alpha \\lambda_{1}} - \\alpha^{2} e^{\\alpha \\lambda_{1}} + \\alpha e^{\\alpha \\lambda_{1}}\\right) + e^{\\alpha \\lambda_{1}}$$"
      ],
      "text/plain": [
       "              7  7  α⋅\\lambda[1]    7  α⋅\\lambda[1]    6  α⋅\\lambda[1]    5  α\n",
       "             α ⋅z ⋅ℯ               α ⋅ℯ               α ⋅ℯ               α ⋅ℯ \n",
       "E_{ 8 }(z) = ─────────────────── - ──────────────── + ──────────────── - ─────\n",
       "                     5040                5040               720               \n",
       "\n",
       "⋅\\lambda[1]    4  α⋅\\lambda[1]    3  α⋅\\lambda[1]    2  α⋅\\lambda[1]          \n",
       "              α ⋅ℯ               α ⋅ℯ               α ⋅ℯ                  α⋅\\l\n",
       "─────────── + ──────────────── - ──────────────── + ──────────────── - α⋅ℯ    \n",
       " 120                 24                 6                  2                  \n",
       "\n",
       "              ⎛   7  α⋅\\lambda[1]    6  α⋅\\lambda[1]⎞      ⎛ 7  α⋅\\lambda[1]  \n",
       "ambda[1]    6 ⎜  α ⋅ℯ               α ⋅ℯ            ⎟    5 ⎜α ⋅ℯ              \n",
       "         + z ⋅⎜- ──────────────── + ────────────────⎟ + z ⋅⎜──────────────── -\n",
       "              ⎝        720                720       ⎠      ⎝      240         \n",
       "\n",
       "  6  α⋅\\lambda[1]    5  α⋅\\lambda[1]⎞      ⎛   7  α⋅\\lambda[1]    6  α⋅\\lambda\n",
       " α ⋅ℯ               α ⋅ℯ            ⎟    4 ⎜  α ⋅ℯ               α ⋅ℯ         \n",
       " ──────────────── + ────────────────⎟ + z ⋅⎜- ──────────────── + ─────────────\n",
       "       120                120       ⎠      ⎝        144                 48    \n",
       "\n",
       "[1]    5  α⋅\\lambda[1]    4  α⋅\\lambda[1]⎞      ⎛ 7  α⋅\\lambda[1]    6  α⋅\\lam\n",
       "      α ⋅ℯ               α ⋅ℯ            ⎟    3 ⎜α ⋅ℯ               α ⋅ℯ      \n",
       "─── - ──────────────── + ────────────────⎟ + z ⋅⎜──────────────── - ──────────\n",
       "             24                 24       ⎠      ⎝      144                 36 \n",
       "\n",
       "bda[1]    5  α⋅\\lambda[1]    4  α⋅\\lambda[1]    3  α⋅\\lambda[1]⎞      ⎛   7  α\n",
       "         α ⋅ℯ               α ⋅ℯ               α ⋅ℯ            ⎟    2 ⎜  α ⋅ℯ \n",
       "────── + ──────────────── - ──────────────── + ────────────────⎟ + z ⋅⎜- ─────\n",
       "                12                 6                  6        ⎠      ⎝       \n",
       "\n",
       "⋅\\lambda[1]    6  α⋅\\lambda[1]    5  α⋅\\lambda[1]    4  α⋅\\lambda[1]    3  α⋅\\\n",
       "              α ⋅ℯ               α ⋅ℯ               α ⋅ℯ               α ⋅ℯ   \n",
       "─────────── + ──────────────── - ──────────────── + ──────────────── - ───────\n",
       " 240                 48                 12                 4                  \n",
       "\n",
       "lambda[1]    2  α⋅\\lambda[1]⎞     ⎛ 7  α⋅\\lambda[1]    6  α⋅\\lambda[1]    5  α\n",
       "            α ⋅ℯ            ⎟     ⎜α ⋅ℯ               α ⋅ℯ               α ⋅ℯ \n",
       "───────── + ────────────────⎟ + z⋅⎜──────────────── - ──────────────── + ─────\n",
       "2                  2        ⎠     ⎝      720                120               \n",
       "\n",
       "⋅\\lambda[1]    4  α⋅\\lambda[1]    3  α⋅\\lambda[1]                             \n",
       "              α ⋅ℯ               α ⋅ℯ                2  α⋅\\lambda[1]      α⋅\\l\n",
       "─────────── - ──────────────── + ──────────────── - α ⋅ℯ             + α⋅ℯ    \n",
       "  24                 6                  2                                     \n",
       "\n",
       "        ⎞                \n",
       "ambda[1]⎟    α⋅\\lambda[1]\n",
       "        ⎟ + ℯ            \n",
       "        ⎠                "
      ]
     },
     "execution_count": 106,
     "metadata": {},
     "output_type": "execute_result"
    }
   ],
   "source": [
    "g_expt = Hermite_interpolation_polynomial(f_expt, eigendata, Phi_polynomials)\n",
    "g_expt"
   ]
  },
  {
   "cell_type": "code",
   "execution_count": 107,
   "metadata": {
    "collapsed": false,
    "deletable": true,
    "editable": true
   },
   "outputs": [
    {
     "data": {
      "image/png": "[encoded data removed]",
      "text/latex": [
       "$$\\operatorname{E_{ 8 }}{\\left (z \\right )} = \\frac{\\alpha^{7} z^{7}}{5040} e^{\\alpha} - \\frac{\\alpha^{7} e^{\\alpha}}{5040} + \\frac{\\alpha^{6} e^{\\alpha}}{720} - \\frac{\\alpha^{5} e^{\\alpha}}{120} + \\frac{\\alpha^{4} e^{\\alpha}}{24} - \\frac{\\alpha^{3} e^{\\alpha}}{6} + \\frac{\\alpha^{2} e^{\\alpha}}{2} - \\alpha e^{\\alpha} + z^{6} \\left(- \\frac{\\alpha^{7} e^{\\alpha}}{720} + \\frac{\\alpha^{6} e^{\\alpha}}{720}\\right) + z^{5} \\left(\\frac{\\alpha^{7} e^{\\alpha}}{240} - \\frac{\\alpha^{6} e^{\\alpha}}{120} + \\frac{\\alpha^{5} e^{\\alpha}}{120}\\right) + z^{4} \\left(- \\frac{\\alpha^{7} e^{\\alpha}}{144} + \\frac{\\alpha^{6} e^{\\alpha}}{48} - \\frac{\\alpha^{5} e^{\\alpha}}{24} + \\frac{\\alpha^{4} e^{\\alpha}}{24}\\right) + z^{3} \\left(\\frac{\\alpha^{7} e^{\\alpha}}{144} - \\frac{\\alpha^{6} e^{\\alpha}}{36} + \\frac{\\alpha^{5} e^{\\alpha}}{12} - \\frac{\\alpha^{4} e^{\\alpha}}{6} + \\frac{\\alpha^{3} e^{\\alpha}}{6}\\right) + z^{2} \\left(- \\frac{\\alpha^{7} e^{\\alpha}}{240} + \\frac{\\alpha^{6} e^{\\alpha}}{48} - \\frac{\\alpha^{5} e^{\\alpha}}{12} + \\frac{\\alpha^{4} e^{\\alpha}}{4} - \\frac{\\alpha^{3} e^{\\alpha}}{2} + \\frac{\\alpha^{2} e^{\\alpha}}{2}\\right) + z \\left(\\frac{\\alpha^{7} e^{\\alpha}}{720} - \\frac{\\alpha^{6} e^{\\alpha}}{120} + \\frac{\\alpha^{5} e^{\\alpha}}{24} - \\frac{\\alpha^{4} e^{\\alpha}}{6} + \\frac{\\alpha^{3} e^{\\alpha}}{2} - \\alpha^{2} e^{\\alpha} + \\alpha e^{\\alpha}\\right) + e^{\\alpha}$$"
      ],
      "text/plain": [
       "              7  7  α    7  α    6  α    5  α    4  α    3  α    2  α         \n",
       "             α ⋅z ⋅ℯ    α ⋅ℯ    α ⋅ℯ    α ⋅ℯ    α ⋅ℯ    α ⋅ℯ    α ⋅ℯ       α  \n",
       "E_{ 8 }(z) = ──────── - ───── + ───── - ───── + ───── - ───── + ───── - α⋅ℯ  +\n",
       "               5040      5040    720     120      24      6       2           \n",
       "\n",
       "    ⎛   7  α    6  α⎞      ⎛ 7  α    6  α    5  α⎞      ⎛   7  α    6  α    5 \n",
       "  6 ⎜  α ⋅ℯ    α ⋅ℯ ⎟    5 ⎜α ⋅ℯ    α ⋅ℯ    α ⋅ℯ ⎟    4 ⎜  α ⋅ℯ    α ⋅ℯ    α ⋅\n",
       " z ⋅⎜- ───── + ─────⎟ + z ⋅⎜───── - ───── + ─────⎟ + z ⋅⎜- ───── + ───── - ───\n",
       "    ⎝   720     720 ⎠      ⎝ 240     120     120 ⎠      ⎝   144      48      2\n",
       "\n",
       " α    4  α⎞      ⎛ 7  α    6  α    5  α    4  α    3  α⎞      ⎛   7  α    6  α\n",
       "ℯ    α ⋅ℯ ⎟    3 ⎜α ⋅ℯ    α ⋅ℯ    α ⋅ℯ    α ⋅ℯ    α ⋅ℯ ⎟    2 ⎜  α ⋅ℯ    α ⋅ℯ \n",
       "── + ─────⎟ + z ⋅⎜───── - ───── + ───── - ───── + ─────⎟ + z ⋅⎜- ───── + ─────\n",
       "4      24 ⎠      ⎝ 144      36      12      6       6  ⎠      ⎝   240      48 \n",
       "\n",
       "    5  α    4  α    3  α    2  α⎞     ⎛ 7  α    6  α    5  α    4  α    3  α  \n",
       "   α ⋅ℯ    α ⋅ℯ    α ⋅ℯ    α ⋅ℯ ⎟     ⎜α ⋅ℯ    α ⋅ℯ    α ⋅ℯ    α ⋅ℯ    α ⋅ℯ   \n",
       " - ───── + ───── - ───── + ─────⎟ + z⋅⎜───── - ───── + ───── - ───── + ───── -\n",
       "     12      4       2       2  ⎠     ⎝ 720     120      24      6       2    \n",
       "\n",
       "             ⎞     \n",
       "  2  α      α⎟    α\n",
       " α ⋅ℯ  + α⋅ℯ ⎟ + ℯ \n",
       "             ⎠     "
      ]
     },
     "execution_count": 107,
     "metadata": {},
     "output_type": "execute_result"
    }
   ],
   "source": [
    "g_expt = g_expt.subs(eigenvals)\n",
    "g_expt"
   ]
  },
  {
   "cell_type": "code",
   "execution_count": 108,
   "metadata": {
    "collapsed": false,
    "deletable": true,
    "editable": true
   },
   "outputs": [
    {
     "data": {
      "image/png": "[encoded data removed]",
      "text/latex": [
       "$$\\operatorname{E_{ 8 }}{\\left (\\mathcal{P}_{ 8 } \\right )} = \\left[\\begin{matrix}e^{\\alpha} & 0 & 0 & 0 & 0 & 0 & 0 & 0\\\\\\alpha e^{\\alpha} & e^{\\alpha} & 0 & 0 & 0 & 0 & 0 & 0\\\\\\alpha \\left(\\alpha + 1\\right) e^{\\alpha} & 2 \\alpha e^{\\alpha} & e^{\\alpha} & 0 & 0 & 0 & 0 & 0\\\\\\alpha \\left(\\alpha^{2} + 3 \\alpha + 1\\right) e^{\\alpha} & 3 \\alpha \\left(\\alpha + 1\\right) e^{\\alpha} & 3 \\alpha e^{\\alpha} & e^{\\alpha} & 0 & 0 & 0 & 0\\\\\\alpha \\left(\\alpha^{3} + 6 \\alpha^{2} + 7 \\alpha + 1\\right) e^{\\alpha} & 4 \\alpha \\left(\\alpha^{2} + 3 \\alpha + 1\\right) e^{\\alpha} & 6 \\alpha \\left(\\alpha + 1\\right) e^{\\alpha} & 4 \\alpha e^{\\alpha} & e^{\\alpha} & 0 & 0 & 0\\\\\\alpha \\left(\\alpha^{4} + 10 \\alpha^{3} + 25 \\alpha^{2} + 15 \\alpha + 1\\right) e^{\\alpha} & 5 \\alpha \\left(\\alpha^{3} + 6 \\alpha^{2} + 7 \\alpha + 1\\right) e^{\\alpha} & 10 \\alpha \\left(\\alpha^{2} + 3 \\alpha + 1\\right) e^{\\alpha} & 10 \\alpha \\left(\\alpha + 1\\right) e^{\\alpha} & 5 \\alpha e^{\\alpha} & e^{\\alpha} & 0 & 0\\\\\\alpha \\left(\\alpha^{5} + 15 \\alpha^{4} + 65 \\alpha^{3} + 90 \\alpha^{2} + 31 \\alpha + 1\\right) e^{\\alpha} & 6 \\alpha \\left(\\alpha^{4} + 10 \\alpha^{3} + 25 \\alpha^{2} + 15 \\alpha + 1\\right) e^{\\alpha} & 15 \\alpha \\left(\\alpha^{3} + 6 \\alpha^{2} + 7 \\alpha + 1\\right) e^{\\alpha} & 20 \\alpha \\left(\\alpha^{2} + 3 \\alpha + 1\\right) e^{\\alpha} & 15 \\alpha \\left(\\alpha + 1\\right) e^{\\alpha} & 6 \\alpha e^{\\alpha} & e^{\\alpha} & 0\\\\\\alpha \\left(\\alpha^{6} + 21 \\alpha^{5} + 140 \\alpha^{4} + 350 \\alpha^{3} + 301 \\alpha^{2} + 63 \\alpha + 1\\right) e^{\\alpha} & 7 \\alpha \\left(\\alpha^{5} + 15 \\alpha^{4} + 65 \\alpha^{3} + 90 \\alpha^{2} + 31 \\alpha + 1\\right) e^{\\alpha} & 21 \\alpha \\left(\\alpha^{4} + 10 \\alpha^{3} + 25 \\alpha^{2} + 15 \\alpha + 1\\right) e^{\\alpha} & 35 \\alpha \\left(\\alpha^{3} + 6 \\alpha^{2} + 7 \\alpha + 1\\right) e^{\\alpha} & 35 \\alpha \\left(\\alpha^{2} + 3 \\alpha + 1\\right) e^{\\alpha} & 21 \\alpha \\left(\\alpha + 1\\right) e^{\\alpha} & 7 \\alpha e^{\\alpha} & e^{\\alpha}\\end{matrix}\\right]$$"
      ],
      "text/plain": [
       "                             ⎡                           α                    \n",
       "                             ⎢                          ℯ                     \n",
       "                             ⎢                                                \n",
       "                             ⎢                            α                   \n",
       "                             ⎢                         α⋅ℯ                    \n",
       "                             ⎢                                                \n",
       "                             ⎢                                α               \n",
       "                             ⎢                     α⋅(α + 1)⋅ℯ                \n",
       "                             ⎢                                                \n",
       "                             ⎢                    ⎛ 2          ⎞  α           \n",
       "                             ⎢                  α⋅⎝α  + 3⋅α + 1⎠⋅ℯ            \n",
       "E_{ 8 }(\\mathcal{P}_{ 8 }) = ⎢                                                \n",
       "                             ⎢                ⎛ 3      2          ⎞  α        \n",
       "                             ⎢              α⋅⎝α  + 6⋅α  + 7⋅α + 1⎠⋅ℯ         \n",
       "                             ⎢                                                \n",
       "                             ⎢           ⎛ 4       3       2           ⎞  α   \n",
       "                             ⎢         α⋅⎝α  + 10⋅α  + 25⋅α  + 15⋅α + 1⎠⋅ℯ    \n",
       "                             ⎢                                                \n",
       "                             ⎢       ⎛ 5       4       3       2           ⎞  \n",
       "                             ⎢     α⋅⎝α  + 15⋅α  + 65⋅α  + 90⋅α  + 31⋅α + 1⎠⋅ℯ\n",
       "                             ⎢                                                \n",
       "                             ⎢  ⎛ 6       5        4        3        2        \n",
       "                             ⎣α⋅⎝α  + 21⋅α  + 140⋅α  + 350⋅α  + 301⋅α  + 63⋅α \n",
       "\n",
       "                                                                              \n",
       "                               0                                            0 \n",
       "                                                                              \n",
       "                                α                                             \n",
       "                               ℯ                                            0 \n",
       "                                                                              \n",
       "                                  α                                         α \n",
       "                             2⋅α⋅ℯ                                         ℯ  \n",
       "                                                                              \n",
       "                                      α                                       \n",
       "                         3⋅α⋅(α + 1)⋅ℯ                                   3⋅α⋅ℯ\n",
       "                                                                              \n",
       "                         ⎛ 2          ⎞  α                                    \n",
       "                     4⋅α⋅⎝α  + 3⋅α + 1⎠⋅ℯ                            6⋅α⋅(α + \n",
       "                                                                              \n",
       "                      ⎛ 3      2          ⎞  α                        ⎛ 2     \n",
       "                  5⋅α⋅⎝α  + 6⋅α  + 7⋅α + 1⎠⋅ℯ                    10⋅α⋅⎝α  + 3⋅\n",
       "                                                                              \n",
       "α                ⎛ 4       3       2           ⎞  α                ⎛ 3      2 \n",
       "             6⋅α⋅⎝α  + 10⋅α  + 25⋅α  + 15⋅α + 1⎠⋅ℯ            15⋅α⋅⎝α  + 6⋅α  \n",
       "                                                                              \n",
       "   ⎞  α      ⎛ 5       4       3       2           ⎞  α       ⎛ 4       3     \n",
       "+ 1⎠⋅ℯ   7⋅α⋅⎝α  + 15⋅α  + 65⋅α  + 90⋅α  + 31⋅α + 1⎠⋅ℯ   21⋅α⋅⎝α  + 10⋅α  + 25\n",
       "\n",
       "                                                                              \n",
       "                                  0                          0                \n",
       "                                                                              \n",
       "                                                                              \n",
       "                                  0                          0                \n",
       "                                                                              \n",
       "                                                                              \n",
       "                                  0                          0                \n",
       "                                                                              \n",
       "α                                 α                                           \n",
       "                                 ℯ                           0                \n",
       "                                                                              \n",
       "    α                               α                         α               \n",
       "1)⋅ℯ                           4⋅α⋅ℯ                         ℯ                \n",
       "                                                                              \n",
       "     ⎞  α                                α                      α             \n",
       "α + 1⎠⋅ℯ                   10⋅α⋅(α + 1)⋅ℯ                  5⋅α⋅ℯ              \n",
       "                                                                              \n",
       "         ⎞  α               ⎛ 2          ⎞  α                       α         \n",
       "+ 7⋅α + 1⎠⋅ℯ           20⋅α⋅⎝α  + 3⋅α + 1⎠⋅ℯ          15⋅α⋅(α + 1)⋅ℯ          \n",
       "                                                                              \n",
       "  2           ⎞  α       ⎛ 3      2          ⎞  α       ⎛ 2          ⎞  α     \n",
       "⋅α  + 15⋅α + 1⎠⋅ℯ   35⋅α⋅⎝α  + 6⋅α  + 7⋅α + 1⎠⋅ℯ   35⋅α⋅⎝α  + 3⋅α + 1⎠⋅ℯ   21⋅\n",
       "\n",
       "                        ⎤\n",
       "    0           0     0 ⎥\n",
       "                        ⎥\n",
       "                        ⎥\n",
       "    0           0     0 ⎥\n",
       "                        ⎥\n",
       "                        ⎥\n",
       "    0           0     0 ⎥\n",
       "                        ⎥\n",
       "                        ⎥\n",
       "    0           0     0 ⎥\n",
       "                        ⎥\n",
       "                        ⎥\n",
       "    0           0     0 ⎥\n",
       "                        ⎥\n",
       "    α                   ⎥\n",
       "   ℯ            0     0 ⎥\n",
       "                        ⎥\n",
       "      α          α      ⎥\n",
       " 6⋅α⋅ℯ          ℯ     0 ⎥\n",
       "                        ⎥\n",
       "           α       α   α⎥\n",
       "α⋅(α + 1)⋅ℯ   7⋅α⋅ℯ   ℯ ⎦"
      ]
     },
     "execution_count": 108,
     "metadata": {},
     "output_type": "execute_result"
    }
   ],
   "source": [
    "with lift_to_matrix_function(g_expt) as G_expt:\n",
    "    P_expt = G_expt(P)\n",
    "P_expt"
   ]
  },
  {
   "cell_type": "code",
   "execution_count": 110,
   "metadata": {
    "collapsed": false,
    "deletable": true,
    "editable": true
   },
   "outputs": [
    {
     "data": {
      "image/png": "[encoded data removed]",
      "text/latex": [
       "$$\\left[\\begin{matrix}1 & 1 & 0 & 0 & 0 & 0 & 0\\\\1 & 1 & 1 & 0 & 0 & 0 & 0\\\\1 & 2 & 1 & 1 & 0 & 0 & 0\\\\1 & 3 & 3 & 1 & 1 & 0 & 0\\\\1 & 4 & 6 & 4 & 1 & 1 & 0\\\\1 & 5 & 10 & 10 & 5 & 1 & 1\\\\1 & 6 & 15 & 20 & 15 & 6 & 1\\end{matrix}\\right]$$"
      ],
      "text/plain": [
       "⎡1  1  0   0   0   0  0⎤\n",
       "⎢                      ⎥\n",
       "⎢1  1  1   0   0   0  0⎥\n",
       "⎢                      ⎥\n",
       "⎢1  2  1   1   0   0  0⎥\n",
       "⎢                      ⎥\n",
       "⎢1  3  3   1   1   0  0⎥\n",
       "⎢                      ⎥\n",
       "⎢1  4  6   4   1   1  0⎥\n",
       "⎢                      ⎥\n",
       "⎢1  5  10  10  5   1  1⎥\n",
       "⎢                      ⎥\n",
       "⎣1  6  15  20  15  6  1⎦"
      ]
     },
     "execution_count": 110,
     "metadata": {},
     "output_type": "execute_result"
    }
   ],
   "source": [
    "production_matrix(P_expt.rhs).subs({alpha:1})"
   ]
  },
  {
   "cell_type": "code",
   "execution_count": 111,
   "metadata": {
    "collapsed": false,
    "deletable": true,
    "editable": true
   },
   "outputs": [
    {
     "data": {
      "image/png": "[encoded data removed]",
      "text/latex": [
       "$$\\left[\\begin{matrix}1 & 1 & 0 & 0 & 0 & 0 & 0\\\\1 & 1 & 2 & 0 & 0 & 0 & 0\\\\\\frac{1}{2} & 1 & 1 & 3 & 0 & 0 & 0\\\\\\frac{1}{6} & \\frac{1}{2} & 1 & 1 & 4 & 0 & 0\\\\\\frac{1}{24} & \\frac{1}{6} & \\frac{1}{2} & 1 & 1 & 5 & 0\\\\\\frac{1}{120} & \\frac{1}{24} & \\frac{1}{6} & \\frac{1}{2} & 1 & 1 & 6\\\\\\frac{1}{720} & \\frac{1}{120} & \\frac{1}{24} & \\frac{1}{6} & \\frac{1}{2} & 1 & 1\\end{matrix}\\right]$$"
      ],
      "text/plain": [
       "⎡  1      1     0     0    0   0  0⎤\n",
       "⎢                                  ⎥\n",
       "⎢  1      1     2     0    0   0  0⎥\n",
       "⎢                                  ⎥\n",
       "⎢ 1/2     1     1     3    0   0  0⎥\n",
       "⎢                                  ⎥\n",
       "⎢ 1/6    1/2    1     1    4   0  0⎥\n",
       "⎢                                  ⎥\n",
       "⎢1/24    1/6   1/2    1    1   5  0⎥\n",
       "⎢                                  ⎥\n",
       "⎢1/120  1/24   1/6   1/2   1   1  6⎥\n",
       "⎢                                  ⎥\n",
       "⎣1/720  1/120  1/24  1/6  1/2  1  1⎦"
      ]
     },
     "execution_count": 111,
     "metadata": {},
     "output_type": "execute_result"
    }
   ],
   "source": [
    "production_matrix(P_expt.rhs, exp=True).subs({alpha:1})"
   ]
  },
  {
   "cell_type": "code",
   "execution_count": 113,
   "metadata": {
    "collapsed": false,
    "deletable": true,
    "editable": true
   },
   "outputs": [
    {
     "data": {
      "image/png": "[encoded data removed]",
      "text/latex": [
       "$$e^{\\alpha} \\left[\\begin{matrix}1 & 0 & 0 & 0 & 0 & 0 & 0 & 0\\\\\\alpha & 1 & 0 & 0 & 0 & 0 & 0 & 0\\\\\\alpha^{2} + \\alpha & 2 \\alpha & 1 & 0 & 0 & 0 & 0 & 0\\\\\\alpha^{3} + 3 \\alpha^{2} + \\alpha & 3 \\alpha^{2} + 3 \\alpha & 3 \\alpha & 1 & 0 & 0 & 0 & 0\\\\\\alpha^{4} + 6 \\alpha^{3} + 7 \\alpha^{2} + \\alpha & 4 \\alpha^{3} + 12 \\alpha^{2} + 4 \\alpha & 6 \\alpha^{2} + 6 \\alpha & 4 \\alpha & 1 & 0 & 0 & 0\\\\\\alpha^{5} + 10 \\alpha^{4} + 25 \\alpha^{3} + 15 \\alpha^{2} + \\alpha & 5 \\alpha^{4} + 30 \\alpha^{3} + 35 \\alpha^{2} + 5 \\alpha & 10 \\alpha^{3} + 30 \\alpha^{2} + 10 \\alpha & 10 \\alpha^{2} + 10 \\alpha & 5 \\alpha & 1 & 0 & 0\\\\\\alpha^{6} + 15 \\alpha^{5} + 65 \\alpha^{4} + 90 \\alpha^{3} + 31 \\alpha^{2} + \\alpha & 6 \\alpha^{5} + 60 \\alpha^{4} + 150 \\alpha^{3} + 90 \\alpha^{2} + 6 \\alpha & 15 \\alpha^{4} + 90 \\alpha^{3} + 105 \\alpha^{2} + 15 \\alpha & 20 \\alpha^{3} + 60 \\alpha^{2} + 20 \\alpha & 15 \\alpha^{2} + 15 \\alpha & 6 \\alpha & 1 & 0\\\\\\alpha^{7} + 21 \\alpha^{6} + 140 \\alpha^{5} + 350 \\alpha^{4} + 301 \\alpha^{3} + 63 \\alpha^{2} + \\alpha & 7 \\alpha^{6} + 105 \\alpha^{5} + 455 \\alpha^{4} + 630 \\alpha^{3} + 217 \\alpha^{2} + 7 \\alpha & 21 \\alpha^{5} + 210 \\alpha^{4} + 525 \\alpha^{3} + 315 \\alpha^{2} + 21 \\alpha & 35 \\alpha^{4} + 210 \\alpha^{3} + 245 \\alpha^{2} + 35 \\alpha & 35 \\alpha^{3} + 105 \\alpha^{2} + 35 \\alpha & 21 \\alpha^{2} + 21 \\alpha & 7 \\alpha & 1\\end{matrix}\\right]$$"
      ],
      "text/plain": [
       "   ⎡                        1                                                0\n",
       "   ⎢                                                                          \n",
       "   ⎢                        α                                                1\n",
       "   ⎢                                                                          \n",
       "   ⎢                      2                                                   \n",
       "   ⎢                     α  + α                                             2⋅\n",
       "   ⎢                                                                          \n",
       "   ⎢                   3      2                                             2 \n",
       "   ⎢                  α  + 3⋅α  + α                                      3⋅α  \n",
       " α ⎢                                                                          \n",
       "ℯ ⋅⎢               4      3      2                                      3     \n",
       "   ⎢              α  + 6⋅α  + 7⋅α  + α                               4⋅α  + 12\n",
       "   ⎢                                                                          \n",
       "   ⎢          5       4       3       2                             4       3 \n",
       "   ⎢         α  + 10⋅α  + 25⋅α  + 15⋅α  + α                      5⋅α  + 30⋅α  \n",
       "   ⎢                                                                          \n",
       "   ⎢      6       5       4       3       2                    5       4      \n",
       "   ⎢     α  + 15⋅α  + 65⋅α  + 90⋅α  + 31⋅α  + α             6⋅α  + 60⋅α  + 150\n",
       "   ⎢                                                                          \n",
       "   ⎢ 7       6        5        4        3       2         6        5        4 \n",
       "   ⎣α  + 21⋅α  + 140⋅α  + 350⋅α  + 301⋅α  + 63⋅α  + α  7⋅α  + 105⋅α  + 455⋅α  \n",
       "\n",
       "                                            0                                 \n",
       "                                                                              \n",
       "                                            0                                 \n",
       "                                                                              \n",
       "                                                                              \n",
       "α                                           1                                 \n",
       "                                                                              \n",
       "                                                                              \n",
       "+ 3⋅α                                      3⋅α                                \n",
       "                                                                              \n",
       "  2                                       2                                   \n",
       "⋅α  + 4⋅α                              6⋅α  + 6⋅α                             \n",
       "                                                                              \n",
       "      2                               3       2                               \n",
       "+ 35⋅α  + 5⋅α                     10⋅α  + 30⋅α  + 10⋅α                     10⋅\n",
       "                                                                              \n",
       "  3       2                       4       3        2                       3  \n",
       "⋅α  + 90⋅α  + 6⋅α             15⋅α  + 90⋅α  + 105⋅α  + 15⋅α            20⋅α  +\n",
       "                                                                              \n",
       "       3        2            5        4        3        2             4       \n",
       "+ 630⋅α  + 217⋅α  + 7⋅α  21⋅α  + 210⋅α  + 525⋅α  + 315⋅α  + 21⋅α  35⋅α  + 210⋅\n",
       "\n",
       "  0                           0                 0         0   0⎤\n",
       "                                                               ⎥\n",
       "  0                           0                 0         0   0⎥\n",
       "                                                               ⎥\n",
       "                                                               ⎥\n",
       "  0                           0                 0         0   0⎥\n",
       "                                                               ⎥\n",
       "                                                               ⎥\n",
       "  1                           0                 0         0   0⎥\n",
       "                                                               ⎥\n",
       "                                                               ⎥\n",
       " 4⋅α                          1                 0         0   0⎥\n",
       "                                                               ⎥\n",
       " 2                                                             ⎥\n",
       "α  + 10⋅α                    5⋅α                1         0   0⎥\n",
       "                                                               ⎥\n",
       "     2                      2                                  ⎥\n",
       " 60⋅α  + 20⋅α           15⋅α  + 15⋅α           6⋅α        1   0⎥\n",
       "                                                               ⎥\n",
       " 3        2             3        2             2               ⎥\n",
       "α  + 245⋅α  + 35⋅α  35⋅α  + 105⋅α  + 35⋅α  21⋅α  + 21⋅α  7⋅α  1⎦"
      ]
     },
     "execution_count": 113,
     "metadata": {},
     "output_type": "execute_result"
    }
   ],
   "source": [
    "simp_P_expt = Mul(exp(alpha), P_expt.rhs.applyfunc(lambda c: (c/exp(alpha)).expand()), evaluate=False)\n",
    "simp_P_expt"
   ]
  },
  {
   "cell_type": "code",
   "execution_count": 114,
   "metadata": {
    "collapsed": false,
    "deletable": true,
    "editable": true
   },
   "outputs": [
    {
     "data": {
      "image/png": "[encoded data removed]",
      "text/latex": [
       "$$e \\left[\\begin{matrix}1 & 0 & 0 & 0 & 0 & 0 & 0 & 0\\\\1 & 1 & 0 & 0 & 0 & 0 & 0 & 0\\\\2 & 2 & 1 & 0 & 0 & 0 & 0 & 0\\\\5 & 6 & 3 & 1 & 0 & 0 & 0 & 0\\\\15 & 20 & 12 & 4 & 1 & 0 & 0 & 0\\\\52 & 75 & 50 & 20 & 5 & 1 & 0 & 0\\\\203 & 312 & 225 & 100 & 30 & 6 & 1 & 0\\\\877 & 1421 & 1092 & 525 & 175 & 42 & 7 & 1\\end{matrix}\\right]$$"
      ],
      "text/plain": [
       "  ⎡ 1    0     0     0    0   0   0  0⎤\n",
       "  ⎢                                   ⎥\n",
       "  ⎢ 1    1     0     0    0   0   0  0⎥\n",
       "  ⎢                                   ⎥\n",
       "  ⎢ 2    2     1     0    0   0   0  0⎥\n",
       "  ⎢                                   ⎥\n",
       "  ⎢ 5    6     3     1    0   0   0  0⎥\n",
       "ℯ⋅⎢                                   ⎥\n",
       "  ⎢15    20    12    4    1   0   0  0⎥\n",
       "  ⎢                                   ⎥\n",
       "  ⎢52    75    50   20    5   1   0  0⎥\n",
       "  ⎢                                   ⎥\n",
       "  ⎢203  312   225   100  30   6   1  0⎥\n",
       "  ⎢                                   ⎥\n",
       "  ⎣877  1421  1092  525  175  42  7  1⎦"
      ]
     },
     "execution_count": 114,
     "metadata": {},
     "output_type": "execute_result"
    }
   ],
   "source": [
    "simp_P_expt.subs({alpha:1})"
   ]
  },
  {
   "cell_type": "code",
   "execution_count": 115,
   "metadata": {
    "collapsed": true,
    "deletable": true,
    "editable": true
   },
   "outputs": [],
   "source": [
    "from sympy.functions.combinatorial.numbers import stirling"
   ]
  },
  {
   "cell_type": "code",
   "execution_count": 122,
   "metadata": {
    "collapsed": false,
    "deletable": true,
    "editable": true
   },
   "outputs": [
    {
     "data": {
      "image/png": "[encoded data removed]",
      "text/latex": [
       "$$\\left ( S = \\left[\\begin{matrix}1 & 0 & 0 & 0 & 0 & 0 & 0 & 0\\\\0 & 1 & 0 & 0 & 0 & 0 & 0 & 0\\\\0 & 1 & 1 & 0 & 0 & 0 & 0 & 0\\\\0 & 1 & 3 & 1 & 0 & 0 & 0 & 0\\\\0 & 1 & 7 & 6 & 1 & 0 & 0 & 0\\\\0 & 1 & 15 & 25 & 10 & 1 & 0 & 0\\\\0 & 1 & 31 & 90 & 65 & 15 & 1 & 0\\\\0 & 1 & 63 & 301 & 350 & 140 & 21 & 1\\end{matrix}\\right], \\quad \\left[\\begin{matrix}0 & 1 & 0 & 0 & 0 & 0 & 0\\\\0 & 1 & 1 & 0 & 0 & 0 & 0\\\\0 & 0 & 2 & 1 & 0 & 0 & 0\\\\0 & 0 & 0 & 3 & 1 & 0 & 0\\\\0 & 0 & 0 & 0 & 4 & 1 & 0\\\\0 & 0 & 0 & 0 & 0 & 5 & 1\\\\0 & 0 & 0 & 0 & 0 & 0 & 6\\end{matrix}\\right], \\quad \\left[\\begin{matrix}0 & 1 & 0 & 0 & 0 & 0 & 0\\\\0 & 1 & 2 & 0 & 0 & 0 & 0\\\\0 & 0 & 2 & 3 & 0 & 0 & 0\\\\0 & 0 & 0 & 3 & 4 & 0 & 0\\\\0 & 0 & 0 & 0 & 4 & 5 & 0\\\\0 & 0 & 0 & 0 & 0 & 5 & 6\\\\0 & 0 & 0 & 0 & 0 & 0 & 6\\end{matrix}\\right]\\right )$$"
      ],
      "text/plain": [
       "⎛    ⎡1  0  0    0    0    0   0   0⎤                                         \n",
       "⎜    ⎢                              ⎥  ⎡0  1  0  0  0  0  0⎤  ⎡0  1  0  0  0  \n",
       "⎜    ⎢0  1  0    0    0    0   0   0⎥  ⎢                   ⎥  ⎢               \n",
       "⎜    ⎢                              ⎥  ⎢0  1  1  0  0  0  0⎥  ⎢0  1  2  0  0  \n",
       "⎜    ⎢0  1  1    0    0    0   0   0⎥  ⎢                   ⎥  ⎢               \n",
       "⎜    ⎢                              ⎥  ⎢0  0  2  1  0  0  0⎥  ⎢0  0  2  3  0  \n",
       "⎜    ⎢0  1  3    1    0    0   0   0⎥  ⎢                   ⎥  ⎢               \n",
       "⎜S = ⎢                              ⎥, ⎢0  0  0  3  1  0  0⎥, ⎢0  0  0  3  4  \n",
       "⎜    ⎢0  1  7    6    1    0   0   0⎥  ⎢                   ⎥  ⎢               \n",
       "⎜    ⎢                              ⎥  ⎢0  0  0  0  4  1  0⎥  ⎢0  0  0  0  4  \n",
       "⎜    ⎢0  1  15  25   10    1   0   0⎥  ⎢                   ⎥  ⎢               \n",
       "⎜    ⎢                              ⎥  ⎢0  0  0  0  0  5  1⎥  ⎢0  0  0  0  0  \n",
       "⎜    ⎢0  1  31  90   65   15   1   0⎥  ⎢                   ⎥  ⎢               \n",
       "⎜    ⎢                              ⎥  ⎣0  0  0  0  0  0  6⎦  ⎣0  0  0  0  0  \n",
       "⎝    ⎣0  1  63  301  350  140  21  1⎦                                         \n",
       "\n",
       "     ⎞\n",
       "0  0⎤⎟\n",
       "    ⎥⎟\n",
       "0  0⎥⎟\n",
       "    ⎥⎟\n",
       "0  0⎥⎟\n",
       "    ⎥⎟\n",
       "0  0⎥⎟\n",
       "    ⎥⎟\n",
       "5  0⎥⎟\n",
       "    ⎥⎟\n",
       "5  6⎥⎟\n",
       "    ⎥⎟\n",
       "0  6⎦⎟\n",
       "     ⎠"
      ]
     },
     "execution_count": 122,
     "metadata": {},
     "output_type": "execute_result"
    }
   ],
   "source": [
    "S = Matrix(m, m, lambda n,k: stirling(n,k, kind=2))\n",
    "Eq(Symbol('S'), S, evaluate=False), production_matrix(S), production_matrix(S, exp=True)"
   ]
  },
  {
   "cell_type": "code",
   "execution_count": 123,
   "metadata": {
    "collapsed": false,
    "deletable": true,
    "editable": true
   },
   "outputs": [
    {
     "data": {
      "image/png": "[encoded data removed]",
      "text/latex": [
       "$$\\left ( \\left[\\begin{matrix}1 & 0 & 0 & 0 & 0 & 0 & 0 & 0\\\\1 & 1 & 0 & 0 & 0 & 0 & 0 & 0\\\\2 & 2 & 1 & 0 & 0 & 0 & 0 & 0\\\\5 & 6 & 3 & 1 & 0 & 0 & 0 & 0\\\\15 & 20 & 12 & 4 & 1 & 0 & 0 & 0\\\\52 & 75 & 50 & 20 & 5 & 1 & 0 & 0\\\\203 & 312 & 225 & 100 & 30 & 6 & 1 & 0\\\\877 & 1421 & 1092 & 525 & 175 & 42 & 7 & 1\\end{matrix}\\right], \\quad \\left[\\begin{matrix}1 & 0 & 0 & 0 & 0 & 0 & 0 & 0\\\\1 & 1 & 0 & 0 & 0 & 0 & 0 & 0\\\\0 & 2 & 1 & 0 & 0 & 0 & 0 & 0\\\\0 & 0 & 3 & 1 & 0 & 0 & 0 & 0\\\\0 & 0 & 0 & 4 & 1 & 0 & 0 & 0\\\\0 & 0 & 0 & 0 & 5 & 1 & 0 & 0\\\\0 & 0 & 0 & 0 & 0 & 6 & 1 & 0\\\\0 & 0 & 0 & 0 & 0 & 0 & 7 & 1\\end{matrix}\\right]\\right )$$"
      ],
      "text/plain": [
       "⎛⎡ 1    0     0     0    0   0   0  0⎤  ⎡1  0  0  0  0  0  0  0⎤⎞\n",
       "⎜⎢                                   ⎥  ⎢                      ⎥⎟\n",
       "⎜⎢ 1    1     0     0    0   0   0  0⎥  ⎢1  1  0  0  0  0  0  0⎥⎟\n",
       "⎜⎢                                   ⎥  ⎢                      ⎥⎟\n",
       "⎜⎢ 2    2     1     0    0   0   0  0⎥  ⎢0  2  1  0  0  0  0  0⎥⎟\n",
       "⎜⎢                                   ⎥  ⎢                      ⎥⎟\n",
       "⎜⎢ 5    6     3     1    0   0   0  0⎥  ⎢0  0  3  1  0  0  0  0⎥⎟\n",
       "⎜⎢                                   ⎥, ⎢                      ⎥⎟\n",
       "⎜⎢15    20    12    4    1   0   0  0⎥  ⎢0  0  0  4  1  0  0  0⎥⎟\n",
       "⎜⎢                                   ⎥  ⎢                      ⎥⎟\n",
       "⎜⎢52    75    50   20    5   1   0  0⎥  ⎢0  0  0  0  5  1  0  0⎥⎟\n",
       "⎜⎢                                   ⎥  ⎢                      ⎥⎟\n",
       "⎜⎢203  312   225   100  30   6   1  0⎥  ⎢0  0  0  0  0  6  1  0⎥⎟\n",
       "⎜⎢                                   ⎥  ⎢                      ⎥⎟\n",
       "⎝⎣877  1421  1092  525  175  42  7  1⎦  ⎣0  0  0  0  0  0  7  1⎦⎠"
      ]
     },
     "execution_count": 123,
     "metadata": {},
     "output_type": "execute_result"
    }
   ],
   "source": [
    "S*P.rhs*S**(-1), S**(-1)*P.rhs*S"
   ]
  },
  {
   "cell_type": "markdown",
   "metadata": {
    "deletable": true,
    "editable": true
   },
   "source": [
    "## `log` function"
   ]
  },
  {
   "cell_type": "code",
   "execution_count": 124,
   "metadata": {
    "collapsed": false,
    "deletable": true,
    "editable": true
   },
   "outputs": [
    {
     "data": {
      "image/png": "[encoded data removed]",
      "text/latex": [
       "$$L{\\left (z \\right )} = \\log{\\left (z \\right )}$$"
      ],
      "text/plain": [
       "L(z) = log(z)"
      ]
     },
     "execution_count": 124,
     "metadata": {},
     "output_type": "execute_result"
    }
   ],
   "source": [
    "f = Function('L')\n",
    "f_log = define(let=f(z), be=log(z))\n",
    "f_log"
   ]
  },
  {
   "cell_type": "code",
   "execution_count": 125,
   "metadata": {
    "collapsed": false,
    "deletable": true,
    "editable": true
   },
   "outputs": [
    {
     "data": {
      "image/png": "[encoded data removed]",
      "text/latex": [
       "$$\\operatorname{L_{ 8 }}{\\left (z \\right )} = \\frac{z^{7}}{7 \\lambda_{1}^{7}} + z^{6} \\left(- \\frac{1}{6 \\lambda_{1}^{6}} - \\frac{1}{\\lambda_{1}^{7}}\\right) + z^{5} \\left(\\frac{1}{5 \\lambda_{1}^{5}} + \\frac{1}{\\lambda_{1}^{6}} + \\frac{3}{\\lambda_{1}^{7}}\\right) + z^{4} \\left(- \\frac{1}{4 \\lambda_{1}^{4}} - \\frac{1}{\\lambda_{1}^{5}} - \\frac{5}{2 \\lambda_{1}^{6}} - \\frac{5}{\\lambda_{1}^{7}}\\right) + z^{3} \\left(\\frac{1}{3 \\lambda_{1}^{3}} + \\frac{1}{\\lambda_{1}^{4}} + \\frac{2}{\\lambda_{1}^{5}} + \\frac{10}{3 \\lambda_{1}^{6}} + \\frac{5}{\\lambda_{1}^{7}}\\right) + z^{2} \\left(- \\frac{1}{2 \\lambda_{1}^{2}} - \\frac{1}{\\lambda_{1}^{3}} - \\frac{3}{2 \\lambda_{1}^{4}} - \\frac{2}{\\lambda_{1}^{5}} - \\frac{5}{2 \\lambda_{1}^{6}} - \\frac{3}{\\lambda_{1}^{7}}\\right) + z \\left(\\frac{1}{\\lambda_{1}} + \\frac{1}{\\lambda_{1}^{2}} + \\frac{1}{\\lambda_{1}^{3}} + \\frac{1}{\\lambda_{1}^{4}} + \\frac{1}{\\lambda_{1}^{5}} + \\frac{1}{\\lambda_{1}^{6}} + \\frac{1}{\\lambda_{1}^{7}}\\right) + \\log{\\left (\\lambda_{1} \\right )} - \\frac{1}{\\lambda_{1}} - \\frac{1}{2 \\lambda_{1}^{2}} - \\frac{1}{3 \\lambda_{1}^{3}} - \\frac{1}{4 \\lambda_{1}^{4}} - \\frac{1}{5 \\lambda_{1}^{5}} - \\frac{1}{6 \\lambda_{1}^{6}} - \\frac{1}{7 \\lambda_{1}^{7}}$$"
      ],
      "text/plain": [
       "                    7                                                         \n",
       "                   z          6 ⎛        1              1     ⎞    5 ⎛      1 \n",
       "L_{ 8 }(z) = ───────────── + z ⋅⎜- ───────────── - ───────────⎟ + z ⋅⎜────────\n",
       "                         7      ⎜              6             7⎟      ⎜        \n",
       "             7⋅\\lambda[1]       ⎝  6⋅\\lambda[1]    \\lambda[1] ⎠      ⎝5⋅\\lambd\n",
       "\n",
       "                                                                              \n",
       "             1             3     ⎞    4 ⎛        1              1             \n",
       "───── + ─────────── + ───────────⎟ + z ⋅⎜- ───────────── - ─────────── - ─────\n",
       "    5             6             7⎟      ⎜              4             5        \n",
       "a[1]    \\lambda[1]    \\lambda[1] ⎠      ⎝  4⋅\\lambda[1]    \\lambda[1]    2⋅\\la\n",
       "\n",
       "                                                                              \n",
       " 5              5     ⎞    3 ⎛      1              1             2            \n",
       "──────── - ───────────⎟ + z ⋅⎜───────────── + ─────────── + ─────────── + ────\n",
       "       6             7⎟      ⎜            3             4             5       \n",
       "mbda[1]    \\lambda[1] ⎠      ⎝3⋅\\lambda[1]    \\lambda[1]    \\lambda[1]    3⋅\\l\n",
       "\n",
       "                                                                              \n",
       "  10             5     ⎞    2 ⎛        1              1              3        \n",
       "───────── + ───────────⎟ + z ⋅⎜- ───────────── - ─────────── - ───────────── -\n",
       "        6             7⎟      ⎜              2             3               4  \n",
       "ambda[1]    \\lambda[1] ⎠      ⎝  2⋅\\lambda[1]    \\lambda[1]    2⋅\\lambda[1]   \n",
       "\n",
       "                                                                              \n",
       "      2              5              3     ⎞     ⎛    1             1          \n",
       " ─────────── - ───────────── - ───────────⎟ + z⋅⎜────────── + ─────────── + ──\n",
       "           5               6             7⎟     ⎜\\lambda[1]             2     \n",
       " \\lambda[1]    2⋅\\lambda[1]    \\lambda[1] ⎠     ⎝             \\lambda[1]    \\l\n",
       "\n",
       "                                                                              \n",
       "   1             1             1             1             1     ⎞            \n",
       "───────── + ─────────── + ─────────── + ─────────── + ───────────⎟ + log(\\lamb\n",
       "        3             4             5             6             7⎟            \n",
       "ambda[1]    \\lambda[1]    \\lambda[1]    \\lambda[1]    \\lambda[1] ⎠            \n",
       "\n",
       "                                                                              \n",
       "             1              1               1               1               1 \n",
       "da[1]) - ────────── - ───────────── - ───────────── - ───────────── - ────────\n",
       "         \\lambda[1]               2               3               4           \n",
       "                      2⋅\\lambda[1]    3⋅\\lambda[1]    4⋅\\lambda[1]    5⋅\\lambd\n",
       "\n",
       "                                     \n",
       "              1               1      \n",
       "───── - ───────────── - ─────────────\n",
       "    5               6               7\n",
       "a[1]    6⋅\\lambda[1]    7⋅\\lambda[1] "
      ]
     },
     "execution_count": 125,
     "metadata": {},
     "output_type": "execute_result"
    }
   ],
   "source": [
    "g_log = Hermite_interpolation_polynomial(f_log, eigendata, Phi_polynomials)\n",
    "g_log"
   ]
  },
  {
   "cell_type": "code",
   "execution_count": 126,
   "metadata": {
    "collapsed": false,
    "deletable": true,
    "editable": true
   },
   "outputs": [
    {
     "data": {
      "image/png": "[encoded data removed]",
      "text/latex": [
       "$$\\operatorname{L_{ 8 }}{\\left (z \\right )} = \\frac{z^{7}}{7} - \\frac{7 z^{6}}{6} + \\frac{21 z^{5}}{5} - \\frac{35 z^{4}}{4} + \\frac{35 z^{3}}{3} - \\frac{21 z^{2}}{2} + 7 z - \\frac{363}{140}$$"
      ],
      "text/plain": [
       "              7      6       5       4       3       2            \n",
       "             z    7⋅z    21⋅z    35⋅z    35⋅z    21⋅z          363\n",
       "L_{ 8 }(z) = ── - ──── + ───── - ───── + ───── - ───── + 7⋅z - ───\n",
       "             7     6       5       4       3       2           140"
      ]
     },
     "execution_count": 126,
     "metadata": {},
     "output_type": "execute_result"
    }
   ],
   "source": [
    "g_log = g_log.subs(eigenvals)\n",
    "g_log"
   ]
  },
  {
   "cell_type": "code",
   "execution_count": 127,
   "metadata": {
    "collapsed": false,
    "deletable": true,
    "editable": true
   },
   "outputs": [
    {
     "data": {
      "image/png": "[encoded data removed]",
      "text/latex": [
       "$$\\operatorname{L_{ 8 }}{\\left (\\mathcal{P}_{ 8 } \\right )} = \\left[\\begin{matrix}0 & 0 & 0 & 0 & 0 & 0 & 0 & 0\\\\1 & 0 & 0 & 0 & 0 & 0 & 0 & 0\\\\0 & 2 & 0 & 0 & 0 & 0 & 0 & 0\\\\0 & 0 & 3 & 0 & 0 & 0 & 0 & 0\\\\0 & 0 & 0 & 4 & 0 & 0 & 0 & 0\\\\0 & 0 & 0 & 0 & 5 & 0 & 0 & 0\\\\0 & 0 & 0 & 0 & 0 & 6 & 0 & 0\\\\0 & 0 & 0 & 0 & 0 & 0 & 7 & 0\\end{matrix}\\right]$$"
      ],
      "text/plain": [
       "                             ⎡0  0  0  0  0  0  0  0⎤\n",
       "                             ⎢                      ⎥\n",
       "                             ⎢1  0  0  0  0  0  0  0⎥\n",
       "                             ⎢                      ⎥\n",
       "                             ⎢0  2  0  0  0  0  0  0⎥\n",
       "                             ⎢                      ⎥\n",
       "                             ⎢0  0  3  0  0  0  0  0⎥\n",
       "L_{ 8 }(\\mathcal{P}_{ 8 }) = ⎢                      ⎥\n",
       "                             ⎢0  0  0  4  0  0  0  0⎥\n",
       "                             ⎢                      ⎥\n",
       "                             ⎢0  0  0  0  5  0  0  0⎥\n",
       "                             ⎢                      ⎥\n",
       "                             ⎢0  0  0  0  0  6  0  0⎥\n",
       "                             ⎢                      ⎥\n",
       "                             ⎣0  0  0  0  0  0  7  0⎦"
      ]
     },
     "execution_count": 127,
     "metadata": {},
     "output_type": "execute_result"
    }
   ],
   "source": [
    "with lift_to_matrix_function(g_log) as G_log:\n",
    "    P_log = G_log(P)\n",
    "P_log"
   ]
  },
  {
   "cell_type": "code",
   "execution_count": 131,
   "metadata": {
    "collapsed": false,
    "deletable": true,
    "editable": true
   },
   "outputs": [
    {
     "data": {
      "image/png": "[encoded data removed]",
      "text/latex": [
       "$$\\left ( \\left[\\begin{matrix}0 & 2 & 0 & 0 & 0 & 0\\\\0 & 0 & \\frac{3}{2} & 0 & 0 & 0\\\\0 & 0 & 0 & \\frac{4}{3} & 0 & 0\\\\0 & 0 & 0 & 0 & \\frac{5}{4} & 0\\\\0 & 0 & 0 & 0 & 0 & \\frac{6}{5}\\\\0 & 0 & 0 & 0 & 0 & 0\\end{matrix}\\right], \\quad \\left[\\begin{matrix}0 & 2 & 0 & 0 & 0 & 0\\\\0 & 0 & 3 & 0 & 0 & 0\\\\0 & 0 & 0 & 4 & 0 & 0\\\\0 & 0 & 0 & 0 & 5 & 0\\\\0 & 0 & 0 & 0 & 0 & 6\\\\0 & 0 & 0 & 0 & 0 & 0\\end{matrix}\\right]\\right )$$"
      ],
      "text/plain": [
       "⎛⎡0  2   0    0    0    0 ⎤  ⎡0  2  0  0  0  0⎤⎞\n",
       "⎜⎢                        ⎥  ⎢                ⎥⎟\n",
       "⎜⎢0  0  3/2   0    0    0 ⎥  ⎢0  0  3  0  0  0⎥⎟\n",
       "⎜⎢                        ⎥  ⎢                ⎥⎟\n",
       "⎜⎢0  0   0   4/3   0    0 ⎥  ⎢0  0  0  4  0  0⎥⎟\n",
       "⎜⎢                        ⎥, ⎢                ⎥⎟\n",
       "⎜⎢0  0   0    0   5/4   0 ⎥  ⎢0  0  0  0  5  0⎥⎟\n",
       "⎜⎢                        ⎥  ⎢                ⎥⎟\n",
       "⎜⎢0  0   0    0    0   6/5⎥  ⎢0  0  0  0  0  6⎥⎟\n",
       "⎜⎢                        ⎥  ⎢                ⎥⎟\n",
       "⎝⎣0  0   0    0    0    0 ⎦  ⎣0  0  0  0  0  0⎦⎠"
      ]
     },
     "execution_count": 131,
     "metadata": {},
     "output_type": "execute_result"
    }
   ],
   "source": [
    "production_matrix(P_log.rhs[1:,:-1]), production_matrix(P_log.rhs[1:,:-1], exp=True)"
   ]
  },
  {
   "cell_type": "markdown",
   "metadata": {
    "editable": true
   },
   "source": [
    "## `Mobius` function"
   ]
  },
  {
   "cell_type": "code",
   "execution_count": 150,
   "metadata": {
    "collapsed": false,
    "editable": true
   },
   "outputs": [
    {
     "data": {
      "image/png": "[encoded data removed]",
      "text/latex": [
       "$$M{\\left (z \\right )} = \\frac{a z + b}{c z + d}$$"
      ],
      "text/plain": [
       "       a⋅z + b\n",
       "M(z) = ───────\n",
       "       c⋅z + d"
      ]
     },
     "execution_count": 150,
     "metadata": {},
     "output_type": "execute_result"
    }
   ],
   "source": [
    "f = Function('M')\n",
    "a,b,c,d = symbols('a b c d')\n",
    "f_mobius = define(let=f(z), be=(a*z+b)/(c*z+d))\n",
    "f_mobius"
   ]
  },
  {
   "cell_type": "code",
   "execution_count": 158,
   "metadata": {
    "collapsed": false,
    "editable": true
   },
   "outputs": [],
   "source": [
    "g_mobius = Hermite_interpolation_polynomial(f_mobius, eigendata, Phi_polynomials)\n",
    "#g_mobius.simplify() # too verbose and complex to display"
   ]
  },
  {
   "cell_type": "code",
   "execution_count": 160,
   "metadata": {
    "collapsed": false,
    "editable": true
   },
   "outputs": [],
   "source": [
    "g_mobius = g_mobius.subs(eigenvals)\n",
    "#g_mobius # too verbose to show here"
   ]
  },
  {
   "cell_type": "code",
   "execution_count": 162,
   "metadata": {
    "collapsed": false,
    "editable": true
   },
   "outputs": [
    {
     "data": {
      "image/png": "[encoded data removed]",
      "text/latex": [
       "$$\\operatorname{M_{ 8 }}{\\left (\\mathcal{P}_{ 8 } \\right )} = \\left[\\begin{matrix}\\frac{a + b}{c + d} & 0 & 0 & 0 & 0 & 0 & 0 & 0\\\\\\frac{a d - b c}{c^{2} + 2 c d + d^{2}} & \\frac{a + b}{c + d} & 0 & 0 & 0 & 0 & 0 & 0\\\\\\frac{- a c d + a d^{2} + b c^{2} - b c d}{c^{3} + 3 c^{2} d + 3 c d^{2} + d^{3}} & \\frac{2 \\left(a d - b c\\right)}{c^{2} + 2 c d + d^{2}} & \\frac{a + b}{c + d} & 0 & 0 & 0 & 0 & 0\\\\\\frac{a c^{2} d - 4 a c d^{2} + a d^{3} - b c^{3} + 4 b c^{2} d - b c d^{2}}{c^{4} + 4 c^{3} d + 6 c^{2} d^{2} + 4 c d^{3} + d^{4}} & \\frac{- 3 a c d + 3 a d^{2} + 3 b c^{2} - 3 b c d}{c^{3} + 3 c^{2} d + 3 c d^{2} + d^{3}} & \\frac{3 \\left(a d - b c\\right)}{c^{2} + 2 c d + d^{2}} & \\frac{a + b}{c + d} & 0 & 0 & 0 & 0\\\\\\frac{- a c^{3} d + 11 a c^{2} d^{2} - 11 a c d^{3} + a d^{4} + b c^{4} - 11 b c^{3} d + 11 b c^{2} d^{2} - b c d^{3}}{c^{5} + 5 c^{4} d + 10 c^{3} d^{2} + 10 c^{2} d^{3} + 5 c d^{4} + d^{5}} & \\frac{4 \\left(a c^{2} d - 4 a c d^{2} + a d^{3} - b c^{3} + 4 b c^{2} d - b c d^{2}\\right)}{c^{4} + 4 c^{3} d + 6 c^{2} d^{2} + 4 c d^{3} + d^{4}} & \\frac{- 6 a c d + 6 a d^{2} + 6 b c^{2} - 6 b c d}{c^{3} + 3 c^{2} d + 3 c d^{2} + d^{3}} & \\frac{4 \\left(a d - b c\\right)}{c^{2} + 2 c d + d^{2}} & \\frac{a + b}{c + d} & 0 & 0 & 0\\\\\\frac{a c^{4} d - 26 a c^{3} d^{2} + 66 a c^{2} d^{3} - 26 a c d^{4} + a d^{5} - b c^{5} + 26 b c^{4} d - 66 b c^{3} d^{2} + 26 b c^{2} d^{3} - b c d^{4}}{c^{6} + 6 c^{5} d + 15 c^{4} d^{2} + 20 c^{3} d^{3} + 15 c^{2} d^{4} + 6 c d^{5} + d^{6}} & \\frac{- 5 a c^{3} d + 55 a c^{2} d^{2} - 55 a c d^{3} + 5 a d^{4} + 5 b c^{4} - 55 b c^{3} d + 55 b c^{2} d^{2} - 5 b c d^{3}}{c^{5} + 5 c^{4} d + 10 c^{3} d^{2} + 10 c^{2} d^{3} + 5 c d^{4} + d^{5}} & \\frac{10 \\left(a c^{2} d - 4 a c d^{2} + a d^{3} - b c^{3} + 4 b c^{2} d - b c d^{2}\\right)}{c^{4} + 4 c^{3} d + 6 c^{2} d^{2} + 4 c d^{3} + d^{4}} & \\frac{- 10 a c d + 10 a d^{2} + 10 b c^{2} - 10 b c d}{c^{3} + 3 c^{2} d + 3 c d^{2} + d^{3}} & \\frac{5 \\left(a d - b c\\right)}{c^{2} + 2 c d + d^{2}} & \\frac{a + b}{c + d} & 0 & 0\\\\\\frac{- a c^{5} d + 57 a c^{4} d^{2} - 302 a c^{3} d^{3} + 302 a c^{2} d^{4} - 57 a c d^{5} + a d^{6} + b c^{6} - 57 b c^{5} d + 302 b c^{4} d^{2} - 302 b c^{3} d^{3} + 57 b c^{2} d^{4} - b c d^{5}}{c^{7} + 7 c^{6} d + 21 c^{5} d^{2} + 35 c^{4} d^{3} + 35 c^{3} d^{4} + 21 c^{2} d^{5} + 7 c d^{6} + d^{7}} & \\frac{6 \\left(a c^{4} d - 26 a c^{3} d^{2} + 66 a c^{2} d^{3} - 26 a c d^{4} + a d^{5} - b c^{5} + 26 b c^{4} d - 66 b c^{3} d^{2} + 26 b c^{2} d^{3} - b c d^{4}\\right)}{c^{6} + 6 c^{5} d + 15 c^{4} d^{2} + 20 c^{3} d^{3} + 15 c^{2} d^{4} + 6 c d^{5} + d^{6}} & \\frac{- 15 a c^{3} d + 165 a c^{2} d^{2} - 165 a c d^{3} + 15 a d^{4} + 15 b c^{4} - 165 b c^{3} d + 165 b c^{2} d^{2} - 15 b c d^{3}}{c^{5} + 5 c^{4} d + 10 c^{3} d^{2} + 10 c^{2} d^{3} + 5 c d^{4} + d^{5}} & \\frac{20 \\left(a c^{2} d - 4 a c d^{2} + a d^{3} - b c^{3} + 4 b c^{2} d - b c d^{2}\\right)}{c^{4} + 4 c^{3} d + 6 c^{2} d^{2} + 4 c d^{3} + d^{4}} & \\frac{- 15 a c d + 15 a d^{2} + 15 b c^{2} - 15 b c d}{c^{3} + 3 c^{2} d + 3 c d^{2} + d^{3}} & \\frac{6 \\left(a d - b c\\right)}{c^{2} + 2 c d + d^{2}} & \\frac{a + b}{c + d} & 0\\\\\\frac{1}{c^{8} + 8 c^{7} d + 28 c^{6} d^{2} + 56 c^{5} d^{3} + 70 c^{4} d^{4} + 56 c^{3} d^{5} + 28 c^{2} d^{6} + 8 c d^{7} + d^{8}} \\left(a c^{6} d - 120 a c^{5} d^{2} + 1191 a c^{4} d^{3} - 2416 a c^{3} d^{4} + 1191 a c^{2} d^{5} - 120 a c d^{6} + a d^{7} - b c^{7} + 120 b c^{6} d - 1191 b c^{5} d^{2} + 2416 b c^{4} d^{3} - 1191 b c^{3} d^{4} + 120 b c^{2} d^{5} - b c d^{6}\\right) & \\frac{1}{c^{7} + 7 c^{6} d + 21 c^{5} d^{2} + 35 c^{4} d^{3} + 35 c^{3} d^{4} + 21 c^{2} d^{5} + 7 c d^{6} + d^{7}} \\left(- 7 a c^{5} d + 399 a c^{4} d^{2} - 2114 a c^{3} d^{3} + 2114 a c^{2} d^{4} - 399 a c d^{5} + 7 a d^{6} + 7 b c^{6} - 399 b c^{5} d + 2114 b c^{4} d^{2} - 2114 b c^{3} d^{3} + 399 b c^{2} d^{4} - 7 b c d^{5}\\right) & \\frac{21 \\left(a c^{4} d - 26 a c^{3} d^{2} + 66 a c^{2} d^{3} - 26 a c d^{4} + a d^{5} - b c^{5} + 26 b c^{4} d - 66 b c^{3} d^{2} + 26 b c^{2} d^{3} - b c d^{4}\\right)}{c^{6} + 6 c^{5} d + 15 c^{4} d^{2} + 20 c^{3} d^{3} + 15 c^{2} d^{4} + 6 c d^{5} + d^{6}} & \\frac{- 35 a c^{3} d + 385 a c^{2} d^{2} - 385 a c d^{3} + 35 a d^{4} + 35 b c^{4} - 385 b c^{3} d + 385 b c^{2} d^{2} - 35 b c d^{3}}{c^{5} + 5 c^{4} d + 10 c^{3} d^{2} + 10 c^{2} d^{3} + 5 c d^{4} + d^{5}} & \\frac{35 \\left(a c^{2} d - 4 a c d^{2} + a d^{3} - b c^{3} + 4 b c^{2} d - b c d^{2}\\right)}{c^{4} + 4 c^{3} d + 6 c^{2} d^{2} + 4 c d^{3} + d^{4}} & \\frac{- 21 a c d + 21 a d^{2} + 21 b c^{2} - 21 b c d}{c^{3} + 3 c^{2} d + 3 c d^{2} + d^{3}} & \\frac{7 \\left(a d - b c\\right)}{c^{2} + 2 c d + d^{2}} & \\frac{a + b}{c + d}\\end{matrix}\\right]$$"
      ],
      "text/plain": [
       "                             ⎡                                                \n",
       "                             ⎢                                                \n",
       "                             ⎢                                                \n",
       "                             ⎢                                                \n",
       "                             ⎢                                                \n",
       "                             ⎢                                                \n",
       "                             ⎢                                                \n",
       "                             ⎢                                                \n",
       "                             ⎢                                                \n",
       "                             ⎢                                                \n",
       "                             ⎢                                                \n",
       "                             ⎢                                                \n",
       "                             ⎢                                                \n",
       "                             ⎢                                                \n",
       "                             ⎢                                                \n",
       "                             ⎢                                                \n",
       "                             ⎢                                                \n",
       "                             ⎢                                                \n",
       "                             ⎢                                                \n",
       "                             ⎢                                                \n",
       "                             ⎢                                                \n",
       "                             ⎢                                                \n",
       "M_{ 8 }(\\mathcal{P}_{ 8 }) = ⎢                                              - \n",
       "                             ⎢                                              ──\n",
       "                             ⎢                                                \n",
       "                             ⎢                                                \n",
       "                             ⎢                                                \n",
       "                             ⎢                                     4          \n",
       "                             ⎢                                  a⋅c ⋅d - 26⋅a⋅\n",
       "                             ⎢                                  ──────────────\n",
       "                             ⎢                                                \n",
       "                             ⎢                                                \n",
       "                             ⎢                                                \n",
       "                             ⎢                       5           4  2         \n",
       "                             ⎢                  - a⋅c ⋅d + 57⋅a⋅c ⋅d  - 302⋅a⋅\n",
       "                             ⎢                  ──────────────────────────────\n",
       "                             ⎢                                                \n",
       "                             ⎢                                                \n",
       "                             ⎢                                                \n",
       "                             ⎢   6            5  2           4  3           3 \n",
       "                             ⎢a⋅c ⋅d - 120⋅a⋅c ⋅d  + 1191⋅a⋅c ⋅d  - 2416⋅a⋅c ⋅\n",
       "                             ⎢────────────────────────────────────────────────\n",
       "                             ⎢                                                \n",
       "                             ⎣                                               c\n",
       "\n",
       "                                    a + b                                     \n",
       "                                    ─────                                     \n",
       "                                    c + d                                     \n",
       "                                                                              \n",
       "                                  a⋅d - b⋅c                                   \n",
       "                               ───────────────                                \n",
       "                                2            2                                \n",
       "                               c  + 2⋅c⋅d + d                                 \n",
       "                                                                              \n",
       "                                    2      2                                  \n",
       "                        -a⋅c⋅d + a⋅d  + b⋅c  - b⋅c⋅d                          \n",
       "                        ────────────────────────────                          \n",
       "                          3      2          2    3                            \n",
       "                         c  + 3⋅c ⋅d + 3⋅c⋅d  + d                             \n",
       "                                                                              \n",
       "                2            2      3      3        2          2              \n",
       "             a⋅c ⋅d - 4⋅a⋅c⋅d  + a⋅d  - b⋅c  + 4⋅b⋅c ⋅d - b⋅c⋅d               \n",
       "             ───────────────────────────────────────────────────              \n",
       "                      4      3        2  2        3    4                      \n",
       "                     c  + 4⋅c ⋅d + 6⋅c ⋅d  + 4⋅c⋅d  + d                       \n",
       "                                                                              \n",
       "   3           2  2           3      4      4         3           2  2        \n",
       "a⋅c ⋅d + 11⋅a⋅c ⋅d  - 11⋅a⋅c⋅d  + a⋅d  + b⋅c  - 11⋅b⋅c ⋅d + 11⋅b⋅c ⋅d  - b⋅c⋅d\n",
       "──────────────────────────────────────────────────────────────────────────────\n",
       "                5      4         3  2       2  3        4    5                \n",
       "               c  + 5⋅c ⋅d + 10⋅c ⋅d  + 10⋅c ⋅d  + 5⋅c⋅d  + d                 \n",
       "                                                                              \n",
       " 3  2         2  3           4      5      5         4           3  2         \n",
       "c ⋅d  + 66⋅a⋅c ⋅d  - 26⋅a⋅c⋅d  + a⋅d  - b⋅c  + 26⋅b⋅c ⋅d - 66⋅b⋅c ⋅d  + 26⋅b⋅c\n",
       "──────────────────────────────────────────────────────────────────────────────\n",
       "           6      5         4  2       3  3       2  4        5    6          \n",
       "          c  + 6⋅c ⋅d + 15⋅c ⋅d  + 20⋅c ⋅d  + 15⋅c ⋅d  + 6⋅c⋅d  + d           \n",
       "                                                                              \n",
       " 3  3          2  4           5      6      6         5            4  2       \n",
       "c ⋅d  + 302⋅a⋅c ⋅d  - 57⋅a⋅c⋅d  + a⋅d  + b⋅c  - 57⋅b⋅c ⋅d + 302⋅b⋅c ⋅d  - 302⋅\n",
       "──────────────────────────────────────────────────────────────────────────────\n",
       "     7      6         5  2       4  3       3  4       2  5        6    7     \n",
       "    c  + 7⋅c ⋅d + 21⋅c ⋅d  + 35⋅c ⋅d  + 35⋅c ⋅d  + 21⋅c ⋅d  + 7⋅c⋅d  + d      \n",
       "                                                                              \n",
       " 4           2  5            6      7      7          6             5  2      \n",
       "d  + 1191⋅a⋅c ⋅d  - 120⋅a⋅c⋅d  + a⋅d  - b⋅c  + 120⋅b⋅c ⋅d - 1191⋅b⋅c ⋅d  + 241\n",
       "──────────────────────────────────────────────────────────────────────────────\n",
       "8      7         6  2       5  3       4  4       3  5       2  6        7    \n",
       "  + 8⋅c ⋅d + 28⋅c ⋅d  + 56⋅c ⋅d  + 70⋅c ⋅d  + 56⋅c ⋅d  + 28⋅c ⋅d  + 8⋅c⋅d  + d\n",
       "\n",
       "                                                                              \n",
       "                                                                              \n",
       "                                                                              \n",
       "                                                                              \n",
       "                                                                              \n",
       "                                                                              \n",
       "                                                                              \n",
       "                                                                              \n",
       "                                                                              \n",
       "                                                                              \n",
       "                                                                              \n",
       "                                                                              \n",
       "                                                                              \n",
       "                                                                              \n",
       "                                                                              \n",
       "                                                                              \n",
       "                                                                              \n",
       "                                                                              \n",
       "                                                                              \n",
       "                                                                              \n",
       "                                                                              \n",
       "3                                                                             \n",
       "                                                                              \n",
       "─                                                                             \n",
       "                                                                              \n",
       "                                                                              \n",
       "                                                                              \n",
       "2  3        4                                                                 \n",
       " ⋅d  - b⋅c⋅d                                                                  \n",
       "─────────────                                                                 \n",
       "                                                                              \n",
       "                                                                              \n",
       "                                                                              \n",
       "   3  3         2  4        5                                            ⎛   4\n",
       "b⋅c ⋅d  + 57⋅b⋅c ⋅d  - b⋅c⋅d                                           6⋅⎝a⋅c \n",
       "─────────────────────────────                                          ───────\n",
       "                                                                              \n",
       "                                                                              \n",
       "                                                                              \n",
       "     4  3           3  4          2  5        6         5            4  2     \n",
       "6⋅b⋅c ⋅d  - 1191⋅b⋅c ⋅d  + 120⋅b⋅c ⋅d  - b⋅c⋅d   - 7⋅a⋅c ⋅d + 399⋅a⋅c ⋅d  - 21\n",
       "───────────────────────────────────────────────  ─────────────────────────────\n",
       "8                                                                             \n",
       "                                                                              \n",
       "\n",
       "                                                                              \n",
       "                                               0                              \n",
       "                                                                              \n",
       "                                                                              \n",
       "                                             a + b                            \n",
       "                                             ─────                            \n",
       "                                             c + d                            \n",
       "                                                                              \n",
       "                                                                              \n",
       "                                                                              \n",
       "                                         2⋅(a⋅d - b⋅c)                        \n",
       "                                        ───────────────                       \n",
       "                                         2            2                       \n",
       "                                        c  + 2⋅c⋅d + d                        \n",
       "                                                                              \n",
       "                                             2        2                       \n",
       "                             -3⋅a⋅c⋅d + 3⋅a⋅d  + 3⋅b⋅c  - 3⋅b⋅c⋅d             \n",
       "                             ────────────────────────────────────             \n",
       "                                   3      2          2    3                   \n",
       "                                  c  + 3⋅c ⋅d + 3⋅c⋅d  + d                    \n",
       "                                                                              \n",
       "                      ⎛   2            2      3      3        2          2⎞   \n",
       "                    4⋅⎝a⋅c ⋅d - 4⋅a⋅c⋅d  + a⋅d  - b⋅c  + 4⋅b⋅c ⋅d - b⋅c⋅d ⎠   \n",
       "                    ───────────────────────────────────────────────────────   \n",
       "                               4      3        2  2        3    4             \n",
       "                              c  + 4⋅c ⋅d + 6⋅c ⋅d  + 4⋅c⋅d  + d              \n",
       "                                                                              \n",
       "          3           2  2           3        4        4         3           2\n",
       "   - 5⋅a⋅c ⋅d + 55⋅a⋅c ⋅d  - 55⋅a⋅c⋅d  + 5⋅a⋅d  + 5⋅b⋅c  - 55⋅b⋅c ⋅d + 55⋅b⋅c \n",
       "   ───────────────────────────────────────────────────────────────────────────\n",
       "                         5      4         3  2       2  3        4    5       \n",
       "                        c  + 5⋅c ⋅d + 10⋅c ⋅d  + 10⋅c ⋅d  + 5⋅c⋅d  + d        \n",
       "                                                                              \n",
       "           3  2         2  3           4      5      5         4           3  \n",
       "⋅d - 26⋅a⋅c ⋅d  + 66⋅a⋅c ⋅d  - 26⋅a⋅c⋅d  + a⋅d  - b⋅c  + 26⋅b⋅c ⋅d - 66⋅b⋅c ⋅d\n",
       "──────────────────────────────────────────────────────────────────────────────\n",
       "                    6      5         4  2       3  3       2  4        5    6 \n",
       "                   c  + 6⋅c ⋅d + 15⋅c ⋅d  + 20⋅c ⋅d  + 15⋅c ⋅d  + 6⋅c⋅d  + d  \n",
       "                                                                              \n",
       "      3  3           2  4            5        6        6          5           \n",
       "14⋅a⋅c ⋅d  + 2114⋅a⋅c ⋅d  - 399⋅a⋅c⋅d  + 7⋅a⋅d  + 7⋅b⋅c  - 399⋅b⋅c ⋅d + 2114⋅b\n",
       "──────────────────────────────────────────────────────────────────────────────\n",
       "              7      6         5  2       4  3       3  4       2  5        6 \n",
       "             c  + 7⋅c ⋅d + 21⋅c ⋅d  + 35⋅c ⋅d  + 35⋅c ⋅d  + 21⋅c ⋅d  + 7⋅c⋅d  \n",
       "\n",
       "                                                                              \n",
       "                                                                              \n",
       "                                                                              \n",
       "                                                                              \n",
       "                                                                              \n",
       "                                                                              \n",
       "                                                                              \n",
       "                                                                              \n",
       "                                                                              \n",
       "                                                                              \n",
       "                                                                              \n",
       "                                                                              \n",
       "                                                                              \n",
       "                                                                              \n",
       "                                                                              \n",
       "                                                                              \n",
       "                                                                              \n",
       "                                                                              \n",
       "                                                                              \n",
       "                                                                              \n",
       "                                                                              \n",
       "                                                                              \n",
       "                                                                              \n",
       "                                                                              \n",
       "                                                                              \n",
       "                                                                              \n",
       "                                                                              \n",
       "  2          3                                                                \n",
       "⋅d  - 5⋅b⋅c⋅d                                                              10⋅\n",
       "──────────────                                                             ───\n",
       "                                                                              \n",
       "                                                                              \n",
       "                                                                              \n",
       "2         2  3        4⎞                                      3            2  \n",
       "  + 26⋅b⋅c ⋅d  - b⋅c⋅d ⎠                              - 15⋅a⋅c ⋅d + 165⋅a⋅c ⋅d\n",
       "────────────────────────                              ────────────────────────\n",
       "                                                                              \n",
       "                                                                              \n",
       "                                                                              \n",
       "  4  2           3  3          2  4          5     ⎛   4           3  2       \n",
       "⋅c ⋅d  - 2114⋅b⋅c ⋅d  + 399⋅b⋅c ⋅d  - 7⋅b⋅c⋅d   21⋅⎝a⋅c ⋅d - 26⋅a⋅c ⋅d  + 66⋅a\n",
       "──────────────────────────────────────────────  ──────────────────────────────\n",
       "   7                                                                       6  \n",
       "+ d                                                                       c  +\n",
       "\n",
       "                                                                              \n",
       "                        0                                                     \n",
       "                                                                              \n",
       "                                                                              \n",
       "                                                                              \n",
       "                        0                                                     \n",
       "                                                                              \n",
       "                                                                              \n",
       "                                                                              \n",
       "                                                                              \n",
       "                      a + b                                                   \n",
       "                      ─────                                                   \n",
       "                      c + d                                                   \n",
       "                                                                              \n",
       "                                                                              \n",
       "                                                                              \n",
       "                  3⋅(a⋅d - b⋅c)                                               \n",
       "                 ───────────────                                              \n",
       "                  2            2                                              \n",
       "                 c  + 2⋅c⋅d + d                                               \n",
       "                                                                              \n",
       "                       2        2                                             \n",
       "       -6⋅a⋅c⋅d + 6⋅a⋅d  + 6⋅b⋅c  - 6⋅b⋅c⋅d                                   \n",
       "       ────────────────────────────────────                                   \n",
       "             3      2          2    3                                         \n",
       "            c  + 3⋅c ⋅d + 3⋅c⋅d  + d                                          \n",
       "                                                                              \n",
       "⎛   2            2      3      3        2          2⎞                         \n",
       "⎝a⋅c ⋅d - 4⋅a⋅c⋅d  + a⋅d  - b⋅c  + 4⋅b⋅c ⋅d - b⋅c⋅d ⎠                         \n",
       "─────────────────────────────────────────────────────                         \n",
       "        4      3        2  2        3    4                                    \n",
       "       c  + 4⋅c ⋅d + 6⋅c ⋅d  + 4⋅c⋅d  + d                                     \n",
       "                                                                              \n",
       "2            3         4         4          3            2  2           3     \n",
       "  - 165⋅a⋅c⋅d  + 15⋅a⋅d  + 15⋅b⋅c  - 165⋅b⋅c ⋅d + 165⋅b⋅c ⋅d  - 15⋅b⋅c⋅d      \n",
       "─────────────────────────────────────────────────────────────────────────     \n",
       "  5      4         3  2       2  3        4    5                              \n",
       " c  + 5⋅c ⋅d + 10⋅c ⋅d  + 10⋅c ⋅d  + 5⋅c⋅d  + d                               \n",
       "                                                                              \n",
       "  2  3           4      5      5         4           3  2         2  3        \n",
       "⋅c ⋅d  - 26⋅a⋅c⋅d  + a⋅d  - b⋅c  + 26⋅b⋅c ⋅d - 66⋅b⋅c ⋅d  + 26⋅b⋅c ⋅d  - b⋅c⋅d\n",
       "──────────────────────────────────────────────────────────────────────────────\n",
       "    5         4  2       3  3       2  4        5    6                        \n",
       " 6⋅c ⋅d + 15⋅c ⋅d  + 20⋅c ⋅d  + 15⋅c ⋅d  + 6⋅c⋅d  + d                         \n",
       "\n",
       "                                                                              \n",
       "                                                    0                         \n",
       "                                                                              \n",
       "                                                                              \n",
       "                                                                              \n",
       "                                                    0                         \n",
       "                                                                              \n",
       "                                                                              \n",
       "                                                                              \n",
       "                                                                              \n",
       "                                                                              \n",
       "                                                    0                         \n",
       "                                                                              \n",
       "                                                                              \n",
       "                                                                              \n",
       "                                                                              \n",
       "                                                  a + b                       \n",
       "                                                  ─────                       \n",
       "                                                  c + d                       \n",
       "                                                                              \n",
       "                                                                              \n",
       "                                                                              \n",
       "                                              4⋅(a⋅d - b⋅c)                   \n",
       "                                             ───────────────                  \n",
       "                                              2            2                  \n",
       "                                             c  + 2⋅c⋅d + d                   \n",
       "                                                                              \n",
       "                                                  2         2                 \n",
       "                                -10⋅a⋅c⋅d + 10⋅a⋅d  + 10⋅b⋅c  - 10⋅b⋅c⋅d      \n",
       "                                ────────────────────────────────────────      \n",
       "                                        3      2          2    3              \n",
       "                                       c  + 3⋅c ⋅d + 3⋅c⋅d  + d               \n",
       "                                                                              \n",
       "                           ⎛   2            2      3      3        2          \n",
       "                        20⋅⎝a⋅c ⋅d - 4⋅a⋅c⋅d  + a⋅d  - b⋅c  + 4⋅b⋅c ⋅d - b⋅c⋅d\n",
       "                        ──────────────────────────────────────────────────────\n",
       "                                   4      3        2  2        3    4         \n",
       "                                  c  + 4⋅c ⋅d + 6⋅c ⋅d  + 4⋅c⋅d  + d          \n",
       "                                                                              \n",
       "4⎞          3            2  2            3         4         4          3     \n",
       " ⎠  - 35⋅a⋅c ⋅d + 385⋅a⋅c ⋅d  - 385⋅a⋅c⋅d  + 35⋅a⋅d  + 35⋅b⋅c  - 385⋅b⋅c ⋅d + \n",
       "──  ──────────────────────────────────────────────────────────────────────────\n",
       "                              5      4         3  2       2  3        4    5  \n",
       "                             c  + 5⋅c ⋅d + 10⋅c ⋅d  + 10⋅c ⋅d  + 5⋅c⋅d  + d   \n",
       "\n",
       "                                                                              \n",
       "                                                    0                         \n",
       "                                                                              \n",
       "                                                                              \n",
       "                                                                              \n",
       "                                                    0                         \n",
       "                                                                              \n",
       "                                                                              \n",
       "                                                                              \n",
       "                                                                              \n",
       "                                                                              \n",
       "                                                    0                         \n",
       "                                                                              \n",
       "                                                                              \n",
       "                                                                              \n",
       "                                                                              \n",
       "                                                                              \n",
       "                                                    0                         \n",
       "                                                                              \n",
       "                                                                              \n",
       "                                                                              \n",
       "                                                                              \n",
       "                                                  a + b                       \n",
       "                                                  ─────                       \n",
       "                                                  c + d                       \n",
       "                                                                              \n",
       "                                                                              \n",
       "                                                                              \n",
       "                                              5⋅(a⋅d - b⋅c)                   \n",
       "                                             ───────────────                  \n",
       "                                              2            2                  \n",
       "                                             c  + 2⋅c⋅d + d                   \n",
       "                                                                              \n",
       "2⎞                                                 2         2                \n",
       " ⎠                               -15⋅a⋅c⋅d + 15⋅a⋅d  + 15⋅b⋅c  - 15⋅b⋅c⋅d     \n",
       "──                               ────────────────────────────────────────     \n",
       "                                         3      2          2    3             \n",
       "                                        c  + 3⋅c ⋅d + 3⋅c⋅d  + d              \n",
       "                                                                              \n",
       "       2  2           3     ⎛   2            2      3      3        2         \n",
       "385⋅b⋅c ⋅d  - 35⋅b⋅c⋅d   35⋅⎝a⋅c ⋅d - 4⋅a⋅c⋅d  + a⋅d  - b⋅c  + 4⋅b⋅c ⋅d - b⋅c⋅\n",
       "───────────────────────  ─────────────────────────────────────────────────────\n",
       "                                    4      3        2  2        3    4        \n",
       "                                   c  + 4⋅c ⋅d + 6⋅c ⋅d  + 4⋅c⋅d  + d         \n",
       "\n",
       "                                                                     ⎤\n",
       "                        0                             0           0  ⎥\n",
       "                                                                     ⎥\n",
       "                                                                     ⎥\n",
       "                                                                     ⎥\n",
       "                        0                             0           0  ⎥\n",
       "                                                                     ⎥\n",
       "                                                                     ⎥\n",
       "                                                                     ⎥\n",
       "                                                                     ⎥\n",
       "                                                                     ⎥\n",
       "                        0                             0           0  ⎥\n",
       "                                                                     ⎥\n",
       "                                                                     ⎥\n",
       "                                                                     ⎥\n",
       "                                                                     ⎥\n",
       "                                                                     ⎥\n",
       "                        0                             0           0  ⎥\n",
       "                                                                     ⎥\n",
       "                                                                     ⎥\n",
       "                                                                     ⎥\n",
       "                                                                     ⎥\n",
       "                                                                     ⎥\n",
       "                        0                             0           0  ⎥\n",
       "                                                                     ⎥\n",
       "                                                                     ⎥\n",
       "                                                                     ⎥\n",
       "                                                                     ⎥\n",
       "                      a + b                                          ⎥\n",
       "                      ─────                           0           0  ⎥\n",
       "                      c + d                                          ⎥\n",
       "                                                                     ⎥\n",
       "                                                                     ⎥\n",
       "                                                                     ⎥\n",
       "                  6⋅(a⋅d - b⋅c)                     a + b            ⎥\n",
       "                 ───────────────                    ─────         0  ⎥\n",
       "                  2            2                    c + d            ⎥\n",
       "                 c  + 2⋅c⋅d + d                                      ⎥\n",
       "                                                                     ⎥\n",
       " 2⎞                    2         2                                   ⎥\n",
       "d ⎠  -21⋅a⋅c⋅d + 21⋅a⋅d  + 21⋅b⋅c  - 21⋅b⋅c⋅d   7⋅(a⋅d - b⋅c)   a + b⎥\n",
       "───  ────────────────────────────────────────  ───────────────  ─────⎥\n",
       "             3      2          2    3           2            2  c + d⎥\n",
       "            c  + 3⋅c ⋅d + 3⋅c⋅d  + d           c  + 2⋅c⋅d + d        ⎦"
      ]
     },
     "execution_count": 162,
     "metadata": {},
     "output_type": "execute_result"
    }
   ],
   "source": [
    "with lift_to_matrix_function(g_mobius) as G_mobius:\n",
    "    m_mobius = G_mobius(P)\n",
    "\n",
    "m_mobius"
   ]
  },
  {
   "cell_type": "markdown",
   "metadata": {
    "deletable": true,
    "editable": true
   },
   "source": [
    "## `sin` function"
   ]
  },
  {
   "cell_type": "code",
   "execution_count": 132,
   "metadata": {
    "collapsed": false,
    "deletable": true,
    "editable": true
   },
   "outputs": [
    {
     "data": {
      "image/png": "[encoded data removed]",
      "text/latex": [
       "$$S{\\left (z \\right )} = \\sin{\\left (z \\right )}$$"
      ],
      "text/plain": [
       "S(z) = sin(z)"
      ]
     },
     "execution_count": 132,
     "metadata": {},
     "output_type": "execute_result"
    }
   ],
   "source": [
    "f = Function('S')\n",
    "f_sin = define(let=f(z), be=sin(z))\n",
    "f_sin"
   ]
  },
  {
   "cell_type": "code",
   "execution_count": 133,
   "metadata": {
    "collapsed": false,
    "deletable": true,
    "editable": true
   },
   "outputs": [
    {
     "data": {
      "image/png": "[encoded data removed]",
      "text/latex": [
       "$$\\operatorname{S_{ 8 }}{\\left (z \\right )} = - \\frac{z^{7}}{5040} \\cos{\\left (\\lambda_{1} \\right )} + z^{6} \\left(- \\frac{1}{720} \\sin{\\left (\\lambda_{1} \\right )} + \\frac{1}{720} \\cos{\\left (\\lambda_{1} \\right )}\\right) + z^{5} \\left(\\frac{1}{120} \\sin{\\left (\\lambda_{1} \\right )} + \\frac{1}{240} \\cos{\\left (\\lambda_{1} \\right )}\\right) + z^{4} \\left(\\frac{1}{48} \\sin{\\left (\\lambda_{1} \\right )} - \\frac{5}{144} \\cos{\\left (\\lambda_{1} \\right )}\\right) + z^{3} \\left(- \\frac{5}{36} \\sin{\\left (\\lambda_{1} \\right )} - \\frac{13}{144} \\cos{\\left (\\lambda_{1} \\right )}\\right) + z^{2} \\left(- \\frac{13}{48} \\sin{\\left (\\lambda_{1} \\right )} + \\frac{101}{240} \\cos{\\left (\\lambda_{1} \\right )}\\right) + z \\left(\\frac{101}{120} \\sin{\\left (\\lambda_{1} \\right )} + \\frac{389}{720} \\cos{\\left (\\lambda_{1} \\right )}\\right) + \\frac{389}{720} \\sin{\\left (\\lambda_{1} \\right )} - \\frac{4241}{5040} \\cos{\\left (\\lambda_{1} \\right )}$$"
      ],
      "text/plain": [
       "                7                                                             \n",
       "               z ⋅cos(\\lambda[1])    6 ⎛  sin(\\lambda[1])   cos(\\lambda[1])⎞  \n",
       "S_{ 8 }(z) = - ────────────────── + z ⋅⎜- ─────────────── + ───────────────⎟ +\n",
       "                      5040             ⎝        720               720      ⎠  \n",
       "\n",
       "                                                                              \n",
       "  5 ⎛sin(\\lambda[1])   cos(\\lambda[1])⎞    4 ⎛sin(\\lambda[1])   5⋅cos(\\lambda[\n",
       " z ⋅⎜─────────────── + ───────────────⎟ + z ⋅⎜─────────────── - ──────────────\n",
       "    ⎝      120               240      ⎠      ⎝       48                144    \n",
       "\n",
       "                                                                              \n",
       "1])⎞    3 ⎛  5⋅sin(\\lambda[1])   13⋅cos(\\lambda[1])⎞    2 ⎛  13⋅sin(\\lambda[1]\n",
       "───⎟ + z ⋅⎜- ───────────────── - ──────────────────⎟ + z ⋅⎜- ─────────────────\n",
       "   ⎠      ⎝          36                 144        ⎠      ⎝          48       \n",
       "\n",
       "                                                                              \n",
       ")   101⋅cos(\\lambda[1])⎞     ⎛101⋅sin(\\lambda[1])   389⋅cos(\\lambda[1])⎞   389\n",
       "─ + ───────────────────⎟ + z⋅⎜─────────────────── + ───────────────────⎟ + ───\n",
       "            240        ⎠     ⎝        120                   720        ⎠      \n",
       "\n",
       "                                       \n",
       "⋅sin(\\lambda[1])   4241⋅cos(\\lambda[1])\n",
       "──────────────── - ────────────────────\n",
       "     720                   5040        "
      ]
     },
     "execution_count": 133,
     "metadata": {},
     "output_type": "execute_result"
    }
   ],
   "source": [
    "g_sin = Hermite_interpolation_polynomial(f_sin, eigendata, Phi_polynomials)\n",
    "g_sin"
   ]
  },
  {
   "cell_type": "code",
   "execution_count": 137,
   "metadata": {
    "collapsed": false,
    "deletable": true,
    "editable": true
   },
   "outputs": [
    {
     "data": {
      "image/png": "[encoded data removed]",
      "text/latex": [
       "$$\\operatorname{S_{ 8 }}{\\left (z \\right )} = - \\frac{z^{7}}{5040} \\cos{\\left (1 \\right )} + z^{6} \\left(- \\frac{1}{720} \\sin{\\left (1 \\right )} + \\frac{1}{720} \\cos{\\left (1 \\right )}\\right) + z^{5} \\left(\\frac{1}{240} \\cos{\\left (1 \\right )} + \\frac{1}{120} \\sin{\\left (1 \\right )}\\right) + z^{4} \\left(- \\frac{5}{144} \\cos{\\left (1 \\right )} + \\frac{1}{48} \\sin{\\left (1 \\right )}\\right) + z^{3} \\left(- \\frac{5}{36} \\sin{\\left (1 \\right )} - \\frac{13}{144} \\cos{\\left (1 \\right )}\\right) + z^{2} \\left(- \\frac{13}{48} \\sin{\\left (1 \\right )} + \\frac{101}{240} \\cos{\\left (1 \\right )}\\right) + z \\left(\\frac{389}{720} \\cos{\\left (1 \\right )} + \\frac{101}{120} \\sin{\\left (1 \\right )}\\right) - \\frac{4241}{5040} \\cos{\\left (1 \\right )} + \\frac{389}{720} \\sin{\\left (1 \\right )}$$"
      ],
      "text/plain": [
       "                7                                                             \n",
       "               z ⋅cos(1)    6 ⎛  sin(1)   cos(1)⎞    5 ⎛cos(1)   sin(1)⎞    4 \n",
       "S_{ 8 }(z) = - ───────── + z ⋅⎜- ────── + ──────⎟ + z ⋅⎜────── + ──────⎟ + z ⋅\n",
       "                  5040        ⎝   720      720  ⎠      ⎝ 240      120  ⎠      \n",
       "\n",
       "                                                                              \n",
       "⎛  5⋅cos(1)   sin(1)⎞    3 ⎛  5⋅sin(1)   13⋅cos(1)⎞    2 ⎛  13⋅sin(1)   101⋅co\n",
       "⎜- ──────── + ──────⎟ + z ⋅⎜- ──────── - ─────────⎟ + z ⋅⎜- ───────── + ──────\n",
       "⎝    144        48  ⎠      ⎝     36         144   ⎠      ⎝      48         240\n",
       "\n",
       "                                                              \n",
       "s(1)⎞     ⎛389⋅cos(1)   101⋅sin(1)⎞   4241⋅cos(1)   389⋅sin(1)\n",
       "────⎟ + z⋅⎜────────── + ──────────⎟ - ─────────── + ──────────\n",
       "    ⎠     ⎝   720          120    ⎠       5040         720    "
      ]
     },
     "execution_count": 137,
     "metadata": {},
     "output_type": "execute_result"
    }
   ],
   "source": [
    "g_sin = g_sin.subs(eigenvals)\n",
    "g_sin#, g_sin.trigsimp(), g_sin.simplify()"
   ]
  },
  {
   "cell_type": "code",
   "execution_count": 140,
   "metadata": {
    "collapsed": false,
    "deletable": true,
    "editable": true
   },
   "outputs": [
    {
     "data": {
      "image/png": "[encoded data removed]",
      "text/latex": [
       "$$\\operatorname{S_{ 8 }}{\\left (\\mathcal{P}_{ 8 } \\right )} = \\left[\\begin{matrix}\\sin{\\left (1 \\right )} & 0 & 0 & 0 & 0 & 0 & 0 & 0\\\\\\cos{\\left (1 \\right )} & \\sin{\\left (1 \\right )} & 0 & 0 & 0 & 0 & 0 & 0\\\\- \\sin{\\left (1 \\right )} + \\cos{\\left (1 \\right )} & 2 \\cos{\\left (1 \\right )} & \\sin{\\left (1 \\right )} & 0 & 0 & 0 & 0 & 0\\\\- 3 \\sin{\\left (1 \\right )} & 3 \\sqrt{2} \\cos{\\left (\\frac{\\pi}{4} + 1 \\right )} & 3 \\cos{\\left (1 \\right )} & \\sin{\\left (1 \\right )} & 0 & 0 & 0 & 0\\\\- 6 \\sin{\\left (1 \\right )} - 5 \\cos{\\left (1 \\right )} & - 12 \\sin{\\left (1 \\right )} & 6 \\sqrt{2} \\cos{\\left (\\frac{\\pi}{4} + 1 \\right )} & 4 \\cos{\\left (1 \\right )} & \\sin{\\left (1 \\right )} & 0 & 0 & 0\\\\- 23 \\cos{\\left (1 \\right )} - 5 \\sin{\\left (1 \\right )} & - 30 \\sin{\\left (1 \\right )} - 25 \\cos{\\left (1 \\right )} & - 30 \\sin{\\left (1 \\right )} & 10 \\sqrt{2} \\cos{\\left (\\frac{\\pi}{4} + 1 \\right )} & 5 \\cos{\\left (1 \\right )} & \\sin{\\left (1 \\right )} & 0 & 0\\\\- 74 \\cos{\\left (1 \\right )} + 33 \\sin{\\left (1 \\right )} & - 138 \\cos{\\left (1 \\right )} - 30 \\sin{\\left (1 \\right )} & - 90 \\sin{\\left (1 \\right )} - 75 \\cos{\\left (1 \\right )} & - 60 \\sin{\\left (1 \\right )} & 15 \\sqrt{2} \\cos{\\left (\\frac{\\pi}{4} + 1 \\right )} & 6 \\cos{\\left (1 \\right )} & \\sin{\\left (1 \\right )} & 0\\\\- 161 \\cos{\\left (1 \\right )} + 266 \\sin{\\left (1 \\right )} & - 518 \\cos{\\left (1 \\right )} + 231 \\sin{\\left (1 \\right )} & - 483 \\cos{\\left (1 \\right )} - 105 \\sin{\\left (1 \\right )} & - 210 \\sin{\\left (1 \\right )} - 175 \\cos{\\left (1 \\right )} & - 105 \\sin{\\left (1 \\right )} & 21 \\sqrt{2} \\cos{\\left (\\frac{\\pi}{4} + 1 \\right )} & 7 \\cos{\\left (1 \\right )} & \\sin{\\left (1 \\right )}\\end{matrix}\\right]$$"
      ],
      "text/plain": [
       "                             ⎡         sin(1)                      0          \n",
       "                             ⎢                                                \n",
       "                             ⎢         cos(1)                    sin(1)       \n",
       "                             ⎢                                                \n",
       "                             ⎢    -sin(1) + cos(1)              2⋅cos(1)      \n",
       "                             ⎢                                                \n",
       "                             ⎢                                      ⎛π    ⎞   \n",
       "                             ⎢       -3⋅sin(1)              3⋅√2⋅cos⎜─ + 1⎟   \n",
       "                             ⎢                                      ⎝4    ⎠   \n",
       "                             ⎢                                                \n",
       "                             ⎢                                                \n",
       "                             ⎢  -6⋅sin(1) - 5⋅cos(1)           -12⋅sin(1)     \n",
       "S_{ 8 }(\\mathcal{P}_{ 8 }) = ⎢                                                \n",
       "                             ⎢                                                \n",
       "                             ⎢                                                \n",
       "                             ⎢ -23⋅cos(1) - 5⋅sin(1)     -30⋅sin(1) - 25⋅cos(1\n",
       "                             ⎢                                                \n",
       "                             ⎢                                                \n",
       "                             ⎢                                                \n",
       "                             ⎢ -74⋅cos(1) + 33⋅sin(1)   -138⋅cos(1) - 30⋅sin(1\n",
       "                             ⎢                                                \n",
       "                             ⎢                                                \n",
       "                             ⎢                                                \n",
       "                             ⎢-161⋅cos(1) + 266⋅sin(1)  -518⋅cos(1) + 231⋅sin(\n",
       "                             ⎣                                                \n",
       "\n",
       "               0                         0                     0              \n",
       "                                                                              \n",
       "               0                         0                     0              \n",
       "                                                                              \n",
       "             sin(1)                      0                     0              \n",
       "                                                                              \n",
       "                                                                              \n",
       "            3⋅cos(1)                   sin(1)                  0              \n",
       "                                                                              \n",
       "                                                                              \n",
       "                ⎛π    ⎞                                                       \n",
       "        6⋅√2⋅cos⎜─ + 1⎟               4⋅cos(1)               sin(1)           \n",
       "                ⎝4    ⎠                                                       \n",
       "                                                                              \n",
       "                                           ⎛π    ⎞                            \n",
       ")          -30⋅sin(1)             10⋅√2⋅cos⎜─ + 1⎟          5⋅cos(1)          \n",
       "                                           ⎝4    ⎠                            \n",
       "                                                                              \n",
       "                                                                 ⎛π    ⎞      \n",
       ")    -90⋅sin(1) - 75⋅cos(1)          -60⋅sin(1)         15⋅√2⋅cos⎜─ + 1⎟      \n",
       "                                                                 ⎝4    ⎠      \n",
       "                                                                              \n",
       "                                                                              \n",
       "1)  -483⋅cos(1) - 105⋅sin(1)  -210⋅sin(1) - 175⋅cos(1)    -105⋅sin(1)     21⋅√\n",
       "                                                                              \n",
       "\n",
       "   0             0        0   ⎤\n",
       "                              ⎥\n",
       "   0             0        0   ⎥\n",
       "                              ⎥\n",
       "   0             0        0   ⎥\n",
       "                              ⎥\n",
       "                              ⎥\n",
       "   0             0        0   ⎥\n",
       "                              ⎥\n",
       "                              ⎥\n",
       "                              ⎥\n",
       "   0             0        0   ⎥\n",
       "                              ⎥\n",
       "                              ⎥\n",
       "                              ⎥\n",
       " sin(1)          0        0   ⎥\n",
       "                              ⎥\n",
       "                              ⎥\n",
       "                              ⎥\n",
       "6⋅cos(1)       sin(1)     0   ⎥\n",
       "                              ⎥\n",
       "                              ⎥\n",
       "     ⎛π    ⎞                  ⎥\n",
       "2⋅cos⎜─ + 1⎟  7⋅cos(1)  sin(1)⎥\n",
       "     ⎝4    ⎠                  ⎦"
      ]
     },
     "execution_count": 140,
     "metadata": {},
     "output_type": "execute_result"
    }
   ],
   "source": [
    "with lift_to_matrix_function(g_sin) as G_sin:\n",
    "    P_sin = G_sin(P)\n",
    "    \n",
    "P_sin"
   ]
  },
  {
   "cell_type": "code",
   "execution_count": null,
   "metadata": {
    "collapsed": false,
    "deletable": true,
    "editable": true
   },
   "outputs": [],
   "source": [
    "production_matrix(P_sin.rhs).applyfunc(simplify) # takes long to evaluate"
   ]
  },
  {
   "cell_type": "markdown",
   "metadata": {
    "deletable": true,
    "editable": true
   },
   "source": [
    "## `cos` function"
   ]
  },
  {
   "cell_type": "code",
   "execution_count": 142,
   "metadata": {
    "collapsed": false,
    "deletable": true,
    "editable": true
   },
   "outputs": [
    {
     "data": {
      "image/png": "[encoded data removed]",
      "text/latex": [
       "$$C{\\left (z \\right )} = \\cos{\\left (z \\right )}$$"
      ],
      "text/plain": [
       "C(z) = cos(z)"
      ]
     },
     "execution_count": 142,
     "metadata": {},
     "output_type": "execute_result"
    }
   ],
   "source": [
    "f = Function('C')\n",
    "f_cos = define(let=f(z), be=cos(z))\n",
    "f_cos"
   ]
  },
  {
   "cell_type": "code",
   "execution_count": 143,
   "metadata": {
    "collapsed": false,
    "deletable": true,
    "editable": true
   },
   "outputs": [
    {
     "data": {
      "image/png": "[encoded data removed]",
      "text/latex": [
       "$$\\operatorname{C_{ 8 }}{\\left (z \\right )} = \\frac{z^{7}}{5040} \\sin{\\left (\\lambda_{1} \\right )} + z^{6} \\left(- \\frac{1}{720} \\sin{\\left (\\lambda_{1} \\right )} - \\frac{1}{720} \\cos{\\left (\\lambda_{1} \\right )}\\right) + z^{5} \\left(- \\frac{1}{240} \\sin{\\left (\\lambda_{1} \\right )} + \\frac{1}{120} \\cos{\\left (\\lambda_{1} \\right )}\\right) + z^{4} \\left(\\frac{5}{144} \\sin{\\left (\\lambda_{1} \\right )} + \\frac{1}{48} \\cos{\\left (\\lambda_{1} \\right )}\\right) + z^{3} \\left(\\frac{13}{144} \\sin{\\left (\\lambda_{1} \\right )} - \\frac{5}{36} \\cos{\\left (\\lambda_{1} \\right )}\\right) + z^{2} \\left(- \\frac{101}{240} \\sin{\\left (\\lambda_{1} \\right )} - \\frac{13}{48} \\cos{\\left (\\lambda_{1} \\right )}\\right) + z \\left(- \\frac{389}{720} \\sin{\\left (\\lambda_{1} \\right )} + \\frac{101}{120} \\cos{\\left (\\lambda_{1} \\right )}\\right) + \\frac{4241}{5040} \\sin{\\left (\\lambda_{1} \\right )} + \\frac{389}{720} \\cos{\\left (\\lambda_{1} \\right )}$$"
      ],
      "text/plain": [
       "              7                                                               \n",
       "             z ⋅sin(\\lambda[1])    6 ⎛  sin(\\lambda[1])   cos(\\lambda[1])⎞    \n",
       "C_{ 8 }(z) = ────────────────── + z ⋅⎜- ─────────────── - ───────────────⎟ + z\n",
       "                    5040             ⎝        720               720      ⎠    \n",
       "\n",
       "                                                                              \n",
       "5 ⎛  sin(\\lambda[1])   cos(\\lambda[1])⎞    4 ⎛5⋅sin(\\lambda[1])   cos(\\lambda[\n",
       " ⋅⎜- ─────────────── + ───────────────⎟ + z ⋅⎜───────────────── + ────────────\n",
       "  ⎝        240               120      ⎠      ⎝       144                 48   \n",
       "\n",
       "                                                                              \n",
       "1])⎞    3 ⎛13⋅sin(\\lambda[1])   5⋅cos(\\lambda[1])⎞    2 ⎛  101⋅sin(\\lambda[1])\n",
       "───⎟ + z ⋅⎜────────────────── - ─────────────────⎟ + z ⋅⎜- ───────────────────\n",
       "   ⎠      ⎝       144                   36       ⎠      ⎝          240        \n",
       "\n",
       "                                                                              \n",
       "   13⋅cos(\\lambda[1])⎞     ⎛  389⋅sin(\\lambda[1])   101⋅cos(\\lambda[1])⎞   424\n",
       " - ──────────────────⎟ + z⋅⎜- ─────────────────── + ───────────────────⎟ + ───\n",
       "           48        ⎠     ⎝          720                   120        ⎠      \n",
       "\n",
       "                                       \n",
       "1⋅sin(\\lambda[1])   389⋅cos(\\lambda[1])\n",
       "───────────────── + ───────────────────\n",
       "     5040                   720        "
      ]
     },
     "execution_count": 143,
     "metadata": {},
     "output_type": "execute_result"
    }
   ],
   "source": [
    "g_cos = Hermite_interpolation_polynomial(f_cos, eigendata, Phi_polynomials)\n",
    "g_cos"
   ]
  },
  {
   "cell_type": "code",
   "execution_count": 144,
   "metadata": {
    "collapsed": false,
    "deletable": true,
    "editable": true
   },
   "outputs": [
    {
     "data": {
      "image/png": "[encoded data removed]",
      "text/latex": [
       "$$\\operatorname{C_{ 8 }}{\\left (z \\right )} = \\frac{z^{7}}{5040} \\sin{\\left (1 \\right )} + z^{6} \\left(- \\frac{1}{720} \\sin{\\left (1 \\right )} - \\frac{1}{720} \\cos{\\left (1 \\right )}\\right) + z^{5} \\left(- \\frac{1}{240} \\sin{\\left (1 \\right )} + \\frac{1}{120} \\cos{\\left (1 \\right )}\\right) + z^{4} \\left(\\frac{1}{48} \\cos{\\left (1 \\right )} + \\frac{5}{144} \\sin{\\left (1 \\right )}\\right) + z^{3} \\left(- \\frac{5}{36} \\cos{\\left (1 \\right )} + \\frac{13}{144} \\sin{\\left (1 \\right )}\\right) + z^{2} \\left(- \\frac{101}{240} \\sin{\\left (1 \\right )} - \\frac{13}{48} \\cos{\\left (1 \\right )}\\right) + z \\left(- \\frac{389}{720} \\sin{\\left (1 \\right )} + \\frac{101}{120} \\cos{\\left (1 \\right )}\\right) + \\frac{389}{720} \\cos{\\left (1 \\right )} + \\frac{4241}{5040} \\sin{\\left (1 \\right )}$$"
      ],
      "text/plain": [
       "              7                                                               \n",
       "             z ⋅sin(1)    6 ⎛  sin(1)   cos(1)⎞    5 ⎛  sin(1)   cos(1)⎞    4 \n",
       "C_{ 8 }(z) = ───────── + z ⋅⎜- ────── - ──────⎟ + z ⋅⎜- ────── + ──────⎟ + z ⋅\n",
       "                5040        ⎝   720      720  ⎠      ⎝   240      120  ⎠      \n",
       "\n",
       "                                                                              \n",
       "⎛cos(1)   5⋅sin(1)⎞    3 ⎛  5⋅cos(1)   13⋅sin(1)⎞    2 ⎛  101⋅sin(1)   13⋅cos(\n",
       "⎜────── + ────────⎟ + z ⋅⎜- ──────── + ─────────⎟ + z ⋅⎜- ────────── - ───────\n",
       "⎝  48       144   ⎠      ⎝     36         144   ⎠      ⎝     240           48 \n",
       "\n",
       "                                                              \n",
       "1)⎞     ⎛  389⋅sin(1)   101⋅cos(1)⎞   389⋅cos(1)   4241⋅sin(1)\n",
       "──⎟ + z⋅⎜- ────────── + ──────────⎟ + ────────── + ───────────\n",
       "  ⎠     ⎝     720          120    ⎠      720           5040   "
      ]
     },
     "execution_count": 144,
     "metadata": {},
     "output_type": "execute_result"
    }
   ],
   "source": [
    "g_cos = g_cos.subs(eigenvals)\n",
    "g_cos#, g_cos.trigsimp(), g_cos.simplify()"
   ]
  },
  {
   "cell_type": "code",
   "execution_count": 145,
   "metadata": {
    "collapsed": false,
    "deletable": true,
    "editable": true
   },
   "outputs": [
    {
     "data": {
      "image/png": "[encoded data removed]",
      "text/latex": [
       "$$\\operatorname{C_{ 8 }}{\\left (\\mathcal{P}_{ 8 } \\right )} = \\left[\\begin{matrix}\\cos{\\left (1 \\right )} & 0 & 0 & 0 & 0 & 0 & 0 & 0\\\\- \\sin{\\left (1 \\right )} & \\cos{\\left (1 \\right )} & 0 & 0 & 0 & 0 & 0 & 0\\\\- \\sin{\\left (1 \\right )} - \\cos{\\left (1 \\right )} & - 2 \\sin{\\left (1 \\right )} & \\cos{\\left (1 \\right )} & 0 & 0 & 0 & 0 & 0\\\\- 3 \\cos{\\left (1 \\right )} & - 3 \\sqrt{2} \\sin{\\left (\\frac{\\pi}{4} + 1 \\right )} & - 3 \\sin{\\left (1 \\right )} & \\cos{\\left (1 \\right )} & 0 & 0 & 0 & 0\\\\- 6 \\cos{\\left (1 \\right )} + 5 \\sin{\\left (1 \\right )} & - 12 \\cos{\\left (1 \\right )} & - 6 \\sqrt{2} \\sin{\\left (\\frac{\\pi}{4} + 1 \\right )} & - 4 \\sin{\\left (1 \\right )} & \\cos{\\left (1 \\right )} & 0 & 0 & 0\\\\- 5 \\cos{\\left (1 \\right )} + 23 \\sin{\\left (1 \\right )} & - 30 \\cos{\\left (1 \\right )} + 25 \\sin{\\left (1 \\right )} & - 30 \\cos{\\left (1 \\right )} & - 10 \\sqrt{2} \\sin{\\left (\\frac{\\pi}{4} + 1 \\right )} & - 5 \\sin{\\left (1 \\right )} & \\cos{\\left (1 \\right )} & 0 & 0\\\\33 \\cos{\\left (1 \\right )} + 74 \\sin{\\left (1 \\right )} & - 30 \\cos{\\left (1 \\right )} + 138 \\sin{\\left (1 \\right )} & - 90 \\cos{\\left (1 \\right )} + 75 \\sin{\\left (1 \\right )} & - 60 \\cos{\\left (1 \\right )} & - 15 \\sqrt{2} \\sin{\\left (\\frac{\\pi}{4} + 1 \\right )} & - 6 \\sin{\\left (1 \\right )} & \\cos{\\left (1 \\right )} & 0\\\\161 \\sin{\\left (1 \\right )} + 266 \\cos{\\left (1 \\right )} & 231 \\cos{\\left (1 \\right )} + 518 \\sin{\\left (1 \\right )} & - 105 \\cos{\\left (1 \\right )} + 483 \\sin{\\left (1 \\right )} & - 210 \\cos{\\left (1 \\right )} + 175 \\sin{\\left (1 \\right )} & - 105 \\cos{\\left (1 \\right )} & - 21 \\sqrt{2} \\sin{\\left (\\frac{\\pi}{4} + 1 \\right )} & - 7 \\sin{\\left (1 \\right )} & \\cos{\\left (1 \\right )}\\end{matrix}\\right]$$"
      ],
      "text/plain": [
       "                             ⎡        cos(1)                      0           \n",
       "                             ⎢                                                \n",
       "                             ⎢        -sin(1)                  cos(1)         \n",
       "                             ⎢                                                \n",
       "                             ⎢   -sin(1) - cos(1)             -2⋅sin(1)       \n",
       "                             ⎢                                                \n",
       "                             ⎢                                     ⎛π    ⎞    \n",
       "                             ⎢       -3⋅cos(1)            -3⋅√2⋅sin⎜─ + 1⎟    \n",
       "                             ⎢                                     ⎝4    ⎠    \n",
       "                             ⎢                                                \n",
       "                             ⎢                                                \n",
       "                             ⎢ -6⋅cos(1) + 5⋅sin(1)          -12⋅cos(1)       \n",
       "C_{ 8 }(\\mathcal{P}_{ 8 }) = ⎢                                                \n",
       "                             ⎢                                                \n",
       "                             ⎢                                                \n",
       "                             ⎢ -5⋅cos(1) + 23⋅sin(1)   -30⋅cos(1) + 25⋅sin(1) \n",
       "                             ⎢                                                \n",
       "                             ⎢                                                \n",
       "                             ⎢                                                \n",
       "                             ⎢ 33⋅cos(1) + 74⋅sin(1)   -30⋅cos(1) + 138⋅sin(1)\n",
       "                             ⎢                                                \n",
       "                             ⎢                                                \n",
       "                             ⎢                                                \n",
       "                             ⎢161⋅sin(1) + 266⋅cos(1)  231⋅cos(1) + 518⋅sin(1)\n",
       "                             ⎣                                                \n",
       "\n",
       "             0                         0                      0               \n",
       "                                                                              \n",
       "             0                         0                      0               \n",
       "                                                                              \n",
       "           cos(1)                      0                      0               \n",
       "                                                                              \n",
       "                                                                              \n",
       "         -3⋅sin(1)                   cos(1)                   0               \n",
       "                                                                              \n",
       "                                                                              \n",
       "               ⎛π    ⎞                                                        \n",
       "      -6⋅√2⋅sin⎜─ + 1⎟             -4⋅sin(1)               cos(1)             \n",
       "               ⎝4    ⎠                                                        \n",
       "                                                                              \n",
       "                                         ⎛π    ⎞                              \n",
       "         -30⋅cos(1)            -10⋅√2⋅sin⎜─ + 1⎟          -5⋅sin(1)           \n",
       "                                         ⎝4    ⎠                              \n",
       "                                                                              \n",
       "                                                                ⎛π    ⎞       \n",
       "   -90⋅cos(1) + 75⋅sin(1)          -60⋅cos(1)         -15⋅√2⋅sin⎜─ + 1⎟      -\n",
       "                                                                ⎝4    ⎠       \n",
       "                                                                              \n",
       "                                                                              \n",
       "  -105⋅cos(1) + 483⋅sin(1)  -210⋅cos(1) + 175⋅sin(1)     -105⋅cos(1)     -21⋅√\n",
       "                                                                              \n",
       "\n",
       "   0              0        0   ⎤\n",
       "                               ⎥\n",
       "   0              0        0   ⎥\n",
       "                               ⎥\n",
       "   0              0        0   ⎥\n",
       "                               ⎥\n",
       "                               ⎥\n",
       "   0              0        0   ⎥\n",
       "                               ⎥\n",
       "                               ⎥\n",
       "                               ⎥\n",
       "   0              0        0   ⎥\n",
       "                               ⎥\n",
       "                               ⎥\n",
       "                               ⎥\n",
       "cos(1)            0        0   ⎥\n",
       "                               ⎥\n",
       "                               ⎥\n",
       "                               ⎥\n",
       "6⋅sin(1)       cos(1)      0   ⎥\n",
       "                               ⎥\n",
       "                               ⎥\n",
       "     ⎛π    ⎞                   ⎥\n",
       "2⋅sin⎜─ + 1⎟  -7⋅sin(1)  cos(1)⎥\n",
       "     ⎝4    ⎠                   ⎦"
      ]
     },
     "execution_count": 145,
     "metadata": {},
     "output_type": "execute_result"
    }
   ],
   "source": [
    "with lift_to_matrix_function(g_cos) as G_cos:\n",
    "    P_cos = G_cos(P)\n",
    "    \n",
    "P_cos"
   ]
  },
  {
   "cell_type": "code",
   "execution_count": null,
   "metadata": {
    "collapsed": false,
    "deletable": true,
    "editable": true
   },
   "outputs": [],
   "source": [
    "production_matrix(P_sin).applyfunc(simplify) # takes long to evaluate"
   ]
  },
  {
   "cell_type": "code",
   "execution_count": 148,
   "metadata": {
    "collapsed": false,
    "deletable": true,
    "editable": true
   },
   "outputs": [],
   "source": [
    "assert (P_sin.rhs**2 + P_cos.rhs**2).applyfunc(trigsimp) == Matrix(m,m, identity_matrix())"
   ]
  },
  {
   "cell_type": "markdown",
   "metadata": {
    "deletable": true,
    "editable": true
   },
   "source": [
    "---\n",
    "<a rel=\"license\" href=\"http://creativecommons.org/licenses/by-nc-sa/4.0/\"><img alt=\"Creative Commons License\" style=\"border-width:0\" src=\"https://i.creativecommons.org/l/by-nc-sa/4.0/88x31.png\" /></a><br />This work is licensed under a <a rel=\"license\" href=\"http://creativecommons.org/licenses/by-nc-sa/4.0/\">Creative Commons Attribution-NonCommercial-ShareAlike 4.0 International License</a>."
   ]
  }
 ],
 "metadata": {
  "kernelspec": {
   "display_name": "Python 3",
   "language": "python",
   "name": "python3"
  },
  "language_info": {
   "codemirror_mode": {
    "name": "ipython",
    "version": 3
   },
   "file_extension": ".py",
   "mimetype": "text/x-python",
   "name": "python",
   "nbconvert_exporter": "python",
   "pygments_lexer": "ipython3",
   "version": "3.6.0"
  }
 },
 "nbformat": 4,
 "nbformat_minor": 1
}
