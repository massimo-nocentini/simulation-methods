{
 "cells": [
  {
   "cell_type": "markdown",
   "metadata": {
    "deletable": true,
    "editable": true
   },
   "source": [
    "<p>\n",
    "<img src=\"http://www.cerm.unifi.it/chianti/images/logo%20unifi_positivo.jpg\" \n",
    "        alt=\"UniFI logo\" style=\"float: left; width: 20%; height: 20%;\">\n",
    "<div align=\"right\">\n",
    "Massimo Nocentini<br>\n",
    "<small>\n",
    "<br>November 9, 2016: script creation, splitting\n",
    "<br>November 7, 2016: check $\\Phi_{ij}$ polys, `power` closed form\n",
    "<br>November {4,5,6}, 2016: `inverse`, `power`, `sqrt` $g$ polys\n",
    "<br>November 3, 2016: Fibonacci, $\\mathcal{C}$, $d_{n,k}$ matrix for $\\Phi$ polys\n",
    "<br>November 2, 2016: fix $\\Phi$ polynomials def, $\\mathcal{P}$\n",
    "</small>\n",
    "</div>\n",
    "</p>\n",
    "<br>\n",
    "<br>\n",
    "<div align=\"center\">\n",
    "<b>Abstract</b><br>\n",
    "Theory of matrix functions, with tutorial functions on simple matrix.\n",
    "</div>"
   ]
  },
  {
   "cell_type": "code",
   "execution_count": 123,
   "metadata": {
    "collapsed": true,
    "deletable": true,
    "editable": true
   },
   "outputs": [],
   "source": [
    "from sympy import *\n",
    "from sympy.abc import n, i, N, x, lamda, phi, z, j, r, k, a\n",
    "\n",
    "init_printing()"
   ]
  },
  {
   "cell_type": "code",
   "execution_count": 124,
   "metadata": {
    "collapsed": true,
    "deletable": true,
    "editable": true
   },
   "outputs": [],
   "source": [
    "%run ../../src/matrix_functions.py"
   ]
  },
  {
   "cell_type": "code",
   "execution_count": 125,
   "metadata": {
    "collapsed": false,
    "deletable": true,
    "editable": true
   },
   "outputs": [
    {
     "data": {
      "image/png": "[encoded data removed]",
      "text/latex": [
       "$$\\left[\\begin{matrix}3 & 1\\\\1 & 3\\end{matrix}\\right]$$"
      ],
      "text/plain": [
       "⎡3  1⎤\n",
       "⎢    ⎥\n",
       "⎣1  3⎦"
      ]
     },
     "execution_count": 125,
     "metadata": {},
     "output_type": "execute_result"
    }
   ],
   "source": [
    "M = Matrix([\n",
    "        [3, 1],\n",
    "        [1, 3]\n",
    "    ])\n",
    "M"
   ]
  },
  {
   "cell_type": "code",
   "execution_count": 126,
   "metadata": {
    "collapsed": true,
    "deletable": true,
    "editable": true
   },
   "outputs": [],
   "source": [
    "m = M.rows # degree of \\Xi minimal polynomial"
   ]
  },
  {
   "cell_type": "code",
   "execution_count": 127,
   "metadata": {
    "collapsed": false,
    "deletable": true,
    "editable": true
   },
   "outputs": [
    {
     "data": {
      "image/png": "[encoded data removed]",
      "text/latex": [
       "$$\\Phi{\\left (z,i,j \\right )} = z \\phi_{i,j,0} + \\phi_{i,j,1}$$"
      ],
      "text/plain": [
       "\\Phi(z, i, j) = z⋅\\phi[i, j, 0] + \\phi[i, j, 1]"
      ]
     },
     "execution_count": 127,
     "metadata": {},
     "output_type": "execute_result"
    }
   ],
   "source": [
    "Phi_poly = Phi_poly_ctor(deg=m-1)\n",
    "Phi_poly"
   ]
  },
  {
   "cell_type": "code",
   "execution_count": 128,
   "metadata": {
    "collapsed": false,
    "deletable": true,
    "editable": true
   },
   "outputs": [
    {
     "data": {
      "image/png": "[encoded data removed]",
      "text/latex": [
       "$$\\left ( \\left( \\left ( z, \\quad i, \\quad j\\right ) \\mapsto z \\phi_{i,j,0} + \\phi_{i,j,1} \\right), \\quad z \\phi_{3,j,0} + \\phi_{3,j,1}\\right )$$"
      ],
      "text/plain": [
       "((z, i, j) ↦ z⋅\\phi[i, j, 0] + \\phi[i, j, 1], z⋅\\phi[3, j, 0] + \\phi[3, j, 1])"
      ]
     },
     "execution_count": 128,
     "metadata": {},
     "output_type": "execute_result"
    }
   ],
   "source": [
    "with lift_to_Lambda(Phi_poly) as Phi_fn:\n",
    "    pass\n",
    "\n",
    "Phi_fn, Phi_fn(z, 3, j)"
   ]
  },
  {
   "cell_type": "code",
   "execution_count": 129,
   "metadata": {
    "collapsed": false,
    "deletable": true,
    "editable": true
   },
   "outputs": [
    {
     "data": {
      "image/png": "[encoded data removed]",
      "text/latex": [
       "$$\\left ( \\left \\{ 1 : \\left ( \\lambda_{1}, \\quad m_{1}\\right ), \\quad 2 : \\left ( \\lambda_{2}, \\quad m_{2}\\right )\\right \\}, \\quad \\left \\{ \\lambda_{1} : 4, \\quad \\lambda_{2} : 2\\right \\}, \\quad \\left \\{ m_{1} : 1, \\quad m_{2} : 1\\right \\}\\right )$$"
      ],
      "text/plain": [
       "({1: (\\lambda[1], m[1]), 2: (\\lambda[2], m[2])}, {\\lambda[1]: 4, \\lambda[2]: 2\n",
       "}, {m[1]: 1, m[2]: 1})"
      ]
     },
     "execution_count": 129,
     "metadata": {},
     "output_type": "execute_result"
    }
   ],
   "source": [
    "data, eigenvals, multiplicities = eigendata = eigen_data(M)\n",
    "eigendata"
   ]
  },
  {
   "cell_type": "code",
   "execution_count": 130,
   "metadata": {
    "collapsed": false,
    "deletable": true,
    "editable": true
   },
   "outputs": [],
   "source": [
    "make = Phi_poly_define(Phi_poly, eigendata)"
   ]
  },
  {
   "cell_type": "code",
   "execution_count": 131,
   "metadata": {
    "collapsed": false
   },
   "outputs": [
    {
     "data": {
      "image/png": "[encoded data removed]",
      "text/latex": [
       "$$\\left ( \\Phi_{ 1, 1 }{\\left (z \\right )} = \\frac{z}{\\lambda_{1} - \\lambda_{2}} - \\frac{\\lambda_{2}}{\\lambda_{1} - \\lambda_{2}}, \\quad \\Phi_{ 1, 1 }{\\left (z \\right )} = z \\phi_{1,1,0} + \\phi_{1,1,1}, \\quad \\left\\{\\lambda_{1} \\phi_{1,1,0} + \\phi_{1,1,1} = 1, \\lambda_{2} \\phi_{1,1,0} + \\phi_{1,1,1} = 0\\right\\}, \\quad \\left \\{ \\phi_{1,1,0} : \\frac{1}{\\lambda_{1} - \\lambda_{2}}, \\quad \\phi_{1,1,1} : - \\frac{\\lambda_{2}}{\\lambda_{1} - \\lambda_{2}}\\right \\}\\right )$$"
      ],
      "text/plain": [
       "⎛                              z                     \\lambda[2]               \n",
       "⎜\\Phi_{ 1, 1 }(z) = ─────────────────────── - ───────────────────────, \\Phi_{ \n",
       "⎝                   \\lambda[1] - \\lambda[2]   \\lambda[1] - \\lambda[2]         \n",
       "\n",
       "                                                                              \n",
       "1, 1 }(z) = z⋅\\phi[1, 1, 0] + \\phi[1, 1, 1], set([\\lambda[1]⋅\\phi[1, 1, 0] + \\\n",
       "                                                                              \n",
       "\n",
       "                                                                  ⎧           \n",
       "phi[1, 1, 1] = 1, \\lambda[2]⋅\\phi[1, 1, 0] + \\phi[1, 1, 1] = 0]), ⎨\\phi[1, 1, \n",
       "                                                                  ⎩           \n",
       "\n",
       "               1                                  -\\lambda[2]      ⎫⎞\n",
       "0]: ───────────────────────, \\phi[1, 1, 1]: ───────────────────────⎬⎟\n",
       "    \\lambda[1] - \\lambda[2]                 \\lambda[1] - \\lambda[2]⎭⎠"
      ]
     },
     "execution_count": 131,
     "metadata": {},
     "output_type": "execute_result"
    }
   ],
   "source": [
    "make(i=1, j=1,verbose_return=True)"
   ]
  },
  {
   "cell_type": "code",
   "execution_count": 132,
   "metadata": {
    "collapsed": false
   },
   "outputs": [
    {
     "data": {
      "image/png": "[encoded data removed]",
      "text/latex": [
       "$$\\Phi_{ 1, 1 }{\\left (z \\right )} = \\frac{z}{\\lambda_{1} - \\lambda_{2}} - \\frac{\\lambda_{2}}{\\lambda_{1} - \\lambda_{2}}$$"
      ],
      "text/plain": [
       "                              z                     \\lambda[2]      \n",
       "\\Phi_{ 1, 1 }(z) = ─────────────────────── - ───────────────────────\n",
       "                   \\lambda[1] - \\lambda[2]   \\lambda[1] - \\lambda[2]"
      ]
     },
     "execution_count": 132,
     "metadata": {},
     "output_type": "execute_result"
    }
   ],
   "source": [
    "make(i=1, j=1,)"
   ]
  },
  {
   "cell_type": "code",
   "execution_count": 133,
   "metadata": {
    "collapsed": false,
    "deletable": true,
    "editable": true
   },
   "outputs": [
    {
     "data": {
      "image/png": "[encoded data removed]",
      "text/latex": [
       "$$\\Phi_{ 1, 1 }{\\left (z \\right )} = \\frac{z}{2} - 1$$"
      ],
      "text/plain": [
       "                   z    \n",
       "\\Phi_{ 1, 1 }(z) = ─ - 1\n",
       "                   2    "
      ]
     },
     "execution_count": 133,
     "metadata": {},
     "output_type": "execute_result"
    }
   ],
   "source": [
    "_.subs(eigenvals)"
   ]
  },
  {
   "cell_type": "code",
   "execution_count": 134,
   "metadata": {
    "collapsed": false,
    "deletable": true,
    "editable": true
   },
   "outputs": [
    {
     "data": {
      "image/png": "[encoded data removed]",
      "text/latex": [
       "$$\\Phi_{ 2, 1 }{\\left (z \\right )} = - \\frac{z}{\\lambda_{1} - \\lambda_{2}} + \\frac{\\lambda_{1}}{\\lambda_{1} - \\lambda_{2}}$$"
      ],
      "text/plain": [
       "                                z                     \\lambda[1]      \n",
       "\\Phi_{ 2, 1 }(z) = - ─────────────────────── + ───────────────────────\n",
       "                     \\lambda[1] - \\lambda[2]   \\lambda[1] - \\lambda[2]"
      ]
     },
     "execution_count": 134,
     "metadata": {},
     "output_type": "execute_result"
    }
   ],
   "source": [
    "make = Phi_poly_define(Phi_poly, eigendata)\n",
    "make(i=2, j=1,)"
   ]
  },
  {
   "cell_type": "code",
   "execution_count": 135,
   "metadata": {
    "collapsed": false,
    "deletable": true,
    "editable": true
   },
   "outputs": [
    {
     "data": {
      "image/png": "[encoded data removed]",
      "text/latex": [
       "$$\\Phi_{ 2, 1 }{\\left (z \\right )} = - \\frac{z}{2} + 2$$"
      ],
      "text/plain": [
       "                     z    \n",
       "\\Phi_{ 2, 1 }(z) = - ─ + 2\n",
       "                     2    "
      ]
     },
     "execution_count": 135,
     "metadata": {},
     "output_type": "execute_result"
    }
   ],
   "source": [
    "_.subs(eigenvals)"
   ]
  },
  {
   "cell_type": "code",
   "execution_count": 136,
   "metadata": {
    "collapsed": false,
    "deletable": true,
    "editable": true
   },
   "outputs": [
    {
     "data": {
      "image/png": "[encoded data removed]",
      "text/latex": [
       "$$\\left \\{ \\left ( 1, \\quad 1\\right ) : \\Phi_{ 1, 1 }{\\left (z \\right )} = \\frac{z}{\\lambda_{1} - \\lambda_{2}} - \\frac{\\lambda_{2}}{\\lambda_{1} - \\lambda_{2}}, \\quad \\left ( 2, \\quad 1\\right ) : \\Phi_{ 2, 1 }{\\left (z \\right )} = - \\frac{z}{\\lambda_{1} - \\lambda_{2}} + \\frac{\\lambda_{1}}{\\lambda_{1} - \\lambda_{2}}\\right \\}$$"
      ],
      "text/plain": [
       "⎧                                      z                     \\lambda[2]       \n",
       "⎨(1, 1): \\Phi_{ 1, 1 }(z) = ─────────────────────── - ───────────────────────,\n",
       "⎩                           \\lambda[1] - \\lambda[2]   \\lambda[1] - \\lambda[2] \n",
       "\n",
       "                                         z                     \\lambda[1]     \n",
       " (2, 1): \\Phi_{ 2, 1 }(z) = - ─────────────────────── + ──────────────────────\n",
       "                              \\lambda[1] - \\lambda[2]   \\lambda[1] - \\lambda[2\n",
       "\n",
       " ⎫\n",
       "─⎬\n",
       "]⎭"
      ]
     },
     "execution_count": 136,
     "metadata": {},
     "output_type": "execute_result"
    }
   ],
   "source": [
    "Phi_polynomials = component_polynomials(Phi_poly, eigendata)\n",
    "Phi_polynomials"
   ]
  },
  {
   "cell_type": "code",
   "execution_count": 137,
   "metadata": {
    "collapsed": false,
    "deletable": true,
    "editable": true
   },
   "outputs": [
    {
     "data": {
      "image/png": "[encoded data removed]",
      "text/latex": [
       "$$f{\\left (z \\right )} = h{\\left (z \\right )}$$"
      ],
      "text/plain": [
       "f(z) = h(z)"
      ]
     },
     "execution_count": 137,
     "metadata": {},
     "output_type": "execute_result"
    }
   ],
   "source": [
    "f, h = Function('f'), Function('h')\n",
    "function_eq = define(let=f(z), be=h(z))\n",
    "function_eq"
   ]
  },
  {
   "cell_type": "code",
   "execution_count": 138,
   "metadata": {
    "collapsed": false,
    "deletable": true,
    "editable": true
   },
   "outputs": [
    {
     "data": {
      "image/png": "[encoded data removed]",
      "text/latex": [
       "$$g{\\left (z \\right )} = z \\left(\\frac{h{\\left (\\lambda_{1} \\right )}}{\\lambda_{1} - \\lambda_{2}} - \\frac{h{\\left (\\lambda_{2} \\right )}}{\\lambda_{1} - \\lambda_{2}}\\right) - \\frac{h{\\left (\\lambda_{1} \\right )} \\lambda_{2}}{\\lambda_{1} - \\lambda_{2}} + \\frac{h{\\left (\\lambda_{2} \\right )} \\lambda_{1}}{\\lambda_{1} - \\lambda_{2}}$$"
      ],
      "text/plain": [
       "         ⎛     h(\\lambda[1])             h(\\lambda[2])     ⎞   h(\\lambda[1])⋅\\\n",
       "g(z) = z⋅⎜─────────────────────── - ───────────────────────⎟ - ───────────────\n",
       "         ⎝\\lambda[1] - \\lambda[2]   \\lambda[1] - \\lambda[2]⎠   \\lambda[1] - \\l\n",
       "\n",
       "lambda[2]   h(\\lambda[2])⋅\\lambda[1]\n",
       "───────── + ────────────────────────\n",
       "ambda[2]    \\lambda[1] - \\lambda[2] "
      ]
     },
     "execution_count": 138,
     "metadata": {},
     "output_type": "execute_result"
    }
   ],
   "source": [
    "g = g_poly(function_eq, eigendata, Phi_polynomials)\n",
    "g"
   ]
  },
  {
   "cell_type": "code",
   "execution_count": 139,
   "metadata": {
    "collapsed": false,
    "deletable": true,
    "editable": true
   },
   "outputs": [
    {
     "data": {
      "image/png": "[encoded data removed]",
      "text/latex": [
       "$$g{\\left (z \\right )} = z \\left(- \\frac{1}{2} h{\\left (2 \\right )} + \\frac{1}{2} h{\\left (4 \\right )}\\right) + 2 h{\\left (2 \\right )} - h{\\left (4 \\right )}$$"
      ],
      "text/plain": [
       "         ⎛  h(2)   h(4)⎞                \n",
       "g(z) = z⋅⎜- ──── + ────⎟ + 2⋅h(2) - h(4)\n",
       "         ⎝   2      2  ⎠                "
      ]
     },
     "execution_count": 139,
     "metadata": {},
     "output_type": "execute_result"
    }
   ],
   "source": [
    "t = g.subs(eigenvals)\n",
    "t"
   ]
  },
  {
   "cell_type": "code",
   "execution_count": 140,
   "metadata": {
    "collapsed": false,
    "deletable": true,
    "editable": true
   },
   "outputs": [
    {
     "data": {
      "image/png": "[encoded data removed]",
      "text/latex": [
       "$$\\left[\\begin{matrix}\\frac{1}{\\lambda_{1} - \\lambda_{2}} \\left(- h{\\left (\\lambda_{1} \\right )} \\lambda_{2} + 3 h{\\left (\\lambda_{1} \\right )} + h{\\left (\\lambda_{2} \\right )} \\lambda_{1} - 3 h{\\left (\\lambda_{2} \\right )}\\right) & \\frac{1}{\\lambda_{1} - \\lambda_{2}} \\left(h{\\left (\\lambda_{1} \\right )} - h{\\left (\\lambda_{2} \\right )}\\right)\\\\\\frac{1}{\\lambda_{1} - \\lambda_{2}} \\left(h{\\left (\\lambda_{1} \\right )} - h{\\left (\\lambda_{2} \\right )}\\right) & \\frac{1}{\\lambda_{1} - \\lambda_{2}} \\left(- h{\\left (\\lambda_{1} \\right )} \\lambda_{2} + 3 h{\\left (\\lambda_{1} \\right )} + h{\\left (\\lambda_{2} \\right )} \\lambda_{1} - 3 h{\\left (\\lambda_{2} \\right )}\\right)\\end{matrix}\\right]$$"
      ],
      "text/plain": [
       "⎡-h(\\lambda[1])⋅\\lambda[2] + 3⋅h(\\lambda[1]) + h(\\lambda[2])⋅\\lambda[1] - 3⋅h(\n",
       "⎢─────────────────────────────────────────────────────────────────────────────\n",
       "⎢                                \\lambda[1] - \\lambda[2]                      \n",
       "⎢                                                                             \n",
       "⎢                             h(\\lambda[1]) - h(\\lambda[2])                   \n",
       "⎢                             ─────────────────────────────                   \n",
       "⎣                                \\lambda[1] - \\lambda[2]                      \n",
       "\n",
       "\\lambda[2])                               h(\\lambda[1]) - h(\\lambda[2])       \n",
       "───────────                               ─────────────────────────────       \n",
       "                                             \\lambda[1] - \\lambda[2]          \n",
       "                                                                              \n",
       "             -h(\\lambda[1])⋅\\lambda[2] + 3⋅h(\\lambda[1]) + h(\\lambda[2])⋅\\lamb\n",
       "             ─────────────────────────────────────────────────────────────────\n",
       "                                             \\lambda[1] - \\lambda[2]          \n",
       "\n",
       "                       ⎤\n",
       "                       ⎥\n",
       "                       ⎥\n",
       "                       ⎥\n",
       "da[1] - 3⋅h(\\lambda[2])⎥\n",
       "───────────────────────⎥\n",
       "                       ⎦"
      ]
     },
     "execution_count": 140,
     "metadata": {},
     "output_type": "execute_result"
    }
   ],
   "source": [
    "with lift_to_matrix_function(g) as g:\n",
    "    res = g(M)\n",
    "\n",
    "res"
   ]
  },
  {
   "cell_type": "code",
   "execution_count": 141,
   "metadata": {
    "collapsed": false,
    "deletable": true,
    "editable": true
   },
   "outputs": [
    {
     "data": {
      "image/png": "[encoded data removed]",
      "text/latex": [
       "$$\\left[\\begin{matrix}\\frac{1}{2} h{\\left (2 \\right )} + \\frac{1}{2} h{\\left (4 \\right )} & - \\frac{1}{2} h{\\left (2 \\right )} + \\frac{1}{2} h{\\left (4 \\right )}\\\\- \\frac{1}{2} h{\\left (2 \\right )} + \\frac{1}{2} h{\\left (4 \\right )} & \\frac{1}{2} h{\\left (2 \\right )} + \\frac{1}{2} h{\\left (4 \\right )}\\end{matrix}\\right]$$"
      ],
      "text/plain": [
       "⎡ h(2)   h(4)     h(2)   h(4)⎤\n",
       "⎢ ──── + ────   - ──── + ────⎥\n",
       "⎢  2      2        2      2  ⎥\n",
       "⎢                            ⎥\n",
       "⎢  h(2)   h(4)   h(2)   h(4) ⎥\n",
       "⎢- ──── + ────   ──── + ──── ⎥\n",
       "⎣   2      2      2      2   ⎦"
      ]
     },
     "execution_count": 141,
     "metadata": {},
     "output_type": "execute_result"
    }
   ],
   "source": [
    "res.subs(eigenvals)"
   ]
  },
  {
   "cell_type": "code",
   "execution_count": 142,
   "metadata": {
    "collapsed": false,
    "deletable": true,
    "editable": true
   },
   "outputs": [
    {
     "data": {
      "image/png": "[encoded data removed]",
      "text/latex": [
       "$$\\left \\{ \\left ( 1, \\quad 1\\right ) : \\left[\\begin{matrix}\\frac{- \\lambda_{2} + 3}{\\lambda_{1} - \\lambda_{2}} & \\frac{1}{\\lambda_{1} - \\lambda_{2}}\\\\\\frac{1}{\\lambda_{1} - \\lambda_{2}} & \\frac{- \\lambda_{2} + 3}{\\lambda_{1} - \\lambda_{2}}\\end{matrix}\\right], \\quad \\left ( 2, \\quad 1\\right ) : \\left[\\begin{matrix}\\frac{\\lambda_{1} - 3}{\\lambda_{1} - \\lambda_{2}} & - \\frac{1}{\\lambda_{1} - \\lambda_{2}}\\\\- \\frac{1}{\\lambda_{1} - \\lambda_{2}} & \\frac{\\lambda_{1} - 3}{\\lambda_{1} - \\lambda_{2}}\\end{matrix}\\right]\\right \\}$$"
      ],
      "text/plain": [
       "⎧        ⎡    -\\lambda[2] + 3                 1           ⎤          ⎡     \\la\n",
       "⎪        ⎢───────────────────────  ───────────────────────⎥          ⎢────────\n",
       "⎪        ⎢\\lambda[1] - \\lambda[2]  \\lambda[1] - \\lambda[2]⎥          ⎢\\lambda[\n",
       "⎨(1, 1): ⎢                                                ⎥, (2, 1): ⎢        \n",
       "⎪        ⎢           1                 -\\lambda[2] + 3    ⎥          ⎢        \n",
       "⎪        ⎢───────────────────────  ───────────────────────⎥          ⎢────────\n",
       "⎩        ⎣\\lambda[1] - \\lambda[2]  \\lambda[1] - \\lambda[2]⎦          ⎣\\lambda[\n",
       "\n",
       "mbda[1] - 3                -1           ⎤⎫\n",
       "───────────────  ───────────────────────⎥⎪\n",
       "1] - \\lambda[2]  \\lambda[1] - \\lambda[2]⎥⎪\n",
       "                                        ⎥⎬\n",
       "  -1                  \\lambda[1] - 3    ⎥⎪\n",
       "───────────────  ───────────────────────⎥⎪\n",
       "1] - \\lambda[2]  \\lambda[1] - \\lambda[2]⎦⎭"
      ]
     },
     "execution_count": 142,
     "metadata": {},
     "output_type": "execute_result"
    }
   ],
   "source": [
    "cmatrices = component_matrices(M, Phi_polynomials)\n",
    "cmatrices"
   ]
  },
  {
   "cell_type": "code",
   "execution_count": 143,
   "metadata": {
    "collapsed": false,
    "deletable": true,
    "editable": true,
    "scrolled": false
   },
   "outputs": [
    {
     "data": {
      "image/png": "[encoded data removed]",
      "text/latex": [
       "$$\\left [ \\left[\\begin{matrix}\\frac{- \\lambda_{2} + 3}{\\lambda_{1} - \\lambda_{2}} & \\frac{1}{\\lambda_{1} - \\lambda_{2}}\\\\\\frac{1}{\\lambda_{1} - \\lambda_{2}} & \\frac{- \\lambda_{2} + 3}{\\lambda_{1} - \\lambda_{2}}\\end{matrix}\\right], \\quad \\left[\\begin{matrix}\\frac{\\lambda_{1} - 3}{\\lambda_{1} - \\lambda_{2}} & - \\frac{1}{\\lambda_{1} - \\lambda_{2}}\\\\- \\frac{1}{\\lambda_{1} - \\lambda_{2}} & \\frac{\\lambda_{1} - 3}{\\lambda_{1} - \\lambda_{2}}\\end{matrix}\\right]\\right ]$$"
      ],
      "text/plain": [
       "⎡⎡    -\\lambda[2] + 3                 1           ⎤  ⎡     \\lambda[1] - 3     \n",
       "⎢⎢───────────────────────  ───────────────────────⎥  ⎢─────────────────────── \n",
       "⎢⎢\\lambda[1] - \\lambda[2]  \\lambda[1] - \\lambda[2]⎥  ⎢\\lambda[1] - \\lambda[2] \n",
       "⎢⎢                                                ⎥, ⎢                        \n",
       "⎢⎢           1                 -\\lambda[2] + 3    ⎥  ⎢          -1            \n",
       "⎢⎢───────────────────────  ───────────────────────⎥  ⎢─────────────────────── \n",
       "⎣⎣\\lambda[1] - \\lambda[2]  \\lambda[1] - \\lambda[2]⎦  ⎣\\lambda[1] - \\lambda[2] \n",
       "\n",
       "           -1           ⎤⎤\n",
       " ───────────────────────⎥⎥\n",
       " \\lambda[1] - \\lambda[2]⎥⎥\n",
       "                        ⎥⎥\n",
       "      \\lambda[1] - 3    ⎥⎥\n",
       " ───────────────────────⎥⎥\n",
       " \\lambda[1] - \\lambda[2]⎦⎦"
      ]
     },
     "execution_count": 143,
     "metadata": {},
     "output_type": "execute_result"
    }
   ],
   "source": [
    "Zi1 = list(cm.as_immutable() for (i, j), cm in cmatrices.items() if j == 1)\n",
    "Zi1"
   ]
  },
  {
   "cell_type": "code",
   "execution_count": 144,
   "metadata": {
    "collapsed": false,
    "deletable": true,
    "editable": true
   },
   "outputs": [
    {
     "data": {
      "image/png": "[encoded data removed]",
      "text/latex": [
       "$$\\left ( \\left[\\begin{matrix}\\frac{\\lambda_{1} - 3}{\\lambda_{1} - \\lambda_{2}} + \\frac{- \\lambda_{2} + 3}{\\lambda_{1} - \\lambda_{2}} & 0\\\\0 & \\frac{\\lambda_{1} - 3}{\\lambda_{1} - \\lambda_{2}} + \\frac{- \\lambda_{2} + 3}{\\lambda_{1} - \\lambda_{2}}\\end{matrix}\\right], \\quad \\left[\\begin{matrix}1 & 0\\\\0 & 1\\end{matrix}\\right]\\right )$$"
      ],
      "text/plain": [
       "⎛⎡     \\lambda[1] - 3           -\\lambda[2] + 3                               \n",
       "⎜⎢─────────────────────── + ───────────────────────                          0\n",
       "⎜⎢\\lambda[1] - \\lambda[2]   \\lambda[1] - \\lambda[2]                           \n",
       "⎜⎢                                                                            \n",
       "⎜⎢                                                        \\lambda[1] - 3      \n",
       "⎜⎢                        0                          ─────────────────────── +\n",
       "⎝⎣                                                   \\lambda[1] - \\lambda[2]  \n",
       "\n",
       "                        ⎤        ⎞\n",
       "                        ⎥        ⎟\n",
       "                        ⎥  ⎡1  0⎤⎟\n",
       "                        ⎥, ⎢    ⎥⎟\n",
       "     -\\lambda[2] + 3    ⎥  ⎣0  1⎦⎟\n",
       " ───────────────────────⎥        ⎟\n",
       " \\lambda[1] - \\lambda[2]⎦        ⎠"
      ]
     },
     "execution_count": 144,
     "metadata": {},
     "output_type": "execute_result"
    }
   ],
   "source": [
    "s = zeros(M.rows)\n",
    "for Z in Zi1:\n",
    "    s += Z\n",
    "s, s.subs(eigenvals)"
   ]
  },
  {
   "cell_type": "markdown",
   "metadata": {
    "deletable": true,
    "editable": true
   },
   "source": [
    "### `const`"
   ]
  },
  {
   "cell_type": "code",
   "execution_count": 45,
   "metadata": {
    "collapsed": false,
    "deletable": true,
    "editable": true
   },
   "outputs": [
    {
     "data": {
      "image/png": "[encoded data removed]",
      "text/latex": [
       "$$f{\\left (z \\right )} = r$$"
      ],
      "text/plain": [
       "f(z) = r"
      ]
     },
     "execution_count": 45,
     "metadata": {},
     "output_type": "execute_result"
    }
   ],
   "source": [
    "f_const = define(let=f(z), be=r)\n",
    "f_const"
   ]
  },
  {
   "cell_type": "code",
   "execution_count": 46,
   "metadata": {
    "collapsed": false,
    "deletable": true,
    "editable": true
   },
   "outputs": [
    {
     "data": {
      "image/png": "[encoded data removed]",
      "text/latex": [
       "$$g{\\left (z \\right )} = \\frac{r \\lambda_{1}}{\\lambda_{1} - \\lambda_{2}} - \\frac{r \\lambda_{2}}{\\lambda_{1} - \\lambda_{2}}$$"
      ],
      "text/plain": [
       "             r⋅\\lambda[1]              r⋅\\lambda[2]     \n",
       "g(z) = ─────────────────────── - ───────────────────────\n",
       "       \\lambda[1] - \\lambda[2]   \\lambda[1] - \\lambda[2]"
      ]
     },
     "execution_count": 46,
     "metadata": {},
     "output_type": "execute_result"
    }
   ],
   "source": [
    "g_const = g_poly(f_const, eigendata, Phi_polynomials)\n",
    "g_const"
   ]
  },
  {
   "cell_type": "code",
   "execution_count": 47,
   "metadata": {
    "collapsed": false,
    "deletable": true,
    "editable": true
   },
   "outputs": [
    {
     "data": {
      "image/png": "[encoded data removed]",
      "text/latex": [
       "$$g{\\left (z \\right )} = r$$"
      ],
      "text/plain": [
       "g(z) = r"
      ]
     },
     "execution_count": 47,
     "metadata": {},
     "output_type": "execute_result"
    }
   ],
   "source": [
    "g_const = g_const.subs(eigenvals)\n",
    "g_const"
   ]
  },
  {
   "cell_type": "code",
   "execution_count": 48,
   "metadata": {
    "collapsed": false,
    "deletable": true,
    "editable": true
   },
   "outputs": [
    {
     "data": {
      "image/png": "[encoded data removed]",
      "text/latex": [
       "$$\\left[\\begin{matrix}r & 0\\\\0 & r\\end{matrix}\\right]$$"
      ],
      "text/plain": [
       "⎡r  0⎤\n",
       "⎢    ⎥\n",
       "⎣0  r⎦"
      ]
     },
     "execution_count": 48,
     "metadata": {},
     "output_type": "execute_result"
    }
   ],
   "source": [
    "with lift_to_matrix_function(g_const) as g_const:\n",
    "    m_const = g_const(m)\n",
    "m_const"
   ]
  },
  {
   "cell_type": "markdown",
   "metadata": {
    "deletable": true,
    "editable": true
   },
   "source": [
    "### `identity`"
   ]
  },
  {
   "cell_type": "code",
   "execution_count": 49,
   "metadata": {
    "collapsed": false,
    "deletable": true,
    "editable": true
   },
   "outputs": [
    {
     "data": {
      "image/png": "[encoded data removed]",
      "text/latex": [
       "$$f{\\left (z \\right )} = z$$"
      ],
      "text/plain": [
       "f(z) = z"
      ]
     },
     "execution_count": 49,
     "metadata": {},
     "output_type": "execute_result"
    }
   ],
   "source": [
    "f_identity = Eq(f(z), z)\n",
    "f_identity"
   ]
  },
  {
   "cell_type": "code",
   "execution_count": 50,
   "metadata": {
    "collapsed": false,
    "deletable": true,
    "editable": true
   },
   "outputs": [
    {
     "data": {
      "image/png": "[encoded data removed]",
      "text/latex": [
       "$$g{\\left (z \\right )} = \\lambda_{1} Z_{1,1} + \\lambda_{2} Z_{2,1}$$"
      ],
      "text/plain": [
       "g(z) = \\lambda[1]⋅Z[1, 1] + \\lambda[2]⋅Z[2, 1]"
      ]
     },
     "execution_count": 50,
     "metadata": {},
     "output_type": "execute_result"
    }
   ],
   "source": [
    "g_identity = g_poly(f_identity, eigendata, Phi_polynomials, matrix_form=True)\n",
    "g_identity"
   ]
  },
  {
   "cell_type": "code",
   "execution_count": 51,
   "metadata": {
    "collapsed": false,
    "deletable": true,
    "editable": true
   },
   "outputs": [
    {
     "data": {
      "image/png": "[encoded data removed]",
      "text/latex": [
       "$$g{\\left (z \\right )} = z \\left(\\frac{\\lambda_{1}}{\\lambda_{1} - \\lambda_{2}} - \\frac{\\lambda_{2}}{\\lambda_{1} - \\lambda_{2}}\\right)$$"
      ],
      "text/plain": [
       "         ⎛       \\lambda[1]                \\lambda[2]      ⎞\n",
       "g(z) = z⋅⎜─────────────────────── - ───────────────────────⎟\n",
       "         ⎝\\lambda[1] - \\lambda[2]   \\lambda[1] - \\lambda[2]⎠"
      ]
     },
     "execution_count": 51,
     "metadata": {},
     "output_type": "execute_result"
    }
   ],
   "source": [
    "g_identity = g_poly(f_identity, eigendata, Phi_polynomials, matrix_form=False)\n",
    "g_identity"
   ]
  },
  {
   "cell_type": "code",
   "execution_count": 52,
   "metadata": {
    "collapsed": false,
    "deletable": true,
    "editable": true
   },
   "outputs": [
    {
     "data": {
      "image/png": "[encoded data removed]",
      "text/latex": [
       "$$\\left[\\begin{matrix}3 & 1\\\\1 & 3\\end{matrix}\\right]$$"
      ],
      "text/plain": [
       "⎡3  1⎤\n",
       "⎢    ⎥\n",
       "⎣1  3⎦"
      ]
     },
     "execution_count": 52,
     "metadata": {},
     "output_type": "execute_result"
    }
   ],
   "source": [
    "with lift_to_matrix_function(g_identity) as g_identity:\n",
    "    m_identity = g_identity(m)\n",
    "m_identity"
   ]
  },
  {
   "cell_type": "markdown",
   "metadata": {
    "deletable": true,
    "editable": true
   },
   "source": [
    "### `sqrt`"
   ]
  },
  {
   "cell_type": "code",
   "execution_count": 53,
   "metadata": {
    "collapsed": false,
    "deletable": true,
    "editable": true
   },
   "outputs": [
    {
     "data": {
      "image/png": "[encoded data removed]",
      "text/latex": [
       "$$f{\\left (z \\right )} = \\sqrt{z}$$"
      ],
      "text/plain": [
       "f(z) = √z"
      ]
     },
     "execution_count": 53,
     "metadata": {},
     "output_type": "execute_result"
    }
   ],
   "source": [
    "f_sqrt = define(let=f(z), be=sqrt(z))\n",
    "f_sqrt"
   ]
  },
  {
   "cell_type": "code",
   "execution_count": 54,
   "metadata": {
    "collapsed": false,
    "deletable": true,
    "editable": true
   },
   "outputs": [
    {
     "data": {
      "image/png": "[encoded data removed]",
      "text/latex": [
       "$$g{\\left (z \\right )} = z \\left(\\frac{\\sqrt{\\lambda_{1}}}{\\lambda_{1} - \\lambda_{2}} - \\frac{\\sqrt{\\lambda_{2}}}{\\lambda_{1} - \\lambda_{2}}\\right) - \\frac{\\sqrt{\\lambda_{1}} \\lambda_{2}}{\\lambda_{1} - \\lambda_{2}} + \\frac{\\lambda_{1} \\sqrt{\\lambda_{2}}}{\\lambda_{1} - \\lambda_{2}}$$"
      ],
      "text/plain": [
       "         ⎛       ____________              ____________    ⎞     ____________ \n",
       "         ⎜     ╲╱ \\lambda[1]             ╲╱ \\lambda[2]     ⎟   ╲╱ \\lambda[1] ⋅\n",
       "g(z) = z⋅⎜─────────────────────── - ───────────────────────⎟ - ───────────────\n",
       "         ⎝\\lambda[1] - \\lambda[2]   \\lambda[1] - \\lambda[2]⎠    \\lambda[1] - \\\n",
       "\n",
       "                          ____________\n",
       "\\lambda[2]   \\lambda[1]⋅╲╱ \\lambda[2] \n",
       "────────── + ─────────────────────────\n",
       "lambda[2]     \\lambda[1] - \\lambda[2] "
      ]
     },
     "execution_count": 54,
     "metadata": {},
     "output_type": "execute_result"
    }
   ],
   "source": [
    "g_sqrt = g_poly(f_sqrt, eigendata, Phi_polynomials)\n",
    "g_sqrt"
   ]
  },
  {
   "cell_type": "code",
   "execution_count": 55,
   "metadata": {
    "collapsed": false,
    "deletable": true,
    "editable": true
   },
   "outputs": [
    {
     "data": {
      "image/png": "[encoded data removed]",
      "text/latex": [
       "$$g{\\left (z \\right )} = z \\left(- \\frac{\\sqrt{2}}{2} + 1\\right) - 2 + 2 \\sqrt{2}$$"
      ],
      "text/plain": [
       "         ⎛  √2    ⎞           \n",
       "g(z) = z⋅⎜- ── + 1⎟ - 2 + 2⋅√2\n",
       "         ⎝  2     ⎠           "
      ]
     },
     "execution_count": 55,
     "metadata": {},
     "output_type": "execute_result"
    }
   ],
   "source": [
    "g_sqrt = g_sqrt.subs(eigenvals)\n",
    "g_sqrt"
   ]
  },
  {
   "cell_type": "code",
   "execution_count": 56,
   "metadata": {
    "collapsed": false,
    "deletable": true,
    "editable": true
   },
   "outputs": [
    {
     "data": {
      "image/png": "[encoded data removed]",
      "text/latex": [
       "$$\\left[\\begin{matrix}\\frac{\\sqrt{2}}{2} + 1 & - \\frac{\\sqrt{2}}{2} + 1\\\\- \\frac{\\sqrt{2}}{2} + 1 & \\frac{\\sqrt{2}}{2} + 1\\end{matrix}\\right]$$"
      ],
      "text/plain": [
       "⎡ √2         √2    ⎤\n",
       "⎢ ── + 1   - ── + 1⎥\n",
       "⎢ 2          2     ⎥\n",
       "⎢                  ⎥\n",
       "⎢  √2       √2     ⎥\n",
       "⎢- ── + 1   ── + 1 ⎥\n",
       "⎣  2        2      ⎦"
      ]
     },
     "execution_count": 56,
     "metadata": {},
     "output_type": "execute_result"
    }
   ],
   "source": [
    "with lift_to_matrix_function(g_sqrt) as g_sqrt:\n",
    "    m_sqrt = g_sqrt(m)\n",
    "m_sqrt"
   ]
  },
  {
   "cell_type": "code",
   "execution_count": 57,
   "metadata": {
    "collapsed": false,
    "deletable": true,
    "editable": true
   },
   "outputs": [
    {
     "data": {
      "image/png": "[encoded data removed]",
      "text/latex": [
       "$$\\left[\\begin{matrix}3 & 1\\\\1 & 3\\end{matrix}\\right]$$"
      ],
      "text/plain": [
       "⎡3  1⎤\n",
       "⎢    ⎥\n",
       "⎣1  3⎦"
      ]
     },
     "execution_count": 57,
     "metadata": {},
     "output_type": "execute_result"
    }
   ],
   "source": [
    "(m_sqrt**2).applyfunc(simplify)"
   ]
  },
  {
   "cell_type": "markdown",
   "metadata": {
    "deletable": true,
    "editable": true
   },
   "source": [
    "### `power`"
   ]
  },
  {
   "cell_type": "code",
   "execution_count": 58,
   "metadata": {
    "collapsed": false,
    "deletable": true,
    "editable": true
   },
   "outputs": [
    {
     "data": {
      "image/png": "[encoded data removed]",
      "text/latex": [
       "$$f{\\left (z \\right )} = z^{r}$$"
      ],
      "text/plain": [
       "        r\n",
       "f(z) = z "
      ]
     },
     "execution_count": 58,
     "metadata": {},
     "output_type": "execute_result"
    }
   ],
   "source": [
    "f_power = define(let=f(z), be=z**r)\n",
    "f_power"
   ]
  },
  {
   "cell_type": "code",
   "execution_count": 60,
   "metadata": {
    "collapsed": false,
    "deletable": true,
    "editable": true
   },
   "outputs": [
    {
     "data": {
      "image/png": "[encoded data removed]",
      "text/latex": [
       "$$g{\\left (z \\right )} = \\lambda_{1}^{r} Z_{1,1} + \\lambda_{2}^{r} Z_{2,1}$$"
      ],
      "text/plain": [
       "                 r                     r        \n",
       "g(z) = \\lambda[1] ⋅Z[1, 1] + \\lambda[2] ⋅Z[2, 1]"
      ]
     },
     "execution_count": 60,
     "metadata": {},
     "output_type": "execute_result"
    }
   ],
   "source": [
    "g_power = g_poly(f_power, eigendata, Phi_polynomials, matrix_form=True)\n",
    "g_power"
   ]
  },
  {
   "cell_type": "code",
   "execution_count": 62,
   "metadata": {
    "collapsed": false,
    "deletable": true,
    "editable": true
   },
   "outputs": [
    {
     "data": {
      "image/png": "[encoded data removed]",
      "text/latex": [
       "$$g{\\left (z \\right )} = \\lambda_{1}^{r} \\left[\\begin{matrix}1 & 0 & 0 & 0 & 0\\\\1 & 1 & 0 & 0 & 0\\\\1 & 2 & 1 & 0 & 0\\\\1 & 3 & 3 & 1 & 0\\\\1 & 4 & 6 & 4 & 1\\end{matrix}\\right] + \\lambda_{2}^{r} Z_{2,1}$$"
      ],
      "text/plain": [
       "                 r                             r        \n",
       "g(z) = \\lambda[1] ⋅⎡1  0  0  0  0⎤ + \\lambda[2] ⋅Z[2, 1]\n",
       "                   ⎢             ⎥                      \n",
       "                   ⎢1  1  0  0  0⎥                      \n",
       "                   ⎢             ⎥                      \n",
       "                   ⎢1  2  1  0  0⎥                      \n",
       "                   ⎢             ⎥                      \n",
       "                   ⎢1  3  3  1  0⎥                      \n",
       "                   ⎢             ⎥                      \n",
       "                   ⎣1  4  6  4  1⎦                      "
      ]
     },
     "execution_count": 62,
     "metadata": {},
     "output_type": "execute_result"
    }
   ],
   "source": [
    "Z = IndexedBase('Z')\n",
    "g_power.subs({Z[1,1]:Matrix(5,5, binomial)})"
   ]
  },
  {
   "cell_type": "code",
   "execution_count": 63,
   "metadata": {
    "collapsed": false,
    "deletable": true,
    "editable": true
   },
   "outputs": [
    {
     "data": {
      "image/png": "[encoded data removed]",
      "text/latex": [
       "$$g{\\left (z \\right )} = z \\left(\\frac{\\lambda_{1}^{r}}{\\lambda_{1} - \\lambda_{2}} - \\frac{\\lambda_{2}^{r}}{\\lambda_{1} - \\lambda_{2}}\\right) + \\frac{\\lambda_{1} \\lambda_{2}^{r}}{\\lambda_{1} - \\lambda_{2}} - \\frac{\\lambda_{1}^{r} \\lambda_{2}}{\\lambda_{1} - \\lambda_{2}}$$"
      ],
      "text/plain": [
       "         ⎛                r                         r      ⎞                  \n",
       "         ⎜      \\lambda[1]                \\lambda[2]       ⎟    \\lambda[1]⋅\\la\n",
       "g(z) = z⋅⎜─────────────────────── - ───────────────────────⎟ + ───────────────\n",
       "         ⎝\\lambda[1] - \\lambda[2]   \\lambda[1] - \\lambda[2]⎠   \\lambda[1] - \\l\n",
       "\n",
       "       r              r           \n",
       "mbda[2]     \\lambda[1] ⋅\\lambda[2]\n",
       "──────── - ───────────────────────\n",
       "ambda[2]   \\lambda[1] - \\lambda[2]"
      ]
     },
     "execution_count": 63,
     "metadata": {},
     "output_type": "execute_result"
    }
   ],
   "source": [
    "g_power = g_poly(f_power, eigendata, Phi_polynomials)\n",
    "g_power"
   ]
  },
  {
   "cell_type": "code",
   "execution_count": 65,
   "metadata": {
    "collapsed": false,
    "deletable": true,
    "editable": true
   },
   "outputs": [
    {
     "data": {
      "image/png": "[encoded data removed]",
      "text/latex": [
       "$$g{\\left (z \\right )} = 2^{r + 1} - 4^{r} - \\frac{z}{2} \\left(2^{r} - 4^{r}\\right)$$"
      ],
      "text/plain": [
       "                       ⎛ r    r⎞\n",
       "        r + 1    r   z⋅⎝2  - 4 ⎠\n",
       "g(z) = 2      - 4  - ───────────\n",
       "                          2     "
      ]
     },
     "execution_count": 65,
     "metadata": {},
     "output_type": "execute_result"
    }
   ],
   "source": [
    "g_power = g_power.subs(eigenvals)\n",
    "g_power.simplify()"
   ]
  },
  {
   "cell_type": "code",
   "execution_count": 66,
   "metadata": {
    "collapsed": false,
    "deletable": true,
    "editable": true
   },
   "outputs": [
    {
     "data": {
      "image/png": "[encoded data removed]",
      "text/latex": [
       "$$\\left[\\begin{matrix}2^{r - 1} \\left(2^{r} + 1\\right) & 2^{r - 1} \\left(2^{r} - 1\\right)\\\\2^{r - 1} \\left(2^{r} - 1\\right) & 2^{r - 1} \\left(2^{r} + 1\\right)\\end{matrix}\\right]$$"
      ],
      "text/plain": [
       "⎡ r - 1 ⎛ r    ⎞   r - 1 ⎛ r    ⎞⎤\n",
       "⎢2     ⋅⎝2  + 1⎠  2     ⋅⎝2  - 1⎠⎥\n",
       "⎢                                ⎥\n",
       "⎢ r - 1 ⎛ r    ⎞   r - 1 ⎛ r    ⎞⎥\n",
       "⎣2     ⋅⎝2  - 1⎠  2     ⋅⎝2  + 1⎠⎦"
      ]
     },
     "execution_count": 66,
     "metadata": {},
     "output_type": "execute_result"
    }
   ],
   "source": [
    "with lift_to_matrix_function(g_power) as g_power:\n",
    "    m_power = g_power(m)\n",
    "m_power"
   ]
  },
  {
   "cell_type": "code",
   "execution_count": 67,
   "metadata": {
    "collapsed": false,
    "deletable": true,
    "editable": true
   },
   "outputs": [
    {
     "data": {
      "image/png": "[encoded data removed]",
      "text/latex": [
       "$$\\left[\\begin{matrix}2^{r - 1} \\left(2^{r} + 1\\right) & 2^{r - 1} \\left(2^{r} - 1\\right)\\\\2^{r - 1} \\left(2^{r} - 1\\right) & 2^{r - 1} \\left(2^{r} + 1\\right)\\end{matrix}\\right]$$"
      ],
      "text/plain": [
       "⎡ r - 1 ⎛ r    ⎞   r - 1 ⎛ r    ⎞⎤\n",
       "⎢2     ⋅⎝2  + 1⎠  2     ⋅⎝2  - 1⎠⎥\n",
       "⎢                                ⎥\n",
       "⎢ r - 1 ⎛ r    ⎞   r - 1 ⎛ r    ⎞⎥\n",
       "⎣2     ⋅⎝2  - 1⎠  2     ⋅⎝2  + 1⎠⎦"
      ]
     },
     "execution_count": 67,
     "metadata": {},
     "output_type": "execute_result"
    }
   ],
   "source": [
    "(m**r).applyfunc(simplify)"
   ]
  },
  {
   "cell_type": "code",
   "execution_count": 68,
   "metadata": {
    "collapsed": false,
    "deletable": true,
    "editable": true
   },
   "outputs": [
    {
     "name": "stdout",
     "output_type": "stream",
     "text": [
      "10 loops, best of 3: 58.5 ms per loop\n"
     ]
    }
   ],
   "source": [
    "%%timeit\n",
    "g_power(m)"
   ]
  },
  {
   "cell_type": "code",
   "execution_count": 69,
   "metadata": {
    "collapsed": false,
    "deletable": true,
    "editable": true
   },
   "outputs": [
    {
     "name": "stdout",
     "output_type": "stream",
     "text": [
      "10 loops, best of 3: 64.6 ms per loop\n"
     ]
    }
   ],
   "source": [
    "%%timeit\n",
    "(m**r).applyfunc(simplify)"
   ]
  },
  {
   "cell_type": "markdown",
   "metadata": {
    "deletable": true,
    "editable": true
   },
   "source": [
    "### `log`"
   ]
  },
  {
   "cell_type": "code",
   "execution_count": 70,
   "metadata": {
    "collapsed": false,
    "deletable": true,
    "editable": true
   },
   "outputs": [
    {
     "data": {
      "image/png": "[encoded data removed]",
      "text/latex": [
       "$$f{\\left (z \\right )} = \\frac{\\log{\\left (z \\right )}}{\\log{\\left (2 \\right )}}$$"
      ],
      "text/plain": [
       "       log(z)\n",
       "f(z) = ──────\n",
       "       log(2)"
      ]
     },
     "execution_count": 70,
     "metadata": {},
     "output_type": "execute_result"
    }
   ],
   "source": [
    "f_log = define(let=f(z), be=log(z, 2))\n",
    "f_log"
   ]
  },
  {
   "cell_type": "code",
   "execution_count": 71,
   "metadata": {
    "collapsed": false,
    "deletable": true,
    "editable": true
   },
   "outputs": [
    {
     "data": {
      "image/png": "[encoded data removed]",
      "text/latex": [
       "$$g{\\left (z \\right )} = z \\left(\\frac{\\log{\\left (\\lambda_{1} \\right )}}{\\log{\\left (2 \\right )} \\lambda_{1} - \\log{\\left (2 \\right )} \\lambda_{2}} - \\frac{\\log{\\left (\\lambda_{2} \\right )}}{\\log{\\left (2 \\right )} \\lambda_{1} - \\log{\\left (2 \\right )} \\lambda_{2}}\\right) - \\frac{\\log{\\left (\\lambda_{1} \\right )} \\lambda_{2}}{\\log{\\left (2 \\right )} \\lambda_{1} - \\log{\\left (2 \\right )} \\lambda_{2}} + \\frac{\\log{\\left (\\lambda_{2} \\right )} \\lambda_{1}}{\\log{\\left (2 \\right )} \\lambda_{1} - \\log{\\left (2 \\right )} \\lambda_{2}}$$"
      ],
      "text/plain": [
       "         ⎛           log(\\lambda[1])                         log(\\lambda[2])  \n",
       "g(z) = z⋅⎜───────────────────────────────────── - ────────────────────────────\n",
       "         ⎝log(2)⋅\\lambda[1] - log(2)⋅\\lambda[2]   log(2)⋅\\lambda[1] - log(2)⋅\\\n",
       "\n",
       "         ⎞         log(\\lambda[1])⋅\\lambda[2]              log(\\lambda[2])⋅\\la\n",
       "─────────⎟ - ───────────────────────────────────── + ─────────────────────────\n",
       "lambda[2]⎠   log(2)⋅\\lambda[1] - log(2)⋅\\lambda[2]   log(2)⋅\\lambda[1] - log(2\n",
       "\n",
       "mbda[1]     \n",
       "────────────\n",
       ")⋅\\lambda[2]"
      ]
     },
     "execution_count": 71,
     "metadata": {},
     "output_type": "execute_result"
    }
   ],
   "source": [
    "g_log = g_poly(f_log, eigendata, Phi_polynomials)\n",
    "g_log"
   ]
  },
  {
   "cell_type": "code",
   "execution_count": 72,
   "metadata": {
    "collapsed": false,
    "deletable": true,
    "editable": true
   },
   "outputs": [
    {
     "data": {
      "image/png": "[encoded data removed]",
      "text/latex": [
       "$$g{\\left (z \\right )} = z \\left(- \\frac{1}{2} + \\frac{\\log{\\left (4 \\right )}}{2 \\log{\\left (2 \\right )}}\\right) - \\frac{\\log{\\left (4 \\right )}}{\\log{\\left (2 \\right )}} + 2$$"
      ],
      "text/plain": [
       "         ⎛  1    log(4) ⎞   log(4)    \n",
       "g(z) = z⋅⎜- ─ + ────────⎟ - ────── + 2\n",
       "         ⎝  2   2⋅log(2)⎠   log(2)    "
      ]
     },
     "execution_count": 72,
     "metadata": {},
     "output_type": "execute_result"
    }
   ],
   "source": [
    "g_log = g_log.subs(eigenvals)\n",
    "g_log"
   ]
  },
  {
   "cell_type": "code",
   "execution_count": 73,
   "metadata": {
    "collapsed": false,
    "deletable": true,
    "editable": true
   },
   "outputs": [
    {
     "data": {
      "image/png": "[encoded data removed]",
      "text/latex": [
       "$$\\left[\\begin{matrix}\\frac{3}{2} & \\frac{1}{2}\\\\\\frac{1}{2} & \\frac{3}{2}\\end{matrix}\\right]$$"
      ],
      "text/plain": [
       "⎡3/2  1/2⎤\n",
       "⎢        ⎥\n",
       "⎣1/2  3/2⎦"
      ]
     },
     "execution_count": 73,
     "metadata": {},
     "output_type": "execute_result"
    }
   ],
   "source": [
    "with lift_to_matrix_function(g_log) as g_log:\n",
    "    m_log = g_log(m)\n",
    "m_log"
   ]
  },
  {
   "cell_type": "markdown",
   "metadata": {
    "deletable": true,
    "editable": true
   },
   "source": [
    "### `inverse`"
   ]
  },
  {
   "cell_type": "code",
   "execution_count": 78,
   "metadata": {
    "collapsed": false,
    "deletable": true,
    "editable": true
   },
   "outputs": [
    {
     "data": {
      "image/png": "[encoded data removed]",
      "text/latex": [
       "$$f{\\left (z \\right )} = \\frac{1}{z}$$"
      ],
      "text/plain": [
       "       1\n",
       "f(z) = ─\n",
       "       z"
      ]
     },
     "execution_count": 78,
     "metadata": {},
     "output_type": "execute_result"
    }
   ],
   "source": [
    "f_inverse = define(let=f(z), be=1/z)\n",
    "f_inverse"
   ]
  },
  {
   "cell_type": "code",
   "execution_count": 82,
   "metadata": {
    "collapsed": false,
    "deletable": true,
    "editable": true
   },
   "outputs": [
    {
     "data": {
      "image/png": "[encoded data removed]",
      "text/latex": [
       "$$g{\\left (z \\right )} = z \\left(\\frac{1}{\\lambda_{1}^{2} - \\lambda_{1} \\lambda_{2}} - \\frac{1}{\\lambda_{1} \\lambda_{2} - \\lambda_{2}^{2}}\\right) - \\frac{\\lambda_{2}}{\\lambda_{1}^{2} - \\lambda_{1} \\lambda_{2}} + \\frac{\\lambda_{1}}{\\lambda_{1} \\lambda_{2} - \\lambda_{2}^{2}}$$"
      ],
      "text/plain": [
       "         ⎛                 1                                     1            \n",
       "g(z) = z⋅⎜─────────────────────────────────── - ──────────────────────────────\n",
       "         ⎜          2                                                         \n",
       "         ⎝\\lambda[1]  - \\lambda[1]⋅\\lambda[2]   \\lambda[1]⋅\\lambda[2] - \\lambd\n",
       "\n",
       "     ⎞                \\lambda[2]                            \\lambda[1]        \n",
       "─────⎟ - ─────────────────────────────────── + ───────────────────────────────\n",
       "    2⎟             2                                                          \n",
       "a[2] ⎠   \\lambda[1]  - \\lambda[1]⋅\\lambda[2]   \\lambda[1]⋅\\lambda[2] - \\lambda\n",
       "\n",
       "    \n",
       "────\n",
       "   2\n",
       "[2] "
      ]
     },
     "execution_count": 82,
     "metadata": {},
     "output_type": "execute_result"
    }
   ],
   "source": [
    "g_inverse = g_poly(f_inverse, eigendata, Phi_polynomials)\n",
    "g_inverse"
   ]
  },
  {
   "cell_type": "code",
   "execution_count": 83,
   "metadata": {
    "collapsed": false,
    "deletable": true,
    "editable": true
   },
   "outputs": [
    {
     "data": {
      "image/png": "[encoded data removed]",
      "text/latex": [
       "$$\\left ( \\left[\\begin{matrix}\\frac{1}{\\lambda_{1} \\lambda_{2}} \\left(\\lambda_{1} + \\lambda_{2} - 3\\right) & - \\frac{1}{\\lambda_{1} \\lambda_{2}}\\\\- \\frac{1}{\\lambda_{1} \\lambda_{2}} & \\frac{1}{\\lambda_{1} \\lambda_{2}} \\left(\\lambda_{1} + \\lambda_{2} - 3\\right)\\end{matrix}\\right], \\quad \\left[\\begin{matrix}\\frac{3}{8} & - \\frac{1}{8}\\\\- \\frac{1}{8} & \\frac{3}{8}\\end{matrix}\\right]\\right )$$"
      ],
      "text/plain": [
       "⎛⎡\\lambda[1] + \\lambda[2] - 3              -1             ⎤              ⎞\n",
       "⎜⎢───────────────────────────     ─────────────────────   ⎥, ⎡3/8   -1/8⎤⎟\n",
       "⎜⎢   \\lambda[1]⋅\\lambda[2]        \\lambda[1]⋅\\lambda[2]   ⎥  ⎢          ⎥⎟\n",
       "⎜⎢                                                        ⎥  ⎣-1/8  3/8 ⎦⎟\n",
       "⎜⎢            -1               \\lambda[1] + \\lambda[2] - 3⎥              ⎟\n",
       "⎜⎢   ─────────────────────     ───────────────────────────⎥              ⎟\n",
       "⎝⎣   \\lambda[1]⋅\\lambda[2]        \\lambda[1]⋅\\lambda[2]   ⎦              ⎠"
      ]
     },
     "execution_count": 83,
     "metadata": {},
     "output_type": "execute_result"
    }
   ],
   "source": [
    "with lift_to_matrix_function(g_inverse) as g_inverse:\n",
    "    m_inverse = g_inverse(m)\n",
    "\n",
    "m_inverse, m_inverse.subs(eigenvals)"
   ]
  },
  {
   "cell_type": "markdown",
   "metadata": {
    "deletable": true,
    "editable": true
   },
   "source": [
    "### `expt`"
   ]
  },
  {
   "cell_type": "code",
   "execution_count": 85,
   "metadata": {
    "collapsed": false,
    "deletable": true,
    "editable": true
   },
   "outputs": [
    {
     "data": {
      "image/png": "[encoded data removed]",
      "text/latex": [
       "$$f{\\left (z \\right )} = e^{z}$$"
      ],
      "text/plain": [
       "        z\n",
       "f(z) = ℯ "
      ]
     },
     "execution_count": 85,
     "metadata": {},
     "output_type": "execute_result"
    }
   ],
   "source": [
    "f_expt = define(let=f(z), be=exp(z))\n",
    "f_expt"
   ]
  },
  {
   "cell_type": "code",
   "execution_count": 86,
   "metadata": {
    "collapsed": false,
    "deletable": true,
    "editable": true
   },
   "outputs": [
    {
     "data": {
      "image/png": "[encoded data removed]",
      "text/latex": [
       "$$g{\\left (z \\right )} = z \\left(\\frac{e^{\\lambda_{1}}}{\\lambda_{1} - \\lambda_{2}} - \\frac{e^{\\lambda_{2}}}{\\lambda_{1} - \\lambda_{2}}\\right) - \\frac{e^{\\lambda_{1}} \\lambda_{2}}{\\lambda_{1} - \\lambda_{2}} + \\frac{e^{\\lambda_{2}} \\lambda_{1}}{\\lambda_{1} - \\lambda_{2}}$$"
      ],
      "text/plain": [
       "         ⎛       \\lambda[1]                \\lambda[2]      ⎞     \\lambda[1]   \n",
       "         ⎜      ℯ                         ℯ                ⎟    ℯ          ⋅\\l\n",
       "g(z) = z⋅⎜─────────────────────── - ───────────────────────⎟ - ───────────────\n",
       "         ⎝\\lambda[1] - \\lambda[2]   \\lambda[1] - \\lambda[2]⎠   \\lambda[1] - \\l\n",
       "\n",
       "             \\lambda[2]           \n",
       "ambda[2]    ℯ          ⋅\\lambda[1]\n",
       "──────── + ───────────────────────\n",
       "ambda[2]   \\lambda[1] - \\lambda[2]"
      ]
     },
     "execution_count": 86,
     "metadata": {},
     "output_type": "execute_result"
    }
   ],
   "source": [
    "g_expt = g_poly(f_expt, eigendata, Phi_polynomials)\n",
    "g_expt"
   ]
  },
  {
   "cell_type": "code",
   "execution_count": 87,
   "metadata": {
    "collapsed": false,
    "deletable": true,
    "editable": true
   },
   "outputs": [
    {
     "data": {
      "image/png": "[encoded data removed]",
      "text/latex": [
       "$$g{\\left (z \\right )} = z \\left(- \\frac{e^{2}}{2} + \\frac{e^{4}}{2}\\right) - e^{4} + 2 e^{2}$$"
      ],
      "text/plain": [
       "         ⎛   2    4⎞            \n",
       "         ⎜  ℯ    ℯ ⎟    4      2\n",
       "g(z) = z⋅⎜- ── + ──⎟ - ℯ  + 2⋅ℯ \n",
       "         ⎝  2    2 ⎠            "
      ]
     },
     "execution_count": 87,
     "metadata": {},
     "output_type": "execute_result"
    }
   ],
   "source": [
    "g_expt = g_expt.subs(eigenvals)\n",
    "g_expt"
   ]
  },
  {
   "cell_type": "code",
   "execution_count": 88,
   "metadata": {
    "collapsed": false,
    "deletable": true,
    "editable": true
   },
   "outputs": [
    {
     "data": {
      "image/png": "[encoded data removed]",
      "text/latex": [
       "$$\\left[\\begin{matrix}\\frac{e^{2}}{2} \\left(1 + e^{2}\\right) & \\frac{e^{2}}{2} \\left(-1 + e^{2}\\right)\\\\\\frac{e^{2}}{2} \\left(-1 + e^{2}\\right) & \\frac{e^{2}}{2} \\left(1 + e^{2}\\right)\\end{matrix}\\right]$$"
      ],
      "text/plain": [
       "⎡⎛     2⎞  2   ⎛      2⎞  2⎤\n",
       "⎢⎝1 + ℯ ⎠⋅ℯ    ⎝-1 + ℯ ⎠⋅ℯ ⎥\n",
       "⎢───────────   ────────────⎥\n",
       "⎢     2             2      ⎥\n",
       "⎢                          ⎥\n",
       "⎢⎛      2⎞  2  ⎛     2⎞  2 ⎥\n",
       "⎢⎝-1 + ℯ ⎠⋅ℯ   ⎝1 + ℯ ⎠⋅ℯ  ⎥\n",
       "⎢────────────  ─────────── ⎥\n",
       "⎣     2             2      ⎦"
      ]
     },
     "execution_count": 88,
     "metadata": {},
     "output_type": "execute_result"
    }
   ],
   "source": [
    "with lift_to_matrix_function(g_expt) as g_expt:\n",
    "    m_expt = g_expt(m)\n",
    "m_expt"
   ]
  },
  {
   "cell_type": "markdown",
   "metadata": {
    "deletable": true,
    "editable": true
   },
   "source": [
    "### `geometric`"
   ]
  },
  {
   "cell_type": "code",
   "execution_count": 92,
   "metadata": {
    "collapsed": false,
    "deletable": true,
    "editable": true
   },
   "outputs": [
    {
     "data": {
      "image/png": "[encoded data removed]",
      "text/latex": [
       "$$f{\\left (z \\right )} = \\frac{- z^{r + 1} + 1}{- z + 1}$$"
      ],
      "text/plain": [
       "          r + 1    \n",
       "       - z      + 1\n",
       "f(z) = ────────────\n",
       "          -z + 1   "
      ]
     },
     "execution_count": 92,
     "metadata": {},
     "output_type": "execute_result"
    }
   ],
   "source": [
    "f_geo = define(let=f(z), be=(1-z**(r+1))/(1-z))\n",
    "f_geo"
   ]
  },
  {
   "cell_type": "code",
   "execution_count": 98,
   "metadata": {
    "collapsed": false,
    "deletable": true,
    "editable": true
   },
   "outputs": [
    {
     "data": {
      "image/png": "[encoded data removed]",
      "text/latex": [
       "$$g{\\left (z \\right )} = z \\left(- \\frac{\\lambda_{1} \\lambda_{1}^{r}}{- \\lambda_{1}^{2} + \\lambda_{1} \\lambda_{2} + \\lambda_{1} - \\lambda_{2}} + \\frac{1}{- \\lambda_{1}^{2} + \\lambda_{1} \\lambda_{2} + \\lambda_{1} - \\lambda_{2}} + \\frac{\\lambda_{2} \\lambda_{2}^{r}}{- \\lambda_{1} \\lambda_{2} + \\lambda_{1} + \\lambda_{2}^{2} - \\lambda_{2}} - \\frac{1}{- \\lambda_{1} \\lambda_{2} + \\lambda_{1} + \\lambda_{2}^{2} - \\lambda_{2}}\\right) + \\frac{\\lambda_{1} \\lambda_{1}^{r} \\lambda_{2}}{- \\lambda_{1}^{2} + \\lambda_{1} \\lambda_{2} + \\lambda_{1} - \\lambda_{2}} - \\frac{\\lambda_{2}}{- \\lambda_{1}^{2} + \\lambda_{1} \\lambda_{2} + \\lambda_{1} - \\lambda_{2}} - \\frac{\\lambda_{1} \\lambda_{2} \\lambda_{2}^{r}}{- \\lambda_{1} \\lambda_{2} + \\lambda_{1} + \\lambda_{2}^{2} - \\lambda_{2}} + \\frac{\\lambda_{1}}{- \\lambda_{1} \\lambda_{2} + \\lambda_{1} + \\lambda_{2}^{2} - \\lambda_{2}}$$"
      ],
      "text/plain": [
       "         ⎛                                            r                       \n",
       "         ⎜                       \\lambda[1]⋅\\lambda[1]                        \n",
       "g(z) = z⋅⎜- ─────────────────────────────────────────────────────────────── + \n",
       "         ⎜              2                                                     \n",
       "         ⎝  - \\lambda[1]  + \\lambda[1]⋅\\lambda[2] + \\lambda[1] - \\lambda[2]   \n",
       "\n",
       "                                                                              \n",
       "                               1                                              \n",
       "─────────────────────────────────────────────────────────────── + ────────────\n",
       "            2                                                                 \n",
       "- \\lambda[1]  + \\lambda[1]⋅\\lambda[2] + \\lambda[1] - \\lambda[2]   -\\lambda[1]⋅\n",
       "\n",
       "                             r                                                \n",
       "        \\lambda[2]⋅\\lambda[2]                                                 \n",
       "────────────────────────────────────────────────── - ─────────────────────────\n",
       "                                    2                                         \n",
       "\\lambda[2] + \\lambda[1] + \\lambda[2]  - \\lambda[2]   -\\lambda[1]⋅\\lambda[2] + \n",
       "\n",
       "                                     ⎞                                       r\n",
       "     1                               ⎟                  \\lambda[1]⋅\\lambda[1] \n",
       "─────────────────────────────────────⎟ + ─────────────────────────────────────\n",
       "                       2             ⎟               2                        \n",
       "\\lambda[1] + \\lambda[2]  - \\lambda[2]⎠   - \\lambda[1]  + \\lambda[1]⋅\\lambda[2]\n",
       "\n",
       "                                                                              \n",
       "⋅\\lambda[2]                                             \\lambda[2]            \n",
       "────────────────────────── - ─────────────────────────────────────────────────\n",
       "                                         2                                    \n",
       " + \\lambda[1] - \\lambda[2]   - \\lambda[1]  + \\lambda[1]⋅\\lambda[2] + \\lambda[1\n",
       "\n",
       "                                                               r              \n",
       "                               \\lambda[1]⋅\\lambda[2]⋅\\lambda[2]               \n",
       "────────────── - ─────────────────────────────────────────────────────────────\n",
       "                                                                 2            \n",
       "] - \\lambda[2]   -\\lambda[1]⋅\\lambda[2] + \\lambda[1] + \\lambda[2]  - \\lambda[2\n",
       "\n",
       "                                                                  \n",
       "                              \\lambda[1]                          \n",
       "─ + ──────────────────────────────────────────────────────────────\n",
       "                                                    2             \n",
       "]   -\\lambda[1]⋅\\lambda[2] + \\lambda[1] + \\lambda[2]  - \\lambda[2]"
      ]
     },
     "execution_count": 98,
     "metadata": {},
     "output_type": "execute_result"
    }
   ],
   "source": [
    "g_geo = g_poly(f_geo, eigendata, Phi_polynomials)\n",
    "g_geo"
   ]
  },
  {
   "cell_type": "code",
   "execution_count": 99,
   "metadata": {
    "collapsed": false,
    "deletable": true,
    "editable": true
   },
   "outputs": [
    {
     "data": {
      "image/png": "[encoded data removed]",
      "text/latex": [
       "$$\\left[\\begin{matrix}\\frac{1}{\\left(\\lambda_{1} \\lambda_{2} - \\lambda_{1} - \\lambda_{2}^{2} + \\lambda_{2}\\right) \\left(\\lambda_{1}^{2} - \\lambda_{1} \\lambda_{2} - \\lambda_{1} + \\lambda_{2}\\right)} \\left(\\left(\\lambda_{1} \\lambda_{2} - \\lambda_{1} - \\lambda_{2}^{2} + \\lambda_{2}\\right) \\left(- \\lambda_{1}^{r + 1} \\lambda_{2} + 3 \\lambda_{1}^{r + 1} + \\lambda_{2} - 3\\right) + \\left(\\lambda_{1} \\lambda_{2}^{r + 1} - \\lambda_{1} - 3 \\lambda_{2}^{r + 1} + 3\\right) \\left(\\lambda_{1}^{2} - \\lambda_{1} \\lambda_{2} - \\lambda_{1} + \\lambda_{2}\\right)\\right) & \\frac{- \\lambda_{1} \\lambda_{2}^{r + 1} + \\lambda_{1} + \\lambda_{1}^{r + 1} \\lambda_{2} - \\lambda_{1}^{r + 1} - \\lambda_{2} + \\lambda_{2}^{r + 1}}{\\lambda_{1}^{2} \\lambda_{2} - \\lambda_{1}^{2} - \\lambda_{1} \\lambda_{2}^{2} + \\lambda_{1} + \\lambda_{2}^{2} - \\lambda_{2}}\\\\\\frac{- \\lambda_{1} \\lambda_{2}^{r + 1} + \\lambda_{1} + \\lambda_{1}^{r + 1} \\lambda_{2} - \\lambda_{1}^{r + 1} - \\lambda_{2} + \\lambda_{2}^{r + 1}}{\\lambda_{1}^{2} \\lambda_{2} - \\lambda_{1}^{2} - \\lambda_{1} \\lambda_{2}^{2} + \\lambda_{1} + \\lambda_{2}^{2} - \\lambda_{2}} & \\frac{1}{\\left(\\lambda_{1} \\lambda_{2} - \\lambda_{1} - \\lambda_{2}^{2} + \\lambda_{2}\\right) \\left(\\lambda_{1}^{2} - \\lambda_{1} \\lambda_{2} - \\lambda_{1} + \\lambda_{2}\\right)} \\left(\\left(\\lambda_{1} \\lambda_{2} - \\lambda_{1} - \\lambda_{2}^{2} + \\lambda_{2}\\right) \\left(- \\lambda_{1}^{r + 1} \\lambda_{2} + 3 \\lambda_{1}^{r + 1} + \\lambda_{2} - 3\\right) + \\left(\\lambda_{1} \\lambda_{2}^{r + 1} - \\lambda_{1} - 3 \\lambda_{2}^{r + 1} + 3\\right) \\left(\\lambda_{1}^{2} - \\lambda_{1} \\lambda_{2} - \\lambda_{1} + \\lambda_{2}\\right)\\right)\\end{matrix}\\right]$$"
      ],
      "text/plain": [
       "⎡⎛                                               2             ⎞ ⎛            \n",
       "⎢⎝\\lambda[1]⋅\\lambda[2] - \\lambda[1] - \\lambda[2]  + \\lambda[2]⎠⋅⎝- \\lambda[1]\n",
       "⎢─────────────────────────────────────────────────────────────────────────────\n",
       "⎢                                                                    ⎛        \n",
       "⎢                                                                    ⎝\\lambda[\n",
       "⎢                                                                             \n",
       "⎢                                                                             \n",
       "⎢                                                                        - \\la\n",
       "⎢                                                                        ─────\n",
       "⎢                                                                             \n",
       "⎣                                                                             \n",
       "\n",
       "r + 1                          r + 1                 ⎞   ⎛                    \n",
       "     ⋅\\lambda[2] + 3⋅\\lambda[1]      + \\lambda[2] - 3⎠ + ⎝\\lambda[1]⋅\\lambda[2\n",
       "──────────────────────────────────────────────────────────────────────────────\n",
       "                                       2             ⎞ ⎛          2           \n",
       "1]⋅\\lambda[2] - \\lambda[1] - \\lambda[2]  + \\lambda[2]⎠⋅⎝\\lambda[1]  - \\lambda[\n",
       "                                                                              \n",
       "                  r + 1                          r + 1                        \n",
       "mbda[1]⋅\\lambda[2]      + \\lambda[1] + \\lambda[1]     ⋅\\lambda[2] - \\lambda[1]\n",
       "──────────────────────────────────────────────────────────────────────────────\n",
       "              2                        2                        2             \n",
       "    \\lambda[1] ⋅\\lambda[2] - \\lambda[1]  - \\lambda[1]⋅\\lambda[2]  + \\lambda[1]\n",
       "\n",
       " r + 1                            r + 1    ⎞ ⎛          2                     \n",
       "]      - \\lambda[1] - 3⋅\\lambda[2]      + 3⎠⋅⎝\\lambda[1]  - \\lambda[1]⋅\\lambda\n",
       "──────────────────────────────────────────────────────────────────────────────\n",
       "                                       ⎞                                      \n",
       "1]⋅\\lambda[2] - \\lambda[1] + \\lambda[2]⎠                                      \n",
       "                                                                              \n",
       "r + 1                          r + 1                                          \n",
       "      - \\lambda[2] + \\lambda[2]                                               \n",
       "────────────────────────────────────                                          \n",
       "             2                                                                \n",
       " + \\lambda[2]  - \\lambda[2]                                                   \n",
       "\n",
       "                             ⎞                                                \n",
       "[2] - \\lambda[1] + \\lambda[2]⎠                                                \n",
       "──────────────────────────────                                                \n",
       "                                                                              \n",
       "                                                                              \n",
       "                                                                              \n",
       "                                ⎛                                             \n",
       "                                ⎝\\lambda[1]⋅\\lambda[2] - \\lambda[1] - \\lambda[\n",
       "                                ──────────────────────────────────────────────\n",
       "                                                                              \n",
       "                                                                              \n",
       "\n",
       "                                                 r + 1                        \n",
       "                          - \\lambda[1]⋅\\lambda[2]      + \\lambda[1] + \\lambda[\n",
       "                          ────────────────────────────────────────────────────\n",
       "                                             2                        2       \n",
       "                                   \\lambda[1] ⋅\\lambda[2] - \\lambda[1]  - \\lam\n",
       "                                                                              \n",
       "  2             ⎞ ⎛            r + 1                          r + 1           \n",
       "2]  + \\lambda[2]⎠⋅⎝- \\lambda[1]     ⋅\\lambda[2] + 3⋅\\lambda[1]      + \\lambda[\n",
       "──────────────────────────────────────────────────────────────────────────────\n",
       "                      ⎛                                               2       \n",
       "                      ⎝\\lambda[1]⋅\\lambda[2] - \\lambda[1] - \\lambda[2]  + \\lam\n",
       "\n",
       "  r + 1                        r + 1                          r + 1           \n",
       "1]     ⋅\\lambda[2] - \\lambda[1]      - \\lambda[2] + \\lambda[2]                \n",
       "───────────────────────────────────────────────────────────────────           \n",
       "                 2                          2                                 \n",
       "bda[1]⋅\\lambda[2]  + \\lambda[1] + \\lambda[2]  - \\lambda[2]                    \n",
       "                                                                              \n",
       "      ⎞   ⎛                     r + 1                            r + 1    ⎞ ⎛ \n",
       "2] - 3⎠ + ⎝\\lambda[1]⋅\\lambda[2]      - \\lambda[1] - 3⋅\\lambda[2]      + 3⎠⋅⎝\\\n",
       "──────────────────────────────────────────────────────────────────────────────\n",
       "      ⎞ ⎛          2                                                  ⎞       \n",
       "bda[2]⎠⋅⎝\\lambda[1]  - \\lambda[1]⋅\\lambda[2] - \\lambda[1] + \\lambda[2]⎠       \n",
       "\n",
       "                                                             ⎤\n",
       "                                                             ⎥\n",
       "                                                             ⎥\n",
       "                                                             ⎥\n",
       "                                                             ⎥\n",
       "                                                             ⎥\n",
       "         2                                                  ⎞⎥\n",
       "lambda[1]  - \\lambda[1]⋅\\lambda[2] - \\lambda[1] + \\lambda[2]⎠⎥\n",
       "─────────────────────────────────────────────────────────────⎥\n",
       "                                                             ⎥\n",
       "                                                             ⎦"
      ]
     },
     "execution_count": 99,
     "metadata": {},
     "output_type": "execute_result"
    }
   ],
   "source": [
    "with lift_to_matrix_function(g_geo) as g_geo:\n",
    "    m_geo = g_geo(m)\n",
    "\n",
    "m_geo"
   ]
  },
  {
   "cell_type": "code",
   "execution_count": 102,
   "metadata": {
    "collapsed": false,
    "deletable": true,
    "editable": true
   },
   "outputs": [
    {
     "data": {
      "image/png": "[encoded data removed]",
      "text/latex": [
       "$$\\left[\\begin{matrix}\\frac{1}{2} 2^{r + 1} + \\frac{1}{6} 4^{r + 1} - \\frac{2}{3} & - \\frac{1}{2} 2^{r + 1} + \\frac{1}{6} 4^{r + 1} + \\frac{1}{3}\\\\- \\frac{1}{2} 2^{r + 1} + \\frac{1}{6} 4^{r + 1} + \\frac{1}{3} & \\frac{1}{2} 2^{r + 1} + \\frac{1}{6} 4^{r + 1} - \\frac{2}{3}\\end{matrix}\\right]$$"
      ],
      "text/plain": [
       "⎡  r + 1    r + 1          r + 1    r + 1    ⎤\n",
       "⎢ 2        4        2     2        4        1⎥\n",
       "⎢ ────── + ────── - ─   - ────── + ────── + ─⎥\n",
       "⎢   2        6      3       2        6      3⎥\n",
       "⎢                                            ⎥\n",
       "⎢   r + 1    r + 1        r + 1    r + 1     ⎥\n",
       "⎢  2        4        1   2        4        2 ⎥\n",
       "⎢- ────── + ────── + ─   ────── + ────── - ─ ⎥\n",
       "⎣    2        6      3     2        6      3 ⎦"
      ]
     },
     "execution_count": 102,
     "metadata": {},
     "output_type": "execute_result"
    }
   ],
   "source": [
    "m_geo=m_geo.subs(eigenvals)\n",
    "m_geo"
   ]
  },
  {
   "cell_type": "code",
   "execution_count": 103,
   "metadata": {
    "collapsed": false,
    "deletable": true,
    "editable": true
   },
   "outputs": [
    {
     "data": {
      "image/png": "[encoded data removed]",
      "text/latex": [
       "$$\\left[\\begin{matrix}186 & 155\\\\155 & 186\\end{matrix}\\right]$$"
      ],
      "text/plain": [
       "⎡186  155⎤\n",
       "⎢        ⎥\n",
       "⎣155  186⎦"
      ]
     },
     "execution_count": 103,
     "metadata": {},
     "output_type": "execute_result"
    }
   ],
   "source": [
    "m_geo.subs({r:4})"
   ]
  },
  {
   "cell_type": "code",
   "execution_count": 105,
   "metadata": {
    "collapsed": false,
    "deletable": true,
    "editable": true
   },
   "outputs": [
    {
     "data": {
      "image/png": "[encoded data removed]",
      "text/latex": [
       "$$s{\\left (z \\right )} = z^{4} + z^{3} + z^{2} + z + 1$$"
      ],
      "text/plain": [
       "        4    3    2        \n",
       "s(z) = z  + z  + z  + z + 1"
      ]
     },
     "execution_count": 105,
     "metadata": {},
     "output_type": "execute_result"
    }
   ],
   "source": [
    "s = Function('s')\n",
    "sum_def = define(let=s(z), be=Sum(z**i, (i, 0, 4)).doit())\n",
    "sum_def"
   ]
  },
  {
   "cell_type": "code",
   "execution_count": 106,
   "metadata": {
    "collapsed": false,
    "deletable": true,
    "editable": true
   },
   "outputs": [
    {
     "data": {
      "image/png": "[encoded data removed]",
      "text/latex": [
       "$$\\left[\\begin{matrix}186 & 155\\\\155 & 186\\end{matrix}\\right]$$"
      ],
      "text/plain": [
       "⎡186  155⎤\n",
       "⎢        ⎥\n",
       "⎣155  186⎦"
      ]
     },
     "execution_count": 106,
     "metadata": {},
     "output_type": "execute_result"
    }
   ],
   "source": [
    "with lift_to_matrix_function(sum_def) as sum_fn:\n",
    "    R = sum_fn(m)\n",
    "R"
   ]
  },
  {
   "cell_type": "markdown",
   "metadata": {
    "collapsed": true,
    "deletable": true,
    "editable": true
   },
   "source": [
    "---\n",
    "<a rel=\"license\" href=\"http://creativecommons.org/licenses/by-nc-sa/4.0/\"><img alt=\"Creative Commons License\" style=\"border-width:0\" src=\"https://i.creativecommons.org/l/by-nc-sa/4.0/88x31.png\" /></a><br />This work is licensed under a <a rel=\"license\" href=\"http://creativecommons.org/licenses/by-nc-sa/4.0/\">Creative Commons Attribution-NonCommercial-ShareAlike 4.0 International License</a>."
   ]
  }
 ],
 "metadata": {
  "kernelspec": {
   "display_name": "Python 3",
   "language": "python",
   "name": "python3"
  },
  "language_info": {
   "codemirror_mode": {
    "name": "ipython",
    "version": 3
   },
   "file_extension": ".py",
   "mimetype": "text/x-python",
   "name": "python",
   "nbconvert_exporter": "python",
   "pygments_lexer": "ipython3",
   "version": "3.6.0"
  }
 },
 "nbformat": 4,
 "nbformat_minor": 1
}
