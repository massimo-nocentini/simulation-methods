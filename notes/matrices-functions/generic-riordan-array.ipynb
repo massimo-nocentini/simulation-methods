{
 "cells": [
  {
   "cell_type": "markdown",
   "metadata": {
    "deletable": true,
    "editable": true
   },
   "source": [
    "<p>\n",
    "<img src=\"http://www.cerm.unifi.it/chianti/images/logo%20unifi_positivo.jpg\" \n",
    "        alt=\"UniFI logo\" style=\"float: left; width: 20%; height: 20%;\">\n",
    "<div align=\"right\">\n",
    "Massimo Nocentini<br>\n",
    "<small>\n",
    "<br>November 16, 2016: `expt` $g$ polys\n",
    "<br>November 10, 2016: `inverse` and `power` $g$ polys\n",
    "<br>November 9, 2016: splitting from \"big\" notebook\n",
    "</small>\n",
    "</div>\n",
    "</p>\n",
    "<br>\n",
    "<br>\n",
    "<div align=\"center\">\n",
    "<b>Abstract</b><br>\n",
    "Theory of matrix functions, with applications to a symbolic Riordan array $\\mathcal{R}$ defined by convolutions.\n",
    "</div>"
   ]
  },
  {
   "cell_type": "code",
   "execution_count": 1,
   "metadata": {
    "collapsed": true,
    "deletable": true,
    "editable": true
   },
   "outputs": [],
   "source": [
    "from sympy import *\n",
    "from sympy.abc import n, i, N, x, lamda, phi, z, j, r, k, a, t, alpha\n",
    "from sympy.functions.elementary.integers import ceiling, floor\n",
    "\n",
    "init_printing()"
   ]
  },
  {
   "cell_type": "code",
   "execution_count": 2,
   "metadata": {
    "collapsed": false,
    "deletable": true,
    "editable": true
   },
   "outputs": [],
   "source": [
    "%run ../../src/matrix_functions.py\n",
    "%run ../../src/sequences.py"
   ]
  },
  {
   "cell_type": "code",
   "execution_count": 3,
   "metadata": {
    "collapsed": true,
    "deletable": true,
    "editable": true
   },
   "outputs": [],
   "source": [
    "d = IndexedBase('d')"
   ]
  },
  {
   "cell_type": "markdown",
   "metadata": {
    "deletable": true,
    "editable": true
   },
   "source": [
    "---"
   ]
  },
  {
   "cell_type": "markdown",
   "metadata": {
    "deletable": true,
    "editable": true
   },
   "source": [
    "# $\\mathcal{R}$ is a symbolic Riordan array"
   ]
  },
  {
   "cell_type": "code",
   "execution_count": 4,
   "metadata": {
    "collapsed": false,
    "deletable": true,
    "editable": true
   },
   "outputs": [
    {
     "data": {
      "image/png": "[encoded data removed]",
      "text/latex": [
       "$$\\mathcal{R}_{ 8 } = \\left[\\begin{matrix}1 & 0 & 0 & 0 & 0 & 0 & 0 & 0\\\\d_{1,0} & 1 & 0 & 0 & 0 & 0 & 0 & 0\\\\d_{2,0} & d_{2,1} & 1 & 0 & 0 & 0 & 0 & 0\\\\d_{3,0} & d_{3,1} & d_{3,2} & 1 & 0 & 0 & 0 & 0\\\\d_{4,0} & d_{4,1} & d_{4,2} & d_{4,3} & 1 & 0 & 0 & 0\\\\d_{5,0} & d_{5,1} & d_{5,2} & d_{5,3} & d_{5,4} & 1 & 0 & 0\\\\d_{6,0} & d_{6,1} & d_{6,2} & d_{6,3} & d_{6,4} & d_{6,5} & 1 & 0\\\\d_{7,0} & d_{7,1} & d_{7,2} & d_{7,3} & d_{7,4} & d_{7,5} & d_{7,6} & 1\\end{matrix}\\right]$$"
      ],
      "text/plain": [
       "                    ⎡   1        0        0        0        0        0        \n",
       "                    ⎢                                                         \n",
       "                    ⎢d[1, 0]     1        0        0        0        0        \n",
       "                    ⎢                                                         \n",
       "                    ⎢d[2, 0]  d[2, 1]     1        0        0        0        \n",
       "                    ⎢                                                         \n",
       "                    ⎢d[3, 0]  d[3, 1]  d[3, 2]     1        0        0        \n",
       "\\mathcal{R}_{ 8 } = ⎢                                                         \n",
       "                    ⎢d[4, 0]  d[4, 1]  d[4, 2]  d[4, 3]     1        0        \n",
       "                    ⎢                                                         \n",
       "                    ⎢d[5, 0]  d[5, 1]  d[5, 2]  d[5, 3]  d[5, 4]     1        \n",
       "                    ⎢                                                         \n",
       "                    ⎢d[6, 0]  d[6, 1]  d[6, 2]  d[6, 3]  d[6, 4]  d[6, 5]     \n",
       "                    ⎢                                                         \n",
       "                    ⎣d[7, 0]  d[7, 1]  d[7, 2]  d[7, 3]  d[7, 4]  d[7, 5]  d[7\n",
       "\n",
       "0     0⎤\n",
       "       ⎥\n",
       "0     0⎥\n",
       "       ⎥\n",
       "0     0⎥\n",
       "       ⎥\n",
       "0     0⎥\n",
       "       ⎥\n",
       "0     0⎥\n",
       "       ⎥\n",
       "0     0⎥\n",
       "       ⎥\n",
       "1     0⎥\n",
       "       ⎥\n",
       ", 6]  1⎦"
      ]
     },
     "execution_count": 4,
     "metadata": {},
     "output_type": "execute_result"
    }
   ],
   "source": [
    "m=8\n",
    "R = Eq(Symbol(r'\\mathcal{{R}}_{{ {} }}'.format(m)), \n",
    "       Matrix(m, m, riordan_matrix_by_recurrence(m, lambda n, k: {(n, k):1 if n == k else d[n, k]})), evaluate=False)\n",
    "R"
   ]
  },
  {
   "cell_type": "code",
   "execution_count": 5,
   "metadata": {
    "collapsed": false,
    "deletable": true,
    "editable": true
   },
   "outputs": [
    {
     "data": {
      "image/png": "[encoded data removed]",
      "text/latex": [
       "$$\\sigma{\\left (\\mathcal{R}_{ 8 } \\right )} = \\left ( \\left \\{ 1 : \\left ( \\lambda_{1}, \\quad m_{1}\\right )\\right \\}, \\quad \\left \\{ \\lambda_{1} : 1\\right \\}, \\quad \\left \\{ m_{1} : 8\\right \\}\\right )$$"
      ],
      "text/plain": [
       "\\sigma(\\mathcal{R}_{ 8 }) = ({1: (\\lambda[1], m[1])}, {\\lambda[1]: 1}, {m[1]: \n",
       "8})"
      ]
     },
     "execution_count": 5,
     "metadata": {},
     "output_type": "execute_result"
    }
   ],
   "source": [
    "eigendata = spectrum(R)\n",
    "eigendata"
   ]
  },
  {
   "cell_type": "code",
   "execution_count": 6,
   "metadata": {
    "collapsed": true,
    "deletable": true,
    "editable": true
   },
   "outputs": [],
   "source": [
    "data, eigenvals, multiplicities = eigendata.rhs "
   ]
  },
  {
   "cell_type": "code",
   "execution_count": 7,
   "metadata": {
    "collapsed": false,
    "deletable": true,
    "editable": true
   },
   "outputs": [
    {
     "data": {
      "image/png": "[encoded data removed]",
      "text/latex": [
       "$$\\Phi{\\left (z,i,j \\right )} = z^{7} \\phi_{i,j,0} + z^{6} \\phi_{i,j,1} + z^{5} \\phi_{i,j,2} + z^{4} \\phi_{i,j,3} + z^{3} \\phi_{i,j,4} + z^{2} \\phi_{i,j,5} + z \\phi_{i,j,6} + \\phi_{i,j,7}$$"
      ],
      "text/plain": [
       "                 7                  6                  5                  4   \n",
       "\\Phi(z, i, j) = z ⋅\\phi[i, j, 0] + z ⋅\\phi[i, j, 1] + z ⋅\\phi[i, j, 2] + z ⋅\\p\n",
       "\n",
       "               3                  2                                           \n",
       "hi[i, j, 3] + z ⋅\\phi[i, j, 4] + z ⋅\\phi[i, j, 5] + z⋅\\phi[i, j, 6] + \\phi[i, \n",
       "\n",
       "     \n",
       "j, 7]"
      ]
     },
     "execution_count": 7,
     "metadata": {},
     "output_type": "execute_result"
    }
   ],
   "source": [
    "Phi_poly = Phi_poly_ctor(deg=m-1)\n",
    "Phi_poly"
   ]
  },
  {
   "cell_type": "code",
   "execution_count": 8,
   "metadata": {
    "collapsed": false,
    "deletable": true,
    "editable": true
   },
   "outputs": [
    {
     "data": {
      "image/png": "[encoded data removed]",
      "text/latex": [
       "$$\\left \\{ \\left ( 1, \\quad 1\\right ) : \\Phi_{ 1, 1 }{\\left (z \\right )} = 1, \\quad \\left ( 1, \\quad 2\\right ) : \\Phi_{ 1, 2 }{\\left (z \\right )} = z - 1, \\quad \\left ( 1, \\quad 3\\right ) : \\Phi_{ 1, 3 }{\\left (z \\right )} = \\frac{z^{2}}{2} - z + \\frac{1}{2}, \\quad \\left ( 1, \\quad 4\\right ) : \\Phi_{ 1, 4 }{\\left (z \\right )} = \\frac{z^{3}}{6} - \\frac{z^{2}}{2} + \\frac{z}{2} - \\frac{1}{6}, \\quad \\left ( 1, \\quad 5\\right ) : \\Phi_{ 1, 5 }{\\left (z \\right )} = \\frac{z^{4}}{24} - \\frac{z^{3}}{6} + \\frac{z^{2}}{4} - \\frac{z}{6} + \\frac{1}{24}, \\quad \\left ( 1, \\quad 6\\right ) : \\Phi_{ 1, 6 }{\\left (z \\right )} = \\frac{z^{5}}{120} - \\frac{z^{4}}{24} + \\frac{z^{3}}{12} - \\frac{z^{2}}{12} + \\frac{z}{24} - \\frac{1}{120}, \\quad \\left ( 1, \\quad 7\\right ) : \\Phi_{ 1, 7 }{\\left (z \\right )} = \\frac{z^{6}}{720} - \\frac{z^{5}}{120} + \\frac{z^{4}}{48} - \\frac{z^{3}}{36} + \\frac{z^{2}}{48} - \\frac{z}{120} + \\frac{1}{720}, \\quad \\left ( 1, \\quad 8\\right ) : \\Phi_{ 1, 8 }{\\left (z \\right )} = \\frac{z^{7}}{5040} - \\frac{z^{6}}{720} + \\frac{z^{5}}{240} - \\frac{z^{4}}{144} + \\frac{z^{3}}{144} - \\frac{z^{2}}{240} + \\frac{z}{720} - \\frac{1}{5040}\\right \\}$$"
      ],
      "text/plain": [
       "⎧                                                                             \n",
       "⎪                                                                             \n",
       "⎨(1, 1): \\Phi_{ 1, 1 }(z) = 1, (1, 2): \\Phi_{ 1, 2 }(z) = z - 1, (1, 3): \\Phi_\n",
       "⎪                                                                             \n",
       "⎩                                                                             \n",
       "\n",
       "               2                                      3    2                  \n",
       "              z        1                             z    z    z   1          \n",
       "{ 1, 3 }(z) = ── - z + ─, (1, 4): \\Phi_{ 1, 4 }(z) = ── - ── + ─ - ─, (1, 5): \n",
       "              2        2                             6    2    2   6          \n",
       "                                                                              \n",
       "\n",
       "                    4    3    2                                        5    4 \n",
       "                   z    z    z    z   1                               z    z  \n",
       "\\Phi_{ 1, 5 }(z) = ── - ── + ── - ─ + ──, (1, 6): \\Phi_{ 1, 6 }(z) = ─── - ── \n",
       "                   24   6    4    6   24                             120   24 \n",
       "                                                                              \n",
       "\n",
       "   3    2                                          6     5    4    3    2     \n",
       "  z    z    z     1                               z     z    z    z    z     z\n",
       "+ ── - ── + ── - ───, (1, 7): \\Phi_{ 1, 7 }(z) = ─── - ─── + ── - ── + ── - ──\n",
       "  12   12   24   120                             720   120   48   36   48   12\n",
       "                                                                              \n",
       "\n",
       "                                      7      6     5     4     3     2        \n",
       "     1                               z      z     z     z     z     z     z   \n",
       "─ + ───, (1, 8): \\Phi_{ 1, 8 }(z) = ──── - ─── + ─── - ─── + ─── - ─── + ─── -\n",
       "0   720                             5040   720   240   144   144   240   720  \n",
       "                                                                              \n",
       "\n",
       "     ⎫\n",
       "  1  ⎪\n",
       " ────⎬\n",
       " 5040⎪\n",
       "     ⎭"
      ]
     },
     "execution_count": 8,
     "metadata": {},
     "output_type": "execute_result"
    }
   ],
   "source": [
    "Phi_polynomials = component_polynomials(eigendata, early_eigenvals_subs=True)\n",
    "Phi_polynomials"
   ]
  },
  {
   "cell_type": "code",
   "execution_count": 9,
   "metadata": {
    "collapsed": false,
    "deletable": true,
    "editable": true
   },
   "outputs": [
    {
     "data": {
      "image/png": "[encoded data removed]",
      "text/latex": [
       "$$\\left [ \\Phi_{ 1, 1 }{\\left (z \\right )} = 1, \\quad \\Phi_{ 1, 2 }{\\left (z \\right )} = z - \\lambda_{1}, \\quad \\Phi_{ 1, 3 }{\\left (z \\right )} = \\frac{1}{2} \\left(z - \\lambda_{1}\\right)^{2}, \\quad \\Phi_{ 1, 4 }{\\left (z \\right )} = \\frac{1}{6} \\left(z - \\lambda_{1}\\right)^{3}, \\quad \\Phi_{ 1, 5 }{\\left (z \\right )} = \\frac{1}{24} \\left(z - \\lambda_{1}\\right)^{4}, \\quad \\Phi_{ 1, 6 }{\\left (z \\right )} = \\frac{1}{120} \\left(z - \\lambda_{1}\\right)^{5}, \\quad \\Phi_{ 1, 7 }{\\left (z \\right )} = \\frac{1}{720} \\left(z - \\lambda_{1}\\right)^{6}, \\quad \\Phi_{ 1, 8 }{\\left (z \\right )} = \\frac{1}{5040} \\left(z - \\lambda_{1}\\right)^{7}\\right ]$$"
      ],
      "text/plain": [
       "⎡                                                                             \n",
       "⎢                                                                            (\n",
       "⎢\\Phi_{ 1, 1 }(z) = 1, \\Phi_{ 1, 2 }(z) = z - \\lambda[1], \\Phi_{ 1, 3 }(z) = ─\n",
       "⎣                                                                             \n",
       "\n",
       "               2                                     3                        \n",
       "z - \\lambda[1])                      (z - \\lambda[1])                      (z \n",
       "────────────────, \\Phi_{ 1, 4 }(z) = ─────────────────, \\Phi_{ 1, 5 }(z) = ───\n",
       "       2                                     6                                \n",
       "\n",
       "             4                                     5                          \n",
       "- \\lambda[1])                      (z - \\lambda[1])                      (z - \n",
       "──────────────, \\Phi_{ 1, 6 }(z) = ─────────────────, \\Phi_{ 1, 7 }(z) = ─────\n",
       "     24                                   120                                 \n",
       "\n",
       "           6                                     7⎤\n",
       "\\lambda[1])                      (z - \\lambda[1]) ⎥\n",
       "────────────, \\Phi_{ 1, 8 }(z) = ─────────────────⎥\n",
       "  720                                   5040      ⎦"
      ]
     },
     "execution_count": 9,
     "metadata": {},
     "output_type": "execute_result"
    }
   ],
   "source": [
    "[p.factor() for p in component_polynomials(eigendata, early_eigenvals_subs=False).values()]"
   ]
  },
  {
   "cell_type": "code",
   "execution_count": 10,
   "metadata": {
    "collapsed": false,
    "deletable": true,
    "editable": true
   },
   "outputs": [],
   "source": [
    "Z = IndexedBase('Z') # to be ported, discard them for now\n",
    "\n",
    "cmatrices = component_matrices(R, Phi_polynomials)\n",
    "# {Z[k]:v for k,v in cmatrices.items()} # all of them"
   ]
  },
  {
   "cell_type": "code",
   "execution_count": 11,
   "metadata": {
    "collapsed": false,
    "deletable": true,
    "editable": true
   },
   "outputs": [
    {
     "data": {
      "image/png": "[encoded data removed]",
      "text/latex": [
       "$$Z^{\\left[ \\mathcal{R}_{ 8 } \\right]}_{1,2} = \\left[\\begin{matrix}0 & 0 & 0 & 0 & 0 & 0 & 0 & 0\\\\d_{1,0} & 0 & 0 & 0 & 0 & 0 & 0 & 0\\\\d_{2,0} & d_{2,1} & 0 & 0 & 0 & 0 & 0 & 0\\\\d_{3,0} & d_{3,1} & d_{3,2} & 0 & 0 & 0 & 0 & 0\\\\d_{4,0} & d_{4,1} & d_{4,2} & d_{4,3} & 0 & 0 & 0 & 0\\\\d_{5,0} & d_{5,1} & d_{5,2} & d_{5,3} & d_{5,4} & 0 & 0 & 0\\\\d_{6,0} & d_{6,1} & d_{6,2} & d_{6,3} & d_{6,4} & d_{6,5} & 0 & 0\\\\d_{7,0} & d_{7,1} & d_{7,2} & d_{7,3} & d_{7,4} & d_{7,5} & d_{7,6} & 0\\end{matrix}\\right]$$"
      ],
      "text/plain": [
       "                                             ⎡   0        0        0        0 \n",
       "                                             ⎢                                \n",
       "                                             ⎢d[1, 0]     0        0        0 \n",
       "                                             ⎢                                \n",
       "                                             ⎢d[2, 0]  d[2, 1]     0        0 \n",
       "                                             ⎢                                \n",
       "                                             ⎢d[3, 0]  d[3, 1]  d[3, 2]     0 \n",
       "Z^{\\left[ \\mathcal{R}_{ 8 } \\right]}[1, 2] = ⎢                                \n",
       "                                             ⎢d[4, 0]  d[4, 1]  d[4, 2]  d[4, \n",
       "                                             ⎢                                \n",
       "                                             ⎢d[5, 0]  d[5, 1]  d[5, 2]  d[5, \n",
       "                                             ⎢                                \n",
       "                                             ⎢d[6, 0]  d[6, 1]  d[6, 2]  d[6, \n",
       "                                             ⎢                                \n",
       "                                             ⎣d[7, 0]  d[7, 1]  d[7, 2]  d[7, \n",
       "\n",
       "       0        0        0     0⎤\n",
       "                                ⎥\n",
       "       0        0        0     0⎥\n",
       "                                ⎥\n",
       "       0        0        0     0⎥\n",
       "                                ⎥\n",
       "       0        0        0     0⎥\n",
       "                                ⎥\n",
       "3]     0        0        0     0⎥\n",
       "                                ⎥\n",
       "3]  d[5, 4]     0        0     0⎥\n",
       "                                ⎥\n",
       "3]  d[6, 4]  d[6, 5]     0     0⎥\n",
       "                                ⎥\n",
       "3]  d[7, 4]  d[7, 5]  d[7, 6]  0⎦"
      ]
     },
     "execution_count": 11,
     "metadata": {},
     "output_type": "execute_result"
    }
   ],
   "source": [
    "cmatrices[1,2]"
   ]
  },
  {
   "cell_type": "markdown",
   "metadata": {
    "deletable": true,
    "editable": true
   },
   "source": [
    "# `sqrt` function"
   ]
  },
  {
   "cell_type": "code",
   "execution_count": 30,
   "metadata": {
    "collapsed": false,
    "deletable": true,
    "editable": true
   },
   "outputs": [
    {
     "data": {
      "image/png": "[encoded data removed]",
      "text/latex": [
       "$$f{\\left (z \\right )} = \\sqrt{z}$$"
      ],
      "text/plain": [
       "f(z) = √z"
      ]
     },
     "execution_count": 30,
     "metadata": {},
     "output_type": "execute_result"
    }
   ],
   "source": [
    "f = Function('f')\n",
    "f_sqrt = define(let=f(z), be=sqrt(z))\n",
    "f_sqrt"
   ]
  },
  {
   "cell_type": "code",
   "execution_count": 31,
   "metadata": {
    "collapsed": true,
    "deletable": true,
    "editable": true
   },
   "outputs": [],
   "source": [
    "order = 10"
   ]
  },
  {
   "cell_type": "code",
   "execution_count": 32,
   "metadata": {
    "collapsed": false,
    "deletable": true,
    "editable": true
   },
   "outputs": [
    {
     "data": {
      "image/png": "[encoded data removed]",
      "text/latex": [
       "$$\\left [ 1, \\quad \\frac{1}{2}, \\quad - \\frac{1}{4}, \\quad \\frac{3}{8}, \\quad - \\frac{15}{16}, \\quad \\frac{105}{32}, \\quad - \\frac{945}{64}, \\quad \\frac{10395}{128}, \\quad - \\frac{135135}{256}, \\quad \\frac{2027025}{512}\\right ]$$"
      ],
      "text/plain": [
       "⎡                   -15   105  -945   10395  -135135   2027025⎤\n",
       "⎢1, 1/2, -1/4, 3/8, ────, ───, ─────, ─────, ────────, ───────⎥\n",
       "⎣                    16    32    64    128     256       512  ⎦"
      ]
     },
     "execution_count": 32,
     "metadata": {},
     "output_type": "execute_result"
    }
   ],
   "source": [
    "[f_sqrt.rhs.diff(z, j, 1).subs({z:1}) for j in range(order)]"
   ]
  },
  {
   "cell_type": "code",
   "execution_count": 33,
   "metadata": {
    "collapsed": false,
    "deletable": true,
    "editable": true
   },
   "outputs": [
    {
     "data": {
      "image/png": "[encoded data removed]",
      "text/latex": [
       "$$\\left [ 1, \\quad \\frac{1}{2}, \\quad - \\frac{1}{8}, \\quad \\frac{1}{16}, \\quad - \\frac{5}{128}, \\quad \\frac{7}{256}, \\quad - \\frac{21}{1024}, \\quad \\frac{33}{2048}, \\quad - \\frac{429}{32768}, \\quad \\frac{715}{65536}\\right ]$$"
      ],
      "text/plain": [
       "⎡                                   -21    33   -429    715 ⎤\n",
       "⎢1, 1/2, -1/8, 1/16, -5/128, 7/256, ────, ────, ─────, ─────⎥\n",
       "⎣                                   1024  2048  32768  65536⎦"
      ]
     },
     "execution_count": 33,
     "metadata": {},
     "output_type": "execute_result"
    }
   ],
   "source": [
    "[f_sqrt.rhs.diff(z, j, 1).subs({z:1})/factorial(j) for j in range(order)]"
   ]
  },
  {
   "cell_type": "code",
   "execution_count": 34,
   "metadata": {
    "collapsed": false,
    "deletable": true,
    "editable": true
   },
   "outputs": [
    {
     "data": {
      "image/png": "[encoded data removed]",
      "text/latex": [
       "$$\\frac{1}{2} - \\frac{1}{8} \\left(z - 1\\right)^{2} + \\frac{1}{16} \\left(z - 1\\right)^{3} - \\frac{5}{128} \\left(z - 1\\right)^{4} + \\frac{7}{256} \\left(z - 1\\right)^{5} - \\frac{21}{1024} \\left(z - 1\\right)^{6} + \\frac{33}{2048} \\left(z - 1\\right)^{7} - \\frac{429}{32768} \\left(z - 1\\right)^{8} + \\frac{715}{65536} \\left(z - 1\\right)^{9} - \\frac{2431}{262144} \\left(z - 1\\right)^{10} + \\frac{4199}{524288} \\left(z - 1\\right)^{11} - \\frac{29393}{4194304} \\left(z - 1\\right)^{12} + \\frac{52003}{8388608} \\left(z - 1\\right)^{13} - \\frac{185725}{33554432} \\left(z - 1\\right)^{14} + \\frac{z}{2} + \\mathcal{O}\\left(\\left(z - 1\\right)^{15}; z\\rightarrow 1\\right)$$"
      ],
      "text/plain": [
       "           2          3            4            5             6             7 \n",
       "1   (z - 1)    (z - 1)    5⋅(z - 1)    7⋅(z - 1)    21⋅(z - 1)    33⋅(z - 1)  \n",
       "─ - ──────── + ──────── - ────────── + ────────── - ─────────── + ─────────── \n",
       "2      8          16         128          256           1024          2048    \n",
       "\n",
       "             8              9               10               11               \n",
       "  429⋅(z - 1)    715⋅(z - 1)    2431⋅(z - 1)     4199⋅(z - 1)     29393⋅(z - 1\n",
       "- ──────────── + ──────────── - ────────────── + ────────────── - ────────────\n",
       "     32768          65536           262144           524288           4194304 \n",
       "\n",
       " 12                13                 14                          \n",
       ")     52003⋅(z - 1)     185725⋅(z - 1)     z    ⎛       15       ⎞\n",
       "─── + ─────────────── - ──────────────── + ─ + O⎝(z - 1)  ; z → 1⎠\n",
       "          8388608           33554432       2                      "
      ]
     },
     "execution_count": 34,
     "metadata": {},
     "output_type": "execute_result"
    }
   ],
   "source": [
    "series(f_sqrt.rhs, z,1, n=15)"
   ]
  },
  {
   "cell_type": "code",
   "execution_count": 35,
   "metadata": {
    "collapsed": false,
    "deletable": true,
    "editable": true
   },
   "outputs": [
    {
     "data": {
      "image/png": "[encoded data removed]",
      "text/latex": [
       "$$\\left [ \\sqrt{z}, \\quad \\frac{1}{2 \\sqrt{z}}, \\quad - \\frac{1}{4 z^{\\frac{3}{2}}}, \\quad \\frac{3}{8 z^{\\frac{5}{2}}}, \\quad - \\frac{15}{16 z^{\\frac{7}{2}}}, \\quad \\frac{105}{32 z^{\\frac{9}{2}}}, \\quad - \\frac{945}{64 z^{\\frac{11}{2}}}, \\quad \\frac{10395}{128 z^{\\frac{13}{2}}}, \\quad - \\frac{135135}{256 z^{\\frac{15}{2}}}, \\quad \\frac{2027025}{512 z^{\\frac{17}{2}}}\\right ]$$"
      ],
      "text/plain": [
       "⎡     1     -1       3       -15      105     -945       10395     -135135    \n",
       "⎢√z, ────, ──────, ──────, ───────, ───────, ────────, ─────────, ─────────, ─\n",
       "⎢    2⋅√z     3/2     5/2      7/2      9/2      11/2       13/2       15/2   \n",
       "⎣          4⋅z     8⋅z     16⋅z     32⋅z     64⋅z      128⋅z      256⋅z      5\n",
       "\n",
       "2027025 ⎤\n",
       "────────⎥\n",
       "    17/2⎥\n",
       "12⋅z    ⎦"
      ]
     },
     "execution_count": 35,
     "metadata": {},
     "output_type": "execute_result"
    }
   ],
   "source": [
    "[f_sqrt.rhs.diff(z, j, 1) for j in range(order)]"
   ]
  },
  {
   "cell_type": "code",
   "execution_count": 36,
   "metadata": {
    "collapsed": false,
    "deletable": true,
    "editable": true
   },
   "outputs": [
    {
     "data": {
      "image/png": "[encoded data removed]",
      "text/latex": [
       "$$\\left [ \\frac{1}{2 \\sqrt{z}}, \\quad - \\frac{1}{4 z^{\\frac{3}{2}}}, \\quad \\frac{3}{8 z^{\\frac{5}{2}}}, \\quad - \\frac{15}{16 z^{\\frac{7}{2}}}, \\quad \\frac{105}{32 z^{\\frac{9}{2}}}, \\quad - \\frac{945}{64 z^{\\frac{11}{2}}}, \\quad \\frac{10395}{128 z^{\\frac{13}{2}}}, \\quad - \\frac{135135}{256 z^{\\frac{15}{2}}}, \\quad \\frac{2027025}{512 z^{\\frac{17}{2}}}\\right ]$$"
      ],
      "text/plain": [
       "⎡ 1     -1       3       -15      105     -945       10395     -135135    2027\n",
       "⎢────, ──────, ──────, ───────, ───────, ────────, ─────────, ─────────, ─────\n",
       "⎢2⋅√z     3/2     5/2      7/2      9/2      11/2       13/2       15/2       \n",
       "⎣      4⋅z     8⋅z     16⋅z     32⋅z     64⋅z      128⋅z      256⋅z      512⋅z\n",
       "\n",
       "025 ⎤\n",
       "────⎥\n",
       "17/2⎥\n",
       "    ⎦"
      ]
     },
     "execution_count": 36,
     "metadata": {},
     "output_type": "execute_result"
    }
   ],
   "source": [
    "[(-1)**n*factorial(2*(n))/(factorial(n)*2**n)/(2**(n+1)*z**((2*n+1)/S(2))) for n in range(order-1)]"
   ]
  },
  {
   "cell_type": "code",
   "execution_count": 37,
   "metadata": {
    "collapsed": false,
    "deletable": true,
    "editable": true
   },
   "outputs": [
    {
     "data": {
      "image/png": "[encoded data removed]",
      "text/latex": [
       "$$\\left [ \\frac{1}{2 \\sqrt{z}}, \\quad - \\frac{1}{4 z^{\\frac{3}{2}}}, \\quad \\frac{3}{8 z^{\\frac{5}{2}}}, \\quad - \\frac{15}{16 z^{\\frac{7}{2}}}, \\quad \\frac{105}{32 z^{\\frac{9}{2}}}, \\quad - \\frac{945}{64 z^{\\frac{11}{2}}}, \\quad \\frac{10395}{128 z^{\\frac{13}{2}}}, \\quad - \\frac{135135}{256 z^{\\frac{15}{2}}}, \\quad \\frac{2027025}{512 z^{\\frac{17}{2}}}\\right ]$$"
      ],
      "text/plain": [
       "⎡ 1     -1       3       -15      105     -945       10395     -135135    2027\n",
       "⎢────, ──────, ──────, ───────, ───────, ────────, ─────────, ─────────, ─────\n",
       "⎢2⋅√z     3/2     5/2      7/2      9/2      11/2       13/2       15/2       \n",
       "⎣      4⋅z     8⋅z     16⋅z     32⋅z     64⋅z      128⋅z      256⋅z      512⋅z\n",
       "\n",
       "025 ⎤\n",
       "────⎥\n",
       "17/2⎥\n",
       "    ⎦"
      ]
     },
     "execution_count": 37,
     "metadata": {},
     "output_type": "execute_result"
    }
   ],
   "source": [
    "[(-1)**n*factorial(2*(n))/(factorial(n)*4**n)/(2*z**((2*n+1)/S(2))) for n in range(order-1)]"
   ]
  },
  {
   "cell_type": "code",
   "execution_count": 38,
   "metadata": {
    "collapsed": false,
    "deletable": true,
    "editable": true
   },
   "outputs": [
    {
     "data": {
      "image/png": "[encoded data removed]",
      "text/latex": [
       "$$\\left [ \\frac{1}{2 \\sqrt{z}}, \\quad - \\frac{1}{4 z^{\\frac{3}{2}}}, \\quad \\frac{3}{8 z^{\\frac{5}{2}}}, \\quad - \\frac{15}{16 z^{\\frac{7}{2}}}, \\quad \\frac{105}{32 z^{\\frac{9}{2}}}, \\quad - \\frac{945}{64 z^{\\frac{11}{2}}}, \\quad \\frac{10395}{128 z^{\\frac{13}{2}}}, \\quad - \\frac{135135}{256 z^{\\frac{15}{2}}}, \\quad \\frac{2027025}{512 z^{\\frac{17}{2}}}\\right ]$$"
      ],
      "text/plain": [
       "⎡ 1     -1       3       -15      105     -945       10395     -135135    2027\n",
       "⎢────, ──────, ──────, ───────, ───────, ────────, ─────────, ─────────, ─────\n",
       "⎢2⋅√z     3/2     5/2      7/2      9/2      11/2       13/2       15/2       \n",
       "⎣      4⋅z     8⋅z     16⋅z     32⋅z     64⋅z      128⋅z      256⋅z      512⋅z\n",
       "\n",
       "025 ⎤\n",
       "────⎥\n",
       "17/2⎥\n",
       "    ⎦"
      ]
     },
     "execution_count": 38,
     "metadata": {},
     "output_type": "execute_result"
    }
   ],
   "source": [
    "[(-1)**n*binomial(2*n, n)*factorial(n)/(2*4**n)/(z**((2*n+1)/S(2))) for n in range(order-1)]"
   ]
  },
  {
   "cell_type": "code",
   "execution_count": 39,
   "metadata": {
    "collapsed": false,
    "deletable": true,
    "editable": true
   },
   "outputs": [
    {
     "data": {
      "image/png": "[encoded data removed]",
      "text/latex": [
       "$$g{\\left (z \\right )} = \\frac{33 z^{7}}{2048 \\lambda_{1}^{\\frac{13}{2}}} + z^{6} \\left(- \\frac{21}{1024 \\lambda_{1}^{\\frac{11}{2}}} - \\frac{231}{2048 \\lambda_{1}^{\\frac{13}{2}}}\\right) + z^{5} \\left(\\frac{7}{256 \\lambda_{1}^{\\frac{9}{2}}} + \\frac{63}{512 \\lambda_{1}^{\\frac{11}{2}}} + \\frac{693}{2048 \\lambda_{1}^{\\frac{13}{2}}}\\right) + z^{4} \\left(- \\frac{5}{128 \\lambda_{1}^{\\frac{7}{2}}} - \\frac{35}{256 \\lambda_{1}^{\\frac{9}{2}}} - \\frac{315}{1024 \\lambda_{1}^{\\frac{11}{2}}} - \\frac{1155}{2048 \\lambda_{1}^{\\frac{13}{2}}}\\right) + z^{3} \\left(\\frac{1}{16 \\lambda_{1}^{\\frac{5}{2}}} + \\frac{5}{32 \\lambda_{1}^{\\frac{7}{2}}} + \\frac{35}{128 \\lambda_{1}^{\\frac{9}{2}}} + \\frac{105}{256 \\lambda_{1}^{\\frac{11}{2}}} + \\frac{1155}{2048 \\lambda_{1}^{\\frac{13}{2}}}\\right) + z^{2} \\left(- \\frac{1}{8 \\lambda_{1}^{\\frac{3}{2}}} - \\frac{3}{16 \\lambda_{1}^{\\frac{5}{2}}} - \\frac{15}{64 \\lambda_{1}^{\\frac{7}{2}}} - \\frac{35}{128 \\lambda_{1}^{\\frac{9}{2}}} - \\frac{315}{1024 \\lambda_{1}^{\\frac{11}{2}}} - \\frac{693}{2048 \\lambda_{1}^{\\frac{13}{2}}}\\right) + z \\left(\\frac{1}{2 \\sqrt{\\lambda_{1}}} + \\frac{1}{4 \\lambda_{1}^{\\frac{3}{2}}} + \\frac{3}{16 \\lambda_{1}^{\\frac{5}{2}}} + \\frac{5}{32 \\lambda_{1}^{\\frac{7}{2}}} + \\frac{35}{256 \\lambda_{1}^{\\frac{9}{2}}} + \\frac{63}{512 \\lambda_{1}^{\\frac{11}{2}}} + \\frac{231}{2048 \\lambda_{1}^{\\frac{13}{2}}}\\right) + \\sqrt{\\lambda_{1}} - \\frac{1}{2 \\sqrt{\\lambda_{1}}} - \\frac{1}{8 \\lambda_{1}^{\\frac{3}{2}}} - \\frac{1}{16 \\lambda_{1}^{\\frac{5}{2}}} - \\frac{5}{128 \\lambda_{1}^{\\frac{7}{2}}} - \\frac{7}{256 \\lambda_{1}^{\\frac{9}{2}}} - \\frac{21}{1024 \\lambda_{1}^{\\frac{11}{2}}} - \\frac{33}{2048 \\lambda_{1}^{\\frac{13}{2}}}$$"
      ],
      "text/plain": [
       "                  7                                                           \n",
       "              33⋅z            6 ⎛           21                   231        ⎞ \n",
       "g(z) = ─────────────────── + z ⋅⎜- ─────────────────── - ───────────────────⎟ \n",
       "                      13/2      ⎜                 11/2                  13/2⎟ \n",
       "       2048⋅\\lambda[1]          ⎝  1024⋅\\lambda[1]       2048⋅\\lambda[1]    ⎠ \n",
       "\n",
       "                                                                              \n",
       "   5 ⎛        7                   63                   693        ⎞    4 ⎛    \n",
       "+ z ⋅⎜───────────────── + ────────────────── + ───────────────────⎟ + z ⋅⎜- ──\n",
       "     ⎜              9/2                 11/2                  13/2⎟      ⎜    \n",
       "     ⎝256⋅\\lambda[1]      512⋅\\lambda[1]       2048⋅\\lambda[1]    ⎠      ⎝  12\n",
       "\n",
       "                                                                              \n",
       "      5                   35                  315                   1155      \n",
       "─────────────── - ───────────────── - ─────────────────── - ──────────────────\n",
       "            7/2                 9/2                  11/2                  13/\n",
       "8⋅\\lambda[1]      256⋅\\lambda[1]      1024⋅\\lambda[1]       2048⋅\\lambda[1]   \n",
       "\n",
       "                                                                              \n",
       " ⎞    3 ⎛       1                  5                   35                 105 \n",
       "─⎟ + z ⋅⎜──────────────── + ──────────────── + ───────────────── + ───────────\n",
       "2⎟      ⎜             5/2                7/2                 9/2              \n",
       " ⎠      ⎝16⋅\\lambda[1]      32⋅\\lambda[1]      128⋅\\lambda[1]      256⋅\\lambda\n",
       "\n",
       "                                                                              \n",
       "                  1155       ⎞    2 ⎛         1                 3             \n",
       "─────── + ───────────────────⎟ + z ⋅⎜- ─────────────── - ──────────────── - ──\n",
       "   11/2                  13/2⎟      ⎜              3/2                5/2     \n",
       "[1]       2048⋅\\lambda[1]    ⎠      ⎝  8⋅\\lambda[1]      16⋅\\lambda[1]      64\n",
       "\n",
       "                                                                              \n",
       "     15                  35                  315                   693        \n",
       "────────────── - ───────────────── - ─────────────────── - ───────────────────\n",
       "           7/2                 9/2                  11/2                  13/2\n",
       "⋅\\lambda[1]      128⋅\\lambda[1]      1024⋅\\lambda[1]       2048⋅\\lambda[1]    \n",
       "\n",
       "                                                                              \n",
       "⎞     ⎛       1                  1                 3                  5       \n",
       "⎟ + z⋅⎜──────────────── + ─────────────── + ──────────────── + ───────────────\n",
       "⎟     ⎜    ____________               3/2                5/2                7/\n",
       "⎠     ⎝2⋅╲╱ \\lambda[1]    4⋅\\lambda[1]      16⋅\\lambda[1]      32⋅\\lambda[1]  \n",
       "\n",
       "                                                                              \n",
       "            35                  63                   231        ⎞     ________\n",
       "─ + ───────────────── + ────────────────── + ───────────────────⎟ + ╲╱ \\lambda\n",
       "2                 9/2                 11/2                  13/2⎟             \n",
       "    256⋅\\lambda[1]      512⋅\\lambda[1]       2048⋅\\lambda[1]    ⎠             \n",
       "\n",
       "                                                                              \n",
       "____          1                  1                 1                   5      \n",
       "[1]  - ──────────────── - ─────────────── - ──────────────── - ───────────────\n",
       "           ____________               3/2                5/2                 7\n",
       "       2⋅╲╱ \\lambda[1]    8⋅\\lambda[1]      16⋅\\lambda[1]      128⋅\\lambda[1] \n",
       "\n",
       "                                                                  \n",
       "             7                    21                    33        \n",
       "── - ───────────────── - ─────────────────── - ───────────────────\n",
       "/2                 9/2                  11/2                  13/2\n",
       "     256⋅\\lambda[1]      1024⋅\\lambda[1]       2048⋅\\lambda[1]    "
      ]
     },
     "execution_count": 39,
     "metadata": {},
     "output_type": "execute_result"
    }
   ],
   "source": [
    "g_sqrt = g_poly(f_sqrt, eigendata, Phi_polynomials)\n",
    "g_sqrt"
   ]
  },
  {
   "cell_type": "code",
   "execution_count": 40,
   "metadata": {
    "collapsed": false,
    "deletable": true,
    "editable": true
   },
   "outputs": [
    {
     "data": {
      "image/png": "[encoded data removed]",
      "text/latex": [
       "$$g{\\left (z \\right )} = \\frac{33 z^{7}}{2048} - \\frac{273 z^{6}}{2048} + \\frac{1001 z^{5}}{2048} - \\frac{2145 z^{4}}{2048} + \\frac{3003 z^{3}}{2048} - \\frac{3003 z^{2}}{2048} + \\frac{3003 z}{2048} + \\frac{429}{2048}$$"
      ],
      "text/plain": [
       "           7        6         5         4         3         2                \n",
       "       33⋅z    273⋅z    1001⋅z    2145⋅z    3003⋅z    3003⋅z    3003⋅z   429 \n",
       "g(z) = ───── - ────── + ─────── - ─────── + ─────── - ─────── + ────── + ────\n",
       "        2048    2048      2048      2048      2048      2048     2048    2048"
      ]
     },
     "execution_count": 40,
     "metadata": {},
     "output_type": "execute_result"
    }
   ],
   "source": [
    "g_sqrt = g_sqrt.subs(eigenvals)\n",
    "g_sqrt"
   ]
  },
  {
   "cell_type": "markdown",
   "metadata": {
    "deletable": true,
    "editable": true
   },
   "source": [
    "Checking *Equation 7*"
   ]
  },
  {
   "cell_type": "code",
   "execution_count": 41,
   "metadata": {
    "collapsed": false,
    "deletable": true,
    "editable": true
   },
   "outputs": [
    {
     "data": {
      "image/png": "[encoded data removed]",
      "text/latex": [
       "$$g{\\left (z \\right )} = \\frac{33 z^{7}}{2048} - \\frac{273 z^{6}}{2048} + \\frac{1001 z^{5}}{2048} - \\frac{2145 z^{4}}{2048} + \\frac{3003 z^{3}}{2048} - \\frac{3003 z^{2}}{2048} + \\frac{3003 z}{2048} + \\frac{429}{2048}$$"
      ],
      "text/plain": [
       "           7        6         5         4         3         2                \n",
       "       33⋅z    273⋅z    1001⋅z    2145⋅z    3003⋅z    3003⋅z    3003⋅z   429 \n",
       "g(z) = ───── - ────── + ─────── - ─────── + ─────── - ─────── + ────── + ────\n",
       "        2048    2048      2048      2048      2048      2048     2048    2048"
      ]
     },
     "execution_count": 41,
     "metadata": {},
     "output_type": "execute_result"
    }
   ],
   "source": [
    "gg = define(Function('g')(z), 1 - sum(S(1)/(j*4**(j-1))*binomial(2*(j-1), j-1)*binomial(j, k)*(-z)**(k)\n",
    "                                      for j in range(1, m) for k in range(j+1))/2) \n",
    "      \n",
    "gg"
   ]
  },
  {
   "cell_type": "code",
   "execution_count": 44,
   "metadata": {
    "collapsed": false,
    "deletable": true,
    "editable": true
   },
   "outputs": [
    {
     "data": {
      "image/png": "[encoded data removed]",
      "text/latex": [
       "$$\\mathrm{True}$$"
      ],
      "text/plain": [
       "True"
      ]
     },
     "execution_count": 44,
     "metadata": {},
     "output_type": "execute_result"
    }
   ],
   "source": [
    "Eq(g_sqrt.rhs, gg.rhs)"
   ]
  },
  {
   "cell_type": "markdown",
   "metadata": {
    "deletable": true,
    "editable": true
   },
   "source": [
    "Checking *Equation 8*"
   ]
  },
  {
   "cell_type": "code",
   "execution_count": 45,
   "metadata": {
    "collapsed": false,
    "deletable": true,
    "editable": true
   },
   "outputs": [
    {
     "data": {
      "image/png": "[encoded data removed]",
      "text/latex": [
       "$$g{\\left (z \\right )} = \\frac{33 z^{7}}{2048} - \\frac{273 z^{6}}{2048} + \\frac{1001 z^{5}}{2048} - \\frac{2145 z^{4}}{2048} + \\frac{3003 z^{3}}{2048} - \\frac{3003 z^{2}}{2048} + \\frac{3003 z}{2048} + \\frac{429}{2048}$$"
      ],
      "text/plain": [
       "           7        6         5         4         3         2                \n",
       "       33⋅z    273⋅z    1001⋅z    2145⋅z    3003⋅z    3003⋅z    3003⋅z   429 \n",
       "g(z) = ───── - ────── + ─────── - ─────── + ─────── - ─────── + ────── + ────\n",
       "        2048    2048      2048      2048      2048      2048     2048    2048"
      ]
     },
     "execution_count": 45,
     "metadata": {},
     "output_type": "execute_result"
    }
   ],
   "source": [
    "ggg = define(Function('g')(z), \n",
    "             1 \n",
    "             -sum(S(1)/(j*4**(j-1))*binomial(2*(j-1), j-1)*binomial(j, k)*(-z)**(k) \n",
    "                  for k in range(1,m)\n",
    "                  for j in range(k, m))/2 \n",
    "             -sum(S(1)/(j*4**(j-1))*binomial(2*(j-1), j-1) for j in range(1,m))/2)\n",
    "ggg"
   ]
  },
  {
   "cell_type": "code",
   "execution_count": 46,
   "metadata": {
    "collapsed": false,
    "deletable": true,
    "editable": true
   },
   "outputs": [
    {
     "data": {
      "image/png": "[encoded data removed]",
      "text/latex": [
       "$$\\mathrm{True}$$"
      ],
      "text/plain": [
       "True"
      ]
     },
     "execution_count": 46,
     "metadata": {},
     "output_type": "execute_result"
    }
   ],
   "source": [
    "Eq(g_sqrt.rhs, ggg.rhs)"
   ]
  },
  {
   "cell_type": "markdown",
   "metadata": {
    "deletable": true,
    "editable": true
   },
   "source": [
    "Checking *Equation 9*"
   ]
  },
  {
   "cell_type": "code",
   "execution_count": 47,
   "metadata": {
    "collapsed": false,
    "deletable": true,
    "editable": true
   },
   "outputs": [
    {
     "data": {
      "image/png": "[encoded data removed]",
      "text/latex": [
       "$$g{\\left (z \\right )} = \\frac{33 z^{7}}{2048} - \\frac{273 z^{6}}{2048} + \\frac{1001 z^{5}}{2048} - \\frac{2145 z^{4}}{2048} + \\frac{3003 z^{3}}{2048} - \\frac{3003 z^{2}}{2048} + \\frac{3003 z}{2048} + \\frac{429}{2048}$$"
      ],
      "text/plain": [
       "           7        6         5         4         3         2                \n",
       "       33⋅z    273⋅z    1001⋅z    2145⋅z    3003⋅z    3003⋅z    3003⋅z   429 \n",
       "g(z) = ───── - ────── + ─────── - ─────── + ─────── - ─────── + ────── + ────\n",
       "        2048    2048      2048      2048      2048      2048     2048    2048"
      ]
     },
     "execution_count": 47,
     "metadata": {},
     "output_type": "execute_result"
    }
   ],
   "source": [
    "gggg = define(Function('g')(z), 1\n",
    "       - sum(S(1)/(j*4**(j-1))*binomial(2*(j-1), j-1)*binomial(j, k)*(-z)**(k) \n",
    "           for k in range(m)\n",
    "           for j in range(k+KroneckerDelta(k,0), m))/2)\n",
    "gggg"
   ]
  },
  {
   "cell_type": "code",
   "execution_count": 48,
   "metadata": {
    "collapsed": false,
    "deletable": true,
    "editable": true
   },
   "outputs": [
    {
     "data": {
      "image/png": "[encoded data removed]",
      "text/latex": [
       "$$\\mathrm{True}$$"
      ],
      "text/plain": [
       "True"
      ]
     },
     "execution_count": 48,
     "metadata": {},
     "output_type": "execute_result"
    }
   ],
   "source": [
    "Eq(g_sqrt.rhs, gggg.rhs)"
   ]
  },
  {
   "cell_type": "markdown",
   "metadata": {
    "deletable": true,
    "editable": true
   },
   "source": [
    "Checking *Equation 10*"
   ]
  },
  {
   "cell_type": "code",
   "execution_count": 71,
   "metadata": {
    "collapsed": false,
    "deletable": true,
    "editable": true
   },
   "outputs": [
    {
     "data": {
      "image/png": "[encoded data removed]",
      "text/latex": [
       "$$g{\\left (z \\right )} = \\frac{z^{7}}{10279526400} - \\frac{7 z^{6}}{8698060800} + \\frac{7 z^{5}}{2372198400} - \\frac{z^{4}}{158146560} + \\frac{7 z^{3}}{790732800} - \\frac{7 z^{2}}{790732800} + \\frac{7 z}{790732800} + \\frac{1}{790732800}$$"
      ],
      "text/plain": [
       "             7             6            5           4            3           2\n",
       "            z           7⋅z          7⋅z           z          7⋅z         7⋅z \n",
       "g(z) = ─────────── - ────────── + ────────── - ───────── + ───────── - ───────\n",
       "       10279526400   8698060800   2372198400   158146560   790732800   7907328\n",
       "\n",
       "                          \n",
       "        7⋅z          1    \n",
       "── + ───────── + ─────────\n",
       "00   790732800   790732800"
      ]
     },
     "execution_count": 71,
     "metadata": {},
     "output_type": "execute_result"
    }
   ],
   "source": [
    "ggggg = define(Function('g')(z), S(2)/(4**m*(2*m-1)*binomial(2*m, m))*\n",
    "              sum(S(k-m)/(2*k-1)*binomial(m, k)*(-z)**(k) for k in range(1,m))\n",
    "              + S(2)*m/(4**m*(2*m-1)*binomial(2*m, m)))\n",
    "ggggg"
   ]
  },
  {
   "cell_type": "code",
   "execution_count": 69,
   "metadata": {
    "collapsed": false,
    "deletable": true,
    "editable": true
   },
   "outputs": [
    {
     "data": {
      "image/png": "[encoded data removed]",
      "text/latex": [
       "$$\\mathrm{True}$$"
      ],
      "text/plain": [
       "True"
      ]
     },
     "execution_count": 69,
     "metadata": {},
     "output_type": "execute_result"
    }
   ],
   "source": [
    "Eq(g_sqrt.rhs, gggg.rhs)"
   ]
  },
  {
   "cell_type": "markdown",
   "metadata": {
    "deletable": true,
    "editable": true
   },
   "source": [
    "# `expt` function"
   ]
  },
  {
   "cell_type": "code",
   "execution_count": 9,
   "metadata": {
    "collapsed": false,
    "deletable": true,
    "editable": true
   },
   "outputs": [
    {
     "data": {
      "image/png": "[encoded data removed]",
      "text/latex": [
       "$$f{\\left (z \\right )} = e^{\\alpha z}$$"
      ],
      "text/plain": [
       "        α⋅z\n",
       "f(z) = ℯ   "
      ]
     },
     "execution_count": 9,
     "metadata": {},
     "output_type": "execute_result"
    }
   ],
   "source": [
    "f = Function('f')\n",
    "f_expt = define(let=f(z), be=exp(alpha*z))\n",
    "f_expt"
   ]
  },
  {
   "cell_type": "code",
   "execution_count": 10,
   "metadata": {
    "collapsed": false,
    "deletable": true,
    "editable": true
   },
   "outputs": [
    {
     "data": {
      "image/png": "[encoded data removed]",
      "text/latex": [
       "$$\\left [ e^{\\alpha z}, \\quad \\alpha e^{\\alpha z}, \\quad \\alpha^{2} e^{\\alpha z}, \\quad \\alpha^{3} e^{\\alpha z}, \\quad \\alpha^{4} e^{\\alpha z}, \\quad \\alpha^{5} e^{\\alpha z}, \\quad \\alpha^{6} e^{\\alpha z}, \\quad \\alpha^{7} e^{\\alpha z}, \\quad \\alpha^{8} e^{\\alpha z}, \\quad \\alpha^{9} e^{\\alpha z}, \\quad \\alpha^{10} e^{\\alpha z}\\right ]$$"
      ],
      "text/plain": [
       "⎡ α⋅z     α⋅z   2  α⋅z   3  α⋅z   4  α⋅z   5  α⋅z   6  α⋅z   7  α⋅z   8  α⋅z  \n",
       "⎣ℯ   , α⋅ℯ   , α ⋅ℯ   , α ⋅ℯ   , α ⋅ℯ   , α ⋅ℯ   , α ⋅ℯ   , α ⋅ℯ   , α ⋅ℯ   , \n",
       "\n",
       " 9  α⋅z   10  α⋅z⎤\n",
       "α ⋅ℯ   , α  ⋅ℯ   ⎦"
      ]
     },
     "execution_count": 10,
     "metadata": {},
     "output_type": "execute_result"
    }
   ],
   "source": [
    "[f_expt.rhs.diff(z, i) for i in range(11)]"
   ]
  },
  {
   "cell_type": "code",
   "execution_count": 11,
   "metadata": {
    "collapsed": false,
    "deletable": true,
    "editable": true
   },
   "outputs": [
    {
     "data": {
      "image/png": "[encoded data removed]",
      "text/latex": [
       "$$\\left(- \\alpha\\right)^{j - 1}$$"
      ],
      "text/plain": [
       "    j - 1\n",
       "(-α)     "
      ]
     },
     "execution_count": 11,
     "metadata": {},
     "output_type": "execute_result"
    }
   ],
   "source": [
    "powdenest((-1)**(j-1)*alpha**(j-1), force=True)"
   ]
  },
  {
   "cell_type": "code",
   "execution_count": 12,
   "metadata": {
    "collapsed": false,
    "deletable": true,
    "editable": true
   },
   "outputs": [
    {
     "data": {
      "image/png": "[encoded data removed]",
      "text/latex": [
       "$$\\sum_{j=k}^{z - 1} \\frac{\\left(- \\alpha\\right)^{j}}{j!} {\\binom{j}{k}}$$"
      ],
      "text/plain": [
       "z - 1          \n",
       "_____          \n",
       "╲              \n",
       " ╲        j ⎛j⎞\n",
       "  ╲   (-α) ⋅⎜ ⎟\n",
       "   ╲        ⎝k⎠\n",
       "   ╱  ─────────\n",
       "  ╱       j!   \n",
       " ╱             \n",
       "╱              \n",
       "‾‾‾‾‾          \n",
       "j = k          "
      ]
     },
     "execution_count": 12,
     "metadata": {},
     "output_type": "execute_result"
    }
   ],
   "source": [
    "ss = Sum((-alpha)**j*binomial(j, k)/factorial(j), (j, k, z-1))\n",
    "ss"
   ]
  },
  {
   "cell_type": "code",
   "execution_count": 13,
   "metadata": {
    "collapsed": false,
    "deletable": true,
    "editable": true
   },
   "outputs": [
    {
     "data": {
      "image/png": "[encoded data removed]",
      "text/latex": [
       "$$\\frac{\\left(-1\\right)^{k}}{e k!} + \\frac{\\left(-1\\right)^{z} {\\binom{z}{k}}}{e z!} \\left(k - z\\right) e^{i \\pi \\left(k - z\\right)} \\gamma\\left(- k + z, e^{i \\pi}\\right)$$"
      ],
      "text/plain": [
       "                z          -1  ⅈ⋅π⋅(k - z) ⎛z⎞  ⎛         ⅈ⋅π⎞\n",
       "    k  -1   (-1) ⋅(k - z)⋅ℯ  ⋅ℯ           ⋅⎜ ⎟⋅γ⎝-k + z, ℯ   ⎠\n",
       "(-1) ⋅ℯ                                    ⎝k⎠                \n",
       "───────── + ──────────────────────────────────────────────────\n",
       "    k!                              z!                        "
      ]
     },
     "execution_count": 13,
     "metadata": {},
     "output_type": "execute_result"
    }
   ],
   "source": [
    "ss.doit().simplify().subs({alpha:1})"
   ]
  },
  {
   "cell_type": "markdown",
   "metadata": {
    "deletable": true,
    "editable": true
   },
   "source": [
    "checking *Equation 11*:"
   ]
  },
  {
   "cell_type": "code",
   "execution_count": 35,
   "metadata": {
    "collapsed": false,
    "deletable": true,
    "editable": true
   },
   "outputs": [
    {
     "data": {
      "image/png": "[encoded data removed]",
      "text/latex": [
       "$$\\frac{\\left(- \\alpha\\right)^{k}}{k!} e^{- \\alpha}$$"
      ],
      "text/plain": [
       "    k  -α\n",
       "(-α) ⋅ℯ  \n",
       "─────────\n",
       "    k!   "
      ]
     },
     "execution_count": 35,
     "metadata": {},
     "output_type": "execute_result"
    }
   ],
   "source": [
    "ss.subs({z-1:oo}).doit()"
   ]
  },
  {
   "cell_type": "markdown",
   "metadata": {
    "deletable": true,
    "editable": true
   },
   "source": [
    "which is the expansion of $e^{\\alpha}$ as required."
   ]
  },
  {
   "cell_type": "code",
   "execution_count": 14,
   "metadata": {
    "collapsed": false,
    "deletable": true,
    "editable": true
   },
   "outputs": [
    {
     "data": {
      "image/png": "[encoded data removed]",
      "text/latex": [
       "$$g{\\left (z \\right )} = \\frac{\\alpha^{7} z^{7}}{5040} e^{\\alpha \\lambda_{1}} - \\frac{\\alpha^{7}}{5040} e^{\\alpha \\lambda_{1}} + \\frac{\\alpha^{6}}{720} e^{\\alpha \\lambda_{1}} - \\frac{\\alpha^{5}}{120} e^{\\alpha \\lambda_{1}} + \\frac{\\alpha^{4}}{24} e^{\\alpha \\lambda_{1}} - \\frac{\\alpha^{3}}{6} e^{\\alpha \\lambda_{1}} + \\frac{\\alpha^{2}}{2} e^{\\alpha \\lambda_{1}} - \\alpha e^{\\alpha \\lambda_{1}} + z^{6} \\left(- \\frac{\\alpha^{7}}{720} e^{\\alpha \\lambda_{1}} + \\frac{\\alpha^{6}}{720} e^{\\alpha \\lambda_{1}}\\right) + z^{5} \\left(\\frac{\\alpha^{7}}{240} e^{\\alpha \\lambda_{1}} - \\frac{\\alpha^{6}}{120} e^{\\alpha \\lambda_{1}} + \\frac{\\alpha^{5}}{120} e^{\\alpha \\lambda_{1}}\\right) + z^{4} \\left(- \\frac{\\alpha^{7}}{144} e^{\\alpha \\lambda_{1}} + \\frac{\\alpha^{6}}{48} e^{\\alpha \\lambda_{1}} - \\frac{\\alpha^{5}}{24} e^{\\alpha \\lambda_{1}} + \\frac{\\alpha^{4}}{24} e^{\\alpha \\lambda_{1}}\\right) + z^{3} \\left(\\frac{\\alpha^{7}}{144} e^{\\alpha \\lambda_{1}} - \\frac{\\alpha^{6}}{36} e^{\\alpha \\lambda_{1}} + \\frac{\\alpha^{5}}{12} e^{\\alpha \\lambda_{1}} - \\frac{\\alpha^{4}}{6} e^{\\alpha \\lambda_{1}} + \\frac{\\alpha^{3}}{6} e^{\\alpha \\lambda_{1}}\\right) + z^{2} \\left(- \\frac{\\alpha^{7}}{240} e^{\\alpha \\lambda_{1}} + \\frac{\\alpha^{6}}{48} e^{\\alpha \\lambda_{1}} - \\frac{\\alpha^{5}}{12} e^{\\alpha \\lambda_{1}} + \\frac{\\alpha^{4}}{4} e^{\\alpha \\lambda_{1}} - \\frac{\\alpha^{3}}{2} e^{\\alpha \\lambda_{1}} + \\frac{\\alpha^{2}}{2} e^{\\alpha \\lambda_{1}}\\right) + z \\left(\\frac{\\alpha^{7}}{720} e^{\\alpha \\lambda_{1}} - \\frac{\\alpha^{6}}{120} e^{\\alpha \\lambda_{1}} + \\frac{\\alpha^{5}}{24} e^{\\alpha \\lambda_{1}} - \\frac{\\alpha^{4}}{6} e^{\\alpha \\lambda_{1}} + \\frac{\\alpha^{3}}{2} e^{\\alpha \\lambda_{1}} - \\alpha^{2} e^{\\alpha \\lambda_{1}} + \\alpha e^{\\alpha \\lambda_{1}}\\right) + e^{\\alpha \\lambda_{1}}$$"
      ],
      "text/plain": [
       "        7  7  α⋅\\lambda[1]    7  α⋅\\lambda[1]    6  α⋅\\lambda[1]    5  α⋅\\lamb\n",
       "       α ⋅z ⋅ℯ               α ⋅ℯ               α ⋅ℯ               α ⋅ℯ       \n",
       "g(z) = ─────────────────── - ──────────────── + ──────────────── - ───────────\n",
       "               5040                5040               720                120  \n",
       "\n",
       "da[1]    4  α⋅\\lambda[1]    3  α⋅\\lambda[1]    2  α⋅\\lambda[1]                \n",
       "        α ⋅ℯ               α ⋅ℯ               α ⋅ℯ                  α⋅\\lambda[\n",
       "───── + ──────────────── - ──────────────── + ──────────────── - α⋅ℯ          \n",
       "               24                 6                  2                        \n",
       "\n",
       "        ⎛   7  α⋅\\lambda[1]    6  α⋅\\lambda[1]⎞      ⎛ 7  α⋅\\lambda[1]    6  α\n",
       "1]    6 ⎜  α ⋅ℯ               α ⋅ℯ            ⎟    5 ⎜α ⋅ℯ               α ⋅ℯ \n",
       "   + z ⋅⎜- ──────────────── + ────────────────⎟ + z ⋅⎜──────────────── - ─────\n",
       "        ⎝        720                720       ⎠      ⎝      240               \n",
       "\n",
       "⋅\\lambda[1]    5  α⋅\\lambda[1]⎞      ⎛   7  α⋅\\lambda[1]    6  α⋅\\lambda[1]   \n",
       "              α ⋅ℯ            ⎟    4 ⎜  α ⋅ℯ               α ⋅ℯ               \n",
       "─────────── + ────────────────⎟ + z ⋅⎜- ──────────────── + ──────────────── - \n",
       " 120                120       ⎠      ⎝        144                 48          \n",
       "\n",
       " 5  α⋅\\lambda[1]    4  α⋅\\lambda[1]⎞      ⎛ 7  α⋅\\lambda[1]    6  α⋅\\lambda[1]\n",
       "α ⋅ℯ               α ⋅ℯ            ⎟    3 ⎜α ⋅ℯ               α ⋅ℯ            \n",
       "──────────────── + ────────────────⎟ + z ⋅⎜──────────────── - ────────────────\n",
       "       24                 24       ⎠      ⎝      144                 36       \n",
       "\n",
       "    5  α⋅\\lambda[1]    4  α⋅\\lambda[1]    3  α⋅\\lambda[1]⎞      ⎛   7  α⋅\\lamb\n",
       "   α ⋅ℯ               α ⋅ℯ               α ⋅ℯ            ⎟    2 ⎜  α ⋅ℯ       \n",
       " + ──────────────── - ──────────────── + ────────────────⎟ + z ⋅⎜- ───────────\n",
       "          12                 6                  6        ⎠      ⎝        240  \n",
       "\n",
       "da[1]    6  α⋅\\lambda[1]    5  α⋅\\lambda[1]    4  α⋅\\lambda[1]    3  α⋅\\lambda\n",
       "        α ⋅ℯ               α ⋅ℯ               α ⋅ℯ               α ⋅ℯ         \n",
       "───── + ──────────────── - ──────────────── + ──────────────── - ─────────────\n",
       "               48                 12                 4                  2     \n",
       "\n",
       "[1]    2  α⋅\\lambda[1]⎞     ⎛ 7  α⋅\\lambda[1]    6  α⋅\\lambda[1]    5  α⋅\\lamb\n",
       "      α ⋅ℯ            ⎟     ⎜α ⋅ℯ               α ⋅ℯ               α ⋅ℯ       \n",
       "─── + ────────────────⎟ + z⋅⎜──────────────── - ──────────────── + ───────────\n",
       "             2        ⎠     ⎝      720                120                 24  \n",
       "\n",
       "da[1]    4  α⋅\\lambda[1]    3  α⋅\\lambda[1]                                   \n",
       "        α ⋅ℯ               α ⋅ℯ                2  α⋅\\lambda[1]      α⋅\\lambda[\n",
       "───── - ──────────────── + ──────────────── - α ⋅ℯ             + α⋅ℯ          \n",
       "               6                  2                                           \n",
       "\n",
       "  ⎞                \n",
       "1]⎟    α⋅\\lambda[1]\n",
       "  ⎟ + ℯ            \n",
       "  ⎠                "
      ]
     },
     "execution_count": 14,
     "metadata": {},
     "output_type": "execute_result"
    }
   ],
   "source": [
    "g_expt = g_poly(f_expt, eigendata, Phi_polynomials)\n",
    "g_expt"
   ]
  },
  {
   "cell_type": "code",
   "execution_count": 31,
   "metadata": {
    "collapsed": false,
    "deletable": true,
    "editable": true
   },
   "outputs": [
    {
     "data": {
      "image/png": "[encoded data removed]",
      "text/latex": [
       "$$g{\\left (z \\right )} = \\left(\\frac{\\alpha^{7} z^{7}}{5040} - \\frac{\\alpha^{7}}{5040} + \\frac{\\alpha^{6} z^{6}}{720} \\left(- \\alpha + 1\\right) + \\frac{\\alpha^{6}}{720} + \\frac{\\alpha^{5} z^{5}}{240} \\left(\\alpha^{2} - 2 \\alpha + 2\\right) - \\frac{\\alpha^{5}}{120} + \\frac{\\alpha^{4} z^{4}}{144} \\left(- \\alpha^{3} + 3 \\alpha^{2} - 6 \\alpha + 6\\right) + \\frac{\\alpha^{4}}{24} + \\frac{\\alpha^{3} z^{3}}{144} \\left(\\alpha^{4} - 4 \\alpha^{3} + 12 \\alpha^{2} - 24 \\alpha + 24\\right) - \\frac{\\alpha^{3}}{6} + \\frac{\\alpha^{2} z^{2}}{240} \\left(- \\alpha^{5} + 5 \\alpha^{4} - 20 \\alpha^{3} + 60 \\alpha^{2} - 120 \\alpha + 120\\right) + \\frac{\\alpha^{2}}{2} + \\frac{\\alpha z}{720} \\left(\\alpha^{6} - 6 \\alpha^{5} + 30 \\alpha^{4} - 120 \\alpha^{3} + 360 \\alpha^{2} - 720 \\alpha + 720\\right) - \\alpha + 1\\right) e^{\\alpha}$$"
      ],
      "text/plain": [
       "       ⎛ 7  7     7     6  6              6    5  5 ⎛ 2          ⎞     5    4 \n",
       "       ⎜α ⋅z     α     α ⋅z ⋅(-α + 1)    α    α ⋅z ⋅⎝α  - 2⋅α + 2⎠    α    α ⋅\n",
       "g(z) = ⎜───── - ──── + ────────────── + ─── + ──────────────────── - ─── + ───\n",
       "       ⎝ 5040   5040        720         720           240            120      \n",
       "\n",
       " 4 ⎛   3      2          ⎞    4    3  3 ⎛ 4      3       2            ⎞    3  \n",
       "z ⋅⎝- α  + 3⋅α  - 6⋅α + 6⎠   α    α ⋅z ⋅⎝α  - 4⋅α  + 12⋅α  - 24⋅α + 24⎠   α   \n",
       "────────────────────────── + ── + ───────────────────────────────────── - ── +\n",
       "          144                24                    144                    6   \n",
       "\n",
       "  2  2 ⎛   5      4       3       2              ⎞    2       ⎛ 6      5      \n",
       " α ⋅z ⋅⎝- α  + 5⋅α  - 20⋅α  + 60⋅α  - 120⋅α + 120⎠   α    α⋅z⋅⎝α  - 6⋅α  + 30⋅\n",
       " ───────────────────────────────────────────────── + ── + ────────────────────\n",
       "                        240                          2                        \n",
       "\n",
       " 4        3        2              ⎞        ⎞   \n",
       "α  - 120⋅α  + 360⋅α  - 720⋅α + 720⎠        ⎟  α\n",
       "─────────────────────────────────── - α + 1⎟⋅ℯ \n",
       "      720                                  ⎠   "
      ]
     },
     "execution_count": 31,
     "metadata": {},
     "output_type": "execute_result"
    }
   ],
   "source": [
    "g_expt = g_expt.subs(eigenvals)\n",
    "simp_g_expt = Eq(g_expt.lhs, exp(alpha)*(g_expt.rhs/exp(alpha)).simplify().collect(z))\n",
    "simp_g_expt"
   ]
  },
  {
   "cell_type": "code",
   "execution_count": 32,
   "metadata": {
    "collapsed": false,
    "deletable": true,
    "editable": true
   },
   "outputs": [
    {
     "data": {
      "image/png": "[encoded data removed]",
      "text/latex": [
       "$$g{\\left (z \\right )} = e \\left(\\frac{z^{7}}{5040} + \\frac{z^{5}}{240} + \\frac{z^{4}}{72} + \\frac{z^{3}}{16} + \\frac{11 z^{2}}{60} + \\frac{53 z}{144} + \\frac{103}{280}\\right)$$"
      ],
      "text/plain": [
       "         ⎛  7      5    4    3       2             ⎞\n",
       "         ⎜ z      z    z    z    11⋅z    53⋅z   103⎟\n",
       "g(z) = ℯ⋅⎜──── + ─── + ── + ── + ───── + ──── + ───⎟\n",
       "         ⎝5040   240   72   16     60    144    280⎠"
      ]
     },
     "execution_count": 32,
     "metadata": {},
     "output_type": "execute_result"
    }
   ],
   "source": [
    "simp_g_expt.subs({alpha:1})"
   ]
  },
  {
   "cell_type": "code",
   "execution_count": 33,
   "metadata": {
    "collapsed": false,
    "deletable": true,
    "editable": true
   },
   "outputs": [
    {
     "data": {
      "image/png": "[encoded data removed]",
      "text/latex": [
       "$$g{\\left (z \\right )} = \\frac{1}{e} \\left(- \\frac{z^{7}}{5040} + \\frac{z^{6}}{360} - \\frac{z^{5}}{48} + \\frac{z^{4}}{9} - \\frac{65 z^{3}}{144} + \\frac{163 z^{2}}{120} - \\frac{1957 z}{720} + \\frac{685}{252}\\right)$$"
      ],
      "text/plain": [
       "       ⎛    7      6    5    4       3        2               ⎞    \n",
       "       ⎜   z      z    z    z    65⋅z    163⋅z    1957⋅z   685⎟  -1\n",
       "g(z) = ⎜- ──── + ─── - ── + ── - ───── + ────── - ────── + ───⎟⋅ℯ  \n",
       "       ⎝  5040   360   48   9     144     120      720     252⎠    "
      ]
     },
     "execution_count": 33,
     "metadata": {},
     "output_type": "execute_result"
    }
   ],
   "source": [
    "simp_g_expt.subs({alpha:-1})"
   ]
  },
  {
   "cell_type": "markdown",
   "metadata": {
    "deletable": true,
    "editable": true
   },
   "source": [
    "# `log` function"
   ]
  },
  {
   "cell_type": "code",
   "execution_count": 26,
   "metadata": {
    "collapsed": false,
    "deletable": true,
    "editable": true
   },
   "outputs": [
    {
     "data": {
      "image/png": "[encoded data removed]",
      "text/latex": [
       "$$f{\\left (z \\right )} = \\log{\\left (z \\right )}$$"
      ],
      "text/plain": [
       "f(z) = log(z)"
      ]
     },
     "execution_count": 26,
     "metadata": {},
     "output_type": "execute_result"
    }
   ],
   "source": [
    "f = Function('f')\n",
    "f_log = define(let=f(z), be=ln(z))\n",
    "f_log"
   ]
  },
  {
   "cell_type": "code",
   "execution_count": 27,
   "metadata": {
    "collapsed": false,
    "deletable": true,
    "editable": true
   },
   "outputs": [
    {
     "data": {
      "image/png": "[encoded data removed]",
      "text/latex": [
       "$$\\left [ \\log{\\left (z \\right )}, \\quad \\frac{1}{z}, \\quad - \\frac{1}{z^{2}}, \\quad \\frac{2}{z^{3}}, \\quad - \\frac{6}{z^{4}}, \\quad \\frac{24}{z^{5}}, \\quad - \\frac{120}{z^{6}}, \\quad \\frac{720}{z^{7}}, \\quad - \\frac{5040}{z^{8}}, \\quad \\frac{40320}{z^{9}}, \\quad - \\frac{362880}{z^{10}}\\right ]$$"
      ],
      "text/plain": [
       "⎡        1  -1   2   -6   24  -120   720  -5040   40320  -362880 ⎤\n",
       "⎢log(z), ─, ───, ──, ───, ──, ─────, ───, ──────, ─────, ────────⎥\n",
       "⎢        z    2   3    4   5     6     7     8       9      10   ⎥\n",
       "⎣            z   z    z   z     z     z     z       z      z     ⎦"
      ]
     },
     "execution_count": 27,
     "metadata": {},
     "output_type": "execute_result"
    }
   ],
   "source": [
    "[f_log.rhs.diff(z, i) for i in range(11)]"
   ]
  },
  {
   "cell_type": "code",
   "execution_count": 28,
   "metadata": {
    "collapsed": false,
    "deletable": true,
    "editable": true
   },
   "outputs": [
    {
     "data": {
      "image/png": "[encoded data removed]",
      "text/latex": [
       "$$\\left [ \\frac{1}{z}, \\quad - \\frac{1}{z^{2}}, \\quad \\frac{2}{z^{3}}, \\quad - \\frac{6}{z^{4}}, \\quad \\frac{24}{z^{5}}, \\quad - \\frac{120}{z^{6}}, \\quad \\frac{720}{z^{7}}, \\quad - \\frac{5040}{z^{8}}, \\quad \\frac{40320}{z^{9}}, \\quad - \\frac{362880}{z^{10}}\\right ]$$"
      ],
      "text/plain": [
       "⎡1  -1   2   -6   24  -120   720  -5040   40320  -362880 ⎤\n",
       "⎢─, ───, ──, ───, ──, ─────, ───, ──────, ─────, ────────⎥\n",
       "⎢z    2   3    4   5     6     7     8       9      10   ⎥\n",
       "⎣    z   z    z   z     z     z     z       z      z     ⎦"
      ]
     },
     "execution_count": 28,
     "metadata": {},
     "output_type": "execute_result"
    }
   ],
   "source": [
    "[(-1)**i*factorial(i)/z**(i+1) for i in range(10)]"
   ]
  },
  {
   "cell_type": "code",
   "execution_count": 29,
   "metadata": {
    "collapsed": false,
    "deletable": true,
    "editable": true
   },
   "outputs": [
    {
     "data": {
      "image/png": "[encoded data removed]",
      "text/latex": [
       "$$\\sum_{j=k}^{z - 1} \\frac{{\\binom{j}{k}}}{j}$$"
      ],
      "text/plain": [
       "z - 1    \n",
       "_____    \n",
       "╲        \n",
       " ╲    ⎛j⎞\n",
       "  ╲   ⎜ ⎟\n",
       "   ╲  ⎝k⎠\n",
       "   ╱  ───\n",
       "  ╱    j \n",
       " ╱       \n",
       "╱        \n",
       "‾‾‾‾‾    \n",
       "j = k    "
      ]
     },
     "execution_count": 29,
     "metadata": {},
     "output_type": "execute_result"
    }
   ],
   "source": [
    "ss = Sum(binomial(j, k)/j, (j, k, z-1))\n",
    "ss"
   ]
  },
  {
   "cell_type": "code",
   "execution_count": 30,
   "metadata": {
    "collapsed": false,
    "deletable": true,
    "editable": true
   },
   "outputs": [
    {
     "data": {
      "image/png": "[encoded data removed]",
      "text/latex": [
       "$$\\frac{1}{k} {\\binom{z - 1}{k}}$$"
      ],
      "text/plain": [
       "⎛z - 1⎞\n",
       "⎜     ⎟\n",
       "⎝  k  ⎠\n",
       "───────\n",
       "   k   "
      ]
     },
     "execution_count": 30,
     "metadata": {},
     "output_type": "execute_result"
    }
   ],
   "source": [
    "ss.doit()"
   ]
  },
  {
   "cell_type": "code",
   "execution_count": 31,
   "metadata": {
    "collapsed": false,
    "deletable": true,
    "editable": true
   },
   "outputs": [
    {
     "data": {
      "image/png": "[encoded data removed]",
      "text/latex": [
       "$$\\sum_{j=1}^{z - 1} \\frac{1}{j}$$"
      ],
      "text/plain": [
       "z - 1  \n",
       " ____  \n",
       " ╲     \n",
       "  ╲   1\n",
       "   ╲  ─\n",
       "   ╱  j\n",
       "  ╱    \n",
       " ╱     \n",
       " ‾‾‾‾  \n",
       "j = 1  "
      ]
     },
     "execution_count": 31,
     "metadata": {},
     "output_type": "execute_result"
    }
   ],
   "source": [
    "ss = Sum(1/j, (j, 1, z-1))\n",
    "ss"
   ]
  },
  {
   "cell_type": "code",
   "execution_count": 32,
   "metadata": {
    "collapsed": false,
    "deletable": true,
    "editable": true
   },
   "outputs": [
    {
     "data": {
      "image/png": "[encoded data removed]",
      "text/latex": [
       "$$\\operatorname{harmonic}{\\left (z - 1 \\right )}$$"
      ],
      "text/plain": [
       "harmonic(z - 1)"
      ]
     },
     "execution_count": 32,
     "metadata": {},
     "output_type": "execute_result"
    }
   ],
   "source": [
    "ss.doit()"
   ]
  },
  {
   "cell_type": "markdown",
   "metadata": {
    "deletable": true,
    "editable": true
   },
   "source": [
    "checking *Equation 11*:"
   ]
  },
  {
   "cell_type": "code",
   "execution_count": 33,
   "metadata": {
    "collapsed": false,
    "deletable": true,
    "editable": true
   },
   "outputs": [
    {
     "data": {
      "image/png": "[encoded data removed]",
      "text/latex": [
       "$$g{\\left (z \\right )} = \\frac{z^{7}}{7 \\lambda_{1}^{7}} + z^{6} \\left(- \\frac{1}{6 \\lambda_{1}^{6}} - \\frac{1}{\\lambda_{1}^{7}}\\right) + z^{5} \\left(\\frac{1}{5 \\lambda_{1}^{5}} + \\frac{1}{\\lambda_{1}^{6}} + \\frac{3}{\\lambda_{1}^{7}}\\right) + z^{4} \\left(- \\frac{1}{4 \\lambda_{1}^{4}} - \\frac{1}{\\lambda_{1}^{5}} - \\frac{5}{2 \\lambda_{1}^{6}} - \\frac{5}{\\lambda_{1}^{7}}\\right) + z^{3} \\left(\\frac{1}{3 \\lambda_{1}^{3}} + \\frac{1}{\\lambda_{1}^{4}} + \\frac{2}{\\lambda_{1}^{5}} + \\frac{10}{3 \\lambda_{1}^{6}} + \\frac{5}{\\lambda_{1}^{7}}\\right) + z^{2} \\left(- \\frac{1}{2 \\lambda_{1}^{2}} - \\frac{1}{\\lambda_{1}^{3}} - \\frac{3}{2 \\lambda_{1}^{4}} - \\frac{2}{\\lambda_{1}^{5}} - \\frac{5}{2 \\lambda_{1}^{6}} - \\frac{3}{\\lambda_{1}^{7}}\\right) + z \\left(\\frac{1}{\\lambda_{1}} + \\frac{1}{\\lambda_{1}^{2}} + \\frac{1}{\\lambda_{1}^{3}} + \\frac{1}{\\lambda_{1}^{4}} + \\frac{1}{\\lambda_{1}^{5}} + \\frac{1}{\\lambda_{1}^{6}} + \\frac{1}{\\lambda_{1}^{7}}\\right) + \\log{\\left (\\lambda_{1} \\right )} - \\frac{1}{\\lambda_{1}} - \\frac{1}{2 \\lambda_{1}^{2}} - \\frac{1}{3 \\lambda_{1}^{3}} - \\frac{1}{4 \\lambda_{1}^{4}} - \\frac{1}{5 \\lambda_{1}^{5}} - \\frac{1}{6 \\lambda_{1}^{6}} - \\frac{1}{7 \\lambda_{1}^{7}}$$"
      ],
      "text/plain": [
       "              7                                                               \n",
       "             z          6 ⎛        1              1     ⎞    5 ⎛      1       \n",
       "g(z) = ───────────── + z ⋅⎜- ───────────── - ───────────⎟ + z ⋅⎜───────────── \n",
       "                   7      ⎜              6             7⎟      ⎜            5 \n",
       "       7⋅\\lambda[1]       ⎝  6⋅\\lambda[1]    \\lambda[1] ⎠      ⎝5⋅\\lambda[1]  \n",
       "\n",
       "                                                                              \n",
       "       1             3     ⎞    4 ⎛        1              1              5    \n",
       "+ ─────────── + ───────────⎟ + z ⋅⎜- ───────────── - ─────────── - ───────────\n",
       "            6             7⎟      ⎜              4             5              \n",
       "  \\lambda[1]    \\lambda[1] ⎠      ⎝  4⋅\\lambda[1]    \\lambda[1]    2⋅\\lambda[1\n",
       "\n",
       "                                                                              \n",
       "          5     ⎞    3 ⎛      1              1             2              10  \n",
       "── - ───────────⎟ + z ⋅⎜───────────── + ─────────── + ─────────── + ──────────\n",
       " 6             7⎟      ⎜            3             4             5             \n",
       "]    \\lambda[1] ⎠      ⎝3⋅\\lambda[1]    \\lambda[1]    \\lambda[1]    3⋅\\lambda[\n",
       "\n",
       "                                                                              \n",
       "           5     ⎞    2 ⎛        1              1              3              \n",
       "─── + ───────────⎟ + z ⋅⎜- ───────────── - ─────────── - ───────────── - ─────\n",
       "  6             7⎟      ⎜              2             3               4        \n",
       "1]    \\lambda[1] ⎠      ⎝  2⋅\\lambda[1]    \\lambda[1]    2⋅\\lambda[1]    \\lamb\n",
       "\n",
       "                                                                              \n",
       "2              5              3     ⎞     ⎛    1             1             1  \n",
       "────── - ───────────── - ───────────⎟ + z⋅⎜────────── + ─────────── + ────────\n",
       "     5               6             7⎟     ⎜\\lambda[1]             2           \n",
       "da[1]    2⋅\\lambda[1]    \\lambda[1] ⎠     ⎝             \\lambda[1]    \\lambda[\n",
       "\n",
       "                                                                              \n",
       "           1             1             1             1     ⎞                  \n",
       "─── + ─────────── + ─────────── + ─────────── + ───────────⎟ + log(\\lambda[1])\n",
       "  3             4             5             6             7⎟                  \n",
       "1]    \\lambda[1]    \\lambda[1]    \\lambda[1]    \\lambda[1] ⎠                  \n",
       "\n",
       "                                                                              \n",
       "       1              1               1               1               1       \n",
       " - ────────── - ───────────── - ───────────── - ───────────── - ───────────── \n",
       "   \\lambda[1]               2               3               4               5 \n",
       "                2⋅\\lambda[1]    3⋅\\lambda[1]    4⋅\\lambda[1]    5⋅\\lambda[1]  \n",
       "\n",
       "                               \n",
       "        1               1      \n",
       "- ───────────── - ─────────────\n",
       "              6               7\n",
       "  6⋅\\lambda[1]    7⋅\\lambda[1] "
      ]
     },
     "execution_count": 33,
     "metadata": {},
     "output_type": "execute_result"
    }
   ],
   "source": [
    "g_log = g_poly(f_log, eigendata, Phi_polynomials)\n",
    "g_log"
   ]
  },
  {
   "cell_type": "code",
   "execution_count": 34,
   "metadata": {
    "collapsed": false,
    "deletable": true,
    "editable": true
   },
   "outputs": [
    {
     "data": {
      "image/png": "[encoded data removed]",
      "text/latex": [
       "$$g{\\left (z \\right )} = \\frac{z^{7}}{7} - \\frac{7 z^{6}}{6} + \\frac{21 z^{5}}{5} - \\frac{35 z^{4}}{4} + \\frac{35 z^{3}}{3} - \\frac{21 z^{2}}{2} + 7 z - \\frac{363}{140}$$"
      ],
      "text/plain": [
       "        7      6       5       4       3       2            \n",
       "       z    7⋅z    21⋅z    35⋅z    35⋅z    21⋅z          363\n",
       "g(z) = ── - ──── + ───── - ───── + ───── - ───── + 7⋅z - ───\n",
       "       7     6       5       4       3       2           140"
      ]
     },
     "execution_count": 34,
     "metadata": {},
     "output_type": "execute_result"
    }
   ],
   "source": [
    "g_log = g_log.subs(eigenvals)\n",
    "g_log"
   ]
  },
  {
   "cell_type": "code",
   "execution_count": 36,
   "metadata": {
    "collapsed": false,
    "deletable": true,
    "editable": true
   },
   "outputs": [
    {
     "data": {
      "image/png": "[encoded data removed]",
      "text/latex": [
       "$$\\frac{363}{140}$$"
      ],
      "text/plain": [
       "363\n",
       "───\n",
       "140"
      ]
     },
     "execution_count": 36,
     "metadata": {},
     "output_type": "execute_result"
    }
   ],
   "source": [
    "harmonic(7)"
   ]
  },
  {
   "cell_type": "markdown",
   "metadata": {
    "deletable": true,
    "editable": true
   },
   "source": [
    "Checking *Equation 14*"
   ]
  },
  {
   "cell_type": "code",
   "execution_count": 37,
   "metadata": {
    "collapsed": false,
    "deletable": true,
    "editable": true
   },
   "outputs": [
    {
     "data": {
      "image/png": "[encoded data removed]",
      "text/latex": [
       "$$g{\\left (z \\right )} = \\frac{z^{7}}{7} - \\frac{7 z^{6}}{6} + \\frac{21 z^{5}}{5} - \\frac{35 z^{4}}{4} + \\frac{35 z^{3}}{3} - \\frac{21 z^{2}}{2} + 7 z - \\frac{363}{140}$$"
      ],
      "text/plain": [
       "        7      6       5       4       3       2            \n",
       "       z    7⋅z    21⋅z    35⋅z    35⋅z    21⋅z          363\n",
       "g(z) = ── - ──── + ───── - ───── + ───── - ───── + 7⋅z - ───\n",
       "       7     6       5       4       3       2           140"
      ]
     },
     "execution_count": 37,
     "metadata": {},
     "output_type": "execute_result"
    }
   ],
   "source": [
    "g = define(Function('g')(z),  - (sum(S(1)/k*binomial(m-1, k)*(-z)**(k) for k in range(1, m)) + harmonic(m-1)))\n",
    "g"
   ]
  },
  {
   "cell_type": "code",
   "execution_count": 38,
   "metadata": {
    "collapsed": false,
    "deletable": true,
    "editable": true
   },
   "outputs": [
    {
     "data": {
      "image/png": "[encoded data removed]",
      "text/latex": [
       "$$\\mathrm{True}$$"
      ],
      "text/plain": [
       "True"
      ]
     },
     "execution_count": 38,
     "metadata": {},
     "output_type": "execute_result"
    }
   ],
   "source": [
    "Eq(g_log.rhs, g.rhs)"
   ]
  },
  {
   "cell_type": "markdown",
   "metadata": {
    "deletable": true,
    "editable": true
   },
   "source": [
    "# `sin` function"
   ]
  },
  {
   "cell_type": "code",
   "execution_count": 77,
   "metadata": {
    "collapsed": false,
    "deletable": true,
    "editable": true
   },
   "outputs": [
    {
     "data": {
      "image/png": "[encoded data removed]",
      "text/latex": [
       "$$f{\\left (z \\right )} = \\sin{\\left (z \\right )}$$"
      ],
      "text/plain": [
       "f(z) = sin(z)"
      ]
     },
     "execution_count": 77,
     "metadata": {},
     "output_type": "execute_result"
    }
   ],
   "source": [
    "f = Function('f')\n",
    "f_sin = Eq(f(z), sin(z))\n",
    "f_sin"
   ]
  },
  {
   "cell_type": "code",
   "execution_count": 78,
   "metadata": {
    "collapsed": false,
    "deletable": true,
    "editable": true
   },
   "outputs": [
    {
     "data": {
      "image/png": "[encoded data removed]",
      "text/latex": [
       "$$\\left [ \\sin{\\left (z \\right )}, \\quad \\cos{\\left (z \\right )}, \\quad - \\sin{\\left (z \\right )}, \\quad - \\cos{\\left (z \\right )}, \\quad \\sin{\\left (z \\right )}, \\quad \\cos{\\left (z \\right )}, \\quad - \\sin{\\left (z \\right )}, \\quad - \\cos{\\left (z \\right )}\\right ]$$"
      ],
      "text/plain": [
       "[sin(z), cos(z), -sin(z), -cos(z), sin(z), cos(z), -sin(z), -cos(z)]"
      ]
     },
     "execution_count": 78,
     "metadata": {},
     "output_type": "execute_result"
    }
   ],
   "source": [
    "[f_sin.rhs.diff(z, i) for i in range(m)]"
   ]
  },
  {
   "cell_type": "code",
   "execution_count": 79,
   "metadata": {
    "collapsed": false,
    "deletable": true,
    "editable": true
   },
   "outputs": [
    {
     "data": {
      "image/png": "[encoded data removed]",
      "text/latex": [
       "$$1 - t^{2} + t^{4} - t^{6} + t^{8} - t^{10} + t^{12} - t^{14} + \\mathcal{O}\\left(t^{16}\\right)$$"
      ],
      "text/plain": [
       "     2    4    6    8    10    12    14    ⎛ 16⎞\n",
       "1 - t  + t  - t  + t  - t   + t   - t   + O⎝t  ⎠"
      ]
     },
     "execution_count": 79,
     "metadata": {},
     "output_type": "execute_result"
    }
   ],
   "source": [
    "(1/(1+t**2)).series(t, n=2*m)"
   ]
  },
  {
   "cell_type": "code",
   "execution_count": 80,
   "metadata": {
    "collapsed": false,
    "deletable": true,
    "editable": true
   },
   "outputs": [
    {
     "data": {
      "image/png": "[encoded data removed]",
      "text/latex": [
       "$$g{\\left (z \\right )} = - \\frac{z^{7}}{5040} \\cos{\\left (\\lambda_{1} \\right )} + z^{6} \\left(- \\frac{1}{720} \\sin{\\left (\\lambda_{1} \\right )} + \\frac{1}{720} \\cos{\\left (\\lambda_{1} \\right )}\\right) + z^{5} \\left(\\frac{1}{120} \\sin{\\left (\\lambda_{1} \\right )} + \\frac{1}{240} \\cos{\\left (\\lambda_{1} \\right )}\\right) + z^{4} \\left(\\frac{1}{48} \\sin{\\left (\\lambda_{1} \\right )} - \\frac{5}{144} \\cos{\\left (\\lambda_{1} \\right )}\\right) + z^{3} \\left(- \\frac{5}{36} \\sin{\\left (\\lambda_{1} \\right )} - \\frac{13}{144} \\cos{\\left (\\lambda_{1} \\right )}\\right) + z^{2} \\left(- \\frac{13}{48} \\sin{\\left (\\lambda_{1} \\right )} + \\frac{101}{240} \\cos{\\left (\\lambda_{1} \\right )}\\right) + z \\left(\\frac{101}{120} \\sin{\\left (\\lambda_{1} \\right )} + \\frac{389}{720} \\cos{\\left (\\lambda_{1} \\right )}\\right) + \\frac{389}{720} \\sin{\\left (\\lambda_{1} \\right )} - \\frac{4241}{5040} \\cos{\\left (\\lambda_{1} \\right )}$$"
      ],
      "text/plain": [
       "          7                                                                   \n",
       "         z ⋅cos(\\lambda[1])    6 ⎛  sin(\\lambda[1])   cos(\\lambda[1])⎞    5 ⎛s\n",
       "g(z) = - ────────────────── + z ⋅⎜- ─────────────── + ───────────────⎟ + z ⋅⎜─\n",
       "                5040             ⎝        720               720      ⎠      ⎝ \n",
       "\n",
       "                                                                              \n",
       "in(\\lambda[1])   cos(\\lambda[1])⎞    4 ⎛sin(\\lambda[1])   5⋅cos(\\lambda[1])⎞  \n",
       "────────────── + ───────────────⎟ + z ⋅⎜─────────────── - ─────────────────⎟ +\n",
       "     120               240      ⎠      ⎝       48                144       ⎠  \n",
       "\n",
       "                                                                              \n",
       "  3 ⎛  5⋅sin(\\lambda[1])   13⋅cos(\\lambda[1])⎞    2 ⎛  13⋅sin(\\lambda[1])   10\n",
       " z ⋅⎜- ───────────────── - ──────────────────⎟ + z ⋅⎜- ────────────────── + ──\n",
       "    ⎝          36                 144        ⎠      ⎝          48             \n",
       "\n",
       "                                                                              \n",
       "1⋅cos(\\lambda[1])⎞     ⎛101⋅sin(\\lambda[1])   389⋅cos(\\lambda[1])⎞   389⋅sin(\\\n",
       "─────────────────⎟ + z⋅⎜─────────────────── + ───────────────────⎟ + ─────────\n",
       "      240        ⎠     ⎝        120                   720        ⎠           7\n",
       "\n",
       "                                 \n",
       "lambda[1])   4241⋅cos(\\lambda[1])\n",
       "────────── - ────────────────────\n",
       "20                   5040        "
      ]
     },
     "execution_count": 80,
     "metadata": {},
     "output_type": "execute_result"
    }
   ],
   "source": [
    "g_sin = g_poly(f_sin, eigendata, Phi_polynomials)\n",
    "g_sin"
   ]
  },
  {
   "cell_type": "code",
   "execution_count": 81,
   "metadata": {
    "collapsed": false,
    "deletable": true,
    "editable": true
   },
   "outputs": [
    {
     "data": {
      "image/png": "[encoded data removed]",
      "text/latex": [
       "$$g{\\left (z \\right )} = \\sin{\\left (1 \\right )} \\sum_{k=0}^{2 \\lceil{\\frac{m}{2}}\\rceil - 2} \\left(- z\\right)^{k} \\sum_{j=\\lceil{\\frac{k}{2}}\\rceil}^{\\lceil{\\frac{m}{2}}\\rceil - 1} \\frac{\\left(-1\\right)^{3 j} {\\binom{2 j}{k}}}{\\left(2 j\\right)!} + \\cos{\\left (1 \\right )} \\sum_{k=0}^{2 \\lfloor{\\frac{m}{2}}\\rfloor - 1} \\left(- z\\right)^{k} \\sum_{j=\\lfloor{\\frac{k}{2}}\\rfloor}^{\\lfloor{\\frac{m}{2}}\\rfloor - 1} \\frac{\\left(-1\\right)^{3 j + 1} {\\binom{2 j + 1}{k}}}{\\left(2 j + 1\\right)!}$$"
      ],
      "text/plain": [
       "                ⎡m⎤                                             ⎢m⎥           \n",
       "              2⋅⎢─⎥ - 2                                       2⋅⎢─⎥ - 1       \n",
       "                ⎢2⎥                                             ⎣2⎦           \n",
       "              __________                                      __________      \n",
       "              ╲                                               ╲               \n",
       "               ╲               ⎡m⎤                             ╲              \n",
       "                ╲              ⎢─⎥ - 1                          ╲             \n",
       "                 ╲             ⎢2⎥                               ╲            \n",
       "                  ╲             _____                             ╲           \n",
       "                   ╲            ╲                                  ╲          \n",
       "                    ╲            ╲         3⋅j ⎛2⋅j⎞                ╲         \n",
       "                     ╲            ╲    (-1)   ⋅⎜   ⎟                 ╲        \n",
       "                      ╲      k     ╲           ⎝ k ⎠                  ╲      k\n",
       "g(z) = sin(1)⋅        ╱  (-z) ⋅    ╱   ───────────── + cos(1)⋅        ╱  (-z) \n",
       "                     ╱            ╱        (2⋅j)!                    ╱        \n",
       "                    ╱            ╱                                  ╱         \n",
       "                   ╱            ╱                                  ╱          \n",
       "                  ╱             ‾‾‾‾‾                             ╱           \n",
       "                 ╱                 ⎡k⎤                           ╱            \n",
       "                ╱              j = ⎢─⎥                          ╱             \n",
       "               ╱                   ⎢2⎥                         ╱              \n",
       "              ╱                                               ╱               \n",
       "              ‾‾‾‾‾‾‾‾‾‾                                      ‾‾‾‾‾‾‾‾‾‾      \n",
       "                k = 0                                           k = 0         \n",
       "\n",
       "                              \n",
       "                              \n",
       "                              \n",
       "                              \n",
       "                              \n",
       " ⎢m⎥                          \n",
       " ⎢─⎥ - 1                      \n",
       " ⎣2⎦                          \n",
       "  _____                       \n",
       "  ╲                           \n",
       "   ╲         3⋅j + 1 ⎛2⋅j + 1⎞\n",
       "    ╲    (-1)       ⋅⎜       ⎟\n",
       "     ╲               ⎝   k   ⎠\n",
       "⋅    ╱   ─────────────────────\n",
       "    ╱          (2⋅j + 1)!     \n",
       "   ╱                          \n",
       "  ╱                           \n",
       "  ‾‾‾‾‾                       \n",
       "     ⎢k⎥                      \n",
       " j = ⎢─⎥                      \n",
       "     ⎣2⎦                      \n",
       "                              \n",
       "                              \n",
       "                              "
      ]
     },
     "execution_count": 81,
     "metadata": {},
     "output_type": "execute_result"
    }
   ],
   "source": [
    "m_sym = symbols('m')\n",
    "g_poly_theo = Eq(Function('g')(z),\n",
    "                 sin(1)*(Sum(Sum((-1)**(3*j)/factorial(2*j)*binomial(2*j, k),\n",
    "                              (j, ceiling(k/2), ceiling(m_sym/2)-1))*(-z)**(k),\n",
    "                          (k,0,2*ceiling(m_sym/2)-2))) + \n",
    "                 cos(1)*(Sum(Sum((-1)**(3*j+1)/factorial(2*j+1)*binomial(2*j+1, k),\n",
    "                              (j, floor(k/2), floor(m_sym/2)-1))*(-z)**(k),\n",
    "                          (k,0,2*floor(m_sym/2)-1))))\n",
    "g_poly_theo"
   ]
  },
  {
   "cell_type": "code",
   "execution_count": 82,
   "metadata": {
    "collapsed": false,
    "deletable": true,
    "editable": true
   },
   "outputs": [
    {
     "data": {
      "image/png": "[encoded data removed]",
      "text/latex": [
       "$$g{\\left (z \\right )} = \\frac{1}{720} \\left(- z^{6} + 6 z^{5} + 15 z^{4} - 100 z^{3} - 195 z^{2} + 606 z + 389\\right) \\sin{\\left (1 \\right )} + \\frac{1}{5040} \\left(- z^{7} + 7 z^{6} + 21 z^{5} - 175 z^{4} - 455 z^{3} + 2121 z^{2} + 2723 z - 4241\\right) \\cos{\\left (1 \\right )}$$"
      ],
      "text/plain": [
       "       ⎛   6      5       4        3        2              ⎞          ⎛   7   \n",
       "       ⎝- z  + 6⋅z  + 15⋅z  - 100⋅z  - 195⋅z  + 606⋅z + 389⎠⋅sin(1)   ⎝- z  + \n",
       "g(z) = ──────────────────────────────────────────────────────────── + ────────\n",
       "                                   720                                        \n",
       "\n",
       "   6       5        4        3         2                ⎞       \n",
       "7⋅z  + 21⋅z  - 175⋅z  - 455⋅z  + 2121⋅z  + 2723⋅z - 4241⎠⋅cos(1)\n",
       "────────────────────────────────────────────────────────────────\n",
       "                          5040                                  "
      ]
     },
     "execution_count": 82,
     "metadata": {},
     "output_type": "execute_result"
    }
   ],
   "source": [
    "g_poly_theo_m = g_poly_theo.subs({m_sym:m}).doit().simplify()\n",
    "g_poly_theo_m"
   ]
  },
  {
   "cell_type": "code",
   "execution_count": 83,
   "metadata": {
    "collapsed": false,
    "deletable": true,
    "editable": true
   },
   "outputs": [],
   "source": [
    "assert g_sin.rhs.subs(eigenvals).expand() == g_poly_theo_m.rhs.expand()"
   ]
  },
  {
   "cell_type": "code",
   "execution_count": 152,
   "metadata": {
    "collapsed": false,
    "deletable": true,
    "editable": true
   },
   "outputs": [
    {
     "data": {
      "image/png": "[encoded data removed]",
      "text/latex": [
       "$$\\sum_{j=\\lceil{\\frac{k}{2}}\\rceil}^{\\lceil{\\frac{m}{2}}\\rceil - 1} \\frac{\\left(-1\\right)^{j} {\\binom{2 j}{k}}}{\\left(2 j\\right)!}$$"
      ],
      "text/plain": [
       "⎡m⎤                \n",
       "⎢─⎥ - 1            \n",
       "⎢2⎥                \n",
       " _____             \n",
       " ╲                 \n",
       "  ╲         j ⎛2⋅j⎞\n",
       "   ╲    (-1) ⋅⎜   ⎟\n",
       "    ╲         ⎝ k ⎠\n",
       "    ╱   ───────────\n",
       "   ╱       (2⋅j)!  \n",
       "  ╱                \n",
       " ╱                 \n",
       " ‾‾‾‾‾             \n",
       "    ⎡k⎤            \n",
       "j = ⎢─⎥            \n",
       "    ⎢2⎥            "
      ]
     },
     "execution_count": 152,
     "metadata": {},
     "output_type": "execute_result"
    }
   ],
   "source": [
    "sin_generic_term = Sum((((-1)**(j)/(factorial(2*j))*binomial(2*j,k))), (j, ceiling(k/2), ceiling(m_sym/2)-1))\n",
    "sin_generic_term"
   ]
  },
  {
   "cell_type": "code",
   "execution_count": 154,
   "metadata": {
    "collapsed": false,
    "deletable": true,
    "editable": true
   },
   "outputs": [
    {
     "data": {
      "image/png": "[encoded data removed]",
      "text/latex": [
       "$$\\frac{1}{k!} \\left(\\frac{\\left(-1\\right)^{\\lceil{\\frac{k}{2}}\\rceil}}{\\left(- k + 2 \\lceil{\\frac{k}{2}}\\rceil\\right)!} {{}_{1}F_{2}\\left(\\begin{matrix} 1 \\\\ - \\frac{k}{2} + \\lceil{\\frac{k}{2}}\\rceil + \\frac{1}{2}, - \\frac{k}{2} + \\lceil{\\frac{k}{2}}\\rceil + 1 \\end{matrix}\\middle| {- \\frac{1}{4}} \\right)} - \\frac{\\left(-1\\right)^{\\lceil{\\frac{m}{2}}\\rceil}}{\\left(- k + 2 \\lceil{\\frac{m}{2}}\\rceil\\right)!} {{}_{1}F_{2}\\left(\\begin{matrix} 1 \\\\ - \\frac{k}{2} + \\lceil{\\frac{m}{2}}\\rceil + \\frac{1}{2}, - \\frac{k}{2} + \\lceil{\\frac{m}{2}}\\rceil + 1 \\end{matrix}\\middle| {- \\frac{1}{4}} \\right)}\\right)$$"
      ],
      "text/plain": [
       "    ⎡k⎤                                                  ⎡m⎤                  \n",
       "    ⎢─⎥      ⎛             1               │     ⎞       ⎢─⎥      ⎛           \n",
       "    ⎢2⎥  ┌─  ⎜                             │     ⎟       ⎢2⎥  ┌─  ⎜           \n",
       "(-1)   ⋅ ├─  ⎜  k   ⎡k⎤   1    k   ⎡k⎤     │ -1/4⎟   (-1)   ⋅ ├─  ⎜  k   ⎡m⎤  \n",
       "        1╵ 2 ⎜- ─ + ⎢─⎥ + ─, - ─ + ⎢─⎥ + 1 │     ⎟           1╵ 2 ⎜- ─ + ⎢─⎥ +\n",
       "             ⎝  2   ⎢2⎥   2    2   ⎢2⎥     │     ⎠                ⎝  2   ⎢2⎥  \n",
       "────────────────────────────────────────────────── - ─────────────────────────\n",
       "                  ⎛       ⎡k⎤⎞                                         ⎛      \n",
       "                  ⎜-k + 2⋅⎢─⎥⎟!                                        ⎜-k + 2\n",
       "                  ⎝       ⎢2⎥⎠                                         ⎝      \n",
       "──────────────────────────────────────────────────────────────────────────────\n",
       "                                                   k!                         \n",
       "\n",
       "                         \n",
       "  1               │     ⎞\n",
       "                  │     ⎟\n",
       " 1    k   ⎡m⎤     │ -1/4⎟\n",
       " ─, - ─ + ⎢─⎥ + 1 │     ⎟\n",
       " 2    2   ⎢2⎥     │     ⎠\n",
       "─────────────────────────\n",
       " ⎡m⎤⎞                    \n",
       "⋅⎢─⎥⎟!                   \n",
       " ⎢2⎥⎠                    \n",
       "─────────────────────────\n",
       "                         "
      ]
     },
     "execution_count": 154,
     "metadata": {},
     "output_type": "execute_result"
    }
   ],
   "source": [
    "sin_generic_term.doit().simplify()"
   ]
  },
  {
   "cell_type": "markdown",
   "metadata": {
    "deletable": true,
    "editable": true
   },
   "source": [
    "# `cos` function"
   ]
  },
  {
   "cell_type": "code",
   "execution_count": 84,
   "metadata": {
    "collapsed": false,
    "deletable": true,
    "editable": true
   },
   "outputs": [
    {
     "data": {
      "image/png": "[encoded data removed]",
      "text/latex": [
       "$$f{\\left (z \\right )} = \\cos{\\left (z \\right )}$$"
      ],
      "text/plain": [
       "f(z) = cos(z)"
      ]
     },
     "execution_count": 84,
     "metadata": {},
     "output_type": "execute_result"
    }
   ],
   "source": [
    "f = Function('f')\n",
    "f_cos = Eq(f(z), cos(z))\n",
    "f_cos"
   ]
  },
  {
   "cell_type": "code",
   "execution_count": 85,
   "metadata": {
    "collapsed": false,
    "deletable": true,
    "editable": true
   },
   "outputs": [
    {
     "data": {
      "image/png": "[encoded data removed]",
      "text/latex": [
       "$$\\left [ \\cos{\\left (z \\right )}, \\quad - \\sin{\\left (z \\right )}, \\quad - \\cos{\\left (z \\right )}, \\quad \\sin{\\left (z \\right )}, \\quad \\cos{\\left (z \\right )}, \\quad - \\sin{\\left (z \\right )}, \\quad - \\cos{\\left (z \\right )}, \\quad \\sin{\\left (z \\right )}\\right ]$$"
      ],
      "text/plain": [
       "[cos(z), -sin(z), -cos(z), sin(z), cos(z), -sin(z), -cos(z), sin(z)]"
      ]
     },
     "execution_count": 85,
     "metadata": {},
     "output_type": "execute_result"
    }
   ],
   "source": [
    "[f_cos.rhs.diff(z, i) for i in range(m)]"
   ]
  },
  {
   "cell_type": "code",
   "execution_count": 86,
   "metadata": {
    "collapsed": false,
    "deletable": true,
    "editable": true
   },
   "outputs": [
    {
     "data": {
      "image/png": "[encoded data removed]",
      "text/latex": [
       "$$1 - t^{2} + t^{4} - t^{6} + t^{8} - t^{10} + t^{12} - t^{14} + \\mathcal{O}\\left(t^{16}\\right)$$"
      ],
      "text/plain": [
       "     2    4    6    8    10    12    14    ⎛ 16⎞\n",
       "1 - t  + t  - t  + t  - t   + t   - t   + O⎝t  ⎠"
      ]
     },
     "execution_count": 86,
     "metadata": {},
     "output_type": "execute_result"
    }
   ],
   "source": [
    "(1/(1+t**2)).series(t, n=2*m)"
   ]
  },
  {
   "cell_type": "code",
   "execution_count": 87,
   "metadata": {
    "collapsed": false,
    "deletable": true,
    "editable": true
   },
   "outputs": [
    {
     "data": {
      "image/png": "[encoded data removed]",
      "text/latex": [
       "$$g{\\left (z \\right )} = \\frac{z^{7}}{5040} \\sin{\\left (\\lambda_{1} \\right )} + z^{6} \\left(- \\frac{1}{720} \\sin{\\left (\\lambda_{1} \\right )} - \\frac{1}{720} \\cos{\\left (\\lambda_{1} \\right )}\\right) + z^{5} \\left(- \\frac{1}{240} \\sin{\\left (\\lambda_{1} \\right )} + \\frac{1}{120} \\cos{\\left (\\lambda_{1} \\right )}\\right) + z^{4} \\left(\\frac{5}{144} \\sin{\\left (\\lambda_{1} \\right )} + \\frac{1}{48} \\cos{\\left (\\lambda_{1} \\right )}\\right) + z^{3} \\left(\\frac{13}{144} \\sin{\\left (\\lambda_{1} \\right )} - \\frac{5}{36} \\cos{\\left (\\lambda_{1} \\right )}\\right) + z^{2} \\left(- \\frac{101}{240} \\sin{\\left (\\lambda_{1} \\right )} - \\frac{13}{48} \\cos{\\left (\\lambda_{1} \\right )}\\right) + z \\left(- \\frac{389}{720} \\sin{\\left (\\lambda_{1} \\right )} + \\frac{101}{120} \\cos{\\left (\\lambda_{1} \\right )}\\right) + \\frac{4241}{5040} \\sin{\\left (\\lambda_{1} \\right )} + \\frac{389}{720} \\cos{\\left (\\lambda_{1} \\right )}$$"
      ],
      "text/plain": [
       "        7                                                                     \n",
       "       z ⋅sin(\\lambda[1])    6 ⎛  sin(\\lambda[1])   cos(\\lambda[1])⎞    5 ⎛  s\n",
       "g(z) = ────────────────── + z ⋅⎜- ─────────────── - ───────────────⎟ + z ⋅⎜- ─\n",
       "              5040             ⎝        720               720      ⎠      ⎝   \n",
       "\n",
       "                                                                              \n",
       "in(\\lambda[1])   cos(\\lambda[1])⎞    4 ⎛5⋅sin(\\lambda[1])   cos(\\lambda[1])⎞  \n",
       "────────────── + ───────────────⎟ + z ⋅⎜───────────────── + ───────────────⎟ +\n",
       "     240               120      ⎠      ⎝       144                 48      ⎠  \n",
       "\n",
       "                                                                              \n",
       "  3 ⎛13⋅sin(\\lambda[1])   5⋅cos(\\lambda[1])⎞    2 ⎛  101⋅sin(\\lambda[1])   13⋅\n",
       " z ⋅⎜────────────────── - ─────────────────⎟ + z ⋅⎜- ─────────────────── - ───\n",
       "    ⎝       144                   36       ⎠      ⎝          240              \n",
       "\n",
       "                                                                              \n",
       "cos(\\lambda[1])⎞     ⎛  389⋅sin(\\lambda[1])   101⋅cos(\\lambda[1])⎞   4241⋅sin(\n",
       "───────────────⎟ + z⋅⎜- ─────────────────── + ───────────────────⎟ + ─────────\n",
       "     48        ⎠     ⎝          720                   120        ⎠           5\n",
       "\n",
       "                                 \n",
       "\\lambda[1])   389⋅cos(\\lambda[1])\n",
       "─────────── + ───────────────────\n",
       "040                   720        "
      ]
     },
     "execution_count": 87,
     "metadata": {},
     "output_type": "execute_result"
    }
   ],
   "source": [
    "g_cos = g_poly(f_cos, eigendata, Phi_polynomials)\n",
    "g_cos"
   ]
  },
  {
   "cell_type": "code",
   "execution_count": 88,
   "metadata": {
    "collapsed": false,
    "deletable": true,
    "editable": true
   },
   "outputs": [
    {
     "data": {
      "image/png": "[encoded data removed]",
      "text/latex": [
       "$$g{\\left (z \\right )} = \\cos{\\left (1 \\right )} \\sum_{k=0}^{2 \\lceil{\\frac{m}{2}}\\rceil - 2} \\left(- z\\right)^{k} \\sum_{j=\\lceil{\\frac{k}{2}}\\rceil}^{\\lceil{\\frac{m}{2}}\\rceil - 1} \\frac{\\left(-1\\right)^{3 j} {\\binom{2 j}{k}}}{\\left(2 j\\right)!} + \\sin{\\left (1 \\right )} \\sum_{k=0}^{2 \\lfloor{\\frac{m}{2}}\\rfloor - 1} \\left(- z\\right)^{k} \\sum_{j=\\lfloor{\\frac{k}{2}}\\rfloor}^{\\lfloor{\\frac{m}{2}}\\rfloor - 1} \\frac{\\left(-1\\right)^{3 j + 2} {\\binom{2 j + 1}{k}}}{\\left(2 j + 1\\right)!}$$"
      ],
      "text/plain": [
       "                ⎡m⎤                                             ⎢m⎥           \n",
       "              2⋅⎢─⎥ - 2                                       2⋅⎢─⎥ - 1       \n",
       "                ⎢2⎥                                             ⎣2⎦           \n",
       "              __________                                      __________      \n",
       "              ╲                                               ╲               \n",
       "               ╲               ⎡m⎤                             ╲              \n",
       "                ╲              ⎢─⎥ - 1                          ╲             \n",
       "                 ╲             ⎢2⎥                               ╲            \n",
       "                  ╲             _____                             ╲           \n",
       "                   ╲            ╲                                  ╲          \n",
       "                    ╲            ╲         3⋅j ⎛2⋅j⎞                ╲         \n",
       "                     ╲            ╲    (-1)   ⋅⎜   ⎟                 ╲        \n",
       "                      ╲      k     ╲           ⎝ k ⎠                  ╲      k\n",
       "g(z) = cos(1)⋅        ╱  (-z) ⋅    ╱   ───────────── + sin(1)⋅        ╱  (-z) \n",
       "                     ╱            ╱        (2⋅j)!                    ╱        \n",
       "                    ╱            ╱                                  ╱         \n",
       "                   ╱            ╱                                  ╱          \n",
       "                  ╱             ‾‾‾‾‾                             ╱           \n",
       "                 ╱                 ⎡k⎤                           ╱            \n",
       "                ╱              j = ⎢─⎥                          ╱             \n",
       "               ╱                   ⎢2⎥                         ╱              \n",
       "              ╱                                               ╱               \n",
       "              ‾‾‾‾‾‾‾‾‾‾                                      ‾‾‾‾‾‾‾‾‾‾      \n",
       "                k = 0                                           k = 0         \n",
       "\n",
       "                              \n",
       "                              \n",
       "                              \n",
       "                              \n",
       "                              \n",
       " ⎢m⎥                          \n",
       " ⎢─⎥ - 1                      \n",
       " ⎣2⎦                          \n",
       "  _____                       \n",
       "  ╲                           \n",
       "   ╲         3⋅j + 2 ⎛2⋅j + 1⎞\n",
       "    ╲    (-1)       ⋅⎜       ⎟\n",
       "     ╲               ⎝   k   ⎠\n",
       "⋅    ╱   ─────────────────────\n",
       "    ╱          (2⋅j + 1)!     \n",
       "   ╱                          \n",
       "  ╱                           \n",
       "  ‾‾‾‾‾                       \n",
       "     ⎢k⎥                      \n",
       " j = ⎢─⎥                      \n",
       "     ⎣2⎦                      \n",
       "                              \n",
       "                              \n",
       "                              "
      ]
     },
     "execution_count": 88,
     "metadata": {},
     "output_type": "execute_result"
    }
   ],
   "source": [
    "m_sym = symbols('m')\n",
    "g_poly_theo = Eq(Function('g')(z),\n",
    "                 cos(1)*(Sum(Sum((-1)**(3*j)/factorial(2*j)*binomial(2*j, k),\n",
    "                              (j, ceiling(k/2), ceiling(m_sym/2)-1))*(-z)**(k),\n",
    "                          (k,0,2*ceiling(m_sym/2)-2))) + \n",
    "                 sin(1)*(Sum(Sum((-1)**(3*j+2)/factorial(2*j+1)*binomial(2*j+1, k),\n",
    "                              (j, floor(k/2), floor(m_sym/2)-1))*(-z)**(k),\n",
    "                          (k,0,2*floor(m_sym/2)-1))))\n",
    "g_poly_theo"
   ]
  },
  {
   "cell_type": "code",
   "execution_count": 89,
   "metadata": {
    "collapsed": false,
    "deletable": true,
    "editable": true
   },
   "outputs": [
    {
     "data": {
      "image/png": "[encoded data removed]",
      "text/latex": [
       "$$g{\\left (z \\right )} = \\frac{1}{720} \\left(- z^{6} + 6 z^{5} + 15 z^{4} - 100 z^{3} - 195 z^{2} + 606 z + 389\\right) \\cos{\\left (1 \\right )} + \\frac{1}{5040} \\left(z^{7} - 7 z^{6} - 21 z^{5} + 175 z^{4} + 455 z^{3} - 2121 z^{2} - 2723 z + 4241\\right) \\sin{\\left (1 \\right )}$$"
      ],
      "text/plain": [
       "       ⎛   6      5       4        3        2              ⎞          ⎛ 7     \n",
       "       ⎝- z  + 6⋅z  + 15⋅z  - 100⋅z  - 195⋅z  + 606⋅z + 389⎠⋅cos(1)   ⎝z  - 7⋅\n",
       "g(z) = ──────────────────────────────────────────────────────────── + ────────\n",
       "                                   720                                        \n",
       "\n",
       " 6       5        4        3         2                ⎞       \n",
       "z  - 21⋅z  + 175⋅z  + 455⋅z  - 2121⋅z  - 2723⋅z + 4241⎠⋅sin(1)\n",
       "──────────────────────────────────────────────────────────────\n",
       "                         5040                                 "
      ]
     },
     "execution_count": 89,
     "metadata": {},
     "output_type": "execute_result"
    }
   ],
   "source": [
    "g_poly_theo_m = g_poly_theo.subs({m_sym:m}).doit().simplify()\n",
    "g_poly_theo_m"
   ]
  },
  {
   "cell_type": "code",
   "execution_count": 90,
   "metadata": {
    "collapsed": false,
    "deletable": true,
    "editable": true
   },
   "outputs": [],
   "source": [
    "assert g_cos.rhs.subs(eigenvals).expand() == g_poly_theo_m.rhs.expand()"
   ]
  },
  {
   "cell_type": "markdown",
   "metadata": {
    "editable": true
   },
   "source": [
    "# $\\Gamma$ function"
   ]
  },
  {
   "cell_type": "code",
   "execution_count": 61,
   "metadata": {
    "collapsed": false,
    "editable": true
   },
   "outputs": [
    {
     "data": {
      "image/png": "[encoded data removed]",
      "text/latex": [
       "$$f{\\left (z \\right )} = \\frac{1}{\\Gamma{\\left(z \\right)}}$$"
      ],
      "text/plain": [
       "        1  \n",
       "f(z) = ────\n",
       "       Γ(z)"
      ]
     },
     "execution_count": 61,
     "metadata": {},
     "output_type": "execute_result"
    }
   ],
   "source": [
    "f = Function('f')\n",
    "f_gamma = Eq(f(z), 1/gamma(z))\n",
    "f_gamma"
   ]
  },
  {
   "cell_type": "code",
   "execution_count": 62,
   "metadata": {
    "collapsed": false,
    "editable": true
   },
   "outputs": [
    {
     "data": {
      "image/png": "[encoded data removed]",
      "text/latex": [
       "$$\\left [ \\frac{1}{\\Gamma{\\left(z \\right)}}, \\quad - \\frac{\\operatorname{polygamma}{\\left (0,z \\right )}}{\\Gamma{\\left(z \\right)}}, \\quad \\frac{1}{\\Gamma{\\left(z \\right)}} \\left(\\operatorname{polygamma}^{2}{\\left (0,z \\right )} - \\operatorname{polygamma}{\\left (1,z \\right )}\\right), \\quad \\frac{1}{\\Gamma{\\left(z \\right)}} \\left(- \\operatorname{polygamma}^{3}{\\left (0,z \\right )} + 3 \\operatorname{polygamma}{\\left (0,z \\right )} \\operatorname{polygamma}{\\left (1,z \\right )} - \\operatorname{polygamma}{\\left (2,z \\right )}\\right), \\quad \\frac{1}{\\Gamma{\\left(z \\right)}} \\left(\\operatorname{polygamma}^{4}{\\left (0,z \\right )} - 6 \\operatorname{polygamma}^{2}{\\left (0,z \\right )} \\operatorname{polygamma}{\\left (1,z \\right )} + 4 \\operatorname{polygamma}{\\left (0,z \\right )} \\operatorname{polygamma}{\\left (2,z \\right )} + 3 \\operatorname{polygamma}^{2}{\\left (1,z \\right )} - \\operatorname{polygamma}{\\left (3,z \\right )}\\right), \\quad \\frac{1}{\\Gamma{\\left(z \\right)}} \\left(- \\operatorname{polygamma}^{5}{\\left (0,z \\right )} + 10 \\operatorname{polygamma}^{3}{\\left (0,z \\right )} \\operatorname{polygamma}{\\left (1,z \\right )} - 10 \\operatorname{polygamma}^{2}{\\left (0,z \\right )} \\operatorname{polygamma}{\\left (2,z \\right )} - 15 \\operatorname{polygamma}{\\left (0,z \\right )} \\operatorname{polygamma}^{2}{\\left (1,z \\right )} + 5 \\operatorname{polygamma}{\\left (0,z \\right )} \\operatorname{polygamma}{\\left (3,z \\right )} + 10 \\operatorname{polygamma}{\\left (1,z \\right )} \\operatorname{polygamma}{\\left (2,z \\right )} - \\operatorname{polygamma}{\\left (4,z \\right )}\\right), \\quad \\frac{1}{\\Gamma{\\left(z \\right)}} \\left(\\operatorname{polygamma}^{6}{\\left (0,z \\right )} - 15 \\operatorname{polygamma}^{4}{\\left (0,z \\right )} \\operatorname{polygamma}{\\left (1,z \\right )} + 20 \\operatorname{polygamma}^{3}{\\left (0,z \\right )} \\operatorname{polygamma}{\\left (2,z \\right )} + 45 \\operatorname{polygamma}^{2}{\\left (0,z \\right )} \\operatorname{polygamma}^{2}{\\left (1,z \\right )} - 15 \\operatorname{polygamma}^{2}{\\left (0,z \\right )} \\operatorname{polygamma}{\\left (3,z \\right )} - 60 \\operatorname{polygamma}{\\left (0,z \\right )} \\operatorname{polygamma}{\\left (1,z \\right )} \\operatorname{polygamma}{\\left (2,z \\right )} + 6 \\operatorname{polygamma}{\\left (0,z \\right )} \\operatorname{polygamma}{\\left (4,z \\right )} - 15 \\operatorname{polygamma}^{3}{\\left (1,z \\right )} + 15 \\operatorname{polygamma}{\\left (1,z \\right )} \\operatorname{polygamma}{\\left (3,z \\right )} + 10 \\operatorname{polygamma}^{2}{\\left (2,z \\right )} - \\operatorname{polygamma}{\\left (5,z \\right )}\\right), \\quad \\frac{1}{\\Gamma{\\left(z \\right)}} \\left(- \\operatorname{polygamma}^{7}{\\left (0,z \\right )} + 21 \\operatorname{polygamma}^{5}{\\left (0,z \\right )} \\operatorname{polygamma}{\\left (1,z \\right )} - 35 \\operatorname{polygamma}^{4}{\\left (0,z \\right )} \\operatorname{polygamma}{\\left (2,z \\right )} - 105 \\operatorname{polygamma}^{3}{\\left (0,z \\right )} \\operatorname{polygamma}^{2}{\\left (1,z \\right )} + 35 \\operatorname{polygamma}^{3}{\\left (0,z \\right )} \\operatorname{polygamma}{\\left (3,z \\right )} + 210 \\operatorname{polygamma}^{2}{\\left (0,z \\right )} \\operatorname{polygamma}{\\left (1,z \\right )} \\operatorname{polygamma}{\\left (2,z \\right )} - 21 \\operatorname{polygamma}^{2}{\\left (0,z \\right )} \\operatorname{polygamma}{\\left (4,z \\right )} + 105 \\operatorname{polygamma}{\\left (0,z \\right )} \\operatorname{polygamma}^{3}{\\left (1,z \\right )} - 105 \\operatorname{polygamma}{\\left (0,z \\right )} \\operatorname{polygamma}{\\left (1,z \\right )} \\operatorname{polygamma}{\\left (3,z \\right )} - 70 \\operatorname{polygamma}{\\left (0,z \\right )} \\operatorname{polygamma}^{2}{\\left (2,z \\right )} + 7 \\operatorname{polygamma}{\\left (0,z \\right )} \\operatorname{polygamma}{\\left (5,z \\right )} - 105 \\operatorname{polygamma}^{2}{\\left (1,z \\right )} \\operatorname{polygamma}{\\left (2,z \\right )} + 21 \\operatorname{polygamma}{\\left (1,z \\right )} \\operatorname{polygamma}{\\left (4,z \\right )} + 35 \\operatorname{polygamma}{\\left (2,z \\right )} \\operatorname{polygamma}{\\left (3,z \\right )} - \\operatorname{polygamma}{\\left (6,z \\right )}\\right)\\right ]$$"
      ],
      "text/plain": [
       "⎡                                  2                                     3    \n",
       "⎢ 1    -polygamma(0, z)   polygamma (0, z) - polygamma(1, z)  - polygamma (0, \n",
       "⎢────, ─────────────────, ──────────────────────────────────, ────────────────\n",
       "⎣Γ(z)         Γ(z)                       Γ(z)                                 \n",
       "\n",
       "                                                                   4          \n",
       "z) + 3⋅polygamma(0, z)⋅polygamma(1, z) - polygamma(2, z)  polygamma (0, z) - 6\n",
       "────────────────────────────────────────────────────────, ────────────────────\n",
       "                  Γ(z)                                                        \n",
       "\n",
       "          2                                                                   \n",
       "⋅polygamma (0, z)⋅polygamma(1, z) + 4⋅polygamma(0, z)⋅polygamma(2, z) + 3⋅poly\n",
       "──────────────────────────────────────────────────────────────────────────────\n",
       "                                          Γ(z)                                \n",
       "\n",
       "     2                                     5                     3            \n",
       "gamma (1, z) - polygamma(3, z)  - polygamma (0, z) + 10⋅polygamma (0, z)⋅polyg\n",
       "──────────────────────────────, ──────────────────────────────────────────────\n",
       "                                                                              \n",
       "\n",
       "                         2                                                    \n",
       "amma(1, z) - 10⋅polygamma (0, z)⋅polygamma(2, z) - 15⋅polygamma(0, z)⋅polygamm\n",
       "──────────────────────────────────────────────────────────────────────────────\n",
       "                                                                Γ(z)          \n",
       "\n",
       " 2                                                                            \n",
       "a (1, z) + 5⋅polygamma(0, z)⋅polygamma(3, z) + 10⋅polygamma(1, z)⋅polygamma(2,\n",
       "──────────────────────────────────────────────────────────────────────────────\n",
       "                                                                              \n",
       "\n",
       "                                6                     4                       \n",
       " z) - polygamma(4, z)  polygamma (0, z) - 15⋅polygamma (0, z)⋅polygamma(1, z) \n",
       "─────────────────────, ───────────────────────────────────────────────────────\n",
       "                                                                              \n",
       "\n",
       "              3                                     2                2        \n",
       "+ 20⋅polygamma (0, z)⋅polygamma(2, z) + 45⋅polygamma (0, z)⋅polygamma (1, z) -\n",
       "──────────────────────────────────────────────────────────────────────────────\n",
       "                                                                              \n",
       "\n",
       "             2                                                                \n",
       " 15⋅polygamma (0, z)⋅polygamma(3, z) - 60⋅polygamma(0, z)⋅polygamma(1, z)⋅poly\n",
       "──────────────────────────────────────────────────────────────────────────────\n",
       "                                            Γ(z)                              \n",
       "\n",
       "                                                              3               \n",
       "gamma(2, z) + 6⋅polygamma(0, z)⋅polygamma(4, z) - 15⋅polygamma (1, z) + 15⋅pol\n",
       "──────────────────────────────────────────────────────────────────────────────\n",
       "                                                                              \n",
       "\n",
       "                                           2                                  \n",
       "ygamma(1, z)⋅polygamma(3, z) + 10⋅polygamma (2, z) - polygamma(5, z)  - polyga\n",
       "────────────────────────────────────────────────────────────────────, ────────\n",
       "                                                                              \n",
       "\n",
       "   7                     5                                     4              \n",
       "mma (0, z) + 21⋅polygamma (0, z)⋅polygamma(1, z) - 35⋅polygamma (0, z)⋅polygam\n",
       "──────────────────────────────────────────────────────────────────────────────\n",
       "                                                                              \n",
       "\n",
       "                        3                2                     3              \n",
       "ma(2, z) - 105⋅polygamma (0, z)⋅polygamma (1, z) + 35⋅polygamma (0, z)⋅polygam\n",
       "──────────────────────────────────────────────────────────────────────────────\n",
       "                                                                              \n",
       "\n",
       "                        2                                                     \n",
       "ma(3, z) + 210⋅polygamma (0, z)⋅polygamma(1, z)⋅polygamma(2, z) - 21⋅polygamma\n",
       "──────────────────────────────────────────────────────────────────────────────\n",
       "                                                                              \n",
       "\n",
       "2                                                      3                      \n",
       " (0, z)⋅polygamma(4, z) + 105⋅polygamma(0, z)⋅polygamma (1, z) - 105⋅polygamma\n",
       "──────────────────────────────────────────────────────────────────────────────\n",
       "                                      Γ(z)                                    \n",
       "\n",
       "                                                                     2        \n",
       "(0, z)⋅polygamma(1, z)⋅polygamma(3, z) - 70⋅polygamma(0, z)⋅polygamma (2, z) +\n",
       "──────────────────────────────────────────────────────────────────────────────\n",
       "                                                                              \n",
       "\n",
       "                                                  2                           \n",
       " 7⋅polygamma(0, z)⋅polygamma(5, z) - 105⋅polygamma (1, z)⋅polygamma(2, z) + 21\n",
       "──────────────────────────────────────────────────────────────────────────────\n",
       "                                                                              \n",
       "\n",
       "                                                                              \n",
       "⋅polygamma(1, z)⋅polygamma(4, z) + 35⋅polygamma(2, z)⋅polygamma(3, z) - polyga\n",
       "──────────────────────────────────────────────────────────────────────────────\n",
       "                                                                              \n",
       "\n",
       "         ⎤\n",
       "mma(6, z)⎥\n",
       "─────────⎥\n",
       "         ⎦"
      ]
     },
     "execution_count": 62,
     "metadata": {},
     "output_type": "execute_result"
    }
   ],
   "source": [
    "[f_gamma.rhs.diff(z, i) for i in range(m)]"
   ]
  },
  {
   "cell_type": "code",
   "execution_count": 63,
   "metadata": {
    "collapsed": false
   },
   "outputs": [
    {
     "data": {
      "image/png": "[encoded data removed]",
      "text/latex": [
       "$$- 2 \\zeta\\left(3\\right)$$"
      ],
      "text/plain": [
       "-2⋅ζ(3)"
      ]
     },
     "execution_count": 63,
     "metadata": {},
     "output_type": "execute_result"
    }
   ],
   "source": [
    "polygamma(2,1).rewrite(harmonic)"
   ]
  },
  {
   "cell_type": "code",
   "execution_count": 64,
   "metadata": {
    "collapsed": false,
    "editable": true
   },
   "outputs": [],
   "source": [
    "g_gamma = Hermite_interpolation_polynomial(f_gamma, eigendata, Phi_polynomials)\n",
    "#g_gamma # too long and verbose to show leaving $|lambda_{1}$ abstract"
   ]
  },
  {
   "cell_type": "code",
   "execution_count": 65,
   "metadata": {
    "collapsed": false
   },
   "outputs": [
    {
     "data": {
      "image/png": "[encoded data removed]",
      "text/latex": [
       "$$\\operatorname{f_{ 8 }}{\\left (z \\right )} = z^{7} \\left(- \\frac{\\pi^{2} \\zeta\\left(5\\right)}{60} - \\frac{\\gamma^{2} \\pi^{2}}{72} \\zeta\\left(3\\right) - \\frac{\\gamma \\pi^{6}}{24192} - \\frac{\\gamma^{5} \\pi^{2}}{1440} + \\frac{\\gamma^{7}}{5040} + \\frac{\\gamma^{4} \\zeta\\left(3\\right)}{72} + \\frac{\\gamma^{3} \\pi^{4}}{8640} + \\frac{\\pi^{4} \\zeta\\left(3\\right)}{4320} + \\frac{\\gamma^{2} \\zeta\\left(5\\right)}{10} + \\frac{\\gamma \\zeta^{2}\\left(3\\right)}{18} + \\frac{\\zeta\\left(7\\right)}{7}\\right) + z^{6} \\left(- \\zeta\\left(7\\right) - \\frac{7 \\zeta^{2}\\left(3\\right)}{18} \\gamma - \\frac{7 \\gamma^{2}}{10} \\zeta\\left(5\\right) - \\frac{\\gamma \\pi^{2}}{36} \\zeta\\left(3\\right) - \\frac{7 \\pi^{4}}{4320} \\zeta\\left(3\\right) - \\frac{\\pi^{6}}{24192} - \\frac{7 \\pi^{4}}{8640} \\gamma^{3} - \\frac{7 \\gamma^{4}}{72} \\zeta\\left(3\\right) - \\frac{\\gamma^{4} \\pi^{2}}{288} - \\frac{\\gamma^{7}}{720} + \\frac{\\gamma^{6}}{720} + \\frac{7 \\pi^{2}}{1440} \\gamma^{5} + \\frac{\\gamma^{2} \\pi^{4}}{2880} + \\frac{\\gamma^{3} \\zeta\\left(3\\right)}{18} + \\frac{\\zeta^{2}\\left(3\\right)}{18} + \\frac{\\gamma \\zeta\\left(5\\right)}{5} + \\frac{\\gamma \\pi^{6}}{3456} + \\frac{7 \\pi^{2}}{72} \\gamma^{2} \\zeta\\left(3\\right) + \\frac{7 \\pi^{2}}{60} \\zeta\\left(5\\right)\\right) + z^{5} \\left(- \\frac{7 \\pi^{2}}{20} \\zeta\\left(5\\right) - \\frac{7 \\pi^{2}}{24} \\gamma^{2} \\zeta\\left(3\\right) - \\frac{6 \\gamma}{5} \\zeta\\left(5\\right) - \\frac{\\gamma \\pi^{6}}{1152} - \\frac{\\zeta^{2}\\left(3\\right)}{3} - \\frac{\\pi^{2} \\zeta\\left(3\\right)}{36} - \\frac{\\gamma^{3} \\zeta\\left(3\\right)}{3} - \\frac{\\gamma^{2} \\pi^{4}}{480} - \\frac{\\gamma^{3} \\pi^{2}}{72} - \\frac{7 \\pi^{2}}{480} \\gamma^{5} - \\frac{\\gamma^{6}}{120} + \\frac{\\gamma^{7}}{240} + \\frac{\\gamma^{5}}{120} + \\frac{\\gamma^{4} \\pi^{2}}{48} + \\frac{7 \\gamma^{4}}{24} \\zeta\\left(3\\right) + \\frac{\\gamma \\pi^{4}}{1440} + \\frac{7 \\pi^{4}}{2880} \\gamma^{3} + \\frac{\\gamma^{2} \\zeta\\left(3\\right)}{6} + \\frac{\\zeta\\left(5\\right)}{5} + \\frac{\\pi^{6}}{4032} + \\frac{7 \\pi^{4}}{1440} \\zeta\\left(3\\right) + \\frac{21 \\gamma^{2}}{10} \\zeta\\left(5\\right) + \\frac{7 \\zeta^{2}\\left(3\\right)}{6} \\gamma + \\frac{\\gamma \\pi^{2}}{6} \\zeta\\left(3\\right) + 3 \\zeta\\left(7\\right)\\right) + z^{4} \\left(- 5 \\zeta\\left(7\\right) - \\frac{5 \\pi^{2}}{12} \\gamma \\zeta\\left(3\\right) - \\frac{35 \\zeta^{2}\\left(3\\right)}{18} \\gamma - \\frac{7 \\gamma^{2}}{2} \\zeta\\left(5\\right) - \\zeta\\left(5\\right) - \\frac{7 \\pi^{4}}{864} \\zeta\\left(3\\right) - \\frac{5 \\pi^{6}}{8064} - \\frac{5 \\gamma^{2}}{6} \\zeta\\left(3\\right) - \\frac{\\gamma \\pi^{4}}{288} - \\frac{\\gamma^{2} \\pi^{2}}{24} - \\frac{7 \\pi^{4}}{1728} \\gamma^{3} - \\frac{35 \\gamma^{4}}{72} \\zeta\\left(3\\right) - \\frac{5 \\pi^{2}}{96} \\gamma^{4} - \\frac{\\gamma^{5}}{24} - \\frac{\\gamma^{7}}{144} + \\frac{\\gamma^{6}}{48} + \\frac{\\gamma^{4}}{24} + \\frac{7 \\pi^{2}}{288} \\gamma^{5} + \\frac{\\pi^{4}}{1440} + \\frac{5 \\pi^{2}}{72} \\gamma^{3} + \\frac{\\gamma^{2} \\pi^{4}}{192} + \\frac{5 \\gamma^{3}}{6} \\zeta\\left(3\\right) + \\frac{\\gamma \\zeta\\left(3\\right)}{3} + \\frac{5 \\pi^{6}}{3456} \\gamma + \\frac{5 \\zeta^{2}\\left(3\\right)}{6} + \\frac{5 \\pi^{2}}{36} \\zeta\\left(3\\right) + 3 \\gamma \\zeta\\left(5\\right) + \\frac{35 \\pi^{2}}{72} \\gamma^{2} \\zeta\\left(3\\right) + \\frac{7 \\pi^{2}}{12} \\zeta\\left(5\\right)\\right) + z^{3} \\left(- \\frac{7 \\pi^{2}}{12} \\zeta\\left(5\\right) - \\frac{5 \\pi^{2}}{18} \\zeta\\left(3\\right) - 4 \\gamma \\zeta\\left(5\\right) - \\frac{35 \\pi^{2}}{72} \\gamma^{2} \\zeta\\left(3\\right) - \\frac{10 \\zeta^{2}\\left(3\\right)}{9} - \\frac{4 \\gamma}{3} \\zeta\\left(3\\right) - \\frac{5 \\pi^{6}}{3456} \\gamma - \\frac{\\gamma \\pi^{2}}{12} - \\frac{\\pi^{4}}{360} - \\frac{5 \\pi^{2}}{36} \\gamma^{3} - \\frac{10 \\gamma^{3}}{9} \\zeta\\left(3\\right) - \\frac{\\gamma^{2} \\pi^{4}}{144} - \\frac{\\gamma^{4}}{6} - \\frac{7 \\pi^{2}}{288} \\gamma^{5} - \\frac{\\gamma^{6}}{36} + \\frac{\\gamma^{7}}{144} + \\frac{\\gamma^{5}}{12} + \\frac{\\gamma^{3}}{6} + \\frac{35 \\gamma^{4}}{72} \\zeta\\left(3\\right) + \\frac{7 \\pi^{4}}{1728} \\gamma^{3} + \\frac{5 \\pi^{2}}{72} \\gamma^{4} + \\frac{\\gamma \\pi^{4}}{144} + \\frac{\\zeta\\left(3\\right)}{3} + \\frac{\\gamma^{2} \\pi^{2}}{6} + \\frac{5 \\gamma^{2}}{3} \\zeta\\left(3\\right) + \\frac{5 \\pi^{6}}{6048} + \\frac{7 \\pi^{4}}{864} \\zeta\\left(3\\right) + \\frac{7 \\gamma^{2}}{2} \\zeta\\left(5\\right) + \\frac{35 \\zeta^{2}\\left(3\\right)}{18} \\gamma + 2 \\zeta\\left(5\\right) + \\frac{5 \\pi^{2}}{9} \\gamma \\zeta\\left(3\\right) + 5 \\zeta\\left(7\\right)\\right) + z^{2} \\left(- 3 \\zeta\\left(7\\right) - \\frac{5 \\pi^{2}}{12} \\gamma \\zeta\\left(3\\right) - 2 \\zeta\\left(5\\right) - \\zeta\\left(3\\right) - \\frac{7 \\zeta^{2}\\left(3\\right)}{6} \\gamma - \\frac{\\pi^{2}}{12} - \\frac{\\gamma^{2} \\pi^{2}}{4} - \\frac{21 \\gamma^{2}}{10} \\zeta\\left(5\\right) - \\frac{5 \\gamma^{2}}{3} \\zeta\\left(3\\right) - \\frac{5 \\pi^{6}}{8064} - \\frac{7 \\pi^{4}}{1440} \\zeta\\left(3\\right) - \\frac{\\gamma \\pi^{4}}{144} - \\frac{\\gamma^{3}}{2} - \\frac{5 \\pi^{2}}{96} \\gamma^{4} - \\frac{7 \\pi^{4}}{2880} \\gamma^{3} - \\frac{7 \\gamma^{4}}{24} \\zeta\\left(3\\right) - \\frac{\\gamma^{5}}{12} - \\frac{\\gamma^{7}}{240} + \\frac{\\gamma^{6}}{48} + \\frac{7 \\pi^{2}}{480} \\gamma^{5} + \\frac{\\gamma^{4}}{4} + \\frac{\\gamma^{2}}{2} + \\frac{\\gamma^{2} \\pi^{4}}{192} + \\frac{5 \\gamma^{3}}{6} \\zeta\\left(3\\right) + \\frac{5 \\pi^{2}}{36} \\gamma^{3} + \\frac{\\pi^{4}}{240} + \\frac{\\gamma \\pi^{6}}{1152} + \\frac{7 \\pi^{2}}{24} \\gamma^{2} \\zeta\\left(3\\right) + \\frac{5 \\zeta^{2}\\left(3\\right)}{6} + 2 \\gamma \\zeta\\left(3\\right) + \\frac{\\gamma \\pi^{2}}{4} + 3 \\gamma \\zeta\\left(5\\right) + \\frac{5 \\pi^{2}}{18} \\zeta\\left(3\\right) + \\frac{7 \\pi^{2}}{20} \\zeta\\left(5\\right)\\right) + z \\left(- \\frac{5 \\pi^{2}}{36} \\zeta\\left(3\\right) - \\frac{\\gamma \\pi^{2}}{4} - \\frac{7 \\pi^{2}}{60} \\zeta\\left(5\\right) - \\frac{4 \\gamma}{3} \\zeta\\left(3\\right) - \\frac{6 \\gamma}{5} \\zeta\\left(5\\right) - \\frac{\\zeta^{2}\\left(3\\right)}{3} - \\frac{7 \\pi^{2}}{72} \\gamma^{2} \\zeta\\left(3\\right) - \\gamma^{2} - \\frac{\\pi^{4}}{360} - \\frac{\\gamma \\pi^{6}}{3456} - \\frac{5 \\pi^{2}}{72} \\gamma^{3} - \\frac{\\gamma^{3} \\zeta\\left(3\\right)}{3} - \\frac{\\gamma^{2} \\pi^{4}}{480} - \\frac{\\gamma^{4}}{6} - \\frac{7 \\pi^{2}}{1440} \\gamma^{5} - \\frac{\\gamma^{6}}{120} + \\frac{\\gamma^{7}}{720} + \\frac{\\gamma^{5}}{24} + \\frac{7 \\gamma^{4}}{72} \\zeta\\left(3\\right) + \\frac{7 \\pi^{4}}{8640} \\gamma^{3} + \\frac{\\gamma^{4} \\pi^{2}}{48} + \\frac{\\gamma^{3}}{2} + \\frac{7 \\pi^{4}}{4320} \\zeta\\left(3\\right) + \\frac{\\gamma \\pi^{4}}{288} + \\frac{\\pi^{6}}{4032} + \\frac{7 \\gamma^{2}}{10} \\zeta\\left(5\\right) + \\frac{7 \\zeta^{2}\\left(3\\right)}{18} \\gamma + \\frac{5 \\gamma^{2}}{6} \\zeta\\left(3\\right) + \\frac{\\gamma^{2} \\pi^{2}}{6} + \\gamma + \\zeta\\left(7\\right) + \\zeta\\left(5\\right) + \\frac{\\gamma \\pi^{2}}{6} \\zeta\\left(3\\right) + \\zeta\\left(3\\right) + \\frac{\\pi^{2}}{6}\\right) - \\frac{\\pi^{2}}{12} - \\gamma - \\frac{\\zeta\\left(3\\right)}{3} - \\frac{\\zeta\\left(5\\right)}{5} - \\frac{\\gamma \\pi^{2}}{36} \\zeta\\left(3\\right) - \\frac{\\zeta\\left(7\\right)}{7} - \\frac{\\gamma^{2} \\pi^{2}}{24} - \\frac{\\gamma^{2} \\zeta\\left(3\\right)}{6} - \\frac{\\gamma \\zeta^{2}\\left(3\\right)}{18} - \\frac{\\pi^{6}}{24192} - \\frac{\\gamma \\pi^{4}}{1440} - \\frac{\\gamma^{2} \\zeta\\left(5\\right)}{10} - \\frac{\\gamma^{3}}{6} - \\frac{\\pi^{4} \\zeta\\left(3\\right)}{4320} - \\frac{\\gamma^{4} \\pi^{2}}{288} - \\frac{\\gamma^{3} \\pi^{4}}{8640} - \\frac{\\gamma^{4} \\zeta\\left(3\\right)}{72} - \\frac{\\gamma^{5}}{120} - \\frac{\\gamma^{7}}{5040} + \\frac{\\gamma^{6}}{720} + \\frac{\\gamma^{5} \\pi^{2}}{1440} + \\frac{\\gamma^{4}}{24} + \\frac{\\gamma^{2} \\pi^{4}}{2880} + \\frac{\\gamma^{3} \\zeta\\left(3\\right)}{18} + \\frac{\\gamma \\pi^{6}}{24192} + \\frac{\\gamma^{3} \\pi^{2}}{72} + \\frac{\\gamma^{2} \\pi^{2}}{72} \\zeta\\left(3\\right) + \\frac{\\pi^{4}}{1440} + \\frac{\\zeta^{2}\\left(3\\right)}{18} + \\frac{\\gamma \\zeta\\left(5\\right)}{5} + \\frac{\\gamma^{2}}{2} + \\frac{\\pi^{2} \\zeta\\left(5\\right)}{60} + \\frac{\\gamma \\zeta\\left(3\\right)}{3} + \\frac{\\pi^{2} \\zeta\\left(3\\right)}{36} + \\frac{\\gamma \\pi^{2}}{12} + 1$$"
      ],
      "text/plain": [
       "                ⎛   2         2  2            6    5  2     7     4         3 \n",
       "              7 ⎜  π ⋅ζ(5)   γ ⋅π ⋅ζ(3)    γ⋅π    γ ⋅π     γ     γ ⋅ζ(3)   γ ⋅\n",
       "f_{ 8 }(z) = z ⋅⎜- ─────── - ────────── - ───── - ───── + ──── + ─────── + ───\n",
       "                ⎝     60         72       24192    1440   5040      72      86\n",
       "\n",
       " 4    4         2           2          ⎞      ⎛             2         2       \n",
       "π    π ⋅ζ(3)   γ ⋅ζ(5)   γ⋅ζ (3)   ζ(7)⎟    6 ⎜        7⋅γ⋅ζ (3)   7⋅γ ⋅ζ(5)  \n",
       "── + ─────── + ─────── + ─────── + ────⎟ + z ⋅⎜-ζ(7) - ───────── - ───────── -\n",
       "40     4320       10        18      7  ⎠      ⎝            18          10     \n",
       "\n",
       "    2           4           6       3  4      4         4  2     7     6      \n",
       " γ⋅π ⋅ζ(3)   7⋅π ⋅ζ(3)     π     7⋅γ ⋅π    7⋅γ ⋅ζ(3)   γ ⋅π     γ     γ    7⋅γ\n",
       " ───────── - ───────── - ───── - ─────── - ───────── - ───── - ─── + ─── + ───\n",
       "     36         4320     24192     8640        72       288    720   720     1\n",
       "\n",
       "5  2    2  4    3         2                  6      2  2           2     ⎞    \n",
       " ⋅π    γ ⋅π    γ ⋅ζ(3)   ζ (3)   γ⋅ζ(5)   γ⋅π    7⋅γ ⋅π ⋅ζ(3)   7⋅π ⋅ζ(5)⎟    \n",
       "──── + ───── + ─────── + ───── + ────── + ──── + ──────────── + ─────────⎟ + z\n",
       "440     2880      18       18      5      3456        72            60   ⎠    \n",
       "\n",
       "  ⎛     2           2  2                      6    2       2         3        \n",
       "5 ⎜  7⋅π ⋅ζ(5)   7⋅γ ⋅π ⋅ζ(3)   6⋅γ⋅ζ(5)   γ⋅π    ζ (3)   π ⋅ζ(3)   γ ⋅ζ(3)   \n",
       " ⋅⎜- ───────── - ──────────── - ──────── - ──── - ───── - ─────── - ─────── - \n",
       "  ⎝      20           24           5       1152     3        36        3      \n",
       "\n",
       " 2  4    3  2      5  2     6     7     5    4  2      4           4      3  4\n",
       "γ ⋅π    γ ⋅π    7⋅γ ⋅π     γ     γ     γ    γ ⋅π    7⋅γ ⋅ζ(3)   γ⋅π    7⋅γ ⋅π \n",
       "───── - ───── - ─────── - ─── + ─── + ─── + ───── + ───────── + ──── + ───────\n",
       " 480      72      480     120   240   120     48        24      1440     2880 \n",
       "\n",
       "    2                 6       4            2             2         2          \n",
       "   γ ⋅ζ(3)   ζ(5)    π     7⋅π ⋅ζ(3)   21⋅γ ⋅ζ(5)   7⋅γ⋅ζ (3)   γ⋅π ⋅ζ(3)     \n",
       " + ─────── + ──── + ──── + ───────── + ────────── + ───────── + ───────── + 3⋅\n",
       "      6       5     4032      1440         10           6           6         \n",
       "\n",
       "    ⎞      ⎛               2              2         2                  4      \n",
       "    ⎟    4 ⎜          5⋅γ⋅π ⋅ζ(3)   35⋅γ⋅ζ (3)   7⋅γ ⋅ζ(5)          7⋅π ⋅ζ(3) \n",
       "ζ(7)⎟ + z ⋅⎜-5⋅ζ(7) - ─────────── - ────────── - ───────── - ζ(5) - ───────── \n",
       "    ⎠      ⎝               12           18           2                 864    \n",
       "\n",
       "     6      2           4    2  2      3  4       4           4  2    5     7 \n",
       "  5⋅π    5⋅γ ⋅ζ(3)   γ⋅π    γ ⋅π    7⋅γ ⋅π    35⋅γ ⋅ζ(3)   5⋅γ ⋅π    γ     γ  \n",
       "- ──── - ───────── - ──── - ───── - ─────── - ────────── - ─────── - ── - ─── \n",
       "  8064       6       288      24      1728        72          96     24   144 \n",
       "\n",
       "   6    4      5  2     4       3  2    2  4      3                      6    \n",
       "  γ    γ    7⋅γ ⋅π     π     5⋅γ ⋅π    γ ⋅π    5⋅γ ⋅ζ(3)   γ⋅ζ(3)   5⋅γ⋅π    5\n",
       "+ ── + ── + ─────── + ──── + ─────── + ───── + ───────── + ────── + ────── + ─\n",
       "  48   24     288     1440      72      192        6         3       3456     \n",
       "\n",
       "  2         2                       2  2           2     ⎞      ⎛     2       \n",
       "⋅ζ (3)   5⋅π ⋅ζ(3)              35⋅γ ⋅π ⋅ζ(3)   7⋅π ⋅ζ(5)⎟    3 ⎜  7⋅π ⋅ζ(5)  \n",
       "────── + ───────── + 3⋅γ⋅ζ(5) + ───────────── + ─────────⎟ + z ⋅⎜- ───────── -\n",
       "  6          36                       72            12   ⎠      ⎝      12     \n",
       "\n",
       "    2                       2  2            2                      6      2   \n",
       " 5⋅π ⋅ζ(3)              35⋅γ ⋅π ⋅ζ(3)   10⋅ζ (3)   4⋅γ⋅ζ(3)   5⋅γ⋅π    γ⋅π    \n",
       " ───────── - 4⋅γ⋅ζ(5) - ───────────── - ──────── - ──────── - ────── - ──── - \n",
       "     18                       72           9          3        3456     12    \n",
       "\n",
       "  4      3  2       3         2  4    4      5  2    6     7    5    3       4\n",
       " π    5⋅γ ⋅π    10⋅γ ⋅ζ(3)   γ ⋅π    γ    7⋅γ ⋅π    γ     γ    γ    γ    35⋅γ \n",
       "─── - ─────── - ────────── - ───── - ── - ─────── - ── + ─── + ── + ── + ─────\n",
       "360      36         9         144    6      288     36   144   12   6        7\n",
       "\n",
       "           3  4      4  2      4           2  2      2           6      4     \n",
       "⋅ζ(3)   7⋅γ ⋅π    5⋅γ ⋅π    γ⋅π    ζ(3)   γ ⋅π    5⋅γ ⋅ζ(3)   5⋅π    7⋅π ⋅ζ(3)\n",
       "───── + ─────── + ─────── + ──── + ──── + ───── + ───────── + ──── + ─────────\n",
       "2         1728       72     144     3       6         3       6048      864   \n",
       "\n",
       "      2              2                    2              ⎞      ⎛             \n",
       "   7⋅γ ⋅ζ(5)   35⋅γ⋅ζ (3)            5⋅γ⋅π ⋅ζ(3)         ⎟    2 ⎜          5⋅γ\n",
       " + ───────── + ────────── + 2⋅ζ(5) + ─────────── + 5⋅ζ(7)⎟ + z ⋅⎜-3⋅ζ(7) - ───\n",
       "       2           18                     9              ⎠      ⎝             \n",
       "\n",
       "  2                             2       2    2  2       2           2         \n",
       "⋅π ⋅ζ(3)                   7⋅γ⋅ζ (3)   π    γ ⋅π    21⋅γ ⋅ζ(5)   5⋅γ ⋅ζ(3)   5\n",
       "──────── - 2⋅ζ(5) - ζ(3) - ───────── - ── - ───── - ────────── - ───────── - ─\n",
       "  12                           6       12     4         10           3       8\n",
       "\n",
       "  6      4           4    3      4  2      3  4      4         5     7    6   \n",
       "⋅π    7⋅π ⋅ζ(3)   γ⋅π    γ    5⋅γ ⋅π    7⋅γ ⋅π    7⋅γ ⋅ζ(3)   γ     γ    γ    \n",
       "─── - ───────── - ──── - ── - ─────── - ─────── - ───────── - ── - ─── + ── + \n",
       "064      1440     144    2       96       2880        24      12   240   48   \n",
       "\n",
       "   5  2    4    2    2  4      3           3  2     4      6      2  2        \n",
       "7⋅γ ⋅π    γ    γ    γ ⋅π    5⋅γ ⋅ζ(3)   5⋅γ ⋅π     π    γ⋅π    7⋅γ ⋅π ⋅ζ(3)   \n",
       "─────── + ── + ── + ───── + ───────── + ─────── + ─── + ──── + ──────────── + \n",
       "  480     4    2     192        6          36     240   1152        24        \n",
       "\n",
       "   2                    2                 2           2     ⎞     ⎛     2     \n",
       "5⋅ζ (3)              γ⋅π               5⋅π ⋅ζ(3)   7⋅π ⋅ζ(5)⎟     ⎜  5⋅π ⋅ζ(3)\n",
       "─────── + 2⋅γ⋅ζ(3) + ──── + 3⋅γ⋅ζ(5) + ───────── + ─────────⎟ + z⋅⎜- ─────────\n",
       "   6                  4                    18          20   ⎠     ⎝      36   \n",
       "\n",
       "      2      2                               2         2  2               4   \n",
       "   γ⋅π    7⋅π ⋅ζ(5)   4⋅γ⋅ζ(3)   6⋅γ⋅ζ(5)   ζ (3)   7⋅γ ⋅π ⋅ζ(3)    2    π    \n",
       " - ──── - ───────── - ──────── - ──────── - ───── - ──────────── - γ  - ─── - \n",
       "    4         60         3          5         3          72             360   \n",
       "\n",
       "   6      3  2    3         2  4    4      5  2     6     7    5      4       \n",
       "γ⋅π    5⋅γ ⋅π    γ ⋅ζ(3)   γ ⋅π    γ    7⋅γ ⋅π     γ     γ    γ    7⋅γ ⋅ζ(3)  \n",
       "──── - ─────── - ─────── - ───── - ── - ─────── - ─── + ─── + ── + ───────── +\n",
       "3456      72        3       480    6      1440    120   720   24       72     \n",
       "\n",
       "    3  4    4  2    3      4           4     6       2             2         2\n",
       " 7⋅γ ⋅π    γ ⋅π    γ    7⋅π ⋅ζ(3)   γ⋅π     π     7⋅γ ⋅ζ(5)   7⋅γ⋅ζ (3)   5⋅γ \n",
       " ─────── + ───── + ── + ───────── + ──── + ──── + ───────── + ───────── + ────\n",
       "   8640      48    2       4320     288    4032       10          18          \n",
       "\n",
       "         2  2                        2                2⎞    2                 \n",
       "⋅ζ(3)   γ ⋅π                      γ⋅π ⋅ζ(3)          π ⎟   π        ζ(3)   ζ(5\n",
       "───── + ───── + γ + ζ(7) + ζ(5) + ───────── + ζ(3) + ──⎟ - ── - γ - ──── - ───\n",
       "6         6                           6              6 ⎠   12        3      5 \n",
       "\n",
       "       2                2  2    2           2         6       4    2         3\n",
       ")   γ⋅π ⋅ζ(3)   ζ(7)   γ ⋅π    γ ⋅ζ(3)   γ⋅ζ (3)     π     γ⋅π    γ ⋅ζ(5)   γ \n",
       "─ - ───────── - ──── - ───── - ─────── - ─────── - ───── - ──── - ─────── - ──\n",
       "        36       7       24       6         18     24192   1440      10     6 \n",
       "\n",
       "    4         4  2    3  4    4          5     7      6    5  2    4    2  4  \n",
       "   π ⋅ζ(3)   γ ⋅π    γ ⋅π    γ ⋅ζ(3)    γ     γ      γ    γ ⋅π    γ    γ ⋅π   \n",
       " - ─────── - ───── - ───── - ─────── - ─── - ──── + ─── + ───── + ── + ───── +\n",
       "     4320     288     8640      72     120   5040   720    1440   24    2880  \n",
       "\n",
       "  3            6    3  2    2  2          4     2                2    2       \n",
       " γ ⋅ζ(3)    γ⋅π    γ ⋅π    γ ⋅π ⋅ζ(3)    π     ζ (3)   γ⋅ζ(5)   γ    π ⋅ζ(5)  \n",
       " ─────── + ───── + ───── + ────────── + ──── + ───── + ────── + ── + ─────── +\n",
       "    18     24192     72        72       1440     18      5      2       60    \n",
       "\n",
       "           2           2    \n",
       " γ⋅ζ(3)   π ⋅ζ(3)   γ⋅π     \n",
       " ────── + ─────── + ──── + 1\n",
       "   3         36      12     "
      ]
     },
     "execution_count": 65,
     "metadata": {},
     "output_type": "execute_result"
    }
   ],
   "source": [
    "g_gamma = g_gamma.subs(eigenvals).rewrite(harmonic)\n",
    "g_gamma"
   ]
  },
  {
   "cell_type": "code",
   "execution_count": 66,
   "metadata": {
    "collapsed": false
   },
   "outputs": [
    {
     "data": {
      "image/png": "[encoded data removed]",
      "text/latex": [
       "$$\\operatorname{f_{ 8 }}{\\left (z \\right )} = \\left[\\begin{matrix}1 & 0 & 0 & 0 & 0 & 0 & 0 & 0\\\\\\gamma & 1 & 0 & 0 & 0 & 0 & 0 & 0\\\\- \\frac{\\pi^{2}}{6} + \\gamma^{2} + \\gamma & 2 \\gamma & 1 & 0 & 0 & 0 & 0 & 0\\\\- \\frac{\\pi^{2}}{2} - \\frac{\\gamma \\pi^{2}}{2} + \\gamma^{3} + \\gamma + 3 \\gamma^{2} + 2 \\zeta\\left(3\\right) & - \\frac{\\pi^{2}}{2} + 3 \\gamma^{2} + 3 \\gamma & 3 \\gamma & 1 & 0 & 0 & 0 & 0\\\\- 3 \\gamma \\pi^{2} - \\frac{7 \\pi^{2}}{6} - \\gamma^{2} \\pi^{2} + \\gamma^{4} + \\gamma + 6 \\gamma^{3} + \\frac{\\pi^{4}}{60} + 7 \\gamma^{2} + 8 \\gamma \\zeta\\left(3\\right) + 12 \\zeta\\left(3\\right) & - 2 \\pi^{2} - 2 \\gamma \\pi^{2} + 4 \\gamma^{3} + 4 \\gamma + 12 \\gamma^{2} + 8 \\zeta\\left(3\\right) & - \\pi^{2} + 6 \\gamma^{2} + 6 \\gamma & 4 \\gamma & 1 & 0 & 0 & 0\\\\- \\frac{25 \\pi^{2}}{2} \\gamma - \\frac{10 \\pi^{2}}{3} \\zeta\\left(3\\right) - 10 \\gamma^{2} \\pi^{2} - \\frac{5 \\pi^{2}}{2} - \\frac{5 \\pi^{2}}{3} \\gamma^{3} + \\gamma^{5} + \\gamma + 10 \\gamma^{4} + \\frac{\\gamma \\pi^{4}}{12} + 25 \\gamma^{3} + 15 \\gamma^{2} + 20 \\gamma^{2} \\zeta\\left(3\\right) + \\frac{\\pi^{4}}{6} + 24 \\zeta\\left(5\\right) + 80 \\gamma \\zeta\\left(3\\right) + 50 \\zeta\\left(3\\right) & - 15 \\gamma \\pi^{2} - \\frac{35 \\pi^{2}}{6} - 5 \\gamma^{2} \\pi^{2} + 5 \\gamma^{4} + 5 \\gamma + 30 \\gamma^{3} + \\frac{\\pi^{4}}{12} + 35 \\gamma^{2} + 40 \\gamma \\zeta\\left(3\\right) + 60 \\zeta\\left(3\\right) & - 5 \\pi^{2} - 5 \\gamma \\pi^{2} + 10 \\gamma^{3} + 10 \\gamma + 30 \\gamma^{2} + 20 \\zeta\\left(3\\right) & - \\frac{5 \\pi^{2}}{3} + 10 \\gamma^{2} + 10 \\gamma & 5 \\gamma & 1 & 0 & 0\\\\- 50 \\pi^{2} \\zeta\\left(3\\right) - 45 \\gamma \\pi^{2} - 65 \\gamma^{2} \\pi^{2} - 20 \\gamma \\pi^{2} \\zeta\\left(3\\right) - \\frac{31 \\pi^{2}}{6} - 25 \\gamma^{3} \\pi^{2} - \\frac{5 \\pi^{6}}{168} - \\frac{5 \\pi^{2}}{2} \\gamma^{4} + \\gamma^{6} + \\gamma + 15 \\gamma^{5} + 65 \\gamma^{4} + \\frac{\\gamma^{2} \\pi^{4}}{4} + 40 \\gamma^{3} \\zeta\\left(3\\right) + 31 \\gamma^{2} + 90 \\gamma^{3} + 40 \\zeta^{2}\\left(3\\right) + \\frac{5 \\pi^{4}}{4} \\gamma + 144 \\gamma \\zeta\\left(5\\right) + \\frac{13 \\pi^{4}}{12} + 300 \\gamma^{2} \\zeta\\left(3\\right) + 180 \\zeta\\left(3\\right) + 520 \\gamma \\zeta\\left(3\\right) + 360 \\zeta\\left(5\\right) & - 75 \\gamma \\pi^{2} - 20 \\pi^{2} \\zeta\\left(3\\right) - 60 \\gamma^{2} \\pi^{2} - 15 \\pi^{2} - 10 \\gamma^{3} \\pi^{2} + 6 \\gamma^{5} + 6 \\gamma + 60 \\gamma^{4} + \\frac{\\gamma \\pi^{4}}{2} + 150 \\gamma^{3} + 90 \\gamma^{2} + 120 \\gamma^{2} \\zeta\\left(3\\right) + \\pi^{4} + 144 \\zeta\\left(5\\right) + 480 \\gamma \\zeta\\left(3\\right) + 300 \\zeta\\left(3\\right) & - 45 \\gamma \\pi^{2} - \\frac{35 \\pi^{2}}{2} - 15 \\gamma^{2} \\pi^{2} + 15 \\gamma^{4} + 15 \\gamma + 90 \\gamma^{3} + \\frac{\\pi^{4}}{4} + 105 \\gamma^{2} + 120 \\gamma \\zeta\\left(3\\right) + 180 \\zeta\\left(3\\right) & - 10 \\pi^{2} - 10 \\gamma \\pi^{2} + 20 \\gamma^{3} + 20 \\gamma + 60 \\gamma^{2} + 40 \\zeta\\left(3\\right) & - \\frac{5 \\pi^{2}}{2} + 15 \\gamma^{2} + 15 \\gamma & 6 \\gamma & 1 & 0\\\\- \\frac{1400 \\pi^{2}}{3} \\zeta\\left(3\\right) - 420 \\gamma \\pi^{2} \\zeta\\left(3\\right) - 350 \\gamma^{2} \\pi^{2} - 84 \\pi^{2} \\zeta\\left(5\\right) - \\frac{301 \\pi^{2}}{2} \\gamma - \\frac{5 \\pi^{6}}{8} - \\frac{700 \\pi^{2}}{3} \\gamma^{3} - 70 \\gamma^{2} \\pi^{2} \\zeta\\left(3\\right) - \\frac{5 \\pi^{6}}{24} \\gamma - \\frac{21 \\pi^{2}}{2} - \\frac{105 \\pi^{2}}{2} \\gamma^{4} - \\frac{7 \\pi^{2}}{2} \\gamma^{5} + \\gamma^{7} + \\gamma + 21 \\gamma^{6} + 140 \\gamma^{5} + 70 \\gamma^{4} \\zeta\\left(3\\right) + \\frac{7 \\pi^{4}}{12} \\gamma^{3} + 63 \\gamma^{2} + 350 \\gamma^{4} + 301 \\gamma^{3} + \\frac{7 \\pi^{4}}{6} \\zeta\\left(3\\right) + \\frac{21 \\pi^{4}}{4} \\gamma^{2} + 504 \\gamma^{2} \\zeta\\left(5\\right) + 840 \\gamma^{3} \\zeta\\left(3\\right) + 280 \\gamma \\zeta^{2}\\left(3\\right) + \\frac{35 \\pi^{4}}{6} + \\frac{35 \\pi^{4}}{3} \\gamma + 602 \\zeta\\left(3\\right) + 720 \\zeta\\left(7\\right) + 2800 \\gamma^{2} \\zeta\\left(3\\right) + 840 \\zeta^{2}\\left(3\\right) + 3024 \\gamma \\zeta\\left(5\\right) + 2800 \\gamma \\zeta\\left(3\\right) + 3360 \\zeta\\left(5\\right) & - 350 \\pi^{2} \\zeta\\left(3\\right) - 315 \\gamma \\pi^{2} - 455 \\gamma^{2} \\pi^{2} - 140 \\gamma \\pi^{2} \\zeta\\left(3\\right) - \\frac{217 \\pi^{2}}{6} - 175 \\gamma^{3} \\pi^{2} - \\frac{5 \\pi^{6}}{24} - \\frac{35 \\pi^{2}}{2} \\gamma^{4} + 7 \\gamma^{6} + 7 \\gamma + 105 \\gamma^{5} + 455 \\gamma^{4} + \\frac{7 \\pi^{4}}{4} \\gamma^{2} + 280 \\gamma^{3} \\zeta\\left(3\\right) + 217 \\gamma^{2} + 630 \\gamma^{3} + 280 \\zeta^{2}\\left(3\\right) + \\frac{35 \\pi^{4}}{4} \\gamma + 1008 \\gamma \\zeta\\left(5\\right) + \\frac{91 \\pi^{4}}{12} + 2100 \\gamma^{2} \\zeta\\left(3\\right) + 1260 \\zeta\\left(3\\right) + 3640 \\gamma \\zeta\\left(3\\right) + 2520 \\zeta\\left(5\\right) & - \\frac{525 \\pi^{2}}{2} \\gamma - 70 \\pi^{2} \\zeta\\left(3\\right) - 210 \\gamma^{2} \\pi^{2} - \\frac{105 \\pi^{2}}{2} - 35 \\gamma^{3} \\pi^{2} + 21 \\gamma^{5} + 21 \\gamma + 210 \\gamma^{4} + \\frac{7 \\pi^{4}}{4} \\gamma + 525 \\gamma^{3} + 315 \\gamma^{2} + 420 \\gamma^{2} \\zeta\\left(3\\right) + \\frac{7 \\pi^{4}}{2} + 504 \\zeta\\left(5\\right) + 1680 \\gamma \\zeta\\left(3\\right) + 1050 \\zeta\\left(3\\right) & - 105 \\gamma \\pi^{2} - \\frac{245 \\pi^{2}}{6} - 35 \\gamma^{2} \\pi^{2} + 35 \\gamma^{4} + 35 \\gamma + 210 \\gamma^{3} + \\frac{7 \\pi^{4}}{12} + 245 \\gamma^{2} + 280 \\gamma \\zeta\\left(3\\right) + 420 \\zeta\\left(3\\right) & - \\frac{35 \\pi^{2}}{2} - \\frac{35 \\pi^{2}}{2} \\gamma + 35 \\gamma^{3} + 35 \\gamma + 105 \\gamma^{2} + 70 \\zeta\\left(3\\right) & - \\frac{7 \\pi^{2}}{2} + 21 \\gamma^{2} + 21 \\gamma & 7 \\gamma & 1\\end{matrix}\\right]$$"
      ],
      "text/plain": [
       "             ⎡                                                                \n",
       "             ⎢                                                                \n",
       "             ⎢                                                                \n",
       "             ⎢                                                                \n",
       "             ⎢                                                                \n",
       "             ⎢                                                                \n",
       "             ⎢                                                                \n",
       "             ⎢                                                                \n",
       "             ⎢                                                                \n",
       "             ⎢                                                                \n",
       "             ⎢                                                                \n",
       "             ⎢                                                                \n",
       "             ⎢                                                                \n",
       "             ⎢                                                                \n",
       "             ⎢                                                                \n",
       "             ⎢                                                                \n",
       "f_{ 8 }(z) = ⎢                                                                \n",
       "             ⎢                                                                \n",
       "             ⎢                                                                \n",
       "             ⎢                                                                \n",
       "             ⎢                                                                \n",
       "             ⎢                                                                \n",
       "             ⎢                                                                \n",
       "             ⎢                                                                \n",
       "             ⎢                                                                \n",
       "             ⎢                                                                \n",
       "             ⎢                                                                \n",
       "             ⎢                                                                \n",
       "             ⎢                                                                \n",
       "             ⎢        2                                                       \n",
       "             ⎢  1400⋅π ⋅ζ(3)          2             2  2       2        301⋅γ⋅\n",
       "             ⎢- ──────────── - 420⋅γ⋅π ⋅ζ(3) - 350⋅γ ⋅π  - 84⋅π ⋅ζ(5) - ──────\n",
       "             ⎣       3                                                     2  \n",
       "\n",
       "                                                                              \n",
       "                                                                              \n",
       "                                                                              \n",
       "                                                                              \n",
       "                                                                              \n",
       "                                                                              \n",
       "                                                                              \n",
       "                                                                              \n",
       "                                                                              \n",
       "                                                                              \n",
       "                                                                              \n",
       "                                                                              \n",
       "                                                                              \n",
       "                                                                              \n",
       "                                                                              \n",
       "                                                                              \n",
       "                                                                              \n",
       "                                                                              \n",
       "                                                                              \n",
       "                                                                   2       2  \n",
       "                                                             25⋅γ⋅π    10⋅π ⋅ζ\n",
       "                                                           - ─────── - ───────\n",
       "                                                                2          3  \n",
       "                                                                              \n",
       "                                                                  2           \n",
       "                 2              2       2  2         2        31⋅π        3  2\n",
       "           - 50⋅π ⋅ζ(3) - 45⋅γ⋅π  - 65⋅γ ⋅π  - 20⋅γ⋅π ⋅ζ(3) - ───── - 25⋅γ ⋅π \n",
       "                                                                6             \n",
       "                                                                              \n",
       " 2      6        3  2                        6       2        4  2      5  2  \n",
       "π    5⋅π    700⋅γ ⋅π        2  2        5⋅γ⋅π    21⋅π    105⋅γ ⋅π    7⋅γ ⋅π   \n",
       "── - ──── - ───────── - 70⋅γ ⋅π ⋅ζ(3) - ────── - ───── - ───────── - ─────── +\n",
       "      8         3                         24       2         2          2     \n",
       "\n",
       "                                                   1                          \n",
       "                                                                              \n",
       "                                                   γ                          \n",
       "                                                                              \n",
       "                                                2                             \n",
       "                                               π     2                        \n",
       "                                             - ── + γ  + γ                    \n",
       "                                               6                              \n",
       "                                                                              \n",
       "                                    2      2                                  \n",
       "                                   π    γ⋅π     3          2                  \n",
       "                                 - ── - ──── + γ  + γ + 3⋅γ  + 2⋅ζ(3)         \n",
       "                                   2     2                                    \n",
       "                                                                              \n",
       "                             2                            4                   \n",
       "                      2   7⋅π     2  2    4          3   π       2            \n",
       "               - 3⋅γ⋅π  - ──── - γ ⋅π  + γ  + γ + 6⋅γ  + ── + 7⋅γ  + 8⋅γ⋅ζ(3) \n",
       "                           6                             60                   \n",
       "                                                                              \n",
       "                    2      3  2                       4                       \n",
       "(3)       2  2   5⋅π    5⋅γ ⋅π     5           4   γ⋅π        3       2       \n",
       "─── - 10⋅γ ⋅π  - ──── - ─────── + γ  + γ + 10⋅γ  + ──── + 25⋅γ  + 15⋅γ  + 20⋅γ\n",
       "                  2        3                        12                        \n",
       "                                                                              \n",
       "      6      4  2                             2  4                            \n",
       "   5⋅π    5⋅γ ⋅π     6           5       4   γ ⋅π        3            2       \n",
       " - ──── - ─────── + γ  + γ + 15⋅γ  + 65⋅γ  + ───── + 40⋅γ ⋅ζ(3) + 31⋅γ  + 90⋅γ\n",
       "   168       2                                 4                              \n",
       "                                                                              \n",
       "                                           3  4                               \n",
       "  7           6        5       4        7⋅γ ⋅π        2        4        3   7⋅\n",
       " γ  + γ + 21⋅γ  + 140⋅γ  + 70⋅γ ⋅ζ(3) + ─────── + 63⋅γ  + 350⋅γ  + 301⋅γ  + ──\n",
       "                                           12                                 \n",
       "\n",
       "                                                                              \n",
       "                                                                              \n",
       "                                                                              \n",
       "                                                                              \n",
       "                                                                              \n",
       "                                                                              \n",
       "                                                                              \n",
       "                                                                              \n",
       "                                                                              \n",
       "                                                                              \n",
       "                                                                              \n",
       "                                                                              \n",
       "                                                                              \n",
       "                                                                              \n",
       "                                                                              \n",
       "                                                                              \n",
       "+ 12⋅ζ(3)                                                                     \n",
       "                                                                              \n",
       "                                                                              \n",
       "          4                                                                   \n",
       "2        π                                                                    \n",
       " ⋅ζ(3) + ── + 24⋅ζ(5) + 80⋅γ⋅ζ(3) + 50⋅ζ(3)                                   \n",
       "         6                                                                    \n",
       "                                                                              \n",
       "                    4                    4                                    \n",
       "3       2      5⋅γ⋅π                 13⋅π         2                           \n",
       "  + 40⋅ζ (3) + ────── + 144⋅γ⋅ζ(5) + ───── + 300⋅γ ⋅ζ(3) + 180⋅ζ(3) + 520⋅γ⋅ζ(\n",
       "                 4                     12                                     \n",
       "                                                                              \n",
       " 4            2  4                                                 4         4\n",
       "π ⋅ζ(3)   21⋅γ ⋅π         2             3               2      35⋅π    35⋅γ⋅π \n",
       "─────── + ──────── + 504⋅γ ⋅ζ(5) + 840⋅γ ⋅ζ(3) + 280⋅γ⋅ζ (3) + ───── + ───────\n",
       "  6          4                                                   6        3   \n",
       "\n",
       "                                                                              \n",
       "                                                                              \n",
       "                                                                              \n",
       "                                                                              \n",
       "                                                                              \n",
       "                                                                              \n",
       "                                                                              \n",
       "                                                                              \n",
       "                                                                              \n",
       "                                                                              \n",
       "                                                                              \n",
       "                                                                              \n",
       "                                                                              \n",
       "                                                                              \n",
       "                                                                              \n",
       "                                                                              \n",
       "                                                                              \n",
       "                                                                              \n",
       "                                                                              \n",
       "                                                                              \n",
       "                                                                              \n",
       "                                                                              \n",
       "                                                                              \n",
       "                                                                              \n",
       "                                                                              \n",
       "                                                                              \n",
       "3) + 360⋅ζ(5)                                                                 \n",
       "                                                                              \n",
       "                                                                              \n",
       "                                                                              \n",
       "                               2             2                                \n",
       " + 602⋅ζ(3) + 720⋅ζ(7) + 2800⋅γ ⋅ζ(3) + 840⋅ζ (3) + 3024⋅γ⋅ζ(5) + 2800⋅γ⋅ζ(3) \n",
       "                                                                              \n",
       "\n",
       "                                                                              \n",
       "                                                                              \n",
       "                                                                              \n",
       "                                                                              \n",
       "                                                                              \n",
       "                                                                              \n",
       "                                                                              \n",
       "                                                                              \n",
       "                                                                              \n",
       "                                                                              \n",
       "                                                                              \n",
       "                                                                              \n",
       "                                                                              \n",
       "                                                                              \n",
       "                                                                              \n",
       "                                                                              \n",
       "                                                                              \n",
       "                                                                              \n",
       "                                                                              \n",
       "                                                                              \n",
       "                                                                              \n",
       "                                                                              \n",
       "                                                                              \n",
       "                                                                              \n",
       "                                                                              \n",
       "                                                                            2 \n",
       "                                                                    - 75⋅γ⋅π  \n",
       "                                                                              \n",
       "                                                                              \n",
       "                                                                         2    \n",
       "                    2               2        2  2          2        217⋅π     \n",
       "+ 3360⋅ζ(5)  - 350⋅π ⋅ζ(3) - 315⋅γ⋅π  - 455⋅γ ⋅π  - 140⋅γ⋅π ⋅ζ(3) - ────── - 1\n",
       "                                                                      6       \n",
       "\n",
       "                                                                 0            \n",
       "                                                                              \n",
       "                                                                 1            \n",
       "                                                                              \n",
       "                                                                              \n",
       "                                                                              \n",
       "                                                                2⋅γ           \n",
       "                                                                              \n",
       "                                                                              \n",
       "                                                            2                 \n",
       "                                                           π       2          \n",
       "                                                         - ── + 3⋅γ  + 3⋅γ    \n",
       "                                                           2                  \n",
       "                                                                              \n",
       "                                                                              \n",
       "                                                2        2      3             \n",
       "                                           - 2⋅π  - 2⋅γ⋅π  + 4⋅γ  + 4⋅γ + 12⋅γ\n",
       "                                                                              \n",
       "                                                                              \n",
       "                                        2                                   4 \n",
       "                                2   35⋅π       2  2      4             3   π  \n",
       "                        - 15⋅γ⋅π  - ───── - 5⋅γ ⋅π  + 5⋅γ  + 5⋅γ + 30⋅γ  + ── \n",
       "                                      6                                    12 \n",
       "                                                                              \n",
       "                                                                     4        \n",
       "      2            2  2       2       3  2      5             4   γ⋅π         \n",
       "- 20⋅π ⋅ζ(3) - 60⋅γ ⋅π  - 15⋅π  - 10⋅γ ⋅π  + 6⋅γ  + 6⋅γ + 60⋅γ  + ──── + 150⋅γ\n",
       "                                                                   2          \n",
       "                                                                              \n",
       "              6       4  2                                     2  4           \n",
       "    3  2   5⋅π    35⋅γ ⋅π       6              5        4   7⋅γ ⋅π         3  \n",
       "75⋅γ ⋅π  - ──── - ──────── + 7⋅γ  + 7⋅γ + 105⋅γ  + 455⋅γ  + ─────── + 280⋅γ ⋅ζ\n",
       "            24       2                                         4              \n",
       "\n",
       "                                                                              \n",
       "                                                                              \n",
       "                                                                              \n",
       "                                                                              \n",
       "                                                                              \n",
       "                                                                              \n",
       "                                                                              \n",
       "                                                                              \n",
       "                                                                              \n",
       "                                                                              \n",
       "                                                                              \n",
       "                                                                              \n",
       "                                                                              \n",
       "                                                                              \n",
       "                                                                              \n",
       "2                                                                             \n",
       "  + 8⋅ζ(3)                                                                    \n",
       "                                                                              \n",
       "                                                                              \n",
       "                                                                              \n",
       "      2                                                                       \n",
       "+ 35⋅γ  + 40⋅γ⋅ζ(3) + 60⋅ζ(3)                                                 \n",
       "                                                                              \n",
       "                                                                              \n",
       "                                                                              \n",
       "3       2        2         4                                                  \n",
       "  + 90⋅γ  + 120⋅γ ⋅ζ(3) + π  + 144⋅ζ(5) + 480⋅γ⋅ζ(3) + 300⋅ζ(3)               \n",
       "                                                                              \n",
       "                                                                              \n",
       "                                          4                     4             \n",
       "           2        3        2      35⋅γ⋅π                  91⋅π          2   \n",
       "(3) + 217⋅γ  + 630⋅γ  + 280⋅ζ (3) + ─────── + 1008⋅γ⋅ζ(5) + ───── + 2100⋅γ ⋅ζ(\n",
       "                                       4                      12              \n",
       "\n",
       "                                                                              \n",
       "                                                                              \n",
       "                                                                              \n",
       "                                                                              \n",
       "                                                                              \n",
       "                                                                              \n",
       "                                                                              \n",
       "                                                                              \n",
       "                                                                              \n",
       "                                                                              \n",
       "                                                                              \n",
       "                                                                              \n",
       "                                                                              \n",
       "                                                                              \n",
       "                                                                              \n",
       "                                                                              \n",
       "                                                                              \n",
       "                                                                              \n",
       "                                                                              \n",
       "                                                                              \n",
       "                                                                              \n",
       "                                                                              \n",
       "                                                                              \n",
       "                                                                              \n",
       "                                                                              \n",
       "                                                                              \n",
       "                                                                              \n",
       "                                                                              \n",
       "                                                                              \n",
       "                                                   2                          \n",
       "                                            525⋅γ⋅π        2             2  2 \n",
       "3) + 1260⋅ζ(3) + 3640⋅γ⋅ζ(3) + 2520⋅ζ(5)  - ──────── - 70⋅π ⋅ζ(3) - 210⋅γ ⋅π  \n",
       "                                               2                              \n",
       "\n",
       "                                             0                                \n",
       "                                                                              \n",
       "                                             0                                \n",
       "                                                                              \n",
       "                                                                              \n",
       "                                                                              \n",
       "                                             1                                \n",
       "                                                                              \n",
       "                                                                              \n",
       "                                                                              \n",
       "                                                                              \n",
       "                                            3⋅γ                               \n",
       "                                                                              \n",
       "                                                                              \n",
       "                                                                              \n",
       "                                        2      2                              \n",
       "                                     - π  + 6⋅γ  + 6⋅γ                        \n",
       "                                                                              \n",
       "                                                                              \n",
       "                                                                              \n",
       "                           2        2       3              2                  \n",
       "                      - 5⋅π  - 5⋅γ⋅π  + 10⋅γ  + 10⋅γ + 30⋅γ  + 20⋅ζ(3)        \n",
       "                                                                              \n",
       "                                                                              \n",
       "                 2                                      4                     \n",
       "         2   35⋅π        2  2       4              3   π         2            \n",
       " - 45⋅γ⋅π  - ───── - 15⋅γ ⋅π  + 15⋅γ  + 15⋅γ + 90⋅γ  + ── + 105⋅γ  + 120⋅γ⋅ζ(3\n",
       "               2                                       4                      \n",
       "                                                                              \n",
       "       2                                           4                          \n",
       "  105⋅π        3  2       5               4   7⋅γ⋅π         3        2        \n",
       "- ────── - 35⋅γ ⋅π  + 21⋅γ  + 21⋅γ + 210⋅γ  + ────── + 525⋅γ  + 315⋅γ  + 420⋅γ\n",
       "    2                                           4                             \n",
       "\n",
       "                                                                              \n",
       "                                                                              \n",
       "                                                                              \n",
       "                                                                              \n",
       "                                                                              \n",
       "                                                                              \n",
       "                                                                              \n",
       "                                                                              \n",
       "                                                                              \n",
       "                                                                              \n",
       "                                                                              \n",
       "                                                                              \n",
       "                                                                              \n",
       "                                                                              \n",
       "                                                                              \n",
       "                                                                              \n",
       "                                                                              \n",
       "                                                                              \n",
       "                                                                              \n",
       "                                                                              \n",
       "                                                                              \n",
       "                                                                              \n",
       "                                                                              \n",
       "                                                                              \n",
       "                                                                              \n",
       "                                                                              \n",
       ") + 180⋅ζ(3)                                                              - 10\n",
       "                                                                              \n",
       "                                                                              \n",
       "            4                                                         2       \n",
       "2        7⋅π                                                 2   245⋅π        \n",
       " ⋅ζ(3) + ──── + 504⋅ζ(5) + 1680⋅γ⋅ζ(3) + 1050⋅ζ(3)  - 105⋅γ⋅π  - ────── - 35⋅γ\n",
       "          2                                                        6          \n",
       "\n",
       "                    0                                                         \n",
       "                                                                              \n",
       "                    0                                                         \n",
       "                                                                              \n",
       "                                                                              \n",
       "                                                                              \n",
       "                    0                                                         \n",
       "                                                                              \n",
       "                                                                              \n",
       "                                                                              \n",
       "                                                                              \n",
       "                    1                                                         \n",
       "                                                                              \n",
       "                                                                              \n",
       "                                                                              \n",
       "                                                                              \n",
       "                   4⋅γ                                                        \n",
       "                                                                              \n",
       "                                                                              \n",
       "               2                                                              \n",
       "            5⋅π        2                                                      \n",
       "          - ──── + 10⋅γ  + 10⋅γ                                               \n",
       "             3                                                                \n",
       "                                                                              \n",
       "                                                                              \n",
       "  2         2       3              2                                          \n",
       "⋅π  - 10⋅γ⋅π  + 20⋅γ  + 20⋅γ + 60⋅γ  + 40⋅ζ(3)                                \n",
       "                                                                              \n",
       "                                                                              \n",
       "                                  4                                         2 \n",
       "2  2       4               3   7⋅π         2                            35⋅π  \n",
       " ⋅π  + 35⋅γ  + 35⋅γ + 210⋅γ  + ──── + 245⋅γ  + 280⋅γ⋅ζ(3) + 420⋅ζ(3)  - ───── \n",
       "                                12                                        2   \n",
       "\n",
       "                 0                                     0             0   0⎤\n",
       "                                                                          ⎥\n",
       "                 0                                     0             0   0⎥\n",
       "                                                                          ⎥\n",
       "                                                                          ⎥\n",
       "                                                                          ⎥\n",
       "                 0                                     0             0   0⎥\n",
       "                                                                          ⎥\n",
       "                                                                          ⎥\n",
       "                                                                          ⎥\n",
       "                                                                          ⎥\n",
       "                 0                                     0             0   0⎥\n",
       "                                                                          ⎥\n",
       "                                                                          ⎥\n",
       "                                                                          ⎥\n",
       "                                                                          ⎥\n",
       "                 1                                     0             0   0⎥\n",
       "                                                                          ⎥\n",
       "                                                                          ⎥\n",
       "                                                                          ⎥\n",
       "                                                                          ⎥\n",
       "                5⋅γ                                    1             0   0⎥\n",
       "                                                                          ⎥\n",
       "                                                                          ⎥\n",
       "            2                                                             ⎥\n",
       "         5⋅π        2                                                     ⎥\n",
       "       - ──── + 15⋅γ  + 15⋅γ                          6⋅γ            1   0⎥\n",
       "          2                                                               ⎥\n",
       "                                                                          ⎥\n",
       "        2                                         2                       ⎥\n",
       "  35⋅γ⋅π        3               2              7⋅π        2               ⎥\n",
       "- ─────── + 35⋅γ  + 35⋅γ + 105⋅γ  + 70⋅ζ(3)  - ──── + 21⋅γ  + 21⋅γ  7⋅γ  1⎥\n",
       "     2                                          2                         ⎦"
      ]
     },
     "execution_count": 66,
     "metadata": {},
     "output_type": "execute_result"
    }
   ],
   "source": [
    "with lift_to_matrix_function(g_gamma) as Ggamma:\n",
    "    P = Eq(z, Matrix(m, m, binomial), evaluate=False)\n",
    "    P_gamma = Ggamma(P)\n",
    "P_gamma"
   ]
  },
  {
   "cell_type": "markdown",
   "metadata": {
    "deletable": true,
    "editable": true
   },
   "source": [
    "# `M` function"
   ]
  },
  {
   "cell_type": "code",
   "execution_count": 94,
   "metadata": {
    "collapsed": false,
    "deletable": true,
    "editable": true
   },
   "outputs": [
    {
     "data": {
      "image/png": "[encoded data removed]",
      "text/latex": [
       "$$f{\\left (z \\right )} = \\frac{a z + b}{c z + d}$$"
      ],
      "text/plain": [
       "       a⋅z + b\n",
       "f(z) = ───────\n",
       "       c⋅z + d"
      ]
     },
     "execution_count": 94,
     "metadata": {},
     "output_type": "execute_result"
    }
   ],
   "source": [
    "f = Function('f')\n",
    "a, b, c, d = symbols(\"a b c d\", int=True)\n",
    "f_mobius = Eq(f(z), (a*z+b)/(c*z+d))\n",
    "f_mobius"
   ]
  },
  {
   "cell_type": "code",
   "execution_count": 95,
   "metadata": {
    "collapsed": false,
    "deletable": true,
    "editable": true
   },
   "outputs": [
    {
     "data": {
      "image/png": "[encoded data removed]",
      "text/latex": [
       "$$\\left [ \\frac{a z + b}{c z + d}, \\quad \\frac{a}{c z + d} - \\frac{c \\left(a z + b\\right)}{\\left(c z + d\\right)^{2}}, \\quad \\frac{2 c}{\\left(c z + d\\right)^{2}} \\left(- a + \\frac{c \\left(a z + b\\right)}{c z + d}\\right), \\quad \\frac{6 c^{2}}{\\left(c z + d\\right)^{3}} \\left(a - \\frac{c \\left(a z + b\\right)}{c z + d}\\right), \\quad \\frac{24 c^{3}}{\\left(c z + d\\right)^{4}} \\left(- a + \\frac{c \\left(a z + b\\right)}{c z + d}\\right), \\quad \\frac{120 c^{4}}{\\left(c z + d\\right)^{5}} \\left(a - \\frac{c \\left(a z + b\\right)}{c z + d}\\right), \\quad \\frac{720 c^{5}}{\\left(c z + d\\right)^{6}} \\left(- a + \\frac{c \\left(a z + b\\right)}{c z + d}\\right), \\quad \\frac{5040 c^{6}}{\\left(c z + d\\right)^{7}} \\left(a - \\frac{c \\left(a z + b\\right)}{c z + d}\\right)\\right ]$$"
      ],
      "text/plain": [
       "⎡                                    ⎛     c⋅(a⋅z + b)⎞     2 ⎛    c⋅(a⋅z + b)\n",
       "⎢                                2⋅c⋅⎜-a + ───────────⎟  6⋅c ⋅⎜a - ───────────\n",
       "⎢a⋅z + b     a      c⋅(a⋅z + b)      ⎝       c⋅z + d  ⎠       ⎝      c⋅z + d  \n",
       "⎢───────, ─────── - ───────────, ──────────────────────, ─────────────────────\n",
       "⎢c⋅z + d  c⋅z + d             2                 2                       3     \n",
       "⎣                    (c⋅z + d)         (c⋅z + d)               (c⋅z + d)      \n",
       "\n",
       "⎞      3 ⎛     c⋅(a⋅z + b)⎞       4 ⎛    c⋅(a⋅z + b)⎞       5 ⎛     c⋅(a⋅z + b\n",
       "⎟  24⋅c ⋅⎜-a + ───────────⎟  120⋅c ⋅⎜a - ───────────⎟  720⋅c ⋅⎜-a + ──────────\n",
       "⎠        ⎝       c⋅z + d  ⎠         ⎝      c⋅z + d  ⎠         ⎝       c⋅z + d \n",
       "─, ────────────────────────, ────────────────────────, ───────────────────────\n",
       "                   4                         5                          6     \n",
       "          (c⋅z + d)                 (c⋅z + d)                  (c⋅z + d)      \n",
       "\n",
       ")⎞        6 ⎛    c⋅(a⋅z + b)⎞⎤\n",
       "─⎟  5040⋅c ⋅⎜a - ───────────⎟⎥\n",
       " ⎠          ⎝      c⋅z + d  ⎠⎥\n",
       "──, ─────────────────────────⎥\n",
       "                     7       ⎥\n",
       "            (c⋅z + d)        ⎦"
      ]
     },
     "execution_count": 95,
     "metadata": {},
     "output_type": "execute_result"
    }
   ],
   "source": [
    "[f_mobius.rhs.diff(z, i) for i in range(m)]"
   ]
  },
  {
   "cell_type": "code",
   "execution_count": 96,
   "metadata": {
    "collapsed": false,
    "deletable": true,
    "editable": true
   },
   "outputs": [],
   "source": [
    "g_mobius = Hermite_interpolation_polynomial(f_mobius, eigendata, Phi_polynomials)\n",
    "g_mobius = g_mobius.subs(eigenvals)\n",
    "#g_mobius # too long to show"
   ]
  },
  {
   "cell_type": "code",
   "execution_count": 97,
   "metadata": {
    "collapsed": false
   },
   "outputs": [
    {
     "data": {
      "image/png": "[encoded data removed]",
      "text/latex": [
       "$$\\operatorname{f_{ 8 }}{\\left (z \\right )} = \\left[\\begin{matrix}\\frac{a + b}{c + d} & 0 & 0 & 0 & 0 & 0 & 0 & 0\\\\\\frac{a d - b c}{c^{2} + 2 c d + d^{2}} & \\frac{a + b}{c + d} & 0 & 0 & 0 & 0 & 0 & 0\\\\\\frac{- a c d + a d^{2} + b c^{2} - b c d}{c^{3} + 3 c^{2} d + 3 c d^{2} + d^{3}} & \\frac{2 \\left(a d - b c\\right)}{c^{2} + 2 c d + d^{2}} & \\frac{a + b}{c + d} & 0 & 0 & 0 & 0 & 0\\\\\\frac{a c^{2} d - 4 a c d^{2} + a d^{3} - b c^{3} + 4 b c^{2} d - b c d^{2}}{c^{4} + 4 c^{3} d + 6 c^{2} d^{2} + 4 c d^{3} + d^{4}} & \\frac{- 3 a c d + 3 a d^{2} + 3 b c^{2} - 3 b c d}{c^{3} + 3 c^{2} d + 3 c d^{2} + d^{3}} & \\frac{3 \\left(a d - b c\\right)}{c^{2} + 2 c d + d^{2}} & \\frac{a + b}{c + d} & 0 & 0 & 0 & 0\\\\\\frac{- a c^{3} d + 11 a c^{2} d^{2} - 11 a c d^{3} + a d^{4} + b c^{4} - 11 b c^{3} d + 11 b c^{2} d^{2} - b c d^{3}}{c^{5} + 5 c^{4} d + 10 c^{3} d^{2} + 10 c^{2} d^{3} + 5 c d^{4} + d^{5}} & \\frac{4 \\left(a c^{2} d - 4 a c d^{2} + a d^{3} - b c^{3} + 4 b c^{2} d - b c d^{2}\\right)}{c^{4} + 4 c^{3} d + 6 c^{2} d^{2} + 4 c d^{3} + d^{4}} & \\frac{- 6 a c d + 6 a d^{2} + 6 b c^{2} - 6 b c d}{c^{3} + 3 c^{2} d + 3 c d^{2} + d^{3}} & \\frac{4 \\left(a d - b c\\right)}{c^{2} + 2 c d + d^{2}} & \\frac{a + b}{c + d} & 0 & 0 & 0\\\\\\frac{a c^{4} d - 26 a c^{3} d^{2} + 66 a c^{2} d^{3} - 26 a c d^{4} + a d^{5} - b c^{5} + 26 b c^{4} d - 66 b c^{3} d^{2} + 26 b c^{2} d^{3} - b c d^{4}}{c^{6} + 6 c^{5} d + 15 c^{4} d^{2} + 20 c^{3} d^{3} + 15 c^{2} d^{4} + 6 c d^{5} + d^{6}} & \\frac{- 5 a c^{3} d + 55 a c^{2} d^{2} - 55 a c d^{3} + 5 a d^{4} + 5 b c^{4} - 55 b c^{3} d + 55 b c^{2} d^{2} - 5 b c d^{3}}{c^{5} + 5 c^{4} d + 10 c^{3} d^{2} + 10 c^{2} d^{3} + 5 c d^{4} + d^{5}} & \\frac{10 \\left(a c^{2} d - 4 a c d^{2} + a d^{3} - b c^{3} + 4 b c^{2} d - b c d^{2}\\right)}{c^{4} + 4 c^{3} d + 6 c^{2} d^{2} + 4 c d^{3} + d^{4}} & \\frac{- 10 a c d + 10 a d^{2} + 10 b c^{2} - 10 b c d}{c^{3} + 3 c^{2} d + 3 c d^{2} + d^{3}} & \\frac{5 \\left(a d - b c\\right)}{c^{2} + 2 c d + d^{2}} & \\frac{a + b}{c + d} & 0 & 0\\\\\\frac{- a c^{5} d + 57 a c^{4} d^{2} - 302 a c^{3} d^{3} + 302 a c^{2} d^{4} - 57 a c d^{5} + a d^{6} + b c^{6} - 57 b c^{5} d + 302 b c^{4} d^{2} - 302 b c^{3} d^{3} + 57 b c^{2} d^{4} - b c d^{5}}{c^{7} + 7 c^{6} d + 21 c^{5} d^{2} + 35 c^{4} d^{3} + 35 c^{3} d^{4} + 21 c^{2} d^{5} + 7 c d^{6} + d^{7}} & \\frac{6 \\left(a c^{4} d - 26 a c^{3} d^{2} + 66 a c^{2} d^{3} - 26 a c d^{4} + a d^{5} - b c^{5} + 26 b c^{4} d - 66 b c^{3} d^{2} + 26 b c^{2} d^{3} - b c d^{4}\\right)}{c^{6} + 6 c^{5} d + 15 c^{4} d^{2} + 20 c^{3} d^{3} + 15 c^{2} d^{4} + 6 c d^{5} + d^{6}} & \\frac{- 15 a c^{3} d + 165 a c^{2} d^{2} - 165 a c d^{3} + 15 a d^{4} + 15 b c^{4} - 165 b c^{3} d + 165 b c^{2} d^{2} - 15 b c d^{3}}{c^{5} + 5 c^{4} d + 10 c^{3} d^{2} + 10 c^{2} d^{3} + 5 c d^{4} + d^{5}} & \\frac{20 \\left(a c^{2} d - 4 a c d^{2} + a d^{3} - b c^{3} + 4 b c^{2} d - b c d^{2}\\right)}{c^{4} + 4 c^{3} d + 6 c^{2} d^{2} + 4 c d^{3} + d^{4}} & \\frac{- 15 a c d + 15 a d^{2} + 15 b c^{2} - 15 b c d}{c^{3} + 3 c^{2} d + 3 c d^{2} + d^{3}} & \\frac{6 \\left(a d - b c\\right)}{c^{2} + 2 c d + d^{2}} & \\frac{a + b}{c + d} & 0\\\\\\frac{1}{c^{8} + 8 c^{7} d + 28 c^{6} d^{2} + 56 c^{5} d^{3} + 70 c^{4} d^{4} + 56 c^{3} d^{5} + 28 c^{2} d^{6} + 8 c d^{7} + d^{8}} \\left(a c^{6} d - 120 a c^{5} d^{2} + 1191 a c^{4} d^{3} - 2416 a c^{3} d^{4} + 1191 a c^{2} d^{5} - 120 a c d^{6} + a d^{7} - b c^{7} + 120 b c^{6} d - 1191 b c^{5} d^{2} + 2416 b c^{4} d^{3} - 1191 b c^{3} d^{4} + 120 b c^{2} d^{5} - b c d^{6}\\right) & \\frac{1}{c^{7} + 7 c^{6} d + 21 c^{5} d^{2} + 35 c^{4} d^{3} + 35 c^{3} d^{4} + 21 c^{2} d^{5} + 7 c d^{6} + d^{7}} \\left(- 7 a c^{5} d + 399 a c^{4} d^{2} - 2114 a c^{3} d^{3} + 2114 a c^{2} d^{4} - 399 a c d^{5} + 7 a d^{6} + 7 b c^{6} - 399 b c^{5} d + 2114 b c^{4} d^{2} - 2114 b c^{3} d^{3} + 399 b c^{2} d^{4} - 7 b c d^{5}\\right) & \\frac{21 \\left(a c^{4} d - 26 a c^{3} d^{2} + 66 a c^{2} d^{3} - 26 a c d^{4} + a d^{5} - b c^{5} + 26 b c^{4} d - 66 b c^{3} d^{2} + 26 b c^{2} d^{3} - b c d^{4}\\right)}{c^{6} + 6 c^{5} d + 15 c^{4} d^{2} + 20 c^{3} d^{3} + 15 c^{2} d^{4} + 6 c d^{5} + d^{6}} & \\frac{- 35 a c^{3} d + 385 a c^{2} d^{2} - 385 a c d^{3} + 35 a d^{4} + 35 b c^{4} - 385 b c^{3} d + 385 b c^{2} d^{2} - 35 b c d^{3}}{c^{5} + 5 c^{4} d + 10 c^{3} d^{2} + 10 c^{2} d^{3} + 5 c d^{4} + d^{5}} & \\frac{35 \\left(a c^{2} d - 4 a c d^{2} + a d^{3} - b c^{3} + 4 b c^{2} d - b c d^{2}\\right)}{c^{4} + 4 c^{3} d + 6 c^{2} d^{2} + 4 c d^{3} + d^{4}} & \\frac{- 21 a c d + 21 a d^{2} + 21 b c^{2} - 21 b c d}{c^{3} + 3 c^{2} d + 3 c d^{2} + d^{3}} & \\frac{7 \\left(a d - b c\\right)}{c^{2} + 2 c d + d^{2}} & \\frac{a + b}{c + d}\\end{matrix}\\right]$$"
      ],
      "text/plain": [
       "             ⎡                                                                \n",
       "             ⎢                                                                \n",
       "             ⎢                                                                \n",
       "             ⎢                                                                \n",
       "             ⎢                                                                \n",
       "             ⎢                                                                \n",
       "             ⎢                                                                \n",
       "             ⎢                                                                \n",
       "             ⎢                                                                \n",
       "             ⎢                                                                \n",
       "             ⎢                                                                \n",
       "             ⎢                                                                \n",
       "             ⎢                                                                \n",
       "             ⎢                                                                \n",
       "             ⎢                                                                \n",
       "             ⎢                                                                \n",
       "             ⎢                                                             a⋅c\n",
       "             ⎢                                                             ───\n",
       "             ⎢                                                                \n",
       "             ⎢                                                                \n",
       "             ⎢                                                                \n",
       "             ⎢                                                   3           2\n",
       "f_{ 8 }(z) = ⎢                                              - a⋅c ⋅d + 11⋅a⋅c \n",
       "             ⎢                                              ──────────────────\n",
       "             ⎢                                                                \n",
       "             ⎢                                                               c\n",
       "             ⎢                                                                \n",
       "             ⎢                                     4           3  2         2 \n",
       "             ⎢                                  a⋅c ⋅d - 26⋅a⋅c ⋅d  + 66⋅a⋅c ⋅\n",
       "             ⎢                                  ──────────────────────────────\n",
       "             ⎢                                                           6    \n",
       "             ⎢                                                          c  + 6\n",
       "             ⎢                                                                \n",
       "             ⎢                       5           4  2          3  3          2\n",
       "             ⎢                  - a⋅c ⋅d + 57⋅a⋅c ⋅d  - 302⋅a⋅c ⋅d  + 302⋅a⋅c \n",
       "             ⎢                  ──────────────────────────────────────────────\n",
       "             ⎢                                                     7      6   \n",
       "             ⎢                                                    c  + 7⋅c ⋅d \n",
       "             ⎢                                                                \n",
       "             ⎢   6            5  2           4  3           3  4           2  \n",
       "             ⎢a⋅c ⋅d - 120⋅a⋅c ⋅d  + 1191⋅a⋅c ⋅d  - 2416⋅a⋅c ⋅d  + 1191⋅a⋅c ⋅d\n",
       "             ⎢────────────────────────────────────────────────────────────────\n",
       "             ⎢                                                8      7        \n",
       "             ⎣                                               c  + 8⋅c ⋅d + 28⋅\n",
       "\n",
       "                    a + b                                                     \n",
       "                    ─────                                                     \n",
       "                    c + d                                                     \n",
       "                                                                              \n",
       "                  a⋅d - b⋅c                                                   \n",
       "               ───────────────                                                \n",
       "                2            2                                                \n",
       "               c  + 2⋅c⋅d + d                                                 \n",
       "                                                                              \n",
       "                    2      2                                                  \n",
       "        -a⋅c⋅d + a⋅d  + b⋅c  - b⋅c⋅d                                          \n",
       "        ────────────────────────────                                          \n",
       "          3      2          2    3                                            \n",
       "         c  + 3⋅c ⋅d + 3⋅c⋅d  + d                                             \n",
       "                                                                              \n",
       "2            2      3      3        2          2                              \n",
       " ⋅d - 4⋅a⋅c⋅d  + a⋅d  - b⋅c  + 4⋅b⋅c ⋅d - b⋅c⋅d                               \n",
       "────────────────────────────────────────────────                              \n",
       "      4      3        2  2        3    4                                      \n",
       "     c  + 4⋅c ⋅d + 6⋅c ⋅d  + 4⋅c⋅d  + d                                       \n",
       "                                                                              \n",
       "  2           3      4      4         3           2  2        3               \n",
       "⋅d  - 11⋅a⋅c⋅d  + a⋅d  + b⋅c  - 11⋅b⋅c ⋅d + 11⋅b⋅c ⋅d  - b⋅c⋅d                \n",
       "───────────────────────────────────────────────────────────────               \n",
       "5      4         3  2       2  3        4    5                                \n",
       "  + 5⋅c ⋅d + 10⋅c ⋅d  + 10⋅c ⋅d  + 5⋅c⋅d  + d                                 \n",
       "                                                                              \n",
       " 3           4      5      5         4           3  2         2  3        4   \n",
       "d  - 26⋅a⋅c⋅d  + a⋅d  - b⋅c  + 26⋅b⋅c ⋅d - 66⋅b⋅c ⋅d  + 26⋅b⋅c ⋅d  - b⋅c⋅d    \n",
       "───────────────────────────────────────────────────────────────────────────   \n",
       "  5         4  2       3  3       2  4        5    6                          \n",
       "⋅c ⋅d + 15⋅c ⋅d  + 20⋅c ⋅d  + 15⋅c ⋅d  + 6⋅c⋅d  + d                           \n",
       "                                                                              \n",
       "  4           5      6      6         5            4  2          3  3         \n",
       "⋅d  - 57⋅a⋅c⋅d  + a⋅d  + b⋅c  - 57⋅b⋅c ⋅d + 302⋅b⋅c ⋅d  - 302⋅b⋅c ⋅d  + 57⋅b⋅c\n",
       "──────────────────────────────────────────────────────────────────────────────\n",
       "      5  2       4  3       3  4       2  5        6    7                     \n",
       "+ 21⋅c ⋅d  + 35⋅c ⋅d  + 35⋅c ⋅d  + 21⋅c ⋅d  + 7⋅c⋅d  + d                      \n",
       "                                                                              \n",
       "5            6      7      7          6             5  2           4  3       \n",
       "  - 120⋅a⋅c⋅d  + a⋅d  - b⋅c  + 120⋅b⋅c ⋅d - 1191⋅b⋅c ⋅d  + 2416⋅b⋅c ⋅d  - 1191\n",
       "──────────────────────────────────────────────────────────────────────────────\n",
       " 6  2       5  3       4  4       3  5       2  6        7    8               \n",
       "c ⋅d  + 56⋅c ⋅d  + 70⋅c ⋅d  + 56⋅c ⋅d  + 28⋅c ⋅d  + 8⋅c⋅d  + d                \n",
       "\n",
       "                                                                              \n",
       "                                                                              \n",
       "                                                                              \n",
       "                                                                              \n",
       "                                                                              \n",
       "                                                                              \n",
       "                                                                              \n",
       "                                                                              \n",
       "                                                                              \n",
       "                                                                              \n",
       "                                                                              \n",
       "                                                                              \n",
       "                                                                              \n",
       "                                                                              \n",
       "                                                                              \n",
       "                                                                              \n",
       "                                                                              \n",
       "                                                                              \n",
       "                                                                              \n",
       "                                                                              \n",
       "                                                                              \n",
       "                                                                              \n",
       "                                                                              \n",
       "                                                                              \n",
       "                                                                              \n",
       "                                                                              \n",
       "                                                                              \n",
       "                                                                        3     \n",
       "                                                                 - 5⋅a⋅c ⋅d + \n",
       "                                                                 ─────────────\n",
       "                                                                              \n",
       "                                                                              \n",
       "                                                                              \n",
       "2  4        5                                            ⎛   4           3  2 \n",
       " ⋅d  - b⋅c⋅d                                           6⋅⎝a⋅c ⋅d - 26⋅a⋅c ⋅d  \n",
       "─────────────                                          ───────────────────────\n",
       "                                                                              \n",
       "                                                                              \n",
       "                                                                              \n",
       "    3  4          2  5        6         5            4  2           3  3      \n",
       "⋅b⋅c ⋅d  + 120⋅b⋅c ⋅d  - b⋅c⋅d   - 7⋅a⋅c ⋅d + 399⋅a⋅c ⋅d  - 2114⋅a⋅c ⋅d  + 211\n",
       "───────────────────────────────  ─────────────────────────────────────────────\n",
       "                                                                            7 \n",
       "                                                                           c  \n",
       "\n",
       "                                                                              \n",
       "                               0                                              \n",
       "                                                                              \n",
       "                                                                              \n",
       "                             a + b                                            \n",
       "                             ─────                                            \n",
       "                             c + d                                            \n",
       "                                                                              \n",
       "                                                                              \n",
       "                                                                              \n",
       "                         2⋅(a⋅d - b⋅c)                                        \n",
       "                        ───────────────                                       \n",
       "                         2            2                                       \n",
       "                        c  + 2⋅c⋅d + d                                        \n",
       "                                                                              \n",
       "                             2        2                                       \n",
       "             -3⋅a⋅c⋅d + 3⋅a⋅d  + 3⋅b⋅c  - 3⋅b⋅c⋅d                             \n",
       "             ────────────────────────────────────                             \n",
       "                   3      2          2    3                                   \n",
       "                  c  + 3⋅c ⋅d + 3⋅c⋅d  + d                                    \n",
       "                                                                              \n",
       "      ⎛   2            2      3      3        2          2⎞                   \n",
       "    4⋅⎝a⋅c ⋅d - 4⋅a⋅c⋅d  + a⋅d  - b⋅c  + 4⋅b⋅c ⋅d - b⋅c⋅d ⎠                   \n",
       "    ───────────────────────────────────────────────────────                   \n",
       "               4      3        2  2        3    4                             \n",
       "              c  + 4⋅c ⋅d + 6⋅c ⋅d  + 4⋅c⋅d  + d                              \n",
       "                                                                              \n",
       "      2  2           3        4        4         3           2  2          3  \n",
       "55⋅a⋅c ⋅d  - 55⋅a⋅c⋅d  + 5⋅a⋅d  + 5⋅b⋅c  - 55⋅b⋅c ⋅d + 55⋅b⋅c ⋅d  - 5⋅b⋅c⋅d   \n",
       "────────────────────────────────────────────────────────────────────────────  \n",
       "         5      4         3  2       2  3        4    5                       \n",
       "        c  + 5⋅c ⋅d + 10⋅c ⋅d  + 10⋅c ⋅d  + 5⋅c⋅d  + d                        \n",
       "                                                                              \n",
       "        2  3           4      5      5         4           3  2         2  3  \n",
       "+ 66⋅a⋅c ⋅d  - 26⋅a⋅c⋅d  + a⋅d  - b⋅c  + 26⋅b⋅c ⋅d - 66⋅b⋅c ⋅d  + 26⋅b⋅c ⋅d  -\n",
       "──────────────────────────────────────────────────────────────────────────────\n",
       "    6      5         4  2       3  3       2  4        5    6                 \n",
       "   c  + 6⋅c ⋅d + 15⋅c ⋅d  + 20⋅c ⋅d  + 15⋅c ⋅d  + 6⋅c⋅d  + d                  \n",
       "                                                                              \n",
       "     2  4            5        6        6          5             4  2          \n",
       "4⋅a⋅c ⋅d  - 399⋅a⋅c⋅d  + 7⋅a⋅d  + 7⋅b⋅c  - 399⋅b⋅c ⋅d + 2114⋅b⋅c ⋅d  - 2114⋅b⋅\n",
       "──────────────────────────────────────────────────────────────────────────────\n",
       "     6         5  2       4  3       3  4       2  5        6    7            \n",
       "+ 7⋅c ⋅d + 21⋅c ⋅d  + 35⋅c ⋅d  + 35⋅c ⋅d  + 21⋅c ⋅d  + 7⋅c⋅d  + d             \n",
       "\n",
       "                                                                              \n",
       "                                                                              \n",
       "                                                                              \n",
       "                                                                              \n",
       "                                                                              \n",
       "                                                                              \n",
       "                                                                              \n",
       "                                                                              \n",
       "                                                                              \n",
       "                                                                              \n",
       "                                                                              \n",
       "                                                                              \n",
       "                                                                              \n",
       "                                                                              \n",
       "                                                                              \n",
       "                                                                              \n",
       "                                                                              \n",
       "                                                                              \n",
       "                                                                              \n",
       "                                                                              \n",
       "                                                                              \n",
       "                                                                              \n",
       "                                                                     -6⋅a⋅c⋅d \n",
       "                                                                     ─────────\n",
       "                                                                           3  \n",
       "                                                                          c  +\n",
       "                                                                              \n",
       "                                                              ⎛   2           \n",
       "                                                           10⋅⎝a⋅c ⋅d - 4⋅a⋅c⋅\n",
       "                                                           ───────────────────\n",
       "                                                                      4      3\n",
       "                                                                     c  + 4⋅c \n",
       "                                                                              \n",
       "      4⎞                                      3            2  2            3  \n",
       " b⋅c⋅d ⎠                              - 15⋅a⋅c ⋅d + 165⋅a⋅c ⋅d  - 165⋅a⋅c⋅d  +\n",
       "────────                              ────────────────────────────────────────\n",
       "                                                                5      4      \n",
       "                                                               c  + 5⋅c ⋅d + 1\n",
       "                                                                              \n",
       " 3  3          2  4          5     ⎛   4           3  2         2  3          \n",
       "c ⋅d  + 399⋅b⋅c ⋅d  - 7⋅b⋅c⋅d   21⋅⎝a⋅c ⋅d - 26⋅a⋅c ⋅d  + 66⋅a⋅c ⋅d  - 26⋅a⋅c⋅\n",
       "──────────────────────────────  ──────────────────────────────────────────────\n",
       "                                                           6      5         4 \n",
       "                                                          c  + 6⋅c ⋅d + 15⋅c ⋅\n",
       "\n",
       "                                                                              \n",
       "        0                                                                     \n",
       "                                                                              \n",
       "                                                                              \n",
       "                                                                              \n",
       "        0                                                                     \n",
       "                                                                              \n",
       "                                                                              \n",
       "                                                                              \n",
       "                                                                              \n",
       "      a + b                                                                   \n",
       "      ─────                                                                   \n",
       "      c + d                                                                   \n",
       "                                                                              \n",
       "                                                                              \n",
       "                                                                              \n",
       "  3⋅(a⋅d - b⋅c)                                                               \n",
       " ───────────────                                                              \n",
       "  2            2                                                              \n",
       " c  + 2⋅c⋅d + d                                                               \n",
       "                                                                              \n",
       "       2        2                                                             \n",
       "+ 6⋅a⋅d  + 6⋅b⋅c  - 6⋅b⋅c⋅d                                                   \n",
       "───────────────────────────                                                   \n",
       "    2          2    3                                                         \n",
       " 3⋅c ⋅d + 3⋅c⋅d  + d                                                          \n",
       "                                                                              \n",
       " 2      3      3        2          2⎞                                         \n",
       "d  + a⋅d  - b⋅c  + 4⋅b⋅c ⋅d - b⋅c⋅d ⎠                                         \n",
       "─────────────────────────────────────                                         \n",
       "        2  2        3    4                                                    \n",
       "⋅d + 6⋅c ⋅d  + 4⋅c⋅d  + d                                                     \n",
       "                                                                              \n",
       "       4         4          3            2  2           3                     \n",
       " 15⋅a⋅d  + 15⋅b⋅c  - 165⋅b⋅c ⋅d + 165⋅b⋅c ⋅d  - 15⋅b⋅c⋅d                      \n",
       "─────────────────────────────────────────────────────────                     \n",
       "   3  2       2  3        4    5                                              \n",
       "0⋅c ⋅d  + 10⋅c ⋅d  + 5⋅c⋅d  + d                                               \n",
       "                                                                              \n",
       " 4      5      5         4           3  2         2  3        4⎞          3   \n",
       "d  + a⋅d  - b⋅c  + 26⋅b⋅c ⋅d - 66⋅b⋅c ⋅d  + 26⋅b⋅c ⋅d  - b⋅c⋅d ⎠  - 35⋅a⋅c ⋅d \n",
       "────────────────────────────────────────────────────────────────  ────────────\n",
       " 2       3  3       2  4        5    6                                        \n",
       "d  + 20⋅c ⋅d  + 15⋅c ⋅d  + 6⋅c⋅d  + d                                         \n",
       "\n",
       "                                                                              \n",
       "                                    0                                         \n",
       "                                                                              \n",
       "                                                                              \n",
       "                                                                              \n",
       "                                    0                                         \n",
       "                                                                              \n",
       "                                                                              \n",
       "                                                                              \n",
       "                                                                              \n",
       "                                                                              \n",
       "                                    0                                         \n",
       "                                                                              \n",
       "                                                                              \n",
       "                                                                              \n",
       "                                                                              \n",
       "                                  a + b                                       \n",
       "                                  ─────                                       \n",
       "                                  c + d                                       \n",
       "                                                                              \n",
       "                                                                              \n",
       "                                                                              \n",
       "                              4⋅(a⋅d - b⋅c)                                   \n",
       "                             ───────────────                                  \n",
       "                              2            2                                  \n",
       "                             c  + 2⋅c⋅d + d                                   \n",
       "                                                                              \n",
       "                                  2         2                                 \n",
       "                -10⋅a⋅c⋅d + 10⋅a⋅d  + 10⋅b⋅c  - 10⋅b⋅c⋅d                      \n",
       "                ────────────────────────────────────────                      \n",
       "                        3      2          2    3                              \n",
       "                       c  + 3⋅c ⋅d + 3⋅c⋅d  + d                               \n",
       "                                                                              \n",
       "           ⎛   2            2      3      3        2          2⎞              \n",
       "        20⋅⎝a⋅c ⋅d - 4⋅a⋅c⋅d  + a⋅d  - b⋅c  + 4⋅b⋅c ⋅d - b⋅c⋅d ⎠              \n",
       "        ────────────────────────────────────────────────────────              \n",
       "                   4      3        2  2        3    4                         \n",
       "                  c  + 4⋅c ⋅d + 6⋅c ⋅d  + 4⋅c⋅d  + d                          \n",
       "                                                                              \n",
       "         2  2            3         4         4          3            2  2     \n",
       "+ 385⋅a⋅c ⋅d  - 385⋅a⋅c⋅d  + 35⋅a⋅d  + 35⋅b⋅c  - 385⋅b⋅c ⋅d + 385⋅b⋅c ⋅d  - 35\n",
       "──────────────────────────────────────────────────────────────────────────────\n",
       "              5      4         3  2       2  3        4    5                  \n",
       "             c  + 5⋅c ⋅d + 10⋅c ⋅d  + 10⋅c ⋅d  + 5⋅c⋅d  + d                   \n",
       "\n",
       "                                                                              \n",
       "                                    0                                         \n",
       "                                                                              \n",
       "                                                                              \n",
       "                                                                              \n",
       "                                    0                                         \n",
       "                                                                              \n",
       "                                                                              \n",
       "                                                                              \n",
       "                                                                              \n",
       "                                                                              \n",
       "                                    0                                         \n",
       "                                                                              \n",
       "                                                                              \n",
       "                                                                              \n",
       "                                                                              \n",
       "                                                                              \n",
       "                                    0                                         \n",
       "                                                                              \n",
       "                                                                              \n",
       "                                                                              \n",
       "                                                                              \n",
       "                                  a + b                                       \n",
       "                                  ─────                                       \n",
       "                                  c + d                                       \n",
       "                                                                              \n",
       "                                                                              \n",
       "                                                                              \n",
       "                              5⋅(a⋅d - b⋅c)                                   \n",
       "                             ───────────────                                  \n",
       "                              2            2                                  \n",
       "                             c  + 2⋅c⋅d + d                                   \n",
       "                                                                              \n",
       "                                   2         2                                \n",
       "                 -15⋅a⋅c⋅d + 15⋅a⋅d  + 15⋅b⋅c  - 15⋅b⋅c⋅d                     \n",
       "                 ────────────────────────────────────────                     \n",
       "                         3      2          2    3                             \n",
       "                        c  + 3⋅c ⋅d + 3⋅c⋅d  + d                              \n",
       "                                                                              \n",
       "      3     ⎛   2            2      3      3        2          2⎞             \n",
       "⋅b⋅c⋅d   35⋅⎝a⋅c ⋅d - 4⋅a⋅c⋅d  + a⋅d  - b⋅c  + 4⋅b⋅c ⋅d - b⋅c⋅d ⎠  -21⋅a⋅c⋅d +\n",
       "───────  ────────────────────────────────────────────────────────  ───────────\n",
       "                    4      3        2  2        3    4                     3  \n",
       "                   c  + 4⋅c ⋅d + 6⋅c ⋅d  + 4⋅c⋅d  + d                     c  +\n",
       "\n",
       "                                                     ⎤\n",
       "        0                             0           0  ⎥\n",
       "                                                     ⎥\n",
       "                                                     ⎥\n",
       "                                                     ⎥\n",
       "        0                             0           0  ⎥\n",
       "                                                     ⎥\n",
       "                                                     ⎥\n",
       "                                                     ⎥\n",
       "                                                     ⎥\n",
       "                                                     ⎥\n",
       "        0                             0           0  ⎥\n",
       "                                                     ⎥\n",
       "                                                     ⎥\n",
       "                                                     ⎥\n",
       "                                                     ⎥\n",
       "                                                     ⎥\n",
       "        0                             0           0  ⎥\n",
       "                                                     ⎥\n",
       "                                                     ⎥\n",
       "                                                     ⎥\n",
       "                                                     ⎥\n",
       "                                                     ⎥\n",
       "        0                             0           0  ⎥\n",
       "                                                     ⎥\n",
       "                                                     ⎥\n",
       "                                                     ⎥\n",
       "                                                     ⎥\n",
       "      a + b                                          ⎥\n",
       "      ─────                           0           0  ⎥\n",
       "      c + d                                          ⎥\n",
       "                                                     ⎥\n",
       "                                                     ⎥\n",
       "                                                     ⎥\n",
       "  6⋅(a⋅d - b⋅c)                     a + b            ⎥\n",
       " ───────────────                    ─────         0  ⎥\n",
       "  2            2                    c + d            ⎥\n",
       " c  + 2⋅c⋅d + d                                      ⎥\n",
       "                                                     ⎥\n",
       "       2         2                                   ⎥\n",
       " 21⋅a⋅d  + 21⋅b⋅c  - 21⋅b⋅c⋅d   7⋅(a⋅d - b⋅c)   a + b⎥\n",
       "─────────────────────────────  ───────────────  ─────⎥\n",
       "    2          2    3           2            2  c + d⎥\n",
       " 3⋅c ⋅d + 3⋅c⋅d  + d           c  + 2⋅c⋅d + d        ⎦"
      ]
     },
     "execution_count": 97,
     "metadata": {},
     "output_type": "execute_result"
    }
   ],
   "source": [
    "with lift_to_matrix_function(g_mobius) as G_mobius:\n",
    "    P = Eq(z, Matrix(m,m, binomial), evaluate=False)\n",
    "    P_mobius = G_mobius(P)\n",
    "P_mobius"
   ]
  },
  {
   "cell_type": "markdown",
   "metadata": {
    "editable": true
   },
   "source": [
    "# `M` function"
   ]
  },
  {
   "cell_type": "code",
   "execution_count": 98,
   "metadata": {
    "collapsed": false,
    "editable": true
   },
   "outputs": [
    {
     "data": {
      "image/png": "[encoded data removed]",
      "text/latex": [
       "$$f{\\left (z \\right )} = \\frac{1}{f{\\left (z \\right )} + 1}$$"
      ],
      "text/plain": [
       "          1    \n",
       "f(z) = ────────\n",
       "       f(z) + 1"
      ]
     },
     "execution_count": 98,
     "metadata": {},
     "output_type": "execute_result"
    }
   ],
   "source": [
    "f = Function('f')\n",
    "f_cont = Eq(f(z), 1/(1+f(z)))\n",
    "f_cont"
   ]
  },
  {
   "cell_type": "code",
   "execution_count": 100,
   "metadata": {
    "collapsed": false,
    "editable": true
   },
   "outputs": [
    {
     "data": {
      "image/png": "[encoded data removed]",
      "text/latex": [
       "$$\\left [ \\frac{1}{f{\\left (z \\right )} + 1}, \\quad - \\frac{\\frac{d}{d z} f{\\left (z \\right )}}{\\left(f{\\left (z \\right )} + 1\\right)^{2}}, \\quad \\frac{1}{\\left(f{\\left (z \\right )} + 1\\right)^{3}} \\left(- \\left(f{\\left (z \\right )} + 1\\right) \\frac{d^{2}}{d z^{2}}  f{\\left (z \\right )} + 2 \\left(\\frac{d}{d z} f{\\left (z \\right )}\\right)^{2}\\right), \\quad \\frac{1}{\\left(f{\\left (z \\right )} + 1\\right)^{4}} \\left(- \\left(f{\\left (z \\right )} + 1\\right)^{2} \\frac{d^{3}}{d z^{3}}  f{\\left (z \\right )} + 6 \\left(f{\\left (z \\right )} + 1\\right) \\frac{d}{d z} f{\\left (z \\right )} \\frac{d^{2}}{d z^{2}}  f{\\left (z \\right )} - 6 \\left(\\frac{d}{d z} f{\\left (z \\right )}\\right)^{3}\\right), \\quad \\frac{1}{\\left(f{\\left (z \\right )} + 1\\right)^{5}} \\left(\\left(8 \\frac{d}{d z} f{\\left (z \\right )} \\frac{d^{3}}{d z^{3}}  f{\\left (z \\right )} + 6 \\left(\\frac{d^{2}}{d z^{2}}  f{\\left (z \\right )}\\right)^{2}\\right) \\left(f{\\left (z \\right )} + 1\\right)^{2} - \\left(f{\\left (z \\right )} + 1\\right)^{3} \\frac{d^{4}}{d z^{4}}  f{\\left (z \\right )} - 36 \\left(f{\\left (z \\right )} + 1\\right) \\left(\\frac{d}{d z} f{\\left (z \\right )}\\right)^{2} \\frac{d^{2}}{d z^{2}}  f{\\left (z \\right )} + 24 \\left(\\frac{d}{d z} f{\\left (z \\right )}\\right)^{4}\\right), \\quad \\frac{1}{\\left(f{\\left (z \\right )} + 1\\right)^{6}} \\left(- 30 \\left(2 \\frac{d}{d z} f{\\left (z \\right )} \\frac{d^{3}}{d z^{3}}  f{\\left (z \\right )} + 3 \\left(\\frac{d^{2}}{d z^{2}}  f{\\left (z \\right )}\\right)^{2}\\right) \\left(f{\\left (z \\right )} + 1\\right)^{2} \\frac{d}{d z} f{\\left (z \\right )} + 10 \\left(\\frac{d}{d z} f{\\left (z \\right )} \\frac{d^{4}}{d z^{4}}  f{\\left (z \\right )} + 2 \\frac{d^{2}}{d z^{2}}  f{\\left (z \\right )} \\frac{d^{3}}{d z^{3}}  f{\\left (z \\right )}\\right) \\left(f{\\left (z \\right )} + 1\\right)^{3} - \\left(f{\\left (z \\right )} + 1\\right)^{4} \\frac{d^{5}}{d z^{5}}  f{\\left (z \\right )} + 240 \\left(f{\\left (z \\right )} + 1\\right) \\left(\\frac{d}{d z} f{\\left (z \\right )}\\right)^{3} \\frac{d^{2}}{d z^{2}}  f{\\left (z \\right )} - 120 \\left(\\frac{d}{d z} f{\\left (z \\right )}\\right)^{5}\\right), \\quad \\frac{1}{\\left(f{\\left (z \\right )} + 1\\right)^{7}} \\left(\\left(480 \\frac{d}{d z} f{\\left (z \\right )} \\frac{d^{3}}{d z^{3}}  f{\\left (z \\right )} + 1080 \\left(\\frac{d^{2}}{d z^{2}}  f{\\left (z \\right )}\\right)^{2}\\right) \\left(f{\\left (z \\right )} + 1\\right)^{2} \\left(\\frac{d}{d z} f{\\left (z \\right )}\\right)^{2} - \\left(f{\\left (z \\right )} + 1\\right)^{5} \\frac{d^{6}}{d z^{6}}  f{\\left (z \\right )} + \\left(f{\\left (z \\right )} + 1\\right)^{4} \\left(12 \\frac{d}{d z} f{\\left (z \\right )} \\frac{d^{5}}{d z^{5}}  f{\\left (z \\right )} + 30 \\frac{d^{2}}{d z^{2}}  f{\\left (z \\right )} \\frac{d^{4}}{d z^{4}}  f{\\left (z \\right )} + 20 \\left(\\frac{d^{3}}{d z^{3}}  f{\\left (z \\right )}\\right)^{2}\\right) + \\left(f{\\left (z \\right )} + 1\\right)^{3} \\left(- 90 \\left(\\frac{d}{d z} f{\\left (z \\right )}\\right)^{2} \\frac{d^{4}}{d z^{4}}  f{\\left (z \\right )} - 360 \\frac{d}{d z} f{\\left (z \\right )} \\frac{d^{2}}{d z^{2}}  f{\\left (z \\right )} \\frac{d^{3}}{d z^{3}}  f{\\left (z \\right )} - 90 \\left(\\frac{d^{2}}{d z^{2}}  f{\\left (z \\right )}\\right)^{3}\\right) - 1800 \\left(f{\\left (z \\right )} + 1\\right) \\left(\\frac{d}{d z} f{\\left (z \\right )}\\right)^{4} \\frac{d^{2}}{d z^{2}}  f{\\left (z \\right )} + 720 \\left(\\frac{d}{d z} f{\\left (z \\right )}\\right)^{6}\\right), \\quad \\frac{1}{\\left(f{\\left (z \\right )} + 1\\right)^{8}} \\left(- 4200 \\left(\\frac{d}{d z} f{\\left (z \\right )} \\frac{d^{3}}{d z^{3}}  f{\\left (z \\right )} + 3 \\left(\\frac{d^{2}}{d z^{2}}  f{\\left (z \\right )}\\right)^{2}\\right) \\left(f{\\left (z \\right )} + 1\\right)^{2} \\left(\\frac{d}{d z} f{\\left (z \\right )}\\right)^{3} - \\left(f{\\left (z \\right )} + 1\\right)^{6} \\frac{d^{7}}{d z^{7}}  f{\\left (z \\right )} + 14 \\left(f{\\left (z \\right )} + 1\\right)^{5} \\left(\\frac{d}{d z} f{\\left (z \\right )} \\frac{d^{6}}{d z^{6}}  f{\\left (z \\right )} + 3 \\frac{d^{2}}{d z^{2}}  f{\\left (z \\right )} \\frac{d^{5}}{d z^{5}}  f{\\left (z \\right )} + 5 \\frac{d^{3}}{d z^{3}}  f{\\left (z \\right )} \\frac{d^{4}}{d z^{4}}  f{\\left (z \\right )}\\right) - 42 \\left(f{\\left (z \\right )} + 1\\right)^{4} \\left(3 \\left(\\frac{d}{d z} f{\\left (z \\right )}\\right)^{2} \\frac{d^{5}}{d z^{5}}  f{\\left (z \\right )} + 15 \\frac{d}{d z} f{\\left (z \\right )} \\frac{d^{2}}{d z^{2}}  f{\\left (z \\right )} \\frac{d^{4}}{d z^{4}}  f{\\left (z \\right )} + 10 \\frac{d}{d z} f{\\left (z \\right )} \\left(\\frac{d^{3}}{d z^{3}}  f{\\left (z \\right )}\\right)^{2} + 15 \\left(\\frac{d^{2}}{d z^{2}}  f{\\left (z \\right )}\\right)^{2} \\frac{d^{3}}{d z^{3}}  f{\\left (z \\right )}\\right) + 840 \\left(f{\\left (z \\right )} + 1\\right)^{3} \\left(\\left(\\frac{d}{d z} f{\\left (z \\right )}\\right)^{2} \\frac{d^{4}}{d z^{4}}  f{\\left (z \\right )} + 6 \\frac{d}{d z} f{\\left (z \\right )} \\frac{d^{2}}{d z^{2}}  f{\\left (z \\right )} \\frac{d^{3}}{d z^{3}}  f{\\left (z \\right )} + 3 \\left(\\frac{d^{2}}{d z^{2}}  f{\\left (z \\right )}\\right)^{3}\\right) \\frac{d}{d z} f{\\left (z \\right )} + 15120 \\left(f{\\left (z \\right )} + 1\\right) \\left(\\frac{d}{d z} f{\\left (z \\right )}\\right)^{5} \\frac{d^{2}}{d z^{2}}  f{\\left (z \\right )} - 5040 \\left(\\frac{d}{d z} f{\\left (z \\right )}\\right)^{7}\\right)\\right ]$$"
      ],
      "text/plain": [
       "⎡                                                                             \n",
       "⎢                                      2                     2                \n",
       "⎢                                     d            ⎛d       ⎞               2 \n",
       "⎢            d          - (f(z) + 1)⋅───(f(z)) + 2⋅⎜──(f(z))⎟   - (f(z) + 1) ⋅\n",
       "⎢           -──(f(z))                  2           ⎝dz      ⎠                 \n",
       "⎢   1        dz                      dz                                       \n",
       "⎢────────, ───────────, ──────────────────────────────────────, ──────────────\n",
       "⎢f(z) + 1            2                         3                              \n",
       "⎣          (f(z) + 1)                (f(z) + 1)                               \n",
       "\n",
       "                                                             ⎛                \n",
       "  3                                 2                     3  ⎜             3  \n",
       " d                       d         d            ⎛d       ⎞   ⎜  d         d   \n",
       "───(f(z)) + 6⋅(f(z) + 1)⋅──(f(z))⋅───(f(z)) - 6⋅⎜──(f(z))⎟   ⎜8⋅──(f(z))⋅───(f\n",
       "  3                      dz         2           ⎝dz      ⎠   ⎜  dz         3  \n",
       "dz                                dz                         ⎝           dz   \n",
       "───────────────────────────────────────────────────────────, ─────────────────\n",
       "                           4                                                  \n",
       "                 (f(z) + 1)                                                   \n",
       "\n",
       "                    2⎞                                                        \n",
       "         ⎛  2      ⎞ ⎟                             4                          \n",
       "         ⎜ d       ⎟ ⎟           2             3  d                        ⎛d \n",
       "(z)) + 6⋅⎜───(f(z))⎟ ⎟⋅(f(z) + 1)  - (f(z) + 1) ⋅───(f(z)) - 36⋅(f(z) + 1)⋅⎜──\n",
       "         ⎜  2      ⎟ ⎟                             4                       ⎝dz\n",
       "         ⎝dz       ⎠ ⎠                           dz                           \n",
       "──────────────────────────────────────────────────────────────────────────────\n",
       "                                                    5                         \n",
       "                                          (f(z) + 1)                          \n",
       "\n",
       "                                          ⎛                                   \n",
       "       2   2                      4       ⎜             3           ⎛  2      \n",
       "      ⎞   d             ⎛d       ⎞        ⎜  d         d            ⎜ d       \n",
       "(f(z))⎟ ⋅───(f(z)) + 24⋅⎜──(f(z))⎟   - 30⋅⎜2⋅──(f(z))⋅───(f(z)) + 3⋅⎜───(f(z))\n",
       "      ⎠    2            ⎝dz      ⎠        ⎜  dz         3           ⎜  2      \n",
       "         dz                               ⎝           dz            ⎝dz       \n",
       "───────────────────────────────────, ─────────────────────────────────────────\n",
       "                                                                              \n",
       "                                                                              \n",
       "\n",
       " 2⎞                                                                           \n",
       "⎞ ⎟                           ⎛           4             2         3      ⎞    \n",
       "⎟ ⎟           2 d             ⎜d         d             d         d       ⎟    \n",
       "⎟ ⎟⋅(f(z) + 1) ⋅──(f(z)) + 10⋅⎜──(f(z))⋅───(f(z)) + 2⋅───(f(z))⋅───(f(z))⎟⋅(f(\n",
       "⎟ ⎟             dz            ⎜dz         4             2         3      ⎟    \n",
       "⎠ ⎠                           ⎝         dz            dz        dz       ⎠    \n",
       "──────────────────────────────────────────────────────────────────────────────\n",
       "                                                                   6          \n",
       "                                                         (f(z) + 1)           \n",
       "\n",
       "                                                                              \n",
       "                         5                                  3   2             \n",
       "       3             4  d                         ⎛d       ⎞   d              \n",
       "z) + 1)  - (f(z) + 1) ⋅───(f(z)) + 240⋅(f(z) + 1)⋅⎜──(f(z))⎟ ⋅───(f(z)) - 120⋅\n",
       "                         5                        ⎝dz      ⎠    2             \n",
       "                       dz                                     dz              \n",
       "──────────────────────────────────────────────────────────────────────────────\n",
       "                                                                              \n",
       "                                                                              \n",
       "\n",
       "             ⎛                                         2⎞                     \n",
       "          5  ⎜               3              ⎛  2      ⎞ ⎟                     \n",
       "⎛d       ⎞   ⎜    d         d               ⎜ d       ⎟ ⎟           2 ⎛d      \n",
       "⎜──(f(z))⎟   ⎜480⋅──(f(z))⋅───(f(z)) + 1080⋅⎜───(f(z))⎟ ⎟⋅(f(z) + 1) ⋅⎜──(f(z)\n",
       "⎝dz      ⎠   ⎜    dz         3              ⎜  2      ⎟ ⎟             ⎝dz     \n",
       "             ⎝             dz               ⎝dz       ⎠ ⎠                     \n",
       "───────────, ─────────────────────────────────────────────────────────────────\n",
       "                                                                              \n",
       "                                                                              \n",
       "\n",
       "                                          ⎛                                   \n",
       "  2                 6                     ⎜              5              2     \n",
       " ⎞              5  d                    4 ⎜   d         d              d      \n",
       ")⎟  - (f(z) + 1) ⋅───(f(z)) + (f(z) + 1) ⋅⎜12⋅──(f(z))⋅───(f(z)) + 30⋅───(f(z)\n",
       " ⎠                  6                     ⎜   dz         5              2     \n",
       "                  dz                      ⎝            dz             dz      \n",
       "──────────────────────────────────────────────────────────────────────────────\n",
       "                                                                              \n",
       "                                                                              \n",
       "\n",
       "                            2⎞               ⎛                                \n",
       "    4            ⎛  3      ⎞ ⎟               ⎜               2   4            \n",
       "   d             ⎜ d       ⎟ ⎟             3 ⎜     ⎛d       ⎞   d             \n",
       ")⋅───(f(z)) + 20⋅⎜───(f(z))⎟ ⎟ + (f(z) + 1) ⋅⎜- 90⋅⎜──(f(z))⎟ ⋅───(f(z)) - 360\n",
       "    4            ⎜  3      ⎟ ⎟               ⎜     ⎝dz      ⎠    4            \n",
       "  dz             ⎝dz       ⎠ ⎠               ⎝                 dz             \n",
       "──────────────────────────────────────────────────────────────────────────────\n",
       "                         7                                                    \n",
       "               (f(z) + 1)                                                     \n",
       "\n",
       "                                              3⎞                              \n",
       "            2         3            ⎛  2      ⎞ ⎟                             4\n",
       " d         d         d             ⎜ d       ⎟ ⎟                   ⎛d       ⎞ \n",
       "⋅──(f(z))⋅───(f(z))⋅───(f(z)) - 90⋅⎜───(f(z))⎟ ⎟ - 1800⋅(f(z) + 1)⋅⎜──(f(z))⎟ \n",
       " dz         2         3            ⎜  2      ⎟ ⎟                   ⎝dz      ⎠ \n",
       "          dz        dz             ⎝dz       ⎠ ⎠                              \n",
       "──────────────────────────────────────────────────────────────────────────────\n",
       "                                                                              \n",
       "                                                                              \n",
       "\n",
       "                                     ⎛                                  2⎞    \n",
       "   2                       6         ⎜           3           ⎛  2      ⎞ ⎟    \n",
       "  d              ⎛d       ⎞          ⎜d         d            ⎜ d       ⎟ ⎟    \n",
       "⋅───(f(z)) + 720⋅⎜──(f(z))⎟   - 4200⋅⎜──(f(z))⋅───(f(z)) + 3⋅⎜───(f(z))⎟ ⎟⋅(f(\n",
       "   2             ⎝dz      ⎠          ⎜dz         3           ⎜  2      ⎟ ⎟    \n",
       " dz                                  ⎝         dz            ⎝dz       ⎠ ⎠    \n",
       "────────────────────────────, ────────────────────────────────────────────────\n",
       "                                                                              \n",
       "                                                                              \n",
       "\n",
       "                                                                              \n",
       "                   3                 7                        ⎛           6   \n",
       "       2 ⎛d       ⎞              6  d                       5 ⎜d         d    \n",
       "z) + 1) ⋅⎜──(f(z))⎟  - (f(z) + 1) ⋅───(f(z)) + 14⋅(f(z) + 1) ⋅⎜──(f(z))⋅───(f(\n",
       "         ⎝dz      ⎠                  7                        ⎜dz         6   \n",
       "                                   dz                         ⎝         dz    \n",
       "──────────────────────────────────────────────────────────────────────────────\n",
       "                                                                              \n",
       "                                                                              \n",
       "\n",
       "                                                                      ⎛       \n",
       "          2         5             3         4      ⎞                  ⎜       \n",
       "         d         d             d         d       ⎟                4 ⎜  ⎛d   \n",
       "z)) + 3⋅───(f(z))⋅───(f(z)) + 5⋅───(f(z))⋅───(f(z))⎟ - 42⋅(f(z) + 1) ⋅⎜3⋅⎜──(f\n",
       "          2         5             3         4      ⎟                  ⎜  ⎝dz  \n",
       "        dz        dz            dz        dz       ⎠                  ⎝       \n",
       "──────────────────────────────────────────────────────────────────────────────\n",
       "                                                                              \n",
       "                                                                              \n",
       "\n",
       "                                                                            2 \n",
       "     2   5                       2         4                     ⎛  3      ⎞  \n",
       "    ⎞   d             d         d         d             d        ⎜ d       ⎟  \n",
       "(z))⎟ ⋅───(f(z)) + 15⋅──(f(z))⋅───(f(z))⋅───(f(z)) + 10⋅──(f(z))⋅⎜───(f(z))⎟  \n",
       "    ⎠    5            dz         2         4            dz       ⎜  3      ⎟  \n",
       "       dz                      dz        dz                      ⎝dz       ⎠  \n",
       "──────────────────────────────────────────────────────────────────────────────\n",
       "                                    8                                         \n",
       "                          (f(z) + 1)                                          \n",
       "\n",
       "                2          ⎞                   ⎛                              \n",
       "     ⎛  2      ⎞    3      ⎟                   ⎜          2   4               \n",
       "     ⎜ d       ⎟   d       ⎟                 3 ⎜⎛d       ⎞   d            d   \n",
       "+ 15⋅⎜───(f(z))⎟ ⋅───(f(z))⎟ + 840⋅(f(z) + 1) ⋅⎜⎜──(f(z))⎟ ⋅───(f(z)) + 6⋅──(f\n",
       "     ⎜  2      ⎟    3      ⎟                   ⎜⎝dz      ⎠    4           dz  \n",
       "     ⎝dz       ⎠  dz       ⎠                   ⎝            dz                \n",
       "──────────────────────────────────────────────────────────────────────────────\n",
       "                                                                              \n",
       "                                                                              \n",
       "\n",
       "                                        3⎞                                    \n",
       "       2         3           ⎛  2      ⎞ ⎟                                    \n",
       "      d         d            ⎜ d       ⎟ ⎟ d                           ⎛d     \n",
       "(z))⋅───(f(z))⋅───(f(z)) + 3⋅⎜───(f(z))⎟ ⎟⋅──(f(z)) + 15120⋅(f(z) + 1)⋅⎜──(f(z\n",
       "       2         3           ⎜  2      ⎟ ⎟ dz                          ⎝dz    \n",
       "     dz        dz            ⎝dz       ⎠ ⎠                                    \n",
       "──────────────────────────────────────────────────────────────────────────────\n",
       "                                                                              \n",
       "                                                                              \n",
       "\n",
       "                                 ⎤\n",
       "   5   2                        7⎥\n",
       "  ⎞   d               ⎛d       ⎞ ⎥\n",
       "))⎟ ⋅───(f(z)) - 5040⋅⎜──(f(z))⎟ ⎥\n",
       "  ⎠    2              ⎝dz      ⎠ ⎥\n",
       "     dz                          ⎥\n",
       "─────────────────────────────────⎥\n",
       "                                 ⎥\n",
       "                                 ⎦"
      ]
     },
     "execution_count": 100,
     "metadata": {},
     "output_type": "execute_result"
    }
   ],
   "source": [
    "[f_cont.rhs.diff(z, i).simplify() for i in range(m)]"
   ]
  },
  {
   "cell_type": "code",
   "execution_count": 102,
   "metadata": {
    "collapsed": false,
    "editable": true
   },
   "outputs": [],
   "source": [
    "g_cont = Hermite_interpolation_polynomial(f_cont, eigendata, Phi_polynomials)\n",
    "g_cont = g_cont.subs(eigenvals)\n",
    "#g_cont\n",
    "#g_mobius # too long to show"
   ]
  },
  {
   "cell_type": "code",
   "execution_count": 105,
   "metadata": {
    "collapsed": false
   },
   "outputs": [],
   "source": [
    "with lift_to_matrix_function(g_cont) as G_cont:\n",
    "    P = Eq(z, Matrix(m,m, binomial), evaluate=False)\n",
    "    P_cont = G_cont(P)\n",
    "#print(P_cont)"
   ]
  },
  {
   "cell_type": "markdown",
   "metadata": {
    "deletable": true,
    "editable": true
   },
   "source": [
    "# `normal` function"
   ]
  },
  {
   "cell_type": "code",
   "execution_count": 19,
   "metadata": {
    "collapsed": false,
    "deletable": true,
    "editable": true
   },
   "outputs": [
    {
     "data": {
      "image/png": "[encoded data removed]",
      "text/latex": [
       "$$\\left[\\begin{matrix}1 & \\rho & 0\\\\\\rho & 1 & \\rho\\\\0 & \\rho & 1\\end{matrix}\\right]$$"
      ],
      "text/plain": [
       "⎡ 1    \\rho   0  ⎤\n",
       "⎢                ⎥\n",
       "⎢\\rho   1    \\rho⎥\n",
       "⎢                ⎥\n",
       "⎣ 0    \\rho   1  ⎦"
      ]
     },
     "execution_count": 19,
     "metadata": {},
     "output_type": "execute_result"
    }
   ],
   "source": [
    "m=3\n",
    "rho = symbols(r'\\rho')\n",
    "R = Matrix(m, m, lambda n,k: 1 if n == k else rho if abs(k-n) == 1 else 0)\n",
    "R"
   ]
  },
  {
   "cell_type": "code",
   "execution_count": 32,
   "metadata": {
    "collapsed": false,
    "deletable": true,
    "editable": true
   },
   "outputs": [
    {
     "data": {
      "image/png": "[encoded data removed]",
      "text/latex": [
       "$$\\left[\\begin{matrix}1 & \\rho\\\\\\rho & 1\\end{matrix}\\right]$$"
      ],
      "text/plain": [
       "⎡ 1    \\rho⎤\n",
       "⎢          ⎥\n",
       "⎣\\rho   1  ⎦"
      ]
     },
     "execution_count": 32,
     "metadata": {},
     "output_type": "execute_result"
    }
   ],
   "source": [
    "m=2\n",
    "rho = symbols(r'\\rho')\n",
    "R = Matrix(m, m, lambda n,k: 1 if n == k else rho if abs(k-n) == 1 else 0)\n",
    "R"
   ]
  },
  {
   "cell_type": "code",
   "execution_count": 33,
   "metadata": {
    "collapsed": false,
    "deletable": true,
    "editable": true
   },
   "outputs": [
    {
     "data": {
      "image/png": "[encoded data removed]",
      "text/latex": [
       "$$\\left ( \\left \\{ 1 : \\left ( \\lambda_{1}, \\quad m_{1}\\right ), \\quad 2 : \\left ( \\lambda_{2}, \\quad m_{2}\\right )\\right \\}, \\quad \\left \\{ \\lambda_{1} : \\rho + 1, \\quad \\lambda_{2} : - \\rho + 1\\right \\}, \\quad \\left \\{ m_{1} : 1, \\quad m_{2} : 1\\right \\}\\right )$$"
      ],
      "text/plain": [
       "({1: (\\lambda[1], m[1]), 2: (\\lambda[2], m[2])}, {\\lambda[1]: \\rho + 1, \\lambd\n",
       "a[2]: -\\rho + 1}, {m[1]: 1, m[2]: 1})"
      ]
     },
     "execution_count": 33,
     "metadata": {},
     "output_type": "execute_result"
    }
   ],
   "source": [
    "data, eigenvals, multiplicities = eigendata = eigen_data(R)\n",
    "eigendata"
   ]
  },
  {
   "cell_type": "code",
   "execution_count": 34,
   "metadata": {
    "collapsed": false,
    "deletable": true,
    "editable": true
   },
   "outputs": [
    {
     "data": {
      "image/png": "[encoded data removed]",
      "text/latex": [
       "$$\\left \\{ \\left ( 1, \\quad 1\\right ) : \\Phi_{ 1, 1 }{\\left (z \\right )} = \\frac{z}{2 \\rho} + \\frac{\\rho - 1}{2 \\rho}, \\quad \\left ( 2, \\quad 1\\right ) : \\Phi_{ 2, 1 }{\\left (z \\right )} = - \\frac{z}{2 \\rho} + \\frac{\\rho + 1}{2 \\rho}\\right \\}$$"
      ],
      "text/plain": [
       "⎧                             z      \\rho - 1                                 \n",
       "⎨(1, 1): \\Phi_{ 1, 1 }(z) = ────── + ────────, (2, 1): \\Phi_{ 2, 1 }(z) = - ──\n",
       "⎩                           2⋅\\rho    2⋅\\rho                                2⋅\n",
       "\n",
       "z      \\rho + 1⎫\n",
       "──── + ────────⎬\n",
       "\\rho    2⋅\\rho ⎭"
      ]
     },
     "execution_count": 34,
     "metadata": {},
     "output_type": "execute_result"
    }
   ],
   "source": [
    "Phi_polynomials = component_polynomials(eigendata, early_eigenvals_subs=True)\n",
    "Phi_polynomials"
   ]
  },
  {
   "cell_type": "code",
   "execution_count": 35,
   "metadata": {
    "collapsed": false,
    "deletable": true,
    "editable": true
   },
   "outputs": [
    {
     "data": {
      "image/png": "[encoded data removed]",
      "text/latex": [
       "$$f{\\left (z \\right )} = \\frac{\\sqrt{2} e^{- \\frac{z^{2}}{2}}}{2 \\sqrt{\\pi}}$$"
      ],
      "text/plain": [
       "             2 \n",
       "           -z  \n",
       "           ────\n",
       "            2  \n",
       "       √2⋅ℯ    \n",
       "f(z) = ────────\n",
       "         2⋅√π  "
      ]
     },
     "execution_count": 35,
     "metadata": {},
     "output_type": "execute_result"
    }
   ],
   "source": [
    "f = Function('f')\n",
    "f_geometric = define(let=f(z), be=exp(-z**2/2)/sqrt(2*pi))\n",
    "f_geometric"
   ]
  },
  {
   "cell_type": "code",
   "execution_count": 89,
   "metadata": {
    "collapsed": true,
    "deletable": true,
    "editable": true
   },
   "outputs": [],
   "source": [
    "integrate?"
   ]
  },
  {
   "cell_type": "code",
   "execution_count": 92,
   "metadata": {
    "collapsed": false,
    "deletable": true,
    "editable": true
   },
   "outputs": [
    {
     "data": {
      "image/png": "[encoded data removed]",
      "text/latex": [
       "$$f{\\left (z \\right )} = \\int_{0}^{\\infty} f{\\left (z \\right )}\\, dz$$"
      ],
      "text/plain": [
       "       ∞        \n",
       "       ⌠        \n",
       "f(z) = ⎮ f(z) dz\n",
       "       ⌡        \n",
       "       0        "
      ]
     },
     "execution_count": 92,
     "metadata": {},
     "output_type": "execute_result"
    }
   ],
   "source": [
    "f = Function('f')\n",
    "f_geometric = Eq(f(z), f(z).integrate((z,0,oo)), evaluate=False)\n",
    "f_geometric"
   ]
  },
  {
   "cell_type": "code",
   "execution_count": 93,
   "metadata": {
    "collapsed": false,
    "deletable": true,
    "editable": true
   },
   "outputs": [
    {
     "data": {
      "image/png": "[encoded data removed]",
      "text/latex": [
       "$$\\left [ \\int_{0}^{\\infty} f{\\left (z \\right )}\\, dz, \\quad 0, \\quad 0, \\quad 0, \\quad 0, \\quad 0, \\quad 0, \\quad 0, \\quad 0, \\quad 0, \\quad 0\\right ]$$"
      ],
      "text/plain": [
       "⎡∞                                      ⎤\n",
       "⎢⌠                                      ⎥\n",
       "⎢⎮ f(z) dz, 0, 0, 0, 0, 0, 0, 0, 0, 0, 0⎥\n",
       "⎢⌡                                      ⎥\n",
       "⎣0                                      ⎦"
      ]
     },
     "execution_count": 93,
     "metadata": {},
     "output_type": "execute_result"
    }
   ],
   "source": [
    "[f_geometric.rhs.diff(z, i) for i in range(11)]"
   ]
  },
  {
   "cell_type": "code",
   "execution_count": 94,
   "metadata": {
    "collapsed": false,
    "deletable": true,
    "editable": true
   },
   "outputs": [
    {
     "data": {
      "image/png": "[encoded data removed]",
      "text/latex": [
       "$$g{\\left (z \\right )} = z \\left(\\frac{1}{2 \\rho} \\int_{0}^{\\infty} f{\\left (\\lambda_{1} \\right )}\\, d\\lambda_{1} - \\frac{1}{2 \\rho} \\int_{0}^{\\infty} f{\\left (\\lambda_{2} \\right )}\\, d\\lambda_{2}\\right) + \\frac{1}{2} \\int_{0}^{\\infty} f{\\left (\\lambda_{1} \\right )}\\, d\\lambda_{1} + \\frac{1}{2} \\int_{0}^{\\infty} f{\\left (\\lambda_{2} \\right )}\\, d\\lambda_{2} - \\frac{1}{2 \\rho} \\int_{0}^{\\infty} f{\\left (\\lambda_{1} \\right )}\\, d\\lambda_{1} + \\frac{1}{2 \\rho} \\int_{0}^{\\infty} f{\\left (\\lambda_{2} \\right )}\\, d\\lambda_{2}$$"
      ],
      "text/plain": [
       "         ⎛∞                               ∞                            ⎞   ∞  \n",
       "         ⎜⌠                               ⌠                            ⎟   ⌠  \n",
       "         ⎜⎮ f(\\lambda[1]) d(\\lambda[1])   ⎮ f(\\lambda[2]) d(\\lambda[2])⎟   ⎮ f\n",
       "         ⎜⌡                               ⌡                            ⎟   ⌡  \n",
       "         ⎜0                               0                            ⎟   0  \n",
       "g(z) = z⋅⎜───────────────────────────── - ─────────────────────────────⎟ + ───\n",
       "         ⎝            2⋅\\rho                          2⋅\\rho           ⎠      \n",
       "\n",
       "                             ∞                               ∞                \n",
       "                             ⌠                               ⌠                \n",
       "(\\lambda[1]) d(\\lambda[1])   ⎮ f(\\lambda[2]) d(\\lambda[2])   ⎮ f(\\lambda[1]) d\n",
       "                             ⌡                               ⌡                \n",
       "                             0                               0                \n",
       "────────────────────────── + ───────────────────────────── - ─────────────────\n",
       "           2                               2                             2⋅\\rh\n",
       "\n",
       "               ∞                            \n",
       "               ⌠                            \n",
       "(\\lambda[1])   ⎮ f(\\lambda[2]) d(\\lambda[2])\n",
       "               ⌡                            \n",
       "               0                            \n",
       "──────────── + ─────────────────────────────\n",
       "o                          2⋅\\rho           "
      ]
     },
     "execution_count": 94,
     "metadata": {},
     "output_type": "execute_result"
    }
   ],
   "source": [
    "g_geometric = g_poly(f_geometric, eigendata, Phi_polynomials)\n",
    "g_geometric"
   ]
  },
  {
   "cell_type": "code",
   "execution_count": 95,
   "metadata": {
    "collapsed": false,
    "deletable": true,
    "editable": true
   },
   "outputs": [
    {
     "data": {
      "image/png": "[encoded data removed]",
      "text/latex": [
       "$$g{\\left (z \\right )} = z \\left(\\frac{1}{2 \\rho} \\int_{0}^{\\infty} f{\\left (\\lambda_{1} \\right )}\\, d\\lambda_{1} - \\frac{1}{2 \\rho} \\int_{0}^{\\infty} f{\\left (\\lambda_{2} \\right )}\\, d\\lambda_{2}\\right) + \\frac{1}{2} \\int_{0}^{\\infty} f{\\left (\\lambda_{1} \\right )}\\, d\\lambda_{1} + \\frac{1}{2} \\int_{0}^{\\infty} f{\\left (\\lambda_{2} \\right )}\\, d\\lambda_{2} - \\frac{1}{2 \\rho} \\int_{0}^{\\infty} f{\\left (\\lambda_{1} \\right )}\\, d\\lambda_{1} + \\frac{1}{2 \\rho} \\int_{0}^{\\infty} f{\\left (\\lambda_{2} \\right )}\\, d\\lambda_{2}$$"
      ],
      "text/plain": [
       "         ⎛∞                               ∞                            ⎞   ∞  \n",
       "         ⎜⌠                               ⌠                            ⎟   ⌠  \n",
       "         ⎜⎮ f(\\lambda[1]) d(\\lambda[1])   ⎮ f(\\lambda[2]) d(\\lambda[2])⎟   ⎮ f\n",
       "         ⎜⌡                               ⌡                            ⎟   ⌡  \n",
       "         ⎜0                               0                            ⎟   0  \n",
       "g(z) = z⋅⎜───────────────────────────── - ─────────────────────────────⎟ + ───\n",
       "         ⎝            2⋅\\rho                          2⋅\\rho           ⎠      \n",
       "\n",
       "                             ∞                               ∞                \n",
       "                             ⌠                               ⌠                \n",
       "(\\lambda[1]) d(\\lambda[1])   ⎮ f(\\lambda[2]) d(\\lambda[2])   ⎮ f(\\lambda[1]) d\n",
       "                             ⌡                               ⌡                \n",
       "                             0                               0                \n",
       "────────────────────────── + ───────────────────────────── - ─────────────────\n",
       "           2                               2                             2⋅\\rh\n",
       "\n",
       "               ∞                            \n",
       "               ⌠                            \n",
       "(\\lambda[1])   ⎮ f(\\lambda[2]) d(\\lambda[2])\n",
       "               ⌡                            \n",
       "               0                            \n",
       "──────────── + ─────────────────────────────\n",
       "o                          2⋅\\rho           "
      ]
     },
     "execution_count": 95,
     "metadata": {},
     "output_type": "execute_result"
    }
   ],
   "source": [
    "g_geometric_v = g_geometric.subs(eigenvals)\n",
    "g_geometric_v"
   ]
  },
  {
   "cell_type": "code",
   "execution_count": 96,
   "metadata": {
    "collapsed": false,
    "deletable": true,
    "editable": true
   },
   "outputs": [
    {
     "data": {
      "image/png": "[encoded data removed]",
      "text/latex": [
       "$$\\operatorname{g_{g}}{\\left (z \\right )} = \\frac{630 \\sqrt{2}}{\\rho} \\sqrt{\\pi} \\left(\\rho \\left(\\int_{0}^{\\infty} f{\\left (\\lambda_{1} \\right )}\\, d\\lambda_{1} + \\int_{0}^{\\infty} f{\\left (\\lambda_{2} \\right )}\\, d\\lambda_{2}\\right) + z \\left(\\int_{0}^{\\infty} f{\\left (\\lambda_{1} \\right )}\\, d\\lambda_{1} - \\int_{0}^{\\infty} f{\\left (\\lambda_{2} \\right )}\\, d\\lambda_{2}\\right) - \\int_{0}^{\\infty} f{\\left (\\lambda_{1} \\right )}\\, d\\lambda_{1} + \\int_{0}^{\\infty} f{\\left (\\lambda_{2} \\right )}\\, d\\lambda_{2}\\right) e^{\\frac{1}{2}}$$"
      ],
      "text/plain": [
       "                   ⎛     ⎛∞                               ∞                   \n",
       "                   ⎜     ⎜⌠                               ⌠                   \n",
       "         630⋅√2⋅√π⋅⎜\\rho⋅⎜⎮ f(\\lambda[1]) d(\\lambda[1]) + ⎮ f(\\lambda[2]) d(\\l\n",
       "                   ⎜     ⎜⌡                               ⌡                   \n",
       "                   ⎝     ⎝0                               0                   \n",
       "g_g(z) = ─────────────────────────────────────────────────────────────────────\n",
       "                                                                              \n",
       "\n",
       "         ⎞     ⎛∞                               ∞                            ⎞\n",
       "         ⎟     ⎜⌠                               ⌠                            ⎟\n",
       "ambda[2])⎟ + z⋅⎜⎮ f(\\lambda[1]) d(\\lambda[1]) - ⎮ f(\\lambda[2]) d(\\lambda[2])⎟\n",
       "         ⎟     ⎜⌡                               ⌡                            ⎟\n",
       "         ⎠     ⎝0                               0                            ⎠\n",
       "──────────────────────────────────────────────────────────────────────────────\n",
       "                                      \\rho                                    \n",
       "\n",
       "   ∞                               ∞                            ⎞     \n",
       "   ⌠                               ⌠                            ⎟  1/2\n",
       " - ⎮ f(\\lambda[1]) d(\\lambda[1]) + ⎮ f(\\lambda[2]) d(\\lambda[2])⎟⋅ℯ   \n",
       "   ⌡                               ⌡                            ⎟     \n",
       "   0                               0                            ⎠     \n",
       "──────────────────────────────────────────────────────────────────────\n",
       "                                                                      "
      ]
     },
     "execution_count": 96,
     "metadata": {},
     "output_type": "execute_result"
    }
   ],
   "source": [
    "g_g = Eq(Function('g_g')(z), (g_geometric_v.rhs.radsimp()*(2520*sqrt(pi)*exp(1/S(2))/sqrt(2))).radsimp().simplify())\n",
    "g_g"
   ]
  },
  {
   "cell_type": "code",
   "execution_count": 106,
   "metadata": {
    "collapsed": false,
    "deletable": true,
    "editable": true
   },
   "outputs": [
    {
     "data": {
      "image/png": "[encoded data removed]",
      "text/latex": [
       "$$\\left[\\begin{matrix}\\frac{1}{2} \\int_{0}^{\\infty} f{\\left (\\lambda_{1} \\right )}\\, d\\lambda_{1} + \\frac{1}{2} \\int_{0}^{\\infty} f{\\left (\\lambda_{2} \\right )}\\, d\\lambda_{2} & \\frac{1}{2} \\int_{0}^{\\infty} f{\\left (\\lambda_{1} \\right )}\\, d\\lambda_{1} - \\frac{1}{2} \\int_{0}^{\\infty} f{\\left (\\lambda_{2} \\right )}\\, d\\lambda_{2}\\\\\\frac{1}{2} \\int_{0}^{\\infty} f{\\left (\\lambda_{1} \\right )}\\, d\\lambda_{1} - \\frac{1}{2} \\int_{0}^{\\infty} f{\\left (\\lambda_{2} \\right )}\\, d\\lambda_{2} & \\frac{1}{2} \\int_{0}^{\\infty} f{\\left (\\lambda_{1} \\right )}\\, d\\lambda_{1} + \\frac{1}{2} \\int_{0}^{\\infty} f{\\left (\\lambda_{2} \\right )}\\, d\\lambda_{2}\\end{matrix}\\right]$$"
      ],
      "text/plain": [
       "⎡∞                               ∞                              ∞             \n",
       "⎢⌠                               ⌠                              ⌠             \n",
       "⎢⎮ f(\\lambda[1]) d(\\lambda[1])   ⎮ f(\\lambda[2]) d(\\lambda[2])  ⎮ f(\\lambda[1]\n",
       "⎢⌡                               ⌡                              ⌡             \n",
       "⎢0                               0                              0             \n",
       "⎢───────────────────────────── + ─────────────────────────────  ──────────────\n",
       "⎢              2                               2                              \n",
       "⎢                                                                             \n",
       "⎢∞                               ∞                              ∞             \n",
       "⎢⌠                               ⌠                              ⌠             \n",
       "⎢⎮ f(\\lambda[1]) d(\\lambda[1])   ⎮ f(\\lambda[2]) d(\\lambda[2])  ⎮ f(\\lambda[1]\n",
       "⎢⌡                               ⌡                              ⌡             \n",
       "⎢0                               0                              0             \n",
       "⎢───────────────────────────── - ─────────────────────────────  ──────────────\n",
       "⎣              2                               2                              \n",
       "\n",
       "                  ∞                            ⎤\n",
       "                  ⌠                            ⎥\n",
       ") d(\\lambda[1])   ⎮ f(\\lambda[2]) d(\\lambda[2])⎥\n",
       "                  ⌡                            ⎥\n",
       "                  0                            ⎥\n",
       "─────────────── - ─────────────────────────────⎥\n",
       "2                               2              ⎥\n",
       "                                               ⎥\n",
       "                  ∞                            ⎥\n",
       "                  ⌠                            ⎥\n",
       ") d(\\lambda[1])   ⎮ f(\\lambda[2]) d(\\lambda[2])⎥\n",
       "                  ⌡                            ⎥\n",
       "                  0                            ⎥\n",
       "─────────────── + ─────────────────────────────⎥\n",
       "2                               2              ⎦"
      ]
     },
     "execution_count": 106,
     "metadata": {},
     "output_type": "execute_result"
    }
   ],
   "source": [
    "P = Matrix(m, m, binomial)\n",
    "with lift_to_matrix_function(g_geometric_v) as G_geometric:\n",
    "    P_geometric = G_geometric(R)\n",
    "P_geometric\n",
    "#P_geometric*(2520*sqrt(pi)*exp(1/S(2))/sqrt(2))**(-1)"
   ]
  },
  {
   "cell_type": "code",
   "execution_count": 112,
   "metadata": {
    "collapsed": false,
    "deletable": true,
    "editable": true
   },
   "outputs": [
    {
     "data": {
      "image/png": "[encoded data removed]",
      "text/latex": [
       "$$\\frac{1}{2}$$"
      ],
      "text/plain": [
       "1/2"
      ]
     },
     "execution_count": 112,
     "metadata": {},
     "output_type": "execute_result"
    }
   ],
   "source": [
    "(Integral(exp(-z), (z, 0,oo))/2).doit()"
   ]
  },
  {
   "cell_type": "code",
   "execution_count": 109,
   "metadata": {
    "collapsed": false,
    "deletable": true,
    "editable": true
   },
   "outputs": [
    {
     "ename": "TypeError",
     "evalue": "'property' object is not iterable",
     "output_type": "error",
     "traceback": [
      "\u001b[0;31m---------------------------------------------------------------------------\u001b[0m",
      "\u001b[0;31mTypeError\u001b[0m                                 Traceback (most recent call last)",
      "\u001b[0;32m/Library/Frameworks/Python.framework/Versions/3.6/lib/python3.6/site-packages/sympy/core/cache.py\u001b[0m in \u001b[0;36mwrapper\u001b[0;34m(*args, **kwargs)\u001b[0m\n\u001b[1;32m     92\u001b[0m                 \u001b[0;32mtry\u001b[0m\u001b[0;34m:\u001b[0m\u001b[0;34m\u001b[0m\u001b[0m\n\u001b[0;32m---> 93\u001b[0;31m                     \u001b[0mretval\u001b[0m \u001b[0;34m=\u001b[0m \u001b[0mcfunc\u001b[0m\u001b[0;34m(\u001b[0m\u001b[0;34m*\u001b[0m\u001b[0margs\u001b[0m\u001b[0;34m,\u001b[0m \u001b[0;34m**\u001b[0m\u001b[0mkwargs\u001b[0m\u001b[0;34m)\u001b[0m\u001b[0;34m\u001b[0m\u001b[0m\n\u001b[0m\u001b[1;32m     94\u001b[0m                 \u001b[0;32mexcept\u001b[0m \u001b[0mTypeError\u001b[0m\u001b[0;34m:\u001b[0m\u001b[0;34m\u001b[0m\u001b[0m\n",
      "\u001b[0;32m/Library/Frameworks/Python.framework/Versions/3.6/lib/python3.6/site-packages/sympy/core/basic.py\u001b[0m in \u001b[0;36m_subs\u001b[0;34m(self, old, new, **hints)\u001b[0m\n\u001b[1;32m   1027\u001b[0m \u001b[0;34m\u001b[0m\u001b[0m\n\u001b[0;32m-> 1028\u001b[0;31m         \u001b[0mrv\u001b[0m \u001b[0;34m=\u001b[0m \u001b[0mself\u001b[0m\u001b[0;34m.\u001b[0m\u001b[0m_eval_subs\u001b[0m\u001b[0;34m(\u001b[0m\u001b[0mold\u001b[0m\u001b[0;34m,\u001b[0m \u001b[0mnew\u001b[0m\u001b[0;34m)\u001b[0m\u001b[0;34m\u001b[0m\u001b[0m\n\u001b[0m\u001b[1;32m   1029\u001b[0m         \u001b[0;32mif\u001b[0m \u001b[0mrv\u001b[0m \u001b[0;32mis\u001b[0m \u001b[0;32mNone\u001b[0m\u001b[0;34m:\u001b[0m\u001b[0;34m\u001b[0m\u001b[0m\n",
      "\u001b[0;32m/Library/Frameworks/Python.framework/Versions/3.6/lib/python3.6/site-packages/sympy/concrete/expr_with_limits.py\u001b[0m in \u001b[0;36m_eval_subs\u001b[0;34m(self, old, new)\u001b[0m\n\u001b[1;32m    313\u001b[0m                 \u001b[0mlimits\u001b[0m\u001b[0;34m[\u001b[0m\u001b[0mi\u001b[0m\u001b[0;34m]\u001b[0m \u001b[0;34m=\u001b[0m \u001b[0mTuple\u001b[0m\u001b[0;34m(\u001b[0m\u001b[0mxab\u001b[0m\u001b[0;34m[\u001b[0m\u001b[0;36m0\u001b[0m\u001b[0;34m]\u001b[0m\u001b[0;34m,\u001b[0m \u001b[0;34m*\u001b[0m\u001b[0;34m[\u001b[0m\u001b[0ml\u001b[0m\u001b[0;34m.\u001b[0m\u001b[0m_subs\u001b[0m\u001b[0;34m(\u001b[0m\u001b[0mold\u001b[0m\u001b[0;34m,\u001b[0m \u001b[0mnew\u001b[0m\u001b[0;34m)\u001b[0m \u001b[0;32mfor\u001b[0m \u001b[0ml\u001b[0m \u001b[0;32min\u001b[0m \u001b[0mxab\u001b[0m\u001b[0;34m[\u001b[0m\u001b[0;36m1\u001b[0m\u001b[0;34m:\u001b[0m\u001b[0;34m]\u001b[0m\u001b[0;34m]\u001b[0m\u001b[0;34m)\u001b[0m\u001b[0;34m\u001b[0m\u001b[0m\n\u001b[0;32m--> 314\u001b[0;31m                 \u001b[0;32mif\u001b[0m \u001b[0mlen\u001b[0m\u001b[0;34m(\u001b[0m\u001b[0mxab\u001b[0m\u001b[0;34m[\u001b[0m\u001b[0;36m0\u001b[0m\u001b[0;34m]\u001b[0m\u001b[0;34m.\u001b[0m\u001b[0mfree_symbols\u001b[0m\u001b[0;34m.\u001b[0m\u001b[0mintersection\u001b[0m\u001b[0;34m(\u001b[0m\u001b[0mold\u001b[0m\u001b[0;34m.\u001b[0m\u001b[0mfree_symbols\u001b[0m\u001b[0;34m)\u001b[0m\u001b[0;34m)\u001b[0m \u001b[0;34m!=\u001b[0m \u001b[0;36m0\u001b[0m\u001b[0;34m:\u001b[0m\u001b[0;34m\u001b[0m\u001b[0m\n\u001b[0m\u001b[1;32m    315\u001b[0m                     \u001b[0msub_into_func\u001b[0m \u001b[0;34m=\u001b[0m \u001b[0;32mFalse\u001b[0m\u001b[0;34m\u001b[0m\u001b[0m\n",
      "\u001b[0;31mTypeError\u001b[0m: 'property' object is not iterable",
      "\nDuring handling of the above exception, another exception occurred:\n",
      "\u001b[0;31mTypeError\u001b[0m                                 Traceback (most recent call last)",
      "\u001b[0;32m/Library/Frameworks/Python.framework/Versions/3.6/lib/python3.6/site-packages/sympy/core/cache.py\u001b[0m in \u001b[0;36mwrapper\u001b[0;34m(*args, **kwargs)\u001b[0m\n\u001b[1;32m     92\u001b[0m                 \u001b[0;32mtry\u001b[0m\u001b[0;34m:\u001b[0m\u001b[0;34m\u001b[0m\u001b[0m\n\u001b[0;32m---> 93\u001b[0;31m                     \u001b[0mretval\u001b[0m \u001b[0;34m=\u001b[0m \u001b[0mcfunc\u001b[0m\u001b[0;34m(\u001b[0m\u001b[0;34m*\u001b[0m\u001b[0margs\u001b[0m\u001b[0;34m,\u001b[0m \u001b[0;34m**\u001b[0m\u001b[0mkwargs\u001b[0m\u001b[0;34m)\u001b[0m\u001b[0;34m\u001b[0m\u001b[0m\n\u001b[0m\u001b[1;32m     94\u001b[0m                 \u001b[0;32mexcept\u001b[0m \u001b[0mTypeError\u001b[0m\u001b[0;34m:\u001b[0m\u001b[0;34m\u001b[0m\u001b[0m\n",
      "\u001b[0;32m/Library/Frameworks/Python.framework/Versions/3.6/lib/python3.6/site-packages/sympy/core/basic.py\u001b[0m in \u001b[0;36m_subs\u001b[0;34m(self, old, new, **hints)\u001b[0m\n\u001b[1;32m   1029\u001b[0m         \u001b[0;32mif\u001b[0m \u001b[0mrv\u001b[0m \u001b[0;32mis\u001b[0m \u001b[0;32mNone\u001b[0m\u001b[0;34m:\u001b[0m\u001b[0;34m\u001b[0m\u001b[0m\n\u001b[0;32m-> 1030\u001b[0;31m             \u001b[0mrv\u001b[0m \u001b[0;34m=\u001b[0m \u001b[0mfallback\u001b[0m\u001b[0;34m(\u001b[0m\u001b[0mself\u001b[0m\u001b[0;34m,\u001b[0m \u001b[0mold\u001b[0m\u001b[0;34m,\u001b[0m \u001b[0mnew\u001b[0m\u001b[0;34m)\u001b[0m\u001b[0;34m\u001b[0m\u001b[0m\n\u001b[0m\u001b[1;32m   1031\u001b[0m         \u001b[0;32mreturn\u001b[0m \u001b[0mrv\u001b[0m\u001b[0;34m\u001b[0m\u001b[0m\n",
      "\u001b[0;32m/Library/Frameworks/Python.framework/Versions/3.6/lib/python3.6/site-packages/sympy/core/basic.py\u001b[0m in \u001b[0;36mfallback\u001b[0;34m(self, old, new)\u001b[0m\n\u001b[1;32m   1001\u001b[0m                     \u001b[0;32mcontinue\u001b[0m\u001b[0;34m\u001b[0m\u001b[0m\n\u001b[0;32m-> 1002\u001b[0;31m                 \u001b[0marg\u001b[0m \u001b[0;34m=\u001b[0m \u001b[0marg\u001b[0m\u001b[0;34m.\u001b[0m\u001b[0m_subs\u001b[0m\u001b[0;34m(\u001b[0m\u001b[0mold\u001b[0m\u001b[0;34m,\u001b[0m \u001b[0mnew\u001b[0m\u001b[0;34m,\u001b[0m \u001b[0;34m**\u001b[0m\u001b[0mhints\u001b[0m\u001b[0;34m)\u001b[0m\u001b[0;34m\u001b[0m\u001b[0m\n\u001b[0m\u001b[1;32m   1003\u001b[0m                 \u001b[0;32mif\u001b[0m \u001b[0;32mnot\u001b[0m \u001b[0m_aresame\u001b[0m\u001b[0;34m(\u001b[0m\u001b[0marg\u001b[0m\u001b[0;34m,\u001b[0m \u001b[0margs\u001b[0m\u001b[0;34m[\u001b[0m\u001b[0mi\u001b[0m\u001b[0;34m]\u001b[0m\u001b[0;34m)\u001b[0m\u001b[0;34m:\u001b[0m\u001b[0;34m\u001b[0m\u001b[0m\n",
      "\u001b[0;32m/Library/Frameworks/Python.framework/Versions/3.6/lib/python3.6/site-packages/sympy/core/cache.py\u001b[0m in \u001b[0;36mwrapper\u001b[0;34m(*args, **kwargs)\u001b[0m\n\u001b[1;32m     94\u001b[0m                 \u001b[0;32mexcept\u001b[0m \u001b[0mTypeError\u001b[0m\u001b[0;34m:\u001b[0m\u001b[0;34m\u001b[0m\u001b[0m\n\u001b[0;32m---> 95\u001b[0;31m                     \u001b[0mretval\u001b[0m \u001b[0;34m=\u001b[0m \u001b[0mfunc\u001b[0m\u001b[0;34m(\u001b[0m\u001b[0;34m*\u001b[0m\u001b[0margs\u001b[0m\u001b[0;34m,\u001b[0m \u001b[0;34m**\u001b[0m\u001b[0mkwargs\u001b[0m\u001b[0;34m)\u001b[0m\u001b[0;34m\u001b[0m\u001b[0m\n\u001b[0m\u001b[1;32m     96\u001b[0m                 \u001b[0;32mreturn\u001b[0m \u001b[0mretval\u001b[0m\u001b[0;34m\u001b[0m\u001b[0m\n",
      "\u001b[0;32m/Library/Frameworks/Python.framework/Versions/3.6/lib/python3.6/site-packages/sympy/core/basic.py\u001b[0m in \u001b[0;36m_subs\u001b[0;34m(self, old, new, **hints)\u001b[0m\n\u001b[1;32m   1027\u001b[0m \u001b[0;34m\u001b[0m\u001b[0m\n\u001b[0;32m-> 1028\u001b[0;31m         \u001b[0mrv\u001b[0m \u001b[0;34m=\u001b[0m \u001b[0mself\u001b[0m\u001b[0;34m.\u001b[0m\u001b[0m_eval_subs\u001b[0m\u001b[0;34m(\u001b[0m\u001b[0mold\u001b[0m\u001b[0;34m,\u001b[0m \u001b[0mnew\u001b[0m\u001b[0;34m)\u001b[0m\u001b[0;34m\u001b[0m\u001b[0m\n\u001b[0m\u001b[1;32m   1029\u001b[0m         \u001b[0;32mif\u001b[0m \u001b[0mrv\u001b[0m \u001b[0;32mis\u001b[0m \u001b[0;32mNone\u001b[0m\u001b[0;34m:\u001b[0m\u001b[0;34m\u001b[0m\u001b[0m\n",
      "\u001b[0;32m/Library/Frameworks/Python.framework/Versions/3.6/lib/python3.6/site-packages/sympy/concrete/expr_with_limits.py\u001b[0m in \u001b[0;36m_eval_subs\u001b[0;34m(self, old, new)\u001b[0m\n\u001b[1;32m    313\u001b[0m                 \u001b[0mlimits\u001b[0m\u001b[0;34m[\u001b[0m\u001b[0mi\u001b[0m\u001b[0;34m]\u001b[0m \u001b[0;34m=\u001b[0m \u001b[0mTuple\u001b[0m\u001b[0;34m(\u001b[0m\u001b[0mxab\u001b[0m\u001b[0;34m[\u001b[0m\u001b[0;36m0\u001b[0m\u001b[0;34m]\u001b[0m\u001b[0;34m,\u001b[0m \u001b[0;34m*\u001b[0m\u001b[0;34m[\u001b[0m\u001b[0ml\u001b[0m\u001b[0;34m.\u001b[0m\u001b[0m_subs\u001b[0m\u001b[0;34m(\u001b[0m\u001b[0mold\u001b[0m\u001b[0;34m,\u001b[0m \u001b[0mnew\u001b[0m\u001b[0;34m)\u001b[0m \u001b[0;32mfor\u001b[0m \u001b[0ml\u001b[0m \u001b[0;32min\u001b[0m \u001b[0mxab\u001b[0m\u001b[0;34m[\u001b[0m\u001b[0;36m1\u001b[0m\u001b[0;34m:\u001b[0m\u001b[0;34m]\u001b[0m\u001b[0;34m]\u001b[0m\u001b[0;34m)\u001b[0m\u001b[0;34m\u001b[0m\u001b[0m\n\u001b[0;32m--> 314\u001b[0;31m                 \u001b[0;32mif\u001b[0m \u001b[0mlen\u001b[0m\u001b[0;34m(\u001b[0m\u001b[0mxab\u001b[0m\u001b[0;34m[\u001b[0m\u001b[0;36m0\u001b[0m\u001b[0;34m]\u001b[0m\u001b[0;34m.\u001b[0m\u001b[0mfree_symbols\u001b[0m\u001b[0;34m.\u001b[0m\u001b[0mintersection\u001b[0m\u001b[0;34m(\u001b[0m\u001b[0mold\u001b[0m\u001b[0;34m.\u001b[0m\u001b[0mfree_symbols\u001b[0m\u001b[0;34m)\u001b[0m\u001b[0;34m)\u001b[0m \u001b[0;34m!=\u001b[0m \u001b[0;36m0\u001b[0m\u001b[0;34m:\u001b[0m\u001b[0;34m\u001b[0m\u001b[0m\n\u001b[0m\u001b[1;32m    315\u001b[0m                     \u001b[0msub_into_func\u001b[0m \u001b[0;34m=\u001b[0m \u001b[0;32mFalse\u001b[0m\u001b[0;34m\u001b[0m\u001b[0m\n",
      "\u001b[0;31mTypeError\u001b[0m: 'property' object is not iterable",
      "\nDuring handling of the above exception, another exception occurred:\n",
      "\u001b[0;31mTypeError\u001b[0m                                 Traceback (most recent call last)",
      "\u001b[0;32m/Library/Frameworks/Python.framework/Versions/3.6/lib/python3.6/site-packages/sympy/core/cache.py\u001b[0m in \u001b[0;36mwrapper\u001b[0;34m(*args, **kwargs)\u001b[0m\n\u001b[1;32m     92\u001b[0m                 \u001b[0;32mtry\u001b[0m\u001b[0;34m:\u001b[0m\u001b[0;34m\u001b[0m\u001b[0m\n\u001b[0;32m---> 93\u001b[0;31m                     \u001b[0mretval\u001b[0m \u001b[0;34m=\u001b[0m \u001b[0mcfunc\u001b[0m\u001b[0;34m(\u001b[0m\u001b[0;34m*\u001b[0m\u001b[0margs\u001b[0m\u001b[0;34m,\u001b[0m \u001b[0;34m**\u001b[0m\u001b[0mkwargs\u001b[0m\u001b[0;34m)\u001b[0m\u001b[0;34m\u001b[0m\u001b[0m\n\u001b[0m\u001b[1;32m     94\u001b[0m                 \u001b[0;32mexcept\u001b[0m \u001b[0mTypeError\u001b[0m\u001b[0;34m:\u001b[0m\u001b[0;34m\u001b[0m\u001b[0m\n",
      "\u001b[0;32m/Library/Frameworks/Python.framework/Versions/3.6/lib/python3.6/site-packages/sympy/core/basic.py\u001b[0m in \u001b[0;36m_subs\u001b[0;34m(self, old, new, **hints)\u001b[0m\n\u001b[1;32m   1027\u001b[0m \u001b[0;34m\u001b[0m\u001b[0m\n\u001b[0;32m-> 1028\u001b[0;31m         \u001b[0mrv\u001b[0m \u001b[0;34m=\u001b[0m \u001b[0mself\u001b[0m\u001b[0;34m.\u001b[0m\u001b[0m_eval_subs\u001b[0m\u001b[0;34m(\u001b[0m\u001b[0mold\u001b[0m\u001b[0;34m,\u001b[0m \u001b[0mnew\u001b[0m\u001b[0;34m)\u001b[0m\u001b[0;34m\u001b[0m\u001b[0m\n\u001b[0m\u001b[1;32m   1029\u001b[0m         \u001b[0;32mif\u001b[0m \u001b[0mrv\u001b[0m \u001b[0;32mis\u001b[0m \u001b[0;32mNone\u001b[0m\u001b[0;34m:\u001b[0m\u001b[0;34m\u001b[0m\u001b[0m\n",
      "\u001b[0;32m/Library/Frameworks/Python.framework/Versions/3.6/lib/python3.6/site-packages/sympy/concrete/expr_with_limits.py\u001b[0m in \u001b[0;36m_eval_subs\u001b[0;34m(self, old, new)\u001b[0m\n\u001b[1;32m    313\u001b[0m                 \u001b[0mlimits\u001b[0m\u001b[0;34m[\u001b[0m\u001b[0mi\u001b[0m\u001b[0;34m]\u001b[0m \u001b[0;34m=\u001b[0m \u001b[0mTuple\u001b[0m\u001b[0;34m(\u001b[0m\u001b[0mxab\u001b[0m\u001b[0;34m[\u001b[0m\u001b[0;36m0\u001b[0m\u001b[0;34m]\u001b[0m\u001b[0;34m,\u001b[0m \u001b[0;34m*\u001b[0m\u001b[0;34m[\u001b[0m\u001b[0ml\u001b[0m\u001b[0;34m.\u001b[0m\u001b[0m_subs\u001b[0m\u001b[0;34m(\u001b[0m\u001b[0mold\u001b[0m\u001b[0;34m,\u001b[0m \u001b[0mnew\u001b[0m\u001b[0;34m)\u001b[0m \u001b[0;32mfor\u001b[0m \u001b[0ml\u001b[0m \u001b[0;32min\u001b[0m \u001b[0mxab\u001b[0m\u001b[0;34m[\u001b[0m\u001b[0;36m1\u001b[0m\u001b[0;34m:\u001b[0m\u001b[0;34m]\u001b[0m\u001b[0;34m]\u001b[0m\u001b[0;34m)\u001b[0m\u001b[0;34m\u001b[0m\u001b[0m\n\u001b[0;32m--> 314\u001b[0;31m                 \u001b[0;32mif\u001b[0m \u001b[0mlen\u001b[0m\u001b[0;34m(\u001b[0m\u001b[0mxab\u001b[0m\u001b[0;34m[\u001b[0m\u001b[0;36m0\u001b[0m\u001b[0;34m]\u001b[0m\u001b[0;34m.\u001b[0m\u001b[0mfree_symbols\u001b[0m\u001b[0;34m.\u001b[0m\u001b[0mintersection\u001b[0m\u001b[0;34m(\u001b[0m\u001b[0mold\u001b[0m\u001b[0;34m.\u001b[0m\u001b[0mfree_symbols\u001b[0m\u001b[0;34m)\u001b[0m\u001b[0;34m)\u001b[0m \u001b[0;34m!=\u001b[0m \u001b[0;36m0\u001b[0m\u001b[0;34m:\u001b[0m\u001b[0;34m\u001b[0m\u001b[0m\n\u001b[0m\u001b[1;32m    315\u001b[0m                     \u001b[0msub_into_func\u001b[0m \u001b[0;34m=\u001b[0m \u001b[0;32mFalse\u001b[0m\u001b[0;34m\u001b[0m\u001b[0m\n",
      "\u001b[0;31mTypeError\u001b[0m: 'property' object is not iterable",
      "\nDuring handling of the above exception, another exception occurred:\n",
      "\u001b[0;31mTypeError\u001b[0m                                 Traceback (most recent call last)",
      "\u001b[0;32m/Library/Frameworks/Python.framework/Versions/3.6/lib/python3.6/site-packages/sympy/core/cache.py\u001b[0m in \u001b[0;36mwrapper\u001b[0;34m(*args, **kwargs)\u001b[0m\n\u001b[1;32m     92\u001b[0m                 \u001b[0;32mtry\u001b[0m\u001b[0;34m:\u001b[0m\u001b[0;34m\u001b[0m\u001b[0m\n\u001b[0;32m---> 93\u001b[0;31m                     \u001b[0mretval\u001b[0m \u001b[0;34m=\u001b[0m \u001b[0mcfunc\u001b[0m\u001b[0;34m(\u001b[0m\u001b[0;34m*\u001b[0m\u001b[0margs\u001b[0m\u001b[0;34m,\u001b[0m \u001b[0;34m**\u001b[0m\u001b[0mkwargs\u001b[0m\u001b[0;34m)\u001b[0m\u001b[0;34m\u001b[0m\u001b[0m\n\u001b[0m\u001b[1;32m     94\u001b[0m                 \u001b[0;32mexcept\u001b[0m \u001b[0mTypeError\u001b[0m\u001b[0;34m:\u001b[0m\u001b[0;34m\u001b[0m\u001b[0m\n",
      "\u001b[0;32m/Library/Frameworks/Python.framework/Versions/3.6/lib/python3.6/site-packages/sympy/core/basic.py\u001b[0m in \u001b[0;36m_subs\u001b[0;34m(self, old, new, **hints)\u001b[0m\n\u001b[1;32m   1029\u001b[0m         \u001b[0;32mif\u001b[0m \u001b[0mrv\u001b[0m \u001b[0;32mis\u001b[0m \u001b[0;32mNone\u001b[0m\u001b[0;34m:\u001b[0m\u001b[0;34m\u001b[0m\u001b[0m\n\u001b[0;32m-> 1030\u001b[0;31m             \u001b[0mrv\u001b[0m \u001b[0;34m=\u001b[0m \u001b[0mfallback\u001b[0m\u001b[0;34m(\u001b[0m\u001b[0mself\u001b[0m\u001b[0;34m,\u001b[0m \u001b[0mold\u001b[0m\u001b[0;34m,\u001b[0m \u001b[0mnew\u001b[0m\u001b[0;34m)\u001b[0m\u001b[0;34m\u001b[0m\u001b[0m\n\u001b[0m\u001b[1;32m   1031\u001b[0m         \u001b[0;32mreturn\u001b[0m \u001b[0mrv\u001b[0m\u001b[0;34m\u001b[0m\u001b[0m\n",
      "\u001b[0;32m/Library/Frameworks/Python.framework/Versions/3.6/lib/python3.6/site-packages/sympy/core/basic.py\u001b[0m in \u001b[0;36mfallback\u001b[0;34m(self, old, new)\u001b[0m\n\u001b[1;32m   1001\u001b[0m                     \u001b[0;32mcontinue\u001b[0m\u001b[0;34m\u001b[0m\u001b[0m\n\u001b[0;32m-> 1002\u001b[0;31m                 \u001b[0marg\u001b[0m \u001b[0;34m=\u001b[0m \u001b[0marg\u001b[0m\u001b[0;34m.\u001b[0m\u001b[0m_subs\u001b[0m\u001b[0;34m(\u001b[0m\u001b[0mold\u001b[0m\u001b[0;34m,\u001b[0m \u001b[0mnew\u001b[0m\u001b[0;34m,\u001b[0m \u001b[0;34m**\u001b[0m\u001b[0mhints\u001b[0m\u001b[0;34m)\u001b[0m\u001b[0;34m\u001b[0m\u001b[0m\n\u001b[0m\u001b[1;32m   1003\u001b[0m                 \u001b[0;32mif\u001b[0m \u001b[0;32mnot\u001b[0m \u001b[0m_aresame\u001b[0m\u001b[0;34m(\u001b[0m\u001b[0marg\u001b[0m\u001b[0;34m,\u001b[0m \u001b[0margs\u001b[0m\u001b[0;34m[\u001b[0m\u001b[0mi\u001b[0m\u001b[0;34m]\u001b[0m\u001b[0;34m)\u001b[0m\u001b[0;34m:\u001b[0m\u001b[0;34m\u001b[0m\u001b[0m\n",
      "\u001b[0;32m/Library/Frameworks/Python.framework/Versions/3.6/lib/python3.6/site-packages/sympy/core/cache.py\u001b[0m in \u001b[0;36mwrapper\u001b[0;34m(*args, **kwargs)\u001b[0m\n\u001b[1;32m     94\u001b[0m                 \u001b[0;32mexcept\u001b[0m \u001b[0mTypeError\u001b[0m\u001b[0;34m:\u001b[0m\u001b[0;34m\u001b[0m\u001b[0m\n\u001b[0;32m---> 95\u001b[0;31m                     \u001b[0mretval\u001b[0m \u001b[0;34m=\u001b[0m \u001b[0mfunc\u001b[0m\u001b[0;34m(\u001b[0m\u001b[0;34m*\u001b[0m\u001b[0margs\u001b[0m\u001b[0;34m,\u001b[0m \u001b[0;34m**\u001b[0m\u001b[0mkwargs\u001b[0m\u001b[0;34m)\u001b[0m\u001b[0;34m\u001b[0m\u001b[0m\n\u001b[0m\u001b[1;32m     96\u001b[0m                 \u001b[0;32mreturn\u001b[0m \u001b[0mretval\u001b[0m\u001b[0;34m\u001b[0m\u001b[0m\n",
      "\u001b[0;32m/Library/Frameworks/Python.framework/Versions/3.6/lib/python3.6/site-packages/sympy/core/basic.py\u001b[0m in \u001b[0;36m_subs\u001b[0;34m(self, old, new, **hints)\u001b[0m\n\u001b[1;32m   1029\u001b[0m         \u001b[0;32mif\u001b[0m \u001b[0mrv\u001b[0m \u001b[0;32mis\u001b[0m \u001b[0;32mNone\u001b[0m\u001b[0;34m:\u001b[0m\u001b[0;34m\u001b[0m\u001b[0m\n\u001b[0;32m-> 1030\u001b[0;31m             \u001b[0mrv\u001b[0m \u001b[0;34m=\u001b[0m \u001b[0mfallback\u001b[0m\u001b[0;34m(\u001b[0m\u001b[0mself\u001b[0m\u001b[0;34m,\u001b[0m \u001b[0mold\u001b[0m\u001b[0;34m,\u001b[0m \u001b[0mnew\u001b[0m\u001b[0;34m)\u001b[0m\u001b[0;34m\u001b[0m\u001b[0m\n\u001b[0m\u001b[1;32m   1031\u001b[0m         \u001b[0;32mreturn\u001b[0m \u001b[0mrv\u001b[0m\u001b[0;34m\u001b[0m\u001b[0m\n",
      "\u001b[0;32m/Library/Frameworks/Python.framework/Versions/3.6/lib/python3.6/site-packages/sympy/core/basic.py\u001b[0m in \u001b[0;36mfallback\u001b[0;34m(self, old, new)\u001b[0m\n\u001b[1;32m   1001\u001b[0m                     \u001b[0;32mcontinue\u001b[0m\u001b[0;34m\u001b[0m\u001b[0m\n\u001b[0;32m-> 1002\u001b[0;31m                 \u001b[0marg\u001b[0m \u001b[0;34m=\u001b[0m \u001b[0marg\u001b[0m\u001b[0;34m.\u001b[0m\u001b[0m_subs\u001b[0m\u001b[0;34m(\u001b[0m\u001b[0mold\u001b[0m\u001b[0;34m,\u001b[0m \u001b[0mnew\u001b[0m\u001b[0;34m,\u001b[0m \u001b[0;34m**\u001b[0m\u001b[0mhints\u001b[0m\u001b[0;34m)\u001b[0m\u001b[0;34m\u001b[0m\u001b[0m\n\u001b[0m\u001b[1;32m   1003\u001b[0m                 \u001b[0;32mif\u001b[0m \u001b[0;32mnot\u001b[0m \u001b[0m_aresame\u001b[0m\u001b[0;34m(\u001b[0m\u001b[0marg\u001b[0m\u001b[0;34m,\u001b[0m \u001b[0margs\u001b[0m\u001b[0;34m[\u001b[0m\u001b[0mi\u001b[0m\u001b[0;34m]\u001b[0m\u001b[0;34m)\u001b[0m\u001b[0;34m:\u001b[0m\u001b[0;34m\u001b[0m\u001b[0m\n",
      "\u001b[0;32m/Library/Frameworks/Python.framework/Versions/3.6/lib/python3.6/site-packages/sympy/core/cache.py\u001b[0m in \u001b[0;36mwrapper\u001b[0;34m(*args, **kwargs)\u001b[0m\n\u001b[1;32m     94\u001b[0m                 \u001b[0;32mexcept\u001b[0m \u001b[0mTypeError\u001b[0m\u001b[0;34m:\u001b[0m\u001b[0;34m\u001b[0m\u001b[0m\n\u001b[0;32m---> 95\u001b[0;31m                     \u001b[0mretval\u001b[0m \u001b[0;34m=\u001b[0m \u001b[0mfunc\u001b[0m\u001b[0;34m(\u001b[0m\u001b[0;34m*\u001b[0m\u001b[0margs\u001b[0m\u001b[0;34m,\u001b[0m \u001b[0;34m**\u001b[0m\u001b[0mkwargs\u001b[0m\u001b[0;34m)\u001b[0m\u001b[0;34m\u001b[0m\u001b[0m\n\u001b[0m\u001b[1;32m     96\u001b[0m                 \u001b[0;32mreturn\u001b[0m \u001b[0mretval\u001b[0m\u001b[0;34m\u001b[0m\u001b[0m\n",
      "\u001b[0;32m/Library/Frameworks/Python.framework/Versions/3.6/lib/python3.6/site-packages/sympy/core/basic.py\u001b[0m in \u001b[0;36m_subs\u001b[0;34m(self, old, new, **hints)\u001b[0m\n\u001b[1;32m   1027\u001b[0m \u001b[0;34m\u001b[0m\u001b[0m\n\u001b[0;32m-> 1028\u001b[0;31m         \u001b[0mrv\u001b[0m \u001b[0;34m=\u001b[0m \u001b[0mself\u001b[0m\u001b[0;34m.\u001b[0m\u001b[0m_eval_subs\u001b[0m\u001b[0;34m(\u001b[0m\u001b[0mold\u001b[0m\u001b[0;34m,\u001b[0m \u001b[0mnew\u001b[0m\u001b[0;34m)\u001b[0m\u001b[0;34m\u001b[0m\u001b[0m\n\u001b[0m\u001b[1;32m   1029\u001b[0m         \u001b[0;32mif\u001b[0m \u001b[0mrv\u001b[0m \u001b[0;32mis\u001b[0m \u001b[0;32mNone\u001b[0m\u001b[0;34m:\u001b[0m\u001b[0;34m\u001b[0m\u001b[0m\n",
      "\u001b[0;32m/Library/Frameworks/Python.framework/Versions/3.6/lib/python3.6/site-packages/sympy/concrete/expr_with_limits.py\u001b[0m in \u001b[0;36m_eval_subs\u001b[0;34m(self, old, new)\u001b[0m\n\u001b[1;32m    313\u001b[0m                 \u001b[0mlimits\u001b[0m\u001b[0;34m[\u001b[0m\u001b[0mi\u001b[0m\u001b[0;34m]\u001b[0m \u001b[0;34m=\u001b[0m \u001b[0mTuple\u001b[0m\u001b[0;34m(\u001b[0m\u001b[0mxab\u001b[0m\u001b[0;34m[\u001b[0m\u001b[0;36m0\u001b[0m\u001b[0;34m]\u001b[0m\u001b[0;34m,\u001b[0m \u001b[0;34m*\u001b[0m\u001b[0;34m[\u001b[0m\u001b[0ml\u001b[0m\u001b[0;34m.\u001b[0m\u001b[0m_subs\u001b[0m\u001b[0;34m(\u001b[0m\u001b[0mold\u001b[0m\u001b[0;34m,\u001b[0m \u001b[0mnew\u001b[0m\u001b[0;34m)\u001b[0m \u001b[0;32mfor\u001b[0m \u001b[0ml\u001b[0m \u001b[0;32min\u001b[0m \u001b[0mxab\u001b[0m\u001b[0;34m[\u001b[0m\u001b[0;36m1\u001b[0m\u001b[0;34m:\u001b[0m\u001b[0;34m]\u001b[0m\u001b[0;34m]\u001b[0m\u001b[0;34m)\u001b[0m\u001b[0;34m\u001b[0m\u001b[0m\n\u001b[0;32m--> 314\u001b[0;31m                 \u001b[0;32mif\u001b[0m \u001b[0mlen\u001b[0m\u001b[0;34m(\u001b[0m\u001b[0mxab\u001b[0m\u001b[0;34m[\u001b[0m\u001b[0;36m0\u001b[0m\u001b[0;34m]\u001b[0m\u001b[0;34m.\u001b[0m\u001b[0mfree_symbols\u001b[0m\u001b[0;34m.\u001b[0m\u001b[0mintersection\u001b[0m\u001b[0;34m(\u001b[0m\u001b[0mold\u001b[0m\u001b[0;34m.\u001b[0m\u001b[0mfree_symbols\u001b[0m\u001b[0;34m)\u001b[0m\u001b[0;34m)\u001b[0m \u001b[0;34m!=\u001b[0m \u001b[0;36m0\u001b[0m\u001b[0;34m:\u001b[0m\u001b[0;34m\u001b[0m\u001b[0m\n\u001b[0m\u001b[1;32m    315\u001b[0m                     \u001b[0msub_into_func\u001b[0m \u001b[0;34m=\u001b[0m \u001b[0;32mFalse\u001b[0m\u001b[0;34m\u001b[0m\u001b[0m\n",
      "\u001b[0;31mTypeError\u001b[0m: 'property' object is not iterable",
      "\nDuring handling of the above exception, another exception occurred:\n",
      "\u001b[0;31mTypeError\u001b[0m                                 Traceback (most recent call last)",
      "\u001b[0;32m/Library/Frameworks/Python.framework/Versions/3.6/lib/python3.6/site-packages/sympy/core/cache.py\u001b[0m in \u001b[0;36mwrapper\u001b[0;34m(*args, **kwargs)\u001b[0m\n\u001b[1;32m     92\u001b[0m                 \u001b[0;32mtry\u001b[0m\u001b[0;34m:\u001b[0m\u001b[0;34m\u001b[0m\u001b[0m\n\u001b[0;32m---> 93\u001b[0;31m                     \u001b[0mretval\u001b[0m \u001b[0;34m=\u001b[0m \u001b[0mcfunc\u001b[0m\u001b[0;34m(\u001b[0m\u001b[0;34m*\u001b[0m\u001b[0margs\u001b[0m\u001b[0;34m,\u001b[0m \u001b[0;34m**\u001b[0m\u001b[0mkwargs\u001b[0m\u001b[0;34m)\u001b[0m\u001b[0;34m\u001b[0m\u001b[0m\n\u001b[0m\u001b[1;32m     94\u001b[0m                 \u001b[0;32mexcept\u001b[0m \u001b[0mTypeError\u001b[0m\u001b[0;34m:\u001b[0m\u001b[0;34m\u001b[0m\u001b[0m\n",
      "\u001b[0;32m/Library/Frameworks/Python.framework/Versions/3.6/lib/python3.6/site-packages/sympy/core/basic.py\u001b[0m in \u001b[0;36m_subs\u001b[0;34m(self, old, new, **hints)\u001b[0m\n\u001b[1;32m   1027\u001b[0m \u001b[0;34m\u001b[0m\u001b[0m\n\u001b[0;32m-> 1028\u001b[0;31m         \u001b[0mrv\u001b[0m \u001b[0;34m=\u001b[0m \u001b[0mself\u001b[0m\u001b[0;34m.\u001b[0m\u001b[0m_eval_subs\u001b[0m\u001b[0;34m(\u001b[0m\u001b[0mold\u001b[0m\u001b[0;34m,\u001b[0m \u001b[0mnew\u001b[0m\u001b[0;34m)\u001b[0m\u001b[0;34m\u001b[0m\u001b[0m\n\u001b[0m\u001b[1;32m   1029\u001b[0m         \u001b[0;32mif\u001b[0m \u001b[0mrv\u001b[0m \u001b[0;32mis\u001b[0m \u001b[0;32mNone\u001b[0m\u001b[0;34m:\u001b[0m\u001b[0;34m\u001b[0m\u001b[0m\n",
      "\u001b[0;32m/Library/Frameworks/Python.framework/Versions/3.6/lib/python3.6/site-packages/sympy/concrete/expr_with_limits.py\u001b[0m in \u001b[0;36m_eval_subs\u001b[0;34m(self, old, new)\u001b[0m\n\u001b[1;32m    313\u001b[0m                 \u001b[0mlimits\u001b[0m\u001b[0;34m[\u001b[0m\u001b[0mi\u001b[0m\u001b[0;34m]\u001b[0m \u001b[0;34m=\u001b[0m \u001b[0mTuple\u001b[0m\u001b[0;34m(\u001b[0m\u001b[0mxab\u001b[0m\u001b[0;34m[\u001b[0m\u001b[0;36m0\u001b[0m\u001b[0;34m]\u001b[0m\u001b[0;34m,\u001b[0m \u001b[0;34m*\u001b[0m\u001b[0;34m[\u001b[0m\u001b[0ml\u001b[0m\u001b[0;34m.\u001b[0m\u001b[0m_subs\u001b[0m\u001b[0;34m(\u001b[0m\u001b[0mold\u001b[0m\u001b[0;34m,\u001b[0m \u001b[0mnew\u001b[0m\u001b[0;34m)\u001b[0m \u001b[0;32mfor\u001b[0m \u001b[0ml\u001b[0m \u001b[0;32min\u001b[0m \u001b[0mxab\u001b[0m\u001b[0;34m[\u001b[0m\u001b[0;36m1\u001b[0m\u001b[0;34m:\u001b[0m\u001b[0;34m]\u001b[0m\u001b[0;34m]\u001b[0m\u001b[0;34m)\u001b[0m\u001b[0;34m\u001b[0m\u001b[0m\n\u001b[0;32m--> 314\u001b[0;31m                 \u001b[0;32mif\u001b[0m \u001b[0mlen\u001b[0m\u001b[0;34m(\u001b[0m\u001b[0mxab\u001b[0m\u001b[0;34m[\u001b[0m\u001b[0;36m0\u001b[0m\u001b[0;34m]\u001b[0m\u001b[0;34m.\u001b[0m\u001b[0mfree_symbols\u001b[0m\u001b[0;34m.\u001b[0m\u001b[0mintersection\u001b[0m\u001b[0;34m(\u001b[0m\u001b[0mold\u001b[0m\u001b[0;34m.\u001b[0m\u001b[0mfree_symbols\u001b[0m\u001b[0;34m)\u001b[0m\u001b[0;34m)\u001b[0m \u001b[0;34m!=\u001b[0m \u001b[0;36m0\u001b[0m\u001b[0;34m:\u001b[0m\u001b[0;34m\u001b[0m\u001b[0m\n\u001b[0m\u001b[1;32m    315\u001b[0m                     \u001b[0msub_into_func\u001b[0m \u001b[0;34m=\u001b[0m \u001b[0;32mFalse\u001b[0m\u001b[0;34m\u001b[0m\u001b[0m\n",
      "\u001b[0;31mTypeError\u001b[0m: 'property' object is not iterable",
      "\nDuring handling of the above exception, another exception occurred:\n",
      "\u001b[0;31mTypeError\u001b[0m                                 Traceback (most recent call last)",
      "\u001b[0;32m/Library/Frameworks/Python.framework/Versions/3.6/lib/python3.6/site-packages/sympy/core/cache.py\u001b[0m in \u001b[0;36mwrapper\u001b[0;34m(*args, **kwargs)\u001b[0m\n\u001b[1;32m     92\u001b[0m                 \u001b[0;32mtry\u001b[0m\u001b[0;34m:\u001b[0m\u001b[0;34m\u001b[0m\u001b[0m\n\u001b[0;32m---> 93\u001b[0;31m                     \u001b[0mretval\u001b[0m \u001b[0;34m=\u001b[0m \u001b[0mcfunc\u001b[0m\u001b[0;34m(\u001b[0m\u001b[0;34m*\u001b[0m\u001b[0margs\u001b[0m\u001b[0;34m,\u001b[0m \u001b[0;34m**\u001b[0m\u001b[0mkwargs\u001b[0m\u001b[0;34m)\u001b[0m\u001b[0;34m\u001b[0m\u001b[0m\n\u001b[0m\u001b[1;32m     94\u001b[0m                 \u001b[0;32mexcept\u001b[0m \u001b[0mTypeError\u001b[0m\u001b[0;34m:\u001b[0m\u001b[0;34m\u001b[0m\u001b[0m\n",
      "\u001b[0;32m/Library/Frameworks/Python.framework/Versions/3.6/lib/python3.6/site-packages/sympy/core/basic.py\u001b[0m in \u001b[0;36m_subs\u001b[0;34m(self, old, new, **hints)\u001b[0m\n\u001b[1;32m   1029\u001b[0m         \u001b[0;32mif\u001b[0m \u001b[0mrv\u001b[0m \u001b[0;32mis\u001b[0m \u001b[0;32mNone\u001b[0m\u001b[0;34m:\u001b[0m\u001b[0;34m\u001b[0m\u001b[0m\n\u001b[0;32m-> 1030\u001b[0;31m             \u001b[0mrv\u001b[0m \u001b[0;34m=\u001b[0m \u001b[0mfallback\u001b[0m\u001b[0;34m(\u001b[0m\u001b[0mself\u001b[0m\u001b[0;34m,\u001b[0m \u001b[0mold\u001b[0m\u001b[0;34m,\u001b[0m \u001b[0mnew\u001b[0m\u001b[0;34m)\u001b[0m\u001b[0;34m\u001b[0m\u001b[0m\n\u001b[0m\u001b[1;32m   1031\u001b[0m         \u001b[0;32mreturn\u001b[0m \u001b[0mrv\u001b[0m\u001b[0;34m\u001b[0m\u001b[0m\n",
      "\u001b[0;32m/Library/Frameworks/Python.framework/Versions/3.6/lib/python3.6/site-packages/sympy/core/basic.py\u001b[0m in \u001b[0;36mfallback\u001b[0;34m(self, old, new)\u001b[0m\n\u001b[1;32m   1001\u001b[0m                     \u001b[0;32mcontinue\u001b[0m\u001b[0;34m\u001b[0m\u001b[0m\n\u001b[0;32m-> 1002\u001b[0;31m                 \u001b[0marg\u001b[0m \u001b[0;34m=\u001b[0m \u001b[0marg\u001b[0m\u001b[0;34m.\u001b[0m\u001b[0m_subs\u001b[0m\u001b[0;34m(\u001b[0m\u001b[0mold\u001b[0m\u001b[0;34m,\u001b[0m \u001b[0mnew\u001b[0m\u001b[0;34m,\u001b[0m \u001b[0;34m**\u001b[0m\u001b[0mhints\u001b[0m\u001b[0;34m)\u001b[0m\u001b[0;34m\u001b[0m\u001b[0m\n\u001b[0m\u001b[1;32m   1003\u001b[0m                 \u001b[0;32mif\u001b[0m \u001b[0;32mnot\u001b[0m \u001b[0m_aresame\u001b[0m\u001b[0;34m(\u001b[0m\u001b[0marg\u001b[0m\u001b[0;34m,\u001b[0m \u001b[0margs\u001b[0m\u001b[0;34m[\u001b[0m\u001b[0mi\u001b[0m\u001b[0;34m]\u001b[0m\u001b[0;34m)\u001b[0m\u001b[0;34m:\u001b[0m\u001b[0;34m\u001b[0m\u001b[0m\n",
      "\u001b[0;32m/Library/Frameworks/Python.framework/Versions/3.6/lib/python3.6/site-packages/sympy/core/cache.py\u001b[0m in \u001b[0;36mwrapper\u001b[0;34m(*args, **kwargs)\u001b[0m\n\u001b[1;32m     94\u001b[0m                 \u001b[0;32mexcept\u001b[0m \u001b[0mTypeError\u001b[0m\u001b[0;34m:\u001b[0m\u001b[0;34m\u001b[0m\u001b[0m\n\u001b[0;32m---> 95\u001b[0;31m                     \u001b[0mretval\u001b[0m \u001b[0;34m=\u001b[0m \u001b[0mfunc\u001b[0m\u001b[0;34m(\u001b[0m\u001b[0;34m*\u001b[0m\u001b[0margs\u001b[0m\u001b[0;34m,\u001b[0m \u001b[0;34m**\u001b[0m\u001b[0mkwargs\u001b[0m\u001b[0;34m)\u001b[0m\u001b[0;34m\u001b[0m\u001b[0m\n\u001b[0m\u001b[1;32m     96\u001b[0m                 \u001b[0;32mreturn\u001b[0m \u001b[0mretval\u001b[0m\u001b[0;34m\u001b[0m\u001b[0m\n",
      "\u001b[0;32m/Library/Frameworks/Python.framework/Versions/3.6/lib/python3.6/site-packages/sympy/core/basic.py\u001b[0m in \u001b[0;36m_subs\u001b[0;34m(self, old, new, **hints)\u001b[0m\n\u001b[1;32m   1027\u001b[0m \u001b[0;34m\u001b[0m\u001b[0m\n\u001b[0;32m-> 1028\u001b[0;31m         \u001b[0mrv\u001b[0m \u001b[0;34m=\u001b[0m \u001b[0mself\u001b[0m\u001b[0;34m.\u001b[0m\u001b[0m_eval_subs\u001b[0m\u001b[0;34m(\u001b[0m\u001b[0mold\u001b[0m\u001b[0;34m,\u001b[0m \u001b[0mnew\u001b[0m\u001b[0;34m)\u001b[0m\u001b[0;34m\u001b[0m\u001b[0m\n\u001b[0m\u001b[1;32m   1029\u001b[0m         \u001b[0;32mif\u001b[0m \u001b[0mrv\u001b[0m \u001b[0;32mis\u001b[0m \u001b[0;32mNone\u001b[0m\u001b[0;34m:\u001b[0m\u001b[0;34m\u001b[0m\u001b[0m\n",
      "\u001b[0;32m/Library/Frameworks/Python.framework/Versions/3.6/lib/python3.6/site-packages/sympy/concrete/expr_with_limits.py\u001b[0m in \u001b[0;36m_eval_subs\u001b[0;34m(self, old, new)\u001b[0m\n\u001b[1;32m    313\u001b[0m                 \u001b[0mlimits\u001b[0m\u001b[0;34m[\u001b[0m\u001b[0mi\u001b[0m\u001b[0;34m]\u001b[0m \u001b[0;34m=\u001b[0m \u001b[0mTuple\u001b[0m\u001b[0;34m(\u001b[0m\u001b[0mxab\u001b[0m\u001b[0;34m[\u001b[0m\u001b[0;36m0\u001b[0m\u001b[0;34m]\u001b[0m\u001b[0;34m,\u001b[0m \u001b[0;34m*\u001b[0m\u001b[0;34m[\u001b[0m\u001b[0ml\u001b[0m\u001b[0;34m.\u001b[0m\u001b[0m_subs\u001b[0m\u001b[0;34m(\u001b[0m\u001b[0mold\u001b[0m\u001b[0;34m,\u001b[0m \u001b[0mnew\u001b[0m\u001b[0;34m)\u001b[0m \u001b[0;32mfor\u001b[0m \u001b[0ml\u001b[0m \u001b[0;32min\u001b[0m \u001b[0mxab\u001b[0m\u001b[0;34m[\u001b[0m\u001b[0;36m1\u001b[0m\u001b[0;34m:\u001b[0m\u001b[0;34m]\u001b[0m\u001b[0;34m]\u001b[0m\u001b[0;34m)\u001b[0m\u001b[0;34m\u001b[0m\u001b[0m\n\u001b[0;32m--> 314\u001b[0;31m                 \u001b[0;32mif\u001b[0m \u001b[0mlen\u001b[0m\u001b[0;34m(\u001b[0m\u001b[0mxab\u001b[0m\u001b[0;34m[\u001b[0m\u001b[0;36m0\u001b[0m\u001b[0;34m]\u001b[0m\u001b[0;34m.\u001b[0m\u001b[0mfree_symbols\u001b[0m\u001b[0;34m.\u001b[0m\u001b[0mintersection\u001b[0m\u001b[0;34m(\u001b[0m\u001b[0mold\u001b[0m\u001b[0;34m.\u001b[0m\u001b[0mfree_symbols\u001b[0m\u001b[0;34m)\u001b[0m\u001b[0;34m)\u001b[0m \u001b[0;34m!=\u001b[0m \u001b[0;36m0\u001b[0m\u001b[0;34m:\u001b[0m\u001b[0;34m\u001b[0m\u001b[0m\n\u001b[0m\u001b[1;32m    315\u001b[0m                     \u001b[0msub_into_func\u001b[0m \u001b[0;34m=\u001b[0m \u001b[0;32mFalse\u001b[0m\u001b[0;34m\u001b[0m\u001b[0m\n",
      "\u001b[0;31mTypeError\u001b[0m: 'property' object is not iterable",
      "\nDuring handling of the above exception, another exception occurred:\n",
      "\u001b[0;31mTypeError\u001b[0m                                 Traceback (most recent call last)",
      "\u001b[0;32m/Library/Frameworks/Python.framework/Versions/3.6/lib/python3.6/site-packages/sympy/core/cache.py\u001b[0m in \u001b[0;36mwrapper\u001b[0;34m(*args, **kwargs)\u001b[0m\n\u001b[1;32m     92\u001b[0m                 \u001b[0;32mtry\u001b[0m\u001b[0;34m:\u001b[0m\u001b[0;34m\u001b[0m\u001b[0m\n\u001b[0;32m---> 93\u001b[0;31m                     \u001b[0mretval\u001b[0m \u001b[0;34m=\u001b[0m \u001b[0mcfunc\u001b[0m\u001b[0;34m(\u001b[0m\u001b[0;34m*\u001b[0m\u001b[0margs\u001b[0m\u001b[0;34m,\u001b[0m \u001b[0;34m**\u001b[0m\u001b[0mkwargs\u001b[0m\u001b[0;34m)\u001b[0m\u001b[0;34m\u001b[0m\u001b[0m\n\u001b[0m\u001b[1;32m     94\u001b[0m                 \u001b[0;32mexcept\u001b[0m \u001b[0mTypeError\u001b[0m\u001b[0;34m:\u001b[0m\u001b[0;34m\u001b[0m\u001b[0m\n",
      "\u001b[0;32m/Library/Frameworks/Python.framework/Versions/3.6/lib/python3.6/site-packages/sympy/core/basic.py\u001b[0m in \u001b[0;36m_subs\u001b[0;34m(self, old, new, **hints)\u001b[0m\n\u001b[1;32m   1027\u001b[0m \u001b[0;34m\u001b[0m\u001b[0m\n\u001b[0;32m-> 1028\u001b[0;31m         \u001b[0mrv\u001b[0m \u001b[0;34m=\u001b[0m \u001b[0mself\u001b[0m\u001b[0;34m.\u001b[0m\u001b[0m_eval_subs\u001b[0m\u001b[0;34m(\u001b[0m\u001b[0mold\u001b[0m\u001b[0;34m,\u001b[0m \u001b[0mnew\u001b[0m\u001b[0;34m)\u001b[0m\u001b[0;34m\u001b[0m\u001b[0m\n\u001b[0m\u001b[1;32m   1029\u001b[0m         \u001b[0;32mif\u001b[0m \u001b[0mrv\u001b[0m \u001b[0;32mis\u001b[0m \u001b[0;32mNone\u001b[0m\u001b[0;34m:\u001b[0m\u001b[0;34m\u001b[0m\u001b[0m\n",
      "\u001b[0;32m/Library/Frameworks/Python.framework/Versions/3.6/lib/python3.6/site-packages/sympy/concrete/expr_with_limits.py\u001b[0m in \u001b[0;36m_eval_subs\u001b[0;34m(self, old, new)\u001b[0m\n\u001b[1;32m    313\u001b[0m                 \u001b[0mlimits\u001b[0m\u001b[0;34m[\u001b[0m\u001b[0mi\u001b[0m\u001b[0;34m]\u001b[0m \u001b[0;34m=\u001b[0m \u001b[0mTuple\u001b[0m\u001b[0;34m(\u001b[0m\u001b[0mxab\u001b[0m\u001b[0;34m[\u001b[0m\u001b[0;36m0\u001b[0m\u001b[0;34m]\u001b[0m\u001b[0;34m,\u001b[0m \u001b[0;34m*\u001b[0m\u001b[0;34m[\u001b[0m\u001b[0ml\u001b[0m\u001b[0;34m.\u001b[0m\u001b[0m_subs\u001b[0m\u001b[0;34m(\u001b[0m\u001b[0mold\u001b[0m\u001b[0;34m,\u001b[0m \u001b[0mnew\u001b[0m\u001b[0;34m)\u001b[0m \u001b[0;32mfor\u001b[0m \u001b[0ml\u001b[0m \u001b[0;32min\u001b[0m \u001b[0mxab\u001b[0m\u001b[0;34m[\u001b[0m\u001b[0;36m1\u001b[0m\u001b[0;34m:\u001b[0m\u001b[0;34m]\u001b[0m\u001b[0;34m]\u001b[0m\u001b[0;34m)\u001b[0m\u001b[0;34m\u001b[0m\u001b[0m\n\u001b[0;32m--> 314\u001b[0;31m                 \u001b[0;32mif\u001b[0m \u001b[0mlen\u001b[0m\u001b[0;34m(\u001b[0m\u001b[0mxab\u001b[0m\u001b[0;34m[\u001b[0m\u001b[0;36m0\u001b[0m\u001b[0;34m]\u001b[0m\u001b[0;34m.\u001b[0m\u001b[0mfree_symbols\u001b[0m\u001b[0;34m.\u001b[0m\u001b[0mintersection\u001b[0m\u001b[0;34m(\u001b[0m\u001b[0mold\u001b[0m\u001b[0;34m.\u001b[0m\u001b[0mfree_symbols\u001b[0m\u001b[0;34m)\u001b[0m\u001b[0;34m)\u001b[0m \u001b[0;34m!=\u001b[0m \u001b[0;36m0\u001b[0m\u001b[0;34m:\u001b[0m\u001b[0;34m\u001b[0m\u001b[0m\n\u001b[0m\u001b[1;32m    315\u001b[0m                     \u001b[0msub_into_func\u001b[0m \u001b[0;34m=\u001b[0m \u001b[0;32mFalse\u001b[0m\u001b[0;34m\u001b[0m\u001b[0m\n",
      "\u001b[0;31mTypeError\u001b[0m: 'property' object is not iterable",
      "\nDuring handling of the above exception, another exception occurred:\n",
      "\u001b[0;31mTypeError\u001b[0m                                 Traceback (most recent call last)",
      "\u001b[0;32m<ipython-input-109-f2ab9f13588c>\u001b[0m in \u001b[0;36m<module>\u001b[0;34m()\u001b[0m\n\u001b[0;32m----> 1\u001b[0;31m \u001b[0mP_geometric\u001b[0m\u001b[0;34m.\u001b[0m\u001b[0msubs\u001b[0m\u001b[0;34m(\u001b[0m\u001b[0;34m{\u001b[0m\u001b[0mf\u001b[0m\u001b[0;34m:\u001b[0m \u001b[0mLambda\u001b[0m\u001b[0;34m(\u001b[0m\u001b[0mt\u001b[0m\u001b[0;34m,\u001b[0m \u001b[0mexp\u001b[0m\u001b[0;34m(\u001b[0m\u001b[0;34m-\u001b[0m\u001b[0mt\u001b[0m\u001b[0;34m)\u001b[0m\u001b[0;34m)\u001b[0m\u001b[0;34m}\u001b[0m\u001b[0;34m)\u001b[0m\u001b[0;34m\u001b[0m\u001b[0m\n\u001b[0m",
      "\u001b[0;32m/Library/Frameworks/Python.framework/Versions/3.6/lib/python3.6/site-packages/sympy/matrices/common.py\u001b[0m in \u001b[0;36msubs\u001b[0;34m(self, *args, **kwargs)\u001b[0m\n\u001b[1;32m   1802\u001b[0m         \u001b[0mMatrix\u001b[0m\u001b[0;34m(\u001b[0m\u001b[0;34m[\u001b[0m\u001b[0;34m[\u001b[0m\u001b[0mx\u001b[0m\u001b[0;34m]\u001b[0m\u001b[0;34m]\u001b[0m\u001b[0;34m)\u001b[0m\u001b[0;34m\u001b[0m\u001b[0m\n\u001b[1;32m   1803\u001b[0m         \"\"\"\n\u001b[0;32m-> 1804\u001b[0;31m         \u001b[0;32mreturn\u001b[0m \u001b[0mself\u001b[0m\u001b[0;34m.\u001b[0m\u001b[0mapplyfunc\u001b[0m\u001b[0;34m(\u001b[0m\u001b[0;32mlambda\u001b[0m \u001b[0mx\u001b[0m\u001b[0;34m:\u001b[0m \u001b[0mx\u001b[0m\u001b[0;34m.\u001b[0m\u001b[0msubs\u001b[0m\u001b[0;34m(\u001b[0m\u001b[0;34m*\u001b[0m\u001b[0margs\u001b[0m\u001b[0;34m,\u001b[0m \u001b[0;34m**\u001b[0m\u001b[0mkwargs\u001b[0m\u001b[0;34m)\u001b[0m\u001b[0;34m)\u001b[0m\u001b[0;34m\u001b[0m\u001b[0m\n\u001b[0m\u001b[1;32m   1805\u001b[0m \u001b[0;34m\u001b[0m\u001b[0m\n\u001b[1;32m   1806\u001b[0m     \u001b[0;32mdef\u001b[0m \u001b[0mtrace\u001b[0m\u001b[0;34m(\u001b[0m\u001b[0mself\u001b[0m\u001b[0;34m)\u001b[0m\u001b[0;34m:\u001b[0m\u001b[0;34m\u001b[0m\u001b[0m\n",
      "\u001b[0;32m/Library/Frameworks/Python.framework/Versions/3.6/lib/python3.6/site-packages/sympy/matrices/common.py\u001b[0m in \u001b[0;36mapplyfunc\u001b[0;34m(self, f)\u001b[0m\n\u001b[1;32m   1545\u001b[0m             \u001b[0;32mraise\u001b[0m \u001b[0mTypeError\u001b[0m\u001b[0;34m(\u001b[0m\u001b[0;34m\"`f` must be callable.\"\u001b[0m\u001b[0;34m)\u001b[0m\u001b[0;34m\u001b[0m\u001b[0m\n\u001b[1;32m   1546\u001b[0m \u001b[0;34m\u001b[0m\u001b[0m\n\u001b[0;32m-> 1547\u001b[0;31m         \u001b[0;32mreturn\u001b[0m \u001b[0mself\u001b[0m\u001b[0;34m.\u001b[0m\u001b[0m_eval_applyfunc\u001b[0m\u001b[0;34m(\u001b[0m\u001b[0mf\u001b[0m\u001b[0;34m)\u001b[0m\u001b[0;34m\u001b[0m\u001b[0m\n\u001b[0m\u001b[1;32m   1548\u001b[0m \u001b[0;34m\u001b[0m\u001b[0m\n\u001b[1;32m   1549\u001b[0m     \u001b[0;32mdef\u001b[0m \u001b[0mas_real_imag\u001b[0m\u001b[0;34m(\u001b[0m\u001b[0mself\u001b[0m\u001b[0;34m)\u001b[0m\u001b[0;34m:\u001b[0m\u001b[0;34m\u001b[0m\u001b[0m\n",
      "\u001b[0;32m/Library/Frameworks/Python.framework/Versions/3.6/lib/python3.6/site-packages/sympy/matrices/common.py\u001b[0m in \u001b[0;36m_eval_applyfunc\u001b[0;34m(self, f)\u001b[0m\n\u001b[1;32m   1485\u001b[0m \u001b[0;34m\u001b[0m\u001b[0m\n\u001b[1;32m   1486\u001b[0m     \u001b[0;32mdef\u001b[0m \u001b[0m_eval_applyfunc\u001b[0m\u001b[0;34m(\u001b[0m\u001b[0mself\u001b[0m\u001b[0;34m,\u001b[0m \u001b[0mf\u001b[0m\u001b[0;34m)\u001b[0m\u001b[0;34m:\u001b[0m\u001b[0;34m\u001b[0m\u001b[0m\n\u001b[0;32m-> 1487\u001b[0;31m         \u001b[0mout\u001b[0m \u001b[0;34m=\u001b[0m \u001b[0mself\u001b[0m\u001b[0;34m.\u001b[0m\u001b[0m_new\u001b[0m\u001b[0;34m(\u001b[0m\u001b[0mself\u001b[0m\u001b[0;34m.\u001b[0m\u001b[0mrows\u001b[0m\u001b[0;34m,\u001b[0m \u001b[0mself\u001b[0m\u001b[0;34m.\u001b[0m\u001b[0mcols\u001b[0m\u001b[0;34m,\u001b[0m \u001b[0;34m[\u001b[0m\u001b[0mf\u001b[0m\u001b[0;34m(\u001b[0m\u001b[0mx\u001b[0m\u001b[0;34m)\u001b[0m \u001b[0;32mfor\u001b[0m \u001b[0mx\u001b[0m \u001b[0;32min\u001b[0m \u001b[0mself\u001b[0m\u001b[0;34m]\u001b[0m\u001b[0;34m)\u001b[0m\u001b[0;34m\u001b[0m\u001b[0m\n\u001b[0m\u001b[1;32m   1488\u001b[0m         \u001b[0;32mreturn\u001b[0m \u001b[0mout\u001b[0m\u001b[0;34m\u001b[0m\u001b[0m\n\u001b[1;32m   1489\u001b[0m \u001b[0;34m\u001b[0m\u001b[0m\n",
      "\u001b[0;32m/Library/Frameworks/Python.framework/Versions/3.6/lib/python3.6/site-packages/sympy/matrices/common.py\u001b[0m in \u001b[0;36m<listcomp>\u001b[0;34m(.0)\u001b[0m\n\u001b[1;32m   1485\u001b[0m \u001b[0;34m\u001b[0m\u001b[0m\n\u001b[1;32m   1486\u001b[0m     \u001b[0;32mdef\u001b[0m \u001b[0m_eval_applyfunc\u001b[0m\u001b[0;34m(\u001b[0m\u001b[0mself\u001b[0m\u001b[0;34m,\u001b[0m \u001b[0mf\u001b[0m\u001b[0;34m)\u001b[0m\u001b[0;34m:\u001b[0m\u001b[0;34m\u001b[0m\u001b[0m\n\u001b[0;32m-> 1487\u001b[0;31m         \u001b[0mout\u001b[0m \u001b[0;34m=\u001b[0m \u001b[0mself\u001b[0m\u001b[0;34m.\u001b[0m\u001b[0m_new\u001b[0m\u001b[0;34m(\u001b[0m\u001b[0mself\u001b[0m\u001b[0;34m.\u001b[0m\u001b[0mrows\u001b[0m\u001b[0;34m,\u001b[0m \u001b[0mself\u001b[0m\u001b[0;34m.\u001b[0m\u001b[0mcols\u001b[0m\u001b[0;34m,\u001b[0m \u001b[0;34m[\u001b[0m\u001b[0mf\u001b[0m\u001b[0;34m(\u001b[0m\u001b[0mx\u001b[0m\u001b[0;34m)\u001b[0m \u001b[0;32mfor\u001b[0m \u001b[0mx\u001b[0m \u001b[0;32min\u001b[0m \u001b[0mself\u001b[0m\u001b[0;34m]\u001b[0m\u001b[0;34m)\u001b[0m\u001b[0;34m\u001b[0m\u001b[0m\n\u001b[0m\u001b[1;32m   1488\u001b[0m         \u001b[0;32mreturn\u001b[0m \u001b[0mout\u001b[0m\u001b[0;34m\u001b[0m\u001b[0m\n\u001b[1;32m   1489\u001b[0m \u001b[0;34m\u001b[0m\u001b[0m\n",
      "\u001b[0;32m/Library/Frameworks/Python.framework/Versions/3.6/lib/python3.6/site-packages/sympy/matrices/common.py\u001b[0m in \u001b[0;36m<lambda>\u001b[0;34m(x)\u001b[0m\n\u001b[1;32m   1802\u001b[0m         \u001b[0mMatrix\u001b[0m\u001b[0;34m(\u001b[0m\u001b[0;34m[\u001b[0m\u001b[0;34m[\u001b[0m\u001b[0mx\u001b[0m\u001b[0;34m]\u001b[0m\u001b[0;34m]\u001b[0m\u001b[0;34m)\u001b[0m\u001b[0;34m\u001b[0m\u001b[0m\n\u001b[1;32m   1803\u001b[0m         \"\"\"\n\u001b[0;32m-> 1804\u001b[0;31m         \u001b[0;32mreturn\u001b[0m \u001b[0mself\u001b[0m\u001b[0;34m.\u001b[0m\u001b[0mapplyfunc\u001b[0m\u001b[0;34m(\u001b[0m\u001b[0;32mlambda\u001b[0m \u001b[0mx\u001b[0m\u001b[0;34m:\u001b[0m \u001b[0mx\u001b[0m\u001b[0;34m.\u001b[0m\u001b[0msubs\u001b[0m\u001b[0;34m(\u001b[0m\u001b[0;34m*\u001b[0m\u001b[0margs\u001b[0m\u001b[0;34m,\u001b[0m \u001b[0;34m**\u001b[0m\u001b[0mkwargs\u001b[0m\u001b[0;34m)\u001b[0m\u001b[0;34m)\u001b[0m\u001b[0;34m\u001b[0m\u001b[0m\n\u001b[0m\u001b[1;32m   1805\u001b[0m \u001b[0;34m\u001b[0m\u001b[0m\n\u001b[1;32m   1806\u001b[0m     \u001b[0;32mdef\u001b[0m \u001b[0mtrace\u001b[0m\u001b[0;34m(\u001b[0m\u001b[0mself\u001b[0m\u001b[0;34m)\u001b[0m\u001b[0;34m:\u001b[0m\u001b[0;34m\u001b[0m\u001b[0m\n",
      "\u001b[0;32m/Library/Frameworks/Python.framework/Versions/3.6/lib/python3.6/site-packages/sympy/core/basic.py\u001b[0m in \u001b[0;36msubs\u001b[0;34m(self, *args, **kwargs)\u001b[0m\n\u001b[1;32m    914\u001b[0m             \u001b[0mrv\u001b[0m \u001b[0;34m=\u001b[0m \u001b[0mself\u001b[0m\u001b[0;34m\u001b[0m\u001b[0m\n\u001b[1;32m    915\u001b[0m             \u001b[0;32mfor\u001b[0m \u001b[0mold\u001b[0m\u001b[0;34m,\u001b[0m \u001b[0mnew\u001b[0m \u001b[0;32min\u001b[0m \u001b[0msequence\u001b[0m\u001b[0;34m:\u001b[0m\u001b[0;34m\u001b[0m\u001b[0m\n\u001b[0;32m--> 916\u001b[0;31m                 \u001b[0mrv\u001b[0m \u001b[0;34m=\u001b[0m \u001b[0mrv\u001b[0m\u001b[0;34m.\u001b[0m\u001b[0m_subs\u001b[0m\u001b[0;34m(\u001b[0m\u001b[0mold\u001b[0m\u001b[0;34m,\u001b[0m \u001b[0mnew\u001b[0m\u001b[0;34m,\u001b[0m \u001b[0;34m**\u001b[0m\u001b[0mkwargs\u001b[0m\u001b[0;34m)\u001b[0m\u001b[0;34m\u001b[0m\u001b[0m\n\u001b[0m\u001b[1;32m    917\u001b[0m                 \u001b[0;32mif\u001b[0m \u001b[0;32mnot\u001b[0m \u001b[0misinstance\u001b[0m\u001b[0;34m(\u001b[0m\u001b[0mrv\u001b[0m\u001b[0;34m,\u001b[0m \u001b[0mBasic\u001b[0m\u001b[0;34m)\u001b[0m\u001b[0;34m:\u001b[0m\u001b[0;34m\u001b[0m\u001b[0m\n\u001b[1;32m    918\u001b[0m                     \u001b[0;32mbreak\u001b[0m\u001b[0;34m\u001b[0m\u001b[0m\n",
      "\u001b[0;32m/Library/Frameworks/Python.framework/Versions/3.6/lib/python3.6/site-packages/sympy/core/cache.py\u001b[0m in \u001b[0;36mwrapper\u001b[0;34m(*args, **kwargs)\u001b[0m\n\u001b[1;32m     93\u001b[0m                     \u001b[0mretval\u001b[0m \u001b[0;34m=\u001b[0m \u001b[0mcfunc\u001b[0m\u001b[0;34m(\u001b[0m\u001b[0;34m*\u001b[0m\u001b[0margs\u001b[0m\u001b[0;34m,\u001b[0m \u001b[0;34m**\u001b[0m\u001b[0mkwargs\u001b[0m\u001b[0;34m)\u001b[0m\u001b[0;34m\u001b[0m\u001b[0m\n\u001b[1;32m     94\u001b[0m                 \u001b[0;32mexcept\u001b[0m \u001b[0mTypeError\u001b[0m\u001b[0;34m:\u001b[0m\u001b[0;34m\u001b[0m\u001b[0m\n\u001b[0;32m---> 95\u001b[0;31m                     \u001b[0mretval\u001b[0m \u001b[0;34m=\u001b[0m \u001b[0mfunc\u001b[0m\u001b[0;34m(\u001b[0m\u001b[0;34m*\u001b[0m\u001b[0margs\u001b[0m\u001b[0;34m,\u001b[0m \u001b[0;34m**\u001b[0m\u001b[0mkwargs\u001b[0m\u001b[0;34m)\u001b[0m\u001b[0;34m\u001b[0m\u001b[0m\n\u001b[0m\u001b[1;32m     96\u001b[0m                 \u001b[0;32mreturn\u001b[0m \u001b[0mretval\u001b[0m\u001b[0;34m\u001b[0m\u001b[0m\n\u001b[1;32m     97\u001b[0m \u001b[0;34m\u001b[0m\u001b[0m\n",
      "\u001b[0;32m/Library/Frameworks/Python.framework/Versions/3.6/lib/python3.6/site-packages/sympy/core/basic.py\u001b[0m in \u001b[0;36m_subs\u001b[0;34m(self, old, new, **hints)\u001b[0m\n\u001b[1;32m   1028\u001b[0m         \u001b[0mrv\u001b[0m \u001b[0;34m=\u001b[0m \u001b[0mself\u001b[0m\u001b[0;34m.\u001b[0m\u001b[0m_eval_subs\u001b[0m\u001b[0;34m(\u001b[0m\u001b[0mold\u001b[0m\u001b[0;34m,\u001b[0m \u001b[0mnew\u001b[0m\u001b[0;34m)\u001b[0m\u001b[0;34m\u001b[0m\u001b[0m\n\u001b[1;32m   1029\u001b[0m         \u001b[0;32mif\u001b[0m \u001b[0mrv\u001b[0m \u001b[0;32mis\u001b[0m \u001b[0;32mNone\u001b[0m\u001b[0;34m:\u001b[0m\u001b[0;34m\u001b[0m\u001b[0m\n\u001b[0;32m-> 1030\u001b[0;31m             \u001b[0mrv\u001b[0m \u001b[0;34m=\u001b[0m \u001b[0mfallback\u001b[0m\u001b[0;34m(\u001b[0m\u001b[0mself\u001b[0m\u001b[0;34m,\u001b[0m \u001b[0mold\u001b[0m\u001b[0;34m,\u001b[0m \u001b[0mnew\u001b[0m\u001b[0;34m)\u001b[0m\u001b[0;34m\u001b[0m\u001b[0m\n\u001b[0m\u001b[1;32m   1031\u001b[0m         \u001b[0;32mreturn\u001b[0m \u001b[0mrv\u001b[0m\u001b[0;34m\u001b[0m\u001b[0m\n\u001b[1;32m   1032\u001b[0m \u001b[0;34m\u001b[0m\u001b[0m\n",
      "\u001b[0;32m/Library/Frameworks/Python.framework/Versions/3.6/lib/python3.6/site-packages/sympy/core/basic.py\u001b[0m in \u001b[0;36mfallback\u001b[0;34m(self, old, new)\u001b[0m\n\u001b[1;32m   1000\u001b[0m                 \u001b[0;32mif\u001b[0m \u001b[0;32mnot\u001b[0m \u001b[0mhasattr\u001b[0m\u001b[0;34m(\u001b[0m\u001b[0marg\u001b[0m\u001b[0;34m,\u001b[0m \u001b[0;34m'_eval_subs'\u001b[0m\u001b[0;34m)\u001b[0m\u001b[0;34m:\u001b[0m\u001b[0;34m\u001b[0m\u001b[0m\n\u001b[1;32m   1001\u001b[0m                     \u001b[0;32mcontinue\u001b[0m\u001b[0;34m\u001b[0m\u001b[0m\n\u001b[0;32m-> 1002\u001b[0;31m                 \u001b[0marg\u001b[0m \u001b[0;34m=\u001b[0m \u001b[0marg\u001b[0m\u001b[0;34m.\u001b[0m\u001b[0m_subs\u001b[0m\u001b[0;34m(\u001b[0m\u001b[0mold\u001b[0m\u001b[0;34m,\u001b[0m \u001b[0mnew\u001b[0m\u001b[0;34m,\u001b[0m \u001b[0;34m**\u001b[0m\u001b[0mhints\u001b[0m\u001b[0;34m)\u001b[0m\u001b[0;34m\u001b[0m\u001b[0m\n\u001b[0m\u001b[1;32m   1003\u001b[0m                 \u001b[0;32mif\u001b[0m \u001b[0;32mnot\u001b[0m \u001b[0m_aresame\u001b[0m\u001b[0;34m(\u001b[0m\u001b[0marg\u001b[0m\u001b[0;34m,\u001b[0m \u001b[0margs\u001b[0m\u001b[0;34m[\u001b[0m\u001b[0mi\u001b[0m\u001b[0;34m]\u001b[0m\u001b[0;34m)\u001b[0m\u001b[0;34m:\u001b[0m\u001b[0;34m\u001b[0m\u001b[0m\n\u001b[1;32m   1004\u001b[0m                     \u001b[0mhit\u001b[0m \u001b[0;34m=\u001b[0m \u001b[0;32mTrue\u001b[0m\u001b[0;34m\u001b[0m\u001b[0m\n",
      "\u001b[0;32m/Library/Frameworks/Python.framework/Versions/3.6/lib/python3.6/site-packages/sympy/core/cache.py\u001b[0m in \u001b[0;36mwrapper\u001b[0;34m(*args, **kwargs)\u001b[0m\n\u001b[1;32m     93\u001b[0m                     \u001b[0mretval\u001b[0m \u001b[0;34m=\u001b[0m \u001b[0mcfunc\u001b[0m\u001b[0;34m(\u001b[0m\u001b[0;34m*\u001b[0m\u001b[0margs\u001b[0m\u001b[0;34m,\u001b[0m \u001b[0;34m**\u001b[0m\u001b[0mkwargs\u001b[0m\u001b[0;34m)\u001b[0m\u001b[0;34m\u001b[0m\u001b[0m\n\u001b[1;32m     94\u001b[0m                 \u001b[0;32mexcept\u001b[0m \u001b[0mTypeError\u001b[0m\u001b[0;34m:\u001b[0m\u001b[0;34m\u001b[0m\u001b[0m\n\u001b[0;32m---> 95\u001b[0;31m                     \u001b[0mretval\u001b[0m \u001b[0;34m=\u001b[0m \u001b[0mfunc\u001b[0m\u001b[0;34m(\u001b[0m\u001b[0;34m*\u001b[0m\u001b[0margs\u001b[0m\u001b[0;34m,\u001b[0m \u001b[0;34m**\u001b[0m\u001b[0mkwargs\u001b[0m\u001b[0;34m)\u001b[0m\u001b[0;34m\u001b[0m\u001b[0m\n\u001b[0m\u001b[1;32m     96\u001b[0m                 \u001b[0;32mreturn\u001b[0m \u001b[0mretval\u001b[0m\u001b[0;34m\u001b[0m\u001b[0m\n\u001b[1;32m     97\u001b[0m \u001b[0;34m\u001b[0m\u001b[0m\n",
      "\u001b[0;32m/Library/Frameworks/Python.framework/Versions/3.6/lib/python3.6/site-packages/sympy/core/basic.py\u001b[0m in \u001b[0;36m_subs\u001b[0;34m(self, old, new, **hints)\u001b[0m\n\u001b[1;32m   1028\u001b[0m         \u001b[0mrv\u001b[0m \u001b[0;34m=\u001b[0m \u001b[0mself\u001b[0m\u001b[0;34m.\u001b[0m\u001b[0m_eval_subs\u001b[0m\u001b[0;34m(\u001b[0m\u001b[0mold\u001b[0m\u001b[0;34m,\u001b[0m \u001b[0mnew\u001b[0m\u001b[0;34m)\u001b[0m\u001b[0;34m\u001b[0m\u001b[0m\n\u001b[1;32m   1029\u001b[0m         \u001b[0;32mif\u001b[0m \u001b[0mrv\u001b[0m \u001b[0;32mis\u001b[0m \u001b[0;32mNone\u001b[0m\u001b[0;34m:\u001b[0m\u001b[0;34m\u001b[0m\u001b[0m\n\u001b[0;32m-> 1030\u001b[0;31m             \u001b[0mrv\u001b[0m \u001b[0;34m=\u001b[0m \u001b[0mfallback\u001b[0m\u001b[0;34m(\u001b[0m\u001b[0mself\u001b[0m\u001b[0;34m,\u001b[0m \u001b[0mold\u001b[0m\u001b[0;34m,\u001b[0m \u001b[0mnew\u001b[0m\u001b[0;34m)\u001b[0m\u001b[0;34m\u001b[0m\u001b[0m\n\u001b[0m\u001b[1;32m   1031\u001b[0m         \u001b[0;32mreturn\u001b[0m \u001b[0mrv\u001b[0m\u001b[0;34m\u001b[0m\u001b[0m\n\u001b[1;32m   1032\u001b[0m \u001b[0;34m\u001b[0m\u001b[0m\n",
      "\u001b[0;32m/Library/Frameworks/Python.framework/Versions/3.6/lib/python3.6/site-packages/sympy/core/basic.py\u001b[0m in \u001b[0;36mfallback\u001b[0;34m(self, old, new)\u001b[0m\n\u001b[1;32m   1000\u001b[0m                 \u001b[0;32mif\u001b[0m \u001b[0;32mnot\u001b[0m \u001b[0mhasattr\u001b[0m\u001b[0;34m(\u001b[0m\u001b[0marg\u001b[0m\u001b[0;34m,\u001b[0m \u001b[0;34m'_eval_subs'\u001b[0m\u001b[0;34m)\u001b[0m\u001b[0;34m:\u001b[0m\u001b[0;34m\u001b[0m\u001b[0m\n\u001b[1;32m   1001\u001b[0m                     \u001b[0;32mcontinue\u001b[0m\u001b[0;34m\u001b[0m\u001b[0m\n\u001b[0;32m-> 1002\u001b[0;31m                 \u001b[0marg\u001b[0m \u001b[0;34m=\u001b[0m \u001b[0marg\u001b[0m\u001b[0;34m.\u001b[0m\u001b[0m_subs\u001b[0m\u001b[0;34m(\u001b[0m\u001b[0mold\u001b[0m\u001b[0;34m,\u001b[0m \u001b[0mnew\u001b[0m\u001b[0;34m,\u001b[0m \u001b[0;34m**\u001b[0m\u001b[0mhints\u001b[0m\u001b[0;34m)\u001b[0m\u001b[0;34m\u001b[0m\u001b[0m\n\u001b[0m\u001b[1;32m   1003\u001b[0m                 \u001b[0;32mif\u001b[0m \u001b[0;32mnot\u001b[0m \u001b[0m_aresame\u001b[0m\u001b[0;34m(\u001b[0m\u001b[0marg\u001b[0m\u001b[0;34m,\u001b[0m \u001b[0margs\u001b[0m\u001b[0;34m[\u001b[0m\u001b[0mi\u001b[0m\u001b[0;34m]\u001b[0m\u001b[0;34m)\u001b[0m\u001b[0;34m:\u001b[0m\u001b[0;34m\u001b[0m\u001b[0m\n\u001b[1;32m   1004\u001b[0m                     \u001b[0mhit\u001b[0m \u001b[0;34m=\u001b[0m \u001b[0;32mTrue\u001b[0m\u001b[0;34m\u001b[0m\u001b[0m\n",
      "\u001b[0;32m/Library/Frameworks/Python.framework/Versions/3.6/lib/python3.6/site-packages/sympy/core/cache.py\u001b[0m in \u001b[0;36mwrapper\u001b[0;34m(*args, **kwargs)\u001b[0m\n\u001b[1;32m     93\u001b[0m                     \u001b[0mretval\u001b[0m \u001b[0;34m=\u001b[0m \u001b[0mcfunc\u001b[0m\u001b[0;34m(\u001b[0m\u001b[0;34m*\u001b[0m\u001b[0margs\u001b[0m\u001b[0;34m,\u001b[0m \u001b[0;34m**\u001b[0m\u001b[0mkwargs\u001b[0m\u001b[0;34m)\u001b[0m\u001b[0;34m\u001b[0m\u001b[0m\n\u001b[1;32m     94\u001b[0m                 \u001b[0;32mexcept\u001b[0m \u001b[0mTypeError\u001b[0m\u001b[0;34m:\u001b[0m\u001b[0;34m\u001b[0m\u001b[0m\n\u001b[0;32m---> 95\u001b[0;31m                     \u001b[0mretval\u001b[0m \u001b[0;34m=\u001b[0m \u001b[0mfunc\u001b[0m\u001b[0;34m(\u001b[0m\u001b[0;34m*\u001b[0m\u001b[0margs\u001b[0m\u001b[0;34m,\u001b[0m \u001b[0;34m**\u001b[0m\u001b[0mkwargs\u001b[0m\u001b[0;34m)\u001b[0m\u001b[0;34m\u001b[0m\u001b[0m\n\u001b[0m\u001b[1;32m     96\u001b[0m                 \u001b[0;32mreturn\u001b[0m \u001b[0mretval\u001b[0m\u001b[0;34m\u001b[0m\u001b[0m\n\u001b[1;32m     97\u001b[0m \u001b[0;34m\u001b[0m\u001b[0m\n",
      "\u001b[0;32m/Library/Frameworks/Python.framework/Versions/3.6/lib/python3.6/site-packages/sympy/core/basic.py\u001b[0m in \u001b[0;36m_subs\u001b[0;34m(self, old, new, **hints)\u001b[0m\n\u001b[1;32m   1026\u001b[0m             \u001b[0;32mreturn\u001b[0m \u001b[0mnew\u001b[0m\u001b[0;34m\u001b[0m\u001b[0m\n\u001b[1;32m   1027\u001b[0m \u001b[0;34m\u001b[0m\u001b[0m\n\u001b[0;32m-> 1028\u001b[0;31m         \u001b[0mrv\u001b[0m \u001b[0;34m=\u001b[0m \u001b[0mself\u001b[0m\u001b[0;34m.\u001b[0m\u001b[0m_eval_subs\u001b[0m\u001b[0;34m(\u001b[0m\u001b[0mold\u001b[0m\u001b[0;34m,\u001b[0m \u001b[0mnew\u001b[0m\u001b[0;34m)\u001b[0m\u001b[0;34m\u001b[0m\u001b[0m\n\u001b[0m\u001b[1;32m   1029\u001b[0m         \u001b[0;32mif\u001b[0m \u001b[0mrv\u001b[0m \u001b[0;32mis\u001b[0m \u001b[0;32mNone\u001b[0m\u001b[0;34m:\u001b[0m\u001b[0;34m\u001b[0m\u001b[0m\n\u001b[1;32m   1030\u001b[0m             \u001b[0mrv\u001b[0m \u001b[0;34m=\u001b[0m \u001b[0mfallback\u001b[0m\u001b[0;34m(\u001b[0m\u001b[0mself\u001b[0m\u001b[0;34m,\u001b[0m \u001b[0mold\u001b[0m\u001b[0;34m,\u001b[0m \u001b[0mnew\u001b[0m\u001b[0;34m)\u001b[0m\u001b[0;34m\u001b[0m\u001b[0m\n",
      "\u001b[0;32m/Library/Frameworks/Python.framework/Versions/3.6/lib/python3.6/site-packages/sympy/concrete/expr_with_limits.py\u001b[0m in \u001b[0;36m_eval_subs\u001b[0;34m(self, old, new)\u001b[0m\n\u001b[1;32m    312\u001b[0m                     \u001b[0mxab\u001b[0m \u001b[0;34m=\u001b[0m \u001b[0;34m(\u001b[0m\u001b[0mold\u001b[0m\u001b[0;34m,\u001b[0m \u001b[0mold\u001b[0m\u001b[0;34m)\u001b[0m\u001b[0;34m\u001b[0m\u001b[0m\n\u001b[1;32m    313\u001b[0m                 \u001b[0mlimits\u001b[0m\u001b[0;34m[\u001b[0m\u001b[0mi\u001b[0m\u001b[0;34m]\u001b[0m \u001b[0;34m=\u001b[0m \u001b[0mTuple\u001b[0m\u001b[0;34m(\u001b[0m\u001b[0mxab\u001b[0m\u001b[0;34m[\u001b[0m\u001b[0;36m0\u001b[0m\u001b[0;34m]\u001b[0m\u001b[0;34m,\u001b[0m \u001b[0;34m*\u001b[0m\u001b[0;34m[\u001b[0m\u001b[0ml\u001b[0m\u001b[0;34m.\u001b[0m\u001b[0m_subs\u001b[0m\u001b[0;34m(\u001b[0m\u001b[0mold\u001b[0m\u001b[0;34m,\u001b[0m \u001b[0mnew\u001b[0m\u001b[0;34m)\u001b[0m \u001b[0;32mfor\u001b[0m \u001b[0ml\u001b[0m \u001b[0;32min\u001b[0m \u001b[0mxab\u001b[0m\u001b[0;34m[\u001b[0m\u001b[0;36m1\u001b[0m\u001b[0;34m:\u001b[0m\u001b[0;34m]\u001b[0m\u001b[0;34m]\u001b[0m\u001b[0;34m)\u001b[0m\u001b[0;34m\u001b[0m\u001b[0m\n\u001b[0;32m--> 314\u001b[0;31m                 \u001b[0;32mif\u001b[0m \u001b[0mlen\u001b[0m\u001b[0;34m(\u001b[0m\u001b[0mxab\u001b[0m\u001b[0;34m[\u001b[0m\u001b[0;36m0\u001b[0m\u001b[0;34m]\u001b[0m\u001b[0;34m.\u001b[0m\u001b[0mfree_symbols\u001b[0m\u001b[0;34m.\u001b[0m\u001b[0mintersection\u001b[0m\u001b[0;34m(\u001b[0m\u001b[0mold\u001b[0m\u001b[0;34m.\u001b[0m\u001b[0mfree_symbols\u001b[0m\u001b[0;34m)\u001b[0m\u001b[0;34m)\u001b[0m \u001b[0;34m!=\u001b[0m \u001b[0;36m0\u001b[0m\u001b[0;34m:\u001b[0m\u001b[0;34m\u001b[0m\u001b[0m\n\u001b[0m\u001b[1;32m    315\u001b[0m                     \u001b[0msub_into_func\u001b[0m \u001b[0;34m=\u001b[0m \u001b[0;32mFalse\u001b[0m\u001b[0;34m\u001b[0m\u001b[0m\n\u001b[1;32m    316\u001b[0m                     \u001b[0;32mbreak\u001b[0m\u001b[0;34m\u001b[0m\u001b[0m\n",
      "\u001b[0;31mTypeError\u001b[0m: 'property' object is not iterable"
     ]
    }
   ],
   "source": [
    "P_geometric.subs({f: Lambda(t, exp(-t))})"
   ]
  },
  {
   "cell_type": "code",
   "execution_count": 72,
   "metadata": {
    "collapsed": false,
    "deletable": true,
    "editable": true
   },
   "outputs": [
    {
     "data": {
      "image/png": "[encoded data removed]",
      "text/latex": [
       "$$\\left[\\begin{matrix}\\frac{1}{2} e^{- \\rho - 1} + \\frac{1}{2} e^{\\rho - 1} & \\frac{1}{2} e^{- \\rho - 1} - \\frac{1}{2} e^{\\rho - 1}\\\\\\frac{1}{2} e^{- \\rho - 1} - \\frac{1}{2} e^{\\rho - 1} & \\frac{1}{2} e^{- \\rho - 1} + \\frac{1}{2} e^{\\rho - 1}\\end{matrix}\\right]$$"
      ],
      "text/plain": [
       "⎡ -\\rho - 1    \\rho - 1   -\\rho - 1    \\rho - 1⎤\n",
       "⎢ℯ            ℯ          ℯ            ℯ        ⎥\n",
       "⎢────────── + ─────────  ────────── - ─────────⎥\n",
       "⎢    2            2          2            2    ⎥\n",
       "⎢                                              ⎥\n",
       "⎢ -\\rho - 1    \\rho - 1   -\\rho - 1    \\rho - 1⎥\n",
       "⎢ℯ            ℯ          ℯ            ℯ        ⎥\n",
       "⎢────────── - ─────────  ────────── + ─────────⎥\n",
       "⎣    2            2          2            2    ⎦"
      ]
     },
     "execution_count": 72,
     "metadata": {},
     "output_type": "execute_result"
    }
   ],
   "source": [
    "_.doit()"
   ]
  },
  {
   "cell_type": "code",
   "execution_count": 63,
   "metadata": {
    "collapsed": false,
    "deletable": true,
    "editable": true
   },
   "outputs": [
    {
     "data": {
      "image/png": "[encoded data removed]",
      "text/latex": [
       "$$\\left ( \\left \\{ 1 : \\left ( \\lambda_{1}, \\quad m_{1}\\right ), \\quad 2 : \\left ( \\lambda_{2}, \\quad m_{2}\\right )\\right \\}, \\quad \\left \\{ \\lambda_{1} : \\sqrt{- \\rho + 1}, \\quad \\lambda_{2} : \\sqrt{\\rho + 1}\\right \\}, \\quad \\left \\{ m_{1} : 1, \\quad m_{2} : 1\\right \\}\\right )$$"
      ],
      "text/plain": [
       "⎛                                                ⎧              ___________   \n",
       "⎜{1: (\\lambda[1], m[1]), 2: (\\lambda[2], m[2])}, ⎨\\lambda[1]: ╲╱ -\\rho + 1 , \\\n",
       "⎝                                                ⎩                            \n",
       "\n",
       "             __________⎫                    ⎞\n",
       "lambda[2]: ╲╱ \\rho + 1 ⎬, {m[1]: 1, m[2]: 1}⎟\n",
       "                       ⎭                    ⎠"
      ]
     },
     "execution_count": 63,
     "metadata": {},
     "output_type": "execute_result"
    }
   ],
   "source": [
    "eigen_data(_)"
   ]
  },
  {
   "cell_type": "code",
   "execution_count": 59,
   "metadata": {
    "collapsed": false,
    "deletable": true,
    "editable": true
   },
   "outputs": [
    {
     "data": {
      "image/png": "[encoded data removed]",
      "text/latex": [
       "$$- \\left(- \\frac{1}{2} \\log{\\left (- \\rho + 1 \\right )} + \\frac{1}{2} \\log{\\left (\\rho + 1 \\right )}\\right)^{2} + \\left(\\frac{1}{2} \\log{\\left (- \\rho + 1 \\right )} + \\frac{1}{2} \\log{\\left (\\rho + 1 \\right )}\\right)^{2}$$"
      ],
      "text/plain": [
       "                                    2                                   2\n",
       "  ⎛  log(-\\rho + 1)   log(\\rho + 1)⎞    ⎛log(-\\rho + 1)   log(\\rho + 1)⎞ \n",
       "- ⎜- ────────────── + ─────────────⎟  + ⎜────────────── + ─────────────⎟ \n",
       "  ⎝        2                2      ⎠    ⎝      2                2      ⎠ "
      ]
     },
     "execution_count": 59,
     "metadata": {},
     "output_type": "execute_result"
    }
   ],
   "source": [
    "det(_)"
   ]
  },
  {
   "cell_type": "code",
   "execution_count": 57,
   "metadata": {
    "collapsed": false,
    "deletable": true,
    "editable": true
   },
   "outputs": [
    {
     "data": {
      "image/png": "[encoded data removed]",
      "text/latex": [
       "$$\\left[\\begin{matrix}\\frac{\\left(-1 + e^{4}\\right) e^{2 \\rho}}{e^{2 \\rho} + e^{2 \\rho + 4} + e^{4 \\rho + 2} + e^{2}} & \\frac{\\left(e^{4 \\rho} - 1\\right) e^{2}}{e^{2 \\rho} + e^{2 \\rho + 4} + e^{4 \\rho + 2} + e^{2}}\\\\\\frac{\\left(e^{4 \\rho} - 1\\right) e^{2}}{e^{2 \\rho} + e^{2 \\rho + 4} + e^{4 \\rho + 2} + e^{2}} & \\frac{\\left(-1 + e^{4}\\right) e^{2 \\rho}}{e^{2 \\rho} + e^{2 \\rho + 4} + e^{4 \\rho + 2} + e^{2}}\\end{matrix}\\right]$$"
      ],
      "text/plain": [
       "⎡           ⎛      4⎞  2⋅\\rho                          ⎛ 4⋅\\rho    ⎞  2       \n",
       "⎢           ⎝-1 + ℯ ⎠⋅ℯ                                ⎝ℯ       - 1⎠⋅ℯ        \n",
       "⎢────────────────────────────────────────  ───────────────────────────────────\n",
       "⎢ 2⋅\\rho    2⋅\\rho + 4    4⋅\\rho + 2    2   2⋅\\rho    2⋅\\rho + 4    4⋅\\rho + 2\n",
       "⎢ℯ       + ℯ           + ℯ           + ℯ   ℯ       + ℯ           + ℯ          \n",
       "⎢                                                                             \n",
       "⎢            ⎛ 4⋅\\rho    ⎞  2                         ⎛      4⎞  2⋅\\rho       \n",
       "⎢            ⎝ℯ       - 1⎠⋅ℯ                          ⎝-1 + ℯ ⎠⋅ℯ             \n",
       "⎢────────────────────────────────────────  ───────────────────────────────────\n",
       "⎢ 2⋅\\rho    2⋅\\rho + 4    4⋅\\rho + 2    2   2⋅\\rho    2⋅\\rho + 4    4⋅\\rho + 2\n",
       "⎣ℯ       + ℯ           + ℯ           + ℯ   ℯ       + ℯ           + ℯ          \n",
       "\n",
       "     ⎤\n",
       "     ⎥\n",
       "─────⎥\n",
       "    2⎥\n",
       " + ℯ ⎥\n",
       "     ⎥\n",
       "     ⎥\n",
       "     ⎥\n",
       "─────⎥\n",
       "    2⎥\n",
       " + ℯ ⎦"
      ]
     },
     "execution_count": 57,
     "metadata": {},
     "output_type": "execute_result"
    }
   ],
   "source": [
    "P_geometric.subs({f: Lambda(z, tanh(z))}).applyfunc(lambda i: i.rewrite(exp).simplify())"
   ]
  },
  {
   "cell_type": "code",
   "execution_count": 57,
   "metadata": {
    "collapsed": false,
    "deletable": true,
    "editable": true
   },
   "outputs": [
    {
     "data": {
      "image/png": "[encoded data removed]",
      "text/latex": [
       "$$\\left[\\begin{matrix}\\frac{\\left(-1 + e^{4}\\right) e^{2 \\rho}}{e^{2 \\rho} + e^{2 \\rho + 4} + e^{4 \\rho + 2} + e^{2}} & \\frac{\\left(e^{4 \\rho} - 1\\right) e^{2}}{e^{2 \\rho} + e^{2 \\rho + 4} + e^{4 \\rho + 2} + e^{2}}\\\\\\frac{\\left(e^{4 \\rho} - 1\\right) e^{2}}{e^{2 \\rho} + e^{2 \\rho + 4} + e^{4 \\rho + 2} + e^{2}} & \\frac{\\left(-1 + e^{4}\\right) e^{2 \\rho}}{e^{2 \\rho} + e^{2 \\rho + 4} + e^{4 \\rho + 2} + e^{2}}\\end{matrix}\\right]$$"
      ],
      "text/plain": [
       "⎡           ⎛      4⎞  2⋅\\rho                          ⎛ 4⋅\\rho    ⎞  2       \n",
       "⎢           ⎝-1 + ℯ ⎠⋅ℯ                                ⎝ℯ       - 1⎠⋅ℯ        \n",
       "⎢────────────────────────────────────────  ───────────────────────────────────\n",
       "⎢ 2⋅\\rho    2⋅\\rho + 4    4⋅\\rho + 2    2   2⋅\\rho    2⋅\\rho + 4    4⋅\\rho + 2\n",
       "⎢ℯ       + ℯ           + ℯ           + ℯ   ℯ       + ℯ           + ℯ          \n",
       "⎢                                                                             \n",
       "⎢            ⎛ 4⋅\\rho    ⎞  2                         ⎛      4⎞  2⋅\\rho       \n",
       "⎢            ⎝ℯ       - 1⎠⋅ℯ                          ⎝-1 + ℯ ⎠⋅ℯ             \n",
       "⎢────────────────────────────────────────  ───────────────────────────────────\n",
       "⎢ 2⋅\\rho    2⋅\\rho + 4    4⋅\\rho + 2    2   2⋅\\rho    2⋅\\rho + 4    4⋅\\rho + 2\n",
       "⎣ℯ       + ℯ           + ℯ           + ℯ   ℯ       + ℯ           + ℯ          \n",
       "\n",
       "     ⎤\n",
       "     ⎥\n",
       "─────⎥\n",
       "    2⎥\n",
       " + ℯ ⎥\n",
       "     ⎥\n",
       "     ⎥\n",
       "     ⎥\n",
       "─────⎥\n",
       "    2⎥\n",
       " + ℯ ⎦"
      ]
     },
     "execution_count": 57,
     "metadata": {},
     "output_type": "execute_result"
    }
   ],
   "source": [
    "P_geometric.subs({f: Lambda(z, tanh(z))}).applyfunc(lambda i: i.rewrite(exp).simplify())"
   ]
  },
  {
   "cell_type": "code",
   "execution_count": 28,
   "metadata": {
    "collapsed": false,
    "deletable": true,
    "editable": true
   },
   "outputs": [
    {
     "data": {
      "image/png": "[encoded data removed]",
      "text/latex": [
       "$$\\left[\\begin{matrix}\\frac{\\rho^{2} - 1}{2 \\rho^{2} - 1} & \\frac{\\rho}{2 \\rho^{2} - 1} & - \\frac{\\rho^{2}}{2 \\rho^{2} - 1}\\\\\\frac{\\rho}{2 \\rho^{2} - 1} & - \\frac{1}{2 \\rho^{2} - 1} & \\frac{\\rho}{2 \\rho^{2} - 1}\\\\- \\frac{\\rho^{2}}{2 \\rho^{2} - 1} & \\frac{\\rho}{2 \\rho^{2} - 1} & \\frac{\\rho^{2} - 1}{2 \\rho^{2} - 1}\\end{matrix}\\right]$$"
      ],
      "text/plain": [
       "⎡     2                           2   ⎤\n",
       "⎢ \\rho  - 1       \\rho       -\\rho    ⎥\n",
       "⎢───────────  ───────────  ───────────⎥\n",
       "⎢      2            2            2    ⎥\n",
       "⎢2⋅\\rho  - 1  2⋅\\rho  - 1  2⋅\\rho  - 1⎥\n",
       "⎢                                     ⎥\n",
       "⎢    \\rho         -1           \\rho   ⎥\n",
       "⎢───────────  ───────────  ───────────⎥\n",
       "⎢      2            2            2    ⎥\n",
       "⎢2⋅\\rho  - 1  2⋅\\rho  - 1  2⋅\\rho  - 1⎥\n",
       "⎢                                     ⎥\n",
       "⎢       2                       2     ⎥\n",
       "⎢  -\\rho          \\rho      \\rho  - 1 ⎥\n",
       "⎢───────────  ───────────  ───────────⎥\n",
       "⎢      2            2            2    ⎥\n",
       "⎣2⋅\\rho  - 1  2⋅\\rho  - 1  2⋅\\rho  - 1⎦"
      ]
     },
     "execution_count": 28,
     "metadata": {},
     "output_type": "execute_result"
    }
   ],
   "source": [
    "P_geometric.subs({f: Lambda(z, 1/z)}).applyfunc(simplify)"
   ]
  },
  {
   "cell_type": "code",
   "execution_count": 30,
   "metadata": {
    "collapsed": false,
    "deletable": true,
    "editable": true
   },
   "outputs": [
    {
     "data": {
      "image/png": "[encoded data removed]",
      "text/latex": [
       "$$\\left[\\begin{matrix}\\frac{\\rho^{2} - 1}{2 \\rho^{2} - 1} & \\frac{\\rho}{2 \\rho^{2} - 1} & - \\frac{\\rho^{2}}{2 \\rho^{2} - 1}\\\\\\frac{\\rho}{2 \\rho^{2} - 1} & - \\frac{1}{2 \\rho^{2} - 1} & \\frac{\\rho}{2 \\rho^{2} - 1}\\\\- \\frac{\\rho^{2}}{2 \\rho^{2} - 1} & \\frac{\\rho}{2 \\rho^{2} - 1} & \\frac{\\rho^{2} - 1}{2 \\rho^{2} - 1}\\end{matrix}\\right]$$"
      ],
      "text/plain": [
       "⎡     2                           2   ⎤\n",
       "⎢ \\rho  - 1       \\rho       -\\rho    ⎥\n",
       "⎢───────────  ───────────  ───────────⎥\n",
       "⎢      2            2            2    ⎥\n",
       "⎢2⋅\\rho  - 1  2⋅\\rho  - 1  2⋅\\rho  - 1⎥\n",
       "⎢                                     ⎥\n",
       "⎢    \\rho         -1           \\rho   ⎥\n",
       "⎢───────────  ───────────  ───────────⎥\n",
       "⎢      2            2            2    ⎥\n",
       "⎢2⋅\\rho  - 1  2⋅\\rho  - 1  2⋅\\rho  - 1⎥\n",
       "⎢                                     ⎥\n",
       "⎢       2                       2     ⎥\n",
       "⎢  -\\rho          \\rho      \\rho  - 1 ⎥\n",
       "⎢───────────  ───────────  ───────────⎥\n",
       "⎢      2            2            2    ⎥\n",
       "⎣2⋅\\rho  - 1  2⋅\\rho  - 1  2⋅\\rho  - 1⎦"
      ]
     },
     "execution_count": 30,
     "metadata": {},
     "output_type": "execute_result"
    }
   ],
   "source": [
    "(R**(-1)).applyfunc(simplify)"
   ]
  },
  {
   "cell_type": "code",
   "execution_count": 56,
   "metadata": {
    "collapsed": false,
    "deletable": true,
    "editable": true
   },
   "outputs": [
    {
     "data": {
      "image/png": "[encoded data removed]",
      "text/latex": [
       "$$\\left[\\begin{matrix}1 & 0 & 0 & 0 & 0 & 0 & 0 & 0\\\\-1 & 1 & 0 & 0 & 0 & 0 & 0 & 0\\\\-1 & -2 & 1 & 0 & 0 & 0 & 0 & 0\\\\1 & -3 & -3 & 1 & 0 & 0 & 0 & 0\\\\9 & 4 & -6 & -4 & 1 & 0 & 0 & 0\\\\23 & 45 & 10 & -10 & -5 & 1 & 0 & 0\\\\-25 & 138 & 135 & 20 & -15 & -6 & 1 & 0\\\\-583 & -175 & 483 & 315 & 35 & -21 & -7 & 1\\end{matrix}\\right]$$"
      ],
      "text/plain": [
       "⎡ 1     0     0    0    0    0   0   0⎤\n",
       "⎢                                     ⎥\n",
       "⎢ -1    1     0    0    0    0   0   0⎥\n",
       "⎢                                     ⎥\n",
       "⎢ -1    -2    1    0    0    0   0   0⎥\n",
       "⎢                                     ⎥\n",
       "⎢ 1     -3   -3    1    0    0   0   0⎥\n",
       "⎢                                     ⎥\n",
       "⎢ 9     4    -6   -4    1    0   0   0⎥\n",
       "⎢                                     ⎥\n",
       "⎢ 23    45   10   -10  -5    1   0   0⎥\n",
       "⎢                                     ⎥\n",
       "⎢-25   138   135  20   -15  -6   1   0⎥\n",
       "⎢                                     ⎥\n",
       "⎣-583  -175  483  315  35   -21  -7  1⎦"
      ]
     },
     "execution_count": 56,
     "metadata": {},
     "output_type": "execute_result"
    }
   ],
   "source": [
    "_*(2*sqrt(pi)*exp(1/S(2))/sqrt(2))"
   ]
  },
  {
   "cell_type": "code",
   "execution_count": 57,
   "metadata": {
    "collapsed": false,
    "deletable": true,
    "editable": true
   },
   "outputs": [
    {
     "data": {
      "image/png": "[encoded data removed]",
      "text/latex": [
       "$$\\left[\\begin{matrix}1 & 0 & 0 & 0 & 0 & 0 & 0 & 0\\\\1 & 1 & 0 & 0 & 0 & 0 & 0 & 0\\\\3 & 2 & 1 & 0 & 0 & 0 & 0 & 0\\\\11 & 9 & 3 & 1 & 0 & 0 & 0 & 0\\\\49 & 44 & 18 & 4 & 1 & 0 & 0 & 0\\\\257 & 245 & 110 & 30 & 5 & 1 & 0 & 0\\\\1539 & 1542 & 735 & 220 & 45 & 6 & 1 & 0\\\\10299 & 10773 & 5397 & 1715 & 385 & 63 & 7 & 1\\end{matrix}\\right]$$"
      ],
      "text/plain": [
       "⎡  1      0     0     0     0   0   0  0⎤\n",
       "⎢                                       ⎥\n",
       "⎢  1      1     0     0     0   0   0  0⎥\n",
       "⎢                                       ⎥\n",
       "⎢  3      2     1     0     0   0   0  0⎥\n",
       "⎢                                       ⎥\n",
       "⎢ 11      9     3     1     0   0   0  0⎥\n",
       "⎢                                       ⎥\n",
       "⎢ 49     44     18    4     1   0   0  0⎥\n",
       "⎢                                       ⎥\n",
       "⎢ 257    245   110    30    5   1   0  0⎥\n",
       "⎢                                       ⎥\n",
       "⎢1539   1542   735   220   45   6   1  0⎥\n",
       "⎢                                       ⎥\n",
       "⎣10299  10773  5397  1715  385  63  7  1⎦"
      ]
     },
     "execution_count": 57,
     "metadata": {},
     "output_type": "execute_result"
    }
   ],
   "source": [
    "_**(-1)"
   ]
  },
  {
   "cell_type": "code",
   "execution_count": 58,
   "metadata": {
    "collapsed": false,
    "deletable": true,
    "editable": true
   },
   "outputs": [
    {
     "data": {
      "image/png": "[encoded data removed]",
      "text/latex": [
       "$$\\left[\\begin{matrix}1 & 1 & 0 & 0 & 0 & 0 & 0\\\\2 & 1 & 2 & 0 & 0 & 0 & 0\\\\2 & 2 & 1 & 3 & 0 & 0 & 0\\\\\\frac{4}{3} & 2 & 2 & 1 & 4 & 0 & 0\\\\\\frac{2}{3} & \\frac{4}{3} & 2 & 2 & 1 & 5 & 0\\\\\\frac{4}{15} & \\frac{2}{3} & \\frac{4}{3} & 2 & 2 & 1 & 6\\\\\\frac{4}{45} & \\frac{4}{15} & \\frac{2}{3} & \\frac{4}{3} & 2 & 2 & 1\\end{matrix}\\right]$$"
      ],
      "text/plain": [
       "⎡ 1     1     0    0   0  0  0⎤\n",
       "⎢                             ⎥\n",
       "⎢ 2     1     2    0   0  0  0⎥\n",
       "⎢                             ⎥\n",
       "⎢ 2     2     1    3   0  0  0⎥\n",
       "⎢                             ⎥\n",
       "⎢4/3    2     2    1   4  0  0⎥\n",
       "⎢                             ⎥\n",
       "⎢2/3   4/3    2    2   1  5  0⎥\n",
       "⎢                             ⎥\n",
       "⎢4/15  2/3   4/3   2   2  1  6⎥\n",
       "⎢                             ⎥\n",
       "⎣4/45  4/15  2/3  4/3  2  2  1⎦"
      ]
     },
     "execution_count": 58,
     "metadata": {},
     "output_type": "execute_result"
    }
   ],
   "source": [
    "production_matrix(_, exp=True)"
   ]
  },
  {
   "cell_type": "markdown",
   "metadata": {
    "deletable": true,
    "editable": true
   },
   "source": [
    "---\n",
    "<a rel=\"license\" href=\"http://creativecommons.org/licenses/by-nc-sa/4.0/\"><img alt=\"Creative Commons License\" style=\"border-width:0\" src=\"https://i.creativecommons.org/l/by-nc-sa/4.0/88x31.png\" /></a><br />This work is licensed under a <a rel=\"license\" href=\"http://creativecommons.org/licenses/by-nc-sa/4.0/\">Creative Commons Attribution-NonCommercial-ShareAlike 4.0 International License</a>."
   ]
  }
 ],
 "metadata": {
  "kernelspec": {
   "display_name": "Python 3",
   "language": "python",
   "name": "python3"
  },
  "language_info": {
   "codemirror_mode": {
    "name": "ipython",
    "version": 3
   },
   "file_extension": ".py",
   "mimetype": "text/x-python",
   "name": "python",
   "nbconvert_exporter": "python",
   "pygments_lexer": "ipython3",
   "version": "3.6.0"
  }
 },
 "nbformat": 4,
 "nbformat_minor": 1
}
