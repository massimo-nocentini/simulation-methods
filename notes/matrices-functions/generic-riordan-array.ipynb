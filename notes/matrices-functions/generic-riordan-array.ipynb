{
 "cells": [
  {
   "cell_type": "markdown",
   "metadata": {
    "deletable": true,
    "editable": true
   },
   "source": [
    "<p>\n",
    "<img src=\"http://www.cerm.unifi.it/chianti/images/logo%20unifi_positivo.jpg\" \n",
    "        alt=\"UniFI logo\" style=\"float: left; width: 20%; height: 20%;\">\n",
    "<div align=\"right\">\n",
    "Massimo Nocentini<br>\n",
    "<small>\n",
    "<br>November 16, 2016: `expt` $g$ polys\n",
    "<br>November 10, 2016: `inverse` and `power` $g$ polys\n",
    "<br>November 9, 2016: splitting from \"big\" notebook\n",
    "</small>\n",
    "</div>\n",
    "</p>\n",
    "<br>\n",
    "<br>\n",
    "<div align=\"center\">\n",
    "<b>Abstract</b><br>\n",
    "Theory of matrix functions, with applications to a symbolic Riordan array $\\mathcal{R}$ defined by convolutions.\n",
    "</div>"
   ]
  },
  {
   "cell_type": "code",
   "execution_count": 1,
   "metadata": {
    "collapsed": true,
    "deletable": true,
    "editable": true
   },
   "outputs": [],
   "source": [
    "from sympy import *\n",
    "from sympy.abc import n, i, N, x, lamda, phi, z, j, r, k, a, t, alpha\n",
    "\n",
    "init_printing()"
   ]
  },
  {
   "cell_type": "code",
   "execution_count": 2,
   "metadata": {
    "collapsed": false,
    "deletable": true,
    "editable": true
   },
   "outputs": [],
   "source": [
    "%run ../../src/matrix_functions.py\n",
    "%run ../../src/sequences.py"
   ]
  },
  {
   "cell_type": "code",
   "execution_count": 3,
   "metadata": {
    "collapsed": true
   },
   "outputs": [],
   "source": [
    "d = IndexedBase('d')"
   ]
  },
  {
   "cell_type": "markdown",
   "metadata": {},
   "source": [
    "---"
   ]
  },
  {
   "cell_type": "markdown",
   "metadata": {},
   "source": [
    "# Lagrange base"
   ]
  },
  {
   "cell_type": "code",
   "execution_count": 5,
   "metadata": {
    "collapsed": false,
    "deletable": true,
    "editable": true
   },
   "outputs": [
    {
     "data": {
      "image/png": "[encoded data removed]",
      "text/latex": [
       "$$\\left[\\begin{matrix}d_{0,0} & 0 & 0 & 0\\\\d_{1,0} & d_{1,1} & 0 & 0\\\\d_{2,0} & d_{2,1} & d_{2,2} & 0\\\\d_{3,0} & d_{3,1} & d_{3,2} & d_{3,3}\\end{matrix}\\right]$$"
      ],
      "text/plain": [
       "⎡d[0, 0]     0        0        0   ⎤\n",
       "⎢                                  ⎥\n",
       "⎢d[1, 0]  d[1, 1]     0        0   ⎥\n",
       "⎢                                  ⎥\n",
       "⎢d[2, 0]  d[2, 1]  d[2, 2]     0   ⎥\n",
       "⎢                                  ⎥\n",
       "⎣d[3, 0]  d[3, 1]  d[3, 2]  d[3, 3]⎦"
      ]
     },
     "execution_count": 5,
     "metadata": {},
     "output_type": "execute_result"
    }
   ],
   "source": [
    "m=4\n",
    "R = Matrix(m, m, riordan_matrix_by_recurrence(m, lambda n, k: {(n, k):d[n, k]}, init={(0,0):d[0,0]}))\n",
    "R"
   ]
  },
  {
   "cell_type": "code",
   "execution_count": 6,
   "metadata": {
    "collapsed": false,
    "deletable": true,
    "editable": true
   },
   "outputs": [
    {
     "data": {
      "image/png": "[encoded data removed]",
      "text/latex": [
       "$$\\left ( \\left \\{ 1 : \\left ( \\lambda_{1}, \\quad m_{1}\\right ), \\quad 2 : \\left ( \\lambda_{2}, \\quad m_{2}\\right ), \\quad 3 : \\left ( \\lambda_{3}, \\quad m_{3}\\right ), \\quad 4 : \\left ( \\lambda_{4}, \\quad m_{4}\\right )\\right \\}, \\quad \\left \\{ \\lambda_{1} : d_{0,0}, \\quad \\lambda_{2} : d_{1,1}, \\quad \\lambda_{3} : d_{2,2}, \\quad \\lambda_{4} : d_{3,3}\\right \\}, \\quad \\left \\{ m_{1} : 1, \\quad m_{2} : 1, \\quad m_{3} : 1, \\quad m_{4} : 1\\right \\}\\right )$$"
      ],
      "text/plain": [
       "({1: (\\lambda[1], m[1]), 2: (\\lambda[2], m[2]), 3: (\\lambda[3], m[3]), 4: (\\la\n",
       "mbda[4], m[4])}, {\\lambda[1]: d[0, 0], \\lambda[2]: d[1, 1], \\lambda[3]: d[2, 2\n",
       "], \\lambda[4]: d[3, 3]}, {m[1]: 1, m[2]: 1, m[3]: 1, m[4]: 1})"
      ]
     },
     "execution_count": 6,
     "metadata": {},
     "output_type": "execute_result"
    }
   ],
   "source": [
    "data, eigenvals, multiplicities = eigendata = eigen_data(R)\n",
    "eigendata"
   ]
  },
  {
   "cell_type": "code",
   "execution_count": 7,
   "metadata": {
    "collapsed": false,
    "deletable": true,
    "editable": true
   },
   "outputs": [
    {
     "data": {
      "image/png": "[encoded data removed]",
      "text/latex": [
       "$$\\Phi{\\left (z,i,j \\right )} = z^{3} \\phi_{i,j,0} + z^{2} \\phi_{i,j,1} + z \\phi_{i,j,2} + \\phi_{i,j,3}$$"
      ],
      "text/plain": [
       "                 3                  2                                         \n",
       "\\Phi(z, i, j) = z ⋅\\phi[i, j, 0] + z ⋅\\phi[i, j, 1] + z⋅\\phi[i, j, 2] + \\phi[i\n",
       "\n",
       "       \n",
       ", j, 3]"
      ]
     },
     "execution_count": 7,
     "metadata": {},
     "output_type": "execute_result"
    }
   ],
   "source": [
    "Phi_poly = Phi_poly_ctor(deg=m-1)\n",
    "Phi_poly"
   ]
  },
  {
   "cell_type": "code",
   "execution_count": 8,
   "metadata": {
    "collapsed": false,
    "deletable": true,
    "editable": true
   },
   "outputs": [
    {
     "data": {
      "image/png": "[encoded data removed]",
      "text/latex": [
       "$$\\left \\{ \\left ( 1, \\quad 1\\right ) : \\Phi_{ 1, 1 }{\\left (z \\right )} = \\frac{z^{3}}{\\lambda_{1}^{3} - \\lambda_{1}^{2} \\lambda_{2} - \\lambda_{1}^{2} \\lambda_{3} - \\lambda_{1}^{2} \\lambda_{4} + \\lambda_{1} \\lambda_{2} \\lambda_{3} + \\lambda_{1} \\lambda_{2} \\lambda_{4} + \\lambda_{1} \\lambda_{3} \\lambda_{4} - \\lambda_{2} \\lambda_{3} \\lambda_{4}} - \\frac{z^{2} \\left(\\lambda_{2} + \\lambda_{3} + \\lambda_{4}\\right)}{\\lambda_{1}^{3} - \\lambda_{1}^{2} \\lambda_{2} - \\lambda_{1}^{2} \\lambda_{3} - \\lambda_{1}^{2} \\lambda_{4} + \\lambda_{1} \\lambda_{2} \\lambda_{3} + \\lambda_{1} \\lambda_{2} \\lambda_{4} + \\lambda_{1} \\lambda_{3} \\lambda_{4} - \\lambda_{2} \\lambda_{3} \\lambda_{4}} + \\frac{z \\left(\\lambda_{2} \\lambda_{3} + \\lambda_{2} \\lambda_{4} + \\lambda_{3} \\lambda_{4}\\right)}{\\lambda_{1}^{3} - \\lambda_{1}^{2} \\lambda_{2} - \\lambda_{1}^{2} \\lambda_{3} - \\lambda_{1}^{2} \\lambda_{4} + \\lambda_{1} \\lambda_{2} \\lambda_{3} + \\lambda_{1} \\lambda_{2} \\lambda_{4} + \\lambda_{1} \\lambda_{3} \\lambda_{4} - \\lambda_{2} \\lambda_{3} \\lambda_{4}} - \\frac{\\lambda_{2} \\lambda_{3} \\lambda_{4}}{\\lambda_{1}^{3} - \\lambda_{1}^{2} \\lambda_{2} - \\lambda_{1}^{2} \\lambda_{3} - \\lambda_{1}^{2} \\lambda_{4} + \\lambda_{1} \\lambda_{2} \\lambda_{3} + \\lambda_{1} \\lambda_{2} \\lambda_{4} + \\lambda_{1} \\lambda_{3} \\lambda_{4} - \\lambda_{2} \\lambda_{3} \\lambda_{4}}, \\quad \\left ( 2, \\quad 1\\right ) : \\Phi_{ 2, 1 }{\\left (z \\right )} = - \\frac{z^{3}}{\\lambda_{1} \\lambda_{2}^{2} - \\lambda_{1} \\lambda_{2} \\lambda_{3} - \\lambda_{1} \\lambda_{2} \\lambda_{4} + \\lambda_{1} \\lambda_{3} \\lambda_{4} - \\lambda_{2}^{3} + \\lambda_{2}^{2} \\lambda_{3} + \\lambda_{2}^{2} \\lambda_{4} - \\lambda_{2} \\lambda_{3} \\lambda_{4}} + \\frac{z^{2} \\left(\\lambda_{1} + \\lambda_{3} + \\lambda_{4}\\right)}{\\lambda_{1} \\lambda_{2}^{2} - \\lambda_{1} \\lambda_{2} \\lambda_{3} - \\lambda_{1} \\lambda_{2} \\lambda_{4} + \\lambda_{1} \\lambda_{3} \\lambda_{4} - \\lambda_{2}^{3} + \\lambda_{2}^{2} \\lambda_{3} + \\lambda_{2}^{2} \\lambda_{4} - \\lambda_{2} \\lambda_{3} \\lambda_{4}} - \\frac{z \\left(\\lambda_{1} \\lambda_{3} + \\lambda_{1} \\lambda_{4} + \\lambda_{3} \\lambda_{4}\\right)}{\\lambda_{1} \\lambda_{2}^{2} - \\lambda_{1} \\lambda_{2} \\lambda_{3} - \\lambda_{1} \\lambda_{2} \\lambda_{4} + \\lambda_{1} \\lambda_{3} \\lambda_{4} - \\lambda_{2}^{3} + \\lambda_{2}^{2} \\lambda_{3} + \\lambda_{2}^{2} \\lambda_{4} - \\lambda_{2} \\lambda_{3} \\lambda_{4}} + \\frac{\\lambda_{1} \\lambda_{3} \\lambda_{4}}{\\lambda_{1} \\lambda_{2}^{2} - \\lambda_{1} \\lambda_{2} \\lambda_{3} - \\lambda_{1} \\lambda_{2} \\lambda_{4} + \\lambda_{1} \\lambda_{3} \\lambda_{4} - \\lambda_{2}^{3} + \\lambda_{2}^{2} \\lambda_{3} + \\lambda_{2}^{2} \\lambda_{4} - \\lambda_{2} \\lambda_{3} \\lambda_{4}}, \\quad \\left ( 3, \\quad 1\\right ) : \\Phi_{ 3, 1 }{\\left (z \\right )} = \\frac{z^{3}}{\\lambda_{1} \\lambda_{2} \\lambda_{3} - \\lambda_{1} \\lambda_{2} \\lambda_{4} - \\lambda_{1} \\lambda_{3}^{2} + \\lambda_{1} \\lambda_{3} \\lambda_{4} - \\lambda_{2} \\lambda_{3}^{2} + \\lambda_{2} \\lambda_{3} \\lambda_{4} + \\lambda_{3}^{3} - \\lambda_{3}^{2} \\lambda_{4}} - \\frac{z^{2} \\left(\\lambda_{1} + \\lambda_{2} + \\lambda_{4}\\right)}{\\lambda_{1} \\lambda_{2} \\lambda_{3} - \\lambda_{1} \\lambda_{2} \\lambda_{4} - \\lambda_{1} \\lambda_{3}^{2} + \\lambda_{1} \\lambda_{3} \\lambda_{4} - \\lambda_{2} \\lambda_{3}^{2} + \\lambda_{2} \\lambda_{3} \\lambda_{4} + \\lambda_{3}^{3} - \\lambda_{3}^{2} \\lambda_{4}} + \\frac{z \\left(\\lambda_{1} \\lambda_{2} + \\lambda_{1} \\lambda_{4} + \\lambda_{2} \\lambda_{4}\\right)}{\\lambda_{1} \\lambda_{2} \\lambda_{3} - \\lambda_{1} \\lambda_{2} \\lambda_{4} - \\lambda_{1} \\lambda_{3}^{2} + \\lambda_{1} \\lambda_{3} \\lambda_{4} - \\lambda_{2} \\lambda_{3}^{2} + \\lambda_{2} \\lambda_{3} \\lambda_{4} + \\lambda_{3}^{3} - \\lambda_{3}^{2} \\lambda_{4}} - \\frac{\\lambda_{1} \\lambda_{2} \\lambda_{4}}{\\lambda_{1} \\lambda_{2} \\lambda_{3} - \\lambda_{1} \\lambda_{2} \\lambda_{4} - \\lambda_{1} \\lambda_{3}^{2} + \\lambda_{1} \\lambda_{3} \\lambda_{4} - \\lambda_{2} \\lambda_{3}^{2} + \\lambda_{2} \\lambda_{3} \\lambda_{4} + \\lambda_{3}^{3} - \\lambda_{3}^{2} \\lambda_{4}}, \\quad \\left ( 4, \\quad 1\\right ) : \\Phi_{ 4, 1 }{\\left (z \\right )} = - \\frac{z^{3}}{\\lambda_{1} \\lambda_{2} \\lambda_{3} - \\lambda_{1} \\lambda_{2} \\lambda_{4} - \\lambda_{1} \\lambda_{3} \\lambda_{4} + \\lambda_{1} \\lambda_{4}^{2} - \\lambda_{2} \\lambda_{3} \\lambda_{4} + \\lambda_{2} \\lambda_{4}^{2} + \\lambda_{3} \\lambda_{4}^{2} - \\lambda_{4}^{3}} + \\frac{z^{2} \\left(\\lambda_{1} + \\lambda_{2} + \\lambda_{3}\\right)}{\\lambda_{1} \\lambda_{2} \\lambda_{3} - \\lambda_{1} \\lambda_{2} \\lambda_{4} - \\lambda_{1} \\lambda_{3} \\lambda_{4} + \\lambda_{1} \\lambda_{4}^{2} - \\lambda_{2} \\lambda_{3} \\lambda_{4} + \\lambda_{2} \\lambda_{4}^{2} + \\lambda_{3} \\lambda_{4}^{2} - \\lambda_{4}^{3}} - \\frac{z \\left(\\lambda_{1} \\lambda_{2} + \\lambda_{1} \\lambda_{3} + \\lambda_{2} \\lambda_{3}\\right)}{\\lambda_{1} \\lambda_{2} \\lambda_{3} - \\lambda_{1} \\lambda_{2} \\lambda_{4} - \\lambda_{1} \\lambda_{3} \\lambda_{4} + \\lambda_{1} \\lambda_{4}^{2} - \\lambda_{2} \\lambda_{3} \\lambda_{4} + \\lambda_{2} \\lambda_{4}^{2} + \\lambda_{3} \\lambda_{4}^{2} - \\lambda_{4}^{3}} + \\frac{\\lambda_{1} \\lambda_{2} \\lambda_{3}}{\\lambda_{1} \\lambda_{2} \\lambda_{3} - \\lambda_{1} \\lambda_{2} \\lambda_{4} - \\lambda_{1} \\lambda_{3} \\lambda_{4} + \\lambda_{1} \\lambda_{4}^{2} - \\lambda_{2} \\lambda_{3} \\lambda_{4} + \\lambda_{2} \\lambda_{4}^{2} + \\lambda_{3} \\lambda_{4}^{2} - \\lambda_{4}^{3}}\\right \\}$$"
      ],
      "text/plain": [
       "⎧                                                                             \n",
       "⎪                                                                             \n",
       "⎨(1, 1): \\Phi_{ 1, 1 }(z) = ──────────────────────────────────────────────────\n",
       "⎪                                     3             2                        2\n",
       "⎩                           \\lambda[1]  - \\lambda[1] ⋅\\lambda[2] - \\lambda[1] \n",
       "\n",
       "                                                               3              \n",
       "                                                              z               \n",
       "──────────────────────────────────────────────────────────────────────────────\n",
       "                        2                                                     \n",
       "⋅\\lambda[3] - \\lambda[1] ⋅\\lambda[4] + \\lambda[1]⋅\\lambda[2]⋅\\lambda[3] + \\lam\n",
       "\n",
       "                                                                              \n",
       "                                                                              \n",
       "──────────────────────────────────────────────────────────────────────────────\n",
       "                                                                              \n",
       "bda[1]⋅\\lambda[2]⋅\\lambda[4] + \\lambda[1]⋅\\lambda[3]⋅\\lambda[4] - \\lambda[2]⋅\\\n",
       "\n",
       "                                                                              \n",
       "                                                                              \n",
       "──────────────────── - ───────────────────────────────────────────────────────\n",
       "                                 3             2                        2     \n",
       "lambda[3]⋅\\lambda[4]   \\lambda[1]  - \\lambda[1] ⋅\\lambda[2] - \\lambda[1] ⋅\\lam\n",
       "\n",
       "                                      2                                       \n",
       "                                     z ⋅(\\lambda[2] + \\lambda[3] + \\lambda[4])\n",
       "──────────────────────────────────────────────────────────────────────────────\n",
       "                   2                                                          \n",
       "bda[3] - \\lambda[1] ⋅\\lambda[4] + \\lambda[1]⋅\\lambda[2]⋅\\lambda[3] + \\lambda[1\n",
       "\n",
       "                                                                              \n",
       "                                                                              \n",
       "──────────────────────────────────────────────────────────────────────────────\n",
       "                                                                              \n",
       "]⋅\\lambda[2]⋅\\lambda[4] + \\lambda[1]⋅\\lambda[3]⋅\\lambda[4] - \\lambda[2]⋅\\lambd\n",
       "\n",
       "                                                                              \n",
       "                                                                              \n",
       "─────────────── + ────────────────────────────────────────────────────────────\n",
       "                            3             2                        2          \n",
       "a[3]⋅\\lambda[4]   \\lambda[1]  - \\lambda[1] ⋅\\lambda[2] - \\lambda[1] ⋅\\lambda[3\n",
       "\n",
       "                                                                              \n",
       "                z⋅(\\lambda[2]⋅\\lambda[3] + \\lambda[2]⋅\\lambda[4] + \\lambda[3]⋅\n",
       "──────────────────────────────────────────────────────────────────────────────\n",
       "              2                                                               \n",
       "] - \\lambda[1] ⋅\\lambda[4] + \\lambda[1]⋅\\lambda[2]⋅\\lambda[3] + \\lambda[1]⋅\\la\n",
       "\n",
       "                                                                              \n",
       "\\lambda[4])                                                                   \n",
       "──────────────────────────────────────────────────────────────────────────────\n",
       "                                                                              \n",
       "mbda[2]⋅\\lambda[4] + \\lambda[1]⋅\\lambda[3]⋅\\lambda[4] - \\lambda[2]⋅\\lambda[3]⋅\n",
       "\n",
       "                                                                              \n",
       "                                                                              \n",
       "────────── - ─────────────────────────────────────────────────────────────────\n",
       "                       3             2                        2               \n",
       "\\lambda[4]   \\lambda[1]  - \\lambda[1] ⋅\\lambda[2] - \\lambda[1] ⋅\\lambda[3] - \\\n",
       "\n",
       "                                                                              \n",
       "                                \\lambda[2]⋅\\lambda[3]⋅\\lambda[4]              \n",
       "──────────────────────────────────────────────────────────────────────────────\n",
       "         2                                                                    \n",
       "lambda[1] ⋅\\lambda[4] + \\lambda[1]⋅\\lambda[2]⋅\\lambda[3] + \\lambda[1]⋅\\lambda[\n",
       "\n",
       "                                                                              \n",
       "                                                                              \n",
       "──────────────────────────────────────────────────────────────────────────────\n",
       "                                                                              \n",
       "2]⋅\\lambda[4] + \\lambda[1]⋅\\lambda[3]⋅\\lambda[4] - \\lambda[2]⋅\\lambda[3]⋅\\lamb\n",
       "\n",
       "                                                                              \n",
       "                                                                              \n",
       "─────, (2, 1): \\Phi_{ 2, 1 }(z) = - ──────────────────────────────────────────\n",
       "                                                         2                    \n",
       "da[4]                               \\lambda[1]⋅\\lambda[2]  - \\lambda[1]⋅\\lambd\n",
       "\n",
       "                                                                       3      \n",
       "                                                                      z       \n",
       "──────────────────────────────────────────────────────────────────────────────\n",
       "                                                                              \n",
       "a[2]⋅\\lambda[3] - \\lambda[1]⋅\\lambda[2]⋅\\lambda[4] + \\lambda[1]⋅\\lambda[3]⋅\\la\n",
       "\n",
       "                                                                              \n",
       "                                                                              \n",
       "──────────────────────────────────────────────────────────────────────────────\n",
       "                    3             2                        2                  \n",
       "mbda[4] - \\lambda[2]  + \\lambda[2] ⋅\\lambda[3] + \\lambda[2] ⋅\\lambda[4] - \\lam\n",
       "\n",
       "                                                                              \n",
       "                                                                              \n",
       "──────────────────────────── + ───────────────────────────────────────────────\n",
       "                                                    2                         \n",
       "bda[2]⋅\\lambda[3]⋅\\lambda[4]   \\lambda[1]⋅\\lambda[2]  - \\lambda[1]⋅\\lambda[2]⋅\n",
       "\n",
       "                                              2                               \n",
       "                                             z ⋅(\\lambda[1] + \\lambda[3] + \\la\n",
       "──────────────────────────────────────────────────────────────────────────────\n",
       "                                                                              \n",
       "\\lambda[3] - \\lambda[1]⋅\\lambda[2]⋅\\lambda[4] + \\lambda[1]⋅\\lambda[3]⋅\\lambda[\n",
       "\n",
       "                                                                              \n",
       "mbda[4])                                                                      \n",
       "──────────────────────────────────────────────────────────────────────────────\n",
       "               3             2                        2                       \n",
       "4] - \\lambda[2]  + \\lambda[2] ⋅\\lambda[3] + \\lambda[2] ⋅\\lambda[4] - \\lambda[2\n",
       "\n",
       "                                                                              \n",
       "                                                                              \n",
       "─────────────────────── - ────────────────────────────────────────────────────\n",
       "                                               2                              \n",
       "]⋅\\lambda[3]⋅\\lambda[4]   \\lambda[1]⋅\\lambda[2]  - \\lambda[1]⋅\\lambda[2]⋅\\lamb\n",
       "\n",
       "                                                                              \n",
       "                        z⋅(\\lambda[1]⋅\\lambda[3] + \\lambda[1]⋅\\lambda[4] + \\la\n",
       "──────────────────────────────────────────────────────────────────────────────\n",
       "                                                                              \n",
       "da[3] - \\lambda[1]⋅\\lambda[2]⋅\\lambda[4] + \\lambda[1]⋅\\lambda[3]⋅\\lambda[4] - \n",
       "\n",
       "                                                                              \n",
       "mbda[3]⋅\\lambda[4])                                                           \n",
       "──────────────────────────────────────────────────────────────────────────────\n",
       "          3             2                        2                            \n",
       "\\lambda[2]  + \\lambda[2] ⋅\\lambda[3] + \\lambda[2] ⋅\\lambda[4] - \\lambda[2]⋅\\la\n",
       "\n",
       "                                                                              \n",
       "                                                                              \n",
       "────────────────── + ─────────────────────────────────────────────────────────\n",
       "                                          2                                   \n",
       "mbda[3]⋅\\lambda[4]   \\lambda[1]⋅\\lambda[2]  - \\lambda[1]⋅\\lambda[2]⋅\\lambda[3]\n",
       "\n",
       "                                                                              \n",
       "                                        \\lambda[1]⋅\\lambda[3]⋅\\lambda[4]      \n",
       "──────────────────────────────────────────────────────────────────────────────\n",
       "                                                                              \n",
       " - \\lambda[1]⋅\\lambda[2]⋅\\lambda[4] + \\lambda[1]⋅\\lambda[3]⋅\\lambda[4] - \\lamb\n",
       "\n",
       "                                                                              \n",
       "                                                                              \n",
       "──────────────────────────────────────────────────────────────────────────────\n",
       "     3             2                        2                                 \n",
       "da[2]  + \\lambda[2] ⋅\\lambda[3] + \\lambda[2] ⋅\\lambda[4] - \\lambda[2]⋅\\lambda[\n",
       "\n",
       "                                                                              \n",
       "                                                                              \n",
       "─────────────, (3, 1): \\Phi_{ 3, 1 }(z) = ────────────────────────────────────\n",
       "                                                                              \n",
       "3]⋅\\lambda[4]                             \\lambda[1]⋅\\lambda[2]⋅\\lambda[3] - \\\n",
       "\n",
       "                                                                             3\n",
       "                                                                            z \n",
       "──────────────────────────────────────────────────────────────────────────────\n",
       "                                                       2                      \n",
       "lambda[1]⋅\\lambda[2]⋅\\lambda[4] - \\lambda[1]⋅\\lambda[3]  + \\lambda[1]⋅\\lambda[\n",
       "\n",
       "                                                                              \n",
       "                                                                              \n",
       "──────────────────────────────────────────────────────────────────────────────\n",
       "                                     2                                        \n",
       "3]⋅\\lambda[4] - \\lambda[2]⋅\\lambda[3]  + \\lambda[2]⋅\\lambda[3]⋅\\lambda[4] + \\l\n",
       "\n",
       "                                                                              \n",
       "                                                                              \n",
       "────────────────────────────────── - ─────────────────────────────────────────\n",
       "        3             2                                                       \n",
       "ambda[3]  - \\lambda[3] ⋅\\lambda[4]   \\lambda[1]⋅\\lambda[2]⋅\\lambda[3] - \\lambd\n",
       "\n",
       "                                                    2                         \n",
       "                                                   z ⋅(\\lambda[1] + \\lambda[2]\n",
       "──────────────────────────────────────────────────────────────────────────────\n",
       "                                                  2                           \n",
       "a[1]⋅\\lambda[2]⋅\\lambda[4] - \\lambda[1]⋅\\lambda[3]  + \\lambda[1]⋅\\lambda[3]⋅\\l\n",
       "\n",
       "                                                                              \n",
       " + \\lambda[4])                                                                \n",
       "──────────────────────────────────────────────────────────────────────────────\n",
       "                                2                                             \n",
       "ambda[4] - \\lambda[2]⋅\\lambda[3]  + \\lambda[2]⋅\\lambda[3]⋅\\lambda[4] + \\lambda\n",
       "\n",
       "                                                                              \n",
       "                                                                              \n",
       "───────────────────────────── + ──────────────────────────────────────────────\n",
       "   3             2                                                            \n",
       "[3]  - \\lambda[3] ⋅\\lambda[4]   \\lambda[1]⋅\\lambda[2]⋅\\lambda[3] - \\lambda[1]⋅\n",
       "\n",
       "                                                                              \n",
       "                              z⋅(\\lambda[1]⋅\\lambda[2] + \\lambda[1]⋅\\lambda[4]\n",
       "──────────────────────────────────────────────────────────────────────────────\n",
       "                                             2                                \n",
       "\\lambda[2]⋅\\lambda[4] - \\lambda[1]⋅\\lambda[3]  + \\lambda[1]⋅\\lambda[3]⋅\\lambda\n",
       "\n",
       "                                                                              \n",
       " + \\lambda[2]⋅\\lambda[4])                                                     \n",
       "──────────────────────────────────────────────────────────────────────────────\n",
       "                           2                                                3 \n",
       "[4] - \\lambda[2]⋅\\lambda[3]  + \\lambda[2]⋅\\lambda[3]⋅\\lambda[4] + \\lambda[3]  \n",
       "\n",
       "                                                                              \n",
       "                                                                              \n",
       "──────────────────────── - ───────────────────────────────────────────────────\n",
       "            2                                                                 \n",
       "- \\lambda[3] ⋅\\lambda[4]   \\lambda[1]⋅\\lambda[2]⋅\\lambda[3] - \\lambda[1]⋅\\lamb\n",
       "\n",
       "                                                                              \n",
       "                                              \\lambda[1]⋅\\lambda[2]⋅\\lambda[4]\n",
       "──────────────────────────────────────────────────────────────────────────────\n",
       "                                        2                                     \n",
       "da[2]⋅\\lambda[4] - \\lambda[1]⋅\\lambda[3]  + \\lambda[1]⋅\\lambda[3]⋅\\lambda[4] -\n",
       "\n",
       "                                                                              \n",
       "                                                                              \n",
       "──────────────────────────────────────────────────────────────────────────────\n",
       "                      2                                                3      \n",
       " \\lambda[2]⋅\\lambda[3]  + \\lambda[2]⋅\\lambda[3]⋅\\lambda[4] + \\lambda[3]  - \\la\n",
       "\n",
       "                                                                              \n",
       "                                                                              \n",
       "───────────────────, (4, 1): \\Phi_{ 4, 1 }(z) = - ────────────────────────────\n",
       "       2                                                                      \n",
       "mbda[3] ⋅\\lambda[4]                               \\lambda[1]⋅\\lambda[2]⋅\\lambd\n",
       "\n",
       "                                                                              \n",
       "                                                                              \n",
       "──────────────────────────────────────────────────────────────────────────────\n",
       "                                                                              \n",
       "a[3] - \\lambda[1]⋅\\lambda[2]⋅\\lambda[4] - \\lambda[1]⋅\\lambda[3]⋅\\lambda[4] + \\\n",
       "\n",
       "       3                                                                      \n",
       "      z                                                                       \n",
       "──────────────────────────────────────────────────────────────────────────────\n",
       "                    2                                                         \n",
       "lambda[1]⋅\\lambda[4]  - \\lambda[2]⋅\\lambda[3]⋅\\lambda[4] + \\lambda[2]⋅\\lambda[\n",
       "\n",
       "                                                                              \n",
       "                                                                              \n",
       "────────────────────────────────────────── + ─────────────────────────────────\n",
       "  2                        2             3                                    \n",
       "4]  + \\lambda[3]⋅\\lambda[4]  - \\lambda[4]    \\lambda[1]⋅\\lambda[2]⋅\\lambda[3] \n",
       "\n",
       "                                                            2                 \n",
       "                                                           z ⋅(\\lambda[1] + \\l\n",
       "──────────────────────────────────────────────────────────────────────────────\n",
       "                                                                              \n",
       "- \\lambda[1]⋅\\lambda[2]⋅\\lambda[4] - \\lambda[1]⋅\\lambda[3]⋅\\lambda[4] + \\lambd\n",
       "\n",
       "                                                                              \n",
       "ambda[2] + \\lambda[3])                                                        \n",
       "──────────────────────────────────────────────────────────────────────────────\n",
       "               2                                                           2  \n",
       "a[1]⋅\\lambda[4]  - \\lambda[2]⋅\\lambda[3]⋅\\lambda[4] + \\lambda[2]⋅\\lambda[4]  +\n",
       "\n",
       "                                                                              \n",
       "                                                                              \n",
       "───────────────────────────────────── - ──────────────────────────────────────\n",
       "                      2             3                                         \n",
       " \\lambda[3]⋅\\lambda[4]  - \\lambda[4]    \\lambda[1]⋅\\lambda[2]⋅\\lambda[3] - \\la\n",
       "\n",
       "                                                                              \n",
       "                                      z⋅(\\lambda[1]⋅\\lambda[2] + \\lambda[1]⋅\\l\n",
       "──────────────────────────────────────────────────────────────────────────────\n",
       "                                                                              \n",
       "mbda[1]⋅\\lambda[2]⋅\\lambda[4] - \\lambda[1]⋅\\lambda[3]⋅\\lambda[4] + \\lambda[1]⋅\n",
       "\n",
       "                                                                              \n",
       "ambda[3] + \\lambda[2]⋅\\lambda[3])                                             \n",
       "──────────────────────────────────────────────────────────────────────────────\n",
       "          2                                                           2       \n",
       "\\lambda[4]  - \\lambda[2]⋅\\lambda[3]⋅\\lambda[4] + \\lambda[2]⋅\\lambda[4]  + \\lam\n",
       "\n",
       "                                                                              \n",
       "                                                                              \n",
       "──────────────────────────────── + ───────────────────────────────────────────\n",
       "                 2             3                                              \n",
       "bda[3]⋅\\lambda[4]  - \\lambda[4]    \\lambda[1]⋅\\lambda[2]⋅\\lambda[3] - \\lambda[\n",
       "\n",
       "                                                                              \n",
       "                                                      \\lambda[1]⋅\\lambda[2]⋅\\l\n",
       "──────────────────────────────────────────────────────────────────────────────\n",
       "                                                                              \n",
       "1]⋅\\lambda[2]⋅\\lambda[4] - \\lambda[1]⋅\\lambda[3]⋅\\lambda[4] + \\lambda[1]⋅\\lamb\n",
       "\n",
       "                                                                              \n",
       "ambda[3]                                                                      \n",
       "──────────────────────────────────────────────────────────────────────────────\n",
       "     2                                                           2            \n",
       "da[4]  - \\lambda[2]⋅\\lambda[3]⋅\\lambda[4] + \\lambda[2]⋅\\lambda[4]  + \\lambda[3\n",
       "\n",
       "                           ⎫\n",
       "                           ⎪\n",
       "───────────────────────────⎬\n",
       "            2             3⎪\n",
       "]⋅\\lambda[4]  - \\lambda[4] ⎭"
      ]
     },
     "execution_count": 8,
     "metadata": {},
     "output_type": "execute_result"
    }
   ],
   "source": [
    "Phi_polynomials = component_polynomials(Phi_poly, eigendata)\n",
    "Phi_polynomials"
   ]
  },
  {
   "cell_type": "code",
   "execution_count": 9,
   "metadata": {
    "collapsed": false
   },
   "outputs": [
    {
     "data": {
      "image/png": "[encoded data removed]",
      "text/latex": [
       "$$\\left [ \\Phi_{ 1, 1 }{\\left (z \\right )} = \\frac{\\left(z - \\lambda_{2}\\right) \\left(z - \\lambda_{3}\\right) \\left(z - \\lambda_{4}\\right)}{\\left(\\lambda_{1} - \\lambda_{2}\\right) \\left(\\lambda_{1} - \\lambda_{3}\\right) \\left(\\lambda_{1} - \\lambda_{4}\\right)}, \\quad \\Phi_{ 2, 1 }{\\left (z \\right )} = - \\frac{\\left(z - \\lambda_{1}\\right) \\left(z - \\lambda_{3}\\right) \\left(z - \\lambda_{4}\\right)}{\\left(\\lambda_{1} - \\lambda_{2}\\right) \\left(\\lambda_{2} - \\lambda_{3}\\right) \\left(\\lambda_{2} - \\lambda_{4}\\right)}, \\quad \\Phi_{ 3, 1 }{\\left (z \\right )} = \\frac{\\left(z - \\lambda_{1}\\right) \\left(z - \\lambda_{2}\\right) \\left(z - \\lambda_{4}\\right)}{\\left(\\lambda_{1} - \\lambda_{3}\\right) \\left(\\lambda_{2} - \\lambda_{3}\\right) \\left(\\lambda_{3} - \\lambda_{4}\\right)}, \\quad \\Phi_{ 4, 1 }{\\left (z \\right )} = - \\frac{\\left(z - \\lambda_{1}\\right) \\left(z - \\lambda_{2}\\right) \\left(z - \\lambda_{3}\\right)}{\\left(\\lambda_{1} - \\lambda_{4}\\right) \\left(\\lambda_{2} - \\lambda_{4}\\right) \\left(\\lambda_{3} - \\lambda_{4}\\right)}\\right ]$$"
      ],
      "text/plain": [
       "⎡                                 (z - \\lambda[2])⋅(z - \\lambda[3])⋅(z - \\lamb\n",
       "⎢\\Phi_{ 1, 1 }(z) = ──────────────────────────────────────────────────────────\n",
       "⎣                   (\\lambda[1] - \\lambda[2])⋅(\\lambda[1] - \\lambda[3])⋅(\\lamb\n",
       "\n",
       "da[4])                                               -(z - \\lambda[1])⋅(z - \\l\n",
       "───────────────────, \\Phi_{ 2, 1 }(z) = ──────────────────────────────────────\n",
       "da[1] - \\lambda[4])                     (\\lambda[1] - \\lambda[2])⋅(\\lambda[2] \n",
       "\n",
       "ambda[3])⋅(z - \\lambda[4])                                                (z -\n",
       "───────────────────────────────────────, \\Phi_{ 3, 1 }(z) = ──────────────────\n",
       "- \\lambda[3])⋅(\\lambda[2] - \\lambda[4])                     (\\lambda[1] - \\lam\n",
       "\n",
       " \\lambda[1])⋅(z - \\lambda[2])⋅(z - \\lambda[4])                                \n",
       "───────────────────────────────────────────────────────────, \\Phi_{ 4, 1 }(z) \n",
       "bda[3])⋅(\\lambda[2] - \\lambda[3])⋅(\\lambda[3] - \\lambda[4])                   \n",
       "\n",
       "               -(z - \\lambda[1])⋅(z - \\lambda[2])⋅(z - \\lambda[3])            \n",
       "= ────────────────────────────────────────────────────────────────────────────\n",
       "  (\\lambda[1] - \\lambda[4])⋅(\\lambda[2] - \\lambda[4])⋅(\\lambda[3] - \\lambda[4]\n",
       "\n",
       " ⎤\n",
       "─⎥\n",
       ")⎦"
      ]
     },
     "execution_count": 9,
     "metadata": {},
     "output_type": "execute_result"
    }
   ],
   "source": [
    "[eq.factor() for k, eq in Phi_polynomials.items()] # pretty print"
   ]
  },
  {
   "cell_type": "markdown",
   "metadata": {
    "deletable": true,
    "editable": true
   },
   "source": [
    "# $\\mathcal{R}$ is a symbolic Riordan array"
   ]
  },
  {
   "cell_type": "code",
   "execution_count": 11,
   "metadata": {
    "collapsed": false,
    "deletable": true,
    "editable": true
   },
   "outputs": [
    {
     "data": {
      "image/png": "[encoded data removed]",
      "text/latex": [
       "$$\\left[\\begin{matrix}1 & 0 & 0 & 0 & 0 & 0 & 0 & 0\\\\d_{1,0} & 1 & 0 & 0 & 0 & 0 & 0 & 0\\\\d_{2,0} & d_{2,1} & 1 & 0 & 0 & 0 & 0 & 0\\\\d_{3,0} & d_{3,1} & d_{3,2} & 1 & 0 & 0 & 0 & 0\\\\d_{4,0} & d_{4,1} & d_{4,2} & d_{4,3} & 1 & 0 & 0 & 0\\\\d_{5,0} & d_{5,1} & d_{5,2} & d_{5,3} & d_{5,4} & 1 & 0 & 0\\\\d_{6,0} & d_{6,1} & d_{6,2} & d_{6,3} & d_{6,4} & d_{6,5} & 1 & 0\\\\d_{7,0} & d_{7,1} & d_{7,2} & d_{7,3} & d_{7,4} & d_{7,5} & d_{7,6} & 1\\end{matrix}\\right]$$"
      ],
      "text/plain": [
       "⎡   1        0        0        0        0        0        0     0⎤\n",
       "⎢                                                                ⎥\n",
       "⎢d[1, 0]     1        0        0        0        0        0     0⎥\n",
       "⎢                                                                ⎥\n",
       "⎢d[2, 0]  d[2, 1]     1        0        0        0        0     0⎥\n",
       "⎢                                                                ⎥\n",
       "⎢d[3, 0]  d[3, 1]  d[3, 2]     1        0        0        0     0⎥\n",
       "⎢                                                                ⎥\n",
       "⎢d[4, 0]  d[4, 1]  d[4, 2]  d[4, 3]     1        0        0     0⎥\n",
       "⎢                                                                ⎥\n",
       "⎢d[5, 0]  d[5, 1]  d[5, 2]  d[5, 3]  d[5, 4]     1        0     0⎥\n",
       "⎢                                                                ⎥\n",
       "⎢d[6, 0]  d[6, 1]  d[6, 2]  d[6, 3]  d[6, 4]  d[6, 5]     1     0⎥\n",
       "⎢                                                                ⎥\n",
       "⎣d[7, 0]  d[7, 1]  d[7, 2]  d[7, 3]  d[7, 4]  d[7, 5]  d[7, 6]  1⎦"
      ]
     },
     "execution_count": 11,
     "metadata": {},
     "output_type": "execute_result"
    }
   ],
   "source": [
    "m=8\n",
    "R = Matrix(m, m, riordan_matrix_by_recurrence(m, lambda n, k: {(n, k):1 if n == k else d[n, k]}))\n",
    "R"
   ]
  },
  {
   "cell_type": "code",
   "execution_count": 12,
   "metadata": {
    "collapsed": false,
    "deletable": true,
    "editable": true
   },
   "outputs": [
    {
     "data": {
      "image/png": "[encoded data removed]",
      "text/latex": [
       "$$\\left ( \\left \\{ 1 : \\left ( \\lambda_{1}, \\quad m_{1}\\right )\\right \\}, \\quad \\left \\{ \\lambda_{1} : 1\\right \\}, \\quad \\left \\{ m_{1} : 8\\right \\}\\right )$$"
      ],
      "text/plain": [
       "({1: (\\lambda[1], m[1])}, {\\lambda[1]: 1}, {m[1]: 8})"
      ]
     },
     "execution_count": 12,
     "metadata": {},
     "output_type": "execute_result"
    }
   ],
   "source": [
    "data, eigenvals, multiplicities = eigendata = eigen_data(R)\n",
    "eigendata"
   ]
  },
  {
   "cell_type": "code",
   "execution_count": 13,
   "metadata": {
    "collapsed": false,
    "deletable": true,
    "editable": true
   },
   "outputs": [
    {
     "data": {
      "image/png": "[encoded data removed]",
      "text/latex": [
       "$$\\Phi{\\left (z,i,j \\right )} = z^{7} \\phi_{i,j,0} + z^{6} \\phi_{i,j,1} + z^{5} \\phi_{i,j,2} + z^{4} \\phi_{i,j,3} + z^{3} \\phi_{i,j,4} + z^{2} \\phi_{i,j,5} + z \\phi_{i,j,6} + \\phi_{i,j,7}$$"
      ],
      "text/plain": [
       "                 7                  6                  5                  4   \n",
       "\\Phi(z, i, j) = z ⋅\\phi[i, j, 0] + z ⋅\\phi[i, j, 1] + z ⋅\\phi[i, j, 2] + z ⋅\\p\n",
       "\n",
       "               3                  2                                           \n",
       "hi[i, j, 3] + z ⋅\\phi[i, j, 4] + z ⋅\\phi[i, j, 5] + z⋅\\phi[i, j, 6] + \\phi[i, \n",
       "\n",
       "     \n",
       "j, 7]"
      ]
     },
     "execution_count": 13,
     "metadata": {},
     "output_type": "execute_result"
    }
   ],
   "source": [
    "Phi_poly = Phi_poly_ctor(deg=m-1)\n",
    "Phi_poly"
   ]
  },
  {
   "cell_type": "code",
   "execution_count": 15,
   "metadata": {
    "collapsed": false,
    "deletable": true,
    "editable": true
   },
   "outputs": [
    {
     "data": {
      "image/png": "[encoded data removed]",
      "text/latex": [
       "$$\\left \\{ \\left ( 1, \\quad 1\\right ) : \\Phi_{ 1, 1 }{\\left (z \\right )} = 1, \\quad \\left ( 1, \\quad 2\\right ) : \\Phi_{ 1, 2 }{\\left (z \\right )} = z - \\lambda_{1}, \\quad \\left ( 1, \\quad 3\\right ) : \\Phi_{ 1, 3 }{\\left (z \\right )} = \\frac{z^{2}}{2} - z \\lambda_{1} + \\frac{\\lambda_{1}^{2}}{2}, \\quad \\left ( 1, \\quad 4\\right ) : \\Phi_{ 1, 4 }{\\left (z \\right )} = \\frac{z^{3}}{6} - \\frac{z^{2} \\lambda_{1}}{2} + \\frac{z \\lambda_{1}^{2}}{2} - \\frac{\\lambda_{1}^{3}}{6}, \\quad \\left ( 1, \\quad 5\\right ) : \\Phi_{ 1, 5 }{\\left (z \\right )} = \\frac{z^{4}}{24} - \\frac{z^{3} \\lambda_{1}}{6} + \\frac{z^{2} \\lambda_{1}^{2}}{4} - \\frac{z \\lambda_{1}^{3}}{6} + \\frac{\\lambda_{1}^{4}}{24}, \\quad \\left ( 1, \\quad 6\\right ) : \\Phi_{ 1, 6 }{\\left (z \\right )} = \\frac{z^{5}}{120} - \\frac{z^{4} \\lambda_{1}}{24} + \\frac{z^{3} \\lambda_{1}^{2}}{12} - \\frac{z^{2} \\lambda_{1}^{3}}{12} + \\frac{z \\lambda_{1}^{4}}{24} - \\frac{\\lambda_{1}^{5}}{120}, \\quad \\left ( 1, \\quad 7\\right ) : \\Phi_{ 1, 7 }{\\left (z \\right )} = \\frac{z^{6}}{720} - \\frac{z^{5} \\lambda_{1}}{120} + \\frac{z^{4} \\lambda_{1}^{2}}{48} - \\frac{z^{3} \\lambda_{1}^{3}}{36} + \\frac{z^{2} \\lambda_{1}^{4}}{48} - \\frac{z \\lambda_{1}^{5}}{120} + \\frac{\\lambda_{1}^{6}}{720}, \\quad \\left ( 1, \\quad 8\\right ) : \\Phi_{ 1, 8 }{\\left (z \\right )} = \\frac{z^{7}}{5040} - \\frac{z^{6} \\lambda_{1}}{720} + \\frac{z^{5} \\lambda_{1}^{2}}{240} - \\frac{z^{4} \\lambda_{1}^{3}}{144} + \\frac{z^{3} \\lambda_{1}^{4}}{144} - \\frac{z^{2} \\lambda_{1}^{5}}{240} + \\frac{z \\lambda_{1}^{6}}{720} - \\frac{\\lambda_{1}^{7}}{5040}\\right \\}$$"
      ],
      "text/plain": [
       "⎧                                                                             \n",
       "⎪                                                                             \n",
       "⎨(1, 1): \\Phi_{ 1, 1 }(z) = 1, (1, 2): \\Phi_{ 1, 2 }(z) = z - \\lambda[1], (1, \n",
       "⎪                                                                             \n",
       "⎩                                                                             \n",
       "\n",
       "                        2                            2                        \n",
       "                       z                   \\lambda[1]                         \n",
       "3): \\Phi_{ 1, 3 }(z) = ── - z⋅\\lambda[1] + ───────────, (1, 4): \\Phi_{ 1, 4 }(\n",
       "                       2                        2                             \n",
       "                                                                              \n",
       "\n",
       "      3    2                          2             3                         \n",
       "     z    z ⋅\\lambda[1]   z⋅\\lambda[1]    \\lambda[1]                          \n",
       "z) = ── - ───────────── + ───────────── - ───────────, (1, 5): \\Phi_{ 1, 5 }(z\n",
       "     6          2               2              6                              \n",
       "                                                                              \n",
       "\n",
       "     4    3               2           2               3             4         \n",
       "    z    z ⋅\\lambda[1]   z ⋅\\lambda[1]    z⋅\\lambda[1]    \\lambda[1]          \n",
       ") = ── - ───────────── + ────────────── - ───────────── + ───────────, (1, 6):\n",
       "    24         6               4                6              24             \n",
       "                                                                              \n",
       "\n",
       "                      5    4               3           2    2           3     \n",
       "                     z    z ⋅\\lambda[1]   z ⋅\\lambda[1]    z ⋅\\lambda[1]    z⋅\n",
       " \\Phi_{ 1, 6 }(z) = ─── - ───────────── + ────────────── - ────────────── + ──\n",
       "                    120         24              12               12           \n",
       "                                                                              \n",
       "\n",
       "          4             5                               6    5               4\n",
       "\\lambda[1]    \\lambda[1]                               z    z ⋅\\lambda[1]   z \n",
       "─────────── - ───────────, (1, 7): \\Phi_{ 1, 7 }(z) = ─── - ───────────── + ──\n",
       "    24            120                                 720        120          \n",
       "                                                                              \n",
       "\n",
       "           2    3           3    2           4               5             6  \n",
       "⋅\\lambda[1]    z ⋅\\lambda[1]    z ⋅\\lambda[1]    z⋅\\lambda[1]    \\lambda[1]   \n",
       "──────────── - ────────────── + ────────────── - ───────────── + ───────────, \n",
       "    48               36               48              120            720      \n",
       "                                                                              \n",
       "\n",
       "                             7     6               5           2    4         \n",
       "                            z     z ⋅\\lambda[1]   z ⋅\\lambda[1]    z ⋅\\lambda[\n",
       "(1, 8): \\Phi_{ 1, 8 }(z) = ──── - ───────────── + ────────────── - ───────────\n",
       "                           5040        720             240              144   \n",
       "                                                                              \n",
       "\n",
       "  3    3           4    2           5               6             7⎫\n",
       "1]    z ⋅\\lambda[1]    z ⋅\\lambda[1]    z⋅\\lambda[1]    \\lambda[1] ⎪\n",
       "─── + ────────────── - ────────────── + ───────────── - ───────────⎬\n",
       "           144              240              720            5040   ⎪\n",
       "                                                                   ⎭"
      ]
     },
     "execution_count": 15,
     "metadata": {},
     "output_type": "execute_result"
    }
   ],
   "source": [
    "Phi_polynomials = component_polynomials(Phi_poly, eigendata)\n",
    "Phi_polynomials"
   ]
  },
  {
   "cell_type": "code",
   "execution_count": 16,
   "metadata": {
    "collapsed": false
   },
   "outputs": [
    {
     "data": {
      "image/png": "[encoded data removed]",
      "text/latex": [
       "$$\\left [ \\Phi_{ 1, 1 }{\\left (z \\right )} = 1, \\quad \\Phi_{ 1, 2 }{\\left (z \\right )} = z - \\lambda_{1}, \\quad \\Phi_{ 1, 3 }{\\left (z \\right )} = \\frac{z^{2}}{2} - z \\lambda_{1} + \\frac{\\lambda_{1}^{2}}{2}, \\quad \\Phi_{ 1, 4 }{\\left (z \\right )} = \\frac{z^{3}}{6} - \\frac{z^{2} \\lambda_{1}}{2} + \\frac{z \\lambda_{1}^{2}}{2} - \\frac{\\lambda_{1}^{3}}{6}, \\quad \\Phi_{ 1, 5 }{\\left (z \\right )} = \\frac{z^{4}}{24} - \\frac{z^{3} \\lambda_{1}}{6} + \\frac{z^{2} \\lambda_{1}^{2}}{4} - \\frac{z \\lambda_{1}^{3}}{6} + \\frac{\\lambda_{1}^{4}}{24}, \\quad \\Phi_{ 1, 6 }{\\left (z \\right )} = \\frac{z^{5}}{120} - \\frac{z^{4} \\lambda_{1}}{24} + \\frac{z^{3} \\lambda_{1}^{2}}{12} - \\frac{z^{2} \\lambda_{1}^{3}}{12} + \\frac{z \\lambda_{1}^{4}}{24} - \\frac{\\lambda_{1}^{5}}{120}, \\quad \\Phi_{ 1, 7 }{\\left (z \\right )} = \\frac{z^{6}}{720} - \\frac{z^{5} \\lambda_{1}}{120} + \\frac{z^{4} \\lambda_{1}^{2}}{48} - \\frac{z^{3} \\lambda_{1}^{3}}{36} + \\frac{z^{2} \\lambda_{1}^{4}}{48} - \\frac{z \\lambda_{1}^{5}}{120} + \\frac{\\lambda_{1}^{6}}{720}, \\quad \\Phi_{ 1, 8 }{\\left (z \\right )} = \\frac{z^{7}}{5040} - \\frac{z^{6} \\lambda_{1}}{720} + \\frac{z^{5} \\lambda_{1}^{2}}{240} - \\frac{z^{4} \\lambda_{1}^{3}}{144} + \\frac{z^{3} \\lambda_{1}^{4}}{144} - \\frac{z^{2} \\lambda_{1}^{5}}{240} + \\frac{z \\lambda_{1}^{6}}{720} - \\frac{\\lambda_{1}^{7}}{5040}\\right ]$$"
      ],
      "text/plain": [
       "⎡                                                                             \n",
       "⎢                                                                            z\n",
       "⎢\\Phi_{ 1, 1 }(z) = 1, \\Phi_{ 1, 2 }(z) = z - \\lambda[1], \\Phi_{ 1, 3 }(z) = ─\n",
       "⎣                                                                            2\n",
       "\n",
       "2                            2                      3    2                    \n",
       "                   \\lambda[1]                      z    z ⋅\\lambda[1]   z⋅\\lam\n",
       "─ - z⋅\\lambda[1] + ───────────, \\Phi_{ 1, 4 }(z) = ── - ───────────── + ──────\n",
       "                        2                          6          2               \n",
       "\n",
       "      2             3                      4    3               2           2 \n",
       "bda[1]    \\lambda[1]                      z    z ⋅\\lambda[1]   z ⋅\\lambda[1]  \n",
       "─────── - ───────────, \\Phi_{ 1, 5 }(z) = ── - ───────────── + ────────────── \n",
       "2              6                          24         6               4        \n",
       "\n",
       "              3             4                       5    4               3    \n",
       "  z⋅\\lambda[1]    \\lambda[1]                       z    z ⋅\\lambda[1]   z ⋅\\la\n",
       "- ───────────── + ───────────, \\Phi_{ 1, 6 }(z) = ─── - ───────────── + ──────\n",
       "        6              24                         120         24              \n",
       "\n",
       "       2    2           3               4             5                       \n",
       "mbda[1]    z ⋅\\lambda[1]    z⋅\\lambda[1]    \\lambda[1]                       z\n",
       "──────── - ────────────── + ───────────── - ───────────, \\Phi_{ 1, 7 }(z) = ──\n",
       "12               12               24            120                         72\n",
       "\n",
       "6    5               4           2    3           3    2           4          \n",
       "    z ⋅\\lambda[1]   z ⋅\\lambda[1]    z ⋅\\lambda[1]    z ⋅\\lambda[1]    z⋅\\lamb\n",
       "─ - ───────────── + ────────────── - ────────────── + ────────────── - ───────\n",
       "0        120              48               36               48              12\n",
       "\n",
       "     5             6                       7     6               5           2\n",
       "da[1]    \\lambda[1]                       z     z ⋅\\lambda[1]   z ⋅\\lambda[1] \n",
       "────── + ───────────, \\Phi_{ 1, 8 }(z) = ──── - ───────────── + ──────────────\n",
       "0            720                         5040        720             240      \n",
       "\n",
       "    4           3    3           4    2           5               6           \n",
       "   z ⋅\\lambda[1]    z ⋅\\lambda[1]    z ⋅\\lambda[1]    z⋅\\lambda[1]    \\lambda[\n",
       " - ────────────── + ────────────── - ────────────── + ───────────── - ────────\n",
       "        144              144              240              720            5040\n",
       "\n",
       "  7⎤\n",
       "1] ⎥\n",
       "───⎥\n",
       "   ⎦"
      ]
     },
     "execution_count": 16,
     "metadata": {},
     "output_type": "execute_result"
    }
   ],
   "source": [
    "[Phi_polynomials[1,i] for i in range(1, m+1)] # pretty print"
   ]
  },
  {
   "cell_type": "code",
   "execution_count": 17,
   "metadata": {
    "collapsed": false,
    "deletable": true,
    "editable": true
   },
   "outputs": [
    {
     "data": {
      "image/png": "[encoded data removed]",
      "text/latex": [
       "$$d_{n,k} = \\frac{\\left(- \\lambda_{1}\\right)^{- k + n}}{k! \\left(- k + n\\right)!}$$"
      ],
      "text/plain": [
       "                       -k + n\n",
       "          (-\\lambda[1])      \n",
       "d[n, k] = ───────────────────\n",
       "              k!⋅(-k + n)!   "
      ]
     },
     "execution_count": 17,
     "metadata": {},
     "output_type": "execute_result"
    }
   ],
   "source": [
    "d = IndexedBase('d')\n",
    "define(let=d[n,k], be=(-lamda_indexed[1])**(n-k)/(factorial(n-k)*factorial(k)))"
   ]
  },
  {
   "cell_type": "code",
   "execution_count": 18,
   "metadata": {
    "collapsed": false,
    "deletable": true,
    "editable": true
   },
   "outputs": [
    {
     "data": {
      "image/png": "[encoded data removed]",
      "text/latex": [
       "$$\\left ( \\left[\\begin{matrix}1 & 0 & 0 & 0 & 0 & 0 & 0 & 0\\\\- \\lambda_{1} & 1 & 0 & 0 & 0 & 0 & 0 & 0\\\\\\frac{\\lambda_{1}^{2}}{2} & - \\lambda_{1} & \\frac{1}{2} & 0 & 0 & 0 & 0 & 0\\\\- \\frac{\\lambda_{1}^{3}}{6} & \\frac{\\lambda_{1}^{2}}{2} & - \\frac{\\lambda_{1}}{2} & \\frac{1}{6} & 0 & 0 & 0 & 0\\\\\\frac{\\lambda_{1}^{4}}{24} & - \\frac{\\lambda_{1}^{3}}{6} & \\frac{\\lambda_{1}^{2}}{4} & - \\frac{\\lambda_{1}}{6} & \\frac{1}{24} & 0 & 0 & 0\\\\- \\frac{\\lambda_{1}^{5}}{120} & \\frac{\\lambda_{1}^{4}}{24} & - \\frac{\\lambda_{1}^{3}}{12} & \\frac{\\lambda_{1}^{2}}{12} & - \\frac{\\lambda_{1}}{24} & \\frac{1}{120} & 0 & 0\\\\\\frac{\\lambda_{1}^{6}}{720} & - \\frac{\\lambda_{1}^{5}}{120} & \\frac{\\lambda_{1}^{4}}{48} & - \\frac{\\lambda_{1}^{3}}{36} & \\frac{\\lambda_{1}^{2}}{48} & - \\frac{\\lambda_{1}}{120} & \\frac{1}{720} & 0\\\\- \\frac{\\lambda_{1}^{7}}{5040} & \\frac{\\lambda_{1}^{6}}{720} & - \\frac{\\lambda_{1}^{5}}{240} & \\frac{\\lambda_{1}^{4}}{144} & - \\frac{\\lambda_{1}^{3}}{144} & \\frac{\\lambda_{1}^{2}}{240} & - \\frac{\\lambda_{1}}{720} & \\frac{1}{5040}\\end{matrix}\\right], \\quad \\left[\\begin{matrix}1\\\\z\\\\z^{2}\\\\z^{3}\\\\z^{4}\\\\z^{5}\\\\z^{6}\\\\z^{7}\\end{matrix}\\right], \\quad \\left[\\begin{matrix}\\Phi_{ 1, 1 }{\\left (z \\right )}\\\\\\Phi_{ 1, 2 }{\\left (z \\right )}\\\\\\Phi_{ 1, 3 }{\\left (z \\right )}\\\\\\Phi_{ 1, 4 }{\\left (z \\right )}\\\\\\Phi_{ 1, 5 }{\\left (z \\right )}\\\\\\Phi_{ 1, 6 }{\\left (z \\right )}\\\\\\Phi_{ 1, 7 }{\\left (z \\right )}\\\\\\Phi_{ 1, 8 }{\\left (z \\right )}\\end{matrix}\\right]\\right )$$"
      ],
      "text/plain": [
       "⎛⎡      1              0              0              0              0         \n",
       "⎜⎢                                                                            \n",
       "⎜⎢ -\\lambda[1]         1              0              0              0         \n",
       "⎜⎢                                                                            \n",
       "⎜⎢           2                                                                \n",
       "⎜⎢ \\lambda[1]                                                                 \n",
       "⎜⎢ ───────────    -\\lambda[1]        1/2             0              0         \n",
       "⎜⎢      2                                                                     \n",
       "⎜⎢                                                                            \n",
       "⎜⎢           3              2                                                 \n",
       "⎜⎢-\\lambda[1]     \\lambda[1]    -\\lambda[1]                                   \n",
       "⎜⎢─────────────   ───────────   ────────────        1/6             0         \n",
       "⎜⎢      6              2             2                                        \n",
       "⎜⎢                                                                            \n",
       "⎜⎢           4              3              2                                  \n",
       "⎜⎢ \\lambda[1]    -\\lambda[1]     \\lambda[1]    -\\lambda[1]                    \n",
       "⎜⎢ ───────────   ─────────────   ───────────   ────────────       1/24        \n",
       "⎜⎢      24             6              4             6                         \n",
       "⎜⎢                                                                            \n",
       "⎜⎢           5              4              3              2                   \n",
       "⎜⎢-\\lambda[1]     \\lambda[1]    -\\lambda[1]     \\lambda[1]    -\\lambda[1]     \n",
       "⎜⎢─────────────   ───────────   ─────────────   ───────────   ────────────    \n",
       "⎜⎢     120             24             12             12            24         \n",
       "⎜⎢                                                                            \n",
       "⎜⎢           6              5              4              3              2    \n",
       "⎜⎢ \\lambda[1]    -\\lambda[1]     \\lambda[1]    -\\lambda[1]     \\lambda[1]    -\n",
       "⎜⎢ ───────────   ─────────────   ───────────   ─────────────   ───────────   ─\n",
       "⎜⎢     720            120             48             36             48        \n",
       "⎜⎢                                                                            \n",
       "⎜⎢           7              6              5              4              3    \n",
       "⎜⎢-\\lambda[1]     \\lambda[1]    -\\lambda[1]     \\lambda[1]    -\\lambda[1]    \\\n",
       "⎜⎢─────────────   ───────────   ─────────────   ───────────   ─────────────  ─\n",
       "⎝⎣     5040           720            240            144            144        \n",
       "\n",
       "    0             0          0   ⎤                          ⎞\n",
       "                                 ⎥                          ⎟\n",
       "    0             0          0   ⎥                          ⎟\n",
       "                                 ⎥                          ⎟\n",
       "                                 ⎥                          ⎟\n",
       "                                 ⎥                          ⎟\n",
       "    0             0          0   ⎥  ⎡1 ⎤                    ⎟\n",
       "                                 ⎥  ⎢  ⎥                    ⎟\n",
       "                                 ⎥  ⎢z ⎥                    ⎟\n",
       "                                 ⎥  ⎢  ⎥  ⎡\\Phi_{ 1, 1 }(z)⎤⎟\n",
       "                                 ⎥  ⎢ 2⎥  ⎢                ⎥⎟\n",
       "    0             0          0   ⎥  ⎢z ⎥  ⎢\\Phi_{ 1, 2 }(z)⎥⎟\n",
       "                                 ⎥  ⎢  ⎥  ⎢                ⎥⎟\n",
       "                                 ⎥  ⎢ 3⎥  ⎢\\Phi_{ 1, 3 }(z)⎥⎟\n",
       "                                 ⎥  ⎢z ⎥  ⎢                ⎥⎟\n",
       "                                 ⎥  ⎢  ⎥  ⎢\\Phi_{ 1, 4 }(z)⎥⎟\n",
       "    0             0          0   ⎥, ⎢ 4⎥, ⎢                ⎥⎟\n",
       "                                 ⎥  ⎢z ⎥  ⎢\\Phi_{ 1, 5 }(z)⎥⎟\n",
       "                                 ⎥  ⎢  ⎥  ⎢                ⎥⎟\n",
       "                                 ⎥  ⎢ 5⎥  ⎢\\Phi_{ 1, 6 }(z)⎥⎟\n",
       "                                 ⎥  ⎢z ⎥  ⎢                ⎥⎟\n",
       "  1/120           0          0   ⎥  ⎢  ⎥  ⎢\\Phi_{ 1, 7 }(z)⎥⎟\n",
       "                                 ⎥  ⎢ 6⎥  ⎢                ⎥⎟\n",
       "                                 ⎥  ⎢z ⎥  ⎣\\Phi_{ 1, 8 }(z)⎦⎟\n",
       "                                 ⎥  ⎢  ⎥                    ⎟\n",
       "\\lambda[1]                       ⎥  ⎢ 7⎥                    ⎟\n",
       "───────────     1/720        0   ⎥  ⎣z ⎦                    ⎟\n",
       "   120                           ⎥                          ⎟\n",
       "                                 ⎥                          ⎟\n",
       "         2                       ⎥                          ⎟\n",
       "lambda[1]    -\\lambda[1]         ⎥                          ⎟\n",
       "──────────   ────────────  1/5040⎥                          ⎟\n",
       "   240           720             ⎦                          ⎠"
      ]
     },
     "execution_count": 18,
     "metadata": {},
     "output_type": "execute_result"
    }
   ],
   "source": [
    "res_ordinary = M_ordinary, z_ordinary, Phi_ordinary = (\n",
    "    Matrix(m, m, lambda n,k: (-lamda_indexed[1])**(n-k)/(factorial(n-k)*factorial(k)) if n-k >= 0 else 0),\n",
    "    Matrix([z**i for i in range(m)]),\n",
    "    Matrix([Function(r'\\Phi_{{ {}, {} }}'.format(1, j))(z) for j in range(1, m+1)]))\n",
    "\n",
    "res_ordinary"
   ]
  },
  {
   "cell_type": "code",
   "execution_count": 19,
   "metadata": {
    "collapsed": false,
    "deletable": true,
    "editable": true
   },
   "outputs": [
    {
     "data": {
      "image/png": "[encoded data removed]",
      "text/latex": [
       "$$\\left ( \\left[\\begin{matrix}1 & 0 & 0 & 0 & 0 & 0 & 0 & 0\\\\- \\lambda_{1} & 1 & 0 & 0 & 0 & 0 & 0 & 0\\\\\\frac{\\lambda_{1}^{2}}{2} & - \\lambda_{1} & 1 & 0 & 0 & 0 & 0 & 0\\\\- \\frac{\\lambda_{1}^{3}}{6} & \\frac{\\lambda_{1}^{2}}{2} & - \\lambda_{1} & 1 & 0 & 0 & 0 & 0\\\\\\frac{\\lambda_{1}^{4}}{24} & - \\frac{\\lambda_{1}^{3}}{6} & \\frac{\\lambda_{1}^{2}}{2} & - \\lambda_{1} & 1 & 0 & 0 & 0\\\\- \\frac{\\lambda_{1}^{5}}{120} & \\frac{\\lambda_{1}^{4}}{24} & - \\frac{\\lambda_{1}^{3}}{6} & \\frac{\\lambda_{1}^{2}}{2} & - \\lambda_{1} & 1 & 0 & 0\\\\\\frac{\\lambda_{1}^{6}}{720} & - \\frac{\\lambda_{1}^{5}}{120} & \\frac{\\lambda_{1}^{4}}{24} & - \\frac{\\lambda_{1}^{3}}{6} & \\frac{\\lambda_{1}^{2}}{2} & - \\lambda_{1} & 1 & 0\\\\- \\frac{\\lambda_{1}^{7}}{5040} & \\frac{\\lambda_{1}^{6}}{720} & - \\frac{\\lambda_{1}^{5}}{120} & \\frac{\\lambda_{1}^{4}}{24} & - \\frac{\\lambda_{1}^{3}}{6} & \\frac{\\lambda_{1}^{2}}{2} & - \\lambda_{1} & 1\\end{matrix}\\right], \\quad \\left[\\begin{matrix}1\\\\z\\\\\\frac{z^{2}}{2!}\\\\\\frac{z^{3}}{3!}\\\\\\frac{z^{4}}{4!}\\\\\\frac{z^{5}}{5!}\\\\\\frac{z^{6}}{6!}\\\\\\frac{z^{7}}{7!}\\end{matrix}\\right], \\quad \\left[\\begin{matrix}\\Phi_{ 1, 1 }{\\left (z \\right )}\\\\\\Phi_{ 1, 2 }{\\left (z \\right )}\\\\\\Phi_{ 1, 3 }{\\left (z \\right )}\\\\\\Phi_{ 1, 4 }{\\left (z \\right )}\\\\\\Phi_{ 1, 5 }{\\left (z \\right )}\\\\\\Phi_{ 1, 6 }{\\left (z \\right )}\\\\\\Phi_{ 1, 7 }{\\left (z \\right )}\\\\\\Phi_{ 1, 8 }{\\left (z \\right )}\\end{matrix}\\right]\\right )$$"
      ],
      "text/plain": [
       "⎛⎡      1              0              0              0              0         \n",
       "⎜⎢                                                                            \n",
       "⎜⎢ -\\lambda[1]         1              0              0              0         \n",
       "⎜⎢                                                                            \n",
       "⎜⎢           2                                                                \n",
       "⎜⎢ \\lambda[1]                                                                 \n",
       "⎜⎢ ───────────    -\\lambda[1]         1              0              0         \n",
       "⎜⎢      2                                                                     \n",
       "⎜⎢                                                                            \n",
       "⎜⎢           3              2                                                 \n",
       "⎜⎢-\\lambda[1]     \\lambda[1]                                                  \n",
       "⎜⎢─────────────   ───────────    -\\lambda[1]         1              0         \n",
       "⎜⎢      6              2                                                      \n",
       "⎜⎢                                                                            \n",
       "⎜⎢           4              3              2                                  \n",
       "⎜⎢ \\lambda[1]    -\\lambda[1]     \\lambda[1]                                   \n",
       "⎜⎢ ───────────   ─────────────   ───────────    -\\lambda[1]         1         \n",
       "⎜⎢      24             6              2                                       \n",
       "⎜⎢                                                                            \n",
       "⎜⎢           5              4              3              2                   \n",
       "⎜⎢-\\lambda[1]     \\lambda[1]    -\\lambda[1]     \\lambda[1]                    \n",
       "⎜⎢─────────────   ───────────   ─────────────   ───────────    -\\lambda[1]    \n",
       "⎜⎢     120             24             6              2                        \n",
       "⎜⎢                                                                            \n",
       "⎜⎢           6              5              4              3              2    \n",
       "⎜⎢ \\lambda[1]    -\\lambda[1]     \\lambda[1]    -\\lambda[1]     \\lambda[1]     \n",
       "⎜⎢ ───────────   ─────────────   ───────────   ─────────────   ───────────   -\n",
       "⎜⎢     720            120             24             6              2         \n",
       "⎜⎢                                                                            \n",
       "⎜⎢           7              6              5              4              3    \n",
       "⎜⎢-\\lambda[1]     \\lambda[1]    -\\lambda[1]     \\lambda[1]    -\\lambda[1]    \\\n",
       "⎜⎢─────────────   ───────────   ─────────────   ───────────   ─────────────  ─\n",
       "⎝⎣     5040           720            120             24             6         \n",
       "\n",
       "    0            0       0⎤  ⎡1 ⎤                    ⎞\n",
       "                          ⎥  ⎢  ⎥                    ⎟\n",
       "    0            0       0⎥  ⎢z ⎥                    ⎟\n",
       "                          ⎥  ⎢  ⎥                    ⎟\n",
       "                          ⎥  ⎢ 2⎥                    ⎟\n",
       "                          ⎥  ⎢z ⎥                    ⎟\n",
       "    0            0       0⎥  ⎢──⎥                    ⎟\n",
       "                          ⎥  ⎢2!⎥                    ⎟\n",
       "                          ⎥  ⎢  ⎥                    ⎟\n",
       "                          ⎥  ⎢ 3⎥  ⎡\\Phi_{ 1, 1 }(z)⎤⎟\n",
       "                          ⎥  ⎢z ⎥  ⎢                ⎥⎟\n",
       "    0            0       0⎥  ⎢──⎥  ⎢\\Phi_{ 1, 2 }(z)⎥⎟\n",
       "                          ⎥  ⎢3!⎥  ⎢                ⎥⎟\n",
       "                          ⎥  ⎢  ⎥  ⎢\\Phi_{ 1, 3 }(z)⎥⎟\n",
       "                          ⎥  ⎢ 4⎥  ⎢                ⎥⎟\n",
       "                          ⎥  ⎢z ⎥  ⎢\\Phi_{ 1, 4 }(z)⎥⎟\n",
       "    0            0       0⎥, ⎢──⎥, ⎢                ⎥⎟\n",
       "                          ⎥  ⎢4!⎥  ⎢\\Phi_{ 1, 5 }(z)⎥⎟\n",
       "                          ⎥  ⎢  ⎥  ⎢                ⎥⎟\n",
       "                          ⎥  ⎢ 5⎥  ⎢\\Phi_{ 1, 6 }(z)⎥⎟\n",
       "                          ⎥  ⎢z ⎥  ⎢                ⎥⎟\n",
       "    1            0       0⎥  ⎢──⎥  ⎢\\Phi_{ 1, 7 }(z)⎥⎟\n",
       "                          ⎥  ⎢5!⎥  ⎢                ⎥⎟\n",
       "                          ⎥  ⎢  ⎥  ⎣\\Phi_{ 1, 8 }(z)⎦⎟\n",
       "                          ⎥  ⎢ 6⎥                    ⎟\n",
       "                          ⎥  ⎢z ⎥                    ⎟\n",
       "\\lambda[1]       1       0⎥  ⎢──⎥                    ⎟\n",
       "                          ⎥  ⎢6!⎥                    ⎟\n",
       "                          ⎥  ⎢  ⎥                    ⎟\n",
       "         2                ⎥  ⎢ 7⎥                    ⎟\n",
       "lambda[1]                 ⎥  ⎢z ⎥                    ⎟\n",
       "──────────  -\\lambda[1]  1⎥  ⎢──⎥                    ⎟\n",
       "    2                     ⎦  ⎣7!⎦                    ⎠"
      ]
     },
     "execution_count": 19,
     "metadata": {},
     "output_type": "execute_result"
    }
   ],
   "source": [
    "res_expt = M_expt, z_expt, Phi_expt =(\n",
    "    Matrix(m, m, lambda n,k: (-lamda_indexed[1])**(n-k)/(factorial(n-k)) if n-k >= 0 else 0),\n",
    "    Matrix([z**i/factorial(i, evaluate=i<2) for i in range(m)]),\n",
    "    Matrix([Function(r'\\Phi_{{ {}, {} }}'.format(1, j))(z) for j in range(1, m+1)]))\n",
    "\n",
    "res_expt"
   ]
  },
  {
   "cell_type": "code",
   "execution_count": 100,
   "metadata": {
    "collapsed": false,
    "deletable": true,
    "editable": true
   },
   "outputs": [],
   "source": [
    "# we need to manipulate a bit because some terms are factored and some are left unevaluated\n",
    "assert M_ordinary*z_ordinary.applyfunc(lambda i: i.collect(z)) == M_expt*z_expt.applyfunc(lambda i: i.doit())"
   ]
  },
  {
   "cell_type": "markdown",
   "metadata": {},
   "source": [
    "---"
   ]
  },
  {
   "cell_type": "code",
   "execution_count": 19,
   "metadata": {
    "collapsed": false,
    "deletable": true,
    "editable": true
   },
   "outputs": [
    {
     "data": {
      "image/png": "[encoded data removed]",
      "text/latex": [
       "$$\\left \\{ \\left ( 1, \\quad 1\\right ) : \\Phi_{ 1, 1 }{\\left (z \\right )} = 1, \\quad \\left ( 1, \\quad 2\\right ) : \\Phi_{ 1, 2 }{\\left (z \\right )} = z - 1, \\quad \\left ( 1, \\quad 3\\right ) : \\Phi_{ 1, 3 }{\\left (z \\right )} = \\frac{z^{2}}{2} - z + \\frac{1}{2}, \\quad \\left ( 1, \\quad 4\\right ) : \\Phi_{ 1, 4 }{\\left (z \\right )} = \\frac{z^{3}}{6} - \\frac{z^{2}}{2} + \\frac{z}{2} - \\frac{1}{6}, \\quad \\left ( 1, \\quad 5\\right ) : \\Phi_{ 1, 5 }{\\left (z \\right )} = \\frac{z^{4}}{24} - \\frac{z^{3}}{6} + \\frac{z^{2}}{4} - \\frac{z}{6} + \\frac{1}{24}, \\quad \\left ( 1, \\quad 6\\right ) : \\Phi_{ 1, 6 }{\\left (z \\right )} = \\frac{z^{5}}{120} - \\frac{z^{4}}{24} + \\frac{z^{3}}{12} - \\frac{z^{2}}{12} + \\frac{z}{24} - \\frac{1}{120}, \\quad \\left ( 1, \\quad 7\\right ) : \\Phi_{ 1, 7 }{\\left (z \\right )} = \\frac{z^{6}}{720} - \\frac{z^{5}}{120} + \\frac{z^{4}}{48} - \\frac{z^{3}}{36} + \\frac{z^{2}}{48} - \\frac{z}{120} + \\frac{1}{720}, \\quad \\left ( 1, \\quad 8\\right ) : \\Phi_{ 1, 8 }{\\left (z \\right )} = \\frac{z^{7}}{5040} - \\frac{z^{6}}{720} + \\frac{z^{5}}{240} - \\frac{z^{4}}{144} + \\frac{z^{3}}{144} - \\frac{z^{2}}{240} + \\frac{z}{720} - \\frac{1}{5040}\\right \\}$$"
      ],
      "text/plain": [
       "⎧                                                                             \n",
       "⎪                                                                             \n",
       "⎨(1, 1): \\Phi_{ 1, 1 }(z) = 1, (1, 2): \\Phi_{ 1, 2 }(z) = z - 1, (1, 3): \\Phi_\n",
       "⎪                                                                             \n",
       "⎩                                                                             \n",
       "\n",
       "               2                                      3    2                  \n",
       "              z        1                             z    z    z   1          \n",
       "{ 1, 3 }(z) = ── - z + ─, (1, 4): \\Phi_{ 1, 4 }(z) = ── - ── + ─ - ─, (1, 5): \n",
       "              2        2                             6    2    2   6          \n",
       "                                                                              \n",
       "\n",
       "                    4    3    2                                        5    4 \n",
       "                   z    z    z    z   1                               z    z  \n",
       "\\Phi_{ 1, 5 }(z) = ── - ── + ── - ─ + ──, (1, 6): \\Phi_{ 1, 6 }(z) = ─── - ── \n",
       "                   24   6    4    6   24                             120   24 \n",
       "                                                                              \n",
       "\n",
       "   3    2                                          6     5    4    3    2     \n",
       "  z    z    z     1                               z     z    z    z    z     z\n",
       "+ ── - ── + ── - ───, (1, 7): \\Phi_{ 1, 7 }(z) = ─── - ─── + ── - ── + ── - ──\n",
       "  12   12   24   120                             720   120   48   36   48   12\n",
       "                                                                              \n",
       "\n",
       "                                      7      6     5     4     3     2        \n",
       "     1                               z      z     z     z     z     z     z   \n",
       "─ + ───, (1, 8): \\Phi_{ 1, 8 }(z) = ──── - ─── + ─── - ─── + ─── - ─── + ─── -\n",
       "0   720                             5040   720   240   144   144   240   720  \n",
       "                                                                              \n",
       "\n",
       "     ⎫\n",
       "  1  ⎪\n",
       " ────⎬\n",
       " 5040⎪\n",
       "     ⎭"
      ]
     },
     "execution_count": 19,
     "metadata": {},
     "output_type": "execute_result"
    }
   ],
   "source": [
    "{k:v.subs(eigenvals) for k, v in Phi_polynomials.items()}"
   ]
  },
  {
   "cell_type": "code",
   "execution_count": 24,
   "metadata": {
    "collapsed": false,
    "deletable": true,
    "editable": true
   },
   "outputs": [
    {
     "data": {
      "image/png": "[encoded data removed]",
      "text/latex": [
       "$$\\left \\{ \\left ( 1, \\quad 1\\right ) : \\Phi_{ 1, 1 }{\\left (z \\right )} = 1, \\quad \\left ( 1, \\quad 2\\right ) : \\Phi_{ 1, 2 }{\\left (z \\right )} = z - 1, \\quad \\left ( 1, \\quad 3\\right ) : \\Phi_{ 1, 3 }{\\left (z \\right )} = \\frac{z^{2}}{2} - z + \\frac{1}{2}, \\quad \\left ( 1, \\quad 4\\right ) : \\Phi_{ 1, 4 }{\\left (z \\right )} = \\frac{z^{3}}{6} - \\frac{z^{2}}{2} + \\frac{z}{2} - \\frac{1}{6}, \\quad \\left ( 1, \\quad 5\\right ) : \\Phi_{ 1, 5 }{\\left (z \\right )} = \\frac{z^{4}}{24} - \\frac{z^{3}}{6} + \\frac{z^{2}}{4} - \\frac{z}{6} + \\frac{1}{24}, \\quad \\left ( 1, \\quad 6\\right ) : \\Phi_{ 1, 6 }{\\left (z \\right )} = \\frac{z^{5}}{120} - \\frac{z^{4}}{24} + \\frac{z^{3}}{12} - \\frac{z^{2}}{12} + \\frac{z}{24} - \\frac{1}{120}, \\quad \\left ( 1, \\quad 7\\right ) : \\Phi_{ 1, 7 }{\\left (z \\right )} = \\frac{z^{6}}{720} - \\frac{z^{5}}{120} + \\frac{z^{4}}{48} - \\frac{z^{3}}{36} + \\frac{z^{2}}{48} - \\frac{z}{120} + \\frac{1}{720}, \\quad \\left ( 1, \\quad 8\\right ) : \\Phi_{ 1, 8 }{\\left (z \\right )} = \\frac{z^{7}}{5040} - \\frac{z^{6}}{720} + \\frac{z^{5}}{240} - \\frac{z^{4}}{144} + \\frac{z^{3}}{144} - \\frac{z^{2}}{240} + \\frac{z}{720} - \\frac{1}{5040}\\right \\}$$"
      ],
      "text/plain": [
       "⎧                                                                             \n",
       "⎪                                                                             \n",
       "⎨(1, 1): \\Phi_{ 1, 1 }(z) = 1, (1, 2): \\Phi_{ 1, 2 }(z) = z - 1, (1, 3): \\Phi_\n",
       "⎪                                                                             \n",
       "⎩                                                                             \n",
       "\n",
       "               2                                      3    2                  \n",
       "              z        1                             z    z    z   1          \n",
       "{ 1, 3 }(z) = ── - z + ─, (1, 4): \\Phi_{ 1, 4 }(z) = ── - ── + ─ - ─, (1, 5): \n",
       "              2        2                             6    2    2   6          \n",
       "                                                                              \n",
       "\n",
       "                    4    3    2                                        5    4 \n",
       "                   z    z    z    z   1                               z    z  \n",
       "\\Phi_{ 1, 5 }(z) = ── - ── + ── - ─ + ──, (1, 6): \\Phi_{ 1, 6 }(z) = ─── - ── \n",
       "                   24   6    4    6   24                             120   24 \n",
       "                                                                              \n",
       "\n",
       "   3    2                                          6     5    4    3    2     \n",
       "  z    z    z     1                               z     z    z    z    z     z\n",
       "+ ── - ── + ── - ───, (1, 7): \\Phi_{ 1, 7 }(z) = ─── - ─── + ── - ── + ── - ──\n",
       "  12   12   24   120                             720   120   48   36   48   12\n",
       "                                                                              \n",
       "\n",
       "                                      7      6     5     4     3     2        \n",
       "     1                               z      z     z     z     z     z     z   \n",
       "─ + ───, (1, 8): \\Phi_{ 1, 8 }(z) = ──── - ─── + ─── - ─── + ─── - ─── + ─── -\n",
       "0   720                             5040   720   240   144   144   240   720  \n",
       "                                                                              \n",
       "\n",
       "     ⎫\n",
       "  1  ⎪\n",
       " ────⎬\n",
       " 5040⎪\n",
       "     ⎭"
      ]
     },
     "execution_count": 24,
     "metadata": {},
     "output_type": "execute_result"
    }
   ],
   "source": [
    "Phi_polynomials = component_polynomials_riordan(degree=m) # actually, degree should be $m-1$\n",
    "Phi_polynomials"
   ]
  },
  {
   "cell_type": "code",
   "execution_count": 22,
   "metadata": {
    "collapsed": false,
    "deletable": true,
    "editable": true
   },
   "outputs": [
    {
     "data": {
      "image/png": "[encoded data removed]",
      "text/latex": [
       "$$\\left [ \\Phi_{ 1, 1 }{\\left (z \\right )} = 1, \\quad \\Phi_{ 1, 2 }{\\left (z \\right )} = z - 1, \\quad \\Phi_{ 1, 3 }{\\left (z \\right )} = \\frac{z^{2}}{2} - z + \\frac{1}{2}, \\quad \\Phi_{ 1, 4 }{\\left (z \\right )} = \\frac{z^{3}}{6} - \\frac{z^{2}}{2} + \\frac{z}{2} - \\frac{1}{6}, \\quad \\Phi_{ 1, 5 }{\\left (z \\right )} = \\frac{z^{4}}{24} - \\frac{z^{3}}{6} + \\frac{z^{2}}{4} - \\frac{z}{6} + \\frac{1}{24}, \\quad \\Phi_{ 1, 6 }{\\left (z \\right )} = \\frac{z^{5}}{120} - \\frac{z^{4}}{24} + \\frac{z^{3}}{12} - \\frac{z^{2}}{12} + \\frac{z}{24} - \\frac{1}{120}, \\quad \\Phi_{ 1, 7 }{\\left (z \\right )} = \\frac{z^{6}}{720} - \\frac{z^{5}}{120} + \\frac{z^{4}}{48} - \\frac{z^{3}}{36} + \\frac{z^{2}}{48} - \\frac{z}{120} + \\frac{1}{720}, \\quad \\Phi_{ 1, 8 }{\\left (z \\right )} = \\frac{z^{7}}{5040} - \\frac{z^{6}}{720} + \\frac{z^{5}}{240} - \\frac{z^{4}}{144} + \\frac{z^{3}}{144} - \\frac{z^{2}}{240} + \\frac{z}{720} - \\frac{1}{5040}\\right ]$$"
      ],
      "text/plain": [
       "⎡                                                                    2        \n",
       "⎢                                                                   z        1\n",
       "⎢\\Phi_{ 1, 1 }(z) = 1, \\Phi_{ 1, 2 }(z) = z - 1, \\Phi_{ 1, 3 }(z) = ── - z + ─\n",
       "⎣                                                                   2        2\n",
       "\n",
       "                      3    2                              4    3    2         \n",
       "                     z    z    z   1                     z    z    z    z   1 \n",
       ", \\Phi_{ 1, 4 }(z) = ── - ── + ─ - ─, \\Phi_{ 1, 5 }(z) = ── - ── + ── - ─ + ──\n",
       "                     6    2    2   6                     24   6    4    6   24\n",
       "\n",
       "                       5    4    3    2                                  6    \n",
       "                      z    z    z    z    z     1                       z     \n",
       ", \\Phi_{ 1, 6 }(z) = ─── - ── + ── - ── + ── - ───, \\Phi_{ 1, 7 }(z) = ─── - ─\n",
       "                     120   24   12   12   24   120                     720   1\n",
       "\n",
       " 5    4    3    2                                   7      6     5     4     3\n",
       "z    z    z    z     z     1                       z      z     z     z     z \n",
       "── + ── - ── + ── - ─── + ───, \\Phi_{ 1, 8 }(z) = ──── - ─── + ─── - ─── + ───\n",
       "20   48   36   48   120   720                     5040   720   240   144   144\n",
       "\n",
       "     2             ⎤\n",
       "    z     z     1  ⎥\n",
       " - ─── + ─── - ────⎥\n",
       "   240   720   5040⎦"
      ]
     },
     "execution_count": 22,
     "metadata": {},
     "output_type": "execute_result"
    }
   ],
   "source": [
    "[Phi_polynomials[1,i] for i in range(1, m+1)] # pretty print"
   ]
  },
  {
   "cell_type": "markdown",
   "metadata": {
    "deletable": true,
    "editable": true
   },
   "source": [
    "have a look at [A098361][a] in the OEIS:\n",
    "\n",
    "[a]:http://oeis.org/A098361"
   ]
  },
  {
   "cell_type": "code",
   "execution_count": 43,
   "metadata": {
    "collapsed": false,
    "deletable": true,
    "editable": true
   },
   "outputs": [
    {
     "data": {
      "image/png": "[encoded data removed]",
      "text/latex": [
       "$$d_{n,k} = \\frac{\\left(-1\\right)^{- k + n}}{k! \\left(- k + n\\right)!}$$"
      ],
      "text/plain": [
       "               -k + n \n",
       "           (-1)       \n",
       "d[n, k] = ────────────\n",
       "          k!⋅(-k + n)!"
      ]
     },
     "execution_count": 43,
     "metadata": {},
     "output_type": "execute_result"
    }
   ],
   "source": [
    "d = IndexedBase('d')\n",
    "define(let=d[n,k], be=(-1)**(n-k)/(factorial(n-k)*factorial(k)))"
   ]
  },
  {
   "cell_type": "code",
   "execution_count": 44,
   "metadata": {
    "collapsed": false,
    "deletable": true,
    "editable": true
   },
   "outputs": [
    {
     "data": {
      "image/png": "[encoded data removed]",
      "text/latex": [
       "$$\\left ( \\left[\\begin{matrix}1 & 0 & 0 & 0 & 0 & 0 & 0 & 0\\\\-1 & 1 & 0 & 0 & 0 & 0 & 0 & 0\\\\\\frac{1}{2} & -1 & \\frac{1}{2} & 0 & 0 & 0 & 0 & 0\\\\- \\frac{1}{6} & \\frac{1}{2} & - \\frac{1}{2} & \\frac{1}{6} & 0 & 0 & 0 & 0\\\\\\frac{1}{24} & - \\frac{1}{6} & \\frac{1}{4} & - \\frac{1}{6} & \\frac{1}{24} & 0 & 0 & 0\\\\- \\frac{1}{120} & \\frac{1}{24} & - \\frac{1}{12} & \\frac{1}{12} & - \\frac{1}{24} & \\frac{1}{120} & 0 & 0\\\\\\frac{1}{720} & - \\frac{1}{120} & \\frac{1}{48} & - \\frac{1}{36} & \\frac{1}{48} & - \\frac{1}{120} & \\frac{1}{720} & 0\\\\- \\frac{1}{5040} & \\frac{1}{720} & - \\frac{1}{240} & \\frac{1}{144} & - \\frac{1}{144} & \\frac{1}{240} & - \\frac{1}{720} & \\frac{1}{5040}\\end{matrix}\\right], \\quad \\left[\\begin{matrix}1\\\\z\\\\z^{2}\\\\z^{3}\\\\z^{4}\\\\z^{5}\\\\z^{6}\\\\z^{7}\\end{matrix}\\right], \\quad \\left[\\begin{matrix}\\Phi_{ 1, 1 }{\\left (z \\right )}\\\\\\Phi_{ 1, 2 }{\\left (z \\right )}\\\\\\Phi_{ 1, 3 }{\\left (z \\right )}\\\\\\Phi_{ 1, 4 }{\\left (z \\right )}\\\\\\Phi_{ 1, 5 }{\\left (z \\right )}\\\\\\Phi_{ 1, 6 }{\\left (z \\right )}\\\\\\Phi_{ 1, 7 }{\\left (z \\right )}\\\\\\Phi_{ 1, 8 }{\\left (z \\right )}\\end{matrix}\\right]\\right )$$"
      ],
      "text/plain": [
       "⎛                                                                  ⎡1 ⎤       \n",
       "⎜                                                                  ⎢  ⎥       \n",
       "⎜                                                                  ⎢z ⎥       \n",
       "⎜⎡   1       0       0       0      0       0       0       0   ⎤  ⎢  ⎥  ⎡\\Phi\n",
       "⎜⎢                                                              ⎥  ⎢ 2⎥  ⎢    \n",
       "⎜⎢  -1       1       0       0      0       0       0       0   ⎥  ⎢z ⎥  ⎢\\Phi\n",
       "⎜⎢                                                              ⎥  ⎢  ⎥  ⎢    \n",
       "⎜⎢  1/2      -1     1/2      0      0       0       0       0   ⎥  ⎢ 3⎥  ⎢\\Phi\n",
       "⎜⎢                                                              ⎥  ⎢z ⎥  ⎢    \n",
       "⎜⎢ -1/6     1/2     -1/2    1/6     0       0       0       0   ⎥  ⎢  ⎥  ⎢\\Phi\n",
       "⎜⎢                                                              ⎥, ⎢ 4⎥, ⎢    \n",
       "⎜⎢ 1/24     -1/6    1/4    -1/6    1/24     0       0       0   ⎥  ⎢z ⎥  ⎢\\Phi\n",
       "⎜⎢                                                              ⎥  ⎢  ⎥  ⎢    \n",
       "⎜⎢-1/120    1/24   -1/12   1/12   -1/24   1/120     0       0   ⎥  ⎢ 5⎥  ⎢\\Phi\n",
       "⎜⎢                                                              ⎥  ⎢z ⎥  ⎢    \n",
       "⎜⎢ 1/720   -1/120   1/48   -1/36   1/48   -1/120  1/720     0   ⎥  ⎢  ⎥  ⎢\\Phi\n",
       "⎜⎢                                                              ⎥  ⎢ 6⎥  ⎢    \n",
       "⎜⎣-1/5040  1/720   -1/240  1/144  -1/144  1/240   -1/720  1/5040⎦  ⎢z ⎥  ⎣\\Phi\n",
       "⎜                                                                  ⎢  ⎥       \n",
       "⎜                                                                  ⎢ 7⎥       \n",
       "⎝                                                                  ⎣z ⎦       \n",
       "\n",
       "             ⎞\n",
       "             ⎟\n",
       "             ⎟\n",
       "_{ 1, 1 }(z)⎤⎟\n",
       "            ⎥⎟\n",
       "_{ 1, 2 }(z)⎥⎟\n",
       "            ⎥⎟\n",
       "_{ 1, 3 }(z)⎥⎟\n",
       "            ⎥⎟\n",
       "_{ 1, 4 }(z)⎥⎟\n",
       "            ⎥⎟\n",
       "_{ 1, 5 }(z)⎥⎟\n",
       "            ⎥⎟\n",
       "_{ 1, 6 }(z)⎥⎟\n",
       "            ⎥⎟\n",
       "_{ 1, 7 }(z)⎥⎟\n",
       "            ⎥⎟\n",
       "_{ 1, 8 }(z)⎦⎟\n",
       "             ⎟\n",
       "             ⎟\n",
       "             ⎠"
      ]
     },
     "execution_count": 44,
     "metadata": {},
     "output_type": "execute_result"
    }
   ],
   "source": [
    "res_ordinary = M_ordinary, z_ordinary, Phi_ordinary = (\n",
    "    Matrix(m, m, lambda n,k: (-1)**(n-k)/(factorial(n-k)*factorial(k)) if n-k >= 0 else 0),\n",
    "    Matrix([z**i for i in range(m)]),\n",
    "    Matrix([Function(r'\\Phi_{{ {}, {} }}'.format(1, j))(z) for j in range(1, m+1)]))\n",
    "\n",
    "res_ordinary"
   ]
  },
  {
   "cell_type": "code",
   "execution_count": 45,
   "metadata": {
    "collapsed": false,
    "deletable": true,
    "editable": true
   },
   "outputs": [
    {
     "data": {
      "image/png": "[encoded data removed]",
      "text/latex": [
       "$$\\left ( \\left[\\begin{matrix}1 & 0 & 0 & 0 & 0 & 0 & 0 & 0\\\\-1 & 1 & 0 & 0 & 0 & 0 & 0 & 0\\\\\\frac{1}{2} & -1 & 1 & 0 & 0 & 0 & 0 & 0\\\\- \\frac{1}{6} & \\frac{1}{2} & -1 & 1 & 0 & 0 & 0 & 0\\\\\\frac{1}{24} & - \\frac{1}{6} & \\frac{1}{2} & -1 & 1 & 0 & 0 & 0\\\\- \\frac{1}{120} & \\frac{1}{24} & - \\frac{1}{6} & \\frac{1}{2} & -1 & 1 & 0 & 0\\\\\\frac{1}{720} & - \\frac{1}{120} & \\frac{1}{24} & - \\frac{1}{6} & \\frac{1}{2} & -1 & 1 & 0\\\\- \\frac{1}{5040} & \\frac{1}{720} & - \\frac{1}{120} & \\frac{1}{24} & - \\frac{1}{6} & \\frac{1}{2} & -1 & 1\\end{matrix}\\right], \\quad \\left[\\begin{matrix}1\\\\z\\\\\\frac{z^{2}}{2!}\\\\\\frac{z^{3}}{3!}\\\\\\frac{z^{4}}{4!}\\\\\\frac{z^{5}}{5!}\\\\\\frac{z^{6}}{6!}\\\\\\frac{z^{7}}{7!}\\end{matrix}\\right], \\quad \\left[\\begin{matrix}\\Phi_{ 1, 1 }{\\left (z \\right )}\\\\\\Phi_{ 1, 2 }{\\left (z \\right )}\\\\\\Phi_{ 1, 3 }{\\left (z \\right )}\\\\\\Phi_{ 1, 4 }{\\left (z \\right )}\\\\\\Phi_{ 1, 5 }{\\left (z \\right )}\\\\\\Phi_{ 1, 6 }{\\left (z \\right )}\\\\\\Phi_{ 1, 7 }{\\left (z \\right )}\\\\\\Phi_{ 1, 8 }{\\left (z \\right )}\\end{matrix}\\right]\\right )$$"
      ],
      "text/plain": [
       "⎛                                                   ⎡1 ⎤                    ⎞\n",
       "⎜                                                   ⎢  ⎥                    ⎟\n",
       "⎜                                                   ⎢z ⎥                    ⎟\n",
       "⎜                                                   ⎢  ⎥                    ⎟\n",
       "⎜                                                   ⎢ 2⎥                    ⎟\n",
       "⎜                                                   ⎢z ⎥                    ⎟\n",
       "⎜                                                   ⎢──⎥                    ⎟\n",
       "⎜                                                   ⎢2!⎥                    ⎟\n",
       "⎜                                                   ⎢  ⎥                    ⎟\n",
       "⎜⎡   1       0       0      0     0     0   0   0⎤  ⎢ 3⎥  ⎡\\Phi_{ 1, 1 }(z)⎤⎟\n",
       "⎜⎢                                               ⎥  ⎢z ⎥  ⎢                ⎥⎟\n",
       "⎜⎢  -1       1       0      0     0     0   0   0⎥  ⎢──⎥  ⎢\\Phi_{ 1, 2 }(z)⎥⎟\n",
       "⎜⎢                                               ⎥  ⎢3!⎥  ⎢                ⎥⎟\n",
       "⎜⎢  1/2      -1      1      0     0     0   0   0⎥  ⎢  ⎥  ⎢\\Phi_{ 1, 3 }(z)⎥⎟\n",
       "⎜⎢                                               ⎥  ⎢ 4⎥  ⎢                ⎥⎟\n",
       "⎜⎢ -1/6     1/2      -1     1     0     0   0   0⎥  ⎢z ⎥  ⎢\\Phi_{ 1, 4 }(z)⎥⎟\n",
       "⎜⎢                                               ⎥, ⎢──⎥, ⎢                ⎥⎟\n",
       "⎜⎢ 1/24     -1/6    1/2     -1    1     0   0   0⎥  ⎢4!⎥  ⎢\\Phi_{ 1, 5 }(z)⎥⎟\n",
       "⎜⎢                                               ⎥  ⎢  ⎥  ⎢                ⎥⎟\n",
       "⎜⎢-1/120    1/24    -1/6   1/2    -1    1   0   0⎥  ⎢ 5⎥  ⎢\\Phi_{ 1, 6 }(z)⎥⎟\n",
       "⎜⎢                                               ⎥  ⎢z ⎥  ⎢                ⎥⎟\n",
       "⎜⎢ 1/720   -1/120   1/24   -1/6  1/2   -1   1   0⎥  ⎢──⎥  ⎢\\Phi_{ 1, 7 }(z)⎥⎟\n",
       "⎜⎢                                               ⎥  ⎢5!⎥  ⎢                ⎥⎟\n",
       "⎜⎣-1/5040  1/720   -1/120  1/24  -1/6  1/2  -1  1⎦  ⎢  ⎥  ⎣\\Phi_{ 1, 8 }(z)⎦⎟\n",
       "⎜                                                   ⎢ 6⎥                    ⎟\n",
       "⎜                                                   ⎢z ⎥                    ⎟\n",
       "⎜                                                   ⎢──⎥                    ⎟\n",
       "⎜                                                   ⎢6!⎥                    ⎟\n",
       "⎜                                                   ⎢  ⎥                    ⎟\n",
       "⎜                                                   ⎢ 7⎥                    ⎟\n",
       "⎜                                                   ⎢z ⎥                    ⎟\n",
       "⎜                                                   ⎢──⎥                    ⎟\n",
       "⎝                                                   ⎣7!⎦                    ⎠"
      ]
     },
     "execution_count": 45,
     "metadata": {},
     "output_type": "execute_result"
    }
   ],
   "source": [
    "res_expt = M_expt, z_expt, Phi_expt =(\n",
    "    Matrix(m, m, lambda n,k: (-1)**(n-k)/(factorial(n-k)) if n-k >= 0 else 0),\n",
    "    Matrix([z**i/factorial(i, evaluate=i<2) for i in range(m)]),\n",
    "    Matrix([Function(r'\\Phi_{{ {}, {} }}'.format(1, j))(z) for j in range(1, m+1)]))\n",
    "\n",
    "res_expt"
   ]
  },
  {
   "cell_type": "code",
   "execution_count": 48,
   "metadata": {
    "collapsed": false,
    "deletable": true,
    "editable": true
   },
   "outputs": [
    {
     "data": {
      "image/png": "[encoded data removed]",
      "text/latex": [
       "$$\\mathrm{True}$$"
      ],
      "text/plain": [
       "True"
      ]
     },
     "execution_count": 48,
     "metadata": {},
     "output_type": "execute_result"
    }
   ],
   "source": [
    "Eq(M_ordinary*z_ordinary, M_expt*z_expt).simplify()"
   ]
  },
  {
   "cell_type": "code",
   "execution_count": 60,
   "metadata": {
    "collapsed": false,
    "deletable": true,
    "editable": true
   },
   "outputs": [
    {
     "data": {
      "image/png": "[encoded data removed]",
      "text/latex": [
       "$$\\left[\\begin{matrix}1 & 0 & 0 & 0 & 0 & 0 & 0 & 0 & 0 & 0\\\\1 & 1 & 0 & 0 & 0 & 0 & 0 & 0 & 0 & 0\\\\\\frac{1}{2} & 1 & 1 & 0 & 0 & 0 & 0 & 0 & 0 & 0\\\\\\frac{1}{6} & \\frac{1}{2} & 1 & 1 & 0 & 0 & 0 & 0 & 0 & 0\\\\\\frac{1}{24} & \\frac{1}{6} & \\frac{1}{2} & 1 & 1 & 0 & 0 & 0 & 0 & 0\\\\\\frac{1}{120} & \\frac{1}{24} & \\frac{1}{6} & \\frac{1}{2} & 1 & 1 & 0 & 0 & 0 & 0\\\\\\frac{1}{720} & \\frac{1}{120} & \\frac{1}{24} & \\frac{1}{6} & \\frac{1}{2} & 1 & 1 & 0 & 0 & 0\\\\\\frac{1}{5040} & \\frac{1}{720} & \\frac{1}{120} & \\frac{1}{24} & \\frac{1}{6} & \\frac{1}{2} & 1 & 1 & 0 & 0\\\\\\frac{1}{40320} & \\frac{1}{5040} & \\frac{1}{720} & \\frac{1}{120} & \\frac{1}{24} & \\frac{1}{6} & \\frac{1}{2} & 1 & 1 & 0\\\\\\frac{1}{362880} & \\frac{1}{40320} & \\frac{1}{5040} & \\frac{1}{720} & \\frac{1}{120} & \\frac{1}{24} & \\frac{1}{6} & \\frac{1}{2} & 1 & 1\\end{matrix}\\right]$$"
      ],
      "text/plain": [
       "⎡   1         0       0       0      0     0     0    0   0  0⎤\n",
       "⎢                                                             ⎥\n",
       "⎢   1         1       0       0      0     0     0    0   0  0⎥\n",
       "⎢                                                             ⎥\n",
       "⎢  1/2        1       1       0      0     0     0    0   0  0⎥\n",
       "⎢                                                             ⎥\n",
       "⎢  1/6       1/2      1       1      0     0     0    0   0  0⎥\n",
       "⎢                                                             ⎥\n",
       "⎢  1/24      1/6     1/2      1      1     0     0    0   0  0⎥\n",
       "⎢                                                             ⎥\n",
       "⎢ 1/120     1/24     1/6     1/2     1     1     0    0   0  0⎥\n",
       "⎢                                                             ⎥\n",
       "⎢ 1/720     1/120    1/24    1/6    1/2    1     1    0   0  0⎥\n",
       "⎢                                                             ⎥\n",
       "⎢ 1/5040    1/720   1/120   1/24    1/6   1/2    1    1   0  0⎥\n",
       "⎢                                                             ⎥\n",
       "⎢1/40320   1/5040   1/720   1/120  1/24   1/6   1/2   1   1  0⎥\n",
       "⎢                                                             ⎥\n",
       "⎣1/362880  1/40320  1/5040  1/720  1/120  1/24  1/6  1/2  1  1⎦"
      ]
     },
     "execution_count": 60,
     "metadata": {},
     "output_type": "execute_result"
    }
   ],
   "source": [
    "M_expt**(-1)"
   ]
  },
  {
   "cell_type": "code",
   "execution_count": 97,
   "metadata": {
    "collapsed": false,
    "deletable": true,
    "editable": true
   },
   "outputs": [],
   "source": [
    "Z = IndexedBase('Z')\n",
    "\n",
    "cmatrices = component_matrices(R, Phi_polynomials)\n",
    "# {Z[k]:v for k,v in cmatrices.items()} # all of them"
   ]
  },
  {
   "cell_type": "code",
   "execution_count": 98,
   "metadata": {
    "collapsed": false,
    "deletable": true,
    "editable": true
   },
   "outputs": [
    {
     "data": {
      "image/png": "[encoded data removed]",
      "text/latex": [
       "$$Z_{3} = \\left[\\begin{matrix}0 & 0 & 0 & 0 & 0\\\\0 & 0 & 0 & 0 & 0\\\\\\frac{d_{1}}{2} \\left(d_{1} + h_{1}\\right) & 0 & 0 & 0 & 0\\\\\\frac{d_{2}}{2} \\left(d_{1} + 2 h_{1}\\right) + \\frac{d_{1}}{2} \\left(d_{1} h_{1} + d_{2} + h_{2}\\right) & \\frac{1}{2} \\left(d_{1} + h_{1}\\right) \\left(d_{1} + 2 h_{1}\\right) & 0 & 0 & 0\\\\\\frac{d_{3}}{2} \\left(d_{1} + 3 h_{1}\\right) + \\frac{d_{2}}{2} \\left(2 d_{1} h_{1} + d_{2} + h_{1}^{2} + 2 h_{2}\\right) + \\frac{d_{1}}{2} \\left(d_{1} h_{2} + d_{2} h_{1} + d_{3} + h_{3}\\right) & \\frac{1}{2} \\left(d_{1} + h_{1}\\right) \\left(2 d_{1} h_{1} + d_{2} + h_{1}^{2} + 2 h_{2}\\right) + \\frac{1}{2} \\left(d_{1} + 3 h_{1}\\right) \\left(d_{1} h_{1} + d_{2} + h_{2}\\right) & \\frac{1}{2} \\left(d_{1} + 2 h_{1}\\right) \\left(d_{1} + 3 h_{1}\\right) & 0 & 0\\end{matrix}\\right]$$"
      ],
      "text/plain": [
       "Z[3] = ⎡                                                      0               \n",
       "       ⎢                                                                      \n",
       "       ⎢                                                      0               \n",
       "       ⎢                                                                      \n",
       "       ⎢                                              (d[1] + h[1])⋅d[1]      \n",
       "       ⎢                                              ──────────────────      \n",
       "       ⎢                                                      2               \n",
       "       ⎢                                                                      \n",
       "       ⎢                            (d[1] + 2⋅h[1])⋅d[2]   (d[1]⋅h[1] + d[2] +\n",
       "       ⎢                            ──────────────────── + ───────────────────\n",
       "       ⎢                                     2                           2    \n",
       "       ⎢                                                                      \n",
       "       ⎢                       ⎛                         2         ⎞          \n",
       "       ⎢(d[1] + 3⋅h[1])⋅d[3]   ⎝2⋅d[1]⋅h[1] + d[2] + h[1]  + 2⋅h[2]⎠⋅d[2]   (d\n",
       "       ⎢──────────────────── + ────────────────────────────────────────── + ──\n",
       "       ⎣         2                                 2                          \n",
       "\n",
       "                                                                              \n",
       "                                                                              \n",
       "                                                                              \n",
       "                                                                              \n",
       "                                                                              \n",
       "                                                                              \n",
       "                                                                              \n",
       "                                                                              \n",
       " h[2])⋅d[1]                                                                (d[\n",
       "───────────                                                                ───\n",
       "                                                                              \n",
       "                                                                              \n",
       "                                                        ⎛                     \n",
       "[1]⋅h[2] + d[2]⋅h[1] + d[3] + h[3])⋅d[1]  (d[1] + h[1])⋅⎝2⋅d[1]⋅h[1] + d[2] + \n",
       "────────────────────────────────────────  ────────────────────────────────────\n",
       "                  2                                                2          \n",
       "\n",
       "           0                                                                0 \n",
       "                                                                              \n",
       "           0                                                                0 \n",
       "                                                                              \n",
       "                                                                              \n",
       "           0                                                                0 \n",
       "                                                                              \n",
       "                                                                              \n",
       "1] + h[1])⋅(d[1] + 2⋅h[1])                                                    \n",
       "──────────────────────────                                                  0 \n",
       "           2                                                                  \n",
       "                                                                              \n",
       "    2         ⎞                                                               \n",
       "h[1]  + 2⋅h[2]⎠   (d[1] + 3⋅h[1])⋅(d[1]⋅h[1] + d[2] + h[2])  (d[1] + 2⋅h[1])⋅(\n",
       "─────────────── + ─────────────────────────────────────────  ─────────────────\n",
       "                                      2                                     2 \n",
       "\n",
       "                0  0⎤\n",
       "                    ⎥\n",
       "                0  0⎥\n",
       "                    ⎥\n",
       "                    ⎥\n",
       "                0  0⎥\n",
       "                    ⎥\n",
       "                    ⎥\n",
       "                    ⎥\n",
       "                0  0⎥\n",
       "                    ⎥\n",
       "                    ⎥\n",
       "                    ⎥\n",
       "d[1] + 3⋅h[1])      ⎥\n",
       "──────────────  0  0⎥\n",
       "                    ⎦"
      ]
     },
     "execution_count": 98,
     "metadata": {},
     "output_type": "execute_result"
    }
   ],
   "source": [
    "j=3\n",
    "define(let=Z[j], be=cmatrices[1,j], evaluate=False)"
   ]
  },
  {
   "cell_type": "markdown",
   "metadata": {
    "deletable": true,
    "editable": true
   },
   "source": [
    "# `inverse` function"
   ]
  },
  {
   "cell_type": "code",
   "execution_count": 10,
   "metadata": {
    "collapsed": false,
    "deletable": true,
    "editable": true
   },
   "outputs": [
    {
     "data": {
      "image/png": "[encoded data removed]",
      "text/latex": [
       "$$f{\\left (z \\right )} = \\frac{1}{z}$$"
      ],
      "text/plain": [
       "       1\n",
       "f(z) = ─\n",
       "       z"
      ]
     },
     "execution_count": 10,
     "metadata": {},
     "output_type": "execute_result"
    }
   ],
   "source": [
    "f = Function('f')\n",
    "f_inverse = define(let=f(z), be=1/z)\n",
    "f_inverse"
   ]
  },
  {
   "cell_type": "code",
   "execution_count": 11,
   "metadata": {
    "collapsed": false,
    "deletable": true,
    "editable": true
   },
   "outputs": [
    {
     "data": {
      "image/png": "[encoded data removed]",
      "text/latex": [
       "$$\\left [ \\frac{1}{z}, \\quad - \\frac{1}{z^{2}}, \\quad \\frac{2}{z^{3}}, \\quad - \\frac{6}{z^{4}}, \\quad \\frac{24}{z^{5}}, \\quad - \\frac{120}{z^{6}}, \\quad \\frac{720}{z^{7}}, \\quad - \\frac{5040}{z^{8}}, \\quad \\frac{40320}{z^{9}}, \\quad - \\frac{362880}{z^{10}}, \\quad \\frac{3628800}{z^{11}}\\right ]$$"
      ],
      "text/plain": [
       "⎡1  -1   2   -6   24  -120   720  -5040   40320  -362880   3628800⎤\n",
       "⎢─, ───, ──, ───, ──, ─────, ───, ──────, ─────, ────────, ───────⎥\n",
       "⎢z    2   3    4   5     6     7     8       9      10        11  ⎥\n",
       "⎣    z   z    z   z     z     z     z       z      z         z    ⎦"
      ]
     },
     "execution_count": 11,
     "metadata": {},
     "output_type": "execute_result"
    }
   ],
   "source": [
    "[f_inverse.rhs.diff(z, i) for i in range(11)]"
   ]
  },
  {
   "cell_type": "code",
   "execution_count": 12,
   "metadata": {
    "collapsed": false,
    "deletable": true,
    "editable": true
   },
   "outputs": [
    {
     "data": {
      "image/png": "[encoded data removed]",
      "text/latex": [
       "$$g{\\left (z \\right )} = - \\frac{z^{7}}{\\lambda_{1}^{8}} + z^{6} \\left(\\frac{1}{\\lambda_{1}^{7}} + \\frac{7}{\\lambda_{1}^{8}}\\right) + z^{5} \\left(- \\frac{1}{\\lambda_{1}^{6}} - \\frac{6}{\\lambda_{1}^{7}} - \\frac{21}{\\lambda_{1}^{8}}\\right) + z^{4} \\left(\\frac{1}{\\lambda_{1}^{5}} + \\frac{5}{\\lambda_{1}^{6}} + \\frac{15}{\\lambda_{1}^{7}} + \\frac{35}{\\lambda_{1}^{8}}\\right) + z^{3} \\left(- \\frac{1}{\\lambda_{1}^{4}} - \\frac{4}{\\lambda_{1}^{5}} - \\frac{10}{\\lambda_{1}^{6}} - \\frac{20}{\\lambda_{1}^{7}} - \\frac{35}{\\lambda_{1}^{8}}\\right) + z^{2} \\left(\\frac{1}{\\lambda_{1}^{3}} + \\frac{3}{\\lambda_{1}^{4}} + \\frac{6}{\\lambda_{1}^{5}} + \\frac{10}{\\lambda_{1}^{6}} + \\frac{15}{\\lambda_{1}^{7}} + \\frac{21}{\\lambda_{1}^{8}}\\right) + z \\left(- \\frac{1}{\\lambda_{1}^{2}} - \\frac{2}{\\lambda_{1}^{3}} - \\frac{3}{\\lambda_{1}^{4}} - \\frac{4}{\\lambda_{1}^{5}} - \\frac{5}{\\lambda_{1}^{6}} - \\frac{6}{\\lambda_{1}^{7}} - \\frac{7}{\\lambda_{1}^{8}}\\right) + \\frac{1}{\\lambda_{1}} + \\frac{1}{\\lambda_{1}^{2}} + \\frac{1}{\\lambda_{1}^{3}} + \\frac{1}{\\lambda_{1}^{4}} + \\frac{1}{\\lambda_{1}^{5}} + \\frac{1}{\\lambda_{1}^{6}} + \\frac{1}{\\lambda_{1}^{7}} + \\frac{1}{\\lambda_{1}^{8}}$$"
      ],
      "text/plain": [
       "               7                                                              \n",
       "              z         6 ⎛     1             7     ⎞    5 ⎛       1          \n",
       "g(z) = - ─────────── + z ⋅⎜─────────── + ───────────⎟ + z ⋅⎜- ─────────── - ──\n",
       "                   8      ⎜          7             8⎟      ⎜            6     \n",
       "         \\lambda[1]       ⎝\\lambda[1]    \\lambda[1] ⎠      ⎝  \\lambda[1]    \\l\n",
       "\n",
       "                                                                              \n",
       "   6             21    ⎞    4 ⎛     1             5             15            \n",
       "───────── - ───────────⎟ + z ⋅⎜─────────── + ─────────── + ─────────── + ─────\n",
       "        7             8⎟      ⎜          5             6             7        \n",
       "ambda[1]    \\lambda[1] ⎠      ⎝\\lambda[1]    \\lambda[1]    \\lambda[1]    \\lamb\n",
       "\n",
       "                                                                              \n",
       "35    ⎞    3 ⎛       1             4             10            20            3\n",
       "──────⎟ + z ⋅⎜- ─────────── - ─────────── - ─────────── - ─────────── - ──────\n",
       "     8⎟      ⎜            4             5             6             7         \n",
       "da[1] ⎠      ⎝  \\lambda[1]    \\lambda[1]    \\lambda[1]    \\lambda[1]    \\lambd\n",
       "\n",
       "                                                                              \n",
       "5    ⎞    2 ⎛     1             3             6             10            15  \n",
       "─────⎟ + z ⋅⎜─────────── + ─────────── + ─────────── + ─────────── + ─────────\n",
       "    8⎟      ⎜          3             4             5             6            \n",
       "a[1] ⎠      ⎝\\lambda[1]    \\lambda[1]    \\lambda[1]    \\lambda[1]    \\lambda[1\n",
       "\n",
       "                                                                              \n",
       "          21    ⎞     ⎛       1             2             3             4     \n",
       "── + ───────────⎟ + z⋅⎜- ─────────── - ─────────── - ─────────── - ───────────\n",
       " 7             8⎟     ⎜            2             3             4             5\n",
       "]    \\lambda[1] ⎠     ⎝  \\lambda[1]    \\lambda[1]    \\lambda[1]    \\lambda[1] \n",
       "\n",
       "                                                                              \n",
       "        5             6             7     ⎞       1             1             \n",
       " - ─────────── - ─────────── - ───────────⎟ + ────────── + ─────────── + ─────\n",
       "             6             7             8⎟   \\lambda[1]             2        \n",
       "   \\lambda[1]    \\lambda[1]    \\lambda[1] ⎠                \\lambda[1]    \\lamb\n",
       "\n",
       "                                                                            \n",
       "1             1             1             1             1             1     \n",
       "────── + ─────────── + ─────────── + ─────────── + ─────────── + ───────────\n",
       "     3             4             5             6             7             8\n",
       "da[1]    \\lambda[1]    \\lambda[1]    \\lambda[1]    \\lambda[1]    \\lambda[1] "
      ]
     },
     "execution_count": 12,
     "metadata": {},
     "output_type": "execute_result"
    }
   ],
   "source": [
    "g_inverse = g_poly(f_inverse, eigendata, Phi_polynomials)\n",
    "g_inverse"
   ]
  },
  {
   "cell_type": "code",
   "execution_count": 13,
   "metadata": {
    "collapsed": false,
    "deletable": true,
    "editable": true
   },
   "outputs": [
    {
     "data": {
      "image/png": "[encoded data removed]",
      "text/latex": [
       "$$g{\\left (z \\right )} = - z^{7} + 8 z^{6} - 28 z^{5} + 56 z^{4} - 70 z^{3} + 56 z^{2} - 28 z + 8$$"
      ],
      "text/plain": [
       "          7      6       5       4       3       2           \n",
       "g(z) = - z  + 8⋅z  - 28⋅z  + 56⋅z  - 70⋅z  + 56⋅z  - 28⋅z + 8"
      ]
     },
     "execution_count": 13,
     "metadata": {},
     "output_type": "execute_result"
    }
   ],
   "source": [
    "g_inverse = g_inverse.subs(eigenvals)\n",
    "g_inverse"
   ]
  },
  {
   "cell_type": "code",
   "execution_count": 14,
   "metadata": {
    "collapsed": false,
    "deletable": true,
    "editable": true
   },
   "outputs": [
    {
     "data": {
      "image/png": "[encoded data removed]",
      "text/latex": [
       "$$z \\left(z \\left(z \\left(z \\left(z \\left(z \\left(- z + 8\\right) - 28\\right) + 56\\right) - 70\\right) + 56\\right) - 28\\right) + 8$$"
      ],
      "text/plain": [
       "z⋅(z⋅(z⋅(z⋅(z⋅(z⋅(-z + 8) - 28) + 56) - 70) + 56) - 28) + 8"
      ]
     },
     "execution_count": 14,
     "metadata": {},
     "output_type": "execute_result"
    }
   ],
   "source": [
    "horner(g_inverse.rhs)"
   ]
  },
  {
   "cell_type": "markdown",
   "metadata": {
    "deletable": true,
    "editable": true
   },
   "source": [
    "Checks *Equation (1)* in the note:"
   ]
  },
  {
   "cell_type": "code",
   "execution_count": 16,
   "metadata": {
    "collapsed": false,
    "deletable": true,
    "editable": true
   },
   "outputs": [
    {
     "data": {
      "image/png": "[encoded data removed]",
      "text/latex": [
       "$$g{\\left (z \\right )} = - z^{7} + 8 z^{6} - 28 z^{5} + 56 z^{4} - 70 z^{3} + 56 z^{2} - 28 z + 8$$"
      ],
      "text/plain": [
       "          7      6       5       4       3       2           \n",
       "g(z) = - z  + 8⋅z  - 28⋅z  + 56⋅z  - 70⋅z  + 56⋅z  - 28⋅z + 8"
      ]
     },
     "execution_count": 16,
     "metadata": {},
     "output_type": "execute_result"
    }
   ],
   "source": [
    "gg = define(let=Function('g')(z), be=sum(binomial(j-1, k)*(-z)**k for j in range(1, m+1) for k in range(j)))\n",
    "gg"
   ]
  },
  {
   "cell_type": "code",
   "execution_count": 17,
   "metadata": {
    "collapsed": false,
    "deletable": true,
    "editable": true
   },
   "outputs": [
    {
     "data": {
      "image/png": "[encoded data removed]",
      "text/latex": [
       "$$\\mathrm{True}$$"
      ],
      "text/plain": [
       "True"
      ]
     },
     "execution_count": 17,
     "metadata": {},
     "output_type": "execute_result"
    }
   ],
   "source": [
    "Eq(g_inverse.rhs, gg.rhs)"
   ]
  },
  {
   "cell_type": "markdown",
   "metadata": {
    "deletable": true,
    "editable": true
   },
   "source": [
    "Checks *Equation (2)* in the note:"
   ]
  },
  {
   "cell_type": "code",
   "execution_count": 19,
   "metadata": {
    "collapsed": false,
    "deletable": true,
    "editable": true
   },
   "outputs": [
    {
     "data": {
      "image/png": "[encoded data removed]",
      "text/latex": [
       "$$g{\\left (z \\right )} = - z^{7} + 8 z^{6} - 28 z^{5} + 56 z^{4} - 70 z^{3} + 56 z^{2} - 28 z + 8$$"
      ],
      "text/plain": [
       "          7      6       5       4       3       2           \n",
       "g(z) = - z  + 8⋅z  - 28⋅z  + 56⋅z  - 70⋅z  + 56⋅z  - 28⋅z + 8"
      ]
     },
     "execution_count": 19,
     "metadata": {},
     "output_type": "execute_result"
    }
   ],
   "source": [
    "ggg = define(let=Function('g')(z), be=sum(binomial(m, k+1)*(-z)**(k) for k in range(m)))\n",
    "ggg"
   ]
  },
  {
   "cell_type": "code",
   "execution_count": 20,
   "metadata": {
    "collapsed": false,
    "deletable": true,
    "editable": true
   },
   "outputs": [
    {
     "data": {
      "image/png": "[encoded data removed]",
      "text/latex": [
       "$$\\mathrm{True}$$"
      ],
      "text/plain": [
       "True"
      ]
     },
     "execution_count": 20,
     "metadata": {},
     "output_type": "execute_result"
    }
   ],
   "source": [
    "Eq(g_inverse.rhs, ggg.rhs)"
   ]
  },
  {
   "cell_type": "markdown",
   "metadata": {
    "deletable": true,
    "editable": true
   },
   "source": [
    "# `power` function"
   ]
  },
  {
   "cell_type": "code",
   "execution_count": 21,
   "metadata": {
    "collapsed": false,
    "deletable": true,
    "editable": true
   },
   "outputs": [
    {
     "data": {
      "image/png": "[encoded data removed]",
      "text/latex": [
       "$$f{\\left (z \\right )} = z^{r}$$"
      ],
      "text/plain": [
       "        r\n",
       "f(z) = z "
      ]
     },
     "execution_count": 21,
     "metadata": {},
     "output_type": "execute_result"
    }
   ],
   "source": [
    "f = Function('f')\n",
    "f_power = define(let=f(z), be=z**r)\n",
    "f_power"
   ]
  },
  {
   "cell_type": "code",
   "execution_count": 22,
   "metadata": {
    "collapsed": false,
    "deletable": true,
    "editable": true
   },
   "outputs": [],
   "source": [
    "g_power = g_poly(f_power, eigendata, Phi_polynomials)\n",
    "#g_power"
   ]
  },
  {
   "cell_type": "code",
   "execution_count": 23,
   "metadata": {
    "collapsed": false,
    "deletable": true,
    "editable": true
   },
   "outputs": [
    {
     "data": {
      "image/png": "[encoded data removed]",
      "text/latex": [
       "$$g{\\left (z \\right )} = - \\frac{r^{7}}{5040} + \\frac{r^{6}}{180} - \\frac{23 r^{5}}{360} + \\frac{7 r^{4}}{18} - \\frac{967 r^{3}}{720} + \\frac{469 r^{2}}{180} - \\frac{363 r}{140} + z^{7} \\left(\\frac{r^{7}}{5040} - \\frac{r^{6}}{240} + \\frac{5 r^{5}}{144} - \\frac{7 r^{4}}{48} + \\frac{29 r^{3}}{90} - \\frac{7 r^{2}}{20} + \\frac{r}{7}\\right) + z^{6} \\left(- \\frac{r^{7}}{720} + \\frac{11 r^{6}}{360} - \\frac{19 r^{5}}{72} + \\frac{41 r^{4}}{36} - \\frac{1849 r^{3}}{720} + \\frac{1019 r^{2}}{360} - \\frac{7 r}{6}\\right) + z^{5} \\left(\\frac{r^{7}}{240} - \\frac{23 r^{6}}{240} + \\frac{69 r^{5}}{80} - \\frac{185 r^{4}}{48} + \\frac{134 r^{3}}{15} - \\frac{201 r^{2}}{20} + \\frac{21 r}{5}\\right) + z^{4} \\left(- \\frac{r^{7}}{144} + \\frac{r^{6}}{6} - \\frac{113 r^{5}}{72} + \\frac{22 r^{4}}{3} - \\frac{2545 r^{3}}{144} + \\frac{41 r^{2}}{2} - \\frac{35 r}{4}\\right) + z^{3} \\left(\\frac{r^{7}}{144} - \\frac{25 r^{6}}{144} + \\frac{247 r^{5}}{144} - \\frac{1219 r^{4}}{144} + \\frac{389 r^{3}}{18} - \\frac{949 r^{2}}{36} + \\frac{35 r}{3}\\right) + z^{2} \\left(- \\frac{r^{7}}{240} + \\frac{13 r^{6}}{120} - \\frac{9 r^{5}}{8} + \\frac{71 r^{4}}{12} - \\frac{3929 r^{3}}{240} + \\frac{879 r^{2}}{40} - \\frac{21 r}{2}\\right) + z \\left(\\frac{r^{7}}{720} - \\frac{3 r^{6}}{80} + \\frac{59 r^{5}}{144} - \\frac{37 r^{4}}{16} + \\frac{319 r^{3}}{45} - \\frac{223 r^{2}}{20} + 7 r\\right) + 1$$"
      ],
      "text/plain": [
       "           7      6       5      4        3        2              ⎛  7      6 \n",
       "          r      r    23⋅r    7⋅r    967⋅r    469⋅r    363⋅r    7 ⎜ r      r  \n",
       "g(z) = - ──── + ─── - ───── + ──── - ────── + ────── - ───── + z ⋅⎜──── - ─── \n",
       "         5040   180    360     18     720      180      140       ⎝5040   240 \n",
       "\n",
       "     5      4       3      2    ⎞      ⎛    7       6       5       4         \n",
       "  5⋅r    7⋅r    29⋅r    7⋅r    r⎟    6 ⎜   r    11⋅r    19⋅r    41⋅r    1849⋅r\n",
       "+ ──── - ──── + ───── - ──── + ─⎟ + z ⋅⎜- ─── + ───── - ───── + ───── - ──────\n",
       "  144     48      90     20    7⎠      ⎝  720    360      72      36      720 \n",
       "\n",
       "3         2      ⎞      ⎛  7       6       5        4        3        2       \n",
       "    1019⋅r    7⋅r⎟    5 ⎜ r    23⋅r    69⋅r    185⋅r    134⋅r    201⋅r    21⋅r\n",
       "─ + ─────── - ───⎟ + z ⋅⎜─── - ───── + ───── - ────── + ────── - ────── + ────\n",
       "      360      6 ⎠      ⎝240    240      80      48       15       20      5  \n",
       "\n",
       "⎞      ⎛    7    6        5       4         3       2       ⎞      ⎛  7       \n",
       "⎟    4 ⎜   r    r    113⋅r    22⋅r    2545⋅r    41⋅r    35⋅r⎟    3 ⎜ r    25⋅r\n",
       "⎟ + z ⋅⎜- ─── + ── - ────── + ───── - ─────── + ───── - ────⎟ + z ⋅⎜─── - ────\n",
       "⎠      ⎝  144   6      72       3       144       2      4  ⎠      ⎝144    144\n",
       "\n",
       "6        5         4        3        2       ⎞      ⎛    7       6      5     \n",
       "    247⋅r    1219⋅r    389⋅r    949⋅r    35⋅r⎟    2 ⎜   r    13⋅r    9⋅r    71\n",
       "─ + ────── - ─────── + ────── - ────── + ────⎟ + z ⋅⎜- ─── + ───── - ──── + ──\n",
       "     144       144       18       36      3  ⎠      ⎝  240    120     8       \n",
       "\n",
       "  4         3        2       ⎞     ⎛  7      6       5       4        3       \n",
       "⋅r    3929⋅r    879⋅r    21⋅r⎟     ⎜ r    3⋅r    59⋅r    37⋅r    319⋅r    223⋅\n",
       "─── - ─────── + ────── - ────⎟ + z⋅⎜─── - ──── + ───── - ───── + ────── - ────\n",
       "12      240       40      2  ⎠     ⎝720    80     144      16      45       20\n",
       "\n",
       " 2      ⎞    \n",
       "r       ⎟    \n",
       "── + 7⋅r⎟ + 1\n",
       "        ⎠    "
      ]
     },
     "execution_count": 23,
     "metadata": {},
     "output_type": "execute_result"
    }
   ],
   "source": [
    "g_power = g_power.subs(eigenvals)\n",
    "g_power"
   ]
  },
  {
   "cell_type": "markdown",
   "metadata": {
    "deletable": true,
    "editable": true
   },
   "source": [
    "Checks *Equation (3)* in the note:"
   ]
  },
  {
   "cell_type": "code",
   "execution_count": 24,
   "metadata": {
    "collapsed": false,
    "deletable": true,
    "editable": true
   },
   "outputs": [
    {
     "data": {
      "image/png": "[encoded data removed]",
      "text/latex": [
       "$$g{\\left (z \\right )} = z^{7} {\\binom{r}{7}} + z^{6} \\left({\\binom{r}{6}} - 7 {\\binom{r}{7}}\\right) + z^{5} \\left({\\binom{r}{5}} - 6 {\\binom{r}{6}} + 21 {\\binom{r}{7}}\\right) + z^{4} \\left({\\binom{r}{4}} - 5 {\\binom{r}{5}} + 15 {\\binom{r}{6}} - 35 {\\binom{r}{7}}\\right) + z^{3} \\left({\\binom{r}{3}} - 4 {\\binom{r}{4}} + 10 {\\binom{r}{5}} - 20 {\\binom{r}{6}} + 35 {\\binom{r}{7}}\\right) + z^{2} \\left({\\binom{r}{2}} - 3 {\\binom{r}{3}} + 6 {\\binom{r}{4}} - 10 {\\binom{r}{5}} + 15 {\\binom{r}{6}} - 21 {\\binom{r}{7}}\\right) + z \\left({\\binom{r}{1}} - 2 {\\binom{r}{2}} + 3 {\\binom{r}{3}} - 4 {\\binom{r}{4}} + 5 {\\binom{r}{5}} - 6 {\\binom{r}{6}} + 7 {\\binom{r}{7}}\\right) - {\\binom{r}{1}} + {\\binom{r}{2}} - {\\binom{r}{3}} + {\\binom{r}{4}} - {\\binom{r}{5}} + {\\binom{r}{6}} - {\\binom{r}{7}} + 1$$"
      ],
      "text/plain": [
       "        7 ⎛r⎞    6 ⎛⎛r⎞     ⎛r⎞⎞    5 ⎛⎛r⎞     ⎛r⎞      ⎛r⎞⎞    4 ⎛⎛r⎞     ⎛r⎞\n",
       "g(z) = z ⋅⎜ ⎟ + z ⋅⎜⎜ ⎟ - 7⋅⎜ ⎟⎟ + z ⋅⎜⎜ ⎟ - 6⋅⎜ ⎟ + 21⋅⎜ ⎟⎟ + z ⋅⎜⎜ ⎟ - 5⋅⎜ ⎟\n",
       "          ⎝7⎠      ⎝⎝6⎠     ⎝7⎠⎠      ⎝⎝5⎠     ⎝6⎠      ⎝7⎠⎠      ⎝⎝4⎠     ⎝5⎠\n",
       "\n",
       "      ⎛r⎞      ⎛r⎞⎞    3 ⎛⎛r⎞     ⎛r⎞      ⎛r⎞      ⎛r⎞      ⎛r⎞⎞    2 ⎛⎛r⎞   \n",
       " + 15⋅⎜ ⎟ - 35⋅⎜ ⎟⎟ + z ⋅⎜⎜ ⎟ - 4⋅⎜ ⎟ + 10⋅⎜ ⎟ - 20⋅⎜ ⎟ + 35⋅⎜ ⎟⎟ + z ⋅⎜⎜ ⎟ - \n",
       "      ⎝6⎠      ⎝7⎠⎠      ⎝⎝3⎠     ⎝4⎠      ⎝5⎠      ⎝6⎠      ⎝7⎠⎠      ⎝⎝2⎠   \n",
       "\n",
       "  ⎛r⎞     ⎛r⎞      ⎛r⎞      ⎛r⎞      ⎛r⎞⎞     ⎛⎛r⎞     ⎛r⎞     ⎛r⎞     ⎛r⎞    \n",
       "3⋅⎜ ⎟ + 6⋅⎜ ⎟ - 10⋅⎜ ⎟ + 15⋅⎜ ⎟ - 21⋅⎜ ⎟⎟ + z⋅⎜⎜ ⎟ - 2⋅⎜ ⎟ + 3⋅⎜ ⎟ - 4⋅⎜ ⎟ + 5\n",
       "  ⎝3⎠     ⎝4⎠      ⎝5⎠      ⎝6⎠      ⎝7⎠⎠     ⎝⎝1⎠     ⎝2⎠     ⎝3⎠     ⎝4⎠    \n",
       "\n",
       " ⎛r⎞     ⎛r⎞     ⎛r⎞⎞   ⎛r⎞   ⎛r⎞   ⎛r⎞   ⎛r⎞   ⎛r⎞   ⎛r⎞   ⎛r⎞    \n",
       "⋅⎜ ⎟ - 6⋅⎜ ⎟ + 7⋅⎜ ⎟⎟ - ⎜ ⎟ + ⎜ ⎟ - ⎜ ⎟ + ⎜ ⎟ - ⎜ ⎟ + ⎜ ⎟ - ⎜ ⎟ + 1\n",
       " ⎝5⎠     ⎝6⎠     ⎝7⎠⎠   ⎝1⎠   ⎝2⎠   ⎝3⎠   ⎝4⎠   ⎝5⎠   ⎝6⎠   ⎝7⎠    "
      ]
     },
     "execution_count": 24,
     "metadata": {},
     "output_type": "execute_result"
    }
   ],
   "source": [
    "gg = define(let=Function('g')(z), be=sum((-1)**(j-1)*binomial(r, j-1)*binomial(j-1, k)*(-z)**k \n",
    "                                    for j in range(1, m+1) \n",
    "                                    for k in range(j)).collect(z))\n",
    "gg"
   ]
  },
  {
   "cell_type": "code",
   "execution_count": 137,
   "metadata": {
    "collapsed": false,
    "deletable": true,
    "editable": true
   },
   "outputs": [
    {
     "data": {
      "image/png": "[encoded data removed]",
      "text/latex": [
       "$$g{\\left (z \\right )} = - \\frac{r^{7}}{5040} + \\frac{r^{6}}{180} - \\frac{23 r^{5}}{360} + \\frac{7 r^{4}}{18} - \\frac{967 r^{3}}{720} + \\frac{469 r^{2}}{180} - \\frac{363 r}{140} + z^{7} \\left(\\frac{r^{7}}{5040} - \\frac{r^{6}}{240} + \\frac{5 r^{5}}{144} - \\frac{7 r^{4}}{48} + \\frac{29 r^{3}}{90} - \\frac{7 r^{2}}{20} + \\frac{r}{7}\\right) + z^{6} \\left(- \\frac{r^{7}}{720} + \\frac{11 r^{6}}{360} - \\frac{19 r^{5}}{72} + \\frac{41 r^{4}}{36} - \\frac{1849 r^{3}}{720} + \\frac{1019 r^{2}}{360} - \\frac{7 r}{6}\\right) + z^{5} \\left(\\frac{r^{7}}{240} - \\frac{23 r^{6}}{240} + \\frac{69 r^{5}}{80} - \\frac{185 r^{4}}{48} + \\frac{134 r^{3}}{15} - \\frac{201 r^{2}}{20} + \\frac{21 r}{5}\\right) + z^{4} \\left(- \\frac{r^{7}}{144} + \\frac{r^{6}}{6} - \\frac{113 r^{5}}{72} + \\frac{22 r^{4}}{3} - \\frac{2545 r^{3}}{144} + \\frac{41 r^{2}}{2} - \\frac{35 r}{4}\\right) + z^{3} \\left(\\frac{r^{7}}{144} - \\frac{25 r^{6}}{144} + \\frac{247 r^{5}}{144} - \\frac{1219 r^{4}}{144} + \\frac{389 r^{3}}{18} - \\frac{949 r^{2}}{36} + \\frac{35 r}{3}\\right) + z^{2} \\left(- \\frac{r^{7}}{240} + \\frac{13 r^{6}}{120} - \\frac{9 r^{5}}{8} + \\frac{71 r^{4}}{12} - \\frac{3929 r^{3}}{240} + \\frac{879 r^{2}}{40} - \\frac{21 r}{2}\\right) + z \\left(\\frac{r^{7}}{720} - \\frac{3 r^{6}}{80} + \\frac{59 r^{5}}{144} - \\frac{37 r^{4}}{16} + \\frac{319 r^{3}}{45} - \\frac{223 r^{2}}{20} + 7 r\\right) + 1$$"
      ],
      "text/plain": [
       "           7      6       5      4        3        2              ⎛  7      6 \n",
       "          r      r    23⋅r    7⋅r    967⋅r    469⋅r    363⋅r    7 ⎜ r      r  \n",
       "g(z) = - ──── + ─── - ───── + ──── - ────── + ────── - ───── + z ⋅⎜──── - ─── \n",
       "         5040   180    360     18     720      180      140       ⎝5040   240 \n",
       "\n",
       "     5      4       3      2    ⎞      ⎛    7       6       5       4         \n",
       "  5⋅r    7⋅r    29⋅r    7⋅r    r⎟    6 ⎜   r    11⋅r    19⋅r    41⋅r    1849⋅r\n",
       "+ ──── - ──── + ───── - ──── + ─⎟ + z ⋅⎜- ─── + ───── - ───── + ───── - ──────\n",
       "  144     48      90     20    7⎠      ⎝  720    360      72      36      720 \n",
       "\n",
       "3         2      ⎞      ⎛  7       6       5        4        3        2       \n",
       "    1019⋅r    7⋅r⎟    5 ⎜ r    23⋅r    69⋅r    185⋅r    134⋅r    201⋅r    21⋅r\n",
       "─ + ─────── - ───⎟ + z ⋅⎜─── - ───── + ───── - ────── + ────── - ────── + ────\n",
       "      360      6 ⎠      ⎝240    240      80      48       15       20      5  \n",
       "\n",
       "⎞      ⎛    7    6        5       4         3       2       ⎞      ⎛  7       \n",
       "⎟    4 ⎜   r    r    113⋅r    22⋅r    2545⋅r    41⋅r    35⋅r⎟    3 ⎜ r    25⋅r\n",
       "⎟ + z ⋅⎜- ─── + ── - ────── + ───── - ─────── + ───── - ────⎟ + z ⋅⎜─── - ────\n",
       "⎠      ⎝  144   6      72       3       144       2      4  ⎠      ⎝144    144\n",
       "\n",
       "6        5         4        3        2       ⎞      ⎛    7       6      5     \n",
       "    247⋅r    1219⋅r    389⋅r    949⋅r    35⋅r⎟    2 ⎜   r    13⋅r    9⋅r    71\n",
       "─ + ────── - ─────── + ────── - ────── + ────⎟ + z ⋅⎜- ─── + ───── - ──── + ──\n",
       "     144       144       18       36      3  ⎠      ⎝  240    120     8       \n",
       "\n",
       "  4         3        2       ⎞     ⎛  7      6       5       4        3       \n",
       "⋅r    3929⋅r    879⋅r    21⋅r⎟     ⎜ r    3⋅r    59⋅r    37⋅r    319⋅r    223⋅\n",
       "─── - ─────── + ────── - ────⎟ + z⋅⎜─── - ──── + ───── - ───── + ────── - ────\n",
       "12      240       40      2  ⎠     ⎝720    80     144      16      45       20\n",
       "\n",
       " 2      ⎞    \n",
       "r       ⎟    \n",
       "── + 7⋅r⎟ + 1\n",
       "        ⎠    "
      ]
     },
     "execution_count": 137,
     "metadata": {},
     "output_type": "execute_result"
    }
   ],
   "source": [
    "define(let=Function('g')(z), be=gg.rhs.combsimp().collect(z))"
   ]
  },
  {
   "cell_type": "code",
   "execution_count": 25,
   "metadata": {
    "collapsed": false,
    "deletable": true,
    "editable": true
   },
   "outputs": [
    {
     "data": {
      "image/png": "[encoded data removed]",
      "text/latex": [
       "$$\\mathrm{True}$$"
      ],
      "text/plain": [
       "True"
      ]
     },
     "execution_count": 25,
     "metadata": {},
     "output_type": "execute_result"
    }
   ],
   "source": [
    "Eq(g_power.rhs, gg.rhs).simplify()"
   ]
  },
  {
   "cell_type": "markdown",
   "metadata": {
    "deletable": true,
    "editable": true
   },
   "source": [
    "Checks *Equation (4)* in the note:"
   ]
  },
  {
   "cell_type": "code",
   "execution_count": 26,
   "metadata": {
    "collapsed": false,
    "deletable": true,
    "editable": true
   },
   "outputs": [
    {
     "data": {
      "image/png": "[encoded data removed]",
      "text/latex": [
       "$$g{\\left (z \\right )} = z^{7} {\\binom{r}{7}} + z^{6} \\left({\\binom{r}{6}} - 7 {\\binom{r}{7}}\\right) + z^{5} \\left({\\binom{r}{5}} - 6 {\\binom{r}{6}} + 21 {\\binom{r}{7}}\\right) + z^{4} \\left({\\binom{r}{4}} - 5 {\\binom{r}{5}} + 15 {\\binom{r}{6}} - 35 {\\binom{r}{7}}\\right) + z^{3} \\left({\\binom{r}{3}} - 4 {\\binom{r}{4}} + 10 {\\binom{r}{5}} - 20 {\\binom{r}{6}} + 35 {\\binom{r}{7}}\\right) + z^{2} \\left({\\binom{r}{2}} - 3 {\\binom{r}{3}} + 6 {\\binom{r}{4}} - 10 {\\binom{r}{5}} + 15 {\\binom{r}{6}} - 21 {\\binom{r}{7}}\\right) + z \\left({\\binom{r}{1}} - 2 {\\binom{r}{2}} + 3 {\\binom{r}{3}} - 4 {\\binom{r}{4}} + 5 {\\binom{r}{5}} - 6 {\\binom{r}{6}} + 7 {\\binom{r}{7}}\\right) - {\\binom{r}{1}} + {\\binom{r}{2}} - {\\binom{r}{3}} + {\\binom{r}{4}} - {\\binom{r}{5}} + {\\binom{r}{6}} - {\\binom{r}{7}} + 1$$"
      ],
      "text/plain": [
       "        7 ⎛r⎞    6 ⎛⎛r⎞     ⎛r⎞⎞    5 ⎛⎛r⎞     ⎛r⎞      ⎛r⎞⎞    4 ⎛⎛r⎞     ⎛r⎞\n",
       "g(z) = z ⋅⎜ ⎟ + z ⋅⎜⎜ ⎟ - 7⋅⎜ ⎟⎟ + z ⋅⎜⎜ ⎟ - 6⋅⎜ ⎟ + 21⋅⎜ ⎟⎟ + z ⋅⎜⎜ ⎟ - 5⋅⎜ ⎟\n",
       "          ⎝7⎠      ⎝⎝6⎠     ⎝7⎠⎠      ⎝⎝5⎠     ⎝6⎠      ⎝7⎠⎠      ⎝⎝4⎠     ⎝5⎠\n",
       "\n",
       "      ⎛r⎞      ⎛r⎞⎞    3 ⎛⎛r⎞     ⎛r⎞      ⎛r⎞      ⎛r⎞      ⎛r⎞⎞    2 ⎛⎛r⎞   \n",
       " + 15⋅⎜ ⎟ - 35⋅⎜ ⎟⎟ + z ⋅⎜⎜ ⎟ - 4⋅⎜ ⎟ + 10⋅⎜ ⎟ - 20⋅⎜ ⎟ + 35⋅⎜ ⎟⎟ + z ⋅⎜⎜ ⎟ - \n",
       "      ⎝6⎠      ⎝7⎠⎠      ⎝⎝3⎠     ⎝4⎠      ⎝5⎠      ⎝6⎠      ⎝7⎠⎠      ⎝⎝2⎠   \n",
       "\n",
       "  ⎛r⎞     ⎛r⎞      ⎛r⎞      ⎛r⎞      ⎛r⎞⎞     ⎛⎛r⎞     ⎛r⎞     ⎛r⎞     ⎛r⎞    \n",
       "3⋅⎜ ⎟ + 6⋅⎜ ⎟ - 10⋅⎜ ⎟ + 15⋅⎜ ⎟ - 21⋅⎜ ⎟⎟ + z⋅⎜⎜ ⎟ - 2⋅⎜ ⎟ + 3⋅⎜ ⎟ - 4⋅⎜ ⎟ + 5\n",
       "  ⎝3⎠     ⎝4⎠      ⎝5⎠      ⎝6⎠      ⎝7⎠⎠     ⎝⎝1⎠     ⎝2⎠     ⎝3⎠     ⎝4⎠    \n",
       "\n",
       " ⎛r⎞     ⎛r⎞     ⎛r⎞⎞   ⎛r⎞   ⎛r⎞   ⎛r⎞   ⎛r⎞   ⎛r⎞   ⎛r⎞   ⎛r⎞    \n",
       "⋅⎜ ⎟ - 6⋅⎜ ⎟ + 7⋅⎜ ⎟⎟ - ⎜ ⎟ + ⎜ ⎟ - ⎜ ⎟ + ⎜ ⎟ - ⎜ ⎟ + ⎜ ⎟ - ⎜ ⎟ + 1\n",
       " ⎝5⎠     ⎝6⎠     ⎝7⎠⎠   ⎝1⎠   ⎝2⎠   ⎝3⎠   ⎝4⎠   ⎝5⎠   ⎝6⎠   ⎝7⎠    "
      ]
     },
     "execution_count": 26,
     "metadata": {},
     "output_type": "execute_result"
    }
   ],
   "source": [
    "ggg = define(let=Function('g')(z), be=sum((-1)**(j)*binomial(r, j)*binomial(j, k)*(-z)**k \n",
    "                                    for k in range(m) \n",
    "                                    for j in range(k, m)).collect(z))\n",
    "ggg"
   ]
  },
  {
   "cell_type": "code",
   "execution_count": 140,
   "metadata": {
    "collapsed": false,
    "deletable": true,
    "editable": true
   },
   "outputs": [
    {
     "data": {
      "image/png": "[encoded data removed]",
      "text/latex": [
       "$$g{\\left (z \\right )} = - \\frac{r^{7}}{5040} + \\frac{r^{6}}{180} - \\frac{23 r^{5}}{360} + \\frac{7 r^{4}}{18} - \\frac{967 r^{3}}{720} + \\frac{469 r^{2}}{180} - \\frac{363 r}{140} + z^{7} \\left(\\frac{r^{7}}{5040} - \\frac{r^{6}}{240} + \\frac{5 r^{5}}{144} - \\frac{7 r^{4}}{48} + \\frac{29 r^{3}}{90} - \\frac{7 r^{2}}{20} + \\frac{r}{7}\\right) + z^{6} \\left(- \\frac{r^{7}}{720} + \\frac{11 r^{6}}{360} - \\frac{19 r^{5}}{72} + \\frac{41 r^{4}}{36} - \\frac{1849 r^{3}}{720} + \\frac{1019 r^{2}}{360} - \\frac{7 r}{6}\\right) + z^{5} \\left(\\frac{r^{7}}{240} - \\frac{23 r^{6}}{240} + \\frac{69 r^{5}}{80} - \\frac{185 r^{4}}{48} + \\frac{134 r^{3}}{15} - \\frac{201 r^{2}}{20} + \\frac{21 r}{5}\\right) + z^{4} \\left(- \\frac{r^{7}}{144} + \\frac{r^{6}}{6} - \\frac{113 r^{5}}{72} + \\frac{22 r^{4}}{3} - \\frac{2545 r^{3}}{144} + \\frac{41 r^{2}}{2} - \\frac{35 r}{4}\\right) + z^{3} \\left(\\frac{r^{7}}{144} - \\frac{25 r^{6}}{144} + \\frac{247 r^{5}}{144} - \\frac{1219 r^{4}}{144} + \\frac{389 r^{3}}{18} - \\frac{949 r^{2}}{36} + \\frac{35 r}{3}\\right) + z^{2} \\left(- \\frac{r^{7}}{240} + \\frac{13 r^{6}}{120} - \\frac{9 r^{5}}{8} + \\frac{71 r^{4}}{12} - \\frac{3929 r^{3}}{240} + \\frac{879 r^{2}}{40} - \\frac{21 r}{2}\\right) + z \\left(\\frac{r^{7}}{720} - \\frac{3 r^{6}}{80} + \\frac{59 r^{5}}{144} - \\frac{37 r^{4}}{16} + \\frac{319 r^{3}}{45} - \\frac{223 r^{2}}{20} + 7 r\\right) + 1$$"
      ],
      "text/plain": [
       "           7      6       5      4        3        2              ⎛  7      6 \n",
       "          r      r    23⋅r    7⋅r    967⋅r    469⋅r    363⋅r    7 ⎜ r      r  \n",
       "g(z) = - ──── + ─── - ───── + ──── - ────── + ────── - ───── + z ⋅⎜──── - ─── \n",
       "         5040   180    360     18     720      180      140       ⎝5040   240 \n",
       "\n",
       "     5      4       3      2    ⎞      ⎛    7       6       5       4         \n",
       "  5⋅r    7⋅r    29⋅r    7⋅r    r⎟    6 ⎜   r    11⋅r    19⋅r    41⋅r    1849⋅r\n",
       "+ ──── - ──── + ───── - ──── + ─⎟ + z ⋅⎜- ─── + ───── - ───── + ───── - ──────\n",
       "  144     48      90     20    7⎠      ⎝  720    360      72      36      720 \n",
       "\n",
       "3         2      ⎞      ⎛  7       6       5        4        3        2       \n",
       "    1019⋅r    7⋅r⎟    5 ⎜ r    23⋅r    69⋅r    185⋅r    134⋅r    201⋅r    21⋅r\n",
       "─ + ─────── - ───⎟ + z ⋅⎜─── - ───── + ───── - ────── + ────── - ────── + ────\n",
       "      360      6 ⎠      ⎝240    240      80      48       15       20      5  \n",
       "\n",
       "⎞      ⎛    7    6        5       4         3       2       ⎞      ⎛  7       \n",
       "⎟    4 ⎜   r    r    113⋅r    22⋅r    2545⋅r    41⋅r    35⋅r⎟    3 ⎜ r    25⋅r\n",
       "⎟ + z ⋅⎜- ─── + ── - ────── + ───── - ─────── + ───── - ────⎟ + z ⋅⎜─── - ────\n",
       "⎠      ⎝  144   6      72       3       144       2      4  ⎠      ⎝144    144\n",
       "\n",
       "6        5         4        3        2       ⎞      ⎛    7       6      5     \n",
       "    247⋅r    1219⋅r    389⋅r    949⋅r    35⋅r⎟    2 ⎜   r    13⋅r    9⋅r    71\n",
       "─ + ────── - ─────── + ────── - ────── + ────⎟ + z ⋅⎜- ─── + ───── - ──── + ──\n",
       "     144       144       18       36      3  ⎠      ⎝  240    120     8       \n",
       "\n",
       "  4         3        2       ⎞     ⎛  7      6       5       4        3       \n",
       "⋅r    3929⋅r    879⋅r    21⋅r⎟     ⎜ r    3⋅r    59⋅r    37⋅r    319⋅r    223⋅\n",
       "─── - ─────── + ────── - ────⎟ + z⋅⎜─── - ──── + ───── - ───── + ────── - ────\n",
       "12      240       40      2  ⎠     ⎝720    80     144      16      45       20\n",
       "\n",
       " 2      ⎞    \n",
       "r       ⎟    \n",
       "── + 7⋅r⎟ + 1\n",
       "        ⎠    "
      ]
     },
     "execution_count": 140,
     "metadata": {},
     "output_type": "execute_result"
    }
   ],
   "source": [
    "define(let=Function('g')(z), be=ggg.rhs.combsimp().collect(z))"
   ]
  },
  {
   "cell_type": "code",
   "execution_count": 27,
   "metadata": {
    "collapsed": false,
    "deletable": true,
    "editable": true
   },
   "outputs": [
    {
     "data": {
      "image/png": "[encoded data removed]",
      "text/latex": [
       "$$\\mathrm{True}$$"
      ],
      "text/plain": [
       "True"
      ]
     },
     "execution_count": 27,
     "metadata": {},
     "output_type": "execute_result"
    }
   ],
   "source": [
    "Eq(g_power.rhs, ggg.rhs).simplify()"
   ]
  },
  {
   "cell_type": "markdown",
   "metadata": {
    "deletable": true,
    "editable": true
   },
   "source": [
    "Checks *Equation (5)* in the note:"
   ]
  },
  {
   "cell_type": "markdown",
   "metadata": {
    "deletable": true,
    "editable": true
   },
   "source": [
    "the following is an attempt to factor out $(r)_{(8)}$ at denominator, *skip it at checking time*:"
   ]
  },
  {
   "cell_type": "code",
   "execution_count": 164,
   "metadata": {
    "collapsed": false,
    "deletable": true,
    "editable": true
   },
   "outputs": [
    {
     "data": {
      "image/png": "[encoded data removed]",
      "text/latex": [
       "$$- r^{7} + 28 r^{6} - 322 r^{5} + 1960 r^{4} - 6769 r^{3} + 13132 r^{2} - 13068 r + z^{7} \\left(r^{7} - 21 r^{6} + 175 r^{5} - 735 r^{4} + 1624 r^{3} - 1764 r^{2} + 720 r\\right) + z^{6} \\left(- 7 r^{7} + 154 r^{6} - 1330 r^{5} + 5740 r^{4} - 12943 r^{3} + 14266 r^{2} - 5880 r\\right) + z^{5} \\left(21 r^{7} - 483 r^{6} + 4347 r^{5} - 19425 r^{4} + 45024 r^{3} - 50652 r^{2} + 21168 r\\right) + z^{4} \\left(- 35 r^{7} + 840 r^{6} - 7910 r^{5} + 36960 r^{4} - 89075 r^{3} + 103320 r^{2} - 44100 r\\right) + z^{3} \\left(35 r^{7} - 875 r^{6} + 8645 r^{5} - 42665 r^{4} + 108920 r^{3} - 132860 r^{2} + 58800 r\\right) + z^{2} \\left(- 21 r^{7} + 546 r^{6} - 5670 r^{5} + 29820 r^{4} - 82509 r^{3} + 110754 r^{2} - 52920 r\\right) + z \\left(7 r^{7} - 189 r^{6} + 2065 r^{5} - 11655 r^{4} + 35728 r^{3} - 56196 r^{2} + 35280 r\\right) + 5040$$"
      ],
      "text/plain": [
       "   7       6        5         4         3          2              7 ⎛ 7       \n",
       "- r  + 28⋅r  - 322⋅r  + 1960⋅r  - 6769⋅r  + 13132⋅r  - 13068⋅r + z ⋅⎝r  - 21⋅r\n",
       "\n",
       "6        5        4         3         2        ⎞    6 ⎛     7        6        \n",
       "  + 175⋅r  - 735⋅r  + 1624⋅r  - 1764⋅r  + 720⋅r⎠ + z ⋅⎝- 7⋅r  + 154⋅r  - 1330⋅\n",
       "\n",
       " 5         4          3          2         ⎞    5 ⎛    7        6         5   \n",
       "r  + 5740⋅r  - 12943⋅r  + 14266⋅r  - 5880⋅r⎠ + z ⋅⎝21⋅r  - 483⋅r  + 4347⋅r  - \n",
       "\n",
       "       4          3          2          ⎞    4 ⎛      7        6         5    \n",
       "19425⋅r  + 45024⋅r  - 50652⋅r  + 21168⋅r⎠ + z ⋅⎝- 35⋅r  + 840⋅r  - 7910⋅r  + 3\n",
       "\n",
       "      4          3           2          ⎞    3 ⎛    7        6         5      \n",
       "6960⋅r  - 89075⋅r  + 103320⋅r  - 44100⋅r⎠ + z ⋅⎝35⋅r  - 875⋅r  + 8645⋅r  - 426\n",
       "\n",
       "    4           3           2          ⎞    2 ⎛      7        6         5     \n",
       "65⋅r  + 108920⋅r  - 132860⋅r  + 58800⋅r⎠ + z ⋅⎝- 21⋅r  + 546⋅r  - 5670⋅r  + 29\n",
       "\n",
       "     4          3           2          ⎞     ⎛   7        6         5         \n",
       "820⋅r  - 82509⋅r  + 110754⋅r  - 52920⋅r⎠ + z⋅⎝7⋅r  - 189⋅r  + 2065⋅r  - 11655⋅\n",
       "\n",
       " 4          3          2          ⎞       \n",
       "r  + 35728⋅r  - 56196⋅r  + 35280⋅r⎠ + 5040"
      ]
     },
     "execution_count": 164,
     "metadata": {},
     "output_type": "execute_result"
    }
   ],
   "source": [
    "gggg = define(let=Function('g')(z), be=sum((-1)**(m)*(k-m)/(r-k)*binomial(m, k)*binomial(r, m)*(-z)**k \n",
    "                                    for k in range(m)).collect(z)/(8*binomial(r, 8)/ff(r, 8)))\n",
    "gggg.rhs.combsimp().collect(z)"
   ]
  },
  {
   "cell_type": "markdown",
   "metadata": {
    "deletable": true,
    "editable": true
   },
   "source": [
    "the following is an equivalent $g$ polynomial where we've factored out a common term, *therefore paste $g$ in your document, multiplying it by $8{{r}\\choose{8}}$*:"
   ]
  },
  {
   "cell_type": "code",
   "execution_count": 173,
   "metadata": {
    "collapsed": false,
    "deletable": true,
    "editable": true
   },
   "outputs": [
    {
     "data": {
      "image/png": "[encoded data removed]",
      "text/latex": [
       "$$g{\\left (z \\right )} = \\frac{z^{7}}{r - 7} - \\frac{7 z^{6}}{r - 6} + \\frac{21 z^{5}}{r - 5} - \\frac{35 z^{4}}{r - 4} + \\frac{35 z^{3}}{r - 3} - \\frac{21 z^{2}}{r - 2} + \\frac{7 z}{r - 1} - \\frac{1}{r}$$"
      ],
      "text/plain": [
       "          7        6       5       4       3       2            \n",
       "         z      7⋅z    21⋅z    35⋅z    35⋅z    21⋅z     7⋅z    1\n",
       "g(z) = ───── - ───── + ───── - ───── + ───── - ───── + ───── - ─\n",
       "       r - 7   r - 6   r - 5   r - 4   r - 3   r - 2   r - 1   r"
      ]
     },
     "execution_count": 173,
     "metadata": {},
     "output_type": "execute_result"
    }
   ],
   "source": [
    "gggg = define(let=Function('g')(z), be=sum((-1)**(m)*(k-m)/(r-k)*binomial(m, k)*binomial(r, m)*(-z)**k \n",
    "                                    for k in range(m)).collect(z)/(8*binomial(r, 8)))\n",
    "gggg.expand()#.rhs.combsimp().collect(z)"
   ]
  },
  {
   "cell_type": "markdown",
   "metadata": {
    "deletable": true,
    "editable": true
   },
   "source": [
    "checking cell:"
   ]
  },
  {
   "cell_type": "code",
   "execution_count": 28,
   "metadata": {
    "collapsed": false,
    "deletable": true,
    "editable": true
   },
   "outputs": [
    {
     "data": {
      "image/png": "[encoded data removed]",
      "text/latex": [
       "$$g{\\left (z \\right )} = \\frac{8 z^{7} {\\binom{r}{8}}}{r - 7} - \\frac{56 z^{6} {\\binom{r}{8}}}{r - 6} + \\frac{168 z^{5} {\\binom{r}{8}}}{r - 5} - \\frac{280 z^{4} {\\binom{r}{8}}}{r - 4} + \\frac{280 z^{3} {\\binom{r}{8}}}{r - 3} - \\frac{168 z^{2} {\\binom{r}{8}}}{r - 2} + \\frac{56 z {\\binom{r}{8}}}{r - 1} - \\frac{8 {\\binom{r}{8}}}{r}$$"
      ],
      "text/plain": [
       "          7 ⎛r⎞       6 ⎛r⎞        5 ⎛r⎞        4 ⎛r⎞        3 ⎛r⎞        2 ⎛r\n",
       "       8⋅z ⋅⎜ ⎟   56⋅z ⋅⎜ ⎟   168⋅z ⋅⎜ ⎟   280⋅z ⋅⎜ ⎟   280⋅z ⋅⎜ ⎟   168⋅z ⋅⎜ \n",
       "            ⎝8⎠         ⎝8⎠          ⎝8⎠          ⎝8⎠          ⎝8⎠          ⎝8\n",
       "g(z) = ──────── - ───────── + ────────── - ────────── + ────────── - ─────────\n",
       "        r - 7       r - 6       r - 5        r - 4        r - 3        r - 2  \n",
       "\n",
       "⎞        ⎛r⎞     ⎛r⎞\n",
       "⎟   56⋅z⋅⎜ ⎟   8⋅⎜ ⎟\n",
       "⎠        ⎝8⎠     ⎝8⎠\n",
       "─ + ──────── - ─────\n",
       "     r - 1       r  "
      ]
     },
     "execution_count": 28,
     "metadata": {},
     "output_type": "execute_result"
    }
   ],
   "source": [
    "gggg = define(let=Function('g')(z), be=sum((-1)**(m)*(k-m)/(r-k)*binomial(m, k)*binomial(r, m)*(-z)**k \n",
    "                                    for k in range(m)).collect(z))\n",
    "gggg"
   ]
  },
  {
   "cell_type": "code",
   "execution_count": 169,
   "metadata": {
    "collapsed": false,
    "deletable": true,
    "editable": true
   },
   "outputs": [
    {
     "data": {
      "image/png": "[encoded data removed]",
      "text/latex": [
       "$$g{\\left (z \\right )} = - \\frac{r^{7}}{5040} + \\frac{r^{6}}{180} - \\frac{23 r^{5}}{360} + \\frac{7 r^{4}}{18} - \\frac{967 r^{3}}{720} + \\frac{469 r^{2}}{180} - \\frac{363 r}{140} + z^{7} \\left(\\frac{r^{7}}{5040} - \\frac{r^{6}}{240} + \\frac{5 r^{5}}{144} - \\frac{7 r^{4}}{48} + \\frac{29 r^{3}}{90} - \\frac{7 r^{2}}{20} + \\frac{r}{7}\\right) + z^{6} \\left(- \\frac{r^{7}}{720} + \\frac{11 r^{6}}{360} - \\frac{19 r^{5}}{72} + \\frac{41 r^{4}}{36} - \\frac{1849 r^{3}}{720} + \\frac{1019 r^{2}}{360} - \\frac{7 r}{6}\\right) + z^{5} \\left(\\frac{r^{7}}{240} - \\frac{23 r^{6}}{240} + \\frac{69 r^{5}}{80} - \\frac{185 r^{4}}{48} + \\frac{134 r^{3}}{15} - \\frac{201 r^{2}}{20} + \\frac{21 r}{5}\\right) + z^{4} \\left(- \\frac{r^{7}}{144} + \\frac{r^{6}}{6} - \\frac{113 r^{5}}{72} + \\frac{22 r^{4}}{3} - \\frac{2545 r^{3}}{144} + \\frac{41 r^{2}}{2} - \\frac{35 r}{4}\\right) + z^{3} \\left(\\frac{r^{7}}{144} - \\frac{25 r^{6}}{144} + \\frac{247 r^{5}}{144} - \\frac{1219 r^{4}}{144} + \\frac{389 r^{3}}{18} - \\frac{949 r^{2}}{36} + \\frac{35 r}{3}\\right) + z^{2} \\left(- \\frac{r^{7}}{240} + \\frac{13 r^{6}}{120} - \\frac{9 r^{5}}{8} + \\frac{71 r^{4}}{12} - \\frac{3929 r^{3}}{240} + \\frac{879 r^{2}}{40} - \\frac{21 r}{2}\\right) + z \\left(\\frac{r^{7}}{720} - \\frac{3 r^{6}}{80} + \\frac{59 r^{5}}{144} - \\frac{37 r^{4}}{16} + \\frac{319 r^{3}}{45} - \\frac{223 r^{2}}{20} + 7 r\\right) + 1$$"
      ],
      "text/plain": [
       "           7      6       5      4        3        2              ⎛  7      6 \n",
       "          r      r    23⋅r    7⋅r    967⋅r    469⋅r    363⋅r    7 ⎜ r      r  \n",
       "g(z) = - ──── + ─── - ───── + ──── - ────── + ────── - ───── + z ⋅⎜──── - ─── \n",
       "         5040   180    360     18     720      180      140       ⎝5040   240 \n",
       "\n",
       "     5      4       3      2    ⎞      ⎛    7       6       5       4         \n",
       "  5⋅r    7⋅r    29⋅r    7⋅r    r⎟    6 ⎜   r    11⋅r    19⋅r    41⋅r    1849⋅r\n",
       "+ ──── - ──── + ───── - ──── + ─⎟ + z ⋅⎜- ─── + ───── - ───── + ───── - ──────\n",
       "  144     48      90     20    7⎠      ⎝  720    360      72      36      720 \n",
       "\n",
       "3         2      ⎞      ⎛  7       6       5        4        3        2       \n",
       "    1019⋅r    7⋅r⎟    5 ⎜ r    23⋅r    69⋅r    185⋅r    134⋅r    201⋅r    21⋅r\n",
       "─ + ─────── - ───⎟ + z ⋅⎜─── - ───── + ───── - ────── + ────── - ────── + ────\n",
       "      360      6 ⎠      ⎝240    240      80      48       15       20      5  \n",
       "\n",
       "⎞      ⎛    7    6        5       4         3       2       ⎞      ⎛  7       \n",
       "⎟    4 ⎜   r    r    113⋅r    22⋅r    2545⋅r    41⋅r    35⋅r⎟    3 ⎜ r    25⋅r\n",
       "⎟ + z ⋅⎜- ─── + ── - ────── + ───── - ─────── + ───── - ────⎟ + z ⋅⎜─── - ────\n",
       "⎠      ⎝  144   6      72       3       144       2      4  ⎠      ⎝144    144\n",
       "\n",
       "6        5         4        3        2       ⎞      ⎛    7       6      5     \n",
       "    247⋅r    1219⋅r    389⋅r    949⋅r    35⋅r⎟    2 ⎜   r    13⋅r    9⋅r    71\n",
       "─ + ────── - ─────── + ────── - ────── + ────⎟ + z ⋅⎜- ─── + ───── - ──── + ──\n",
       "     144       144       18       36      3  ⎠      ⎝  240    120     8       \n",
       "\n",
       "  4         3        2       ⎞     ⎛  7      6       5       4        3       \n",
       "⋅r    3929⋅r    879⋅r    21⋅r⎟     ⎜ r    3⋅r    59⋅r    37⋅r    319⋅r    223⋅\n",
       "─── - ─────── + ────── - ────⎟ + z⋅⎜─── - ──── + ───── - ───── + ────── - ────\n",
       "12      240       40      2  ⎠     ⎝720    80     144      16      45       20\n",
       "\n",
       " 2      ⎞    \n",
       "r       ⎟    \n",
       "── + 7⋅r⎟ + 1\n",
       "        ⎠    "
      ]
     },
     "execution_count": 169,
     "metadata": {},
     "output_type": "execute_result"
    }
   ],
   "source": [
    "define(let=Function('g')(z), be=gggg.rhs.combsimp().collect(z))"
   ]
  },
  {
   "cell_type": "code",
   "execution_count": 29,
   "metadata": {
    "collapsed": false,
    "deletable": true,
    "editable": true
   },
   "outputs": [
    {
     "data": {
      "image/png": "[encoded data removed]",
      "text/latex": [
       "$$\\mathrm{True}$$"
      ],
      "text/plain": [
       "True"
      ]
     },
     "execution_count": 29,
     "metadata": {},
     "output_type": "execute_result"
    }
   ],
   "source": [
    "Eq(g_power.rhs, gggg.rhs).simplify()"
   ]
  },
  {
   "cell_type": "markdown",
   "metadata": {
    "deletable": true,
    "editable": true
   },
   "source": [
    "Checks *Equation (6)* in the note:"
   ]
  },
  {
   "cell_type": "markdown",
   "metadata": {
    "deletable": true,
    "editable": true
   },
   "source": [
    "the following is an equivalent $g$ polynomial where we've factored out a common term, *therefore paste $g$ in your document, multiplying it by $8{{7-r}\\choose{8}}$*:"
   ]
  },
  {
   "cell_type": "code",
   "execution_count": 179,
   "metadata": {
    "collapsed": false,
    "deletable": true,
    "editable": true
   },
   "outputs": [
    {
     "data": {
      "image/png": "[encoded data removed]",
      "text/latex": [
       "$$g{\\left (z \\right )} = \\frac{z^{7}}{r - 7} - \\frac{7 z^{6}}{r - 6} + \\frac{21 z^{5}}{r - 5} - \\frac{35 z^{4}}{r - 4} + \\frac{35 z^{3}}{r - 3} - \\frac{21 z^{2}}{r - 2} + \\frac{7 z}{r - 1} - \\frac{1}{r}$$"
      ],
      "text/plain": [
       "          7        6       5       4       3       2            \n",
       "         z      7⋅z    21⋅z    35⋅z    35⋅z    21⋅z     7⋅z    1\n",
       "g(z) = ───── - ───── + ───── - ───── + ───── - ───── + ───── - ─\n",
       "       r - 7   r - 6   r - 5   r - 4   r - 3   r - 2   r - 1   r"
      ]
     },
     "execution_count": 179,
     "metadata": {},
     "output_type": "execute_result"
    }
   ],
   "source": [
    "ggggg = define(let=Function('g')(z), be=sum((k-m)/(r-k)*binomial(m, k)*binomial(m-r-1, m)*(-z)**k \n",
    "                                    for k in range(m)).collect(z)/(8*binomial(7-r, 8)))\n",
    "ggggg.expand()"
   ]
  },
  {
   "cell_type": "markdown",
   "metadata": {
    "deletable": true,
    "editable": true
   },
   "source": [
    "Checking cell:"
   ]
  },
  {
   "cell_type": "code",
   "execution_count": 30,
   "metadata": {
    "collapsed": false,
    "deletable": true,
    "editable": true
   },
   "outputs": [
    {
     "data": {
      "image/png": "[encoded data removed]",
      "text/latex": [
       "$$g{\\left (z \\right )} = \\frac{8 z^{7} {\\binom{- r + 7}{8}}}{r - 7} - \\frac{56 z^{6} {\\binom{- r + 7}{8}}}{r - 6} + \\frac{168 z^{5} {\\binom{- r + 7}{8}}}{r - 5} - \\frac{280 z^{4} {\\binom{- r + 7}{8}}}{r - 4} + \\frac{280 z^{3} {\\binom{- r + 7}{8}}}{r - 3} - \\frac{168 z^{2} {\\binom{- r + 7}{8}}}{r - 2} + \\frac{56 z {\\binom{- r + 7}{8}}}{r - 1} - \\frac{8}{r} {\\binom{- r + 7}{8}}$$"
      ],
      "text/plain": [
       "          7 ⎛-r + 7⎞       6 ⎛-r + 7⎞        5 ⎛-r + 7⎞        4 ⎛-r + 7⎞     \n",
       "       8⋅z ⋅⎜      ⎟   56⋅z ⋅⎜      ⎟   168⋅z ⋅⎜      ⎟   280⋅z ⋅⎜      ⎟   28\n",
       "            ⎝  8   ⎠         ⎝  8   ⎠          ⎝  8   ⎠          ⎝  8   ⎠     \n",
       "g(z) = ───────────── - ────────────── + ─────────────── - ─────────────── + ──\n",
       "           r - 7           r - 6             r - 5             r - 4          \n",
       "\n",
       "   3 ⎛-r + 7⎞        2 ⎛-r + 7⎞        ⎛-r + 7⎞     ⎛-r + 7⎞\n",
       "0⋅z ⋅⎜      ⎟   168⋅z ⋅⎜      ⎟   56⋅z⋅⎜      ⎟   8⋅⎜      ⎟\n",
       "     ⎝  8   ⎠          ⎝  8   ⎠        ⎝  8   ⎠     ⎝  8   ⎠\n",
       "───────────── - ─────────────── + ───────────── - ──────────\n",
       "   r - 3             r - 2            r - 1           r     "
      ]
     },
     "execution_count": 30,
     "metadata": {},
     "output_type": "execute_result"
    }
   ],
   "source": [
    "ggggg = define(let=Function('g')(z), be=sum((k-m)/(r-k)*binomial(m, k)*binomial(m-r-1, m)*(-z)**k \n",
    "                                    for k in range(m)).collect(z))\n",
    "ggggg"
   ]
  },
  {
   "cell_type": "code",
   "execution_count": 181,
   "metadata": {
    "collapsed": false,
    "deletable": true,
    "editable": true
   },
   "outputs": [
    {
     "data": {
      "image/png": "[encoded data removed]",
      "text/latex": [
       "$$g{\\left (z \\right )} = - \\frac{r^{7}}{5040} + \\frac{r^{6}}{180} - \\frac{23 r^{5}}{360} + \\frac{7 r^{4}}{18} - \\frac{967 r^{3}}{720} + \\frac{469 r^{2}}{180} - \\frac{363 r}{140} + z^{7} \\left(\\frac{r^{7}}{5040} - \\frac{r^{6}}{240} + \\frac{5 r^{5}}{144} - \\frac{7 r^{4}}{48} + \\frac{29 r^{3}}{90} - \\frac{7 r^{2}}{20} + \\frac{r}{7}\\right) + z^{6} \\left(- \\frac{r^{7}}{720} + \\frac{11 r^{6}}{360} - \\frac{19 r^{5}}{72} + \\frac{41 r^{4}}{36} - \\frac{1849 r^{3}}{720} + \\frac{1019 r^{2}}{360} - \\frac{7 r}{6}\\right) + z^{5} \\left(\\frac{r^{7}}{240} - \\frac{23 r^{6}}{240} + \\frac{69 r^{5}}{80} - \\frac{185 r^{4}}{48} + \\frac{134 r^{3}}{15} - \\frac{201 r^{2}}{20} + \\frac{21 r}{5}\\right) + z^{4} \\left(- \\frac{r^{7}}{144} + \\frac{r^{6}}{6} - \\frac{113 r^{5}}{72} + \\frac{22 r^{4}}{3} - \\frac{2545 r^{3}}{144} + \\frac{41 r^{2}}{2} - \\frac{35 r}{4}\\right) + z^{3} \\left(\\frac{r^{7}}{144} - \\frac{25 r^{6}}{144} + \\frac{247 r^{5}}{144} - \\frac{1219 r^{4}}{144} + \\frac{389 r^{3}}{18} - \\frac{949 r^{2}}{36} + \\frac{35 r}{3}\\right) + z^{2} \\left(- \\frac{r^{7}}{240} + \\frac{13 r^{6}}{120} - \\frac{9 r^{5}}{8} + \\frac{71 r^{4}}{12} - \\frac{3929 r^{3}}{240} + \\frac{879 r^{2}}{40} - \\frac{21 r}{2}\\right) + z \\left(\\frac{r^{7}}{720} - \\frac{3 r^{6}}{80} + \\frac{59 r^{5}}{144} - \\frac{37 r^{4}}{16} + \\frac{319 r^{3}}{45} - \\frac{223 r^{2}}{20} + 7 r\\right) + 1$$"
      ],
      "text/plain": [
       "           7      6       5      4        3        2              ⎛  7      6 \n",
       "          r      r    23⋅r    7⋅r    967⋅r    469⋅r    363⋅r    7 ⎜ r      r  \n",
       "g(z) = - ──── + ─── - ───── + ──── - ────── + ────── - ───── + z ⋅⎜──── - ─── \n",
       "         5040   180    360     18     720      180      140       ⎝5040   240 \n",
       "\n",
       "     5      4       3      2    ⎞      ⎛    7       6       5       4         \n",
       "  5⋅r    7⋅r    29⋅r    7⋅r    r⎟    6 ⎜   r    11⋅r    19⋅r    41⋅r    1849⋅r\n",
       "+ ──── - ──── + ───── - ──── + ─⎟ + z ⋅⎜- ─── + ───── - ───── + ───── - ──────\n",
       "  144     48      90     20    7⎠      ⎝  720    360      72      36      720 \n",
       "\n",
       "3         2      ⎞      ⎛  7       6       5        4        3        2       \n",
       "    1019⋅r    7⋅r⎟    5 ⎜ r    23⋅r    69⋅r    185⋅r    134⋅r    201⋅r    21⋅r\n",
       "─ + ─────── - ───⎟ + z ⋅⎜─── - ───── + ───── - ────── + ────── - ────── + ────\n",
       "      360      6 ⎠      ⎝240    240      80      48       15       20      5  \n",
       "\n",
       "⎞      ⎛    7    6        5       4         3       2       ⎞      ⎛  7       \n",
       "⎟    4 ⎜   r    r    113⋅r    22⋅r    2545⋅r    41⋅r    35⋅r⎟    3 ⎜ r    25⋅r\n",
       "⎟ + z ⋅⎜- ─── + ── - ────── + ───── - ─────── + ───── - ────⎟ + z ⋅⎜─── - ────\n",
       "⎠      ⎝  144   6      72       3       144       2      4  ⎠      ⎝144    144\n",
       "\n",
       "6        5         4        3        2       ⎞      ⎛    7       6      5     \n",
       "    247⋅r    1219⋅r    389⋅r    949⋅r    35⋅r⎟    2 ⎜   r    13⋅r    9⋅r    71\n",
       "─ + ────── - ─────── + ────── - ────── + ────⎟ + z ⋅⎜- ─── + ───── - ──── + ──\n",
       "     144       144       18       36      3  ⎠      ⎝  240    120     8       \n",
       "\n",
       "  4         3        2       ⎞     ⎛  7      6       5       4        3       \n",
       "⋅r    3929⋅r    879⋅r    21⋅r⎟     ⎜ r    3⋅r    59⋅r    37⋅r    319⋅r    223⋅\n",
       "─── - ─────── + ────── - ────⎟ + z⋅⎜─── - ──── + ───── - ───── + ────── - ────\n",
       "12      240       40      2  ⎠     ⎝720    80     144      16      45       20\n",
       "\n",
       " 2      ⎞    \n",
       "r       ⎟    \n",
       "── + 7⋅r⎟ + 1\n",
       "        ⎠    "
      ]
     },
     "execution_count": 181,
     "metadata": {},
     "output_type": "execute_result"
    }
   ],
   "source": [
    "define(let=Function('g')(z), be=ggggg.rhs.combsimp().collect(z))"
   ]
  },
  {
   "cell_type": "code",
   "execution_count": 31,
   "metadata": {
    "collapsed": false,
    "deletable": true,
    "editable": true
   },
   "outputs": [
    {
     "data": {
      "image/png": "[encoded data removed]",
      "text/latex": [
       "$$\\mathrm{True}$$"
      ],
      "text/plain": [
       "True"
      ]
     },
     "execution_count": 31,
     "metadata": {},
     "output_type": "execute_result"
    }
   ],
   "source": [
    "Eq(g_power.rhs, ggggg.rhs).simplify()"
   ]
  },
  {
   "cell_type": "markdown",
   "metadata": {
    "deletable": true,
    "editable": true
   },
   "source": [
    "---"
   ]
  },
  {
   "cell_type": "code",
   "execution_count": 118,
   "metadata": {
    "collapsed": false,
    "deletable": true,
    "editable": true
   },
   "outputs": [
    {
     "data": {
      "image/png": "[encoded data removed]",
      "text/latex": [
       "$$r \\left(r \\left(r \\left(r \\left(r \\left(r \\left(- \\frac{r}{5040} + \\frac{1}{180}\\right) - \\frac{23}{360}\\right) + \\frac{7}{18}\\right) - \\frac{967}{720}\\right) + \\frac{469}{180}\\right) - \\frac{363}{140}\\right) + z \\left(r \\left(r \\left(r \\left(r \\left(r \\left(r \\left(\\frac{r}{720} - \\frac{3}{80}\\right) + \\frac{59}{144}\\right) - \\frac{37}{16}\\right) + \\frac{319}{45}\\right) - \\frac{223}{20}\\right) + 7\\right) + z \\left(r \\left(r \\left(r \\left(r \\left(r \\left(r \\left(- \\frac{r}{240} + \\frac{13}{120}\\right) - \\frac{9}{8}\\right) + \\frac{71}{12}\\right) - \\frac{3929}{240}\\right) + \\frac{879}{40}\\right) - \\frac{21}{2}\\right) + z \\left(r \\left(r \\left(r \\left(r \\left(r \\left(r \\left(\\frac{r}{144} - \\frac{25}{144}\\right) + \\frac{247}{144}\\right) - \\frac{1219}{144}\\right) + \\frac{389}{18}\\right) - \\frac{949}{36}\\right) + \\frac{35}{3}\\right) + z \\left(r \\left(r \\left(r \\left(r \\left(r \\left(r \\left(- \\frac{r}{144} + \\frac{1}{6}\\right) - \\frac{113}{72}\\right) + \\frac{22}{3}\\right) - \\frac{2545}{144}\\right) + \\frac{41}{2}\\right) - \\frac{35}{4}\\right) + z \\left(r \\left(r \\left(r \\left(r \\left(r \\left(r \\left(\\frac{r}{240} - \\frac{23}{240}\\right) + \\frac{69}{80}\\right) - \\frac{185}{48}\\right) + \\frac{134}{15}\\right) - \\frac{201}{20}\\right) + \\frac{21}{5}\\right) + z \\left(r z \\left(r \\left(r \\left(r \\left(r \\left(r \\left(\\frac{r}{5040} - \\frac{1}{240}\\right) + \\frac{5}{144}\\right) - \\frac{7}{48}\\right) + \\frac{29}{90}\\right) - \\frac{7}{20}\\right) + \\frac{1}{7}\\right) + r \\left(r \\left(r \\left(r \\left(r \\left(r \\left(- \\frac{r}{720} + \\frac{11}{360}\\right) - \\frac{19}{72}\\right) + \\frac{41}{36}\\right) - \\frac{1849}{720}\\right) + \\frac{1019}{360}\\right) - \\frac{7}{6}\\right)\\right)\\right)\\right)\\right)\\right)\\right) + 1$$"
      ],
      "text/plain": [
       "  ⎛  ⎛  ⎛  ⎛  ⎛  ⎛   r      1 ⎞    23⎞   7 ⎞   967⎞   469⎞   363⎞     ⎛  ⎛  ⎛ \n",
       "r⋅⎜r⋅⎜r⋅⎜r⋅⎜r⋅⎜r⋅⎜- ──── + ───⎟ - ───⎟ + ──⎟ - ───⎟ + ───⎟ - ───⎟ + z⋅⎜r⋅⎜r⋅⎜r\n",
       "  ⎝  ⎝  ⎝  ⎝  ⎝  ⎝  5040   180⎠   360⎠   18⎠   720⎠   180⎠   140⎠     ⎝  ⎝  ⎝ \n",
       "\n",
       " ⎛  ⎛  ⎛  ⎛ r    3 ⎞    59⎞   37⎞   319⎞   223⎞    ⎞     ⎛  ⎛  ⎛  ⎛  ⎛  ⎛  ⎛  \n",
       "⋅⎜r⋅⎜r⋅⎜r⋅⎜─── - ──⎟ + ───⎟ - ──⎟ + ───⎟ - ───⎟ + 7⎟ + z⋅⎜r⋅⎜r⋅⎜r⋅⎜r⋅⎜r⋅⎜r⋅⎜- \n",
       " ⎝  ⎝  ⎝  ⎝720   80⎠   144⎠   16⎠    45⎠    20⎠    ⎠     ⎝  ⎝  ⎝  ⎝  ⎝  ⎝  ⎝  \n",
       "\n",
       " r     13⎞   9⎞   71⎞   3929⎞   879⎞   21⎞     ⎛  ⎛  ⎛  ⎛  ⎛  ⎛  ⎛ r     25⎞  \n",
       "─── + ───⎟ - ─⎟ + ──⎟ - ────⎟ + ───⎟ - ──⎟ + z⋅⎜r⋅⎜r⋅⎜r⋅⎜r⋅⎜r⋅⎜r⋅⎜─── - ───⎟ +\n",
       "240   120⎠   8⎠   12⎠   240 ⎠    40⎠   2 ⎠     ⎝  ⎝  ⎝  ⎝  ⎝  ⎝  ⎝144   144⎠  \n",
       "\n",
       " 247⎞   1219⎞   389⎞   949⎞   35⎞     ⎛  ⎛  ⎛  ⎛  ⎛  ⎛  ⎛   r    1⎞   113⎞   2\n",
       " ───⎟ - ────⎟ + ───⎟ - ───⎟ + ──⎟ + z⋅⎜r⋅⎜r⋅⎜r⋅⎜r⋅⎜r⋅⎜r⋅⎜- ─── + ─⎟ - ───⎟ + ─\n",
       " 144⎠   144 ⎠    18⎠    36⎠   3 ⎠     ⎝  ⎝  ⎝  ⎝  ⎝  ⎝  ⎝  144   6⎠    72⎠   3\n",
       "\n",
       "2⎞   2545⎞   41⎞   35⎞     ⎛  ⎛  ⎛  ⎛  ⎛  ⎛  ⎛ r     23⎞   69⎞   185⎞   134⎞  \n",
       "─⎟ - ────⎟ + ──⎟ - ──⎟ + z⋅⎜r⋅⎜r⋅⎜r⋅⎜r⋅⎜r⋅⎜r⋅⎜─── - ───⎟ + ──⎟ - ───⎟ + ───⎟ -\n",
       " ⎠   144 ⎠   2 ⎠   4 ⎠     ⎝  ⎝  ⎝  ⎝  ⎝  ⎝  ⎝240   240⎠   80⎠    48⎠    15⎠  \n",
       "\n",
       " 201⎞   21⎞     ⎛    ⎛  ⎛  ⎛  ⎛  ⎛  ⎛ r      1 ⎞    5 ⎞   7 ⎞   29⎞   7 ⎞   1⎞\n",
       " ───⎟ + ──⎟ + z⋅⎜r⋅z⋅⎜r⋅⎜r⋅⎜r⋅⎜r⋅⎜r⋅⎜──── - ───⎟ + ───⎟ - ──⎟ + ──⎟ - ──⎟ + ─⎟\n",
       "  20⎠   5 ⎠     ⎝    ⎝  ⎝  ⎝  ⎝  ⎝  ⎝5040   240⎠   144⎠   48⎠   90⎠   20⎠   7⎠\n",
       "\n",
       "     ⎛  ⎛  ⎛  ⎛  ⎛  ⎛   r     11⎞   19⎞   41⎞   1849⎞   1019⎞   7⎞⎞⎞⎞⎞⎞⎞    \n",
       " + r⋅⎜r⋅⎜r⋅⎜r⋅⎜r⋅⎜r⋅⎜- ─── + ───⎟ - ──⎟ + ──⎟ - ────⎟ + ────⎟ - ─⎟⎟⎟⎟⎟⎟⎟ + 1\n",
       "     ⎝  ⎝  ⎝  ⎝  ⎝  ⎝  720   360⎠   72⎠   36⎠   720 ⎠   360 ⎠   6⎠⎠⎠⎠⎠⎠⎠    "
      ]
     },
     "execution_count": 118,
     "metadata": {},
     "output_type": "execute_result"
    }
   ],
   "source": [
    "horner(g_power.rhs, wrt=z)"
   ]
  },
  {
   "cell_type": "markdown",
   "metadata": {
    "deletable": true,
    "editable": true
   },
   "source": [
    "# `sqrt` function"
   ]
  },
  {
   "cell_type": "code",
   "execution_count": 39,
   "metadata": {
    "collapsed": false,
    "deletable": true,
    "editable": true
   },
   "outputs": [
    {
     "data": {
      "image/png": "[encoded data removed]",
      "text/latex": [
       "$$f{\\left (z \\right )} = \\sqrt{z}$$"
      ],
      "text/plain": [
       "f(z) = √z"
      ]
     },
     "execution_count": 39,
     "metadata": {},
     "output_type": "execute_result"
    }
   ],
   "source": [
    "f = Function('f')\n",
    "f_sqrt = define(let=f(z), be=sqrt(z))\n",
    "f_sqrt"
   ]
  },
  {
   "cell_type": "code",
   "execution_count": 40,
   "metadata": {
    "collapsed": true,
    "deletable": true,
    "editable": true
   },
   "outputs": [],
   "source": [
    "order = 10"
   ]
  },
  {
   "cell_type": "code",
   "execution_count": 50,
   "metadata": {
    "collapsed": false,
    "deletable": true,
    "editable": true
   },
   "outputs": [
    {
     "data": {
      "image/png": "[encoded data removed]",
      "text/latex": [
       "$$\\left [ \\sqrt{z}, \\quad \\frac{1}{2 \\sqrt{z}}, \\quad - \\frac{1}{4 z^{\\frac{3}{2}}}, \\quad \\frac{3}{8 z^{\\frac{5}{2}}}, \\quad - \\frac{15}{16 z^{\\frac{7}{2}}}, \\quad \\frac{105}{32 z^{\\frac{9}{2}}}, \\quad - \\frac{945}{64 z^{\\frac{11}{2}}}, \\quad \\frac{10395}{128 z^{\\frac{13}{2}}}, \\quad - \\frac{135135}{256 z^{\\frac{15}{2}}}, \\quad \\frac{2027025}{512 z^{\\frac{17}{2}}}\\right ]$$"
      ],
      "text/plain": [
       "⎡     1     -1       3       -15      105     -945       10395     -135135    \n",
       "⎢√z, ────, ──────, ──────, ───────, ───────, ────────, ─────────, ─────────, ─\n",
       "⎢    2⋅√z     3/2     5/2      7/2      9/2      11/2       13/2       15/2   \n",
       "⎣          4⋅z     8⋅z     16⋅z     32⋅z     64⋅z      128⋅z      256⋅z      5\n",
       "\n",
       "2027025 ⎤\n",
       "────────⎥\n",
       "    17/2⎥\n",
       "12⋅z    ⎦"
      ]
     },
     "execution_count": 50,
     "metadata": {},
     "output_type": "execute_result"
    }
   ],
   "source": [
    "[f_sqrt.rhs.diff(z, j) for j in range(order)]"
   ]
  },
  {
   "cell_type": "code",
   "execution_count": 51,
   "metadata": {
    "collapsed": false,
    "deletable": true,
    "editable": true
   },
   "outputs": [
    {
     "data": {
      "image/png": "[encoded data removed]",
      "text/latex": [
       "$$\\left [ \\frac{1}{2 \\sqrt{z}}, \\quad - \\frac{1}{4 z^{\\frac{3}{2}}}, \\quad \\frac{3}{8 z^{\\frac{5}{2}}}, \\quad - \\frac{15}{16 z^{\\frac{7}{2}}}, \\quad \\frac{105}{32 z^{\\frac{9}{2}}}, \\quad - \\frac{945}{64 z^{\\frac{11}{2}}}, \\quad \\frac{10395}{128 z^{\\frac{13}{2}}}, \\quad - \\frac{135135}{256 z^{\\frac{15}{2}}}, \\quad \\frac{2027025}{512 z^{\\frac{17}{2}}}\\right ]$$"
      ],
      "text/plain": [
       "⎡ 1     -1       3       -15      105     -945       10395     -135135    2027\n",
       "⎢────, ──────, ──────, ───────, ───────, ────────, ─────────, ─────────, ─────\n",
       "⎢2⋅√z     3/2     5/2      7/2      9/2      11/2       13/2       15/2       \n",
       "⎣      4⋅z     8⋅z     16⋅z     32⋅z     64⋅z      128⋅z      256⋅z      512⋅z\n",
       "\n",
       "025 ⎤\n",
       "────⎥\n",
       "17/2⎥\n",
       "    ⎦"
      ]
     },
     "execution_count": 51,
     "metadata": {},
     "output_type": "execute_result"
    }
   ],
   "source": [
    "[(-1)**n*factorial(2*(n))/(factorial(n)*2**n)/(2**(n+1)*z**((2*n+1)/S(2))) for n in range(order-1)]"
   ]
  },
  {
   "cell_type": "code",
   "execution_count": 52,
   "metadata": {
    "collapsed": false,
    "deletable": true,
    "editable": true
   },
   "outputs": [
    {
     "data": {
      "image/png": "[encoded data removed]",
      "text/latex": [
       "$$\\left [ \\frac{1}{2 \\sqrt{z}}, \\quad - \\frac{1}{4 z^{\\frac{3}{2}}}, \\quad \\frac{3}{8 z^{\\frac{5}{2}}}, \\quad - \\frac{15}{16 z^{\\frac{7}{2}}}, \\quad \\frac{105}{32 z^{\\frac{9}{2}}}, \\quad - \\frac{945}{64 z^{\\frac{11}{2}}}, \\quad \\frac{10395}{128 z^{\\frac{13}{2}}}, \\quad - \\frac{135135}{256 z^{\\frac{15}{2}}}, \\quad \\frac{2027025}{512 z^{\\frac{17}{2}}}\\right ]$$"
      ],
      "text/plain": [
       "⎡ 1     -1       3       -15      105     -945       10395     -135135    2027\n",
       "⎢────, ──────, ──────, ───────, ───────, ────────, ─────────, ─────────, ─────\n",
       "⎢2⋅√z     3/2     5/2      7/2      9/2      11/2       13/2       15/2       \n",
       "⎣      4⋅z     8⋅z     16⋅z     32⋅z     64⋅z      128⋅z      256⋅z      512⋅z\n",
       "\n",
       "025 ⎤\n",
       "────⎥\n",
       "17/2⎥\n",
       "    ⎦"
      ]
     },
     "execution_count": 52,
     "metadata": {},
     "output_type": "execute_result"
    }
   ],
   "source": [
    "[(-1)**n*factorial(2*(n))/(factorial(n)*4**n)/(2*z**((2*n+1)/S(2))) for n in range(order-1)]"
   ]
  },
  {
   "cell_type": "code",
   "execution_count": 53,
   "metadata": {
    "collapsed": false,
    "deletable": true,
    "editable": true
   },
   "outputs": [
    {
     "data": {
      "image/png": "[encoded data removed]",
      "text/latex": [
       "$$\\left [ \\frac{1}{2 \\sqrt{z}}, \\quad - \\frac{1}{4 z^{\\frac{3}{2}}}, \\quad \\frac{3}{8 z^{\\frac{5}{2}}}, \\quad - \\frac{15}{16 z^{\\frac{7}{2}}}, \\quad \\frac{105}{32 z^{\\frac{9}{2}}}, \\quad - \\frac{945}{64 z^{\\frac{11}{2}}}, \\quad \\frac{10395}{128 z^{\\frac{13}{2}}}, \\quad - \\frac{135135}{256 z^{\\frac{15}{2}}}, \\quad \\frac{2027025}{512 z^{\\frac{17}{2}}}\\right ]$$"
      ],
      "text/plain": [
       "⎡ 1     -1       3       -15      105     -945       10395     -135135    2027\n",
       "⎢────, ──────, ──────, ───────, ───────, ────────, ─────────, ─────────, ─────\n",
       "⎢2⋅√z     3/2     5/2      7/2      9/2      11/2       13/2       15/2       \n",
       "⎣      4⋅z     8⋅z     16⋅z     32⋅z     64⋅z      128⋅z      256⋅z      512⋅z\n",
       "\n",
       "025 ⎤\n",
       "────⎥\n",
       "17/2⎥\n",
       "    ⎦"
      ]
     },
     "execution_count": 53,
     "metadata": {},
     "output_type": "execute_result"
    }
   ],
   "source": [
    "[(-1)**n*binomial(2*n, n)*factorial(n)/(2*4**n)/(z**((2*n+1)/S(2))) for n in range(order-1)]"
   ]
  },
  {
   "cell_type": "code",
   "execution_count": 41,
   "metadata": {
    "collapsed": false,
    "deletable": true,
    "editable": true
   },
   "outputs": [
    {
     "data": {
      "image/png": "[encoded data removed]",
      "text/latex": [
       "$$g{\\left (z \\right )} = \\frac{33 z^{7}}{2048 \\lambda_{1}^{\\frac{13}{2}}} + z^{6} \\left(- \\frac{21}{1024 \\lambda_{1}^{\\frac{11}{2}}} - \\frac{231}{2048 \\lambda_{1}^{\\frac{13}{2}}}\\right) + z^{5} \\left(\\frac{7}{256 \\lambda_{1}^{\\frac{9}{2}}} + \\frac{63}{512 \\lambda_{1}^{\\frac{11}{2}}} + \\frac{693}{2048 \\lambda_{1}^{\\frac{13}{2}}}\\right) + z^{4} \\left(- \\frac{5}{128 \\lambda_{1}^{\\frac{7}{2}}} - \\frac{35}{256 \\lambda_{1}^{\\frac{9}{2}}} - \\frac{315}{1024 \\lambda_{1}^{\\frac{11}{2}}} - \\frac{1155}{2048 \\lambda_{1}^{\\frac{13}{2}}}\\right) + z^{3} \\left(\\frac{1}{16 \\lambda_{1}^{\\frac{5}{2}}} + \\frac{5}{32 \\lambda_{1}^{\\frac{7}{2}}} + \\frac{35}{128 \\lambda_{1}^{\\frac{9}{2}}} + \\frac{105}{256 \\lambda_{1}^{\\frac{11}{2}}} + \\frac{1155}{2048 \\lambda_{1}^{\\frac{13}{2}}}\\right) + z^{2} \\left(- \\frac{1}{8 \\lambda_{1}^{\\frac{3}{2}}} - \\frac{3}{16 \\lambda_{1}^{\\frac{5}{2}}} - \\frac{15}{64 \\lambda_{1}^{\\frac{7}{2}}} - \\frac{35}{128 \\lambda_{1}^{\\frac{9}{2}}} - \\frac{315}{1024 \\lambda_{1}^{\\frac{11}{2}}} - \\frac{693}{2048 \\lambda_{1}^{\\frac{13}{2}}}\\right) + z \\left(\\frac{1}{2 \\sqrt{\\lambda_{1}}} + \\frac{1}{4 \\lambda_{1}^{\\frac{3}{2}}} + \\frac{3}{16 \\lambda_{1}^{\\frac{5}{2}}} + \\frac{5}{32 \\lambda_{1}^{\\frac{7}{2}}} + \\frac{35}{256 \\lambda_{1}^{\\frac{9}{2}}} + \\frac{63}{512 \\lambda_{1}^{\\frac{11}{2}}} + \\frac{231}{2048 \\lambda_{1}^{\\frac{13}{2}}}\\right) + \\sqrt{\\lambda_{1}} - \\frac{1}{2 \\sqrt{\\lambda_{1}}} - \\frac{1}{8 \\lambda_{1}^{\\frac{3}{2}}} - \\frac{1}{16 \\lambda_{1}^{\\frac{5}{2}}} - \\frac{5}{128 \\lambda_{1}^{\\frac{7}{2}}} - \\frac{7}{256 \\lambda_{1}^{\\frac{9}{2}}} - \\frac{21}{1024 \\lambda_{1}^{\\frac{11}{2}}} - \\frac{33}{2048 \\lambda_{1}^{\\frac{13}{2}}}$$"
      ],
      "text/plain": [
       "                  7                                                           \n",
       "              33⋅z            6 ⎛           21                   231        ⎞ \n",
       "g(z) = ─────────────────── + z ⋅⎜- ─────────────────── - ───────────────────⎟ \n",
       "                      13/2      ⎜                 11/2                  13/2⎟ \n",
       "       2048⋅\\lambda[1]          ⎝  1024⋅\\lambda[1]       2048⋅\\lambda[1]    ⎠ \n",
       "\n",
       "                                                                              \n",
       "   5 ⎛        7                   63                   693        ⎞    4 ⎛    \n",
       "+ z ⋅⎜───────────────── + ────────────────── + ───────────────────⎟ + z ⋅⎜- ──\n",
       "     ⎜              9/2                 11/2                  13/2⎟      ⎜    \n",
       "     ⎝256⋅\\lambda[1]      512⋅\\lambda[1]       2048⋅\\lambda[1]    ⎠      ⎝  12\n",
       "\n",
       "                                                                              \n",
       "      5                   35                  315                   1155      \n",
       "─────────────── - ───────────────── - ─────────────────── - ──────────────────\n",
       "            7/2                 9/2                  11/2                  13/\n",
       "8⋅\\lambda[1]      256⋅\\lambda[1]      1024⋅\\lambda[1]       2048⋅\\lambda[1]   \n",
       "\n",
       "                                                                              \n",
       " ⎞    3 ⎛       1                  5                   35                 105 \n",
       "─⎟ + z ⋅⎜──────────────── + ──────────────── + ───────────────── + ───────────\n",
       "2⎟      ⎜             5/2                7/2                 9/2              \n",
       " ⎠      ⎝16⋅\\lambda[1]      32⋅\\lambda[1]      128⋅\\lambda[1]      256⋅\\lambda\n",
       "\n",
       "                                                                              \n",
       "                  1155       ⎞    2 ⎛         1                 3             \n",
       "─────── + ───────────────────⎟ + z ⋅⎜- ─────────────── - ──────────────── - ──\n",
       "   11/2                  13/2⎟      ⎜              3/2                5/2     \n",
       "[1]       2048⋅\\lambda[1]    ⎠      ⎝  8⋅\\lambda[1]      16⋅\\lambda[1]      64\n",
       "\n",
       "                                                                              \n",
       "     15                  35                  315                   693        \n",
       "────────────── - ───────────────── - ─────────────────── - ───────────────────\n",
       "           7/2                 9/2                  11/2                  13/2\n",
       "⋅\\lambda[1]      128⋅\\lambda[1]      1024⋅\\lambda[1]       2048⋅\\lambda[1]    \n",
       "\n",
       "                                                                              \n",
       "⎞     ⎛       1                  1                 3                  5       \n",
       "⎟ + z⋅⎜──────────────── + ─────────────── + ──────────────── + ───────────────\n",
       "⎟     ⎜    ____________               3/2                5/2                7/\n",
       "⎠     ⎝2⋅╲╱ \\lambda[1]    4⋅\\lambda[1]      16⋅\\lambda[1]      32⋅\\lambda[1]  \n",
       "\n",
       "                                                                              \n",
       "            35                  63                   231        ⎞     ________\n",
       "─ + ───────────────── + ────────────────── + ───────────────────⎟ + ╲╱ \\lambda\n",
       "2                 9/2                 11/2                  13/2⎟             \n",
       "    256⋅\\lambda[1]      512⋅\\lambda[1]       2048⋅\\lambda[1]    ⎠             \n",
       "\n",
       "                                                                              \n",
       "____          1                  1                 1                   5      \n",
       "[1]  - ──────────────── - ─────────────── - ──────────────── - ───────────────\n",
       "           ____________               3/2                5/2                 7\n",
       "       2⋅╲╱ \\lambda[1]    8⋅\\lambda[1]      16⋅\\lambda[1]      128⋅\\lambda[1] \n",
       "\n",
       "                                                                  \n",
       "             7                    21                    33        \n",
       "── - ───────────────── - ─────────────────── - ───────────────────\n",
       "/2                 9/2                  11/2                  13/2\n",
       "     256⋅\\lambda[1]      1024⋅\\lambda[1]       2048⋅\\lambda[1]    "
      ]
     },
     "execution_count": 41,
     "metadata": {},
     "output_type": "execute_result"
    }
   ],
   "source": [
    "g_sqrt = g_poly(f_sqrt, eigendata, Phi_polynomials)\n",
    "g_sqrt"
   ]
  },
  {
   "cell_type": "code",
   "execution_count": 42,
   "metadata": {
    "collapsed": false,
    "deletable": true,
    "editable": true
   },
   "outputs": [
    {
     "data": {
      "image/png": "[encoded data removed]",
      "text/latex": [
       "$$g{\\left (z \\right )} = \\frac{33 z^{7}}{2048} - \\frac{273 z^{6}}{2048} + \\frac{1001 z^{5}}{2048} - \\frac{2145 z^{4}}{2048} + \\frac{3003 z^{3}}{2048} - \\frac{3003 z^{2}}{2048} + \\frac{3003 z}{2048} + \\frac{429}{2048}$$"
      ],
      "text/plain": [
       "           7        6         5         4         3         2                \n",
       "       33⋅z    273⋅z    1001⋅z    2145⋅z    3003⋅z    3003⋅z    3003⋅z   429 \n",
       "g(z) = ───── - ────── + ─────── - ─────── + ─────── - ─────── + ────── + ────\n",
       "        2048    2048      2048      2048      2048      2048     2048    2048"
      ]
     },
     "execution_count": 42,
     "metadata": {},
     "output_type": "execute_result"
    }
   ],
   "source": [
    "g_sqrt = g_sqrt.subs(eigenvals)\n",
    "g_sqrt"
   ]
  },
  {
   "cell_type": "markdown",
   "metadata": {
    "deletable": true,
    "editable": true
   },
   "source": [
    "Checking *Equation 7*"
   ]
  },
  {
   "cell_type": "code",
   "execution_count": 43,
   "metadata": {
    "collapsed": false,
    "deletable": true,
    "editable": true
   },
   "outputs": [
    {
     "data": {
      "image/png": "[encoded data removed]",
      "text/latex": [
       "$$g{\\left (z \\right )} = \\frac{33 z^{7}}{2048} - \\frac{273 z^{6}}{2048} + \\frac{1001 z^{5}}{2048} - \\frac{2145 z^{4}}{2048} + \\frac{3003 z^{3}}{2048} - \\frac{3003 z^{2}}{2048} + \\frac{3003 z}{2048} + \\frac{429}{2048}$$"
      ],
      "text/plain": [
       "           7        6         5         4         3         2                \n",
       "       33⋅z    273⋅z    1001⋅z    2145⋅z    3003⋅z    3003⋅z    3003⋅z   429 \n",
       "g(z) = ───── - ────── + ─────── - ─────── + ─────── - ─────── + ────── + ────\n",
       "        2048    2048      2048      2048      2048      2048     2048    2048"
      ]
     },
     "execution_count": 43,
     "metadata": {},
     "output_type": "execute_result"
    }
   ],
   "source": [
    "gg = define(Function('g')(z), 1 - sum(S(1)/(j*4**(j-1))*binomial(2*(j-1), j-1)*binomial(j, k)*(-z)**(k)\n",
    "                                      for j in range(1, m) for k in range(j+1))/2) \n",
    "      \n",
    "gg"
   ]
  },
  {
   "cell_type": "code",
   "execution_count": 44,
   "metadata": {
    "collapsed": false,
    "deletable": true,
    "editable": true
   },
   "outputs": [
    {
     "data": {
      "image/png": "[encoded data removed]",
      "text/latex": [
       "$$\\mathrm{True}$$"
      ],
      "text/plain": [
       "True"
      ]
     },
     "execution_count": 44,
     "metadata": {},
     "output_type": "execute_result"
    }
   ],
   "source": [
    "Eq(g_sqrt.rhs, gg.rhs)"
   ]
  },
  {
   "cell_type": "markdown",
   "metadata": {
    "deletable": true,
    "editable": true
   },
   "source": [
    "Checking *Equation 8*"
   ]
  },
  {
   "cell_type": "code",
   "execution_count": 45,
   "metadata": {
    "collapsed": false,
    "deletable": true,
    "editable": true
   },
   "outputs": [
    {
     "data": {
      "image/png": "[encoded data removed]",
      "text/latex": [
       "$$g{\\left (z \\right )} = \\frac{33 z^{7}}{2048} - \\frac{273 z^{6}}{2048} + \\frac{1001 z^{5}}{2048} - \\frac{2145 z^{4}}{2048} + \\frac{3003 z^{3}}{2048} - \\frac{3003 z^{2}}{2048} + \\frac{3003 z}{2048} + \\frac{429}{2048}$$"
      ],
      "text/plain": [
       "           7        6         5         4         3         2                \n",
       "       33⋅z    273⋅z    1001⋅z    2145⋅z    3003⋅z    3003⋅z    3003⋅z   429 \n",
       "g(z) = ───── - ────── + ─────── - ─────── + ─────── - ─────── + ────── + ────\n",
       "        2048    2048      2048      2048      2048      2048     2048    2048"
      ]
     },
     "execution_count": 45,
     "metadata": {},
     "output_type": "execute_result"
    }
   ],
   "source": [
    "ggg = define(Function('g')(z), \n",
    "             1 \n",
    "             -sum(S(1)/(j*4**(j-1))*binomial(2*(j-1), j-1)*binomial(j, k)*(-z)**(k) \n",
    "                  for k in range(1,m)\n",
    "                  for j in range(k, m))/2 \n",
    "             -sum(S(1)/(j*4**(j-1))*binomial(2*(j-1), j-1) for j in range(1,m))/2)\n",
    "ggg"
   ]
  },
  {
   "cell_type": "code",
   "execution_count": 46,
   "metadata": {
    "collapsed": false,
    "deletable": true,
    "editable": true
   },
   "outputs": [
    {
     "data": {
      "image/png": "[encoded data removed]",
      "text/latex": [
       "$$\\mathrm{True}$$"
      ],
      "text/plain": [
       "True"
      ]
     },
     "execution_count": 46,
     "metadata": {},
     "output_type": "execute_result"
    }
   ],
   "source": [
    "Eq(g_sqrt.rhs, ggg.rhs)"
   ]
  },
  {
   "cell_type": "markdown",
   "metadata": {
    "deletable": true,
    "editable": true
   },
   "source": [
    "Checking *Equation 9*"
   ]
  },
  {
   "cell_type": "code",
   "execution_count": 47,
   "metadata": {
    "collapsed": false,
    "deletable": true,
    "editable": true
   },
   "outputs": [
    {
     "data": {
      "image/png": "[encoded data removed]",
      "text/latex": [
       "$$g{\\left (z \\right )} = \\frac{33 z^{7}}{2048} - \\frac{273 z^{6}}{2048} + \\frac{1001 z^{5}}{2048} - \\frac{2145 z^{4}}{2048} + \\frac{3003 z^{3}}{2048} - \\frac{3003 z^{2}}{2048} + \\frac{3003 z}{2048} + \\frac{429}{2048}$$"
      ],
      "text/plain": [
       "           7        6         5         4         3         2                \n",
       "       33⋅z    273⋅z    1001⋅z    2145⋅z    3003⋅z    3003⋅z    3003⋅z   429 \n",
       "g(z) = ───── - ────── + ─────── - ─────── + ─────── - ─────── + ────── + ────\n",
       "        2048    2048      2048      2048      2048      2048     2048    2048"
      ]
     },
     "execution_count": 47,
     "metadata": {},
     "output_type": "execute_result"
    }
   ],
   "source": [
    "gggg = define(Function('g')(z), 1\n",
    "       - sum(S(1)/(j*4**(j-1))*binomial(2*(j-1), j-1)*binomial(j, k)*(-z)**(k) \n",
    "           for k in range(m)\n",
    "           for j in range(k+KroneckerDelta(k,0), m))/2)\n",
    "gggg"
   ]
  },
  {
   "cell_type": "code",
   "execution_count": 48,
   "metadata": {
    "collapsed": false,
    "deletable": true,
    "editable": true
   },
   "outputs": [
    {
     "data": {
      "image/png": "[encoded data removed]",
      "text/latex": [
       "$$\\mathrm{True}$$"
      ],
      "text/plain": [
       "True"
      ]
     },
     "execution_count": 48,
     "metadata": {},
     "output_type": "execute_result"
    }
   ],
   "source": [
    "Eq(g_sqrt.rhs, gggg.rhs)"
   ]
  },
  {
   "cell_type": "markdown",
   "metadata": {
    "deletable": true,
    "editable": true
   },
   "source": [
    "Checking *Equation 10*"
   ]
  },
  {
   "cell_type": "code",
   "execution_count": 71,
   "metadata": {
    "collapsed": false,
    "deletable": true,
    "editable": true
   },
   "outputs": [
    {
     "data": {
      "image/png": "[encoded data removed]",
      "text/latex": [
       "$$g{\\left (z \\right )} = \\frac{z^{7}}{10279526400} - \\frac{7 z^{6}}{8698060800} + \\frac{7 z^{5}}{2372198400} - \\frac{z^{4}}{158146560} + \\frac{7 z^{3}}{790732800} - \\frac{7 z^{2}}{790732800} + \\frac{7 z}{790732800} + \\frac{1}{790732800}$$"
      ],
      "text/plain": [
       "             7             6            5           4            3           2\n",
       "            z           7⋅z          7⋅z           z          7⋅z         7⋅z \n",
       "g(z) = ─────────── - ────────── + ────────── - ───────── + ───────── - ───────\n",
       "       10279526400   8698060800   2372198400   158146560   790732800   7907328\n",
       "\n",
       "                          \n",
       "        7⋅z          1    \n",
       "── + ───────── + ─────────\n",
       "00   790732800   790732800"
      ]
     },
     "execution_count": 71,
     "metadata": {},
     "output_type": "execute_result"
    }
   ],
   "source": [
    "ggggg = define(Function('g')(z), S(2)/(4**m*(2*m-1)*binomial(2*m, m))*\n",
    "              sum(S(k-m)/(2*k-1)*binomial(m, k)*(-z)**(k) for k in range(1,m))\n",
    "              + S(2)*m/(4**m*(2*m-1)*binomial(2*m, m)))\n",
    "ggggg"
   ]
  },
  {
   "cell_type": "code",
   "execution_count": 69,
   "metadata": {
    "collapsed": false,
    "deletable": true,
    "editable": true
   },
   "outputs": [
    {
     "data": {
      "image/png": "[encoded data removed]",
      "text/latex": [
       "$$\\mathrm{True}$$"
      ],
      "text/plain": [
       "True"
      ]
     },
     "execution_count": 69,
     "metadata": {},
     "output_type": "execute_result"
    }
   ],
   "source": [
    "Eq(g_sqrt.rhs, gggg.rhs)"
   ]
  },
  {
   "cell_type": "markdown",
   "metadata": {
    "deletable": true,
    "editable": true
   },
   "source": [
    "# `expt` function"
   ]
  },
  {
   "cell_type": "code",
   "execution_count": 9,
   "metadata": {
    "collapsed": false,
    "deletable": true,
    "editable": true
   },
   "outputs": [
    {
     "data": {
      "image/png": "[encoded data removed]",
      "text/latex": [
       "$$f{\\left (z \\right )} = e^{\\alpha z}$$"
      ],
      "text/plain": [
       "        α⋅z\n",
       "f(z) = ℯ   "
      ]
     },
     "execution_count": 9,
     "metadata": {},
     "output_type": "execute_result"
    }
   ],
   "source": [
    "f = Function('f')\n",
    "f_expt = define(let=f(z), be=exp(alpha*z))\n",
    "f_expt"
   ]
  },
  {
   "cell_type": "code",
   "execution_count": 10,
   "metadata": {
    "collapsed": false,
    "deletable": true,
    "editable": true
   },
   "outputs": [
    {
     "data": {
      "image/png": "[encoded data removed]",
      "text/latex": [
       "$$\\left [ e^{\\alpha z}, \\quad \\alpha e^{\\alpha z}, \\quad \\alpha^{2} e^{\\alpha z}, \\quad \\alpha^{3} e^{\\alpha z}, \\quad \\alpha^{4} e^{\\alpha z}, \\quad \\alpha^{5} e^{\\alpha z}, \\quad \\alpha^{6} e^{\\alpha z}, \\quad \\alpha^{7} e^{\\alpha z}, \\quad \\alpha^{8} e^{\\alpha z}, \\quad \\alpha^{9} e^{\\alpha z}, \\quad \\alpha^{10} e^{\\alpha z}\\right ]$$"
      ],
      "text/plain": [
       "⎡ α⋅z     α⋅z   2  α⋅z   3  α⋅z   4  α⋅z   5  α⋅z   6  α⋅z   7  α⋅z   8  α⋅z  \n",
       "⎣ℯ   , α⋅ℯ   , α ⋅ℯ   , α ⋅ℯ   , α ⋅ℯ   , α ⋅ℯ   , α ⋅ℯ   , α ⋅ℯ   , α ⋅ℯ   , \n",
       "\n",
       " 9  α⋅z   10  α⋅z⎤\n",
       "α ⋅ℯ   , α  ⋅ℯ   ⎦"
      ]
     },
     "execution_count": 10,
     "metadata": {},
     "output_type": "execute_result"
    }
   ],
   "source": [
    "[f_expt.rhs.diff(z, i) for i in range(11)]"
   ]
  },
  {
   "cell_type": "code",
   "execution_count": 11,
   "metadata": {
    "collapsed": false,
    "deletable": true,
    "editable": true
   },
   "outputs": [
    {
     "data": {
      "image/png": "[encoded data removed]",
      "text/latex": [
       "$$\\left(- \\alpha\\right)^{j - 1}$$"
      ],
      "text/plain": [
       "    j - 1\n",
       "(-α)     "
      ]
     },
     "execution_count": 11,
     "metadata": {},
     "output_type": "execute_result"
    }
   ],
   "source": [
    "powdenest((-1)**(j-1)*alpha**(j-1), force=True)"
   ]
  },
  {
   "cell_type": "code",
   "execution_count": 12,
   "metadata": {
    "collapsed": false,
    "deletable": true,
    "editable": true
   },
   "outputs": [
    {
     "data": {
      "image/png": "[encoded data removed]",
      "text/latex": [
       "$$\\sum_{j=k}^{z - 1} \\frac{\\left(- \\alpha\\right)^{j}}{j!} {\\binom{j}{k}}$$"
      ],
      "text/plain": [
       "z - 1          \n",
       "_____          \n",
       "╲              \n",
       " ╲        j ⎛j⎞\n",
       "  ╲   (-α) ⋅⎜ ⎟\n",
       "   ╲        ⎝k⎠\n",
       "   ╱  ─────────\n",
       "  ╱       j!   \n",
       " ╱             \n",
       "╱              \n",
       "‾‾‾‾‾          \n",
       "j = k          "
      ]
     },
     "execution_count": 12,
     "metadata": {},
     "output_type": "execute_result"
    }
   ],
   "source": [
    "ss = Sum((-alpha)**j*binomial(j, k)/factorial(j), (j, k, z-1))\n",
    "ss"
   ]
  },
  {
   "cell_type": "code",
   "execution_count": 13,
   "metadata": {
    "collapsed": false,
    "deletable": true,
    "editable": true
   },
   "outputs": [
    {
     "data": {
      "image/png": "[encoded data removed]",
      "text/latex": [
       "$$\\frac{\\left(-1\\right)^{k}}{e k!} + \\frac{\\left(-1\\right)^{z} {\\binom{z}{k}}}{e z!} \\left(k - z\\right) e^{i \\pi \\left(k - z\\right)} \\gamma\\left(- k + z, e^{i \\pi}\\right)$$"
      ],
      "text/plain": [
       "                z          -1  ⅈ⋅π⋅(k - z) ⎛z⎞  ⎛         ⅈ⋅π⎞\n",
       "    k  -1   (-1) ⋅(k - z)⋅ℯ  ⋅ℯ           ⋅⎜ ⎟⋅γ⎝-k + z, ℯ   ⎠\n",
       "(-1) ⋅ℯ                                    ⎝k⎠                \n",
       "───────── + ──────────────────────────────────────────────────\n",
       "    k!                              z!                        "
      ]
     },
     "execution_count": 13,
     "metadata": {},
     "output_type": "execute_result"
    }
   ],
   "source": [
    "ss.doit().simplify().subs({alpha:1})"
   ]
  },
  {
   "cell_type": "markdown",
   "metadata": {
    "deletable": true,
    "editable": true
   },
   "source": [
    "checking *Equation 11*:"
   ]
  },
  {
   "cell_type": "code",
   "execution_count": 35,
   "metadata": {
    "collapsed": false,
    "deletable": true,
    "editable": true
   },
   "outputs": [
    {
     "data": {
      "image/png": "[encoded data removed]",
      "text/latex": [
       "$$\\frac{\\left(- \\alpha\\right)^{k}}{k!} e^{- \\alpha}$$"
      ],
      "text/plain": [
       "    k  -α\n",
       "(-α) ⋅ℯ  \n",
       "─────────\n",
       "    k!   "
      ]
     },
     "execution_count": 35,
     "metadata": {},
     "output_type": "execute_result"
    }
   ],
   "source": [
    "ss.subs({z-1:oo}).doit()"
   ]
  },
  {
   "cell_type": "markdown",
   "metadata": {
    "deletable": true,
    "editable": true
   },
   "source": [
    "which is the expansion of $e^{\\alpha}$ as required."
   ]
  },
  {
   "cell_type": "code",
   "execution_count": 14,
   "metadata": {
    "collapsed": false,
    "deletable": true,
    "editable": true
   },
   "outputs": [
    {
     "data": {
      "image/png": "[encoded data removed]",
      "text/latex": [
       "$$g{\\left (z \\right )} = \\frac{\\alpha^{7} z^{7}}{5040} e^{\\alpha \\lambda_{1}} - \\frac{\\alpha^{7}}{5040} e^{\\alpha \\lambda_{1}} + \\frac{\\alpha^{6}}{720} e^{\\alpha \\lambda_{1}} - \\frac{\\alpha^{5}}{120} e^{\\alpha \\lambda_{1}} + \\frac{\\alpha^{4}}{24} e^{\\alpha \\lambda_{1}} - \\frac{\\alpha^{3}}{6} e^{\\alpha \\lambda_{1}} + \\frac{\\alpha^{2}}{2} e^{\\alpha \\lambda_{1}} - \\alpha e^{\\alpha \\lambda_{1}} + z^{6} \\left(- \\frac{\\alpha^{7}}{720} e^{\\alpha \\lambda_{1}} + \\frac{\\alpha^{6}}{720} e^{\\alpha \\lambda_{1}}\\right) + z^{5} \\left(\\frac{\\alpha^{7}}{240} e^{\\alpha \\lambda_{1}} - \\frac{\\alpha^{6}}{120} e^{\\alpha \\lambda_{1}} + \\frac{\\alpha^{5}}{120} e^{\\alpha \\lambda_{1}}\\right) + z^{4} \\left(- \\frac{\\alpha^{7}}{144} e^{\\alpha \\lambda_{1}} + \\frac{\\alpha^{6}}{48} e^{\\alpha \\lambda_{1}} - \\frac{\\alpha^{5}}{24} e^{\\alpha \\lambda_{1}} + \\frac{\\alpha^{4}}{24} e^{\\alpha \\lambda_{1}}\\right) + z^{3} \\left(\\frac{\\alpha^{7}}{144} e^{\\alpha \\lambda_{1}} - \\frac{\\alpha^{6}}{36} e^{\\alpha \\lambda_{1}} + \\frac{\\alpha^{5}}{12} e^{\\alpha \\lambda_{1}} - \\frac{\\alpha^{4}}{6} e^{\\alpha \\lambda_{1}} + \\frac{\\alpha^{3}}{6} e^{\\alpha \\lambda_{1}}\\right) + z^{2} \\left(- \\frac{\\alpha^{7}}{240} e^{\\alpha \\lambda_{1}} + \\frac{\\alpha^{6}}{48} e^{\\alpha \\lambda_{1}} - \\frac{\\alpha^{5}}{12} e^{\\alpha \\lambda_{1}} + \\frac{\\alpha^{4}}{4} e^{\\alpha \\lambda_{1}} - \\frac{\\alpha^{3}}{2} e^{\\alpha \\lambda_{1}} + \\frac{\\alpha^{2}}{2} e^{\\alpha \\lambda_{1}}\\right) + z \\left(\\frac{\\alpha^{7}}{720} e^{\\alpha \\lambda_{1}} - \\frac{\\alpha^{6}}{120} e^{\\alpha \\lambda_{1}} + \\frac{\\alpha^{5}}{24} e^{\\alpha \\lambda_{1}} - \\frac{\\alpha^{4}}{6} e^{\\alpha \\lambda_{1}} + \\frac{\\alpha^{3}}{2} e^{\\alpha \\lambda_{1}} - \\alpha^{2} e^{\\alpha \\lambda_{1}} + \\alpha e^{\\alpha \\lambda_{1}}\\right) + e^{\\alpha \\lambda_{1}}$$"
      ],
      "text/plain": [
       "        7  7  α⋅\\lambda[1]    7  α⋅\\lambda[1]    6  α⋅\\lambda[1]    5  α⋅\\lamb\n",
       "       α ⋅z ⋅ℯ               α ⋅ℯ               α ⋅ℯ               α ⋅ℯ       \n",
       "g(z) = ─────────────────── - ──────────────── + ──────────────── - ───────────\n",
       "               5040                5040               720                120  \n",
       "\n",
       "da[1]    4  α⋅\\lambda[1]    3  α⋅\\lambda[1]    2  α⋅\\lambda[1]                \n",
       "        α ⋅ℯ               α ⋅ℯ               α ⋅ℯ                  α⋅\\lambda[\n",
       "───── + ──────────────── - ──────────────── + ──────────────── - α⋅ℯ          \n",
       "               24                 6                  2                        \n",
       "\n",
       "        ⎛   7  α⋅\\lambda[1]    6  α⋅\\lambda[1]⎞      ⎛ 7  α⋅\\lambda[1]    6  α\n",
       "1]    6 ⎜  α ⋅ℯ               α ⋅ℯ            ⎟    5 ⎜α ⋅ℯ               α ⋅ℯ \n",
       "   + z ⋅⎜- ──────────────── + ────────────────⎟ + z ⋅⎜──────────────── - ─────\n",
       "        ⎝        720                720       ⎠      ⎝      240               \n",
       "\n",
       "⋅\\lambda[1]    5  α⋅\\lambda[1]⎞      ⎛   7  α⋅\\lambda[1]    6  α⋅\\lambda[1]   \n",
       "              α ⋅ℯ            ⎟    4 ⎜  α ⋅ℯ               α ⋅ℯ               \n",
       "─────────── + ────────────────⎟ + z ⋅⎜- ──────────────── + ──────────────── - \n",
       " 120                120       ⎠      ⎝        144                 48          \n",
       "\n",
       " 5  α⋅\\lambda[1]    4  α⋅\\lambda[1]⎞      ⎛ 7  α⋅\\lambda[1]    6  α⋅\\lambda[1]\n",
       "α ⋅ℯ               α ⋅ℯ            ⎟    3 ⎜α ⋅ℯ               α ⋅ℯ            \n",
       "──────────────── + ────────────────⎟ + z ⋅⎜──────────────── - ────────────────\n",
       "       24                 24       ⎠      ⎝      144                 36       \n",
       "\n",
       "    5  α⋅\\lambda[1]    4  α⋅\\lambda[1]    3  α⋅\\lambda[1]⎞      ⎛   7  α⋅\\lamb\n",
       "   α ⋅ℯ               α ⋅ℯ               α ⋅ℯ            ⎟    2 ⎜  α ⋅ℯ       \n",
       " + ──────────────── - ──────────────── + ────────────────⎟ + z ⋅⎜- ───────────\n",
       "          12                 6                  6        ⎠      ⎝        240  \n",
       "\n",
       "da[1]    6  α⋅\\lambda[1]    5  α⋅\\lambda[1]    4  α⋅\\lambda[1]    3  α⋅\\lambda\n",
       "        α ⋅ℯ               α ⋅ℯ               α ⋅ℯ               α ⋅ℯ         \n",
       "───── + ──────────────── - ──────────────── + ──────────────── - ─────────────\n",
       "               48                 12                 4                  2     \n",
       "\n",
       "[1]    2  α⋅\\lambda[1]⎞     ⎛ 7  α⋅\\lambda[1]    6  α⋅\\lambda[1]    5  α⋅\\lamb\n",
       "      α ⋅ℯ            ⎟     ⎜α ⋅ℯ               α ⋅ℯ               α ⋅ℯ       \n",
       "─── + ────────────────⎟ + z⋅⎜──────────────── - ──────────────── + ───────────\n",
       "             2        ⎠     ⎝      720                120                 24  \n",
       "\n",
       "da[1]    4  α⋅\\lambda[1]    3  α⋅\\lambda[1]                                   \n",
       "        α ⋅ℯ               α ⋅ℯ                2  α⋅\\lambda[1]      α⋅\\lambda[\n",
       "───── - ──────────────── + ──────────────── - α ⋅ℯ             + α⋅ℯ          \n",
       "               6                  2                                           \n",
       "\n",
       "  ⎞                \n",
       "1]⎟    α⋅\\lambda[1]\n",
       "  ⎟ + ℯ            \n",
       "  ⎠                "
      ]
     },
     "execution_count": 14,
     "metadata": {},
     "output_type": "execute_result"
    }
   ],
   "source": [
    "g_expt = g_poly(f_expt, eigendata, Phi_polynomials)\n",
    "g_expt"
   ]
  },
  {
   "cell_type": "code",
   "execution_count": 31,
   "metadata": {
    "collapsed": false,
    "deletable": true,
    "editable": true
   },
   "outputs": [
    {
     "data": {
      "image/png": "[encoded data removed]",
      "text/latex": [
       "$$g{\\left (z \\right )} = \\left(\\frac{\\alpha^{7} z^{7}}{5040} - \\frac{\\alpha^{7}}{5040} + \\frac{\\alpha^{6} z^{6}}{720} \\left(- \\alpha + 1\\right) + \\frac{\\alpha^{6}}{720} + \\frac{\\alpha^{5} z^{5}}{240} \\left(\\alpha^{2} - 2 \\alpha + 2\\right) - \\frac{\\alpha^{5}}{120} + \\frac{\\alpha^{4} z^{4}}{144} \\left(- \\alpha^{3} + 3 \\alpha^{2} - 6 \\alpha + 6\\right) + \\frac{\\alpha^{4}}{24} + \\frac{\\alpha^{3} z^{3}}{144} \\left(\\alpha^{4} - 4 \\alpha^{3} + 12 \\alpha^{2} - 24 \\alpha + 24\\right) - \\frac{\\alpha^{3}}{6} + \\frac{\\alpha^{2} z^{2}}{240} \\left(- \\alpha^{5} + 5 \\alpha^{4} - 20 \\alpha^{3} + 60 \\alpha^{2} - 120 \\alpha + 120\\right) + \\frac{\\alpha^{2}}{2} + \\frac{\\alpha z}{720} \\left(\\alpha^{6} - 6 \\alpha^{5} + 30 \\alpha^{4} - 120 \\alpha^{3} + 360 \\alpha^{2} - 720 \\alpha + 720\\right) - \\alpha + 1\\right) e^{\\alpha}$$"
      ],
      "text/plain": [
       "       ⎛ 7  7     7     6  6              6    5  5 ⎛ 2          ⎞     5    4 \n",
       "       ⎜α ⋅z     α     α ⋅z ⋅(-α + 1)    α    α ⋅z ⋅⎝α  - 2⋅α + 2⎠    α    α ⋅\n",
       "g(z) = ⎜───── - ──── + ────────────── + ─── + ──────────────────── - ─── + ───\n",
       "       ⎝ 5040   5040        720         720           240            120      \n",
       "\n",
       " 4 ⎛   3      2          ⎞    4    3  3 ⎛ 4      3       2            ⎞    3  \n",
       "z ⋅⎝- α  + 3⋅α  - 6⋅α + 6⎠   α    α ⋅z ⋅⎝α  - 4⋅α  + 12⋅α  - 24⋅α + 24⎠   α   \n",
       "────────────────────────── + ── + ───────────────────────────────────── - ── +\n",
       "          144                24                    144                    6   \n",
       "\n",
       "  2  2 ⎛   5      4       3       2              ⎞    2       ⎛ 6      5      \n",
       " α ⋅z ⋅⎝- α  + 5⋅α  - 20⋅α  + 60⋅α  - 120⋅α + 120⎠   α    α⋅z⋅⎝α  - 6⋅α  + 30⋅\n",
       " ───────────────────────────────────────────────── + ── + ────────────────────\n",
       "                        240                          2                        \n",
       "\n",
       " 4        3        2              ⎞        ⎞   \n",
       "α  - 120⋅α  + 360⋅α  - 720⋅α + 720⎠        ⎟  α\n",
       "─────────────────────────────────── - α + 1⎟⋅ℯ \n",
       "      720                                  ⎠   "
      ]
     },
     "execution_count": 31,
     "metadata": {},
     "output_type": "execute_result"
    }
   ],
   "source": [
    "g_expt = g_expt.subs(eigenvals)\n",
    "simp_g_expt = Eq(g_expt.lhs, exp(alpha)*(g_expt.rhs/exp(alpha)).simplify().collect(z))\n",
    "simp_g_expt"
   ]
  },
  {
   "cell_type": "code",
   "execution_count": 32,
   "metadata": {
    "collapsed": false,
    "deletable": true,
    "editable": true
   },
   "outputs": [
    {
     "data": {
      "image/png": "[encoded data removed]",
      "text/latex": [
       "$$g{\\left (z \\right )} = e \\left(\\frac{z^{7}}{5040} + \\frac{z^{5}}{240} + \\frac{z^{4}}{72} + \\frac{z^{3}}{16} + \\frac{11 z^{2}}{60} + \\frac{53 z}{144} + \\frac{103}{280}\\right)$$"
      ],
      "text/plain": [
       "         ⎛  7      5    4    3       2             ⎞\n",
       "         ⎜ z      z    z    z    11⋅z    53⋅z   103⎟\n",
       "g(z) = ℯ⋅⎜──── + ─── + ── + ── + ───── + ──── + ───⎟\n",
       "         ⎝5040   240   72   16     60    144    280⎠"
      ]
     },
     "execution_count": 32,
     "metadata": {},
     "output_type": "execute_result"
    }
   ],
   "source": [
    "simp_g_expt.subs({alpha:1})"
   ]
  },
  {
   "cell_type": "code",
   "execution_count": 33,
   "metadata": {
    "collapsed": false,
    "deletable": true,
    "editable": true
   },
   "outputs": [
    {
     "data": {
      "image/png": "[encoded data removed]",
      "text/latex": [
       "$$g{\\left (z \\right )} = \\frac{1}{e} \\left(- \\frac{z^{7}}{5040} + \\frac{z^{6}}{360} - \\frac{z^{5}}{48} + \\frac{z^{4}}{9} - \\frac{65 z^{3}}{144} + \\frac{163 z^{2}}{120} - \\frac{1957 z}{720} + \\frac{685}{252}\\right)$$"
      ],
      "text/plain": [
       "       ⎛    7      6    5    4       3        2               ⎞    \n",
       "       ⎜   z      z    z    z    65⋅z    163⋅z    1957⋅z   685⎟  -1\n",
       "g(z) = ⎜- ──── + ─── - ── + ── - ───── + ────── - ────── + ───⎟⋅ℯ  \n",
       "       ⎝  5040   360   48   9     144     120      720     252⎠    "
      ]
     },
     "execution_count": 33,
     "metadata": {},
     "output_type": "execute_result"
    }
   ],
   "source": [
    "simp_g_expt.subs({alpha:-1})"
   ]
  },
  {
   "cell_type": "markdown",
   "metadata": {
    "deletable": true,
    "editable": true
   },
   "source": [
    "# `log` function"
   ]
  },
  {
   "cell_type": "code",
   "execution_count": 26,
   "metadata": {
    "collapsed": false,
    "deletable": true,
    "editable": true
   },
   "outputs": [
    {
     "data": {
      "image/png": "[encoded data removed]",
      "text/latex": [
       "$$f{\\left (z \\right )} = \\log{\\left (z \\right )}$$"
      ],
      "text/plain": [
       "f(z) = log(z)"
      ]
     },
     "execution_count": 26,
     "metadata": {},
     "output_type": "execute_result"
    }
   ],
   "source": [
    "f = Function('f')\n",
    "f_log = define(let=f(z), be=ln(z))\n",
    "f_log"
   ]
  },
  {
   "cell_type": "code",
   "execution_count": 27,
   "metadata": {
    "collapsed": false,
    "deletable": true,
    "editable": true
   },
   "outputs": [
    {
     "data": {
      "image/png": "[encoded data removed]",
      "text/latex": [
       "$$\\left [ \\log{\\left (z \\right )}, \\quad \\frac{1}{z}, \\quad - \\frac{1}{z^{2}}, \\quad \\frac{2}{z^{3}}, \\quad - \\frac{6}{z^{4}}, \\quad \\frac{24}{z^{5}}, \\quad - \\frac{120}{z^{6}}, \\quad \\frac{720}{z^{7}}, \\quad - \\frac{5040}{z^{8}}, \\quad \\frac{40320}{z^{9}}, \\quad - \\frac{362880}{z^{10}}\\right ]$$"
      ],
      "text/plain": [
       "⎡        1  -1   2   -6   24  -120   720  -5040   40320  -362880 ⎤\n",
       "⎢log(z), ─, ───, ──, ───, ──, ─────, ───, ──────, ─────, ────────⎥\n",
       "⎢        z    2   3    4   5     6     7     8       9      10   ⎥\n",
       "⎣            z   z    z   z     z     z     z       z      z     ⎦"
      ]
     },
     "execution_count": 27,
     "metadata": {},
     "output_type": "execute_result"
    }
   ],
   "source": [
    "[f_log.rhs.diff(z, i) for i in range(11)]"
   ]
  },
  {
   "cell_type": "code",
   "execution_count": 28,
   "metadata": {
    "collapsed": false,
    "deletable": true,
    "editable": true
   },
   "outputs": [
    {
     "data": {
      "image/png": "[encoded data removed]",
      "text/latex": [
       "$$\\left [ \\frac{1}{z}, \\quad - \\frac{1}{z^{2}}, \\quad \\frac{2}{z^{3}}, \\quad - \\frac{6}{z^{4}}, \\quad \\frac{24}{z^{5}}, \\quad - \\frac{120}{z^{6}}, \\quad \\frac{720}{z^{7}}, \\quad - \\frac{5040}{z^{8}}, \\quad \\frac{40320}{z^{9}}, \\quad - \\frac{362880}{z^{10}}\\right ]$$"
      ],
      "text/plain": [
       "⎡1  -1   2   -6   24  -120   720  -5040   40320  -362880 ⎤\n",
       "⎢─, ───, ──, ───, ──, ─────, ───, ──────, ─────, ────────⎥\n",
       "⎢z    2   3    4   5     6     7     8       9      10   ⎥\n",
       "⎣    z   z    z   z     z     z     z       z      z     ⎦"
      ]
     },
     "execution_count": 28,
     "metadata": {},
     "output_type": "execute_result"
    }
   ],
   "source": [
    "[(-1)**i*factorial(i)/z**(i+1) for i in range(10)]"
   ]
  },
  {
   "cell_type": "code",
   "execution_count": 29,
   "metadata": {
    "collapsed": false,
    "deletable": true,
    "editable": true
   },
   "outputs": [
    {
     "data": {
      "image/png": "[encoded data removed]",
      "text/latex": [
       "$$\\sum_{j=k}^{z - 1} \\frac{{\\binom{j}{k}}}{j}$$"
      ],
      "text/plain": [
       "z - 1    \n",
       "_____    \n",
       "╲        \n",
       " ╲    ⎛j⎞\n",
       "  ╲   ⎜ ⎟\n",
       "   ╲  ⎝k⎠\n",
       "   ╱  ───\n",
       "  ╱    j \n",
       " ╱       \n",
       "╱        \n",
       "‾‾‾‾‾    \n",
       "j = k    "
      ]
     },
     "execution_count": 29,
     "metadata": {},
     "output_type": "execute_result"
    }
   ],
   "source": [
    "ss = Sum(binomial(j, k)/j, (j, k, z-1))\n",
    "ss"
   ]
  },
  {
   "cell_type": "code",
   "execution_count": 30,
   "metadata": {
    "collapsed": false,
    "deletable": true,
    "editable": true
   },
   "outputs": [
    {
     "data": {
      "image/png": "[encoded data removed]",
      "text/latex": [
       "$$\\frac{1}{k} {\\binom{z - 1}{k}}$$"
      ],
      "text/plain": [
       "⎛z - 1⎞\n",
       "⎜     ⎟\n",
       "⎝  k  ⎠\n",
       "───────\n",
       "   k   "
      ]
     },
     "execution_count": 30,
     "metadata": {},
     "output_type": "execute_result"
    }
   ],
   "source": [
    "ss.doit()"
   ]
  },
  {
   "cell_type": "code",
   "execution_count": 31,
   "metadata": {
    "collapsed": false,
    "deletable": true,
    "editable": true
   },
   "outputs": [
    {
     "data": {
      "image/png": "[encoded data removed]",
      "text/latex": [
       "$$\\sum_{j=1}^{z - 1} \\frac{1}{j}$$"
      ],
      "text/plain": [
       "z - 1  \n",
       " ____  \n",
       " ╲     \n",
       "  ╲   1\n",
       "   ╲  ─\n",
       "   ╱  j\n",
       "  ╱    \n",
       " ╱     \n",
       " ‾‾‾‾  \n",
       "j = 1  "
      ]
     },
     "execution_count": 31,
     "metadata": {},
     "output_type": "execute_result"
    }
   ],
   "source": [
    "ss = Sum(1/j, (j, 1, z-1))\n",
    "ss"
   ]
  },
  {
   "cell_type": "code",
   "execution_count": 32,
   "metadata": {
    "collapsed": false,
    "deletable": true,
    "editable": true
   },
   "outputs": [
    {
     "data": {
      "image/png": "[encoded data removed]",
      "text/latex": [
       "$$\\operatorname{harmonic}{\\left (z - 1 \\right )}$$"
      ],
      "text/plain": [
       "harmonic(z - 1)"
      ]
     },
     "execution_count": 32,
     "metadata": {},
     "output_type": "execute_result"
    }
   ],
   "source": [
    "ss.doit()"
   ]
  },
  {
   "cell_type": "markdown",
   "metadata": {
    "deletable": true,
    "editable": true
   },
   "source": [
    "checking *Equation 11*:"
   ]
  },
  {
   "cell_type": "code",
   "execution_count": 33,
   "metadata": {
    "collapsed": false,
    "deletable": true,
    "editable": true
   },
   "outputs": [
    {
     "data": {
      "image/png": "[encoded data removed]",
      "text/latex": [
       "$$g{\\left (z \\right )} = \\frac{z^{7}}{7 \\lambda_{1}^{7}} + z^{6} \\left(- \\frac{1}{6 \\lambda_{1}^{6}} - \\frac{1}{\\lambda_{1}^{7}}\\right) + z^{5} \\left(\\frac{1}{5 \\lambda_{1}^{5}} + \\frac{1}{\\lambda_{1}^{6}} + \\frac{3}{\\lambda_{1}^{7}}\\right) + z^{4} \\left(- \\frac{1}{4 \\lambda_{1}^{4}} - \\frac{1}{\\lambda_{1}^{5}} - \\frac{5}{2 \\lambda_{1}^{6}} - \\frac{5}{\\lambda_{1}^{7}}\\right) + z^{3} \\left(\\frac{1}{3 \\lambda_{1}^{3}} + \\frac{1}{\\lambda_{1}^{4}} + \\frac{2}{\\lambda_{1}^{5}} + \\frac{10}{3 \\lambda_{1}^{6}} + \\frac{5}{\\lambda_{1}^{7}}\\right) + z^{2} \\left(- \\frac{1}{2 \\lambda_{1}^{2}} - \\frac{1}{\\lambda_{1}^{3}} - \\frac{3}{2 \\lambda_{1}^{4}} - \\frac{2}{\\lambda_{1}^{5}} - \\frac{5}{2 \\lambda_{1}^{6}} - \\frac{3}{\\lambda_{1}^{7}}\\right) + z \\left(\\frac{1}{\\lambda_{1}} + \\frac{1}{\\lambda_{1}^{2}} + \\frac{1}{\\lambda_{1}^{3}} + \\frac{1}{\\lambda_{1}^{4}} + \\frac{1}{\\lambda_{1}^{5}} + \\frac{1}{\\lambda_{1}^{6}} + \\frac{1}{\\lambda_{1}^{7}}\\right) + \\log{\\left (\\lambda_{1} \\right )} - \\frac{1}{\\lambda_{1}} - \\frac{1}{2 \\lambda_{1}^{2}} - \\frac{1}{3 \\lambda_{1}^{3}} - \\frac{1}{4 \\lambda_{1}^{4}} - \\frac{1}{5 \\lambda_{1}^{5}} - \\frac{1}{6 \\lambda_{1}^{6}} - \\frac{1}{7 \\lambda_{1}^{7}}$$"
      ],
      "text/plain": [
       "              7                                                               \n",
       "             z          6 ⎛        1              1     ⎞    5 ⎛      1       \n",
       "g(z) = ───────────── + z ⋅⎜- ───────────── - ───────────⎟ + z ⋅⎜───────────── \n",
       "                   7      ⎜              6             7⎟      ⎜            5 \n",
       "       7⋅\\lambda[1]       ⎝  6⋅\\lambda[1]    \\lambda[1] ⎠      ⎝5⋅\\lambda[1]  \n",
       "\n",
       "                                                                              \n",
       "       1             3     ⎞    4 ⎛        1              1              5    \n",
       "+ ─────────── + ───────────⎟ + z ⋅⎜- ───────────── - ─────────── - ───────────\n",
       "            6             7⎟      ⎜              4             5              \n",
       "  \\lambda[1]    \\lambda[1] ⎠      ⎝  4⋅\\lambda[1]    \\lambda[1]    2⋅\\lambda[1\n",
       "\n",
       "                                                                              \n",
       "          5     ⎞    3 ⎛      1              1             2              10  \n",
       "── - ───────────⎟ + z ⋅⎜───────────── + ─────────── + ─────────── + ──────────\n",
       " 6             7⎟      ⎜            3             4             5             \n",
       "]    \\lambda[1] ⎠      ⎝3⋅\\lambda[1]    \\lambda[1]    \\lambda[1]    3⋅\\lambda[\n",
       "\n",
       "                                                                              \n",
       "           5     ⎞    2 ⎛        1              1              3              \n",
       "─── + ───────────⎟ + z ⋅⎜- ───────────── - ─────────── - ───────────── - ─────\n",
       "  6             7⎟      ⎜              2             3               4        \n",
       "1]    \\lambda[1] ⎠      ⎝  2⋅\\lambda[1]    \\lambda[1]    2⋅\\lambda[1]    \\lamb\n",
       "\n",
       "                                                                              \n",
       "2              5              3     ⎞     ⎛    1             1             1  \n",
       "────── - ───────────── - ───────────⎟ + z⋅⎜────────── + ─────────── + ────────\n",
       "     5               6             7⎟     ⎜\\lambda[1]             2           \n",
       "da[1]    2⋅\\lambda[1]    \\lambda[1] ⎠     ⎝             \\lambda[1]    \\lambda[\n",
       "\n",
       "                                                                              \n",
       "           1             1             1             1     ⎞                  \n",
       "─── + ─────────── + ─────────── + ─────────── + ───────────⎟ + log(\\lambda[1])\n",
       "  3             4             5             6             7⎟                  \n",
       "1]    \\lambda[1]    \\lambda[1]    \\lambda[1]    \\lambda[1] ⎠                  \n",
       "\n",
       "                                                                              \n",
       "       1              1               1               1               1       \n",
       " - ────────── - ───────────── - ───────────── - ───────────── - ───────────── \n",
       "   \\lambda[1]               2               3               4               5 \n",
       "                2⋅\\lambda[1]    3⋅\\lambda[1]    4⋅\\lambda[1]    5⋅\\lambda[1]  \n",
       "\n",
       "                               \n",
       "        1               1      \n",
       "- ───────────── - ─────────────\n",
       "              6               7\n",
       "  6⋅\\lambda[1]    7⋅\\lambda[1] "
      ]
     },
     "execution_count": 33,
     "metadata": {},
     "output_type": "execute_result"
    }
   ],
   "source": [
    "g_log = g_poly(f_log, eigendata, Phi_polynomials)\n",
    "g_log"
   ]
  },
  {
   "cell_type": "code",
   "execution_count": 34,
   "metadata": {
    "collapsed": false,
    "deletable": true,
    "editable": true
   },
   "outputs": [
    {
     "data": {
      "image/png": "[encoded data removed]",
      "text/latex": [
       "$$g{\\left (z \\right )} = \\frac{z^{7}}{7} - \\frac{7 z^{6}}{6} + \\frac{21 z^{5}}{5} - \\frac{35 z^{4}}{4} + \\frac{35 z^{3}}{3} - \\frac{21 z^{2}}{2} + 7 z - \\frac{363}{140}$$"
      ],
      "text/plain": [
       "        7      6       5       4       3       2            \n",
       "       z    7⋅z    21⋅z    35⋅z    35⋅z    21⋅z          363\n",
       "g(z) = ── - ──── + ───── - ───── + ───── - ───── + 7⋅z - ───\n",
       "       7     6       5       4       3       2           140"
      ]
     },
     "execution_count": 34,
     "metadata": {},
     "output_type": "execute_result"
    }
   ],
   "source": [
    "g_log = g_log.subs(eigenvals)\n",
    "g_log"
   ]
  },
  {
   "cell_type": "code",
   "execution_count": 36,
   "metadata": {
    "collapsed": false,
    "deletable": true,
    "editable": true
   },
   "outputs": [
    {
     "data": {
      "image/png": "[encoded data removed]",
      "text/latex": [
       "$$\\frac{363}{140}$$"
      ],
      "text/plain": [
       "363\n",
       "───\n",
       "140"
      ]
     },
     "execution_count": 36,
     "metadata": {},
     "output_type": "execute_result"
    }
   ],
   "source": [
    "harmonic(7)"
   ]
  },
  {
   "cell_type": "markdown",
   "metadata": {
    "deletable": true,
    "editable": true
   },
   "source": [
    "Checking *Equation 14*"
   ]
  },
  {
   "cell_type": "code",
   "execution_count": 37,
   "metadata": {
    "collapsed": false,
    "deletable": true,
    "editable": true
   },
   "outputs": [
    {
     "data": {
      "image/png": "[encoded data removed]",
      "text/latex": [
       "$$g{\\left (z \\right )} = \\frac{z^{7}}{7} - \\frac{7 z^{6}}{6} + \\frac{21 z^{5}}{5} - \\frac{35 z^{4}}{4} + \\frac{35 z^{3}}{3} - \\frac{21 z^{2}}{2} + 7 z - \\frac{363}{140}$$"
      ],
      "text/plain": [
       "        7      6       5       4       3       2            \n",
       "       z    7⋅z    21⋅z    35⋅z    35⋅z    21⋅z          363\n",
       "g(z) = ── - ──── + ───── - ───── + ───── - ───── + 7⋅z - ───\n",
       "       7     6       5       4       3       2           140"
      ]
     },
     "execution_count": 37,
     "metadata": {},
     "output_type": "execute_result"
    }
   ],
   "source": [
    "g = define(Function('g')(z),  - (sum(S(1)/k*binomial(m-1, k)*(-z)**(k) for k in range(1, m)) + harmonic(m-1)))\n",
    "g"
   ]
  },
  {
   "cell_type": "code",
   "execution_count": 38,
   "metadata": {
    "collapsed": false,
    "deletable": true,
    "editable": true
   },
   "outputs": [
    {
     "data": {
      "image/png": "[encoded data removed]",
      "text/latex": [
       "$$\\mathrm{True}$$"
      ],
      "text/plain": [
       "True"
      ]
     },
     "execution_count": 38,
     "metadata": {},
     "output_type": "execute_result"
    }
   ],
   "source": [
    "Eq(g_log.rhs, g.rhs)"
   ]
  },
  {
   "cell_type": "markdown",
   "metadata": {
    "deletable": true,
    "editable": true
   },
   "source": [
    "---\n",
    "<a rel=\"license\" href=\"http://creativecommons.org/licenses/by-nc-sa/4.0/\"><img alt=\"Creative Commons License\" style=\"border-width:0\" src=\"https://i.creativecommons.org/l/by-nc-sa/4.0/88x31.png\" /></a><br />This work is licensed under a <a rel=\"license\" href=\"http://creativecommons.org/licenses/by-nc-sa/4.0/\">Creative Commons Attribution-NonCommercial-ShareAlike 4.0 International License</a>."
   ]
  }
 ],
 "metadata": {
  "kernelspec": {
   "display_name": "Python 3",
   "language": "python",
   "name": "python3"
  },
  "language_info": {
   "codemirror_mode": {
    "name": "ipython",
    "version": 3
   },
   "file_extension": ".py",
   "mimetype": "text/x-python",
   "name": "python",
   "nbconvert_exporter": "python",
   "pygments_lexer": "ipython3",
   "version": "3.6.0"
  }
 },
 "nbformat": 4,
 "nbformat_minor": 1
}
