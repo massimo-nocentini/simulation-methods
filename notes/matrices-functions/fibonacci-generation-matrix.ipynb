{
 "cells": [
  {
   "cell_type": "markdown",
   "metadata": {},
   "source": [
    "<p>\n",
    "<img src=\"http://www.cerm.unifi.it/chianti/images/logo%20unifi_positivo.jpg\" \n",
    "        alt=\"UniFI logo\" style=\"float: left; width: 20%; height: 20%;\">\n",
    "<div align=\"right\">\n",
    "Massimo Nocentini<br>\n",
    "<small>\n",
    "<br>November 9, 2016: splitting from \"big\" notebook\n",
    "</small>\n",
    "</div>\n",
    "</p>\n",
    "<br>\n",
    "<br>\n",
    "<div align=\"center\">\n",
    "<b>Abstract</b><br>\n",
    "Theory of matrix functions applied to Fibonacci matrix and a matrix with a eigenvalue with multiplicity greater than 1.\n",
    "</div>"
   ]
  },
  {
   "cell_type": "code",
   "execution_count": 4,
   "metadata": {
    "collapsed": true
   },
   "outputs": [],
   "source": [
    "from sympy import *\n",
    "from sympy.abc import n, i, N, x, lamda, phi, z, j, r, k, a\n",
    "\n",
    "init_printing()"
   ]
  },
  {
   "cell_type": "code",
   "execution_count": 5,
   "metadata": {
    "collapsed": true
   },
   "outputs": [],
   "source": [
    "%run ../../src/matrix_functions.py"
   ]
  },
  {
   "cell_type": "markdown",
   "metadata": {},
   "source": [
    "# Fibonacci matrix"
   ]
  },
  {
   "cell_type": "code",
   "execution_count": 6,
   "metadata": {
    "collapsed": false
   },
   "outputs": [
    {
     "data": {
      "image/png": "[encoded data removed]",
      "text/latex": [
       "$$\\left[\\begin{matrix}1 & 1\\\\1 & 0\\end{matrix}\\right]$$"
      ],
      "text/plain": [
       "⎡1  1⎤\n",
       "⎢    ⎥\n",
       "⎣1  0⎦"
      ]
     },
     "execution_count": 6,
     "metadata": {},
     "output_type": "execute_result"
    }
   ],
   "source": [
    "F = Matrix([\n",
    "        [1, 1],\n",
    "        [1, 0],\n",
    "    ])\n",
    "F"
   ]
  },
  {
   "cell_type": "code",
   "execution_count": 7,
   "metadata": {
    "collapsed": false
   },
   "outputs": [
    {
     "data": {
      "image/png": "[encoded data removed]",
      "text/latex": [
       "$$\\left ( \\left \\{ 1 : \\left ( \\lambda_{1}, \\quad m_{1}\\right ), \\quad 2 : \\left ( \\lambda_{2}, \\quad m_{2}\\right )\\right \\}, \\quad \\left \\{ \\lambda_{1} : - \\frac{\\sqrt{5}}{2} + \\frac{1}{2}, \\quad \\lambda_{2} : \\frac{1}{2} + \\frac{\\sqrt{5}}{2}\\right \\}, \\quad \\left \\{ m_{1} : 1, \\quad m_{2} : 1\\right \\}\\right )$$"
      ],
      "text/plain": [
       "⎛                                                ⎧              √5   1        \n",
       "⎜{1: (\\lambda[1], m[1]), 2: (\\lambda[2], m[2])}, ⎨\\lambda[1]: - ── + ─, \\lambd\n",
       "⎝                                                ⎩              2    2        \n",
       "\n",
       "      1   √5⎫                    ⎞\n",
       "a[2]: ─ + ──⎬, {m[1]: 1, m[2]: 1}⎟\n",
       "      2   2 ⎭                    ⎠"
      ]
     },
     "execution_count": 7,
     "metadata": {},
     "output_type": "execute_result"
    }
   ],
   "source": [
    "data, eigenvals, multiplicities = eigendata = eigen_data(m)\n",
    "eigendata"
   ]
  },
  {
   "cell_type": "code",
   "execution_count": 8,
   "metadata": {
    "collapsed": true
   },
   "outputs": [],
   "source": [
    "m=2"
   ]
  },
  {
   "cell_type": "code",
   "execution_count": 9,
   "metadata": {
    "collapsed": false
   },
   "outputs": [
    {
     "data": {
      "image/png": "[encoded data removed]",
      "text/latex": [
       "$$\\Phi{\\left (z,i,j \\right )} = z \\phi_{i,j,0} + \\phi_{i,j,1}$$"
      ],
      "text/plain": [
       "\\Phi(z, i, j) = z⋅\\phi[i, j, 0] + \\phi[i, j, 1]"
      ]
     },
     "execution_count": 9,
     "metadata": {},
     "output_type": "execute_result"
    }
   ],
   "source": [
    "Phi_poly = Phi_poly_ctor(deg=m-1)\n",
    "Phi_poly"
   ]
  },
  {
   "cell_type": "code",
   "execution_count": 10,
   "metadata": {
    "collapsed": false
   },
   "outputs": [
    {
     "data": {
      "image/png": "[encoded data removed]",
      "text/latex": [
       "$$\\Phi_{ 1, 1 }{\\left (z \\right )} = \\frac{z}{\\lambda_{1} - \\lambda_{2}} - \\frac{\\lambda_{2}}{\\lambda_{1} - \\lambda_{2}}$$"
      ],
      "text/plain": [
       "                              z                     \\lambda[2]      \n",
       "\\Phi_{ 1, 1 }(z) = ─────────────────────── - ───────────────────────\n",
       "                   \\lambda[1] - \\lambda[2]   \\lambda[1] - \\lambda[2]"
      ]
     },
     "execution_count": 10,
     "metadata": {},
     "output_type": "execute_result"
    }
   ],
   "source": [
    "make = Phi_poly_define(Phi_poly, eigendata=eigendata)\n",
    "make(i=1, j=1,)"
   ]
  },
  {
   "cell_type": "code",
   "execution_count": 11,
   "metadata": {
    "collapsed": false
   },
   "outputs": [
    {
     "data": {
      "image/png": "[encoded data removed]",
      "text/latex": [
       "$$\\Phi_{ 1, 1 }{\\left (z \\right )} = - \\frac{\\sqrt{5} z}{5} + \\frac{\\sqrt{5}}{5} \\left(\\frac{1}{2} + \\frac{\\sqrt{5}}{2}\\right)$$"
      ],
      "text/plain": [
       "                               ⎛1   √5⎞\n",
       "                            √5⋅⎜─ + ──⎟\n",
       "                     √5⋅z      ⎝2   2 ⎠\n",
       "\\Phi_{ 1, 1 }(z) = - ──── + ───────────\n",
       "                      5          5     "
      ]
     },
     "execution_count": 11,
     "metadata": {},
     "output_type": "execute_result"
    }
   ],
   "source": [
    "_.subs(eigenvals).collect(z)"
   ]
  },
  {
   "cell_type": "code",
   "execution_count": 12,
   "metadata": {
    "collapsed": false
   },
   "outputs": [
    {
     "data": {
      "image/png": "[encoded data removed]",
      "text/latex": [
       "$$\\left \\{ \\left ( 1, \\quad 1\\right ) : \\Phi_{ 1, 1 }{\\left (z \\right )} = \\frac{z}{\\lambda_{1} - \\lambda_{2}} - \\frac{\\lambda_{2}}{\\lambda_{1} - \\lambda_{2}}, \\quad \\left ( 2, \\quad 1\\right ) : \\Phi_{ 2, 1 }{\\left (z \\right )} = - \\frac{z}{\\lambda_{1} - \\lambda_{2}} + \\frac{\\lambda_{1}}{\\lambda_{1} - \\lambda_{2}}\\right \\}$$"
      ],
      "text/plain": [
       "⎧                                      z                     \\lambda[2]       \n",
       "⎨(1, 1): \\Phi_{ 1, 1 }(z) = ─────────────────────── - ───────────────────────,\n",
       "⎩                           \\lambda[1] - \\lambda[2]   \\lambda[1] - \\lambda[2] \n",
       "\n",
       "                                         z                     \\lambda[1]     \n",
       " (2, 1): \\Phi_{ 2, 1 }(z) = - ─────────────────────── + ──────────────────────\n",
       "                              \\lambda[1] - \\lambda[2]   \\lambda[1] - \\lambda[2\n",
       "\n",
       " ⎫\n",
       "─⎬\n",
       "]⎭"
      ]
     },
     "execution_count": 12,
     "metadata": {},
     "output_type": "execute_result"
    }
   ],
   "source": [
    "Phi_polynomials = component_polynomials(Phi_poly, eigendata)\n",
    "Phi_polynomials"
   ]
  },
  {
   "cell_type": "code",
   "execution_count": 13,
   "metadata": {
    "collapsed": false
   },
   "outputs": [
    {
     "data": {
      "image/png": "[encoded data removed]",
      "text/latex": [
       "$$\\left \\{ \\left ( 1, \\quad 1\\right ) : \\left[\\begin{matrix}\\frac{- \\lambda_{2} + 1}{\\lambda_{1} - \\lambda_{2}} & \\frac{1}{\\lambda_{1} - \\lambda_{2}}\\\\\\frac{1}{\\lambda_{1} - \\lambda_{2}} & - \\frac{\\lambda_{2}}{\\lambda_{1} - \\lambda_{2}}\\end{matrix}\\right], \\quad \\left ( 2, \\quad 1\\right ) : \\left[\\begin{matrix}\\frac{\\lambda_{1} - 1}{\\lambda_{1} - \\lambda_{2}} & - \\frac{1}{\\lambda_{1} - \\lambda_{2}}\\\\- \\frac{1}{\\lambda_{1} - \\lambda_{2}} & \\frac{\\lambda_{1}}{\\lambda_{1} - \\lambda_{2}}\\end{matrix}\\right]\\right \\}$$"
      ],
      "text/plain": [
       "⎧        ⎡    -\\lambda[2] + 1                 1           ⎤          ⎡     \\la\n",
       "⎪(1, 1): ⎢───────────────────────  ───────────────────────⎥, (2, 1): ⎢────────\n",
       "⎪        ⎢\\lambda[1] - \\lambda[2]  \\lambda[1] - \\lambda[2]⎥          ⎢\\lambda[\n",
       "⎨        ⎢                                                ⎥          ⎢        \n",
       "⎪        ⎢           1                   -\\lambda[2]      ⎥          ⎢        \n",
       "⎪        ⎢───────────────────────  ───────────────────────⎥          ⎢────────\n",
       "⎩        ⎣\\lambda[1] - \\lambda[2]  \\lambda[1] - \\lambda[2]⎦          ⎣\\lambda[\n",
       "\n",
       "mbda[1] - 1                -1           ⎤⎫\n",
       "───────────────  ───────────────────────⎥⎪\n",
       "1] - \\lambda[2]  \\lambda[1] - \\lambda[2]⎥⎪\n",
       "                                        ⎥⎬\n",
       "  -1                    \\lambda[1]      ⎥⎪\n",
       "───────────────  ───────────────────────⎥⎪\n",
       "1] - \\lambda[2]  \\lambda[1] - \\lambda[2]⎦⎭"
      ]
     },
     "execution_count": 13,
     "metadata": {},
     "output_type": "execute_result"
    }
   ],
   "source": [
    "cmatrices = component_matrices(m, Phi_polynomials)\n",
    "cmatrices"
   ]
  },
  {
   "cell_type": "code",
   "execution_count": 14,
   "metadata": {
    "collapsed": false
   },
   "outputs": [
    {
     "data": {
      "image/png": "[encoded data removed]",
      "text/latex": [
       "$$\\left ( \\left[\\begin{matrix}\\frac{\\lambda_{1} - 1}{\\lambda_{1} - \\lambda_{2}} + \\frac{- \\lambda_{2} + 1}{\\lambda_{1} - \\lambda_{2}} & 0\\\\0 & \\frac{\\lambda_{1}}{\\lambda_{1} - \\lambda_{2}} - \\frac{\\lambda_{2}}{\\lambda_{1} - \\lambda_{2}}\\end{matrix}\\right], \\quad \\left[\\begin{matrix}1 & 0\\\\0 & 1\\end{matrix}\\right], \\quad \\left[\\begin{matrix}1 & 0\\\\0 & 1\\end{matrix}\\right]\\right )$$"
      ],
      "text/plain": [
       "⎛⎡     \\lambda[1] - 1           -\\lambda[2] + 1                               \n",
       "⎜⎢─────────────────────── + ───────────────────────                          0\n",
       "⎜⎢\\lambda[1] - \\lambda[2]   \\lambda[1] - \\lambda[2]                           \n",
       "⎜⎢                                                                            \n",
       "⎜⎢                                                          \\lambda[1]        \n",
       "⎜⎢                        0                          ─────────────────────── -\n",
       "⎝⎣                                                   \\lambda[1] - \\lambda[2]  \n",
       "\n",
       "                        ⎤                ⎞\n",
       "                        ⎥, ⎡1  0⎤, ⎡1  0⎤⎟\n",
       "                        ⎥  ⎢    ⎥  ⎢    ⎥⎟\n",
       "                        ⎥  ⎣0  1⎦  ⎣0  1⎦⎟\n",
       "        \\lambda[2]      ⎥                ⎟\n",
       " ───────────────────────⎥                ⎟\n",
       " \\lambda[1] - \\lambda[2]⎦                ⎠"
      ]
     },
     "execution_count": 14,
     "metadata": {},
     "output_type": "execute_result"
    }
   ],
   "source": [
    "Zi1 = list(cm.as_immutable() for (i, j), cm in cmatrices.items() if j == 1)\n",
    "\n",
    "s = zeros(m.rows)\n",
    "for Z in Zi1:\n",
    "    s += Z\n",
    "s, s.simplify(), s.subs(eigenvals).applyfunc(simplify)"
   ]
  },
  {
   "cell_type": "markdown",
   "metadata": {},
   "source": [
    "## `power` function"
   ]
  },
  {
   "cell_type": "code",
   "execution_count": 14,
   "metadata": {
    "collapsed": false
   },
   "outputs": [
    {
     "data": {
      "image/png": "[encoded data removed]",
      "text/latex": [
       "$$f{\\left (z \\right )} = z^{r}$$"
      ],
      "text/plain": [
       "        r\n",
       "f(z) = z "
      ]
     },
     "execution_count": 14,
     "metadata": {},
     "output_type": "execute_result"
    }
   ],
   "source": [
    "f = Function('f')\n",
    "f_power = define(let=f(z), be=z**r)\n",
    "f_power"
   ]
  },
  {
   "cell_type": "code",
   "execution_count": 17,
   "metadata": {
    "collapsed": false
   },
   "outputs": [
    {
     "data": {
      "image/png": "[encoded data removed]",
      "text/latex": [
       "$$g{\\left (z \\right )} = z \\left(\\frac{\\lambda_{1}^{r}}{\\lambda_{1} - \\lambda_{2}} - \\frac{\\lambda_{2}^{r}}{\\lambda_{1} - \\lambda_{2}}\\right) + \\frac{\\lambda_{1} \\lambda_{2}^{r}}{\\lambda_{1} - \\lambda_{2}} - \\frac{\\lambda_{1}^{r} \\lambda_{2}}{\\lambda_{1} - \\lambda_{2}}$$"
      ],
      "text/plain": [
       "         ⎛                r                         r      ⎞                  \n",
       "         ⎜      \\lambda[1]                \\lambda[2]       ⎟    \\lambda[1]⋅\\la\n",
       "g(z) = z⋅⎜─────────────────────── - ───────────────────────⎟ + ───────────────\n",
       "         ⎝\\lambda[1] - \\lambda[2]   \\lambda[1] - \\lambda[2]⎠   \\lambda[1] - \\l\n",
       "\n",
       "       r              r           \n",
       "mbda[2]     \\lambda[1] ⋅\\lambda[2]\n",
       "──────── - ───────────────────────\n",
       "ambda[2]   \\lambda[1] - \\lambda[2]"
      ]
     },
     "execution_count": 17,
     "metadata": {},
     "output_type": "execute_result"
    }
   ],
   "source": [
    "g_power = g_poly(f_power, eigendata, Phi_polynomials)\n",
    "g_power"
   ]
  },
  {
   "cell_type": "code",
   "execution_count": 18,
   "metadata": {
    "collapsed": false
   },
   "outputs": [
    {
     "data": {
      "image/png": "[encoded data removed]",
      "text/latex": [
       "$$g{\\left (z \\right )} = z \\left(\\frac{\\sqrt{5}}{5} \\left(\\frac{1}{2} + \\frac{\\sqrt{5}}{2}\\right)^{r} - \\frac{\\sqrt{5}}{5} \\left(- \\frac{\\sqrt{5}}{2} + \\frac{1}{2}\\right)^{r}\\right) - \\frac{\\sqrt{5}}{5} \\left(\\frac{1}{2} + \\frac{\\sqrt{5}}{2}\\right)^{r} \\left(- \\frac{\\sqrt{5}}{2} + \\frac{1}{2}\\right) + \\frac{\\sqrt{5}}{5} \\left(\\frac{1}{2} + \\frac{\\sqrt{5}}{2}\\right) \\left(- \\frac{\\sqrt{5}}{2} + \\frac{1}{2}\\right)^{r}$$"
      ],
      "text/plain": [
       "         ⎛           r                r⎞              r                       \n",
       "         ⎜   ⎛1   √5⎞       ⎛  √5   1⎞ ⎟      ⎛1   √5⎞  ⎛  √5   1⎞      ⎛1   √\n",
       "         ⎜√5⋅⎜─ + ──⎟    √5⋅⎜- ── + ─⎟ ⎟   √5⋅⎜─ + ──⎟ ⋅⎜- ── + ─⎟   √5⋅⎜─ + ─\n",
       "         ⎜   ⎝2   2 ⎠       ⎝  2    2⎠ ⎟      ⎝2   2 ⎠  ⎝  2    2⎠      ⎝2   2\n",
       "g(z) = z⋅⎜──────────── - ──────────────⎟ - ─────────────────────── + ─────────\n",
       "         ⎝     5               5       ⎠              5                       \n",
       "\n",
       "             r\n",
       "5⎞ ⎛  √5   1⎞ \n",
       "─⎟⋅⎜- ── + ─⎟ \n",
       " ⎠ ⎝  2    2⎠ \n",
       "──────────────\n",
       "  5           "
      ]
     },
     "execution_count": 18,
     "metadata": {},
     "output_type": "execute_result"
    }
   ],
   "source": [
    "g_power = g_power.subs(eigenvals)\n",
    "g_power"
   ]
  },
  {
   "cell_type": "code",
   "execution_count": 18,
   "metadata": {
    "collapsed": false
   },
   "outputs": [
    {
     "data": {
      "image/png": "[encoded data removed]",
      "text/latex": [
       "$$\\left[\\begin{matrix}\\frac{1}{\\lambda_{1} - \\lambda_{2}} \\left(\\lambda_{1} \\lambda_{2}^{r} - \\lambda_{1}^{r} \\lambda_{2} + \\lambda_{1}^{r} - \\lambda_{2}^{r}\\right) & \\frac{\\lambda_{1}^{r} - \\lambda_{2}^{r}}{\\lambda_{1} - \\lambda_{2}}\\\\\\frac{\\lambda_{1}^{r} - \\lambda_{2}^{r}}{\\lambda_{1} - \\lambda_{2}} & \\frac{\\lambda_{1} \\lambda_{2}^{r} - \\lambda_{1}^{r} \\lambda_{2}}{\\lambda_{1} - \\lambda_{2}}\\end{matrix}\\right]$$"
      ],
      "text/plain": [
       "⎡                     r             r                        r             r  \n",
       "⎢\\lambda[1]⋅\\lambda[2]  - \\lambda[1] ⋅\\lambda[2] + \\lambda[1]  - \\lambda[2]   \n",
       "⎢───────────────────────────────────────────────────────────────────────────  \n",
       "⎢                          \\lambda[1] - \\lambda[2]                            \n",
       "⎢                                                                             \n",
       "⎢                                   r             r                           \n",
       "⎢                         \\lambda[1]  - \\lambda[2]                            \n",
       "⎢                         ─────────────────────────                           \n",
       "⎣                          \\lambda[1] - \\lambda[2]                            \n",
       "\n",
       "                     r             r           ⎤\n",
       "           \\lambda[1]  - \\lambda[2]            ⎥\n",
       "           ─────────────────────────           ⎥\n",
       "            \\lambda[1] - \\lambda[2]            ⎥\n",
       "                                               ⎥\n",
       "                     r             r           ⎥\n",
       "\\lambda[1]⋅\\lambda[2]  - \\lambda[1] ⋅\\lambda[2]⎥\n",
       "───────────────────────────────────────────────⎥\n",
       "            \\lambda[1] - \\lambda[2]            ⎦"
      ]
     },
     "execution_count": 18,
     "metadata": {},
     "output_type": "execute_result"
    }
   ],
   "source": [
    "with lift_to_matrix_function(g_power) as g_power:\n",
    "    m_power = g_power(F)\n",
    "m_power"
   ]
  },
  {
   "cell_type": "code",
   "execution_count": 20,
   "metadata": {
    "collapsed": false
   },
   "outputs": [
    {
     "data": {
      "image/png": "[encoded data removed]",
      "text/latex": [
       "$$\\left[\\begin{matrix}34 & 21\\\\21 & 13\\end{matrix}\\right]$$"
      ],
      "text/plain": [
       "⎡34  21⎤\n",
       "⎢      ⎥\n",
       "⎣21  13⎦"
      ]
     },
     "execution_count": 20,
     "metadata": {},
     "output_type": "execute_result"
    }
   ],
   "source": [
    "m_power.subs(eigenvals).subs({r:8}).applyfunc(simplify)"
   ]
  },
  {
   "cell_type": "code",
   "execution_count": 21,
   "metadata": {
    "collapsed": false
   },
   "outputs": [
    {
     "data": {
      "image/png": "[encoded data removed]",
      "text/latex": [
       "$$\\left[\\begin{matrix}- \\frac{\\left(\\frac{1}{2} + \\frac{\\sqrt{5}}{2}\\right)^{r}}{- \\frac{\\sqrt{5}}{2} + \\frac{1}{2}} \\left(- \\frac{1}{\\left(\\frac{1}{2} + \\frac{\\sqrt{5}}{2}\\right)^{3} \\left(- \\frac{\\sqrt{5}}{2} + \\frac{5}{2}\\right)} + \\frac{1}{\\frac{1}{2} + \\frac{\\sqrt{5}}{2}}\\right) + \\frac{\\left(- \\frac{\\sqrt{5}}{2} + \\frac{1}{2}\\right)^{r}}{\\left(\\frac{1}{2} + \\frac{\\sqrt{5}}{2}\\right)^{2} \\left(- \\frac{\\sqrt{5}}{2} + \\frac{5}{2}\\right)} & - \\frac{\\left(\\frac{1}{2} + \\frac{\\sqrt{5}}{2}\\right)^{r}}{\\left(\\frac{1}{2} + \\frac{\\sqrt{5}}{2}\\right)^{2} \\left(- \\frac{\\sqrt{5}}{2} + \\frac{1}{2}\\right) \\left(- \\frac{\\sqrt{5}}{2} + \\frac{5}{2}\\right)} - \\frac{\\left(- \\frac{\\sqrt{5}}{2} + \\frac{1}{2}\\right)^{r}}{\\left(\\frac{1}{2} + \\frac{\\sqrt{5}}{2}\\right) \\left(- \\frac{\\sqrt{5}}{2} + \\frac{5}{2}\\right)}\\\\\\left(\\frac{1}{2} + \\frac{\\sqrt{5}}{2}\\right)^{r} \\left(- \\frac{1}{\\left(\\frac{1}{2} + \\frac{\\sqrt{5}}{2}\\right)^{3} \\left(- \\frac{\\sqrt{5}}{2} + \\frac{5}{2}\\right)} + \\frac{1}{\\frac{1}{2} + \\frac{\\sqrt{5}}{2}}\\right) - \\frac{\\left(- \\frac{\\sqrt{5}}{2} + \\frac{1}{2}\\right)^{r}}{\\left(\\frac{1}{2} + \\frac{\\sqrt{5}}{2}\\right) \\left(- \\frac{\\sqrt{5}}{2} + \\frac{5}{2}\\right)} & \\frac{\\left(\\frac{1}{2} + \\frac{\\sqrt{5}}{2}\\right)^{r}}{\\left(\\frac{1}{2} + \\frac{\\sqrt{5}}{2}\\right)^{2} \\left(- \\frac{\\sqrt{5}}{2} + \\frac{5}{2}\\right)} + \\frac{\\left(- \\frac{\\sqrt{5}}{2} + \\frac{1}{2}\\right)^{r}}{- \\frac{\\sqrt{5}}{2} + \\frac{5}{2}}\\end{matrix}\\right]$$"
      ],
      "text/plain": [
       "⎡          r                                                                  \n",
       "⎢  ⎛1   √5⎞  ⎛           1               1   ⎞                                \n",
       "⎢  ⎜─ + ──⎟ ⋅⎜- ──────────────────── + ──────⎟                                \n",
       "⎢  ⎝2   2 ⎠  ⎜          3              1   √5⎟                 r              \n",
       "⎢            ⎜  ⎛1   √5⎞  ⎛  √5   5⎞   ─ + ──⎟       ⎛  √5   1⎞               \n",
       "⎢            ⎜  ⎜─ + ──⎟ ⋅⎜- ── + ─⎟   2   2 ⎟       ⎜- ── + ─⎟               \n",
       "⎢            ⎝  ⎝2   2 ⎠  ⎝  2    2⎠         ⎠       ⎝  2    2⎠               \n",
       "⎢- ─────────────────────────────────────────── + ────────────────────  - ─────\n",
       "⎢                      √5   1                            2                    \n",
       "⎢                    - ── + ─                    ⎛1   √5⎞  ⎛  √5   5⎞    ⎛1   \n",
       "⎢                      2    2                    ⎜─ + ──⎟ ⋅⎜- ── + ─⎟    ⎜─ + \n",
       "⎢                                                ⎝2   2 ⎠  ⎝  2    2⎠    ⎝2   \n",
       "⎢                                                                             \n",
       "⎢                                                             r               \n",
       "⎢                                                   ⎛  √5   1⎞                \n",
       "⎢         r                                         ⎜- ── + ─⎟                \n",
       "⎢ ⎛1   √5⎞  ⎛           1               1   ⎞       ⎝  2    2⎠                \n",
       "⎢ ⎜─ + ──⎟ ⋅⎜- ──────────────────── + ──────⎟ - ───────────────────           \n",
       "⎢ ⎝2   2 ⎠  ⎜          3              1   √5⎟   ⎛1   √5⎞ ⎛  √5   5⎞           \n",
       "⎢           ⎜  ⎛1   √5⎞  ⎛  √5   5⎞   ─ + ──⎟   ⎜─ + ──⎟⋅⎜- ── + ─⎟           \n",
       "⎢           ⎜  ⎜─ + ──⎟ ⋅⎜- ── + ─⎟   2   2 ⎟   ⎝2   2 ⎠ ⎝  2    2⎠           \n",
       "⎣           ⎝  ⎝2   2 ⎠  ⎝  2    2⎠         ⎠                                 \n",
       "\n",
       "                                                ⎤\n",
       "                                                ⎥\n",
       "                                                ⎥\n",
       "              r                            r    ⎥\n",
       "      ⎛1   √5⎞                   ⎛  √5   1⎞     ⎥\n",
       "      ⎜─ + ──⎟                   ⎜- ── + ─⎟     ⎥\n",
       "      ⎝2   2 ⎠                   ⎝  2    2⎠     ⎥\n",
       "────────────────────────── - ───────────────────⎥\n",
       "   2                         ⎛1   √5⎞ ⎛  √5   5⎞⎥\n",
       "√5⎞  ⎛  √5   1⎞ ⎛  √5   5⎞   ⎜─ + ──⎟⋅⎜- ── + ─⎟⎥\n",
       "──⎟ ⋅⎜- ── + ─⎟⋅⎜- ── + ─⎟   ⎝2   2 ⎠ ⎝  2    2⎠⎥\n",
       "2 ⎠  ⎝  2    2⎠ ⎝  2    2⎠                      ⎥\n",
       "                                                ⎥\n",
       "                r                   r           ⎥\n",
       "        ⎛1   √5⎞          ⎛  √5   1⎞            ⎥\n",
       "        ⎜─ + ──⎟          ⎜- ── + ─⎟            ⎥\n",
       "        ⎝2   2 ⎠          ⎝  2    2⎠            ⎥\n",
       "   ──────────────────── + ───────────           ⎥\n",
       "           2                  √5   5            ⎥\n",
       "   ⎛1   √5⎞  ⎛  √5   5⎞     - ── + ─            ⎥\n",
       "   ⎜─ + ──⎟ ⋅⎜- ── + ─⎟       2    2            ⎥\n",
       "   ⎝2   2 ⎠  ⎝  2    2⎠                         ⎦"
      ]
     },
     "execution_count": 21,
     "metadata": {},
     "output_type": "execute_result"
    }
   ],
   "source": [
    "F**r"
   ]
  },
  {
   "cell_type": "code",
   "execution_count": 22,
   "metadata": {
    "collapsed": false
   },
   "outputs": [
    {
     "data": {
      "image/png": "[encoded data removed]",
      "text/latex": [
       "$$\\left[\\begin{matrix}34 & 21\\\\21 & 13\\end{matrix}\\right]$$"
      ],
      "text/plain": [
       "⎡34  21⎤\n",
       "⎢      ⎥\n",
       "⎣21  13⎦"
      ]
     },
     "execution_count": 22,
     "metadata": {},
     "output_type": "execute_result"
    }
   ],
   "source": [
    "_.subs({r:8}).applyfunc(simplify)"
   ]
  },
  {
   "cell_type": "markdown",
   "metadata": {},
   "source": [
    "# A multiplicity greater than 1"
   ]
  },
  {
   "cell_type": "code",
   "execution_count": 25,
   "metadata": {
    "collapsed": false
   },
   "outputs": [
    {
     "data": {
      "image/png": "[encoded data removed]",
      "text/latex": [
       "$$\\left[\\begin{matrix}1 & 0 & 0\\\\1 & 1 & -1\\\\-2 & 0 & 3\\end{matrix}\\right]$$"
      ],
      "text/plain": [
       "⎡1   0  0 ⎤\n",
       "⎢         ⎥\n",
       "⎢1   1  -1⎥\n",
       "⎢         ⎥\n",
       "⎣-2  0  3 ⎦"
      ]
     },
     "execution_count": 25,
     "metadata": {},
     "output_type": "execute_result"
    }
   ],
   "source": [
    "m = Matrix([\n",
    "        [1, 0, 0],\n",
    "        [1, 1, -1],\n",
    "        [-2, 0, 3],\n",
    "    ])\n",
    "m"
   ]
  },
  {
   "cell_type": "code",
   "execution_count": 26,
   "metadata": {
    "collapsed": false
   },
   "outputs": [
    {
     "data": {
      "image/png": "[encoded data removed]",
      "text/latex": [
       "$$\\left ( \\left \\{ 1 : \\left ( \\lambda_{1}, \\quad m_{1}\\right ), \\quad 2 : \\left ( \\lambda_{2}, \\quad m_{2}\\right )\\right \\}, \\quad \\left \\{ \\lambda_{1} : 1, \\quad \\lambda_{2} : 3\\right \\}, \\quad \\left \\{ m_{1} : 2, \\quad m_{2} : 1\\right \\}\\right )$$"
      ],
      "text/plain": [
       "({1: (\\lambda[1], m[1]), 2: (\\lambda[2], m[2])}, {\\lambda[1]: 1, \\lambda[2]: 3\n",
       "}, {m[1]: 2, m[2]: 1})"
      ]
     },
     "execution_count": 26,
     "metadata": {},
     "output_type": "execute_result"
    }
   ],
   "source": [
    "data, eigenvals, multiplicities = eigendata = eigen_data(m)\n",
    "eigendata"
   ]
  },
  {
   "cell_type": "code",
   "execution_count": 27,
   "metadata": {
    "collapsed": false
   },
   "outputs": [
    {
     "data": {
      "image/png": "[encoded data removed]",
      "text/latex": [
       "$$\\Phi{\\left (z,i,j \\right )} = z^{2} \\phi_{i,j,0} + z \\phi_{i,j,1} + \\phi_{i,j,2}$$"
      ],
      "text/plain": [
       "                 2                                                \n",
       "\\Phi(z, i, j) = z ⋅\\phi[i, j, 0] + z⋅\\phi[i, j, 1] + \\phi[i, j, 2]"
      ]
     },
     "execution_count": 27,
     "metadata": {},
     "output_type": "execute_result"
    }
   ],
   "source": [
    "m_bar = 3 # degree of \\Xi minimal polynomial\n",
    "Phi_poly = Phi_poly_ctor(deg=m_bar-1)\n",
    "Phi_poly"
   ]
  },
  {
   "cell_type": "code",
   "execution_count": 28,
   "metadata": {
    "collapsed": false
   },
   "outputs": [
    {
     "data": {
      "image/png": "[encoded data removed]",
      "text/latex": [
       "$$\\Phi_{ 1, 1 }{\\left (z \\right )} = - \\frac{z^{2}}{\\lambda_{1}^{2} - 2 \\lambda_{1} \\lambda_{2} + \\lambda_{2}^{2}} + \\frac{2 z \\lambda_{1}}{\\lambda_{1}^{2} - 2 \\lambda_{1} \\lambda_{2} + \\lambda_{2}^{2}} + \\frac{\\left(- 2 \\lambda_{1} + \\lambda_{2}\\right) \\lambda_{2}}{\\lambda_{1}^{2} - 2 \\lambda_{1} \\lambda_{2} + \\lambda_{2}^{2}}$$"
      ],
      "text/plain": [
       "                                               2                              \n",
       "                                              z                               \n",
       "\\Phi_{ 1, 1 }(z) = - ─────────────────────────────────────────────────── + ───\n",
       "                               2                                       2      \n",
       "                     \\lambda[1]  - 2⋅\\lambda[1]⋅\\lambda[2] + \\lambda[2]    \\la\n",
       "\n",
       "                                                                              \n",
       "                2⋅z⋅\\lambda[1]                           (-2⋅\\lambda[1] + \\lam\n",
       "──────────────────────────────────────────────── + ───────────────────────────\n",
       "       2                                       2             2                \n",
       "mbda[1]  - 2⋅\\lambda[1]⋅\\lambda[2] + \\lambda[2]    \\lambda[1]  - 2⋅\\lambda[1]⋅\n",
       "\n",
       "                        \n",
       "bda[2])⋅\\lambda[2]      \n",
       "────────────────────────\n",
       "                       2\n",
       "\\lambda[2] + \\lambda[2] "
      ]
     },
     "execution_count": 28,
     "metadata": {},
     "output_type": "execute_result"
    }
   ],
   "source": [
    "make = Phi_poly_define(Phi_poly, eigendata=eigendata)\n",
    "make(i=1, j=1,)"
   ]
  },
  {
   "cell_type": "code",
   "execution_count": 29,
   "metadata": {
    "collapsed": false
   },
   "outputs": [
    {
     "data": {
      "image/png": "[encoded data removed]",
      "text/latex": [
       "$$\\Phi_{ 1, 1 }{\\left (z \\right )} = - \\frac{z^{2}}{4} + \\frac{z}{2} + \\frac{3}{4}$$"
      ],
      "text/plain": [
       "                      2        \n",
       "                     z    z   3\n",
       "\\Phi_{ 1, 1 }(z) = - ── + ─ + ─\n",
       "                     4    2   4"
      ]
     },
     "execution_count": 29,
     "metadata": {},
     "output_type": "execute_result"
    }
   ],
   "source": [
    "_.subs(eigenvals)"
   ]
  },
  {
   "cell_type": "code",
   "execution_count": 30,
   "metadata": {
    "collapsed": false
   },
   "outputs": [
    {
     "data": {
      "image/png": "[encoded data removed]",
      "text/latex": [
       "$$\\left \\{ \\left ( 1, \\quad 1\\right ) : \\Phi_{ 1, 1 }{\\left (z \\right )} = - \\frac{z^{2}}{\\lambda_{1}^{2} - 2 \\lambda_{1} \\lambda_{2} + \\lambda_{2}^{2}} + \\frac{2 z \\lambda_{1}}{\\lambda_{1}^{2} - 2 \\lambda_{1} \\lambda_{2} + \\lambda_{2}^{2}} + \\frac{\\left(- 2 \\lambda_{1} + \\lambda_{2}\\right) \\lambda_{2}}{\\lambda_{1}^{2} - 2 \\lambda_{1} \\lambda_{2} + \\lambda_{2}^{2}}, \\quad \\left ( 1, \\quad 2\\right ) : \\Phi_{ 1, 2 }{\\left (z \\right )} = \\frac{z^{2}}{\\lambda_{1} - \\lambda_{2}} - \\frac{z \\left(\\lambda_{1} + \\lambda_{2}\\right)}{\\lambda_{1} - \\lambda_{2}} + \\frac{\\lambda_{1} \\lambda_{2}}{\\lambda_{1} - \\lambda_{2}}, \\quad \\left ( 2, \\quad 1\\right ) : \\Phi_{ 2, 1 }{\\left (z \\right )} = \\frac{z^{2}}{\\lambda_{1}^{2} - 2 \\lambda_{1} \\lambda_{2} + \\lambda_{2}^{2}} - \\frac{2 z \\lambda_{1}}{\\lambda_{1}^{2} - 2 \\lambda_{1} \\lambda_{2} + \\lambda_{2}^{2}} + \\frac{\\lambda_{1}^{2}}{\\lambda_{1}^{2} - 2 \\lambda_{1} \\lambda_{2} + \\lambda_{2}^{2}}\\right \\}$$"
      ],
      "text/plain": [
       "⎧                                                       2                     \n",
       "⎪                                                      z                      \n",
       "⎨(1, 1): \\Phi_{ 1, 1 }(z) = - ────────────────────────────────────────────────\n",
       "⎪                                       2                                     \n",
       "⎩                             \\lambda[1]  - 2⋅\\lambda[1]⋅\\lambda[2] + \\lambda[\n",
       "\n",
       "                                                                              \n",
       "                         2⋅z⋅\\lambda[1]                           (-2⋅\\lambda[\n",
       "─── + ─────────────────────────────────────────────────── + ──────────────────\n",
       "  2             2                                       2             2       \n",
       "2]    \\lambda[1]  - 2⋅\\lambda[1]⋅\\lambda[2] + \\lambda[2]    \\lambda[1]  - 2⋅\\l\n",
       "\n",
       "                                                                          2   \n",
       "1] + \\lambda[2])⋅\\lambda[2]                                              z    \n",
       "─────────────────────────────────, (1, 2): \\Phi_{ 1, 2 }(z) = ────────────────\n",
       "                                2                             \\lambda[1] - \\la\n",
       "ambda[1]⋅\\lambda[2] + \\lambda[2]                                              \n",
       "\n",
       "                                                                              \n",
       "          z⋅(\\lambda[1] + \\lambda[2])    \\lambda[1]⋅\\lambda[2]                \n",
       "─────── - ─────────────────────────── + ───────────────────────, (2, 1): \\Phi_\n",
       "mbda[2]     \\lambda[1] - \\lambda[2]     \\lambda[1] - \\lambda[2]               \n",
       "                                                                              \n",
       "\n",
       "                                        2                                     \n",
       "                                       z                                      \n",
       "{ 2, 1 }(z) = ─────────────────────────────────────────────────── - ──────────\n",
       "                        2                                       2             \n",
       "              \\lambda[1]  - 2⋅\\lambda[1]⋅\\lambda[2] + \\lambda[2]    \\lambda[1]\n",
       "\n",
       "                                                                          2   \n",
       "         2⋅z⋅\\lambda[1]                                         \\lambda[1]    \n",
       "───────────────────────────────────────── + ──────────────────────────────────\n",
       "2                                       2             2                       \n",
       "  - 2⋅\\lambda[1]⋅\\lambda[2] + \\lambda[2]    \\lambda[1]  - 2⋅\\lambda[1]⋅\\lambda\n",
       "\n",
       "                 ⎫\n",
       "                 ⎪\n",
       "─────────────────⎬\n",
       "                2⎪\n",
       "[2] + \\lambda[2] ⎭"
      ]
     },
     "execution_count": 30,
     "metadata": {},
     "output_type": "execute_result"
    }
   ],
   "source": [
    "Phi_polynomials = component_polynomials(Phi_poly, eigendata)\n",
    "Phi_polynomials"
   ]
  },
  {
   "cell_type": "code",
   "execution_count": 31,
   "metadata": {
    "collapsed": false
   },
   "outputs": [
    {
     "data": {
      "image/png": "[encoded data removed]",
      "text/latex": [
       "$$\\left \\{ \\left ( 1, \\quad 1\\right ) : \\left[\\begin{matrix}\\frac{- \\left(2 \\lambda_{1} - \\lambda_{2}\\right) \\lambda_{2} + 2 \\lambda_{1} - 1}{\\lambda_{1}^{2} - 2 \\lambda_{1} \\lambda_{2} + \\lambda_{2}^{2}} & 0 & 0\\\\\\frac{2 \\lambda_{1} - 4}{\\lambda_{1}^{2} - 2 \\lambda_{1} \\lambda_{2} + \\lambda_{2}^{2}} & \\frac{- \\left(2 \\lambda_{1} - \\lambda_{2}\\right) \\lambda_{2} + 2 \\lambda_{1} - 1}{\\lambda_{1}^{2} - 2 \\lambda_{1} \\lambda_{2} + \\lambda_{2}^{2}} & \\frac{- 2 \\lambda_{1} + 4}{\\lambda_{1}^{2} - 2 \\lambda_{1} \\lambda_{2} + \\lambda_{2}^{2}}\\\\\\frac{- 4 \\lambda_{1} + 8}{\\lambda_{1}^{2} - 2 \\lambda_{1} \\lambda_{2} + \\lambda_{2}^{2}} & 0 & \\frac{- \\left(2 \\lambda_{1} - \\lambda_{2}\\right) \\lambda_{2} + 6 \\lambda_{1} - 9}{\\lambda_{1}^{2} - 2 \\lambda_{1} \\lambda_{2} + \\lambda_{2}^{2}}\\end{matrix}\\right], \\quad \\left ( 1, \\quad 2\\right ) : \\left[\\begin{matrix}\\frac{1}{\\lambda_{1} - \\lambda_{2}} \\left(\\lambda_{1} \\lambda_{2} - \\lambda_{1} - \\lambda_{2} + 1\\right) & 0 & 0\\\\\\frac{- \\lambda_{1} - \\lambda_{2} + 4}{\\lambda_{1} - \\lambda_{2}} & \\frac{1}{\\lambda_{1} - \\lambda_{2}} \\left(\\lambda_{1} \\lambda_{2} - \\lambda_{1} - \\lambda_{2} + 1\\right) & \\frac{\\lambda_{1} + \\lambda_{2} - 4}{\\lambda_{1} - \\lambda_{2}}\\\\\\frac{1}{\\lambda_{1} - \\lambda_{2}} \\left(2 \\lambda_{1} + 2 \\lambda_{2} - 8\\right) & 0 & \\frac{1}{\\lambda_{1} - \\lambda_{2}} \\left(\\lambda_{1} \\lambda_{2} - 3 \\lambda_{1} - 3 \\lambda_{2} + 9\\right)\\end{matrix}\\right], \\quad \\left ( 2, \\quad 1\\right ) : \\left[\\begin{matrix}\\frac{\\lambda_{1}^{2} - 2 \\lambda_{1} + 1}{\\lambda_{1}^{2} - 2 \\lambda_{1} \\lambda_{2} + \\lambda_{2}^{2}} & 0 & 0\\\\\\frac{- 2 \\lambda_{1} + 4}{\\lambda_{1}^{2} - 2 \\lambda_{1} \\lambda_{2} + \\lambda_{2}^{2}} & \\frac{\\lambda_{1}^{2} - 2 \\lambda_{1} + 1}{\\lambda_{1}^{2} - 2 \\lambda_{1} \\lambda_{2} + \\lambda_{2}^{2}} & \\frac{2 \\lambda_{1} - 4}{\\lambda_{1}^{2} - 2 \\lambda_{1} \\lambda_{2} + \\lambda_{2}^{2}}\\\\\\frac{4 \\lambda_{1} - 8}{\\lambda_{1}^{2} - 2 \\lambda_{1} \\lambda_{2} + \\lambda_{2}^{2}} & 0 & \\frac{\\lambda_{1}^{2} - 6 \\lambda_{1} + 9}{\\lambda_{1}^{2} - 2 \\lambda_{1} \\lambda_{2} + \\lambda_{2}^{2}}\\end{matrix}\\right]\\right \\}$$"
      ],
      "text/plain": [
       "⎧                                                                             \n",
       "⎪        ⎡-(2⋅\\lambda[1] - \\lambda[2])⋅\\lambda[2] + 2⋅\\lambda[1] - 1          \n",
       "⎪(1, 1): ⎢──────────────────────────────────────────────────────────          \n",
       "⎪        ⎢             2                                       2              \n",
       "⎪        ⎢   \\lambda[1]  - 2⋅\\lambda[1]⋅\\lambda[2] + \\lambda[2]               \n",
       "⎪        ⎢                                                                    \n",
       "⎪        ⎢                    2⋅(\\lambda[1] - 2)                      -(2⋅\\lam\n",
       "⎪        ⎢   ───────────────────────────────────────────────────      ────────\n",
       "⎨        ⎢             2                                       2              \n",
       "⎪        ⎢   \\lambda[1]  - 2⋅\\lambda[1]⋅\\lambda[2] + \\lambda[2]          \\lamb\n",
       "⎪        ⎢                                                                    \n",
       "⎪        ⎢                   4⋅(-\\lambda[1] + 2)                              \n",
       "⎪        ⎢   ───────────────────────────────────────────────────              \n",
       "⎪        ⎢             2                                       2              \n",
       "⎪        ⎣   \\lambda[1]  - 2⋅\\lambda[1]⋅\\lambda[2] + \\lambda[2]               \n",
       "⎪                                                                             \n",
       "⎩                                                                             \n",
       "\n",
       "                                                                              \n",
       "                                                                              \n",
       "                    0                                                         \n",
       "                                                                              \n",
       "                                                                              \n",
       "                                                                              \n",
       "bda[1] - \\lambda[2])⋅\\lambda[2] + 2⋅\\lambda[1] - 1                     2⋅(-\\la\n",
       "──────────────────────────────────────────────────     ───────────────────────\n",
       "     2                                       2                   2            \n",
       "da[1]  - 2⋅\\lambda[1]⋅\\lambda[2] + \\lambda[2]          \\lambda[1]  - 2⋅\\lambda\n",
       "                                                                              \n",
       "                                                    -(2⋅\\lambda[1] - \\lambda[2\n",
       "                    0                               ──────────────────────────\n",
       "                                                                 2            \n",
       "                                                       \\lambda[1]  - 2⋅\\lambda\n",
       "                                                                              \n",
       "                                                                              \n",
       "\n",
       "                                                                              \n",
       "                                ⎤          ⎡\\lambda[1]⋅\\lambda[2] - \\lambda[1]\n",
       "  0                             ⎥, (1, 2): ⎢──────────────────────────────────\n",
       "                                ⎥          ⎢              \\lambda[1] - \\lambda\n",
       "                                ⎥          ⎢                                  \n",
       "                                ⎥          ⎢           -\\lambda[1] - \\lambda[2\n",
       "mbda[1] + 2)                    ⎥          ⎢           ───────────────────────\n",
       "────────────────────────────    ⎥          ⎢             \\lambda[1] - \\lambda[\n",
       "                           2    ⎥          ⎢                                  \n",
       "[1]⋅\\lambda[2] + \\lambda[2]     ⎥          ⎢          2⋅(\\lambda[1] + \\lambda[\n",
       "                                ⎥          ⎢          ────────────────────────\n",
       "])⋅\\lambda[2] + 6⋅\\lambda[1] - 9⎥          ⎣              \\lambda[1] - \\lambda\n",
       "────────────────────────────────⎥                                             \n",
       "                           2    ⎥                                             \n",
       "[1]⋅\\lambda[2] + \\lambda[2]     ⎦                                             \n",
       "                                                                              \n",
       "                                                                              \n",
       "\n",
       "                                                                              \n",
       " - \\lambda[2] + 1                                                             \n",
       "─────────────────                           0                                 \n",
       "[2]                                                                           \n",
       "                                                                              \n",
       "] + 4              \\lambda[1]⋅\\lambda[2] - \\lambda[1] - \\lambda[2] + 1        \n",
       "─────              ───────────────────────────────────────────────────        \n",
       "2]                               \\lambda[1] - \\lambda[2]                      \n",
       "                                                                              \n",
       "2] - 4)                                                                 \\lambd\n",
       "───────                                     0                           ──────\n",
       "[2]                                                                           \n",
       "                                                                              \n",
       "                                                                              \n",
       "                                                                              \n",
       "                                                                              \n",
       "                                                                              \n",
       "\n",
       "                                                            ⎡                 \n",
       "                                                 ⎤          ⎢           \\lambd\n",
       "                     0                           ⎥, (2, 1): ⎢─────────────────\n",
       "                                                 ⎥          ⎢          2      \n",
       "                                                 ⎥          ⎢\\lambda[1]  - 2⋅\\\n",
       "        \\lambda[1] + \\lambda[2] - 4              ⎥          ⎢                 \n",
       "        ───────────────────────────              ⎥          ⎢                 \n",
       "          \\lambda[1] - \\lambda[2]                ⎥          ⎢                2\n",
       "                                                 ⎥          ⎢─────────────────\n",
       "a[1]⋅\\lambda[2] - 3⋅\\lambda[1] - 3⋅\\lambda[2] + 9⎥          ⎢          2      \n",
       "─────────────────────────────────────────────────⎥          ⎢\\lambda[1]  - 2⋅\\\n",
       "          \\lambda[1] - \\lambda[2]                ⎦          ⎢                 \n",
       "                                                            ⎢                 \n",
       "                                                            ⎢                 \n",
       "                                                            ⎢─────────────────\n",
       "                                                            ⎢          2      \n",
       "                                                            ⎣\\lambda[1]  - 2⋅\\\n",
       "\n",
       "    2                                                                         \n",
       "a[1]  - 2⋅\\lambda[1] + 1                                                      \n",
       "──────────────────────────────────                           0                \n",
       "                                 2                                            \n",
       "lambda[1]⋅\\lambda[2] + \\lambda[2]                                             \n",
       "                                                                              \n",
       "                                                         2                    \n",
       "⋅(-\\lambda[1] + 2)                             \\lambda[1]  - 2⋅\\lambda[1] + 1 \n",
       "──────────────────────────────────  ──────────────────────────────────────────\n",
       "                                 2            2                               \n",
       "lambda[1]⋅\\lambda[2] + \\lambda[2]   \\lambda[1]  - 2⋅\\lambda[1]⋅\\lambda[2] + \\l\n",
       "                                                                              \n",
       "                                                                              \n",
       "4⋅(\\lambda[1] - 2)                                                            \n",
       "──────────────────────────────────                           0                \n",
       "                                 2                                            \n",
       "lambda[1]⋅\\lambda[2] + \\lambda[2]                                             \n",
       "\n",
       "                                                              ⎤⎫\n",
       "                                                              ⎥⎪\n",
       "                                    0                         ⎥⎪\n",
       "                                                              ⎥⎪\n",
       "                                                              ⎥⎪\n",
       "                                                              ⎥⎪\n",
       "                                                              ⎥⎪\n",
       "                            2⋅(\\lambda[1] - 2)                ⎥⎪\n",
       "─────────  ───────────────────────────────────────────────────⎥⎬\n",
       "        2            2                                       2⎥⎪\n",
       "ambda[2]   \\lambda[1]  - 2⋅\\lambda[1]⋅\\lambda[2] + \\lambda[2] ⎥⎪\n",
       "                                                              ⎥⎪\n",
       "                                2                             ⎥⎪\n",
       "                      \\lambda[1]  - 6⋅\\lambda[1] + 9          ⎥⎪\n",
       "           ───────────────────────────────────────────────────⎥⎪\n",
       "                     2                                       2⎥⎪\n",
       "           \\lambda[1]  - 2⋅\\lambda[1]⋅\\lambda[2] + \\lambda[2] ⎦⎭"
      ]
     },
     "execution_count": 31,
     "metadata": {},
     "output_type": "execute_result"
    }
   ],
   "source": [
    "cmatrices = component_matrices(m, Phi_polynomials)\n",
    "cmatrices"
   ]
  },
  {
   "cell_type": "code",
   "execution_count": 32,
   "metadata": {
    "collapsed": false
   },
   "outputs": [
    {
     "data": {
      "image/png": "[encoded data removed]",
      "text/latex": [
       "$$\\left ( \\left[\\begin{matrix}\\frac{- \\left(2 \\lambda_{1} - \\lambda_{2}\\right) \\lambda_{2} + 2 \\lambda_{1} - 1}{\\lambda_{1}^{2} - 2 \\lambda_{1} \\lambda_{2} + \\lambda_{2}^{2}} + \\frac{\\lambda_{1}^{2} - 2 \\lambda_{1} + 1}{\\lambda_{1}^{2} - 2 \\lambda_{1} \\lambda_{2} + \\lambda_{2}^{2}} & 0 & 0\\\\\\frac{- 2 \\lambda_{1} + 4}{\\lambda_{1}^{2} - 2 \\lambda_{1} \\lambda_{2} + \\lambda_{2}^{2}} + \\frac{2 \\lambda_{1} - 4}{\\lambda_{1}^{2} - 2 \\lambda_{1} \\lambda_{2} + \\lambda_{2}^{2}} & \\frac{- \\left(2 \\lambda_{1} - \\lambda_{2}\\right) \\lambda_{2} + 2 \\lambda_{1} - 1}{\\lambda_{1}^{2} - 2 \\lambda_{1} \\lambda_{2} + \\lambda_{2}^{2}} + \\frac{\\lambda_{1}^{2} - 2 \\lambda_{1} + 1}{\\lambda_{1}^{2} - 2 \\lambda_{1} \\lambda_{2} + \\lambda_{2}^{2}} & \\frac{- 2 \\lambda_{1} + 4}{\\lambda_{1}^{2} - 2 \\lambda_{1} \\lambda_{2} + \\lambda_{2}^{2}} + \\frac{2 \\lambda_{1} - 4}{\\lambda_{1}^{2} - 2 \\lambda_{1} \\lambda_{2} + \\lambda_{2}^{2}}\\\\\\frac{- 4 \\lambda_{1} + 8}{\\lambda_{1}^{2} - 2 \\lambda_{1} \\lambda_{2} + \\lambda_{2}^{2}} + \\frac{4 \\lambda_{1} - 8}{\\lambda_{1}^{2} - 2 \\lambda_{1} \\lambda_{2} + \\lambda_{2}^{2}} & 0 & \\frac{- \\left(2 \\lambda_{1} - \\lambda_{2}\\right) \\lambda_{2} + 6 \\lambda_{1} - 9}{\\lambda_{1}^{2} - 2 \\lambda_{1} \\lambda_{2} + \\lambda_{2}^{2}} + \\frac{\\lambda_{1}^{2} - 6 \\lambda_{1} + 9}{\\lambda_{1}^{2} - 2 \\lambda_{1} \\lambda_{2} + \\lambda_{2}^{2}}\\end{matrix}\\right], \\quad \\left[\\begin{matrix}1 & 0 & 0\\\\0 & 1 & 0\\\\0 & 0 & 1\\end{matrix}\\right], \\quad \\left[\\begin{matrix}1 & 0 & 0\\\\0 & 1 & 0\\\\0 & 0 & 1\\end{matrix}\\right]\\right )$$"
      ],
      "text/plain": [
       "⎛⎡                                                                            \n",
       "⎜⎢-(2⋅\\lambda[1] - \\lambda[2])⋅\\lambda[2] + 2⋅\\lambda[1] - 1              \\lam\n",
       "⎜⎢────────────────────────────────────────────────────────── + ───────────────\n",
       "⎜⎢             2                                       2                 2    \n",
       "⎜⎢   \\lambda[1]  - 2⋅\\lambda[1]⋅\\lambda[2] + \\lambda[2]        \\lambda[1]  - 2\n",
       "⎜⎢                                                                            \n",
       "⎜⎢                                                                            \n",
       "⎜⎢                   2⋅(-\\lambda[1] + 2)                                    2⋅\n",
       "⎜⎢   ─────────────────────────────────────────────────── + ───────────────────\n",
       "⎜⎢             2                                       2             2        \n",
       "⎜⎢   \\lambda[1]  - 2⋅\\lambda[1]⋅\\lambda[2] + \\lambda[2]    \\lambda[1]  - 2⋅\\la\n",
       "⎜⎢                                                                            \n",
       "⎜⎢                                                                            \n",
       "⎜⎢                   4⋅(-\\lambda[1] + 2)                                    4⋅\n",
       "⎜⎢   ─────────────────────────────────────────────────── + ───────────────────\n",
       "⎜⎢             2                                       2             2        \n",
       "⎝⎣   \\lambda[1]  - 2⋅\\lambda[1]⋅\\lambda[2] + \\lambda[2]    \\lambda[1]  - 2⋅\\la\n",
       "\n",
       "      2                                                                       \n",
       "bda[1]  - 2⋅\\lambda[1] + 1                                                    \n",
       "────────────────────────────────────                                          \n",
       "                                   2                                          \n",
       "⋅\\lambda[1]⋅\\lambda[2] + \\lambda[2]                                           \n",
       "                                                                              \n",
       "                                                                              \n",
       "(\\lambda[1] - 2)                      -(2⋅\\lambda[1] - \\lambda[2])⋅\\lambda[2] \n",
       "────────────────────────────────      ────────────────────────────────────────\n",
       "                               2                   2                          \n",
       "mbda[1]⋅\\lambda[2] + \\lambda[2]          \\lambda[1]  - 2⋅\\lambda[1]⋅\\lambda[2]\n",
       "                                                                              \n",
       "                                                                              \n",
       "(\\lambda[1] - 2)                                                              \n",
       "────────────────────────────────                                              \n",
       "                               2                                              \n",
       "mbda[1]⋅\\lambda[2] + \\lambda[2]                                               \n",
       "\n",
       "                                                                              \n",
       "                                                                              \n",
       "               0                                                              \n",
       "                                                                              \n",
       "                                                                              \n",
       "                                                                              \n",
       "                                          2                                   \n",
       "+ 2⋅\\lambda[1] - 1              \\lambda[1]  - 2⋅\\lambda[1] + 1                \n",
       "────────────────── + ───────────────────────────────────────────────────     ─\n",
       "             2                 2                                       2      \n",
       " + \\lambda[2]        \\lambda[1]  - 2⋅\\lambda[1]⋅\\lambda[2] + \\lambda[2]      \\\n",
       "                                                                              \n",
       "                                                                              \n",
       "                                                                          -(2⋅\n",
       "               0                                                          ────\n",
       "                                                                              \n",
       "                                                                             \\\n",
       "\n",
       "                                                                              \n",
       "                                                                              \n",
       "                                                   0                          \n",
       "                                                                              \n",
       "                                                                              \n",
       "                                                                              \n",
       "                                                                              \n",
       "               2⋅(-\\lambda[1] + 2)                                    2⋅(\\lamb\n",
       "────────────────────────────────────────────────── + ─────────────────────────\n",
       "         2                                       2             2              \n",
       "lambda[1]  - 2⋅\\lambda[1]⋅\\lambda[2] + \\lambda[2]    \\lambda[1]  - 2⋅\\lambda[1\n",
       "                                                                              \n",
       "                                                                              \n",
       "\\lambda[1] - \\lambda[2])⋅\\lambda[2] + 6⋅\\lambda[1] - 9              \\lambda[1]\n",
       "────────────────────────────────────────────────────── + ─────────────────────\n",
       "         2                                       2                 2          \n",
       "lambda[1]  - 2⋅\\lambda[1]⋅\\lambda[2] + \\lambda[2]        \\lambda[1]  - 2⋅\\lamb\n",
       "\n",
       "                              ⎤                      ⎞\n",
       "                              ⎥                      ⎟\n",
       "                              ⎥, ⎡1  0  0⎤, ⎡1  0  0⎤⎟\n",
       "                              ⎥  ⎢       ⎥  ⎢       ⎥⎟\n",
       "                              ⎥  ⎢0  1  0⎥  ⎢0  1  0⎥⎟\n",
       "                              ⎥  ⎢       ⎥  ⎢       ⎥⎟\n",
       "                              ⎥  ⎣0  0  1⎦  ⎣0  0  1⎦⎟\n",
       "da[1] - 2)                    ⎥                      ⎟\n",
       "──────────────────────────    ⎥                      ⎟\n",
       "                         2    ⎥                      ⎟\n",
       "]⋅\\lambda[2] + \\lambda[2]     ⎥                      ⎟\n",
       "                              ⎥                      ⎟\n",
       "2                             ⎥                      ⎟\n",
       "  - 6⋅\\lambda[1] + 9          ⎥                      ⎟\n",
       "──────────────────────────────⎥                      ⎟\n",
       "                             2⎥                      ⎟\n",
       "da[1]⋅\\lambda[2] + \\lambda[2] ⎦                      ⎠"
      ]
     },
     "execution_count": 32,
     "metadata": {},
     "output_type": "execute_result"
    }
   ],
   "source": [
    "Zi1 = list(cm.as_immutable() for (i, j), cm in cmatrices.items() if j == 1)\n",
    "\n",
    "s = zeros(m.rows)\n",
    "for Z in Zi1:\n",
    "    s += Z\n",
    "s, s.simplify(), s.subs(eigenvals)"
   ]
  },
  {
   "cell_type": "markdown",
   "metadata": {},
   "source": [
    "## `inverse` function"
   ]
  },
  {
   "cell_type": "code",
   "execution_count": 33,
   "metadata": {
    "collapsed": false
   },
   "outputs": [
    {
     "data": {
      "image/png": "[encoded data removed]",
      "text/latex": [
       "$$f{\\left (z \\right )} = \\frac{1}{z}$$"
      ],
      "text/plain": [
       "       1\n",
       "f(z) = ─\n",
       "       z"
      ]
     },
     "execution_count": 33,
     "metadata": {},
     "output_type": "execute_result"
    }
   ],
   "source": [
    "f, h = Function('f'), Function('h')\n",
    "f_inverse = define(let=f(z), be=1/(z))\n",
    "f_inverse"
   ]
  },
  {
   "cell_type": "code",
   "execution_count": 34,
   "metadata": {
    "collapsed": false
   },
   "outputs": [
    {
     "data": {
      "image/png": "[encoded data removed]",
      "text/latex": [
       "$$g{\\left (z \\right )} = z^{2} \\left(- \\frac{1}{\\lambda_{1}^{3} - 2 \\lambda_{1}^{2} \\lambda_{2} + \\lambda_{1} \\lambda_{2}^{2}} + \\frac{1}{\\lambda_{1}^{2} \\lambda_{2} - 2 \\lambda_{1} \\lambda_{2}^{2} + \\lambda_{2}^{3}} - \\frac{1}{\\lambda_{1}^{3} - \\lambda_{1}^{2} \\lambda_{2}}\\right) + z \\left(\\frac{2}{\\lambda_{1}^{2} - 2 \\lambda_{1} \\lambda_{2} + \\lambda_{2}^{2}} - \\frac{2 \\lambda_{1}}{\\lambda_{1}^{2} \\lambda_{2} - 2 \\lambda_{1} \\lambda_{2}^{2} + \\lambda_{2}^{3}} + \\frac{\\lambda_{2}}{\\lambda_{1}^{3} - \\lambda_{1}^{2} \\lambda_{2}} + \\frac{1}{\\lambda_{1}^{2} - \\lambda_{1} \\lambda_{2}}\\right) + \\frac{\\lambda_{2}^{2}}{\\lambda_{1}^{3} - 2 \\lambda_{1}^{2} \\lambda_{2} + \\lambda_{1} \\lambda_{2}^{2}} - \\frac{2 \\lambda_{2}}{\\lambda_{1}^{2} - 2 \\lambda_{1} \\lambda_{2} + \\lambda_{2}^{2}} + \\frac{\\lambda_{1}^{2}}{\\lambda_{1}^{2} \\lambda_{2} - 2 \\lambda_{1} \\lambda_{2}^{2} + \\lambda_{2}^{3}} - \\frac{\\lambda_{2}}{\\lambda_{1}^{2} - \\lambda_{1} \\lambda_{2}}$$"
      ],
      "text/plain": [
       "                                                                              \n",
       "        2 ⎛                                 1                                 \n",
       "g(z) = z ⋅⎜- ─────────────────────────────────────────────────────────────── +\n",
       "          ⎜            3               2                                   2  \n",
       "          ⎝  \\lambda[1]  - 2⋅\\lambda[1] ⋅\\lambda[2] + \\lambda[1]⋅\\lambda[2]   \n",
       "\n",
       "                                                                              \n",
       "                                1                                             \n",
       " ─────────────────────────────────────────────────────────────── - ───────────\n",
       "           2                                     2             3             3\n",
       " \\lambda[1] ⋅\\lambda[2] - 2⋅\\lambda[1]⋅\\lambda[2]  + \\lambda[2]    \\lambda[1] \n",
       "\n",
       "                                                                              \n",
       "      1                  ⎞     ⎛                         2                    \n",
       "─────────────────────────⎟ + z⋅⎜──────────────────────────────────────────────\n",
       "             2           ⎟     ⎜          2                                   \n",
       " - \\lambda[1] ⋅\\lambda[2]⎠     ⎝\\lambda[1]  - 2⋅\\lambda[1]⋅\\lambda[2] + \\lambd\n",
       "\n",
       "                                                                              \n",
       "                                  2⋅\\lambda[1]                                \n",
       "───── - ─────────────────────────────────────────────────────────────── + ────\n",
       "    2             2                                     2             3       \n",
       "a[2]    \\lambda[1] ⋅\\lambda[2] - 2⋅\\lambda[1]⋅\\lambda[2]  + \\lambda[2]    \\lam\n",
       "\n",
       "                                                                              \n",
       "         \\lambda[2]                                 1                 ⎞       \n",
       "──────────────────────────────── + ───────────────────────────────────⎟ + ────\n",
       "      3             2                        2                        ⎟       \n",
       "bda[1]  - \\lambda[1] ⋅\\lambda[2]   \\lambda[1]  - \\lambda[1]⋅\\lambda[2]⎠   \\lam\n",
       "\n",
       "                                2                                             \n",
       "                      \\lambda[2]                                              \n",
       "─────────────────────────────────────────────────────────── - ────────────────\n",
       "      3               2                                   2             2     \n",
       "bda[1]  - 2⋅\\lambda[1] ⋅\\lambda[2] + \\lambda[1]⋅\\lambda[2]    \\lambda[1]  - 2⋅\n",
       "\n",
       "                                                                          2   \n",
       "    2⋅\\lambda[2]                                                \\lambda[1]    \n",
       "─────────────────────────────────── + ────────────────────────────────────────\n",
       "                                  2             2                             \n",
       "\\lambda[1]⋅\\lambda[2] + \\lambda[2]    \\lambda[1] ⋅\\lambda[2] - 2⋅\\lambda[1]⋅\\l\n",
       "\n",
       "                                                             \n",
       "                                       \\lambda[2]            \n",
       "─────────────────────── - ───────────────────────────────────\n",
       "        2             3             2                        \n",
       "ambda[2]  + \\lambda[2]    \\lambda[1]  - \\lambda[1]⋅\\lambda[2]"
      ]
     },
     "execution_count": 34,
     "metadata": {},
     "output_type": "execute_result"
    }
   ],
   "source": [
    "g_inverse = g_poly(f_inverse, eigendata, Phi_polynomials)\n",
    "g_inverse"
   ]
  },
  {
   "cell_type": "code",
   "execution_count": 35,
   "metadata": {
    "collapsed": false
   },
   "outputs": [
    {
     "data": {
      "image/png": "[encoded data removed]",
      "text/latex": [
       "$$g{\\left (z \\right )} = \\frac{z^{2}}{3} - \\frac{5 z}{3} + \\frac{7}{3}$$"
      ],
      "text/plain": [
       "        2          \n",
       "       z    5⋅z   7\n",
       "g(z) = ── - ─── + ─\n",
       "       3     3    3"
      ]
     },
     "execution_count": 35,
     "metadata": {},
     "output_type": "execute_result"
    }
   ],
   "source": [
    "g_inverse = g_inverse.subs(eigenvals)\n",
    "g_inverse"
   ]
  },
  {
   "cell_type": "code",
   "execution_count": 36,
   "metadata": {
    "collapsed": false
   },
   "outputs": [
    {
     "data": {
      "image/png": "[encoded data removed]",
      "text/latex": [
       "$$\\left[\\begin{matrix}1 & 0 & 0\\\\- \\frac{1}{3} & 1 & \\frac{1}{3}\\\\\\frac{2}{3} & 0 & \\frac{1}{3}\\end{matrix}\\right]$$"
      ],
      "text/plain": [
       "⎡ 1    0   0 ⎤\n",
       "⎢            ⎥\n",
       "⎢-1/3  1  1/3⎥\n",
       "⎢            ⎥\n",
       "⎣2/3   0  1/3⎦"
      ]
     },
     "execution_count": 36,
     "metadata": {},
     "output_type": "execute_result"
    }
   ],
   "source": [
    "with lift_to_matrix_function(g_inverse) as g_inverse:\n",
    "    m_inverse = g_inverse(m)\n",
    "m_inverse"
   ]
  },
  {
   "cell_type": "code",
   "execution_count": 37,
   "metadata": {
    "collapsed": false
   },
   "outputs": [
    {
     "data": {
      "image/png": "[encoded data removed]",
      "text/latex": [
       "$$\\left[\\begin{matrix}1 & 0 & 0\\\\- \\frac{1}{3} & 1 & \\frac{1}{3}\\\\\\frac{2}{3} & 0 & \\frac{1}{3}\\end{matrix}\\right]$$"
      ],
      "text/plain": [
       "⎡ 1    0   0 ⎤\n",
       "⎢            ⎥\n",
       "⎢-1/3  1  1/3⎥\n",
       "⎢            ⎥\n",
       "⎣2/3   0  1/3⎦"
      ]
     },
     "execution_count": 37,
     "metadata": {},
     "output_type": "execute_result"
    }
   ],
   "source": [
    "m**(-1)"
   ]
  },
  {
   "cell_type": "markdown",
   "metadata": {},
   "source": [
    "---\n",
    "<a rel=\"license\" href=\"http://creativecommons.org/licenses/by-nc-sa/4.0/\"><img alt=\"Creative Commons License\" style=\"border-width:0\" src=\"https://i.creativecommons.org/l/by-nc-sa/4.0/88x31.png\" /></a><br />This work is licensed under a <a rel=\"license\" href=\"http://creativecommons.org/licenses/by-nc-sa/4.0/\">Creative Commons Attribution-NonCommercial-ShareAlike 4.0 International License</a>."
   ]
  }
 ],
 "metadata": {
  "kernelspec": {
   "display_name": "Python 3",
   "language": "python",
   "name": "python3"
  },
  "language_info": {
   "codemirror_mode": {
    "name": "ipython",
    "version": 3
   },
   "file_extension": ".py",
   "mimetype": "text/x-python",
   "name": "python",
   "nbconvert_exporter": "python",
   "pygments_lexer": "ipython3",
   "version": "3.5.2"
  }
 },
 "nbformat": 4,
 "nbformat_minor": 1
}
