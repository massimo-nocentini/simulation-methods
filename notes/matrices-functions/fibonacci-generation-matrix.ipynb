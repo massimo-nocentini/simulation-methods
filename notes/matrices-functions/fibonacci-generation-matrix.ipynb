{
 "cells": [
  {
   "cell_type": "markdown",
   "metadata": {
    "deletable": true,
    "editable": true
   },
   "source": [
    "<p>\n",
    "<img src=\"http://www.cerm.unifi.it/chianti/images/logo%20unifi_positivo.jpg\" \n",
    "        alt=\"UniFI logo\" style=\"float: left; width: 20%; height: 20%;\">\n",
    "<div align=\"right\">\n",
    "Massimo Nocentini<br>\n",
    "<small>\n",
    "<br>November 9, 2016: splitting from \"big\" notebook\n",
    "</small>\n",
    "</div>\n",
    "</p>\n",
    "<br>\n",
    "<br>\n",
    "<div align=\"center\">\n",
    "<b>Abstract</b><br>\n",
    "Theory of matrix functions applied to Fibonacci matrix and a matrix with a eigenvalue with multiplicity greater than 1.\n",
    "</div>"
   ]
  },
  {
   "cell_type": "code",
   "execution_count": 1,
   "metadata": {
    "collapsed": true,
    "deletable": true,
    "editable": true
   },
   "outputs": [],
   "source": [
    "from sympy import *\n",
    "from sympy.abc import n, i, N, x, lamda, phi, z, j, r, k, a\n",
    "\n",
    "from commons import *\n",
    "from matrix_functions import *\n",
    "from sequences import *\n",
    "import functions_catalog\n",
    "\n",
    "init_printing()"
   ]
  },
  {
   "cell_type": "markdown",
   "metadata": {
    "deletable": true,
    "editable": true
   },
   "source": [
    "# Fibonacci matrix"
   ]
  },
  {
   "cell_type": "code",
   "execution_count": 2,
   "metadata": {
    "collapsed": false,
    "deletable": true,
    "editable": true
   },
   "outputs": [
    {
     "data": {
      "image/png": "[encoded data removed]",
      "text/latex": [
       "$$\\mathcal{F} = \\left[\\begin{matrix}1 & 1\\\\1 & 0\\end{matrix}\\right]$$"
      ],
      "text/plain": [
       "              ⎡1  1⎤\n",
       "\\mathcal{F} = ⎢    ⎥\n",
       "              ⎣1  0⎦"
      ]
     },
     "execution_count": 2,
     "metadata": {},
     "output_type": "execute_result"
    }
   ],
   "source": [
    "F = define(Symbol(r'\\mathcal{F}'), Matrix([[1, 1], [1, 0]]))\n",
    "F"
   ]
  },
  {
   "cell_type": "code",
   "execution_count": 3,
   "metadata": {
    "collapsed": true,
    "deletable": true,
    "editable": true
   },
   "outputs": [],
   "source": [
    "m = F.rhs.rows"
   ]
  },
  {
   "cell_type": "code",
   "execution_count": 4,
   "metadata": {
    "collapsed": false,
    "deletable": true,
    "editable": true
   },
   "outputs": [
    {
     "data": {
      "image/png": "[encoded data removed]",
      "text/latex": [
       "$$\\sigma{\\left (\\mathcal{F} \\right )} = \\left ( \\left \\{ 1 : \\left ( \\lambda_{1}, \\quad m_{1}\\right ), \\quad 2 : \\left ( \\lambda_{2}, \\quad m_{2}\\right )\\right \\}, \\quad \\left \\{ \\lambda_{1} : - \\frac{\\sqrt{5}}{2} + \\frac{1}{2}, \\quad \\lambda_{2} : \\frac{1}{2} + \\frac{\\sqrt{5}}{2}\\right \\}, \\quad \\left \\{ m_{1} : 1, \\quad m_{2} : 1\\right \\}\\right )$$"
      ],
      "text/plain": [
       "                      ⎛                                                ⎧      \n",
       "\\sigma(\\mathcal{F}) = ⎜{1: (\\lambda[1], m[1]), 2: (\\lambda[2], m[2])}, ⎨\\lambd\n",
       "                      ⎝                                                ⎩      \n",
       "\n",
       "        √5   1              1   √5⎫                    ⎞\n",
       "a[1]: - ── + ─, \\lambda[2]: ─ + ──⎬, {m[1]: 1, m[2]: 1}⎟\n",
       "        2    2              2   2 ⎭                    ⎠"
      ]
     },
     "execution_count": 4,
     "metadata": {},
     "output_type": "execute_result"
    }
   ],
   "source": [
    "eigendata = spectrum(F)\n",
    "eigendata"
   ]
  },
  {
   "cell_type": "code",
   "execution_count": 5,
   "metadata": {
    "collapsed": true,
    "deletable": true,
    "editable": true
   },
   "outputs": [],
   "source": [
    "data, eigenvals, multiplicities = eigendata.rhs"
   ]
  },
  {
   "cell_type": "code",
   "execution_count": 6,
   "metadata": {
    "collapsed": false,
    "deletable": true,
    "editable": true
   },
   "outputs": [
    {
     "data": {
      "image/png": "[encoded data removed]",
      "text/latex": [
       "$$\\Phi{\\left (z,i,j \\right )} = z \\phi_{i,j,0} + \\phi_{i,j,1}$$"
      ],
      "text/plain": [
       "\\Phi(z, i, j) = z⋅\\phi[i, j, 0] + \\phi[i, j, 1]"
      ]
     },
     "execution_count": 6,
     "metadata": {},
     "output_type": "execute_result"
    }
   ],
   "source": [
    "Phi_poly = Phi_poly_ctor(deg=m-1)\n",
    "Phi_poly"
   ]
  },
  {
   "cell_type": "code",
   "execution_count": 7,
   "metadata": {
    "collapsed": false,
    "deletable": true,
    "editable": true
   },
   "outputs": [
    {
     "data": {
      "image/png": "[encoded data removed]",
      "text/latex": [
       "$$\\left \\{ \\left ( 1, \\quad 1\\right ) : \\Phi_{ 1, 1 }{\\left (z \\right )} = \\frac{z}{\\lambda_{1} - \\lambda_{2}} - \\frac{\\lambda_{2}}{\\lambda_{1} - \\lambda_{2}}, \\quad \\left ( 2, \\quad 1\\right ) : \\Phi_{ 2, 1 }{\\left (z \\right )} = - \\frac{z}{\\lambda_{1} - \\lambda_{2}} + \\frac{\\lambda_{1}}{\\lambda_{1} - \\lambda_{2}}\\right \\}$$"
      ],
      "text/plain": [
       "⎧                                      z                     \\lambda[2]       \n",
       "⎨(1, 1): \\Phi_{ 1, 1 }(z) = ─────────────────────── - ───────────────────────,\n",
       "⎩                           \\lambda[1] - \\lambda[2]   \\lambda[1] - \\lambda[2] \n",
       "\n",
       "                                         z                     \\lambda[1]     \n",
       " (2, 1): \\Phi_{ 2, 1 }(z) = - ─────────────────────── + ──────────────────────\n",
       "                              \\lambda[1] - \\lambda[2]   \\lambda[1] - \\lambda[2\n",
       "\n",
       " ⎫\n",
       "─⎬\n",
       "]⎭"
      ]
     },
     "execution_count": 7,
     "metadata": {},
     "output_type": "execute_result"
    }
   ],
   "source": [
    "Phi_polynomials = component_polynomials(eigendata)\n",
    "Phi_polynomials"
   ]
  },
  {
   "cell_type": "code",
   "execution_count": 8,
   "metadata": {
    "collapsed": false,
    "deletable": true,
    "editable": true
   },
   "outputs": [
    {
     "data": {
      "image/png": "[encoded data removed]",
      "text/latex": [
       "$$\\left \\{ \\left ( 1, \\quad 1\\right ) : Z^{\\left[ \\mathcal{F} \\right]}_{1,1} = \\left[\\begin{matrix}- \\frac{\\lambda_{2} - 1}{\\lambda_{1} - \\lambda_{2}} & \\frac{1}{\\lambda_{1} - \\lambda_{2}}\\\\\\frac{1}{\\lambda_{1} - \\lambda_{2}} & - \\frac{\\lambda_{2}}{\\lambda_{1} - \\lambda_{2}}\\end{matrix}\\right], \\quad \\left ( 2, \\quad 1\\right ) : Z^{\\left[ \\mathcal{F} \\right]}_{2,1} = \\left[\\begin{matrix}\\frac{\\lambda_{1} - 1}{\\lambda_{1} - \\lambda_{2}} & - \\frac{1}{\\lambda_{1} - \\lambda_{2}}\\\\- \\frac{1}{\\lambda_{1} - \\lambda_{2}} & \\frac{\\lambda_{1}}{\\lambda_{1} - \\lambda_{2}}\\end{matrix}\\right]\\right \\}$$"
      ],
      "text/plain": [
       "⎧                                               ⎡   -(\\lambda[2] - 1)         \n",
       "⎪                                               ⎢───────────────────────  ────\n",
       "⎪                                               ⎢\\lambda[1] - \\lambda[2]  \\lam\n",
       "⎨(1, 1): Z^{\\left[ \\mathcal{F} \\right]}[1, 1] = ⎢                             \n",
       "⎪                                               ⎢           1                 \n",
       "⎪                                               ⎢───────────────────────  ────\n",
       "⎩                                               ⎣\\lambda[1] - \\lambda[2]  \\lam\n",
       "\n",
       "       1           ⎤                                                 ⎡     \\la\n",
       "───────────────────⎥                                                 ⎢────────\n",
       "bda[1] - \\lambda[2]⎥                                                 ⎢\\lambda[\n",
       "                   ⎥, (2, 1): Z^{\\left[ \\mathcal{F} \\right]}[2, 1] = ⎢        \n",
       "  -\\lambda[2]      ⎥                                                 ⎢        \n",
       "───────────────────⎥                                                 ⎢────────\n",
       "bda[1] - \\lambda[2]⎦                                                 ⎣\\lambda[\n",
       "\n",
       "mbda[1] - 1                -1           ⎤⎫\n",
       "───────────────  ───────────────────────⎥⎪\n",
       "1] - \\lambda[2]  \\lambda[1] - \\lambda[2]⎥⎪\n",
       "                                        ⎥⎬\n",
       "  -1                    \\lambda[1]      ⎥⎪\n",
       "───────────────  ───────────────────────⎥⎪\n",
       "1] - \\lambda[2]  \\lambda[1] - \\lambda[2]⎦⎭"
      ]
     },
     "execution_count": 8,
     "metadata": {},
     "output_type": "execute_result"
    }
   ],
   "source": [
    "cmatrices = component_matrices(F, Phi_polynomials)\n",
    "cmatrices"
   ]
  },
  {
   "cell_type": "code",
   "execution_count": 9,
   "metadata": {
    "collapsed": true,
    "deletable": true,
    "editable": true
   },
   "outputs": [],
   "source": [
    "Z_11 = cmatrices[1,1].rhs"
   ]
  },
  {
   "cell_type": "code",
   "execution_count": 13,
   "metadata": {
    "collapsed": false
   },
   "outputs": [],
   "source": [
    "assert (F.rhs * Z_11 - Z_11 * F.rhs).simplify() == zeros(2)"
   ]
  },
  {
   "cell_type": "code",
   "execution_count": 14,
   "metadata": {
    "collapsed": false,
    "deletable": true,
    "editable": true
   },
   "outputs": [],
   "source": [
    "assert (Z_11*Z_11 - Z_11).subs(eigenvals).applyfunc(simplify) == zeros(2)"
   ]
  },
  {
   "cell_type": "code",
   "execution_count": 12,
   "metadata": {
    "collapsed": false,
    "deletable": true,
    "editable": true
   },
   "outputs": [
    {
     "data": {
      "image/png": "[encoded data removed]",
      "text/latex": [
       "$$\\left ( \\left[\\begin{matrix}\\frac{\\lambda_{1} - 1}{\\lambda_{1} - \\lambda_{2}} - \\frac{\\lambda_{2} - 1}{\\lambda_{1} - \\lambda_{2}} & 0\\\\0 & \\frac{\\lambda_{1}}{\\lambda_{1} - \\lambda_{2}} - \\frac{\\lambda_{2}}{\\lambda_{1} - \\lambda_{2}}\\end{matrix}\\right], \\quad \\left[\\begin{matrix}1 & 0\\\\0 & 1\\end{matrix}\\right], \\quad \\left[\\begin{matrix}1 & 0\\\\0 & 1\\end{matrix}\\right]\\right )$$"
      ],
      "text/plain": [
       "⎛⎡     \\lambda[1] - 1            \\lambda[2] - 1                               \n",
       "⎜⎢─────────────────────── - ───────────────────────                          0\n",
       "⎜⎢\\lambda[1] - \\lambda[2]   \\lambda[1] - \\lambda[2]                           \n",
       "⎜⎢                                                                            \n",
       "⎜⎢                                                          \\lambda[1]        \n",
       "⎜⎢                        0                          ─────────────────────── -\n",
       "⎝⎣                                                   \\lambda[1] - \\lambda[2]  \n",
       "\n",
       "                        ⎤                ⎞\n",
       "                        ⎥                ⎟\n",
       "                        ⎥  ⎡1  0⎤  ⎡1  0⎤⎟\n",
       "                        ⎥, ⎢    ⎥, ⎢    ⎥⎟\n",
       "        \\lambda[2]      ⎥  ⎣0  1⎦  ⎣0  1⎦⎟\n",
       " ───────────────────────⎥                ⎟\n",
       " \\lambda[1] - \\lambda[2]⎦                ⎠"
      ]
     },
     "execution_count": 12,
     "metadata": {},
     "output_type": "execute_result"
    }
   ],
   "source": [
    "Zi1 = list(cm.rhs.as_immutable() for (i, j), cm in cmatrices.items() if j == 1)\n",
    "\n",
    "s = zeros(m)\n",
    "for Z in Zi1:\n",
    "    s += Z\n",
    "s, s.simplify(), s.subs(eigenvals).applyfunc(simplify)"
   ]
  },
  {
   "cell_type": "code",
   "execution_count": 14,
   "metadata": {
    "collapsed": false,
    "deletable": true,
    "editable": true
   },
   "outputs": [
    {
     "data": {
      "image/png": "[encoded data removed]",
      "text/latex": [
       "$$\\left \\{ 1 : \\left \\{ 1 : \\boldsymbol{x}_{1,1} = \\left[\\begin{matrix}- \\frac{\\left(\\lambda_{2} - 1\\right) v_{0}}{\\lambda_{1} - \\lambda_{2}} + \\frac{v_{1}}{\\lambda_{1} - \\lambda_{2}}\\\\- \\frac{\\lambda_{2} v_{1}}{\\lambda_{1} - \\lambda_{2}} + \\frac{v_{0}}{\\lambda_{1} - \\lambda_{2}}\\end{matrix}\\right]\\right \\}, \\quad 2 : \\left \\{ 1 : \\boldsymbol{x}_{2,1} = \\left[\\begin{matrix}\\frac{\\left(\\lambda_{1} - 1\\right) v_{0}}{\\lambda_{1} - \\lambda_{2}} - \\frac{v_{1}}{\\lambda_{1} - \\lambda_{2}}\\\\\\frac{\\lambda_{1} v_{1}}{\\lambda_{1} - \\lambda_{2}} - \\frac{v_{0}}{\\lambda_{1} - \\lambda_{2}}\\end{matrix}\\right]\\right \\}\\right \\}$$"
      ],
      "text/plain": [
       "⎧   ⎧                          ⎡   (\\lambda[2] - 1)⋅v[0]              v[1]    \n",
       "⎪   ⎪                          ⎢- ─────────────────────── + ──────────────────\n",
       "⎪   ⎪                          ⎢  \\lambda[1] - \\lambda[2]   \\lambda[1] - \\lamb\n",
       "⎨1: ⎨1: \\boldsymbol{x}[1, 1] = ⎢                                              \n",
       "⎪   ⎪                          ⎢      \\lambda[2]⋅v[1]                 v[0]    \n",
       "⎪   ⎪                          ⎢- ─────────────────────── + ──────────────────\n",
       "⎩   ⎩                          ⎣  \\lambda[1] - \\lambda[2]   \\lambda[1] - \\lamb\n",
       "\n",
       "     ⎤⎫     ⎧                          ⎡ (\\lambda[1] - 1)⋅v[0]              v[\n",
       "─────⎥⎪     ⎪                          ⎢─────────────────────── - ────────────\n",
       "da[2]⎥⎪     ⎪                          ⎢\\lambda[1] - \\lambda[2]   \\lambda[1] -\n",
       "     ⎥⎬, 2: ⎨1: \\boldsymbol{x}[2, 1] = ⎢                                      \n",
       "     ⎥⎪     ⎪                          ⎢    \\lambda[1]⋅v[1]                 v[\n",
       "─────⎥⎪     ⎪                          ⎢─────────────────────── - ────────────\n",
       "da[2]⎦⎭     ⎩                          ⎣\\lambda[1] - \\lambda[2]   \\lambda[1] -\n",
       "\n",
       "1]         ⎤⎫⎫\n",
       "───────────⎥⎪⎪\n",
       " \\lambda[2]⎥⎪⎪\n",
       "           ⎥⎬⎬\n",
       "0]         ⎥⎪⎪\n",
       "───────────⎥⎪⎪\n",
       " \\lambda[2]⎦⎭⎭"
      ]
     },
     "execution_count": 14,
     "metadata": {},
     "output_type": "execute_result"
    }
   ],
   "source": [
    "v = IndexedBase('v')\n",
    "v_vector = Matrix(m, 1, lambda i, _: v[i])\n",
    "M_space_ctor = M_space(cmatrices)\n",
    "M_space_v = M_space_ctor(v_vector)\n",
    "M_space_v"
   ]
  },
  {
   "cell_type": "code",
   "execution_count": 15,
   "metadata": {
    "collapsed": false,
    "deletable": true,
    "editable": true
   },
   "outputs": [
    {
     "data": {
      "image/png": "[encoded data removed]",
      "text/latex": [
       "$$\\left[\\begin{matrix}- \\frac{\\left(\\lambda_{2} - 1\\right) v_{0}}{\\lambda_{1} - \\lambda_{2}} - \\frac{\\lambda_{2} v_{1}}{\\lambda_{1} - \\lambda_{2}} + \\frac{v_{0}}{\\lambda_{1} - \\lambda_{2}} + \\frac{v_{1}}{\\lambda_{1} - \\lambda_{2}}\\\\- \\frac{\\left(\\lambda_{2} - 1\\right) v_{0}}{\\lambda_{1} - \\lambda_{2}} + \\frac{v_{1}}{\\lambda_{1} - \\lambda_{2}}\\end{matrix}\\right] = \\left[\\begin{matrix}\\left(- \\frac{\\left(\\lambda_{2} - 1\\right) v_{0}}{\\lambda_{1} - \\lambda_{2}} + \\frac{v_{1}}{\\lambda_{1} - \\lambda_{2}}\\right) \\lambda_{1}\\\\\\left(- \\frac{\\lambda_{2} v_{1}}{\\lambda_{1} - \\lambda_{2}} + \\frac{v_{0}}{\\lambda_{1} - \\lambda_{2}}\\right) \\lambda_{1}\\end{matrix}\\right]$$"
      ],
      "text/plain": [
       "⎡   (\\lambda[2] - 1)⋅v[0]        \\lambda[2]⋅v[1]                 v[0]         \n",
       "⎢- ─────────────────────── - ─────────────────────── + ───────────────────────\n",
       "⎢  \\lambda[1] - \\lambda[2]   \\lambda[1] - \\lambda[2]   \\lambda[1] - \\lambda[2]\n",
       "⎢                                                                             \n",
       "⎢                             (\\lambda[2] - 1)⋅v[0]              v[1]         \n",
       "⎢                          - ─────────────────────── + ───────────────────────\n",
       "⎣                            \\lambda[1] - \\lambda[2]   \\lambda[1] - \\lambda[2]\n",
       "\n",
       "             v[1]         ⎤   ⎡⎛   (\\lambda[2] - 1)⋅v[0]              v[1]    \n",
       " + ───────────────────────⎥   ⎢⎜- ─────────────────────── + ──────────────────\n",
       "   \\lambda[1] - \\lambda[2]⎥   ⎢⎝  \\lambda[1] - \\lambda[2]   \\lambda[1] - \\lamb\n",
       "                          ⎥ = ⎢                                               \n",
       "                          ⎥   ⎢⎛      \\lambda[2]⋅v[1]                 v[0]    \n",
       "                          ⎥   ⎢⎜- ─────────────────────── + ──────────────────\n",
       "                          ⎦   ⎣⎝  \\lambda[1] - \\lambda[2]   \\lambda[1] - \\lamb\n",
       "\n",
       "     ⎞           ⎤\n",
       "─────⎟⋅\\lambda[1]⎥\n",
       "da[2]⎠           ⎥\n",
       "                 ⎥\n",
       "     ⎞           ⎥\n",
       "─────⎟⋅\\lambda[1]⎥\n",
       "da[2]⎠           ⎦"
      ]
     },
     "execution_count": 15,
     "metadata": {},
     "output_type": "execute_result"
    }
   ],
   "source": [
    "i = 1\n",
    "eq = Eq(F.rhs*M_space_v[i][1].rhs, M_space_v[i][1].rhs.applyfunc(lambda k: k * data[i][0]))\n",
    "eq"
   ]
  },
  {
   "cell_type": "code",
   "execution_count": 33,
   "metadata": {
    "collapsed": false,
    "deletable": true,
    "editable": true
   },
   "outputs": [],
   "source": [
    "assert (eq.lhs.applyfunc(lambda i: i.subs(eigenvals).ratsimp()) == \n",
    "        eq.rhs.applyfunc(lambda i: i.subs(eigenvals).ratsimp()))"
   ]
  },
  {
   "cell_type": "code",
   "execution_count": 19,
   "metadata": {
    "collapsed": false,
    "deletable": true,
    "editable": true
   },
   "outputs": [
    {
     "data": {
      "image/png": "[encoded data removed]",
      "text/latex": [
       "$$\\left \\{ 1 : X_{1} = \\left[\\begin{matrix}- \\frac{\\left(\\lambda_{2} - 1\\right) v_{0}}{\\lambda_{1} - \\lambda_{2}} + \\frac{v_{1}}{\\lambda_{1} - \\lambda_{2}}\\\\- \\frac{\\lambda_{2} v_{1}}{\\lambda_{1} - \\lambda_{2}} + \\frac{v_{0}}{\\lambda_{1} - \\lambda_{2}}\\end{matrix}\\right], \\quad 2 : X_{2} = \\left[\\begin{matrix}\\frac{\\left(\\lambda_{1} - 1\\right) v_{0}}{\\lambda_{1} - \\lambda_{2}} - \\frac{v_{1}}{\\lambda_{1} - \\lambda_{2}}\\\\\\frac{\\lambda_{1} v_{1}}{\\lambda_{1} - \\lambda_{2}} - \\frac{v_{0}}{\\lambda_{1} - \\lambda_{2}}\\end{matrix}\\right]\\right \\}$$"
      ],
      "text/plain": [
       "⎧          ⎡   (\\lambda[2] - 1)⋅v[0]              v[1]         ⎤            ⎡ \n",
       "⎪          ⎢- ─────────────────────── + ───────────────────────⎥            ⎢─\n",
       "⎪          ⎢  \\lambda[1] - \\lambda[2]   \\lambda[1] - \\lambda[2]⎥            ⎢\\\n",
       "⎨1: X[1] = ⎢                                                   ⎥, 2: X[2] = ⎢ \n",
       "⎪          ⎢      \\lambda[2]⋅v[1]                 v[0]         ⎥            ⎢ \n",
       "⎪          ⎢- ─────────────────────── + ───────────────────────⎥            ⎢─\n",
       "⎩          ⎣  \\lambda[1] - \\lambda[2]   \\lambda[1] - \\lambda[2]⎦            ⎣\\\n",
       "\n",
       "(\\lambda[1] - 1)⋅v[0]              v[1]         ⎤⎫\n",
       "────────────────────── - ───────────────────────⎥⎪\n",
       "lambda[1] - \\lambda[2]   \\lambda[1] - \\lambda[2]⎥⎪\n",
       "                                                ⎥⎬\n",
       "   \\lambda[1]⋅v[1]                 v[0]         ⎥⎪\n",
       "────────────────────── - ───────────────────────⎥⎪\n",
       "lambda[1] - \\lambda[2]   \\lambda[1] - \\lambda[2]⎦⎭"
      ]
     },
     "execution_count": 19,
     "metadata": {},
     "output_type": "execute_result"
    }
   ],
   "source": [
    "GEs = generalized_eigenvectors_matrices(M_space_v)\n",
    "GEs # actually, not necessary for Jordan Normal Form computation"
   ]
  },
  {
   "cell_type": "code",
   "execution_count": 20,
   "metadata": {
    "collapsed": true,
    "deletable": true,
    "editable": true
   },
   "outputs": [],
   "source": [
    "relations = generalized_eigenvectors_relations(eigendata)"
   ]
  },
  {
   "cell_type": "code",
   "execution_count": 29,
   "metadata": {
    "collapsed": false,
    "deletable": true,
    "editable": true
   },
   "outputs": [
    {
     "data": {
      "image/png": "[encoded data removed]",
      "text/latex": [
       "$$\\left \\{ 1 : \\left \\{ 1 : \\left[\\begin{matrix}- \\frac{3 \\sqrt{5}}{10} v_{0} + \\frac{v_{0}}{2} - \\frac{\\sqrt{5} v_{1}}{10} + \\frac{v_{1}}{2}\\\\- \\frac{\\sqrt{5} v_{0}}{10} + \\frac{v_{0}}{2} - \\frac{\\sqrt{5} v_{1}}{5}\\end{matrix}\\right] = \\left[\\begin{matrix}- \\frac{3 \\sqrt{5}}{10} v_{0} + \\frac{v_{0}}{2} - \\frac{\\sqrt{5} v_{1}}{10} + \\frac{v_{1}}{2}\\\\- \\frac{\\sqrt{5} v_{0}}{10} + \\frac{v_{0}}{2} - \\frac{\\sqrt{5} v_{1}}{5}\\end{matrix}\\right]\\right \\}, \\quad 2 : \\left \\{ 1 : \\left[\\begin{matrix}\\frac{v_{0}}{2} + \\frac{3 \\sqrt{5}}{10} v_{0} + \\frac{\\sqrt{5} v_{1}}{10} + \\frac{v_{1}}{2}\\\\\\frac{\\sqrt{5} v_{0}}{10} + \\frac{v_{0}}{2} + \\frac{\\sqrt{5} v_{1}}{5}\\end{matrix}\\right] = \\left[\\begin{matrix}\\frac{v_{0}}{2} + \\frac{3 \\sqrt{5}}{10} v_{0} + \\frac{\\sqrt{5} v_{1}}{10} + \\frac{v_{1}}{2}\\\\\\frac{\\sqrt{5} v_{0}}{10} + \\frac{v_{0}}{2} + \\frac{\\sqrt{5} v_{1}}{5}\\end{matrix}\\right]\\right \\}\\right \\}$$"
      ],
      "text/plain": [
       "⎧   ⎧   ⎡  3⋅√5⋅v[0]   v[0]   √5⋅v[1]   v[1]⎤   ⎡  3⋅√5⋅v[0]   v[0]   √5⋅v[1] \n",
       "⎪   ⎪   ⎢- ───────── + ──── - ─────── + ────⎥   ⎢- ───────── + ──── - ─────── \n",
       "⎪   ⎪   ⎢      10       2        10      2  ⎥   ⎢      10       2        10   \n",
       "⎨1: ⎨1: ⎢                                   ⎥ = ⎢                             \n",
       "⎪   ⎪   ⎢      √5⋅v[0]   v[0]   √5⋅v[1]     ⎥   ⎢      √5⋅v[0]   v[0]   √5⋅v[1\n",
       "⎪   ⎪   ⎢    - ─────── + ──── - ───────     ⎥   ⎢    - ─────── + ──── - ──────\n",
       "⎩   ⎩   ⎣         10      2        5        ⎦   ⎣         10      2        5  \n",
       "\n",
       "  v[1]⎤⎫     ⎧   ⎡v[0]   3⋅√5⋅v[0]   √5⋅v[1]   v[1]⎤   ⎡v[0]   3⋅√5⋅v[0]   √5⋅\n",
       "+ ────⎥⎪     ⎪   ⎢──── + ───────── + ─────── + ────⎥   ⎢──── + ───────── + ───\n",
       "   2  ⎥⎪     ⎪   ⎢ 2         10         10      2  ⎥   ⎢ 2         10         \n",
       "      ⎥⎬, 2: ⎨1: ⎢                                 ⎥ = ⎢                      \n",
       "]     ⎥⎪     ⎪   ⎢    √5⋅v[0]   v[0]   √5⋅v[1]     ⎥   ⎢    √5⋅v[0]   v[0]   √\n",
       "─     ⎥⎪     ⎪   ⎢    ─────── + ──── + ───────     ⎥   ⎢    ─────── + ──── + ─\n",
       "      ⎦⎭     ⎩   ⎣       10      2        5        ⎦   ⎣       10      2      \n",
       "\n",
       "v[1]   v[1]⎤⎫⎫\n",
       "──── + ────⎥⎪⎪\n",
       "10      2  ⎥⎪⎪\n",
       "           ⎥⎬⎬\n",
       "5⋅v[1]     ⎥⎪⎪\n",
       "──────     ⎥⎪⎪\n",
       "  5        ⎦⎭⎭"
      ]
     },
     "execution_count": 29,
     "metadata": {},
     "output_type": "execute_result"
    }
   ],
   "source": [
    "eqs = relations(F.rhs, M_space_v,post=lambda i: i.subs(eigenvals).ratsimp())\n",
    "eqs"
   ]
  },
  {
   "cell_type": "code",
   "execution_count": 23,
   "metadata": {
    "collapsed": false,
    "deletable": true,
    "editable": true
   },
   "outputs": [
    {
     "data": {
      "image/png": "[encoded data removed]",
      "text/latex": [
       "$$\\left \\{ 1 : \\left \\{ 1 : \\left[\\begin{matrix}\\lambda_{1}\\end{matrix}\\right]\\right \\}, \\quad 2 : \\left \\{ 1 : \\left[\\begin{matrix}\\lambda_{2}\\end{matrix}\\right]\\right \\}\\right \\}$$"
      ],
      "text/plain": [
       "{1: {1: [\\lambda[1]]}, 2: {1: [\\lambda[2]]}}"
      ]
     },
     "execution_count": 23,
     "metadata": {},
     "output_type": "execute_result"
    }
   ],
   "source": [
    "miniblocks = Jordan_blocks(eigendata)\n",
    "miniblocks"
   ]
  },
  {
   "cell_type": "code",
   "execution_count": 25,
   "metadata": {
    "collapsed": false,
    "deletable": true,
    "editable": true
   },
   "outputs": [],
   "source": [
    "X, J = Jordan_normalform(eigendata, matrices=(F.rhs, M_space_v, miniblocks))"
   ]
  },
  {
   "cell_type": "code",
   "execution_count": 26,
   "metadata": {
    "collapsed": false,
    "deletable": true,
    "editable": true
   },
   "outputs": [
    {
     "data": {
      "image/png": "[encoded data removed]",
      "text/latex": [
       "$$X = \\left[\\begin{matrix}- \\frac{\\left(\\lambda_{2} - 1\\right) v_{0}}{\\lambda_{1} - \\lambda_{2}} + \\frac{v_{1}}{\\lambda_{1} - \\lambda_{2}} & \\frac{\\left(\\lambda_{1} - 1\\right) v_{0}}{\\lambda_{1} - \\lambda_{2}} - \\frac{v_{1}}{\\lambda_{1} - \\lambda_{2}}\\\\- \\frac{\\lambda_{2} v_{1}}{\\lambda_{1} - \\lambda_{2}} + \\frac{v_{0}}{\\lambda_{1} - \\lambda_{2}} & \\frac{\\lambda_{1} v_{1}}{\\lambda_{1} - \\lambda_{2}} - \\frac{v_{0}}{\\lambda_{1} - \\lambda_{2}}\\end{matrix}\\right]$$"
      ],
      "text/plain": [
       "    ⎡   (\\lambda[2] - 1)⋅v[0]              v[1]            (\\lambda[1] - 1)⋅v[\n",
       "    ⎢- ─────────────────────── + ───────────────────────  ────────────────────\n",
       "    ⎢  \\lambda[1] - \\lambda[2]   \\lambda[1] - \\lambda[2]  \\lambda[1] - \\lambda\n",
       "X = ⎢                                                                         \n",
       "    ⎢      \\lambda[2]⋅v[1]                 v[0]               \\lambda[1]⋅v[1] \n",
       "    ⎢- ─────────────────────── + ───────────────────────  ────────────────────\n",
       "    ⎣  \\lambda[1] - \\lambda[2]   \\lambda[1] - \\lambda[2]  \\lambda[1] - \\lambda\n",
       "\n",
       "0]              v[1]         ⎤\n",
       "─── - ───────────────────────⎥\n",
       "[2]   \\lambda[1] - \\lambda[2]⎥\n",
       "                             ⎥\n",
       "                v[0]         ⎥\n",
       "─── - ───────────────────────⎥\n",
       "[2]   \\lambda[1] - \\lambda[2]⎦"
      ]
     },
     "execution_count": 26,
     "metadata": {},
     "output_type": "execute_result"
    }
   ],
   "source": [
    "X"
   ]
  },
  {
   "cell_type": "code",
   "execution_count": 27,
   "metadata": {
    "collapsed": false,
    "deletable": true,
    "editable": true
   },
   "outputs": [
    {
     "data": {
      "image/png": "[encoded data removed]",
      "text/latex": [
       "$$J = \\left[\\begin{matrix}\\lambda_{1} & 0\\\\0 & \\lambda_{2}\\end{matrix}\\right]$$"
      ],
      "text/plain": [
       "    ⎡\\lambda[1]      0     ⎤\n",
       "J = ⎢                      ⎥\n",
       "    ⎣    0       \\lambda[2]⎦"
      ]
     },
     "execution_count": 27,
     "metadata": {},
     "output_type": "execute_result"
    }
   ],
   "source": [
    "J"
   ]
  },
  {
   "cell_type": "code",
   "execution_count": 34,
   "metadata": {
    "collapsed": false,
    "deletable": true,
    "editable": true
   },
   "outputs": [],
   "source": [
    "assert ((F.rhs*X.rhs).applyfunc(lambda i: i.subs(eigenvals).ratsimp()) ==\n",
    "        (X.rhs*J.rhs).applyfunc(lambda i: i.subs(eigenvals).ratsimp()))"
   ]
  },
  {
   "cell_type": "code",
   "execution_count": 37,
   "metadata": {
    "collapsed": false,
    "deletable": true,
    "editable": true
   },
   "outputs": [
    {
     "data": {
      "image/png": "[encoded data removed]",
      "text/latex": [
       "$$\\left[\\begin{matrix}- \\frac{\\sqrt{5}}{2} + \\frac{1}{2} & 0\\\\0 & \\frac{1}{2} + \\frac{\\sqrt{5}}{2}\\end{matrix}\\right]$$"
      ],
      "text/plain": [
       "⎡  √5   1        ⎤\n",
       "⎢- ── + ─    0   ⎥\n",
       "⎢  2    2        ⎥\n",
       "⎢                ⎥\n",
       "⎢          1   √5⎥\n",
       "⎢   0      ─ + ──⎥\n",
       "⎣          2   2 ⎦"
      ]
     },
     "execution_count": 37,
     "metadata": {},
     "output_type": "execute_result"
    }
   ],
   "source": [
    "fq = (X.rhs**(-1)*F.rhs*X.rhs).applyfunc(lambda i: i.subs(eigenvals).simplify())\n",
    "fq"
   ]
  },
  {
   "cell_type": "code",
   "execution_count": 39,
   "metadata": {
    "collapsed": false,
    "deletable": true,
    "editable": true
   },
   "outputs": [],
   "source": [
    "x = symbols('x', positive=True)\n",
    "assert (fq[0, 0].subs({v[0]:1, v[1]:x}).radsimp() == eigenvals[data[1][0]].radsimp())"
   ]
  },
  {
   "cell_type": "markdown",
   "metadata": {
    "deletable": true,
    "editable": true
   },
   "source": [
    "## `power` function"
   ]
  },
  {
   "cell_type": "code",
   "execution_count": 40,
   "metadata": {
    "collapsed": false,
    "deletable": true,
    "editable": true
   },
   "outputs": [
    {
     "data": {
      "image/png": "[encoded data removed]",
      "text/latex": [
       "$$f{\\left (z \\right )} = z^{r}$$"
      ],
      "text/plain": [
       "        r\n",
       "f(z) = z "
      ]
     },
     "execution_count": 40,
     "metadata": {},
     "output_type": "execute_result"
    }
   ],
   "source": [
    "f = Function('f')\n",
    "f_power = define(let=f(z), be=z**r)\n",
    "f_power"
   ]
  },
  {
   "cell_type": "code",
   "execution_count": 41,
   "metadata": {
    "collapsed": false,
    "deletable": true,
    "editable": true
   },
   "outputs": [
    {
     "data": {
      "image/png": "[encoded data removed]",
      "text/latex": [
       "$$\\operatorname{f_{ 2 }}{\\left (z \\right )} = z \\left(\\frac{\\lambda_{1}^{r}}{\\lambda_{1} - \\lambda_{2}} - \\frac{\\lambda_{2}^{r}}{\\lambda_{1} - \\lambda_{2}}\\right) + \\frac{\\lambda_{1} \\lambda_{2}^{r}}{\\lambda_{1} - \\lambda_{2}} - \\frac{\\lambda_{1}^{r} \\lambda_{2}}{\\lambda_{1} - \\lambda_{2}}$$"
      ],
      "text/plain": [
       "               ⎛                r                         r      ⎞            \n",
       "               ⎜      \\lambda[1]                \\lambda[2]       ⎟    \\lambda[\n",
       "f_{ 2 }(z) = z⋅⎜─────────────────────── - ───────────────────────⎟ + ─────────\n",
       "               ⎝\\lambda[1] - \\lambda[2]   \\lambda[1] - \\lambda[2]⎠   \\lambda[1\n",
       "\n",
       "             r              r           \n",
       "1]⋅\\lambda[2]     \\lambda[1] ⋅\\lambda[2]\n",
       "────────────── - ───────────────────────\n",
       "] - \\lambda[2]   \\lambda[1] - \\lambda[2]"
      ]
     },
     "execution_count": 41,
     "metadata": {},
     "output_type": "execute_result"
    }
   ],
   "source": [
    "g_power = Hermite_interpolation_polynomial(f_power, eigendata, Phi_polynomials)\n",
    "g_power"
   ]
  },
  {
   "cell_type": "code",
   "execution_count": 42,
   "metadata": {
    "collapsed": false,
    "deletable": true,
    "editable": true
   },
   "outputs": [
    {
     "data": {
      "image/png": "[encoded data removed]",
      "text/latex": [
       "$$\\operatorname{f_{ 2 }}{\\left (z \\right )} = z \\left(\\frac{\\sqrt{5}}{5} \\left(\\frac{1}{2} + \\frac{\\sqrt{5}}{2}\\right)^{r} - \\frac{\\sqrt{5}}{5} \\left(- \\frac{\\sqrt{5}}{2} + \\frac{1}{2}\\right)^{r}\\right) - \\frac{\\sqrt{5}}{5} \\left(\\frac{1}{2} + \\frac{\\sqrt{5}}{2}\\right)^{r} \\left(- \\frac{\\sqrt{5}}{2} + \\frac{1}{2}\\right) + \\frac{\\sqrt{5}}{5} \\left(\\frac{1}{2} + \\frac{\\sqrt{5}}{2}\\right) \\left(- \\frac{\\sqrt{5}}{2} + \\frac{1}{2}\\right)^{r}$$"
      ],
      "text/plain": [
       "               ⎛           r                r⎞              r                 \n",
       "               ⎜   ⎛1   √5⎞       ⎛  √5   1⎞ ⎟      ⎛1   √5⎞  ⎛  √5   1⎞      \n",
       "               ⎜√5⋅⎜─ + ──⎟    √5⋅⎜- ── + ─⎟ ⎟   √5⋅⎜─ + ──⎟ ⋅⎜- ── + ─⎟   √5⋅\n",
       "               ⎜   ⎝2   2 ⎠       ⎝  2    2⎠ ⎟      ⎝2   2 ⎠  ⎝  2    2⎠      \n",
       "f_{ 2 }(z) = z⋅⎜──────────── - ──────────────⎟ - ─────────────────────── + ───\n",
       "               ⎝     5               5       ⎠              5                 \n",
       "\n",
       "                   r\n",
       "⎛1   √5⎞ ⎛  √5   1⎞ \n",
       "⎜─ + ──⎟⋅⎜- ── + ─⎟ \n",
       "⎝2   2 ⎠ ⎝  2    2⎠ \n",
       "────────────────────\n",
       "        5           "
      ]
     },
     "execution_count": 42,
     "metadata": {},
     "output_type": "execute_result"
    }
   ],
   "source": [
    "g_power = g_power.subs(eigenvals)\n",
    "g_power"
   ]
  },
  {
   "cell_type": "code",
   "execution_count": 43,
   "metadata": {
    "collapsed": false,
    "deletable": true,
    "editable": true
   },
   "outputs": [
    {
     "data": {
      "image/png": "[encoded data removed]",
      "text/latex": [
       "$$\\operatorname{f_{ 2 }}{\\left (\\mathcal{F} \\right )} = \\left[\\begin{matrix}\\frac{2^{- r}}{10} \\left(\\sqrt{5} \\left(1 + \\sqrt{5}\\right)^{r} + 5 \\left(1 + \\sqrt{5}\\right)^{r} - \\sqrt{5} \\left(- \\sqrt{5} + 1\\right)^{r} + 5 \\left(- \\sqrt{5} + 1\\right)^{r}\\right) & \\frac{2^{- r}}{5} \\sqrt{5} \\left(\\left(1 + \\sqrt{5}\\right)^{r} - \\left(- \\sqrt{5} + 1\\right)^{r}\\right)\\\\\\frac{2^{- r}}{5} \\sqrt{5} \\left(\\left(1 + \\sqrt{5}\\right)^{r} - \\left(- \\sqrt{5} + 1\\right)^{r}\\right) & \\frac{2^{- r}}{10} \\left(- \\sqrt{5} \\left(1 + \\sqrt{5}\\right)^{r} + 5 \\left(1 + \\sqrt{5}\\right)^{r} + \\sqrt{5} \\left(- \\sqrt{5} + 1\\right)^{r} + 5 \\left(- \\sqrt{5} + 1\\right)^{r}\\right)\\end{matrix}\\right]$$"
      ],
      "text/plain": [
       "                       ⎡ -r ⎛           r             r               r       \n",
       "                       ⎢2  ⋅⎝√5⋅(1 + √5)  + 5⋅(1 + √5)  - √5⋅(-√5 + 1)  + 5⋅(-\n",
       "                       ⎢──────────────────────────────────────────────────────\n",
       "                       ⎢                               10                     \n",
       "f_{ 2 }(\\mathcal{F}) = ⎢                                                      \n",
       "                       ⎢                 -r    ⎛        r            r⎞       \n",
       "                       ⎢                2  ⋅√5⋅⎝(1 + √5)  - (-√5 + 1) ⎠       \n",
       "                       ⎢                ───────────────────────────────       \n",
       "                       ⎣                               5                      \n",
       "\n",
       "       r⎞                    -r    ⎛        r            r⎞                 ⎤\n",
       "√5 + 1) ⎠                   2  ⋅√5⋅⎝(1 + √5)  - (-√5 + 1) ⎠                 ⎥\n",
       "─────────                   ───────────────────────────────                 ⎥\n",
       "                                           5                                ⎥\n",
       "                                                                            ⎥\n",
       "            -r ⎛             r             r               r              r⎞⎥\n",
       "           2  ⋅⎝- √5⋅(1 + √5)  + 5⋅(1 + √5)  + √5⋅(-√5 + 1)  + 5⋅(-√5 + 1) ⎠⎥\n",
       "           ─────────────────────────────────────────────────────────────────⎥\n",
       "                                           10                               ⎦"
      ]
     },
     "execution_count": 43,
     "metadata": {},
     "output_type": "execute_result"
    }
   ],
   "source": [
    "with lift_to_matrix_function(g_power) as G_power:\n",
    "    m_power = G_power(F)\n",
    "m_power"
   ]
  },
  {
   "cell_type": "code",
   "execution_count": 44,
   "metadata": {
    "collapsed": false,
    "deletable": true,
    "editable": true
   },
   "outputs": [
    {
     "data": {
      "image/png": "[encoded data removed]",
      "text/latex": [
       "$$\\left[\\begin{matrix}34 & 21\\\\21 & 13\\end{matrix}\\right]$$"
      ],
      "text/plain": [
       "⎡34  21⎤\n",
       "⎢      ⎥\n",
       "⎣21  13⎦"
      ]
     },
     "execution_count": 44,
     "metadata": {},
     "output_type": "execute_result"
    }
   ],
   "source": [
    "m_power.rhs.subs(eigenvals).subs({r:8}).applyfunc(simplify)"
   ]
  },
  {
   "cell_type": "code",
   "execution_count": 45,
   "metadata": {
    "collapsed": false,
    "deletable": true,
    "editable": true
   },
   "outputs": [
    {
     "data": {
      "image/png": "[encoded data removed]",
      "text/latex": [
       "$$\\left[\\begin{matrix}- \\frac{\\left(\\frac{1}{2} + \\frac{\\sqrt{5}}{2}\\right)^{r}}{\\left(- \\frac{\\sqrt{5}}{2} + \\frac{1}{2}\\right) \\left(\\frac{1}{\\frac{1}{2} + \\frac{\\sqrt{5}}{2}} - \\frac{1}{- \\frac{\\sqrt{5}}{2} + \\frac{1}{2}}\\right)} + \\frac{\\left(- \\frac{\\sqrt{5}}{2} + \\frac{1}{2}\\right)^{r}}{\\left(\\frac{1}{2} + \\frac{\\sqrt{5}}{2}\\right) \\left(\\frac{1}{\\frac{1}{2} + \\frac{\\sqrt{5}}{2}} - \\frac{1}{- \\frac{\\sqrt{5}}{2} + \\frac{1}{2}}\\right)} & - \\frac{\\left(\\frac{1}{2} + \\frac{\\sqrt{5}}{2}\\right)^{r}}{\\left(\\frac{1}{2} + \\frac{\\sqrt{5}}{2}\\right) \\left(- \\frac{\\sqrt{5}}{2} + \\frac{1}{2}\\right) \\left(\\frac{1}{\\frac{1}{2} + \\frac{\\sqrt{5}}{2}} - \\frac{1}{- \\frac{\\sqrt{5}}{2} + \\frac{1}{2}}\\right)} + \\frac{\\left(- \\frac{\\sqrt{5}}{2} + \\frac{1}{2}\\right)^{r}}{\\left(\\frac{1}{2} + \\frac{\\sqrt{5}}{2}\\right) \\left(- \\frac{\\sqrt{5}}{2} + \\frac{1}{2}\\right) \\left(\\frac{1}{\\frac{1}{2} + \\frac{\\sqrt{5}}{2}} - \\frac{1}{- \\frac{\\sqrt{5}}{2} + \\frac{1}{2}}\\right)}\\\\\\frac{\\left(\\frac{1}{2} + \\frac{\\sqrt{5}}{2}\\right)^{r}}{\\frac{1}{\\frac{1}{2} + \\frac{\\sqrt{5}}{2}} - \\frac{1}{- \\frac{\\sqrt{5}}{2} + \\frac{1}{2}}} - \\frac{\\left(- \\frac{\\sqrt{5}}{2} + \\frac{1}{2}\\right)^{r}}{\\frac{1}{\\frac{1}{2} + \\frac{\\sqrt{5}}{2}} - \\frac{1}{- \\frac{\\sqrt{5}}{2} + \\frac{1}{2}}} & \\frac{\\left(\\frac{1}{2} + \\frac{\\sqrt{5}}{2}\\right)^{r}}{\\left(\\frac{1}{2} + \\frac{\\sqrt{5}}{2}\\right) \\left(\\frac{1}{\\frac{1}{2} + \\frac{\\sqrt{5}}{2}} - \\frac{1}{- \\frac{\\sqrt{5}}{2} + \\frac{1}{2}}\\right)} - \\frac{\\left(- \\frac{\\sqrt{5}}{2} + \\frac{1}{2}\\right)^{r}}{\\left(- \\frac{\\sqrt{5}}{2} + \\frac{1}{2}\\right) \\left(\\frac{1}{\\frac{1}{2} + \\frac{\\sqrt{5}}{2}} - \\frac{1}{- \\frac{\\sqrt{5}}{2} + \\frac{1}{2}}\\right)}\\end{matrix}\\right]$$"
      ],
      "text/plain": [
       "⎡                    r                                r                       \n",
       "⎢            ⎛1   √5⎞                       ⎛  √5   1⎞                        \n",
       "⎢            ⎜─ + ──⎟                       ⎜- ── + ─⎟                        \n",
       "⎢            ⎝2   2 ⎠                       ⎝  2    2⎠                        \n",
       "⎢- ────────────────────────────── + ────────────────────────────  - ──────────\n",
       "⎢  ⎛  √5   1⎞ ⎛  1         1    ⎞   ⎛1   √5⎞ ⎛  1         1    ⎞    ⎛1   √5⎞ ⎛\n",
       "⎢  ⎜- ── + ─⎟⋅⎜────── - ────────⎟   ⎜─ + ──⎟⋅⎜────── - ────────⎟    ⎜─ + ──⎟⋅⎜\n",
       "⎢  ⎝  2    2⎠ ⎜1   √5     √5   1⎟   ⎝2   2 ⎠ ⎜1   √5     √5   1⎟    ⎝2   2 ⎠ ⎝\n",
       "⎢             ⎜─ + ──   - ── + ─⎟            ⎜─ + ──   - ── + ─⎟              \n",
       "⎢             ⎝2   2      2    2⎠            ⎝2   2      2    2⎠              \n",
       "⎢                                                                             \n",
       "⎢                         r                    r                              \n",
       "⎢                 ⎛1   √5⎞           ⎛  √5   1⎞                               \n",
       "⎢                 ⎜─ + ──⎟           ⎜- ── + ─⎟                               \n",
       "⎢                 ⎝2   2 ⎠           ⎝  2    2⎠                               \n",
       "⎢             ───────────────── - ─────────────────                          ─\n",
       "⎢               1         1         1         1                              ⎛\n",
       "⎢             ────── - ────────   ────── - ────────                          ⎜\n",
       "⎢             1   √5     √5   1   1   √5     √5   1                          ⎝\n",
       "⎢             ─ + ──   - ── + ─   ─ + ──   - ── + ─                           \n",
       "⎣             2   2      2    2   2   2      2    2                           \n",
       "\n",
       "             r                                          r              ⎤\n",
       "     ⎛1   √5⎞                                 ⎛  √5   1⎞               ⎥\n",
       "     ⎜─ + ──⎟                                 ⎜- ── + ─⎟               ⎥\n",
       "     ⎝2   2 ⎠                                 ⎝  2    2⎠               ⎥\n",
       "───────────────────────────── + ───────────────────────────────────────⎥\n",
       "  √5   1⎞ ⎛  1         1    ⎞   ⎛1   √5⎞ ⎛  √5   1⎞ ⎛  1         1    ⎞⎥\n",
       "- ── + ─⎟⋅⎜────── - ────────⎟   ⎜─ + ──⎟⋅⎜- ── + ─⎟⋅⎜────── - ────────⎟⎥\n",
       "  2    2⎠ ⎜1   √5     √5   1⎟   ⎝2   2 ⎠ ⎝  2    2⎠ ⎜1   √5     √5   1⎟⎥\n",
       "          ⎜─ + ──   - ── + ─⎟                       ⎜─ + ──   - ── + ─⎟⎥\n",
       "          ⎝2   2      2    2⎠                       ⎝2   2      2    2⎠⎥\n",
       "                                                                       ⎥\n",
       "                r                                r                     ⎥\n",
       "        ⎛1   √5⎞                       ⎛  √5   1⎞                      ⎥\n",
       "        ⎜─ + ──⎟                       ⎜- ── + ─⎟                      ⎥\n",
       "        ⎝2   2 ⎠                       ⎝  2    2⎠                      ⎥\n",
       "─────────────────────────── - ──────────────────────────────           ⎥\n",
       "1   √5⎞ ⎛  1         1    ⎞   ⎛  √5   1⎞ ⎛  1         1    ⎞           ⎥\n",
       "─ + ──⎟⋅⎜────── - ────────⎟   ⎜- ── + ─⎟⋅⎜────── - ────────⎟           ⎥\n",
       "2   2 ⎠ ⎜1   √5     √5   1⎟   ⎝  2    2⎠ ⎜1   √5     √5   1⎟           ⎥\n",
       "        ⎜─ + ──   - ── + ─⎟              ⎜─ + ──   - ── + ─⎟           ⎥\n",
       "        ⎝2   2      2    2⎠              ⎝2   2      2    2⎠           ⎦"
      ]
     },
     "execution_count": 45,
     "metadata": {},
     "output_type": "execute_result"
    }
   ],
   "source": [
    "F.rhs**r"
   ]
  },
  {
   "cell_type": "code",
   "execution_count": 46,
   "metadata": {
    "collapsed": false,
    "deletable": true,
    "editable": true
   },
   "outputs": [
    {
     "data": {
      "image/png": "[encoded data removed]",
      "text/latex": [
       "$$\\left[\\begin{matrix}34 & 21\\\\21 & 13\\end{matrix}\\right]$$"
      ],
      "text/plain": [
       "⎡34  21⎤\n",
       "⎢      ⎥\n",
       "⎣21  13⎦"
      ]
     },
     "execution_count": 46,
     "metadata": {},
     "output_type": "execute_result"
    }
   ],
   "source": [
    "_.subs({r:8}).applyfunc(simplify)"
   ]
  },
  {
   "cell_type": "markdown",
   "metadata": {
    "deletable": true,
    "editable": true
   },
   "source": [
    "# A multiplicity greater than 1"
   ]
  },
  {
   "cell_type": "code",
   "execution_count": 48,
   "metadata": {
    "collapsed": false,
    "deletable": true,
    "editable": true
   },
   "outputs": [
    {
     "data": {
      "image/png": "[encoded data removed]",
      "text/latex": [
       "$$\\mathcal{A} = \\left[\\begin{matrix}1 & 0 & 0\\\\1 & 1 & -1\\\\-2 & 0 & 3\\end{matrix}\\right]$$"
      ],
      "text/plain": [
       "              ⎡1   0  0 ⎤\n",
       "              ⎢         ⎥\n",
       "\\mathcal{A} = ⎢1   1  -1⎥\n",
       "              ⎢         ⎥\n",
       "              ⎣-2  0  3 ⎦"
      ]
     },
     "execution_count": 48,
     "metadata": {},
     "output_type": "execute_result"
    }
   ],
   "source": [
    "m = define(Symbol(r'\\mathcal{A}'), Matrix([\n",
    "        [1, 0, 0],\n",
    "        [1, 1, -1],\n",
    "        [-2, 0, 3],\n",
    "    ]))\n",
    "m"
   ]
  },
  {
   "cell_type": "code",
   "execution_count": 50,
   "metadata": {
    "collapsed": false,
    "deletable": true,
    "editable": true
   },
   "outputs": [
    {
     "data": {
      "image/png": "[encoded data removed]",
      "text/latex": [
       "$$\\sigma{\\left (\\mathcal{A} \\right )} = \\left ( \\left \\{ 1 : \\left ( \\lambda_{1}, \\quad m_{1}\\right ), \\quad 2 : \\left ( \\lambda_{2}, \\quad m_{2}\\right )\\right \\}, \\quad \\left \\{ \\lambda_{1} : 3, \\quad \\lambda_{2} : 1\\right \\}, \\quad \\left \\{ m_{1} : 1, \\quad m_{2} : 2\\right \\}\\right )$$"
      ],
      "text/plain": [
       "\\sigma(\\mathcal{A}) = ({1: (\\lambda[1], m[1]), 2: (\\lambda[2], m[2])}, {\\lambd\n",
       "a[1]: 3, \\lambda[2]: 1}, {m[1]: 1, m[2]: 2})"
      ]
     },
     "execution_count": 50,
     "metadata": {},
     "output_type": "execute_result"
    }
   ],
   "source": [
    "eigendata = spectrum(m)\n",
    "eigendata"
   ]
  },
  {
   "cell_type": "code",
   "execution_count": 51,
   "metadata": {
    "collapsed": true,
    "deletable": true,
    "editable": true
   },
   "outputs": [],
   "source": [
    "data, eigenvals, multiplicities = eigendata.rhs"
   ]
  },
  {
   "cell_type": "code",
   "execution_count": 52,
   "metadata": {
    "collapsed": false,
    "deletable": true,
    "editable": true
   },
   "outputs": [
    {
     "data": {
      "image/png": "[encoded data removed]",
      "text/latex": [
       "$$\\Phi{\\left (z,i,j \\right )} = z^{2} \\phi_{i,j,0} + z \\phi_{i,j,1} + \\phi_{i,j,2}$$"
      ],
      "text/plain": [
       "                 2                                                \n",
       "\\Phi(z, i, j) = z ⋅\\phi[i, j, 0] + z⋅\\phi[i, j, 1] + \\phi[i, j, 2]"
      ]
     },
     "execution_count": 52,
     "metadata": {},
     "output_type": "execute_result"
    }
   ],
   "source": [
    "m_bar = 3 # degree of \\Xi minimal polynomial\n",
    "Phi_poly = Phi_poly_ctor(deg=m_bar-1)\n",
    "Phi_poly"
   ]
  },
  {
   "cell_type": "code",
   "execution_count": 53,
   "metadata": {
    "collapsed": false,
    "deletable": true,
    "editable": true
   },
   "outputs": [
    {
     "data": {
      "image/png": "[encoded data removed]",
      "text/latex": [
       "$$\\left \\{ \\left ( 1, \\quad 1\\right ) : \\Phi_{ 1, 1 }{\\left (z \\right )} = \\frac{z^{2}}{\\lambda_{1}^{2} - 2 \\lambda_{1} \\lambda_{2} + \\lambda_{2}^{2}} - \\frac{2 z \\lambda_{2}}{\\lambda_{1}^{2} - 2 \\lambda_{1} \\lambda_{2} + \\lambda_{2}^{2}} + \\frac{\\lambda_{2}^{2}}{\\lambda_{1}^{2} - 2 \\lambda_{1} \\lambda_{2} + \\lambda_{2}^{2}}, \\quad \\left ( 2, \\quad 1\\right ) : \\Phi_{ 2, 1 }{\\left (z \\right )} = - \\frac{z^{2}}{\\lambda_{1}^{2} - 2 \\lambda_{1} \\lambda_{2} + \\lambda_{2}^{2}} + \\frac{2 z \\lambda_{2}}{\\lambda_{1}^{2} - 2 \\lambda_{1} \\lambda_{2} + \\lambda_{2}^{2}} + \\frac{\\left(\\lambda_{1} - 2 \\lambda_{2}\\right) \\lambda_{1}}{\\lambda_{1}^{2} - 2 \\lambda_{1} \\lambda_{2} + \\lambda_{2}^{2}}, \\quad \\left ( 2, \\quad 2\\right ) : \\Phi_{ 2, 2 }{\\left (z \\right )} = - \\frac{z^{2}}{\\lambda_{1} - \\lambda_{2}} + \\frac{z \\left(\\lambda_{1} + \\lambda_{2}\\right)}{\\lambda_{1} - \\lambda_{2}} - \\frac{\\lambda_{1} \\lambda_{2}}{\\lambda_{1} - \\lambda_{2}}\\right \\}$$"
      ],
      "text/plain": [
       "⎧                                                     2                       \n",
       "⎪                                                    z                        \n",
       "⎨(1, 1): \\Phi_{ 1, 1 }(z) = ──────────────────────────────────────────────────\n",
       "⎪                                     2                                       \n",
       "⎩                           \\lambda[1]  - 2⋅\\lambda[1]⋅\\lambda[2] + \\lambda[2]\n",
       "\n",
       "                                                                              \n",
       "                       2⋅z⋅\\lambda[2]                                         \n",
       "─ - ─────────────────────────────────────────────────── + ────────────────────\n",
       "2             2                                       2             2         \n",
       "    \\lambda[1]  - 2⋅\\lambda[1]⋅\\lambda[2] + \\lambda[2]    \\lambda[1]  - 2⋅\\lam\n",
       "\n",
       "          2                                                                   \n",
       "\\lambda[2]                                                                    \n",
       "───────────────────────────────, (2, 1): \\Phi_{ 2, 1 }(z) = - ────────────────\n",
       "                              2                                         2     \n",
       "bda[1]⋅\\lambda[2] + \\lambda[2]                                \\lambda[1]  - 2⋅\n",
       "\n",
       "          2                                                                   \n",
       "         z                                               2⋅z⋅\\lambda[2]       \n",
       "─────────────────────────────────── + ────────────────────────────────────────\n",
       "                                  2             2                             \n",
       "\\lambda[1]⋅\\lambda[2] + \\lambda[2]    \\lambda[1]  - 2⋅\\lambda[1]⋅\\lambda[2] + \n",
       "\n",
       "                                                                              \n",
       "                     (\\lambda[1] - 2⋅\\lambda[2])⋅\\lambda[1]                   \n",
       "─────────── + ───────────────────────────────────────────────────, (2, 2): \\Ph\n",
       "          2             2                                       2             \n",
       "\\lambda[2]    \\lambda[1]  - 2⋅\\lambda[1]⋅\\lambda[2] + \\lambda[2]              \n",
       "\n",
       "                              2                                               \n",
       "                             z              z⋅(\\lambda[1] + \\lambda[2])    \\la\n",
       "i_{ 2, 2 }(z) = - ─────────────────────── + ─────────────────────────── - ────\n",
       "                  \\lambda[1] - \\lambda[2]     \\lambda[1] - \\lambda[2]     \\lam\n",
       "                                                                              \n",
       "\n",
       "                   ⎫\n",
       "mbda[1]⋅\\lambda[2] ⎪\n",
       "───────────────────⎬\n",
       "bda[1] - \\lambda[2]⎪\n",
       "                   ⎭"
      ]
     },
     "execution_count": 53,
     "metadata": {},
     "output_type": "execute_result"
    }
   ],
   "source": [
    "Phi_polynomials = component_polynomials(eigendata)\n",
    "Phi_polynomials"
   ]
  },
  {
   "cell_type": "code",
   "execution_count": 54,
   "metadata": {
    "collapsed": false,
    "deletable": true,
    "editable": true
   },
   "outputs": [
    {
     "data": {
      "image/png": "[encoded data removed]",
      "text/latex": [
       "$$\\left \\{ \\left ( 1, \\quad 1\\right ) : Z^{\\left[ \\mathcal{A} \\right]}_{1,1} = \\left[\\begin{matrix}\\frac{\\left(\\lambda_{2} - 1\\right)^{2}}{\\left(\\lambda_{1} - \\lambda_{2}\\right)^{2}} & 0 & 0\\\\- \\frac{2 \\left(\\lambda_{2} - 2\\right)}{\\left(\\lambda_{1} - \\lambda_{2}\\right)^{2}} & \\frac{\\left(\\lambda_{2} - 1\\right)^{2}}{\\left(\\lambda_{1} - \\lambda_{2}\\right)^{2}} & \\frac{2 \\left(\\lambda_{2} - 2\\right)}{\\left(\\lambda_{1} - \\lambda_{2}\\right)^{2}}\\\\\\frac{4 \\left(\\lambda_{2} - 2\\right)}{\\left(\\lambda_{1} - \\lambda_{2}\\right)^{2}} & 0 & \\frac{\\left(\\lambda_{2} - 3\\right)^{2}}{\\left(\\lambda_{1} - \\lambda_{2}\\right)^{2}}\\end{matrix}\\right], \\quad \\left ( 2, \\quad 1\\right ) : Z^{\\left[ \\mathcal{A} \\right]}_{2,1} = \\left[\\begin{matrix}\\frac{1}{\\left(\\lambda_{1} - \\lambda_{2}\\right)^{2}} \\left(\\lambda_{1} - 1\\right) \\left(\\lambda_{1} - 2 \\lambda_{2} + 1\\right) & 0 & 0\\\\\\frac{2 \\left(\\lambda_{2} - 2\\right)}{\\left(\\lambda_{1} - \\lambda_{2}\\right)^{2}} & \\frac{1}{\\left(\\lambda_{1} - \\lambda_{2}\\right)^{2}} \\left(\\lambda_{1} - 1\\right) \\left(\\lambda_{1} - 2 \\lambda_{2} + 1\\right) & - \\frac{2 \\left(\\lambda_{2} - 2\\right)}{\\left(\\lambda_{1} - \\lambda_{2}\\right)^{2}}\\\\- \\frac{4 \\left(\\lambda_{2} - 2\\right)}{\\left(\\lambda_{1} - \\lambda_{2}\\right)^{2}} & 0 & \\frac{1}{\\left(\\lambda_{1} - \\lambda_{2}\\right)^{2}} \\left(\\lambda_{1} - 3\\right) \\left(\\lambda_{1} - 2 \\lambda_{2} + 3\\right)\\end{matrix}\\right], \\quad \\left ( 2, \\quad 2\\right ) : Z^{\\left[ \\mathcal{A} \\right]}_{2,2} = \\left[\\begin{matrix}- \\frac{\\left(\\lambda_{1} - 1\\right) \\left(\\lambda_{2} - 1\\right)}{\\lambda_{1} - \\lambda_{2}} & 0 & 0\\\\\\frac{\\lambda_{1} + \\lambda_{2} - 4}{\\lambda_{1} - \\lambda_{2}} & - \\frac{\\left(\\lambda_{1} - 1\\right) \\left(\\lambda_{2} - 1\\right)}{\\lambda_{1} - \\lambda_{2}} & - \\frac{\\lambda_{1} + \\lambda_{2} - 4}{\\lambda_{1} - \\lambda_{2}}\\\\- \\frac{2 \\left(\\lambda_{1} + \\lambda_{2} - 4\\right)}{\\lambda_{1} - \\lambda_{2}} & 0 & - \\frac{\\left(\\lambda_{1} - 3\\right) \\left(\\lambda_{2} - 3\\right)}{\\lambda_{1} - \\lambda_{2}}\\end{matrix}\\right]\\right \\}$$"
      ],
      "text/plain": [
       "⎧                                               ⎡                    2        \n",
       "⎪                                               ⎢    (\\lambda[2] - 1)         \n",
       "⎪                                               ⎢──────────────────────────   \n",
       "⎪                                               ⎢                         2   \n",
       "⎪                                               ⎢(\\lambda[1] - \\lambda[2])    \n",
       "⎪                                               ⎢                             \n",
       "⎪                                               ⎢                             \n",
       "⎪                                               ⎢   -2⋅(\\lambda[2] - 2)       \n",
       "⎨(1, 1): Z^{\\left[ \\mathcal{A} \\right]}[1, 1] = ⎢──────────────────────────  ─\n",
       "⎪                                               ⎢                         2   \n",
       "⎪                                               ⎢(\\lambda[1] - \\lambda[2])   (\n",
       "⎪                                               ⎢                             \n",
       "⎪                                               ⎢                             \n",
       "⎪                                               ⎢    4⋅(\\lambda[2] - 2)       \n",
       "⎪                                               ⎢──────────────────────────   \n",
       "⎪                                               ⎢                         2   \n",
       "⎩                                               ⎣(\\lambda[1] - \\lambda[2])    \n",
       "\n",
       "                                                     ⎤                        \n",
       "                                                     ⎥                        \n",
       "           0                           0             ⎥                        \n",
       "                                                     ⎥                        \n",
       "                                                     ⎥                        \n",
       "                                                     ⎥                        \n",
       "                   2                                 ⎥                        \n",
       "   (\\lambda[2] - 1)            2⋅(\\lambda[2] - 2)    ⎥                        \n",
       "─────────────────────────  ──────────────────────────⎥, (2, 1): Z^{\\left[ \\mat\n",
       "                        2                           2⎥                        \n",
       "\\lambda[1] - \\lambda[2])   (\\lambda[1] - \\lambda[2]) ⎥                        \n",
       "                                                     ⎥                        \n",
       "                                               2     ⎥                        \n",
       "                               (\\lambda[2] - 3)      ⎥                        \n",
       "           0               ──────────────────────────⎥                        \n",
       "                                                    2⎥                        \n",
       "                           (\\lambda[1] - \\lambda[2]) ⎦                        \n",
       "\n",
       "                                                                              \n",
       "                         ⎡(\\lambda[1] - 1)⋅(\\lambda[1] - 2⋅\\lambda[2] + 1)    \n",
       "                         ⎢────────────────────────────────────────────────    \n",
       "                         ⎢                                    2               \n",
       "                         ⎢           (\\lambda[1] - \\lambda[2])                \n",
       "                         ⎢                                                    \n",
       "                         ⎢               2⋅(\\lambda[2] - 2)                 (\\\n",
       "                         ⎢           ──────────────────────────             ──\n",
       "hcal{A} \\right]}[2, 1] = ⎢                                    2               \n",
       "                         ⎢           (\\lambda[1] - \\lambda[2])                \n",
       "                         ⎢                                                    \n",
       "                         ⎢              -4⋅(\\lambda[2] - 2)                   \n",
       "                         ⎢           ──────────────────────────               \n",
       "                         ⎢                                    2               \n",
       "                         ⎣           (\\lambda[1] - \\lambda[2])                \n",
       "                                                                              \n",
       "                                                                              \n",
       "\n",
       "                                                                              \n",
       "                                                                              \n",
       "                     0                                                 0      \n",
       "                                                                              \n",
       "                                                                              \n",
       "                                                                              \n",
       "lambda[1] - 1)⋅(\\lambda[1] - 2⋅\\lambda[2] + 1)                -2⋅(\\lambda[2] -\n",
       "──────────────────────────────────────────────             ───────────────────\n",
       "                                  2                                           \n",
       "         (\\lambda[1] - \\lambda[2])                         (\\lambda[1] - \\lamb\n",
       "                                                                              \n",
       "                                                (\\lambda[1] - 3)⋅(\\lambda[1] -\n",
       "                     0                          ──────────────────────────────\n",
       "                                                                              \n",
       "                                                           (\\lambda[1] - \\lamb\n",
       "                                                                              \n",
       "                                                                              \n",
       "\n",
       "                                                                              \n",
       "                  ⎤                                                           \n",
       "                  ⎥                                                           \n",
       "                  ⎥                                                 ⎡-(\\lambda\n",
       "                  ⎥                                                 ⎢─────────\n",
       "                  ⎥                                                 ⎢      \\la\n",
       " 2)               ⎥                                                 ⎢         \n",
       "───────           ⎥                                                 ⎢    \\lamb\n",
       "      2           ⎥, (2, 2): Z^{\\left[ \\mathcal{A} \\right]}[2, 2] = ⎢    ─────\n",
       "da[2])            ⎥                                                 ⎢      \\la\n",
       "                  ⎥                                                 ⎢         \n",
       " 2⋅\\lambda[2] + 3)⎥                                                 ⎢ -2⋅(\\lam\n",
       "──────────────────⎥                                                 ⎢ ────────\n",
       "      2           ⎥                                                 ⎣      \\la\n",
       "da[2])            ⎦                                                           \n",
       "                                                                              \n",
       "                                                                              \n",
       "\n",
       "                                                                              \n",
       "                                                                              \n",
       "                                                                              \n",
       "[1] - 1)⋅(\\lambda[2] - 1)                                                     \n",
       "──────────────────────────                   0                                \n",
       "mbda[1] - \\lambda[2]                                                          \n",
       "                                                                              \n",
       "da[1] + \\lambda[2] - 4      -(\\lambda[1] - 1)⋅(\\lambda[2] - 1)     -(\\lambda[1\n",
       "──────────────────────      ───────────────────────────────────    ───────────\n",
       "mbda[1] - \\lambda[2]              \\lambda[1] - \\lambda[2]              \\lambda\n",
       "                                                                              \n",
       "bda[1] + \\lambda[2] - 4)                                         -(\\lambda[1] \n",
       "─────────────────────────                    0                   ─────────────\n",
       "mbda[1] - \\lambda[2]                                                   \\lambda\n",
       "                                                                              \n",
       "                                                                              \n",
       "                                                                              \n",
       "\n",
       "                       ⎫\n",
       "                       ⎪\n",
       "                       ⎪\n",
       "                      ⎤⎪\n",
       "    0                 ⎥⎪\n",
       "                      ⎥⎪\n",
       "                      ⎥⎪\n",
       "] + \\lambda[2] - 4)   ⎥⎪\n",
       "────────────────────  ⎥⎬\n",
       "[1] - \\lambda[2]      ⎥⎪\n",
       "                      ⎥⎪\n",
       "- 3)⋅(\\lambda[2] - 3) ⎥⎪\n",
       "──────────────────────⎥⎪\n",
       "[1] - \\lambda[2]      ⎦⎪\n",
       "                       ⎪\n",
       "                       ⎪\n",
       "                       ⎭"
      ]
     },
     "execution_count": 54,
     "metadata": {},
     "output_type": "execute_result"
    }
   ],
   "source": [
    "cmatrices = component_matrices(m, Phi_polynomials)\n",
    "cmatrices"
   ]
  },
  {
   "cell_type": "code",
   "execution_count": 57,
   "metadata": {
    "collapsed": false,
    "deletable": true,
    "editable": true
   },
   "outputs": [
    {
     "data": {
      "image/png": "[encoded data removed]",
      "text/latex": [
       "$$\\left ( \\left[\\begin{matrix}\\frac{1}{\\left(\\lambda_{1} - \\lambda_{2}\\right)^{2}} \\left(\\lambda_{1} - 1\\right) \\left(\\lambda_{1} - 2 \\lambda_{2} + 1\\right) + \\frac{\\left(\\lambda_{2} - 1\\right)^{2}}{\\left(\\lambda_{1} - \\lambda_{2}\\right)^{2}} & 0 & 0\\\\0 & \\frac{1}{\\left(\\lambda_{1} - \\lambda_{2}\\right)^{2}} \\left(\\lambda_{1} - 1\\right) \\left(\\lambda_{1} - 2 \\lambda_{2} + 1\\right) + \\frac{\\left(\\lambda_{2} - 1\\right)^{2}}{\\left(\\lambda_{1} - \\lambda_{2}\\right)^{2}} & 0\\\\0 & 0 & \\frac{1}{\\left(\\lambda_{1} - \\lambda_{2}\\right)^{2}} \\left(\\lambda_{1} - 3\\right) \\left(\\lambda_{1} - 2 \\lambda_{2} + 3\\right) + \\frac{\\left(\\lambda_{2} - 3\\right)^{2}}{\\left(\\lambda_{1} - \\lambda_{2}\\right)^{2}}\\end{matrix}\\right], \\quad \\left[\\begin{matrix}1 & 0 & 0\\\\0 & 1 & 0\\\\0 & 0 & 1\\end{matrix}\\right], \\quad \\left[\\begin{matrix}1 & 0 & 0\\\\0 & 1 & 0\\\\0 & 0 & 1\\end{matrix}\\right]\\right )$$"
      ],
      "text/plain": [
       "⎛⎡                                                                       2    \n",
       "⎜⎢(\\lambda[1] - 1)⋅(\\lambda[1] - 2⋅\\lambda[2] + 1)       (\\lambda[2] - 1)     \n",
       "⎜⎢──────────────────────────────────────────────── + ─────────────────────────\n",
       "⎜⎢                                    2                                       \n",
       "⎜⎢           (\\lambda[1] - \\lambda[2])               (\\lambda[1] - \\lambda[2])\n",
       "⎜⎢                                                                            \n",
       "⎜⎢                                                                            \n",
       "⎜⎢                                                                            \n",
       "⎜⎢                                      0                                     \n",
       "⎜⎢                                                                            \n",
       "⎜⎢                                                                            \n",
       "⎜⎢                                                                            \n",
       "⎜⎢                                                                            \n",
       "⎜⎢                                                                            \n",
       "⎜⎢                                      0                                     \n",
       "⎜⎢                                                                            \n",
       "⎝⎣                                                                            \n",
       "\n",
       "                                                                              \n",
       "                                                                              \n",
       "─                                        0                                    \n",
       "2                                                                             \n",
       "                                                                              \n",
       "                                                                              \n",
       "                                                                          2   \n",
       "   (\\lambda[1] - 1)⋅(\\lambda[1] - 2⋅\\lambda[2] + 1)       (\\lambda[2] - 1)    \n",
       "   ──────────────────────────────────────────────── + ────────────────────────\n",
       "                                       2                                      \n",
       "              (\\lambda[1] - \\lambda[2])               (\\lambda[1] - \\lambda[2]\n",
       "                                                                              \n",
       "                                                                              \n",
       "                                                                              \n",
       "                                         0                                    \n",
       "                                                                              \n",
       "                                                                              \n",
       "\n",
       "                                                                              \n",
       "                                                                              \n",
       "                                          0                                   \n",
       "                                                                              \n",
       "                                                                              \n",
       "                                                                              \n",
       "                                                                              \n",
       "                                                                              \n",
       "──                                        0                                   \n",
       " 2                                                                            \n",
       ")                                                                             \n",
       "                                                                              \n",
       "                                                                           2  \n",
       "    (\\lambda[1] - 3)⋅(\\lambda[1] - 2⋅\\lambda[2] + 3)       (\\lambda[2] - 3)   \n",
       "    ──────────────────────────────────────────────── + ───────────────────────\n",
       "                                        2                                     \n",
       "               (\\lambda[1] - \\lambda[2])               (\\lambda[1] - \\lambda[2\n",
       "\n",
       "   ⎤                      ⎞\n",
       "   ⎥                      ⎟\n",
       "   ⎥                      ⎟\n",
       "   ⎥                      ⎟\n",
       "   ⎥                      ⎟\n",
       "   ⎥                      ⎟\n",
       "   ⎥  ⎡1  0  0⎤  ⎡1  0  0⎤⎟\n",
       "   ⎥  ⎢       ⎥  ⎢       ⎥⎟\n",
       "   ⎥, ⎢0  1  0⎥, ⎢0  1  0⎥⎟\n",
       "   ⎥  ⎢       ⎥  ⎢       ⎥⎟\n",
       "   ⎥  ⎣0  0  1⎦  ⎣0  0  1⎦⎟\n",
       "   ⎥                      ⎟\n",
       "   ⎥                      ⎟\n",
       "   ⎥                      ⎟\n",
       "───⎥                      ⎟\n",
       "  2⎥                      ⎟\n",
       "]) ⎦                      ⎠"
      ]
     },
     "execution_count": 57,
     "metadata": {},
     "output_type": "execute_result"
    }
   ],
   "source": [
    "Zi1 = list(cm.rhs.as_immutable() for (i, j), cm in cmatrices.items() if j == 1)\n",
    "\n",
    "s = zeros(m.rhs.rows)\n",
    "for Z in Zi1:\n",
    "    s += Z\n",
    "s, s.simplify(), s.subs(eigenvals)"
   ]
  },
  {
   "cell_type": "markdown",
   "metadata": {
    "deletable": true,
    "editable": true
   },
   "source": [
    "## `inverse` function"
   ]
  },
  {
   "cell_type": "code",
   "execution_count": 58,
   "metadata": {
    "collapsed": false,
    "deletable": true,
    "editable": true
   },
   "outputs": [
    {
     "data": {
      "image/png": "[encoded data removed]",
      "text/latex": [
       "$$f{\\left (z \\right )} = \\frac{1}{z}$$"
      ],
      "text/plain": [
       "       1\n",
       "f(z) = ─\n",
       "       z"
      ]
     },
     "execution_count": 58,
     "metadata": {},
     "output_type": "execute_result"
    }
   ],
   "source": [
    "f, h = Function('f'), Function('h')\n",
    "f_inverse = define(let=f(z), be=1/(z))\n",
    "f_inverse"
   ]
  },
  {
   "cell_type": "code",
   "execution_count": 59,
   "metadata": {
    "collapsed": false,
    "deletable": true,
    "editable": true
   },
   "outputs": [
    {
     "data": {
      "image/png": "[encoded data removed]",
      "text/latex": [
       "$$\\operatorname{f_{ 3 }}{\\left (z \\right )} = z^{2} \\left(\\frac{1}{\\lambda_{1}^{3} - 2 \\lambda_{1}^{2} \\lambda_{2} + \\lambda_{1} \\lambda_{2}^{2}} - \\frac{1}{\\lambda_{1}^{2} \\lambda_{2} - 2 \\lambda_{1} \\lambda_{2}^{2} + \\lambda_{2}^{3}} + \\frac{1}{\\lambda_{1} \\lambda_{2}^{2} - \\lambda_{2}^{3}}\\right) + z \\left(- \\frac{2 \\lambda_{2}}{\\lambda_{1}^{3} - 2 \\lambda_{1}^{2} \\lambda_{2} + \\lambda_{1} \\lambda_{2}^{2}} + \\frac{2}{\\lambda_{1}^{2} - 2 \\lambda_{1} \\lambda_{2} + \\lambda_{2}^{2}} - \\frac{\\lambda_{1}}{\\lambda_{1} \\lambda_{2}^{2} - \\lambda_{2}^{3}} - \\frac{1}{\\lambda_{1} \\lambda_{2} - \\lambda_{2}^{2}}\\right) + \\frac{\\lambda_{2}^{2}}{\\lambda_{1}^{3} - 2 \\lambda_{1}^{2} \\lambda_{2} + \\lambda_{1} \\lambda_{2}^{2}} - \\frac{2 \\lambda_{1}}{\\lambda_{1}^{2} - 2 \\lambda_{1} \\lambda_{2} + \\lambda_{2}^{2}} + \\frac{\\lambda_{1}^{2}}{\\lambda_{1}^{2} \\lambda_{2} - 2 \\lambda_{1} \\lambda_{2}^{2} + \\lambda_{2}^{3}} + \\frac{\\lambda_{1}}{\\lambda_{1} \\lambda_{2} - \\lambda_{2}^{2}}$$"
      ],
      "text/plain": [
       "                                                                              \n",
       "              2 ⎛                               1                             \n",
       "f_{ 3 }(z) = z ⋅⎜─────────────────────────────────────────────────────────────\n",
       "                ⎜          3               2                                  \n",
       "                ⎝\\lambda[1]  - 2⋅\\lambda[1] ⋅\\lambda[2] + \\lambda[1]⋅\\lambda[2\n",
       "\n",
       "                                                                              \n",
       "                                    1                                         \n",
       "── - ─────────────────────────────────────────────────────────────── + ───────\n",
       " 2             2                                     2             3          \n",
       "]    \\lambda[1] ⋅\\lambda[2] - 2⋅\\lambda[1]⋅\\lambda[2]  + \\lambda[2]    \\lambda\n",
       "\n",
       "                                                                              \n",
       "          1                  ⎞     ⎛                            2⋅\\lambda[2]  \n",
       "─────────────────────────────⎟ + z⋅⎜- ────────────────────────────────────────\n",
       "              2             3⎟     ⎜            3               2             \n",
       "[1]⋅\\lambda[2]  - \\lambda[2] ⎠     ⎝  \\lambda[1]  - 2⋅\\lambda[1] ⋅\\lambda[2] +\n",
       "\n",
       "                                                                              \n",
       "                                                   2                          \n",
       "─────────────────────── + ─────────────────────────────────────────────────── \n",
       "                      2             2                                       2 \n",
       " \\lambda[1]⋅\\lambda[2]    \\lambda[1]  - 2⋅\\lambda[1]⋅\\lambda[2] + \\lambda[2]  \n",
       "\n",
       "                                                                              \n",
       "               \\lambda[1]                                 1                 ⎞ \n",
       "- ──────────────────────────────────── - ───────────────────────────────────⎟ \n",
       "                       2             3                                     2⎟ \n",
       "  \\lambda[1]⋅\\lambda[2]  - \\lambda[2]    \\lambda[1]⋅\\lambda[2] - \\lambda[2] ⎠ \n",
       "\n",
       "                                      2                                       \n",
       "                            \\lambda[2]                                        \n",
       "+ ─────────────────────────────────────────────────────────────── - ──────────\n",
       "            3               2                                   2             \n",
       "  \\lambda[1]  - 2⋅\\lambda[1] ⋅\\lambda[2] + \\lambda[1]⋅\\lambda[2]    \\lambda[1]\n",
       "\n",
       "                                                                              \n",
       "          2⋅\\lambda[1]                                                \\lambda[\n",
       "───────────────────────────────────────── + ──────────────────────────────────\n",
       "2                                       2             2                       \n",
       "  - 2⋅\\lambda[1]⋅\\lambda[2] + \\lambda[2]    \\lambda[1] ⋅\\lambda[2] - 2⋅\\lambda\n",
       "\n",
       "  2                                                                \n",
       "1]                                           \\lambda[1]            \n",
       "───────────────────────────── + ───────────────────────────────────\n",
       "              2             3                                     2\n",
       "[1]⋅\\lambda[2]  + \\lambda[2]    \\lambda[1]⋅\\lambda[2] - \\lambda[2] "
      ]
     },
     "execution_count": 59,
     "metadata": {},
     "output_type": "execute_result"
    }
   ],
   "source": [
    "g_inverse = Hermite_interpolation_polynomial(f_inverse, eigendata, Phi_polynomials)\n",
    "g_inverse"
   ]
  },
  {
   "cell_type": "code",
   "execution_count": 60,
   "metadata": {
    "collapsed": false,
    "deletable": true,
    "editable": true
   },
   "outputs": [
    {
     "data": {
      "image/png": "[encoded data removed]",
      "text/latex": [
       "$$\\operatorname{f_{ 3 }}{\\left (z \\right )} = \\frac{z^{2}}{3} - \\frac{5 z}{3} + \\frac{7}{3}$$"
      ],
      "text/plain": [
       "              2          \n",
       "             z    5⋅z   7\n",
       "f_{ 3 }(z) = ── - ─── + ─\n",
       "             3     3    3"
      ]
     },
     "execution_count": 60,
     "metadata": {},
     "output_type": "execute_result"
    }
   ],
   "source": [
    "g_inverse = g_inverse.subs(eigenvals)\n",
    "g_inverse"
   ]
  },
  {
   "cell_type": "code",
   "execution_count": 61,
   "metadata": {
    "collapsed": false,
    "deletable": true,
    "editable": true
   },
   "outputs": [
    {
     "data": {
      "image/png": "[encoded data removed]",
      "text/latex": [
       "$$\\operatorname{f_{ 3 }}{\\left (\\mathcal{A} \\right )} = \\left[\\begin{matrix}1 & 0 & 0\\\\- \\frac{1}{3} & 1 & \\frac{1}{3}\\\\\\frac{2}{3} & 0 & \\frac{1}{3}\\end{matrix}\\right]$$"
      ],
      "text/plain": [
       "                       ⎡ 1    0   0 ⎤\n",
       "                       ⎢            ⎥\n",
       "f_{ 3 }(\\mathcal{A}) = ⎢-1/3  1  1/3⎥\n",
       "                       ⎢            ⎥\n",
       "                       ⎣2/3   0  1/3⎦"
      ]
     },
     "execution_count": 61,
     "metadata": {},
     "output_type": "execute_result"
    }
   ],
   "source": [
    "with lift_to_matrix_function(g_inverse) as G_inverse:\n",
    "    m_inverse = G_inverse(m)\n",
    "m_inverse"
   ]
  },
  {
   "cell_type": "code",
   "execution_count": 62,
   "metadata": {
    "collapsed": false,
    "deletable": true,
    "editable": true
   },
   "outputs": [
    {
     "data": {
      "image/png": "[encoded data removed]",
      "text/latex": [
       "$$\\left[\\begin{matrix}1 & 0 & 0\\\\- \\frac{1}{3} & 1 & \\frac{1}{3}\\\\\\frac{2}{3} & 0 & \\frac{1}{3}\\end{matrix}\\right]$$"
      ],
      "text/plain": [
       "⎡ 1    0   0 ⎤\n",
       "⎢            ⎥\n",
       "⎢-1/3  1  1/3⎥\n",
       "⎢            ⎥\n",
       "⎣2/3   0  1/3⎦"
      ]
     },
     "execution_count": 62,
     "metadata": {},
     "output_type": "execute_result"
    }
   ],
   "source": [
    "m.rhs**(-1)"
   ]
  },
  {
   "cell_type": "markdown",
   "metadata": {
    "deletable": true,
    "editable": true
   },
   "source": [
    "---\n",
    "<a rel=\"license\" href=\"http://creativecommons.org/licenses/by-nc-sa/4.0/\"><img alt=\"Creative Commons License\" style=\"border-width:0\" src=\"https://i.creativecommons.org/l/by-nc-sa/4.0/88x31.png\" /></a><br />This work is licensed under a <a rel=\"license\" href=\"http://creativecommons.org/licenses/by-nc-sa/4.0/\">Creative Commons Attribution-NonCommercial-ShareAlike 4.0 International License</a>."
   ]
  }
 ],
 "metadata": {
  "kernelspec": {
   "display_name": "Python 3",
   "language": "python",
   "name": "python3"
  },
  "language_info": {
   "codemirror_mode": {
    "name": "ipython",
    "version": 3
   },
   "file_extension": ".py",
   "mimetype": "text/x-python",
   "name": "python",
   "nbconvert_exporter": "python",
   "pygments_lexer": "ipython3",
   "version": "3.6.0"
  }
 },
 "nbformat": 4,
 "nbformat_minor": 1
}
