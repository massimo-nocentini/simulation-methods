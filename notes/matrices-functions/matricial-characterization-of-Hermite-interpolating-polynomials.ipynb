{
 "cells": [
  {
   "cell_type": "markdown",
   "metadata": {
    "deletable": true,
    "editable": true
   },
   "source": [
    "<p>\n",
    "<img src=\"http://www.cerm.unifi.it/chianti/images/logo%20unifi_positivo.jpg\" \n",
    "        alt=\"UniFI logo\" style=\"float: left; width: 20%; height: 20%;\">\n",
    "<div align=\"right\">\n",
    "Massimo Nocentini<br>\n",
    "<small>\n",
    "<br>February 28, 2018: splitting from \"big\" notebook\n",
    "</small>\n",
    "</div>\n",
    "</p>\n",
    "<br>\n",
    "<br>\n",
    "<div align=\"center\">\n",
    "<b>Abstract</b><br>\n",
    "Theory of matrix functions, matricial characterization of Hermite interpolating polynomials.\n",
    "</div>"
   ]
  },
  {
   "cell_type": "code",
   "execution_count": 1,
   "metadata": {
    "collapsed": true,
    "deletable": true,
    "editable": true
   },
   "outputs": [],
   "source": [
    "from sympy import *\n",
    "from sympy.abc import n, i, N, x, lamda, phi, z, j, r, k, a, t, alpha\n",
    "\n",
    "from matrix_functions import *\n",
    "from sequences import *\n",
    "\n",
    "init_printing()"
   ]
  },
  {
   "cell_type": "code",
   "execution_count": 2,
   "metadata": {
    "collapsed": true,
    "deletable": true,
    "editable": true
   },
   "outputs": [],
   "source": [
    "d = IndexedBase('d')\n",
    "g = Function('g')\n",
    "m_sym = symbols('m')"
   ]
  },
  {
   "cell_type": "markdown",
   "metadata": {
    "deletable": true,
    "editable": true
   },
   "source": [
    "---"
   ]
  },
  {
   "cell_type": "code",
   "execution_count": 3,
   "metadata": {
    "collapsed": false,
    "deletable": true,
    "editable": true
   },
   "outputs": [
    {
     "data": {
      "image/png": "[encoded data removed]",
      "text/latex": [
       "$$\\mathcal{R} = \\left[\\begin{matrix}1 & 0 & 0 & 0 & 0 & 0 & 0 & 0\\\\d_{1,0} & 1 & 0 & 0 & 0 & 0 & 0 & 0\\\\d_{2,0} & d_{2,1} & 1 & 0 & 0 & 0 & 0 & 0\\\\d_{3,0} & d_{3,1} & d_{3,2} & 1 & 0 & 0 & 0 & 0\\\\d_{4,0} & d_{4,1} & d_{4,2} & d_{4,3} & 1 & 0 & 0 & 0\\\\d_{5,0} & d_{5,1} & d_{5,2} & d_{5,3} & d_{5,4} & 1 & 0 & 0\\\\d_{6,0} & d_{6,1} & d_{6,2} & d_{6,3} & d_{6,4} & d_{6,5} & 1 & 0\\\\d_{7,0} & d_{7,1} & d_{7,2} & d_{7,3} & d_{7,4} & d_{7,5} & d_{7,6} & 1\\end{matrix}\\right]$$"
      ],
      "text/plain": [
       "              ⎡   1        0        0        0        0        0        0     \n",
       "              ⎢                                                               \n",
       "              ⎢d[1, 0]     1        0        0        0        0        0     \n",
       "              ⎢                                                               \n",
       "              ⎢d[2, 0]  d[2, 1]     1        0        0        0        0     \n",
       "              ⎢                                                               \n",
       "              ⎢d[3, 0]  d[3, 1]  d[3, 2]     1        0        0        0     \n",
       "\\mathcal{R} = ⎢                                                               \n",
       "              ⎢d[4, 0]  d[4, 1]  d[4, 2]  d[4, 3]     1        0        0     \n",
       "              ⎢                                                               \n",
       "              ⎢d[5, 0]  d[5, 1]  d[5, 2]  d[5, 3]  d[5, 4]     1        0     \n",
       "              ⎢                                                               \n",
       "              ⎢d[6, 0]  d[6, 1]  d[6, 2]  d[6, 3]  d[6, 4]  d[6, 5]     1     \n",
       "              ⎢                                                               \n",
       "              ⎣d[7, 0]  d[7, 1]  d[7, 2]  d[7, 3]  d[7, 4]  d[7, 5]  d[7, 6]  \n",
       "\n",
       "0⎤\n",
       " ⎥\n",
       "0⎥\n",
       " ⎥\n",
       "0⎥\n",
       " ⎥\n",
       "0⎥\n",
       " ⎥\n",
       "0⎥\n",
       " ⎥\n",
       "0⎥\n",
       " ⎥\n",
       "0⎥\n",
       " ⎥\n",
       "1⎦"
      ]
     },
     "execution_count": 3,
     "metadata": {},
     "output_type": "execute_result"
    }
   ],
   "source": [
    "m=8\n",
    "R = define(Symbol(r'\\mathcal{R}'), \n",
    "           Matrix(m, m, riordan_matrix_by_recurrence(m, lambda n, k: {(n, k):1 if n == k else d[n, k]})))\n",
    "R"
   ]
  },
  {
   "cell_type": "code",
   "execution_count": 4,
   "metadata": {
    "collapsed": false,
    "deletable": true,
    "editable": true
   },
   "outputs": [
    {
     "data": {
      "image/png": "[encoded data removed]",
      "text/latex": [
       "$$\\sigma{\\left (\\mathcal{R} \\right )} = \\left ( \\left \\{ 1 : \\left ( \\lambda_{1}, \\quad m_{1}\\right )\\right \\}, \\quad \\left \\{ \\lambda_{1} : 1\\right \\}, \\quad \\left \\{ m_{1} : 8\\right \\}\\right )$$"
      ],
      "text/plain": [
       "\\sigma(\\mathcal{R}) = ({1: (\\lambda[1], m[1])}, {\\lambda[1]: 1}, {m[1]: 8})"
      ]
     },
     "execution_count": 4,
     "metadata": {},
     "output_type": "execute_result"
    }
   ],
   "source": [
    "eigendata = spectrum(R)\n",
    "eigendata"
   ]
  },
  {
   "cell_type": "code",
   "execution_count": 5,
   "metadata": {
    "collapsed": true
   },
   "outputs": [],
   "source": [
    "data, eigenvals, multiplicities = eigendata.rhs"
   ]
  },
  {
   "cell_type": "code",
   "execution_count": 6,
   "metadata": {
    "collapsed": false,
    "deletable": true,
    "editable": true
   },
   "outputs": [
    {
     "data": {
      "image/png": "[encoded data removed]",
      "text/latex": [
       "$$\\Phi{\\left (z,i,j \\right )} = z^{7} \\phi_{i,j,0} + z^{6} \\phi_{i,j,1} + z^{5} \\phi_{i,j,2} + z^{4} \\phi_{i,j,3} + z^{3} \\phi_{i,j,4} + z^{2} \\phi_{i,j,5} + z \\phi_{i,j,6} + \\phi_{i,j,7}$$"
      ],
      "text/plain": [
       "                 7                  6                  5                  4   \n",
       "\\Phi(z, i, j) = z ⋅\\phi[i, j, 0] + z ⋅\\phi[i, j, 1] + z ⋅\\phi[i, j, 2] + z ⋅\\p\n",
       "\n",
       "               3                  2                                           \n",
       "hi[i, j, 3] + z ⋅\\phi[i, j, 4] + z ⋅\\phi[i, j, 5] + z⋅\\phi[i, j, 6] + \\phi[i, \n",
       "\n",
       "     \n",
       "j, 7]"
      ]
     },
     "execution_count": 6,
     "metadata": {},
     "output_type": "execute_result"
    }
   ],
   "source": [
    "Phi_poly = Phi_poly_ctor(deg=m-1)\n",
    "Phi_poly"
   ]
  },
  {
   "cell_type": "code",
   "execution_count": 7,
   "metadata": {
    "collapsed": false,
    "deletable": true,
    "editable": true
   },
   "outputs": [
    {
     "data": {
      "image/png": "[encoded data removed]",
      "text/latex": [
       "$$\\left \\{ \\left ( 1, \\quad 1\\right ) : \\Phi_{ 1, 1 }{\\left (z \\right )} = 1, \\quad \\left ( 1, \\quad 2\\right ) : \\Phi_{ 1, 2 }{\\left (z \\right )} = z - \\lambda_{1}, \\quad \\left ( 1, \\quad 3\\right ) : \\Phi_{ 1, 3 }{\\left (z \\right )} = \\frac{z^{2}}{2} - z \\lambda_{1} + \\frac{\\lambda_{1}^{2}}{2}, \\quad \\left ( 1, \\quad 4\\right ) : \\Phi_{ 1, 4 }{\\left (z \\right )} = \\frac{z^{3}}{6} - \\frac{z^{2} \\lambda_{1}}{2} + \\frac{z \\lambda_{1}^{2}}{2} - \\frac{\\lambda_{1}^{3}}{6}, \\quad \\left ( 1, \\quad 5\\right ) : \\Phi_{ 1, 5 }{\\left (z \\right )} = \\frac{z^{4}}{24} - \\frac{z^{3} \\lambda_{1}}{6} + \\frac{z^{2} \\lambda_{1}^{2}}{4} - \\frac{z \\lambda_{1}^{3}}{6} + \\frac{\\lambda_{1}^{4}}{24}, \\quad \\left ( 1, \\quad 6\\right ) : \\Phi_{ 1, 6 }{\\left (z \\right )} = \\frac{z^{5}}{120} - \\frac{z^{4} \\lambda_{1}}{24} + \\frac{z^{3} \\lambda_{1}^{2}}{12} - \\frac{z^{2} \\lambda_{1}^{3}}{12} + \\frac{z \\lambda_{1}^{4}}{24} - \\frac{\\lambda_{1}^{5}}{120}, \\quad \\left ( 1, \\quad 7\\right ) : \\Phi_{ 1, 7 }{\\left (z \\right )} = \\frac{z^{6}}{720} - \\frac{z^{5} \\lambda_{1}}{120} + \\frac{z^{4} \\lambda_{1}^{2}}{48} - \\frac{z^{3} \\lambda_{1}^{3}}{36} + \\frac{z^{2} \\lambda_{1}^{4}}{48} - \\frac{z \\lambda_{1}^{5}}{120} + \\frac{\\lambda_{1}^{6}}{720}, \\quad \\left ( 1, \\quad 8\\right ) : \\Phi_{ 1, 8 }{\\left (z \\right )} = \\frac{z^{7}}{5040} - \\frac{z^{6} \\lambda_{1}}{720} + \\frac{z^{5} \\lambda_{1}^{2}}{240} - \\frac{z^{4} \\lambda_{1}^{3}}{144} + \\frac{z^{3} \\lambda_{1}^{4}}{144} - \\frac{z^{2} \\lambda_{1}^{5}}{240} + \\frac{z \\lambda_{1}^{6}}{720} - \\frac{\\lambda_{1}^{7}}{5040}\\right \\}$$"
      ],
      "text/plain": [
       "⎧                                                                             \n",
       "⎪                                                                             \n",
       "⎨(1, 1): \\Phi_{ 1, 1 }(z) = 1, (1, 2): \\Phi_{ 1, 2 }(z) = z - \\lambda[1], (1, \n",
       "⎪                                                                             \n",
       "⎩                                                                             \n",
       "\n",
       "                        2                            2                        \n",
       "                       z                   \\lambda[1]                         \n",
       "3): \\Phi_{ 1, 3 }(z) = ── - z⋅\\lambda[1] + ───────────, (1, 4): \\Phi_{ 1, 4 }(\n",
       "                       2                        2                             \n",
       "                                                                              \n",
       "\n",
       "      3    2                          2             3                         \n",
       "     z    z ⋅\\lambda[1]   z⋅\\lambda[1]    \\lambda[1]                          \n",
       "z) = ── - ───────────── + ───────────── - ───────────, (1, 5): \\Phi_{ 1, 5 }(z\n",
       "     6          2               2              6                              \n",
       "                                                                              \n",
       "\n",
       "     4    3               2           2               3             4         \n",
       "    z    z ⋅\\lambda[1]   z ⋅\\lambda[1]    z⋅\\lambda[1]    \\lambda[1]          \n",
       ") = ── - ───────────── + ────────────── - ───────────── + ───────────, (1, 6):\n",
       "    24         6               4                6              24             \n",
       "                                                                              \n",
       "\n",
       "                      5    4               3           2    2           3     \n",
       "                     z    z ⋅\\lambda[1]   z ⋅\\lambda[1]    z ⋅\\lambda[1]    z⋅\n",
       " \\Phi_{ 1, 6 }(z) = ─── - ───────────── + ────────────── - ────────────── + ──\n",
       "                    120         24              12               12           \n",
       "                                                                              \n",
       "\n",
       "          4             5                               6    5               4\n",
       "\\lambda[1]    \\lambda[1]                               z    z ⋅\\lambda[1]   z \n",
       "─────────── - ───────────, (1, 7): \\Phi_{ 1, 7 }(z) = ─── - ───────────── + ──\n",
       "    24            120                                 720        120          \n",
       "                                                                              \n",
       "\n",
       "           2    3           3    2           4               5             6  \n",
       "⋅\\lambda[1]    z ⋅\\lambda[1]    z ⋅\\lambda[1]    z⋅\\lambda[1]    \\lambda[1]   \n",
       "──────────── - ────────────── + ────────────── - ───────────── + ───────────, \n",
       "    48               36               48              120            720      \n",
       "                                                                              \n",
       "\n",
       "                             7     6               5           2    4         \n",
       "                            z     z ⋅\\lambda[1]   z ⋅\\lambda[1]    z ⋅\\lambda[\n",
       "(1, 8): \\Phi_{ 1, 8 }(z) = ──── - ───────────── + ────────────── - ───────────\n",
       "                           5040        720             240              144   \n",
       "                                                                              \n",
       "\n",
       "  3    3           4    2           5               6             7⎫\n",
       "1]    z ⋅\\lambda[1]    z ⋅\\lambda[1]    z⋅\\lambda[1]    \\lambda[1] ⎪\n",
       "─── + ────────────── - ────────────── + ───────────── - ───────────⎬\n",
       "           144              240              720            5040   ⎪\n",
       "                                                                   ⎭"
      ]
     },
     "execution_count": 7,
     "metadata": {},
     "output_type": "execute_result"
    }
   ],
   "source": [
    "Phi_polynomials = component_polynomials(eigendata, early_eigenvals_subs=False)\n",
    "Phi_polynomials"
   ]
  },
  {
   "cell_type": "code",
   "execution_count": 8,
   "metadata": {
    "collapsed": false,
    "deletable": true,
    "editable": true
   },
   "outputs": [
    {
     "data": {
      "image/png": "[encoded data removed]",
      "text/latex": [
       "$$\\left \\{ \\left ( 1, \\quad 1\\right ) : \\Phi_{ 1, 1 }{\\left (z \\right )} = 1, \\quad \\left ( 1, \\quad 2\\right ) : \\Phi_{ 1, 2 }{\\left (z \\right )} = z - 1, \\quad \\left ( 1, \\quad 3\\right ) : \\Phi_{ 1, 3 }{\\left (z \\right )} = \\frac{z^{2}}{2} - z + \\frac{1}{2}, \\quad \\left ( 1, \\quad 4\\right ) : \\Phi_{ 1, 4 }{\\left (z \\right )} = \\frac{z^{3}}{6} - \\frac{z^{2}}{2} + \\frac{z}{2} - \\frac{1}{6}, \\quad \\left ( 1, \\quad 5\\right ) : \\Phi_{ 1, 5 }{\\left (z \\right )} = \\frac{z^{4}}{24} - \\frac{z^{3}}{6} + \\frac{z^{2}}{4} - \\frac{z}{6} + \\frac{1}{24}, \\quad \\left ( 1, \\quad 6\\right ) : \\Phi_{ 1, 6 }{\\left (z \\right )} = \\frac{z^{5}}{120} - \\frac{z^{4}}{24} + \\frac{z^{3}}{12} - \\frac{z^{2}}{12} + \\frac{z}{24} - \\frac{1}{120}, \\quad \\left ( 1, \\quad 7\\right ) : \\Phi_{ 1, 7 }{\\left (z \\right )} = \\frac{z^{6}}{720} - \\frac{z^{5}}{120} + \\frac{z^{4}}{48} - \\frac{z^{3}}{36} + \\frac{z^{2}}{48} - \\frac{z}{120} + \\frac{1}{720}, \\quad \\left ( 1, \\quad 8\\right ) : \\Phi_{ 1, 8 }{\\left (z \\right )} = \\frac{z^{7}}{5040} - \\frac{z^{6}}{720} + \\frac{z^{5}}{240} - \\frac{z^{4}}{144} + \\frac{z^{3}}{144} - \\frac{z^{2}}{240} + \\frac{z}{720} - \\frac{1}{5040}\\right \\}$$"
      ],
      "text/plain": [
       "⎧                                                                             \n",
       "⎪                                                                             \n",
       "⎨(1, 1): \\Phi_{ 1, 1 }(z) = 1, (1, 2): \\Phi_{ 1, 2 }(z) = z - 1, (1, 3): \\Phi_\n",
       "⎪                                                                             \n",
       "⎩                                                                             \n",
       "\n",
       "               2                                      3    2                  \n",
       "              z        1                             z    z    z   1          \n",
       "{ 1, 3 }(z) = ── - z + ─, (1, 4): \\Phi_{ 1, 4 }(z) = ── - ── + ─ - ─, (1, 5): \n",
       "              2        2                             6    2    2   6          \n",
       "                                                                              \n",
       "\n",
       "                    4    3    2                                        5    4 \n",
       "                   z    z    z    z   1                               z    z  \n",
       "\\Phi_{ 1, 5 }(z) = ── - ── + ── - ─ + ──, (1, 6): \\Phi_{ 1, 6 }(z) = ─── - ── \n",
       "                   24   6    4    6   24                             120   24 \n",
       "                                                                              \n",
       "\n",
       "   3    2                                          6     5    4    3    2     \n",
       "  z    z    z     1                               z     z    z    z    z     z\n",
       "+ ── - ── + ── - ───, (1, 7): \\Phi_{ 1, 7 }(z) = ─── - ─── + ── - ── + ── - ──\n",
       "  12   12   24   120                             720   120   48   36   48   12\n",
       "                                                                              \n",
       "\n",
       "                                      7      6     5     4     3     2        \n",
       "     1                               z      z     z     z     z     z     z   \n",
       "─ + ───, (1, 8): \\Phi_{ 1, 8 }(z) = ──── - ─── + ─── - ─── + ─── - ─── + ─── -\n",
       "0   720                             5040   720   240   144   144   240   720  \n",
       "                                                                              \n",
       "\n",
       "     ⎫\n",
       "  1  ⎪\n",
       " ────⎬\n",
       " 5040⎪\n",
       "     ⎭"
      ]
     },
     "execution_count": 8,
     "metadata": {},
     "output_type": "execute_result"
    }
   ],
   "source": [
    "Phi_polynomials = component_polynomials(eigendata, early_eigenvals_subs=True)\n",
    "Phi_polynomials"
   ]
  },
  {
   "cell_type": "code",
   "execution_count": 9,
   "metadata": {
    "collapsed": false,
    "deletable": true,
    "editable": true
   },
   "outputs": [
    {
     "data": {
      "image/png": "[encoded data removed]",
      "text/latex": [
       "$$\\left ( \\left[\\begin{matrix}1 & 0 & 0 & 0 & 0 & 0 & 0 & 0\\\\- \\lambda_{1} & 1 & 0 & 0 & 0 & 0 & 0 & 0\\\\\\frac{\\lambda_{1}^{2}}{2} & - \\lambda_{1} & 1 & 0 & 0 & 0 & 0 & 0\\\\- \\frac{\\lambda_{1}^{3}}{6} & \\frac{\\lambda_{1}^{2}}{2} & - \\lambda_{1} & 1 & 0 & 0 & 0 & 0\\\\\\frac{\\lambda_{1}^{4}}{24} & - \\frac{\\lambda_{1}^{3}}{6} & \\frac{\\lambda_{1}^{2}}{2} & - \\lambda_{1} & 1 & 0 & 0 & 0\\\\- \\frac{\\lambda_{1}^{5}}{120} & \\frac{\\lambda_{1}^{4}}{24} & - \\frac{\\lambda_{1}^{3}}{6} & \\frac{\\lambda_{1}^{2}}{2} & - \\lambda_{1} & 1 & 0 & 0\\\\\\frac{\\lambda_{1}^{6}}{720} & - \\frac{\\lambda_{1}^{5}}{120} & \\frac{\\lambda_{1}^{4}}{24} & - \\frac{\\lambda_{1}^{3}}{6} & \\frac{\\lambda_{1}^{2}}{2} & - \\lambda_{1} & 1 & 0\\\\- \\frac{\\lambda_{1}^{7}}{5040} & \\frac{\\lambda_{1}^{6}}{720} & - \\frac{\\lambda_{1}^{5}}{120} & \\frac{\\lambda_{1}^{4}}{24} & - \\frac{\\lambda_{1}^{3}}{6} & \\frac{\\lambda_{1}^{2}}{2} & - \\lambda_{1} & 1\\end{matrix}\\right], \\quad \\left[\\begin{matrix}1\\\\z\\\\\\frac{z^{2}}{2!}\\\\\\frac{z^{3}}{3!}\\\\\\frac{z^{4}}{4!}\\\\\\frac{z^{5}}{5!}\\\\\\frac{z^{6}}{6!}\\\\\\frac{z^{7}}{7!}\\end{matrix}\\right], \\quad \\left[\\begin{matrix}\\Phi_{ 1, 1 }{\\left (z \\right )}\\\\\\Phi_{ 1, 2 }{\\left (z \\right )}\\\\\\Phi_{ 1, 3 }{\\left (z \\right )}\\\\\\Phi_{ 1, 4 }{\\left (z \\right )}\\\\\\Phi_{ 1, 5 }{\\left (z \\right )}\\\\\\Phi_{ 1, 6 }{\\left (z \\right )}\\\\\\Phi_{ 1, 7 }{\\left (z \\right )}\\\\\\Phi_{ 1, 8 }{\\left (z \\right )}\\end{matrix}\\right]\\right )$$"
      ],
      "text/plain": [
       "⎛⎡      1              0              0              0              0         \n",
       "⎜⎢                                                                            \n",
       "⎜⎢ -\\lambda[1]         1              0              0              0         \n",
       "⎜⎢                                                                            \n",
       "⎜⎢           2                                                                \n",
       "⎜⎢ \\lambda[1]                                                                 \n",
       "⎜⎢ ───────────    -\\lambda[1]         1              0              0         \n",
       "⎜⎢      2                                                                     \n",
       "⎜⎢                                                                            \n",
       "⎜⎢           3              2                                                 \n",
       "⎜⎢-\\lambda[1]     \\lambda[1]                                                  \n",
       "⎜⎢─────────────   ───────────    -\\lambda[1]         1              0         \n",
       "⎜⎢      6              2                                                      \n",
       "⎜⎢                                                                            \n",
       "⎜⎢           4              3              2                                  \n",
       "⎜⎢ \\lambda[1]    -\\lambda[1]     \\lambda[1]                                   \n",
       "⎜⎢ ───────────   ─────────────   ───────────    -\\lambda[1]         1         \n",
       "⎜⎢      24             6              2                                       \n",
       "⎜⎢                                                                            \n",
       "⎜⎢           5              4              3              2                   \n",
       "⎜⎢-\\lambda[1]     \\lambda[1]    -\\lambda[1]     \\lambda[1]                    \n",
       "⎜⎢─────────────   ───────────   ─────────────   ───────────    -\\lambda[1]    \n",
       "⎜⎢     120             24             6              2                        \n",
       "⎜⎢                                                                            \n",
       "⎜⎢           6              5              4              3              2    \n",
       "⎜⎢ \\lambda[1]    -\\lambda[1]     \\lambda[1]    -\\lambda[1]     \\lambda[1]     \n",
       "⎜⎢ ───────────   ─────────────   ───────────   ─────────────   ───────────   -\n",
       "⎜⎢     720            120             24             6              2         \n",
       "⎜⎢                                                                            \n",
       "⎜⎢           7              6              5              4              3    \n",
       "⎜⎢-\\lambda[1]     \\lambda[1]    -\\lambda[1]     \\lambda[1]    -\\lambda[1]    \\\n",
       "⎜⎢─────────────   ───────────   ─────────────   ───────────   ─────────────  ─\n",
       "⎝⎣     5040           720            120             24             6         \n",
       "\n",
       "    0            0       0⎤  ⎡1 ⎤                    ⎞\n",
       "                          ⎥  ⎢  ⎥                    ⎟\n",
       "    0            0       0⎥  ⎢z ⎥                    ⎟\n",
       "                          ⎥  ⎢  ⎥                    ⎟\n",
       "                          ⎥  ⎢ 2⎥                    ⎟\n",
       "                          ⎥  ⎢z ⎥                    ⎟\n",
       "    0            0       0⎥  ⎢──⎥                    ⎟\n",
       "                          ⎥  ⎢2!⎥                    ⎟\n",
       "                          ⎥  ⎢  ⎥                    ⎟\n",
       "                          ⎥  ⎢ 3⎥  ⎡\\Phi_{ 1, 1 }(z)⎤⎟\n",
       "                          ⎥  ⎢z ⎥  ⎢                ⎥⎟\n",
       "    0            0       0⎥  ⎢──⎥  ⎢\\Phi_{ 1, 2 }(z)⎥⎟\n",
       "                          ⎥  ⎢3!⎥  ⎢                ⎥⎟\n",
       "                          ⎥  ⎢  ⎥  ⎢\\Phi_{ 1, 3 }(z)⎥⎟\n",
       "                          ⎥  ⎢ 4⎥  ⎢                ⎥⎟\n",
       "                          ⎥  ⎢z ⎥  ⎢\\Phi_{ 1, 4 }(z)⎥⎟\n",
       "    0            0       0⎥, ⎢──⎥, ⎢                ⎥⎟\n",
       "                          ⎥  ⎢4!⎥  ⎢\\Phi_{ 1, 5 }(z)⎥⎟\n",
       "                          ⎥  ⎢  ⎥  ⎢                ⎥⎟\n",
       "                          ⎥  ⎢ 5⎥  ⎢\\Phi_{ 1, 6 }(z)⎥⎟\n",
       "                          ⎥  ⎢z ⎥  ⎢                ⎥⎟\n",
       "    1            0       0⎥  ⎢──⎥  ⎢\\Phi_{ 1, 7 }(z)⎥⎟\n",
       "                          ⎥  ⎢5!⎥  ⎢                ⎥⎟\n",
       "                          ⎥  ⎢  ⎥  ⎣\\Phi_{ 1, 8 }(z)⎦⎟\n",
       "                          ⎥  ⎢ 6⎥                    ⎟\n",
       "                          ⎥  ⎢z ⎥                    ⎟\n",
       "\\lambda[1]       1       0⎥  ⎢──⎥                    ⎟\n",
       "                          ⎥  ⎢6!⎥                    ⎟\n",
       "                          ⎥  ⎢  ⎥                    ⎟\n",
       "         2                ⎥  ⎢ 7⎥                    ⎟\n",
       "lambda[1]                 ⎥  ⎢z ⎥                    ⎟\n",
       "──────────  -\\lambda[1]  1⎥  ⎢──⎥                    ⎟\n",
       "    2                     ⎦  ⎣7!⎦                    ⎠"
      ]
     },
     "execution_count": 9,
     "metadata": {},
     "output_type": "execute_result"
    }
   ],
   "source": [
    "res_expt = M_expt, z_expt, Phi_expt =(\n",
    "    Matrix(m, m, lambda n,k: (-lamda_indexed[1])**(n-k)/(factorial(n-k)) if n-k >= 0 else 0),\n",
    "    Matrix([z**i/factorial(i, evaluate=i<2) for i in range(m)]),\n",
    "    Matrix([Function(r'\\Phi_{{ {}, {} }}'.format(1, j))(z) for j in range(1, m+1)]))\n",
    "\n",
    "res_expt"
   ]
  },
  {
   "cell_type": "code",
   "execution_count": 10,
   "metadata": {
    "collapsed": false,
    "deletable": true,
    "editable": true
   },
   "outputs": [
    {
     "data": {
      "image/png": "[encoded data removed]",
      "text/latex": [
       "$$\\left[\\begin{matrix}- \\lambda_{1} & 1 & 0 & 0 & 0 & 0 & 0\\\\- \\frac{\\lambda_{1}^{2}}{2} & 0 & 1 & 0 & 0 & 0 & 0\\\\- \\frac{\\lambda_{1}^{3}}{6} & 0 & 0 & 1 & 0 & 0 & 0\\\\- \\frac{\\lambda_{1}^{4}}{24} & 0 & 0 & 0 & 1 & 0 & 0\\\\- \\frac{\\lambda_{1}^{5}}{120} & 0 & 0 & 0 & 0 & 1 & 0\\\\- \\frac{\\lambda_{1}^{6}}{720} & 0 & 0 & 0 & 0 & 0 & 1\\\\- \\frac{\\lambda_{1}^{7}}{5040} & 0 & 0 & 0 & 0 & 0 & 0\\end{matrix}\\right]$$"
      ],
      "text/plain": [
       "⎡ -\\lambda[1]   1  0  0  0  0  0⎤\n",
       "⎢                               ⎥\n",
       "⎢           2                   ⎥\n",
       "⎢-\\lambda[1]                    ⎥\n",
       "⎢─────────────  0  1  0  0  0  0⎥\n",
       "⎢      2                        ⎥\n",
       "⎢                               ⎥\n",
       "⎢           3                   ⎥\n",
       "⎢-\\lambda[1]                    ⎥\n",
       "⎢─────────────  0  0  1  0  0  0⎥\n",
       "⎢      6                        ⎥\n",
       "⎢                               ⎥\n",
       "⎢           4                   ⎥\n",
       "⎢-\\lambda[1]                    ⎥\n",
       "⎢─────────────  0  0  0  1  0  0⎥\n",
       "⎢      24                       ⎥\n",
       "⎢                               ⎥\n",
       "⎢           5                   ⎥\n",
       "⎢-\\lambda[1]                    ⎥\n",
       "⎢─────────────  0  0  0  0  1  0⎥\n",
       "⎢     120                       ⎥\n",
       "⎢                               ⎥\n",
       "⎢           6                   ⎥\n",
       "⎢-\\lambda[1]                    ⎥\n",
       "⎢─────────────  0  0  0  0  0  1⎥\n",
       "⎢     720                       ⎥\n",
       "⎢                               ⎥\n",
       "⎢           7                   ⎥\n",
       "⎢-\\lambda[1]                    ⎥\n",
       "⎢─────────────  0  0  0  0  0  0⎥\n",
       "⎣     5040                      ⎦"
      ]
     },
     "execution_count": 10,
     "metadata": {},
     "output_type": "execute_result"
    }
   ],
   "source": [
    "production_matrix(M_expt)"
   ]
  },
  {
   "cell_type": "code",
   "execution_count": 11,
   "metadata": {
    "collapsed": false,
    "deletable": true,
    "editable": true
   },
   "outputs": [
    {
     "data": {
      "image/png": "[encoded data removed]",
      "text/latex": [
       "$$1 - t \\lambda_{1} + \\frac{t^{2} \\lambda_{1}^{2}}{2} - \\frac{t^{3} \\lambda_{1}^{3}}{6} + \\frac{t^{4} \\lambda_{1}^{4}}{24} - \\frac{t^{5} \\lambda_{1}^{5}}{120} + \\frac{t^{6} \\lambda_{1}^{6}}{720} - \\frac{t^{7} \\lambda_{1}^{7}}{5040} + \\mathcal{O}\\left(t^{8}\\right)$$"
      ],
      "text/plain": [
       "                    2           2    3           3    4           4    5      \n",
       "                   t ⋅\\lambda[1]    t ⋅\\lambda[1]    t ⋅\\lambda[1]    t ⋅\\lamb\n",
       "1 - t⋅\\lambda[1] + ────────────── - ────────────── + ────────────── - ────────\n",
       "                         2                6                24              120\n",
       "\n",
       "     5    6           6    7           7        \n",
       "da[1]    t ⋅\\lambda[1]    t ⋅\\lambda[1]     ⎛ 8⎞\n",
       "────── + ────────────── - ────────────── + O⎝t ⎠\n",
       "              720              5040             "
      ]
     },
     "execution_count": 11,
     "metadata": {},
     "output_type": "execute_result"
    }
   ],
   "source": [
    "exp(-lamda_indexed[1]*t).series(t, n=m)"
   ]
  },
  {
   "cell_type": "code",
   "execution_count": 12,
   "metadata": {
    "collapsed": false,
    "deletable": true,
    "editable": true
   },
   "outputs": [
    {
     "data": {
      "image/png": "[encoded data removed]",
      "text/latex": [
       "$$\\left[\\begin{matrix}1 & 0 & 0 & 0 & 0 & 0 & 0 & 0\\\\- \\lambda_{1} & 1 & 0 & 0 & 0 & 0 & 0 & 0\\\\\\frac{\\lambda_{1}^{2}}{2} & - \\lambda_{1} & 1 & 0 & 0 & 0 & 0 & 0\\\\- \\frac{\\lambda_{1}^{3}}{6} & \\frac{\\lambda_{1}^{2}}{2} & - \\lambda_{1} & 1 & 0 & 0 & 0 & 0\\\\\\frac{\\lambda_{1}^{4}}{24} & - \\frac{\\lambda_{1}^{3}}{6} & \\frac{\\lambda_{1}^{2}}{2} & - \\lambda_{1} & 1 & 0 & 0 & 0\\\\- \\frac{\\lambda_{1}^{5}}{120} & \\frac{\\lambda_{1}^{4}}{24} & - \\frac{\\lambda_{1}^{3}}{6} & \\frac{\\lambda_{1}^{2}}{2} & - \\lambda_{1} & 1 & 0 & 0\\\\\\frac{\\lambda_{1}^{6}}{720} & - \\frac{\\lambda_{1}^{5}}{120} & \\frac{\\lambda_{1}^{4}}{24} & - \\frac{\\lambda_{1}^{3}}{6} & \\frac{\\lambda_{1}^{2}}{2} & - \\lambda_{1} & 1 & 0\\\\- \\frac{\\lambda_{1}^{7}}{5040} & \\frac{\\lambda_{1}^{6}}{720} & - \\frac{\\lambda_{1}^{5}}{120} & \\frac{\\lambda_{1}^{4}}{24} & - \\frac{\\lambda_{1}^{3}}{6} & \\frac{\\lambda_{1}^{2}}{2} & - \\lambda_{1} & 1\\end{matrix}\\right]$$"
      ],
      "text/plain": [
       "⎡      1              0              0              0              0          \n",
       "⎢                                                                             \n",
       "⎢ -\\lambda[1]         1              0              0              0          \n",
       "⎢                                                                             \n",
       "⎢           2                                                                 \n",
       "⎢ \\lambda[1]                                                                  \n",
       "⎢ ───────────    -\\lambda[1]         1              0              0          \n",
       "⎢      2                                                                      \n",
       "⎢                                                                             \n",
       "⎢           3              2                                                  \n",
       "⎢-\\lambda[1]     \\lambda[1]                                                   \n",
       "⎢─────────────   ───────────    -\\lambda[1]         1              0          \n",
       "⎢      6              2                                                       \n",
       "⎢                                                                             \n",
       "⎢           4              3              2                                   \n",
       "⎢ \\lambda[1]    -\\lambda[1]     \\lambda[1]                                    \n",
       "⎢ ───────────   ─────────────   ───────────    -\\lambda[1]         1          \n",
       "⎢      24             6              2                                        \n",
       "⎢                                                                             \n",
       "⎢           5              4              3              2                    \n",
       "⎢-\\lambda[1]     \\lambda[1]    -\\lambda[1]     \\lambda[1]                     \n",
       "⎢─────────────   ───────────   ─────────────   ───────────    -\\lambda[1]     \n",
       "⎢     120             24             6              2                         \n",
       "⎢                                                                             \n",
       "⎢           6              5              4              3              2     \n",
       "⎢ \\lambda[1]    -\\lambda[1]     \\lambda[1]    -\\lambda[1]     \\lambda[1]      \n",
       "⎢ ───────────   ─────────────   ───────────   ─────────────   ───────────   -\\\n",
       "⎢     720            120             24             6              2          \n",
       "⎢                                                                             \n",
       "⎢           7              6              5              4              3     \n",
       "⎢-\\lambda[1]     \\lambda[1]    -\\lambda[1]     \\lambda[1]    -\\lambda[1]    \\l\n",
       "⎢─────────────   ───────────   ─────────────   ───────────   ─────────────  ──\n",
       "⎣     5040           720            120             24             6          \n",
       "\n",
       "   0            0       0⎤\n",
       "                         ⎥\n",
       "   0            0       0⎥\n",
       "                         ⎥\n",
       "                         ⎥\n",
       "                         ⎥\n",
       "   0            0       0⎥\n",
       "                         ⎥\n",
       "                         ⎥\n",
       "                         ⎥\n",
       "                         ⎥\n",
       "   0            0       0⎥\n",
       "                         ⎥\n",
       "                         ⎥\n",
       "                         ⎥\n",
       "                         ⎥\n",
       "   0            0       0⎥\n",
       "                         ⎥\n",
       "                         ⎥\n",
       "                         ⎥\n",
       "                         ⎥\n",
       "   1            0       0⎥\n",
       "                         ⎥\n",
       "                         ⎥\n",
       "                         ⎥\n",
       "                         ⎥\n",
       "lambda[1]       1       0⎥\n",
       "                         ⎥\n",
       "                         ⎥\n",
       "        2                ⎥\n",
       "ambda[1]                 ⎥\n",
       "─────────  -\\lambda[1]  1⎥\n",
       "   2                     ⎦"
      ]
     },
     "execution_count": 12,
     "metadata": {},
     "output_type": "execute_result"
    }
   ],
   "source": [
    "g, f = Function('g'), Function('f')\n",
    "ERA = Matrix(m, m, riordan_matrix_by_convolution(m, \n",
    "                                                 d=Eq(g(t), exp(-lamda_indexed[1]*t)), \n",
    "                                                 h=Eq(f(t), t)))\n",
    "ERA"
   ]
  },
  {
   "cell_type": "code",
   "execution_count": 13,
   "metadata": {
    "collapsed": true,
    "deletable": true,
    "editable": true
   },
   "outputs": [],
   "source": [
    "assert M_expt == ERA"
   ]
  },
  {
   "cell_type": "code",
   "execution_count": 14,
   "metadata": {
    "collapsed": false,
    "deletable": true,
    "editable": true
   },
   "outputs": [
    {
     "data": {
      "image/png": "[encoded data removed]",
      "text/latex": [
       "$$\\left ( 1 + t z + \\frac{t^{2} z^{2}}{2} + \\frac{t^{3} z^{3}}{6} + \\frac{t^{4} z^{4}}{24} + \\frac{t^{5} z^{5}}{120} + \\frac{t^{6} z^{6}}{720} + \\frac{t^{7} z^{7}}{5040} + \\mathcal{O}\\left(t^{8}\\right), \\quad \\left [ 1, \\quad 1, \\quad 2, \\quad 6, \\quad 24, \\quad 120, \\quad 720, \\quad 5040\\right ]\\right )$$"
      ],
      "text/plain": [
       "⎛           2  2    3  3    4  4    5  5    6  6    7  7                      \n",
       "⎜          t ⋅z    t ⋅z    t ⋅z    t ⋅z    t ⋅z    t ⋅z     ⎛ 8⎞              \n",
       "⎜1 + t⋅z + ───── + ───── + ───── + ───── + ───── + ───── + O⎝t ⎠, [1, 1, 2, 6,\n",
       "⎝            2       6       24     120     720     5040                      \n",
       "\n",
       "                    ⎞\n",
       "                    ⎟\n",
       " 24, 120, 720, 5040]⎟\n",
       "                    ⎠"
      ]
     },
     "execution_count": 14,
     "metadata": {},
     "output_type": "execute_result"
    }
   ],
   "source": [
    "exp(z*t).series(t, n=m), [factorial(i) for i in range(m)]"
   ]
  },
  {
   "cell_type": "code",
   "execution_count": 15,
   "metadata": {
    "collapsed": false,
    "deletable": true,
    "editable": true
   },
   "outputs": [
    {
     "data": {
      "image/png": "[encoded data removed]",
      "text/latex": [
       "$$1 + t \\left(z - \\lambda_{1}\\right) + t^{2} \\left(\\frac{z^{2}}{2} - z \\lambda_{1} + \\frac{\\lambda_{1}^{2}}{2}\\right) + t^{3} \\left(\\frac{z^{3}}{6} - \\frac{z^{2} \\lambda_{1}}{2} + \\frac{z \\lambda_{1}^{2}}{2} - \\frac{\\lambda_{1}^{3}}{6}\\right) + t^{4} \\left(\\frac{z^{4}}{24} - \\frac{z^{3} \\lambda_{1}}{6} + \\frac{z^{2} \\lambda_{1}^{2}}{4} - \\frac{z \\lambda_{1}^{3}}{6} + \\frac{\\lambda_{1}^{4}}{24}\\right) + t^{5} \\left(\\frac{z^{5}}{120} - \\frac{z^{4} \\lambda_{1}}{24} + \\frac{z^{3} \\lambda_{1}^{2}}{12} - \\frac{z^{2} \\lambda_{1}^{3}}{12} + \\frac{z \\lambda_{1}^{4}}{24} - \\frac{\\lambda_{1}^{5}}{120}\\right) + t^{6} \\left(\\frac{z^{6}}{720} - \\frac{z^{5} \\lambda_{1}}{120} + \\frac{z^{4} \\lambda_{1}^{2}}{48} - \\frac{z^{3} \\lambda_{1}^{3}}{36} + \\frac{z^{2} \\lambda_{1}^{4}}{48} - \\frac{z \\lambda_{1}^{5}}{120} + \\frac{\\lambda_{1}^{6}}{720}\\right) + t^{7} \\left(\\frac{z^{7}}{5040} - \\frac{z^{6} \\lambda_{1}}{720} + \\frac{z^{5} \\lambda_{1}^{2}}{240} - \\frac{z^{4} \\lambda_{1}^{3}}{144} + \\frac{z^{3} \\lambda_{1}^{4}}{144} - \\frac{z^{2} \\lambda_{1}^{5}}{240} + \\frac{z \\lambda_{1}^{6}}{720} - \\frac{\\lambda_{1}^{7}}{5040}\\right) + \\mathcal{O}\\left(t^{8}\\right)$$"
      ],
      "text/plain": [
       "                            ⎛ 2                            2⎞      ⎛ 3    2   \n",
       "                          2 ⎜z                   \\lambda[1] ⎟    3 ⎜z    z ⋅\\l\n",
       "1 + t⋅(z - \\lambda[1]) + t ⋅⎜── - z⋅\\lambda[1] + ───────────⎟ + t ⋅⎜── - ─────\n",
       "                            ⎝2                        2     ⎠      ⎝6         \n",
       "\n",
       "                       2             3⎞      ⎛ 4    3               2         \n",
       "ambda[1]   z⋅\\lambda[1]    \\lambda[1] ⎟    4 ⎜z    z ⋅\\lambda[1]   z ⋅\\lambda[\n",
       "──────── + ───────────── - ───────────⎟ + t ⋅⎜── - ───────────── + ───────────\n",
       " 2               2              6     ⎠      ⎝24         6               4    \n",
       "\n",
       "  2               3             4⎞      ⎛  5    4               3           2 \n",
       "1]    z⋅\\lambda[1]    \\lambda[1] ⎟    5 ⎜ z    z ⋅\\lambda[1]   z ⋅\\lambda[1]  \n",
       "─── - ───────────── + ───────────⎟ + t ⋅⎜─── - ───────────── + ────────────── \n",
       "            6              24    ⎠      ⎝120         24              12       \n",
       "\n",
       "   2           3               4             5⎞      ⎛  6    5               4\n",
       "  z ⋅\\lambda[1]    z⋅\\lambda[1]    \\lambda[1] ⎟    6 ⎜ z    z ⋅\\lambda[1]   z \n",
       "- ────────────── + ───────────── - ───────────⎟ + t ⋅⎜─── - ───────────── + ──\n",
       "        12               24            120    ⎠      ⎝720        120          \n",
       "\n",
       "           2    3           3    2           4               5             6⎞ \n",
       "⋅\\lambda[1]    z ⋅\\lambda[1]    z ⋅\\lambda[1]    z⋅\\lambda[1]    \\lambda[1] ⎟ \n",
       "──────────── - ────────────── + ────────────── - ───────────── + ───────────⎟ \n",
       "    48               36               48              120            720    ⎠ \n",
       "\n",
       "     ⎛  7     6               5           2    4           3    3           4 \n",
       "   7 ⎜ z     z ⋅\\lambda[1]   z ⋅\\lambda[1]    z ⋅\\lambda[1]    z ⋅\\lambda[1]  \n",
       "+ t ⋅⎜──── - ───────────── + ────────────── - ────────────── + ────────────── \n",
       "     ⎝5040        720             240              144              144       \n",
       "\n",
       "   2           5               6             7⎞        \n",
       "  z ⋅\\lambda[1]    z⋅\\lambda[1]    \\lambda[1] ⎟    ⎛ 8⎞\n",
       "- ────────────── + ───────────── - ───────────⎟ + O⎝t ⎠\n",
       "       240              720            5040   ⎠        "
      ]
     },
     "execution_count": 15,
     "metadata": {},
     "output_type": "execute_result"
    }
   ],
   "source": [
    "exp(t*(z-lamda_indexed[1])).series(t, n=m)"
   ]
  },
  {
   "cell_type": "code",
   "execution_count": 16,
   "metadata": {
    "collapsed": false,
    "deletable": true,
    "editable": true
   },
   "outputs": [
    {
     "data": {
      "image/png": "[encoded data removed]",
      "text/latex": [
       "$$\\left[\\begin{matrix}\\left. f{\\left (t \\right )} \\right|_{\\substack{ t=\\lambda_{1} }} & 0 & 0 & 0 & 0 & 0 & 0 & 0\\\\0 & \\left. \\frac{d}{d t} f{\\left (t \\right )} \\right|_{\\substack{ t=\\lambda_{1} }} & 0 & 0 & 0 & 0 & 0 & 0\\\\0 & 0 & \\left. \\frac{d^{2}}{d t^{2}}  f{\\left (t \\right )} \\right|_{\\substack{ t=\\lambda_{1} }} & 0 & 0 & 0 & 0 & 0\\\\0 & 0 & 0 & \\left. \\frac{d^{3}}{d t^{3}}  f{\\left (t \\right )} \\right|_{\\substack{ t=\\lambda_{1} }} & 0 & 0 & 0 & 0\\\\0 & 0 & 0 & 0 & \\left. \\frac{d^{4}}{d t^{4}}  f{\\left (t \\right )} \\right|_{\\substack{ t=\\lambda_{1} }} & 0 & 0 & 0\\\\0 & 0 & 0 & 0 & 0 & \\left. \\frac{d^{5}}{d t^{5}}  f{\\left (t \\right )} \\right|_{\\substack{ t=\\lambda_{1} }} & 0 & 0\\\\0 & 0 & 0 & 0 & 0 & 0 & \\left. \\frac{d^{6}}{d t^{6}}  f{\\left (t \\right )} \\right|_{\\substack{ t=\\lambda_{1} }} & 0\\\\0 & 0 & 0 & 0 & 0 & 0 & 0 & \\left. \\frac{d^{7}}{d t^{7}}  f{\\left (t \\right )} \\right|_{\\substack{ t=\\lambda_{1} }}\\end{matrix}\\right]$$"
      ],
      "text/plain": [
       "⎡(f(t))│                         0                        0                   \n",
       "⎢      │t=\\lambda[1]                                                          \n",
       "⎢                                                                             \n",
       "⎢                     ⎛d       ⎞│                                             \n",
       "⎢         0           ⎜──(f(t))⎟│                         0                   \n",
       "⎢                     ⎝dt      ⎠│t=\\lambda[1]                                 \n",
       "⎢                                                                             \n",
       "⎢                                              ⎛  2      ⎞│                   \n",
       "⎢                                              ⎜ d       ⎟│                   \n",
       "⎢         0                      0             ⎜───(f(t))⎟│                   \n",
       "⎢                                              ⎜  2      ⎟│                   \n",
       "⎢                                              ⎝dt       ⎠│t=\\lambda[1]       \n",
       "⎢                                                                             \n",
       "⎢                                                                        ⎛  3 \n",
       "⎢                                                                        ⎜ d  \n",
       "⎢         0                      0                        0              ⎜───(\n",
       "⎢                                                                        ⎜  3 \n",
       "⎢                                                                        ⎝dt  \n",
       "⎢                                                                             \n",
       "⎢                                                                             \n",
       "⎢                                                                             \n",
       "⎢         0                      0                        0                   \n",
       "⎢                                                                             \n",
       "⎢                                                                             \n",
       "⎢                                                                             \n",
       "⎢                                                                             \n",
       "⎢                                                                             \n",
       "⎢         0                      0                        0                   \n",
       "⎢                                                                             \n",
       "⎢                                                                             \n",
       "⎢                                                                             \n",
       "⎢                                                                             \n",
       "⎢                                                                             \n",
       "⎢         0                      0                        0                   \n",
       "⎢                                                                             \n",
       "⎢                                                                             \n",
       "⎢                                                                             \n",
       "⎢                                                                             \n",
       "⎢                                                                             \n",
       "⎢         0                      0                        0                   \n",
       "⎢                                                                             \n",
       "⎣                                                                             \n",
       "\n",
       "      0                         0                         0                   \n",
       "                                                                              \n",
       "                                                                              \n",
       "                                                                              \n",
       "      0                         0                         0                   \n",
       "                                                                              \n",
       "                                                                              \n",
       "                                                                              \n",
       "                                                                              \n",
       "      0                         0                         0                   \n",
       "                                                                              \n",
       "                                                                              \n",
       "                                                                              \n",
       "     ⎞│                                                                       \n",
       "     ⎟│                                                                       \n",
       "f(t))⎟│                         0                         0                   \n",
       "     ⎟│                                                                       \n",
       "     ⎠│t=\\lambda[1]                                                           \n",
       "                                                                              \n",
       "                     ⎛  4      ⎞│                                             \n",
       "                     ⎜ d       ⎟│                                             \n",
       "      0              ⎜───(f(t))⎟│                         0                   \n",
       "                     ⎜  4      ⎟│                                             \n",
       "                     ⎝dt       ⎠│t=\\lambda[1]                                 \n",
       "                                                                              \n",
       "                                               ⎛  5      ⎞│                   \n",
       "                                               ⎜ d       ⎟│                   \n",
       "      0                         0              ⎜───(f(t))⎟│                   \n",
       "                                               ⎜  5      ⎟│                   \n",
       "                                               ⎝dt       ⎠│t=\\lambda[1]       \n",
       "                                                                              \n",
       "                                                                         ⎛  6 \n",
       "                                                                         ⎜ d  \n",
       "      0                         0                         0              ⎜───(\n",
       "                                                                         ⎜  6 \n",
       "                                                                         ⎝dt  \n",
       "                                                                              \n",
       "                                                                              \n",
       "                                                                              \n",
       "      0                         0                         0                   \n",
       "                                                                              \n",
       "                                                                              \n",
       "\n",
       "      0                         0            ⎤\n",
       "                                             ⎥\n",
       "                                             ⎥\n",
       "                                             ⎥\n",
       "      0                         0            ⎥\n",
       "                                             ⎥\n",
       "                                             ⎥\n",
       "                                             ⎥\n",
       "                                             ⎥\n",
       "      0                         0            ⎥\n",
       "                                             ⎥\n",
       "                                             ⎥\n",
       "                                             ⎥\n",
       "                                             ⎥\n",
       "                                             ⎥\n",
       "      0                         0            ⎥\n",
       "                                             ⎥\n",
       "                                             ⎥\n",
       "                                             ⎥\n",
       "                                             ⎥\n",
       "                                             ⎥\n",
       "      0                         0            ⎥\n",
       "                                             ⎥\n",
       "                                             ⎥\n",
       "                                             ⎥\n",
       "                                             ⎥\n",
       "                                             ⎥\n",
       "      0                         0            ⎥\n",
       "                                             ⎥\n",
       "                                             ⎥\n",
       "                                             ⎥\n",
       "     ⎞│                                      ⎥\n",
       "     ⎟│                                      ⎥\n",
       "f(t))⎟│                         0            ⎥\n",
       "     ⎟│                                      ⎥\n",
       "     ⎠│t=\\lambda[1]                          ⎥\n",
       "                                             ⎥\n",
       "                     ⎛  7      ⎞│            ⎥\n",
       "                     ⎜ d       ⎟│            ⎥\n",
       "      0              ⎜───(f(t))⎟│            ⎥\n",
       "                     ⎜  7      ⎟│            ⎥\n",
       "                     ⎝dt       ⎠│t=\\lambda[1]⎦"
      ]
     },
     "execution_count": 16,
     "metadata": {},
     "output_type": "execute_result"
    }
   ],
   "source": [
    "partials = Matrix(m, m, lambda n, k: Subs(f(t).diff(t, n), [t], [lamda_indexed[1]]) if n==k else 0)\n",
    "partials"
   ]
  },
  {
   "cell_type": "code",
   "execution_count": 17,
   "metadata": {
    "collapsed": false,
    "deletable": true,
    "editable": true
   },
   "outputs": [
    {
     "data": {
      "image/png": "[encoded data removed]",
      "text/latex": [
       "$$\\left[\\begin{matrix}f{\\left (\\lambda_{1} \\right )} & 0 & 0 & 0 & 0 & 0 & 0 & 0\\\\- \\frac{d}{d \\lambda_{1}} f{\\left (\\lambda_{1} \\right )} \\lambda_{1} & \\frac{d}{d \\lambda_{1}} f{\\left (\\lambda_{1} \\right )} & 0 & 0 & 0 & 0 & 0 & 0\\\\\\frac{\\lambda_{1}^{2}}{2} \\frac{d^{2}}{d \\lambda_{1}^{2}}  f{\\left (\\lambda_{1} \\right )} & - \\frac{d^{2}}{d \\lambda_{1}^{2}}  f{\\left (\\lambda_{1} \\right )} \\lambda_{1} & \\frac{d^{2}}{d \\lambda_{1}^{2}}  f{\\left (\\lambda_{1} \\right )} & 0 & 0 & 0 & 0 & 0\\\\- \\frac{\\lambda_{1}^{3}}{6} \\frac{d^{3}}{d \\lambda_{1}^{3}}  f{\\left (\\lambda_{1} \\right )} & \\frac{\\lambda_{1}^{2}}{2} \\frac{d^{3}}{d \\lambda_{1}^{3}}  f{\\left (\\lambda_{1} \\right )} & - \\frac{d^{3}}{d \\lambda_{1}^{3}}  f{\\left (\\lambda_{1} \\right )} \\lambda_{1} & \\frac{d^{3}}{d \\lambda_{1}^{3}}  f{\\left (\\lambda_{1} \\right )} & 0 & 0 & 0 & 0\\\\\\frac{\\lambda_{1}^{4}}{24} \\frac{d^{4}}{d \\lambda_{1}^{4}}  f{\\left (\\lambda_{1} \\right )} & - \\frac{\\lambda_{1}^{3}}{6} \\frac{d^{4}}{d \\lambda_{1}^{4}}  f{\\left (\\lambda_{1} \\right )} & \\frac{\\lambda_{1}^{2}}{2} \\frac{d^{4}}{d \\lambda_{1}^{4}}  f{\\left (\\lambda_{1} \\right )} & - \\frac{d^{4}}{d \\lambda_{1}^{4}}  f{\\left (\\lambda_{1} \\right )} \\lambda_{1} & \\frac{d^{4}}{d \\lambda_{1}^{4}}  f{\\left (\\lambda_{1} \\right )} & 0 & 0 & 0\\\\- \\frac{\\lambda_{1}^{5}}{120} \\frac{d^{5}}{d \\lambda_{1}^{5}}  f{\\left (\\lambda_{1} \\right )} & \\frac{\\lambda_{1}^{4}}{24} \\frac{d^{5}}{d \\lambda_{1}^{5}}  f{\\left (\\lambda_{1} \\right )} & - \\frac{\\lambda_{1}^{3}}{6} \\frac{d^{5}}{d \\lambda_{1}^{5}}  f{\\left (\\lambda_{1} \\right )} & \\frac{\\lambda_{1}^{2}}{2} \\frac{d^{5}}{d \\lambda_{1}^{5}}  f{\\left (\\lambda_{1} \\right )} & - \\frac{d^{5}}{d \\lambda_{1}^{5}}  f{\\left (\\lambda_{1} \\right )} \\lambda_{1} & \\frac{d^{5}}{d \\lambda_{1}^{5}}  f{\\left (\\lambda_{1} \\right )} & 0 & 0\\\\\\frac{\\lambda_{1}^{6}}{720} \\frac{d^{6}}{d \\lambda_{1}^{6}}  f{\\left (\\lambda_{1} \\right )} & - \\frac{\\lambda_{1}^{5}}{120} \\frac{d^{6}}{d \\lambda_{1}^{6}}  f{\\left (\\lambda_{1} \\right )} & \\frac{\\lambda_{1}^{4}}{24} \\frac{d^{6}}{d \\lambda_{1}^{6}}  f{\\left (\\lambda_{1} \\right )} & - \\frac{\\lambda_{1}^{3}}{6} \\frac{d^{6}}{d \\lambda_{1}^{6}}  f{\\left (\\lambda_{1} \\right )} & \\frac{\\lambda_{1}^{2}}{2} \\frac{d^{6}}{d \\lambda_{1}^{6}}  f{\\left (\\lambda_{1} \\right )} & - \\frac{d^{6}}{d \\lambda_{1}^{6}}  f{\\left (\\lambda_{1} \\right )} \\lambda_{1} & \\frac{d^{6}}{d \\lambda_{1}^{6}}  f{\\left (\\lambda_{1} \\right )} & 0\\\\- \\frac{\\lambda_{1}^{7}}{5040} \\frac{d^{7}}{d \\lambda_{1}^{7}}  f{\\left (\\lambda_{1} \\right )} & \\frac{\\lambda_{1}^{6}}{720} \\frac{d^{7}}{d \\lambda_{1}^{7}}  f{\\left (\\lambda_{1} \\right )} & - \\frac{\\lambda_{1}^{5}}{120} \\frac{d^{7}}{d \\lambda_{1}^{7}}  f{\\left (\\lambda_{1} \\right )} & \\frac{\\lambda_{1}^{4}}{24} \\frac{d^{7}}{d \\lambda_{1}^{7}}  f{\\left (\\lambda_{1} \\right )} & - \\frac{\\lambda_{1}^{3}}{6} \\frac{d^{7}}{d \\lambda_{1}^{7}}  f{\\left (\\lambda_{1} \\right )} & \\frac{\\lambda_{1}^{2}}{2} \\frac{d^{7}}{d \\lambda_{1}^{7}}  f{\\left (\\lambda_{1} \\right )} & - \\frac{d^{7}}{d \\lambda_{1}^{7}}  f{\\left (\\lambda_{1} \\right )} \\lambda_{1} & \\frac{d^{7}}{d \\lambda_{1}^{7}}  f{\\left (\\lambda_{1} \\right )}\\end{matrix}\\right]$$"
      ],
      "text/plain": [
       "⎡              f(\\lambda[1])                                    0             \n",
       "⎢                                                                             \n",
       "⎢       d                                               d                     \n",
       "⎢ -───────────(f(\\lambda[1]))⋅\\lambda[1]           ───────────(f(\\lambda[1])) \n",
       "⎢  d\\lambda[1]                                     d\\lambda[1]                \n",
       "⎢                                                                             \n",
       "⎢       2                                                                     \n",
       "⎢      d                                2                                     \n",
       "⎢ ────────────(f(\\lambda[1]))⋅\\lambda[1]                                      \n",
       "⎢            2                                      2                         \n",
       "⎢ d\\lambda[1]                                      d                          \n",
       "⎢ ───────────────────────────────────────    -────────────(f(\\lambda[1]))⋅\\lam\n",
       "⎢                    2                                   2                    \n",
       "⎢                                             d\\lambda[1]                     \n",
       "⎢                                                                             \n",
       "⎢       3                                          3                          \n",
       "⎢      d                                3         d                           \n",
       "⎢-────────────(f(\\lambda[1]))⋅\\lambda[1]     ────────────(f(\\lambda[1]))⋅\\lamb\n",
       "⎢            3                                          3                     \n",
       "⎢ d\\lambda[1]                                d\\lambda[1]                      \n",
       "⎢─────────────────────────────────────────   ─────────────────────────────────\n",
       "⎢                    6                                          2             \n",
       "⎢                                                                             \n",
       "⎢                                                                             \n",
       "⎢       4                                          4                          \n",
       "⎢      d                                4         d                           \n",
       "⎢ ────────────(f(\\lambda[1]))⋅\\lambda[1]    -────────────(f(\\lambda[1]))⋅\\lamb\n",
       "⎢            4                                          4                     \n",
       "⎢ d\\lambda[1]                                d\\lambda[1]                      \n",
       "⎢ ───────────────────────────────────────   ──────────────────────────────────\n",
       "⎢                    24                                         6             \n",
       "⎢                                                                             \n",
       "⎢                                                                             \n",
       "⎢       5                                          5                          \n",
       "⎢      d                                5         d                           \n",
       "⎢-────────────(f(\\lambda[1]))⋅\\lambda[1]     ────────────(f(\\lambda[1]))⋅\\lamb\n",
       "⎢            5                                          5                     \n",
       "⎢ d\\lambda[1]                                d\\lambda[1]                      \n",
       "⎢─────────────────────────────────────────   ─────────────────────────────────\n",
       "⎢                   120                                         24            \n",
       "⎢                                                                             \n",
       "⎢                                                                             \n",
       "⎢       6                                          6                          \n",
       "⎢      d                                6         d                           \n",
       "⎢ ────────────(f(\\lambda[1]))⋅\\lambda[1]    -────────────(f(\\lambda[1]))⋅\\lamb\n",
       "⎢            6                                          6                     \n",
       "⎢ d\\lambda[1]                                d\\lambda[1]                      \n",
       "⎢ ───────────────────────────────────────   ──────────────────────────────────\n",
       "⎢                   720                                        120            \n",
       "⎢                                                                             \n",
       "⎢                                                                             \n",
       "⎢       7                                          7                          \n",
       "⎢      d                                7         d                           \n",
       "⎢-────────────(f(\\lambda[1]))⋅\\lambda[1]     ────────────(f(\\lambda[1]))⋅\\lamb\n",
       "⎢            7                                          7                     \n",
       "⎢ d\\lambda[1]                                d\\lambda[1]                      \n",
       "⎢─────────────────────────────────────────   ─────────────────────────────────\n",
       "⎢                   5040                                       720            \n",
       "⎣                                                                             \n",
       "\n",
       "                             0                                          0     \n",
       "                                                                              \n",
       "                                                                              \n",
       "                             0                                          0     \n",
       "                                                                              \n",
       "                                                                              \n",
       "                                                                              \n",
       "                                                                              \n",
       "                                                                              \n",
       "                      2                                                       \n",
       "                     d                                                        \n",
       "bda[1]          ────────────(f(\\lambda[1]))                             0     \n",
       "                           2                                                  \n",
       "                d\\lambda[1]                                                   \n",
       "                                                                              \n",
       "                                                                              \n",
       "     2                                                                        \n",
       "da[1]                                                                         \n",
       "                 3                                               3            \n",
       "                d                                               d             \n",
       "──────    -────────────(f(\\lambda[1]))⋅\\lambda[1]          ────────────(f(\\lam\n",
       "                      3                                               3       \n",
       "           d\\lambda[1]                                     d\\lambda[1]        \n",
       "                                                                              \n",
       "                4                                                             \n",
       "     3         d                                2                             \n",
       "da[1]     ────────────(f(\\lambda[1]))⋅\\lambda[1]                              \n",
       "                     4                                      4                 \n",
       "          d\\lambda[1]                                      d                  \n",
       "───────   ───────────────────────────────────────    -────────────(f(\\lambda[1\n",
       "                             2                                   4            \n",
       "                                                      d\\lambda[1]             \n",
       "                                                                              \n",
       "                5                                          5                  \n",
       "     4         d                                3         d                   \n",
       "da[1]    -────────────(f(\\lambda[1]))⋅\\lambda[1]     ────────────(f(\\lambda[1]\n",
       "                     5                                          5             \n",
       "          d\\lambda[1]                                d\\lambda[1]              \n",
       "──────   ─────────────────────────────────────────   ─────────────────────────\n",
       "                             6                                          2     \n",
       "                                                                              \n",
       "                                                                              \n",
       "                6                                          6                  \n",
       "     5         d                                4         d                   \n",
       "da[1]     ────────────(f(\\lambda[1]))⋅\\lambda[1]    -────────────(f(\\lambda[1]\n",
       "                     6                                          6             \n",
       "          d\\lambda[1]                                d\\lambda[1]              \n",
       "───────   ───────────────────────────────────────   ──────────────────────────\n",
       "                             24                                         6     \n",
       "                                                                              \n",
       "                                                                              \n",
       "                7                                          7                  \n",
       "     6         d                                5         d                   \n",
       "da[1]    -────────────(f(\\lambda[1]))⋅\\lambda[1]     ────────────(f(\\lambda[1]\n",
       "                     7                                          7             \n",
       "          d\\lambda[1]                                d\\lambda[1]              \n",
       "──────   ─────────────────────────────────────────   ─────────────────────────\n",
       "                            120                                         24    \n",
       "                                                                              \n",
       "\n",
       "                                     0                                        \n",
       "                                                                              \n",
       "                                                                              \n",
       "                                     0                                        \n",
       "                                                                              \n",
       "                                                                              \n",
       "                                                                              \n",
       "                                                                              \n",
       "                                                                              \n",
       "                                                                              \n",
       "                                                                              \n",
       "                                     0                                        \n",
       "                                                                              \n",
       "                                                                              \n",
       "                                                                              \n",
       "                                                                              \n",
       "                                                                              \n",
       "                                                                              \n",
       "                                                                              \n",
       "                                                                              \n",
       "bda[1]))                             0                                        \n",
       "                                                                              \n",
       "                                                                              \n",
       "                                                                              \n",
       "                                                                              \n",
       "                                                                              \n",
       "                                                                              \n",
       "                              4                                               \n",
       "                             d                                                \n",
       "]))⋅\\lambda[1]          ────────────(f(\\lambda[1]))                           \n",
       "                                   4                                          \n",
       "                        d\\lambda[1]                                           \n",
       "                                                                              \n",
       "                                                                              \n",
       "             2                                                                \n",
       "))⋅\\lambda[1]                                                                 \n",
       "                         5                                              5     \n",
       "                        d                                              d      \n",
       "──────────────    -────────────(f(\\lambda[1]))⋅\\lambda[1]         ────────────\n",
       "                              5                                              5\n",
       "                   d\\lambda[1]                                    d\\lambda[1] \n",
       "                                                                              \n",
       "                        6                                                     \n",
       "             3         d                                2                     \n",
       "))⋅\\lambda[1]     ────────────(f(\\lambda[1]))⋅\\lambda[1]                      \n",
       "                             6                                     6          \n",
       "                  d\\lambda[1]                                     d           \n",
       "───────────────   ───────────────────────────────────────   -────────────(f(\\l\n",
       "                                     2                                  6     \n",
       "                                                             d\\lambda[1]      \n",
       "                                                                              \n",
       "                        7                                         7           \n",
       "             4         d                                3        d            \n",
       "))⋅\\lambda[1]    -────────────(f(\\lambda[1]))⋅\\lambda[1]    ────────────(f(\\la\n",
       "                             7                                         7      \n",
       "                  d\\lambda[1]                               d\\lambda[1]       \n",
       "──────────────   ─────────────────────────────────────────  ──────────────────\n",
       "                                     6                                        \n",
       "                                                                              \n",
       "\n",
       " 0                                        0                                  0\n",
       "                                                                              \n",
       "                                                                              \n",
       " 0                                        0                                  0\n",
       "                                                                              \n",
       "                                                                              \n",
       "                                                                              \n",
       "                                                                              \n",
       "                                                                              \n",
       "                                                                              \n",
       "                                                                              \n",
       " 0                                        0                                  0\n",
       "                                                                              \n",
       "                                                                              \n",
       "                                                                              \n",
       "                                                                              \n",
       "                                                                              \n",
       "                                                                              \n",
       "                                                                              \n",
       "                                                                              \n",
       " 0                                        0                                  0\n",
       "                                                                              \n",
       "                                                                              \n",
       "                                                                              \n",
       "                                                                              \n",
       "                                                                              \n",
       "                                                                              \n",
       "                                                                              \n",
       "                                                                              \n",
       " 0                                        0                                  0\n",
       "                                                                              \n",
       "                                                                              \n",
       "                                                                              \n",
       "                                                                              \n",
       "                                                                              \n",
       "                                                                              \n",
       "                                                                              \n",
       "                                                                              \n",
       "(f(\\lambda[1]))                           0                                  0\n",
       "                                                                              \n",
       "                                                                              \n",
       "                                                                              \n",
       "                                                                              \n",
       "                                                                              \n",
       "                                                                              \n",
       "                                   6                                          \n",
       "                                  d                                           \n",
       "ambda[1]))⋅\\lambda[1]        ────────────(f(\\lambda[1]))                     0\n",
       "                                        6                                     \n",
       "                             d\\lambda[1]                                      \n",
       "                                                                              \n",
       "                                                                              \n",
       "                    2                                                         \n",
       "mbda[1]))⋅\\lambda[1]                                                          \n",
       "                              7                                       7       \n",
       "                             d                                       d        \n",
       "─────────────────────  -────────────(f(\\lambda[1]))⋅\\lambda[1]  ────────────(f\n",
       " 2                                 7                                       7  \n",
       "                        d\\lambda[1]                             d\\lambda[1]   \n",
       "\n",
       "             ⎤\n",
       "             ⎥\n",
       "             ⎥\n",
       "             ⎥\n",
       "             ⎥\n",
       "             ⎥\n",
       "             ⎥\n",
       "             ⎥\n",
       "             ⎥\n",
       "             ⎥\n",
       "             ⎥\n",
       "             ⎥\n",
       "             ⎥\n",
       "             ⎥\n",
       "             ⎥\n",
       "             ⎥\n",
       "             ⎥\n",
       "             ⎥\n",
       "             ⎥\n",
       "             ⎥\n",
       "             ⎥\n",
       "             ⎥\n",
       "             ⎥\n",
       "             ⎥\n",
       "             ⎥\n",
       "             ⎥\n",
       "             ⎥\n",
       "             ⎥\n",
       "             ⎥\n",
       "             ⎥\n",
       "             ⎥\n",
       "             ⎥\n",
       "             ⎥\n",
       "             ⎥\n",
       "             ⎥\n",
       "             ⎥\n",
       "             ⎥\n",
       "             ⎥\n",
       "             ⎥\n",
       "             ⎥\n",
       "             ⎥\n",
       "             ⎥\n",
       "             ⎥\n",
       "             ⎥\n",
       "             ⎥\n",
       "             ⎥\n",
       "             ⎥\n",
       "             ⎥\n",
       "             ⎥\n",
       "             ⎥\n",
       "             ⎥\n",
       "             ⎥\n",
       "             ⎥\n",
       "             ⎥\n",
       "             ⎥\n",
       "             ⎥\n",
       "(\\lambda[1]))⎥\n",
       "             ⎥\n",
       "             ⎦"
      ]
     },
     "execution_count": 17,
     "metadata": {},
     "output_type": "execute_result"
    }
   ],
   "source": [
    "DE = (partials * M_expt).applyfunc(lambda i: i.doit())\n",
    "DE"
   ]
  },
  {
   "cell_type": "code",
   "execution_count": null,
   "metadata": {
    "collapsed": false,
    "deletable": true,
    "editable": true
   },
   "outputs": [],
   "source": [
    "production_matrix(DE).applyfunc(simplify) # takes long to evaluate"
   ]
  },
  {
   "cell_type": "markdown",
   "metadata": {
    "deletable": true,
    "editable": true
   },
   "source": [
    "## $f(z)=\\frac{1}{z}$"
   ]
  },
  {
   "cell_type": "code",
   "execution_count": 18,
   "metadata": {
    "collapsed": false,
    "deletable": true,
    "editable": true
   },
   "outputs": [
    {
     "data": {
      "image/png": "[encoded data removed]",
      "text/latex": [
       "$$\\left[\\begin{matrix}\\frac{1}{\\lambda_{1}} & 0 & 0 & 0 & 0 & 0 & 0 & 0\\\\\\frac{1}{\\lambda_{1}} & - \\frac{1}{\\lambda_{1}^{2}} & 0 & 0 & 0 & 0 & 0 & 0\\\\\\frac{1}{\\lambda_{1}} & - \\frac{2}{\\lambda_{1}^{2}} & \\frac{2}{\\lambda_{1}^{3}} & 0 & 0 & 0 & 0 & 0\\\\\\frac{1}{\\lambda_{1}} & - \\frac{3}{\\lambda_{1}^{2}} & \\frac{6}{\\lambda_{1}^{3}} & - \\frac{6}{\\lambda_{1}^{4}} & 0 & 0 & 0 & 0\\\\\\frac{1}{\\lambda_{1}} & - \\frac{4}{\\lambda_{1}^{2}} & \\frac{12}{\\lambda_{1}^{3}} & - \\frac{24}{\\lambda_{1}^{4}} & \\frac{24}{\\lambda_{1}^{5}} & 0 & 0 & 0\\\\\\frac{1}{\\lambda_{1}} & - \\frac{5}{\\lambda_{1}^{2}} & \\frac{20}{\\lambda_{1}^{3}} & - \\frac{60}{\\lambda_{1}^{4}} & \\frac{120}{\\lambda_{1}^{5}} & - \\frac{120}{\\lambda_{1}^{6}} & 0 & 0\\\\\\frac{1}{\\lambda_{1}} & - \\frac{6}{\\lambda_{1}^{2}} & \\frac{30}{\\lambda_{1}^{3}} & - \\frac{120}{\\lambda_{1}^{4}} & \\frac{360}{\\lambda_{1}^{5}} & - \\frac{720}{\\lambda_{1}^{6}} & \\frac{720}{\\lambda_{1}^{7}} & 0\\\\\\frac{1}{\\lambda_{1}} & - \\frac{7}{\\lambda_{1}^{2}} & \\frac{42}{\\lambda_{1}^{3}} & - \\frac{210}{\\lambda_{1}^{4}} & \\frac{840}{\\lambda_{1}^{5}} & - \\frac{2520}{\\lambda_{1}^{6}} & \\frac{5040}{\\lambda_{1}^{7}} & - \\frac{5040}{\\lambda_{1}^{8}}\\end{matrix}\\right]$$"
      ],
      "text/plain": [
       "⎡    1                                                                        \n",
       "⎢──────────       0            0            0            0            0       \n",
       "⎢\\lambda[1]                                                                   \n",
       "⎢                                                                             \n",
       "⎢    1           -1                                                           \n",
       "⎢──────────  ───────────       0            0            0            0       \n",
       "⎢\\lambda[1]            2                                                      \n",
       "⎢            \\lambda[1]                                                       \n",
       "⎢                                                                             \n",
       "⎢    1           -2            2                                              \n",
       "⎢──────────  ───────────  ───────────       0            0            0       \n",
       "⎢\\lambda[1]            2            3                                         \n",
       "⎢            \\lambda[1]   \\lambda[1]                                          \n",
       "⎢                                                                             \n",
       "⎢    1           -3            6           -6                                 \n",
       "⎢──────────  ───────────  ───────────  ───────────       0            0       \n",
       "⎢\\lambda[1]            2            3            4                            \n",
       "⎢            \\lambda[1]   \\lambda[1]   \\lambda[1]                             \n",
       "⎢                                                                             \n",
       "⎢    1           -4            12          -24           24                   \n",
       "⎢──────────  ───────────  ───────────  ───────────  ───────────       0       \n",
       "⎢\\lambda[1]            2            3            4            5               \n",
       "⎢            \\lambda[1]   \\lambda[1]   \\lambda[1]   \\lambda[1]                \n",
       "⎢                                                                             \n",
       "⎢    1           -5            20          -60          120         -120      \n",
       "⎢──────────  ───────────  ───────────  ───────────  ───────────  ───────────  \n",
       "⎢\\lambda[1]            2            3            4            5            6  \n",
       "⎢            \\lambda[1]   \\lambda[1]   \\lambda[1]   \\lambda[1]   \\lambda[1]   \n",
       "⎢                                                                             \n",
       "⎢    1           -6            30         -120          360         -720      \n",
       "⎢──────────  ───────────  ───────────  ───────────  ───────────  ───────────  \n",
       "⎢\\lambda[1]            2            3            4            5            6  \n",
       "⎢            \\lambda[1]   \\lambda[1]   \\lambda[1]   \\lambda[1]   \\lambda[1]   \n",
       "⎢                                                                             \n",
       "⎢    1           -7            42         -210          840         -2520     \n",
       "⎢──────────  ───────────  ───────────  ───────────  ───────────  ───────────  \n",
       "⎢\\lambda[1]            2            3            4            5            6  \n",
       "⎣            \\lambda[1]   \\lambda[1]   \\lambda[1]   \\lambda[1]   \\lambda[1]   \n",
       "\n",
       "                        ⎤\n",
       "     0            0     ⎥\n",
       "                        ⎥\n",
       "                        ⎥\n",
       "                        ⎥\n",
       "     0            0     ⎥\n",
       "                        ⎥\n",
       "                        ⎥\n",
       "                        ⎥\n",
       "                        ⎥\n",
       "     0            0     ⎥\n",
       "                        ⎥\n",
       "                        ⎥\n",
       "                        ⎥\n",
       "                        ⎥\n",
       "     0            0     ⎥\n",
       "                        ⎥\n",
       "                        ⎥\n",
       "                        ⎥\n",
       "                        ⎥\n",
       "     0            0     ⎥\n",
       "                        ⎥\n",
       "                        ⎥\n",
       "                        ⎥\n",
       "                        ⎥\n",
       "     0            0     ⎥\n",
       "                        ⎥\n",
       "                        ⎥\n",
       "                        ⎥\n",
       "    720                 ⎥\n",
       "───────────       0     ⎥\n",
       "          7             ⎥\n",
       "\\lambda[1]              ⎥\n",
       "                        ⎥\n",
       "    5040        -5040   ⎥\n",
       "───────────  ───────────⎥\n",
       "          7            8⎥\n",
       "\\lambda[1]   \\lambda[1] ⎦"
      ]
     },
     "execution_count": 18,
     "metadata": {},
     "output_type": "execute_result"
    }
   ],
   "source": [
    "DE_inv = DE.subs({f:Lambda(t, 1/t)}).applyfunc(lambda i: i.doit())\n",
    "DE_inv"
   ]
  },
  {
   "cell_type": "code",
   "execution_count": 19,
   "metadata": {
    "collapsed": false,
    "deletable": true,
    "editable": true
   },
   "outputs": [
    {
     "data": {
      "image/png": "[encoded data removed]",
      "text/latex": [
       "$$\\left[\\begin{matrix}1 & - \\frac{1}{\\lambda_{1}} & 0 & 0 & 0 & 0 & 0\\\\0 & 1 & - \\frac{2}{\\lambda_{1}} & 0 & 0 & 0 & 0\\\\0 & 0 & 1 & - \\frac{3}{\\lambda_{1}} & 0 & 0 & 0\\\\0 & 0 & 0 & 1 & - \\frac{4}{\\lambda_{1}} & 0 & 0\\\\0 & 0 & 0 & 0 & 1 & - \\frac{5}{\\lambda_{1}} & 0\\\\0 & 0 & 0 & 0 & 0 & 1 & - \\frac{6}{\\lambda_{1}}\\\\0 & 0 & 0 & 0 & 0 & 0 & 1\\end{matrix}\\right]$$"
      ],
      "text/plain": [
       "⎡      -1                                                                 ⎤\n",
       "⎢1  ──────────      0           0           0           0           0     ⎥\n",
       "⎢   \\lambda[1]                                                            ⎥\n",
       "⎢                                                                         ⎥\n",
       "⎢                  -2                                                     ⎥\n",
       "⎢0      1       ──────────      0           0           0           0     ⎥\n",
       "⎢               \\lambda[1]                                                ⎥\n",
       "⎢                                                                         ⎥\n",
       "⎢                              -3                                         ⎥\n",
       "⎢0      0           1       ──────────      0           0           0     ⎥\n",
       "⎢                           \\lambda[1]                                    ⎥\n",
       "⎢                                                                         ⎥\n",
       "⎢                                          -4                             ⎥\n",
       "⎢0      0           0           1       ──────────      0           0     ⎥\n",
       "⎢                                       \\lambda[1]                        ⎥\n",
       "⎢                                                                         ⎥\n",
       "⎢                                                      -5                 ⎥\n",
       "⎢0      0           0           0           1       ──────────      0     ⎥\n",
       "⎢                                                   \\lambda[1]            ⎥\n",
       "⎢                                                                         ⎥\n",
       "⎢                                                                  -6     ⎥\n",
       "⎢0      0           0           0           0           1       ──────────⎥\n",
       "⎢                                                               \\lambda[1]⎥\n",
       "⎢                                                                         ⎥\n",
       "⎣0      0           0           0           0           0           1     ⎦"
      ]
     },
     "execution_count": 19,
     "metadata": {},
     "output_type": "execute_result"
    }
   ],
   "source": [
    "production_matrix(DE_inv)"
   ]
  },
  {
   "cell_type": "code",
   "execution_count": 22,
   "metadata": {
    "collapsed": false
   },
   "outputs": [
    {
     "data": {
      "image/png": "[encoded data removed]",
      "text/latex": [
       "$$\\left[\\begin{matrix}\\frac{1}{\\lambda_{1}} & 0 & 0 & 0 & 0 & 0 & 0 & 0\\\\- \\frac{1}{\\lambda_{1}^{2}} & \\frac{1}{\\lambda_{1}} & 0 & 0 & 0 & 0 & 0 & 0\\\\\\frac{2}{\\lambda_{1}^{3}} & - \\frac{2}{\\lambda_{1}^{2}} & \\frac{1}{\\lambda_{1}} & 0 & 0 & 0 & 0 & 0\\\\- \\frac{6}{\\lambda_{1}^{4}} & \\frac{6}{\\lambda_{1}^{3}} & - \\frac{3}{\\lambda_{1}^{2}} & \\frac{1}{\\lambda_{1}} & 0 & 0 & 0 & 0\\\\\\frac{24}{\\lambda_{1}^{5}} & - \\frac{24}{\\lambda_{1}^{4}} & \\frac{12}{\\lambda_{1}^{3}} & - \\frac{4}{\\lambda_{1}^{2}} & \\frac{1}{\\lambda_{1}} & 0 & 0 & 0\\\\- \\frac{120}{\\lambda_{1}^{6}} & \\frac{120}{\\lambda_{1}^{5}} & - \\frac{60}{\\lambda_{1}^{4}} & \\frac{20}{\\lambda_{1}^{3}} & - \\frac{5}{\\lambda_{1}^{2}} & \\frac{1}{\\lambda_{1}} & 0 & 0\\\\\\frac{720}{\\lambda_{1}^{7}} & - \\frac{720}{\\lambda_{1}^{6}} & \\frac{360}{\\lambda_{1}^{5}} & - \\frac{120}{\\lambda_{1}^{4}} & \\frac{30}{\\lambda_{1}^{3}} & - \\frac{6}{\\lambda_{1}^{2}} & \\frac{1}{\\lambda_{1}} & 0\\\\- \\frac{5040}{\\lambda_{1}^{8}} & \\frac{5040}{\\lambda_{1}^{7}} & - \\frac{2520}{\\lambda_{1}^{6}} & \\frac{840}{\\lambda_{1}^{5}} & - \\frac{210}{\\lambda_{1}^{4}} & \\frac{42}{\\lambda_{1}^{3}} & - \\frac{7}{\\lambda_{1}^{2}} & \\frac{1}{\\lambda_{1}}\\end{matrix}\\right]$$"
      ],
      "text/plain": [
       "⎡    1                                                                        \n",
       "⎢──────────        0            0            0            0            0      \n",
       "⎢\\lambda[1]                                                                   \n",
       "⎢                                                                             \n",
       "⎢    -1           1                                                           \n",
       "⎢───────────  ──────────        0            0            0            0      \n",
       "⎢          2  \\lambda[1]                                                      \n",
       "⎢\\lambda[1]                                                                   \n",
       "⎢                                                                             \n",
       "⎢     2           -2           1                                              \n",
       "⎢───────────  ───────────  ──────────        0            0            0      \n",
       "⎢          3            2  \\lambda[1]                                         \n",
       "⎢\\lambda[1]   \\lambda[1]                                                      \n",
       "⎢                                                                             \n",
       "⎢    -6            6           -3           1                                 \n",
       "⎢───────────  ───────────  ───────────  ──────────        0            0      \n",
       "⎢          4            3            2  \\lambda[1]                            \n",
       "⎢\\lambda[1]   \\lambda[1]   \\lambda[1]                                         \n",
       "⎢                                                                             \n",
       "⎢     24          -24           12          -4           1                    \n",
       "⎢───────────  ───────────  ───────────  ───────────  ──────────        0      \n",
       "⎢          5            4            3            2  \\lambda[1]               \n",
       "⎢\\lambda[1]   \\lambda[1]   \\lambda[1]   \\lambda[1]                            \n",
       "⎢                                                                             \n",
       "⎢   -120          120          -60           20          -5           1       \n",
       "⎢───────────  ───────────  ───────────  ───────────  ───────────  ──────────  \n",
       "⎢          6            5            4            3            2  \\lambda[1]  \n",
       "⎢\\lambda[1]   \\lambda[1]   \\lambda[1]   \\lambda[1]   \\lambda[1]               \n",
       "⎢                                                                             \n",
       "⎢    720         -720          360         -120           30          -6      \n",
       "⎢───────────  ───────────  ───────────  ───────────  ───────────  ─────────── \n",
       "⎢          7            6            5            4            3            2 \n",
       "⎢\\lambda[1]   \\lambda[1]   \\lambda[1]   \\lambda[1]   \\lambda[1]   \\lambda[1]  \n",
       "⎢                                                                             \n",
       "⎢   -5040         5040        -2520         840         -210           42     \n",
       "⎢───────────  ───────────  ───────────  ───────────  ───────────  ─────────── \n",
       "⎢          8            7            6            5            4            3 \n",
       "⎣\\lambda[1]   \\lambda[1]   \\lambda[1]   \\lambda[1]   \\lambda[1]   \\lambda[1]  \n",
       "\n",
       "                        ⎤\n",
       "      0           0     ⎥\n",
       "                        ⎥\n",
       "                        ⎥\n",
       "                        ⎥\n",
       "      0           0     ⎥\n",
       "                        ⎥\n",
       "                        ⎥\n",
       "                        ⎥\n",
       "                        ⎥\n",
       "      0           0     ⎥\n",
       "                        ⎥\n",
       "                        ⎥\n",
       "                        ⎥\n",
       "                        ⎥\n",
       "      0           0     ⎥\n",
       "                        ⎥\n",
       "                        ⎥\n",
       "                        ⎥\n",
       "                        ⎥\n",
       "      0           0     ⎥\n",
       "                        ⎥\n",
       "                        ⎥\n",
       "                        ⎥\n",
       "                        ⎥\n",
       "      0           0     ⎥\n",
       "                        ⎥\n",
       "                        ⎥\n",
       "                        ⎥\n",
       "     1                  ⎥\n",
       " ──────────       0     ⎥\n",
       " \\lambda[1]             ⎥\n",
       "                        ⎥\n",
       "                        ⎥\n",
       "     -7           1     ⎥\n",
       " ───────────  ──────────⎥\n",
       "           2  \\lambda[1]⎥\n",
       " \\lambda[1]             ⎦"
      ]
     },
     "execution_count": 22,
     "metadata": {},
     "output_type": "execute_result"
    }
   ],
   "source": [
    "Matrix(m, m, columns_symmetry(DE_inv))"
   ]
  },
  {
   "cell_type": "code",
   "execution_count": 23,
   "metadata": {
    "collapsed": false
   },
   "outputs": [
    {
     "data": {
      "text/plain": [
       "nature(is_ordinary=False, is_exponential=True)"
      ]
     },
     "execution_count": 23,
     "metadata": {},
     "output_type": "execute_result"
    }
   ],
   "source": [
    "inspect(_)"
   ]
  },
  {
   "cell_type": "code",
   "execution_count": 24,
   "metadata": {
    "collapsed": false,
    "deletable": true,
    "editable": true
   },
   "outputs": [
    {
     "data": {
      "image/png": "[encoded data removed]",
      "text/latex": [
       "$$\\left[\\begin{matrix}\\frac{1}{\\lambda_{1}} & 0 & 0 & 0 & 0 & 0 & 0 & 0\\\\\\frac{1}{\\lambda_{1}} & - \\frac{1}{\\lambda_{1}^{2}} & 0 & 0 & 0 & 0 & 0 & 0\\\\\\frac{1}{\\lambda_{1}} & - \\frac{2}{\\lambda_{1}^{2}} & \\frac{2}{\\lambda_{1}^{3}} & 0 & 0 & 0 & 0 & 0\\\\\\frac{1}{\\lambda_{1}} & - \\frac{3}{\\lambda_{1}^{2}} & \\frac{6}{\\lambda_{1}^{3}} & - \\frac{6}{\\lambda_{1}^{4}} & 0 & 0 & 0 & 0\\\\\\frac{1}{\\lambda_{1}} & - \\frac{4}{\\lambda_{1}^{2}} & \\frac{12}{\\lambda_{1}^{3}} & - \\frac{24}{\\lambda_{1}^{4}} & \\frac{24}{\\lambda_{1}^{5}} & 0 & 0 & 0\\\\\\frac{1}{\\lambda_{1}} & - \\frac{5}{\\lambda_{1}^{2}} & \\frac{20}{\\lambda_{1}^{3}} & - \\frac{60}{\\lambda_{1}^{4}} & \\frac{120}{\\lambda_{1}^{5}} & - \\frac{120}{\\lambda_{1}^{6}} & 0 & 0\\\\\\frac{1}{\\lambda_{1}} & - \\frac{6}{\\lambda_{1}^{2}} & \\frac{30}{\\lambda_{1}^{3}} & - \\frac{120}{\\lambda_{1}^{4}} & \\frac{360}{\\lambda_{1}^{5}} & - \\frac{720}{\\lambda_{1}^{6}} & \\frac{720}{\\lambda_{1}^{7}} & 0\\\\\\frac{1}{\\lambda_{1}} & - \\frac{7}{\\lambda_{1}^{2}} & \\frac{42}{\\lambda_{1}^{3}} & - \\frac{210}{\\lambda_{1}^{4}} & \\frac{840}{\\lambda_{1}^{5}} & - \\frac{2520}{\\lambda_{1}^{6}} & \\frac{5040}{\\lambda_{1}^{7}} & - \\frac{5040}{\\lambda_{1}^{8}}\\end{matrix}\\right]$$"
      ],
      "text/plain": [
       "⎡    1                                                                        \n",
       "⎢──────────       0            0            0            0            0       \n",
       "⎢\\lambda[1]                                                                   \n",
       "⎢                                                                             \n",
       "⎢    1           -1                                                           \n",
       "⎢──────────  ───────────       0            0            0            0       \n",
       "⎢\\lambda[1]            2                                                      \n",
       "⎢            \\lambda[1]                                                       \n",
       "⎢                                                                             \n",
       "⎢    1           -2            2                                              \n",
       "⎢──────────  ───────────  ───────────       0            0            0       \n",
       "⎢\\lambda[1]            2            3                                         \n",
       "⎢            \\lambda[1]   \\lambda[1]                                          \n",
       "⎢                                                                             \n",
       "⎢    1           -3            6           -6                                 \n",
       "⎢──────────  ───────────  ───────────  ───────────       0            0       \n",
       "⎢\\lambda[1]            2            3            4                            \n",
       "⎢            \\lambda[1]   \\lambda[1]   \\lambda[1]                             \n",
       "⎢                                                                             \n",
       "⎢    1           -4            12          -24           24                   \n",
       "⎢──────────  ───────────  ───────────  ───────────  ───────────       0       \n",
       "⎢\\lambda[1]            2            3            4            5               \n",
       "⎢            \\lambda[1]   \\lambda[1]   \\lambda[1]   \\lambda[1]                \n",
       "⎢                                                                             \n",
       "⎢    1           -5            20          -60          120         -120      \n",
       "⎢──────────  ───────────  ───────────  ───────────  ───────────  ───────────  \n",
       "⎢\\lambda[1]            2            3            4            5            6  \n",
       "⎢            \\lambda[1]   \\lambda[1]   \\lambda[1]   \\lambda[1]   \\lambda[1]   \n",
       "⎢                                                                             \n",
       "⎢    1           -6            30         -120          360         -720      \n",
       "⎢──────────  ───────────  ───────────  ───────────  ───────────  ───────────  \n",
       "⎢\\lambda[1]            2            3            4            5            6  \n",
       "⎢            \\lambda[1]   \\lambda[1]   \\lambda[1]   \\lambda[1]   \\lambda[1]   \n",
       "⎢                                                                             \n",
       "⎢    1           -7            42         -210          840         -2520     \n",
       "⎢──────────  ───────────  ───────────  ───────────  ───────────  ───────────  \n",
       "⎢\\lambda[1]            2            3            4            5            6  \n",
       "⎣            \\lambda[1]   \\lambda[1]   \\lambda[1]   \\lambda[1]   \\lambda[1]   \n",
       "\n",
       "                        ⎤\n",
       "     0            0     ⎥\n",
       "                        ⎥\n",
       "                        ⎥\n",
       "                        ⎥\n",
       "     0            0     ⎥\n",
       "                        ⎥\n",
       "                        ⎥\n",
       "                        ⎥\n",
       "                        ⎥\n",
       "     0            0     ⎥\n",
       "                        ⎥\n",
       "                        ⎥\n",
       "                        ⎥\n",
       "                        ⎥\n",
       "     0            0     ⎥\n",
       "                        ⎥\n",
       "                        ⎥\n",
       "                        ⎥\n",
       "                        ⎥\n",
       "     0            0     ⎥\n",
       "                        ⎥\n",
       "                        ⎥\n",
       "                        ⎥\n",
       "                        ⎥\n",
       "     0            0     ⎥\n",
       "                        ⎥\n",
       "                        ⎥\n",
       "                        ⎥\n",
       "    720                 ⎥\n",
       "───────────       0     ⎥\n",
       "          7             ⎥\n",
       "\\lambda[1]              ⎥\n",
       "                        ⎥\n",
       "    5040        -5040   ⎥\n",
       "───────────  ───────────⎥\n",
       "          7            8⎥\n",
       "\\lambda[1]   \\lambda[1] ⎦"
      ]
     },
     "execution_count": 24,
     "metadata": {},
     "output_type": "execute_result"
    }
   ],
   "source": [
    "DE_inv_RA = Matrix(m, m, \n",
    "       riordan_matrix_by_recurrence(m, \n",
    "                                    lambda n, k: {(n-1,k-1):-k/lamda_indexed[1], (n-1,k):1} if k else {(n-1,k):1},\n",
    "                                    init={(0,0):1/lamda_indexed[1]}))\n",
    "DE_inv_RA"
   ]
  },
  {
   "cell_type": "code",
   "execution_count": 25,
   "metadata": {
    "collapsed": true,
    "deletable": true,
    "editable": true
   },
   "outputs": [],
   "source": [
    "assert DE_inv == DE_inv_RA"
   ]
  },
  {
   "cell_type": "code",
   "execution_count": 26,
   "metadata": {
    "collapsed": false,
    "deletable": true,
    "editable": true
   },
   "outputs": [
    {
     "data": {
      "image/png": "[encoded data removed]",
      "text/latex": [
       "$$\\left[\\begin{matrix}\\frac{1}{\\lambda_{1}}\\\\- \\frac{1}{\\lambda_{1}^{2}} \\left(z - \\lambda_{1}\\right)\\\\\\frac{1}{\\lambda_{1}^{3}} \\left(z - \\lambda_{1}\\right)^{2}\\\\- \\frac{1}{\\lambda_{1}^{4}} \\left(z - \\lambda_{1}\\right)^{3}\\\\\\frac{1}{\\lambda_{1}^{5}} \\left(z - \\lambda_{1}\\right)^{4}\\\\- \\frac{1}{\\lambda_{1}^{6}} \\left(z - \\lambda_{1}\\right)^{5}\\\\\\frac{1}{\\lambda_{1}^{7}} \\left(z - \\lambda_{1}\\right)^{6}\\\\- \\frac{1}{\\lambda_{1}^{8}} \\left(z - \\lambda_{1}\\right)^{7}\\end{matrix}\\right]$$"
      ],
      "text/plain": [
       "⎡        1          ⎤\n",
       "⎢    ──────────     ⎥\n",
       "⎢    \\lambda[1]     ⎥\n",
       "⎢                   ⎥\n",
       "⎢-(z - \\lambda[1])  ⎥\n",
       "⎢────────────────── ⎥\n",
       "⎢             2     ⎥\n",
       "⎢   \\lambda[1]      ⎥\n",
       "⎢                   ⎥\n",
       "⎢                 2 ⎥\n",
       "⎢ (z - \\lambda[1])  ⎥\n",
       "⎢ ───────────────── ⎥\n",
       "⎢              3    ⎥\n",
       "⎢    \\lambda[1]     ⎥\n",
       "⎢                   ⎥\n",
       "⎢                 3 ⎥\n",
       "⎢-(z - \\lambda[1])  ⎥\n",
       "⎢───────────────────⎥\n",
       "⎢              4    ⎥\n",
       "⎢    \\lambda[1]     ⎥\n",
       "⎢                   ⎥\n",
       "⎢                 4 ⎥\n",
       "⎢ (z - \\lambda[1])  ⎥\n",
       "⎢ ───────────────── ⎥\n",
       "⎢              5    ⎥\n",
       "⎢    \\lambda[1]     ⎥\n",
       "⎢                   ⎥\n",
       "⎢                 5 ⎥\n",
       "⎢-(z - \\lambda[1])  ⎥\n",
       "⎢───────────────────⎥\n",
       "⎢              6    ⎥\n",
       "⎢    \\lambda[1]     ⎥\n",
       "⎢                   ⎥\n",
       "⎢                 6 ⎥\n",
       "⎢ (z - \\lambda[1])  ⎥\n",
       "⎢ ───────────────── ⎥\n",
       "⎢              7    ⎥\n",
       "⎢    \\lambda[1]     ⎥\n",
       "⎢                   ⎥\n",
       "⎢                 7 ⎥\n",
       "⎢-(z - \\lambda[1])  ⎥\n",
       "⎢───────────────────⎥\n",
       "⎢              8    ⎥\n",
       "⎣    \\lambda[1]     ⎦"
      ]
     },
     "execution_count": 26,
     "metadata": {},
     "output_type": "execute_result"
    }
   ],
   "source": [
    "DEz = (DE_inv* z_expt).applyfunc(lambda i: i.doit().factor())\n",
    "DEz"
   ]
  },
  {
   "cell_type": "code",
   "execution_count": 27,
   "metadata": {
    "collapsed": false,
    "deletable": true,
    "editable": true
   },
   "outputs": [
    {
     "data": {
      "image/png": "[encoded data removed]",
      "text/latex": [
       "$$g{\\left (z \\right )} = - z - \\left(z - 1\\right)^{7} + \\left(z - 1\\right)^{6} - \\left(z - 1\\right)^{5} + \\left(z - 1\\right)^{4} - \\left(z - 1\\right)^{3} + \\left(z - 1\\right)^{2} + 2$$"
      ],
      "text/plain": [
       "                   7          6          5          4          3          2   \n",
       "g(z) = -z - (z - 1)  + (z - 1)  - (z - 1)  + (z - 1)  - (z - 1)  + (z - 1)  + \n",
       "\n",
       " \n",
       "2"
      ]
     },
     "execution_count": 27,
     "metadata": {},
     "output_type": "execute_result"
    }
   ],
   "source": [
    "g_v = ones(1, m) * DEz\n",
    "g_inv_eq = Eq(g(z), g_v[0,0], evaluate=False)\n",
    "g_inv_eq.subs(eigenvals)"
   ]
  },
  {
   "cell_type": "code",
   "execution_count": 28,
   "metadata": {
    "collapsed": false,
    "deletable": true,
    "editable": true
   },
   "outputs": [
    {
     "data": {
      "image/png": "[encoded data removed]",
      "text/latex": [
       "$$g{\\left (z \\right )} = \\sum_{j=0}^{m - 1} \\left(- z\\right)^{j}$$"
      ],
      "text/plain": [
       "       m - 1      \n",
       "        ___       \n",
       "        ╲         \n",
       "         ╲       j\n",
       "g(z) =   ╱   (-z) \n",
       "        ╱         \n",
       "        ‾‾‾       \n",
       "       j = 0      "
      ]
     },
     "execution_count": 28,
     "metadata": {},
     "output_type": "execute_result"
    }
   ],
   "source": [
    "g_Z_12 = Eq(g(z), Sum((-z)**(j), (j,0,m_sym-1)))\n",
    "g_Z_12"
   ]
  },
  {
   "cell_type": "code",
   "execution_count": 31,
   "metadata": {
    "collapsed": false,
    "deletable": true,
    "editable": true
   },
   "outputs": [
    {
     "data": {
      "image/png": "[encoded data removed]",
      "text/latex": [
       "$$g{\\left (Z_{1,2} \\right )} = \\left[\\begin{matrix}1 & 0 & 0 & 0 & 0 & 0 & 0 & 0\\\\-1 & 1 & 0 & 0 & 0 & 0 & 0 & 0\\\\1 & -2 & 1 & 0 & 0 & 0 & 0 & 0\\\\-1 & 3 & -3 & 1 & 0 & 0 & 0 & 0\\\\1 & -4 & 6 & -4 & 1 & 0 & 0 & 0\\\\-1 & 5 & -10 & 10 & -5 & 1 & 0 & 0\\\\1 & -6 & 15 & -20 & 15 & -6 & 1 & 0\\\\-1 & 7 & -21 & 35 & -35 & 21 & -7 & 1\\end{matrix}\\right]$$"
      ],
      "text/plain": [
       "             ⎡1   0    0    0    0   0   0   0⎤\n",
       "             ⎢                                ⎥\n",
       "             ⎢-1  1    0    0    0   0   0   0⎥\n",
       "             ⎢                                ⎥\n",
       "             ⎢1   -2   1    0    0   0   0   0⎥\n",
       "             ⎢                                ⎥\n",
       "             ⎢-1  3   -3    1    0   0   0   0⎥\n",
       "g(Z_{1,2}) = ⎢                                ⎥\n",
       "             ⎢1   -4   6   -4    1   0   0   0⎥\n",
       "             ⎢                                ⎥\n",
       "             ⎢-1  5   -10  10   -5   1   0   0⎥\n",
       "             ⎢                                ⎥\n",
       "             ⎢1   -6  15   -20  15   -6  1   0⎥\n",
       "             ⎢                                ⎥\n",
       "             ⎣-1  7   -21  35   -35  21  -7  1⎦"
      ]
     },
     "execution_count": 31,
     "metadata": {},
     "output_type": "execute_result"
    }
   ],
   "source": [
    "with lift_to_matrix_function(g_Z_12.subs({m_sym:m}).doit()) as g_Z_12_fn:\n",
    "    P = Matrix(m, m, binomial)\n",
    "    I = eye(m, m)\n",
    "    Z_12 = define(Symbol(r'Z_{1,2}'), P - I)\n",
    "    P_inv = g_Z_12_fn(Z_12)\n",
    "P_inv"
   ]
  },
  {
   "cell_type": "code",
   "execution_count": 34,
   "metadata": {
    "collapsed": false,
    "deletable": true,
    "editable": true
   },
   "outputs": [],
   "source": [
    "assert P * P_inv.rhs == I"
   ]
  },
  {
   "cell_type": "code",
   "execution_count": 35,
   "metadata": {
    "collapsed": false,
    "deletable": true,
    "editable": true
   },
   "outputs": [
    {
     "data": {
      "image/png": "[encoded data removed]",
      "text/latex": [
       "$$g{\\left (z \\right )} = \\begin{cases} \\frac{1}{z + 1} & \\text{for}\\: \\left|{z}\\right| < 1 \\\\\\sum_{j=0}^{\\infty} \\left(- z\\right)^{j} & \\text{otherwise} \\end{cases}$$"
      ],
      "text/plain": [
       "       ⎧     1                  \n",
       "       ⎪   ─────     for │z│ < 1\n",
       "       ⎪   z + 1                \n",
       "       ⎪                        \n",
       "       ⎪  ∞                     \n",
       "       ⎪ ___                    \n",
       "g(z) = ⎨ ╲                      \n",
       "       ⎪  ╲       j             \n",
       "       ⎪  ╱   (-z)    otherwise \n",
       "       ⎪ ╱                      \n",
       "       ⎪ ‾‾‾                    \n",
       "       ⎪j = 0                   \n",
       "       ⎩                        "
      ]
     },
     "execution_count": 35,
     "metadata": {},
     "output_type": "execute_result"
    }
   ],
   "source": [
    "g_Z_12.subs({m_sym:oo}).doit()"
   ]
  },
  {
   "cell_type": "markdown",
   "metadata": {
    "deletable": true,
    "editable": true
   },
   "source": [
    "## $f(z)=z^{r}$"
   ]
  },
  {
   "cell_type": "code",
   "execution_count": 36,
   "metadata": {
    "collapsed": false,
    "deletable": true,
    "editable": true
   },
   "outputs": [
    {
     "data": {
      "image/png": "[encoded data removed]",
      "text/latex": [
       "$$\\left[\\begin{matrix}\\lambda_{1}^{r} & 0 & 0 & 0 & 0 & 0 & 0 & 0\\\\- r \\lambda_{1}^{r} & \\frac{r \\lambda_{1}^{r}}{\\lambda_{1}} & 0 & 0 & 0 & 0 & 0 & 0\\\\\\frac{r \\lambda_{1}^{r}}{2} \\left(r - 1\\right) & - \\frac{r \\lambda_{1}^{r}}{\\lambda_{1}} \\left(r - 1\\right) & \\frac{r \\lambda_{1}^{r}}{\\lambda_{1}^{2}} \\left(r - 1\\right) & 0 & 0 & 0 & 0 & 0\\\\- \\frac{r \\lambda_{1}^{r}}{6} \\left(r - 2\\right) \\left(r - 1\\right) & \\frac{r \\lambda_{1}^{r}}{2 \\lambda_{1}} \\left(r - 2\\right) \\left(r - 1\\right) & - \\frac{r \\lambda_{1}^{r}}{\\lambda_{1}^{2}} \\left(r - 2\\right) \\left(r - 1\\right) & \\frac{r \\lambda_{1}^{r}}{\\lambda_{1}^{3}} \\left(r - 2\\right) \\left(r - 1\\right) & 0 & 0 & 0 & 0\\\\\\frac{r \\lambda_{1}^{r}}{24} \\left(r - 3\\right) \\left(r - 2\\right) \\left(r - 1\\right) & - \\frac{r \\lambda_{1}^{r}}{6 \\lambda_{1}} \\left(r - 3\\right) \\left(r - 2\\right) \\left(r - 1\\right) & \\frac{r \\lambda_{1}^{r}}{2 \\lambda_{1}^{2}} \\left(r - 3\\right) \\left(r - 2\\right) \\left(r - 1\\right) & - \\frac{r \\lambda_{1}^{r}}{\\lambda_{1}^{3}} \\left(r - 3\\right) \\left(r - 2\\right) \\left(r - 1\\right) & \\frac{r \\lambda_{1}^{r}}{\\lambda_{1}^{4}} \\left(r - 3\\right) \\left(r - 2\\right) \\left(r - 1\\right) & 0 & 0 & 0\\\\- \\frac{r \\lambda_{1}^{r}}{120} \\left(r - 4\\right) \\left(r - 3\\right) \\left(r - 2\\right) \\left(r - 1\\right) & \\frac{r \\lambda_{1}^{r}}{24 \\lambda_{1}} \\left(r - 4\\right) \\left(r - 3\\right) \\left(r - 2\\right) \\left(r - 1\\right) & - \\frac{r \\lambda_{1}^{r}}{6 \\lambda_{1}^{2}} \\left(r - 4\\right) \\left(r - 3\\right) \\left(r - 2\\right) \\left(r - 1\\right) & \\frac{r \\lambda_{1}^{r}}{2 \\lambda_{1}^{3}} \\left(r - 4\\right) \\left(r - 3\\right) \\left(r - 2\\right) \\left(r - 1\\right) & - \\frac{r \\lambda_{1}^{r}}{\\lambda_{1}^{4}} \\left(r - 4\\right) \\left(r - 3\\right) \\left(r - 2\\right) \\left(r - 1\\right) & \\frac{r \\lambda_{1}^{r}}{\\lambda_{1}^{5}} \\left(r - 4\\right) \\left(r - 3\\right) \\left(r - 2\\right) \\left(r - 1\\right) & 0 & 0\\\\\\frac{r \\lambda_{1}^{r}}{720} \\left(r - 5\\right) \\left(r - 4\\right) \\left(r - 3\\right) \\left(r - 2\\right) \\left(r - 1\\right) & - \\frac{r \\lambda_{1}^{r}}{120 \\lambda_{1}} \\left(r - 5\\right) \\left(r - 4\\right) \\left(r - 3\\right) \\left(r - 2\\right) \\left(r - 1\\right) & \\frac{r \\lambda_{1}^{r}}{24 \\lambda_{1}^{2}} \\left(r - 5\\right) \\left(r - 4\\right) \\left(r - 3\\right) \\left(r - 2\\right) \\left(r - 1\\right) & - \\frac{r \\lambda_{1}^{r}}{6 \\lambda_{1}^{3}} \\left(r - 5\\right) \\left(r - 4\\right) \\left(r - 3\\right) \\left(r - 2\\right) \\left(r - 1\\right) & \\frac{r \\lambda_{1}^{r}}{2 \\lambda_{1}^{4}} \\left(r - 5\\right) \\left(r - 4\\right) \\left(r - 3\\right) \\left(r - 2\\right) \\left(r - 1\\right) & - \\frac{r \\lambda_{1}^{r}}{\\lambda_{1}^{5}} \\left(r - 5\\right) \\left(r - 4\\right) \\left(r - 3\\right) \\left(r - 2\\right) \\left(r - 1\\right) & \\frac{r \\lambda_{1}^{r}}{\\lambda_{1}^{6}} \\left(r - 5\\right) \\left(r - 4\\right) \\left(r - 3\\right) \\left(r - 2\\right) \\left(r - 1\\right) & 0\\\\- \\frac{r \\lambda_{1}^{r}}{5040} \\left(r - 6\\right) \\left(r - 5\\right) \\left(r - 4\\right) \\left(r - 3\\right) \\left(r - 2\\right) \\left(r - 1\\right) & \\frac{r \\lambda_{1}^{r}}{720 \\lambda_{1}} \\left(r - 6\\right) \\left(r - 5\\right) \\left(r - 4\\right) \\left(r - 3\\right) \\left(r - 2\\right) \\left(r - 1\\right) & - \\frac{r \\lambda_{1}^{r}}{120 \\lambda_{1}^{2}} \\left(r - 6\\right) \\left(r - 5\\right) \\left(r - 4\\right) \\left(r - 3\\right) \\left(r - 2\\right) \\left(r - 1\\right) & \\frac{r \\lambda_{1}^{r}}{24 \\lambda_{1}^{3}} \\left(r - 6\\right) \\left(r - 5\\right) \\left(r - 4\\right) \\left(r - 3\\right) \\left(r - 2\\right) \\left(r - 1\\right) & - \\frac{r \\lambda_{1}^{r}}{6 \\lambda_{1}^{4}} \\left(r - 6\\right) \\left(r - 5\\right) \\left(r - 4\\right) \\left(r - 3\\right) \\left(r - 2\\right) \\left(r - 1\\right) & \\frac{r \\lambda_{1}^{r}}{2 \\lambda_{1}^{5}} \\left(r - 6\\right) \\left(r - 5\\right) \\left(r - 4\\right) \\left(r - 3\\right) \\left(r - 2\\right) \\left(r - 1\\right) & - \\frac{r \\lambda_{1}^{r}}{\\lambda_{1}^{6}} \\left(r - 6\\right) \\left(r - 5\\right) \\left(r - 4\\right) \\left(r - 3\\right) \\left(r - 2\\right) \\left(r - 1\\right) & \\frac{r \\lambda_{1}^{r}}{\\lambda_{1}^{7}} \\left(r - 6\\right) \\left(r - 5\\right) \\left(r - 4\\right) \\left(r - 3\\right) \\left(r - 2\\right) \\left(r - 1\\right)\\end{matrix}\\right]$$"
      ],
      "text/plain": [
       "⎡                                    r                                        \n",
       "⎢                          \\lambda[1]                                         \n",
       "⎢                                                                             \n",
       "⎢                                                                             \n",
       "⎢                                     r                                       \n",
       "⎢                        -r⋅\\lambda[1]                                        \n",
       "⎢                                                                             \n",
       "⎢                                                                             \n",
       "⎢                                         r                                   \n",
       "⎢                     r⋅(r - 1)⋅\\lambda[1]                                    \n",
       "⎢                     ─────────────────────                                   \n",
       "⎢                               2                                             \n",
       "⎢                                                                             \n",
       "⎢                                                                             \n",
       "⎢                                             r                               \n",
       "⎢                -r⋅(r - 2)⋅(r - 1)⋅\\lambda[1]                                \n",
       "⎢                ───────────────────────────────                              \n",
       "⎢                               6                                             \n",
       "⎢                                                                             \n",
       "⎢                                                                             \n",
       "⎢                                                 r                           \n",
       "⎢             r⋅(r - 3)⋅(r - 2)⋅(r - 1)⋅\\lambda[1]                           -\n",
       "⎢             ─────────────────────────────────────                          ─\n",
       "⎢                               24                                            \n",
       "⎢                                                                             \n",
       "⎢                                                                             \n",
       "⎢                                                     r                       \n",
       "⎢        -r⋅(r - 4)⋅(r - 3)⋅(r - 2)⋅(r - 1)⋅\\lambda[1]                    r⋅(r\n",
       "⎢        ───────────────────────────────────────────────                  ────\n",
       "⎢                              120                                            \n",
       "⎢                                                                             \n",
       "⎢                                                                             \n",
       "⎢                                                         r                   \n",
       "⎢     r⋅(r - 5)⋅(r - 4)⋅(r - 3)⋅(r - 2)⋅(r - 1)⋅\\lambda[1]           -r⋅(r - 5\n",
       "⎢     ─────────────────────────────────────────────────────          ─────────\n",
       "⎢                              720                                            \n",
       "⎢                                                                             \n",
       "⎢                                                                             \n",
       "⎢                                                             r               \n",
       "⎢-r⋅(r - 6)⋅(r - 5)⋅(r - 4)⋅(r - 3)⋅(r - 2)⋅(r - 1)⋅\\lambda[1]    r⋅(r - 6)⋅(r\n",
       "⎢───────────────────────────────────────────────────────────────  ────────────\n",
       "⎢                              5040                                           \n",
       "⎣                                                                             \n",
       "\n",
       "                                                                              \n",
       "                  0                                                           \n",
       "                                                                              \n",
       "                        r                                                     \n",
       "            r⋅\\lambda[1]                                                      \n",
       "            ─────────────                                                     \n",
       "              \\lambda[1]                                                      \n",
       "                                                                              \n",
       "                            r                                                 \n",
       "       -r⋅(r - 1)⋅\\lambda[1]                                            r⋅(r -\n",
       "       ───────────────────────                                          ──────\n",
       "              \\lambda[1]                                                      \n",
       "                                                                             \\\n",
       "                                                                              \n",
       "                                r                                             \n",
       "    r⋅(r - 2)⋅(r - 1)⋅\\lambda[1]                                   -r⋅(r - 2)⋅\n",
       "    ─────────────────────────────                                  ───────────\n",
       "             2⋅\\lambda[1]                                                     \n",
       "                                                                             \\\n",
       "                                                                              \n",
       "                                    r                                         \n",
       "r⋅(r - 3)⋅(r - 2)⋅(r - 1)⋅\\lambda[1]                            r⋅(r - 3)⋅(r -\n",
       "──────────────────────────────────────                          ──────────────\n",
       "             6⋅\\lambda[1]                                                     \n",
       "                                                                            2⋅\n",
       "                                                                              \n",
       "                                        r                                     \n",
       " - 4)⋅(r - 3)⋅(r - 2)⋅(r - 1)⋅\\lambda[1]                   -r⋅(r - 4)⋅(r - 3)⋅\n",
       "─────────────────────────────────────────                  ───────────────────\n",
       "            24⋅\\lambda[1]                                                     \n",
       "                                                                            6⋅\n",
       "                                                                              \n",
       "                                            r                                 \n",
       ")⋅(r - 4)⋅(r - 3)⋅(r - 2)⋅(r - 1)⋅\\lambda[1]            r⋅(r - 5)⋅(r - 4)⋅(r -\n",
       "──────────────────────────────────────────────          ──────────────────────\n",
       "            120⋅\\lambda[1]                                                    \n",
       "                                                                            24\n",
       "                                                                              \n",
       "                                                r                             \n",
       " - 5)⋅(r - 4)⋅(r - 3)⋅(r - 2)⋅(r - 1)⋅\\lambda[1]   -r⋅(r - 6)⋅(r - 5)⋅(r - 4)⋅\n",
       "─────────────────────────────────────────────────  ───────────────────────────\n",
       "            720⋅\\lambda[1]                                                    \n",
       "                                                                           120\n",
       "\n",
       "                                                                              \n",
       "    0                                                               0         \n",
       "                                                                              \n",
       "                                                                              \n",
       "                                                                              \n",
       "    0                                                               0         \n",
       "                                                                              \n",
       "                                                                              \n",
       "              r                                                               \n",
       " 1)⋅\\lambda[1]                                                                \n",
       "───────────────                                                     0         \n",
       "         2                                                                    \n",
       "lambda[1]                                                                     \n",
       "                                                                              \n",
       "                  r                                                           \n",
       "(r - 1)⋅\\lambda[1]                                    r⋅(r - 2)⋅(r - 1)⋅\\lambd\n",
       "────────────────────                                  ────────────────────────\n",
       "         2                                                               3    \n",
       "lambda[1]                                                      \\lambda[1]     \n",
       "                                                                              \n",
       "                      r                                                       \n",
       " 2)⋅(r - 1)⋅\\lambda[1]                           -r⋅(r - 3)⋅(r - 2)⋅(r - 1)⋅\\l\n",
       "───────────────────────                          ─────────────────────────────\n",
       "          2                                                              3    \n",
       "\\lambda[1]                                                     \\lambda[1]     \n",
       "                                                                              \n",
       "                          r                                                   \n",
       "(r - 2)⋅(r - 1)⋅\\lambda[1]                    r⋅(r - 4)⋅(r - 3)⋅(r - 2)⋅(r - 1\n",
       "────────────────────────────                  ────────────────────────────────\n",
       "          2                                                               3   \n",
       "\\lambda[1]                                                    2⋅\\lambda[1]    \n",
       "                                                                              \n",
       "                              r                                               \n",
       " 3)⋅(r - 2)⋅(r - 1)⋅\\lambda[1]           -r⋅(r - 5)⋅(r - 4)⋅(r - 3)⋅(r - 2)⋅(r\n",
       "───────────────────────────────          ─────────────────────────────────────\n",
       "           2                                                              3   \n",
       "⋅\\lambda[1]                                                   6⋅\\lambda[1]    \n",
       "                                                                              \n",
       "                                  r                                           \n",
       "(r - 3)⋅(r - 2)⋅(r - 1)⋅\\lambda[1]    r⋅(r - 6)⋅(r - 5)⋅(r - 4)⋅(r - 3)⋅(r - 2\n",
       "────────────────────────────────────  ────────────────────────────────────────\n",
       "           2                                                               3  \n",
       "⋅\\lambda[1]                                                   24⋅\\lambda[1]   \n",
       "\n",
       "                                                                              \n",
       "                                                      0                       \n",
       "                                                                              \n",
       "                                                                              \n",
       "                                                                              \n",
       "                                                      0                       \n",
       "                                                                              \n",
       "                                                                              \n",
       "                                                                              \n",
       "                                                                              \n",
       "                                                      0                       \n",
       "                                                                              \n",
       "                                                                              \n",
       "                                                                              \n",
       "    r                                                                         \n",
       "a[1]                                                                          \n",
       "─────                                                 0                       \n",
       "                                                                              \n",
       "                                                                              \n",
       "                                                                              \n",
       "        r                                                               r     \n",
       "ambda[1]                            r⋅(r - 3)⋅(r - 2)⋅(r - 1)⋅\\lambda[1]      \n",
       "──────────                          ─────────────────────────────────────     \n",
       "                                                           4                  \n",
       "                                                 \\lambda[1]                   \n",
       "                                                                              \n",
       "            r                                                               r \n",
       ")⋅\\lambda[1]                   -r⋅(r - 4)⋅(r - 3)⋅(r - 2)⋅(r - 1)⋅\\lambda[1]  \n",
       "─────────────                  ───────────────────────────────────────────────\n",
       "                                                           4                  \n",
       "                                                 \\lambda[1]                   \n",
       "                                                                              \n",
       "                r                                                             \n",
       " - 1)⋅\\lambda[1]            r⋅(r - 5)⋅(r - 4)⋅(r - 3)⋅(r - 2)⋅(r - 1)⋅\\lambda[\n",
       "──────────────────          ──────────────────────────────────────────────────\n",
       "                                                            4                 \n",
       "                                                2⋅\\lambda[1]                  \n",
       "                                                                              \n",
       "                    r                                                         \n",
       ")⋅(r - 1)⋅\\lambda[1]   -r⋅(r - 6)⋅(r - 5)⋅(r - 4)⋅(r - 3)⋅(r - 2)⋅(r - 1)⋅\\lam\n",
       "─────────────────────  ───────────────────────────────────────────────────────\n",
       "                                                            4                 \n",
       "                                                6⋅\\lambda[1]                  \n",
       "\n",
       "                                                                              \n",
       "                                        0                                     \n",
       "                                                                              \n",
       "                                                                              \n",
       "                                                                              \n",
       "                                        0                                     \n",
       "                                                                              \n",
       "                                                                              \n",
       "                                                                              \n",
       "                                                                              \n",
       "                                        0                                     \n",
       "                                                                              \n",
       "                                                                              \n",
       "                                                                              \n",
       "                                                                              \n",
       "                                                                              \n",
       "                                        0                                     \n",
       "                                                                              \n",
       "                                                                              \n",
       "                                                                              \n",
       "                                                                              \n",
       "                                                                              \n",
       "                                        0                                     \n",
       "                                                                              \n",
       "                                                                              \n",
       "                                                                              \n",
       "                                                              r               \n",
       "                  r⋅(r - 4)⋅(r - 3)⋅(r - 2)⋅(r - 1)⋅\\lambda[1]                \n",
       "                  ─────────────────────────────────────────────               \n",
       "                                             5                                \n",
       "                                   \\lambda[1]                                 \n",
       "                                                                              \n",
       "  r                                                               r           \n",
       "1]           -r⋅(r - 5)⋅(r - 4)⋅(r - 3)⋅(r - 2)⋅(r - 1)⋅\\lambda[1]            \n",
       "───          ───────────────────────────────────────────────────────          \n",
       "                                             5                                \n",
       "                                   \\lambda[1]                                 \n",
       "                                                                              \n",
       "      r                                                               r       \n",
       "bda[1]    r⋅(r - 6)⋅(r - 5)⋅(r - 4)⋅(r - 3)⋅(r - 2)⋅(r - 1)⋅\\lambda[1]   -r⋅(r\n",
       "────────  ─────────────────────────────────────────────────────────────  ─────\n",
       "                                              5                               \n",
       "                                  2⋅\\lambda[1]                                \n",
       "\n",
       "                                                                              \n",
       "                          0                                                   \n",
       "                                                                              \n",
       "                                                                              \n",
       "                                                                              \n",
       "                          0                                                   \n",
       "                                                                              \n",
       "                                                                              \n",
       "                                                                              \n",
       "                                                                              \n",
       "                          0                                                   \n",
       "                                                                              \n",
       "                                                                              \n",
       "                                                                              \n",
       "                                                                              \n",
       "                                                                              \n",
       "                          0                                                   \n",
       "                                                                              \n",
       "                                                                              \n",
       "                                                                              \n",
       "                                                                              \n",
       "                                                                              \n",
       "                          0                                                   \n",
       "                                                                              \n",
       "                                                                              \n",
       "                                                                              \n",
       "                                                                              \n",
       "                                                                              \n",
       "                          0                                                   \n",
       "                                                                              \n",
       "                                                                              \n",
       "                                                                              \n",
       "                                                    r                         \n",
       "r⋅(r - 5)⋅(r - 4)⋅(r - 3)⋅(r - 2)⋅(r - 1)⋅\\lambda[1]                          \n",
       "─────────────────────────────────────────────────────                         \n",
       "                               6                                              \n",
       "                     \\lambda[1]                                               \n",
       "                                                                              \n",
       "                                                        r                     \n",
       " - 6)⋅(r - 5)⋅(r - 4)⋅(r - 3)⋅(r - 2)⋅(r - 1)⋅\\lambda[1]    r⋅(r - 6)⋅(r - 5)⋅\n",
       "──────────────────────────────────────────────────────────  ──────────────────\n",
       "                               6                                              \n",
       "                     \\lambda[1]                                               \n",
       "\n",
       "                                           ⎤\n",
       "            0                              ⎥\n",
       "                                           ⎥\n",
       "                                           ⎥\n",
       "                                           ⎥\n",
       "            0                              ⎥\n",
       "                                           ⎥\n",
       "                                           ⎥\n",
       "                                           ⎥\n",
       "                                           ⎥\n",
       "            0                              ⎥\n",
       "                                           ⎥\n",
       "                                           ⎥\n",
       "                                           ⎥\n",
       "                                           ⎥\n",
       "                                           ⎥\n",
       "            0                              ⎥\n",
       "                                           ⎥\n",
       "                                           ⎥\n",
       "                                           ⎥\n",
       "                                           ⎥\n",
       "                                           ⎥\n",
       "            0                              ⎥\n",
       "                                           ⎥\n",
       "                                           ⎥\n",
       "                                           ⎥\n",
       "                                           ⎥\n",
       "                                           ⎥\n",
       "            0                              ⎥\n",
       "                                           ⎥\n",
       "                                           ⎥\n",
       "                                           ⎥\n",
       "                                           ⎥\n",
       "                                           ⎥\n",
       "            0                              ⎥\n",
       "                                           ⎥\n",
       "                                           ⎥\n",
       "                                           ⎥\n",
       "                                          r⎥\n",
       "(r - 4)⋅(r - 3)⋅(r - 2)⋅(r - 1)⋅\\lambda[1] ⎥\n",
       "───────────────────────────────────────────⎥\n",
       "                 7                         ⎥\n",
       "       \\lambda[1]                          ⎦"
      ]
     },
     "execution_count": 36,
     "metadata": {},
     "output_type": "execute_result"
    }
   ],
   "source": [
    "DE_pow = DE.subs({f:Lambda(t, t**r)}).applyfunc(lambda i: i.doit().factor())\n",
    "DE_pow"
   ]
  },
  {
   "cell_type": "code",
   "execution_count": 37,
   "metadata": {
    "collapsed": false,
    "deletable": true,
    "editable": true
   },
   "outputs": [
    {
     "data": {
      "image/png": "[encoded data removed]",
      "text/latex": [
       "$$\\left[\\begin{matrix}\\frac{{\\left(r\\right)}_{0} \\lambda_{1}^{r}}{{\\left(0\\right)}_{0}} & 0 & 0 & 0 & 0 & 0 & 0 & 0\\\\- \\frac{{\\left(r\\right)}_{1} \\lambda_{1}^{r}}{{\\left(1\\right)}_{1}} & \\frac{{\\left(r\\right)}_{1}}{{\\left(0\\right)}_{0}} \\lambda_{1}^{r - 1} & 0 & 0 & 0 & 0 & 0 & 0\\\\\\frac{{\\left(r\\right)}_{2} \\lambda_{1}^{r}}{{\\left(2\\right)}_{2}} & - \\frac{{\\left(r\\right)}_{2}}{{\\left(1\\right)}_{1}} \\lambda_{1}^{r - 1} & \\frac{{\\left(r\\right)}_{2}}{{\\left(0\\right)}_{0}} \\lambda_{1}^{r - 2} & 0 & 0 & 0 & 0 & 0\\\\- \\frac{{\\left(r\\right)}_{3} \\lambda_{1}^{r}}{{\\left(3\\right)}_{3}} & \\frac{{\\left(r\\right)}_{3}}{{\\left(2\\right)}_{2}} \\lambda_{1}^{r - 1} & - \\frac{{\\left(r\\right)}_{3}}{{\\left(1\\right)}_{1}} \\lambda_{1}^{r - 2} & \\frac{{\\left(r\\right)}_{3}}{{\\left(0\\right)}_{0}} \\lambda_{1}^{r - 3} & 0 & 0 & 0 & 0\\\\\\frac{{\\left(r\\right)}_{4} \\lambda_{1}^{r}}{{\\left(4\\right)}_{4}} & - \\frac{{\\left(r\\right)}_{4}}{{\\left(3\\right)}_{3}} \\lambda_{1}^{r - 1} & \\frac{{\\left(r\\right)}_{4}}{{\\left(2\\right)}_{2}} \\lambda_{1}^{r - 2} & - \\frac{{\\left(r\\right)}_{4}}{{\\left(1\\right)}_{1}} \\lambda_{1}^{r - 3} & \\frac{{\\left(r\\right)}_{4}}{{\\left(0\\right)}_{0}} \\lambda_{1}^{r - 4} & 0 & 0 & 0\\\\- \\frac{{\\left(r\\right)}_{5} \\lambda_{1}^{r}}{{\\left(5\\right)}_{5}} & \\frac{{\\left(r\\right)}_{5}}{{\\left(4\\right)}_{4}} \\lambda_{1}^{r - 1} & - \\frac{{\\left(r\\right)}_{5}}{{\\left(3\\right)}_{3}} \\lambda_{1}^{r - 2} & \\frac{{\\left(r\\right)}_{5}}{{\\left(2\\right)}_{2}} \\lambda_{1}^{r - 3} & - \\frac{{\\left(r\\right)}_{5}}{{\\left(1\\right)}_{1}} \\lambda_{1}^{r - 4} & \\frac{{\\left(r\\right)}_{5}}{{\\left(0\\right)}_{0}} \\lambda_{1}^{r - 5} & 0 & 0\\\\\\frac{{\\left(r\\right)}_{6} \\lambda_{1}^{r}}{{\\left(6\\right)}_{6}} & - \\frac{{\\left(r\\right)}_{6}}{{\\left(5\\right)}_{5}} \\lambda_{1}^{r - 1} & \\frac{{\\left(r\\right)}_{6}}{{\\left(4\\right)}_{4}} \\lambda_{1}^{r - 2} & - \\frac{{\\left(r\\right)}_{6}}{{\\left(3\\right)}_{3}} \\lambda_{1}^{r - 3} & \\frac{{\\left(r\\right)}_{6}}{{\\left(2\\right)}_{2}} \\lambda_{1}^{r - 4} & - \\frac{{\\left(r\\right)}_{6}}{{\\left(1\\right)}_{1}} \\lambda_{1}^{r - 5} & \\frac{{\\left(r\\right)}_{6}}{{\\left(0\\right)}_{0}} \\lambda_{1}^{r - 6} & 0\\\\- \\frac{{\\left(r\\right)}_{7} \\lambda_{1}^{r}}{{\\left(7\\right)}_{7}} & \\frac{{\\left(r\\right)}_{7}}{{\\left(6\\right)}_{6}} \\lambda_{1}^{r - 1} & - \\frac{{\\left(r\\right)}_{7}}{{\\left(5\\right)}_{5}} \\lambda_{1}^{r - 2} & \\frac{{\\left(r\\right)}_{7}}{{\\left(4\\right)}_{4}} \\lambda_{1}^{r - 3} & - \\frac{{\\left(r\\right)}_{7}}{{\\left(3\\right)}_{3}} \\lambda_{1}^{r - 4} & \\frac{{\\left(r\\right)}_{7}}{{\\left(2\\right)}_{2}} \\lambda_{1}^{r - 5} & - \\frac{{\\left(r\\right)}_{7}}{{\\left(1\\right)}_{1}} \\lambda_{1}^{r - 6} & \\frac{{\\left(r\\right)}_{7}}{{\\left(0\\right)}_{0}} \\lambda_{1}^{r - 7}\\end{matrix}\\right]$$"
      ],
      "text/plain": [
       "⎡                                  r                                          \n",
       "⎢ FallingFactorial(r, 0)⋅\\lambda[1]                                           \n",
       "⎢ ──────────────────────────────────                      0                   \n",
       "⎢       FallingFactorial(0, 0)                                                \n",
       "⎢                                                                             \n",
       "⎢                                  r                                     r - 1\n",
       "⎢-FallingFactorial(r, 1)⋅\\lambda[1]     FallingFactorial(r, 1)⋅\\lambda[1]     \n",
       "⎢────────────────────────────────────   ──────────────────────────────────────\n",
       "⎢       FallingFactorial(1, 1)                  FallingFactorial(0, 0)        \n",
       "⎢                                                                             \n",
       "⎢                                  r                                     r - 1\n",
       "⎢ FallingFactorial(r, 2)⋅\\lambda[1]    -FallingFactorial(r, 2)⋅\\lambda[1]     \n",
       "⎢ ──────────────────────────────────   ───────────────────────────────────────\n",
       "⎢       FallingFactorial(2, 2)                  FallingFactorial(1, 1)        \n",
       "⎢                                                                             \n",
       "⎢                                  r                                     r - 1\n",
       "⎢-FallingFactorial(r, 3)⋅\\lambda[1]     FallingFactorial(r, 3)⋅\\lambda[1]     \n",
       "⎢────────────────────────────────────   ──────────────────────────────────────\n",
       "⎢       FallingFactorial(3, 3)                  FallingFactorial(2, 2)        \n",
       "⎢                                                                             \n",
       "⎢                                  r                                     r - 1\n",
       "⎢ FallingFactorial(r, 4)⋅\\lambda[1]    -FallingFactorial(r, 4)⋅\\lambda[1]     \n",
       "⎢ ──────────────────────────────────   ───────────────────────────────────────\n",
       "⎢       FallingFactorial(4, 4)                  FallingFactorial(3, 3)        \n",
       "⎢                                                                             \n",
       "⎢                                  r                                     r - 1\n",
       "⎢-FallingFactorial(r, 5)⋅\\lambda[1]     FallingFactorial(r, 5)⋅\\lambda[1]     \n",
       "⎢────────────────────────────────────   ──────────────────────────────────────\n",
       "⎢       FallingFactorial(5, 5)                  FallingFactorial(4, 4)        \n",
       "⎢                                                                             \n",
       "⎢                                  r                                     r - 1\n",
       "⎢ FallingFactorial(r, 6)⋅\\lambda[1]    -FallingFactorial(r, 6)⋅\\lambda[1]     \n",
       "⎢ ──────────────────────────────────   ───────────────────────────────────────\n",
       "⎢       FallingFactorial(6, 6)                  FallingFactorial(5, 5)        \n",
       "⎢                                                                             \n",
       "⎢                                  r                                     r - 1\n",
       "⎢-FallingFactorial(r, 7)⋅\\lambda[1]     FallingFactorial(r, 7)⋅\\lambda[1]     \n",
       "⎢────────────────────────────────────   ──────────────────────────────────────\n",
       "⎣       FallingFactorial(7, 7)                  FallingFactorial(6, 6)        \n",
       "\n",
       "                                                                              \n",
       "                                                                              \n",
       "                      0                                         0             \n",
       "                                                                              \n",
       "                                                                              \n",
       "                                                                              \n",
       "                                                                              \n",
       "                      0                                         0             \n",
       "                                                                              \n",
       "                                                                              \n",
       "                                     r - 2                                    \n",
       "    FallingFactorial(r, 2)⋅\\lambda[1]                                         \n",
       "─   ──────────────────────────────────────                      0             \n",
       "            FallingFactorial(0, 0)                                            \n",
       "                                                                              \n",
       "                                     r - 2                                    \n",
       "   -FallingFactorial(r, 3)⋅\\lambda[1]         FallingFactorial(r, 3)⋅\\lambda[1\n",
       "   ────────────────────────────────────────   ────────────────────────────────\n",
       "            FallingFactorial(1, 1)                    FallingFactorial(0, 0)  \n",
       "                                                                              \n",
       "                                     r - 2                                    \n",
       "    FallingFactorial(r, 4)⋅\\lambda[1]        -FallingFactorial(r, 4)⋅\\lambda[1\n",
       "─   ──────────────────────────────────────   ─────────────────────────────────\n",
       "            FallingFactorial(2, 2)                    FallingFactorial(1, 1)  \n",
       "                                                                              \n",
       "                                     r - 2                                    \n",
       "   -FallingFactorial(r, 5)⋅\\lambda[1]         FallingFactorial(r, 5)⋅\\lambda[1\n",
       "   ────────────────────────────────────────   ────────────────────────────────\n",
       "            FallingFactorial(3, 3)                    FallingFactorial(2, 2)  \n",
       "                                                                              \n",
       "                                     r - 2                                    \n",
       "    FallingFactorial(r, 6)⋅\\lambda[1]        -FallingFactorial(r, 6)⋅\\lambda[1\n",
       "─   ──────────────────────────────────────   ─────────────────────────────────\n",
       "            FallingFactorial(4, 4)                    FallingFactorial(3, 3)  \n",
       "                                                                              \n",
       "                                     r - 2                                    \n",
       "   -FallingFactorial(r, 7)⋅\\lambda[1]         FallingFactorial(r, 7)⋅\\lambda[1\n",
       "   ────────────────────────────────────────   ────────────────────────────────\n",
       "            FallingFactorial(5, 5)                    FallingFactorial(4, 4)  \n",
       "\n",
       "                                                                              \n",
       "                                                                              \n",
       "                            0                                         0       \n",
       "                                                                              \n",
       "                                                                              \n",
       "                                                                              \n",
       "                                                                              \n",
       "                            0                                         0       \n",
       "                                                                              \n",
       "                                                                              \n",
       "                                                                              \n",
       "                                                                              \n",
       "                            0                                         0       \n",
       "                                                                              \n",
       "                                                                              \n",
       " r - 3                                                                        \n",
       "]                                                                             \n",
       "──────                      0                                         0       \n",
       "                                                                              \n",
       "                                                                              \n",
       " r - 3                                     r - 4                              \n",
       "]         FallingFactorial(r, 4)⋅\\lambda[1]                                   \n",
       "───────   ──────────────────────────────────────                      0       \n",
       "                  FallingFactorial(0, 0)                                      \n",
       "                                                                              \n",
       " r - 3                                     r - 4                              \n",
       "]        -FallingFactorial(r, 5)⋅\\lambda[1]         FallingFactorial(r, 5)⋅\\la\n",
       "──────   ────────────────────────────────────────   ──────────────────────────\n",
       "                  FallingFactorial(1, 1)                    FallingFactorial(0\n",
       "                                                                              \n",
       " r - 3                                     r - 4                              \n",
       "]         FallingFactorial(r, 6)⋅\\lambda[1]        -FallingFactorial(r, 6)⋅\\la\n",
       "───────   ──────────────────────────────────────   ───────────────────────────\n",
       "                  FallingFactorial(2, 2)                    FallingFactorial(1\n",
       "                                                                              \n",
       " r - 3                                     r - 4                              \n",
       "]        -FallingFactorial(r, 7)⋅\\lambda[1]         FallingFactorial(r, 7)⋅\\la\n",
       "──────   ────────────────────────────────────────   ──────────────────────────\n",
       "                  FallingFactorial(3, 3)                    FallingFactorial(2\n",
       "\n",
       "                                                                              \n",
       "                                                                              \n",
       "                                  0                                        0  \n",
       "                                                                              \n",
       "                                                                              \n",
       "                                                                              \n",
       "                                                                              \n",
       "                                  0                                        0  \n",
       "                                                                              \n",
       "                                                                              \n",
       "                                                                              \n",
       "                                                                              \n",
       "                                  0                                        0  \n",
       "                                                                              \n",
       "                                                                              \n",
       "                                                                              \n",
       "                                                                              \n",
       "                                  0                                        0  \n",
       "                                                                              \n",
       "                                                                              \n",
       "                                                                              \n",
       "                                                                              \n",
       "                                  0                                        0  \n",
       "                                                                              \n",
       "                                                                              \n",
       "       r - 5                                                                  \n",
       "mbda[1]                                                                       \n",
       "────────────                      0                                        0  \n",
       ", 0)                                                                          \n",
       "                                                                              \n",
       "       r - 5                                     r - 6                        \n",
       "mbda[1]         FallingFactorial(r, 6)⋅\\lambda[1]                             \n",
       "─────────────   ──────────────────────────────────────                     0  \n",
       ", 1)                    FallingFactorial(0, 0)                                \n",
       "                                                                              \n",
       "       r - 5                                     r - 6                        \n",
       "mbda[1]        -FallingFactorial(r, 7)⋅\\lambda[1]        FallingFactorial(r, 7\n",
       "────────────   ────────────────────────────────────────  ─────────────────────\n",
       ", 2)                    FallingFactorial(1, 1)                   FallingFactor\n",
       "\n",
       "                 ⎤\n",
       "                 ⎥\n",
       "                 ⎥\n",
       "                 ⎥\n",
       "                 ⎥\n",
       "                 ⎥\n",
       "                 ⎥\n",
       "                 ⎥\n",
       "                 ⎥\n",
       "                 ⎥\n",
       "                 ⎥\n",
       "                 ⎥\n",
       "                 ⎥\n",
       "                 ⎥\n",
       "                 ⎥\n",
       "                 ⎥\n",
       "                 ⎥\n",
       "                 ⎥\n",
       "                 ⎥\n",
       "                 ⎥\n",
       "                 ⎥\n",
       "                 ⎥\n",
       "                 ⎥\n",
       "                 ⎥\n",
       "                 ⎥\n",
       "                 ⎥\n",
       "                 ⎥\n",
       "                 ⎥\n",
       "                 ⎥\n",
       "                 ⎥\n",
       "                 ⎥\n",
       "                 ⎥\n",
       "                 ⎥\n",
       "                 ⎥\n",
       "                 ⎥\n",
       "            r - 7⎥\n",
       ")⋅\\lambda[1]     ⎥\n",
       "─────────────────⎥\n",
       "ial(0, 0)        ⎦"
      ]
     },
     "execution_count": 37,
     "metadata": {},
     "output_type": "execute_result"
    }
   ],
   "source": [
    "DE_pow_ff = Matrix(m, m, lambda n, k: ((-1)**(n-k)*ff(r, n, evaluate=False)*(lamda_indexed[1])**r/(ff(n-k, n-k, evaluate=False)*lamda_indexed[1]**k) if k<=n else S(0)).powsimp())\n",
    "DE_pow_ff"
   ]
  },
  {
   "cell_type": "code",
   "execution_count": 38,
   "metadata": {
    "collapsed": false,
    "deletable": true,
    "editable": true
   },
   "outputs": [],
   "source": [
    "assert DE_pow.applyfunc(powsimp) == DE_pow_ff.doit()"
   ]
  },
  {
   "cell_type": "code",
   "execution_count": 42,
   "metadata": {
    "collapsed": false,
    "deletable": true,
    "editable": true
   },
   "outputs": [
    {
     "data": {
      "image/png": "[encoded data removed]",
      "text/latex": [
       "$$\\left ( r \\left(r - 6\\right) \\left(r - 5\\right) \\left(r - 4\\right) \\left(r - 3\\right) \\left(r - 2\\right) \\left(r - 1\\right), \\quad 5040, \\quad 5040\\right )$$"
      ],
      "text/plain": [
       "(r⋅(r - 6)⋅(r - 5)⋅(r - 4)⋅(r - 3)⋅(r - 2)⋅(r - 1), 5040, 5040)"
      ]
     },
     "execution_count": 42,
     "metadata": {},
     "output_type": "execute_result"
    }
   ],
   "source": [
    "ff(r, 7), factorial(7), ff(7,7)"
   ]
  },
  {
   "cell_type": "code",
   "execution_count": 43,
   "metadata": {
    "collapsed": false,
    "deletable": true,
    "editable": true
   },
   "outputs": [],
   "source": [
    "assert binomial(r,7).combsimp() == (ff(r, 7)/ff(7,7))"
   ]
  },
  {
   "cell_type": "code",
   "execution_count": 44,
   "metadata": {
    "collapsed": false,
    "deletable": true,
    "editable": true
   },
   "outputs": [
    {
     "data": {
      "image/png": "[encoded data removed]",
      "text/latex": [
       "$$\\left[\\begin{matrix}- r & \\frac{r}{\\lambda_{1}} & 0 & 0 & 0 & 0 & 0\\\\- \\frac{\\lambda_{1}}{2} \\left(r + 1\\right) & 1 & \\frac{1}{\\lambda_{1}} \\left(r - 1\\right) & 0 & 0 & 0 & 0\\\\- \\frac{\\lambda_{1}^{2}}{6} \\left(r + 1\\right) & 0 & 1 & \\frac{1}{\\lambda_{1}} \\left(r - 2\\right) & 0 & 0 & 0\\\\- \\frac{\\lambda_{1}^{3}}{24} \\left(r + 1\\right) & 0 & 0 & 1 & \\frac{1}{\\lambda_{1}} \\left(r - 3\\right) & 0 & 0\\\\- \\frac{\\lambda_{1}^{4}}{120} \\left(r + 1\\right) & 0 & 0 & 0 & 1 & \\frac{1}{\\lambda_{1}} \\left(r - 4\\right) & 0\\\\- \\frac{\\lambda_{1}^{5}}{720} \\left(r + 1\\right) & 0 & 0 & 0 & 0 & 1 & \\frac{1}{\\lambda_{1}} \\left(r - 5\\right)\\\\- \\frac{\\lambda_{1}^{6}}{5040} \\left(r + 1\\right) & 0 & 0 & 0 & 0 & 0 & 1\\end{matrix}\\right]$$"
      ],
      "text/plain": [
       "⎡                           r                                                 \n",
       "⎢         -r            ──────────      0           0           0           0 \n",
       "⎢                       \\lambda[1]                                            \n",
       "⎢                                                                             \n",
       "⎢-(r + 1)⋅\\lambda[1]                  r - 1                                   \n",
       "⎢────────────────────       1       ──────────      0           0           0 \n",
       "⎢         2                         \\lambda[1]                                \n",
       "⎢                                                                             \n",
       "⎢                   2                                                         \n",
       "⎢-(r + 1)⋅\\lambda[1]                              r - 2                       \n",
       "⎢─────────────────────      0           1       ──────────      0           0 \n",
       "⎢          6                                    \\lambda[1]                    \n",
       "⎢                                                                             \n",
       "⎢                   3                                                         \n",
       "⎢-(r + 1)⋅\\lambda[1]                                          r - 3           \n",
       "⎢─────────────────────      0           0           1       ──────────      0 \n",
       "⎢          24                                               \\lambda[1]        \n",
       "⎢                                                                             \n",
       "⎢                   4                                                         \n",
       "⎢-(r + 1)⋅\\lambda[1]                                                      r - \n",
       "⎢─────────────────────      0           0           0           1       ──────\n",
       "⎢         120                                                           \\lambd\n",
       "⎢                                                                             \n",
       "⎢                   5                                                         \n",
       "⎢-(r + 1)⋅\\lambda[1]                                                          \n",
       "⎢─────────────────────      0           0           0           0           1 \n",
       "⎢         720                                                                 \n",
       "⎢                                                                             \n",
       "⎢                   6                                                         \n",
       "⎢-(r + 1)⋅\\lambda[1]                                                          \n",
       "⎢─────────────────────      0           0           0           0           0 \n",
       "⎣         5040                                                                \n",
       "\n",
       "                ⎤\n",
       "          0     ⎥\n",
       "                ⎥\n",
       "                ⎥\n",
       "                ⎥\n",
       "          0     ⎥\n",
       "                ⎥\n",
       "                ⎥\n",
       "                ⎥\n",
       "                ⎥\n",
       "          0     ⎥\n",
       "                ⎥\n",
       "                ⎥\n",
       "                ⎥\n",
       "                ⎥\n",
       "          0     ⎥\n",
       "                ⎥\n",
       "                ⎥\n",
       "                ⎥\n",
       "4               ⎥\n",
       "────      0     ⎥\n",
       "a[1]            ⎥\n",
       "                ⎥\n",
       "                ⎥\n",
       "        r - 5   ⎥\n",
       "      ──────────⎥\n",
       "      \\lambda[1]⎥\n",
       "                ⎥\n",
       "                ⎥\n",
       "                ⎥\n",
       "          1     ⎥\n",
       "                ⎦"
      ]
     },
     "execution_count": 44,
     "metadata": {},
     "output_type": "execute_result"
    }
   ],
   "source": [
    "production_matrix(DE_pow)"
   ]
  },
  {
   "cell_type": "code",
   "execution_count": 45,
   "metadata": {
    "collapsed": false,
    "deletable": true,
    "editable": true
   },
   "outputs": [
    {
     "data": {
      "image/png": "[encoded data removed]",
      "text/latex": [
       "$$\\left[\\begin{matrix}\\lambda_{1}^{r} & 0 & 0 & 0 & 0 & 0 & 0 & 0\\\\- r \\lambda_{1}^{r} & \\frac{r \\lambda_{1}^{r}}{\\lambda_{1}} & 0 & 0 & 0 & 0 & 0 & 0\\\\\\frac{r \\lambda_{1}^{r}}{2} \\left(r - 1\\right) & - \\frac{r \\lambda_{1}^{r}}{\\lambda_{1}} \\left(r - 1\\right) & \\frac{r \\lambda_{1}^{r}}{\\lambda_{1}^{2}} \\left(r - 1\\right) & 0 & 0 & 0 & 0 & 0\\\\- \\frac{r \\lambda_{1}^{r}}{6} \\left(r - 2\\right) \\left(r - 1\\right) & \\frac{r \\lambda_{1}^{r}}{2 \\lambda_{1}} \\left(r - 2\\right) \\left(r - 1\\right) & - \\frac{r \\lambda_{1}^{r}}{\\lambda_{1}^{2}} \\left(r - 2\\right) \\left(r - 1\\right) & \\frac{r \\lambda_{1}^{r}}{\\lambda_{1}^{3}} \\left(r - 2\\right) \\left(r - 1\\right) & 0 & 0 & 0 & 0\\\\\\frac{r \\lambda_{1}^{r}}{24} \\left(r - 3\\right) \\left(r - 2\\right) \\left(r - 1\\right) & - \\frac{r \\lambda_{1}^{r}}{6 \\lambda_{1}} \\left(r - 3\\right) \\left(r - 2\\right) \\left(r - 1\\right) & \\frac{r \\lambda_{1}^{r}}{2 \\lambda_{1}^{2}} \\left(r - 3\\right) \\left(r - 2\\right) \\left(r - 1\\right) & - \\frac{r \\lambda_{1}^{r}}{\\lambda_{1}^{3}} \\left(r - 3\\right) \\left(r - 2\\right) \\left(r - 1\\right) & \\frac{r \\lambda_{1}^{r}}{\\lambda_{1}^{4}} \\left(r - 3\\right) \\left(r - 2\\right) \\left(r - 1\\right) & 0 & 0 & 0\\\\- \\frac{r \\lambda_{1}^{r}}{120} \\left(r - 4\\right) \\left(r - 3\\right) \\left(r - 2\\right) \\left(r - 1\\right) & \\frac{r \\lambda_{1}^{r}}{24 \\lambda_{1}} \\left(r - 4\\right) \\left(r - 3\\right) \\left(r - 2\\right) \\left(r - 1\\right) & - \\frac{r \\lambda_{1}^{r}}{6 \\lambda_{1}^{2}} \\left(r - 4\\right) \\left(r - 3\\right) \\left(r - 2\\right) \\left(r - 1\\right) & \\frac{r \\lambda_{1}^{r}}{2 \\lambda_{1}^{3}} \\left(r - 4\\right) \\left(r - 3\\right) \\left(r - 2\\right) \\left(r - 1\\right) & - \\frac{r \\lambda_{1}^{r}}{\\lambda_{1}^{4}} \\left(r - 4\\right) \\left(r - 3\\right) \\left(r - 2\\right) \\left(r - 1\\right) & \\frac{r \\lambda_{1}^{r}}{\\lambda_{1}^{5}} \\left(r - 4\\right) \\left(r - 3\\right) \\left(r - 2\\right) \\left(r - 1\\right) & 0 & 0\\\\\\frac{r \\lambda_{1}^{r}}{720} \\left(r - 5\\right) \\left(r - 4\\right) \\left(r - 3\\right) \\left(r - 2\\right) \\left(r - 1\\right) & - \\frac{r \\lambda_{1}^{r}}{120 \\lambda_{1}} \\left(r - 5\\right) \\left(r - 4\\right) \\left(r - 3\\right) \\left(r - 2\\right) \\left(r - 1\\right) & \\frac{r \\lambda_{1}^{r}}{24 \\lambda_{1}^{2}} \\left(r - 5\\right) \\left(r - 4\\right) \\left(r - 3\\right) \\left(r - 2\\right) \\left(r - 1\\right) & - \\frac{r \\lambda_{1}^{r}}{6 \\lambda_{1}^{3}} \\left(r - 5\\right) \\left(r - 4\\right) \\left(r - 3\\right) \\left(r - 2\\right) \\left(r - 1\\right) & \\frac{r \\lambda_{1}^{r}}{2 \\lambda_{1}^{4}} \\left(r - 5\\right) \\left(r - 4\\right) \\left(r - 3\\right) \\left(r - 2\\right) \\left(r - 1\\right) & - \\frac{r \\lambda_{1}^{r}}{\\lambda_{1}^{5}} \\left(r - 5\\right) \\left(r - 4\\right) \\left(r - 3\\right) \\left(r - 2\\right) \\left(r - 1\\right) & \\frac{r \\lambda_{1}^{r}}{\\lambda_{1}^{6}} \\left(r - 5\\right) \\left(r - 4\\right) \\left(r - 3\\right) \\left(r - 2\\right) \\left(r - 1\\right) & 0\\\\- \\frac{r \\lambda_{1}^{r}}{5040} \\left(r - 6\\right) \\left(r - 5\\right) \\left(r - 4\\right) \\left(r - 3\\right) \\left(r - 2\\right) \\left(r - 1\\right) & \\frac{r \\lambda_{1}^{r}}{720 \\lambda_{1}} \\left(r - 6\\right) \\left(r - 5\\right) \\left(r - 4\\right) \\left(r - 3\\right) \\left(r - 2\\right) \\left(r - 1\\right) & - \\frac{r \\lambda_{1}^{r}}{120 \\lambda_{1}^{2}} \\left(r - 6\\right) \\left(r - 5\\right) \\left(r - 4\\right) \\left(r - 3\\right) \\left(r - 2\\right) \\left(r - 1\\right) & \\frac{r \\lambda_{1}^{r}}{24 \\lambda_{1}^{3}} \\left(r - 6\\right) \\left(r - 5\\right) \\left(r - 4\\right) \\left(r - 3\\right) \\left(r - 2\\right) \\left(r - 1\\right) & - \\frac{r \\lambda_{1}^{r}}{6 \\lambda_{1}^{4}} \\left(r - 6\\right) \\left(r - 5\\right) \\left(r - 4\\right) \\left(r - 3\\right) \\left(r - 2\\right) \\left(r - 1\\right) & \\frac{r \\lambda_{1}^{r}}{2 \\lambda_{1}^{5}} \\left(r - 6\\right) \\left(r - 5\\right) \\left(r - 4\\right) \\left(r - 3\\right) \\left(r - 2\\right) \\left(r - 1\\right) & - \\frac{r \\lambda_{1}^{r}}{\\lambda_{1}^{6}} \\left(r - 6\\right) \\left(r - 5\\right) \\left(r - 4\\right) \\left(r - 3\\right) \\left(r - 2\\right) \\left(r - 1\\right) & \\frac{r \\lambda_{1}^{r}}{\\lambda_{1}^{7}} \\left(r - 6\\right) \\left(r - 5\\right) \\left(r - 4\\right) \\left(r - 3\\right) \\left(r - 2\\right) \\left(r - 1\\right)\\end{matrix}\\right]$$"
      ],
      "text/plain": [
       "⎡                                    r                                        \n",
       "⎢                          \\lambda[1]                                         \n",
       "⎢                                                                             \n",
       "⎢                                                                             \n",
       "⎢                                     r                                       \n",
       "⎢                        -r⋅\\lambda[1]                                        \n",
       "⎢                                                                             \n",
       "⎢                                                                             \n",
       "⎢                                         r                                   \n",
       "⎢                     r⋅(r - 1)⋅\\lambda[1]                                    \n",
       "⎢                     ─────────────────────                                   \n",
       "⎢                               2                                             \n",
       "⎢                                                                             \n",
       "⎢                                                                             \n",
       "⎢                                             r                               \n",
       "⎢                -r⋅(r - 2)⋅(r - 1)⋅\\lambda[1]                                \n",
       "⎢                ───────────────────────────────                              \n",
       "⎢                               6                                             \n",
       "⎢                                                                             \n",
       "⎢                                                                             \n",
       "⎢                                                 r                           \n",
       "⎢             r⋅(r - 3)⋅(r - 2)⋅(r - 1)⋅\\lambda[1]                           -\n",
       "⎢             ─────────────────────────────────────                          ─\n",
       "⎢                               24                                            \n",
       "⎢                                                                             \n",
       "⎢                                                                             \n",
       "⎢                                                     r                       \n",
       "⎢        -r⋅(r - 4)⋅(r - 3)⋅(r - 2)⋅(r - 1)⋅\\lambda[1]                    r⋅(r\n",
       "⎢        ───────────────────────────────────────────────                  ────\n",
       "⎢                              120                                            \n",
       "⎢                                                                             \n",
       "⎢                                                                             \n",
       "⎢                                                         r                   \n",
       "⎢     r⋅(r - 5)⋅(r - 4)⋅(r - 3)⋅(r - 2)⋅(r - 1)⋅\\lambda[1]           -r⋅(r - 5\n",
       "⎢     ─────────────────────────────────────────────────────          ─────────\n",
       "⎢                              720                                            \n",
       "⎢                                                                             \n",
       "⎢                                                                             \n",
       "⎢                                                             r               \n",
       "⎢-r⋅(r - 6)⋅(r - 5)⋅(r - 4)⋅(r - 3)⋅(r - 2)⋅(r - 1)⋅\\lambda[1]    r⋅(r - 6)⋅(r\n",
       "⎢───────────────────────────────────────────────────────────────  ────────────\n",
       "⎢                              5040                                           \n",
       "⎣                                                                             \n",
       "\n",
       "                                                                              \n",
       "                  0                                                           \n",
       "                                                                              \n",
       "                        r                                                     \n",
       "            r⋅\\lambda[1]                                                      \n",
       "            ─────────────                                                     \n",
       "              \\lambda[1]                                                      \n",
       "                                                                              \n",
       "                            r                                                 \n",
       "       -r⋅(r - 1)⋅\\lambda[1]                                            r⋅(r -\n",
       "       ───────────────────────                                          ──────\n",
       "              \\lambda[1]                                                      \n",
       "                                                                             \\\n",
       "                                                                              \n",
       "                                r                                             \n",
       "    r⋅(r - 2)⋅(r - 1)⋅\\lambda[1]                                   -r⋅(r - 2)⋅\n",
       "    ─────────────────────────────                                  ───────────\n",
       "             2⋅\\lambda[1]                                                     \n",
       "                                                                             \\\n",
       "                                                                              \n",
       "                                    r                                         \n",
       "r⋅(r - 3)⋅(r - 2)⋅(r - 1)⋅\\lambda[1]                            r⋅(r - 3)⋅(r -\n",
       "──────────────────────────────────────                          ──────────────\n",
       "             6⋅\\lambda[1]                                                     \n",
       "                                                                            2⋅\n",
       "                                                                              \n",
       "                                        r                                     \n",
       " - 4)⋅(r - 3)⋅(r - 2)⋅(r - 1)⋅\\lambda[1]                   -r⋅(r - 4)⋅(r - 3)⋅\n",
       "─────────────────────────────────────────                  ───────────────────\n",
       "            24⋅\\lambda[1]                                                     \n",
       "                                                                            6⋅\n",
       "                                                                              \n",
       "                                            r                                 \n",
       ")⋅(r - 4)⋅(r - 3)⋅(r - 2)⋅(r - 1)⋅\\lambda[1]            r⋅(r - 5)⋅(r - 4)⋅(r -\n",
       "──────────────────────────────────────────────          ──────────────────────\n",
       "            120⋅\\lambda[1]                                                    \n",
       "                                                                            24\n",
       "                                                                              \n",
       "                                                r                             \n",
       " - 5)⋅(r - 4)⋅(r - 3)⋅(r - 2)⋅(r - 1)⋅\\lambda[1]   -r⋅(r - 6)⋅(r - 5)⋅(r - 4)⋅\n",
       "─────────────────────────────────────────────────  ───────────────────────────\n",
       "            720⋅\\lambda[1]                                                    \n",
       "                                                                           120\n",
       "\n",
       "                                                                              \n",
       "    0                                                               0         \n",
       "                                                                              \n",
       "                                                                              \n",
       "                                                                              \n",
       "    0                                                               0         \n",
       "                                                                              \n",
       "                                                                              \n",
       "              r                                                               \n",
       " 1)⋅\\lambda[1]                                                                \n",
       "───────────────                                                     0         \n",
       "         2                                                                    \n",
       "lambda[1]                                                                     \n",
       "                                                                              \n",
       "                  r                                                           \n",
       "(r - 1)⋅\\lambda[1]                                    r⋅(r - 2)⋅(r - 1)⋅\\lambd\n",
       "────────────────────                                  ────────────────────────\n",
       "         2                                                               3    \n",
       "lambda[1]                                                      \\lambda[1]     \n",
       "                                                                              \n",
       "                      r                                                       \n",
       " 2)⋅(r - 1)⋅\\lambda[1]                           -r⋅(r - 3)⋅(r - 2)⋅(r - 1)⋅\\l\n",
       "───────────────────────                          ─────────────────────────────\n",
       "          2                                                              3    \n",
       "\\lambda[1]                                                     \\lambda[1]     \n",
       "                                                                              \n",
       "                          r                                                   \n",
       "(r - 2)⋅(r - 1)⋅\\lambda[1]                    r⋅(r - 4)⋅(r - 3)⋅(r - 2)⋅(r - 1\n",
       "────────────────────────────                  ────────────────────────────────\n",
       "          2                                                               3   \n",
       "\\lambda[1]                                                    2⋅\\lambda[1]    \n",
       "                                                                              \n",
       "                              r                                               \n",
       " 3)⋅(r - 2)⋅(r - 1)⋅\\lambda[1]           -r⋅(r - 5)⋅(r - 4)⋅(r - 3)⋅(r - 2)⋅(r\n",
       "───────────────────────────────          ─────────────────────────────────────\n",
       "           2                                                              3   \n",
       "⋅\\lambda[1]                                                   6⋅\\lambda[1]    \n",
       "                                                                              \n",
       "                                  r                                           \n",
       "(r - 3)⋅(r - 2)⋅(r - 1)⋅\\lambda[1]    r⋅(r - 6)⋅(r - 5)⋅(r - 4)⋅(r - 3)⋅(r - 2\n",
       "────────────────────────────────────  ────────────────────────────────────────\n",
       "           2                                                               3  \n",
       "⋅\\lambda[1]                                                   24⋅\\lambda[1]   \n",
       "\n",
       "                                                                              \n",
       "                                                      0                       \n",
       "                                                                              \n",
       "                                                                              \n",
       "                                                                              \n",
       "                                                      0                       \n",
       "                                                                              \n",
       "                                                                              \n",
       "                                                                              \n",
       "                                                                              \n",
       "                                                      0                       \n",
       "                                                                              \n",
       "                                                                              \n",
       "                                                                              \n",
       "    r                                                                         \n",
       "a[1]                                                                          \n",
       "─────                                                 0                       \n",
       "                                                                              \n",
       "                                                                              \n",
       "                                                                              \n",
       "        r                                                               r     \n",
       "ambda[1]                            r⋅(r - 3)⋅(r - 2)⋅(r - 1)⋅\\lambda[1]      \n",
       "──────────                          ─────────────────────────────────────     \n",
       "                                                           4                  \n",
       "                                                 \\lambda[1]                   \n",
       "                                                                              \n",
       "            r                                                               r \n",
       ")⋅\\lambda[1]                   -r⋅(r - 4)⋅(r - 3)⋅(r - 2)⋅(r - 1)⋅\\lambda[1]  \n",
       "─────────────                  ───────────────────────────────────────────────\n",
       "                                                           4                  \n",
       "                                                 \\lambda[1]                   \n",
       "                                                                              \n",
       "                r                                                             \n",
       " - 1)⋅\\lambda[1]            r⋅(r - 5)⋅(r - 4)⋅(r - 3)⋅(r - 2)⋅(r - 1)⋅\\lambda[\n",
       "──────────────────          ──────────────────────────────────────────────────\n",
       "                                                            4                 \n",
       "                                                2⋅\\lambda[1]                  \n",
       "                                                                              \n",
       "                    r                                                         \n",
       ")⋅(r - 1)⋅\\lambda[1]   -r⋅(r - 6)⋅(r - 5)⋅(r - 4)⋅(r - 3)⋅(r - 2)⋅(r - 1)⋅\\lam\n",
       "─────────────────────  ───────────────────────────────────────────────────────\n",
       "                                                            4                 \n",
       "                                                6⋅\\lambda[1]                  \n",
       "\n",
       "                                                                              \n",
       "                                        0                                     \n",
       "                                                                              \n",
       "                                                                              \n",
       "                                                                              \n",
       "                                        0                                     \n",
       "                                                                              \n",
       "                                                                              \n",
       "                                                                              \n",
       "                                                                              \n",
       "                                        0                                     \n",
       "                                                                              \n",
       "                                                                              \n",
       "                                                                              \n",
       "                                                                              \n",
       "                                                                              \n",
       "                                        0                                     \n",
       "                                                                              \n",
       "                                                                              \n",
       "                                                                              \n",
       "                                                                              \n",
       "                                                                              \n",
       "                                        0                                     \n",
       "                                                                              \n",
       "                                                                              \n",
       "                                                                              \n",
       "                                                              r               \n",
       "                  r⋅(r - 4)⋅(r - 3)⋅(r - 2)⋅(r - 1)⋅\\lambda[1]                \n",
       "                  ─────────────────────────────────────────────               \n",
       "                                             5                                \n",
       "                                   \\lambda[1]                                 \n",
       "                                                                              \n",
       "  r                                                               r           \n",
       "1]           -r⋅(r - 5)⋅(r - 4)⋅(r - 3)⋅(r - 2)⋅(r - 1)⋅\\lambda[1]            \n",
       "───          ───────────────────────────────────────────────────────          \n",
       "                                             5                                \n",
       "                                   \\lambda[1]                                 \n",
       "                                                                              \n",
       "      r                                                               r       \n",
       "bda[1]    r⋅(r - 6)⋅(r - 5)⋅(r - 4)⋅(r - 3)⋅(r - 2)⋅(r - 1)⋅\\lambda[1]   -r⋅(r\n",
       "────────  ─────────────────────────────────────────────────────────────  ─────\n",
       "                                              5                               \n",
       "                                  2⋅\\lambda[1]                                \n",
       "\n",
       "                                                                              \n",
       "                          0                                                   \n",
       "                                                                              \n",
       "                                                                              \n",
       "                                                                              \n",
       "                          0                                                   \n",
       "                                                                              \n",
       "                                                                              \n",
       "                                                                              \n",
       "                                                                              \n",
       "                          0                                                   \n",
       "                                                                              \n",
       "                                                                              \n",
       "                                                                              \n",
       "                                                                              \n",
       "                                                                              \n",
       "                          0                                                   \n",
       "                                                                              \n",
       "                                                                              \n",
       "                                                                              \n",
       "                                                                              \n",
       "                                                                              \n",
       "                          0                                                   \n",
       "                                                                              \n",
       "                                                                              \n",
       "                                                                              \n",
       "                                                                              \n",
       "                                                                              \n",
       "                          0                                                   \n",
       "                                                                              \n",
       "                                                                              \n",
       "                                                                              \n",
       "                                                    r                         \n",
       "r⋅(r - 5)⋅(r - 4)⋅(r - 3)⋅(r - 2)⋅(r - 1)⋅\\lambda[1]                          \n",
       "─────────────────────────────────────────────────────                         \n",
       "                               6                                              \n",
       "                     \\lambda[1]                                               \n",
       "                                                                              \n",
       "                                                        r                     \n",
       " - 6)⋅(r - 5)⋅(r - 4)⋅(r - 3)⋅(r - 2)⋅(r - 1)⋅\\lambda[1]    r⋅(r - 6)⋅(r - 5)⋅\n",
       "──────────────────────────────────────────────────────────  ──────────────────\n",
       "                               6                                              \n",
       "                     \\lambda[1]                                               \n",
       "\n",
       "                                           ⎤\n",
       "            0                              ⎥\n",
       "                                           ⎥\n",
       "                                           ⎥\n",
       "                                           ⎥\n",
       "            0                              ⎥\n",
       "                                           ⎥\n",
       "                                           ⎥\n",
       "                                           ⎥\n",
       "                                           ⎥\n",
       "            0                              ⎥\n",
       "                                           ⎥\n",
       "                                           ⎥\n",
       "                                           ⎥\n",
       "                                           ⎥\n",
       "                                           ⎥\n",
       "            0                              ⎥\n",
       "                                           ⎥\n",
       "                                           ⎥\n",
       "                                           ⎥\n",
       "                                           ⎥\n",
       "                                           ⎥\n",
       "            0                              ⎥\n",
       "                                           ⎥\n",
       "                                           ⎥\n",
       "                                           ⎥\n",
       "                                           ⎥\n",
       "                                           ⎥\n",
       "            0                              ⎥\n",
       "                                           ⎥\n",
       "                                           ⎥\n",
       "                                           ⎥\n",
       "                                           ⎥\n",
       "                                           ⎥\n",
       "            0                              ⎥\n",
       "                                           ⎥\n",
       "                                           ⎥\n",
       "                                           ⎥\n",
       "                                          r⎥\n",
       "(r - 4)⋅(r - 3)⋅(r - 2)⋅(r - 1)⋅\\lambda[1] ⎥\n",
       "───────────────────────────────────────────⎥\n",
       "                 7                         ⎥\n",
       "       \\lambda[1]                          ⎦"
      ]
     },
     "execution_count": 45,
     "metadata": {},
     "output_type": "execute_result"
    }
   ],
   "source": [
    "def rec(n, k):\n",
    "    if k:\n",
    "        return {(n-1, k-1):( r+1-k)/lamda_indexed[1], (n-1,k):1}\n",
    "    else:\n",
    "        return {(n-1, j): -((r+1)*lamda_indexed[1]**j/factorial(j+1) if j else r)  for j in range(n)}\n",
    "DE_pow_rec = Matrix(m, m, riordan_matrix_by_recurrence(m, rec, init={(0,0):lamda_indexed[1]**r}))\n",
    "DE_pow_rec = DE_pow_rec.applyfunc(factor)\n",
    "DE_pow_rec"
   ]
  },
  {
   "cell_type": "code",
   "execution_count": 46,
   "metadata": {
    "collapsed": true,
    "deletable": true,
    "editable": true
   },
   "outputs": [],
   "source": [
    "assert DE_pow == DE_pow_rec"
   ]
  },
  {
   "cell_type": "code",
   "execution_count": 47,
   "metadata": {
    "collapsed": false,
    "deletable": true,
    "editable": true
   },
   "outputs": [
    {
     "data": {
      "image/png": "[encoded data removed]",
      "text/latex": [
       "$$\\left[\\begin{matrix}\\lambda_{1}^{r}\\\\\\frac{r \\lambda_{1}^{r}}{\\lambda_{1}} \\left(z - \\lambda_{1}\\right)\\\\\\frac{r \\left(z - \\lambda_{1}\\right)^{2}}{2 \\lambda_{1}^{2}} \\left(r - 1\\right) \\lambda_{1}^{r}\\\\\\frac{r \\left(z - \\lambda_{1}\\right)^{3}}{6 \\lambda_{1}^{3}} \\left(r - 2\\right) \\left(r - 1\\right) \\lambda_{1}^{r}\\\\\\frac{r \\left(z - \\lambda_{1}\\right)^{4}}{24 \\lambda_{1}^{4}} \\left(r - 3\\right) \\left(r - 2\\right) \\left(r - 1\\right) \\lambda_{1}^{r}\\\\\\frac{r \\left(z - \\lambda_{1}\\right)^{5}}{120 \\lambda_{1}^{5}} \\left(r - 4\\right) \\left(r - 3\\right) \\left(r - 2\\right) \\left(r - 1\\right) \\lambda_{1}^{r}\\\\\\frac{r \\left(z - \\lambda_{1}\\right)^{6}}{720 \\lambda_{1}^{6}} \\left(r - 5\\right) \\left(r - 4\\right) \\left(r - 3\\right) \\left(r - 2\\right) \\left(r - 1\\right) \\lambda_{1}^{r}\\\\\\frac{r \\left(z - \\lambda_{1}\\right)^{7}}{5040 \\lambda_{1}^{7}} \\left(r - 6\\right) \\left(r - 5\\right) \\left(r - 4\\right) \\left(r - 3\\right) \\left(r - 2\\right) \\left(r - 1\\right) \\lambda_{1}^{r}\\end{matrix}\\right]$$"
      ],
      "text/plain": [
       "⎡                                            r                                \n",
       "⎢                                  \\lambda[1]                                 \n",
       "⎢                                                                             \n",
       "⎢                                                     r                       \n",
       "⎢                        r⋅(z - \\lambda[1])⋅\\lambda[1]                        \n",
       "⎢                        ──────────────────────────────                       \n",
       "⎢                                  \\lambda[1]                                 \n",
       "⎢                                                                             \n",
       "⎢                                              2           r                  \n",
       "⎢                    r⋅(r - 1)⋅(z - \\lambda[1]) ⋅\\lambda[1]                   \n",
       "⎢                    ───────────────────────────────────────                  \n",
       "⎢                                             2                               \n",
       "⎢                                 2⋅\\lambda[1]                                \n",
       "⎢                                                                             \n",
       "⎢                                                  3           r              \n",
       "⎢                r⋅(r - 2)⋅(r - 1)⋅(z - \\lambda[1]) ⋅\\lambda[1]               \n",
       "⎢                ───────────────────────────────────────────────              \n",
       "⎢                                             3                               \n",
       "⎢                                 6⋅\\lambda[1]                                \n",
       "⎢                                                                             \n",
       "⎢                                                      4           r          \n",
       "⎢            r⋅(r - 3)⋅(r - 2)⋅(r - 1)⋅(z - \\lambda[1]) ⋅\\lambda[1]           \n",
       "⎢            ───────────────────────────────────────────────────────          \n",
       "⎢                                              4                              \n",
       "⎢                                 24⋅\\lambda[1]                               \n",
       "⎢                                                                             \n",
       "⎢                                                          5           r      \n",
       "⎢        r⋅(r - 4)⋅(r - 3)⋅(r - 2)⋅(r - 1)⋅(z - \\lambda[1]) ⋅\\lambda[1]       \n",
       "⎢        ───────────────────────────────────────────────────────────────      \n",
       "⎢                                              5                              \n",
       "⎢                                120⋅\\lambda[1]                               \n",
       "⎢                                                                             \n",
       "⎢                                                              6           r  \n",
       "⎢    r⋅(r - 5)⋅(r - 4)⋅(r - 3)⋅(r - 2)⋅(r - 1)⋅(z - \\lambda[1]) ⋅\\lambda[1]   \n",
       "⎢    ───────────────────────────────────────────────────────────────────────  \n",
       "⎢                                              6                              \n",
       "⎢                                720⋅\\lambda[1]                               \n",
       "⎢                                                                             \n",
       "⎢                                                                  7          \n",
       "⎢r⋅(r - 6)⋅(r - 5)⋅(r - 4)⋅(r - 3)⋅(r - 2)⋅(r - 1)⋅(z - \\lambda[1]) ⋅\\lambda[1\n",
       "⎢─────────────────────────────────────────────────────────────────────────────\n",
       "⎢                                               7                             \n",
       "⎣                                5040⋅\\lambda[1]                              \n",
       "\n",
       "  ⎤\n",
       "  ⎥\n",
       "  ⎥\n",
       "  ⎥\n",
       "  ⎥\n",
       "  ⎥\n",
       "  ⎥\n",
       "  ⎥\n",
       "  ⎥\n",
       "  ⎥\n",
       "  ⎥\n",
       "  ⎥\n",
       "  ⎥\n",
       "  ⎥\n",
       "  ⎥\n",
       "  ⎥\n",
       "  ⎥\n",
       "  ⎥\n",
       "  ⎥\n",
       "  ⎥\n",
       "  ⎥\n",
       "  ⎥\n",
       "  ⎥\n",
       "  ⎥\n",
       "  ⎥\n",
       "  ⎥\n",
       "  ⎥\n",
       "  ⎥\n",
       "  ⎥\n",
       "  ⎥\n",
       "  ⎥\n",
       "  ⎥\n",
       "  ⎥\n",
       "  ⎥\n",
       "  ⎥\n",
       "  ⎥\n",
       "  ⎥\n",
       "  ⎥\n",
       " r⎥\n",
       "] ⎥\n",
       "──⎥\n",
       "  ⎥\n",
       "  ⎦"
      ]
     },
     "execution_count": 47,
     "metadata": {},
     "output_type": "execute_result"
    }
   ],
   "source": [
    "DEz = (DE_pow* z_expt).applyfunc(lambda i: i.doit().factor())\n",
    "DEz"
   ]
  },
  {
   "cell_type": "code",
   "execution_count": 48,
   "metadata": {
    "collapsed": false,
    "deletable": true,
    "editable": true
   },
   "outputs": [
    {
     "data": {
      "image/png": "[encoded data removed]",
      "text/latex": [
       "$$\\left[\\begin{matrix}\\frac{{\\left(r\\right)}_{0} \\lambda_{1}^{r}}{{\\left(0\\right)}_{0}}\\\\\\frac{{\\left(r\\right)}_{1}}{{\\left(1\\right)}_{1}} \\left(z - \\lambda_{1}\\right) \\lambda_{1}^{r - 1}\\\\\\frac{{\\left(r\\right)}_{2}}{{\\left(2\\right)}_{2}} \\left(z - \\lambda_{1}\\right)^{2} \\lambda_{1}^{r - 2}\\\\\\frac{{\\left(r\\right)}_{3}}{{\\left(3\\right)}_{3}} \\left(z - \\lambda_{1}\\right)^{3} \\lambda_{1}^{r - 3}\\\\\\frac{{\\left(r\\right)}_{4}}{{\\left(4\\right)}_{4}} \\left(z - \\lambda_{1}\\right)^{4} \\lambda_{1}^{r - 4}\\\\\\frac{{\\left(r\\right)}_{5}}{{\\left(5\\right)}_{5}} \\left(z - \\lambda_{1}\\right)^{5} \\lambda_{1}^{r - 5}\\\\\\frac{{\\left(r\\right)}_{6}}{{\\left(6\\right)}_{6}} \\left(z - \\lambda_{1}\\right)^{6} \\lambda_{1}^{r - 6}\\\\\\frac{{\\left(r\\right)}_{7}}{{\\left(7\\right)}_{7}} \\left(z - \\lambda_{1}\\right)^{7} \\lambda_{1}^{r - 7}\\end{matrix}\\right]$$"
      ],
      "text/plain": [
       "⎡                                            r           ⎤\n",
       "⎢           FallingFactorial(r, 0)⋅\\lambda[1]            ⎥\n",
       "⎢           ──────────────────────────────────           ⎥\n",
       "⎢                 FallingFactorial(0, 0)                 ⎥\n",
       "⎢                                                        ⎥\n",
       "⎢                                                  r - 1 ⎥\n",
       "⎢(z - \\lambda[1])⋅FallingFactorial(r, 1)⋅\\lambda[1]      ⎥\n",
       "⎢─────────────────────────────────────────────────────── ⎥\n",
       "⎢                 FallingFactorial(1, 1)                 ⎥\n",
       "⎢                                                        ⎥\n",
       "⎢                2                                  r - 2⎥\n",
       "⎢(z - \\lambda[1]) ⋅FallingFactorial(r, 2)⋅\\lambda[1]     ⎥\n",
       "⎢────────────────────────────────────────────────────────⎥\n",
       "⎢                 FallingFactorial(2, 2)                 ⎥\n",
       "⎢                                                        ⎥\n",
       "⎢                3                                  r - 3⎥\n",
       "⎢(z - \\lambda[1]) ⋅FallingFactorial(r, 3)⋅\\lambda[1]     ⎥\n",
       "⎢────────────────────────────────────────────────────────⎥\n",
       "⎢                 FallingFactorial(3, 3)                 ⎥\n",
       "⎢                                                        ⎥\n",
       "⎢                4                                  r - 4⎥\n",
       "⎢(z - \\lambda[1]) ⋅FallingFactorial(r, 4)⋅\\lambda[1]     ⎥\n",
       "⎢────────────────────────────────────────────────────────⎥\n",
       "⎢                 FallingFactorial(4, 4)                 ⎥\n",
       "⎢                                                        ⎥\n",
       "⎢                5                                  r - 5⎥\n",
       "⎢(z - \\lambda[1]) ⋅FallingFactorial(r, 5)⋅\\lambda[1]     ⎥\n",
       "⎢────────────────────────────────────────────────────────⎥\n",
       "⎢                 FallingFactorial(5, 5)                 ⎥\n",
       "⎢                                                        ⎥\n",
       "⎢                6                                  r - 6⎥\n",
       "⎢(z - \\lambda[1]) ⋅FallingFactorial(r, 6)⋅\\lambda[1]     ⎥\n",
       "⎢────────────────────────────────────────────────────────⎥\n",
       "⎢                 FallingFactorial(6, 6)                 ⎥\n",
       "⎢                                                        ⎥\n",
       "⎢                7                                  r - 7⎥\n",
       "⎢(z - \\lambda[1]) ⋅FallingFactorial(r, 7)⋅\\lambda[1]     ⎥\n",
       "⎢────────────────────────────────────────────────────────⎥\n",
       "⎣                 FallingFactorial(7, 7)                 ⎦"
      ]
     },
     "execution_count": 48,
     "metadata": {},
     "output_type": "execute_result"
    }
   ],
   "source": [
    "DEz_ff = Matrix(m,1,lambda n,_: (ff(r, n,evaluate=False)/(ff(n,n,evaluate=False)*lamda_indexed[1]**n) * lamda_indexed[1]**r * (z-lamda_indexed[1])**n).powsimp())\n",
    "DEz_ff"
   ]
  },
  {
   "cell_type": "code",
   "execution_count": 49,
   "metadata": {
    "collapsed": false,
    "deletable": true,
    "editable": true
   },
   "outputs": [
    {
     "data": {
      "image/png": "[encoded data removed]",
      "text/latex": [
       "$$\\left[\\begin{matrix}{\\binom{r}{0}} \\lambda_{1}^{r}\\\\\\left(z - \\lambda_{1}\\right) {\\binom{r}{1}} \\lambda_{1}^{r - 1}\\\\\\left(z - \\lambda_{1}\\right)^{2} {\\binom{r}{2}} \\lambda_{1}^{r - 2}\\\\\\left(z - \\lambda_{1}\\right)^{3} {\\binom{r}{3}} \\lambda_{1}^{r - 3}\\\\\\left(z - \\lambda_{1}\\right)^{4} {\\binom{r}{4}} \\lambda_{1}^{r - 4}\\\\\\left(z - \\lambda_{1}\\right)^{5} {\\binom{r}{5}} \\lambda_{1}^{r - 5}\\\\\\left(z - \\lambda_{1}\\right)^{6} {\\binom{r}{6}} \\lambda_{1}^{r - 6}\\\\\\left(z - \\lambda_{1}\\right)^{7} {\\binom{r}{7}} \\lambda_{1}^{r - 7}\\end{matrix}\\right]$$"
      ],
      "text/plain": [
       "⎡           ⎛r⎞           r           ⎤\n",
       "⎢           ⎜ ⎟⋅\\lambda[1]            ⎥\n",
       "⎢           ⎝0⎠                       ⎥\n",
       "⎢                                     ⎥\n",
       "⎢                 ⎛r⎞           r - 1 ⎥\n",
       "⎢(z - \\lambda[1])⋅⎜ ⎟⋅\\lambda[1]      ⎥\n",
       "⎢                 ⎝1⎠                 ⎥\n",
       "⎢                                     ⎥\n",
       "⎢                2 ⎛r⎞           r - 2⎥\n",
       "⎢(z - \\lambda[1]) ⋅⎜ ⎟⋅\\lambda[1]     ⎥\n",
       "⎢                  ⎝2⎠                ⎥\n",
       "⎢                                     ⎥\n",
       "⎢                3 ⎛r⎞           r - 3⎥\n",
       "⎢(z - \\lambda[1]) ⋅⎜ ⎟⋅\\lambda[1]     ⎥\n",
       "⎢                  ⎝3⎠                ⎥\n",
       "⎢                                     ⎥\n",
       "⎢                4 ⎛r⎞           r - 4⎥\n",
       "⎢(z - \\lambda[1]) ⋅⎜ ⎟⋅\\lambda[1]     ⎥\n",
       "⎢                  ⎝4⎠                ⎥\n",
       "⎢                                     ⎥\n",
       "⎢                5 ⎛r⎞           r - 5⎥\n",
       "⎢(z - \\lambda[1]) ⋅⎜ ⎟⋅\\lambda[1]     ⎥\n",
       "⎢                  ⎝5⎠                ⎥\n",
       "⎢                                     ⎥\n",
       "⎢                6 ⎛r⎞           r - 6⎥\n",
       "⎢(z - \\lambda[1]) ⋅⎜ ⎟⋅\\lambda[1]     ⎥\n",
       "⎢                  ⎝6⎠                ⎥\n",
       "⎢                                     ⎥\n",
       "⎢                7 ⎛r⎞           r - 7⎥\n",
       "⎢(z - \\lambda[1]) ⋅⎜ ⎟⋅\\lambda[1]     ⎥\n",
       "⎣                  ⎝7⎠                ⎦"
      ]
     },
     "execution_count": 49,
     "metadata": {},
     "output_type": "execute_result"
    }
   ],
   "source": [
    "DEz_binomial = Matrix(m,1,lambda n,_: binomial(r, n,evaluate=False)*(lamda_indexed[1]**(r-n))  * (z-lamda_indexed[1])**n)\n",
    "DEz_binomial"
   ]
  },
  {
   "cell_type": "code",
   "execution_count": 50,
   "metadata": {
    "collapsed": false,
    "deletable": true,
    "editable": true
   },
   "outputs": [],
   "source": [
    "assert DEz.applyfunc(lambda i: i.powsimp()) == DEz_ff.doit().applyfunc(lambda i: i.powsimp()) == DEz_binomial.applyfunc(lambda i: i.combsimp().powsimp())"
   ]
  },
  {
   "cell_type": "code",
   "execution_count": 51,
   "metadata": {
    "collapsed": false,
    "deletable": true,
    "editable": true
   },
   "outputs": [
    {
     "data": {
      "image/png": "[encoded data removed]",
      "text/latex": [
       "$$g{\\left (z \\right )} = \\left(z - 1\\right)^{7} {\\binom{r}{7}} + \\left(z - 1\\right)^{6} {\\binom{r}{6}} + \\left(z - 1\\right)^{5} {\\binom{r}{5}} + \\left(z - 1\\right)^{4} {\\binom{r}{4}} + \\left(z - 1\\right)^{3} {\\binom{r}{3}} + \\left(z - 1\\right)^{2} {\\binom{r}{2}} + \\left(z - 1\\right) {\\binom{r}{1}} + {\\binom{r}{0}}$$"
      ],
      "text/plain": [
       "              7 ⎛r⎞          6 ⎛r⎞          5 ⎛r⎞          4 ⎛r⎞          3 ⎛r\n",
       "g(z) = (z - 1) ⋅⎜ ⎟ + (z - 1) ⋅⎜ ⎟ + (z - 1) ⋅⎜ ⎟ + (z - 1) ⋅⎜ ⎟ + (z - 1) ⋅⎜ \n",
       "                ⎝7⎠            ⎝6⎠            ⎝5⎠            ⎝4⎠            ⎝3\n",
       "\n",
       "⎞          2 ⎛r⎞           ⎛r⎞   ⎛r⎞\n",
       "⎟ + (z - 1) ⋅⎜ ⎟ + (z - 1)⋅⎜ ⎟ + ⎜ ⎟\n",
       "⎠            ⎝2⎠           ⎝1⎠   ⎝0⎠"
      ]
     },
     "execution_count": 51,
     "metadata": {},
     "output_type": "execute_result"
    }
   ],
   "source": [
    "g_v = ones(1, m) * DEz_binomial\n",
    "g_v_eq = Eq(g(z), g_v[0,0].collect(z), evaluate=False)\n",
    "g_v_eq.subs(eigenvals)"
   ]
  },
  {
   "cell_type": "code",
   "execution_count": 52,
   "metadata": {
    "collapsed": false,
    "deletable": true,
    "editable": true
   },
   "outputs": [
    {
     "data": {
      "image/png": "[encoded data removed]",
      "text/latex": [
       "$$g{\\left (z \\right )} = \\sum_{j=0}^{m - 1} z^{j} {\\binom{r}{j}}$$"
      ],
      "text/plain": [
       "       m - 1       \n",
       "        ____       \n",
       "        ╲          \n",
       "         ╲    j ⎛r⎞\n",
       "          ╲  z ⋅⎜ ⎟\n",
       "g(z) =    ╱     ⎝j⎠\n",
       "         ╱         \n",
       "        ╱          \n",
       "        ‾‾‾‾       \n",
       "       j = 0       "
      ]
     },
     "execution_count": 52,
     "metadata": {},
     "output_type": "execute_result"
    }
   ],
   "source": [
    "g_pow_eq = Eq(g(z), Sum(z**(j) * binomial(r,j), (j,0,m_sym-1)))\n",
    "g_pow_eq"
   ]
  },
  {
   "cell_type": "code",
   "execution_count": 54,
   "metadata": {
    "collapsed": false,
    "deletable": true,
    "editable": true
   },
   "outputs": [
    {
     "data": {
      "image/png": "[encoded data removed]",
      "text/latex": [
       "$$g{\\left (Z_{1,2} \\right )} = \\left[\\begin{matrix}1 & 0 & 0 & 0 & 0 & 0 & 0 & 0\\\\r & 1 & 0 & 0 & 0 & 0 & 0 & 0\\\\r^{2} & 2 r & 1 & 0 & 0 & 0 & 0 & 0\\\\r^{3} & 3 r^{2} & 3 r & 1 & 0 & 0 & 0 & 0\\\\r^{4} & 4 r^{3} & 6 r^{2} & 4 r & 1 & 0 & 0 & 0\\\\r^{5} & 5 r^{4} & 10 r^{3} & 10 r^{2} & 5 r & 1 & 0 & 0\\\\r^{6} & 6 r^{5} & 15 r^{4} & 20 r^{3} & 15 r^{2} & 6 r & 1 & 0\\\\r^{7} & 7 r^{6} & 21 r^{5} & 35 r^{4} & 35 r^{3} & 21 r^{2} & 7 r & 1\\end{matrix}\\right]$$"
      ],
      "text/plain": [
       "             ⎡1    0      0      0      0      0     0   0⎤\n",
       "             ⎢                                            ⎥\n",
       "             ⎢r    1      0      0      0      0     0   0⎥\n",
       "             ⎢                                            ⎥\n",
       "             ⎢ 2                                          ⎥\n",
       "             ⎢r   2⋅r     1      0      0      0     0   0⎥\n",
       "             ⎢                                            ⎥\n",
       "             ⎢ 3     2                                    ⎥\n",
       "             ⎢r   3⋅r    3⋅r     1      0      0     0   0⎥\n",
       "             ⎢                                            ⎥\n",
       "g(Z_{1,2}) = ⎢ 4     3     2                              ⎥\n",
       "             ⎢r   4⋅r   6⋅r     4⋅r     1      0     0   0⎥\n",
       "             ⎢                                            ⎥\n",
       "             ⎢ 5     4      3      2                      ⎥\n",
       "             ⎢r   5⋅r   10⋅r   10⋅r    5⋅r     1     0   0⎥\n",
       "             ⎢                                            ⎥\n",
       "             ⎢ 6     5      4      3      2               ⎥\n",
       "             ⎢r   6⋅r   15⋅r   20⋅r   15⋅r    6⋅r    1   0⎥\n",
       "             ⎢                                            ⎥\n",
       "             ⎢ 7     6      5      4      3      2        ⎥\n",
       "             ⎣r   7⋅r   21⋅r   35⋅r   35⋅r   21⋅r   7⋅r  1⎦"
      ]
     },
     "execution_count": 54,
     "metadata": {},
     "output_type": "execute_result"
    }
   ],
   "source": [
    "with lift_to_matrix_function(g_pow_eq.subs({m_sym:m}).doit()) as g_pow_fn:\n",
    "    P_star_r = g_pow_fn(Z_12)\n",
    "\n",
    "P_star_r"
   ]
  },
  {
   "cell_type": "code",
   "execution_count": 57,
   "metadata": {
    "collapsed": false,
    "deletable": true,
    "editable": true
   },
   "outputs": [],
   "source": [
    "assert (P**r).applyfunc(simplify) == P_star_r.rhs"
   ]
  },
  {
   "cell_type": "code",
   "execution_count": 58,
   "metadata": {
    "collapsed": false,
    "deletable": true,
    "editable": true
   },
   "outputs": [
    {
     "data": {
      "image/png": "[encoded data removed]",
      "text/latex": [
       "$$g{\\left (z \\right )} = \\begin{cases} \\left(z + 1\\right)^{r} & \\text{for}\\: \\left(\\left|{z}\\right| \\leq 1 \\wedge - \\Re{\\left(r\\right)} < 0\\right) \\vee \\left(- \\Re{\\left(r\\right)} \\geq 1 \\wedge \\left|{z}\\right| < 1\\right) \\vee \\left(- \\Re{\\left(r\\right)} \\geq 0 \\wedge \\left|{z}\\right| \\leq 1 \\wedge - \\Re{\\left(r\\right)} < 1 \\wedge - z \\neq 1\\right) \\\\\\sum_{j=0}^{\\infty} z^{j} {\\binom{r}{j}} & \\text{otherwise} \\end{cases}$$"
      ],
      "text/plain": [
       "       ⎧         r                                                            \n",
       "       ⎪  (z + 1)     for (│z│ ≤ 1 ∧ -re(r) < 0) ∨ (-re(r) ≥ 1 ∧ │z│ < 1) ∨ (-\n",
       "       ⎪                                                                      \n",
       "       ⎪  ∞                                                                   \n",
       "       ⎪ ____                                                                 \n",
       "       ⎪ ╲                                                                    \n",
       "g(z) = ⎨  ╲    j ⎛r⎞                                                          \n",
       "       ⎪   ╲  z ⋅⎜ ⎟                                                          \n",
       "       ⎪   ╱     ⎝j⎠                                              otherwise   \n",
       "       ⎪  ╱                                                                   \n",
       "       ⎪ ╱                                                                    \n",
       "       ⎪ ‾‾‾‾                                                                 \n",
       "       ⎩j = 0                                                                 \n",
       "\n",
       "                                          \n",
       "re(r) ≥ 0 ∧ │z│ ≤ 1 ∧ -re(r) < 1 ∧ -z ≠ 1)\n",
       "                                          \n",
       "                                          \n",
       "                                          \n",
       "                                          \n",
       "                                          \n",
       "                                          \n",
       "                                          \n",
       "                                          \n",
       "                                          \n",
       "                                          \n",
       "                                          "
      ]
     },
     "execution_count": 58,
     "metadata": {},
     "output_type": "execute_result"
    }
   ],
   "source": [
    "g_pow_eq.subs({m_sym:oo}).doit()"
   ]
  },
  {
   "cell_type": "markdown",
   "metadata": {
    "deletable": true,
    "editable": true
   },
   "source": [
    "## $f(z)=\\sqrt{z}$"
   ]
  },
  {
   "cell_type": "code",
   "execution_count": 59,
   "metadata": {
    "collapsed": false,
    "deletable": true,
    "editable": true
   },
   "outputs": [
    {
     "data": {
      "image/png": "[encoded data removed]",
      "text/latex": [
       "$$\\left[\\begin{matrix}\\sqrt{\\lambda_{1}} & 0 & 0 & 0 & 0 & 0 & 0 & 0\\\\- \\frac{\\sqrt{\\lambda_{1}}}{2} & \\frac{1}{2 \\sqrt{\\lambda_{1}}} & 0 & 0 & 0 & 0 & 0 & 0\\\\- \\frac{\\sqrt{\\lambda_{1}}}{8} & \\frac{1}{4 \\sqrt{\\lambda_{1}}} & - \\frac{1}{4 \\lambda_{1}^{\\frac{3}{2}}} & 0 & 0 & 0 & 0 & 0\\\\- \\frac{\\sqrt{\\lambda_{1}}}{16} & \\frac{3}{16 \\sqrt{\\lambda_{1}}} & - \\frac{3}{8 \\lambda_{1}^{\\frac{3}{2}}} & \\frac{3}{8 \\lambda_{1}^{\\frac{5}{2}}} & 0 & 0 & 0 & 0\\\\- \\frac{5 \\sqrt{\\lambda_{1}}}{128} & \\frac{5}{32 \\sqrt{\\lambda_{1}}} & - \\frac{15}{32 \\lambda_{1}^{\\frac{3}{2}}} & \\frac{15}{16 \\lambda_{1}^{\\frac{5}{2}}} & - \\frac{15}{16 \\lambda_{1}^{\\frac{7}{2}}} & 0 & 0 & 0\\\\- \\frac{7 \\sqrt{\\lambda_{1}}}{256} & \\frac{35}{256 \\sqrt{\\lambda_{1}}} & - \\frac{35}{64 \\lambda_{1}^{\\frac{3}{2}}} & \\frac{105}{64 \\lambda_{1}^{\\frac{5}{2}}} & - \\frac{105}{32 \\lambda_{1}^{\\frac{7}{2}}} & \\frac{105}{32 \\lambda_{1}^{\\frac{9}{2}}} & 0 & 0\\\\- \\frac{21 \\sqrt{\\lambda_{1}}}{1024} & \\frac{63}{512 \\sqrt{\\lambda_{1}}} & - \\frac{315}{512 \\lambda_{1}^{\\frac{3}{2}}} & \\frac{315}{128 \\lambda_{1}^{\\frac{5}{2}}} & - \\frac{945}{128 \\lambda_{1}^{\\frac{7}{2}}} & \\frac{945}{64 \\lambda_{1}^{\\frac{9}{2}}} & - \\frac{945}{64 \\lambda_{1}^{\\frac{11}{2}}} & 0\\\\- \\frac{33 \\sqrt{\\lambda_{1}}}{2048} & \\frac{231}{2048 \\sqrt{\\lambda_{1}}} & - \\frac{693}{1024 \\lambda_{1}^{\\frac{3}{2}}} & \\frac{3465}{1024 \\lambda_{1}^{\\frac{5}{2}}} & - \\frac{3465}{256 \\lambda_{1}^{\\frac{7}{2}}} & \\frac{10395}{256 \\lambda_{1}^{\\frac{9}{2}}} & - \\frac{10395}{128 \\lambda_{1}^{\\frac{11}{2}}} & \\frac{10395}{128 \\lambda_{1}^{\\frac{13}{2}}}\\end{matrix}\\right]$$"
      ],
      "text/plain": [
       "⎡    ____________                                                             \n",
       "⎢  ╲╱ \\lambda[1]               0                   0                   0      \n",
       "⎢                                                                             \n",
       "⎢    ____________                                                             \n",
       "⎢ -╲╱ \\lambda[1]              1                                               \n",
       "⎢ ────────────────     ────────────────            0                   0      \n",
       "⎢        2                 ____________                                       \n",
       "⎢                      2⋅╲╱ \\lambda[1]                                        \n",
       "⎢                                                                             \n",
       "⎢    ____________                                                             \n",
       "⎢ -╲╱ \\lambda[1]              1                   -1                          \n",
       "⎢ ────────────────     ────────────────     ───────────────            0      \n",
       "⎢        8                 ____________                 3/2                   \n",
       "⎢                      4⋅╲╱ \\lambda[1]      4⋅\\lambda[1]                      \n",
       "⎢                                                                             \n",
       "⎢    ____________                                                             \n",
       "⎢ -╲╱ \\lambda[1]               3                  -3                   3      \n",
       "⎢ ────────────────     ─────────────────    ───────────────     ──────────────\n",
       "⎢        16                 ____________                3/2                 5/\n",
       "⎢                      16⋅╲╱ \\lambda[1]     8⋅\\lambda[1]        8⋅\\lambda[1]  \n",
       "⎢                                                                             \n",
       "⎢     ____________                                                            \n",
       "⎢-5⋅╲╱ \\lambda[1]              5                  -15                  15     \n",
       "⎢──────────────────    ─────────────────    ────────────────    ──────────────\n",
       "⎢       128                 ____________                 3/2                 5\n",
       "⎢                      32⋅╲╱ \\lambda[1]     32⋅\\lambda[1]       16⋅\\lambda[1] \n",
       "⎢                                                                             \n",
       "⎢     ____________                                                            \n",
       "⎢-7⋅╲╱ \\lambda[1]             35                  -35                 105     \n",
       "⎢──────────────────   ──────────────────    ────────────────    ──────────────\n",
       "⎢       256                 ____________                 3/2                 5\n",
       "⎢                     256⋅╲╱ \\lambda[1]     64⋅\\lambda[1]       64⋅\\lambda[1] \n",
       "⎢                                                                             \n",
       "⎢      ____________                                                           \n",
       "⎢-21⋅╲╱ \\lambda[1]            63                 -315                 315     \n",
       "⎢───────────────────  ──────────────────   ─────────────────   ───────────────\n",
       "⎢        1024               ____________                 3/2                 5\n",
       "⎢                     512⋅╲╱ \\lambda[1]    512⋅\\lambda[1]      128⋅\\lambda[1] \n",
       "⎢                                                                             \n",
       "⎢      ____________                                                           \n",
       "⎢-33⋅╲╱ \\lambda[1]            231                -693                 3465    \n",
       "⎢───────────────────  ───────────────────  ──────────────────  ───────────────\n",
       "⎢        2048                ____________                 3/2                 \n",
       "⎣                     2048⋅╲╱ \\lambda[1]   1024⋅\\lambda[1]     1024⋅\\lambda[1]\n",
       "\n",
       "                                                                              \n",
       "             0                  0                  0                   0      \n",
       "                                                                              \n",
       "                                                                              \n",
       "                                                                              \n",
       "             0                  0                  0                   0      \n",
       "                                                                              \n",
       "                                                                              \n",
       "                                                                              \n",
       "                                                                              \n",
       "                                                                              \n",
       "             0                  0                  0                   0      \n",
       "                                                                              \n",
       "                                                                              \n",
       "                                                                              \n",
       "                                                                              \n",
       "                                                                              \n",
       "─            0                  0                  0                   0      \n",
       "2                                                                             \n",
       "                                                                              \n",
       "                                                                              \n",
       "                                                                              \n",
       "           -15                                                                \n",
       "──   ────────────────           0                  0                   0      \n",
       "/2                7/2                                                         \n",
       "     16⋅\\lambda[1]                                                            \n",
       "                                                                              \n",
       "                                                                              \n",
       "          -105                105                                             \n",
       "──   ────────────────   ────────────────           0                   0      \n",
       "/2                7/2                9/2                                      \n",
       "     32⋅\\lambda[1]      32⋅\\lambda[1]                                         \n",
       "                                                                              \n",
       "                                                                              \n",
       "           -945               945                -945                         \n",
       "──   ─────────────────  ────────────────   ─────────────────           0      \n",
       "/2                 7/2               9/2                11/2                  \n",
       "     128⋅\\lambda[1]     64⋅\\lambda[1]      64⋅\\lambda[1]                      \n",
       "                                                                              \n",
       "                                                                              \n",
       "           -3465              10395             -10395               10395    \n",
       "───  ─────────────────  ─────────────────  ──────────────────  ───────────────\n",
       "5/2                7/2                9/2                11/2                1\n",
       "     256⋅\\lambda[1]     256⋅\\lambda[1]     128⋅\\lambda[1]      128⋅\\lambda[1] \n",
       "\n",
       "   ⎤\n",
       "   ⎥\n",
       "   ⎥\n",
       "   ⎥\n",
       "   ⎥\n",
       "   ⎥\n",
       "   ⎥\n",
       "   ⎥\n",
       "   ⎥\n",
       "   ⎥\n",
       "   ⎥\n",
       "   ⎥\n",
       "   ⎥\n",
       "   ⎥\n",
       "   ⎥\n",
       "   ⎥\n",
       "   ⎥\n",
       "   ⎥\n",
       "   ⎥\n",
       "   ⎥\n",
       "   ⎥\n",
       "   ⎥\n",
       "   ⎥\n",
       "   ⎥\n",
       "   ⎥\n",
       "   ⎥\n",
       "   ⎥\n",
       "   ⎥\n",
       "   ⎥\n",
       "   ⎥\n",
       "   ⎥\n",
       "   ⎥\n",
       "   ⎥\n",
       "   ⎥\n",
       "   ⎥\n",
       "   ⎥\n",
       "   ⎥\n",
       "   ⎥\n",
       "   ⎥\n",
       "   ⎥\n",
       "   ⎥\n",
       "───⎥\n",
       "3/2⎥\n",
       "   ⎦"
      ]
     },
     "execution_count": 59,
     "metadata": {},
     "output_type": "execute_result"
    }
   ],
   "source": [
    "DE_sqrt = DE.subs({f:Lambda(t, sqrt(t))}).applyfunc(lambda i: i.doit().factor())\n",
    "DE_sqrt"
   ]
  },
  {
   "cell_type": "code",
   "execution_count": 60,
   "metadata": {
    "collapsed": false,
    "deletable": true,
    "editable": true
   },
   "outputs": [
    {
     "data": {
      "image/png": "[encoded data removed]",
      "text/latex": [
       "$$\\left[\\begin{matrix}- \\frac{1}{2} & \\frac{1}{2 \\lambda_{1}} & 0 & 0 & 0 & 0 & 0\\\\- \\frac{3 \\lambda_{1}}{4} & 1 & - \\frac{1}{2 \\lambda_{1}} & 0 & 0 & 0 & 0\\\\- \\frac{\\lambda_{1}^{2}}{4} & 0 & 1 & - \\frac{3}{2 \\lambda_{1}} & 0 & 0 & 0\\\\- \\frac{\\lambda_{1}^{3}}{16} & 0 & 0 & 1 & - \\frac{5}{2 \\lambda_{1}} & 0 & 0\\\\- \\frac{\\lambda_{1}^{4}}{80} & 0 & 0 & 0 & 1 & - \\frac{7}{2 \\lambda_{1}} & 0\\\\- \\frac{\\lambda_{1}^{5}}{480} & 0 & 0 & 0 & 0 & 1 & - \\frac{9}{2 \\lambda_{1}}\\\\- \\frac{\\lambda_{1}^{6}}{3360} & 0 & 0 & 0 & 0 & 0 & 1\\end{matrix}\\right]$$"
      ],
      "text/plain": [
       "⎡                     1                                                       \n",
       "⎢     -1/2       ────────────       0             0             0             \n",
       "⎢                2⋅\\lambda[1]                                                 \n",
       "⎢                                                                             \n",
       "⎢-3⋅\\lambda[1]                     -1                                         \n",
       "⎢──────────────       1        ────────────       0             0             \n",
       "⎢      4                       2⋅\\lambda[1]                                   \n",
       "⎢                                                                             \n",
       "⎢           2                                                                 \n",
       "⎢-\\lambda[1]                                     -3                           \n",
       "⎢─────────────        0             1        ────────────       0             \n",
       "⎢      4                                     2⋅\\lambda[1]                     \n",
       "⎢                                                                             \n",
       "⎢           3                                                                 \n",
       "⎢-\\lambda[1]                                                   -5             \n",
       "⎢─────────────        0             0             1        ────────────       \n",
       "⎢      16                                                  2⋅\\lambda[1]       \n",
       "⎢                                                                             \n",
       "⎢           4                                                                 \n",
       "⎢-\\lambda[1]                                                                 -\n",
       "⎢─────────────        0             0             0             1        ─────\n",
       "⎢      80                                                                2⋅\\la\n",
       "⎢                                                                             \n",
       "⎢           5                                                                 \n",
       "⎢-\\lambda[1]                                                                  \n",
       "⎢─────────────        0             0             0             0             \n",
       "⎢     480                                                                     \n",
       "⎢                                                                             \n",
       "⎢           6                                                                 \n",
       "⎢-\\lambda[1]                                                                  \n",
       "⎢─────────────        0             0             0             0             \n",
       "⎣     3360                                                                    \n",
       "\n",
       "                     ⎤\n",
       "0             0      ⎥\n",
       "                     ⎥\n",
       "                     ⎥\n",
       "                     ⎥\n",
       "0             0      ⎥\n",
       "                     ⎥\n",
       "                     ⎥\n",
       "                     ⎥\n",
       "                     ⎥\n",
       "0             0      ⎥\n",
       "                     ⎥\n",
       "                     ⎥\n",
       "                     ⎥\n",
       "                     ⎥\n",
       "0             0      ⎥\n",
       "                     ⎥\n",
       "                     ⎥\n",
       "                     ⎥\n",
       "7                    ⎥\n",
       "───────       0      ⎥\n",
       "mbda[1]              ⎥\n",
       "                     ⎥\n",
       "                     ⎥\n",
       "             -9      ⎥\n",
       "1        ────────────⎥\n",
       "         2⋅\\lambda[1]⎥\n",
       "                     ⎥\n",
       "                     ⎥\n",
       "                     ⎥\n",
       "0             1      ⎥\n",
       "                     ⎦"
      ]
     },
     "execution_count": 60,
     "metadata": {},
     "output_type": "execute_result"
    }
   ],
   "source": [
    "production_matrix(DE_sqrt)"
   ]
  },
  {
   "cell_type": "code",
   "execution_count": 61,
   "metadata": {
    "collapsed": false,
    "deletable": true,
    "editable": true
   },
   "outputs": [
    {
     "data": {
      "image/png": "[encoded data removed]",
      "text/latex": [
       "$$\\left[\\begin{matrix}\\sqrt{\\lambda_{1}}\\\\\\frac{z - \\lambda_{1}}{2 \\sqrt{\\lambda_{1}}}\\\\- \\frac{\\left(z - \\lambda_{1}\\right)^{2}}{8 \\lambda_{1}^{\\frac{3}{2}}}\\\\\\frac{\\left(z - \\lambda_{1}\\right)^{3}}{16 \\lambda_{1}^{\\frac{5}{2}}}\\\\- \\frac{5 \\left(z - \\lambda_{1}\\right)^{4}}{128 \\lambda_{1}^{\\frac{7}{2}}}\\\\\\frac{7 \\left(z - \\lambda_{1}\\right)^{5}}{256 \\lambda_{1}^{\\frac{9}{2}}}\\\\- \\frac{21 \\left(z - \\lambda_{1}\\right)^{6}}{1024 \\lambda_{1}^{\\frac{11}{2}}}\\\\\\frac{33 \\left(z - \\lambda_{1}\\right)^{7}}{2048 \\lambda_{1}^{\\frac{13}{2}}}\\end{matrix}\\right]$$"
      ],
      "text/plain": [
       "⎡      ____________    ⎤\n",
       "⎢    ╲╱ \\lambda[1]     ⎥\n",
       "⎢                      ⎥\n",
       "⎢    z - \\lambda[1]    ⎥\n",
       "⎢   ────────────────   ⎥\n",
       "⎢       ____________   ⎥\n",
       "⎢   2⋅╲╱ \\lambda[1]    ⎥\n",
       "⎢                      ⎥\n",
       "⎢                  2   ⎥\n",
       "⎢ -(z - \\lambda[1])    ⎥\n",
       "⎢ ───────────────────  ⎥\n",
       "⎢               3/2    ⎥\n",
       "⎢   8⋅\\lambda[1]       ⎥\n",
       "⎢                      ⎥\n",
       "⎢                  3   ⎥\n",
       "⎢  (z - \\lambda[1])    ⎥\n",
       "⎢  ─────────────────   ⎥\n",
       "⎢                5/2   ⎥\n",
       "⎢   16⋅\\lambda[1]      ⎥\n",
       "⎢                      ⎥\n",
       "⎢                   4  ⎥\n",
       "⎢-5⋅(z - \\lambda[1])   ⎥\n",
       "⎢───────────────────── ⎥\n",
       "⎢                7/2   ⎥\n",
       "⎢  128⋅\\lambda[1]      ⎥\n",
       "⎢                      ⎥\n",
       "⎢                   5  ⎥\n",
       "⎢ 7⋅(z - \\lambda[1])   ⎥\n",
       "⎢ ───────────────────  ⎥\n",
       "⎢                9/2   ⎥\n",
       "⎢  256⋅\\lambda[1]      ⎥\n",
       "⎢                      ⎥\n",
       "⎢                    6 ⎥\n",
       "⎢-21⋅(z - \\lambda[1])  ⎥\n",
       "⎢──────────────────────⎥\n",
       "⎢                11/2  ⎥\n",
       "⎢ 1024⋅\\lambda[1]      ⎥\n",
       "⎢                      ⎥\n",
       "⎢                    7 ⎥\n",
       "⎢ 33⋅(z - \\lambda[1])  ⎥\n",
       "⎢ ──────────────────── ⎥\n",
       "⎢                13/2  ⎥\n",
       "⎣ 2048⋅\\lambda[1]      ⎦"
      ]
     },
     "execution_count": 61,
     "metadata": {},
     "output_type": "execute_result"
    }
   ],
   "source": [
    "DEz = (DE_sqrt* z_expt).applyfunc(lambda i: i.doit().factor())\n",
    "DEz"
   ]
  },
  {
   "cell_type": "code",
   "execution_count": 62,
   "metadata": {
    "collapsed": false,
    "deletable": true,
    "editable": true
   },
   "outputs": [
    {
     "data": {
      "image/png": "[encoded data removed]",
      "text/latex": [
       "$$g{\\left (z \\right )} = \\frac{33 \\left(z - \\lambda_{1}\\right)^{7}}{2048 \\lambda_{1}^{\\frac{13}{2}}} - \\frac{21 \\left(z - \\lambda_{1}\\right)^{6}}{1024 \\lambda_{1}^{\\frac{11}{2}}} + \\frac{7 \\left(z - \\lambda_{1}\\right)^{5}}{256 \\lambda_{1}^{\\frac{9}{2}}} - \\frac{5 \\left(z - \\lambda_{1}\\right)^{4}}{128 \\lambda_{1}^{\\frac{7}{2}}} + \\frac{\\left(z - \\lambda_{1}\\right)^{3}}{16 \\lambda_{1}^{\\frac{5}{2}}} - \\frac{\\left(z - \\lambda_{1}\\right)^{2}}{8 \\lambda_{1}^{\\frac{3}{2}}} + \\frac{z - \\lambda_{1}}{2 \\sqrt{\\lambda_{1}}} + \\sqrt{\\lambda_{1}}$$"
      ],
      "text/plain": [
       "                          7                      6                     5      \n",
       "       33⋅(z - \\lambda[1])    21⋅(z - \\lambda[1])    7⋅(z - \\lambda[1])    5⋅(\n",
       "g(z) = ──────────────────── - ──────────────────── + ─────────────────── - ───\n",
       "                      13/2                   11/2                   9/2       \n",
       "       2048⋅\\lambda[1]        1024⋅\\lambda[1]         256⋅\\lambda[1]        12\n",
       "\n",
       "               4                   3                   2                      \n",
       "z - \\lambda[1])    (z - \\lambda[1])    (z - \\lambda[1])     z - \\lambda[1]    \n",
       "──────────────── + ───────────────── - ───────────────── + ──────────────── + \n",
       "            7/2                  5/2                3/2        ____________   \n",
       "8⋅\\lambda[1]        16⋅\\lambda[1]       8⋅\\lambda[1]       2⋅╲╱ \\lambda[1]    \n",
       "\n",
       "              \n",
       "  ____________\n",
       "╲╱ \\lambda[1] \n",
       "              \n",
       "              "
      ]
     },
     "execution_count": 62,
     "metadata": {},
     "output_type": "execute_result"
    }
   ],
   "source": [
    "g_v = ones(1, m) * DEz\n",
    "g_sqrt = Eq(g(z), g_v[0,0].collect(z), evaluate=False)\n",
    "g_sqrt"
   ]
  },
  {
   "cell_type": "code",
   "execution_count": 63,
   "metadata": {
    "collapsed": false,
    "deletable": true,
    "editable": true
   },
   "outputs": [
    {
     "data": {
      "image/png": "[encoded data removed]",
      "text/latex": [
       "$$g{\\left (z \\right )} = \\frac{z}{2} + \\frac{33}{2048} \\left(z - 1\\right)^{7} - \\frac{21}{1024} \\left(z - 1\\right)^{6} + \\frac{7}{256} \\left(z - 1\\right)^{5} - \\frac{5}{128} \\left(z - 1\\right)^{4} + \\frac{1}{16} \\left(z - 1\\right)^{3} - \\frac{1}{8} \\left(z - 1\\right)^{2} + \\frac{1}{2}$$"
      ],
      "text/plain": [
       "                     7             6            5            4          3     \n",
       "       z   33⋅(z - 1)    21⋅(z - 1)    7⋅(z - 1)    5⋅(z - 1)    (z - 1)    (z\n",
       "g(z) = ─ + ─────────── - ─────────── + ────────── - ────────── + ──────── - ──\n",
       "       2       2048          1024         256          128          16        \n",
       "\n",
       "     2    \n",
       " - 1)    1\n",
       "────── + ─\n",
       " 8       2"
      ]
     },
     "execution_count": 63,
     "metadata": {},
     "output_type": "execute_result"
    }
   ],
   "source": [
    "g_sqrt.subs(eigenvals)"
   ]
  },
  {
   "cell_type": "code",
   "execution_count": 64,
   "metadata": {
    "collapsed": false,
    "deletable": true,
    "editable": true
   },
   "outputs": [
    {
     "data": {
      "image/png": "[encoded data removed]",
      "text/latex": [
       "$$1 + \\frac{t}{2} - \\frac{t^{2}}{8} + \\frac{t^{3}}{16} - \\frac{5 t^{4}}{128} + \\frac{7 t^{5}}{256} - \\frac{21 t^{6}}{1024} + \\frac{33 t^{7}}{2048} - \\frac{429 t^{8}}{32768} + \\frac{715 t^{9}}{65536} + \\mathcal{O}\\left(t^{10}\\right)$$"
      ],
      "text/plain": [
       "         2    3      4      5       6       7        8        9         \n",
       "    t   t    t    5⋅t    7⋅t    21⋅t    33⋅t    429⋅t    715⋅t     ⎛ 10⎞\n",
       "1 + ─ - ── + ── - ──── + ──── - ───── + ───── - ────── + ────── + O⎝t  ⎠\n",
       "    2   8    16   128    256     1024    2048   32768    65536          "
      ]
     },
     "execution_count": 64,
     "metadata": {},
     "output_type": "execute_result"
    }
   ],
   "source": [
    "sqrt(1+t).series(t, n=10)"
   ]
  },
  {
   "cell_type": "markdown",
   "metadata": {
    "deletable": true,
    "editable": true
   },
   "source": [
    "according to [A002596]\n",
    "\n",
    "[A002596]:https://oeis.org/A002596"
   ]
  },
  {
   "cell_type": "code",
   "execution_count": 65,
   "metadata": {
    "collapsed": false,
    "deletable": true,
    "editable": true
   },
   "outputs": [
    {
     "data": {
      "image/png": "[encoded data removed]",
      "text/latex": [
       "$$g{\\left (z \\right )} = \\sum_{j=0}^{m - 1} z^{j} {\\binom{\\frac{1}{2}}{j}}$$"
      ],
      "text/plain": [
       "       m - 1         \n",
       "        ____         \n",
       "        ╲            \n",
       "         ╲    j ⎛1/2⎞\n",
       "          ╲  z ⋅⎜   ⎟\n",
       "g(z) =    ╱     ⎝ j ⎠\n",
       "         ╱           \n",
       "        ╱            \n",
       "        ‾‾‾‾         \n",
       "       j = 0         "
      ]
     },
     "execution_count": 65,
     "metadata": {},
     "output_type": "execute_result"
    }
   ],
   "source": [
    "g_sqrt_eq = Eq(g(z), Sum(z**(j) * binomial(1/S(2),j), (j,0,m_sym-1)))\n",
    "g_sqrt_eq"
   ]
  },
  {
   "cell_type": "code",
   "execution_count": 67,
   "metadata": {
    "collapsed": false,
    "deletable": true,
    "editable": true
   },
   "outputs": [
    {
     "data": {
      "image/png": "[encoded data removed]",
      "text/latex": [
       "$$g{\\left (Z_{1,2} \\right )} = \\left[\\begin{matrix}1 & 0 & 0 & 0 & 0 & 0 & 0 & 0\\\\\\frac{1}{2} & 1 & 0 & 0 & 0 & 0 & 0 & 0\\\\\\frac{1}{4} & 1 & 1 & 0 & 0 & 0 & 0 & 0\\\\\\frac{1}{8} & \\frac{3}{4} & \\frac{3}{2} & 1 & 0 & 0 & 0 & 0\\\\\\frac{1}{16} & \\frac{1}{2} & \\frac{3}{2} & 2 & 1 & 0 & 0 & 0\\\\\\frac{1}{32} & \\frac{5}{16} & \\frac{5}{4} & \\frac{5}{2} & \\frac{5}{2} & 1 & 0 & 0\\\\\\frac{1}{64} & \\frac{3}{16} & \\frac{15}{16} & \\frac{5}{2} & \\frac{15}{4} & 3 & 1 & 0\\\\\\frac{1}{128} & \\frac{7}{64} & \\frac{21}{32} & \\frac{35}{16} & \\frac{35}{8} & \\frac{21}{4} & \\frac{7}{2} & 1\\end{matrix}\\right]$$"
      ],
      "text/plain": [
       "             ⎡  1     0     0    0    0     0     0   0⎤\n",
       "             ⎢                                         ⎥\n",
       "             ⎢ 1/2    1     0    0    0     0     0   0⎥\n",
       "             ⎢                                         ⎥\n",
       "             ⎢ 1/4    1     1    0    0     0     0   0⎥\n",
       "             ⎢                                         ⎥\n",
       "             ⎢ 1/8   3/4   3/2   1    0     0     0   0⎥\n",
       "             ⎢                                         ⎥\n",
       "             ⎢1/16   1/2   3/2   2    1     0     0   0⎥\n",
       "g(Z_{1,2}) = ⎢                                         ⎥\n",
       "             ⎢1/32   5/16  5/4  5/2  5/2    1     0   0⎥\n",
       "             ⎢                                         ⎥\n",
       "             ⎢             15                          ⎥\n",
       "             ⎢1/64   3/16  ──   5/2  15/4   3     1   0⎥\n",
       "             ⎢             16                          ⎥\n",
       "             ⎢                                         ⎥\n",
       "             ⎢             21   35                     ⎥\n",
       "             ⎢1/128  7/64  ──   ──   35/8  21/4  7/2  1⎥\n",
       "             ⎣             32   16                     ⎦"
      ]
     },
     "execution_count": 67,
     "metadata": {},
     "output_type": "execute_result"
    }
   ],
   "source": [
    "with lift_to_matrix_function(g_sqrt_eq.subs({m_sym:m}).doit()) as g_sqrt_fn:\n",
    "    P_sqrt_r = g_sqrt_fn(Z_12)\n",
    "\n",
    "P_sqrt_r"
   ]
  },
  {
   "cell_type": "code",
   "execution_count": 68,
   "metadata": {
    "collapsed": false,
    "deletable": true,
    "editable": true
   },
   "outputs": [],
   "source": [
    "assert (P_sqrt_r.rhs**2).applyfunc(simplify) == P"
   ]
  },
  {
   "cell_type": "code",
   "execution_count": 69,
   "metadata": {
    "collapsed": false,
    "deletable": true,
    "editable": true
   },
   "outputs": [
    {
     "data": {
      "image/png": "[encoded data removed]",
      "text/latex": [
       "$$g{\\left (z \\right )} = \\begin{cases} \\sqrt{z + 1} & \\text{for}\\: \\left|{z}\\right| \\leq 1 \\\\\\sum_{j=0}^{\\infty} z^{j} {\\binom{\\frac{1}{2}}{j}} & \\text{otherwise} \\end{cases}$$"
      ],
      "text/plain": [
       "       ⎧    _______                \n",
       "       ⎪  ╲╱ z + 1      for │z│ ≤ 1\n",
       "       ⎪                           \n",
       "       ⎪  ∞                        \n",
       "       ⎪ ____                      \n",
       "       ⎪ ╲                         \n",
       "g(z) = ⎨  ╲    j ⎛1/2⎞             \n",
       "       ⎪   ╲  z ⋅⎜   ⎟             \n",
       "       ⎪   ╱     ⎝ j ⎠   otherwise \n",
       "       ⎪  ╱                        \n",
       "       ⎪ ╱                         \n",
       "       ⎪ ‾‾‾‾                      \n",
       "       ⎩j = 0                      "
      ]
     },
     "execution_count": 69,
     "metadata": {},
     "output_type": "execute_result"
    }
   ],
   "source": [
    "g_sqrt_eq.subs({m_sym:oo}).doit()"
   ]
  },
  {
   "cell_type": "markdown",
   "metadata": {
    "deletable": true,
    "editable": true
   },
   "source": [
    "## $f(z)=e^{\\alpha z}$"
   ]
  },
  {
   "cell_type": "code",
   "execution_count": 70,
   "metadata": {
    "collapsed": false,
    "deletable": true,
    "editable": true
   },
   "outputs": [
    {
     "data": {
      "image/png": "[encoded data removed]",
      "text/latex": [
       "$$\\left[\\begin{matrix}e^{\\alpha \\lambda_{1}} & 0 & 0 & 0 & 0 & 0 & 0 & 0\\\\- \\alpha e^{\\alpha \\lambda_{1}} \\lambda_{1} & \\alpha e^{\\alpha \\lambda_{1}} & 0 & 0 & 0 & 0 & 0 & 0\\\\\\frac{\\alpha^{2} \\lambda_{1}^{2}}{2} e^{\\alpha \\lambda_{1}} & - \\alpha^{2} e^{\\alpha \\lambda_{1}} \\lambda_{1} & \\alpha^{2} e^{\\alpha \\lambda_{1}} & 0 & 0 & 0 & 0 & 0\\\\- \\frac{\\alpha^{3} \\lambda_{1}^{3}}{6} e^{\\alpha \\lambda_{1}} & \\frac{\\alpha^{3} \\lambda_{1}^{2}}{2} e^{\\alpha \\lambda_{1}} & - \\alpha^{3} e^{\\alpha \\lambda_{1}} \\lambda_{1} & \\alpha^{3} e^{\\alpha \\lambda_{1}} & 0 & 0 & 0 & 0\\\\\\frac{\\alpha^{4} \\lambda_{1}^{4}}{24} e^{\\alpha \\lambda_{1}} & - \\frac{\\alpha^{4} \\lambda_{1}^{3}}{6} e^{\\alpha \\lambda_{1}} & \\frac{\\alpha^{4} \\lambda_{1}^{2}}{2} e^{\\alpha \\lambda_{1}} & - \\alpha^{4} e^{\\alpha \\lambda_{1}} \\lambda_{1} & \\alpha^{4} e^{\\alpha \\lambda_{1}} & 0 & 0 & 0\\\\- \\frac{\\alpha^{5} \\lambda_{1}^{5}}{120} e^{\\alpha \\lambda_{1}} & \\frac{\\alpha^{5} \\lambda_{1}^{4}}{24} e^{\\alpha \\lambda_{1}} & - \\frac{\\alpha^{5} \\lambda_{1}^{3}}{6} e^{\\alpha \\lambda_{1}} & \\frac{\\alpha^{5} \\lambda_{1}^{2}}{2} e^{\\alpha \\lambda_{1}} & - \\alpha^{5} e^{\\alpha \\lambda_{1}} \\lambda_{1} & \\alpha^{5} e^{\\alpha \\lambda_{1}} & 0 & 0\\\\\\frac{\\alpha^{6} \\lambda_{1}^{6}}{720} e^{\\alpha \\lambda_{1}} & - \\frac{\\alpha^{6} \\lambda_{1}^{5}}{120} e^{\\alpha \\lambda_{1}} & \\frac{\\alpha^{6} \\lambda_{1}^{4}}{24} e^{\\alpha \\lambda_{1}} & - \\frac{\\alpha^{6} \\lambda_{1}^{3}}{6} e^{\\alpha \\lambda_{1}} & \\frac{\\alpha^{6} \\lambda_{1}^{2}}{2} e^{\\alpha \\lambda_{1}} & - \\alpha^{6} e^{\\alpha \\lambda_{1}} \\lambda_{1} & \\alpha^{6} e^{\\alpha \\lambda_{1}} & 0\\\\- \\frac{\\alpha^{7} \\lambda_{1}^{7}}{5040} e^{\\alpha \\lambda_{1}} & \\frac{\\alpha^{7} \\lambda_{1}^{6}}{720} e^{\\alpha \\lambda_{1}} & - \\frac{\\alpha^{7} \\lambda_{1}^{5}}{120} e^{\\alpha \\lambda_{1}} & \\frac{\\alpha^{7} \\lambda_{1}^{4}}{24} e^{\\alpha \\lambda_{1}} & - \\frac{\\alpha^{7} \\lambda_{1}^{3}}{6} e^{\\alpha \\lambda_{1}} & \\frac{\\alpha^{7} \\lambda_{1}^{2}}{2} e^{\\alpha \\lambda_{1}} & - \\alpha^{7} e^{\\alpha \\lambda_{1}} \\lambda_{1} & \\alpha^{7} e^{\\alpha \\lambda_{1}}\\end{matrix}\\right]$$"
      ],
      "text/plain": [
       "⎡         α⋅\\lambda[1]                                                        \n",
       "⎢        ℯ                                     0                              \n",
       "⎢                                                                             \n",
       "⎢     α⋅\\lambda[1]                         α⋅\\lambda[1]                       \n",
       "⎢ -α⋅ℯ            ⋅\\lambda[1]           α⋅ℯ                                   \n",
       "⎢                                                                             \n",
       "⎢  2  α⋅\\lambda[1]           2                                                \n",
       "⎢ α ⋅ℯ            ⋅\\lambda[1]       2  α⋅\\lambda[1]                      2  α⋅\n",
       "⎢ ────────────────────────────    -α ⋅ℯ            ⋅\\lambda[1]          α ⋅ℯ  \n",
       "⎢              2                                                              \n",
       "⎢                                                                             \n",
       "⎢  3  α⋅\\lambda[1]           3     3  α⋅\\lambda[1]           2                \n",
       "⎢-α ⋅ℯ            ⋅\\lambda[1]     α ⋅ℯ            ⋅\\lambda[1]       3  α⋅\\lamb\n",
       "⎢──────────────────────────────   ────────────────────────────    -α ⋅ℯ       \n",
       "⎢              6                               2                              \n",
       "⎢                                                                             \n",
       "⎢  4  α⋅\\lambda[1]           4     4  α⋅\\lambda[1]           3     4  α⋅\\lambd\n",
       "⎢ α ⋅ℯ            ⋅\\lambda[1]    -α ⋅ℯ            ⋅\\lambda[1]     α ⋅ℯ        \n",
       "⎢ ────────────────────────────   ──────────────────────────────   ────────────\n",
       "⎢              24                              6                              \n",
       "⎢                                                                             \n",
       "⎢  5  α⋅\\lambda[1]           5     5  α⋅\\lambda[1]           4     5  α⋅\\lambd\n",
       "⎢-α ⋅ℯ            ⋅\\lambda[1]     α ⋅ℯ            ⋅\\lambda[1]    -α ⋅ℯ        \n",
       "⎢──────────────────────────────   ────────────────────────────   ─────────────\n",
       "⎢             120                              24                             \n",
       "⎢                                                                             \n",
       "⎢  6  α⋅\\lambda[1]           6     6  α⋅\\lambda[1]           5     6  α⋅\\lambd\n",
       "⎢ α ⋅ℯ            ⋅\\lambda[1]    -α ⋅ℯ            ⋅\\lambda[1]     α ⋅ℯ        \n",
       "⎢ ────────────────────────────   ──────────────────────────────   ────────────\n",
       "⎢             720                             120                             \n",
       "⎢                                                                             \n",
       "⎢  7  α⋅\\lambda[1]           7     7  α⋅\\lambda[1]           6     7  α⋅\\lambd\n",
       "⎢-α ⋅ℯ            ⋅\\lambda[1]     α ⋅ℯ            ⋅\\lambda[1]    -α ⋅ℯ        \n",
       "⎢──────────────────────────────   ────────────────────────────   ─────────────\n",
       "⎣             5040                            720                             \n",
       "\n",
       "                                                                              \n",
       " 0                               0                               0            \n",
       "                                                                              \n",
       "                                                                              \n",
       " 0                               0                               0            \n",
       "                                                                              \n",
       "                                                                              \n",
       "\\lambda[1]                                                                    \n",
       "                                 0                               0            \n",
       "                                                                              \n",
       "                                                                              \n",
       "                                                                              \n",
       "da[1]                      3  α⋅\\lambda[1]                                    \n",
       "     ⋅\\lambda[1]          α ⋅ℯ                                   0            \n",
       "                                                                              \n",
       "                                                                              \n",
       "a[1]           2                                                              \n",
       "    ⋅\\lambda[1]       4  α⋅\\lambda[1]                      4  α⋅\\lambda[1]    \n",
       "────────────────    -α ⋅ℯ            ⋅\\lambda[1]          α ⋅ℯ                \n",
       " 2                                                                            \n",
       "                                                                              \n",
       "a[1]           3     5  α⋅\\lambda[1]           2                              \n",
       "    ⋅\\lambda[1]     α ⋅ℯ            ⋅\\lambda[1]       5  α⋅\\lambda[1]         \n",
       "─────────────────   ────────────────────────────    -α ⋅ℯ            ⋅\\lambda[\n",
       " 6                               2                                            \n",
       "                                                                              \n",
       "a[1]           4     6  α⋅\\lambda[1]           3     6  α⋅\\lambda[1]          \n",
       "    ⋅\\lambda[1]    -α ⋅ℯ            ⋅\\lambda[1]     α ⋅ℯ            ⋅\\lambda[1\n",
       "────────────────   ──────────────────────────────   ──────────────────────────\n",
       " 24                              6                               2            \n",
       "                                                                              \n",
       "a[1]           5     7  α⋅\\lambda[1]           4     7  α⋅\\lambda[1]          \n",
       "    ⋅\\lambda[1]     α ⋅ℯ            ⋅\\lambda[1]    -α ⋅ℯ            ⋅\\lambda[1\n",
       "─────────────────   ────────────────────────────   ───────────────────────────\n",
       "120                              24                              6            \n",
       "\n",
       "                                                                              \n",
       "                  0                             0                       0     \n",
       "                                                                              \n",
       "                                                                              \n",
       "                  0                             0                       0     \n",
       "                                                                              \n",
       "                                                                              \n",
       "                                                                              \n",
       "                  0                             0                       0     \n",
       "                                                                              \n",
       "                                                                              \n",
       "                                                                              \n",
       "                                                                              \n",
       "                  0                             0                       0     \n",
       "                                                                              \n",
       "                                                                              \n",
       "                                                                              \n",
       "                                                                              \n",
       "                  0                             0                       0     \n",
       "                                                                              \n",
       "                                                                              \n",
       "                                                                              \n",
       "            5  α⋅\\lambda[1]                                                   \n",
       "1]         α ⋅ℯ                                 0                       0     \n",
       "                                                                              \n",
       "                                                                              \n",
       " 2                                                                            \n",
       "]      6  α⋅\\lambda[1]                    6  α⋅\\lambda[1]                     \n",
       "──   -α ⋅ℯ            ⋅\\lambda[1]        α ⋅ℯ                           0     \n",
       "                                                                              \n",
       "                                                                              \n",
       " 3    7  α⋅\\lambda[1]           2                                             \n",
       "]    α ⋅ℯ            ⋅\\lambda[1]     7  α⋅\\lambda[1]              7  α⋅\\lambda\n",
       "───  ────────────────────────────  -α ⋅ℯ            ⋅\\lambda[1]  α ⋅ℯ         \n",
       "                  2                                                           \n",
       "\n",
       "   ⎤\n",
       "   ⎥\n",
       "   ⎥\n",
       "   ⎥\n",
       "   ⎥\n",
       "   ⎥\n",
       "   ⎥\n",
       "   ⎥\n",
       "   ⎥\n",
       "   ⎥\n",
       "   ⎥\n",
       "   ⎥\n",
       "   ⎥\n",
       "   ⎥\n",
       "   ⎥\n",
       "   ⎥\n",
       "   ⎥\n",
       "   ⎥\n",
       "   ⎥\n",
       "   ⎥\n",
       "   ⎥\n",
       "   ⎥\n",
       "   ⎥\n",
       "   ⎥\n",
       "   ⎥\n",
       "   ⎥\n",
       "   ⎥\n",
       "   ⎥\n",
       "   ⎥\n",
       "   ⎥\n",
       "   ⎥\n",
       "   ⎥\n",
       "[1]⎥\n",
       "   ⎥\n",
       "   ⎦"
      ]
     },
     "execution_count": 70,
     "metadata": {},
     "output_type": "execute_result"
    }
   ],
   "source": [
    "DE_expt = DE.subs({f:Lambda(t, exp(alpha*t))}).applyfunc(lambda i: i.doit().factor())\n",
    "DE_expt"
   ]
  },
  {
   "cell_type": "code",
   "execution_count": 71,
   "metadata": {
    "collapsed": false,
    "deletable": true,
    "editable": true
   },
   "outputs": [
    {
     "data": {
      "image/png": "[encoded data removed]",
      "text/latex": [
       "$$\\left[\\begin{matrix}- \\alpha \\lambda_{1} & \\alpha & 0 & 0 & 0 & 0 & 0\\\\- \\frac{\\alpha \\lambda_{1}^{2}}{2} & 0 & \\alpha & 0 & 0 & 0 & 0\\\\- \\frac{\\alpha \\lambda_{1}^{3}}{6} & 0 & 0 & \\alpha & 0 & 0 & 0\\\\- \\frac{\\alpha \\lambda_{1}^{4}}{24} & 0 & 0 & 0 & \\alpha & 0 & 0\\\\- \\frac{\\alpha \\lambda_{1}^{5}}{120} & 0 & 0 & 0 & 0 & \\alpha & 0\\\\- \\frac{\\alpha \\lambda_{1}^{6}}{720} & 0 & 0 & 0 & 0 & 0 & \\alpha\\\\- \\frac{\\alpha \\lambda_{1}^{7}}{5040} & 0 & 0 & 0 & 0 & 0 & 0\\end{matrix}\\right]$$"
      ],
      "text/plain": [
       "⎡ -α⋅\\lambda[1]   α  0  0  0  0  0⎤\n",
       "⎢                                 ⎥\n",
       "⎢             2                   ⎥\n",
       "⎢-α⋅\\lambda[1]                    ⎥\n",
       "⎢───────────────  0  α  0  0  0  0⎥\n",
       "⎢       2                         ⎥\n",
       "⎢                                 ⎥\n",
       "⎢             3                   ⎥\n",
       "⎢-α⋅\\lambda[1]                    ⎥\n",
       "⎢───────────────  0  0  α  0  0  0⎥\n",
       "⎢       6                         ⎥\n",
       "⎢                                 ⎥\n",
       "⎢             4                   ⎥\n",
       "⎢-α⋅\\lambda[1]                    ⎥\n",
       "⎢───────────────  0  0  0  α  0  0⎥\n",
       "⎢       24                        ⎥\n",
       "⎢                                 ⎥\n",
       "⎢             5                   ⎥\n",
       "⎢-α⋅\\lambda[1]                    ⎥\n",
       "⎢───────────────  0  0  0  0  α  0⎥\n",
       "⎢      120                        ⎥\n",
       "⎢                                 ⎥\n",
       "⎢             6                   ⎥\n",
       "⎢-α⋅\\lambda[1]                    ⎥\n",
       "⎢───────────────  0  0  0  0  0  α⎥\n",
       "⎢      720                        ⎥\n",
       "⎢                                 ⎥\n",
       "⎢             7                   ⎥\n",
       "⎢-α⋅\\lambda[1]                    ⎥\n",
       "⎢───────────────  0  0  0  0  0  0⎥\n",
       "⎣      5040                       ⎦"
      ]
     },
     "execution_count": 71,
     "metadata": {},
     "output_type": "execute_result"
    }
   ],
   "source": [
    "production_matrix(DE_expt)"
   ]
  },
  {
   "cell_type": "code",
   "execution_count": 72,
   "metadata": {
    "collapsed": false,
    "deletable": true,
    "editable": true
   },
   "outputs": [
    {
     "data": {
      "image/png": "[encoded data removed]",
      "text/latex": [
       "$$\\left[\\begin{matrix}e^{\\alpha \\lambda_{1}}\\\\\\alpha \\left(z - \\lambda_{1}\\right) e^{\\alpha \\lambda_{1}}\\\\\\frac{\\alpha^{2}}{2} \\left(z - \\lambda_{1}\\right)^{2} e^{\\alpha \\lambda_{1}}\\\\\\frac{\\alpha^{3}}{6} \\left(z - \\lambda_{1}\\right)^{3} e^{\\alpha \\lambda_{1}}\\\\\\frac{\\alpha^{4}}{24} \\left(z - \\lambda_{1}\\right)^{4} e^{\\alpha \\lambda_{1}}\\\\\\frac{\\alpha^{5}}{120} \\left(z - \\lambda_{1}\\right)^{5} e^{\\alpha \\lambda_{1}}\\\\\\frac{\\alpha^{6}}{720} \\left(z - \\lambda_{1}\\right)^{6} e^{\\alpha \\lambda_{1}}\\\\\\frac{\\alpha^{7}}{5040} \\left(z - \\lambda_{1}\\right)^{7} e^{\\alpha \\lambda_{1}}\\end{matrix}\\right]$$"
      ],
      "text/plain": [
       "⎡           α⋅\\lambda[1]           ⎤\n",
       "⎢          ℯ                       ⎥\n",
       "⎢                                  ⎥\n",
       "⎢                     α⋅\\lambda[1] ⎥\n",
       "⎢ α⋅(z - \\lambda[1])⋅ℯ             ⎥\n",
       "⎢                                  ⎥\n",
       "⎢ 2                 2  α⋅\\lambda[1]⎥\n",
       "⎢α ⋅(z - \\lambda[1]) ⋅ℯ            ⎥\n",
       "⎢──────────────────────────────────⎥\n",
       "⎢                2                 ⎥\n",
       "⎢                                  ⎥\n",
       "⎢ 3                 3  α⋅\\lambda[1]⎥\n",
       "⎢α ⋅(z - \\lambda[1]) ⋅ℯ            ⎥\n",
       "⎢──────────────────────────────────⎥\n",
       "⎢                6                 ⎥\n",
       "⎢                                  ⎥\n",
       "⎢ 4                 4  α⋅\\lambda[1]⎥\n",
       "⎢α ⋅(z - \\lambda[1]) ⋅ℯ            ⎥\n",
       "⎢──────────────────────────────────⎥\n",
       "⎢                24                ⎥\n",
       "⎢                                  ⎥\n",
       "⎢ 5                 5  α⋅\\lambda[1]⎥\n",
       "⎢α ⋅(z - \\lambda[1]) ⋅ℯ            ⎥\n",
       "⎢──────────────────────────────────⎥\n",
       "⎢               120                ⎥\n",
       "⎢                                  ⎥\n",
       "⎢ 6                 6  α⋅\\lambda[1]⎥\n",
       "⎢α ⋅(z - \\lambda[1]) ⋅ℯ            ⎥\n",
       "⎢──────────────────────────────────⎥\n",
       "⎢               720                ⎥\n",
       "⎢                                  ⎥\n",
       "⎢ 7                 7  α⋅\\lambda[1]⎥\n",
       "⎢α ⋅(z - \\lambda[1]) ⋅ℯ            ⎥\n",
       "⎢──────────────────────────────────⎥\n",
       "⎣               5040               ⎦"
      ]
     },
     "execution_count": 72,
     "metadata": {},
     "output_type": "execute_result"
    }
   ],
   "source": [
    "DEz = (DE_expt* z_expt).applyfunc(lambda i: i.doit().factor())\n",
    "DEz"
   ]
  },
  {
   "cell_type": "code",
   "execution_count": 73,
   "metadata": {
    "collapsed": false,
    "deletable": true,
    "editable": true
   },
   "outputs": [
    {
     "data": {
      "image/png": "[encoded data removed]",
      "text/latex": [
       "$$g{\\left (z \\right )} = \\frac{\\alpha^{7}}{5040} \\left(z - \\lambda_{1}\\right)^{7} e^{\\alpha \\lambda_{1}} + \\frac{\\alpha^{6}}{720} \\left(z - \\lambda_{1}\\right)^{6} e^{\\alpha \\lambda_{1}} + \\frac{\\alpha^{5}}{120} \\left(z - \\lambda_{1}\\right)^{5} e^{\\alpha \\lambda_{1}} + \\frac{\\alpha^{4}}{24} \\left(z - \\lambda_{1}\\right)^{4} e^{\\alpha \\lambda_{1}} + \\frac{\\alpha^{3}}{6} \\left(z - \\lambda_{1}\\right)^{3} e^{\\alpha \\lambda_{1}} + \\frac{\\alpha^{2}}{2} \\left(z - \\lambda_{1}\\right)^{2} e^{\\alpha \\lambda_{1}} + \\alpha \\left(z - \\lambda_{1}\\right) e^{\\alpha \\lambda_{1}} + e^{\\alpha \\lambda_{1}}$$"
      ],
      "text/plain": [
       "        7                 7  α⋅\\lambda[1]    6                 6  α⋅\\lambda[1]\n",
       "       α ⋅(z - \\lambda[1]) ⋅ℯ               α ⋅(z - \\lambda[1]) ⋅ℯ            \n",
       "g(z) = ────────────────────────────────── + ──────────────────────────────────\n",
       "                      5040                                 720                \n",
       "\n",
       "    5                 5  α⋅\\lambda[1]    4                 4  α⋅\\lambda[1]    \n",
       "   α ⋅(z - \\lambda[1]) ⋅ℯ               α ⋅(z - \\lambda[1]) ⋅ℯ               α\n",
       " + ────────────────────────────────── + ────────────────────────────────── + ─\n",
       "                  120                                   24                    \n",
       "\n",
       "3                 3  α⋅\\lambda[1]    2                 2  α⋅\\lambda[1]        \n",
       " ⋅(z - \\lambda[1]) ⋅ℯ               α ⋅(z - \\lambda[1]) ⋅ℯ                    \n",
       "───────────────────────────────── + ────────────────────────────────── + α⋅(z \n",
       "               6                                    2                         \n",
       "\n",
       "                                           \n",
       "               α⋅\\lambda[1]    α⋅\\lambda[1]\n",
       "- \\lambda[1])⋅ℯ             + ℯ            \n",
       "                                           "
      ]
     },
     "execution_count": 73,
     "metadata": {},
     "output_type": "execute_result"
    }
   ],
   "source": [
    "g_v = ones(1, m) * DEz\n",
    "g_exp_v = Eq(g(z), g_v[0,0].collect(z), evaluate=False)\n",
    "g_exp_v"
   ]
  },
  {
   "cell_type": "code",
   "execution_count": 74,
   "metadata": {
    "collapsed": false,
    "deletable": true,
    "editable": true
   },
   "outputs": [
    {
     "data": {
      "image/png": "[encoded data removed]",
      "text/latex": [
       "$$g{\\left (z \\right )} = \\frac{\\alpha^{7} e^{\\alpha}}{5040} \\left(z - 1\\right)^{7} + \\frac{\\alpha^{6} e^{\\alpha}}{720} \\left(z - 1\\right)^{6} + \\frac{\\alpha^{5} e^{\\alpha}}{120} \\left(z - 1\\right)^{5} + \\frac{\\alpha^{4} e^{\\alpha}}{24} \\left(z - 1\\right)^{4} + \\frac{\\alpha^{3} e^{\\alpha}}{6} \\left(z - 1\\right)^{3} + \\frac{\\alpha^{2} e^{\\alpha}}{2} \\left(z - 1\\right)^{2} + \\alpha \\left(z - 1\\right) e^{\\alpha} + e^{\\alpha}$$"
      ],
      "text/plain": [
       "        7        7  α    6        6  α    5        5  α    4        4  α    3 \n",
       "       α ⋅(z - 1) ⋅ℯ    α ⋅(z - 1) ⋅ℯ    α ⋅(z - 1) ⋅ℯ    α ⋅(z - 1) ⋅ℯ    α ⋅\n",
       "g(z) = ────────────── + ────────────── + ────────────── + ────────────── + ───\n",
       "            5040             720              120               24            \n",
       "\n",
       "       3  α    2        2  α                    \n",
       "(z - 1) ⋅ℯ    α ⋅(z - 1) ⋅ℯ               α    α\n",
       "─────────── + ────────────── + α⋅(z - 1)⋅ℯ  + ℯ \n",
       "   6                2                           "
      ]
     },
     "execution_count": 74,
     "metadata": {},
     "output_type": "execute_result"
    }
   ],
   "source": [
    "g_exp_v.subs(eigenvals)"
   ]
  },
  {
   "cell_type": "code",
   "execution_count": 75,
   "metadata": {
    "collapsed": false,
    "deletable": true,
    "editable": true
   },
   "outputs": [
    {
     "data": {
      "image/png": "[encoded data removed]",
      "text/latex": [
       "$$g{\\left (z \\right )} = e^{\\alpha} \\sum_{j=0}^{m - 1} \\frac{\\alpha^{j} z^{j}}{j!}$$"
      ],
      "text/plain": [
       "          m - 1      \n",
       "           ____      \n",
       "           ╲         \n",
       "            ╲    j  j\n",
       "        α    ╲  α ⋅z \n",
       "g(z) = ℯ ⋅   ╱  ─────\n",
       "            ╱     j! \n",
       "           ╱         \n",
       "           ‾‾‾‾      \n",
       "          j = 0      "
      ]
     },
     "execution_count": 75,
     "metadata": {},
     "output_type": "execute_result"
    }
   ],
   "source": [
    "g_exp_eq = Eq(g(z), exp(alpha)*Sum(alpha**j * z**(j) / factorial(j), (j,0,m_sym-1)))\n",
    "g_exp_eq"
   ]
  },
  {
   "cell_type": "code",
   "execution_count": 78,
   "metadata": {
    "collapsed": false,
    "deletable": true,
    "editable": true
   },
   "outputs": [
    {
     "data": {
      "image/png": "[encoded data removed]",
      "text/latex": [
       "$$\\left[\\begin{matrix}e^{\\alpha} & 0 & 0 & 0 & 0 & 0 & 0 & 0\\\\\\alpha e^{\\alpha} & e^{\\alpha} & 0 & 0 & 0 & 0 & 0 & 0\\\\\\alpha \\left(\\alpha + 1\\right) e^{\\alpha} & 2 \\alpha e^{\\alpha} & e^{\\alpha} & 0 & 0 & 0 & 0 & 0\\\\\\alpha \\left(\\alpha^{2} + 3 \\alpha + 1\\right) e^{\\alpha} & 3 \\alpha \\left(\\alpha + 1\\right) e^{\\alpha} & 3 \\alpha e^{\\alpha} & e^{\\alpha} & 0 & 0 & 0 & 0\\\\\\alpha \\left(\\alpha^{3} + 6 \\alpha^{2} + 7 \\alpha + 1\\right) e^{\\alpha} & 4 \\alpha \\left(\\alpha^{2} + 3 \\alpha + 1\\right) e^{\\alpha} & 6 \\alpha \\left(\\alpha + 1\\right) e^{\\alpha} & 4 \\alpha e^{\\alpha} & e^{\\alpha} & 0 & 0 & 0\\\\\\alpha \\left(\\alpha^{4} + 10 \\alpha^{3} + 25 \\alpha^{2} + 15 \\alpha + 1\\right) e^{\\alpha} & 5 \\alpha \\left(\\alpha^{3} + 6 \\alpha^{2} + 7 \\alpha + 1\\right) e^{\\alpha} & 10 \\alpha \\left(\\alpha^{2} + 3 \\alpha + 1\\right) e^{\\alpha} & 10 \\alpha \\left(\\alpha + 1\\right) e^{\\alpha} & 5 \\alpha e^{\\alpha} & e^{\\alpha} & 0 & 0\\\\\\alpha \\left(\\alpha^{5} + 15 \\alpha^{4} + 65 \\alpha^{3} + 90 \\alpha^{2} + 31 \\alpha + 1\\right) e^{\\alpha} & 6 \\alpha \\left(\\alpha^{4} + 10 \\alpha^{3} + 25 \\alpha^{2} + 15 \\alpha + 1\\right) e^{\\alpha} & 15 \\alpha \\left(\\alpha^{3} + 6 \\alpha^{2} + 7 \\alpha + 1\\right) e^{\\alpha} & 20 \\alpha \\left(\\alpha^{2} + 3 \\alpha + 1\\right) e^{\\alpha} & 15 \\alpha \\left(\\alpha + 1\\right) e^{\\alpha} & 6 \\alpha e^{\\alpha} & e^{\\alpha} & 0\\\\\\alpha \\left(\\alpha^{6} + 21 \\alpha^{5} + 140 \\alpha^{4} + 350 \\alpha^{3} + 301 \\alpha^{2} + 63 \\alpha + 1\\right) e^{\\alpha} & 7 \\alpha \\left(\\alpha^{5} + 15 \\alpha^{4} + 65 \\alpha^{3} + 90 \\alpha^{2} + 31 \\alpha + 1\\right) e^{\\alpha} & 21 \\alpha \\left(\\alpha^{4} + 10 \\alpha^{3} + 25 \\alpha^{2} + 15 \\alpha + 1\\right) e^{\\alpha} & 35 \\alpha \\left(\\alpha^{3} + 6 \\alpha^{2} + 7 \\alpha + 1\\right) e^{\\alpha} & 35 \\alpha \\left(\\alpha^{2} + 3 \\alpha + 1\\right) e^{\\alpha} & 21 \\alpha \\left(\\alpha + 1\\right) e^{\\alpha} & 7 \\alpha e^{\\alpha} & e^{\\alpha}\\end{matrix}\\right]$$"
      ],
      "text/plain": [
       "⎡                           α                                                 \n",
       "⎢                          ℯ                                                  \n",
       "⎢                                                                             \n",
       "⎢                            α                                                \n",
       "⎢                         α⋅ℯ                                                 \n",
       "⎢                                                                             \n",
       "⎢                                α                                            \n",
       "⎢                     α⋅(α + 1)⋅ℯ                                             \n",
       "⎢                                                                             \n",
       "⎢                    ⎛ 2          ⎞  α                                        \n",
       "⎢                  α⋅⎝α  + 3⋅α + 1⎠⋅ℯ                                     3⋅α⋅\n",
       "⎢                                                                             \n",
       "⎢                ⎛ 3      2          ⎞  α                                 ⎛ 2 \n",
       "⎢              α⋅⎝α  + 6⋅α  + 7⋅α + 1⎠⋅ℯ                              4⋅α⋅⎝α  \n",
       "⎢                                                                             \n",
       "⎢           ⎛ 4       3       2           ⎞  α                         ⎛ 3    \n",
       "⎢         α⋅⎝α  + 10⋅α  + 25⋅α  + 15⋅α + 1⎠⋅ℯ                      5⋅α⋅⎝α  + 6\n",
       "⎢                                                                             \n",
       "⎢       ⎛ 5       4       3       2           ⎞  α                ⎛ 4       3 \n",
       "⎢     α⋅⎝α  + 15⋅α  + 65⋅α  + 90⋅α  + 31⋅α + 1⎠⋅ℯ             6⋅α⋅⎝α  + 10⋅α  \n",
       "⎢                                                                             \n",
       "⎢  ⎛ 6       5        4        3        2           ⎞  α      ⎛ 5       4     \n",
       "⎣α⋅⎝α  + 21⋅α  + 140⋅α  + 350⋅α  + 301⋅α  + 63⋅α + 1⎠⋅ℯ   7⋅α⋅⎝α  + 15⋅α  + 65\n",
       "\n",
       "                                                                              \n",
       "  0                                            0                              \n",
       "                                                                              \n",
       "   α                                                                          \n",
       "  ℯ                                            0                              \n",
       "                                                                              \n",
       "     α                                         α                              \n",
       "2⋅α⋅ℯ                                         ℯ                               \n",
       "                                                                              \n",
       "         α                                       α                            \n",
       "(α + 1)⋅ℯ                                   3⋅α⋅ℯ                             \n",
       "                                                                              \n",
       "         ⎞  α                                        α                        \n",
       "+ 3⋅α + 1⎠⋅ℯ                            6⋅α⋅(α + 1)⋅ℯ                         \n",
       "                                                                              \n",
       "  2          ⎞  α                        ⎛ 2          ⎞  α                    \n",
       "⋅α  + 7⋅α + 1⎠⋅ℯ                    10⋅α⋅⎝α  + 3⋅α + 1⎠⋅ℯ                   10\n",
       "                                                                              \n",
       "      2           ⎞  α                ⎛ 3      2          ⎞  α               ⎛\n",
       "+ 25⋅α  + 15⋅α + 1⎠⋅ℯ            15⋅α⋅⎝α  + 6⋅α  + 7⋅α + 1⎠⋅ℯ           20⋅α⋅⎝\n",
       "                                                                              \n",
       "  3       2           ⎞  α       ⎛ 4       3       2           ⎞  α       ⎛ 3 \n",
       "⋅α  + 90⋅α  + 31⋅α + 1⎠⋅ℯ   21⋅α⋅⎝α  + 10⋅α  + 25⋅α  + 15⋅α + 1⎠⋅ℯ   35⋅α⋅⎝α  \n",
       "\n",
       "                                                                         ⎤\n",
       "     0                          0                    0           0     0 ⎥\n",
       "                                                                         ⎥\n",
       "                                                                         ⎥\n",
       "     0                          0                    0           0     0 ⎥\n",
       "                                                                         ⎥\n",
       "                                                                         ⎥\n",
       "     0                          0                    0           0     0 ⎥\n",
       "                                                                         ⎥\n",
       "     α                                                                   ⎥\n",
       "    ℯ                           0                    0           0     0 ⎥\n",
       "                                                                         ⎥\n",
       "       α                         α                                       ⎥\n",
       "  4⋅α⋅ℯ                         ℯ                    0           0     0 ⎥\n",
       "                                                                         ⎥\n",
       "            α                      α                 α                   ⎥\n",
       "⋅α⋅(α + 1)⋅ℯ                  5⋅α⋅ℯ                 ℯ            0     0 ⎥\n",
       "                                                                         ⎥\n",
       " 2          ⎞  α                       α               α          α      ⎥\n",
       "α  + 3⋅α + 1⎠⋅ℯ          15⋅α⋅(α + 1)⋅ℯ           6⋅α⋅ℯ          ℯ     0 ⎥\n",
       "                                                                         ⎥\n",
       "     2          ⎞  α       ⎛ 2          ⎞  α                α       α   α⎥\n",
       "+ 6⋅α  + 7⋅α + 1⎠⋅ℯ   35⋅α⋅⎝α  + 3⋅α + 1⎠⋅ℯ   21⋅α⋅(α + 1)⋅ℯ   7⋅α⋅ℯ   ℯ ⎦"
      ]
     },
     "execution_count": 78,
     "metadata": {},
     "output_type": "execute_result"
    }
   ],
   "source": [
    "with lift_to_matrix_function(g_exp_eq.subs({m_sym:m}).doit()) as g_exp_fn:\n",
    "    P_exp_r = g_exp_fn(Z_12)\n",
    "\n",
    "P_exp_r.rhs.applyfunc(powsimp)"
   ]
  },
  {
   "cell_type": "code",
   "execution_count": 82,
   "metadata": {
    "collapsed": false,
    "deletable": true,
    "editable": true
   },
   "outputs": [
    {
     "data": {
      "image/png": "[encoded data removed]",
      "text/latex": [
       "$$g{\\left (z \\right )} = e^{\\alpha} e^{\\alpha z}$$"
      ],
      "text/plain": [
       "        α  α⋅z\n",
       "g(z) = ℯ ⋅ℯ   "
      ]
     },
     "execution_count": 82,
     "metadata": {},
     "output_type": "execute_result"
    }
   ],
   "source": [
    "g_exp_eq.subs({m_sym:oo}).doit()#.rhs.powsimp()"
   ]
  },
  {
   "cell_type": "markdown",
   "metadata": {
    "deletable": true,
    "editable": true
   },
   "source": [
    "## $f(z)=\\log{z}$"
   ]
  },
  {
   "cell_type": "code",
   "execution_count": 83,
   "metadata": {
    "collapsed": false,
    "deletable": true,
    "editable": true
   },
   "outputs": [
    {
     "data": {
      "image/png": "[encoded data removed]",
      "text/latex": [
       "$$\\left[\\begin{matrix}\\log{\\left (\\lambda_{1} \\right )} & 0 & 0 & 0 & 0 & 0 & 0 & 0\\\\-1 & \\frac{1}{\\lambda_{1}} & 0 & 0 & 0 & 0 & 0 & 0\\\\- \\frac{1}{2} & \\frac{1}{\\lambda_{1}} & - \\frac{1}{\\lambda_{1}^{2}} & 0 & 0 & 0 & 0 & 0\\\\- \\frac{1}{3} & \\frac{1}{\\lambda_{1}} & - \\frac{2}{\\lambda_{1}^{2}} & \\frac{2}{\\lambda_{1}^{3}} & 0 & 0 & 0 & 0\\\\- \\frac{1}{4} & \\frac{1}{\\lambda_{1}} & - \\frac{3}{\\lambda_{1}^{2}} & \\frac{6}{\\lambda_{1}^{3}} & - \\frac{6}{\\lambda_{1}^{4}} & 0 & 0 & 0\\\\- \\frac{1}{5} & \\frac{1}{\\lambda_{1}} & - \\frac{4}{\\lambda_{1}^{2}} & \\frac{12}{\\lambda_{1}^{3}} & - \\frac{24}{\\lambda_{1}^{4}} & \\frac{24}{\\lambda_{1}^{5}} & 0 & 0\\\\- \\frac{1}{6} & \\frac{1}{\\lambda_{1}} & - \\frac{5}{\\lambda_{1}^{2}} & \\frac{20}{\\lambda_{1}^{3}} & - \\frac{60}{\\lambda_{1}^{4}} & \\frac{120}{\\lambda_{1}^{5}} & - \\frac{120}{\\lambda_{1}^{6}} & 0\\\\- \\frac{1}{7} & \\frac{1}{\\lambda_{1}} & - \\frac{6}{\\lambda_{1}^{2}} & \\frac{30}{\\lambda_{1}^{3}} & - \\frac{120}{\\lambda_{1}^{4}} & \\frac{360}{\\lambda_{1}^{5}} & - \\frac{720}{\\lambda_{1}^{6}} & \\frac{720}{\\lambda_{1}^{7}}\\end{matrix}\\right]$$"
      ],
      "text/plain": [
       "⎡log(\\lambda[1])      0            0            0            0            0   \n",
       "⎢                                                                             \n",
       "⎢                     1                                                       \n",
       "⎢      -1         ──────────       0            0            0            0   \n",
       "⎢                 \\lambda[1]                                                  \n",
       "⎢                                                                             \n",
       "⎢                     1           -1                                          \n",
       "⎢     -1/2        ──────────  ───────────       0            0            0   \n",
       "⎢                 \\lambda[1]            2                                     \n",
       "⎢                             \\lambda[1]                                      \n",
       "⎢                                                                             \n",
       "⎢                     1           -2            2                             \n",
       "⎢     -1/3        ──────────  ───────────  ───────────       0            0   \n",
       "⎢                 \\lambda[1]            2            3                        \n",
       "⎢                             \\lambda[1]   \\lambda[1]                         \n",
       "⎢                                                                             \n",
       "⎢                     1           -3            6           -6                \n",
       "⎢     -1/4        ──────────  ───────────  ───────────  ───────────       0   \n",
       "⎢                 \\lambda[1]            2            3            4           \n",
       "⎢                             \\lambda[1]   \\lambda[1]   \\lambda[1]            \n",
       "⎢                                                                             \n",
       "⎢                     1           -4            12          -24           24  \n",
       "⎢     -1/5        ──────────  ───────────  ───────────  ───────────  ─────────\n",
       "⎢                 \\lambda[1]            2            3            4           \n",
       "⎢                             \\lambda[1]   \\lambda[1]   \\lambda[1]   \\lambda[1\n",
       "⎢                                                                             \n",
       "⎢                     1           -5            20          -60          120  \n",
       "⎢     -1/6        ──────────  ───────────  ───────────  ───────────  ─────────\n",
       "⎢                 \\lambda[1]            2            3            4           \n",
       "⎢                             \\lambda[1]   \\lambda[1]   \\lambda[1]   \\lambda[1\n",
       "⎢                                                                             \n",
       "⎢                     1           -6            30         -120          360  \n",
       "⎢     -1/7        ──────────  ───────────  ───────────  ───────────  ─────────\n",
       "⎢                 \\lambda[1]            2            3            4           \n",
       "⎣                             \\lambda[1]   \\lambda[1]   \\lambda[1]   \\lambda[1\n",
       "\n",
       "         0            0     ⎤\n",
       "                            ⎥\n",
       "                            ⎥\n",
       "         0            0     ⎥\n",
       "                            ⎥\n",
       "                            ⎥\n",
       "                            ⎥\n",
       "         0            0     ⎥\n",
       "                            ⎥\n",
       "                            ⎥\n",
       "                            ⎥\n",
       "                            ⎥\n",
       "         0            0     ⎥\n",
       "                            ⎥\n",
       "                            ⎥\n",
       "                            ⎥\n",
       "                            ⎥\n",
       "         0            0     ⎥\n",
       "                            ⎥\n",
       "                            ⎥\n",
       "                            ⎥\n",
       "                            ⎥\n",
       "──       0            0     ⎥\n",
       " 5                          ⎥\n",
       "]                           ⎥\n",
       "                            ⎥\n",
       "       -120                 ⎥\n",
       "──  ───────────       0     ⎥\n",
       " 5            6             ⎥\n",
       "]   \\lambda[1]              ⎥\n",
       "                            ⎥\n",
       "       -720          720    ⎥\n",
       "──  ───────────  ───────────⎥\n",
       " 5            6            7⎥\n",
       "]   \\lambda[1]   \\lambda[1] ⎦"
      ]
     },
     "execution_count": 83,
     "metadata": {},
     "output_type": "execute_result"
    }
   ],
   "source": [
    "DE_log = DE.subs({f:Lambda(t, log(t))}).applyfunc(lambda i: i.doit().factor())\n",
    "DE_log"
   ]
  },
  {
   "cell_type": "code",
   "execution_count": 84,
   "metadata": {
    "collapsed": false,
    "deletable": true,
    "editable": true
   },
   "outputs": [
    {
     "data": {
      "image/png": "[encoded data removed]",
      "text/latex": [
       "$$\\left[\\begin{matrix}- \\frac{1}{\\log{\\left (\\lambda_{1} \\right )}} & \\frac{1}{\\log{\\left (\\lambda_{1} \\right )} \\lambda_{1}} & 0 & 0 & 0 & 0 & 0\\\\- \\frac{\\lambda_{1}}{2} - \\frac{\\lambda_{1}}{\\log{\\left (\\lambda_{1} \\right )}} & 1 + \\frac{1}{\\log{\\left (\\lambda_{1} \\right )}} & - \\frac{1}{\\lambda_{1}} & 0 & 0 & 0 & 0\\\\- \\frac{\\left(\\log{\\left (\\lambda_{1} \\right )} + 3\\right) \\lambda_{1}^{2}}{6 \\log{\\left (\\lambda_{1} \\right )}} & \\frac{\\lambda_{1}}{2 \\log{\\left (\\lambda_{1} \\right )}} & 1 & - \\frac{2}{\\lambda_{1}} & 0 & 0 & 0\\\\- \\frac{\\left(\\log{\\left (\\lambda_{1} \\right )} + 4\\right) \\lambda_{1}^{3}}{24 \\log{\\left (\\lambda_{1} \\right )}} & \\frac{\\lambda_{1}^{2}}{6 \\log{\\left (\\lambda_{1} \\right )}} & 0 & 1 & - \\frac{3}{\\lambda_{1}} & 0 & 0\\\\- \\frac{\\left(\\log{\\left (\\lambda_{1} \\right )} + 5\\right) \\lambda_{1}^{4}}{120 \\log{\\left (\\lambda_{1} \\right )}} & \\frac{\\lambda_{1}^{3}}{24 \\log{\\left (\\lambda_{1} \\right )}} & 0 & 0 & 1 & - \\frac{4}{\\lambda_{1}} & 0\\\\- \\frac{\\left(\\log{\\left (\\lambda_{1} \\right )} + 6\\right) \\lambda_{1}^{5}}{720 \\log{\\left (\\lambda_{1} \\right )}} & \\frac{\\lambda_{1}^{4}}{120 \\log{\\left (\\lambda_{1} \\right )}} & 0 & 0 & 0 & 1 & - \\frac{5}{\\lambda_{1}}\\\\- \\frac{\\left(\\log{\\left (\\lambda_{1} \\right )} + 7\\right) \\lambda_{1}^{6}}{5040 \\log{\\left (\\lambda_{1} \\right )}} & \\frac{\\lambda_{1}^{5}}{720 \\log{\\left (\\lambda_{1} \\right )}} & 0 & 0 & 0 & 0 & 1\\end{matrix}\\right]$$"
      ],
      "text/plain": [
       "⎡                -1                               1                           \n",
       "⎢          ───────────────            ──────────────────────────      0       \n",
       "⎢          log(\\lambda[1])            log(\\lambda[1])⋅\\lambda[1]              \n",
       "⎢                                                                             \n",
       "⎢    \\lambda[1]      \\lambda[1]                     1                -1       \n",
       "⎢  - ────────── - ───────────────        1 + ───────────────      ──────────  \n",
       "⎢        2        log(\\lambda[1])            log(\\lambda[1])      \\lambda[1]  \n",
       "⎢                                                                             \n",
       "⎢                                 2                                           \n",
       "⎢-(log(\\lambda[1]) + 3)⋅\\lambda[1]            \\lambda[1]                      \n",
       "⎢───────────────────────────────────      ─────────────────           1       \n",
       "⎢         6⋅log(\\lambda[1])               2⋅log(\\lambda[1])                   \n",
       "⎢                                                                             \n",
       "⎢                                 3                    2                      \n",
       "⎢-(log(\\lambda[1]) + 4)⋅\\lambda[1]           \\lambda[1]                       \n",
       "⎢───────────────────────────────────      ─────────────────           0       \n",
       "⎢         24⋅log(\\lambda[1])              6⋅log(\\lambda[1])                   \n",
       "⎢                                                                             \n",
       "⎢                                 4                    3                      \n",
       "⎢-(log(\\lambda[1]) + 5)⋅\\lambda[1]           \\lambda[1]                       \n",
       "⎢───────────────────────────────────      ──────────────────          0       \n",
       "⎢        120⋅log(\\lambda[1])              24⋅log(\\lambda[1])                  \n",
       "⎢                                                                             \n",
       "⎢                                 5                    4                      \n",
       "⎢-(log(\\lambda[1]) + 6)⋅\\lambda[1]           \\lambda[1]                       \n",
       "⎢───────────────────────────────────     ───────────────────          0       \n",
       "⎢        720⋅log(\\lambda[1])             120⋅log(\\lambda[1])                  \n",
       "⎢                                                                             \n",
       "⎢                                 6                    5                      \n",
       "⎢-(log(\\lambda[1]) + 7)⋅\\lambda[1]           \\lambda[1]                       \n",
       "⎢───────────────────────────────────     ───────────────────          0       \n",
       "⎣        5040⋅log(\\lambda[1])            720⋅log(\\lambda[1])                  \n",
       "\n",
       "                                              ⎤\n",
       "    0           0           0           0     ⎥\n",
       "                                              ⎥\n",
       "                                              ⎥\n",
       "                                              ⎥\n",
       "    0           0           0           0     ⎥\n",
       "                                              ⎥\n",
       "                                              ⎥\n",
       "                                              ⎥\n",
       "   -2                                         ⎥\n",
       "──────────      0           0           0     ⎥\n",
       "\\lambda[1]                                    ⎥\n",
       "                                              ⎥\n",
       "                                              ⎥\n",
       "               -3                             ⎥\n",
       "    1       ──────────      0           0     ⎥\n",
       "            \\lambda[1]                        ⎥\n",
       "                                              ⎥\n",
       "                                              ⎥\n",
       "                           -4                 ⎥\n",
       "    0           1       ──────────      0     ⎥\n",
       "                        \\lambda[1]            ⎥\n",
       "                                              ⎥\n",
       "                                              ⎥\n",
       "                                       -5     ⎥\n",
       "    0           0           1       ──────────⎥\n",
       "                                    \\lambda[1]⎥\n",
       "                                              ⎥\n",
       "                                              ⎥\n",
       "                                              ⎥\n",
       "    0           0           0           1     ⎥\n",
       "                                              ⎦"
      ]
     },
     "execution_count": 84,
     "metadata": {},
     "output_type": "execute_result"
    }
   ],
   "source": [
    "production_matrix(DE_log)"
   ]
  },
  {
   "cell_type": "code",
   "execution_count": 85,
   "metadata": {
    "collapsed": false,
    "deletable": true,
    "editable": true
   },
   "outputs": [
    {
     "data": {
      "image/png": "[encoded data removed]",
      "text/latex": [
       "$$\\left[\\begin{matrix}\\log{\\left (\\lambda_{1} \\right )}\\\\\\frac{1}{\\lambda_{1}} \\left(z - \\lambda_{1}\\right)\\\\- \\frac{\\left(z - \\lambda_{1}\\right)^{2}}{2 \\lambda_{1}^{2}}\\\\\\frac{\\left(z - \\lambda_{1}\\right)^{3}}{3 \\lambda_{1}^{3}}\\\\- \\frac{\\left(z - \\lambda_{1}\\right)^{4}}{4 \\lambda_{1}^{4}}\\\\\\frac{\\left(z - \\lambda_{1}\\right)^{5}}{5 \\lambda_{1}^{5}}\\\\- \\frac{\\left(z - \\lambda_{1}\\right)^{6}}{6 \\lambda_{1}^{6}}\\\\\\frac{\\left(z - \\lambda_{1}\\right)^{7}}{7 \\lambda_{1}^{7}}\\end{matrix}\\right]$$"
      ],
      "text/plain": [
       "⎡  log(\\lambda[1])  ⎤\n",
       "⎢                   ⎥\n",
       "⎢  z - \\lambda[1]   ⎥\n",
       "⎢  ──────────────   ⎥\n",
       "⎢    \\lambda[1]     ⎥\n",
       "⎢                   ⎥\n",
       "⎢                 2 ⎥\n",
       "⎢-(z - \\lambda[1])  ⎥\n",
       "⎢───────────────────⎥\n",
       "⎢               2   ⎥\n",
       "⎢   2⋅\\lambda[1]    ⎥\n",
       "⎢                   ⎥\n",
       "⎢                 3 ⎥\n",
       "⎢ (z - \\lambda[1])  ⎥\n",
       "⎢ ───────────────── ⎥\n",
       "⎢               3   ⎥\n",
       "⎢   3⋅\\lambda[1]    ⎥\n",
       "⎢                   ⎥\n",
       "⎢                 4 ⎥\n",
       "⎢-(z - \\lambda[1])  ⎥\n",
       "⎢───────────────────⎥\n",
       "⎢               4   ⎥\n",
       "⎢   4⋅\\lambda[1]    ⎥\n",
       "⎢                   ⎥\n",
       "⎢                 5 ⎥\n",
       "⎢ (z - \\lambda[1])  ⎥\n",
       "⎢ ───────────────── ⎥\n",
       "⎢               5   ⎥\n",
       "⎢   5⋅\\lambda[1]    ⎥\n",
       "⎢                   ⎥\n",
       "⎢                 6 ⎥\n",
       "⎢-(z - \\lambda[1])  ⎥\n",
       "⎢───────────────────⎥\n",
       "⎢               6   ⎥\n",
       "⎢   6⋅\\lambda[1]    ⎥\n",
       "⎢                   ⎥\n",
       "⎢                 7 ⎥\n",
       "⎢ (z - \\lambda[1])  ⎥\n",
       "⎢ ───────────────── ⎥\n",
       "⎢               7   ⎥\n",
       "⎣   7⋅\\lambda[1]    ⎦"
      ]
     },
     "execution_count": 85,
     "metadata": {},
     "output_type": "execute_result"
    }
   ],
   "source": [
    "DEz = (DE_log* z_expt).applyfunc(lambda i: i.doit().factor())\n",
    "DEz"
   ]
  },
  {
   "cell_type": "code",
   "execution_count": 86,
   "metadata": {
    "collapsed": false,
    "deletable": true,
    "editable": true
   },
   "outputs": [
    {
     "data": {
      "image/png": "[encoded data removed]",
      "text/latex": [
       "$$g{\\left (z \\right )} = \\frac{\\left(z - \\lambda_{1}\\right)^{7}}{7 \\lambda_{1}^{7}} - \\frac{\\left(z - \\lambda_{1}\\right)^{6}}{6 \\lambda_{1}^{6}} + \\frac{\\left(z - \\lambda_{1}\\right)^{5}}{5 \\lambda_{1}^{5}} - \\frac{\\left(z - \\lambda_{1}\\right)^{4}}{4 \\lambda_{1}^{4}} + \\frac{\\left(z - \\lambda_{1}\\right)^{3}}{3 \\lambda_{1}^{3}} - \\frac{\\left(z - \\lambda_{1}\\right)^{2}}{2 \\lambda_{1}^{2}} + \\frac{1}{\\lambda_{1}} \\left(z - \\lambda_{1}\\right) + \\log{\\left (\\lambda_{1} \\right )}$$"
      ],
      "text/plain": [
       "                       7                   6                   5              \n",
       "       (z - \\lambda[1])    (z - \\lambda[1])    (z - \\lambda[1])    (z - \\lambd\n",
       "g(z) = ───────────────── - ───────────────── + ───────────────── - ───────────\n",
       "                     7                   6                   5                \n",
       "         7⋅\\lambda[1]        6⋅\\lambda[1]        5⋅\\lambda[1]        4⋅\\lambda\n",
       "\n",
       "     4                   3                   2                                \n",
       "a[1])    (z - \\lambda[1])    (z - \\lambda[1])    z - \\lambda[1]               \n",
       "────── + ───────────────── - ───────────────── + ────────────── + log(\\lambda[\n",
       "   4                   3                   2       \\lambda[1]                 \n",
       "[1]        3⋅\\lambda[1]        2⋅\\lambda[1]                                   \n",
       "\n",
       "   \n",
       "   \n",
       "1])\n",
       "   \n",
       "   "
      ]
     },
     "execution_count": 86,
     "metadata": {},
     "output_type": "execute_result"
    }
   ],
   "source": [
    "g_v = ones(1, m) * DEz\n",
    "g_log_v = Eq(g(z), g_v[0,0].collect(z), evaluate=False)\n",
    "g_log_v"
   ]
  },
  {
   "cell_type": "code",
   "execution_count": 87,
   "metadata": {
    "collapsed": false,
    "deletable": true,
    "editable": true
   },
   "outputs": [
    {
     "data": {
      "image/png": "[encoded data removed]",
      "text/latex": [
       "$$g{\\left (z \\right )} = z + \\frac{1}{7} \\left(z - 1\\right)^{7} - \\frac{1}{6} \\left(z - 1\\right)^{6} + \\frac{1}{5} \\left(z - 1\\right)^{5} - \\frac{1}{4} \\left(z - 1\\right)^{4} + \\frac{1}{3} \\left(z - 1\\right)^{3} - \\frac{1}{2} \\left(z - 1\\right)^{2} - 1$$"
      ],
      "text/plain": [
       "                  7          6          5          4          3          2    \n",
       "           (z - 1)    (z - 1)    (z - 1)    (z - 1)    (z - 1)    (z - 1)     \n",
       "g(z) = z + ──────── - ──────── + ──────── - ──────── + ──────── - ──────── - 1\n",
       "              7          6          5          4          3          2        "
      ]
     },
     "execution_count": 87,
     "metadata": {},
     "output_type": "execute_result"
    }
   ],
   "source": [
    "g_log_v.subs(eigenvals)"
   ]
  },
  {
   "cell_type": "code",
   "execution_count": 88,
   "metadata": {
    "collapsed": false,
    "deletable": true,
    "editable": true
   },
   "outputs": [
    {
     "data": {
      "image/png": "[encoded data removed]",
      "text/latex": [
       "$$g{\\left (z \\right )} = \\sum_{j=1}^{m - 1} \\frac{z^{j}}{j} \\left(-1\\right)^{j + 1}$$"
      ],
      "text/plain": [
       "       m - 1             \n",
       "        ____             \n",
       "        ╲                \n",
       "         ╲       j + 1  j\n",
       "          ╲  (-1)     ⋅z \n",
       "g(z) =    ╱  ────────────\n",
       "         ╱        j      \n",
       "        ╱                \n",
       "        ‾‾‾‾             \n",
       "       j = 1             "
      ]
     },
     "execution_count": 88,
     "metadata": {},
     "output_type": "execute_result"
    }
   ],
   "source": [
    "g_log_eq = Eq(g(z), Sum((-1)**(j+1) * z**(j) / j, (j,1,m_sym-1)))\n",
    "g_log_eq"
   ]
  },
  {
   "cell_type": "code",
   "execution_count": 91,
   "metadata": {
    "collapsed": false,
    "deletable": true,
    "editable": true
   },
   "outputs": [
    {
     "data": {
      "image/png": "[encoded data removed]",
      "text/latex": [
       "$$\\left[\\begin{matrix}0 & 0 & 0 & 0 & 0 & 0 & 0 & 0\\\\1 & 0 & 0 & 0 & 0 & 0 & 0 & 0\\\\0 & 2 & 0 & 0 & 0 & 0 & 0 & 0\\\\0 & 0 & 3 & 0 & 0 & 0 & 0 & 0\\\\0 & 0 & 0 & 4 & 0 & 0 & 0 & 0\\\\0 & 0 & 0 & 0 & 5 & 0 & 0 & 0\\\\0 & 0 & 0 & 0 & 0 & 6 & 0 & 0\\\\0 & 0 & 0 & 0 & 0 & 0 & 7 & 0\\end{matrix}\\right]$$"
      ],
      "text/plain": [
       "⎡0  0  0  0  0  0  0  0⎤\n",
       "⎢                      ⎥\n",
       "⎢1  0  0  0  0  0  0  0⎥\n",
       "⎢                      ⎥\n",
       "⎢0  2  0  0  0  0  0  0⎥\n",
       "⎢                      ⎥\n",
       "⎢0  0  3  0  0  0  0  0⎥\n",
       "⎢                      ⎥\n",
       "⎢0  0  0  4  0  0  0  0⎥\n",
       "⎢                      ⎥\n",
       "⎢0  0  0  0  5  0  0  0⎥\n",
       "⎢                      ⎥\n",
       "⎢0  0  0  0  0  6  0  0⎥\n",
       "⎢                      ⎥\n",
       "⎣0  0  0  0  0  0  7  0⎦"
      ]
     },
     "execution_count": 91,
     "metadata": {},
     "output_type": "execute_result"
    }
   ],
   "source": [
    "with lift_to_matrix_function(g_log_eq.subs({m_sym:m}).doit()) as g_log_fn:\n",
    "    P_log_r = g_log_fn(Z_12)\n",
    "\n",
    "P_log_r.rhs.applyfunc(powsimp)"
   ]
  },
  {
   "cell_type": "code",
   "execution_count": 92,
   "metadata": {
    "collapsed": false,
    "deletable": true,
    "editable": true
   },
   "outputs": [
    {
     "data": {
      "image/png": "[encoded data removed]",
      "text/latex": [
       "$$g{\\left (z \\right )} = - \\begin{cases} - \\log{\\left (z + 1 \\right )} & \\text{for}\\: \\left|{z}\\right| \\leq 1 \\wedge - z \\neq 1 \\\\\\sum_{j=1}^{\\infty} \\frac{\\left(-1\\right)^{j} z^{j}}{j} & \\text{otherwise} \\end{cases}$$"
      ],
      "text/plain": [
       "        ⎛⎧ -log(z + 1)    for │z│ ≤ 1 ∧ -z ≠ 1⎞\n",
       "        ⎜⎪                                    ⎟\n",
       "        ⎜⎪  ∞                                 ⎟\n",
       "        ⎜⎪ ____                               ⎟\n",
       "        ⎜⎪ ╲                                  ⎟\n",
       "        ⎜⎪  ╲       j  j                      ⎟\n",
       "g(z) = -⎜⎨   ╲  (-1) ⋅z                       ⎟\n",
       "        ⎜⎪   ╱  ────────       otherwise      ⎟\n",
       "        ⎜⎪  ╱      j                          ⎟\n",
       "        ⎜⎪ ╱                                  ⎟\n",
       "        ⎜⎪ ‾‾‾‾                               ⎟\n",
       "        ⎜⎪j = 1                               ⎟\n",
       "        ⎝⎩                                    ⎠"
      ]
     },
     "execution_count": 92,
     "metadata": {},
     "output_type": "execute_result"
    }
   ],
   "source": [
    "g_log_eq.subs({m_sym:oo}).doit()"
   ]
  },
  {
   "cell_type": "markdown",
   "metadata": {
    "deletable": true,
    "editable": true
   },
   "source": [
    "## $f(z)=\\sin{z}$"
   ]
  },
  {
   "cell_type": "code",
   "execution_count": 93,
   "metadata": {
    "collapsed": false,
    "deletable": true,
    "editable": true
   },
   "outputs": [
    {
     "data": {
      "image/png": "[encoded data removed]",
      "text/latex": [
       "$$\\left[\\begin{matrix}\\sin{\\left (\\lambda_{1} \\right )} & 0 & 0 & 0 & 0 & 0 & 0 & 0\\\\- \\cos{\\left (\\lambda_{1} \\right )} \\lambda_{1} & \\cos{\\left (\\lambda_{1} \\right )} & 0 & 0 & 0 & 0 & 0 & 0\\\\- \\frac{\\lambda_{1}^{2}}{2} \\sin{\\left (\\lambda_{1} \\right )} & \\sin{\\left (\\lambda_{1} \\right )} \\lambda_{1} & - \\sin{\\left (\\lambda_{1} \\right )} & 0 & 0 & 0 & 0 & 0\\\\\\frac{\\lambda_{1}^{3}}{6} \\cos{\\left (\\lambda_{1} \\right )} & - \\frac{\\lambda_{1}^{2}}{2} \\cos{\\left (\\lambda_{1} \\right )} & \\cos{\\left (\\lambda_{1} \\right )} \\lambda_{1} & - \\cos{\\left (\\lambda_{1} \\right )} & 0 & 0 & 0 & 0\\\\\\frac{\\lambda_{1}^{4}}{24} \\sin{\\left (\\lambda_{1} \\right )} & - \\frac{\\lambda_{1}^{3}}{6} \\sin{\\left (\\lambda_{1} \\right )} & \\frac{\\lambda_{1}^{2}}{2} \\sin{\\left (\\lambda_{1} \\right )} & - \\sin{\\left (\\lambda_{1} \\right )} \\lambda_{1} & \\sin{\\left (\\lambda_{1} \\right )} & 0 & 0 & 0\\\\- \\frac{\\lambda_{1}^{5}}{120} \\cos{\\left (\\lambda_{1} \\right )} & \\frac{\\lambda_{1}^{4}}{24} \\cos{\\left (\\lambda_{1} \\right )} & - \\frac{\\lambda_{1}^{3}}{6} \\cos{\\left (\\lambda_{1} \\right )} & \\frac{\\lambda_{1}^{2}}{2} \\cos{\\left (\\lambda_{1} \\right )} & - \\cos{\\left (\\lambda_{1} \\right )} \\lambda_{1} & \\cos{\\left (\\lambda_{1} \\right )} & 0 & 0\\\\- \\frac{\\lambda_{1}^{6}}{720} \\sin{\\left (\\lambda_{1} \\right )} & \\frac{\\lambda_{1}^{5}}{120} \\sin{\\left (\\lambda_{1} \\right )} & - \\frac{\\lambda_{1}^{4}}{24} \\sin{\\left (\\lambda_{1} \\right )} & \\frac{\\lambda_{1}^{3}}{6} \\sin{\\left (\\lambda_{1} \\right )} & - \\frac{\\lambda_{1}^{2}}{2} \\sin{\\left (\\lambda_{1} \\right )} & \\sin{\\left (\\lambda_{1} \\right )} \\lambda_{1} & - \\sin{\\left (\\lambda_{1} \\right )} & 0\\\\\\frac{\\lambda_{1}^{7}}{5040} \\cos{\\left (\\lambda_{1} \\right )} & - \\frac{\\lambda_{1}^{6}}{720} \\cos{\\left (\\lambda_{1} \\right )} & \\frac{\\lambda_{1}^{5}}{120} \\cos{\\left (\\lambda_{1} \\right )} & - \\frac{\\lambda_{1}^{4}}{24} \\cos{\\left (\\lambda_{1} \\right )} & \\frac{\\lambda_{1}^{3}}{6} \\cos{\\left (\\lambda_{1} \\right )} & - \\frac{\\lambda_{1}^{2}}{2} \\cos{\\left (\\lambda_{1} \\right )} & \\cos{\\left (\\lambda_{1} \\right )} \\lambda_{1} & - \\cos{\\left (\\lambda_{1} \\right )}\\end{matrix}\\right]$$"
      ],
      "text/plain": [
       "⎡       sin(\\lambda[1])                       0                              0\n",
       "⎢                                                                             \n",
       "⎢ -cos(\\lambda[1])⋅\\lambda[1]          cos(\\lambda[1])                       0\n",
       "⎢                                                                             \n",
       "⎢                           2                                                 \n",
       "⎢-sin(\\lambda[1])⋅\\lambda[1]                                                  \n",
       "⎢─────────────────────────────   sin(\\lambda[1])⋅\\lambda[1]          -sin(\\lam\n",
       "⎢              2                                                              \n",
       "⎢                                                                             \n",
       "⎢                           3                              2                  \n",
       "⎢ cos(\\lambda[1])⋅\\lambda[1]    -cos(\\lambda[1])⋅\\lambda[1]                   \n",
       "⎢ ───────────────────────────   ─────────────────────────────   cos(\\lambda[1]\n",
       "⎢              6                              2                               \n",
       "⎢                                                                             \n",
       "⎢                           4                              3                  \n",
       "⎢ sin(\\lambda[1])⋅\\lambda[1]    -sin(\\lambda[1])⋅\\lambda[1]     sin(\\lambda[1]\n",
       "⎢ ───────────────────────────   ─────────────────────────────   ──────────────\n",
       "⎢              24                             6                              2\n",
       "⎢                                                                             \n",
       "⎢                           5                              4                  \n",
       "⎢-cos(\\lambda[1])⋅\\lambda[1]     cos(\\lambda[1])⋅\\lambda[1]    -cos(\\lambda[1]\n",
       "⎢─────────────────────────────   ───────────────────────────   ───────────────\n",
       "⎢             120                             24                             6\n",
       "⎢                                                                             \n",
       "⎢                           6                              5                  \n",
       "⎢-sin(\\lambda[1])⋅\\lambda[1]     sin(\\lambda[1])⋅\\lambda[1]    -sin(\\lambda[1]\n",
       "⎢─────────────────────────────   ───────────────────────────   ───────────────\n",
       "⎢             720                            120                             2\n",
       "⎢                                                                             \n",
       "⎢                           7                              6                  \n",
       "⎢ cos(\\lambda[1])⋅\\lambda[1]    -cos(\\lambda[1])⋅\\lambda[1]     cos(\\lambda[1]\n",
       "⎢ ───────────────────────────   ─────────────────────────────   ──────────────\n",
       "⎣             5040                           720                            12\n",
       "\n",
       "                              0                              0                \n",
       "                                                                              \n",
       "                              0                              0                \n",
       "                                                                              \n",
       "                                                                              \n",
       "                                                                              \n",
       "bda[1])                       0                              0                \n",
       "                                                                              \n",
       "                                                                              \n",
       "                                                                              \n",
       "                                                                              \n",
       ")⋅\\lambda[1]          -cos(\\lambda[1])                       0                \n",
       "                                                                              \n",
       "                                                                              \n",
       "            2                                                                 \n",
       ")⋅\\lambda[1]                                                                  \n",
       "─────────────    -sin(\\lambda[1])⋅\\lambda[1]          sin(\\lambda[1])         \n",
       "                                                                              \n",
       "                                                                              \n",
       "            3                              2                                  \n",
       ")⋅\\lambda[1]     cos(\\lambda[1])⋅\\lambda[1]                                   \n",
       "──────────────   ───────────────────────────    -cos(\\lambda[1])⋅\\lambda[1]   \n",
       "                              2                                               \n",
       "                                                                              \n",
       "            4                              3                              2   \n",
       ")⋅\\lambda[1]     sin(\\lambda[1])⋅\\lambda[1]    -sin(\\lambda[1])⋅\\lambda[1]    \n",
       "──────────────   ───────────────────────────   ─────────────────────────────  \n",
       "4                             6                              2                \n",
       "                                                                              \n",
       "            5                              4                              3   \n",
       ")⋅\\lambda[1]    -cos(\\lambda[1])⋅\\lambda[1]     cos(\\lambda[1])⋅\\lambda[1]    \n",
       "─────────────   ─────────────────────────────   ───────────────────────────   \n",
       "0                             24                             6                \n",
       "\n",
       "              0                            0                      0        ⎤\n",
       "                                                                           ⎥\n",
       "              0                            0                      0        ⎥\n",
       "                                                                           ⎥\n",
       "                                                                           ⎥\n",
       "                                                                           ⎥\n",
       "              0                            0                      0        ⎥\n",
       "                                                                           ⎥\n",
       "                                                                           ⎥\n",
       "                                                                           ⎥\n",
       "                                                                           ⎥\n",
       "              0                            0                      0        ⎥\n",
       "                                                                           ⎥\n",
       "                                                                           ⎥\n",
       "                                                                           ⎥\n",
       "                                                                           ⎥\n",
       "              0                            0                      0        ⎥\n",
       "                                                                           ⎥\n",
       "                                                                           ⎥\n",
       "                                                                           ⎥\n",
       "                                                                           ⎥\n",
       "       cos(\\lambda[1])                     0                      0        ⎥\n",
       "                                                                           ⎥\n",
       "                                                                           ⎥\n",
       "                                                                           ⎥\n",
       "                                                                           ⎥\n",
       " sin(\\lambda[1])⋅\\lambda[1]         -sin(\\lambda[1])              0        ⎥\n",
       "                                                                           ⎥\n",
       "                                                                           ⎥\n",
       "                           2                                               ⎥\n",
       "-cos(\\lambda[1])⋅\\lambda[1]                                                ⎥\n",
       "─────────────────────────────  cos(\\lambda[1])⋅\\lambda[1]  -cos(\\lambda[1])⎥\n",
       "              2                                                            ⎦"
      ]
     },
     "execution_count": 93,
     "metadata": {},
     "output_type": "execute_result"
    }
   ],
   "source": [
    "DE_sin = DE.subs({f:Lambda(t, sin(t))}).applyfunc(lambda i: i.doit().factor())\n",
    "DE_sin"
   ]
  },
  {
   "cell_type": "code",
   "execution_count": null,
   "metadata": {
    "collapsed": false,
    "deletable": true,
    "editable": true
   },
   "outputs": [],
   "source": [
    "production_matrix(DE_sin) # takes long to evaluate"
   ]
  },
  {
   "cell_type": "code",
   "execution_count": 95,
   "metadata": {
    "collapsed": false,
    "deletable": true,
    "editable": true
   },
   "outputs": [
    {
     "data": {
      "image/png": "[encoded data removed]",
      "text/latex": [
       "$$\\left[\\begin{matrix}\\sin{\\left (\\lambda_{1} \\right )}\\\\\\left(z - \\lambda_{1}\\right) \\cos{\\left (\\lambda_{1} \\right )}\\\\- \\frac{1}{2} \\left(z - \\lambda_{1}\\right)^{2} \\sin{\\left (\\lambda_{1} \\right )}\\\\- \\frac{1}{6} \\left(z - \\lambda_{1}\\right)^{3} \\cos{\\left (\\lambda_{1} \\right )}\\\\\\frac{1}{24} \\left(z - \\lambda_{1}\\right)^{4} \\sin{\\left (\\lambda_{1} \\right )}\\\\\\frac{1}{120} \\left(z - \\lambda_{1}\\right)^{5} \\cos{\\left (\\lambda_{1} \\right )}\\\\- \\frac{1}{720} \\left(z - \\lambda_{1}\\right)^{6} \\sin{\\left (\\lambda_{1} \\right )}\\\\- \\frac{1}{5040} \\left(z - \\lambda_{1}\\right)^{7} \\cos{\\left (\\lambda_{1} \\right )}\\end{matrix}\\right]$$"
      ],
      "text/plain": [
       "⎡          sin(\\lambda[1])          ⎤\n",
       "⎢                                   ⎥\n",
       "⎢ (z - \\lambda[1])⋅cos(\\lambda[1])  ⎥\n",
       "⎢                                   ⎥\n",
       "⎢                 2                 ⎥\n",
       "⎢-(z - \\lambda[1]) ⋅sin(\\lambda[1]) ⎥\n",
       "⎢───────────────────────────────────⎥\n",
       "⎢                 2                 ⎥\n",
       "⎢                                   ⎥\n",
       "⎢                 3                 ⎥\n",
       "⎢-(z - \\lambda[1]) ⋅cos(\\lambda[1]) ⎥\n",
       "⎢───────────────────────────────────⎥\n",
       "⎢                 6                 ⎥\n",
       "⎢                                   ⎥\n",
       "⎢                 4                 ⎥\n",
       "⎢ (z - \\lambda[1]) ⋅sin(\\lambda[1]) ⎥\n",
       "⎢ ───────────────────────────────── ⎥\n",
       "⎢                 24                ⎥\n",
       "⎢                                   ⎥\n",
       "⎢                 5                 ⎥\n",
       "⎢ (z - \\lambda[1]) ⋅cos(\\lambda[1]) ⎥\n",
       "⎢ ───────────────────────────────── ⎥\n",
       "⎢                120                ⎥\n",
       "⎢                                   ⎥\n",
       "⎢                 6                 ⎥\n",
       "⎢-(z - \\lambda[1]) ⋅sin(\\lambda[1]) ⎥\n",
       "⎢───────────────────────────────────⎥\n",
       "⎢                720                ⎥\n",
       "⎢                                   ⎥\n",
       "⎢                 7                 ⎥\n",
       "⎢-(z - \\lambda[1]) ⋅cos(\\lambda[1]) ⎥\n",
       "⎢───────────────────────────────────⎥\n",
       "⎣                5040               ⎦"
      ]
     },
     "execution_count": 95,
     "metadata": {},
     "output_type": "execute_result"
    }
   ],
   "source": [
    "DEz = (DE_sin* z_expt).applyfunc(lambda i: i.doit().factor())\n",
    "DEz"
   ]
  },
  {
   "cell_type": "code",
   "execution_count": 96,
   "metadata": {
    "collapsed": false,
    "deletable": true,
    "editable": true
   },
   "outputs": [
    {
     "data": {
      "image/png": "[encoded data removed]",
      "text/latex": [
       "$$g{\\left (z \\right )} = - \\frac{1}{5040} \\left(z - 1\\right)^{7} \\cos{\\left (1 \\right )} - \\frac{1}{720} \\left(z - 1\\right)^{6} \\sin{\\left (1 \\right )} + \\frac{1}{120} \\left(z - 1\\right)^{5} \\cos{\\left (1 \\right )} + \\frac{1}{24} \\left(z - 1\\right)^{4} \\sin{\\left (1 \\right )} - \\frac{1}{6} \\left(z - 1\\right)^{3} \\cos{\\left (1 \\right )} - \\frac{1}{2} \\left(z - 1\\right)^{2} \\sin{\\left (1 \\right )} + \\left(z - 1\\right) \\cos{\\left (1 \\right )} + \\sin{\\left (1 \\right )}$$"
      ],
      "text/plain": [
       "                7                 6                 5                 4       \n",
       "         (z - 1) ⋅cos(1)   (z - 1) ⋅sin(1)   (z - 1) ⋅cos(1)   (z - 1) ⋅sin(1)\n",
       "g(z) = - ─────────────── - ─────────────── + ─────────────── + ───────────────\n",
       "               5040              720               120                24      \n",
       "\n",
       "          3                 2                                 \n",
       "   (z - 1) ⋅cos(1)   (z - 1) ⋅sin(1)                          \n",
       " - ─────────────── - ─────────────── + (z - 1)⋅cos(1) + sin(1)\n",
       "          6                 2                                 "
      ]
     },
     "execution_count": 96,
     "metadata": {},
     "output_type": "execute_result"
    }
   ],
   "source": [
    "g_v = ones(1, m) * DEz\n",
    "g_sin = Eq(g(z), g_v[0,0].collect(z), evaluate=False)\n",
    "g_sin.subs(eigenvals)"
   ]
  },
  {
   "cell_type": "code",
   "execution_count": 100,
   "metadata": {
    "collapsed": false,
    "deletable": true,
    "editable": true
   },
   "outputs": [
    {
     "data": {
      "image/png": "[encoded data removed]",
      "text/latex": [
       "$$\\left[\\begin{matrix}- \\frac{4241}{5040} \\cos{\\left (1 \\right )} + \\frac{389}{720} \\sin{\\left (1 \\right )} & 0 & 0 & 0 & 0 & 0 & 0 & 0\\\\\\frac{389}{720} \\cos{\\left (1 \\right )} + \\frac{101}{120} \\sin{\\left (1 \\right )} & - \\frac{4241}{5040} \\cos{\\left (1 \\right )} + \\frac{389}{720} \\sin{\\left (1 \\right )} & 0 & 0 & 0 & 0 & 0 & 0\\\\\\frac{3}{10} \\sin{\\left (1 \\right )} + \\frac{199}{144} \\cos{\\left (1 \\right )} & \\frac{389}{360} \\cos{\\left (1 \\right )} + \\frac{101}{60} \\sin{\\left (1 \\right )} & - \\frac{4241}{5040} \\cos{\\left (1 \\right )} + \\frac{389}{720} \\sin{\\left (1 \\right )} & 0 & 0 & 0 & 0 & 0\\\\- \\frac{97}{60} \\sin{\\left (1 \\right )} + \\frac{1817}{720} \\cos{\\left (1 \\right )} & \\frac{9}{10} \\sin{\\left (1 \\right )} + \\frac{199}{48} \\cos{\\left (1 \\right )} & \\frac{389}{240} \\cos{\\left (1 \\right )} + \\frac{101}{40} \\sin{\\left (1 \\right )} & - \\frac{4241}{5040} \\cos{\\left (1 \\right )} + \\frac{389}{720} \\sin{\\left (1 \\right )} & 0 & 0 & 0 & 0\\\\- \\frac{149}{20} \\sin{\\left (1 \\right )} + \\frac{1691}{720} \\cos{\\left (1 \\right )} & - \\frac{97}{15} \\sin{\\left (1 \\right )} + \\frac{1817}{180} \\cos{\\left (1 \\right )} & \\frac{9}{5} \\sin{\\left (1 \\right )} + \\frac{199}{24} \\cos{\\left (1 \\right )} & \\frac{389}{180} \\cos{\\left (1 \\right )} + \\frac{101}{30} \\sin{\\left (1 \\right )} & - \\frac{4241}{5040} \\cos{\\left (1 \\right )} + \\frac{389}{720} \\sin{\\left (1 \\right )} & 0 & 0 & 0\\\\- \\frac{1327}{60} \\sin{\\left (1 \\right )} - \\frac{5911}{720} \\cos{\\left (1 \\right )} & - \\frac{149}{4} \\sin{\\left (1 \\right )} + \\frac{1691}{144} \\cos{\\left (1 \\right )} & - \\frac{97}{6} \\sin{\\left (1 \\right )} + \\frac{1817}{72} \\cos{\\left (1 \\right )} & 3 \\sin{\\left (1 \\right )} + \\frac{995}{72} \\cos{\\left (1 \\right )} & \\frac{389}{144} \\cos{\\left (1 \\right )} + \\frac{101}{24} \\sin{\\left (1 \\right )} & - \\frac{4241}{5040} \\cos{\\left (1 \\right )} + \\frac{389}{720} \\sin{\\left (1 \\right )} & 0 & 0\\\\- \\frac{889}{20} \\sin{\\left (1 \\right )} - \\frac{9761}{144} \\cos{\\left (1 \\right )} & - \\frac{1327}{10} \\sin{\\left (1 \\right )} - \\frac{5911}{120} \\cos{\\left (1 \\right )} & - \\frac{447}{4} \\sin{\\left (1 \\right )} + \\frac{1691}{48} \\cos{\\left (1 \\right )} & - \\frac{97}{3} \\sin{\\left (1 \\right )} + \\frac{1817}{36} \\cos{\\left (1 \\right )} & \\frac{9}{2} \\sin{\\left (1 \\right )} + \\frac{995}{48} \\cos{\\left (1 \\right )} & \\frac{389}{120} \\cos{\\left (1 \\right )} + \\frac{101}{20} \\sin{\\left (1 \\right )} & - \\frac{4241}{5040} \\cos{\\left (1 \\right )} + \\frac{389}{720} \\sin{\\left (1 \\right )} & 0\\\\- \\frac{224023}{720} \\cos{\\left (1 \\right )} + \\frac{593}{60} \\sin{\\left (1 \\right )} & - \\frac{6223}{20} \\sin{\\left (1 \\right )} - \\frac{68327}{144} \\cos{\\left (1 \\right )} & - \\frac{9289}{20} \\sin{\\left (1 \\right )} - \\frac{41377}{240} \\cos{\\left (1 \\right )} & - \\frac{1043}{4} \\sin{\\left (1 \\right )} + \\frac{11837}{144} \\cos{\\left (1 \\right )} & - \\frac{679}{12} \\sin{\\left (1 \\right )} + \\frac{12719}{144} \\cos{\\left (1 \\right )} & \\frac{63}{10} \\sin{\\left (1 \\right )} + \\frac{1393}{48} \\cos{\\left (1 \\right )} & \\frac{2723}{720} \\cos{\\left (1 \\right )} + \\frac{707}{120} \\sin{\\left (1 \\right )} & - \\frac{4241}{5040} \\cos{\\left (1 \\right )} + \\frac{389}{720} \\sin{\\left (1 \\right )}\\end{matrix}\\right]$$"
      ],
      "text/plain": [
       "⎡   4241⋅cos(1)   389⋅sin(1)                                                  \n",
       "⎢ - ─────────── + ──────────                0                             0   \n",
       "⎢       5040         720                                                      \n",
       "⎢                                                                             \n",
       "⎢  389⋅cos(1)   101⋅sin(1)        4241⋅cos(1)   389⋅sin(1)                    \n",
       "⎢  ────────── + ──────────      - ─────────── + ──────────                0   \n",
       "⎢     720          120                5040         720                        \n",
       "⎢                                                                             \n",
       "⎢   3⋅sin(1)   199⋅cos(1)        389⋅cos(1)   101⋅sin(1)        4241⋅cos(1)   \n",
       "⎢   ──────── + ──────────        ────────── + ──────────      - ─────────── + \n",
       "⎢      10         144               360           60                5040      \n",
       "⎢                                                                             \n",
       "⎢   97⋅sin(1)   1817⋅cos(1)       9⋅sin(1)   199⋅cos(1)        389⋅cos(1)   10\n",
       "⎢ - ───────── + ───────────       ──────── + ──────────        ────────── + ──\n",
       "⎢       60          720              10          48               240         \n",
       "⎢                                                                             \n",
       "⎢   149⋅sin(1)   1691⋅cos(1)      97⋅sin(1)   1817⋅cos(1)       9⋅sin(1)   199\n",
       "⎢ - ────────── + ───────────    - ───────── + ───────────       ──────── + ───\n",
       "⎢       20           720              15          180              5          \n",
       "⎢                                                                             \n",
       "⎢  1327⋅sin(1)   5911⋅cos(1)      149⋅sin(1)   1691⋅cos(1)      97⋅sin(1)   18\n",
       "⎢- ─────────── - ───────────    - ────────── + ───────────    - ───────── + ──\n",
       "⎢       60           720              4            144              6         \n",
       "⎢                                                                             \n",
       "⎢   889⋅sin(1)   9761⋅cos(1)     1327⋅sin(1)   5911⋅cos(1)      447⋅sin(1)   1\n",
       "⎢ - ────────── - ───────────   - ─────────── - ───────────    - ────────── + ─\n",
       "⎢       20           144              10           120              4         \n",
       "⎢                                                                             \n",
       "⎢  224023⋅cos(1)   593⋅sin(1)    6223⋅sin(1)   68327⋅cos(1)    9289⋅sin(1)   4\n",
       "⎢- ───────────── + ──────────  - ─────────── - ────────────  - ─────────── - ─\n",
       "⎣       720            60             20           144              20        \n",
       "\n",
       "                                                                              \n",
       "                          0                             0                     \n",
       "                                                                              \n",
       "                                                                              \n",
       "                                                                              \n",
       "                          0                             0                     \n",
       "                                                                              \n",
       "                                                                              \n",
       "389⋅sin(1)                                                                    \n",
       "──────────                0                             0                     \n",
       "   720                                                                        \n",
       "                                                                              \n",
       "1⋅sin(1)        4241⋅cos(1)   389⋅sin(1)                                      \n",
       "────────      - ─────────── + ──────────                0                     \n",
       "  40                5040         720                                          \n",
       "                                                                              \n",
       "⋅cos(1)        389⋅cos(1)   101⋅sin(1)       4241⋅cos(1)   389⋅sin(1)         \n",
       "───────        ────────── + ──────────     - ─────────── + ──────────         \n",
       " 24               180           30               5040         720             \n",
       "                                                                              \n",
       "17⋅cos(1)                  995⋅cos(1)        389⋅cos(1)   101⋅sin(1)      4241\n",
       "─────────       3⋅sin(1) + ──────────        ────────── + ──────────    - ────\n",
       "   72                          72               144           24              \n",
       "                                                                              \n",
       "691⋅cos(1)      97⋅sin(1)   1817⋅cos(1)       9⋅sin(1)   995⋅cos(1)      389⋅c\n",
       "──────────    - ───────── + ───────────       ──────── + ──────────      ─────\n",
       "    48              3            36              2           48             12\n",
       "                                                                              \n",
       "1377⋅cos(1)    1043⋅sin(1)   11837⋅cos(1)    679⋅sin(1)   12719⋅cos(1)   63⋅si\n",
       "───────────  - ─────────── + ────────────  - ────────── + ────────────   ─────\n",
       "   240              4            144             12           144            1\n",
       "\n",
       "                                                                            ⎤\n",
       "      0                           0                           0             ⎥\n",
       "                                                                            ⎥\n",
       "                                                                            ⎥\n",
       "                                                                            ⎥\n",
       "      0                           0                           0             ⎥\n",
       "                                                                            ⎥\n",
       "                                                                            ⎥\n",
       "                                                                            ⎥\n",
       "      0                           0                           0             ⎥\n",
       "                                                                            ⎥\n",
       "                                                                            ⎥\n",
       "                                                                            ⎥\n",
       "      0                           0                           0             ⎥\n",
       "                                                                            ⎥\n",
       "                                                                            ⎥\n",
       "                                                                            ⎥\n",
       "      0                           0                           0             ⎥\n",
       "                                                                            ⎥\n",
       "                                                                            ⎥\n",
       "⋅cos(1)   389⋅sin(1)                                                        ⎥\n",
       "─────── + ──────────              0                           0             ⎥\n",
       "5040         720                                                            ⎥\n",
       "                                                                            ⎥\n",
       "os(1)   101⋅sin(1)      4241⋅cos(1)   389⋅sin(1)                            ⎥\n",
       "───── + ──────────    - ─────────── + ──────────              0             ⎥\n",
       "0           20              5040         720                                ⎥\n",
       "                                                                            ⎥\n",
       "n(1)   1393⋅cos(1)     2723⋅cos(1)   707⋅sin(1)     4241⋅cos(1)   389⋅sin(1)⎥\n",
       "──── + ───────────     ─────────── + ──────────   - ─────────── + ──────────⎥\n",
       "0           48             720          120             5040         720    ⎦"
      ]
     },
     "execution_count": 100,
     "metadata": {},
     "output_type": "execute_result"
    }
   ],
   "source": [
    "with lift_to_matrix_function(g_sin) as _g_sin:\n",
    "    P_sin = _g_sin(Z_12).rhs.subs(eigenvals).applyfunc(trigsimp)\n",
    "\n",
    "P_sin"
   ]
  },
  {
   "cell_type": "code",
   "execution_count": 101,
   "metadata": {
    "collapsed": false,
    "deletable": true,
    "editable": true
   },
   "outputs": [
    {
     "data": {
      "image/png": "[encoded data removed]",
      "text/latex": [
       "$$\\sin{\\left (1 \\right )} + \\left(z - 1\\right) \\cos{\\left (1 \\right )} - \\frac{1}{2} \\left(z - 1\\right)^{2} \\sin{\\left (1 \\right )} - \\frac{1}{6} \\left(z - 1\\right)^{3} \\cos{\\left (1 \\right )} + \\frac{1}{24} \\left(z - 1\\right)^{4} \\sin{\\left (1 \\right )} + \\frac{1}{120} \\left(z - 1\\right)^{5} \\cos{\\left (1 \\right )} - \\frac{1}{720} \\left(z - 1\\right)^{6} \\sin{\\left (1 \\right )} - \\frac{1}{5040} \\left(z - 1\\right)^{7} \\cos{\\left (1 \\right )} + \\frac{1}{40320} \\left(z - 1\\right)^{8} \\sin{\\left (1 \\right )} + \\frac{1}{362880} \\left(z - 1\\right)^{9} \\cos{\\left (1 \\right )} + \\mathcal{O}\\left(\\left(z - 1\\right)^{10}; z\\rightarrow 1\\right)$$"
      ],
      "text/plain": [
       "                                 2                 3                 4        \n",
       "                          (z - 1) ⋅sin(1)   (z - 1) ⋅cos(1)   (z - 1) ⋅sin(1) \n",
       "sin(1) + (z - 1)⋅cos(1) - ─────────────── - ─────────────── + ─────────────── \n",
       "                                 2                 6                 24       \n",
       "\n",
       "         5                 6                 7                 8              \n",
       "  (z - 1) ⋅cos(1)   (z - 1) ⋅sin(1)   (z - 1) ⋅cos(1)   (z - 1) ⋅sin(1)   (z -\n",
       "+ ─────────────── - ─────────────── - ─────────────── + ─────────────── + ────\n",
       "        120               720               5040             40320            \n",
       "\n",
       "   9                             \n",
       " 1) ⋅cos(1)    ⎛       10       ⎞\n",
       "─────────── + O⎝(z - 1)  ; z → 1⎠\n",
       " 362880                          "
      ]
     },
     "execution_count": 101,
     "metadata": {},
     "output_type": "execute_result"
    }
   ],
   "source": [
    "sin(z).series(z, 1,n=10)"
   ]
  },
  {
   "cell_type": "markdown",
   "metadata": {
    "deletable": true,
    "editable": true
   },
   "source": [
    "## $f(z)=\\cos{z}$"
   ]
  },
  {
   "cell_type": "code",
   "execution_count": 102,
   "metadata": {
    "collapsed": false,
    "deletable": true,
    "editable": true
   },
   "outputs": [
    {
     "data": {
      "image/png": "[encoded data removed]",
      "text/latex": [
       "$$\\left[\\begin{matrix}\\cos{\\left (\\lambda_{1} \\right )} & 0 & 0 & 0 & 0 & 0 & 0 & 0\\\\\\sin{\\left (\\lambda_{1} \\right )} \\lambda_{1} & - \\sin{\\left (\\lambda_{1} \\right )} & 0 & 0 & 0 & 0 & 0 & 0\\\\- \\frac{\\lambda_{1}^{2}}{2} \\cos{\\left (\\lambda_{1} \\right )} & \\cos{\\left (\\lambda_{1} \\right )} \\lambda_{1} & - \\cos{\\left (\\lambda_{1} \\right )} & 0 & 0 & 0 & 0 & 0\\\\- \\frac{\\lambda_{1}^{3}}{6} \\sin{\\left (\\lambda_{1} \\right )} & \\frac{\\lambda_{1}^{2}}{2} \\sin{\\left (\\lambda_{1} \\right )} & - \\sin{\\left (\\lambda_{1} \\right )} \\lambda_{1} & \\sin{\\left (\\lambda_{1} \\right )} & 0 & 0 & 0 & 0\\\\\\frac{\\lambda_{1}^{4}}{24} \\cos{\\left (\\lambda_{1} \\right )} & - \\frac{\\lambda_{1}^{3}}{6} \\cos{\\left (\\lambda_{1} \\right )} & \\frac{\\lambda_{1}^{2}}{2} \\cos{\\left (\\lambda_{1} \\right )} & - \\cos{\\left (\\lambda_{1} \\right )} \\lambda_{1} & \\cos{\\left (\\lambda_{1} \\right )} & 0 & 0 & 0\\\\\\frac{\\lambda_{1}^{5}}{120} \\sin{\\left (\\lambda_{1} \\right )} & - \\frac{\\lambda_{1}^{4}}{24} \\sin{\\left (\\lambda_{1} \\right )} & \\frac{\\lambda_{1}^{3}}{6} \\sin{\\left (\\lambda_{1} \\right )} & - \\frac{\\lambda_{1}^{2}}{2} \\sin{\\left (\\lambda_{1} \\right )} & \\sin{\\left (\\lambda_{1} \\right )} \\lambda_{1} & - \\sin{\\left (\\lambda_{1} \\right )} & 0 & 0\\\\- \\frac{\\lambda_{1}^{6}}{720} \\cos{\\left (\\lambda_{1} \\right )} & \\frac{\\lambda_{1}^{5}}{120} \\cos{\\left (\\lambda_{1} \\right )} & - \\frac{\\lambda_{1}^{4}}{24} \\cos{\\left (\\lambda_{1} \\right )} & \\frac{\\lambda_{1}^{3}}{6} \\cos{\\left (\\lambda_{1} \\right )} & - \\frac{\\lambda_{1}^{2}}{2} \\cos{\\left (\\lambda_{1} \\right )} & \\cos{\\left (\\lambda_{1} \\right )} \\lambda_{1} & - \\cos{\\left (\\lambda_{1} \\right )} & 0\\\\- \\frac{\\lambda_{1}^{7}}{5040} \\sin{\\left (\\lambda_{1} \\right )} & \\frac{\\lambda_{1}^{6}}{720} \\sin{\\left (\\lambda_{1} \\right )} & - \\frac{\\lambda_{1}^{5}}{120} \\sin{\\left (\\lambda_{1} \\right )} & \\frac{\\lambda_{1}^{4}}{24} \\sin{\\left (\\lambda_{1} \\right )} & - \\frac{\\lambda_{1}^{3}}{6} \\sin{\\left (\\lambda_{1} \\right )} & \\frac{\\lambda_{1}^{2}}{2} \\sin{\\left (\\lambda_{1} \\right )} & - \\sin{\\left (\\lambda_{1} \\right )} \\lambda_{1} & \\sin{\\left (\\lambda_{1} \\right )}\\end{matrix}\\right]$$"
      ],
      "text/plain": [
       "⎡       cos(\\lambda[1])                       0                              0\n",
       "⎢                                                                             \n",
       "⎢ sin(\\lambda[1])⋅\\lambda[1]          -sin(\\lambda[1])                       0\n",
       "⎢                                                                             \n",
       "⎢                           2                                                 \n",
       "⎢-cos(\\lambda[1])⋅\\lambda[1]                                                  \n",
       "⎢─────────────────────────────   cos(\\lambda[1])⋅\\lambda[1]          -cos(\\lam\n",
       "⎢              2                                                              \n",
       "⎢                                                                             \n",
       "⎢                           3                              2                  \n",
       "⎢-sin(\\lambda[1])⋅\\lambda[1]     sin(\\lambda[1])⋅\\lambda[1]                   \n",
       "⎢─────────────────────────────   ───────────────────────────    -sin(\\lambda[1\n",
       "⎢              6                              2                               \n",
       "⎢                                                                             \n",
       "⎢                           4                              3                  \n",
       "⎢ cos(\\lambda[1])⋅\\lambda[1]    -cos(\\lambda[1])⋅\\lambda[1]     cos(\\lambda[1]\n",
       "⎢ ───────────────────────────   ─────────────────────────────   ──────────────\n",
       "⎢              24                             6                              2\n",
       "⎢                                                                             \n",
       "⎢                           5                              4                  \n",
       "⎢ sin(\\lambda[1])⋅\\lambda[1]    -sin(\\lambda[1])⋅\\lambda[1]     sin(\\lambda[1]\n",
       "⎢ ───────────────────────────   ─────────────────────────────   ──────────────\n",
       "⎢             120                             24                             6\n",
       "⎢                                                                             \n",
       "⎢                           6                              5                  \n",
       "⎢-cos(\\lambda[1])⋅\\lambda[1]     cos(\\lambda[1])⋅\\lambda[1]    -cos(\\lambda[1]\n",
       "⎢─────────────────────────────   ───────────────────────────   ───────────────\n",
       "⎢             720                            120                             2\n",
       "⎢                                                                             \n",
       "⎢                           7                              6                  \n",
       "⎢-sin(\\lambda[1])⋅\\lambda[1]     sin(\\lambda[1])⋅\\lambda[1]    -sin(\\lambda[1]\n",
       "⎢─────────────────────────────   ───────────────────────────   ───────────────\n",
       "⎣             5040                           720                            12\n",
       "\n",
       "                              0                              0                \n",
       "                                                                              \n",
       "                              0                              0                \n",
       "                                                                              \n",
       "                                                                              \n",
       "                                                                              \n",
       "bda[1])                       0                              0                \n",
       "                                                                              \n",
       "                                                                              \n",
       "                                                                              \n",
       "                                                                              \n",
       "])⋅\\lambda[1]          sin(\\lambda[1])                       0                \n",
       "                                                                              \n",
       "                                                                              \n",
       "            2                                                                 \n",
       ")⋅\\lambda[1]                                                                  \n",
       "─────────────    -cos(\\lambda[1])⋅\\lambda[1]          cos(\\lambda[1])         \n",
       "                                                                              \n",
       "                                                                              \n",
       "            3                              2                                  \n",
       ")⋅\\lambda[1]    -sin(\\lambda[1])⋅\\lambda[1]                                   \n",
       "─────────────   ─────────────────────────────   sin(\\lambda[1])⋅\\lambda[1]    \n",
       "                              2                                               \n",
       "                                                                              \n",
       "            4                              3                              2   \n",
       ")⋅\\lambda[1]     cos(\\lambda[1])⋅\\lambda[1]    -cos(\\lambda[1])⋅\\lambda[1]    \n",
       "──────────────   ───────────────────────────   ─────────────────────────────  \n",
       "4                             6                              2                \n",
       "                                                                              \n",
       "            5                              4                              3   \n",
       ")⋅\\lambda[1]     sin(\\lambda[1])⋅\\lambda[1]    -sin(\\lambda[1])⋅\\lambda[1]    \n",
       "──────────────   ───────────────────────────   ─────────────────────────────  \n",
       "0                             24                             6                \n",
       "\n",
       "             0                            0                      0       ⎤\n",
       "                                                                         ⎥\n",
       "             0                            0                      0       ⎥\n",
       "                                                                         ⎥\n",
       "                                                                         ⎥\n",
       "                                                                         ⎥\n",
       "             0                            0                      0       ⎥\n",
       "                                                                         ⎥\n",
       "                                                                         ⎥\n",
       "                                                                         ⎥\n",
       "                                                                         ⎥\n",
       "             0                            0                      0       ⎥\n",
       "                                                                         ⎥\n",
       "                                                                         ⎥\n",
       "                                                                         ⎥\n",
       "                                                                         ⎥\n",
       "             0                            0                      0       ⎥\n",
       "                                                                         ⎥\n",
       "                                                                         ⎥\n",
       "                                                                         ⎥\n",
       "                                                                         ⎥\n",
       "     -sin(\\lambda[1])                     0                      0       ⎥\n",
       "                                                                         ⎥\n",
       "                                                                         ⎥\n",
       "                                                                         ⎥\n",
       "                                                                         ⎥\n",
       "cos(\\lambda[1])⋅\\lambda[1]        -cos(\\lambda[1])               0       ⎥\n",
       "                                                                         ⎥\n",
       "                                                                         ⎥\n",
       "                          2                                              ⎥\n",
       "sin(\\lambda[1])⋅\\lambda[1]                                               ⎥\n",
       "───────────────────────────  -sin(\\lambda[1])⋅\\lambda[1]  sin(\\lambda[1])⎥\n",
       "             2                                                           ⎦"
      ]
     },
     "execution_count": 102,
     "metadata": {},
     "output_type": "execute_result"
    }
   ],
   "source": [
    "DE_cos = DE.subs({f:Lambda(t, cos(t))}).applyfunc(lambda i: i.doit().factor())\n",
    "DE_cos"
   ]
  },
  {
   "cell_type": "code",
   "execution_count": null,
   "metadata": {
    "collapsed": false,
    "deletable": true,
    "editable": true
   },
   "outputs": [],
   "source": [
    "production_matrix(DE_cos) # takes long to evaluate"
   ]
  },
  {
   "cell_type": "code",
   "execution_count": 104,
   "metadata": {
    "collapsed": false,
    "deletable": true,
    "editable": true
   },
   "outputs": [
    {
     "data": {
      "image/png": "[encoded data removed]",
      "text/latex": [
       "$$\\left[\\begin{matrix}\\cos{\\left (\\lambda_{1} \\right )}\\\\- \\left(z - \\lambda_{1}\\right) \\sin{\\left (\\lambda_{1} \\right )}\\\\- \\frac{1}{2} \\left(z - \\lambda_{1}\\right)^{2} \\cos{\\left (\\lambda_{1} \\right )}\\\\\\frac{1}{6} \\left(z - \\lambda_{1}\\right)^{3} \\sin{\\left (\\lambda_{1} \\right )}\\\\\\frac{1}{24} \\left(z - \\lambda_{1}\\right)^{4} \\cos{\\left (\\lambda_{1} \\right )}\\\\- \\frac{1}{120} \\left(z - \\lambda_{1}\\right)^{5} \\sin{\\left (\\lambda_{1} \\right )}\\\\- \\frac{1}{720} \\left(z - \\lambda_{1}\\right)^{6} \\cos{\\left (\\lambda_{1} \\right )}\\\\\\frac{1}{5040} \\left(z - \\lambda_{1}\\right)^{7} \\sin{\\left (\\lambda_{1} \\right )}\\end{matrix}\\right]$$"
      ],
      "text/plain": [
       "⎡          cos(\\lambda[1])          ⎤\n",
       "⎢                                   ⎥\n",
       "⎢ -(z - \\lambda[1])⋅sin(\\lambda[1]) ⎥\n",
       "⎢                                   ⎥\n",
       "⎢                 2                 ⎥\n",
       "⎢-(z - \\lambda[1]) ⋅cos(\\lambda[1]) ⎥\n",
       "⎢───────────────────────────────────⎥\n",
       "⎢                 2                 ⎥\n",
       "⎢                                   ⎥\n",
       "⎢                 3                 ⎥\n",
       "⎢ (z - \\lambda[1]) ⋅sin(\\lambda[1]) ⎥\n",
       "⎢ ───────────────────────────────── ⎥\n",
       "⎢                 6                 ⎥\n",
       "⎢                                   ⎥\n",
       "⎢                 4                 ⎥\n",
       "⎢ (z - \\lambda[1]) ⋅cos(\\lambda[1]) ⎥\n",
       "⎢ ───────────────────────────────── ⎥\n",
       "⎢                 24                ⎥\n",
       "⎢                                   ⎥\n",
       "⎢                 5                 ⎥\n",
       "⎢-(z - \\lambda[1]) ⋅sin(\\lambda[1]) ⎥\n",
       "⎢───────────────────────────────────⎥\n",
       "⎢                120                ⎥\n",
       "⎢                                   ⎥\n",
       "⎢                 6                 ⎥\n",
       "⎢-(z - \\lambda[1]) ⋅cos(\\lambda[1]) ⎥\n",
       "⎢───────────────────────────────────⎥\n",
       "⎢                720                ⎥\n",
       "⎢                                   ⎥\n",
       "⎢                 7                 ⎥\n",
       "⎢ (z - \\lambda[1]) ⋅sin(\\lambda[1]) ⎥\n",
       "⎢ ───────────────────────────────── ⎥\n",
       "⎣                5040               ⎦"
      ]
     },
     "execution_count": 104,
     "metadata": {},
     "output_type": "execute_result"
    }
   ],
   "source": [
    "DEz = (DE_cos* z_expt).applyfunc(lambda i: i.doit().factor())\n",
    "DEz"
   ]
  },
  {
   "cell_type": "code",
   "execution_count": 105,
   "metadata": {
    "collapsed": false,
    "deletable": true,
    "editable": true
   },
   "outputs": [
    {
     "data": {
      "image/png": "[encoded data removed]",
      "text/latex": [
       "$$g{\\left (z \\right )} = \\frac{1}{5040} \\left(z - \\lambda_{1}\\right)^{7} \\sin{\\left (\\lambda_{1} \\right )} - \\frac{1}{720} \\left(z - \\lambda_{1}\\right)^{6} \\cos{\\left (\\lambda_{1} \\right )} - \\frac{1}{120} \\left(z - \\lambda_{1}\\right)^{5} \\sin{\\left (\\lambda_{1} \\right )} + \\frac{1}{24} \\left(z - \\lambda_{1}\\right)^{4} \\cos{\\left (\\lambda_{1} \\right )} + \\frac{1}{6} \\left(z - \\lambda_{1}\\right)^{3} \\sin{\\left (\\lambda_{1} \\right )} - \\frac{1}{2} \\left(z - \\lambda_{1}\\right)^{2} \\cos{\\left (\\lambda_{1} \\right )} - \\left(z - \\lambda_{1}\\right) \\sin{\\left (\\lambda_{1} \\right )} + \\cos{\\left (\\lambda_{1} \\right )}$$"
      ],
      "text/plain": [
       "                       7                                   6                  \n",
       "       (z - \\lambda[1]) ⋅sin(\\lambda[1])   (z - \\lambda[1]) ⋅cos(\\lambda[1])  \n",
       "g(z) = ───────────────────────────────── - ───────────────────────────────── -\n",
       "                      5040                                720                 \n",
       "\n",
       "                 5                                   4                        \n",
       " (z - \\lambda[1]) ⋅sin(\\lambda[1])   (z - \\lambda[1]) ⋅cos(\\lambda[1])   (z - \n",
       " ───────────────────────────────── + ───────────────────────────────── + ─────\n",
       "                120                                  24                       \n",
       "\n",
       "           3                                   2                              \n",
       "\\lambda[1]) ⋅sin(\\lambda[1])   (z - \\lambda[1]) ⋅cos(\\lambda[1])              \n",
       "──────────────────────────── - ───────────────────────────────── - (z - \\lambd\n",
       "           6                                   2                              \n",
       "\n",
       "                                       \n",
       "                                       \n",
       "a[1])⋅sin(\\lambda[1]) + cos(\\lambda[1])\n",
       "                                       "
      ]
     },
     "execution_count": 105,
     "metadata": {},
     "output_type": "execute_result"
    }
   ],
   "source": [
    "g_v = ones(1, m) * DEz\n",
    "Eq(g(z), g_v[0,0].collect(z), evaluate=False)"
   ]
  },
  {
   "cell_type": "code",
   "execution_count": 106,
   "metadata": {
    "collapsed": false,
    "deletable": true,
    "editable": true
   },
   "outputs": [
    {
     "data": {
      "image/png": "[encoded data removed]",
      "text/latex": [
       "$$\\cos{\\left (1 \\right )} - \\left(z - 1\\right) \\sin{\\left (1 \\right )} - \\frac{1}{2} \\left(z - 1\\right)^{2} \\cos{\\left (1 \\right )} + \\frac{1}{6} \\left(z - 1\\right)^{3} \\sin{\\left (1 \\right )} + \\frac{1}{24} \\left(z - 1\\right)^{4} \\cos{\\left (1 \\right )} - \\frac{1}{120} \\left(z - 1\\right)^{5} \\sin{\\left (1 \\right )} - \\frac{1}{720} \\left(z - 1\\right)^{6} \\cos{\\left (1 \\right )} + \\frac{1}{5040} \\left(z - 1\\right)^{7} \\sin{\\left (1 \\right )} + \\frac{1}{40320} \\left(z - 1\\right)^{8} \\cos{\\left (1 \\right )} - \\frac{1}{362880} \\left(z - 1\\right)^{9} \\sin{\\left (1 \\right )} + \\mathcal{O}\\left(\\left(z - 1\\right)^{10}; z\\rightarrow 1\\right)$$"
      ],
      "text/plain": [
       "                                 2                 3                 4        \n",
       "                          (z - 1) ⋅cos(1)   (z - 1) ⋅sin(1)   (z - 1) ⋅cos(1) \n",
       "cos(1) - (z - 1)⋅sin(1) - ─────────────── + ─────────────── + ─────────────── \n",
       "                                 2                 6                 24       \n",
       "\n",
       "         5                 6                 7                 8              \n",
       "  (z - 1) ⋅sin(1)   (z - 1) ⋅cos(1)   (z - 1) ⋅sin(1)   (z - 1) ⋅cos(1)   (z -\n",
       "- ─────────────── - ─────────────── + ─────────────── + ─────────────── - ────\n",
       "        120               720               5040             40320            \n",
       "\n",
       "   9                             \n",
       " 1) ⋅sin(1)    ⎛       10       ⎞\n",
       "─────────── + O⎝(z - 1)  ; z → 1⎠\n",
       " 362880                          "
      ]
     },
     "execution_count": 106,
     "metadata": {},
     "output_type": "execute_result"
    }
   ],
   "source": [
    "cos(z).series(z, 1,n=10)"
   ]
  },
  {
   "cell_type": "markdown",
   "metadata": {
    "deletable": true,
    "editable": true
   },
   "source": [
    "---\n",
    "<a rel=\"license\" href=\"http://creativecommons.org/licenses/by-nc-sa/4.0/\"><img alt=\"Creative Commons License\" style=\"border-width:0\" src=\"https://i.creativecommons.org/l/by-nc-sa/4.0/88x31.png\" /></a><br />This work is licensed under a <a rel=\"license\" href=\"http://creativecommons.org/licenses/by-nc-sa/4.0/\">Creative Commons Attribution-NonCommercial-ShareAlike 4.0 International License</a>."
   ]
  }
 ],
 "metadata": {
  "kernelspec": {
   "display_name": "Python 3",
   "language": "python",
   "name": "python3"
  },
  "language_info": {
   "codemirror_mode": {
    "name": "ipython",
    "version": 3
   },
   "file_extension": ".py",
   "mimetype": "text/x-python",
   "name": "python",
   "nbconvert_exporter": "python",
   "pygments_lexer": "ipython3",
   "version": "3.6.0"
  }
 },
 "nbformat": 4,
 "nbformat_minor": 2
}
