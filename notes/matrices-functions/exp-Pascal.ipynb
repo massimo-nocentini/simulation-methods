{
 "cells": [
  {
   "cell_type": "markdown",
   "metadata": {
    "deletable": true,
    "editable": true
   },
   "source": [
    "<p>\n",
    "<img src=\"http://www.cerm.unifi.it/chianti/images/logo%20unifi_positivo.jpg\" \n",
    "        alt=\"UniFI logo\" style=\"float: left; width: 20%; height: 20%;\">\n",
    "<div align=\"right\">\n",
    "Massimo Nocentini<br>\n",
    "<small>\n",
    "<br>February 4, 2018: exponential P\n",
    "</small>\n",
    "</div>\n",
    "</p>\n",
    "<br>\n",
    "<br>\n",
    "<div align=\"center\">\n",
    "<b>Abstract</b><br>\n",
    "Exponential $\\mathcal{P}$, according to Paul Barry's book.\n",
    "</div>"
   ]
  },
  {
   "cell_type": "code",
   "execution_count": 1,
   "metadata": {
    "collapsed": true,
    "deletable": true,
    "editable": true
   },
   "outputs": [],
   "source": [
    "from sympy import *\n",
    "from sympy.abc import n, i, N, x, lamda, phi, z, j, r, k, a, alpha\n",
    "\n",
    "init_printing()"
   ]
  },
  {
   "cell_type": "code",
   "execution_count": 60,
   "metadata": {
    "collapsed": true,
    "deletable": true,
    "editable": true
   },
   "outputs": [],
   "source": [
    "%run ../../src/matrix_functions.py\n",
    "%run ../../src/sequences.py"
   ]
  },
  {
   "cell_type": "markdown",
   "metadata": {
    "deletable": true,
    "editable": true
   },
   "source": [
    "---"
   ]
  },
  {
   "cell_type": "code",
   "execution_count": 8,
   "metadata": {
    "collapsed": true,
    "deletable": true,
    "editable": true
   },
   "outputs": [],
   "source": [
    "m = 10"
   ]
  },
  {
   "cell_type": "code",
   "execution_count": 9,
   "metadata": {
    "collapsed": false,
    "deletable": true,
    "editable": true
   },
   "outputs": [
    {
     "data": {
      "image/png": "[encoded data removed]",
      "text/latex": [
       "$$\\left[\\begin{matrix}1 & 0 & 0 & 0 & 0 & 0 & 0 & 0 & 0 & 0\\\\1 & 1 & 0 & 0 & 0 & 0 & 0 & 0 & 0 & 0\\\\2 & 4 & 1 & 0 & 0 & 0 & 0 & 0 & 0 & 0\\\\6 & 18 & 9 & 1 & 0 & 0 & 0 & 0 & 0 & 0\\\\24 & 96 & 72 & 16 & 1 & 0 & 0 & 0 & 0 & 0\\\\120 & 600 & 600 & 200 & 25 & 1 & 0 & 0 & 0 & 0\\\\720 & 4320 & 5400 & 2400 & 450 & 36 & 1 & 0 & 0 & 0\\\\5040 & 35280 & 52920 & 29400 & 7350 & 882 & 49 & 1 & 0 & 0\\\\40320 & 322560 & 564480 & 376320 & 117600 & 18816 & 1568 & 64 & 1 & 0\\\\362880 & 3265920 & 6531840 & 5080320 & 1905120 & 381024 & 42336 & 2592 & 81 & 1\\end{matrix}\\right]$$"
      ],
      "text/plain": [
       "⎡  1        0        0        0        0       0       0     0    0   0⎤\n",
       "⎢                                                                      ⎥\n",
       "⎢  1        1        0        0        0       0       0     0    0   0⎥\n",
       "⎢                                                                      ⎥\n",
       "⎢  2        4        1        0        0       0       0     0    0   0⎥\n",
       "⎢                                                                      ⎥\n",
       "⎢  6       18        9        1        0       0       0     0    0   0⎥\n",
       "⎢                                                                      ⎥\n",
       "⎢  24      96       72       16        1       0       0     0    0   0⎥\n",
       "⎢                                                                      ⎥\n",
       "⎢ 120      600      600      200      25       1       0     0    0   0⎥\n",
       "⎢                                                                      ⎥\n",
       "⎢ 720     4320     5400     2400      450      36      1     0    0   0⎥\n",
       "⎢                                                                      ⎥\n",
       "⎢ 5040    35280    52920    29400    7350     882     49     1    0   0⎥\n",
       "⎢                                                                      ⎥\n",
       "⎢40320   322560   564480   376320   117600   18816   1568    64   1   0⎥\n",
       "⎢                                                                      ⎥\n",
       "⎣362880  3265920  6531840  5080320  1905120  381024  42336  2592  81  1⎦"
      ]
     },
     "execution_count": 9,
     "metadata": {},
     "output_type": "execute_result"
    }
   ],
   "source": [
    "eP = Matrix(m, m, lambda n,k: factorial(n)*binomial(n,k)/factorial(k))\n",
    "eP"
   ]
  },
  {
   "cell_type": "code",
   "execution_count": 10,
   "metadata": {
    "collapsed": false,
    "deletable": true,
    "editable": true
   },
   "outputs": [],
   "source": [
    "F = Matrix(m, m, diagonal_func_matrix(factorial))"
   ]
  },
  {
   "cell_type": "code",
   "execution_count": 11,
   "metadata": {
    "collapsed": false,
    "deletable": true,
    "editable": true
   },
   "outputs": [
    {
     "data": {
      "image/png": "[encoded data removed]",
      "text/latex": [
       "$$\\left[\\begin{matrix}1 & 0 & 0 & 0 & 0 & 0 & 0 & 0 & 0 & 0\\\\0 & 1 & 0 & 0 & 0 & 0 & 0 & 0 & 0 & 0\\\\0 & 0 & 2 & 0 & 0 & 0 & 0 & 0 & 0 & 0\\\\0 & 0 & 0 & 6 & 0 & 0 & 0 & 0 & 0 & 0\\\\0 & 0 & 0 & 0 & 24 & 0 & 0 & 0 & 0 & 0\\\\0 & 0 & 0 & 0 & 0 & 120 & 0 & 0 & 0 & 0\\\\0 & 0 & 0 & 0 & 0 & 0 & 720 & 0 & 0 & 0\\\\0 & 0 & 0 & 0 & 0 & 0 & 0 & 5040 & 0 & 0\\\\0 & 0 & 0 & 0 & 0 & 0 & 0 & 0 & 40320 & 0\\\\0 & 0 & 0 & 0 & 0 & 0 & 0 & 0 & 0 & 362880\\end{matrix}\\right]$$"
      ],
      "text/plain": [
       "⎡1  0  0  0  0    0    0    0      0      0   ⎤\n",
       "⎢                                             ⎥\n",
       "⎢0  1  0  0  0    0    0    0      0      0   ⎥\n",
       "⎢                                             ⎥\n",
       "⎢0  0  2  0  0    0    0    0      0      0   ⎥\n",
       "⎢                                             ⎥\n",
       "⎢0  0  0  6  0    0    0    0      0      0   ⎥\n",
       "⎢                                             ⎥\n",
       "⎢0  0  0  0  24   0    0    0      0      0   ⎥\n",
       "⎢                                             ⎥\n",
       "⎢0  0  0  0  0   120   0    0      0      0   ⎥\n",
       "⎢                                             ⎥\n",
       "⎢0  0  0  0  0    0   720   0      0      0   ⎥\n",
       "⎢                                             ⎥\n",
       "⎢0  0  0  0  0    0    0   5040    0      0   ⎥\n",
       "⎢                                             ⎥\n",
       "⎢0  0  0  0  0    0    0    0    40320    0   ⎥\n",
       "⎢                                             ⎥\n",
       "⎣0  0  0  0  0    0    0    0      0    362880⎦"
      ]
     },
     "execution_count": 11,
     "metadata": {},
     "output_type": "execute_result"
    }
   ],
   "source": [
    "F"
   ]
  },
  {
   "cell_type": "code",
   "execution_count": 12,
   "metadata": {
    "collapsed": false,
    "deletable": true,
    "editable": true
   },
   "outputs": [
    {
     "data": {
      "image/png": "[encoded data removed]",
      "text/latex": [
       "$$\\left[\\begin{matrix}1 & 0 & 0 & 0 & 0 & 0 & 0 & 0 & 0 & 0\\\\0 & 1 & 0 & 0 & 0 & 0 & 0 & 0 & 0 & 0\\\\0 & 0 & \\frac{1}{2} & 0 & 0 & 0 & 0 & 0 & 0 & 0\\\\0 & 0 & 0 & \\frac{1}{6} & 0 & 0 & 0 & 0 & 0 & 0\\\\0 & 0 & 0 & 0 & \\frac{1}{24} & 0 & 0 & 0 & 0 & 0\\\\0 & 0 & 0 & 0 & 0 & \\frac{1}{120} & 0 & 0 & 0 & 0\\\\0 & 0 & 0 & 0 & 0 & 0 & \\frac{1}{720} & 0 & 0 & 0\\\\0 & 0 & 0 & 0 & 0 & 0 & 0 & \\frac{1}{5040} & 0 & 0\\\\0 & 0 & 0 & 0 & 0 & 0 & 0 & 0 & \\frac{1}{40320} & 0\\\\0 & 0 & 0 & 0 & 0 & 0 & 0 & 0 & 0 & \\frac{1}{362880}\\end{matrix}\\right]$$"
      ],
      "text/plain": [
       "⎡1  0   0    0    0      0      0      0        0        0    ⎤\n",
       "⎢                                                             ⎥\n",
       "⎢0  1   0    0    0      0      0      0        0        0    ⎥\n",
       "⎢                                                             ⎥\n",
       "⎢0  0  1/2   0    0      0      0      0        0        0    ⎥\n",
       "⎢                                                             ⎥\n",
       "⎢0  0   0   1/6   0      0      0      0        0        0    ⎥\n",
       "⎢                                                             ⎥\n",
       "⎢0  0   0    0   1/24    0      0      0        0        0    ⎥\n",
       "⎢                                                             ⎥\n",
       "⎢0  0   0    0    0    1/120    0      0        0        0    ⎥\n",
       "⎢                                                             ⎥\n",
       "⎢0  0   0    0    0      0    1/720    0        0        0    ⎥\n",
       "⎢                                                             ⎥\n",
       "⎢0  0   0    0    0      0      0    1/5040     0        0    ⎥\n",
       "⎢                                                             ⎥\n",
       "⎢0  0   0    0    0      0      0      0     1/40320     0    ⎥\n",
       "⎢                                                             ⎥\n",
       "⎣0  0   0    0    0      0      0      0        0     1/362880⎦"
      ]
     },
     "execution_count": 12,
     "metadata": {},
     "output_type": "execute_result"
    }
   ],
   "source": [
    "F_inv = F**(-1)\n",
    "F_inv"
   ]
  },
  {
   "cell_type": "markdown",
   "metadata": {
    "deletable": true,
    "editable": true
   },
   "source": [
    "In order to factorize `eP` as `F U F^{-1}`, for some matrix `U`"
   ]
  },
  {
   "cell_type": "code",
   "execution_count": 13,
   "metadata": {
    "collapsed": false,
    "deletable": true,
    "editable": true
   },
   "outputs": [
    {
     "data": {
      "image/png": "[encoded data removed]",
      "text/latex": [
       "$$\\left[\\begin{matrix}1 & 0 & 0 & 0 & 0 & 0 & 0 & 0 & 0 & 0\\\\1 & 1 & 0 & 0 & 0 & 0 & 0 & 0 & 0 & 0\\\\1 & 2 & 1 & 0 & 0 & 0 & 0 & 0 & 0 & 0\\\\1 & 3 & 3 & 1 & 0 & 0 & 0 & 0 & 0 & 0\\\\1 & 4 & 6 & 4 & 1 & 0 & 0 & 0 & 0 & 0\\\\1 & 5 & 10 & 10 & 5 & 1 & 0 & 0 & 0 & 0\\\\1 & 6 & 15 & 20 & 15 & 6 & 1 & 0 & 0 & 0\\\\1 & 7 & 21 & 35 & 35 & 21 & 7 & 1 & 0 & 0\\\\1 & 8 & 28 & 56 & 70 & 56 & 28 & 8 & 1 & 0\\\\1 & 9 & 36 & 84 & 126 & 126 & 84 & 36 & 9 & 1\\end{matrix}\\right]$$"
      ],
      "text/plain": [
       "⎡1  0  0   0    0    0   0   0   0  0⎤\n",
       "⎢                                    ⎥\n",
       "⎢1  1  0   0    0    0   0   0   0  0⎥\n",
       "⎢                                    ⎥\n",
       "⎢1  2  1   0    0    0   0   0   0  0⎥\n",
       "⎢                                    ⎥\n",
       "⎢1  3  3   1    0    0   0   0   0  0⎥\n",
       "⎢                                    ⎥\n",
       "⎢1  4  6   4    1    0   0   0   0  0⎥\n",
       "⎢                                    ⎥\n",
       "⎢1  5  10  10   5    1   0   0   0  0⎥\n",
       "⎢                                    ⎥\n",
       "⎢1  6  15  20  15    6   1   0   0  0⎥\n",
       "⎢                                    ⎥\n",
       "⎢1  7  21  35  35   21   7   1   0  0⎥\n",
       "⎢                                    ⎥\n",
       "⎢1  8  28  56  70   56   28  8   1  0⎥\n",
       "⎢                                    ⎥\n",
       "⎣1  9  36  84  126  126  84  36  9  1⎦"
      ]
     },
     "execution_count": 13,
     "metadata": {},
     "output_type": "execute_result"
    }
   ],
   "source": [
    "B = F_inv * eP * F\n",
    "B"
   ]
  },
  {
   "cell_type": "code",
   "execution_count": 61,
   "metadata": {
    "collapsed": false,
    "deletable": true,
    "editable": true
   },
   "outputs": [
    {
     "data": {
      "image/png": "[encoded data removed]",
      "text/latex": [
       "$$\\left[\\begin{matrix}1 & 1 & 0 & 0 & 0 & 0 & 0 & 0 & 0\\\\1 & 3 & 1 & 0 & 0 & 0 & 0 & 0 & 0\\\\0 & 4 & 5 & 1 & 0 & 0 & 0 & 0 & 0\\\\0 & 0 & 9 & 7 & 1 & 0 & 0 & 0 & 0\\\\0 & 0 & 0 & 16 & 9 & 1 & 0 & 0 & 0\\\\0 & 0 & 0 & 0 & 25 & 11 & 1 & 0 & 0\\\\0 & 0 & 0 & 0 & 0 & 36 & 13 & 1 & 0\\\\0 & 0 & 0 & 0 & 0 & 0 & 49 & 15 & 1\\\\0 & 0 & 0 & 0 & 0 & 0 & 0 & 64 & 17\\end{matrix}\\right]$$"
      ],
      "text/plain": [
       "⎡1  1  0  0   0   0   0   0   0 ⎤\n",
       "⎢                               ⎥\n",
       "⎢1  3  1  0   0   0   0   0   0 ⎥\n",
       "⎢                               ⎥\n",
       "⎢0  4  5  1   0   0   0   0   0 ⎥\n",
       "⎢                               ⎥\n",
       "⎢0  0  9  7   1   0   0   0   0 ⎥\n",
       "⎢                               ⎥\n",
       "⎢0  0  0  16  9   1   0   0   0 ⎥\n",
       "⎢                               ⎥\n",
       "⎢0  0  0  0   25  11  1   0   0 ⎥\n",
       "⎢                               ⎥\n",
       "⎢0  0  0  0   0   36  13  1   0 ⎥\n",
       "⎢                               ⎥\n",
       "⎢0  0  0  0   0   0   49  15  1 ⎥\n",
       "⎢                               ⎥\n",
       "⎣0  0  0  0   0   0   0   64  17⎦"
      ]
     },
     "execution_count": 61,
     "metadata": {},
     "output_type": "execute_result"
    }
   ],
   "source": [
    "production_matrix(eP)"
   ]
  },
  {
   "cell_type": "code",
   "execution_count": 62,
   "metadata": {
    "collapsed": false,
    "deletable": true,
    "editable": true
   },
   "outputs": [
    {
     "data": {
      "image/png": "[encoded data removed]",
      "text/latex": [
       "$$\\left[\\begin{matrix}0 & 1 & 0 & 0 & 0 & 0 & 0 & 0 & 0 & 0\\\\0 & 0 & 1 & 0 & 0 & 0 & 0 & 0 & 0 & 0\\\\0 & 0 & 0 & 1 & 0 & 0 & 0 & 0 & 0 & 0\\\\0 & 0 & 0 & 0 & 1 & 0 & 0 & 0 & 0 & 0\\\\0 & 0 & 0 & 0 & 0 & 1 & 0 & 0 & 0 & 0\\\\0 & 0 & 0 & 0 & 0 & 0 & 1 & 0 & 0 & 0\\\\0 & 0 & 0 & 0 & 0 & 0 & 0 & 1 & 0 & 0\\\\0 & 0 & 0 & 0 & 0 & 0 & 0 & 0 & 1 & 0\\\\0 & 0 & 0 & 0 & 0 & 0 & 0 & 0 & 0 & 1\\\\0 & 0 & 0 & 0 & 0 & 0 & 0 & 0 & 0 & 0\\end{matrix}\\right]$$"
      ],
      "text/plain": [
       "⎡0  1  0  0  0  0  0  0  0  0⎤\n",
       "⎢                            ⎥\n",
       "⎢0  0  1  0  0  0  0  0  0  0⎥\n",
       "⎢                            ⎥\n",
       "⎢0  0  0  1  0  0  0  0  0  0⎥\n",
       "⎢                            ⎥\n",
       "⎢0  0  0  0  1  0  0  0  0  0⎥\n",
       "⎢                            ⎥\n",
       "⎢0  0  0  0  0  1  0  0  0  0⎥\n",
       "⎢                            ⎥\n",
       "⎢0  0  0  0  0  0  1  0  0  0⎥\n",
       "⎢                            ⎥\n",
       "⎢0  0  0  0  0  0  0  1  0  0⎥\n",
       "⎢                            ⎥\n",
       "⎢0  0  0  0  0  0  0  0  1  0⎥\n",
       "⎢                            ⎥\n",
       "⎢0  0  0  0  0  0  0  0  0  1⎥\n",
       "⎢                            ⎥\n",
       "⎣0  0  0  0  0  0  0  0  0  0⎦"
      ]
     },
     "execution_count": 62,
     "metadata": {},
     "output_type": "execute_result"
    }
   ],
   "source": [
    "U = Matrix(m, m, rows_shift_matrix(by=1))\n",
    "U"
   ]
  },
  {
   "cell_type": "code",
   "execution_count": 18,
   "metadata": {
    "collapsed": false,
    "deletable": true,
    "editable": true
   },
   "outputs": [
    {
     "data": {
      "image/png": "[encoded data removed]",
      "text/latex": [
       "$$\\left[\\begin{matrix}0 & 1 & 0 & 0 & 0 & 0 & 0 & 0 & 0 & 0\\\\0 & 0 & 2 & 0 & 0 & 0 & 0 & 0 & 0 & 0\\\\0 & 0 & 0 & 3 & 0 & 0 & 0 & 0 & 0 & 0\\\\0 & 0 & 0 & 0 & 4 & 0 & 0 & 0 & 0 & 0\\\\0 & 0 & 0 & 0 & 0 & 5 & 0 & 0 & 0 & 0\\\\0 & 0 & 0 & 0 & 0 & 0 & 6 & 0 & 0 & 0\\\\0 & 0 & 0 & 0 & 0 & 0 & 0 & 7 & 0 & 0\\\\0 & 0 & 0 & 0 & 0 & 0 & 0 & 0 & 8 & 0\\\\0 & 0 & 0 & 0 & 0 & 0 & 0 & 0 & 0 & 9\\\\0 & 0 & 0 & 0 & 0 & 0 & 0 & 0 & 0 & 0\\end{matrix}\\right]$$"
      ],
      "text/plain": [
       "⎡0  1  0  0  0  0  0  0  0  0⎤\n",
       "⎢                            ⎥\n",
       "⎢0  0  2  0  0  0  0  0  0  0⎥\n",
       "⎢                            ⎥\n",
       "⎢0  0  0  3  0  0  0  0  0  0⎥\n",
       "⎢                            ⎥\n",
       "⎢0  0  0  0  4  0  0  0  0  0⎥\n",
       "⎢                            ⎥\n",
       "⎢0  0  0  0  0  5  0  0  0  0⎥\n",
       "⎢                            ⎥\n",
       "⎢0  0  0  0  0  0  6  0  0  0⎥\n",
       "⎢                            ⎥\n",
       "⎢0  0  0  0  0  0  0  7  0  0⎥\n",
       "⎢                            ⎥\n",
       "⎢0  0  0  0  0  0  0  0  8  0⎥\n",
       "⎢                            ⎥\n",
       "⎢0  0  0  0  0  0  0  0  0  9⎥\n",
       "⎢                            ⎥\n",
       "⎣0  0  0  0  0  0  0  0  0  0⎦"
      ]
     },
     "execution_count": 18,
     "metadata": {},
     "output_type": "execute_result"
    }
   ],
   "source": [
    "F_inv * U * F"
   ]
  },
  {
   "cell_type": "code",
   "execution_count": 19,
   "metadata": {
    "collapsed": false,
    "deletable": true,
    "editable": true
   },
   "outputs": [
    {
     "data": {
      "image/png": "[encoded data removed]",
      "text/latex": [
       "$$\\left[\\begin{matrix}1 & 1 & 0 & 0 & 0 & 0 & 0 & 0 & 0 & 0\\\\2 & 4 & 2 & 0 & 0 & 0 & 0 & 0 & 0 & 0\\\\3 & 9 & 9 & 3 & 0 & 0 & 0 & 0 & 0 & 0\\\\4 & 16 & 24 & 16 & 4 & 0 & 0 & 0 & 0 & 0\\\\5 & 25 & 50 & 50 & 25 & 5 & 0 & 0 & 0 & 0\\\\6 & 36 & 90 & 120 & 90 & 36 & 6 & 0 & 0 & 0\\\\7 & 49 & 147 & 245 & 245 & 147 & 49 & 7 & 0 & 0\\\\8 & 64 & 224 & 448 & 560 & 448 & 224 & 64 & 8 & 0\\\\9 & 81 & 324 & 756 & 1134 & 1134 & 756 & 324 & 81 & 9\\\\0 & 0 & 0 & 0 & 0 & 0 & 0 & 0 & 0 & 0\\end{matrix}\\right]$$"
      ],
      "text/plain": [
       "⎡1  1    0    0    0     0     0    0   0   0⎤\n",
       "⎢                                            ⎥\n",
       "⎢2  4    2    0    0     0     0    0   0   0⎥\n",
       "⎢                                            ⎥\n",
       "⎢3  9    9    3    0     0     0    0   0   0⎥\n",
       "⎢                                            ⎥\n",
       "⎢4  16  24   16    4     0     0    0   0   0⎥\n",
       "⎢                                            ⎥\n",
       "⎢5  25  50   50    25    5     0    0   0   0⎥\n",
       "⎢                                            ⎥\n",
       "⎢6  36  90   120   90    36    6    0   0   0⎥\n",
       "⎢                                            ⎥\n",
       "⎢7  49  147  245  245   147   49    7   0   0⎥\n",
       "⎢                                            ⎥\n",
       "⎢8  64  224  448  560   448   224  64   8   0⎥\n",
       "⎢                                            ⎥\n",
       "⎢9  81  324  756  1134  1134  756  324  81  9⎥\n",
       "⎢                                            ⎥\n",
       "⎣0  0    0    0    0     0     0    0   0   0⎦"
      ]
     },
     "execution_count": 19,
     "metadata": {},
     "output_type": "execute_result"
    }
   ],
   "source": [
    "F_inv * U * F * B"
   ]
  },
  {
   "cell_type": "code",
   "execution_count": 20,
   "metadata": {
    "collapsed": false,
    "deletable": true,
    "editable": true
   },
   "outputs": [
    {
     "data": {
      "image/png": "[encoded data removed]",
      "text/latex": [
       "$$\\left[\\begin{matrix}1 & 1 & 0 & 0 & 0 & 0 & 0 & 0 & 0 & 0\\\\1 & 3 & 2 & 0 & 0 & 0 & 0 & 0 & 0 & 0\\\\0 & 2 & 5 & 3 & 0 & 0 & 0 & 0 & 0 & 0\\\\0 & 0 & 3 & 7 & 4 & 0 & 0 & 0 & 0 & 0\\\\0 & 0 & 0 & 4 & 9 & 5 & 0 & 0 & 0 & 0\\\\0 & 0 & 0 & 0 & 5 & 11 & 6 & 0 & 0 & 0\\\\0 & 0 & 0 & 0 & 0 & 6 & 13 & 7 & 0 & 0\\\\0 & 0 & 0 & 0 & 0 & 0 & 7 & 15 & 8 & 0\\\\0 & 0 & 0 & 0 & 0 & 0 & 0 & 8 & 17 & 9\\\\-10 & -100 & -450 & -1200 & -2100 & -2520 & -2100 & -1200 & -441 & -81\\end{matrix}\\right]$$"
      ],
      "text/plain": [
       "⎡ 1    1     0      0      0      0      0      0     0     0 ⎤\n",
       "⎢                                                             ⎥\n",
       "⎢ 1    3     2      0      0      0      0      0     0     0 ⎥\n",
       "⎢                                                             ⎥\n",
       "⎢ 0    2     5      3      0      0      0      0     0     0 ⎥\n",
       "⎢                                                             ⎥\n",
       "⎢ 0    0     3      7      4      0      0      0     0     0 ⎥\n",
       "⎢                                                             ⎥\n",
       "⎢ 0    0     0      4      9      5      0      0     0     0 ⎥\n",
       "⎢                                                             ⎥\n",
       "⎢ 0    0     0      0      5     11      6      0     0     0 ⎥\n",
       "⎢                                                             ⎥\n",
       "⎢ 0    0     0      0      0      6     13      7     0     0 ⎥\n",
       "⎢                                                             ⎥\n",
       "⎢ 0    0     0      0      0      0      7     15     8     0 ⎥\n",
       "⎢                                                             ⎥\n",
       "⎢ 0    0     0      0      0      0      0      8     17    9 ⎥\n",
       "⎢                                                             ⎥\n",
       "⎣-10  -100  -450  -1200  -2100  -2520  -2100  -1200  -441  -81⎦"
      ]
     },
     "execution_count": 20,
     "metadata": {},
     "output_type": "execute_result"
    }
   ],
   "source": [
    "B**(-1) * F_inv * U * F * B"
   ]
  },
  {
   "cell_type": "code",
   "execution_count": 21,
   "metadata": {
    "collapsed": false,
    "deletable": true,
    "editable": true
   },
   "outputs": [
    {
     "data": {
      "image/png": "[encoded data removed]",
      "text/latex": [
       "$$\\left[\\begin{matrix}1 & 1 & 0 & 0 & 0 & 0 & 0 & 0 & 0 & 0\\\\1 & 3 & 1 & 0 & 0 & 0 & 0 & 0 & 0 & 0\\\\0 & 4 & 5 & 1 & 0 & 0 & 0 & 0 & 0 & 0\\\\0 & 0 & 9 & 7 & 1 & 0 & 0 & 0 & 0 & 0\\\\0 & 0 & 0 & 16 & 9 & 1 & 0 & 0 & 0 & 0\\\\0 & 0 & 0 & 0 & 25 & 11 & 1 & 0 & 0 & 0\\\\0 & 0 & 0 & 0 & 0 & 36 & 13 & 1 & 0 & 0\\\\0 & 0 & 0 & 0 & 0 & 0 & 49 & 15 & 1 & 0\\\\0 & 0 & 0 & 0 & 0 & 0 & 0 & 64 & 17 & 1\\\\-3628800 & -36288000 & -81648000 & -72576000 & -31752000 & -7620480 & -1058400 & -86400 & -3969 & -81\\end{matrix}\\right]$$"
      ],
      "text/plain": [
       "⎡   1          1          0          0          0         0         0        0\n",
       "⎢                                                                             \n",
       "⎢   1          3          1          0          0         0         0        0\n",
       "⎢                                                                             \n",
       "⎢   0          4          5          1          0         0         0        0\n",
       "⎢                                                                             \n",
       "⎢   0          0          9          7          1         0         0        0\n",
       "⎢                                                                             \n",
       "⎢   0          0          0         16          9         1         0        0\n",
       "⎢                                                                             \n",
       "⎢   0          0          0          0         25         11        1        0\n",
       "⎢                                                                             \n",
       "⎢   0          0          0          0          0         36        13       1\n",
       "⎢                                                                             \n",
       "⎢   0          0          0          0          0         0         49       1\n",
       "⎢                                                                             \n",
       "⎢   0          0          0          0          0         0         0        6\n",
       "⎢                                                                             \n",
       "⎣-3628800  -36288000  -81648000  -72576000  -31752000  -7620480  -1058400  -86\n",
       "\n",
       "       0     0 ⎤\n",
       "               ⎥\n",
       "       0     0 ⎥\n",
       "               ⎥\n",
       "       0     0 ⎥\n",
       "               ⎥\n",
       "       0     0 ⎥\n",
       "               ⎥\n",
       "       0     0 ⎥\n",
       "               ⎥\n",
       "       0     0 ⎥\n",
       "               ⎥\n",
       "       0     0 ⎥\n",
       "               ⎥\n",
       "5      1     0 ⎥\n",
       "               ⎥\n",
       "4     17     1 ⎥\n",
       "               ⎥\n",
       "400  -3969  -81⎦"
      ]
     },
     "execution_count": 21,
     "metadata": {},
     "output_type": "execute_result"
    }
   ],
   "source": [
    "F * B**(-1) * F_inv * U * F * B * F_inv"
   ]
  },
  {
   "cell_type": "code",
   "execution_count": 63,
   "metadata": {
    "collapsed": false,
    "deletable": true,
    "editable": true
   },
   "outputs": [
    {
     "data": {
      "image/png": "[encoded data removed]",
      "text/latex": [
       "$$\\left[\\begin{matrix}1 & 1 & 0 & 0 & 0 & 0 & 0 & 0 & 0\\\\1 & 3 & 2 & 0 & 0 & 0 & 0 & 0 & 0\\\\0 & 2 & 5 & 3 & 0 & 0 & 0 & 0 & 0\\\\0 & 0 & 3 & 7 & 4 & 0 & 0 & 0 & 0\\\\0 & 0 & 0 & 4 & 9 & 5 & 0 & 0 & 0\\\\0 & 0 & 0 & 0 & 5 & 11 & 6 & 0 & 0\\\\0 & 0 & 0 & 0 & 0 & 6 & 13 & 7 & 0\\\\0 & 0 & 0 & 0 & 0 & 0 & 7 & 15 & 8\\\\0 & 0 & 0 & 0 & 0 & 0 & 0 & 8 & 17\\end{matrix}\\right]$$"
      ],
      "text/plain": [
       "⎡1  1  0  0  0  0   0   0   0 ⎤\n",
       "⎢                             ⎥\n",
       "⎢1  3  2  0  0  0   0   0   0 ⎥\n",
       "⎢                             ⎥\n",
       "⎢0  2  5  3  0  0   0   0   0 ⎥\n",
       "⎢                             ⎥\n",
       "⎢0  0  3  7  4  0   0   0   0 ⎥\n",
       "⎢                             ⎥\n",
       "⎢0  0  0  4  9  5   0   0   0 ⎥\n",
       "⎢                             ⎥\n",
       "⎢0  0  0  0  5  11  6   0   0 ⎥\n",
       "⎢                             ⎥\n",
       "⎢0  0  0  0  0  6   13  7   0 ⎥\n",
       "⎢                             ⎥\n",
       "⎢0  0  0  0  0  0   7   15  8 ⎥\n",
       "⎢                             ⎥\n",
       "⎣0  0  0  0  0  0   0   8   17⎦"
      ]
     },
     "execution_count": 63,
     "metadata": {},
     "output_type": "execute_result"
    }
   ],
   "source": [
    "eP_pm = production_matrix(eP, exp=True)\n",
    "eP_pm"
   ]
  }
 ],
 "metadata": {
  "kernelspec": {
   "display_name": "Python 3",
   "language": "python",
   "name": "python3"
  },
  "language_info": {
   "codemirror_mode": {
    "name": "ipython",
    "version": 3
   },
   "file_extension": ".py",
   "mimetype": "text/x-python",
   "name": "python",
   "nbconvert_exporter": "python",
   "pygments_lexer": "ipython3",
   "version": "3.6.0"
  }
 },
 "nbformat": 4,
 "nbformat_minor": 2
}
