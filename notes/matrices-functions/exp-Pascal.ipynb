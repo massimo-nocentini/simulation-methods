{
 "cells": [
  {
   "cell_type": "markdown",
   "metadata": {
    "deletable": true,
    "editable": true
   },
   "source": [
    "<p>\n",
    "<img src=\"http://www.cerm.unifi.it/chianti/images/logo%20unifi_positivo.jpg\" \n",
    "        alt=\"UniFI logo\" style=\"float: left; width: 20%; height: 20%;\">\n",
    "<div align=\"right\">\n",
    "Massimo Nocentini<br>\n",
    "<small>\n",
    "<br>February 4, 2018: exponential P\n",
    "</small>\n",
    "</div>\n",
    "</p>\n",
    "<br>\n",
    "<br>\n",
    "<div align=\"center\">\n",
    "<b>Abstract</b><br>\n",
    "Exponential $\\mathcal{P}$, according to Paul Barry's book.\n",
    "</div>"
   ]
  },
  {
   "cell_type": "code",
   "execution_count": 29,
   "metadata": {
    "collapsed": true,
    "deletable": true,
    "editable": true
   },
   "outputs": [],
   "source": [
    "from sympy import *\n",
    "from sympy.abc import n, i, N, x, lamda, phi, z, j, r, k, a, alpha\n",
    "\n",
    "init_printing()"
   ]
  },
  {
   "cell_type": "code",
   "execution_count": 39,
   "metadata": {
    "collapsed": true,
    "deletable": true,
    "editable": true
   },
   "outputs": [],
   "source": [
    "%run ../../src/matrix_functions.py\n",
    "%run ../../src/sequences.py"
   ]
  },
  {
   "cell_type": "markdown",
   "metadata": {
    "deletable": true,
    "editable": true
   },
   "source": [
    "---"
   ]
  },
  {
   "cell_type": "code",
   "execution_count": 51,
   "metadata": {
    "collapsed": true,
    "deletable": true,
    "editable": true
   },
   "outputs": [],
   "source": [
    "m = 10"
   ]
  },
  {
   "cell_type": "code",
   "execution_count": 52,
   "metadata": {
    "collapsed": false,
    "deletable": true,
    "editable": true
   },
   "outputs": [
    {
     "data": {
      "image/png": "[encoded data removed]",
      "text/latex": [
       "$$\\left[\\begin{matrix}1 & 0 & 0 & 0 & 0 & 0 & 0 & 0 & 0 & 0\\\\1 & 1 & 0 & 0 & 0 & 0 & 0 & 0 & 0 & 0\\\\2 & 4 & 1 & 0 & 0 & 0 & 0 & 0 & 0 & 0\\\\6 & 18 & 9 & 1 & 0 & 0 & 0 & 0 & 0 & 0\\\\24 & 96 & 72 & 16 & 1 & 0 & 0 & 0 & 0 & 0\\\\120 & 600 & 600 & 200 & 25 & 1 & 0 & 0 & 0 & 0\\\\720 & 4320 & 5400 & 2400 & 450 & 36 & 1 & 0 & 0 & 0\\\\5040 & 35280 & 52920 & 29400 & 7350 & 882 & 49 & 1 & 0 & 0\\\\40320 & 322560 & 564480 & 376320 & 117600 & 18816 & 1568 & 64 & 1 & 0\\\\362880 & 3265920 & 6531840 & 5080320 & 1905120 & 381024 & 42336 & 2592 & 81 & 1\\end{matrix}\\right]$$"
      ],
      "text/plain": [
       "⎡  1        0        0        0        0       0       0     0    0   0⎤\n",
       "⎢                                                                      ⎥\n",
       "⎢  1        1        0        0        0       0       0     0    0   0⎥\n",
       "⎢                                                                      ⎥\n",
       "⎢  2        4        1        0        0       0       0     0    0   0⎥\n",
       "⎢                                                                      ⎥\n",
       "⎢  6       18        9        1        0       0       0     0    0   0⎥\n",
       "⎢                                                                      ⎥\n",
       "⎢  24      96       72       16        1       0       0     0    0   0⎥\n",
       "⎢                                                                      ⎥\n",
       "⎢ 120      600      600      200      25       1       0     0    0   0⎥\n",
       "⎢                                                                      ⎥\n",
       "⎢ 720     4320     5400     2400      450      36      1     0    0   0⎥\n",
       "⎢                                                                      ⎥\n",
       "⎢ 5040    35280    52920    29400    7350     882     49     1    0   0⎥\n",
       "⎢                                                                      ⎥\n",
       "⎢40320   322560   564480   376320   117600   18816   1568    64   1   0⎥\n",
       "⎢                                                                      ⎥\n",
       "⎣362880  3265920  6531840  5080320  1905120  381024  42336  2592  81  1⎦"
      ]
     },
     "execution_count": 52,
     "metadata": {},
     "output_type": "execute_result"
    }
   ],
   "source": [
    "eP = Matrix(m, m, lambda n,k: factorial(n)*binomial(n,k)/factorial(k))\n",
    "eP"
   ]
  },
  {
   "cell_type": "code",
   "execution_count": 53,
   "metadata": {
    "collapsed": false,
    "deletable": true,
    "editable": true
   },
   "outputs": [
    {
     "data": {
      "image/png": "[encoded data removed]",
      "text/latex": [
       "$$\\left[\\begin{matrix}1 & 1 & 0 & 0 & 0 & 0 & 0 & 0 & 0\\\\1 & 3 & 1 & 0 & 0 & 0 & 0 & 0 & 0\\\\0 & 4 & 5 & 1 & 0 & 0 & 0 & 0 & 0\\\\0 & 0 & 9 & 7 & 1 & 0 & 0 & 0 & 0\\\\0 & 0 & 0 & 16 & 9 & 1 & 0 & 0 & 0\\\\0 & 0 & 0 & 0 & 25 & 11 & 1 & 0 & 0\\\\0 & 0 & 0 & 0 & 0 & 36 & 13 & 1 & 0\\\\0 & 0 & 0 & 0 & 0 & 0 & 49 & 15 & 1\\\\0 & 0 & 0 & 0 & 0 & 0 & 0 & 64 & 17\\end{matrix}\\right]$$"
      ],
      "text/plain": [
       "⎡1  1  0  0   0   0   0   0   0 ⎤\n",
       "⎢                               ⎥\n",
       "⎢1  3  1  0   0   0   0   0   0 ⎥\n",
       "⎢                               ⎥\n",
       "⎢0  4  5  1   0   0   0   0   0 ⎥\n",
       "⎢                               ⎥\n",
       "⎢0  0  9  7   1   0   0   0   0 ⎥\n",
       "⎢                               ⎥\n",
       "⎢0  0  0  16  9   1   0   0   0 ⎥\n",
       "⎢                               ⎥\n",
       "⎢0  0  0  0   25  11  1   0   0 ⎥\n",
       "⎢                               ⎥\n",
       "⎢0  0  0  0   0   36  13  1   0 ⎥\n",
       "⎢                               ⎥\n",
       "⎢0  0  0  0   0   0   49  15  1 ⎥\n",
       "⎢                               ⎥\n",
       "⎣0  0  0  0   0   0   0   64  17⎦"
      ]
     },
     "execution_count": 53,
     "metadata": {},
     "output_type": "execute_result"
    }
   ],
   "source": [
    "eP_pm = production_matrix(eP)\n",
    "eP_pm"
   ]
  },
  {
   "cell_type": "code",
   "execution_count": 54,
   "metadata": {
    "collapsed": false,
    "deletable": true,
    "editable": true
   },
   "outputs": [
    {
     "data": {
      "image/png": "[encoded data removed]",
      "text/latex": [
       "$$\\left[\\begin{matrix}1 & 1 & 0 & 0 & 0 & 0 & 0 & 0 & 0\\\\1 & 3 & 2 & 0 & 0 & 0 & 0 & 0 & 0\\\\0 & 2 & 5 & 3 & 0 & 0 & 0 & 0 & 0\\\\0 & 0 & 3 & 7 & 4 & 0 & 0 & 0 & 0\\\\0 & 0 & 0 & 4 & 9 & 5 & 0 & 0 & 0\\\\0 & 0 & 0 & 0 & 5 & 11 & 6 & 0 & 0\\\\0 & 0 & 0 & 0 & 0 & 6 & 13 & 7 & 0\\\\0 & 0 & 0 & 0 & 0 & 0 & 7 & 15 & 8\\\\0 & 0 & 0 & 0 & 0 & 0 & 0 & 8 & 17\\end{matrix}\\right]$$"
      ],
      "text/plain": [
       "⎡1  1  0  0  0  0   0   0   0 ⎤\n",
       "⎢                             ⎥\n",
       "⎢1  3  2  0  0  0   0   0   0 ⎥\n",
       "⎢                             ⎥\n",
       "⎢0  2  5  3  0  0   0   0   0 ⎥\n",
       "⎢                             ⎥\n",
       "⎢0  0  3  7  4  0   0   0   0 ⎥\n",
       "⎢                             ⎥\n",
       "⎢0  0  0  4  9  5   0   0   0 ⎥\n",
       "⎢                             ⎥\n",
       "⎢0  0  0  0  5  11  6   0   0 ⎥\n",
       "⎢                             ⎥\n",
       "⎢0  0  0  0  0  6   13  7   0 ⎥\n",
       "⎢                             ⎥\n",
       "⎢0  0  0  0  0  0   7   15  8 ⎥\n",
       "⎢                             ⎥\n",
       "⎣0  0  0  0  0  0   0   8   17⎦"
      ]
     },
     "execution_count": 54,
     "metadata": {},
     "output_type": "execute_result"
    }
   ],
   "source": [
    "eP_epm = production_matrix(eP, exp=True)\n",
    "eP_epm"
   ]
  },
  {
   "cell_type": "code",
   "execution_count": 55,
   "metadata": {
    "collapsed": false,
    "deletable": true,
    "editable": true
   },
   "outputs": [
    {
     "data": {
      "text/plain": [
       "False"
      ]
     },
     "execution_count": 55,
     "metadata": {},
     "output_type": "execute_result"
    }
   ],
   "source": [
    "is_ordinary_RA(eP)"
   ]
  },
  {
   "cell_type": "code",
   "execution_count": 57,
   "metadata": {
    "collapsed": false,
    "deletable": true,
    "editable": true
   },
   "outputs": [
    {
     "data": {
      "text/plain": [
       "(True,\n",
       " {0: [3, 5, 7, 9, 11, 13, 15, 17],\n",
       "  1: [2, 3, 4, 5, 6, 7, 8],\n",
       "  2: [0, 0, 0, 0, 0, 0],\n",
       "  3: [0, 0, 0, 0, 0],\n",
       "  4: [0, 0, 0, 0],\n",
       "  5: [0, 0, 0],\n",
       "  6: [0, 0]},\n",
       " {0: {k[0]: -2},\n",
       "  1: {k[1]: -1},\n",
       "  2: {k[2]: 0},\n",
       "  3: {k[3]: 0},\n",
       "  4: {k[4]: 0},\n",
       "  5: {k[5]: 0},\n",
       "  6: {k[6]: 0}})"
      ]
     },
     "execution_count": 57,
     "metadata": {},
     "output_type": "execute_result"
    }
   ],
   "source": [
    "is_exponential_RA(eP, show_witness=True)"
   ]
  },
  {
   "cell_type": "code",
   "execution_count": 58,
   "metadata": {
    "collapsed": false,
    "deletable": true,
    "editable": true
   },
   "outputs": [],
   "source": [
    "F = Matrix(m, m, diagonal_func_matrix(factorial))"
   ]
  },
  {
   "cell_type": "code",
   "execution_count": 59,
   "metadata": {
    "collapsed": false,
    "deletable": true,
    "editable": true
   },
   "outputs": [
    {
     "data": {
      "image/png": "[encoded data removed]",
      "text/latex": [
       "$$\\left[\\begin{matrix}1 & 0 & 0 & 0 & 0 & 0 & 0 & 0 & 0 & 0\\\\0 & 1 & 0 & 0 & 0 & 0 & 0 & 0 & 0 & 0\\\\0 & 0 & 2 & 0 & 0 & 0 & 0 & 0 & 0 & 0\\\\0 & 0 & 0 & 6 & 0 & 0 & 0 & 0 & 0 & 0\\\\0 & 0 & 0 & 0 & 24 & 0 & 0 & 0 & 0 & 0\\\\0 & 0 & 0 & 0 & 0 & 120 & 0 & 0 & 0 & 0\\\\0 & 0 & 0 & 0 & 0 & 0 & 720 & 0 & 0 & 0\\\\0 & 0 & 0 & 0 & 0 & 0 & 0 & 5040 & 0 & 0\\\\0 & 0 & 0 & 0 & 0 & 0 & 0 & 0 & 40320 & 0\\\\0 & 0 & 0 & 0 & 0 & 0 & 0 & 0 & 0 & 362880\\end{matrix}\\right]$$"
      ],
      "text/plain": [
       "⎡1  0  0  0  0    0    0    0      0      0   ⎤\n",
       "⎢                                             ⎥\n",
       "⎢0  1  0  0  0    0    0    0      0      0   ⎥\n",
       "⎢                                             ⎥\n",
       "⎢0  0  2  0  0    0    0    0      0      0   ⎥\n",
       "⎢                                             ⎥\n",
       "⎢0  0  0  6  0    0    0    0      0      0   ⎥\n",
       "⎢                                             ⎥\n",
       "⎢0  0  0  0  24   0    0    0      0      0   ⎥\n",
       "⎢                                             ⎥\n",
       "⎢0  0  0  0  0   120   0    0      0      0   ⎥\n",
       "⎢                                             ⎥\n",
       "⎢0  0  0  0  0    0   720   0      0      0   ⎥\n",
       "⎢                                             ⎥\n",
       "⎢0  0  0  0  0    0    0   5040    0      0   ⎥\n",
       "⎢                                             ⎥\n",
       "⎢0  0  0  0  0    0    0    0    40320    0   ⎥\n",
       "⎢                                             ⎥\n",
       "⎣0  0  0  0  0    0    0    0      0    362880⎦"
      ]
     },
     "execution_count": 59,
     "metadata": {},
     "output_type": "execute_result"
    }
   ],
   "source": [
    "F"
   ]
  },
  {
   "cell_type": "code",
   "execution_count": 60,
   "metadata": {
    "collapsed": false,
    "deletable": true,
    "editable": true
   },
   "outputs": [
    {
     "data": {
      "image/png": "[encoded data removed]",
      "text/latex": [
       "$$\\left[\\begin{matrix}1 & 0 & 0 & 0 & 0 & 0 & 0 & 0 & 0 & 0\\\\0 & 1 & 0 & 0 & 0 & 0 & 0 & 0 & 0 & 0\\\\0 & 0 & \\frac{1}{2} & 0 & 0 & 0 & 0 & 0 & 0 & 0\\\\0 & 0 & 0 & \\frac{1}{6} & 0 & 0 & 0 & 0 & 0 & 0\\\\0 & 0 & 0 & 0 & \\frac{1}{24} & 0 & 0 & 0 & 0 & 0\\\\0 & 0 & 0 & 0 & 0 & \\frac{1}{120} & 0 & 0 & 0 & 0\\\\0 & 0 & 0 & 0 & 0 & 0 & \\frac{1}{720} & 0 & 0 & 0\\\\0 & 0 & 0 & 0 & 0 & 0 & 0 & \\frac{1}{5040} & 0 & 0\\\\0 & 0 & 0 & 0 & 0 & 0 & 0 & 0 & \\frac{1}{40320} & 0\\\\0 & 0 & 0 & 0 & 0 & 0 & 0 & 0 & 0 & \\frac{1}{362880}\\end{matrix}\\right]$$"
      ],
      "text/plain": [
       "⎡1  0   0    0    0      0      0      0        0        0    ⎤\n",
       "⎢                                                             ⎥\n",
       "⎢0  1   0    0    0      0      0      0        0        0    ⎥\n",
       "⎢                                                             ⎥\n",
       "⎢0  0  1/2   0    0      0      0      0        0        0    ⎥\n",
       "⎢                                                             ⎥\n",
       "⎢0  0   0   1/6   0      0      0      0        0        0    ⎥\n",
       "⎢                                                             ⎥\n",
       "⎢0  0   0    0   1/24    0      0      0        0        0    ⎥\n",
       "⎢                                                             ⎥\n",
       "⎢0  0   0    0    0    1/120    0      0        0        0    ⎥\n",
       "⎢                                                             ⎥\n",
       "⎢0  0   0    0    0      0    1/720    0        0        0    ⎥\n",
       "⎢                                                             ⎥\n",
       "⎢0  0   0    0    0      0      0    1/5040     0        0    ⎥\n",
       "⎢                                                             ⎥\n",
       "⎢0  0   0    0    0      0      0      0     1/40320     0    ⎥\n",
       "⎢                                                             ⎥\n",
       "⎣0  0   0    0    0      0      0      0        0     1/362880⎦"
      ]
     },
     "execution_count": 60,
     "metadata": {},
     "output_type": "execute_result"
    }
   ],
   "source": [
    "F_inv = F**(-1)\n",
    "F_inv"
   ]
  },
  {
   "cell_type": "markdown",
   "metadata": {
    "deletable": true,
    "editable": true
   },
   "source": [
    "In order to factorize `eP` as `F U F^{-1}`, for some matrix `U`"
   ]
  },
  {
   "cell_type": "code",
   "execution_count": 61,
   "metadata": {
    "collapsed": false,
    "deletable": true,
    "editable": true
   },
   "outputs": [
    {
     "data": {
      "image/png": "[encoded data removed]",
      "text/latex": [
       "$$\\left[\\begin{matrix}1 & 0 & 0 & 0 & 0 & 0 & 0 & 0 & 0 & 0\\\\1 & 1 & 0 & 0 & 0 & 0 & 0 & 0 & 0 & 0\\\\1 & 2 & 1 & 0 & 0 & 0 & 0 & 0 & 0 & 0\\\\1 & 3 & 3 & 1 & 0 & 0 & 0 & 0 & 0 & 0\\\\1 & 4 & 6 & 4 & 1 & 0 & 0 & 0 & 0 & 0\\\\1 & 5 & 10 & 10 & 5 & 1 & 0 & 0 & 0 & 0\\\\1 & 6 & 15 & 20 & 15 & 6 & 1 & 0 & 0 & 0\\\\1 & 7 & 21 & 35 & 35 & 21 & 7 & 1 & 0 & 0\\\\1 & 8 & 28 & 56 & 70 & 56 & 28 & 8 & 1 & 0\\\\1 & 9 & 36 & 84 & 126 & 126 & 84 & 36 & 9 & 1\\end{matrix}\\right]$$"
      ],
      "text/plain": [
       "⎡1  0  0   0    0    0   0   0   0  0⎤\n",
       "⎢                                    ⎥\n",
       "⎢1  1  0   0    0    0   0   0   0  0⎥\n",
       "⎢                                    ⎥\n",
       "⎢1  2  1   0    0    0   0   0   0  0⎥\n",
       "⎢                                    ⎥\n",
       "⎢1  3  3   1    0    0   0   0   0  0⎥\n",
       "⎢                                    ⎥\n",
       "⎢1  4  6   4    1    0   0   0   0  0⎥\n",
       "⎢                                    ⎥\n",
       "⎢1  5  10  10   5    1   0   0   0  0⎥\n",
       "⎢                                    ⎥\n",
       "⎢1  6  15  20  15    6   1   0   0  0⎥\n",
       "⎢                                    ⎥\n",
       "⎢1  7  21  35  35   21   7   1   0  0⎥\n",
       "⎢                                    ⎥\n",
       "⎢1  8  28  56  70   56   28  8   1  0⎥\n",
       "⎢                                    ⎥\n",
       "⎣1  9  36  84  126  126  84  36  9  1⎦"
      ]
     },
     "execution_count": 61,
     "metadata": {},
     "output_type": "execute_result"
    }
   ],
   "source": [
    "B = F_inv * eP * F\n",
    "B"
   ]
  },
  {
   "cell_type": "code",
   "execution_count": 62,
   "metadata": {
    "collapsed": false,
    "deletable": true,
    "editable": true
   },
   "outputs": [
    {
     "data": {
      "image/png": "[encoded data removed]",
      "text/latex": [
       "$$\\left[\\begin{matrix}1 & 1 & 0 & 0 & 0 & 0 & 0 & 0 & 0\\\\1 & 3 & 1 & 0 & 0 & 0 & 0 & 0 & 0\\\\0 & 4 & 5 & 1 & 0 & 0 & 0 & 0 & 0\\\\0 & 0 & 9 & 7 & 1 & 0 & 0 & 0 & 0\\\\0 & 0 & 0 & 16 & 9 & 1 & 0 & 0 & 0\\\\0 & 0 & 0 & 0 & 25 & 11 & 1 & 0 & 0\\\\0 & 0 & 0 & 0 & 0 & 36 & 13 & 1 & 0\\\\0 & 0 & 0 & 0 & 0 & 0 & 49 & 15 & 1\\\\0 & 0 & 0 & 0 & 0 & 0 & 0 & 64 & 17\\end{matrix}\\right]$$"
      ],
      "text/plain": [
       "⎡1  1  0  0   0   0   0   0   0 ⎤\n",
       "⎢                               ⎥\n",
       "⎢1  3  1  0   0   0   0   0   0 ⎥\n",
       "⎢                               ⎥\n",
       "⎢0  4  5  1   0   0   0   0   0 ⎥\n",
       "⎢                               ⎥\n",
       "⎢0  0  9  7   1   0   0   0   0 ⎥\n",
       "⎢                               ⎥\n",
       "⎢0  0  0  16  9   1   0   0   0 ⎥\n",
       "⎢                               ⎥\n",
       "⎢0  0  0  0   25  11  1   0   0 ⎥\n",
       "⎢                               ⎥\n",
       "⎢0  0  0  0   0   36  13  1   0 ⎥\n",
       "⎢                               ⎥\n",
       "⎢0  0  0  0   0   0   49  15  1 ⎥\n",
       "⎢                               ⎥\n",
       "⎣0  0  0  0   0   0   0   64  17⎦"
      ]
     },
     "execution_count": 62,
     "metadata": {},
     "output_type": "execute_result"
    }
   ],
   "source": [
    "production_matrix(eP)"
   ]
  },
  {
   "cell_type": "code",
   "execution_count": 63,
   "metadata": {
    "collapsed": false,
    "deletable": true,
    "editable": true
   },
   "outputs": [
    {
     "data": {
      "image/png": "[encoded data removed]",
      "text/latex": [
       "$$\\left[\\begin{matrix}0 & 1 & 0 & 0 & 0 & 0 & 0 & 0 & 0 & 0\\\\0 & 0 & 1 & 0 & 0 & 0 & 0 & 0 & 0 & 0\\\\0 & 0 & 0 & 1 & 0 & 0 & 0 & 0 & 0 & 0\\\\0 & 0 & 0 & 0 & 1 & 0 & 0 & 0 & 0 & 0\\\\0 & 0 & 0 & 0 & 0 & 1 & 0 & 0 & 0 & 0\\\\0 & 0 & 0 & 0 & 0 & 0 & 1 & 0 & 0 & 0\\\\0 & 0 & 0 & 0 & 0 & 0 & 0 & 1 & 0 & 0\\\\0 & 0 & 0 & 0 & 0 & 0 & 0 & 0 & 1 & 0\\\\0 & 0 & 0 & 0 & 0 & 0 & 0 & 0 & 0 & 1\\\\0 & 0 & 0 & 0 & 0 & 0 & 0 & 0 & 0 & 0\\end{matrix}\\right]$$"
      ],
      "text/plain": [
       "⎡0  1  0  0  0  0  0  0  0  0⎤\n",
       "⎢                            ⎥\n",
       "⎢0  0  1  0  0  0  0  0  0  0⎥\n",
       "⎢                            ⎥\n",
       "⎢0  0  0  1  0  0  0  0  0  0⎥\n",
       "⎢                            ⎥\n",
       "⎢0  0  0  0  1  0  0  0  0  0⎥\n",
       "⎢                            ⎥\n",
       "⎢0  0  0  0  0  1  0  0  0  0⎥\n",
       "⎢                            ⎥\n",
       "⎢0  0  0  0  0  0  1  0  0  0⎥\n",
       "⎢                            ⎥\n",
       "⎢0  0  0  0  0  0  0  1  0  0⎥\n",
       "⎢                            ⎥\n",
       "⎢0  0  0  0  0  0  0  0  1  0⎥\n",
       "⎢                            ⎥\n",
       "⎢0  0  0  0  0  0  0  0  0  1⎥\n",
       "⎢                            ⎥\n",
       "⎣0  0  0  0  0  0  0  0  0  0⎦"
      ]
     },
     "execution_count": 63,
     "metadata": {},
     "output_type": "execute_result"
    }
   ],
   "source": [
    "U = Matrix(m, m, rows_shift_matrix(by=1))\n",
    "U"
   ]
  },
  {
   "cell_type": "code",
   "execution_count": 64,
   "metadata": {
    "collapsed": false,
    "deletable": true,
    "editable": true
   },
   "outputs": [
    {
     "data": {
      "image/png": "[encoded data removed]",
      "text/latex": [
       "$$\\left[\\begin{matrix}0 & 1 & 0 & 0 & 0 & 0 & 0 & 0 & 0 & 0\\\\0 & 0 & 2 & 0 & 0 & 0 & 0 & 0 & 0 & 0\\\\0 & 0 & 0 & 3 & 0 & 0 & 0 & 0 & 0 & 0\\\\0 & 0 & 0 & 0 & 4 & 0 & 0 & 0 & 0 & 0\\\\0 & 0 & 0 & 0 & 0 & 5 & 0 & 0 & 0 & 0\\\\0 & 0 & 0 & 0 & 0 & 0 & 6 & 0 & 0 & 0\\\\0 & 0 & 0 & 0 & 0 & 0 & 0 & 7 & 0 & 0\\\\0 & 0 & 0 & 0 & 0 & 0 & 0 & 0 & 8 & 0\\\\0 & 0 & 0 & 0 & 0 & 0 & 0 & 0 & 0 & 9\\\\0 & 0 & 0 & 0 & 0 & 0 & 0 & 0 & 0 & 0\\end{matrix}\\right]$$"
      ],
      "text/plain": [
       "⎡0  1  0  0  0  0  0  0  0  0⎤\n",
       "⎢                            ⎥\n",
       "⎢0  0  2  0  0  0  0  0  0  0⎥\n",
       "⎢                            ⎥\n",
       "⎢0  0  0  3  0  0  0  0  0  0⎥\n",
       "⎢                            ⎥\n",
       "⎢0  0  0  0  4  0  0  0  0  0⎥\n",
       "⎢                            ⎥\n",
       "⎢0  0  0  0  0  5  0  0  0  0⎥\n",
       "⎢                            ⎥\n",
       "⎢0  0  0  0  0  0  6  0  0  0⎥\n",
       "⎢                            ⎥\n",
       "⎢0  0  0  0  0  0  0  7  0  0⎥\n",
       "⎢                            ⎥\n",
       "⎢0  0  0  0  0  0  0  0  8  0⎥\n",
       "⎢                            ⎥\n",
       "⎢0  0  0  0  0  0  0  0  0  9⎥\n",
       "⎢                            ⎥\n",
       "⎣0  0  0  0  0  0  0  0  0  0⎦"
      ]
     },
     "execution_count": 64,
     "metadata": {},
     "output_type": "execute_result"
    }
   ],
   "source": [
    "F_inv * U * F"
   ]
  },
  {
   "cell_type": "code",
   "execution_count": 65,
   "metadata": {
    "collapsed": false,
    "deletable": true,
    "editable": true
   },
   "outputs": [
    {
     "data": {
      "image/png": "[encoded data removed]",
      "text/latex": [
       "$$\\left[\\begin{matrix}1 & 1 & 0 & 0 & 0 & 0 & 0 & 0 & 0 & 0\\\\2 & 4 & 2 & 0 & 0 & 0 & 0 & 0 & 0 & 0\\\\3 & 9 & 9 & 3 & 0 & 0 & 0 & 0 & 0 & 0\\\\4 & 16 & 24 & 16 & 4 & 0 & 0 & 0 & 0 & 0\\\\5 & 25 & 50 & 50 & 25 & 5 & 0 & 0 & 0 & 0\\\\6 & 36 & 90 & 120 & 90 & 36 & 6 & 0 & 0 & 0\\\\7 & 49 & 147 & 245 & 245 & 147 & 49 & 7 & 0 & 0\\\\8 & 64 & 224 & 448 & 560 & 448 & 224 & 64 & 8 & 0\\\\9 & 81 & 324 & 756 & 1134 & 1134 & 756 & 324 & 81 & 9\\\\0 & 0 & 0 & 0 & 0 & 0 & 0 & 0 & 0 & 0\\end{matrix}\\right]$$"
      ],
      "text/plain": [
       "⎡1  1    0    0    0     0     0    0   0   0⎤\n",
       "⎢                                            ⎥\n",
       "⎢2  4    2    0    0     0     0    0   0   0⎥\n",
       "⎢                                            ⎥\n",
       "⎢3  9    9    3    0     0     0    0   0   0⎥\n",
       "⎢                                            ⎥\n",
       "⎢4  16  24   16    4     0     0    0   0   0⎥\n",
       "⎢                                            ⎥\n",
       "⎢5  25  50   50    25    5     0    0   0   0⎥\n",
       "⎢                                            ⎥\n",
       "⎢6  36  90   120   90    36    6    0   0   0⎥\n",
       "⎢                                            ⎥\n",
       "⎢7  49  147  245  245   147   49    7   0   0⎥\n",
       "⎢                                            ⎥\n",
       "⎢8  64  224  448  560   448   224  64   8   0⎥\n",
       "⎢                                            ⎥\n",
       "⎢9  81  324  756  1134  1134  756  324  81  9⎥\n",
       "⎢                                            ⎥\n",
       "⎣0  0    0    0    0     0     0    0   0   0⎦"
      ]
     },
     "execution_count": 65,
     "metadata": {},
     "output_type": "execute_result"
    }
   ],
   "source": [
    "F_inv * U * F * B"
   ]
  },
  {
   "cell_type": "code",
   "execution_count": 66,
   "metadata": {
    "collapsed": false,
    "deletable": true,
    "editable": true
   },
   "outputs": [
    {
     "data": {
      "image/png": "[encoded data removed]",
      "text/latex": [
       "$$\\left[\\begin{matrix}1 & 1 & 0 & 0 & 0 & 0 & 0 & 0 & 0 & 0\\\\1 & 3 & 2 & 0 & 0 & 0 & 0 & 0 & 0 & 0\\\\0 & 2 & 5 & 3 & 0 & 0 & 0 & 0 & 0 & 0\\\\0 & 0 & 3 & 7 & 4 & 0 & 0 & 0 & 0 & 0\\\\0 & 0 & 0 & 4 & 9 & 5 & 0 & 0 & 0 & 0\\\\0 & 0 & 0 & 0 & 5 & 11 & 6 & 0 & 0 & 0\\\\0 & 0 & 0 & 0 & 0 & 6 & 13 & 7 & 0 & 0\\\\0 & 0 & 0 & 0 & 0 & 0 & 7 & 15 & 8 & 0\\\\0 & 0 & 0 & 0 & 0 & 0 & 0 & 8 & 17 & 9\\\\-10 & -100 & -450 & -1200 & -2100 & -2520 & -2100 & -1200 & -441 & -81\\end{matrix}\\right]$$"
      ],
      "text/plain": [
       "⎡ 1    1     0      0      0      0      0      0     0     0 ⎤\n",
       "⎢                                                             ⎥\n",
       "⎢ 1    3     2      0      0      0      0      0     0     0 ⎥\n",
       "⎢                                                             ⎥\n",
       "⎢ 0    2     5      3      0      0      0      0     0     0 ⎥\n",
       "⎢                                                             ⎥\n",
       "⎢ 0    0     3      7      4      0      0      0     0     0 ⎥\n",
       "⎢                                                             ⎥\n",
       "⎢ 0    0     0      4      9      5      0      0     0     0 ⎥\n",
       "⎢                                                             ⎥\n",
       "⎢ 0    0     0      0      5     11      6      0     0     0 ⎥\n",
       "⎢                                                             ⎥\n",
       "⎢ 0    0     0      0      0      6     13      7     0     0 ⎥\n",
       "⎢                                                             ⎥\n",
       "⎢ 0    0     0      0      0      0      7     15     8     0 ⎥\n",
       "⎢                                                             ⎥\n",
       "⎢ 0    0     0      0      0      0      0      8     17    9 ⎥\n",
       "⎢                                                             ⎥\n",
       "⎣-10  -100  -450  -1200  -2100  -2520  -2100  -1200  -441  -81⎦"
      ]
     },
     "execution_count": 66,
     "metadata": {},
     "output_type": "execute_result"
    }
   ],
   "source": [
    "B**(-1) * F_inv * U * F * B"
   ]
  },
  {
   "cell_type": "code",
   "execution_count": 67,
   "metadata": {
    "collapsed": false,
    "deletable": true,
    "editable": true
   },
   "outputs": [
    {
     "data": {
      "image/png": "[encoded data removed]",
      "text/latex": [
       "$$\\left[\\begin{matrix}1 & 1 & 0 & 0 & 0 & 0 & 0 & 0 & 0 & 0\\\\1 & 3 & 1 & 0 & 0 & 0 & 0 & 0 & 0 & 0\\\\0 & 4 & 5 & 1 & 0 & 0 & 0 & 0 & 0 & 0\\\\0 & 0 & 9 & 7 & 1 & 0 & 0 & 0 & 0 & 0\\\\0 & 0 & 0 & 16 & 9 & 1 & 0 & 0 & 0 & 0\\\\0 & 0 & 0 & 0 & 25 & 11 & 1 & 0 & 0 & 0\\\\0 & 0 & 0 & 0 & 0 & 36 & 13 & 1 & 0 & 0\\\\0 & 0 & 0 & 0 & 0 & 0 & 49 & 15 & 1 & 0\\\\0 & 0 & 0 & 0 & 0 & 0 & 0 & 64 & 17 & 1\\\\-3628800 & -36288000 & -81648000 & -72576000 & -31752000 & -7620480 & -1058400 & -86400 & -3969 & -81\\end{matrix}\\right]$$"
      ],
      "text/plain": [
       "⎡   1          1          0          0          0         0         0        0\n",
       "⎢                                                                             \n",
       "⎢   1          3          1          0          0         0         0        0\n",
       "⎢                                                                             \n",
       "⎢   0          4          5          1          0         0         0        0\n",
       "⎢                                                                             \n",
       "⎢   0          0          9          7          1         0         0        0\n",
       "⎢                                                                             \n",
       "⎢   0          0          0         16          9         1         0        0\n",
       "⎢                                                                             \n",
       "⎢   0          0          0          0         25         11        1        0\n",
       "⎢                                                                             \n",
       "⎢   0          0          0          0          0         36        13       1\n",
       "⎢                                                                             \n",
       "⎢   0          0          0          0          0         0         49       1\n",
       "⎢                                                                             \n",
       "⎢   0          0          0          0          0         0         0        6\n",
       "⎢                                                                             \n",
       "⎣-3628800  -36288000  -81648000  -72576000  -31752000  -7620480  -1058400  -86\n",
       "\n",
       "       0     0 ⎤\n",
       "               ⎥\n",
       "       0     0 ⎥\n",
       "               ⎥\n",
       "       0     0 ⎥\n",
       "               ⎥\n",
       "       0     0 ⎥\n",
       "               ⎥\n",
       "       0     0 ⎥\n",
       "               ⎥\n",
       "       0     0 ⎥\n",
       "               ⎥\n",
       "       0     0 ⎥\n",
       "               ⎥\n",
       "5      1     0 ⎥\n",
       "               ⎥\n",
       "4     17     1 ⎥\n",
       "               ⎥\n",
       "400  -3969  -81⎦"
      ]
     },
     "execution_count": 67,
     "metadata": {},
     "output_type": "execute_result"
    }
   ],
   "source": [
    "F * B**(-1) * F_inv * U * F * B * F_inv"
   ]
  },
  {
   "cell_type": "markdown",
   "metadata": {
    "collapsed": true,
    "deletable": true,
    "editable": true
   },
   "source": [
    "---"
   ]
  },
  {
   "cell_type": "code",
   "execution_count": 68,
   "metadata": {
    "collapsed": true,
    "deletable": true,
    "editable": true
   },
   "outputs": [],
   "source": [
    "P = Matrix(m, m, binomial)"
   ]
  },
  {
   "cell_type": "code",
   "execution_count": 69,
   "metadata": {
    "collapsed": false,
    "deletable": true,
    "editable": true
   },
   "outputs": [
    {
     "data": {
      "image/png": "[encoded data removed]",
      "text/latex": [
       "$$\\left[\\begin{matrix}0 & 0 & 0 & 0 & 0 & 0 & 0 & 0 & 0 & 0\\\\1 & 0 & 0 & 0 & 0 & 0 & 0 & 0 & 0 & 0\\\\1 & 2 & 0 & 0 & 0 & 0 & 0 & 0 & 0 & 0\\\\1 & 3 & 3 & 0 & 0 & 0 & 0 & 0 & 0 & 0\\\\1 & 4 & 6 & 4 & 0 & 0 & 0 & 0 & 0 & 0\\\\1 & 5 & 10 & 10 & 5 & 0 & 0 & 0 & 0 & 0\\\\1 & 6 & 15 & 20 & 15 & 6 & 0 & 0 & 0 & 0\\\\1 & 7 & 21 & 35 & 35 & 21 & 7 & 0 & 0 & 0\\\\1 & 8 & 28 & 56 & 70 & 56 & 28 & 8 & 0 & 0\\\\1 & 9 & 36 & 84 & 126 & 126 & 84 & 36 & 9 & 0\\end{matrix}\\right]$$"
      ],
      "text/plain": [
       "⎡0  0  0   0    0    0   0   0   0  0⎤\n",
       "⎢                                    ⎥\n",
       "⎢1  0  0   0    0    0   0   0   0  0⎥\n",
       "⎢                                    ⎥\n",
       "⎢1  2  0   0    0    0   0   0   0  0⎥\n",
       "⎢                                    ⎥\n",
       "⎢1  3  3   0    0    0   0   0   0  0⎥\n",
       "⎢                                    ⎥\n",
       "⎢1  4  6   4    0    0   0   0   0  0⎥\n",
       "⎢                                    ⎥\n",
       "⎢1  5  10  10   5    0   0   0   0  0⎥\n",
       "⎢                                    ⎥\n",
       "⎢1  6  15  20  15    6   0   0   0  0⎥\n",
       "⎢                                    ⎥\n",
       "⎢1  7  21  35  35   21   7   0   0  0⎥\n",
       "⎢                                    ⎥\n",
       "⎢1  8  28  56  70   56   28  8   0  0⎥\n",
       "⎢                                    ⎥\n",
       "⎣1  9  36  84  126  126  84  36  9  0⎦"
      ]
     },
     "execution_count": 69,
     "metadata": {},
     "output_type": "execute_result"
    }
   ],
   "source": [
    "P_bar = Matrix(m, m, lambda i, j: binomial(i, j) if j < i else 0)\n",
    "P_bar"
   ]
  },
  {
   "cell_type": "code",
   "execution_count": 70,
   "metadata": {
    "collapsed": false
   },
   "outputs": [
    {
     "data": {
      "image/png": "[encoded data removed]",
      "text/latex": [
       "$$\\left[\\begin{matrix}1 & 2 & 0 & 0 & 0 & 0 & 0 & 0\\\\0 & \\frac{1}{2} & \\frac{3}{2} & 0 & 0 & 0 & 0 & 0\\\\0 & \\frac{1}{6} & \\frac{1}{2} & \\frac{4}{3} & 0 & 0 & 0 & 0\\\\0 & 0 & \\frac{1}{4} & \\frac{1}{2} & \\frac{5}{4} & 0 & 0 & 0\\\\0 & - \\frac{1}{30} & 0 & \\frac{1}{3} & \\frac{1}{2} & \\frac{6}{5} & 0 & 0\\\\0 & 0 & - \\frac{1}{12} & 0 & \\frac{5}{12} & \\frac{1}{2} & \\frac{7}{6} & 0\\\\0 & \\frac{1}{42} & 0 & - \\frac{1}{6} & 0 & \\frac{1}{2} & \\frac{1}{2} & \\frac{8}{7}\\\\0 & 0 & \\frac{1}{12} & 0 & - \\frac{7}{24} & 0 & \\frac{7}{12} & \\frac{1}{2}\\end{matrix}\\right]$$"
      ],
      "text/plain": [
       "⎡1    2      0     0      0     0    0     0 ⎤\n",
       "⎢                                            ⎥\n",
       "⎢0   1/2    3/2    0      0     0    0     0 ⎥\n",
       "⎢                                            ⎥\n",
       "⎢0   1/6    1/2   4/3     0     0    0     0 ⎥\n",
       "⎢                                            ⎥\n",
       "⎢0    0     1/4   1/2    5/4    0    0     0 ⎥\n",
       "⎢                                            ⎥\n",
       "⎢0  -1/30    0    1/3    1/2   6/5   0     0 ⎥\n",
       "⎢                                            ⎥\n",
       "⎢0    0    -1/12   0    5/12   1/2  7/6    0 ⎥\n",
       "⎢                                            ⎥\n",
       "⎢0  1/42     0    -1/6    0    1/2  1/2   8/7⎥\n",
       "⎢                                            ⎥\n",
       "⎣0    0    1/12    0    -7/24   0   7/12  1/2⎦"
      ]
     },
     "execution_count": 70,
     "metadata": {},
     "output_type": "execute_result"
    }
   ],
   "source": [
    "production_matrix(P_bar[1:,:-1], exp=False)"
   ]
  },
  {
   "cell_type": "code",
   "execution_count": 71,
   "metadata": {
    "collapsed": false,
    "deletable": true,
    "editable": true
   },
   "outputs": [
    {
     "data": {
      "image/png": "[encoded data removed]",
      "text/latex": [
       "$$\\left[\\begin{matrix}1 & 2 & 0 & 0 & 0 & 0 & 0 & 0\\\\0 & \\frac{1}{2} & 3 & 0 & 0 & 0 & 0 & 0\\\\0 & \\frac{1}{12} & \\frac{1}{2} & 4 & 0 & 0 & 0 & 0\\\\0 & 0 & \\frac{1}{12} & \\frac{1}{2} & 5 & 0 & 0 & 0\\\\0 & - \\frac{1}{720} & 0 & \\frac{1}{12} & \\frac{1}{2} & 6 & 0 & 0\\\\0 & 0 & - \\frac{1}{720} & 0 & \\frac{1}{12} & \\frac{1}{2} & 7 & 0\\\\0 & \\frac{1}{30240} & 0 & - \\frac{1}{720} & 0 & \\frac{1}{12} & \\frac{1}{2} & 8\\\\0 & 0 & \\frac{1}{30240} & 0 & - \\frac{1}{720} & 0 & \\frac{1}{12} & \\frac{1}{2}\\end{matrix}\\right]$$"
      ],
      "text/plain": [
       "⎡1     2        0       0       0      0     0     0 ⎤\n",
       "⎢                                                    ⎥\n",
       "⎢0    1/2       3       0       0      0     0     0 ⎥\n",
       "⎢                                                    ⎥\n",
       "⎢0   1/12      1/2      4       0      0     0     0 ⎥\n",
       "⎢                                                    ⎥\n",
       "⎢0     0      1/12     1/2      5      0     0     0 ⎥\n",
       "⎢                                                    ⎥\n",
       "⎢0  -1/720      0      1/12    1/2     6     0     0 ⎥\n",
       "⎢                                                    ⎥\n",
       "⎢0     0     -1/720     0      1/12   1/2    7     0 ⎥\n",
       "⎢                                                    ⎥\n",
       "⎢0  1/30240     0     -1/720    0     1/12  1/2    8 ⎥\n",
       "⎢                                                    ⎥\n",
       "⎣0     0     1/30240    0     -1/720   0    1/12  1/2⎦"
      ]
     },
     "execution_count": 71,
     "metadata": {},
     "output_type": "execute_result"
    }
   ],
   "source": [
    "production_matrix(P_bar[1:,:-1], exp=True)"
   ]
  },
  {
   "cell_type": "code",
   "execution_count": 72,
   "metadata": {
    "collapsed": false
   },
   "outputs": [
    {
     "data": {
      "text/plain": [
       "(True,\n",
       " {0: [1/2, 1/2, 1/2, 1/2, 1/2, 1/2, 1/2],\n",
       "  1: [1/12, 1/12, 1/12, 1/12, 1/12, 1/12],\n",
       "  2: [0, 0, 0, 0, 0],\n",
       "  3: [-1/720, -1/720, -1/720, -1/720],\n",
       "  4: [0, 0, 0],\n",
       "  5: [1/30240, 1/30240]},\n",
       " {0: {k[0]: 0},\n",
       "  1: {k[1]: 0},\n",
       "  2: {k[2]: 0},\n",
       "  3: {k[3]: 0},\n",
       "  4: {k[4]: 0},\n",
       "  5: {k[5]: 0}})"
      ]
     },
     "execution_count": 72,
     "metadata": {},
     "output_type": "execute_result"
    }
   ],
   "source": [
    "is_exponential_RA(P_bar[1:,:-1], show_witness=True)"
   ]
  },
  {
   "cell_type": "code",
   "execution_count": 103,
   "metadata": {
    "collapsed": false,
    "deletable": true,
    "editable": true
   },
   "outputs": [
    {
     "data": {
      "image/png": "[encoded data removed]",
      "text/latex": [
       "$$\\left[\\begin{matrix}0 & 0 & 0 & 0 & 0 & 0 & 0 & 0 & 0 & 0\\\\0 & 0 & 0 & 0 & 0 & 0 & 0 & 0 & 0 & 0\\\\0 & 0 & 0 & 0 & 0 & 0 & 0 & 0 & 0 & 0\\\\1 & 0 & 0 & 0 & 0 & 0 & 0 & 0 & 0 & 0\\\\6 & 4 & 0 & 0 & 0 & 0 & 0 & 0 & 0 & 0\\\\25 & 30 & 10 & 0 & 0 & 0 & 0 & 0 & 0 & 0\\\\90 & 150 & 90 & 20 & 0 & 0 & 0 & 0 & 0 & 0\\\\301 & 630 & 525 & 210 & 35 & 0 & 0 & 0 & 0 & 0\\\\966 & 2408 & 2520 & 1400 & 420 & 56 & 0 & 0 & 0 & 0\\\\3025 & 8694 & 10836 & 7560 & 3150 & 756 & 84 & 0 & 0 & 0\\end{matrix}\\right]$$"
      ],
      "text/plain": [
       "⎡ 0     0      0     0     0     0   0   0  0  0⎤\n",
       "⎢                                               ⎥\n",
       "⎢ 0     0      0     0     0     0   0   0  0  0⎥\n",
       "⎢                                               ⎥\n",
       "⎢ 0     0      0     0     0     0   0   0  0  0⎥\n",
       "⎢                                               ⎥\n",
       "⎢ 1     0      0     0     0     0   0   0  0  0⎥\n",
       "⎢                                               ⎥\n",
       "⎢ 6     4      0     0     0     0   0   0  0  0⎥\n",
       "⎢                                               ⎥\n",
       "⎢ 25    30    10     0     0     0   0   0  0  0⎥\n",
       "⎢                                               ⎥\n",
       "⎢ 90   150    90     20    0     0   0   0  0  0⎥\n",
       "⎢                                               ⎥\n",
       "⎢301   630    525   210    35    0   0   0  0  0⎥\n",
       "⎢                                               ⎥\n",
       "⎢966   2408  2520   1400  420   56   0   0  0  0⎥\n",
       "⎢                                               ⎥\n",
       "⎣3025  8694  10836  7560  3150  756  84  0  0  0⎦"
      ]
     },
     "execution_count": 103,
     "metadata": {},
     "output_type": "execute_result"
    }
   ],
   "source": [
    "j=3\n",
    "(P_bar**j).applyfunc(lambda i: i/factorial(j))"
   ]
  },
  {
   "cell_type": "markdown",
   "metadata": {
    "collapsed": true,
    "deletable": true,
    "editable": true
   },
   "source": [
    "---"
   ]
  },
  {
   "cell_type": "code",
   "execution_count": 3,
   "metadata": {
    "collapsed": false,
    "deletable": true,
    "editable": true
   },
   "outputs": [],
   "source": [
    "def h(t):\n",
    "    return t/(1-t)"
   ]
  },
  {
   "cell_type": "code",
   "execution_count": 4,
   "metadata": {
    "collapsed": false,
    "deletable": true,
    "editable": true
   },
   "outputs": [
    {
     "data": {
      "image/png": "[encoded data removed]",
      "text/latex": [
       "$$\\frac{t}{- t + 1}$$"
      ],
      "text/plain": [
       "  t   \n",
       "──────\n",
       "-t + 1"
      ]
     },
     "execution_count": 4,
     "metadata": {},
     "output_type": "execute_result"
    }
   ],
   "source": [
    "t = symbols('t')\n",
    "h(t)"
   ]
  },
  {
   "cell_type": "code",
   "execution_count": 5,
   "metadata": {
    "collapsed": false,
    "deletable": true,
    "editable": true
   },
   "outputs": [
    {
     "data": {
      "image/png": "[encoded data removed]",
      "text/latex": [
       "$$\\frac{t}{- 2 t + 1}$$"
      ],
      "text/plain": [
       "   t    \n",
       "────────\n",
       "-2⋅t + 1"
      ]
     },
     "execution_count": 5,
     "metadata": {},
     "output_type": "execute_result"
    }
   ],
   "source": [
    "h(h(t)).simplify()"
   ]
  },
  {
   "cell_type": "code",
   "execution_count": 6,
   "metadata": {
    "collapsed": false,
    "deletable": true,
    "editable": true
   },
   "outputs": [
    {
     "data": {
      "image/png": "[encoded data removed]",
      "text/latex": [
       "$$- \\frac{t}{3 t - 1}$$"
      ],
      "text/plain": [
       "  -t   \n",
       "───────\n",
       "3⋅t - 1"
      ]
     },
     "execution_count": 6,
     "metadata": {},
     "output_type": "execute_result"
    }
   ],
   "source": [
    "h(h(h(t))).simplify()"
   ]
  },
  {
   "cell_type": "code",
   "execution_count": 7,
   "metadata": {
    "collapsed": false,
    "deletable": true,
    "editable": true
   },
   "outputs": [
    {
     "data": {
      "image/png": "[encoded data removed]",
      "text/latex": [
       "$$\\frac{t}{\\left(- t + 1\\right) \\left(- \\frac{t}{- t + 1} + 1\\right) \\left(- \\frac{t}{\\left(- t + 1\\right) \\left(- \\frac{t}{- t + 1} + 1\\right)} + 1\\right) \\left(- \\frac{t}{\\left(- t + 1\\right) \\left(- \\frac{t}{- t + 1} + 1\\right) \\left(- \\frac{t}{\\left(- t + 1\\right) \\left(- \\frac{t}{- t + 1} + 1\\right)} + 1\\right)} + 1\\right)}$$"
      ],
      "text/plain": [
       "                                                           t                  \n",
       "──────────────────────────────────────────────────────────────────────────────\n",
       "         ⎛    t       ⎞ ⎛             t               ⎞ ⎛                     \n",
       "(-t + 1)⋅⎜- ────── + 1⎟⋅⎜- ─────────────────────── + 1⎟⋅⎜- ───────────────────\n",
       "         ⎝  -t + 1    ⎠ ⎜           ⎛    t       ⎞    ⎟ ⎜           ⎛    t    \n",
       "                        ⎜  (-t + 1)⋅⎜- ────── + 1⎟    ⎟ ⎜  (-t + 1)⋅⎜- ────── \n",
       "                        ⎝           ⎝  -t + 1    ⎠    ⎠ ⎜           ⎝  -t + 1 \n",
       "                                                        ⎜                     \n",
       "                                                        ⎝                     \n",
       "\n",
       "                                         \n",
       "─────────────────────────────────────────\n",
       "        t                               ⎞\n",
       "──────────────────────────────────── + 1⎟\n",
       "   ⎞ ⎛             t               ⎞    ⎟\n",
       "+ 1⎟⋅⎜- ─────────────────────── + 1⎟    ⎟\n",
       "   ⎠ ⎜           ⎛    t       ⎞    ⎟    ⎟\n",
       "     ⎜  (-t + 1)⋅⎜- ────── + 1⎟    ⎟    ⎟\n",
       "     ⎝           ⎝  -t + 1    ⎠    ⎠    ⎠"
      ]
     },
     "execution_count": 7,
     "metadata": {},
     "output_type": "execute_result"
    }
   ],
   "source": [
    "h(h(h(h(t))))"
   ]
  },
  {
   "cell_type": "code",
   "execution_count": 8,
   "metadata": {
    "collapsed": true,
    "deletable": true,
    "editable": true
   },
   "outputs": [],
   "source": [
    "def hc(t):\n",
    "    return (1-sqrt(1-4*t))/(2)"
   ]
  },
  {
   "cell_type": "code",
   "execution_count": 9,
   "metadata": {
    "collapsed": false,
    "deletable": true,
    "editable": true
   },
   "outputs": [
    {
     "data": {
      "image/png": "[encoded data removed]",
      "text/latex": [
       "$$t + t^{2} + 2 t^{3} + 5 t^{4} + 14 t^{5} + 42 t^{6} + 132 t^{7} + 429 t^{8} + 1430 t^{9} + \\mathcal{O}\\left(t^{10}\\right)$$"
      ],
      "text/plain": [
       "     2      3      4       5       6        7        8         9    ⎛ 10⎞\n",
       "t + t  + 2⋅t  + 5⋅t  + 14⋅t  + 42⋅t  + 132⋅t  + 429⋅t  + 1430⋅t  + O⎝t  ⎠"
      ]
     },
     "execution_count": 9,
     "metadata": {},
     "output_type": "execute_result"
    }
   ],
   "source": [
    "hc(t).series(t, n=10)"
   ]
  },
  {
   "cell_type": "code",
   "execution_count": 16,
   "metadata": {
    "collapsed": false,
    "deletable": true,
    "editable": true
   },
   "outputs": [
    {
     "data": {
      "image/png": "[encoded data removed]",
      "text/latex": [
       "$$- \\frac{1}{2} \\sqrt{2 \\sqrt{2 \\sqrt{- 4 t + 1} - 1} - 1} + \\frac{1}{2}$$"
      ],
      "text/plain": [
       "      _______________________________    \n",
       "     ╱      ____________________         \n",
       "    ╱      ╱     __________              \n",
       "  ╲╱   2⋅╲╱  2⋅╲╱ -4⋅t + 1  - 1  - 1    1\n",
       "- ─────────────────────────────────── + ─\n",
       "                   2                    2"
      ]
     },
     "execution_count": 16,
     "metadata": {},
     "output_type": "execute_result"
    }
   ],
   "source": [
    "(hc(hc(hc(t))))"
   ]
  }
 ],
 "metadata": {
  "kernelspec": {
   "display_name": "Python 3",
   "language": "python",
   "name": "python3"
  },
  "language_info": {
   "codemirror_mode": {
    "name": "ipython",
    "version": 3
   },
   "file_extension": ".py",
   "mimetype": "text/x-python",
   "name": "python",
   "nbconvert_exporter": "python",
   "pygments_lexer": "ipython3",
   "version": "3.6.0"
  }
 },
 "nbformat": 4,
 "nbformat_minor": 2
}
