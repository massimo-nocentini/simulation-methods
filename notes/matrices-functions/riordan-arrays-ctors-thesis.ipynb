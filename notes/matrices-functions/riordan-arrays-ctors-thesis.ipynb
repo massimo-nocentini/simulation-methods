{
 "cells": [
  {
   "cell_type": "markdown",
   "metadata": {
    "deletable": true,
    "editable": true
   },
   "source": [
    "<p>\n",
    "<img src=\"http://www.cerm.unifi.it/chianti/images/logo%20unifi_positivo.jpg\" \n",
    "        alt=\"UniFI logo\" style=\"float: left; width: 20%; height: 20%;\">\n",
    "<div align=\"right\">\n",
    "Massimo Nocentini<br>\n",
    "<small>\n",
    "<br>March 2, 2018: compositional inverse\n",
    "<br>February 26, 2018: splitting from generic nb\n",
    "</small>\n",
    "</div>\n",
    "</p>\n",
    "<br>\n",
    "<br>\n",
    "<div align=\"center\">\n",
    "<b>Abstract</b><br>\n",
    "Ctors for (symbolic) Riordan arrays.\n",
    "</div>"
   ]
  },
  {
   "cell_type": "code",
   "execution_count": 1,
   "metadata": {
    "collapsed": true,
    "deletable": true,
    "editable": true
   },
   "outputs": [],
   "source": [
    "from sympy import *\n",
    "from sympy.abc import n, i, N, x, lamda, phi, z, j, r, k, a, t, alpha\n",
    "\n",
    "from sequences import *\n",
    "\n",
    "init_printing()"
   ]
  },
  {
   "cell_type": "code",
   "execution_count": 22,
   "metadata": {
    "collapsed": false,
    "deletable": true,
    "editable": true
   },
   "outputs": [],
   "source": [
    "m = 5\n",
    "d_fn, h_fn = Function('d'), Function('h')\n",
    "d, h = IndexedBase('d'), IndexedBase('h')"
   ]
  },
  {
   "cell_type": "markdown",
   "metadata": {
    "deletable": true,
    "editable": true
   },
   "source": [
    "---"
   ]
  },
  {
   "cell_type": "markdown",
   "metadata": {
    "deletable": true,
    "editable": true
   },
   "source": [
    "## By series convolution"
   ]
  },
  {
   "cell_type": "code",
   "execution_count": 26,
   "metadata": {
    "collapsed": false,
    "deletable": true,
    "editable": true
   },
   "outputs": [
    {
     "data": {
      "image/png": "[encoded data removed]",
      "text/latex": [
       "$$\\left ( d{\\left (t \\right )} = t^{4} d_{4} + t^{3} d_{3} + t^{2} d_{2} + t d_{1} + 1, \\quad h{\\left (t \\right )} = t^{4} h_{3} + t^{3} h_{2} + t^{2} h_{1} + t\\right )$$"
      ],
      "text/plain": [
       "⎛        4         3         2                            4         3         \n",
       "⎝d(t) = t ⋅d[4] + t ⋅d[3] + t ⋅d[2] + t⋅d[1] + 1, h(t) = t ⋅h[3] + t ⋅h[2] + t\n",
       "\n",
       "2         ⎞\n",
       " ⋅h[1] + t⎠"
      ]
     },
     "execution_count": 26,
     "metadata": {},
     "output_type": "execute_result"
    }
   ],
   "source": [
    "d_series = Eq(d_fn(t), 1+sum(d[i]*t**i for i in range(1,m)))\n",
    "h_series = Eq(h_fn(t), t*(1+sum(h[i]*t**i for i in range(1,m-1)))).expand()\n",
    "\n",
    "d_series, h_series"
   ]
  },
  {
   "cell_type": "code",
   "execution_count": 27,
   "metadata": {
    "collapsed": false,
    "deletable": true,
    "editable": true
   },
   "outputs": [
    {
     "data": {
      "image/png": "[encoded data removed]",
      "text/latex": [
       "$$\\left[\\begin{matrix}1 & 0 & 0 & 0 & 0\\\\d_{1} & 1 & 0 & 0 & 0\\\\d_{2} & d_{1} + h_{1} & 1 & 0 & 0\\\\d_{3} & d_{1} h_{1} + d_{2} + h_{2} & d_{1} + 2 h_{1} & 1 & 0\\\\d_{4} & d_{1} h_{2} + d_{2} h_{1} + d_{3} + h_{3} & 2 d_{1} h_{1} + d_{2} + h_{1}^{2} + 2 h_{2} & d_{1} + 3 h_{1} & 1\\end{matrix}\\right]$$"
      ],
      "text/plain": [
       "⎡ 1                     0                                    0                \n",
       "⎢                                                                             \n",
       "⎢d[1]                   1                                    0                \n",
       "⎢                                                                             \n",
       "⎢d[2]              d[1] + h[1]                               1                \n",
       "⎢                                                                             \n",
       "⎢d[3]        d[1]⋅h[1] + d[2] + h[2]                   d[1] + 2⋅h[1]          \n",
       "⎢                                                                             \n",
       "⎢                                                                    2        \n",
       "⎣d[4]  d[1]⋅h[2] + d[2]⋅h[1] + d[3] + h[3]  2⋅d[1]⋅h[1] + d[2] + h[1]  + 2⋅h[2\n",
       "\n",
       "         0        0⎤\n",
       "                   ⎥\n",
       "         0        0⎥\n",
       "                   ⎥\n",
       "         0        0⎥\n",
       "                   ⎥\n",
       "         1        0⎥\n",
       "                   ⎥\n",
       "                   ⎥\n",
       "]  d[1] + 3⋅h[1]  1⎦"
      ]
     },
     "execution_count": 27,
     "metadata": {},
     "output_type": "execute_result"
    }
   ],
   "source": [
    "R = Matrix(m, m, riordan_matrix_by_convolution(m, d_series, h_series))\n",
    "R"
   ]
  },
  {
   "cell_type": "code",
   "execution_count": 28,
   "metadata": {
    "collapsed": false,
    "deletable": true,
    "editable": true
   },
   "outputs": [
    {
     "data": {
      "image/png": "[encoded data removed]",
      "text/latex": [
       "$$\\left[\\begin{matrix}d_{1} & 1 & 0 & 0\\\\- d_{1}^{2} + d_{2} & h_{1} & 1 & 0\\\\\\left(\\left(d_{1} + h_{1}\\right) d_{1} - d_{2}\\right) d_{1} - \\left(d_{1} + h_{1}\\right) d_{2} + d_{3} & - h_{1}^{2} + h_{2} & h_{1} & 1\\\\- \\left(d_{1} + 2 h_{1}\\right) d_{3} - \\left(\\left(\\left(d_{1} + h_{1}\\right) d_{1} - d_{2}\\right) \\left(d_{1} + 2 h_{1}\\right) - \\left(d_{1} h_{1} + d_{2} + h_{2}\\right) d_{1} + d_{3}\\right) d_{1} - \\left(- \\left(d_{1} + h_{1}\\right) \\left(d_{1} + 2 h_{1}\\right) + d_{1} h_{1} + d_{2} + h_{2}\\right) d_{2} + d_{4} & 2 h_{1}^{3} - 3 h_{1} h_{2} + h_{3} & - h_{1}^{2} + h_{2} & h_{1}\\end{matrix}\\right]$$"
      ],
      "text/plain": [
       "⎡                                                                             \n",
       "⎢                                                                             \n",
       "⎢                                                                             \n",
       "⎢                                                                             \n",
       "⎢                                                                             \n",
       "⎢                                                                             \n",
       "⎢                                                               ((d[1] + h[1])\n",
       "⎢                                                                             \n",
       "⎢                                                                             \n",
       "⎣-(d[1] + 2⋅h[1])⋅d[3] - (((d[1] + h[1])⋅d[1] - d[2])⋅(d[1] + 2⋅h[1]) - (d[1]⋅\n",
       "\n",
       "              d[1]                                                            \n",
       "                                                                              \n",
       "               2                                                              \n",
       "         - d[1]  + d[2]                                                       \n",
       "                                                                              \n",
       "                                                                              \n",
       "⋅d[1] - d[2])⋅d[1] - (d[1] + h[1])⋅d[2] + d[3]                                \n",
       "                                                                              \n",
       "                                                                              \n",
       "h[1] + d[2] + h[2])⋅d[1] + d[3])⋅d[1] - (-(d[1] + h[1])⋅(d[1] + 2⋅h[1]) + d[1]\n",
       "\n",
       "                                               1                      0       \n",
       "                                                                              \n",
       "                                                                              \n",
       "                                              h[1]                    1       \n",
       "                                                                              \n",
       "                                               2                              \n",
       "                                         - h[1]  + h[2]              h[1]     \n",
       "                                                                              \n",
       "                                        3                             2       \n",
       "⋅h[1] + d[2] + h[2])⋅d[2] + d[4]  2⋅h[1]  - 3⋅h[1]⋅h[2] + h[3]  - h[1]  + h[2]\n",
       "\n",
       "   0  ⎤\n",
       "      ⎥\n",
       "      ⎥\n",
       "   0  ⎥\n",
       "      ⎥\n",
       "      ⎥\n",
       "   1  ⎥\n",
       "      ⎥\n",
       "      ⎥\n",
       "  h[1]⎦"
      ]
     },
     "execution_count": 28,
     "metadata": {},
     "output_type": "execute_result"
    }
   ],
   "source": [
    "production_matrix(R) # too verbose to show"
   ]
  },
  {
   "cell_type": "code",
   "execution_count": 16,
   "metadata": {
    "collapsed": false,
    "deletable": true,
    "editable": true
   },
   "outputs": [
    {
     "data": {
      "image/png": "[encoded data removed]",
      "text/latex": [
       "$$\\left ( d{\\left (t \\right )} = \\frac{1}{- t + 1}, \\quad h{\\left (t \\right )} = \\frac{t}{- t + 1}\\right )$$"
      ],
      "text/plain": [
       "⎛         1              t   ⎞\n",
       "⎜d(t) = ──────, h(t) = ──────⎟\n",
       "⎝       -t + 1         -t + 1⎠"
      ]
     },
     "execution_count": 16,
     "metadata": {},
     "output_type": "execute_result"
    }
   ],
   "source": [
    "d_series = Eq(d_fn(t), 1/(1-t))\n",
    "h_series = Eq(h_fn(t), t*d_series.rhs)\n",
    "\n",
    "d_series, h_series"
   ]
  },
  {
   "cell_type": "code",
   "execution_count": 21,
   "metadata": {
    "collapsed": false,
    "deletable": true,
    "editable": true
   },
   "outputs": [
    {
     "data": {
      "image/png": "[encoded data removed]",
      "text/latex": [
       "$$\\left[\\begin{matrix}1 & 0 & 0 & 0 & 0 & 0 & 0 & 0 & 0 & 0\\\\1 & 1 & 0 & 0 & 0 & 0 & 0 & 0 & 0 & 0\\\\1 & 2 & 1 & 0 & 0 & 0 & 0 & 0 & 0 & 0\\\\1 & 3 & 3 & 1 & 0 & 0 & 0 & 0 & 0 & 0\\\\1 & 4 & 6 & 4 & 1 & 0 & 0 & 0 & 0 & 0\\\\1 & 5 & 10 & 10 & 5 & 1 & 0 & 0 & 0 & 0\\\\1 & 6 & 15 & 20 & 15 & 6 & 1 & 0 & 0 & 0\\\\1 & 7 & 21 & 35 & 35 & 21 & 7 & 1 & 0 & 0\\\\1 & 8 & 28 & 56 & 70 & 56 & 28 & 8 & 1 & 0\\\\1 & 9 & 36 & 84 & 126 & 126 & 84 & 36 & 9 & 1\\end{matrix}\\right]$$"
      ],
      "text/plain": [
       "⎡1  0  0   0    0    0   0   0   0  0⎤\n",
       "⎢                                    ⎥\n",
       "⎢1  1  0   0    0    0   0   0   0  0⎥\n",
       "⎢                                    ⎥\n",
       "⎢1  2  1   0    0    0   0   0   0  0⎥\n",
       "⎢                                    ⎥\n",
       "⎢1  3  3   1    0    0   0   0   0  0⎥\n",
       "⎢                                    ⎥\n",
       "⎢1  4  6   4    1    0   0   0   0  0⎥\n",
       "⎢                                    ⎥\n",
       "⎢1  5  10  10   5    1   0   0   0  0⎥\n",
       "⎢                                    ⎥\n",
       "⎢1  6  15  20  15    6   1   0   0  0⎥\n",
       "⎢                                    ⎥\n",
       "⎢1  7  21  35  35   21   7   1   0  0⎥\n",
       "⎢                                    ⎥\n",
       "⎢1  8  28  56  70   56   28  8   1  0⎥\n",
       "⎢                                    ⎥\n",
       "⎣1  9  36  84  126  126  84  36  9  1⎦"
      ]
     },
     "execution_count": 21,
     "metadata": {},
     "output_type": "execute_result"
    }
   ],
   "source": [
    "R = Matrix(10, 10, riordan_matrix_by_convolution(m, d_series, h_series))\n",
    "R"
   ]
  },
  {
   "cell_type": "markdown",
   "metadata": {
    "deletable": true,
    "editable": true
   },
   "source": [
    "## By recurrence relation"
   ]
  },
  {
   "cell_type": "code",
   "execution_count": 33,
   "metadata": {
    "collapsed": false,
    "deletable": true,
    "editable": true
   },
   "outputs": [
    {
     "data": {
      "image/png": "[encoded data removed]",
      "text/latex": [
       "$$\\left[\\begin{matrix}1 & 0 & 0 & 0 & 0\\\\\\bar{b} & a & 0 & 0 & 0\\\\\\bar{b}^{2} + a c & \\bar{b} a + a b & a^{2} & 0 & 0\\\\\\bar{b}^{3} + 2 \\bar{b} a c + a b c & \\bar{b}^{2} a + \\bar{b} a b + 2 a^{2} c + a b^{2} & \\bar{b} a^{2} + 2 a^{2} b & a^{3} & 0\\\\\\bar{b}^{4} + 3 \\bar{b}^{2} a c + 2 \\bar{b} a b c + 2 a^{2} c^{2} + a b^{2} c & \\bar{b}^{3} a + \\bar{b}^{2} a b + 3 \\bar{b} a^{2} c + \\bar{b} a b^{2} + 5 a^{2} b c + a b^{3} & \\bar{b}^{2} a^{2} + 2 \\bar{b} a^{2} b + 3 a^{3} c + 3 a^{2} b^{2} & \\bar{b} a^{3} + 3 a^{3} b & a^{4}\\end{matrix}\\right]$$"
      ],
      "text/plain": [
       "⎡                              1                                              \n",
       "⎢                                                                             \n",
       "⎢                           \\bar{b}                                           \n",
       "⎢                                                                             \n",
       "⎢                               2                                             \n",
       "⎢                        \\bar{b}  + a⋅c                                       \n",
       "⎢                                                                             \n",
       "⎢                      3                                                      \n",
       "⎢               \\bar{b}  + 2⋅\\bar{b}⋅a⋅c + a⋅b⋅c                              \n",
       "⎢                                                                             \n",
       "⎢       4            2                            2  2      2           3     \n",
       "⎣\\bar{b}  + 3⋅\\bar{b} ⋅a⋅c + 2⋅\\bar{b}⋅a⋅b⋅c + 2⋅a ⋅c  + a⋅b ⋅c  \\bar{b} ⋅a + \n",
       "\n",
       "                        0                                                     \n",
       "                                                                              \n",
       "                        a                                                     \n",
       "                                                                              \n",
       "                                                                              \n",
       "                 \\bar{b}⋅a + a⋅b                                              \n",
       "                                                                              \n",
       "           2                      2        2                                  \n",
       "    \\bar{b} ⋅a + \\bar{b}⋅a⋅b + 2⋅a ⋅c + a⋅b                                   \n",
       "                                                                              \n",
       "       2                  2                2      2          3         2  2   \n",
       "\\bar{b} ⋅a⋅b + 3⋅\\bar{b}⋅a ⋅c + \\bar{b}⋅a⋅b  + 5⋅a ⋅b⋅c + a⋅b   \\bar{b} ⋅a  + \n",
       "\n",
       "         0                                  0           0 ⎤\n",
       "                                                          ⎥\n",
       "         0                                  0           0 ⎥\n",
       "                                                          ⎥\n",
       "         2                                                ⎥\n",
       "        a                                   0           0 ⎥\n",
       "                                                          ⎥\n",
       "         2      2                           3             ⎥\n",
       "\\bar{b}⋅a  + 2⋅a ⋅b                        a            0 ⎥\n",
       "                                                          ⎥\n",
       "           2        3        2  2           3      3     4⎥\n",
       "2⋅\\bar{b}⋅a ⋅b + 3⋅a ⋅c + 3⋅a ⋅b   \\bar{b}⋅a  + 3⋅a ⋅b  a ⎦"
      ]
     },
     "execution_count": 33,
     "metadata": {},
     "output_type": "execute_result"
    }
   ],
   "source": [
    "dim = 5\n",
    "a, b, b_bar, c = symbols(r'a b \\bar{b} c')\n",
    "M = Matrix(dim, dim, \n",
    "           riordan_matrix_by_recurrence(\n",
    "               dim, lambda n, k: {(n-1, k-1):a, \n",
    "                                  (n-1, k): b if k else b_bar, \n",
    "                                  (n-1, k+1):c}))\n",
    "M"
   ]
  },
  {
   "cell_type": "code",
   "execution_count": 34,
   "metadata": {
    "collapsed": false,
    "deletable": true,
    "editable": true
   },
   "outputs": [
    {
     "data": {
      "image/png": "[encoded data removed]",
      "text/latex": [
       "$$\\left[\\begin{matrix}\\bar{b} & a & 0 & 0\\\\c & b & a & 0\\\\0 & c & b & a\\\\0 & 0 & c & b\\end{matrix}\\right]$$"
      ],
      "text/plain": [
       "⎡\\bar{b}  a  0  0⎤\n",
       "⎢                ⎥\n",
       "⎢   c     b  a  0⎥\n",
       "⎢                ⎥\n",
       "⎢   0     c  b  a⎥\n",
       "⎢                ⎥\n",
       "⎣   0     0  c  b⎦"
      ]
     },
     "execution_count": 34,
     "metadata": {},
     "output_type": "execute_result"
    }
   ],
   "source": [
    "production_matrix(M)"
   ]
  },
  {
   "cell_type": "markdown",
   "metadata": {
    "deletable": true,
    "editable": true
   },
   "source": [
    "## By $A, Z$ sequences"
   ]
  },
  {
   "cell_type": "markdown",
   "metadata": {
    "deletable": true,
    "editable": true
   },
   "source": [
    "### $\\mathcal{P}$"
   ]
  },
  {
   "cell_type": "code",
   "execution_count": 53,
   "metadata": {
    "collapsed": false,
    "deletable": true,
    "editable": true
   },
   "outputs": [
    {
     "data": {
      "image/png": "[encoded data removed]",
      "text/latex": [
       "$$\\left ( A{\\left (t \\right )} = t + 1, \\quad Z{\\left (t \\right )} = 1\\right )$$"
      ],
      "text/plain": [
       "(A(t) = t + 1, Z(t) = 1)"
      ]
     },
     "execution_count": 53,
     "metadata": {},
     "output_type": "execute_result"
    }
   ],
   "source": [
    "A, Z = Function('A'), Function('Z')\n",
    "A_eq = Eq(A(t), 1 + t)\n",
    "Z_eq = Eq(Z(t),1)\n",
    "A_eq, Z_eq"
   ]
  },
  {
   "cell_type": "code",
   "execution_count": 55,
   "metadata": {
    "collapsed": false,
    "deletable": true,
    "editable": true
   },
   "outputs": [
    {
     "data": {
      "image/png": "[encoded data removed]",
      "text/latex": [
       "$$\\left[\\begin{matrix}1 & 0 & 0 & 0 & 0 & 0 & 0 & 0 & 0 & 0\\\\1 & 1 & 0 & 0 & 0 & 0 & 0 & 0 & 0 & 0\\\\1 & 2 & 1 & 0 & 0 & 0 & 0 & 0 & 0 & 0\\\\1 & 3 & 3 & 1 & 0 & 0 & 0 & 0 & 0 & 0\\\\1 & 4 & 6 & 4 & 1 & 0 & 0 & 0 & 0 & 0\\\\1 & 5 & 10 & 10 & 5 & 1 & 0 & 0 & 0 & 0\\\\1 & 6 & 15 & 20 & 15 & 6 & 1 & 0 & 0 & 0\\\\1 & 7 & 21 & 35 & 35 & 21 & 7 & 1 & 0 & 0\\\\1 & 8 & 28 & 56 & 70 & 56 & 28 & 8 & 1 & 0\\\\1 & 9 & 36 & 84 & 126 & 126 & 84 & 36 & 9 & 1\\end{matrix}\\right]$$"
      ],
      "text/plain": [
       "⎡1  0  0   0    0    0   0   0   0  0⎤\n",
       "⎢                                    ⎥\n",
       "⎢1  1  0   0    0    0   0   0   0  0⎥\n",
       "⎢                                    ⎥\n",
       "⎢1  2  1   0    0    0   0   0   0  0⎥\n",
       "⎢                                    ⎥\n",
       "⎢1  3  3   1    0    0   0   0   0  0⎥\n",
       "⎢                                    ⎥\n",
       "⎢1  4  6   4    1    0   0   0   0  0⎥\n",
       "⎢                                    ⎥\n",
       "⎢1  5  10  10   5    1   0   0   0  0⎥\n",
       "⎢                                    ⎥\n",
       "⎢1  6  15  20  15    6   1   0   0  0⎥\n",
       "⎢                                    ⎥\n",
       "⎢1  7  21  35  35   21   7   1   0  0⎥\n",
       "⎢                                    ⎥\n",
       "⎢1  8  28  56  70   56   28  8   1  0⎥\n",
       "⎢                                    ⎥\n",
       "⎣1  9  36  84  126  126  84  36  9  1⎦"
      ]
     },
     "execution_count": 55,
     "metadata": {},
     "output_type": "execute_result"
    }
   ],
   "source": [
    "R = Matrix(10, 10, riordan_matrix_by_AZ_sequences(10, (Z_eq, A_eq)))\n",
    "R"
   ]
  },
  {
   "cell_type": "code",
   "execution_count": 56,
   "metadata": {
    "collapsed": false,
    "deletable": true,
    "editable": true
   },
   "outputs": [
    {
     "data": {
      "image/png": "[encoded data removed]",
      "text/latex": [
       "$$\\left[\\begin{matrix}1 & 1 & 0 & 0 & 0 & 0 & 0 & 0 & 0\\\\0 & 1 & 1 & 0 & 0 & 0 & 0 & 0 & 0\\\\0 & 0 & 1 & 1 & 0 & 0 & 0 & 0 & 0\\\\0 & 0 & 0 & 1 & 1 & 0 & 0 & 0 & 0\\\\0 & 0 & 0 & 0 & 1 & 1 & 0 & 0 & 0\\\\0 & 0 & 0 & 0 & 0 & 1 & 1 & 0 & 0\\\\0 & 0 & 0 & 0 & 0 & 0 & 1 & 1 & 0\\\\0 & 0 & 0 & 0 & 0 & 0 & 0 & 1 & 1\\\\0 & 0 & 0 & 0 & 0 & 0 & 0 & 0 & 1\\end{matrix}\\right]$$"
      ],
      "text/plain": [
       "⎡1  1  0  0  0  0  0  0  0⎤\n",
       "⎢                         ⎥\n",
       "⎢0  1  1  0  0  0  0  0  0⎥\n",
       "⎢                         ⎥\n",
       "⎢0  0  1  1  0  0  0  0  0⎥\n",
       "⎢                         ⎥\n",
       "⎢0  0  0  1  1  0  0  0  0⎥\n",
       "⎢                         ⎥\n",
       "⎢0  0  0  0  1  1  0  0  0⎥\n",
       "⎢                         ⎥\n",
       "⎢0  0  0  0  0  1  1  0  0⎥\n",
       "⎢                         ⎥\n",
       "⎢0  0  0  0  0  0  1  1  0⎥\n",
       "⎢                         ⎥\n",
       "⎢0  0  0  0  0  0  0  1  1⎥\n",
       "⎢                         ⎥\n",
       "⎣0  0  0  0  0  0  0  0  1⎦"
      ]
     },
     "execution_count": 56,
     "metadata": {},
     "output_type": "execute_result"
    }
   ],
   "source": [
    "production_matrix(R)"
   ]
  },
  {
   "cell_type": "markdown",
   "metadata": {
    "deletable": true,
    "editable": true
   },
   "source": [
    "### $\\mathcal{C}$"
   ]
  },
  {
   "cell_type": "code",
   "execution_count": 57,
   "metadata": {
    "collapsed": false,
    "deletable": true,
    "editable": true
   },
   "outputs": [
    {
     "data": {
      "image/png": "[encoded data removed]",
      "text/latex": [
       "$$\\left[\\begin{matrix}1 & 0 & 0 & 0 & 0 & 0 & 0 & 0 & 0 & 0\\\\1 & 1 & 0 & 0 & 0 & 0 & 0 & 0 & 0 & 0\\\\2 & 2 & 1 & 0 & 0 & 0 & 0 & 0 & 0 & 0\\\\5 & 5 & 3 & 1 & 0 & 0 & 0 & 0 & 0 & 0\\\\14 & 14 & 9 & 4 & 1 & 0 & 0 & 0 & 0 & 0\\\\42 & 42 & 28 & 14 & 5 & 1 & 0 & 0 & 0 & 0\\\\132 & 132 & 90 & 48 & 20 & 6 & 1 & 0 & 0 & 0\\\\429 & 429 & 297 & 165 & 75 & 27 & 7 & 1 & 0 & 0\\\\1430 & 1430 & 1001 & 572 & 275 & 110 & 35 & 8 & 1 & 0\\\\4862 & 4862 & 3432 & 2002 & 1001 & 429 & 154 & 44 & 9 & 1\\end{matrix}\\right]$$"
      ],
      "text/plain": [
       "⎡ 1     0     0     0     0     0    0   0   0  0⎤\n",
       "⎢                                                ⎥\n",
       "⎢ 1     1     0     0     0     0    0   0   0  0⎥\n",
       "⎢                                                ⎥\n",
       "⎢ 2     2     1     0     0     0    0   0   0  0⎥\n",
       "⎢                                                ⎥\n",
       "⎢ 5     5     3     1     0     0    0   0   0  0⎥\n",
       "⎢                                                ⎥\n",
       "⎢ 14    14    9     4     1     0    0   0   0  0⎥\n",
       "⎢                                                ⎥\n",
       "⎢ 42    42    28    14    5     1    0   0   0  0⎥\n",
       "⎢                                                ⎥\n",
       "⎢132   132    90    48    20    6    1   0   0  0⎥\n",
       "⎢                                                ⎥\n",
       "⎢429   429   297   165    75   27    7   1   0  0⎥\n",
       "⎢                                                ⎥\n",
       "⎢1430  1430  1001  572   275   110  35   8   1  0⎥\n",
       "⎢                                                ⎥\n",
       "⎣4862  4862  3432  2002  1001  429  154  44  9  1⎦"
      ]
     },
     "execution_count": 57,
     "metadata": {},
     "output_type": "execute_result"
    }
   ],
   "source": [
    "A = Function('A')\n",
    "A_ones = Eq(A(t), 1/(1-t))\n",
    "R = Matrix(10, 10, riordan_matrix_by_AZ_sequences(10, (A_ones, A_ones)))\n",
    "R"
   ]
  },
  {
   "cell_type": "code",
   "execution_count": 58,
   "metadata": {
    "collapsed": false,
    "deletable": true,
    "editable": true
   },
   "outputs": [
    {
     "data": {
      "image/png": "[encoded data removed]",
      "text/latex": [
       "$$\\left[\\begin{matrix}1 & 1 & 0 & 0 & 0 & 0 & 0 & 0 & 0\\\\1 & 1 & 1 & 0 & 0 & 0 & 0 & 0 & 0\\\\1 & 1 & 1 & 1 & 0 & 0 & 0 & 0 & 0\\\\1 & 1 & 1 & 1 & 1 & 0 & 0 & 0 & 0\\\\1 & 1 & 1 & 1 & 1 & 1 & 0 & 0 & 0\\\\1 & 1 & 1 & 1 & 1 & 1 & 1 & 0 & 0\\\\1 & 1 & 1 & 1 & 1 & 1 & 1 & 1 & 0\\\\1 & 1 & 1 & 1 & 1 & 1 & 1 & 1 & 1\\\\1 & 1 & 1 & 1 & 1 & 1 & 1 & 1 & 1\\end{matrix}\\right]$$"
      ],
      "text/plain": [
       "⎡1  1  0  0  0  0  0  0  0⎤\n",
       "⎢                         ⎥\n",
       "⎢1  1  1  0  0  0  0  0  0⎥\n",
       "⎢                         ⎥\n",
       "⎢1  1  1  1  0  0  0  0  0⎥\n",
       "⎢                         ⎥\n",
       "⎢1  1  1  1  1  0  0  0  0⎥\n",
       "⎢                         ⎥\n",
       "⎢1  1  1  1  1  1  0  0  0⎥\n",
       "⎢                         ⎥\n",
       "⎢1  1  1  1  1  1  1  0  0⎥\n",
       "⎢                         ⎥\n",
       "⎢1  1  1  1  1  1  1  1  0⎥\n",
       "⎢                         ⎥\n",
       "⎢1  1  1  1  1  1  1  1  1⎥\n",
       "⎢                         ⎥\n",
       "⎣1  1  1  1  1  1  1  1  1⎦"
      ]
     },
     "execution_count": 58,
     "metadata": {},
     "output_type": "execute_result"
    }
   ],
   "source": [
    "production_matrix(R)"
   ]
  },
  {
   "cell_type": "markdown",
   "metadata": {
    "deletable": true,
    "editable": true
   },
   "source": [
    "### $\\mathcal{R}$"
   ]
  },
  {
   "cell_type": "code",
   "execution_count": 65,
   "metadata": {
    "collapsed": false,
    "deletable": true,
    "editable": true
   },
   "outputs": [
    {
     "data": {
      "image/png": "[encoded data removed]",
      "text/latex": [
       "$$\\left[\\begin{matrix}1 & 0 & 0 & 0 & 0\\\\1 & 1 & 0 & 0 & 0\\\\a_{1} + 1 & a_{1} + 1 & 1 & 0 & 0\\\\a_{1}^{2} + 2 a_{1} + a_{2} + 1 & a_{1}^{2} + 2 a_{1} + a_{2} + 1 & 2 a_{1} + 1 & 1 & 0\\\\a_{1}^{3} + 3 a_{1}^{2} + 3 a_{1} a_{2} + 3 a_{1} + 2 a_{2} + a_{3} + 1 & a_{1}^{3} + 3 a_{1}^{2} + 3 a_{1} a_{2} + 3 a_{1} + 2 a_{2} + a_{3} + 1 & 3 a_{1}^{2} + 3 a_{1} + 2 a_{2} + 1 & 3 a_{1} + 1 & 1\\end{matrix}\\right]$$"
      ],
      "text/plain": [
       "⎡                            1                                                \n",
       "⎢                                                                             \n",
       "⎢                            1                                                \n",
       "⎢                                                                             \n",
       "⎢                         a[1] + 1                                            \n",
       "⎢                                                                             \n",
       "⎢                    2                                                        \n",
       "⎢                a[1]  + 2⋅a[1] + a[2] + 1                                   a\n",
       "⎢                                                                             \n",
       "⎢    3         2                                                 3         2  \n",
       "⎣a[1]  + 3⋅a[1]  + 3⋅a[1]⋅a[2] + 3⋅a[1] + 2⋅a[2] + a[3] + 1  a[1]  + 3⋅a[1]  +\n",
       "\n",
       "           0                                             0                    \n",
       "                                                                              \n",
       "           1                                             0                    \n",
       "                                                                              \n",
       "        a[1] + 1                                         1                    \n",
       "                                                                              \n",
       "   2                                                                          \n",
       "[1]  + 2⋅a[1] + a[2] + 1                            2⋅a[1] + 1                \n",
       "                                                                              \n",
       "                                                 2                            \n",
       " 3⋅a[1]⋅a[2] + 3⋅a[1] + 2⋅a[2] + a[3] + 1  3⋅a[1]  + 3⋅a[1] + 2⋅a[2] + 1  3⋅a[\n",
       "\n",
       "0       0⎤\n",
       "         ⎥\n",
       "0       0⎥\n",
       "         ⎥\n",
       "0       0⎥\n",
       "         ⎥\n",
       "         ⎥\n",
       "1       0⎥\n",
       "         ⎥\n",
       "         ⎥\n",
       "1] + 1  1⎦"
      ]
     },
     "execution_count": 65,
     "metadata": {},
     "output_type": "execute_result"
    }
   ],
   "source": [
    "dim = 5\n",
    "A = Function('A')\n",
    "a = IndexedBase('a')\n",
    "A_gen = Eq(A(t), sum((a[j] if j else 1)*t**j for j in range(dim)))\n",
    "R = Matrix(dim, dim, riordan_matrix_by_AZ_sequences(dim, (A_gen, A_gen)))\n",
    "R"
   ]
  },
  {
   "cell_type": "code",
   "execution_count": 66,
   "metadata": {
    "collapsed": false,
    "deletable": true,
    "editable": true
   },
   "outputs": [
    {
     "data": {
      "image/png": "[encoded data removed]",
      "text/latex": [
       "$$\\left[\\begin{matrix}1 & 0 & 0 & 0 & 0\\\\1 & 1 & 0 & 0 & 0\\\\z_{1} + 1 & a_{1} + 1 & 1 & 0 & 0\\\\a_{1} z_{1} + 2 z_{1} + z_{2} + 1 & a_{1}^{2} + a_{1} + a_{2} + z_{1} + 1 & 2 a_{1} + 1 & 1 & 0\\\\a_{1}^{2} z_{1} + 2 a_{1} z_{1} + 2 a_{1} z_{2} + a_{2} z_{1} + z_{1}^{2} + 3 z_{1} + 2 z_{2} + z_{3} + 1 & a_{1}^{3} + a_{1}^{2} + 3 a_{1} a_{2} + 2 a_{1} z_{1} + a_{1} + a_{2} + a_{3} + 2 z_{1} + z_{2} + 1 & 3 a_{1}^{2} + 2 a_{1} + 2 a_{2} + z_{1} + 1 & 3 a_{1} + 1 & 1\\end{matrix}\\right]$$"
      ],
      "text/plain": [
       "⎡                                           1                                 \n",
       "⎢                                                                             \n",
       "⎢                                           1                                 \n",
       "⎢                                                                             \n",
       "⎢                                       z[1] + 1                              \n",
       "⎢                                                                             \n",
       "⎢                                                                             \n",
       "⎢                             a[1]⋅z[1] + 2⋅z[1] + z[2] + 1                   \n",
       "⎢                                                                             \n",
       "⎢    2                                                    2                   \n",
       "⎣a[1] ⋅z[1] + 2⋅a[1]⋅z[1] + 2⋅a[1]⋅z[2] + a[2]⋅z[1] + z[1]  + 3⋅z[1] + 2⋅z[2] \n",
       "\n",
       "                                                    0                         \n",
       "                                                                              \n",
       "                                                    1                         \n",
       "                                                                              \n",
       "                                                 a[1] + 1                     \n",
       "                                                                              \n",
       "                                          2                                   \n",
       "                                      a[1]  + a[1] + a[2] + z[1] + 1          \n",
       "                                                                              \n",
       "                3       2                                                     \n",
       "+ z[3] + 1  a[1]  + a[1]  + 3⋅a[1]⋅a[2] + 2⋅a[1]⋅z[1] + a[1] + a[2] + a[3] + 2\n",
       "\n",
       "                                   0                        0       0⎤\n",
       "                                                                     ⎥\n",
       "                                   0                        0       0⎥\n",
       "                                                                     ⎥\n",
       "                                   1                        0       0⎥\n",
       "                                                                     ⎥\n",
       "                                                                     ⎥\n",
       "                               2⋅a[1] + 1                   1       0⎥\n",
       "                                                                     ⎥\n",
       "                        2                                            ⎥\n",
       "⋅z[1] + z[2] + 1  3⋅a[1]  + 2⋅a[1] + 2⋅a[2] + z[1] + 1  3⋅a[1] + 1  1⎦"
      ]
     },
     "execution_count": 66,
     "metadata": {},
     "output_type": "execute_result"
    }
   ],
   "source": [
    "z = IndexedBase('z')\n",
    "A_gen = Eq(A(t), sum((a[j] if j else 1)*t**j for j in range(dim)))\n",
    "Z_gen = Eq(Z(t), sum((z[j] if j else 1)*t**j for j in range(dim)))\n",
    "Raz = Matrix(dim, dim, riordan_matrix_by_AZ_sequences(dim, (Z_gen, A_gen)))\n",
    "Raz"
   ]
  },
  {
   "cell_type": "code",
   "execution_count": 67,
   "metadata": {
    "collapsed": false,
    "deletable": true,
    "editable": true
   },
   "outputs": [
    {
     "data": {
      "image/png": "[encoded data removed]",
      "text/latex": [
       "$$\\left ( \\left[\\begin{matrix}1 & 1 & 0 & 0\\\\a_{1} & a_{1} & 1 & 0\\\\a_{2} & a_{2} & a_{1} & 1\\\\a_{3} & a_{3} & a_{2} & a_{1}\\end{matrix}\\right], \\quad \\left[\\begin{matrix}1 & 1 & 0 & 0\\\\z_{1} & a_{1} & 1 & 0\\\\z_{2} & a_{2} & a_{1} & 1\\\\z_{3} & a_{3} & a_{2} & a_{1}\\end{matrix}\\right]\\right )$$"
      ],
      "text/plain": [
       "⎛⎡ 1     1     0     0  ⎤  ⎡ 1     1     0     0  ⎤⎞\n",
       "⎜⎢                      ⎥  ⎢                      ⎥⎟\n",
       "⎜⎢a[1]  a[1]   1     0  ⎥  ⎢z[1]  a[1]   1     0  ⎥⎟\n",
       "⎜⎢                      ⎥, ⎢                      ⎥⎟\n",
       "⎜⎢a[2]  a[2]  a[1]   1  ⎥  ⎢z[2]  a[2]  a[1]   1  ⎥⎟\n",
       "⎜⎢                      ⎥  ⎢                      ⎥⎟\n",
       "⎝⎣a[3]  a[3]  a[2]  a[1]⎦  ⎣z[3]  a[3]  a[2]  a[1]⎦⎠"
      ]
     },
     "execution_count": 67,
     "metadata": {},
     "output_type": "execute_result"
    }
   ],
   "source": [
    "production_matrix(R), production_matrix(Raz)"
   ]
  },
  {
   "cell_type": "markdown",
   "metadata": {
    "deletable": true,
    "editable": true
   },
   "source": [
    "## Compositional inverse"
   ]
  },
  {
   "cell_type": "code",
   "execution_count": 69,
   "metadata": {
    "collapsed": false,
    "deletable": true,
    "editable": true
   },
   "outputs": [
    {
     "data": {
      "image/png": "[encoded data removed]",
      "text/latex": [
       "$$\\left ( h{\\left (t \\right )} = - \\frac{1}{2} \\sqrt{- 4 t + 1} + \\frac{1}{2}, \\quad \\bar{ h }{\\left (y \\right )} = - y \\left(y - 1\\right)\\right )$$"
      ],
      "text/plain": [
       "⎛           __________                               ⎞\n",
       "⎜         ╲╱ -4⋅t + 1    1                           ⎟\n",
       "⎜h(t) = - ──────────── + ─, \\bar{ h }(y) = -y⋅(y - 1)⎟\n",
       "⎝              2         2                           ⎠"
      ]
     },
     "execution_count": 69,
     "metadata": {},
     "output_type": "execute_result"
    }
   ],
   "source": [
    "H = Function('h')\n",
    "C_eq = Eq(H(t), (1-sqrt(1-4*t))/2)\n",
    "C_eq, compositional_inverse(C_eq)"
   ]
  },
  {
   "cell_type": "code",
   "execution_count": 70,
   "metadata": {
    "collapsed": false,
    "deletable": true,
    "editable": true
   },
   "outputs": [
    {
     "data": {
      "image/png": "[encoded data removed]",
      "text/latex": [
       "$$\\left ( h{\\left (t \\right )} = \\frac{t}{- t + 1}, \\quad \\bar{ h }{\\left (y \\right )} = \\frac{y}{y + 1}, \\quad \\bar{ \\bar{ h } }{\\left (t \\right )} = - \\frac{t}{t - 1}\\right )$$"
      ],
      "text/plain": [
       "⎛         t                      y                            -t  ⎞\n",
       "⎜h(t) = ──────, \\bar{ h }(y) = ─────, \\bar{ \\bar{ h } }(t) = ─────⎟\n",
       "⎝       -t + 1                 y + 1                         t - 1⎠"
      ]
     },
     "execution_count": 70,
     "metadata": {},
     "output_type": "execute_result"
    }
   ],
   "source": [
    "P_eq = Eq(H(t), t/(1-t))\n",
    "(P_eq, \n",
    " compositional_inverse(P_eq), \n",
    " compositional_inverse(compositional_inverse(P_eq), y=t))"
   ]
  },
  {
   "cell_type": "markdown",
   "metadata": {
    "deletable": true,
    "editable": true
   },
   "source": [
    "## Exponential RA"
   ]
  },
  {
   "cell_type": "markdown",
   "metadata": {},
   "source": [
    "build the triangle of Stirling numbers of the II kind"
   ]
  },
  {
   "cell_type": "code",
   "execution_count": 71,
   "metadata": {
    "collapsed": false,
    "deletable": true,
    "editable": true
   },
   "outputs": [
    {
     "data": {
      "image/png": "[encoded data removed]",
      "text/latex": [
       "$$\\left ( d{\\left (t \\right )} = 1, \\quad h{\\left (t \\right )} = e^{t} - 1\\right )$$"
      ],
      "text/plain": [
       "⎛                  t    ⎞\n",
       "⎝d(t) = 1, h(t) = ℯ  - 1⎠"
      ]
     },
     "execution_count": 71,
     "metadata": {},
     "output_type": "execute_result"
    }
   ],
   "source": [
    "d_series = Eq(d_fn(t), 1)\n",
    "h_series = Eq(h_fn(t), exp(t)-1)\n",
    "d_series, h_series "
   ]
  },
  {
   "cell_type": "code",
   "execution_count": 72,
   "metadata": {
    "collapsed": false,
    "deletable": true,
    "editable": true
   },
   "outputs": [
    {
     "data": {
      "image/png": "[encoded data removed]",
      "text/latex": [
       "$$\\left[\\begin{matrix}1 & 0 & 0 & 0 & 0 & 0 & 0 & 0 & 0 & 0\\\\0 & 1 & 0 & 0 & 0 & 0 & 0 & 0 & 0 & 0\\\\0 & 1 & 1 & 0 & 0 & 0 & 0 & 0 & 0 & 0\\\\0 & 1 & 3 & 1 & 0 & 0 & 0 & 0 & 0 & 0\\\\0 & 1 & 7 & 6 & 1 & 0 & 0 & 0 & 0 & 0\\\\0 & 1 & 15 & 25 & 10 & 1 & 0 & 0 & 0 & 0\\\\0 & 1 & 31 & 90 & 65 & 15 & 1 & 0 & 0 & 0\\\\0 & 1 & 63 & 301 & 350 & 140 & 21 & 1 & 0 & 0\\\\0 & 1 & 127 & 966 & 1701 & 1050 & 266 & 28 & 1 & 0\\\\0 & 1 & 255 & 3025 & 7770 & 6951 & 2646 & 462 & 36 & 1\\end{matrix}\\right]$$"
      ],
      "text/plain": [
       "⎡1  0   0    0     0     0     0     0   0   0⎤\n",
       "⎢                                             ⎥\n",
       "⎢0  1   0    0     0     0     0     0   0   0⎥\n",
       "⎢                                             ⎥\n",
       "⎢0  1   1    0     0     0     0     0   0   0⎥\n",
       "⎢                                             ⎥\n",
       "⎢0  1   3    1     0     0     0     0   0   0⎥\n",
       "⎢                                             ⎥\n",
       "⎢0  1   7    6     1     0     0     0   0   0⎥\n",
       "⎢                                             ⎥\n",
       "⎢0  1  15    25    10    1     0     0   0   0⎥\n",
       "⎢                                             ⎥\n",
       "⎢0  1  31    90    65    15    1     0   0   0⎥\n",
       "⎢                                             ⎥\n",
       "⎢0  1  63   301   350   140    21    1   0   0⎥\n",
       "⎢                                             ⎥\n",
       "⎢0  1  127  966   1701  1050  266   28   1   0⎥\n",
       "⎢                                             ⎥\n",
       "⎣0  1  255  3025  7770  6951  2646  462  36  1⎦"
      ]
     },
     "execution_count": 72,
     "metadata": {},
     "output_type": "execute_result"
    }
   ],
   "source": [
    "R = Matrix(10, 10, riordan_matrix_exponential(\n",
    "            riordan_matrix_by_convolution(10, d_series, h_series)))\n",
    "R"
   ]
  },
  {
   "cell_type": "markdown",
   "metadata": {
    "deletable": true,
    "editable": true
   },
   "source": [
    "---\n",
    "<a rel=\"license\" href=\"http://creativecommons.org/licenses/by-nc-sa/4.0/\"><img alt=\"Creative Commons License\" style=\"border-width:0\" src=\"https://i.creativecommons.org/l/by-nc-sa/4.0/88x31.png\" /></a><br />This work is licensed under a <a rel=\"license\" href=\"http://creativecommons.org/licenses/by-nc-sa/4.0/\">Creative Commons Attribution-NonCommercial-ShareAlike 4.0 International License</a>."
   ]
  }
 ],
 "metadata": {
  "kernelspec": {
   "display_name": "Python 3",
   "language": "python",
   "name": "python3"
  },
  "language_info": {
   "codemirror_mode": {
    "name": "ipython",
    "version": 3
   },
   "file_extension": ".py",
   "mimetype": "text/x-python",
   "name": "python",
   "nbconvert_exporter": "python",
   "pygments_lexer": "ipython3",
   "version": "3.6.0"
  }
 },
 "nbformat": 4,
 "nbformat_minor": 2
}
