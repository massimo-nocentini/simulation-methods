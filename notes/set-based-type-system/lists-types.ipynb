{
 "cells": [
  {
   "cell_type": "markdown",
   "metadata": {},
   "source": [
    "<p>\n",
    "<img src=\"http://www.cerm.unifi.it/chianti/images/logo%20unifi_positivo.jpg\" \n",
    "        alt=\"UniFI logo\" style=\"float: left; width: 20%; height: 20%;\">\n",
    "<div align=\"right\">\n",
    "Massimo Nocentini<br>\n",
    "</div>\n",
    "</p>\n",
    "<br>\n",
    "<div align=\"center\">\n",
    "<b>Abstract</b><br>\n",
    "In this document we collect a naive <i>type system</i> based on sets.\n",
    "</div>"
   ]
  },
  {
   "cell_type": "code",
   "execution_count": 1,
   "metadata": {},
   "outputs": [],
   "source": [
    "from itertools import repeat\n",
    "from sympy import *\n",
    "#from type_system import *"
   ]
  },
  {
   "cell_type": "code",
   "execution_count": 2,
   "metadata": {},
   "outputs": [],
   "source": [
    "%run ../../src/commons.py"
   ]
  },
  {
   "cell_type": "code",
   "execution_count": 3,
   "metadata": {},
   "outputs": [],
   "source": [
    "%run ./type-system.py"
   ]
  },
  {
   "cell_type": "markdown",
   "metadata": {},
   "source": [
    "---"
   ]
  },
  {
   "cell_type": "code",
   "execution_count": 4,
   "metadata": {},
   "outputs": [],
   "source": [
    "init_printing()"
   ]
  },
  {
   "cell_type": "code",
   "execution_count": 5,
   "metadata": {},
   "outputs": [],
   "source": [
    "x,y,m,n,t,z = symbols('x y m n t z', commutative=True)\n",
    "alpha, beta, gamma, eta = symbols(r'\\alpha \\beta \\gamma \\eta', commutative=True)\n",
    "f,g = Function('f'), Function('g')"
   ]
  },
  {
   "cell_type": "markdown",
   "metadata": {},
   "source": [
    "# lists"
   ]
  },
  {
   "cell_type": "code",
   "execution_count": 6,
   "metadata": {},
   "outputs": [
    {
     "data": {
      "image/png": "[encoded data removed]",
      "text/latex": [
       "$$\\mathcal{L}{\\left (\\alpha,z \\right )} = - \\frac{1}{\\alpha z - 1}$$"
      ],
      "text/plain": [
       "                             -1      \n",
       "\\mathcal{L}(\\alpha, z) = ────────────\n",
       "                         \\alpha⋅z - 1"
      ]
     },
     "execution_count": 6,
     "metadata": {},
     "output_type": "execute_result"
    }
   ],
   "source": [
    "lst_of_alpha_gf, = lst(tyvar(alpha)[z]).gf()\n",
    "lst_of_alpha_gf"
   ]
  },
  {
   "cell_type": "code",
   "execution_count": 7,
   "metadata": {},
   "outputs": [
    {
     "data": {
      "image/png": "[encoded data removed]",
      "text/latex": [
       "$$\\operatorname{gf}{\\left (z,\\alpha \\right )} = - \\left(z \\alpha - 1\\right)^{-1} = 1 + z \\alpha + z^{2} \\alpha^{2} + z^{3} \\alpha^{3} + z^{4} \\alpha^{4} + z^{5} \\alpha^{5} + O\\left(z^{6}\\right)$$"
      ],
      "text/plain": [
       "                               -1                   2       2    3       3    \n",
       "gf(z, \\alpha) = -(z⋅\\alpha - 1)   = 1 + z⋅\\alpha + z ⋅\\alpha  + z ⋅\\alpha  + z\n",
       "\n",
       "4       4    5       5    ⎛ 6⎞\n",
       " ⋅\\alpha  + z ⋅\\alpha  + O⎝z ⎠"
      ]
     },
     "execution_count": 7,
     "metadata": {},
     "output_type": "execute_result"
    }
   ],
   "source": [
    "occupancy(lst_of_alpha_gf, syms=[alpha], objects='unlike', boxes='unlike').series(z)"
   ]
  },
  {
   "cell_type": "code",
   "execution_count": 8,
   "metadata": {},
   "outputs": [
    {
     "data": {
      "image/png": "[encoded data removed]",
      "text/latex": [
       "$$\\operatorname{gf}{\\left (\\alpha,z \\right )} = - \\frac{1}{\\alpha z - 1} = 1 + \\alpha z + \\alpha^{2} z^{2} + \\alpha^{3} z^{3} + \\alpha^{4} z^{4} + \\alpha^{5} z^{5} + O\\left(z^{6}\\right)$$"
      ],
      "text/plain": [
       "                    -1                              2  2         3  3         \n",
       "gf(\\alpha, z) = ──────────── = 1 + \\alpha⋅z + \\alpha ⋅z  + \\alpha ⋅z  + \\alpha\n",
       "                \\alpha⋅z - 1                                                  \n",
       "\n",
       "4  4         5  5    ⎛ 6⎞\n",
       " ⋅z  + \\alpha ⋅z  + O⎝z ⎠\n",
       "                         "
      ]
     },
     "execution_count": 8,
     "metadata": {},
     "output_type": "execute_result"
    }
   ],
   "source": [
    "occupancy(lst_of_alpha_gf, syms=[alpha], objects='unlike', boxes='like').series(z)"
   ]
  },
  {
   "cell_type": "code",
   "execution_count": 9,
   "metadata": {},
   "outputs": [
    {
     "data": {
      "image/png": "[encoded data removed]",
      "text/latex": [
       "$$\\operatorname{gf}{\\left (z,\\bullet \\right )} = - \\left(z \\bullet - 1\\right)^{-1} = 1 + z \\bullet + z^{2} \\bullet^{2} + z^{3} \\bullet^{3} + z^{4} \\bullet^{4} + z^{5} \\bullet^{5} + O\\left(z^{6}\\right)$$"
      ],
      "text/plain": [
       "                                 -1                    2        2    3        \n",
       "gf(z, \\bullet) = -(z⋅\\bullet - 1)   = 1 + z⋅\\bullet + z ⋅\\bullet  + z ⋅\\bullet\n",
       "\n",
       "3    4        4    5        5    ⎛ 6⎞\n",
       "  + z ⋅\\bullet  + z ⋅\\bullet  + O⎝z ⎠"
      ]
     },
     "execution_count": 9,
     "metadata": {},
     "output_type": "execute_result"
    }
   ],
   "source": [
    "occupancy(lst_of_alpha_gf, syms=[alpha], objects='like', boxes='unlike').series(z)"
   ]
  },
  {
   "cell_type": "code",
   "execution_count": 10,
   "metadata": {},
   "outputs": [
    {
     "data": {
      "image/png": "[encoded data removed]",
      "text/latex": [
       "$$\\operatorname{gf}{\\left (\\circ,z \\right )} = - \\frac{1}{\\circ z - 1} = 1 + \\circ z + \\circ^{2} z^{2} + \\circ^{3} z^{3} + \\circ^{4} z^{4} + \\circ^{5} z^{5} + O\\left(z^{6}\\right)$$"
      ],
      "text/plain": [
       "                   -1                           2  2        3  3        4  4  \n",
       "gf(\\circ, z) = ─────────── = 1 + \\circ⋅z + \\circ ⋅z  + \\circ ⋅z  + \\circ ⋅z  +\n",
       "               \\circ⋅z - 1                                                    \n",
       "\n",
       "      5  5    ⎛ 6⎞\n",
       " \\circ ⋅z  + O⎝z ⎠\n",
       "                  "
      ]
     },
     "execution_count": 10,
     "metadata": {},
     "output_type": "execute_result"
    }
   ],
   "source": [
    "occupancy(lst_of_alpha_gf, syms=[alpha], objects='like', boxes='like').series(z)"
   ]
  },
  {
   "cell_type": "markdown",
   "metadata": {},
   "source": [
    "---"
   ]
  },
  {
   "cell_type": "code",
   "execution_count": 12,
   "metadata": {},
   "outputs": [
    {
     "data": {
      "image/png": "[encoded data removed]",
      "text/latex": [
       "$$\\mathcal{L}{\\left (z,w_{1} \\right )} = - \\frac{1}{w_{1} z + z ␣ - 1}$$"
      ],
      "text/plain": [
       "                          -1       \n",
       "\\mathcal{L}(z, w₁) = ──────────────\n",
       "                     w₁⋅z + z⋅␣ - 1"
      ]
     },
     "execution_count": 12,
     "metadata": {},
     "output_type": "execute_result"
    }
   ],
   "source": [
    "lst_of_maybe_of_alpha_gf, = lst(maybe(truth)[z]).gf()\n",
    "lst_of_maybe_of_alpha_gf"
   ]
  },
  {
   "cell_type": "code",
   "execution_count": 13,
   "metadata": {},
   "outputs": [
    {
     "data": {
      "image/png": "[encoded data removed]",
      "text/latex": [
       "$$\\operatorname{gf}{\\left (␣,z,w_{1} \\right )} = - \\left(z w_{1} + z ␣ - 1\\right)^{-1} = 1 + z \\left(w_{1} + ␣\\right) + z^{2} \\left(w_{1} ␣ + w_{1}^{2} + ␣ w_{1} + ␣^{2}\\right) + z^{3} \\left(w_{1} ␣ w_{1} + w_{1} ␣^{2} + w_{1}^{2} ␣ + w_{1}^{3} + ␣ w_{1} ␣ + ␣ w_{1}^{2} + ␣^{2} w_{1} + ␣^{3}\\right) + z^{4} \\left(w_{1} ␣ w_{1} ␣ + w_{1} ␣ w_{1}^{2} + w_{1} ␣^{2} w_{1} + w_{1} ␣^{3} + w_{1}^{2} ␣ w_{1} + w_{1}^{2} ␣^{2} + w_{1}^{3} ␣ + w_{1}^{4} + ␣ w_{1} ␣ w_{1} + ␣ w_{1} ␣^{2} + ␣ w_{1}^{2} ␣ + ␣ w_{1}^{3} + ␣^{2} w_{1} ␣ + ␣^{2} w_{1}^{2} + ␣^{3} w_{1} + ␣^{4}\\right) + O\\left(z^{5}\\right)$$"
      ],
      "text/plain": [
       "                                -1                     2 ⎛         2          \n",
       "gf(␣, z, w₁) = -(z⋅w₁ + z⋅␣ - 1)   = 1 + z⋅(w₁ + ␣) + z ⋅⎝w₁⋅␣ + w₁  + ␣⋅w₁ + \n",
       "\n",
       " 2⎞    3 ⎛              2     2       3                2    2       3⎞    4 ⎛ \n",
       "␣ ⎠ + z ⋅⎝w₁⋅␣⋅w₁ + w₁⋅␣  + w₁ ⋅␣ + w₁  + ␣⋅w₁⋅␣ + ␣⋅w₁  + ␣ ⋅w₁ + ␣ ⎠ + z ⋅⎝w\n",
       "\n",
       "                  2       2          3     2          2  2     3       4      \n",
       "₁⋅␣⋅w₁⋅␣ + w₁⋅␣⋅w₁  + w₁⋅␣ ⋅w₁ + w₁⋅␣  + w₁ ⋅␣⋅w₁ + w₁ ⋅␣  + w₁ ⋅␣ + w₁  + ␣⋅w\n",
       "\n",
       "               2       2         3    2         2   2    3       4⎞    ⎛ 5⎞\n",
       "₁⋅␣⋅w₁ + ␣⋅w₁⋅␣  + ␣⋅w₁ ⋅␣ + ␣⋅w₁  + ␣ ⋅w₁⋅␣ + ␣ ⋅w₁  + ␣ ⋅w₁ + ␣ ⎠ + O⎝z ⎠"
      ]
     },
     "execution_count": 13,
     "metadata": {},
     "output_type": "execute_result"
    }
   ],
   "source": [
    "occupancy(lst_of_maybe_of_alpha_gf, syms=[w[1]], objects='unlike', boxes='unlike').series(z, n=5)"
   ]
  },
  {
   "cell_type": "code",
   "execution_count": 14,
   "metadata": {},
   "outputs": [
    {
     "data": {
      "image/png": "[encoded data removed]",
      "text/latex": [
       "$$\\operatorname{gf}{\\left (␣,z,w_{1} \\right )} = - \\left(w_{1} z + z ␣ - 1\\right)^{-1} = 1 + z \\left(w_{1} + ␣\\right) + z^{2} \\left(w_{1}^{2} + 2 w_{1} ␣ + ␣^{2}\\right) + z^{3} \\left(w_{1}^{3} + 3 w_{1}^{2} ␣ + 3 w_{1} ␣^{2} + ␣^{3}\\right) + z^{4} \\left(w_{1}^{4} + 4 w_{1}^{3} ␣ + 6 w_{1}^{2} ␣^{2} + 4 w_{1} ␣^{3} + ␣^{4}\\right) + O\\left(z^{5}\\right)$$"
      ],
      "text/plain": [
       "                                -1                     2 ⎛  2             2⎞  \n",
       "gf(␣, z, w₁) = -(w₁⋅z + z⋅␣ - 1)   = 1 + z⋅(w₁ + ␣) + z ⋅⎝w₁  + 2⋅w₁⋅␣ + ␣ ⎠ +\n",
       "\n",
       "  3 ⎛  3       2           2    3⎞    4 ⎛  4       3         2  2         3   \n",
       " z ⋅⎝w₁  + 3⋅w₁ ⋅␣ + 3⋅w₁⋅␣  + ␣ ⎠ + z ⋅⎝w₁  + 4⋅w₁ ⋅␣ + 6⋅w₁ ⋅␣  + 4⋅w₁⋅␣  + \n",
       "\n",
       " 4⎞    ⎛ 5⎞\n",
       "␣ ⎠ + O⎝z ⎠"
      ]
     },
     "execution_count": 14,
     "metadata": {},
     "output_type": "execute_result"
    }
   ],
   "source": [
    "occupancy(lst_of_maybe_of_alpha_gf, syms=[w[1]], objects='unlike', boxes='like').series(z, n=5)"
   ]
  },
  {
   "cell_type": "code",
   "execution_count": 15,
   "metadata": {},
   "outputs": [
    {
     "data": {
      "image/png": "[encoded data removed]",
      "text/latex": [
       "$$\\operatorname{gf}{\\left (␣,z,\\bullet \\right )} = - \\left(z \\bullet + z ␣ - 1\\right)^{-1} = 1 + z \\left(\\bullet + ␣\\right) + z^{2} \\left(\\bullet ␣ + \\bullet^{2} + ␣ \\bullet + ␣^{2}\\right) + z^{3} \\left(\\bullet ␣ \\bullet + \\bullet ␣^{2} + \\bullet^{2} ␣ + \\bullet^{3} + ␣ \\bullet ␣ + ␣ \\bullet^{2} + ␣^{2} \\bullet + ␣^{3}\\right) + z^{4} \\left(\\bullet ␣ \\bullet ␣ + \\bullet ␣ \\bullet^{2} + \\bullet ␣^{2} \\bullet + \\bullet ␣^{3} + \\bullet^{2} ␣ \\bullet + \\bullet^{2} ␣^{2} + \\bullet^{3} ␣ + \\bullet^{4} + ␣ \\bullet ␣ \\bullet + ␣ \\bullet ␣^{2} + ␣ \\bullet^{2} ␣ + ␣ \\bullet^{3} + ␣^{2} \\bullet ␣ + ␣^{2} \\bullet^{2} + ␣^{3} \\bullet + ␣^{4}\\right) + O\\left(z^{5}\\right)$$"
      ],
      "text/plain": [
       "                                          -1                          2 ⎛     \n",
       "gf(␣, z, \\bullet) = -(z⋅\\bullet + z⋅␣ - 1)   = 1 + z⋅(\\bullet + ␣) + z ⋅⎝\\bull\n",
       "\n",
       "              2                2⎞    3 ⎛                             2        \n",
       "et⋅␣ + \\bullet  + ␣⋅\\bullet + ␣ ⎠ + z ⋅⎝\\bullet⋅␣⋅\\bullet + \\bullet⋅␣  + \\bull\n",
       "\n",
       "  2            3                          2    2            3⎞    4 ⎛         \n",
       "et ⋅␣ + \\bullet  + ␣⋅\\bullet⋅␣ + ␣⋅\\bullet  + ␣ ⋅\\bullet + ␣ ⎠ + z ⋅⎝\\bullet⋅␣\n",
       "\n",
       "                              2            2                    3          2  \n",
       "⋅\\bullet⋅␣ + \\bullet⋅␣⋅\\bullet  + \\bullet⋅␣ ⋅\\bullet + \\bullet⋅␣  + \\bullet ⋅␣\n",
       "\n",
       "                  2  2          3            4                                \n",
       "⋅\\bullet + \\bullet ⋅␣  + \\bullet ⋅␣ + \\bullet  + ␣⋅\\bullet⋅␣⋅\\bullet + ␣⋅\\bull\n",
       "\n",
       "    2            2              3    2              2        2    3           \n",
       "et⋅␣  + ␣⋅\\bullet ⋅␣ + ␣⋅\\bullet  + ␣ ⋅\\bullet⋅␣ + ␣ ⋅\\bullet  + ␣ ⋅\\bullet + \n",
       "\n",
       " 4⎞    ⎛ 5⎞\n",
       "␣ ⎠ + O⎝z ⎠"
      ]
     },
     "execution_count": 15,
     "metadata": {},
     "output_type": "execute_result"
    }
   ],
   "source": [
    "occupancy(lst_of_maybe_of_alpha_gf, syms=[w[1]], objects='like', boxes='unlike').series(z, n=5)"
   ]
  },
  {
   "cell_type": "code",
   "execution_count": 16,
   "metadata": {},
   "outputs": [
    {
     "data": {
      "image/png": "[encoded data removed]",
      "text/latex": [
       "$$\\operatorname{gf}{\\left (\\circ,z \\right )} = - \\frac{1}{\\circ z + z - 1} = 1 + z \\left(\\circ + 1\\right) + z^{2} \\left(\\circ^{2} + 2 \\circ + 1\\right) + z^{3} \\left(\\circ^{3} + 3 \\circ^{2} + 3 \\circ + 1\\right) + z^{4} \\left(\\circ^{4} + 4 \\circ^{3} + 6 \\circ^{2} + 4 \\circ + 1\\right) + O\\left(z^{5}\\right)$$"
      ],
      "text/plain": [
       "                     -1                               2 ⎛     2              ⎞\n",
       "gf(\\circ, z) = ─────────────── = 1 + z⋅(\\circ + 1) + z ⋅⎝\\circ  + 2⋅\\circ + 1⎠\n",
       "               \\circ⋅z + z - 1                                                \n",
       "\n",
       "    3 ⎛     3          2              ⎞    4 ⎛     4          3          2    \n",
       " + z ⋅⎝\\circ  + 3⋅\\circ  + 3⋅\\circ + 1⎠ + z ⋅⎝\\circ  + 4⋅\\circ  + 6⋅\\circ  + 4\n",
       "                                                                              \n",
       "\n",
       "          ⎞    ⎛ 5⎞\n",
       "⋅\\circ + 1⎠ + O⎝z ⎠\n",
       "                   "
      ]
     },
     "execution_count": 16,
     "metadata": {},
     "output_type": "execute_result"
    }
   ],
   "source": [
    "occupancy(lst_of_maybe_of_alpha_gf, syms=[w[1]], objects='like', boxes='like').series(z,n=5)"
   ]
  },
  {
   "cell_type": "markdown",
   "metadata": {},
   "source": [
    "---"
   ]
  },
  {
   "cell_type": "code",
   "execution_count": 24,
   "metadata": {},
   "outputs": [
    {
     "data": {
      "image/png": "[encoded data removed]",
      "text/latex": [
       "$$\\times{\\left (w_{0},z,w_{1} \\right )} = \\frac{1}{\\left(w_{0} z - 1\\right) \\left(w_{1} z - 1\\right)}$$"
      ],
      "text/plain": [
       "                              1          \n",
       "\\times(w₀, z, w₁) = ─────────────────────\n",
       "                    (w₀⋅z - 1)⋅(w₁⋅z - 1)"
      ]
     },
     "execution_count": 24,
     "metadata": {},
     "output_type": "execute_result"
    }
   ],
   "source": [
    "nats = (lst(truth[z]) * lst(falsehood[z]))\n",
    "nats_gf, = nats.gf()\n",
    "nats_gf"
   ]
  },
  {
   "cell_type": "code",
   "execution_count": 25,
   "metadata": {},
   "outputs": [
    {
     "data": {
      "image/png": "[encoded data removed]",
      "text/latex": [
       "$$\\operatorname{gf}{\\left (z,w_{1},w_{0} \\right )} = \\left(z w_{1} - 1\\right)^{-1} \\left(z w_{0} - 1\\right)^{-1} = 1 + z \\left(w_{0} + w_{1}\\right) + z^{2} \\left(w_{0}^{2} + w_{1} w_{0} + w_{1}^{2}\\right) + z^{3} \\left(w_{0}^{3} + w_{1} w_{0}^{2} + w_{1}^{2} w_{0} + w_{1}^{3}\\right) + z^{4} \\left(w_{0}^{4} + w_{1} w_{0}^{3} + w_{1}^{2} w_{0}^{2} + w_{1}^{3} w_{0} + w_{1}^{4}\\right) + z^{5} \\left(w_{0}^{5} + w_{1} w_{0}^{4} + w_{1}^{2} w_{0}^{3} + w_{1}^{3} w_{0}^{2} + w_{1}^{4} w_{0} + w_{1}^{5}\\right) + O\\left(z^{6}\\right)$$"
      ],
      "text/plain": [
       "                          -1           -1                      2 ⎛  2         \n",
       "gf(z, w₁, w₀) = (z⋅w₁ - 1)  ⋅(z⋅w₀ - 1)   = 1 + z⋅(w₀ + w₁) + z ⋅⎝w₀  + w₁⋅w₀ \n",
       "\n",
       "    2⎞    3 ⎛  3        2     2        3⎞    4 ⎛  4        3     2   2     3  \n",
       "+ w₁ ⎠ + z ⋅⎝w₀  + w₁⋅w₀  + w₁ ⋅w₀ + w₁ ⎠ + z ⋅⎝w₀  + w₁⋅w₀  + w₁ ⋅w₀  + w₁ ⋅w\n",
       "\n",
       "      4⎞    5 ⎛  5        4     2   3     3   2     4        5⎞    ⎛ 6⎞\n",
       "₀ + w₁ ⎠ + z ⋅⎝w₀  + w₁⋅w₀  + w₁ ⋅w₀  + w₁ ⋅w₀  + w₁ ⋅w₀ + w₁ ⎠ + O⎝z ⎠"
      ]
     },
     "execution_count": 25,
     "metadata": {},
     "output_type": "execute_result"
    }
   ],
   "source": [
    "occupancy(nats_gf, syms=[w[1],w[0]], objects='unlike', boxes='unlike').series(z)"
   ]
  },
  {
   "cell_type": "code",
   "execution_count": 19,
   "metadata": {},
   "outputs": [
    {
     "data": {
      "image/png": "[encoded data removed]",
      "text/latex": [
       "$$\\operatorname{gf}{\\left (w_{0},z,w_{1} \\right )} = \\frac{1}{\\left(w_{0} z - 1\\right) \\left(w_{1} z - 1\\right)} = 1 + z \\left(w_{0} + w_{1}\\right) + z^{2} \\left(w_{0}^{2} + w_{0} w_{1} + w_{1}^{2}\\right) + z^{3} \\left(w_{0}^{3} + w_{0}^{2} w_{1} + w_{0} w_{1}^{2} + w_{1}^{3}\\right) + z^{4} \\left(w_{0}^{4} + w_{0}^{3} w_{1} + w_{0}^{2} w_{1}^{2} + w_{0} w_{1}^{3} + w_{1}^{4}\\right) + z^{5} \\left(w_{0}^{5} + w_{0}^{4} w_{1} + w_{0}^{3} w_{1}^{2} + w_{0}^{2} w_{1}^{3} + w_{0} w_{1}^{4} + w_{1}^{5}\\right) + O\\left(z^{6}\\right)$$"
      ],
      "text/plain": [
       "                          1                                2 ⎛  2             \n",
       "gf(w₀, z, w₁) = ───────────────────── = 1 + z⋅(w₀ + w₁) + z ⋅⎝w₀  + w₀⋅w₁ + w₁\n",
       "                (w₀⋅z - 1)⋅(w₁⋅z - 1)                                         \n",
       "\n",
       "2⎞    3 ⎛  3     2           2     3⎞    4 ⎛  4     3        2   2        3   \n",
       " ⎠ + z ⋅⎝w₀  + w₀ ⋅w₁ + w₀⋅w₁  + w₁ ⎠ + z ⋅⎝w₀  + w₀ ⋅w₁ + w₀ ⋅w₁  + w₀⋅w₁  + \n",
       "                                                                              \n",
       "\n",
       "  4⎞    5 ⎛  5     4        3   2     2   3        4     5⎞    ⎛ 6⎞\n",
       "w₁ ⎠ + z ⋅⎝w₀  + w₀ ⋅w₁ + w₀ ⋅w₁  + w₀ ⋅w₁  + w₀⋅w₁  + w₁ ⎠ + O⎝z ⎠\n",
       "                                                                   "
      ]
     },
     "execution_count": 19,
     "metadata": {},
     "output_type": "execute_result"
    }
   ],
   "source": [
    "occupancy(nats_gf, syms=[w[1],w[0]], objects='unlike', boxes='like').series(z)"
   ]
  },
  {
   "cell_type": "code",
   "execution_count": 20,
   "metadata": {},
   "outputs": [
    {
     "data": {
      "image/png": "[encoded data removed]",
      "text/latex": [
       "$$\\operatorname{gf}{\\left (z,\\bullet \\right )} = \\left(z \\bullet - 1\\right)^{-2} = 1 + 2 z \\bullet + 3 z^{2} \\bullet^{2} + 4 z^{3} \\bullet^{3} + 5 z^{4} \\bullet^{4} + 6 z^{5} \\bullet^{5} + O\\left(z^{6}\\right)$$"
      ],
      "text/plain": [
       "                                -2                        2        2      3   \n",
       "gf(z, \\bullet) = (z⋅\\bullet - 1)   = 1 + 2⋅z⋅\\bullet + 3⋅z ⋅\\bullet  + 4⋅z ⋅\\b\n",
       "\n",
       "     3      4        4      5        5    ⎛ 6⎞\n",
       "ullet  + 5⋅z ⋅\\bullet  + 6⋅z ⋅\\bullet  + O⎝z ⎠"
      ]
     },
     "execution_count": 20,
     "metadata": {},
     "output_type": "execute_result"
    }
   ],
   "source": [
    "occupancy(nats_gf, syms=[w[1],w[0]], objects='like', boxes='unlike').series(z)"
   ]
  },
  {
   "cell_type": "code",
   "execution_count": 21,
   "metadata": {},
   "outputs": [
    {
     "data": {
      "image/png": "[encoded data removed]",
      "text/latex": [
       "$$\\operatorname{gf}{\\left (\\circ,z \\right )} = \\frac{1}{\\left(\\circ z - 1\\right)^{2}} = 1 + 2 \\circ z + 3 \\circ^{2} z^{2} + 4 \\circ^{3} z^{3} + 5 \\circ^{4} z^{4} + 6 \\circ^{5} z^{5} + O\\left(z^{6}\\right)$$"
      ],
      "text/plain": [
       "                     1                                 2  2          3  3     \n",
       "gf(\\circ, z) = ────────────── = 1 + 2⋅\\circ⋅z + 3⋅\\circ ⋅z  + 4⋅\\circ ⋅z  + 5⋅\n",
       "                            2                                                 \n",
       "               (\\circ⋅z - 1)                                                  \n",
       "\n",
       "     4  4          5  5    ⎛ 6⎞\n",
       "\\circ ⋅z  + 6⋅\\circ ⋅z  + O⎝z ⎠\n",
       "                               \n",
       "                               "
      ]
     },
     "execution_count": 21,
     "metadata": {},
     "output_type": "execute_result"
    }
   ],
   "source": [
    "occupancy(nats_gf, syms=[w[1],w[0]], objects='like', boxes='like').series(z)"
   ]
  },
  {
   "cell_type": "markdown",
   "metadata": {},
   "source": [
    "---"
   ]
  },
  {
   "cell_type": "code",
   "execution_count": 26,
   "metadata": {},
   "outputs": [
    {
     "data": {
      "image/png": "[encoded data removed]",
      "text/latex": [
       "$$\\mathcal{L}{\\left (w_{0},z,w_{1} \\right )} = - \\frac{1}{w_{0} z + w_{1} z - 1}$$"
      ],
      "text/plain": [
       "                               -1       \n",
       "\\mathcal{L}(w₀, z, w₁) = ───────────────\n",
       "                         w₀⋅z + w₁⋅z - 1"
      ]
     },
     "execution_count": 26,
     "metadata": {},
     "output_type": "execute_result"
    }
   ],
   "source": [
    "lst_of_boolean_gf, = lst(boolean[z]).gf()\n",
    "lst_of_boolean_gf"
   ]
  },
  {
   "cell_type": "code",
   "execution_count": 27,
   "metadata": {},
   "outputs": [
    {
     "data": {
      "image/png": "[encoded data removed]",
      "text/latex": [
       "$$\\operatorname{gf}{\\left (z,w_{1},w_{0} \\right )} = - \\left(z w_{0} + z w_{1} - 1\\right)^{-1} = 1 + z \\left(w_{0} + w_{1}\\right) + z^{2} \\left(w_{0} w_{1} + w_{0}^{2} + w_{1} w_{0} + w_{1}^{2}\\right) + z^{3} \\left(w_{0} w_{1} w_{0} + w_{0} w_{1}^{2} + w_{0}^{2} w_{1} + w_{0}^{3} + w_{1} w_{0} w_{1} + w_{1} w_{0}^{2} + w_{1}^{2} w_{0} + w_{1}^{3}\\right) + z^{4} \\left(w_{0} w_{1} w_{0} w_{1} + w_{0} w_{1} w_{0}^{2} + w_{0} w_{1}^{2} w_{0} + w_{0} w_{1}^{3} + w_{0}^{2} w_{1} w_{0} + w_{0}^{2} w_{1}^{2} + w_{0}^{3} w_{1} + w_{0}^{4} + w_{1} w_{0} w_{1} w_{0} + w_{1} w_{0} w_{1}^{2} + w_{1} w_{0}^{2} w_{1} + w_{1} w_{0}^{3} + w_{1}^{2} w_{0} w_{1} + w_{1}^{2} w_{0}^{2} + w_{1}^{3} w_{0} + w_{1}^{4}\\right) + O\\left(z^{5}\\right)$$"
      ],
      "text/plain": [
       "                                  -1                      2 ⎛          2      \n",
       "gf(z, w₁, w₀) = -(z⋅w₀ + z⋅w₁ - 1)   = 1 + z⋅(w₀ + w₁) + z ⋅⎝w₀⋅w₁ + w₀  + w₁⋅\n",
       "\n",
       "       2⎞    3 ⎛                2     2        3                   2     2    \n",
       "w₀ + w₁ ⎠ + z ⋅⎝w₀⋅w₁⋅w₀ + w₀⋅w₁  + w₀ ⋅w₁ + w₀  + w₁⋅w₀⋅w₁ + w₁⋅w₀  + w₁ ⋅w₀ \n",
       "\n",
       "    3⎞    4 ⎛                      2        2           3     2           2   \n",
       "+ w₁ ⎠ + z ⋅⎝w₀⋅w₁⋅w₀⋅w₁ + w₀⋅w₁⋅w₀  + w₀⋅w₁ ⋅w₀ + w₀⋅w₁  + w₀ ⋅w₁⋅w₀ + w₀ ⋅w₁\n",
       "\n",
       "2     3        4                         2        2           3     2         \n",
       "  + w₀ ⋅w₁ + w₀  + w₁⋅w₀⋅w₁⋅w₀ + w₁⋅w₀⋅w₁  + w₁⋅w₀ ⋅w₁ + w₁⋅w₀  + w₁ ⋅w₀⋅w₁ + \n",
       "\n",
       "  2   2     3        4⎞    ⎛ 5⎞\n",
       "w₁ ⋅w₀  + w₁ ⋅w₀ + w₁ ⎠ + O⎝z ⎠"
      ]
     },
     "execution_count": 27,
     "metadata": {},
     "output_type": "execute_result"
    }
   ],
   "source": [
    "occupancy(lst_of_boolean_gf, syms=[w[1],w[0]], objects='unlike', boxes='unlike').series(z, n=5)"
   ]
  },
  {
   "cell_type": "code",
   "execution_count": 28,
   "metadata": {},
   "outputs": [
    {
     "data": {
      "image/png": "[encoded data removed]",
      "text/latex": [
       "$$\\operatorname{gf}{\\left (w_{0},z,w_{1} \\right )} = - \\frac{1}{w_{0} z + w_{1} z - 1} = 1 + z \\left(w_{0} + w_{1}\\right) + z^{2} \\left(w_{0}^{2} + 2 w_{0} w_{1} + w_{1}^{2}\\right) + z^{3} \\left(w_{0}^{3} + 3 w_{0}^{2} w_{1} + 3 w_{0} w_{1}^{2} + w_{1}^{3}\\right) + z^{4} \\left(w_{0}^{4} + 4 w_{0}^{3} w_{1} + 6 w_{0}^{2} w_{1}^{2} + 4 w_{0} w_{1}^{3} + w_{1}^{4}\\right) + O\\left(z^{5}\\right)$$"
      ],
      "text/plain": [
       "                      -1                             2 ⎛  2               2⎞  \n",
       "gf(w₀, z, w₁) = ─────────────── = 1 + z⋅(w₀ + w₁) + z ⋅⎝w₀  + 2⋅w₀⋅w₁ + w₁ ⎠ +\n",
       "                w₀⋅z + w₁⋅z - 1                                               \n",
       "\n",
       "  3 ⎛  3       2             2     3⎞    4 ⎛  4       3          2   2        \n",
       " z ⋅⎝w₀  + 3⋅w₀ ⋅w₁ + 3⋅w₀⋅w₁  + w₁ ⎠ + z ⋅⎝w₀  + 4⋅w₀ ⋅w₁ + 6⋅w₀ ⋅w₁  + 4⋅w₀⋅\n",
       "                                                                              \n",
       "\n",
       "  3     4⎞    ⎛ 5⎞\n",
       "w₁  + w₁ ⎠ + O⎝z ⎠\n",
       "                  "
      ]
     },
     "execution_count": 28,
     "metadata": {},
     "output_type": "execute_result"
    }
   ],
   "source": [
    "occupancy(lst_of_boolean_gf, syms=[w[1],w[0]], objects='unlike', boxes='like').series(z, n=5)"
   ]
  },
  {
   "cell_type": "code",
   "execution_count": 29,
   "metadata": {},
   "outputs": [
    {
     "data": {
      "image/png": "[encoded data removed]",
      "text/latex": [
       "$$\\operatorname{gf}{\\left (z,\\bullet \\right )} = - \\left(2 z \\bullet - 1\\right)^{-1} = 1 + 2 z \\bullet + 4 z^{2} \\bullet^{2} + 8 z^{3} \\bullet^{3} + 16 z^{4} \\bullet^{4} + O\\left(z^{5}\\right)$$"
      ],
      "text/plain": [
       "                                   -1                        2        2      3\n",
       "gf(z, \\bullet) = -(2⋅z⋅\\bullet - 1)   = 1 + 2⋅z⋅\\bullet + 4⋅z ⋅\\bullet  + 8⋅z \n",
       "\n",
       "        3       4        4    ⎛ 5⎞\n",
       "⋅\\bullet  + 16⋅z ⋅\\bullet  + O⎝z ⎠"
      ]
     },
     "execution_count": 29,
     "metadata": {},
     "output_type": "execute_result"
    }
   ],
   "source": [
    "occupancy(lst_of_boolean_gf, syms=[w[1],w[0]], objects='like', boxes='unlike').series(z, n=5)"
   ]
  },
  {
   "cell_type": "code",
   "execution_count": 30,
   "metadata": {},
   "outputs": [
    {
     "data": {
      "image/png": "[encoded data removed]",
      "text/latex": [
       "$$\\operatorname{gf}{\\left (\\circ,z \\right )} = - \\frac{1}{2 \\circ z - 1} = 1 + 2 \\circ z + 4 \\circ^{2} z^{2} + 8 \\circ^{3} z^{3} + 16 \\circ^{4} z^{4} + O\\left(z^{5}\\right)$$"
      ],
      "text/plain": [
       "                    -1                                2  2          3  3      \n",
       "gf(\\circ, z) = ───────────── = 1 + 2⋅\\circ⋅z + 4⋅\\circ ⋅z  + 8⋅\\circ ⋅z  + 16⋅\n",
       "               2⋅\\circ⋅z - 1                                                  \n",
       "\n",
       "     4  4    ⎛ 5⎞\n",
       "\\circ ⋅z  + O⎝z ⎠\n",
       "                 "
      ]
     },
     "execution_count": 30,
     "metadata": {},
     "output_type": "execute_result"
    }
   ],
   "source": [
    "occupancy(lst_of_boolean_gf, syms=[w[1],w[0]], objects='like', boxes='like').series(z, n=5)"
   ]
  },
  {
   "cell_type": "markdown",
   "metadata": {},
   "source": [
    "---"
   ]
  },
  {
   "cell_type": "code",
   "execution_count": 31,
   "metadata": {},
   "outputs": [
    {
     "data": {
      "image/png": "[encoded data removed]",
      "text/latex": [
       "$$\\times{\\left (u_{5},u_{10},u_{25},u_{50},x,u_{1} \\right )} = - \\frac{1}{\\left(u_{1} x - 1\\right) \\left(u_{10} x^{10} - 1\\right) \\left(u_{25} x^{25} - 1\\right) \\left(u_{5} x^{5} - 1\\right) \\left(u_{50} x^{50} - 1\\right)}$$"
      ],
      "text/plain": [
       "                                                                 -1           \n",
       "\\times(u₅, u₁₀, u₂₅, u₅₀, x, u₁) = ───────────────────────────────────────────\n",
       "                                              ⎛     10    ⎞ ⎛     25    ⎞ ⎛   \n",
       "                                   (u₁⋅x - 1)⋅⎝u₁₀⋅x   - 1⎠⋅⎝u₂₅⋅x   - 1⎠⋅⎝u₅⋅\n",
       "\n",
       "                     \n",
       "─────────────────────\n",
       " 5    ⎞ ⎛     50    ⎞\n",
       "x  - 1⎠⋅⎝u₅₀⋅x   - 1⎠"
      ]
     },
     "execution_count": 31,
     "metadata": {},
     "output_type": "execute_result"
    }
   ],
   "source": [
    "dollar_exchange, = (lst(tyvar(u[1]*x)) * lst(tyvar(u[5]*x**5)) * lst(tyvar(u[10]*x**10)) * \n",
    "                    lst(tyvar(u[25]*x**25)) * lst(tyvar(u[50]*x**50))).gf()\n",
    "dollar_exchange"
   ]
  },
  {
   "cell_type": "code",
   "execution_count": 32,
   "metadata": {},
   "outputs": [],
   "source": [
    "coins = dollar_exchange.series(x, n=101)"
   ]
  },
  {
   "cell_type": "code",
   "execution_count": 33,
   "metadata": {},
   "outputs": [
    {
     "data": {
      "image/png": "[encoded data removed]",
      "text/latex": [
       "$$u_{1}^{42} + u_{1}^{37} u_{5} + u_{1}^{32} u_{10} + u_{1}^{32} u_{5}^{2} + u_{1}^{27} u_{10} u_{5} + u_{1}^{27} u_{5}^{3} + u_{1}^{22} u_{10}^{2} + u_{1}^{22} u_{10} u_{5}^{2} + u_{1}^{22} u_{5}^{4} + u_{1}^{17} u_{10}^{2} u_{5} + u_{1}^{17} u_{10} u_{5}^{3} + u_{1}^{17} u_{25} + u_{1}^{17} u_{5}^{5} + u_{1}^{12} u_{10}^{3} + u_{1}^{12} u_{10}^{2} u_{5}^{2} + u_{1}^{12} u_{10} u_{5}^{4} + u_{1}^{12} u_{25} u_{5} + u_{1}^{12} u_{5}^{6} + u_{1}^{7} u_{10}^{3} u_{5} + u_{1}^{7} u_{10}^{2} u_{5}^{3} + u_{1}^{7} u_{10} u_{25} + u_{1}^{7} u_{10} u_{5}^{5} + u_{1}^{7} u_{25} u_{5}^{2} + u_{1}^{7} u_{5}^{7} + u_{1}^{2} u_{10}^{4} + u_{1}^{2} u_{10}^{3} u_{5}^{2} + u_{1}^{2} u_{10}^{2} u_{5}^{4} + u_{1}^{2} u_{10} u_{25} u_{5} + u_{1}^{2} u_{10} u_{5}^{6} + u_{1}^{2} u_{25} u_{5}^{3} + u_{1}^{2} u_{5}^{8}$$"
      ],
      "text/plain": [
       "  42     37        32         32   2     27            27   3     22    2     \n",
       "u₁   + u₁  ⋅u₅ + u₁  ⋅u₁₀ + u₁  ⋅u₅  + u₁  ⋅u₁₀⋅u₅ + u₁  ⋅u₅  + u₁  ⋅u₁₀  + u₁\n",
       "\n",
       "22       2     22   4     17    2        17       3     17         17   5     \n",
       "  ⋅u₁₀⋅u₅  + u₁  ⋅u₅  + u₁  ⋅u₁₀ ⋅u₅ + u₁  ⋅u₁₀⋅u₅  + u₁  ⋅u₂₅ + u₁  ⋅u₅  + u₁\n",
       "\n",
       "12    3     12    2   2     12       4     12            12   6     7    3    \n",
       "  ⋅u₁₀  + u₁  ⋅u₁₀ ⋅u₅  + u₁  ⋅u₁₀⋅u₅  + u₁  ⋅u₂₅⋅u₅ + u₁  ⋅u₅  + u₁ ⋅u₁₀ ⋅u₅ \n",
       "\n",
       "    7    2   3     7             7       5     7       2     7   7     2    4 \n",
       "+ u₁ ⋅u₁₀ ⋅u₅  + u₁ ⋅u₁₀⋅u₂₅ + u₁ ⋅u₁₀⋅u₅  + u₁ ⋅u₂₅⋅u₅  + u₁ ⋅u₅  + u₁ ⋅u₁₀  \n",
       "\n",
       "    2    3   2     2    2   4     2                2       6     2       3    \n",
       "+ u₁ ⋅u₁₀ ⋅u₅  + u₁ ⋅u₁₀ ⋅u₅  + u₁ ⋅u₁₀⋅u₂₅⋅u₅ + u₁ ⋅u₁₀⋅u₅  + u₁ ⋅u₂₅⋅u₅  + u\n",
       "\n",
       " 2   8\n",
       "₁ ⋅u₅ "
      ]
     },
     "execution_count": 33,
     "metadata": {},
     "output_type": "execute_result"
    }
   ],
   "source": [
    "coins.rhs.rhs.coeff(x,42)"
   ]
  },
  {
   "cell_type": "code",
   "execution_count": 34,
   "metadata": {},
   "outputs": [],
   "source": [
    "assert 292 == coins.rhs.rhs.coeff(x,100).subs( # number of ways to change *one* dollar\n",
    "    {u[1]:1, u[5]:1, u[10]:1, u[25]:1, u[50]:1})"
   ]
  },
  {
   "cell_type": "markdown",
   "metadata": {},
   "source": [
    "# non-empty lists"
   ]
  },
  {
   "cell_type": "code",
   "execution_count": 35,
   "metadata": {},
   "outputs": [
    {
     "data": {
      "image/png": "[encoded data removed]",
      "text/latex": [
       "$$\\mathcal{L}_{+}{\\left (\\alpha,z \\right )} = - \\frac{\\alpha z}{\\alpha z - 1}$$"
      ],
      "text/plain": [
       "                              -\\alpha⋅z  \n",
       "\\mathcal{L}_{+}(\\alpha, z) = ────────────\n",
       "                             \\alpha⋅z - 1"
      ]
     },
     "execution_count": 35,
     "metadata": {},
     "output_type": "execute_result"
    }
   ],
   "source": [
    "nnlst_of_alpha_gf, = nnlst(tyvar(alpha*z)).gf()\n",
    "nnlst_of_alpha_gf"
   ]
  },
  {
   "cell_type": "code",
   "execution_count": 36,
   "metadata": {},
   "outputs": [
    {
     "data": {
      "image/png": "[encoded data removed]",
      "text/latex": [
       "$$\\mathcal{L}_{+}{\\left (\\alpha,z \\right )} = - \\frac{\\alpha z}{\\alpha z - 1} = \\alpha z + \\alpha^{2} z^{2} + \\alpha^{3} z^{3} + \\alpha^{4} z^{4} + \\alpha^{5} z^{5} + \\alpha^{6} z^{6} + \\alpha^{7} z^{7} + \\alpha^{8} z^{8} + \\alpha^{9} z^{9} + O\\left(z^{10}\\right)$$"
      ],
      "text/plain": [
       "                              -\\alpha⋅z                      2  2         3  3\n",
       "\\mathcal{L}_{+}(\\alpha, z) = ──────────── = \\alpha⋅z + \\alpha ⋅z  + \\alpha ⋅z \n",
       "                             \\alpha⋅z - 1                                     \n",
       "\n",
       "         4  4         5  5         6  6         7  7         8  8         9  9\n",
       " + \\alpha ⋅z  + \\alpha ⋅z  + \\alpha ⋅z  + \\alpha ⋅z  + \\alpha ⋅z  + \\alpha ⋅z \n",
       "                                                                              \n",
       "\n",
       "    ⎛ 10⎞\n",
       " + O⎝z  ⎠\n",
       "         "
      ]
     },
     "execution_count": 36,
     "metadata": {},
     "output_type": "execute_result"
    }
   ],
   "source": [
    "nnlst_of_alpha_gf.series(z, n=10)"
   ]
  },
  {
   "cell_type": "code",
   "execution_count": 38,
   "metadata": {},
   "outputs": [
    {
     "data": {
      "image/png": "[encoded data removed]",
      "text/latex": [
       "$$\\mathcal{L}_{+}{\\left (w_{0},z,w_{1} \\right )} = - \\frac{w_{0} w_{1} z}{w_{0} w_{1} z + w_{1} z - 1}$$"
      ],
      "text/plain": [
       "                                 -w₀⋅w₁⋅z      \n",
       "\\mathcal{L}_{+}(w₀, z, w₁) = ──────────────────\n",
       "                             w₀⋅w₁⋅z + w₁⋅z - 1"
      ]
     },
     "execution_count": 38,
     "metadata": {},
     "output_type": "execute_result"
    }
   ],
   "source": [
    "nnlst_gf, = nnlst(nnlst(truth[z])*falsehood).gf()\n",
    "nnlst_gf"
   ]
  },
  {
   "cell_type": "code",
   "execution_count": 39,
   "metadata": {},
   "outputs": [
    {
     "data": {
      "image/png": "[encoded data removed]",
      "text/latex": [
       "$$\\operatorname{gf}{\\left (w_{0},z,w_{1} \\right )} = - z w_{1} w_{0} \\left(z w_{1} + z w_{1} w_{0} - 1\\right)^{-1} = z w_{1} w_{0} + z^{2} \\left(w_{1} w_{0} w_{1} + w_{1} w_{0} w_{1} w_{0}\\right) + z^{3} \\left(w_{1} w_{0} w_{1} w_{0} w_{1} + w_{1} w_{0} w_{1} w_{0} w_{1} w_{0} + w_{1} w_{0} w_{1}^{2} + w_{1} w_{0} w_{1}^{2} w_{0}\\right) + z^{4} \\left(w_{1} w_{0} w_{1} w_{0} w_{1} w_{0} w_{1} + w_{1} w_{0} w_{1} w_{0} w_{1} w_{0} w_{1} w_{0} + w_{1} w_{0} w_{1} w_{0} w_{1}^{2} + w_{1} w_{0} w_{1} w_{0} w_{1}^{2} w_{0} + w_{1} w_{0} w_{1}^{2} w_{0} w_{1} + w_{1} w_{0} w_{1}^{2} w_{0} w_{1} w_{0} + w_{1} w_{0} w_{1}^{3} + w_{1} w_{0} w_{1}^{3} w_{0}\\right) + O\\left(z^{5}\\right)$$"
      ],
      "text/plain": [
       "                                             -1              2                \n",
       "gf(w₀, z, w₁) = -z⋅w₁⋅w₀⋅(z⋅w₁ + z⋅w₁⋅w₀ - 1)   = z⋅w₁⋅w₀ + z ⋅(w₁⋅w₀⋅w₁ + w₁⋅\n",
       "\n",
       "             3 ⎛                                             2           2   ⎞\n",
       "w₀⋅w₁⋅w₀) + z ⋅⎝w₁⋅w₀⋅w₁⋅w₀⋅w₁ + w₁⋅w₀⋅w₁⋅w₀⋅w₁⋅w₀ + w₁⋅w₀⋅w₁  + w₁⋅w₀⋅w₁ ⋅w₀⎠\n",
       "\n",
       "    4 ⎛                                                               2       \n",
       " + z ⋅⎝w₁⋅w₀⋅w₁⋅w₀⋅w₁⋅w₀⋅w₁ + w₁⋅w₀⋅w₁⋅w₀⋅w₁⋅w₀⋅w₁⋅w₀ + w₁⋅w₀⋅w₁⋅w₀⋅w₁  + w₁⋅w\n",
       "\n",
       "          2              2                 2                    3           3 \n",
       "₀⋅w₁⋅w₀⋅w₁ ⋅w₀ + w₁⋅w₀⋅w₁ ⋅w₀⋅w₁ + w₁⋅w₀⋅w₁ ⋅w₀⋅w₁⋅w₀ + w₁⋅w₀⋅w₁  + w₁⋅w₀⋅w₁ ⋅\n",
       "\n",
       "  ⎞    ⎛ 5⎞\n",
       "w₀⎠ + O⎝z ⎠"
      ]
     },
     "execution_count": 39,
     "metadata": {},
     "output_type": "execute_result"
    }
   ],
   "source": [
    "occupancy(nnlst_gf, syms=[w[1],w[0]], objects='unlike', boxes='unlike').series(z, n=5)"
   ]
  },
  {
   "cell_type": "code",
   "execution_count": 40,
   "metadata": {},
   "outputs": [
    {
     "data": {
      "image/png": "[encoded data removed]",
      "text/latex": [
       "$$\\operatorname{gf}{\\left (w_{0},w_{1},z \\right )} = - \\frac{w_{0} w_{1} z}{w_{0} w_{1} z + w_{1} z - 1} = z^{2} \\left(w_{0}^{2} w_{1}^{2} + w_{0} w_{1}^{2}\\right) + z^{3} \\left(w_{0}^{3} w_{1}^{3} + 2 w_{0}^{2} w_{1}^{3} + w_{0} w_{1}^{3}\\right) + z^{4} \\left(w_{0}^{4} w_{1}^{4} + 3 w_{0}^{3} w_{1}^{4} + 3 w_{0}^{2} w_{1}^{4} + w_{0} w_{1}^{4}\\right) + w_{0} w_{1} z + O\\left(z^{5}\\right)$$"
      ],
      "text/plain": [
       "                    -w₀⋅w₁⋅z          2 ⎛  2   2        2⎞    3 ⎛  3   3      \n",
       "gf(w₀, w₁, z) = ────────────────── = z ⋅⎝w₀ ⋅w₁  + w₀⋅w₁ ⎠ + z ⋅⎝w₀ ⋅w₁  + 2⋅w\n",
       "                w₀⋅w₁⋅z + w₁⋅z - 1                                            \n",
       "\n",
       " 2   3        3⎞    4 ⎛  4   4       3   4       2   4        4⎞              \n",
       "₀ ⋅w₁  + w₀⋅w₁ ⎠ + z ⋅⎝w₀ ⋅w₁  + 3⋅w₀ ⋅w₁  + 3⋅w₀ ⋅w₁  + w₀⋅w₁ ⎠ + w₀⋅w₁⋅z + O\n",
       "                                                                              \n",
       "\n",
       "⎛ 5⎞\n",
       "⎝z ⎠\n",
       "    "
      ]
     },
     "execution_count": 40,
     "metadata": {},
     "output_type": "execute_result"
    }
   ],
   "source": [
    "occupancy(nnlst_gf, syms=[w[1],w[0]], objects='unlike', boxes='like').series(z, n=5)"
   ]
  },
  {
   "cell_type": "markdown",
   "metadata": {},
   "source": [
    "---\n",
    "<a rel=\"license\" href=\"http://creativecommons.org/licenses/by-nc-sa/4.0/\"><img alt=\"Creative Commons License\" style=\"border-width:0\" src=\"https://i.creativecommons.org/l/by-nc-sa/4.0/88x31.png\" /></a><br />This work is licensed under a <a rel=\"license\" href=\"http://creativecommons.org/licenses/by-nc-sa/4.0/\">Creative Commons Attribution-NonCommercial-ShareAlike 4.0 International License</a>."
   ]
  }
 ],
 "metadata": {
  "kernelspec": {
   "display_name": "Python 3",
   "language": "python",
   "name": "python3"
  },
  "language_info": {
   "codemirror_mode": {
    "name": "ipython",
    "version": 3
   },
   "file_extension": ".py",
   "mimetype": "text/x-python",
   "name": "python",
   "nbconvert_exporter": "python",
   "pygments_lexer": "ipython3",
   "version": "3.7.1"
  }
 },
 "nbformat": 4,
 "nbformat_minor": 2
}
