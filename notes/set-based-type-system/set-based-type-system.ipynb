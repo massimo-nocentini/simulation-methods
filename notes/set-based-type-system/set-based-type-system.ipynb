{
 "cells": [
  {
   "cell_type": "markdown",
   "metadata": {
    "deletable": true,
    "editable": true
   },
   "source": [
    "<p>\n",
    "<img src=\"http://www.cerm.unifi.it/chianti/images/logo%20unifi_positivo.jpg\" \n",
    "        alt=\"UniFI logo\" style=\"float: left; width: 20%; height: 20%;\">\n",
    "<div align=\"right\">\n",
    "Massimo Nocentini<br>\n",
    "<small>\n",
    "<br>December 8 to 11, 2018: permutations, cycles and derangements\n",
    "<br>December 3 and 4, 2018: types definitions, OGFs\n",
    "</small>\n",
    "</div>\n",
    "</p>\n",
    "<br>\n",
    "<div align=\"center\">\n",
    "<b>Abstract</b><br>\n",
    "In this document we collect a naive <i>type system</i> based on sets.\n",
    "</div>"
   ]
  },
  {
   "cell_type": "code",
   "execution_count": 1,
   "metadata": {
    "collapsed": true,
    "deletable": true,
    "editable": true
   },
   "outputs": [],
   "source": [
    "from sympy import *\n",
    "#from type_system import *"
   ]
  },
  {
   "cell_type": "code",
   "execution_count": 2,
   "metadata": {
    "collapsed": false,
    "deletable": true,
    "editable": true
   },
   "outputs": [],
   "source": [
    "%run ./type-system.py"
   ]
  },
  {
   "cell_type": "markdown",
   "metadata": {
    "deletable": true,
    "editable": true
   },
   "source": [
    "---"
   ]
  },
  {
   "cell_type": "code",
   "execution_count": 3,
   "metadata": {
    "collapsed": true,
    "deletable": true,
    "editable": true
   },
   "outputs": [],
   "source": [
    "init_printing()"
   ]
  },
  {
   "cell_type": "code",
   "execution_count": 4,
   "metadata": {
    "collapsed": true,
    "deletable": true,
    "editable": true
   },
   "outputs": [],
   "source": [
    "x,y,m,n,t,z = symbols('x y m n t z')\n",
    "alpha, beta, gamma, eta = symbols(r'\\alpha \\beta \\gamma \\eta')\n",
    "f,g = Function('f'), Function('g')\n",
    "w = IndexedBase('w')"
   ]
  },
  {
   "cell_type": "code",
   "execution_count": 22,
   "metadata": {
    "collapsed": false
   },
   "outputs": [
    {
     "data": {
      "image/png": "[encoded data removed]",
      "text/latex": [
       "$$f{\\left (z \\right )} = \\frac{1}{- \\alpha z + 1} = 1 + \\alpha z + \\alpha^{2} z^{2} + \\alpha^{3} z^{3} + \\alpha^{4} z^{4} + \\alpha^{5} z^{5} + \\alpha^{6} z^{6} + \\alpha^{7} z^{7} + \\alpha^{8} z^{8} + \\alpha^{9} z^{9} + O\\left(z^{10}\\right)$$"
      ],
      "text/plain": [
       "             1                              2  2         3  3         4  4    \n",
       "f(z) = ───────────── = 1 + \\alpha⋅z + \\alpha ⋅z  + \\alpha ⋅z  + \\alpha ⋅z  + \\\n",
       "       -\\alpha⋅z + 1                                                          \n",
       "\n",
       "     5  5         6  6         7  7         8  8         9  9    ⎛ 10⎞\n",
       "alpha ⋅z  + \\alpha ⋅z  + \\alpha ⋅z  + \\alpha ⋅z  + \\alpha ⋅z  + O⎝z  ⎠\n",
       "                                                                      "
      ]
     },
     "execution_count": 22,
     "metadata": {},
     "output_type": "execute_result"
    }
   ],
   "source": [
    "define(f(z), 1/(1-alpha*z), ctor=FEq).series(z,n=10)"
   ]
  },
  {
   "cell_type": "code",
   "execution_count": 23,
   "metadata": {
    "collapsed": false,
    "deletable": true,
    "editable": true
   },
   "outputs": [
    {
     "data": {
      "image/png": "[encoded data removed]",
      "text/latex": [
       "$$f{\\left (z \\right )} = \\frac{1}{- z^{2} \\left({w}_{0} + {w}_{1}\\right) + 1} = 1 + z^{2} \\left({w}_{0} + {w}_{1}\\right) + z^{4} \\left({w}_{0}^{2} + 2 {w}_{0} {w}_{1} + {w}_{1}^{2}\\right) + z^{6} \\left({w}_{0}^{3} + 3 {w}_{0}^{2} {w}_{1} + 3 {w}_{0} {w}_{1}^{2} + {w}_{1}^{3}\\right) + z^{8} \\left({w}_{0}^{4} + 4 {w}_{0}^{3} {w}_{1} + 6 {w}_{0}^{2} {w}_{1}^{2} + 4 {w}_{0} {w}_{1}^{3} + {w}_{1}^{4}\\right) + O\\left(z^{10}\\right)$$"
      ],
      "text/plain": [
       "                 1                   2                  4 ⎛    2              \n",
       "f(z) = ────────────────────── = 1 + z ⋅(w[0] + w[1]) + z ⋅⎝w[0]  + 2⋅w[0]⋅w[1]\n",
       "          2                                                                   \n",
       "       - z ⋅(w[0] + w[1]) + 1                                                 \n",
       "\n",
       "       2⎞    6 ⎛    3         2                   2       3⎞    8 ⎛    4      \n",
       " + w[1] ⎠ + z ⋅⎝w[0]  + 3⋅w[0] ⋅w[1] + 3⋅w[0]⋅w[1]  + w[1] ⎠ + z ⋅⎝w[0]  + 4⋅w\n",
       "                                                                              \n",
       "                                                                              \n",
       "\n",
       "   3              2     2              3       4⎞    ⎛ 10⎞\n",
       "[0] ⋅w[1] + 6⋅w[0] ⋅w[1]  + 4⋅w[0]⋅w[1]  + w[1] ⎠ + O⎝z  ⎠\n",
       "                                                          \n",
       "                                                          "
      ]
     },
     "execution_count": 23,
     "metadata": {},
     "output_type": "execute_result"
    }
   ],
   "source": [
    "define(f(z), 1/(1-(w[0]+w[1])*z**2), ctor=FEq).series(z,n=10)"
   ]
  },
  {
   "cell_type": "markdown",
   "metadata": {
    "deletable": true,
    "editable": true
   },
   "source": [
    "# Exponential gf recap"
   ]
  },
  {
   "cell_type": "code",
   "execution_count": 5,
   "metadata": {
    "collapsed": false,
    "deletable": true,
    "editable": true
   },
   "outputs": [
    {
     "data": {
      "image/png": "[encoded data removed]",
      "text/latex": [
       "$$f{\\left (z \\right )} = \\frac{z}{\\left(- z + 1\\right)^{2}} = z + 2 z^{2} + 3 z^{3} + 4 z^{4} + 5 z^{5} + 6 z^{6} + 7 z^{7} + 8 z^{8} + 9 z^{9} + O\\left(z^{10}\\right)$$"
      ],
      "text/plain": [
       "           z              2      3      4      5      6      7      8      9  \n",
       "f(z) = ───────── = z + 2⋅z  + 3⋅z  + 4⋅z  + 5⋅z  + 6⋅z  + 7⋅z  + 8⋅z  + 9⋅z  +\n",
       "               2                                                              \n",
       "       (-z + 1)                                                               \n",
       "\n",
       "  ⎛ 10⎞\n",
       " O⎝z  ⎠\n",
       "       \n",
       "       "
      ]
     },
     "execution_count": 5,
     "metadata": {},
     "output_type": "execute_result"
    }
   ],
   "source": [
    "define(f(z), z*(1/(1-z))*(1/(1-z)), ctor=FEq).series(z,n=10,is_exp=False)"
   ]
  },
  {
   "cell_type": "code",
   "execution_count": 6,
   "metadata": {
    "collapsed": false,
    "deletable": true,
    "editable": true
   },
   "outputs": [
    {
     "data": {
      "image/png": "[encoded data removed]",
      "text/latex": [
       "$$f{\\left (z \\right )} = z^{3} = 6 z^{3}$$"
      ],
      "text/plain": [
       "        3      3\n",
       "f(z) = z  = 6⋅z "
      ]
     },
     "execution_count": 6,
     "metadata": {},
     "output_type": "execute_result"
    }
   ],
   "source": [
    "define(f(z), z**3,ctor=FEq).series(z, n=10, is_exp=True)"
   ]
  },
  {
   "cell_type": "code",
   "execution_count": 7,
   "metadata": {
    "collapsed": false,
    "deletable": true,
    "editable": true
   },
   "outputs": [
    {
     "data": {
      "image/png": "[encoded data removed]",
      "text/latex": [
       "$$f{\\left (z \\right )} = e^{z} = 1 + z + z^{2} + z^{3} + z^{4} + z^{5} + z^{6} + z^{7} + z^{8} + z^{9} + O\\left(z^{10}\\right)$$"
      ],
      "text/plain": [
       "        z            2    3    4    5    6    7    8    9    ⎛ 10⎞\n",
       "f(z) = ℯ  = 1 + z + z  + z  + z  + z  + z  + z  + z  + z  + O⎝z  ⎠"
      ]
     },
     "execution_count": 7,
     "metadata": {},
     "output_type": "execute_result"
    }
   ],
   "source": [
    "define(f(z), exp(z),ctor=FEq).series(z, n=10, is_exp=True)"
   ]
  },
  {
   "cell_type": "code",
   "execution_count": 8,
   "metadata": {
    "collapsed": false,
    "deletable": true,
    "editable": true
   },
   "outputs": [
    {
     "data": {
      "image/png": "[encoded data removed]",
      "text/latex": [
       "$$f{\\left (z \\right )} = z e^{z} = z + 2 z^{2} + 3 z^{3} + 4 z^{4} + 5 z^{5} + 6 z^{6} + 7 z^{7} + 8 z^{8} + 9 z^{9} + O\\left(z^{10}\\right)$$"
      ],
      "text/plain": [
       "          z          2      3      4      5      6      7      8      9    ⎛ 1\n",
       "f(z) = z⋅ℯ  = z + 2⋅z  + 3⋅z  + 4⋅z  + 5⋅z  + 6⋅z  + 7⋅z  + 8⋅z  + 9⋅z  + O⎝z \n",
       "\n",
       "0⎞\n",
       " ⎠"
      ]
     },
     "execution_count": 8,
     "metadata": {},
     "output_type": "execute_result"
    }
   ],
   "source": [
    "define(f(z), z*exp(z), ctor=FEq).series(z, n=10, is_exp=True)"
   ]
  },
  {
   "cell_type": "code",
   "execution_count": 9,
   "metadata": {
    "collapsed": false,
    "deletable": true,
    "editable": true
   },
   "outputs": [
    {
     "data": {
      "image/png": "[encoded data removed]",
      "text/latex": [
       "$$f{\\left (z \\right )} = \\frac{z^{2} e^{z}}{2!} = z^{2} + 3 z^{3} + 6 z^{4} + 10 z^{5} + 15 z^{6} + 21 z^{7} + 28 z^{8} + 36 z^{9} + O\\left(z^{10}\\right)$$"
      ],
      "text/plain": [
       "        2  z                                                                  \n",
       "       z ⋅ℯ     2      3      4       5       6       7       8       9    ⎛ 1\n",
       "f(z) = ───── = z  + 3⋅z  + 6⋅z  + 10⋅z  + 15⋅z  + 21⋅z  + 28⋅z  + 36⋅z  + O⎝z \n",
       "         2!                                                                   \n",
       "\n",
       "  \n",
       "0⎞\n",
       " ⎠\n",
       "  "
      ]
     },
     "execution_count": 9,
     "metadata": {},
     "output_type": "execute_result"
    }
   ],
   "source": [
    "define(f(z), z**2*exp(z)/factorial(2,evaluate=False), \n",
    "       ctor=FEq).series(z, n=10, is_exp=True)"
   ]
  },
  {
   "cell_type": "code",
   "execution_count": 10,
   "metadata": {
    "collapsed": false,
    "deletable": true,
    "editable": true
   },
   "outputs": [
    {
     "data": {
      "image/png": "[encoded data removed]",
      "text/latex": [
       "$$f{\\left (z \\right )} = \\frac{z^{3} e^{z}}{3!} = z^{3} + 4 z^{4} + 10 z^{5} + 20 z^{6} + 35 z^{7} + 56 z^{8} + 84 z^{9} + O\\left(z^{10}\\right)$$"
      ],
      "text/plain": [
       "        3  z                                                             \n",
       "       z ⋅ℯ     3      4       5       6       7       8       9    ⎛ 10⎞\n",
       "f(z) = ───── = z  + 4⋅z  + 10⋅z  + 20⋅z  + 35⋅z  + 56⋅z  + 84⋅z  + O⎝z  ⎠\n",
       "         3!                                                              "
      ]
     },
     "execution_count": 10,
     "metadata": {},
     "output_type": "execute_result"
    }
   ],
   "source": [
    "define(f(z), z**3*exp(z)/factorial(3, evaluate=False), \n",
    "       ctor=FEq).series(z, n=10, is_exp=True)"
   ]
  },
  {
   "cell_type": "code",
   "execution_count": 11,
   "metadata": {
    "collapsed": false,
    "deletable": true,
    "editable": true
   },
   "outputs": [
    {
     "data": {
      "image/png": "[encoded data removed]",
      "text/latex": [
       "$$f{\\left (z \\right )} = \\frac{e^{z}}{2} + \\frac{e^{- z}}{2} = 1 + z^{2} + z^{4} + z^{6} + z^{8} + z^{10} + z^{12} + z^{14} + z^{16} + z^{18} + O\\left(z^{20}\\right)$$"
      ],
      "text/plain": [
       "        z    -z                                                               \n",
       "       ℯ    ℯ          2    4    6    8    10    12    14    16    18    ⎛ 20⎞\n",
       "f(z) = ── + ─── = 1 + z  + z  + z  + z  + z   + z   + z   + z   + z   + O⎝z  ⎠\n",
       "       2     2                                                                "
      ]
     },
     "execution_count": 11,
     "metadata": {},
     "output_type": "execute_result"
    }
   ],
   "source": [
    "define(f(z), (exp(z)+exp(-z))/2, ctor=FEq).series(z, n=20, is_exp=True)"
   ]
  },
  {
   "cell_type": "code",
   "execution_count": 12,
   "metadata": {
    "collapsed": false,
    "deletable": true,
    "editable": true
   },
   "outputs": [
    {
     "data": {
      "image/png": "[encoded data removed]",
      "text/latex": [
       "$$f{\\left (z \\right )} = e^{m z} = 1 + m z + m^{2} z^{2} + m^{3} z^{3} + m^{4} z^{4} + m^{5} z^{5} + m^{6} z^{6} + m^{7} z^{7} + m^{8} z^{8} + m^{9} z^{9} + O\\left(z^{10}\\right)$$"
      ],
      "text/plain": [
       "        m⋅z              2  2    3  3    4  4    5  5    6  6    7  7    8  8 \n",
       "f(z) = ℯ    = 1 + m⋅z + m ⋅z  + m ⋅z  + m ⋅z  + m ⋅z  + m ⋅z  + m ⋅z  + m ⋅z  \n",
       "\n",
       "   9  9    ⎛ 10⎞\n",
       "+ m ⋅z  + O⎝z  ⎠"
      ]
     },
     "execution_count": 12,
     "metadata": {},
     "output_type": "execute_result"
    }
   ],
   "source": [
    "define(f(z), exp(m*z), ctor=FEq).series(z, n=10, is_exp=True)"
   ]
  },
  {
   "cell_type": "code",
   "execution_count": 13,
   "metadata": {
    "collapsed": false,
    "deletable": true,
    "editable": true
   },
   "outputs": [
    {
     "data": {
      "image/png": "[encoded data removed]",
      "text/latex": [
       "$$f{\\left (z \\right )} = \\frac{e^{z} - 1}{z} = 1 + \\frac{z}{2} + \\frac{z^{2}}{3} + \\frac{z^{3}}{4} + \\frac{z^{4}}{5} + \\frac{z^{5}}{6} + \\frac{z^{6}}{7} + \\frac{z^{7}}{8} + \\frac{z^{8}}{9} + \\frac{z^{9}}{10} + O\\left(z^{10}\\right)$$"
      ],
      "text/plain": [
       "        z                2    3    4    5    6    7    8    9         \n",
       "       ℯ  - 1       z   z    z    z    z    z    z    z    z     ⎛ 10⎞\n",
       "f(z) = ────── = 1 + ─ + ── + ── + ── + ── + ── + ── + ── + ── + O⎝z  ⎠\n",
       "         z          2   3    4    5    6    7    8    9    10         "
      ]
     },
     "execution_count": 13,
     "metadata": {},
     "output_type": "execute_result"
    }
   ],
   "source": [
    "define(f(z), (exp(z)-1)/z, ctor=FEq).series(z, n=10, is_exp=True)"
   ]
  },
  {
   "cell_type": "code",
   "execution_count": 14,
   "metadata": {
    "collapsed": false,
    "deletable": true,
    "editable": true
   },
   "outputs": [
    {
     "data": {
      "image/png": "[encoded data removed]",
      "text/latex": [
       "$$f{\\left (z \\right )} = \\frac{1}{- z + 1} = 1 + z + 2 z^{2} + 6 z^{3} + 24 z^{4} + 120 z^{5} + 720 z^{6} + 5040 z^{7} + 40320 z^{8} + 362880 z^{9} + O\\left(z^{10}\\right)$$"
      ],
      "text/plain": [
       "         1                 2      3       4        5        6         7       \n",
       "f(z) = ────── = 1 + z + 2⋅z  + 6⋅z  + 24⋅z  + 120⋅z  + 720⋅z  + 5040⋅z  + 4032\n",
       "       -z + 1                                                                 \n",
       "\n",
       "   8           9    ⎛ 10⎞\n",
       "0⋅z  + 362880⋅z  + O⎝z  ⎠\n",
       "                         "
      ]
     },
     "execution_count": 14,
     "metadata": {},
     "output_type": "execute_result"
    }
   ],
   "source": [
    "define(f(z), 1/(1-z), ctor=FEq).series(z, n=10, is_exp=True)"
   ]
  },
  {
   "cell_type": "code",
   "execution_count": 15,
   "metadata": {
    "collapsed": false,
    "deletable": true,
    "editable": true
   },
   "outputs": [
    {
     "data": {
      "image/png": "[encoded data removed]",
      "text/latex": [
       "$$f{\\left (z \\right )} = \\frac{1}{\\left(- z + 1\\right)^{2}} = 1 + 2 z + 6 z^{2} + 24 z^{3} + 120 z^{4} + 720 z^{5} + 5040 z^{6} + 40320 z^{7} + 362880 z^{8} + 3628800 z^{9} + O\\left(z^{10}\\right)$$"
      ],
      "text/plain": [
       "           1                    2       3        4        5         6         \n",
       "f(z) = ───────── = 1 + 2⋅z + 6⋅z  + 24⋅z  + 120⋅z  + 720⋅z  + 5040⋅z  + 40320⋅\n",
       "               2                                                              \n",
       "       (-z + 1)                                                               \n",
       "\n",
       " 7           8            9    ⎛ 10⎞\n",
       "z  + 362880⋅z  + 3628800⋅z  + O⎝z  ⎠\n",
       "                                    \n",
       "                                    "
      ]
     },
     "execution_count": 15,
     "metadata": {},
     "output_type": "execute_result"
    }
   ],
   "source": [
    "define(f(z), (1/(1-z))*(1/(1-z)), ctor=FEq).series(z, n=10,is_exp=True)"
   ]
  },
  {
   "cell_type": "code",
   "execution_count": 16,
   "metadata": {
    "collapsed": false,
    "deletable": true,
    "editable": true
   },
   "outputs": [
    {
     "data": {
      "image/png": "[encoded data removed]",
      "text/latex": [
       "$$f{\\left (z \\right )} = e^{2 z} = 1 + 2 z + 4 z^{2} + 8 z^{3} + 16 z^{4} + 32 z^{5} + 64 z^{6} + 128 z^{7} + 256 z^{8} + 512 z^{9} + O\\left(z^{10}\\right)$$"
      ],
      "text/plain": [
       "        2⋅z                2      3       4       5       6        7        8 \n",
       "f(z) = ℯ    = 1 + 2⋅z + 4⋅z  + 8⋅z  + 16⋅z  + 32⋅z  + 64⋅z  + 128⋅z  + 256⋅z  \n",
       "\n",
       "       9    ⎛ 10⎞\n",
       "+ 512⋅z  + O⎝z  ⎠"
      ]
     },
     "execution_count": 16,
     "metadata": {},
     "output_type": "execute_result"
    }
   ],
   "source": [
    "define(f(z), exp(z)**2, ctor=FEq).series(z, n=10, is_exp=True)"
   ]
  },
  {
   "cell_type": "markdown",
   "metadata": {
    "deletable": true,
    "editable": true
   },
   "source": [
    "# Linear types"
   ]
  },
  {
   "cell_type": "code",
   "execution_count": 17,
   "metadata": {
    "collapsed": false,
    "deletable": true,
    "editable": true
   },
   "outputs": [
    {
     "data": {
      "image/png": "[encoded data removed]",
      "text/latex": [
       "$$\\left [ \\mathcal{V}{\\left (x \\right )} = x\\right ]$$"
      ],
      "text/plain": [
       "[\\mathcal{V}(x) = x]"
      ]
     },
     "execution_count": 17,
     "metadata": {},
     "output_type": "execute_result"
    }
   ],
   "source": [
    "tyvar(x).gf()"
   ]
  },
  {
   "cell_type": "code",
   "execution_count": 18,
   "metadata": {
    "collapsed": false,
    "deletable": true,
    "editable": true
   },
   "outputs": [
    {
     "data": {
      "image/png": "[encoded data removed]",
      "text/latex": [
       "$$\\left [ \\times{\\left (y,z,x \\right )} = x y z\\right ]$$"
      ],
      "text/plain": [
       "[\\times(y, z, x) = x⋅y⋅z]"
      ]
     },
     "execution_count": 18,
     "metadata": {},
     "output_type": "execute_result"
    }
   ],
   "source": [
    "(tyvar(x) * tyvar(y) * tyvar(z)).gf()"
   ]
  },
  {
   "cell_type": "code",
   "execution_count": 19,
   "metadata": {
    "collapsed": false,
    "deletable": true,
    "editable": true
   },
   "outputs": [
    {
     "data": {
      "image/png": "[encoded data removed]",
      "text/latex": [
       "$$\\left [ \\cup{\\left (y,z,x \\right )} = x + y + z\\right ]$$"
      ],
      "text/plain": [
       "[\\cup(y, z, x) = x + y + z]"
      ]
     },
     "execution_count": 19,
     "metadata": {},
     "output_type": "execute_result"
    }
   ],
   "source": [
    "(tyvar(x) | tyvar(y) | tyvar(z)).gf()"
   ]
  },
  {
   "cell_type": "code",
   "execution_count": 20,
   "metadata": {
    "collapsed": true,
    "deletable": true,
    "editable": true
   },
   "outputs": [],
   "source": [
    "truth, falsehood = tyvar(w[1]*z), tyvar(w[0]*z)"
   ]
  },
  {
   "cell_type": "code",
   "execution_count": 21,
   "metadata": {
    "collapsed": true,
    "deletable": true,
    "editable": true
   },
   "outputs": [],
   "source": [
    "boolean = truth | falsehood"
   ]
  },
  {
   "cell_type": "code",
   "execution_count": 107,
   "metadata": {
    "collapsed": false,
    "deletable": true,
    "editable": true
   },
   "outputs": [
    {
     "data": {
      "image/png": "[encoded data removed]",
      "text/latex": [
       "$$\\left [ \\cup{\\left ({w}_{0},z,{w}_{1} \\right )} = z \\left({w}_{0} + {w}_{1}\\right)\\right ]$$"
      ],
      "text/plain": [
       "[\\cup(w[0], z, w[1]) = z⋅(w[0] + w[1])]"
      ]
     },
     "execution_count": 107,
     "metadata": {},
     "output_type": "execute_result"
    }
   ],
   "source": [
    "boolean.gf()"
   ]
  },
  {
   "cell_type": "code",
   "execution_count": 109,
   "metadata": {
    "collapsed": false,
    "deletable": true,
    "editable": true
   },
   "outputs": [
    {
     "data": {
      "image/png": "[encoded data removed]",
      "text/latex": [
       "$$\\left [ \\mathcal{M}{\\left (\\alpha \\right )} = \\alpha + 1\\right ]$$"
      ],
      "text/plain": [
       "[\\mathcal{M}(\\alpha) = \\alpha + 1]"
      ]
     },
     "execution_count": 109,
     "metadata": {},
     "output_type": "execute_result"
    }
   ],
   "source": [
    "maybe(Alpha).gf()"
   ]
  },
  {
   "cell_type": "code",
   "execution_count": 114,
   "metadata": {
    "collapsed": false,
    "deletable": true,
    "editable": true
   },
   "outputs": [
    {
     "data": {
      "image/png": "[encoded data removed]",
      "text/latex": [
       "$$\\mathcal{L}{\\left (\\alpha \\right )} = - \\frac{1}{\\alpha - 1}$$"
      ],
      "text/plain": [
       "                         -1     \n",
       "\\mathcal{L}(\\alpha) = ──────────\n",
       "                      \\alpha - 1"
      ]
     },
     "execution_count": 114,
     "metadata": {},
     "output_type": "execute_result"
    }
   ],
   "source": [
    "lst_of_alpha_gf, = lst(Alpha).gf()\n",
    "lst_of_alpha_gf"
   ]
  },
  {
   "cell_type": "code",
   "execution_count": 115,
   "metadata": {
    "collapsed": false,
    "deletable": true,
    "editable": true
   },
   "outputs": [
    {
     "data": {
      "image/png": "[encoded data removed]",
      "text/latex": [
       "$$\\mathcal{L}{\\left (\\alpha \\right )} = - \\frac{1}{\\alpha - 1} = 1 + \\alpha + \\alpha^{2} + \\alpha^{3} + \\alpha^{4} + \\alpha^{5} + \\alpha^{6} + \\alpha^{7} + \\alpha^{8} + \\alpha^{9} + O\\left(\\alpha^{10}\\right)$$"
      ],
      "text/plain": [
       "                         -1                           2         3         4   \n",
       "\\mathcal{L}(\\alpha) = ────────── = 1 + \\alpha + \\alpha  + \\alpha  + \\alpha  + \n",
       "                      \\alpha - 1                                              \n",
       "\n",
       "      5         6         7         8         9    ⎛      10⎞\n",
       "\\alpha  + \\alpha  + \\alpha  + \\alpha  + \\alpha  + O⎝\\alpha  ⎠\n",
       "                                                             "
      ]
     },
     "execution_count": 115,
     "metadata": {},
     "output_type": "execute_result"
    }
   ],
   "source": [
    "lst_of_alpha_gf.series(alpha, n=10)"
   ]
  },
  {
   "cell_type": "code",
   "execution_count": 116,
   "metadata": {
    "collapsed": false,
    "deletable": true,
    "editable": true
   },
   "outputs": [
    {
     "data": {
      "image/png": "[encoded data removed]",
      "text/latex": [
       "$$\\mathcal{L}{\\left (z,{w}_{1} \\right )} = - \\frac{1}{z {w}_{1}}$$"
      ],
      "text/plain": [
       "                        -1   \n",
       "\\mathcal{L}(z, w[1]) = ──────\n",
       "                       z⋅w[1]"
      ]
     },
     "execution_count": 116,
     "metadata": {},
     "output_type": "execute_result"
    }
   ],
   "source": [
    "lst_of_maybe_of_alpha_gf, = lst(maybe(truth)).gf()\n",
    "lst_of_maybe_of_alpha_gf"
   ]
  },
  {
   "cell_type": "code",
   "execution_count": 117,
   "metadata": {
    "collapsed": false,
    "deletable": true,
    "editable": true
   },
   "outputs": [
    {
     "data": {
      "image/png": "[encoded data removed]",
      "text/latex": [
       "$$\\times{\\left ({w}_{0},z,{w}_{1} \\right )} = \\frac{1}{\\left(z {w}_{0} - 1\\right) \\left(z {w}_{1} - 1\\right)}$$"
      ],
      "text/plain": [
       "                                    1            \n",
       "\\times(w[0], z, w[1]) = ─────────────────────────\n",
       "                        (z⋅w[0] - 1)⋅(z⋅w[1] - 1)"
      ]
     },
     "execution_count": 117,
     "metadata": {},
     "output_type": "execute_result"
    }
   ],
   "source": [
    "nats = (lst(truth) * lst(falsehood))\n",
    "nats_gf, = nats.gf()\n",
    "nats_gf"
   ]
  },
  {
   "cell_type": "code",
   "execution_count": 118,
   "metadata": {
    "collapsed": false,
    "deletable": true,
    "editable": true
   },
   "outputs": [
    {
     "data": {
      "image/png": "[encoded data removed]",
      "text/latex": [
       "$$\\times{\\left ({w}_{0},z,{w}_{1} \\right )} = \\frac{1}{\\left(z {w}_{0} - 1\\right) \\left(z {w}_{1} - 1\\right)} = 1 + z \\left({w}_{0} + {w}_{1}\\right) + z^{2} \\left({w}_{0}^{2} + {w}_{0} {w}_{1} + {w}_{1}^{2}\\right) + z^{3} \\left({w}_{0}^{3} + {w}_{0}^{2} {w}_{1} + {w}_{0} {w}_{1}^{2} + {w}_{1}^{3}\\right) + z^{4} \\left({w}_{0}^{4} + {w}_{0}^{3} {w}_{1} + {w}_{0}^{2} {w}_{1}^{2} + {w}_{0} {w}_{1}^{3} + {w}_{1}^{4}\\right) + z^{5} \\left({w}_{0}^{5} + {w}_{0}^{4} {w}_{1} + {w}_{0}^{3} {w}_{1}^{2} + {w}_{0}^{2} {w}_{1}^{3} + {w}_{0} {w}_{1}^{4} + {w}_{1}^{5}\\right) + z^{6} \\left({w}_{0}^{6} + {w}_{0}^{5} {w}_{1} + {w}_{0}^{4} {w}_{1}^{2} + {w}_{0}^{3} {w}_{1}^{3} + {w}_{0}^{2} {w}_{1}^{4} + {w}_{0} {w}_{1}^{5} + {w}_{1}^{6}\\right) + z^{7} \\left({w}_{0}^{7} + {w}_{0}^{6} {w}_{1} + {w}_{0}^{5} {w}_{1}^{2} + {w}_{0}^{4} {w}_{1}^{3} + {w}_{0}^{3} {w}_{1}^{4} + {w}_{0}^{2} {w}_{1}^{5} + {w}_{0} {w}_{1}^{6} + {w}_{1}^{7}\\right) + z^{8} \\left({w}_{0}^{8} + {w}_{0}^{7} {w}_{1} + {w}_{0}^{6} {w}_{1}^{2} + {w}_{0}^{5} {w}_{1}^{3} + {w}_{0}^{4} {w}_{1}^{4} + {w}_{0}^{3} {w}_{1}^{5} + {w}_{0}^{2} {w}_{1}^{6} + {w}_{0} {w}_{1}^{7} + {w}_{1}^{8}\\right) + z^{9} \\left({w}_{0}^{9} + {w}_{0}^{8} {w}_{1} + {w}_{0}^{7} {w}_{1}^{2} + {w}_{0}^{6} {w}_{1}^{3} + {w}_{0}^{5} {w}_{1}^{4} + {w}_{0}^{4} {w}_{1}^{5} + {w}_{0}^{3} {w}_{1}^{6} + {w}_{0}^{2} {w}_{1}^{7} + {w}_{0} {w}_{1}^{8} + {w}_{1}^{9}\\right) + O\\left(z^{10}\\right)$$"
      ],
      "text/plain": [
       "                                    1                                      2 ⎛\n",
       "\\times(w[0], z, w[1]) = ───────────────────────── = 1 + z⋅(w[0] + w[1]) + z ⋅⎝\n",
       "                        (z⋅w[0] - 1)⋅(z⋅w[1] - 1)                             \n",
       "\n",
       "    2                   2⎞    3 ⎛    3       2                 2       3⎞    4\n",
       "w[0]  + w[0]⋅w[1] + w[1] ⎠ + z ⋅⎝w[0]  + w[0] ⋅w[1] + w[0]⋅w[1]  + w[1] ⎠ + z \n",
       "                                                                              \n",
       "\n",
       " ⎛    4       3            2     2            3       4⎞    5 ⎛    5       4  \n",
       "⋅⎝w[0]  + w[0] ⋅w[1] + w[0] ⋅w[1]  + w[0]⋅w[1]  + w[1] ⎠ + z ⋅⎝w[0]  + w[0] ⋅w\n",
       "                                                                              \n",
       "\n",
       "          3     2       2     3            4       5⎞    6 ⎛    6       5     \n",
       "[1] + w[0] ⋅w[1]  + w[0] ⋅w[1]  + w[0]⋅w[1]  + w[1] ⎠ + z ⋅⎝w[0]  + w[0] ⋅w[1]\n",
       "                                                                              \n",
       "\n",
       "       4     2       3     3       2     4            5       6⎞    7 ⎛    7  \n",
       " + w[0] ⋅w[1]  + w[0] ⋅w[1]  + w[0] ⋅w[1]  + w[0]⋅w[1]  + w[1] ⎠ + z ⋅⎝w[0]  +\n",
       "                                                                              \n",
       "\n",
       "     6            5     2       4     3       3     4       2     5           \n",
       " w[0] ⋅w[1] + w[0] ⋅w[1]  + w[0] ⋅w[1]  + w[0] ⋅w[1]  + w[0] ⋅w[1]  + w[0]⋅w[1\n",
       "                                                                              \n",
       "\n",
       " 6       7⎞    8 ⎛    8       7            6     2       5     3       4     4\n",
       "]  + w[1] ⎠ + z ⋅⎝w[0]  + w[0] ⋅w[1] + w[0] ⋅w[1]  + w[0] ⋅w[1]  + w[0] ⋅w[1] \n",
       "                                                                              \n",
       "\n",
       "       3     5       2     6            7       8⎞    9 ⎛    9       8        \n",
       " + w[0] ⋅w[1]  + w[0] ⋅w[1]  + w[0]⋅w[1]  + w[1] ⎠ + z ⋅⎝w[0]  + w[0] ⋅w[1] + \n",
       "                                                                              \n",
       "\n",
       "    7     2       6     3       5     4       4     5       3     6       2   \n",
       "w[0] ⋅w[1]  + w[0] ⋅w[1]  + w[0] ⋅w[1]  + w[0] ⋅w[1]  + w[0] ⋅w[1]  + w[0] ⋅w[\n",
       "                                                                              \n",
       "\n",
       "  7            8       9⎞    ⎛ 10⎞\n",
       "1]  + w[0]⋅w[1]  + w[1] ⎠ + O⎝z  ⎠\n",
       "                                  "
      ]
     },
     "execution_count": 118,
     "metadata": {},
     "output_type": "execute_result"
    }
   ],
   "source": [
    "nats_gf.series(z, n=10)"
   ]
  },
  {
   "cell_type": "code",
   "execution_count": 119,
   "metadata": {
    "collapsed": false,
    "deletable": true,
    "editable": true
   },
   "outputs": [
    {
     "data": {
      "image/png": "[encoded data removed]",
      "text/latex": [
       "$$\\times{\\left (z,\\gamma,{w}_{1},{w}_{0} \\right )} = \\frac{- \\gamma z + 1}{\\left(z {w}_{0} - 1\\right) \\left(z {w}_{1} - 1\\right)}$$"
      ],
      "text/plain": [
       "                                      -\\gamma⋅z + 1      \n",
       "\\times(z, \\gamma, w[1], w[0]) = ─────────────────────────\n",
       "                                (z⋅w[0] - 1)⋅(z⋅w[1] - 1)"
      ]
     },
     "execution_count": 119,
     "metadata": {},
     "output_type": "execute_result"
    }
   ],
   "source": [
    "difference = (cp() | tyvar(-gamma*z))\n",
    "ones = nats * difference\n",
    "ones_gf, = ones.gf()\n",
    "ones_gf"
   ]
  },
  {
   "cell_type": "code",
   "execution_count": 121,
   "metadata": {
    "collapsed": false,
    "deletable": true,
    "editable": true
   },
   "outputs": [
    {
     "data": {
      "image/png": "[encoded data removed]",
      "text/latex": [
       "$$1 + z + z^{2} + z^{3} + z^{4} + z^{5} + z^{6} + z^{7} + z^{8} + z^{9} + O\\left(z^{10}\\right)$$"
      ],
      "text/plain": [
       "         2    3    4    5    6    7    8    9    ⎛ 10⎞\n",
       "1 + z + z  + z  + z  + z  + z  + z  + z  + z  + O⎝z  ⎠"
      ]
     },
     "execution_count": 121,
     "metadata": {},
     "output_type": "execute_result"
    }
   ],
   "source": [
    "ones_gf(z,1,1,1).series(z, n=10) # check!"
   ]
  },
  {
   "cell_type": "code",
   "execution_count": 123,
   "metadata": {
    "collapsed": false,
    "deletable": true,
    "editable": true
   },
   "outputs": [
    {
     "data": {
      "image/png": "[encoded data removed]",
      "text/latex": [
       "$$1 + O\\left(z^{10}\\right)$$"
      ],
      "text/plain": [
       "     ⎛ 10⎞\n",
       "1 + O⎝z  ⎠"
      ]
     },
     "execution_count": 123,
     "metadata": {},
     "output_type": "execute_result"
    }
   ],
   "source": [
    "one_gf, = (ones * difference).gf()\n",
    "one_gf.series(z, n=10).rhs.rhs.subs({w[0]:1, w[1]:1, gamma:1})"
   ]
  },
  {
   "cell_type": "code",
   "execution_count": 124,
   "metadata": {
    "collapsed": false,
    "deletable": true,
    "editable": true
   },
   "outputs": [
    {
     "data": {
      "image/png": "[encoded data removed]",
      "text/latex": [
       "$$\\mathcal{L}{\\left ({w}_{0},z,{w}_{1} \\right )} = - \\frac{1}{z {w}_{0} + z {w}_{1} - 1}$$"
      ],
      "text/plain": [
       "                                     -1         \n",
       "\\mathcal{L}(w[0], z, w[1]) = ───────────────────\n",
       "                             z⋅w[0] + z⋅w[1] - 1"
      ]
     },
     "execution_count": 124,
     "metadata": {},
     "output_type": "execute_result"
    }
   ],
   "source": [
    "lst_of_boolean_gf, = lst(boolean).gf()\n",
    "lst_of_boolean_gf"
   ]
  },
  {
   "cell_type": "code",
   "execution_count": 125,
   "metadata": {
    "collapsed": false,
    "deletable": true,
    "editable": true
   },
   "outputs": [
    {
     "data": {
      "image/png": "[encoded data removed]",
      "text/latex": [
       "$$\\mathcal{L}{\\left ({w}_{0},z,{w}_{1} \\right )} = - \\frac{1}{z {w}_{0} + z {w}_{1} - 1} = 1 + z \\left({w}_{0} + {w}_{1}\\right) + z^{2} \\left({w}_{0}^{2} + 2 {w}_{0} {w}_{1} + {w}_{1}^{2}\\right) + z^{3} \\left({w}_{0}^{3} + 3 {w}_{0}^{2} {w}_{1} + 3 {w}_{0} {w}_{1}^{2} + {w}_{1}^{3}\\right) + z^{4} \\left({w}_{0}^{4} + 4 {w}_{0}^{3} {w}_{1} + 6 {w}_{0}^{2} {w}_{1}^{2} + 4 {w}_{0} {w}_{1}^{3} + {w}_{1}^{4}\\right) + z^{5} \\left({w}_{0}^{5} + 5 {w}_{0}^{4} {w}_{1} + 10 {w}_{0}^{3} {w}_{1}^{2} + 10 {w}_{0}^{2} {w}_{1}^{3} + 5 {w}_{0} {w}_{1}^{4} + {w}_{1}^{5}\\right) + O\\left(z^{6}\\right)$$"
      ],
      "text/plain": [
       "                                     -1                                   2 ⎛ \n",
       "\\mathcal{L}(w[0], z, w[1]) = ─────────────────── = 1 + z⋅(w[0] + w[1]) + z ⋅⎝w\n",
       "                             z⋅w[0] + z⋅w[1] - 1                              \n",
       "\n",
       "   2                     2⎞    3 ⎛    3         2                   2       3⎞\n",
       "[0]  + 2⋅w[0]⋅w[1] + w[1] ⎠ + z ⋅⎝w[0]  + 3⋅w[0] ⋅w[1] + 3⋅w[0]⋅w[1]  + w[1] ⎠\n",
       "                                                                              \n",
       "\n",
       "    4 ⎛    4         3              2     2              3       4⎞    5 ⎛    \n",
       " + z ⋅⎝w[0]  + 4⋅w[0] ⋅w[1] + 6⋅w[0] ⋅w[1]  + 4⋅w[0]⋅w[1]  + w[1] ⎠ + z ⋅⎝w[0]\n",
       "                                                                              \n",
       "\n",
       "5         4               3     2          2     3              4       5⎞    \n",
       "  + 5⋅w[0] ⋅w[1] + 10⋅w[0] ⋅w[1]  + 10⋅w[0] ⋅w[1]  + 5⋅w[0]⋅w[1]  + w[1] ⎠ + O\n",
       "                                                                              \n",
       "\n",
       "⎛ 6⎞\n",
       "⎝z ⎠\n",
       "    "
      ]
     },
     "execution_count": 125,
     "metadata": {},
     "output_type": "execute_result"
    }
   ],
   "source": [
    "s = lst_of_boolean_gf.series(z)\n",
    "s"
   ]
  },
  {
   "cell_type": "code",
   "execution_count": 126,
   "metadata": {
    "collapsed": false,
    "deletable": true,
    "editable": true
   },
   "outputs": [
    {
     "data": {
      "image/png": "[encoded data removed]",
      "text/latex": [
       "$$1 + 2 z + 4 z^{2} + 8 z^{3} + 16 z^{4} + 32 z^{5} + 64 z^{6} + 128 z^{7} + 256 z^{8} + 512 z^{9} + O\\left(z^{10}\\right)$$"
      ],
      "text/plain": [
       "             2      3       4       5       6        7        8        9    ⎛ \n",
       "1 + 2⋅z + 4⋅z  + 8⋅z  + 16⋅z  + 32⋅z  + 64⋅z  + 128⋅z  + 256⋅z  + 512⋅z  + O⎝z\n",
       "\n",
       "10⎞\n",
       "  ⎠"
      ]
     },
     "execution_count": 126,
     "metadata": {},
     "output_type": "execute_result"
    }
   ],
   "source": [
    "lst_of_boolean_gf(1,z,1).series(z,n=10)"
   ]
  },
  {
   "cell_type": "code",
   "execution_count": 128,
   "metadata": {
    "collapsed": false,
    "deletable": true,
    "editable": true
   },
   "outputs": [
    {
     "data": {
      "image/png": "[encoded data removed]",
      "text/latex": [
       "$$\\mathcal{L}_{+}{\\left (\\alpha \\right )} = - \\frac{\\alpha}{\\alpha - 1}$$"
      ],
      "text/plain": [
       "                           -\\alpha  \n",
       "\\mathcal{L}_{+}(\\alpha) = ──────────\n",
       "                          \\alpha - 1"
      ]
     },
     "execution_count": 128,
     "metadata": {},
     "output_type": "execute_result"
    }
   ],
   "source": [
    "nnlst_of_alpha_gf, = nnlst(tyvar(alpha)).gf()\n",
    "nnlst_of_alpha_gf"
   ]
  },
  {
   "cell_type": "code",
   "execution_count": 129,
   "metadata": {
    "collapsed": false,
    "deletable": true,
    "editable": true
   },
   "outputs": [
    {
     "data": {
      "image/png": "[encoded data removed]",
      "text/latex": [
       "$$\\mathcal{L}_{+}{\\left (\\alpha \\right )} = - \\frac{\\alpha}{\\alpha - 1} = \\alpha + \\alpha^{2} + \\alpha^{3} + \\alpha^{4} + \\alpha^{5} + \\alpha^{6} + \\alpha^{7} + \\alpha^{8} + \\alpha^{9} + O\\left(\\alpha^{10}\\right)$$"
      ],
      "text/plain": [
       "                           -\\alpha                    2         3         4   \n",
       "\\mathcal{L}_{+}(\\alpha) = ────────── = \\alpha + \\alpha  + \\alpha  + \\alpha  + \n",
       "                          \\alpha - 1                                          \n",
       "\n",
       "      5         6         7         8         9    ⎛      10⎞\n",
       "\\alpha  + \\alpha  + \\alpha  + \\alpha  + \\alpha  + O⎝\\alpha  ⎠\n",
       "                                                             "
      ]
     },
     "execution_count": 129,
     "metadata": {},
     "output_type": "execute_result"
    }
   ],
   "source": [
    "nnlst_of_alpha_gf.series(alpha, n=10)"
   ]
  },
  {
   "cell_type": "code",
   "execution_count": 145,
   "metadata": {
    "collapsed": false,
    "deletable": true,
    "editable": true
   },
   "outputs": [
    {
     "data": {
      "image/png": "[encoded data removed]",
      "text/latex": [
       "$$\\left [ \\mathcal{B}{\\left (\\alpha \\right )} = \\frac{- \\sqrt{- 4 \\alpha + 1} + 1}{2 \\alpha}, \\quad \\mathcal{B}{\\left (\\alpha \\right )} = \\frac{\\sqrt{- 4 \\alpha + 1} + 1}{2 \\alpha}\\right ]$$"
      ],
      "text/plain": [
       "⎡                          _______________                              ______\n",
       "⎢                      - ╲╱ -4⋅\\alpha + 1  + 1                        ╲╱ -4⋅\\a\n",
       "⎢\\mathcal{B}(\\alpha) = ───────────────────────, \\mathcal{B}(\\alpha) = ────────\n",
       "⎣                              2⋅\\alpha                                      2\n",
       "\n",
       "_________    ⎤\n",
       "lpha + 1  + 1⎥\n",
       "─────────────⎥\n",
       "⋅\\alpha      ⎦"
      ]
     },
     "execution_count": 145,
     "metadata": {},
     "output_type": "execute_result"
    }
   ],
   "source": [
    "bin_tree_gfs = bin_tree(tyvar(alpha)).gf()\n",
    "bin_tree_gfs"
   ]
  },
  {
   "cell_type": "code",
   "execution_count": 132,
   "metadata": {
    "collapsed": false,
    "deletable": true,
    "editable": true
   },
   "outputs": [],
   "source": [
    "bin_tree_gf = bin_tree_gfs[0]"
   ]
  },
  {
   "cell_type": "code",
   "execution_count": 133,
   "metadata": {
    "collapsed": false,
    "deletable": true,
    "editable": true
   },
   "outputs": [
    {
     "data": {
      "image/png": "[encoded data removed]",
      "text/latex": [
       "$$\\mathcal{B}{\\left (\\alpha \\right )} = \\frac{- \\sqrt{- 4 \\alpha + 1} + 1}{2 \\alpha} = 1 + \\alpha + 2 \\alpha^{2} + 5 \\alpha^{3} + 14 \\alpha^{4} + 42 \\alpha^{5} + 132 \\alpha^{6} + 429 \\alpha^{7} + 1430 \\alpha^{8} + 4862 \\alpha^{9} + O\\left(\\alpha^{10}\\right)$$"
      ],
      "text/plain": [
       "                          _______________                                     \n",
       "                      - ╲╱ -4⋅\\alpha + 1  + 1                        2        \n",
       "\\mathcal{B}(\\alpha) = ─────────────────────── = 1 + \\alpha + 2⋅\\alpha  + 5⋅\\al\n",
       "                              2⋅\\alpha                                        \n",
       "\n",
       "                                                                              \n",
       "   3            4            5             6             7              8     \n",
       "pha  + 14⋅\\alpha  + 42⋅\\alpha  + 132⋅\\alpha  + 429⋅\\alpha  + 1430⋅\\alpha  + 48\n",
       "                                                                              \n",
       "\n",
       "                        \n",
       "         9    ⎛      10⎞\n",
       "62⋅\\alpha  + O⎝\\alpha  ⎠\n",
       "                        "
      ]
     },
     "execution_count": 133,
     "metadata": {},
     "output_type": "execute_result"
    }
   ],
   "source": [
    "bin_tree_gf.series(alpha, n=10)"
   ]
  },
  {
   "cell_type": "code",
   "execution_count": 134,
   "metadata": {
    "collapsed": false,
    "deletable": true,
    "editable": true
   },
   "outputs": [
    {
     "data": {
      "image/png": "[encoded data removed]",
      "text/latex": [
       "$$\\left [ \\mathcal{B}{\\left ({w}_{0},z,{w}_{1} \\right )} = \\frac{- \\sqrt{- 4 z {w}_{0} - 4 z {w}_{1} + 1} + 1}{2 z \\left({w}_{0} + {w}_{1}\\right)}, \\quad \\mathcal{B}{\\left ({w}_{0},z,{w}_{1} \\right )} = \\frac{\\sqrt{- 4 z {w}_{0} - 4 z {w}_{1} + 1} + 1}{2 z \\left({w}_{0} + {w}_{1}\\right)}\\right ]$$"
      ],
      "text/plain": [
       "⎡                                 __________________________                  \n",
       "⎢                             - ╲╱ -4⋅z⋅w[0] - 4⋅z⋅w[1] + 1  + 1              \n",
       "⎢\\mathcal{B}(w[0], z, w[1]) = ──────────────────────────────────, \\mathcal{B}(\n",
       "⎣                                     2⋅z⋅(w[0] + w[1])                       \n",
       "\n",
       "                   __________________________    ⎤\n",
       "                 ╲╱ -4⋅z⋅w[0] - 4⋅z⋅w[1] + 1  + 1⎥\n",
       "w[0], z, w[1]) = ────────────────────────────────⎥\n",
       "                        2⋅z⋅(w[0] + w[1])        ⎦"
      ]
     },
     "execution_count": 134,
     "metadata": {},
     "output_type": "execute_result"
    }
   ],
   "source": [
    "bin_tree_of_boolean_gfs = bin_tree(boolean).gf()\n",
    "bin_tree_of_boolean_gfs"
   ]
  },
  {
   "cell_type": "code",
   "execution_count": 135,
   "metadata": {
    "collapsed": false,
    "deletable": true,
    "editable": true
   },
   "outputs": [
    {
     "data": {
      "image/png": "[encoded data removed]",
      "text/latex": [
       "$$\\mathcal{B}{\\left ({w}_{0},z,{w}_{1} \\right )} = \\frac{- \\sqrt{- 4 z {w}_{0} - 4 z {w}_{1} + 1} + 1}{2 z \\left({w}_{0} + {w}_{1}\\right)} = z \\left(\\frac{2 {w}_{0}}{2 z {w}_{0} + 2 z {w}_{1}} + \\frac{2 {w}_{1}}{2 z {w}_{0} + 2 z {w}_{1}}\\right) + z^{2} \\left(\\frac{2 {w}_{0}^{2}}{2 z {w}_{0} + 2 z {w}_{1}} + \\frac{4 {w}_{0} {w}_{1}}{2 z {w}_{0} + 2 z {w}_{1}} + \\frac{2 {w}_{1}^{2}}{2 z {w}_{0} + 2 z {w}_{1}}\\right) + z^{3} \\left(\\frac{4 {w}_{0}^{3}}{2 z {w}_{0} + 2 z {w}_{1}} + \\frac{12 {w}_{0}^{2} {w}_{1}}{2 z {w}_{0} + 2 z {w}_{1}} + \\frac{12 {w}_{0} {w}_{1}^{2}}{2 z {w}_{0} + 2 z {w}_{1}} + \\frac{4 {w}_{1}^{3}}{2 z {w}_{0} + 2 z {w}_{1}}\\right) + z^{4} \\left(\\frac{10 {w}_{0}^{4}}{2 z {w}_{0} + 2 z {w}_{1}} + \\frac{40 {w}_{0}^{3} {w}_{1}}{2 z {w}_{0} + 2 z {w}_{1}} + \\frac{60 {w}_{0}^{2} {w}_{1}^{2}}{2 z {w}_{0} + 2 z {w}_{1}} + \\frac{40 {w}_{0} {w}_{1}^{3}}{2 z {w}_{0} + 2 z {w}_{1}} + \\frac{10 {w}_{1}^{4}}{2 z {w}_{0} + 2 z {w}_{1}}\\right) + z^{5} \\left(\\frac{28 {w}_{0}^{5}}{2 z {w}_{0} + 2 z {w}_{1}} + \\frac{140 {w}_{0}^{4} {w}_{1}}{2 z {w}_{0} + 2 z {w}_{1}} + \\frac{280 {w}_{0}^{3} {w}_{1}^{2}}{2 z {w}_{0} + 2 z {w}_{1}} + \\frac{280 {w}_{0}^{2} {w}_{1}^{3}}{2 z {w}_{0} + 2 z {w}_{1}} + \\frac{140 {w}_{0} {w}_{1}^{4}}{2 z {w}_{0} + 2 z {w}_{1}} + \\frac{28 {w}_{1}^{5}}{2 z {w}_{0} + 2 z {w}_{1}}\\right) + z^{6} \\left(\\frac{84 {w}_{0}^{6}}{2 z {w}_{0} + 2 z {w}_{1}} + \\frac{504 {w}_{0}^{5} {w}_{1}}{2 z {w}_{0} + 2 z {w}_{1}} + \\frac{1260 {w}_{0}^{4} {w}_{1}^{2}}{2 z {w}_{0} + 2 z {w}_{1}} + \\frac{1680 {w}_{0}^{3} {w}_{1}^{3}}{2 z {w}_{0} + 2 z {w}_{1}} + \\frac{1260 {w}_{0}^{2} {w}_{1}^{4}}{2 z {w}_{0} + 2 z {w}_{1}} + \\frac{504 {w}_{0} {w}_{1}^{5}}{2 z {w}_{0} + 2 z {w}_{1}} + \\frac{84 {w}_{1}^{6}}{2 z {w}_{0} + 2 z {w}_{1}}\\right) + O\\left(z^{6}\\right)$$"
      ],
      "text/plain": [
       "                                 __________________________                   \n",
       "                             - ╲╱ -4⋅z⋅w[0] - 4⋅z⋅w[1] + 1  + 1     ⎛       2⋅\n",
       "\\mathcal{B}(w[0], z, w[1]) = ────────────────────────────────── = z⋅⎜─────────\n",
       "                                     2⋅z⋅(w[0] + w[1])              ⎝2⋅z⋅w[0] \n",
       "\n",
       "                                       ⎛            2                         \n",
       "w[0]                2⋅w[1]      ⎞    2 ⎜      2⋅w[0]              4⋅w[0]⋅w[1] \n",
       "────────── + ───────────────────⎟ + z ⋅⎜─────────────────── + ────────────────\n",
       "+ 2⋅z⋅w[1]   2⋅z⋅w[0] + 2⋅z⋅w[1]⎠      ⎝2⋅z⋅w[0] + 2⋅z⋅w[1]   2⋅z⋅w[0] + 2⋅z⋅w\n",
       "\n",
       "                  2      ⎞      ⎛            3                   2            \n",
       "            2⋅w[1]       ⎟    3 ⎜      4⋅w[0]             12⋅w[0] ⋅w[1]       \n",
       "─── + ───────────────────⎟ + z ⋅⎜─────────────────── + ─────────────────── + ─\n",
       "[1]   2⋅z⋅w[0] + 2⋅z⋅w[1]⎠      ⎝2⋅z⋅w[0] + 2⋅z⋅w[1]   2⋅z⋅w[0] + 2⋅z⋅w[1]   2\n",
       "\n",
       "              2                  3      ⎞      ⎛             4                \n",
       "  12⋅w[0]⋅w[1]             4⋅w[1]       ⎟    4 ⎜      10⋅w[0]            40⋅w[\n",
       "────────────────── + ───────────────────⎟ + z ⋅⎜─────────────────── + ────────\n",
       "⋅z⋅w[0] + 2⋅z⋅w[1]   2⋅z⋅w[0] + 2⋅z⋅w[1]⎠      ⎝2⋅z⋅w[0] + 2⋅z⋅w[1]   2⋅z⋅w[0]\n",
       "\n",
       "  3                     2     2                    3                   4     ⎞\n",
       "0] ⋅w[1]         60⋅w[0] ⋅w[1]         40⋅w[0]⋅w[1]             10⋅w[1]      ⎟\n",
       "─────────── + ─────────────────── + ─────────────────── + ───────────────────⎟\n",
       " + 2⋅z⋅w[1]   2⋅z⋅w[0] + 2⋅z⋅w[1]   2⋅z⋅w[0] + 2⋅z⋅w[1]   2⋅z⋅w[0] + 2⋅z⋅w[1]⎠\n",
       "\n",
       "      ⎛             5                   4                    3     2          \n",
       "    5 ⎜      28⋅w[0]            140⋅w[0] ⋅w[1]       280⋅w[0] ⋅w[1]        280\n",
       " + z ⋅⎜─────────────────── + ─────────────────── + ─────────────────── + ─────\n",
       "      ⎝2⋅z⋅w[0] + 2⋅z⋅w[1]   2⋅z⋅w[0] + 2⋅z⋅w[1]   2⋅z⋅w[0] + 2⋅z⋅w[1]   2⋅z⋅w\n",
       "\n",
       "     2     3                     4                  5     ⎞      ⎛            \n",
       "⋅w[0] ⋅w[1]         140⋅w[0]⋅w[1]            28⋅w[1]      ⎟    6 ⎜      84⋅w[0\n",
       "────────────── + ─────────────────── + ───────────────────⎟ + z ⋅⎜────────────\n",
       "[0] + 2⋅z⋅w[1]   2⋅z⋅w[0] + 2⋅z⋅w[1]   2⋅z⋅w[0] + 2⋅z⋅w[1]⎠      ⎝2⋅z⋅w[0] + 2\n",
       "\n",
       " 6                   5                     4     2               3     3      \n",
       "]            504⋅w[0] ⋅w[1]       1260⋅w[0] ⋅w[1]       1680⋅w[0] ⋅w[1]       \n",
       "─────── + ─────────────────── + ─────────────────── + ─────────────────── + ──\n",
       "⋅z⋅w[1]   2⋅z⋅w[0] + 2⋅z⋅w[1]   2⋅z⋅w[0] + 2⋅z⋅w[1]   2⋅z⋅w[0] + 2⋅z⋅w[1]   2⋅\n",
       "\n",
       "         2     4                    5                  6     ⎞        \n",
       "1260⋅w[0] ⋅w[1]        504⋅w[0]⋅w[1]            84⋅w[1]      ⎟    ⎛ 6⎞\n",
       "───────────────── + ─────────────────── + ───────────────────⎟ + O⎝z ⎠\n",
       "z⋅w[0] + 2⋅z⋅w[1]   2⋅z⋅w[0] + 2⋅z⋅w[1]   2⋅z⋅w[0] + 2⋅z⋅w[1]⎠        "
      ]
     },
     "execution_count": 135,
     "metadata": {},
     "output_type": "execute_result"
    }
   ],
   "source": [
    "bin_tree_of_boolean_gf = bin_tree_of_boolean_gfs[0]\n",
    "s = bin_tree_of_boolean_gf.series(z)\n",
    "s"
   ]
  },
  {
   "cell_type": "code",
   "execution_count": 139,
   "metadata": {
    "collapsed": false,
    "deletable": true,
    "editable": true
   },
   "outputs": [
    {
     "data": {
      "image/png": "[encoded data removed]",
      "text/latex": [
       "$$\\left [ 0, \\quad \\frac{1}{z}, \\quad \\frac{{w}_{0} + {w}_{1}}{z}, \\quad \\frac{2 \\left({w}_{0}^{2} + 2 {w}_{0} {w}_{1} + {w}_{1}^{2}\\right)}{z}, \\quad \\frac{5 \\left({w}_{0}^{3} + 3 {w}_{0}^{2} {w}_{1} + 3 {w}_{0} {w}_{1}^{2} + {w}_{1}^{3}\\right)}{z}, \\quad \\frac{14 \\left({w}_{0}^{4} + 4 {w}_{0}^{3} {w}_{1} + 6 {w}_{0}^{2} {w}_{1}^{2} + 4 {w}_{0} {w}_{1}^{3} + {w}_{1}^{4}\\right)}{z}, \\quad \\frac{42 \\left({w}_{0}^{5} + 5 {w}_{0}^{4} {w}_{1} + 10 {w}_{0}^{3} {w}_{1}^{2} + 10 {w}_{0}^{2} {w}_{1}^{3} + 5 {w}_{0} {w}_{1}^{4} + {w}_{1}^{5}\\right)}{z}\\right ]$$"
      ],
      "text/plain": [
       "⎡                     ⎛    2                     2⎞    ⎛    3         2       \n",
       "⎢   1  w[0] + w[1]  2⋅⎝w[0]  + 2⋅w[0]⋅w[1] + w[1] ⎠  5⋅⎝w[0]  + 3⋅w[0] ⋅w[1] +\n",
       "⎢0, ─, ───────────, ───────────────────────────────, ─────────────────────────\n",
       "⎣   z       z                      z                                        z \n",
       "\n",
       "            2       3⎞     ⎛    4         3              2     2              \n",
       " 3⋅w[0]⋅w[1]  + w[1] ⎠  14⋅⎝w[0]  + 4⋅w[0] ⋅w[1] + 6⋅w[0] ⋅w[1]  + 4⋅w[0]⋅w[1]\n",
       "──────────────────────, ──────────────────────────────────────────────────────\n",
       "                                                       z                      \n",
       "\n",
       "3       4⎞     ⎛    5         4               3     2          2     3        \n",
       "  + w[1] ⎠  42⋅⎝w[0]  + 5⋅w[0] ⋅w[1] + 10⋅w[0] ⋅w[1]  + 10⋅w[0] ⋅w[1]  + 5⋅w[0\n",
       "──────────, ──────────────────────────────────────────────────────────────────\n",
       "                                                    z                         \n",
       "\n",
       "      4       5⎞⎤\n",
       "]⋅w[1]  + w[1] ⎠⎥\n",
       "────────────────⎥\n",
       "                ⎦"
      ]
     },
     "execution_count": 139,
     "metadata": {},
     "output_type": "execute_result"
    }
   ],
   "source": [
    "coeffs = [s.rhs.rhs.coeff(z,i).simplify() for i in range(7)]\n",
    "coeffs"
   ]
  },
  {
   "cell_type": "code",
   "execution_count": 140,
   "metadata": {
    "collapsed": false,
    "deletable": true,
    "editable": true
   },
   "outputs": [
    {
     "data": {
      "image/png": "[encoded data removed]",
      "text/latex": [
       "$$\\left [ 0, \\quad \\frac{1}{z}, \\quad \\frac{2}{z}, \\quad \\frac{8}{z}, \\quad \\frac{40}{z}, \\quad \\frac{224}{z}, \\quad \\frac{1344}{z}\\right ]$$"
      ],
      "text/plain": [
       "⎡   1  2  8  40  224  1344⎤\n",
       "⎢0, ─, ─, ─, ──, ───, ────⎥\n",
       "⎣   z  z  z  z    z    z  ⎦"
      ]
     },
     "execution_count": 140,
     "metadata": {},
     "output_type": "execute_result"
    }
   ],
   "source": [
    "[c.subs({w[0]:1,w[1]:1}) for c in coeffs]"
   ]
  },
  {
   "cell_type": "code",
   "execution_count": 147,
   "metadata": {
    "collapsed": false,
    "deletable": true,
    "editable": true
   },
   "outputs": [
    {
     "data": {
      "image/png": "[encoded data removed]",
      "text/latex": [
       "$$\\times{\\left ({w}_{2},z,{w}_{1},{w}_{0} \\right )} = \\left(z {w}_{0} + 1\\right) \\left(z {w}_{1} + 1\\right) \\left(z {w}_{2} + 1\\right)$$"
      ],
      "text/plain": [
       "\\times(w[2], z, w[1], w[0]) = (z⋅w[0] + 1)⋅(z⋅w[1] + 1)⋅(z⋅w[2] + 1)"
      ]
     },
     "execution_count": 147,
     "metadata": {},
     "output_type": "execute_result"
    }
   ],
   "source": [
    "occupancy, = cp(*[maybe(tyvar(w[i]*z)) for i in range(3)]).gf()\n",
    "occupancy"
   ]
  },
  {
   "cell_type": "code",
   "execution_count": 148,
   "metadata": {
    "collapsed": false,
    "deletable": true,
    "editable": true
   },
   "outputs": [
    {
     "data": {
      "image/png": "[encoded data removed]",
      "text/latex": [
       "$$\\times{\\left ({w}_{2},z,{w}_{1},{w}_{0} \\right )} = \\left(z {w}_{0} + 1\\right) \\left(z {w}_{1} + 1\\right) \\left(z {w}_{2} + 1\\right) = z^{3} {w}_{0} {w}_{1} {w}_{2} + z^{2} \\left({w}_{0} {w}_{1} + {w}_{0} {w}_{2} + {w}_{1} {w}_{2}\\right) + z \\left({w}_{0} + {w}_{1} + {w}_{2}\\right) + 1$$"
      ],
      "text/plain": [
       "                                                                        3     \n",
       "\\times(w[2], z, w[1], w[0]) = (z⋅w[0] + 1)⋅(z⋅w[1] + 1)⋅(z⋅w[2] + 1) = z ⋅w[0]\n",
       "\n",
       "              2                                                               \n",
       "⋅w[1]⋅w[2] + z ⋅(w[0]⋅w[1] + w[0]⋅w[2] + w[1]⋅w[2]) + z⋅(w[0] + w[1] + w[2]) +\n",
       "\n",
       "  \n",
       " 1"
      ]
     },
     "execution_count": 148,
     "metadata": {},
     "output_type": "execute_result"
    }
   ],
   "source": [
    "occupancy.series(z)"
   ]
  },
  {
   "cell_type": "code",
   "execution_count": 149,
   "metadata": {
    "collapsed": false,
    "deletable": true,
    "editable": true
   },
   "outputs": [
    {
     "data": {
      "image/png": "[encoded data removed]",
      "text/latex": [
       "$$\\left(z + 1\\right)^{3} = z^{3} + 3 z^{2} + 3 z + 1$$"
      ],
      "text/plain": [
       "       3    3      2          \n",
       "(z + 1)  = z  + 3⋅z  + 3⋅z + 1"
      ]
     },
     "execution_count": 149,
     "metadata": {},
     "output_type": "execute_result"
    }
   ],
   "source": [
    "o = occupancy(1,z,1,1)\n",
    "define(o, o.expand())"
   ]
  },
  {
   "cell_type": "code",
   "execution_count": 150,
   "metadata": {
    "collapsed": false,
    "deletable": true,
    "editable": true
   },
   "outputs": [
    {
     "data": {
      "image/png": "[encoded data removed]",
      "text/latex": [
       "$$\\times{\\left ({w}_{2},z,{w}_{1},{w}_{0} \\right )} = - \\frac{1}{\\left(z {w}_{0} - 1\\right) \\left(z {w}_{1} - 1\\right) \\left(z {w}_{2} - 1\\right)}$$"
      ],
      "text/plain": [
       "                                               -1                   \n",
       "\\times(w[2], z, w[1], w[0]) = ──────────────────────────────────────\n",
       "                              (z⋅w[0] - 1)⋅(z⋅w[1] - 1)⋅(z⋅w[2] - 1)"
      ]
     },
     "execution_count": 150,
     "metadata": {},
     "output_type": "execute_result"
    }
   ],
   "source": [
    "occupancy, = cp(*[lst(tyvar(w[i]*z)) for i in range(3)]).gf()\n",
    "occupancy"
   ]
  },
  {
   "cell_type": "code",
   "execution_count": 151,
   "metadata": {
    "collapsed": false,
    "deletable": true,
    "editable": true
   },
   "outputs": [
    {
     "data": {
      "image/png": "[encoded data removed]",
      "text/latex": [
       "$$\\times{\\left ({w}_{2},z,{w}_{1},{w}_{0} \\right )} = - \\frac{1}{\\left(z {w}_{0} - 1\\right) \\left(z {w}_{1} - 1\\right) \\left(z {w}_{2} - 1\\right)} = 1 + z \\left({w}_{0} + {w}_{1} + {w}_{2}\\right) + z^{2} \\left({w}_{0}^{2} + {w}_{0} {w}_{1} + {w}_{0} {w}_{2} + {w}_{1}^{2} + {w}_{1} {w}_{2} + {w}_{2}^{2}\\right) + z^{3} \\left({w}_{0}^{3} + {w}_{0}^{2} {w}_{1} + {w}_{0}^{2} {w}_{2} + {w}_{0} {w}_{1}^{2} + {w}_{0} {w}_{1} {w}_{2} + {w}_{0} {w}_{2}^{2} + {w}_{1}^{3} + {w}_{1}^{2} {w}_{2} + {w}_{1} {w}_{2}^{2} + {w}_{2}^{3}\\right) + z^{4} \\left({w}_{0}^{4} + {w}_{0}^{3} {w}_{1} + {w}_{0}^{3} {w}_{2} + {w}_{0}^{2} {w}_{1}^{2} + {w}_{0}^{2} {w}_{1} {w}_{2} + {w}_{0}^{2} {w}_{2}^{2} + {w}_{0} {w}_{1}^{3} + {w}_{0} {w}_{1}^{2} {w}_{2} + {w}_{0} {w}_{1} {w}_{2}^{2} + {w}_{0} {w}_{2}^{3} + {w}_{1}^{4} + {w}_{1}^{3} {w}_{2} + {w}_{1}^{2} {w}_{2}^{2} + {w}_{1} {w}_{2}^{3} + {w}_{2}^{4}\\right) + z^{5} \\left({w}_{0}^{5} + {w}_{0}^{4} {w}_{1} + {w}_{0}^{4} {w}_{2} + {w}_{0}^{3} {w}_{1}^{2} + {w}_{0}^{3} {w}_{1} {w}_{2} + {w}_{0}^{3} {w}_{2}^{2} + {w}_{0}^{2} {w}_{1}^{3} + {w}_{0}^{2} {w}_{1}^{2} {w}_{2} + {w}_{0}^{2} {w}_{1} {w}_{2}^{2} + {w}_{0}^{2} {w}_{2}^{3} + {w}_{0} {w}_{1}^{4} + {w}_{0} {w}_{1}^{3} {w}_{2} + {w}_{0} {w}_{1}^{2} {w}_{2}^{2} + {w}_{0} {w}_{1} {w}_{2}^{3} + {w}_{0} {w}_{2}^{4} + {w}_{1}^{5} + {w}_{1}^{4} {w}_{2} + {w}_{1}^{3} {w}_{2}^{2} + {w}_{1}^{2} {w}_{2}^{3} + {w}_{1} {w}_{2}^{4} + {w}_{2}^{5}\\right) + O\\left(z^{6}\\right)$$"
      ],
      "text/plain": [
       "                                               -1                             \n",
       "\\times(w[2], z, w[1], w[0]) = ────────────────────────────────────── = 1 + z⋅(\n",
       "                              (z⋅w[0] - 1)⋅(z⋅w[1] - 1)⋅(z⋅w[2] - 1)          \n",
       "\n",
       "                       2 ⎛    2                               2               \n",
       "w[0] + w[1] + w[2]) + z ⋅⎝w[0]  + w[0]⋅w[1] + w[0]⋅w[2] + w[1]  + w[1]⋅w[2] + \n",
       "                                                                              \n",
       "\n",
       "    2⎞    3 ⎛    3       2            2                 2                     \n",
       "w[2] ⎠ + z ⋅⎝w[0]  + w[0] ⋅w[1] + w[0] ⋅w[2] + w[0]⋅w[1]  + w[0]⋅w[1]⋅w[2] + w\n",
       "                                                                              \n",
       "\n",
       "        2       3       2                 2       3⎞    4 ⎛    4       3      \n",
       "[0]⋅w[2]  + w[1]  + w[1] ⋅w[2] + w[1]⋅w[2]  + w[2] ⎠ + z ⋅⎝w[0]  + w[0] ⋅w[1] \n",
       "                                                                              \n",
       "\n",
       "      3            2     2       2                 2     2            3       \n",
       "+ w[0] ⋅w[2] + w[0] ⋅w[1]  + w[0] ⋅w[1]⋅w[2] + w[0] ⋅w[2]  + w[0]⋅w[1]  + w[0]\n",
       "                                                                              \n",
       "\n",
       "     2                      2            3       4       3            2     2 \n",
       "⋅w[1] ⋅w[2] + w[0]⋅w[1]⋅w[2]  + w[0]⋅w[2]  + w[1]  + w[1] ⋅w[2] + w[1] ⋅w[2]  \n",
       "                                                                              \n",
       "\n",
       "           3       4⎞    5 ⎛    5       4            4            3     2     \n",
       "+ w[1]⋅w[2]  + w[2] ⎠ + z ⋅⎝w[0]  + w[0] ⋅w[1] + w[0] ⋅w[2] + w[0] ⋅w[1]  + w[\n",
       "                                                                              \n",
       "\n",
       "  3                 3     2       2     3       2     2            2          \n",
       "0] ⋅w[1]⋅w[2] + w[0] ⋅w[2]  + w[0] ⋅w[1]  + w[0] ⋅w[1] ⋅w[2] + w[0] ⋅w[1]⋅w[2]\n",
       "                                                                              \n",
       "\n",
       "2       2     3            4            3                 2     2             \n",
       "  + w[0] ⋅w[2]  + w[0]⋅w[1]  + w[0]⋅w[1] ⋅w[2] + w[0]⋅w[1] ⋅w[2]  + w[0]⋅w[1]⋅\n",
       "                                                                              \n",
       "\n",
       "    3            4       5       4            3     2       2     3           \n",
       "w[2]  + w[0]⋅w[2]  + w[1]  + w[1] ⋅w[2] + w[1] ⋅w[2]  + w[1] ⋅w[2]  + w[1]⋅w[2\n",
       "                                                                              \n",
       "\n",
       " 4       5⎞    ⎛ 6⎞\n",
       "]  + w[2] ⎠ + O⎝z ⎠\n",
       "                   "
      ]
     },
     "execution_count": 151,
     "metadata": {},
     "output_type": "execute_result"
    }
   ],
   "source": [
    "occupancy.series(z)"
   ]
  },
  {
   "cell_type": "code",
   "execution_count": 305,
   "metadata": {
    "collapsed": false,
    "deletable": true,
    "editable": true
   },
   "outputs": [
    {
     "data": {
      "image/png": "[encoded data removed]",
      "text/latex": [
       "$$\\times{\\left ({w}_{50},x,{w}_{25},{w}_{5},{w}_{1},{w}_{10} \\right )} = - \\frac{1}{\\left(x {w}_{1} - 1\\right) \\left(x^{5} {w}_{5} - 1\\right) \\left(x^{10} {w}_{10} - 1\\right) \\left(x^{25} {w}_{25} - 1\\right) \\left(x^{50} {w}_{50} - 1\\right)}$$"
      ],
      "text/plain": [
       "                                                                              \n",
       "\\times(w[50], x, w[25], w[5], w[1], w[10]) = ─────────────────────────────────\n",
       "                                                          ⎛ 5         ⎞ ⎛ 10  \n",
       "                                             (x⋅w[1] - 1)⋅⎝x ⋅w[5] - 1⎠⋅⎝x  ⋅w\n",
       "\n",
       "  -1                                     \n",
       "─────────────────────────────────────────\n",
       "        ⎞ ⎛ 25          ⎞ ⎛ 50          ⎞\n",
       "[10] - 1⎠⋅⎝x  ⋅w[25] - 1⎠⋅⎝x  ⋅w[50] - 1⎠"
      ]
     },
     "execution_count": 305,
     "metadata": {},
     "output_type": "execute_result"
    }
   ],
   "source": [
    "occupancy, = (lst(tyvar(w[1]*x)) * lst(tyvar(w[5]*x**5)) * lst(tyvar(w[10]*x**10)) * \n",
    "              lst(tyvar(w[25]*x**25)) * lst(tyvar(w[50]*x**50))).gf()\n",
    "occupancy"
   ]
  },
  {
   "cell_type": "code",
   "execution_count": null,
   "metadata": {
    "collapsed": true,
    "deletable": true,
    "editable": true
   },
   "outputs": [],
   "source": [
    "coins = occupancy.series(x, n=101)"
   ]
  },
  {
   "cell_type": "code",
   "execution_count": 311,
   "metadata": {
    "collapsed": false,
    "deletable": true,
    "editable": true
   },
   "outputs": [
    {
     "data": {
      "image/png": "[encoded data removed]",
      "text/latex": [
       "$${w}_{10}^{4} {w}_{1}^{2} + {w}_{10}^{3} {w}_{1}^{12} + {w}_{10}^{3} {w}_{1}^{7} {w}_{5} + {w}_{10}^{3} {w}_{1}^{2} {w}_{5}^{2} + {w}_{10}^{2} {w}_{1}^{22} + {w}_{10}^{2} {w}_{1}^{17} {w}_{5} + {w}_{10}^{2} {w}_{1}^{12} {w}_{5}^{2} + {w}_{10}^{2} {w}_{1}^{7} {w}_{5}^{3} + {w}_{10}^{2} {w}_{1}^{2} {w}_{5}^{4} + {w}_{10} {w}_{1}^{32} + {w}_{10} {w}_{1}^{27} {w}_{5} + {w}_{10} {w}_{1}^{22} {w}_{5}^{2} + {w}_{10} {w}_{1}^{17} {w}_{5}^{3} + {w}_{10} {w}_{1}^{12} {w}_{5}^{4} + {w}_{10} {w}_{1}^{7} {w}_{25} + {w}_{10} {w}_{1}^{7} {w}_{5}^{5} + {w}_{10} {w}_{1}^{2} {w}_{25} {w}_{5} + {w}_{10} {w}_{1}^{2} {w}_{5}^{6} + {w}_{1}^{42} + {w}_{1}^{37} {w}_{5} + {w}_{1}^{32} {w}_{5}^{2} + {w}_{1}^{27} {w}_{5}^{3} + {w}_{1}^{22} {w}_{5}^{4} + {w}_{1}^{17} {w}_{25} + {w}_{1}^{17} {w}_{5}^{5} + {w}_{1}^{12} {w}_{25} {w}_{5} + {w}_{1}^{12} {w}_{5}^{6} + {w}_{1}^{7} {w}_{25} {w}_{5}^{2} + {w}_{1}^{7} {w}_{5}^{7} + {w}_{1}^{2} {w}_{25} {w}_{5}^{3} + {w}_{1}^{2} {w}_{5}^{8}$$"
      ],
      "text/plain": [
       "     4     2        3     12        3     7             3     2     2        2\n",
       "w[10] ⋅w[1]  + w[10] ⋅w[1]   + w[10] ⋅w[1] ⋅w[5] + w[10] ⋅w[1] ⋅w[5]  + w[10] \n",
       "\n",
       "     22        2     17             2     12     2        2     7     3       \n",
       "⋅w[1]   + w[10] ⋅w[1]  ⋅w[5] + w[10] ⋅w[1]  ⋅w[5]  + w[10] ⋅w[1] ⋅w[5]  + w[10\n",
       "\n",
       " 2     2     4             32             27                  22     2        \n",
       "] ⋅w[1] ⋅w[5]  + w[10]⋅w[1]   + w[10]⋅w[1]  ⋅w[5] + w[10]⋅w[1]  ⋅w[5]  + w[10]\n",
       "\n",
       "     17     3             12     4             7                   7     5    \n",
       "⋅w[1]  ⋅w[5]  + w[10]⋅w[1]  ⋅w[5]  + w[10]⋅w[1] ⋅w[25] + w[10]⋅w[1] ⋅w[5]  + w\n",
       "\n",
       "         2                        2     6       42       37            32     \n",
       "[10]⋅w[1] ⋅w[25]⋅w[5] + w[10]⋅w[1] ⋅w[5]  + w[1]   + w[1]  ⋅w[5] + w[1]  ⋅w[5]\n",
       "\n",
       "2       27     3       22     4       17             17     5       12        \n",
       "  + w[1]  ⋅w[5]  + w[1]  ⋅w[5]  + w[1]  ⋅w[25] + w[1]  ⋅w[5]  + w[1]  ⋅w[25]⋅w\n",
       "\n",
       "          12     6       7           2       7     7       2           3      \n",
       "[5] + w[1]  ⋅w[5]  + w[1] ⋅w[25]⋅w[5]  + w[1] ⋅w[5]  + w[1] ⋅w[25]⋅w[5]  + w[1\n",
       "\n",
       " 2     8\n",
       "] ⋅w[5] "
      ]
     },
     "execution_count": 311,
     "metadata": {},
     "output_type": "execute_result"
    }
   ],
   "source": [
    "coins.rhs.rhs.coeff(x,42)"
   ]
  },
  {
   "cell_type": "code",
   "execution_count": 364,
   "metadata": {
    "collapsed": false,
    "deletable": true,
    "editable": true
   },
   "outputs": [
    {
     "ename": "AssertionError",
     "evalue": "",
     "output_type": "error",
     "traceback": [
      "\u001b[0;31m---------------------------------------------------------------------------\u001b[0m",
      "\u001b[0;31mAssertionError\u001b[0m                            Traceback (most recent call last)",
      "\u001b[0;32m<ipython-input-364-6ffebc89e2a1>\u001b[0m in \u001b[0;36m<module>\u001b[0;34m()\u001b[0m\n\u001b[1;32m      1\u001b[0m assert 42 == coins.rhs.rhs.coeff(x,100).subs(\n\u001b[0;32m----> 2\u001b[0;31m     {w[1]:1, w[5]:1, w[10]:1, w[25]:1, w[50]:1})\n\u001b[0m",
      "\u001b[0;31mAssertionError\u001b[0m: "
     ]
    }
   ],
   "source": [
    "assert 42 == coins.rhs.rhs.coeff(x,100).subs(\n",
    "    {w[1]:1, w[5]:1, w[10]:1, w[25]:1, w[50]:1})"
   ]
  },
  {
   "cell_type": "code",
   "execution_count": 368,
   "metadata": {
    "collapsed": false,
    "deletable": true,
    "editable": true
   },
   "outputs": [],
   "source": [
    "def sums_of_powers(boxes, base):\n",
    "    return cp(*[cp() | tyvar(w[j]*x**(base**i)) \n",
    "                for i in range(0,boxes) \n",
    "                for j in [Pow(base,i,evaluate=False)]]).gf()"
   ]
  },
  {
   "cell_type": "code",
   "execution_count": 369,
   "metadata": {
    "collapsed": false,
    "deletable": true,
    "editable": true
   },
   "outputs": [
    {
     "data": {
      "image/png": "[encoded data removed]",
      "text/latex": [
       "$$\\times{\\left (x,{w}_{2^{2}},{w}_{2^{0}},{w}_{2^{3}},{w}_{2^{1}} \\right )} = \\left(x {w}_{2^{0}} + 1\\right) \\left(x^{2} {w}_{2^{1}} + 1\\right) \\left(x^{4} {w}_{2^{2}} + 1\\right) \\left(x^{8} {w}_{2^{3}} + 1\\right) = x^{15} {w}_{2^{0}} {w}_{2^{1}} {w}_{2^{2}} {w}_{2^{3}} + x^{14} {w}_{2^{1}} {w}_{2^{2}} {w}_{2^{3}} + x^{13} {w}_{2^{0}} {w}_{2^{2}} {w}_{2^{3}} + x^{12} {w}_{2^{2}} {w}_{2^{3}} + x^{11} {w}_{2^{0}} {w}_{2^{1}} {w}_{2^{3}} + x^{10} {w}_{2^{1}} {w}_{2^{3}} + x^{9} {w}_{2^{0}} {w}_{2^{3}} + x^{8} {w}_{2^{3}} + x^{7} {w}_{2^{0}} {w}_{2^{1}} {w}_{2^{2}} + x^{6} {w}_{2^{1}} {w}_{2^{2}} + x^{5} {w}_{2^{0}} {w}_{2^{2}} + x^{4} {w}_{2^{2}} + x^{3} {w}_{2^{0}} {w}_{2^{1}} + x^{2} {w}_{2^{1}} + x {w}_{2^{0}} + 1$$"
      ],
      "text/plain": [
       "                                                                ⎛ 2           \n",
       "\\times(x, w[2**2], w[2**0], w[2**3], w[2**1]) = (x⋅w[2**0] + 1)⋅⎝x ⋅w[2**1] + \n",
       "\n",
       " ⎞ ⎛ 4            ⎞ ⎛ 8            ⎞    15                                    \n",
       "1⎠⋅⎝x ⋅w[2**2] + 1⎠⋅⎝x ⋅w[2**3] + 1⎠ = x  ⋅w[2**0]⋅w[2**1]⋅w[2**2]⋅w[2**3] + x\n",
       "\n",
       "14                            13                            12                \n",
       "  ⋅w[2**1]⋅w[2**2]⋅w[2**3] + x  ⋅w[2**0]⋅w[2**2]⋅w[2**3] + x  ⋅w[2**2]⋅w[2**3]\n",
       "\n",
       "    11                            10                    9                    8\n",
       " + x  ⋅w[2**0]⋅w[2**1]⋅w[2**3] + x  ⋅w[2**1]⋅w[2**3] + x ⋅w[2**0]⋅w[2**3] + x \n",
       "\n",
       "            7                            6                    5               \n",
       "⋅w[2**3] + x ⋅w[2**0]⋅w[2**1]⋅w[2**2] + x ⋅w[2**1]⋅w[2**2] + x ⋅w[2**0]⋅w[2**2\n",
       "\n",
       "     4            3                    2                        \n",
       "] + x ⋅w[2**2] + x ⋅w[2**0]⋅w[2**1] + x ⋅w[2**1] + x⋅w[2**0] + 1"
      ]
     },
     "execution_count": 369,
     "metadata": {},
     "output_type": "execute_result"
    }
   ],
   "source": [
    "occupancy, = sums_of_powers(boxes=4, base=2)\n",
    "occupancy.series(x, n=32)"
   ]
  },
  {
   "cell_type": "code",
   "execution_count": 352,
   "metadata": {
    "collapsed": false,
    "deletable": true,
    "editable": true
   },
   "outputs": [
    {
     "data": {
      "image/png": "[encoded data removed]",
      "text/latex": [
       "$$\\times{\\left ({w}_{3^{1}},{w}_{3^{3}},x,{w}_{3^{2}},{w}_{3^{0}} \\right )} = \\left(x {w}_{3^{0}} + 1\\right) \\left(x^{3} {w}_{3^{1}} + 1\\right) \\left(x^{9} {w}_{3^{2}} + 1\\right) \\left(x^{27} {w}_{3^{3}} + 1\\right) = x^{40} {w}_{3^{0}} {w}_{3^{1}} {w}_{3^{2}} {w}_{3^{3}} + x^{39} {w}_{3^{1}} {w}_{3^{2}} {w}_{3^{3}} + x^{37} {w}_{3^{0}} {w}_{3^{2}} {w}_{3^{3}} + x^{36} {w}_{3^{2}} {w}_{3^{3}} + x^{31} {w}_{3^{0}} {w}_{3^{1}} {w}_{3^{3}} + x^{30} {w}_{3^{1}} {w}_{3^{3}} + x^{28} {w}_{3^{0}} {w}_{3^{3}} + x^{27} {w}_{3^{3}} + x^{13} {w}_{3^{0}} {w}_{3^{1}} {w}_{3^{2}} + x^{12} {w}_{3^{1}} {w}_{3^{2}} + x^{10} {w}_{3^{0}} {w}_{3^{2}} + x^{9} {w}_{3^{2}} + x^{4} {w}_{3^{0}} {w}_{3^{1}} + x^{3} {w}_{3^{1}} + x {w}_{3^{0}} + 1$$"
      ],
      "text/plain": [
       "                                                                ⎛ 3           \n",
       "\\times(w[3**1], w[3**3], x, w[3**2], w[3**0]) = (x⋅w[3**0] + 1)⋅⎝x ⋅w[3**1] + \n",
       "\n",
       " ⎞ ⎛ 9            ⎞ ⎛ 27            ⎞    40                                   \n",
       "1⎠⋅⎝x ⋅w[3**2] + 1⎠⋅⎝x  ⋅w[3**3] + 1⎠ = x  ⋅w[3**0]⋅w[3**1]⋅w[3**2]⋅w[3**3] + \n",
       "\n",
       " 39                            37                            36               \n",
       "x  ⋅w[3**1]⋅w[3**2]⋅w[3**3] + x  ⋅w[3**0]⋅w[3**2]⋅w[3**3] + x  ⋅w[3**2]⋅w[3**3\n",
       "\n",
       "     31                            30                    28                   \n",
       "] + x  ⋅w[3**0]⋅w[3**1]⋅w[3**3] + x  ⋅w[3**1]⋅w[3**3] + x  ⋅w[3**0]⋅w[3**3] + \n",
       "\n",
       " 27            13                            12                    10         \n",
       "x  ⋅w[3**3] + x  ⋅w[3**0]⋅w[3**1]⋅w[3**2] + x  ⋅w[3**1]⋅w[3**2] + x  ⋅w[3**0]⋅\n",
       "\n",
       "           9            4                    3                        \n",
       "w[3**2] + x ⋅w[3**2] + x ⋅w[3**0]⋅w[3**1] + x ⋅w[3**1] + x⋅w[3**0] + 1"
      ]
     },
     "execution_count": 352,
     "metadata": {},
     "output_type": "execute_result"
    }
   ],
   "source": [
    "occupancy, = sums_of_powers(boxes=4, base=3)\n",
    "occupancy.series(x, n=100)"
   ]
  },
  {
   "cell_type": "code",
   "execution_count": 355,
   "metadata": {
    "collapsed": false,
    "deletable": true,
    "editable": true
   },
   "outputs": [
    {
     "data": {
      "image/png": "[encoded data removed]",
      "text/latex": [
       "$$\\times{\\left (x,{w}_{5^{0}},{w}_{5^{2}},{w}_{5^{3}},{w}_{5^{1}} \\right )} = \\left(x {w}_{5^{0}} + 1\\right) \\left(x^{5} {w}_{5^{1}} + 1\\right) \\left(x^{25} {w}_{5^{2}} + 1\\right) \\left(x^{125} {w}_{5^{3}} + 1\\right) = x^{156} {w}_{5^{0}} {w}_{5^{1}} {w}_{5^{2}} {w}_{5^{3}} + x^{155} {w}_{5^{1}} {w}_{5^{2}} {w}_{5^{3}} + x^{151} {w}_{5^{0}} {w}_{5^{2}} {w}_{5^{3}} + x^{150} {w}_{5^{2}} {w}_{5^{3}} + x^{131} {w}_{5^{0}} {w}_{5^{1}} {w}_{5^{3}} + x^{130} {w}_{5^{1}} {w}_{5^{3}} + x^{126} {w}_{5^{0}} {w}_{5^{3}} + x^{125} {w}_{5^{3}} + x^{31} {w}_{5^{0}} {w}_{5^{1}} {w}_{5^{2}} + x^{30} {w}_{5^{1}} {w}_{5^{2}} + x^{26} {w}_{5^{0}} {w}_{5^{2}} + x^{25} {w}_{5^{2}} + x^{6} {w}_{5^{0}} {w}_{5^{1}} + x^{5} {w}_{5^{1}} + x {w}_{5^{0}} + 1$$"
      ],
      "text/plain": [
       "                                                                ⎛ 5           \n",
       "\\times(x, w[5**0], w[5**2], w[5**3], w[5**1]) = (x⋅w[5**0] + 1)⋅⎝x ⋅w[5**1] + \n",
       "\n",
       " ⎞ ⎛ 25            ⎞ ⎛ 125            ⎞    156                                \n",
       "1⎠⋅⎝x  ⋅w[5**2] + 1⎠⋅⎝x   ⋅w[5**3] + 1⎠ = x   ⋅w[5**0]⋅w[5**1]⋅w[5**2]⋅w[5**3]\n",
       "\n",
       "    155                            151                            150         \n",
       " + x   ⋅w[5**1]⋅w[5**2]⋅w[5**3] + x   ⋅w[5**0]⋅w[5**2]⋅w[5**3] + x   ⋅w[5**2]⋅\n",
       "\n",
       "           131                            130                    126          \n",
       "w[5**3] + x   ⋅w[5**0]⋅w[5**1]⋅w[5**3] + x   ⋅w[5**1]⋅w[5**3] + x   ⋅w[5**0]⋅w\n",
       "\n",
       "          125            31                            30                    2\n",
       "[5**3] + x   ⋅w[5**3] + x  ⋅w[5**0]⋅w[5**1]⋅w[5**2] + x  ⋅w[5**1]⋅w[5**2] + x \n",
       "\n",
       "6                    25            6                    5                     \n",
       " ⋅w[5**0]⋅w[5**2] + x  ⋅w[5**2] + x ⋅w[5**0]⋅w[5**1] + x ⋅w[5**1] + x⋅w[5**0] \n",
       "\n",
       "   \n",
       "+ 1"
      ]
     },
     "execution_count": 355,
     "metadata": {},
     "output_type": "execute_result"
    }
   ],
   "source": [
    "occupancy, = sums_of_powers(boxes=4, base=5)\n",
    "occupancy.series(x, n=200)"
   ]
  },
  {
   "cell_type": "code",
   "execution_count": 358,
   "metadata": {
    "collapsed": false,
    "deletable": true,
    "editable": true
   },
   "outputs": [
    {
     "data": {
      "image/png": "[encoded data removed]",
      "text/latex": [
       "$$\\times{\\left (x,{w}_{7^{1}},{w}_{7^{3}},{w}_{7^{0}},{w}_{7^{2}} \\right )} = \\left(x {w}_{7^{0}} + 1\\right) \\left(x^{7} {w}_{7^{1}} + 1\\right) \\left(x^{49} {w}_{7^{2}} + 1\\right) \\left(x^{343} {w}_{7^{3}} + 1\\right) = x^{400} {w}_{7^{0}} {w}_{7^{1}} {w}_{7^{2}} {w}_{7^{3}} + x^{399} {w}_{7^{1}} {w}_{7^{2}} {w}_{7^{3}} + x^{393} {w}_{7^{0}} {w}_{7^{2}} {w}_{7^{3}} + x^{392} {w}_{7^{2}} {w}_{7^{3}} + x^{351} {w}_{7^{0}} {w}_{7^{1}} {w}_{7^{3}} + x^{350} {w}_{7^{1}} {w}_{7^{3}} + x^{344} {w}_{7^{0}} {w}_{7^{3}} + x^{343} {w}_{7^{3}} + x^{57} {w}_{7^{0}} {w}_{7^{1}} {w}_{7^{2}} + x^{56} {w}_{7^{1}} {w}_{7^{2}} + x^{50} {w}_{7^{0}} {w}_{7^{2}} + x^{49} {w}_{7^{2}} + x^{8} {w}_{7^{0}} {w}_{7^{1}} + x^{7} {w}_{7^{1}} + x {w}_{7^{0}} + 1$$"
      ],
      "text/plain": [
       "                                                                ⎛ 7           \n",
       "\\times(x, w[7**1], w[7**3], w[7**0], w[7**2]) = (x⋅w[7**0] + 1)⋅⎝x ⋅w[7**1] + \n",
       "\n",
       " ⎞ ⎛ 49            ⎞ ⎛ 343            ⎞    400                                \n",
       "1⎠⋅⎝x  ⋅w[7**2] + 1⎠⋅⎝x   ⋅w[7**3] + 1⎠ = x   ⋅w[7**0]⋅w[7**1]⋅w[7**2]⋅w[7**3]\n",
       "\n",
       "    399                            393                            392         \n",
       " + x   ⋅w[7**1]⋅w[7**2]⋅w[7**3] + x   ⋅w[7**0]⋅w[7**2]⋅w[7**3] + x   ⋅w[7**2]⋅\n",
       "\n",
       "           351                            350                    344          \n",
       "w[7**3] + x   ⋅w[7**0]⋅w[7**1]⋅w[7**3] + x   ⋅w[7**1]⋅w[7**3] + x   ⋅w[7**0]⋅w\n",
       "\n",
       "          343            57                            56                    5\n",
       "[7**3] + x   ⋅w[7**3] + x  ⋅w[7**0]⋅w[7**1]⋅w[7**2] + x  ⋅w[7**1]⋅w[7**2] + x \n",
       "\n",
       "0                    49            8                    7                     \n",
       " ⋅w[7**0]⋅w[7**2] + x  ⋅w[7**2] + x ⋅w[7**0]⋅w[7**1] + x ⋅w[7**1] + x⋅w[7**0] \n",
       "\n",
       "   \n",
       "+ 1"
      ]
     },
     "execution_count": 358,
     "metadata": {},
     "output_type": "execute_result"
    }
   ],
   "source": [
    "occupancy, = sums_of_powers(boxes=4, base=7)\n",
    "occupancy.series(x, n=500)"
   ]
  },
  {
   "cell_type": "code",
   "execution_count": 363,
   "metadata": {
    "collapsed": false,
    "deletable": true,
    "editable": true
   },
   "outputs": [
    {
     "data": {
      "image/png": "[encoded data removed]",
      "text/latex": [
       "$$\\times{\\left ({w}_{11^{0}},x,{w}_{11^{1}},{w}_{11^{3}},{w}_{11^{2}} \\right )} = \\left(x {w}_{11^{0}} + 1\\right) \\left(x^{11} {w}_{11^{1}} + 1\\right) \\left(x^{121} {w}_{11^{2}} + 1\\right) \\left(x^{1331} {w}_{11^{3}} + 1\\right) = x^{1464} {w}_{11^{0}} {w}_{11^{1}} {w}_{11^{2}} {w}_{11^{3}} + x^{1463} {w}_{11^{1}} {w}_{11^{2}} {w}_{11^{3}} + x^{1453} {w}_{11^{0}} {w}_{11^{2}} {w}_{11^{3}} + x^{1452} {w}_{11^{2}} {w}_{11^{3}} + x^{1343} {w}_{11^{0}} {w}_{11^{1}} {w}_{11^{3}} + x^{1342} {w}_{11^{1}} {w}_{11^{3}} + x^{1332} {w}_{11^{0}} {w}_{11^{3}} + x^{1331} {w}_{11^{3}} + x^{133} {w}_{11^{0}} {w}_{11^{1}} {w}_{11^{2}} + x^{132} {w}_{11^{1}} {w}_{11^{2}} + x^{122} {w}_{11^{0}} {w}_{11^{2}} + x^{121} {w}_{11^{2}} + x^{12} {w}_{11^{0}} {w}_{11^{1}} + x^{11} {w}_{11^{1}} + x {w}_{11^{0}} + 1$$"
      ],
      "text/plain": [
       "                                                                     ⎛ 11     \n",
       "\\times(w[11**0], x, w[11**1], w[11**3], w[11**2]) = (x⋅w[11**0] + 1)⋅⎝x  ⋅w[11\n",
       "\n",
       "        ⎞ ⎛ 121             ⎞ ⎛ 1331             ⎞    1464                    \n",
       "**1] + 1⎠⋅⎝x   ⋅w[11**2] + 1⎠⋅⎝x    ⋅w[11**3] + 1⎠ = x    ⋅w[11**0]⋅w[11**1]⋅w\n",
       "\n",
       "                    1463                               1453                   \n",
       "[11**2]⋅w[11**3] + x    ⋅w[11**1]⋅w[11**2]⋅w[11**3] + x    ⋅w[11**0]⋅w[11**2]⋅\n",
       "\n",
       "            1452                      1343                               1342 \n",
       "w[11**3] + x    ⋅w[11**2]⋅w[11**3] + x    ⋅w[11**0]⋅w[11**1]⋅w[11**3] + x    ⋅\n",
       "\n",
       "                     1332                      1331             133           \n",
       "w[11**1]⋅w[11**3] + x    ⋅w[11**0]⋅w[11**3] + x    ⋅w[11**3] + x   ⋅w[11**0]⋅w\n",
       "\n",
       "                    132                      122                      121     \n",
       "[11**1]⋅w[11**2] + x   ⋅w[11**1]⋅w[11**2] + x   ⋅w[11**0]⋅w[11**2] + x   ⋅w[11\n",
       "\n",
       "        12                      11                          \n",
       "**2] + x  ⋅w[11**0]⋅w[11**1] + x  ⋅w[11**1] + x⋅w[11**0] + 1"
      ]
     },
     "execution_count": 363,
     "metadata": {},
     "output_type": "execute_result"
    }
   ],
   "source": [
    "occupancy, = sums_of_powers(boxes=4, base=11)\n",
    "occupancy.series(x, n=2000)"
   ]
  },
  {
   "cell_type": "code",
   "execution_count": 370,
   "metadata": {
    "collapsed": true,
    "deletable": true,
    "editable": true
   },
   "outputs": [],
   "source": [
    "def linear_comb_of_powers(boxes, base):\n",
    "    return cp(*[lst(tyvar(w[j]*x**(base**i)))\n",
    "                for i in range(0,boxes) \n",
    "                for j in [Pow(base,i,evaluate=False)]]).gf()"
   ]
  },
  {
   "cell_type": "code",
   "execution_count": 373,
   "metadata": {
    "collapsed": false,
    "deletable": true,
    "editable": true
   },
   "outputs": [
    {
     "data": {
      "image/png": "[encoded data removed]",
      "text/latex": [
       "$$\\times{\\left (x,{w}_{2^{2}},{w}_{2^{0}},{w}_{2^{3}},{w}_{2^{1}} \\right )} = \\frac{1}{\\left(x {w}_{1} - 1\\right) \\left(x^{2} {w}_{2} - 1\\right) \\left(x^{4} {w}_{4} - 1\\right) \\left(x^{8} {w}_{8} - 1\\right)} = 1 + x {w}_{1} + x^{2} \\left({w}_{1}^{2} + {w}_{2}\\right) + x^{3} \\left({w}_{1}^{3} + {w}_{1} {w}_{2}\\right) + x^{4} \\left({w}_{1}^{4} + {w}_{1}^{2} {w}_{2} + {w}_{2}^{2} + {w}_{4}\\right) + x^{5} \\left({w}_{1}^{5} + {w}_{1}^{3} {w}_{2} + {w}_{1} {w}_{2}^{2} + {w}_{1} {w}_{4}\\right) + x^{6} \\left({w}_{1}^{6} + {w}_{1}^{4} {w}_{2} + {w}_{1}^{2} {w}_{2}^{2} + {w}_{1}^{2} {w}_{4} + {w}_{2}^{3} + {w}_{2} {w}_{4}\\right) + x^{7} \\left({w}_{1}^{7} + {w}_{1}^{5} {w}_{2} + {w}_{1}^{3} {w}_{2}^{2} + {w}_{1}^{3} {w}_{4} + {w}_{1} {w}_{2}^{3} + {w}_{1} {w}_{2} {w}_{4}\\right) + x^{8} \\left({w}_{1}^{8} + {w}_{1}^{6} {w}_{2} + {w}_{1}^{4} {w}_{2}^{2} + {w}_{1}^{4} {w}_{4} + {w}_{1}^{2} {w}_{2}^{3} + {w}_{1}^{2} {w}_{2} {w}_{4} + {w}_{2}^{4} + {w}_{2}^{2} {w}_{4} + {w}_{4}^{2} + {w}_{8}\\right) + x^{9} \\left({w}_{1}^{9} + {w}_{1}^{7} {w}_{2} + {w}_{1}^{5} {w}_{2}^{2} + {w}_{1}^{5} {w}_{4} + {w}_{1}^{3} {w}_{2}^{3} + {w}_{1}^{3} {w}_{2} {w}_{4} + {w}_{1} {w}_{2}^{4} + {w}_{1} {w}_{2}^{2} {w}_{4} + {w}_{1} {w}_{4}^{2} + {w}_{1} {w}_{8}\\right) + O\\left(x^{10}\\right)$$"
      ],
      "text/plain": [
       "                                                                          1   \n",
       "\\times(x, w[2**2], w[2**0], w[2**3], w[2**1]) = ──────────────────────────────\n",
       "                                                             ⎛ 2         ⎞ ⎛ 4\n",
       "                                                (x⋅w[1] - 1)⋅⎝x ⋅w[2] - 1⎠⋅⎝x \n",
       "\n",
       "                                         2 ⎛    2       ⎞    3 ⎛    3         \n",
       "──────────────────────── = 1 + x⋅w[1] + x ⋅⎝w[1]  + w[2]⎠ + x ⋅⎝w[1]  + w[1]⋅w\n",
       "         ⎞ ⎛ 8         ⎞                                                      \n",
       "⋅w[4] - 1⎠⋅⎝x ⋅w[8] - 1⎠                                                      \n",
       "\n",
       "   ⎞    4 ⎛    4       2            2       ⎞    5 ⎛    5       3             \n",
       "[2]⎠ + x ⋅⎝w[1]  + w[1] ⋅w[2] + w[2]  + w[4]⎠ + x ⋅⎝w[1]  + w[1] ⋅w[2] + w[1]⋅\n",
       "                                                                              \n",
       "                                                                              \n",
       "\n",
       "    2            ⎞    6 ⎛    6       4            2     2       2            3\n",
       "w[2]  + w[1]⋅w[4]⎠ + x ⋅⎝w[1]  + w[1] ⋅w[2] + w[1] ⋅w[2]  + w[1] ⋅w[4] + w[2] \n",
       "                                                                              \n",
       "                                                                              \n",
       "\n",
       "            ⎞    7 ⎛    7       5            3     2       3                 3\n",
       " + w[2]⋅w[4]⎠ + x ⋅⎝w[1]  + w[1] ⋅w[2] + w[1] ⋅w[2]  + w[1] ⋅w[4] + w[1]⋅w[2] \n",
       "                                                                              \n",
       "                                                                              \n",
       "\n",
       "                 ⎞    8 ⎛    8       6            4     2       4            2\n",
       " + w[1]⋅w[2]⋅w[4]⎠ + x ⋅⎝w[1]  + w[1] ⋅w[2] + w[1] ⋅w[2]  + w[1] ⋅w[4] + w[1] \n",
       "                                                                              \n",
       "                                                                              \n",
       "\n",
       "     3       2                 4       2            2       ⎞    9 ⎛    9     \n",
       "⋅w[2]  + w[1] ⋅w[2]⋅w[4] + w[2]  + w[2] ⋅w[4] + w[4]  + w[8]⎠ + x ⋅⎝w[1]  + w[\n",
       "                                                                              \n",
       "                                                                              \n",
       "\n",
       "  7            5     2       5            3     3       3                     \n",
       "1] ⋅w[2] + w[1] ⋅w[2]  + w[1] ⋅w[4] + w[1] ⋅w[2]  + w[1] ⋅w[2]⋅w[4] + w[1]⋅w[2\n",
       "                                                                              \n",
       "                                                                              \n",
       "\n",
       " 4            2                 2            ⎞    ⎛ 10⎞\n",
       "]  + w[1]⋅w[2] ⋅w[4] + w[1]⋅w[4]  + w[1]⋅w[8]⎠ + O⎝x  ⎠\n",
       "                                                       \n",
       "                                                       "
      ]
     },
     "execution_count": 373,
     "metadata": {},
     "output_type": "execute_result"
    }
   ],
   "source": [
    "occupancy, = linear_comb_of_powers(boxes=4, base=2)\n",
    "occupancy.series(x, n=10)"
   ]
  },
  {
   "cell_type": "code",
   "execution_count": 374,
   "metadata": {
    "collapsed": false,
    "deletable": true,
    "editable": true
   },
   "outputs": [
    {
     "data": {
      "image/png": "[encoded data removed]",
      "text/latex": [
       "$$\\times{\\left ({w}_{3^{1}},{w}_{3^{3}},x,{w}_{3^{2}},{w}_{3^{0}} \\right )} = \\frac{1}{\\left(x {w}_{1} - 1\\right) \\left(x^{3} {w}_{3} - 1\\right) \\left(x^{9} {w}_{9} - 1\\right) \\left(x^{27} {w}_{27} - 1\\right)} = 1 + x {w}_{1} + x^{2} {w}_{1}^{2} + x^{3} \\left({w}_{1}^{3} + {w}_{3}\\right) + x^{4} \\left({w}_{1}^{4} + {w}_{1} {w}_{3}\\right) + x^{5} \\left({w}_{1}^{5} + {w}_{1}^{2} {w}_{3}\\right) + x^{6} \\left({w}_{1}^{6} + {w}_{1}^{3} {w}_{3} + {w}_{3}^{2}\\right) + x^{7} \\left({w}_{1}^{7} + {w}_{1}^{4} {w}_{3} + {w}_{1} {w}_{3}^{2}\\right) + x^{8} \\left({w}_{1}^{8} + {w}_{1}^{5} {w}_{3} + {w}_{1}^{2} {w}_{3}^{2}\\right) + x^{9} \\left({w}_{1}^{9} + {w}_{1}^{6} {w}_{3} + {w}_{1}^{3} {w}_{3}^{2} + {w}_{3}^{3} + {w}_{9}\\right) + O\\left(x^{10}\\right)$$"
      ],
      "text/plain": [
       "                                                                           1  \n",
       "\\times(w[3**1], w[3**3], x, w[3**2], w[3**0]) = ──────────────────────────────\n",
       "                                                             ⎛ 3         ⎞ ⎛ 9\n",
       "                                                (x⋅w[1] - 1)⋅⎝x ⋅w[3] - 1⎠⋅⎝x \n",
       "\n",
       "                                           2     2    3 ⎛    3       ⎞    4 ⎛ \n",
       "────────────────────────── = 1 + x⋅w[1] + x ⋅w[1]  + x ⋅⎝w[1]  + w[3]⎠ + x ⋅⎝w\n",
       "         ⎞ ⎛ 27          ⎞                                                    \n",
       "⋅w[9] - 1⎠⋅⎝x  ⋅w[27] - 1⎠                                                    \n",
       "\n",
       "   4            ⎞    5 ⎛    5       2     ⎞    6 ⎛    6       3            2⎞ \n",
       "[1]  + w[1]⋅w[3]⎠ + x ⋅⎝w[1]  + w[1] ⋅w[3]⎠ + x ⋅⎝w[1]  + w[1] ⋅w[3] + w[3] ⎠ \n",
       "                                                                              \n",
       "                                                                              \n",
       "\n",
       "   7 ⎛    7       4                 2⎞    8 ⎛    8       5            2     2⎞\n",
       "+ x ⋅⎝w[1]  + w[1] ⋅w[3] + w[1]⋅w[3] ⎠ + x ⋅⎝w[1]  + w[1] ⋅w[3] + w[1] ⋅w[3] ⎠\n",
       "                                                                              \n",
       "                                                                              \n",
       "\n",
       "    9 ⎛    9       6            3     2       3       ⎞    ⎛ 10⎞\n",
       " + x ⋅⎝w[1]  + w[1] ⋅w[3] + w[1] ⋅w[3]  + w[3]  + w[9]⎠ + O⎝x  ⎠\n",
       "                                                                \n",
       "                                                                "
      ]
     },
     "execution_count": 374,
     "metadata": {},
     "output_type": "execute_result"
    }
   ],
   "source": [
    "occupancy, = linear_comb_of_powers(boxes=4, base=3)\n",
    "occupancy.series(x, n=10)"
   ]
  },
  {
   "cell_type": "code",
   "execution_count": 375,
   "metadata": {
    "collapsed": false,
    "deletable": true,
    "editable": true
   },
   "outputs": [
    {
     "data": {
      "image/png": "[encoded data removed]",
      "text/latex": [
       "$$\\times{\\left (x,{w}_{5^{0}},{w}_{5^{2}},{w}_{5^{3}},{w}_{5^{1}} \\right )} = \\frac{1}{\\left(x {w}_{1} - 1\\right) \\left(x^{5} {w}_{5} - 1\\right) \\left(x^{25} {w}_{25} - 1\\right) \\left(x^{125} {w}_{125} - 1\\right)} = 1 + x {w}_{1} + x^{2} {w}_{1}^{2} + x^{3} {w}_{1}^{3} + x^{4} {w}_{1}^{4} + x^{5} \\left({w}_{1}^{5} + {w}_{5}\\right) + x^{6} \\left({w}_{1}^{6} + {w}_{1} {w}_{5}\\right) + x^{7} \\left({w}_{1}^{7} + {w}_{1}^{2} {w}_{5}\\right) + x^{8} \\left({w}_{1}^{8} + {w}_{1}^{3} {w}_{5}\\right) + x^{9} \\left({w}_{1}^{9} + {w}_{1}^{4} {w}_{5}\\right) + O\\left(x^{10}\\right)$$"
      ],
      "text/plain": [
       "                                                                             1\n",
       "\\times(x, w[5**0], w[5**2], w[5**3], w[5**1]) = ──────────────────────────────\n",
       "                                                             ⎛ 5         ⎞ ⎛ 2\n",
       "                                                (x⋅w[1] - 1)⋅⎝x ⋅w[5] - 1⎠⋅⎝x \n",
       "\n",
       "                                               2     2    3     3    4     4  \n",
       "────────────────────────────── = 1 + x⋅w[1] + x ⋅w[1]  + x ⋅w[1]  + x ⋅w[1]  +\n",
       "5          ⎞ ⎛ 125           ⎞                                                \n",
       " ⋅w[25] - 1⎠⋅⎝x   ⋅w[125] - 1⎠                                                \n",
       "\n",
       "  5 ⎛    5       ⎞    6 ⎛    6            ⎞    7 ⎛    7       2     ⎞    8 ⎛  \n",
       " x ⋅⎝w[1]  + w[5]⎠ + x ⋅⎝w[1]  + w[1]⋅w[5]⎠ + x ⋅⎝w[1]  + w[1] ⋅w[5]⎠ + x ⋅⎝w[\n",
       "                                                                              \n",
       "                                                                              \n",
       "\n",
       "  8       3     ⎞    9 ⎛    9       4     ⎞    ⎛ 10⎞\n",
       "1]  + w[1] ⋅w[5]⎠ + x ⋅⎝w[1]  + w[1] ⋅w[5]⎠ + O⎝x  ⎠\n",
       "                                                    \n",
       "                                                    "
      ]
     },
     "execution_count": 375,
     "metadata": {},
     "output_type": "execute_result"
    }
   ],
   "source": [
    "occupancy, = linear_comb_of_powers(boxes=4, base=5)\n",
    "occupancy.series(x, n=10)"
   ]
  },
  {
   "cell_type": "code",
   "execution_count": 349,
   "metadata": {
    "collapsed": false,
    "deletable": true,
    "editable": true
   },
   "outputs": [
    {
     "data": {
      "image/png": "[encoded data removed]",
      "text/latex": [
       "$$\\mathcal{L}{\\left (x,{w}_{3},{w}_{2},{w}_{1},{w}_{0} \\right )} = - \\frac{1}{x {w}_{0} + x {w}_{1} + x {w}_{2} + x {w}_{3} - 1}$$"
      ],
      "text/plain": [
       "                                                          -1                  \n",
       "\\mathcal{L}(x, w[3], w[2], w[1], w[0]) = ─────────────────────────────────────\n",
       "                                         x⋅w[0] + x⋅w[1] + x⋅w[2] + x⋅w[3] - 1"
      ]
     },
     "execution_count": 349,
     "metadata": {},
     "output_type": "execute_result"
    }
   ],
   "source": [
    "occupancy, = lst(tyvar(w[0]*x) | tyvar(w[1]*x) | tyvar(w[2]*x) | tyvar(w[3]*x)).gf()\n",
    "occupancy"
   ]
  },
  {
   "cell_type": "code",
   "execution_count": 191,
   "metadata": {
    "collapsed": false,
    "deletable": true,
    "editable": true
   },
   "outputs": [
    {
     "data": {
      "image/png": "[encoded data removed]",
      "text/latex": [
       "$$\\mathcal{L}{\\left (x,{w}_{3},{w}_{2},{w}_{1},{w}_{0} \\right )} = - \\frac{1}{x {w}_{0} + x {w}_{1} + x {w}_{2} + x {w}_{3} - 1} = 1 + x \\left({w}_{0} + {w}_{1} + {w}_{2} + {w}_{3}\\right) + x^{2} \\left({w}_{0}^{2} + 2 {w}_{0} {w}_{1} + 2 {w}_{0} {w}_{2} + 2 {w}_{0} {w}_{3} + {w}_{1}^{2} + 2 {w}_{1} {w}_{2} + 2 {w}_{1} {w}_{3} + {w}_{2}^{2} + 2 {w}_{2} {w}_{3} + {w}_{3}^{2}\\right) + x^{3} \\left({w}_{0}^{3} + 3 {w}_{0}^{2} {w}_{1} + 3 {w}_{0}^{2} {w}_{2} + 3 {w}_{0}^{2} {w}_{3} + 3 {w}_{0} {w}_{1}^{2} + 6 {w}_{0} {w}_{1} {w}_{2} + 6 {w}_{0} {w}_{1} {w}_{3} + 3 {w}_{0} {w}_{2}^{2} + 6 {w}_{0} {w}_{2} {w}_{3} + 3 {w}_{0} {w}_{3}^{2} + {w}_{1}^{3} + 3 {w}_{1}^{2} {w}_{2} + 3 {w}_{1}^{2} {w}_{3} + 3 {w}_{1} {w}_{2}^{2} + 6 {w}_{1} {w}_{2} {w}_{3} + 3 {w}_{1} {w}_{3}^{2} + {w}_{2}^{3} + 3 {w}_{2}^{2} {w}_{3} + 3 {w}_{2} {w}_{3}^{2} + {w}_{3}^{3}\\right) + O\\left(x^{4}\\right)$$"
      ],
      "text/plain": [
       "                                                          -1                  \n",
       "\\mathcal{L}(x, w[3], w[2], w[1], w[0]) = ─────────────────────────────────────\n",
       "                                         x⋅w[0] + x⋅w[1] + x⋅w[2] + x⋅w[3] - 1\n",
       "\n",
       "                                        2 ⎛    2                              \n",
       " = 1 + x⋅(w[0] + w[1] + w[2] + w[3]) + x ⋅⎝w[0]  + 2⋅w[0]⋅w[1] + 2⋅w[0]⋅w[2] +\n",
       "                                                                              \n",
       "\n",
       "                   2                                   2                     2\n",
       " 2⋅w[0]⋅w[3] + w[1]  + 2⋅w[1]⋅w[2] + 2⋅w[1]⋅w[3] + w[2]  + 2⋅w[2]⋅w[3] + w[3] \n",
       "                                                                              \n",
       "\n",
       "⎞    3 ⎛    3         2              2              2                   2     \n",
       "⎠ + x ⋅⎝w[0]  + 3⋅w[0] ⋅w[1] + 3⋅w[0] ⋅w[2] + 3⋅w[0] ⋅w[3] + 3⋅w[0]⋅w[1]  + 6⋅\n",
       "                                                                              \n",
       "\n",
       "                                               2                              \n",
       "w[0]⋅w[1]⋅w[2] + 6⋅w[0]⋅w[1]⋅w[3] + 3⋅w[0]⋅w[2]  + 6⋅w[0]⋅w[2]⋅w[3] + 3⋅w[0]⋅w\n",
       "                                                                              \n",
       "\n",
       "   2       3         2              2                   2                     \n",
       "[3]  + w[1]  + 3⋅w[1] ⋅w[2] + 3⋅w[1] ⋅w[3] + 3⋅w[1]⋅w[2]  + 6⋅w[1]⋅w[2]⋅w[3] +\n",
       "                                                                              \n",
       "\n",
       "            2       3         2                   2       3⎞    ⎛ 4⎞\n",
       " 3⋅w[1]⋅w[3]  + w[2]  + 3⋅w[2] ⋅w[3] + 3⋅w[2]⋅w[3]  + w[3] ⎠ + O⎝x ⎠\n",
       "                                                                    "
      ]
     },
     "execution_count": 191,
     "metadata": {},
     "output_type": "execute_result"
    }
   ],
   "source": [
    "occupancy.series(x, n=4)"
   ]
  },
  {
   "cell_type": "code",
   "execution_count": 399,
   "metadata": {
    "collapsed": false,
    "deletable": true,
    "editable": true
   },
   "outputs": [
    {
     "data": {
      "image/png": "[encoded data removed]",
      "text/latex": [
       "$$\\times{\\left (x,\\frac{1}{10} \\right )} = - \\frac{1}{10 \\left(x - 1\\right)} = \\frac{1}{10} + \\frac{x}{10} + \\frac{x^{2}}{10} + \\frac{x^{3}}{10} + \\frac{x^{4}}{10} + \\frac{x^{5}}{10} + \\frac{x^{6}}{10} + \\frac{x^{7}}{10} + \\frac{x^{8}}{10} + \\frac{x^{9}}{10} + O\\left(x^{10}\\right)$$"
      ],
      "text/plain": [
       "                                          2    3    4    5    6    7    8    9\n",
       "                     -1        1    x    x    x    x    x    x    x    x    x \n",
       "\\times(x, 1/10) = ────────── = ── + ── + ── + ── + ── + ── + ── + ── + ── + ──\n",
       "                  10⋅(x - 1)   10   10   10   10   10   10   10   10   10   10\n",
       "\n",
       "         \n",
       "    ⎛ 10⎞\n",
       " + O⎝x  ⎠\n",
       "         "
      ]
     },
     "execution_count": 399,
     "metadata": {},
     "output_type": "execute_result"
    }
   ],
   "source": [
    "def uniform_rv(n):\n",
    "    return tyvar(S(1)/nel) * lst(tyvar(x))\n",
    "occupancy, = uniform_rv(n=10).gf()\n",
    "occupancy.series(x,n=10)"
   ]
  },
  {
   "cell_type": "code",
   "execution_count": 394,
   "metadata": {
    "collapsed": true,
    "deletable": true,
    "editable": true
   },
   "outputs": [],
   "source": [
    "class lst_structure_w(rec):\n",
    "         \n",
    "    def definition(self, alpha):\n",
    "        me = self.me()\n",
    "        return alpha | lst(me)\n",
    "    \n",
    "    def label(self):\n",
    "        return r'\\mathcal{L}_{w}' # `_s` stands for \"structure\""
   ]
  },
  {
   "cell_type": "code",
   "execution_count": 193,
   "metadata": {
    "collapsed": false,
    "deletable": true,
    "editable": true
   },
   "outputs": [
    {
     "data": {
      "image/png": "[encoded data removed]",
      "text/latex": [
       "$$\\left [ \\mathcal{L}_{w}{\\left (\\alpha \\right )} = \\frac{\\alpha}{2} - \\frac{\\sqrt{\\left(\\alpha - 3\\right) \\left(\\alpha + 1\\right)}}{2} + \\frac{1}{2}, \\quad \\mathcal{L}_{w}{\\left (\\alpha \\right )} = \\frac{\\alpha}{2} + \\frac{\\sqrt{\\left(\\alpha - 3\\right) \\left(\\alpha + 1\\right)}}{2} + \\frac{1}{2}\\right ]$$"
      ],
      "text/plain": [
       "⎡                                     ___________________________             \n",
       "⎢                          \\alpha   ╲╱ (\\alpha - 3)⋅(\\alpha + 1)    1         \n",
       "⎢\\mathcal{L}_{w}(\\alpha) = ────── - ───────────────────────────── + ─, \\mathca\n",
       "⎣                            2                    2                 2         \n",
       "\n",
       "                              ___________________________    ⎤\n",
       "                   \\alpha   ╲╱ (\\alpha - 3)⋅(\\alpha + 1)    1⎥\n",
       "l{L}_{w}(\\alpha) = ────── + ───────────────────────────── + ─⎥\n",
       "                     2                    2                 2⎦"
      ]
     },
     "execution_count": 193,
     "metadata": {},
     "output_type": "execute_result"
    }
   ],
   "source": [
    "lst_structure_w(tyvar(alpha)).gf()"
   ]
  },
  {
   "cell_type": "code",
   "execution_count": 194,
   "metadata": {
    "collapsed": false,
    "deletable": true,
    "editable": true
   },
   "outputs": [
    {
     "data": {
      "image/png": "[encoded data removed]",
      "text/latex": [
       "$$\\left [ \\mathcal{L}_{w}{\\left (\\alpha \\right )} = \\frac{\\alpha}{2} - \\frac{\\sqrt{\\left(\\alpha - 3\\right) \\left(\\alpha + 1\\right)}}{2} + \\frac{1}{2} = - \\frac{\\sqrt{3} i}{2} + \\frac{1}{2} + \\alpha \\left(\\frac{1}{2} - \\frac{\\sqrt{3} i}{6}\\right) + \\frac{\\sqrt{3} i \\alpha^{2}}{9} - \\frac{\\sqrt{3} i \\alpha^{3}}{27} + \\frac{2 \\sqrt{3} i \\alpha^{4}}{81} - \\frac{4 \\sqrt{3} i \\alpha^{5}}{243} + O\\left(\\alpha^{6}\\right), \\quad \\mathcal{L}_{w}{\\left (\\alpha \\right )} = \\frac{\\alpha}{2} + \\frac{\\sqrt{\\left(\\alpha - 3\\right) \\left(\\alpha + 1\\right)}}{2} + \\frac{1}{2} = \\frac{\\sqrt{3} i}{2} + \\frac{1}{2} + \\alpha \\left(\\frac{1}{2} + \\frac{\\sqrt{3} i}{6}\\right) - \\frac{\\sqrt{3} i \\alpha^{2}}{9} + \\frac{\\sqrt{3} i \\alpha^{3}}{27} - \\frac{2 \\sqrt{3} i \\alpha^{4}}{81} + \\frac{4 \\sqrt{3} i \\alpha^{5}}{243} + O\\left(\\alpha^{6}\\right)\\right ]$$"
      ],
      "text/plain": [
       "⎡                                     ___________________________             \n",
       "⎢                          \\alpha   ╲╱ (\\alpha - 3)⋅(\\alpha + 1)    1     √3⋅ⅈ\n",
       "⎢\\mathcal{L}_{w}(\\alpha) = ────── - ───────────────────────────── + ─ = - ────\n",
       "⎣                            2                    2                 2      2  \n",
       "\n",
       "                                      2              3                4       \n",
       "   1          ⎛1   √3⋅ⅈ⎞   √3⋅ⅈ⋅\\alpha    √3⋅ⅈ⋅\\alpha    2⋅√3⋅ⅈ⋅\\alpha    4⋅√3\n",
       " + ─ + \\alpha⋅⎜─ - ────⎟ + ──────────── - ──────────── + ────────────── - ────\n",
       "   2          ⎝2    6  ⎠        9              27              81             \n",
       "\n",
       "         5                                                    ________________\n",
       "⋅ⅈ⋅\\alpha     ⎛      6⎞                            \\alpha   ╲╱ (\\alpha - 3)⋅(\\\n",
       "────────── + O⎝\\alpha ⎠, \\mathcal{L}_{w}(\\alpha) = ────── + ──────────────────\n",
       " 243                                                 2                    2   \n",
       "\n",
       "___________                                                 2              3  \n",
       "alpha + 1)    1   √3⋅ⅈ   1          ⎛1   √3⋅ⅈ⎞   √3⋅ⅈ⋅\\alpha    √3⋅ⅈ⋅\\alpha   \n",
       "─────────── + ─ = ──── + ─ + \\alpha⋅⎜─ + ────⎟ - ──────────── + ──────────── -\n",
       "              2    2     2          ⎝2    6  ⎠        9              27       \n",
       "\n",
       "              4                5             ⎤\n",
       " 2⋅√3⋅ⅈ⋅\\alpha    4⋅√3⋅ⅈ⋅\\alpha     ⎛      6⎞⎥\n",
       " ────────────── + ────────────── + O⎝\\alpha ⎠⎥\n",
       "       81              243                   ⎦"
      ]
     },
     "execution_count": 194,
     "metadata": {},
     "output_type": "execute_result"
    }
   ],
   "source": [
    "[gf.series(alpha) for gf in _]"
   ]
  },
  {
   "cell_type": "code",
   "execution_count": 195,
   "metadata": {
    "collapsed": true,
    "deletable": true,
    "editable": true
   },
   "outputs": [],
   "source": [
    "class lst_structure(rec):\n",
    "         \n",
    "    def definition(self, alpha):\n",
    "        me = self.me()\n",
    "        return alpha | (lst(me) * me * me)\n",
    "    \n",
    "    def label(self):\n",
    "        return r'\\mathcal{L}_{s}' # `_s` stands for \"structure\""
   ]
  },
  {
   "cell_type": "code",
   "execution_count": 197,
   "metadata": {
    "collapsed": false,
    "deletable": true,
    "editable": true
   },
   "outputs": [
    {
     "data": {
      "image/png": "[encoded data removed]",
      "text/latex": [
       "$$\\left [ \\mathcal{L}_{s}{\\left (\\alpha \\right )} = \\frac{\\alpha}{4} - \\frac{\\sqrt{\\alpha^{2} - 6 \\alpha + 1}}{4} + \\frac{1}{4}, \\quad \\mathcal{L}_{s}{\\left (\\alpha \\right )} = \\frac{\\alpha}{4} + \\frac{\\sqrt{\\alpha^{2} - 6 \\alpha + 1}}{4} + \\frac{1}{4}\\right ]$$"
      ],
      "text/plain": [
       "⎡                                      ________________________               \n",
       "⎢                                     ╱       2                               \n",
       "⎢                          \\alpha   ╲╱  \\alpha  - 6⋅\\alpha + 1    1           \n",
       "⎢\\mathcal{L}_{s}(\\alpha) = ────── - ─────────────────────────── + ─, \\mathcal{\n",
       "⎣                            4                   4                4           \n",
       "\n",
       "                             ________________________    ⎤\n",
       "                            ╱       2                    ⎥\n",
       "                 \\alpha   ╲╱  \\alpha  - 6⋅\\alpha + 1    1⎥\n",
       "L}_{s}(\\alpha) = ────── + ─────────────────────────── + ─⎥\n",
       "                   4                   4                4⎦"
      ]
     },
     "execution_count": 197,
     "metadata": {},
     "output_type": "execute_result"
    }
   ],
   "source": [
    "lst_structure(tyvar(alpha)).gf()"
   ]
  },
  {
   "cell_type": "code",
   "execution_count": 198,
   "metadata": {
    "collapsed": false,
    "deletable": true,
    "editable": true
   },
   "outputs": [
    {
     "data": {
      "image/png": "[encoded data removed]",
      "text/latex": [
       "$$\\mathcal{L}_{s}{\\left (\\alpha \\right )} = \\frac{\\alpha}{4} - \\frac{\\sqrt{\\alpha^{2} - 6 \\alpha + 1}}{4} + \\frac{1}{4} = \\alpha + \\alpha^{2} + 3 \\alpha^{3} + 11 \\alpha^{4} + 45 \\alpha^{5} + 197 \\alpha^{6} + 903 \\alpha^{7} + 4279 \\alpha^{8} + 20793 \\alpha^{9} + O\\left(\\alpha^{10}\\right)$$"
      ],
      "text/plain": [
       "                                      ________________________                \n",
       "                                     ╱       2                                \n",
       "                          \\alpha   ╲╱  \\alpha  - 6⋅\\alpha + 1    1            \n",
       "\\mathcal{L}_{s}(\\alpha) = ────── - ─────────────────────────── + ─ = \\alpha + \n",
       "                            4                   4                4            \n",
       "\n",
       "                                                                              \n",
       "                                                                              \n",
       "      2           3            4            5             6             7     \n",
       "\\alpha  + 3⋅\\alpha  + 11⋅\\alpha  + 45⋅\\alpha  + 197⋅\\alpha  + 903⋅\\alpha  + 42\n",
       "                                                                              \n",
       "\n",
       "                                        \n",
       "                                        \n",
       "         8               9    ⎛      10⎞\n",
       "79⋅\\alpha  + 20793⋅\\alpha  + O⎝\\alpha  ⎠\n",
       "                                        "
      ]
     },
     "execution_count": 198,
     "metadata": {},
     "output_type": "execute_result"
    }
   ],
   "source": [
    "_[0].series(alpha, n=10)"
   ]
  },
  {
   "cell_type": "code",
   "execution_count": 199,
   "metadata": {
    "collapsed": true,
    "deletable": true,
    "editable": true
   },
   "outputs": [],
   "source": [
    "class nnlst_structure(rec):\n",
    "         \n",
    "    def definition(self, alpha):\n",
    "        me = self.me()\n",
    "        return alpha * lst(nnlst(me))\n",
    "    \n",
    "    def label(self):\n",
    "        return r'\\mathcal{L}_{s}^{+}' # `_s` stands for \"structure\""
   ]
  },
  {
   "cell_type": "code",
   "execution_count": 201,
   "metadata": {
    "collapsed": false,
    "deletable": true,
    "editable": true
   },
   "outputs": [
    {
     "data": {
      "image/png": "[encoded data removed]",
      "text/latex": [
       "$$\\left [ \\mathcal{L}_{s}^{+}{\\left (\\alpha \\right )} = \\frac{\\alpha}{4} - \\frac{\\sqrt{\\alpha^{2} - 6 \\alpha + 1}}{4} + \\frac{1}{4}, \\quad \\mathcal{L}_{s}^{+}{\\left (\\alpha \\right )} = \\frac{\\alpha}{4} + \\frac{\\sqrt{\\alpha^{2} - 6 \\alpha + 1}}{4} + \\frac{1}{4}\\right ]$$"
      ],
      "text/plain": [
       "⎡                                           ________________________          \n",
       "⎢                                          ╱       2                          \n",
       "⎢                               \\alpha   ╲╱  \\alpha  - 6⋅\\alpha + 1    1      \n",
       "⎢\\mathcal{L}_{s}__{+}(\\alpha) = ────── - ─────────────────────────── + ─, \\mat\n",
       "⎣                                 4                   4                4      \n",
       "\n",
       "                                       ________________________    ⎤\n",
       "                                      ╱       2                    ⎥\n",
       "                           \\alpha   ╲╱  \\alpha  - 6⋅\\alpha + 1    1⎥\n",
       "hcal{L}_{s}__{+}(\\alpha) = ────── + ─────────────────────────── + ─⎥\n",
       "                             4                   4                4⎦"
      ]
     },
     "execution_count": 201,
     "metadata": {},
     "output_type": "execute_result"
    }
   ],
   "source": [
    "nnlst_structure(tyvar(alpha)).gf()"
   ]
  },
  {
   "cell_type": "code",
   "execution_count": 202,
   "metadata": {
    "collapsed": false,
    "deletable": true,
    "editable": true
   },
   "outputs": [
    {
     "data": {
      "image/png": "[encoded data removed]",
      "text/latex": [
       "$$\\mathcal{L}_{s}^{+}{\\left (\\alpha \\right )} = \\frac{\\alpha}{4} - \\frac{\\sqrt{\\alpha^{2} - 6 \\alpha + 1}}{4} + \\frac{1}{4} = \\alpha + \\alpha^{2} + 3 \\alpha^{3} + 11 \\alpha^{4} + 45 \\alpha^{5} + 197 \\alpha^{6} + 903 \\alpha^{7} + 4279 \\alpha^{8} + 20793 \\alpha^{9} + O\\left(\\alpha^{10}\\right)$$"
      ],
      "text/plain": [
       "                                           ________________________           \n",
       "                                          ╱       2                           \n",
       "                               \\alpha   ╲╱  \\alpha  - 6⋅\\alpha + 1    1       \n",
       "\\mathcal{L}_{s}__{+}(\\alpha) = ────── - ─────────────────────────── + ─ = \\alp\n",
       "                                 4                   4                4       \n",
       "\n",
       "                                                                              \n",
       "                                                                              \n",
       "           2           3            4            5             6             7\n",
       "ha + \\alpha  + 3⋅\\alpha  + 11⋅\\alpha  + 45⋅\\alpha  + 197⋅\\alpha  + 903⋅\\alpha \n",
       "                                                                              \n",
       "\n",
       "                                             \n",
       "                                             \n",
       "              8               9    ⎛      10⎞\n",
       " + 4279⋅\\alpha  + 20793⋅\\alpha  + O⎝\\alpha  ⎠\n",
       "                                             "
      ]
     },
     "execution_count": 202,
     "metadata": {},
     "output_type": "execute_result"
    }
   ],
   "source": [
    "_[0].series(alpha, n=10)"
   ]
  },
  {
   "cell_type": "code",
   "execution_count": 203,
   "metadata": {
    "collapsed": true,
    "deletable": true,
    "editable": true
   },
   "outputs": [],
   "source": [
    "class tree(rec):\n",
    "         \n",
    "    def definition(self, alpha):\n",
    "        return alpha * lst(self.me())\n",
    "    \n",
    "    def label(self):\n",
    "        return r'\\mathcal{T}'"
   ]
  },
  {
   "cell_type": "code",
   "execution_count": 204,
   "metadata": {
    "collapsed": false,
    "deletable": true,
    "editable": true
   },
   "outputs": [
    {
     "data": {
      "image/png": "[encoded data removed]",
      "text/latex": [
       "$$\\left [ \\mathcal{T}{\\left (\\alpha \\right )} = - \\frac{\\sqrt{- 4 \\alpha + 1}}{2} + \\frac{1}{2}, \\quad \\mathcal{T}{\\left (\\alpha \\right )} = \\frac{\\sqrt{- 4 \\alpha + 1}}{2} + \\frac{1}{2}\\right ]$$"
      ],
      "text/plain": [
       "⎡                          _______________                              ______\n",
       "⎢                        ╲╱ -4⋅\\alpha + 1    1                        ╲╱ -4⋅\\a\n",
       "⎢\\mathcal{T}(\\alpha) = - ───────────────── + ─, \\mathcal{T}(\\alpha) = ────────\n",
       "⎣                                2           2                                \n",
       "\n",
       "_________    ⎤\n",
       "lpha + 1    1⎥\n",
       "───────── + ─⎥\n",
       "2           2⎦"
      ]
     },
     "execution_count": 204,
     "metadata": {},
     "output_type": "execute_result"
    }
   ],
   "source": [
    "tree(tyvar(alpha)).gf()"
   ]
  },
  {
   "cell_type": "code",
   "execution_count": 205,
   "metadata": {
    "collapsed": false,
    "deletable": true,
    "editable": true
   },
   "outputs": [
    {
     "data": {
      "image/png": "[encoded data removed]",
      "text/latex": [
       "$$\\mathcal{T}{\\left (\\alpha \\right )} = - \\frac{\\sqrt{- 4 \\alpha + 1}}{2} + \\frac{1}{2} = \\alpha + \\alpha^{2} + 2 \\alpha^{3} + 5 \\alpha^{4} + 14 \\alpha^{5} + 42 \\alpha^{6} + 132 \\alpha^{7} + 429 \\alpha^{8} + 1430 \\alpha^{9} + O\\left(\\alpha^{10}\\right)$$"
      ],
      "text/plain": [
       "                          _______________                                     \n",
       "                        ╲╱ -4⋅\\alpha + 1    1                  2           3  \n",
       "\\mathcal{T}(\\alpha) = - ───────────────── + ─ = \\alpha + \\alpha  + 2⋅\\alpha  +\n",
       "                                2           2                                 \n",
       "\n",
       "                                                                              \n",
       "         4            5            6             7             8              \n",
       " 5⋅\\alpha  + 14⋅\\alpha  + 42⋅\\alpha  + 132⋅\\alpha  + 429⋅\\alpha  + 1430⋅\\alpha\n",
       "                                                                              \n",
       "\n",
       "               \n",
       "9    ⎛      10⎞\n",
       "  + O⎝\\alpha  ⎠\n",
       "               "
      ]
     },
     "execution_count": 205,
     "metadata": {},
     "output_type": "execute_result"
    }
   ],
   "source": [
    "_[0].series(alpha, n=10)"
   ]
  },
  {
   "cell_type": "code",
   "execution_count": 206,
   "metadata": {
    "collapsed": true,
    "deletable": true,
    "editable": true
   },
   "outputs": [],
   "source": [
    "class combination(rec):\n",
    "         \n",
    "    def definition(self, alpha):\n",
    "        me = self.me()\n",
    "        return alpha | (me * me)\n",
    "    \n",
    "    def label(self):\n",
    "        return r'\\mathcal{C}'"
   ]
  },
  {
   "cell_type": "code",
   "execution_count": 209,
   "metadata": {
    "collapsed": false,
    "deletable": true,
    "editable": true
   },
   "outputs": [
    {
     "data": {
      "image/png": "[encoded data removed]",
      "text/latex": [
       "$$\\left [ \\mathcal{C}{\\left (\\alpha \\right )} = - \\frac{\\sqrt{- 4 \\alpha + 1}}{2} + \\frac{1}{2}, \\quad \\mathcal{C}{\\left (\\alpha \\right )} = \\frac{\\sqrt{- 4 \\alpha + 1}}{2} + \\frac{1}{2}\\right ]$$"
      ],
      "text/plain": [
       "⎡                          _______________                              ______\n",
       "⎢                        ╲╱ -4⋅\\alpha + 1    1                        ╲╱ -4⋅\\a\n",
       "⎢\\mathcal{C}(\\alpha) = - ───────────────── + ─, \\mathcal{C}(\\alpha) = ────────\n",
       "⎣                                2           2                                \n",
       "\n",
       "_________    ⎤\n",
       "lpha + 1    1⎥\n",
       "───────── + ─⎥\n",
       "2           2⎦"
      ]
     },
     "execution_count": 209,
     "metadata": {},
     "output_type": "execute_result"
    }
   ],
   "source": [
    "combination(tyvar(alpha)).gf()"
   ]
  },
  {
   "cell_type": "code",
   "execution_count": 210,
   "metadata": {
    "collapsed": false,
    "deletable": true,
    "editable": true
   },
   "outputs": [
    {
     "data": {
      "image/png": "[encoded data removed]",
      "text/latex": [
       "$$\\mathcal{C}{\\left (\\alpha \\right )} = - \\frac{\\sqrt{- 4 \\alpha + 1}}{2} + \\frac{1}{2} = \\alpha + \\alpha^{2} + 2 \\alpha^{3} + 5 \\alpha^{4} + 14 \\alpha^{5} + 42 \\alpha^{6} + 132 \\alpha^{7} + 429 \\alpha^{8} + 1430 \\alpha^{9} + O\\left(\\alpha^{10}\\right)$$"
      ],
      "text/plain": [
       "                          _______________                                     \n",
       "                        ╲╱ -4⋅\\alpha + 1    1                  2           3  \n",
       "\\mathcal{C}(\\alpha) = - ───────────────── + ─ = \\alpha + \\alpha  + 2⋅\\alpha  +\n",
       "                                2           2                                 \n",
       "\n",
       "                                                                              \n",
       "         4            5            6             7             8              \n",
       " 5⋅\\alpha  + 14⋅\\alpha  + 42⋅\\alpha  + 132⋅\\alpha  + 429⋅\\alpha  + 1430⋅\\alpha\n",
       "                                                                              \n",
       "\n",
       "               \n",
       "9    ⎛      10⎞\n",
       "  + O⎝\\alpha  ⎠\n",
       "               "
      ]
     },
     "execution_count": 210,
     "metadata": {},
     "output_type": "execute_result"
    }
   ],
   "source": [
    "_[0].series(alpha, n=10)"
   ]
  },
  {
   "cell_type": "code",
   "execution_count": 211,
   "metadata": {
    "collapsed": false,
    "deletable": true,
    "editable": true
   },
   "outputs": [],
   "source": [
    "class ab_tree(rec):\n",
    "         \n",
    "    def definition(self, alpha, beta):\n",
    "        me = self.me()\n",
    "        return beta | (alpha * me * me)\n",
    "    \n",
    "    def label(self):\n",
    "        return r'\\mathcal{T}_{a,b}'"
   ]
  },
  {
   "cell_type": "code",
   "execution_count": 212,
   "metadata": {
    "collapsed": false,
    "deletable": true,
    "editable": true
   },
   "outputs": [
    {
     "data": {
      "image/png": "[encoded data removed]",
      "text/latex": [
       "$$\\left [ \\mathcal{T}_{a,b}{\\left (\\beta,\\alpha \\right )} = \\frac{- \\sqrt{- 4 \\alpha \\beta + 1} + 1}{2 \\alpha}, \\quad \\mathcal{T}_{a,b}{\\left (\\beta,\\alpha \\right )} = \\frac{\\sqrt{- 4 \\alpha \\beta + 1} + 1}{2 \\alpha}\\right ]$$"
      ],
      "text/plain": [
       "⎡                                       _____________________                 \n",
       "⎢                                   - ╲╱ -4⋅\\alpha⋅\\beta + 1  + 1             \n",
       "⎢\\mathcal{T}_{a,b}(\\beta, \\alpha) = ─────────────────────────────, \\mathcal{T}\n",
       "⎣                                              2⋅\\alpha                       \n",
       "\n",
       "                          _____________________    ⎤\n",
       "                        ╲╱ -4⋅\\alpha⋅\\beta + 1  + 1⎥\n",
       "_{a,b}(\\beta, \\alpha) = ───────────────────────────⎥\n",
       "                                  2⋅\\alpha         ⎦"
      ]
     },
     "execution_count": 212,
     "metadata": {},
     "output_type": "execute_result"
    }
   ],
   "source": [
    "ab_tree_gfs = ab_tree(tyvar(alpha), tyvar(beta)).gf()\n",
    "ab_tree_gfs"
   ]
  },
  {
   "cell_type": "code",
   "execution_count": 213,
   "metadata": {
    "collapsed": true,
    "deletable": true,
    "editable": true
   },
   "outputs": [],
   "source": [
    "ab_tree_gf = ab_tree_gfs[0]"
   ]
  },
  {
   "cell_type": "code",
   "execution_count": 214,
   "metadata": {
    "collapsed": false,
    "deletable": true,
    "editable": true
   },
   "outputs": [
    {
     "data": {
      "image/png": "[encoded data removed]",
      "text/latex": [
       "$$\\mathcal{T}_{a,b}{\\left (\\beta,\\alpha \\right )} = 477638700 \\alpha^{18} \\beta^{19} + 129644790 \\alpha^{17} \\beta^{18} + 35357670 \\alpha^{16} \\beta^{17} + 9694845 \\alpha^{15} \\beta^{16} + 2674440 \\alpha^{14} \\beta^{15} + 742900 \\alpha^{13} \\beta^{14} + 208012 \\alpha^{12} \\beta^{13} + 58786 \\alpha^{11} \\beta^{12} + 16796 \\alpha^{10} \\beta^{11} + 4862 \\alpha^{9} \\beta^{10} + 1430 \\alpha^{8} \\beta^{9} + 429 \\alpha^{7} \\beta^{8} + 132 \\alpha^{6} \\beta^{7} + 42 \\alpha^{5} \\beta^{6} + 14 \\alpha^{4} \\beta^{5} + 5 \\alpha^{3} \\beta^{4} + 2 \\alpha^{2} \\beta^{3} + \\alpha \\beta^{2} + \\beta$$"
      ],
      "text/plain": [
       "                                                   18      19                 \n",
       "\\mathcal{T}_{a,b}(\\beta, \\alpha) = 477638700⋅\\alpha  ⋅\\beta   + 129644790⋅\\alp\n",
       "\n",
       "  17      18                  16      17                 15      16           \n",
       "ha  ⋅\\beta   + 35357670⋅\\alpha  ⋅\\beta   + 9694845⋅\\alpha  ⋅\\beta   + 2674440⋅\n",
       "\n",
       "      14      15                13      14                12      13          \n",
       "\\alpha  ⋅\\beta   + 742900⋅\\alpha  ⋅\\beta   + 208012⋅\\alpha  ⋅\\beta   + 58786⋅\\\n",
       "\n",
       "     11      12               10      11              9      10              8\n",
       "alpha  ⋅\\beta   + 16796⋅\\alpha  ⋅\\beta   + 4862⋅\\alpha ⋅\\beta   + 1430⋅\\alpha \n",
       "\n",
       "      9             7      8             6      7            5      6         \n",
       "⋅\\beta  + 429⋅\\alpha ⋅\\beta  + 132⋅\\alpha ⋅\\beta  + 42⋅\\alpha ⋅\\beta  + 14⋅\\al\n",
       "\n",
       "   4      5           3      4           2      3               2        \n",
       "pha ⋅\\beta  + 5⋅\\alpha ⋅\\beta  + 2⋅\\alpha ⋅\\beta  + \\alpha⋅\\beta  + \\beta"
      ]
     },
     "execution_count": 214,
     "metadata": {},
     "output_type": "execute_result"
    }
   ],
   "source": [
    "fab_eq = FEq(ab_tree_gf.lhs, ab_tree_gf.rhs.series(beta, n=20).removeO(), evaluate=False)\n",
    "fab_eq"
   ]
  },
  {
   "cell_type": "code",
   "execution_count": 215,
   "metadata": {
    "collapsed": false,
    "deletable": true,
    "editable": true
   },
   "outputs": [
    {
     "data": {
      "image/png": "[encoded data removed]",
      "text/latex": [
       "$$477638700 x^{37} + 129644790 x^{35} + 35357670 x^{33} + 9694845 x^{31} + 2674440 x^{29} + 742900 x^{27} + 208012 x^{25} + 58786 x^{23} + 16796 x^{21} + 4862 x^{19} + 1430 x^{17} + 429 x^{15} + 132 x^{13} + 42 x^{11} + 14 x^{9} + 5 x^{7} + 2 x^{5} + x^{3} + x$$"
      ],
      "text/plain": [
       "           37              35             33            31            29      \n",
       "477638700⋅x   + 129644790⋅x   + 35357670⋅x   + 9694845⋅x   + 2674440⋅x   + 742\n",
       "\n",
       "     27           25          23          21         19         17        15  \n",
       "900⋅x   + 208012⋅x   + 58786⋅x   + 16796⋅x   + 4862⋅x   + 1430⋅x   + 429⋅x   +\n",
       "\n",
       "      13       11       9      7      5    3    \n",
       " 132⋅x   + 42⋅x   + 14⋅x  + 5⋅x  + 2⋅x  + x  + x"
      ]
     },
     "execution_count": 215,
     "metadata": {},
     "output_type": "execute_result"
    }
   ],
   "source": [
    "fab_eq(x,x)"
   ]
  },
  {
   "cell_type": "code",
   "execution_count": 216,
   "metadata": {
    "collapsed": false,
    "deletable": true,
    "editable": true
   },
   "outputs": [
    {
     "data": {
      "image/png": "[encoded data removed]",
      "text/latex": [
       "$$477638700 \\alpha x^{37} + 129644790 \\alpha x^{35} + 35357670 \\alpha x^{33} + 9694845 \\alpha x^{31} + 2674440 \\alpha x^{29} + 742900 \\alpha x^{27} + 208012 \\alpha x^{25} + 58786 \\alpha x^{23} + 16796 \\alpha x^{21} + 4862 \\alpha x^{19} + 1430 \\alpha x^{17} + 429 \\alpha x^{15} + 132 \\alpha x^{13} + 42 \\alpha x^{11} + 14 \\alpha x^{9} + 5 \\alpha x^{7} + 2 \\alpha x^{5} + \\alpha x^{3} + \\alpha x$$"
      ],
      "text/plain": [
       "                  37                     35                    33             \n",
       "477638700⋅\\alpha⋅x   + 129644790⋅\\alpha⋅x   + 35357670⋅\\alpha⋅x   + 9694845⋅\\a\n",
       "\n",
       "      31                   29                  27                  25         \n",
       "lpha⋅x   + 2674440⋅\\alpha⋅x   + 742900⋅\\alpha⋅x   + 208012⋅\\alpha⋅x   + 58786⋅\n",
       "\n",
       "        23                 21                19                17             \n",
       "\\alpha⋅x   + 16796⋅\\alpha⋅x   + 4862⋅\\alpha⋅x   + 1430⋅\\alpha⋅x   + 429⋅\\alpha\n",
       "\n",
       "  15               13              11              9             7            \n",
       "⋅x   + 132⋅\\alpha⋅x   + 42⋅\\alpha⋅x   + 14⋅\\alpha⋅x  + 5⋅\\alpha⋅x  + 2⋅\\alpha⋅\n",
       "\n",
       " 5           3           \n",
       "x  + \\alpha⋅x  + \\alpha⋅x"
      ]
     },
     "execution_count": 216,
     "metadata": {},
     "output_type": "execute_result"
    }
   ],
   "source": [
    "(_*alpha).expand()"
   ]
  },
  {
   "cell_type": "code",
   "execution_count": 217,
   "metadata": {
    "collapsed": false,
    "deletable": true,
    "editable": true
   },
   "outputs": [
    {
     "data": {
      "image/png": "[encoded data removed]",
      "text/latex": [
       "$$\\left ( 477638700 x^{18} + 129644790 x^{17} + 35357670 x^{16} + 9694845 x^{15} + 2674440 x^{14} + 742900 x^{13} + 208012 x^{12} + 58786 x^{11} + 16796 x^{10} + 4862 x^{9} + 1430 x^{8} + 429 x^{7} + 132 x^{6} + 42 x^{5} + 14 x^{4} + 5 x^{3} + 2 x^{2} + x + 1, \\quad 477638700 x^{19} + 129644790 x^{18} + 35357670 x^{17} + 9694845 x^{16} + 2674440 x^{15} + 742900 x^{14} + 208012 x^{13} + 58786 x^{12} + 16796 x^{11} + 4862 x^{10} + 1430 x^{9} + 429 x^{8} + 132 x^{7} + 42 x^{6} + 14 x^{5} + 5 x^{4} + 2 x^{3} + x^{2} + x\\right )$$"
      ],
      "text/plain": [
       "⎛           18              17             16            15            14     \n",
       "⎝477638700⋅x   + 129644790⋅x   + 35357670⋅x   + 9694845⋅x   + 2674440⋅x   + 74\n",
       "\n",
       "      13           12          11          10         9         8        7    \n",
       "2900⋅x   + 208012⋅x   + 58786⋅x   + 16796⋅x   + 4862⋅x  + 1430⋅x  + 429⋅x  + 1\n",
       "\n",
       "    6       5       4      3      2                     19              18    \n",
       "32⋅x  + 42⋅x  + 14⋅x  + 5⋅x  + 2⋅x  + x + 1, 477638700⋅x   + 129644790⋅x   + 3\n",
       "\n",
       "         17            16            15           14           13          12 \n",
       "5357670⋅x   + 9694845⋅x   + 2674440⋅x   + 742900⋅x   + 208012⋅x   + 58786⋅x   \n",
       "\n",
       "         11         10         9        8        7       6       5      4     \n",
       "+ 16796⋅x   + 4862⋅x   + 1430⋅x  + 429⋅x  + 132⋅x  + 42⋅x  + 14⋅x  + 5⋅x  + 2⋅\n",
       "\n",
       " 3    2    ⎞\n",
       "x  + x  + x⎠"
      ]
     },
     "execution_count": 217,
     "metadata": {},
     "output_type": "execute_result"
    }
   ],
   "source": [
    "#with lift_to_Lambda(fab_eq) as F:\n",
    "B = fab_eq(x,1)\n",
    "A = fab_eq(1,x)\n",
    "A,B,"
   ]
  },
  {
   "cell_type": "code",
   "execution_count": 218,
   "metadata": {
    "collapsed": false,
    "deletable": true,
    "editable": true
   },
   "outputs": [
    {
     "data": {
      "image/png": "[encoded data removed]",
      "text/latex": [
       "$$477638700 x^{19} + 607283490 x^{18} + 165002460 x^{17} + 45052515 x^{16} + 12369285 x^{15} + 3417340 x^{14} + 950912 x^{13} + 266798 x^{12} + 75582 x^{11} + 21658 x^{10} + 6292 x^{9} + 1859 x^{8} + 561 x^{7} + 174 x^{6} + 56 x^{5} + 19 x^{4} + 7 x^{3} + 3 x^{2} + 2 x + 1$$"
      ],
      "text/plain": [
       "           19              18              17             16             15   \n",
       "477638700⋅x   + 607283490⋅x   + 165002460⋅x   + 45052515⋅x   + 12369285⋅x   + \n",
       "\n",
       "         14           13           12          11          10         9       \n",
       "3417340⋅x   + 950912⋅x   + 266798⋅x   + 75582⋅x   + 21658⋅x   + 6292⋅x  + 1859\n",
       "\n",
       "  8        7        6       5       4      3      2          \n",
       "⋅x  + 561⋅x  + 174⋅x  + 56⋅x  + 19⋅x  + 7⋅x  + 3⋅x  + 2⋅x + 1"
      ]
     },
     "execution_count": 218,
     "metadata": {},
     "output_type": "execute_result"
    }
   ],
   "source": [
    "(A+B).expand()"
   ]
  },
  {
   "cell_type": "code",
   "execution_count": 219,
   "metadata": {
    "collapsed": false,
    "deletable": true,
    "editable": true
   },
   "outputs": [
    {
     "data": {
      "image/png": "[encoded data removed]",
      "text/latex": [
       "$$477638700 x^{19} + 607283490 x^{18} + 165002460 x^{17} + 45052515 x^{16} + 12369285 x^{15} + 3417340 x^{14} + 950912 x^{13} + 266798 x^{12} + 75582 x^{11} + 21658 x^{10} + 6292 x^{9} + 1859 x^{8} + 561 x^{7} + 174 x^{6} + 56 x^{5} + 19 x^{4} + 7 x^{3} + 3 x^{2} + 2 x + 1$$"
      ],
      "text/plain": [
       "           19              18              17             16             15   \n",
       "477638700⋅x   + 607283490⋅x   + 165002460⋅x   + 45052515⋅x   + 12369285⋅x   + \n",
       "\n",
       "         14           13           12          11          10         9       \n",
       "3417340⋅x   + 950912⋅x   + 266798⋅x   + 75582⋅x   + 21658⋅x   + 6292⋅x  + 1859\n",
       "\n",
       "  8        7        6       5       4      3      2          \n",
       "⋅x  + 561⋅x  + 174⋅x  + 56⋅x  + 19⋅x  + 7⋅x  + 3⋅x  + 2⋅x + 1"
      ]
     },
     "execution_count": 219,
     "metadata": {},
     "output_type": "execute_result"
    }
   ],
   "source": [
    "((1+x)*A).expand()"
   ]
  },
  {
   "cell_type": "code",
   "execution_count": 223,
   "metadata": {
    "collapsed": false,
    "deletable": true,
    "editable": true
   },
   "outputs": [],
   "source": [
    "class dyck(rec):\n",
    "         \n",
    "    def definition(self, alpha, beta):\n",
    "        me = self.me()\n",
    "        return cp() | (alpha * me * beta * me)\n",
    "    \n",
    "    def label(self):\n",
    "        return r'\\mathcal{D}'"
   ]
  },
  {
   "cell_type": "code",
   "execution_count": 225,
   "metadata": {
    "collapsed": false,
    "deletable": true,
    "editable": true
   },
   "outputs": [
    {
     "data": {
      "image/png": "[encoded data removed]",
      "text/latex": [
       "$$\\left [ \\mathcal{D}{\\left (\\beta,x,\\alpha \\right )} = \\frac{- \\sqrt{- 4 \\alpha \\beta x^{2} + 1} + 1}{2 \\alpha \\beta x^{2}}, \\quad \\mathcal{D}{\\left (\\beta,x,\\alpha \\right )} = \\frac{\\sqrt{- 4 \\alpha \\beta x^{2} + 1} + 1}{2 \\alpha \\beta x^{2}}\\right ]$$"
      ],
      "text/plain": [
       "⎡                                     _________________________               \n",
       "⎢                                    ╱                   2                    \n",
       "⎢                                - ╲╱  - 4⋅\\alpha⋅\\beta⋅x  + 1  + 1           \n",
       "⎢\\mathcal{D}(\\beta, x, \\alpha) = ──────────────────────────────────, \\mathcal{\n",
       "⎢                                                        2                    \n",
       "⎣                                        2⋅\\alpha⋅\\beta⋅x                     \n",
       "\n",
       "                          _________________________    ⎤\n",
       "                         ╱                   2         ⎥\n",
       "                       ╲╱  - 4⋅\\alpha⋅\\beta⋅x  + 1  + 1⎥\n",
       "D}(\\beta, x, \\alpha) = ────────────────────────────────⎥\n",
       "                                              2        ⎥\n",
       "                              2⋅\\alpha⋅\\beta⋅x         ⎦"
      ]
     },
     "execution_count": 225,
     "metadata": {},
     "output_type": "execute_result"
    }
   ],
   "source": [
    "dyck_gfs = dyck(tyvar(alpha*x), tyvar(beta*x)).gf()\n",
    "dyck_gfs"
   ]
  },
  {
   "cell_type": "code",
   "execution_count": 226,
   "metadata": {
    "collapsed": true,
    "deletable": true,
    "editable": true
   },
   "outputs": [],
   "source": [
    "dyck_gf = dyck_gfs[0]"
   ]
  },
  {
   "cell_type": "code",
   "execution_count": 229,
   "metadata": {
    "collapsed": false,
    "deletable": true,
    "editable": true
   },
   "outputs": [
    {
     "data": {
      "image/png": "[encoded data removed]",
      "text/latex": [
       "$$\\mathcal{D}{\\left (\\beta,x,\\alpha \\right )} = \\frac{- \\sqrt{- 4 \\alpha \\beta x^{2} + 1} + 1}{2 \\alpha \\beta x^{2}} = 1 + \\alpha \\beta x^{2} + 2 \\alpha^{2} \\beta^{2} x^{4} + 5 \\alpha^{3} \\beta^{3} x^{6} + 14 \\alpha^{4} \\beta^{4} x^{8} + O\\left(x^{10}\\right)$$"
      ],
      "text/plain": [
       "                                     _________________________                \n",
       "                                    ╱                   2                     \n",
       "                                - ╲╱  - 4⋅\\alpha⋅\\beta⋅x  + 1  + 1            \n",
       "\\mathcal{D}(\\beta, x, \\alpha) = ────────────────────────────────── = 1 + \\alph\n",
       "                                                        2                     \n",
       "                                        2⋅\\alpha⋅\\beta⋅x                      \n",
       "\n",
       "                                                                              \n",
       "                                                                              \n",
       "         2           2      2  4           3      3  6            4      4  8 \n",
       "a⋅\\beta⋅x  + 2⋅\\alpha ⋅\\beta ⋅x  + 5⋅\\alpha ⋅\\beta ⋅x  + 14⋅\\alpha ⋅\\beta ⋅x  \n",
       "                                                                              \n",
       "                                                                              \n",
       "\n",
       "        \n",
       "        \n",
       "   ⎛ 10⎞\n",
       "+ O⎝x  ⎠\n",
       "        \n",
       "        "
      ]
     },
     "execution_count": 229,
     "metadata": {},
     "output_type": "execute_result"
    }
   ],
   "source": [
    "dyck_gf.series(x,n=10)"
   ]
  },
  {
   "cell_type": "code",
   "execution_count": 233,
   "metadata": {
    "collapsed": false,
    "deletable": true,
    "editable": true
   },
   "outputs": [],
   "source": [
    "class motzkin(rec):\n",
    "         \n",
    "    def definition(self, alpha, beta, gamma):\n",
    "        me = self.me()\n",
    "        return cp() | (alpha * me * beta * me) | (gamma * me)\n",
    "    \n",
    "    def label(self):\n",
    "        return r'\\mathcal{M}'"
   ]
  },
  {
   "cell_type": "code",
   "execution_count": 235,
   "metadata": {
    "collapsed": false,
    "deletable": true,
    "editable": true
   },
   "outputs": [
    {
     "data": {
      "image/png": "[encoded data removed]",
      "text/latex": [
       "$$\\left [ \\mathcal{M}{\\left (x,\\gamma,\\beta,\\alpha \\right )} = \\frac{- \\gamma x - \\sqrt{- 4 \\alpha \\beta x^{2} + \\gamma^{2} x^{2} - 2 \\gamma x + 1} + 1}{2 \\alpha \\beta x^{2}}, \\quad \\mathcal{M}{\\left (x,\\gamma,\\beta,\\alpha \\right )} = \\frac{- \\gamma x + \\sqrt{- 4 \\alpha \\beta x^{2} + \\gamma^{2} x^{2} - 2 \\gamma x + 1} + 1}{2 \\alpha \\beta x^{2}}\\right ]$$"
      ],
      "text/plain": [
       "⎡                                                       ______________________\n",
       "⎢                                                      ╱                   2  \n",
       "⎢                                        -\\gamma⋅x - ╲╱  - 4⋅\\alpha⋅\\beta⋅x  +\n",
       "⎢\\mathcal{M}(x, \\gamma, \\beta, \\alpha) = ─────────────────────────────────────\n",
       "⎢                                                                             \n",
       "⎣                                                                  2⋅\\alpha⋅\\b\n",
       "\n",
       "_____________________________                                                 \n",
       "       2  2                                                                   \n",
       " \\gamma ⋅x  - 2⋅\\gamma⋅x + 1  + 1                                          -\\g\n",
       "─────────────────────────────────, \\mathcal{M}(x, \\gamma, \\beta, \\alpha) = ───\n",
       "     2                                                                        \n",
       "eta⋅x                                                                         \n",
       "\n",
       "            ___________________________________________________    ⎤\n",
       "           ╱                   2         2  2                      ⎥\n",
       "amma⋅x + ╲╱  - 4⋅\\alpha⋅\\beta⋅x  + \\gamma ⋅x  - 2⋅\\gamma⋅x + 1  + 1⎥\n",
       "───────────────────────────────────────────────────────────────────⎥\n",
       "                                       2                           ⎥\n",
       "                       2⋅\\alpha⋅\\beta⋅x                            ⎦"
      ]
     },
     "execution_count": 235,
     "metadata": {},
     "output_type": "execute_result"
    }
   ],
   "source": [
    "motzkin_gfs = motzkin(tyvar(alpha*x), tyvar(beta*x), tyvar(gamma*x),).gf()\n",
    "motzkin_gfs"
   ]
  },
  {
   "cell_type": "code",
   "execution_count": 236,
   "metadata": {
    "collapsed": true,
    "deletable": true,
    "editable": true
   },
   "outputs": [],
   "source": [
    "motzkin_gf = motzkin_gfs[0]"
   ]
  },
  {
   "cell_type": "code",
   "execution_count": 237,
   "metadata": {
    "collapsed": false,
    "deletable": true,
    "editable": true
   },
   "outputs": [
    {
     "data": {
      "image/png": "[encoded data removed]",
      "text/latex": [
       "$$\\mathcal{M}{\\left (x,\\gamma,\\beta,\\alpha \\right )} = \\frac{- \\gamma x - \\sqrt{- 4 \\alpha \\beta x^{2} + \\gamma^{2} x^{2} - 2 \\gamma x + 1} + 1}{2 \\alpha \\beta x^{2}} = 1 + x^{2} \\left(\\alpha \\beta + \\gamma^{2}\\right) + x^{3} \\left(3 \\alpha \\beta \\gamma + \\gamma^{3}\\right) + x^{4} \\left(2 \\alpha^{2} \\beta^{2} + 6 \\alpha \\beta \\gamma^{2} + \\gamma^{4}\\right) + x^{5} \\left(10 \\alpha^{2} \\beta^{2} \\gamma + 10 \\alpha \\beta \\gamma^{3} + \\gamma^{5}\\right) + x^{6} \\left(5 \\alpha^{3} \\beta^{3} + 30 \\alpha^{2} \\beta^{2} \\gamma^{2} + 15 \\alpha \\beta \\gamma^{4} + \\gamma^{6}\\right) + x^{7} \\left(35 \\alpha^{3} \\beta^{3} \\gamma + 70 \\alpha^{2} \\beta^{2} \\gamma^{3} + 21 \\alpha \\beta \\gamma^{5} + \\gamma^{7}\\right) + x^{8} \\left(14 \\alpha^{4} \\beta^{4} + 140 \\alpha^{3} \\beta^{3} \\gamma^{2} + 140 \\alpha^{2} \\beta^{2} \\gamma^{4} + 28 \\alpha \\beta \\gamma^{6} + \\gamma^{8}\\right) + x^{9} \\left(126 \\alpha^{4} \\beta^{4} \\gamma + 420 \\alpha^{3} \\beta^{3} \\gamma^{3} + 252 \\alpha^{2} \\beta^{2} \\gamma^{5} + 36 \\alpha \\beta \\gamma^{7} + \\gamma^{9}\\right) + \\gamma x + O\\left(x^{10}\\right)$$"
      ],
      "text/plain": [
       "                                                       _______________________\n",
       "                                                      ╱                   2   \n",
       "                                        -\\gamma⋅x - ╲╱  - 4⋅\\alpha⋅\\beta⋅x  + \n",
       "\\mathcal{M}(x, \\gamma, \\beta, \\alpha) = ──────────────────────────────────────\n",
       "                                                                              \n",
       "                                                                  2⋅\\alpha⋅\\be\n",
       "\n",
       "____________________________                                                  \n",
       "      2  2                                                                    \n",
       "\\gamma ⋅x  - 2⋅\\gamma⋅x + 1  + 1        2 ⎛                     2⎞    3 ⎛     \n",
       "──────────────────────────────── = 1 + x ⋅⎝\\alpha⋅\\beta + \\gamma ⎠ + x ⋅⎝3⋅\\al\n",
       "    2                                                                         \n",
       "ta⋅x                                                                          \n",
       "\n",
       "                                                                              \n",
       "                                                                              \n",
       "                         3⎞    4 ⎛        2      2                        2   \n",
       "pha⋅\\beta⋅\\gamma + \\gamma ⎠ + x ⋅⎝2⋅\\alpha ⋅\\beta  + 6⋅\\alpha⋅\\beta⋅\\gamma  + \n",
       "                                                                              \n",
       "                                                                              \n",
       "\n",
       "                                                                              \n",
       "                                                                              \n",
       "      4⎞    5 ⎛         2      2                                3         5⎞  \n",
       "\\gamma ⎠ + x ⋅⎝10⋅\\alpha ⋅\\beta ⋅\\gamma + 10⋅\\alpha⋅\\beta⋅\\gamma  + \\gamma ⎠ +\n",
       "                                                                              \n",
       "                                                                              \n",
       "\n",
       "                                                                              \n",
       "                                                                              \n",
       "  6 ⎛        3      3            2      2       2                         4   \n",
       " x ⋅⎝5⋅\\alpha ⋅\\beta  + 30⋅\\alpha ⋅\\beta ⋅\\gamma  + 15⋅\\alpha⋅\\beta⋅\\gamma  + \n",
       "                                                                              \n",
       "                                                                              \n",
       "\n",
       "                                                                              \n",
       "                                                                              \n",
       "      6⎞    7 ⎛         3      3                   2      2       3           \n",
       "\\gamma ⎠ + x ⋅⎝35⋅\\alpha ⋅\\beta ⋅\\gamma + 70⋅\\alpha ⋅\\beta ⋅\\gamma  + 21⋅\\alph\n",
       "                                                                              \n",
       "                                                                              \n",
       "\n",
       "                                                                              \n",
       "                                                                              \n",
       "              5         7⎞    8 ⎛         4      4             3      3       \n",
       "a⋅\\beta⋅\\gamma  + \\gamma ⎠ + x ⋅⎝14⋅\\alpha ⋅\\beta  + 140⋅\\alpha ⋅\\beta ⋅\\gamma\n",
       "                                                                              \n",
       "                                                                              \n",
       "\n",
       "                                                                              \n",
       "                                                                              \n",
       "2             2      2       4                         6         8⎞    9 ⎛    \n",
       "  + 140⋅\\alpha ⋅\\beta ⋅\\gamma  + 28⋅\\alpha⋅\\beta⋅\\gamma  + \\gamma ⎠ + x ⋅⎝126⋅\n",
       "                                                                              \n",
       "                                                                              \n",
       "\n",
       "                                                                              \n",
       "                                                                              \n",
       "      4      4                    3      3       3             2      2       \n",
       "\\alpha ⋅\\beta ⋅\\gamma + 420⋅\\alpha ⋅\\beta ⋅\\gamma  + 252⋅\\alpha ⋅\\beta ⋅\\gamma\n",
       "                                                                              \n",
       "                                                                              \n",
       "\n",
       "                                                          \n",
       "                                                          \n",
       "5                         7         9⎞               ⎛ 10⎞\n",
       "  + 36⋅\\alpha⋅\\beta⋅\\gamma  + \\gamma ⎠ + \\gamma⋅x + O⎝x  ⎠\n",
       "                                                          \n",
       "                                                          "
      ]
     },
     "execution_count": 237,
     "metadata": {},
     "output_type": "execute_result"
    }
   ],
   "source": [
    "motzkin_gf.series(x,n=10)"
   ]
  },
  {
   "cell_type": "code",
   "execution_count": 238,
   "metadata": {
    "collapsed": false,
    "deletable": true,
    "editable": true
   },
   "outputs": [
    {
     "data": {
      "image/png": "[encoded data removed]",
      "text/latex": [
       "$$1 + x + 2 x^{2} + 4 x^{3} + 9 x^{4} + 21 x^{5} + 51 x^{6} + 127 x^{7} + 323 x^{8} + 835 x^{9} + O\\left(x^{10}\\right)$$"
      ],
      "text/plain": [
       "           2      3      4       5       6        7        8        9    ⎛ 10⎞\n",
       "1 + x + 2⋅x  + 4⋅x  + 9⋅x  + 21⋅x  + 51⋅x  + 127⋅x  + 323⋅x  + 835⋅x  + O⎝x  ⎠"
      ]
     },
     "execution_count": 238,
     "metadata": {},
     "output_type": "execute_result"
    }
   ],
   "source": [
    "motzkin_gf(x,1,1,1).series(x,n=10)"
   ]
  },
  {
   "cell_type": "code",
   "execution_count": 294,
   "metadata": {
    "collapsed": false,
    "deletable": true,
    "editable": true
   },
   "outputs": [],
   "source": [
    "class motzkin_p(rec):\n",
    "         \n",
    "    def definition(self, alpha, beta, gamma, eta):\n",
    "        me = self.me()\n",
    "        return cp() | (alpha * me * beta * me) | (gamma * me) | (eta * me)\n",
    "    \n",
    "    def label(self):\n",
    "        return r'\\mathcal{M}^{+}'"
   ]
  },
  {
   "cell_type": "code",
   "execution_count": 295,
   "metadata": {
    "collapsed": false,
    "deletable": true,
    "editable": true
   },
   "outputs": [
    {
     "data": {
      "image/png": "[encoded data removed]",
      "text/latex": [
       "$$\\left [ \\mathcal{M}^{+}{\\left (x,\\gamma,\\beta,\\eta,\\alpha \\right )} = \\frac{- \\eta x - \\gamma x - \\sqrt{- 4 \\alpha \\beta x^{2} + \\eta^{2} x^{2} + 2 \\eta \\gamma x^{2} - 2 \\eta x + \\gamma^{2} x^{2} - 2 \\gamma x + 1} + 1}{2 \\alpha \\beta x^{2}}, \\quad \\mathcal{M}^{+}{\\left (x,\\gamma,\\beta,\\eta,\\alpha \\right )} = \\frac{- \\eta x - \\gamma x + \\sqrt{- 4 \\alpha \\beta x^{2} + \\eta^{2} x^{2} + 2 \\eta \\gamma x^{2} - 2 \\eta x + \\gamma^{2} x^{2} - 2 \\gamma x + 1} + 1}{2 \\alpha \\beta x^{2}}\\right ]$$"
      ],
      "text/plain": [
       "⎡                                                                           __\n",
       "⎢                                                                          ╱  \n",
       "⎢                                                   -\\eta⋅x - \\gamma⋅x - ╲╱  -\n",
       "⎢\\mathcal{M}__{+}(x, \\gamma, \\beta, \\eta, \\alpha) = ──────────────────────────\n",
       "⎢                                                                             \n",
       "⎣                                                                             \n",
       "\n",
       "______________________________________________________________________________\n",
       "                 2       2  2                  2                    2  2      \n",
       " 4⋅\\alpha⋅\\beta⋅x  + \\eta ⋅x  + 2⋅\\eta⋅\\gamma⋅x  - 2⋅\\eta⋅x + \\gamma ⋅x  - 2⋅\\\n",
       "──────────────────────────────────────────────────────────────────────────────\n",
       "                                         2                                    \n",
       "                         2⋅\\alpha⋅\\beta⋅x                                     \n",
       "\n",
       "____________                                                                  \n",
       "                                                                              \n",
       "gamma⋅x + 1  + 1                                                     -\\eta⋅x -\n",
       "────────────────, \\mathcal{M}__{+}(x, \\gamma, \\beta, \\eta, \\alpha) = ─────────\n",
       "                                                                              \n",
       "                                                                              \n",
       "\n",
       "               _______________________________________________________________\n",
       "              ╱                   2       2  2                  2             \n",
       " \\gamma⋅x + ╲╱  - 4⋅\\alpha⋅\\beta⋅x  + \\eta ⋅x  + 2⋅\\eta⋅\\gamma⋅x  - 2⋅\\eta⋅x +\n",
       "──────────────────────────────────────────────────────────────────────────────\n",
       "                                                          2                   \n",
       "                                          2⋅\\alpha⋅\\beta⋅x                    \n",
       "\n",
       "_____________________________    ⎤\n",
       "       2  2                      ⎥\n",
       " \\gamma ⋅x  - 2⋅\\gamma⋅x + 1  + 1⎥\n",
       "─────────────────────────────────⎥\n",
       "                                 ⎥\n",
       "                                 ⎦"
      ]
     },
     "execution_count": 295,
     "metadata": {},
     "output_type": "execute_result"
    }
   ],
   "source": [
    "motzkinp_gfs = motzkin_p(tyvar(alpha*x), tyvar(beta*x), tyvar(gamma*x), tyvar(eta*x),).gf()\n",
    "motzkinp_gfs"
   ]
  },
  {
   "cell_type": "code",
   "execution_count": 298,
   "metadata": {
    "collapsed": true,
    "deletable": true,
    "editable": true
   },
   "outputs": [],
   "source": [
    "motzkinp_gf = motzkinp_gfs[0]"
   ]
  },
  {
   "cell_type": "code",
   "execution_count": 300,
   "metadata": {
    "collapsed": false,
    "deletable": true,
    "editable": true
   },
   "outputs": [
    {
     "data": {
      "image/png": "[encoded data removed]",
      "text/latex": [
       "$$\\mathcal{M}^{+}{\\left (x,\\gamma,\\beta,\\eta,\\alpha \\right )} = \\frac{- \\eta x - \\gamma x - \\sqrt{- 4 \\alpha \\beta x^{2} + \\eta^{2} x^{2} + 2 \\eta \\gamma x^{2} - 2 \\eta x + \\gamma^{2} x^{2} - 2 \\gamma x + 1} + 1}{2 \\alpha \\beta x^{2}} = 1 + x \\left(\\eta + \\gamma\\right) + x^{2} \\left(\\alpha \\beta + \\eta^{2} + 2 \\eta \\gamma + \\gamma^{2}\\right) + x^{3} \\left(3 \\alpha \\beta \\eta + 3 \\alpha \\beta \\gamma + \\eta^{3} + 3 \\eta^{2} \\gamma + 3 \\eta \\gamma^{2} + \\gamma^{3}\\right) + x^{4} \\left(2 \\alpha^{2} \\beta^{2} + 6 \\alpha \\beta \\eta^{2} + 12 \\alpha \\beta \\eta \\gamma + 6 \\alpha \\beta \\gamma^{2} + \\eta^{4} + 4 \\eta^{3} \\gamma + 6 \\eta^{2} \\gamma^{2} + 4 \\eta \\gamma^{3} + \\gamma^{4}\\right) + x^{5} \\left(10 \\alpha^{2} \\beta^{2} \\eta + 10 \\alpha^{2} \\beta^{2} \\gamma + 10 \\alpha \\beta \\eta^{3} + 30 \\alpha \\beta \\eta^{2} \\gamma + 30 \\alpha \\beta \\eta \\gamma^{2} + 10 \\alpha \\beta \\gamma^{3} + \\eta^{5} + 5 \\eta^{4} \\gamma + 10 \\eta^{3} \\gamma^{2} + 10 \\eta^{2} \\gamma^{3} + 5 \\eta \\gamma^{4} + \\gamma^{5}\\right) + O\\left(x^{6}\\right)$$"
      ],
      "text/plain": [
       "                                                                           ___\n",
       "                                                                          ╱   \n",
       "                                                   -\\eta⋅x - \\gamma⋅x - ╲╱  - \n",
       "\\mathcal{M}__{+}(x, \\gamma, \\beta, \\eta, \\alpha) = ───────────────────────────\n",
       "                                                                              \n",
       "                                                                              \n",
       "\n",
       "______________________________________________________________________________\n",
       "                2       2  2                  2                    2  2       \n",
       "4⋅\\alpha⋅\\beta⋅x  + \\eta ⋅x  + 2⋅\\eta⋅\\gamma⋅x  - 2⋅\\eta⋅x + \\gamma ⋅x  - 2⋅\\g\n",
       "──────────────────────────────────────────────────────────────────────────────\n",
       "                                        2                                     \n",
       "                        2⋅\\alpha⋅\\beta⋅x                                      \n",
       "\n",
       "___________                                                                   \n",
       "                                                                              \n",
       "amma⋅x + 1  + 1                            2 ⎛                   2            \n",
       "─────────────── = 1 + x⋅(\\eta + \\gamma) + x ⋅⎝\\alpha⋅\\beta + \\eta  + 2⋅\\eta⋅\\g\n",
       "                                                                              \n",
       "                                                                              \n",
       "\n",
       "                                                                              \n",
       "                                                                              \n",
       "             2⎞    3 ⎛                                                  3     \n",
       "amma + \\gamma ⎠ + x ⋅⎝3⋅\\alpha⋅\\beta⋅\\eta + 3⋅\\alpha⋅\\beta⋅\\gamma + \\eta  + 3⋅\n",
       "                                                                              \n",
       "                                                                              \n",
       "\n",
       "                                                                              \n",
       "                                                                              \n",
       "    2                       2         3⎞    4 ⎛        2      2               \n",
       "\\eta ⋅\\gamma + 3⋅\\eta⋅\\gamma  + \\gamma ⎠ + x ⋅⎝2⋅\\alpha ⋅\\beta  + 6⋅\\alpha⋅\\be\n",
       "                                                                              \n",
       "                                                                              \n",
       "\n",
       "                                                                              \n",
       "                                                                              \n",
       "       2                                                      2       4       \n",
       "ta⋅\\eta  + 12⋅\\alpha⋅\\beta⋅\\eta⋅\\gamma + 6⋅\\alpha⋅\\beta⋅\\gamma  + \\eta  + 4⋅\\e\n",
       "                                                                              \n",
       "                                                                              \n",
       "\n",
       "                                                                              \n",
       "                                                                              \n",
       "  3                2       2                3         4⎞    5 ⎛         2     \n",
       "ta ⋅\\gamma + 6⋅\\eta ⋅\\gamma  + 4⋅\\eta⋅\\gamma  + \\gamma ⎠ + x ⋅⎝10⋅\\alpha ⋅\\bet\n",
       "                                                                              \n",
       "                                                                              \n",
       "\n",
       "                                                                              \n",
       "                                                                              \n",
       " 2                 2      2                              3                    \n",
       "a ⋅\\eta + 10⋅\\alpha ⋅\\beta ⋅\\gamma + 10⋅\\alpha⋅\\beta⋅\\eta  + 30⋅\\alpha⋅\\beta⋅\\\n",
       "                                                                              \n",
       "                                                                              \n",
       "\n",
       "                                                                              \n",
       "                                                                              \n",
       "   2                                     2                         3       5  \n",
       "eta ⋅\\gamma + 30⋅\\alpha⋅\\beta⋅\\eta⋅\\gamma  + 10⋅\\alpha⋅\\beta⋅\\gamma  + \\eta  +\n",
       "                                                                              \n",
       "                                                                              \n",
       "\n",
       "                                                                              \n",
       "                                                                              \n",
       "       4                 3       2          2       3                4        \n",
       " 5⋅\\eta ⋅\\gamma + 10⋅\\eta ⋅\\gamma  + 10⋅\\eta ⋅\\gamma  + 5⋅\\eta⋅\\gamma  + \\gamm\n",
       "                                                                              \n",
       "                                                                              \n",
       "\n",
       "           \n",
       "           \n",
       " 5⎞    ⎛ 6⎞\n",
       "a ⎠ + O⎝x ⎠\n",
       "           \n",
       "           "
      ]
     },
     "execution_count": 300,
     "metadata": {},
     "output_type": "execute_result"
    }
   ],
   "source": [
    "motzkinp_gf.series(x,n=6)"
   ]
  },
  {
   "cell_type": "code",
   "execution_count": 301,
   "metadata": {
    "collapsed": false,
    "deletable": true,
    "editable": true
   },
   "outputs": [
    {
     "data": {
      "image/png": "[encoded data removed]",
      "text/latex": [
       "$$1 + 2 x + 5 x^{2} + 14 x^{3} + 42 x^{4} + 132 x^{5} + 429 x^{6} + 1430 x^{7} + 4862 x^{8} + 16796 x^{9} + O\\left(x^{10}\\right)$$"
      ],
      "text/plain": [
       "             2       3       4        5        6         7         8          \n",
       "1 + 2⋅x + 5⋅x  + 14⋅x  + 42⋅x  + 132⋅x  + 429⋅x  + 1430⋅x  + 4862⋅x  + 16796⋅x\n",
       "\n",
       "9    ⎛ 10⎞\n",
       "  + O⎝x  ⎠"
      ]
     },
     "execution_count": 301,
     "metadata": {},
     "output_type": "execute_result"
    }
   ],
   "source": [
    "motzkinp_gf(x,1,1,1,1).series(x,n=10)"
   ]
  },
  {
   "cell_type": "code",
   "execution_count": 245,
   "metadata": {
    "collapsed": true,
    "deletable": true,
    "editable": true
   },
   "outputs": [],
   "source": [
    "class fibo(rec):\n",
    "         \n",
    "    def definition(self, alpha, beta):\n",
    "        me = self.me()\n",
    "        return cp() | alpha | ((beta | (alpha * beta)) * me)\n",
    "    \n",
    "    def label(self):\n",
    "        return r'\\mathcal{F}'"
   ]
  },
  {
   "cell_type": "code",
   "execution_count": 248,
   "metadata": {
    "collapsed": false,
    "deletable": true,
    "editable": true
   },
   "outputs": [
    {
     "data": {
      "image/png": "[encoded data removed]",
      "text/latex": [
       "$$\\mathcal{F}{\\left (\\beta,x,\\alpha \\right )} = - \\frac{\\alpha x + 1}{\\alpha \\beta x^{2} + \\beta x - 1}$$"
      ],
      "text/plain": [
       "                                       -(\\alpha⋅x + 1)       \n",
       "\\mathcal{F}(\\beta, x, \\alpha) = ─────────────────────────────\n",
       "                                              2              \n",
       "                                \\alpha⋅\\beta⋅x  + \\beta⋅x - 1"
      ]
     },
     "execution_count": 248,
     "metadata": {},
     "output_type": "execute_result"
    }
   ],
   "source": [
    "fibo_gf, = fibo(tyvar(alpha*x), tyvar(beta*x),).gf()\n",
    "fibo_gf"
   ]
  },
  {
   "cell_type": "code",
   "execution_count": 249,
   "metadata": {
    "collapsed": false,
    "deletable": true,
    "editable": true
   },
   "outputs": [
    {
     "data": {
      "image/png": "[encoded data removed]",
      "text/latex": [
       "$$\\mathcal{F}{\\left (\\beta,x,\\alpha \\right )} = - \\frac{\\alpha x + 1}{\\alpha \\beta x^{2} + \\beta x - 1} = 1 + x \\left(\\alpha + \\beta\\right) + x^{2} \\left(2 \\alpha \\beta + \\beta^{2}\\right) + x^{3} \\left(\\alpha^{2} \\beta + 3 \\alpha \\beta^{2} + \\beta^{3}\\right) + x^{4} \\left(3 \\alpha^{2} \\beta^{2} + 4 \\alpha \\beta^{3} + \\beta^{4}\\right) + x^{5} \\left(\\alpha^{3} \\beta^{2} + 6 \\alpha^{2} \\beta^{3} + 5 \\alpha \\beta^{4} + \\beta^{5}\\right) + x^{6} \\left(4 \\alpha^{3} \\beta^{3} + 10 \\alpha^{2} \\beta^{4} + 6 \\alpha \\beta^{5} + \\beta^{6}\\right) + x^{7} \\left(\\alpha^{4} \\beta^{3} + 10 \\alpha^{3} \\beta^{4} + 15 \\alpha^{2} \\beta^{5} + 7 \\alpha \\beta^{6} + \\beta^{7}\\right) + x^{8} \\left(5 \\alpha^{4} \\beta^{4} + 20 \\alpha^{3} \\beta^{5} + 21 \\alpha^{2} \\beta^{6} + 8 \\alpha \\beta^{7} + \\beta^{8}\\right) + x^{9} \\left(\\alpha^{5} \\beta^{4} + 15 \\alpha^{4} \\beta^{5} + 35 \\alpha^{3} \\beta^{6} + 28 \\alpha^{2} \\beta^{7} + 9 \\alpha \\beta^{8} + \\beta^{9}\\right) + O\\left(x^{10}\\right)$$"
      ],
      "text/plain": [
       "                                       -(\\alpha⋅x + 1)                        \n",
       "\\mathcal{F}(\\beta, x, \\alpha) = ───────────────────────────── = 1 + x⋅(\\alpha \n",
       "                                              2                               \n",
       "                                \\alpha⋅\\beta⋅x  + \\beta⋅x - 1                 \n",
       "\n",
       "            2 ⎛                      2⎞    3 ⎛      2                       2 \n",
       "+ \\beta) + x ⋅⎝2⋅\\alpha⋅\\beta + \\beta ⎠ + x ⋅⎝\\alpha ⋅\\beta + 3⋅\\alpha⋅\\beta  \n",
       "                                                                              \n",
       "                                                                              \n",
       "\n",
       "       3⎞    4 ⎛        2      2                 3        4⎞    5 ⎛      3    \n",
       "+ \\beta ⎠ + x ⋅⎝3⋅\\alpha ⋅\\beta  + 4⋅\\alpha⋅\\beta  + \\beta ⎠ + x ⋅⎝\\alpha ⋅\\be\n",
       "                                                                              \n",
       "                                                                              \n",
       "\n",
       "  2           2      3                 4        5⎞    6 ⎛        3      3     \n",
       "ta  + 6⋅\\alpha ⋅\\beta  + 5⋅\\alpha⋅\\beta  + \\beta ⎠ + x ⋅⎝4⋅\\alpha ⋅\\beta  + 10\n",
       "                                                                              \n",
       "                                                                              \n",
       "\n",
       "       2      4                 5        6⎞    7 ⎛      4      3            3 \n",
       "⋅\\alpha ⋅\\beta  + 6⋅\\alpha⋅\\beta  + \\beta ⎠ + x ⋅⎝\\alpha ⋅\\beta  + 10⋅\\alpha ⋅\n",
       "                                                                              \n",
       "                                                                              \n",
       "\n",
       "     4            2      5                 6        7⎞    8 ⎛        4      4 \n",
       "\\beta  + 15⋅\\alpha ⋅\\beta  + 7⋅\\alpha⋅\\beta  + \\beta ⎠ + x ⋅⎝5⋅\\alpha ⋅\\beta  \n",
       "                                                                              \n",
       "                                                                              \n",
       "\n",
       "           3      5            2      6                 7        8⎞    9 ⎛    \n",
       "+ 20⋅\\alpha ⋅\\beta  + 21⋅\\alpha ⋅\\beta  + 8⋅\\alpha⋅\\beta  + \\beta ⎠ + x ⋅⎝\\alp\n",
       "                                                                              \n",
       "                                                                              \n",
       "\n",
       "  5      4            4      5            3      6            2      7        \n",
       "ha ⋅\\beta  + 15⋅\\alpha ⋅\\beta  + 35⋅\\alpha ⋅\\beta  + 28⋅\\alpha ⋅\\beta  + 9⋅\\al\n",
       "                                                                              \n",
       "                                                                              \n",
       "\n",
       "         8        9⎞    ⎛ 10⎞\n",
       "pha⋅\\beta  + \\beta ⎠ + O⎝x  ⎠\n",
       "                             \n",
       "                             "
      ]
     },
     "execution_count": 249,
     "metadata": {},
     "output_type": "execute_result"
    }
   ],
   "source": [
    "fibo_gf.series(x,n=10)"
   ]
  },
  {
   "cell_type": "code",
   "execution_count": 250,
   "metadata": {
    "collapsed": false,
    "deletable": true,
    "editable": true
   },
   "outputs": [
    {
     "data": {
      "image/png": "[encoded data removed]",
      "text/latex": [
       "$$1 + 2 x + 3 x^{2} + 5 x^{3} + 8 x^{4} + 13 x^{5} + 21 x^{6} + 34 x^{7} + 55 x^{8} + 89 x^{9} + O\\left(x^{10}\\right)$$"
      ],
      "text/plain": [
       "             2      3      4       5       6       7       8       9    ⎛ 10⎞\n",
       "1 + 2⋅x + 3⋅x  + 5⋅x  + 8⋅x  + 13⋅x  + 21⋅x  + 34⋅x  + 55⋅x  + 89⋅x  + O⎝x  ⎠"
      ]
     },
     "execution_count": 250,
     "metadata": {},
     "output_type": "execute_result"
    }
   ],
   "source": [
    "fibo_gf(1,x,1).series(x,n=10)"
   ]
  },
  {
   "cell_type": "code",
   "execution_count": 512,
   "metadata": {
    "collapsed": false,
    "deletable": true,
    "editable": true
   },
   "outputs": [
    {
     "data": {
      "image/png": "[encoded data removed]",
      "text/latex": [
       "$$\\mathcal{L}{\\left (x \\right )} = - \\frac{1}{x - 1} = 1 + x + 2 x^{2} + 6 x^{3} + 24 x^{4} + 120 x^{5} + 720 x^{6} + 5040 x^{7} + 40320 x^{8} + 362880 x^{9} + O\\left(x^{10}\\right)$$"
      ],
      "text/plain": [
       "                  -1                2      3       4        5        6        \n",
       "\\mathcal{L}(x) = ───── = 1 + x + 2⋅x  + 6⋅x  + 24⋅x  + 120⋅x  + 720⋅x  + 5040⋅\n",
       "                 x - 1                                                        \n",
       "\n",
       " 7          8           9    ⎛ 10⎞\n",
       "x  + 40320⋅x  + 362880⋅x  + O⎝x  ⎠\n",
       "                                  "
      ]
     },
     "execution_count": 512,
     "metadata": {},
     "output_type": "execute_result"
    }
   ],
   "source": [
    "lst_of_truth_gf, = lst(tyvar(x)).gf()\n",
    "lst_of_truth_gf.series(x, n=10, is_exp=True)"
   ]
  },
  {
   "cell_type": "code",
   "execution_count": 520,
   "metadata": {
    "collapsed": false,
    "deletable": true,
    "editable": true
   },
   "outputs": [
    {
     "data": {
      "image/png": "[encoded data removed]",
      "text/latex": [
       "$$\\mathcal{L}{\\left ({w}_{1},x,{w}_{0} \\right )} = - \\frac{1}{x {w}_{0} + x {w}_{1} - 1} = 1 + x \\left({w}_{0} + {w}_{1}\\right) + x^{2} \\left(2 {w}_{0}^{2} + 4 {w}_{0} {w}_{1} + 2 {w}_{1}^{2}\\right) + x^{3} \\left(6 {w}_{0}^{3} + 18 {w}_{0}^{2} {w}_{1} + 18 {w}_{0} {w}_{1}^{2} + 6 {w}_{1}^{3}\\right) + x^{4} \\left(24 {w}_{0}^{4} + 96 {w}_{0}^{3} {w}_{1} + 144 {w}_{0}^{2} {w}_{1}^{2} + 96 {w}_{0} {w}_{1}^{3} + 24 {w}_{1}^{4}\\right) + x^{5} \\left(120 {w}_{0}^{5} + 600 {w}_{0}^{4} {w}_{1} + 1200 {w}_{0}^{3} {w}_{1}^{2} + 1200 {w}_{0}^{2} {w}_{1}^{3} + 600 {w}_{0} {w}_{1}^{4} + 120 {w}_{1}^{5}\\right) + x^{6} \\left(720 {w}_{0}^{6} + 4320 {w}_{0}^{5} {w}_{1} + 10800 {w}_{0}^{4} {w}_{1}^{2} + 14400 {w}_{0}^{3} {w}_{1}^{3} + 10800 {w}_{0}^{2} {w}_{1}^{4} + 4320 {w}_{0} {w}_{1}^{5} + 720 {w}_{1}^{6}\\right) + x^{7} \\left(5040 {w}_{0}^{7} + 35280 {w}_{0}^{6} {w}_{1} + 105840 {w}_{0}^{5} {w}_{1}^{2} + 176400 {w}_{0}^{4} {w}_{1}^{3} + 176400 {w}_{0}^{3} {w}_{1}^{4} + 105840 {w}_{0}^{2} {w}_{1}^{5} + 35280 {w}_{0} {w}_{1}^{6} + 5040 {w}_{1}^{7}\\right) + x^{8} \\left(40320 {w}_{0}^{8} + 322560 {w}_{0}^{7} {w}_{1} + 1128960 {w}_{0}^{6} {w}_{1}^{2} + 2257920 {w}_{0}^{5} {w}_{1}^{3} + 2822400 {w}_{0}^{4} {w}_{1}^{4} + 2257920 {w}_{0}^{3} {w}_{1}^{5} + 1128960 {w}_{0}^{2} {w}_{1}^{6} + 322560 {w}_{0} {w}_{1}^{7} + 40320 {w}_{1}^{8}\\right) + x^{9} \\left(362880 {w}_{0}^{9} + 3265920 {w}_{0}^{8} {w}_{1} + 13063680 {w}_{0}^{7} {w}_{1}^{2} + 30481920 {w}_{0}^{6} {w}_{1}^{3} + 45722880 {w}_{0}^{5} {w}_{1}^{4} + 45722880 {w}_{0}^{4} {w}_{1}^{5} + 30481920 {w}_{0}^{3} {w}_{1}^{6} + 13063680 {w}_{0}^{2} {w}_{1}^{7} + 3265920 {w}_{0} {w}_{1}^{8} + 362880 {w}_{1}^{9}\\right) + O\\left(x^{10}\\right)$$"
      ],
      "text/plain": [
       "                                     -1                                   2 ⎛ \n",
       "\\mathcal{L}(w[1], x, w[0]) = ─────────────────── = 1 + x⋅(w[0] + w[1]) + x ⋅⎝2\n",
       "                             x⋅w[0] + x⋅w[1] - 1                              \n",
       "\n",
       "     2                       2⎞    3 ⎛      3          2                    2 \n",
       "⋅w[0]  + 4⋅w[0]⋅w[1] + 2⋅w[1] ⎠ + x ⋅⎝6⋅w[0]  + 18⋅w[0] ⋅w[1] + 18⋅w[0]⋅w[1]  \n",
       "                                                                              \n",
       "\n",
       "        3⎞    4 ⎛       4          3                2     2               3   \n",
       "+ 6⋅w[1] ⎠ + x ⋅⎝24⋅w[0]  + 96⋅w[0] ⋅w[1] + 144⋅w[0] ⋅w[1]  + 96⋅w[0]⋅w[1]  + \n",
       "                                                                              \n",
       "\n",
       "       4⎞    5 ⎛        5           4                 3     2            2    \n",
       "24⋅w[1] ⎠ + x ⋅⎝120⋅w[0]  + 600⋅w[0] ⋅w[1] + 1200⋅w[0] ⋅w[1]  + 1200⋅w[0] ⋅w[1\n",
       "                                                                              \n",
       "\n",
       " 3                4           5⎞    6 ⎛        6            5                 \n",
       "]  + 600⋅w[0]⋅w[1]  + 120⋅w[1] ⎠ + x ⋅⎝720⋅w[0]  + 4320⋅w[0] ⋅w[1] + 10800⋅w[0\n",
       "                                                                              \n",
       "\n",
       " 4     2             3     3             2     4                 5           6\n",
       "] ⋅w[1]  + 14400⋅w[0] ⋅w[1]  + 10800⋅w[0] ⋅w[1]  + 4320⋅w[0]⋅w[1]  + 720⋅w[1] \n",
       "                                                                              \n",
       "\n",
       "⎞    7 ⎛         7             6                   5     2              4     \n",
       "⎠ + x ⋅⎝5040⋅w[0]  + 35280⋅w[0] ⋅w[1] + 105840⋅w[0] ⋅w[1]  + 176400⋅w[0] ⋅w[1]\n",
       "                                                                              \n",
       "\n",
       "3              3     4              2     5                  6            7⎞  \n",
       "  + 176400⋅w[0] ⋅w[1]  + 105840⋅w[0] ⋅w[1]  + 35280⋅w[0]⋅w[1]  + 5040⋅w[1] ⎠ +\n",
       "                                                                              \n",
       "\n",
       "  8 ⎛          8              7                    6     2               5    \n",
       " x ⋅⎝40320⋅w[0]  + 322560⋅w[0] ⋅w[1] + 1128960⋅w[0] ⋅w[1]  + 2257920⋅w[0] ⋅w[1\n",
       "                                                                              \n",
       "\n",
       " 3               4     4               3     5               2     6          \n",
       "]  + 2822400⋅w[0] ⋅w[1]  + 2257920⋅w[0] ⋅w[1]  + 1128960⋅w[0] ⋅w[1]  + 322560⋅\n",
       "                                                                              \n",
       "\n",
       "         7             8⎞    9 ⎛           9               8                  \n",
       "w[0]⋅w[1]  + 40320⋅w[1] ⎠ + x ⋅⎝362880⋅w[0]  + 3265920⋅w[0] ⋅w[1] + 13063680⋅w\n",
       "                                                                              \n",
       "\n",
       "   7     2                6     3                5     4                4     \n",
       "[0] ⋅w[1]  + 30481920⋅w[0] ⋅w[1]  + 45722880⋅w[0] ⋅w[1]  + 45722880⋅w[0] ⋅w[1]\n",
       "                                                                              \n",
       "\n",
       "5                3     6                2     7                    8          \n",
       "  + 30481920⋅w[0] ⋅w[1]  + 13063680⋅w[0] ⋅w[1]  + 3265920⋅w[0]⋅w[1]  + 362880⋅\n",
       "                                                                              \n",
       "\n",
       "    9⎞    ⎛ 10⎞\n",
       "w[1] ⎠ + O⎝x  ⎠\n",
       "               "
      ]
     },
     "execution_count": 520,
     "metadata": {},
     "output_type": "execute_result"
    }
   ],
   "source": [
    "lst_of_boolean_gf.series(x,n=10,is_exp=True)"
   ]
  },
  {
   "cell_type": "code",
   "execution_count": 515,
   "metadata": {
    "collapsed": false,
    "deletable": true,
    "editable": true
   },
   "outputs": [
    {
     "data": {
      "image/png": "[encoded data removed]",
      "text/latex": [
       "$$1 + 2 x + 8 x^{2} + 48 x^{3} + 384 x^{4} + 3840 x^{5} + 46080 x^{6} + 645120 x^{7} + 10321920 x^{8} + 185794560 x^{9} + O\\left(x^{10}\\right)$$"
      ],
      "text/plain": [
       "             2       3        4         5          6           7             8\n",
       "1 + 2⋅x + 8⋅x  + 48⋅x  + 384⋅x  + 3840⋅x  + 46080⋅x  + 645120⋅x  + 10321920⋅x \n",
       "\n",
       "              9    ⎛ 10⎞\n",
       " + 185794560⋅x  + O⎝x  ⎠"
      ]
     },
     "execution_count": 515,
     "metadata": {},
     "output_type": "execute_result"
    }
   ],
   "source": [
    "_.rhs.rhs.subs({w[0]:1,w[1]:1})"
   ]
  },
  {
   "cell_type": "code",
   "execution_count": 521,
   "metadata": {
    "collapsed": false,
    "deletable": true,
    "editable": true
   },
   "outputs": [
    {
     "data": {
      "image/png": "[encoded data removed]",
      "text/latex": [
       "$$x^{9} \\left({w}_{0}^{9} + 9 {w}_{0}^{8} {w}_{1} + 36 {w}_{0}^{7} {w}_{1}^{2} + 84 {w}_{0}^{6} {w}_{1}^{3} + 126 {w}_{0}^{5} {w}_{1}^{4} + 126 {w}_{0}^{4} {w}_{1}^{5} + 84 {w}_{0}^{3} {w}_{1}^{6} + 36 {w}_{0}^{2} {w}_{1}^{7} + 9 {w}_{0} {w}_{1}^{8} + {w}_{1}^{9}\\right) + x^{8} \\left({w}_{0}^{8} + 8 {w}_{0}^{7} {w}_{1} + 28 {w}_{0}^{6} {w}_{1}^{2} + 56 {w}_{0}^{5} {w}_{1}^{3} + 70 {w}_{0}^{4} {w}_{1}^{4} + 56 {w}_{0}^{3} {w}_{1}^{5} + 28 {w}_{0}^{2} {w}_{1}^{6} + 8 {w}_{0} {w}_{1}^{7} + {w}_{1}^{8}\\right) + x^{7} \\left({w}_{0}^{7} + 7 {w}_{0}^{6} {w}_{1} + 21 {w}_{0}^{5} {w}_{1}^{2} + 35 {w}_{0}^{4} {w}_{1}^{3} + 35 {w}_{0}^{3} {w}_{1}^{4} + 21 {w}_{0}^{2} {w}_{1}^{5} + 7 {w}_{0} {w}_{1}^{6} + {w}_{1}^{7}\\right) + x^{6} \\left({w}_{0}^{6} + 6 {w}_{0}^{5} {w}_{1} + 15 {w}_{0}^{4} {w}_{1}^{2} + 20 {w}_{0}^{3} {w}_{1}^{3} + 15 {w}_{0}^{2} {w}_{1}^{4} + 6 {w}_{0} {w}_{1}^{5} + {w}_{1}^{6}\\right) + x^{5} \\left({w}_{0}^{5} + 5 {w}_{0}^{4} {w}_{1} + 10 {w}_{0}^{3} {w}_{1}^{2} + 10 {w}_{0}^{2} {w}_{1}^{3} + 5 {w}_{0} {w}_{1}^{4} + {w}_{1}^{5}\\right) + x^{4} \\left({w}_{0}^{4} + 4 {w}_{0}^{3} {w}_{1} + 6 {w}_{0}^{2} {w}_{1}^{2} + 4 {w}_{0} {w}_{1}^{3} + {w}_{1}^{4}\\right) + x^{3} \\left({w}_{0}^{3} + 3 {w}_{0}^{2} {w}_{1} + 3 {w}_{0} {w}_{1}^{2} + {w}_{1}^{3}\\right) + x^{2} \\left({w}_{0}^{2} + 2 {w}_{0} {w}_{1} + {w}_{1}^{2}\\right) + x \\left({w}_{0} + {w}_{1}\\right)$$"
      ],
      "text/plain": [
       " 9 ⎛    9         8               7     2          6     3           5     4  \n",
       "x ⋅⎝w[0]  + 9⋅w[0] ⋅w[1] + 36⋅w[0] ⋅w[1]  + 84⋅w[0] ⋅w[1]  + 126⋅w[0] ⋅w[1]  +\n",
       "\n",
       "         4     5          3     6          2     7              8       9⎞    \n",
       " 126⋅w[0] ⋅w[1]  + 84⋅w[0] ⋅w[1]  + 36⋅w[0] ⋅w[1]  + 9⋅w[0]⋅w[1]  + w[1] ⎠ + x\n",
       "\n",
       "8 ⎛    8         7               6     2          5     3          4     4    \n",
       " ⋅⎝w[0]  + 8⋅w[0] ⋅w[1] + 28⋅w[0] ⋅w[1]  + 56⋅w[0] ⋅w[1]  + 70⋅w[0] ⋅w[1]  + 5\n",
       "\n",
       "      3     5          2     6              7       8⎞    7 ⎛    7         6  \n",
       "6⋅w[0] ⋅w[1]  + 28⋅w[0] ⋅w[1]  + 8⋅w[0]⋅w[1]  + w[1] ⎠ + x ⋅⎝w[0]  + 7⋅w[0] ⋅w\n",
       "\n",
       "             5     2          4     3          3     4          2     5       \n",
       "[1] + 21⋅w[0] ⋅w[1]  + 35⋅w[0] ⋅w[1]  + 35⋅w[0] ⋅w[1]  + 21⋅w[0] ⋅w[1]  + 7⋅w[\n",
       "\n",
       "       6       7⎞    6 ⎛    6         5               4     2          3     3\n",
       "0]⋅w[1]  + w[1] ⎠ + x ⋅⎝w[0]  + 6⋅w[0] ⋅w[1] + 15⋅w[0] ⋅w[1]  + 20⋅w[0] ⋅w[1] \n",
       "\n",
       "          2     4              5       6⎞    5 ⎛    5         4               \n",
       " + 15⋅w[0] ⋅w[1]  + 6⋅w[0]⋅w[1]  + w[1] ⎠ + x ⋅⎝w[0]  + 5⋅w[0] ⋅w[1] + 10⋅w[0]\n",
       "\n",
       "3     2          2     3              4       5⎞    4 ⎛    4         3        \n",
       " ⋅w[1]  + 10⋅w[0] ⋅w[1]  + 5⋅w[0]⋅w[1]  + w[1] ⎠ + x ⋅⎝w[0]  + 4⋅w[0] ⋅w[1] + \n",
       "\n",
       "      2     2              3       4⎞    3 ⎛    3         2                   \n",
       "6⋅w[0] ⋅w[1]  + 4⋅w[0]⋅w[1]  + w[1] ⎠ + x ⋅⎝w[0]  + 3⋅w[0] ⋅w[1] + 3⋅w[0]⋅w[1]\n",
       "\n",
       "2       3⎞    2 ⎛    2                     2⎞                  \n",
       "  + w[1] ⎠ + x ⋅⎝w[0]  + 2⋅w[0]⋅w[1] + w[1] ⎠ + x⋅(w[0] + w[1])"
      ]
     },
     "execution_count": 521,
     "metadata": {},
     "output_type": "execute_result"
    }
   ],
   "source": [
    "sum((_.rhs.rhs.coeff(x,i)/factorial(i))*x**i for i in range(1,10))"
   ]
  },
  {
   "cell_type": "code",
   "execution_count": 17,
   "metadata": {
    "collapsed": true,
    "deletable": true,
    "editable": true
   },
   "outputs": [],
   "source": [
    "class powerset(ty):\n",
    "        \n",
    "    def gf_rhs(self, ty):\n",
    "        return [exp(self.mulfactor() * gf.rhs) for gf in ty.gf()]\n",
    "    \n",
    "    def mulfactor(self):\n",
    "        return 1\n",
    "    \n",
    "    def label(self):\n",
    "        return r'\\mathcal{P}'"
   ]
  },
  {
   "cell_type": "code",
   "execution_count": 478,
   "metadata": {
    "collapsed": false,
    "deletable": true,
    "editable": true
   },
   "outputs": [
    {
     "data": {
      "image/png": "[encoded data removed]",
      "text/latex": [
       "$$\\mathcal{P}{\\left (\\alpha \\right )} = e^{- \\frac{\\alpha}{\\alpha - 1}}$$"
      ],
      "text/plain": [
       "                        -\\alpha  \n",
       "                       ──────────\n",
       "                       \\alpha - 1\n",
       "\\mathcal{P}(\\alpha) = ℯ          "
      ]
     },
     "execution_count": 478,
     "metadata": {},
     "output_type": "execute_result"
    }
   ],
   "source": [
    "powerset_of_tyvar_gf, = (2**(nnlst(tyvar(alpha)))).gf()\n",
    "powerset_of_tyvar_gf"
   ]
  },
  {
   "cell_type": "code",
   "execution_count": 479,
   "metadata": {
    "collapsed": false,
    "deletable": true,
    "editable": true
   },
   "outputs": [
    {
     "data": {
      "image/png": "[encoded data removed]",
      "text/latex": [
       "$$\\mathcal{P}{\\left (\\alpha \\right )} = e^{- \\frac{\\alpha}{\\alpha - 1}} = 1 + \\alpha + 3 \\alpha^{2} + 13 \\alpha^{3} + 73 \\alpha^{4} + 501 \\alpha^{5} + 4051 \\alpha^{6} + 37633 \\alpha^{7} + 394353 \\alpha^{8} + 4596553 \\alpha^{9} + O\\left(\\alpha^{10}\\right)$$"
      ],
      "text/plain": [
       "                        -\\alpha                                               \n",
       "                       ──────────                                             \n",
       "                       \\alpha - 1                        2            3       \n",
       "\\mathcal{P}(\\alpha) = ℯ           = 1 + \\alpha + 3⋅\\alpha  + 13⋅\\alpha  + 73⋅\\\n",
       "\n",
       "                                                                              \n",
       "                                                                              \n",
       "     4             5              6               7                8          \n",
       "alpha  + 501⋅\\alpha  + 4051⋅\\alpha  + 37633⋅\\alpha  + 394353⋅\\alpha  + 4596553\n",
       "\n",
       "                      \n",
       "                      \n",
       "       9    ⎛      10⎞\n",
       "⋅\\alpha  + O⎝\\alpha  ⎠"
      ]
     },
     "execution_count": 479,
     "metadata": {},
     "output_type": "execute_result"
    }
   ],
   "source": [
    "powerset_of_tyvar_gf.series(alpha, n=10, is_exp=True)"
   ]
  },
  {
   "cell_type": "code",
   "execution_count": 480,
   "metadata": {
    "collapsed": false,
    "deletable": true,
    "editable": true
   },
   "outputs": [
    {
     "data": {
      "image/png": "[encoded data removed]",
      "text/latex": [
       "$$\\mathcal{P}{\\left ({w}_{1},x,{w}_{0} \\right )} = e^{- \\frac{x \\left({w}_{0} + {w}_{1}\\right)}{x {w}_{0} + x {w}_{1} - 1}}$$"
      ],
      "text/plain": [
       "                               -x⋅(w[0] + w[1])  \n",
       "                              ───────────────────\n",
       "                              x⋅w[0] + x⋅w[1] - 1\n",
       "\\mathcal{P}(w[1], x, w[0]) = ℯ                   "
      ]
     },
     "execution_count": 480,
     "metadata": {},
     "output_type": "execute_result"
    }
   ],
   "source": [
    "powerset_of_tyvar_gf, = (2**(nnlst(boolean))).gf()\n",
    "powerset_of_tyvar_gf"
   ]
  },
  {
   "cell_type": "code",
   "execution_count": 481,
   "metadata": {
    "collapsed": false,
    "deletable": true,
    "editable": true
   },
   "outputs": [
    {
     "data": {
      "image/png": "[encoded data removed]",
      "text/latex": [
       "$$\\mathcal{P}{\\left ({w}_{1},x,{w}_{0} \\right )} = e^{- \\frac{x \\left({w}_{0} + {w}_{1}\\right)}{x {w}_{0} + x {w}_{1} - 1}} = 1 + x \\left({w}_{0} + {w}_{1}\\right) + x^{2} \\left(3 {w}_{0}^{2} + 6 {w}_{0} {w}_{1} + 3 {w}_{1}^{2}\\right) + x^{3} \\left(13 {w}_{0}^{3} + 39 {w}_{0}^{2} {w}_{1} + 39 {w}_{0} {w}_{1}^{2} + 13 {w}_{1}^{3}\\right) + x^{4} \\left(73 {w}_{0}^{4} + 292 {w}_{0}^{3} {w}_{1} + 438 {w}_{0}^{2} {w}_{1}^{2} + 292 {w}_{0} {w}_{1}^{3} + 73 {w}_{1}^{4}\\right) + O\\left(x^{5}\\right)$$"
      ],
      "text/plain": [
       "                               -x⋅(w[0] + w[1])                               \n",
       "                              ───────────────────                             \n",
       "                              x⋅w[0] + x⋅w[1] - 1                          2 ⎛\n",
       "\\mathcal{P}(w[1], x, w[0]) = ℯ                    = 1 + x⋅(w[0] + w[1]) + x ⋅⎝\n",
       "\n",
       "                                                                              \n",
       "                                                                              \n",
       "      2                       2⎞    3 ⎛       3          2                    \n",
       "3⋅w[0]  + 6⋅w[0]⋅w[1] + 3⋅w[1] ⎠ + x ⋅⎝13⋅w[0]  + 39⋅w[0] ⋅w[1] + 39⋅w[0]⋅w[1]\n",
       "\n",
       "                                                                              \n",
       "                                                                              \n",
       "2          3⎞    4 ⎛       4           3                2     2               \n",
       "  + 13⋅w[1] ⎠ + x ⋅⎝73⋅w[0]  + 292⋅w[0] ⋅w[1] + 438⋅w[0] ⋅w[1]  + 292⋅w[0]⋅w[1\n",
       "\n",
       "                      \n",
       "                      \n",
       " 3          4⎞    ⎛ 5⎞\n",
       "]  + 73⋅w[1] ⎠ + O⎝x ⎠"
      ]
     },
     "execution_count": 481,
     "metadata": {},
     "output_type": "execute_result"
    }
   ],
   "source": [
    "powerset_of_tyvar_gf.series(x, n=5, is_exp=True)"
   ]
  },
  {
   "cell_type": "code",
   "execution_count": 421,
   "metadata": {
    "collapsed": false,
    "deletable": true,
    "editable": true
   },
   "outputs": [
    {
     "data": {
      "image/png": "[encoded data removed]",
      "text/latex": [
       "$$1 + 2 x + 12 x^{2} + 104 x^{3} + 1168 x^{4} + O\\left(x^{5}\\right)$$"
      ],
      "text/plain": [
       "              2        3         4    ⎛ 5⎞\n",
       "1 + 2⋅x + 12⋅x  + 104⋅x  + 1168⋅x  + O⎝x ⎠"
      ]
     },
     "execution_count": 421,
     "metadata": {},
     "output_type": "execute_result"
    }
   ],
   "source": [
    "_.rhs.rhs.subs({w[0]:1,w[1]:1})"
   ]
  },
  {
   "cell_type": "code",
   "execution_count": 273,
   "metadata": {
    "collapsed": false,
    "deletable": true,
    "editable": true
   },
   "outputs": [
    {
     "data": {
      "image/png": "[encoded data removed]",
      "text/latex": [
       "$$\\mathcal{P}{\\left (\\alpha \\right )} = e^{\\frac{- \\sqrt{- 4 \\alpha + 1} + 1}{2 \\alpha}}$$"
      ],
      "text/plain": [
       "                           _______________    \n",
       "                       - ╲╱ -4⋅\\alpha + 1  + 1\n",
       "                       ───────────────────────\n",
       "                               2⋅\\alpha       \n",
       "\\mathcal{P}(\\alpha) = ℯ                       "
      ]
     },
     "execution_count": 273,
     "metadata": {},
     "output_type": "execute_result"
    }
   ],
   "source": [
    "powerset_of_tyvar_gf, _ = (2**(bin_tree(tyvar(alpha)))).gf()\n",
    "powerset_of_tyvar_gf"
   ]
  },
  {
   "cell_type": "code",
   "execution_count": 274,
   "metadata": {
    "collapsed": false,
    "deletable": true,
    "editable": true
   },
   "outputs": [
    {
     "data": {
      "image/png": "[encoded data removed]",
      "text/latex": [
       "$$\\mathcal{P}{\\left (\\alpha \\right )} = e^{\\frac{- \\sqrt{- 4 \\alpha + 1} + 1}{2 \\alpha}} = e + e \\alpha + 5 e \\alpha^{2} + 43 e \\alpha^{3} + 529 e \\alpha^{4} + 8501 e \\alpha^{5} + 169021 e \\alpha^{6} + 4010455 e \\alpha^{7} + 110676833 e \\alpha^{8} + 3484717129 e \\alpha^{9} + O\\left(\\alpha^{10}\\right)$$"
      ],
      "text/plain": [
       "                           _______________                                    \n",
       "                       - ╲╱ -4⋅\\alpha + 1  + 1                                \n",
       "                       ───────────────────────                                \n",
       "                               2⋅\\alpha                                   2   \n",
       "\\mathcal{P}(\\alpha) = ℯ                        = ℯ + ℯ⋅\\alpha + 5⋅ℯ⋅\\alpha  + \n",
       "\n",
       "                                                                              \n",
       "                                                                              \n",
       "                                                                              \n",
       "           3               4                5                  6              \n",
       "43⋅ℯ⋅\\alpha  + 529⋅ℯ⋅\\alpha  + 8501⋅ℯ⋅\\alpha  + 169021⋅ℯ⋅\\alpha  + 4010455⋅ℯ⋅\\\n",
       "\n",
       "                                                                 \n",
       "                                                                 \n",
       "                                                                 \n",
       "     7                     8                      9    ⎛      10⎞\n",
       "alpha  + 110676833⋅ℯ⋅\\alpha  + 3484717129⋅ℯ⋅\\alpha  + O⎝\\alpha  ⎠"
      ]
     },
     "execution_count": 274,
     "metadata": {},
     "output_type": "execute_result"
    }
   ],
   "source": [
    "powerset_of_tyvar_gf.series(alpha, n=10, is_exp=True)"
   ]
  },
  {
   "cell_type": "code",
   "execution_count": 288,
   "metadata": {
    "collapsed": false,
    "deletable": true,
    "editable": true
   },
   "outputs": [
    {
     "data": {
      "image/png": "[encoded data removed]",
      "text/latex": [
       "$$\\mathcal{P}{\\left (\\alpha \\right )} = e^{e^{- \\frac{\\alpha}{\\alpha - 1}}} = e + e \\alpha + 4 e \\alpha^{2} + 23 e \\alpha^{3} + 171 e \\alpha^{4} + 1552 e \\alpha^{5} + 16583 e \\alpha^{6} + 203443 e \\alpha^{7} + O\\left(\\alpha^{8}\\right)$$"
      ],
      "text/plain": [
       "                       ⎛  -\\alpha  ⎞                                          \n",
       "                       ⎜ ──────────⎟                                          \n",
       "                       ⎜ \\alpha - 1⎟                                          \n",
       "                       ⎝ℯ          ⎠                            2             \n",
       "\\mathcal{P}(\\alpha) = ℯ              = ℯ + ℯ⋅\\alpha + 4⋅ℯ⋅\\alpha  + 23⋅ℯ⋅\\alph\n",
       "\n",
       "                                                                              \n",
       "                                                                              \n",
       "                                                                              \n",
       " 3               4                5                 6                  7    ⎛ \n",
       "a  + 171⋅ℯ⋅\\alpha  + 1552⋅ℯ⋅\\alpha  + 16583⋅ℯ⋅\\alpha  + 203443⋅ℯ⋅\\alpha  + O⎝\\\n",
       "\n",
       "       \n",
       "       \n",
       "       \n",
       "     8⎞\n",
       "alpha ⎠"
      ]
     },
     "execution_count": 288,
     "metadata": {},
     "output_type": "execute_result"
    }
   ],
   "source": [
    "l, = (2**(2**(nnlst(tyvar(alpha))))).gf()\n",
    "define(l.lhs, l.rhs.ratsimp(), ctor=FEq).series(alpha,n=8,is_exp=True)"
   ]
  },
  {
   "cell_type": "code",
   "execution_count": 494,
   "metadata": {
    "collapsed": true,
    "deletable": true,
    "editable": true
   },
   "outputs": [],
   "source": [
    "class cycle(ty):\n",
    "         \n",
    "    def gf_rhs(self, ty):\n",
    "        return [log(gf.rhs) for gf in ty.gf()]\n",
    "    \n",
    "    def label(self):\n",
    "        return r'\\mathcal{C}'"
   ]
  },
  {
   "cell_type": "code",
   "execution_count": 501,
   "metadata": {
    "collapsed": false,
    "deletable": true,
    "editable": true
   },
   "outputs": [
    {
     "data": {
      "image/png": "[encoded data removed]",
      "text/latex": [
       "$$\\mathcal{C}{\\left (\\alpha \\right )} = \\log{\\left (- \\frac{1}{\\alpha - 1} \\right )}$$"
      ],
      "text/plain": [
       "                         ⎛   -1     ⎞\n",
       "\\mathcal{C}(\\alpha) = log⎜──────────⎟\n",
       "                         ⎝\\alpha - 1⎠"
      ]
     },
     "execution_count": 501,
     "metadata": {},
     "output_type": "execute_result"
    }
   ],
   "source": [
    "cycle_of_tyvar_gf, = (~(lst(tyvar(alpha)))).gf()\n",
    "cycle_of_tyvar_gf"
   ]
  },
  {
   "cell_type": "code",
   "execution_count": 502,
   "metadata": {
    "collapsed": false,
    "deletable": true,
    "editable": true
   },
   "outputs": [
    {
     "data": {
      "image/png": "[encoded data removed]",
      "text/latex": [
       "$$\\mathcal{C}{\\left (\\alpha \\right )} = \\log{\\left (- \\frac{1}{\\alpha - 1} \\right )} = \\alpha + \\alpha^{2} + 2 \\alpha^{3} + 6 \\alpha^{4} + 24 \\alpha^{5} + 120 \\alpha^{6} + 720 \\alpha^{7} + 5040 \\alpha^{8} + 40320 \\alpha^{9} + O\\left(\\alpha^{10}\\right)$$"
      ],
      "text/plain": [
       "                         ⎛   -1     ⎞                  2           3          \n",
       "\\mathcal{C}(\\alpha) = log⎜──────────⎟ = \\alpha + \\alpha  + 2⋅\\alpha  + 6⋅\\alph\n",
       "                         ⎝\\alpha - 1⎠                                         \n",
       "\n",
       " 4            5             6             7              8               9    \n",
       "a  + 24⋅\\alpha  + 120⋅\\alpha  + 720⋅\\alpha  + 5040⋅\\alpha  + 40320⋅\\alpha  + O\n",
       "                                                                              \n",
       "\n",
       "⎛      10⎞\n",
       "⎝\\alpha  ⎠\n",
       "          "
      ]
     },
     "execution_count": 502,
     "metadata": {},
     "output_type": "execute_result"
    }
   ],
   "source": [
    "cycle_of_tyvar_gf.series(alpha, n=10, is_exp=True)"
   ]
  },
  {
   "cell_type": "code",
   "execution_count": 506,
   "metadata": {
    "collapsed": false,
    "deletable": true,
    "editable": true
   },
   "outputs": [
    {
     "data": {
      "image/png": "[encoded data removed]",
      "text/latex": [
       "$$\\mathcal{C}{\\left ({w}_{1},x,{w}_{0} \\right )} = \\log{\\left (- \\frac{1}{x {w}_{0} + x {w}_{1} - 1} \\right )}$$"
      ],
      "text/plain": [
       "                                ⎛        -1         ⎞\n",
       "\\mathcal{C}(w[1], x, w[0]) = log⎜───────────────────⎟\n",
       "                                ⎝x⋅w[0] + x⋅w[1] - 1⎠"
      ]
     },
     "execution_count": 506,
     "metadata": {},
     "output_type": "execute_result"
    }
   ],
   "source": [
    "cycle_of_tyvar_gf, = (~(lst(boolean))).gf()\n",
    "cycle_of_tyvar_gf"
   ]
  },
  {
   "cell_type": "code",
   "execution_count": 507,
   "metadata": {
    "collapsed": false,
    "deletable": true,
    "editable": true
   },
   "outputs": [
    {
     "data": {
      "image/png": "[encoded data removed]",
      "text/latex": [
       "$$\\mathcal{C}{\\left ({w}_{1},x,{w}_{0} \\right )} = \\log{\\left (- \\frac{1}{x {w}_{0} + x {w}_{1} - 1} \\right )} = x \\left({w}_{0} + {w}_{1}\\right) + x^{2} \\left({w}_{0}^{2} + 2 {w}_{0} {w}_{1} + {w}_{1}^{2}\\right) + x^{3} \\left(2 {w}_{0}^{3} + 6 {w}_{0}^{2} {w}_{1} + 6 {w}_{0} {w}_{1}^{2} + 2 {w}_{1}^{3}\\right) + x^{4} \\left(6 {w}_{0}^{4} + 24 {w}_{0}^{3} {w}_{1} + 36 {w}_{0}^{2} {w}_{1}^{2} + 24 {w}_{0} {w}_{1}^{3} + 6 {w}_{1}^{4}\\right) + x^{5} \\left(24 {w}_{0}^{5} + 120 {w}_{0}^{4} {w}_{1} + 240 {w}_{0}^{3} {w}_{1}^{2} + 240 {w}_{0}^{2} {w}_{1}^{3} + 120 {w}_{0} {w}_{1}^{4} + 24 {w}_{1}^{5}\\right) + x^{6} \\left(120 {w}_{0}^{6} + 720 {w}_{0}^{5} {w}_{1} + 1800 {w}_{0}^{4} {w}_{1}^{2} + 2400 {w}_{0}^{3} {w}_{1}^{3} + 1800 {w}_{0}^{2} {w}_{1}^{4} + 720 {w}_{0} {w}_{1}^{5} + 120 {w}_{1}^{6}\\right) + x^{7} \\left(720 {w}_{0}^{7} + 5040 {w}_{0}^{6} {w}_{1} + 15120 {w}_{0}^{5} {w}_{1}^{2} + 25200 {w}_{0}^{4} {w}_{1}^{3} + 25200 {w}_{0}^{3} {w}_{1}^{4} + 15120 {w}_{0}^{2} {w}_{1}^{5} + 5040 {w}_{0} {w}_{1}^{6} + 720 {w}_{1}^{7}\\right) + O\\left(x^{8}\\right)$$"
      ],
      "text/plain": [
       "                                ⎛        -1         ⎞                      2 ⎛\n",
       "\\mathcal{C}(w[1], x, w[0]) = log⎜───────────────────⎟ = x⋅(w[0] + w[1]) + x ⋅⎝\n",
       "                                ⎝x⋅w[0] + x⋅w[1] - 1⎠                         \n",
       "\n",
       "    2                     2⎞    3 ⎛      3         2                   2      \n",
       "w[0]  + 2⋅w[0]⋅w[1] + w[1] ⎠ + x ⋅⎝2⋅w[0]  + 6⋅w[0] ⋅w[1] + 6⋅w[0]⋅w[1]  + 2⋅w\n",
       "                                                                              \n",
       "\n",
       "   3⎞    4 ⎛      4          3               2     2               3         4\n",
       "[1] ⎠ + x ⋅⎝6⋅w[0]  + 24⋅w[0] ⋅w[1] + 36⋅w[0] ⋅w[1]  + 24⋅w[0]⋅w[1]  + 6⋅w[1] \n",
       "                                                                              \n",
       "\n",
       "⎞    5 ⎛       5           4                3     2           2     3         \n",
       "⎠ + x ⋅⎝24⋅w[0]  + 120⋅w[0] ⋅w[1] + 240⋅w[0] ⋅w[1]  + 240⋅w[0] ⋅w[1]  + 120⋅w[\n",
       "                                                                              \n",
       "\n",
       "       4          5⎞    6 ⎛        6           5                 4     2      \n",
       "0]⋅w[1]  + 24⋅w[1] ⎠ + x ⋅⎝120⋅w[0]  + 720⋅w[0] ⋅w[1] + 1800⋅w[0] ⋅w[1]  + 240\n",
       "                                                                              \n",
       "\n",
       "      3     3            2     4                5           6⎞    7 ⎛        7\n",
       "0⋅w[0] ⋅w[1]  + 1800⋅w[0] ⋅w[1]  + 720⋅w[0]⋅w[1]  + 120⋅w[1] ⎠ + x ⋅⎝720⋅w[0] \n",
       "                                                                              \n",
       "\n",
       "            6                  5     2             4     3             3     4\n",
       " + 5040⋅w[0] ⋅w[1] + 15120⋅w[0] ⋅w[1]  + 25200⋅w[0] ⋅w[1]  + 25200⋅w[0] ⋅w[1] \n",
       "                                                                              \n",
       "\n",
       "             2     5                 6           7⎞    ⎛ 8⎞\n",
       " + 15120⋅w[0] ⋅w[1]  + 5040⋅w[0]⋅w[1]  + 720⋅w[1] ⎠ + O⎝x ⎠\n",
       "                                                           "
      ]
     },
     "execution_count": 507,
     "metadata": {},
     "output_type": "execute_result"
    }
   ],
   "source": [
    "cycle_of_tyvar_gf.series(x, n=8, is_exp=True)"
   ]
  },
  {
   "cell_type": "code",
   "execution_count": 508,
   "metadata": {
    "collapsed": false,
    "deletable": true,
    "editable": true
   },
   "outputs": [
    {
     "data": {
      "image/png": "[encoded data removed]",
      "text/latex": [
       "$$2 x + 4 x^{2} + 16 x^{3} + 96 x^{4} + 768 x^{5} + 7680 x^{6} + 92160 x^{7} + O\\left(x^{8}\\right)$$"
      ],
      "text/plain": [
       "         2       3       4        5         6          7    ⎛ 8⎞\n",
       "2⋅x + 4⋅x  + 16⋅x  + 96⋅x  + 768⋅x  + 7680⋅x  + 92160⋅x  + O⎝x ⎠"
      ]
     },
     "execution_count": 508,
     "metadata": {},
     "output_type": "execute_result"
    }
   ],
   "source": [
    "_.rhs.rhs.subs({w[0]:1,w[1]:1})"
   ]
  },
  {
   "cell_type": "code",
   "execution_count": 524,
   "metadata": {
    "collapsed": false,
    "deletable": true,
    "editable": true
   },
   "outputs": [
    {
     "data": {
      "image/png": "[encoded data removed]",
      "text/latex": [
       "$$\\mathcal{P}{\\left (\\alpha \\right )} = - \\frac{1}{\\alpha - 1} = 1 + \\alpha + 2 \\alpha^{2} + 6 \\alpha^{3} + 24 \\alpha^{4} + 120 \\alpha^{5} + 720 \\alpha^{6} + 5040 \\alpha^{7} + 40320 \\alpha^{8} + 362880 \\alpha^{9} + O\\left(\\alpha^{10}\\right)$$"
      ],
      "text/plain": [
       "                         -1                             2           3         \n",
       "\\mathcal{P}(\\alpha) = ────────── = 1 + \\alpha + 2⋅\\alpha  + 6⋅\\alpha  + 24⋅\\al\n",
       "                      \\alpha - 1                                              \n",
       "\n",
       "   4             5             6              7               8               \n",
       "pha  + 120⋅\\alpha  + 720⋅\\alpha  + 5040⋅\\alpha  + 40320⋅\\alpha  + 362880⋅\\alph\n",
       "                                                                              \n",
       "\n",
       " 9    ⎛      10⎞\n",
       "a  + O⎝\\alpha  ⎠\n",
       "                "
      ]
     },
     "execution_count": 524,
     "metadata": {},
     "output_type": "execute_result"
    }
   ],
   "source": [
    "Pstar_gf, = (2**(~(lst(tyvar(alpha))))).gf()\n",
    "Pstar_gf.series(alpha, n=10, is_exp=True)"
   ]
  },
  {
   "cell_type": "code",
   "execution_count": 542,
   "metadata": {
    "collapsed": true,
    "deletable": true,
    "editable": true
   },
   "outputs": [],
   "source": [
    "class ipowerset(powerset):\n",
    "    \n",
    "    def mulfactor(self):\n",
    "        return -1"
   ]
  },
  {
   "cell_type": "code",
   "execution_count": 545,
   "metadata": {
    "collapsed": false,
    "deletable": true,
    "editable": true
   },
   "outputs": [
    {
     "data": {
      "image/png": "[encoded data removed]",
      "text/latex": [
       "$$\\times{\\left (\\alpha \\right )} = - \\frac{e^{- \\alpha}}{\\alpha - 1} = 1 + \\alpha^{2} + 2 \\alpha^{3} + 9 \\alpha^{4} + 44 \\alpha^{5} + 265 \\alpha^{6} + 1854 \\alpha^{7} + 14833 \\alpha^{8} + 133496 \\alpha^{9} + O\\left(\\alpha^{10}\\right)$$"
      ],
      "text/plain": [
       "                   -\\alpha                                                    \n",
       "                 -ℯ                     2           3           4            5\n",
       "\\times(\\alpha) = ────────── = 1 + \\alpha  + 2⋅\\alpha  + 9⋅\\alpha  + 44⋅\\alpha \n",
       "                 \\alpha - 1                                                   \n",
       "\n",
       "                                                                            \n",
       "             6              7               8                9    ⎛      10⎞\n",
       " + 265⋅\\alpha  + 1854⋅\\alpha  + 14833⋅\\alpha  + 133496⋅\\alpha  + O⎝\\alpha  ⎠\n",
       "                                                                            "
      ]
     },
     "execution_count": 545,
     "metadata": {},
     "output_type": "execute_result"
    }
   ],
   "source": [
    "derangements_gf, = ((-2)**tyvar(alpha)).gf()\n",
    "derangements_gf.series(alpha, n=10, is_exp=True)"
   ]
  },
  {
   "cell_type": "code",
   "execution_count": 549,
   "metadata": {
    "collapsed": false,
    "deletable": true,
    "editable": true
   },
   "outputs": [
    {
     "data": {
      "image/png": "[encoded data removed]",
      "text/latex": [
       "$$\\times{\\left (\\alpha \\right )} = \\frac{\\left(\\alpha - 1\\right) e^{\\frac{\\alpha}{\\alpha - 1}}}{2 \\alpha - 1} = 1 + \\alpha^{2} + 8 \\alpha^{3} + 69 \\alpha^{4} + 704 \\alpha^{5} + 8485 \\alpha^{6} + 118824 \\alpha^{7} + 1900297 \\alpha^{8} + 34191296 \\alpha^{9} + O\\left(\\alpha^{10}\\right)$$"
      ],
      "text/plain": [
       "                                 \\alpha                                       \n",
       "                               ──────────                                     \n",
       "                               \\alpha - 1                                     \n",
       "                 (\\alpha - 1)⋅ℯ                       2           3           \n",
       "\\times(\\alpha) = ──────────────────────── = 1 + \\alpha  + 8⋅\\alpha  + 69⋅\\alph\n",
       "                       2⋅\\alpha - 1                                           \n",
       "\n",
       "                                                                              \n",
       "                                                                              \n",
       "                                                                              \n",
       " 4             5              6                7                 8            \n",
       "a  + 704⋅\\alpha  + 8485⋅\\alpha  + 118824⋅\\alpha  + 1900297⋅\\alpha  + 34191296⋅\n",
       "                                                                              \n",
       "\n",
       "                     \n",
       "                     \n",
       "                     \n",
       "      9    ⎛      10⎞\n",
       "\\alpha  + O⎝\\alpha  ⎠\n",
       "                     "
      ]
     },
     "execution_count": 549,
     "metadata": {},
     "output_type": "execute_result"
    }
   ],
   "source": [
    "derangements_gf, = ((-2)**nnlst(tyvar(alpha))).gf()\n",
    "derangements_gf.series(alpha, n=10, is_exp=True)"
   ]
  },
  {
   "cell_type": "code",
   "execution_count": 38,
   "metadata": {
    "collapsed": false,
    "deletable": true,
    "editable": true
   },
   "outputs": [
    {
     "data": {
      "image/png": "[encoded data removed]",
      "text/latex": [
       "$$\\left [ 2\\right ]$$"
      ],
      "text/plain": [
       "[2]"
      ]
     },
     "execution_count": 38,
     "metadata": {},
     "output_type": "execute_result"
    }
   ],
   "source": [
    "[1,2][1:]"
   ]
  },
  {
   "cell_type": "code",
   "execution_count": 45,
   "metadata": {
    "collapsed": true,
    "deletable": true,
    "editable": true
   },
   "outputs": [],
   "source": [
    "def foldr(f, l, i):\n",
    "    if not l:\n",
    "        return i\n",
    "    else:\n",
    "        car, *cdr = l\n",
    "        return f(car, foldr(f, cdr, i))\n",
    "    \n",
    "class arrow(ty):\n",
    "    \n",
    "    def label(self):\n",
    "        return r'\\rightarrow'\n",
    "        \n",
    "    def gf_rhs(self, alpha, beta):\n",
    "        v = Dummy()\n",
    "        return [foldr(lambda gf, acc: Lambda([x], acc(gf.rhs)), \n",
    "                      gfs[:-1], \n",
    "                      Lambda([x], gfs[-1].rhs))(x)\n",
    "                for gfs in self.gfs_space()]\n",
    "        return [foldr(lambda gf, acc: acc**gf.rhs, gfs[:-1], gfs[-1].rhs)\n",
    "                for gfs in self.gfs_space()]"
   ]
  },
  {
   "cell_type": "code",
   "execution_count": 46,
   "metadata": {
    "collapsed": false,
    "deletable": true,
    "editable": true
   },
   "outputs": [
    {
     "data": {
      "image/png": "[encoded data removed]",
      "text/latex": [
       "$$\\rightarrow{\\left (x,{w}_{1},{w}_{0} \\right )} = \\left(x {w}_{0} + x {w}_{1}\\right) {w}_{0} + \\left(x {w}_{0} + x {w}_{1}\\right) {w}_{1}$$"
      ],
      "text/plain": [
       "\\rightarrow(x, w[1], w[0]) = (x⋅w[0] + x⋅w[1])⋅w[0] + (x⋅w[0] + x⋅w[1])⋅w[1]"
      ]
     },
     "execution_count": 46,
     "metadata": {},
     "output_type": "execute_result"
    }
   ],
   "source": [
    "arr, = arrow(boolean, boolean).gf()\n",
    "arr"
   ]
  },
  {
   "cell_type": "code",
   "execution_count": 49,
   "metadata": {
    "collapsed": false,
    "deletable": true,
    "editable": true
   },
   "outputs": [
    {
     "data": {
      "image/png": "[encoded data removed]",
      "text/latex": [
       "$$\\rightarrow{\\left (x,{w}_{1},{w}_{0} \\right )} = \\left(x {w}_{0} + x {w}_{1}\\right) {w}_{0} + \\left(x {w}_{0} + x {w}_{1}\\right) {w}_{1} = x \\left({w}_{0}^{2} + 2 {w}_{0} {w}_{1} + {w}_{1}^{2}\\right)$$"
      ],
      "text/plain": [
       "                                                                              \n",
       "\\rightarrow(x, w[1], w[0]) = (x⋅w[0] + x⋅w[1])⋅w[0] + (x⋅w[0] + x⋅w[1])⋅w[1] =\n",
       "\n",
       "   ⎛    2                     2⎞\n",
       " x⋅⎝w[0]  + 2⋅w[0]⋅w[1] + w[1] ⎠"
      ]
     },
     "execution_count": 49,
     "metadata": {},
     "output_type": "execute_result"
    }
   ],
   "source": [
    "arr.series(x,n=5,is_exp=False)"
   ]
  },
  {
   "cell_type": "code",
   "execution_count": 50,
   "metadata": {
    "collapsed": false,
    "deletable": true,
    "editable": true
   },
   "outputs": [
    {
     "data": {
      "image/png": "[encoded data removed]",
      "text/latex": [
       "$$4 x$$"
      ],
      "text/plain": [
       "4⋅x"
      ]
     },
     "execution_count": 50,
     "metadata": {},
     "output_type": "execute_result"
    }
   ],
   "source": [
    "_.rhs.rhs.removeO().subs({w[0]:1,w[1]:1})"
   ]
  },
  {
   "cell_type": "code",
   "execution_count": 51,
   "metadata": {
    "collapsed": false,
    "deletable": true,
    "editable": true
   },
   "outputs": [
    {
     "data": {
      "image/png": "[encoded data removed]",
      "text/latex": [
       "$$\\rightarrow{\\left (x,{w}_{1},{w}_{0} \\right )} = - \\frac{1}{-1 - \\frac{{w}_{0}}{x {w}_{0} + x {w}_{1} - 1} - \\frac{{w}_{1}}{x {w}_{0} + x {w}_{1} - 1}}$$"
      ],
      "text/plain": [
       "                                                  -1                       \n",
       "\\rightarrow(x, w[1], w[0]) = ──────────────────────────────────────────────\n",
       "                                          w[0]                  w[1]       \n",
       "                             -1 - ─────────────────── - ───────────────────\n",
       "                                  x⋅w[0] + x⋅w[1] - 1   x⋅w[0] + x⋅w[1] - 1"
      ]
     },
     "execution_count": 51,
     "metadata": {},
     "output_type": "execute_result"
    }
   ],
   "source": [
    "arr, = arrow(lst(boolean), lst(boolean)).gf()\n",
    "arr"
   ]
  },
  {
   "cell_type": "code",
   "execution_count": 56,
   "metadata": {
    "collapsed": false,
    "deletable": true,
    "editable": true
   },
   "outputs": [
    {
     "data": {
      "image/png": "[encoded data removed]",
      "text/latex": [
       "$$\\rightarrow{\\left (x,{w}_{1},{w}_{0} \\right )} = - \\frac{1}{-1 - \\frac{{w}_{0}}{x {w}_{0} + x {w}_{1} - 1} - \\frac{{w}_{1}}{x {w}_{0} + x {w}_{1} - 1}} = - \\frac{1}{{w}_{0} + {w}_{1} - 1} + x \\left(\\frac{{w}_{0}^{2}}{{w}_{0}^{2} + 2 {w}_{0} {w}_{1} - 2 {w}_{0} + {w}_{1}^{2} - 2 {w}_{1} + 1} + \\frac{2 {w}_{0} {w}_{1}}{{w}_{0}^{2} + 2 {w}_{0} {w}_{1} - 2 {w}_{0} + {w}_{1}^{2} - 2 {w}_{1} + 1} + \\frac{{w}_{1}^{2}}{{w}_{0}^{2} + 2 {w}_{0} {w}_{1} - 2 {w}_{0} + {w}_{1}^{2} - 2 {w}_{1} + 1}\\right) + x^{2} \\left(- \\frac{{w}_{0}^{4}}{{w}_{0}^{3} + 3 {w}_{0}^{2} {w}_{1} - 3 {w}_{0}^{2} + 3 {w}_{0} {w}_{1}^{2} - 6 {w}_{0} {w}_{1} + 3 {w}_{0} + {w}_{1}^{3} - 3 {w}_{1}^{2} + 3 {w}_{1} - 1} - \\frac{4 {w}_{0}^{3} {w}_{1}}{{w}_{0}^{3} + 3 {w}_{0}^{2} {w}_{1} - 3 {w}_{0}^{2} + 3 {w}_{0} {w}_{1}^{2} - 6 {w}_{0} {w}_{1} + 3 {w}_{0} + {w}_{1}^{3} - 3 {w}_{1}^{2} + 3 {w}_{1} - 1} - \\frac{6 {w}_{0}^{2} {w}_{1}^{2}}{{w}_{0}^{3} + 3 {w}_{0}^{2} {w}_{1} - 3 {w}_{0}^{2} + 3 {w}_{0} {w}_{1}^{2} - 6 {w}_{0} {w}_{1} + 3 {w}_{0} + {w}_{1}^{3} - 3 {w}_{1}^{2} + 3 {w}_{1} - 1} - \\frac{4 {w}_{0} {w}_{1}^{3}}{{w}_{0}^{3} + 3 {w}_{0}^{2} {w}_{1} - 3 {w}_{0}^{2} + 3 {w}_{0} {w}_{1}^{2} - 6 {w}_{0} {w}_{1} + 3 {w}_{0} + {w}_{1}^{3} - 3 {w}_{1}^{2} + 3 {w}_{1} - 1} - \\frac{{w}_{1}^{4}}{{w}_{0}^{3} + 3 {w}_{0}^{2} {w}_{1} - 3 {w}_{0}^{2} + 3 {w}_{0} {w}_{1}^{2} - 6 {w}_{0} {w}_{1} + 3 {w}_{0} + {w}_{1}^{3} - 3 {w}_{1}^{2} + 3 {w}_{1} - 1} + \\frac{{w}_{0}^{3}}{{w}_{0}^{2} + 2 {w}_{0} {w}_{1} - 2 {w}_{0} + {w}_{1}^{2} - 2 {w}_{1} + 1} + \\frac{3 {w}_{0}^{2} {w}_{1}}{{w}_{0}^{2} + 2 {w}_{0} {w}_{1} - 2 {w}_{0} + {w}_{1}^{2} - 2 {w}_{1} + 1} + \\frac{3 {w}_{0} {w}_{1}^{2}}{{w}_{0}^{2} + 2 {w}_{0} {w}_{1} - 2 {w}_{0} + {w}_{1}^{2} - 2 {w}_{1} + 1} + \\frac{{w}_{1}^{3}}{{w}_{0}^{2} + 2 {w}_{0} {w}_{1} - 2 {w}_{0} + {w}_{1}^{2} - 2 {w}_{1} + 1}\\right) + x^{3} \\left(\\frac{{w}_{0}^{6}}{{w}_{0}^{4} + 4 {w}_{0}^{3} {w}_{1} - 4 {w}_{0}^{3} + 6 {w}_{0}^{2} {w}_{1}^{2} - 12 {w}_{0}^{2} {w}_{1} + 6 {w}_{0}^{2} + 4 {w}_{0} {w}_{1}^{3} - 12 {w}_{0} {w}_{1}^{2} + 12 {w}_{0} {w}_{1} - 4 {w}_{0} + {w}_{1}^{4} - 4 {w}_{1}^{3} + 6 {w}_{1}^{2} - 4 {w}_{1} + 1} + \\frac{6 {w}_{0}^{5} {w}_{1}}{{w}_{0}^{4} + 4 {w}_{0}^{3} {w}_{1} - 4 {w}_{0}^{3} + 6 {w}_{0}^{2} {w}_{1}^{2} - 12 {w}_{0}^{2} {w}_{1} + 6 {w}_{0}^{2} + 4 {w}_{0} {w}_{1}^{3} - 12 {w}_{0} {w}_{1}^{2} + 12 {w}_{0} {w}_{1} - 4 {w}_{0} + {w}_{1}^{4} - 4 {w}_{1}^{3} + 6 {w}_{1}^{2} - 4 {w}_{1} + 1} + \\frac{15 {w}_{0}^{4} {w}_{1}^{2}}{{w}_{0}^{4} + 4 {w}_{0}^{3} {w}_{1} - 4 {w}_{0}^{3} + 6 {w}_{0}^{2} {w}_{1}^{2} - 12 {w}_{0}^{2} {w}_{1} + 6 {w}_{0}^{2} + 4 {w}_{0} {w}_{1}^{3} - 12 {w}_{0} {w}_{1}^{2} + 12 {w}_{0} {w}_{1} - 4 {w}_{0} + {w}_{1}^{4} - 4 {w}_{1}^{3} + 6 {w}_{1}^{2} - 4 {w}_{1} + 1} + \\frac{20 {w}_{0}^{3} {w}_{1}^{3}}{{w}_{0}^{4} + 4 {w}_{0}^{3} {w}_{1} - 4 {w}_{0}^{3} + 6 {w}_{0}^{2} {w}_{1}^{2} - 12 {w}_{0}^{2} {w}_{1} + 6 {w}_{0}^{2} + 4 {w}_{0} {w}_{1}^{3} - 12 {w}_{0} {w}_{1}^{2} + 12 {w}_{0} {w}_{1} - 4 {w}_{0} + {w}_{1}^{4} - 4 {w}_{1}^{3} + 6 {w}_{1}^{2} - 4 {w}_{1} + 1} + \\frac{15 {w}_{0}^{2} {w}_{1}^{4}}{{w}_{0}^{4} + 4 {w}_{0}^{3} {w}_{1} - 4 {w}_{0}^{3} + 6 {w}_{0}^{2} {w}_{1}^{2} - 12 {w}_{0}^{2} {w}_{1} + 6 {w}_{0}^{2} + 4 {w}_{0} {w}_{1}^{3} - 12 {w}_{0} {w}_{1}^{2} + 12 {w}_{0} {w}_{1} - 4 {w}_{0} + {w}_{1}^{4} - 4 {w}_{1}^{3} + 6 {w}_{1}^{2} - 4 {w}_{1} + 1} + \\frac{6 {w}_{0} {w}_{1}^{5}}{{w}_{0}^{4} + 4 {w}_{0}^{3} {w}_{1} - 4 {w}_{0}^{3} + 6 {w}_{0}^{2} {w}_{1}^{2} - 12 {w}_{0}^{2} {w}_{1} + 6 {w}_{0}^{2} + 4 {w}_{0} {w}_{1}^{3} - 12 {w}_{0} {w}_{1}^{2} + 12 {w}_{0} {w}_{1} - 4 {w}_{0} + {w}_{1}^{4} - 4 {w}_{1}^{3} + 6 {w}_{1}^{2} - 4 {w}_{1} + 1} + \\frac{{w}_{1}^{6}}{{w}_{0}^{4} + 4 {w}_{0}^{3} {w}_{1} - 4 {w}_{0}^{3} + 6 {w}_{0}^{2} {w}_{1}^{2} - 12 {w}_{0}^{2} {w}_{1} + 6 {w}_{0}^{2} + 4 {w}_{0} {w}_{1}^{3} - 12 {w}_{0} {w}_{1}^{2} + 12 {w}_{0} {w}_{1} - 4 {w}_{0} + {w}_{1}^{4} - 4 {w}_{1}^{3} + 6 {w}_{1}^{2} - 4 {w}_{1} + 1} - \\frac{2 {w}_{0}^{5}}{{w}_{0}^{3} + 3 {w}_{0}^{2} {w}_{1} - 3 {w}_{0}^{2} + 3 {w}_{0} {w}_{1}^{2} - 6 {w}_{0} {w}_{1} + 3 {w}_{0} + {w}_{1}^{3} - 3 {w}_{1}^{2} + 3 {w}_{1} - 1} - \\frac{10 {w}_{0}^{4} {w}_{1}}{{w}_{0}^{3} + 3 {w}_{0}^{2} {w}_{1} - 3 {w}_{0}^{2} + 3 {w}_{0} {w}_{1}^{2} - 6 {w}_{0} {w}_{1} + 3 {w}_{0} + {w}_{1}^{3} - 3 {w}_{1}^{2} + 3 {w}_{1} - 1} - \\frac{20 {w}_{0}^{3} {w}_{1}^{2}}{{w}_{0}^{3} + 3 {w}_{0}^{2} {w}_{1} - 3 {w}_{0}^{2} + 3 {w}_{0} {w}_{1}^{2} - 6 {w}_{0} {w}_{1} + 3 {w}_{0} + {w}_{1}^{3} - 3 {w}_{1}^{2} + 3 {w}_{1} - 1} - \\frac{20 {w}_{0}^{2} {w}_{1}^{3}}{{w}_{0}^{3} + 3 {w}_{0}^{2} {w}_{1} - 3 {w}_{0}^{2} + 3 {w}_{0} {w}_{1}^{2} - 6 {w}_{0} {w}_{1} + 3 {w}_{0} + {w}_{1}^{3} - 3 {w}_{1}^{2} + 3 {w}_{1} - 1} - \\frac{10 {w}_{0} {w}_{1}^{4}}{{w}_{0}^{3} + 3 {w}_{0}^{2} {w}_{1} - 3 {w}_{0}^{2} + 3 {w}_{0} {w}_{1}^{2} - 6 {w}_{0} {w}_{1} + 3 {w}_{0} + {w}_{1}^{3} - 3 {w}_{1}^{2} + 3 {w}_{1} - 1} - \\frac{2 {w}_{1}^{5}}{{w}_{0}^{3} + 3 {w}_{0}^{2} {w}_{1} - 3 {w}_{0}^{2} + 3 {w}_{0} {w}_{1}^{2} - 6 {w}_{0} {w}_{1} + 3 {w}_{0} + {w}_{1}^{3} - 3 {w}_{1}^{2} + 3 {w}_{1} - 1} + \\frac{{w}_{0}^{4}}{{w}_{0}^{2} + 2 {w}_{0} {w}_{1} - 2 {w}_{0} + {w}_{1}^{2} - 2 {w}_{1} + 1} + \\frac{4 {w}_{0}^{3} {w}_{1}}{{w}_{0}^{2} + 2 {w}_{0} {w}_{1} - 2 {w}_{0} + {w}_{1}^{2} - 2 {w}_{1} + 1} + \\frac{6 {w}_{0}^{2} {w}_{1}^{2}}{{w}_{0}^{2} + 2 {w}_{0} {w}_{1} - 2 {w}_{0} + {w}_{1}^{2} - 2 {w}_{1} + 1} + \\frac{4 {w}_{0} {w}_{1}^{3}}{{w}_{0}^{2} + 2 {w}_{0} {w}_{1} - 2 {w}_{0} + {w}_{1}^{2} - 2 {w}_{1} + 1} + \\frac{{w}_{1}^{4}}{{w}_{0}^{2} + 2 {w}_{0} {w}_{1} - 2 {w}_{0} + {w}_{1}^{2} - 2 {w}_{1} + 1}\\right) + x^{4} \\left(- \\frac{{w}_{0}^{8}}{{w}_{0}^{5} + 5 {w}_{0}^{4} {w}_{1} - 5 {w}_{0}^{4} + 10 {w}_{0}^{3} {w}_{1}^{2} - 20 {w}_{0}^{3} {w}_{1} + 10 {w}_{0}^{3} + 10 {w}_{0}^{2} {w}_{1}^{3} - 30 {w}_{0}^{2} {w}_{1}^{2} + 30 {w}_{0}^{2} {w}_{1} - 10 {w}_{0}^{2} + 5 {w}_{0} {w}_{1}^{4} - 20 {w}_{0} {w}_{1}^{3} + 30 {w}_{0} {w}_{1}^{2} - 20 {w}_{0} {w}_{1} + 5 {w}_{0} + {w}_{1}^{5} - 5 {w}_{1}^{4} + 10 {w}_{1}^{3} - 10 {w}_{1}^{2} + 5 {w}_{1} - 1} - \\frac{8 {w}_{0}^{7} {w}_{1}}{{w}_{0}^{5} + 5 {w}_{0}^{4} {w}_{1} - 5 {w}_{0}^{4} + 10 {w}_{0}^{3} {w}_{1}^{2} - 20 {w}_{0}^{3} {w}_{1} + 10 {w}_{0}^{3} + 10 {w}_{0}^{2} {w}_{1}^{3} - 30 {w}_{0}^{2} {w}_{1}^{2} + 30 {w}_{0}^{2} {w}_{1} - 10 {w}_{0}^{2} + 5 {w}_{0} {w}_{1}^{4} - 20 {w}_{0} {w}_{1}^{3} + 30 {w}_{0} {w}_{1}^{2} - 20 {w}_{0} {w}_{1} + 5 {w}_{0} + {w}_{1}^{5} - 5 {w}_{1}^{4} + 10 {w}_{1}^{3} - 10 {w}_{1}^{2} + 5 {w}_{1} - 1} - \\frac{28 {w}_{0}^{6} {w}_{1}^{2}}{{w}_{0}^{5} + 5 {w}_{0}^{4} {w}_{1} - 5 {w}_{0}^{4} + 10 {w}_{0}^{3} {w}_{1}^{2} - 20 {w}_{0}^{3} {w}_{1} + 10 {w}_{0}^{3} + 10 {w}_{0}^{2} {w}_{1}^{3} - 30 {w}_{0}^{2} {w}_{1}^{2} + 30 {w}_{0}^{2} {w}_{1} - 10 {w}_{0}^{2} + 5 {w}_{0} {w}_{1}^{4} - 20 {w}_{0} {w}_{1}^{3} + 30 {w}_{0} {w}_{1}^{2} - 20 {w}_{0} {w}_{1} + 5 {w}_{0} + {w}_{1}^{5} - 5 {w}_{1}^{4} + 10 {w}_{1}^{3} - 10 {w}_{1}^{2} + 5 {w}_{1} - 1} - \\frac{56 {w}_{0}^{5} {w}_{1}^{3}}{{w}_{0}^{5} + 5 {w}_{0}^{4} {w}_{1} - 5 {w}_{0}^{4} + 10 {w}_{0}^{3} {w}_{1}^{2} - 20 {w}_{0}^{3} {w}_{1} + 10 {w}_{0}^{3} + 10 {w}_{0}^{2} {w}_{1}^{3} - 30 {w}_{0}^{2} {w}_{1}^{2} + 30 {w}_{0}^{2} {w}_{1} - 10 {w}_{0}^{2} + 5 {w}_{0} {w}_{1}^{4} - 20 {w}_{0} {w}_{1}^{3} + 30 {w}_{0} {w}_{1}^{2} - 20 {w}_{0} {w}_{1} + 5 {w}_{0} + {w}_{1}^{5} - 5 {w}_{1}^{4} + 10 {w}_{1}^{3} - 10 {w}_{1}^{2} + 5 {w}_{1} - 1} - \\frac{70 {w}_{0}^{4} {w}_{1}^{4}}{{w}_{0}^{5} + 5 {w}_{0}^{4} {w}_{1} - 5 {w}_{0}^{4} + 10 {w}_{0}^{3} {w}_{1}^{2} - 20 {w}_{0}^{3} {w}_{1} + 10 {w}_{0}^{3} + 10 {w}_{0}^{2} {w}_{1}^{3} - 30 {w}_{0}^{2} {w}_{1}^{2} + 30 {w}_{0}^{2} {w}_{1} - 10 {w}_{0}^{2} + 5 {w}_{0} {w}_{1}^{4} - 20 {w}_{0} {w}_{1}^{3} + 30 {w}_{0} {w}_{1}^{2} - 20 {w}_{0} {w}_{1} + 5 {w}_{0} + {w}_{1}^{5} - 5 {w}_{1}^{4} + 10 {w}_{1}^{3} - 10 {w}_{1}^{2} + 5 {w}_{1} - 1} - \\frac{56 {w}_{0}^{3} {w}_{1}^{5}}{{w}_{0}^{5} + 5 {w}_{0}^{4} {w}_{1} - 5 {w}_{0}^{4} + 10 {w}_{0}^{3} {w}_{1}^{2} - 20 {w}_{0}^{3} {w}_{1} + 10 {w}_{0}^{3} + 10 {w}_{0}^{2} {w}_{1}^{3} - 30 {w}_{0}^{2} {w}_{1}^{2} + 30 {w}_{0}^{2} {w}_{1} - 10 {w}_{0}^{2} + 5 {w}_{0} {w}_{1}^{4} - 20 {w}_{0} {w}_{1}^{3} + 30 {w}_{0} {w}_{1}^{2} - 20 {w}_{0} {w}_{1} + 5 {w}_{0} + {w}_{1}^{5} - 5 {w}_{1}^{4} + 10 {w}_{1}^{3} - 10 {w}_{1}^{2} + 5 {w}_{1} - 1} - \\frac{28 {w}_{0}^{2} {w}_{1}^{6}}{{w}_{0}^{5} + 5 {w}_{0}^{4} {w}_{1} - 5 {w}_{0}^{4} + 10 {w}_{0}^{3} {w}_{1}^{2} - 20 {w}_{0}^{3} {w}_{1} + 10 {w}_{0}^{3} + 10 {w}_{0}^{2} {w}_{1}^{3} - 30 {w}_{0}^{2} {w}_{1}^{2} + 30 {w}_{0}^{2} {w}_{1} - 10 {w}_{0}^{2} + 5 {w}_{0} {w}_{1}^{4} - 20 {w}_{0} {w}_{1}^{3} + 30 {w}_{0} {w}_{1}^{2} - 20 {w}_{0} {w}_{1} + 5 {w}_{0} + {w}_{1}^{5} - 5 {w}_{1}^{4} + 10 {w}_{1}^{3} - 10 {w}_{1}^{2} + 5 {w}_{1} - 1} - \\frac{8 {w}_{0} {w}_{1}^{7}}{{w}_{0}^{5} + 5 {w}_{0}^{4} {w}_{1} - 5 {w}_{0}^{4} + 10 {w}_{0}^{3} {w}_{1}^{2} - 20 {w}_{0}^{3} {w}_{1} + 10 {w}_{0}^{3} + 10 {w}_{0}^{2} {w}_{1}^{3} - 30 {w}_{0}^{2} {w}_{1}^{2} + 30 {w}_{0}^{2} {w}_{1} - 10 {w}_{0}^{2} + 5 {w}_{0} {w}_{1}^{4} - 20 {w}_{0} {w}_{1}^{3} + 30 {w}_{0} {w}_{1}^{2} - 20 {w}_{0} {w}_{1} + 5 {w}_{0} + {w}_{1}^{5} - 5 {w}_{1}^{4} + 10 {w}_{1}^{3} - 10 {w}_{1}^{2} + 5 {w}_{1} - 1} - \\frac{{w}_{1}^{8}}{{w}_{0}^{5} + 5 {w}_{0}^{4} {w}_{1} - 5 {w}_{0}^{4} + 10 {w}_{0}^{3} {w}_{1}^{2} - 20 {w}_{0}^{3} {w}_{1} + 10 {w}_{0}^{3} + 10 {w}_{0}^{2} {w}_{1}^{3} - 30 {w}_{0}^{2} {w}_{1}^{2} + 30 {w}_{0}^{2} {w}_{1} - 10 {w}_{0}^{2} + 5 {w}_{0} {w}_{1}^{4} - 20 {w}_{0} {w}_{1}^{3} + 30 {w}_{0} {w}_{1}^{2} - 20 {w}_{0} {w}_{1} + 5 {w}_{0} + {w}_{1}^{5} - 5 {w}_{1}^{4} + 10 {w}_{1}^{3} - 10 {w}_{1}^{2} + 5 {w}_{1} - 1} + \\frac{3 {w}_{0}^{7}}{{w}_{0}^{4} + 4 {w}_{0}^{3} {w}_{1} - 4 {w}_{0}^{3} + 6 {w}_{0}^{2} {w}_{1}^{2} - 12 {w}_{0}^{2} {w}_{1} + 6 {w}_{0}^{2} + 4 {w}_{0} {w}_{1}^{3} - 12 {w}_{0} {w}_{1}^{2} + 12 {w}_{0} {w}_{1} - 4 {w}_{0} + {w}_{1}^{4} - 4 {w}_{1}^{3} + 6 {w}_{1}^{2} - 4 {w}_{1} + 1} + \\frac{21 {w}_{0}^{6} {w}_{1}}{{w}_{0}^{4} + 4 {w}_{0}^{3} {w}_{1} - 4 {w}_{0}^{3} + 6 {w}_{0}^{2} {w}_{1}^{2} - 12 {w}_{0}^{2} {w}_{1} + 6 {w}_{0}^{2} + 4 {w}_{0} {w}_{1}^{3} - 12 {w}_{0} {w}_{1}^{2} + 12 {w}_{0} {w}_{1} - 4 {w}_{0} + {w}_{1}^{4} - 4 {w}_{1}^{3} + 6 {w}_{1}^{2} - 4 {w}_{1} + 1} + \\frac{63 {w}_{0}^{5} {w}_{1}^{2}}{{w}_{0}^{4} + 4 {w}_{0}^{3} {w}_{1} - 4 {w}_{0}^{3} + 6 {w}_{0}^{2} {w}_{1}^{2} - 12 {w}_{0}^{2} {w}_{1} + 6 {w}_{0}^{2} + 4 {w}_{0} {w}_{1}^{3} - 12 {w}_{0} {w}_{1}^{2} + 12 {w}_{0} {w}_{1} - 4 {w}_{0} + {w}_{1}^{4} - 4 {w}_{1}^{3} + 6 {w}_{1}^{2} - 4 {w}_{1} + 1} + \\frac{105 {w}_{0}^{4} {w}_{1}^{3}}{{w}_{0}^{4} + 4 {w}_{0}^{3} {w}_{1} - 4 {w}_{0}^{3} + 6 {w}_{0}^{2} {w}_{1}^{2} - 12 {w}_{0}^{2} {w}_{1} + 6 {w}_{0}^{2} + 4 {w}_{0} {w}_{1}^{3} - 12 {w}_{0} {w}_{1}^{2} + 12 {w}_{0} {w}_{1} - 4 {w}_{0} + {w}_{1}^{4} - 4 {w}_{1}^{3} + 6 {w}_{1}^{2} - 4 {w}_{1} + 1} + \\frac{105 {w}_{0}^{3} {w}_{1}^{4}}{{w}_{0}^{4} + 4 {w}_{0}^{3} {w}_{1} - 4 {w}_{0}^{3} + 6 {w}_{0}^{2} {w}_{1}^{2} - 12 {w}_{0}^{2} {w}_{1} + 6 {w}_{0}^{2} + 4 {w}_{0} {w}_{1}^{3} - 12 {w}_{0} {w}_{1}^{2} + 12 {w}_{0} {w}_{1} - 4 {w}_{0} + {w}_{1}^{4} - 4 {w}_{1}^{3} + 6 {w}_{1}^{2} - 4 {w}_{1} + 1} + \\frac{63 {w}_{0}^{2} {w}_{1}^{5}}{{w}_{0}^{4} + 4 {w}_{0}^{3} {w}_{1} - 4 {w}_{0}^{3} + 6 {w}_{0}^{2} {w}_{1}^{2} - 12 {w}_{0}^{2} {w}_{1} + 6 {w}_{0}^{2} + 4 {w}_{0} {w}_{1}^{3} - 12 {w}_{0} {w}_{1}^{2} + 12 {w}_{0} {w}_{1} - 4 {w}_{0} + {w}_{1}^{4} - 4 {w}_{1}^{3} + 6 {w}_{1}^{2} - 4 {w}_{1} + 1} + \\frac{21 {w}_{0} {w}_{1}^{6}}{{w}_{0}^{4} + 4 {w}_{0}^{3} {w}_{1} - 4 {w}_{0}^{3} + 6 {w}_{0}^{2} {w}_{1}^{2} - 12 {w}_{0}^{2} {w}_{1} + 6 {w}_{0}^{2} + 4 {w}_{0} {w}_{1}^{3} - 12 {w}_{0} {w}_{1}^{2} + 12 {w}_{0} {w}_{1} - 4 {w}_{0} + {w}_{1}^{4} - 4 {w}_{1}^{3} + 6 {w}_{1}^{2} - 4 {w}_{1} + 1} + \\frac{3 {w}_{1}^{7}}{{w}_{0}^{4} + 4 {w}_{0}^{3} {w}_{1} - 4 {w}_{0}^{3} + 6 {w}_{0}^{2} {w}_{1}^{2} - 12 {w}_{0}^{2} {w}_{1} + 6 {w}_{0}^{2} + 4 {w}_{0} {w}_{1}^{3} - 12 {w}_{0} {w}_{1}^{2} + 12 {w}_{0} {w}_{1} - 4 {w}_{0} + {w}_{1}^{4} - 4 {w}_{1}^{3} + 6 {w}_{1}^{2} - 4 {w}_{1} + 1} - \\frac{3 {w}_{0}^{6}}{{w}_{0}^{3} + 3 {w}_{0}^{2} {w}_{1} - 3 {w}_{0}^{2} + 3 {w}_{0} {w}_{1}^{2} - 6 {w}_{0} {w}_{1} + 3 {w}_{0} + {w}_{1}^{3} - 3 {w}_{1}^{2} + 3 {w}_{1} - 1} - \\frac{18 {w}_{0}^{5} {w}_{1}}{{w}_{0}^{3} + 3 {w}_{0}^{2} {w}_{1} - 3 {w}_{0}^{2} + 3 {w}_{0} {w}_{1}^{2} - 6 {w}_{0} {w}_{1} + 3 {w}_{0} + {w}_{1}^{3} - 3 {w}_{1}^{2} + 3 {w}_{1} - 1} - \\frac{45 {w}_{0}^{4} {w}_{1}^{2}}{{w}_{0}^{3} + 3 {w}_{0}^{2} {w}_{1} - 3 {w}_{0}^{2} + 3 {w}_{0} {w}_{1}^{2} - 6 {w}_{0} {w}_{1} + 3 {w}_{0} + {w}_{1}^{3} - 3 {w}_{1}^{2} + 3 {w}_{1} - 1} - \\frac{60 {w}_{0}^{3} {w}_{1}^{3}}{{w}_{0}^{3} + 3 {w}_{0}^{2} {w}_{1} - 3 {w}_{0}^{2} + 3 {w}_{0} {w}_{1}^{2} - 6 {w}_{0} {w}_{1} + 3 {w}_{0} + {w}_{1}^{3} - 3 {w}_{1}^{2} + 3 {w}_{1} - 1} - \\frac{45 {w}_{0}^{2} {w}_{1}^{4}}{{w}_{0}^{3} + 3 {w}_{0}^{2} {w}_{1} - 3 {w}_{0}^{2} + 3 {w}_{0} {w}_{1}^{2} - 6 {w}_{0} {w}_{1} + 3 {w}_{0} + {w}_{1}^{3} - 3 {w}_{1}^{2} + 3 {w}_{1} - 1} - \\frac{18 {w}_{0} {w}_{1}^{5}}{{w}_{0}^{3} + 3 {w}_{0}^{2} {w}_{1} - 3 {w}_{0}^{2} + 3 {w}_{0} {w}_{1}^{2} - 6 {w}_{0} {w}_{1} + 3 {w}_{0} + {w}_{1}^{3} - 3 {w}_{1}^{2} + 3 {w}_{1} - 1} - \\frac{3 {w}_{1}^{6}}{{w}_{0}^{3} + 3 {w}_{0}^{2} {w}_{1} - 3 {w}_{0}^{2} + 3 {w}_{0} {w}_{1}^{2} - 6 {w}_{0} {w}_{1} + 3 {w}_{0} + {w}_{1}^{3} - 3 {w}_{1}^{2} + 3 {w}_{1} - 1} + \\frac{{w}_{0}^{5}}{{w}_{0}^{2} + 2 {w}_{0} {w}_{1} - 2 {w}_{0} + {w}_{1}^{2} - 2 {w}_{1} + 1} + \\frac{5 {w}_{0}^{4} {w}_{1}}{{w}_{0}^{2} + 2 {w}_{0} {w}_{1} - 2 {w}_{0} + {w}_{1}^{2} - 2 {w}_{1} + 1} + \\frac{10 {w}_{0}^{3} {w}_{1}^{2}}{{w}_{0}^{2} + 2 {w}_{0} {w}_{1} - 2 {w}_{0} + {w}_{1}^{2} - 2 {w}_{1} + 1} + \\frac{10 {w}_{0}^{2} {w}_{1}^{3}}{{w}_{0}^{2} + 2 {w}_{0} {w}_{1} - 2 {w}_{0} + {w}_{1}^{2} - 2 {w}_{1} + 1} + \\frac{5 {w}_{0} {w}_{1}^{4}}{{w}_{0}^{2} + 2 {w}_{0} {w}_{1} - 2 {w}_{0} + {w}_{1}^{2} - 2 {w}_{1} + 1} + \\frac{{w}_{1}^{5}}{{w}_{0}^{2} + 2 {w}_{0} {w}_{1} - 2 {w}_{0} + {w}_{1}^{2} - 2 {w}_{1} + 1}\\right) + O\\left(x^{5}\\right)$$"
      ],
      "text/plain": [
       "                                                                              \n",
       "                                                  -1                          \n",
       "\\rightarrow(x, w[1], w[0]) = ────────────────────────────────────────────── = \n",
       "                                          w[0]                  w[1]          \n",
       "                             -1 - ─────────────────── - ───────────────────   \n",
       "                                  x⋅w[0] + x⋅w[1] - 1   x⋅w[0] + x⋅w[1] - 1   \n",
       "\n",
       "                      ⎛                          2                            \n",
       "         1            ⎜                      w[0]                             \n",
       "- ─────────────── + x⋅⎜───────────────────────────────────────────────── + ───\n",
       "  w[0] + w[1] - 1     ⎜    2                              2                   \n",
       "                      ⎝w[0]  + 2⋅w[0]⋅w[1] - 2⋅w[0] + w[1]  - 2⋅w[1] + 1   w[0\n",
       "                                                                              \n",
       "\n",
       "                                                                           2  \n",
       "                2⋅w[0]⋅w[1]                                            w[1]   \n",
       "────────────────────────────────────────────── + ─────────────────────────────\n",
       " 2                              2                    2                        \n",
       "]  + 2⋅w[0]⋅w[1] - 2⋅w[0] + w[1]  - 2⋅w[1] + 1   w[0]  + 2⋅w[0]⋅w[1] - 2⋅w[0] \n",
       "                                                                              \n",
       "\n",
       "                    ⎞      ⎛                                                  \n",
       "                    ⎟    2 ⎜                                                 w\n",
       "────────────────────⎟ + x ⋅⎜- ────────────────────────────────────────────────\n",
       "      2             ⎟      ⎜      3         2              2              2   \n",
       "+ w[1]  - 2⋅w[1] + 1⎠      ⎝  w[0]  + 3⋅w[0] ⋅w[1] - 3⋅w[0]  + 3⋅w[0]⋅w[1]  - \n",
       "                                                                              \n",
       "\n",
       "   4                                                                          \n",
       "[0]                                                                           \n",
       "─────────────────────────────────────────────────── - ────────────────────────\n",
       "                           3         2                    3         2         \n",
       "6⋅w[0]⋅w[1] + 3⋅w[0] + w[1]  - 3⋅w[1]  + 3⋅w[1] - 1   w[0]  + 3⋅w[0] ⋅w[1] - 3\n",
       "                                                                              \n",
       "\n",
       "                          3                                                   \n",
       "                    4⋅w[0] ⋅w[1]                                              \n",
       "─────────────────────────────────────────────────────────────────────────── - \n",
       "     2              2                              3         2                \n",
       "⋅w[0]  + 3⋅w[0]⋅w[1]  - 6⋅w[0]⋅w[1] + 3⋅w[0] + w[1]  - 3⋅w[1]  + 3⋅w[1] - 1   \n",
       "                                                                              \n",
       "\n",
       "                                                 2     2                      \n",
       "                                           6⋅w[0] ⋅w[1]                       \n",
       "──────────────────────────────────────────────────────────────────────────────\n",
       "    3         2              2              2                              3  \n",
       "w[0]  + 3⋅w[0] ⋅w[1] - 3⋅w[0]  + 3⋅w[0]⋅w[1]  - 6⋅w[0]⋅w[1] + 3⋅w[0] + w[1]  -\n",
       "                                                                              \n",
       "\n",
       "                                                                              \n",
       "                                                                    4⋅w[0]⋅w[1\n",
       "───────────────────── - ──────────────────────────────────────────────────────\n",
       "       2                    3         2              2              2         \n",
       " 3⋅w[1]  + 3⋅w[1] - 1   w[0]  + 3⋅w[0] ⋅w[1] - 3⋅w[0]  + 3⋅w[0]⋅w[1]  - 6⋅w[0]\n",
       "                                                                              \n",
       "\n",
       " 3                                                                            \n",
       "]                                                                             \n",
       "───────────────────────────────────────────── - ──────────────────────────────\n",
       "                     3         2                    3         2              2\n",
       "⋅w[1] + 3⋅w[0] + w[1]  - 3⋅w[1]  + 3⋅w[1] - 1   w[0]  + 3⋅w[0] ⋅w[1] - 3⋅w[0] \n",
       "                                                                              \n",
       "\n",
       "                     4                                                        \n",
       "                 w[1]                                                         \n",
       "───────────────────────────────────────────────────────────────────── + ──────\n",
       "              2                              3         2                    2 \n",
       " + 3⋅w[0]⋅w[1]  - 6⋅w[0]⋅w[1] + 3⋅w[0] + w[1]  - 3⋅w[1]  + 3⋅w[1] - 1   w[0]  \n",
       "                                                                              \n",
       "\n",
       "                    3                                                  2      \n",
       "                w[0]                                             3⋅w[0] ⋅w[1] \n",
       "─────────────────────────────────────────── + ────────────────────────────────\n",
       "                             2                    2                           \n",
       "+ 2⋅w[0]⋅w[1] - 2⋅w[0] + w[1]  - 2⋅w[1] + 1   w[0]  + 2⋅w[0]⋅w[1] - 2⋅w[0] + w\n",
       "                                                                              \n",
       "\n",
       "                                                  2                           \n",
       "                                       3⋅w[0]⋅w[1]                            \n",
       "───────────────── + ───────────────────────────────────────────────── + ──────\n",
       "   2                    2                              2                    2 \n",
       "[1]  - 2⋅w[1] + 1   w[0]  + 2⋅w[0]⋅w[1] - 2⋅w[0] + w[1]  - 2⋅w[1] + 1   w[0]  \n",
       "                                                                              \n",
       "\n",
       "                    3                      ⎞      ⎛                           \n",
       "                w[1]                       ⎟    3 ⎜                           \n",
       "───────────────────────────────────────────⎟ + x ⋅⎜───────────────────────────\n",
       "                             2             ⎟      ⎜    4         3            \n",
       "+ 2⋅w[0]⋅w[1] - 2⋅w[0] + w[1]  - 2⋅w[1] + 1⎠      ⎝w[0]  + 4⋅w[0] ⋅w[1] - 4⋅w[\n",
       "                                                                              \n",
       "\n",
       "                                                          6                   \n",
       "                                                      w[0]                    \n",
       "──────────────────────────────────────────────────────────────────────────────\n",
       "  3         2     2          2              2              3               2  \n",
       "0]  + 6⋅w[0] ⋅w[1]  - 12⋅w[0] ⋅w[1] + 6⋅w[0]  + 4⋅w[0]⋅w[1]  - 12⋅w[0]⋅w[1]  +\n",
       "                                                                              \n",
       "\n",
       "                                                                              \n",
       "                                                                              \n",
       "─────────────────────────────────────────────────────────────── + ────────────\n",
       "                             4         3         2                    4       \n",
       " 12⋅w[0]⋅w[1] - 4⋅w[0] + w[1]  - 4⋅w[1]  + 6⋅w[1]  - 4⋅w[1] + 1   w[0]  + 4⋅w[\n",
       "                                                                              \n",
       "\n",
       "                                                                        5     \n",
       "                                                                  6⋅w[0] ⋅w[1]\n",
       "──────────────────────────────────────────────────────────────────────────────\n",
       "  3              3         2     2          2              2              3   \n",
       "0] ⋅w[1] - 4⋅w[0]  + 6⋅w[0] ⋅w[1]  - 12⋅w[0] ⋅w[1] + 6⋅w[0]  + 4⋅w[0]⋅w[1]  - \n",
       "                                                                              \n",
       "\n",
       "                                                                              \n",
       "                                                                              \n",
       "──────────────────────────────────────────────────────────────────────────────\n",
       "            2                               4         3         2             \n",
       "12⋅w[0]⋅w[1]  + 12⋅w[0]⋅w[1] - 4⋅w[0] + w[1]  - 4⋅w[1]  + 6⋅w[1]  - 4⋅w[1] + 1\n",
       "                                                                              \n",
       "\n",
       "                                                                              \n",
       "                                                                              \n",
       " + ───────────────────────────────────────────────────────────────────────────\n",
       "       4         3              3         2     2          2              2   \n",
       "   w[0]  + 4⋅w[0] ⋅w[1] - 4⋅w[0]  + 6⋅w[0] ⋅w[1]  - 12⋅w[0] ⋅w[1] + 6⋅w[0]  + \n",
       "                                                                              \n",
       "\n",
       "         4     2                                                              \n",
       "  15⋅w[0] ⋅w[1]                                                               \n",
       "──────────────────────────────────────────────────────────────────────────────\n",
       "           3               2                               4         3        \n",
       "4⋅w[0]⋅w[1]  - 12⋅w[0]⋅w[1]  + 12⋅w[0]⋅w[1] - 4⋅w[0] + w[1]  - 4⋅w[1]  + 6⋅w[1\n",
       "                                                                              \n",
       "\n",
       "                                                                              \n",
       "                                                                              \n",
       "─────────────── + ────────────────────────────────────────────────────────────\n",
       " 2                    4         3              3         2     2          2   \n",
       "]  - 4⋅w[1] + 1   w[0]  + 4⋅w[0] ⋅w[1] - 4⋅w[0]  + 6⋅w[0] ⋅w[1]  - 12⋅w[0] ⋅w[\n",
       "                                                                              \n",
       "\n",
       "                        3     3                                               \n",
       "                 20⋅w[0] ⋅w[1]                                                \n",
       "──────────────────────────────────────────────────────────────────────────────\n",
       "           2              3               2                               4   \n",
       "1] + 6⋅w[0]  + 4⋅w[0]⋅w[1]  - 12⋅w[0]⋅w[1]  + 12⋅w[0]⋅w[1] - 4⋅w[0] + w[1]  - \n",
       "                                                                              \n",
       "\n",
       "                                                                              \n",
       "                                                                              \n",
       "────────────────────────────── + ─────────────────────────────────────────────\n",
       "      3         2                    4         3              3         2     \n",
       "4⋅w[1]  + 6⋅w[1]  - 4⋅w[1] + 1   w[0]  + 4⋅w[0] ⋅w[1] - 4⋅w[0]  + 6⋅w[0] ⋅w[1]\n",
       "                                                                              \n",
       "\n",
       "                                       2     4                                \n",
       "                                15⋅w[0] ⋅w[1]                                 \n",
       "──────────────────────────────────────────────────────────────────────────────\n",
       "2          2              2              3               2                    \n",
       "  - 12⋅w[0] ⋅w[1] + 6⋅w[0]  + 4⋅w[0]⋅w[1]  - 12⋅w[0]⋅w[1]  + 12⋅w[0]⋅w[1] - 4⋅\n",
       "                                                                              \n",
       "\n",
       "                                                                              \n",
       "                                                                              \n",
       "───────────────────────────────────────────── + ──────────────────────────────\n",
       "           4         3         2                    4         3              3\n",
       "w[0] + w[1]  - 4⋅w[1]  + 6⋅w[1]  - 4⋅w[1] + 1   w[0]  + 4⋅w[0] ⋅w[1] - 4⋅w[0] \n",
       "                                                                              \n",
       "\n",
       "                                                           5                  \n",
       "                                                6⋅w[0]⋅w[1]                   \n",
       "──────────────────────────────────────────────────────────────────────────────\n",
       "         2     2          2              2              3               2     \n",
       " + 6⋅w[0] ⋅w[1]  - 12⋅w[0] ⋅w[1] + 6⋅w[0]  + 4⋅w[0]⋅w[1]  - 12⋅w[0]⋅w[1]  + 12\n",
       "                                                                              \n",
       "\n",
       "                                                                              \n",
       "                                                                              \n",
       "──────────────────────────────────────────────────────────── + ───────────────\n",
       "                          4         3         2                    4         3\n",
       "⋅w[0]⋅w[1] - 4⋅w[0] + w[1]  - 4⋅w[1]  + 6⋅w[1]  - 4⋅w[1] + 1   w[0]  + 4⋅w[0] \n",
       "                                                                              \n",
       "\n",
       "                                                                      6       \n",
       "                                                                  w[1]        \n",
       "──────────────────────────────────────────────────────────────────────────────\n",
       "              3         2     2          2              2              3      \n",
       "⋅w[1] - 4⋅w[0]  + 6⋅w[0] ⋅w[1]  - 12⋅w[0] ⋅w[1] + 6⋅w[0]  + 4⋅w[0]⋅w[1]  - 12⋅\n",
       "                                                                              \n",
       "\n",
       "                                                                              \n",
       "                                                                              \n",
       "─────────────────────────────────────────────────────────────────────────── - \n",
       "         2                               4         3         2                \n",
       "w[0]⋅w[1]  + 12⋅w[0]⋅w[1] - 4⋅w[0] + w[1]  - 4⋅w[1]  + 6⋅w[1]  - 4⋅w[1] + 1   \n",
       "                                                                              \n",
       "\n",
       "                                                    5                         \n",
       "                                              2⋅w[0]                          \n",
       "──────────────────────────────────────────────────────────────────────────────\n",
       "    3         2              2              2                              3  \n",
       "w[0]  + 3⋅w[0] ⋅w[1] - 3⋅w[0]  + 3⋅w[0]⋅w[1]  - 6⋅w[0]⋅w[1] + 3⋅w[0] + w[1]  -\n",
       "                                                                              \n",
       "\n",
       "                                                                          4   \n",
       "                                                                   10⋅w[0] ⋅w[\n",
       "───────────────────── - ──────────────────────────────────────────────────────\n",
       "       2                    3         2              2              2         \n",
       " 3⋅w[1]  + 3⋅w[1] - 1   w[0]  + 3⋅w[0] ⋅w[1] - 3⋅w[0]  + 3⋅w[0]⋅w[1]  - 6⋅w[0]\n",
       "                                                                              \n",
       "\n",
       "                                                                              \n",
       "1]                                                                            \n",
       "───────────────────────────────────────────── - ──────────────────────────────\n",
       "                     3         2                    3         2              2\n",
       "⋅w[1] + 3⋅w[0] + w[1]  - 3⋅w[1]  + 3⋅w[1] - 1   w[0]  + 3⋅w[0] ⋅w[1] - 3⋅w[0] \n",
       "                                                                              \n",
       "\n",
       "                    3     2                                                   \n",
       "             20⋅w[0] ⋅w[1]                                                    \n",
       "───────────────────────────────────────────────────────────────────── - ──────\n",
       "              2                              3         2                    3 \n",
       " + 3⋅w[0]⋅w[1]  - 6⋅w[0]⋅w[1] + 3⋅w[0] + w[1]  - 3⋅w[1]  + 3⋅w[1] - 1   w[0]  \n",
       "                                                                              \n",
       "\n",
       "                                            2     3                           \n",
       "                                     20⋅w[0] ⋅w[1]                            \n",
       "──────────────────────────────────────────────────────────────────────────────\n",
       "        2              2              2                              3        \n",
       "+ 3⋅w[0] ⋅w[1] - 3⋅w[0]  + 3⋅w[0]⋅w[1]  - 6⋅w[0]⋅w[1] + 3⋅w[0] + w[1]  - 3⋅w[1\n",
       "                                                                              \n",
       "\n",
       "                                                                         4    \n",
       "                                                             10⋅w[0]⋅w[1]     \n",
       "─────────────── - ────────────────────────────────────────────────────────────\n",
       " 2                    3         2              2              2               \n",
       "]  + 3⋅w[1] - 1   w[0]  + 3⋅w[0] ⋅w[1] - 3⋅w[0]  + 3⋅w[0]⋅w[1]  - 6⋅w[0]⋅w[1] \n",
       "                                                                              \n",
       "\n",
       "                                                                              \n",
       "                                                                              \n",
       "─────────────────────────────────────── - ────────────────────────────────────\n",
       "               3         2                    3         2              2      \n",
       "+ 3⋅w[0] + w[1]  - 3⋅w[1]  + 3⋅w[1] - 1   w[0]  + 3⋅w[0] ⋅w[1] - 3⋅w[0]  + 3⋅w\n",
       "                                                                              \n",
       "\n",
       "                5                                                             \n",
       "          2⋅w[1]                                                              \n",
       "─────────────────────────────────────────────────────────────── + ────────────\n",
       "        2                              3         2                    2       \n",
       "[0]⋅w[1]  - 6⋅w[0]⋅w[1] + 3⋅w[0] + w[1]  - 3⋅w[1]  + 3⋅w[1] - 1   w[0]  + 2⋅w[\n",
       "                                                                              \n",
       "\n",
       "              4                                                  3            \n",
       "          w[0]                                             4⋅w[0] ⋅w[1]       \n",
       "───────────────────────────────────── + ──────────────────────────────────────\n",
       "                       2                    2                              2  \n",
       "0]⋅w[1] - 2⋅w[0] + w[1]  - 2⋅w[1] + 1   w[0]  + 2⋅w[0]⋅w[1] - 2⋅w[0] + w[1]  -\n",
       "                                                                              \n",
       "\n",
       "                                      2     2                                 \n",
       "                                6⋅w[0] ⋅w[1]                                  \n",
       "─────────── + ───────────────────────────────────────────────── + ────────────\n",
       "                  2                              2                    2       \n",
       " 2⋅w[1] + 1   w[0]  + 2⋅w[0]⋅w[1] - 2⋅w[0] + w[1]  - 2⋅w[1] + 1   w[0]  + 2⋅w[\n",
       "                                                                              \n",
       "\n",
       "                  3                                               4           \n",
       "       4⋅w[0]⋅w[1]                                            w[1]            \n",
       "───────────────────────────────────── + ──────────────────────────────────────\n",
       "                       2                    2                              2  \n",
       "0]⋅w[1] - 2⋅w[0] + w[1]  - 2⋅w[1] + 1   w[0]  + 2⋅w[0]⋅w[1] - 2⋅w[0] + w[1]  -\n",
       "                                                                              \n",
       "\n",
       "           ⎞      ⎛                                                           \n",
       "           ⎟    4 ⎜                                                           \n",
       "───────────⎟ + x ⋅⎜- ─────────────────────────────────────────────────────────\n",
       "           ⎟      ⎜      5         4              4          3     2          \n",
       " 2⋅w[1] + 1⎠      ⎝  w[0]  + 5⋅w[0] ⋅w[1] - 5⋅w[0]  + 10⋅w[0] ⋅w[1]  - 20⋅w[0]\n",
       "                                                                              \n",
       "\n",
       "                                                                          8   \n",
       "                                                                      w[0]    \n",
       "──────────────────────────────────────────────────────────────────────────────\n",
       "3               3          2     3          2     2          2               2\n",
       " ⋅w[1] + 10⋅w[0]  + 10⋅w[0] ⋅w[1]  - 30⋅w[0] ⋅w[1]  + 30⋅w[0] ⋅w[1] - 10⋅w[0] \n",
       "                                                                              \n",
       "\n",
       "                                                                              \n",
       "                                                                              \n",
       "──────────────────────────────────────────────────────────────────────────────\n",
       "              4               3               2                               \n",
       " + 5⋅w[0]⋅w[1]  - 20⋅w[0]⋅w[1]  + 30⋅w[0]⋅w[1]  - 20⋅w[0]⋅w[1] + 5⋅w[0] + w[1]\n",
       "                                                                              \n",
       "\n",
       "                                                                              \n",
       "                                                                              \n",
       "────────────────────────────────────────────── - ─────────────────────────────\n",
       "5         4          3          2                    5         4              \n",
       "  - 5⋅w[1]  + 10⋅w[1]  - 10⋅w[1]  + 5⋅w[1] - 1   w[0]  + 5⋅w[0] ⋅w[1] - 5⋅w[0]\n",
       "                                                                              \n",
       "\n",
       "                                                                              \n",
       "                                                                              \n",
       "──────────────────────────────────────────────────────────────────────────────\n",
       "4          3     2          3               3          2     3          2     \n",
       "  + 10⋅w[0] ⋅w[1]  - 20⋅w[0] ⋅w[1] + 10⋅w[0]  + 10⋅w[0] ⋅w[1]  - 30⋅w[0] ⋅w[1]\n",
       "                                                                              \n",
       "\n",
       "                       7                                                      \n",
       "                 8⋅w[0] ⋅w[1]                                                 \n",
       "──────────────────────────────────────────────────────────────────────────────\n",
       "2          2               2              4               3               2   \n",
       "  + 30⋅w[0] ⋅w[1] - 10⋅w[0]  + 5⋅w[0]⋅w[1]  - 20⋅w[0]⋅w[1]  + 30⋅w[0]⋅w[1]  - \n",
       "                                                                              \n",
       "\n",
       "                                                                              \n",
       "                                                                              \n",
       "────────────────────────────────────────────────────────────────────────── - ─\n",
       "                            5         4          3          2                 \n",
       "20⋅w[0]⋅w[1] + 5⋅w[0] + w[1]  - 5⋅w[1]  + 10⋅w[1]  - 10⋅w[1]  + 5⋅w[1] - 1   w\n",
       "                                                                              \n",
       "\n",
       "                                                                              \n",
       "                                                                              \n",
       "──────────────────────────────────────────────────────────────────────────────\n",
       "   5         4              4          3     2          3               3     \n",
       "[0]  + 5⋅w[0] ⋅w[1] - 5⋅w[0]  + 10⋅w[0] ⋅w[1]  - 20⋅w[0] ⋅w[1] + 10⋅w[0]  + 10\n",
       "                                                                              \n",
       "\n",
       "                                                   6     2                    \n",
       "                                            28⋅w[0] ⋅w[1]                     \n",
       "──────────────────────────────────────────────────────────────────────────────\n",
       "     2     3          2     2          2               2              4       \n",
       "⋅w[0] ⋅w[1]  - 30⋅w[0] ⋅w[1]  + 30⋅w[0] ⋅w[1] - 10⋅w[0]  + 5⋅w[0]⋅w[1]  - 20⋅w\n",
       "                                                                              \n",
       "\n",
       "                                                                              \n",
       "                                                                              \n",
       "──────────────────────────────────────────────────────────────────────────────\n",
       "        3               2                               5         4          3\n",
       "[0]⋅w[1]  + 30⋅w[0]⋅w[1]  - 20⋅w[0]⋅w[1] + 5⋅w[0] + w[1]  - 5⋅w[1]  + 10⋅w[1] \n",
       "                                                                              \n",
       "\n",
       "                                                                              \n",
       "                                                                              \n",
       "──────────────────────── - ───────────────────────────────────────────────────\n",
       "          2                    5         4              4          3     2    \n",
       " - 10⋅w[1]  + 5⋅w[1] - 1   w[0]  + 5⋅w[0] ⋅w[1] - 5⋅w[0]  + 10⋅w[0] ⋅w[1]  - 2\n",
       "                                                                              \n",
       "\n",
       "                                                                              \n",
       "                                                                        56⋅w[0\n",
       "──────────────────────────────────────────────────────────────────────────────\n",
       "      3               3          2     3          2     2          2          \n",
       "0⋅w[0] ⋅w[1] + 10⋅w[0]  + 10⋅w[0] ⋅w[1]  - 30⋅w[0] ⋅w[1]  + 30⋅w[0] ⋅w[1] - 10\n",
       "                                                                              \n",
       "\n",
       " 5     3                                                                      \n",
       "] ⋅w[1]                                                                       \n",
       "──────────────────────────────────────────────────────────────────────────────\n",
       "     2              4               3               2                         \n",
       "⋅w[0]  + 5⋅w[0]⋅w[1]  - 20⋅w[0]⋅w[1]  + 30⋅w[0]⋅w[1]  - 20⋅w[0]⋅w[1] + 5⋅w[0] \n",
       "                                                                              \n",
       "\n",
       "                                                                              \n",
       "                                                                              \n",
       "──────────────────────────────────────────────────── - ───────────────────────\n",
       "      5         4          3          2                    5         4        \n",
       "+ w[1]  - 5⋅w[1]  + 10⋅w[1]  - 10⋅w[1]  + 5⋅w[1] - 1   w[0]  + 5⋅w[0] ⋅w[1] - \n",
       "                                                                              \n",
       "\n",
       "                                                                              \n",
       "                                                                              \n",
       "──────────────────────────────────────────────────────────────────────────────\n",
       "      4          3     2          3               3          2     3          \n",
       "5⋅w[0]  + 10⋅w[0] ⋅w[1]  - 20⋅w[0] ⋅w[1] + 10⋅w[0]  + 10⋅w[0] ⋅w[1]  - 30⋅w[0]\n",
       "                                                                              \n",
       "\n",
       "                             4     4                                          \n",
       "                      70⋅w[0] ⋅w[1]                                           \n",
       "──────────────────────────────────────────────────────────────────────────────\n",
       "2     2          2               2              4               3             \n",
       " ⋅w[1]  + 30⋅w[0] ⋅w[1] - 10⋅w[0]  + 5⋅w[0]⋅w[1]  - 20⋅w[0]⋅w[1]  + 30⋅w[0]⋅w[\n",
       "                                                                              \n",
       "\n",
       "                                                                              \n",
       "                                                                              \n",
       "──────────────────────────────────────────────────────────────────────────────\n",
       "  2                               5         4          3          2           \n",
       "1]  - 20⋅w[0]⋅w[1] + 5⋅w[0] + w[1]  - 5⋅w[1]  + 10⋅w[1]  - 10⋅w[1]  + 5⋅w[1] -\n",
       "                                                                              \n",
       "\n",
       "                                                                              \n",
       "                                                                              \n",
       "── - ─────────────────────────────────────────────────────────────────────────\n",
       "         5         4              4          3     2          3               \n",
       " 1   w[0]  + 5⋅w[0] ⋅w[1] - 5⋅w[0]  + 10⋅w[0] ⋅w[1]  - 20⋅w[0] ⋅w[1] + 10⋅w[0]\n",
       "                                                                              \n",
       "\n",
       "                                                         3     5              \n",
       "                                                  56⋅w[0] ⋅w[1]               \n",
       "──────────────────────────────────────────────────────────────────────────────\n",
       "3          2     3          2     2          2               2              4 \n",
       "  + 10⋅w[0] ⋅w[1]  - 30⋅w[0] ⋅w[1]  + 30⋅w[0] ⋅w[1] - 10⋅w[0]  + 5⋅w[0]⋅w[1]  \n",
       "                                                                              \n",
       "\n",
       "                                                                              \n",
       "                                                                              \n",
       "──────────────────────────────────────────────────────────────────────────────\n",
       "              3               2                               5         4     \n",
       "- 20⋅w[0]⋅w[1]  + 30⋅w[0]⋅w[1]  - 20⋅w[0]⋅w[1] + 5⋅w[0] + w[1]  - 5⋅w[1]  + 10\n",
       "                                                                              \n",
       "\n",
       "                                                                              \n",
       "                                                                              \n",
       "────────────────────────────── - ─────────────────────────────────────────────\n",
       "     3          2                    5         4              4          3    \n",
       "⋅w[1]  - 10⋅w[1]  + 5⋅w[1] - 1   w[0]  + 5⋅w[0] ⋅w[1] - 5⋅w[0]  + 10⋅w[0] ⋅w[1\n",
       "                                                                              \n",
       "\n",
       "                                                                              \n",
       "                                                                              \n",
       "──────────────────────────────────────────────────────────────────────────────\n",
       " 2          3               3          2     3          2     2          2    \n",
       "]  - 20⋅w[0] ⋅w[1] + 10⋅w[0]  + 10⋅w[0] ⋅w[1]  - 30⋅w[0] ⋅w[1]  + 30⋅w[0] ⋅w[1\n",
       "                                                                              \n",
       "\n",
       "       2     6                                                                \n",
       "28⋅w[0] ⋅w[1]                                                                 \n",
       "──────────────────────────────────────────────────────────────────────────────\n",
       "           2              4               3               2                   \n",
       "] - 10⋅w[0]  + 5⋅w[0]⋅w[1]  - 20⋅w[0]⋅w[1]  + 30⋅w[0]⋅w[1]  - 20⋅w[0]⋅w[1] + 5\n",
       "                                                                              \n",
       "\n",
       "                                                                              \n",
       "                                                                              \n",
       "────────────────────────────────────────────────────────── - ─────────────────\n",
       "            5         4          3          2                    5         4  \n",
       "⋅w[0] + w[1]  - 5⋅w[1]  + 10⋅w[1]  - 10⋅w[1]  + 5⋅w[1] - 1   w[0]  + 5⋅w[0] ⋅w\n",
       "                                                                              \n",
       "\n",
       "                                                                              \n",
       "                                                                              \n",
       "──────────────────────────────────────────────────────────────────────────────\n",
       "            4          3     2          3               3          2     3    \n",
       "[1] - 5⋅w[0]  + 10⋅w[0] ⋅w[1]  - 20⋅w[0] ⋅w[1] + 10⋅w[0]  + 10⋅w[0] ⋅w[1]  - 3\n",
       "                                                                              \n",
       "\n",
       "                                        7                                     \n",
       "                             8⋅w[0]⋅w[1]                                      \n",
       "──────────────────────────────────────────────────────────────────────────────\n",
       "      2     2          2               2              4               3       \n",
       "0⋅w[0] ⋅w[1]  + 30⋅w[0] ⋅w[1] - 10⋅w[0]  + 5⋅w[0]⋅w[1]  - 20⋅w[0]⋅w[1]  + 30⋅w\n",
       "                                                                              \n",
       "\n",
       "                                                                              \n",
       "                                                                              \n",
       "──────────────────────────────────────────────────────────────────────────────\n",
       "        2                               5         4          3          2     \n",
       "[0]⋅w[1]  - 20⋅w[0]⋅w[1] + 5⋅w[0] + w[1]  - 5⋅w[1]  + 10⋅w[1]  - 10⋅w[1]  + 5⋅\n",
       "                                                                              \n",
       "\n",
       "                                                                              \n",
       "                                                                              \n",
       "──────── - ───────────────────────────────────────────────────────────────────\n",
       "               5         4              4          3     2          3         \n",
       "w[1] - 1   w[0]  + 5⋅w[0] ⋅w[1] - 5⋅w[0]  + 10⋅w[0] ⋅w[1]  - 20⋅w[0] ⋅w[1] + 1\n",
       "                                                                              \n",
       "\n",
       "                                                                8             \n",
       "                                                            w[1]              \n",
       "──────────────────────────────────────────────────────────────────────────────\n",
       "      3          2     3          2     2          2               2          \n",
       "0⋅w[0]  + 10⋅w[0] ⋅w[1]  - 30⋅w[0] ⋅w[1]  + 30⋅w[0] ⋅w[1] - 10⋅w[0]  + 5⋅w[0]⋅\n",
       "                                                                              \n",
       "\n",
       "                                                                              \n",
       "                                                                              \n",
       "──────────────────────────────────────────────────────────────────────────────\n",
       "    4               3               2                               5         \n",
       "w[1]  - 20⋅w[0]⋅w[1]  + 30⋅w[0]⋅w[1]  - 20⋅w[0]⋅w[1] + 5⋅w[0] + w[1]  - 5⋅w[1]\n",
       "                                                                              \n",
       "\n",
       "                                                                              \n",
       "                                                                              \n",
       "──────────────────────────────────── + ───────────────────────────────────────\n",
       "4          3          2                    4         3              3         \n",
       "  + 10⋅w[1]  - 10⋅w[1]  + 5⋅w[1] - 1   w[0]  + 4⋅w[0] ⋅w[1] - 4⋅w[0]  + 6⋅w[0]\n",
       "                                                                              \n",
       "\n",
       "                                               7                              \n",
       "                                         3⋅w[0]                               \n",
       "──────────────────────────────────────────────────────────────────────────────\n",
       "2     2          2              2              3               2              \n",
       " ⋅w[1]  - 12⋅w[0] ⋅w[1] + 6⋅w[0]  + 4⋅w[0]⋅w[1]  - 12⋅w[0]⋅w[1]  + 12⋅w[0]⋅w[1\n",
       "                                                                              \n",
       "\n",
       "                                                                              \n",
       "                                                                              \n",
       "─────────────────────────────────────────────────── + ────────────────────────\n",
       "                 4         3         2                    4         3         \n",
       "] - 4⋅w[0] + w[1]  - 4⋅w[1]  + 6⋅w[1]  - 4⋅w[1] + 1   w[0]  + 4⋅w[0] ⋅w[1] - 4\n",
       "                                                                              \n",
       "\n",
       "                                                            6                 \n",
       "                                                     21⋅w[0] ⋅w[1]            \n",
       "──────────────────────────────────────────────────────────────────────────────\n",
       "     3         2     2          2              2              3               \n",
       "⋅w[0]  + 6⋅w[0] ⋅w[1]  - 12⋅w[0] ⋅w[1] + 6⋅w[0]  + 4⋅w[0]⋅w[1]  - 12⋅w[0]⋅w[1]\n",
       "                                                                              \n",
       "\n",
       "                                                                              \n",
       "                                                                              \n",
       "────────────────────────────────────────────────────────────────── + ─────────\n",
       "2                               4         3         2                    4    \n",
       "  + 12⋅w[0]⋅w[1] - 4⋅w[0] + w[1]  - 4⋅w[1]  + 6⋅w[1]  - 4⋅w[1] + 1   w[0]  + 4\n",
       "                                                                              \n",
       "\n",
       "                                                                           5  \n",
       "                                                                    63⋅w[0] ⋅w\n",
       "──────────────────────────────────────────────────────────────────────────────\n",
       "     3              3         2     2          2              2              3\n",
       "⋅w[0] ⋅w[1] - 4⋅w[0]  + 6⋅w[0] ⋅w[1]  - 12⋅w[0] ⋅w[1] + 6⋅w[0]  + 4⋅w[0]⋅w[1] \n",
       "                                                                              \n",
       "\n",
       "   2                                                                          \n",
       "[1]                                                                           \n",
       "──────────────────────────────────────────────────────────────────────────────\n",
       "               2                               4         3         2          \n",
       " - 12⋅w[0]⋅w[1]  + 12⋅w[0]⋅w[1] - 4⋅w[0] + w[1]  - 4⋅w[1]  + 6⋅w[1]  - 4⋅w[1] \n",
       "                                                                              \n",
       "\n",
       "                                                                              \n",
       "                                                                              \n",
       "─── + ────────────────────────────────────────────────────────────────────────\n",
       "          4         3              3         2     2          2              2\n",
       "+ 1   w[0]  + 4⋅w[0] ⋅w[1] - 4⋅w[0]  + 6⋅w[0] ⋅w[1]  - 12⋅w[0] ⋅w[1] + 6⋅w[0] \n",
       "                                                                              \n",
       "\n",
       "            4     3                                                           \n",
       "    105⋅w[0] ⋅w[1]                                                            \n",
       "──────────────────────────────────────────────────────────────────────────────\n",
       "              3               2                               4         3     \n",
       " + 4⋅w[0]⋅w[1]  - 12⋅w[0]⋅w[1]  + 12⋅w[0]⋅w[1] - 4⋅w[0] + w[1]  - 4⋅w[1]  + 6⋅\n",
       "                                                                              \n",
       "\n",
       "                                                                              \n",
       "                                                                              \n",
       "────────────────── + ─────────────────────────────────────────────────────────\n",
       "    2                    4         3              3         2     2          2\n",
       "w[1]  - 4⋅w[1] + 1   w[0]  + 4⋅w[0] ⋅w[1] - 4⋅w[0]  + 6⋅w[0] ⋅w[1]  - 12⋅w[0] \n",
       "                                                                              \n",
       "\n",
       "                           3     4                                            \n",
       "                   105⋅w[0] ⋅w[1]                                             \n",
       "──────────────────────────────────────────────────────────────────────────────\n",
       "              2              3               2                               4\n",
       "⋅w[1] + 6⋅w[0]  + 4⋅w[0]⋅w[1]  - 12⋅w[0]⋅w[1]  + 12⋅w[0]⋅w[1] - 4⋅w[0] + w[1] \n",
       "                                                                              \n",
       "\n",
       "                                                                              \n",
       "                                                                              \n",
       "───────────────────────────────── + ──────────────────────────────────────────\n",
       "         3         2                    4         3              3         2  \n",
       " - 4⋅w[1]  + 6⋅w[1]  - 4⋅w[1] + 1   w[0]  + 4⋅w[0] ⋅w[1] - 4⋅w[0]  + 6⋅w[0] ⋅w\n",
       "                                                                              \n",
       "\n",
       "                                          2     5                             \n",
       "                                   63⋅w[0] ⋅w[1]                              \n",
       "──────────────────────────────────────────────────────────────────────────────\n",
       "   2          2              2              3               2                 \n",
       "[1]  - 12⋅w[0] ⋅w[1] + 6⋅w[0]  + 4⋅w[0]⋅w[1]  - 12⋅w[0]⋅w[1]  + 12⋅w[0]⋅w[1] -\n",
       "                                                                              \n",
       "\n",
       "                                                                              \n",
       "                                                                              \n",
       "──────────────────────────────────────────────── + ───────────────────────────\n",
       "              4         3         2                    4         3            \n",
       " 4⋅w[0] + w[1]  - 4⋅w[1]  + 6⋅w[1]  - 4⋅w[1] + 1   w[0]  + 4⋅w[0] ⋅w[1] - 4⋅w[\n",
       "                                                                              \n",
       "\n",
       "                                                              6               \n",
       "                                                  21⋅w[0]⋅w[1]                \n",
       "──────────────────────────────────────────────────────────────────────────────\n",
       "  3         2     2          2              2              3               2  \n",
       "0]  + 6⋅w[0] ⋅w[1]  - 12⋅w[0] ⋅w[1] + 6⋅w[0]  + 4⋅w[0]⋅w[1]  - 12⋅w[0]⋅w[1]  +\n",
       "                                                                              \n",
       "\n",
       "                                                                              \n",
       "                                                                              \n",
       "─────────────────────────────────────────────────────────────── + ────────────\n",
       "                             4         3         2                    4       \n",
       " 12⋅w[0]⋅w[1] - 4⋅w[0] + w[1]  - 4⋅w[1]  + 6⋅w[1]  - 4⋅w[1] + 1   w[0]  + 4⋅w[\n",
       "                                                                              \n",
       "\n",
       "                                                                          7   \n",
       "                                                                    3⋅w[1]    \n",
       "──────────────────────────────────────────────────────────────────────────────\n",
       "  3              3         2     2          2              2              3   \n",
       "0] ⋅w[1] - 4⋅w[0]  + 6⋅w[0] ⋅w[1]  - 12⋅w[0] ⋅w[1] + 6⋅w[0]  + 4⋅w[0]⋅w[1]  - \n",
       "                                                                              \n",
       "\n",
       "                                                                              \n",
       "                                                                              \n",
       "──────────────────────────────────────────────────────────────────────────────\n",
       "            2                               4         3         2             \n",
       "12⋅w[0]⋅w[1]  + 12⋅w[0]⋅w[1] - 4⋅w[0] + w[1]  - 4⋅w[1]  + 6⋅w[1]  - 4⋅w[1] + 1\n",
       "                                                                              \n",
       "\n",
       "                                                       6                      \n",
       "                                                 3⋅w[0]                       \n",
       " - ───────────────────────────────────────────────────────────────────────────\n",
       "       3         2              2              2                              \n",
       "   w[0]  + 3⋅w[0] ⋅w[1] - 3⋅w[0]  + 3⋅w[0]⋅w[1]  - 6⋅w[0]⋅w[1] + 3⋅w[0] + w[1]\n",
       "                                                                              \n",
       "\n",
       "                                                                             5\n",
       "                                                                      18⋅w[0] \n",
       "──────────────────────── - ───────────────────────────────────────────────────\n",
       "3         2                    3         2              2              2      \n",
       "  - 3⋅w[1]  + 3⋅w[1] - 1   w[0]  + 3⋅w[0] ⋅w[1] - 3⋅w[0]  + 3⋅w[0]⋅w[1]  - 6⋅w\n",
       "                                                                              \n",
       "\n",
       "                                                                              \n",
       "⋅w[1]                                                                         \n",
       "──────────────────────────────────────────────── - ───────────────────────────\n",
       "                        3         2                    3         2            \n",
       "[0]⋅w[1] + 3⋅w[0] + w[1]  - 3⋅w[1]  + 3⋅w[1] - 1   w[0]  + 3⋅w[0] ⋅w[1] - 3⋅w[\n",
       "                                                                              \n",
       "\n",
       "                       4     2                                                \n",
       "                45⋅w[0] ⋅w[1]                                                 \n",
       "──────────────────────────────────────────────────────────────────────── - ───\n",
       "  2              2                              3         2                   \n",
       "0]  + 3⋅w[0]⋅w[1]  - 6⋅w[0]⋅w[1] + 3⋅w[0] + w[1]  - 3⋅w[1]  + 3⋅w[1] - 1   w[0\n",
       "                                                                              \n",
       "\n",
       "                                               3     3                        \n",
       "                                        60⋅w[0] ⋅w[1]                         \n",
       "──────────────────────────────────────────────────────────────────────────────\n",
       " 3         2              2              2                              3     \n",
       "]  + 3⋅w[0] ⋅w[1] - 3⋅w[0]  + 3⋅w[0]⋅w[1]  - 6⋅w[0]⋅w[1] + 3⋅w[0] + w[1]  - 3⋅\n",
       "                                                                              \n",
       "\n",
       "                                                                       2     4\n",
       "                                                                45⋅w[0] ⋅w[1] \n",
       "────────────────── - ─────────────────────────────────────────────────────────\n",
       "    2                    3         2              2              2            \n",
       "w[1]  + 3⋅w[1] - 1   w[0]  + 3⋅w[0] ⋅w[1] - 3⋅w[0]  + 3⋅w[0]⋅w[1]  - 6⋅w[0]⋅w[\n",
       "                                                                              \n",
       "\n",
       "                                                                              \n",
       "                                                                              \n",
       "────────────────────────────────────────── - ─────────────────────────────────\n",
       "                  3         2                    3         2              2   \n",
       "1] + 3⋅w[0] + w[1]  - 3⋅w[1]  + 3⋅w[1] - 1   w[0]  + 3⋅w[0] ⋅w[1] - 3⋅w[0]  + \n",
       "                                                                              \n",
       "\n",
       "                      5                                                       \n",
       "          18⋅w[0]⋅w[1]                                                        \n",
       "────────────────────────────────────────────────────────────────── - ─────────\n",
       "           2                              3         2                    3    \n",
       "3⋅w[0]⋅w[1]  - 6⋅w[0]⋅w[1] + 3⋅w[0] + w[1]  - 3⋅w[1]  + 3⋅w[1] - 1   w[0]  + 3\n",
       "                                                                              \n",
       "\n",
       "                                           6                                  \n",
       "                                     3⋅w[1]                                   \n",
       "──────────────────────────────────────────────────────────────────────────────\n",
       "     2              2              2                              3         2 \n",
       "⋅w[0] ⋅w[1] - 3⋅w[0]  + 3⋅w[0]⋅w[1]  - 6⋅w[0]⋅w[1] + 3⋅w[0] + w[1]  - 3⋅w[1]  \n",
       "                                                                              \n",
       "\n",
       "                                         5                                    \n",
       "                                     w[0]                                     \n",
       "──────────── + ───────────────────────────────────────────────── + ───────────\n",
       "                   2                              2                    2      \n",
       "+ 3⋅w[1] - 1   w[0]  + 2⋅w[0]⋅w[1] - 2⋅w[0] + w[1]  - 2⋅w[1] + 1   w[0]  + 2⋅w\n",
       "                                                                              \n",
       "\n",
       "              4                                                   3     2     \n",
       "        5⋅w[0] ⋅w[1]                                       10⋅w[0] ⋅w[1]      \n",
       "────────────────────────────────────── + ─────────────────────────────────────\n",
       "                        2                    2                              2 \n",
       "[0]⋅w[1] - 2⋅w[0] + w[1]  - 2⋅w[1] + 1   w[0]  + 2⋅w[0]⋅w[1] - 2⋅w[0] + w[1]  \n",
       "                                                                              \n",
       "\n",
       "                                        2     3                               \n",
       "                                 10⋅w[0] ⋅w[1]                                \n",
       "──────────── + ───────────────────────────────────────────────── + ───────────\n",
       "                   2                              2                    2      \n",
       "- 2⋅w[1] + 1   w[0]  + 2⋅w[0]⋅w[1] - 2⋅w[0] + w[1]  - 2⋅w[1] + 1   w[0]  + 2⋅w\n",
       "                                                                              \n",
       "\n",
       "                   4                                               5          \n",
       "        5⋅w[0]⋅w[1]                                            w[1]           \n",
       "────────────────────────────────────── + ─────────────────────────────────────\n",
       "                        2                    2                              2 \n",
       "[0]⋅w[1] - 2⋅w[0] + w[1]  - 2⋅w[1] + 1   w[0]  + 2⋅w[0]⋅w[1] - 2⋅w[0] + w[1]  \n",
       "                                                                              \n",
       "\n",
       "            ⎞        \n",
       "            ⎟    ⎛ 5⎞\n",
       "────────────⎟ + O⎝x ⎠\n",
       "            ⎟        \n",
       "- 2⋅w[1] + 1⎠        \n",
       "                     "
      ]
     },
     "execution_count": 56,
     "metadata": {},
     "output_type": "execute_result"
    }
   ],
   "source": [
    "arr.series(x,n=5,is_exp=False)"
   ]
  },
  {
   "cell_type": "code",
   "execution_count": 57,
   "metadata": {
    "collapsed": false,
    "deletable": true,
    "editable": true
   },
   "outputs": [
    {
     "data": {
      "image/png": "[encoded data removed]",
      "text/latex": [
       "$$- 32 x^{4} + 16 x^{3} - 8 x^{2} + 4 x - 1$$"
      ],
      "text/plain": [
       "      4       3      2          \n",
       "- 32⋅x  + 16⋅x  - 8⋅x  + 4⋅x - 1"
      ]
     },
     "execution_count": 57,
     "metadata": {},
     "output_type": "execute_result"
    }
   ],
   "source": [
    "_.rhs.rhs.removeO().subs({w[0]:1,w[1]:1})"
   ]
  },
  {
   "cell_type": "markdown",
   "metadata": {
    "deletable": true,
    "editable": true
   },
   "source": [
    "---"
   ]
  },
  {
   "cell_type": "code",
   "execution_count": 293,
   "metadata": {
    "collapsed": false,
    "deletable": true,
    "editable": true
   },
   "outputs": [
    {
     "data": {
      "image/png": "[encoded data removed]",
      "text/latex": [
       "$$\\left [ x + \\mathcal{L}_{\\Gamma}^{2}{\\left (x \\right )} + e^{x} e^{\\mathcal{L}_{\\Gamma}{\\left (x \\right )}}\\right ]$$"
      ],
      "text/plain": [
       "⎡                        2       x  \\mathcal{L}_{\\Gamma}(x)⎤\n",
       "⎣x + \\mathcal{L}_{\\Gamma} (x) + ℯ ⋅ℯ                       ⎦"
      ]
     },
     "execution_count": 293,
     "metadata": {},
     "output_type": "execute_result"
    }
   ],
   "source": [
    "lamda_gf = lamda(tyvar(x)).gf_rhs(tyvar(x))\n",
    "lamda_gf"
   ]
  },
  {
   "cell_type": "code",
   "execution_count": 112,
   "metadata": {
    "collapsed": false,
    "deletable": true,
    "editable": true
   },
   "outputs": [
    {
     "data": {
      "image/png": "[encoded data removed]",
      "text/latex": [
       "$$x + 2 x^{2} + 6 x^{3} + 22 x^{4} + 90 x^{5} + 394 x^{6} + 1806 x^{7} + 8558 x^{8} + 41586 x^{9} + O\\left(x^{10}\\right)$$"
      ],
      "text/plain": [
       "       2      3       4       5        6         7         8          9    ⎛ 1\n",
       "x + 2⋅x  + 6⋅x  + 22⋅x  + 90⋅x  + 394⋅x  + 1806⋅x  + 8558⋅x  + 41586⋅x  + O⎝x \n",
       "\n",
       "0⎞\n",
       " ⎠"
      ]
     },
     "execution_count": 112,
     "metadata": {},
     "output_type": "execute_result"
    }
   ],
   "source": [
    "lamda_gf.rhs.series(x,n=10)"
   ]
  },
  {
   "cell_type": "markdown",
   "metadata": {
    "deletable": true,
    "editable": true
   },
   "source": [
    "---\n",
    "<a rel=\"license\" href=\"http://creativecommons.org/licenses/by-nc-sa/4.0/\"><img alt=\"Creative Commons License\" style=\"border-width:0\" src=\"https://i.creativecommons.org/l/by-nc-sa/4.0/88x31.png\" /></a><br />This work is licensed under a <a rel=\"license\" href=\"http://creativecommons.org/licenses/by-nc-sa/4.0/\">Creative Commons Attribution-NonCommercial-ShareAlike 4.0 International License</a>."
   ]
  }
 ],
 "metadata": {
  "kernelspec": {
   "display_name": "Python 3",
   "language": "python",
   "name": "python3"
  },
  "language_info": {
   "codemirror_mode": {
    "name": "ipython",
    "version": 3
   },
   "file_extension": ".py",
   "mimetype": "text/x-python",
   "name": "python",
   "nbconvert_exporter": "python",
   "pygments_lexer": "ipython3",
   "version": "3.6.0"
  }
 },
 "nbformat": 4,
 "nbformat_minor": 2
}
