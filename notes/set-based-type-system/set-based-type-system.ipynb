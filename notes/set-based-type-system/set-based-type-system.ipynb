{
 "cells": [
  {
   "cell_type": "markdown",
   "metadata": {
    "deletable": true,
    "editable": true
   },
   "source": [
    "<p>\n",
    "<img src=\"http://www.cerm.unifi.it/chianti/images/logo%20unifi_positivo.jpg\" \n",
    "        alt=\"UniFI logo\" style=\"float: left; width: 20%; height: 20%;\">\n",
    "<div align=\"right\">\n",
    "Massimo Nocentini<br>\n",
    "</div>\n",
    "</p>\n",
    "<br>\n",
    "<div align=\"center\">\n",
    "<b>Abstract</b><br>\n",
    "In this document we collect a naive <i>type system</i> based on sets.\n",
    "</div>"
   ]
  },
  {
   "cell_type": "code",
   "execution_count": 1,
   "metadata": {
    "collapsed": true,
    "deletable": true,
    "editable": true
   },
   "outputs": [],
   "source": [
    "from itertools import repeat\n",
    "from sympy import *\n",
    "#from type_system import *"
   ]
  },
  {
   "cell_type": "code",
   "execution_count": 2,
   "metadata": {
    "collapsed": true,
    "deletable": true,
    "editable": true
   },
   "outputs": [],
   "source": [
    "%run ../../src/commons.py"
   ]
  },
  {
   "cell_type": "code",
   "execution_count": 3,
   "metadata": {
    "collapsed": false,
    "deletable": true,
    "editable": true
   },
   "outputs": [],
   "source": [
    "%run ./type-system.py"
   ]
  },
  {
   "cell_type": "markdown",
   "metadata": {
    "deletable": true,
    "editable": true
   },
   "source": [
    "---"
   ]
  },
  {
   "cell_type": "code",
   "execution_count": 4,
   "metadata": {
    "collapsed": true,
    "deletable": true,
    "editable": true
   },
   "outputs": [],
   "source": [
    "init_printing()"
   ]
  },
  {
   "cell_type": "code",
   "execution_count": 5,
   "metadata": {
    "collapsed": true,
    "deletable": true,
    "editable": true
   },
   "outputs": [],
   "source": [
    "x,y,m,n,t,z = symbols('x y m n t z', commutative=True)\n",
    "alpha, beta, gamma, eta = symbols(r'\\alpha \\beta \\gamma \\eta', commutative=True)\n",
    "f,g = Function('f'), Function('g')"
   ]
  },
  {
   "cell_type": "markdown",
   "metadata": {
    "deletable": true,
    "editable": true
   },
   "source": [
    "# Non-commutative symbols"
   ]
  },
  {
   "cell_type": "code",
   "execution_count": 17,
   "metadata": {
    "collapsed": false,
    "deletable": true,
    "editable": true
   },
   "outputs": [
    {
     "data": {
      "image/png": "[encoded data removed]",
      "text/latex": [
       "$$z \\left(2 w_{0}^{2} + 2 w_{0} w_{1} + 2 w_{1}^{2}\\right) + z^{2} \\left(3 w_{0}^{3} + 3 w_{0}^{2} w_{1} + 3 w_{0} w_{1}^{2} + 3 w_{1}^{3}\\right) + z^{3} \\left(4 w_{0}^{4} + 4 w_{0}^{3} w_{1} + 4 w_{0}^{2} w_{1}^{2} + 4 w_{0} w_{1}^{3} + 4 w_{1}^{4}\\right) + z^{4} \\left(5 w_{0}^{5} + 5 w_{0}^{4} w_{1} + 5 w_{0}^{3} w_{1}^{2} + 5 w_{0}^{2} w_{1}^{3} + 5 w_{0} w_{1}^{4} + 5 w_{1}^{5}\\right) + z^{5} \\left(6 w_{0}^{6} + 6 w_{0}^{5} w_{1} + 6 w_{0}^{4} w_{1}^{2} + 6 w_{0}^{3} w_{1}^{3} + 6 w_{0}^{2} w_{1}^{4} + 6 w_{0} w_{1}^{5} + 6 w_{1}^{6}\\right) + w_{1} + w_{0} + \\mathcal{O}\\left(z^{6}\\right)$$"
      ],
      "text/plain": [
       "  ⎛    2                 2⎞    2 ⎛    3       2             2       3⎞    3 ⎛ \n",
       "z⋅⎝2⋅w₀  + 2⋅w₀⋅w₁ + 2⋅w₁ ⎠ + z ⋅⎝3⋅w₀  + 3⋅w₀ ⋅w₁ + 3⋅w₀⋅w₁  + 3⋅w₁ ⎠ + z ⋅⎝4\n",
       "\n",
       "   4       3          2   2          3       4⎞    4 ⎛    5       4          3\n",
       "⋅w₀  + 4⋅w₀ ⋅w₁ + 4⋅w₀ ⋅w₁  + 4⋅w₀⋅w₁  + 4⋅w₁ ⎠ + z ⋅⎝5⋅w₀  + 5⋅w₀ ⋅w₁ + 5⋅w₀ \n",
       "\n",
       "   2       2   3          4       5⎞    5 ⎛    6       5          4   2       \n",
       "⋅w₁  + 5⋅w₀ ⋅w₁  + 5⋅w₀⋅w₁  + 5⋅w₁ ⎠ + z ⋅⎝6⋅w₀  + 6⋅w₀ ⋅w₁ + 6⋅w₀ ⋅w₁  + 6⋅w₀\n",
       "\n",
       "3   3       2   4          5       6⎞              ⎛ 6⎞\n",
       " ⋅w₁  + 6⋅w₀ ⋅w₁  + 6⋅w₀⋅w₁  + 6⋅w₁ ⎠ + w₁ + w₀ + O⎝z ⎠"
      ]
     },
     "execution_count": 17,
     "metadata": {},
     "output_type": "execute_result"
    }
   ],
   "source": [
    "((1/(1-w[0]*z))*(1/(1-w[1]*z))).diff(z).series(z, n=6)"
   ]
  },
  {
   "cell_type": "code",
   "execution_count": 7,
   "metadata": {
    "collapsed": false,
    "deletable": true,
    "editable": true
   },
   "outputs": [
    {
     "data": {
      "image/png": "[encoded data removed]",
      "text/latex": [
       "$$f{\\left (z \\right )} = \\frac{z}{\\left(- z + 1\\right)^{2}} = z + 2 z^{2} + 3 z^{3} + 4 z^{4} + 5 z^{5} + 6 z^{6} + 7 z^{7} + 8 z^{8} + 9 z^{9} + O\\left(z^{10}\\right)$$"
      ],
      "text/plain": [
       "           z              2      3      4      5      6      7      8      9  \n",
       "f(z) = ───────── = z + 2⋅z  + 3⋅z  + 4⋅z  + 5⋅z  + 6⋅z  + 7⋅z  + 8⋅z  + 9⋅z  +\n",
       "               2                                                              \n",
       "       (-z + 1)                                                               \n",
       "\n",
       "  ⎛ 10⎞\n",
       " O⎝z  ⎠\n",
       "       \n",
       "       "
      ]
     },
     "execution_count": 7,
     "metadata": {},
     "output_type": "execute_result"
    }
   ],
   "source": [
    "define(f(z), z/((1-z)**2),ctor=FEq).series(z,n=10)"
   ]
  },
  {
   "cell_type": "code",
   "execution_count": 8,
   "metadata": {
    "collapsed": false,
    "deletable": true,
    "editable": true
   },
   "outputs": [
    {
     "data": {
      "image/png": "[encoded data removed]",
      "text/latex": [
       "$$f{\\left (z \\right )} = \\frac{1}{- \\alpha z + 1} = 1 + \\alpha z + \\alpha^{2} z^{2} + \\alpha^{3} z^{3} + \\alpha^{4} z^{4} + \\alpha^{5} z^{5} + \\alpha^{6} z^{6} + \\alpha^{7} z^{7} + \\alpha^{8} z^{8} + \\alpha^{9} z^{9} + O\\left(z^{10}\\right)$$"
      ],
      "text/plain": [
       "             1                              2  2         3  3         4  4    \n",
       "f(z) = ───────────── = 1 + \\alpha⋅z + \\alpha ⋅z  + \\alpha ⋅z  + \\alpha ⋅z  + \\\n",
       "       -\\alpha⋅z + 1                                                          \n",
       "\n",
       "     5  5         6  6         7  7         8  8         9  9    ⎛ 10⎞\n",
       "alpha ⋅z  + \\alpha ⋅z  + \\alpha ⋅z  + \\alpha ⋅z  + \\alpha ⋅z  + O⎝z  ⎠\n",
       "                                                                      "
      ]
     },
     "execution_count": 8,
     "metadata": {},
     "output_type": "execute_result"
    }
   ],
   "source": [
    "define(f(z), 1/(1-alpha*z), ctor=FEq).series(z,n=10)"
   ]
  },
  {
   "cell_type": "code",
   "execution_count": 9,
   "metadata": {
    "collapsed": false,
    "deletable": true,
    "editable": true
   },
   "outputs": [
    {
     "data": {
      "image/png": "[encoded data removed]",
      "text/latex": [
       "$$f{\\left (z \\right )} = \\frac{1}{- z \\left(u_{0} + u_{1}\\right) + 1} = 1 + z \\left(u_{0} + u_{1}\\right) + z^{2} \\left(u_{0}^{2} + 2 u_{0} u_{1} + u_{1}^{2}\\right) + z^{3} \\left(u_{0}^{3} + 3 u_{0}^{2} u_{1} + 3 u_{0} u_{1}^{2} + u_{1}^{3}\\right) + O\\left(z^{4}\\right)$$"
      ],
      "text/plain": [
       "              1                              2 ⎛  2               2⎞    3 ⎛  3\n",
       "f(z) = ──────────────── = 1 + z⋅(u₀ + u₁) + z ⋅⎝u₀  + 2⋅u₀⋅u₁ + u₁ ⎠ + z ⋅⎝u₀ \n",
       "       -z⋅(u₀ + u₁) + 1                                                       \n",
       "\n",
       "       2             2     3⎞    ⎛ 4⎞\n",
       " + 3⋅u₀ ⋅u₁ + 3⋅u₀⋅u₁  + u₁ ⎠ + O⎝z ⎠\n",
       "                                     "
      ]
     },
     "execution_count": 9,
     "metadata": {},
     "output_type": "execute_result"
    }
   ],
   "source": [
    "define(f(z), 1/(1-(u[0]+u[1])*z), ctor=FEq).series(z,n=4)"
   ]
  },
  {
   "cell_type": "code",
   "execution_count": 10,
   "metadata": {
    "collapsed": false,
    "deletable": true,
    "editable": true
   },
   "outputs": [
    {
     "data": {
      "image/png": "[encoded data removed]",
      "text/latex": [
       "$$f{\\left (z \\right )} = \\left(- z \\left(o_{0} + o_{1}\\right) + 1\\right)^{-1} = 1 + z \\left(o_{0} + o_{1}\\right) + z^{2} \\left(o_{0} o_{1} + o_{0}^{2} + o_{1} o_{0} + o_{1}^{2}\\right) + z^{3} \\left(o_{0} o_{1} o_{0} + o_{0} o_{1}^{2} + o_{0}^{2} o_{1} + o_{0}^{3} + o_{1} o_{0} o_{1} + o_{1} o_{0}^{2} + o_{1}^{2} o_{0} + o_{1}^{3}\\right) + O\\left(z^{4}\\right)$$"
      ],
      "text/plain": [
       "                         -1                      2 ⎛          2             2⎞\n",
       "f(z) = (-z⋅(o₀ + o₁) + 1)   = 1 + z⋅(o₀ + o₁) + z ⋅⎝o₀⋅o₁ + o₀  + o₁⋅o₀ + o₁ ⎠\n",
       "\n",
       "    3 ⎛                2     2        3                   2     2        3⎞   \n",
       " + z ⋅⎝o₀⋅o₁⋅o₀ + o₀⋅o₁  + o₀ ⋅o₁ + o₀  + o₁⋅o₀⋅o₁ + o₁⋅o₀  + o₁ ⋅o₀ + o₁ ⎠ + \n",
       "\n",
       " ⎛ 4⎞\n",
       "O⎝z ⎠"
      ]
     },
     "execution_count": 10,
     "metadata": {},
     "output_type": "execute_result"
    }
   ],
   "source": [
    "define(f(z), 1/(1-(o[0]+o[1])*z), ctor=FEq).series(z,n=4)"
   ]
  },
  {
   "cell_type": "markdown",
   "metadata": {
    "deletable": true,
    "editable": true
   },
   "source": [
    "# Exponential gf recap"
   ]
  },
  {
   "cell_type": "code",
   "execution_count": 14,
   "metadata": {
    "collapsed": false,
    "deletable": true,
    "editable": true
   },
   "outputs": [
    {
     "data": {
      "image/png": "[encoded data removed]",
      "text/latex": [
       "$$f{\\left (z \\right )} = \\frac{z}{\\left(- z + 1\\right)^{2}} = z + 2 z^{2} + 3 z^{3} + 4 z^{4} + 5 z^{5} + 6 z^{6} + 7 z^{7} + 8 z^{8} + 9 z^{9} + O\\left(z^{10}\\right)$$"
      ],
      "text/plain": [
       "           z              2      3      4      5      6      7      8      9  \n",
       "f(z) = ───────── = z + 2⋅z  + 3⋅z  + 4⋅z  + 5⋅z  + 6⋅z  + 7⋅z  + 8⋅z  + 9⋅z  +\n",
       "               2                                                              \n",
       "       (-z + 1)                                                               \n",
       "\n",
       "  ⎛ 10⎞\n",
       " O⎝z  ⎠\n",
       "       \n",
       "       "
      ]
     },
     "execution_count": 14,
     "metadata": {},
     "output_type": "execute_result"
    }
   ],
   "source": [
    "define(f(z), z*(1/(1-z))*(1/(1-z)), ctor=FEq).series(z,n=10)"
   ]
  },
  {
   "cell_type": "code",
   "execution_count": 15,
   "metadata": {
    "collapsed": false,
    "deletable": true,
    "editable": true
   },
   "outputs": [
    {
     "data": {
      "image/png": "[encoded data removed]",
      "text/latex": [
       "$$f{\\left (z \\right )} = z^{3} = 6 z^{3}$$"
      ],
      "text/plain": [
       "        3      3\n",
       "f(z) = z  = 6⋅z "
      ]
     },
     "execution_count": 15,
     "metadata": {},
     "output_type": "execute_result"
    }
   ],
   "source": [
    "define(f(z), z**3,ctor=FEq).series(z, n=10, kernel='exponential')"
   ]
  },
  {
   "cell_type": "code",
   "execution_count": 16,
   "metadata": {
    "collapsed": false,
    "deletable": true,
    "editable": true
   },
   "outputs": [
    {
     "data": {
      "image/png": "[encoded data removed]",
      "text/latex": [
       "$$f{\\left (z \\right )} = e^{z} = 1 + z + z^{2} + z^{3} + z^{4} + z^{5} + z^{6} + z^{7} + z^{8} + z^{9} + O\\left(z^{10}\\right)$$"
      ],
      "text/plain": [
       "        z            2    3    4    5    6    7    8    9    ⎛ 10⎞\n",
       "f(z) = ℯ  = 1 + z + z  + z  + z  + z  + z  + z  + z  + z  + O⎝z  ⎠"
      ]
     },
     "execution_count": 16,
     "metadata": {},
     "output_type": "execute_result"
    }
   ],
   "source": [
    "define(f(z), exp(z),ctor=FEq).series(z, n=10, kernel='exponential')"
   ]
  },
  {
   "cell_type": "code",
   "execution_count": 11,
   "metadata": {
    "collapsed": false,
    "deletable": true,
    "editable": true
   },
   "outputs": [
    {
     "data": {
      "image/png": "[encoded data removed]",
      "text/latex": [
       "$$f{\\left (z \\right )} = z e^{z} = z + 2 z^{2} + 3 z^{3} + 4 z^{4} + 5 z^{5} + 6 z^{6} + 7 z^{7} + 8 z^{8} + 9 z^{9} + O\\left(z^{10}\\right)$$"
      ],
      "text/plain": [
       "          z          2      3      4      5      6      7      8      9    ⎛ 1\n",
       "f(z) = z⋅ℯ  = z + 2⋅z  + 3⋅z  + 4⋅z  + 5⋅z  + 6⋅z  + 7⋅z  + 8⋅z  + 9⋅z  + O⎝z \n",
       "\n",
       "0⎞\n",
       " ⎠"
      ]
     },
     "execution_count": 11,
     "metadata": {},
     "output_type": "execute_result"
    }
   ],
   "source": [
    "define(f(z), z*exp(z), ctor=FEq).series(z, n=10, kernel='exponential')"
   ]
  },
  {
   "cell_type": "code",
   "execution_count": 13,
   "metadata": {
    "collapsed": false,
    "deletable": true,
    "editable": true
   },
   "outputs": [
    {
     "data": {
      "image/png": "[encoded data removed]",
      "text/latex": [
       "$$f{\\left (z \\right )} = \\frac{z^{2} e^{z}}{2!} = z^{2} + 3 z^{3} + 6 z^{4} + 10 z^{5} + 15 z^{6} + 21 z^{7} + 28 z^{8} + 36 z^{9} + O\\left(z^{10}\\right)$$"
      ],
      "text/plain": [
       "        2  z                                                                  \n",
       "       z ⋅ℯ     2      3      4       5       6       7       8       9    ⎛ 1\n",
       "f(z) = ───── = z  + 3⋅z  + 6⋅z  + 10⋅z  + 15⋅z  + 21⋅z  + 28⋅z  + 36⋅z  + O⎝z \n",
       "         2!                                                                   \n",
       "\n",
       "  \n",
       "0⎞\n",
       " ⎠\n",
       "  "
      ]
     },
     "execution_count": 13,
     "metadata": {},
     "output_type": "execute_result"
    }
   ],
   "source": [
    "define(f(z), z**2*exp(z)/factorial(2,evaluate=False), \n",
    "       ctor=FEq).series(z, n=10, kernel='exponential')"
   ]
  },
  {
   "cell_type": "code",
   "execution_count": 14,
   "metadata": {
    "collapsed": false,
    "deletable": true,
    "editable": true
   },
   "outputs": [
    {
     "data": {
      "image/png": "[encoded data removed]",
      "text/latex": [
       "$$f{\\left (z \\right )} = \\frac{z^{3} e^{z}}{3!} = z^{3} + 4 z^{4} + 10 z^{5} + 20 z^{6} + 35 z^{7} + 56 z^{8} + 84 z^{9} + O\\left(z^{10}\\right)$$"
      ],
      "text/plain": [
       "        3  z                                                             \n",
       "       z ⋅ℯ     3      4       5       6       7       8       9    ⎛ 10⎞\n",
       "f(z) = ───── = z  + 4⋅z  + 10⋅z  + 20⋅z  + 35⋅z  + 56⋅z  + 84⋅z  + O⎝z  ⎠\n",
       "         3!                                                              "
      ]
     },
     "execution_count": 14,
     "metadata": {},
     "output_type": "execute_result"
    }
   ],
   "source": [
    "define(f(z), z**3*exp(z)/factorial(3, evaluate=False), \n",
    "       ctor=FEq).series(z, n=10, kernel='exponential')"
   ]
  },
  {
   "cell_type": "code",
   "execution_count": 15,
   "metadata": {
    "collapsed": false,
    "deletable": true,
    "editable": true
   },
   "outputs": [
    {
     "data": {
      "image/png": "[encoded data removed]",
      "text/latex": [
       "$$f{\\left (z \\right )} = \\frac{e^{z}}{2} + \\frac{e^{- z}}{2} = 1 + z^{2} + z^{4} + z^{6} + z^{8} + z^{10} + z^{12} + z^{14} + z^{16} + z^{18} + O\\left(z^{20}\\right)$$"
      ],
      "text/plain": [
       "        z    -z                                                               \n",
       "       ℯ    ℯ          2    4    6    8    10    12    14    16    18    ⎛ 20⎞\n",
       "f(z) = ── + ─── = 1 + z  + z  + z  + z  + z   + z   + z   + z   + z   + O⎝z  ⎠\n",
       "       2     2                                                                "
      ]
     },
     "execution_count": 15,
     "metadata": {},
     "output_type": "execute_result"
    }
   ],
   "source": [
    "define(f(z), (exp(z)+exp(-z))/2, ctor=FEq).series(z, n=20, kernel='exponential')"
   ]
  },
  {
   "cell_type": "code",
   "execution_count": 16,
   "metadata": {
    "collapsed": false,
    "deletable": true,
    "editable": true
   },
   "outputs": [
    {
     "data": {
      "image/png": "[encoded data removed]",
      "text/latex": [
       "$$f{\\left (z \\right )} = e^{m z} = 1 + m z + m^{2} z^{2} + m^{3} z^{3} + m^{4} z^{4} + m^{5} z^{5} + m^{6} z^{6} + m^{7} z^{7} + m^{8} z^{8} + m^{9} z^{9} + O\\left(z^{10}\\right)$$"
      ],
      "text/plain": [
       "        m⋅z              2  2    3  3    4  4    5  5    6  6    7  7    8  8 \n",
       "f(z) = ℯ    = 1 + m⋅z + m ⋅z  + m ⋅z  + m ⋅z  + m ⋅z  + m ⋅z  + m ⋅z  + m ⋅z  \n",
       "\n",
       "   9  9    ⎛ 10⎞\n",
       "+ m ⋅z  + O⎝z  ⎠"
      ]
     },
     "execution_count": 16,
     "metadata": {},
     "output_type": "execute_result"
    }
   ],
   "source": [
    "define(f(z), exp(m*z), ctor=FEq).series(z, n=10, kernel='exponential')"
   ]
  },
  {
   "cell_type": "code",
   "execution_count": 17,
   "metadata": {
    "collapsed": false,
    "deletable": true,
    "editable": true
   },
   "outputs": [
    {
     "data": {
      "image/png": "[encoded data removed]",
      "text/latex": [
       "$$f{\\left (z \\right )} = \\frac{e^{z} - 1}{z} = 1 + \\frac{z}{2} + \\frac{z^{2}}{3} + \\frac{z^{3}}{4} + \\frac{z^{4}}{5} + \\frac{z^{5}}{6} + \\frac{z^{6}}{7} + \\frac{z^{7}}{8} + \\frac{z^{8}}{9} + \\frac{z^{9}}{10} + O\\left(z^{10}\\right)$$"
      ],
      "text/plain": [
       "        z                2    3    4    5    6    7    8    9         \n",
       "       ℯ  - 1       z   z    z    z    z    z    z    z    z     ⎛ 10⎞\n",
       "f(z) = ────── = 1 + ─ + ── + ── + ── + ── + ── + ── + ── + ── + O⎝z  ⎠\n",
       "         z          2   3    4    5    6    7    8    9    10         "
      ]
     },
     "execution_count": 17,
     "metadata": {},
     "output_type": "execute_result"
    }
   ],
   "source": [
    "define(f(z), (exp(z)-1)/z, ctor=FEq).series(z, n=10, kernel='exponential')"
   ]
  },
  {
   "cell_type": "code",
   "execution_count": 18,
   "metadata": {
    "collapsed": false,
    "deletable": true,
    "editable": true
   },
   "outputs": [
    {
     "data": {
      "image/png": "[encoded data removed]",
      "text/latex": [
       "$$f{\\left (z \\right )} = \\frac{1}{- z + 1} = 1 + z + 2 z^{2} + 6 z^{3} + 24 z^{4} + 120 z^{5} + 720 z^{6} + 5040 z^{7} + 40320 z^{8} + 362880 z^{9} + O\\left(z^{10}\\right)$$"
      ],
      "text/plain": [
       "         1                 2      3       4        5        6         7       \n",
       "f(z) = ────── = 1 + z + 2⋅z  + 6⋅z  + 24⋅z  + 120⋅z  + 720⋅z  + 5040⋅z  + 4032\n",
       "       -z + 1                                                                 \n",
       "\n",
       "   8           9    ⎛ 10⎞\n",
       "0⋅z  + 362880⋅z  + O⎝z  ⎠\n",
       "                         "
      ]
     },
     "execution_count": 18,
     "metadata": {},
     "output_type": "execute_result"
    }
   ],
   "source": [
    "define(f(z), 1/(1-z), ctor=FEq).series(z, n=10, kernel='exponential')"
   ]
  },
  {
   "cell_type": "code",
   "execution_count": 19,
   "metadata": {
    "collapsed": false,
    "deletable": true,
    "editable": true
   },
   "outputs": [
    {
     "data": {
      "image/png": "[encoded data removed]",
      "text/latex": [
       "$$f{\\left (z \\right )} = \\frac{1}{\\left(- z + 1\\right)^{2}} = 1 + 2 z + 6 z^{2} + 24 z^{3} + 120 z^{4} + 720 z^{5} + 5040 z^{6} + 40320 z^{7} + 362880 z^{8} + 3628800 z^{9} + O\\left(z^{10}\\right)$$"
      ],
      "text/plain": [
       "           1                    2       3        4        5         6         \n",
       "f(z) = ───────── = 1 + 2⋅z + 6⋅z  + 24⋅z  + 120⋅z  + 720⋅z  + 5040⋅z  + 40320⋅\n",
       "               2                                                              \n",
       "       (-z + 1)                                                               \n",
       "\n",
       " 7           8            9    ⎛ 10⎞\n",
       "z  + 362880⋅z  + 3628800⋅z  + O⎝z  ⎠\n",
       "                                    \n",
       "                                    "
      ]
     },
     "execution_count": 19,
     "metadata": {},
     "output_type": "execute_result"
    }
   ],
   "source": [
    "define(f(z), (1/(1-z))*(1/(1-z)), ctor=FEq).series(z, n=10, kernel='exponential')"
   ]
  },
  {
   "cell_type": "code",
   "execution_count": 20,
   "metadata": {
    "collapsed": false,
    "deletable": true,
    "editable": true
   },
   "outputs": [
    {
     "data": {
      "image/png": "[encoded data removed]",
      "text/latex": [
       "$$f{\\left (z \\right )} = e^{2 z} = 1 + 2 z + 4 z^{2} + 8 z^{3} + 16 z^{4} + 32 z^{5} + 64 z^{6} + 128 z^{7} + 256 z^{8} + 512 z^{9} + O\\left(z^{10}\\right)$$"
      ],
      "text/plain": [
       "        2⋅z                2      3       4       5       6        7        8 \n",
       "f(z) = ℯ    = 1 + 2⋅z + 4⋅z  + 8⋅z  + 16⋅z  + 32⋅z  + 64⋅z  + 128⋅z  + 256⋅z  \n",
       "\n",
       "       9    ⎛ 10⎞\n",
       "+ 512⋅z  + O⎝z  ⎠"
      ]
     },
     "execution_count": 20,
     "metadata": {},
     "output_type": "execute_result"
    }
   ],
   "source": [
    "define(f(z), exp(z)**2, ctor=FEq).series(z, n=10, kernel='exponential')"
   ]
  },
  {
   "cell_type": "markdown",
   "metadata": {
    "deletable": true,
    "editable": true
   },
   "source": [
    "# Linear types"
   ]
  },
  {
   "cell_type": "code",
   "execution_count": 7,
   "metadata": {
    "collapsed": false,
    "deletable": true,
    "editable": true
   },
   "outputs": [
    {
     "data": {
      "image/png": "[encoded data removed]",
      "text/latex": [
       "$$\\left [ \\mathcal{V}{\\left (x \\right )} = x\\right ]$$"
      ],
      "text/plain": [
       "[\\mathcal{V}(x) = x]"
      ]
     },
     "execution_count": 7,
     "metadata": {},
     "output_type": "execute_result"
    }
   ],
   "source": [
    "tyvar(x).gf()"
   ]
  },
  {
   "cell_type": "code",
   "execution_count": 8,
   "metadata": {
    "collapsed": false,
    "deletable": true,
    "editable": true
   },
   "outputs": [
    {
     "data": {
      "image/png": "[encoded data removed]",
      "text/latex": [
       "$$\\left [ \\times{\\left (u_{2},u_{0},u_{1} \\right )} = u_{0} u_{1} u_{2}\\right ]$$"
      ],
      "text/plain": [
       "[\\times(u₂, u₀, u₁) = u₀⋅u₁⋅u₂]"
      ]
     },
     "execution_count": 8,
     "metadata": {},
     "output_type": "execute_result"
    }
   ],
   "source": [
    "(tyvar(u[0]) * tyvar(u[1]) * tyvar(u[2])).gf()"
   ]
  },
  {
   "cell_type": "code",
   "execution_count": 9,
   "metadata": {
    "collapsed": false,
    "deletable": true,
    "editable": true
   },
   "outputs": [
    {
     "data": {
      "image/png": "[encoded data removed]",
      "text/latex": [
       "$$\\left [ \\times{\\left (o_{0},o_{2},o_{1} \\right )} = o_{0} o_{1} o_{2}\\right ]$$"
      ],
      "text/plain": [
       "[\\times(o₀, o₂, o₁) = o₀⋅o₁⋅o₂]"
      ]
     },
     "execution_count": 9,
     "metadata": {},
     "output_type": "execute_result"
    }
   ],
   "source": [
    "(tyvar(o[0]) * tyvar(o[1]) * tyvar(o[2])).gf()"
   ]
  },
  {
   "cell_type": "code",
   "execution_count": 10,
   "metadata": {
    "collapsed": false,
    "deletable": true,
    "editable": true
   },
   "outputs": [
    {
     "data": {
      "image/png": "[encoded data removed]",
      "text/latex": [
       "$$\\left [ \\cup{\\left (u_{2},u_{0},u_{1} \\right )} = u_{0} + u_{1} + u_{2}\\right ]$$"
      ],
      "text/plain": [
       "[\\cup(u₂, u₀, u₁) = u₀ + u₁ + u₂]"
      ]
     },
     "execution_count": 10,
     "metadata": {},
     "output_type": "execute_result"
    }
   ],
   "source": [
    "(tyvar(u[0]) | tyvar(u[1]) | tyvar(u[2])).gf()"
   ]
  },
  {
   "cell_type": "code",
   "execution_count": 18,
   "metadata": {
    "collapsed": false,
    "deletable": true,
    "editable": true
   },
   "outputs": [
    {
     "data": {
      "image/png": "[encoded data removed]",
      "text/latex": [
       "$$\\left [ \\cup{\\left (o_{1},o_{0},o_{2} \\right )} = o_{0} + o_{1} + o_{2}\\right ]$$"
      ],
      "text/plain": [
       "[\\cup(o₁, o₀, o₂) = o₀ + o₁ + o₂]"
      ]
     },
     "execution_count": 18,
     "metadata": {},
     "output_type": "execute_result"
    }
   ],
   "source": [
    "(tyvar(o[0]) | tyvar(o[1]) | tyvar(o[2])).gf()"
   ]
  },
  {
   "cell_type": "code",
   "execution_count": 19,
   "metadata": {
    "collapsed": false,
    "deletable": true,
    "editable": true
   },
   "outputs": [
    {
     "data": {
      "image/png": "[encoded data removed]",
      "text/latex": [
       "$$\\left [ \\mathcal{V}{\\left (w_{1} \\right )} = w_{1}, \\quad \\mathcal{V}{\\left (w_{0} \\right )} = w_{0}\\right ]$$"
      ],
      "text/plain": [
       "[\\mathcal{V}(w₁) = w₁, \\mathcal{V}(w₀) = w₀]"
      ]
     },
     "execution_count": 19,
     "metadata": {},
     "output_type": "execute_result"
    }
   ],
   "source": [
    "truth.gf() + falsehood.gf()"
   ]
  },
  {
   "cell_type": "code",
   "execution_count": 20,
   "metadata": {
    "collapsed": false,
    "deletable": true,
    "editable": true
   },
   "outputs": [
    {
     "data": {
      "image/png": "[encoded data removed]",
      "text/latex": [
       "$$\\left [ \\cup{\\left (w_{1},w_{0} \\right )} = w_{0} + w_{1}\\right ]$$"
      ],
      "text/plain": [
       "[\\cup(w₁, w₀) = w₀ + w₁]"
      ]
     },
     "execution_count": 20,
     "metadata": {},
     "output_type": "execute_result"
    }
   ],
   "source": [
    "boolean.gf()"
   ]
  },
  {
   "cell_type": "code",
   "execution_count": 21,
   "metadata": {
    "collapsed": false,
    "deletable": true,
    "editable": true
   },
   "outputs": [
    {
     "data": {
      "image/png": "[encoded data removed]",
      "text/latex": [
       "$$\\left [ \\mathcal{M}{\\left (\\alpha,z \\right )} = \\alpha z + ␣\\right ]$$"
      ],
      "text/plain": [
       "[\\mathcal{M}(\\alpha, z) = \\alpha⋅z + ␣]"
      ]
     },
     "execution_count": 21,
     "metadata": {},
     "output_type": "execute_result"
    }
   ],
   "source": [
    "maybe(tyvar(alpha)[z]).gf()"
   ]
  },
  {
   "cell_type": "markdown",
   "metadata": {
    "deletable": true,
    "editable": true
   },
   "source": [
    "# occupancies"
   ]
  },
  {
   "cell_type": "code",
   "execution_count": 22,
   "metadata": {
    "collapsed": false,
    "deletable": true,
    "editable": true
   },
   "outputs": [
    {
     "data": {
      "image/png": "[encoded data removed]",
      "text/latex": [
       "$$\\times{\\left (u_{0},u_{2},z,u_{3},u_{1} \\right )} = \\left(u_{0} z + ␣\\right) \\left(u_{1} z + ␣\\right) \\left(u_{2} z + ␣\\right) \\left(u_{3} z + ␣\\right)$$"
      ],
      "text/plain": [
       "\\times(u₀, u₂, z, u₃, u₁) = (u₀⋅z + ␣)⋅(u₁⋅z + ␣)⋅(u₂⋅z + ␣)⋅(u₃⋅z + ␣)"
      ]
     },
     "execution_count": 22,
     "metadata": {},
     "output_type": "execute_result"
    }
   ],
   "source": [
    "nel = 4\n",
    "syms=[u[i] for i in range(nel)]\n",
    "occ_prb, = cp(maybe(tyvar(u[i]*z)) for i in range(nel)).gf() # here we can use the `[z]` notation too.\n",
    "occ_prb"
   ]
  },
  {
   "cell_type": "code",
   "execution_count": 23,
   "metadata": {
    "collapsed": false,
    "deletable": true,
    "editable": true
   },
   "outputs": [
    {
     "data": {
      "image/png": "[encoded data removed]",
      "text/latex": [
       "$$\\operatorname{gf}{\\left (u_{0},u_{3},␣,u_{1},z,u_{2} \\right )} = \\left(z u_{0} + ␣\\right) \\left(z u_{1} + ␣\\right) \\left(z u_{2} + ␣\\right) \\left(z u_{3} + ␣\\right) = z^{4} u_{0} u_{1} u_{2} u_{3} + z^{3} \\left(u_{0} u_{1} u_{2} ␣ + u_{0} u_{1} ␣ u_{3} + u_{0} ␣ u_{2} u_{3} + ␣ u_{1} u_{2} u_{3}\\right) + z^{2} \\left(u_{0} u_{1} ␣^{2} + u_{0} ␣ u_{2} ␣ + u_{0} ␣^{2} u_{3} + ␣ u_{1} u_{2} ␣ + ␣ u_{1} ␣ u_{3} + ␣^{2} u_{2} u_{3}\\right) + z \\left(u_{0} ␣^{3} + ␣ u_{1} ␣^{2} + ␣^{2} u_{2} ␣ + ␣^{3} u_{3}\\right) + ␣^{4}$$"
      ],
      "text/plain": [
       "                                                                          4   \n",
       "gf(u₀, u₃, ␣, u₁, z, u₂) = (z⋅u₀ + ␣)⋅(z⋅u₁ + ␣)⋅(z⋅u₂ + ␣)⋅(z⋅u₃ + ␣) = z ⋅u₀\n",
       "\n",
       "             3                                                        2 ⎛     \n",
       "⋅u₁⋅u₂⋅u₃ + z ⋅(u₀⋅u₁⋅u₂⋅␣ + u₀⋅u₁⋅␣⋅u₃ + u₀⋅␣⋅u₂⋅u₃ + ␣⋅u₁⋅u₂⋅u₃) + z ⋅⎝u₀⋅u₁\n",
       "\n",
       "  2                   2                               2      ⎞     ⎛    3     \n",
       "⋅␣  + u₀⋅␣⋅u₂⋅␣ + u₀⋅␣ ⋅u₃ + ␣⋅u₁⋅u₂⋅␣ + ␣⋅u₁⋅␣⋅u₃ + ␣ ⋅u₂⋅u₃⎠ + z⋅⎝u₀⋅␣  + ␣⋅\n",
       "\n",
       "    2    2         3   ⎞    4\n",
       "u₁⋅␣  + ␣ ⋅u₂⋅␣ + ␣ ⋅u₃⎠ + ␣ "
      ]
     },
     "execution_count": 23,
     "metadata": {},
     "output_type": "execute_result"
    }
   ],
   "source": [
    "occupancy(occ_prb, syms, objects='unlike', boxes='unlike').series(z)"
   ]
  },
  {
   "cell_type": "code",
   "execution_count": 8,
   "metadata": {
    "collapsed": false,
    "deletable": true,
    "editable": true
   },
   "outputs": [
    {
     "data": {
      "image/png": "[encoded data removed]",
      "text/latex": [
       "$$\\operatorname{gf}{\\left (u_{2},u_{3},z,u_{0},u_{1},␣ \\right )} = \\left(u_{0} z + ␣\\right) \\left(u_{1} z + ␣\\right) \\left(u_{2} z + ␣\\right) \\left(u_{3} z + ␣\\right) = u_{0} u_{1} u_{2} u_{3} z^{4} + z^{3} \\left(u_{0} u_{1} u_{2} ␣ + u_{0} u_{1} u_{3} ␣ + u_{0} u_{2} u_{3} ␣ + u_{1} u_{2} u_{3} ␣\\right) + z^{2} \\left(u_{0} u_{1} ␣^{2} + u_{0} u_{2} ␣^{2} + u_{0} u_{3} ␣^{2} + u_{1} u_{2} ␣^{2} + u_{1} u_{3} ␣^{2} + u_{2} u_{3} ␣^{2}\\right) + z \\left(u_{0} ␣^{3} + u_{1} ␣^{3} + u_{2} ␣^{3} + u_{3} ␣^{3}\\right) + ␣^{4}$$"
      ],
      "text/plain": [
       "                                                                              \n",
       "gf(u₂, u₃, z, u₀, u₁, ␣) = (u₀⋅z + ␣)⋅(u₁⋅z + ␣)⋅(u₂⋅z + ␣)⋅(u₃⋅z + ␣) = u₀⋅u₁\n",
       "\n",
       "        4    3                                                        2 ⎛     \n",
       "⋅u₂⋅u₃⋅z  + z ⋅(u₀⋅u₁⋅u₂⋅␣ + u₀⋅u₁⋅u₃⋅␣ + u₀⋅u₂⋅u₃⋅␣ + u₁⋅u₂⋅u₃⋅␣) + z ⋅⎝u₀⋅u₁\n",
       "\n",
       "  2          2          2          2          2          2⎞     ⎛    3       3\n",
       "⋅␣  + u₀⋅u₂⋅␣  + u₀⋅u₃⋅␣  + u₁⋅u₂⋅␣  + u₁⋅u₃⋅␣  + u₂⋅u₃⋅␣ ⎠ + z⋅⎝u₀⋅␣  + u₁⋅␣ \n",
       "\n",
       "       3       3⎞    4\n",
       " + u₂⋅␣  + u₃⋅␣ ⎠ + ␣ "
      ]
     },
     "execution_count": 8,
     "metadata": {},
     "output_type": "execute_result"
    }
   ],
   "source": [
    "occupancy(occ_prb, syms, objects='unlike', boxes='like').series(z)"
   ]
  },
  {
   "cell_type": "code",
   "execution_count": 9,
   "metadata": {
    "collapsed": false,
    "deletable": true,
    "editable": true
   },
   "outputs": [
    {
     "data": {
      "image/png": "[encoded data removed]",
      "text/latex": [
       "$$\\operatorname{gf}{\\left (␣,\\bullet,z \\right )} = \\left(z \\bullet + ␣\\right)^{4} = z^{4} \\bullet^{4} + z^{3} \\left(\\bullet ␣ \\bullet^{2} + \\bullet^{2} ␣ \\bullet + \\bullet^{3} ␣ + ␣ \\bullet^{3}\\right) + z^{2} \\left(\\bullet ␣ \\bullet ␣ + \\bullet ␣^{2} \\bullet + \\bullet^{2} ␣^{2} + ␣ \\bullet ␣ \\bullet + ␣ \\bullet^{2} ␣ + ␣^{2} \\bullet^{2}\\right) + z \\left(\\bullet ␣^{3} + ␣ \\bullet ␣^{2} + ␣^{2} \\bullet ␣ + ␣^{3} \\bullet\\right) + ␣^{4}$$"
      ],
      "text/plain": [
       "                                   4    4        4    3 ⎛                 2   \n",
       "gf(␣, \\bullet, z) = (z⋅\\bullet + ␣)  = z ⋅\\bullet  + z ⋅⎝\\bullet⋅␣⋅\\bullet  + \n",
       "\n",
       "       2                    3              3⎞    2 ⎛                          \n",
       "\\bullet ⋅␣⋅\\bullet + \\bullet ⋅␣ + ␣⋅\\bullet ⎠ + z ⋅⎝\\bullet⋅␣⋅\\bullet⋅␣ + \\bul\n",
       "\n",
       "     2                  2  2                                  2      2        \n",
       "let⋅␣ ⋅\\bullet + \\bullet ⋅␣  + ␣⋅\\bullet⋅␣⋅\\bullet + ␣⋅\\bullet ⋅␣ + ␣ ⋅\\bullet\n",
       "\n",
       "2⎞     ⎛         3              2    2              3        ⎞    4\n",
       " ⎠ + z⋅⎝\\bullet⋅␣  + ␣⋅\\bullet⋅␣  + ␣ ⋅\\bullet⋅␣ + ␣ ⋅\\bullet⎠ + ␣ "
      ]
     },
     "execution_count": 9,
     "metadata": {},
     "output_type": "execute_result"
    }
   ],
   "source": [
    "occupancy(occ_prb, syms, objects='like', boxes='unlike').series(z)"
   ]
  },
  {
   "cell_type": "code",
   "execution_count": 10,
   "metadata": {
    "collapsed": false,
    "deletable": true,
    "editable": true
   },
   "outputs": [
    {
     "data": {
      "image/png": "[encoded data removed]",
      "text/latex": [
       "$$\\operatorname{gf}{\\left (\\circ,z \\right )} = \\left(\\circ z + 1\\right)^{4} = \\circ^{4} z^{4} + 4 \\circ^{3} z^{3} + 6 \\circ^{2} z^{2} + 4 \\circ z + 1$$"
      ],
      "text/plain": [
       "                            4        4  4          3  3          2  2         \n",
       "gf(\\circ, z) = (\\circ⋅z + 1)  = \\circ ⋅z  + 4⋅\\circ ⋅z  + 6⋅\\circ ⋅z  + 4⋅\\cir\n",
       "\n",
       "       \n",
       "c⋅z + 1"
      ]
     },
     "execution_count": 10,
     "metadata": {},
     "output_type": "execute_result"
    }
   ],
   "source": [
    "occupancy(occ_prb, syms, objects='like', boxes='like').series(z)"
   ]
  },
  {
   "cell_type": "markdown",
   "metadata": {
    "deletable": true,
    "editable": true
   },
   "source": [
    "---"
   ]
  },
  {
   "cell_type": "code",
   "execution_count": 26,
   "metadata": {
    "collapsed": false,
    "deletable": true,
    "editable": true
   },
   "outputs": [
    {
     "data": {
      "image/png": "[encoded data removed]",
      "text/latex": [
       "$$\\times{\\left (␣_{1},␣_{2},z,␣_{0} \\right )} = \\left(z \\left(u_{0} + u_{1}\\right) + ␣_{2}\\right) \\left(z \\left(u_{0} + u_{2}\\right) + ␣_{1}\\right) \\left(z \\left(u_{1} + u_{2}\\right) + ␣_{0}\\right)$$"
      ],
      "text/plain": [
       "\\times(␣₁, ␣₂, z, ␣₀) = (z⋅(u₀ + u₁) + ␣₂)⋅(z⋅(u₀ + u₂) + ␣₁)⋅(z⋅(u₁ + u₂) + ␣\n",
       "₀)"
      ]
     },
     "execution_count": 26,
     "metadata": {},
     "output_type": "execute_result"
    }
   ],
   "source": [
    "u_hat = symbols(r'␣_0:10')\n",
    "nel = 3\n",
    "occ_prb, = cp(tyvar(z*(sum(u[j] for j in range(nel) if j != i))) | tyvar(u_hat[i]) \n",
    "              for i in range(nel)).gf()\n",
    "occ_prb"
   ]
  },
  {
   "cell_type": "code",
   "execution_count": 27,
   "metadata": {
    "collapsed": false,
    "deletable": true,
    "editable": true
   },
   "outputs": [
    {
     "data": {
      "image/png": "[encoded data removed]",
      "text/latex": [
       "$$\\operatorname{gf}{\\left (u_{1},␣_{0},u_{2},␣_{2},z,␣_{1},u_{0} \\right )} = \\left(z \\left(u_{1} + u_{2}\\right) + ␣_{0}\\right) \\left(z \\left(u_{0} + u_{2}\\right) + ␣_{1}\\right) \\left(z \\left(u_{0} + u_{1}\\right) + ␣_{2}\\right) = z^{3} \\left(u_{1} u_{0} u_{1} + u_{1} u_{0}^{2} + u_{1} u_{2} u_{0} + u_{1} u_{2} u_{1} + u_{2} u_{0} u_{1} + u_{2} u_{0}^{2} + u_{2}^{2} u_{0} + u_{2}^{2} u_{1}\\right) + z^{2} \\left(u_{1} u_{0} ␣_{2} + u_{1} u_{2} ␣_{2} + u_{1} ␣_{1} u_{0} + u_{1} ␣_{1} u_{1} + u_{2} u_{0} ␣_{2} + u_{2} ␣_{1} u_{0} + u_{2} ␣_{1} u_{1} + u_{2}^{2} ␣_{2} + ␣_{0} u_{0} u_{1} + ␣_{0} u_{0}^{2} + ␣_{0} u_{2} u_{0} + ␣_{0} u_{2} u_{1}\\right) + z \\left(u_{1} ␣_{1} ␣_{2} + u_{2} ␣_{1} ␣_{2} + ␣_{0} u_{0} ␣_{2} + ␣_{0} u_{2} ␣_{2} + ␣_{0} ␣_{1} u_{0} + ␣_{0} ␣_{1} u_{1}\\right) + ␣_{0} ␣_{1} ␣_{2}$$"
      ],
      "text/plain": [
       "                                                                              \n",
       "gf(u₁, ␣₀, u₂, ␣₂, z, ␣₁, u₀) = (z⋅(u₁ + u₂) + ␣₀)⋅(z⋅(u₀ + u₂) + ␣₁)⋅(z⋅(u₀ +\n",
       "\n",
       "              3 ⎛                2                                         2  \n",
       " u₁) + ␣₂) = z ⋅⎝u₁⋅u₀⋅u₁ + u₁⋅u₀  + u₁⋅u₂⋅u₀ + u₁⋅u₂⋅u₁ + u₂⋅u₀⋅u₁ + u₂⋅u₀  +\n",
       "\n",
       "   2        2   ⎞    2 ⎛                                                      \n",
       " u₂ ⋅u₀ + u₂ ⋅u₁⎠ + z ⋅⎝u₁⋅u₀⋅␣₂ + u₁⋅u₂⋅␣₂ + u₁⋅␣₁⋅u₀ + u₁⋅␣₁⋅u₁ + u₂⋅u₀⋅␣₂ +\n",
       "\n",
       "                         2                      2                      ⎞      \n",
       " u₂⋅␣₁⋅u₀ + u₂⋅␣₁⋅u₁ + u₂ ⋅␣₂ + ␣₀⋅u₀⋅u₁ + ␣₀⋅u₀  + ␣₀⋅u₂⋅u₀ + ␣₀⋅u₂⋅u₁⎠ + z⋅(\n",
       "\n",
       "                                                                           \n",
       "u₁⋅␣₁⋅␣₂ + u₂⋅␣₁⋅␣₂ + ␣₀⋅u₀⋅␣₂ + ␣₀⋅u₂⋅␣₂ + ␣₀⋅␣₁⋅u₀ + ␣₀⋅␣₁⋅u₁) + ␣₀⋅␣₁⋅␣₂"
      ]
     },
     "execution_count": 27,
     "metadata": {},
     "output_type": "execute_result"
    }
   ],
   "source": [
    "syms=[u[i] for i in range(nel)]+[u_hat[i] for i in range(nel)]\n",
    "occupancy(occ_prb, syms, objects='unlike', boxes='unlike').series(z)"
   ]
  },
  {
   "cell_type": "code",
   "execution_count": 28,
   "metadata": {
    "collapsed": false,
    "deletable": true,
    "editable": true
   },
   "outputs": [
    {
     "data": {
      "image/png": "[encoded data removed]",
      "text/latex": [
       "$$\\operatorname{gf}{\\left (␣_{1},␣_{2},u_{2},z,␣_{0},u_{0},u_{1} \\right )} = \\left(z \\left(u_{0} + u_{1}\\right) + ␣_{2}\\right) \\left(z \\left(u_{0} + u_{2}\\right) + ␣_{1}\\right) \\left(z \\left(u_{1} + u_{2}\\right) + ␣_{0}\\right) = z^{3} \\left(u_{0}^{2} u_{1} + u_{0}^{2} u_{2} + u_{0} u_{1}^{2} + 2 u_{0} u_{1} u_{2} + u_{0} u_{2}^{2} + u_{1}^{2} u_{2} + u_{1} u_{2}^{2}\\right) + z^{2} \\left(u_{0}^{2} ␣_{0} + u_{0} u_{1} ␣_{0} + u_{0} u_{1} ␣_{1} + u_{0} u_{1} ␣_{2} + u_{0} u_{2} ␣_{0} + u_{0} u_{2} ␣_{1} + u_{0} u_{2} ␣_{2} + u_{1}^{2} ␣_{1} + u_{1} u_{2} ␣_{0} + u_{1} u_{2} ␣_{1} + u_{1} u_{2} ␣_{2} + u_{2}^{2} ␣_{2}\\right) + z \\left(u_{0} ␣_{0} ␣_{1} + u_{0} ␣_{0} ␣_{2} + u_{1} ␣_{0} ␣_{1} + u_{1} ␣_{1} ␣_{2} + u_{2} ␣_{0} ␣_{2} + u_{2} ␣_{1} ␣_{2}\\right) + ␣_{0} ␣_{1} ␣_{2}$$"
      ],
      "text/plain": [
       "                                                                              \n",
       "gf(␣₁, ␣₂, u₂, z, ␣₀, u₀, u₁) = (z⋅(u₀ + u₁) + ␣₂)⋅(z⋅(u₀ + u₂) + ␣₁)⋅(z⋅(u₁ +\n",
       "\n",
       "              3 ⎛  2        2           2                     2     2         \n",
       " u₂) + ␣₀) = z ⋅⎝u₀ ⋅u₁ + u₀ ⋅u₂ + u₀⋅u₁  + 2⋅u₀⋅u₁⋅u₂ + u₀⋅u₂  + u₁ ⋅u₂ + u₁⋅\n",
       "\n",
       "  2⎞    2 ⎛  2                                                                \n",
       "u₂ ⎠ + z ⋅⎝u₀ ⋅␣₀ + u₀⋅u₁⋅␣₀ + u₀⋅u₁⋅␣₁ + u₀⋅u₁⋅␣₂ + u₀⋅u₂⋅␣₀ + u₀⋅u₂⋅␣₁ + u₀⋅\n",
       "\n",
       "          2                                         2   ⎞                     \n",
       "u₂⋅␣₂ + u₁ ⋅␣₁ + u₁⋅u₂⋅␣₀ + u₁⋅u₂⋅␣₁ + u₁⋅u₂⋅␣₂ + u₂ ⋅␣₂⎠ + z⋅(u₀⋅␣₀⋅␣₁ + u₀⋅␣\n",
       "\n",
       "                                                            \n",
       "₀⋅␣₂ + u₁⋅␣₀⋅␣₁ + u₁⋅␣₁⋅␣₂ + u₂⋅␣₀⋅␣₂ + u₂⋅␣₁⋅␣₂) + ␣₀⋅␣₁⋅␣₂"
      ]
     },
     "execution_count": 28,
     "metadata": {},
     "output_type": "execute_result"
    }
   ],
   "source": [
    "occupancy(occ_prb, syms, objects='unlike', boxes='like').series(z)"
   ]
  },
  {
   "cell_type": "code",
   "execution_count": 29,
   "metadata": {
    "collapsed": false,
    "deletable": true,
    "editable": true
   },
   "outputs": [
    {
     "data": {
      "image/png": "[encoded data removed]",
      "text/latex": [
       "$$\\operatorname{gf}{\\left (z,\\bullet \\right )} = \\left(2 z \\bullet + \\bullet\\right)^{3} = 8 z^{3} \\bullet^{3} + 12 z^{2} \\bullet^{3} + 6 z \\bullet^{3} + \\bullet^{3}$$"
      ],
      "text/plain": [
       "                                        3      3        3       2        3    \n",
       "gf(z, \\bullet) = (2⋅z⋅\\bullet + \\bullet)  = 8⋅z ⋅\\bullet  + 12⋅z ⋅\\bullet  + 6\n",
       "\n",
       "          3          3\n",
       "⋅z⋅\\bullet  + \\bullet "
      ]
     },
     "execution_count": 29,
     "metadata": {},
     "output_type": "execute_result"
    }
   ],
   "source": [
    "occupancy(occ_prb, syms, objects='like', boxes='unlike').series(z)"
   ]
  },
  {
   "cell_type": "code",
   "execution_count": 30,
   "metadata": {
    "collapsed": false,
    "deletable": true,
    "editable": true
   },
   "outputs": [
    {
     "data": {
      "image/png": "[encoded data removed]",
      "text/latex": [
       "$$\\operatorname{gf}{\\left (\\circ,z \\right )} = \\left(2 \\circ z + \\circ\\right)^{3} = 8 \\circ^{3} z^{3} + 12 \\circ^{3} z^{2} + 6 \\circ^{3} z + \\circ^{3}$$"
      ],
      "text/plain": [
       "                                  3          3  3           3  2          3   \n",
       "gf(\\circ, z) = (2⋅\\circ⋅z + \\circ)  = 8⋅\\circ ⋅z  + 12⋅\\circ ⋅z  + 6⋅\\circ ⋅z \n",
       "\n",
       "       3\n",
       "+ \\circ "
      ]
     },
     "execution_count": 30,
     "metadata": {},
     "output_type": "execute_result"
    }
   ],
   "source": [
    "occupancy(occ_prb, syms, objects='like', boxes='like').series(z)"
   ]
  },
  {
   "cell_type": "markdown",
   "metadata": {
    "deletable": true,
    "editable": true
   },
   "source": [
    "---"
   ]
  },
  {
   "cell_type": "code",
   "execution_count": 31,
   "metadata": {
    "collapsed": false,
    "deletable": true,
    "editable": true
   },
   "outputs": [
    {
     "data": {
      "image/png": "[encoded data removed]",
      "text/latex": [
       "$$\\times{\\left (u_{2},u_{0},u_{1},z \\right )} = \\left(u_{0} z + ␣\\right) \\left(u_{1}^{2} z^{2} + u_{1} z + ␣\\right) \\left(u_{2}^{3} z^{3} + u_{2}^{2} z^{2} + u_{2} z + ␣\\right)$$"
      ],
      "text/plain": [
       "                                   ⎛  2  2           ⎞ ⎛  3  3     2  2       \n",
       "\\times(u₂, u₀, u₁, z) = (u₀⋅z + ␣)⋅⎝u₁ ⋅z  + u₁⋅z + ␣⎠⋅⎝u₂ ⋅z  + u₂ ⋅z  + u₂⋅z\n",
       "\n",
       "    ⎞\n",
       " + ␣⎠"
      ]
     },
     "execution_count": 31,
     "metadata": {},
     "output_type": "execute_result"
    }
   ],
   "source": [
    "occupancy_problem, = cp(maybe(du(tyvar((u[i]*z)**(j+1)) for j in range(i+1))) \n",
    "                        for i in range(3)).gf()\n",
    "occupancy_problem"
   ]
  },
  {
   "cell_type": "code",
   "execution_count": 32,
   "metadata": {
    "collapsed": false,
    "deletable": true,
    "editable": true
   },
   "outputs": [
    {
     "data": {
      "image/png": "[encoded data removed]",
      "text/latex": [
       "$$\\operatorname{gf}{\\left (u_{1},z,u_{2},␣,u_{0} \\right )} = \\left(z u_{0} + ␣\\right) \\left(z^{2} u_{1}^{2} + z u_{1} + ␣\\right) \\left(z^{3} u_{2}^{3} + z^{2} u_{2}^{2} + z u_{2} + ␣\\right) = ␣^{3} + z \\left(u_{0} ␣^{2} + ␣ u_{1} ␣ + ␣^{2} u_{2}\\right) + z^{2} \\left(u_{0} u_{1} ␣ + u_{0} ␣ u_{2} + ␣ u_{1} u_{2} + ␣ u_{1}^{2} ␣ + ␣^{2} u_{2}^{2}\\right) + z^{3} \\left(u_{0} u_{1} u_{2} + u_{0} u_{1}^{2} ␣ + u_{0} ␣ u_{2}^{2} + ␣ u_{1} u_{2}^{2} + ␣ u_{1}^{2} u_{2} + ␣^{2} u_{2}^{3}\\right) + z^{4} \\left(u_{0} u_{1} u_{2}^{2} + u_{0} u_{1}^{2} u_{2} + u_{0} ␣ u_{2}^{3} + ␣ u_{1} u_{2}^{3} + ␣ u_{1}^{2} u_{2}^{2}\\right) + z^{5} \\left(u_{0} u_{1} u_{2}^{3} + u_{0} u_{1}^{2} u_{2}^{2} + ␣ u_{1}^{2} u_{2}^{3}\\right) + O\\left(z^{6}\\right)$$"
      ],
      "text/plain": [
       "                                  ⎛ 2   2           ⎞ ⎛ 3   3    2   2        \n",
       "gf(u₁, z, u₂, ␣, u₀) = (z⋅u₀ + ␣)⋅⎝z ⋅u₁  + z⋅u₁ + ␣⎠⋅⎝z ⋅u₂  + z ⋅u₂  + z⋅u₂ \n",
       "\n",
       "   ⎞    3     ⎛    2             2   ⎞    2 ⎛                                 \n",
       "+ ␣⎠ = ␣  + z⋅⎝u₀⋅␣  + ␣⋅u₁⋅␣ + ␣ ⋅u₂⎠ + z ⋅⎝u₀⋅u₁⋅␣ + u₀⋅␣⋅u₂ + ␣⋅u₁⋅u₂ + ␣⋅u\n",
       "\n",
       " 2      2   2⎞    3 ⎛                2            2          2       2       2\n",
       "₁ ⋅␣ + ␣ ⋅u₂ ⎠ + z ⋅⎝u₀⋅u₁⋅u₂ + u₀⋅u₁ ⋅␣ + u₀⋅␣⋅u₂  + ␣⋅u₁⋅u₂  + ␣⋅u₁ ⋅u₂ + ␣ \n",
       "\n",
       "   3⎞    4 ⎛        2        2             3          3       2   2⎞    5 ⎛   \n",
       "⋅u₂ ⎠ + z ⋅⎝u₀⋅u₁⋅u₂  + u₀⋅u₁ ⋅u₂ + u₀⋅␣⋅u₂  + ␣⋅u₁⋅u₂  + ␣⋅u₁ ⋅u₂ ⎠ + z ⋅⎝u₀⋅\n",
       "\n",
       "     3        2   2       2   3⎞    ⎛ 6⎞\n",
       "u₁⋅u₂  + u₀⋅u₁ ⋅u₂  + ␣⋅u₁ ⋅u₂ ⎠ + O⎝z ⎠"
      ]
     },
     "execution_count": 32,
     "metadata": {},
     "output_type": "execute_result"
    }
   ],
   "source": [
    "occupancy(occupancy_problem, syms=[u[i] for i in range(3)], objects='unlike', boxes='unlike').series(z)"
   ]
  },
  {
   "cell_type": "code",
   "execution_count": 33,
   "metadata": {
    "collapsed": false,
    "deletable": true,
    "editable": true
   },
   "outputs": [
    {
     "data": {
      "image/png": "[encoded data removed]",
      "text/latex": [
       "$$\\operatorname{gf}{\\left (u_{2},z,u_{0},u_{1},␣ \\right )} = \\left(u_{0} z + ␣\\right) \\left(u_{1}^{2} z^{2} + u_{1} z + ␣\\right) \\left(u_{2}^{3} z^{3} + u_{2}^{2} z^{2} + u_{2} z + ␣\\right) = ␣^{3} + z \\left(u_{0} ␣^{2} + u_{1} ␣^{2} + u_{2} ␣^{2}\\right) + z^{2} \\left(u_{0} u_{1} ␣ + u_{0} u_{2} ␣ + u_{1}^{2} ␣^{2} + u_{1} u_{2} ␣ + u_{2}^{2} ␣^{2}\\right) + z^{3} \\left(u_{0} u_{1}^{2} ␣ + u_{0} u_{1} u_{2} + u_{0} u_{2}^{2} ␣ + u_{1}^{2} u_{2} ␣ + u_{1} u_{2}^{2} ␣ + u_{2}^{3} ␣^{2}\\right) + z^{4} \\left(u_{0} u_{1}^{2} u_{2} + u_{0} u_{1} u_{2}^{2} + u_{0} u_{2}^{3} ␣ + u_{1}^{2} u_{2}^{2} ␣ + u_{1} u_{2}^{3} ␣\\right) + z^{5} \\left(u_{0} u_{1}^{2} u_{2}^{2} + u_{0} u_{1} u_{2}^{3} + u_{1}^{2} u_{2}^{3} ␣\\right) + O\\left(z^{6}\\right)$$"
      ],
      "text/plain": [
       "                                  ⎛  2  2           ⎞ ⎛  3  3     2  2        \n",
       "gf(u₂, z, u₀, u₁, ␣) = (u₀⋅z + ␣)⋅⎝u₁ ⋅z  + u₁⋅z + ␣⎠⋅⎝u₂ ⋅z  + u₂ ⋅z  + u₂⋅z \n",
       "\n",
       "   ⎞    3     ⎛    2       2       2⎞    2 ⎛                      2  2        \n",
       "+ ␣⎠ = ␣  + z⋅⎝u₀⋅␣  + u₁⋅␣  + u₂⋅␣ ⎠ + z ⋅⎝u₀⋅u₁⋅␣ + u₀⋅u₂⋅␣ + u₁ ⋅␣  + u₁⋅u₂\n",
       "\n",
       "       2  2⎞    3 ⎛     2                     2       2             2       3 \n",
       "⋅␣ + u₂ ⋅␣ ⎠ + z ⋅⎝u₀⋅u₁ ⋅␣ + u₀⋅u₁⋅u₂ + u₀⋅u₂ ⋅␣ + u₁ ⋅u₂⋅␣ + u₁⋅u₂ ⋅␣ + u₂ ⋅\n",
       "\n",
       " 2⎞    4 ⎛     2              2        3       2   2          3  ⎞    5 ⎛     \n",
       "␣ ⎠ + z ⋅⎝u₀⋅u₁ ⋅u₂ + u₀⋅u₁⋅u₂  + u₀⋅u₂ ⋅␣ + u₁ ⋅u₂ ⋅␣ + u₁⋅u₂ ⋅␣⎠ + z ⋅⎝u₀⋅u₁\n",
       "\n",
       "2   2           3     2   3  ⎞    ⎛ 6⎞\n",
       " ⋅u₂  + u₀⋅u₁⋅u₂  + u₁ ⋅u₂ ⋅␣⎠ + O⎝z ⎠"
      ]
     },
     "execution_count": 33,
     "metadata": {},
     "output_type": "execute_result"
    }
   ],
   "source": [
    "occupancy(occupancy_problem, syms=[u[i] for i in range(3)], objects='unlike', boxes='like').series(z)"
   ]
  },
  {
   "cell_type": "code",
   "execution_count": 34,
   "metadata": {
    "collapsed": false,
    "deletable": true,
    "editable": true
   },
   "outputs": [
    {
     "data": {
      "image/png": "[encoded data removed]",
      "text/latex": [
       "$$\\operatorname{gf}{\\left (z,␣,\\bullet \\right )} = \\left(z \\bullet + ␣\\right) \\left(z^{2} \\bullet^{2} + z \\bullet + ␣\\right) \\left(z^{3} \\bullet^{3} + z^{2} \\bullet^{2} + z \\bullet + ␣\\right) = ␣^{3} + z \\left(\\bullet ␣^{2} + ␣ \\bullet ␣ + ␣^{2} \\bullet\\right) + z^{2} \\left(\\bullet ␣ \\bullet + \\bullet^{2} ␣ + ␣ \\bullet^{2} + ␣ \\bullet^{2} ␣ + ␣^{2} \\bullet^{2}\\right) + z^{3} \\left(\\bullet ␣ \\bullet^{2} + \\bullet^{3} + \\bullet^{3} ␣ + 2 ␣ \\bullet^{3} + ␣^{2} \\bullet^{3}\\right) + z^{4} \\left(\\bullet ␣ \\bullet^{3} + 2 \\bullet^{4} + 2 ␣ \\bullet^{4}\\right) + z^{5} \\left(2 \\bullet^{5} + ␣ \\bullet^{5}\\right) + O\\left(z^{6}\\right)$$"
      ],
      "text/plain": [
       "                                    ⎛ 2        2                ⎞ ⎛ 3        3\n",
       "gf(z, ␣, \\bullet) = (z⋅\\bullet + ␣)⋅⎝z ⋅\\bullet  + z⋅\\bullet + ␣⎠⋅⎝z ⋅\\bullet \n",
       "\n",
       "    2        2                ⎞    3     ⎛         2                  2       \n",
       " + z ⋅\\bullet  + z⋅\\bullet + ␣⎠ = ␣  + z⋅⎝\\bullet⋅␣  + ␣⋅\\bullet⋅␣ + ␣ ⋅\\bulle\n",
       "\n",
       " ⎞    2 ⎛                           2              2            2      2      \n",
       "t⎠ + z ⋅⎝\\bullet⋅␣⋅\\bullet + \\bullet ⋅␣ + ␣⋅\\bullet  + ␣⋅\\bullet ⋅␣ + ␣ ⋅\\bull\n",
       "\n",
       "  2⎞    3 ⎛                 2          3          3                3    2     \n",
       "et ⎠ + z ⋅⎝\\bullet⋅␣⋅\\bullet  + \\bullet  + \\bullet ⋅␣ + 2⋅␣⋅\\bullet  + ␣ ⋅\\bul\n",
       "\n",
       "   3⎞    4 ⎛                 3            4              4⎞    5 ⎛         5  \n",
       "let ⎠ + z ⋅⎝\\bullet⋅␣⋅\\bullet  + 2⋅\\bullet  + 2⋅␣⋅\\bullet ⎠ + z ⋅⎝2⋅\\bullet  +\n",
       "\n",
       "          5⎞    ⎛ 6⎞\n",
       " ␣⋅\\bullet ⎠ + O⎝z ⎠"
      ]
     },
     "execution_count": 34,
     "metadata": {},
     "output_type": "execute_result"
    }
   ],
   "source": [
    "occupancy(occupancy_problem, syms=[u[i] for i in range(3)], objects='like', boxes='unlike').series(z)"
   ]
  },
  {
   "cell_type": "code",
   "execution_count": 35,
   "metadata": {
    "collapsed": false,
    "deletable": true,
    "editable": true
   },
   "outputs": [
    {
     "data": {
      "image/png": "[encoded data removed]",
      "text/latex": [
       "$$\\operatorname{gf}{\\left (\\circ,z \\right )} = \\left(\\circ z + 1\\right) \\left(\\circ^{2} z^{2} + \\circ z + 1\\right) \\left(\\circ^{3} z^{3} + \\circ^{2} z^{2} + \\circ z + 1\\right) = 1 + 3 \\circ z + 5 \\circ^{2} z^{2} + 6 \\circ^{3} z^{3} + 5 \\circ^{4} z^{4} + 3 \\circ^{5} z^{5} + O\\left(z^{6}\\right)$$"
      ],
      "text/plain": [
       "                             ⎛     2  2              ⎞ ⎛     3  3        2  2 \n",
       "gf(\\circ, z) = (\\circ⋅z + 1)⋅⎝\\circ ⋅z  + \\circ⋅z + 1⎠⋅⎝\\circ ⋅z  + \\circ ⋅z  \n",
       "\n",
       "             ⎞                          2  2          3  3          4  4      \n",
       "+ \\circ⋅z + 1⎠ = 1 + 3⋅\\circ⋅z + 5⋅\\circ ⋅z  + 6⋅\\circ ⋅z  + 5⋅\\circ ⋅z  + 3⋅\\\n",
       "\n",
       "    5  5    ⎛ 6⎞\n",
       "circ ⋅z  + O⎝z ⎠"
      ]
     },
     "execution_count": 35,
     "metadata": {},
     "output_type": "execute_result"
    }
   ],
   "source": [
    "occupancy(occupancy_problem, syms=[u[i] for i in range(3)], objects='like', boxes='like').series(z)"
   ]
  },
  {
   "cell_type": "code",
   "execution_count": 36,
   "metadata": {
    "collapsed": false,
    "deletable": true,
    "editable": true
   },
   "outputs": [
    {
     "data": {
      "image/png": "[encoded data removed]",
      "text/latex": [
       "$$t^{6} + 3 t^{5} + 5 t^{4} + 6 t^{3} + 5 t^{2} + 3 t + 1$$"
      ],
      "text/plain": [
       " 6      5      4      3      2          \n",
       "t  + 3⋅t  + 5⋅t  + 6⋅t  + 5⋅t  + 3⋅t + 1"
      ]
     },
     "execution_count": 36,
     "metadata": {},
     "output_type": "execute_result"
    }
   ],
   "source": [
    "((1+t)*(1+t+t**2)*(1+t+t**2+t**3)).series(t,n=10) # just for checking"
   ]
  },
  {
   "cell_type": "markdown",
   "metadata": {
    "deletable": true,
    "editable": true
   },
   "source": [
    "---"
   ]
  },
  {
   "cell_type": "code",
   "execution_count": 34,
   "metadata": {
    "collapsed": true,
    "deletable": true,
    "editable": true
   },
   "outputs": [],
   "source": [
    "def sums_of_powers(boxes, base):\n",
    "    p = IndexedBase('\\space')\n",
    "    return cp(cp() | tyvar(p[j]*z**(base**i)) \n",
    "              for i in range(0,boxes) \n",
    "              for j in [Pow(base,i,evaluate=False)] # implicit let\n",
    "             ).gf()"
   ]
  },
  {
   "cell_type": "code",
   "execution_count": 35,
   "metadata": {
    "collapsed": false,
    "deletable": true,
    "editable": true
   },
   "outputs": [
    {
     "data": {
      "text/latex": [
       "$$\\times{\\left (z,{\\space}_{2^{3}},{\\space}_{2^{1}},{\\space}_{2^{2}},{\\space}_{2^{0}} \\right )} = \\left(z {\\space}_{2^{0}} + 1\\right) \\left(z^{2} {\\space}_{2^{1}} + 1\\right) \\left(z^{4} {\\space}_{2^{2}} + 1\\right) \\left(z^{8} {\\space}_{2^{3}} + 1\\right) = z^{15} {\\space}_{2^{0}} {\\space}_{2^{1}} {\\space}_{2^{2}} {\\space}_{2^{3}} + z^{14} {\\space}_{2^{1}} {\\space}_{2^{2}} {\\space}_{2^{3}} + z^{13} {\\space}_{2^{0}} {\\space}_{2^{2}} {\\space}_{2^{3}} + z^{12} {\\space}_{2^{2}} {\\space}_{2^{3}} + z^{11} {\\space}_{2^{0}} {\\space}_{2^{1}} {\\space}_{2^{3}} + z^{10} {\\space}_{2^{1}} {\\space}_{2^{3}} + z^{9} {\\space}_{2^{0}} {\\space}_{2^{3}} + z^{8} {\\space}_{2^{3}} + z^{7} {\\space}_{2^{0}} {\\space}_{2^{1}} {\\space}_{2^{2}} + z^{6} {\\space}_{2^{1}} {\\space}_{2^{2}} + z^{5} {\\space}_{2^{0}} {\\space}_{2^{2}} + z^{4} {\\space}_{2^{2}} + z^{3} {\\space}_{2^{0}} {\\space}_{2^{1}} + z^{2} {\\space}_{2^{1}} + z {\\space}_{2^{0}} + 1$$"
      ],
      "text/plain": [
       "                                                                              \n",
       "\\times(z, \\space[2**3], \\space[2**1], \\space[2**2], \\space[2**0]) = (z⋅\\space[\n",
       "\n",
       "           ⎛ 2                 ⎞ ⎛ 4                 ⎞ ⎛ 8                 ⎞  \n",
       "2**0] + 1)⋅⎝z ⋅\\space[2**1] + 1⎠⋅⎝z ⋅\\space[2**2] + 1⎠⋅⎝z ⋅\\space[2**3] + 1⎠ =\n",
       "\n",
       "  15                                                        14                \n",
       " z  ⋅\\space[2**0]⋅\\space[2**1]⋅\\space[2**2]⋅\\space[2**3] + z  ⋅\\space[2**1]⋅\\s\n",
       "\n",
       "                           13                                           12    \n",
       "pace[2**2]⋅\\space[2**3] + z  ⋅\\space[2**0]⋅\\space[2**2]⋅\\space[2**3] + z  ⋅\\sp\n",
       "\n",
       "                          11                                           10     \n",
       "ace[2**2]⋅\\space[2**3] + z  ⋅\\space[2**0]⋅\\space[2**1]⋅\\space[2**3] + z  ⋅\\spa\n",
       "\n",
       "                         9                              8                 7   \n",
       "ce[2**1]⋅\\space[2**3] + z ⋅\\space[2**0]⋅\\space[2**3] + z ⋅\\space[2**3] + z ⋅\\s\n",
       "\n",
       "                                        6                              5      \n",
       "pace[2**0]⋅\\space[2**1]⋅\\space[2**2] + z ⋅\\space[2**1]⋅\\space[2**2] + z ⋅\\spac\n",
       "\n",
       "                        4                 3                              2    \n",
       "e[2**0]⋅\\space[2**2] + z ⋅\\space[2**2] + z ⋅\\space[2**0]⋅\\space[2**1] + z ⋅\\sp\n",
       "\n",
       "                              \n",
       "ace[2**1] + z⋅\\space[2**0] + 1"
      ]
     },
     "execution_count": 35,
     "metadata": {},
     "output_type": "execute_result"
    }
   ],
   "source": [
    "occupancy, = sums_of_powers(boxes=4, base=2)\n",
    "occupancy.series(z, n=32)"
   ]
  },
  {
   "cell_type": "code",
   "execution_count": 36,
   "metadata": {
    "collapsed": false,
    "deletable": true,
    "editable": true
   },
   "outputs": [
    {
     "data": {
      "text/latex": [
       "$$\\times{\\left (z,{\\space}_{3^{0}},{\\space}_{3^{2}},{\\space}_{3^{1}},{\\space}_{3^{3}} \\right )} = \\left(z {\\space}_{3^{0}} + 1\\right) \\left(z^{3} {\\space}_{3^{1}} + 1\\right) \\left(z^{9} {\\space}_{3^{2}} + 1\\right) \\left(z^{27} {\\space}_{3^{3}} + 1\\right) = z^{40} {\\space}_{3^{0}} {\\space}_{3^{1}} {\\space}_{3^{2}} {\\space}_{3^{3}} + z^{39} {\\space}_{3^{1}} {\\space}_{3^{2}} {\\space}_{3^{3}} + z^{37} {\\space}_{3^{0}} {\\space}_{3^{2}} {\\space}_{3^{3}} + z^{36} {\\space}_{3^{2}} {\\space}_{3^{3}} + z^{31} {\\space}_{3^{0}} {\\space}_{3^{1}} {\\space}_{3^{3}} + z^{30} {\\space}_{3^{1}} {\\space}_{3^{3}} + z^{28} {\\space}_{3^{0}} {\\space}_{3^{3}} + z^{27} {\\space}_{3^{3}} + z^{13} {\\space}_{3^{0}} {\\space}_{3^{1}} {\\space}_{3^{2}} + z^{12} {\\space}_{3^{1}} {\\space}_{3^{2}} + z^{10} {\\space}_{3^{0}} {\\space}_{3^{2}} + z^{9} {\\space}_{3^{2}} + z^{4} {\\space}_{3^{0}} {\\space}_{3^{1}} + z^{3} {\\space}_{3^{1}} + z {\\space}_{3^{0}} + 1$$"
      ],
      "text/plain": [
       "                                                                              \n",
       "\\times(z, \\space[3**0], \\space[3**2], \\space[3**1], \\space[3**3]) = (z⋅\\space[\n",
       "\n",
       "           ⎛ 3                 ⎞ ⎛ 9                 ⎞ ⎛ 27                 ⎞ \n",
       "3**0] + 1)⋅⎝z ⋅\\space[3**1] + 1⎠⋅⎝z ⋅\\space[3**2] + 1⎠⋅⎝z  ⋅\\space[3**3] + 1⎠ \n",
       "\n",
       "   40                                                        39               \n",
       "= z  ⋅\\space[3**0]⋅\\space[3**1]⋅\\space[3**2]⋅\\space[3**3] + z  ⋅\\space[3**1]⋅\\\n",
       "\n",
       "                            37                                           36   \n",
       "space[3**2]⋅\\space[3**3] + z  ⋅\\space[3**0]⋅\\space[3**2]⋅\\space[3**3] + z  ⋅\\s\n",
       "\n",
       "                           31                                           30    \n",
       "pace[3**2]⋅\\space[3**3] + z  ⋅\\space[3**0]⋅\\space[3**1]⋅\\space[3**3] + z  ⋅\\sp\n",
       "\n",
       "                          28                              27                 1\n",
       "ace[3**1]⋅\\space[3**3] + z  ⋅\\space[3**0]⋅\\space[3**3] + z  ⋅\\space[3**3] + z \n",
       "\n",
       "3                                           12                              10\n",
       " ⋅\\space[3**0]⋅\\space[3**1]⋅\\space[3**2] + z  ⋅\\space[3**1]⋅\\space[3**2] + z  \n",
       "\n",
       "                              9                 4                             \n",
       "⋅\\space[3**0]⋅\\space[3**2] + z ⋅\\space[3**2] + z ⋅\\space[3**0]⋅\\space[3**1] + \n",
       "\n",
       " 3                                  \n",
       "z ⋅\\space[3**1] + z⋅\\space[3**0] + 1"
      ]
     },
     "execution_count": 36,
     "metadata": {},
     "output_type": "execute_result"
    }
   ],
   "source": [
    "occupancy, = sums_of_powers(boxes=4, base=3)\n",
    "occupancy.series(z, n=100)"
   ]
  },
  {
   "cell_type": "code",
   "execution_count": 37,
   "metadata": {
    "collapsed": false,
    "deletable": true,
    "editable": true
   },
   "outputs": [
    {
     "data": {
      "text/latex": [
       "$$\\times{\\left (z,{\\space}_{5^{3}},{\\space}_{5^{1}},{\\space}_{5^{2}},{\\space}_{5^{0}} \\right )} = \\left(z {\\space}_{5^{0}} + 1\\right) \\left(z^{5} {\\space}_{5^{1}} + 1\\right) \\left(z^{25} {\\space}_{5^{2}} + 1\\right) \\left(z^{125} {\\space}_{5^{3}} + 1\\right) = z^{156} {\\space}_{5^{0}} {\\space}_{5^{1}} {\\space}_{5^{2}} {\\space}_{5^{3}} + z^{155} {\\space}_{5^{1}} {\\space}_{5^{2}} {\\space}_{5^{3}} + z^{151} {\\space}_{5^{0}} {\\space}_{5^{2}} {\\space}_{5^{3}} + z^{150} {\\space}_{5^{2}} {\\space}_{5^{3}} + z^{131} {\\space}_{5^{0}} {\\space}_{5^{1}} {\\space}_{5^{3}} + z^{130} {\\space}_{5^{1}} {\\space}_{5^{3}} + z^{126} {\\space}_{5^{0}} {\\space}_{5^{3}} + z^{125} {\\space}_{5^{3}} + z^{31} {\\space}_{5^{0}} {\\space}_{5^{1}} {\\space}_{5^{2}} + z^{30} {\\space}_{5^{1}} {\\space}_{5^{2}} + z^{26} {\\space}_{5^{0}} {\\space}_{5^{2}} + z^{25} {\\space}_{5^{2}} + z^{6} {\\space}_{5^{0}} {\\space}_{5^{1}} + z^{5} {\\space}_{5^{1}} + z {\\space}_{5^{0}} + 1$$"
      ],
      "text/plain": [
       "                                                                              \n",
       "\\times(z, \\space[5**3], \\space[5**1], \\space[5**2], \\space[5**0]) = (z⋅\\space[\n",
       "\n",
       "           ⎛ 5                 ⎞ ⎛ 25                 ⎞ ⎛ 125                 \n",
       "5**0] + 1)⋅⎝z ⋅\\space[5**1] + 1⎠⋅⎝z  ⋅\\space[5**2] + 1⎠⋅⎝z   ⋅\\space[5**3] + 1\n",
       "\n",
       "⎞    156                                                        155           \n",
       "⎠ = z   ⋅\\space[5**0]⋅\\space[5**1]⋅\\space[5**2]⋅\\space[5**3] + z   ⋅\\space[5**\n",
       "\n",
       "                                151                                           \n",
       "1]⋅\\space[5**2]⋅\\space[5**3] + z   ⋅\\space[5**0]⋅\\space[5**2]⋅\\space[5**3] + z\n",
       "\n",
       "150                              131                                          \n",
       "   ⋅\\space[5**2]⋅\\space[5**3] + z   ⋅\\space[5**0]⋅\\space[5**1]⋅\\space[5**3] + \n",
       "\n",
       " 130                              126                              125        \n",
       "z   ⋅\\space[5**1]⋅\\space[5**3] + z   ⋅\\space[5**0]⋅\\space[5**3] + z   ⋅\\space[\n",
       "\n",
       "         31                                           30                      \n",
       "5**3] + z  ⋅\\space[5**0]⋅\\space[5**1]⋅\\space[5**2] + z  ⋅\\space[5**1]⋅\\space[5\n",
       "\n",
       "        26                              25                 6                  \n",
       "**2] + z  ⋅\\space[5**0]⋅\\space[5**2] + z  ⋅\\space[5**2] + z ⋅\\space[5**0]⋅\\spa\n",
       "\n",
       "            5                                  \n",
       "ce[5**1] + z ⋅\\space[5**1] + z⋅\\space[5**0] + 1"
      ]
     },
     "execution_count": 37,
     "metadata": {},
     "output_type": "execute_result"
    }
   ],
   "source": [
    "occupancy, = sums_of_powers(boxes=4, base=5)\n",
    "occupancy.series(z, n=200)"
   ]
  },
  {
   "cell_type": "code",
   "execution_count": 38,
   "metadata": {
    "collapsed": false,
    "deletable": true,
    "editable": true
   },
   "outputs": [
    {
     "data": {
      "text/latex": [
       "$$\\times{\\left (z,{\\space}_{7^{0}},{\\space}_{7^{2}},{\\space}_{7^{1}},{\\space}_{7^{3}} \\right )} = \\left(z {\\space}_{7^{0}} + 1\\right) \\left(z^{7} {\\space}_{7^{1}} + 1\\right) \\left(z^{49} {\\space}_{7^{2}} + 1\\right) \\left(z^{343} {\\space}_{7^{3}} + 1\\right) = z^{400} {\\space}_{7^{0}} {\\space}_{7^{1}} {\\space}_{7^{2}} {\\space}_{7^{3}} + z^{399} {\\space}_{7^{1}} {\\space}_{7^{2}} {\\space}_{7^{3}} + z^{393} {\\space}_{7^{0}} {\\space}_{7^{2}} {\\space}_{7^{3}} + z^{392} {\\space}_{7^{2}} {\\space}_{7^{3}} + z^{351} {\\space}_{7^{0}} {\\space}_{7^{1}} {\\space}_{7^{3}} + z^{350} {\\space}_{7^{1}} {\\space}_{7^{3}} + z^{344} {\\space}_{7^{0}} {\\space}_{7^{3}} + z^{343} {\\space}_{7^{3}} + z^{57} {\\space}_{7^{0}} {\\space}_{7^{1}} {\\space}_{7^{2}} + z^{56} {\\space}_{7^{1}} {\\space}_{7^{2}} + z^{50} {\\space}_{7^{0}} {\\space}_{7^{2}} + z^{49} {\\space}_{7^{2}} + z^{8} {\\space}_{7^{0}} {\\space}_{7^{1}} + z^{7} {\\space}_{7^{1}} + z {\\space}_{7^{0}} + 1$$"
      ],
      "text/plain": [
       "                                                                              \n",
       "\\times(z, \\space[7**0], \\space[7**2], \\space[7**1], \\space[7**3]) = (z⋅\\space[\n",
       "\n",
       "           ⎛ 7                 ⎞ ⎛ 49                 ⎞ ⎛ 343                 \n",
       "7**0] + 1)⋅⎝z ⋅\\space[7**1] + 1⎠⋅⎝z  ⋅\\space[7**2] + 1⎠⋅⎝z   ⋅\\space[7**3] + 1\n",
       "\n",
       "⎞    400                                                        399           \n",
       "⎠ = z   ⋅\\space[7**0]⋅\\space[7**1]⋅\\space[7**2]⋅\\space[7**3] + z   ⋅\\space[7**\n",
       "\n",
       "                                393                                           \n",
       "1]⋅\\space[7**2]⋅\\space[7**3] + z   ⋅\\space[7**0]⋅\\space[7**2]⋅\\space[7**3] + z\n",
       "\n",
       "392                              351                                          \n",
       "   ⋅\\space[7**2]⋅\\space[7**3] + z   ⋅\\space[7**0]⋅\\space[7**1]⋅\\space[7**3] + \n",
       "\n",
       " 350                              344                              343        \n",
       "z   ⋅\\space[7**1]⋅\\space[7**3] + z   ⋅\\space[7**0]⋅\\space[7**3] + z   ⋅\\space[\n",
       "\n",
       "         57                                           56                      \n",
       "7**3] + z  ⋅\\space[7**0]⋅\\space[7**1]⋅\\space[7**2] + z  ⋅\\space[7**1]⋅\\space[7\n",
       "\n",
       "        50                              49                 8                  \n",
       "**2] + z  ⋅\\space[7**0]⋅\\space[7**2] + z  ⋅\\space[7**2] + z ⋅\\space[7**0]⋅\\spa\n",
       "\n",
       "            7                                  \n",
       "ce[7**1] + z ⋅\\space[7**1] + z⋅\\space[7**0] + 1"
      ]
     },
     "execution_count": 38,
     "metadata": {},
     "output_type": "execute_result"
    }
   ],
   "source": [
    "occupancy, = sums_of_powers(boxes=4, base=7)\n",
    "occupancy.series(z, n=500)"
   ]
  },
  {
   "cell_type": "code",
   "execution_count": 39,
   "metadata": {
    "collapsed": true,
    "deletable": true,
    "editable": true
   },
   "outputs": [],
   "source": [
    "assert 393 == 7**0 + 7**2 + 7**3 # _.rhs.rhs.coeff(z, 393)"
   ]
  },
  {
   "cell_type": "markdown",
   "metadata": {
    "deletable": true,
    "editable": true
   },
   "source": [
    "# Differences"
   ]
  },
  {
   "cell_type": "code",
   "execution_count": 119,
   "metadata": {
    "collapsed": false,
    "deletable": true,
    "editable": true
   },
   "outputs": [
    {
     "data": {
      "image/png": "[encoded data removed]",
      "text/latex": [
       "$$\\times{\\left (z,\\gamma,{w}_{1},{w}_{0} \\right )} = \\frac{- \\gamma z + 1}{\\left(z {w}_{0} - 1\\right) \\left(z {w}_{1} - 1\\right)}$$"
      ],
      "text/plain": [
       "                                      -\\gamma⋅z + 1      \n",
       "\\times(z, \\gamma, w[1], w[0]) = ─────────────────────────\n",
       "                                (z⋅w[0] - 1)⋅(z⋅w[1] - 1)"
      ]
     },
     "execution_count": 119,
     "metadata": {},
     "output_type": "execute_result"
    }
   ],
   "source": [
    "difference = (cp() | tyvar(-gamma*z))\n",
    "ones = nats * difference\n",
    "ones_gf, = ones.gf()\n",
    "ones_gf"
   ]
  },
  {
   "cell_type": "code",
   "execution_count": 121,
   "metadata": {
    "collapsed": false,
    "deletable": true,
    "editable": true
   },
   "outputs": [
    {
     "data": {
      "image/png": "[encoded data removed]",
      "text/latex": [
       "$$1 + z + z^{2} + z^{3} + z^{4} + z^{5} + z^{6} + z^{7} + z^{8} + z^{9} + O\\left(z^{10}\\right)$$"
      ],
      "text/plain": [
       "         2    3    4    5    6    7    8    9    ⎛ 10⎞\n",
       "1 + z + z  + z  + z  + z  + z  + z  + z  + z  + O⎝z  ⎠"
      ]
     },
     "execution_count": 121,
     "metadata": {},
     "output_type": "execute_result"
    }
   ],
   "source": [
    "ones_gf(z,1,1,1).series(z, n=10) # check!"
   ]
  },
  {
   "cell_type": "code",
   "execution_count": 123,
   "metadata": {
    "collapsed": false,
    "deletable": true,
    "editable": true
   },
   "outputs": [
    {
     "data": {
      "image/png": "[encoded data removed]",
      "text/latex": [
       "$$1 + O\\left(z^{10}\\right)$$"
      ],
      "text/plain": [
       "     ⎛ 10⎞\n",
       "1 + O⎝z  ⎠"
      ]
     },
     "execution_count": 123,
     "metadata": {},
     "output_type": "execute_result"
    }
   ],
   "source": [
    "one_gf, = (ones * difference).gf()\n",
    "one_gf.series(z, n=10).rhs.rhs.subs({w[0]:1, w[1]:1, gamma:1})"
   ]
  },
  {
   "cell_type": "markdown",
   "metadata": {
    "deletable": true,
    "editable": true
   },
   "source": [
    "---"
   ]
  },
  {
   "cell_type": "code",
   "execution_count": 6,
   "metadata": {
    "collapsed": true,
    "deletable": true,
    "editable": true
   },
   "outputs": [],
   "source": [
    "l = IndexedBase(r'\\circ')\n",
    "def linear_comb_of_powers(boxes, base):\n",
    "    return cp(lst(tyvar(Mul(l[j], z**(base**i), evaluate=False)))\n",
    "              for i in range(boxes) \n",
    "              for j in [Pow(base,i,evaluate=False)]).gf()"
   ]
  },
  {
   "cell_type": "code",
   "execution_count": 7,
   "metadata": {
    "collapsed": false,
    "deletable": true,
    "editable": true
   },
   "outputs": [
    {
     "data": {
      "image/png": "[encoded data removed]",
      "text/latex": [
       "$$\\times{\\left ({\\circ}_{2^{2}},{\\circ}_{2^{3}},{\\circ}_{2^{1}},z,{\\circ}_{2^{0}} \\right )} = \\frac{1}{\\left(z {\\circ}_{1} - 1\\right) \\left(z^{2} {\\circ}_{2} - 1\\right) \\left(z^{4} {\\circ}_{4} - 1\\right) \\left(z^{8} {\\circ}_{8} - 1\\right)} = 1 + z {\\circ}_{1} + z^{2} \\left({\\circ}_{1}^{2} + {\\circ}_{2}\\right) + z^{3} \\left({\\circ}_{1}^{3} + {\\circ}_{1} {\\circ}_{2}\\right) + z^{4} \\left({\\circ}_{1}^{4} + {\\circ}_{1}^{2} {\\circ}_{2} + {\\circ}_{2}^{2} + {\\circ}_{4}\\right) + z^{5} \\left({\\circ}_{1}^{5} + {\\circ}_{1}^{3} {\\circ}_{2} + {\\circ}_{1} {\\circ}_{2}^{2} + {\\circ}_{1} {\\circ}_{4}\\right) + z^{6} \\left({\\circ}_{1}^{6} + {\\circ}_{1}^{4} {\\circ}_{2} + {\\circ}_{1}^{2} {\\circ}_{2}^{2} + {\\circ}_{1}^{2} {\\circ}_{4} + {\\circ}_{2}^{3} + {\\circ}_{2} {\\circ}_{4}\\right) + z^{7} \\left({\\circ}_{1}^{7} + {\\circ}_{1}^{5} {\\circ}_{2} + {\\circ}_{1}^{3} {\\circ}_{2}^{2} + {\\circ}_{1}^{3} {\\circ}_{4} + {\\circ}_{1} {\\circ}_{2}^{3} + {\\circ}_{1} {\\circ}_{2} {\\circ}_{4}\\right) + O\\left(z^{8}\\right)$$"
      ],
      "text/plain": [
       "                                                                              \n",
       "\\times(\\circ[2**2], \\circ[2**3], \\circ[2**1], z, \\circ[2**0]) = ──────────────\n",
       "                                                                              \n",
       "                                                                (z⋅\\circ[1] - \n",
       "\n",
       "                    1                                                        2\n",
       "──────────────────────────────────────────────────────── = 1 + z⋅\\circ[1] + z \n",
       "   ⎛ 2             ⎞ ⎛ 4             ⎞ ⎛ 8             ⎞                      \n",
       "1)⋅⎝z ⋅\\circ[2] - 1⎠⋅⎝z ⋅\\circ[4] - 1⎠⋅⎝z ⋅\\circ[8] - 1⎠                      \n",
       "\n",
       " ⎛        2           ⎞    3 ⎛        3                    ⎞    4 ⎛        4  \n",
       "⋅⎝\\circ[1]  + \\circ[2]⎠ + z ⋅⎝\\circ[1]  + \\circ[1]⋅\\circ[2]⎠ + z ⋅⎝\\circ[1]  +\n",
       "                                                                              \n",
       "                                                                              \n",
       "\n",
       "         2                    2           ⎞    5 ⎛        5           3       \n",
       " \\circ[1] ⋅\\circ[2] + \\circ[2]  + \\circ[4]⎠ + z ⋅⎝\\circ[1]  + \\circ[1] ⋅\\circ[\n",
       "                                                                              \n",
       "                                                                              \n",
       "\n",
       "                      2                    ⎞    6 ⎛        6           4      \n",
       "2] + \\circ[1]⋅\\circ[2]  + \\circ[1]⋅\\circ[4]⎠ + z ⋅⎝\\circ[1]  + \\circ[1] ⋅\\circ\n",
       "                                                                              \n",
       "                                                                              \n",
       "\n",
       "              2         2           2                    3                    \n",
       "[2] + \\circ[1] ⋅\\circ[2]  + \\circ[1] ⋅\\circ[4] + \\circ[2]  + \\circ[2]⋅\\circ[4]\n",
       "                                                                              \n",
       "                                                                              \n",
       "\n",
       "⎞    7 ⎛        7           5                    3         2           3      \n",
       "⎠ + z ⋅⎝\\circ[1]  + \\circ[1] ⋅\\circ[2] + \\circ[1] ⋅\\circ[2]  + \\circ[1] ⋅\\circ\n",
       "                                                                              \n",
       "                                                                              \n",
       "\n",
       "                       3                             ⎞    ⎛ 8⎞\n",
       "[4] + \\circ[1]⋅\\circ[2]  + \\circ[1]⋅\\circ[2]⋅\\circ[4]⎠ + O⎝z ⎠\n",
       "                                                              \n",
       "                                                              "
      ]
     },
     "execution_count": 7,
     "metadata": {},
     "output_type": "execute_result"
    }
   ],
   "source": [
    "occupancy, = linear_comb_of_powers(boxes=4, base=Integer(2))\n",
    "occupancy.series(z, n=8)"
   ]
  },
  {
   "cell_type": "code",
   "execution_count": 59,
   "metadata": {
    "collapsed": false,
    "deletable": true,
    "editable": true
   },
   "outputs": [
    {
     "data": {
      "image/png": "[encoded data removed]",
      "text/latex": [
       "$$\\times{\\left ({\\circ}_{3^{0}},{\\circ}_{3^{1}},{\\circ}_{3^{2}},z,{\\circ}_{3^{3}} \\right )} = \\frac{1}{\\left(z {\\circ}_{1} - 1\\right) \\left(z^{3} {\\circ}_{3} - 1\\right) \\left(z^{9} {\\circ}_{9} - 1\\right) \\left(z^{27} {\\circ}_{27} - 1\\right)} = 1 + z {\\circ}_{1} + z^{2} {\\circ}_{1}^{2} + z^{3} \\left({\\circ}_{1}^{3} + {\\circ}_{3}\\right) + z^{4} \\left({\\circ}_{1}^{4} + {\\circ}_{1} {\\circ}_{3}\\right) + z^{5} \\left({\\circ}_{1}^{5} + {\\circ}_{1}^{2} {\\circ}_{3}\\right) + z^{6} \\left({\\circ}_{1}^{6} + {\\circ}_{1}^{3} {\\circ}_{3} + {\\circ}_{3}^{2}\\right) + z^{7} \\left({\\circ}_{1}^{7} + {\\circ}_{1}^{4} {\\circ}_{3} + {\\circ}_{1} {\\circ}_{3}^{2}\\right) + z^{8} \\left({\\circ}_{1}^{8} + {\\circ}_{1}^{5} {\\circ}_{3} + {\\circ}_{1}^{2} {\\circ}_{3}^{2}\\right) + O\\left(z^{9}\\right)$$"
      ],
      "text/plain": [
       "                                                                              \n",
       "\\times(\\circ[3**0], \\circ[3**1], \\circ[3**2], z, \\circ[3**3]) = ──────────────\n",
       "                                                                              \n",
       "                                                                (z⋅\\circ[1] - \n",
       "\n",
       "                     1                                                        \n",
       "────────────────────────────────────────────────────────── = 1 + z⋅\\circ[1] + \n",
       "   ⎛ 3             ⎞ ⎛ 9             ⎞ ⎛ 27              ⎞                    \n",
       "1)⋅⎝z ⋅\\circ[3] - 1⎠⋅⎝z ⋅\\circ[9] - 1⎠⋅⎝z  ⋅\\circ[27] - 1⎠                    \n",
       "\n",
       " 2         2    3 ⎛        3           ⎞    4 ⎛        4                    ⎞ \n",
       "z ⋅\\circ[1]  + z ⋅⎝\\circ[1]  + \\circ[3]⎠ + z ⋅⎝\\circ[1]  + \\circ[1]⋅\\circ[3]⎠ \n",
       "                                                                              \n",
       "                                                                              \n",
       "\n",
       "   5 ⎛        5           2         ⎞    6 ⎛        6           3             \n",
       "+ z ⋅⎝\\circ[1]  + \\circ[1] ⋅\\circ[3]⎠ + z ⋅⎝\\circ[1]  + \\circ[1] ⋅\\circ[3] + \\\n",
       "                                                                              \n",
       "                                                                              \n",
       "\n",
       "       2⎞    7 ⎛        7           4                             2⎞    8 ⎛   \n",
       "circ[3] ⎠ + z ⋅⎝\\circ[1]  + \\circ[1] ⋅\\circ[3] + \\circ[1]⋅\\circ[3] ⎠ + z ⋅⎝\\ci\n",
       "                                                                              \n",
       "                                                                              \n",
       "\n",
       "     8           5                    2         2⎞    ⎛ 9⎞\n",
       "rc[1]  + \\circ[1] ⋅\\circ[3] + \\circ[1] ⋅\\circ[3] ⎠ + O⎝z ⎠\n",
       "                                                          \n",
       "                                                          "
      ]
     },
     "execution_count": 59,
     "metadata": {},
     "output_type": "execute_result"
    }
   ],
   "source": [
    "occupancy, = linear_comb_of_powers(boxes=4, base=3)\n",
    "occupancy.series(z, n=9)"
   ]
  },
  {
   "cell_type": "code",
   "execution_count": 60,
   "metadata": {
    "collapsed": false,
    "deletable": true,
    "editable": true
   },
   "outputs": [
    {
     "data": {
      "image/png": "[encoded data removed]",
      "text/latex": [
       "$$\\times{\\left ({\\circ}_{5^{2}},{\\circ}_{5^{3}},{\\circ}_{5^{0}},{\\circ}_{5^{1}},z \\right )} = \\frac{1}{\\left(z {\\circ}_{1} - 1\\right) \\left(z^{5} {\\circ}_{5} - 1\\right) \\left(z^{25} {\\circ}_{25} - 1\\right) \\left(z^{125} {\\circ}_{125} - 1\\right)} = 1 + z {\\circ}_{1} + z^{2} {\\circ}_{1}^{2} + z^{3} {\\circ}_{1}^{3} + z^{4} {\\circ}_{1}^{4} + z^{5} \\left({\\circ}_{1}^{5} + {\\circ}_{5}\\right) + z^{6} \\left({\\circ}_{1}^{6} + {\\circ}_{1} {\\circ}_{5}\\right) + z^{7} \\left({\\circ}_{1}^{7} + {\\circ}_{1}^{2} {\\circ}_{5}\\right) + z^{8} \\left({\\circ}_{1}^{8} + {\\circ}_{1}^{3} {\\circ}_{5}\\right) + z^{9} \\left({\\circ}_{1}^{9} + {\\circ}_{1}^{4} {\\circ}_{5}\\right) + O\\left(z^{10}\\right)$$"
      ],
      "text/plain": [
       "                                                                              \n",
       "\\times(\\circ[5**2], \\circ[5**3], \\circ[5**0], \\circ[5**1], z) = ──────────────\n",
       "                                                                              \n",
       "                                                                (z⋅\\circ[1] - \n",
       "\n",
       "                       1                                                      \n",
       "────────────────────────────────────────────────────────────── = 1 + z⋅\\circ[1\n",
       "   ⎛ 5             ⎞ ⎛ 25              ⎞ ⎛ 125               ⎞                \n",
       "1)⋅⎝z ⋅\\circ[5] - 1⎠⋅⎝z  ⋅\\circ[25] - 1⎠⋅⎝z   ⋅\\circ[125] - 1⎠                \n",
       "\n",
       "     2         2    3         3    4         4    5 ⎛        5           ⎞    \n",
       "] + z ⋅\\circ[1]  + z ⋅\\circ[1]  + z ⋅\\circ[1]  + z ⋅⎝\\circ[1]  + \\circ[5]⎠ + z\n",
       "                                                                              \n",
       "                                                                              \n",
       "\n",
       "6 ⎛        6                    ⎞    7 ⎛        7           2         ⎞    8 ⎛\n",
       " ⋅⎝\\circ[1]  + \\circ[1]⋅\\circ[5]⎠ + z ⋅⎝\\circ[1]  + \\circ[1] ⋅\\circ[5]⎠ + z ⋅⎝\n",
       "                                                                              \n",
       "                                                                              \n",
       "\n",
       "        8           3         ⎞    9 ⎛        9           4         ⎞    ⎛ 10⎞\n",
       "\\circ[1]  + \\circ[1] ⋅\\circ[5]⎠ + z ⋅⎝\\circ[1]  + \\circ[1] ⋅\\circ[5]⎠ + O⎝z  ⎠\n",
       "                                                                              \n",
       "                                                                              "
      ]
     },
     "execution_count": 60,
     "metadata": {},
     "output_type": "execute_result"
    }
   ],
   "source": [
    "occupancy, = linear_comb_of_powers(boxes=4, base=5)\n",
    "occupancy.series(z, n=10)"
   ]
  },
  {
   "cell_type": "code",
   "execution_count": 399,
   "metadata": {
    "collapsed": false,
    "deletable": true,
    "editable": true
   },
   "outputs": [
    {
     "data": {
      "image/png": "[encoded data removed]",
      "text/latex": [
       "$$\\times{\\left (x,\\frac{1}{10} \\right )} = - \\frac{1}{10 \\left(x - 1\\right)} = \\frac{1}{10} + \\frac{x}{10} + \\frac{x^{2}}{10} + \\frac{x^{3}}{10} + \\frac{x^{4}}{10} + \\frac{x^{5}}{10} + \\frac{x^{6}}{10} + \\frac{x^{7}}{10} + \\frac{x^{8}}{10} + \\frac{x^{9}}{10} + O\\left(x^{10}\\right)$$"
      ],
      "text/plain": [
       "                                          2    3    4    5    6    7    8    9\n",
       "                     -1        1    x    x    x    x    x    x    x    x    x \n",
       "\\times(x, 1/10) = ────────── = ── + ── + ── + ── + ── + ── + ── + ── + ── + ──\n",
       "                  10⋅(x - 1)   10   10   10   10   10   10   10   10   10   10\n",
       "\n",
       "         \n",
       "    ⎛ 10⎞\n",
       " + O⎝x  ⎠\n",
       "         "
      ]
     },
     "execution_count": 399,
     "metadata": {},
     "output_type": "execute_result"
    }
   ],
   "source": [
    "def uniform_rv(n):\n",
    "    return tyvar(S(1)/nel) * lst(tyvar(x))\n",
    "occupancy, = uniform_rv(n=10).gf()\n",
    "occupancy.series(x,n=10)"
   ]
  },
  {
   "cell_type": "code",
   "execution_count": 394,
   "metadata": {
    "collapsed": true,
    "deletable": true,
    "editable": true
   },
   "outputs": [],
   "source": [
    "class lst_structure_w(rec):\n",
    "         \n",
    "    def definition(self, alpha):\n",
    "        me = self.me()\n",
    "        return alpha | lst(me)\n",
    "    \n",
    "    def label(self):\n",
    "        return r'\\mathcal{L}_{w}' # `_s` stands for \"structure\""
   ]
  },
  {
   "cell_type": "code",
   "execution_count": 193,
   "metadata": {
    "collapsed": false,
    "deletable": true,
    "editable": true
   },
   "outputs": [
    {
     "data": {
      "image/png": "[encoded data removed]",
      "text/latex": [
       "$$\\left [ \\mathcal{L}_{w}{\\left (\\alpha \\right )} = \\frac{\\alpha}{2} - \\frac{\\sqrt{\\left(\\alpha - 3\\right) \\left(\\alpha + 1\\right)}}{2} + \\frac{1}{2}, \\quad \\mathcal{L}_{w}{\\left (\\alpha \\right )} = \\frac{\\alpha}{2} + \\frac{\\sqrt{\\left(\\alpha - 3\\right) \\left(\\alpha + 1\\right)}}{2} + \\frac{1}{2}\\right ]$$"
      ],
      "text/plain": [
       "⎡                                     ___________________________             \n",
       "⎢                          \\alpha   ╲╱ (\\alpha - 3)⋅(\\alpha + 1)    1         \n",
       "⎢\\mathcal{L}_{w}(\\alpha) = ────── - ───────────────────────────── + ─, \\mathca\n",
       "⎣                            2                    2                 2         \n",
       "\n",
       "                              ___________________________    ⎤\n",
       "                   \\alpha   ╲╱ (\\alpha - 3)⋅(\\alpha + 1)    1⎥\n",
       "l{L}_{w}(\\alpha) = ────── + ───────────────────────────── + ─⎥\n",
       "                     2                    2                 2⎦"
      ]
     },
     "execution_count": 193,
     "metadata": {},
     "output_type": "execute_result"
    }
   ],
   "source": [
    "lst_structure_w(tyvar(alpha)).gf()"
   ]
  },
  {
   "cell_type": "code",
   "execution_count": 194,
   "metadata": {
    "collapsed": false,
    "deletable": true,
    "editable": true
   },
   "outputs": [
    {
     "data": {
      "image/png": "[encoded data removed]",
      "text/latex": [
       "$$\\left [ \\mathcal{L}_{w}{\\left (\\alpha \\right )} = \\frac{\\alpha}{2} - \\frac{\\sqrt{\\left(\\alpha - 3\\right) \\left(\\alpha + 1\\right)}}{2} + \\frac{1}{2} = - \\frac{\\sqrt{3} i}{2} + \\frac{1}{2} + \\alpha \\left(\\frac{1}{2} - \\frac{\\sqrt{3} i}{6}\\right) + \\frac{\\sqrt{3} i \\alpha^{2}}{9} - \\frac{\\sqrt{3} i \\alpha^{3}}{27} + \\frac{2 \\sqrt{3} i \\alpha^{4}}{81} - \\frac{4 \\sqrt{3} i \\alpha^{5}}{243} + O\\left(\\alpha^{6}\\right), \\quad \\mathcal{L}_{w}{\\left (\\alpha \\right )} = \\frac{\\alpha}{2} + \\frac{\\sqrt{\\left(\\alpha - 3\\right) \\left(\\alpha + 1\\right)}}{2} + \\frac{1}{2} = \\frac{\\sqrt{3} i}{2} + \\frac{1}{2} + \\alpha \\left(\\frac{1}{2} + \\frac{\\sqrt{3} i}{6}\\right) - \\frac{\\sqrt{3} i \\alpha^{2}}{9} + \\frac{\\sqrt{3} i \\alpha^{3}}{27} - \\frac{2 \\sqrt{3} i \\alpha^{4}}{81} + \\frac{4 \\sqrt{3} i \\alpha^{5}}{243} + O\\left(\\alpha^{6}\\right)\\right ]$$"
      ],
      "text/plain": [
       "⎡                                     ___________________________             \n",
       "⎢                          \\alpha   ╲╱ (\\alpha - 3)⋅(\\alpha + 1)    1     √3⋅ⅈ\n",
       "⎢\\mathcal{L}_{w}(\\alpha) = ────── - ───────────────────────────── + ─ = - ────\n",
       "⎣                            2                    2                 2      2  \n",
       "\n",
       "                                      2              3                4       \n",
       "   1          ⎛1   √3⋅ⅈ⎞   √3⋅ⅈ⋅\\alpha    √3⋅ⅈ⋅\\alpha    2⋅√3⋅ⅈ⋅\\alpha    4⋅√3\n",
       " + ─ + \\alpha⋅⎜─ - ────⎟ + ──────────── - ──────────── + ────────────── - ────\n",
       "   2          ⎝2    6  ⎠        9              27              81             \n",
       "\n",
       "         5                                                    ________________\n",
       "⋅ⅈ⋅\\alpha     ⎛      6⎞                            \\alpha   ╲╱ (\\alpha - 3)⋅(\\\n",
       "────────── + O⎝\\alpha ⎠, \\mathcal{L}_{w}(\\alpha) = ────── + ──────────────────\n",
       " 243                                                 2                    2   \n",
       "\n",
       "___________                                                 2              3  \n",
       "alpha + 1)    1   √3⋅ⅈ   1          ⎛1   √3⋅ⅈ⎞   √3⋅ⅈ⋅\\alpha    √3⋅ⅈ⋅\\alpha   \n",
       "─────────── + ─ = ──── + ─ + \\alpha⋅⎜─ + ────⎟ - ──────────── + ──────────── -\n",
       "              2    2     2          ⎝2    6  ⎠        9              27       \n",
       "\n",
       "              4                5             ⎤\n",
       " 2⋅√3⋅ⅈ⋅\\alpha    4⋅√3⋅ⅈ⋅\\alpha     ⎛      6⎞⎥\n",
       " ────────────── + ────────────── + O⎝\\alpha ⎠⎥\n",
       "       81              243                   ⎦"
      ]
     },
     "execution_count": 194,
     "metadata": {},
     "output_type": "execute_result"
    }
   ],
   "source": [
    "[gf.series(alpha) for gf in _]"
   ]
  },
  {
   "cell_type": "code",
   "execution_count": 8,
   "metadata": {
    "collapsed": true,
    "deletable": true,
    "editable": true
   },
   "outputs": [],
   "source": [
    "class lst_structure(rec):\n",
    "         \n",
    "    def definition(self, alpha):\n",
    "        me = self.me()\n",
    "        return alpha | (lst(me) * me * me)\n",
    "    \n",
    "    def label(self):\n",
    "        return r'\\mathcal{L}_{s}' # `_s` stands for \"structure\""
   ]
  },
  {
   "cell_type": "code",
   "execution_count": 9,
   "metadata": {
    "collapsed": false,
    "deletable": true,
    "editable": true
   },
   "outputs": [
    {
     "data": {
      "image/png": "[encoded data removed]",
      "text/latex": [
       "$$\\left [ \\mathcal{L}_{s}{\\left (\\alpha \\right )} = \\frac{\\alpha}{4} - \\frac{\\sqrt{\\alpha^{2} - 6 \\alpha + 1}}{4} + \\frac{1}{4}, \\quad \\mathcal{L}_{s}{\\left (\\alpha \\right )} = \\frac{\\alpha}{4} + \\frac{\\sqrt{\\alpha^{2} - 6 \\alpha + 1}}{4} + \\frac{1}{4}\\right ]$$"
      ],
      "text/plain": [
       "⎡                                      ________________________               \n",
       "⎢                                     ╱       2                               \n",
       "⎢                          \\alpha   ╲╱  \\alpha  - 6⋅\\alpha + 1    1           \n",
       "⎢\\mathcal{L}_{s}(\\alpha) = ────── - ─────────────────────────── + ─, \\mathcal{\n",
       "⎣                            4                   4                4           \n",
       "\n",
       "                             ________________________    ⎤\n",
       "                            ╱       2                    ⎥\n",
       "                 \\alpha   ╲╱  \\alpha  - 6⋅\\alpha + 1    1⎥\n",
       "L}_{s}(\\alpha) = ────── + ─────────────────────────── + ─⎥\n",
       "                   4                   4                4⎦"
      ]
     },
     "execution_count": 9,
     "metadata": {},
     "output_type": "execute_result"
    }
   ],
   "source": [
    "lst_structure(tyvar(alpha)).gf()"
   ]
  },
  {
   "cell_type": "code",
   "execution_count": 10,
   "metadata": {
    "collapsed": false,
    "deletable": true,
    "editable": true
   },
   "outputs": [
    {
     "data": {
      "image/png": "[encoded data removed]",
      "text/latex": [
       "$$\\mathcal{L}_{s}{\\left (\\alpha \\right )} = \\frac{\\alpha}{4} - \\frac{\\sqrt{\\alpha^{2} - 6 \\alpha + 1}}{4} + \\frac{1}{4} = \\alpha + \\alpha^{2} + 3 \\alpha^{3} + 11 \\alpha^{4} + 45 \\alpha^{5} + 197 \\alpha^{6} + 903 \\alpha^{7} + 4279 \\alpha^{8} + 20793 \\alpha^{9} + O\\left(\\alpha^{10}\\right)$$"
      ],
      "text/plain": [
       "                                      ________________________                \n",
       "                                     ╱       2                                \n",
       "                          \\alpha   ╲╱  \\alpha  - 6⋅\\alpha + 1    1            \n",
       "\\mathcal{L}_{s}(\\alpha) = ────── - ─────────────────────────── + ─ = \\alpha + \n",
       "                            4                   4                4            \n",
       "\n",
       "                                                                              \n",
       "                                                                              \n",
       "      2           3            4            5             6             7     \n",
       "\\alpha  + 3⋅\\alpha  + 11⋅\\alpha  + 45⋅\\alpha  + 197⋅\\alpha  + 903⋅\\alpha  + 42\n",
       "                                                                              \n",
       "\n",
       "                                        \n",
       "                                        \n",
       "         8               9    ⎛      10⎞\n",
       "79⋅\\alpha  + 20793⋅\\alpha  + O⎝\\alpha  ⎠\n",
       "                                        "
      ]
     },
     "execution_count": 10,
     "metadata": {},
     "output_type": "execute_result"
    }
   ],
   "source": [
    "_[0].series(alpha, n=10)"
   ]
  },
  {
   "cell_type": "code",
   "execution_count": 13,
   "metadata": {
    "collapsed": true,
    "deletable": true,
    "editable": true
   },
   "outputs": [],
   "source": [
    "class structure(rec):\n",
    "         \n",
    "    def definition(self, alpha):\n",
    "        me = self.me()\n",
    "        return alpha | (bin_tree(me) * me * me)\n",
    "    \n",
    "    def label(self):\n",
    "        return r'\\mathcal{S}'"
   ]
  },
  {
   "cell_type": "code",
   "execution_count": 16,
   "metadata": {
    "collapsed": false,
    "deletable": true,
    "editable": true
   },
   "outputs": [
    {
     "data": {
      "image/png": "[encoded data removed]",
      "text/latex": [
       "$$\\left [ \\mathcal{S}{\\left (\\alpha \\right )} = - \\frac{\\alpha}{\\sqrt[3]{\\frac{27 \\alpha^{2}}{2} + \\frac{\\sqrt{729 \\alpha^{4} - 108 \\alpha^{3}}}{2}}} - \\frac{\\sqrt[3]{\\frac{27 \\alpha^{2}}{2} + \\frac{\\sqrt{729 \\alpha^{4} - 108 \\alpha^{3}}}{2}}}{3}, \\quad \\mathcal{S}{\\left (\\alpha \\right )} = - \\frac{\\alpha}{\\left(- \\frac{1}{2} - \\frac{\\sqrt{3} i}{2}\\right) \\sqrt[3]{\\frac{27 \\alpha^{2}}{2} + \\frac{\\sqrt{729 \\alpha^{4} - 108 \\alpha^{3}}}{2}}} - \\frac{\\left(- \\frac{1}{2} - \\frac{\\sqrt{3} i}{2}\\right) \\sqrt[3]{\\frac{27 \\alpha^{2}}{2} + \\frac{\\sqrt{729 \\alpha^{4} - 108 \\alpha^{3}}}{2}}}{3}, \\quad \\mathcal{S}{\\left (\\alpha \\right )} = - \\frac{\\alpha}{\\left(- \\frac{1}{2} + \\frac{\\sqrt{3} i}{2}\\right) \\sqrt[3]{\\frac{27 \\alpha^{2}}{2} + \\frac{\\sqrt{729 \\alpha^{4} - 108 \\alpha^{3}}}{2}}} - \\frac{\\left(- \\frac{1}{2} + \\frac{\\sqrt{3} i}{2}\\right) \\sqrt[3]{\\frac{27 \\alpha^{2}}{2} + \\frac{\\sqrt{729 \\alpha^{4} - 108 \\alpha^{3}}}{2}}}{3}, \\quad \\mathcal{S}{\\left (\\alpha \\right )} = - \\frac{\\alpha}{\\sqrt[3]{\\frac{27 \\alpha^{2}}{2} + \\frac{\\sqrt{729 \\alpha^{4} - 108 \\alpha^{3}}}{2}}} - \\frac{\\sqrt[3]{\\frac{27 \\alpha^{2}}{2} + \\frac{\\sqrt{729 \\alpha^{4} - 108 \\alpha^{3}}}{2}}}{3}, \\quad \\mathcal{S}{\\left (\\alpha \\right )} = - \\frac{\\alpha}{\\left(- \\frac{1}{2} - \\frac{\\sqrt{3} i}{2}\\right) \\sqrt[3]{\\frac{27 \\alpha^{2}}{2} + \\frac{\\sqrt{729 \\alpha^{4} - 108 \\alpha^{3}}}{2}}} - \\frac{\\left(- \\frac{1}{2} - \\frac{\\sqrt{3} i}{2}\\right) \\sqrt[3]{\\frac{27 \\alpha^{2}}{2} + \\frac{\\sqrt{729 \\alpha^{4} - 108 \\alpha^{3}}}{2}}}{3}, \\quad \\mathcal{S}{\\left (\\alpha \\right )} = - \\frac{\\alpha}{\\left(- \\frac{1}{2} + \\frac{\\sqrt{3} i}{2}\\right) \\sqrt[3]{\\frac{27 \\alpha^{2}}{2} + \\frac{\\sqrt{729 \\alpha^{4} - 108 \\alpha^{3}}}{2}}} - \\frac{\\left(- \\frac{1}{2} + \\frac{\\sqrt{3} i}{2}\\right) \\sqrt[3]{\\frac{27 \\alpha^{2}}{2} + \\frac{\\sqrt{729 \\alpha^{4} - 108 \\alpha^{3}}}{2}}}{3}\\right ]$$"
      ],
      "text/plain": [
       "⎡                                                                             \n",
       "⎢                                                                             \n",
       "⎢                                                                             \n",
       "⎢                                                                             \n",
       "⎢                                                                             \n",
       "⎢                                               \\alpha                        \n",
       "⎢\\mathcal{S}(\\alpha) = - ─────────────────────────────────────────────────── -\n",
       "⎢                              _____________________________________________  \n",
       "⎢                             ╱                 ___________________________   \n",
       "⎢                            ╱           2     ╱           4             3    \n",
       "⎢                           ╱   27⋅\\alpha    ╲╱  729⋅\\alpha  - 108⋅\\alpha     \n",
       "⎢                        3 ╱    ────────── + ──────────────────────────────   \n",
       "⎣                        ╲╱         2                      2                  \n",
       "\n",
       "       _____________________________________________                          \n",
       "      ╱                 ___________________________                           \n",
       "     ╱           2     ╱           4             3                            \n",
       "    ╱   27⋅\\alpha    ╲╱  729⋅\\alpha  - 108⋅\\alpha                             \n",
       " 3 ╱    ────────── + ──────────────────────────────                           \n",
       " ╲╱         2                      2                                          \n",
       " ───────────────────────────────────────────────────, \\mathcal{S}(\\alpha) = - \n",
       "                          3                                                   \n",
       "                                                                              \n",
       "                                                                              \n",
       "                                                                              \n",
       "                                                                              \n",
       "                                                                              \n",
       "\n",
       "                                                                              \n",
       "                                                                              \n",
       "                                                                              \n",
       "                                                                   ⎛  1   √3⋅ⅈ\n",
       "                                                                   ⎜- ─ - ────\n",
       "                             \\alpha                                ⎝  2    2  \n",
       "──────────────────────────────────────────────────────────────── - ───────────\n",
       "                   _____________________________________________              \n",
       "                  ╱                 ___________________________               \n",
       "                 ╱           2     ╱           4             3                \n",
       "⎛  1   √3⋅ⅈ⎞    ╱   27⋅\\alpha    ╲╱  729⋅\\alpha  - 108⋅\\alpha                 \n",
       "⎜- ─ - ────⎟⋅3 ╱    ────────── + ──────────────────────────────               \n",
       "⎝  2    2  ⎠ ╲╱         2                      2                              \n",
       "\n",
       "        _____________________________________________                         \n",
       "       ╱                 ___________________________                          \n",
       "      ╱           2     ╱           4             3                           \n",
       "⎞    ╱   27⋅\\alpha    ╲╱  729⋅\\alpha  - 108⋅\\alpha                            \n",
       "⎟⋅3 ╱    ────────── + ──────────────────────────────                          \n",
       "⎠ ╲╱         2                      2                                         \n",
       "─────────────────────────────────────────────────────, \\mathcal{S}(\\alpha) = -\n",
       "                    3                                                         \n",
       "                                                                              \n",
       "                                                                              \n",
       "                                                                              \n",
       "                                                                              \n",
       "                                                                              \n",
       "\n",
       "                                                                              \n",
       "                                                                              \n",
       "                                                                              \n",
       "                                                                    ⎛  1   √3⋅\n",
       "                                                                    ⎜- ─ + ───\n",
       "                              \\alpha                                ⎝  2    2 \n",
       " ──────────────────────────────────────────────────────────────── - ──────────\n",
       "                    _____________________________________________             \n",
       "                   ╱                 ___________________________              \n",
       "                  ╱           2     ╱           4             3               \n",
       " ⎛  1   √3⋅ⅈ⎞    ╱   27⋅\\alpha    ╲╱  729⋅\\alpha  - 108⋅\\alpha                \n",
       " ⎜- ─ + ────⎟⋅3 ╱    ────────── + ──────────────────────────────              \n",
       " ⎝  2    2  ⎠ ╲╱         2                      2                             \n",
       "\n",
       "         _____________________________________________                        \n",
       "        ╱                 ___________________________                         \n",
       "       ╱           2     ╱           4             3                          \n",
       "ⅈ⎞    ╱   27⋅\\alpha    ╲╱  729⋅\\alpha  - 108⋅\\alpha                           \n",
       "─⎟⋅3 ╱    ────────── + ──────────────────────────────                         \n",
       " ⎠ ╲╱         2                      2                                        \n",
       "──────────────────────────────────────────────────────, \\mathcal{S}(\\alpha) = \n",
       "                     3                                                        \n",
       "                                                                              \n",
       "                                                                              \n",
       "                                                                              \n",
       "                                                                              \n",
       "                                                                              \n",
       "\n",
       "                                                              ________________\n",
       "                                                             ╱                \n",
       "                                                            ╱           2     \n",
       "                                                           ╱   27⋅\\alpha    ╲╱\n",
       "                                                        3 ╱    ────────── + ──\n",
       "                         \\alpha                         ╲╱         2          \n",
       "- ─────────────────────────────────────────────────── - ──────────────────────\n",
       "        _____________________________________________                         \n",
       "       ╱                 ___________________________                          \n",
       "      ╱           2     ╱           4             3                           \n",
       "     ╱   27⋅\\alpha    ╲╱  729⋅\\alpha  - 108⋅\\alpha                            \n",
       "  3 ╱    ────────── + ──────────────────────────────                          \n",
       "  ╲╱         2                      2                                         \n",
       "\n",
       "_____________________________                                                 \n",
       " ___________________________                                                  \n",
       "╱           4             3                                                   \n",
       "  729⋅\\alpha  - 108⋅\\alpha                                                    \n",
       "────────────────────────────                                                  \n",
       "            2                                                                 \n",
       "─────────────────────────────, \\mathcal{S}(\\alpha) = - ───────────────────────\n",
       "   3                                                                      ____\n",
       "                                                                         ╱    \n",
       "                                                                        ╱     \n",
       "                                                       ⎛  1   √3⋅ⅈ⎞    ╱   27⋅\n",
       "                                                       ⎜- ─ - ────⎟⋅3 ╱    ───\n",
       "                                                       ⎝  2    2  ⎠ ╲╱        \n",
       "\n",
       "                                                               _______________\n",
       "                                                              ╱               \n",
       "                                                             ╱           2    \n",
       "                                            ⎛  1   √3⋅ⅈ⎞    ╱   27⋅\\alpha    ╲\n",
       "                                            ⎜- ─ - ────⎟⋅3 ╱    ────────── + ─\n",
       "      \\alpha                                ⎝  2    2  ⎠ ╲╱         2         \n",
       "───────────────────────────────────────── - ──────────────────────────────────\n",
       "_________________________________________                                  3  \n",
       "             ___________________________                                      \n",
       "      2     ╱           4             3                                       \n",
       "\\alpha    ╲╱  729⋅\\alpha  - 108⋅\\alpha                                        \n",
       "─────── + ──────────────────────────────                                      \n",
       " 2                      2                                                     \n",
       "\n",
       "______________________________                                                \n",
       "  ___________________________                                                 \n",
       " ╱           4             3                                                  \n",
       "╱  729⋅\\alpha  - 108⋅\\alpha                                                   \n",
       "─────────────────────────────                                                 \n",
       "             2                                                                \n",
       "──────────────────────────────, \\mathcal{S}(\\alpha) = - ──────────────────────\n",
       "                                                                           ___\n",
       "                                                                          ╱   \n",
       "                                                                         ╱    \n",
       "                                                        ⎛  1   √3⋅ⅈ⎞    ╱   27\n",
       "                                                        ⎜- ─ + ────⎟⋅3 ╱    ──\n",
       "                                                        ⎝  2    2  ⎠ ╲╱       \n",
       "\n",
       "                                                                ______________\n",
       "                                                               ╱              \n",
       "                                                              ╱           2   \n",
       "                                             ⎛  1   √3⋅ⅈ⎞    ╱   27⋅\\alpha    \n",
       "                                             ⎜- ─ + ────⎟⋅3 ╱    ────────── + \n",
       "       \\alpha                                ⎝  2    2  ⎠ ╲╱         2        \n",
       "────────────────────────────────────────── - ─────────────────────────────────\n",
       "__________________________________________                                  3 \n",
       "              ___________________________                                     \n",
       "       2     ╱           4             3                                      \n",
       "⋅\\alpha    ╲╱  729⋅\\alpha  - 108⋅\\alpha                                       \n",
       "──────── + ──────────────────────────────                                     \n",
       "  2                      2                                                    \n",
       "\n",
       "_______________________________⎤\n",
       "   ___________________________ ⎥\n",
       "  ╱           4             3  ⎥\n",
       "╲╱  729⋅\\alpha  - 108⋅\\alpha   ⎥\n",
       "────────────────────────────── ⎥\n",
       "              2                ⎥\n",
       "───────────────────────────────⎥\n",
       "                               ⎥\n",
       "                               ⎥\n",
       "                               ⎥\n",
       "                               ⎥\n",
       "                               ⎥\n",
       "                               ⎦"
      ]
     },
     "execution_count": 16,
     "metadata": {},
     "output_type": "execute_result"
    }
   ],
   "source": [
    "structure(tyvar(alpha)).gf()"
   ]
  },
  {
   "cell_type": "code",
   "execution_count": 17,
   "metadata": {
    "collapsed": false,
    "deletable": true,
    "editable": true
   },
   "outputs": [],
   "source": [
    "gf = _[0]"
   ]
  },
  {
   "cell_type": "code",
   "execution_count": 33,
   "metadata": {
    "collapsed": false
   },
   "outputs": [
    {
     "data": {
      "image/png": "[encoded data removed]",
      "text/latex": [
       "$$\\mathcal{S}{\\left (\\alpha \\right )} = - \\frac{2 \\sqrt[3]{18} \\alpha + \\sqrt[3]{12} \\left(9 \\alpha^{2} + \\sqrt{3} \\sqrt{\\alpha^{3} \\left(27 \\alpha - 4\\right)}\\right)^{\\frac{2}{3}}}{6 \\sqrt[3]{9 \\alpha^{2} + \\sqrt{3} \\sqrt{\\alpha^{3} \\left(27 \\alpha - 4\\right)}}}$$"
      ],
      "text/plain": [
       "                       ⎛                                                      \n",
       "                       ⎜                         ⎛                  __________\n",
       "                       ⎜  3 ____          3 ____ ⎜        2        ╱       3  \n",
       "                      -⎝2⋅╲╱ 18 ⋅\\alpha + ╲╱ 12 ⋅⎝9⋅\\alpha  + √3⋅╲╱  \\alpha ⋅(\n",
       "\\mathcal{S}(\\alpha) = ────────────────────────────────────────────────────────\n",
       "                                         _____________________________________\n",
       "                                        ╱                   __________________\n",
       "                                     3 ╱          2        ╱       3          \n",
       "                                   6⋅╲╱   9⋅\\alpha  + √3⋅╲╱  \\alpha ⋅(27⋅\\alph\n",
       "\n",
       "                2/3⎞ \n",
       "_______________⎞   ⎟ \n",
       "               ⎟   ⎟ \n",
       "27⋅\\alpha - 4) ⎠   ⎠ \n",
       "─────────────────────\n",
       "________             \n",
       "_______              \n",
       "                     \n",
       "a - 4)               "
      ]
     },
     "execution_count": 33,
     "metadata": {},
     "output_type": "execute_result"
    }
   ],
   "source": [
    "gf.simplify()"
   ]
  },
  {
   "cell_type": "code",
   "execution_count": 37,
   "metadata": {
    "collapsed": false
   },
   "outputs": [
    {
     "data": {
      "image/png": "[encoded data removed]",
      "text/latex": [
       "$$\\left [ 0, \\quad 1, \\quad 1, \\quad 3, \\quad 12, \\quad 55, \\quad 273\\right ]$$"
      ],
      "text/plain": [
       "[0, 1, 1, 3, 12, 55, 273]"
      ]
     },
     "execution_count": 37,
     "metadata": {},
     "output_type": "execute_result"
    }
   ],
   "source": [
    "nel = 7\n",
    "s = gf.simplify().series(alpha, n=nel).rhs.rhs\n",
    "[s.coeff(alpha, n=i).subs({pow(-1,S(1)/3):-1}).radsimp().powsimp() for i in range(nel)]"
   ]
  },
  {
   "cell_type": "code",
   "execution_count": 48,
   "metadata": {
    "collapsed": true,
    "deletable": true,
    "editable": true
   },
   "outputs": [],
   "source": [
    "class structure(rec):\n",
    "         \n",
    "    def definition(self, alpha):\n",
    "        me = self.me()\n",
    "        return alpha | (nnbin_tree(me) * me)\n",
    "    \n",
    "    def label(self):\n",
    "        return r'\\mathcal{S}'"
   ]
  },
  {
   "cell_type": "code",
   "execution_count": 49,
   "metadata": {
    "collapsed": false,
    "deletable": true,
    "editable": true
   },
   "outputs": [
    {
     "data": {
      "image/png": "[encoded data removed]",
      "text/latex": [
       "$$\\left [ \\mathcal{S}{\\left (\\alpha \\right )} = \\frac{\\alpha}{2} - \\frac{\\sqrt{- 4 \\alpha^{2} - 4 \\alpha + 1}}{4} + \\frac{1}{4}, \\quad \\mathcal{S}{\\left (\\alpha \\right )} = \\frac{\\alpha}{2} + \\frac{\\sqrt{- 4 \\alpha^{2} - 4 \\alpha + 1}}{4} + \\frac{1}{4}, \\quad \\mathcal{S}{\\left (\\alpha \\right )} = \\frac{\\alpha}{2} - \\frac{\\sqrt{- 4 \\alpha^{2} - 4 \\alpha + 1}}{4} + \\frac{1}{4}, \\quad \\mathcal{S}{\\left (\\alpha \\right )} = \\frac{\\alpha}{2} + \\frac{\\sqrt{- 4 \\alpha^{2} - 4 \\alpha + 1}}{4} + \\frac{1}{4}\\right ]$$"
      ],
      "text/plain": [
       "⎡                                  ____________________________               \n",
       "⎢                                 ╱           2                               \n",
       "⎢                      \\alpha   ╲╱  - 4⋅\\alpha  - 4⋅\\alpha + 1    1           \n",
       "⎢\\mathcal{S}(\\alpha) = ────── - ─────────────────────────────── + ─, \\mathcal{\n",
       "⎣                        2                     4                  4           \n",
       "\n",
       "                         ____________________________                         \n",
       "                        ╱           2                                         \n",
       "             \\alpha   ╲╱  - 4⋅\\alpha  - 4⋅\\alpha + 1    1                     \n",
       "S}(\\alpha) = ────── + ─────────────────────────────── + ─, \\mathcal{S}(\\alpha)\n",
       "               2                     4                  4                     \n",
       "\n",
       "               ____________________________                                   \n",
       "              ╱           2                                                   \n",
       "   \\alpha   ╲╱  - 4⋅\\alpha  - 4⋅\\alpha + 1    1                        \\alpha \n",
       " = ────── - ─────────────────────────────── + ─, \\mathcal{S}(\\alpha) = ────── \n",
       "     2                     4                  4                          2    \n",
       "\n",
       "     ____________________________    ⎤\n",
       "    ╱           2                    ⎥\n",
       "  ╲╱  - 4⋅\\alpha  - 4⋅\\alpha + 1    1⎥\n",
       "+ ─────────────────────────────── + ─⎥\n",
       "                 4                  4⎦"
      ]
     },
     "execution_count": 49,
     "metadata": {},
     "output_type": "execute_result"
    }
   ],
   "source": [
    "structure(tyvar(alpha)).gf()"
   ]
  },
  {
   "cell_type": "code",
   "execution_count": 50,
   "metadata": {
    "collapsed": false,
    "deletable": true,
    "editable": true
   },
   "outputs": [],
   "source": [
    "gf = _[0]"
   ]
  },
  {
   "cell_type": "code",
   "execution_count": 51,
   "metadata": {
    "collapsed": false,
    "deletable": true,
    "editable": true
   },
   "outputs": [
    {
     "data": {
      "image/png": "[encoded data removed]",
      "text/latex": [
       "$$\\mathcal{S}{\\left (\\alpha \\right )} = \\frac{\\alpha}{2} - \\frac{\\sqrt{- 4 \\alpha^{2} - 4 \\alpha + 1}}{4} + \\frac{1}{4}$$"
      ],
      "text/plain": [
       "                                  ____________________________    \n",
       "                                 ╱           2                    \n",
       "                      \\alpha   ╲╱  - 4⋅\\alpha  - 4⋅\\alpha + 1    1\n",
       "\\mathcal{S}(\\alpha) = ────── - ─────────────────────────────── + ─\n",
       "                        2                     4                  4"
      ]
     },
     "execution_count": 51,
     "metadata": {},
     "output_type": "execute_result"
    }
   ],
   "source": [
    "gf.simplify()"
   ]
  },
  {
   "cell_type": "code",
   "execution_count": 45,
   "metadata": {
    "collapsed": false,
    "deletable": true,
    "editable": true
   },
   "outputs": [
    {
     "data": {
      "image/png": "[encoded data removed]",
      "text/latex": [
       "$$\\left [ 0, \\quad 1, \\quad 1, \\quad 2, \\quad 6, \\quad 20, \\quad 72, \\quad 272, \\quad 1064, \\quad 4272, \\quad 17504, \\quad 72896, \\quad 307648, \\quad 1312896, \\quad 5655808, \\quad 24562176, \\quad 107419264, \\quad 472675072, \\quad 2091206144, \\quad 9296612352\\right ]$$"
      ],
      "text/plain": [
       "[0, 1, 1, 2, 6, 20, 72, 272, 1064, 4272, 17504, 72896, 307648, 1312896, 565580\n",
       "8, 24562176, 107419264, 472675072, 2091206144, 9296612352]"
      ]
     },
     "execution_count": 45,
     "metadata": {},
     "output_type": "execute_result"
    }
   ],
   "source": [
    "nel = 20\n",
    "s = gf.simplify().series(alpha, n=nel).rhs.rhs\n",
    "[s.coeff(alpha, n=i).subs({pow(-1,S(1)/3):-1}).radsimp().powsimp() for i in range(nel)]"
   ]
  },
  {
   "cell_type": "code",
   "execution_count": 52,
   "metadata": {
    "collapsed": true,
    "deletable": true,
    "editable": true
   },
   "outputs": [],
   "source": [
    "class nn_structure(rec):\n",
    "         \n",
    "    def definition(self, alpha):\n",
    "        me = self.me()\n",
    "        return alpha * bin_tree(nnbin_tree(me))\n",
    "    \n",
    "    def label(self):\n",
    "        return r'\\mathcal{L}_{s}^{+}' # `_s` stands for \"structure\""
   ]
  },
  {
   "cell_type": "code",
   "execution_count": null,
   "metadata": {
    "collapsed": false,
    "deletable": true,
    "editable": true
   },
   "outputs": [],
   "source": [
    "nn_structure(tyvar(alpha)).gf()"
   ]
  },
  {
   "cell_type": "code",
   "execution_count": 202,
   "metadata": {
    "collapsed": false,
    "deletable": true,
    "editable": true
   },
   "outputs": [
    {
     "data": {
      "image/png": "[encoded data removed]",
      "text/latex": [
       "$$\\mathcal{L}_{s}^{+}{\\left (\\alpha \\right )} = \\frac{\\alpha}{4} - \\frac{\\sqrt{\\alpha^{2} - 6 \\alpha + 1}}{4} + \\frac{1}{4} = \\alpha + \\alpha^{2} + 3 \\alpha^{3} + 11 \\alpha^{4} + 45 \\alpha^{5} + 197 \\alpha^{6} + 903 \\alpha^{7} + 4279 \\alpha^{8} + 20793 \\alpha^{9} + O\\left(\\alpha^{10}\\right)$$"
      ],
      "text/plain": [
       "                                           ________________________           \n",
       "                                          ╱       2                           \n",
       "                               \\alpha   ╲╱  \\alpha  - 6⋅\\alpha + 1    1       \n",
       "\\mathcal{L}_{s}__{+}(\\alpha) = ────── - ─────────────────────────── + ─ = \\alp\n",
       "                                 4                   4                4       \n",
       "\n",
       "                                                                              \n",
       "                                                                              \n",
       "           2           3            4            5             6             7\n",
       "ha + \\alpha  + 3⋅\\alpha  + 11⋅\\alpha  + 45⋅\\alpha  + 197⋅\\alpha  + 903⋅\\alpha \n",
       "                                                                              \n",
       "\n",
       "                                             \n",
       "                                             \n",
       "              8               9    ⎛      10⎞\n",
       " + 4279⋅\\alpha  + 20793⋅\\alpha  + O⎝\\alpha  ⎠\n",
       "                                             "
      ]
     },
     "execution_count": 202,
     "metadata": {},
     "output_type": "execute_result"
    }
   ],
   "source": [
    "_[0].series(alpha, n=10)"
   ]
  },
  {
   "cell_type": "code",
   "execution_count": 199,
   "metadata": {
    "collapsed": true,
    "deletable": true,
    "editable": true
   },
   "outputs": [],
   "source": [
    "class nnlst_structure(rec):\n",
    "         \n",
    "    def definition(self, alpha):\n",
    "        me = self.me()\n",
    "        return alpha * lst(nnlst(me))\n",
    "    \n",
    "    def label(self):\n",
    "        return r'\\mathcal{L}_{s}^{+}' # `_s` stands for \"structure\""
   ]
  },
  {
   "cell_type": "code",
   "execution_count": 201,
   "metadata": {
    "collapsed": false,
    "deletable": true,
    "editable": true
   },
   "outputs": [
    {
     "data": {
      "image/png": "[encoded data removed]",
      "text/latex": [
       "$$\\left [ \\mathcal{L}_{s}^{+}{\\left (\\alpha \\right )} = \\frac{\\alpha}{4} - \\frac{\\sqrt{\\alpha^{2} - 6 \\alpha + 1}}{4} + \\frac{1}{4}, \\quad \\mathcal{L}_{s}^{+}{\\left (\\alpha \\right )} = \\frac{\\alpha}{4} + \\frac{\\sqrt{\\alpha^{2} - 6 \\alpha + 1}}{4} + \\frac{1}{4}\\right ]$$"
      ],
      "text/plain": [
       "⎡                                           ________________________          \n",
       "⎢                                          ╱       2                          \n",
       "⎢                               \\alpha   ╲╱  \\alpha  - 6⋅\\alpha + 1    1      \n",
       "⎢\\mathcal{L}_{s}__{+}(\\alpha) = ────── - ─────────────────────────── + ─, \\mat\n",
       "⎣                                 4                   4                4      \n",
       "\n",
       "                                       ________________________    ⎤\n",
       "                                      ╱       2                    ⎥\n",
       "                           \\alpha   ╲╱  \\alpha  - 6⋅\\alpha + 1    1⎥\n",
       "hcal{L}_{s}__{+}(\\alpha) = ────── + ─────────────────────────── + ─⎥\n",
       "                             4                   4                4⎦"
      ]
     },
     "execution_count": 201,
     "metadata": {},
     "output_type": "execute_result"
    }
   ],
   "source": [
    "nnlst_structure(tyvar(alpha)).gf()"
   ]
  },
  {
   "cell_type": "code",
   "execution_count": 202,
   "metadata": {
    "collapsed": false,
    "deletable": true,
    "editable": true
   },
   "outputs": [
    {
     "data": {
      "image/png": "[encoded data removed]",
      "text/latex": [
       "$$\\mathcal{L}_{s}^{+}{\\left (\\alpha \\right )} = \\frac{\\alpha}{4} - \\frac{\\sqrt{\\alpha^{2} - 6 \\alpha + 1}}{4} + \\frac{1}{4} = \\alpha + \\alpha^{2} + 3 \\alpha^{3} + 11 \\alpha^{4} + 45 \\alpha^{5} + 197 \\alpha^{6} + 903 \\alpha^{7} + 4279 \\alpha^{8} + 20793 \\alpha^{9} + O\\left(\\alpha^{10}\\right)$$"
      ],
      "text/plain": [
       "                                           ________________________           \n",
       "                                          ╱       2                           \n",
       "                               \\alpha   ╲╱  \\alpha  - 6⋅\\alpha + 1    1       \n",
       "\\mathcal{L}_{s}__{+}(\\alpha) = ────── - ─────────────────────────── + ─ = \\alp\n",
       "                                 4                   4                4       \n",
       "\n",
       "                                                                              \n",
       "                                                                              \n",
       "           2           3            4            5             6             7\n",
       "ha + \\alpha  + 3⋅\\alpha  + 11⋅\\alpha  + 45⋅\\alpha  + 197⋅\\alpha  + 903⋅\\alpha \n",
       "                                                                              \n",
       "\n",
       "                                             \n",
       "                                             \n",
       "              8               9    ⎛      10⎞\n",
       " + 4279⋅\\alpha  + 20793⋅\\alpha  + O⎝\\alpha  ⎠\n",
       "                                             "
      ]
     },
     "execution_count": 202,
     "metadata": {},
     "output_type": "execute_result"
    }
   ],
   "source": [
    "_[0].series(alpha, n=10)"
   ]
  },
  {
   "cell_type": "code",
   "execution_count": 203,
   "metadata": {
    "collapsed": true,
    "deletable": true,
    "editable": true
   },
   "outputs": [],
   "source": [
    "class tree(rec):\n",
    "         \n",
    "    def definition(self, alpha):\n",
    "        return alpha * lst(self.me())\n",
    "    \n",
    "    def label(self):\n",
    "        return r'\\mathcal{T}'"
   ]
  },
  {
   "cell_type": "code",
   "execution_count": 204,
   "metadata": {
    "collapsed": false,
    "deletable": true,
    "editable": true
   },
   "outputs": [
    {
     "data": {
      "image/png": "[encoded data removed]",
      "text/latex": [
       "$$\\left [ \\mathcal{T}{\\left (\\alpha \\right )} = - \\frac{\\sqrt{- 4 \\alpha + 1}}{2} + \\frac{1}{2}, \\quad \\mathcal{T}{\\left (\\alpha \\right )} = \\frac{\\sqrt{- 4 \\alpha + 1}}{2} + \\frac{1}{2}\\right ]$$"
      ],
      "text/plain": [
       "⎡                          _______________                              ______\n",
       "⎢                        ╲╱ -4⋅\\alpha + 1    1                        ╲╱ -4⋅\\a\n",
       "⎢\\mathcal{T}(\\alpha) = - ───────────────── + ─, \\mathcal{T}(\\alpha) = ────────\n",
       "⎣                                2           2                                \n",
       "\n",
       "_________    ⎤\n",
       "lpha + 1    1⎥\n",
       "───────── + ─⎥\n",
       "2           2⎦"
      ]
     },
     "execution_count": 204,
     "metadata": {},
     "output_type": "execute_result"
    }
   ],
   "source": [
    "tree(tyvar(alpha)).gf()"
   ]
  },
  {
   "cell_type": "code",
   "execution_count": 205,
   "metadata": {
    "collapsed": false,
    "deletable": true,
    "editable": true
   },
   "outputs": [
    {
     "data": {
      "image/png": "[encoded data removed]",
      "text/latex": [
       "$$\\mathcal{T}{\\left (\\alpha \\right )} = - \\frac{\\sqrt{- 4 \\alpha + 1}}{2} + \\frac{1}{2} = \\alpha + \\alpha^{2} + 2 \\alpha^{3} + 5 \\alpha^{4} + 14 \\alpha^{5} + 42 \\alpha^{6} + 132 \\alpha^{7} + 429 \\alpha^{8} + 1430 \\alpha^{9} + O\\left(\\alpha^{10}\\right)$$"
      ],
      "text/plain": [
       "                          _______________                                     \n",
       "                        ╲╱ -4⋅\\alpha + 1    1                  2           3  \n",
       "\\mathcal{T}(\\alpha) = - ───────────────── + ─ = \\alpha + \\alpha  + 2⋅\\alpha  +\n",
       "                                2           2                                 \n",
       "\n",
       "                                                                              \n",
       "         4            5            6             7             8              \n",
       " 5⋅\\alpha  + 14⋅\\alpha  + 42⋅\\alpha  + 132⋅\\alpha  + 429⋅\\alpha  + 1430⋅\\alpha\n",
       "                                                                              \n",
       "\n",
       "               \n",
       "9    ⎛      10⎞\n",
       "  + O⎝\\alpha  ⎠\n",
       "               "
      ]
     },
     "execution_count": 205,
     "metadata": {},
     "output_type": "execute_result"
    }
   ],
   "source": [
    "_[0].series(alpha, n=10)"
   ]
  },
  {
   "cell_type": "code",
   "execution_count": 206,
   "metadata": {
    "collapsed": true,
    "deletable": true,
    "editable": true
   },
   "outputs": [],
   "source": [
    "class combination(rec):\n",
    "         \n",
    "    def definition(self, alpha):\n",
    "        me = self.me()\n",
    "        return alpha | (me * me)\n",
    "    \n",
    "    def label(self):\n",
    "        return r'\\mathcal{C}'"
   ]
  },
  {
   "cell_type": "code",
   "execution_count": 209,
   "metadata": {
    "collapsed": false,
    "deletable": true,
    "editable": true
   },
   "outputs": [
    {
     "data": {
      "image/png": "[encoded data removed]",
      "text/latex": [
       "$$\\left [ \\mathcal{C}{\\left (\\alpha \\right )} = - \\frac{\\sqrt{- 4 \\alpha + 1}}{2} + \\frac{1}{2}, \\quad \\mathcal{C}{\\left (\\alpha \\right )} = \\frac{\\sqrt{- 4 \\alpha + 1}}{2} + \\frac{1}{2}\\right ]$$"
      ],
      "text/plain": [
       "⎡                          _______________                              ______\n",
       "⎢                        ╲╱ -4⋅\\alpha + 1    1                        ╲╱ -4⋅\\a\n",
       "⎢\\mathcal{C}(\\alpha) = - ───────────────── + ─, \\mathcal{C}(\\alpha) = ────────\n",
       "⎣                                2           2                                \n",
       "\n",
       "_________    ⎤\n",
       "lpha + 1    1⎥\n",
       "───────── + ─⎥\n",
       "2           2⎦"
      ]
     },
     "execution_count": 209,
     "metadata": {},
     "output_type": "execute_result"
    }
   ],
   "source": [
    "combination(tyvar(alpha)).gf()"
   ]
  },
  {
   "cell_type": "code",
   "execution_count": 210,
   "metadata": {
    "collapsed": false,
    "deletable": true,
    "editable": true
   },
   "outputs": [
    {
     "data": {
      "image/png": "[encoded data removed]",
      "text/latex": [
       "$$\\mathcal{C}{\\left (\\alpha \\right )} = - \\frac{\\sqrt{- 4 \\alpha + 1}}{2} + \\frac{1}{2} = \\alpha + \\alpha^{2} + 2 \\alpha^{3} + 5 \\alpha^{4} + 14 \\alpha^{5} + 42 \\alpha^{6} + 132 \\alpha^{7} + 429 \\alpha^{8} + 1430 \\alpha^{9} + O\\left(\\alpha^{10}\\right)$$"
      ],
      "text/plain": [
       "                          _______________                                     \n",
       "                        ╲╱ -4⋅\\alpha + 1    1                  2           3  \n",
       "\\mathcal{C}(\\alpha) = - ───────────────── + ─ = \\alpha + \\alpha  + 2⋅\\alpha  +\n",
       "                                2           2                                 \n",
       "\n",
       "                                                                              \n",
       "         4            5            6             7             8              \n",
       " 5⋅\\alpha  + 14⋅\\alpha  + 42⋅\\alpha  + 132⋅\\alpha  + 429⋅\\alpha  + 1430⋅\\alpha\n",
       "                                                                              \n",
       "\n",
       "               \n",
       "9    ⎛      10⎞\n",
       "  + O⎝\\alpha  ⎠\n",
       "               "
      ]
     },
     "execution_count": 210,
     "metadata": {},
     "output_type": "execute_result"
    }
   ],
   "source": [
    "_[0].series(alpha, n=10)"
   ]
  },
  {
   "cell_type": "code",
   "execution_count": 211,
   "metadata": {
    "collapsed": true,
    "deletable": true,
    "editable": true
   },
   "outputs": [],
   "source": [
    "class ab_tree(rec):\n",
    "         \n",
    "    def definition(self, alpha, beta):\n",
    "        me = self.me()\n",
    "        return beta | (alpha * me * me)\n",
    "    \n",
    "    def label(self):\n",
    "        return r'\\mathcal{T}_{a,b}'"
   ]
  },
  {
   "cell_type": "code",
   "execution_count": 212,
   "metadata": {
    "collapsed": false,
    "deletable": true,
    "editable": true
   },
   "outputs": [
    {
     "data": {
      "image/png": "[encoded data removed]",
      "text/latex": [
       "$$\\left [ \\mathcal{T}_{a,b}{\\left (\\beta,\\alpha \\right )} = \\frac{- \\sqrt{- 4 \\alpha \\beta + 1} + 1}{2 \\alpha}, \\quad \\mathcal{T}_{a,b}{\\left (\\beta,\\alpha \\right )} = \\frac{\\sqrt{- 4 \\alpha \\beta + 1} + 1}{2 \\alpha}\\right ]$$"
      ],
      "text/plain": [
       "⎡                                       _____________________                 \n",
       "⎢                                   - ╲╱ -4⋅\\alpha⋅\\beta + 1  + 1             \n",
       "⎢\\mathcal{T}_{a,b}(\\beta, \\alpha) = ─────────────────────────────, \\mathcal{T}\n",
       "⎣                                              2⋅\\alpha                       \n",
       "\n",
       "                          _____________________    ⎤\n",
       "                        ╲╱ -4⋅\\alpha⋅\\beta + 1  + 1⎥\n",
       "_{a,b}(\\beta, \\alpha) = ───────────────────────────⎥\n",
       "                                  2⋅\\alpha         ⎦"
      ]
     },
     "execution_count": 212,
     "metadata": {},
     "output_type": "execute_result"
    }
   ],
   "source": [
    "ab_tree_gfs = ab_tree(tyvar(alpha), tyvar(beta)).gf()\n",
    "ab_tree_gfs"
   ]
  },
  {
   "cell_type": "code",
   "execution_count": 213,
   "metadata": {
    "collapsed": true,
    "deletable": true,
    "editable": true
   },
   "outputs": [],
   "source": [
    "ab_tree_gf = ab_tree_gfs[0]"
   ]
  },
  {
   "cell_type": "code",
   "execution_count": 214,
   "metadata": {
    "collapsed": false,
    "deletable": true,
    "editable": true
   },
   "outputs": [
    {
     "data": {
      "image/png": "[encoded data removed]",
      "text/latex": [
       "$$\\mathcal{T}_{a,b}{\\left (\\beta,\\alpha \\right )} = 477638700 \\alpha^{18} \\beta^{19} + 129644790 \\alpha^{17} \\beta^{18} + 35357670 \\alpha^{16} \\beta^{17} + 9694845 \\alpha^{15} \\beta^{16} + 2674440 \\alpha^{14} \\beta^{15} + 742900 \\alpha^{13} \\beta^{14} + 208012 \\alpha^{12} \\beta^{13} + 58786 \\alpha^{11} \\beta^{12} + 16796 \\alpha^{10} \\beta^{11} + 4862 \\alpha^{9} \\beta^{10} + 1430 \\alpha^{8} \\beta^{9} + 429 \\alpha^{7} \\beta^{8} + 132 \\alpha^{6} \\beta^{7} + 42 \\alpha^{5} \\beta^{6} + 14 \\alpha^{4} \\beta^{5} + 5 \\alpha^{3} \\beta^{4} + 2 \\alpha^{2} \\beta^{3} + \\alpha \\beta^{2} + \\beta$$"
      ],
      "text/plain": [
       "                                                   18      19                 \n",
       "\\mathcal{T}_{a,b}(\\beta, \\alpha) = 477638700⋅\\alpha  ⋅\\beta   + 129644790⋅\\alp\n",
       "\n",
       "  17      18                  16      17                 15      16           \n",
       "ha  ⋅\\beta   + 35357670⋅\\alpha  ⋅\\beta   + 9694845⋅\\alpha  ⋅\\beta   + 2674440⋅\n",
       "\n",
       "      14      15                13      14                12      13          \n",
       "\\alpha  ⋅\\beta   + 742900⋅\\alpha  ⋅\\beta   + 208012⋅\\alpha  ⋅\\beta   + 58786⋅\\\n",
       "\n",
       "     11      12               10      11              9      10              8\n",
       "alpha  ⋅\\beta   + 16796⋅\\alpha  ⋅\\beta   + 4862⋅\\alpha ⋅\\beta   + 1430⋅\\alpha \n",
       "\n",
       "      9             7      8             6      7            5      6         \n",
       "⋅\\beta  + 429⋅\\alpha ⋅\\beta  + 132⋅\\alpha ⋅\\beta  + 42⋅\\alpha ⋅\\beta  + 14⋅\\al\n",
       "\n",
       "   4      5           3      4           2      3               2        \n",
       "pha ⋅\\beta  + 5⋅\\alpha ⋅\\beta  + 2⋅\\alpha ⋅\\beta  + \\alpha⋅\\beta  + \\beta"
      ]
     },
     "execution_count": 214,
     "metadata": {},
     "output_type": "execute_result"
    }
   ],
   "source": [
    "fab_eq = FEq(ab_tree_gf.lhs, ab_tree_gf.rhs.series(beta, n=20).removeO(), evaluate=False)\n",
    "fab_eq"
   ]
  },
  {
   "cell_type": "code",
   "execution_count": 215,
   "metadata": {
    "collapsed": false,
    "deletable": true,
    "editable": true
   },
   "outputs": [
    {
     "data": {
      "image/png": "[encoded data removed]",
      "text/latex": [
       "$$477638700 x^{37} + 129644790 x^{35} + 35357670 x^{33} + 9694845 x^{31} + 2674440 x^{29} + 742900 x^{27} + 208012 x^{25} + 58786 x^{23} + 16796 x^{21} + 4862 x^{19} + 1430 x^{17} + 429 x^{15} + 132 x^{13} + 42 x^{11} + 14 x^{9} + 5 x^{7} + 2 x^{5} + x^{3} + x$$"
      ],
      "text/plain": [
       "           37              35             33            31            29      \n",
       "477638700⋅x   + 129644790⋅x   + 35357670⋅x   + 9694845⋅x   + 2674440⋅x   + 742\n",
       "\n",
       "     27           25          23          21         19         17        15  \n",
       "900⋅x   + 208012⋅x   + 58786⋅x   + 16796⋅x   + 4862⋅x   + 1430⋅x   + 429⋅x   +\n",
       "\n",
       "      13       11       9      7      5    3    \n",
       " 132⋅x   + 42⋅x   + 14⋅x  + 5⋅x  + 2⋅x  + x  + x"
      ]
     },
     "execution_count": 215,
     "metadata": {},
     "output_type": "execute_result"
    }
   ],
   "source": [
    "fab_eq(x,x)"
   ]
  },
  {
   "cell_type": "code",
   "execution_count": 216,
   "metadata": {
    "collapsed": false,
    "deletable": true,
    "editable": true
   },
   "outputs": [
    {
     "data": {
      "image/png": "[encoded data removed]",
      "text/latex": [
       "$$477638700 \\alpha x^{37} + 129644790 \\alpha x^{35} + 35357670 \\alpha x^{33} + 9694845 \\alpha x^{31} + 2674440 \\alpha x^{29} + 742900 \\alpha x^{27} + 208012 \\alpha x^{25} + 58786 \\alpha x^{23} + 16796 \\alpha x^{21} + 4862 \\alpha x^{19} + 1430 \\alpha x^{17} + 429 \\alpha x^{15} + 132 \\alpha x^{13} + 42 \\alpha x^{11} + 14 \\alpha x^{9} + 5 \\alpha x^{7} + 2 \\alpha x^{5} + \\alpha x^{3} + \\alpha x$$"
      ],
      "text/plain": [
       "                  37                     35                    33             \n",
       "477638700⋅\\alpha⋅x   + 129644790⋅\\alpha⋅x   + 35357670⋅\\alpha⋅x   + 9694845⋅\\a\n",
       "\n",
       "      31                   29                  27                  25         \n",
       "lpha⋅x   + 2674440⋅\\alpha⋅x   + 742900⋅\\alpha⋅x   + 208012⋅\\alpha⋅x   + 58786⋅\n",
       "\n",
       "        23                 21                19                17             \n",
       "\\alpha⋅x   + 16796⋅\\alpha⋅x   + 4862⋅\\alpha⋅x   + 1430⋅\\alpha⋅x   + 429⋅\\alpha\n",
       "\n",
       "  15               13              11              9             7            \n",
       "⋅x   + 132⋅\\alpha⋅x   + 42⋅\\alpha⋅x   + 14⋅\\alpha⋅x  + 5⋅\\alpha⋅x  + 2⋅\\alpha⋅\n",
       "\n",
       " 5           3           \n",
       "x  + \\alpha⋅x  + \\alpha⋅x"
      ]
     },
     "execution_count": 216,
     "metadata": {},
     "output_type": "execute_result"
    }
   ],
   "source": [
    "(_*alpha).expand()"
   ]
  },
  {
   "cell_type": "code",
   "execution_count": 217,
   "metadata": {
    "collapsed": false,
    "deletable": true,
    "editable": true
   },
   "outputs": [
    {
     "data": {
      "image/png": "[encoded data removed]",
      "text/latex": [
       "$$\\left ( 477638700 x^{18} + 129644790 x^{17} + 35357670 x^{16} + 9694845 x^{15} + 2674440 x^{14} + 742900 x^{13} + 208012 x^{12} + 58786 x^{11} + 16796 x^{10} + 4862 x^{9} + 1430 x^{8} + 429 x^{7} + 132 x^{6} + 42 x^{5} + 14 x^{4} + 5 x^{3} + 2 x^{2} + x + 1, \\quad 477638700 x^{19} + 129644790 x^{18} + 35357670 x^{17} + 9694845 x^{16} + 2674440 x^{15} + 742900 x^{14} + 208012 x^{13} + 58786 x^{12} + 16796 x^{11} + 4862 x^{10} + 1430 x^{9} + 429 x^{8} + 132 x^{7} + 42 x^{6} + 14 x^{5} + 5 x^{4} + 2 x^{3} + x^{2} + x\\right )$$"
      ],
      "text/plain": [
       "⎛           18              17             16            15            14     \n",
       "⎝477638700⋅x   + 129644790⋅x   + 35357670⋅x   + 9694845⋅x   + 2674440⋅x   + 74\n",
       "\n",
       "      13           12          11          10         9         8        7    \n",
       "2900⋅x   + 208012⋅x   + 58786⋅x   + 16796⋅x   + 4862⋅x  + 1430⋅x  + 429⋅x  + 1\n",
       "\n",
       "    6       5       4      3      2                     19              18    \n",
       "32⋅x  + 42⋅x  + 14⋅x  + 5⋅x  + 2⋅x  + x + 1, 477638700⋅x   + 129644790⋅x   + 3\n",
       "\n",
       "         17            16            15           14           13          12 \n",
       "5357670⋅x   + 9694845⋅x   + 2674440⋅x   + 742900⋅x   + 208012⋅x   + 58786⋅x   \n",
       "\n",
       "         11         10         9        8        7       6       5      4     \n",
       "+ 16796⋅x   + 4862⋅x   + 1430⋅x  + 429⋅x  + 132⋅x  + 42⋅x  + 14⋅x  + 5⋅x  + 2⋅\n",
       "\n",
       " 3    2    ⎞\n",
       "x  + x  + x⎠"
      ]
     },
     "execution_count": 217,
     "metadata": {},
     "output_type": "execute_result"
    }
   ],
   "source": [
    "#with lift_to_Lambda(fab_eq) as F:\n",
    "B = fab_eq(x,1)\n",
    "A = fab_eq(1,x)\n",
    "A,B,"
   ]
  },
  {
   "cell_type": "code",
   "execution_count": 218,
   "metadata": {
    "collapsed": false,
    "deletable": true,
    "editable": true
   },
   "outputs": [
    {
     "data": {
      "image/png": "[encoded data removed]",
      "text/latex": [
       "$$477638700 x^{19} + 607283490 x^{18} + 165002460 x^{17} + 45052515 x^{16} + 12369285 x^{15} + 3417340 x^{14} + 950912 x^{13} + 266798 x^{12} + 75582 x^{11} + 21658 x^{10} + 6292 x^{9} + 1859 x^{8} + 561 x^{7} + 174 x^{6} + 56 x^{5} + 19 x^{4} + 7 x^{3} + 3 x^{2} + 2 x + 1$$"
      ],
      "text/plain": [
       "           19              18              17             16             15   \n",
       "477638700⋅x   + 607283490⋅x   + 165002460⋅x   + 45052515⋅x   + 12369285⋅x   + \n",
       "\n",
       "         14           13           12          11          10         9       \n",
       "3417340⋅x   + 950912⋅x   + 266798⋅x   + 75582⋅x   + 21658⋅x   + 6292⋅x  + 1859\n",
       "\n",
       "  8        7        6       5       4      3      2          \n",
       "⋅x  + 561⋅x  + 174⋅x  + 56⋅x  + 19⋅x  + 7⋅x  + 3⋅x  + 2⋅x + 1"
      ]
     },
     "execution_count": 218,
     "metadata": {},
     "output_type": "execute_result"
    }
   ],
   "source": [
    "(A+B).expand()"
   ]
  },
  {
   "cell_type": "code",
   "execution_count": 219,
   "metadata": {
    "collapsed": false,
    "deletable": true,
    "editable": true
   },
   "outputs": [
    {
     "data": {
      "image/png": "[encoded data removed]",
      "text/latex": [
       "$$477638700 x^{19} + 607283490 x^{18} + 165002460 x^{17} + 45052515 x^{16} + 12369285 x^{15} + 3417340 x^{14} + 950912 x^{13} + 266798 x^{12} + 75582 x^{11} + 21658 x^{10} + 6292 x^{9} + 1859 x^{8} + 561 x^{7} + 174 x^{6} + 56 x^{5} + 19 x^{4} + 7 x^{3} + 3 x^{2} + 2 x + 1$$"
      ],
      "text/plain": [
       "           19              18              17             16             15   \n",
       "477638700⋅x   + 607283490⋅x   + 165002460⋅x   + 45052515⋅x   + 12369285⋅x   + \n",
       "\n",
       "         14           13           12          11          10         9       \n",
       "3417340⋅x   + 950912⋅x   + 266798⋅x   + 75582⋅x   + 21658⋅x   + 6292⋅x  + 1859\n",
       "\n",
       "  8        7        6       5       4      3      2          \n",
       "⋅x  + 561⋅x  + 174⋅x  + 56⋅x  + 19⋅x  + 7⋅x  + 3⋅x  + 2⋅x + 1"
      ]
     },
     "execution_count": 219,
     "metadata": {},
     "output_type": "execute_result"
    }
   ],
   "source": [
    "((1+x)*A).expand()"
   ]
  },
  {
   "cell_type": "code",
   "execution_count": 223,
   "metadata": {
    "collapsed": true,
    "deletable": true,
    "editable": true
   },
   "outputs": [],
   "source": [
    "class dyck(rec):\n",
    "         \n",
    "    def definition(self, alpha, beta):\n",
    "        me = self.me()\n",
    "        return cp() | (alpha * me * beta * me)\n",
    "    \n",
    "    def label(self):\n",
    "        return r'\\mathcal{D}'"
   ]
  },
  {
   "cell_type": "code",
   "execution_count": 225,
   "metadata": {
    "collapsed": false,
    "deletable": true,
    "editable": true
   },
   "outputs": [
    {
     "data": {
      "image/png": "[encoded data removed]",
      "text/latex": [
       "$$\\left [ \\mathcal{D}{\\left (\\beta,x,\\alpha \\right )} = \\frac{- \\sqrt{- 4 \\alpha \\beta x^{2} + 1} + 1}{2 \\alpha \\beta x^{2}}, \\quad \\mathcal{D}{\\left (\\beta,x,\\alpha \\right )} = \\frac{\\sqrt{- 4 \\alpha \\beta x^{2} + 1} + 1}{2 \\alpha \\beta x^{2}}\\right ]$$"
      ],
      "text/plain": [
       "⎡                                     _________________________               \n",
       "⎢                                    ╱                   2                    \n",
       "⎢                                - ╲╱  - 4⋅\\alpha⋅\\beta⋅x  + 1  + 1           \n",
       "⎢\\mathcal{D}(\\beta, x, \\alpha) = ──────────────────────────────────, \\mathcal{\n",
       "⎢                                                        2                    \n",
       "⎣                                        2⋅\\alpha⋅\\beta⋅x                     \n",
       "\n",
       "                          _________________________    ⎤\n",
       "                         ╱                   2         ⎥\n",
       "                       ╲╱  - 4⋅\\alpha⋅\\beta⋅x  + 1  + 1⎥\n",
       "D}(\\beta, x, \\alpha) = ────────────────────────────────⎥\n",
       "                                              2        ⎥\n",
       "                              2⋅\\alpha⋅\\beta⋅x         ⎦"
      ]
     },
     "execution_count": 225,
     "metadata": {},
     "output_type": "execute_result"
    }
   ],
   "source": [
    "dyck_gfs = dyck(tyvar(alpha*x), tyvar(beta*x)).gf()\n",
    "dyck_gfs"
   ]
  },
  {
   "cell_type": "code",
   "execution_count": 226,
   "metadata": {
    "collapsed": true,
    "deletable": true,
    "editable": true
   },
   "outputs": [],
   "source": [
    "dyck_gf = dyck_gfs[0]"
   ]
  },
  {
   "cell_type": "code",
   "execution_count": 229,
   "metadata": {
    "collapsed": false,
    "deletable": true,
    "editable": true
   },
   "outputs": [
    {
     "data": {
      "image/png": "[encoded data removed]",
      "text/latex": [
       "$$\\mathcal{D}{\\left (\\beta,x,\\alpha \\right )} = \\frac{- \\sqrt{- 4 \\alpha \\beta x^{2} + 1} + 1}{2 \\alpha \\beta x^{2}} = 1 + \\alpha \\beta x^{2} + 2 \\alpha^{2} \\beta^{2} x^{4} + 5 \\alpha^{3} \\beta^{3} x^{6} + 14 \\alpha^{4} \\beta^{4} x^{8} + O\\left(x^{10}\\right)$$"
      ],
      "text/plain": [
       "                                     _________________________                \n",
       "                                    ╱                   2                     \n",
       "                                - ╲╱  - 4⋅\\alpha⋅\\beta⋅x  + 1  + 1            \n",
       "\\mathcal{D}(\\beta, x, \\alpha) = ────────────────────────────────── = 1 + \\alph\n",
       "                                                        2                     \n",
       "                                        2⋅\\alpha⋅\\beta⋅x                      \n",
       "\n",
       "                                                                              \n",
       "                                                                              \n",
       "         2           2      2  4           3      3  6            4      4  8 \n",
       "a⋅\\beta⋅x  + 2⋅\\alpha ⋅\\beta ⋅x  + 5⋅\\alpha ⋅\\beta ⋅x  + 14⋅\\alpha ⋅\\beta ⋅x  \n",
       "                                                                              \n",
       "                                                                              \n",
       "\n",
       "        \n",
       "        \n",
       "   ⎛ 10⎞\n",
       "+ O⎝x  ⎠\n",
       "        \n",
       "        "
      ]
     },
     "execution_count": 229,
     "metadata": {},
     "output_type": "execute_result"
    }
   ],
   "source": [
    "dyck_gf.series(x,n=10)"
   ]
  },
  {
   "cell_type": "code",
   "execution_count": 233,
   "metadata": {
    "collapsed": true,
    "deletable": true,
    "editable": true
   },
   "outputs": [],
   "source": [
    "class motzkin(rec):\n",
    "         \n",
    "    def definition(self, alpha, beta, gamma):\n",
    "        me = self.me()\n",
    "        return cp() | (alpha * me * beta * me) | (gamma * me)\n",
    "    \n",
    "    def label(self):\n",
    "        return r'\\mathcal{M}'"
   ]
  },
  {
   "cell_type": "code",
   "execution_count": 235,
   "metadata": {
    "collapsed": false,
    "deletable": true,
    "editable": true
   },
   "outputs": [
    {
     "data": {
      "image/png": "[encoded data removed]",
      "text/latex": [
       "$$\\left [ \\mathcal{M}{\\left (x,\\gamma,\\beta,\\alpha \\right )} = \\frac{- \\gamma x - \\sqrt{- 4 \\alpha \\beta x^{2} + \\gamma^{2} x^{2} - 2 \\gamma x + 1} + 1}{2 \\alpha \\beta x^{2}}, \\quad \\mathcal{M}{\\left (x,\\gamma,\\beta,\\alpha \\right )} = \\frac{- \\gamma x + \\sqrt{- 4 \\alpha \\beta x^{2} + \\gamma^{2} x^{2} - 2 \\gamma x + 1} + 1}{2 \\alpha \\beta x^{2}}\\right ]$$"
      ],
      "text/plain": [
       "⎡                                                       ______________________\n",
       "⎢                                                      ╱                   2  \n",
       "⎢                                        -\\gamma⋅x - ╲╱  - 4⋅\\alpha⋅\\beta⋅x  +\n",
       "⎢\\mathcal{M}(x, \\gamma, \\beta, \\alpha) = ─────────────────────────────────────\n",
       "⎢                                                                             \n",
       "⎣                                                                  2⋅\\alpha⋅\\b\n",
       "\n",
       "_____________________________                                                 \n",
       "       2  2                                                                   \n",
       " \\gamma ⋅x  - 2⋅\\gamma⋅x + 1  + 1                                          -\\g\n",
       "─────────────────────────────────, \\mathcal{M}(x, \\gamma, \\beta, \\alpha) = ───\n",
       "     2                                                                        \n",
       "eta⋅x                                                                         \n",
       "\n",
       "            ___________________________________________________    ⎤\n",
       "           ╱                   2         2  2                      ⎥\n",
       "amma⋅x + ╲╱  - 4⋅\\alpha⋅\\beta⋅x  + \\gamma ⋅x  - 2⋅\\gamma⋅x + 1  + 1⎥\n",
       "───────────────────────────────────────────────────────────────────⎥\n",
       "                                       2                           ⎥\n",
       "                       2⋅\\alpha⋅\\beta⋅x                            ⎦"
      ]
     },
     "execution_count": 235,
     "metadata": {},
     "output_type": "execute_result"
    }
   ],
   "source": [
    "motzkin_gfs = motzkin(tyvar(alpha*x), tyvar(beta*x), tyvar(gamma*x),).gf()\n",
    "motzkin_gfs"
   ]
  },
  {
   "cell_type": "code",
   "execution_count": 236,
   "metadata": {
    "collapsed": true,
    "deletable": true,
    "editable": true
   },
   "outputs": [],
   "source": [
    "motzkin_gf = motzkin_gfs[0]"
   ]
  },
  {
   "cell_type": "code",
   "execution_count": 237,
   "metadata": {
    "collapsed": false,
    "deletable": true,
    "editable": true
   },
   "outputs": [
    {
     "data": {
      "image/png": "[encoded data removed]",
      "text/latex": [
       "$$\\mathcal{M}{\\left (x,\\gamma,\\beta,\\alpha \\right )} = \\frac{- \\gamma x - \\sqrt{- 4 \\alpha \\beta x^{2} + \\gamma^{2} x^{2} - 2 \\gamma x + 1} + 1}{2 \\alpha \\beta x^{2}} = 1 + x^{2} \\left(\\alpha \\beta + \\gamma^{2}\\right) + x^{3} \\left(3 \\alpha \\beta \\gamma + \\gamma^{3}\\right) + x^{4} \\left(2 \\alpha^{2} \\beta^{2} + 6 \\alpha \\beta \\gamma^{2} + \\gamma^{4}\\right) + x^{5} \\left(10 \\alpha^{2} \\beta^{2} \\gamma + 10 \\alpha \\beta \\gamma^{3} + \\gamma^{5}\\right) + x^{6} \\left(5 \\alpha^{3} \\beta^{3} + 30 \\alpha^{2} \\beta^{2} \\gamma^{2} + 15 \\alpha \\beta \\gamma^{4} + \\gamma^{6}\\right) + x^{7} \\left(35 \\alpha^{3} \\beta^{3} \\gamma + 70 \\alpha^{2} \\beta^{2} \\gamma^{3} + 21 \\alpha \\beta \\gamma^{5} + \\gamma^{7}\\right) + x^{8} \\left(14 \\alpha^{4} \\beta^{4} + 140 \\alpha^{3} \\beta^{3} \\gamma^{2} + 140 \\alpha^{2} \\beta^{2} \\gamma^{4} + 28 \\alpha \\beta \\gamma^{6} + \\gamma^{8}\\right) + x^{9} \\left(126 \\alpha^{4} \\beta^{4} \\gamma + 420 \\alpha^{3} \\beta^{3} \\gamma^{3} + 252 \\alpha^{2} \\beta^{2} \\gamma^{5} + 36 \\alpha \\beta \\gamma^{7} + \\gamma^{9}\\right) + \\gamma x + O\\left(x^{10}\\right)$$"
      ],
      "text/plain": [
       "                                                       _______________________\n",
       "                                                      ╱                   2   \n",
       "                                        -\\gamma⋅x - ╲╱  - 4⋅\\alpha⋅\\beta⋅x  + \n",
       "\\mathcal{M}(x, \\gamma, \\beta, \\alpha) = ──────────────────────────────────────\n",
       "                                                                              \n",
       "                                                                  2⋅\\alpha⋅\\be\n",
       "\n",
       "____________________________                                                  \n",
       "      2  2                                                                    \n",
       "\\gamma ⋅x  - 2⋅\\gamma⋅x + 1  + 1        2 ⎛                     2⎞    3 ⎛     \n",
       "──────────────────────────────── = 1 + x ⋅⎝\\alpha⋅\\beta + \\gamma ⎠ + x ⋅⎝3⋅\\al\n",
       "    2                                                                         \n",
       "ta⋅x                                                                          \n",
       "\n",
       "                                                                              \n",
       "                                                                              \n",
       "                         3⎞    4 ⎛        2      2                        2   \n",
       "pha⋅\\beta⋅\\gamma + \\gamma ⎠ + x ⋅⎝2⋅\\alpha ⋅\\beta  + 6⋅\\alpha⋅\\beta⋅\\gamma  + \n",
       "                                                                              \n",
       "                                                                              \n",
       "\n",
       "                                                                              \n",
       "                                                                              \n",
       "      4⎞    5 ⎛         2      2                                3         5⎞  \n",
       "\\gamma ⎠ + x ⋅⎝10⋅\\alpha ⋅\\beta ⋅\\gamma + 10⋅\\alpha⋅\\beta⋅\\gamma  + \\gamma ⎠ +\n",
       "                                                                              \n",
       "                                                                              \n",
       "\n",
       "                                                                              \n",
       "                                                                              \n",
       "  6 ⎛        3      3            2      2       2                         4   \n",
       " x ⋅⎝5⋅\\alpha ⋅\\beta  + 30⋅\\alpha ⋅\\beta ⋅\\gamma  + 15⋅\\alpha⋅\\beta⋅\\gamma  + \n",
       "                                                                              \n",
       "                                                                              \n",
       "\n",
       "                                                                              \n",
       "                                                                              \n",
       "      6⎞    7 ⎛         3      3                   2      2       3           \n",
       "\\gamma ⎠ + x ⋅⎝35⋅\\alpha ⋅\\beta ⋅\\gamma + 70⋅\\alpha ⋅\\beta ⋅\\gamma  + 21⋅\\alph\n",
       "                                                                              \n",
       "                                                                              \n",
       "\n",
       "                                                                              \n",
       "                                                                              \n",
       "              5         7⎞    8 ⎛         4      4             3      3       \n",
       "a⋅\\beta⋅\\gamma  + \\gamma ⎠ + x ⋅⎝14⋅\\alpha ⋅\\beta  + 140⋅\\alpha ⋅\\beta ⋅\\gamma\n",
       "                                                                              \n",
       "                                                                              \n",
       "\n",
       "                                                                              \n",
       "                                                                              \n",
       "2             2      2       4                         6         8⎞    9 ⎛    \n",
       "  + 140⋅\\alpha ⋅\\beta ⋅\\gamma  + 28⋅\\alpha⋅\\beta⋅\\gamma  + \\gamma ⎠ + x ⋅⎝126⋅\n",
       "                                                                              \n",
       "                                                                              \n",
       "\n",
       "                                                                              \n",
       "                                                                              \n",
       "      4      4                    3      3       3             2      2       \n",
       "\\alpha ⋅\\beta ⋅\\gamma + 420⋅\\alpha ⋅\\beta ⋅\\gamma  + 252⋅\\alpha ⋅\\beta ⋅\\gamma\n",
       "                                                                              \n",
       "                                                                              \n",
       "\n",
       "                                                          \n",
       "                                                          \n",
       "5                         7         9⎞               ⎛ 10⎞\n",
       "  + 36⋅\\alpha⋅\\beta⋅\\gamma  + \\gamma ⎠ + \\gamma⋅x + O⎝x  ⎠\n",
       "                                                          \n",
       "                                                          "
      ]
     },
     "execution_count": 237,
     "metadata": {},
     "output_type": "execute_result"
    }
   ],
   "source": [
    "motzkin_gf.series(x,n=10)"
   ]
  },
  {
   "cell_type": "code",
   "execution_count": 238,
   "metadata": {
    "collapsed": false,
    "deletable": true,
    "editable": true
   },
   "outputs": [
    {
     "data": {
      "image/png": "[encoded data removed]",
      "text/latex": [
       "$$1 + x + 2 x^{2} + 4 x^{3} + 9 x^{4} + 21 x^{5} + 51 x^{6} + 127 x^{7} + 323 x^{8} + 835 x^{9} + O\\left(x^{10}\\right)$$"
      ],
      "text/plain": [
       "           2      3      4       5       6        7        8        9    ⎛ 10⎞\n",
       "1 + x + 2⋅x  + 4⋅x  + 9⋅x  + 21⋅x  + 51⋅x  + 127⋅x  + 323⋅x  + 835⋅x  + O⎝x  ⎠"
      ]
     },
     "execution_count": 238,
     "metadata": {},
     "output_type": "execute_result"
    }
   ],
   "source": [
    "motzkin_gf(x,1,1,1).series(x,n=10)"
   ]
  },
  {
   "cell_type": "code",
   "execution_count": 294,
   "metadata": {
    "collapsed": true,
    "deletable": true,
    "editable": true
   },
   "outputs": [],
   "source": [
    "class motzkin_p(rec):\n",
    "         \n",
    "    def definition(self, alpha, beta, gamma, eta):\n",
    "        me = self.me()\n",
    "        return cp() | (alpha * me * beta * me) | (gamma * me) | (eta * me)\n",
    "    \n",
    "    def label(self):\n",
    "        return r'\\mathcal{M}^{+}'"
   ]
  },
  {
   "cell_type": "code",
   "execution_count": 295,
   "metadata": {
    "collapsed": false,
    "deletable": true,
    "editable": true
   },
   "outputs": [
    {
     "data": {
      "image/png": "[encoded data removed]",
      "text/latex": [
       "$$\\left [ \\mathcal{M}^{+}{\\left (x,\\gamma,\\beta,\\eta,\\alpha \\right )} = \\frac{- \\eta x - \\gamma x - \\sqrt{- 4 \\alpha \\beta x^{2} + \\eta^{2} x^{2} + 2 \\eta \\gamma x^{2} - 2 \\eta x + \\gamma^{2} x^{2} - 2 \\gamma x + 1} + 1}{2 \\alpha \\beta x^{2}}, \\quad \\mathcal{M}^{+}{\\left (x,\\gamma,\\beta,\\eta,\\alpha \\right )} = \\frac{- \\eta x - \\gamma x + \\sqrt{- 4 \\alpha \\beta x^{2} + \\eta^{2} x^{2} + 2 \\eta \\gamma x^{2} - 2 \\eta x + \\gamma^{2} x^{2} - 2 \\gamma x + 1} + 1}{2 \\alpha \\beta x^{2}}\\right ]$$"
      ],
      "text/plain": [
       "⎡                                                                           __\n",
       "⎢                                                                          ╱  \n",
       "⎢                                                   -\\eta⋅x - \\gamma⋅x - ╲╱  -\n",
       "⎢\\mathcal{M}__{+}(x, \\gamma, \\beta, \\eta, \\alpha) = ──────────────────────────\n",
       "⎢                                                                             \n",
       "⎣                                                                             \n",
       "\n",
       "______________________________________________________________________________\n",
       "                 2       2  2                  2                    2  2      \n",
       " 4⋅\\alpha⋅\\beta⋅x  + \\eta ⋅x  + 2⋅\\eta⋅\\gamma⋅x  - 2⋅\\eta⋅x + \\gamma ⋅x  - 2⋅\\\n",
       "──────────────────────────────────────────────────────────────────────────────\n",
       "                                         2                                    \n",
       "                         2⋅\\alpha⋅\\beta⋅x                                     \n",
       "\n",
       "____________                                                                  \n",
       "                                                                              \n",
       "gamma⋅x + 1  + 1                                                     -\\eta⋅x -\n",
       "────────────────, \\mathcal{M}__{+}(x, \\gamma, \\beta, \\eta, \\alpha) = ─────────\n",
       "                                                                              \n",
       "                                                                              \n",
       "\n",
       "               _______________________________________________________________\n",
       "              ╱                   2       2  2                  2             \n",
       " \\gamma⋅x + ╲╱  - 4⋅\\alpha⋅\\beta⋅x  + \\eta ⋅x  + 2⋅\\eta⋅\\gamma⋅x  - 2⋅\\eta⋅x +\n",
       "──────────────────────────────────────────────────────────────────────────────\n",
       "                                                          2                   \n",
       "                                          2⋅\\alpha⋅\\beta⋅x                    \n",
       "\n",
       "_____________________________    ⎤\n",
       "       2  2                      ⎥\n",
       " \\gamma ⋅x  - 2⋅\\gamma⋅x + 1  + 1⎥\n",
       "─────────────────────────────────⎥\n",
       "                                 ⎥\n",
       "                                 ⎦"
      ]
     },
     "execution_count": 295,
     "metadata": {},
     "output_type": "execute_result"
    }
   ],
   "source": [
    "motzkinp_gfs = motzkin_p(tyvar(alpha*x), tyvar(beta*x), tyvar(gamma*x), tyvar(eta*x),).gf()\n",
    "motzkinp_gfs"
   ]
  },
  {
   "cell_type": "code",
   "execution_count": 298,
   "metadata": {
    "collapsed": true,
    "deletable": true,
    "editable": true
   },
   "outputs": [],
   "source": [
    "motzkinp_gf = motzkinp_gfs[0]"
   ]
  },
  {
   "cell_type": "code",
   "execution_count": 300,
   "metadata": {
    "collapsed": false,
    "deletable": true,
    "editable": true
   },
   "outputs": [
    {
     "data": {
      "image/png": "[encoded data removed]",
      "text/latex": [
       "$$\\mathcal{M}^{+}{\\left (x,\\gamma,\\beta,\\eta,\\alpha \\right )} = \\frac{- \\eta x - \\gamma x - \\sqrt{- 4 \\alpha \\beta x^{2} + \\eta^{2} x^{2} + 2 \\eta \\gamma x^{2} - 2 \\eta x + \\gamma^{2} x^{2} - 2 \\gamma x + 1} + 1}{2 \\alpha \\beta x^{2}} = 1 + x \\left(\\eta + \\gamma\\right) + x^{2} \\left(\\alpha \\beta + \\eta^{2} + 2 \\eta \\gamma + \\gamma^{2}\\right) + x^{3} \\left(3 \\alpha \\beta \\eta + 3 \\alpha \\beta \\gamma + \\eta^{3} + 3 \\eta^{2} \\gamma + 3 \\eta \\gamma^{2} + \\gamma^{3}\\right) + x^{4} \\left(2 \\alpha^{2} \\beta^{2} + 6 \\alpha \\beta \\eta^{2} + 12 \\alpha \\beta \\eta \\gamma + 6 \\alpha \\beta \\gamma^{2} + \\eta^{4} + 4 \\eta^{3} \\gamma + 6 \\eta^{2} \\gamma^{2} + 4 \\eta \\gamma^{3} + \\gamma^{4}\\right) + x^{5} \\left(10 \\alpha^{2} \\beta^{2} \\eta + 10 \\alpha^{2} \\beta^{2} \\gamma + 10 \\alpha \\beta \\eta^{3} + 30 \\alpha \\beta \\eta^{2} \\gamma + 30 \\alpha \\beta \\eta \\gamma^{2} + 10 \\alpha \\beta \\gamma^{3} + \\eta^{5} + 5 \\eta^{4} \\gamma + 10 \\eta^{3} \\gamma^{2} + 10 \\eta^{2} \\gamma^{3} + 5 \\eta \\gamma^{4} + \\gamma^{5}\\right) + O\\left(x^{6}\\right)$$"
      ],
      "text/plain": [
       "                                                                           ___\n",
       "                                                                          ╱   \n",
       "                                                   -\\eta⋅x - \\gamma⋅x - ╲╱  - \n",
       "\\mathcal{M}__{+}(x, \\gamma, \\beta, \\eta, \\alpha) = ───────────────────────────\n",
       "                                                                              \n",
       "                                                                              \n",
       "\n",
       "______________________________________________________________________________\n",
       "                2       2  2                  2                    2  2       \n",
       "4⋅\\alpha⋅\\beta⋅x  + \\eta ⋅x  + 2⋅\\eta⋅\\gamma⋅x  - 2⋅\\eta⋅x + \\gamma ⋅x  - 2⋅\\g\n",
       "──────────────────────────────────────────────────────────────────────────────\n",
       "                                        2                                     \n",
       "                        2⋅\\alpha⋅\\beta⋅x                                      \n",
       "\n",
       "___________                                                                   \n",
       "                                                                              \n",
       "amma⋅x + 1  + 1                            2 ⎛                   2            \n",
       "─────────────── = 1 + x⋅(\\eta + \\gamma) + x ⋅⎝\\alpha⋅\\beta + \\eta  + 2⋅\\eta⋅\\g\n",
       "                                                                              \n",
       "                                                                              \n",
       "\n",
       "                                                                              \n",
       "                                                                              \n",
       "             2⎞    3 ⎛                                                  3     \n",
       "amma + \\gamma ⎠ + x ⋅⎝3⋅\\alpha⋅\\beta⋅\\eta + 3⋅\\alpha⋅\\beta⋅\\gamma + \\eta  + 3⋅\n",
       "                                                                              \n",
       "                                                                              \n",
       "\n",
       "                                                                              \n",
       "                                                                              \n",
       "    2                       2         3⎞    4 ⎛        2      2               \n",
       "\\eta ⋅\\gamma + 3⋅\\eta⋅\\gamma  + \\gamma ⎠ + x ⋅⎝2⋅\\alpha ⋅\\beta  + 6⋅\\alpha⋅\\be\n",
       "                                                                              \n",
       "                                                                              \n",
       "\n",
       "                                                                              \n",
       "                                                                              \n",
       "       2                                                      2       4       \n",
       "ta⋅\\eta  + 12⋅\\alpha⋅\\beta⋅\\eta⋅\\gamma + 6⋅\\alpha⋅\\beta⋅\\gamma  + \\eta  + 4⋅\\e\n",
       "                                                                              \n",
       "                                                                              \n",
       "\n",
       "                                                                              \n",
       "                                                                              \n",
       "  3                2       2                3         4⎞    5 ⎛         2     \n",
       "ta ⋅\\gamma + 6⋅\\eta ⋅\\gamma  + 4⋅\\eta⋅\\gamma  + \\gamma ⎠ + x ⋅⎝10⋅\\alpha ⋅\\bet\n",
       "                                                                              \n",
       "                                                                              \n",
       "\n",
       "                                                                              \n",
       "                                                                              \n",
       " 2                 2      2                              3                    \n",
       "a ⋅\\eta + 10⋅\\alpha ⋅\\beta ⋅\\gamma + 10⋅\\alpha⋅\\beta⋅\\eta  + 30⋅\\alpha⋅\\beta⋅\\\n",
       "                                                                              \n",
       "                                                                              \n",
       "\n",
       "                                                                              \n",
       "                                                                              \n",
       "   2                                     2                         3       5  \n",
       "eta ⋅\\gamma + 30⋅\\alpha⋅\\beta⋅\\eta⋅\\gamma  + 10⋅\\alpha⋅\\beta⋅\\gamma  + \\eta  +\n",
       "                                                                              \n",
       "                                                                              \n",
       "\n",
       "                                                                              \n",
       "                                                                              \n",
       "       4                 3       2          2       3                4        \n",
       " 5⋅\\eta ⋅\\gamma + 10⋅\\eta ⋅\\gamma  + 10⋅\\eta ⋅\\gamma  + 5⋅\\eta⋅\\gamma  + \\gamm\n",
       "                                                                              \n",
       "                                                                              \n",
       "\n",
       "           \n",
       "           \n",
       " 5⎞    ⎛ 6⎞\n",
       "a ⎠ + O⎝x ⎠\n",
       "           \n",
       "           "
      ]
     },
     "execution_count": 300,
     "metadata": {},
     "output_type": "execute_result"
    }
   ],
   "source": [
    "motzkinp_gf.series(x,n=6)"
   ]
  },
  {
   "cell_type": "code",
   "execution_count": 301,
   "metadata": {
    "collapsed": false,
    "deletable": true,
    "editable": true
   },
   "outputs": [
    {
     "data": {
      "image/png": "[encoded data removed]",
      "text/latex": [
       "$$1 + 2 x + 5 x^{2} + 14 x^{3} + 42 x^{4} + 132 x^{5} + 429 x^{6} + 1430 x^{7} + 4862 x^{8} + 16796 x^{9} + O\\left(x^{10}\\right)$$"
      ],
      "text/plain": [
       "             2       3       4        5        6         7         8          \n",
       "1 + 2⋅x + 5⋅x  + 14⋅x  + 42⋅x  + 132⋅x  + 429⋅x  + 1430⋅x  + 4862⋅x  + 16796⋅x\n",
       "\n",
       "9    ⎛ 10⎞\n",
       "  + O⎝x  ⎠"
      ]
     },
     "execution_count": 301,
     "metadata": {},
     "output_type": "execute_result"
    }
   ],
   "source": [
    "motzkinp_gf(x,1,1,1,1).series(x,n=10)"
   ]
  },
  {
   "cell_type": "code",
   "execution_count": 245,
   "metadata": {
    "collapsed": true,
    "deletable": true,
    "editable": true
   },
   "outputs": [],
   "source": [
    "class fibo(rec):\n",
    "         \n",
    "    def definition(self, alpha, beta):\n",
    "        me = self.me()\n",
    "        return cp() | alpha | ((beta | (alpha * beta)) * me)\n",
    "    \n",
    "    def label(self):\n",
    "        return r'\\mathcal{F}'"
   ]
  },
  {
   "cell_type": "code",
   "execution_count": 248,
   "metadata": {
    "collapsed": false,
    "deletable": true,
    "editable": true
   },
   "outputs": [
    {
     "data": {
      "image/png": "[encoded data removed]",
      "text/latex": [
       "$$\\mathcal{F}{\\left (\\beta,x,\\alpha \\right )} = - \\frac{\\alpha x + 1}{\\alpha \\beta x^{2} + \\beta x - 1}$$"
      ],
      "text/plain": [
       "                                       -(\\alpha⋅x + 1)       \n",
       "\\mathcal{F}(\\beta, x, \\alpha) = ─────────────────────────────\n",
       "                                              2              \n",
       "                                \\alpha⋅\\beta⋅x  + \\beta⋅x - 1"
      ]
     },
     "execution_count": 248,
     "metadata": {},
     "output_type": "execute_result"
    }
   ],
   "source": [
    "fibo_gf, = fibo(tyvar(alpha*x), tyvar(beta*x),).gf()\n",
    "fibo_gf"
   ]
  },
  {
   "cell_type": "code",
   "execution_count": 249,
   "metadata": {
    "collapsed": false,
    "deletable": true,
    "editable": true
   },
   "outputs": [
    {
     "data": {
      "image/png": "[encoded data removed]",
      "text/latex": [
       "$$\\mathcal{F}{\\left (\\beta,x,\\alpha \\right )} = - \\frac{\\alpha x + 1}{\\alpha \\beta x^{2} + \\beta x - 1} = 1 + x \\left(\\alpha + \\beta\\right) + x^{2} \\left(2 \\alpha \\beta + \\beta^{2}\\right) + x^{3} \\left(\\alpha^{2} \\beta + 3 \\alpha \\beta^{2} + \\beta^{3}\\right) + x^{4} \\left(3 \\alpha^{2} \\beta^{2} + 4 \\alpha \\beta^{3} + \\beta^{4}\\right) + x^{5} \\left(\\alpha^{3} \\beta^{2} + 6 \\alpha^{2} \\beta^{3} + 5 \\alpha \\beta^{4} + \\beta^{5}\\right) + x^{6} \\left(4 \\alpha^{3} \\beta^{3} + 10 \\alpha^{2} \\beta^{4} + 6 \\alpha \\beta^{5} + \\beta^{6}\\right) + x^{7} \\left(\\alpha^{4} \\beta^{3} + 10 \\alpha^{3} \\beta^{4} + 15 \\alpha^{2} \\beta^{5} + 7 \\alpha \\beta^{6} + \\beta^{7}\\right) + x^{8} \\left(5 \\alpha^{4} \\beta^{4} + 20 \\alpha^{3} \\beta^{5} + 21 \\alpha^{2} \\beta^{6} + 8 \\alpha \\beta^{7} + \\beta^{8}\\right) + x^{9} \\left(\\alpha^{5} \\beta^{4} + 15 \\alpha^{4} \\beta^{5} + 35 \\alpha^{3} \\beta^{6} + 28 \\alpha^{2} \\beta^{7} + 9 \\alpha \\beta^{8} + \\beta^{9}\\right) + O\\left(x^{10}\\right)$$"
      ],
      "text/plain": [
       "                                       -(\\alpha⋅x + 1)                        \n",
       "\\mathcal{F}(\\beta, x, \\alpha) = ───────────────────────────── = 1 + x⋅(\\alpha \n",
       "                                              2                               \n",
       "                                \\alpha⋅\\beta⋅x  + \\beta⋅x - 1                 \n",
       "\n",
       "            2 ⎛                      2⎞    3 ⎛      2                       2 \n",
       "+ \\beta) + x ⋅⎝2⋅\\alpha⋅\\beta + \\beta ⎠ + x ⋅⎝\\alpha ⋅\\beta + 3⋅\\alpha⋅\\beta  \n",
       "                                                                              \n",
       "                                                                              \n",
       "\n",
       "       3⎞    4 ⎛        2      2                 3        4⎞    5 ⎛      3    \n",
       "+ \\beta ⎠ + x ⋅⎝3⋅\\alpha ⋅\\beta  + 4⋅\\alpha⋅\\beta  + \\beta ⎠ + x ⋅⎝\\alpha ⋅\\be\n",
       "                                                                              \n",
       "                                                                              \n",
       "\n",
       "  2           2      3                 4        5⎞    6 ⎛        3      3     \n",
       "ta  + 6⋅\\alpha ⋅\\beta  + 5⋅\\alpha⋅\\beta  + \\beta ⎠ + x ⋅⎝4⋅\\alpha ⋅\\beta  + 10\n",
       "                                                                              \n",
       "                                                                              \n",
       "\n",
       "       2      4                 5        6⎞    7 ⎛      4      3            3 \n",
       "⋅\\alpha ⋅\\beta  + 6⋅\\alpha⋅\\beta  + \\beta ⎠ + x ⋅⎝\\alpha ⋅\\beta  + 10⋅\\alpha ⋅\n",
       "                                                                              \n",
       "                                                                              \n",
       "\n",
       "     4            2      5                 6        7⎞    8 ⎛        4      4 \n",
       "\\beta  + 15⋅\\alpha ⋅\\beta  + 7⋅\\alpha⋅\\beta  + \\beta ⎠ + x ⋅⎝5⋅\\alpha ⋅\\beta  \n",
       "                                                                              \n",
       "                                                                              \n",
       "\n",
       "           3      5            2      6                 7        8⎞    9 ⎛    \n",
       "+ 20⋅\\alpha ⋅\\beta  + 21⋅\\alpha ⋅\\beta  + 8⋅\\alpha⋅\\beta  + \\beta ⎠ + x ⋅⎝\\alp\n",
       "                                                                              \n",
       "                                                                              \n",
       "\n",
       "  5      4            4      5            3      6            2      7        \n",
       "ha ⋅\\beta  + 15⋅\\alpha ⋅\\beta  + 35⋅\\alpha ⋅\\beta  + 28⋅\\alpha ⋅\\beta  + 9⋅\\al\n",
       "                                                                              \n",
       "                                                                              \n",
       "\n",
       "         8        9⎞    ⎛ 10⎞\n",
       "pha⋅\\beta  + \\beta ⎠ + O⎝x  ⎠\n",
       "                             \n",
       "                             "
      ]
     },
     "execution_count": 249,
     "metadata": {},
     "output_type": "execute_result"
    }
   ],
   "source": [
    "fibo_gf.series(x,n=10)"
   ]
  },
  {
   "cell_type": "code",
   "execution_count": 250,
   "metadata": {
    "collapsed": false,
    "deletable": true,
    "editable": true
   },
   "outputs": [
    {
     "data": {
      "image/png": "[encoded data removed]",
      "text/latex": [
       "$$1 + 2 x + 3 x^{2} + 5 x^{3} + 8 x^{4} + 13 x^{5} + 21 x^{6} + 34 x^{7} + 55 x^{8} + 89 x^{9} + O\\left(x^{10}\\right)$$"
      ],
      "text/plain": [
       "             2      3      4       5       6       7       8       9    ⎛ 10⎞\n",
       "1 + 2⋅x + 3⋅x  + 5⋅x  + 8⋅x  + 13⋅x  + 21⋅x  + 34⋅x  + 55⋅x  + 89⋅x  + O⎝x  ⎠"
      ]
     },
     "execution_count": 250,
     "metadata": {},
     "output_type": "execute_result"
    }
   ],
   "source": [
    "fibo_gf(1,x,1).series(x,n=10)"
   ]
  },
  {
   "cell_type": "code",
   "execution_count": 512,
   "metadata": {
    "collapsed": false,
    "deletable": true,
    "editable": true
   },
   "outputs": [
    {
     "data": {
      "image/png": "[encoded data removed]",
      "text/latex": [
       "$$\\mathcal{L}{\\left (x \\right )} = - \\frac{1}{x - 1} = 1 + x + 2 x^{2} + 6 x^{3} + 24 x^{4} + 120 x^{5} + 720 x^{6} + 5040 x^{7} + 40320 x^{8} + 362880 x^{9} + O\\left(x^{10}\\right)$$"
      ],
      "text/plain": [
       "                  -1                2      3       4        5        6        \n",
       "\\mathcal{L}(x) = ───── = 1 + x + 2⋅x  + 6⋅x  + 24⋅x  + 120⋅x  + 720⋅x  + 5040⋅\n",
       "                 x - 1                                                        \n",
       "\n",
       " 7          8           9    ⎛ 10⎞\n",
       "x  + 40320⋅x  + 362880⋅x  + O⎝x  ⎠\n",
       "                                  "
      ]
     },
     "execution_count": 512,
     "metadata": {},
     "output_type": "execute_result"
    }
   ],
   "source": [
    "lst_of_truth_gf, = lst(tyvar(x)).gf()\n",
    "lst_of_truth_gf.series(x, n=10, is_exp=True)"
   ]
  },
  {
   "cell_type": "code",
   "execution_count": 520,
   "metadata": {
    "collapsed": false,
    "deletable": true,
    "editable": true
   },
   "outputs": [
    {
     "data": {
      "image/png": "[encoded data removed]",
      "text/latex": [
       "$$\\mathcal{L}{\\left ({w}_{1},x,{w}_{0} \\right )} = - \\frac{1}{x {w}_{0} + x {w}_{1} - 1} = 1 + x \\left({w}_{0} + {w}_{1}\\right) + x^{2} \\left(2 {w}_{0}^{2} + 4 {w}_{0} {w}_{1} + 2 {w}_{1}^{2}\\right) + x^{3} \\left(6 {w}_{0}^{3} + 18 {w}_{0}^{2} {w}_{1} + 18 {w}_{0} {w}_{1}^{2} + 6 {w}_{1}^{3}\\right) + x^{4} \\left(24 {w}_{0}^{4} + 96 {w}_{0}^{3} {w}_{1} + 144 {w}_{0}^{2} {w}_{1}^{2} + 96 {w}_{0} {w}_{1}^{3} + 24 {w}_{1}^{4}\\right) + x^{5} \\left(120 {w}_{0}^{5} + 600 {w}_{0}^{4} {w}_{1} + 1200 {w}_{0}^{3} {w}_{1}^{2} + 1200 {w}_{0}^{2} {w}_{1}^{3} + 600 {w}_{0} {w}_{1}^{4} + 120 {w}_{1}^{5}\\right) + x^{6} \\left(720 {w}_{0}^{6} + 4320 {w}_{0}^{5} {w}_{1} + 10800 {w}_{0}^{4} {w}_{1}^{2} + 14400 {w}_{0}^{3} {w}_{1}^{3} + 10800 {w}_{0}^{2} {w}_{1}^{4} + 4320 {w}_{0} {w}_{1}^{5} + 720 {w}_{1}^{6}\\right) + x^{7} \\left(5040 {w}_{0}^{7} + 35280 {w}_{0}^{6} {w}_{1} + 105840 {w}_{0}^{5} {w}_{1}^{2} + 176400 {w}_{0}^{4} {w}_{1}^{3} + 176400 {w}_{0}^{3} {w}_{1}^{4} + 105840 {w}_{0}^{2} {w}_{1}^{5} + 35280 {w}_{0} {w}_{1}^{6} + 5040 {w}_{1}^{7}\\right) + x^{8} \\left(40320 {w}_{0}^{8} + 322560 {w}_{0}^{7} {w}_{1} + 1128960 {w}_{0}^{6} {w}_{1}^{2} + 2257920 {w}_{0}^{5} {w}_{1}^{3} + 2822400 {w}_{0}^{4} {w}_{1}^{4} + 2257920 {w}_{0}^{3} {w}_{1}^{5} + 1128960 {w}_{0}^{2} {w}_{1}^{6} + 322560 {w}_{0} {w}_{1}^{7} + 40320 {w}_{1}^{8}\\right) + x^{9} \\left(362880 {w}_{0}^{9} + 3265920 {w}_{0}^{8} {w}_{1} + 13063680 {w}_{0}^{7} {w}_{1}^{2} + 30481920 {w}_{0}^{6} {w}_{1}^{3} + 45722880 {w}_{0}^{5} {w}_{1}^{4} + 45722880 {w}_{0}^{4} {w}_{1}^{5} + 30481920 {w}_{0}^{3} {w}_{1}^{6} + 13063680 {w}_{0}^{2} {w}_{1}^{7} + 3265920 {w}_{0} {w}_{1}^{8} + 362880 {w}_{1}^{9}\\right) + O\\left(x^{10}\\right)$$"
      ],
      "text/plain": [
       "                                     -1                                   2 ⎛ \n",
       "\\mathcal{L}(w[1], x, w[0]) = ─────────────────── = 1 + x⋅(w[0] + w[1]) + x ⋅⎝2\n",
       "                             x⋅w[0] + x⋅w[1] - 1                              \n",
       "\n",
       "     2                       2⎞    3 ⎛      3          2                    2 \n",
       "⋅w[0]  + 4⋅w[0]⋅w[1] + 2⋅w[1] ⎠ + x ⋅⎝6⋅w[0]  + 18⋅w[0] ⋅w[1] + 18⋅w[0]⋅w[1]  \n",
       "                                                                              \n",
       "\n",
       "        3⎞    4 ⎛       4          3                2     2               3   \n",
       "+ 6⋅w[1] ⎠ + x ⋅⎝24⋅w[0]  + 96⋅w[0] ⋅w[1] + 144⋅w[0] ⋅w[1]  + 96⋅w[0]⋅w[1]  + \n",
       "                                                                              \n",
       "\n",
       "       4⎞    5 ⎛        5           4                 3     2            2    \n",
       "24⋅w[1] ⎠ + x ⋅⎝120⋅w[0]  + 600⋅w[0] ⋅w[1] + 1200⋅w[0] ⋅w[1]  + 1200⋅w[0] ⋅w[1\n",
       "                                                                              \n",
       "\n",
       " 3                4           5⎞    6 ⎛        6            5                 \n",
       "]  + 600⋅w[0]⋅w[1]  + 120⋅w[1] ⎠ + x ⋅⎝720⋅w[0]  + 4320⋅w[0] ⋅w[1] + 10800⋅w[0\n",
       "                                                                              \n",
       "\n",
       " 4     2             3     3             2     4                 5           6\n",
       "] ⋅w[1]  + 14400⋅w[0] ⋅w[1]  + 10800⋅w[0] ⋅w[1]  + 4320⋅w[0]⋅w[1]  + 720⋅w[1] \n",
       "                                                                              \n",
       "\n",
       "⎞    7 ⎛         7             6                   5     2              4     \n",
       "⎠ + x ⋅⎝5040⋅w[0]  + 35280⋅w[0] ⋅w[1] + 105840⋅w[0] ⋅w[1]  + 176400⋅w[0] ⋅w[1]\n",
       "                                                                              \n",
       "\n",
       "3              3     4              2     5                  6            7⎞  \n",
       "  + 176400⋅w[0] ⋅w[1]  + 105840⋅w[0] ⋅w[1]  + 35280⋅w[0]⋅w[1]  + 5040⋅w[1] ⎠ +\n",
       "                                                                              \n",
       "\n",
       "  8 ⎛          8              7                    6     2               5    \n",
       " x ⋅⎝40320⋅w[0]  + 322560⋅w[0] ⋅w[1] + 1128960⋅w[0] ⋅w[1]  + 2257920⋅w[0] ⋅w[1\n",
       "                                                                              \n",
       "\n",
       " 3               4     4               3     5               2     6          \n",
       "]  + 2822400⋅w[0] ⋅w[1]  + 2257920⋅w[0] ⋅w[1]  + 1128960⋅w[0] ⋅w[1]  + 322560⋅\n",
       "                                                                              \n",
       "\n",
       "         7             8⎞    9 ⎛           9               8                  \n",
       "w[0]⋅w[1]  + 40320⋅w[1] ⎠ + x ⋅⎝362880⋅w[0]  + 3265920⋅w[0] ⋅w[1] + 13063680⋅w\n",
       "                                                                              \n",
       "\n",
       "   7     2                6     3                5     4                4     \n",
       "[0] ⋅w[1]  + 30481920⋅w[0] ⋅w[1]  + 45722880⋅w[0] ⋅w[1]  + 45722880⋅w[0] ⋅w[1]\n",
       "                                                                              \n",
       "\n",
       "5                3     6                2     7                    8          \n",
       "  + 30481920⋅w[0] ⋅w[1]  + 13063680⋅w[0] ⋅w[1]  + 3265920⋅w[0]⋅w[1]  + 362880⋅\n",
       "                                                                              \n",
       "\n",
       "    9⎞    ⎛ 10⎞\n",
       "w[1] ⎠ + O⎝x  ⎠\n",
       "               "
      ]
     },
     "execution_count": 520,
     "metadata": {},
     "output_type": "execute_result"
    }
   ],
   "source": [
    "lst_of_boolean_gf.series(x,n=10,is_exp=True)"
   ]
  },
  {
   "cell_type": "code",
   "execution_count": 515,
   "metadata": {
    "collapsed": false,
    "deletable": true,
    "editable": true
   },
   "outputs": [
    {
     "data": {
      "image/png": "[encoded data removed]",
      "text/latex": [
       "$$1 + 2 x + 8 x^{2} + 48 x^{3} + 384 x^{4} + 3840 x^{5} + 46080 x^{6} + 645120 x^{7} + 10321920 x^{8} + 185794560 x^{9} + O\\left(x^{10}\\right)$$"
      ],
      "text/plain": [
       "             2       3        4         5          6           7             8\n",
       "1 + 2⋅x + 8⋅x  + 48⋅x  + 384⋅x  + 3840⋅x  + 46080⋅x  + 645120⋅x  + 10321920⋅x \n",
       "\n",
       "              9    ⎛ 10⎞\n",
       " + 185794560⋅x  + O⎝x  ⎠"
      ]
     },
     "execution_count": 515,
     "metadata": {},
     "output_type": "execute_result"
    }
   ],
   "source": [
    "_.rhs.rhs.subs({w[0]:1,w[1]:1})"
   ]
  },
  {
   "cell_type": "code",
   "execution_count": 521,
   "metadata": {
    "collapsed": false,
    "deletable": true,
    "editable": true
   },
   "outputs": [
    {
     "data": {
      "image/png": "[encoded data removed]",
      "text/latex": [
       "$$x^{9} \\left({w}_{0}^{9} + 9 {w}_{0}^{8} {w}_{1} + 36 {w}_{0}^{7} {w}_{1}^{2} + 84 {w}_{0}^{6} {w}_{1}^{3} + 126 {w}_{0}^{5} {w}_{1}^{4} + 126 {w}_{0}^{4} {w}_{1}^{5} + 84 {w}_{0}^{3} {w}_{1}^{6} + 36 {w}_{0}^{2} {w}_{1}^{7} + 9 {w}_{0} {w}_{1}^{8} + {w}_{1}^{9}\\right) + x^{8} \\left({w}_{0}^{8} + 8 {w}_{0}^{7} {w}_{1} + 28 {w}_{0}^{6} {w}_{1}^{2} + 56 {w}_{0}^{5} {w}_{1}^{3} + 70 {w}_{0}^{4} {w}_{1}^{4} + 56 {w}_{0}^{3} {w}_{1}^{5} + 28 {w}_{0}^{2} {w}_{1}^{6} + 8 {w}_{0} {w}_{1}^{7} + {w}_{1}^{8}\\right) + x^{7} \\left({w}_{0}^{7} + 7 {w}_{0}^{6} {w}_{1} + 21 {w}_{0}^{5} {w}_{1}^{2} + 35 {w}_{0}^{4} {w}_{1}^{3} + 35 {w}_{0}^{3} {w}_{1}^{4} + 21 {w}_{0}^{2} {w}_{1}^{5} + 7 {w}_{0} {w}_{1}^{6} + {w}_{1}^{7}\\right) + x^{6} \\left({w}_{0}^{6} + 6 {w}_{0}^{5} {w}_{1} + 15 {w}_{0}^{4} {w}_{1}^{2} + 20 {w}_{0}^{3} {w}_{1}^{3} + 15 {w}_{0}^{2} {w}_{1}^{4} + 6 {w}_{0} {w}_{1}^{5} + {w}_{1}^{6}\\right) + x^{5} \\left({w}_{0}^{5} + 5 {w}_{0}^{4} {w}_{1} + 10 {w}_{0}^{3} {w}_{1}^{2} + 10 {w}_{0}^{2} {w}_{1}^{3} + 5 {w}_{0} {w}_{1}^{4} + {w}_{1}^{5}\\right) + x^{4} \\left({w}_{0}^{4} + 4 {w}_{0}^{3} {w}_{1} + 6 {w}_{0}^{2} {w}_{1}^{2} + 4 {w}_{0} {w}_{1}^{3} + {w}_{1}^{4}\\right) + x^{3} \\left({w}_{0}^{3} + 3 {w}_{0}^{2} {w}_{1} + 3 {w}_{0} {w}_{1}^{2} + {w}_{1}^{3}\\right) + x^{2} \\left({w}_{0}^{2} + 2 {w}_{0} {w}_{1} + {w}_{1}^{2}\\right) + x \\left({w}_{0} + {w}_{1}\\right)$$"
      ],
      "text/plain": [
       " 9 ⎛    9         8               7     2          6     3           5     4  \n",
       "x ⋅⎝w[0]  + 9⋅w[0] ⋅w[1] + 36⋅w[0] ⋅w[1]  + 84⋅w[0] ⋅w[1]  + 126⋅w[0] ⋅w[1]  +\n",
       "\n",
       "         4     5          3     6          2     7              8       9⎞    \n",
       " 126⋅w[0] ⋅w[1]  + 84⋅w[0] ⋅w[1]  + 36⋅w[0] ⋅w[1]  + 9⋅w[0]⋅w[1]  + w[1] ⎠ + x\n",
       "\n",
       "8 ⎛    8         7               6     2          5     3          4     4    \n",
       " ⋅⎝w[0]  + 8⋅w[0] ⋅w[1] + 28⋅w[0] ⋅w[1]  + 56⋅w[0] ⋅w[1]  + 70⋅w[0] ⋅w[1]  + 5\n",
       "\n",
       "      3     5          2     6              7       8⎞    7 ⎛    7         6  \n",
       "6⋅w[0] ⋅w[1]  + 28⋅w[0] ⋅w[1]  + 8⋅w[0]⋅w[1]  + w[1] ⎠ + x ⋅⎝w[0]  + 7⋅w[0] ⋅w\n",
       "\n",
       "             5     2          4     3          3     4          2     5       \n",
       "[1] + 21⋅w[0] ⋅w[1]  + 35⋅w[0] ⋅w[1]  + 35⋅w[0] ⋅w[1]  + 21⋅w[0] ⋅w[1]  + 7⋅w[\n",
       "\n",
       "       6       7⎞    6 ⎛    6         5               4     2          3     3\n",
       "0]⋅w[1]  + w[1] ⎠ + x ⋅⎝w[0]  + 6⋅w[0] ⋅w[1] + 15⋅w[0] ⋅w[1]  + 20⋅w[0] ⋅w[1] \n",
       "\n",
       "          2     4              5       6⎞    5 ⎛    5         4               \n",
       " + 15⋅w[0] ⋅w[1]  + 6⋅w[0]⋅w[1]  + w[1] ⎠ + x ⋅⎝w[0]  + 5⋅w[0] ⋅w[1] + 10⋅w[0]\n",
       "\n",
       "3     2          2     3              4       5⎞    4 ⎛    4         3        \n",
       " ⋅w[1]  + 10⋅w[0] ⋅w[1]  + 5⋅w[0]⋅w[1]  + w[1] ⎠ + x ⋅⎝w[0]  + 4⋅w[0] ⋅w[1] + \n",
       "\n",
       "      2     2              3       4⎞    3 ⎛    3         2                   \n",
       "6⋅w[0] ⋅w[1]  + 4⋅w[0]⋅w[1]  + w[1] ⎠ + x ⋅⎝w[0]  + 3⋅w[0] ⋅w[1] + 3⋅w[0]⋅w[1]\n",
       "\n",
       "2       3⎞    2 ⎛    2                     2⎞                  \n",
       "  + w[1] ⎠ + x ⋅⎝w[0]  + 2⋅w[0]⋅w[1] + w[1] ⎠ + x⋅(w[0] + w[1])"
      ]
     },
     "execution_count": 521,
     "metadata": {},
     "output_type": "execute_result"
    }
   ],
   "source": [
    "sum((_.rhs.rhs.coeff(x,i)/factorial(i))*x**i for i in range(1,10))"
   ]
  },
  {
   "cell_type": "code",
   "execution_count": 17,
   "metadata": {
    "collapsed": true,
    "deletable": true,
    "editable": true
   },
   "outputs": [],
   "source": [
    "class powerset(ty):\n",
    "        \n",
    "    def gf_rhs(self, ty):\n",
    "        return [exp(self.mulfactor() * gf.rhs) for gf in ty.gf()]\n",
    "    \n",
    "    def mulfactor(self):\n",
    "        return 1\n",
    "    \n",
    "    def label(self):\n",
    "        return r'\\mathcal{P}'"
   ]
  },
  {
   "cell_type": "code",
   "execution_count": 478,
   "metadata": {
    "collapsed": false,
    "deletable": true,
    "editable": true
   },
   "outputs": [
    {
     "data": {
      "image/png": "[encoded data removed]",
      "text/latex": [
       "$$\\mathcal{P}{\\left (\\alpha \\right )} = e^{- \\frac{\\alpha}{\\alpha - 1}}$$"
      ],
      "text/plain": [
       "                        -\\alpha  \n",
       "                       ──────────\n",
       "                       \\alpha - 1\n",
       "\\mathcal{P}(\\alpha) = ℯ          "
      ]
     },
     "execution_count": 478,
     "metadata": {},
     "output_type": "execute_result"
    }
   ],
   "source": [
    "powerset_of_tyvar_gf, = (2**(nnlst(tyvar(alpha)))).gf()\n",
    "powerset_of_tyvar_gf"
   ]
  },
  {
   "cell_type": "code",
   "execution_count": 479,
   "metadata": {
    "collapsed": false,
    "deletable": true,
    "editable": true
   },
   "outputs": [
    {
     "data": {
      "image/png": "[encoded data removed]",
      "text/latex": [
       "$$\\mathcal{P}{\\left (\\alpha \\right )} = e^{- \\frac{\\alpha}{\\alpha - 1}} = 1 + \\alpha + 3 \\alpha^{2} + 13 \\alpha^{3} + 73 \\alpha^{4} + 501 \\alpha^{5} + 4051 \\alpha^{6} + 37633 \\alpha^{7} + 394353 \\alpha^{8} + 4596553 \\alpha^{9} + O\\left(\\alpha^{10}\\right)$$"
      ],
      "text/plain": [
       "                        -\\alpha                                               \n",
       "                       ──────────                                             \n",
       "                       \\alpha - 1                        2            3       \n",
       "\\mathcal{P}(\\alpha) = ℯ           = 1 + \\alpha + 3⋅\\alpha  + 13⋅\\alpha  + 73⋅\\\n",
       "\n",
       "                                                                              \n",
       "                                                                              \n",
       "     4             5              6               7                8          \n",
       "alpha  + 501⋅\\alpha  + 4051⋅\\alpha  + 37633⋅\\alpha  + 394353⋅\\alpha  + 4596553\n",
       "\n",
       "                      \n",
       "                      \n",
       "       9    ⎛      10⎞\n",
       "⋅\\alpha  + O⎝\\alpha  ⎠"
      ]
     },
     "execution_count": 479,
     "metadata": {},
     "output_type": "execute_result"
    }
   ],
   "source": [
    "powerset_of_tyvar_gf.series(alpha, n=10, is_exp=True)"
   ]
  },
  {
   "cell_type": "code",
   "execution_count": 480,
   "metadata": {
    "collapsed": false,
    "deletable": true,
    "editable": true
   },
   "outputs": [
    {
     "data": {
      "image/png": "[encoded data removed]",
      "text/latex": [
       "$$\\mathcal{P}{\\left ({w}_{1},x,{w}_{0} \\right )} = e^{- \\frac{x \\left({w}_{0} + {w}_{1}\\right)}{x {w}_{0} + x {w}_{1} - 1}}$$"
      ],
      "text/plain": [
       "                               -x⋅(w[0] + w[1])  \n",
       "                              ───────────────────\n",
       "                              x⋅w[0] + x⋅w[1] - 1\n",
       "\\mathcal{P}(w[1], x, w[0]) = ℯ                   "
      ]
     },
     "execution_count": 480,
     "metadata": {},
     "output_type": "execute_result"
    }
   ],
   "source": [
    "powerset_of_tyvar_gf, = (2**(nnlst(boolean))).gf()\n",
    "powerset_of_tyvar_gf"
   ]
  },
  {
   "cell_type": "code",
   "execution_count": 481,
   "metadata": {
    "collapsed": false,
    "deletable": true,
    "editable": true
   },
   "outputs": [
    {
     "data": {
      "image/png": "[encoded data removed]",
      "text/latex": [
       "$$\\mathcal{P}{\\left ({w}_{1},x,{w}_{0} \\right )} = e^{- \\frac{x \\left({w}_{0} + {w}_{1}\\right)}{x {w}_{0} + x {w}_{1} - 1}} = 1 + x \\left({w}_{0} + {w}_{1}\\right) + x^{2} \\left(3 {w}_{0}^{2} + 6 {w}_{0} {w}_{1} + 3 {w}_{1}^{2}\\right) + x^{3} \\left(13 {w}_{0}^{3} + 39 {w}_{0}^{2} {w}_{1} + 39 {w}_{0} {w}_{1}^{2} + 13 {w}_{1}^{3}\\right) + x^{4} \\left(73 {w}_{0}^{4} + 292 {w}_{0}^{3} {w}_{1} + 438 {w}_{0}^{2} {w}_{1}^{2} + 292 {w}_{0} {w}_{1}^{3} + 73 {w}_{1}^{4}\\right) + O\\left(x^{5}\\right)$$"
      ],
      "text/plain": [
       "                               -x⋅(w[0] + w[1])                               \n",
       "                              ───────────────────                             \n",
       "                              x⋅w[0] + x⋅w[1] - 1                          2 ⎛\n",
       "\\mathcal{P}(w[1], x, w[0]) = ℯ                    = 1 + x⋅(w[0] + w[1]) + x ⋅⎝\n",
       "\n",
       "                                                                              \n",
       "                                                                              \n",
       "      2                       2⎞    3 ⎛       3          2                    \n",
       "3⋅w[0]  + 6⋅w[0]⋅w[1] + 3⋅w[1] ⎠ + x ⋅⎝13⋅w[0]  + 39⋅w[0] ⋅w[1] + 39⋅w[0]⋅w[1]\n",
       "\n",
       "                                                                              \n",
       "                                                                              \n",
       "2          3⎞    4 ⎛       4           3                2     2               \n",
       "  + 13⋅w[1] ⎠ + x ⋅⎝73⋅w[0]  + 292⋅w[0] ⋅w[1] + 438⋅w[0] ⋅w[1]  + 292⋅w[0]⋅w[1\n",
       "\n",
       "                      \n",
       "                      \n",
       " 3          4⎞    ⎛ 5⎞\n",
       "]  + 73⋅w[1] ⎠ + O⎝x ⎠"
      ]
     },
     "execution_count": 481,
     "metadata": {},
     "output_type": "execute_result"
    }
   ],
   "source": [
    "powerset_of_tyvar_gf.series(x, n=5, is_exp=True)"
   ]
  },
  {
   "cell_type": "code",
   "execution_count": 421,
   "metadata": {
    "collapsed": false,
    "deletable": true,
    "editable": true
   },
   "outputs": [
    {
     "data": {
      "image/png": "[encoded data removed]",
      "text/latex": [
       "$$1 + 2 x + 12 x^{2} + 104 x^{3} + 1168 x^{4} + O\\left(x^{5}\\right)$$"
      ],
      "text/plain": [
       "              2        3         4    ⎛ 5⎞\n",
       "1 + 2⋅x + 12⋅x  + 104⋅x  + 1168⋅x  + O⎝x ⎠"
      ]
     },
     "execution_count": 421,
     "metadata": {},
     "output_type": "execute_result"
    }
   ],
   "source": [
    "_.rhs.rhs.subs({w[0]:1,w[1]:1})"
   ]
  },
  {
   "cell_type": "code",
   "execution_count": 273,
   "metadata": {
    "collapsed": false,
    "deletable": true,
    "editable": true
   },
   "outputs": [
    {
     "data": {
      "image/png": "[encoded data removed]",
      "text/latex": [
       "$$\\mathcal{P}{\\left (\\alpha \\right )} = e^{\\frac{- \\sqrt{- 4 \\alpha + 1} + 1}{2 \\alpha}}$$"
      ],
      "text/plain": [
       "                           _______________    \n",
       "                       - ╲╱ -4⋅\\alpha + 1  + 1\n",
       "                       ───────────────────────\n",
       "                               2⋅\\alpha       \n",
       "\\mathcal{P}(\\alpha) = ℯ                       "
      ]
     },
     "execution_count": 273,
     "metadata": {},
     "output_type": "execute_result"
    }
   ],
   "source": [
    "powerset_of_tyvar_gf, _ = (2**(bin_tree(tyvar(alpha)))).gf()\n",
    "powerset_of_tyvar_gf"
   ]
  },
  {
   "cell_type": "code",
   "execution_count": 274,
   "metadata": {
    "collapsed": false,
    "deletable": true,
    "editable": true
   },
   "outputs": [
    {
     "data": {
      "image/png": "[encoded data removed]",
      "text/latex": [
       "$$\\mathcal{P}{\\left (\\alpha \\right )} = e^{\\frac{- \\sqrt{- 4 \\alpha + 1} + 1}{2 \\alpha}} = e + e \\alpha + 5 e \\alpha^{2} + 43 e \\alpha^{3} + 529 e \\alpha^{4} + 8501 e \\alpha^{5} + 169021 e \\alpha^{6} + 4010455 e \\alpha^{7} + 110676833 e \\alpha^{8} + 3484717129 e \\alpha^{9} + O\\left(\\alpha^{10}\\right)$$"
      ],
      "text/plain": [
       "                           _______________                                    \n",
       "                       - ╲╱ -4⋅\\alpha + 1  + 1                                \n",
       "                       ───────────────────────                                \n",
       "                               2⋅\\alpha                                   2   \n",
       "\\mathcal{P}(\\alpha) = ℯ                        = ℯ + ℯ⋅\\alpha + 5⋅ℯ⋅\\alpha  + \n",
       "\n",
       "                                                                              \n",
       "                                                                              \n",
       "                                                                              \n",
       "           3               4                5                  6              \n",
       "43⋅ℯ⋅\\alpha  + 529⋅ℯ⋅\\alpha  + 8501⋅ℯ⋅\\alpha  + 169021⋅ℯ⋅\\alpha  + 4010455⋅ℯ⋅\\\n",
       "\n",
       "                                                                 \n",
       "                                                                 \n",
       "                                                                 \n",
       "     7                     8                      9    ⎛      10⎞\n",
       "alpha  + 110676833⋅ℯ⋅\\alpha  + 3484717129⋅ℯ⋅\\alpha  + O⎝\\alpha  ⎠"
      ]
     },
     "execution_count": 274,
     "metadata": {},
     "output_type": "execute_result"
    }
   ],
   "source": [
    "powerset_of_tyvar_gf.series(alpha, n=10, is_exp=True)"
   ]
  },
  {
   "cell_type": "code",
   "execution_count": 288,
   "metadata": {
    "collapsed": false,
    "deletable": true,
    "editable": true
   },
   "outputs": [
    {
     "data": {
      "image/png": "[encoded data removed]",
      "text/latex": [
       "$$\\mathcal{P}{\\left (\\alpha \\right )} = e^{e^{- \\frac{\\alpha}{\\alpha - 1}}} = e + e \\alpha + 4 e \\alpha^{2} + 23 e \\alpha^{3} + 171 e \\alpha^{4} + 1552 e \\alpha^{5} + 16583 e \\alpha^{6} + 203443 e \\alpha^{7} + O\\left(\\alpha^{8}\\right)$$"
      ],
      "text/plain": [
       "                       ⎛  -\\alpha  ⎞                                          \n",
       "                       ⎜ ──────────⎟                                          \n",
       "                       ⎜ \\alpha - 1⎟                                          \n",
       "                       ⎝ℯ          ⎠                            2             \n",
       "\\mathcal{P}(\\alpha) = ℯ              = ℯ + ℯ⋅\\alpha + 4⋅ℯ⋅\\alpha  + 23⋅ℯ⋅\\alph\n",
       "\n",
       "                                                                              \n",
       "                                                                              \n",
       "                                                                              \n",
       " 3               4                5                 6                  7    ⎛ \n",
       "a  + 171⋅ℯ⋅\\alpha  + 1552⋅ℯ⋅\\alpha  + 16583⋅ℯ⋅\\alpha  + 203443⋅ℯ⋅\\alpha  + O⎝\\\n",
       "\n",
       "       \n",
       "       \n",
       "       \n",
       "     8⎞\n",
       "alpha ⎠"
      ]
     },
     "execution_count": 288,
     "metadata": {},
     "output_type": "execute_result"
    }
   ],
   "source": [
    "l, = (2**(2**(nnlst(tyvar(alpha))))).gf()\n",
    "define(l.lhs, l.rhs.ratsimp(), ctor=FEq).series(alpha,n=8,is_exp=True)"
   ]
  },
  {
   "cell_type": "code",
   "execution_count": 494,
   "metadata": {
    "collapsed": true,
    "deletable": true,
    "editable": true
   },
   "outputs": [],
   "source": [
    "class cycle(ty):\n",
    "         \n",
    "    def gf_rhs(self, ty):\n",
    "        return [log(gf.rhs) for gf in ty.gf()]\n",
    "    \n",
    "    def label(self):\n",
    "        return r'\\mathcal{C}'"
   ]
  },
  {
   "cell_type": "code",
   "execution_count": 501,
   "metadata": {
    "collapsed": false,
    "deletable": true,
    "editable": true
   },
   "outputs": [
    {
     "data": {
      "image/png": "[encoded data removed]",
      "text/latex": [
       "$$\\mathcal{C}{\\left (\\alpha \\right )} = \\log{\\left (- \\frac{1}{\\alpha - 1} \\right )}$$"
      ],
      "text/plain": [
       "                         ⎛   -1     ⎞\n",
       "\\mathcal{C}(\\alpha) = log⎜──────────⎟\n",
       "                         ⎝\\alpha - 1⎠"
      ]
     },
     "execution_count": 501,
     "metadata": {},
     "output_type": "execute_result"
    }
   ],
   "source": [
    "cycle_of_tyvar_gf, = (~(lst(tyvar(alpha)))).gf()\n",
    "cycle_of_tyvar_gf"
   ]
  },
  {
   "cell_type": "code",
   "execution_count": 502,
   "metadata": {
    "collapsed": false,
    "deletable": true,
    "editable": true
   },
   "outputs": [
    {
     "data": {
      "image/png": "[encoded data removed]",
      "text/latex": [
       "$$\\mathcal{C}{\\left (\\alpha \\right )} = \\log{\\left (- \\frac{1}{\\alpha - 1} \\right )} = \\alpha + \\alpha^{2} + 2 \\alpha^{3} + 6 \\alpha^{4} + 24 \\alpha^{5} + 120 \\alpha^{6} + 720 \\alpha^{7} + 5040 \\alpha^{8} + 40320 \\alpha^{9} + O\\left(\\alpha^{10}\\right)$$"
      ],
      "text/plain": [
       "                         ⎛   -1     ⎞                  2           3          \n",
       "\\mathcal{C}(\\alpha) = log⎜──────────⎟ = \\alpha + \\alpha  + 2⋅\\alpha  + 6⋅\\alph\n",
       "                         ⎝\\alpha - 1⎠                                         \n",
       "\n",
       " 4            5             6             7              8               9    \n",
       "a  + 24⋅\\alpha  + 120⋅\\alpha  + 720⋅\\alpha  + 5040⋅\\alpha  + 40320⋅\\alpha  + O\n",
       "                                                                              \n",
       "\n",
       "⎛      10⎞\n",
       "⎝\\alpha  ⎠\n",
       "          "
      ]
     },
     "execution_count": 502,
     "metadata": {},
     "output_type": "execute_result"
    }
   ],
   "source": [
    "cycle_of_tyvar_gf.series(alpha, n=10, is_exp=True)"
   ]
  },
  {
   "cell_type": "code",
   "execution_count": 506,
   "metadata": {
    "collapsed": false,
    "deletable": true,
    "editable": true
   },
   "outputs": [
    {
     "data": {
      "image/png": "[encoded data removed]",
      "text/latex": [
       "$$\\mathcal{C}{\\left ({w}_{1},x,{w}_{0} \\right )} = \\log{\\left (- \\frac{1}{x {w}_{0} + x {w}_{1} - 1} \\right )}$$"
      ],
      "text/plain": [
       "                                ⎛        -1         ⎞\n",
       "\\mathcal{C}(w[1], x, w[0]) = log⎜───────────────────⎟\n",
       "                                ⎝x⋅w[0] + x⋅w[1] - 1⎠"
      ]
     },
     "execution_count": 506,
     "metadata": {},
     "output_type": "execute_result"
    }
   ],
   "source": [
    "cycle_of_tyvar_gf, = (~(lst(boolean))).gf()\n",
    "cycle_of_tyvar_gf"
   ]
  },
  {
   "cell_type": "code",
   "execution_count": 507,
   "metadata": {
    "collapsed": false,
    "deletable": true,
    "editable": true
   },
   "outputs": [
    {
     "data": {
      "image/png": "[encoded data removed]",
      "text/latex": [
       "$$\\mathcal{C}{\\left ({w}_{1},x,{w}_{0} \\right )} = \\log{\\left (- \\frac{1}{x {w}_{0} + x {w}_{1} - 1} \\right )} = x \\left({w}_{0} + {w}_{1}\\right) + x^{2} \\left({w}_{0}^{2} + 2 {w}_{0} {w}_{1} + {w}_{1}^{2}\\right) + x^{3} \\left(2 {w}_{0}^{3} + 6 {w}_{0}^{2} {w}_{1} + 6 {w}_{0} {w}_{1}^{2} + 2 {w}_{1}^{3}\\right) + x^{4} \\left(6 {w}_{0}^{4} + 24 {w}_{0}^{3} {w}_{1} + 36 {w}_{0}^{2} {w}_{1}^{2} + 24 {w}_{0} {w}_{1}^{3} + 6 {w}_{1}^{4}\\right) + x^{5} \\left(24 {w}_{0}^{5} + 120 {w}_{0}^{4} {w}_{1} + 240 {w}_{0}^{3} {w}_{1}^{2} + 240 {w}_{0}^{2} {w}_{1}^{3} + 120 {w}_{0} {w}_{1}^{4} + 24 {w}_{1}^{5}\\right) + x^{6} \\left(120 {w}_{0}^{6} + 720 {w}_{0}^{5} {w}_{1} + 1800 {w}_{0}^{4} {w}_{1}^{2} + 2400 {w}_{0}^{3} {w}_{1}^{3} + 1800 {w}_{0}^{2} {w}_{1}^{4} + 720 {w}_{0} {w}_{1}^{5} + 120 {w}_{1}^{6}\\right) + x^{7} \\left(720 {w}_{0}^{7} + 5040 {w}_{0}^{6} {w}_{1} + 15120 {w}_{0}^{5} {w}_{1}^{2} + 25200 {w}_{0}^{4} {w}_{1}^{3} + 25200 {w}_{0}^{3} {w}_{1}^{4} + 15120 {w}_{0}^{2} {w}_{1}^{5} + 5040 {w}_{0} {w}_{1}^{6} + 720 {w}_{1}^{7}\\right) + O\\left(x^{8}\\right)$$"
      ],
      "text/plain": [
       "                                ⎛        -1         ⎞                      2 ⎛\n",
       "\\mathcal{C}(w[1], x, w[0]) = log⎜───────────────────⎟ = x⋅(w[0] + w[1]) + x ⋅⎝\n",
       "                                ⎝x⋅w[0] + x⋅w[1] - 1⎠                         \n",
       "\n",
       "    2                     2⎞    3 ⎛      3         2                   2      \n",
       "w[0]  + 2⋅w[0]⋅w[1] + w[1] ⎠ + x ⋅⎝2⋅w[0]  + 6⋅w[0] ⋅w[1] + 6⋅w[0]⋅w[1]  + 2⋅w\n",
       "                                                                              \n",
       "\n",
       "   3⎞    4 ⎛      4          3               2     2               3         4\n",
       "[1] ⎠ + x ⋅⎝6⋅w[0]  + 24⋅w[0] ⋅w[1] + 36⋅w[0] ⋅w[1]  + 24⋅w[0]⋅w[1]  + 6⋅w[1] \n",
       "                                                                              \n",
       "\n",
       "⎞    5 ⎛       5           4                3     2           2     3         \n",
       "⎠ + x ⋅⎝24⋅w[0]  + 120⋅w[0] ⋅w[1] + 240⋅w[0] ⋅w[1]  + 240⋅w[0] ⋅w[1]  + 120⋅w[\n",
       "                                                                              \n",
       "\n",
       "       4          5⎞    6 ⎛        6           5                 4     2      \n",
       "0]⋅w[1]  + 24⋅w[1] ⎠ + x ⋅⎝120⋅w[0]  + 720⋅w[0] ⋅w[1] + 1800⋅w[0] ⋅w[1]  + 240\n",
       "                                                                              \n",
       "\n",
       "      3     3            2     4                5           6⎞    7 ⎛        7\n",
       "0⋅w[0] ⋅w[1]  + 1800⋅w[0] ⋅w[1]  + 720⋅w[0]⋅w[1]  + 120⋅w[1] ⎠ + x ⋅⎝720⋅w[0] \n",
       "                                                                              \n",
       "\n",
       "            6                  5     2             4     3             3     4\n",
       " + 5040⋅w[0] ⋅w[1] + 15120⋅w[0] ⋅w[1]  + 25200⋅w[0] ⋅w[1]  + 25200⋅w[0] ⋅w[1] \n",
       "                                                                              \n",
       "\n",
       "             2     5                 6           7⎞    ⎛ 8⎞\n",
       " + 15120⋅w[0] ⋅w[1]  + 5040⋅w[0]⋅w[1]  + 720⋅w[1] ⎠ + O⎝x ⎠\n",
       "                                                           "
      ]
     },
     "execution_count": 507,
     "metadata": {},
     "output_type": "execute_result"
    }
   ],
   "source": [
    "cycle_of_tyvar_gf.series(x, n=8, is_exp=True)"
   ]
  },
  {
   "cell_type": "code",
   "execution_count": 508,
   "metadata": {
    "collapsed": false,
    "deletable": true,
    "editable": true
   },
   "outputs": [
    {
     "data": {
      "image/png": "[encoded data removed]",
      "text/latex": [
       "$$2 x + 4 x^{2} + 16 x^{3} + 96 x^{4} + 768 x^{5} + 7680 x^{6} + 92160 x^{7} + O\\left(x^{8}\\right)$$"
      ],
      "text/plain": [
       "         2       3       4        5         6          7    ⎛ 8⎞\n",
       "2⋅x + 4⋅x  + 16⋅x  + 96⋅x  + 768⋅x  + 7680⋅x  + 92160⋅x  + O⎝x ⎠"
      ]
     },
     "execution_count": 508,
     "metadata": {},
     "output_type": "execute_result"
    }
   ],
   "source": [
    "_.rhs.rhs.subs({w[0]:1,w[1]:1})"
   ]
  },
  {
   "cell_type": "code",
   "execution_count": 524,
   "metadata": {
    "collapsed": false,
    "deletable": true,
    "editable": true
   },
   "outputs": [
    {
     "data": {
      "image/png": "[encoded data removed]",
      "text/latex": [
       "$$\\mathcal{P}{\\left (\\alpha \\right )} = - \\frac{1}{\\alpha - 1} = 1 + \\alpha + 2 \\alpha^{2} + 6 \\alpha^{3} + 24 \\alpha^{4} + 120 \\alpha^{5} + 720 \\alpha^{6} + 5040 \\alpha^{7} + 40320 \\alpha^{8} + 362880 \\alpha^{9} + O\\left(\\alpha^{10}\\right)$$"
      ],
      "text/plain": [
       "                         -1                             2           3         \n",
       "\\mathcal{P}(\\alpha) = ────────── = 1 + \\alpha + 2⋅\\alpha  + 6⋅\\alpha  + 24⋅\\al\n",
       "                      \\alpha - 1                                              \n",
       "\n",
       "   4             5             6              7               8               \n",
       "pha  + 120⋅\\alpha  + 720⋅\\alpha  + 5040⋅\\alpha  + 40320⋅\\alpha  + 362880⋅\\alph\n",
       "                                                                              \n",
       "\n",
       " 9    ⎛      10⎞\n",
       "a  + O⎝\\alpha  ⎠\n",
       "                "
      ]
     },
     "execution_count": 524,
     "metadata": {},
     "output_type": "execute_result"
    }
   ],
   "source": [
    "Pstar_gf, = (2**(~(lst(tyvar(alpha))))).gf()\n",
    "Pstar_gf.series(alpha, n=10, is_exp=True)"
   ]
  },
  {
   "cell_type": "code",
   "execution_count": 542,
   "metadata": {
    "collapsed": true,
    "deletable": true,
    "editable": true
   },
   "outputs": [],
   "source": [
    "class ipowerset(powerset):\n",
    "    \n",
    "    def mulfactor(self):\n",
    "        return -1"
   ]
  },
  {
   "cell_type": "code",
   "execution_count": 545,
   "metadata": {
    "collapsed": false,
    "deletable": true,
    "editable": true
   },
   "outputs": [
    {
     "data": {
      "image/png": "[encoded data removed]",
      "text/latex": [
       "$$\\times{\\left (\\alpha \\right )} = - \\frac{e^{- \\alpha}}{\\alpha - 1} = 1 + \\alpha^{2} + 2 \\alpha^{3} + 9 \\alpha^{4} + 44 \\alpha^{5} + 265 \\alpha^{6} + 1854 \\alpha^{7} + 14833 \\alpha^{8} + 133496 \\alpha^{9} + O\\left(\\alpha^{10}\\right)$$"
      ],
      "text/plain": [
       "                   -\\alpha                                                    \n",
       "                 -ℯ                     2           3           4            5\n",
       "\\times(\\alpha) = ────────── = 1 + \\alpha  + 2⋅\\alpha  + 9⋅\\alpha  + 44⋅\\alpha \n",
       "                 \\alpha - 1                                                   \n",
       "\n",
       "                                                                            \n",
       "             6              7               8                9    ⎛      10⎞\n",
       " + 265⋅\\alpha  + 1854⋅\\alpha  + 14833⋅\\alpha  + 133496⋅\\alpha  + O⎝\\alpha  ⎠\n",
       "                                                                            "
      ]
     },
     "execution_count": 545,
     "metadata": {},
     "output_type": "execute_result"
    }
   ],
   "source": [
    "derangements_gf, = ((-2)**tyvar(alpha)).gf()\n",
    "derangements_gf.series(alpha, n=10, is_exp=True)"
   ]
  },
  {
   "cell_type": "code",
   "execution_count": 549,
   "metadata": {
    "collapsed": false,
    "deletable": true,
    "editable": true
   },
   "outputs": [
    {
     "data": {
      "image/png": "[encoded data removed]",
      "text/latex": [
       "$$\\times{\\left (\\alpha \\right )} = \\frac{\\left(\\alpha - 1\\right) e^{\\frac{\\alpha}{\\alpha - 1}}}{2 \\alpha - 1} = 1 + \\alpha^{2} + 8 \\alpha^{3} + 69 \\alpha^{4} + 704 \\alpha^{5} + 8485 \\alpha^{6} + 118824 \\alpha^{7} + 1900297 \\alpha^{8} + 34191296 \\alpha^{9} + O\\left(\\alpha^{10}\\right)$$"
      ],
      "text/plain": [
       "                                 \\alpha                                       \n",
       "                               ──────────                                     \n",
       "                               \\alpha - 1                                     \n",
       "                 (\\alpha - 1)⋅ℯ                       2           3           \n",
       "\\times(\\alpha) = ──────────────────────── = 1 + \\alpha  + 8⋅\\alpha  + 69⋅\\alph\n",
       "                       2⋅\\alpha - 1                                           \n",
       "\n",
       "                                                                              \n",
       "                                                                              \n",
       "                                                                              \n",
       " 4             5              6                7                 8            \n",
       "a  + 704⋅\\alpha  + 8485⋅\\alpha  + 118824⋅\\alpha  + 1900297⋅\\alpha  + 34191296⋅\n",
       "                                                                              \n",
       "\n",
       "                     \n",
       "                     \n",
       "                     \n",
       "      9    ⎛      10⎞\n",
       "\\alpha  + O⎝\\alpha  ⎠\n",
       "                     "
      ]
     },
     "execution_count": 549,
     "metadata": {},
     "output_type": "execute_result"
    }
   ],
   "source": [
    "derangements_gf, = ((-2)**nnlst(tyvar(alpha))).gf()\n",
    "derangements_gf.series(alpha, n=10, is_exp=True)"
   ]
  },
  {
   "cell_type": "code",
   "execution_count": 38,
   "metadata": {
    "collapsed": false,
    "deletable": true,
    "editable": true
   },
   "outputs": [
    {
     "data": {
      "image/png": "[encoded data removed]",
      "text/latex": [
       "$$\\left [ 2\\right ]$$"
      ],
      "text/plain": [
       "[2]"
      ]
     },
     "execution_count": 38,
     "metadata": {},
     "output_type": "execute_result"
    }
   ],
   "source": [
    "[1,2][1:]"
   ]
  },
  {
   "cell_type": "code",
   "execution_count": 45,
   "metadata": {
    "collapsed": true,
    "deletable": true,
    "editable": true
   },
   "outputs": [],
   "source": [
    "def foldr(f, l, i):\n",
    "    if not l:\n",
    "        return i\n",
    "    else:\n",
    "        car, *cdr = l\n",
    "        return f(car, foldr(f, cdr, i))\n",
    "    \n",
    "class arrow(ty):\n",
    "    \n",
    "    def label(self):\n",
    "        return r'\\rightarrow'\n",
    "        \n",
    "    def gf_rhs(self, alpha, beta):\n",
    "        v = Dummy()\n",
    "        return [foldr(lambda gf, acc: Lambda([x], acc(gf.rhs)), \n",
    "                      gfs[:-1], \n",
    "                      Lambda([x], gfs[-1].rhs))(x)\n",
    "                for gfs in self.gfs_space()]\n",
    "        return [foldr(lambda gf, acc: acc**gf.rhs, gfs[:-1], gfs[-1].rhs)\n",
    "                for gfs in self.gfs_space()]"
   ]
  },
  {
   "cell_type": "code",
   "execution_count": 46,
   "metadata": {
    "collapsed": false,
    "deletable": true,
    "editable": true
   },
   "outputs": [
    {
     "data": {
      "image/png": "[encoded data removed]",
      "text/latex": [
       "$$\\rightarrow{\\left (x,{w}_{1},{w}_{0} \\right )} = \\left(x {w}_{0} + x {w}_{1}\\right) {w}_{0} + \\left(x {w}_{0} + x {w}_{1}\\right) {w}_{1}$$"
      ],
      "text/plain": [
       "\\rightarrow(x, w[1], w[0]) = (x⋅w[0] + x⋅w[1])⋅w[0] + (x⋅w[0] + x⋅w[1])⋅w[1]"
      ]
     },
     "execution_count": 46,
     "metadata": {},
     "output_type": "execute_result"
    }
   ],
   "source": [
    "arr, = arrow(boolean, boolean).gf()\n",
    "arr"
   ]
  },
  {
   "cell_type": "code",
   "execution_count": 49,
   "metadata": {
    "collapsed": false,
    "deletable": true,
    "editable": true
   },
   "outputs": [
    {
     "data": {
      "image/png": "[encoded data removed]",
      "text/latex": [
       "$$\\rightarrow{\\left (x,{w}_{1},{w}_{0} \\right )} = \\left(x {w}_{0} + x {w}_{1}\\right) {w}_{0} + \\left(x {w}_{0} + x {w}_{1}\\right) {w}_{1} = x \\left({w}_{0}^{2} + 2 {w}_{0} {w}_{1} + {w}_{1}^{2}\\right)$$"
      ],
      "text/plain": [
       "                                                                              \n",
       "\\rightarrow(x, w[1], w[0]) = (x⋅w[0] + x⋅w[1])⋅w[0] + (x⋅w[0] + x⋅w[1])⋅w[1] =\n",
       "\n",
       "   ⎛    2                     2⎞\n",
       " x⋅⎝w[0]  + 2⋅w[0]⋅w[1] + w[1] ⎠"
      ]
     },
     "execution_count": 49,
     "metadata": {},
     "output_type": "execute_result"
    }
   ],
   "source": [
    "arr.series(x,n=5,is_exp=False)"
   ]
  },
  {
   "cell_type": "code",
   "execution_count": 50,
   "metadata": {
    "collapsed": false,
    "deletable": true,
    "editable": true
   },
   "outputs": [
    {
     "data": {
      "image/png": "[encoded data removed]",
      "text/latex": [
       "$$4 x$$"
      ],
      "text/plain": [
       "4⋅x"
      ]
     },
     "execution_count": 50,
     "metadata": {},
     "output_type": "execute_result"
    }
   ],
   "source": [
    "_.rhs.rhs.removeO().subs({w[0]:1,w[1]:1})"
   ]
  },
  {
   "cell_type": "code",
   "execution_count": 51,
   "metadata": {
    "collapsed": false,
    "deletable": true,
    "editable": true
   },
   "outputs": [
    {
     "data": {
      "image/png": "[encoded data removed]",
      "text/latex": [
       "$$\\rightarrow{\\left (x,{w}_{1},{w}_{0} \\right )} = - \\frac{1}{-1 - \\frac{{w}_{0}}{x {w}_{0} + x {w}_{1} - 1} - \\frac{{w}_{1}}{x {w}_{0} + x {w}_{1} - 1}}$$"
      ],
      "text/plain": [
       "                                                  -1                       \n",
       "\\rightarrow(x, w[1], w[0]) = ──────────────────────────────────────────────\n",
       "                                          w[0]                  w[1]       \n",
       "                             -1 - ─────────────────── - ───────────────────\n",
       "                                  x⋅w[0] + x⋅w[1] - 1   x⋅w[0] + x⋅w[1] - 1"
      ]
     },
     "execution_count": 51,
     "metadata": {},
     "output_type": "execute_result"
    }
   ],
   "source": [
    "arr, = arrow(lst(boolean), lst(boolean)).gf()\n",
    "arr"
   ]
  },
  {
   "cell_type": "code",
   "execution_count": 56,
   "metadata": {
    "collapsed": false,
    "deletable": true,
    "editable": true
   },
   "outputs": [
    {
     "data": {
      "image/png": "[encoded data removed]",
      "text/latex": [
       "$$\\rightarrow{\\left (x,{w}_{1},{w}_{0} \\right )} = - \\frac{1}{-1 - \\frac{{w}_{0}}{x {w}_{0} + x {w}_{1} - 1} - \\frac{{w}_{1}}{x {w}_{0} + x {w}_{1} - 1}} = - \\frac{1}{{w}_{0} + {w}_{1} - 1} + x \\left(\\frac{{w}_{0}^{2}}{{w}_{0}^{2} + 2 {w}_{0} {w}_{1} - 2 {w}_{0} + {w}_{1}^{2} - 2 {w}_{1} + 1} + \\frac{2 {w}_{0} {w}_{1}}{{w}_{0}^{2} + 2 {w}_{0} {w}_{1} - 2 {w}_{0} + {w}_{1}^{2} - 2 {w}_{1} + 1} + \\frac{{w}_{1}^{2}}{{w}_{0}^{2} + 2 {w}_{0} {w}_{1} - 2 {w}_{0} + {w}_{1}^{2} - 2 {w}_{1} + 1}\\right) + x^{2} \\left(- \\frac{{w}_{0}^{4}}{{w}_{0}^{3} + 3 {w}_{0}^{2} {w}_{1} - 3 {w}_{0}^{2} + 3 {w}_{0} {w}_{1}^{2} - 6 {w}_{0} {w}_{1} + 3 {w}_{0} + {w}_{1}^{3} - 3 {w}_{1}^{2} + 3 {w}_{1} - 1} - \\frac{4 {w}_{0}^{3} {w}_{1}}{{w}_{0}^{3} + 3 {w}_{0}^{2} {w}_{1} - 3 {w}_{0}^{2} + 3 {w}_{0} {w}_{1}^{2} - 6 {w}_{0} {w}_{1} + 3 {w}_{0} + {w}_{1}^{3} - 3 {w}_{1}^{2} + 3 {w}_{1} - 1} - \\frac{6 {w}_{0}^{2} {w}_{1}^{2}}{{w}_{0}^{3} + 3 {w}_{0}^{2} {w}_{1} - 3 {w}_{0}^{2} + 3 {w}_{0} {w}_{1}^{2} - 6 {w}_{0} {w}_{1} + 3 {w}_{0} + {w}_{1}^{3} - 3 {w}_{1}^{2} + 3 {w}_{1} - 1} - \\frac{4 {w}_{0} {w}_{1}^{3}}{{w}_{0}^{3} + 3 {w}_{0}^{2} {w}_{1} - 3 {w}_{0}^{2} + 3 {w}_{0} {w}_{1}^{2} - 6 {w}_{0} {w}_{1} + 3 {w}_{0} + {w}_{1}^{3} - 3 {w}_{1}^{2} + 3 {w}_{1} - 1} - \\frac{{w}_{1}^{4}}{{w}_{0}^{3} + 3 {w}_{0}^{2} {w}_{1} - 3 {w}_{0}^{2} + 3 {w}_{0} {w}_{1}^{2} - 6 {w}_{0} {w}_{1} + 3 {w}_{0} + {w}_{1}^{3} - 3 {w}_{1}^{2} + 3 {w}_{1} - 1} + \\frac{{w}_{0}^{3}}{{w}_{0}^{2} + 2 {w}_{0} {w}_{1} - 2 {w}_{0} + {w}_{1}^{2} - 2 {w}_{1} + 1} + \\frac{3 {w}_{0}^{2} {w}_{1}}{{w}_{0}^{2} + 2 {w}_{0} {w}_{1} - 2 {w}_{0} + {w}_{1}^{2} - 2 {w}_{1} + 1} + \\frac{3 {w}_{0} {w}_{1}^{2}}{{w}_{0}^{2} + 2 {w}_{0} {w}_{1} - 2 {w}_{0} + {w}_{1}^{2} - 2 {w}_{1} + 1} + \\frac{{w}_{1}^{3}}{{w}_{0}^{2} + 2 {w}_{0} {w}_{1} - 2 {w}_{0} + {w}_{1}^{2} - 2 {w}_{1} + 1}\\right) + x^{3} \\left(\\frac{{w}_{0}^{6}}{{w}_{0}^{4} + 4 {w}_{0}^{3} {w}_{1} - 4 {w}_{0}^{3} + 6 {w}_{0}^{2} {w}_{1}^{2} - 12 {w}_{0}^{2} {w}_{1} + 6 {w}_{0}^{2} + 4 {w}_{0} {w}_{1}^{3} - 12 {w}_{0} {w}_{1}^{2} + 12 {w}_{0} {w}_{1} - 4 {w}_{0} + {w}_{1}^{4} - 4 {w}_{1}^{3} + 6 {w}_{1}^{2} - 4 {w}_{1} + 1} + \\frac{6 {w}_{0}^{5} {w}_{1}}{{w}_{0}^{4} + 4 {w}_{0}^{3} {w}_{1} - 4 {w}_{0}^{3} + 6 {w}_{0}^{2} {w}_{1}^{2} - 12 {w}_{0}^{2} {w}_{1} + 6 {w}_{0}^{2} + 4 {w}_{0} {w}_{1}^{3} - 12 {w}_{0} {w}_{1}^{2} + 12 {w}_{0} {w}_{1} - 4 {w}_{0} + {w}_{1}^{4} - 4 {w}_{1}^{3} + 6 {w}_{1}^{2} - 4 {w}_{1} + 1} + \\frac{15 {w}_{0}^{4} {w}_{1}^{2}}{{w}_{0}^{4} + 4 {w}_{0}^{3} {w}_{1} - 4 {w}_{0}^{3} + 6 {w}_{0}^{2} {w}_{1}^{2} - 12 {w}_{0}^{2} {w}_{1} + 6 {w}_{0}^{2} + 4 {w}_{0} {w}_{1}^{3} - 12 {w}_{0} {w}_{1}^{2} + 12 {w}_{0} {w}_{1} - 4 {w}_{0} + {w}_{1}^{4} - 4 {w}_{1}^{3} + 6 {w}_{1}^{2} - 4 {w}_{1} + 1} + \\frac{20 {w}_{0}^{3} {w}_{1}^{3}}{{w}_{0}^{4} + 4 {w}_{0}^{3} {w}_{1} - 4 {w}_{0}^{3} + 6 {w}_{0}^{2} {w}_{1}^{2} - 12 {w}_{0}^{2} {w}_{1} + 6 {w}_{0}^{2} + 4 {w}_{0} {w}_{1}^{3} - 12 {w}_{0} {w}_{1}^{2} + 12 {w}_{0} {w}_{1} - 4 {w}_{0} + {w}_{1}^{4} - 4 {w}_{1}^{3} + 6 {w}_{1}^{2} - 4 {w}_{1} + 1} + \\frac{15 {w}_{0}^{2} {w}_{1}^{4}}{{w}_{0}^{4} + 4 {w}_{0}^{3} {w}_{1} - 4 {w}_{0}^{3} + 6 {w}_{0}^{2} {w}_{1}^{2} - 12 {w}_{0}^{2} {w}_{1} + 6 {w}_{0}^{2} + 4 {w}_{0} {w}_{1}^{3} - 12 {w}_{0} {w}_{1}^{2} + 12 {w}_{0} {w}_{1} - 4 {w}_{0} + {w}_{1}^{4} - 4 {w}_{1}^{3} + 6 {w}_{1}^{2} - 4 {w}_{1} + 1} + \\frac{6 {w}_{0} {w}_{1}^{5}}{{w}_{0}^{4} + 4 {w}_{0}^{3} {w}_{1} - 4 {w}_{0}^{3} + 6 {w}_{0}^{2} {w}_{1}^{2} - 12 {w}_{0}^{2} {w}_{1} + 6 {w}_{0}^{2} + 4 {w}_{0} {w}_{1}^{3} - 12 {w}_{0} {w}_{1}^{2} + 12 {w}_{0} {w}_{1} - 4 {w}_{0} + {w}_{1}^{4} - 4 {w}_{1}^{3} + 6 {w}_{1}^{2} - 4 {w}_{1} + 1} + \\frac{{w}_{1}^{6}}{{w}_{0}^{4} + 4 {w}_{0}^{3} {w}_{1} - 4 {w}_{0}^{3} + 6 {w}_{0}^{2} {w}_{1}^{2} - 12 {w}_{0}^{2} {w}_{1} + 6 {w}_{0}^{2} + 4 {w}_{0} {w}_{1}^{3} - 12 {w}_{0} {w}_{1}^{2} + 12 {w}_{0} {w}_{1} - 4 {w}_{0} + {w}_{1}^{4} - 4 {w}_{1}^{3} + 6 {w}_{1}^{2} - 4 {w}_{1} + 1} - \\frac{2 {w}_{0}^{5}}{{w}_{0}^{3} + 3 {w}_{0}^{2} {w}_{1} - 3 {w}_{0}^{2} + 3 {w}_{0} {w}_{1}^{2} - 6 {w}_{0} {w}_{1} + 3 {w}_{0} + {w}_{1}^{3} - 3 {w}_{1}^{2} + 3 {w}_{1} - 1} - \\frac{10 {w}_{0}^{4} {w}_{1}}{{w}_{0}^{3} + 3 {w}_{0}^{2} {w}_{1} - 3 {w}_{0}^{2} + 3 {w}_{0} {w}_{1}^{2} - 6 {w}_{0} {w}_{1} + 3 {w}_{0} + {w}_{1}^{3} - 3 {w}_{1}^{2} + 3 {w}_{1} - 1} - \\frac{20 {w}_{0}^{3} {w}_{1}^{2}}{{w}_{0}^{3} + 3 {w}_{0}^{2} {w}_{1} - 3 {w}_{0}^{2} + 3 {w}_{0} {w}_{1}^{2} - 6 {w}_{0} {w}_{1} + 3 {w}_{0} + {w}_{1}^{3} - 3 {w}_{1}^{2} + 3 {w}_{1} - 1} - \\frac{20 {w}_{0}^{2} {w}_{1}^{3}}{{w}_{0}^{3} + 3 {w}_{0}^{2} {w}_{1} - 3 {w}_{0}^{2} + 3 {w}_{0} {w}_{1}^{2} - 6 {w}_{0} {w}_{1} + 3 {w}_{0} + {w}_{1}^{3} - 3 {w}_{1}^{2} + 3 {w}_{1} - 1} - \\frac{10 {w}_{0} {w}_{1}^{4}}{{w}_{0}^{3} + 3 {w}_{0}^{2} {w}_{1} - 3 {w}_{0}^{2} + 3 {w}_{0} {w}_{1}^{2} - 6 {w}_{0} {w}_{1} + 3 {w}_{0} + {w}_{1}^{3} - 3 {w}_{1}^{2} + 3 {w}_{1} - 1} - \\frac{2 {w}_{1}^{5}}{{w}_{0}^{3} + 3 {w}_{0}^{2} {w}_{1} - 3 {w}_{0}^{2} + 3 {w}_{0} {w}_{1}^{2} - 6 {w}_{0} {w}_{1} + 3 {w}_{0} + {w}_{1}^{3} - 3 {w}_{1}^{2} + 3 {w}_{1} - 1} + \\frac{{w}_{0}^{4}}{{w}_{0}^{2} + 2 {w}_{0} {w}_{1} - 2 {w}_{0} + {w}_{1}^{2} - 2 {w}_{1} + 1} + \\frac{4 {w}_{0}^{3} {w}_{1}}{{w}_{0}^{2} + 2 {w}_{0} {w}_{1} - 2 {w}_{0} + {w}_{1}^{2} - 2 {w}_{1} + 1} + \\frac{6 {w}_{0}^{2} {w}_{1}^{2}}{{w}_{0}^{2} + 2 {w}_{0} {w}_{1} - 2 {w}_{0} + {w}_{1}^{2} - 2 {w}_{1} + 1} + \\frac{4 {w}_{0} {w}_{1}^{3}}{{w}_{0}^{2} + 2 {w}_{0} {w}_{1} - 2 {w}_{0} + {w}_{1}^{2} - 2 {w}_{1} + 1} + \\frac{{w}_{1}^{4}}{{w}_{0}^{2} + 2 {w}_{0} {w}_{1} - 2 {w}_{0} + {w}_{1}^{2} - 2 {w}_{1} + 1}\\right) + x^{4} \\left(- \\frac{{w}_{0}^{8}}{{w}_{0}^{5} + 5 {w}_{0}^{4} {w}_{1} - 5 {w}_{0}^{4} + 10 {w}_{0}^{3} {w}_{1}^{2} - 20 {w}_{0}^{3} {w}_{1} + 10 {w}_{0}^{3} + 10 {w}_{0}^{2} {w}_{1}^{3} - 30 {w}_{0}^{2} {w}_{1}^{2} + 30 {w}_{0}^{2} {w}_{1} - 10 {w}_{0}^{2} + 5 {w}_{0} {w}_{1}^{4} - 20 {w}_{0} {w}_{1}^{3} + 30 {w}_{0} {w}_{1}^{2} - 20 {w}_{0} {w}_{1} + 5 {w}_{0} + {w}_{1}^{5} - 5 {w}_{1}^{4} + 10 {w}_{1}^{3} - 10 {w}_{1}^{2} + 5 {w}_{1} - 1} - \\frac{8 {w}_{0}^{7} {w}_{1}}{{w}_{0}^{5} + 5 {w}_{0}^{4} {w}_{1} - 5 {w}_{0}^{4} + 10 {w}_{0}^{3} {w}_{1}^{2} - 20 {w}_{0}^{3} {w}_{1} + 10 {w}_{0}^{3} + 10 {w}_{0}^{2} {w}_{1}^{3} - 30 {w}_{0}^{2} {w}_{1}^{2} + 30 {w}_{0}^{2} {w}_{1} - 10 {w}_{0}^{2} + 5 {w}_{0} {w}_{1}^{4} - 20 {w}_{0} {w}_{1}^{3} + 30 {w}_{0} {w}_{1}^{2} - 20 {w}_{0} {w}_{1} + 5 {w}_{0} + {w}_{1}^{5} - 5 {w}_{1}^{4} + 10 {w}_{1}^{3} - 10 {w}_{1}^{2} + 5 {w}_{1} - 1} - \\frac{28 {w}_{0}^{6} {w}_{1}^{2}}{{w}_{0}^{5} + 5 {w}_{0}^{4} {w}_{1} - 5 {w}_{0}^{4} + 10 {w}_{0}^{3} {w}_{1}^{2} - 20 {w}_{0}^{3} {w}_{1} + 10 {w}_{0}^{3} + 10 {w}_{0}^{2} {w}_{1}^{3} - 30 {w}_{0}^{2} {w}_{1}^{2} + 30 {w}_{0}^{2} {w}_{1} - 10 {w}_{0}^{2} + 5 {w}_{0} {w}_{1}^{4} - 20 {w}_{0} {w}_{1}^{3} + 30 {w}_{0} {w}_{1}^{2} - 20 {w}_{0} {w}_{1} + 5 {w}_{0} + {w}_{1}^{5} - 5 {w}_{1}^{4} + 10 {w}_{1}^{3} - 10 {w}_{1}^{2} + 5 {w}_{1} - 1} - \\frac{56 {w}_{0}^{5} {w}_{1}^{3}}{{w}_{0}^{5} + 5 {w}_{0}^{4} {w}_{1} - 5 {w}_{0}^{4} + 10 {w}_{0}^{3} {w}_{1}^{2} - 20 {w}_{0}^{3} {w}_{1} + 10 {w}_{0}^{3} + 10 {w}_{0}^{2} {w}_{1}^{3} - 30 {w}_{0}^{2} {w}_{1}^{2} + 30 {w}_{0}^{2} {w}_{1} - 10 {w}_{0}^{2} + 5 {w}_{0} {w}_{1}^{4} - 20 {w}_{0} {w}_{1}^{3} + 30 {w}_{0} {w}_{1}^{2} - 20 {w}_{0} {w}_{1} + 5 {w}_{0} + {w}_{1}^{5} - 5 {w}_{1}^{4} + 10 {w}_{1}^{3} - 10 {w}_{1}^{2} + 5 {w}_{1} - 1} - \\frac{70 {w}_{0}^{4} {w}_{1}^{4}}{{w}_{0}^{5} + 5 {w}_{0}^{4} {w}_{1} - 5 {w}_{0}^{4} + 10 {w}_{0}^{3} {w}_{1}^{2} - 20 {w}_{0}^{3} {w}_{1} + 10 {w}_{0}^{3} + 10 {w}_{0}^{2} {w}_{1}^{3} - 30 {w}_{0}^{2} {w}_{1}^{2} + 30 {w}_{0}^{2} {w}_{1} - 10 {w}_{0}^{2} + 5 {w}_{0} {w}_{1}^{4} - 20 {w}_{0} {w}_{1}^{3} + 30 {w}_{0} {w}_{1}^{2} - 20 {w}_{0} {w}_{1} + 5 {w}_{0} + {w}_{1}^{5} - 5 {w}_{1}^{4} + 10 {w}_{1}^{3} - 10 {w}_{1}^{2} + 5 {w}_{1} - 1} - \\frac{56 {w}_{0}^{3} {w}_{1}^{5}}{{w}_{0}^{5} + 5 {w}_{0}^{4} {w}_{1} - 5 {w}_{0}^{4} + 10 {w}_{0}^{3} {w}_{1}^{2} - 20 {w}_{0}^{3} {w}_{1} + 10 {w}_{0}^{3} + 10 {w}_{0}^{2} {w}_{1}^{3} - 30 {w}_{0}^{2} {w}_{1}^{2} + 30 {w}_{0}^{2} {w}_{1} - 10 {w}_{0}^{2} + 5 {w}_{0} {w}_{1}^{4} - 20 {w}_{0} {w}_{1}^{3} + 30 {w}_{0} {w}_{1}^{2} - 20 {w}_{0} {w}_{1} + 5 {w}_{0} + {w}_{1}^{5} - 5 {w}_{1}^{4} + 10 {w}_{1}^{3} - 10 {w}_{1}^{2} + 5 {w}_{1} - 1} - \\frac{28 {w}_{0}^{2} {w}_{1}^{6}}{{w}_{0}^{5} + 5 {w}_{0}^{4} {w}_{1} - 5 {w}_{0}^{4} + 10 {w}_{0}^{3} {w}_{1}^{2} - 20 {w}_{0}^{3} {w}_{1} + 10 {w}_{0}^{3} + 10 {w}_{0}^{2} {w}_{1}^{3} - 30 {w}_{0}^{2} {w}_{1}^{2} + 30 {w}_{0}^{2} {w}_{1} - 10 {w}_{0}^{2} + 5 {w}_{0} {w}_{1}^{4} - 20 {w}_{0} {w}_{1}^{3} + 30 {w}_{0} {w}_{1}^{2} - 20 {w}_{0} {w}_{1} + 5 {w}_{0} + {w}_{1}^{5} - 5 {w}_{1}^{4} + 10 {w}_{1}^{3} - 10 {w}_{1}^{2} + 5 {w}_{1} - 1} - \\frac{8 {w}_{0} {w}_{1}^{7}}{{w}_{0}^{5} + 5 {w}_{0}^{4} {w}_{1} - 5 {w}_{0}^{4} + 10 {w}_{0}^{3} {w}_{1}^{2} - 20 {w}_{0}^{3} {w}_{1} + 10 {w}_{0}^{3} + 10 {w}_{0}^{2} {w}_{1}^{3} - 30 {w}_{0}^{2} {w}_{1}^{2} + 30 {w}_{0}^{2} {w}_{1} - 10 {w}_{0}^{2} + 5 {w}_{0} {w}_{1}^{4} - 20 {w}_{0} {w}_{1}^{3} + 30 {w}_{0} {w}_{1}^{2} - 20 {w}_{0} {w}_{1} + 5 {w}_{0} + {w}_{1}^{5} - 5 {w}_{1}^{4} + 10 {w}_{1}^{3} - 10 {w}_{1}^{2} + 5 {w}_{1} - 1} - \\frac{{w}_{1}^{8}}{{w}_{0}^{5} + 5 {w}_{0}^{4} {w}_{1} - 5 {w}_{0}^{4} + 10 {w}_{0}^{3} {w}_{1}^{2} - 20 {w}_{0}^{3} {w}_{1} + 10 {w}_{0}^{3} + 10 {w}_{0}^{2} {w}_{1}^{3} - 30 {w}_{0}^{2} {w}_{1}^{2} + 30 {w}_{0}^{2} {w}_{1} - 10 {w}_{0}^{2} + 5 {w}_{0} {w}_{1}^{4} - 20 {w}_{0} {w}_{1}^{3} + 30 {w}_{0} {w}_{1}^{2} - 20 {w}_{0} {w}_{1} + 5 {w}_{0} + {w}_{1}^{5} - 5 {w}_{1}^{4} + 10 {w}_{1}^{3} - 10 {w}_{1}^{2} + 5 {w}_{1} - 1} + \\frac{3 {w}_{0}^{7}}{{w}_{0}^{4} + 4 {w}_{0}^{3} {w}_{1} - 4 {w}_{0}^{3} + 6 {w}_{0}^{2} {w}_{1}^{2} - 12 {w}_{0}^{2} {w}_{1} + 6 {w}_{0}^{2} + 4 {w}_{0} {w}_{1}^{3} - 12 {w}_{0} {w}_{1}^{2} + 12 {w}_{0} {w}_{1} - 4 {w}_{0} + {w}_{1}^{4} - 4 {w}_{1}^{3} + 6 {w}_{1}^{2} - 4 {w}_{1} + 1} + \\frac{21 {w}_{0}^{6} {w}_{1}}{{w}_{0}^{4} + 4 {w}_{0}^{3} {w}_{1} - 4 {w}_{0}^{3} + 6 {w}_{0}^{2} {w}_{1}^{2} - 12 {w}_{0}^{2} {w}_{1} + 6 {w}_{0}^{2} + 4 {w}_{0} {w}_{1}^{3} - 12 {w}_{0} {w}_{1}^{2} + 12 {w}_{0} {w}_{1} - 4 {w}_{0} + {w}_{1}^{4} - 4 {w}_{1}^{3} + 6 {w}_{1}^{2} - 4 {w}_{1} + 1} + \\frac{63 {w}_{0}^{5} {w}_{1}^{2}}{{w}_{0}^{4} + 4 {w}_{0}^{3} {w}_{1} - 4 {w}_{0}^{3} + 6 {w}_{0}^{2} {w}_{1}^{2} - 12 {w}_{0}^{2} {w}_{1} + 6 {w}_{0}^{2} + 4 {w}_{0} {w}_{1}^{3} - 12 {w}_{0} {w}_{1}^{2} + 12 {w}_{0} {w}_{1} - 4 {w}_{0} + {w}_{1}^{4} - 4 {w}_{1}^{3} + 6 {w}_{1}^{2} - 4 {w}_{1} + 1} + \\frac{105 {w}_{0}^{4} {w}_{1}^{3}}{{w}_{0}^{4} + 4 {w}_{0}^{3} {w}_{1} - 4 {w}_{0}^{3} + 6 {w}_{0}^{2} {w}_{1}^{2} - 12 {w}_{0}^{2} {w}_{1} + 6 {w}_{0}^{2} + 4 {w}_{0} {w}_{1}^{3} - 12 {w}_{0} {w}_{1}^{2} + 12 {w}_{0} {w}_{1} - 4 {w}_{0} + {w}_{1}^{4} - 4 {w}_{1}^{3} + 6 {w}_{1}^{2} - 4 {w}_{1} + 1} + \\frac{105 {w}_{0}^{3} {w}_{1}^{4}}{{w}_{0}^{4} + 4 {w}_{0}^{3} {w}_{1} - 4 {w}_{0}^{3} + 6 {w}_{0}^{2} {w}_{1}^{2} - 12 {w}_{0}^{2} {w}_{1} + 6 {w}_{0}^{2} + 4 {w}_{0} {w}_{1}^{3} - 12 {w}_{0} {w}_{1}^{2} + 12 {w}_{0} {w}_{1} - 4 {w}_{0} + {w}_{1}^{4} - 4 {w}_{1}^{3} + 6 {w}_{1}^{2} - 4 {w}_{1} + 1} + \\frac{63 {w}_{0}^{2} {w}_{1}^{5}}{{w}_{0}^{4} + 4 {w}_{0}^{3} {w}_{1} - 4 {w}_{0}^{3} + 6 {w}_{0}^{2} {w}_{1}^{2} - 12 {w}_{0}^{2} {w}_{1} + 6 {w}_{0}^{2} + 4 {w}_{0} {w}_{1}^{3} - 12 {w}_{0} {w}_{1}^{2} + 12 {w}_{0} {w}_{1} - 4 {w}_{0} + {w}_{1}^{4} - 4 {w}_{1}^{3} + 6 {w}_{1}^{2} - 4 {w}_{1} + 1} + \\frac{21 {w}_{0} {w}_{1}^{6}}{{w}_{0}^{4} + 4 {w}_{0}^{3} {w}_{1} - 4 {w}_{0}^{3} + 6 {w}_{0}^{2} {w}_{1}^{2} - 12 {w}_{0}^{2} {w}_{1} + 6 {w}_{0}^{2} + 4 {w}_{0} {w}_{1}^{3} - 12 {w}_{0} {w}_{1}^{2} + 12 {w}_{0} {w}_{1} - 4 {w}_{0} + {w}_{1}^{4} - 4 {w}_{1}^{3} + 6 {w}_{1}^{2} - 4 {w}_{1} + 1} + \\frac{3 {w}_{1}^{7}}{{w}_{0}^{4} + 4 {w}_{0}^{3} {w}_{1} - 4 {w}_{0}^{3} + 6 {w}_{0}^{2} {w}_{1}^{2} - 12 {w}_{0}^{2} {w}_{1} + 6 {w}_{0}^{2} + 4 {w}_{0} {w}_{1}^{3} - 12 {w}_{0} {w}_{1}^{2} + 12 {w}_{0} {w}_{1} - 4 {w}_{0} + {w}_{1}^{4} - 4 {w}_{1}^{3} + 6 {w}_{1}^{2} - 4 {w}_{1} + 1} - \\frac{3 {w}_{0}^{6}}{{w}_{0}^{3} + 3 {w}_{0}^{2} {w}_{1} - 3 {w}_{0}^{2} + 3 {w}_{0} {w}_{1}^{2} - 6 {w}_{0} {w}_{1} + 3 {w}_{0} + {w}_{1}^{3} - 3 {w}_{1}^{2} + 3 {w}_{1} - 1} - \\frac{18 {w}_{0}^{5} {w}_{1}}{{w}_{0}^{3} + 3 {w}_{0}^{2} {w}_{1} - 3 {w}_{0}^{2} + 3 {w}_{0} {w}_{1}^{2} - 6 {w}_{0} {w}_{1} + 3 {w}_{0} + {w}_{1}^{3} - 3 {w}_{1}^{2} + 3 {w}_{1} - 1} - \\frac{45 {w}_{0}^{4} {w}_{1}^{2}}{{w}_{0}^{3} + 3 {w}_{0}^{2} {w}_{1} - 3 {w}_{0}^{2} + 3 {w}_{0} {w}_{1}^{2} - 6 {w}_{0} {w}_{1} + 3 {w}_{0} + {w}_{1}^{3} - 3 {w}_{1}^{2} + 3 {w}_{1} - 1} - \\frac{60 {w}_{0}^{3} {w}_{1}^{3}}{{w}_{0}^{3} + 3 {w}_{0}^{2} {w}_{1} - 3 {w}_{0}^{2} + 3 {w}_{0} {w}_{1}^{2} - 6 {w}_{0} {w}_{1} + 3 {w}_{0} + {w}_{1}^{3} - 3 {w}_{1}^{2} + 3 {w}_{1} - 1} - \\frac{45 {w}_{0}^{2} {w}_{1}^{4}}{{w}_{0}^{3} + 3 {w}_{0}^{2} {w}_{1} - 3 {w}_{0}^{2} + 3 {w}_{0} {w}_{1}^{2} - 6 {w}_{0} {w}_{1} + 3 {w}_{0} + {w}_{1}^{3} - 3 {w}_{1}^{2} + 3 {w}_{1} - 1} - \\frac{18 {w}_{0} {w}_{1}^{5}}{{w}_{0}^{3} + 3 {w}_{0}^{2} {w}_{1} - 3 {w}_{0}^{2} + 3 {w}_{0} {w}_{1}^{2} - 6 {w}_{0} {w}_{1} + 3 {w}_{0} + {w}_{1}^{3} - 3 {w}_{1}^{2} + 3 {w}_{1} - 1} - \\frac{3 {w}_{1}^{6}}{{w}_{0}^{3} + 3 {w}_{0}^{2} {w}_{1} - 3 {w}_{0}^{2} + 3 {w}_{0} {w}_{1}^{2} - 6 {w}_{0} {w}_{1} + 3 {w}_{0} + {w}_{1}^{3} - 3 {w}_{1}^{2} + 3 {w}_{1} - 1} + \\frac{{w}_{0}^{5}}{{w}_{0}^{2} + 2 {w}_{0} {w}_{1} - 2 {w}_{0} + {w}_{1}^{2} - 2 {w}_{1} + 1} + \\frac{5 {w}_{0}^{4} {w}_{1}}{{w}_{0}^{2} + 2 {w}_{0} {w}_{1} - 2 {w}_{0} + {w}_{1}^{2} - 2 {w}_{1} + 1} + \\frac{10 {w}_{0}^{3} {w}_{1}^{2}}{{w}_{0}^{2} + 2 {w}_{0} {w}_{1} - 2 {w}_{0} + {w}_{1}^{2} - 2 {w}_{1} + 1} + \\frac{10 {w}_{0}^{2} {w}_{1}^{3}}{{w}_{0}^{2} + 2 {w}_{0} {w}_{1} - 2 {w}_{0} + {w}_{1}^{2} - 2 {w}_{1} + 1} + \\frac{5 {w}_{0} {w}_{1}^{4}}{{w}_{0}^{2} + 2 {w}_{0} {w}_{1} - 2 {w}_{0} + {w}_{1}^{2} - 2 {w}_{1} + 1} + \\frac{{w}_{1}^{5}}{{w}_{0}^{2} + 2 {w}_{0} {w}_{1} - 2 {w}_{0} + {w}_{1}^{2} - 2 {w}_{1} + 1}\\right) + O\\left(x^{5}\\right)$$"
      ],
      "text/plain": [
       "                                                                              \n",
       "                                                  -1                          \n",
       "\\rightarrow(x, w[1], w[0]) = ────────────────────────────────────────────── = \n",
       "                                          w[0]                  w[1]          \n",
       "                             -1 - ─────────────────── - ───────────────────   \n",
       "                                  x⋅w[0] + x⋅w[1] - 1   x⋅w[0] + x⋅w[1] - 1   \n",
       "\n",
       "                      ⎛                          2                            \n",
       "         1            ⎜                      w[0]                             \n",
       "- ─────────────── + x⋅⎜───────────────────────────────────────────────── + ───\n",
       "  w[0] + w[1] - 1     ⎜    2                              2                   \n",
       "                      ⎝w[0]  + 2⋅w[0]⋅w[1] - 2⋅w[0] + w[1]  - 2⋅w[1] + 1   w[0\n",
       "                                                                              \n",
       "\n",
       "                                                                           2  \n",
       "                2⋅w[0]⋅w[1]                                            w[1]   \n",
       "────────────────────────────────────────────── + ─────────────────────────────\n",
       " 2                              2                    2                        \n",
       "]  + 2⋅w[0]⋅w[1] - 2⋅w[0] + w[1]  - 2⋅w[1] + 1   w[0]  + 2⋅w[0]⋅w[1] - 2⋅w[0] \n",
       "                                                                              \n",
       "\n",
       "                    ⎞      ⎛                                                  \n",
       "                    ⎟    2 ⎜                                                 w\n",
       "────────────────────⎟ + x ⋅⎜- ────────────────────────────────────────────────\n",
       "      2             ⎟      ⎜      3         2              2              2   \n",
       "+ w[1]  - 2⋅w[1] + 1⎠      ⎝  w[0]  + 3⋅w[0] ⋅w[1] - 3⋅w[0]  + 3⋅w[0]⋅w[1]  - \n",
       "                                                                              \n",
       "\n",
       "   4                                                                          \n",
       "[0]                                                                           \n",
       "─────────────────────────────────────────────────── - ────────────────────────\n",
       "                           3         2                    3         2         \n",
       "6⋅w[0]⋅w[1] + 3⋅w[0] + w[1]  - 3⋅w[1]  + 3⋅w[1] - 1   w[0]  + 3⋅w[0] ⋅w[1] - 3\n",
       "                                                                              \n",
       "\n",
       "                          3                                                   \n",
       "                    4⋅w[0] ⋅w[1]                                              \n",
       "─────────────────────────────────────────────────────────────────────────── - \n",
       "     2              2                              3         2                \n",
       "⋅w[0]  + 3⋅w[0]⋅w[1]  - 6⋅w[0]⋅w[1] + 3⋅w[0] + w[1]  - 3⋅w[1]  + 3⋅w[1] - 1   \n",
       "                                                                              \n",
       "\n",
       "                                                 2     2                      \n",
       "                                           6⋅w[0] ⋅w[1]                       \n",
       "──────────────────────────────────────────────────────────────────────────────\n",
       "    3         2              2              2                              3  \n",
       "w[0]  + 3⋅w[0] ⋅w[1] - 3⋅w[0]  + 3⋅w[0]⋅w[1]  - 6⋅w[0]⋅w[1] + 3⋅w[0] + w[1]  -\n",
       "                                                                              \n",
       "\n",
       "                                                                              \n",
       "                                                                    4⋅w[0]⋅w[1\n",
       "───────────────────── - ──────────────────────────────────────────────────────\n",
       "       2                    3         2              2              2         \n",
       " 3⋅w[1]  + 3⋅w[1] - 1   w[0]  + 3⋅w[0] ⋅w[1] - 3⋅w[0]  + 3⋅w[0]⋅w[1]  - 6⋅w[0]\n",
       "                                                                              \n",
       "\n",
       " 3                                                                            \n",
       "]                                                                             \n",
       "───────────────────────────────────────────── - ──────────────────────────────\n",
       "                     3         2                    3         2              2\n",
       "⋅w[1] + 3⋅w[0] + w[1]  - 3⋅w[1]  + 3⋅w[1] - 1   w[0]  + 3⋅w[0] ⋅w[1] - 3⋅w[0] \n",
       "                                                                              \n",
       "\n",
       "                     4                                                        \n",
       "                 w[1]                                                         \n",
       "───────────────────────────────────────────────────────────────────── + ──────\n",
       "              2                              3         2                    2 \n",
       " + 3⋅w[0]⋅w[1]  - 6⋅w[0]⋅w[1] + 3⋅w[0] + w[1]  - 3⋅w[1]  + 3⋅w[1] - 1   w[0]  \n",
       "                                                                              \n",
       "\n",
       "                    3                                                  2      \n",
       "                w[0]                                             3⋅w[0] ⋅w[1] \n",
       "─────────────────────────────────────────── + ────────────────────────────────\n",
       "                             2                    2                           \n",
       "+ 2⋅w[0]⋅w[1] - 2⋅w[0] + w[1]  - 2⋅w[1] + 1   w[0]  + 2⋅w[0]⋅w[1] - 2⋅w[0] + w\n",
       "                                                                              \n",
       "\n",
       "                                                  2                           \n",
       "                                       3⋅w[0]⋅w[1]                            \n",
       "───────────────── + ───────────────────────────────────────────────── + ──────\n",
       "   2                    2                              2                    2 \n",
       "[1]  - 2⋅w[1] + 1   w[0]  + 2⋅w[0]⋅w[1] - 2⋅w[0] + w[1]  - 2⋅w[1] + 1   w[0]  \n",
       "                                                                              \n",
       "\n",
       "                    3                      ⎞      ⎛                           \n",
       "                w[1]                       ⎟    3 ⎜                           \n",
       "───────────────────────────────────────────⎟ + x ⋅⎜───────────────────────────\n",
       "                             2             ⎟      ⎜    4         3            \n",
       "+ 2⋅w[0]⋅w[1] - 2⋅w[0] + w[1]  - 2⋅w[1] + 1⎠      ⎝w[0]  + 4⋅w[0] ⋅w[1] - 4⋅w[\n",
       "                                                                              \n",
       "\n",
       "                                                          6                   \n",
       "                                                      w[0]                    \n",
       "──────────────────────────────────────────────────────────────────────────────\n",
       "  3         2     2          2              2              3               2  \n",
       "0]  + 6⋅w[0] ⋅w[1]  - 12⋅w[0] ⋅w[1] + 6⋅w[0]  + 4⋅w[0]⋅w[1]  - 12⋅w[0]⋅w[1]  +\n",
       "                                                                              \n",
       "\n",
       "                                                                              \n",
       "                                                                              \n",
       "─────────────────────────────────────────────────────────────── + ────────────\n",
       "                             4         3         2                    4       \n",
       " 12⋅w[0]⋅w[1] - 4⋅w[0] + w[1]  - 4⋅w[1]  + 6⋅w[1]  - 4⋅w[1] + 1   w[0]  + 4⋅w[\n",
       "                                                                              \n",
       "\n",
       "                                                                        5     \n",
       "                                                                  6⋅w[0] ⋅w[1]\n",
       "──────────────────────────────────────────────────────────────────────────────\n",
       "  3              3         2     2          2              2              3   \n",
       "0] ⋅w[1] - 4⋅w[0]  + 6⋅w[0] ⋅w[1]  - 12⋅w[0] ⋅w[1] + 6⋅w[0]  + 4⋅w[0]⋅w[1]  - \n",
       "                                                                              \n",
       "\n",
       "                                                                              \n",
       "                                                                              \n",
       "──────────────────────────────────────────────────────────────────────────────\n",
       "            2                               4         3         2             \n",
       "12⋅w[0]⋅w[1]  + 12⋅w[0]⋅w[1] - 4⋅w[0] + w[1]  - 4⋅w[1]  + 6⋅w[1]  - 4⋅w[1] + 1\n",
       "                                                                              \n",
       "\n",
       "                                                                              \n",
       "                                                                              \n",
       " + ───────────────────────────────────────────────────────────────────────────\n",
       "       4         3              3         2     2          2              2   \n",
       "   w[0]  + 4⋅w[0] ⋅w[1] - 4⋅w[0]  + 6⋅w[0] ⋅w[1]  - 12⋅w[0] ⋅w[1] + 6⋅w[0]  + \n",
       "                                                                              \n",
       "\n",
       "         4     2                                                              \n",
       "  15⋅w[0] ⋅w[1]                                                               \n",
       "──────────────────────────────────────────────────────────────────────────────\n",
       "           3               2                               4         3        \n",
       "4⋅w[0]⋅w[1]  - 12⋅w[0]⋅w[1]  + 12⋅w[0]⋅w[1] - 4⋅w[0] + w[1]  - 4⋅w[1]  + 6⋅w[1\n",
       "                                                                              \n",
       "\n",
       "                                                                              \n",
       "                                                                              \n",
       "─────────────── + ────────────────────────────────────────────────────────────\n",
       " 2                    4         3              3         2     2          2   \n",
       "]  - 4⋅w[1] + 1   w[0]  + 4⋅w[0] ⋅w[1] - 4⋅w[0]  + 6⋅w[0] ⋅w[1]  - 12⋅w[0] ⋅w[\n",
       "                                                                              \n",
       "\n",
       "                        3     3                                               \n",
       "                 20⋅w[0] ⋅w[1]                                                \n",
       "──────────────────────────────────────────────────────────────────────────────\n",
       "           2              3               2                               4   \n",
       "1] + 6⋅w[0]  + 4⋅w[0]⋅w[1]  - 12⋅w[0]⋅w[1]  + 12⋅w[0]⋅w[1] - 4⋅w[0] + w[1]  - \n",
       "                                                                              \n",
       "\n",
       "                                                                              \n",
       "                                                                              \n",
       "────────────────────────────── + ─────────────────────────────────────────────\n",
       "      3         2                    4         3              3         2     \n",
       "4⋅w[1]  + 6⋅w[1]  - 4⋅w[1] + 1   w[0]  + 4⋅w[0] ⋅w[1] - 4⋅w[0]  + 6⋅w[0] ⋅w[1]\n",
       "                                                                              \n",
       "\n",
       "                                       2     4                                \n",
       "                                15⋅w[0] ⋅w[1]                                 \n",
       "──────────────────────────────────────────────────────────────────────────────\n",
       "2          2              2              3               2                    \n",
       "  - 12⋅w[0] ⋅w[1] + 6⋅w[0]  + 4⋅w[0]⋅w[1]  - 12⋅w[0]⋅w[1]  + 12⋅w[0]⋅w[1] - 4⋅\n",
       "                                                                              \n",
       "\n",
       "                                                                              \n",
       "                                                                              \n",
       "───────────────────────────────────────────── + ──────────────────────────────\n",
       "           4         3         2                    4         3              3\n",
       "w[0] + w[1]  - 4⋅w[1]  + 6⋅w[1]  - 4⋅w[1] + 1   w[0]  + 4⋅w[0] ⋅w[1] - 4⋅w[0] \n",
       "                                                                              \n",
       "\n",
       "                                                           5                  \n",
       "                                                6⋅w[0]⋅w[1]                   \n",
       "──────────────────────────────────────────────────────────────────────────────\n",
       "         2     2          2              2              3               2     \n",
       " + 6⋅w[0] ⋅w[1]  - 12⋅w[0] ⋅w[1] + 6⋅w[0]  + 4⋅w[0]⋅w[1]  - 12⋅w[0]⋅w[1]  + 12\n",
       "                                                                              \n",
       "\n",
       "                                                                              \n",
       "                                                                              \n",
       "──────────────────────────────────────────────────────────── + ───────────────\n",
       "                          4         3         2                    4         3\n",
       "⋅w[0]⋅w[1] - 4⋅w[0] + w[1]  - 4⋅w[1]  + 6⋅w[1]  - 4⋅w[1] + 1   w[0]  + 4⋅w[0] \n",
       "                                                                              \n",
       "\n",
       "                                                                      6       \n",
       "                                                                  w[1]        \n",
       "──────────────────────────────────────────────────────────────────────────────\n",
       "              3         2     2          2              2              3      \n",
       "⋅w[1] - 4⋅w[0]  + 6⋅w[0] ⋅w[1]  - 12⋅w[0] ⋅w[1] + 6⋅w[0]  + 4⋅w[0]⋅w[1]  - 12⋅\n",
       "                                                                              \n",
       "\n",
       "                                                                              \n",
       "                                                                              \n",
       "─────────────────────────────────────────────────────────────────────────── - \n",
       "         2                               4         3         2                \n",
       "w[0]⋅w[1]  + 12⋅w[0]⋅w[1] - 4⋅w[0] + w[1]  - 4⋅w[1]  + 6⋅w[1]  - 4⋅w[1] + 1   \n",
       "                                                                              \n",
       "\n",
       "                                                    5                         \n",
       "                                              2⋅w[0]                          \n",
       "──────────────────────────────────────────────────────────────────────────────\n",
       "    3         2              2              2                              3  \n",
       "w[0]  + 3⋅w[0] ⋅w[1] - 3⋅w[0]  + 3⋅w[0]⋅w[1]  - 6⋅w[0]⋅w[1] + 3⋅w[0] + w[1]  -\n",
       "                                                                              \n",
       "\n",
       "                                                                          4   \n",
       "                                                                   10⋅w[0] ⋅w[\n",
       "───────────────────── - ──────────────────────────────────────────────────────\n",
       "       2                    3         2              2              2         \n",
       " 3⋅w[1]  + 3⋅w[1] - 1   w[0]  + 3⋅w[0] ⋅w[1] - 3⋅w[0]  + 3⋅w[0]⋅w[1]  - 6⋅w[0]\n",
       "                                                                              \n",
       "\n",
       "                                                                              \n",
       "1]                                                                            \n",
       "───────────────────────────────────────────── - ──────────────────────────────\n",
       "                     3         2                    3         2              2\n",
       "⋅w[1] + 3⋅w[0] + w[1]  - 3⋅w[1]  + 3⋅w[1] - 1   w[0]  + 3⋅w[0] ⋅w[1] - 3⋅w[0] \n",
       "                                                                              \n",
       "\n",
       "                    3     2                                                   \n",
       "             20⋅w[0] ⋅w[1]                                                    \n",
       "───────────────────────────────────────────────────────────────────── - ──────\n",
       "              2                              3         2                    3 \n",
       " + 3⋅w[0]⋅w[1]  - 6⋅w[0]⋅w[1] + 3⋅w[0] + w[1]  - 3⋅w[1]  + 3⋅w[1] - 1   w[0]  \n",
       "                                                                              \n",
       "\n",
       "                                            2     3                           \n",
       "                                     20⋅w[0] ⋅w[1]                            \n",
       "──────────────────────────────────────────────────────────────────────────────\n",
       "        2              2              2                              3        \n",
       "+ 3⋅w[0] ⋅w[1] - 3⋅w[0]  + 3⋅w[0]⋅w[1]  - 6⋅w[0]⋅w[1] + 3⋅w[0] + w[1]  - 3⋅w[1\n",
       "                                                                              \n",
       "\n",
       "                                                                         4    \n",
       "                                                             10⋅w[0]⋅w[1]     \n",
       "─────────────── - ────────────────────────────────────────────────────────────\n",
       " 2                    3         2              2              2               \n",
       "]  + 3⋅w[1] - 1   w[0]  + 3⋅w[0] ⋅w[1] - 3⋅w[0]  + 3⋅w[0]⋅w[1]  - 6⋅w[0]⋅w[1] \n",
       "                                                                              \n",
       "\n",
       "                                                                              \n",
       "                                                                              \n",
       "─────────────────────────────────────── - ────────────────────────────────────\n",
       "               3         2                    3         2              2      \n",
       "+ 3⋅w[0] + w[1]  - 3⋅w[1]  + 3⋅w[1] - 1   w[0]  + 3⋅w[0] ⋅w[1] - 3⋅w[0]  + 3⋅w\n",
       "                                                                              \n",
       "\n",
       "                5                                                             \n",
       "          2⋅w[1]                                                              \n",
       "─────────────────────────────────────────────────────────────── + ────────────\n",
       "        2                              3         2                    2       \n",
       "[0]⋅w[1]  - 6⋅w[0]⋅w[1] + 3⋅w[0] + w[1]  - 3⋅w[1]  + 3⋅w[1] - 1   w[0]  + 2⋅w[\n",
       "                                                                              \n",
       "\n",
       "              4                                                  3            \n",
       "          w[0]                                             4⋅w[0] ⋅w[1]       \n",
       "───────────────────────────────────── + ──────────────────────────────────────\n",
       "                       2                    2                              2  \n",
       "0]⋅w[1] - 2⋅w[0] + w[1]  - 2⋅w[1] + 1   w[0]  + 2⋅w[0]⋅w[1] - 2⋅w[0] + w[1]  -\n",
       "                                                                              \n",
       "\n",
       "                                      2     2                                 \n",
       "                                6⋅w[0] ⋅w[1]                                  \n",
       "─────────── + ───────────────────────────────────────────────── + ────────────\n",
       "                  2                              2                    2       \n",
       " 2⋅w[1] + 1   w[0]  + 2⋅w[0]⋅w[1] - 2⋅w[0] + w[1]  - 2⋅w[1] + 1   w[0]  + 2⋅w[\n",
       "                                                                              \n",
       "\n",
       "                  3                                               4           \n",
       "       4⋅w[0]⋅w[1]                                            w[1]            \n",
       "───────────────────────────────────── + ──────────────────────────────────────\n",
       "                       2                    2                              2  \n",
       "0]⋅w[1] - 2⋅w[0] + w[1]  - 2⋅w[1] + 1   w[0]  + 2⋅w[0]⋅w[1] - 2⋅w[0] + w[1]  -\n",
       "                                                                              \n",
       "\n",
       "           ⎞      ⎛                                                           \n",
       "           ⎟    4 ⎜                                                           \n",
       "───────────⎟ + x ⋅⎜- ─────────────────────────────────────────────────────────\n",
       "           ⎟      ⎜      5         4              4          3     2          \n",
       " 2⋅w[1] + 1⎠      ⎝  w[0]  + 5⋅w[0] ⋅w[1] - 5⋅w[0]  + 10⋅w[0] ⋅w[1]  - 20⋅w[0]\n",
       "                                                                              \n",
       "\n",
       "                                                                          8   \n",
       "                                                                      w[0]    \n",
       "──────────────────────────────────────────────────────────────────────────────\n",
       "3               3          2     3          2     2          2               2\n",
       " ⋅w[1] + 10⋅w[0]  + 10⋅w[0] ⋅w[1]  - 30⋅w[0] ⋅w[1]  + 30⋅w[0] ⋅w[1] - 10⋅w[0] \n",
       "                                                                              \n",
       "\n",
       "                                                                              \n",
       "                                                                              \n",
       "──────────────────────────────────────────────────────────────────────────────\n",
       "              4               3               2                               \n",
       " + 5⋅w[0]⋅w[1]  - 20⋅w[0]⋅w[1]  + 30⋅w[0]⋅w[1]  - 20⋅w[0]⋅w[1] + 5⋅w[0] + w[1]\n",
       "                                                                              \n",
       "\n",
       "                                                                              \n",
       "                                                                              \n",
       "────────────────────────────────────────────── - ─────────────────────────────\n",
       "5         4          3          2                    5         4              \n",
       "  - 5⋅w[1]  + 10⋅w[1]  - 10⋅w[1]  + 5⋅w[1] - 1   w[0]  + 5⋅w[0] ⋅w[1] - 5⋅w[0]\n",
       "                                                                              \n",
       "\n",
       "                                                                              \n",
       "                                                                              \n",
       "──────────────────────────────────────────────────────────────────────────────\n",
       "4          3     2          3               3          2     3          2     \n",
       "  + 10⋅w[0] ⋅w[1]  - 20⋅w[0] ⋅w[1] + 10⋅w[0]  + 10⋅w[0] ⋅w[1]  - 30⋅w[0] ⋅w[1]\n",
       "                                                                              \n",
       "\n",
       "                       7                                                      \n",
       "                 8⋅w[0] ⋅w[1]                                                 \n",
       "──────────────────────────────────────────────────────────────────────────────\n",
       "2          2               2              4               3               2   \n",
       "  + 30⋅w[0] ⋅w[1] - 10⋅w[0]  + 5⋅w[0]⋅w[1]  - 20⋅w[0]⋅w[1]  + 30⋅w[0]⋅w[1]  - \n",
       "                                                                              \n",
       "\n",
       "                                                                              \n",
       "                                                                              \n",
       "────────────────────────────────────────────────────────────────────────── - ─\n",
       "                            5         4          3          2                 \n",
       "20⋅w[0]⋅w[1] + 5⋅w[0] + w[1]  - 5⋅w[1]  + 10⋅w[1]  - 10⋅w[1]  + 5⋅w[1] - 1   w\n",
       "                                                                              \n",
       "\n",
       "                                                                              \n",
       "                                                                              \n",
       "──────────────────────────────────────────────────────────────────────────────\n",
       "   5         4              4          3     2          3               3     \n",
       "[0]  + 5⋅w[0] ⋅w[1] - 5⋅w[0]  + 10⋅w[0] ⋅w[1]  - 20⋅w[0] ⋅w[1] + 10⋅w[0]  + 10\n",
       "                                                                              \n",
       "\n",
       "                                                   6     2                    \n",
       "                                            28⋅w[0] ⋅w[1]                     \n",
       "──────────────────────────────────────────────────────────────────────────────\n",
       "     2     3          2     2          2               2              4       \n",
       "⋅w[0] ⋅w[1]  - 30⋅w[0] ⋅w[1]  + 30⋅w[0] ⋅w[1] - 10⋅w[0]  + 5⋅w[0]⋅w[1]  - 20⋅w\n",
       "                                                                              \n",
       "\n",
       "                                                                              \n",
       "                                                                              \n",
       "──────────────────────────────────────────────────────────────────────────────\n",
       "        3               2                               5         4          3\n",
       "[0]⋅w[1]  + 30⋅w[0]⋅w[1]  - 20⋅w[0]⋅w[1] + 5⋅w[0] + w[1]  - 5⋅w[1]  + 10⋅w[1] \n",
       "                                                                              \n",
       "\n",
       "                                                                              \n",
       "                                                                              \n",
       "──────────────────────── - ───────────────────────────────────────────────────\n",
       "          2                    5         4              4          3     2    \n",
       " - 10⋅w[1]  + 5⋅w[1] - 1   w[0]  + 5⋅w[0] ⋅w[1] - 5⋅w[0]  + 10⋅w[0] ⋅w[1]  - 2\n",
       "                                                                              \n",
       "\n",
       "                                                                              \n",
       "                                                                        56⋅w[0\n",
       "──────────────────────────────────────────────────────────────────────────────\n",
       "      3               3          2     3          2     2          2          \n",
       "0⋅w[0] ⋅w[1] + 10⋅w[0]  + 10⋅w[0] ⋅w[1]  - 30⋅w[0] ⋅w[1]  + 30⋅w[0] ⋅w[1] - 10\n",
       "                                                                              \n",
       "\n",
       " 5     3                                                                      \n",
       "] ⋅w[1]                                                                       \n",
       "──────────────────────────────────────────────────────────────────────────────\n",
       "     2              4               3               2                         \n",
       "⋅w[0]  + 5⋅w[0]⋅w[1]  - 20⋅w[0]⋅w[1]  + 30⋅w[0]⋅w[1]  - 20⋅w[0]⋅w[1] + 5⋅w[0] \n",
       "                                                                              \n",
       "\n",
       "                                                                              \n",
       "                                                                              \n",
       "──────────────────────────────────────────────────── - ───────────────────────\n",
       "      5         4          3          2                    5         4        \n",
       "+ w[1]  - 5⋅w[1]  + 10⋅w[1]  - 10⋅w[1]  + 5⋅w[1] - 1   w[0]  + 5⋅w[0] ⋅w[1] - \n",
       "                                                                              \n",
       "\n",
       "                                                                              \n",
       "                                                                              \n",
       "──────────────────────────────────────────────────────────────────────────────\n",
       "      4          3     2          3               3          2     3          \n",
       "5⋅w[0]  + 10⋅w[0] ⋅w[1]  - 20⋅w[0] ⋅w[1] + 10⋅w[0]  + 10⋅w[0] ⋅w[1]  - 30⋅w[0]\n",
       "                                                                              \n",
       "\n",
       "                             4     4                                          \n",
       "                      70⋅w[0] ⋅w[1]                                           \n",
       "──────────────────────────────────────────────────────────────────────────────\n",
       "2     2          2               2              4               3             \n",
       " ⋅w[1]  + 30⋅w[0] ⋅w[1] - 10⋅w[0]  + 5⋅w[0]⋅w[1]  - 20⋅w[0]⋅w[1]  + 30⋅w[0]⋅w[\n",
       "                                                                              \n",
       "\n",
       "                                                                              \n",
       "                                                                              \n",
       "──────────────────────────────────────────────────────────────────────────────\n",
       "  2                               5         4          3          2           \n",
       "1]  - 20⋅w[0]⋅w[1] + 5⋅w[0] + w[1]  - 5⋅w[1]  + 10⋅w[1]  - 10⋅w[1]  + 5⋅w[1] -\n",
       "                                                                              \n",
       "\n",
       "                                                                              \n",
       "                                                                              \n",
       "── - ─────────────────────────────────────────────────────────────────────────\n",
       "         5         4              4          3     2          3               \n",
       " 1   w[0]  + 5⋅w[0] ⋅w[1] - 5⋅w[0]  + 10⋅w[0] ⋅w[1]  - 20⋅w[0] ⋅w[1] + 10⋅w[0]\n",
       "                                                                              \n",
       "\n",
       "                                                         3     5              \n",
       "                                                  56⋅w[0] ⋅w[1]               \n",
       "──────────────────────────────────────────────────────────────────────────────\n",
       "3          2     3          2     2          2               2              4 \n",
       "  + 10⋅w[0] ⋅w[1]  - 30⋅w[0] ⋅w[1]  + 30⋅w[0] ⋅w[1] - 10⋅w[0]  + 5⋅w[0]⋅w[1]  \n",
       "                                                                              \n",
       "\n",
       "                                                                              \n",
       "                                                                              \n",
       "──────────────────────────────────────────────────────────────────────────────\n",
       "              3               2                               5         4     \n",
       "- 20⋅w[0]⋅w[1]  + 30⋅w[0]⋅w[1]  - 20⋅w[0]⋅w[1] + 5⋅w[0] + w[1]  - 5⋅w[1]  + 10\n",
       "                                                                              \n",
       "\n",
       "                                                                              \n",
       "                                                                              \n",
       "────────────────────────────── - ─────────────────────────────────────────────\n",
       "     3          2                    5         4              4          3    \n",
       "⋅w[1]  - 10⋅w[1]  + 5⋅w[1] - 1   w[0]  + 5⋅w[0] ⋅w[1] - 5⋅w[0]  + 10⋅w[0] ⋅w[1\n",
       "                                                                              \n",
       "\n",
       "                                                                              \n",
       "                                                                              \n",
       "──────────────────────────────────────────────────────────────────────────────\n",
       " 2          3               3          2     3          2     2          2    \n",
       "]  - 20⋅w[0] ⋅w[1] + 10⋅w[0]  + 10⋅w[0] ⋅w[1]  - 30⋅w[0] ⋅w[1]  + 30⋅w[0] ⋅w[1\n",
       "                                                                              \n",
       "\n",
       "       2     6                                                                \n",
       "28⋅w[0] ⋅w[1]                                                                 \n",
       "──────────────────────────────────────────────────────────────────────────────\n",
       "           2              4               3               2                   \n",
       "] - 10⋅w[0]  + 5⋅w[0]⋅w[1]  - 20⋅w[0]⋅w[1]  + 30⋅w[0]⋅w[1]  - 20⋅w[0]⋅w[1] + 5\n",
       "                                                                              \n",
       "\n",
       "                                                                              \n",
       "                                                                              \n",
       "────────────────────────────────────────────────────────── - ─────────────────\n",
       "            5         4          3          2                    5         4  \n",
       "⋅w[0] + w[1]  - 5⋅w[1]  + 10⋅w[1]  - 10⋅w[1]  + 5⋅w[1] - 1   w[0]  + 5⋅w[0] ⋅w\n",
       "                                                                              \n",
       "\n",
       "                                                                              \n",
       "                                                                              \n",
       "──────────────────────────────────────────────────────────────────────────────\n",
       "            4          3     2          3               3          2     3    \n",
       "[1] - 5⋅w[0]  + 10⋅w[0] ⋅w[1]  - 20⋅w[0] ⋅w[1] + 10⋅w[0]  + 10⋅w[0] ⋅w[1]  - 3\n",
       "                                                                              \n",
       "\n",
       "                                        7                                     \n",
       "                             8⋅w[0]⋅w[1]                                      \n",
       "──────────────────────────────────────────────────────────────────────────────\n",
       "      2     2          2               2              4               3       \n",
       "0⋅w[0] ⋅w[1]  + 30⋅w[0] ⋅w[1] - 10⋅w[0]  + 5⋅w[0]⋅w[1]  - 20⋅w[0]⋅w[1]  + 30⋅w\n",
       "                                                                              \n",
       "\n",
       "                                                                              \n",
       "                                                                              \n",
       "──────────────────────────────────────────────────────────────────────────────\n",
       "        2                               5         4          3          2     \n",
       "[0]⋅w[1]  - 20⋅w[0]⋅w[1] + 5⋅w[0] + w[1]  - 5⋅w[1]  + 10⋅w[1]  - 10⋅w[1]  + 5⋅\n",
       "                                                                              \n",
       "\n",
       "                                                                              \n",
       "                                                                              \n",
       "──────── - ───────────────────────────────────────────────────────────────────\n",
       "               5         4              4          3     2          3         \n",
       "w[1] - 1   w[0]  + 5⋅w[0] ⋅w[1] - 5⋅w[0]  + 10⋅w[0] ⋅w[1]  - 20⋅w[0] ⋅w[1] + 1\n",
       "                                                                              \n",
       "\n",
       "                                                                8             \n",
       "                                                            w[1]              \n",
       "──────────────────────────────────────────────────────────────────────────────\n",
       "      3          2     3          2     2          2               2          \n",
       "0⋅w[0]  + 10⋅w[0] ⋅w[1]  - 30⋅w[0] ⋅w[1]  + 30⋅w[0] ⋅w[1] - 10⋅w[0]  + 5⋅w[0]⋅\n",
       "                                                                              \n",
       "\n",
       "                                                                              \n",
       "                                                                              \n",
       "──────────────────────────────────────────────────────────────────────────────\n",
       "    4               3               2                               5         \n",
       "w[1]  - 20⋅w[0]⋅w[1]  + 30⋅w[0]⋅w[1]  - 20⋅w[0]⋅w[1] + 5⋅w[0] + w[1]  - 5⋅w[1]\n",
       "                                                                              \n",
       "\n",
       "                                                                              \n",
       "                                                                              \n",
       "──────────────────────────────────── + ───────────────────────────────────────\n",
       "4          3          2                    4         3              3         \n",
       "  + 10⋅w[1]  - 10⋅w[1]  + 5⋅w[1] - 1   w[0]  + 4⋅w[0] ⋅w[1] - 4⋅w[0]  + 6⋅w[0]\n",
       "                                                                              \n",
       "\n",
       "                                               7                              \n",
       "                                         3⋅w[0]                               \n",
       "──────────────────────────────────────────────────────────────────────────────\n",
       "2     2          2              2              3               2              \n",
       " ⋅w[1]  - 12⋅w[0] ⋅w[1] + 6⋅w[0]  + 4⋅w[0]⋅w[1]  - 12⋅w[0]⋅w[1]  + 12⋅w[0]⋅w[1\n",
       "                                                                              \n",
       "\n",
       "                                                                              \n",
       "                                                                              \n",
       "─────────────────────────────────────────────────── + ────────────────────────\n",
       "                 4         3         2                    4         3         \n",
       "] - 4⋅w[0] + w[1]  - 4⋅w[1]  + 6⋅w[1]  - 4⋅w[1] + 1   w[0]  + 4⋅w[0] ⋅w[1] - 4\n",
       "                                                                              \n",
       "\n",
       "                                                            6                 \n",
       "                                                     21⋅w[0] ⋅w[1]            \n",
       "──────────────────────────────────────────────────────────────────────────────\n",
       "     3         2     2          2              2              3               \n",
       "⋅w[0]  + 6⋅w[0] ⋅w[1]  - 12⋅w[0] ⋅w[1] + 6⋅w[0]  + 4⋅w[0]⋅w[1]  - 12⋅w[0]⋅w[1]\n",
       "                                                                              \n",
       "\n",
       "                                                                              \n",
       "                                                                              \n",
       "────────────────────────────────────────────────────────────────── + ─────────\n",
       "2                               4         3         2                    4    \n",
       "  + 12⋅w[0]⋅w[1] - 4⋅w[0] + w[1]  - 4⋅w[1]  + 6⋅w[1]  - 4⋅w[1] + 1   w[0]  + 4\n",
       "                                                                              \n",
       "\n",
       "                                                                           5  \n",
       "                                                                    63⋅w[0] ⋅w\n",
       "──────────────────────────────────────────────────────────────────────────────\n",
       "     3              3         2     2          2              2              3\n",
       "⋅w[0] ⋅w[1] - 4⋅w[0]  + 6⋅w[0] ⋅w[1]  - 12⋅w[0] ⋅w[1] + 6⋅w[0]  + 4⋅w[0]⋅w[1] \n",
       "                                                                              \n",
       "\n",
       "   2                                                                          \n",
       "[1]                                                                           \n",
       "──────────────────────────────────────────────────────────────────────────────\n",
       "               2                               4         3         2          \n",
       " - 12⋅w[0]⋅w[1]  + 12⋅w[0]⋅w[1] - 4⋅w[0] + w[1]  - 4⋅w[1]  + 6⋅w[1]  - 4⋅w[1] \n",
       "                                                                              \n",
       "\n",
       "                                                                              \n",
       "                                                                              \n",
       "─── + ────────────────────────────────────────────────────────────────────────\n",
       "          4         3              3         2     2          2              2\n",
       "+ 1   w[0]  + 4⋅w[0] ⋅w[1] - 4⋅w[0]  + 6⋅w[0] ⋅w[1]  - 12⋅w[0] ⋅w[1] + 6⋅w[0] \n",
       "                                                                              \n",
       "\n",
       "            4     3                                                           \n",
       "    105⋅w[0] ⋅w[1]                                                            \n",
       "──────────────────────────────────────────────────────────────────────────────\n",
       "              3               2                               4         3     \n",
       " + 4⋅w[0]⋅w[1]  - 12⋅w[0]⋅w[1]  + 12⋅w[0]⋅w[1] - 4⋅w[0] + w[1]  - 4⋅w[1]  + 6⋅\n",
       "                                                                              \n",
       "\n",
       "                                                                              \n",
       "                                                                              \n",
       "────────────────── + ─────────────────────────────────────────────────────────\n",
       "    2                    4         3              3         2     2          2\n",
       "w[1]  - 4⋅w[1] + 1   w[0]  + 4⋅w[0] ⋅w[1] - 4⋅w[0]  + 6⋅w[0] ⋅w[1]  - 12⋅w[0] \n",
       "                                                                              \n",
       "\n",
       "                           3     4                                            \n",
       "                   105⋅w[0] ⋅w[1]                                             \n",
       "──────────────────────────────────────────────────────────────────────────────\n",
       "              2              3               2                               4\n",
       "⋅w[1] + 6⋅w[0]  + 4⋅w[0]⋅w[1]  - 12⋅w[0]⋅w[1]  + 12⋅w[0]⋅w[1] - 4⋅w[0] + w[1] \n",
       "                                                                              \n",
       "\n",
       "                                                                              \n",
       "                                                                              \n",
       "───────────────────────────────── + ──────────────────────────────────────────\n",
       "         3         2                    4         3              3         2  \n",
       " - 4⋅w[1]  + 6⋅w[1]  - 4⋅w[1] + 1   w[0]  + 4⋅w[0] ⋅w[1] - 4⋅w[0]  + 6⋅w[0] ⋅w\n",
       "                                                                              \n",
       "\n",
       "                                          2     5                             \n",
       "                                   63⋅w[0] ⋅w[1]                              \n",
       "──────────────────────────────────────────────────────────────────────────────\n",
       "   2          2              2              3               2                 \n",
       "[1]  - 12⋅w[0] ⋅w[1] + 6⋅w[0]  + 4⋅w[0]⋅w[1]  - 12⋅w[0]⋅w[1]  + 12⋅w[0]⋅w[1] -\n",
       "                                                                              \n",
       "\n",
       "                                                                              \n",
       "                                                                              \n",
       "──────────────────────────────────────────────── + ───────────────────────────\n",
       "              4         3         2                    4         3            \n",
       " 4⋅w[0] + w[1]  - 4⋅w[1]  + 6⋅w[1]  - 4⋅w[1] + 1   w[0]  + 4⋅w[0] ⋅w[1] - 4⋅w[\n",
       "                                                                              \n",
       "\n",
       "                                                              6               \n",
       "                                                  21⋅w[0]⋅w[1]                \n",
       "──────────────────────────────────────────────────────────────────────────────\n",
       "  3         2     2          2              2              3               2  \n",
       "0]  + 6⋅w[0] ⋅w[1]  - 12⋅w[0] ⋅w[1] + 6⋅w[0]  + 4⋅w[0]⋅w[1]  - 12⋅w[0]⋅w[1]  +\n",
       "                                                                              \n",
       "\n",
       "                                                                              \n",
       "                                                                              \n",
       "─────────────────────────────────────────────────────────────── + ────────────\n",
       "                             4         3         2                    4       \n",
       " 12⋅w[0]⋅w[1] - 4⋅w[0] + w[1]  - 4⋅w[1]  + 6⋅w[1]  - 4⋅w[1] + 1   w[0]  + 4⋅w[\n",
       "                                                                              \n",
       "\n",
       "                                                                          7   \n",
       "                                                                    3⋅w[1]    \n",
       "──────────────────────────────────────────────────────────────────────────────\n",
       "  3              3         2     2          2              2              3   \n",
       "0] ⋅w[1] - 4⋅w[0]  + 6⋅w[0] ⋅w[1]  - 12⋅w[0] ⋅w[1] + 6⋅w[0]  + 4⋅w[0]⋅w[1]  - \n",
       "                                                                              \n",
       "\n",
       "                                                                              \n",
       "                                                                              \n",
       "──────────────────────────────────────────────────────────────────────────────\n",
       "            2                               4         3         2             \n",
       "12⋅w[0]⋅w[1]  + 12⋅w[0]⋅w[1] - 4⋅w[0] + w[1]  - 4⋅w[1]  + 6⋅w[1]  - 4⋅w[1] + 1\n",
       "                                                                              \n",
       "\n",
       "                                                       6                      \n",
       "                                                 3⋅w[0]                       \n",
       " - ───────────────────────────────────────────────────────────────────────────\n",
       "       3         2              2              2                              \n",
       "   w[0]  + 3⋅w[0] ⋅w[1] - 3⋅w[0]  + 3⋅w[0]⋅w[1]  - 6⋅w[0]⋅w[1] + 3⋅w[0] + w[1]\n",
       "                                                                              \n",
       "\n",
       "                                                                             5\n",
       "                                                                      18⋅w[0] \n",
       "──────────────────────── - ───────────────────────────────────────────────────\n",
       "3         2                    3         2              2              2      \n",
       "  - 3⋅w[1]  + 3⋅w[1] - 1   w[0]  + 3⋅w[0] ⋅w[1] - 3⋅w[0]  + 3⋅w[0]⋅w[1]  - 6⋅w\n",
       "                                                                              \n",
       "\n",
       "                                                                              \n",
       "⋅w[1]                                                                         \n",
       "──────────────────────────────────────────────── - ───────────────────────────\n",
       "                        3         2                    3         2            \n",
       "[0]⋅w[1] + 3⋅w[0] + w[1]  - 3⋅w[1]  + 3⋅w[1] - 1   w[0]  + 3⋅w[0] ⋅w[1] - 3⋅w[\n",
       "                                                                              \n",
       "\n",
       "                       4     2                                                \n",
       "                45⋅w[0] ⋅w[1]                                                 \n",
       "──────────────────────────────────────────────────────────────────────── - ───\n",
       "  2              2                              3         2                   \n",
       "0]  + 3⋅w[0]⋅w[1]  - 6⋅w[0]⋅w[1] + 3⋅w[0] + w[1]  - 3⋅w[1]  + 3⋅w[1] - 1   w[0\n",
       "                                                                              \n",
       "\n",
       "                                               3     3                        \n",
       "                                        60⋅w[0] ⋅w[1]                         \n",
       "──────────────────────────────────────────────────────────────────────────────\n",
       " 3         2              2              2                              3     \n",
       "]  + 3⋅w[0] ⋅w[1] - 3⋅w[0]  + 3⋅w[0]⋅w[1]  - 6⋅w[0]⋅w[1] + 3⋅w[0] + w[1]  - 3⋅\n",
       "                                                                              \n",
       "\n",
       "                                                                       2     4\n",
       "                                                                45⋅w[0] ⋅w[1] \n",
       "────────────────── - ─────────────────────────────────────────────────────────\n",
       "    2                    3         2              2              2            \n",
       "w[1]  + 3⋅w[1] - 1   w[0]  + 3⋅w[0] ⋅w[1] - 3⋅w[0]  + 3⋅w[0]⋅w[1]  - 6⋅w[0]⋅w[\n",
       "                                                                              \n",
       "\n",
       "                                                                              \n",
       "                                                                              \n",
       "────────────────────────────────────────── - ─────────────────────────────────\n",
       "                  3         2                    3         2              2   \n",
       "1] + 3⋅w[0] + w[1]  - 3⋅w[1]  + 3⋅w[1] - 1   w[0]  + 3⋅w[0] ⋅w[1] - 3⋅w[0]  + \n",
       "                                                                              \n",
       "\n",
       "                      5                                                       \n",
       "          18⋅w[0]⋅w[1]                                                        \n",
       "────────────────────────────────────────────────────────────────── - ─────────\n",
       "           2                              3         2                    3    \n",
       "3⋅w[0]⋅w[1]  - 6⋅w[0]⋅w[1] + 3⋅w[0] + w[1]  - 3⋅w[1]  + 3⋅w[1] - 1   w[0]  + 3\n",
       "                                                                              \n",
       "\n",
       "                                           6                                  \n",
       "                                     3⋅w[1]                                   \n",
       "──────────────────────────────────────────────────────────────────────────────\n",
       "     2              2              2                              3         2 \n",
       "⋅w[0] ⋅w[1] - 3⋅w[0]  + 3⋅w[0]⋅w[1]  - 6⋅w[0]⋅w[1] + 3⋅w[0] + w[1]  - 3⋅w[1]  \n",
       "                                                                              \n",
       "\n",
       "                                         5                                    \n",
       "                                     w[0]                                     \n",
       "──────────── + ───────────────────────────────────────────────── + ───────────\n",
       "                   2                              2                    2      \n",
       "+ 3⋅w[1] - 1   w[0]  + 2⋅w[0]⋅w[1] - 2⋅w[0] + w[1]  - 2⋅w[1] + 1   w[0]  + 2⋅w\n",
       "                                                                              \n",
       "\n",
       "              4                                                   3     2     \n",
       "        5⋅w[0] ⋅w[1]                                       10⋅w[0] ⋅w[1]      \n",
       "────────────────────────────────────── + ─────────────────────────────────────\n",
       "                        2                    2                              2 \n",
       "[0]⋅w[1] - 2⋅w[0] + w[1]  - 2⋅w[1] + 1   w[0]  + 2⋅w[0]⋅w[1] - 2⋅w[0] + w[1]  \n",
       "                                                                              \n",
       "\n",
       "                                        2     3                               \n",
       "                                 10⋅w[0] ⋅w[1]                                \n",
       "──────────── + ───────────────────────────────────────────────── + ───────────\n",
       "                   2                              2                    2      \n",
       "- 2⋅w[1] + 1   w[0]  + 2⋅w[0]⋅w[1] - 2⋅w[0] + w[1]  - 2⋅w[1] + 1   w[0]  + 2⋅w\n",
       "                                                                              \n",
       "\n",
       "                   4                                               5          \n",
       "        5⋅w[0]⋅w[1]                                            w[1]           \n",
       "────────────────────────────────────── + ─────────────────────────────────────\n",
       "                        2                    2                              2 \n",
       "[0]⋅w[1] - 2⋅w[0] + w[1]  - 2⋅w[1] + 1   w[0]  + 2⋅w[0]⋅w[1] - 2⋅w[0] + w[1]  \n",
       "                                                                              \n",
       "\n",
       "            ⎞        \n",
       "            ⎟    ⎛ 5⎞\n",
       "────────────⎟ + O⎝x ⎠\n",
       "            ⎟        \n",
       "- 2⋅w[1] + 1⎠        \n",
       "                     "
      ]
     },
     "execution_count": 56,
     "metadata": {},
     "output_type": "execute_result"
    }
   ],
   "source": [
    "arr.series(x,n=5,is_exp=False)"
   ]
  },
  {
   "cell_type": "code",
   "execution_count": 57,
   "metadata": {
    "collapsed": false,
    "deletable": true,
    "editable": true
   },
   "outputs": [
    {
     "data": {
      "image/png": "[encoded data removed]",
      "text/latex": [
       "$$- 32 x^{4} + 16 x^{3} - 8 x^{2} + 4 x - 1$$"
      ],
      "text/plain": [
       "      4       3      2          \n",
       "- 32⋅x  + 16⋅x  - 8⋅x  + 4⋅x - 1"
      ]
     },
     "execution_count": 57,
     "metadata": {},
     "output_type": "execute_result"
    }
   ],
   "source": [
    "_.rhs.rhs.removeO().subs({w[0]:1,w[1]:1})"
   ]
  },
  {
   "cell_type": "markdown",
   "metadata": {
    "deletable": true,
    "editable": true
   },
   "source": [
    "---"
   ]
  },
  {
   "cell_type": "code",
   "execution_count": 293,
   "metadata": {
    "collapsed": false,
    "deletable": true,
    "editable": true
   },
   "outputs": [
    {
     "data": {
      "image/png": "[encoded data removed]",
      "text/latex": [
       "$$\\left [ x + \\mathcal{L}_{\\Gamma}^{2}{\\left (x \\right )} + e^{x} e^{\\mathcal{L}_{\\Gamma}{\\left (x \\right )}}\\right ]$$"
      ],
      "text/plain": [
       "⎡                        2       x  \\mathcal{L}_{\\Gamma}(x)⎤\n",
       "⎣x + \\mathcal{L}_{\\Gamma} (x) + ℯ ⋅ℯ                       ⎦"
      ]
     },
     "execution_count": 293,
     "metadata": {},
     "output_type": "execute_result"
    }
   ],
   "source": [
    "lamda_gf = lamda(tyvar(x)).gf_rhs(tyvar(x))\n",
    "lamda_gf"
   ]
  },
  {
   "cell_type": "code",
   "execution_count": 112,
   "metadata": {
    "collapsed": false,
    "deletable": true,
    "editable": true
   },
   "outputs": [
    {
     "data": {
      "image/png": "[encoded data removed]",
      "text/latex": [
       "$$x + 2 x^{2} + 6 x^{3} + 22 x^{4} + 90 x^{5} + 394 x^{6} + 1806 x^{7} + 8558 x^{8} + 41586 x^{9} + O\\left(x^{10}\\right)$$"
      ],
      "text/plain": [
       "       2      3       4       5        6         7         8          9    ⎛ 1\n",
       "x + 2⋅x  + 6⋅x  + 22⋅x  + 90⋅x  + 394⋅x  + 1806⋅x  + 8558⋅x  + 41586⋅x  + O⎝x \n",
       "\n",
       "0⎞\n",
       " ⎠"
      ]
     },
     "execution_count": 112,
     "metadata": {},
     "output_type": "execute_result"
    }
   ],
   "source": [
    "lamda_gf.rhs.series(x,n=10)"
   ]
  },
  {
   "cell_type": "markdown",
   "metadata": {
    "deletable": true,
    "editable": true
   },
   "source": [
    "---\n",
    "<a rel=\"license\" href=\"http://creativecommons.org/licenses/by-nc-sa/4.0/\"><img alt=\"Creative Commons License\" style=\"border-width:0\" src=\"https://i.creativecommons.org/l/by-nc-sa/4.0/88x31.png\" /></a><br />This work is licensed under a <a rel=\"license\" href=\"http://creativecommons.org/licenses/by-nc-sa/4.0/\">Creative Commons Attribution-NonCommercial-ShareAlike 4.0 International License</a>."
   ]
  }
 ],
 "metadata": {
  "kernelspec": {
   "display_name": "Python 3",
   "language": "python",
   "name": "python3"
  },
  "language_info": {
   "codemirror_mode": {
    "name": "ipython",
    "version": 3
   },
   "file_extension": ".py",
   "mimetype": "text/x-python",
   "name": "python",
   "nbconvert_exporter": "python",
   "pygments_lexer": "ipython3",
   "version": "3.6.0"
  }
 },
 "nbformat": 4,
 "nbformat_minor": 2
}
