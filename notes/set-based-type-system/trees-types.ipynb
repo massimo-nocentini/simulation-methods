{
 "cells": [
  {
   "cell_type": "markdown",
   "metadata": {},
   "source": [
    "<p>\n",
    "<img src=\"http://www.cerm.unifi.it/chianti/images/logo%20unifi_positivo.jpg\" \n",
    "        alt=\"UniFI logo\" style=\"float: left; width: 20%; height: 20%;\">\n",
    "<div align=\"right\">\n",
    "Massimo Nocentini<br>\n",
    "</div>\n",
    "</p>\n",
    "<br>\n",
    "<div align=\"center\">\n",
    "<b>Abstract</b><br>\n",
    "In this document we collect a naive <i>type system</i> based on sets.\n",
    "</div>"
   ]
  },
  {
   "cell_type": "code",
   "execution_count": 1,
   "metadata": {},
   "outputs": [],
   "source": [
    "from itertools import repeat\n",
    "from sympy import *\n",
    "#from type_system import *"
   ]
  },
  {
   "cell_type": "code",
   "execution_count": 2,
   "metadata": {},
   "outputs": [],
   "source": [
    "%run ../../src/commons.py"
   ]
  },
  {
   "cell_type": "code",
   "execution_count": 3,
   "metadata": {},
   "outputs": [],
   "source": [
    "%run ./type-system.py"
   ]
  },
  {
   "cell_type": "markdown",
   "metadata": {},
   "source": [
    "---"
   ]
  },
  {
   "cell_type": "code",
   "execution_count": 4,
   "metadata": {},
   "outputs": [],
   "source": [
    "init_printing()"
   ]
  },
  {
   "cell_type": "code",
   "execution_count": 5,
   "metadata": {},
   "outputs": [],
   "source": [
    "x,y,m,n,t,z = symbols('x y m n t z', commutative=True)\n",
    "alpha, beta, gamma, eta = symbols(r'\\alpha \\beta \\gamma \\eta', commutative=True)\n",
    "f,g = Function('f'), Function('g')"
   ]
  },
  {
   "cell_type": "markdown",
   "metadata": {},
   "source": [
    "---"
   ]
  },
  {
   "cell_type": "code",
   "execution_count": 7,
   "metadata": {},
   "outputs": [
    {
     "data": {
      "image/png": "[encoded data removed]",
      "text/latex": [
       "$$\\left [ \\mathcal{B}{\\left (\\alpha,z \\right )} = \\frac{- \\sqrt{- 4 \\alpha z + 1} + 1}{2 \\alpha z}, \\quad \\mathcal{B}{\\left (\\alpha,z \\right )} = \\frac{\\sqrt{- 4 \\alpha z + 1} + 1}{2 \\alpha z}\\right ]$$"
      ],
      "text/plain": [
       "⎡                             _________________                               \n",
       "⎢                         - ╲╱ -4⋅\\alpha⋅z + 1  + 1                           \n",
       "⎢\\mathcal{B}(\\alpha, z) = ─────────────────────────, \\mathcal{B}(\\alpha, z) = \n",
       "⎣                                 2⋅\\alpha⋅z                                  \n",
       "\n",
       "  _________________    ⎤\n",
       "╲╱ -4⋅\\alpha⋅z + 1  + 1⎥\n",
       "───────────────────────⎥\n",
       "       2⋅\\alpha⋅z      ⎦"
      ]
     },
     "execution_count": 7,
     "metadata": {},
     "output_type": "execute_result"
    }
   ],
   "source": [
    "bin_tree_gfs = bin_tree(tyvar(alpha)[z]).gf()\n",
    "bin_tree_gfs"
   ]
  },
  {
   "cell_type": "code",
   "execution_count": 8,
   "metadata": {},
   "outputs": [],
   "source": [
    "bin_tree_gf = bin_tree_gfs[0]"
   ]
  },
  {
   "cell_type": "code",
   "execution_count": 10,
   "metadata": {},
   "outputs": [
    {
     "data": {
      "image/png": "[encoded data removed]",
      "text/latex": [
       "$$\\mathcal{B}{\\left (\\alpha,z \\right )} = \\frac{- \\sqrt{- 4 \\alpha z + 1} + 1}{2 \\alpha z} = 1 + \\alpha z + 2 \\alpha^{2} z^{2} + 5 \\alpha^{3} z^{3} + 14 \\alpha^{4} z^{4} + 42 \\alpha^{5} z^{5} + 132 \\alpha^{6} z^{6} + 429 \\alpha^{7} z^{7} + 1430 \\alpha^{8} z^{8} + 4862 \\alpha^{9} z^{9} + O\\left(z^{10}\\right)$$"
      ],
      "text/plain": [
       "                             _________________                                \n",
       "                         - ╲╱ -4⋅\\alpha⋅z + 1  + 1                          2 \n",
       "\\mathcal{B}(\\alpha, z) = ───────────────────────── = 1 + \\alpha⋅z + 2⋅\\alpha ⋅\n",
       "                                 2⋅\\alpha⋅z                                   \n",
       "\n",
       "                                                                              \n",
       " 2           3  3            4  4            5  5             6  6            \n",
       "z  + 5⋅\\alpha ⋅z  + 14⋅\\alpha ⋅z  + 42⋅\\alpha ⋅z  + 132⋅\\alpha ⋅z  + 429⋅\\alph\n",
       "                                                                              \n",
       "\n",
       "                                                  \n",
       " 7  7              8  8              9  9    ⎛ 10⎞\n",
       "a ⋅z  + 1430⋅\\alpha ⋅z  + 4862⋅\\alpha ⋅z  + O⎝z  ⎠\n",
       "                                                  "
      ]
     },
     "execution_count": 10,
     "metadata": {},
     "output_type": "execute_result"
    }
   ],
   "source": [
    "bin_tree_gf.series(z, n=10, kernel='ordinary')"
   ]
  },
  {
   "cell_type": "code",
   "execution_count": 9,
   "metadata": {},
   "outputs": [
    {
     "data": {
      "image/png": "[encoded data removed]",
      "text/latex": [
       "$$\\mathcal{B}{\\left (\\alpha,z \\right )} = \\frac{- \\sqrt{- 4 \\alpha z + 1} + 1}{2 \\alpha z} = 1 + \\alpha z + \\alpha^{2} z^{2} + \\alpha^{3} z^{3} + \\alpha^{4} z^{4} + \\alpha^{5} z^{5} + \\alpha^{6} z^{6} + \\alpha^{7} z^{7} + \\alpha^{8} z^{8} + \\alpha^{9} z^{9} + O\\left(z^{10}\\right)$$"
      ],
      "text/plain": [
       "                             _________________                                \n",
       "                         - ╲╱ -4⋅\\alpha⋅z + 1  + 1                        2  2\n",
       "\\mathcal{B}(\\alpha, z) = ───────────────────────── = 1 + \\alpha⋅z + \\alpha ⋅z \n",
       "                                 2⋅\\alpha⋅z                                   \n",
       "\n",
       "                                                                              \n",
       "         3  3         4  4         5  5         6  6         7  7         8  8\n",
       " + \\alpha ⋅z  + \\alpha ⋅z  + \\alpha ⋅z  + \\alpha ⋅z  + \\alpha ⋅z  + \\alpha ⋅z \n",
       "                                                                              \n",
       "\n",
       "                      \n",
       "         9  9    ⎛ 10⎞\n",
       " + \\alpha ⋅z  + O⎝z  ⎠\n",
       "                      "
      ]
     },
     "execution_count": 9,
     "metadata": {},
     "output_type": "execute_result"
    }
   ],
   "source": [
    "bin_tree_gf.series(z, n=10, kernel='catalan')"
   ]
  },
  {
   "cell_type": "code",
   "execution_count": 11,
   "metadata": {},
   "outputs": [
    {
     "data": {
      "image/png": "[encoded data removed]",
      "text/latex": [
       "$$\\operatorname{gf}{\\left (\\alpha,z \\right )} = \\frac{\\alpha^{-1} \\left(1 - \\sqrt{- 4 z \\alpha + 1}\\right)}{2 z} = 1 + z \\alpha + 2 z^{2} \\alpha^{2} + 5 z^{3} \\alpha^{3} + 14 z^{4} \\alpha^{4} + 42 z^{5} \\alpha^{5} + O\\left(z^{6}\\right)$$"
      ],
      "text/plain": [
       "                      -1 ⎛                     1/2⎞                           \n",
       "                \\alpha  ⋅⎝1 - (-4⋅z⋅\\alpha + 1)   ⎠                     2     \n",
       "gf(\\alpha, z) = ─────────────────────────────────── = 1 + z⋅\\alpha + 2⋅z ⋅\\alp\n",
       "                                2⋅z                                           \n",
       "\n",
       "                                                          \n",
       "  2      3       3       4       4       5       5    ⎛ 6⎞\n",
       "ha  + 5⋅z ⋅\\alpha  + 14⋅z ⋅\\alpha  + 42⋅z ⋅\\alpha  + O⎝z ⎠\n",
       "                                                          "
      ]
     },
     "execution_count": 11,
     "metadata": {},
     "output_type": "execute_result"
    }
   ],
   "source": [
    "occupancy(bin_tree_gf, syms=[alpha], objects='unlike', boxes='unlike').series(z)"
   ]
  },
  {
   "cell_type": "markdown",
   "metadata": {},
   "source": [
    "---"
   ]
  },
  {
   "cell_type": "code",
   "execution_count": 13,
   "metadata": {},
   "outputs": [
    {
     "data": {
      "image/png": "[encoded data removed]",
      "text/latex": [
       "$$\\left [ \\mathcal{B}{\\left (\\alpha,z \\right )} = \\frac{- \\sqrt{- 4 \\alpha z - 4 z ␣ + 1} + 1}{2 z \\left(\\alpha + ␣\\right)}, \\quad \\mathcal{B}{\\left (\\alpha,z \\right )} = \\frac{\\sqrt{- 4 \\alpha z - 4 z ␣ + 1} + 1}{2 z \\left(\\alpha + ␣\\right)}\\right ]$$"
      ],
      "text/plain": [
       "⎡                             _________________________                       \n",
       "⎢                         - ╲╱ -4⋅\\alpha⋅z - 4⋅z⋅␣ + 1  + 1                   \n",
       "⎢\\mathcal{B}(\\alpha, z) = ─────────────────────────────────, \\mathcal{B}(\\alph\n",
       "⎣                                  2⋅z⋅(\\alpha + ␣)                           \n",
       "\n",
       "          _________________________    ⎤\n",
       "        ╲╱ -4⋅\\alpha⋅z - 4⋅z⋅␣ + 1  + 1⎥\n",
       "a, z) = ───────────────────────────────⎥\n",
       "                2⋅z⋅(\\alpha + ␣)       ⎦"
      ]
     },
     "execution_count": 13,
     "metadata": {},
     "output_type": "execute_result"
    }
   ],
   "source": [
    "bin_tree_of_boolean_gfs = bin_tree(maybe(tyvar(alpha))[z]).gf()\n",
    "bin_tree_of_boolean_gfs"
   ]
  },
  {
   "cell_type": "code",
   "execution_count": 21,
   "metadata": {},
   "outputs": [],
   "source": [
    "bin_tree_of_boolean_gf = bin_tree_of_boolean_gfs[0]"
   ]
  },
  {
   "cell_type": "code",
   "execution_count": 23,
   "metadata": {},
   "outputs": [
    {
     "data": {
      "image/png": "[encoded data removed]",
      "text/latex": [
       "$$\\operatorname{gf}{\\left (␣,\\alpha,z \\right )} = \\frac{\\left(\\alpha + ␣\\right)^{-1} \\left(1 - \\sqrt{- 4 z \\alpha - 4 z ␣ + 1}\\right)}{2 z} = \\left(\\alpha + ␣\\right)^{-1} ␣ + \\left(\\alpha + ␣\\right)^{-1} \\alpha + z \\left(\\left(\\alpha + ␣\\right)^{-1} \\alpha ␣ + \\left(\\alpha + ␣\\right)^{-1} \\alpha^{2} + \\left(\\alpha + ␣\\right)^{-1} ␣ \\alpha + \\left(\\alpha + ␣\\right)^{-1} ␣^{2}\\right) + z^{2} \\left(2 \\left(\\alpha + ␣\\right)^{-1} \\alpha ␣ \\alpha + 2 \\left(\\alpha + ␣\\right)^{-1} \\alpha ␣^{2} + 2 \\left(\\alpha + ␣\\right)^{-1} \\alpha^{2} ␣ + 2 \\left(\\alpha + ␣\\right)^{-1} \\alpha^{3} + 2 \\left(\\alpha + ␣\\right)^{-1} ␣ \\alpha ␣ + 2 \\left(\\alpha + ␣\\right)^{-1} ␣ \\alpha^{2} + 2 \\left(\\alpha + ␣\\right)^{-1} ␣^{2} \\alpha + 2 \\left(\\alpha + ␣\\right)^{-1} ␣^{3}\\right) + z^{3} \\left(5 \\left(\\alpha + ␣\\right)^{-1} \\alpha ␣ \\alpha ␣ + 5 \\left(\\alpha + ␣\\right)^{-1} \\alpha ␣ \\alpha^{2} + 5 \\left(\\alpha + ␣\\right)^{-1} \\alpha ␣^{2} \\alpha + 5 \\left(\\alpha + ␣\\right)^{-1} \\alpha ␣^{3} + 5 \\left(\\alpha + ␣\\right)^{-1} \\alpha^{2} ␣ \\alpha + 5 \\left(\\alpha + ␣\\right)^{-1} \\alpha^{2} ␣^{2} + 5 \\left(\\alpha + ␣\\right)^{-1} \\alpha^{3} ␣ + 5 \\left(\\alpha + ␣\\right)^{-1} \\alpha^{4} + 5 \\left(\\alpha + ␣\\right)^{-1} ␣ \\alpha ␣ \\alpha + 5 \\left(\\alpha + ␣\\right)^{-1} ␣ \\alpha ␣^{2} + 5 \\left(\\alpha + ␣\\right)^{-1} ␣ \\alpha^{2} ␣ + 5 \\left(\\alpha + ␣\\right)^{-1} ␣ \\alpha^{3} + 5 \\left(\\alpha + ␣\\right)^{-1} ␣^{2} \\alpha ␣ + 5 \\left(\\alpha + ␣\\right)^{-1} ␣^{2} \\alpha^{2} + 5 \\left(\\alpha + ␣\\right)^{-1} ␣^{3} \\alpha + 5 \\left(\\alpha + ␣\\right)^{-1} ␣^{4}\\right) + z^{4} \\left(14 \\left(\\alpha + ␣\\right)^{-1} \\alpha ␣ \\alpha ␣ \\alpha + 14 \\left(\\alpha + ␣\\right)^{-1} \\alpha ␣ \\alpha ␣^{2} + 14 \\left(\\alpha + ␣\\right)^{-1} \\alpha ␣ \\alpha^{2} ␣ + 14 \\left(\\alpha + ␣\\right)^{-1} \\alpha ␣ \\alpha^{3} + 14 \\left(\\alpha + ␣\\right)^{-1} \\alpha ␣^{2} \\alpha ␣ + 14 \\left(\\alpha + ␣\\right)^{-1} \\alpha ␣^{2} \\alpha^{2} + 14 \\left(\\alpha + ␣\\right)^{-1} \\alpha ␣^{3} \\alpha + 14 \\left(\\alpha + ␣\\right)^{-1} \\alpha ␣^{4} + 14 \\left(\\alpha + ␣\\right)^{-1} \\alpha^{2} ␣ \\alpha ␣ + 14 \\left(\\alpha + ␣\\right)^{-1} \\alpha^{2} ␣ \\alpha^{2} + 14 \\left(\\alpha + ␣\\right)^{-1} \\alpha^{2} ␣^{2} \\alpha + 14 \\left(\\alpha + ␣\\right)^{-1} \\alpha^{2} ␣^{3} + 14 \\left(\\alpha + ␣\\right)^{-1} \\alpha^{3} ␣ \\alpha + 14 \\left(\\alpha + ␣\\right)^{-1} \\alpha^{3} ␣^{2} + 14 \\left(\\alpha + ␣\\right)^{-1} \\alpha^{4} ␣ + 14 \\left(\\alpha + ␣\\right)^{-1} \\alpha^{5} + 14 \\left(\\alpha + ␣\\right)^{-1} ␣ \\alpha ␣ \\alpha ␣ + 14 \\left(\\alpha + ␣\\right)^{-1} ␣ \\alpha ␣ \\alpha^{2} + 14 \\left(\\alpha + ␣\\right)^{-1} ␣ \\alpha ␣^{2} \\alpha + 14 \\left(\\alpha + ␣\\right)^{-1} ␣ \\alpha ␣^{3} + 14 \\left(\\alpha + ␣\\right)^{-1} ␣ \\alpha^{2} ␣ \\alpha + 14 \\left(\\alpha + ␣\\right)^{-1} ␣ \\alpha^{2} ␣^{2} + 14 \\left(\\alpha + ␣\\right)^{-1} ␣ \\alpha^{3} ␣ + 14 \\left(\\alpha + ␣\\right)^{-1} ␣ \\alpha^{4} + 14 \\left(\\alpha + ␣\\right)^{-1} ␣^{2} \\alpha ␣ \\alpha + 14 \\left(\\alpha + ␣\\right)^{-1} ␣^{2} \\alpha ␣^{2} + 14 \\left(\\alpha + ␣\\right)^{-1} ␣^{2} \\alpha^{2} ␣ + 14 \\left(\\alpha + ␣\\right)^{-1} ␣^{2} \\alpha^{3} + 14 \\left(\\alpha + ␣\\right)^{-1} ␣^{3} \\alpha ␣ + 14 \\left(\\alpha + ␣\\right)^{-1} ␣^{3} \\alpha^{2} + 14 \\left(\\alpha + ␣\\right)^{-1} ␣^{4} \\alpha + 14 \\left(\\alpha + ␣\\right)^{-1} ␣^{5}\\right) + z^{5} \\left(42 \\left(\\alpha + ␣\\right)^{-1} \\alpha ␣ \\alpha ␣ \\alpha ␣ + 42 \\left(\\alpha + ␣\\right)^{-1} \\alpha ␣ \\alpha ␣ \\alpha^{2} + 42 \\left(\\alpha + ␣\\right)^{-1} \\alpha ␣ \\alpha ␣^{2} \\alpha + 42 \\left(\\alpha + ␣\\right)^{-1} \\alpha ␣ \\alpha ␣^{3} + 42 \\left(\\alpha + ␣\\right)^{-1} \\alpha ␣ \\alpha^{2} ␣ \\alpha + 42 \\left(\\alpha + ␣\\right)^{-1} \\alpha ␣ \\alpha^{2} ␣^{2} + 42 \\left(\\alpha + ␣\\right)^{-1} \\alpha ␣ \\alpha^{3} ␣ + 42 \\left(\\alpha + ␣\\right)^{-1} \\alpha ␣ \\alpha^{4} + 42 \\left(\\alpha + ␣\\right)^{-1} \\alpha ␣^{2} \\alpha ␣ \\alpha + 42 \\left(\\alpha + ␣\\right)^{-1} \\alpha ␣^{2} \\alpha ␣^{2} + 42 \\left(\\alpha + ␣\\right)^{-1} \\alpha ␣^{2} \\alpha^{2} ␣ + 42 \\left(\\alpha + ␣\\right)^{-1} \\alpha ␣^{2} \\alpha^{3} + 42 \\left(\\alpha + ␣\\right)^{-1} \\alpha ␣^{3} \\alpha ␣ + 42 \\left(\\alpha + ␣\\right)^{-1} \\alpha ␣^{3} \\alpha^{2} + 42 \\left(\\alpha + ␣\\right)^{-1} \\alpha ␣^{4} \\alpha + 42 \\left(\\alpha + ␣\\right)^{-1} \\alpha ␣^{5} + 42 \\left(\\alpha + ␣\\right)^{-1} \\alpha^{2} ␣ \\alpha ␣ \\alpha + 42 \\left(\\alpha + ␣\\right)^{-1} \\alpha^{2} ␣ \\alpha ␣^{2} + 42 \\left(\\alpha + ␣\\right)^{-1} \\alpha^{2} ␣ \\alpha^{2} ␣ + 42 \\left(\\alpha + ␣\\right)^{-1} \\alpha^{2} ␣ \\alpha^{3} + 42 \\left(\\alpha + ␣\\right)^{-1} \\alpha^{2} ␣^{2} \\alpha ␣ + 42 \\left(\\alpha + ␣\\right)^{-1} \\alpha^{2} ␣^{2} \\alpha^{2} + 42 \\left(\\alpha + ␣\\right)^{-1} \\alpha^{2} ␣^{3} \\alpha + 42 \\left(\\alpha + ␣\\right)^{-1} \\alpha^{2} ␣^{4} + 42 \\left(\\alpha + ␣\\right)^{-1} \\alpha^{3} ␣ \\alpha ␣ + 42 \\left(\\alpha + ␣\\right)^{-1} \\alpha^{3} ␣ \\alpha^{2} + 42 \\left(\\alpha + ␣\\right)^{-1} \\alpha^{3} ␣^{2} \\alpha + 42 \\left(\\alpha + ␣\\right)^{-1} \\alpha^{3} ␣^{3} + 42 \\left(\\alpha + ␣\\right)^{-1} \\alpha^{4} ␣ \\alpha + 42 \\left(\\alpha + ␣\\right)^{-1} \\alpha^{4} ␣^{2} + 42 \\left(\\alpha + ␣\\right)^{-1} \\alpha^{5} ␣ + 42 \\left(\\alpha + ␣\\right)^{-1} \\alpha^{6} + 42 \\left(\\alpha + ␣\\right)^{-1} ␣ \\alpha ␣ \\alpha ␣ \\alpha + 42 \\left(\\alpha + ␣\\right)^{-1} ␣ \\alpha ␣ \\alpha ␣^{2} + 42 \\left(\\alpha + ␣\\right)^{-1} ␣ \\alpha ␣ \\alpha^{2} ␣ + 42 \\left(\\alpha + ␣\\right)^{-1} ␣ \\alpha ␣ \\alpha^{3} + 42 \\left(\\alpha + ␣\\right)^{-1} ␣ \\alpha ␣^{2} \\alpha ␣ + 42 \\left(\\alpha + ␣\\right)^{-1} ␣ \\alpha ␣^{2} \\alpha^{2} + 42 \\left(\\alpha + ␣\\right)^{-1} ␣ \\alpha ␣^{3} \\alpha + 42 \\left(\\alpha + ␣\\right)^{-1} ␣ \\alpha ␣^{4} + 42 \\left(\\alpha + ␣\\right)^{-1} ␣ \\alpha^{2} ␣ \\alpha ␣ + 42 \\left(\\alpha + ␣\\right)^{-1} ␣ \\alpha^{2} ␣ \\alpha^{2} + 42 \\left(\\alpha + ␣\\right)^{-1} ␣ \\alpha^{2} ␣^{2} \\alpha + 42 \\left(\\alpha + ␣\\right)^{-1} ␣ \\alpha^{2} ␣^{3} + 42 \\left(\\alpha + ␣\\right)^{-1} ␣ \\alpha^{3} ␣ \\alpha + 42 \\left(\\alpha + ␣\\right)^{-1} ␣ \\alpha^{3} ␣^{2} + 42 \\left(\\alpha + ␣\\right)^{-1} ␣ \\alpha^{4} ␣ + 42 \\left(\\alpha + ␣\\right)^{-1} ␣ \\alpha^{5} + 42 \\left(\\alpha + ␣\\right)^{-1} ␣^{2} \\alpha ␣ \\alpha ␣ + 42 \\left(\\alpha + ␣\\right)^{-1} ␣^{2} \\alpha ␣ \\alpha^{2} + 42 \\left(\\alpha + ␣\\right)^{-1} ␣^{2} \\alpha ␣^{2} \\alpha + 42 \\left(\\alpha + ␣\\right)^{-1} ␣^{2} \\alpha ␣^{3} + 42 \\left(\\alpha + ␣\\right)^{-1} ␣^{2} \\alpha^{2} ␣ \\alpha + 42 \\left(\\alpha + ␣\\right)^{-1} ␣^{2} \\alpha^{2} ␣^{2} + 42 \\left(\\alpha + ␣\\right)^{-1} ␣^{2} \\alpha^{3} ␣ + 42 \\left(\\alpha + ␣\\right)^{-1} ␣^{2} \\alpha^{4} + 42 \\left(\\alpha + ␣\\right)^{-1} ␣^{3} \\alpha ␣ \\alpha + 42 \\left(\\alpha + ␣\\right)^{-1} ␣^{3} \\alpha ␣^{2} + 42 \\left(\\alpha + ␣\\right)^{-1} ␣^{3} \\alpha^{2} ␣ + 42 \\left(\\alpha + ␣\\right)^{-1} ␣^{3} \\alpha^{3} + 42 \\left(\\alpha + ␣\\right)^{-1} ␣^{4} \\alpha ␣ + 42 \\left(\\alpha + ␣\\right)^{-1} ␣^{4} \\alpha^{2} + 42 \\left(\\alpha + ␣\\right)^{-1} ␣^{5} \\alpha + 42 \\left(\\alpha + ␣\\right)^{-1} ␣^{6}\\right) + O\\left(z^{6}\\right)$$"
      ],
      "text/plain": [
       "                               -1 ⎛                             1/2⎞          \n",
       "                   (\\alpha + ␣)  ⋅⎝1 - (-4⋅z⋅\\alpha - 4⋅z⋅␣ + 1)   ⎠          \n",
       "gf(␣, \\alpha, z) = ───────────────────────────────────────────────── = (\\alpha\n",
       "                                          2⋅z                                 \n",
       "\n",
       "                                                                              \n",
       "     -1                 -1            ⎛            -1                        -\n",
       " + ␣)  ⋅␣ + (\\alpha + ␣)  ⋅\\alpha + z⋅⎝(\\alpha + ␣)  ⋅\\alpha⋅␣ + (\\alpha + ␣) \n",
       "                                                                              \n",
       "\n",
       "                                                                              \n",
       "1       2               -1                        -1  2⎞    2 ⎛              -\n",
       " ⋅\\alpha  + (\\alpha + ␣)  ⋅␣⋅\\alpha + (\\alpha + ␣)  ⋅␣ ⎠ + z ⋅⎝2⋅(\\alpha + ␣) \n",
       "                                                                              \n",
       "\n",
       "                                                                              \n",
       "1                                 -1         2                 -1       2     \n",
       " ⋅\\alpha⋅␣⋅\\alpha + 2⋅(\\alpha + ␣)  ⋅\\alpha⋅␣  + 2⋅(\\alpha + ␣)  ⋅\\alpha ⋅␣ + \n",
       "                                                                              \n",
       "\n",
       "                                                                              \n",
       "              -1       3                 -1                            -1     \n",
       "2⋅(\\alpha + ␣)  ⋅\\alpha  + 2⋅(\\alpha + ␣)  ⋅␣⋅\\alpha⋅␣ + 2⋅(\\alpha + ␣)  ⋅␣⋅\\a\n",
       "                                                                              \n",
       "\n",
       "                                                                              \n",
       "    2                 -1  2                        -1  3⎞    3 ⎛              \n",
       "lpha  + 2⋅(\\alpha + ␣)  ⋅␣ ⋅\\alpha + 2⋅(\\alpha + ␣)  ⋅␣ ⎠ + z ⋅⎝5⋅(\\alpha + ␣)\n",
       "                                                                              \n",
       "\n",
       "                                                                              \n",
       "-1                                   -1                2                 -1   \n",
       "  ⋅\\alpha⋅␣⋅\\alpha⋅␣ + 5⋅(\\alpha + ␣)  ⋅\\alpha⋅␣⋅\\alpha  + 5⋅(\\alpha + ␣)  ⋅\\a\n",
       "                                                                              \n",
       "\n",
       "                                                                              \n",
       "      2                        -1         3                 -1       2        \n",
       "lpha⋅␣ ⋅\\alpha + 5⋅(\\alpha + ␣)  ⋅\\alpha⋅␣  + 5⋅(\\alpha + ␣)  ⋅\\alpha ⋅␣⋅\\alph\n",
       "                                                                              \n",
       "\n",
       "                                                                              \n",
       "                  -1       2  2                 -1       3                   -\n",
       "a + 5⋅(\\alpha + ␣)  ⋅\\alpha ⋅␣  + 5⋅(\\alpha + ␣)  ⋅\\alpha ⋅␣ + 5⋅(\\alpha + ␣) \n",
       "                                                                              \n",
       "\n",
       "                                                                              \n",
       "1       4                 -1                                   -1           2 \n",
       " ⋅\\alpha  + 5⋅(\\alpha + ␣)  ⋅␣⋅\\alpha⋅␣⋅\\alpha + 5⋅(\\alpha + ␣)  ⋅␣⋅\\alpha⋅␣  \n",
       "                                                                              \n",
       "\n",
       "                                                                              \n",
       "                -1         2                   -1         3                 -1\n",
       "+ 5⋅(\\alpha + ␣)  ⋅␣⋅\\alpha ⋅␣ + 5⋅(\\alpha + ␣)  ⋅␣⋅\\alpha  + 5⋅(\\alpha + ␣)  \n",
       "                                                                              \n",
       "\n",
       "                                                                              \n",
       "  2                          -1  2       2                 -1  3              \n",
       "⋅␣ ⋅\\alpha⋅␣ + 5⋅(\\alpha + ␣)  ⋅␣ ⋅\\alpha  + 5⋅(\\alpha + ␣)  ⋅␣ ⋅\\alpha + 5⋅(\\\n",
       "                                                                              \n",
       "\n",
       "                                                                              \n",
       "          -1  4⎞    4 ⎛               -1                                      \n",
       "alpha + ␣)  ⋅␣ ⎠ + z ⋅⎝14⋅(\\alpha + ␣)  ⋅\\alpha⋅␣⋅\\alpha⋅␣⋅\\alpha + 14⋅(\\alpha\n",
       "                                                                              \n",
       "\n",
       "                                                                              \n",
       "     -1                  2                  -1                2               \n",
       " + ␣)  ⋅\\alpha⋅␣⋅\\alpha⋅␣  + 14⋅(\\alpha + ␣)  ⋅\\alpha⋅␣⋅\\alpha ⋅␣ + 14⋅(\\alpha\n",
       "                                                                              \n",
       "\n",
       "                                                                              \n",
       "     -1                3                  -1         2                        \n",
       " + ␣)  ⋅\\alpha⋅␣⋅\\alpha  + 14⋅(\\alpha + ␣)  ⋅\\alpha⋅␣ ⋅\\alpha⋅␣ + 14⋅(\\alpha +\n",
       "                                                                              \n",
       "\n",
       "                                                                              \n",
       "   -1         2       2                  -1         3                         \n",
       " ␣)  ⋅\\alpha⋅␣ ⋅\\alpha  + 14⋅(\\alpha + ␣)  ⋅\\alpha⋅␣ ⋅\\alpha + 14⋅(\\alpha + ␣)\n",
       "                                                                              \n",
       "\n",
       "                                                                              \n",
       "-1         4                  -1       2                             -1       \n",
       "  ⋅\\alpha⋅␣  + 14⋅(\\alpha + ␣)  ⋅\\alpha ⋅␣⋅\\alpha⋅␣ + 14⋅(\\alpha + ␣)  ⋅\\alpha\n",
       "                                                                              \n",
       "\n",
       "                                                                              \n",
       "2         2                  -1       2  2                         -1       2 \n",
       " ⋅␣⋅\\alpha  + 14⋅(\\alpha + ␣)  ⋅\\alpha ⋅␣ ⋅\\alpha + 14⋅(\\alpha + ␣)  ⋅\\alpha ⋅\n",
       "                                                                              \n",
       "\n",
       "                                                                              \n",
       " 3                  -1       3                           -1       3  2        \n",
       "␣  + 14⋅(\\alpha + ␣)  ⋅\\alpha ⋅␣⋅\\alpha + 14⋅(\\alpha + ␣)  ⋅\\alpha ⋅␣  + 14⋅(\\\n",
       "                                                                              \n",
       "\n",
       "                                                                              \n",
       "          -1       4                    -1       5                  -1        \n",
       "alpha + ␣)  ⋅\\alpha ⋅␣ + 14⋅(\\alpha + ␣)  ⋅\\alpha  + 14⋅(\\alpha + ␣)  ⋅␣⋅\\alph\n",
       "                                                                              \n",
       "\n",
       "                                                                              \n",
       "                              -1                  2                  -1       \n",
       "a⋅␣⋅\\alpha⋅␣ + 14⋅(\\alpha + ␣)  ⋅␣⋅\\alpha⋅␣⋅\\alpha  + 14⋅(\\alpha + ␣)  ⋅␣⋅\\alp\n",
       "                                                                              \n",
       "\n",
       "                                                                              \n",
       "    2                         -1           3                  -1         2    \n",
       "ha⋅␣ ⋅\\alpha + 14⋅(\\alpha + ␣)  ⋅␣⋅\\alpha⋅␣  + 14⋅(\\alpha + ␣)  ⋅␣⋅\\alpha ⋅␣⋅\\\n",
       "                                                                              \n",
       "\n",
       "                                                                              \n",
       "                       -1         2  2                  -1         3          \n",
       "alpha + 14⋅(\\alpha + ␣)  ⋅␣⋅\\alpha ⋅␣  + 14⋅(\\alpha + ␣)  ⋅␣⋅\\alpha ⋅␣ + 14⋅(\\\n",
       "                                                                              \n",
       "\n",
       "                                                                              \n",
       "          -1         4                  -1  2                                 \n",
       "alpha + ␣)  ⋅␣⋅\\alpha  + 14⋅(\\alpha + ␣)  ⋅␣ ⋅\\alpha⋅␣⋅\\alpha + 14⋅(\\alpha + ␣\n",
       "                                                                              \n",
       "\n",
       "                                                                              \n",
       " -1  2         2                  -1  2       2                    -1  2      \n",
       ")  ⋅␣ ⋅\\alpha⋅␣  + 14⋅(\\alpha + ␣)  ⋅␣ ⋅\\alpha ⋅␣ + 14⋅(\\alpha + ␣)  ⋅␣ ⋅\\alph\n",
       "                                                                              \n",
       "\n",
       "                                                                              \n",
       " 3                  -1  3                           -1  3       2             \n",
       "a  + 14⋅(\\alpha + ␣)  ⋅␣ ⋅\\alpha⋅␣ + 14⋅(\\alpha + ␣)  ⋅␣ ⋅\\alpha  + 14⋅(\\alpha\n",
       "                                                                              \n",
       "\n",
       "                                                                              \n",
       "     -1  4                         -1  5⎞    5 ⎛               -1             \n",
       " + ␣)  ⋅␣ ⋅\\alpha + 14⋅(\\alpha + ␣)  ⋅␣ ⎠ + z ⋅⎝42⋅(\\alpha + ␣)  ⋅\\alpha⋅␣⋅\\al\n",
       "                                                                              \n",
       "\n",
       "                                                                              \n",
       "                                -1                         2                  \n",
       "pha⋅␣⋅\\alpha⋅␣ + 42⋅(\\alpha + ␣)  ⋅\\alpha⋅␣⋅\\alpha⋅␣⋅\\alpha  + 42⋅(\\alpha + ␣)\n",
       "                                                                              \n",
       "\n",
       "                                                                              \n",
       "-1                  2                         -1                  3           \n",
       "  ⋅\\alpha⋅␣⋅\\alpha⋅␣ ⋅\\alpha + 42⋅(\\alpha + ␣)  ⋅\\alpha⋅␣⋅\\alpha⋅␣  + 42⋅(\\alp\n",
       "                                                                              \n",
       "\n",
       "                                                                              \n",
       "       -1                2                           -1                2  2   \n",
       "ha + ␣)  ⋅\\alpha⋅␣⋅\\alpha ⋅␣⋅\\alpha + 42⋅(\\alpha + ␣)  ⋅\\alpha⋅␣⋅\\alpha ⋅␣  + \n",
       "                                                                              \n",
       "\n",
       "                                                                              \n",
       "               -1                3                    -1                4     \n",
       "42⋅(\\alpha + ␣)  ⋅\\alpha⋅␣⋅\\alpha ⋅␣ + 42⋅(\\alpha + ␣)  ⋅\\alpha⋅␣⋅\\alpha  + 42\n",
       "                                                                              \n",
       "\n",
       "                                                                              \n",
       "             -1         2                                  -1         2       \n",
       "⋅(\\alpha + ␣)  ⋅\\alpha⋅␣ ⋅\\alpha⋅␣⋅\\alpha + 42⋅(\\alpha + ␣)  ⋅\\alpha⋅␣ ⋅\\alpha\n",
       "                                                                              \n",
       "\n",
       "                                                                              \n",
       "  2                  -1         2       2                    -1         2     \n",
       "⋅␣  + 42⋅(\\alpha + ␣)  ⋅\\alpha⋅␣ ⋅\\alpha ⋅␣ + 42⋅(\\alpha + ␣)  ⋅\\alpha⋅␣ ⋅\\alp\n",
       "                                                                              \n",
       "\n",
       "                                                                              \n",
       "  3                  -1         3                           -1         3      \n",
       "ha  + 42⋅(\\alpha + ␣)  ⋅\\alpha⋅␣ ⋅\\alpha⋅␣ + 42⋅(\\alpha + ␣)  ⋅\\alpha⋅␣ ⋅\\alph\n",
       "                                                                              \n",
       "\n",
       "                                                                              \n",
       " 2                  -1         4                         -1         5         \n",
       "a  + 42⋅(\\alpha + ␣)  ⋅\\alpha⋅␣ ⋅\\alpha + 42⋅(\\alpha + ␣)  ⋅\\alpha⋅␣  + 42⋅(\\a\n",
       "                                                                              \n",
       "\n",
       "                                                                              \n",
       "         -1       2                                    -1       2           2 \n",
       "lpha + ␣)  ⋅\\alpha ⋅␣⋅\\alpha⋅␣⋅\\alpha + 42⋅(\\alpha + ␣)  ⋅\\alpha ⋅␣⋅\\alpha⋅␣  \n",
       "                                                                              \n",
       "\n",
       "                                                                              \n",
       "                 -1       2         2                    -1       2         3 \n",
       "+ 42⋅(\\alpha + ␣)  ⋅\\alpha ⋅␣⋅\\alpha ⋅␣ + 42⋅(\\alpha + ␣)  ⋅\\alpha ⋅␣⋅\\alpha  \n",
       "                                                                              \n",
       "\n",
       "                                                                              \n",
       "                 -1       2  2                           -1       2  2       2\n",
       "+ 42⋅(\\alpha + ␣)  ⋅\\alpha ⋅␣ ⋅\\alpha⋅␣ + 42⋅(\\alpha + ␣)  ⋅\\alpha ⋅␣ ⋅\\alpha \n",
       "                                                                              \n",
       "\n",
       "                                                                              \n",
       "                  -1       2  3                         -1       2  4         \n",
       " + 42⋅(\\alpha + ␣)  ⋅\\alpha ⋅␣ ⋅\\alpha + 42⋅(\\alpha + ␣)  ⋅\\alpha ⋅␣  + 42⋅(\\a\n",
       "                                                                              \n",
       "\n",
       "                                                                              \n",
       "         -1       3                             -1       3         2          \n",
       "lpha + ␣)  ⋅\\alpha ⋅␣⋅\\alpha⋅␣ + 42⋅(\\alpha + ␣)  ⋅\\alpha ⋅␣⋅\\alpha  + 42⋅(\\al\n",
       "                                                                              \n",
       "\n",
       "                                                                              \n",
       "        -1       3  2                         -1       3  3                  -\n",
       "pha + ␣)  ⋅\\alpha ⋅␣ ⋅\\alpha + 42⋅(\\alpha + ␣)  ⋅\\alpha ⋅␣  + 42⋅(\\alpha + ␣) \n",
       "                                                                              \n",
       "\n",
       "                                                                              \n",
       "1       4                           -1       4  2                  -1       5 \n",
       " ⋅\\alpha ⋅␣⋅\\alpha + 42⋅(\\alpha + ␣)  ⋅\\alpha ⋅␣  + 42⋅(\\alpha + ␣)  ⋅\\alpha ⋅\n",
       "                                                                              \n",
       "\n",
       "                                                                              \n",
       "                   -1       6                  -1                             \n",
       "␣ + 42⋅(\\alpha + ␣)  ⋅\\alpha  + 42⋅(\\alpha + ␣)  ⋅␣⋅\\alpha⋅␣⋅\\alpha⋅␣⋅\\alpha +\n",
       "                                                                              \n",
       "\n",
       "                                                                              \n",
       "                -1                    2                  -1                  2\n",
       " 42⋅(\\alpha + ␣)  ⋅␣⋅\\alpha⋅␣⋅\\alpha⋅␣  + 42⋅(\\alpha + ␣)  ⋅␣⋅\\alpha⋅␣⋅\\alpha \n",
       "                                                                              \n",
       "\n",
       "                                                                              \n",
       "                    -1                  3                  -1           2     \n",
       "⋅␣ + 42⋅(\\alpha + ␣)  ⋅␣⋅\\alpha⋅␣⋅\\alpha  + 42⋅(\\alpha + ␣)  ⋅␣⋅\\alpha⋅␣ ⋅\\alp\n",
       "                                                                              \n",
       "\n",
       "                                                                              \n",
       "                      -1           2       2                  -1           3  \n",
       "ha⋅␣ + 42⋅(\\alpha + ␣)  ⋅␣⋅\\alpha⋅␣ ⋅\\alpha  + 42⋅(\\alpha + ␣)  ⋅␣⋅\\alpha⋅␣ ⋅\\\n",
       "                                                                              \n",
       "\n",
       "                                                                              \n",
       "                       -1           4                  -1         2           \n",
       "alpha + 42⋅(\\alpha + ␣)  ⋅␣⋅\\alpha⋅␣  + 42⋅(\\alpha + ␣)  ⋅␣⋅\\alpha ⋅␣⋅\\alpha⋅␣\n",
       "                                                                              \n",
       "\n",
       "                                                                              \n",
       "                  -1         2         2                  -1         2  2     \n",
       " + 42⋅(\\alpha + ␣)  ⋅␣⋅\\alpha ⋅␣⋅\\alpha  + 42⋅(\\alpha + ␣)  ⋅␣⋅\\alpha ⋅␣ ⋅\\alp\n",
       "                                                                              \n",
       "\n",
       "                                                                              \n",
       "                    -1         2  3                  -1         3             \n",
       "ha + 42⋅(\\alpha + ␣)  ⋅␣⋅\\alpha ⋅␣  + 42⋅(\\alpha + ␣)  ⋅␣⋅\\alpha ⋅␣⋅\\alpha + 4\n",
       "                                                                              \n",
       "\n",
       "                                                                              \n",
       "              -1         3  2                  -1         4                   \n",
       "2⋅(\\alpha + ␣)  ⋅␣⋅\\alpha ⋅␣  + 42⋅(\\alpha + ␣)  ⋅␣⋅\\alpha ⋅␣ + 42⋅(\\alpha + ␣\n",
       "                                                                              \n",
       "\n",
       "                                                                              \n",
       " -1         5                  -1  2                                    -1  2 \n",
       ")  ⋅␣⋅\\alpha  + 42⋅(\\alpha + ␣)  ⋅␣ ⋅\\alpha⋅␣⋅\\alpha⋅␣ + 42⋅(\\alpha + ␣)  ⋅␣ ⋅\n",
       "                                                                              \n",
       "\n",
       "                                                                              \n",
       "               2                  -1  2         2                         -1  \n",
       "\\alpha⋅␣⋅\\alpha  + 42⋅(\\alpha + ␣)  ⋅␣ ⋅\\alpha⋅␣ ⋅\\alpha + 42⋅(\\alpha + ␣)  ⋅␣\n",
       "                                                                              \n",
       "\n",
       "                                                                              \n",
       "2         3                  -1  2       2                           -1  2    \n",
       " ⋅\\alpha⋅␣  + 42⋅(\\alpha + ␣)  ⋅␣ ⋅\\alpha ⋅␣⋅\\alpha + 42⋅(\\alpha + ␣)  ⋅␣ ⋅\\al\n",
       "                                                                              \n",
       "\n",
       "                                                                              \n",
       "   2  2                  -1  2       3                    -1  2       4       \n",
       "pha ⋅␣  + 42⋅(\\alpha + ␣)  ⋅␣ ⋅\\alpha ⋅␣ + 42⋅(\\alpha + ␣)  ⋅␣ ⋅\\alpha  + 42⋅(\n",
       "                                                                              \n",
       "\n",
       "                                                                              \n",
       "           -1  3                                  -1  3         2             \n",
       "\\alpha + ␣)  ⋅␣ ⋅\\alpha⋅␣⋅\\alpha + 42⋅(\\alpha + ␣)  ⋅␣ ⋅\\alpha⋅␣  + 42⋅(\\alpha\n",
       "                                                                              \n",
       "\n",
       "                                                                              \n",
       "     -1  3       2                    -1  3       3                  -1  4    \n",
       " + ␣)  ⋅␣ ⋅\\alpha ⋅␣ + 42⋅(\\alpha + ␣)  ⋅␣ ⋅\\alpha  + 42⋅(\\alpha + ␣)  ⋅␣ ⋅\\al\n",
       "                                                                              \n",
       "\n",
       "                                                                              \n",
       "                       -1  4       2                  -1  5                   \n",
       "pha⋅␣ + 42⋅(\\alpha + ␣)  ⋅␣ ⋅\\alpha  + 42⋅(\\alpha + ␣)  ⋅␣ ⋅\\alpha + 42⋅(\\alph\n",
       "                                                                              \n",
       "\n",
       "                    \n",
       "      -1  6⎞    ⎛ 6⎞\n",
       "a + ␣)  ⋅␣ ⎠ + O⎝z ⎠\n",
       "                    "
      ]
     },
     "execution_count": 23,
     "metadata": {},
     "output_type": "execute_result"
    }
   ],
   "source": [
    "occupancy(bin_tree_of_boolean_gf, syms=[alpha], objects='unlike', boxes='unlike').series(z,n=6, kernel='ordinary')"
   ]
  },
  {
   "cell_type": "code",
   "execution_count": null,
   "metadata": {},
   "outputs": [],
   "source": []
  }
 ],
 "metadata": {
  "kernelspec": {
   "display_name": "Python 3",
   "language": "python",
   "name": "python3"
  },
  "language_info": {
   "codemirror_mode": {
    "name": "ipython",
    "version": 3
   },
   "file_extension": ".py",
   "mimetype": "text/x-python",
   "name": "python",
   "nbconvert_exporter": "python",
   "pygments_lexer": "ipython3",
   "version": "3.7.1"
  }
 },
 "nbformat": 4,
 "nbformat_minor": 2
}
