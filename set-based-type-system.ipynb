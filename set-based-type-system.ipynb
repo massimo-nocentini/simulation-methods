{
 "cells": [
  {
   "cell_type": "markdown",
   "metadata": {
    "deletable": true,
    "editable": true
   },
   "source": [
    "<p>\n",
    "<img src=\"http://www.cerm.unifi.it/chianti/images/logo%20unifi_positivo.jpg\" \n",
    "        alt=\"UniFI logo\" style=\"float: left; width: 20%; height: 20%;\">\n",
    "<div align=\"right\">\n",
    "Massimo Nocentini<br>\n",
    "<small>\n",
    "<br>December 3 and 4, 2018: types definitions, gfs\n",
    "</small>\n",
    "</div>\n",
    "</p>\n",
    "<br>\n",
    "<div align=\"center\">\n",
    "<b>Abstract</b><br>\n",
    "In this document we collect a naive <i>type system</i> based on sets.\n",
    "</div>"
   ]
  },
  {
   "cell_type": "code",
   "execution_count": 1,
   "metadata": {
    "collapsed": true,
    "deletable": true,
    "editable": true
   },
   "outputs": [],
   "source": [
    "from functools import lru_cache, reduce\n",
    "import operator\n",
    "\n",
    "from sympy import *"
   ]
  },
  {
   "cell_type": "code",
   "execution_count": 2,
   "metadata": {
    "collapsed": true,
    "deletable": true,
    "editable": true
   },
   "outputs": [],
   "source": [
    "%run src/commons.py"
   ]
  },
  {
   "cell_type": "markdown",
   "metadata": {
    "deletable": true,
    "editable": true
   },
   "source": [
    "---"
   ]
  },
  {
   "cell_type": "code",
   "execution_count": 3,
   "metadata": {
    "collapsed": true,
    "deletable": true,
    "editable": true
   },
   "outputs": [],
   "source": [
    "init_printing()"
   ]
  },
  {
   "cell_type": "code",
   "execution_count": 4,
   "metadata": {
    "collapsed": true,
    "deletable": true,
    "editable": true
   },
   "outputs": [],
   "source": [
    "x,y,t,z = symbols('x y t z')\n",
    "alpha, beta, gamma = symbols(r'\\alpha \\beta \\gamma')\n",
    "w = IndexedBase('w')"
   ]
  },
  {
   "cell_type": "code",
   "execution_count": 32,
   "metadata": {
    "collapsed": true,
    "deletable": true,
    "editable": true
   },
   "outputs": [],
   "source": [
    "class ty:\n",
    "    \n",
    "    def __init__(self, *types):\n",
    "        self.types = types # the list of types that I depend on.\n",
    "    \n",
    "    def tyvars(self):\n",
    "        vs = map(operator.methodcaller('tyvars'), self.types)\n",
    "        return reduce(operator.or_, vs, set())\n",
    "    \n",
    "    def label(self):\n",
    "        raise NotImplemented # I'm an abstract type, nameless indeed.\n",
    "    \n",
    "    def gf_lhs(self):\n",
    "        L = Function(self.label())\n",
    "        return L(*self.tyvars())\n",
    "    \n",
    "    def gf(self):\n",
    "        return define(self.gf_lhs(), self.gf_rhs())\n",
    "        \n",
    "    def gf_rhs(self):\n",
    "        return self.definition().gf_rhs()\n",
    "    \n",
    "    def definition(self):\n",
    "        raise NotImplemented\n",
    "    \n",
    "    def __or__(self, other):\n",
    "        return du(self, other)\n",
    "    \n",
    "    def __mul__(self, other):\n",
    "        return cp(self, other)"
   ]
  },
  {
   "cell_type": "code",
   "execution_count": 21,
   "metadata": {
    "collapsed": true,
    "deletable": true,
    "editable": true
   },
   "outputs": [],
   "source": [
    "class cp(ty):\n",
    "        \n",
    "    def gf_rhs(self):\n",
    "        R = map(lambda t: t.gf().rhs, self.types)\n",
    "        return reduce(operator.mul, R, 1)\n",
    "        \n",
    "    def label(self):\n",
    "        return r'\\times'"
   ]
  },
  {
   "cell_type": "code",
   "execution_count": 22,
   "metadata": {
    "collapsed": true,
    "deletable": true,
    "editable": true
   },
   "outputs": [],
   "source": [
    "class du(ty):\n",
    "    \n",
    "    def label(self):\n",
    "        return r'\\cup'\n",
    "            \n",
    "    def gf_rhs(self):\n",
    "        R = map(lambda t: t.gf().rhs, self.types)\n",
    "        return reduce(operator.add, R, 0)"
   ]
  },
  {
   "cell_type": "code",
   "execution_count": 23,
   "metadata": {
    "collapsed": true,
    "deletable": true,
    "editable": true
   },
   "outputs": [],
   "source": [
    "class var(ty):\n",
    "    \n",
    "    def __init__(self, sym):\n",
    "        self.sym = sym\n",
    "\n",
    "    def label(self):\n",
    "        return self.sym.name\n",
    "        \n",
    "    def gf_lhs(self):\n",
    "        return self.sym\n",
    "        \n",
    "    def gf_rhs(self):\n",
    "        return self.sym\n",
    "    \n",
    "    def tyvars(self):\n",
    "        args = self.sym.args\n",
    "        return set(args) if args else set([self.sym])\n",
    "    \n",
    "class unit(var):\n",
    "    \n",
    "    def __init__(self):\n",
    "        super().__init__(S(1))\n",
    "        \n",
    "    def label(self):\n",
    "        return 'unit'\n",
    "        \n",
    "    def tyvars(self):\n",
    "        return set()"
   ]
  },
  {
   "cell_type": "code",
   "execution_count": 24,
   "metadata": {
    "collapsed": false,
    "deletable": true,
    "editable": true
   },
   "outputs": [
    {
     "data": {
      "image/png": "[encoded data removed]",
      "text/latex": [
       "$$\\times{\\left (z,y,x \\right )} = x y z$$"
      ],
      "text/plain": [
       "\\times(z, y, x) = x⋅y⋅z"
      ]
     },
     "execution_count": 24,
     "metadata": {},
     "output_type": "execute_result"
    }
   ],
   "source": [
    "(var(x) * var(y) * var(z)).gf()"
   ]
  },
  {
   "cell_type": "code",
   "execution_count": 25,
   "metadata": {
    "collapsed": false,
    "deletable": true,
    "editable": true
   },
   "outputs": [
    {
     "data": {
      "image/png": "[encoded data removed]",
      "text/latex": [
       "$$\\cup{\\left (z,y,x \\right )} = x + y + z$$"
      ],
      "text/plain": [
       "\\cup(z, y, x) = x + y + z"
      ]
     },
     "execution_count": 25,
     "metadata": {},
     "output_type": "execute_result"
    }
   ],
   "source": [
    "(var(x) | var(y) | var(z)).gf()"
   ]
  },
  {
   "cell_type": "code",
   "execution_count": 26,
   "metadata": {
    "collapsed": true,
    "deletable": true,
    "editable": true
   },
   "outputs": [],
   "source": [
    "boolean = var(x) | var(y)"
   ]
  },
  {
   "cell_type": "code",
   "execution_count": 27,
   "metadata": {
    "collapsed": true,
    "deletable": true,
    "editable": true
   },
   "outputs": [],
   "source": [
    "class maybe(ty):\n",
    "    \n",
    "    def alpha(self):\n",
    "        alpha, = self.types\n",
    "        return alpha\n",
    "    \n",
    "    def definition(self):\n",
    "        return unit() | self.alpha()\n",
    "    \n",
    "    def label(self):\n",
    "        return r'\\mathcal{M}'"
   ]
  },
  {
   "cell_type": "code",
   "execution_count": 28,
   "metadata": {
    "collapsed": false,
    "deletable": true,
    "editable": true
   },
   "outputs": [
    {
     "data": {
      "image/png": "[encoded data removed]",
      "text/latex": [
       "$$\\mathcal{M}{\\left (\\alpha \\right )} = \\alpha + 1$$"
      ],
      "text/plain": [
       "\\mathcal{M}(\\alpha) = \\alpha + 1"
      ]
     },
     "execution_count": 28,
     "metadata": {},
     "output_type": "execute_result"
    }
   ],
   "source": [
    "maybe(var(alpha)).gf()"
   ]
  },
  {
   "cell_type": "code",
   "execution_count": 39,
   "metadata": {
    "collapsed": true,
    "deletable": true,
    "editable": true
   },
   "outputs": [],
   "source": [
    "class rec(ty):\n",
    "    \n",
    "    def me(self):\n",
    "        return var(self.gf_lhs())\n",
    "    \n",
    "    def gf(self, constraints={}):\n",
    "        eq = super().gf()\n",
    "        lhs = self.gf_lhs()\n",
    "        sols = solve(eq, lhs)\n",
    "        #print(sols)\n",
    "        for sol in sols:\n",
    "            for k,v in constraints.items():\n",
    "                with lift_to_Lambda(eq) as feq:\n",
    "                    #print(feq(*k).simplify())\n",
    "                    if feq(*k).simplify() != v:\n",
    "                        break\n",
    "            else:  \n",
    "                return Eq(lhs, sol)\n",
    "        raise ValueError(sols)"
   ]
  },
  {
   "cell_type": "code",
   "execution_count": 34,
   "metadata": {
    "collapsed": true,
    "deletable": true,
    "editable": true
   },
   "outputs": [],
   "source": [
    "class lst(rec):\n",
    "         \n",
    "    def definition(self):\n",
    "        alpha, = self.types\n",
    "        return unit() | (alpha * self.me())\n",
    "    \n",
    "    def label(self):\n",
    "        return r'\\mathcal{L}'"
   ]
  },
  {
   "cell_type": "code",
   "execution_count": 35,
   "metadata": {
    "collapsed": false,
    "deletable": true,
    "editable": true
   },
   "outputs": [
    {
     "data": {
      "image/png": "[encoded data removed]",
      "text/latex": [
       "$$\\mathcal{L}{\\left (\\alpha \\right )} = - \\frac{1}{\\alpha - 1}$$"
      ],
      "text/plain": [
       "                         -1     \n",
       "\\mathcal{L}(\\alpha) = ──────────\n",
       "                      \\alpha - 1"
      ]
     },
     "execution_count": 35,
     "metadata": {},
     "output_type": "execute_result"
    }
   ],
   "source": [
    "lst_of_alpha_tyeq = lst(var(alpha)).gf()\n",
    "lst_of_alpha_tyeq"
   ]
  },
  {
   "cell_type": "code",
   "execution_count": 20,
   "metadata": {
    "collapsed": false,
    "deletable": true,
    "editable": true
   },
   "outputs": [
    {
     "data": {
      "image/png": "[encoded data removed]",
      "text/latex": [
       "$$1 + \\alpha + \\alpha^{2} + \\alpha^{3} + \\alpha^{4} + \\alpha^{5} + \\alpha^{6} + \\alpha^{7} + \\alpha^{8} + \\alpha^{9} + O\\left(\\alpha^{10}\\right)$$"
      ],
      "text/plain": [
       "                   2         3         4         5         6         7        \n",
       "1 + \\alpha + \\alpha  + \\alpha  + \\alpha  + \\alpha  + \\alpha  + \\alpha  + \\alph\n",
       "\n",
       " 8         9    ⎛      10⎞\n",
       "a  + \\alpha  + O⎝\\alpha  ⎠"
      ]
     },
     "execution_count": 20,
     "metadata": {},
     "output_type": "execute_result"
    }
   ],
   "source": [
    "lst_of_alpha_tyeq.rhs.series(alpha, n=10)"
   ]
  },
  {
   "cell_type": "code",
   "execution_count": 21,
   "metadata": {
    "collapsed": false,
    "deletable": true,
    "editable": true
   },
   "outputs": [
    {
     "data": {
      "image/png": "[encoded data removed]",
      "text/latex": [
       "$$\\mathcal{L}{\\left (\\alpha \\right )} = - \\frac{1}{\\alpha}$$"
      ],
      "text/plain": [
       "                       -1   \n",
       "\\mathcal{L}(\\alpha) = ──────\n",
       "                      \\alpha"
      ]
     },
     "execution_count": 21,
     "metadata": {},
     "output_type": "execute_result"
    }
   ],
   "source": [
    "lst_of_maybe_of_alpha_tyeq = lst(maybe(var(alpha))).gf()\n",
    "lst_of_maybe_of_alpha_tyeq"
   ]
  },
  {
   "cell_type": "code",
   "execution_count": 22,
   "metadata": {
    "collapsed": false,
    "deletable": true,
    "editable": true
   },
   "outputs": [
    {
     "data": {
      "image/png": "[encoded data removed]",
      "text/latex": [
       "$$\\mathcal{L}{\\left (y,x \\right )} = - \\frac{1}{x + y - 1}$$"
      ],
      "text/plain": [
       "                       -1    \n",
       "\\mathcal{L}(y, x) = ─────────\n",
       "                    x + y - 1"
      ]
     },
     "execution_count": 22,
     "metadata": {},
     "output_type": "execute_result"
    }
   ],
   "source": [
    "lst_of_boolean_tyeq = lst(boolean).gf()\n",
    "lst_of_boolean_tyeq"
   ]
  },
  {
   "cell_type": "code",
   "execution_count": 23,
   "metadata": {
    "collapsed": false,
    "deletable": true,
    "editable": true
   },
   "outputs": [
    {
     "data": {
      "image/png": "[encoded data removed]",
      "text/latex": [
       "$$- \\frac{1}{2 x - 1} = 1 + 2 x + 4 x^{2} + 8 x^{3} + 16 x^{4} + 32 x^{5} + 64 x^{6} + 128 x^{7} + 256 x^{8} + 512 x^{9} + O\\left(x^{10}\\right)$$"
      ],
      "text/plain": [
       "  -1                   2      3       4       5       6        7        8     \n",
       "─────── = 1 + 2⋅x + 4⋅x  + 8⋅x  + 16⋅x  + 32⋅x  + 64⋅x  + 128⋅x  + 256⋅x  + 51\n",
       "2⋅x - 1                                                                       \n",
       "\n",
       "   9    ⎛ 10⎞\n",
       "2⋅x  + O⎝x  ⎠\n",
       "             "
      ]
     },
     "execution_count": 23,
     "metadata": {},
     "output_type": "execute_result"
    }
   ],
   "source": [
    "with lift_to_Lambda(lst_of_boolean_tyeq) as L:\n",
    "    l = L(x,x)\n",
    "Eq(l, l.series(x,n=10))"
   ]
  },
  {
   "cell_type": "code",
   "execution_count": 28,
   "metadata": {
    "collapsed": false,
    "deletable": true,
    "editable": true
   },
   "outputs": [
    {
     "data": {
      "image/png": "[encoded data removed]",
      "text/latex": [
       "$$- \\frac{1}{x + y - 1} = - \\frac{1}{y - 1} + \\frac{x}{y^{2} - 2 y + 1} - \\frac{x^{2}}{y^{3} - 3 y^{2} + 3 y - 1} + \\frac{x^{3}}{y^{4} - 4 y^{3} + 6 y^{2} - 4 y + 1} - \\frac{x^{4}}{y^{5} - 5 y^{4} + 10 y^{3} - 10 y^{2} + 5 y - 1} + \\frac{x^{5}}{y^{6} - 6 y^{5} + 15 y^{4} - 20 y^{3} + 15 y^{2} - 6 y + 1} + O\\left(x^{6}\\right)$$"
      ],
      "text/plain": [
       "                                               2                        3     \n",
       "   -1           1          x                  x                        x      \n",
       "───────── = - ───── + ──────────── - ─────────────────── + ───────────────────\n",
       "x + y - 1     y - 1    2              3      2              4      3      2   \n",
       "                      y  - 2⋅y + 1   y  - 3⋅y  + 3⋅y - 1   y  - 4⋅y  + 6⋅y  - \n",
       "\n",
       "                            4                                         5       \n",
       "                           x                                         x        \n",
       "─────── - ─────────────────────────────────── + ──────────────────────────────\n",
       "           5      4       3       2              6      5       4       3     \n",
       "4⋅y + 1   y  - 5⋅y  + 10⋅y  - 10⋅y  + 5⋅y - 1   y  - 6⋅y  + 15⋅y  - 20⋅y  + 15\n",
       "\n",
       "                     \n",
       "                 ⎛ 6⎞\n",
       "───────────── + O⎝x ⎠\n",
       "  2                  \n",
       "⋅y  - 6⋅y + 1        "
      ]
     },
     "execution_count": 28,
     "metadata": {},
     "output_type": "execute_result"
    }
   ],
   "source": [
    "s = Eq(lst_of_boolean_tyeq.rhs, lst_of_boolean_tyeq.rhs.series(x), evaluate=False)\n",
    "s"
   ]
  },
  {
   "cell_type": "code",
   "execution_count": 29,
   "metadata": {
    "collapsed": false,
    "deletable": true,
    "editable": true
   },
   "outputs": [
    {
     "data": {
      "image/png": "[encoded data removed]",
      "text/latex": [
       "$$- \\frac{1}{\\left(y - 1\\right)^{3}} = 1 + 3 y + 6 y^{2} + 10 y^{3} + 15 y^{4} + 21 y^{5} + 28 y^{6} + 36 y^{7} + 45 y^{8} + 55 y^{9} + O\\left(y^{10}\\right)$$"
      ],
      "text/plain": [
       "  -1                    2       3       4       5       6       7       8     \n",
       "──────── = 1 + 3⋅y + 6⋅y  + 10⋅y  + 15⋅y  + 21⋅y  + 28⋅y  + 36⋅y  + 45⋅y  + 55\n",
       "       3                                                                      \n",
       "(y - 1)                                                                       \n",
       "\n",
       "  9    ⎛ 10⎞\n",
       "⋅y  + O⎝y  ⎠\n",
       "            \n",
       "            "
      ]
     },
     "execution_count": 29,
     "metadata": {},
     "output_type": "execute_result"
    }
   ],
   "source": [
    "s2 = s.rhs.coeff(x,2).factor()\n",
    "Eq(s2, s2.series(y,n=10))"
   ]
  },
  {
   "cell_type": "code",
   "execution_count": 31,
   "metadata": {
    "collapsed": false,
    "deletable": true,
    "editable": true
   },
   "outputs": [
    {
     "data": {
      "image/png": "[encoded data removed]",
      "text/latex": [
       "$$\\left[\\begin{matrix}1 & 1 & 1 & 1 & 1 & 1 & 1 & 1 & 1 & 1\\\\1 & 2 & 3 & 4 & 5 & 6 & 7 & 8 & 9 & 10\\\\1 & 3 & 6 & 10 & 15 & 21 & 28 & 36 & 45 & 55\\\\1 & 4 & 10 & 20 & 35 & 56 & 84 & 120 & 165 & 220\\\\1 & 5 & 15 & 35 & 70 & 126 & 210 & 330 & 495 & 715\\\\1 & 6 & 21 & 56 & 126 & 252 & 462 & 792 & 1287 & 2002\\\\1 & 7 & 28 & 84 & 210 & 462 & 924 & 1716 & 3003 & 5005\\\\1 & 8 & 36 & 120 & 330 & 792 & 1716 & 3432 & 6435 & 11440\\\\1 & 9 & 45 & 165 & 495 & 1287 & 3003 & 6435 & 12870 & 24310\\\\1 & 10 & 55 & 220 & 715 & 2002 & 5005 & 11440 & 24310 & 48620\\end{matrix}\\right]$$"
      ],
      "text/plain": [
       "⎡1  1   1    1    1    1     1      1      1      1  ⎤\n",
       "⎢                                                    ⎥\n",
       "⎢1  2   3    4    5    6     7      8      9     10  ⎥\n",
       "⎢                                                    ⎥\n",
       "⎢1  3   6   10   15    21    28    36     45     55  ⎥\n",
       "⎢                                                    ⎥\n",
       "⎢1  4   10  20   35    56    84    120    165    220 ⎥\n",
       "⎢                                                    ⎥\n",
       "⎢1  5   15  35   70   126   210    330    495    715 ⎥\n",
       "⎢                                                    ⎥\n",
       "⎢1  6   21  56   126  252   462    792   1287   2002 ⎥\n",
       "⎢                                                    ⎥\n",
       "⎢1  7   28  84   210  462   924   1716   3003   5005 ⎥\n",
       "⎢                                                    ⎥\n",
       "⎢1  8   36  120  330  792   1716  3432   6435   11440⎥\n",
       "⎢                                                    ⎥\n",
       "⎢1  9   45  165  495  1287  3003  6435   12870  24310⎥\n",
       "⎢                                                    ⎥\n",
       "⎣1  10  55  220  715  2002  5005  11440  24310  48620⎦"
      ]
     },
     "execution_count": 31,
     "metadata": {},
     "output_type": "execute_result"
    }
   ],
   "source": [
    "dim = 10\n",
    "\n",
    "@lru_cache(maxsize=None)\n",
    "def col(j):\n",
    "    return lst_of_boolean_tyeq.rhs.series(x,n=dim).coeff(x,j).series(y,n=dim)\n",
    "\n",
    "Matrix(dim, dim, lambda i,j: col(j).coeff(y,i))"
   ]
  },
  {
   "cell_type": "code",
   "execution_count": 33,
   "metadata": {
    "collapsed": true,
    "deletable": true,
    "editable": true
   },
   "outputs": [],
   "source": [
    "class nnlst(rec):\n",
    "         \n",
    "    def definition(self):\n",
    "        alpha, = self.types\n",
    "        return alpha | (alpha * self.me())\n",
    "    \n",
    "    def label(self):\n",
    "        return r'\\mathcal{L}_{+}'"
   ]
  },
  {
   "cell_type": "code",
   "execution_count": 34,
   "metadata": {
    "collapsed": false,
    "deletable": true,
    "editable": true
   },
   "outputs": [
    {
     "data": {
      "image/png": "[encoded data removed]",
      "text/latex": [
       "$$\\mathcal{L}_{+}{\\left (\\alpha \\right )} = - \\frac{\\alpha}{\\alpha - 1}$$"
      ],
      "text/plain": [
       "                           -\\alpha  \n",
       "\\mathcal{L}_{+}(\\alpha) = ──────────\n",
       "                          \\alpha - 1"
      ]
     },
     "execution_count": 34,
     "metadata": {},
     "output_type": "execute_result"
    }
   ],
   "source": [
    "nnlst_of_alpha_tyeq = nnlst(var(alpha)).gf()\n",
    "nnlst_of_alpha_tyeq"
   ]
  },
  {
   "cell_type": "code",
   "execution_count": 35,
   "metadata": {
    "collapsed": false,
    "deletable": true,
    "editable": true
   },
   "outputs": [
    {
     "data": {
      "image/png": "[encoded data removed]",
      "text/latex": [
       "$$\\alpha + \\alpha^{2} + \\alpha^{3} + \\alpha^{4} + \\alpha^{5} + \\alpha^{6} + \\alpha^{7} + \\alpha^{8} + \\alpha^{9} + O\\left(\\alpha^{10}\\right)$$"
      ],
      "text/plain": [
       "               2         3         4         5         6         7         8  \n",
       "\\alpha + \\alpha  + \\alpha  + \\alpha  + \\alpha  + \\alpha  + \\alpha  + \\alpha  +\n",
       "\n",
       "       9    ⎛      10⎞\n",
       " \\alpha  + O⎝\\alpha  ⎠"
      ]
     },
     "execution_count": 35,
     "metadata": {},
     "output_type": "execute_result"
    }
   ],
   "source": [
    "nnlst_of_alpha_tyeq.rhs.series(alpha, n=10)"
   ]
  },
  {
   "cell_type": "code",
   "execution_count": 36,
   "metadata": {
    "collapsed": true,
    "deletable": true,
    "editable": true
   },
   "outputs": [],
   "source": [
    "class bin_tree(rec):\n",
    "    \n",
    "    def definition(self):\n",
    "        alpha, = self.types\n",
    "        return unit() | (alpha * self.me() * self.me())\n",
    "    \n",
    "    def label(self):\n",
    "        return r'\\mathcal{B}'"
   ]
  },
  {
   "cell_type": "code",
   "execution_count": 37,
   "metadata": {
    "collapsed": false,
    "deletable": true,
    "editable": true
   },
   "outputs": [
    {
     "data": {
      "image/png": "[encoded data removed]",
      "text/latex": [
       "$$\\mathcal{B}{\\left (\\alpha \\right )} = \\frac{- \\sqrt{- 4 \\alpha + 1} + 1}{2 \\alpha}$$"
      ],
      "text/plain": [
       "                          _______________    \n",
       "                      - ╲╱ -4⋅\\alpha + 1  + 1\n",
       "\\mathcal{B}(\\alpha) = ───────────────────────\n",
       "                              2⋅\\alpha       "
      ]
     },
     "execution_count": 37,
     "metadata": {},
     "output_type": "execute_result"
    }
   ],
   "source": [
    "bin_tree_gf = bin_tree(var(alpha)).gf(constraints={(0,):1})\n",
    "bin_tree_gf"
   ]
  },
  {
   "cell_type": "code",
   "execution_count": 38,
   "metadata": {
    "collapsed": false,
    "deletable": true,
    "editable": true
   },
   "outputs": [
    {
     "data": {
      "image/png": "[encoded data removed]",
      "text/latex": [
       "$$1 + \\alpha + 2 \\alpha^{2} + 5 \\alpha^{3} + 14 \\alpha^{4} + 42 \\alpha^{5} + 132 \\alpha^{6} + 429 \\alpha^{7} + 1430 \\alpha^{8} + 4862 \\alpha^{9} + O\\left(\\alpha^{10}\\right)$$"
      ],
      "text/plain": [
       "                     2           3            4            5             6    \n",
       "1 + \\alpha + 2⋅\\alpha  + 5⋅\\alpha  + 14⋅\\alpha  + 42⋅\\alpha  + 132⋅\\alpha  + 4\n",
       "\n",
       "         7              8              9    ⎛      10⎞\n",
       "29⋅\\alpha  + 1430⋅\\alpha  + 4862⋅\\alpha  + O⎝\\alpha  ⎠"
      ]
     },
     "execution_count": 38,
     "metadata": {},
     "output_type": "execute_result"
    }
   ],
   "source": [
    "bin_tree_gf.rhs.series(alpha, n=10)"
   ]
  },
  {
   "cell_type": "code",
   "execution_count": 39,
   "metadata": {
    "collapsed": false,
    "deletable": true,
    "editable": true
   },
   "outputs": [
    {
     "data": {
      "image/png": "[encoded data removed]",
      "text/latex": [
       "$$\\mathcal{B}{\\left (y,x \\right )} = \\frac{- \\sqrt{- 4 x - 4 y + 1} + 1}{2 \\left(x + y\\right)}$$"
      ],
      "text/plain": [
       "                        ________________    \n",
       "                    - ╲╱ -4⋅x - 4⋅y + 1  + 1\n",
       "\\mathcal{B}(y, x) = ────────────────────────\n",
       "                           2⋅(x + y)        "
      ]
     },
     "execution_count": 39,
     "metadata": {},
     "output_type": "execute_result"
    }
   ],
   "source": [
    "bin_tree_of_boolean = bin_tree(boolean).gf(constraints={(0,0):1})\n",
    "bin_tree_of_boolean"
   ]
  },
  {
   "cell_type": "code",
   "execution_count": 40,
   "metadata": {
    "collapsed": true,
    "deletable": true,
    "editable": true
   },
   "outputs": [],
   "source": [
    "s = bin_tree_of_boolean.rhs.series(x)"
   ]
  },
  {
   "cell_type": "code",
   "execution_count": 41,
   "metadata": {
    "collapsed": true,
    "deletable": true,
    "editable": true
   },
   "outputs": [],
   "source": [
    "coeffs = [s.coeff(x,i).simplify() for i in range(6)]"
   ]
  },
  {
   "cell_type": "code",
   "execution_count": 42,
   "metadata": {
    "collapsed": false,
    "deletable": true,
    "editable": true
   },
   "outputs": [
    {
     "data": {
      "image/png": "[encoded data removed]",
      "text/latex": [
       "$$\\left [ 1 + y + 2 y^{2} + 5 y^{3} + 14 y^{4} + 42 y^{5} + 132 y^{6} + 429 y^{7} + 1430 y^{8} + 4862 y^{9} + O\\left(y^{10}\\right), \\quad 1 + 4 y + 15 y^{2} + 56 y^{3} + 210 y^{4} + 792 y^{5} + 3003 y^{6} + 11440 y^{7} + 43758 y^{8} + 167960 y^{9} + O\\left(y^{10}\\right), \\quad 2 + 15 y + 84 y^{2} + 420 y^{3} + 1980 y^{4} + 9009 y^{5} + 40040 y^{6} + 175032 y^{7} + 755820 y^{8} + 3233230 y^{9} + O\\left(y^{10}\\right), \\quad 5 + 56 y + 420 y^{2} + 2640 y^{3} + 15015 y^{4} + 80080 y^{5} + 408408 y^{6} + 2015520 y^{7} + 9699690 y^{8} + 45762640 y^{9} + O\\left(y^{10}\\right), \\quad 14 + 210 y + 1980 y^{2} + 15015 y^{3} + 100100 y^{4} + 612612 y^{5} + 3527160 y^{6} + 19399380 y^{7} + 102965940 y^{8} + 531173500 y^{9} + O\\left(y^{10}\\right), \\quad 42 + 792 y + 9009 y^{2} + 80080 y^{3} + 612612 y^{4} + 4232592 y^{5} + 27159132 y^{6} + 164745504 y^{7} + 956112300 y^{8} + 5354228880 y^{9} + O\\left(y^{10}\\right)\\right ]$$"
      ],
      "text/plain": [
       "⎡           2      3       4       5        6        7         8         9    \n",
       "⎣1 + y + 2⋅y  + 5⋅y  + 14⋅y  + 42⋅y  + 132⋅y  + 429⋅y  + 1430⋅y  + 4862⋅y  + O\n",
       "\n",
       "⎛ 10⎞                2       3        4        5         6          7         \n",
       "⎝y  ⎠, 1 + 4⋅y + 15⋅y  + 56⋅y  + 210⋅y  + 792⋅y  + 3003⋅y  + 11440⋅y  + 43758⋅\n",
       "\n",
       " 8           9    ⎛ 10⎞                 2        3         4         5        \n",
       "y  + 167960⋅y  + O⎝y  ⎠, 2 + 15⋅y + 84⋅y  + 420⋅y  + 1980⋅y  + 9009⋅y  + 40040\n",
       "\n",
       "  6           7           8            9    ⎛ 10⎞                  2         3\n",
       "⋅y  + 175032⋅y  + 755820⋅y  + 3233230⋅y  + O⎝y  ⎠, 5 + 56⋅y + 420⋅y  + 2640⋅y \n",
       "\n",
       "          4          5           6            7            8             9    \n",
       " + 15015⋅y  + 80080⋅y  + 408408⋅y  + 2015520⋅y  + 9699690⋅y  + 45762640⋅y  + O\n",
       "\n",
       "⎛ 10⎞                     2          3           4           5            6   \n",
       "⎝y  ⎠, 14 + 210⋅y + 1980⋅y  + 15015⋅y  + 100100⋅y  + 612612⋅y  + 3527160⋅y  + \n",
       "\n",
       "          7              8              9    ⎛ 10⎞                     2      \n",
       "19399380⋅y  + 102965940⋅y  + 531173500⋅y  + O⎝y  ⎠, 42 + 792⋅y + 9009⋅y  + 800\n",
       "\n",
       "    3           4            5             6              7              8    \n",
       "80⋅y  + 612612⋅y  + 4232592⋅y  + 27159132⋅y  + 164745504⋅y  + 956112300⋅y  + 5\n",
       "\n",
       "           9    ⎛ 10⎞⎤\n",
       "354228880⋅y  + O⎝y  ⎠⎦"
      ]
     },
     "execution_count": 42,
     "metadata": {},
     "output_type": "execute_result"
    }
   ],
   "source": [
    "ys = [c.series(y,n=10) for c in coeffs]\n",
    "ys"
   ]
  },
  {
   "cell_type": "code",
   "execution_count": 43,
   "metadata": {
    "collapsed": false,
    "deletable": true,
    "editable": true
   },
   "outputs": [
    {
     "data": {
      "image/png": "[encoded data removed]",
      "text/latex": [
       "$$\\left[\\begin{matrix}1 & 1 & 2 & 5 & 14 & 42\\\\1 & 4 & 15 & 56 & 210 & 792\\\\2 & 15 & 84 & 420 & 1980 & 9009\\\\5 & 56 & 420 & 2640 & 15015 & 80080\\\\14 & 210 & 1980 & 15015 & 100100 & 612612\\\\42 & 792 & 9009 & 80080 & 612612 & 4232592\\end{matrix}\\right]$$"
      ],
      "text/plain": [
       "⎡1    1    2      5      14      42   ⎤\n",
       "⎢                                     ⎥\n",
       "⎢1    4    15    56     210      792  ⎥\n",
       "⎢                                     ⎥\n",
       "⎢2   15    84    420    1980    9009  ⎥\n",
       "⎢                                     ⎥\n",
       "⎢5   56   420   2640   15015    80080 ⎥\n",
       "⎢                                     ⎥\n",
       "⎢14  210  1980  15015  100100  612612 ⎥\n",
       "⎢                                     ⎥\n",
       "⎣42  792  9009  80080  612612  4232592⎦"
      ]
     },
     "execution_count": 43,
     "metadata": {},
     "output_type": "execute_result"
    }
   ],
   "source": [
    "dim = 6\n",
    "\n",
    "@lru_cache(maxsize=None)\n",
    "def col(j):\n",
    "    return s.coeff(x,j).simplify().series(y,n=dim)\n",
    "\n",
    "Matrix(dim, dim, lambda i,j: ys[i].coeff(y,j))"
   ]
  },
  {
   "cell_type": "code",
   "execution_count": 45,
   "metadata": {
    "collapsed": false,
    "deletable": true,
    "editable": true
   },
   "outputs": [
    {
     "data": {
      "image/png": "[encoded data removed]",
      "text/latex": [
       "$$\\times{\\left ({w}_{1},{w}_{0},{w}_{2},x \\right )} = \\left(x {w}_{0} + 1\\right) \\left(x {w}_{1} + 1\\right) \\left(x {w}_{2} + 1\\right)$$"
      ],
      "text/plain": [
       "\\times(w[1], w[0], w[2], x) = (x⋅w[0] + 1)⋅(x⋅w[1] + 1)⋅(x⋅w[2] + 1)"
      ]
     },
     "execution_count": 45,
     "metadata": {},
     "output_type": "execute_result"
    }
   ],
   "source": [
    "occupancy = cp(*[unit() | var(w[i]*x) for i in range(3)]).gf()\n",
    "occupancy"
   ]
  },
  {
   "cell_type": "code",
   "execution_count": 48,
   "metadata": {
    "collapsed": false,
    "deletable": true,
    "editable": true
   },
   "outputs": [
    {
     "data": {
      "image/png": "[encoded data removed]",
      "text/latex": [
       "$$x^{3} {w}_{0} {w}_{1} {w}_{2} + x^{2} \\left({w}_{0} {w}_{1} + {w}_{0} {w}_{2} + {w}_{1} {w}_{2}\\right) + x \\left({w}_{0} + {w}_{1} + {w}_{2}\\right) + 1$$"
      ],
      "text/plain": [
       " 3                   2                                                        \n",
       "x ⋅w[0]⋅w[1]⋅w[2] + x ⋅(w[0]⋅w[1] + w[0]⋅w[2] + w[1]⋅w[2]) + x⋅(w[0] + w[1] + \n",
       "\n",
       "         \n",
       "w[2]) + 1"
      ]
     },
     "execution_count": 48,
     "metadata": {},
     "output_type": "execute_result"
    }
   ],
   "source": [
    "occupancy.rhs.series(x)"
   ]
  },
  {
   "cell_type": "code",
   "execution_count": 50,
   "metadata": {
    "collapsed": false,
    "deletable": true,
    "editable": true
   },
   "outputs": [
    {
     "data": {
      "image/png": "[encoded data removed]",
      "text/latex": [
       "$$x^{3} + 3 x^{2} + 3 x + 1$$"
      ],
      "text/plain": [
       " 3      2          \n",
       "x  + 3⋅x  + 3⋅x + 1"
      ]
     },
     "execution_count": 50,
     "metadata": {},
     "output_type": "execute_result"
    }
   ],
   "source": [
    "with lift_to_Lambda(occupancy) as O:\n",
    "    o = O(1,1,1,x)\n",
    "o.series(x)"
   ]
  },
  {
   "cell_type": "code",
   "execution_count": 51,
   "metadata": {
    "collapsed": false,
    "deletable": true,
    "editable": true
   },
   "outputs": [
    {
     "data": {
      "image/png": "[encoded data removed]",
      "text/latex": [
       "$$\\times{\\left ({w}_{1},{w}_{0},{w}_{2},x \\right )} = - \\frac{1}{\\left(x {w}_{0} - 1\\right) \\left(x {w}_{1} - 1\\right) \\left(x {w}_{2} - 1\\right)}$$"
      ],
      "text/plain": [
       "                                               -1                   \n",
       "\\times(w[1], w[0], w[2], x) = ──────────────────────────────────────\n",
       "                              (x⋅w[0] - 1)⋅(x⋅w[1] - 1)⋅(x⋅w[2] - 1)"
      ]
     },
     "execution_count": 51,
     "metadata": {},
     "output_type": "execute_result"
    }
   ],
   "source": [
    "occupancy = cp(*[lst(var(w[i]*x)) for i in range(3)]).gf()\n",
    "occupancy"
   ]
  },
  {
   "cell_type": "code",
   "execution_count": 52,
   "metadata": {
    "collapsed": false,
    "deletable": true,
    "editable": true
   },
   "outputs": [
    {
     "data": {
      "image/png": "[encoded data removed]",
      "text/latex": [
       "$$1 + x \\left({w}_{0} + {w}_{1} + {w}_{2}\\right) + x^{2} \\left({w}_{0}^{2} + {w}_{0} {w}_{1} + {w}_{0} {w}_{2} + {w}_{1}^{2} + {w}_{1} {w}_{2} + {w}_{2}^{2}\\right) + x^{3} \\left({w}_{0}^{3} + {w}_{0}^{2} {w}_{1} + {w}_{0}^{2} {w}_{2} + {w}_{0} {w}_{1}^{2} + {w}_{0} {w}_{1} {w}_{2} + {w}_{0} {w}_{2}^{2} + {w}_{1}^{3} + {w}_{1}^{2} {w}_{2} + {w}_{1} {w}_{2}^{2} + {w}_{2}^{3}\\right) + x^{4} \\left({w}_{0}^{4} + {w}_{0}^{3} {w}_{1} + {w}_{0}^{3} {w}_{2} + {w}_{0}^{2} {w}_{1}^{2} + {w}_{0}^{2} {w}_{1} {w}_{2} + {w}_{0}^{2} {w}_{2}^{2} + {w}_{0} {w}_{1}^{3} + {w}_{0} {w}_{1}^{2} {w}_{2} + {w}_{0} {w}_{1} {w}_{2}^{2} + {w}_{0} {w}_{2}^{3} + {w}_{1}^{4} + {w}_{1}^{3} {w}_{2} + {w}_{1}^{2} {w}_{2}^{2} + {w}_{1} {w}_{2}^{3} + {w}_{2}^{4}\\right) + x^{5} \\left({w}_{0}^{5} + {w}_{0}^{4} {w}_{1} + {w}_{0}^{4} {w}_{2} + {w}_{0}^{3} {w}_{1}^{2} + {w}_{0}^{3} {w}_{1} {w}_{2} + {w}_{0}^{3} {w}_{2}^{2} + {w}_{0}^{2} {w}_{1}^{3} + {w}_{0}^{2} {w}_{1}^{2} {w}_{2} + {w}_{0}^{2} {w}_{1} {w}_{2}^{2} + {w}_{0}^{2} {w}_{2}^{3} + {w}_{0} {w}_{1}^{4} + {w}_{0} {w}_{1}^{3} {w}_{2} + {w}_{0} {w}_{1}^{2} {w}_{2}^{2} + {w}_{0} {w}_{1} {w}_{2}^{3} + {w}_{0} {w}_{2}^{4} + {w}_{1}^{5} + {w}_{1}^{4} {w}_{2} + {w}_{1}^{3} {w}_{2}^{2} + {w}_{1}^{2} {w}_{2}^{3} + {w}_{1} {w}_{2}^{4} + {w}_{2}^{5}\\right) + O\\left(x^{6}\\right)$$"
      ],
      "text/plain": [
       "                              2 ⎛    2                               2        \n",
       "1 + x⋅(w[0] + w[1] + w[2]) + x ⋅⎝w[0]  + w[0]⋅w[1] + w[0]⋅w[2] + w[1]  + w[1]⋅\n",
       "\n",
       "           2⎞    3 ⎛    3       2            2                 2              \n",
       "w[2] + w[2] ⎠ + x ⋅⎝w[0]  + w[0] ⋅w[1] + w[0] ⋅w[2] + w[0]⋅w[1]  + w[0]⋅w[1]⋅w\n",
       "\n",
       "               2       3       2                 2       3⎞    4 ⎛    4       \n",
       "[2] + w[0]⋅w[2]  + w[1]  + w[1] ⋅w[2] + w[1]⋅w[2]  + w[2] ⎠ + x ⋅⎝w[0]  + w[0]\n",
       "\n",
       "3            3            2     2       2                 2     2            3\n",
       " ⋅w[1] + w[0] ⋅w[2] + w[0] ⋅w[1]  + w[0] ⋅w[1]⋅w[2] + w[0] ⋅w[2]  + w[0]⋅w[1] \n",
       "\n",
       "            2                      2            3       4       3            2\n",
       " + w[0]⋅w[1] ⋅w[2] + w[0]⋅w[1]⋅w[2]  + w[0]⋅w[2]  + w[1]  + w[1] ⋅w[2] + w[1] \n",
       "\n",
       "     2            3       4⎞    5 ⎛    5       4            4            3    \n",
       "⋅w[2]  + w[1]⋅w[2]  + w[2] ⎠ + x ⋅⎝w[0]  + w[0] ⋅w[1] + w[0] ⋅w[2] + w[0] ⋅w[1\n",
       "\n",
       " 2       3                 3     2       2     3       2     2            2   \n",
       "]  + w[0] ⋅w[1]⋅w[2] + w[0] ⋅w[2]  + w[0] ⋅w[1]  + w[0] ⋅w[1] ⋅w[2] + w[0] ⋅w[\n",
       "\n",
       "       2       2     3            4            3                 2     2      \n",
       "1]⋅w[2]  + w[0] ⋅w[2]  + w[0]⋅w[1]  + w[0]⋅w[1] ⋅w[2] + w[0]⋅w[1] ⋅w[2]  + w[0\n",
       "\n",
       "           3            4       5       4            3     2       2     3    \n",
       "]⋅w[1]⋅w[2]  + w[0]⋅w[2]  + w[1]  + w[1] ⋅w[2] + w[1] ⋅w[2]  + w[1] ⋅w[2]  + w\n",
       "\n",
       "        4       5⎞    ⎛ 6⎞\n",
       "[1]⋅w[2]  + w[2] ⎠ + O⎝x ⎠"
      ]
     },
     "execution_count": 52,
     "metadata": {},
     "output_type": "execute_result"
    }
   ],
   "source": [
    "occupancy.rhs.series(x)"
   ]
  },
  {
   "cell_type": "code",
   "execution_count": 53,
   "metadata": {
    "collapsed": false,
    "deletable": true,
    "editable": true
   },
   "outputs": [
    {
     "data": {
      "image/png": "[encoded data removed]",
      "text/latex": [
       "$$\\mathcal{L}{\\left ({w}_{1},{w}_{0},{w}_{3},{w}_{2},x \\right )} = - \\frac{1}{x {w}_{0} + x {w}_{1} + x {w}_{2} + x {w}_{3} - 1}$$"
      ],
      "text/plain": [
       "                                                          -1                  \n",
       "\\mathcal{L}(w[1], w[0], w[3], w[2], x) = ─────────────────────────────────────\n",
       "                                         x⋅w[0] + x⋅w[1] + x⋅w[2] + x⋅w[3] - 1"
      ]
     },
     "execution_count": 53,
     "metadata": {},
     "output_type": "execute_result"
    }
   ],
   "source": [
    "occupancy = lst(var(w[0]*x) | var(w[1]*x) | var(w[2]*x) | var(w[3]*x)).gf()\n",
    "occupancy"
   ]
  },
  {
   "cell_type": "code",
   "execution_count": 54,
   "metadata": {
    "collapsed": false,
    "deletable": true,
    "editable": true
   },
   "outputs": [
    {
     "data": {
      "image/png": "[encoded data removed]",
      "text/latex": [
       "$$1 + x \\left({w}_{0} + {w}_{1} + {w}_{2} + {w}_{3}\\right) + x^{2} \\left({w}_{0}^{2} + 2 {w}_{0} {w}_{1} + 2 {w}_{0} {w}_{2} + 2 {w}_{0} {w}_{3} + {w}_{1}^{2} + 2 {w}_{1} {w}_{2} + 2 {w}_{1} {w}_{3} + {w}_{2}^{2} + 2 {w}_{2} {w}_{3} + {w}_{3}^{2}\\right) + x^{3} \\left({w}_{0}^{3} + 3 {w}_{0}^{2} {w}_{1} + 3 {w}_{0}^{2} {w}_{2} + 3 {w}_{0}^{2} {w}_{3} + 3 {w}_{0} {w}_{1}^{2} + 6 {w}_{0} {w}_{1} {w}_{2} + 6 {w}_{0} {w}_{1} {w}_{3} + 3 {w}_{0} {w}_{2}^{2} + 6 {w}_{0} {w}_{2} {w}_{3} + 3 {w}_{0} {w}_{3}^{2} + {w}_{1}^{3} + 3 {w}_{1}^{2} {w}_{2} + 3 {w}_{1}^{2} {w}_{3} + 3 {w}_{1} {w}_{2}^{2} + 6 {w}_{1} {w}_{2} {w}_{3} + 3 {w}_{1} {w}_{3}^{2} + {w}_{2}^{3} + 3 {w}_{2}^{2} {w}_{3} + 3 {w}_{2} {w}_{3}^{2} + {w}_{3}^{3}\\right) + x^{4} \\left({w}_{0}^{4} + 4 {w}_{0}^{3} {w}_{1} + 4 {w}_{0}^{3} {w}_{2} + 4 {w}_{0}^{3} {w}_{3} + 6 {w}_{0}^{2} {w}_{1}^{2} + 12 {w}_{0}^{2} {w}_{1} {w}_{2} + 12 {w}_{0}^{2} {w}_{1} {w}_{3} + 6 {w}_{0}^{2} {w}_{2}^{2} + 12 {w}_{0}^{2} {w}_{2} {w}_{3} + 6 {w}_{0}^{2} {w}_{3}^{2} + 4 {w}_{0} {w}_{1}^{3} + 12 {w}_{0} {w}_{1}^{2} {w}_{2} + 12 {w}_{0} {w}_{1}^{2} {w}_{3} + 12 {w}_{0} {w}_{1} {w}_{2}^{2} + 24 {w}_{0} {w}_{1} {w}_{2} {w}_{3} + 12 {w}_{0} {w}_{1} {w}_{3}^{2} + 4 {w}_{0} {w}_{2}^{3} + 12 {w}_{0} {w}_{2}^{2} {w}_{3} + 12 {w}_{0} {w}_{2} {w}_{3}^{2} + 4 {w}_{0} {w}_{3}^{3} + {w}_{1}^{4} + 4 {w}_{1}^{3} {w}_{2} + 4 {w}_{1}^{3} {w}_{3} + 6 {w}_{1}^{2} {w}_{2}^{2} + 12 {w}_{1}^{2} {w}_{2} {w}_{3} + 6 {w}_{1}^{2} {w}_{3}^{2} + 4 {w}_{1} {w}_{2}^{3} + 12 {w}_{1} {w}_{2}^{2} {w}_{3} + 12 {w}_{1} {w}_{2} {w}_{3}^{2} + 4 {w}_{1} {w}_{3}^{3} + {w}_{2}^{4} + 4 {w}_{2}^{3} {w}_{3} + 6 {w}_{2}^{2} {w}_{3}^{2} + 4 {w}_{2} {w}_{3}^{3} + {w}_{3}^{4}\\right) + x^{5} \\left({w}_{0}^{5} + 5 {w}_{0}^{4} {w}_{1} + 5 {w}_{0}^{4} {w}_{2} + 5 {w}_{0}^{4} {w}_{3} + 10 {w}_{0}^{3} {w}_{1}^{2} + 20 {w}_{0}^{3} {w}_{1} {w}_{2} + 20 {w}_{0}^{3} {w}_{1} {w}_{3} + 10 {w}_{0}^{3} {w}_{2}^{2} + 20 {w}_{0}^{3} {w}_{2} {w}_{3} + 10 {w}_{0}^{3} {w}_{3}^{2} + 10 {w}_{0}^{2} {w}_{1}^{3} + 30 {w}_{0}^{2} {w}_{1}^{2} {w}_{2} + 30 {w}_{0}^{2} {w}_{1}^{2} {w}_{3} + 30 {w}_{0}^{2} {w}_{1} {w}_{2}^{2} + 60 {w}_{0}^{2} {w}_{1} {w}_{2} {w}_{3} + 30 {w}_{0}^{2} {w}_{1} {w}_{3}^{2} + 10 {w}_{0}^{2} {w}_{2}^{3} + 30 {w}_{0}^{2} {w}_{2}^{2} {w}_{3} + 30 {w}_{0}^{2} {w}_{2} {w}_{3}^{2} + 10 {w}_{0}^{2} {w}_{3}^{3} + 5 {w}_{0} {w}_{1}^{4} + 20 {w}_{0} {w}_{1}^{3} {w}_{2} + 20 {w}_{0} {w}_{1}^{3} {w}_{3} + 30 {w}_{0} {w}_{1}^{2} {w}_{2}^{2} + 60 {w}_{0} {w}_{1}^{2} {w}_{2} {w}_{3} + 30 {w}_{0} {w}_{1}^{2} {w}_{3}^{2} + 20 {w}_{0} {w}_{1} {w}_{2}^{3} + 60 {w}_{0} {w}_{1} {w}_{2}^{2} {w}_{3} + 60 {w}_{0} {w}_{1} {w}_{2} {w}_{3}^{2} + 20 {w}_{0} {w}_{1} {w}_{3}^{3} + 5 {w}_{0} {w}_{2}^{4} + 20 {w}_{0} {w}_{2}^{3} {w}_{3} + 30 {w}_{0} {w}_{2}^{2} {w}_{3}^{2} + 20 {w}_{0} {w}_{2} {w}_{3}^{3} + 5 {w}_{0} {w}_{3}^{4} + {w}_{1}^{5} + 5 {w}_{1}^{4} {w}_{2} + 5 {w}_{1}^{4} {w}_{3} + 10 {w}_{1}^{3} {w}_{2}^{2} + 20 {w}_{1}^{3} {w}_{2} {w}_{3} + 10 {w}_{1}^{3} {w}_{3}^{2} + 10 {w}_{1}^{2} {w}_{2}^{3} + 30 {w}_{1}^{2} {w}_{2}^{2} {w}_{3} + 30 {w}_{1}^{2} {w}_{2} {w}_{3}^{2} + 10 {w}_{1}^{2} {w}_{3}^{3} + 5 {w}_{1} {w}_{2}^{4} + 20 {w}_{1} {w}_{2}^{3} {w}_{3} + 30 {w}_{1} {w}_{2}^{2} {w}_{3}^{2} + 20 {w}_{1} {w}_{2} {w}_{3}^{3} + 5 {w}_{1} {w}_{3}^{4} + {w}_{2}^{5} + 5 {w}_{2}^{4} {w}_{3} + 10 {w}_{2}^{3} {w}_{3}^{2} + 10 {w}_{2}^{2} {w}_{3}^{3} + 5 {w}_{2} {w}_{3}^{4} + {w}_{3}^{5}\\right) + O\\left(x^{6}\\right)$$"
      ],
      "text/plain": [
       "                                     2 ⎛    2                                 \n",
       "1 + x⋅(w[0] + w[1] + w[2] + w[3]) + x ⋅⎝w[0]  + 2⋅w[0]⋅w[1] + 2⋅w[0]⋅w[2] + 2⋅\n",
       "\n",
       "                2                                   2                     2⎞  \n",
       "w[0]⋅w[3] + w[1]  + 2⋅w[1]⋅w[2] + 2⋅w[1]⋅w[3] + w[2]  + 2⋅w[2]⋅w[3] + w[3] ⎠ +\n",
       "\n",
       "  3 ⎛    3         2              2              2                   2        \n",
       " x ⋅⎝w[0]  + 3⋅w[0] ⋅w[1] + 3⋅w[0] ⋅w[2] + 3⋅w[0] ⋅w[3] + 3⋅w[0]⋅w[1]  + 6⋅w[0\n",
       "\n",
       "                                            2                                 \n",
       "]⋅w[1]⋅w[2] + 6⋅w[0]⋅w[1]⋅w[3] + 3⋅w[0]⋅w[2]  + 6⋅w[0]⋅w[2]⋅w[3] + 3⋅w[0]⋅w[3]\n",
       "\n",
       "2       3         2              2                   2                        \n",
       "  + w[1]  + 3⋅w[1] ⋅w[2] + 3⋅w[1] ⋅w[3] + 3⋅w[1]⋅w[2]  + 6⋅w[1]⋅w[2]⋅w[3] + 3⋅\n",
       "\n",
       "         2       3         2                   2       3⎞    4 ⎛    4         \n",
       "w[1]⋅w[3]  + w[2]  + 3⋅w[2] ⋅w[3] + 3⋅w[2]⋅w[3]  + w[3] ⎠ + x ⋅⎝w[0]  + 4⋅w[0]\n",
       "\n",
       "3              3              3              2     2          2               \n",
       " ⋅w[1] + 4⋅w[0] ⋅w[2] + 4⋅w[0] ⋅w[3] + 6⋅w[0] ⋅w[1]  + 12⋅w[0] ⋅w[1]⋅w[2] + 12\n",
       "\n",
       "     2                   2     2          2                   2     2         \n",
       "⋅w[0] ⋅w[1]⋅w[3] + 6⋅w[0] ⋅w[2]  + 12⋅w[0] ⋅w[2]⋅w[3] + 6⋅w[0] ⋅w[3]  + 4⋅w[0]\n",
       "\n",
       "     3               2                    2                         2         \n",
       "⋅w[1]  + 12⋅w[0]⋅w[1] ⋅w[2] + 12⋅w[0]⋅w[1] ⋅w[3] + 12⋅w[0]⋅w[1]⋅w[2]  + 24⋅w[0\n",
       "\n",
       "                                    2              3               2          \n",
       "]⋅w[1]⋅w[2]⋅w[3] + 12⋅w[0]⋅w[1]⋅w[3]  + 4⋅w[0]⋅w[2]  + 12⋅w[0]⋅w[2] ⋅w[3] + 12\n",
       "\n",
       "               2              3       4         3              3              \n",
       "⋅w[0]⋅w[2]⋅w[3]  + 4⋅w[0]⋅w[3]  + w[1]  + 4⋅w[1] ⋅w[2] + 4⋅w[1] ⋅w[3] + 6⋅w[1]\n",
       "\n",
       "2     2          2                   2     2              3               2   \n",
       " ⋅w[2]  + 12⋅w[1] ⋅w[2]⋅w[3] + 6⋅w[1] ⋅w[3]  + 4⋅w[1]⋅w[2]  + 12⋅w[1]⋅w[2] ⋅w[\n",
       "\n",
       "                      2              3       4         3              2     2 \n",
       "3] + 12⋅w[1]⋅w[2]⋅w[3]  + 4⋅w[1]⋅w[3]  + w[2]  + 4⋅w[2] ⋅w[3] + 6⋅w[2] ⋅w[3]  \n",
       "\n",
       "             3       4⎞    5 ⎛    5         4              4              4   \n",
       "+ 4⋅w[2]⋅w[3]  + w[3] ⎠ + x ⋅⎝w[0]  + 5⋅w[0] ⋅w[1] + 5⋅w[0] ⋅w[2] + 5⋅w[0] ⋅w[\n",
       "\n",
       "            3     2          3                    3                    3     2\n",
       "3] + 10⋅w[0] ⋅w[1]  + 20⋅w[0] ⋅w[1]⋅w[2] + 20⋅w[0] ⋅w[1]⋅w[3] + 10⋅w[0] ⋅w[2] \n",
       "\n",
       "          3                    3     2          2     3          2     2      \n",
       " + 20⋅w[0] ⋅w[2]⋅w[3] + 10⋅w[0] ⋅w[3]  + 10⋅w[0] ⋅w[1]  + 30⋅w[0] ⋅w[1] ⋅w[2] \n",
       "\n",
       "         2     2               2          2          2                        \n",
       "+ 30⋅w[0] ⋅w[1] ⋅w[3] + 30⋅w[0] ⋅w[1]⋅w[2]  + 60⋅w[0] ⋅w[1]⋅w[2]⋅w[3] + 30⋅w[0\n",
       "\n",
       " 2          2          2     3          2     2               2          2    \n",
       "] ⋅w[1]⋅w[3]  + 10⋅w[0] ⋅w[2]  + 30⋅w[0] ⋅w[2] ⋅w[3] + 30⋅w[0] ⋅w[2]⋅w[3]  + 1\n",
       "\n",
       "      2     3              4               3                    3             \n",
       "0⋅w[0] ⋅w[3]  + 5⋅w[0]⋅w[1]  + 20⋅w[0]⋅w[1] ⋅w[2] + 20⋅w[0]⋅w[1] ⋅w[3] + 30⋅w[\n",
       "\n",
       "       2     2               2                         2     2                \n",
       "0]⋅w[1] ⋅w[2]  + 60⋅w[0]⋅w[1] ⋅w[2]⋅w[3] + 30⋅w[0]⋅w[1] ⋅w[3]  + 20⋅w[0]⋅w[1]⋅\n",
       "\n",
       "    3                    2                              2                    3\n",
       "w[2]  + 60⋅w[0]⋅w[1]⋅w[2] ⋅w[3] + 60⋅w[0]⋅w[1]⋅w[2]⋅w[3]  + 20⋅w[0]⋅w[1]⋅w[3] \n",
       "\n",
       "              4               3                    2     2                    \n",
       " + 5⋅w[0]⋅w[2]  + 20⋅w[0]⋅w[2] ⋅w[3] + 30⋅w[0]⋅w[2] ⋅w[3]  + 20⋅w[0]⋅w[2]⋅w[3]\n",
       "\n",
       "3              4       5         4              4               3     2       \n",
       "  + 5⋅w[0]⋅w[3]  + w[1]  + 5⋅w[1] ⋅w[2] + 5⋅w[1] ⋅w[3] + 10⋅w[1] ⋅w[2]  + 20⋅w\n",
       "\n",
       "   3                    3     2          2     3          2     2             \n",
       "[1] ⋅w[2]⋅w[3] + 10⋅w[1] ⋅w[3]  + 10⋅w[1] ⋅w[2]  + 30⋅w[1] ⋅w[2] ⋅w[3] + 30⋅w[\n",
       "\n",
       "  2          2          2     3              4               3                \n",
       "1] ⋅w[2]⋅w[3]  + 10⋅w[1] ⋅w[3]  + 5⋅w[1]⋅w[2]  + 20⋅w[1]⋅w[2] ⋅w[3] + 30⋅w[1]⋅\n",
       "\n",
       "    2     2                    3              4       5         4             \n",
       "w[2] ⋅w[3]  + 20⋅w[1]⋅w[2]⋅w[3]  + 5⋅w[1]⋅w[3]  + w[2]  + 5⋅w[2] ⋅w[3] + 10⋅w[\n",
       "\n",
       "  3     2          2     3              4       5⎞    ⎛ 6⎞\n",
       "2] ⋅w[3]  + 10⋅w[2] ⋅w[3]  + 5⋅w[2]⋅w[3]  + w[3] ⎠ + O⎝x ⎠"
      ]
     },
     "execution_count": 54,
     "metadata": {},
     "output_type": "execute_result"
    }
   ],
   "source": [
    "occupancy.rhs.series(x)"
   ]
  },
  {
   "cell_type": "code",
   "execution_count": 57,
   "metadata": {
    "collapsed": true,
    "deletable": true,
    "editable": true
   },
   "outputs": [],
   "source": [
    "class lst_structure_w(rec):\n",
    "         \n",
    "    def definition(self):\n",
    "        alpha, = self.types\n",
    "        me = self.me()\n",
    "        return alpha | (lst(me))\n",
    "    \n",
    "    def label(self):\n",
    "        return r'\\mathcal{L}_{w}' # `_s` stands for \"structure\""
   ]
  },
  {
   "cell_type": "code",
   "execution_count": 61,
   "metadata": {
    "collapsed": false,
    "deletable": true,
    "editable": true
   },
   "outputs": [
    {
     "data": {
      "image/png": "[encoded data removed]",
      "text/latex": [
       "$$\\mathcal{L}_{w}{\\left (\\alpha \\right )} = \\frac{\\alpha}{2} - \\frac{\\sqrt{\\left(\\alpha - 3\\right) \\left(\\alpha + 1\\right)}}{2} + \\frac{1}{2}$$"
      ],
      "text/plain": [
       "                                     ___________________________    \n",
       "                          \\alpha   ╲╱ (\\alpha - 3)⋅(\\alpha + 1)    1\n",
       "\\mathcal{L}_{w}(\\alpha) = ────── - ───────────────────────────── + ─\n",
       "                            2                    2                 2"
      ]
     },
     "execution_count": 61,
     "metadata": {},
     "output_type": "execute_result"
    }
   ],
   "source": [
    "lst_structure_w(var(alpha)).gf(constraints={})"
   ]
  },
  {
   "cell_type": "code",
   "execution_count": 62,
   "metadata": {
    "collapsed": false,
    "deletable": true,
    "editable": true
   },
   "outputs": [
    {
     "data": {
      "image/png": "[encoded data removed]",
      "text/latex": [
       "$$- \\frac{\\sqrt{3} i}{2} + \\frac{1}{2} + \\alpha \\left(\\frac{1}{2} - \\frac{\\sqrt{3} i}{6}\\right) + \\frac{\\sqrt{3} i \\alpha^{2}}{9} - \\frac{\\sqrt{3} i \\alpha^{3}}{27} + \\frac{2 \\sqrt{3} i \\alpha^{4}}{81} - \\frac{4 \\sqrt{3} i \\alpha^{5}}{243} + O\\left(\\alpha^{6}\\right)$$"
      ],
      "text/plain": [
       "                                            2              3                4 \n",
       "  √3⋅ⅈ   1          ⎛1   √3⋅ⅈ⎞   √3⋅ⅈ⋅\\alpha    √3⋅ⅈ⋅\\alpha    2⋅√3⋅ⅈ⋅\\alpha  \n",
       "- ──── + ─ + \\alpha⋅⎜─ - ────⎟ + ──────────── - ──────────── + ────────────── \n",
       "   2     2          ⎝2    6  ⎠        9              27              81       \n",
       "\n",
       "               5             \n",
       "  4⋅√3⋅ⅈ⋅\\alpha     ⎛      6⎞\n",
       "- ────────────── + O⎝\\alpha ⎠\n",
       "       243                   "
      ]
     },
     "execution_count": 62,
     "metadata": {},
     "output_type": "execute_result"
    }
   ],
   "source": [
    "_.rhs.series(alpha)"
   ]
  },
  {
   "cell_type": "code",
   "execution_count": 70,
   "metadata": {
    "collapsed": true,
    "deletable": true,
    "editable": true
   },
   "outputs": [],
   "source": [
    "class lst_structure(rec):\n",
    "         \n",
    "    def definition(self):\n",
    "        alpha, = self.types\n",
    "        me = self.me()\n",
    "        return alpha | (lst(me) * me * me)\n",
    "    \n",
    "    def label(self):\n",
    "        return r'\\mathcal{L}_{s}' # `_s` stands for \"structure\""
   ]
  },
  {
   "cell_type": "code",
   "execution_count": 71,
   "metadata": {
    "collapsed": false,
    "deletable": true,
    "editable": true
   },
   "outputs": [
    {
     "data": {
      "image/png": "[encoded data removed]",
      "text/latex": [
       "$$\\mathcal{L}_{s}{\\left (\\alpha \\right )} = \\frac{\\alpha}{4} - \\frac{\\sqrt{\\alpha^{2} - 6 \\alpha + 1}}{4} + \\frac{1}{4}$$"
      ],
      "text/plain": [
       "                                      ________________________    \n",
       "                                     ╱       2                    \n",
       "                          \\alpha   ╲╱  \\alpha  - 6⋅\\alpha + 1    1\n",
       "\\mathcal{L}_{s}(\\alpha) = ────── - ─────────────────────────── + ─\n",
       "                            4                   4                4"
      ]
     },
     "execution_count": 71,
     "metadata": {},
     "output_type": "execute_result"
    }
   ],
   "source": [
    "lst_structure(var(alpha)).gf(constraints={})"
   ]
  },
  {
   "cell_type": "code",
   "execution_count": 72,
   "metadata": {
    "collapsed": false,
    "deletable": true,
    "editable": true
   },
   "outputs": [
    {
     "data": {
      "image/png": "[encoded data removed]",
      "text/latex": [
       "$$\\alpha + \\alpha^{2} + 3 \\alpha^{3} + 11 \\alpha^{4} + 45 \\alpha^{5} + 197 \\alpha^{6} + 903 \\alpha^{7} + 4279 \\alpha^{8} + 20793 \\alpha^{9} + O\\left(\\alpha^{10}\\right)$$"
      ],
      "text/plain": [
       "               2           3            4            5             6          \n",
       "\\alpha + \\alpha  + 3⋅\\alpha  + 11⋅\\alpha  + 45⋅\\alpha  + 197⋅\\alpha  + 903⋅\\al\n",
       "\n",
       "   7              8               9    ⎛      10⎞\n",
       "pha  + 4279⋅\\alpha  + 20793⋅\\alpha  + O⎝\\alpha  ⎠"
      ]
     },
     "execution_count": 72,
     "metadata": {},
     "output_type": "execute_result"
    }
   ],
   "source": [
    "_.rhs.series(alpha, n=10)"
   ]
  },
  {
   "cell_type": "code",
   "execution_count": 73,
   "metadata": {
    "collapsed": true,
    "deletable": true,
    "editable": true
   },
   "outputs": [],
   "source": [
    "class nnlst_structure(rec):\n",
    "         \n",
    "    def definition(self):\n",
    "        alpha, = self.types\n",
    "        me = self.me()\n",
    "        return alpha * lst(nnlst(me))\n",
    "    \n",
    "    def label(self):\n",
    "        return r'\\mathcal{L}_{s}^{+}' # `_s` stands for \"structure\""
   ]
  },
  {
   "cell_type": "code",
   "execution_count": 76,
   "metadata": {
    "collapsed": false,
    "deletable": true,
    "editable": true
   },
   "outputs": [
    {
     "data": {
      "image/png": "[encoded data removed]",
      "text/latex": [
       "$$\\mathcal{L}_{s}^{+}{\\left (\\alpha \\right )} = \\frac{\\alpha}{4} - \\frac{\\sqrt{\\alpha^{2} - 6 \\alpha + 1}}{4} + \\frac{1}{4}$$"
      ],
      "text/plain": [
       "                                           ________________________    \n",
       "                                          ╱       2                    \n",
       "                               \\alpha   ╲╱  \\alpha  - 6⋅\\alpha + 1    1\n",
       "\\mathcal{L}_{s}__{+}(\\alpha) = ────── - ─────────────────────────── + ─\n",
       "                                 4                   4                4"
      ]
     },
     "execution_count": 76,
     "metadata": {},
     "output_type": "execute_result"
    }
   ],
   "source": [
    "nnlst_structure(var(alpha)).gf(constraints={})"
   ]
  },
  {
   "cell_type": "code",
   "execution_count": 77,
   "metadata": {
    "collapsed": false,
    "deletable": true,
    "editable": true
   },
   "outputs": [
    {
     "data": {
      "image/png": "[encoded data removed]",
      "text/latex": [
       "$$\\alpha + \\alpha^{2} + 3 \\alpha^{3} + 11 \\alpha^{4} + 45 \\alpha^{5} + 197 \\alpha^{6} + 903 \\alpha^{7} + 4279 \\alpha^{8} + 20793 \\alpha^{9} + O\\left(\\alpha^{10}\\right)$$"
      ],
      "text/plain": [
       "               2           3            4            5             6          \n",
       "\\alpha + \\alpha  + 3⋅\\alpha  + 11⋅\\alpha  + 45⋅\\alpha  + 197⋅\\alpha  + 903⋅\\al\n",
       "\n",
       "   7              8               9    ⎛      10⎞\n",
       "pha  + 4279⋅\\alpha  + 20793⋅\\alpha  + O⎝\\alpha  ⎠"
      ]
     },
     "execution_count": 77,
     "metadata": {},
     "output_type": "execute_result"
    }
   ],
   "source": [
    "_.rhs.series(alpha, n=10)"
   ]
  },
  {
   "cell_type": "code",
   "execution_count": 78,
   "metadata": {
    "collapsed": true,
    "deletable": true,
    "editable": true
   },
   "outputs": [],
   "source": [
    "class tree(rec):\n",
    "         \n",
    "    def definition(self):\n",
    "        alpha, = self.types\n",
    "        return alpha * lst(self.me())\n",
    "    \n",
    "    def label(self):\n",
    "        return r'\\mathcal{T}' # `_s` stands for \"structure\""
   ]
  },
  {
   "cell_type": "code",
   "execution_count": 79,
   "metadata": {
    "collapsed": false,
    "deletable": true,
    "editable": true
   },
   "outputs": [
    {
     "data": {
      "image/png": "[encoded data removed]",
      "text/latex": [
       "$$\\mathcal{T}{\\left (\\alpha \\right )} = - \\frac{\\sqrt{- 4 \\alpha + 1}}{2} + \\frac{1}{2}$$"
      ],
      "text/plain": [
       "                          _______________    \n",
       "                        ╲╱ -4⋅\\alpha + 1    1\n",
       "\\mathcal{T}(\\alpha) = - ───────────────── + ─\n",
       "                                2           2"
      ]
     },
     "execution_count": 79,
     "metadata": {},
     "output_type": "execute_result"
    }
   ],
   "source": [
    "tree(var(alpha)).gf(constraints={(0,):0})"
   ]
  },
  {
   "cell_type": "code",
   "execution_count": 80,
   "metadata": {
    "collapsed": false,
    "deletable": true,
    "editable": true
   },
   "outputs": [
    {
     "data": {
      "image/png": "[encoded data removed]",
      "text/latex": [
       "$$\\alpha + \\alpha^{2} + 2 \\alpha^{3} + 5 \\alpha^{4} + 14 \\alpha^{5} + 42 \\alpha^{6} + 132 \\alpha^{7} + 429 \\alpha^{8} + 1430 \\alpha^{9} + O\\left(\\alpha^{10}\\right)$$"
      ],
      "text/plain": [
       "               2           3           4            5            6            \n",
       "\\alpha + \\alpha  + 2⋅\\alpha  + 5⋅\\alpha  + 14⋅\\alpha  + 42⋅\\alpha  + 132⋅\\alph\n",
       "\n",
       " 7             8              9    ⎛      10⎞\n",
       "a  + 429⋅\\alpha  + 1430⋅\\alpha  + O⎝\\alpha  ⎠"
      ]
     },
     "execution_count": 80,
     "metadata": {},
     "output_type": "execute_result"
    }
   ],
   "source": [
    "_.rhs.series(alpha, n=10)"
   ]
  },
  {
   "cell_type": "code",
   "execution_count": 81,
   "metadata": {
    "collapsed": true,
    "deletable": true,
    "editable": true
   },
   "outputs": [],
   "source": [
    "class combination(rec):\n",
    "         \n",
    "    def definition(self):\n",
    "        alpha, = self.types\n",
    "        me = self.me()\n",
    "        return alpha | (me * me)\n",
    "    \n",
    "    def label(self):\n",
    "        return r'\\mathcal{C}' # `_s` stands for \"structure\""
   ]
  },
  {
   "cell_type": "code",
   "execution_count": 82,
   "metadata": {
    "collapsed": false,
    "deletable": true,
    "editable": true
   },
   "outputs": [
    {
     "data": {
      "image/png": "[encoded data removed]",
      "text/latex": [
       "$$\\mathcal{C}{\\left (\\alpha \\right )} = - \\frac{\\sqrt{- 4 \\alpha + 1}}{2} + \\frac{1}{2}$$"
      ],
      "text/plain": [
       "                          _______________    \n",
       "                        ╲╱ -4⋅\\alpha + 1    1\n",
       "\\mathcal{C}(\\alpha) = - ───────────────── + ─\n",
       "                                2           2"
      ]
     },
     "execution_count": 82,
     "metadata": {},
     "output_type": "execute_result"
    }
   ],
   "source": [
    "combination(var(alpha)).gf(constraints={})"
   ]
  },
  {
   "cell_type": "code",
   "execution_count": 83,
   "metadata": {
    "collapsed": false,
    "deletable": true,
    "editable": true
   },
   "outputs": [
    {
     "data": {
      "image/png": "[encoded data removed]",
      "text/latex": [
       "$$\\alpha + \\alpha^{2} + 2 \\alpha^{3} + 5 \\alpha^{4} + 14 \\alpha^{5} + 42 \\alpha^{6} + 132 \\alpha^{7} + 429 \\alpha^{8} + 1430 \\alpha^{9} + O\\left(\\alpha^{10}\\right)$$"
      ],
      "text/plain": [
       "               2           3           4            5            6            \n",
       "\\alpha + \\alpha  + 2⋅\\alpha  + 5⋅\\alpha  + 14⋅\\alpha  + 42⋅\\alpha  + 132⋅\\alph\n",
       "\n",
       " 7             8              9    ⎛      10⎞\n",
       "a  + 429⋅\\alpha  + 1430⋅\\alpha  + O⎝\\alpha  ⎠"
      ]
     },
     "execution_count": 83,
     "metadata": {},
     "output_type": "execute_result"
    }
   ],
   "source": [
    "_.rhs.series(alpha, n=10)"
   ]
  },
  {
   "cell_type": "code",
   "execution_count": 49,
   "metadata": {
    "collapsed": false,
    "deletable": true,
    "editable": true
   },
   "outputs": [],
   "source": [
    "class ab_tree(rec):\n",
    "         \n",
    "    def definition(self):\n",
    "        alpha, beta, = self.types\n",
    "        me = self.me()\n",
    "        return beta | (alpha * me * me)\n",
    "    \n",
    "    def label(self):\n",
    "        return r'\\mathcal{T}_{a,b}' # `_s` stands for \"structure\""
   ]
  },
  {
   "cell_type": "code",
   "execution_count": 53,
   "metadata": {
    "collapsed": false,
    "deletable": true,
    "editable": true
   },
   "outputs": [
    {
     "data": {
      "image/png": "[encoded data removed]",
      "text/latex": [
       "$$\\mathcal{T}_{a,b}{\\left (\\beta,\\alpha \\right )} = \\frac{- \\sqrt{- 4 \\alpha \\beta + 1} + 1}{2 \\alpha}$$"
      ],
      "text/plain": [
       "                                       _____________________    \n",
       "                                   - ╲╱ -4⋅\\alpha⋅\\beta + 1  + 1\n",
       "\\mathcal{T}_{a,b}(\\beta, \\alpha) = ─────────────────────────────\n",
       "                                              2⋅\\alpha          "
      ]
     },
     "execution_count": 53,
     "metadata": {},
     "output_type": "execute_result"
    }
   ],
   "source": [
    "ab_tree_gf = ab_tree(var(alpha), var(beta)).gf(constraints={(0,0):0})\n",
    "ab_tree_gf"
   ]
  },
  {
   "cell_type": "code",
   "execution_count": 58,
   "metadata": {
    "collapsed": false,
    "deletable": true,
    "editable": true
   },
   "outputs": [
    {
     "data": {
      "image/png": "[encoded data removed]",
      "text/latex": [
       "$$\\mathcal{T}_{a,b}{\\left (\\beta,\\alpha \\right )} = 477638700 \\alpha^{18} \\beta^{19} + 129644790 \\alpha^{17} \\beta^{18} + 35357670 \\alpha^{16} \\beta^{17} + 9694845 \\alpha^{15} \\beta^{16} + 2674440 \\alpha^{14} \\beta^{15} + 742900 \\alpha^{13} \\beta^{14} + 208012 \\alpha^{12} \\beta^{13} + 58786 \\alpha^{11} \\beta^{12} + 16796 \\alpha^{10} \\beta^{11} + 4862 \\alpha^{9} \\beta^{10} + 1430 \\alpha^{8} \\beta^{9} + 429 \\alpha^{7} \\beta^{8} + 132 \\alpha^{6} \\beta^{7} + 42 \\alpha^{5} \\beta^{6} + 14 \\alpha^{4} \\beta^{5} + 5 \\alpha^{3} \\beta^{4} + 2 \\alpha^{2} \\beta^{3} + \\alpha \\beta^{2} + \\beta$$"
      ],
      "text/plain": [
       "                                                   18      19                 \n",
       "\\mathcal{T}_{a,b}(\\beta, \\alpha) = 477638700⋅\\alpha  ⋅\\beta   + 129644790⋅\\alp\n",
       "\n",
       "  17      18                  16      17                 15      16           \n",
       "ha  ⋅\\beta   + 35357670⋅\\alpha  ⋅\\beta   + 9694845⋅\\alpha  ⋅\\beta   + 2674440⋅\n",
       "\n",
       "      14      15                13      14                12      13          \n",
       "\\alpha  ⋅\\beta   + 742900⋅\\alpha  ⋅\\beta   + 208012⋅\\alpha  ⋅\\beta   + 58786⋅\\\n",
       "\n",
       "     11      12               10      11              9      10              8\n",
       "alpha  ⋅\\beta   + 16796⋅\\alpha  ⋅\\beta   + 4862⋅\\alpha ⋅\\beta   + 1430⋅\\alpha \n",
       "\n",
       "      9             7      8             6      7            5      6         \n",
       "⋅\\beta  + 429⋅\\alpha ⋅\\beta  + 132⋅\\alpha ⋅\\beta  + 42⋅\\alpha ⋅\\beta  + 14⋅\\al\n",
       "\n",
       "   4      5           3      4           2      3               2        \n",
       "pha ⋅\\beta  + 5⋅\\alpha ⋅\\beta  + 2⋅\\alpha ⋅\\beta  + \\alpha⋅\\beta  + \\beta"
      ]
     },
     "execution_count": 58,
     "metadata": {},
     "output_type": "execute_result"
    }
   ],
   "source": [
    "fab_eq = FEq(ab_tree_gf.lhs, ab_tree_gf.rhs.series(beta, n=20).removeO(), evaluate=False)\n",
    "fab_eq"
   ]
  },
  {
   "cell_type": "code",
   "execution_count": 57,
   "metadata": {
    "collapsed": false,
    "deletable": true,
    "editable": true
   },
   "outputs": [
    {
     "data": {
      "image/png": "[encoded data removed]",
      "text/latex": [
       "$$477638700 x^{37} + 129644790 x^{35} + 35357670 x^{33} + 9694845 x^{31} + 2674440 x^{29} + 742900 x^{27} + 208012 x^{25} + 58786 x^{23} + 16796 x^{21} + 4862 x^{19} + 1430 x^{17} + 429 x^{15} + 132 x^{13} + 42 x^{11} + 14 x^{9} + 5 x^{7} + 2 x^{5} + x^{3} + x$$"
      ],
      "text/plain": [
       "           37              35             33            31            29      \n",
       "477638700⋅x   + 129644790⋅x   + 35357670⋅x   + 9694845⋅x   + 2674440⋅x   + 742\n",
       "\n",
       "     27           25          23          21         19         17        15  \n",
       "900⋅x   + 208012⋅x   + 58786⋅x   + 16796⋅x   + 4862⋅x   + 1430⋅x   + 429⋅x   +\n",
       "\n",
       "      13       11       9      7      5    3    \n",
       " 132⋅x   + 42⋅x   + 14⋅x  + 5⋅x  + 2⋅x  + x  + x"
      ]
     },
     "execution_count": 57,
     "metadata": {},
     "output_type": "execute_result"
    }
   ],
   "source": [
    "fab_eq(x,x)"
   ]
  },
  {
   "cell_type": "code",
   "execution_count": 137,
   "metadata": {
    "collapsed": false,
    "deletable": true,
    "editable": true
   },
   "outputs": [
    {
     "data": {
      "image/png": "[encoded data removed]",
      "text/latex": [
       "$$4862 \\alpha^{10} \\beta^{10} x^{19} + 1430 \\alpha^{9} \\beta^{9} x^{17} + 429 \\alpha^{8} \\beta^{8} x^{15} + 132 \\alpha^{7} \\beta^{7} x^{13} + 42 \\alpha^{6} \\beta^{6} x^{11} + 14 \\alpha^{5} \\beta^{5} x^{9} + 5 \\alpha^{4} \\beta^{4} x^{7} + 2 \\alpha^{3} \\beta^{3} x^{5} + \\alpha^{2} \\beta^{2} x^{3} + \\alpha \\beta x$$"
      ],
      "text/plain": [
       "           10      10  19              9      9  17             8      8  15  \n",
       "4862⋅\\alpha  ⋅\\beta  ⋅x   + 1430⋅\\alpha ⋅\\beta ⋅x   + 429⋅\\alpha ⋅\\beta ⋅x   +\n",
       "\n",
       "           7      7  13            6      6  11            5      5  9        \n",
       " 132⋅\\alpha ⋅\\beta ⋅x   + 42⋅\\alpha ⋅\\beta ⋅x   + 14⋅\\alpha ⋅\\beta ⋅x  + 5⋅\\al\n",
       "\n",
       "   4      4  7           3      3  5         2      2  3                 \n",
       "pha ⋅\\beta ⋅x  + 2⋅\\alpha ⋅\\beta ⋅x  + \\alpha ⋅\\beta ⋅x  + \\alpha⋅\\beta⋅x"
      ]
     },
     "execution_count": 137,
     "metadata": {},
     "output_type": "execute_result"
    }
   ],
   "source": [
    "(_*alpha).expand()"
   ]
  },
  {
   "cell_type": "code",
   "execution_count": 106,
   "metadata": {
    "collapsed": false,
    "deletable": true,
    "editable": true
   },
   "outputs": [
    {
     "data": {
      "image/png": "[encoded data removed]",
      "text/latex": [
       "$$\\left ( 477638700 x^{18} + 129644790 x^{17} + 35357670 x^{16} + 9694845 x^{15} + 2674440 x^{14} + 742900 x^{13} + 208012 x^{12} + 58786 x^{11} + 16796 x^{10} + 4862 x^{9} + 1430 x^{8} + 429 x^{7} + 132 x^{6} + 42 x^{5} + 14 x^{4} + 5 x^{3} + 2 x^{2} + x + 1, \\quad 477638700 x^{19} + 129644790 x^{18} + 35357670 x^{17} + 9694845 x^{16} + 2674440 x^{15} + 742900 x^{14} + 208012 x^{13} + 58786 x^{12} + 16796 x^{11} + 4862 x^{10} + 1430 x^{9} + 429 x^{8} + 132 x^{7} + 42 x^{6} + 14 x^{5} + 5 x^{4} + 2 x^{3} + x^{2} + x\\right )$$"
      ],
      "text/plain": [
       "⎛           18              17             16            15            14     \n",
       "⎝477638700⋅x   + 129644790⋅x   + 35357670⋅x   + 9694845⋅x   + 2674440⋅x   + 74\n",
       "\n",
       "      13           12          11          10         9         8        7    \n",
       "2900⋅x   + 208012⋅x   + 58786⋅x   + 16796⋅x   + 4862⋅x  + 1430⋅x  + 429⋅x  + 1\n",
       "\n",
       "    6       5       4      3      2                     19              18    \n",
       "32⋅x  + 42⋅x  + 14⋅x  + 5⋅x  + 2⋅x  + x + 1, 477638700⋅x   + 129644790⋅x   + 3\n",
       "\n",
       "         17            16            15           14           13          12 \n",
       "5357670⋅x   + 9694845⋅x   + 2674440⋅x   + 742900⋅x   + 208012⋅x   + 58786⋅x   \n",
       "\n",
       "         11         10         9        8        7       6       5      4     \n",
       "+ 16796⋅x   + 4862⋅x   + 1430⋅x  + 429⋅x  + 132⋅x  + 42⋅x  + 14⋅x  + 5⋅x  + 2⋅\n",
       "\n",
       " 3    2    ⎞\n",
       "x  + x  + x⎠"
      ]
     },
     "execution_count": 106,
     "metadata": {},
     "output_type": "execute_result"
    }
   ],
   "source": [
    "#with lift_to_Lambda(fab_eq) as F:\n",
    "B = fab_eq(x,1)\n",
    "A = fab_eq(1,x)\n",
    "A,B,"
   ]
  },
  {
   "cell_type": "code",
   "execution_count": 107,
   "metadata": {
    "collapsed": false
   },
   "outputs": [
    {
     "data": {
      "image/png": "[encoded data removed]",
      "text/latex": [
       "$$955277400 x^{19} + 259289580 x^{18} + 70715340 x^{17} + 19389690 x^{16} + 5348880 x^{15} + 1485800 x^{14} + 416024 x^{13} + 117572 x^{12} + 33592 x^{11} + 9724 x^{10} + 2860 x^{9} + 858 x^{8} + 264 x^{7} + 84 x^{6} + 28 x^{5} + 10 x^{4} + 4 x^{3} + 2 x^{2} + 2 x$$"
      ],
      "text/plain": [
       "           19              18             17             16            15     \n",
       "955277400⋅x   + 259289580⋅x   + 70715340⋅x   + 19389690⋅x   + 5348880⋅x   + 14\n",
       "\n",
       "       14           13           12          11         10         9        8 \n",
       "85800⋅x   + 416024⋅x   + 117572⋅x   + 33592⋅x   + 9724⋅x   + 2860⋅x  + 858⋅x  \n",
       "\n",
       "       7       6       5       4      3      2      \n",
       "+ 264⋅x  + 84⋅x  + 28⋅x  + 10⋅x  + 4⋅x  + 2⋅x  + 2⋅x"
      ]
     },
     "execution_count": 107,
     "metadata": {},
     "output_type": "execute_result"
    }
   ],
   "source": [
    "(x*A+B).expand()"
   ]
  },
  {
   "cell_type": "code",
   "execution_count": 108,
   "metadata": {
    "collapsed": false,
    "deletable": true,
    "editable": true
   },
   "outputs": [
    {
     "data": {
      "image/png": "[encoded data removed]",
      "text/latex": [
       "$$955277400 x^{19} + 259289580 x^{18} + 70715340 x^{17} + 19389690 x^{16} + 5348880 x^{15} + 1485800 x^{14} + 416024 x^{13} + 117572 x^{12} + 33592 x^{11} + 9724 x^{10} + 2860 x^{9} + 858 x^{8} + 264 x^{7} + 84 x^{6} + 28 x^{5} + 10 x^{4} + 4 x^{3} + 2 x^{2} + 2 x$$"
      ],
      "text/plain": [
       "           19              18             17             16            15     \n",
       "955277400⋅x   + 259289580⋅x   + 70715340⋅x   + 19389690⋅x   + 5348880⋅x   + 14\n",
       "\n",
       "       14           13           12          11         10         9        8 \n",
       "85800⋅x   + 416024⋅x   + 117572⋅x   + 33592⋅x   + 9724⋅x   + 2860⋅x  + 858⋅x  \n",
       "\n",
       "       7       6       5       4      3      2      \n",
       "+ 264⋅x  + 84⋅x  + 28⋅x  + 10⋅x  + 4⋅x  + 2⋅x  + 2⋅x"
      ]
     },
     "execution_count": 108,
     "metadata": {},
     "output_type": "execute_result"
    }
   ],
   "source": [
    "(2*x*A).expand()"
   ]
  },
  {
   "cell_type": "markdown",
   "metadata": {
    "deletable": true,
    "editable": true
   },
   "source": [
    "---\n",
    "<a rel=\"license\" href=\"http://creativecommons.org/licenses/by-nc-sa/4.0/\"><img alt=\"Creative Commons License\" style=\"border-width:0\" src=\"https://i.creativecommons.org/l/by-nc-sa/4.0/88x31.png\" /></a><br />This work is licensed under a <a rel=\"license\" href=\"http://creativecommons.org/licenses/by-nc-sa/4.0/\">Creative Commons Attribution-NonCommercial-ShareAlike 4.0 International License</a>."
   ]
  }
 ],
 "metadata": {
  "kernelspec": {
   "display_name": "Python 3",
   "language": "python",
   "name": "python3"
  },
  "language_info": {
   "codemirror_mode": {
    "name": "ipython",
    "version": 3
   },
   "file_extension": ".py",
   "mimetype": "text/x-python",
   "name": "python",
   "nbconvert_exporter": "python",
   "pygments_lexer": "ipython3",
   "version": "3.6.0"
  }
 },
 "nbformat": 4,
 "nbformat_minor": 2
}
