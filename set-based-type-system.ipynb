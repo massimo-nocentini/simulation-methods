{
 "cells": [
  {
   "cell_type": "markdown",
   "metadata": {},
   "source": [
    "<p>\n",
    "<img src=\"http://www.cerm.unifi.it/chianti/images/logo%20unifi_positivo.jpg\" \n",
    "        alt=\"UniFI logo\" style=\"float: left; width: 20%; height: 20%;\">\n",
    "<div align=\"right\">\n",
    "Massimo Nocentini<br>\n",
    "<small>\n",
    "<br>December 3 and 4, 2018: types definitions, gfs\n",
    "</small>\n",
    "</div>\n",
    "</p>\n",
    "<br>\n",
    "<div align=\"center\">\n",
    "<b>Abstract</b><br>\n",
    "In this document we collect a naive <i>type system</i> based on sets.\n",
    "</div>"
   ]
  },
  {
   "cell_type": "code",
   "execution_count": 1,
   "metadata": {},
   "outputs": [],
   "source": [
    "from functools import lru_cache, reduce\n",
    "import operator\n",
    "\n",
    "from sympy import *"
   ]
  },
  {
   "cell_type": "code",
   "execution_count": 3,
   "metadata": {},
   "outputs": [],
   "source": [
    "%run src/commons.py"
   ]
  },
  {
   "cell_type": "markdown",
   "metadata": {},
   "source": [
    "---"
   ]
  },
  {
   "cell_type": "code",
   "execution_count": 2,
   "metadata": {},
   "outputs": [],
   "source": [
    "init_printing()"
   ]
  },
  {
   "cell_type": "code",
   "execution_count": 8,
   "metadata": {},
   "outputs": [],
   "source": [
    "x,y,t,z = symbols('x y t z')\n",
    "alpha, beta, gamma = symbols(r'\\alpha \\beta \\gamma')"
   ]
  },
  {
   "cell_type": "code",
   "execution_count": 126,
   "metadata": {},
   "outputs": [],
   "source": [
    "class ty:\n",
    "    \n",
    "    def __init__(self, *types):\n",
    "        self.types = types # the list of types that I depend on.\n",
    "    \n",
    "    def tyvars(self):\n",
    "        vs = map(operator.methodcaller('tyvars'), self.types)\n",
    "        return reduce(operator.or_, vs, set())\n",
    "    \n",
    "    def label(self):\n",
    "        raise NotImplemented # I'm an abstract type, nameless indeed.\n",
    "    \n",
    "    def gf_lhs(self):\n",
    "        L = Function(self.label())\n",
    "        return L(*self.tyvars())\n",
    "    \n",
    "    def gf(self):\n",
    "        return define(self.gf_lhs(), self.gf_rhs())\n",
    "        \n",
    "    def gf_rhs(self):\n",
    "        return self.definition().gf_rhs()\n",
    "    \n",
    "    def definition(self):\n",
    "        raise NotImplemented\n",
    "    \n",
    "    def __or__(self, other):\n",
    "        return du(self, other)\n",
    "    \n",
    "    def __mul__(self, other):\n",
    "        return cp(self, other)"
   ]
  },
  {
   "cell_type": "code",
   "execution_count": 254,
   "metadata": {},
   "outputs": [],
   "source": [
    "class cp(ty):\n",
    "        \n",
    "    def gf_rhs(self):\n",
    "        R = map(lambda t: t.gf().rhs, self.types)\n",
    "        return reduce(operator.mul, R, 1)\n",
    "        \n",
    "    def label(self):\n",
    "        return r'\\times'"
   ]
  },
  {
   "cell_type": "code",
   "execution_count": 255,
   "metadata": {},
   "outputs": [
    {
     "data": {
      "image/png": "[encoded data removed]",
      "text/latex": [
       "$$\\times{\\left (z,x,y \\right )} = x y z$$"
      ],
      "text/plain": [
       "\\times(z, x, y) = x⋅y⋅z"
      ]
     },
     "execution_count": 255,
     "metadata": {},
     "output_type": "execute_result"
    }
   ],
   "source": [
    "(var(x) * var(y) * var(z)).gf()"
   ]
  },
  {
   "cell_type": "code",
   "execution_count": 256,
   "metadata": {},
   "outputs": [],
   "source": [
    "class du(ty):\n",
    "    \n",
    "    def label(self):\n",
    "        return r'\\cup'\n",
    "            \n",
    "    def gf_rhs(self):\n",
    "        R = map(lambda t: t.gf().rhs, self.types)\n",
    "        return reduce(operator.add, R, 0)"
   ]
  },
  {
   "cell_type": "code",
   "execution_count": 257,
   "metadata": {},
   "outputs": [
    {
     "data": {
      "image/png": "[encoded data removed]",
      "text/latex": [
       "$$\\cup{\\left (z,x,y \\right )} = x + y + z$$"
      ],
      "text/plain": [
       "\\cup(z, x, y) = x + y + z"
      ]
     },
     "execution_count": 257,
     "metadata": {},
     "output_type": "execute_result"
    }
   ],
   "source": [
    "(var(x) | var(y) | var(z)).gf()"
   ]
  },
  {
   "cell_type": "code",
   "execution_count": 202,
   "metadata": {},
   "outputs": [],
   "source": [
    "class var(ty):\n",
    "    \n",
    "    def __init__(self, sym):\n",
    "        self.sym = sym\n",
    "\n",
    "    def label(self):\n",
    "        return self.sym.name\n",
    "        \n",
    "    def gf_lhs(self):\n",
    "        return self.sym\n",
    "        \n",
    "    def gf_rhs(self):\n",
    "        return self.sym\n",
    "    \n",
    "    def tyvars(self):\n",
    "        args = self.sym.args\n",
    "        return set(args) if args else set([self.sym])\n",
    "    \n",
    "class unit(var):\n",
    "    \n",
    "    def __init__(self):\n",
    "        super().__init__(S(1))\n",
    "        \n",
    "    def label(self):\n",
    "        return 'unit'\n",
    "        \n",
    "    def tyvars(self):\n",
    "        return set()"
   ]
  },
  {
   "cell_type": "code",
   "execution_count": 203,
   "metadata": {},
   "outputs": [],
   "source": [
    "boolean = var(x) | var(y)"
   ]
  },
  {
   "cell_type": "code",
   "execution_count": 188,
   "metadata": {},
   "outputs": [],
   "source": [
    "class maybe(ty):\n",
    "    \n",
    "    def alpha(self):\n",
    "        alpha, = self.types\n",
    "        return alpha\n",
    "    \n",
    "    def definition(self):\n",
    "        return unit() | self.alpha()\n",
    "    \n",
    "    def label(self):\n",
    "        return r'\\mathcal{M}'"
   ]
  },
  {
   "cell_type": "code",
   "execution_count": 258,
   "metadata": {},
   "outputs": [
    {
     "data": {
      "image/png": "[encoded data removed]",
      "text/latex": [
       "$$\\mathcal{M}{\\left (\\alpha \\right )} = \\alpha + 1$$"
      ],
      "text/plain": [
       "\\mathcal{M}(\\alpha) = \\alpha + 1"
      ]
     },
     "execution_count": 258,
     "metadata": {},
     "output_type": "execute_result"
    }
   ],
   "source": [
    "maybe(var(alpha)).gf()"
   ]
  },
  {
   "cell_type": "code",
   "execution_count": 323,
   "metadata": {},
   "outputs": [],
   "source": [
    "class rec(ty):\n",
    "    \n",
    "    def me(self):\n",
    "        return var(self.gf_lhs())\n",
    "    \n",
    "    def gf(self, constraints={}):\n",
    "        eq = super().gf()\n",
    "        lhs = self.gf_lhs()\n",
    "        sols = solve(eq, lhs)\n",
    "        #print(sols)\n",
    "        for sol in sols:\n",
    "            for k,v in constraints.items():\n",
    "                with lift_to_Lambda(eq) as feq:\n",
    "                    print(feq(*k).simplify())\n",
    "                    if feq(*k).simplify() != v:\n",
    "                        break\n",
    "            else:  \n",
    "                return Eq(lhs, sol)\n",
    "        raise ValueError"
   ]
  },
  {
   "cell_type": "code",
   "execution_count": 326,
   "metadata": {},
   "outputs": [],
   "source": [
    "class lst(rec):\n",
    "         \n",
    "    def definition(self):\n",
    "        alpha, = self.types\n",
    "        return unit() | (alpha * self.me())\n",
    "    \n",
    "    def label(self):\n",
    "        return r'\\mathcal{L}'"
   ]
  },
  {
   "cell_type": "code",
   "execution_count": 327,
   "metadata": {},
   "outputs": [
    {
     "data": {
      "image/png": "[encoded data removed]",
      "text/latex": [
       "$$\\mathcal{L}{\\left (\\alpha \\right )} = - \\frac{1}{\\alpha - 1}$$"
      ],
      "text/plain": [
       "                         -1     \n",
       "\\mathcal{L}(\\alpha) = ──────────\n",
       "                      \\alpha - 1"
      ]
     },
     "execution_count": 327,
     "metadata": {},
     "output_type": "execute_result"
    }
   ],
   "source": [
    "lst_of_alpha_tyeq = lst(var(alpha)).gf()\n",
    "lst_of_alpha_tyeq"
   ]
  },
  {
   "cell_type": "code",
   "execution_count": 262,
   "metadata": {},
   "outputs": [
    {
     "data": {
      "image/png": "[encoded data removed]",
      "text/latex": [
       "$$1 + \\alpha + \\alpha^{2} + \\alpha^{3} + \\alpha^{4} + \\alpha^{5} + \\alpha^{6} + \\alpha^{7} + \\alpha^{8} + \\alpha^{9} + O\\left(\\alpha^{10}\\right)$$"
      ],
      "text/plain": [
       "                   2         3         4         5         6         7        \n",
       "1 + \\alpha + \\alpha  + \\alpha  + \\alpha  + \\alpha  + \\alpha  + \\alpha  + \\alph\n",
       "\n",
       " 8         9    ⎛      10⎞\n",
       "a  + \\alpha  + O⎝\\alpha  ⎠"
      ]
     },
     "execution_count": 262,
     "metadata": {},
     "output_type": "execute_result"
    }
   ],
   "source": [
    "lst_of_alpha_tyeq.rhs.series(alpha, n=10)"
   ]
  },
  {
   "cell_type": "code",
   "execution_count": 263,
   "metadata": {},
   "outputs": [
    {
     "data": {
      "image/png": "[encoded data removed]",
      "text/latex": [
       "$$\\mathcal{L}{\\left (\\alpha \\right )} = - \\frac{1}{\\alpha}$$"
      ],
      "text/plain": [
       "                       -1   \n",
       "\\mathcal{L}(\\alpha) = ──────\n",
       "                      \\alpha"
      ]
     },
     "execution_count": 263,
     "metadata": {},
     "output_type": "execute_result"
    }
   ],
   "source": [
    "lst_of_maybe_of_alpha_tyeq = lst(maybe(var(alpha))).gf()\n",
    "lst_of_maybe_of_alpha_tyeq"
   ]
  },
  {
   "cell_type": "code",
   "execution_count": 233,
   "metadata": {},
   "outputs": [
    {
     "data": {
      "image/png": "[encoded data removed]",
      "text/latex": [
       "$$\\mathcal{L}{\\left (x,y \\right )} = - \\frac{1}{x + y - 1}$$"
      ],
      "text/plain": [
       "                       -1    \n",
       "\\mathcal{L}(x, y) = ─────────\n",
       "                    x + y - 1"
      ]
     },
     "execution_count": 233,
     "metadata": {},
     "output_type": "execute_result"
    }
   ],
   "source": [
    "lst_of_boolean_tyeq = lst(boolean).gf()\n",
    "lst_of_boolean_tyeq"
   ]
  },
  {
   "cell_type": "code",
   "execution_count": 235,
   "metadata": {},
   "outputs": [
    {
     "data": {
      "image/png": "[encoded data removed]",
      "text/latex": [
       "$$- \\frac{1}{2 x - 1} = 1 + 2 x + 4 x^{2} + 8 x^{3} + 16 x^{4} + 32 x^{5} + 64 x^{6} + 128 x^{7} + 256 x^{8} + 512 x^{9} + O\\left(x^{10}\\right)$$"
      ],
      "text/plain": [
       "  -1                   2      3       4       5       6        7        8     \n",
       "─────── = 1 + 2⋅x + 4⋅x  + 8⋅x  + 16⋅x  + 32⋅x  + 64⋅x  + 128⋅x  + 256⋅x  + 51\n",
       "2⋅x - 1                                                                       \n",
       "\n",
       "   9    ⎛ 10⎞\n",
       "2⋅x  + O⎝x  ⎠\n",
       "             "
      ]
     },
     "execution_count": 235,
     "metadata": {},
     "output_type": "execute_result"
    }
   ],
   "source": [
    "with lift_to_Lambda(lst_of_boolean_tyeq) as L:\n",
    "    l = L(x,x)\n",
    "Eq(l, l.series(x,n=10))"
   ]
  },
  {
   "cell_type": "code",
   "execution_count": 142,
   "metadata": {},
   "outputs": [
    {
     "data": {
      "image/png": "[encoded data removed]",
      "text/latex": [
       "$$- \\frac{1}{y - 1} + \\frac{x}{y^{2} - 2 y + 1} - \\frac{x^{2}}{y^{3} - 3 y^{2} + 3 y - 1} + \\frac{x^{3}}{y^{4} - 4 y^{3} + 6 y^{2} - 4 y + 1} - \\frac{x^{4}}{y^{5} - 5 y^{4} + 10 y^{3} - 10 y^{2} + 5 y - 1} + \\frac{x^{5}}{y^{6} - 6 y^{5} + 15 y^{4} - 20 y^{3} + 15 y^{2} - 6 y + 1} - \\frac{x^{6}}{y^{7} - 7 y^{6} + 21 y^{5} - 35 y^{4} + 35 y^{3} - 21 y^{2} + 7 y - 1} + \\frac{x^{7}}{y^{8} - 8 y^{7} + 28 y^{6} - 56 y^{5} + 70 y^{4} - 56 y^{3} + 28 y^{2} - 8 y + 1} - \\frac{x^{8}}{y^{9} - 9 y^{8} + 36 y^{7} - 84 y^{6} + 126 y^{5} - 126 y^{4} + 84 y^{3} - 36 y^{2} + 9 y - 1} + \\frac{x^{9}}{y^{10} - 10 y^{9} + 45 y^{8} - 120 y^{7} + 210 y^{6} - 252 y^{5} + 210 y^{4} - 120 y^{3} + 45 y^{2} - 10 y + 1} + O\\left(x^{10}\\right)$$"
      ],
      "text/plain": [
       "                                   2                        3                 \n",
       "    1          x                  x                        x                  \n",
       "- ───── + ──────────── - ─────────────────── + ────────────────────────── - ──\n",
       "  y - 1    2              3      2              4      3      2              5\n",
       "          y  - 2⋅y + 1   y  - 3⋅y  + 3⋅y - 1   y  - 4⋅y  + 6⋅y  - 4⋅y + 1   y \n",
       "\n",
       "                4                                         5                   \n",
       "               x                                         x                    \n",
       "───────────────────────────────── + ──────────────────────────────────────────\n",
       "      4       3       2              6      5       4       3       2         \n",
       " - 5⋅y  + 10⋅y  - 10⋅y  + 5⋅y - 1   y  - 6⋅y  + 15⋅y  - 20⋅y  + 15⋅y  - 6⋅y + \n",
       "\n",
       "                              6                                               \n",
       "                             x                                                \n",
       "─ - ─────────────────────────────────────────────────── + ────────────────────\n",
       "     7      6       5       4       3       2              8      7       6   \n",
       "1   y  - 7⋅y  + 21⋅y  - 35⋅y  + 35⋅y  - 21⋅y  + 7⋅y - 1   y  - 8⋅y  + 28⋅y  - \n",
       "\n",
       "          7                                                                  8\n",
       "         x                                                                  x \n",
       "─────────────────────────────────────── - ────────────────────────────────────\n",
       "    5       4       3       2              9      8       7       6        5  \n",
       "56⋅y  + 70⋅y  - 56⋅y  + 28⋅y  - 8⋅y + 1   y  - 9⋅y  + 36⋅y  - 84⋅y  + 126⋅y  -\n",
       "\n",
       "                                                                              \n",
       "                                                                             x\n",
       "───────────────────────────────── + ──────────────────────────────────────────\n",
       "      4       3       2              10       9       8        7        6     \n",
       " 126⋅y  + 84⋅y  - 36⋅y  + 9⋅y - 1   y   - 10⋅y  + 45⋅y  - 120⋅y  + 210⋅y  - 25\n",
       "\n",
       "9                                                 \n",
       "                                             ⎛ 10⎞\n",
       "───────────────────────────────────────── + O⎝x  ⎠\n",
       "   5        4        3       2                    \n",
       "2⋅y  + 210⋅y  - 120⋅y  + 45⋅y  - 10⋅y + 1         "
      ]
     },
     "execution_count": 142,
     "metadata": {},
     "output_type": "execute_result"
    }
   ],
   "source": [
    "s = lst_of_boolean_tyeq.rhs.series(x, n=10)\n",
    "s"
   ]
  },
  {
   "cell_type": "code",
   "execution_count": 121,
   "metadata": {},
   "outputs": [
    {
     "data": {
      "image/png": "[encoded data removed]",
      "text/latex": [
       "$$- \\frac{1}{\\left(y - 1\\right)^{3}} = 1 + 3 y + 6 y^{2} + 10 y^{3} + 15 y^{4} + 21 y^{5} + 28 y^{6} + 36 y^{7} + 45 y^{8} + 55 y^{9} + O\\left(y^{10}\\right)$$"
      ],
      "text/plain": [
       "  -1                    2       3       4       5       6       7       8     \n",
       "──────── = 1 + 3⋅y + 6⋅y  + 10⋅y  + 15⋅y  + 21⋅y  + 28⋅y  + 36⋅y  + 45⋅y  + 55\n",
       "       3                                                                      \n",
       "(y - 1)                                                                       \n",
       "\n",
       "  9    ⎛ 10⎞\n",
       "⋅y  + O⎝y  ⎠\n",
       "            \n",
       "            "
      ]
     },
     "execution_count": 121,
     "metadata": {},
     "output_type": "execute_result"
    }
   ],
   "source": [
    "s2 = s.coeff(x,2).factor()\n",
    "Eq(s2, s2.series(y,n=10))"
   ]
  },
  {
   "cell_type": "code",
   "execution_count": 122,
   "metadata": {},
   "outputs": [
    {
     "data": {
      "image/png": "[encoded data removed]",
      "text/latex": [
       "$$\\left[\\begin{matrix}1 & 1 & 1 & 1 & 1 & 1 & 1 & 1 & 1 & 1\\\\1 & 2 & 3 & 4 & 5 & 6 & 7 & 8 & 9 & 10\\\\1 & 3 & 6 & 10 & 15 & 21 & 28 & 36 & 45 & 55\\\\1 & 4 & 10 & 20 & 35 & 56 & 84 & 120 & 165 & 220\\\\1 & 5 & 15 & 35 & 70 & 126 & 210 & 330 & 495 & 715\\\\1 & 6 & 21 & 56 & 126 & 252 & 462 & 792 & 1287 & 2002\\\\1 & 7 & 28 & 84 & 210 & 462 & 924 & 1716 & 3003 & 5005\\\\1 & 8 & 36 & 120 & 330 & 792 & 1716 & 3432 & 6435 & 11440\\\\1 & 9 & 45 & 165 & 495 & 1287 & 3003 & 6435 & 12870 & 24310\\\\1 & 10 & 55 & 220 & 715 & 2002 & 5005 & 11440 & 24310 & 48620\\end{matrix}\\right]$$"
      ],
      "text/plain": [
       "⎡1  1   1    1    1    1     1      1      1      1  ⎤\n",
       "⎢                                                    ⎥\n",
       "⎢1  2   3    4    5    6     7      8      9     10  ⎥\n",
       "⎢                                                    ⎥\n",
       "⎢1  3   6   10   15    21    28    36     45     55  ⎥\n",
       "⎢                                                    ⎥\n",
       "⎢1  4   10  20   35    56    84    120    165    220 ⎥\n",
       "⎢                                                    ⎥\n",
       "⎢1  5   15  35   70   126   210    330    495    715 ⎥\n",
       "⎢                                                    ⎥\n",
       "⎢1  6   21  56   126  252   462    792   1287   2002 ⎥\n",
       "⎢                                                    ⎥\n",
       "⎢1  7   28  84   210  462   924   1716   3003   5005 ⎥\n",
       "⎢                                                    ⎥\n",
       "⎢1  8   36  120  330  792   1716  3432   6435   11440⎥\n",
       "⎢                                                    ⎥\n",
       "⎢1  9   45  165  495  1287  3003  6435   12870  24310⎥\n",
       "⎢                                                    ⎥\n",
       "⎣1  10  55  220  715  2002  5005  11440  24310  48620⎦"
      ]
     },
     "execution_count": 122,
     "metadata": {},
     "output_type": "execute_result"
    }
   ],
   "source": [
    "@lru_cache(maxsize=None)\n",
    "def col(j):\n",
    "    return lst_of_boolean_tyeq.rhs.series(x,n=dim).coeff(x,j).series(y,n=dim)\n",
    "\n",
    "dim = 10\n",
    "Matrix(dim, dim, lambda i,j: col(j).coeff(y,i))"
   ]
  },
  {
   "cell_type": "code",
   "execution_count": 264,
   "metadata": {},
   "outputs": [],
   "source": [
    "class bin_tree(rec):\n",
    "    \n",
    "    def definition(self):\n",
    "        alpha, = self.types\n",
    "        return unit() | (alpha * self.me() * self.me())\n",
    "    \n",
    "    def label(self):\n",
    "        return r'\\mathcal{B}'"
   ]
  },
  {
   "cell_type": "code",
   "execution_count": 265,
   "metadata": {},
   "outputs": [
    {
     "data": {
      "image/png": "[encoded data removed]",
      "text/latex": [
       "$$\\mathcal{B}{\\left (\\alpha \\right )} = \\frac{- \\sqrt{- 4 \\alpha + 1} + 1}{2 \\alpha}$$"
      ],
      "text/plain": [
       "                          _______________    \n",
       "                      - ╲╱ -4⋅\\alpha + 1  + 1\n",
       "\\mathcal{B}(\\alpha) = ───────────────────────\n",
       "                              2⋅\\alpha       "
      ]
     },
     "execution_count": 265,
     "metadata": {},
     "output_type": "execute_result"
    }
   ],
   "source": [
    "bin_tree_gf = bin_tree(var(alpha)).gf(constraints={(0,):1})\n",
    "bin_tree_gf"
   ]
  },
  {
   "cell_type": "code",
   "execution_count": 266,
   "metadata": {},
   "outputs": [
    {
     "data": {
      "image/png": "[encoded data removed]",
      "text/latex": [
       "$$1 + \\alpha + 2 \\alpha^{2} + 5 \\alpha^{3} + 14 \\alpha^{4} + 42 \\alpha^{5} + 132 \\alpha^{6} + 429 \\alpha^{7} + 1430 \\alpha^{8} + 4862 \\alpha^{9} + O\\left(\\alpha^{10}\\right)$$"
      ],
      "text/plain": [
       "                     2           3            4            5             6    \n",
       "1 + \\alpha + 2⋅\\alpha  + 5⋅\\alpha  + 14⋅\\alpha  + 42⋅\\alpha  + 132⋅\\alpha  + 4\n",
       "\n",
       "         7              8              9    ⎛      10⎞\n",
       "29⋅\\alpha  + 1430⋅\\alpha  + 4862⋅\\alpha  + O⎝\\alpha  ⎠"
      ]
     },
     "execution_count": 266,
     "metadata": {},
     "output_type": "execute_result"
    }
   ],
   "source": [
    "bin_tree_gf.rhs.series(alpha, n=10)"
   ]
  },
  {
   "cell_type": "code",
   "execution_count": 267,
   "metadata": {},
   "outputs": [
    {
     "data": {
      "image/png": "[encoded data removed]",
      "text/latex": [
       "$$\\mathcal{B}{\\left (x,y \\right )} = \\frac{- \\sqrt{- 4 x - 4 y + 1} + 1}{2 \\left(x + y\\right)}$$"
      ],
      "text/plain": [
       "                        ________________    \n",
       "                    - ╲╱ -4⋅x - 4⋅y + 1  + 1\n",
       "\\mathcal{B}(x, y) = ────────────────────────\n",
       "                           2⋅(x + y)        "
      ]
     },
     "execution_count": 267,
     "metadata": {},
     "output_type": "execute_result"
    }
   ],
   "source": [
    "bin_tree_of_boolean = bin_tree(boolean).gf(constraints={(0,0):1})\n",
    "bin_tree_of_boolean"
   ]
  },
  {
   "cell_type": "code",
   "execution_count": 163,
   "metadata": {},
   "outputs": [],
   "source": [
    "s = bin_tree_of_boolean.rhs.series(x)"
   ]
  },
  {
   "cell_type": "code",
   "execution_count": 164,
   "metadata": {},
   "outputs": [],
   "source": [
    "coeffs = [s.coeff(x,i).simplify() for i in range(6)]"
   ]
  },
  {
   "cell_type": "code",
   "execution_count": 165,
   "metadata": {},
   "outputs": [
    {
     "data": {
      "image/png": "[encoded data removed]",
      "text/latex": [
       "$$\\left [ 1 + y + 2 y^{2} + 5 y^{3} + 14 y^{4} + 42 y^{5} + 132 y^{6} + 429 y^{7} + 1430 y^{8} + 4862 y^{9} + O\\left(y^{10}\\right), \\quad 1 + 4 y + 15 y^{2} + 56 y^{3} + 210 y^{4} + 792 y^{5} + 3003 y^{6} + 11440 y^{7} + 43758 y^{8} + 167960 y^{9} + O\\left(y^{10}\\right), \\quad 2 + 15 y + 84 y^{2} + 420 y^{3} + 1980 y^{4} + 9009 y^{5} + 40040 y^{6} + 175032 y^{7} + 755820 y^{8} + 3233230 y^{9} + O\\left(y^{10}\\right), \\quad 5 + 56 y + 420 y^{2} + 2640 y^{3} + 15015 y^{4} + 80080 y^{5} + 408408 y^{6} + 2015520 y^{7} + 9699690 y^{8} + 45762640 y^{9} + O\\left(y^{10}\\right), \\quad 14 + 210 y + 1980 y^{2} + 15015 y^{3} + 100100 y^{4} + 612612 y^{5} + 3527160 y^{6} + 19399380 y^{7} + 102965940 y^{8} + 531173500 y^{9} + O\\left(y^{10}\\right), \\quad 42 + 792 y + 9009 y^{2} + 80080 y^{3} + 612612 y^{4} + 4232592 y^{5} + 27159132 y^{6} + 164745504 y^{7} + 956112300 y^{8} + 5354228880 y^{9} + O\\left(y^{10}\\right)\\right ]$$"
      ],
      "text/plain": [
       "⎡           2      3       4       5        6        7         8         9    \n",
       "⎣1 + y + 2⋅y  + 5⋅y  + 14⋅y  + 42⋅y  + 132⋅y  + 429⋅y  + 1430⋅y  + 4862⋅y  + O\n",
       "\n",
       "⎛ 10⎞                2       3        4        5         6          7         \n",
       "⎝y  ⎠, 1 + 4⋅y + 15⋅y  + 56⋅y  + 210⋅y  + 792⋅y  + 3003⋅y  + 11440⋅y  + 43758⋅\n",
       "\n",
       " 8           9    ⎛ 10⎞                 2        3         4         5        \n",
       "y  + 167960⋅y  + O⎝y  ⎠, 2 + 15⋅y + 84⋅y  + 420⋅y  + 1980⋅y  + 9009⋅y  + 40040\n",
       "\n",
       "  6           7           8            9    ⎛ 10⎞                  2         3\n",
       "⋅y  + 175032⋅y  + 755820⋅y  + 3233230⋅y  + O⎝y  ⎠, 5 + 56⋅y + 420⋅y  + 2640⋅y \n",
       "\n",
       "          4          5           6            7            8             9    \n",
       " + 15015⋅y  + 80080⋅y  + 408408⋅y  + 2015520⋅y  + 9699690⋅y  + 45762640⋅y  + O\n",
       "\n",
       "⎛ 10⎞                     2          3           4           5            6   \n",
       "⎝y  ⎠, 14 + 210⋅y + 1980⋅y  + 15015⋅y  + 100100⋅y  + 612612⋅y  + 3527160⋅y  + \n",
       "\n",
       "          7              8              9    ⎛ 10⎞                     2      \n",
       "19399380⋅y  + 102965940⋅y  + 531173500⋅y  + O⎝y  ⎠, 42 + 792⋅y + 9009⋅y  + 800\n",
       "\n",
       "    3           4            5             6              7              8    \n",
       "80⋅y  + 612612⋅y  + 4232592⋅y  + 27159132⋅y  + 164745504⋅y  + 956112300⋅y  + 5\n",
       "\n",
       "           9    ⎛ 10⎞⎤\n",
       "354228880⋅y  + O⎝y  ⎠⎦"
      ]
     },
     "execution_count": 165,
     "metadata": {},
     "output_type": "execute_result"
    }
   ],
   "source": [
    "ys = [c.series(y,n=10) for c in coeffs]\n",
    "ys"
   ]
  },
  {
   "cell_type": "code",
   "execution_count": 166,
   "metadata": {},
   "outputs": [
    {
     "data": {
      "image/png": "[encoded data removed]",
      "text/latex": [
       "$$\\left[\\begin{matrix}1 & 1 & 2 & 5 & 14 & 42\\\\1 & 4 & 15 & 56 & 210 & 792\\\\2 & 15 & 84 & 420 & 1980 & 9009\\\\5 & 56 & 420 & 2640 & 15015 & 80080\\\\14 & 210 & 1980 & 15015 & 100100 & 612612\\\\42 & 792 & 9009 & 80080 & 612612 & 4232592\\end{matrix}\\right]$$"
      ],
      "text/plain": [
       "⎡1    1    2      5      14      42   ⎤\n",
       "⎢                                     ⎥\n",
       "⎢1    4    15    56     210      792  ⎥\n",
       "⎢                                     ⎥\n",
       "⎢2   15    84    420    1980    9009  ⎥\n",
       "⎢                                     ⎥\n",
       "⎢5   56   420   2640   15015    80080 ⎥\n",
       "⎢                                     ⎥\n",
       "⎢14  210  1980  15015  100100  612612 ⎥\n",
       "⎢                                     ⎥\n",
       "⎣42  792  9009  80080  612612  4232592⎦"
      ]
     },
     "execution_count": 166,
     "metadata": {},
     "output_type": "execute_result"
    }
   ],
   "source": [
    "@lru_cache(maxsize=None)\n",
    "def col(j):\n",
    "    return s.coeff(x,j).simplify().series(y,n=dim)\n",
    "\n",
    "dim = 6\n",
    "Matrix(dim, dim, lambda i,j: ys[i].coeff(y,j))"
   ]
  },
  {
   "cell_type": "code",
   "execution_count": 268,
   "metadata": {},
   "outputs": [],
   "source": [
    "w = IndexedBase('w')"
   ]
  },
  {
   "cell_type": "code",
   "execution_count": 269,
   "metadata": {},
   "outputs": [
    {
     "data": {
      "image/png": "[encoded data removed]",
      "text/latex": [
       "$$\\times{\\left ({w}_{2},x,{w}_{0},{w}_{1} \\right )} = \\left(x {w}_{0} + 1\\right) \\left(x {w}_{1} + 1\\right) \\left(x {w}_{2} + 1\\right)$$"
      ],
      "text/plain": [
       "\\times(w[2], x, w[0], w[1]) = (x⋅w[0] + 1)⋅(x⋅w[1] + 1)⋅(x⋅w[2] + 1)"
      ]
     },
     "execution_count": 269,
     "metadata": {},
     "output_type": "execute_result"
    }
   ],
   "source": [
    "occupancy = cp(*[unit() | var(w[i]*x) for i in range(3)]).gf()\n",
    "occupancy"
   ]
  },
  {
   "cell_type": "code",
   "execution_count": 270,
   "metadata": {},
   "outputs": [
    {
     "data": {
      "image/png": "[encoded data removed]",
      "text/latex": [
       "$$x^{3} {w}_{0} {w}_{1} {w}_{2} + x^{2} \\left({w}_{0} {w}_{1} + {w}_{0} {w}_{2} + {w}_{1} {w}_{2}\\right) + x \\left({w}_{0} + {w}_{1} + {w}_{2}\\right) + 1$$"
      ],
      "text/plain": [
       " 3                   2                                                        \n",
       "x ⋅w[0]⋅w[1]⋅w[2] + x ⋅(w[0]⋅w[1] + w[0]⋅w[2] + w[1]⋅w[2]) + x⋅(w[0] + w[1] + \n",
       "\n",
       "         \n",
       "w[2]) + 1"
      ]
     },
     "execution_count": 270,
     "metadata": {},
     "output_type": "execute_result"
    }
   ],
   "source": [
    "occupancy.rhs.series(x)"
   ]
  },
  {
   "cell_type": "code",
   "execution_count": 271,
   "metadata": {},
   "outputs": [
    {
     "data": {
      "image/png": "[encoded data removed]",
      "text/latex": [
       "$$x^{3} + 3 x^{2} + 3 x + 1$$"
      ],
      "text/plain": [
       " 3      2          \n",
       "x  + 3⋅x  + 3⋅x + 1"
      ]
     },
     "execution_count": 271,
     "metadata": {},
     "output_type": "execute_result"
    }
   ],
   "source": [
    "with lift_to_Lambda(occupancy) as O:\n",
    "    o = O(1,x,1,1)\n",
    "o.series(x)"
   ]
  },
  {
   "cell_type": "code",
   "execution_count": 272,
   "metadata": {},
   "outputs": [
    {
     "data": {
      "image/png": "[encoded data removed]",
      "text/latex": [
       "$$\\times{\\left ({w}_{2},x,{w}_{0},{w}_{1} \\right )} = - \\frac{1}{\\left(x {w}_{0} - 1\\right) \\left(x {w}_{1} - 1\\right) \\left(x {w}_{2} - 1\\right)}$$"
      ],
      "text/plain": [
       "                                               -1                   \n",
       "\\times(w[2], x, w[0], w[1]) = ──────────────────────────────────────\n",
       "                              (x⋅w[0] - 1)⋅(x⋅w[1] - 1)⋅(x⋅w[2] - 1)"
      ]
     },
     "execution_count": 272,
     "metadata": {},
     "output_type": "execute_result"
    }
   ],
   "source": [
    "occupancy = cp(*[lst(var(w[i]*x)) for i in range(3)]).gf()\n",
    "occupancy"
   ]
  },
  {
   "cell_type": "code",
   "execution_count": 273,
   "metadata": {},
   "outputs": [
    {
     "data": {
      "image/png": "[encoded data removed]",
      "text/latex": [
       "$$1 + x \\left({w}_{0} + {w}_{1} + {w}_{2}\\right) + x^{2} \\left({w}_{0}^{2} + {w}_{0} {w}_{1} + {w}_{0} {w}_{2} + {w}_{1}^{2} + {w}_{1} {w}_{2} + {w}_{2}^{2}\\right) + x^{3} \\left({w}_{0}^{3} + {w}_{0}^{2} {w}_{1} + {w}_{0}^{2} {w}_{2} + {w}_{0} {w}_{1}^{2} + {w}_{0} {w}_{1} {w}_{2} + {w}_{0} {w}_{2}^{2} + {w}_{1}^{3} + {w}_{1}^{2} {w}_{2} + {w}_{1} {w}_{2}^{2} + {w}_{2}^{3}\\right) + x^{4} \\left({w}_{0}^{4} + {w}_{0}^{3} {w}_{1} + {w}_{0}^{3} {w}_{2} + {w}_{0}^{2} {w}_{1}^{2} + {w}_{0}^{2} {w}_{1} {w}_{2} + {w}_{0}^{2} {w}_{2}^{2} + {w}_{0} {w}_{1}^{3} + {w}_{0} {w}_{1}^{2} {w}_{2} + {w}_{0} {w}_{1} {w}_{2}^{2} + {w}_{0} {w}_{2}^{3} + {w}_{1}^{4} + {w}_{1}^{3} {w}_{2} + {w}_{1}^{2} {w}_{2}^{2} + {w}_{1} {w}_{2}^{3} + {w}_{2}^{4}\\right) + x^{5} \\left({w}_{0}^{5} + {w}_{0}^{4} {w}_{1} + {w}_{0}^{4} {w}_{2} + {w}_{0}^{3} {w}_{1}^{2} + {w}_{0}^{3} {w}_{1} {w}_{2} + {w}_{0}^{3} {w}_{2}^{2} + {w}_{0}^{2} {w}_{1}^{3} + {w}_{0}^{2} {w}_{1}^{2} {w}_{2} + {w}_{0}^{2} {w}_{1} {w}_{2}^{2} + {w}_{0}^{2} {w}_{2}^{3} + {w}_{0} {w}_{1}^{4} + {w}_{0} {w}_{1}^{3} {w}_{2} + {w}_{0} {w}_{1}^{2} {w}_{2}^{2} + {w}_{0} {w}_{1} {w}_{2}^{3} + {w}_{0} {w}_{2}^{4} + {w}_{1}^{5} + {w}_{1}^{4} {w}_{2} + {w}_{1}^{3} {w}_{2}^{2} + {w}_{1}^{2} {w}_{2}^{3} + {w}_{1} {w}_{2}^{4} + {w}_{2}^{5}\\right) + O\\left(x^{6}\\right)$$"
      ],
      "text/plain": [
       "                              2 ⎛    2                               2        \n",
       "1 + x⋅(w[0] + w[1] + w[2]) + x ⋅⎝w[0]  + w[0]⋅w[1] + w[0]⋅w[2] + w[1]  + w[1]⋅\n",
       "\n",
       "           2⎞    3 ⎛    3       2            2                 2              \n",
       "w[2] + w[2] ⎠ + x ⋅⎝w[0]  + w[0] ⋅w[1] + w[0] ⋅w[2] + w[0]⋅w[1]  + w[0]⋅w[1]⋅w\n",
       "\n",
       "               2       3       2                 2       3⎞    4 ⎛    4       \n",
       "[2] + w[0]⋅w[2]  + w[1]  + w[1] ⋅w[2] + w[1]⋅w[2]  + w[2] ⎠ + x ⋅⎝w[0]  + w[0]\n",
       "\n",
       "3            3            2     2       2                 2     2            3\n",
       " ⋅w[1] + w[0] ⋅w[2] + w[0] ⋅w[1]  + w[0] ⋅w[1]⋅w[2] + w[0] ⋅w[2]  + w[0]⋅w[1] \n",
       "\n",
       "            2                      2            3       4       3            2\n",
       " + w[0]⋅w[1] ⋅w[2] + w[0]⋅w[1]⋅w[2]  + w[0]⋅w[2]  + w[1]  + w[1] ⋅w[2] + w[1] \n",
       "\n",
       "     2            3       4⎞    5 ⎛    5       4            4            3    \n",
       "⋅w[2]  + w[1]⋅w[2]  + w[2] ⎠ + x ⋅⎝w[0]  + w[0] ⋅w[1] + w[0] ⋅w[2] + w[0] ⋅w[1\n",
       "\n",
       " 2       3                 3     2       2     3       2     2            2   \n",
       "]  + w[0] ⋅w[1]⋅w[2] + w[0] ⋅w[2]  + w[0] ⋅w[1]  + w[0] ⋅w[1] ⋅w[2] + w[0] ⋅w[\n",
       "\n",
       "       2       2     3            4            3                 2     2      \n",
       "1]⋅w[2]  + w[0] ⋅w[2]  + w[0]⋅w[1]  + w[0]⋅w[1] ⋅w[2] + w[0]⋅w[1] ⋅w[2]  + w[0\n",
       "\n",
       "           3            4       5       4            3     2       2     3    \n",
       "]⋅w[1]⋅w[2]  + w[0]⋅w[2]  + w[1]  + w[1] ⋅w[2] + w[1] ⋅w[2]  + w[1] ⋅w[2]  + w\n",
       "\n",
       "        4       5⎞    ⎛ 6⎞\n",
       "[1]⋅w[2]  + w[2] ⎠ + O⎝x ⎠"
      ]
     },
     "execution_count": 273,
     "metadata": {},
     "output_type": "execute_result"
    }
   ],
   "source": [
    "occupancy.rhs.series(x)"
   ]
  },
  {
   "cell_type": "code",
   "execution_count": 274,
   "metadata": {},
   "outputs": [
    {
     "data": {
      "image/png": "[encoded data removed]",
      "text/latex": [
       "$$\\mathcal{L}{\\left ({w}_{2},x,{w}_{0},{w}_{3},{w}_{1} \\right )} = - \\frac{1}{x {w}_{0} + x {w}_{1} + x {w}_{2} + x {w}_{3} - 1}$$"
      ],
      "text/plain": [
       "                                                          -1                  \n",
       "\\mathcal{L}(w[2], x, w[0], w[3], w[1]) = ─────────────────────────────────────\n",
       "                                         x⋅w[0] + x⋅w[1] + x⋅w[2] + x⋅w[3] - 1"
      ]
     },
     "execution_count": 274,
     "metadata": {},
     "output_type": "execute_result"
    }
   ],
   "source": [
    "occupancy = lst(var(w[0]*x) | var(w[1]*x) | var(w[2]*x) | var(w[3]*x)).gf()\n",
    "occupancy"
   ]
  },
  {
   "cell_type": "code",
   "execution_count": 225,
   "metadata": {},
   "outputs": [
    {
     "data": {
      "image/png": "[encoded data removed]",
      "text/latex": [
       "$$1 + x \\left({w}_{0} + {w}_{1} + {w}_{2} + {w}_{3}\\right) + x^{2} \\left({w}_{0}^{2} + 2 {w}_{0} {w}_{1} + 2 {w}_{0} {w}_{2} + 2 {w}_{0} {w}_{3} + {w}_{1}^{2} + 2 {w}_{1} {w}_{2} + 2 {w}_{1} {w}_{3} + {w}_{2}^{2} + 2 {w}_{2} {w}_{3} + {w}_{3}^{2}\\right) + x^{3} \\left({w}_{0}^{3} + 3 {w}_{0}^{2} {w}_{1} + 3 {w}_{0}^{2} {w}_{2} + 3 {w}_{0}^{2} {w}_{3} + 3 {w}_{0} {w}_{1}^{2} + 6 {w}_{0} {w}_{1} {w}_{2} + 6 {w}_{0} {w}_{1} {w}_{3} + 3 {w}_{0} {w}_{2}^{2} + 6 {w}_{0} {w}_{2} {w}_{3} + 3 {w}_{0} {w}_{3}^{2} + {w}_{1}^{3} + 3 {w}_{1}^{2} {w}_{2} + 3 {w}_{1}^{2} {w}_{3} + 3 {w}_{1} {w}_{2}^{2} + 6 {w}_{1} {w}_{2} {w}_{3} + 3 {w}_{1} {w}_{3}^{2} + {w}_{2}^{3} + 3 {w}_{2}^{2} {w}_{3} + 3 {w}_{2} {w}_{3}^{2} + {w}_{3}^{3}\\right) + x^{4} \\left({w}_{0}^{4} + 4 {w}_{0}^{3} {w}_{1} + 4 {w}_{0}^{3} {w}_{2} + 4 {w}_{0}^{3} {w}_{3} + 6 {w}_{0}^{2} {w}_{1}^{2} + 12 {w}_{0}^{2} {w}_{1} {w}_{2} + 12 {w}_{0}^{2} {w}_{1} {w}_{3} + 6 {w}_{0}^{2} {w}_{2}^{2} + 12 {w}_{0}^{2} {w}_{2} {w}_{3} + 6 {w}_{0}^{2} {w}_{3}^{2} + 4 {w}_{0} {w}_{1}^{3} + 12 {w}_{0} {w}_{1}^{2} {w}_{2} + 12 {w}_{0} {w}_{1}^{2} {w}_{3} + 12 {w}_{0} {w}_{1} {w}_{2}^{2} + 24 {w}_{0} {w}_{1} {w}_{2} {w}_{3} + 12 {w}_{0} {w}_{1} {w}_{3}^{2} + 4 {w}_{0} {w}_{2}^{3} + 12 {w}_{0} {w}_{2}^{2} {w}_{3} + 12 {w}_{0} {w}_{2} {w}_{3}^{2} + 4 {w}_{0} {w}_{3}^{3} + {w}_{1}^{4} + 4 {w}_{1}^{3} {w}_{2} + 4 {w}_{1}^{3} {w}_{3} + 6 {w}_{1}^{2} {w}_{2}^{2} + 12 {w}_{1}^{2} {w}_{2} {w}_{3} + 6 {w}_{1}^{2} {w}_{3}^{2} + 4 {w}_{1} {w}_{2}^{3} + 12 {w}_{1} {w}_{2}^{2} {w}_{3} + 12 {w}_{1} {w}_{2} {w}_{3}^{2} + 4 {w}_{1} {w}_{3}^{3} + {w}_{2}^{4} + 4 {w}_{2}^{3} {w}_{3} + 6 {w}_{2}^{2} {w}_{3}^{2} + 4 {w}_{2} {w}_{3}^{3} + {w}_{3}^{4}\\right) + x^{5} \\left({w}_{0}^{5} + 5 {w}_{0}^{4} {w}_{1} + 5 {w}_{0}^{4} {w}_{2} + 5 {w}_{0}^{4} {w}_{3} + 10 {w}_{0}^{3} {w}_{1}^{2} + 20 {w}_{0}^{3} {w}_{1} {w}_{2} + 20 {w}_{0}^{3} {w}_{1} {w}_{3} + 10 {w}_{0}^{3} {w}_{2}^{2} + 20 {w}_{0}^{3} {w}_{2} {w}_{3} + 10 {w}_{0}^{3} {w}_{3}^{2} + 10 {w}_{0}^{2} {w}_{1}^{3} + 30 {w}_{0}^{2} {w}_{1}^{2} {w}_{2} + 30 {w}_{0}^{2} {w}_{1}^{2} {w}_{3} + 30 {w}_{0}^{2} {w}_{1} {w}_{2}^{2} + 60 {w}_{0}^{2} {w}_{1} {w}_{2} {w}_{3} + 30 {w}_{0}^{2} {w}_{1} {w}_{3}^{2} + 10 {w}_{0}^{2} {w}_{2}^{3} + 30 {w}_{0}^{2} {w}_{2}^{2} {w}_{3} + 30 {w}_{0}^{2} {w}_{2} {w}_{3}^{2} + 10 {w}_{0}^{2} {w}_{3}^{3} + 5 {w}_{0} {w}_{1}^{4} + 20 {w}_{0} {w}_{1}^{3} {w}_{2} + 20 {w}_{0} {w}_{1}^{3} {w}_{3} + 30 {w}_{0} {w}_{1}^{2} {w}_{2}^{2} + 60 {w}_{0} {w}_{1}^{2} {w}_{2} {w}_{3} + 30 {w}_{0} {w}_{1}^{2} {w}_{3}^{2} + 20 {w}_{0} {w}_{1} {w}_{2}^{3} + 60 {w}_{0} {w}_{1} {w}_{2}^{2} {w}_{3} + 60 {w}_{0} {w}_{1} {w}_{2} {w}_{3}^{2} + 20 {w}_{0} {w}_{1} {w}_{3}^{3} + 5 {w}_{0} {w}_{2}^{4} + 20 {w}_{0} {w}_{2}^{3} {w}_{3} + 30 {w}_{0} {w}_{2}^{2} {w}_{3}^{2} + 20 {w}_{0} {w}_{2} {w}_{3}^{3} + 5 {w}_{0} {w}_{3}^{4} + {w}_{1}^{5} + 5 {w}_{1}^{4} {w}_{2} + 5 {w}_{1}^{4} {w}_{3} + 10 {w}_{1}^{3} {w}_{2}^{2} + 20 {w}_{1}^{3} {w}_{2} {w}_{3} + 10 {w}_{1}^{3} {w}_{3}^{2} + 10 {w}_{1}^{2} {w}_{2}^{3} + 30 {w}_{1}^{2} {w}_{2}^{2} {w}_{3} + 30 {w}_{1}^{2} {w}_{2} {w}_{3}^{2} + 10 {w}_{1}^{2} {w}_{3}^{3} + 5 {w}_{1} {w}_{2}^{4} + 20 {w}_{1} {w}_{2}^{3} {w}_{3} + 30 {w}_{1} {w}_{2}^{2} {w}_{3}^{2} + 20 {w}_{1} {w}_{2} {w}_{3}^{3} + 5 {w}_{1} {w}_{3}^{4} + {w}_{2}^{5} + 5 {w}_{2}^{4} {w}_{3} + 10 {w}_{2}^{3} {w}_{3}^{2} + 10 {w}_{2}^{2} {w}_{3}^{3} + 5 {w}_{2} {w}_{3}^{4} + {w}_{3}^{5}\\right) + O\\left(x^{6}\\right)$$"
      ],
      "text/plain": [
       "                                     2 ⎛    2                                 \n",
       "1 + x⋅(w[0] + w[1] + w[2] + w[3]) + x ⋅⎝w[0]  + 2⋅w[0]⋅w[1] + 2⋅w[0]⋅w[2] + 2⋅\n",
       "\n",
       "                2                                   2                     2⎞  \n",
       "w[0]⋅w[3] + w[1]  + 2⋅w[1]⋅w[2] + 2⋅w[1]⋅w[3] + w[2]  + 2⋅w[2]⋅w[3] + w[3] ⎠ +\n",
       "\n",
       "  3 ⎛    3         2              2              2                   2        \n",
       " x ⋅⎝w[0]  + 3⋅w[0] ⋅w[1] + 3⋅w[0] ⋅w[2] + 3⋅w[0] ⋅w[3] + 3⋅w[0]⋅w[1]  + 6⋅w[0\n",
       "\n",
       "                                            2                                 \n",
       "]⋅w[1]⋅w[2] + 6⋅w[0]⋅w[1]⋅w[3] + 3⋅w[0]⋅w[2]  + 6⋅w[0]⋅w[2]⋅w[3] + 3⋅w[0]⋅w[3]\n",
       "\n",
       "2       3         2              2                   2                        \n",
       "  + w[1]  + 3⋅w[1] ⋅w[2] + 3⋅w[1] ⋅w[3] + 3⋅w[1]⋅w[2]  + 6⋅w[1]⋅w[2]⋅w[3] + 3⋅\n",
       "\n",
       "         2       3         2                   2       3⎞    4 ⎛    4         \n",
       "w[1]⋅w[3]  + w[2]  + 3⋅w[2] ⋅w[3] + 3⋅w[2]⋅w[3]  + w[3] ⎠ + x ⋅⎝w[0]  + 4⋅w[0]\n",
       "\n",
       "3              3              3              2     2          2               \n",
       " ⋅w[1] + 4⋅w[0] ⋅w[2] + 4⋅w[0] ⋅w[3] + 6⋅w[0] ⋅w[1]  + 12⋅w[0] ⋅w[1]⋅w[2] + 12\n",
       "\n",
       "     2                   2     2          2                   2     2         \n",
       "⋅w[0] ⋅w[1]⋅w[3] + 6⋅w[0] ⋅w[2]  + 12⋅w[0] ⋅w[2]⋅w[3] + 6⋅w[0] ⋅w[3]  + 4⋅w[0]\n",
       "\n",
       "     3               2                    2                         2         \n",
       "⋅w[1]  + 12⋅w[0]⋅w[1] ⋅w[2] + 12⋅w[0]⋅w[1] ⋅w[3] + 12⋅w[0]⋅w[1]⋅w[2]  + 24⋅w[0\n",
       "\n",
       "                                    2              3               2          \n",
       "]⋅w[1]⋅w[2]⋅w[3] + 12⋅w[0]⋅w[1]⋅w[3]  + 4⋅w[0]⋅w[2]  + 12⋅w[0]⋅w[2] ⋅w[3] + 12\n",
       "\n",
       "               2              3       4         3              3              \n",
       "⋅w[0]⋅w[2]⋅w[3]  + 4⋅w[0]⋅w[3]  + w[1]  + 4⋅w[1] ⋅w[2] + 4⋅w[1] ⋅w[3] + 6⋅w[1]\n",
       "\n",
       "2     2          2                   2     2              3               2   \n",
       " ⋅w[2]  + 12⋅w[1] ⋅w[2]⋅w[3] + 6⋅w[1] ⋅w[3]  + 4⋅w[1]⋅w[2]  + 12⋅w[1]⋅w[2] ⋅w[\n",
       "\n",
       "                      2              3       4         3              2     2 \n",
       "3] + 12⋅w[1]⋅w[2]⋅w[3]  + 4⋅w[1]⋅w[3]  + w[2]  + 4⋅w[2] ⋅w[3] + 6⋅w[2] ⋅w[3]  \n",
       "\n",
       "             3       4⎞    5 ⎛    5         4              4              4   \n",
       "+ 4⋅w[2]⋅w[3]  + w[3] ⎠ + x ⋅⎝w[0]  + 5⋅w[0] ⋅w[1] + 5⋅w[0] ⋅w[2] + 5⋅w[0] ⋅w[\n",
       "\n",
       "            3     2          3                    3                    3     2\n",
       "3] + 10⋅w[0] ⋅w[1]  + 20⋅w[0] ⋅w[1]⋅w[2] + 20⋅w[0] ⋅w[1]⋅w[3] + 10⋅w[0] ⋅w[2] \n",
       "\n",
       "          3                    3     2          2     3          2     2      \n",
       " + 20⋅w[0] ⋅w[2]⋅w[3] + 10⋅w[0] ⋅w[3]  + 10⋅w[0] ⋅w[1]  + 30⋅w[0] ⋅w[1] ⋅w[2] \n",
       "\n",
       "         2     2               2          2          2                        \n",
       "+ 30⋅w[0] ⋅w[1] ⋅w[3] + 30⋅w[0] ⋅w[1]⋅w[2]  + 60⋅w[0] ⋅w[1]⋅w[2]⋅w[3] + 30⋅w[0\n",
       "\n",
       " 2          2          2     3          2     2               2          2    \n",
       "] ⋅w[1]⋅w[3]  + 10⋅w[0] ⋅w[2]  + 30⋅w[0] ⋅w[2] ⋅w[3] + 30⋅w[0] ⋅w[2]⋅w[3]  + 1\n",
       "\n",
       "      2     3              4               3                    3             \n",
       "0⋅w[0] ⋅w[3]  + 5⋅w[0]⋅w[1]  + 20⋅w[0]⋅w[1] ⋅w[2] + 20⋅w[0]⋅w[1] ⋅w[3] + 30⋅w[\n",
       "\n",
       "       2     2               2                         2     2                \n",
       "0]⋅w[1] ⋅w[2]  + 60⋅w[0]⋅w[1] ⋅w[2]⋅w[3] + 30⋅w[0]⋅w[1] ⋅w[3]  + 20⋅w[0]⋅w[1]⋅\n",
       "\n",
       "    3                    2                              2                    3\n",
       "w[2]  + 60⋅w[0]⋅w[1]⋅w[2] ⋅w[3] + 60⋅w[0]⋅w[1]⋅w[2]⋅w[3]  + 20⋅w[0]⋅w[1]⋅w[3] \n",
       "\n",
       "              4               3                    2     2                    \n",
       " + 5⋅w[0]⋅w[2]  + 20⋅w[0]⋅w[2] ⋅w[3] + 30⋅w[0]⋅w[2] ⋅w[3]  + 20⋅w[0]⋅w[2]⋅w[3]\n",
       "\n",
       "3              4       5         4              4               3     2       \n",
       "  + 5⋅w[0]⋅w[3]  + w[1]  + 5⋅w[1] ⋅w[2] + 5⋅w[1] ⋅w[3] + 10⋅w[1] ⋅w[2]  + 20⋅w\n",
       "\n",
       "   3                    3     2          2     3          2     2             \n",
       "[1] ⋅w[2]⋅w[3] + 10⋅w[1] ⋅w[3]  + 10⋅w[1] ⋅w[2]  + 30⋅w[1] ⋅w[2] ⋅w[3] + 30⋅w[\n",
       "\n",
       "  2          2          2     3              4               3                \n",
       "1] ⋅w[2]⋅w[3]  + 10⋅w[1] ⋅w[3]  + 5⋅w[1]⋅w[2]  + 20⋅w[1]⋅w[2] ⋅w[3] + 30⋅w[1]⋅\n",
       "\n",
       "    2     2                    3              4       5         4             \n",
       "w[2] ⋅w[3]  + 20⋅w[1]⋅w[2]⋅w[3]  + 5⋅w[1]⋅w[3]  + w[2]  + 5⋅w[2] ⋅w[3] + 10⋅w[\n",
       "\n",
       "  3     2          2     3              4       5⎞    ⎛ 6⎞\n",
       "2] ⋅w[3]  + 10⋅w[2] ⋅w[3]  + 5⋅w[2]⋅w[3]  + w[3] ⎠ + O⎝x ⎠"
      ]
     },
     "execution_count": 225,
     "metadata": {},
     "output_type": "execute_result"
    }
   ],
   "source": [
    "occupancy.rhs.series(x)"
   ]
  },
  {
   "cell_type": "code",
   "execution_count": 345,
   "metadata": {},
   "outputs": [],
   "source": [
    "class lst_structure_w(rec):\n",
    "         \n",
    "    def definition(self):\n",
    "        alpha, = self.types\n",
    "        me = self.me()\n",
    "        return alpha | (lst(me))\n",
    "    \n",
    "    def label(self):\n",
    "        return r'\\mathcal{L}_{w}' # `_s` stands for \"structure\""
   ]
  },
  {
   "cell_type": "code",
   "execution_count": 346,
   "metadata": {},
   "outputs": [
    {
     "data": {
      "image/png": "[encoded data removed]",
      "text/latex": [
       "$$\\mathcal{L}_{w}{\\left (\\alpha \\right )} = \\frac{\\alpha}{2} - \\frac{\\sqrt{\\left(\\alpha - 3\\right) \\left(\\alpha + 1\\right)}}{2} + \\frac{1}{2}$$"
      ],
      "text/plain": [
       "                                     ___________________________    \n",
       "                          \\alpha   ╲╱ (\\alpha - 3)⋅(\\alpha + 1)    1\n",
       "\\mathcal{L}_{w}(\\alpha) = ────── - ───────────────────────────── + ─\n",
       "                            2                    2                 2"
      ]
     },
     "execution_count": 346,
     "metadata": {},
     "output_type": "execute_result"
    }
   ],
   "source": [
    "lst_structure_w(var(alpha)).gf(constraints={})"
   ]
  },
  {
   "cell_type": "code",
   "execution_count": 347,
   "metadata": {},
   "outputs": [
    {
     "data": {
      "image/png": "[encoded data removed]",
      "text/latex": [
       "$$- \\frac{\\sqrt{3} i}{2} + \\frac{1}{2} + \\alpha \\left(\\frac{1}{2} - \\frac{\\sqrt{3} i}{6}\\right) + \\frac{\\sqrt{3} i \\alpha^{2}}{9} - \\frac{\\sqrt{3} i \\alpha^{3}}{27} + \\frac{2 \\sqrt{3} i \\alpha^{4}}{81} - \\frac{4 \\sqrt{3} i \\alpha^{5}}{243} + \\frac{\\sqrt{3} i \\alpha^{6}}{81} - \\frac{7 \\sqrt{3} i \\alpha^{7}}{729} + \\frac{17 \\sqrt{3} i \\alpha^{8}}{2187} - \\frac{127 \\sqrt{3} i \\alpha^{9}}{19683} + O\\left(\\alpha^{10}\\right)$$"
      ],
      "text/plain": [
       "                                            2              3                4 \n",
       "  √3⋅ⅈ   1          ⎛1   √3⋅ⅈ⎞   √3⋅ⅈ⋅\\alpha    √3⋅ⅈ⋅\\alpha    2⋅√3⋅ⅈ⋅\\alpha  \n",
       "- ──── + ─ + \\alpha⋅⎜─ - ────⎟ + ──────────── - ──────────── + ────────────── \n",
       "   2     2          ⎝2    6  ⎠        9              27              81       \n",
       "\n",
       "               5              6                7                 8            \n",
       "  4⋅√3⋅ⅈ⋅\\alpha    √3⋅ⅈ⋅\\alpha    7⋅√3⋅ⅈ⋅\\alpha    17⋅√3⋅ⅈ⋅\\alpha    127⋅√3⋅ⅈ⋅\n",
       "- ────────────── + ──────────── - ────────────── + ─────────────── - ─────────\n",
       "       243              81             729               2187             1968\n",
       "\n",
       "      9              \n",
       "\\alpha     ⎛      10⎞\n",
       "─────── + O⎝\\alpha  ⎠\n",
       "3                    "
      ]
     },
     "execution_count": 347,
     "metadata": {},
     "output_type": "execute_result"
    }
   ],
   "source": [
    "_.rhs.series(alpha,n=10)"
   ]
  },
  {
   "cell_type": "code",
   "execution_count": 328,
   "metadata": {},
   "outputs": [],
   "source": [
    "class lst_structure(rec):\n",
    "         \n",
    "    def definition(self):\n",
    "        alpha, = self.types\n",
    "        me = self.me()\n",
    "        return alpha | (lst(me) * me * me)\n",
    "    \n",
    "    def label(self):\n",
    "        return r'\\mathcal{L}_{s}' # `_s` stands for \"structure\""
   ]
  },
  {
   "cell_type": "code",
   "execution_count": 337,
   "metadata": {},
   "outputs": [
    {
     "data": {
      "image/png": "[encoded data removed]",
      "text/latex": [
       "$$\\mathcal{L}_{s}{\\left (\\alpha \\right )} = \\frac{\\alpha}{4} - \\frac{\\sqrt{\\alpha^{2} - 6 \\alpha + 1}}{4} + \\frac{1}{4}$$"
      ],
      "text/plain": [
       "                                      ________________________    \n",
       "                                     ╱       2                    \n",
       "                          \\alpha   ╲╱  \\alpha  - 6⋅\\alpha + 1    1\n",
       "\\mathcal{L}_{s}(\\alpha) = ────── - ─────────────────────────── + ─\n",
       "                            4                   4                4"
      ]
     },
     "execution_count": 337,
     "metadata": {},
     "output_type": "execute_result"
    }
   ],
   "source": [
    "lst_structure(var(alpha)).gf(constraints={})"
   ]
  },
  {
   "cell_type": "code",
   "execution_count": 338,
   "metadata": {},
   "outputs": [
    {
     "data": {
      "image/png": "[encoded data removed]",
      "text/latex": [
       "$$\\alpha + \\alpha^{2} + 3 \\alpha^{3} + 11 \\alpha^{4} + 45 \\alpha^{5} + 197 \\alpha^{6} + 903 \\alpha^{7} + 4279 \\alpha^{8} + 20793 \\alpha^{9} + O\\left(\\alpha^{10}\\right)$$"
      ],
      "text/plain": [
       "               2           3            4            5             6          \n",
       "\\alpha + \\alpha  + 3⋅\\alpha  + 11⋅\\alpha  + 45⋅\\alpha  + 197⋅\\alpha  + 903⋅\\al\n",
       "\n",
       "   7              8               9    ⎛      10⎞\n",
       "pha  + 4279⋅\\alpha  + 20793⋅\\alpha  + O⎝\\alpha  ⎠"
      ]
     },
     "execution_count": 338,
     "metadata": {},
     "output_type": "execute_result"
    }
   ],
   "source": [
    "_.rhs.series(alpha,n=10)"
   ]
  },
  {
   "cell_type": "code",
   "execution_count": 335,
   "metadata": {},
   "outputs": [],
   "source": [
    "class tree(rec):\n",
    "         \n",
    "    def definition(self):\n",
    "        alpha, = self.types\n",
    "        return alpha * lst(self.me())\n",
    "    \n",
    "    def label(self):\n",
    "        return r'\\mathcal{T}' # `_s` stands for \"structure\""
   ]
  },
  {
   "cell_type": "code",
   "execution_count": 336,
   "metadata": {},
   "outputs": [
    {
     "name": "stdout",
     "output_type": "stream",
     "text": [
      "0\n"
     ]
    },
    {
     "data": {
      "image/png": "[encoded data removed]",
      "text/latex": [
       "$$\\mathcal{T}{\\left (\\alpha \\right )} = - \\frac{\\sqrt{- 4 \\alpha + 1}}{2} + \\frac{1}{2}$$"
      ],
      "text/plain": [
       "                          _______________    \n",
       "                        ╲╱ -4⋅\\alpha + 1    1\n",
       "\\mathcal{T}(\\alpha) = - ───────────────── + ─\n",
       "                                2           2"
      ]
     },
     "execution_count": 336,
     "metadata": {},
     "output_type": "execute_result"
    }
   ],
   "source": [
    "tree(var(alpha)).gf(constraints={(0,):0})"
   ]
  },
  {
   "cell_type": "code",
   "execution_count": 334,
   "metadata": {},
   "outputs": [
    {
     "data": {
      "image/png": "[encoded data removed]",
      "text/latex": [
       "$$\\alpha + \\alpha^{2} + 2 \\alpha^{3} + 5 \\alpha^{4} + 14 \\alpha^{5} + 42 \\alpha^{6} + 132 \\alpha^{7} + 429 \\alpha^{8} + 1430 \\alpha^{9} + O\\left(\\alpha^{10}\\right)$$"
      ],
      "text/plain": [
       "               2           3           4            5            6            \n",
       "\\alpha + \\alpha  + 2⋅\\alpha  + 5⋅\\alpha  + 14⋅\\alpha  + 42⋅\\alpha  + 132⋅\\alph\n",
       "\n",
       " 7             8              9    ⎛      10⎞\n",
       "a  + 429⋅\\alpha  + 1430⋅\\alpha  + O⎝\\alpha  ⎠"
      ]
     },
     "execution_count": 334,
     "metadata": {},
     "output_type": "execute_result"
    }
   ],
   "source": [
    "_.rhs.series(alpha, n=10)"
   ]
  },
  {
   "cell_type": "code",
   "execution_count": 351,
   "metadata": {},
   "outputs": [],
   "source": [
    "class combination(rec):\n",
    "         \n",
    "    def definition(self):\n",
    "        alpha, = self.types\n",
    "        me = self.me()\n",
    "        return alpha | (me * me)\n",
    "    \n",
    "    def label(self):\n",
    "        return r'\\mathcal{C}' # `_s` stands for \"structure\""
   ]
  },
  {
   "cell_type": "code",
   "execution_count": 354,
   "metadata": {},
   "outputs": [
    {
     "data": {
      "image/png": "[encoded data removed]",
      "text/latex": [
       "$$\\mathcal{C}{\\left (\\alpha \\right )} = - \\frac{\\sqrt{- 4 \\alpha + 1}}{2} + \\frac{1}{2}$$"
      ],
      "text/plain": [
       "                          _______________    \n",
       "                        ╲╱ -4⋅\\alpha + 1    1\n",
       "\\mathcal{C}(\\alpha) = - ───────────────── + ─\n",
       "                                2           2"
      ]
     },
     "execution_count": 354,
     "metadata": {},
     "output_type": "execute_result"
    }
   ],
   "source": [
    "combination(var(alpha)).gf(constraints={})"
   ]
  },
  {
   "cell_type": "code",
   "execution_count": 355,
   "metadata": {},
   "outputs": [
    {
     "data": {
      "image/png": "[encoded data removed]",
      "text/latex": [
       "$$\\alpha + \\alpha^{2} + 2 \\alpha^{3} + 5 \\alpha^{4} + 14 \\alpha^{5} + 42 \\alpha^{6} + 132 \\alpha^{7} + 429 \\alpha^{8} + 1430 \\alpha^{9} + O\\left(\\alpha^{10}\\right)$$"
      ],
      "text/plain": [
       "               2           3           4            5            6            \n",
       "\\alpha + \\alpha  + 2⋅\\alpha  + 5⋅\\alpha  + 14⋅\\alpha  + 42⋅\\alpha  + 132⋅\\alph\n",
       "\n",
       " 7             8              9    ⎛      10⎞\n",
       "a  + 429⋅\\alpha  + 1430⋅\\alpha  + O⎝\\alpha  ⎠"
      ]
     },
     "execution_count": 355,
     "metadata": {},
     "output_type": "execute_result"
    }
   ],
   "source": [
    "_.rhs.series(alpha, n=10)"
   ]
  },
  {
   "cell_type": "code",
   "execution_count": 356,
   "metadata": {},
   "outputs": [],
   "source": [
    "class ab_tree(rec):\n",
    "         \n",
    "    def definition(self):\n",
    "        alpha, beta, = self.types\n",
    "        me = self.me()\n",
    "        return beta | (alpha * me * me)\n",
    "    \n",
    "    def label(self):\n",
    "        return r'\\mathcal{T}_{a,b}' # `_s` stands for \"structure\""
   ]
  },
  {
   "cell_type": "code",
   "execution_count": 360,
   "metadata": {},
   "outputs": [
    {
     "name": "stdout",
     "output_type": "stream",
     "text": [
      "0\n"
     ]
    },
    {
     "data": {
      "image/png": "[encoded data removed]",
      "text/latex": [
       "$$\\mathcal{T}_{a,b}{\\left (\\alpha,\\beta \\right )} = \\frac{- \\sqrt{- 4 \\alpha \\beta + 1} + 1}{2 \\alpha}$$"
      ],
      "text/plain": [
       "                                       _____________________    \n",
       "                                   - ╲╱ -4⋅\\alpha⋅\\beta + 1  + 1\n",
       "\\mathcal{T}_{a,b}(\\alpha, \\beta) = ─────────────────────────────\n",
       "                                              2⋅\\alpha          "
      ]
     },
     "execution_count": 360,
     "metadata": {},
     "output_type": "execute_result"
    }
   ],
   "source": [
    "ab_tree(var(alpha), var(beta)).gf(constraints={(0,0):0})"
   ]
  },
  {
   "cell_type": "code",
   "execution_count": 361,
   "metadata": {},
   "outputs": [
    {
     "data": {
      "image/png": "[encoded data removed]",
      "text/latex": [
       "$$\\beta + \\alpha \\beta^{2} + 2 \\alpha^{2} \\beta^{3} + 5 \\alpha^{3} \\beta^{4} + 14 \\alpha^{4} \\beta^{5} + 42 \\alpha^{5} \\beta^{6} + 132 \\alpha^{6} \\beta^{7} + 429 \\alpha^{7} \\beta^{8} + 1430 \\alpha^{8} \\beta^{9} + O\\left(\\beta^{10}\\right)$$"
      ],
      "text/plain": [
       "                    2           2      3           3      4            4      \n",
       "\\beta + \\alpha⋅\\beta  + 2⋅\\alpha ⋅\\beta  + 5⋅\\alpha ⋅\\beta  + 14⋅\\alpha ⋅\\beta\n",
       "\n",
       "5            5      6             6      7             7      8              8\n",
       "  + 42⋅\\alpha ⋅\\beta  + 132⋅\\alpha ⋅\\beta  + 429⋅\\alpha ⋅\\beta  + 1430⋅\\alpha \n",
       "\n",
       "      9    ⎛     10⎞\n",
       "⋅\\beta  + O⎝\\beta  ⎠"
      ]
     },
     "execution_count": 361,
     "metadata": {},
     "output_type": "execute_result"
    }
   ],
   "source": [
    "_.rhs.series(beta, n=10)"
   ]
  },
  {
   "cell_type": "markdown",
   "metadata": {},
   "source": [
    "---\n",
    "<a rel=\"license\" href=\"http://creativecommons.org/licenses/by-nc-sa/4.0/\"><img alt=\"Creative Commons License\" style=\"border-width:0\" src=\"https://i.creativecommons.org/l/by-nc-sa/4.0/88x31.png\" /></a><br />This work is licensed under a <a rel=\"license\" href=\"http://creativecommons.org/licenses/by-nc-sa/4.0/\">Creative Commons Attribution-NonCommercial-ShareAlike 4.0 International License</a>."
   ]
  }
 ],
 "metadata": {
  "kernelspec": {
   "display_name": "Python 3",
   "language": "python",
   "name": "python3"
  },
  "language_info": {
   "codemirror_mode": {
    "name": "ipython",
    "version": 3
   },
   "file_extension": ".py",
   "mimetype": "text/x-python",
   "name": "python",
   "nbconvert_exporter": "python",
   "pygments_lexer": "ipython3",
   "version": "3.7.1"
  }
 },
 "nbformat": 4,
 "nbformat_minor": 2
}
